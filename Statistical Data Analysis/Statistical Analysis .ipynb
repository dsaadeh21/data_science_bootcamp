{
 "cells": [
  {
   "cell_type": "markdown",
   "metadata": {},
   "source": [
    "## Initialization"
   ]
  },
  {
   "cell_type": "code",
   "execution_count": 1,
   "metadata": {},
   "outputs": [
    {
     "data": {
      "text/html": [
       "        <script type=\"text/javascript\">\n",
       "        window.PlotlyConfig = {MathJaxConfig: 'local'};\n",
       "        if (window.MathJax) {MathJax.Hub.Config({SVG: {font: \"STIX-Web\"}});}\n",
       "        if (typeof require !== 'undefined') {\n",
       "        require.undef(\"plotly\");\n",
       "        requirejs.config({\n",
       "            paths: {\n",
       "                'plotly': ['https://cdn.plot.ly/plotly-2.6.3.min']\n",
       "            }\n",
       "        });\n",
       "        require(['plotly'], function(Plotly) {\n",
       "            window._Plotly = Plotly;\n",
       "        });\n",
       "        }\n",
       "        </script>\n",
       "        "
      ]
     },
     "metadata": {},
     "output_type": "display_data"
    }
   ],
   "source": [
    "# Loading all the libraries\n",
    "import pandas as pd\n",
    "import seaborn as sb\n",
    "from scipy import stats as st\n",
    "import numpy as np\n",
    "from math import factorial\n",
    "from functools import reduce\n",
    "%matplotlib inline\n",
    "import matplotlib.pyplot as plt\n",
    "from plotly.offline import iplot, init_notebook_mode\n",
    "init_notebook_mode(connected=True)\n",
    "\n",
    "\n",
    "            \n"
   ]
  },
  {
   "cell_type": "markdown",
   "metadata": {},
   "source": [
    "## Load data"
   ]
  },
  {
   "cell_type": "code",
   "execution_count": 2,
   "metadata": {},
   "outputs": [],
   "source": [
    "# Load the data files into different DataFrames\n",
    "calls = pd.read_csv(\"/datasets/megaline_calls.csv\")\n",
    "internet = pd.read_csv(\"/datasets/megaline_internet.csv\")\n",
    "messages = pd.read_csv(\"/datasets/megaline_messages.csv\")\n",
    "plans = pd.read_csv(\"/datasets/megaline_plans.csv\")\n",
    "users = pd.read_csv(\"/datasets/megaline_users.csv\")\n"
   ]
  },
  {
   "cell_type": "markdown",
   "metadata": {},
   "source": [
    "## Prepare the data"
   ]
  },
  {
   "cell_type": "markdown",
   "metadata": {},
   "source": [
    "* I will go through each dataframe and check to determine if they contain any problematic values such as missing values or incorrect datatypes, duplicates, etc."
   ]
  },
  {
   "cell_type": "markdown",
   "metadata": {},
   "source": [
    "* Calls Table: \n",
    "* No missing values\n",
    "* The call_date column is currently \"object\" type, but should be converted to datetime object type\n",
    "* No duplicate rows"
   ]
  },
  {
   "cell_type": "markdown",
   "metadata": {},
   "source": [
    "* Above, the [\"call_date\"] column has been successfully converted to datetime"
   ]
  },
  {
   "cell_type": "markdown",
   "metadata": {},
   "source": [
    "* There are no missing values, duplicates in the internet dataframe. The [\"session_date\"] has been converted to datetime."
   ]
  },
  {
   "cell_type": "markdown",
   "metadata": {},
   "source": [
    "* The users table column contained missing values only in the [churn_date] column. It was previously noted that if NaN values appeared in this column, that would indicate that the users are currently still registered on the plan. \n",
    "* I replaced all NaN values with \"current_user\" to make it more readable. It is important to note that only 34/500 rows initially contained a non-NaN value, indicating that those were the only users that stopped the service. \n",
    "* It might be a good idea to see if there is any link between having a churn date and type of plan. Dates found in the [churn_date] column have been converted to datetime.\n",
    "\n"
   ]
  },
  {
   "cell_type": "code",
   "execution_count": 3,
   "metadata": {},
   "outputs": [
    {
     "name": "stdout",
     "output_type": "stream",
     "text": [
      "<class 'pandas.core.frame.DataFrame'>\n",
      "RangeIndex: 2 entries, 0 to 1\n",
      "Data columns (total 8 columns):\n",
      " #   Column                 Non-Null Count  Dtype  \n",
      "---  ------                 --------------  -----  \n",
      " 0   messages_included      2 non-null      int64  \n",
      " 1   mb_per_month_included  2 non-null      int64  \n",
      " 2   minutes_included       2 non-null      int64  \n",
      " 3   usd_monthly_pay        2 non-null      int64  \n",
      " 4   usd_per_gb             2 non-null      int64  \n",
      " 5   usd_per_message        2 non-null      float64\n",
      " 6   usd_per_minute         2 non-null      float64\n",
      " 7   plan_name              2 non-null      object \n",
      "dtypes: float64(2), int64(5), object(1)\n",
      "memory usage: 256.0+ bytes\n",
      "   messages_included  mb_per_month_included  minutes_included  \\\n",
      "0                 50                  15360               500   \n",
      "1               1000                  30720              3000   \n",
      "\n",
      "   usd_monthly_pay  usd_per_gb  usd_per_message  usd_per_minute plan_name  \n",
      "0               20          10             0.03            0.03      surf  \n",
      "1               70           7             0.01            0.01  ultimate  \n"
     ]
    }
   ],
   "source": [
    "# Print a sample of data for plans\n",
    "plans.info()\n",
    "print(plans.head())\n"
   ]
  },
  {
   "cell_type": "markdown",
   "metadata": {},
   "source": [
    " "
   ]
  },
  {
   "cell_type": "code",
   "execution_count": 4,
   "metadata": {},
   "outputs": [
    {
     "data": {
      "text/html": [
       "<div>\n",
       "<style scoped>\n",
       "    .dataframe tbody tr th:only-of-type {\n",
       "        vertical-align: middle;\n",
       "    }\n",
       "\n",
       "    .dataframe tbody tr th {\n",
       "        vertical-align: top;\n",
       "    }\n",
       "\n",
       "    .dataframe thead th {\n",
       "        text-align: right;\n",
       "    }\n",
       "</style>\n",
       "<table border=\"1\" class=\"dataframe\">\n",
       "  <thead>\n",
       "    <tr style=\"text-align: right;\">\n",
       "      <th></th>\n",
       "      <th>user_id</th>\n",
       "      <th>first_name</th>\n",
       "      <th>last_name</th>\n",
       "      <th>age</th>\n",
       "      <th>city</th>\n",
       "      <th>reg_date</th>\n",
       "      <th>plan</th>\n",
       "      <th>churn_date</th>\n",
       "    </tr>\n",
       "  </thead>\n",
       "  <tbody>\n",
       "    <tr>\n",
       "      <th>0</th>\n",
       "      <td>1000</td>\n",
       "      <td>Anamaria</td>\n",
       "      <td>Bauer</td>\n",
       "      <td>45</td>\n",
       "      <td>Atlanta-Sandy Springs-Roswell, GA MSA</td>\n",
       "      <td>2018-12-24</td>\n",
       "      <td>ultimate</td>\n",
       "      <td>NaN</td>\n",
       "    </tr>\n",
       "    <tr>\n",
       "      <th>1</th>\n",
       "      <td>1001</td>\n",
       "      <td>Mickey</td>\n",
       "      <td>Wilkerson</td>\n",
       "      <td>28</td>\n",
       "      <td>Seattle-Tacoma-Bellevue, WA MSA</td>\n",
       "      <td>2018-08-13</td>\n",
       "      <td>surf</td>\n",
       "      <td>NaN</td>\n",
       "    </tr>\n",
       "    <tr>\n",
       "      <th>2</th>\n",
       "      <td>1002</td>\n",
       "      <td>Carlee</td>\n",
       "      <td>Hoffman</td>\n",
       "      <td>36</td>\n",
       "      <td>Las Vegas-Henderson-Paradise, NV MSA</td>\n",
       "      <td>2018-10-21</td>\n",
       "      <td>surf</td>\n",
       "      <td>NaN</td>\n",
       "    </tr>\n",
       "    <tr>\n",
       "      <th>3</th>\n",
       "      <td>1003</td>\n",
       "      <td>Reynaldo</td>\n",
       "      <td>Jenkins</td>\n",
       "      <td>52</td>\n",
       "      <td>Tulsa, OK MSA</td>\n",
       "      <td>2018-01-28</td>\n",
       "      <td>surf</td>\n",
       "      <td>NaN</td>\n",
       "    </tr>\n",
       "    <tr>\n",
       "      <th>4</th>\n",
       "      <td>1004</td>\n",
       "      <td>Leonila</td>\n",
       "      <td>Thompson</td>\n",
       "      <td>40</td>\n",
       "      <td>Seattle-Tacoma-Bellevue, WA MSA</td>\n",
       "      <td>2018-05-23</td>\n",
       "      <td>surf</td>\n",
       "      <td>NaN</td>\n",
       "    </tr>\n",
       "  </tbody>\n",
       "</table>\n",
       "</div>"
      ],
      "text/plain": [
       "   user_id first_name  last_name  age                                   city  \\\n",
       "0     1000   Anamaria      Bauer   45  Atlanta-Sandy Springs-Roswell, GA MSA   \n",
       "1     1001     Mickey  Wilkerson   28        Seattle-Tacoma-Bellevue, WA MSA   \n",
       "2     1002     Carlee    Hoffman   36   Las Vegas-Henderson-Paradise, NV MSA   \n",
       "3     1003   Reynaldo    Jenkins   52                          Tulsa, OK MSA   \n",
       "4     1004    Leonila   Thompson   40        Seattle-Tacoma-Bellevue, WA MSA   \n",
       "\n",
       "     reg_date      plan churn_date  \n",
       "0  2018-12-24  ultimate        NaN  \n",
       "1  2018-08-13      surf        NaN  \n",
       "2  2018-10-21      surf        NaN  \n",
       "3  2018-01-28      surf        NaN  \n",
       "4  2018-05-23      surf        NaN  "
      ]
     },
     "execution_count": 4,
     "metadata": {},
     "output_type": "execute_result"
    }
   ],
   "source": [
    "users.head()"
   ]
  },
  {
   "cell_type": "markdown",
   "metadata": {},
   "source": [
    "\n",
    "## Users"
   ]
  },
  {
   "cell_type": "code",
   "execution_count": 5,
   "metadata": {},
   "outputs": [
    {
     "name": "stdout",
     "output_type": "stream",
     "text": [
      "<class 'pandas.core.frame.DataFrame'>\n",
      "RangeIndex: 500 entries, 0 to 499\n",
      "Data columns (total 8 columns):\n",
      " #   Column      Non-Null Count  Dtype \n",
      "---  ------      --------------  ----- \n",
      " 0   user_id     500 non-null    int64 \n",
      " 1   first_name  500 non-null    object\n",
      " 2   last_name   500 non-null    object\n",
      " 3   age         500 non-null    int64 \n",
      " 4   city        500 non-null    object\n",
      " 5   reg_date    500 non-null    object\n",
      " 6   plan        500 non-null    object\n",
      " 7   churn_date  34 non-null     object\n",
      "dtypes: int64(2), object(6)\n",
      "memory usage: 31.4+ KB\n"
     ]
    }
   ],
   "source": [
    "# Print the general/summary information about the users' DataFrame\n",
    "users.info()"
   ]
  },
  {
   "cell_type": "code",
   "execution_count": 6,
   "metadata": {},
   "outputs": [
    {
     "data": {
      "text/html": [
       "<div>\n",
       "<style scoped>\n",
       "    .dataframe tbody tr th:only-of-type {\n",
       "        vertical-align: middle;\n",
       "    }\n",
       "\n",
       "    .dataframe tbody tr th {\n",
       "        vertical-align: top;\n",
       "    }\n",
       "\n",
       "    .dataframe thead th {\n",
       "        text-align: right;\n",
       "    }\n",
       "</style>\n",
       "<table border=\"1\" class=\"dataframe\">\n",
       "  <thead>\n",
       "    <tr style=\"text-align: right;\">\n",
       "      <th></th>\n",
       "      <th>user_id</th>\n",
       "      <th>first_name</th>\n",
       "      <th>last_name</th>\n",
       "      <th>age</th>\n",
       "      <th>city</th>\n",
       "      <th>reg_date</th>\n",
       "      <th>plan</th>\n",
       "      <th>churn_date</th>\n",
       "    </tr>\n",
       "  </thead>\n",
       "  <tbody>\n",
       "    <tr>\n",
       "      <th>0</th>\n",
       "      <td>1000</td>\n",
       "      <td>Anamaria</td>\n",
       "      <td>Bauer</td>\n",
       "      <td>45</td>\n",
       "      <td>Atlanta-Sandy Springs-Roswell, GA MSA</td>\n",
       "      <td>2018-12-24</td>\n",
       "      <td>ultimate</td>\n",
       "      <td>NaN</td>\n",
       "    </tr>\n",
       "    <tr>\n",
       "      <th>1</th>\n",
       "      <td>1001</td>\n",
       "      <td>Mickey</td>\n",
       "      <td>Wilkerson</td>\n",
       "      <td>28</td>\n",
       "      <td>Seattle-Tacoma-Bellevue, WA MSA</td>\n",
       "      <td>2018-08-13</td>\n",
       "      <td>surf</td>\n",
       "      <td>NaN</td>\n",
       "    </tr>\n",
       "    <tr>\n",
       "      <th>2</th>\n",
       "      <td>1002</td>\n",
       "      <td>Carlee</td>\n",
       "      <td>Hoffman</td>\n",
       "      <td>36</td>\n",
       "      <td>Las Vegas-Henderson-Paradise, NV MSA</td>\n",
       "      <td>2018-10-21</td>\n",
       "      <td>surf</td>\n",
       "      <td>NaN</td>\n",
       "    </tr>\n",
       "    <tr>\n",
       "      <th>3</th>\n",
       "      <td>1003</td>\n",
       "      <td>Reynaldo</td>\n",
       "      <td>Jenkins</td>\n",
       "      <td>52</td>\n",
       "      <td>Tulsa, OK MSA</td>\n",
       "      <td>2018-01-28</td>\n",
       "      <td>surf</td>\n",
       "      <td>NaN</td>\n",
       "    </tr>\n",
       "    <tr>\n",
       "      <th>4</th>\n",
       "      <td>1004</td>\n",
       "      <td>Leonila</td>\n",
       "      <td>Thompson</td>\n",
       "      <td>40</td>\n",
       "      <td>Seattle-Tacoma-Bellevue, WA MSA</td>\n",
       "      <td>2018-05-23</td>\n",
       "      <td>surf</td>\n",
       "      <td>NaN</td>\n",
       "    </tr>\n",
       "  </tbody>\n",
       "</table>\n",
       "</div>"
      ],
      "text/plain": [
       "   user_id first_name  last_name  age                                   city  \\\n",
       "0     1000   Anamaria      Bauer   45  Atlanta-Sandy Springs-Roswell, GA MSA   \n",
       "1     1001     Mickey  Wilkerson   28        Seattle-Tacoma-Bellevue, WA MSA   \n",
       "2     1002     Carlee    Hoffman   36   Las Vegas-Henderson-Paradise, NV MSA   \n",
       "3     1003   Reynaldo    Jenkins   52                          Tulsa, OK MSA   \n",
       "4     1004    Leonila   Thompson   40        Seattle-Tacoma-Bellevue, WA MSA   \n",
       "\n",
       "     reg_date      plan churn_date  \n",
       "0  2018-12-24  ultimate        NaN  \n",
       "1  2018-08-13      surf        NaN  \n",
       "2  2018-10-21      surf        NaN  \n",
       "3  2018-01-28      surf        NaN  \n",
       "4  2018-05-23      surf        NaN  "
      ]
     },
     "execution_count": 6,
     "metadata": {},
     "output_type": "execute_result"
    }
   ],
   "source": [
    "# Print a sample of data for users\n",
    "users.head()\n"
   ]
  },
  {
   "cell_type": "markdown",
   "metadata": {},
   "source": [
    "* The column [\"churn_date\"] contains several missing values, which will be treated."
   ]
  },
  {
   "cell_type": "code",
   "execution_count": 7,
   "metadata": {},
   "outputs": [],
   "source": [
    "users[\"churn_date\"] = pd.to_datetime(users[\"churn_date\"], format=\"%Y-%m-%d\")\n",
    "users.fillna(\"current_user\", inplace=True)"
   ]
  },
  {
   "cell_type": "code",
   "execution_count": 8,
   "metadata": {},
   "outputs": [],
   "source": [
    "users[\"reg_date\"] = pd.to_datetime(users[\"reg_date\"], format=\"%Y-%m-%d\")\n"
   ]
  },
  {
   "cell_type": "markdown",
   "metadata": {},
   "source": [
    "## Calls"
   ]
  },
  {
   "cell_type": "code",
   "execution_count": 9,
   "metadata": {},
   "outputs": [
    {
     "name": "stdout",
     "output_type": "stream",
     "text": [
      "<class 'pandas.core.frame.DataFrame'>\n",
      "RangeIndex: 137735 entries, 0 to 137734\n",
      "Data columns (total 4 columns):\n",
      " #   Column     Non-Null Count   Dtype         \n",
      "---  ------     --------------   -----         \n",
      " 0   id         137735 non-null  object        \n",
      " 1   user_id    137735 non-null  int64         \n",
      " 2   call_date  137735 non-null  datetime64[ns]\n",
      " 3   duration   137735 non-null  float64       \n",
      "dtypes: datetime64[ns](1), float64(1), int64(1), object(1)\n",
      "memory usage: 4.2+ MB\n"
     ]
    }
   ],
   "source": [
    "# Print the general/summary information about the calls' DataFrame\n",
    "calls[\"call_date\"] = pd.to_datetime(calls[\"call_date\"], format= \"%Y-%m-%d\")\n",
    "calls.info()\n"
   ]
  },
  {
   "cell_type": "code",
   "execution_count": 10,
   "metadata": {},
   "outputs": [
    {
     "data": {
      "text/html": [
       "<div>\n",
       "<style scoped>\n",
       "    .dataframe tbody tr th:only-of-type {\n",
       "        vertical-align: middle;\n",
       "    }\n",
       "\n",
       "    .dataframe tbody tr th {\n",
       "        vertical-align: top;\n",
       "    }\n",
       "\n",
       "    .dataframe thead th {\n",
       "        text-align: right;\n",
       "    }\n",
       "</style>\n",
       "<table border=\"1\" class=\"dataframe\">\n",
       "  <thead>\n",
       "    <tr style=\"text-align: right;\">\n",
       "      <th></th>\n",
       "      <th>id</th>\n",
       "      <th>user_id</th>\n",
       "      <th>call_date</th>\n",
       "      <th>duration</th>\n",
       "    </tr>\n",
       "  </thead>\n",
       "  <tbody>\n",
       "    <tr>\n",
       "      <th>0</th>\n",
       "      <td>1000_93</td>\n",
       "      <td>1000</td>\n",
       "      <td>2018-12-27</td>\n",
       "      <td>8.52</td>\n",
       "    </tr>\n",
       "    <tr>\n",
       "      <th>1</th>\n",
       "      <td>1000_145</td>\n",
       "      <td>1000</td>\n",
       "      <td>2018-12-27</td>\n",
       "      <td>13.66</td>\n",
       "    </tr>\n",
       "    <tr>\n",
       "      <th>2</th>\n",
       "      <td>1000_247</td>\n",
       "      <td>1000</td>\n",
       "      <td>2018-12-27</td>\n",
       "      <td>14.48</td>\n",
       "    </tr>\n",
       "    <tr>\n",
       "      <th>3</th>\n",
       "      <td>1000_309</td>\n",
       "      <td>1000</td>\n",
       "      <td>2018-12-28</td>\n",
       "      <td>5.76</td>\n",
       "    </tr>\n",
       "    <tr>\n",
       "      <th>4</th>\n",
       "      <td>1000_380</td>\n",
       "      <td>1000</td>\n",
       "      <td>2018-12-30</td>\n",
       "      <td>4.22</td>\n",
       "    </tr>\n",
       "  </tbody>\n",
       "</table>\n",
       "</div>"
      ],
      "text/plain": [
       "         id  user_id  call_date  duration\n",
       "0   1000_93     1000 2018-12-27      8.52\n",
       "1  1000_145     1000 2018-12-27     13.66\n",
       "2  1000_247     1000 2018-12-27     14.48\n",
       "3  1000_309     1000 2018-12-28      5.76\n",
       "4  1000_380     1000 2018-12-30      4.22"
      ]
     },
     "execution_count": 10,
     "metadata": {},
     "output_type": "execute_result"
    }
   ],
   "source": [
    "# Print a sample of data for calls\n",
    "calls.head()\n"
   ]
  },
  {
   "cell_type": "markdown",
   "metadata": {},
   "source": [
    " "
   ]
  },
  {
   "cell_type": "code",
   "execution_count": 11,
   "metadata": {},
   "outputs": [
    {
     "name": "stdout",
     "output_type": "stream",
     "text": [
      "          id  user_id  call_date  duration\n",
      "0    1000_93     1000 2018-12-27      8.52\n",
      "1   1000_145     1000 2018-12-27     13.66\n",
      "2   1000_247     1000 2018-12-27     14.48\n",
      "3   1000_309     1000 2018-12-28      5.76\n",
      "4   1000_380     1000 2018-12-30      4.22\n",
      "5   1000_388     1000 2018-12-31      2.20\n",
      "6   1000_510     1000 2018-12-27      5.75\n",
      "7   1000_521     1000 2018-12-28     14.18\n",
      "8   1000_530     1000 2018-12-28      5.77\n",
      "9   1000_544     1000 2018-12-26      4.40\n",
      "10  1000_693     1000 2018-12-31      4.31\n",
      "11  1000_705     1000 2018-12-31     12.78\n",
      "12  1000_735     1000 2018-12-29      1.70\n",
      "13  1000_778     1000 2018-12-28      3.29\n",
      "14  1000_826     1000 2018-12-26      9.96\n",
      "15  1000_842     1000 2018-12-27      5.85\n",
      "16    1001_0     1001 2018-09-06     10.06\n",
      "17    1001_1     1001 2018-10-12      1.00\n",
      "18    1001_2     1001 2018-10-17     15.83\n",
      "19    1001_4     1001 2018-12-05      0.00\n",
      "20    1001_5     1001 2018-12-13      6.27\n",
      "21    1001_6     1001 2018-12-04      7.19\n",
      "22    1001_8     1001 2018-11-17      2.45\n",
      "23    1001_9     1001 2018-11-19      2.40\n",
      "24   1001_11     1001 2018-11-09      1.00\n",
      "25   1001_13     1001 2018-12-24      0.00\n",
      "26   1001_19     1001 2018-11-15     30.00\n",
      "27   1001_20     1001 2018-09-21      5.75\n",
      "28   1001_23     1001 2018-10-27      0.98\n",
      "29   1001_26     1001 2018-10-28      5.90\n",
      "30   1001_29     1001 2018-09-30     14.78\n",
      "31   1001_30     1001 2018-10-17      0.00\n",
      "32   1001_31     1001 2018-11-03      0.00\n",
      "33   1001_32     1001 2018-11-25      3.99\n",
      "34   1001_35     1001 2018-12-21      0.00\n",
      "35   1001_37     1001 2018-11-17     15.85\n",
      "36   1001_39     1001 2018-12-07     11.13\n",
      "37   1001_40     1001 2018-09-30     18.60\n",
      "38   1001_42     1001 2018-08-28     13.27\n",
      "39   1001_43     1001 2018-12-13      0.00\n",
      "<class 'pandas.core.frame.DataFrame'>\n",
      "RangeIndex: 137735 entries, 0 to 137734\n",
      "Data columns (total 4 columns):\n",
      " #   Column     Non-Null Count   Dtype         \n",
      "---  ------     --------------   -----         \n",
      " 0   id         137735 non-null  object        \n",
      " 1   user_id    137735 non-null  int64         \n",
      " 2   call_date  137735 non-null  datetime64[ns]\n",
      " 3   duration   137735 non-null  float64       \n",
      "dtypes: datetime64[ns](1), float64(1), int64(1), object(1)\n",
      "memory usage: 4.2+ MB\n",
      "0\n"
     ]
    },
    {
     "data": {
      "text/plain": [
       "id           137735\n",
       "user_id         481\n",
       "call_date       351\n",
       "duration       2802\n",
       "dtype: int64"
      ]
     },
     "execution_count": 11,
     "metadata": {},
     "output_type": "execute_result"
    }
   ],
   "source": [
    "print(calls.head(40))\n",
    "calls.info()\n",
    "print(calls.duplicated().sum())\n",
    "calls.nunique()"
   ]
  },
  {
   "cell_type": "markdown",
   "metadata": {},
   "source": [
    "## Messages"
   ]
  },
  {
   "cell_type": "code",
   "execution_count": 12,
   "metadata": {},
   "outputs": [
    {
     "name": "stdout",
     "output_type": "stream",
     "text": [
      "<class 'pandas.core.frame.DataFrame'>\n",
      "RangeIndex: 76051 entries, 0 to 76050\n",
      "Data columns (total 3 columns):\n",
      " #   Column        Non-Null Count  Dtype \n",
      "---  ------        --------------  ----- \n",
      " 0   id            76051 non-null  object\n",
      " 1   user_id       76051 non-null  int64 \n",
      " 2   message_date  76051 non-null  object\n",
      "dtypes: int64(1), object(2)\n",
      "memory usage: 1.7+ MB\n"
     ]
    }
   ],
   "source": [
    "# Print the general/summary information about the messages' DataFrame\n",
    "messages.info()\n",
    "\n",
    "\n"
   ]
  },
  {
   "cell_type": "code",
   "execution_count": 13,
   "metadata": {},
   "outputs": [
    {
     "name": "stdout",
     "output_type": "stream",
     "text": [
      "<class 'pandas.core.frame.DataFrame'>\n",
      "RangeIndex: 76051 entries, 0 to 76050\n",
      "Data columns (total 3 columns):\n",
      " #   Column        Non-Null Count  Dtype \n",
      "---  ------        --------------  ----- \n",
      " 0   id            76051 non-null  object\n",
      " 1   user_id       76051 non-null  int64 \n",
      " 2   message_date  76051 non-null  object\n",
      "dtypes: int64(1), object(2)\n",
      "memory usage: 1.7+ MB\n"
     ]
    }
   ],
   "source": [
    "# Print a sample of data for messages\n",
    "messages.head()\n",
    "messages.info()"
   ]
  },
  {
   "cell_type": "markdown",
   "metadata": {},
   "source": [
    " "
   ]
  },
  {
   "cell_type": "code",
   "execution_count": 14,
   "metadata": {},
   "outputs": [],
   "source": [
    "messages.duplicated().sum()\n",
    "messages[\"message_date\"] = pd.to_datetime(messages[\"message_date\"], format=\"%Y-%m-%d\")\n"
   ]
  },
  {
   "cell_type": "markdown",
   "metadata": {},
   "source": [
    "## Internet"
   ]
  },
  {
   "cell_type": "code",
   "execution_count": 15,
   "metadata": {},
   "outputs": [
    {
     "name": "stdout",
     "output_type": "stream",
     "text": [
      "<class 'pandas.core.frame.DataFrame'>\n",
      "RangeIndex: 104825 entries, 0 to 104824\n",
      "Data columns (total 4 columns):\n",
      " #   Column        Non-Null Count   Dtype  \n",
      "---  ------        --------------   -----  \n",
      " 0   id            104825 non-null  object \n",
      " 1   user_id       104825 non-null  int64  \n",
      " 2   session_date  104825 non-null  object \n",
      " 3   mb_used       104825 non-null  float64\n",
      "dtypes: float64(1), int64(1), object(2)\n",
      "memory usage: 3.2+ MB\n"
     ]
    },
    {
     "data": {
      "text/html": [
       "<div>\n",
       "<style scoped>\n",
       "    .dataframe tbody tr th:only-of-type {\n",
       "        vertical-align: middle;\n",
       "    }\n",
       "\n",
       "    .dataframe tbody tr th {\n",
       "        vertical-align: top;\n",
       "    }\n",
       "\n",
       "    .dataframe thead th {\n",
       "        text-align: right;\n",
       "    }\n",
       "</style>\n",
       "<table border=\"1\" class=\"dataframe\">\n",
       "  <thead>\n",
       "    <tr style=\"text-align: right;\">\n",
       "      <th></th>\n",
       "      <th>user_id</th>\n",
       "      <th>mb_used</th>\n",
       "    </tr>\n",
       "  </thead>\n",
       "  <tbody>\n",
       "    <tr>\n",
       "      <th>count</th>\n",
       "      <td>104825.000000</td>\n",
       "      <td>104825.000000</td>\n",
       "    </tr>\n",
       "    <tr>\n",
       "      <th>mean</th>\n",
       "      <td>1242.496361</td>\n",
       "      <td>366.713701</td>\n",
       "    </tr>\n",
       "    <tr>\n",
       "      <th>std</th>\n",
       "      <td>142.053913</td>\n",
       "      <td>277.170542</td>\n",
       "    </tr>\n",
       "    <tr>\n",
       "      <th>min</th>\n",
       "      <td>1000.000000</td>\n",
       "      <td>0.000000</td>\n",
       "    </tr>\n",
       "    <tr>\n",
       "      <th>25%</th>\n",
       "      <td>1122.000000</td>\n",
       "      <td>136.080000</td>\n",
       "    </tr>\n",
       "    <tr>\n",
       "      <th>50%</th>\n",
       "      <td>1236.000000</td>\n",
       "      <td>343.980000</td>\n",
       "    </tr>\n",
       "    <tr>\n",
       "      <th>75%</th>\n",
       "      <td>1367.000000</td>\n",
       "      <td>554.610000</td>\n",
       "    </tr>\n",
       "    <tr>\n",
       "      <th>max</th>\n",
       "      <td>1499.000000</td>\n",
       "      <td>1693.470000</td>\n",
       "    </tr>\n",
       "  </tbody>\n",
       "</table>\n",
       "</div>"
      ],
      "text/plain": [
       "             user_id        mb_used\n",
       "count  104825.000000  104825.000000\n",
       "mean     1242.496361     366.713701\n",
       "std       142.053913     277.170542\n",
       "min      1000.000000       0.000000\n",
       "25%      1122.000000     136.080000\n",
       "50%      1236.000000     343.980000\n",
       "75%      1367.000000     554.610000\n",
       "max      1499.000000    1693.470000"
      ]
     },
     "execution_count": 15,
     "metadata": {},
     "output_type": "execute_result"
    }
   ],
   "source": [
    "# Print the general/summary information about the internet DataFrame\n",
    "internet.info()\n",
    "internet.describe()"
   ]
  },
  {
   "cell_type": "code",
   "execution_count": 16,
   "metadata": {},
   "outputs": [
    {
     "name": "stdout",
     "output_type": "stream",
     "text": [
      "0\n",
      "id              0\n",
      "user_id         0\n",
      "session_date    0\n",
      "mb_used         0\n",
      "dtype: int64\n"
     ]
    }
   ],
   "source": [
    "# Print a sample of data for the internet traffic\n",
    "print(internet.duplicated().sum())\n",
    "print(internet.isna().sum())\n"
   ]
  },
  {
   "cell_type": "markdown",
   "metadata": {},
   "source": [
    " "
   ]
  },
  {
   "cell_type": "code",
   "execution_count": 17,
   "metadata": {},
   "outputs": [
    {
     "name": "stdout",
     "output_type": "stream",
     "text": [
      "<class 'pandas.core.frame.DataFrame'>\n",
      "RangeIndex: 104825 entries, 0 to 104824\n",
      "Data columns (total 4 columns):\n",
      " #   Column        Non-Null Count   Dtype         \n",
      "---  ------        --------------   -----         \n",
      " 0   id            104825 non-null  object        \n",
      " 1   user_id       104825 non-null  int64         \n",
      " 2   session_date  104825 non-null  datetime64[ns]\n",
      " 3   mb_used       104825 non-null  float64       \n",
      "dtypes: datetime64[ns](1), float64(1), int64(1), object(1)\n",
      "memory usage: 3.2+ MB\n"
     ]
    }
   ],
   "source": [
    "internet[\"session_date\"] = pd.to_datetime(calls[\"call_date\"], format= \"%Y-%m-%d\")\n",
    "internet.head()\n",
    "internet.info()"
   ]
  },
  {
   "cell_type": "code",
   "execution_count": 18,
   "metadata": {},
   "outputs": [],
   "source": [
    "internet[\"month\"] = internet[\"session_date\"].dt.month\n",
    "calls[\"month\"] = calls[\"call_date\"].dt.month\n",
    "messages[\"month\"]=messages[\"message_date\"].dt.month"
   ]
  },
  {
   "cell_type": "code",
   "execution_count": 19,
   "metadata": {},
   "outputs": [
    {
     "name": "stdout",
     "output_type": "stream",
     "text": [
      "         id  user_id session_date  mb_used  month\n",
      "0   1000_13     1000   2018-12-27    89.86     12\n",
      "1  1000_204     1000   2018-12-27     0.00     12\n",
      "2  1000_379     1000   2018-12-27   660.40     12\n",
      "3  1000_413     1000   2018-12-28   270.99     12\n",
      "4  1000_442     1000   2018-12-30   880.22     12\n",
      "         id  user_id  call_date  duration  month\n",
      "0   1000_93     1000 2018-12-27      8.52     12\n",
      "1  1000_145     1000 2018-12-27     13.66     12\n",
      "2  1000_247     1000 2018-12-27     14.48     12\n",
      "3  1000_309     1000 2018-12-28      5.76     12\n",
      "4  1000_380     1000 2018-12-30      4.22     12\n",
      "   user_id first_name  last_name  age                                   city  \\\n",
      "0     1000   Anamaria      Bauer   45  Atlanta-Sandy Springs-Roswell, GA MSA   \n",
      "1     1001     Mickey  Wilkerson   28        Seattle-Tacoma-Bellevue, WA MSA   \n",
      "2     1002     Carlee    Hoffman   36   Las Vegas-Henderson-Paradise, NV MSA   \n",
      "3     1003   Reynaldo    Jenkins   52                          Tulsa, OK MSA   \n",
      "4     1004    Leonila   Thompson   40        Seattle-Tacoma-Bellevue, WA MSA   \n",
      "\n",
      "    reg_date      plan    churn_date  \n",
      "0 2018-12-24  ultimate  current_user  \n",
      "1 2018-08-13      surf  current_user  \n",
      "2 2018-10-21      surf  current_user  \n",
      "3 2018-01-28      surf  current_user  \n",
      "4 2018-05-23      surf  current_user  \n",
      "         id  user_id message_date  month\n",
      "0  1000_125     1000   2018-12-27     12\n",
      "1  1000_160     1000   2018-12-31     12\n",
      "2  1000_223     1000   2018-12-31     12\n",
      "3  1000_251     1000   2018-12-27     12\n",
      "4  1000_255     1000   2018-12-26     12\n"
     ]
    }
   ],
   "source": [
    "print(internet.head())\n",
    "print(calls.head())\n",
    "print(users.head())\n",
    "print(messages.head())\n"
   ]
  },
  {
   "cell_type": "code",
   "execution_count": 20,
   "metadata": {},
   "outputs": [
    {
     "data": {
      "text/html": [
       "<div>\n",
       "<style scoped>\n",
       "    .dataframe tbody tr th:only-of-type {\n",
       "        vertical-align: middle;\n",
       "    }\n",
       "\n",
       "    .dataframe tbody tr th {\n",
       "        vertical-align: top;\n",
       "    }\n",
       "\n",
       "    .dataframe thead th {\n",
       "        text-align: right;\n",
       "    }\n",
       "</style>\n",
       "<table border=\"1\" class=\"dataframe\">\n",
       "  <thead>\n",
       "    <tr style=\"text-align: right;\">\n",
       "      <th></th>\n",
       "      <th>user_id</th>\n",
       "      <th>city</th>\n",
       "    </tr>\n",
       "  </thead>\n",
       "  <tbody>\n",
       "    <tr>\n",
       "      <th>0</th>\n",
       "      <td>1000</td>\n",
       "      <td>Atlanta-Sandy Springs-Roswell, GA MSA</td>\n",
       "    </tr>\n",
       "    <tr>\n",
       "      <th>1</th>\n",
       "      <td>1001</td>\n",
       "      <td>Seattle-Tacoma-Bellevue, WA MSA</td>\n",
       "    </tr>\n",
       "    <tr>\n",
       "      <th>2</th>\n",
       "      <td>1002</td>\n",
       "      <td>Las Vegas-Henderson-Paradise, NV MSA</td>\n",
       "    </tr>\n",
       "    <tr>\n",
       "      <th>3</th>\n",
       "      <td>1003</td>\n",
       "      <td>Tulsa, OK MSA</td>\n",
       "    </tr>\n",
       "    <tr>\n",
       "      <th>4</th>\n",
       "      <td>1004</td>\n",
       "      <td>Seattle-Tacoma-Bellevue, WA MSA</td>\n",
       "    </tr>\n",
       "    <tr>\n",
       "      <th>...</th>\n",
       "      <td>...</td>\n",
       "      <td>...</td>\n",
       "    </tr>\n",
       "    <tr>\n",
       "      <th>495</th>\n",
       "      <td>1495</td>\n",
       "      <td>New York-Newark-Jersey City, NY-NJ-PA MSA</td>\n",
       "    </tr>\n",
       "    <tr>\n",
       "      <th>496</th>\n",
       "      <td>1496</td>\n",
       "      <td>New Orleans-Metairie, LA MSA</td>\n",
       "    </tr>\n",
       "    <tr>\n",
       "      <th>497</th>\n",
       "      <td>1497</td>\n",
       "      <td>Los Angeles-Long Beach-Anaheim, CA MSA</td>\n",
       "    </tr>\n",
       "    <tr>\n",
       "      <th>498</th>\n",
       "      <td>1498</td>\n",
       "      <td>New York-Newark-Jersey City, NY-NJ-PA MSA</td>\n",
       "    </tr>\n",
       "    <tr>\n",
       "      <th>499</th>\n",
       "      <td>1499</td>\n",
       "      <td>Orlando-Kissimmee-Sanford, FL MSA</td>\n",
       "    </tr>\n",
       "  </tbody>\n",
       "</table>\n",
       "<p>500 rows × 2 columns</p>\n",
       "</div>"
      ],
      "text/plain": [
       "     user_id                                       city\n",
       "0       1000      Atlanta-Sandy Springs-Roswell, GA MSA\n",
       "1       1001            Seattle-Tacoma-Bellevue, WA MSA\n",
       "2       1002       Las Vegas-Henderson-Paradise, NV MSA\n",
       "3       1003                              Tulsa, OK MSA\n",
       "4       1004            Seattle-Tacoma-Bellevue, WA MSA\n",
       "..       ...                                        ...\n",
       "495     1495  New York-Newark-Jersey City, NY-NJ-PA MSA\n",
       "496     1496               New Orleans-Metairie, LA MSA\n",
       "497     1497     Los Angeles-Long Beach-Anaheim, CA MSA\n",
       "498     1498  New York-Newark-Jersey City, NY-NJ-PA MSA\n",
       "499     1499          Orlando-Kissimmee-Sanford, FL MSA\n",
       "\n",
       "[500 rows x 2 columns]"
      ]
     },
     "execution_count": 20,
     "metadata": {},
     "output_type": "execute_result"
    }
   ],
   "source": [
    "users.head()\n",
    "city=users[[\"user_id\", \"city\"]]\n",
    "city"
   ]
  },
  {
   "cell_type": "markdown",
   "metadata": {},
   "source": [
    "* To make things a bit simpler, since all the tables (internet & messages as well as users and calls) since they all had \"user-id\" in common."
   ]
  },
  {
   "cell_type": "code",
   "execution_count": 21,
   "metadata": {
    "scrolled": true
   },
   "outputs": [
    {
     "data": {
      "text/html": [
       "<div>\n",
       "<style scoped>\n",
       "    .dataframe tbody tr th:only-of-type {\n",
       "        vertical-align: middle;\n",
       "    }\n",
       "\n",
       "    .dataframe tbody tr th {\n",
       "        vertical-align: top;\n",
       "    }\n",
       "\n",
       "    .dataframe thead th {\n",
       "        text-align: right;\n",
       "    }\n",
       "</style>\n",
       "<table border=\"1\" class=\"dataframe\">\n",
       "  <thead>\n",
       "    <tr style=\"text-align: right;\">\n",
       "      <th></th>\n",
       "      <th>messages_included</th>\n",
       "      <th>mb_per_month_included</th>\n",
       "      <th>minutes_included</th>\n",
       "      <th>usd_monthly_pay</th>\n",
       "      <th>usd_per_gb</th>\n",
       "      <th>usd_per_message</th>\n",
       "      <th>usd_per_minute</th>\n",
       "      <th>plan_name</th>\n",
       "    </tr>\n",
       "  </thead>\n",
       "  <tbody>\n",
       "    <tr>\n",
       "      <th>0</th>\n",
       "      <td>50</td>\n",
       "      <td>15360</td>\n",
       "      <td>500</td>\n",
       "      <td>20</td>\n",
       "      <td>10</td>\n",
       "      <td>0.03</td>\n",
       "      <td>0.03</td>\n",
       "      <td>surf</td>\n",
       "    </tr>\n",
       "    <tr>\n",
       "      <th>1</th>\n",
       "      <td>1000</td>\n",
       "      <td>30720</td>\n",
       "      <td>3000</td>\n",
       "      <td>70</td>\n",
       "      <td>7</td>\n",
       "      <td>0.01</td>\n",
       "      <td>0.01</td>\n",
       "      <td>ultimate</td>\n",
       "    </tr>\n",
       "  </tbody>\n",
       "</table>\n",
       "</div>"
      ],
      "text/plain": [
       "   messages_included  mb_per_month_included  minutes_included  \\\n",
       "0                 50                  15360               500   \n",
       "1               1000                  30720              3000   \n",
       "\n",
       "   usd_monthly_pay  usd_per_gb  usd_per_message  usd_per_minute plan_name  \n",
       "0               20          10             0.03            0.03      surf  \n",
       "1               70           7             0.01            0.01  ultimate  "
      ]
     },
     "execution_count": 21,
     "metadata": {},
     "output_type": "execute_result"
    }
   ],
   "source": [
    "# Print out the plan conditions and make sure they are clear for you\n",
    "plans.head()\n"
   ]
  },
  {
   "cell_type": "markdown",
   "metadata": {},
   "source": [
    "## Aggregate data per user\n"
   ]
  },
  {
   "cell_type": "code",
   "execution_count": 22,
   "metadata": {
    "scrolled": false
   },
   "outputs": [
    {
     "name": "stdout",
     "output_type": "stream",
     "text": [
      "         id  user_id  call_date  duration  month\n",
      "0   1000_93     1000 2018-12-27      8.52     12\n",
      "1  1000_145     1000 2018-12-27     13.66     12\n",
      "2  1000_247     1000 2018-12-27     14.48     12\n",
      "3  1000_309     1000 2018-12-28      5.76     12\n",
      "4  1000_380     1000 2018-12-30      4.22     12\n"
     ]
    },
    {
     "data": {
      "text/html": [
       "<div>\n",
       "<style scoped>\n",
       "    .dataframe tbody tr th:only-of-type {\n",
       "        vertical-align: middle;\n",
       "    }\n",
       "\n",
       "    .dataframe tbody tr th {\n",
       "        vertical-align: top;\n",
       "    }\n",
       "\n",
       "    .dataframe thead th {\n",
       "        text-align: right;\n",
       "    }\n",
       "</style>\n",
       "<table border=\"1\" class=\"dataframe\">\n",
       "  <thead>\n",
       "    <tr style=\"text-align: right;\">\n",
       "      <th></th>\n",
       "      <th>user_id</th>\n",
       "      <th>month</th>\n",
       "      <th>id</th>\n",
       "    </tr>\n",
       "  </thead>\n",
       "  <tbody>\n",
       "    <tr>\n",
       "      <th>0</th>\n",
       "      <td>1000</td>\n",
       "      <td>12</td>\n",
       "      <td>16</td>\n",
       "    </tr>\n",
       "    <tr>\n",
       "      <th>1</th>\n",
       "      <td>1001</td>\n",
       "      <td>8</td>\n",
       "      <td>27</td>\n",
       "    </tr>\n",
       "    <tr>\n",
       "      <th>2</th>\n",
       "      <td>1001</td>\n",
       "      <td>9</td>\n",
       "      <td>49</td>\n",
       "    </tr>\n",
       "    <tr>\n",
       "      <th>3</th>\n",
       "      <td>1001</td>\n",
       "      <td>10</td>\n",
       "      <td>65</td>\n",
       "    </tr>\n",
       "    <tr>\n",
       "      <th>4</th>\n",
       "      <td>1001</td>\n",
       "      <td>11</td>\n",
       "      <td>64</td>\n",
       "    </tr>\n",
       "    <tr>\n",
       "      <th>...</th>\n",
       "      <td>...</td>\n",
       "      <td>...</td>\n",
       "      <td>...</td>\n",
       "    </tr>\n",
       "    <tr>\n",
       "      <th>2253</th>\n",
       "      <td>1498</td>\n",
       "      <td>12</td>\n",
       "      <td>39</td>\n",
       "    </tr>\n",
       "    <tr>\n",
       "      <th>2254</th>\n",
       "      <td>1499</td>\n",
       "      <td>9</td>\n",
       "      <td>41</td>\n",
       "    </tr>\n",
       "    <tr>\n",
       "      <th>2255</th>\n",
       "      <td>1499</td>\n",
       "      <td>10</td>\n",
       "      <td>53</td>\n",
       "    </tr>\n",
       "    <tr>\n",
       "      <th>2256</th>\n",
       "      <td>1499</td>\n",
       "      <td>11</td>\n",
       "      <td>45</td>\n",
       "    </tr>\n",
       "    <tr>\n",
       "      <th>2257</th>\n",
       "      <td>1499</td>\n",
       "      <td>12</td>\n",
       "      <td>65</td>\n",
       "    </tr>\n",
       "  </tbody>\n",
       "</table>\n",
       "<p>2258 rows × 3 columns</p>\n",
       "</div>"
      ],
      "text/plain": [
       "      user_id  month  id\n",
       "0        1000     12  16\n",
       "1        1001      8  27\n",
       "2        1001      9  49\n",
       "3        1001     10  65\n",
       "4        1001     11  64\n",
       "...       ...    ...  ..\n",
       "2253     1498     12  39\n",
       "2254     1499      9  41\n",
       "2255     1499     10  53\n",
       "2256     1499     11  45\n",
       "2257     1499     12  65\n",
       "\n",
       "[2258 rows x 3 columns]"
      ]
     },
     "execution_count": 22,
     "metadata": {},
     "output_type": "execute_result"
    }
   ],
   "source": [
    "# Calculate the number of calls made by each user per month. Save the result.\n",
    "print(calls.head())\n",
    "number_of_calls_per_user = calls.groupby([\"user_id\", \"month\"])[\"id\"].count().reset_index()\n",
    "number_of_calls_per_user "
   ]
  },
  {
   "cell_type": "code",
   "execution_count": 23,
   "metadata": {},
   "outputs": [
    {
     "data": {
      "text/html": [
       "<div>\n",
       "<style scoped>\n",
       "    .dataframe tbody tr th:only-of-type {\n",
       "        vertical-align: middle;\n",
       "    }\n",
       "\n",
       "    .dataframe tbody tr th {\n",
       "        vertical-align: top;\n",
       "    }\n",
       "\n",
       "    .dataframe thead th {\n",
       "        text-align: right;\n",
       "    }\n",
       "</style>\n",
       "<table border=\"1\" class=\"dataframe\">\n",
       "  <thead>\n",
       "    <tr style=\"text-align: right;\">\n",
       "      <th></th>\n",
       "      <th>messages_included</th>\n",
       "      <th>mb_per_month_included</th>\n",
       "      <th>minutes_included</th>\n",
       "      <th>usd_monthly_pay</th>\n",
       "      <th>usd_per_gb</th>\n",
       "      <th>usd_per_message</th>\n",
       "      <th>usd_per_minute</th>\n",
       "      <th>plan_name</th>\n",
       "    </tr>\n",
       "  </thead>\n",
       "  <tbody>\n",
       "    <tr>\n",
       "      <th>0</th>\n",
       "      <td>50</td>\n",
       "      <td>15360</td>\n",
       "      <td>500</td>\n",
       "      <td>20</td>\n",
       "      <td>10</td>\n",
       "      <td>0.03</td>\n",
       "      <td>0.03</td>\n",
       "      <td>surf</td>\n",
       "    </tr>\n",
       "    <tr>\n",
       "      <th>1</th>\n",
       "      <td>1000</td>\n",
       "      <td>30720</td>\n",
       "      <td>3000</td>\n",
       "      <td>70</td>\n",
       "      <td>7</td>\n",
       "      <td>0.01</td>\n",
       "      <td>0.01</td>\n",
       "      <td>ultimate</td>\n",
       "    </tr>\n",
       "  </tbody>\n",
       "</table>\n",
       "</div>"
      ],
      "text/plain": [
       "   messages_included  mb_per_month_included  minutes_included  \\\n",
       "0                 50                  15360               500   \n",
       "1               1000                  30720              3000   \n",
       "\n",
       "   usd_monthly_pay  usd_per_gb  usd_per_message  usd_per_minute plan_name  \n",
       "0               20          10             0.03            0.03      surf  \n",
       "1               70           7             0.01            0.01  ultimate  "
      ]
     },
     "execution_count": 23,
     "metadata": {},
     "output_type": "execute_result"
    }
   ],
   "source": [
    "calls[\"number_calls\"] = number_of_calls_per_user[\"id\"]\n",
    "calls.head()\n",
    "plans"
   ]
  },
  {
   "cell_type": "code",
   "execution_count": 24,
   "metadata": {},
   "outputs": [],
   "source": [
    "# Calculate the amount of minutes spent by each user per month. Save the result.\n",
    "total_minutes_spent = calls.groupby([\"user_id\", \"month\"])[\"duration\"].sum().reset_index()\n"
   ]
  },
  {
   "cell_type": "code",
   "execution_count": 25,
   "metadata": {},
   "outputs": [
    {
     "data": {
      "text/html": [
       "<div>\n",
       "<style scoped>\n",
       "    .dataframe tbody tr th:only-of-type {\n",
       "        vertical-align: middle;\n",
       "    }\n",
       "\n",
       "    .dataframe tbody tr th {\n",
       "        vertical-align: top;\n",
       "    }\n",
       "\n",
       "    .dataframe thead th {\n",
       "        text-align: right;\n",
       "    }\n",
       "</style>\n",
       "<table border=\"1\" class=\"dataframe\">\n",
       "  <thead>\n",
       "    <tr style=\"text-align: right;\">\n",
       "      <th></th>\n",
       "      <th>user_id</th>\n",
       "      <th>month</th>\n",
       "      <th>duration</th>\n",
       "    </tr>\n",
       "  </thead>\n",
       "  <tbody>\n",
       "    <tr>\n",
       "      <th>0</th>\n",
       "      <td>1000</td>\n",
       "      <td>12</td>\n",
       "      <td>116.83</td>\n",
       "    </tr>\n",
       "    <tr>\n",
       "      <th>1</th>\n",
       "      <td>1001</td>\n",
       "      <td>8</td>\n",
       "      <td>171.14</td>\n",
       "    </tr>\n",
       "    <tr>\n",
       "      <th>2</th>\n",
       "      <td>1001</td>\n",
       "      <td>9</td>\n",
       "      <td>297.69</td>\n",
       "    </tr>\n",
       "    <tr>\n",
       "      <th>3</th>\n",
       "      <td>1001</td>\n",
       "      <td>10</td>\n",
       "      <td>374.11</td>\n",
       "    </tr>\n",
       "    <tr>\n",
       "      <th>4</th>\n",
       "      <td>1001</td>\n",
       "      <td>11</td>\n",
       "      <td>404.59</td>\n",
       "    </tr>\n",
       "    <tr>\n",
       "      <th>...</th>\n",
       "      <td>...</td>\n",
       "      <td>...</td>\n",
       "      <td>...</td>\n",
       "    </tr>\n",
       "    <tr>\n",
       "      <th>2253</th>\n",
       "      <td>1498</td>\n",
       "      <td>12</td>\n",
       "      <td>324.77</td>\n",
       "    </tr>\n",
       "    <tr>\n",
       "      <th>2254</th>\n",
       "      <td>1499</td>\n",
       "      <td>9</td>\n",
       "      <td>330.37</td>\n",
       "    </tr>\n",
       "    <tr>\n",
       "      <th>2255</th>\n",
       "      <td>1499</td>\n",
       "      <td>10</td>\n",
       "      <td>363.28</td>\n",
       "    </tr>\n",
       "    <tr>\n",
       "      <th>2256</th>\n",
       "      <td>1499</td>\n",
       "      <td>11</td>\n",
       "      <td>288.56</td>\n",
       "    </tr>\n",
       "    <tr>\n",
       "      <th>2257</th>\n",
       "      <td>1499</td>\n",
       "      <td>12</td>\n",
       "      <td>468.10</td>\n",
       "    </tr>\n",
       "  </tbody>\n",
       "</table>\n",
       "<p>2258 rows × 3 columns</p>\n",
       "</div>"
      ],
      "text/plain": [
       "      user_id  month  duration\n",
       "0        1000     12    116.83\n",
       "1        1001      8    171.14\n",
       "2        1001      9    297.69\n",
       "3        1001     10    374.11\n",
       "4        1001     11    404.59\n",
       "...       ...    ...       ...\n",
       "2253     1498     12    324.77\n",
       "2254     1499      9    330.37\n",
       "2255     1499     10    363.28\n",
       "2256     1499     11    288.56\n",
       "2257     1499     12    468.10\n",
       "\n",
       "[2258 rows x 3 columns]"
      ]
     },
     "execution_count": 25,
     "metadata": {},
     "output_type": "execute_result"
    }
   ],
   "source": [
    "total_minutes_spent"
   ]
  },
  {
   "cell_type": "code",
   "execution_count": 26,
   "metadata": {
    "scrolled": false
   },
   "outputs": [],
   "source": [
    "# Calculate the number of messages sent by each user per month. Save the result.\n",
    "plans1 = users[[\"user_id\", \"plan\"]]\n",
    "one = total_minutes_spent.merge(plans1, on=\"user_id\")"
   ]
  },
  {
   "cell_type": "code",
   "execution_count": 27,
   "metadata": {},
   "outputs": [
    {
     "data": {
      "text/html": [
       "<div>\n",
       "<style scoped>\n",
       "    .dataframe tbody tr th:only-of-type {\n",
       "        vertical-align: middle;\n",
       "    }\n",
       "\n",
       "    .dataframe tbody tr th {\n",
       "        vertical-align: top;\n",
       "    }\n",
       "\n",
       "    .dataframe thead th {\n",
       "        text-align: right;\n",
       "    }\n",
       "</style>\n",
       "<table border=\"1\" class=\"dataframe\">\n",
       "  <thead>\n",
       "    <tr style=\"text-align: right;\">\n",
       "      <th></th>\n",
       "      <th>id</th>\n",
       "      <th>user_id</th>\n",
       "      <th>message_date</th>\n",
       "      <th>month</th>\n",
       "    </tr>\n",
       "  </thead>\n",
       "  <tbody>\n",
       "    <tr>\n",
       "      <th>0</th>\n",
       "      <td>1000_125</td>\n",
       "      <td>1000</td>\n",
       "      <td>2018-12-27</td>\n",
       "      <td>12</td>\n",
       "    </tr>\n",
       "    <tr>\n",
       "      <th>1</th>\n",
       "      <td>1000_160</td>\n",
       "      <td>1000</td>\n",
       "      <td>2018-12-31</td>\n",
       "      <td>12</td>\n",
       "    </tr>\n",
       "    <tr>\n",
       "      <th>2</th>\n",
       "      <td>1000_223</td>\n",
       "      <td>1000</td>\n",
       "      <td>2018-12-31</td>\n",
       "      <td>12</td>\n",
       "    </tr>\n",
       "    <tr>\n",
       "      <th>3</th>\n",
       "      <td>1000_251</td>\n",
       "      <td>1000</td>\n",
       "      <td>2018-12-27</td>\n",
       "      <td>12</td>\n",
       "    </tr>\n",
       "    <tr>\n",
       "      <th>4</th>\n",
       "      <td>1000_255</td>\n",
       "      <td>1000</td>\n",
       "      <td>2018-12-26</td>\n",
       "      <td>12</td>\n",
       "    </tr>\n",
       "  </tbody>\n",
       "</table>\n",
       "</div>"
      ],
      "text/plain": [
       "         id  user_id message_date  month\n",
       "0  1000_125     1000   2018-12-27     12\n",
       "1  1000_160     1000   2018-12-31     12\n",
       "2  1000_223     1000   2018-12-31     12\n",
       "3  1000_251     1000   2018-12-27     12\n",
       "4  1000_255     1000   2018-12-26     12"
      ]
     },
     "execution_count": 27,
     "metadata": {},
     "output_type": "execute_result"
    }
   ],
   "source": [
    "messages.head()"
   ]
  },
  {
   "cell_type": "code",
   "execution_count": 28,
   "metadata": {},
   "outputs": [
    {
     "data": {
      "text/html": [
       "<div>\n",
       "<style scoped>\n",
       "    .dataframe tbody tr th:only-of-type {\n",
       "        vertical-align: middle;\n",
       "    }\n",
       "\n",
       "    .dataframe tbody tr th {\n",
       "        vertical-align: top;\n",
       "    }\n",
       "\n",
       "    .dataframe thead th {\n",
       "        text-align: right;\n",
       "    }\n",
       "</style>\n",
       "<table border=\"1\" class=\"dataframe\">\n",
       "  <thead>\n",
       "    <tr style=\"text-align: right;\">\n",
       "      <th></th>\n",
       "      <th>user_id</th>\n",
       "      <th>month</th>\n",
       "      <th>duration</th>\n",
       "      <th>plan</th>\n",
       "      <th>index</th>\n",
       "      <th>total_monthly_texts</th>\n",
       "    </tr>\n",
       "  </thead>\n",
       "  <tbody>\n",
       "    <tr>\n",
       "      <th>0</th>\n",
       "      <td>1000</td>\n",
       "      <td>12</td>\n",
       "      <td>116.83</td>\n",
       "      <td>ultimate</td>\n",
       "      <td>0</td>\n",
       "      <td>11</td>\n",
       "    </tr>\n",
       "    <tr>\n",
       "      <th>1</th>\n",
       "      <td>1001</td>\n",
       "      <td>8</td>\n",
       "      <td>171.14</td>\n",
       "      <td>surf</td>\n",
       "      <td>1</td>\n",
       "      <td>30</td>\n",
       "    </tr>\n",
       "    <tr>\n",
       "      <th>2</th>\n",
       "      <td>1001</td>\n",
       "      <td>9</td>\n",
       "      <td>297.69</td>\n",
       "      <td>surf</td>\n",
       "      <td>2</td>\n",
       "      <td>44</td>\n",
       "    </tr>\n",
       "    <tr>\n",
       "      <th>3</th>\n",
       "      <td>1001</td>\n",
       "      <td>10</td>\n",
       "      <td>374.11</td>\n",
       "      <td>surf</td>\n",
       "      <td>3</td>\n",
       "      <td>53</td>\n",
       "    </tr>\n",
       "    <tr>\n",
       "      <th>4</th>\n",
       "      <td>1001</td>\n",
       "      <td>11</td>\n",
       "      <td>404.59</td>\n",
       "      <td>surf</td>\n",
       "      <td>4</td>\n",
       "      <td>36</td>\n",
       "    </tr>\n",
       "    <tr>\n",
       "      <th>...</th>\n",
       "      <td>...</td>\n",
       "      <td>...</td>\n",
       "      <td>...</td>\n",
       "      <td>...</td>\n",
       "      <td>...</td>\n",
       "      <td>...</td>\n",
       "    </tr>\n",
       "    <tr>\n",
       "      <th>1768</th>\n",
       "      <td>1496</td>\n",
       "      <td>9</td>\n",
       "      <td>389.94</td>\n",
       "      <td>surf</td>\n",
       "      <td>1801</td>\n",
       "      <td>21</td>\n",
       "    </tr>\n",
       "    <tr>\n",
       "      <th>1769</th>\n",
       "      <td>1496</td>\n",
       "      <td>10</td>\n",
       "      <td>301.16</td>\n",
       "      <td>surf</td>\n",
       "      <td>1802</td>\n",
       "      <td>18</td>\n",
       "    </tr>\n",
       "    <tr>\n",
       "      <th>1770</th>\n",
       "      <td>1496</td>\n",
       "      <td>11</td>\n",
       "      <td>291.88</td>\n",
       "      <td>surf</td>\n",
       "      <td>1803</td>\n",
       "      <td>13</td>\n",
       "    </tr>\n",
       "    <tr>\n",
       "      <th>1771</th>\n",
       "      <td>1496</td>\n",
       "      <td>12</td>\n",
       "      <td>278.61</td>\n",
       "      <td>surf</td>\n",
       "      <td>1804</td>\n",
       "      <td>11</td>\n",
       "    </tr>\n",
       "    <tr>\n",
       "      <th>1772</th>\n",
       "      <td>1497</td>\n",
       "      <td>12</td>\n",
       "      <td>276.53</td>\n",
       "      <td>ultimate</td>\n",
       "      <td>1805</td>\n",
       "      <td>50</td>\n",
       "    </tr>\n",
       "  </tbody>\n",
       "</table>\n",
       "<p>1773 rows × 6 columns</p>\n",
       "</div>"
      ],
      "text/plain": [
       "      user_id  month  duration      plan  index  total_monthly_texts\n",
       "0        1000     12    116.83  ultimate      0                   11\n",
       "1        1001      8    171.14      surf      1                   30\n",
       "2        1001      9    297.69      surf      2                   44\n",
       "3        1001     10    374.11      surf      3                   53\n",
       "4        1001     11    404.59      surf      4                   36\n",
       "...       ...    ...       ...       ...    ...                  ...\n",
       "1768     1496      9    389.94      surf   1801                   21\n",
       "1769     1496     10    301.16      surf   1802                   18\n",
       "1770     1496     11    291.88      surf   1803                   13\n",
       "1771     1496     12    278.61      surf   1804                   11\n",
       "1772     1497     12    276.53  ultimate   1805                   50\n",
       "\n",
       "[1773 rows x 6 columns]"
      ]
     },
     "execution_count": 28,
     "metadata": {},
     "output_type": "execute_result"
    }
   ],
   "source": [
    "\n",
    "total_monthly_texts = messages.groupby([\"user_id\", \"month\"])[\"id\"].count().reset_index()\n",
    "total_monthly_texts= total_monthly_texts.rename({\"id\":\"total_monthly_texts\"}, axis=1).reset_index()\n",
    "two= one.merge(total_monthly_texts, on=[\"user_id\",\"month\"])\n",
    "two"
   ]
  },
  {
   "cell_type": "code",
   "execution_count": 29,
   "metadata": {},
   "outputs": [
    {
     "data": {
      "text/plain": [
       "user_id                0\n",
       "month                  0\n",
       "duration               0\n",
       "plan                   0\n",
       "index                  0\n",
       "total_monthly_texts    0\n",
       "mb_used                0\n",
       "number_of_calls        0\n",
       "city                   0\n",
       "dtype: int64"
      ]
     },
     "execution_count": 29,
     "metadata": {},
     "output_type": "execute_result"
    }
   ],
   "source": [
    "# Calculate the volume of internet traffic used by each user per month. Save the result.\n",
    "monthly_data_usage=internet.groupby([\"user_id\", \"month\"])[\"mb_used\"].sum().reset_index()\n",
    "monthly_data_usage\n",
    "three=two.merge(monthly_data_usage, on=[\"user_id\", \"month\"])\n",
    "number_of_calls_per_user.rename({'id':'number_of_calls'}, axis=1, inplace=True)\n",
    "four=three.merge(number_of_calls_per_user, on=[\"user_id\", \"month\"])\n",
    "final_rec=four.merge(city, on=\"user_id\")\n",
    "final_rec.isna().sum()"
   ]
  },
  {
   "cell_type": "code",
   "execution_count": 30,
   "metadata": {
    "scrolled": false
   },
   "outputs": [
    {
     "data": {
      "text/html": [
       "<div>\n",
       "<style scoped>\n",
       "    .dataframe tbody tr th:only-of-type {\n",
       "        vertical-align: middle;\n",
       "    }\n",
       "\n",
       "    .dataframe tbody tr th {\n",
       "        vertical-align: top;\n",
       "    }\n",
       "\n",
       "    .dataframe thead th {\n",
       "        text-align: right;\n",
       "    }\n",
       "</style>\n",
       "<table border=\"1\" class=\"dataframe\">\n",
       "  <thead>\n",
       "    <tr style=\"text-align: right;\">\n",
       "      <th></th>\n",
       "      <th>user_id</th>\n",
       "      <th>month</th>\n",
       "      <th>duration</th>\n",
       "      <th>plan</th>\n",
       "      <th>index</th>\n",
       "      <th>total_monthly_texts</th>\n",
       "      <th>mb_used</th>\n",
       "      <th>number_of_calls</th>\n",
       "      <th>city</th>\n",
       "    </tr>\n",
       "  </thead>\n",
       "  <tbody>\n",
       "    <tr>\n",
       "      <th>0</th>\n",
       "      <td>1000</td>\n",
       "      <td>12</td>\n",
       "      <td>116.83</td>\n",
       "      <td>ultimate</td>\n",
       "      <td>0</td>\n",
       "      <td>11</td>\n",
       "      <td>1901.47</td>\n",
       "      <td>16</td>\n",
       "      <td>Atlanta-Sandy Springs-Roswell, GA MSA</td>\n",
       "    </tr>\n",
       "    <tr>\n",
       "      <th>1</th>\n",
       "      <td>1001</td>\n",
       "      <td>8</td>\n",
       "      <td>171.14</td>\n",
       "      <td>surf</td>\n",
       "      <td>1</td>\n",
       "      <td>30</td>\n",
       "      <td>7131.50</td>\n",
       "      <td>27</td>\n",
       "      <td>Seattle-Tacoma-Bellevue, WA MSA</td>\n",
       "    </tr>\n",
       "    <tr>\n",
       "      <th>2</th>\n",
       "      <td>1001</td>\n",
       "      <td>9</td>\n",
       "      <td>297.69</td>\n",
       "      <td>surf</td>\n",
       "      <td>2</td>\n",
       "      <td>44</td>\n",
       "      <td>13311.04</td>\n",
       "      <td>49</td>\n",
       "      <td>Seattle-Tacoma-Bellevue, WA MSA</td>\n",
       "    </tr>\n",
       "    <tr>\n",
       "      <th>3</th>\n",
       "      <td>1001</td>\n",
       "      <td>10</td>\n",
       "      <td>374.11</td>\n",
       "      <td>surf</td>\n",
       "      <td>3</td>\n",
       "      <td>53</td>\n",
       "      <td>20406.45</td>\n",
       "      <td>65</td>\n",
       "      <td>Seattle-Tacoma-Bellevue, WA MSA</td>\n",
       "    </tr>\n",
       "    <tr>\n",
       "      <th>4</th>\n",
       "      <td>1001</td>\n",
       "      <td>11</td>\n",
       "      <td>404.59</td>\n",
       "      <td>surf</td>\n",
       "      <td>4</td>\n",
       "      <td>36</td>\n",
       "      <td>20873.07</td>\n",
       "      <td>64</td>\n",
       "      <td>Seattle-Tacoma-Bellevue, WA MSA</td>\n",
       "    </tr>\n",
       "  </tbody>\n",
       "</table>\n",
       "</div>"
      ],
      "text/plain": [
       "   user_id  month  duration      plan  index  total_monthly_texts   mb_used  \\\n",
       "0     1000     12    116.83  ultimate      0                   11   1901.47   \n",
       "1     1001      8    171.14      surf      1                   30   7131.50   \n",
       "2     1001      9    297.69      surf      2                   44  13311.04   \n",
       "3     1001     10    374.11      surf      3                   53  20406.45   \n",
       "4     1001     11    404.59      surf      4                   36  20873.07   \n",
       "\n",
       "   number_of_calls                                   city  \n",
       "0               16  Atlanta-Sandy Springs-Roswell, GA MSA  \n",
       "1               27        Seattle-Tacoma-Bellevue, WA MSA  \n",
       "2               49        Seattle-Tacoma-Bellevue, WA MSA  \n",
       "3               65        Seattle-Tacoma-Bellevue, WA MSA  \n",
       "4               64        Seattle-Tacoma-Bellevue, WA MSA  "
      ]
     },
     "execution_count": 30,
     "metadata": {},
     "output_type": "execute_result"
    }
   ],
   "source": [
    "# Merge the data for calls, minutes, messages, internet based on user_id and month\n",
    "final_rec.head()"
   ]
  },
  {
   "cell_type": "code",
   "execution_count": 31,
   "metadata": {
    "scrolled": true
   },
   "outputs": [
    {
     "data": {
      "text/plain": [
       "user_id                0\n",
       "month                  0\n",
       "duration               0\n",
       "plan                   0\n",
       "index                  0\n",
       "total_monthly_texts    0\n",
       "mb_used                0\n",
       "number_of_calls        0\n",
       "city                   0\n",
       "dtype: int64"
      ]
     },
     "execution_count": 31,
     "metadata": {},
     "output_type": "execute_result"
    }
   ],
   "source": [
    "final_rec.isna().sum()"
   ]
  },
  {
   "cell_type": "code",
   "execution_count": 32,
   "metadata": {
    "scrolled": true
   },
   "outputs": [],
   "source": [
    "# Add the plan information\n",
    "def add_plan(row):\n",
    "    if row == \"surf\":\n",
    "        return float(.03)\n",
    "    else:\n",
    "        return float(.01)\n",
    "add_plan(\"surf\")\n",
    "final_rec[\"usd_per_minute\"] = final_rec[\"plan\"].apply(add_plan)\n",
    "final_rec.head()\n",
    "final_rec[\"usd_per_message\"] = final_rec[\"plan\"].apply(add_plan)\n"
   ]
  },
  {
   "cell_type": "code",
   "execution_count": 33,
   "metadata": {},
   "outputs": [],
   "source": [
    "def add_gb(row):\n",
    "    if row == \"surf\":\n",
    "        return 10\n",
    "    else:\n",
    "        return 7\n",
    "final_rec[\"usd_per_gb\"] = final_rec[\"plan\"].apply(add_gb)"
   ]
  },
  {
   "cell_type": "code",
   "execution_count": 34,
   "metadata": {},
   "outputs": [],
   "source": [
    "def add_pay(row):\n",
    "    if row == \"surf\":\n",
    "        return 20\n",
    "    else:\n",
    "        return 70\n",
    "final_rec[\"usd_monthly_pay\"] = final_rec[\"plan\"].apply(add_pay)"
   ]
  },
  {
   "cell_type": "code",
   "execution_count": 35,
   "metadata": {},
   "outputs": [],
   "source": [
    "def add_minutes(row):\n",
    "    if row == \"surf\":\n",
    "        return 500\n",
    "    else:\n",
    "        return 3000\n",
    "final_rec[\"minutes_included\"] = final_rec[\"plan\"].apply(add_minutes)"
   ]
  },
  {
   "cell_type": "code",
   "execution_count": 36,
   "metadata": {},
   "outputs": [],
   "source": [
    "def add_mb(row):\n",
    "    if row == \"surf\":\n",
    "        return 15360\n",
    "    else:\n",
    "        return 30720\n",
    "final_rec[\"mb_included\"] = final_rec[\"plan\"].apply(add_mb) \n"
   ]
  },
  {
   "cell_type": "code",
   "execution_count": 37,
   "metadata": {},
   "outputs": [],
   "source": [
    "def add_messages(row):\n",
    "    if row == \"surf\":\n",
    "        return 50\n",
    "    else:\n",
    "        return 1000\n",
    "final_rec[\"messages_included\"] = final_rec[\"plan\"].apply(add_messages) "
   ]
  },
  {
   "cell_type": "code",
   "execution_count": 38,
   "metadata": {},
   "outputs": [],
   "source": [
    "def convertmb(row):\n",
    "        return round(row/1000)\n",
    "final_rec[\"gb_used\"]=final_rec[\"mb_used\"].apply(convertmb)\n"
   ]
  },
  {
   "cell_type": "code",
   "execution_count": 39,
   "metadata": {
    "scrolled": false
   },
   "outputs": [
    {
     "data": {
      "text/html": [
       "<div>\n",
       "<style scoped>\n",
       "    .dataframe tbody tr th:only-of-type {\n",
       "        vertical-align: middle;\n",
       "    }\n",
       "\n",
       "    .dataframe tbody tr th {\n",
       "        vertical-align: top;\n",
       "    }\n",
       "\n",
       "    .dataframe thead th {\n",
       "        text-align: right;\n",
       "    }\n",
       "</style>\n",
       "<table border=\"1\" class=\"dataframe\">\n",
       "  <thead>\n",
       "    <tr style=\"text-align: right;\">\n",
       "      <th></th>\n",
       "      <th>user_id</th>\n",
       "      <th>month</th>\n",
       "      <th>duration</th>\n",
       "      <th>plan</th>\n",
       "      <th>index</th>\n",
       "      <th>total_monthly_texts</th>\n",
       "      <th>mb_used</th>\n",
       "      <th>number_of_calls</th>\n",
       "      <th>city</th>\n",
       "      <th>usd_per_minute</th>\n",
       "      <th>usd_per_message</th>\n",
       "      <th>usd_per_gb</th>\n",
       "      <th>usd_monthly_pay</th>\n",
       "      <th>minutes_included</th>\n",
       "      <th>mb_included</th>\n",
       "      <th>messages_included</th>\n",
       "      <th>gb_used</th>\n",
       "    </tr>\n",
       "  </thead>\n",
       "  <tbody>\n",
       "    <tr>\n",
       "      <th>0</th>\n",
       "      <td>1000</td>\n",
       "      <td>12</td>\n",
       "      <td>116.83</td>\n",
       "      <td>ultimate</td>\n",
       "      <td>0</td>\n",
       "      <td>11</td>\n",
       "      <td>1901.47</td>\n",
       "      <td>16</td>\n",
       "      <td>Atlanta-Sandy Springs-Roswell, GA MSA</td>\n",
       "      <td>0.01</td>\n",
       "      <td>0.01</td>\n",
       "      <td>7</td>\n",
       "      <td>70</td>\n",
       "      <td>3000</td>\n",
       "      <td>30720</td>\n",
       "      <td>1000</td>\n",
       "      <td>2</td>\n",
       "    </tr>\n",
       "    <tr>\n",
       "      <th>1</th>\n",
       "      <td>1001</td>\n",
       "      <td>8</td>\n",
       "      <td>171.14</td>\n",
       "      <td>surf</td>\n",
       "      <td>1</td>\n",
       "      <td>30</td>\n",
       "      <td>7131.50</td>\n",
       "      <td>27</td>\n",
       "      <td>Seattle-Tacoma-Bellevue, WA MSA</td>\n",
       "      <td>0.03</td>\n",
       "      <td>0.03</td>\n",
       "      <td>10</td>\n",
       "      <td>20</td>\n",
       "      <td>500</td>\n",
       "      <td>15360</td>\n",
       "      <td>50</td>\n",
       "      <td>7</td>\n",
       "    </tr>\n",
       "    <tr>\n",
       "      <th>2</th>\n",
       "      <td>1001</td>\n",
       "      <td>9</td>\n",
       "      <td>297.69</td>\n",
       "      <td>surf</td>\n",
       "      <td>2</td>\n",
       "      <td>44</td>\n",
       "      <td>13311.04</td>\n",
       "      <td>49</td>\n",
       "      <td>Seattle-Tacoma-Bellevue, WA MSA</td>\n",
       "      <td>0.03</td>\n",
       "      <td>0.03</td>\n",
       "      <td>10</td>\n",
       "      <td>20</td>\n",
       "      <td>500</td>\n",
       "      <td>15360</td>\n",
       "      <td>50</td>\n",
       "      <td>13</td>\n",
       "    </tr>\n",
       "    <tr>\n",
       "      <th>3</th>\n",
       "      <td>1001</td>\n",
       "      <td>10</td>\n",
       "      <td>374.11</td>\n",
       "      <td>surf</td>\n",
       "      <td>3</td>\n",
       "      <td>53</td>\n",
       "      <td>20406.45</td>\n",
       "      <td>65</td>\n",
       "      <td>Seattle-Tacoma-Bellevue, WA MSA</td>\n",
       "      <td>0.03</td>\n",
       "      <td>0.03</td>\n",
       "      <td>10</td>\n",
       "      <td>20</td>\n",
       "      <td>500</td>\n",
       "      <td>15360</td>\n",
       "      <td>50</td>\n",
       "      <td>20</td>\n",
       "    </tr>\n",
       "    <tr>\n",
       "      <th>4</th>\n",
       "      <td>1001</td>\n",
       "      <td>11</td>\n",
       "      <td>404.59</td>\n",
       "      <td>surf</td>\n",
       "      <td>4</td>\n",
       "      <td>36</td>\n",
       "      <td>20873.07</td>\n",
       "      <td>64</td>\n",
       "      <td>Seattle-Tacoma-Bellevue, WA MSA</td>\n",
       "      <td>0.03</td>\n",
       "      <td>0.03</td>\n",
       "      <td>10</td>\n",
       "      <td>20</td>\n",
       "      <td>500</td>\n",
       "      <td>15360</td>\n",
       "      <td>50</td>\n",
       "      <td>21</td>\n",
       "    </tr>\n",
       "  </tbody>\n",
       "</table>\n",
       "</div>"
      ],
      "text/plain": [
       "   user_id  month  duration      plan  index  total_monthly_texts   mb_used  \\\n",
       "0     1000     12    116.83  ultimate      0                   11   1901.47   \n",
       "1     1001      8    171.14      surf      1                   30   7131.50   \n",
       "2     1001      9    297.69      surf      2                   44  13311.04   \n",
       "3     1001     10    374.11      surf      3                   53  20406.45   \n",
       "4     1001     11    404.59      surf      4                   36  20873.07   \n",
       "\n",
       "   number_of_calls                                   city  usd_per_minute  \\\n",
       "0               16  Atlanta-Sandy Springs-Roswell, GA MSA            0.01   \n",
       "1               27        Seattle-Tacoma-Bellevue, WA MSA            0.03   \n",
       "2               49        Seattle-Tacoma-Bellevue, WA MSA            0.03   \n",
       "3               65        Seattle-Tacoma-Bellevue, WA MSA            0.03   \n",
       "4               64        Seattle-Tacoma-Bellevue, WA MSA            0.03   \n",
       "\n",
       "   usd_per_message  usd_per_gb  usd_monthly_pay  minutes_included  \\\n",
       "0             0.01           7               70              3000   \n",
       "1             0.03          10               20               500   \n",
       "2             0.03          10               20               500   \n",
       "3             0.03          10               20               500   \n",
       "4             0.03          10               20               500   \n",
       "\n",
       "   mb_included  messages_included  gb_used  \n",
       "0        30720               1000        2  \n",
       "1        15360                 50        7  \n",
       "2        15360                 50       13  \n",
       "3        15360                 50       20  \n",
       "4        15360                 50       21  "
      ]
     },
     "execution_count": 39,
     "metadata": {},
     "output_type": "execute_result"
    }
   ],
   "source": [
    "final_rec.head()"
   ]
  },
  {
   "cell_type": "code",
   "execution_count": 40,
   "metadata": {},
   "outputs": [
    {
     "data": {
      "text/plain": [
       "user_id                0\n",
       "month                  0\n",
       "duration               0\n",
       "plan                   0\n",
       "index                  0\n",
       "total_monthly_texts    0\n",
       "mb_used                0\n",
       "number_of_calls        0\n",
       "city                   0\n",
       "usd_per_minute         0\n",
       "usd_per_message        0\n",
       "usd_per_gb             0\n",
       "usd_monthly_pay        0\n",
       "minutes_included       0\n",
       "mb_included            0\n",
       "messages_included      0\n",
       "gb_used                0\n",
       "dtype: int64"
      ]
     },
     "execution_count": 40,
     "metadata": {},
     "output_type": "execute_result"
    }
   ],
   "source": [
    "final_rec.isna().sum()"
   ]
  },
  {
   "cell_type": "code",
   "execution_count": 41,
   "metadata": {},
   "outputs": [],
   "source": [
    "def included_min(row):\n",
    "    if row == \"surf\":\n",
    "        return 500\n",
    "    else: \n",
    "        return 3000\n",
    "final_rec[\"included_min\"]=final_rec[\"plan\"].apply(included_min)\n"
   ]
  },
  {
   "cell_type": "code",
   "execution_count": 42,
   "metadata": {},
   "outputs": [],
   "source": [
    "def included_texts(row):\n",
    "    if row == \"surf\":\n",
    "        return 50\n",
    "    else:\n",
    "        return 1000\n",
    "final_rec[\"included_texts\"]=final_rec[\"plan\"].apply(included_texts)"
   ]
  },
  {
   "cell_type": "code",
   "execution_count": 43,
   "metadata": {},
   "outputs": [],
   "source": [
    "def included_gb(row):\n",
    "    if row == \"surf\":\n",
    "        return 15\n",
    "    else:\n",
    "        return 30\n",
    "final_rec[\"included_gb\"]=final_rec[\"plan\"].apply(included_gb)"
   ]
  },
  {
   "cell_type": "code",
   "execution_count": 44,
   "metadata": {
    "scrolled": false
   },
   "outputs": [
    {
     "data": {
      "text/plain": [
       "user_id                0\n",
       "month                  0\n",
       "duration               0\n",
       "plan                   0\n",
       "index                  0\n",
       "total_monthly_texts    0\n",
       "mb_used                0\n",
       "number_of_calls        0\n",
       "city                   0\n",
       "usd_per_minute         0\n",
       "usd_per_message        0\n",
       "usd_per_gb             0\n",
       "usd_monthly_pay        0\n",
       "minutes_included       0\n",
       "mb_included            0\n",
       "messages_included      0\n",
       "gb_used                0\n",
       "included_min           0\n",
       "included_texts         0\n",
       "included_gb            0\n",
       "dtype: int64"
      ]
     },
     "execution_count": 44,
     "metadata": {},
     "output_type": "execute_result"
    }
   ],
   "source": [
    "# Calculate the monthly revenue for each user\n",
    "surf_month=20\n",
    "ultimate_month=70\n",
    "final_rec.isna().sum()\n"
   ]
  },
  {
   "cell_type": "code",
   "execution_count": 45,
   "metadata": {},
   "outputs": [
    {
     "data": {
      "text/html": [
       "<div>\n",
       "<style scoped>\n",
       "    .dataframe tbody tr th:only-of-type {\n",
       "        vertical-align: middle;\n",
       "    }\n",
       "\n",
       "    .dataframe tbody tr th {\n",
       "        vertical-align: top;\n",
       "    }\n",
       "\n",
       "    .dataframe thead th {\n",
       "        text-align: right;\n",
       "    }\n",
       "</style>\n",
       "<table border=\"1\" class=\"dataframe\">\n",
       "  <thead>\n",
       "    <tr style=\"text-align: right;\">\n",
       "      <th></th>\n",
       "      <th>user_id</th>\n",
       "      <th>month</th>\n",
       "      <th>duration</th>\n",
       "      <th>plan</th>\n",
       "      <th>index</th>\n",
       "      <th>total_monthly_texts</th>\n",
       "      <th>mb_used</th>\n",
       "      <th>number_of_calls</th>\n",
       "      <th>city</th>\n",
       "      <th>usd_per_minute</th>\n",
       "      <th>...</th>\n",
       "      <th>usd_per_gb</th>\n",
       "      <th>usd_monthly_pay</th>\n",
       "      <th>minutes_included</th>\n",
       "      <th>mb_included</th>\n",
       "      <th>messages_included</th>\n",
       "      <th>gb_used</th>\n",
       "      <th>included_min</th>\n",
       "      <th>included_texts</th>\n",
       "      <th>included_gb</th>\n",
       "      <th>gb_diff</th>\n",
       "    </tr>\n",
       "  </thead>\n",
       "  <tbody>\n",
       "    <tr>\n",
       "      <th>0</th>\n",
       "      <td>1000</td>\n",
       "      <td>12</td>\n",
       "      <td>116.83</td>\n",
       "      <td>ultimate</td>\n",
       "      <td>0</td>\n",
       "      <td>11</td>\n",
       "      <td>1901.47</td>\n",
       "      <td>16</td>\n",
       "      <td>Atlanta-Sandy Springs-Roswell, GA MSA</td>\n",
       "      <td>0.01</td>\n",
       "      <td>...</td>\n",
       "      <td>7</td>\n",
       "      <td>70</td>\n",
       "      <td>3000</td>\n",
       "      <td>30720</td>\n",
       "      <td>1000</td>\n",
       "      <td>2</td>\n",
       "      <td>3000</td>\n",
       "      <td>1000</td>\n",
       "      <td>30</td>\n",
       "      <td>-28</td>\n",
       "    </tr>\n",
       "    <tr>\n",
       "      <th>1</th>\n",
       "      <td>1001</td>\n",
       "      <td>8</td>\n",
       "      <td>171.14</td>\n",
       "      <td>surf</td>\n",
       "      <td>1</td>\n",
       "      <td>30</td>\n",
       "      <td>7131.50</td>\n",
       "      <td>27</td>\n",
       "      <td>Seattle-Tacoma-Bellevue, WA MSA</td>\n",
       "      <td>0.03</td>\n",
       "      <td>...</td>\n",
       "      <td>10</td>\n",
       "      <td>20</td>\n",
       "      <td>500</td>\n",
       "      <td>15360</td>\n",
       "      <td>50</td>\n",
       "      <td>7</td>\n",
       "      <td>500</td>\n",
       "      <td>50</td>\n",
       "      <td>15</td>\n",
       "      <td>-8</td>\n",
       "    </tr>\n",
       "    <tr>\n",
       "      <th>2</th>\n",
       "      <td>1001</td>\n",
       "      <td>9</td>\n",
       "      <td>297.69</td>\n",
       "      <td>surf</td>\n",
       "      <td>2</td>\n",
       "      <td>44</td>\n",
       "      <td>13311.04</td>\n",
       "      <td>49</td>\n",
       "      <td>Seattle-Tacoma-Bellevue, WA MSA</td>\n",
       "      <td>0.03</td>\n",
       "      <td>...</td>\n",
       "      <td>10</td>\n",
       "      <td>20</td>\n",
       "      <td>500</td>\n",
       "      <td>15360</td>\n",
       "      <td>50</td>\n",
       "      <td>13</td>\n",
       "      <td>500</td>\n",
       "      <td>50</td>\n",
       "      <td>15</td>\n",
       "      <td>-2</td>\n",
       "    </tr>\n",
       "    <tr>\n",
       "      <th>3</th>\n",
       "      <td>1001</td>\n",
       "      <td>10</td>\n",
       "      <td>374.11</td>\n",
       "      <td>surf</td>\n",
       "      <td>3</td>\n",
       "      <td>53</td>\n",
       "      <td>20406.45</td>\n",
       "      <td>65</td>\n",
       "      <td>Seattle-Tacoma-Bellevue, WA MSA</td>\n",
       "      <td>0.03</td>\n",
       "      <td>...</td>\n",
       "      <td>10</td>\n",
       "      <td>20</td>\n",
       "      <td>500</td>\n",
       "      <td>15360</td>\n",
       "      <td>50</td>\n",
       "      <td>20</td>\n",
       "      <td>500</td>\n",
       "      <td>50</td>\n",
       "      <td>15</td>\n",
       "      <td>5</td>\n",
       "    </tr>\n",
       "    <tr>\n",
       "      <th>4</th>\n",
       "      <td>1001</td>\n",
       "      <td>11</td>\n",
       "      <td>404.59</td>\n",
       "      <td>surf</td>\n",
       "      <td>4</td>\n",
       "      <td>36</td>\n",
       "      <td>20873.07</td>\n",
       "      <td>64</td>\n",
       "      <td>Seattle-Tacoma-Bellevue, WA MSA</td>\n",
       "      <td>0.03</td>\n",
       "      <td>...</td>\n",
       "      <td>10</td>\n",
       "      <td>20</td>\n",
       "      <td>500</td>\n",
       "      <td>15360</td>\n",
       "      <td>50</td>\n",
       "      <td>21</td>\n",
       "      <td>500</td>\n",
       "      <td>50</td>\n",
       "      <td>15</td>\n",
       "      <td>6</td>\n",
       "    </tr>\n",
       "  </tbody>\n",
       "</table>\n",
       "<p>5 rows × 21 columns</p>\n",
       "</div>"
      ],
      "text/plain": [
       "   user_id  month  duration      plan  index  total_monthly_texts   mb_used  \\\n",
       "0     1000     12    116.83  ultimate      0                   11   1901.47   \n",
       "1     1001      8    171.14      surf      1                   30   7131.50   \n",
       "2     1001      9    297.69      surf      2                   44  13311.04   \n",
       "3     1001     10    374.11      surf      3                   53  20406.45   \n",
       "4     1001     11    404.59      surf      4                   36  20873.07   \n",
       "\n",
       "   number_of_calls                                   city  usd_per_minute  \\\n",
       "0               16  Atlanta-Sandy Springs-Roswell, GA MSA            0.01   \n",
       "1               27        Seattle-Tacoma-Bellevue, WA MSA            0.03   \n",
       "2               49        Seattle-Tacoma-Bellevue, WA MSA            0.03   \n",
       "3               65        Seattle-Tacoma-Bellevue, WA MSA            0.03   \n",
       "4               64        Seattle-Tacoma-Bellevue, WA MSA            0.03   \n",
       "\n",
       "   ...  usd_per_gb  usd_monthly_pay  minutes_included  mb_included  \\\n",
       "0  ...           7               70              3000        30720   \n",
       "1  ...          10               20               500        15360   \n",
       "2  ...          10               20               500        15360   \n",
       "3  ...          10               20               500        15360   \n",
       "4  ...          10               20               500        15360   \n",
       "\n",
       "   messages_included  gb_used  included_min  included_texts  included_gb  \\\n",
       "0               1000        2          3000            1000           30   \n",
       "1                 50        7           500              50           15   \n",
       "2                 50       13           500              50           15   \n",
       "3                 50       20           500              50           15   \n",
       "4                 50       21           500              50           15   \n",
       "\n",
       "   gb_diff  \n",
       "0      -28  \n",
       "1       -8  \n",
       "2       -2  \n",
       "3        5  \n",
       "4        6  \n",
       "\n",
       "[5 rows x 21 columns]"
      ]
     },
     "execution_count": 45,
     "metadata": {},
     "output_type": "execute_result"
    }
   ],
   "source": [
    "final_rec[\"gb_diff\"] = final_rec[\"gb_used\"] - final_rec[\"included_gb\"]\n",
    "final_rec.head()\n"
   ]
  },
  {
   "cell_type": "code",
   "execution_count": 46,
   "metadata": {},
   "outputs": [],
   "source": [
    "def rev(row):\n",
    "    if row > 0:\n",
    "        return row\n",
    "    else:\n",
    "        return 0\n"
   ]
  },
  {
   "cell_type": "code",
   "execution_count": 47,
   "metadata": {
    "scrolled": false
   },
   "outputs": [
    {
     "data": {
      "text/html": [
       "<div>\n",
       "<style scoped>\n",
       "    .dataframe tbody tr th:only-of-type {\n",
       "        vertical-align: middle;\n",
       "    }\n",
       "\n",
       "    .dataframe tbody tr th {\n",
       "        vertical-align: top;\n",
       "    }\n",
       "\n",
       "    .dataframe thead th {\n",
       "        text-align: right;\n",
       "    }\n",
       "</style>\n",
       "<table border=\"1\" class=\"dataframe\">\n",
       "  <thead>\n",
       "    <tr style=\"text-align: right;\">\n",
       "      <th></th>\n",
       "      <th>user_id</th>\n",
       "      <th>month</th>\n",
       "      <th>duration</th>\n",
       "      <th>plan</th>\n",
       "      <th>index</th>\n",
       "      <th>total_monthly_texts</th>\n",
       "      <th>mb_used</th>\n",
       "      <th>number_of_calls</th>\n",
       "      <th>city</th>\n",
       "      <th>usd_per_minute</th>\n",
       "      <th>...</th>\n",
       "      <th>usd_monthly_pay</th>\n",
       "      <th>minutes_included</th>\n",
       "      <th>mb_included</th>\n",
       "      <th>messages_included</th>\n",
       "      <th>gb_used</th>\n",
       "      <th>included_min</th>\n",
       "      <th>included_texts</th>\n",
       "      <th>included_gb</th>\n",
       "      <th>gb_diff</th>\n",
       "      <th>extra_gb</th>\n",
       "    </tr>\n",
       "  </thead>\n",
       "  <tbody>\n",
       "    <tr>\n",
       "      <th>0</th>\n",
       "      <td>1000</td>\n",
       "      <td>12</td>\n",
       "      <td>116.83</td>\n",
       "      <td>ultimate</td>\n",
       "      <td>0</td>\n",
       "      <td>11</td>\n",
       "      <td>1901.47</td>\n",
       "      <td>16</td>\n",
       "      <td>Atlanta-Sandy Springs-Roswell, GA MSA</td>\n",
       "      <td>0.01</td>\n",
       "      <td>...</td>\n",
       "      <td>70</td>\n",
       "      <td>3000</td>\n",
       "      <td>30720</td>\n",
       "      <td>1000</td>\n",
       "      <td>2</td>\n",
       "      <td>3000</td>\n",
       "      <td>1000</td>\n",
       "      <td>30</td>\n",
       "      <td>-28</td>\n",
       "      <td>0</td>\n",
       "    </tr>\n",
       "    <tr>\n",
       "      <th>1</th>\n",
       "      <td>1001</td>\n",
       "      <td>8</td>\n",
       "      <td>171.14</td>\n",
       "      <td>surf</td>\n",
       "      <td>1</td>\n",
       "      <td>30</td>\n",
       "      <td>7131.50</td>\n",
       "      <td>27</td>\n",
       "      <td>Seattle-Tacoma-Bellevue, WA MSA</td>\n",
       "      <td>0.03</td>\n",
       "      <td>...</td>\n",
       "      <td>20</td>\n",
       "      <td>500</td>\n",
       "      <td>15360</td>\n",
       "      <td>50</td>\n",
       "      <td>7</td>\n",
       "      <td>500</td>\n",
       "      <td>50</td>\n",
       "      <td>15</td>\n",
       "      <td>-8</td>\n",
       "      <td>0</td>\n",
       "    </tr>\n",
       "    <tr>\n",
       "      <th>2</th>\n",
       "      <td>1001</td>\n",
       "      <td>9</td>\n",
       "      <td>297.69</td>\n",
       "      <td>surf</td>\n",
       "      <td>2</td>\n",
       "      <td>44</td>\n",
       "      <td>13311.04</td>\n",
       "      <td>49</td>\n",
       "      <td>Seattle-Tacoma-Bellevue, WA MSA</td>\n",
       "      <td>0.03</td>\n",
       "      <td>...</td>\n",
       "      <td>20</td>\n",
       "      <td>500</td>\n",
       "      <td>15360</td>\n",
       "      <td>50</td>\n",
       "      <td>13</td>\n",
       "      <td>500</td>\n",
       "      <td>50</td>\n",
       "      <td>15</td>\n",
       "      <td>-2</td>\n",
       "      <td>0</td>\n",
       "    </tr>\n",
       "    <tr>\n",
       "      <th>3</th>\n",
       "      <td>1001</td>\n",
       "      <td>10</td>\n",
       "      <td>374.11</td>\n",
       "      <td>surf</td>\n",
       "      <td>3</td>\n",
       "      <td>53</td>\n",
       "      <td>20406.45</td>\n",
       "      <td>65</td>\n",
       "      <td>Seattle-Tacoma-Bellevue, WA MSA</td>\n",
       "      <td>0.03</td>\n",
       "      <td>...</td>\n",
       "      <td>20</td>\n",
       "      <td>500</td>\n",
       "      <td>15360</td>\n",
       "      <td>50</td>\n",
       "      <td>20</td>\n",
       "      <td>500</td>\n",
       "      <td>50</td>\n",
       "      <td>15</td>\n",
       "      <td>5</td>\n",
       "      <td>5</td>\n",
       "    </tr>\n",
       "    <tr>\n",
       "      <th>4</th>\n",
       "      <td>1001</td>\n",
       "      <td>11</td>\n",
       "      <td>404.59</td>\n",
       "      <td>surf</td>\n",
       "      <td>4</td>\n",
       "      <td>36</td>\n",
       "      <td>20873.07</td>\n",
       "      <td>64</td>\n",
       "      <td>Seattle-Tacoma-Bellevue, WA MSA</td>\n",
       "      <td>0.03</td>\n",
       "      <td>...</td>\n",
       "      <td>20</td>\n",
       "      <td>500</td>\n",
       "      <td>15360</td>\n",
       "      <td>50</td>\n",
       "      <td>21</td>\n",
       "      <td>500</td>\n",
       "      <td>50</td>\n",
       "      <td>15</td>\n",
       "      <td>6</td>\n",
       "      <td>6</td>\n",
       "    </tr>\n",
       "  </tbody>\n",
       "</table>\n",
       "<p>5 rows × 22 columns</p>\n",
       "</div>"
      ],
      "text/plain": [
       "   user_id  month  duration      plan  index  total_monthly_texts   mb_used  \\\n",
       "0     1000     12    116.83  ultimate      0                   11   1901.47   \n",
       "1     1001      8    171.14      surf      1                   30   7131.50   \n",
       "2     1001      9    297.69      surf      2                   44  13311.04   \n",
       "3     1001     10    374.11      surf      3                   53  20406.45   \n",
       "4     1001     11    404.59      surf      4                   36  20873.07   \n",
       "\n",
       "   number_of_calls                                   city  usd_per_minute  \\\n",
       "0               16  Atlanta-Sandy Springs-Roswell, GA MSA            0.01   \n",
       "1               27        Seattle-Tacoma-Bellevue, WA MSA            0.03   \n",
       "2               49        Seattle-Tacoma-Bellevue, WA MSA            0.03   \n",
       "3               65        Seattle-Tacoma-Bellevue, WA MSA            0.03   \n",
       "4               64        Seattle-Tacoma-Bellevue, WA MSA            0.03   \n",
       "\n",
       "   ...  usd_monthly_pay  minutes_included  mb_included  messages_included  \\\n",
       "0  ...               70              3000        30720               1000   \n",
       "1  ...               20               500        15360                 50   \n",
       "2  ...               20               500        15360                 50   \n",
       "3  ...               20               500        15360                 50   \n",
       "4  ...               20               500        15360                 50   \n",
       "\n",
       "   gb_used  included_min  included_texts  included_gb  gb_diff  extra_gb  \n",
       "0        2          3000            1000           30      -28         0  \n",
       "1        7           500              50           15       -8         0  \n",
       "2       13           500              50           15       -2         0  \n",
       "3       20           500              50           15        5         5  \n",
       "4       21           500              50           15        6         6  \n",
       "\n",
       "[5 rows x 22 columns]"
      ]
     },
     "execution_count": 47,
     "metadata": {},
     "output_type": "execute_result"
    }
   ],
   "source": [
    "final_rec[\"extra_gb\"] = final_rec[\"gb_diff\"].apply(rev)\n",
    "final_rec.head()"
   ]
  },
  {
   "cell_type": "code",
   "execution_count": 48,
   "metadata": {},
   "outputs": [
    {
     "data": {
      "text/html": [
       "<div>\n",
       "<style scoped>\n",
       "    .dataframe tbody tr th:only-of-type {\n",
       "        vertical-align: middle;\n",
       "    }\n",
       "\n",
       "    .dataframe tbody tr th {\n",
       "        vertical-align: top;\n",
       "    }\n",
       "\n",
       "    .dataframe thead th {\n",
       "        text-align: right;\n",
       "    }\n",
       "</style>\n",
       "<table border=\"1\" class=\"dataframe\">\n",
       "  <thead>\n",
       "    <tr style=\"text-align: right;\">\n",
       "      <th></th>\n",
       "      <th>user_id</th>\n",
       "      <th>month</th>\n",
       "      <th>duration</th>\n",
       "      <th>plan</th>\n",
       "      <th>index</th>\n",
       "      <th>total_monthly_texts</th>\n",
       "      <th>mb_used</th>\n",
       "      <th>number_of_calls</th>\n",
       "      <th>city</th>\n",
       "      <th>usd_per_minute</th>\n",
       "      <th>...</th>\n",
       "      <th>usd_monthly_pay</th>\n",
       "      <th>minutes_included</th>\n",
       "      <th>mb_included</th>\n",
       "      <th>messages_included</th>\n",
       "      <th>gb_used</th>\n",
       "      <th>included_min</th>\n",
       "      <th>included_texts</th>\n",
       "      <th>included_gb</th>\n",
       "      <th>gb_diff</th>\n",
       "      <th>extra_gb</th>\n",
       "    </tr>\n",
       "  </thead>\n",
       "  <tbody>\n",
       "    <tr>\n",
       "      <th>0</th>\n",
       "      <td>1000</td>\n",
       "      <td>12</td>\n",
       "      <td>116.83</td>\n",
       "      <td>ultimate</td>\n",
       "      <td>0</td>\n",
       "      <td>11</td>\n",
       "      <td>1901.47</td>\n",
       "      <td>16</td>\n",
       "      <td>Atlanta-Sandy Springs-Roswell, GA MSA</td>\n",
       "      <td>0.01</td>\n",
       "      <td>...</td>\n",
       "      <td>70</td>\n",
       "      <td>3000</td>\n",
       "      <td>30720</td>\n",
       "      <td>1000</td>\n",
       "      <td>2</td>\n",
       "      <td>3000</td>\n",
       "      <td>1000</td>\n",
       "      <td>30</td>\n",
       "      <td>-28</td>\n",
       "      <td>0</td>\n",
       "    </tr>\n",
       "    <tr>\n",
       "      <th>1</th>\n",
       "      <td>1001</td>\n",
       "      <td>8</td>\n",
       "      <td>171.14</td>\n",
       "      <td>surf</td>\n",
       "      <td>1</td>\n",
       "      <td>30</td>\n",
       "      <td>7131.50</td>\n",
       "      <td>27</td>\n",
       "      <td>Seattle-Tacoma-Bellevue, WA MSA</td>\n",
       "      <td>0.03</td>\n",
       "      <td>...</td>\n",
       "      <td>20</td>\n",
       "      <td>500</td>\n",
       "      <td>15360</td>\n",
       "      <td>50</td>\n",
       "      <td>7</td>\n",
       "      <td>500</td>\n",
       "      <td>50</td>\n",
       "      <td>15</td>\n",
       "      <td>-8</td>\n",
       "      <td>0</td>\n",
       "    </tr>\n",
       "    <tr>\n",
       "      <th>2</th>\n",
       "      <td>1001</td>\n",
       "      <td>9</td>\n",
       "      <td>297.69</td>\n",
       "      <td>surf</td>\n",
       "      <td>2</td>\n",
       "      <td>44</td>\n",
       "      <td>13311.04</td>\n",
       "      <td>49</td>\n",
       "      <td>Seattle-Tacoma-Bellevue, WA MSA</td>\n",
       "      <td>0.03</td>\n",
       "      <td>...</td>\n",
       "      <td>20</td>\n",
       "      <td>500</td>\n",
       "      <td>15360</td>\n",
       "      <td>50</td>\n",
       "      <td>13</td>\n",
       "      <td>500</td>\n",
       "      <td>50</td>\n",
       "      <td>15</td>\n",
       "      <td>-2</td>\n",
       "      <td>0</td>\n",
       "    </tr>\n",
       "    <tr>\n",
       "      <th>3</th>\n",
       "      <td>1001</td>\n",
       "      <td>10</td>\n",
       "      <td>374.11</td>\n",
       "      <td>surf</td>\n",
       "      <td>3</td>\n",
       "      <td>53</td>\n",
       "      <td>20406.45</td>\n",
       "      <td>65</td>\n",
       "      <td>Seattle-Tacoma-Bellevue, WA MSA</td>\n",
       "      <td>0.03</td>\n",
       "      <td>...</td>\n",
       "      <td>20</td>\n",
       "      <td>500</td>\n",
       "      <td>15360</td>\n",
       "      <td>50</td>\n",
       "      <td>20</td>\n",
       "      <td>500</td>\n",
       "      <td>50</td>\n",
       "      <td>15</td>\n",
       "      <td>5</td>\n",
       "      <td>5</td>\n",
       "    </tr>\n",
       "    <tr>\n",
       "      <th>4</th>\n",
       "      <td>1001</td>\n",
       "      <td>11</td>\n",
       "      <td>404.59</td>\n",
       "      <td>surf</td>\n",
       "      <td>4</td>\n",
       "      <td>36</td>\n",
       "      <td>20873.07</td>\n",
       "      <td>64</td>\n",
       "      <td>Seattle-Tacoma-Bellevue, WA MSA</td>\n",
       "      <td>0.03</td>\n",
       "      <td>...</td>\n",
       "      <td>20</td>\n",
       "      <td>500</td>\n",
       "      <td>15360</td>\n",
       "      <td>50</td>\n",
       "      <td>21</td>\n",
       "      <td>500</td>\n",
       "      <td>50</td>\n",
       "      <td>15</td>\n",
       "      <td>6</td>\n",
       "      <td>6</td>\n",
       "    </tr>\n",
       "  </tbody>\n",
       "</table>\n",
       "<p>5 rows × 22 columns</p>\n",
       "</div>"
      ],
      "text/plain": [
       "   user_id  month  duration      plan  index  total_monthly_texts   mb_used  \\\n",
       "0     1000     12    116.83  ultimate      0                   11   1901.47   \n",
       "1     1001      8    171.14      surf      1                   30   7131.50   \n",
       "2     1001      9    297.69      surf      2                   44  13311.04   \n",
       "3     1001     10    374.11      surf      3                   53  20406.45   \n",
       "4     1001     11    404.59      surf      4                   36  20873.07   \n",
       "\n",
       "   number_of_calls                                   city  usd_per_minute  \\\n",
       "0               16  Atlanta-Sandy Springs-Roswell, GA MSA            0.01   \n",
       "1               27        Seattle-Tacoma-Bellevue, WA MSA            0.03   \n",
       "2               49        Seattle-Tacoma-Bellevue, WA MSA            0.03   \n",
       "3               65        Seattle-Tacoma-Bellevue, WA MSA            0.03   \n",
       "4               64        Seattle-Tacoma-Bellevue, WA MSA            0.03   \n",
       "\n",
       "   ...  usd_monthly_pay  minutes_included  mb_included  messages_included  \\\n",
       "0  ...               70              3000        30720               1000   \n",
       "1  ...               20               500        15360                 50   \n",
       "2  ...               20               500        15360                 50   \n",
       "3  ...               20               500        15360                 50   \n",
       "4  ...               20               500        15360                 50   \n",
       "\n",
       "   gb_used  included_min  included_texts  included_gb  gb_diff  extra_gb  \n",
       "0        2          3000            1000           30      -28         0  \n",
       "1        7           500              50           15       -8         0  \n",
       "2       13           500              50           15       -2         0  \n",
       "3       20           500              50           15        5         5  \n",
       "4       21           500              50           15        6         6  \n",
       "\n",
       "[5 rows x 22 columns]"
      ]
     },
     "execution_count": 48,
     "metadata": {},
     "output_type": "execute_result"
    }
   ],
   "source": [
    "final_rec[final_rec[\"total_monthly_texts\"] > 100]\n",
    "final_rec.head()"
   ]
  },
  {
   "cell_type": "code",
   "execution_count": 49,
   "metadata": {
    "scrolled": false
   },
   "outputs": [
    {
     "data": {
      "text/html": [
       "<div>\n",
       "<style scoped>\n",
       "    .dataframe tbody tr th:only-of-type {\n",
       "        vertical-align: middle;\n",
       "    }\n",
       "\n",
       "    .dataframe tbody tr th {\n",
       "        vertical-align: top;\n",
       "    }\n",
       "\n",
       "    .dataframe thead th {\n",
       "        text-align: right;\n",
       "    }\n",
       "</style>\n",
       "<table border=\"1\" class=\"dataframe\">\n",
       "  <thead>\n",
       "    <tr style=\"text-align: right;\">\n",
       "      <th></th>\n",
       "      <th>user_id</th>\n",
       "      <th>month</th>\n",
       "      <th>duration</th>\n",
       "      <th>plan</th>\n",
       "      <th>index</th>\n",
       "      <th>total_monthly_texts</th>\n",
       "      <th>mb_used</th>\n",
       "      <th>number_of_calls</th>\n",
       "      <th>city</th>\n",
       "      <th>usd_per_minute</th>\n",
       "      <th>...</th>\n",
       "      <th>mb_included</th>\n",
       "      <th>messages_included</th>\n",
       "      <th>gb_used</th>\n",
       "      <th>included_min</th>\n",
       "      <th>included_texts</th>\n",
       "      <th>included_gb</th>\n",
       "      <th>gb_diff</th>\n",
       "      <th>extra_gb</th>\n",
       "      <th>text_diff</th>\n",
       "      <th>extra_text</th>\n",
       "    </tr>\n",
       "  </thead>\n",
       "  <tbody>\n",
       "    <tr>\n",
       "      <th>0</th>\n",
       "      <td>1000</td>\n",
       "      <td>12</td>\n",
       "      <td>116.83</td>\n",
       "      <td>ultimate</td>\n",
       "      <td>0</td>\n",
       "      <td>11</td>\n",
       "      <td>1901.47</td>\n",
       "      <td>16</td>\n",
       "      <td>Atlanta-Sandy Springs-Roswell, GA MSA</td>\n",
       "      <td>0.01</td>\n",
       "      <td>...</td>\n",
       "      <td>30720</td>\n",
       "      <td>1000</td>\n",
       "      <td>2</td>\n",
       "      <td>3000</td>\n",
       "      <td>1000</td>\n",
       "      <td>30</td>\n",
       "      <td>-28</td>\n",
       "      <td>0</td>\n",
       "      <td>-989</td>\n",
       "      <td>0</td>\n",
       "    </tr>\n",
       "    <tr>\n",
       "      <th>1</th>\n",
       "      <td>1001</td>\n",
       "      <td>8</td>\n",
       "      <td>171.14</td>\n",
       "      <td>surf</td>\n",
       "      <td>1</td>\n",
       "      <td>30</td>\n",
       "      <td>7131.50</td>\n",
       "      <td>27</td>\n",
       "      <td>Seattle-Tacoma-Bellevue, WA MSA</td>\n",
       "      <td>0.03</td>\n",
       "      <td>...</td>\n",
       "      <td>15360</td>\n",
       "      <td>50</td>\n",
       "      <td>7</td>\n",
       "      <td>500</td>\n",
       "      <td>50</td>\n",
       "      <td>15</td>\n",
       "      <td>-8</td>\n",
       "      <td>0</td>\n",
       "      <td>-20</td>\n",
       "      <td>0</td>\n",
       "    </tr>\n",
       "    <tr>\n",
       "      <th>2</th>\n",
       "      <td>1001</td>\n",
       "      <td>9</td>\n",
       "      <td>297.69</td>\n",
       "      <td>surf</td>\n",
       "      <td>2</td>\n",
       "      <td>44</td>\n",
       "      <td>13311.04</td>\n",
       "      <td>49</td>\n",
       "      <td>Seattle-Tacoma-Bellevue, WA MSA</td>\n",
       "      <td>0.03</td>\n",
       "      <td>...</td>\n",
       "      <td>15360</td>\n",
       "      <td>50</td>\n",
       "      <td>13</td>\n",
       "      <td>500</td>\n",
       "      <td>50</td>\n",
       "      <td>15</td>\n",
       "      <td>-2</td>\n",
       "      <td>0</td>\n",
       "      <td>-6</td>\n",
       "      <td>0</td>\n",
       "    </tr>\n",
       "    <tr>\n",
       "      <th>3</th>\n",
       "      <td>1001</td>\n",
       "      <td>10</td>\n",
       "      <td>374.11</td>\n",
       "      <td>surf</td>\n",
       "      <td>3</td>\n",
       "      <td>53</td>\n",
       "      <td>20406.45</td>\n",
       "      <td>65</td>\n",
       "      <td>Seattle-Tacoma-Bellevue, WA MSA</td>\n",
       "      <td>0.03</td>\n",
       "      <td>...</td>\n",
       "      <td>15360</td>\n",
       "      <td>50</td>\n",
       "      <td>20</td>\n",
       "      <td>500</td>\n",
       "      <td>50</td>\n",
       "      <td>15</td>\n",
       "      <td>5</td>\n",
       "      <td>5</td>\n",
       "      <td>3</td>\n",
       "      <td>3</td>\n",
       "    </tr>\n",
       "    <tr>\n",
       "      <th>4</th>\n",
       "      <td>1001</td>\n",
       "      <td>11</td>\n",
       "      <td>404.59</td>\n",
       "      <td>surf</td>\n",
       "      <td>4</td>\n",
       "      <td>36</td>\n",
       "      <td>20873.07</td>\n",
       "      <td>64</td>\n",
       "      <td>Seattle-Tacoma-Bellevue, WA MSA</td>\n",
       "      <td>0.03</td>\n",
       "      <td>...</td>\n",
       "      <td>15360</td>\n",
       "      <td>50</td>\n",
       "      <td>21</td>\n",
       "      <td>500</td>\n",
       "      <td>50</td>\n",
       "      <td>15</td>\n",
       "      <td>6</td>\n",
       "      <td>6</td>\n",
       "      <td>-14</td>\n",
       "      <td>0</td>\n",
       "    </tr>\n",
       "  </tbody>\n",
       "</table>\n",
       "<p>5 rows × 24 columns</p>\n",
       "</div>"
      ],
      "text/plain": [
       "   user_id  month  duration      plan  index  total_monthly_texts   mb_used  \\\n",
       "0     1000     12    116.83  ultimate      0                   11   1901.47   \n",
       "1     1001      8    171.14      surf      1                   30   7131.50   \n",
       "2     1001      9    297.69      surf      2                   44  13311.04   \n",
       "3     1001     10    374.11      surf      3                   53  20406.45   \n",
       "4     1001     11    404.59      surf      4                   36  20873.07   \n",
       "\n",
       "   number_of_calls                                   city  usd_per_minute  \\\n",
       "0               16  Atlanta-Sandy Springs-Roswell, GA MSA            0.01   \n",
       "1               27        Seattle-Tacoma-Bellevue, WA MSA            0.03   \n",
       "2               49        Seattle-Tacoma-Bellevue, WA MSA            0.03   \n",
       "3               65        Seattle-Tacoma-Bellevue, WA MSA            0.03   \n",
       "4               64        Seattle-Tacoma-Bellevue, WA MSA            0.03   \n",
       "\n",
       "   ...  mb_included  messages_included  gb_used  included_min  included_texts  \\\n",
       "0  ...        30720               1000        2          3000            1000   \n",
       "1  ...        15360                 50        7           500              50   \n",
       "2  ...        15360                 50       13           500              50   \n",
       "3  ...        15360                 50       20           500              50   \n",
       "4  ...        15360                 50       21           500              50   \n",
       "\n",
       "   included_gb  gb_diff  extra_gb  text_diff  extra_text  \n",
       "0           30      -28         0       -989           0  \n",
       "1           15       -8         0        -20           0  \n",
       "2           15       -2         0         -6           0  \n",
       "3           15        5         5          3           3  \n",
       "4           15        6         6        -14           0  \n",
       "\n",
       "[5 rows x 24 columns]"
      ]
     },
     "execution_count": 49,
     "metadata": {},
     "output_type": "execute_result"
    }
   ],
   "source": [
    "final_rec[\"text_diff\"] = final_rec[\"total_monthly_texts\"] - final_rec[\"included_texts\"]\n",
    "def rev2(row):\n",
    "    if row > 0:\n",
    "        return row\n",
    "    else:\n",
    "        return 0\n",
    "final_rec[\"extra_text\"] = final_rec[\"text_diff\"].apply(rev2)\n",
    "final_rec.head()"
   ]
  },
  {
   "cell_type": "code",
   "execution_count": 50,
   "metadata": {},
   "outputs": [
    {
     "data": {
      "text/plain": [
       "Index(['user_id', 'month', 'duration', 'plan', 'index', 'total_monthly_texts',\n",
       "       'mb_used', 'number_of_calls', 'city', 'usd_per_minute',\n",
       "       'usd_per_message', 'usd_per_gb', 'usd_monthly_pay', 'minutes_included',\n",
       "       'mb_included', 'messages_included', 'gb_used', 'included_min',\n",
       "       'included_texts', 'included_gb', 'gb_diff', 'extra_gb', 'text_diff',\n",
       "       'extra_text', 'call_diff', 'extra_minutes'],\n",
       "      dtype='object')"
      ]
     },
     "execution_count": 50,
     "metadata": {},
     "output_type": "execute_result"
    }
   ],
   "source": [
    "final_rec[\"call_diff\"] = final_rec[\"duration\"] - final_rec[\"included_min\"]\n",
    "def rev3(row):\n",
    "    if row > 0:\n",
    "        return row\n",
    "    else:\n",
    "        return 0\n",
    "final_rec[\"extra_minutes\"] = final_rec[\"call_diff\"].apply(rev3)\n",
    "final_rec.columns\n"
   ]
  },
  {
   "cell_type": "code",
   "execution_count": 51,
   "metadata": {},
   "outputs": [
    {
     "data": {
      "text/html": [
       "<div>\n",
       "<style scoped>\n",
       "    .dataframe tbody tr th:only-of-type {\n",
       "        vertical-align: middle;\n",
       "    }\n",
       "\n",
       "    .dataframe tbody tr th {\n",
       "        vertical-align: top;\n",
       "    }\n",
       "\n",
       "    .dataframe thead th {\n",
       "        text-align: right;\n",
       "    }\n",
       "</style>\n",
       "<table border=\"1\" class=\"dataframe\">\n",
       "  <thead>\n",
       "    <tr style=\"text-align: right;\">\n",
       "      <th></th>\n",
       "      <th>user_id</th>\n",
       "      <th>month</th>\n",
       "      <th>duration</th>\n",
       "      <th>plan</th>\n",
       "      <th>index</th>\n",
       "      <th>total_monthly_texts</th>\n",
       "      <th>mb_used</th>\n",
       "      <th>number_of_calls</th>\n",
       "      <th>city</th>\n",
       "      <th>usd_per_minute</th>\n",
       "      <th>...</th>\n",
       "      <th>gb_diff</th>\n",
       "      <th>extra_gb</th>\n",
       "      <th>text_diff</th>\n",
       "      <th>extra_text</th>\n",
       "      <th>call_diff</th>\n",
       "      <th>extra_minutes</th>\n",
       "      <th>text_revenue</th>\n",
       "      <th>call_revenue</th>\n",
       "      <th>data_revenue</th>\n",
       "      <th>total_revenue</th>\n",
       "    </tr>\n",
       "  </thead>\n",
       "  <tbody>\n",
       "    <tr>\n",
       "      <th>64</th>\n",
       "      <td>1028</td>\n",
       "      <td>12</td>\n",
       "      <td>40.68</td>\n",
       "      <td>ultimate</td>\n",
       "      <td>75</td>\n",
       "      <td>74</td>\n",
       "      <td>143047.36</td>\n",
       "      <td>6</td>\n",
       "      <td>Philadelphia-Camden-Wilmington, PA-NJ-DE-MD MSA</td>\n",
       "      <td>0.01</td>\n",
       "      <td>...</td>\n",
       "      <td>113</td>\n",
       "      <td>113</td>\n",
       "      <td>-926</td>\n",
       "      <td>0</td>\n",
       "      <td>-2959.32</td>\n",
       "      <td>0.0</td>\n",
       "      <td>0.00</td>\n",
       "      <td>0.0</td>\n",
       "      <td>791</td>\n",
       "      <td>861.00</td>\n",
       "    </tr>\n",
       "    <tr>\n",
       "      <th>1243</th>\n",
       "      <td>1374</td>\n",
       "      <td>12</td>\n",
       "      <td>252.79</td>\n",
       "      <td>surf</td>\n",
       "      <td>1402</td>\n",
       "      <td>83</td>\n",
       "      <td>133170.94</td>\n",
       "      <td>51</td>\n",
       "      <td>Louisville/Jefferson County, KY-IN MSA</td>\n",
       "      <td>0.03</td>\n",
       "      <td>...</td>\n",
       "      <td>118</td>\n",
       "      <td>118</td>\n",
       "      <td>33</td>\n",
       "      <td>33</td>\n",
       "      <td>-247.21</td>\n",
       "      <td>0.0</td>\n",
       "      <td>0.99</td>\n",
       "      <td>0.0</td>\n",
       "      <td>1180</td>\n",
       "      <td>1200.99</td>\n",
       "    </tr>\n",
       "  </tbody>\n",
       "</table>\n",
       "<p>2 rows × 30 columns</p>\n",
       "</div>"
      ],
      "text/plain": [
       "      user_id  month  duration      plan  index  total_monthly_texts  \\\n",
       "64       1028     12     40.68  ultimate     75                   74   \n",
       "1243     1374     12    252.79      surf   1402                   83   \n",
       "\n",
       "        mb_used  number_of_calls  \\\n",
       "64    143047.36                6   \n",
       "1243  133170.94               51   \n",
       "\n",
       "                                                 city  usd_per_minute  ...  \\\n",
       "64    Philadelphia-Camden-Wilmington, PA-NJ-DE-MD MSA            0.01  ...   \n",
       "1243           Louisville/Jefferson County, KY-IN MSA            0.03  ...   \n",
       "\n",
       "      gb_diff  extra_gb  text_diff  extra_text  call_diff  extra_minutes  \\\n",
       "64        113       113       -926           0   -2959.32            0.0   \n",
       "1243      118       118         33          33    -247.21            0.0   \n",
       "\n",
       "      text_revenue  call_revenue  data_revenue  total_revenue  \n",
       "64            0.00           0.0           791         861.00  \n",
       "1243          0.99           0.0          1180        1200.99  \n",
       "\n",
       "[2 rows x 30 columns]"
      ]
     },
     "execution_count": 51,
     "metadata": {},
     "output_type": "execute_result"
    }
   ],
   "source": [
    "final_rec[\"text_revenue\"] = final_rec[\"usd_per_message\"] * final_rec[\"extra_text\"]\n",
    "final_rec[\"call_revenue\"] = final_rec[\"usd_per_minute\"] * final_rec[\"extra_minutes\"]\n",
    "final_rec[\"data_revenue\"] = final_rec[\"usd_per_gb\"] * final_rec[\"extra_gb\"]\n",
    "final_rec[\"total_revenue\"] = final_rec[\"text_revenue\"] + final_rec[\"call_revenue\"] + final_rec[\"data_revenue\"] + final_rec['usd_monthly_pay']\n",
    "final_rec[final_rec[\"total_revenue\"] > 800]\n"
   ]
  },
  {
   "cell_type": "code",
   "execution_count": 52,
   "metadata": {},
   "outputs": [
    {
     "data": {
      "text/plain": [
       "plan\n",
       "surf        64723.5195\n",
       "ultimate    42945.0000\n",
       "Name: total_revenue, dtype: float64"
      ]
     },
     "execution_count": 52,
     "metadata": {},
     "output_type": "execute_result"
    }
   ],
   "source": [
    "final_rec.groupby([\"plan\"])[\"total_revenue\"].sum()"
   ]
  },
  {
   "cell_type": "markdown",
   "metadata": {},
   "source": [
    "* The above code indicates that the surf plan generated about 33% more revenue than the ultimate plan."
   ]
  },
  {
   "cell_type": "markdown",
   "metadata": {},
   "source": [
    "## Study user behaviour"
   ]
  },
  {
   "cell_type": "markdown",
   "metadata": {},
   "source": [
    "[Calculate some useful descriptive statistics for the aggregated and merged data, which typically reveal an overall picture captured by the data. Draw useful plots to help the understanding. Given that the main task is to compare the plans and decide on which one is more profitable, the statistics and the plots should be calculated on a per-plan basis.]\n",
    "\n",
    "[There are relevant hints in the comments for Calls but they are not provided for Messages and Internet though the principle of statistical study is the same for them as for Calls.]"
   ]
  },
  {
   "cell_type": "markdown",
   "metadata": {},
   "source": [
    "### Calls"
   ]
  },
  {
   "cell_type": "code",
   "execution_count": 53,
   "metadata": {},
   "outputs": [
    {
     "data": {
      "text/plain": [
       "Text(0, 0.5, 'Average Call Duration in Minutes')"
      ]
     },
     "execution_count": 53,
     "metadata": {},
     "output_type": "execute_result"
    },
    {
     "data": {
      "image/png": "[encoded data removed]",
      "text/plain": [
       "<Figure size 648x648 with 1 Axes>"
      ]
     },
     "metadata": {
      "needs_background": "light"
     },
     "output_type": "display_data"
    }
   ],
   "source": [
    "# Compare average duration of calls per each plan per each distinct month. Plot a bar plat to visualize it.\n",
    "final_rec.groupby([\"month\", \"plan\"])[\"duration\"].mean().plot(kind=\"bar\", color=\"red\", figsize=(9,9))\n",
    "plt.title(\"Average Duration of Calls per Type of Plan and Month\")\n",
    "plt.xlabel(\"Plan & Month\")\n",
    "plt.ylabel(\"Average Call Duration in Minutes\")\n",
    "#avg_call_duration = sb.barplot(x=\"plan\", y=\"duration\", data=final_rec, hue=\"month\", capsize=.5)"
   ]
  },
  {
   "cell_type": "code",
   "execution_count": 54,
   "metadata": {
    "scrolled": false
   },
   "outputs": [
    {
     "name": "stdout",
     "output_type": "stream",
     "text": [
      "plan\n",
      "surf        427.041926\n",
      "ultimate    426.267894\n",
      "Name: duration, dtype: float64\n",
      "plan\n",
      "surf        421.26\n",
      "ultimate    406.62\n",
      "Name: duration, dtype: float64\n"
     ]
    },
    {
     "data": {
      "image/png": "[encoded data removed]",
      "text/plain": [
       "<Figure size 432x288 with 1 Axes>"
      ]
     },
     "metadata": {
      "needs_background": "light"
     },
     "output_type": "display_data"
    }
   ],
   "source": [
    "# Compare the number of minutes users of each plan require each month. Plot a histogram.\n",
    "\n",
    "print(final_rec.groupby(\"plan\")[\"duration\"].mean())\n",
    "print(final_rec.groupby(\"plan\")[\"duration\"].median())\n",
    "final_rec.pivot(columns=\"plan\", values=\"duration\").plot.hist(bins=100, alpha=0.6)\n",
    "plt.xlabel(\"Total Monthly Duration of Call in Minutes\")\n",
    "plt.title(\"Frequency of Total Monthly Minutes Per Plan Type\")\n",
    "plt.show()"
   ]
  },
  {
   "cell_type": "markdown",
   "metadata": {},
   "source": [
    "* Overall, it appears that ultimate plan users tend to have a lower overall monthly call duration as compared to surf plan users. Grouping each set of data per plan, we find that both data for ultimate users and surf users are skewed to the right as reflected by the histogram and given that the mean is greater than the median."
   ]
  },
  {
   "cell_type": "code",
   "execution_count": 55,
   "metadata": {},
   "outputs": [
    {
     "data": {
      "text/plain": [
       "Index(['user_id', 'month', 'duration', 'plan', 'index', 'total_monthly_texts',\n",
       "       'mb_used', 'number_of_calls', 'city', 'usd_per_minute',\n",
       "       'usd_per_message', 'usd_per_gb', 'usd_monthly_pay', 'minutes_included',\n",
       "       'mb_included', 'messages_included', 'gb_used', 'included_min',\n",
       "       'included_texts', 'included_gb', 'gb_diff', 'extra_gb', 'text_diff',\n",
       "       'extra_text', 'call_diff', 'extra_minutes', 'text_revenue',\n",
       "       'call_revenue', 'data_revenue', 'total_revenue'],\n",
       "      dtype='object')"
      ]
     },
     "execution_count": 55,
     "metadata": {},
     "output_type": "execute_result"
    }
   ],
   "source": [
    "final_rec.columns\n"
   ]
  },
  {
   "cell_type": "code",
   "execution_count": 56,
   "metadata": {},
   "outputs": [
    {
     "data": {
      "text/html": [
       "<div>\n",
       "<style scoped>\n",
       "    .dataframe tbody tr th:only-of-type {\n",
       "        vertical-align: middle;\n",
       "    }\n",
       "\n",
       "    .dataframe tbody tr th {\n",
       "        vertical-align: top;\n",
       "    }\n",
       "\n",
       "    .dataframe thead th {\n",
       "        text-align: right;\n",
       "    }\n",
       "</style>\n",
       "<table border=\"1\" class=\"dataframe\">\n",
       "  <thead>\n",
       "    <tr style=\"text-align: right;\">\n",
       "      <th></th>\n",
       "      <th></th>\n",
       "      <th>duration</th>\n",
       "    </tr>\n",
       "    <tr>\n",
       "      <th>plan</th>\n",
       "      <th>month</th>\n",
       "      <th></th>\n",
       "    </tr>\n",
       "  </thead>\n",
       "  <tbody>\n",
       "    <tr>\n",
       "      <th rowspan=\"10\" valign=\"top\">surf</th>\n",
       "      <th>3</th>\n",
       "      <td>343.587500</td>\n",
       "    </tr>\n",
       "    <tr>\n",
       "      <th>4</th>\n",
       "      <td>356.975714</td>\n",
       "    </tr>\n",
       "    <tr>\n",
       "      <th>5</th>\n",
       "      <td>412.758684</td>\n",
       "    </tr>\n",
       "    <tr>\n",
       "      <th>6</th>\n",
       "      <td>413.582712</td>\n",
       "    </tr>\n",
       "    <tr>\n",
       "      <th>7</th>\n",
       "      <td>435.674304</td>\n",
       "    </tr>\n",
       "    <tr>\n",
       "      <th>8</th>\n",
       "      <td>412.232768</td>\n",
       "    </tr>\n",
       "    <tr>\n",
       "      <th>9</th>\n",
       "      <td>404.185347</td>\n",
       "    </tr>\n",
       "    <tr>\n",
       "      <th>10</th>\n",
       "      <td>415.852363</td>\n",
       "    </tr>\n",
       "    <tr>\n",
       "      <th>11</th>\n",
       "      <td>420.053839</td>\n",
       "    </tr>\n",
       "    <tr>\n",
       "      <th>12</th>\n",
       "      <td>474.524826</td>\n",
       "    </tr>\n",
       "    <tr>\n",
       "      <th rowspan=\"11\" valign=\"top\">ultimate</th>\n",
       "      <th>2</th>\n",
       "      <td>581.190000</td>\n",
       "    </tr>\n",
       "    <tr>\n",
       "      <th>3</th>\n",
       "      <td>625.940000</td>\n",
       "    </tr>\n",
       "    <tr>\n",
       "      <th>4</th>\n",
       "      <td>332.733333</td>\n",
       "    </tr>\n",
       "    <tr>\n",
       "      <th>5</th>\n",
       "      <td>437.030625</td>\n",
       "    </tr>\n",
       "    <tr>\n",
       "      <th>6</th>\n",
       "      <td>349.665556</td>\n",
       "    </tr>\n",
       "    <tr>\n",
       "      <th>7</th>\n",
       "      <td>421.205500</td>\n",
       "    </tr>\n",
       "    <tr>\n",
       "      <th>8</th>\n",
       "      <td>416.853704</td>\n",
       "    </tr>\n",
       "    <tr>\n",
       "      <th>9</th>\n",
       "      <td>414.367794</td>\n",
       "    </tr>\n",
       "    <tr>\n",
       "      <th>10</th>\n",
       "      <td>434.936941</td>\n",
       "    </tr>\n",
       "    <tr>\n",
       "      <th>11</th>\n",
       "      <td>438.496569</td>\n",
       "    </tr>\n",
       "    <tr>\n",
       "      <th>12</th>\n",
       "      <td>440.247398</td>\n",
       "    </tr>\n",
       "  </tbody>\n",
       "</table>\n",
       "</div>"
      ],
      "text/plain": [
       "                  duration\n",
       "plan     month            \n",
       "surf     3      343.587500\n",
       "         4      356.975714\n",
       "         5      412.758684\n",
       "         6      413.582712\n",
       "         7      435.674304\n",
       "         8      412.232768\n",
       "         9      404.185347\n",
       "         10     415.852363\n",
       "         11     420.053839\n",
       "         12     474.524826\n",
       "ultimate 2      581.190000\n",
       "         3      625.940000\n",
       "         4      332.733333\n",
       "         5      437.030625\n",
       "         6      349.665556\n",
       "         7      421.205500\n",
       "         8      416.853704\n",
       "         9      414.367794\n",
       "         10     434.936941\n",
       "         11     438.496569\n",
       "         12     440.247398"
      ]
     },
     "execution_count": 56,
     "metadata": {},
     "output_type": "execute_result"
    }
   ],
   "source": [
    "monthly_duration= final_rec.groupby([\"plan\",\"month\"])[[\"duration\"]].mean()\n",
    "monthly_duration"
   ]
  },
  {
   "cell_type": "code",
   "execution_count": 57,
   "metadata": {},
   "outputs": [
    {
     "data": {
      "text/plain": [
       "user_id                0\n",
       "month                  0\n",
       "duration               0\n",
       "plan                   0\n",
       "index                  0\n",
       "total_monthly_texts    0\n",
       "mb_used                0\n",
       "number_of_calls        0\n",
       "city                   0\n",
       "usd_per_minute         0\n",
       "usd_per_message        0\n",
       "usd_per_gb             0\n",
       "usd_monthly_pay        0\n",
       "minutes_included       0\n",
       "mb_included            0\n",
       "messages_included      0\n",
       "gb_used                0\n",
       "included_min           0\n",
       "included_texts         0\n",
       "included_gb            0\n",
       "gb_diff                0\n",
       "extra_gb               0\n",
       "text_diff              0\n",
       "extra_text             0\n",
       "call_diff              0\n",
       "extra_minutes          0\n",
       "text_revenue           0\n",
       "call_revenue           0\n",
       "data_revenue           0\n",
       "total_revenue          0\n",
       "daily_minutes          0\n",
       "dtype: int64"
      ]
     },
     "execution_count": 57,
     "metadata": {},
     "output_type": "execute_result"
    }
   ],
   "source": [
    "final_rec[\"daily_minutes\"] = calls[\"duration\"]\n",
    "final_rec.head()\n",
    "final_rec.isna().sum()"
   ]
  },
  {
   "cell_type": "code",
   "execution_count": 58,
   "metadata": {},
   "outputs": [],
   "source": [
    "surf_data = final_rec.query('plan == \"surf\"')\n",
    "ultimate_data = final_rec.query('plan==\"ultimate\"')\n",
    "a= surf_data.groupby(\"month\")[\"duration\"].mean()\n",
    "b= ultimate_data.groupby(\"month\")[\"duration\"].mean()\n"
   ]
  },
  {
   "cell_type": "code",
   "execution_count": 59,
   "metadata": {},
   "outputs": [
    {
     "data": {
      "image/png": "[encoded data removed]",
      "text/plain": [
       "<Figure size 576x504 with 1 Axes>"
      ]
     },
     "metadata": {
      "needs_background": "light"
     },
     "output_type": "display_data"
    },
    {
     "name": "stdout",
     "output_type": "stream",
     "text": [
      "Surf: Average for duration is 409\n",
      "Surf: Variance for duration is 1359\n",
      "Surf: SD for duration is 37\n",
      "Ultimate: Average for duration is 445\n",
      "Ultimate: Variance for duration is 7551\n",
      "Ultimate: SD for duration is 87\n"
     ]
    }
   ],
   "source": [
    "\n",
    "surf_data = final_rec.query('plan == \"surf\"')\n",
    "ultimate_data = final_rec.query('plan==\"ultimate\"')\n",
    "monthly_duration1= final_rec.groupby(\"month\")\n",
    "def call_duration_stats(duration):\n",
    "    fig, ax=plt.subplots(figsize=(8,7))\n",
    "    ax=sb.histplot(final_rec, x=\"duration\", hue=\"plan\")\n",
    "    \n",
    "    surf_mean= round(a.mean())\n",
    "    surf_var= round(a.var())\n",
    "    surf_std= round(a.std())\n",
    "    ult_mean=round(b.mean())\n",
    "    ult_var= round(b.var())\n",
    "    ult_std= round(b.std())\n",
    "    plt.title(\"Count of Monthly Call Duration per Plan Type\")\n",
    "    plt.show()\n",
    "    print(\"Surf: Average for\", duration, \"is\", surf_mean)\n",
    "    print(\"Surf: Variance for\", duration, \"is\", surf_var)\n",
    "    print(\"Surf: SD for\", duration, \"is\", surf_std)\n",
    "\n",
    "    print(\"Ultimate: Average for\", duration, \"is\", ult_mean)\n",
    "    print(\"Ultimate: Variance for\", duration, \"is\", ult_var)\n",
    "    print(\"Ultimate: SD for\", duration, \"is\", ult_std)\n",
    "\n",
    "call_duration_stats(\"duration\")"
   ]
  },
  {
   "cell_type": "markdown",
   "metadata": {},
   "source": [
    "* Although the mean monthly call duration for each plan are comparable, the monthly call duration for the Ultimate users have a much higher variance (almost 7 times higher) than that of Surf users. \n",
    "* It is important to note that there are twice as much data for \"surf\" (1080 rows) plan users as compared to \"ultimate\" plan users (527 rows). \n",
    "* Considering that the dataset for Ultimate users is small compare to Surf users, it is reasonable to understand why there is more spread and variability within the data. \n",
    "* As sample sizes increase, we would expect less and less variability. Nonetheless, the magnitude of the difference in the monthly call duration variance between the two plans still appears to be significant. Further hypothesis testing will confirm this."
   ]
  },
  {
   "cell_type": "code",
   "execution_count": 60,
   "metadata": {},
   "outputs": [
    {
     "data": {
      "image/png": "[encoded data removed]",
      "text/plain": [
       "<Figure size 432x288 with 1 Axes>"
      ]
     },
     "metadata": {
      "needs_background": "light"
     },
     "output_type": "display_data"
    },
    {
     "name": "stdout",
     "output_type": "stream",
     "text": [
      "Surf Monthly Call Duration Median: 421.2599999999999\n",
      "Ultimate Monthly Call Duration Median: 406.6199999999999\n"
     ]
    }
   ],
   "source": [
    ",# Plot a boxplot to visualize the distribution of the monthly call duration\n",
    "#final_rec.pivot(columns=[\"month\",\"plan\"], values=\"duration\").boxplot(figsize=(9,9))\n",
    "h=final_rec.pivot(columns=\"plan\", values=\"duration\")\n",
    "sb.boxplot(data=h)\n",
    "plt.xlabel(\"Plan Type & Month\")\n",
    "plt.ylabel(\"Call Duration\")\n",
    "plt.title(\"Monthly Call Duration Per Plan Type\")\n",
    "plt.show()\n",
    "print(\"Surf Monthly Call Duration Median:\", surf_data[\"duration\"].median())\n",
    "print(\"Ultimate Monthly Call Duration Median:\", ultimate_data[\"duration\"].median())\n"
   ]
  },
  {
   "cell_type": "markdown",
   "metadata": {},
   "source": [
    "* As this plot shows, the medians of both plans are quite similiar, as are the means (mentioned above). However, we can see that the Ultimate users tend to be more spread out in terms of monthly call duration The Ultimate IQR box appears slightly larger although this plot might not be the best representation, as we are not comparing similar sample sizes, so the difference in variation may be harder to spot."
   ]
  },
  {
   "cell_type": "markdown",
   "metadata": {},
   "source": [
    " "
   ]
  },
  {
   "cell_type": "markdown",
   "metadata": {},
   "source": [
    "### Messages"
   ]
  },
  {
   "cell_type": "code",
   "execution_count": 61,
   "metadata": {},
   "outputs": [
    {
     "data": {
      "text/plain": [
       "plan\n",
       "surf        40.022222\n",
       "ultimate    47.941176\n",
       "Name: total_monthly_texts, dtype: float64"
      ]
     },
     "execution_count": 61,
     "metadata": {},
     "output_type": "execute_result"
    },
    {
     "data": {
      "image/png": "[encoded data removed]",
      "text/plain": [
       "<Figure size 432x288 with 1 Axes>"
      ]
     },
     "metadata": {
      "needs_background": "light"
     },
     "output_type": "display_data"
    }
   ],
   "source": [
    "# Compare the number of messages users of each plan tend to send each month\n",
    "final_rec.groupby(\"plan\")[\"total_monthly_texts\"].count().plot(kind=\"bar\")\n",
    "plt.xlabel(\"Plan Type\")\n",
    "plt.ylabel(\"Number of messages\")\n",
    "plt.title(\"Number of Messages per Plan Type\")\n",
    "final_rec.groupby(\"plan\")[\"total_monthly_texts\"].mean()"
   ]
  },
  {
   "cell_type": "code",
   "execution_count": 62,
   "metadata": {},
   "outputs": [
    {
     "data": {
      "text/plain": [
       "plan\n",
       "surf        15635\n",
       "ultimate     8042\n",
       "Name: gb_used, dtype: int64"
      ]
     },
     "execution_count": 62,
     "metadata": {},
     "output_type": "execute_result"
    },
    {
     "data": {
      "image/png": "[encoded data removed]",
      "text/plain": [
       "<Figure size 432x288 with 1 Axes>"
      ]
     },
     "metadata": {
      "needs_background": "light"
     },
     "output_type": "display_data"
    }
   ],
   "source": [
    "# Compare the amount of internet traffic consumed by users per plan\n",
    "final_rec.groupby([\"plan\"])[\"gb_used\"].sum().plot(kind=\"bar\")\n",
    "plt.xlabel(\"Plan Type\")\n",
    "plt.ylabel(\"Amount of GB Used\")\n",
    "plt.title(\"Amount of Data used per Plan Type\")\n",
    "final_rec.groupby([\"plan\"])[\"gb_used\"].sum()"
   ]
  },
  {
   "cell_type": "markdown",
   "metadata": {},
   "source": [
    "* When it comes to messaging, ultimate users tend to send more messages. However, internet traffic is considerably cigher in surf users as compared to ultimate users. \n",
    "* It is important to note that the data is disproportionately distributed, as there is far more data on surf users than ultimate users.Thus, even the slightest difference seen in ultimate user data is something to consider."
   ]
  },
  {
   "cell_type": "markdown",
   "metadata": {},
   "source": [
    "### Internet"
   ]
  },
  {
   "cell_type": "code",
   "execution_count": 63,
   "metadata": {},
   "outputs": [
    {
     "data": {
      "text/plain": [
       "Text(0.5, 1.0, 'Monthly Data Usage per Plan')"
      ]
     },
     "execution_count": 63,
     "metadata": {},
     "output_type": "execute_result"
    },
    {
     "data": {
      "image/png": "[encoded data removed]",
      "text/plain": [
       "<Figure size 648x648 with 1 Axes>"
      ]
     },
     "metadata": {
      "needs_background": "light"
     },
     "output_type": "display_data"
    }
   ],
   "source": [
    "final_rec.groupby([\"plan\"])[\"gb_used\"].sum()\n",
    "y=final_rec.pivot(columns=[\"month\", \"plan\"], values=\"gb_used\")\n",
    "plt.figure(figsize=(9,9))\n",
    "ax=sb.boxplot(data=y)\n",
    "ax.set_xticklabels(ax.get_xticklabels(),rotation=70)\n",
    "plt.xlabel(\"Plan & Month\")\n",
    "plt.ylabel(\"GB of data used\")\n",
    "plt.title(\"Monthly Data Usage per Plan\")"
   ]
  },
  {
   "cell_type": "code",
   "execution_count": 64,
   "metadata": {},
   "outputs": [
    {
     "data": {
      "text/plain": [
       "Text(0.5, 1.0, 'Monthly Data Usage per Plan')"
      ]
     },
     "execution_count": 64,
     "metadata": {},
     "output_type": "execute_result"
    },
    {
     "data": {
      "image/png": "[encoded data removed]",
      "text/plain": [
       "<Figure size 432x288 with 1 Axes>"
      ]
     },
     "metadata": {
      "needs_background": "light"
     },
     "output_type": "display_data"
    }
   ],
   "source": [
    "bar=sb.barplot(data=y)\n",
    "bar.set_xticklabels(bar.get_xticklabels(),rotation=70)\n",
    "plt.title(\"Monthly Data Usage per Plan\")"
   ]
  },
  {
   "cell_type": "markdown",
   "metadata": {},
   "source": [
    "* Ultimate users tend to consume more internet traffic than surf users. As shown by the boxplot in the first plot above, we can see that Ultimate users tend to exhibit higher median for data usage than surf users in most months."
   ]
  },
  {
   "cell_type": "markdown",
   "metadata": {},
   "source": [
    " "
   ]
  },
  {
   "cell_type": "markdown",
   "metadata": {},
   "source": [
    "## Revenue"
   ]
  },
  {
   "cell_type": "code",
   "execution_count": 65,
   "metadata": {},
   "outputs": [
    {
     "name": "stdout",
     "output_type": "stream",
     "text": [
      "Total Revenue: plan\n",
      "surf        64723.5195\n",
      "ultimate    42945.0000\n",
      "Name: total_revenue, dtype: float64\n"
     ]
    },
    {
     "data": {
      "image/png": "[encoded data removed]",
      "text/plain": [
       "<Figure size 432x288 with 1 Axes>"
      ]
     },
     "metadata": {
      "needs_background": "light"
     },
     "output_type": "display_data"
    }
   ],
   "source": [
    "total_revenue=final_rec.groupby([\"plan\"])[\"total_revenue\"].sum().plot(kind=\"bar\")\n",
    "rev_data=final_rec.groupby([\"plan\"])[\"total_revenue\"].sum()\n",
    "plt.ylabel(\"Total revenue in Dollars\")\n",
    "plt.title(\"Total Revenue per Plan Type\")\n",
    "print(\"Total Revenue:\", rev_data)"
   ]
  },
  {
   "cell_type": "markdown",
   "metadata": {},
   "source": [
    "* Clearly, Surf users generate 33% more total revenue than Ultimate users, which includes internet, calls and messages combined."
   ]
  },
  {
   "cell_type": "markdown",
   "metadata": {},
   "source": [
    " "
   ]
  },
  {
   "cell_type": "markdown",
   "metadata": {},
   "source": [
    "## Test statistical hypotheses"
   ]
  },
  {
   "cell_type": "code",
   "execution_count": 66,
   "metadata": {},
   "outputs": [
    {
     "data": {
      "text/plain": [
       "plan\n",
       "surf        59.929185\n",
       "ultimate    81.489564\n",
       "Name: total_revenue, dtype: float64"
      ]
     },
     "execution_count": 66,
     "metadata": {},
     "output_type": "execute_result"
    }
   ],
   "source": [
    "final_rec.groupby([\"plan\"])[\"total_revenue\"].mean()\n"
   ]
  },
  {
   "cell_type": "code",
   "execution_count": 67,
   "metadata": {},
   "outputs": [],
   "source": [
    "from scipy import stats as st\n",
    "from scipy.stats import levene "
   ]
  },
  {
   "cell_type": "code",
   "execution_count": 68,
   "metadata": {},
   "outputs": [
    {
     "name": "stdout",
     "output_type": "stream",
     "text": [
      "1       20.00\n",
      "2       20.00\n",
      "3       70.09\n",
      "4       80.00\n",
      "5       60.00\n",
      "        ...  \n",
      "1601    20.00\n",
      "1602    30.00\n",
      "1603    20.00\n",
      "1604    20.00\n",
      "1605    20.00\n",
      "Name: total_revenue, Length: 1080, dtype: float64 0       70.0\n",
      "19      70.0\n",
      "20      70.0\n",
      "26      70.0\n",
      "27      70.0\n",
      "        ... \n",
      "1566    70.0\n",
      "1569    70.0\n",
      "1570    70.0\n",
      "1581    70.0\n",
      "1606    70.0\n",
      "Name: total_revenue, Length: 527, dtype: float64\n"
     ]
    }
   ],
   "source": [
    "sample1=surf_data[\"total_revenue\"]\n",
    "sample2=ultimate_data[\"total_revenue\"]\n",
    "print(sample1, sample2)"
   ]
  },
  {
   "cell_type": "code",
   "execution_count": 69,
   "metadata": {},
   "outputs": [
    {
     "name": "stdout",
     "output_type": "stream",
     "text": [
      "Variance of sample 1 & 2 are not equal LeveneResult(statistic=44.717152773332266, pvalue=3.1332366267343474e-11)\n"
     ]
    }
   ],
   "source": [
    "pvalue_lev= st.levene(sample1, sample2)\n",
    "pvalue_lev\n",
    "print(\"Variance of sample 1 & 2 are not equal\", pvalue_lev)"
   ]
  },
  {
   "cell_type": "code",
   "execution_count": 70,
   "metadata": {
    "scrolled": true
   },
   "outputs": [
    {
     "name": "stdout",
     "output_type": "stream",
     "text": [
      "Null & Alternative Hypotheses:\n",
      "H0: The average revenue of the two plans are equal\n",
      "H1: The average revenue of the two plans are not equal\n"
     ]
    }
   ],
   "source": [
    "print(\"Null & Alternative Hypotheses:\")\n",
    "print(\"H0: The average revenue of the two plans are equal\")\n",
    "print(\"H1: The average revenue of the two plans are not equal\")"
   ]
  },
  {
   "cell_type": "code",
   "execution_count": 71,
   "metadata": {},
   "outputs": [
    {
     "name": "stdout",
     "output_type": "stream",
     "text": [
      "P_value,  4.497453688374396e-09\n",
      "Reject H0, average revenue of the two plans are not equal\n"
     ]
    }
   ],
   "source": [
    "def t_test(sample1, sample2, alpha=.05):\n",
    "    p_value_levene=st.levene(sample1,sample2).pvalue\n",
    "    if p_value_levene < alpha:\n",
    "        option_var=False\n",
    "    else:\n",
    "        option_var=True\n",
    "    p_value= st.ttest_ind(sample1, sample2, equal_var=option_var).pvalue\n",
    "    print(\"P_value, \", p_value)\n",
    "    if p_value < alpha:\n",
    "        print(\"Reject H0, average revenue of the two plans are not equal\")\n",
    "    else:\n",
    "        print(\"Fail to reject H0, average revenue of the two plans are equal\")\n",
    "t_test(sample1, sample2)"
   ]
  },
  {
   "cell_type": "code",
   "execution_count": 72,
   "metadata": {
    "scrolled": true
   },
   "outputs": [
    {
     "data": {
      "text/plain": [
       "New York-Newark-Jersey City, NY-NJ-PA MSA          256\n",
       "Los Angeles-Long Beach-Anaheim, CA MSA             106\n",
       "Chicago-Naperville-Elgin, IL-IN-WI MSA              64\n",
       "Philadelphia-Camden-Wilmington, PA-NJ-DE-MD MSA     53\n",
       "Minneapolis-St. Paul-Bloomington, MN-WI MSA         49\n",
       "                                                  ... \n",
       "Dayton-Kettering, OH MSA                             2\n",
       "El Paso, TX MSA                                      2\n",
       "Omaha-Council Bluffs, NE-IA MSA                      2\n",
       "North Port-Sarasota-Bradenton, FL MSA                1\n",
       "Cape Coral-Fort Myers, FL MSA                        1\n",
       "Name: city, Length: 72, dtype: int64"
      ]
     },
     "execution_count": 72,
     "metadata": {},
     "output_type": "execute_result"
    }
   ],
   "source": [
    "# Test the hypotheses\n",
    "#Two tail test\n",
    "final_rec[\"city\"].value_counts()"
   ]
  },
  {
   "cell_type": "code",
   "execution_count": 73,
   "metadata": {},
   "outputs": [
    {
     "name": "stdout",
     "output_type": "stream",
     "text": [
      "Revenue of NY_NJ Users: 36       20.0000\n",
      "52       20.0000\n",
      "53       20.0000\n",
      "54       60.0000\n",
      "55      200.0000\n",
      "          ...   \n",
      "1596     40.0000\n",
      "1597     20.0000\n",
      "1598     32.5746\n",
      "1599     20.0000\n",
      "1600     20.0000\n",
      "Name: total_revenue, Length: 256, dtype: float64\n",
      "Revenue of users from other regions: 0       70.00\n",
      "1       20.00\n",
      "2       20.00\n",
      "3       70.09\n",
      "4       80.00\n",
      "        ...  \n",
      "1602    30.00\n",
      "1603    20.00\n",
      "1604    20.00\n",
      "1605    20.00\n",
      "1606    70.00\n",
      "Name: total_revenue, Length: 1351, dtype: float64\n",
      "36       20.0000\n",
      "52       20.0000\n",
      "53       20.0000\n",
      "54       60.0000\n",
      "55      200.0000\n",
      "          ...   \n",
      "1596     40.0000\n",
      "1597     20.0000\n",
      "1598     32.5746\n",
      "1599     20.0000\n",
      "1600     20.0000\n",
      "Name: total_revenue, Length: 256, dtype: float64\n"
     ]
    }
   ],
   "source": [
    "# Test the hypotheses\n",
    "ny_nj_users= final_rec.query('city==\"New York-Newark-Jersey City, NY-NJ-PA MSA\"')\n",
    "print(\"Revenue of NY_NJ Users:\", ny_nj_users[\"total_revenue\"])\n",
    "non_nj_users=final_rec.query('city != \"New York-Newark-Jersey City, NY-NJ-PA MSA\"')\n",
    "print(\"Revenue of users from other regions:\", non_nj_users[\"total_revenue\"])\n",
    "#conduct a two tail test \n",
    "samplea=ny_nj_users[\"total_revenue\"]\n",
    "sampleb=non_nj_users[\"total_revenue\"]\n",
    "print(samplea)\n"
   ]
  },
  {
   "cell_type": "code",
   "execution_count": 74,
   "metadata": {},
   "outputs": [
    {
     "name": "stdout",
     "output_type": "stream",
     "text": [
      "P_value,  0.7705537505808494\n",
      "Fail to reject H0, average revenue of the two plans are equal\n"
     ]
    }
   ],
   "source": [
    "def t_test2(samplea, sampleb, alpha=.05):\n",
    "    p_value_levene2=st.levene(samplea,sampleb).pvalue\n",
    "    if p_value_levene < alpha:\n",
    "        option_var2=False\n",
    "    else:\n",
    "        option_var2=True\n",
    "    p_value2= st.ttest_ind(samplea, sample2, equal_var=option_var2).pvalue\n",
    "    print(\"P_value, \", p_value2)\n",
    "    if p_value2 < alpha:\n",
    "        print(\"Reject H0, average revenue of the two plans are not equal\")\n",
    "    else:\n",
    "        print(\"Fail to reject H0, average revenue of the two plans are equal\")\n",
    "t_test(samplea, sampleb)"
   ]
  },
  {
   "cell_type": "markdown",
   "metadata": {},
   "source": [
    "\n",
    "\n",
    "\n",
    "\n",
    "\n",
    "\n",
    "\n",
    "\n",
    "\n",
    "\n",
    "\n",
    "\n",
    "\n",
    "\n",
    "\n",
    "\n",
    "\n",
    "\n",
    "\n",
    "\n",
    "\n",
    "\n",
    "\n",
    "\n",
    "\n",
    "\n",
    "\n",
    "\n",
    "\n",
    "\n",
    "\n",
    "\n",
    "\n",
    "\n",
    "\n",
    "\n",
    "\n",
    "\n"
   ]
  },
  {
   "cell_type": "markdown",
   "metadata": {},
   "source": [
    "# OVERVIEW\n",
    "* This dataset consisted of 5 seperate tables, which were eventually merged together to consolidate all of the data for analysis. The only missing data was found in the \"Users\" table in the churn[\"date\"] column which indicated the date the user terminated their respective plan. If there were NaN values in this column, the assumption would be that the user is still currently on that plan. For this reason, all NaN values in that column were replaced with \"current_user\". \n",
    "* All columns containing date information were converted to datetime objects to make them more useful. Additional columns were created in some of the tables to reflect month based on existing date columns, and aggregate data such as the monthly call duration, data usage and messages per user. In order to create a single record containing the necessary information for analysis, the data tables were merged one by one on the columns \"user_id\" and/or \"month. "
   ]
  },
  {
   "cell_type": "markdown",
   "metadata": {},
   "source": [
    "# CONCLUSION\n",
    "* An independent samples t-test was conducted to test the hypothesis that the average revenue from users of the Ultimate and Surf calling plans differs. Based on the results, the null hypothesis was rejected, concluding that the average revenue of the two plans are not equal (p-value=4.4019654856893925e-09).\n",
    "\n",
    "* A second independent samples t-test was conducted to test the hypothesis that the average revenue from users in the NY-NJ area is different from that of the users from the other regions. The results of the test indicate that we fail to reject the null hypothesis, concluding that the average revenue of the two plans are equal(p-value=0.7833071445775941).\n",
    "\n",
    "* As mentioned throughout this project, the sample size of each plan differs considerably, as Ultimate user data contained nearly 49% less rows than Surf user data. Further statistical tests should be conducted utilizing larger samples (and equal samples) in order to better understand how these samples differ and in what direction."
   ]
  }
 ],
 "metadata": {
  "ExecuteTimeLog": [
   {
    "duration": 828,
    "start_time": "2021-11-16T09:21:11.304Z"
   },
   {
    "duration": 893,
    "start_time": "2021-11-16T09:21:17.728Z"
   },
   {
    "duration": 1150,
    "start_time": "2021-11-16T09:21:29.568Z"
   },
   {
    "duration": 3,
    "start_time": "2021-11-16T09:24:14.495Z"
   },
   {
    "duration": 120,
    "start_time": "2021-11-16T09:24:46.630Z"
   },
   {
    "duration": 3,
    "start_time": "2021-11-16T09:28:27.882Z"
   },
   {
    "duration": 4,
    "start_time": "2021-11-16T09:29:54.281Z"
   },
   {
    "duration": 3,
    "start_time": "2021-11-16T09:30:45.936Z"
   },
   {
    "duration": 4,
    "start_time": "2021-11-16T09:31:06.300Z"
   },
   {
    "duration": 113,
    "start_time": "2021-11-16T09:31:37.208Z"
   },
   {
    "duration": 143,
    "start_time": "2021-11-16T09:31:48.656Z"
   },
   {
    "duration": 98,
    "start_time": "2021-11-16T09:31:55.678Z"
   },
   {
    "duration": 3,
    "start_time": "2021-11-16T09:32:08.535Z"
   },
   {
    "duration": 111,
    "start_time": "2021-11-16T09:32:10.120Z"
   },
   {
    "duration": 3,
    "start_time": "2021-11-16T09:32:15.732Z"
   },
   {
    "duration": 4,
    "start_time": "2021-11-16T09:32:29.423Z"
   },
   {
    "duration": 3,
    "start_time": "2021-11-16T10:03:03.074Z"
   },
   {
    "duration": 3,
    "start_time": "2021-11-16T10:10:01.288Z"
   },
   {
    "duration": 3,
    "start_time": "2021-11-16T10:10:46.923Z"
   },
   {
    "duration": 121,
    "start_time": "2021-11-16T10:37:46.494Z"
   },
   {
    "duration": 125,
    "start_time": "2021-11-16T10:38:20.632Z"
   },
   {
    "duration": 112,
    "start_time": "2021-11-16T10:46:53.001Z"
   },
   {
    "duration": 110,
    "start_time": "2021-11-16T10:48:25.775Z"
   },
   {
    "duration": 3,
    "start_time": "2021-11-16T10:50:18.720Z"
   },
   {
    "duration": 4,
    "start_time": "2021-11-16T10:50:37.649Z"
   },
   {
    "duration": 2,
    "start_time": "2021-11-16T10:50:51.884Z"
   },
   {
    "duration": 3,
    "start_time": "2021-11-16T10:51:56.237Z"
   },
   {
    "duration": 101,
    "start_time": "2021-11-16T10:53:13.791Z"
   },
   {
    "duration": 3,
    "start_time": "2021-11-16T10:55:59.186Z"
   },
   {
    "duration": 3,
    "start_time": "2021-11-16T10:56:10.751Z"
   },
   {
    "duration": 3,
    "start_time": "2021-11-16T10:56:49.038Z"
   },
   {
    "duration": 3,
    "start_time": "2021-11-16T10:56:49.174Z"
   },
   {
    "duration": 4,
    "start_time": "2021-11-16T10:56:49.414Z"
   },
   {
    "duration": 3,
    "start_time": "2021-11-16T10:56:49.680Z"
   },
   {
    "duration": 3,
    "start_time": "2021-11-16T10:56:50.370Z"
   },
   {
    "duration": 114,
    "start_time": "2021-11-16T10:59:34.518Z"
   },
   {
    "duration": 3,
    "start_time": "2021-11-16T11:01:41.201Z"
   },
   {
    "duration": 116,
    "start_time": "2021-11-16T11:01:48.754Z"
   },
   {
    "duration": 3,
    "start_time": "2021-11-16T11:02:16.685Z"
   },
   {
    "duration": 3,
    "start_time": "2021-11-16T11:02:19.479Z"
   },
   {
    "duration": 3,
    "start_time": "2021-11-16T11:02:47.067Z"
   },
   {
    "duration": 3,
    "start_time": "2021-11-16T11:02:49.353Z"
   },
   {
    "duration": 3,
    "start_time": "2021-11-16T11:03:07.835Z"
   },
   {
    "duration": 3,
    "start_time": "2021-11-16T11:03:07.953Z"
   },
   {
    "duration": 112,
    "start_time": "2021-11-16T11:07:52.072Z"
   },
   {
    "duration": 187,
    "start_time": "2021-11-16T11:09:23.468Z"
   },
   {
    "duration": 4,
    "start_time": "2021-11-16T11:10:01.455Z"
   },
   {
    "duration": 3,
    "start_time": "2021-11-16T11:10:05.069Z"
   },
   {
    "duration": 4,
    "start_time": "2021-11-16T11:10:13.376Z"
   },
   {
    "duration": 3,
    "start_time": "2021-11-16T11:10:14.434Z"
   },
   {
    "duration": 3,
    "start_time": "2021-11-16T11:10:22.853Z"
   },
   {
    "duration": 4,
    "start_time": "2021-11-16T11:27:29.279Z"
   },
   {
    "duration": 4,
    "start_time": "2021-11-16T11:29:08.919Z"
   },
   {
    "duration": 118,
    "start_time": "2021-11-16T11:29:46.703Z"
   },
   {
    "duration": 437,
    "start_time": "2021-11-16T11:36:02.181Z"
   },
   {
    "duration": 157,
    "start_time": "2021-11-16T11:36:14.388Z"
   },
   {
    "duration": 207,
    "start_time": "2021-11-16T11:47:15.898Z"
   },
   {
    "duration": 3,
    "start_time": "2021-11-16T11:53:52.092Z"
   },
   {
    "duration": 3,
    "start_time": "2021-11-16T11:53:52.236Z"
   },
   {
    "duration": 3,
    "start_time": "2021-11-16T11:59:12.005Z"
   },
   {
    "duration": 112,
    "start_time": "2021-11-16T12:00:33.446Z"
   },
   {
    "duration": 3,
    "start_time": "2021-11-16T12:02:14.453Z"
   },
   {
    "duration": 3,
    "start_time": "2021-11-16T12:02:39.512Z"
   },
   {
    "duration": 106,
    "start_time": "2021-11-16T12:03:03.460Z"
   },
   {
    "duration": 3,
    "start_time": "2021-11-17T20:37:21.139Z"
   },
   {
    "duration": 3,
    "start_time": "2021-11-17T20:37:22.229Z"
   },
   {
    "duration": 3,
    "start_time": "2021-11-17T20:38:38.806Z"
   },
   {
    "duration": 3,
    "start_time": "2021-11-17T20:38:41.958Z"
   },
   {
    "duration": 3,
    "start_time": "2021-11-17T20:43:46.551Z"
   },
   {
    "duration": 4,
    "start_time": "2021-11-17T20:58:21.835Z"
   },
   {
    "duration": 3,
    "start_time": "2021-11-17T20:59:21.872Z"
   },
   {
    "duration": 4,
    "start_time": "2021-11-17T20:59:45.352Z"
   },
   {
    "duration": 4,
    "start_time": "2021-11-17T20:59:49.646Z"
   },
   {
    "duration": 159,
    "start_time": "2021-11-17T21:02:26.949Z"
   },
   {
    "duration": 3,
    "start_time": "2021-11-17T21:03:53.461Z"
   },
   {
    "duration": 3,
    "start_time": "2021-11-17T21:03:53.694Z"
   },
   {
    "duration": 3,
    "start_time": "2021-11-17T21:05:28.145Z"
   },
   {
    "duration": 116,
    "start_time": "2021-11-17T21:05:57.787Z"
   },
   {
    "duration": 3,
    "start_time": "2021-11-17T21:06:37.993Z"
   },
   {
    "duration": 3,
    "start_time": "2021-11-17T21:06:38.261Z"
   },
   {
    "duration": 3,
    "start_time": "2021-11-17T21:11:54.358Z"
   },
   {
    "duration": 3,
    "start_time": "2021-11-17T21:12:43.846Z"
   },
   {
    "duration": 4,
    "start_time": "2021-11-17T21:13:08.773Z"
   },
   {
    "duration": 3,
    "start_time": "2021-11-17T21:14:44.441Z"
   },
   {
    "duration": 3,
    "start_time": "2021-11-17T21:15:42.059Z"
   },
   {
    "duration": 4,
    "start_time": "2021-11-17T21:15:51.995Z"
   },
   {
    "duration": 3,
    "start_time": "2021-11-17T21:15:53.923Z"
   },
   {
    "duration": 3,
    "start_time": "2021-11-17T21:15:55.282Z"
   },
   {
    "duration": 3,
    "start_time": "2021-11-17T21:16:28.492Z"
   },
   {
    "duration": 3,
    "start_time": "2021-11-17T21:16:32.603Z"
   },
   {
    "duration": 3,
    "start_time": "2021-11-17T21:17:06.941Z"
   },
   {
    "duration": 98,
    "start_time": "2021-11-17T21:18:05.733Z"
   },
   {
    "duration": 4,
    "start_time": "2021-11-17T21:21:35.255Z"
   },
   {
    "duration": 3,
    "start_time": "2021-11-17T21:21:37.804Z"
   },
   {
    "duration": 4,
    "start_time": "2021-11-17T21:23:06.071Z"
   },
   {
    "duration": 3,
    "start_time": "2021-11-17T21:23:24.799Z"
   },
   {
    "duration": 3,
    "start_time": "2021-11-17T21:23:32.591Z"
   },
   {
    "duration": 98,
    "start_time": "2021-11-17T21:28:31.559Z"
   },
   {
    "duration": 3,
    "start_time": "2021-11-17T21:28:45.448Z"
   },
   {
    "duration": 3,
    "start_time": "2021-11-17T21:29:17.303Z"
   },
   {
    "duration": 3,
    "start_time": "2021-11-17T21:29:29.617Z"
   },
   {
    "duration": 3,
    "start_time": "2021-11-17T21:29:32.681Z"
   },
   {
    "duration": 3,
    "start_time": "2021-11-17T21:36:11.474Z"
   },
   {
    "duration": 3,
    "start_time": "2021-11-17T21:36:14.791Z"
   },
   {
    "duration": 3,
    "start_time": "2021-11-17T21:36:53.943Z"
   },
   {
    "duration": 3,
    "start_time": "2021-11-17T21:36:56.165Z"
   },
   {
    "duration": 4,
    "start_time": "2021-11-17T21:37:16.590Z"
   },
   {
    "duration": 3,
    "start_time": "2021-11-17T21:37:22.702Z"
   },
   {
    "duration": 4,
    "start_time": "2021-11-17T21:38:03.479Z"
   },
   {
    "duration": 3,
    "start_time": "2021-11-17T21:38:08.601Z"
   },
   {
    "duration": 3,
    "start_time": "2021-11-17T21:38:12.928Z"
   },
   {
    "duration": 3,
    "start_time": "2021-11-17T21:38:48.896Z"
   },
   {
    "duration": 2,
    "start_time": "2021-11-17T21:38:49.171Z"
   },
   {
    "duration": 4,
    "start_time": "2021-11-17T21:39:57.889Z"
   },
   {
    "duration": 3,
    "start_time": "2021-11-17T21:39:58.057Z"
   },
   {
    "duration": 3,
    "start_time": "2021-11-17T21:41:20.108Z"
   },
   {
    "duration": 3,
    "start_time": "2021-11-17T21:41:20.629Z"
   },
   {
    "duration": 3,
    "start_time": "2021-11-17T21:42:49.136Z"
   },
   {
    "duration": 3,
    "start_time": "2021-11-17T21:43:15.137Z"
   },
   {
    "duration": 4,
    "start_time": "2021-11-17T21:43:16.766Z"
   },
   {
    "duration": 4,
    "start_time": "2021-11-17T21:43:31.711Z"
   },
   {
    "duration": 3,
    "start_time": "2021-11-17T21:43:36.312Z"
   },
   {
    "duration": 4,
    "start_time": "2021-11-17T21:45:08.825Z"
   },
   {
    "duration": 4,
    "start_time": "2021-11-17T21:45:10.119Z"
   },
   {
    "duration": 4,
    "start_time": "2021-11-17T21:45:13.748Z"
   },
   {
    "duration": 3,
    "start_time": "2021-11-17T21:45:22.219Z"
   },
   {
    "duration": 3,
    "start_time": "2021-11-17T21:45:33.412Z"
   },
   {
    "duration": 2,
    "start_time": "2021-11-17T21:46:01.885Z"
   },
   {
    "duration": 3,
    "start_time": "2021-11-17T21:46:03.628Z"
   },
   {
    "duration": 107,
    "start_time": "2021-11-17T21:47:32.512Z"
   },
   {
    "duration": 103,
    "start_time": "2021-11-17T21:50:36.243Z"
   },
   {
    "duration": 3,
    "start_time": "2021-11-18T06:28:31.440Z"
   },
   {
    "duration": 3,
    "start_time": "2021-11-18T06:29:00.168Z"
   },
   {
    "duration": 3,
    "start_time": "2021-11-18T06:31:27.008Z"
   },
   {
    "duration": 2,
    "start_time": "2021-11-18T06:35:34.288Z"
   },
   {
    "duration": 2,
    "start_time": "2021-11-18T06:38:04.527Z"
   },
   {
    "duration": 50,
    "start_time": "2022-04-19T21:56:14.911Z"
   },
   {
    "duration": 1400,
    "start_time": "2022-04-19T21:56:22.302Z"
   },
   {
    "duration": 1192,
    "start_time": "2022-04-19T21:56:24.958Z"
   },
   {
    "duration": 8,
    "start_time": "2022-04-19T21:56:51.564Z"
   },
   {
    "duration": 183,
    "start_time": "2022-04-19T21:57:32.052Z"
   },
   {
    "duration": 251,
    "start_time": "2022-04-19T21:57:38.782Z"
   },
   {
    "duration": 7,
    "start_time": "2022-04-19T21:57:55.246Z"
   },
   {
    "duration": 22,
    "start_time": "2022-04-19T21:58:03.355Z"
   },
   {
    "duration": 23,
    "start_time": "2022-04-19T22:01:19.778Z"
   },
   {
    "duration": 71,
    "start_time": "2022-04-19T22:04:22.636Z"
   },
   {
    "duration": 72,
    "start_time": "2022-04-19T22:04:59.144Z"
   },
   {
    "duration": 107,
    "start_time": "2022-04-19T22:05:46.362Z"
   },
   {
    "duration": 136,
    "start_time": "2022-04-21T03:02:10.401Z"
   },
   {
    "duration": 132,
    "start_time": "2022-04-21T03:03:18.719Z"
   },
   {
    "duration": 124,
    "start_time": "2022-04-21T03:03:22.918Z"
   },
   {
    "duration": 154,
    "start_time": "2022-04-21T03:08:59.109Z"
   },
   {
    "duration": 127,
    "start_time": "2022-04-21T03:09:13.781Z"
   },
   {
    "duration": 38,
    "start_time": "2022-04-21T03:09:25.999Z"
   },
   {
    "duration": 1213,
    "start_time": "2022-04-21T03:09:41.456Z"
   },
   {
    "duration": 573,
    "start_time": "2022-04-21T03:09:42.671Z"
   },
   {
    "duration": 109,
    "start_time": "2022-04-21T03:09:43.246Z"
   },
   {
    "duration": 21,
    "start_time": "2022-04-21T03:09:43.357Z"
   },
   {
    "duration": 2,
    "start_time": "2022-04-21T03:09:43.379Z"
   },
   {
    "duration": 5,
    "start_time": "2022-04-21T03:09:43.383Z"
   },
   {
    "duration": 5,
    "start_time": "2022-04-21T03:09:43.389Z"
   },
   {
    "duration": 6,
    "start_time": "2022-04-21T03:09:43.396Z"
   },
   {
    "duration": 5,
    "start_time": "2022-04-21T03:09:43.404Z"
   },
   {
    "duration": 2,
    "start_time": "2022-04-21T03:09:43.424Z"
   },
   {
    "duration": 5,
    "start_time": "2022-04-21T03:09:43.427Z"
   },
   {
    "duration": 4,
    "start_time": "2022-04-21T03:09:43.433Z"
   },
   {
    "duration": 4,
    "start_time": "2022-04-21T03:09:43.438Z"
   },
   {
    "duration": 4,
    "start_time": "2022-04-21T03:09:43.443Z"
   },
   {
    "duration": 6,
    "start_time": "2022-04-21T03:09:43.448Z"
   },
   {
    "duration": 4,
    "start_time": "2022-04-21T03:09:43.455Z"
   },
   {
    "duration": 4,
    "start_time": "2022-04-21T03:09:43.461Z"
   },
   {
    "duration": 4,
    "start_time": "2022-04-21T03:09:43.467Z"
   },
   {
    "duration": 4,
    "start_time": "2022-04-21T03:09:43.473Z"
   },
   {
    "duration": 7,
    "start_time": "2022-04-21T03:09:43.479Z"
   },
   {
    "duration": 4,
    "start_time": "2022-04-21T03:09:43.487Z"
   },
   {
    "duration": 4,
    "start_time": "2022-04-21T03:09:43.493Z"
   },
   {
    "duration": 5,
    "start_time": "2022-04-21T03:09:43.498Z"
   },
   {
    "duration": 3,
    "start_time": "2022-04-21T03:09:43.505Z"
   },
   {
    "duration": 6,
    "start_time": "2022-04-21T03:09:43.524Z"
   },
   {
    "duration": 4,
    "start_time": "2022-04-21T03:09:43.532Z"
   },
   {
    "duration": 4,
    "start_time": "2022-04-21T03:09:43.537Z"
   },
   {
    "duration": 4,
    "start_time": "2022-04-21T03:09:43.543Z"
   },
   {
    "duration": 4,
    "start_time": "2022-04-21T03:09:43.549Z"
   },
   {
    "duration": 84,
    "start_time": "2022-04-21T03:10:03.030Z"
   },
   {
    "duration": 20,
    "start_time": "2022-04-21T03:10:11.439Z"
   },
   {
    "duration": 22,
    "start_time": "2022-04-21T03:10:54.276Z"
   },
   {
    "duration": 14,
    "start_time": "2022-04-21T03:10:58.105Z"
   },
   {
    "duration": 23,
    "start_time": "2022-04-21T03:11:20.707Z"
   },
   {
    "duration": 15,
    "start_time": "2022-04-21T03:13:27.001Z"
   },
   {
    "duration": 67,
    "start_time": "2022-04-21T03:14:01.058Z"
   },
   {
    "duration": 65,
    "start_time": "2022-04-21T03:16:43.300Z"
   },
   {
    "duration": 65,
    "start_time": "2022-04-21T03:23:16.863Z"
   },
   {
    "duration": 83,
    "start_time": "2022-04-21T03:26:58.249Z"
   },
   {
    "duration": 79,
    "start_time": "2022-04-21T03:27:26.103Z"
   },
   {
    "duration": 78,
    "start_time": "2022-04-21T03:27:38.142Z"
   },
   {
    "duration": 12,
    "start_time": "2022-04-21T03:37:40.758Z"
   },
   {
    "duration": 8,
    "start_time": "2022-04-21T03:38:00.857Z"
   },
   {
    "duration": 14,
    "start_time": "2022-04-21T03:38:08.352Z"
   },
   {
    "duration": 14,
    "start_time": "2022-04-21T03:38:46.682Z"
   },
   {
    "duration": 31,
    "start_time": "2022-04-21T03:39:08.991Z"
   },
   {
    "duration": 10,
    "start_time": "2022-04-21T03:39:18.913Z"
   },
   {
    "duration": 17,
    "start_time": "2022-04-21T03:40:12.843Z"
   },
   {
    "duration": 254,
    "start_time": "2022-04-21T03:41:31.095Z"
   },
   {
    "duration": 12,
    "start_time": "2022-04-21T03:41:42.770Z"
   },
   {
    "duration": 6,
    "start_time": "2022-04-21T03:42:25.828Z"
   },
   {
    "duration": 13,
    "start_time": "2022-04-21T03:42:33.086Z"
   },
   {
    "duration": 7,
    "start_time": "2022-04-21T03:42:51.725Z"
   },
   {
    "duration": 6,
    "start_time": "2022-04-21T03:43:00.181Z"
   },
   {
    "duration": 215,
    "start_time": "2022-04-21T03:43:04.312Z"
   },
   {
    "duration": 6,
    "start_time": "2022-04-21T03:43:07.576Z"
   },
   {
    "duration": 8,
    "start_time": "2022-04-21T03:50:19.137Z"
   },
   {
    "duration": 13,
    "start_time": "2022-04-21T03:50:37.726Z"
   },
   {
    "duration": 21,
    "start_time": "2022-04-21T03:51:16.678Z"
   },
   {
    "duration": 15,
    "start_time": "2022-04-21T03:51:33.612Z"
   },
   {
    "duration": 14,
    "start_time": "2022-04-21T03:51:43.632Z"
   },
   {
    "duration": 10,
    "start_time": "2022-04-21T03:52:05.656Z"
   },
   {
    "duration": 1110,
    "start_time": "2022-04-21T03:52:19.203Z"
   },
   {
    "duration": 244,
    "start_time": "2022-04-21T03:52:20.315Z"
   },
   {
    "duration": 107,
    "start_time": "2022-04-21T03:52:20.561Z"
   },
   {
    "duration": 31,
    "start_time": "2022-04-21T03:52:20.670Z"
   },
   {
    "duration": 101,
    "start_time": "2022-04-21T03:52:20.703Z"
   },
   {
    "duration": 42,
    "start_time": "2022-04-21T03:52:20.805Z"
   },
   {
    "duration": 96,
    "start_time": "2022-04-21T03:52:20.848Z"
   },
   {
    "duration": 0,
    "start_time": "2022-04-21T03:52:20.946Z"
   },
   {
    "duration": 0,
    "start_time": "2022-04-21T03:52:20.947Z"
   },
   {
    "duration": 0,
    "start_time": "2022-04-21T03:52:20.948Z"
   },
   {
    "duration": 0,
    "start_time": "2022-04-21T03:52:20.949Z"
   },
   {
    "duration": 0,
    "start_time": "2022-04-21T03:52:20.950Z"
   },
   {
    "duration": 0,
    "start_time": "2022-04-21T03:52:20.951Z"
   },
   {
    "duration": 0,
    "start_time": "2022-04-21T03:52:20.952Z"
   },
   {
    "duration": 0,
    "start_time": "2022-04-21T03:52:20.953Z"
   },
   {
    "duration": 0,
    "start_time": "2022-04-21T03:52:20.954Z"
   },
   {
    "duration": 0,
    "start_time": "2022-04-21T03:52:20.955Z"
   },
   {
    "duration": 0,
    "start_time": "2022-04-21T03:52:20.955Z"
   },
   {
    "duration": 0,
    "start_time": "2022-04-21T03:52:20.957Z"
   },
   {
    "duration": 0,
    "start_time": "2022-04-21T03:52:20.957Z"
   },
   {
    "duration": 0,
    "start_time": "2022-04-21T03:52:20.958Z"
   },
   {
    "duration": 0,
    "start_time": "2022-04-21T03:52:20.959Z"
   },
   {
    "duration": 0,
    "start_time": "2022-04-21T03:52:20.960Z"
   },
   {
    "duration": 0,
    "start_time": "2022-04-21T03:52:20.961Z"
   },
   {
    "duration": 0,
    "start_time": "2022-04-21T03:52:20.962Z"
   },
   {
    "duration": 1,
    "start_time": "2022-04-21T03:52:20.962Z"
   },
   {
    "duration": 0,
    "start_time": "2022-04-21T03:52:20.963Z"
   },
   {
    "duration": 0,
    "start_time": "2022-04-21T03:52:20.964Z"
   },
   {
    "duration": 0,
    "start_time": "2022-04-21T03:52:20.965Z"
   },
   {
    "duration": 0,
    "start_time": "2022-04-21T03:52:20.966Z"
   },
   {
    "duration": 0,
    "start_time": "2022-04-21T03:52:20.967Z"
   },
   {
    "duration": 0,
    "start_time": "2022-04-21T03:52:20.967Z"
   },
   {
    "duration": 0,
    "start_time": "2022-04-21T03:52:20.968Z"
   },
   {
    "duration": 13,
    "start_time": "2022-04-21T03:52:42.921Z"
   },
   {
    "duration": 10,
    "start_time": "2022-04-21T03:52:48.191Z"
   },
   {
    "duration": 16,
    "start_time": "2022-04-21T03:53:11.506Z"
   },
   {
    "duration": 2212,
    "start_time": "2022-04-21T04:01:39.429Z"
   },
   {
    "duration": 1946,
    "start_time": "2022-04-21T19:57:33.042Z"
   },
   {
    "duration": 381,
    "start_time": "2022-04-21T19:57:34.991Z"
   },
   {
    "duration": 194,
    "start_time": "2022-04-21T19:57:35.374Z"
   },
   {
    "duration": 79,
    "start_time": "2022-04-21T19:57:35.573Z"
   },
   {
    "duration": 173,
    "start_time": "2022-04-21T19:57:35.655Z"
   },
   {
    "duration": 2005,
    "start_time": "2022-04-21T19:57:35.833Z"
   },
   {
    "duration": 0,
    "start_time": "2022-04-21T19:57:37.841Z"
   },
   {
    "duration": 0,
    "start_time": "2022-04-21T19:57:37.843Z"
   },
   {
    "duration": 0,
    "start_time": "2022-04-21T19:57:37.844Z"
   },
   {
    "duration": 0,
    "start_time": "2022-04-21T19:57:37.846Z"
   },
   {
    "duration": 0,
    "start_time": "2022-04-21T19:57:37.847Z"
   },
   {
    "duration": 0,
    "start_time": "2022-04-21T19:57:37.849Z"
   },
   {
    "duration": 0,
    "start_time": "2022-04-21T19:57:37.850Z"
   },
   {
    "duration": 0,
    "start_time": "2022-04-21T19:57:37.852Z"
   },
   {
    "duration": 0,
    "start_time": "2022-04-21T19:57:37.854Z"
   },
   {
    "duration": 0,
    "start_time": "2022-04-21T19:57:37.855Z"
   },
   {
    "duration": 0,
    "start_time": "2022-04-21T19:57:37.857Z"
   },
   {
    "duration": 0,
    "start_time": "2022-04-21T19:57:37.858Z"
   },
   {
    "duration": 0,
    "start_time": "2022-04-21T19:57:37.860Z"
   },
   {
    "duration": 0,
    "start_time": "2022-04-21T19:57:37.861Z"
   },
   {
    "duration": 0,
    "start_time": "2022-04-21T19:57:37.863Z"
   },
   {
    "duration": 0,
    "start_time": "2022-04-21T19:57:37.864Z"
   },
   {
    "duration": 0,
    "start_time": "2022-04-21T19:57:37.866Z"
   },
   {
    "duration": 0,
    "start_time": "2022-04-21T19:57:37.867Z"
   },
   {
    "duration": 0,
    "start_time": "2022-04-21T19:57:37.869Z"
   },
   {
    "duration": 0,
    "start_time": "2022-04-21T19:57:37.870Z"
   },
   {
    "duration": 0,
    "start_time": "2022-04-21T19:57:37.872Z"
   },
   {
    "duration": 0,
    "start_time": "2022-04-21T19:57:37.873Z"
   },
   {
    "duration": 0,
    "start_time": "2022-04-21T19:57:37.875Z"
   },
   {
    "duration": 0,
    "start_time": "2022-04-21T19:57:37.924Z"
   },
   {
    "duration": 0,
    "start_time": "2022-04-21T19:57:37.926Z"
   },
   {
    "duration": 0,
    "start_time": "2022-04-21T19:57:37.935Z"
   },
   {
    "duration": 0,
    "start_time": "2022-04-21T19:57:37.936Z"
   },
   {
    "duration": 1518,
    "start_time": "2022-04-21T20:30:16.291Z"
   },
   {
    "duration": 365,
    "start_time": "2022-04-21T20:30:17.812Z"
   },
   {
    "duration": 187,
    "start_time": "2022-04-21T20:30:18.179Z"
   },
   {
    "duration": 68,
    "start_time": "2022-04-21T20:30:18.369Z"
   },
   {
    "duration": 163,
    "start_time": "2022-04-21T20:30:18.440Z"
   },
   {
    "duration": 1932,
    "start_time": "2022-04-21T20:30:18.605Z"
   },
   {
    "duration": 0,
    "start_time": "2022-04-21T20:30:20.541Z"
   },
   {
    "duration": 0,
    "start_time": "2022-04-21T20:30:20.545Z"
   },
   {
    "duration": 0,
    "start_time": "2022-04-21T20:30:20.547Z"
   },
   {
    "duration": 0,
    "start_time": "2022-04-21T20:30:20.549Z"
   },
   {
    "duration": 0,
    "start_time": "2022-04-21T20:30:20.551Z"
   },
   {
    "duration": 0,
    "start_time": "2022-04-21T20:30:20.553Z"
   },
   {
    "duration": 0,
    "start_time": "2022-04-21T20:30:20.556Z"
   },
   {
    "duration": 0,
    "start_time": "2022-04-21T20:30:20.558Z"
   },
   {
    "duration": 0,
    "start_time": "2022-04-21T20:30:20.560Z"
   },
   {
    "duration": 0,
    "start_time": "2022-04-21T20:30:20.562Z"
   },
   {
    "duration": 0,
    "start_time": "2022-04-21T20:30:20.564Z"
   },
   {
    "duration": 0,
    "start_time": "2022-04-21T20:30:20.566Z"
   },
   {
    "duration": 0,
    "start_time": "2022-04-21T20:30:20.568Z"
   },
   {
    "duration": 0,
    "start_time": "2022-04-21T20:30:20.570Z"
   },
   {
    "duration": 0,
    "start_time": "2022-04-21T20:30:20.572Z"
   },
   {
    "duration": 0,
    "start_time": "2022-04-21T20:30:20.574Z"
   },
   {
    "duration": 1,
    "start_time": "2022-04-21T20:30:20.576Z"
   },
   {
    "duration": 0,
    "start_time": "2022-04-21T20:30:20.578Z"
   },
   {
    "duration": 0,
    "start_time": "2022-04-21T20:30:20.636Z"
   },
   {
    "duration": 0,
    "start_time": "2022-04-21T20:30:20.637Z"
   },
   {
    "duration": 0,
    "start_time": "2022-04-21T20:30:20.638Z"
   },
   {
    "duration": 0,
    "start_time": "2022-04-21T20:30:20.640Z"
   },
   {
    "duration": 0,
    "start_time": "2022-04-21T20:30:20.641Z"
   },
   {
    "duration": 0,
    "start_time": "2022-04-21T20:30:20.642Z"
   },
   {
    "duration": 0,
    "start_time": "2022-04-21T20:30:20.643Z"
   },
   {
    "duration": 0,
    "start_time": "2022-04-21T20:30:20.644Z"
   },
   {
    "duration": 0,
    "start_time": "2022-04-21T20:30:20.644Z"
   },
   {
    "duration": 1875,
    "start_time": "2022-04-21T20:31:26.267Z"
   },
   {
    "duration": 1803,
    "start_time": "2022-04-22T02:33:16.041Z"
   },
   {
    "duration": 369,
    "start_time": "2022-04-22T02:33:17.847Z"
   },
   {
    "duration": 182,
    "start_time": "2022-04-22T02:33:18.219Z"
   },
   {
    "duration": 63,
    "start_time": "2022-04-22T02:33:18.404Z"
   },
   {
    "duration": 175,
    "start_time": "2022-04-22T02:33:18.470Z"
   },
   {
    "duration": 1787,
    "start_time": "2022-04-22T02:33:18.648Z"
   },
   {
    "duration": 0,
    "start_time": "2022-04-22T02:33:20.438Z"
   },
   {
    "duration": 0,
    "start_time": "2022-04-22T02:33:20.440Z"
   },
   {
    "duration": 0,
    "start_time": "2022-04-22T02:33:20.441Z"
   },
   {
    "duration": 0,
    "start_time": "2022-04-22T02:33:20.443Z"
   },
   {
    "duration": 0,
    "start_time": "2022-04-22T02:33:20.444Z"
   },
   {
    "duration": 0,
    "start_time": "2022-04-22T02:33:20.446Z"
   },
   {
    "duration": 0,
    "start_time": "2022-04-22T02:33:20.447Z"
   },
   {
    "duration": 0,
    "start_time": "2022-04-22T02:33:20.448Z"
   },
   {
    "duration": 0,
    "start_time": "2022-04-22T02:33:20.450Z"
   },
   {
    "duration": 0,
    "start_time": "2022-04-22T02:33:20.451Z"
   },
   {
    "duration": 0,
    "start_time": "2022-04-22T02:33:20.453Z"
   },
   {
    "duration": 0,
    "start_time": "2022-04-22T02:33:20.454Z"
   },
   {
    "duration": 0,
    "start_time": "2022-04-22T02:33:20.455Z"
   },
   {
    "duration": 0,
    "start_time": "2022-04-22T02:33:20.457Z"
   },
   {
    "duration": 0,
    "start_time": "2022-04-22T02:33:20.458Z"
   },
   {
    "duration": 0,
    "start_time": "2022-04-22T02:33:20.459Z"
   },
   {
    "duration": 0,
    "start_time": "2022-04-22T02:33:20.461Z"
   },
   {
    "duration": 0,
    "start_time": "2022-04-22T02:33:20.462Z"
   },
   {
    "duration": 0,
    "start_time": "2022-04-22T02:33:20.463Z"
   },
   {
    "duration": 0,
    "start_time": "2022-04-22T02:33:20.465Z"
   },
   {
    "duration": 0,
    "start_time": "2022-04-22T02:33:20.466Z"
   },
   {
    "duration": 0,
    "start_time": "2022-04-22T02:33:20.467Z"
   },
   {
    "duration": 0,
    "start_time": "2022-04-22T02:33:20.468Z"
   },
   {
    "duration": 0,
    "start_time": "2022-04-22T02:33:20.470Z"
   },
   {
    "duration": 0,
    "start_time": "2022-04-22T02:33:20.471Z"
   },
   {
    "duration": 0,
    "start_time": "2022-04-22T02:33:20.472Z"
   },
   {
    "duration": 0,
    "start_time": "2022-04-22T02:33:20.474Z"
   },
   {
    "duration": 1768,
    "start_time": "2022-04-22T02:34:28.014Z"
   },
   {
    "duration": 53,
    "start_time": "2022-04-22T02:36:29.920Z"
   },
   {
    "duration": 55,
    "start_time": "2022-04-22T02:36:39.168Z"
   },
   {
    "duration": 100,
    "start_time": "2022-04-22T02:37:54.832Z"
   },
   {
    "duration": 100,
    "start_time": "2022-04-22T02:38:04.539Z"
   },
   {
    "duration": 71,
    "start_time": "2022-04-22T02:39:00.297Z"
   },
   {
    "duration": 76,
    "start_time": "2022-04-22T02:39:12.623Z"
   },
   {
    "duration": 18,
    "start_time": "2022-04-22T02:40:34.763Z"
   },
   {
    "duration": 24,
    "start_time": "2022-04-22T02:41:33.480Z"
   },
   {
    "duration": 1407,
    "start_time": "2022-04-22T02:43:11.951Z"
   },
   {
    "duration": 1179,
    "start_time": "2022-04-22T02:43:38.704Z"
   },
   {
    "duration": 26,
    "start_time": "2022-04-22T02:44:00.939Z"
   },
   {
    "duration": 1230,
    "start_time": "2022-04-22T02:44:37.373Z"
   },
   {
    "duration": 1565,
    "start_time": "2022-04-22T02:44:58.607Z"
   },
   {
    "duration": 389,
    "start_time": "2022-04-22T02:45:00.175Z"
   },
   {
    "duration": 187,
    "start_time": "2022-04-22T02:45:00.567Z"
   },
   {
    "duration": 67,
    "start_time": "2022-04-22T02:45:00.757Z"
   },
   {
    "duration": 178,
    "start_time": "2022-04-22T02:45:00.827Z"
   },
   {
    "duration": 85,
    "start_time": "2022-04-22T02:45:01.007Z"
   },
   {
    "duration": 39,
    "start_time": "2022-04-22T02:45:01.094Z"
   },
   {
    "duration": 31,
    "start_time": "2022-04-22T02:45:01.135Z"
   },
   {
    "duration": 7,
    "start_time": "2022-04-22T02:45:01.168Z"
   },
   {
    "duration": 16,
    "start_time": "2022-04-22T02:45:01.179Z"
   },
   {
    "duration": 20,
    "start_time": "2022-04-22T02:45:01.197Z"
   },
   {
    "duration": 21,
    "start_time": "2022-04-22T02:45:01.219Z"
   },
   {
    "duration": 33,
    "start_time": "2022-04-22T02:45:01.242Z"
   },
   {
    "duration": 39,
    "start_time": "2022-04-22T02:45:01.277Z"
   },
   {
    "duration": 26,
    "start_time": "2022-04-22T02:45:01.318Z"
   },
   {
    "duration": 23,
    "start_time": "2022-04-22T02:45:01.346Z"
   },
   {
    "duration": 17,
    "start_time": "2022-04-22T02:45:01.371Z"
   },
   {
    "duration": 14,
    "start_time": "2022-04-22T02:45:01.390Z"
   },
   {
    "duration": 6,
    "start_time": "2022-04-22T02:45:01.407Z"
   },
   {
    "duration": 7,
    "start_time": "2022-04-22T02:45:01.415Z"
   },
   {
    "duration": 7,
    "start_time": "2022-04-22T02:45:01.424Z"
   },
   {
    "duration": 9,
    "start_time": "2022-04-22T02:45:01.433Z"
   },
   {
    "duration": 12,
    "start_time": "2022-04-22T02:45:01.444Z"
   },
   {
    "duration": 14,
    "start_time": "2022-04-22T02:45:01.458Z"
   },
   {
    "duration": 9,
    "start_time": "2022-04-22T02:45:01.474Z"
   },
   {
    "duration": 20,
    "start_time": "2022-04-22T02:45:01.485Z"
   },
   {
    "duration": 8,
    "start_time": "2022-04-22T02:45:01.507Z"
   },
   {
    "duration": 9,
    "start_time": "2022-04-22T02:45:01.519Z"
   },
   {
    "duration": 14,
    "start_time": "2022-04-22T02:45:01.530Z"
   },
   {
    "duration": 11,
    "start_time": "2022-04-22T02:45:01.546Z"
   },
   {
    "duration": 13,
    "start_time": "2022-04-22T02:45:01.559Z"
   },
   {
    "duration": 12,
    "start_time": "2022-04-22T02:45:01.574Z"
   },
   {
    "duration": 14,
    "start_time": "2022-04-22T02:45:01.589Z"
   },
   {
    "duration": 29,
    "start_time": "2022-04-22T02:45:33.315Z"
   },
   {
    "duration": 5,
    "start_time": "2022-04-22T02:56:42.044Z"
   },
   {
    "duration": 146,
    "start_time": "2022-04-22T02:57:14.656Z"
   },
   {
    "duration": 4,
    "start_time": "2022-04-22T02:57:17.295Z"
   },
   {
    "duration": 4,
    "start_time": "2022-04-22T02:57:20.371Z"
   },
   {
    "duration": 1605,
    "start_time": "2022-04-22T02:57:29.081Z"
   },
   {
    "duration": 375,
    "start_time": "2022-04-22T02:57:30.689Z"
   },
   {
    "duration": 187,
    "start_time": "2022-04-22T02:57:31.066Z"
   },
   {
    "duration": 68,
    "start_time": "2022-04-22T02:57:31.256Z"
   },
   {
    "duration": 175,
    "start_time": "2022-04-22T02:57:31.327Z"
   },
   {
    "duration": 89,
    "start_time": "2022-04-22T02:57:31.504Z"
   },
   {
    "duration": 45,
    "start_time": "2022-04-22T02:57:31.596Z"
   },
   {
    "duration": 32,
    "start_time": "2022-04-22T02:57:31.643Z"
   },
   {
    "duration": 9,
    "start_time": "2022-04-22T02:57:31.678Z"
   },
   {
    "duration": 5,
    "start_time": "2022-04-22T02:57:31.692Z"
   },
   {
    "duration": 3,
    "start_time": "2022-04-22T02:57:31.726Z"
   },
   {
    "duration": 12,
    "start_time": "2022-04-22T02:57:31.732Z"
   },
   {
    "duration": 36,
    "start_time": "2022-04-22T02:57:31.747Z"
   },
   {
    "duration": 10,
    "start_time": "2022-04-22T02:57:31.786Z"
   },
   {
    "duration": 8,
    "start_time": "2022-04-22T02:57:31.798Z"
   },
   {
    "duration": 9,
    "start_time": "2022-04-22T02:57:31.808Z"
   },
   {
    "duration": 12,
    "start_time": "2022-04-22T02:57:31.819Z"
   },
   {
    "duration": 10,
    "start_time": "2022-04-22T02:57:31.833Z"
   },
   {
    "duration": 14,
    "start_time": "2022-04-22T02:57:31.845Z"
   },
   {
    "duration": 15,
    "start_time": "2022-04-22T02:57:31.861Z"
   },
   {
    "duration": 12,
    "start_time": "2022-04-22T02:57:31.878Z"
   },
   {
    "duration": 9,
    "start_time": "2022-04-22T02:57:31.893Z"
   },
   {
    "duration": 16,
    "start_time": "2022-04-22T02:57:31.904Z"
   },
   {
    "duration": 10,
    "start_time": "2022-04-22T02:57:31.922Z"
   },
   {
    "duration": 7,
    "start_time": "2022-04-22T02:57:31.934Z"
   },
   {
    "duration": 12,
    "start_time": "2022-04-22T02:57:31.943Z"
   },
   {
    "duration": 8,
    "start_time": "2022-04-22T02:57:31.957Z"
   },
   {
    "duration": 6,
    "start_time": "2022-04-22T02:57:31.970Z"
   },
   {
    "duration": 6,
    "start_time": "2022-04-22T02:57:31.978Z"
   },
   {
    "duration": 6,
    "start_time": "2022-04-22T02:57:31.987Z"
   },
   {
    "duration": 11,
    "start_time": "2022-04-22T02:57:31.995Z"
   },
   {
    "duration": 6,
    "start_time": "2022-04-22T02:57:32.008Z"
   },
   {
    "duration": 12,
    "start_time": "2022-04-22T02:57:32.025Z"
   },
   {
    "duration": 4,
    "start_time": "2022-04-22T03:00:38.711Z"
   },
   {
    "duration": 76,
    "start_time": "2022-04-22T03:03:18.263Z"
   },
   {
    "duration": 9,
    "start_time": "2022-04-22T03:03:36.357Z"
   },
   {
    "duration": 1591,
    "start_time": "2022-04-22T03:03:47.800Z"
   },
   {
    "duration": 370,
    "start_time": "2022-04-22T03:03:49.394Z"
   },
   {
    "duration": 186,
    "start_time": "2022-04-22T03:03:49.767Z"
   },
   {
    "duration": 72,
    "start_time": "2022-04-22T03:03:49.955Z"
   },
   {
    "duration": 179,
    "start_time": "2022-04-22T03:03:50.029Z"
   },
   {
    "duration": 86,
    "start_time": "2022-04-22T03:03:50.210Z"
   },
   {
    "duration": 41,
    "start_time": "2022-04-22T03:03:50.298Z"
   },
   {
    "duration": 35,
    "start_time": "2022-04-22T03:03:50.341Z"
   },
   {
    "duration": 10,
    "start_time": "2022-04-22T03:03:50.378Z"
   },
   {
    "duration": 12,
    "start_time": "2022-04-22T03:03:50.392Z"
   },
   {
    "duration": 19,
    "start_time": "2022-04-22T03:03:50.406Z"
   },
   {
    "duration": 8,
    "start_time": "2022-04-22T03:03:50.427Z"
   },
   {
    "duration": 6,
    "start_time": "2022-04-22T03:03:50.437Z"
   },
   {
    "duration": 9,
    "start_time": "2022-04-22T03:03:50.446Z"
   },
   {
    "duration": 9,
    "start_time": "2022-04-22T03:03:50.458Z"
   },
   {
    "duration": 6,
    "start_time": "2022-04-22T03:03:50.469Z"
   },
   {
    "duration": 9,
    "start_time": "2022-04-22T03:03:50.477Z"
   },
   {
    "duration": 71,
    "start_time": "2022-04-22T03:04:06.300Z"
   },
   {
    "duration": 1713,
    "start_time": "2022-04-22T03:04:34.784Z"
   },
   {
    "duration": 372,
    "start_time": "2022-04-22T03:04:36.499Z"
   },
   {
    "duration": 183,
    "start_time": "2022-04-22T03:04:36.873Z"
   },
   {
    "duration": 70,
    "start_time": "2022-04-22T03:04:37.060Z"
   },
   {
    "duration": 165,
    "start_time": "2022-04-22T03:04:37.133Z"
   },
   {
    "duration": 91,
    "start_time": "2022-04-22T03:04:37.301Z"
   },
   {
    "duration": 37,
    "start_time": "2022-04-22T03:04:37.394Z"
   },
   {
    "duration": 27,
    "start_time": "2022-04-22T03:04:37.433Z"
   },
   {
    "duration": 7,
    "start_time": "2022-04-22T03:04:37.462Z"
   },
   {
    "duration": 4,
    "start_time": "2022-04-22T03:04:37.473Z"
   },
   {
    "duration": 5,
    "start_time": "2022-04-22T03:04:37.480Z"
   },
   {
    "duration": 38,
    "start_time": "2022-04-22T03:04:37.487Z"
   },
   {
    "duration": 7,
    "start_time": "2022-04-22T03:04:37.527Z"
   },
   {
    "duration": 7,
    "start_time": "2022-04-22T03:04:37.536Z"
   },
   {
    "duration": 7,
    "start_time": "2022-04-22T03:04:37.545Z"
   },
   {
    "duration": 6,
    "start_time": "2022-04-22T03:04:37.554Z"
   },
   {
    "duration": 11,
    "start_time": "2022-04-22T03:04:37.561Z"
   },
   {
    "duration": 72,
    "start_time": "2022-04-22T03:04:54.624Z"
   },
   {
    "duration": 9,
    "start_time": "2022-04-22T03:06:03.196Z"
   },
   {
    "duration": 1494,
    "start_time": "2022-04-22T03:06:25.674Z"
   },
   {
    "duration": 369,
    "start_time": "2022-04-22T03:06:27.171Z"
   },
   {
    "duration": 182,
    "start_time": "2022-04-22T03:06:27.543Z"
   },
   {
    "duration": 51,
    "start_time": "2022-04-22T03:06:27.728Z"
   },
   {
    "duration": 176,
    "start_time": "2022-04-22T03:06:27.782Z"
   },
   {
    "duration": 101,
    "start_time": "2022-04-22T03:06:27.960Z"
   },
   {
    "duration": 21,
    "start_time": "2022-04-22T03:06:28.063Z"
   },
   {
    "duration": 49,
    "start_time": "2022-04-22T03:06:28.086Z"
   },
   {
    "duration": 3,
    "start_time": "2022-04-22T03:06:28.137Z"
   },
   {
    "duration": 8,
    "start_time": "2022-04-22T03:06:28.143Z"
   },
   {
    "duration": 6,
    "start_time": "2022-04-22T03:06:28.154Z"
   },
   {
    "duration": 14,
    "start_time": "2022-04-22T03:06:28.162Z"
   },
   {
    "duration": 9,
    "start_time": "2022-04-22T03:06:28.178Z"
   },
   {
    "duration": 11,
    "start_time": "2022-04-22T03:06:28.189Z"
   },
   {
    "duration": 25,
    "start_time": "2022-04-22T03:06:28.202Z"
   },
   {
    "duration": 7,
    "start_time": "2022-04-22T03:06:28.229Z"
   },
   {
    "duration": 12,
    "start_time": "2022-04-22T03:06:28.237Z"
   },
   {
    "duration": 73,
    "start_time": "2022-04-22T03:06:28.251Z"
   },
   {
    "duration": 4,
    "start_time": "2022-04-22T03:06:28.326Z"
   },
   {
    "duration": 10,
    "start_time": "2022-04-22T03:06:28.331Z"
   },
   {
    "duration": 7,
    "start_time": "2022-04-22T03:06:28.342Z"
   },
   {
    "duration": 7,
    "start_time": "2022-04-22T03:06:28.351Z"
   },
   {
    "duration": 10,
    "start_time": "2022-04-22T03:06:28.360Z"
   },
   {
    "duration": 17,
    "start_time": "2022-04-22T03:06:28.372Z"
   },
   {
    "duration": 6,
    "start_time": "2022-04-22T03:06:28.391Z"
   },
   {
    "duration": 6,
    "start_time": "2022-04-22T03:06:28.399Z"
   },
   {
    "duration": 3,
    "start_time": "2022-04-22T03:06:28.425Z"
   },
   {
    "duration": 3,
    "start_time": "2022-04-22T03:06:28.432Z"
   },
   {
    "duration": 8,
    "start_time": "2022-04-22T03:06:28.437Z"
   },
   {
    "duration": 6,
    "start_time": "2022-04-22T03:06:28.447Z"
   },
   {
    "duration": 6,
    "start_time": "2022-04-22T03:06:28.454Z"
   },
   {
    "duration": 9,
    "start_time": "2022-04-22T03:06:28.462Z"
   },
   {
    "duration": 9,
    "start_time": "2022-04-22T03:06:28.473Z"
   },
   {
    "duration": 6,
    "start_time": "2022-04-22T03:06:28.484Z"
   },
   {
    "duration": 147,
    "start_time": "2022-04-22T03:06:44.745Z"
   },
   {
    "duration": 22,
    "start_time": "2022-04-22T03:06:57.367Z"
   },
   {
    "duration": 3079,
    "start_time": "2022-04-22T03:08:59.054Z"
   },
   {
    "duration": 26,
    "start_time": "2022-04-22T03:09:16.936Z"
   },
   {
    "duration": 34,
    "start_time": "2022-04-22T03:10:09.997Z"
   },
   {
    "duration": 3092,
    "start_time": "2022-04-22T03:11:10.971Z"
   },
   {
    "duration": 73,
    "start_time": "2022-04-22T03:13:01.640Z"
   },
   {
    "duration": 1514,
    "start_time": "2022-04-22T03:13:39.569Z"
   },
   {
    "duration": 372,
    "start_time": "2022-04-22T03:13:41.086Z"
   },
   {
    "duration": 181,
    "start_time": "2022-04-22T03:13:41.460Z"
   },
   {
    "duration": 54,
    "start_time": "2022-04-22T03:13:41.643Z"
   },
   {
    "duration": 177,
    "start_time": "2022-04-22T03:13:41.701Z"
   },
   {
    "duration": 98,
    "start_time": "2022-04-22T03:13:41.880Z"
   },
   {
    "duration": 19,
    "start_time": "2022-04-22T03:13:41.980Z"
   },
   {
    "duration": 62,
    "start_time": "2022-04-22T03:13:42.001Z"
   },
   {
    "duration": 3,
    "start_time": "2022-04-22T03:13:42.065Z"
   },
   {
    "duration": 15,
    "start_time": "2022-04-22T03:13:42.070Z"
   },
   {
    "duration": 6,
    "start_time": "2022-04-22T03:13:42.087Z"
   },
   {
    "duration": 8,
    "start_time": "2022-04-22T03:13:42.095Z"
   },
   {
    "duration": 6,
    "start_time": "2022-04-22T03:13:42.105Z"
   },
   {
    "duration": 3,
    "start_time": "2022-04-22T03:13:42.125Z"
   },
   {
    "duration": 6,
    "start_time": "2022-04-22T03:13:42.131Z"
   },
   {
    "duration": 16,
    "start_time": "2022-04-22T03:13:42.139Z"
   },
   {
    "duration": 8,
    "start_time": "2022-04-22T03:13:42.158Z"
   },
   {
    "duration": 3152,
    "start_time": "2022-04-22T03:13:42.168Z"
   },
   {
    "duration": 34,
    "start_time": "2022-04-22T03:13:45.323Z"
   },
   {
    "duration": 3,
    "start_time": "2022-04-22T03:13:45.359Z"
   },
   {
    "duration": 6,
    "start_time": "2022-04-22T03:13:45.364Z"
   },
   {
    "duration": 10,
    "start_time": "2022-04-22T03:13:45.372Z"
   },
   {
    "duration": 8,
    "start_time": "2022-04-22T03:13:45.384Z"
   },
   {
    "duration": 31,
    "start_time": "2022-04-22T03:13:45.394Z"
   },
   {
    "duration": 7,
    "start_time": "2022-04-22T03:13:45.428Z"
   },
   {
    "duration": 7,
    "start_time": "2022-04-22T03:13:45.438Z"
   },
   {
    "duration": 8,
    "start_time": "2022-04-22T03:13:45.447Z"
   },
   {
    "duration": 17,
    "start_time": "2022-04-22T03:13:45.457Z"
   },
   {
    "duration": 9,
    "start_time": "2022-04-22T03:13:45.476Z"
   },
   {
    "duration": 7,
    "start_time": "2022-04-22T03:13:45.487Z"
   },
   {
    "duration": 7,
    "start_time": "2022-04-22T03:13:45.497Z"
   },
   {
    "duration": 19,
    "start_time": "2022-04-22T03:13:45.506Z"
   },
   {
    "duration": 8,
    "start_time": "2022-04-22T03:13:45.527Z"
   },
   {
    "duration": 9,
    "start_time": "2022-04-22T03:13:45.538Z"
   },
   {
    "duration": 10,
    "start_time": "2022-04-22T03:13:45.550Z"
   },
   {
    "duration": 17,
    "start_time": "2022-04-22T03:15:47.167Z"
   },
   {
    "duration": 15,
    "start_time": "2022-04-22T03:16:02.720Z"
   },
   {
    "duration": 18,
    "start_time": "2022-04-22T03:16:37.543Z"
   },
   {
    "duration": 153,
    "start_time": "2022-04-22T03:17:17.509Z"
   },
   {
    "duration": 34,
    "start_time": "2022-04-22T03:17:20.737Z"
   },
   {
    "duration": 3510,
    "start_time": "2022-04-22T03:17:50.204Z"
   },
   {
    "duration": 114,
    "start_time": "2022-04-22T03:18:09.059Z"
   },
   {
    "duration": 1410,
    "start_time": "2022-04-22T03:19:11.032Z"
   },
   {
    "duration": 1476,
    "start_time": "2022-04-22T03:27:43.421Z"
   },
   {
    "duration": 1413,
    "start_time": "2022-04-22T03:29:19.178Z"
   },
   {
    "duration": 1799,
    "start_time": "2022-04-23T02:42:55.246Z"
   },
   {
    "duration": 477,
    "start_time": "2022-04-23T02:42:57.048Z"
   },
   {
    "duration": 191,
    "start_time": "2022-04-23T02:42:57.527Z"
   },
   {
    "duration": 54,
    "start_time": "2022-04-23T02:42:57.726Z"
   },
   {
    "duration": 185,
    "start_time": "2022-04-23T02:42:57.782Z"
   },
   {
    "duration": 92,
    "start_time": "2022-04-23T02:42:57.969Z"
   },
   {
    "duration": 19,
    "start_time": "2022-04-23T02:42:58.063Z"
   },
   {
    "duration": 52,
    "start_time": "2022-04-23T02:42:58.084Z"
   },
   {
    "duration": 3,
    "start_time": "2022-04-23T02:42:58.138Z"
   },
   {
    "duration": 3,
    "start_time": "2022-04-23T02:42:58.145Z"
   },
   {
    "duration": 6,
    "start_time": "2022-04-23T02:42:58.150Z"
   },
   {
    "duration": 7,
    "start_time": "2022-04-23T02:42:58.158Z"
   },
   {
    "duration": 7,
    "start_time": "2022-04-23T02:42:58.167Z"
   },
   {
    "duration": 5,
    "start_time": "2022-04-23T02:42:58.176Z"
   },
   {
    "duration": 6,
    "start_time": "2022-04-23T02:42:58.183Z"
   },
   {
    "duration": 4,
    "start_time": "2022-04-23T02:42:58.225Z"
   },
   {
    "duration": 7,
    "start_time": "2022-04-23T02:42:58.231Z"
   },
   {
    "duration": 3211,
    "start_time": "2022-04-23T02:42:58.240Z"
   },
   {
    "duration": 3282,
    "start_time": "2022-04-23T02:43:01.453Z"
   },
   {
    "duration": 3,
    "start_time": "2022-04-23T02:43:04.737Z"
   },
   {
    "duration": 11,
    "start_time": "2022-04-23T02:43:04.742Z"
   },
   {
    "duration": 9,
    "start_time": "2022-04-23T02:43:04.756Z"
   },
   {
    "duration": 12,
    "start_time": "2022-04-23T02:43:04.767Z"
   },
   {
    "duration": 8,
    "start_time": "2022-04-23T02:43:04.782Z"
   },
   {
    "duration": 11,
    "start_time": "2022-04-23T02:43:04.792Z"
   },
   {
    "duration": 18,
    "start_time": "2022-04-23T02:43:04.806Z"
   },
   {
    "duration": 9,
    "start_time": "2022-04-23T02:43:04.827Z"
   },
   {
    "duration": 8,
    "start_time": "2022-04-23T02:43:04.841Z"
   },
   {
    "duration": 23,
    "start_time": "2022-04-23T02:43:04.852Z"
   },
   {
    "duration": 14,
    "start_time": "2022-04-23T02:43:04.877Z"
   },
   {
    "duration": 19,
    "start_time": "2022-04-23T02:43:04.893Z"
   },
   {
    "duration": 7,
    "start_time": "2022-04-23T02:43:04.914Z"
   },
   {
    "duration": 9,
    "start_time": "2022-04-23T02:43:04.923Z"
   },
   {
    "duration": 8,
    "start_time": "2022-04-23T02:43:04.935Z"
   },
   {
    "duration": 8,
    "start_time": "2022-04-23T02:43:04.945Z"
   },
   {
    "duration": 9,
    "start_time": "2022-04-23T02:47:08.398Z"
   },
   {
    "duration": 1429,
    "start_time": "2022-04-23T02:47:19.140Z"
   },
   {
    "duration": 10,
    "start_time": "2022-04-23T02:47:24.917Z"
   },
   {
    "duration": 18,
    "start_time": "2022-04-23T02:48:19.752Z"
   },
   {
    "duration": 13,
    "start_time": "2022-04-23T02:52:03.061Z"
   },
   {
    "duration": 15,
    "start_time": "2022-04-23T02:52:06.772Z"
   },
   {
    "duration": 13,
    "start_time": "2022-04-23T02:52:26.590Z"
   },
   {
    "duration": 17,
    "start_time": "2022-04-23T03:05:18.664Z"
   },
   {
    "duration": 19,
    "start_time": "2022-04-23T03:09:43.604Z"
   },
   {
    "duration": 7,
    "start_time": "2022-04-23T03:11:32.660Z"
   },
   {
    "duration": 11,
    "start_time": "2022-04-23T03:14:54.920Z"
   },
   {
    "duration": 14,
    "start_time": "2022-04-23T03:17:21.697Z"
   },
   {
    "duration": 15,
    "start_time": "2022-04-23T03:17:32.800Z"
   },
   {
    "duration": 17,
    "start_time": "2022-04-23T03:17:45.406Z"
   },
   {
    "duration": 62,
    "start_time": "2022-04-23T03:19:32.976Z"
   },
   {
    "duration": 177,
    "start_time": "2022-04-23T03:20:26.782Z"
   },
   {
    "duration": 38,
    "start_time": "2022-04-23T03:20:54.341Z"
   },
   {
    "duration": 57,
    "start_time": "2022-04-23T03:21:02.120Z"
   },
   {
    "duration": 44,
    "start_time": "2022-04-23T03:21:38.426Z"
   },
   {
    "duration": 1715,
    "start_time": "2022-04-23T03:21:50.048Z"
   },
   {
    "duration": 364,
    "start_time": "2022-04-23T03:21:51.766Z"
   },
   {
    "duration": 197,
    "start_time": "2022-04-23T03:21:52.133Z"
   },
   {
    "duration": 55,
    "start_time": "2022-04-23T03:21:52.333Z"
   },
   {
    "duration": 180,
    "start_time": "2022-04-23T03:21:52.391Z"
   },
   {
    "duration": 92,
    "start_time": "2022-04-23T03:21:52.573Z"
   },
   {
    "duration": 21,
    "start_time": "2022-04-23T03:21:52.667Z"
   },
   {
    "duration": 51,
    "start_time": "2022-04-23T03:21:52.690Z"
   },
   {
    "duration": 6,
    "start_time": "2022-04-23T03:21:52.743Z"
   },
   {
    "duration": 5,
    "start_time": "2022-04-23T03:21:52.753Z"
   },
   {
    "duration": 6,
    "start_time": "2022-04-23T03:21:52.760Z"
   },
   {
    "duration": 11,
    "start_time": "2022-04-23T03:21:52.768Z"
   },
   {
    "duration": 8,
    "start_time": "2022-04-23T03:21:52.781Z"
   },
   {
    "duration": 8,
    "start_time": "2022-04-23T03:21:52.791Z"
   },
   {
    "duration": 3,
    "start_time": "2022-04-23T03:21:52.825Z"
   },
   {
    "duration": 6,
    "start_time": "2022-04-23T03:21:52.831Z"
   },
   {
    "duration": 6,
    "start_time": "2022-04-23T03:21:52.839Z"
   },
   {
    "duration": 3095,
    "start_time": "2022-04-23T03:21:52.847Z"
   },
   {
    "duration": 14,
    "start_time": "2022-04-23T03:21:55.944Z"
   },
   {
    "duration": 20,
    "start_time": "2022-04-23T03:21:55.960Z"
   },
   {
    "duration": 19,
    "start_time": "2022-04-23T03:21:55.982Z"
   },
   {
    "duration": 3,
    "start_time": "2022-04-23T03:21:56.086Z"
   },
   {
    "duration": 7,
    "start_time": "2022-04-23T03:21:56.091Z"
   },
   {
    "duration": 25,
    "start_time": "2022-04-23T03:21:56.100Z"
   },
   {
    "duration": 6,
    "start_time": "2022-04-23T03:21:56.127Z"
   },
   {
    "duration": 8,
    "start_time": "2022-04-23T03:21:56.135Z"
   },
   {
    "duration": 7,
    "start_time": "2022-04-23T03:21:56.148Z"
   },
   {
    "duration": 6,
    "start_time": "2022-04-23T03:21:56.157Z"
   },
   {
    "duration": 6,
    "start_time": "2022-04-23T03:21:56.165Z"
   },
   {
    "duration": 6,
    "start_time": "2022-04-23T03:21:56.173Z"
   },
   {
    "duration": 5,
    "start_time": "2022-04-23T03:21:56.181Z"
   },
   {
    "duration": 6,
    "start_time": "2022-04-23T03:21:56.188Z"
   },
   {
    "duration": 8,
    "start_time": "2022-04-23T03:21:56.225Z"
   },
   {
    "duration": 7,
    "start_time": "2022-04-23T03:21:56.234Z"
   },
   {
    "duration": 5,
    "start_time": "2022-04-23T03:21:56.243Z"
   },
   {
    "duration": 37,
    "start_time": "2022-04-23T03:21:56.250Z"
   },
   {
    "duration": 80,
    "start_time": "2022-04-23T03:22:28.304Z"
   },
   {
    "duration": 87,
    "start_time": "2022-04-23T03:22:41.996Z"
   },
   {
    "duration": 1598,
    "start_time": "2022-04-23T03:24:54.652Z"
   },
   {
    "duration": 1438,
    "start_time": "2022-04-23T03:25:19.690Z"
   },
   {
    "duration": 1355,
    "start_time": "2022-04-23T03:25:29.968Z"
   },
   {
    "duration": 2003,
    "start_time": "2022-04-23T03:25:54.228Z"
   },
   {
    "duration": 500,
    "start_time": "2022-04-23T03:25:56.234Z"
   },
   {
    "duration": 254,
    "start_time": "2022-04-23T03:25:56.736Z"
   },
   {
    "duration": 85,
    "start_time": "2022-04-23T03:25:56.993Z"
   },
   {
    "duration": 236,
    "start_time": "2022-04-23T03:25:57.081Z"
   },
   {
    "duration": 120,
    "start_time": "2022-04-23T03:25:57.325Z"
   },
   {
    "duration": 29,
    "start_time": "2022-04-23T03:25:57.448Z"
   },
   {
    "duration": 63,
    "start_time": "2022-04-23T03:25:57.480Z"
   },
   {
    "duration": 4,
    "start_time": "2022-04-23T03:25:57.545Z"
   },
   {
    "duration": 7,
    "start_time": "2022-04-23T03:25:57.552Z"
   },
   {
    "duration": 5,
    "start_time": "2022-04-23T03:25:57.562Z"
   },
   {
    "duration": 7,
    "start_time": "2022-04-23T03:25:57.569Z"
   },
   {
    "duration": 12,
    "start_time": "2022-04-23T03:25:57.577Z"
   },
   {
    "duration": 33,
    "start_time": "2022-04-23T03:25:57.592Z"
   },
   {
    "duration": 13,
    "start_time": "2022-04-23T03:25:57.627Z"
   },
   {
    "duration": 7,
    "start_time": "2022-04-23T03:25:57.643Z"
   },
   {
    "duration": 6,
    "start_time": "2022-04-23T03:25:57.652Z"
   },
   {
    "duration": 3084,
    "start_time": "2022-04-23T03:25:57.660Z"
   },
   {
    "duration": 14,
    "start_time": "2022-04-23T03:26:00.747Z"
   },
   {
    "duration": 23,
    "start_time": "2022-04-23T03:26:00.763Z"
   },
   {
    "duration": 39,
    "start_time": "2022-04-23T03:26:00.788Z"
   },
   {
    "duration": 124,
    "start_time": "2022-04-23T03:26:00.829Z"
   },
   {
    "duration": 3,
    "start_time": "2022-04-23T03:26:00.956Z"
   },
   {
    "duration": 14,
    "start_time": "2022-04-23T03:26:00.961Z"
   },
   {
    "duration": 21,
    "start_time": "2022-04-23T03:26:00.977Z"
   },
   {
    "duration": 8,
    "start_time": "2022-04-23T03:26:01.000Z"
   },
   {
    "duration": 16,
    "start_time": "2022-04-23T03:26:01.011Z"
   },
   {
    "duration": 7,
    "start_time": "2022-04-23T03:26:01.033Z"
   },
   {
    "duration": 22,
    "start_time": "2022-04-23T03:26:01.042Z"
   },
   {
    "duration": 15,
    "start_time": "2022-04-23T03:26:01.066Z"
   },
   {
    "duration": 6,
    "start_time": "2022-04-23T03:26:01.084Z"
   },
   {
    "duration": 33,
    "start_time": "2022-04-23T03:26:01.092Z"
   },
   {
    "duration": 19,
    "start_time": "2022-04-23T03:26:01.127Z"
   },
   {
    "duration": 11,
    "start_time": "2022-04-23T03:26:01.148Z"
   },
   {
    "duration": 5,
    "start_time": "2022-04-23T03:26:01.162Z"
   },
   {
    "duration": 5,
    "start_time": "2022-04-23T03:26:01.170Z"
   },
   {
    "duration": 8,
    "start_time": "2022-04-23T03:26:52.448Z"
   },
   {
    "duration": 8,
    "start_time": "2022-04-23T03:27:01.262Z"
   },
   {
    "duration": 6,
    "start_time": "2022-04-23T03:27:04.722Z"
   },
   {
    "duration": 6,
    "start_time": "2022-04-23T03:27:28.925Z"
   },
   {
    "duration": 20,
    "start_time": "2022-04-23T03:27:45.363Z"
   },
   {
    "duration": 1515,
    "start_time": "2022-04-23T03:27:59.072Z"
   },
   {
    "duration": 371,
    "start_time": "2022-04-23T03:28:00.589Z"
   },
   {
    "duration": 195,
    "start_time": "2022-04-23T03:28:00.962Z"
   },
   {
    "duration": 74,
    "start_time": "2022-04-23T03:28:01.162Z"
   },
   {
    "duration": 186,
    "start_time": "2022-04-23T03:28:01.239Z"
   },
   {
    "duration": 97,
    "start_time": "2022-04-23T03:28:01.427Z"
   },
   {
    "duration": 21,
    "start_time": "2022-04-23T03:28:01.527Z"
   },
   {
    "duration": 39,
    "start_time": "2022-04-23T03:28:01.550Z"
   },
   {
    "duration": 44,
    "start_time": "2022-04-23T03:28:01.592Z"
   },
   {
    "duration": 3,
    "start_time": "2022-04-23T03:28:01.640Z"
   },
   {
    "duration": 10,
    "start_time": "2022-04-23T03:28:01.645Z"
   },
   {
    "duration": 17,
    "start_time": "2022-04-23T03:28:01.657Z"
   },
   {
    "duration": 22,
    "start_time": "2022-04-23T03:28:01.676Z"
   },
   {
    "duration": 7,
    "start_time": "2022-04-23T03:28:01.700Z"
   },
   {
    "duration": 17,
    "start_time": "2022-04-23T03:28:01.709Z"
   },
   {
    "duration": 11,
    "start_time": "2022-04-23T03:28:01.728Z"
   },
   {
    "duration": 7,
    "start_time": "2022-04-23T03:28:01.741Z"
   },
   {
    "duration": 9,
    "start_time": "2022-04-23T03:28:01.750Z"
   },
   {
    "duration": 3042,
    "start_time": "2022-04-23T03:28:01.761Z"
   },
   {
    "duration": 21,
    "start_time": "2022-04-23T03:28:04.805Z"
   },
   {
    "duration": 22,
    "start_time": "2022-04-23T03:28:04.828Z"
   },
   {
    "duration": 15,
    "start_time": "2022-04-23T03:28:04.852Z"
   },
   {
    "duration": 140,
    "start_time": "2022-04-23T03:28:04.870Z"
   },
   {
    "duration": 4,
    "start_time": "2022-04-23T03:28:05.012Z"
   },
   {
    "duration": 6,
    "start_time": "2022-04-23T03:28:05.024Z"
   },
   {
    "duration": 8,
    "start_time": "2022-04-23T03:28:05.032Z"
   },
   {
    "duration": 8,
    "start_time": "2022-04-23T03:28:05.042Z"
   },
   {
    "duration": 8,
    "start_time": "2022-04-23T03:28:05.054Z"
   },
   {
    "duration": 7,
    "start_time": "2022-04-23T03:28:05.065Z"
   },
   {
    "duration": 12,
    "start_time": "2022-04-23T03:28:05.074Z"
   },
   {
    "duration": 9,
    "start_time": "2022-04-23T03:28:05.088Z"
   },
   {
    "duration": 3,
    "start_time": "2022-04-23T03:28:05.124Z"
   },
   {
    "duration": 11,
    "start_time": "2022-04-23T03:28:05.129Z"
   },
   {
    "duration": 8,
    "start_time": "2022-04-23T03:28:05.143Z"
   },
   {
    "duration": 6,
    "start_time": "2022-04-23T03:28:05.153Z"
   },
   {
    "duration": 7,
    "start_time": "2022-04-23T03:28:05.161Z"
   },
   {
    "duration": 7,
    "start_time": "2022-04-23T03:28:05.171Z"
   },
   {
    "duration": 6,
    "start_time": "2022-04-23T03:31:55.297Z"
   },
   {
    "duration": 18,
    "start_time": "2022-04-23T03:32:04.776Z"
   },
   {
    "duration": 86,
    "start_time": "2022-04-23T03:32:53.588Z"
   },
   {
    "duration": 86,
    "start_time": "2022-04-23T03:33:51.486Z"
   },
   {
    "duration": 84,
    "start_time": "2022-04-23T03:34:06.530Z"
   },
   {
    "duration": 224,
    "start_time": "2022-04-23T03:35:30.867Z"
   },
   {
    "duration": 91,
    "start_time": "2022-04-23T03:35:40.324Z"
   },
   {
    "duration": 85,
    "start_time": "2022-04-23T03:35:46.113Z"
   },
   {
    "duration": 93,
    "start_time": "2022-04-23T03:35:54.889Z"
   },
   {
    "duration": 18,
    "start_time": "2022-04-23T03:45:19.568Z"
   },
   {
    "duration": 28,
    "start_time": "2022-04-23T04:04:30.698Z"
   },
   {
    "duration": 35,
    "start_time": "2022-04-23T04:07:23.953Z"
   },
   {
    "duration": 50,
    "start_time": "2022-04-23T04:07:38.993Z"
   },
   {
    "duration": 1237,
    "start_time": "2022-04-23T13:28:33.544Z"
   },
   {
    "duration": 264,
    "start_time": "2022-04-23T13:28:34.783Z"
   },
   {
    "duration": 127,
    "start_time": "2022-04-23T13:28:35.048Z"
   },
   {
    "duration": 42,
    "start_time": "2022-04-23T13:28:35.177Z"
   },
   {
    "duration": 112,
    "start_time": "2022-04-23T13:28:35.220Z"
   },
   {
    "duration": 47,
    "start_time": "2022-04-23T13:28:35.333Z"
   },
   {
    "duration": 26,
    "start_time": "2022-04-23T13:28:35.381Z"
   },
   {
    "duration": 17,
    "start_time": "2022-04-23T13:28:35.409Z"
   },
   {
    "duration": 12,
    "start_time": "2022-04-23T13:28:35.427Z"
   },
   {
    "duration": 3,
    "start_time": "2022-04-23T13:28:35.442Z"
   },
   {
    "duration": 4,
    "start_time": "2022-04-23T13:28:35.446Z"
   },
   {
    "duration": 4,
    "start_time": "2022-04-23T13:28:35.452Z"
   },
   {
    "duration": 4,
    "start_time": "2022-04-23T13:28:35.457Z"
   },
   {
    "duration": 4,
    "start_time": "2022-04-23T13:28:35.462Z"
   },
   {
    "duration": 4,
    "start_time": "2022-04-23T13:28:35.467Z"
   },
   {
    "duration": 35,
    "start_time": "2022-04-23T13:28:35.472Z"
   },
   {
    "duration": 3,
    "start_time": "2022-04-23T13:28:35.509Z"
   },
   {
    "duration": 3,
    "start_time": "2022-04-23T13:28:35.514Z"
   },
   {
    "duration": 2115,
    "start_time": "2022-04-23T13:28:35.519Z"
   },
   {
    "duration": 31,
    "start_time": "2022-04-23T13:28:37.636Z"
   },
   {
    "duration": 9,
    "start_time": "2022-04-23T13:28:37.668Z"
   },
   {
    "duration": 8,
    "start_time": "2022-04-23T13:28:37.679Z"
   },
   {
    "duration": 75,
    "start_time": "2022-04-23T13:28:37.707Z"
   },
   {
    "duration": 27,
    "start_time": "2022-04-23T13:28:37.784Z"
   },
   {
    "duration": 101,
    "start_time": "2022-04-23T13:28:37.813Z"
   },
   {
    "duration": 0,
    "start_time": "2022-04-23T13:28:37.916Z"
   },
   {
    "duration": 0,
    "start_time": "2022-04-23T13:28:37.917Z"
   },
   {
    "duration": 0,
    "start_time": "2022-04-23T13:28:37.918Z"
   },
   {
    "duration": 0,
    "start_time": "2022-04-23T13:28:37.919Z"
   },
   {
    "duration": 0,
    "start_time": "2022-04-23T13:28:37.920Z"
   },
   {
    "duration": 0,
    "start_time": "2022-04-23T13:28:37.921Z"
   },
   {
    "duration": 0,
    "start_time": "2022-04-23T13:28:37.922Z"
   },
   {
    "duration": 0,
    "start_time": "2022-04-23T13:28:37.923Z"
   },
   {
    "duration": 0,
    "start_time": "2022-04-23T13:28:37.924Z"
   },
   {
    "duration": 0,
    "start_time": "2022-04-23T13:28:37.925Z"
   },
   {
    "duration": 0,
    "start_time": "2022-04-23T13:28:37.926Z"
   },
   {
    "duration": 0,
    "start_time": "2022-04-23T13:28:37.927Z"
   },
   {
    "duration": 0,
    "start_time": "2022-04-23T13:28:37.929Z"
   },
   {
    "duration": 11,
    "start_time": "2022-04-23T13:30:57.638Z"
   },
   {
    "duration": 4,
    "start_time": "2022-04-23T13:31:49.204Z"
   },
   {
    "duration": 17,
    "start_time": "2022-04-23T13:31:58.532Z"
   },
   {
    "duration": 14,
    "start_time": "2022-04-23T13:32:44.518Z"
   },
   {
    "duration": 71,
    "start_time": "2022-04-23T13:34:33.959Z"
   },
   {
    "duration": 32,
    "start_time": "2022-04-23T13:34:38.375Z"
   },
   {
    "duration": 65,
    "start_time": "2022-04-23T13:35:29.559Z"
   },
   {
    "duration": 9,
    "start_time": "2022-04-23T13:35:32.933Z"
   },
   {
    "duration": 33,
    "start_time": "2022-04-23T13:35:37.163Z"
   },
   {
    "duration": 72,
    "start_time": "2022-04-23T13:37:00.815Z"
   },
   {
    "duration": 39,
    "start_time": "2022-04-23T13:38:52.905Z"
   },
   {
    "duration": 68,
    "start_time": "2022-04-23T13:39:50.145Z"
   },
   {
    "duration": 16,
    "start_time": "2022-04-23T13:39:57.557Z"
   },
   {
    "duration": 34,
    "start_time": "2022-04-23T13:46:44.012Z"
   },
   {
    "duration": 1107,
    "start_time": "2022-04-23T17:12:43.935Z"
   },
   {
    "duration": 267,
    "start_time": "2022-04-23T17:12:45.044Z"
   },
   {
    "duration": 124,
    "start_time": "2022-04-23T17:12:45.313Z"
   },
   {
    "duration": 38,
    "start_time": "2022-04-23T17:12:45.439Z"
   },
   {
    "duration": 140,
    "start_time": "2022-04-23T17:12:45.478Z"
   },
   {
    "duration": 57,
    "start_time": "2022-04-23T17:12:45.620Z"
   },
   {
    "duration": 33,
    "start_time": "2022-04-23T17:12:45.679Z"
   },
   {
    "duration": 27,
    "start_time": "2022-04-23T17:12:45.714Z"
   },
   {
    "duration": 17,
    "start_time": "2022-04-23T17:12:45.743Z"
   },
   {
    "duration": 3,
    "start_time": "2022-04-23T17:12:45.764Z"
   },
   {
    "duration": 40,
    "start_time": "2022-04-23T17:12:45.768Z"
   },
   {
    "duration": 4,
    "start_time": "2022-04-23T17:12:45.810Z"
   },
   {
    "duration": 4,
    "start_time": "2022-04-23T17:12:45.815Z"
   },
   {
    "duration": 3,
    "start_time": "2022-04-23T17:12:45.822Z"
   },
   {
    "duration": 4,
    "start_time": "2022-04-23T17:12:45.827Z"
   },
   {
    "duration": 7,
    "start_time": "2022-04-23T17:12:45.833Z"
   },
   {
    "duration": 4,
    "start_time": "2022-04-23T17:12:45.842Z"
   },
   {
    "duration": 8,
    "start_time": "2022-04-23T17:12:45.848Z"
   },
   {
    "duration": 2206,
    "start_time": "2022-04-23T17:12:45.858Z"
   },
   {
    "duration": 43,
    "start_time": "2022-04-23T17:12:48.065Z"
   },
   {
    "duration": 12,
    "start_time": "2022-04-23T17:12:48.109Z"
   },
   {
    "duration": 13,
    "start_time": "2022-04-23T17:12:48.123Z"
   },
   {
    "duration": 102,
    "start_time": "2022-04-23T17:12:48.138Z"
   },
   {
    "duration": 24,
    "start_time": "2022-04-23T17:12:48.242Z"
   },
   {
    "duration": 59,
    "start_time": "2022-04-23T17:12:48.269Z"
   },
   {
    "duration": 2,
    "start_time": "2022-04-23T17:12:48.330Z"
   },
   {
    "duration": 5,
    "start_time": "2022-04-23T17:12:48.334Z"
   },
   {
    "duration": 3,
    "start_time": "2022-04-23T17:12:48.343Z"
   },
   {
    "duration": 4,
    "start_time": "2022-04-23T17:12:48.347Z"
   },
   {
    "duration": 5,
    "start_time": "2022-04-23T17:12:48.353Z"
   },
   {
    "duration": 5,
    "start_time": "2022-04-23T17:12:48.359Z"
   },
   {
    "duration": 4,
    "start_time": "2022-04-23T17:12:48.365Z"
   },
   {
    "duration": 36,
    "start_time": "2022-04-23T17:12:48.371Z"
   },
   {
    "duration": 3,
    "start_time": "2022-04-23T17:12:48.409Z"
   },
   {
    "duration": 5,
    "start_time": "2022-04-23T17:12:48.413Z"
   },
   {
    "duration": 5,
    "start_time": "2022-04-23T17:12:48.419Z"
   },
   {
    "duration": 5,
    "start_time": "2022-04-23T17:12:48.425Z"
   },
   {
    "duration": 4,
    "start_time": "2022-04-23T17:12:48.432Z"
   },
   {
    "duration": 11,
    "start_time": "2022-04-23T17:28:56.789Z"
   },
   {
    "duration": 101,
    "start_time": "2022-04-23T17:30:21.354Z"
   },
   {
    "duration": 11,
    "start_time": "2022-04-23T17:30:32.918Z"
   },
   {
    "duration": 1825,
    "start_time": "2022-04-23T17:30:58.134Z"
   },
   {
    "duration": 3135,
    "start_time": "2022-04-23T17:52:39.700Z"
   },
   {
    "duration": 3101,
    "start_time": "2022-04-23T17:53:05.212Z"
   },
   {
    "duration": 2066,
    "start_time": "2022-04-23T17:53:11.806Z"
   },
   {
    "duration": 2041,
    "start_time": "2022-04-23T17:53:36.852Z"
   },
   {
    "duration": 2034,
    "start_time": "2022-04-23T17:53:57.065Z"
   },
   {
    "duration": 2062,
    "start_time": "2022-04-23T17:54:09.957Z"
   },
   {
    "duration": 3879,
    "start_time": "2022-04-23T17:58:30.662Z"
   },
   {
    "duration": 2055,
    "start_time": "2022-04-23T17:58:48.334Z"
   },
   {
    "duration": 63,
    "start_time": "2022-04-23T18:00:41.234Z"
   },
   {
    "duration": 3245,
    "start_time": "2022-04-23T18:00:47.670Z"
   },
   {
    "duration": 2115,
    "start_time": "2022-04-23T18:01:08.790Z"
   },
   {
    "duration": 2060,
    "start_time": "2022-04-23T18:01:27.153Z"
   },
   {
    "duration": 2031,
    "start_time": "2022-04-23T18:03:51.450Z"
   },
   {
    "duration": 2075,
    "start_time": "2022-04-23T18:04:04.583Z"
   },
   {
    "duration": 2095,
    "start_time": "2022-04-23T18:06:10.114Z"
   },
   {
    "duration": 4575,
    "start_time": "2022-04-23T18:06:19.516Z"
   },
   {
    "duration": 4464,
    "start_time": "2022-04-23T18:06:32.120Z"
   },
   {
    "duration": 4587,
    "start_time": "2022-04-23T18:07:18.165Z"
   },
   {
    "duration": 1239,
    "start_time": "2022-04-23T18:08:15.137Z"
   },
   {
    "duration": 292,
    "start_time": "2022-04-23T18:08:16.379Z"
   },
   {
    "duration": 131,
    "start_time": "2022-04-23T18:08:16.673Z"
   },
   {
    "duration": 40,
    "start_time": "2022-04-23T18:08:16.806Z"
   },
   {
    "duration": 136,
    "start_time": "2022-04-23T18:08:16.847Z"
   },
   {
    "duration": 68,
    "start_time": "2022-04-23T18:08:16.985Z"
   },
   {
    "duration": 14,
    "start_time": "2022-04-23T18:08:17.055Z"
   },
   {
    "duration": 46,
    "start_time": "2022-04-23T18:08:17.071Z"
   },
   {
    "duration": 13,
    "start_time": "2022-04-23T18:08:17.119Z"
   },
   {
    "duration": 3,
    "start_time": "2022-04-23T18:08:17.135Z"
   },
   {
    "duration": 5,
    "start_time": "2022-04-23T18:08:17.140Z"
   },
   {
    "duration": 4,
    "start_time": "2022-04-23T18:08:17.147Z"
   },
   {
    "duration": 5,
    "start_time": "2022-04-23T18:08:17.153Z"
   },
   {
    "duration": 4,
    "start_time": "2022-04-23T18:08:17.160Z"
   },
   {
    "duration": 5,
    "start_time": "2022-04-23T18:08:17.166Z"
   },
   {
    "duration": 36,
    "start_time": "2022-04-23T18:08:17.173Z"
   },
   {
    "duration": 5,
    "start_time": "2022-04-23T18:08:17.211Z"
   },
   {
    "duration": 7,
    "start_time": "2022-04-23T18:08:17.218Z"
   },
   {
    "duration": 2282,
    "start_time": "2022-04-23T18:08:17.227Z"
   },
   {
    "duration": 33,
    "start_time": "2022-04-23T18:08:19.511Z"
   },
   {
    "duration": 11,
    "start_time": "2022-04-23T18:08:19.546Z"
   },
   {
    "duration": 10,
    "start_time": "2022-04-23T18:08:19.559Z"
   },
   {
    "duration": 137,
    "start_time": "2022-04-23T18:08:19.572Z"
   },
   {
    "duration": 19,
    "start_time": "2022-04-23T18:08:19.711Z"
   },
   {
    "duration": 41,
    "start_time": "2022-04-23T18:08:19.731Z"
   },
   {
    "duration": 2016,
    "start_time": "2022-04-23T18:08:19.774Z"
   },
   {
    "duration": 3274,
    "start_time": "2022-04-23T18:08:21.791Z"
   },
   {
    "duration": 3,
    "start_time": "2022-04-23T18:08:25.068Z"
   },
   {
    "duration": 5,
    "start_time": "2022-04-23T18:08:25.073Z"
   },
   {
    "duration": 3,
    "start_time": "2022-04-23T18:08:25.080Z"
   },
   {
    "duration": 23,
    "start_time": "2022-04-23T18:08:25.085Z"
   },
   {
    "duration": 2,
    "start_time": "2022-04-23T18:08:25.110Z"
   },
   {
    "duration": 6,
    "start_time": "2022-04-23T18:08:25.114Z"
   },
   {
    "duration": 4,
    "start_time": "2022-04-23T18:08:25.122Z"
   },
   {
    "duration": 4,
    "start_time": "2022-04-23T18:08:25.128Z"
   },
   {
    "duration": 3,
    "start_time": "2022-04-23T18:08:25.134Z"
   },
   {
    "duration": 4,
    "start_time": "2022-04-23T18:08:25.139Z"
   },
   {
    "duration": 5,
    "start_time": "2022-04-23T18:08:25.144Z"
   },
   {
    "duration": 4,
    "start_time": "2022-04-23T18:08:25.151Z"
   },
   {
    "duration": 1262,
    "start_time": "2022-04-23T18:14:09.439Z"
   },
   {
    "duration": 294,
    "start_time": "2022-04-23T18:14:10.703Z"
   },
   {
    "duration": 139,
    "start_time": "2022-04-23T18:14:10.999Z"
   },
   {
    "duration": 42,
    "start_time": "2022-04-23T18:14:11.141Z"
   },
   {
    "duration": 143,
    "start_time": "2022-04-23T18:14:11.185Z"
   },
   {
    "duration": 58,
    "start_time": "2022-04-23T18:14:11.330Z"
   },
   {
    "duration": 31,
    "start_time": "2022-04-23T18:14:11.390Z"
   },
   {
    "duration": 30,
    "start_time": "2022-04-23T18:14:11.424Z"
   },
   {
    "duration": 55,
    "start_time": "2022-04-23T18:14:11.457Z"
   },
   {
    "duration": 3,
    "start_time": "2022-04-23T18:14:11.516Z"
   },
   {
    "duration": 3,
    "start_time": "2022-04-23T18:14:11.522Z"
   },
   {
    "duration": 4,
    "start_time": "2022-04-23T18:14:11.528Z"
   },
   {
    "duration": 4,
    "start_time": "2022-04-23T18:14:11.534Z"
   },
   {
    "duration": 4,
    "start_time": "2022-04-23T18:14:11.541Z"
   },
   {
    "duration": 4,
    "start_time": "2022-04-23T18:14:11.547Z"
   },
   {
    "duration": 55,
    "start_time": "2022-04-23T18:14:11.553Z"
   },
   {
    "duration": 3,
    "start_time": "2022-04-23T18:14:11.610Z"
   },
   {
    "duration": 8,
    "start_time": "2022-04-23T18:14:11.615Z"
   },
   {
    "duration": 2276,
    "start_time": "2022-04-23T18:14:11.625Z"
   },
   {
    "duration": 39,
    "start_time": "2022-04-23T18:14:13.903Z"
   },
   {
    "duration": 14,
    "start_time": "2022-04-23T18:14:13.944Z"
   },
   {
    "duration": 12,
    "start_time": "2022-04-23T18:14:13.961Z"
   },
   {
    "duration": 103,
    "start_time": "2022-04-23T18:14:14.007Z"
   },
   {
    "duration": 27,
    "start_time": "2022-04-23T18:14:14.112Z"
   },
   {
    "duration": 89,
    "start_time": "2022-04-23T18:14:14.142Z"
   },
   {
    "duration": 2176,
    "start_time": "2022-04-23T18:14:14.234Z"
   },
   {
    "duration": 892,
    "start_time": "2022-04-23T18:14:16.413Z"
   },
   {
    "duration": 0,
    "start_time": "2022-04-23T18:14:17.307Z"
   },
   {
    "duration": 0,
    "start_time": "2022-04-23T18:14:17.309Z"
   },
   {
    "duration": 1,
    "start_time": "2022-04-23T18:14:17.310Z"
   },
   {
    "duration": 0,
    "start_time": "2022-04-23T18:14:17.312Z"
   },
   {
    "duration": 0,
    "start_time": "2022-04-23T18:14:17.313Z"
   },
   {
    "duration": 0,
    "start_time": "2022-04-23T18:14:17.315Z"
   },
   {
    "duration": 0,
    "start_time": "2022-04-23T18:14:17.317Z"
   },
   {
    "duration": 0,
    "start_time": "2022-04-23T18:14:17.318Z"
   },
   {
    "duration": 0,
    "start_time": "2022-04-23T18:14:17.319Z"
   },
   {
    "duration": 0,
    "start_time": "2022-04-23T18:14:17.321Z"
   },
   {
    "duration": 0,
    "start_time": "2022-04-23T18:14:17.322Z"
   },
   {
    "duration": 0,
    "start_time": "2022-04-23T18:14:17.324Z"
   },
   {
    "duration": 1126,
    "start_time": "2022-04-23T18:16:24.013Z"
   },
   {
    "duration": 261,
    "start_time": "2022-04-23T18:16:25.141Z"
   },
   {
    "duration": 121,
    "start_time": "2022-04-23T18:16:25.403Z"
   },
   {
    "duration": 37,
    "start_time": "2022-04-23T18:16:25.526Z"
   },
   {
    "duration": 129,
    "start_time": "2022-04-23T18:16:25.565Z"
   },
   {
    "duration": 61,
    "start_time": "2022-04-23T18:16:25.695Z"
   },
   {
    "duration": 14,
    "start_time": "2022-04-23T18:16:25.757Z"
   },
   {
    "duration": 40,
    "start_time": "2022-04-23T18:16:25.772Z"
   },
   {
    "duration": 13,
    "start_time": "2022-04-23T18:16:25.815Z"
   },
   {
    "duration": 5,
    "start_time": "2022-04-23T18:16:25.831Z"
   },
   {
    "duration": 4,
    "start_time": "2022-04-23T18:16:25.838Z"
   },
   {
    "duration": 5,
    "start_time": "2022-04-23T18:16:25.844Z"
   },
   {
    "duration": 4,
    "start_time": "2022-04-23T18:16:25.850Z"
   },
   {
    "duration": 8,
    "start_time": "2022-04-23T18:16:25.856Z"
   },
   {
    "duration": 7,
    "start_time": "2022-04-23T18:16:25.865Z"
   },
   {
    "duration": 3,
    "start_time": "2022-04-23T18:16:25.874Z"
   },
   {
    "duration": 4,
    "start_time": "2022-04-23T18:16:25.879Z"
   },
   {
    "duration": 2,
    "start_time": "2022-04-23T18:16:25.908Z"
   },
   {
    "duration": 2134,
    "start_time": "2022-04-23T18:16:25.912Z"
   },
   {
    "duration": 32,
    "start_time": "2022-04-23T18:16:28.048Z"
   },
   {
    "duration": 27,
    "start_time": "2022-04-23T18:16:28.082Z"
   },
   {
    "duration": 10,
    "start_time": "2022-04-23T18:16:28.110Z"
   },
   {
    "duration": 106,
    "start_time": "2022-04-23T18:16:28.123Z"
   },
   {
    "duration": 16,
    "start_time": "2022-04-23T18:16:28.230Z"
   },
   {
    "duration": 38,
    "start_time": "2022-04-23T18:16:28.247Z"
   },
   {
    "duration": 1972,
    "start_time": "2022-04-23T18:16:28.308Z"
   },
   {
    "duration": 63,
    "start_time": "2022-04-23T18:16:30.282Z"
   },
   {
    "duration": 0,
    "start_time": "2022-04-23T18:16:30.347Z"
   },
   {
    "duration": 0,
    "start_time": "2022-04-23T18:16:30.349Z"
   },
   {
    "duration": 0,
    "start_time": "2022-04-23T18:16:30.350Z"
   },
   {
    "duration": 0,
    "start_time": "2022-04-23T18:16:30.351Z"
   },
   {
    "duration": 0,
    "start_time": "2022-04-23T18:16:30.352Z"
   },
   {
    "duration": 0,
    "start_time": "2022-04-23T18:16:30.353Z"
   },
   {
    "duration": 0,
    "start_time": "2022-04-23T18:16:30.355Z"
   },
   {
    "duration": 1,
    "start_time": "2022-04-23T18:16:30.356Z"
   },
   {
    "duration": 0,
    "start_time": "2022-04-23T18:16:30.358Z"
   },
   {
    "duration": 0,
    "start_time": "2022-04-23T18:16:30.359Z"
   },
   {
    "duration": 0,
    "start_time": "2022-04-23T18:16:30.360Z"
   },
   {
    "duration": 0,
    "start_time": "2022-04-23T18:16:30.361Z"
   },
   {
    "duration": 3966,
    "start_time": "2022-04-23T18:16:38.137Z"
   },
   {
    "duration": 3,
    "start_time": "2022-04-23T18:16:42.105Z"
   },
   {
    "duration": 1184,
    "start_time": "2022-04-23T18:18:08.151Z"
   },
   {
    "duration": 277,
    "start_time": "2022-04-23T18:18:09.337Z"
   },
   {
    "duration": 150,
    "start_time": "2022-04-23T18:18:09.615Z"
   },
   {
    "duration": 49,
    "start_time": "2022-04-23T18:18:09.767Z"
   },
   {
    "duration": 132,
    "start_time": "2022-04-23T18:18:09.818Z"
   },
   {
    "duration": 69,
    "start_time": "2022-04-23T18:18:09.952Z"
   },
   {
    "duration": 20,
    "start_time": "2022-04-23T18:18:10.023Z"
   },
   {
    "duration": 30,
    "start_time": "2022-04-23T18:18:10.045Z"
   },
   {
    "duration": 44,
    "start_time": "2022-04-23T18:18:10.077Z"
   },
   {
    "duration": 4,
    "start_time": "2022-04-23T18:18:10.125Z"
   },
   {
    "duration": 4,
    "start_time": "2022-04-23T18:18:10.131Z"
   },
   {
    "duration": 3,
    "start_time": "2022-04-23T18:18:10.137Z"
   },
   {
    "duration": 4,
    "start_time": "2022-04-23T18:18:10.142Z"
   },
   {
    "duration": 5,
    "start_time": "2022-04-23T18:18:10.148Z"
   },
   {
    "duration": 4,
    "start_time": "2022-04-23T18:18:10.154Z"
   },
   {
    "duration": 4,
    "start_time": "2022-04-23T18:18:10.160Z"
   },
   {
    "duration": 43,
    "start_time": "2022-04-23T18:18:10.165Z"
   },
   {
    "duration": 8,
    "start_time": "2022-04-23T18:18:10.210Z"
   },
   {
    "duration": 2242,
    "start_time": "2022-04-23T18:18:10.220Z"
   },
   {
    "duration": 35,
    "start_time": "2022-04-23T18:18:12.463Z"
   },
   {
    "duration": 12,
    "start_time": "2022-04-23T18:18:12.508Z"
   },
   {
    "duration": 11,
    "start_time": "2022-04-23T18:18:12.522Z"
   },
   {
    "duration": 108,
    "start_time": "2022-04-23T18:18:12.534Z"
   },
   {
    "duration": 18,
    "start_time": "2022-04-23T18:18:12.644Z"
   },
   {
    "duration": 63,
    "start_time": "2022-04-23T18:18:12.663Z"
   },
   {
    "duration": 2062,
    "start_time": "2022-04-23T18:18:12.728Z"
   },
   {
    "duration": 2,
    "start_time": "2022-04-23T18:19:25.414Z"
   },
   {
    "duration": 12,
    "start_time": "2022-04-23T18:19:25.418Z"
   },
   {
    "duration": 7,
    "start_time": "2022-04-23T18:19:25.432Z"
   },
   {
    "duration": 3,
    "start_time": "2022-04-23T18:19:25.441Z"
   },
   {
    "duration": 7,
    "start_time": "2022-04-23T18:19:25.446Z"
   },
   {
    "duration": 6,
    "start_time": "2022-04-23T18:19:25.455Z"
   },
   {
    "duration": 5,
    "start_time": "2022-04-23T18:19:25.462Z"
   },
   {
    "duration": 7,
    "start_time": "2022-04-23T18:19:25.470Z"
   },
   {
    "duration": 4,
    "start_time": "2022-04-23T18:19:25.507Z"
   },
   {
    "duration": 8,
    "start_time": "2022-04-23T18:19:25.514Z"
   },
   {
    "duration": 7,
    "start_time": "2022-04-23T18:19:25.524Z"
   },
   {
    "duration": 4,
    "start_time": "2022-04-23T18:19:25.533Z"
   },
   {
    "duration": 1175,
    "start_time": "2022-04-23T18:19:42.276Z"
   },
   {
    "duration": 281,
    "start_time": "2022-04-23T18:19:43.453Z"
   },
   {
    "duration": 130,
    "start_time": "2022-04-23T18:19:43.736Z"
   },
   {
    "duration": 46,
    "start_time": "2022-04-23T18:19:43.868Z"
   },
   {
    "duration": 144,
    "start_time": "2022-04-23T18:19:43.917Z"
   },
   {
    "duration": 77,
    "start_time": "2022-04-23T18:19:44.064Z"
   },
   {
    "duration": 14,
    "start_time": "2022-04-23T18:19:44.143Z"
   },
   {
    "duration": 18,
    "start_time": "2022-04-23T18:19:44.159Z"
   },
   {
    "duration": 40,
    "start_time": "2022-04-23T18:19:44.180Z"
   },
   {
    "duration": 4,
    "start_time": "2022-04-23T18:19:44.224Z"
   },
   {
    "duration": 4,
    "start_time": "2022-04-23T18:19:44.230Z"
   },
   {
    "duration": 4,
    "start_time": "2022-04-23T18:19:44.236Z"
   },
   {
    "duration": 4,
    "start_time": "2022-04-23T18:19:44.242Z"
   },
   {
    "duration": 4,
    "start_time": "2022-04-23T18:19:44.248Z"
   },
   {
    "duration": 4,
    "start_time": "2022-04-23T18:19:44.253Z"
   },
   {
    "duration": 4,
    "start_time": "2022-04-23T18:19:44.259Z"
   },
   {
    "duration": 3,
    "start_time": "2022-04-23T18:19:44.307Z"
   },
   {
    "duration": 5,
    "start_time": "2022-04-23T18:19:44.312Z"
   },
   {
    "duration": 2268,
    "start_time": "2022-04-23T18:19:44.319Z"
   },
   {
    "duration": 45,
    "start_time": "2022-04-23T18:19:46.589Z"
   },
   {
    "duration": 13,
    "start_time": "2022-04-23T18:19:46.635Z"
   },
   {
    "duration": 12,
    "start_time": "2022-04-23T18:19:46.649Z"
   },
   {
    "duration": 122,
    "start_time": "2022-04-23T18:19:46.664Z"
   },
   {
    "duration": 34,
    "start_time": "2022-04-23T18:19:46.788Z"
   },
   {
    "duration": 57,
    "start_time": "2022-04-23T18:19:46.825Z"
   },
   {
    "duration": 2300,
    "start_time": "2022-04-23T18:19:46.884Z"
   },
   {
    "duration": 68418,
    "start_time": "2022-04-23T18:19:49.185Z"
   },
   {
    "duration": 3,
    "start_time": "2022-04-23T18:20:57.607Z"
   },
   {
    "duration": 4,
    "start_time": "2022-04-23T18:20:57.612Z"
   },
   {
    "duration": 5,
    "start_time": "2022-04-23T18:20:57.617Z"
   },
   {
    "duration": 5,
    "start_time": "2022-04-23T18:20:57.623Z"
   },
   {
    "duration": 4,
    "start_time": "2022-04-23T18:20:57.629Z"
   },
   {
    "duration": 4,
    "start_time": "2022-04-23T18:20:57.635Z"
   },
   {
    "duration": 4,
    "start_time": "2022-04-23T18:20:57.641Z"
   },
   {
    "duration": 4,
    "start_time": "2022-04-23T18:20:57.647Z"
   },
   {
    "duration": 5,
    "start_time": "2022-04-23T18:20:57.653Z"
   },
   {
    "duration": 4,
    "start_time": "2022-04-23T18:20:57.660Z"
   },
   {
    "duration": 3,
    "start_time": "2022-04-23T18:20:57.707Z"
   },
   {
    "duration": 3,
    "start_time": "2022-04-23T18:20:57.713Z"
   },
   {
    "duration": 2281,
    "start_time": "2022-04-23T18:31:20.326Z"
   },
   {
    "duration": 2198,
    "start_time": "2022-04-23T18:32:35.535Z"
   },
   {
    "duration": 91,
    "start_time": "2022-04-23T18:33:03.054Z"
   },
   {
    "duration": 2270,
    "start_time": "2022-04-23T18:33:05.249Z"
   },
   {
    "duration": 3320,
    "start_time": "2022-04-23T18:34:11.571Z"
   },
   {
    "duration": 2064,
    "start_time": "2022-04-23T18:34:31.572Z"
   },
   {
    "duration": 2024,
    "start_time": "2022-04-23T18:34:44.665Z"
   },
   {
    "duration": 2381,
    "start_time": "2022-04-23T18:35:09.891Z"
   },
   {
    "duration": 2307,
    "start_time": "2022-04-23T18:35:50.732Z"
   },
   {
    "duration": 2352,
    "start_time": "2022-04-23T18:35:58.124Z"
   },
   {
    "duration": 2387,
    "start_time": "2022-04-23T18:36:18.161Z"
   },
   {
    "duration": 109,
    "start_time": "2022-04-23T18:36:58.383Z"
   },
   {
    "duration": 2359,
    "start_time": "2022-04-23T18:37:00.657Z"
   },
   {
    "duration": 4647,
    "start_time": "2022-04-23T18:37:35.746Z"
   },
   {
    "duration": 1173,
    "start_time": "2022-04-23T18:38:58.656Z"
   },
   {
    "duration": 274,
    "start_time": "2022-04-23T18:38:59.831Z"
   },
   {
    "duration": 130,
    "start_time": "2022-04-23T18:39:00.107Z"
   },
   {
    "duration": 49,
    "start_time": "2022-04-23T18:39:00.240Z"
   },
   {
    "duration": 137,
    "start_time": "2022-04-23T18:39:00.291Z"
   },
   {
    "duration": 52,
    "start_time": "2022-04-23T18:39:00.430Z"
   },
   {
    "duration": 28,
    "start_time": "2022-04-23T18:39:00.484Z"
   },
   {
    "duration": 19,
    "start_time": "2022-04-23T18:39:00.514Z"
   },
   {
    "duration": 16,
    "start_time": "2022-04-23T18:39:00.535Z"
   },
   {
    "duration": 4,
    "start_time": "2022-04-23T18:39:00.554Z"
   },
   {
    "duration": 11,
    "start_time": "2022-04-23T18:39:00.560Z"
   },
   {
    "duration": 5,
    "start_time": "2022-04-23T18:39:00.573Z"
   },
   {
    "duration": 29,
    "start_time": "2022-04-23T18:39:00.579Z"
   },
   {
    "duration": 8,
    "start_time": "2022-04-23T18:39:00.610Z"
   },
   {
    "duration": 5,
    "start_time": "2022-04-23T18:39:00.620Z"
   },
   {
    "duration": 4,
    "start_time": "2022-04-23T18:39:00.627Z"
   },
   {
    "duration": 4,
    "start_time": "2022-04-23T18:39:00.632Z"
   },
   {
    "duration": 5,
    "start_time": "2022-04-23T18:39:00.638Z"
   },
   {
    "duration": 2289,
    "start_time": "2022-04-23T18:39:00.644Z"
   },
   {
    "duration": 35,
    "start_time": "2022-04-23T18:39:02.934Z"
   },
   {
    "duration": 11,
    "start_time": "2022-04-23T18:39:02.971Z"
   },
   {
    "duration": 29,
    "start_time": "2022-04-23T18:39:02.985Z"
   },
   {
    "duration": 102,
    "start_time": "2022-04-23T18:39:03.016Z"
   },
   {
    "duration": 18,
    "start_time": "2022-04-23T18:39:03.121Z"
   },
   {
    "duration": 43,
    "start_time": "2022-04-23T18:39:03.141Z"
   },
   {
    "duration": 1981,
    "start_time": "2022-04-23T18:39:03.208Z"
   },
   {
    "duration": 6354,
    "start_time": "2022-04-23T18:39:05.191Z"
   },
   {
    "duration": 2,
    "start_time": "2022-04-23T18:39:11.549Z"
   },
   {
    "duration": 14,
    "start_time": "2022-04-23T18:39:11.553Z"
   },
   {
    "duration": 9,
    "start_time": "2022-04-23T18:39:11.570Z"
   },
   {
    "duration": 4,
    "start_time": "2022-04-23T18:39:11.582Z"
   },
   {
    "duration": 8,
    "start_time": "2022-04-23T18:39:11.588Z"
   },
   {
    "duration": 13,
    "start_time": "2022-04-23T18:39:11.598Z"
   },
   {
    "duration": 5,
    "start_time": "2022-04-23T18:39:11.614Z"
   },
   {
    "duration": 8,
    "start_time": "2022-04-23T18:39:11.621Z"
   },
   {
    "duration": 7,
    "start_time": "2022-04-23T18:39:11.632Z"
   },
   {
    "duration": 3,
    "start_time": "2022-04-23T18:39:11.641Z"
   },
   {
    "duration": 4,
    "start_time": "2022-04-23T18:39:11.646Z"
   },
   {
    "duration": 4,
    "start_time": "2022-04-23T18:39:11.652Z"
   },
   {
    "duration": 1188,
    "start_time": "2022-04-23T18:39:54.175Z"
   },
   {
    "duration": 274,
    "start_time": "2022-04-23T18:39:55.365Z"
   },
   {
    "duration": 126,
    "start_time": "2022-04-23T18:39:55.641Z"
   },
   {
    "duration": 45,
    "start_time": "2022-04-23T18:39:55.770Z"
   },
   {
    "duration": 129,
    "start_time": "2022-04-23T18:39:55.817Z"
   },
   {
    "duration": 71,
    "start_time": "2022-04-23T18:39:55.948Z"
   },
   {
    "duration": 15,
    "start_time": "2022-04-23T18:39:56.020Z"
   },
   {
    "duration": 23,
    "start_time": "2022-04-23T18:39:56.037Z"
   },
   {
    "duration": 16,
    "start_time": "2022-04-23T18:39:56.061Z"
   },
   {
    "duration": 3,
    "start_time": "2022-04-23T18:39:56.108Z"
   },
   {
    "duration": 9,
    "start_time": "2022-04-23T18:39:56.112Z"
   },
   {
    "duration": 6,
    "start_time": "2022-04-23T18:39:56.123Z"
   },
   {
    "duration": 5,
    "start_time": "2022-04-23T18:39:56.131Z"
   },
   {
    "duration": 5,
    "start_time": "2022-04-23T18:39:56.137Z"
   },
   {
    "duration": 5,
    "start_time": "2022-04-23T18:39:56.143Z"
   },
   {
    "duration": 5,
    "start_time": "2022-04-23T18:39:56.150Z"
   },
   {
    "duration": 3,
    "start_time": "2022-04-23T18:39:56.157Z"
   },
   {
    "duration": 4,
    "start_time": "2022-04-23T18:39:56.162Z"
   },
   {
    "duration": 2155,
    "start_time": "2022-04-23T18:39:56.209Z"
   },
   {
    "duration": 43,
    "start_time": "2022-04-23T18:39:58.365Z"
   },
   {
    "duration": 11,
    "start_time": "2022-04-23T18:39:58.410Z"
   },
   {
    "duration": 9,
    "start_time": "2022-04-23T18:39:58.424Z"
   },
   {
    "duration": 106,
    "start_time": "2022-04-23T18:39:58.435Z"
   },
   {
    "duration": 16,
    "start_time": "2022-04-23T18:39:58.543Z"
   },
   {
    "duration": 58,
    "start_time": "2022-04-23T18:39:58.561Z"
   },
   {
    "duration": 1950,
    "start_time": "2022-04-23T18:39:58.621Z"
   },
   {
    "duration": 3952,
    "start_time": "2022-04-23T18:40:00.573Z"
   },
   {
    "duration": 2,
    "start_time": "2022-04-23T18:40:04.529Z"
   },
   {
    "duration": 6,
    "start_time": "2022-04-23T18:40:04.533Z"
   },
   {
    "duration": 4,
    "start_time": "2022-04-23T18:40:04.540Z"
   },
   {
    "duration": 4,
    "start_time": "2022-04-23T18:40:04.547Z"
   },
   {
    "duration": 4,
    "start_time": "2022-04-23T18:40:04.553Z"
   },
   {
    "duration": 5,
    "start_time": "2022-04-23T18:40:04.559Z"
   },
   {
    "duration": 4,
    "start_time": "2022-04-23T18:40:04.566Z"
   },
   {
    "duration": 7,
    "start_time": "2022-04-23T18:40:04.573Z"
   },
   {
    "duration": 3,
    "start_time": "2022-04-23T18:40:04.607Z"
   },
   {
    "duration": 5,
    "start_time": "2022-04-23T18:40:04.612Z"
   },
   {
    "duration": 5,
    "start_time": "2022-04-23T18:40:04.618Z"
   },
   {
    "duration": 4,
    "start_time": "2022-04-23T18:40:04.625Z"
   },
   {
    "duration": 2294,
    "start_time": "2022-04-23T18:43:53.853Z"
   },
   {
    "duration": 1662,
    "start_time": "2022-04-23T18:44:22.566Z"
   },
   {
    "duration": 1586,
    "start_time": "2022-04-23T18:44:30.817Z"
   },
   {
    "duration": 1807,
    "start_time": "2022-04-23T18:45:25.918Z"
   },
   {
    "duration": 2363,
    "start_time": "2022-04-23T18:46:04.934Z"
   },
   {
    "duration": 3208,
    "start_time": "2022-04-23T18:47:05.650Z"
   },
   {
    "duration": 2231,
    "start_time": "2022-04-23T18:47:17.088Z"
   },
   {
    "duration": 1943,
    "start_time": "2022-04-23T18:48:16.357Z"
   },
   {
    "duration": 1198,
    "start_time": "2022-04-23T18:48:35.808Z"
   },
   {
    "duration": 566,
    "start_time": "2022-04-23T18:48:37.008Z"
   },
   {
    "duration": 128,
    "start_time": "2022-04-23T18:48:37.575Z"
   },
   {
    "duration": 48,
    "start_time": "2022-04-23T18:48:37.705Z"
   },
   {
    "duration": 131,
    "start_time": "2022-04-23T18:48:37.754Z"
   },
   {
    "duration": 71,
    "start_time": "2022-04-23T18:48:37.887Z"
   },
   {
    "duration": 14,
    "start_time": "2022-04-23T18:48:37.960Z"
   },
   {
    "duration": 47,
    "start_time": "2022-04-23T18:48:37.976Z"
   },
   {
    "duration": 14,
    "start_time": "2022-04-23T18:48:38.024Z"
   },
   {
    "duration": 3,
    "start_time": "2022-04-23T18:48:38.041Z"
   },
   {
    "duration": 4,
    "start_time": "2022-04-23T18:48:38.046Z"
   },
   {
    "duration": 4,
    "start_time": "2022-04-23T18:48:38.052Z"
   },
   {
    "duration": 5,
    "start_time": "2022-04-23T18:48:38.058Z"
   },
   {
    "duration": 4,
    "start_time": "2022-04-23T18:48:38.064Z"
   },
   {
    "duration": 5,
    "start_time": "2022-04-23T18:48:38.070Z"
   },
   {
    "duration": 3,
    "start_time": "2022-04-23T18:48:38.110Z"
   },
   {
    "duration": 4,
    "start_time": "2022-04-23T18:48:38.115Z"
   },
   {
    "duration": 6,
    "start_time": "2022-04-23T18:48:38.121Z"
   },
   {
    "duration": 2261,
    "start_time": "2022-04-23T18:48:38.129Z"
   },
   {
    "duration": 42,
    "start_time": "2022-04-23T18:48:40.392Z"
   },
   {
    "duration": 11,
    "start_time": "2022-04-23T18:48:40.436Z"
   },
   {
    "duration": 10,
    "start_time": "2022-04-23T18:48:40.448Z"
   },
   {
    "duration": 123,
    "start_time": "2022-04-23T18:48:40.460Z"
   },
   {
    "duration": 25,
    "start_time": "2022-04-23T18:48:40.584Z"
   },
   {
    "duration": 42,
    "start_time": "2022-04-23T18:48:40.611Z"
   },
   {
    "duration": 2020,
    "start_time": "2022-04-23T18:48:40.654Z"
   },
   {
    "duration": 4583,
    "start_time": "2022-04-23T18:48:42.676Z"
   },
   {
    "duration": 3,
    "start_time": "2022-04-23T18:48:47.262Z"
   },
   {
    "duration": 4,
    "start_time": "2022-04-23T18:48:47.267Z"
   },
   {
    "duration": 4,
    "start_time": "2022-04-23T18:48:47.273Z"
   },
   {
    "duration": 5,
    "start_time": "2022-04-23T18:48:47.279Z"
   },
   {
    "duration": 26,
    "start_time": "2022-04-23T18:48:47.286Z"
   },
   {
    "duration": 6,
    "start_time": "2022-04-23T18:48:47.314Z"
   },
   {
    "duration": 7,
    "start_time": "2022-04-23T18:48:47.322Z"
   },
   {
    "duration": 4,
    "start_time": "2022-04-23T18:48:47.331Z"
   },
   {
    "duration": 5,
    "start_time": "2022-04-23T18:48:47.336Z"
   },
   {
    "duration": 5,
    "start_time": "2022-04-23T18:48:47.342Z"
   },
   {
    "duration": 6,
    "start_time": "2022-04-23T18:48:47.348Z"
   },
   {
    "duration": 3,
    "start_time": "2022-04-23T18:48:47.356Z"
   },
   {
    "duration": 2689,
    "start_time": "2022-04-24T02:25:47.836Z"
   },
   {
    "duration": 573,
    "start_time": "2022-04-24T02:25:50.528Z"
   },
   {
    "duration": 297,
    "start_time": "2022-04-24T02:25:51.104Z"
   },
   {
    "duration": 67,
    "start_time": "2022-04-24T02:25:51.406Z"
   },
   {
    "duration": 172,
    "start_time": "2022-04-24T02:25:51.475Z"
   },
   {
    "duration": 100,
    "start_time": "2022-04-24T02:25:51.649Z"
   },
   {
    "duration": 24,
    "start_time": "2022-04-24T02:25:51.751Z"
   },
   {
    "duration": 56,
    "start_time": "2022-04-24T02:25:51.777Z"
   },
   {
    "duration": 19,
    "start_time": "2022-04-24T02:25:51.835Z"
   },
   {
    "duration": 4,
    "start_time": "2022-04-24T02:25:51.860Z"
   },
   {
    "duration": 6,
    "start_time": "2022-04-24T02:25:51.866Z"
   },
   {
    "duration": 5,
    "start_time": "2022-04-24T02:25:51.875Z"
   },
   {
    "duration": 3,
    "start_time": "2022-04-24T02:25:51.926Z"
   },
   {
    "duration": 7,
    "start_time": "2022-04-24T02:25:51.932Z"
   },
   {
    "duration": 8,
    "start_time": "2022-04-24T02:25:51.941Z"
   },
   {
    "duration": 9,
    "start_time": "2022-04-24T02:25:51.952Z"
   },
   {
    "duration": 9,
    "start_time": "2022-04-24T02:25:51.964Z"
   },
   {
    "duration": 8,
    "start_time": "2022-04-24T02:25:51.976Z"
   },
   {
    "duration": 3953,
    "start_time": "2022-04-24T02:25:51.987Z"
   },
   {
    "duration": 57,
    "start_time": "2022-04-24T02:25:55.943Z"
   },
   {
    "duration": 33,
    "start_time": "2022-04-24T02:25:56.002Z"
   },
   {
    "duration": 15,
    "start_time": "2022-04-24T02:25:56.037Z"
   },
   {
    "duration": 146,
    "start_time": "2022-04-24T02:25:56.054Z"
   },
   {
    "duration": 36,
    "start_time": "2022-04-24T02:25:56.202Z"
   },
   {
    "duration": 58,
    "start_time": "2022-04-24T02:25:56.241Z"
   },
   {
    "duration": 2889,
    "start_time": "2022-04-24T02:25:56.301Z"
   },
   {
    "duration": 6046,
    "start_time": "2022-04-24T02:25:59.193Z"
   },
   {
    "duration": 3397,
    "start_time": "2022-04-24T02:26:05.244Z"
   },
   {
    "duration": 4,
    "start_time": "2022-04-24T02:26:08.643Z"
   },
   {
    "duration": 6,
    "start_time": "2022-04-24T02:26:08.649Z"
   },
   {
    "duration": 5,
    "start_time": "2022-04-24T02:26:08.657Z"
   },
   {
    "duration": 6,
    "start_time": "2022-04-24T02:26:08.664Z"
   },
   {
    "duration": 6,
    "start_time": "2022-04-24T02:26:08.672Z"
   },
   {
    "duration": 44,
    "start_time": "2022-04-24T02:26:08.680Z"
   },
   {
    "duration": 10,
    "start_time": "2022-04-24T02:26:08.727Z"
   },
   {
    "duration": 18,
    "start_time": "2022-04-24T02:26:08.740Z"
   },
   {
    "duration": 8,
    "start_time": "2022-04-24T02:26:08.760Z"
   },
   {
    "duration": 14,
    "start_time": "2022-04-24T02:26:08.770Z"
   },
   {
    "duration": 9,
    "start_time": "2022-04-24T02:26:08.786Z"
   },
   {
    "duration": 2437,
    "start_time": "2022-04-24T02:30:43.506Z"
   },
   {
    "duration": 2475,
    "start_time": "2022-04-24T02:30:56.919Z"
   },
   {
    "duration": 72,
    "start_time": "2022-04-24T02:32:33.124Z"
   },
   {
    "duration": 1545,
    "start_time": "2022-04-24T02:32:53.450Z"
   },
   {
    "duration": 374,
    "start_time": "2022-04-24T02:32:54.998Z"
   },
   {
    "duration": 192,
    "start_time": "2022-04-24T02:32:55.375Z"
   },
   {
    "duration": 64,
    "start_time": "2022-04-24T02:32:55.570Z"
   },
   {
    "duration": 175,
    "start_time": "2022-04-24T02:32:55.636Z"
   },
   {
    "duration": 90,
    "start_time": "2022-04-24T02:32:55.813Z"
   },
   {
    "duration": 35,
    "start_time": "2022-04-24T02:32:55.905Z"
   },
   {
    "duration": 31,
    "start_time": "2022-04-24T02:32:55.942Z"
   },
   {
    "duration": 50,
    "start_time": "2022-04-24T02:32:55.975Z"
   },
   {
    "duration": 3,
    "start_time": "2022-04-24T02:32:56.029Z"
   },
   {
    "duration": 5,
    "start_time": "2022-04-24T02:32:56.035Z"
   },
   {
    "duration": 5,
    "start_time": "2022-04-24T02:32:56.043Z"
   },
   {
    "duration": 11,
    "start_time": "2022-04-24T02:32:56.050Z"
   },
   {
    "duration": 6,
    "start_time": "2022-04-24T02:32:56.064Z"
   },
   {
    "duration": 8,
    "start_time": "2022-04-24T02:32:56.072Z"
   },
   {
    "duration": 8,
    "start_time": "2022-04-24T02:32:56.083Z"
   },
   {
    "duration": 32,
    "start_time": "2022-04-24T02:32:56.093Z"
   },
   {
    "duration": 6,
    "start_time": "2022-04-24T02:32:56.127Z"
   },
   {
    "duration": 3082,
    "start_time": "2022-04-24T02:32:56.136Z"
   },
   {
    "duration": 50,
    "start_time": "2022-04-24T02:32:59.220Z"
   },
   {
    "duration": 16,
    "start_time": "2022-04-24T02:32:59.272Z"
   },
   {
    "duration": 46,
    "start_time": "2022-04-24T02:32:59.291Z"
   },
   {
    "duration": 130,
    "start_time": "2022-04-24T02:32:59.339Z"
   },
   {
    "duration": 25,
    "start_time": "2022-04-24T02:32:59.471Z"
   },
   {
    "duration": 77,
    "start_time": "2022-04-24T02:32:59.499Z"
   },
   {
    "duration": 2739,
    "start_time": "2022-04-24T02:32:59.579Z"
   },
   {
    "duration": 6016,
    "start_time": "2022-04-24T02:33:02.321Z"
   },
   {
    "duration": 2452,
    "start_time": "2022-04-24T02:33:08.342Z"
   },
   {
    "duration": 1617,
    "start_time": "2022-04-24T02:38:27.066Z"
   },
   {
    "duration": 381,
    "start_time": "2022-04-24T02:38:28.685Z"
   },
   {
    "duration": 189,
    "start_time": "2022-04-24T02:38:29.069Z"
   },
   {
    "duration": 72,
    "start_time": "2022-04-24T02:38:29.261Z"
   },
   {
    "duration": 172,
    "start_time": "2022-04-24T02:38:29.336Z"
   },
   {
    "duration": 87,
    "start_time": "2022-04-24T02:38:29.510Z"
   },
   {
    "duration": 42,
    "start_time": "2022-04-24T02:38:29.599Z"
   },
   {
    "duration": 31,
    "start_time": "2022-04-24T02:38:29.643Z"
   },
   {
    "duration": 53,
    "start_time": "2022-04-24T02:38:29.677Z"
   },
   {
    "duration": 9,
    "start_time": "2022-04-24T02:38:29.735Z"
   },
   {
    "duration": 6,
    "start_time": "2022-04-24T02:38:29.746Z"
   },
   {
    "duration": 11,
    "start_time": "2022-04-24T02:38:29.754Z"
   },
   {
    "duration": 7,
    "start_time": "2022-04-24T02:38:29.767Z"
   },
   {
    "duration": 7,
    "start_time": "2022-04-24T02:38:29.776Z"
   },
   {
    "duration": 7,
    "start_time": "2022-04-24T02:38:29.785Z"
   },
   {
    "duration": 30,
    "start_time": "2022-04-24T02:38:29.794Z"
   },
   {
    "duration": 3,
    "start_time": "2022-04-24T02:38:29.827Z"
   },
   {
    "duration": 8,
    "start_time": "2022-04-24T02:38:29.832Z"
   },
   {
    "duration": 3117,
    "start_time": "2022-04-24T02:38:29.843Z"
   },
   {
    "duration": 64,
    "start_time": "2022-04-24T02:38:32.962Z"
   },
   {
    "duration": 16,
    "start_time": "2022-04-24T02:38:33.029Z"
   },
   {
    "duration": 25,
    "start_time": "2022-04-24T02:38:33.048Z"
   },
   {
    "duration": 140,
    "start_time": "2022-04-24T02:38:33.076Z"
   },
   {
    "duration": 25,
    "start_time": "2022-04-24T02:38:33.225Z"
   },
   {
    "duration": 78,
    "start_time": "2022-04-24T02:38:33.252Z"
   },
   {
    "duration": 2746,
    "start_time": "2022-04-24T02:38:33.332Z"
   },
   {
    "duration": 5922,
    "start_time": "2022-04-24T02:38:36.081Z"
   },
   {
    "duration": 2422,
    "start_time": "2022-04-24T02:38:42.008Z"
   },
   {
    "duration": 1612,
    "start_time": "2022-04-24T02:39:04.045Z"
   },
   {
    "duration": 360,
    "start_time": "2022-04-24T02:39:05.661Z"
   },
   {
    "duration": 188,
    "start_time": "2022-04-24T02:39:06.024Z"
   },
   {
    "duration": 64,
    "start_time": "2022-04-24T02:39:06.215Z"
   },
   {
    "duration": 181,
    "start_time": "2022-04-24T02:39:06.281Z"
   },
   {
    "duration": 95,
    "start_time": "2022-04-24T02:39:06.465Z"
   },
   {
    "duration": 20,
    "start_time": "2022-04-24T02:39:06.563Z"
   },
   {
    "duration": 63,
    "start_time": "2022-04-24T02:39:06.586Z"
   },
   {
    "duration": 21,
    "start_time": "2022-04-24T02:39:06.651Z"
   },
   {
    "duration": 4,
    "start_time": "2022-04-24T02:39:06.677Z"
   },
   {
    "duration": 9,
    "start_time": "2022-04-24T02:39:06.683Z"
   },
   {
    "duration": 35,
    "start_time": "2022-04-24T02:39:06.694Z"
   },
   {
    "duration": 5,
    "start_time": "2022-04-24T02:39:06.732Z"
   },
   {
    "duration": 6,
    "start_time": "2022-04-24T02:39:06.739Z"
   },
   {
    "duration": 6,
    "start_time": "2022-04-24T02:39:06.747Z"
   },
   {
    "duration": 9,
    "start_time": "2022-04-24T02:39:06.755Z"
   },
   {
    "duration": 8,
    "start_time": "2022-04-24T02:39:06.766Z"
   },
   {
    "duration": 6,
    "start_time": "2022-04-24T02:39:06.777Z"
   },
   {
    "duration": 3054,
    "start_time": "2022-04-24T02:39:06.786Z"
   },
   {
    "duration": 48,
    "start_time": "2022-04-24T02:39:09.842Z"
   },
   {
    "duration": 33,
    "start_time": "2022-04-24T02:39:09.892Z"
   },
   {
    "duration": 13,
    "start_time": "2022-04-24T02:39:09.928Z"
   },
   {
    "duration": 136,
    "start_time": "2022-04-24T02:39:09.943Z"
   },
   {
    "duration": 42,
    "start_time": "2022-04-24T02:39:10.082Z"
   },
   {
    "duration": 57,
    "start_time": "2022-04-24T02:39:10.127Z"
   },
   {
    "duration": 2764,
    "start_time": "2022-04-24T02:39:10.186Z"
   },
   {
    "duration": 6004,
    "start_time": "2022-04-24T02:39:12.952Z"
   },
   {
    "duration": 2476,
    "start_time": "2022-04-24T02:39:18.961Z"
   },
   {
    "duration": 1571,
    "start_time": "2022-04-24T02:47:56.944Z"
   },
   {
    "duration": 370,
    "start_time": "2022-04-24T02:47:58.517Z"
   },
   {
    "duration": 185,
    "start_time": "2022-04-24T02:47:58.889Z"
   },
   {
    "duration": 62,
    "start_time": "2022-04-24T02:47:59.077Z"
   },
   {
    "duration": 174,
    "start_time": "2022-04-24T02:47:59.141Z"
   },
   {
    "duration": 81,
    "start_time": "2022-04-24T02:47:59.317Z"
   },
   {
    "duration": 39,
    "start_time": "2022-04-24T02:47:59.400Z"
   },
   {
    "duration": 29,
    "start_time": "2022-04-24T02:47:59.441Z"
   },
   {
    "duration": 24,
    "start_time": "2022-04-24T02:47:59.472Z"
   },
   {
    "duration": 3,
    "start_time": "2022-04-24T02:47:59.525Z"
   },
   {
    "duration": 8,
    "start_time": "2022-04-24T02:47:59.530Z"
   },
   {
    "duration": 5,
    "start_time": "2022-04-24T02:47:59.541Z"
   },
   {
    "duration": 6,
    "start_time": "2022-04-24T02:47:59.549Z"
   },
   {
    "duration": 8,
    "start_time": "2022-04-24T02:47:59.558Z"
   },
   {
    "duration": 7,
    "start_time": "2022-04-24T02:47:59.568Z"
   },
   {
    "duration": 10,
    "start_time": "2022-04-24T02:47:59.578Z"
   },
   {
    "duration": 36,
    "start_time": "2022-04-24T02:47:59.590Z"
   },
   {
    "duration": 11,
    "start_time": "2022-04-24T02:47:59.629Z"
   },
   {
    "duration": 3070,
    "start_time": "2022-04-24T02:47:59.642Z"
   },
   {
    "duration": 51,
    "start_time": "2022-04-24T02:48:02.714Z"
   },
   {
    "duration": 18,
    "start_time": "2022-04-24T02:48:02.767Z"
   },
   {
    "duration": 46,
    "start_time": "2022-04-24T02:48:02.788Z"
   },
   {
    "duration": 131,
    "start_time": "2022-04-24T02:48:02.836Z"
   },
   {
    "duration": 26,
    "start_time": "2022-04-24T02:48:02.969Z"
   },
   {
    "duration": 82,
    "start_time": "2022-04-24T02:48:02.998Z"
   },
   {
    "duration": 3142,
    "start_time": "2022-04-24T02:48:03.082Z"
   },
   {
    "duration": 6046,
    "start_time": "2022-04-24T02:48:06.227Z"
   },
   {
    "duration": 2574,
    "start_time": "2022-04-24T02:48:12.279Z"
   },
   {
    "duration": 74,
    "start_time": "2022-04-24T02:57:53.335Z"
   },
   {
    "duration": 1684,
    "start_time": "2022-04-24T02:58:01.875Z"
   },
   {
    "duration": 376,
    "start_time": "2022-04-24T02:58:03.562Z"
   },
   {
    "duration": 190,
    "start_time": "2022-04-24T02:58:03.940Z"
   },
   {
    "duration": 56,
    "start_time": "2022-04-24T02:58:04.133Z"
   },
   {
    "duration": 182,
    "start_time": "2022-04-24T02:58:04.191Z"
   },
   {
    "duration": 93,
    "start_time": "2022-04-24T02:58:04.376Z"
   },
   {
    "duration": 19,
    "start_time": "2022-04-24T02:58:04.472Z"
   },
   {
    "duration": 55,
    "start_time": "2022-04-24T02:58:04.494Z"
   },
   {
    "duration": 21,
    "start_time": "2022-04-24T02:58:04.551Z"
   },
   {
    "duration": 4,
    "start_time": "2022-04-24T02:58:04.576Z"
   },
   {
    "duration": 8,
    "start_time": "2022-04-24T02:58:04.582Z"
   },
   {
    "duration": 32,
    "start_time": "2022-04-24T02:58:04.593Z"
   },
   {
    "duration": 7,
    "start_time": "2022-04-24T02:58:04.628Z"
   },
   {
    "duration": 8,
    "start_time": "2022-04-24T02:58:04.637Z"
   },
   {
    "duration": 8,
    "start_time": "2022-04-24T02:58:04.647Z"
   },
   {
    "duration": 7,
    "start_time": "2022-04-24T02:58:04.658Z"
   },
   {
    "duration": 8,
    "start_time": "2022-04-24T02:58:04.667Z"
   },
   {
    "duration": 16,
    "start_time": "2022-04-24T02:58:04.677Z"
   },
   {
    "duration": 3086,
    "start_time": "2022-04-24T02:58:04.696Z"
   },
   {
    "duration": 61,
    "start_time": "2022-04-24T02:58:07.784Z"
   },
   {
    "duration": 15,
    "start_time": "2022-04-24T02:58:07.848Z"
   },
   {
    "duration": 15,
    "start_time": "2022-04-24T02:58:07.866Z"
   },
   {
    "duration": 149,
    "start_time": "2022-04-24T02:58:07.884Z"
   },
   {
    "duration": 26,
    "start_time": "2022-04-24T02:58:08.035Z"
   },
   {
    "duration": 86,
    "start_time": "2022-04-24T02:58:08.064Z"
   },
   {
    "duration": 2737,
    "start_time": "2022-04-24T02:58:08.153Z"
   },
   {
    "duration": 6020,
    "start_time": "2022-04-24T02:58:10.893Z"
   },
   {
    "duration": 2451,
    "start_time": "2022-04-24T02:58:16.923Z"
   },
   {
    "duration": 136,
    "start_time": "2022-04-24T03:01:03.390Z"
   },
   {
    "duration": 2357,
    "start_time": "2022-04-24T03:01:10.486Z"
   },
   {
    "duration": 556,
    "start_time": "2022-04-24T03:01:12.847Z"
   },
   {
    "duration": 289,
    "start_time": "2022-04-24T03:01:13.689Z"
   },
   {
    "duration": 91,
    "start_time": "2022-04-24T03:01:14.545Z"
   },
   {
    "duration": 256,
    "start_time": "2022-04-24T03:01:15.487Z"
   },
   {
    "duration": 89,
    "start_time": "2022-04-24T03:01:16.387Z"
   },
   {
    "duration": 20,
    "start_time": "2022-04-24T03:01:16.829Z"
   },
   {
    "duration": 30,
    "start_time": "2022-04-24T03:01:17.298Z"
   },
   {
    "duration": 20,
    "start_time": "2022-04-24T03:01:17.741Z"
   },
   {
    "duration": 6,
    "start_time": "2022-04-24T03:01:18.620Z"
   },
   {
    "duration": 3803,
    "start_time": "2022-04-24T03:01:32.668Z"
   },
   {
    "duration": 84,
    "start_time": "2022-04-24T03:01:36.475Z"
   },
   {
    "duration": 25,
    "start_time": "2022-04-24T03:01:36.562Z"
   },
   {
    "duration": 45,
    "start_time": "2022-04-24T03:01:36.590Z"
   },
   {
    "duration": 188,
    "start_time": "2022-04-24T03:01:36.706Z"
   },
   {
    "duration": 38,
    "start_time": "2022-04-24T03:01:37.185Z"
   },
   {
    "duration": 88,
    "start_time": "2022-04-24T03:01:37.623Z"
   },
   {
    "duration": 3485,
    "start_time": "2022-04-24T03:01:38.068Z"
   },
   {
    "duration": 7996,
    "start_time": "2022-04-24T03:01:41.557Z"
   },
   {
    "duration": 3419,
    "start_time": "2022-04-24T03:01:49.556Z"
   },
   {
    "duration": 71,
    "start_time": "2022-04-24T03:03:14.980Z"
   },
   {
    "duration": 1788,
    "start_time": "2022-04-24T03:03:23.732Z"
   },
   {
    "duration": 363,
    "start_time": "2022-04-24T03:03:25.523Z"
   },
   {
    "duration": 188,
    "start_time": "2022-04-24T03:03:25.889Z"
   },
   {
    "duration": 72,
    "start_time": "2022-04-24T03:03:26.082Z"
   },
   {
    "duration": 178,
    "start_time": "2022-04-24T03:03:26.156Z"
   },
   {
    "duration": 106,
    "start_time": "2022-04-24T03:03:26.336Z"
   },
   {
    "duration": 20,
    "start_time": "2022-04-24T03:03:26.444Z"
   },
   {
    "duration": 56,
    "start_time": "2022-04-24T03:03:26.467Z"
   },
   {
    "duration": 19,
    "start_time": "2022-04-24T03:03:26.526Z"
   },
   {
    "duration": 4,
    "start_time": "2022-04-24T03:03:26.551Z"
   },
   {
    "duration": 6,
    "start_time": "2022-04-24T03:03:26.558Z"
   },
   {
    "duration": 6,
    "start_time": "2022-04-24T03:03:26.566Z"
   },
   {
    "duration": 6,
    "start_time": "2022-04-24T03:03:26.574Z"
   },
   {
    "duration": 43,
    "start_time": "2022-04-24T03:03:26.582Z"
   },
   {
    "duration": 5,
    "start_time": "2022-04-24T03:03:26.628Z"
   },
   {
    "duration": 5,
    "start_time": "2022-04-24T03:03:26.635Z"
   },
   {
    "duration": 5,
    "start_time": "2022-04-24T03:03:26.643Z"
   },
   {
    "duration": 8,
    "start_time": "2022-04-24T03:03:26.650Z"
   },
   {
    "duration": 3105,
    "start_time": "2022-04-24T03:03:26.660Z"
   },
   {
    "duration": 63,
    "start_time": "2022-04-24T03:03:29.768Z"
   },
   {
    "duration": 16,
    "start_time": "2022-04-24T03:03:29.834Z"
   },
   {
    "duration": 18,
    "start_time": "2022-04-24T03:03:29.852Z"
   },
   {
    "duration": 112,
    "start_time": "2022-04-24T03:03:29.873Z"
   },
   {
    "duration": 42,
    "start_time": "2022-04-24T03:03:29.989Z"
   },
   {
    "duration": 104,
    "start_time": "2022-04-24T03:03:30.034Z"
   },
   {
    "duration": 3843,
    "start_time": "2022-04-24T03:03:30.141Z"
   },
   {
    "duration": 8344,
    "start_time": "2022-04-24T03:03:33.987Z"
   },
   {
    "duration": 3396,
    "start_time": "2022-04-24T03:03:42.338Z"
   },
   {
    "duration": 72,
    "start_time": "2022-04-24T03:04:22.299Z"
   },
   {
    "duration": 1636,
    "start_time": "2022-04-24T03:05:15.169Z"
   },
   {
    "duration": 365,
    "start_time": "2022-04-24T03:05:16.808Z"
   },
   {
    "duration": 188,
    "start_time": "2022-04-24T03:05:17.175Z"
   },
   {
    "duration": 68,
    "start_time": "2022-04-24T03:05:17.366Z"
   },
   {
    "duration": 153,
    "start_time": "2022-04-24T03:05:17.436Z"
   },
   {
    "duration": 96,
    "start_time": "2022-04-24T03:05:17.591Z"
   },
   {
    "duration": 19,
    "start_time": "2022-04-24T03:05:17.689Z"
   },
   {
    "duration": 27,
    "start_time": "2022-04-24T03:05:17.710Z"
   },
   {
    "duration": 37,
    "start_time": "2022-04-24T03:05:17.740Z"
   },
   {
    "duration": 3,
    "start_time": "2022-04-24T03:05:17.784Z"
   },
   {
    "duration": 36,
    "start_time": "2022-04-24T03:05:17.790Z"
   },
   {
    "duration": 7,
    "start_time": "2022-04-24T03:05:17.829Z"
   },
   {
    "duration": 8,
    "start_time": "2022-04-24T03:05:17.839Z"
   },
   {
    "duration": 8,
    "start_time": "2022-04-24T03:05:17.850Z"
   },
   {
    "duration": 10,
    "start_time": "2022-04-24T03:05:17.861Z"
   },
   {
    "duration": 7,
    "start_time": "2022-04-24T03:05:17.873Z"
   },
   {
    "duration": 8,
    "start_time": "2022-04-24T03:05:17.882Z"
   },
   {
    "duration": 32,
    "start_time": "2022-04-24T03:05:17.893Z"
   },
   {
    "duration": 4,
    "start_time": "2022-04-24T03:05:17.928Z"
   },
   {
    "duration": 3935,
    "start_time": "2022-04-24T03:05:17.935Z"
   },
   {
    "duration": 19,
    "start_time": "2022-04-24T03:05:21.873Z"
   },
   {
    "duration": 80,
    "start_time": "2022-04-24T03:05:21.895Z"
   },
   {
    "duration": 24,
    "start_time": "2022-04-24T03:05:21.978Z"
   },
   {
    "duration": 34,
    "start_time": "2022-04-24T03:05:22.005Z"
   },
   {
    "duration": 101,
    "start_time": "2022-04-24T03:05:22.041Z"
   },
   {
    "duration": 39,
    "start_time": "2022-04-24T03:05:22.145Z"
   },
   {
    "duration": 110,
    "start_time": "2022-04-24T03:05:22.187Z"
   },
   {
    "duration": 3621,
    "start_time": "2022-04-24T03:05:22.305Z"
   },
   {
    "duration": 8469,
    "start_time": "2022-04-24T03:05:25.929Z"
   },
   {
    "duration": 3456,
    "start_time": "2022-04-24T03:05:34.401Z"
   },
   {
    "duration": 75,
    "start_time": "2022-04-24T03:06:20.664Z"
   },
   {
    "duration": 1755,
    "start_time": "2022-04-24T03:06:31.425Z"
   },
   {
    "duration": 375,
    "start_time": "2022-04-24T03:06:33.183Z"
   },
   {
    "duration": 187,
    "start_time": "2022-04-24T03:06:34.550Z"
   },
   {
    "duration": 55,
    "start_time": "2022-04-24T03:06:35.357Z"
   },
   {
    "duration": 135,
    "start_time": "2022-04-24T03:06:36.173Z"
   },
   {
    "duration": 82,
    "start_time": "2022-04-24T03:06:36.975Z"
   },
   {
    "duration": 21,
    "start_time": "2022-04-24T03:06:37.372Z"
   },
   {
    "duration": 9,
    "start_time": "2022-04-24T03:06:37.770Z"
   },
   {
    "duration": 18,
    "start_time": "2022-04-24T03:06:38.190Z"
   },
   {
    "duration": 3,
    "start_time": "2022-04-24T03:06:38.961Z"
   },
   {
    "duration": 3,
    "start_time": "2022-04-24T03:06:47.828Z"
   },
   {
    "duration": 3100,
    "start_time": "2022-04-24T03:06:48.219Z"
   },
   {
    "duration": 14,
    "start_time": "2022-04-24T03:06:51.323Z"
   },
   {
    "duration": 42,
    "start_time": "2022-04-24T03:06:51.340Z"
   },
   {
    "duration": 47,
    "start_time": "2022-04-24T03:06:51.386Z"
   },
   {
    "duration": 15,
    "start_time": "2022-04-24T03:06:54.989Z"
   },
   {
    "duration": 57,
    "start_time": "2022-04-24T03:06:59.622Z"
   },
   {
    "duration": 37,
    "start_time": "2022-04-24T03:07:00.952Z"
   },
   {
    "duration": 58,
    "start_time": "2022-04-24T03:07:02.697Z"
   },
   {
    "duration": 2763,
    "start_time": "2022-04-24T03:07:04.462Z"
   },
   {
    "duration": 5977,
    "start_time": "2022-04-24T03:07:07.228Z"
   },
   {
    "duration": 2455,
    "start_time": "2022-04-24T03:07:13.209Z"
   },
   {
    "duration": 1601,
    "start_time": "2022-04-24T03:07:34.669Z"
   },
   {
    "duration": 347,
    "start_time": "2022-04-24T03:07:36.273Z"
   },
   {
    "duration": 182,
    "start_time": "2022-04-24T03:07:36.622Z"
   },
   {
    "duration": 59,
    "start_time": "2022-04-24T03:07:36.807Z"
   },
   {
    "duration": 156,
    "start_time": "2022-04-24T03:07:36.868Z"
   },
   {
    "duration": 107,
    "start_time": "2022-04-24T03:07:37.026Z"
   },
   {
    "duration": 20,
    "start_time": "2022-04-24T03:07:37.135Z"
   },
   {
    "duration": 13,
    "start_time": "2022-04-24T03:07:37.157Z"
   },
   {
    "duration": 22,
    "start_time": "2022-04-24T03:07:37.172Z"
   },
   {
    "duration": 4,
    "start_time": "2022-04-24T03:07:37.224Z"
   },
   {
    "duration": 7,
    "start_time": "2022-04-24T03:07:37.230Z"
   },
   {
    "duration": 6,
    "start_time": "2022-04-24T03:07:37.239Z"
   },
   {
    "duration": 5,
    "start_time": "2022-04-24T03:07:37.247Z"
   },
   {
    "duration": 5,
    "start_time": "2022-04-24T03:07:37.255Z"
   },
   {
    "duration": 6,
    "start_time": "2022-04-24T03:07:37.262Z"
   },
   {
    "duration": 8,
    "start_time": "2022-04-24T03:07:37.270Z"
   },
   {
    "duration": 11,
    "start_time": "2022-04-24T03:07:37.280Z"
   },
   {
    "duration": 3,
    "start_time": "2022-04-24T03:07:37.324Z"
   },
   {
    "duration": 11,
    "start_time": "2022-04-24T03:07:37.330Z"
   },
   {
    "duration": 3066,
    "start_time": "2022-04-24T03:07:37.343Z"
   },
   {
    "duration": 18,
    "start_time": "2022-04-24T03:07:40.411Z"
   },
   {
    "duration": 44,
    "start_time": "2022-04-24T03:07:40.431Z"
   },
   {
    "duration": 17,
    "start_time": "2022-04-24T03:07:40.477Z"
   },
   {
    "duration": 36,
    "start_time": "2022-04-24T03:07:40.496Z"
   },
   {
    "duration": 61,
    "start_time": "2022-04-24T03:07:40.534Z"
   },
   {
    "duration": 37,
    "start_time": "2022-04-24T03:07:40.597Z"
   },
   {
    "duration": 54,
    "start_time": "2022-04-24T03:07:40.636Z"
   },
   {
    "duration": 2718,
    "start_time": "2022-04-24T03:07:40.694Z"
   },
   {
    "duration": 5921,
    "start_time": "2022-04-24T03:07:43.415Z"
   },
   {
    "duration": 2454,
    "start_time": "2022-04-24T03:07:49.338Z"
   },
   {
    "duration": 73,
    "start_time": "2022-04-24T03:09:42.612Z"
   },
   {
    "duration": 1605,
    "start_time": "2022-04-24T03:10:09.686Z"
   },
   {
    "duration": 371,
    "start_time": "2022-04-24T03:10:11.294Z"
   },
   {
    "duration": 190,
    "start_time": "2022-04-24T03:10:11.668Z"
   },
   {
    "duration": 72,
    "start_time": "2022-04-24T03:10:11.862Z"
   },
   {
    "duration": 155,
    "start_time": "2022-04-24T03:10:11.937Z"
   },
   {
    "duration": 95,
    "start_time": "2022-04-24T03:10:12.094Z"
   },
   {
    "duration": 19,
    "start_time": "2022-04-24T03:10:12.192Z"
   },
   {
    "duration": 10,
    "start_time": "2022-04-24T03:10:12.225Z"
   },
   {
    "duration": 20,
    "start_time": "2022-04-24T03:10:12.237Z"
   },
   {
    "duration": 6,
    "start_time": "2022-04-24T03:10:12.261Z"
   },
   {
    "duration": 9,
    "start_time": "2022-04-24T03:10:12.268Z"
   },
   {
    "duration": 8,
    "start_time": "2022-04-24T03:10:12.280Z"
   },
   {
    "duration": 9,
    "start_time": "2022-04-24T03:10:12.290Z"
   },
   {
    "duration": 9,
    "start_time": "2022-04-24T03:10:12.325Z"
   },
   {
    "duration": 20,
    "start_time": "2022-04-24T03:10:12.336Z"
   },
   {
    "duration": 8,
    "start_time": "2022-04-24T03:10:12.358Z"
   },
   {
    "duration": 12,
    "start_time": "2022-04-24T03:10:12.369Z"
   },
   {
    "duration": 9,
    "start_time": "2022-04-24T03:10:12.383Z"
   },
   {
    "duration": 11,
    "start_time": "2022-04-24T03:10:12.395Z"
   },
   {
    "duration": 1524,
    "start_time": "2022-04-24T03:14:35.240Z"
   },
   {
    "duration": 364,
    "start_time": "2022-04-24T03:14:36.767Z"
   },
   {
    "duration": 196,
    "start_time": "2022-04-24T03:14:37.134Z"
   },
   {
    "duration": 54,
    "start_time": "2022-04-24T03:14:37.335Z"
   },
   {
    "duration": 163,
    "start_time": "2022-04-24T03:14:37.392Z"
   },
   {
    "duration": 101,
    "start_time": "2022-04-24T03:14:37.557Z"
   },
   {
    "duration": 20,
    "start_time": "2022-04-24T03:14:37.660Z"
   },
   {
    "duration": 22,
    "start_time": "2022-04-24T03:14:37.682Z"
   },
   {
    "duration": 29,
    "start_time": "2022-04-24T03:14:37.707Z"
   },
   {
    "duration": 17,
    "start_time": "2022-04-24T03:14:37.740Z"
   },
   {
    "duration": 36,
    "start_time": "2022-04-24T03:14:37.759Z"
   },
   {
    "duration": 11,
    "start_time": "2022-04-24T03:14:37.798Z"
   },
   {
    "duration": 10,
    "start_time": "2022-04-24T03:14:37.811Z"
   },
   {
    "duration": 29,
    "start_time": "2022-04-24T03:14:37.823Z"
   },
   {
    "duration": 21,
    "start_time": "2022-04-24T03:14:37.854Z"
   },
   {
    "duration": 22,
    "start_time": "2022-04-24T03:14:37.877Z"
   },
   {
    "duration": 12,
    "start_time": "2022-04-24T03:14:37.901Z"
   },
   {
    "duration": 6,
    "start_time": "2022-04-24T03:14:37.916Z"
   },
   {
    "duration": 11,
    "start_time": "2022-04-24T03:14:37.924Z"
   },
   {
    "duration": 3156,
    "start_time": "2022-04-24T03:14:37.937Z"
   },
   {
    "duration": 13,
    "start_time": "2022-04-24T03:14:41.095Z"
   },
   {
    "duration": 50,
    "start_time": "2022-04-24T03:14:41.110Z"
   },
   {
    "duration": 16,
    "start_time": "2022-04-24T03:14:41.162Z"
   },
   {
    "duration": 14,
    "start_time": "2022-04-24T03:14:41.180Z"
   },
   {
    "duration": 55,
    "start_time": "2022-04-24T03:14:41.224Z"
   },
   {
    "duration": 45,
    "start_time": "2022-04-24T03:14:41.281Z"
   },
   {
    "duration": 54,
    "start_time": "2022-04-24T03:14:41.328Z"
   },
   {
    "duration": 2740,
    "start_time": "2022-04-24T03:14:41.387Z"
   },
   {
    "duration": 6339,
    "start_time": "2022-04-24T03:14:44.130Z"
   },
   {
    "duration": 2489,
    "start_time": "2022-04-24T03:14:50.472Z"
   },
   {
    "duration": 46,
    "start_time": "2022-04-25T14:28:26.600Z"
   },
   {
    "duration": 1482,
    "start_time": "2022-04-25T14:28:33.799Z"
   },
   {
    "duration": 253,
    "start_time": "2022-04-25T14:28:35.283Z"
   },
   {
    "duration": 130,
    "start_time": "2022-04-25T14:28:35.539Z"
   },
   {
    "duration": 36,
    "start_time": "2022-04-25T14:28:35.672Z"
   },
   {
    "duration": 118,
    "start_time": "2022-04-25T14:28:35.711Z"
   },
   {
    "duration": 53,
    "start_time": "2022-04-25T14:28:35.831Z"
   },
   {
    "duration": 13,
    "start_time": "2022-04-25T14:28:35.886Z"
   },
   {
    "duration": 31,
    "start_time": "2022-04-25T14:28:35.901Z"
   },
   {
    "duration": 28,
    "start_time": "2022-04-25T14:28:35.934Z"
   },
   {
    "duration": 15,
    "start_time": "2022-04-25T14:28:35.965Z"
   },
   {
    "duration": 7,
    "start_time": "2022-04-25T14:28:35.982Z"
   },
   {
    "duration": 10,
    "start_time": "2022-04-25T14:28:35.991Z"
   },
   {
    "duration": 7,
    "start_time": "2022-04-25T14:28:36.003Z"
   },
   {
    "duration": 5,
    "start_time": "2022-04-25T14:28:36.011Z"
   },
   {
    "duration": 5,
    "start_time": "2022-04-25T14:28:36.017Z"
   },
   {
    "duration": 7,
    "start_time": "2022-04-25T14:28:36.024Z"
   },
   {
    "duration": 6,
    "start_time": "2022-04-25T14:28:36.032Z"
   },
   {
    "duration": 8,
    "start_time": "2022-04-25T14:28:36.040Z"
   },
   {
    "duration": 5,
    "start_time": "2022-04-25T14:28:36.050Z"
   },
   {
    "duration": 2042,
    "start_time": "2022-04-25T14:28:36.057Z"
   },
   {
    "duration": 3,
    "start_time": "2022-04-25T14:28:38.101Z"
   },
   {
    "duration": 43,
    "start_time": "2022-04-25T14:28:38.106Z"
   },
   {
    "duration": 10,
    "start_time": "2022-04-25T14:28:38.152Z"
   },
   {
    "duration": 11,
    "start_time": "2022-04-25T14:28:38.164Z"
   },
   {
    "duration": 72,
    "start_time": "2022-04-25T14:28:38.177Z"
   },
   {
    "duration": 17,
    "start_time": "2022-04-25T14:28:38.251Z"
   },
   {
    "duration": 40,
    "start_time": "2022-04-25T14:28:38.269Z"
   },
   {
    "duration": 2066,
    "start_time": "2022-04-25T14:28:38.329Z"
   },
   {
    "duration": 4122,
    "start_time": "2022-04-25T14:28:40.397Z"
   },
   {
    "duration": 1745,
    "start_time": "2022-04-25T14:28:44.522Z"
   },
   {
    "duration": 1680,
    "start_time": "2022-04-25T14:29:20.644Z"
   },
   {
    "duration": 315,
    "start_time": "2022-04-25T14:29:22.328Z"
   },
   {
    "duration": 161,
    "start_time": "2022-04-25T14:29:22.646Z"
   },
   {
    "duration": 57,
    "start_time": "2022-04-25T14:29:22.809Z"
   },
   {
    "duration": 138,
    "start_time": "2022-04-25T14:29:22.870Z"
   },
   {
    "duration": 114,
    "start_time": "2022-04-25T14:29:23.011Z"
   },
   {
    "duration": 21,
    "start_time": "2022-04-25T14:29:23.127Z"
   },
   {
    "duration": 14,
    "start_time": "2022-04-25T14:29:23.150Z"
   },
   {
    "duration": 31,
    "start_time": "2022-04-25T14:29:23.165Z"
   },
   {
    "duration": 16,
    "start_time": "2022-04-25T14:29:23.199Z"
   },
   {
    "duration": 11,
    "start_time": "2022-04-25T14:29:23.218Z"
   },
   {
    "duration": 9,
    "start_time": "2022-04-25T14:29:23.232Z"
   },
   {
    "duration": 13,
    "start_time": "2022-04-25T14:29:23.243Z"
   },
   {
    "duration": 7,
    "start_time": "2022-04-25T14:29:23.258Z"
   },
   {
    "duration": 7,
    "start_time": "2022-04-25T14:29:23.267Z"
   },
   {
    "duration": 9,
    "start_time": "2022-04-25T14:29:23.276Z"
   },
   {
    "duration": 8,
    "start_time": "2022-04-25T14:29:23.288Z"
   },
   {
    "duration": 7,
    "start_time": "2022-04-25T14:29:23.299Z"
   },
   {
    "duration": 8,
    "start_time": "2022-04-25T14:29:23.308Z"
   },
   {
    "duration": 2092,
    "start_time": "2022-04-25T14:29:23.318Z"
   },
   {
    "duration": 5,
    "start_time": "2022-04-25T14:29:25.412Z"
   },
   {
    "duration": 33,
    "start_time": "2022-04-25T14:29:25.423Z"
   },
   {
    "duration": 11,
    "start_time": "2022-04-25T14:29:25.459Z"
   },
   {
    "duration": 16,
    "start_time": "2022-04-25T14:29:25.472Z"
   },
   {
    "duration": 77,
    "start_time": "2022-04-25T14:29:25.490Z"
   },
   {
    "duration": 25,
    "start_time": "2022-04-25T14:29:25.570Z"
   },
   {
    "duration": 51,
    "start_time": "2022-04-25T14:29:25.598Z"
   },
   {
    "duration": 2066,
    "start_time": "2022-04-25T14:29:25.653Z"
   },
   {
    "duration": 4254,
    "start_time": "2022-04-25T14:29:27.724Z"
   },
   {
    "duration": 1835,
    "start_time": "2022-04-25T14:29:31.979Z"
   },
   {
    "duration": 3,
    "start_time": "2022-04-25T14:29:33.816Z"
   },
   {
    "duration": 8,
    "start_time": "2022-04-25T14:29:33.823Z"
   },
   {
    "duration": 11,
    "start_time": "2022-04-25T14:29:33.833Z"
   },
   {
    "duration": 8,
    "start_time": "2022-04-25T14:29:33.846Z"
   },
   {
    "duration": 12,
    "start_time": "2022-04-25T14:29:33.856Z"
   },
   {
    "duration": 7,
    "start_time": "2022-04-25T14:29:33.870Z"
   },
   {
    "duration": 8,
    "start_time": "2022-04-25T14:29:33.879Z"
   },
   {
    "duration": 7,
    "start_time": "2022-04-25T14:29:33.888Z"
   },
   {
    "duration": 11,
    "start_time": "2022-04-25T14:29:33.897Z"
   },
   {
    "duration": 10,
    "start_time": "2022-04-25T14:29:33.910Z"
   },
   {
    "duration": 12,
    "start_time": "2022-04-25T14:29:33.922Z"
   },
   {
    "duration": 3171,
    "start_time": "2022-04-25T14:31:47.214Z"
   },
   {
    "duration": 2356,
    "start_time": "2022-04-25T14:32:08.071Z"
   },
   {
    "duration": 2254,
    "start_time": "2022-04-25T14:33:00.096Z"
   },
   {
    "duration": 1647,
    "start_time": "2022-04-25T14:34:40.138Z"
   },
   {
    "duration": 394,
    "start_time": "2022-04-25T14:34:41.788Z"
   },
   {
    "duration": 119,
    "start_time": "2022-04-25T14:34:42.184Z"
   },
   {
    "duration": 45,
    "start_time": "2022-04-25T14:34:42.306Z"
   },
   {
    "duration": 107,
    "start_time": "2022-04-25T14:34:42.352Z"
   },
   {
    "duration": 51,
    "start_time": "2022-04-25T14:34:42.461Z"
   },
   {
    "duration": 22,
    "start_time": "2022-04-25T14:34:42.514Z"
   },
   {
    "duration": 7,
    "start_time": "2022-04-25T14:34:42.538Z"
   },
   {
    "duration": 17,
    "start_time": "2022-04-25T14:34:42.547Z"
   },
   {
    "duration": 7,
    "start_time": "2022-04-25T14:34:42.568Z"
   },
   {
    "duration": 7,
    "start_time": "2022-04-25T14:34:42.577Z"
   },
   {
    "duration": 4,
    "start_time": "2022-04-25T14:34:42.586Z"
   },
   {
    "duration": 31,
    "start_time": "2022-04-25T14:34:42.592Z"
   },
   {
    "duration": 2,
    "start_time": "2022-04-25T14:34:42.625Z"
   },
   {
    "duration": 5,
    "start_time": "2022-04-25T14:34:42.629Z"
   },
   {
    "duration": 5,
    "start_time": "2022-04-25T14:34:42.635Z"
   },
   {
    "duration": 6,
    "start_time": "2022-04-25T14:34:42.641Z"
   },
   {
    "duration": 5,
    "start_time": "2022-04-25T14:34:42.649Z"
   },
   {
    "duration": 8,
    "start_time": "2022-04-25T14:34:42.655Z"
   },
   {
    "duration": 2011,
    "start_time": "2022-04-25T14:34:42.665Z"
   },
   {
    "duration": 5,
    "start_time": "2022-04-25T14:34:44.678Z"
   },
   {
    "duration": 43,
    "start_time": "2022-04-25T14:34:44.685Z"
   },
   {
    "duration": 11,
    "start_time": "2022-04-25T14:34:44.730Z"
   },
   {
    "duration": 9,
    "start_time": "2022-04-25T14:34:44.743Z"
   },
   {
    "duration": 73,
    "start_time": "2022-04-25T14:34:44.754Z"
   },
   {
    "duration": 28,
    "start_time": "2022-04-25T14:34:44.829Z"
   },
   {
    "duration": 40,
    "start_time": "2022-04-25T14:34:44.859Z"
   },
   {
    "duration": 2137,
    "start_time": "2022-04-25T14:34:44.902Z"
   },
   {
    "duration": 3983,
    "start_time": "2022-04-25T14:34:47.041Z"
   },
   {
    "duration": 1743,
    "start_time": "2022-04-25T14:34:51.027Z"
   },
   {
    "duration": 3,
    "start_time": "2022-04-25T14:34:52.772Z"
   },
   {
    "duration": 8,
    "start_time": "2022-04-25T14:34:52.777Z"
   },
   {
    "duration": 5,
    "start_time": "2022-04-25T14:34:52.787Z"
   },
   {
    "duration": 5,
    "start_time": "2022-04-25T14:34:52.794Z"
   },
   {
    "duration": 23,
    "start_time": "2022-04-25T14:34:52.801Z"
   },
   {
    "duration": 2,
    "start_time": "2022-04-25T14:34:52.827Z"
   },
   {
    "duration": 5,
    "start_time": "2022-04-25T14:34:52.832Z"
   },
   {
    "duration": 6,
    "start_time": "2022-04-25T14:34:52.839Z"
   },
   {
    "duration": 6,
    "start_time": "2022-04-25T14:34:52.847Z"
   },
   {
    "duration": 9,
    "start_time": "2022-04-25T14:34:52.855Z"
   },
   {
    "duration": 7,
    "start_time": "2022-04-25T14:34:52.866Z"
   },
   {
    "duration": 8,
    "start_time": "2022-04-25T14:34:52.875Z"
   },
   {
    "duration": 49,
    "start_time": "2022-04-25T14:39:32.745Z"
   },
   {
    "duration": 1282,
    "start_time": "2022-04-25T14:39:42.300Z"
   },
   {
    "duration": 319,
    "start_time": "2022-04-25T14:39:43.585Z"
   },
   {
    "duration": 123,
    "start_time": "2022-04-25T14:39:43.906Z"
   },
   {
    "duration": 36,
    "start_time": "2022-04-25T14:39:44.031Z"
   },
   {
    "duration": 117,
    "start_time": "2022-04-25T14:39:44.069Z"
   },
   {
    "duration": 70,
    "start_time": "2022-04-25T14:39:44.188Z"
   },
   {
    "duration": 21,
    "start_time": "2022-04-25T14:39:44.261Z"
   },
   {
    "duration": 11,
    "start_time": "2022-04-25T14:39:44.285Z"
   },
   {
    "duration": 35,
    "start_time": "2022-04-25T14:39:44.298Z"
   },
   {
    "duration": 4,
    "start_time": "2022-04-25T14:39:44.336Z"
   },
   {
    "duration": 5,
    "start_time": "2022-04-25T14:39:44.341Z"
   },
   {
    "duration": 6,
    "start_time": "2022-04-25T14:39:44.348Z"
   },
   {
    "duration": 5,
    "start_time": "2022-04-25T14:39:44.356Z"
   },
   {
    "duration": 5,
    "start_time": "2022-04-25T14:39:44.363Z"
   },
   {
    "duration": 6,
    "start_time": "2022-04-25T14:39:44.369Z"
   },
   {
    "duration": 4,
    "start_time": "2022-04-25T14:39:44.377Z"
   },
   {
    "duration": 4,
    "start_time": "2022-04-25T14:39:44.383Z"
   },
   {
    "duration": 35,
    "start_time": "2022-04-25T14:39:44.389Z"
   },
   {
    "duration": 3,
    "start_time": "2022-04-25T14:39:44.427Z"
   },
   {
    "duration": 2880,
    "start_time": "2022-04-25T14:39:44.433Z"
   },
   {
    "duration": 10,
    "start_time": "2022-04-25T14:39:47.316Z"
   },
   {
    "duration": 44,
    "start_time": "2022-04-25T14:39:47.329Z"
   },
   {
    "duration": 18,
    "start_time": "2022-04-25T14:39:47.375Z"
   },
   {
    "duration": 39,
    "start_time": "2022-04-25T14:39:47.396Z"
   },
   {
    "duration": 62,
    "start_time": "2022-04-25T14:39:47.437Z"
   },
   {
    "duration": 34,
    "start_time": "2022-04-25T14:39:47.502Z"
   },
   {
    "duration": 39,
    "start_time": "2022-04-25T14:39:47.539Z"
   },
   {
    "duration": 2208,
    "start_time": "2022-04-25T14:39:47.581Z"
   },
   {
    "duration": 3769,
    "start_time": "2022-04-25T14:39:49.791Z"
   },
   {
    "duration": 514,
    "start_time": "2022-04-25T14:39:53.562Z"
   },
   {
    "duration": 2154,
    "start_time": "2022-04-25T14:39:54.078Z"
   },
   {
    "duration": 4,
    "start_time": "2022-04-25T14:39:56.234Z"
   },
   {
    "duration": 6,
    "start_time": "2022-04-25T14:39:56.240Z"
   },
   {
    "duration": 6,
    "start_time": "2022-04-25T14:39:56.248Z"
   },
   {
    "duration": 5,
    "start_time": "2022-04-25T14:39:56.256Z"
   },
   {
    "duration": 5,
    "start_time": "2022-04-25T14:39:56.263Z"
   },
   {
    "duration": 15,
    "start_time": "2022-04-25T14:39:56.270Z"
   },
   {
    "duration": 5,
    "start_time": "2022-04-25T14:39:56.287Z"
   },
   {
    "duration": 7,
    "start_time": "2022-04-25T14:39:56.294Z"
   },
   {
    "duration": 12,
    "start_time": "2022-04-25T14:39:56.303Z"
   },
   {
    "duration": 5,
    "start_time": "2022-04-25T14:39:56.324Z"
   },
   {
    "duration": 10,
    "start_time": "2022-04-25T14:39:56.330Z"
   },
   {
    "duration": 6,
    "start_time": "2022-04-25T14:39:56.341Z"
   },
   {
    "duration": 48,
    "start_time": "2022-04-25T15:00:33.373Z"
   },
   {
    "duration": 1572,
    "start_time": "2022-04-25T15:00:41.620Z"
   },
   {
    "duration": 438,
    "start_time": "2022-04-25T15:00:43.195Z"
   },
   {
    "duration": 232,
    "start_time": "2022-04-25T15:00:43.635Z"
   },
   {
    "duration": 61,
    "start_time": "2022-04-25T15:00:43.871Z"
   },
   {
    "duration": 118,
    "start_time": "2022-04-25T15:00:43.934Z"
   },
   {
    "duration": 89,
    "start_time": "2022-04-25T15:00:44.054Z"
   },
   {
    "duration": 14,
    "start_time": "2022-04-25T15:00:44.145Z"
   },
   {
    "duration": 15,
    "start_time": "2022-04-25T15:00:44.162Z"
   },
   {
    "duration": 44,
    "start_time": "2022-04-25T15:00:44.180Z"
   },
   {
    "duration": 4,
    "start_time": "2022-04-25T15:00:44.229Z"
   },
   {
    "duration": 20,
    "start_time": "2022-04-25T15:00:44.236Z"
   },
   {
    "duration": 5,
    "start_time": "2022-04-25T15:00:44.258Z"
   },
   {
    "duration": 10,
    "start_time": "2022-04-25T15:00:44.265Z"
   },
   {
    "duration": 8,
    "start_time": "2022-04-25T15:00:44.277Z"
   },
   {
    "duration": 8,
    "start_time": "2022-04-25T15:00:44.288Z"
   },
   {
    "duration": 5,
    "start_time": "2022-04-25T15:00:44.298Z"
   },
   {
    "duration": 18,
    "start_time": "2022-04-25T15:00:44.306Z"
   },
   {
    "duration": 4,
    "start_time": "2022-04-25T15:00:44.327Z"
   },
   {
    "duration": 11,
    "start_time": "2022-04-25T15:00:44.332Z"
   },
   {
    "duration": 67,
    "start_time": "2022-04-25T15:00:44.345Z"
   },
   {
    "duration": 142,
    "start_time": "2022-04-25T15:00:44.424Z"
   },
   {
    "duration": 0,
    "start_time": "2022-04-25T15:00:44.568Z"
   },
   {
    "duration": 0,
    "start_time": "2022-04-25T15:00:44.570Z"
   },
   {
    "duration": 0,
    "start_time": "2022-04-25T15:00:44.571Z"
   },
   {
    "duration": 0,
    "start_time": "2022-04-25T15:00:44.573Z"
   },
   {
    "duration": 0,
    "start_time": "2022-04-25T15:00:44.574Z"
   },
   {
    "duration": 0,
    "start_time": "2022-04-25T15:00:44.576Z"
   },
   {
    "duration": 1,
    "start_time": "2022-04-25T15:00:44.577Z"
   },
   {
    "duration": 0,
    "start_time": "2022-04-25T15:00:44.579Z"
   },
   {
    "duration": 0,
    "start_time": "2022-04-25T15:00:44.581Z"
   },
   {
    "duration": 0,
    "start_time": "2022-04-25T15:00:44.582Z"
   },
   {
    "duration": 0,
    "start_time": "2022-04-25T15:00:44.584Z"
   },
   {
    "duration": 0,
    "start_time": "2022-04-25T15:00:44.585Z"
   },
   {
    "duration": 0,
    "start_time": "2022-04-25T15:00:44.587Z"
   },
   {
    "duration": 0,
    "start_time": "2022-04-25T15:00:44.588Z"
   },
   {
    "duration": 0,
    "start_time": "2022-04-25T15:00:44.590Z"
   },
   {
    "duration": 0,
    "start_time": "2022-04-25T15:00:44.591Z"
   },
   {
    "duration": 0,
    "start_time": "2022-04-25T15:00:44.624Z"
   },
   {
    "duration": 0,
    "start_time": "2022-04-25T15:00:44.626Z"
   },
   {
    "duration": 0,
    "start_time": "2022-04-25T15:00:44.627Z"
   },
   {
    "duration": 0,
    "start_time": "2022-04-25T15:00:44.629Z"
   },
   {
    "duration": 0,
    "start_time": "2022-04-25T15:00:44.630Z"
   },
   {
    "duration": 0,
    "start_time": "2022-04-25T15:00:44.632Z"
   },
   {
    "duration": 41,
    "start_time": "2022-04-25T15:02:14.061Z"
   },
   {
    "duration": 2140,
    "start_time": "2022-04-25T15:02:44.808Z"
   },
   {
    "duration": 6,
    "start_time": "2022-04-25T15:02:47.284Z"
   },
   {
    "duration": 29,
    "start_time": "2022-04-25T15:02:52.815Z"
   },
   {
    "duration": 12,
    "start_time": "2022-04-25T15:03:01.191Z"
   },
   {
    "duration": 1500,
    "start_time": "2022-04-25T15:03:12.192Z"
   },
   {
    "duration": 290,
    "start_time": "2022-04-25T15:03:13.695Z"
   },
   {
    "duration": 185,
    "start_time": "2022-04-25T15:03:13.987Z"
   },
   {
    "duration": 62,
    "start_time": "2022-04-25T15:03:14.175Z"
   },
   {
    "duration": 149,
    "start_time": "2022-04-25T15:03:14.239Z"
   },
   {
    "duration": 64,
    "start_time": "2022-04-25T15:03:14.390Z"
   },
   {
    "duration": 20,
    "start_time": "2022-04-25T15:03:14.457Z"
   },
   {
    "duration": 7,
    "start_time": "2022-04-25T15:03:14.479Z"
   },
   {
    "duration": 40,
    "start_time": "2022-04-25T15:03:14.488Z"
   },
   {
    "duration": 23,
    "start_time": "2022-04-25T15:03:14.532Z"
   },
   {
    "duration": 4,
    "start_time": "2022-04-25T15:03:14.558Z"
   },
   {
    "duration": 8,
    "start_time": "2022-04-25T15:03:14.564Z"
   },
   {
    "duration": 7,
    "start_time": "2022-04-25T15:03:14.573Z"
   },
   {
    "duration": 9,
    "start_time": "2022-04-25T15:03:14.581Z"
   },
   {
    "duration": 4,
    "start_time": "2022-04-25T15:03:14.592Z"
   },
   {
    "duration": 7,
    "start_time": "2022-04-25T15:03:14.598Z"
   },
   {
    "duration": 5,
    "start_time": "2022-04-25T15:03:14.607Z"
   },
   {
    "duration": 6,
    "start_time": "2022-04-25T15:03:14.614Z"
   },
   {
    "duration": 25,
    "start_time": "2022-04-25T15:03:14.623Z"
   },
   {
    "duration": 2019,
    "start_time": "2022-04-25T15:03:14.650Z"
   },
   {
    "duration": 4,
    "start_time": "2022-04-25T15:03:16.671Z"
   },
   {
    "duration": 31,
    "start_time": "2022-04-25T15:03:16.677Z"
   },
   {
    "duration": 25,
    "start_time": "2022-04-25T15:03:16.709Z"
   },
   {
    "duration": 18,
    "start_time": "2022-04-25T15:03:16.736Z"
   },
   {
    "duration": 69,
    "start_time": "2022-04-25T15:03:16.755Z"
   },
   {
    "duration": 23,
    "start_time": "2022-04-25T15:03:16.827Z"
   },
   {
    "duration": 84,
    "start_time": "2022-04-25T15:03:16.853Z"
   },
   {
    "duration": 2509,
    "start_time": "2022-04-25T15:03:16.942Z"
   },
   {
    "duration": 5464,
    "start_time": "2022-04-25T15:03:19.453Z"
   },
   {
    "duration": 699,
    "start_time": "2022-04-25T15:03:24.924Z"
   },
   {
    "duration": 2290,
    "start_time": "2022-04-25T15:03:25.626Z"
   },
   {
    "duration": 14,
    "start_time": "2022-04-25T15:12:20.321Z"
   },
   {
    "duration": 131,
    "start_time": "2022-04-25T15:13:12.156Z"
   },
   {
    "duration": 64,
    "start_time": "2022-04-25T15:13:39.704Z"
   },
   {
    "duration": 1759,
    "start_time": "2022-04-25T15:13:51.133Z"
   },
   {
    "duration": 371,
    "start_time": "2022-04-25T15:13:52.895Z"
   },
   {
    "duration": 120,
    "start_time": "2022-04-25T15:13:53.269Z"
   },
   {
    "duration": 66,
    "start_time": "2022-04-25T15:13:53.392Z"
   },
   {
    "duration": 144,
    "start_time": "2022-04-25T15:13:53.460Z"
   },
   {
    "duration": 86,
    "start_time": "2022-04-25T15:13:53.606Z"
   },
   {
    "duration": 37,
    "start_time": "2022-04-25T15:13:53.694Z"
   },
   {
    "duration": 11,
    "start_time": "2022-04-25T15:13:53.733Z"
   },
   {
    "duration": 23,
    "start_time": "2022-04-25T15:13:53.747Z"
   },
   {
    "duration": 4,
    "start_time": "2022-04-25T15:13:53.774Z"
   },
   {
    "duration": 5,
    "start_time": "2022-04-25T15:13:53.780Z"
   },
   {
    "duration": 37,
    "start_time": "2022-04-25T15:13:53.787Z"
   },
   {
    "duration": 3,
    "start_time": "2022-04-25T15:13:53.827Z"
   },
   {
    "duration": 8,
    "start_time": "2022-04-25T15:13:53.832Z"
   },
   {
    "duration": 6,
    "start_time": "2022-04-25T15:13:53.842Z"
   },
   {
    "duration": 9,
    "start_time": "2022-04-25T15:13:53.850Z"
   },
   {
    "duration": 5,
    "start_time": "2022-04-25T15:13:53.862Z"
   },
   {
    "duration": 8,
    "start_time": "2022-04-25T15:13:53.869Z"
   },
   {
    "duration": 11,
    "start_time": "2022-04-25T15:13:53.879Z"
   },
   {
    "duration": 2434,
    "start_time": "2022-04-25T15:13:53.893Z"
   },
   {
    "duration": 4,
    "start_time": "2022-04-25T15:13:56.330Z"
   },
   {
    "duration": 34,
    "start_time": "2022-04-25T15:13:56.335Z"
   },
   {
    "duration": 12,
    "start_time": "2022-04-25T15:13:56.371Z"
   },
   {
    "duration": 10,
    "start_time": "2022-04-25T15:13:56.385Z"
   },
   {
    "duration": 68,
    "start_time": "2022-04-25T15:13:56.425Z"
   },
   {
    "duration": 38,
    "start_time": "2022-04-25T15:13:56.495Z"
   },
   {
    "duration": 62,
    "start_time": "2022-04-25T15:13:56.535Z"
   },
   {
    "duration": 2452,
    "start_time": "2022-04-25T15:13:56.603Z"
   },
   {
    "duration": 5457,
    "start_time": "2022-04-25T15:13:59.057Z"
   },
   {
    "duration": 606,
    "start_time": "2022-04-25T15:14:04.523Z"
   },
   {
    "duration": 1788,
    "start_time": "2022-04-25T15:14:05.130Z"
   },
   {
    "duration": 108,
    "start_time": "2022-04-25T15:14:06.924Z"
   },
   {
    "duration": 0,
    "start_time": "2022-04-25T15:14:07.034Z"
   },
   {
    "duration": 0,
    "start_time": "2022-04-25T15:14:07.036Z"
   },
   {
    "duration": 0,
    "start_time": "2022-04-25T15:14:07.037Z"
   },
   {
    "duration": 0,
    "start_time": "2022-04-25T15:14:07.038Z"
   },
   {
    "duration": 0,
    "start_time": "2022-04-25T15:14:07.040Z"
   },
   {
    "duration": 0,
    "start_time": "2022-04-25T15:14:07.041Z"
   },
   {
    "duration": 0,
    "start_time": "2022-04-25T15:14:07.043Z"
   },
   {
    "duration": 0,
    "start_time": "2022-04-25T15:14:07.045Z"
   },
   {
    "duration": 0,
    "start_time": "2022-04-25T15:14:07.047Z"
   },
   {
    "duration": 0,
    "start_time": "2022-04-25T15:14:07.048Z"
   },
   {
    "duration": 0,
    "start_time": "2022-04-25T15:14:07.049Z"
   },
   {
    "duration": 1234,
    "start_time": "2022-04-25T15:15:15.307Z"
   },
   {
    "duration": 348,
    "start_time": "2022-04-25T15:15:16.543Z"
   },
   {
    "duration": 197,
    "start_time": "2022-04-25T15:15:16.894Z"
   },
   {
    "duration": 72,
    "start_time": "2022-04-25T15:15:17.094Z"
   },
   {
    "duration": 163,
    "start_time": "2022-04-25T15:15:17.168Z"
   },
   {
    "duration": 63,
    "start_time": "2022-04-25T15:15:17.333Z"
   },
   {
    "duration": 37,
    "start_time": "2022-04-25T15:15:17.397Z"
   },
   {
    "duration": 27,
    "start_time": "2022-04-25T15:15:17.436Z"
   },
   {
    "duration": 20,
    "start_time": "2022-04-25T15:15:17.465Z"
   },
   {
    "duration": 29,
    "start_time": "2022-04-25T15:15:17.489Z"
   },
   {
    "duration": 17,
    "start_time": "2022-04-25T15:15:17.520Z"
   },
   {
    "duration": 12,
    "start_time": "2022-04-25T15:15:17.538Z"
   },
   {
    "duration": 20,
    "start_time": "2022-04-25T15:15:17.552Z"
   },
   {
    "duration": 11,
    "start_time": "2022-04-25T15:15:17.574Z"
   },
   {
    "duration": 16,
    "start_time": "2022-04-25T15:15:17.587Z"
   },
   {
    "duration": 22,
    "start_time": "2022-04-25T15:15:17.606Z"
   },
   {
    "duration": 20,
    "start_time": "2022-04-25T15:15:17.630Z"
   },
   {
    "duration": 22,
    "start_time": "2022-04-25T15:15:17.652Z"
   },
   {
    "duration": 11,
    "start_time": "2022-04-25T15:15:17.676Z"
   },
   {
    "duration": 2047,
    "start_time": "2022-04-25T15:15:17.689Z"
   },
   {
    "duration": 4,
    "start_time": "2022-04-25T15:15:19.738Z"
   },
   {
    "duration": 56,
    "start_time": "2022-04-25T15:15:19.744Z"
   },
   {
    "duration": 27,
    "start_time": "2022-04-25T15:15:19.803Z"
   },
   {
    "duration": 13,
    "start_time": "2022-04-25T15:15:19.833Z"
   },
   {
    "duration": 74,
    "start_time": "2022-04-25T15:15:19.849Z"
   },
   {
    "duration": 27,
    "start_time": "2022-04-25T15:15:19.926Z"
   },
   {
    "duration": 41,
    "start_time": "2022-04-25T15:15:19.955Z"
   },
   {
    "duration": 2075,
    "start_time": "2022-04-25T15:15:19.999Z"
   },
   {
    "duration": 3585,
    "start_time": "2022-04-25T15:15:22.076Z"
   },
   {
    "duration": 512,
    "start_time": "2022-04-25T15:15:25.663Z"
   },
   {
    "duration": 1881,
    "start_time": "2022-04-25T15:15:26.177Z"
   },
   {
    "duration": 1266,
    "start_time": "2022-04-25T15:16:36.110Z"
   },
   {
    "duration": 277,
    "start_time": "2022-04-25T15:16:37.378Z"
   },
   {
    "duration": 245,
    "start_time": "2022-04-25T15:16:37.657Z"
   },
   {
    "duration": 78,
    "start_time": "2022-04-25T15:16:37.905Z"
   },
   {
    "duration": 187,
    "start_time": "2022-04-25T15:16:37.985Z"
   },
   {
    "duration": 70,
    "start_time": "2022-04-25T15:16:38.174Z"
   },
   {
    "duration": 18,
    "start_time": "2022-04-25T15:16:38.246Z"
   },
   {
    "duration": 11,
    "start_time": "2022-04-25T15:16:38.266Z"
   },
   {
    "duration": 24,
    "start_time": "2022-04-25T15:16:38.279Z"
   },
   {
    "duration": 2,
    "start_time": "2022-04-25T15:16:38.327Z"
   },
   {
    "duration": 8,
    "start_time": "2022-04-25T15:16:38.331Z"
   },
   {
    "duration": 10,
    "start_time": "2022-04-25T15:16:38.341Z"
   },
   {
    "duration": 6,
    "start_time": "2022-04-25T15:16:38.353Z"
   },
   {
    "duration": 6,
    "start_time": "2022-04-25T15:16:38.361Z"
   },
   {
    "duration": 5,
    "start_time": "2022-04-25T15:16:38.369Z"
   },
   {
    "duration": 5,
    "start_time": "2022-04-25T15:16:38.377Z"
   },
   {
    "duration": 5,
    "start_time": "2022-04-25T15:16:38.384Z"
   },
   {
    "duration": 7,
    "start_time": "2022-04-25T15:16:38.391Z"
   },
   {
    "duration": 6,
    "start_time": "2022-04-25T15:16:38.400Z"
   },
   {
    "duration": 2198,
    "start_time": "2022-04-25T15:16:38.425Z"
   },
   {
    "duration": 6,
    "start_time": "2022-04-25T15:16:40.626Z"
   },
   {
    "duration": 34,
    "start_time": "2022-04-25T15:16:40.633Z"
   },
   {
    "duration": 11,
    "start_time": "2022-04-25T15:16:40.669Z"
   },
   {
    "duration": 10,
    "start_time": "2022-04-25T15:16:40.682Z"
   },
   {
    "duration": 67,
    "start_time": "2022-04-25T15:16:40.694Z"
   },
   {
    "duration": 17,
    "start_time": "2022-04-25T15:16:40.763Z"
   },
   {
    "duration": 68,
    "start_time": "2022-04-25T15:16:40.781Z"
   },
   {
    "duration": 2103,
    "start_time": "2022-04-25T15:16:40.853Z"
   },
   {
    "duration": 3507,
    "start_time": "2022-04-25T15:16:42.958Z"
   },
   {
    "duration": 614,
    "start_time": "2022-04-25T15:16:46.467Z"
   },
   {
    "duration": 1818,
    "start_time": "2022-04-25T15:16:47.082Z"
   },
   {
    "duration": 4,
    "start_time": "2022-04-25T15:16:48.902Z"
   },
   {
    "duration": 0,
    "start_time": "2022-04-25T15:16:48.908Z"
   },
   {
    "duration": 0,
    "start_time": "2022-04-25T15:16:48.909Z"
   },
   {
    "duration": 0,
    "start_time": "2022-04-25T15:16:48.911Z"
   },
   {
    "duration": 0,
    "start_time": "2022-04-25T15:16:48.924Z"
   },
   {
    "duration": 0,
    "start_time": "2022-04-25T15:16:48.925Z"
   },
   {
    "duration": 0,
    "start_time": "2022-04-25T15:16:48.926Z"
   },
   {
    "duration": 0,
    "start_time": "2022-04-25T15:16:48.927Z"
   },
   {
    "duration": 0,
    "start_time": "2022-04-25T15:16:48.928Z"
   },
   {
    "duration": 0,
    "start_time": "2022-04-25T15:16:48.928Z"
   },
   {
    "duration": 0,
    "start_time": "2022-04-25T15:16:48.929Z"
   },
   {
    "duration": 0,
    "start_time": "2022-04-25T15:16:48.930Z"
   },
   {
    "duration": 5,
    "start_time": "2022-04-25T15:16:58.398Z"
   },
   {
    "duration": 1597,
    "start_time": "2022-04-25T15:17:25.460Z"
   },
   {
    "duration": 1228,
    "start_time": "2022-04-25T15:46:33.536Z"
   },
   {
    "duration": 258,
    "start_time": "2022-04-25T15:46:34.767Z"
   },
   {
    "duration": 129,
    "start_time": "2022-04-25T15:46:35.027Z"
   },
   {
    "duration": 38,
    "start_time": "2022-04-25T15:46:35.158Z"
   },
   {
    "duration": 126,
    "start_time": "2022-04-25T15:46:35.198Z"
   },
   {
    "duration": 57,
    "start_time": "2022-04-25T15:46:35.326Z"
   },
   {
    "duration": 14,
    "start_time": "2022-04-25T15:46:35.385Z"
   },
   {
    "duration": 13,
    "start_time": "2022-04-25T15:46:35.424Z"
   },
   {
    "duration": 19,
    "start_time": "2022-04-25T15:46:35.439Z"
   },
   {
    "duration": 5,
    "start_time": "2022-04-25T15:46:35.462Z"
   },
   {
    "duration": 5,
    "start_time": "2022-04-25T15:46:35.471Z"
   },
   {
    "duration": 5,
    "start_time": "2022-04-25T15:46:35.478Z"
   },
   {
    "duration": 10,
    "start_time": "2022-04-25T15:46:35.485Z"
   },
   {
    "duration": 10,
    "start_time": "2022-04-25T15:46:35.498Z"
   },
   {
    "duration": 12,
    "start_time": "2022-04-25T15:46:35.516Z"
   },
   {
    "duration": 7,
    "start_time": "2022-04-25T15:46:35.530Z"
   },
   {
    "duration": 9,
    "start_time": "2022-04-25T15:46:35.540Z"
   },
   {
    "duration": 6,
    "start_time": "2022-04-25T15:46:35.550Z"
   },
   {
    "duration": 14,
    "start_time": "2022-04-25T15:46:35.558Z"
   },
   {
    "duration": 1999,
    "start_time": "2022-04-25T15:46:35.574Z"
   },
   {
    "duration": 4,
    "start_time": "2022-04-25T15:46:37.575Z"
   },
   {
    "duration": 45,
    "start_time": "2022-04-25T15:46:37.581Z"
   },
   {
    "duration": 12,
    "start_time": "2022-04-25T15:46:37.628Z"
   },
   {
    "duration": 27,
    "start_time": "2022-04-25T15:46:37.641Z"
   },
   {
    "duration": 54,
    "start_time": "2022-04-25T15:46:37.671Z"
   },
   {
    "duration": 30,
    "start_time": "2022-04-25T15:46:37.727Z"
   },
   {
    "duration": 78,
    "start_time": "2022-04-25T15:46:37.759Z"
   },
   {
    "duration": 2006,
    "start_time": "2022-04-25T15:46:37.841Z"
   },
   {
    "duration": 3500,
    "start_time": "2022-04-25T15:46:39.849Z"
   },
   {
    "duration": 502,
    "start_time": "2022-04-25T15:46:43.351Z"
   },
   {
    "duration": 1717,
    "start_time": "2022-04-25T15:46:43.855Z"
   },
   {
    "duration": 1613,
    "start_time": "2022-04-25T15:46:45.574Z"
   },
   {
    "duration": 3,
    "start_time": "2022-04-25T15:46:47.188Z"
   },
   {
    "duration": 10,
    "start_time": "2022-04-25T15:46:47.193Z"
   },
   {
    "duration": 19,
    "start_time": "2022-04-25T15:46:47.205Z"
   },
   {
    "duration": 13,
    "start_time": "2022-04-25T15:46:47.226Z"
   },
   {
    "duration": 19,
    "start_time": "2022-04-25T15:46:47.241Z"
   },
   {
    "duration": 21,
    "start_time": "2022-04-25T15:46:47.262Z"
   },
   {
    "duration": 14,
    "start_time": "2022-04-25T15:46:47.285Z"
   },
   {
    "duration": 16,
    "start_time": "2022-04-25T15:46:47.301Z"
   },
   {
    "duration": 14,
    "start_time": "2022-04-25T15:46:47.319Z"
   },
   {
    "duration": 8,
    "start_time": "2022-04-25T15:46:47.334Z"
   },
   {
    "duration": 13,
    "start_time": "2022-04-25T15:46:47.343Z"
   },
   {
    "duration": 1654,
    "start_time": "2022-04-25T15:48:19.470Z"
   },
   {
    "duration": 128,
    "start_time": "2022-04-25T15:49:01.524Z"
   },
   {
    "duration": 1222,
    "start_time": "2022-04-25T15:56:13.871Z"
   },
   {
    "duration": 251,
    "start_time": "2022-04-25T15:56:15.095Z"
   },
   {
    "duration": 116,
    "start_time": "2022-04-25T15:56:15.348Z"
   },
   {
    "duration": 35,
    "start_time": "2022-04-25T15:56:15.467Z"
   },
   {
    "duration": 102,
    "start_time": "2022-04-25T15:56:15.504Z"
   },
   {
    "duration": 61,
    "start_time": "2022-04-25T15:56:15.608Z"
   },
   {
    "duration": 13,
    "start_time": "2022-04-25T15:56:15.670Z"
   },
   {
    "duration": 13,
    "start_time": "2022-04-25T15:56:15.685Z"
   },
   {
    "duration": 30,
    "start_time": "2022-04-25T15:56:15.699Z"
   },
   {
    "duration": 4,
    "start_time": "2022-04-25T15:56:15.732Z"
   },
   {
    "duration": 6,
    "start_time": "2022-04-25T15:56:15.737Z"
   },
   {
    "duration": 5,
    "start_time": "2022-04-25T15:56:15.744Z"
   },
   {
    "duration": 5,
    "start_time": "2022-04-25T15:56:15.751Z"
   },
   {
    "duration": 7,
    "start_time": "2022-04-25T15:56:15.757Z"
   },
   {
    "duration": 4,
    "start_time": "2022-04-25T15:56:15.765Z"
   },
   {
    "duration": 6,
    "start_time": "2022-04-25T15:56:15.771Z"
   },
   {
    "duration": 5,
    "start_time": "2022-04-25T15:56:15.779Z"
   },
   {
    "duration": 7,
    "start_time": "2022-04-25T15:56:15.785Z"
   },
   {
    "duration": 6,
    "start_time": "2022-04-25T15:56:15.794Z"
   },
   {
    "duration": 1971,
    "start_time": "2022-04-25T15:56:15.802Z"
   },
   {
    "duration": 4,
    "start_time": "2022-04-25T15:56:17.775Z"
   },
   {
    "duration": 28,
    "start_time": "2022-04-25T15:56:17.782Z"
   },
   {
    "duration": 26,
    "start_time": "2022-04-25T15:56:17.824Z"
   },
   {
    "duration": 11,
    "start_time": "2022-04-25T15:56:17.852Z"
   },
   {
    "duration": 40,
    "start_time": "2022-04-25T15:56:17.865Z"
   },
   {
    "duration": 29,
    "start_time": "2022-04-25T15:56:17.907Z"
   },
   {
    "duration": 37,
    "start_time": "2022-04-25T15:56:17.938Z"
   },
   {
    "duration": 1960,
    "start_time": "2022-04-25T15:56:17.978Z"
   },
   {
    "duration": 3446,
    "start_time": "2022-04-25T15:56:19.939Z"
   },
   {
    "duration": 490,
    "start_time": "2022-04-25T15:56:23.387Z"
   },
   {
    "duration": 1682,
    "start_time": "2022-04-25T15:56:23.879Z"
   },
   {
    "duration": 1589,
    "start_time": "2022-04-25T15:56:25.563Z"
   },
   {
    "duration": 3,
    "start_time": "2022-04-25T15:56:27.154Z"
   },
   {
    "duration": 9,
    "start_time": "2022-04-25T15:56:27.158Z"
   },
   {
    "duration": 8,
    "start_time": "2022-04-25T15:56:27.168Z"
   },
   {
    "duration": 10,
    "start_time": "2022-04-25T15:56:27.178Z"
   },
   {
    "duration": 7,
    "start_time": "2022-04-25T15:56:27.190Z"
   },
   {
    "duration": 7,
    "start_time": "2022-04-25T15:56:27.199Z"
   },
   {
    "duration": 7,
    "start_time": "2022-04-25T15:56:27.208Z"
   },
   {
    "duration": 6,
    "start_time": "2022-04-25T15:56:27.217Z"
   },
   {
    "duration": 6,
    "start_time": "2022-04-25T15:56:27.225Z"
   },
   {
    "duration": 8,
    "start_time": "2022-04-25T15:56:27.232Z"
   },
   {
    "duration": 6,
    "start_time": "2022-04-25T15:56:27.242Z"
   },
   {
    "duration": 3237,
    "start_time": "2022-04-25T16:13:34.045Z"
   },
   {
    "duration": 3410,
    "start_time": "2022-04-25T16:13:44.146Z"
   },
   {
    "duration": 199,
    "start_time": "2022-04-25T16:16:22.601Z"
   },
   {
    "duration": 167,
    "start_time": "2022-04-25T16:17:01.618Z"
   },
   {
    "duration": 132,
    "start_time": "2022-04-25T16:17:04.443Z"
   },
   {
    "duration": 121,
    "start_time": "2022-04-25T16:19:52.325Z"
   },
   {
    "duration": 2436,
    "start_time": "2022-04-25T16:20:10.510Z"
   },
   {
    "duration": 17,
    "start_time": "2022-04-25T16:20:31.621Z"
   },
   {
    "duration": 13,
    "start_time": "2022-04-25T16:22:45.243Z"
   },
   {
    "duration": 57,
    "start_time": "2022-04-25T16:23:15.503Z"
   },
   {
    "duration": 1640,
    "start_time": "2022-04-25T16:23:37.546Z"
   },
   {
    "duration": 381,
    "start_time": "2022-04-25T16:23:39.188Z"
   },
   {
    "duration": 132,
    "start_time": "2022-04-25T16:23:39.571Z"
   },
   {
    "duration": 66,
    "start_time": "2022-04-25T16:23:39.705Z"
   },
   {
    "duration": 121,
    "start_time": "2022-04-25T16:23:39.774Z"
   },
   {
    "duration": 73,
    "start_time": "2022-04-25T16:23:39.897Z"
   },
   {
    "duration": 23,
    "start_time": "2022-04-25T16:23:39.972Z"
   },
   {
    "duration": 7,
    "start_time": "2022-04-25T16:23:39.996Z"
   },
   {
    "duration": 37,
    "start_time": "2022-04-25T16:23:40.005Z"
   },
   {
    "duration": 13,
    "start_time": "2022-04-25T16:23:40.045Z"
   },
   {
    "duration": 12,
    "start_time": "2022-04-25T16:23:40.060Z"
   },
   {
    "duration": 5,
    "start_time": "2022-04-25T16:23:40.074Z"
   },
   {
    "duration": 9,
    "start_time": "2022-04-25T16:23:40.081Z"
   },
   {
    "duration": 15,
    "start_time": "2022-04-25T16:23:40.092Z"
   },
   {
    "duration": 11,
    "start_time": "2022-04-25T16:23:40.109Z"
   },
   {
    "duration": 29,
    "start_time": "2022-04-25T16:23:40.127Z"
   },
   {
    "duration": 26,
    "start_time": "2022-04-25T16:23:40.158Z"
   },
   {
    "duration": 21,
    "start_time": "2022-04-25T16:23:40.186Z"
   },
   {
    "duration": 16,
    "start_time": "2022-04-25T16:23:40.209Z"
   },
   {
    "duration": 2258,
    "start_time": "2022-04-25T16:23:40.227Z"
   },
   {
    "duration": 4,
    "start_time": "2022-04-25T16:23:42.487Z"
   },
   {
    "duration": 38,
    "start_time": "2022-04-25T16:23:42.493Z"
   },
   {
    "duration": 14,
    "start_time": "2022-04-25T16:23:42.533Z"
   },
   {
    "duration": 13,
    "start_time": "2022-04-25T16:23:42.549Z"
   },
   {
    "duration": 71,
    "start_time": "2022-04-25T16:23:42.564Z"
   },
   {
    "duration": 19,
    "start_time": "2022-04-25T16:23:42.637Z"
   },
   {
    "duration": 40,
    "start_time": "2022-04-25T16:23:42.658Z"
   },
   {
    "duration": 2074,
    "start_time": "2022-04-25T16:23:42.731Z"
   },
   {
    "duration": 3660,
    "start_time": "2022-04-25T16:23:44.807Z"
   },
   {
    "duration": 517,
    "start_time": "2022-04-25T16:23:48.469Z"
   },
   {
    "duration": 1832,
    "start_time": "2022-04-25T16:23:48.988Z"
   },
   {
    "duration": 2353,
    "start_time": "2022-04-25T16:23:50.824Z"
   },
   {
    "duration": 49,
    "start_time": "2022-04-25T16:24:08.844Z"
   },
   {
    "duration": 1250,
    "start_time": "2022-04-25T16:24:17.249Z"
   },
   {
    "duration": 286,
    "start_time": "2022-04-25T16:24:18.503Z"
   },
   {
    "duration": 132,
    "start_time": "2022-04-25T16:24:18.791Z"
   },
   {
    "duration": 43,
    "start_time": "2022-04-25T16:24:18.928Z"
   },
   {
    "duration": 184,
    "start_time": "2022-04-25T16:24:18.973Z"
   },
   {
    "duration": 93,
    "start_time": "2022-04-25T16:24:19.160Z"
   },
   {
    "duration": 21,
    "start_time": "2022-04-25T16:24:19.256Z"
   },
   {
    "duration": 8,
    "start_time": "2022-04-25T16:24:19.279Z"
   },
   {
    "duration": 38,
    "start_time": "2022-04-25T16:24:19.290Z"
   },
   {
    "duration": 2,
    "start_time": "2022-04-25T16:24:19.332Z"
   },
   {
    "duration": 16,
    "start_time": "2022-04-25T16:24:19.336Z"
   },
   {
    "duration": 6,
    "start_time": "2022-04-25T16:24:19.354Z"
   },
   {
    "duration": 7,
    "start_time": "2022-04-25T16:24:19.362Z"
   },
   {
    "duration": 8,
    "start_time": "2022-04-25T16:24:19.371Z"
   },
   {
    "duration": 9,
    "start_time": "2022-04-25T16:24:19.381Z"
   },
   {
    "duration": 5,
    "start_time": "2022-04-25T16:24:19.392Z"
   },
   {
    "duration": 5,
    "start_time": "2022-04-25T16:24:19.399Z"
   },
   {
    "duration": 5,
    "start_time": "2022-04-25T16:24:19.406Z"
   },
   {
    "duration": 14,
    "start_time": "2022-04-25T16:24:19.412Z"
   },
   {
    "duration": 2108,
    "start_time": "2022-04-25T16:24:19.428Z"
   },
   {
    "duration": 5,
    "start_time": "2022-04-25T16:24:21.539Z"
   },
   {
    "duration": 46,
    "start_time": "2022-04-25T16:24:21.547Z"
   },
   {
    "duration": 11,
    "start_time": "2022-04-25T16:24:21.595Z"
   },
   {
    "duration": 28,
    "start_time": "2022-04-25T16:24:21.608Z"
   },
   {
    "duration": 43,
    "start_time": "2022-04-25T16:24:21.638Z"
   },
   {
    "duration": 18,
    "start_time": "2022-04-25T16:24:21.683Z"
   },
   {
    "duration": 65,
    "start_time": "2022-04-25T16:24:21.703Z"
   },
   {
    "duration": 2081,
    "start_time": "2022-04-25T16:24:21.771Z"
   },
   {
    "duration": 3595,
    "start_time": "2022-04-25T16:24:23.854Z"
   },
   {
    "duration": 516,
    "start_time": "2022-04-25T16:24:27.450Z"
   },
   {
    "duration": 1789,
    "start_time": "2022-04-25T16:24:27.968Z"
   },
   {
    "duration": 2151,
    "start_time": "2022-04-25T16:24:29.759Z"
   },
   {
    "duration": 74,
    "start_time": "2022-04-25T16:27:13.502Z"
   },
   {
    "duration": 1586,
    "start_time": "2022-04-25T16:27:23.511Z"
   },
   {
    "duration": 392,
    "start_time": "2022-04-25T16:27:25.099Z"
   },
   {
    "duration": 124,
    "start_time": "2022-04-25T16:27:25.493Z"
   },
   {
    "duration": 44,
    "start_time": "2022-04-25T16:27:25.620Z"
   },
   {
    "duration": 166,
    "start_time": "2022-04-25T16:27:25.666Z"
   },
   {
    "duration": 110,
    "start_time": "2022-04-25T16:27:25.835Z"
   },
   {
    "duration": 21,
    "start_time": "2022-04-25T16:27:25.948Z"
   },
   {
    "duration": 11,
    "start_time": "2022-04-25T16:27:25.971Z"
   },
   {
    "duration": 45,
    "start_time": "2022-04-25T16:27:25.984Z"
   },
   {
    "duration": 3,
    "start_time": "2022-04-25T16:27:26.035Z"
   },
   {
    "duration": 15,
    "start_time": "2022-04-25T16:27:26.040Z"
   },
   {
    "duration": 8,
    "start_time": "2022-04-25T16:27:26.057Z"
   },
   {
    "duration": 6,
    "start_time": "2022-04-25T16:27:26.068Z"
   },
   {
    "duration": 6,
    "start_time": "2022-04-25T16:27:26.076Z"
   },
   {
    "duration": 5,
    "start_time": "2022-04-25T16:27:26.084Z"
   },
   {
    "duration": 4,
    "start_time": "2022-04-25T16:27:26.091Z"
   },
   {
    "duration": 5,
    "start_time": "2022-04-25T16:27:26.097Z"
   },
   {
    "duration": 5,
    "start_time": "2022-04-25T16:27:26.129Z"
   },
   {
    "duration": 12,
    "start_time": "2022-04-25T16:27:26.136Z"
   },
   {
    "duration": 2832,
    "start_time": "2022-04-25T16:27:26.150Z"
   },
   {
    "duration": 6,
    "start_time": "2022-04-25T16:27:28.985Z"
   },
   {
    "duration": 54,
    "start_time": "2022-04-25T16:27:28.994Z"
   },
   {
    "duration": 18,
    "start_time": "2022-04-25T16:27:29.050Z"
   },
   {
    "duration": 18,
    "start_time": "2022-04-25T16:27:29.070Z"
   },
   {
    "duration": 86,
    "start_time": "2022-04-25T16:27:29.091Z"
   },
   {
    "duration": 27,
    "start_time": "2022-04-25T16:27:29.180Z"
   },
   {
    "duration": 77,
    "start_time": "2022-04-25T16:27:29.210Z"
   },
   {
    "duration": 2108,
    "start_time": "2022-04-25T16:27:29.290Z"
   },
   {
    "duration": 3847,
    "start_time": "2022-04-25T16:27:31.400Z"
   },
   {
    "duration": 707,
    "start_time": "2022-04-25T16:27:35.250Z"
   },
   {
    "duration": 2295,
    "start_time": "2022-04-25T16:27:35.962Z"
   },
   {
    "duration": 2445,
    "start_time": "2022-04-25T16:27:38.259Z"
   },
   {
    "duration": 3,
    "start_time": "2022-04-25T16:27:40.707Z"
   },
   {
    "duration": 9,
    "start_time": "2022-04-25T16:27:40.712Z"
   },
   {
    "duration": 7,
    "start_time": "2022-04-25T16:27:40.724Z"
   },
   {
    "duration": 11,
    "start_time": "2022-04-25T16:27:40.732Z"
   },
   {
    "duration": 24,
    "start_time": "2022-04-25T16:27:40.744Z"
   },
   {
    "duration": 6,
    "start_time": "2022-04-25T16:27:40.770Z"
   },
   {
    "duration": 6,
    "start_time": "2022-04-25T16:27:40.778Z"
   },
   {
    "duration": 9,
    "start_time": "2022-04-25T16:27:40.785Z"
   },
   {
    "duration": 11,
    "start_time": "2022-04-25T16:27:40.796Z"
   },
   {
    "duration": 5,
    "start_time": "2022-04-25T16:27:40.809Z"
   },
   {
    "duration": 7,
    "start_time": "2022-04-25T16:27:40.816Z"
   },
   {
    "duration": 2232,
    "start_time": "2022-04-25T16:28:07.069Z"
   },
   {
    "duration": 2,
    "start_time": "2022-04-25T16:29:10.656Z"
   },
   {
    "duration": 1364,
    "start_time": "2022-04-25T16:29:42.978Z"
   },
   {
    "duration": 292,
    "start_time": "2022-04-25T16:29:44.345Z"
   },
   {
    "duration": 140,
    "start_time": "2022-04-25T16:29:44.639Z"
   },
   {
    "duration": 45,
    "start_time": "2022-04-25T16:29:44.782Z"
   },
   {
    "duration": 117,
    "start_time": "2022-04-25T16:29:44.829Z"
   },
   {
    "duration": 54,
    "start_time": "2022-04-25T16:29:44.949Z"
   },
   {
    "duration": 30,
    "start_time": "2022-04-25T16:29:45.005Z"
   },
   {
    "duration": 17,
    "start_time": "2022-04-25T16:29:45.037Z"
   },
   {
    "duration": 29,
    "start_time": "2022-04-25T16:29:45.056Z"
   },
   {
    "duration": 5,
    "start_time": "2022-04-25T16:29:45.088Z"
   },
   {
    "duration": 10,
    "start_time": "2022-04-25T16:29:45.095Z"
   },
   {
    "duration": 7,
    "start_time": "2022-04-25T16:29:45.107Z"
   },
   {
    "duration": 16,
    "start_time": "2022-04-25T16:29:45.117Z"
   },
   {
    "duration": 16,
    "start_time": "2022-04-25T16:29:45.135Z"
   },
   {
    "duration": 12,
    "start_time": "2022-04-25T16:29:45.153Z"
   },
   {
    "duration": 7,
    "start_time": "2022-04-25T16:29:45.167Z"
   },
   {
    "duration": 6,
    "start_time": "2022-04-25T16:29:45.176Z"
   },
   {
    "duration": 7,
    "start_time": "2022-04-25T16:29:45.184Z"
   },
   {
    "duration": 7,
    "start_time": "2022-04-25T16:29:45.193Z"
   },
   {
    "duration": 2230,
    "start_time": "2022-04-25T16:29:45.202Z"
   },
   {
    "duration": 4,
    "start_time": "2022-04-25T16:29:47.436Z"
   },
   {
    "duration": 43,
    "start_time": "2022-04-25T16:29:47.442Z"
   },
   {
    "duration": 12,
    "start_time": "2022-04-25T16:29:47.488Z"
   },
   {
    "duration": 18,
    "start_time": "2022-04-25T16:29:47.502Z"
   },
   {
    "duration": 72,
    "start_time": "2022-04-25T16:29:47.523Z"
   },
   {
    "duration": 18,
    "start_time": "2022-04-25T16:29:47.596Z"
   },
   {
    "duration": 48,
    "start_time": "2022-04-25T16:29:47.615Z"
   },
   {
    "duration": 2,
    "start_time": "2022-04-25T16:29:47.668Z"
   },
   {
    "duration": 1723,
    "start_time": "2022-04-25T16:29:47.672Z"
   },
   {
    "duration": 0,
    "start_time": "2022-04-25T16:29:49.397Z"
   },
   {
    "duration": 0,
    "start_time": "2022-04-25T16:29:49.398Z"
   },
   {
    "duration": 0,
    "start_time": "2022-04-25T16:29:49.401Z"
   },
   {
    "duration": 0,
    "start_time": "2022-04-25T16:29:49.402Z"
   },
   {
    "duration": 0,
    "start_time": "2022-04-25T16:29:49.403Z"
   },
   {
    "duration": 0,
    "start_time": "2022-04-25T16:29:49.404Z"
   },
   {
    "duration": 0,
    "start_time": "2022-04-25T16:29:49.406Z"
   },
   {
    "duration": 0,
    "start_time": "2022-04-25T16:29:49.407Z"
   },
   {
    "duration": 0,
    "start_time": "2022-04-25T16:29:49.408Z"
   },
   {
    "duration": 0,
    "start_time": "2022-04-25T16:29:49.409Z"
   },
   {
    "duration": 1,
    "start_time": "2022-04-25T16:29:49.409Z"
   },
   {
    "duration": 0,
    "start_time": "2022-04-25T16:29:49.427Z"
   },
   {
    "duration": 0,
    "start_time": "2022-04-25T16:29:49.429Z"
   },
   {
    "duration": 0,
    "start_time": "2022-04-25T16:29:49.430Z"
   },
   {
    "duration": 240,
    "start_time": "2022-04-25T16:30:26.948Z"
   },
   {
    "duration": 11,
    "start_time": "2022-04-25T16:31:32.374Z"
   },
   {
    "duration": 2465,
    "start_time": "2022-04-25T16:32:26.559Z"
   },
   {
    "duration": 2478,
    "start_time": "2022-04-25T16:32:36.548Z"
   },
   {
    "duration": 538,
    "start_time": "2022-04-25T16:32:52.301Z"
   },
   {
    "duration": 12,
    "start_time": "2022-04-25T16:33:45.986Z"
   },
   {
    "duration": 6,
    "start_time": "2022-04-25T16:34:21.976Z"
   },
   {
    "duration": 7,
    "start_time": "2022-04-25T16:34:28.290Z"
   },
   {
    "duration": 9,
    "start_time": "2022-04-25T16:35:03.661Z"
   },
   {
    "duration": 185,
    "start_time": "2022-04-25T16:35:07.320Z"
   },
   {
    "duration": 148,
    "start_time": "2022-04-25T16:35:17.813Z"
   },
   {
    "duration": 156,
    "start_time": "2022-04-25T16:35:21.540Z"
   },
   {
    "duration": 641,
    "start_time": "2022-04-25T16:36:36.814Z"
   },
   {
    "duration": 839,
    "start_time": "2022-04-25T16:36:44.953Z"
   },
   {
    "duration": 535,
    "start_time": "2022-04-25T16:37:02.509Z"
   },
   {
    "duration": 533,
    "start_time": "2022-04-25T16:37:13.282Z"
   },
   {
    "duration": 293,
    "start_time": "2022-04-25T16:37:30.446Z"
   },
   {
    "duration": 2934,
    "start_time": "2022-04-25T16:37:45.764Z"
   },
   {
    "duration": 304,
    "start_time": "2022-04-25T16:37:53.100Z"
   },
   {
    "duration": 2712,
    "start_time": "2022-04-25T16:38:30.458Z"
   },
   {
    "duration": 3262,
    "start_time": "2022-04-25T16:39:24.419Z"
   },
   {
    "duration": 2587,
    "start_time": "2022-04-25T16:46:05.087Z"
   },
   {
    "duration": 2236,
    "start_time": "2022-04-25T16:46:14.234Z"
   },
   {
    "duration": 3205,
    "start_time": "2022-04-25T16:46:50.580Z"
   },
   {
    "duration": 2,
    "start_time": "2022-04-25T16:46:58.454Z"
   },
   {
    "duration": 1689,
    "start_time": "2022-04-25T16:47:50.244Z"
   },
   {
    "duration": 411,
    "start_time": "2022-04-25T16:47:51.940Z"
   },
   {
    "duration": 137,
    "start_time": "2022-04-25T16:47:52.355Z"
   },
   {
    "duration": 53,
    "start_time": "2022-04-25T16:47:52.495Z"
   },
   {
    "duration": 165,
    "start_time": "2022-04-25T16:47:52.550Z"
   },
   {
    "duration": 97,
    "start_time": "2022-04-25T16:47:52.718Z"
   },
   {
    "duration": 22,
    "start_time": "2022-04-25T16:47:52.817Z"
   },
   {
    "duration": 30,
    "start_time": "2022-04-25T16:47:52.842Z"
   },
   {
    "duration": 19,
    "start_time": "2022-04-25T16:47:52.876Z"
   },
   {
    "duration": 3,
    "start_time": "2022-04-25T16:47:52.898Z"
   },
   {
    "duration": 6,
    "start_time": "2022-04-25T16:47:52.904Z"
   },
   {
    "duration": 14,
    "start_time": "2022-04-25T16:47:52.912Z"
   },
   {
    "duration": 35,
    "start_time": "2022-04-25T16:47:52.928Z"
   },
   {
    "duration": 5,
    "start_time": "2022-04-25T16:47:52.965Z"
   },
   {
    "duration": 8,
    "start_time": "2022-04-25T16:47:52.973Z"
   },
   {
    "duration": 8,
    "start_time": "2022-04-25T16:47:52.983Z"
   },
   {
    "duration": 6,
    "start_time": "2022-04-25T16:47:52.994Z"
   },
   {
    "duration": 10,
    "start_time": "2022-04-25T16:47:53.002Z"
   },
   {
    "duration": 8,
    "start_time": "2022-04-25T16:47:53.015Z"
   },
   {
    "duration": 2300,
    "start_time": "2022-04-25T16:47:53.025Z"
   },
   {
    "duration": 4,
    "start_time": "2022-04-25T16:47:55.330Z"
   },
   {
    "duration": 50,
    "start_time": "2022-04-25T16:47:55.335Z"
   },
   {
    "duration": 10,
    "start_time": "2022-04-25T16:47:55.387Z"
   },
   {
    "duration": 12,
    "start_time": "2022-04-25T16:47:55.399Z"
   },
   {
    "duration": 77,
    "start_time": "2022-04-25T16:47:55.413Z"
   },
   {
    "duration": 38,
    "start_time": "2022-04-25T16:47:55.492Z"
   },
   {
    "duration": 48,
    "start_time": "2022-04-25T16:47:55.532Z"
   },
   {
    "duration": 18,
    "start_time": "2022-04-25T16:47:55.585Z"
   },
   {
    "duration": 2424,
    "start_time": "2022-04-25T16:47:55.625Z"
   },
   {
    "duration": 2025,
    "start_time": "2022-04-25T16:47:58.052Z"
   },
   {
    "duration": 0,
    "start_time": "2022-04-25T16:48:00.080Z"
   },
   {
    "duration": 0,
    "start_time": "2022-04-25T16:48:00.081Z"
   },
   {
    "duration": 0,
    "start_time": "2022-04-25T16:48:00.083Z"
   },
   {
    "duration": 0,
    "start_time": "2022-04-25T16:48:00.084Z"
   },
   {
    "duration": 0,
    "start_time": "2022-04-25T16:48:00.086Z"
   },
   {
    "duration": 0,
    "start_time": "2022-04-25T16:48:00.088Z"
   },
   {
    "duration": 0,
    "start_time": "2022-04-25T16:48:00.090Z"
   },
   {
    "duration": 0,
    "start_time": "2022-04-25T16:48:00.091Z"
   },
   {
    "duration": 0,
    "start_time": "2022-04-25T16:48:00.093Z"
   },
   {
    "duration": 0,
    "start_time": "2022-04-25T16:48:00.094Z"
   },
   {
    "duration": 0,
    "start_time": "2022-04-25T16:48:00.096Z"
   },
   {
    "duration": 0,
    "start_time": "2022-04-25T16:48:00.097Z"
   },
   {
    "duration": 0,
    "start_time": "2022-04-25T16:48:00.099Z"
   },
   {
    "duration": 0,
    "start_time": "2022-04-25T16:48:00.124Z"
   },
   {
    "duration": 85,
    "start_time": "2022-04-25T16:51:49.769Z"
   },
   {
    "duration": 8,
    "start_time": "2022-04-25T16:51:54.962Z"
   },
   {
    "duration": 7,
    "start_time": "2022-04-25T16:51:56.917Z"
   },
   {
    "duration": 1605,
    "start_time": "2022-04-25T16:52:08.967Z"
   },
   {
    "duration": 402,
    "start_time": "2022-04-25T16:52:10.574Z"
   },
   {
    "duration": 236,
    "start_time": "2022-04-25T16:52:10.979Z"
   },
   {
    "duration": 45,
    "start_time": "2022-04-25T16:52:11.224Z"
   },
   {
    "duration": 129,
    "start_time": "2022-04-25T16:52:11.271Z"
   },
   {
    "duration": 106,
    "start_time": "2022-04-25T16:52:11.403Z"
   },
   {
    "duration": 34,
    "start_time": "2022-04-25T16:52:11.511Z"
   },
   {
    "duration": 9,
    "start_time": "2022-04-25T16:52:11.547Z"
   },
   {
    "duration": 22,
    "start_time": "2022-04-25T16:52:11.558Z"
   },
   {
    "duration": 5,
    "start_time": "2022-04-25T16:52:11.585Z"
   },
   {
    "duration": 5,
    "start_time": "2022-04-25T16:52:11.593Z"
   },
   {
    "duration": 13,
    "start_time": "2022-04-25T16:52:11.624Z"
   },
   {
    "duration": 19,
    "start_time": "2022-04-25T16:52:11.640Z"
   },
   {
    "duration": 10,
    "start_time": "2022-04-25T16:52:11.660Z"
   },
   {
    "duration": 12,
    "start_time": "2022-04-25T16:52:11.672Z"
   },
   {
    "duration": 7,
    "start_time": "2022-04-25T16:52:11.686Z"
   },
   {
    "duration": 8,
    "start_time": "2022-04-25T16:52:11.695Z"
   },
   {
    "duration": 3,
    "start_time": "2022-04-25T16:52:11.707Z"
   },
   {
    "duration": 169,
    "start_time": "2022-04-25T16:52:11.712Z"
   },
   {
    "duration": 0,
    "start_time": "2022-04-25T16:52:11.883Z"
   },
   {
    "duration": 0,
    "start_time": "2022-04-25T16:52:11.885Z"
   },
   {
    "duration": 1,
    "start_time": "2022-04-25T16:52:11.886Z"
   },
   {
    "duration": 0,
    "start_time": "2022-04-25T16:52:11.888Z"
   },
   {
    "duration": 0,
    "start_time": "2022-04-25T16:52:11.889Z"
   },
   {
    "duration": 0,
    "start_time": "2022-04-25T16:52:11.891Z"
   },
   {
    "duration": 0,
    "start_time": "2022-04-25T16:52:11.893Z"
   },
   {
    "duration": 0,
    "start_time": "2022-04-25T16:52:11.894Z"
   },
   {
    "duration": 0,
    "start_time": "2022-04-25T16:52:11.896Z"
   },
   {
    "duration": 0,
    "start_time": "2022-04-25T16:52:11.898Z"
   },
   {
    "duration": 0,
    "start_time": "2022-04-25T16:52:11.927Z"
   },
   {
    "duration": 0,
    "start_time": "2022-04-25T16:52:11.929Z"
   },
   {
    "duration": 0,
    "start_time": "2022-04-25T16:52:11.930Z"
   },
   {
    "duration": 0,
    "start_time": "2022-04-25T16:52:11.932Z"
   },
   {
    "duration": 0,
    "start_time": "2022-04-25T16:52:11.934Z"
   },
   {
    "duration": 0,
    "start_time": "2022-04-25T16:52:11.935Z"
   },
   {
    "duration": 0,
    "start_time": "2022-04-25T16:52:11.937Z"
   },
   {
    "duration": 0,
    "start_time": "2022-04-25T16:52:11.938Z"
   },
   {
    "duration": 0,
    "start_time": "2022-04-25T16:52:11.940Z"
   },
   {
    "duration": 0,
    "start_time": "2022-04-25T16:52:11.941Z"
   },
   {
    "duration": 0,
    "start_time": "2022-04-25T16:52:11.943Z"
   },
   {
    "duration": 0,
    "start_time": "2022-04-25T16:52:11.944Z"
   },
   {
    "duration": 0,
    "start_time": "2022-04-25T16:52:11.945Z"
   },
   {
    "duration": 1283,
    "start_time": "2022-04-25T16:52:47.384Z"
   },
   {
    "duration": 294,
    "start_time": "2022-04-25T16:52:48.670Z"
   },
   {
    "duration": 131,
    "start_time": "2022-04-25T16:52:48.966Z"
   },
   {
    "duration": 47,
    "start_time": "2022-04-25T16:52:49.100Z"
   },
   {
    "duration": 136,
    "start_time": "2022-04-25T16:52:49.149Z"
   },
   {
    "duration": 106,
    "start_time": "2022-04-25T16:52:49.290Z"
   },
   {
    "duration": 32,
    "start_time": "2022-04-25T16:52:49.398Z"
   },
   {
    "duration": 17,
    "start_time": "2022-04-25T16:52:49.432Z"
   },
   {
    "duration": 16,
    "start_time": "2022-04-25T16:52:49.453Z"
   },
   {
    "duration": 16,
    "start_time": "2022-04-25T16:52:49.473Z"
   },
   {
    "duration": 10,
    "start_time": "2022-04-25T16:52:49.491Z"
   },
   {
    "duration": 6,
    "start_time": "2022-04-25T16:52:49.503Z"
   },
   {
    "duration": 4,
    "start_time": "2022-04-25T16:52:49.511Z"
   },
   {
    "duration": 12,
    "start_time": "2022-04-25T16:52:49.518Z"
   },
   {
    "duration": 22,
    "start_time": "2022-04-25T16:52:49.532Z"
   },
   {
    "duration": 8,
    "start_time": "2022-04-25T16:52:49.556Z"
   },
   {
    "duration": 8,
    "start_time": "2022-04-25T16:52:49.565Z"
   },
   {
    "duration": 6,
    "start_time": "2022-04-25T16:52:49.575Z"
   },
   {
    "duration": 155,
    "start_time": "2022-04-25T16:52:49.583Z"
   },
   {
    "duration": 0,
    "start_time": "2022-04-25T16:52:49.743Z"
   },
   {
    "duration": 0,
    "start_time": "2022-04-25T16:52:49.744Z"
   },
   {
    "duration": 0,
    "start_time": "2022-04-25T16:52:49.745Z"
   },
   {
    "duration": 0,
    "start_time": "2022-04-25T16:52:49.748Z"
   },
   {
    "duration": 0,
    "start_time": "2022-04-25T16:52:49.750Z"
   },
   {
    "duration": 0,
    "start_time": "2022-04-25T16:52:49.752Z"
   },
   {
    "duration": 0,
    "start_time": "2022-04-25T16:52:49.754Z"
   },
   {
    "duration": 0,
    "start_time": "2022-04-25T16:52:49.755Z"
   },
   {
    "duration": 0,
    "start_time": "2022-04-25T16:52:49.757Z"
   },
   {
    "duration": 0,
    "start_time": "2022-04-25T16:52:49.759Z"
   },
   {
    "duration": 0,
    "start_time": "2022-04-25T16:52:49.761Z"
   },
   {
    "duration": 0,
    "start_time": "2022-04-25T16:52:49.762Z"
   },
   {
    "duration": 0,
    "start_time": "2022-04-25T16:52:49.764Z"
   },
   {
    "duration": 0,
    "start_time": "2022-04-25T16:52:49.765Z"
   },
   {
    "duration": 0,
    "start_time": "2022-04-25T16:52:49.767Z"
   },
   {
    "duration": 0,
    "start_time": "2022-04-25T16:52:49.769Z"
   },
   {
    "duration": 0,
    "start_time": "2022-04-25T16:52:49.770Z"
   },
   {
    "duration": 0,
    "start_time": "2022-04-25T16:52:49.772Z"
   },
   {
    "duration": 0,
    "start_time": "2022-04-25T16:52:49.773Z"
   },
   {
    "duration": 0,
    "start_time": "2022-04-25T16:52:49.775Z"
   },
   {
    "duration": 0,
    "start_time": "2022-04-25T16:52:49.777Z"
   },
   {
    "duration": 0,
    "start_time": "2022-04-25T16:52:49.778Z"
   },
   {
    "duration": 0,
    "start_time": "2022-04-25T16:52:49.780Z"
   },
   {
    "duration": 3,
    "start_time": "2022-04-25T16:55:01.163Z"
   },
   {
    "duration": 10,
    "start_time": "2022-04-25T16:55:03.676Z"
   },
   {
    "duration": 26,
    "start_time": "2022-04-25T16:55:07.818Z"
   },
   {
    "duration": 55,
    "start_time": "2022-04-25T16:55:43.810Z"
   },
   {
    "duration": 15,
    "start_time": "2022-04-25T16:55:44.416Z"
   },
   {
    "duration": 1753,
    "start_time": "2022-04-25T16:55:44.854Z"
   },
   {
    "duration": 0,
    "start_time": "2022-04-25T16:55:46.609Z"
   },
   {
    "duration": 0,
    "start_time": "2022-04-25T16:55:46.611Z"
   },
   {
    "duration": 3,
    "start_time": "2022-04-25T16:55:51.120Z"
   },
   {
    "duration": 2,
    "start_time": "2022-04-25T16:55:53.152Z"
   },
   {
    "duration": 3,
    "start_time": "2022-04-25T16:56:03.706Z"
   },
   {
    "duration": 14,
    "start_time": "2022-04-25T16:56:11.637Z"
   },
   {
    "duration": 17,
    "start_time": "2022-04-25T16:56:24.712Z"
   },
   {
    "duration": 6,
    "start_time": "2022-04-25T16:56:43.247Z"
   },
   {
    "duration": 4,
    "start_time": "2022-04-25T16:56:59.025Z"
   },
   {
    "duration": 17,
    "start_time": "2022-04-25T16:57:00.965Z"
   },
   {
    "duration": 10,
    "start_time": "2022-04-25T16:57:04.548Z"
   },
   {
    "duration": 11,
    "start_time": "2022-04-25T16:57:15.181Z"
   },
   {
    "duration": 11,
    "start_time": "2022-04-25T16:57:33.054Z"
   },
   {
    "duration": 3,
    "start_time": "2022-04-25T16:57:37.041Z"
   },
   {
    "duration": 15,
    "start_time": "2022-04-25T16:57:39.708Z"
   },
   {
    "duration": 19,
    "start_time": "2022-04-25T16:58:49.157Z"
   },
   {
    "duration": 24,
    "start_time": "2022-04-25T17:00:30.775Z"
   },
   {
    "duration": 16,
    "start_time": "2022-04-25T17:00:39.125Z"
   },
   {
    "duration": 2526,
    "start_time": "2022-04-25T17:02:21.207Z"
   },
   {
    "duration": 2271,
    "start_time": "2022-04-25T17:02:27.807Z"
   },
   {
    "duration": 3083,
    "start_time": "2022-04-25T17:02:43.344Z"
   },
   {
    "duration": 3869,
    "start_time": "2022-04-25T17:03:07.978Z"
   },
   {
    "duration": 23,
    "start_time": "2022-04-25T17:03:42.295Z"
   },
   {
    "duration": 1237,
    "start_time": "2022-04-25T17:05:24.386Z"
   },
   {
    "duration": 280,
    "start_time": "2022-04-25T17:05:25.626Z"
   },
   {
    "duration": 114,
    "start_time": "2022-04-25T17:05:25.908Z"
   },
   {
    "duration": 42,
    "start_time": "2022-04-25T17:05:26.024Z"
   },
   {
    "duration": 114,
    "start_time": "2022-04-25T17:05:26.067Z"
   },
   {
    "duration": 71,
    "start_time": "2022-04-25T17:05:26.183Z"
   },
   {
    "duration": 16,
    "start_time": "2022-04-25T17:05:26.256Z"
   },
   {
    "duration": 21,
    "start_time": "2022-04-25T17:05:26.273Z"
   },
   {
    "duration": 28,
    "start_time": "2022-04-25T17:05:26.295Z"
   },
   {
    "duration": 21,
    "start_time": "2022-04-25T17:05:26.328Z"
   },
   {
    "duration": 11,
    "start_time": "2022-04-25T17:05:26.351Z"
   },
   {
    "duration": 12,
    "start_time": "2022-04-25T17:05:26.364Z"
   },
   {
    "duration": 13,
    "start_time": "2022-04-25T17:05:26.377Z"
   },
   {
    "duration": 8,
    "start_time": "2022-04-25T17:05:26.392Z"
   },
   {
    "duration": 8,
    "start_time": "2022-04-25T17:05:26.402Z"
   },
   {
    "duration": 34,
    "start_time": "2022-04-25T17:05:26.412Z"
   },
   {
    "duration": 10,
    "start_time": "2022-04-25T17:05:26.448Z"
   },
   {
    "duration": 11,
    "start_time": "2022-04-25T17:05:26.460Z"
   },
   {
    "duration": 2061,
    "start_time": "2022-04-25T17:05:26.473Z"
   },
   {
    "duration": 17,
    "start_time": "2022-04-25T17:05:28.537Z"
   },
   {
    "duration": 30,
    "start_time": "2022-04-25T17:05:28.557Z"
   },
   {
    "duration": 36,
    "start_time": "2022-04-25T17:05:28.589Z"
   },
   {
    "duration": 15,
    "start_time": "2022-04-25T17:05:28.627Z"
   },
   {
    "duration": 124,
    "start_time": "2022-04-25T17:05:28.647Z"
   },
   {
    "duration": 0,
    "start_time": "2022-04-25T17:05:28.773Z"
   },
   {
    "duration": 0,
    "start_time": "2022-04-25T17:05:28.774Z"
   },
   {
    "duration": 0,
    "start_time": "2022-04-25T17:05:28.776Z"
   },
   {
    "duration": 0,
    "start_time": "2022-04-25T17:05:28.776Z"
   },
   {
    "duration": 0,
    "start_time": "2022-04-25T17:05:28.777Z"
   },
   {
    "duration": 0,
    "start_time": "2022-04-25T17:05:28.778Z"
   },
   {
    "duration": 0,
    "start_time": "2022-04-25T17:05:28.780Z"
   },
   {
    "duration": 0,
    "start_time": "2022-04-25T17:05:28.781Z"
   },
   {
    "duration": 0,
    "start_time": "2022-04-25T17:05:28.782Z"
   },
   {
    "duration": 0,
    "start_time": "2022-04-25T17:05:28.783Z"
   },
   {
    "duration": 0,
    "start_time": "2022-04-25T17:05:28.784Z"
   },
   {
    "duration": 0,
    "start_time": "2022-04-25T17:05:28.785Z"
   },
   {
    "duration": 0,
    "start_time": "2022-04-25T17:05:28.786Z"
   },
   {
    "duration": 0,
    "start_time": "2022-04-25T17:05:28.787Z"
   },
   {
    "duration": 0,
    "start_time": "2022-04-25T17:05:28.789Z"
   },
   {
    "duration": 0,
    "start_time": "2022-04-25T17:05:28.790Z"
   },
   {
    "duration": 0,
    "start_time": "2022-04-25T17:05:28.791Z"
   },
   {
    "duration": 0,
    "start_time": "2022-04-25T17:05:28.793Z"
   },
   {
    "duration": 0,
    "start_time": "2022-04-25T17:05:28.829Z"
   },
   {
    "duration": 87,
    "start_time": "2022-04-25T17:12:20.322Z"
   },
   {
    "duration": 15,
    "start_time": "2022-04-25T17:14:37.865Z"
   },
   {
    "duration": 13,
    "start_time": "2022-04-25T17:14:46.865Z"
   },
   {
    "duration": 7,
    "start_time": "2022-04-25T17:15:13.281Z"
   },
   {
    "duration": 16,
    "start_time": "2022-04-25T17:15:31.496Z"
   },
   {
    "duration": 6,
    "start_time": "2022-04-25T17:17:17.523Z"
   },
   {
    "duration": 13,
    "start_time": "2022-04-25T17:17:38.345Z"
   },
   {
    "duration": 19,
    "start_time": "2022-04-25T17:18:05.742Z"
   },
   {
    "duration": 11,
    "start_time": "2022-04-25T17:18:18.898Z"
   },
   {
    "duration": 137,
    "start_time": "2022-04-25T17:20:31.676Z"
   },
   {
    "duration": 162,
    "start_time": "2022-04-25T17:21:22.227Z"
   },
   {
    "duration": 154,
    "start_time": "2022-04-25T17:22:13.124Z"
   },
   {
    "duration": 33525,
    "start_time": "2022-04-25T17:22:39.566Z"
   },
   {
    "duration": 33544,
    "start_time": "2022-04-25T17:23:27.741Z"
   },
   {
    "duration": 63,
    "start_time": "2022-04-25T17:24:01.379Z"
   },
   {
    "duration": 10287,
    "start_time": "2022-04-25T17:24:20.540Z"
   },
   {
    "duration": 36,
    "start_time": "2022-04-25T17:24:30.830Z"
   },
   {
    "duration": 17082,
    "start_time": "2022-04-25T17:24:57.296Z"
   },
   {
    "duration": 1288,
    "start_time": "2022-04-25T17:25:24.887Z"
   },
   {
    "duration": 282,
    "start_time": "2022-04-25T17:25:26.178Z"
   },
   {
    "duration": 131,
    "start_time": "2022-04-25T17:25:26.462Z"
   },
   {
    "duration": 47,
    "start_time": "2022-04-25T17:25:26.596Z"
   },
   {
    "duration": 291,
    "start_time": "2022-04-25T17:25:26.646Z"
   },
   {
    "duration": 123,
    "start_time": "2022-04-25T17:25:26.939Z"
   },
   {
    "duration": 22,
    "start_time": "2022-04-25T17:25:27.065Z"
   },
   {
    "duration": 11,
    "start_time": "2022-04-25T17:25:27.089Z"
   },
   {
    "duration": 39,
    "start_time": "2022-04-25T17:25:27.102Z"
   },
   {
    "duration": 5,
    "start_time": "2022-04-25T17:25:27.147Z"
   },
   {
    "duration": 5,
    "start_time": "2022-04-25T17:25:27.154Z"
   },
   {
    "duration": 5,
    "start_time": "2022-04-25T17:25:27.161Z"
   },
   {
    "duration": 4,
    "start_time": "2022-04-25T17:25:27.168Z"
   },
   {
    "duration": 5,
    "start_time": "2022-04-25T17:25:27.175Z"
   },
   {
    "duration": 5,
    "start_time": "2022-04-25T17:25:27.182Z"
   },
   {
    "duration": 4,
    "start_time": "2022-04-25T17:25:27.189Z"
   },
   {
    "duration": 9,
    "start_time": "2022-04-25T17:25:27.224Z"
   },
   {
    "duration": 12,
    "start_time": "2022-04-25T17:25:27.235Z"
   },
   {
    "duration": 3006,
    "start_time": "2022-04-25T17:25:27.250Z"
   },
   {
    "duration": 13023,
    "start_time": "2022-04-25T17:25:30.259Z"
   },
   {
    "duration": 27,
    "start_time": "2022-04-25T17:25:43.284Z"
   },
   {
    "duration": 19,
    "start_time": "2022-04-25T17:25:43.327Z"
   },
   {
    "duration": 14,
    "start_time": "2022-04-25T17:25:43.348Z"
   },
   {
    "duration": 128,
    "start_time": "2022-04-25T17:25:43.364Z"
   },
   {
    "duration": 0,
    "start_time": "2022-04-25T17:25:43.494Z"
   },
   {
    "duration": 0,
    "start_time": "2022-04-25T17:25:43.496Z"
   },
   {
    "duration": 0,
    "start_time": "2022-04-25T17:25:43.497Z"
   },
   {
    "duration": 0,
    "start_time": "2022-04-25T17:25:43.498Z"
   },
   {
    "duration": 0,
    "start_time": "2022-04-25T17:25:43.499Z"
   },
   {
    "duration": 0,
    "start_time": "2022-04-25T17:25:43.500Z"
   },
   {
    "duration": 0,
    "start_time": "2022-04-25T17:25:43.502Z"
   },
   {
    "duration": 0,
    "start_time": "2022-04-25T17:25:43.503Z"
   },
   {
    "duration": 0,
    "start_time": "2022-04-25T17:25:43.505Z"
   },
   {
    "duration": 0,
    "start_time": "2022-04-25T17:25:43.525Z"
   },
   {
    "duration": 0,
    "start_time": "2022-04-25T17:25:43.526Z"
   },
   {
    "duration": 0,
    "start_time": "2022-04-25T17:25:43.528Z"
   },
   {
    "duration": 0,
    "start_time": "2022-04-25T17:25:43.529Z"
   },
   {
    "duration": 0,
    "start_time": "2022-04-25T17:25:43.530Z"
   },
   {
    "duration": 0,
    "start_time": "2022-04-25T17:25:43.532Z"
   },
   {
    "duration": 0,
    "start_time": "2022-04-25T17:25:43.534Z"
   },
   {
    "duration": 0,
    "start_time": "2022-04-25T17:25:43.535Z"
   },
   {
    "duration": 0,
    "start_time": "2022-04-25T17:25:43.537Z"
   },
   {
    "duration": 0,
    "start_time": "2022-04-25T17:25:43.539Z"
   },
   {
    "duration": 16101,
    "start_time": "2022-04-25T17:26:26.618Z"
   },
   {
    "duration": 36,
    "start_time": "2022-04-25T17:26:42.723Z"
   },
   {
    "duration": 24,
    "start_time": "2022-04-25T17:26:42.761Z"
   },
   {
    "duration": 86,
    "start_time": "2022-04-25T17:27:31.757Z"
   },
   {
    "duration": 12,
    "start_time": "2022-04-25T17:27:55.558Z"
   },
   {
    "duration": 4,
    "start_time": "2022-04-25T17:28:36.901Z"
   },
   {
    "duration": 45,
    "start_time": "2022-04-25T17:28:38.885Z"
   },
   {
    "duration": 12,
    "start_time": "2022-04-25T17:28:44.345Z"
   },
   {
    "duration": 13,
    "start_time": "2022-04-25T17:28:53.741Z"
   },
   {
    "duration": 52,
    "start_time": "2022-04-25T17:28:56.332Z"
   },
   {
    "duration": 41,
    "start_time": "2022-04-25T17:29:24.700Z"
   },
   {
    "duration": 30,
    "start_time": "2022-04-25T17:29:31.677Z"
   },
   {
    "duration": 60,
    "start_time": "2022-04-25T17:29:40.948Z"
   },
   {
    "duration": 15,
    "start_time": "2022-04-25T17:29:47.702Z"
   },
   {
    "duration": 2197,
    "start_time": "2022-04-25T17:29:49.948Z"
   },
   {
    "duration": 17,
    "start_time": "2022-04-25T17:29:52.147Z"
   },
   {
    "duration": 15,
    "start_time": "2022-04-25T17:30:05.847Z"
   },
   {
    "duration": 3482,
    "start_time": "2022-04-25T17:30:21.420Z"
   },
   {
    "duration": 2211,
    "start_time": "2022-04-25T17:30:54.507Z"
   },
   {
    "duration": 14,
    "start_time": "2022-04-25T17:30:57.352Z"
   },
   {
    "duration": 2471,
    "start_time": "2022-04-25T18:15:48.894Z"
   },
   {
    "duration": 3192,
    "start_time": "2022-04-25T18:16:08.282Z"
   },
   {
    "duration": 24,
    "start_time": "2022-04-25T18:40:35.937Z"
   },
   {
    "duration": 3966,
    "start_time": "2022-04-25T18:41:37.601Z"
   },
   {
    "duration": 2554,
    "start_time": "2022-04-25T18:41:52.277Z"
   },
   {
    "duration": 1693,
    "start_time": "2022-04-25T18:42:52.374Z"
   },
   {
    "duration": 1766,
    "start_time": "2022-04-25T18:43:28.024Z"
   },
   {
    "duration": 2321,
    "start_time": "2022-04-25T18:44:22.873Z"
   },
   {
    "duration": 2514,
    "start_time": "2022-04-25T18:44:40.703Z"
   },
   {
    "duration": 3462,
    "start_time": "2022-04-25T18:45:44.479Z"
   },
   {
    "duration": 1966,
    "start_time": "2022-04-25T18:46:06.399Z"
   },
   {
    "duration": 5,
    "start_time": "2022-04-25T18:48:45.992Z"
   },
   {
    "duration": 4,
    "start_time": "2022-04-25T18:49:07.575Z"
   },
   {
    "duration": 3,
    "start_time": "2022-04-25T18:49:34.462Z"
   },
   {
    "duration": 8,
    "start_time": "2022-04-25T18:49:39.051Z"
   },
   {
    "duration": 5,
    "start_time": "2022-04-25T18:50:02.458Z"
   },
   {
    "duration": 9,
    "start_time": "2022-04-25T19:01:32.761Z"
   },
   {
    "duration": 9,
    "start_time": "2022-04-25T19:01:54.285Z"
   },
   {
    "duration": 47,
    "start_time": "2022-04-25T19:02:41.658Z"
   },
   {
    "duration": 1220,
    "start_time": "2022-04-25T19:02:50.679Z"
   },
   {
    "duration": 283,
    "start_time": "2022-04-25T19:02:51.901Z"
   },
   {
    "duration": 127,
    "start_time": "2022-04-25T19:02:52.185Z"
   },
   {
    "duration": 49,
    "start_time": "2022-04-25T19:02:52.314Z"
   },
   {
    "duration": 122,
    "start_time": "2022-04-25T19:02:52.365Z"
   },
   {
    "duration": 68,
    "start_time": "2022-04-25T19:02:52.489Z"
   },
   {
    "duration": 14,
    "start_time": "2022-04-25T19:02:52.559Z"
   },
   {
    "duration": 12,
    "start_time": "2022-04-25T19:02:52.574Z"
   },
   {
    "duration": 14,
    "start_time": "2022-04-25T19:02:52.588Z"
   },
   {
    "duration": 20,
    "start_time": "2022-04-25T19:02:52.605Z"
   },
   {
    "duration": 36,
    "start_time": "2022-04-25T19:02:52.627Z"
   },
   {
    "duration": 12,
    "start_time": "2022-04-25T19:02:52.665Z"
   },
   {
    "duration": 5,
    "start_time": "2022-04-25T19:02:52.679Z"
   },
   {
    "duration": 9,
    "start_time": "2022-04-25T19:02:52.685Z"
   },
   {
    "duration": 7,
    "start_time": "2022-04-25T19:02:52.695Z"
   },
   {
    "duration": 5,
    "start_time": "2022-04-25T19:02:52.703Z"
   },
   {
    "duration": 5,
    "start_time": "2022-04-25T19:02:52.710Z"
   },
   {
    "duration": 6,
    "start_time": "2022-04-25T19:02:52.716Z"
   },
   {
    "duration": 2232,
    "start_time": "2022-04-25T19:02:52.723Z"
   },
   {
    "duration": 3,
    "start_time": "2022-04-25T19:02:54.957Z"
   },
   {
    "duration": 32,
    "start_time": "2022-04-25T19:02:54.962Z"
   },
   {
    "duration": 11,
    "start_time": "2022-04-25T19:02:54.996Z"
   },
   {
    "duration": 22,
    "start_time": "2022-04-25T19:02:55.024Z"
   },
   {
    "duration": 55,
    "start_time": "2022-04-25T19:02:55.048Z"
   },
   {
    "duration": 24,
    "start_time": "2022-04-25T19:02:55.105Z"
   },
   {
    "duration": 45,
    "start_time": "2022-04-25T19:02:55.135Z"
   },
   {
    "duration": 9,
    "start_time": "2022-04-25T19:02:55.182Z"
   },
   {
    "duration": 4274,
    "start_time": "2022-04-25T19:02:55.195Z"
   },
   {
    "duration": 1297,
    "start_time": "2022-05-04T03:20:31.388Z"
   },
   {
    "duration": 4748,
    "start_time": "2022-05-04T03:21:21.151Z"
   },
   {
    "duration": 617,
    "start_time": "2022-05-04T03:23:53.220Z"
   },
   {
    "duration": 103,
    "start_time": "2022-05-04T03:23:53.839Z"
   },
   {
    "duration": 0,
    "start_time": "2022-05-04T03:23:53.946Z"
   },
   {
    "duration": 0,
    "start_time": "2022-05-04T03:23:53.947Z"
   },
   {
    "duration": 0,
    "start_time": "2022-05-04T03:23:53.948Z"
   },
   {
    "duration": 0,
    "start_time": "2022-05-04T03:23:53.949Z"
   },
   {
    "duration": 0,
    "start_time": "2022-05-04T03:23:53.950Z"
   },
   {
    "duration": 0,
    "start_time": "2022-05-04T03:23:53.952Z"
   },
   {
    "duration": 0,
    "start_time": "2022-05-04T03:23:53.953Z"
   },
   {
    "duration": 0,
    "start_time": "2022-05-04T03:23:53.954Z"
   },
   {
    "duration": 0,
    "start_time": "2022-05-04T03:23:53.955Z"
   },
   {
    "duration": 0,
    "start_time": "2022-05-04T03:23:53.956Z"
   },
   {
    "duration": 0,
    "start_time": "2022-05-04T03:23:53.957Z"
   },
   {
    "duration": 0,
    "start_time": "2022-05-04T03:23:53.958Z"
   },
   {
    "duration": 0,
    "start_time": "2022-05-04T03:23:53.959Z"
   },
   {
    "duration": 0,
    "start_time": "2022-05-04T03:23:53.960Z"
   },
   {
    "duration": 0,
    "start_time": "2022-05-04T03:23:53.962Z"
   },
   {
    "duration": 0,
    "start_time": "2022-05-04T03:23:53.963Z"
   },
   {
    "duration": 0,
    "start_time": "2022-05-04T03:23:53.964Z"
   },
   {
    "duration": 0,
    "start_time": "2022-05-04T03:23:53.965Z"
   },
   {
    "duration": 0,
    "start_time": "2022-05-04T03:23:53.966Z"
   },
   {
    "duration": 0,
    "start_time": "2022-05-04T03:23:53.967Z"
   },
   {
    "duration": 0,
    "start_time": "2022-05-04T03:23:53.968Z"
   },
   {
    "duration": 0,
    "start_time": "2022-05-04T03:23:53.969Z"
   },
   {
    "duration": 0,
    "start_time": "2022-05-04T03:23:53.970Z"
   },
   {
    "duration": 0,
    "start_time": "2022-05-04T03:23:53.971Z"
   },
   {
    "duration": 0,
    "start_time": "2022-05-04T03:23:53.972Z"
   },
   {
    "duration": 0,
    "start_time": "2022-05-04T03:23:53.992Z"
   },
   {
    "duration": 0,
    "start_time": "2022-05-04T03:23:53.993Z"
   },
   {
    "duration": 0,
    "start_time": "2022-05-04T03:23:53.994Z"
   },
   {
    "duration": 0,
    "start_time": "2022-05-04T03:23:53.996Z"
   },
   {
    "duration": 0,
    "start_time": "2022-05-04T03:23:53.997Z"
   },
   {
    "duration": 0,
    "start_time": "2022-05-04T03:23:53.998Z"
   },
   {
    "duration": 0,
    "start_time": "2022-05-04T03:23:53.999Z"
   },
   {
    "duration": 0,
    "start_time": "2022-05-04T03:23:54.000Z"
   },
   {
    "duration": 0,
    "start_time": "2022-05-04T03:23:54.001Z"
   },
   {
    "duration": 0,
    "start_time": "2022-05-04T03:23:54.002Z"
   },
   {
    "duration": 0,
    "start_time": "2022-05-04T03:23:54.003Z"
   },
   {
    "duration": 0,
    "start_time": "2022-05-04T03:23:54.004Z"
   },
   {
    "duration": 0,
    "start_time": "2022-05-04T03:23:54.005Z"
   },
   {
    "duration": 0,
    "start_time": "2022-05-04T03:23:54.006Z"
   },
   {
    "duration": 0,
    "start_time": "2022-05-04T03:23:54.007Z"
   },
   {
    "duration": 0,
    "start_time": "2022-05-04T03:23:54.008Z"
   },
   {
    "duration": 0,
    "start_time": "2022-05-04T03:23:54.009Z"
   },
   {
    "duration": 0,
    "start_time": "2022-05-04T03:23:54.010Z"
   },
   {
    "duration": 0,
    "start_time": "2022-05-04T03:23:54.011Z"
   },
   {
    "duration": 0,
    "start_time": "2022-05-04T03:23:54.012Z"
   },
   {
    "duration": 0,
    "start_time": "2022-05-04T03:23:54.013Z"
   },
   {
    "duration": 0,
    "start_time": "2022-05-04T03:23:54.014Z"
   },
   {
    "duration": 0,
    "start_time": "2022-05-04T03:23:54.015Z"
   },
   {
    "duration": 0,
    "start_time": "2022-05-04T03:23:54.016Z"
   },
   {
    "duration": 0,
    "start_time": "2022-05-04T03:23:54.017Z"
   },
   {
    "duration": 0,
    "start_time": "2022-05-04T03:23:54.017Z"
   },
   {
    "duration": 0,
    "start_time": "2022-05-04T03:23:54.018Z"
   },
   {
    "duration": 0,
    "start_time": "2022-05-04T03:23:54.019Z"
   },
   {
    "duration": 0,
    "start_time": "2022-05-04T03:23:54.020Z"
   },
   {
    "duration": 0,
    "start_time": "2022-05-04T03:23:54.022Z"
   },
   {
    "duration": 0,
    "start_time": "2022-05-04T03:23:54.023Z"
   },
   {
    "duration": 0,
    "start_time": "2022-05-04T03:23:54.024Z"
   },
   {
    "duration": 0,
    "start_time": "2022-05-04T03:23:54.025Z"
   },
   {
    "duration": 0,
    "start_time": "2022-05-04T03:23:54.026Z"
   },
   {
    "duration": 0,
    "start_time": "2022-05-04T03:23:54.027Z"
   },
   {
    "duration": 0,
    "start_time": "2022-05-04T03:23:54.029Z"
   },
   {
    "duration": 0,
    "start_time": "2022-05-04T03:23:54.030Z"
   },
   {
    "duration": 0,
    "start_time": "2022-05-04T03:23:54.093Z"
   },
   {
    "duration": 0,
    "start_time": "2022-05-04T03:23:54.095Z"
   },
   {
    "duration": 0,
    "start_time": "2022-05-04T03:23:54.096Z"
   },
   {
    "duration": 0,
    "start_time": "2022-05-04T03:23:54.097Z"
   },
   {
    "duration": 0,
    "start_time": "2022-05-04T03:23:54.098Z"
   },
   {
    "duration": 0,
    "start_time": "2022-05-04T03:23:54.099Z"
   },
   {
    "duration": 0,
    "start_time": "2022-05-04T03:23:54.100Z"
   },
   {
    "duration": 0,
    "start_time": "2022-05-04T03:23:54.101Z"
   },
   {
    "duration": 0,
    "start_time": "2022-05-04T03:23:54.102Z"
   },
   {
    "duration": 0,
    "start_time": "2022-05-04T03:23:54.103Z"
   },
   {
    "duration": 255,
    "start_time": "2022-05-04T03:27:23.117Z"
   },
   {
    "duration": 18,
    "start_time": "2022-05-04T03:27:36.942Z"
   },
   {
    "duration": 13,
    "start_time": "2022-05-04T03:27:36.962Z"
   },
   {
    "duration": 10,
    "start_time": "2022-05-04T03:27:36.977Z"
   },
   {
    "duration": 11,
    "start_time": "2022-05-04T03:27:36.989Z"
   },
   {
    "duration": 8,
    "start_time": "2022-05-04T03:27:37.002Z"
   },
   {
    "duration": 6,
    "start_time": "2022-05-04T03:27:37.011Z"
   },
   {
    "duration": 37,
    "start_time": "2022-05-04T03:27:37.018Z"
   },
   {
    "duration": 37,
    "start_time": "2022-05-04T03:27:37.057Z"
   },
   {
    "duration": 151,
    "start_time": "2022-05-04T03:27:37.096Z"
   },
   {
    "duration": 23,
    "start_time": "2022-05-04T03:27:37.249Z"
   },
   {
    "duration": 33,
    "start_time": "2022-05-04T03:27:37.274Z"
   },
   {
    "duration": 33,
    "start_time": "2022-05-04T03:27:37.309Z"
   },
   {
    "duration": 57,
    "start_time": "2022-05-04T03:27:37.343Z"
   },
   {
    "duration": 60,
    "start_time": "2022-05-04T03:27:37.404Z"
   },
   {
    "duration": 50,
    "start_time": "2022-05-04T03:27:37.466Z"
   },
   {
    "duration": 36,
    "start_time": "2022-05-04T03:27:37.518Z"
   },
   {
    "duration": 37,
    "start_time": "2022-05-04T03:27:37.556Z"
   },
   {
    "duration": 13,
    "start_time": "2022-05-04T03:27:37.595Z"
   },
   {
    "duration": 9,
    "start_time": "2022-05-04T03:27:37.610Z"
   },
   {
    "duration": 33,
    "start_time": "2022-05-04T03:27:37.621Z"
   },
   {
    "duration": 38,
    "start_time": "2022-05-04T03:27:37.655Z"
   },
   {
    "duration": 17,
    "start_time": "2022-05-04T03:27:37.695Z"
   },
   {
    "duration": 11,
    "start_time": "2022-05-04T03:27:37.713Z"
   },
   {
    "duration": 9,
    "start_time": "2022-05-04T03:27:37.726Z"
   },
   {
    "duration": 12,
    "start_time": "2022-05-04T03:27:37.737Z"
   },
   {
    "duration": 56,
    "start_time": "2022-05-04T03:27:37.751Z"
   },
   {
    "duration": 24,
    "start_time": "2022-05-04T03:27:37.809Z"
   },
   {
    "duration": 10,
    "start_time": "2022-05-04T03:27:37.835Z"
   },
   {
    "duration": 11,
    "start_time": "2022-05-04T03:27:37.846Z"
   },
   {
    "duration": 6,
    "start_time": "2022-05-04T03:27:37.859Z"
   },
   {
    "duration": 28,
    "start_time": "2022-05-04T03:27:37.867Z"
   },
   {
    "duration": 7,
    "start_time": "2022-05-04T03:27:37.897Z"
   },
   {
    "duration": 5,
    "start_time": "2022-05-04T03:27:37.906Z"
   },
   {
    "duration": 8,
    "start_time": "2022-05-04T03:27:37.913Z"
   },
   {
    "duration": 11,
    "start_time": "2022-05-04T03:27:37.923Z"
   },
   {
    "duration": 12,
    "start_time": "2022-05-04T03:27:37.936Z"
   },
   {
    "duration": 19,
    "start_time": "2022-05-04T03:27:37.949Z"
   },
   {
    "duration": 12,
    "start_time": "2022-05-04T03:27:37.970Z"
   },
   {
    "duration": 15,
    "start_time": "2022-05-04T03:27:37.984Z"
   },
   {
    "duration": 10,
    "start_time": "2022-05-04T03:27:38.000Z"
   },
   {
    "duration": 7,
    "start_time": "2022-05-04T03:27:38.014Z"
   },
   {
    "duration": 14,
    "start_time": "2022-05-04T03:27:38.023Z"
   },
   {
    "duration": 24,
    "start_time": "2022-05-04T03:27:38.039Z"
   },
   {
    "duration": 3,
    "start_time": "2022-05-04T03:27:38.065Z"
   },
   {
    "duration": 35,
    "start_time": "2022-05-04T03:27:38.069Z"
   },
   {
    "duration": 21,
    "start_time": "2022-05-04T03:27:38.105Z"
   },
   {
    "duration": 24,
    "start_time": "2022-05-04T03:27:38.128Z"
   },
   {
    "duration": 7,
    "start_time": "2022-05-04T03:27:38.154Z"
   },
   {
    "duration": 26,
    "start_time": "2022-05-04T03:27:38.192Z"
   },
   {
    "duration": 7,
    "start_time": "2022-05-04T03:27:38.219Z"
   },
   {
    "duration": 270,
    "start_time": "2022-05-04T03:27:38.228Z"
   },
   {
    "duration": 486,
    "start_time": "2022-05-04T03:27:38.500Z"
   },
   {
    "duration": 7,
    "start_time": "2022-05-04T03:27:38.987Z"
   },
   {
    "duration": 16,
    "start_time": "2022-05-04T03:27:38.996Z"
   },
   {
    "duration": 7,
    "start_time": "2022-05-04T03:27:39.014Z"
   },
   {
    "duration": 11,
    "start_time": "2022-05-04T03:27:39.022Z"
   },
   {
    "duration": 285,
    "start_time": "2022-05-04T03:27:39.035Z"
   },
   {
    "duration": 123,
    "start_time": "2022-05-04T03:27:39.322Z"
   },
   {
    "duration": 117,
    "start_time": "2022-05-04T03:27:39.446Z"
   },
   {
    "duration": 141,
    "start_time": "2022-05-04T03:27:39.565Z"
   },
   {
    "duration": 589,
    "start_time": "2022-05-04T03:27:39.707Z"
   },
   {
    "duration": 911,
    "start_time": "2022-05-04T03:27:40.298Z"
   },
   {
    "duration": 158,
    "start_time": "2022-05-04T03:27:41.211Z"
   },
   {
    "duration": 7,
    "start_time": "2022-05-04T03:27:41.371Z"
   },
   {
    "duration": 2,
    "start_time": "2022-05-04T03:27:41.392Z"
   },
   {
    "duration": 9,
    "start_time": "2022-05-04T03:27:41.397Z"
   },
   {
    "duration": 4,
    "start_time": "2022-05-04T03:27:41.408Z"
   },
   {
    "duration": 4,
    "start_time": "2022-05-04T03:27:41.414Z"
   },
   {
    "duration": 7,
    "start_time": "2022-05-04T03:27:41.420Z"
   },
   {
    "duration": 7,
    "start_time": "2022-05-04T03:27:41.429Z"
   },
   {
    "duration": 55,
    "start_time": "2022-05-04T03:27:41.438Z"
   },
   {
    "duration": 8,
    "start_time": "2022-05-04T03:27:41.495Z"
   },
   {
    "duration": 45,
    "start_time": "2022-05-04T03:39:47.127Z"
   },
   {
    "duration": 1945,
    "start_time": "2022-05-04T15:00:33.410Z"
   },
   {
    "duration": 9,
    "start_time": "2022-05-04T15:00:40.695Z"
   },
   {
    "duration": 7,
    "start_time": "2022-05-04T15:01:20.850Z"
   },
   {
    "duration": 144,
    "start_time": "2022-05-04T15:01:33.148Z"
   },
   {
    "duration": 203,
    "start_time": "2022-05-04T15:01:42.781Z"
   },
   {
    "duration": 272,
    "start_time": "2022-05-04T15:02:27.230Z"
   },
   {
    "duration": 42,
    "start_time": "2022-05-04T18:44:10.800Z"
   },
   {
    "duration": 1408,
    "start_time": "2022-05-04T18:44:47.601Z"
   },
   {
    "duration": 277,
    "start_time": "2022-05-04T18:44:52.642Z"
   },
   {
    "duration": 199,
    "start_time": "2022-05-04T18:45:05.008Z"
   },
   {
    "duration": 478,
    "start_time": "2022-05-04T18:45:46.949Z"
   },
   {
    "duration": 9,
    "start_time": "2022-05-04T18:48:38.204Z"
   },
   {
    "duration": 1234,
    "start_time": "2022-05-04T18:48:46.013Z"
   },
   {
    "duration": 223,
    "start_time": "2022-05-04T18:48:47.249Z"
   },
   {
    "duration": 14,
    "start_time": "2022-05-04T18:48:47.474Z"
   },
   {
    "duration": 11,
    "start_time": "2022-05-04T18:48:47.489Z"
   },
   {
    "duration": 8,
    "start_time": "2022-05-04T18:48:47.502Z"
   },
   {
    "duration": 15,
    "start_time": "2022-05-04T18:48:47.512Z"
   },
   {
    "duration": 11,
    "start_time": "2022-05-04T18:48:47.528Z"
   },
   {
    "duration": 7,
    "start_time": "2022-05-04T18:48:47.540Z"
   },
   {
    "duration": 32,
    "start_time": "2022-05-04T18:48:47.548Z"
   },
   {
    "duration": 7,
    "start_time": "2022-05-04T18:48:47.582Z"
   },
   {
    "duration": 95,
    "start_time": "2022-05-04T18:48:47.591Z"
   },
   {
    "duration": 15,
    "start_time": "2022-05-04T18:48:47.687Z"
   },
   {
    "duration": 27,
    "start_time": "2022-05-04T18:48:47.703Z"
   },
   {
    "duration": 31,
    "start_time": "2022-05-04T18:48:47.731Z"
   },
   {
    "duration": 30,
    "start_time": "2022-05-04T18:48:47.764Z"
   },
   {
    "duration": 86,
    "start_time": "2022-05-04T18:48:47.796Z"
   },
   {
    "duration": 28,
    "start_time": "2022-05-04T18:48:47.883Z"
   },
   {
    "duration": 30,
    "start_time": "2022-05-04T18:48:47.924Z"
   },
   {
    "duration": 13,
    "start_time": "2022-05-04T18:48:47.956Z"
   },
   {
    "duration": 11,
    "start_time": "2022-05-04T18:48:47.971Z"
   },
   {
    "duration": 9,
    "start_time": "2022-05-04T18:48:47.984Z"
   },
   {
    "duration": 50,
    "start_time": "2022-05-04T18:48:47.995Z"
   },
   {
    "duration": 11,
    "start_time": "2022-05-04T18:48:48.047Z"
   },
   {
    "duration": 14,
    "start_time": "2022-05-04T18:48:48.060Z"
   },
   {
    "duration": 10,
    "start_time": "2022-05-04T18:48:48.076Z"
   },
   {
    "duration": 8,
    "start_time": "2022-05-04T18:48:48.123Z"
   },
   {
    "duration": 8,
    "start_time": "2022-05-04T18:48:48.133Z"
   },
   {
    "duration": 24,
    "start_time": "2022-05-04T18:48:48.146Z"
   },
   {
    "duration": 24,
    "start_time": "2022-05-04T18:48:48.172Z"
   },
   {
    "duration": 10,
    "start_time": "2022-05-04T18:48:48.224Z"
   },
   {
    "duration": 8,
    "start_time": "2022-05-04T18:48:48.236Z"
   },
   {
    "duration": 7,
    "start_time": "2022-05-04T18:48:48.246Z"
   },
   {
    "duration": 5,
    "start_time": "2022-05-04T18:48:48.255Z"
   },
   {
    "duration": 5,
    "start_time": "2022-05-04T18:48:48.262Z"
   },
   {
    "duration": 5,
    "start_time": "2022-05-04T18:48:48.269Z"
   },
   {
    "duration": 5,
    "start_time": "2022-05-04T18:48:48.276Z"
   },
   {
    "duration": 5,
    "start_time": "2022-05-04T18:48:48.283Z"
   },
   {
    "duration": 38,
    "start_time": "2022-05-04T18:48:48.289Z"
   },
   {
    "duration": 15,
    "start_time": "2022-05-04T18:48:48.328Z"
   },
   {
    "duration": 8,
    "start_time": "2022-05-04T18:48:48.344Z"
   },
   {
    "duration": 4,
    "start_time": "2022-05-04T18:48:48.354Z"
   },
   {
    "duration": 5,
    "start_time": "2022-05-04T18:48:48.360Z"
   },
   {
    "duration": 5,
    "start_time": "2022-05-04T18:48:48.367Z"
   },
   {
    "duration": 8,
    "start_time": "2022-05-04T18:48:48.374Z"
   },
   {
    "duration": 53,
    "start_time": "2022-05-04T18:48:48.384Z"
   },
   {
    "duration": 2,
    "start_time": "2022-05-04T18:48:48.439Z"
   },
   {
    "duration": 21,
    "start_time": "2022-05-04T18:48:48.443Z"
   },
   {
    "duration": 17,
    "start_time": "2022-05-04T18:48:48.466Z"
   },
   {
    "duration": 46,
    "start_time": "2022-05-04T18:48:48.485Z"
   },
   {
    "duration": 11,
    "start_time": "2022-05-04T18:48:48.532Z"
   },
   {
    "duration": 23,
    "start_time": "2022-05-04T18:48:48.545Z"
   },
   {
    "duration": 6,
    "start_time": "2022-05-04T18:48:48.569Z"
   },
   {
    "duration": 268,
    "start_time": "2022-05-04T18:48:48.576Z"
   },
   {
    "duration": 449,
    "start_time": "2022-05-04T18:48:48.845Z"
   },
   {
    "duration": 5,
    "start_time": "2022-05-04T18:48:49.295Z"
   },
   {
    "duration": 28,
    "start_time": "2022-05-04T18:48:49.301Z"
   },
   {
    "duration": 9,
    "start_time": "2022-05-04T18:48:49.331Z"
   },
   {
    "duration": 16,
    "start_time": "2022-05-04T18:48:49.342Z"
   },
   {
    "duration": 373,
    "start_time": "2022-05-04T18:48:49.360Z"
   },
   {
    "duration": 132,
    "start_time": "2022-05-04T18:48:49.735Z"
   },
   {
    "duration": 125,
    "start_time": "2022-05-04T18:48:49.870Z"
   },
   {
    "duration": 175,
    "start_time": "2022-05-04T18:48:49.996Z"
   },
   {
    "duration": 488,
    "start_time": "2022-05-04T18:48:50.173Z"
   },
   {
    "duration": 682,
    "start_time": "2022-05-04T18:48:50.663Z"
   },
   {
    "duration": 117,
    "start_time": "2022-05-04T18:48:51.347Z"
   },
   {
    "duration": 8,
    "start_time": "2022-05-04T18:48:51.466Z"
   },
   {
    "duration": 4,
    "start_time": "2022-05-04T18:48:51.476Z"
   },
   {
    "duration": 9,
    "start_time": "2022-05-04T18:48:51.482Z"
   },
   {
    "duration": 32,
    "start_time": "2022-05-04T18:48:51.492Z"
   },
   {
    "duration": 6,
    "start_time": "2022-05-04T18:48:51.525Z"
   },
   {
    "duration": 7,
    "start_time": "2022-05-04T18:48:51.533Z"
   },
   {
    "duration": 6,
    "start_time": "2022-05-04T18:48:51.542Z"
   },
   {
    "duration": 13,
    "start_time": "2022-05-04T18:48:51.550Z"
   },
   {
    "duration": 6,
    "start_time": "2022-05-04T18:48:51.565Z"
   },
   {
    "duration": 5,
    "start_time": "2022-05-04T18:49:25.803Z"
   },
   {
    "duration": 21,
    "start_time": "2022-05-04T18:49:39.359Z"
   },
   {
    "duration": 759,
    "start_time": "2022-05-04T18:51:50.760Z"
   },
   {
    "duration": 112,
    "start_time": "2022-05-04T18:52:09.742Z"
   },
   {
    "duration": 688,
    "start_time": "2022-05-04T18:52:12.953Z"
   },
   {
    "duration": 447,
    "start_time": "2022-05-04T18:52:42.416Z"
   },
   {
    "duration": 438,
    "start_time": "2022-05-04T18:53:07.218Z"
   },
   {
    "duration": 566,
    "start_time": "2022-05-04T18:53:13.251Z"
   },
   {
    "duration": 1400,
    "start_time": "2022-05-05T16:26:24.904Z"
   },
   {
    "duration": 267,
    "start_time": "2022-05-05T16:26:26.306Z"
   },
   {
    "duration": 17,
    "start_time": "2022-05-05T16:26:26.574Z"
   },
   {
    "duration": 13,
    "start_time": "2022-05-05T16:26:26.593Z"
   },
   {
    "duration": 10,
    "start_time": "2022-05-05T16:26:26.608Z"
   },
   {
    "duration": 11,
    "start_time": "2022-05-05T16:26:26.620Z"
   },
   {
    "duration": 7,
    "start_time": "2022-05-05T16:26:26.633Z"
   },
   {
    "duration": 5,
    "start_time": "2022-05-05T16:26:26.641Z"
   },
   {
    "duration": 60,
    "start_time": "2022-05-05T16:26:26.647Z"
   },
   {
    "duration": 9,
    "start_time": "2022-05-05T16:26:26.710Z"
   },
   {
    "duration": 108,
    "start_time": "2022-05-05T16:26:26.720Z"
   },
   {
    "duration": 16,
    "start_time": "2022-05-05T16:26:26.830Z"
   },
   {
    "duration": 15,
    "start_time": "2022-05-05T16:26:26.848Z"
   },
   {
    "duration": 60,
    "start_time": "2022-05-05T16:26:26.865Z"
   },
   {
    "duration": 36,
    "start_time": "2022-05-05T16:26:26.927Z"
   },
   {
    "duration": 78,
    "start_time": "2022-05-05T16:26:26.964Z"
   },
   {
    "duration": 31,
    "start_time": "2022-05-05T16:26:27.044Z"
   },
   {
    "duration": 52,
    "start_time": "2022-05-05T16:26:27.077Z"
   },
   {
    "duration": 13,
    "start_time": "2022-05-05T16:26:27.130Z"
   },
   {
    "duration": 12,
    "start_time": "2022-05-05T16:26:27.145Z"
   },
   {
    "duration": 9,
    "start_time": "2022-05-05T16:26:27.159Z"
   },
   {
    "duration": 52,
    "start_time": "2022-05-05T16:26:27.169Z"
   },
   {
    "duration": 12,
    "start_time": "2022-05-05T16:26:27.223Z"
   },
   {
    "duration": 15,
    "start_time": "2022-05-05T16:26:27.236Z"
   },
   {
    "duration": 10,
    "start_time": "2022-05-05T16:26:27.252Z"
   },
   {
    "duration": 6,
    "start_time": "2022-05-05T16:26:27.264Z"
   },
   {
    "duration": 41,
    "start_time": "2022-05-05T16:26:27.272Z"
   },
   {
    "duration": 28,
    "start_time": "2022-05-05T16:26:27.317Z"
   },
   {
    "duration": 26,
    "start_time": "2022-05-05T16:26:27.346Z"
   },
   {
    "duration": 33,
    "start_time": "2022-05-05T16:26:27.374Z"
   },
   {
    "duration": 6,
    "start_time": "2022-05-05T16:26:27.409Z"
   },
   {
    "duration": 7,
    "start_time": "2022-05-05T16:26:27.417Z"
   },
   {
    "duration": 7,
    "start_time": "2022-05-05T16:26:27.425Z"
   },
   {
    "duration": 6,
    "start_time": "2022-05-05T16:26:27.433Z"
   },
   {
    "duration": 6,
    "start_time": "2022-05-05T16:26:27.440Z"
   },
   {
    "duration": 8,
    "start_time": "2022-05-05T16:26:27.448Z"
   },
   {
    "duration": 5,
    "start_time": "2022-05-05T16:26:27.457Z"
   },
   {
    "duration": 6,
    "start_time": "2022-05-05T16:26:27.463Z"
   },
   {
    "duration": 47,
    "start_time": "2022-05-05T16:26:27.471Z"
   },
   {
    "duration": 9,
    "start_time": "2022-05-05T16:26:27.519Z"
   },
   {
    "duration": 5,
    "start_time": "2022-05-05T16:26:27.529Z"
   },
   {
    "duration": 6,
    "start_time": "2022-05-05T16:26:27.535Z"
   },
   {
    "duration": 6,
    "start_time": "2022-05-05T16:26:27.542Z"
   },
   {
    "duration": 9,
    "start_time": "2022-05-05T16:26:27.549Z"
   },
   {
    "duration": 56,
    "start_time": "2022-05-05T16:26:27.560Z"
   },
   {
    "duration": 3,
    "start_time": "2022-05-05T16:26:27.618Z"
   },
   {
    "duration": 24,
    "start_time": "2022-05-05T16:26:27.622Z"
   },
   {
    "duration": 19,
    "start_time": "2022-05-05T16:26:27.647Z"
   },
   {
    "duration": 48,
    "start_time": "2022-05-05T16:26:27.668Z"
   },
   {
    "duration": 7,
    "start_time": "2022-05-05T16:26:27.718Z"
   },
   {
    "duration": 25,
    "start_time": "2022-05-05T16:26:27.726Z"
   },
   {
    "duration": 5,
    "start_time": "2022-05-05T16:26:27.753Z"
   },
   {
    "duration": 301,
    "start_time": "2022-05-05T16:26:27.760Z"
   },
   {
    "duration": 486,
    "start_time": "2022-05-05T16:26:28.062Z"
   },
   {
    "duration": 4,
    "start_time": "2022-05-05T16:26:28.550Z"
   },
   {
    "duration": 17,
    "start_time": "2022-05-05T16:26:28.555Z"
   },
   {
    "duration": 8,
    "start_time": "2022-05-05T16:26:28.574Z"
   },
   {
    "duration": 35,
    "start_time": "2022-05-05T16:26:28.585Z"
   },
   {
    "duration": 377,
    "start_time": "2022-05-05T16:26:28.622Z"
   },
   {
    "duration": 137,
    "start_time": "2022-05-05T16:26:29.002Z"
   },
   {
    "duration": 133,
    "start_time": "2022-05-05T16:26:29.141Z"
   },
   {
    "duration": 150,
    "start_time": "2022-05-05T16:26:29.275Z"
   },
   {
    "duration": 702,
    "start_time": "2022-05-05T16:26:29.426Z"
   },
   {
    "duration": 1127,
    "start_time": "2022-05-05T16:26:30.129Z"
   },
   {
    "duration": 127,
    "start_time": "2022-05-05T16:26:31.257Z"
   },
   {
    "duration": 7,
    "start_time": "2022-05-05T16:26:31.386Z"
   },
   {
    "duration": 2,
    "start_time": "2022-05-05T16:26:31.407Z"
   },
   {
    "duration": 21,
    "start_time": "2022-05-05T16:26:31.411Z"
   },
   {
    "duration": 11,
    "start_time": "2022-05-05T16:26:31.434Z"
   },
   {
    "duration": 5,
    "start_time": "2022-05-05T16:26:31.446Z"
   },
   {
    "duration": 6,
    "start_time": "2022-05-05T16:26:31.452Z"
   },
   {
    "duration": 6,
    "start_time": "2022-05-05T16:26:31.460Z"
   },
   {
    "duration": 12,
    "start_time": "2022-05-05T16:26:31.468Z"
   },
   {
    "duration": 28,
    "start_time": "2022-05-05T16:26:31.482Z"
   }
  ],
  "kernelspec": {
   "display_name": "Python 3 (ipykernel)",
   "language": "python",
   "name": "python3"
  },
  "language_info": {
   "codemirror_mode": {
    "name": "ipython",
    "version": 3
   },
   "file_extension": ".py",
   "mimetype": "text/x-python",
   "name": "python",
   "nbconvert_exporter": "python",
   "pygments_lexer": "ipython3",
   "version": "3.9.12"
  },
  "toc": {
   "base_numbering": 1,
   "nav_menu": {},
   "number_sections": true,
   "sideBar": true,
   "skip_h1_title": false,
   "title_cell": "Table of Contents",
   "title_sidebar": "Contents",
   "toc_cell": false,
   "toc_position": {
    "height": "calc(100% - 180px)",
    "left": "10px",
    "top": "150px",
    "width": "240px"
   },
   "toc_section_display": true,
   "toc_window_display": true
  }
 },
 "nbformat": 4,
 "nbformat_minor": 2
}
