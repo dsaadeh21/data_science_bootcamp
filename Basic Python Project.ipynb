{
 "cells": [
  {
   "cell_type": "markdown",
   "metadata": {
    "id": "E0vqbgi9ay0H"
   },
   "source": [
    "# Yandex.Music"
   ]
  },
  {
   "cell_type": "markdown",
   "metadata": {
    "id": "VUC88oWjTJw2"
   },
   "source": [
    "## Introduction <a id='intro'></a>\n",
    "Whenever we're doing research, we need to formulate hypotheses that we can then test. Sometimes we accept these hypotheses; other times, we reject them. To make the right decisions, a business must be able to understand whether or not it's making the right assumptions.\n",
    "\n",
    "In this project, you'll compare the music preferences of the cities of Springfield and Shelbyville. You'll study real Yandex.Music data to test the hypotheses below and compare user behavior for these two cities.\n",
    "\n",
    "### Goal: \n",
    "Test three hypotheses:\n",
    "1. User activity differs depending on the day of the week and from city to city. \n",
    "2. On Monday mornings, Springfield and Shelbyville residents listen to different genres. This is also true for Friday evenings. \n",
    "3. Springfield and Shelbyville listeners have different preferences. In Springfield, they prefer pop, while Shelbyville has more rap fans.\n",
    "\n",
    "### Stages \n",
    "Data on user behavior is stored in the file `/datasets/music_project_en.csv`. There is no information about the quality of the data, so you will need to explore it before testing the hypotheses. \n",
    "\n",
    "First, you'll evaluate the quality of the data and see whether its issues are significant. Then, during data preprocessing, you will try to account for the most critical problems.\n",
    " \n",
    "Your project will consist of three stages:\n",
    " 1. Data overview\n",
    " 2. Data preprocessing\n",
    " 3. Testing the hypotheses\n",
    " \n",
    "[Back to Contents](#back)"
   ]
  },
  {
   "cell_type": "markdown",
   "metadata": {
    "id": "Ml1hmfXC_Zcs"
   },
   "source": [
    "## Stage 1. Data overview <a id='data_review'></a>\n",
    "\n",
    "Open the data on Yandex.Music and explore it."
   ]
  },
  {
   "cell_type": "markdown",
   "metadata": {
    "id": "57eAOGIz_Zcs"
   },
   "source": [
    "You'll need `pandas`, so import it."
   ]
  },
  {
   "cell_type": "code",
   "execution_count": 1,
   "metadata": {
    "id": "AXN7PHPN_Zcs"
   },
   "outputs": [],
   "source": [
    "# importing pandas\n",
    "import pandas as pd"
   ]
  },
  {
   "cell_type": "markdown",
   "metadata": {
    "id": "SG23P8tt_Zcs"
   },
   "source": [
    "Read the file `music_project_en.csv` from the `/datasets/` folder and save it in the `df` variable:"
   ]
  },
  {
   "cell_type": "code",
   "execution_count": 2,
   "metadata": {
    "id": "fFVu7vqh_Zct"
   },
   "outputs": [
    {
     "data": {
      "text/html": [
       "<div>\n",
       "<style scoped>\n",
       "    .dataframe tbody tr th:only-of-type {\n",
       "        vertical-align: middle;\n",
       "    }\n",
       "\n",
       "    .dataframe tbody tr th {\n",
       "        vertical-align: top;\n",
       "    }\n",
       "\n",
       "    .dataframe thead th {\n",
       "        text-align: right;\n",
       "    }\n",
       "</style>\n",
       "<table border=\"1\" class=\"dataframe\">\n",
       "  <thead>\n",
       "    <tr style=\"text-align: right;\">\n",
       "      <th></th>\n",
       "      <th>userID</th>\n",
       "      <th>Track</th>\n",
       "      <th>artist</th>\n",
       "      <th>genre</th>\n",
       "      <th>City</th>\n",
       "      <th>time</th>\n",
       "      <th>Day</th>\n",
       "    </tr>\n",
       "  </thead>\n",
       "  <tbody>\n",
       "    <tr>\n",
       "      <td>count</td>\n",
       "      <td>65079</td>\n",
       "      <td>63736</td>\n",
       "      <td>57512</td>\n",
       "      <td>63881</td>\n",
       "      <td>65079</td>\n",
       "      <td>65079</td>\n",
       "      <td>65079</td>\n",
       "    </tr>\n",
       "    <tr>\n",
       "      <td>unique</td>\n",
       "      <td>41748</td>\n",
       "      <td>39666</td>\n",
       "      <td>37806</td>\n",
       "      <td>268</td>\n",
       "      <td>2</td>\n",
       "      <td>20392</td>\n",
       "      <td>3</td>\n",
       "    </tr>\n",
       "    <tr>\n",
       "      <td>top</td>\n",
       "      <td>A8AE9169</td>\n",
       "      <td>Brand</td>\n",
       "      <td>Kartvelli</td>\n",
       "      <td>pop</td>\n",
       "      <td>Springfield</td>\n",
       "      <td>21:51:22</td>\n",
       "      <td>Friday</td>\n",
       "    </tr>\n",
       "    <tr>\n",
       "      <td>freq</td>\n",
       "      <td>76</td>\n",
       "      <td>136</td>\n",
       "      <td>136</td>\n",
       "      <td>8850</td>\n",
       "      <td>45360</td>\n",
       "      <td>14</td>\n",
       "      <td>23149</td>\n",
       "    </tr>\n",
       "  </tbody>\n",
       "</table>\n",
       "</div>"
      ],
      "text/plain": [
       "          userID  Track     artist  genre       City        time     Day\n",
       "count      65079  63736      57512  63881        65079     65079   65079\n",
       "unique     41748  39666      37806    268            2     20392       3\n",
       "top     A8AE9169  Brand  Kartvelli    pop  Springfield  21:51:22  Friday\n",
       "freq          76    136        136   8850        45360        14   23149"
      ]
     },
     "execution_count": 2,
     "metadata": {},
     "output_type": "execute_result"
    }
   ],
   "source": [
    "# reading the file and storing it to df\n",
    "df = pd.read_csv(\"/datasets/music_project_en.csv\")\n",
    "df.describe()"
   ]
  },
  {
   "cell_type": "markdown",
   "metadata": {
    "id": "rDoOMd3uTqnZ"
   },
   "source": [
    "Print the first 10 table rows:"
   ]
  },
  {
   "cell_type": "code",
   "execution_count": 3,
   "metadata": {
    "id": "oWTVX3gW_Zct"
   },
   "outputs": [
    {
     "data": {
      "text/html": [
       "<div>\n",
       "<style scoped>\n",
       "    .dataframe tbody tr th:only-of-type {\n",
       "        vertical-align: middle;\n",
       "    }\n",
       "\n",
       "    .dataframe tbody tr th {\n",
       "        vertical-align: top;\n",
       "    }\n",
       "\n",
       "    .dataframe thead th {\n",
       "        text-align: right;\n",
       "    }\n",
       "</style>\n",
       "<table border=\"1\" class=\"dataframe\">\n",
       "  <thead>\n",
       "    <tr style=\"text-align: right;\">\n",
       "      <th></th>\n",
       "      <th>userID</th>\n",
       "      <th>Track</th>\n",
       "      <th>artist</th>\n",
       "      <th>genre</th>\n",
       "      <th>City</th>\n",
       "      <th>time</th>\n",
       "      <th>Day</th>\n",
       "    </tr>\n",
       "  </thead>\n",
       "  <tbody>\n",
       "    <tr>\n",
       "      <td>0</td>\n",
       "      <td>FFB692EC</td>\n",
       "      <td>Kamigata To Boots</td>\n",
       "      <td>The Mass Missile</td>\n",
       "      <td>rock</td>\n",
       "      <td>Shelbyville</td>\n",
       "      <td>20:28:33</td>\n",
       "      <td>Wednesday</td>\n",
       "    </tr>\n",
       "    <tr>\n",
       "      <td>1</td>\n",
       "      <td>55204538</td>\n",
       "      <td>Delayed Because of Accident</td>\n",
       "      <td>Andreas Rönnberg</td>\n",
       "      <td>rock</td>\n",
       "      <td>Springfield</td>\n",
       "      <td>14:07:09</td>\n",
       "      <td>Friday</td>\n",
       "    </tr>\n",
       "    <tr>\n",
       "      <td>2</td>\n",
       "      <td>20EC38</td>\n",
       "      <td>Funiculì funiculà</td>\n",
       "      <td>Mario Lanza</td>\n",
       "      <td>pop</td>\n",
       "      <td>Shelbyville</td>\n",
       "      <td>20:58:07</td>\n",
       "      <td>Wednesday</td>\n",
       "    </tr>\n",
       "    <tr>\n",
       "      <td>3</td>\n",
       "      <td>A3DD03C9</td>\n",
       "      <td>Dragons in the Sunset</td>\n",
       "      <td>Fire + Ice</td>\n",
       "      <td>folk</td>\n",
       "      <td>Shelbyville</td>\n",
       "      <td>08:37:09</td>\n",
       "      <td>Monday</td>\n",
       "    </tr>\n",
       "    <tr>\n",
       "      <td>4</td>\n",
       "      <td>E2DC1FAE</td>\n",
       "      <td>Soul People</td>\n",
       "      <td>Space Echo</td>\n",
       "      <td>dance</td>\n",
       "      <td>Springfield</td>\n",
       "      <td>08:34:34</td>\n",
       "      <td>Monday</td>\n",
       "    </tr>\n",
       "    <tr>\n",
       "      <td>5</td>\n",
       "      <td>842029A1</td>\n",
       "      <td>Chains</td>\n",
       "      <td>Obladaet</td>\n",
       "      <td>rusrap</td>\n",
       "      <td>Shelbyville</td>\n",
       "      <td>13:09:41</td>\n",
       "      <td>Friday</td>\n",
       "    </tr>\n",
       "    <tr>\n",
       "      <td>6</td>\n",
       "      <td>4CB90AA5</td>\n",
       "      <td>True</td>\n",
       "      <td>Roman Messer</td>\n",
       "      <td>dance</td>\n",
       "      <td>Springfield</td>\n",
       "      <td>13:00:07</td>\n",
       "      <td>Wednesday</td>\n",
       "    </tr>\n",
       "    <tr>\n",
       "      <td>7</td>\n",
       "      <td>F03E1C1F</td>\n",
       "      <td>Feeling This Way</td>\n",
       "      <td>Polina Griffith</td>\n",
       "      <td>dance</td>\n",
       "      <td>Springfield</td>\n",
       "      <td>20:47:49</td>\n",
       "      <td>Wednesday</td>\n",
       "    </tr>\n",
       "    <tr>\n",
       "      <td>8</td>\n",
       "      <td>8FA1D3BE</td>\n",
       "      <td>L’estate</td>\n",
       "      <td>Julia Dalia</td>\n",
       "      <td>ruspop</td>\n",
       "      <td>Springfield</td>\n",
       "      <td>09:17:40</td>\n",
       "      <td>Friday</td>\n",
       "    </tr>\n",
       "    <tr>\n",
       "      <td>9</td>\n",
       "      <td>E772D5C0</td>\n",
       "      <td>Pessimist</td>\n",
       "      <td>NaN</td>\n",
       "      <td>dance</td>\n",
       "      <td>Shelbyville</td>\n",
       "      <td>21:20:49</td>\n",
       "      <td>Wednesday</td>\n",
       "    </tr>\n",
       "  </tbody>\n",
       "</table>\n",
       "</div>"
      ],
      "text/plain": [
       "     userID                        Track            artist   genre  \\\n",
       "0  FFB692EC            Kamigata To Boots  The Mass Missile    rock   \n",
       "1  55204538  Delayed Because of Accident  Andreas Rönnberg    rock   \n",
       "2    20EC38            Funiculì funiculà       Mario Lanza     pop   \n",
       "3  A3DD03C9        Dragons in the Sunset        Fire + Ice    folk   \n",
       "4  E2DC1FAE                  Soul People        Space Echo   dance   \n",
       "5  842029A1                       Chains          Obladaet  rusrap   \n",
       "6  4CB90AA5                         True      Roman Messer   dance   \n",
       "7  F03E1C1F             Feeling This Way   Polina Griffith   dance   \n",
       "8  8FA1D3BE                     L’estate       Julia Dalia  ruspop   \n",
       "9  E772D5C0                    Pessimist               NaN   dance   \n",
       "\n",
       "        City        time        Day  \n",
       "0  Shelbyville  20:28:33  Wednesday  \n",
       "1  Springfield  14:07:09     Friday  \n",
       "2  Shelbyville  20:58:07  Wednesday  \n",
       "3  Shelbyville  08:37:09     Monday  \n",
       "4  Springfield  08:34:34     Monday  \n",
       "5  Shelbyville  13:09:41     Friday  \n",
       "6  Springfield  13:00:07  Wednesday  \n",
       "7  Springfield  20:47:49  Wednesday  \n",
       "8  Springfield  09:17:40     Friday  \n",
       "9  Shelbyville  21:20:49  Wednesday  "
      ]
     },
     "execution_count": 3,
     "metadata": {},
     "output_type": "execute_result"
    }
   ],
   "source": [
    "# obtaining the first 10 rows from the df table\n",
    "df.head(10)"
   ]
  },
  {
   "cell_type": "markdown",
   "metadata": {
    "id": "EO73Kwic_Zct"
   },
   "source": [
    "Obtaining the general information about the table with one command:"
   ]
  },
  {
   "cell_type": "code",
   "execution_count": 4,
   "metadata": {
    "id": "DSf2kIb-_Zct"
   },
   "outputs": [
    {
     "name": "stdout",
     "output_type": "stream",
     "text": [
      "<class 'pandas.core.frame.DataFrame'>\n",
      "RangeIndex: 65079 entries, 0 to 65078\n",
      "Data columns (total 7 columns):\n",
      "  userID    65079 non-null object\n",
      "Track       63736 non-null object\n",
      "artist      57512 non-null object\n",
      "genre       63881 non-null object\n",
      "  City      65079 non-null object\n",
      "time        65079 non-null object\n",
      "Day         65079 non-null object\n",
      "dtypes: object(7)\n",
      "memory usage: 3.5+ MB\n"
     ]
    }
   ],
   "source": [
    "# obtaining general information about the data in df\n",
    "df.info()"
   ]
  },
  {
   "cell_type": "markdown",
   "metadata": {
    "id": "TaQ2Iwbr_Zct"
   },
   "source": [
    "The table contains seven columns. They all store the same data type: `object`.\n",
    "\n",
    "According to the documentation:\n",
    "- `'userID'` — user identifier\n",
    "- `'Track'` — track title\n",
    "- `'artist'` — artist's name\n",
    "- `'genre'`\n",
    "- `'City'` — user's city\n",
    "- `'time'` — the exact time the track was played\n",
    "- `'Day'` — day of the week\n",
    "\n",
    "We can see three issues with style in the column names:\n",
    "1. Some names are uppercase, some are lowercase.\n",
    "2. There are spaces in some names.\n",
    "3. `Underscore can be used to seperate two-word such as \"user_id`.\n",
    "\n",
    "The number of column values is different. This means the data contains missing values.\n"
   ]
  },
  {
   "cell_type": "markdown",
   "metadata": {
    "id": "MCB6-dXG_Zct"
   },
   "source": [
    "### Conclusions <a id='data_review_conclusions'></a> \n",
    "\n",
    "Each row in the table stores data on a track that was played. Some columns describe the track itself: its title, artist and genre. The rest convey information about the user: the city they come from, the time they played the track. \n",
    "\n",
    "It's clear that the data is sufficient to test the hypotheses. However, there are missing values.\n",
    "\n",
    "To move forward, we need to preprocess the data."
   ]
  },
  {
   "cell_type": "markdown",
   "metadata": {
    "id": "3eL__vcwViOi"
   },
   "source": [
    "[Back to Contents](#back)"
   ]
  },
  {
   "cell_type": "markdown",
   "metadata": {
    "id": "SjYF6Ub9_Zct"
   },
   "source": [
    "## Stage 2. Data preprocessing <a id='data_preprocessing'></a>\n",
    "Correct the formatting in the column headers and deal with the missing values. Then, check whether there are duplicates in the data."
   ]
  },
  {
   "cell_type": "markdown",
   "metadata": {
    "id": "dIaKXr29_Zct"
   },
   "source": [
    "### Header style <a id='header_style'></a>\n",
    "Print the column header:"
   ]
  },
  {
   "cell_type": "code",
   "execution_count": 5,
   "metadata": {
    "id": "oKOTdF_Q_Zct"
   },
   "outputs": [
    {
     "data": {
      "text/plain": [
       "Index(['  userID', 'Track', 'artist', 'genre', '  City  ', 'time', 'Day'], dtype='object')"
      ]
     },
     "execution_count": 5,
     "metadata": {},
     "output_type": "execute_result"
    }
   ],
   "source": [
    "# the list of column names in the df table\n",
    "df.columns\n"
   ]
  },
  {
   "cell_type": "markdown",
   "metadata": {
    "id": "zj5534cv_Zct"
   },
   "source": [
    "Change column names according to the rules of good style:\n",
    "* If the name has several words, use snake_case\n",
    "* All characters must be lowercase\n",
    "* Delete spaces"
   ]
  },
  {
   "cell_type": "code",
   "execution_count": 6,
   "metadata": {
    "id": "ISlFqs5y_Zct"
   },
   "outputs": [],
   "source": [
    "df= df.rename(columns={'  userID' : 'user_id', \"Track\": \"track\",\"  City  \": \"city\", \"Day\": \"day\"})"
   ]
  },
  {
   "cell_type": "markdown",
   "metadata": {
    "id": "1dqbh00J_Zct"
   },
   "source": [
    "Check the result. Print the names of the columns once more:"
   ]
  },
  {
   "cell_type": "code",
   "execution_count": 7,
   "metadata": {
    "id": "d4NOAmTW_Zct"
   },
   "outputs": [
    {
     "data": {
      "text/plain": [
       "Index(['user_id', 'track', 'artist', 'genre', 'city', 'time', 'day'], dtype='object')"
      ]
     },
     "execution_count": 7,
     "metadata": {},
     "output_type": "execute_result"
    }
   ],
   "source": [
    "df.columns"
   ]
  },
  {
   "cell_type": "markdown",
   "metadata": {
    "id": "xYJk6ksJVpOl"
   },
   "source": [
    "[Back to Contents](#back)"
   ]
  },
  {
   "cell_type": "markdown",
   "metadata": {
    "id": "5ISfbcfY_Zct"
   },
   "source": [
    "### Missing values <a id='missing_values'></a>\n",
    "First, find the number of missing values in the table. To do so, use two `pandas` methods:"
   ]
  },
  {
   "cell_type": "code",
   "execution_count": 8,
   "metadata": {
    "id": "RskX29qr_Zct"
   },
   "outputs": [
    {
     "data": {
      "text/plain": [
       "user_id       0\n",
       "track      1343\n",
       "artist     7567\n",
       "genre      1198\n",
       "city          0\n",
       "time          0\n",
       "day           0\n",
       "dtype: int64"
      ]
     },
     "execution_count": 8,
     "metadata": {},
     "output_type": "execute_result"
    }
   ],
   "source": [
    "# calculating missing values\n",
    "df.isna().sum()"
   ]
  },
  {
   "cell_type": "markdown",
   "metadata": {
    "id": "qubhgnlO_Zct"
   },
   "source": [
    "Not all missing values affect the research. For instance, the missing values in `track` and `artist` are not critical. You can simply replace them with clear markers.\n",
    "\n",
    "But missing values in `'genre'` can affect the comparison of music preferences in Springfield and Shelbyville. In real life, it would be useful to learn the reasons why the data is missing and try to make up for them. But we do not have that opportunity in this project. So you will have to:\n",
    "* Fill in these missing values with markers\n",
    "* Evaluate how much the missing values may affect your computations"
   ]
  },
  {
   "cell_type": "markdown",
   "metadata": {
    "id": "fSv2laPA_Zct"
   },
   "source": [
    "Replace the missing values in `'track'`, `'artist'`, and `'genre'` with the string `'unknown'`. To do this, create the `columns_to_replace` list, loop over it with `for`, and replace the missing values in each of the columns:"
   ]
  },
  {
   "cell_type": "code",
   "execution_count": 9,
   "metadata": {
    "id": "KplB5qWs_Zct"
   },
   "outputs": [],
   "source": [
    "# looping over column names and replacing missing values with 'unknown'\n",
    "#df[column] = df[column].fillna(\"unknown\")\n",
    "columns_to_replace = [\"track\", \"artist\", \"genre\"]\n",
    "for col in columns_to_replace:\n",
    "    df[col] = df[col].fillna(\"unknown\")\n",
    "\n",
    "    \n",
    "    \n",
    "    \n",
    "    \n",
    "    \n",
    "    \n",
    "    \n",
    "    \n",
    "    "
   ]
  },
  {
   "cell_type": "markdown",
   "metadata": {
    "id": "Ilsm-MZo_Zct"
   },
   "source": [
    "Make sure the table contains no more missing values. Count the missing values again."
   ]
  },
  {
   "cell_type": "code",
   "execution_count": 10,
   "metadata": {
    "id": "Tq4nYRX4_Zct"
   },
   "outputs": [
    {
     "data": {
      "text/plain": [
       "user_id    0\n",
       "track      0\n",
       "artist     0\n",
       "genre      0\n",
       "city       0\n",
       "time       0\n",
       "day        0\n",
       "dtype: int64"
      ]
     },
     "execution_count": 10,
     "metadata": {},
     "output_type": "execute_result"
    }
   ],
   "source": [
    "df.isna().sum()"
   ]
  },
  {
   "cell_type": "markdown",
   "metadata": {
    "id": "74ZIBmq9VrsK"
   },
   "source": [
    "[Back to Contents](#back)"
   ]
  },
  {
   "cell_type": "markdown",
   "metadata": {
    "id": "BWKRtBJ3_Zct"
   },
   "source": [
    "### Duplicates <a id='duplicates'></a>\n",
    "Find the number of obvious duplicates in the table using one command:"
   ]
  },
  {
   "cell_type": "code",
   "execution_count": 11,
   "metadata": {
    "id": "36eES_S0_Zct"
   },
   "outputs": [
    {
     "data": {
      "text/plain": [
       "3826"
      ]
     },
     "execution_count": 11,
     "metadata": {},
     "output_type": "execute_result"
    }
   ],
   "source": [
    "# counting clear duplicates\n",
    "df.duplicated().sum()"
   ]
  },
  {
   "cell_type": "markdown",
   "metadata": {
    "id": "Ot25h6XR_Zct"
   },
   "source": [
    "Call the `pandas` method for getting rid of obvious duplicates:"
   ]
  },
  {
   "cell_type": "code",
   "execution_count": 12,
   "metadata": {
    "id": "exFHq6tt_Zct"
   },
   "outputs": [],
   "source": [
    "# removing obvious duplicates\n",
    "df = df.drop_duplicates()"
   ]
  },
  {
   "cell_type": "markdown",
   "metadata": {
    "id": "Im2YwBEG_Zct"
   },
   "source": [
    "Count obvious duplicates once more to make sure you have removed all of them:"
   ]
  },
  {
   "cell_type": "code",
   "execution_count": 13,
   "metadata": {
    "id": "-8PuNWQ0_Zct"
   },
   "outputs": [
    {
     "data": {
      "text/plain": [
       "0"
      ]
     },
     "execution_count": 13,
     "metadata": {},
     "output_type": "execute_result"
    }
   ],
   "source": [
    "df.duplicated().sum()"
   ]
  },
  {
   "cell_type": "markdown",
   "metadata": {
    "id": "QlFBsxAr_Zct"
   },
   "source": [
    "Now get rid of implicit duplicates in the `genre` column. For example, the name of a genre can be written in different ways. Such errors will also affect the result."
   ]
  },
  {
   "cell_type": "markdown",
   "metadata": {
    "id": "eSjWwsOh_Zct"
   },
   "source": [
    "Print a list of unique genre names, sorted in alphabetical order. To do so:\n",
    "* Retrieve the intended DataFrame column \n",
    "* Apply a sorting method to it\n",
    "* For the sorted column, call the method that will return all unique column values"
   ]
  },
  {
   "cell_type": "code",
   "execution_count": 14,
   "metadata": {
    "id": "JIUcqzZN_Zct"
   },
   "outputs": [
    {
     "data": {
      "text/plain": [
       "array(['acid', 'acoustic', 'action', 'adult', 'africa', 'afrikaans',\n",
       "       'alternative', 'ambient', 'americana', 'animated', 'anime',\n",
       "       'arabesk', 'arabic', 'arena', 'argentinetango', 'art', 'audiobook',\n",
       "       'avantgarde', 'axé', 'baile', 'balkan', 'beats', 'bigroom',\n",
       "       'black', 'bluegrass', 'blues', 'bollywood', 'bossa', 'brazilian',\n",
       "       'breakbeat', 'breaks', 'broadway', 'cantautori', 'cantopop',\n",
       "       'canzone', 'caribbean', 'caucasian', 'celtic', 'chamber',\n",
       "       'children', 'chill', 'chinese', 'choral', 'christian', 'christmas',\n",
       "       'classical', 'classicmetal', 'club', 'colombian', 'comedy',\n",
       "       'conjazz', 'contemporary', 'country', 'cuban', 'dance',\n",
       "       'dancehall', 'dancepop', 'dark', 'death', 'deep', 'deutschrock',\n",
       "       'deutschspr', 'dirty', 'disco', 'dnb', 'documentary', 'downbeat',\n",
       "       'downtempo', 'drum', 'dub', 'dubstep', 'eastern', 'easy',\n",
       "       'electronic', 'electropop', 'emo', 'entehno', 'epicmetal',\n",
       "       'estrada', 'ethnic', 'eurofolk', 'european', 'experimental',\n",
       "       'extrememetal', 'fado', 'film', 'fitness', 'flamenco', 'folk',\n",
       "       'folklore', 'folkmetal', 'folkrock', 'folktronica', 'forró',\n",
       "       'frankreich', 'französisch', 'french', 'funk', 'future', 'gangsta',\n",
       "       'garage', 'german', 'ghazal', 'gitarre', 'glitch', 'gospel',\n",
       "       'gothic', 'grime', 'grunge', 'gypsy', 'handsup', \"hard'n'heavy\",\n",
       "       'hardcore', 'hardstyle', 'hardtechno', 'hip', 'hip-hop', 'hiphop',\n",
       "       'historisch', 'holiday', 'hop', 'horror', 'house', 'idm',\n",
       "       'independent', 'indian', 'indie', 'indipop', 'industrial',\n",
       "       'inspirational', 'instrumental', 'international', 'irish', 'jam',\n",
       "       'japanese', 'jazz', 'jewish', 'jpop', 'jungle', 'k-pop',\n",
       "       'karadeniz', 'karaoke', 'kayokyoku', 'korean', 'laiko', 'latin',\n",
       "       'latino', 'leftfield', 'local', 'lounge', 'loungeelectronic',\n",
       "       'lovers', 'malaysian', 'mandopop', 'marschmusik', 'meditative',\n",
       "       'mediterranean', 'melodic', 'metal', 'metalcore', 'mexican',\n",
       "       'middle', 'minimal', 'miscellaneous', 'modern', 'mood', 'mpb',\n",
       "       'muslim', 'native', 'neoklassik', 'neue', 'new', 'newage',\n",
       "       'newwave', 'nu', 'nujazz', 'numetal', 'oceania', 'old', 'opera',\n",
       "       'orchestral', 'other', 'piano', 'pop', 'popelectronic',\n",
       "       'popeurodance', 'post', 'posthardcore', 'postrock', 'power',\n",
       "       'progmetal', 'progressive', 'psychedelic', 'punjabi', 'punk',\n",
       "       'quebecois', 'ragga', 'ram', 'rancheras', 'rap', 'rave', 'reggae',\n",
       "       'reggaeton', 'regional', 'relax', 'religious', 'retro', 'rhythm',\n",
       "       'rnb', 'rnr', 'rock', 'rockabilly', 'romance', 'roots', 'ruspop',\n",
       "       'rusrap', 'rusrock', 'salsa', 'samba', 'schlager', 'self',\n",
       "       'sertanejo', 'shoegazing', 'showtunes', 'singer', 'ska', 'slow',\n",
       "       'smooth', 'soul', 'soulful', 'sound', 'soundtrack', 'southern',\n",
       "       'specialty', 'speech', 'spiritual', 'sport', 'stonerrock', 'surf',\n",
       "       'swing', 'synthpop', 'sängerportrait', 'tango', 'tanzorchester',\n",
       "       'taraftar', 'tech', 'techno', 'thrash', 'top', 'traditional',\n",
       "       'tradjazz', 'trance', 'tribal', 'trip', 'triphop', 'tropical',\n",
       "       'türk', 'türkçe', 'unknown', 'urban', 'uzbek', 'variété', 'vi',\n",
       "       'videogame', 'vocal', 'western', 'world', 'worldbeat', 'ïîï'],\n",
       "      dtype=object)"
      ]
     },
     "execution_count": 14,
     "metadata": {},
     "output_type": "execute_result"
    }
   ],
   "source": [
    "# viewing unique genre names\n",
    "df_unique= df[\"genre\"].unique()\n",
    "df_unique.sort()\n",
    "df_unique"
   ]
  },
  {
   "cell_type": "markdown",
   "metadata": {
    "id": "qej-Qmuo_Zct"
   },
   "source": [
    "Look through the list to find implicit duplicates of the genre `hiphop`. These could be names written incorrectly or alternative names of the same genre.\n",
    "\n",
    "You will see the following implicit duplicates:\n",
    "* `hip`\n",
    "* `hop`\n",
    "* `hip-hop`\n",
    "\n",
    "To get rid of them, declare the function `replace_wrong_genres()` with two parameters: \n",
    "* `wrong_genres=` — the list of duplicates\n",
    "* `correct_genre=` — the string with the correct value\n",
    "\n",
    "The function should correct the names in the `'genre'` column from the `df` table, i.e. replace each value from the `wrong_genres` list with the value in `correct_genre`."
   ]
  },
  {
   "cell_type": "code",
   "execution_count": 15,
   "metadata": {
    "id": "ErNDkmns_Zct"
   },
   "outputs": [],
   "source": [
    "# function for replacing implicit duplicates\n",
    "def replace_wrong_genres(wrong_genres, correct_genre):\n",
    "    df[\"genre\"] = df[\"genre\"].replace(wrong_genres, correct_genre)\n",
    "    \n",
    "    "
   ]
  },
  {
   "cell_type": "markdown",
   "metadata": {
    "id": "aDoBJxbA_Zct"
   },
   "source": [
    "Call `replace_wrong_genres()` and pass it arguments so that it clears implicit duplcates (`hip`, `hop`, and `hip-hop`) and replaces them with `hiphop`:"
   ]
  },
  {
   "cell_type": "code",
   "execution_count": 16,
   "metadata": {
    "id": "YN5i2hpmSo09"
   },
   "outputs": [],
   "source": [
    "# removing implicit duplicates\n",
    "replace_wrong_genres((\"hip\", \"hop\", \"hip-hop\"), \"hiphop\")\n"
   ]
  },
  {
   "cell_type": "markdown",
   "metadata": {
    "id": "zQKF16_RG15m"
   },
   "source": [
    "Make sure the duplicate names were removed. Print the list of unique values from the `'genre'` column:"
   ]
  },
  {
   "cell_type": "code",
   "execution_count": 17,
   "metadata": {
    "id": "wvixALnFG15m"
   },
   "outputs": [
    {
     "data": {
      "text/plain": [
       "array(['rock', 'pop', 'folk', 'dance', 'rusrap', 'ruspop', 'world',\n",
       "       'electronic', 'unknown', 'alternative', 'children', 'rnb',\n",
       "       'hiphop', 'jazz', 'postrock', 'latin', 'classical', 'metal',\n",
       "       'reggae', 'triphop', 'blues', 'instrumental', 'rusrock', 'dnb',\n",
       "       'türk', 'post', 'country', 'psychedelic', 'conjazz', 'indie',\n",
       "       'posthardcore', 'local', 'avantgarde', 'punk', 'videogame',\n",
       "       'techno', 'house', 'christmas', 'melodic', 'caucasian',\n",
       "       'reggaeton', 'soundtrack', 'singer', 'ska', 'salsa', 'ambient',\n",
       "       'film', 'western', 'rap', 'beats', \"hard'n'heavy\", 'progmetal',\n",
       "       'minimal', 'tropical', 'contemporary', 'new', 'soul', 'holiday',\n",
       "       'german', 'jpop', 'spiritual', 'urban', 'gospel', 'nujazz',\n",
       "       'folkmetal', 'trance', 'miscellaneous', 'anime', 'hardcore',\n",
       "       'progressive', 'korean', 'numetal', 'vocal', 'estrada', 'tango',\n",
       "       'loungeelectronic', 'classicmetal', 'dubstep', 'club', 'deep',\n",
       "       'southern', 'black', 'folkrock', 'fitness', 'french', 'disco',\n",
       "       'religious', 'drum', 'extrememetal', 'türkçe', 'experimental',\n",
       "       'easy', 'metalcore', 'modern', 'argentinetango', 'old', 'swing',\n",
       "       'breaks', 'eurofolk', 'stonerrock', 'industrial', 'funk', 'middle',\n",
       "       'variété', 'other', 'adult', 'christian', 'thrash', 'gothic',\n",
       "       'international', 'muslim', 'relax', 'schlager', 'caribbean', 'nu',\n",
       "       'breakbeat', 'comedy', 'chill', 'newage', 'specialty', 'uzbek',\n",
       "       'k-pop', 'balkan', 'chinese', 'meditative', 'dub', 'power',\n",
       "       'death', 'grime', 'arabesk', 'romance', 'flamenco', 'leftfield',\n",
       "       'european', 'tech', 'newwave', 'dancehall', 'mpb', 'piano', 'top',\n",
       "       'bigroom', 'opera', 'celtic', 'tradjazz', 'acoustic', 'epicmetal',\n",
       "       'historisch', 'downbeat', 'downtempo', 'africa', 'audiobook',\n",
       "       'jewish', 'sängerportrait', 'deutschrock', 'eastern', 'action',\n",
       "       'future', 'electropop', 'folklore', 'bollywood', 'marschmusik',\n",
       "       'rnr', 'karaoke', 'indian', 'rancheras', 'afrikaans', 'rhythm',\n",
       "       'sound', 'deutschspr', 'trip', 'lovers', 'choral', 'dancepop',\n",
       "       'retro', 'smooth', 'mexican', 'brazilian', 'ïîï', 'mood', 'surf',\n",
       "       'gangsta', 'inspirational', 'idm', 'ethnic', 'bluegrass',\n",
       "       'broadway', 'animated', 'americana', 'karadeniz', 'rockabilly',\n",
       "       'colombian', 'self', 'sertanejo', 'japanese', 'canzone', 'lounge',\n",
       "       'sport', 'ragga', 'traditional', 'gitarre', 'frankreich', 'emo',\n",
       "       'laiko', 'cantopop', 'glitch', 'documentary', 'oceania',\n",
       "       'popeurodance', 'dark', 'vi', 'grunge', 'hardstyle', 'samba',\n",
       "       'garage', 'art', 'folktronica', 'entehno', 'mediterranean',\n",
       "       'chamber', 'cuban', 'taraftar', 'gypsy', 'hardtechno',\n",
       "       'shoegazing', 'bossa', 'latino', 'worldbeat', 'malaysian', 'baile',\n",
       "       'ghazal', 'arabic', 'popelectronic', 'acid', 'kayokyoku',\n",
       "       'neoklassik', 'tribal', 'tanzorchester', 'native', 'independent',\n",
       "       'cantautori', 'handsup', 'punjabi', 'synthpop', 'rave',\n",
       "       'französisch', 'quebecois', 'speech', 'soulful', 'jam', 'ram',\n",
       "       'horror', 'orchestral', 'neue', 'roots', 'slow', 'jungle',\n",
       "       'indipop', 'axé', 'fado', 'showtunes', 'arena', 'irish',\n",
       "       'mandopop', 'forró', 'dirty', 'regional'], dtype=object)"
      ]
     },
     "execution_count": 17,
     "metadata": {},
     "output_type": "execute_result"
    }
   ],
   "source": [
    "# checking for implicit duplicates\n",
    "df[\"genre\"].unique()"
   ]
  },
  {
   "cell_type": "markdown",
   "metadata": {
    "id": "ALgNbvF3VtPA"
   },
   "source": [
    "[Back to Contents](#back)"
   ]
  },
  {
   "cell_type": "markdown",
   "metadata": {
    "id": "jz6a9-7HQUDd"
   },
   "source": [
    "### Conclusions <a id='data_preprocessing_conclusions'></a>\n",
    "We detected three issues with the data:\n",
    "\n",
    "- Incorrect header styles\n",
    "- Missing values\n",
    "- Obvious and implicit duplicates\n",
    "\n",
    "The headers have been cleaned up to make processing the table simpler.\n",
    "\n",
    "All missing values have been replaced with `'unknown'`. But we still have to see whether the missing values in `'genre'` will affect our calculations.\n",
    "\n",
    "The absence of duplicates will make the results more precise and easier to understand.\n",
    "\n",
    "Now we can move on to testing hypotheses. "
   ]
  },
  {
   "cell_type": "markdown",
   "metadata": {
    "id": "eK1es74rVujj"
   },
   "source": [
    "[Back to Contents](#back)"
   ]
  },
  {
   "cell_type": "markdown",
   "metadata": {
    "id": "WttZHXH0SqKk"
   },
   "source": [
    "## Stage 3. Testing hypotheses <a id='hypotheses'></a>"
   ]
  },
  {
   "cell_type": "markdown",
   "metadata": {
    "id": "Im936VVi_Zcu"
   },
   "source": [
    "### Hypothesis 1: comparing user behavior in two cities <a id='activity'></a>"
   ]
  },
  {
   "cell_type": "markdown",
   "metadata": {
    "id": "nwt_MuaL_Zcu"
   },
   "source": [
    "According to the first hypothesis, users from Springfield and Shelbyville listen to music differently. Test this using the data on three days of the week: Monday, Wednesday, and Friday.\n",
    "\n",
    "* Divide the users into groups by city.\n",
    "* Compare how many tracks each group played on Monday, Wednesday, and Friday.\n"
   ]
  },
  {
   "cell_type": "markdown",
   "metadata": {
    "id": "8Dw_YMmT_Zcu"
   },
   "source": [
    "For the sake of practice, perform each computation separately. \n",
    "\n",
    "Evaluate user activity in each city. Group the data by city and find the number of songs played in each group.\n",
    "\n"
   ]
  },
  {
   "cell_type": "code",
   "execution_count": 18,
   "metadata": {
    "id": "0_Qs96oh_Zcu"
   },
   "outputs": [
    {
     "data": {
      "text/plain": [
       "city\n",
       "Shelbyville    18512\n",
       "Springfield    42741\n",
       "Name: track, dtype: int64"
      ]
     },
     "execution_count": 18,
     "metadata": {},
     "output_type": "execute_result"
    }
   ],
   "source": [
    "# Counting up the tracks played in each city\n",
    "df.groupby(\"city\")[\"track\"].count()\n"
   ]
  },
  {
   "cell_type": "markdown",
   "metadata": {
    "id": "dzli3w8o_Zcu"
   },
   "source": [
    "Springfield has more tracks played than Shelbyville. But that does not imply that citizens of Springfield listen to music more often. This city is simply bigger, and there are more users.\n",
    "\n",
    "Now group the data by day of the week and find the number of tracks played on Monday, Wednesday, and Friday.\n"
   ]
  },
  {
   "cell_type": "code",
   "execution_count": 19,
   "metadata": {
    "id": "uZMKjiJz_Zcu"
   },
   "outputs": [
    {
     "data": {
      "text/plain": [
       "day\n",
       "Friday       21840\n",
       "Monday       21354\n",
       "Wednesday    18059\n",
       "Name: track, dtype: int64"
      ]
     },
     "execution_count": 19,
     "metadata": {},
     "output_type": "execute_result"
    }
   ],
   "source": [
    "# Calculating tracks played on each of the three days\n",
    "df.groupby(\"day\")[\"track\"].count()"
   ]
  },
  {
   "cell_type": "markdown",
   "metadata": {
    "id": "cC2tNrlL_Zcu"
   },
   "source": [
    "Wednesday is the quietest day overall. But if we consider the two cities separately, we might come to a different conclusion."
   ]
  },
  {
   "cell_type": "markdown",
   "metadata": {
    "id": "POzs8bGa_Zcu"
   },
   "source": [
    "You have seen how grouping by city or day works. Now write a function that will group by both.\n",
    "\n",
    "Create the `number_tracks()` function to calculate the number of songs played for a given day and city. It will require two parameters:\n",
    "* day of the week\n",
    "* name of the city\n",
    "\n",
    "In the function, use a variable to store the rows from the original table, where:\n",
    "  * `'day'` column value is equal to the `day` parameter\n",
    "  * `'city'` column value is equal to the `city` parameter\n",
    "\n",
    "Apply consecutive filtering with logical indexing.\n",
    "\n",
    "Then calculate the `'user_id'` column values in the resulting table. Store the result to a new variable. Return this variable from the function."
   ]
  },
  {
   "cell_type": "code",
   "execution_count": 20,
   "metadata": {
    "id": "Nz3GdQB1_Zcu"
   },
   "outputs": [],
   "source": [
    "def number_tracks(day, city):\n",
    "    track_list = df[df[\"day\"]==day]\n",
    "    track_list = track_list[track_list[\"city\"]==city]\n",
    "    track_list_count = track_list[\"user_id\"].count()\n",
    "    return track_list_count\n",
    "\n",
    "#def number_tracks(day, city):\n",
    "    #day == df[\"day\"]\n",
    "    #city == df[\"city\"] \n",
    "    #df[\"user_id\"].count()\n",
    "    #return track_list\n",
    "# <creating the function number_tracks()>\n",
    "# We'll declare a function with two parameters: day=, city=.\n",
    "# Let the track_list variable store the df rows where\n",
    "# the value in the 'day' column is equal to the day= parameter and, at the same time, \n",
    "# the value in the 'city' column is equal to the city= parameter (apply consecutive filtering \n",
    "# with logical indexing).\n",
    "# Let the track_list_count variable store the number of 'user_id' column values in track_list\n",
    "# (found with the count() method).\n",
    "# Let the function return a number: the value of track_list_count.\n",
    "\n",
    "# The function counts tracked played for a certain city and day.\n",
    "# It first retrieves the rows with the intended day from the table,\n",
    "# then filters out the rows with the intended city from the result,\n",
    "# then finds the number of 'user_id' values in the filtered table,\n",
    "# then returns that number.\n",
    "# To see what it returns, wrap the function call in print()."
   ]
  },
  {
   "cell_type": "markdown",
   "metadata": {
    "id": "ytf7xFrFJQ2r"
   },
   "source": [
    "Call `number_tracks()` six times, changing the parameter values, so that you retrieve the data on both cities for each of the three days."
   ]
  },
  {
   "cell_type": "code",
   "execution_count": 21,
   "metadata": {
    "id": "rJcRATNQ_Zcu"
   },
   "outputs": [
    {
     "data": {
      "text/plain": [
       "15740"
      ]
     },
     "execution_count": 21,
     "metadata": {},
     "output_type": "execute_result"
    }
   ],
   "source": [
    "# the number of songs played in Springfield on Monday\n",
    "number_tracks(\"Monday\", \"Springfield\")"
   ]
  },
  {
   "cell_type": "code",
   "execution_count": 22,
   "metadata": {
    "id": "hq_ncZ5T_Zcu"
   },
   "outputs": [
    {
     "data": {
      "text/plain": [
       "5614"
      ]
     },
     "execution_count": 22,
     "metadata": {},
     "output_type": "execute_result"
    }
   ],
   "source": [
    "# the number of songs played in Shelbyville on Monday\n",
    "number_tracks(\"Monday\", \"Shelbyville\")"
   ]
  },
  {
   "cell_type": "code",
   "execution_count": 23,
   "metadata": {
    "id": "_NTy2VPU_Zcu"
   },
   "outputs": [
    {
     "data": {
      "text/plain": [
       "11056"
      ]
     },
     "execution_count": 23,
     "metadata": {},
     "output_type": "execute_result"
    }
   ],
   "source": [
    "# the number of songs played in Springfield on Wednesday\n",
    "number_tracks(\"Wednesday\", \"Springfield\")"
   ]
  },
  {
   "cell_type": "code",
   "execution_count": 24,
   "metadata": {
    "id": "j2y3TAwo_Zcu"
   },
   "outputs": [
    {
     "data": {
      "text/plain": [
       "7003"
      ]
     },
     "execution_count": 24,
     "metadata": {},
     "output_type": "execute_result"
    }
   ],
   "source": [
    "# the number of songs played in Shelbyville on Wednesday\n",
    "number_tracks(\"Wednesday\", \"Shelbyville\")"
   ]
  },
  {
   "cell_type": "code",
   "execution_count": 25,
   "metadata": {
    "id": "vYDw5u_K_Zcu",
    "scrolled": true
   },
   "outputs": [
    {
     "data": {
      "text/plain": [
       "15945"
      ]
     },
     "execution_count": 25,
     "metadata": {},
     "output_type": "execute_result"
    }
   ],
   "source": [
    "# the number of songs played in Springfield on Friday\n",
    "number_tracks(\"Friday\", \"Springfield\")"
   ]
  },
  {
   "cell_type": "code",
   "execution_count": 26,
   "metadata": {
    "id": "8_yzFtW3_Zcu"
   },
   "outputs": [
    {
     "data": {
      "text/plain": [
       "5895"
      ]
     },
     "execution_count": 26,
     "metadata": {},
     "output_type": "execute_result"
    }
   ],
   "source": [
    "# the number of songs played in Shelbyville on Friday\n",
    "number_tracks(\"Friday\", \"Shelbyville\")"
   ]
  },
  {
   "cell_type": "markdown",
   "metadata": {
    "id": "7QXffbO-_Zcu"
   },
   "source": [
    "Use `pd.DataFrame` to create a table, where\n",
    "* Column names are: `['city', 'monday', 'wednesday', 'friday']`\n",
    "* The data is the results you got from `number_tracks()`"
   ]
  },
  {
   "cell_type": "code",
   "execution_count": 27,
   "metadata": {
    "id": "APAcLpOr_Zcu"
   },
   "outputs": [
    {
     "data": {
      "text/html": [
       "<div>\n",
       "<style scoped>\n",
       "    .dataframe tbody tr th:only-of-type {\n",
       "        vertical-align: middle;\n",
       "    }\n",
       "\n",
       "    .dataframe tbody tr th {\n",
       "        vertical-align: top;\n",
       "    }\n",
       "\n",
       "    .dataframe thead th {\n",
       "        text-align: right;\n",
       "    }\n",
       "</style>\n",
       "<table border=\"1\" class=\"dataframe\">\n",
       "  <thead>\n",
       "    <tr style=\"text-align: right;\">\n",
       "      <th></th>\n",
       "      <th>city</th>\n",
       "      <th>monday</th>\n",
       "      <th>wednesday</th>\n",
       "      <th>friday</th>\n",
       "    </tr>\n",
       "  </thead>\n",
       "  <tbody>\n",
       "    <tr>\n",
       "      <td>0</td>\n",
       "      <td>Shelbyville</td>\n",
       "      <td>5614</td>\n",
       "      <td>7006</td>\n",
       "      <td>5895</td>\n",
       "    </tr>\n",
       "    <tr>\n",
       "      <td>1</td>\n",
       "      <td>Springfield</td>\n",
       "      <td>15740</td>\n",
       "      <td>11056</td>\n",
       "      <td>15945</td>\n",
       "    </tr>\n",
       "  </tbody>\n",
       "</table>\n",
       "</div>"
      ],
      "text/plain": [
       "          city  monday  wednesday  friday\n",
       "0  Shelbyville    5614       7006    5895\n",
       "1  Springfield   15740      11056   15945"
      ]
     },
     "execution_count": 27,
     "metadata": {},
     "output_type": "execute_result"
    }
   ],
   "source": [
    "#titles = ['city', 'monday', 'wednesday', 'friday']\n",
    "#info= [[\"Shelbyville\", \"Springfield\"], [5614, 15740], [7006, 11056], [5895, 15945]]\n",
    "#table_info = {'city': [\"Shelbyville\", \"Springfield\"], \"monday\": [5614, 15740], \"wednesday\": [7006, 11056], \"friday\": [5895, 15945]}\n",
    "#df2= pd.DataFrame(data=table_info)\n",
    "#df2\n",
    "import pandas as pd\n",
    "data = [[\"Shelbyville\", 5614, 7006, 5895], [\"Springfield\", 15740, 11056, 15945]]\n",
    "df1 = pd.DataFrame(data, columns = [\"city\", \"monday\", \"wednesday\", \"friday\"])\n",
    "df1\n",
    "\n",
    "\n",
    "\n",
    "\n",
    "\n",
    "\n",
    "\n",
    "#d = {'col1': [1, 2], 'col2': [3, 4]}"
   ]
  },
  {
   "cell_type": "markdown",
   "metadata": {
    "id": "-EgPIHYu_Zcu"
   },
   "source": [
    "**Conclusions**\n",
    "\n",
    "The data reveals differences in user behavior:\n",
    "\n",
    "- In Springfield, the number of songs played peaks on Mondays and Fridays, while on Wednesday there is a decrease in activity.\n",
    "- In Shelbyville, on the contrary, users listen to music more on Wednesday. User activity on Monday and Friday is smaller.\n",
    "\n",
    "So the first hypothesis seems to be correct."
   ]
  },
  {
   "cell_type": "markdown",
   "metadata": {
    "id": "p7nFQajCVw5B"
   },
   "source": [
    "[Back to Contents](#back)"
   ]
  },
  {
   "cell_type": "markdown",
   "metadata": {
    "id": "atZAxtq4_Zcu"
   },
   "source": [
    "### Hypothesis 2: music at the beginning and end of the week <a id='week'></a>"
   ]
  },
  {
   "cell_type": "markdown",
   "metadata": {
    "id": "eXrQqXFH_Zcu"
   },
   "source": [
    "According to the second hypothesis, on Monday morning and Friday night, citizens of Springfield listen to genres that differ from ones users from Shelbyville enjoy."
   ]
  },
  {
   "cell_type": "markdown",
   "metadata": {
    "id": "S8UcW6Hw_Zcu"
   },
   "source": [
    "Get tables (make sure that the name of your combined table matches the DataFrame given in the two code blocks below):\n",
    "* For Springfield — `spr_general`\n",
    "* For Shelbyville — `shel_general`"
   ]
  },
  {
   "cell_type": "code",
   "execution_count": 28,
   "metadata": {
    "id": "qeaFfM_P_Zcu",
    "pycharm": {
     "is_executing": true
    }
   },
   "outputs": [
    {
     "data": {
      "text/html": [
       "<div>\n",
       "<style scoped>\n",
       "    .dataframe tbody tr th:only-of-type {\n",
       "        vertical-align: middle;\n",
       "    }\n",
       "\n",
       "    .dataframe tbody tr th {\n",
       "        vertical-align: top;\n",
       "    }\n",
       "\n",
       "    .dataframe thead th {\n",
       "        text-align: right;\n",
       "    }\n",
       "</style>\n",
       "<table border=\"1\" class=\"dataframe\">\n",
       "  <thead>\n",
       "    <tr style=\"text-align: right;\">\n",
       "      <th></th>\n",
       "      <th>user_id</th>\n",
       "      <th>track</th>\n",
       "      <th>artist</th>\n",
       "      <th>genre</th>\n",
       "      <th>city</th>\n",
       "      <th>time</th>\n",
       "      <th>day</th>\n",
       "    </tr>\n",
       "  </thead>\n",
       "  <tbody>\n",
       "    <tr>\n",
       "      <td>1</td>\n",
       "      <td>55204538</td>\n",
       "      <td>Delayed Because of Accident</td>\n",
       "      <td>Andreas Rönnberg</td>\n",
       "      <td>rock</td>\n",
       "      <td>Springfield</td>\n",
       "      <td>14:07:09</td>\n",
       "      <td>Friday</td>\n",
       "    </tr>\n",
       "    <tr>\n",
       "      <td>4</td>\n",
       "      <td>E2DC1FAE</td>\n",
       "      <td>Soul People</td>\n",
       "      <td>Space Echo</td>\n",
       "      <td>dance</td>\n",
       "      <td>Springfield</td>\n",
       "      <td>08:34:34</td>\n",
       "      <td>Monday</td>\n",
       "    </tr>\n",
       "    <tr>\n",
       "      <td>6</td>\n",
       "      <td>4CB90AA5</td>\n",
       "      <td>True</td>\n",
       "      <td>Roman Messer</td>\n",
       "      <td>dance</td>\n",
       "      <td>Springfield</td>\n",
       "      <td>13:00:07</td>\n",
       "      <td>Wednesday</td>\n",
       "    </tr>\n",
       "    <tr>\n",
       "      <td>7</td>\n",
       "      <td>F03E1C1F</td>\n",
       "      <td>Feeling This Way</td>\n",
       "      <td>Polina Griffith</td>\n",
       "      <td>dance</td>\n",
       "      <td>Springfield</td>\n",
       "      <td>20:47:49</td>\n",
       "      <td>Wednesday</td>\n",
       "    </tr>\n",
       "    <tr>\n",
       "      <td>8</td>\n",
       "      <td>8FA1D3BE</td>\n",
       "      <td>L’estate</td>\n",
       "      <td>Julia Dalia</td>\n",
       "      <td>ruspop</td>\n",
       "      <td>Springfield</td>\n",
       "      <td>09:17:40</td>\n",
       "      <td>Friday</td>\n",
       "    </tr>\n",
       "    <tr>\n",
       "      <td>10</td>\n",
       "      <td>BC5A3A29</td>\n",
       "      <td>Gool la Mita</td>\n",
       "      <td>Shireen Abdul Wahab</td>\n",
       "      <td>world</td>\n",
       "      <td>Springfield</td>\n",
       "      <td>14:08:42</td>\n",
       "      <td>Monday</td>\n",
       "    </tr>\n",
       "    <tr>\n",
       "      <td>11</td>\n",
       "      <td>8B5192C0</td>\n",
       "      <td>Is There Anybody Out There? (Panoramic Paralys...</td>\n",
       "      <td>Pink Floyd Floydhead</td>\n",
       "      <td>electronic</td>\n",
       "      <td>Springfield</td>\n",
       "      <td>13:47:49</td>\n",
       "      <td>Monday</td>\n",
       "    </tr>\n",
       "    <tr>\n",
       "      <td>12</td>\n",
       "      <td>FF3FD2BD</td>\n",
       "      <td>Truth</td>\n",
       "      <td>Bamboo</td>\n",
       "      <td>pop</td>\n",
       "      <td>Springfield</td>\n",
       "      <td>09:19:49</td>\n",
       "      <td>Monday</td>\n",
       "    </tr>\n",
       "    <tr>\n",
       "      <td>13</td>\n",
       "      <td>CC782B0F</td>\n",
       "      <td>After School Special</td>\n",
       "      <td>Detroit Grand Pubahs</td>\n",
       "      <td>dance</td>\n",
       "      <td>Springfield</td>\n",
       "      <td>20:04:12</td>\n",
       "      <td>Friday</td>\n",
       "    </tr>\n",
       "    <tr>\n",
       "      <td>15</td>\n",
       "      <td>E3C5756F</td>\n",
       "      <td>unknown</td>\n",
       "      <td>unknown</td>\n",
       "      <td>unknown</td>\n",
       "      <td>Springfield</td>\n",
       "      <td>09:24:51</td>\n",
       "      <td>Monday</td>\n",
       "    </tr>\n",
       "    <tr>\n",
       "      <td>19</td>\n",
       "      <td>772F5B59</td>\n",
       "      <td>Sweetback</td>\n",
       "      <td>The Fabulous Three</td>\n",
       "      <td>rnb</td>\n",
       "      <td>Springfield</td>\n",
       "      <td>13:56:42</td>\n",
       "      <td>Wednesday</td>\n",
       "    </tr>\n",
       "    <tr>\n",
       "      <td>20</td>\n",
       "      <td>201CF2A8</td>\n",
       "      <td>Ya'll In Trouble</td>\n",
       "      <td>Lil Tee Chill Tank Young Buck Brother Mohammed...</td>\n",
       "      <td>hiphop</td>\n",
       "      <td>Springfield</td>\n",
       "      <td>08:46:03</td>\n",
       "      <td>Monday</td>\n",
       "    </tr>\n",
       "    <tr>\n",
       "      <td>21</td>\n",
       "      <td>44B8E869</td>\n",
       "      <td>Nanovirus</td>\n",
       "      <td>Exotype</td>\n",
       "      <td>rock</td>\n",
       "      <td>Springfield</td>\n",
       "      <td>21:36:40</td>\n",
       "      <td>Monday</td>\n",
       "    </tr>\n",
       "    <tr>\n",
       "      <td>23</td>\n",
       "      <td>A729591B</td>\n",
       "      <td>Gavotte</td>\n",
       "      <td>Hachidai Nakamura</td>\n",
       "      <td>jazz</td>\n",
       "      <td>Springfield</td>\n",
       "      <td>13:56:00</td>\n",
       "      <td>Monday</td>\n",
       "    </tr>\n",
       "    <tr>\n",
       "      <td>27</td>\n",
       "      <td>9CC6AA46</td>\n",
       "      <td>Mucho Corazón</td>\n",
       "      <td>Buena Vista Social Club</td>\n",
       "      <td>latin</td>\n",
       "      <td>Springfield</td>\n",
       "      <td>14:06:22</td>\n",
       "      <td>Monday</td>\n",
       "    </tr>\n",
       "    <tr>\n",
       "      <td>28</td>\n",
       "      <td>D8D698A9</td>\n",
       "      <td>Romantici</td>\n",
       "      <td>Viola Valentino</td>\n",
       "      <td>pop</td>\n",
       "      <td>Springfield</td>\n",
       "      <td>08:23:21</td>\n",
       "      <td>Wednesday</td>\n",
       "    </tr>\n",
       "    <tr>\n",
       "      <td>33</td>\n",
       "      <td>809CAFB1</td>\n",
       "      <td>Break Me Down</td>\n",
       "      <td>Steve Angello</td>\n",
       "      <td>dance</td>\n",
       "      <td>Springfield</td>\n",
       "      <td>14:42:31</td>\n",
       "      <td>Monday</td>\n",
       "    </tr>\n",
       "    <tr>\n",
       "      <td>34</td>\n",
       "      <td>B416A40F</td>\n",
       "      <td>Maybe</td>\n",
       "      <td>Maria Michelle</td>\n",
       "      <td>ruspop</td>\n",
       "      <td>Springfield</td>\n",
       "      <td>14:49:21</td>\n",
       "      <td>Friday</td>\n",
       "    </tr>\n",
       "    <tr>\n",
       "      <td>35</td>\n",
       "      <td>A8AE9169</td>\n",
       "      <td>unknown</td>\n",
       "      <td>unknown</td>\n",
       "      <td>unknown</td>\n",
       "      <td>Springfield</td>\n",
       "      <td>08:56:10</td>\n",
       "      <td>Monday</td>\n",
       "    </tr>\n",
       "    <tr>\n",
       "      <td>36</td>\n",
       "      <td>FCDF1C8E</td>\n",
       "      <td>Nasebanaru</td>\n",
       "      <td>Zen</td>\n",
       "      <td>reggae</td>\n",
       "      <td>Springfield</td>\n",
       "      <td>20:19:36</td>\n",
       "      <td>Wednesday</td>\n",
       "    </tr>\n",
       "    <tr>\n",
       "      <td>37</td>\n",
       "      <td>C800FA98</td>\n",
       "      <td>Body Talk</td>\n",
       "      <td>Ratt</td>\n",
       "      <td>rock</td>\n",
       "      <td>Springfield</td>\n",
       "      <td>08:45:16</td>\n",
       "      <td>Monday</td>\n",
       "    </tr>\n",
       "    <tr>\n",
       "      <td>42</td>\n",
       "      <td>F9AD83A7</td>\n",
       "      <td>Fancy</td>\n",
       "      <td>Grey Killer</td>\n",
       "      <td>triphop</td>\n",
       "      <td>Springfield</td>\n",
       "      <td>14:53:39</td>\n",
       "      <td>Friday</td>\n",
       "    </tr>\n",
       "    <tr>\n",
       "      <td>43</td>\n",
       "      <td>9A22399C</td>\n",
       "      <td>Sweet October</td>\n",
       "      <td>Ministers of Music</td>\n",
       "      <td>dance</td>\n",
       "      <td>Springfield</td>\n",
       "      <td>20:32:33</td>\n",
       "      <td>Friday</td>\n",
       "    </tr>\n",
       "    <tr>\n",
       "      <td>44</td>\n",
       "      <td>CD0BE030</td>\n",
       "      <td>Falling for Me</td>\n",
       "      <td>Benson Taylor</td>\n",
       "      <td>pop</td>\n",
       "      <td>Springfield</td>\n",
       "      <td>09:21:00</td>\n",
       "      <td>Friday</td>\n",
       "    </tr>\n",
       "    <tr>\n",
       "      <td>45</td>\n",
       "      <td>E6072F55</td>\n",
       "      <td>SOS</td>\n",
       "      <td>Peter Cetera</td>\n",
       "      <td>pop</td>\n",
       "      <td>Springfield</td>\n",
       "      <td>20:10:04</td>\n",
       "      <td>Wednesday</td>\n",
       "    </tr>\n",
       "    <tr>\n",
       "      <td>46</td>\n",
       "      <td>825997A5</td>\n",
       "      <td>Glorious Feeling</td>\n",
       "      <td>Joelistics</td>\n",
       "      <td>hiphop</td>\n",
       "      <td>Springfield</td>\n",
       "      <td>21:46:34</td>\n",
       "      <td>Friday</td>\n",
       "    </tr>\n",
       "    <tr>\n",
       "      <td>48</td>\n",
       "      <td>8D0DCE83</td>\n",
       "      <td>Little Bitty Pretty One</td>\n",
       "      <td>Thurston Harris</td>\n",
       "      <td>blues</td>\n",
       "      <td>Springfield</td>\n",
       "      <td>09:41:14</td>\n",
       "      <td>Friday</td>\n",
       "    </tr>\n",
       "    <tr>\n",
       "      <td>50</td>\n",
       "      <td>3DBEB447</td>\n",
       "      <td>Entrance</td>\n",
       "      <td>Sun Electric</td>\n",
       "      <td>dance</td>\n",
       "      <td>Springfield</td>\n",
       "      <td>08:36:27</td>\n",
       "      <td>Monday</td>\n",
       "    </tr>\n",
       "    <tr>\n",
       "      <td>51</td>\n",
       "      <td>107EBCED</td>\n",
       "      <td>Lightbulbs</td>\n",
       "      <td>The Uchpochmack</td>\n",
       "      <td>rusrock</td>\n",
       "      <td>Springfield</td>\n",
       "      <td>21:02:57</td>\n",
       "      <td>Wednesday</td>\n",
       "    </tr>\n",
       "    <tr>\n",
       "      <td>52</td>\n",
       "      <td>C9EAF7B7</td>\n",
       "      <td>Giratina</td>\n",
       "      <td>Dimatik</td>\n",
       "      <td>electronic</td>\n",
       "      <td>Springfield</td>\n",
       "      <td>09:48:21</td>\n",
       "      <td>Monday</td>\n",
       "    </tr>\n",
       "  </tbody>\n",
       "</table>\n",
       "</div>"
      ],
      "text/plain": [
       "     user_id                                              track  \\\n",
       "1   55204538                        Delayed Because of Accident   \n",
       "4   E2DC1FAE                                        Soul People   \n",
       "6   4CB90AA5                                               True   \n",
       "7   F03E1C1F                                   Feeling This Way   \n",
       "8   8FA1D3BE                                           L’estate   \n",
       "10  BC5A3A29                                       Gool la Mita   \n",
       "11  8B5192C0  Is There Anybody Out There? (Panoramic Paralys...   \n",
       "12  FF3FD2BD                                              Truth   \n",
       "13  CC782B0F                               After School Special   \n",
       "15  E3C5756F                                            unknown   \n",
       "19  772F5B59                                          Sweetback   \n",
       "20  201CF2A8                                   Ya'll In Trouble   \n",
       "21  44B8E869                                          Nanovirus   \n",
       "23  A729591B                                            Gavotte   \n",
       "27  9CC6AA46                                      Mucho Corazón   \n",
       "28  D8D698A9                                          Romantici   \n",
       "33  809CAFB1                                      Break Me Down   \n",
       "34  B416A40F                                              Maybe   \n",
       "35  A8AE9169                                            unknown   \n",
       "36  FCDF1C8E                                         Nasebanaru   \n",
       "37  C800FA98                                          Body Talk   \n",
       "42  F9AD83A7                                              Fancy   \n",
       "43  9A22399C                                      Sweet October   \n",
       "44  CD0BE030                                     Falling for Me   \n",
       "45  E6072F55                                                SOS   \n",
       "46  825997A5                                   Glorious Feeling   \n",
       "48  8D0DCE83                            Little Bitty Pretty One   \n",
       "50  3DBEB447                                           Entrance   \n",
       "51  107EBCED                                         Lightbulbs   \n",
       "52  C9EAF7B7                                           Giratina   \n",
       "\n",
       "                                               artist       genre  \\\n",
       "1                                    Andreas Rönnberg        rock   \n",
       "4                                          Space Echo       dance   \n",
       "6                                        Roman Messer       dance   \n",
       "7                                     Polina Griffith       dance   \n",
       "8                                         Julia Dalia      ruspop   \n",
       "10                                Shireen Abdul Wahab       world   \n",
       "11                               Pink Floyd Floydhead  electronic   \n",
       "12                                             Bamboo         pop   \n",
       "13                               Detroit Grand Pubahs       dance   \n",
       "15                                            unknown     unknown   \n",
       "19                                 The Fabulous Three         rnb   \n",
       "20  Lil Tee Chill Tank Young Buck Brother Mohammed...      hiphop   \n",
       "21                                            Exotype        rock   \n",
       "23                                  Hachidai Nakamura        jazz   \n",
       "27                            Buena Vista Social Club       latin   \n",
       "28                                    Viola Valentino         pop   \n",
       "33                                      Steve Angello       dance   \n",
       "34                                     Maria Michelle      ruspop   \n",
       "35                                            unknown     unknown   \n",
       "36                                                Zen      reggae   \n",
       "37                                               Ratt        rock   \n",
       "42                                        Grey Killer     triphop   \n",
       "43                                 Ministers of Music       dance   \n",
       "44                                      Benson Taylor         pop   \n",
       "45                                       Peter Cetera         pop   \n",
       "46                                         Joelistics      hiphop   \n",
       "48                                    Thurston Harris       blues   \n",
       "50                                       Sun Electric       dance   \n",
       "51                                    The Uchpochmack     rusrock   \n",
       "52                                            Dimatik  electronic   \n",
       "\n",
       "           city      time        day  \n",
       "1   Springfield  14:07:09     Friday  \n",
       "4   Springfield  08:34:34     Monday  \n",
       "6   Springfield  13:00:07  Wednesday  \n",
       "7   Springfield  20:47:49  Wednesday  \n",
       "8   Springfield  09:17:40     Friday  \n",
       "10  Springfield  14:08:42     Monday  \n",
       "11  Springfield  13:47:49     Monday  \n",
       "12  Springfield  09:19:49     Monday  \n",
       "13  Springfield  20:04:12     Friday  \n",
       "15  Springfield  09:24:51     Monday  \n",
       "19  Springfield  13:56:42  Wednesday  \n",
       "20  Springfield  08:46:03     Monday  \n",
       "21  Springfield  21:36:40     Monday  \n",
       "23  Springfield  13:56:00     Monday  \n",
       "27  Springfield  14:06:22     Monday  \n",
       "28  Springfield  08:23:21  Wednesday  \n",
       "33  Springfield  14:42:31     Monday  \n",
       "34  Springfield  14:49:21     Friday  \n",
       "35  Springfield  08:56:10     Monday  \n",
       "36  Springfield  20:19:36  Wednesday  \n",
       "37  Springfield  08:45:16     Monday  \n",
       "42  Springfield  14:53:39     Friday  \n",
       "43  Springfield  20:32:33     Friday  \n",
       "44  Springfield  09:21:00     Friday  \n",
       "45  Springfield  20:10:04  Wednesday  \n",
       "46  Springfield  21:46:34     Friday  \n",
       "48  Springfield  09:41:14     Friday  \n",
       "50  Springfield  08:36:27     Monday  \n",
       "51  Springfield  21:02:57  Wednesday  \n",
       "52  Springfield  09:48:21     Monday  "
      ]
     },
     "execution_count": 28,
     "metadata": {},
     "output_type": "execute_result"
    }
   ],
   "source": [
    "# create the spr_general table from the df rows, \n",
    "# where the value in the 'city' column is 'Springfield'\n",
    "spr_general= df[df[\"city\"] == \"Springfield\"]\n",
    "spr_general.head(30)"
   ]
  },
  {
   "cell_type": "code",
   "execution_count": 29,
   "metadata": {
    "id": "ORaVRKto_Zcu"
   },
   "outputs": [
    {
     "data": {
      "text/html": [
       "<div>\n",
       "<style scoped>\n",
       "    .dataframe tbody tr th:only-of-type {\n",
       "        vertical-align: middle;\n",
       "    }\n",
       "\n",
       "    .dataframe tbody tr th {\n",
       "        vertical-align: top;\n",
       "    }\n",
       "\n",
       "    .dataframe thead th {\n",
       "        text-align: right;\n",
       "    }\n",
       "</style>\n",
       "<table border=\"1\" class=\"dataframe\">\n",
       "  <thead>\n",
       "    <tr style=\"text-align: right;\">\n",
       "      <th></th>\n",
       "      <th>user_id</th>\n",
       "      <th>track</th>\n",
       "      <th>artist</th>\n",
       "      <th>genre</th>\n",
       "      <th>city</th>\n",
       "      <th>time</th>\n",
       "      <th>day</th>\n",
       "    </tr>\n",
       "  </thead>\n",
       "  <tbody>\n",
       "    <tr>\n",
       "      <td>0</td>\n",
       "      <td>FFB692EC</td>\n",
       "      <td>Kamigata To Boots</td>\n",
       "      <td>The Mass Missile</td>\n",
       "      <td>rock</td>\n",
       "      <td>Shelbyville</td>\n",
       "      <td>20:28:33</td>\n",
       "      <td>Wednesday</td>\n",
       "    </tr>\n",
       "    <tr>\n",
       "      <td>2</td>\n",
       "      <td>20EC38</td>\n",
       "      <td>Funiculì funiculà</td>\n",
       "      <td>Mario Lanza</td>\n",
       "      <td>pop</td>\n",
       "      <td>Shelbyville</td>\n",
       "      <td>20:58:07</td>\n",
       "      <td>Wednesday</td>\n",
       "    </tr>\n",
       "    <tr>\n",
       "      <td>3</td>\n",
       "      <td>A3DD03C9</td>\n",
       "      <td>Dragons in the Sunset</td>\n",
       "      <td>Fire + Ice</td>\n",
       "      <td>folk</td>\n",
       "      <td>Shelbyville</td>\n",
       "      <td>08:37:09</td>\n",
       "      <td>Monday</td>\n",
       "    </tr>\n",
       "    <tr>\n",
       "      <td>5</td>\n",
       "      <td>842029A1</td>\n",
       "      <td>Chains</td>\n",
       "      <td>Obladaet</td>\n",
       "      <td>rusrap</td>\n",
       "      <td>Shelbyville</td>\n",
       "      <td>13:09:41</td>\n",
       "      <td>Friday</td>\n",
       "    </tr>\n",
       "    <tr>\n",
       "      <td>9</td>\n",
       "      <td>E772D5C0</td>\n",
       "      <td>Pessimist</td>\n",
       "      <td>unknown</td>\n",
       "      <td>dance</td>\n",
       "      <td>Shelbyville</td>\n",
       "      <td>21:20:49</td>\n",
       "      <td>Wednesday</td>\n",
       "    </tr>\n",
       "    <tr>\n",
       "      <td>14</td>\n",
       "      <td>94EB25C2</td>\n",
       "      <td>Make Love Whenever You Can</td>\n",
       "      <td>Arabesque</td>\n",
       "      <td>pop</td>\n",
       "      <td>Shelbyville</td>\n",
       "      <td>13:22:08</td>\n",
       "      <td>Wednesday</td>\n",
       "    </tr>\n",
       "    <tr>\n",
       "      <td>16</td>\n",
       "      <td>81D05C7D</td>\n",
       "      <td>SLAVES OF FEAR</td>\n",
       "      <td>HEALTH</td>\n",
       "      <td>alternative</td>\n",
       "      <td>Shelbyville</td>\n",
       "      <td>20:54:48</td>\n",
       "      <td>Monday</td>\n",
       "    </tr>\n",
       "    <tr>\n",
       "      <td>17</td>\n",
       "      <td>39DE290E</td>\n",
       "      <td>Hallo Hallo</td>\n",
       "      <td>Die Klima Hawaiians</td>\n",
       "      <td>folk</td>\n",
       "      <td>Shelbyville</td>\n",
       "      <td>14:36:47</td>\n",
       "      <td>Monday</td>\n",
       "    </tr>\n",
       "    <tr>\n",
       "      <td>18</td>\n",
       "      <td>58AE138A</td>\n",
       "      <td>Pat-a-Cake</td>\n",
       "      <td>Mother Goose Club</td>\n",
       "      <td>children</td>\n",
       "      <td>Shelbyville</td>\n",
       "      <td>20:04:56</td>\n",
       "      <td>Monday</td>\n",
       "    </tr>\n",
       "    <tr>\n",
       "      <td>22</td>\n",
       "      <td>B8E29C9C</td>\n",
       "      <td>The Drunken Scotsman</td>\n",
       "      <td>Ménage à Moi</td>\n",
       "      <td>folk</td>\n",
       "      <td>Shelbyville</td>\n",
       "      <td>20:20:49</td>\n",
       "      <td>Wednesday</td>\n",
       "    </tr>\n",
       "    <tr>\n",
       "      <td>24</td>\n",
       "      <td>8BA8855</td>\n",
       "      <td>A Universal Weakness</td>\n",
       "      <td>Lowercase Noises</td>\n",
       "      <td>postrock</td>\n",
       "      <td>Shelbyville</td>\n",
       "      <td>21:17:25</td>\n",
       "      <td>Wednesday</td>\n",
       "    </tr>\n",
       "    <tr>\n",
       "      <td>25</td>\n",
       "      <td>A4504035</td>\n",
       "      <td>Cradle in Bethlehem</td>\n",
       "      <td>Nat King Cole</td>\n",
       "      <td>jazz</td>\n",
       "      <td>Shelbyville</td>\n",
       "      <td>09:23:01</td>\n",
       "      <td>Wednesday</td>\n",
       "    </tr>\n",
       "    <tr>\n",
       "      <td>26</td>\n",
       "      <td>982219FD</td>\n",
       "      <td>We Not Speak Americano</td>\n",
       "      <td>Genio Band</td>\n",
       "      <td>pop</td>\n",
       "      <td>Shelbyville</td>\n",
       "      <td>20:03:03</td>\n",
       "      <td>Monday</td>\n",
       "    </tr>\n",
       "    <tr>\n",
       "      <td>29</td>\n",
       "      <td>5661F63E</td>\n",
       "      <td>Purcell: Dido and Aeneas / Act 3 - \"See the fl...</td>\n",
       "      <td>Teresa Shaw</td>\n",
       "      <td>classical</td>\n",
       "      <td>Shelbyville</td>\n",
       "      <td>08:33:58</td>\n",
       "      <td>Wednesday</td>\n",
       "    </tr>\n",
       "    <tr>\n",
       "      <td>30</td>\n",
       "      <td>EBA5A8B2</td>\n",
       "      <td>Päivän Nousu Nostajani</td>\n",
       "      <td>Värttinä</td>\n",
       "      <td>world</td>\n",
       "      <td>Shelbyville</td>\n",
       "      <td>08:00:31</td>\n",
       "      <td>Friday</td>\n",
       "    </tr>\n",
       "    <tr>\n",
       "      <td>31</td>\n",
       "      <td>F6A44469</td>\n",
       "      <td>Veritas Universalis</td>\n",
       "      <td>Devathorn</td>\n",
       "      <td>metal</td>\n",
       "      <td>Shelbyville</td>\n",
       "      <td>20:19:42</td>\n",
       "      <td>Friday</td>\n",
       "    </tr>\n",
       "    <tr>\n",
       "      <td>32</td>\n",
       "      <td>84AFC19A</td>\n",
       "      <td>Carry On</td>\n",
       "      <td>Young Rising Sons</td>\n",
       "      <td>alternative</td>\n",
       "      <td>Shelbyville</td>\n",
       "      <td>20:24:51</td>\n",
       "      <td>Monday</td>\n",
       "    </tr>\n",
       "    <tr>\n",
       "      <td>38</td>\n",
       "      <td>14FBD1E5</td>\n",
       "      <td>Solteras</td>\n",
       "      <td>Beauty Brain</td>\n",
       "      <td>dance</td>\n",
       "      <td>Shelbyville</td>\n",
       "      <td>20:33:11</td>\n",
       "      <td>Friday</td>\n",
       "    </tr>\n",
       "    <tr>\n",
       "      <td>39</td>\n",
       "      <td>2CF53316</td>\n",
       "      <td>Chicago New York</td>\n",
       "      <td>The Aislers Set</td>\n",
       "      <td>alternative</td>\n",
       "      <td>Shelbyville</td>\n",
       "      <td>20:29:00</td>\n",
       "      <td>Wednesday</td>\n",
       "    </tr>\n",
       "    <tr>\n",
       "      <td>40</td>\n",
       "      <td>77979A66</td>\n",
       "      <td>Sci-Fi</td>\n",
       "      <td>unknown</td>\n",
       "      <td>rusrap</td>\n",
       "      <td>Shelbyville</td>\n",
       "      <td>08:45:43</td>\n",
       "      <td>Monday</td>\n",
       "    </tr>\n",
       "    <tr>\n",
       "      <td>41</td>\n",
       "      <td>9202C4F4</td>\n",
       "      <td>Good Morning Sunshine</td>\n",
       "      <td>Brick</td>\n",
       "      <td>rnb</td>\n",
       "      <td>Shelbyville</td>\n",
       "      <td>21:54:19</td>\n",
       "      <td>Monday</td>\n",
       "    </tr>\n",
       "    <tr>\n",
       "      <td>47</td>\n",
       "      <td>A1749681</td>\n",
       "      <td>Downfall</td>\n",
       "      <td>The Voss</td>\n",
       "      <td>dance</td>\n",
       "      <td>Shelbyville</td>\n",
       "      <td>20:07:58</td>\n",
       "      <td>Monday</td>\n",
       "    </tr>\n",
       "    <tr>\n",
       "      <td>49</td>\n",
       "      <td>2A35001B</td>\n",
       "      <td>Can You Feel the Love Tonight</td>\n",
       "      <td>Disney Peaceful Piano</td>\n",
       "      <td>instrumental</td>\n",
       "      <td>Shelbyville</td>\n",
       "      <td>21:51:37</td>\n",
       "      <td>Friday</td>\n",
       "    </tr>\n",
       "    <tr>\n",
       "      <td>53</td>\n",
       "      <td>CDB46D40</td>\n",
       "      <td>Renaissance</td>\n",
       "      <td>Soeur Sourire</td>\n",
       "      <td>jazz</td>\n",
       "      <td>Shelbyville</td>\n",
       "      <td>21:29:36</td>\n",
       "      <td>Friday</td>\n",
       "    </tr>\n",
       "    <tr>\n",
       "      <td>55</td>\n",
       "      <td>FEB69A12</td>\n",
       "      <td>Show Must Go On</td>\n",
       "      <td>Best Instrumentals</td>\n",
       "      <td>pop</td>\n",
       "      <td>Shelbyville</td>\n",
       "      <td>09:00:15</td>\n",
       "      <td>Friday</td>\n",
       "    </tr>\n",
       "    <tr>\n",
       "      <td>62</td>\n",
       "      <td>F97CDA4</td>\n",
       "      <td>Destination Unknown</td>\n",
       "      <td>Pseudo Echo</td>\n",
       "      <td>electronic</td>\n",
       "      <td>Shelbyville</td>\n",
       "      <td>14:43:12</td>\n",
       "      <td>Monday</td>\n",
       "    </tr>\n",
       "    <tr>\n",
       "      <td>64</td>\n",
       "      <td>FD21300B</td>\n",
       "      <td>Sometimes You've Got to Take the Hardest Line</td>\n",
       "      <td>Maïak</td>\n",
       "      <td>post</td>\n",
       "      <td>Shelbyville</td>\n",
       "      <td>09:18:23</td>\n",
       "      <td>Wednesday</td>\n",
       "    </tr>\n",
       "    <tr>\n",
       "      <td>66</td>\n",
       "      <td>B103C670</td>\n",
       "      <td>When I Was Your Man</td>\n",
       "      <td>Kriss Ramirez</td>\n",
       "      <td>pop</td>\n",
       "      <td>Shelbyville</td>\n",
       "      <td>14:42:11</td>\n",
       "      <td>Monday</td>\n",
       "    </tr>\n",
       "    <tr>\n",
       "      <td>77</td>\n",
       "      <td>80E3B0C5</td>\n",
       "      <td>Flamingo</td>\n",
       "      <td>Kero Kero Bonito</td>\n",
       "      <td>electronic</td>\n",
       "      <td>Shelbyville</td>\n",
       "      <td>14:44:54</td>\n",
       "      <td>Wednesday</td>\n",
       "    </tr>\n",
       "    <tr>\n",
       "      <td>79</td>\n",
       "      <td>1DA07AA4</td>\n",
       "      <td>Cardi B</td>\n",
       "      <td>Money Man</td>\n",
       "      <td>hiphop</td>\n",
       "      <td>Shelbyville</td>\n",
       "      <td>14:02:14</td>\n",
       "      <td>Monday</td>\n",
       "    </tr>\n",
       "  </tbody>\n",
       "</table>\n",
       "</div>"
      ],
      "text/plain": [
       "     user_id                                              track  \\\n",
       "0   FFB692EC                                  Kamigata To Boots   \n",
       "2     20EC38                                  Funiculì funiculà   \n",
       "3   A3DD03C9                              Dragons in the Sunset   \n",
       "5   842029A1                                             Chains   \n",
       "9   E772D5C0                                          Pessimist   \n",
       "14  94EB25C2                         Make Love Whenever You Can   \n",
       "16  81D05C7D                                     SLAVES OF FEAR   \n",
       "17  39DE290E                                        Hallo Hallo   \n",
       "18  58AE138A                                         Pat-a-Cake   \n",
       "22  B8E29C9C                               The Drunken Scotsman   \n",
       "24   8BA8855                               A Universal Weakness   \n",
       "25  A4504035                                Cradle in Bethlehem   \n",
       "26  982219FD                             We Not Speak Americano   \n",
       "29  5661F63E  Purcell: Dido and Aeneas / Act 3 - \"See the fl...   \n",
       "30  EBA5A8B2                             Päivän Nousu Nostajani   \n",
       "31  F6A44469                                Veritas Universalis   \n",
       "32  84AFC19A                                           Carry On   \n",
       "38  14FBD1E5                                           Solteras   \n",
       "39  2CF53316                                   Chicago New York   \n",
       "40  77979A66                                             Sci-Fi   \n",
       "41  9202C4F4                              Good Morning Sunshine   \n",
       "47  A1749681                                           Downfall   \n",
       "49  2A35001B                      Can You Feel the Love Tonight   \n",
       "53  CDB46D40                                        Renaissance   \n",
       "55  FEB69A12                                    Show Must Go On   \n",
       "62   F97CDA4                                Destination Unknown   \n",
       "64  FD21300B      Sometimes You've Got to Take the Hardest Line   \n",
       "66  B103C670                                When I Was Your Man   \n",
       "77  80E3B0C5                                           Flamingo   \n",
       "79  1DA07AA4                                            Cardi B   \n",
       "\n",
       "                   artist         genre         city      time        day  \n",
       "0        The Mass Missile          rock  Shelbyville  20:28:33  Wednesday  \n",
       "2             Mario Lanza           pop  Shelbyville  20:58:07  Wednesday  \n",
       "3              Fire + Ice          folk  Shelbyville  08:37:09     Monday  \n",
       "5                Obladaet        rusrap  Shelbyville  13:09:41     Friday  \n",
       "9                 unknown         dance  Shelbyville  21:20:49  Wednesday  \n",
       "14              Arabesque           pop  Shelbyville  13:22:08  Wednesday  \n",
       "16                 HEALTH   alternative  Shelbyville  20:54:48     Monday  \n",
       "17    Die Klima Hawaiians          folk  Shelbyville  14:36:47     Monday  \n",
       "18      Mother Goose Club      children  Shelbyville  20:04:56     Monday  \n",
       "22           Ménage à Moi          folk  Shelbyville  20:20:49  Wednesday  \n",
       "24       Lowercase Noises      postrock  Shelbyville  21:17:25  Wednesday  \n",
       "25          Nat King Cole          jazz  Shelbyville  09:23:01  Wednesday  \n",
       "26             Genio Band           pop  Shelbyville  20:03:03     Monday  \n",
       "29            Teresa Shaw     classical  Shelbyville  08:33:58  Wednesday  \n",
       "30              Värttinä         world  Shelbyville  08:00:31     Friday  \n",
       "31              Devathorn         metal  Shelbyville  20:19:42     Friday  \n",
       "32      Young Rising Sons   alternative  Shelbyville  20:24:51     Monday  \n",
       "38           Beauty Brain         dance  Shelbyville  20:33:11     Friday  \n",
       "39        The Aislers Set   alternative  Shelbyville  20:29:00  Wednesday  \n",
       "40                unknown        rusrap  Shelbyville  08:45:43     Monday  \n",
       "41                  Brick           rnb  Shelbyville  21:54:19     Monday  \n",
       "47               The Voss         dance  Shelbyville  20:07:58     Monday  \n",
       "49  Disney Peaceful Piano  instrumental  Shelbyville  21:51:37     Friday  \n",
       "53          Soeur Sourire          jazz  Shelbyville  21:29:36     Friday  \n",
       "55     Best Instrumentals           pop  Shelbyville  09:00:15     Friday  \n",
       "62            Pseudo Echo    electronic  Shelbyville  14:43:12     Monday  \n",
       "64                  Maïak          post  Shelbyville  09:18:23  Wednesday  \n",
       "66          Kriss Ramirez           pop  Shelbyville  14:42:11     Monday  \n",
       "77       Kero Kero Bonito    electronic  Shelbyville  14:44:54  Wednesday  \n",
       "79              Money Man        hiphop  Shelbyville  14:02:14     Monday  "
      ]
     },
     "execution_count": 29,
     "metadata": {},
     "output_type": "execute_result"
    }
   ],
   "source": [
    "# create the shel_general from the df rows,\n",
    "# where the value in the 'city' column is 'Shelbyville'\n",
    "\n",
    "shel_general= df[df[\"city\"] == \"Shelbyville\"]\n",
    "shel_general.head(30)"
   ]
  },
  {
   "cell_type": "markdown",
   "metadata": {
    "id": "MEJV-CX2_Zcu"
   },
   "source": [
    "Write the `genre_weekday()` function with four parameters:\n",
    "* A table for data (`df`)\n",
    "* The day of the week (`day`)\n",
    "* The first timestamp, in 'hh:mm' format (`time1`)\n",
    "* The last timestamp, in 'hh:mm' format (`time2`)\n",
    "\n",
    "The function should return info on the 15 most popular genres on a given day within the period between the two timestamps."
   ]
  },
  {
   "cell_type": "code",
   "execution_count": 30,
   "metadata": {
    "id": "laJT9BYl_Zcu"
   },
   "outputs": [],
   "source": [
    "# 1) Let the genre_df variable store the rows that meet several conditions:\n",
    "#    - the value in the 'day' column is equal to the value of the day= argument\n",
    "#    - the value in the 'time' column is greater than the value of the time1= argument\n",
    "#    - the value in the 'time' column is smaller than the value of the time2= argument\n",
    "#    Use consecutive filtering with logical indexing.\n",
    "\n",
    "# 2) Group genre_df by the 'genre' column, take one of its columns, \n",
    "#    and use the count() method to find the number of entries for each of \n",
    "#    the represented genres; store the resulting Series to the\n",
    "#    genre_df_count variable\n",
    "\n",
    "# 3) Sort genre_df_count in descending order of frequency and store the result\n",
    "#    to the genre_df_sorted variable\n",
    "\n",
    "# 4) Return a Series object with the first 15 genre_df_sorted value - the 15 most\n",
    "#    popular genres (on a given day, within a certain timeframe)\n",
    "\n",
    "# Write your function here\n",
    "def genre_weekday(df, day, time1, time2):\n",
    "    genre_df = df[df[\"day\"]==day]\n",
    "    \n",
    "     # consecutive filtering\n",
    "    # Create the variable genre_df which will store only those df rows where the day is equal to day=\n",
    "  \n",
    "    # filter again so that genre_df will store only those rows where the time is smaller than time2=\n",
    "    genre_df = df[df[\"time\"] < time2]\n",
    "\n",
    "    # filter once more so that genre_df will store only rows where the time is greater than time1=\n",
    "    genre_df = df[df[\"time\"] > time1]\n",
    "\n",
    "    # group the filtered DataFrame by the column with the names of genres, take the genre column, and find the number of rows for each genre with the count() method\n",
    "    genre_df_count = df.groupby(\"genre\").count()\n",
    "\n",
    "    # sort the result in descending order (so that the most popular genres come first in the Series object)\n",
    "    genre_df_sorted = genre_df_count.sort_values(by= \"genre\", ascending=False)\n",
    "\n",
    "    # we will return the Series object storing the 15 most popular genres on a given day in a given timeframe\n",
    "    return genre_df_sorted[:15]"
   ]
  },
  {
   "cell_type": "markdown",
   "metadata": {
    "id": "la2s2_PF_Zcu"
   },
   "source": [
    "Compare the results of the `genre_weekday()` function for Springfield and Shelbyville on Monday morning (from 7AM to 11AM) and on Friday evening (from 17:00 to 23:00):"
   ]
  },
  {
   "cell_type": "code",
   "execution_count": 31,
   "metadata": {
    "id": "yz7itPUQ_Zcu"
   },
   "outputs": [
    {
     "data": {
      "text/html": [
       "<div>\n",
       "<style scoped>\n",
       "    .dataframe tbody tr th:only-of-type {\n",
       "        vertical-align: middle;\n",
       "    }\n",
       "\n",
       "    .dataframe tbody tr th {\n",
       "        vertical-align: top;\n",
       "    }\n",
       "\n",
       "    .dataframe thead th {\n",
       "        text-align: right;\n",
       "    }\n",
       "</style>\n",
       "<table border=\"1\" class=\"dataframe\">\n",
       "  <thead>\n",
       "    <tr style=\"text-align: right;\">\n",
       "      <th></th>\n",
       "      <th>user_id</th>\n",
       "      <th>track</th>\n",
       "      <th>artist</th>\n",
       "      <th>city</th>\n",
       "      <th>time</th>\n",
       "      <th>day</th>\n",
       "    </tr>\n",
       "    <tr>\n",
       "      <th>genre</th>\n",
       "      <th></th>\n",
       "      <th></th>\n",
       "      <th></th>\n",
       "      <th></th>\n",
       "      <th></th>\n",
       "      <th></th>\n",
       "    </tr>\n",
       "  </thead>\n",
       "  <tbody>\n",
       "    <tr>\n",
       "      <td>ïîï</td>\n",
       "      <td>1</td>\n",
       "      <td>1</td>\n",
       "      <td>1</td>\n",
       "      <td>1</td>\n",
       "      <td>1</td>\n",
       "      <td>1</td>\n",
       "    </tr>\n",
       "    <tr>\n",
       "      <td>worldbeat</td>\n",
       "      <td>1</td>\n",
       "      <td>1</td>\n",
       "      <td>1</td>\n",
       "      <td>1</td>\n",
       "      <td>1</td>\n",
       "      <td>1</td>\n",
       "    </tr>\n",
       "    <tr>\n",
       "      <td>world</td>\n",
       "      <td>1432</td>\n",
       "      <td>1432</td>\n",
       "      <td>1432</td>\n",
       "      <td>1432</td>\n",
       "      <td>1432</td>\n",
       "      <td>1432</td>\n",
       "    </tr>\n",
       "    <tr>\n",
       "      <td>western</td>\n",
       "      <td>64</td>\n",
       "      <td>64</td>\n",
       "      <td>64</td>\n",
       "      <td>64</td>\n",
       "      <td>64</td>\n",
       "      <td>64</td>\n",
       "    </tr>\n",
       "    <tr>\n",
       "      <td>vocal</td>\n",
       "      <td>68</td>\n",
       "      <td>68</td>\n",
       "      <td>68</td>\n",
       "      <td>68</td>\n",
       "      <td>68</td>\n",
       "      <td>68</td>\n",
       "    </tr>\n",
       "    <tr>\n",
       "      <td>videogame</td>\n",
       "      <td>66</td>\n",
       "      <td>66</td>\n",
       "      <td>66</td>\n",
       "      <td>66</td>\n",
       "      <td>66</td>\n",
       "      <td>66</td>\n",
       "    </tr>\n",
       "    <tr>\n",
       "      <td>vi</td>\n",
       "      <td>2</td>\n",
       "      <td>2</td>\n",
       "      <td>2</td>\n",
       "      <td>2</td>\n",
       "      <td>2</td>\n",
       "      <td>2</td>\n",
       "    </tr>\n",
       "    <tr>\n",
       "      <td>variété</td>\n",
       "      <td>24</td>\n",
       "      <td>24</td>\n",
       "      <td>24</td>\n",
       "      <td>24</td>\n",
       "      <td>24</td>\n",
       "      <td>24</td>\n",
       "    </tr>\n",
       "    <tr>\n",
       "      <td>uzbek</td>\n",
       "      <td>16</td>\n",
       "      <td>16</td>\n",
       "      <td>16</td>\n",
       "      <td>16</td>\n",
       "      <td>16</td>\n",
       "      <td>16</td>\n",
       "    </tr>\n",
       "    <tr>\n",
       "      <td>urban</td>\n",
       "      <td>158</td>\n",
       "      <td>158</td>\n",
       "      <td>158</td>\n",
       "      <td>158</td>\n",
       "      <td>158</td>\n",
       "      <td>158</td>\n",
       "    </tr>\n",
       "    <tr>\n",
       "      <td>unknown</td>\n",
       "      <td>849</td>\n",
       "      <td>849</td>\n",
       "      <td>849</td>\n",
       "      <td>849</td>\n",
       "      <td>849</td>\n",
       "      <td>849</td>\n",
       "    </tr>\n",
       "    <tr>\n",
       "      <td>türkçe</td>\n",
       "      <td>19</td>\n",
       "      <td>19</td>\n",
       "      <td>19</td>\n",
       "      <td>19</td>\n",
       "      <td>19</td>\n",
       "      <td>19</td>\n",
       "    </tr>\n",
       "    <tr>\n",
       "      <td>türk</td>\n",
       "      <td>4</td>\n",
       "      <td>4</td>\n",
       "      <td>4</td>\n",
       "      <td>4</td>\n",
       "      <td>4</td>\n",
       "      <td>4</td>\n",
       "    </tr>\n",
       "    <tr>\n",
       "      <td>tropical</td>\n",
       "      <td>68</td>\n",
       "      <td>68</td>\n",
       "      <td>68</td>\n",
       "      <td>68</td>\n",
       "      <td>68</td>\n",
       "      <td>68</td>\n",
       "    </tr>\n",
       "    <tr>\n",
       "      <td>triphop</td>\n",
       "      <td>52</td>\n",
       "      <td>52</td>\n",
       "      <td>52</td>\n",
       "      <td>52</td>\n",
       "      <td>52</td>\n",
       "      <td>52</td>\n",
       "    </tr>\n",
       "  </tbody>\n",
       "</table>\n",
       "</div>"
      ],
      "text/plain": [
       "           user_id  track  artist  city  time   day\n",
       "genre                                              \n",
       "ïîï              1      1       1     1     1     1\n",
       "worldbeat        1      1       1     1     1     1\n",
       "world         1432   1432    1432  1432  1432  1432\n",
       "western         64     64      64    64    64    64\n",
       "vocal           68     68      68    68    68    68\n",
       "videogame       66     66      66    66    66    66\n",
       "vi               2      2       2     2     2     2\n",
       "variété         24     24      24    24    24    24\n",
       "uzbek           16     16      16    16    16    16\n",
       "urban          158    158     158   158   158   158\n",
       "unknown        849    849     849   849   849   849\n",
       "türkçe          19     19      19    19    19    19\n",
       "türk             4      4       4     4     4     4\n",
       "tropical        68     68      68    68    68    68\n",
       "triphop         52     52      52    52    52    52"
      ]
     },
     "execution_count": 31,
     "metadata": {},
     "output_type": "execute_result"
    }
   ],
   "source": [
    "# calling the function for Monday morning in Springfield (use spr_general instead of the df table)\n",
    "genre_weekday(spr_general, \"Monday\", \"07:00\", \"11:00\")"
   ]
  },
  {
   "cell_type": "code",
   "execution_count": 32,
   "metadata": {
    "id": "kwUcHPdy_Zcu"
   },
   "outputs": [
    {
     "data": {
      "text/html": [
       "<div>\n",
       "<style scoped>\n",
       "    .dataframe tbody tr th:only-of-type {\n",
       "        vertical-align: middle;\n",
       "    }\n",
       "\n",
       "    .dataframe tbody tr th {\n",
       "        vertical-align: top;\n",
       "    }\n",
       "\n",
       "    .dataframe thead th {\n",
       "        text-align: right;\n",
       "    }\n",
       "</style>\n",
       "<table border=\"1\" class=\"dataframe\">\n",
       "  <thead>\n",
       "    <tr style=\"text-align: right;\">\n",
       "      <th></th>\n",
       "      <th>user_id</th>\n",
       "      <th>track</th>\n",
       "      <th>artist</th>\n",
       "      <th>city</th>\n",
       "      <th>time</th>\n",
       "      <th>day</th>\n",
       "    </tr>\n",
       "    <tr>\n",
       "      <th>genre</th>\n",
       "      <th></th>\n",
       "      <th></th>\n",
       "      <th></th>\n",
       "      <th></th>\n",
       "      <th></th>\n",
       "      <th></th>\n",
       "    </tr>\n",
       "  </thead>\n",
       "  <tbody>\n",
       "    <tr>\n",
       "      <td>worldbeat</td>\n",
       "      <td>1</td>\n",
       "      <td>1</td>\n",
       "      <td>1</td>\n",
       "      <td>1</td>\n",
       "      <td>1</td>\n",
       "      <td>1</td>\n",
       "    </tr>\n",
       "    <tr>\n",
       "      <td>world</td>\n",
       "      <td>515</td>\n",
       "      <td>515</td>\n",
       "      <td>515</td>\n",
       "      <td>515</td>\n",
       "      <td>515</td>\n",
       "      <td>515</td>\n",
       "    </tr>\n",
       "    <tr>\n",
       "      <td>western</td>\n",
       "      <td>33</td>\n",
       "      <td>33</td>\n",
       "      <td>33</td>\n",
       "      <td>33</td>\n",
       "      <td>33</td>\n",
       "      <td>33</td>\n",
       "    </tr>\n",
       "    <tr>\n",
       "      <td>vocal</td>\n",
       "      <td>25</td>\n",
       "      <td>25</td>\n",
       "      <td>25</td>\n",
       "      <td>25</td>\n",
       "      <td>25</td>\n",
       "      <td>25</td>\n",
       "    </tr>\n",
       "    <tr>\n",
       "      <td>videogame</td>\n",
       "      <td>48</td>\n",
       "      <td>48</td>\n",
       "      <td>48</td>\n",
       "      <td>48</td>\n",
       "      <td>48</td>\n",
       "      <td>48</td>\n",
       "    </tr>\n",
       "    <tr>\n",
       "      <td>vi</td>\n",
       "      <td>1</td>\n",
       "      <td>1</td>\n",
       "      <td>1</td>\n",
       "      <td>1</td>\n",
       "      <td>1</td>\n",
       "      <td>1</td>\n",
       "    </tr>\n",
       "    <tr>\n",
       "      <td>variété</td>\n",
       "      <td>14</td>\n",
       "      <td>14</td>\n",
       "      <td>14</td>\n",
       "      <td>14</td>\n",
       "      <td>14</td>\n",
       "      <td>14</td>\n",
       "    </tr>\n",
       "    <tr>\n",
       "      <td>uzbek</td>\n",
       "      <td>12</td>\n",
       "      <td>12</td>\n",
       "      <td>12</td>\n",
       "      <td>12</td>\n",
       "      <td>12</td>\n",
       "      <td>12</td>\n",
       "    </tr>\n",
       "    <tr>\n",
       "      <td>urban</td>\n",
       "      <td>76</td>\n",
       "      <td>76</td>\n",
       "      <td>76</td>\n",
       "      <td>76</td>\n",
       "      <td>76</td>\n",
       "      <td>76</td>\n",
       "    </tr>\n",
       "    <tr>\n",
       "      <td>unknown</td>\n",
       "      <td>278</td>\n",
       "      <td>278</td>\n",
       "      <td>278</td>\n",
       "      <td>278</td>\n",
       "      <td>278</td>\n",
       "      <td>278</td>\n",
       "    </tr>\n",
       "    <tr>\n",
       "      <td>türkçe</td>\n",
       "      <td>6</td>\n",
       "      <td>6</td>\n",
       "      <td>6</td>\n",
       "      <td>6</td>\n",
       "      <td>6</td>\n",
       "      <td>6</td>\n",
       "    </tr>\n",
       "    <tr>\n",
       "      <td>tropical</td>\n",
       "      <td>16</td>\n",
       "      <td>16</td>\n",
       "      <td>16</td>\n",
       "      <td>16</td>\n",
       "      <td>16</td>\n",
       "      <td>16</td>\n",
       "    </tr>\n",
       "    <tr>\n",
       "      <td>triphop</td>\n",
       "      <td>22</td>\n",
       "      <td>22</td>\n",
       "      <td>22</td>\n",
       "      <td>22</td>\n",
       "      <td>22</td>\n",
       "      <td>22</td>\n",
       "    </tr>\n",
       "    <tr>\n",
       "      <td>trip</td>\n",
       "      <td>1</td>\n",
       "      <td>1</td>\n",
       "      <td>1</td>\n",
       "      <td>1</td>\n",
       "      <td>1</td>\n",
       "      <td>1</td>\n",
       "    </tr>\n",
       "    <tr>\n",
       "      <td>tribal</td>\n",
       "      <td>1</td>\n",
       "      <td>1</td>\n",
       "      <td>1</td>\n",
       "      <td>1</td>\n",
       "      <td>1</td>\n",
       "      <td>1</td>\n",
       "    </tr>\n",
       "  </tbody>\n",
       "</table>\n",
       "</div>"
      ],
      "text/plain": [
       "           user_id  track  artist  city  time  day\n",
       "genre                                             \n",
       "worldbeat        1      1       1     1     1    1\n",
       "world          515    515     515   515   515  515\n",
       "western         33     33      33    33    33   33\n",
       "vocal           25     25      25    25    25   25\n",
       "videogame       48     48      48    48    48   48\n",
       "vi               1      1       1     1     1    1\n",
       "variété         14     14      14    14    14   14\n",
       "uzbek           12     12      12    12    12   12\n",
       "urban           76     76      76    76    76   76\n",
       "unknown        278    278     278   278   278  278\n",
       "türkçe           6      6       6     6     6    6\n",
       "tropical        16     16      16    16    16   16\n",
       "triphop         22     22      22    22    22   22\n",
       "trip             1      1       1     1     1    1\n",
       "tribal           1      1       1     1     1    1"
      ]
     },
     "execution_count": 32,
     "metadata": {},
     "output_type": "execute_result"
    }
   ],
   "source": [
    "# calling the function for Monday morning in Shelbyville (use shel_general instead of the df table)\n",
    "genre_weekday(shel_general, \"Monday\", \"07:00\", \"11:00\")"
   ]
  },
  {
   "cell_type": "code",
   "execution_count": 33,
   "metadata": {
    "id": "EzXVRE1o_Zcu"
   },
   "outputs": [
    {
     "data": {
      "text/html": [
       "<div>\n",
       "<style scoped>\n",
       "    .dataframe tbody tr th:only-of-type {\n",
       "        vertical-align: middle;\n",
       "    }\n",
       "\n",
       "    .dataframe tbody tr th {\n",
       "        vertical-align: top;\n",
       "    }\n",
       "\n",
       "    .dataframe thead th {\n",
       "        text-align: right;\n",
       "    }\n",
       "</style>\n",
       "<table border=\"1\" class=\"dataframe\">\n",
       "  <thead>\n",
       "    <tr style=\"text-align: right;\">\n",
       "      <th></th>\n",
       "      <th>user_id</th>\n",
       "      <th>track</th>\n",
       "      <th>artist</th>\n",
       "      <th>city</th>\n",
       "      <th>time</th>\n",
       "      <th>day</th>\n",
       "    </tr>\n",
       "    <tr>\n",
       "      <th>genre</th>\n",
       "      <th></th>\n",
       "      <th></th>\n",
       "      <th></th>\n",
       "      <th></th>\n",
       "      <th></th>\n",
       "      <th></th>\n",
       "    </tr>\n",
       "  </thead>\n",
       "  <tbody>\n",
       "    <tr>\n",
       "      <td>ïîï</td>\n",
       "      <td>1</td>\n",
       "      <td>1</td>\n",
       "      <td>1</td>\n",
       "      <td>1</td>\n",
       "      <td>1</td>\n",
       "      <td>1</td>\n",
       "    </tr>\n",
       "    <tr>\n",
       "      <td>worldbeat</td>\n",
       "      <td>2</td>\n",
       "      <td>2</td>\n",
       "      <td>2</td>\n",
       "      <td>2</td>\n",
       "      <td>2</td>\n",
       "      <td>2</td>\n",
       "    </tr>\n",
       "    <tr>\n",
       "      <td>world</td>\n",
       "      <td>1947</td>\n",
       "      <td>1947</td>\n",
       "      <td>1947</td>\n",
       "      <td>1947</td>\n",
       "      <td>1947</td>\n",
       "      <td>1947</td>\n",
       "    </tr>\n",
       "    <tr>\n",
       "      <td>western</td>\n",
       "      <td>97</td>\n",
       "      <td>97</td>\n",
       "      <td>97</td>\n",
       "      <td>97</td>\n",
       "      <td>97</td>\n",
       "      <td>97</td>\n",
       "    </tr>\n",
       "    <tr>\n",
       "      <td>vocal</td>\n",
       "      <td>93</td>\n",
       "      <td>93</td>\n",
       "      <td>93</td>\n",
       "      <td>93</td>\n",
       "      <td>93</td>\n",
       "      <td>93</td>\n",
       "    </tr>\n",
       "    <tr>\n",
       "      <td>videogame</td>\n",
       "      <td>114</td>\n",
       "      <td>114</td>\n",
       "      <td>114</td>\n",
       "      <td>114</td>\n",
       "      <td>114</td>\n",
       "      <td>114</td>\n",
       "    </tr>\n",
       "    <tr>\n",
       "      <td>vi</td>\n",
       "      <td>3</td>\n",
       "      <td>3</td>\n",
       "      <td>3</td>\n",
       "      <td>3</td>\n",
       "      <td>3</td>\n",
       "      <td>3</td>\n",
       "    </tr>\n",
       "    <tr>\n",
       "      <td>variété</td>\n",
       "      <td>38</td>\n",
       "      <td>38</td>\n",
       "      <td>38</td>\n",
       "      <td>38</td>\n",
       "      <td>38</td>\n",
       "      <td>38</td>\n",
       "    </tr>\n",
       "    <tr>\n",
       "      <td>uzbek</td>\n",
       "      <td>28</td>\n",
       "      <td>28</td>\n",
       "      <td>28</td>\n",
       "      <td>28</td>\n",
       "      <td>28</td>\n",
       "      <td>28</td>\n",
       "    </tr>\n",
       "    <tr>\n",
       "      <td>urban</td>\n",
       "      <td>234</td>\n",
       "      <td>234</td>\n",
       "      <td>234</td>\n",
       "      <td>234</td>\n",
       "      <td>234</td>\n",
       "      <td>234</td>\n",
       "    </tr>\n",
       "    <tr>\n",
       "      <td>unknown</td>\n",
       "      <td>1127</td>\n",
       "      <td>1127</td>\n",
       "      <td>1127</td>\n",
       "      <td>1127</td>\n",
       "      <td>1127</td>\n",
       "      <td>1127</td>\n",
       "    </tr>\n",
       "    <tr>\n",
       "      <td>türkçe</td>\n",
       "      <td>25</td>\n",
       "      <td>25</td>\n",
       "      <td>25</td>\n",
       "      <td>25</td>\n",
       "      <td>25</td>\n",
       "      <td>25</td>\n",
       "    </tr>\n",
       "    <tr>\n",
       "      <td>türk</td>\n",
       "      <td>4</td>\n",
       "      <td>4</td>\n",
       "      <td>4</td>\n",
       "      <td>4</td>\n",
       "      <td>4</td>\n",
       "      <td>4</td>\n",
       "    </tr>\n",
       "    <tr>\n",
       "      <td>tropical</td>\n",
       "      <td>84</td>\n",
       "      <td>84</td>\n",
       "      <td>84</td>\n",
       "      <td>84</td>\n",
       "      <td>84</td>\n",
       "      <td>84</td>\n",
       "    </tr>\n",
       "    <tr>\n",
       "      <td>triphop</td>\n",
       "      <td>74</td>\n",
       "      <td>74</td>\n",
       "      <td>74</td>\n",
       "      <td>74</td>\n",
       "      <td>74</td>\n",
       "      <td>74</td>\n",
       "    </tr>\n",
       "  </tbody>\n",
       "</table>\n",
       "</div>"
      ],
      "text/plain": [
       "           user_id  track  artist  city  time   day\n",
       "genre                                              \n",
       "ïîï              1      1       1     1     1     1\n",
       "worldbeat        2      2       2     2     2     2\n",
       "world         1947   1947    1947  1947  1947  1947\n",
       "western         97     97      97    97    97    97\n",
       "vocal           93     93      93    93    93    93\n",
       "videogame      114    114     114   114   114   114\n",
       "vi               3      3       3     3     3     3\n",
       "variété         38     38      38    38    38    38\n",
       "uzbek           28     28      28    28    28    28\n",
       "urban          234    234     234   234   234   234\n",
       "unknown       1127   1127    1127  1127  1127  1127\n",
       "türkçe          25     25      25    25    25    25\n",
       "türk             4      4       4     4     4     4\n",
       "tropical        84     84      84    84    84    84\n",
       "triphop         74     74      74    74    74    74"
      ]
     },
     "execution_count": 33,
     "metadata": {},
     "output_type": "execute_result"
    }
   ],
   "source": [
    "# calling the function for Friday evening in Springfield\n",
    "genre_weekday(df, \"Friday\", \"17:00\", \"23:00\")"
   ]
  },
  {
   "cell_type": "code",
   "execution_count": 34,
   "metadata": {
    "id": "JZaEKu5v_Zcu"
   },
   "outputs": [
    {
     "data": {
      "text/html": [
       "<div>\n",
       "<style scoped>\n",
       "    .dataframe tbody tr th:only-of-type {\n",
       "        vertical-align: middle;\n",
       "    }\n",
       "\n",
       "    .dataframe tbody tr th {\n",
       "        vertical-align: top;\n",
       "    }\n",
       "\n",
       "    .dataframe thead th {\n",
       "        text-align: right;\n",
       "    }\n",
       "</style>\n",
       "<table border=\"1\" class=\"dataframe\">\n",
       "  <thead>\n",
       "    <tr style=\"text-align: right;\">\n",
       "      <th></th>\n",
       "      <th>user_id</th>\n",
       "      <th>track</th>\n",
       "      <th>artist</th>\n",
       "      <th>city</th>\n",
       "      <th>time</th>\n",
       "      <th>day</th>\n",
       "    </tr>\n",
       "    <tr>\n",
       "      <th>genre</th>\n",
       "      <th></th>\n",
       "      <th></th>\n",
       "      <th></th>\n",
       "      <th></th>\n",
       "      <th></th>\n",
       "      <th></th>\n",
       "    </tr>\n",
       "  </thead>\n",
       "  <tbody>\n",
       "    <tr>\n",
       "      <td>ïîï</td>\n",
       "      <td>1</td>\n",
       "      <td>1</td>\n",
       "      <td>1</td>\n",
       "      <td>1</td>\n",
       "      <td>1</td>\n",
       "      <td>1</td>\n",
       "    </tr>\n",
       "    <tr>\n",
       "      <td>worldbeat</td>\n",
       "      <td>2</td>\n",
       "      <td>2</td>\n",
       "      <td>2</td>\n",
       "      <td>2</td>\n",
       "      <td>2</td>\n",
       "      <td>2</td>\n",
       "    </tr>\n",
       "    <tr>\n",
       "      <td>world</td>\n",
       "      <td>1947</td>\n",
       "      <td>1947</td>\n",
       "      <td>1947</td>\n",
       "      <td>1947</td>\n",
       "      <td>1947</td>\n",
       "      <td>1947</td>\n",
       "    </tr>\n",
       "    <tr>\n",
       "      <td>western</td>\n",
       "      <td>97</td>\n",
       "      <td>97</td>\n",
       "      <td>97</td>\n",
       "      <td>97</td>\n",
       "      <td>97</td>\n",
       "      <td>97</td>\n",
       "    </tr>\n",
       "    <tr>\n",
       "      <td>vocal</td>\n",
       "      <td>93</td>\n",
       "      <td>93</td>\n",
       "      <td>93</td>\n",
       "      <td>93</td>\n",
       "      <td>93</td>\n",
       "      <td>93</td>\n",
       "    </tr>\n",
       "    <tr>\n",
       "      <td>videogame</td>\n",
       "      <td>114</td>\n",
       "      <td>114</td>\n",
       "      <td>114</td>\n",
       "      <td>114</td>\n",
       "      <td>114</td>\n",
       "      <td>114</td>\n",
       "    </tr>\n",
       "    <tr>\n",
       "      <td>vi</td>\n",
       "      <td>3</td>\n",
       "      <td>3</td>\n",
       "      <td>3</td>\n",
       "      <td>3</td>\n",
       "      <td>3</td>\n",
       "      <td>3</td>\n",
       "    </tr>\n",
       "    <tr>\n",
       "      <td>variété</td>\n",
       "      <td>38</td>\n",
       "      <td>38</td>\n",
       "      <td>38</td>\n",
       "      <td>38</td>\n",
       "      <td>38</td>\n",
       "      <td>38</td>\n",
       "    </tr>\n",
       "    <tr>\n",
       "      <td>uzbek</td>\n",
       "      <td>28</td>\n",
       "      <td>28</td>\n",
       "      <td>28</td>\n",
       "      <td>28</td>\n",
       "      <td>28</td>\n",
       "      <td>28</td>\n",
       "    </tr>\n",
       "    <tr>\n",
       "      <td>urban</td>\n",
       "      <td>234</td>\n",
       "      <td>234</td>\n",
       "      <td>234</td>\n",
       "      <td>234</td>\n",
       "      <td>234</td>\n",
       "      <td>234</td>\n",
       "    </tr>\n",
       "    <tr>\n",
       "      <td>unknown</td>\n",
       "      <td>1127</td>\n",
       "      <td>1127</td>\n",
       "      <td>1127</td>\n",
       "      <td>1127</td>\n",
       "      <td>1127</td>\n",
       "      <td>1127</td>\n",
       "    </tr>\n",
       "    <tr>\n",
       "      <td>türkçe</td>\n",
       "      <td>25</td>\n",
       "      <td>25</td>\n",
       "      <td>25</td>\n",
       "      <td>25</td>\n",
       "      <td>25</td>\n",
       "      <td>25</td>\n",
       "    </tr>\n",
       "    <tr>\n",
       "      <td>türk</td>\n",
       "      <td>4</td>\n",
       "      <td>4</td>\n",
       "      <td>4</td>\n",
       "      <td>4</td>\n",
       "      <td>4</td>\n",
       "      <td>4</td>\n",
       "    </tr>\n",
       "    <tr>\n",
       "      <td>tropical</td>\n",
       "      <td>84</td>\n",
       "      <td>84</td>\n",
       "      <td>84</td>\n",
       "      <td>84</td>\n",
       "      <td>84</td>\n",
       "      <td>84</td>\n",
       "    </tr>\n",
       "    <tr>\n",
       "      <td>triphop</td>\n",
       "      <td>74</td>\n",
       "      <td>74</td>\n",
       "      <td>74</td>\n",
       "      <td>74</td>\n",
       "      <td>74</td>\n",
       "      <td>74</td>\n",
       "    </tr>\n",
       "  </tbody>\n",
       "</table>\n",
       "</div>"
      ],
      "text/plain": [
       "           user_id  track  artist  city  time   day\n",
       "genre                                              \n",
       "ïîï              1      1       1     1     1     1\n",
       "worldbeat        2      2       2     2     2     2\n",
       "world         1947   1947    1947  1947  1947  1947\n",
       "western         97     97      97    97    97    97\n",
       "vocal           93     93      93    93    93    93\n",
       "videogame      114    114     114   114   114   114\n",
       "vi               3      3       3     3     3     3\n",
       "variété         38     38      38    38    38    38\n",
       "uzbek           28     28      28    28    28    28\n",
       "urban          234    234     234   234   234   234\n",
       "unknown       1127   1127    1127  1127  1127  1127\n",
       "türkçe          25     25      25    25    25    25\n",
       "türk             4      4       4     4     4     4\n",
       "tropical        84     84      84    84    84    84\n",
       "triphop         74     74      74    74    74    74"
      ]
     },
     "execution_count": 34,
     "metadata": {},
     "output_type": "execute_result"
    }
   ],
   "source": [
    "# calling the function for Friday evening in Shelbyville\n",
    "genre_weekday(df, \"Friday\", \"17:00\", \"23:00\")"
   ]
  },
  {
   "cell_type": "markdown",
   "metadata": {
    "id": "wrCe4MNX_Zcu"
   },
   "source": [
    "**Conclusion**\n",
    "\n",
    "Having compared the top 15 genres on Monday morning, we can draw the following conclusions:\n",
    "\n",
    "1. Users from Springfield and Shelbyville listen to similar music. The top five genres are the same, only rock and electronic have switched places.\n",
    "\n",
    "2. In Springfield, the number of missing values turned out to be so big that the value `'unknown'` came in 10th. This means that missing values make up a considerable portion of the data, which may be a basis for questioning the reliability of our conclusions.\n",
    "\n",
    "For Friday evening, the situation is similar. Individual genres vary somewhat, but on the whole, the top 15 is similar for the two cities.\n",
    "\n",
    "Thus, the second hypothesis has been partially proven true:\n",
    "* Users listen to similar music at the beginning and end of the week.\n",
    "* There is no major difference between Springfield and Shelbyville. In both cities, pop is the most popular genre.\n",
    "\n",
    "However, the number of missing values makes this result questionable. In Springfield, there are so many that they affect our top 15. Were we not missing these values, things might look different."
   ]
  },
  {
   "cell_type": "markdown",
   "metadata": {
    "id": "jLmXgdanVyhP"
   },
   "source": [
    "[Back to Contents](#back)"
   ]
  },
  {
   "cell_type": "markdown",
   "metadata": {
    "id": "JolODAqr_Zcu"
   },
   "source": [
    "### Hypothesis 3: genre preferences in Springfield and Shelbyville <a id='genre'></a>\n",
    "\n",
    "Hypothesis: Shelbyville loves rap music. Springfield's citizens are more into pop."
   ]
  },
  {
   "cell_type": "markdown",
   "metadata": {
    "id": "DlegSvaT_Zcu"
   },
   "source": [
    "Group the `spr_general` table by genre and find the number of songs played for each genre with the `count()` method. Then sort the result in descending order and store it to `spr_genres`."
   ]
  },
  {
   "cell_type": "raw",
   "metadata": {
    "id": "r19lIPke_Zcu"
   },
   "source": [
    "group=spr_general.groupby(\"genre\")\n",
    "group_count = group.count()\n",
    "spr_genes=group_count.sort_values(by=\"user_id\",  ascending=False)\n",
    "\n",
    "#on one line: group the spr_general table by the 'genre' column, \n",
    "#count the 'genre' values with count() in the grouping, \n",
    "#sort the resulting Series in descending order, and store it to spr_genres\n",
    "\n",
    "\n",
    "**NOTE TO REVIEWER: THIS CODE BLOCK IS NOT FUNCTIONING CORRECTLY, SO CODE FOR THIS IS BELOW:\n"
   ]
  },
  {
   "cell_type": "markdown",
   "metadata": {
    "id": "6kMuomxTiIr8"
   },
   "source": [
    "Print the first 10 rows from `spr_genres`:"
   ]
  },
  {
   "cell_type": "code",
   "execution_count": 37,
   "metadata": {
    "id": "WhCSooF8_Zcv"
   },
   "outputs": [
    {
     "name": "stdout",
     "output_type": "stream",
     "text": [
      "             user_id  track  artist  city  time   day\n",
      "genre                                                \n",
      "pop             5892   5892    5892  5892  5892  5892\n",
      "dance           4435   4435    4435  4435  4435  4435\n",
      "rock            3965   3965    3965  3965  3965  3965\n",
      "electronic      3786   3786    3786  3786  3786  3786\n",
      "hiphop          2096   2096    2096  2096  2096  2096\n",
      "classical       1616   1616    1616  1616  1616  1616\n",
      "world           1432   1432    1432  1432  1432  1432\n",
      "alternative     1379   1379    1379  1379  1379  1379\n",
      "ruspop          1372   1372    1372  1372  1372  1372\n",
      "rusrap          1161   1161    1161  1161  1161  1161\n"
     ]
    }
   ],
   "source": [
    "# printing the first 10 rows of spr_genres\n",
    "group=spr_general.groupby(\"genre\")\n",
    "group_count = group.count()\n",
    "spr_genes=group_count.sort_values(by=\"user_id\",  ascending=False)\n",
    "\n",
    "print(spr_genes.head(10))"
   ]
  },
  {
   "cell_type": "markdown",
   "metadata": {
    "id": "cnPG2vnN_Zcv"
   },
   "source": [
    "Now do the same with the data on Shelbyville.\n",
    "\n",
    "Group the `shel_general` table by genre and find the number of songs played for each genre. Then sort the result in descending order and store it to the `shel_genres` table:\n"
   ]
  },
  {
   "cell_type": "code",
   "execution_count": 39,
   "metadata": {
    "id": "gluLIpE7_Zcv"
   },
   "outputs": [],
   "source": [
    "# on one line: group the shel_general table by the 'genre' column, \n",
    "# count the 'genre' values in the grouping with count(), \n",
    "# sort the resulting Series in descending order and store it to shel_genres\n",
    "group=shel_general.groupby(\"genre\")\n",
    "group_count = group.count()\n",
    "shel_genres=group_count.sort_values(by=\"user_id\",  ascending=False)"
   ]
  },
  {
   "cell_type": "markdown",
   "metadata": {
    "id": "5Doha_ODgyQ8"
   },
   "source": [
    "Print the first 10 rows of `shel_genres`:"
   ]
  },
  {
   "cell_type": "code",
   "execution_count": 40,
   "metadata": {
    "id": "uaGJHjVU_Zcv"
   },
   "outputs": [
    {
     "name": "stdout",
     "output_type": "stream",
     "text": [
      "             user_id  track  artist  city  time   day\n",
      "genre                                                \n",
      "pop             2431   2431    2431  2431  2431  2431\n",
      "dance           1932   1932    1932  1932  1932  1932\n",
      "rock            1879   1879    1879  1879  1879  1879\n",
      "electronic      1736   1736    1736  1736  1736  1736\n",
      "hiphop           960    960     960   960   960   960\n",
      "alternative      649    649     649   649   649   649\n",
      "classical        646    646     646   646   646   646\n",
      "rusrap           564    564     564   564   564   564\n",
      "ruspop           538    538     538   538   538   538\n",
      "world            515    515     515   515   515   515\n"
     ]
    }
   ],
   "source": [
    "# printing the first 10 rows from shel_genres\n",
    "print(shel_genres.head(10))"
   ]
  },
  {
   "cell_type": "markdown",
   "metadata": {
    "id": "RY51YJYu_Zcv"
   },
   "source": [
    "**Conclusion**"
   ]
  },
  {
   "cell_type": "markdown",
   "metadata": {
    "id": "nVhnJEm__Zcv"
   },
   "source": [
    "The hypothesis has been partially proven true:\n",
    "* Pop music is the most popular genre in Springfield, as expected.\n",
    "* However, pop music turned out to be equally popular in Springfield and Shelbyville, and rap wasn't in the top 5 for either city.\n"
   ]
  },
  {
   "cell_type": "markdown",
   "metadata": {
    "id": "Byr0RfpPVz14"
   },
   "source": [
    "[Back to Contents](#back)"
   ]
  },
  {
   "cell_type": "markdown",
   "metadata": {
    "id": "ykKQ0N65_Zcv"
   },
   "source": [
    "# Findings <a id='end'></a>"
   ]
  },
  {
   "cell_type": "markdown",
   "metadata": {
    "id": "tjUwbHb3_Zcv"
   },
   "source": [
    "We have tested the following three hypotheses:\n",
    "\n",
    "1. User activity differs depending on the day of the week and from city to city. \n",
    "2. On Monday mornings, Springfield and Shelbyville residents listen to different genres. This is also true for Friday evenings. \n",
    "3. Springfield and Shelbyville listeners have different preferences. In both Springfield and Shelbyville, they prefer pop.\n",
    "\n",
    "After analyzing the data, we concluded:\n",
    "\n",
    "1. User activity in Springfield and Shelbyville depends on the day of the week, though the cities vary in different ways. \n",
    "\n",
    "The first hypothesis is fully accepted.\n",
    "\n",
    "2. Musical preferences do not vary significantly over the course of the week in both Springfield and Shelbyville. We can see small differences in order on Mondays, but:\n",
    "* In Springfield and Shelbyville, people listen to pop music most.\n",
    "\n",
    "So we can't accept this hypothesis. We must also keep in mind that the result could have been different if not for the missing values.\n",
    "\n",
    "3. It turns out that the musical preferences of users from Springfield and Shelbyville are quite similar.\n",
    "\n",
    "The third hypothesis is rejected. If there is any difference in preferences, it cannot be seen from this data.\n",
    "\n",
    "### Note \n",
    "In real projects, research involves statistical hypothesis testing, which is more precise and more quantitative. Also note that you cannot always draw conclusions about an entire city based on the data from just one source.\n",
    "\n",
    "You will study hypothesis testing in the sprint on statistical data analysis."
   ]
  }
 ],
 "metadata": {
  "ExecuteTimeLog": [
   {
    "duration": 552,
    "start_time": "2022-02-19T20:41:27.689Z"
   },
   {
    "duration": 247,
    "start_time": "2022-02-19T20:41:44.009Z"
   },
   {
    "duration": 72,
    "start_time": "2022-02-19T20:43:30.980Z"
   },
   {
    "duration": 261,
    "start_time": "2022-02-19T20:44:21.719Z"
   },
   {
    "duration": 10,
    "start_time": "2022-02-19T20:45:05.513Z"
   },
   {
    "duration": 4,
    "start_time": "2022-02-19T20:47:37.195Z"
   },
   {
    "duration": 4,
    "start_time": "2022-02-19T20:48:25.047Z"
   },
   {
    "duration": 191,
    "start_time": "2022-02-19T20:49:02.726Z"
   },
   {
    "duration": 179,
    "start_time": "2022-02-19T20:49:08.951Z"
   },
   {
    "duration": 4,
    "start_time": "2022-02-19T20:49:22.245Z"
   },
   {
    "duration": 4,
    "start_time": "2022-02-19T20:49:37.153Z"
   },
   {
    "duration": 5,
    "start_time": "2022-02-19T20:49:41.826Z"
   },
   {
    "duration": 10,
    "start_time": "2022-02-19T20:52:15.578Z"
   },
   {
    "duration": 203,
    "start_time": "2022-02-19T20:52:35.845Z"
   },
   {
    "duration": 205,
    "start_time": "2022-02-19T20:52:43.548Z"
   },
   {
    "duration": 3575,
    "start_time": "2022-02-19T20:53:19.070Z"
   },
   {
    "duration": 5,
    "start_time": "2022-02-19T20:53:42.588Z"
   },
   {
    "duration": 10,
    "start_time": "2022-02-19T20:54:42.546Z"
   },
   {
    "duration": 7,
    "start_time": "2022-02-19T20:55:23.707Z"
   },
   {
    "duration": 10,
    "start_time": "2022-02-19T20:56:06.109Z"
   },
   {
    "duration": 12,
    "start_time": "2022-02-19T20:56:42.166Z"
   },
   {
    "duration": 324,
    "start_time": "2022-02-20T15:20:27.826Z"
   },
   {
    "duration": 246,
    "start_time": "2022-02-20T15:21:43.030Z"
   },
   {
    "duration": 1008,
    "start_time": "2022-02-20T15:21:55.087Z"
   },
   {
    "duration": 661,
    "start_time": "2022-02-20T15:21:57.858Z"
   },
   {
    "duration": 403,
    "start_time": "2022-02-20T15:22:10.016Z"
   },
   {
    "duration": 6,
    "start_time": "2022-02-20T15:34:43.113Z"
   },
   {
    "duration": 358,
    "start_time": "2022-02-20T15:45:38.463Z"
   },
   {
    "duration": 269,
    "start_time": "2022-02-20T15:45:58.376Z"
   },
   {
    "duration": 280,
    "start_time": "2022-02-20T15:46:10.111Z"
   },
   {
    "duration": 798,
    "start_time": "2022-02-20T20:27:37.082Z"
   },
   {
    "duration": 424,
    "start_time": "2022-02-20T20:27:43.569Z"
   },
   {
    "duration": 17,
    "start_time": "2022-02-20T20:28:07.949Z"
   },
   {
    "duration": 17,
    "start_time": "2022-02-20T20:28:14.663Z"
   },
   {
    "duration": 135,
    "start_time": "2022-02-20T20:28:42.677Z"
   },
   {
    "duration": 416,
    "start_time": "2022-02-20T20:29:07.202Z"
   },
   {
    "duration": 3,
    "start_time": "2022-02-20T20:30:21.730Z"
   },
   {
    "duration": 358,
    "start_time": "2022-02-20T20:30:25.105Z"
   },
   {
    "duration": 18,
    "start_time": "2022-02-20T20:30:30.830Z"
   },
   {
    "duration": 17,
    "start_time": "2022-02-20T20:30:36.836Z"
   },
   {
    "duration": 7,
    "start_time": "2022-02-20T20:30:49.900Z"
   },
   {
    "duration": 310,
    "start_time": "2022-02-20T20:31:26.507Z"
   },
   {
    "duration": 493,
    "start_time": "2022-02-20T20:31:36.987Z"
   },
   {
    "duration": 26,
    "start_time": "2022-02-20T20:32:43.111Z"
   },
   {
    "duration": 40,
    "start_time": "2022-02-20T20:32:59.810Z"
   },
   {
    "duration": 20,
    "start_time": "2022-02-20T20:36:38.086Z"
   },
   {
    "duration": 6,
    "start_time": "2022-02-20T20:37:08.675Z"
   },
   {
    "duration": 22,
    "start_time": "2022-02-20T20:37:50.254Z"
   },
   {
    "duration": 17,
    "start_time": "2022-02-20T20:37:55.148Z"
   },
   {
    "duration": 7,
    "start_time": "2022-02-20T20:38:06.646Z"
   },
   {
    "duration": 22,
    "start_time": "2022-02-20T20:38:30.589Z"
   },
   {
    "duration": 6,
    "start_time": "2022-02-20T20:38:50.827Z"
   },
   {
    "duration": 18,
    "start_time": "2022-02-20T20:38:55.946Z"
   },
   {
    "duration": 5,
    "start_time": "2022-02-20T20:38:58.335Z"
   },
   {
    "duration": 27,
    "start_time": "2022-02-20T20:39:23.465Z"
   },
   {
    "duration": 6,
    "start_time": "2022-02-20T20:39:27.317Z"
   },
   {
    "duration": 17,
    "start_time": "2022-02-20T20:39:44.814Z"
   },
   {
    "duration": 5,
    "start_time": "2022-02-20T20:39:49.463Z"
   },
   {
    "duration": 16,
    "start_time": "2022-02-20T20:40:04.260Z"
   },
   {
    "duration": 6,
    "start_time": "2022-02-20T20:40:10.860Z"
   },
   {
    "duration": 23,
    "start_time": "2022-02-20T20:41:16.601Z"
   },
   {
    "duration": 6,
    "start_time": "2022-02-20T20:41:20.213Z"
   },
   {
    "duration": 660,
    "start_time": "2022-02-21T19:28:11.200Z"
   },
   {
    "duration": 459,
    "start_time": "2022-02-21T19:28:20.019Z"
   },
   {
    "duration": 248,
    "start_time": "2022-02-21T19:28:25.812Z"
   },
   {
    "duration": 274,
    "start_time": "2022-02-21T19:28:29.978Z"
   },
   {
    "duration": 513,
    "start_time": "2022-02-21T19:28:34.367Z"
   },
   {
    "duration": 13,
    "start_time": "2022-02-21T19:28:37.617Z"
   },
   {
    "duration": 13,
    "start_time": "2022-02-21T19:28:40.677Z"
   },
   {
    "duration": 5,
    "start_time": "2022-02-21T19:28:45.396Z"
   },
   {
    "duration": 22,
    "start_time": "2022-02-21T19:28:50.242Z"
   },
   {
    "duration": 5,
    "start_time": "2022-02-21T19:28:55.389Z"
   },
   {
    "duration": 25,
    "start_time": "2022-02-21T19:29:07.659Z"
   },
   {
    "duration": 11,
    "start_time": "2022-02-21T19:49:06.033Z"
   },
   {
    "duration": 15,
    "start_time": "2022-02-21T19:49:20.694Z"
   },
   {
    "duration": 22,
    "start_time": "2022-02-21T19:59:38.685Z"
   },
   {
    "duration": 15,
    "start_time": "2022-02-21T19:59:51.133Z"
   },
   {
    "duration": -2525,
    "start_time": "2022-02-21T20:02:23.153Z"
   },
   {
    "duration": 6996,
    "start_time": "2022-02-21T20:05:06.784Z"
   },
   {
    "duration": 11206,
    "start_time": "2022-02-21T20:05:56.409Z"
   },
   {
    "duration": 6329,
    "start_time": "2022-02-21T20:12:14.754Z"
   },
   {
    "duration": 6878,
    "start_time": "2022-02-21T20:13:13.680Z"
   },
   {
    "duration": 7343,
    "start_time": "2022-02-21T20:18:47.398Z"
   },
   {
    "duration": 6874,
    "start_time": "2022-02-21T20:22:31.846Z"
   },
   {
    "duration": 11,
    "start_time": "2022-02-21T20:24:27.700Z"
   },
   {
    "duration": 23,
    "start_time": "2022-02-21T20:24:46.777Z"
   },
   {
    "duration": 6979,
    "start_time": "2022-02-21T20:32:31.010Z"
   },
   {
    "duration": 6379,
    "start_time": "2022-02-21T20:33:05.277Z"
   },
   {
    "duration": 17,
    "start_time": "2022-02-21T20:47:53.162Z"
   },
   {
    "duration": 16,
    "start_time": "2022-02-21T20:48:14.332Z"
   },
   {
    "duration": 16,
    "start_time": "2022-02-21T20:48:18.546Z"
   },
   {
    "duration": 16,
    "start_time": "2022-02-21T20:48:23.422Z"
   },
   {
    "duration": 25,
    "start_time": "2022-02-21T20:49:08.543Z"
   },
   {
    "duration": 273,
    "start_time": "2022-02-21T21:08:50.318Z"
   },
   {
    "duration": 490,
    "start_time": "2022-02-21T21:08:58.488Z"
   },
   {
    "duration": 250,
    "start_time": "2022-02-21T21:09:11.009Z"
   },
   {
    "duration": 300,
    "start_time": "2022-02-21T21:09:31.322Z"
   },
   {
    "duration": 58,
    "start_time": "2022-02-21T21:12:33.373Z"
   },
   {
    "duration": 63,
    "start_time": "2022-02-21T21:15:22.184Z"
   },
   {
    "duration": 58,
    "start_time": "2022-02-21T21:15:47.707Z"
   },
   {
    "duration": 7,
    "start_time": "2022-02-21T23:09:24.927Z"
   },
   {
    "duration": 268,
    "start_time": "2022-02-21T23:11:49.435Z"
   },
   {
    "duration": 7,
    "start_time": "2022-02-21T23:11:57.777Z"
   },
   {
    "duration": 4,
    "start_time": "2022-02-21T23:30:02.083Z"
   },
   {
    "duration": 748,
    "start_time": "2022-02-22T02:58:41.809Z"
   },
   {
    "duration": 602,
    "start_time": "2022-02-22T02:58:46.075Z"
   },
   {
    "duration": 16,
    "start_time": "2022-02-22T02:58:50.105Z"
   },
   {
    "duration": 16,
    "start_time": "2022-02-22T02:58:55.230Z"
   },
   {
    "duration": 6,
    "start_time": "2022-02-22T02:59:00.321Z"
   },
   {
    "duration": 26,
    "start_time": "2022-02-22T02:59:03.780Z"
   },
   {
    "duration": 6,
    "start_time": "2022-02-22T02:59:11.310Z"
   },
   {
    "duration": 26,
    "start_time": "2022-02-22T02:59:14.752Z"
   },
   {
    "duration": 31,
    "start_time": "2022-02-22T02:59:18.670Z"
   },
   {
    "duration": 24,
    "start_time": "2022-02-22T02:59:24.876Z"
   },
   {
    "duration": 29,
    "start_time": "2022-02-22T02:59:27.583Z"
   },
   {
    "duration": 82,
    "start_time": "2022-02-22T02:59:30.798Z"
   },
   {
    "duration": 84,
    "start_time": "2022-02-22T02:59:34.384Z"
   },
   {
    "duration": 74,
    "start_time": "2022-02-22T02:59:36.962Z"
   },
   {
    "duration": 10,
    "start_time": "2022-02-22T02:59:40.283Z"
   },
   {
    "duration": 4,
    "start_time": "2022-02-22T03:00:55.400Z"
   },
   {
    "duration": 4,
    "start_time": "2022-02-22T03:00:59.828Z"
   },
   {
    "duration": 311,
    "start_time": "2022-02-22T03:01:04.499Z"
   },
   {
    "duration": 11,
    "start_time": "2022-02-22T03:02:55.865Z"
   },
   {
    "duration": 10,
    "start_time": "2022-02-22T03:03:01.522Z"
   },
   {
    "duration": 9,
    "start_time": "2022-02-22T03:03:43.590Z"
   },
   {
    "duration": 10,
    "start_time": "2022-02-22T03:04:34.577Z"
   },
   {
    "duration": 10,
    "start_time": "2022-02-22T03:04:38.829Z"
   },
   {
    "duration": 6,
    "start_time": "2022-02-22T03:33:20.787Z"
   },
   {
    "duration": 6,
    "start_time": "2022-02-22T03:33:23.745Z"
   },
   {
    "duration": 6,
    "start_time": "2022-02-22T03:33:29.009Z"
   },
   {
    "duration": 240,
    "start_time": "2022-02-22T03:35:48.602Z"
   },
   {
    "duration": 16,
    "start_time": "2022-02-22T03:36:29.912Z"
   },
   {
    "duration": 6,
    "start_time": "2022-02-22T03:37:34.757Z"
   },
   {
    "duration": 16,
    "start_time": "2022-02-22T03:37:54.921Z"
   },
   {
    "duration": 5,
    "start_time": "2022-02-22T03:51:02.677Z"
   },
   {
    "duration": 5,
    "start_time": "2022-02-22T03:51:07.001Z"
   },
   {
    "duration": 390,
    "start_time": "2022-02-22T03:52:11.801Z"
   },
   {
    "duration": 4,
    "start_time": "2022-02-22T03:52:24.492Z"
   },
   {
    "duration": 231,
    "start_time": "2022-02-22T03:52:37.182Z"
   },
   {
    "duration": 6,
    "start_time": "2022-02-22T03:53:16.693Z"
   },
   {
    "duration": 14,
    "start_time": "2022-02-22T03:54:09.678Z"
   },
   {
    "duration": 732,
    "start_time": "2022-02-22T15:04:01.080Z"
   },
   {
    "duration": 629,
    "start_time": "2022-02-22T15:04:03.709Z"
   },
   {
    "duration": 16,
    "start_time": "2022-02-22T15:04:11.224Z"
   },
   {
    "duration": 532,
    "start_time": "2022-02-22T19:38:50.401Z"
   },
   {
    "duration": 663,
    "start_time": "2022-02-22T19:38:52.361Z"
   },
   {
    "duration": 9,
    "start_time": "2022-02-22T19:38:59.299Z"
   },
   {
    "duration": 9,
    "start_time": "2022-02-22T19:39:06.378Z"
   },
   {
    "duration": 4,
    "start_time": "2022-02-22T19:39:12.728Z"
   },
   {
    "duration": 17,
    "start_time": "2022-02-22T19:39:16.784Z"
   },
   {
    "duration": 28,
    "start_time": "2022-02-22T19:41:01.732Z"
   },
   {
    "duration": 16,
    "start_time": "2022-02-22T19:43:00.004Z"
   },
   {
    "duration": 27,
    "start_time": "2022-02-22T19:48:11.310Z"
   },
   {
    "duration": 49,
    "start_time": "2022-02-22T19:54:47.862Z"
   },
   {
    "duration": 53,
    "start_time": "2022-02-22T19:54:51.239Z"
   },
   {
    "duration": 48,
    "start_time": "2022-02-22T19:54:53.064Z"
   },
   {
    "duration": 7,
    "start_time": "2022-02-22T19:54:56.712Z"
   },
   {
    "duration": 3,
    "start_time": "2022-02-22T19:55:02.348Z"
   },
   {
    "duration": 7,
    "start_time": "2022-02-22T19:55:04.615Z"
   },
   {
    "duration": 6,
    "start_time": "2022-02-22T19:55:06.686Z"
   },
   {
    "duration": 12,
    "start_time": "2022-02-22T19:55:12.189Z"
   },
   {
    "duration": 10,
    "start_time": "2022-02-22T19:55:15.297Z"
   },
   {
    "duration": 6,
    "start_time": "2022-02-22T20:02:14.054Z"
   },
   {
    "duration": 8,
    "start_time": "2022-02-22T20:02:54.384Z"
   },
   {
    "duration": 383,
    "start_time": "2022-02-22T20:04:49.891Z"
   },
   {
    "duration": 302,
    "start_time": "2022-02-22T20:06:26.520Z"
   },
   {
    "duration": 303,
    "start_time": "2022-02-22T20:12:55.814Z"
   },
   {
    "duration": 305,
    "start_time": "2022-02-22T20:14:09.124Z"
   },
   {
    "duration": 310,
    "start_time": "2022-02-22T20:14:12.427Z"
   },
   {
    "duration": 6,
    "start_time": "2022-02-22T20:21:04.863Z"
   },
   {
    "duration": 8,
    "start_time": "2022-02-22T20:21:45.821Z"
   },
   {
    "duration": 9,
    "start_time": "2022-02-22T20:21:51.913Z"
   },
   {
    "duration": 11,
    "start_time": "2022-02-22T20:22:38.568Z"
   },
   {
    "duration": 7,
    "start_time": "2022-02-22T20:39:52.675Z"
   },
   {
    "duration": 3050,
    "start_time": "2022-02-22T20:40:08.264Z"
   },
   {
    "duration": 9,
    "start_time": "2022-02-22T21:09:16.548Z"
   },
   {
    "duration": 14,
    "start_time": "2022-02-22T21:09:20.394Z"
   },
   {
    "duration": 12,
    "start_time": "2022-02-22T21:09:23.708Z"
   },
   {
    "duration": 6,
    "start_time": "2022-02-22T21:11:25.191Z"
   },
   {
    "duration": 10,
    "start_time": "2022-02-22T21:11:28.339Z"
   },
   {
    "duration": 10,
    "start_time": "2022-02-22T21:11:32.299Z"
   },
   {
    "duration": 9,
    "start_time": "2022-02-22T21:11:35.678Z"
   },
   {
    "duration": 7,
    "start_time": "2022-02-22T21:20:48.175Z"
   },
   {
    "duration": 12,
    "start_time": "2022-02-22T21:20:51.823Z"
   },
   {
    "duration": 12,
    "start_time": "2022-02-22T21:20:56.262Z"
   },
   {
    "duration": 7,
    "start_time": "2022-02-22T21:21:35.067Z"
   },
   {
    "duration": -2171,
    "start_time": "2022-02-22T21:21:44.784Z"
   },
   {
    "duration": 4034,
    "start_time": "2022-02-22T21:21:44.362Z"
   },
   {
    "duration": -2566,
    "start_time": "2022-02-22T21:21:50.964Z"
   },
   {
    "duration": 9,
    "start_time": "2022-02-22T21:23:34.383Z"
   },
   {
    "duration": 10,
    "start_time": "2022-02-22T21:23:36.885Z"
   },
   {
    "duration": 6,
    "start_time": "2022-02-22T21:24:34.960Z"
   },
   {
    "duration": 307,
    "start_time": "2022-02-22T21:24:50.334Z"
   },
   {
    "duration": 13,
    "start_time": "2022-02-22T21:25:23.864Z"
   },
   {
    "duration": 10,
    "start_time": "2022-02-22T21:25:33.589Z"
   },
   {
    "duration": 12,
    "start_time": "2022-02-22T21:25:36.207Z"
   },
   {
    "duration": 18,
    "start_time": "2022-02-22T21:25:41.433Z"
   },
   {
    "duration": 3,
    "start_time": "2022-02-22T21:30:40.607Z"
   },
   {
    "duration": 8,
    "start_time": "2022-02-22T21:30:43.233Z"
   },
   {
    "duration": 7,
    "start_time": "2022-02-22T21:30:46.371Z"
   },
   {
    "duration": 4,
    "start_time": "2022-02-22T21:41:50.616Z"
   },
   {
    "duration": 8,
    "start_time": "2022-02-22T21:41:52.435Z"
   },
   {
    "duration": 4,
    "start_time": "2022-02-22T21:43:32.945Z"
   },
   {
    "duration": 12,
    "start_time": "2022-02-22T21:43:35.130Z"
   },
   {
    "duration": 12,
    "start_time": "2022-02-22T21:43:51.962Z"
   },
   {
    "duration": 3,
    "start_time": "2022-02-22T21:44:17.855Z"
   },
   {
    "duration": 8,
    "start_time": "2022-02-22T21:44:20.204Z"
   },
   {
    "duration": 5,
    "start_time": "2022-02-22T21:57:08.494Z"
   },
   {
    "duration": 4,
    "start_time": "2022-02-22T21:57:10.215Z"
   },
   {
    "duration": 8,
    "start_time": "2022-02-22T21:57:13.531Z"
   },
   {
    "duration": 394,
    "start_time": "2022-02-22T22:01:02.830Z"
   },
   {
    "duration": 7,
    "start_time": "2022-02-22T22:01:25.940Z"
   },
   {
    "duration": 3,
    "start_time": "2022-02-22T22:02:14.156Z"
   },
   {
    "duration": 5,
    "start_time": "2022-02-22T22:02:22.480Z"
   },
   {
    "duration": 103,
    "start_time": "2022-02-22T22:13:01.155Z"
   },
   {
    "duration": 335,
    "start_time": "2022-02-22T22:13:12.092Z"
   },
   {
    "duration": 3,
    "start_time": "2022-02-22T22:14:01.068Z"
   },
   {
    "duration": 2,
    "start_time": "2022-02-22T22:14:07.333Z"
   },
   {
    "duration": 755,
    "start_time": "2022-02-22T22:14:41.698Z"
   },
   {
    "duration": 5,
    "start_time": "2022-02-22T22:26:09.176Z"
   },
   {
    "duration": 7,
    "start_time": "2022-02-22T22:26:14.771Z"
   },
   {
    "duration": 314,
    "start_time": "2022-02-22T23:46:52.220Z"
   },
   {
    "duration": 26,
    "start_time": "2022-02-22T23:47:05.678Z"
   },
   {
    "duration": 331,
    "start_time": "2022-02-22T23:48:07.182Z"
   },
   {
    "duration": 302,
    "start_time": "2022-02-22T23:48:27.677Z"
   },
   {
    "duration": 15,
    "start_time": "2022-02-22T23:50:03.708Z"
   },
   {
    "duration": 304,
    "start_time": "2022-02-22T23:52:32.258Z"
   },
   {
    "duration": 361,
    "start_time": "2022-02-22T23:52:38.519Z"
   },
   {
    "duration": 305,
    "start_time": "2022-02-22T23:53:24.127Z"
   },
   {
    "duration": 399,
    "start_time": "2022-02-22T23:56:37.476Z"
   },
   {
    "duration": 15,
    "start_time": "2022-02-22T23:57:28.449Z"
   },
   {
    "duration": 4,
    "start_time": "2022-02-22T23:57:32.831Z"
   },
   {
    "duration": 297,
    "start_time": "2022-02-22T23:58:27.565Z"
   },
   {
    "duration": 2,
    "start_time": "2022-02-22T23:58:34.514Z"
   },
   {
    "duration": 298,
    "start_time": "2022-02-22T23:58:55.989Z"
   },
   {
    "duration": 9,
    "start_time": "2022-02-22T23:59:03.446Z"
   },
   {
    "duration": 4,
    "start_time": "2022-02-22T23:59:09.718Z"
   },
   {
    "duration": 326,
    "start_time": "2022-02-23T00:06:54.206Z"
   },
   {
    "duration": 361,
    "start_time": "2022-02-23T00:08:29.715Z"
   },
   {
    "duration": 6,
    "start_time": "2022-02-23T00:20:36.931Z"
   },
   {
    "duration": 7,
    "start_time": "2022-02-23T00:20:48.979Z"
   },
   {
    "duration": 13,
    "start_time": "2022-02-23T00:23:58.062Z"
   },
   {
    "duration": 13,
    "start_time": "2022-02-23T00:31:26.769Z"
   },
   {
    "duration": 12,
    "start_time": "2022-02-23T00:34:07.354Z"
   },
   {
    "duration": 13,
    "start_time": "2022-02-23T00:34:11.583Z"
   },
   {
    "duration": 12,
    "start_time": "2022-02-23T00:34:14.233Z"
   },
   {
    "duration": 771,
    "start_time": "2022-02-23T02:44:02.481Z"
   },
   {
    "duration": 641,
    "start_time": "2022-02-23T02:44:06.155Z"
   },
   {
    "duration": 399,
    "start_time": "2022-02-23T20:22:21.955Z"
   },
   {
    "duration": 1790,
    "start_time": "2022-02-23T20:22:33.195Z"
   },
   {
    "duration": 747,
    "start_time": "2022-02-23T20:22:35.950Z"
   },
   {
    "duration": 9,
    "start_time": "2022-02-23T20:22:39.111Z"
   },
   {
    "duration": 22,
    "start_time": "2022-02-23T20:22:41.470Z"
   },
   {
    "duration": 3,
    "start_time": "2022-02-23T20:22:45.219Z"
   },
   {
    "duration": 18,
    "start_time": "2022-02-23T20:22:47.846Z"
   },
   {
    "duration": 4,
    "start_time": "2022-02-23T20:22:49.544Z"
   },
   {
    "duration": 20,
    "start_time": "2022-02-23T20:22:53.679Z"
   },
   {
    "duration": 15,
    "start_time": "2022-02-23T20:22:55.410Z"
   },
   {
    "duration": 43,
    "start_time": "2022-02-23T20:22:57.078Z"
   },
   {
    "duration": 57,
    "start_time": "2022-02-23T20:23:00.535Z"
   },
   {
    "duration": 58,
    "start_time": "2022-02-23T20:23:02.200Z"
   },
   {
    "duration": 46,
    "start_time": "2022-02-23T20:23:03.355Z"
   },
   {
    "duration": 2,
    "start_time": "2022-02-23T20:23:09.633Z"
   },
   {
    "duration": 6,
    "start_time": "2022-02-23T20:23:13.045Z"
   },
   {
    "duration": 10,
    "start_time": "2022-02-23T20:23:17.490Z"
   },
   {
    "duration": 10,
    "start_time": "2022-02-23T20:23:20.087Z"
   },
   {
    "duration": 323,
    "start_time": "2022-02-23T20:23:23.005Z"
   },
   {
    "duration": 341,
    "start_time": "2022-02-23T20:23:35.437Z"
   },
   {
    "duration": 11,
    "start_time": "2022-02-23T20:23:50.558Z"
   },
   {
    "duration": 16,
    "start_time": "2022-02-23T20:24:02.047Z"
   },
   {
    "duration": 21,
    "start_time": "2022-02-23T20:24:04.425Z"
   },
   {
    "duration": 5,
    "start_time": "2022-02-23T20:24:19.438Z"
   },
   {
    "duration": 14,
    "start_time": "2022-02-23T20:24:25.666Z"
   },
   {
    "duration": 15,
    "start_time": "2022-02-23T20:24:27.492Z"
   },
   {
    "duration": 17,
    "start_time": "2022-02-23T20:24:29.386Z"
   },
   {
    "duration": 21,
    "start_time": "2022-02-23T20:24:30.419Z"
   },
   {
    "duration": 14,
    "start_time": "2022-02-23T20:24:32.562Z"
   },
   {
    "duration": 324,
    "start_time": "2022-02-23T20:24:35.406Z"
   },
   {
    "duration": 312,
    "start_time": "2022-02-23T20:26:54.101Z"
   },
   {
    "duration": 319,
    "start_time": "2022-02-23T20:28:24.030Z"
   },
   {
    "duration": 356,
    "start_time": "2022-02-23T20:28:32.403Z"
   },
   {
    "duration": 370,
    "start_time": "2022-02-23T20:29:57.440Z"
   },
   {
    "duration": 382,
    "start_time": "2022-02-23T20:31:05.387Z"
   },
   {
    "duration": 365,
    "start_time": "2022-02-23T20:31:30.819Z"
   },
   {
    "duration": 333,
    "start_time": "2022-02-23T20:38:45.562Z"
   },
   {
    "duration": 386,
    "start_time": "2022-02-23T20:51:18.680Z"
   },
   {
    "duration": 450,
    "start_time": "2022-02-23T20:54:14.212Z"
   },
   {
    "duration": 307,
    "start_time": "2022-02-23T21:00:45.628Z"
   },
   {
    "duration": 120,
    "start_time": "2022-02-23T21:00:51.823Z"
   },
   {
    "duration": 444,
    "start_time": "2022-02-23T21:00:58.411Z"
   },
   {
    "duration": 346,
    "start_time": "2022-02-23T22:49:48.755Z"
   },
   {
    "duration": 400,
    "start_time": "2022-02-23T22:54:08.359Z"
   },
   {
    "duration": 352,
    "start_time": "2022-02-23T22:54:15.461Z"
   },
   {
    "duration": 351,
    "start_time": "2022-02-23T23:09:54.720Z"
   },
   {
    "duration": 598,
    "start_time": "2022-02-23T23:51:07.656Z"
   },
   {
    "duration": 240,
    "start_time": "2022-02-23T23:51:08.256Z"
   },
   {
    "duration": 9,
    "start_time": "2022-02-23T23:51:08.498Z"
   },
   {
    "duration": 23,
    "start_time": "2022-02-23T23:51:08.509Z"
   },
   {
    "duration": 13,
    "start_time": "2022-02-23T23:51:08.533Z"
   },
   {
    "duration": 18,
    "start_time": "2022-02-23T23:51:08.547Z"
   },
   {
    "duration": 9,
    "start_time": "2022-02-23T23:51:08.567Z"
   },
   {
    "duration": 21,
    "start_time": "2022-02-23T23:51:08.578Z"
   },
   {
    "duration": 16,
    "start_time": "2022-02-23T23:51:08.601Z"
   },
   {
    "duration": 44,
    "start_time": "2022-02-23T23:51:08.618Z"
   },
   {
    "duration": 50,
    "start_time": "2022-02-23T23:51:08.664Z"
   },
   {
    "duration": 68,
    "start_time": "2022-02-23T23:51:08.715Z"
   },
   {
    "duration": 46,
    "start_time": "2022-02-23T23:51:08.785Z"
   },
   {
    "duration": 14,
    "start_time": "2022-02-23T23:51:08.833Z"
   },
   {
    "duration": 4,
    "start_time": "2022-02-23T23:51:08.849Z"
   },
   {
    "duration": 12,
    "start_time": "2022-02-23T23:51:08.854Z"
   },
   {
    "duration": 9,
    "start_time": "2022-02-23T23:51:08.867Z"
   },
   {
    "duration": 11,
    "start_time": "2022-02-23T23:51:08.877Z"
   },
   {
    "duration": 13,
    "start_time": "2022-02-23T23:51:08.890Z"
   },
   {
    "duration": 3,
    "start_time": "2022-02-23T23:51:08.905Z"
   },
   {
    "duration": 47,
    "start_time": "2022-02-23T23:51:08.910Z"
   },
   {
    "duration": 17,
    "start_time": "2022-02-23T23:51:08.958Z"
   },
   {
    "duration": 18,
    "start_time": "2022-02-23T23:51:08.979Z"
   },
   {
    "duration": 16,
    "start_time": "2022-02-23T23:51:08.999Z"
   },
   {
    "duration": 41,
    "start_time": "2022-02-23T23:51:09.016Z"
   },
   {
    "duration": 12,
    "start_time": "2022-02-23T23:51:09.058Z"
   },
   {
    "duration": 383,
    "start_time": "2022-02-23T23:51:09.071Z"
   },
   {
    "duration": -489,
    "start_time": "2022-02-23T23:51:09.944Z"
   },
   {
    "duration": -501,
    "start_time": "2022-02-23T23:51:09.958Z"
   },
   {
    "duration": -534,
    "start_time": "2022-02-23T23:51:09.991Z"
   },
   {
    "duration": -540,
    "start_time": "2022-02-23T23:51:09.998Z"
   },
   {
    "duration": -548,
    "start_time": "2022-02-23T23:51:10.007Z"
   },
   {
    "duration": -572,
    "start_time": "2022-02-23T23:51:10.032Z"
   },
   {
    "duration": -580,
    "start_time": "2022-02-23T23:51:10.041Z"
   },
   {
    "duration": -603,
    "start_time": "2022-02-23T23:51:10.065Z"
   },
   {
    "duration": -609,
    "start_time": "2022-02-23T23:51:10.072Z"
   },
   {
    "duration": -614,
    "start_time": "2022-02-23T23:51:10.078Z"
   },
   {
    "duration": -620,
    "start_time": "2022-02-23T23:51:10.085Z"
   },
   {
    "duration": 564,
    "start_time": "2022-02-23T23:51:32.169Z"
   },
   {
    "duration": 230,
    "start_time": "2022-02-23T23:51:32.735Z"
   },
   {
    "duration": 9,
    "start_time": "2022-02-23T23:51:32.967Z"
   },
   {
    "duration": 22,
    "start_time": "2022-02-23T23:51:32.977Z"
   },
   {
    "duration": 3,
    "start_time": "2022-02-23T23:51:33.000Z"
   },
   {
    "duration": 18,
    "start_time": "2022-02-23T23:51:33.005Z"
   },
   {
    "duration": 3,
    "start_time": "2022-02-23T23:51:33.024Z"
   },
   {
    "duration": 33,
    "start_time": "2022-02-23T23:51:33.029Z"
   },
   {
    "duration": 13,
    "start_time": "2022-02-23T23:51:33.064Z"
   },
   {
    "duration": 20,
    "start_time": "2022-02-23T23:51:33.079Z"
   },
   {
    "duration": 74,
    "start_time": "2022-02-23T23:51:33.100Z"
   },
   {
    "duration": 54,
    "start_time": "2022-02-23T23:51:33.175Z"
   },
   {
    "duration": 52,
    "start_time": "2022-02-23T23:51:33.231Z"
   },
   {
    "duration": 7,
    "start_time": "2022-02-23T23:51:33.285Z"
   },
   {
    "duration": 4,
    "start_time": "2022-02-23T23:51:33.293Z"
   },
   {
    "duration": 8,
    "start_time": "2022-02-23T23:51:33.298Z"
   },
   {
    "duration": 9,
    "start_time": "2022-02-23T23:51:33.307Z"
   },
   {
    "duration": 34,
    "start_time": "2022-02-23T23:51:33.317Z"
   },
   {
    "duration": 9,
    "start_time": "2022-02-23T23:51:33.353Z"
   },
   {
    "duration": 3,
    "start_time": "2022-02-23T23:51:33.363Z"
   },
   {
    "duration": 17,
    "start_time": "2022-02-23T23:51:33.367Z"
   },
   {
    "duration": 12,
    "start_time": "2022-02-23T23:51:33.385Z"
   },
   {
    "duration": 13,
    "start_time": "2022-02-23T23:51:33.399Z"
   },
   {
    "duration": 41,
    "start_time": "2022-02-23T23:51:33.413Z"
   },
   {
    "duration": 14,
    "start_time": "2022-02-23T23:51:33.455Z"
   },
   {
    "duration": 12,
    "start_time": "2022-02-23T23:51:33.470Z"
   },
   {
    "duration": 381,
    "start_time": "2022-02-23T23:51:33.483Z"
   },
   {
    "duration": -455,
    "start_time": "2022-02-23T23:51:34.321Z"
   },
   {
    "duration": -467,
    "start_time": "2022-02-23T23:51:34.334Z"
   },
   {
    "duration": -472,
    "start_time": "2022-02-23T23:51:34.340Z"
   },
   {
    "duration": -482,
    "start_time": "2022-02-23T23:51:34.351Z"
   },
   {
    "duration": -489,
    "start_time": "2022-02-23T23:51:34.359Z"
   },
   {
    "duration": -523,
    "start_time": "2022-02-23T23:51:34.394Z"
   },
   {
    "duration": -537,
    "start_time": "2022-02-23T23:51:34.409Z"
   },
   {
    "duration": -549,
    "start_time": "2022-02-23T23:51:34.422Z"
   },
   {
    "duration": -562,
    "start_time": "2022-02-23T23:51:34.436Z"
   },
   {
    "duration": -572,
    "start_time": "2022-02-23T23:51:34.447Z"
   },
   {
    "duration": -577,
    "start_time": "2022-02-23T23:51:34.453Z"
   },
   {
    "duration": 348,
    "start_time": "2022-02-23T23:51:51.590Z"
   },
   {
    "duration": 341,
    "start_time": "2022-02-24T02:28:40.747Z"
   },
   {
    "duration": 381,
    "start_time": "2022-02-24T02:32:48.065Z"
   },
   {
    "duration": 7,
    "start_time": "2022-02-24T02:33:15.277Z"
   },
   {
    "duration": 3,
    "start_time": "2022-02-24T02:42:09.830Z"
   },
   {
    "duration": 360,
    "start_time": "2022-02-24T02:42:23.307Z"
   },
   {
    "duration": 556,
    "start_time": "2022-02-24T02:42:36.584Z"
   },
   {
    "duration": 227,
    "start_time": "2022-02-24T02:42:37.142Z"
   },
   {
    "duration": 8,
    "start_time": "2022-02-24T02:42:37.371Z"
   },
   {
    "duration": 20,
    "start_time": "2022-02-24T02:42:37.381Z"
   },
   {
    "duration": 3,
    "start_time": "2022-02-24T02:42:37.403Z"
   },
   {
    "duration": 381,
    "start_time": "2022-02-24T02:42:37.408Z"
   },
   {
    "duration": -436,
    "start_time": "2022-02-24T02:42:38.228Z"
   },
   {
    "duration": -448,
    "start_time": "2022-02-24T02:42:38.241Z"
   },
   {
    "duration": -457,
    "start_time": "2022-02-24T02:42:38.251Z"
   },
   {
    "duration": -506,
    "start_time": "2022-02-24T02:42:38.300Z"
   },
   {
    "duration": -571,
    "start_time": "2022-02-24T02:42:38.366Z"
   },
   {
    "duration": -605,
    "start_time": "2022-02-24T02:42:38.401Z"
   },
   {
    "duration": -646,
    "start_time": "2022-02-24T02:42:38.443Z"
   },
   {
    "duration": -669,
    "start_time": "2022-02-24T02:42:38.467Z"
   },
   {
    "duration": -681,
    "start_time": "2022-02-24T02:42:38.479Z"
   },
   {
    "duration": -693,
    "start_time": "2022-02-24T02:42:38.492Z"
   },
   {
    "duration": -707,
    "start_time": "2022-02-24T02:42:38.507Z"
   },
   {
    "duration": -734,
    "start_time": "2022-02-24T02:42:38.535Z"
   },
   {
    "duration": -777,
    "start_time": "2022-02-24T02:42:38.579Z"
   },
   {
    "duration": -789,
    "start_time": "2022-02-24T02:42:38.592Z"
   },
   {
    "duration": -799,
    "start_time": "2022-02-24T02:42:38.603Z"
   },
   {
    "duration": -812,
    "start_time": "2022-02-24T02:42:38.617Z"
   },
   {
    "duration": -820,
    "start_time": "2022-02-24T02:42:38.625Z"
   },
   {
    "duration": -833,
    "start_time": "2022-02-24T02:42:38.639Z"
   },
   {
    "duration": -884,
    "start_time": "2022-02-24T02:42:38.691Z"
   },
   {
    "duration": -964,
    "start_time": "2022-02-24T02:42:38.772Z"
   },
   {
    "duration": -1094,
    "start_time": "2022-02-24T02:42:38.903Z"
   },
   {
    "duration": -1138,
    "start_time": "2022-02-24T02:42:38.948Z"
   },
   {
    "duration": -1145,
    "start_time": "2022-02-24T02:42:38.956Z"
   },
   {
    "duration": -1155,
    "start_time": "2022-02-24T02:42:38.967Z"
   },
   {
    "duration": -1164,
    "start_time": "2022-02-24T02:42:38.976Z"
   },
   {
    "duration": -1172,
    "start_time": "2022-02-24T02:42:38.985Z"
   },
   {
    "duration": -1188,
    "start_time": "2022-02-24T02:42:39.002Z"
   },
   {
    "duration": -1209,
    "start_time": "2022-02-24T02:42:39.024Z"
   },
   {
    "duration": -1272,
    "start_time": "2022-02-24T02:42:39.088Z"
   },
   {
    "duration": -1322,
    "start_time": "2022-02-24T02:42:39.139Z"
   },
   {
    "duration": -1341,
    "start_time": "2022-02-24T02:42:39.159Z"
   },
   {
    "duration": -1358,
    "start_time": "2022-02-24T02:42:39.177Z"
   },
   {
    "duration": 9,
    "start_time": "2022-02-24T02:43:00.182Z"
   },
   {
    "duration": 285,
    "start_time": "2022-02-24T19:17:33.899Z"
   },
   {
    "duration": 659,
    "start_time": "2022-02-24T19:17:52.436Z"
   },
   {
    "duration": 339,
    "start_time": "2022-02-24T19:17:53.098Z"
   },
   {
    "duration": 19,
    "start_time": "2022-02-24T19:17:53.439Z"
   },
   {
    "duration": 42,
    "start_time": "2022-02-24T19:17:53.461Z"
   },
   {
    "duration": 9,
    "start_time": "2022-02-24T19:17:53.505Z"
   },
   {
    "duration": 311,
    "start_time": "2022-02-24T19:17:53.516Z"
   },
   {
    "duration": -890,
    "start_time": "2022-02-24T19:17:54.720Z"
   },
   {
    "duration": -896,
    "start_time": "2022-02-24T19:17:54.728Z"
   },
   {
    "duration": -1217,
    "start_time": "2022-02-24T19:17:55.050Z"
   },
   {
    "duration": -1225,
    "start_time": "2022-02-24T19:17:55.059Z"
   },
   {
    "duration": -1248,
    "start_time": "2022-02-24T19:17:55.083Z"
   },
   {
    "duration": -1255,
    "start_time": "2022-02-24T19:17:55.092Z"
   },
   {
    "duration": -1262,
    "start_time": "2022-02-24T19:17:55.100Z"
   },
   {
    "duration": -1267,
    "start_time": "2022-02-24T19:17:55.106Z"
   },
   {
    "duration": -1274,
    "start_time": "2022-02-24T19:17:55.114Z"
   },
   {
    "duration": -1280,
    "start_time": "2022-02-24T19:17:55.121Z"
   },
   {
    "duration": -1286,
    "start_time": "2022-02-24T19:17:55.129Z"
   },
   {
    "duration": -1291,
    "start_time": "2022-02-24T19:17:55.135Z"
   },
   {
    "duration": -1299,
    "start_time": "2022-02-24T19:17:55.144Z"
   },
   {
    "duration": -1304,
    "start_time": "2022-02-24T19:17:55.150Z"
   },
   {
    "duration": -1310,
    "start_time": "2022-02-24T19:17:55.158Z"
   },
   {
    "duration": -1315,
    "start_time": "2022-02-24T19:17:55.164Z"
   },
   {
    "duration": -1322,
    "start_time": "2022-02-24T19:17:55.172Z"
   },
   {
    "duration": -1345,
    "start_time": "2022-02-24T19:17:55.196Z"
   },
   {
    "duration": -1351,
    "start_time": "2022-02-24T19:17:55.203Z"
   },
   {
    "duration": -1358,
    "start_time": "2022-02-24T19:17:55.211Z"
   },
   {
    "duration": -1364,
    "start_time": "2022-02-24T19:17:55.218Z"
   },
   {
    "duration": -1372,
    "start_time": "2022-02-24T19:17:55.227Z"
   },
   {
    "duration": -1379,
    "start_time": "2022-02-24T19:17:55.236Z"
   },
   {
    "duration": -1385,
    "start_time": "2022-02-24T19:17:55.243Z"
   },
   {
    "duration": -1392,
    "start_time": "2022-02-24T19:17:55.251Z"
   },
   {
    "duration": -1398,
    "start_time": "2022-02-24T19:17:55.258Z"
   },
   {
    "duration": -1404,
    "start_time": "2022-02-24T19:17:55.265Z"
   },
   {
    "duration": -1409,
    "start_time": "2022-02-24T19:17:55.272Z"
   },
   {
    "duration": -1422,
    "start_time": "2022-02-24T19:17:55.286Z"
   },
   {
    "duration": -1442,
    "start_time": "2022-02-24T19:17:55.307Z"
   },
   {
    "duration": -1448,
    "start_time": "2022-02-24T19:17:55.314Z"
   },
   {
    "duration": -1454,
    "start_time": "2022-02-24T19:17:55.321Z"
   },
   {
    "duration": 255,
    "start_time": "2022-02-24T19:18:11.885Z"
   },
   {
    "duration": 610,
    "start_time": "2022-02-24T19:19:28.098Z"
   },
   {
    "duration": 694,
    "start_time": "2022-02-24T19:19:46.153Z"
   },
   {
    "duration": 305,
    "start_time": "2022-02-24T19:20:42.430Z"
   },
   {
    "duration": 277,
    "start_time": "2022-02-24T19:22:36.838Z"
   },
   {
    "duration": 8,
    "start_time": "2022-02-24T19:35:53.178Z"
   },
   {
    "duration": 8,
    "start_time": "2022-02-24T19:35:56.047Z"
   },
   {
    "duration": 226,
    "start_time": "2022-02-24T20:13:24.375Z"
   },
   {
    "duration": 21,
    "start_time": "2022-02-24T20:13:45.081Z"
   },
   {
    "duration": 19,
    "start_time": "2022-02-24T20:13:53.829Z"
   },
   {
    "duration": 4,
    "start_time": "2022-02-24T20:14:14.880Z"
   },
   {
    "duration": 5,
    "start_time": "2022-02-24T20:21:20.171Z"
   },
   {
    "duration": 4,
    "start_time": "2022-02-24T20:21:48.092Z"
   },
   {
    "duration": 292,
    "start_time": "2022-02-24T20:23:52.188Z"
   },
   {
    "duration": 6547,
    "start_time": "2022-02-24T20:24:01.536Z"
   },
   {
    "duration": -1652,
    "start_time": "2022-02-24T20:24:38.730Z"
   },
   {
    "duration": 6840,
    "start_time": "2022-02-24T20:25:41.633Z"
   },
   {
    "duration": 6879,
    "start_time": "2022-02-24T20:25:59.210Z"
   },
   {
    "duration": 6442,
    "start_time": "2022-02-24T20:26:18.376Z"
   },
   {
    "duration": 508,
    "start_time": "2022-02-24T20:27:39.661Z"
   },
   {
    "duration": 7697,
    "start_time": "2022-02-24T20:28:15.467Z"
   },
   {
    "duration": 6994,
    "start_time": "2022-02-24T20:28:57.270Z"
   },
   {
    "duration": 6,
    "start_time": "2022-02-24T20:57:20.172Z"
   },
   {
    "duration": 86,
    "start_time": "2022-02-24T21:07:27.762Z"
   },
   {
    "duration": 273,
    "start_time": "2022-02-24T21:07:33.873Z"
   },
   {
    "duration": -397,
    "start_time": "2022-02-24T21:10:04.501Z"
   },
   {
    "duration": 6524,
    "start_time": "2022-02-24T21:10:04.218Z"
   },
   {
    "duration": -418,
    "start_time": "2022-02-24T21:10:11.162Z"
   },
   {
    "duration": -424,
    "start_time": "2022-02-24T21:10:11.169Z"
   },
   {
    "duration": 6550,
    "start_time": "2022-02-24T21:10:35.609Z"
   },
   {
    "duration": 89,
    "start_time": "2022-02-24T21:10:49.070Z"
   },
   {
    "duration": 5,
    "start_time": "2022-02-24T21:14:29.069Z"
   },
   {
    "duration": 6888,
    "start_time": "2022-02-24T21:14:31.566Z"
   },
   {
    "duration": -403,
    "start_time": "2022-02-24T21:14:38.860Z"
   },
   {
    "duration": -411,
    "start_time": "2022-02-24T21:14:38.870Z"
   },
   {
    "duration": 6294,
    "start_time": "2022-02-24T21:14:38.656Z"
   },
   {
    "duration": 6603,
    "start_time": "2022-02-24T21:15:47.555Z"
   },
   {
    "duration": 551,
    "start_time": "2022-02-24T21:26:48.745Z"
   },
   {
    "duration": 530,
    "start_time": "2022-02-24T21:26:52.724Z"
   },
   {
    "duration": 11,
    "start_time": "2022-02-24T21:29:50.895Z"
   },
   {
    "duration": 8,
    "start_time": "2022-02-24T21:33:03.824Z"
   },
   {
    "duration": 10,
    "start_time": "2022-02-24T21:34:07.533Z"
   },
   {
    "duration": 556,
    "start_time": "2022-02-24T21:36:11.203Z"
   },
   {
    "duration": 5,
    "start_time": "2022-02-24T21:37:32.971Z"
   },
   {
    "duration": 67,
    "start_time": "2022-02-24T21:37:34.571Z"
   },
   {
    "duration": 82,
    "start_time": "2022-02-24T21:37:37.782Z"
   },
   {
    "duration": 68,
    "start_time": "2022-02-24T21:37:42.281Z"
   },
   {
    "duration": 6411,
    "start_time": "2022-02-24T21:37:59.183Z"
   },
   {
    "duration": 6437,
    "start_time": "2022-02-24T21:39:45.060Z"
   },
   {
    "duration": 8,
    "start_time": "2022-02-24T21:40:24.086Z"
   },
   {
    "duration": 6320,
    "start_time": "2022-02-24T21:40:30.500Z"
   },
   {
    "duration": 7475,
    "start_time": "2022-02-24T21:41:04.489Z"
   },
   {
    "duration": 8,
    "start_time": "2022-02-24T22:33:00.842Z"
   },
   {
    "duration": 75,
    "start_time": "2022-02-24T22:34:01.930Z"
   },
   {
    "duration": 5813,
    "start_time": "2022-02-24T22:34:19.426Z"
   },
   {
    "duration": 84,
    "start_time": "2022-02-24T22:49:18.183Z"
   },
   {
    "duration": 76,
    "start_time": "2022-02-24T22:49:23.403Z"
   },
   {
    "duration": 83,
    "start_time": "2022-02-24T22:50:31.150Z"
   },
   {
    "duration": 79,
    "start_time": "2022-02-24T22:55:52.262Z"
   },
   {
    "duration": 9,
    "start_time": "2022-02-24T22:55:54.386Z"
   },
   {
    "duration": 13,
    "start_time": "2022-02-24T22:56:11.818Z"
   },
   {
    "duration": 25,
    "start_time": "2022-02-24T22:56:22.234Z"
   },
   {
    "duration": 24,
    "start_time": "2022-02-24T22:56:42.402Z"
   },
   {
    "duration": 22,
    "start_time": "2022-02-24T22:58:09.307Z"
   },
   {
    "duration": 4,
    "start_time": "2022-02-24T22:58:35.036Z"
   },
   {
    "duration": 53,
    "start_time": "2022-02-24T22:58:53.896Z"
   },
   {
    "duration": 32,
    "start_time": "2022-02-24T22:59:10.430Z"
   },
   {
    "duration": 62,
    "start_time": "2022-02-24T22:59:15.267Z"
   },
   {
    "duration": 59,
    "start_time": "2022-02-24T22:59:19.576Z"
   },
   {
    "duration": 4,
    "start_time": "2022-02-25T02:58:30.528Z"
   },
   {
    "duration": 32,
    "start_time": "2022-02-25T02:59:28.897Z"
   },
   {
    "duration": 87,
    "start_time": "2022-02-25T03:01:18.814Z"
   },
   {
    "duration": 286,
    "start_time": "2022-02-25T03:02:16.270Z"
   },
   {
    "duration": 30,
    "start_time": "2022-02-25T03:03:26.410Z"
   },
   {
    "duration": 33,
    "start_time": "2022-02-25T03:05:53.565Z"
   },
   {
    "duration": 25,
    "start_time": "2022-02-25T03:06:14.471Z"
   },
   {
    "duration": 6,
    "start_time": "2022-02-25T03:06:49.829Z"
   },
   {
    "duration": 25,
    "start_time": "2022-02-25T03:07:16.670Z"
   },
   {
    "duration": 25,
    "start_time": "2022-02-25T03:08:57.617Z"
   },
   {
    "duration": 6,
    "start_time": "2022-02-25T03:08:59.378Z"
   },
   {
    "duration": 27,
    "start_time": "2022-02-25T03:09:27.484Z"
   },
   {
    "duration": 6,
    "start_time": "2022-02-25T03:09:30.068Z"
   },
   {
    "duration": 87,
    "start_time": "2022-02-25T03:10:22.868Z"
   },
   {
    "duration": 17,
    "start_time": "2022-02-25T03:10:28.841Z"
   },
   {
    "duration": 6,
    "start_time": "2022-02-25T03:10:44.851Z"
   },
   {
    "duration": 6,
    "start_time": "2022-02-25T03:11:12.130Z"
   },
   {
    "duration": 16,
    "start_time": "2022-02-25T03:26:16.232Z"
   },
   {
    "duration": 16,
    "start_time": "2022-02-25T03:26:22.329Z"
   },
   {
    "duration": 6,
    "start_time": "2022-02-25T03:27:28.463Z"
   },
   {
    "duration": 3,
    "start_time": "2022-02-25T03:33:06.436Z"
   },
   {
    "duration": 253,
    "start_time": "2022-02-25T03:35:06.463Z"
   },
   {
    "duration": 223,
    "start_time": "2022-02-25T03:35:25.892Z"
   },
   {
    "duration": 247,
    "start_time": "2022-02-25T03:36:16.135Z"
   },
   {
    "duration": 240,
    "start_time": "2022-02-25T03:36:32.187Z"
   },
   {
    "duration": 7,
    "start_time": "2022-02-25T03:39:00.203Z"
   },
   {
    "duration": 6,
    "start_time": "2022-02-25T03:39:57.287Z"
   },
   {
    "duration": 7,
    "start_time": "2022-02-25T03:40:18.680Z"
   },
   {
    "duration": 15,
    "start_time": "2022-02-25T03:43:57.108Z"
   },
   {
    "duration": 6,
    "start_time": "2022-02-25T03:43:59.539Z"
   },
   {
    "duration": 5,
    "start_time": "2022-02-25T03:44:37.188Z"
   },
   {
    "duration": 6,
    "start_time": "2022-02-25T03:44:41.375Z"
   },
   {
    "duration": 644,
    "start_time": "2022-02-25T03:45:26.200Z"
   },
   {
    "duration": 292,
    "start_time": "2022-02-25T03:45:26.846Z"
   },
   {
    "duration": 10,
    "start_time": "2022-02-25T03:45:27.140Z"
   },
   {
    "duration": 28,
    "start_time": "2022-02-25T03:45:27.152Z"
   },
   {
    "duration": 5,
    "start_time": "2022-02-25T03:45:27.182Z"
   },
   {
    "duration": 43,
    "start_time": "2022-02-25T03:45:27.189Z"
   },
   {
    "duration": 4,
    "start_time": "2022-02-25T03:45:27.234Z"
   },
   {
    "duration": 22,
    "start_time": "2022-02-25T03:45:27.241Z"
   },
   {
    "duration": 17,
    "start_time": "2022-02-25T03:45:27.266Z"
   },
   {
    "duration": 48,
    "start_time": "2022-02-25T03:45:27.285Z"
   },
   {
    "duration": 58,
    "start_time": "2022-02-25T03:45:27.335Z"
   },
   {
    "duration": 84,
    "start_time": "2022-02-25T03:45:27.395Z"
   },
   {
    "duration": 66,
    "start_time": "2022-02-25T03:45:27.481Z"
   },
   {
    "duration": 7,
    "start_time": "2022-02-25T03:45:27.549Z"
   },
   {
    "duration": 3,
    "start_time": "2022-02-25T03:45:27.558Z"
   },
   {
    "duration": 11,
    "start_time": "2022-02-25T03:45:27.562Z"
   },
   {
    "duration": 11,
    "start_time": "2022-02-25T03:45:27.575Z"
   },
   {
    "duration": 31,
    "start_time": "2022-02-25T03:45:27.588Z"
   },
   {
    "duration": 11,
    "start_time": "2022-02-25T03:45:27.621Z"
   },
   {
    "duration": 3,
    "start_time": "2022-02-25T03:45:27.634Z"
   },
   {
    "duration": 21,
    "start_time": "2022-02-25T03:45:27.639Z"
   },
   {
    "duration": 16,
    "start_time": "2022-02-25T03:45:27.662Z"
   },
   {
    "duration": 44,
    "start_time": "2022-02-25T03:45:27.682Z"
   },
   {
    "duration": 15,
    "start_time": "2022-02-25T03:45:27.728Z"
   },
   {
    "duration": 17,
    "start_time": "2022-02-25T03:45:27.745Z"
   },
   {
    "duration": 14,
    "start_time": "2022-02-25T03:45:27.764Z"
   },
   {
    "duration": 8,
    "start_time": "2022-02-25T03:45:27.780Z"
   },
   {
    "duration": 50,
    "start_time": "2022-02-25T03:45:27.790Z"
   },
   {
    "duration": 21,
    "start_time": "2022-02-25T03:45:27.842Z"
   },
   {
    "duration": 4,
    "start_time": "2022-02-25T03:45:27.864Z"
   },
   {
    "duration": 77,
    "start_time": "2022-02-25T03:45:27.870Z"
   },
   {
    "duration": 29,
    "start_time": "2022-02-25T03:45:27.949Z"
   },
   {
    "duration": 80,
    "start_time": "2022-02-25T03:45:27.980Z"
   },
   {
    "duration": 68,
    "start_time": "2022-02-25T03:45:28.062Z"
   },
   {
    "duration": 296,
    "start_time": "2022-02-25T03:45:28.132Z"
   },
   {
    "duration": -2735,
    "start_time": "2022-02-25T03:45:31.164Z"
   },
   {
    "duration": -2742,
    "start_time": "2022-02-25T03:45:31.172Z"
   },
   {
    "duration": 234,
    "start_time": "2022-02-25T03:45:46.057Z"
   },
   {
    "duration": 25,
    "start_time": "2022-02-25T03:46:08.337Z"
   },
   {
    "duration": 241,
    "start_time": "2022-02-25T03:46:18.957Z"
   },
   {
    "duration": 16,
    "start_time": "2022-02-25T03:46:26.126Z"
   },
   {
    "duration": 5,
    "start_time": "2022-02-25T03:46:28.660Z"
   }
  ],
  "colab": {
   "collapsed_sections": [
    "E0vqbgi9ay0H",
    "VUC88oWjTJw2",
    "atZAxtq4_Zcu"
   ],
   "name": "EmptyFinalProject.ipynb\"",
   "provenance": []
  },
  "kernelspec": {
   "display_name": "Python 3 (ipykernel)",
   "language": "python",
   "name": "python3"
  },
  "language_info": {
   "codemirror_mode": {
    "name": "ipython",
    "version": 3
   },
   "file_extension": ".py",
   "mimetype": "text/x-python",
   "name": "python",
   "nbconvert_exporter": "python",
   "pygments_lexer": "ipython3",
   "version": "3.9.12"
  },
  "toc": {
   "base_numbering": 1,
   "nav_menu": {},
   "number_sections": true,
   "sideBar": true,
   "skip_h1_title": true,
   "title_cell": "Table of Contents",
   "title_sidebar": "Contents",
   "toc_cell": false,
   "toc_position": {},
   "toc_section_display": true,
   "toc_window_display": false
  }
 },
 "nbformat": 4,
 "nbformat_minor": 4
}
