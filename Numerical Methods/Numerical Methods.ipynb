{
 "cells": [
  {
   "cell_type": "markdown",
   "metadata": {},
   "source": [
    "## Data preparation"
   ]
  },
  {
   "cell_type": "code",
   "execution_count": 1,
   "metadata": {},
   "outputs": [],
   "source": [
    "import pandas as pd\n",
    "import numpy as np\n",
    "import seaborn as sns\n",
    "import matplotlib.pyplot as plt\n",
    "import math\n",
    "import time\n",
    "import lightgbm as lgb\n",
    "from sklearn.model_selection import train_test_split\n",
    "from sklearn.preprocessing import StandardScaler\n",
    "from sklearn.linear_model import LinearRegression\n",
    "from sklearn.metrics import mean_squared_error\n",
    "from sklearn.ensemble import RandomForestRegressor\n",
    "from sklearn.tree import DecisionTreeRegressor\n",
    "from catboost import CatBoostRegressor\n",
    "from sklearn.model_selection import cross_val_score\n",
    "from sklearn.metrics import make_scorer\n",
    "from sklearn.model_selection import RandomizedSearchCV\n",
    "from tensorflow.keras import Sequential, layers, datasets\n",
    "from tensorflow.keras.utils import to_categorical\n",
    "import random\n",
    "random_state=42\n",
    "random.seed(random_state)\n",
    "np.random.seed(random_state)"
   ]
  },
  {
   "cell_type": "code",
   "execution_count": 2,
   "metadata": {},
   "outputs": [],
   "source": [
    "data=pd.read_csv('/datasets/car_data.csv')"
   ]
  },
  {
   "cell_type": "code",
   "execution_count": 3,
   "metadata": {},
   "outputs": [
    {
     "data": {
      "text/html": [
       "<div>\n",
       "<style scoped>\n",
       "    .dataframe tbody tr th:only-of-type {\n",
       "        vertical-align: middle;\n",
       "    }\n",
       "\n",
       "    .dataframe tbody tr th {\n",
       "        vertical-align: top;\n",
       "    }\n",
       "\n",
       "    .dataframe thead th {\n",
       "        text-align: right;\n",
       "    }\n",
       "</style>\n",
       "<table border=\"1\" class=\"dataframe\">\n",
       "  <thead>\n",
       "    <tr style=\"text-align: right;\">\n",
       "      <th></th>\n",
       "      <th>DateCrawled</th>\n",
       "      <th>Price</th>\n",
       "      <th>VehicleType</th>\n",
       "      <th>RegistrationYear</th>\n",
       "      <th>Gearbox</th>\n",
       "      <th>Power</th>\n",
       "      <th>Model</th>\n",
       "      <th>Mileage</th>\n",
       "      <th>RegistrationMonth</th>\n",
       "      <th>FuelType</th>\n",
       "      <th>Brand</th>\n",
       "      <th>NotRepaired</th>\n",
       "      <th>DateCreated</th>\n",
       "      <th>NumberOfPictures</th>\n",
       "      <th>PostalCode</th>\n",
       "      <th>LastSeen</th>\n",
       "    </tr>\n",
       "  </thead>\n",
       "  <tbody>\n",
       "    <tr>\n",
       "      <th>0</th>\n",
       "      <td>24/03/2016 11:52</td>\n",
       "      <td>480</td>\n",
       "      <td>NaN</td>\n",
       "      <td>1993</td>\n",
       "      <td>manual</td>\n",
       "      <td>0</td>\n",
       "      <td>golf</td>\n",
       "      <td>150000</td>\n",
       "      <td>0</td>\n",
       "      <td>petrol</td>\n",
       "      <td>volkswagen</td>\n",
       "      <td>NaN</td>\n",
       "      <td>24/03/2016 00:00</td>\n",
       "      <td>0</td>\n",
       "      <td>70435</td>\n",
       "      <td>07/04/2016 03:16</td>\n",
       "    </tr>\n",
       "    <tr>\n",
       "      <th>1</th>\n",
       "      <td>24/03/2016 10:58</td>\n",
       "      <td>18300</td>\n",
       "      <td>coupe</td>\n",
       "      <td>2011</td>\n",
       "      <td>manual</td>\n",
       "      <td>190</td>\n",
       "      <td>NaN</td>\n",
       "      <td>125000</td>\n",
       "      <td>5</td>\n",
       "      <td>gasoline</td>\n",
       "      <td>audi</td>\n",
       "      <td>yes</td>\n",
       "      <td>24/03/2016 00:00</td>\n",
       "      <td>0</td>\n",
       "      <td>66954</td>\n",
       "      <td>07/04/2016 01:46</td>\n",
       "    </tr>\n",
       "    <tr>\n",
       "      <th>2</th>\n",
       "      <td>14/03/2016 12:52</td>\n",
       "      <td>9800</td>\n",
       "      <td>suv</td>\n",
       "      <td>2004</td>\n",
       "      <td>auto</td>\n",
       "      <td>163</td>\n",
       "      <td>grand</td>\n",
       "      <td>125000</td>\n",
       "      <td>8</td>\n",
       "      <td>gasoline</td>\n",
       "      <td>jeep</td>\n",
       "      <td>NaN</td>\n",
       "      <td>14/03/2016 00:00</td>\n",
       "      <td>0</td>\n",
       "      <td>90480</td>\n",
       "      <td>05/04/2016 12:47</td>\n",
       "    </tr>\n",
       "    <tr>\n",
       "      <th>3</th>\n",
       "      <td>17/03/2016 16:54</td>\n",
       "      <td>1500</td>\n",
       "      <td>small</td>\n",
       "      <td>2001</td>\n",
       "      <td>manual</td>\n",
       "      <td>75</td>\n",
       "      <td>golf</td>\n",
       "      <td>150000</td>\n",
       "      <td>6</td>\n",
       "      <td>petrol</td>\n",
       "      <td>volkswagen</td>\n",
       "      <td>no</td>\n",
       "      <td>17/03/2016 00:00</td>\n",
       "      <td>0</td>\n",
       "      <td>91074</td>\n",
       "      <td>17/03/2016 17:40</td>\n",
       "    </tr>\n",
       "    <tr>\n",
       "      <th>4</th>\n",
       "      <td>31/03/2016 17:25</td>\n",
       "      <td>3600</td>\n",
       "      <td>small</td>\n",
       "      <td>2008</td>\n",
       "      <td>manual</td>\n",
       "      <td>69</td>\n",
       "      <td>fabia</td>\n",
       "      <td>90000</td>\n",
       "      <td>7</td>\n",
       "      <td>gasoline</td>\n",
       "      <td>skoda</td>\n",
       "      <td>no</td>\n",
       "      <td>31/03/2016 00:00</td>\n",
       "      <td>0</td>\n",
       "      <td>60437</td>\n",
       "      <td>06/04/2016 10:17</td>\n",
       "    </tr>\n",
       "    <tr>\n",
       "      <th>...</th>\n",
       "      <td>...</td>\n",
       "      <td>...</td>\n",
       "      <td>...</td>\n",
       "      <td>...</td>\n",
       "      <td>...</td>\n",
       "      <td>...</td>\n",
       "      <td>...</td>\n",
       "      <td>...</td>\n",
       "      <td>...</td>\n",
       "      <td>...</td>\n",
       "      <td>...</td>\n",
       "      <td>...</td>\n",
       "      <td>...</td>\n",
       "      <td>...</td>\n",
       "      <td>...</td>\n",
       "      <td>...</td>\n",
       "    </tr>\n",
       "    <tr>\n",
       "      <th>354364</th>\n",
       "      <td>21/03/2016 09:50</td>\n",
       "      <td>0</td>\n",
       "      <td>NaN</td>\n",
       "      <td>2005</td>\n",
       "      <td>manual</td>\n",
       "      <td>0</td>\n",
       "      <td>colt</td>\n",
       "      <td>150000</td>\n",
       "      <td>7</td>\n",
       "      <td>petrol</td>\n",
       "      <td>mitsubishi</td>\n",
       "      <td>yes</td>\n",
       "      <td>21/03/2016 00:00</td>\n",
       "      <td>0</td>\n",
       "      <td>2694</td>\n",
       "      <td>21/03/2016 10:42</td>\n",
       "    </tr>\n",
       "    <tr>\n",
       "      <th>354365</th>\n",
       "      <td>14/03/2016 17:48</td>\n",
       "      <td>2200</td>\n",
       "      <td>NaN</td>\n",
       "      <td>2005</td>\n",
       "      <td>NaN</td>\n",
       "      <td>0</td>\n",
       "      <td>NaN</td>\n",
       "      <td>20000</td>\n",
       "      <td>1</td>\n",
       "      <td>NaN</td>\n",
       "      <td>sonstige_autos</td>\n",
       "      <td>NaN</td>\n",
       "      <td>14/03/2016 00:00</td>\n",
       "      <td>0</td>\n",
       "      <td>39576</td>\n",
       "      <td>06/04/2016 00:46</td>\n",
       "    </tr>\n",
       "    <tr>\n",
       "      <th>354366</th>\n",
       "      <td>05/03/2016 19:56</td>\n",
       "      <td>1199</td>\n",
       "      <td>convertible</td>\n",
       "      <td>2000</td>\n",
       "      <td>auto</td>\n",
       "      <td>101</td>\n",
       "      <td>fortwo</td>\n",
       "      <td>125000</td>\n",
       "      <td>3</td>\n",
       "      <td>petrol</td>\n",
       "      <td>smart</td>\n",
       "      <td>no</td>\n",
       "      <td>05/03/2016 00:00</td>\n",
       "      <td>0</td>\n",
       "      <td>26135</td>\n",
       "      <td>11/03/2016 18:17</td>\n",
       "    </tr>\n",
       "    <tr>\n",
       "      <th>354367</th>\n",
       "      <td>19/03/2016 18:57</td>\n",
       "      <td>9200</td>\n",
       "      <td>bus</td>\n",
       "      <td>1996</td>\n",
       "      <td>manual</td>\n",
       "      <td>102</td>\n",
       "      <td>transporter</td>\n",
       "      <td>150000</td>\n",
       "      <td>3</td>\n",
       "      <td>gasoline</td>\n",
       "      <td>volkswagen</td>\n",
       "      <td>no</td>\n",
       "      <td>19/03/2016 00:00</td>\n",
       "      <td>0</td>\n",
       "      <td>87439</td>\n",
       "      <td>07/04/2016 07:15</td>\n",
       "    </tr>\n",
       "    <tr>\n",
       "      <th>354368</th>\n",
       "      <td>20/03/2016 19:41</td>\n",
       "      <td>3400</td>\n",
       "      <td>wagon</td>\n",
       "      <td>2002</td>\n",
       "      <td>manual</td>\n",
       "      <td>100</td>\n",
       "      <td>golf</td>\n",
       "      <td>150000</td>\n",
       "      <td>6</td>\n",
       "      <td>gasoline</td>\n",
       "      <td>volkswagen</td>\n",
       "      <td>NaN</td>\n",
       "      <td>20/03/2016 00:00</td>\n",
       "      <td>0</td>\n",
       "      <td>40764</td>\n",
       "      <td>24/03/2016 12:45</td>\n",
       "    </tr>\n",
       "  </tbody>\n",
       "</table>\n",
       "<p>354369 rows × 16 columns</p>\n",
       "</div>"
      ],
      "text/plain": [
       "             DateCrawled  Price  VehicleType  RegistrationYear Gearbox  Power  \\\n",
       "0       24/03/2016 11:52    480          NaN              1993  manual      0   \n",
       "1       24/03/2016 10:58  18300        coupe              2011  manual    190   \n",
       "2       14/03/2016 12:52   9800          suv              2004    auto    163   \n",
       "3       17/03/2016 16:54   1500        small              2001  manual     75   \n",
       "4       31/03/2016 17:25   3600        small              2008  manual     69   \n",
       "...                  ...    ...          ...               ...     ...    ...   \n",
       "354364  21/03/2016 09:50      0          NaN              2005  manual      0   \n",
       "354365  14/03/2016 17:48   2200          NaN              2005     NaN      0   \n",
       "354366  05/03/2016 19:56   1199  convertible              2000    auto    101   \n",
       "354367  19/03/2016 18:57   9200          bus              1996  manual    102   \n",
       "354368  20/03/2016 19:41   3400        wagon              2002  manual    100   \n",
       "\n",
       "              Model  Mileage  RegistrationMonth  FuelType           Brand  \\\n",
       "0              golf   150000                  0    petrol      volkswagen   \n",
       "1               NaN   125000                  5  gasoline            audi   \n",
       "2             grand   125000                  8  gasoline            jeep   \n",
       "3              golf   150000                  6    petrol      volkswagen   \n",
       "4             fabia    90000                  7  gasoline           skoda   \n",
       "...             ...      ...                ...       ...             ...   \n",
       "354364         colt   150000                  7    petrol      mitsubishi   \n",
       "354365          NaN    20000                  1       NaN  sonstige_autos   \n",
       "354366       fortwo   125000                  3    petrol           smart   \n",
       "354367  transporter   150000                  3  gasoline      volkswagen   \n",
       "354368         golf   150000                  6  gasoline      volkswagen   \n",
       "\n",
       "       NotRepaired       DateCreated  NumberOfPictures  PostalCode  \\\n",
       "0              NaN  24/03/2016 00:00                 0       70435   \n",
       "1              yes  24/03/2016 00:00                 0       66954   \n",
       "2              NaN  14/03/2016 00:00                 0       90480   \n",
       "3               no  17/03/2016 00:00                 0       91074   \n",
       "4               no  31/03/2016 00:00                 0       60437   \n",
       "...            ...               ...               ...         ...   \n",
       "354364         yes  21/03/2016 00:00                 0        2694   \n",
       "354365         NaN  14/03/2016 00:00                 0       39576   \n",
       "354366          no  05/03/2016 00:00                 0       26135   \n",
       "354367          no  19/03/2016 00:00                 0       87439   \n",
       "354368         NaN  20/03/2016 00:00                 0       40764   \n",
       "\n",
       "                LastSeen  \n",
       "0       07/04/2016 03:16  \n",
       "1       07/04/2016 01:46  \n",
       "2       05/04/2016 12:47  \n",
       "3       17/03/2016 17:40  \n",
       "4       06/04/2016 10:17  \n",
       "...                  ...  \n",
       "354364  21/03/2016 10:42  \n",
       "354365  06/04/2016 00:46  \n",
       "354366  11/03/2016 18:17  \n",
       "354367  07/04/2016 07:15  \n",
       "354368  24/03/2016 12:45  \n",
       "\n",
       "[354369 rows x 16 columns]"
      ]
     },
     "execution_count": 3,
     "metadata": {},
     "output_type": "execute_result"
    }
   ],
   "source": [
    "data"
   ]
  },
  {
   "cell_type": "code",
   "execution_count": 4,
   "metadata": {},
   "outputs": [],
   "source": [
    "data.columns=data.columns.str.lower()\n",
    "data=data.rename(columns={'datecrawled': 'date_crawled', 'price': 'price', 'vehicleType': 'vehicle_type', \n",
    "                        'registrationyear': 'registration_year', 'gearbox': 'gearbox', 'power': 'power', \n",
    "                        'model': 'model','mileage': 'milage', 'registrationmonth': 'registration_month', \n",
    "                        'FuelType': 'fuel_type', 'Brand': 'brand','NotRepaired': 'not_repaired', \n",
    "                        'datecreated': 'date_created', 'numberofpictures': 'num_pictures', \n",
    "                        'postalcode': 'postal_code', 'lastSeen': 'last_seen', })\n",
    "\n"
   ]
  },
  {
   "cell_type": "code",
   "execution_count": 5,
   "metadata": {},
   "outputs": [
    {
     "name": "stdout",
     "output_type": "stream",
     "text": [
      "(354369, 16)\n"
     ]
    },
    {
     "data": {
      "text/html": [
       "<div>\n",
       "<style scoped>\n",
       "    .dataframe tbody tr th:only-of-type {\n",
       "        vertical-align: middle;\n",
       "    }\n",
       "\n",
       "    .dataframe tbody tr th {\n",
       "        vertical-align: top;\n",
       "    }\n",
       "\n",
       "    .dataframe thead th {\n",
       "        text-align: right;\n",
       "    }\n",
       "</style>\n",
       "<table border=\"1\" class=\"dataframe\">\n",
       "  <thead>\n",
       "    <tr style=\"text-align: right;\">\n",
       "      <th></th>\n",
       "      <th>date_crawled</th>\n",
       "      <th>price</th>\n",
       "      <th>vehicletype</th>\n",
       "      <th>registration_year</th>\n",
       "      <th>gearbox</th>\n",
       "      <th>power</th>\n",
       "      <th>model</th>\n",
       "      <th>milage</th>\n",
       "      <th>registration_month</th>\n",
       "      <th>fueltype</th>\n",
       "      <th>brand</th>\n",
       "      <th>notrepaired</th>\n",
       "      <th>date_created</th>\n",
       "      <th>num_pictures</th>\n",
       "      <th>postal_code</th>\n",
       "      <th>lastseen</th>\n",
       "    </tr>\n",
       "  </thead>\n",
       "  <tbody>\n",
       "    <tr>\n",
       "      <th>15</th>\n",
       "      <td>11/03/2016 21:39</td>\n",
       "      <td>450</td>\n",
       "      <td>small</td>\n",
       "      <td>1910</td>\n",
       "      <td>NaN</td>\n",
       "      <td>0</td>\n",
       "      <td>ka</td>\n",
       "      <td>5000</td>\n",
       "      <td>0</td>\n",
       "      <td>petrol</td>\n",
       "      <td>ford</td>\n",
       "      <td>NaN</td>\n",
       "      <td>11/03/2016 00:00</td>\n",
       "      <td>0</td>\n",
       "      <td>24148</td>\n",
       "      <td>19/03/2016 08:46</td>\n",
       "    </tr>\n",
       "    <tr>\n",
       "      <th>622</th>\n",
       "      <td>16/03/2016 16:55</td>\n",
       "      <td>0</td>\n",
       "      <td>NaN</td>\n",
       "      <td>1111</td>\n",
       "      <td>NaN</td>\n",
       "      <td>0</td>\n",
       "      <td>NaN</td>\n",
       "      <td>5000</td>\n",
       "      <td>0</td>\n",
       "      <td>NaN</td>\n",
       "      <td>opel</td>\n",
       "      <td>NaN</td>\n",
       "      <td>16/03/2016 00:00</td>\n",
       "      <td>0</td>\n",
       "      <td>44628</td>\n",
       "      <td>20/03/2016 16:44</td>\n",
       "    </tr>\n",
       "    <tr>\n",
       "      <th>1928</th>\n",
       "      <td>25/03/2016 15:58</td>\n",
       "      <td>7000</td>\n",
       "      <td>suv</td>\n",
       "      <td>1945</td>\n",
       "      <td>manual</td>\n",
       "      <td>48</td>\n",
       "      <td>other</td>\n",
       "      <td>150000</td>\n",
       "      <td>2</td>\n",
       "      <td>petrol</td>\n",
       "      <td>volkswagen</td>\n",
       "      <td>no</td>\n",
       "      <td>25/03/2016 00:00</td>\n",
       "      <td>0</td>\n",
       "      <td>58135</td>\n",
       "      <td>25/03/2016 15:58</td>\n",
       "    </tr>\n",
       "    <tr>\n",
       "      <th>2273</th>\n",
       "      <td>15/03/2016 21:44</td>\n",
       "      <td>1800</td>\n",
       "      <td>convertible</td>\n",
       "      <td>1925</td>\n",
       "      <td>NaN</td>\n",
       "      <td>0</td>\n",
       "      <td>NaN</td>\n",
       "      <td>5000</td>\n",
       "      <td>1</td>\n",
       "      <td>NaN</td>\n",
       "      <td>sonstige_autos</td>\n",
       "      <td>no</td>\n",
       "      <td>15/03/2016 00:00</td>\n",
       "      <td>0</td>\n",
       "      <td>79288</td>\n",
       "      <td>07/04/2016 05:15</td>\n",
       "    </tr>\n",
       "    <tr>\n",
       "      <th>3333</th>\n",
       "      <td>15/03/2016 21:36</td>\n",
       "      <td>10500</td>\n",
       "      <td>sedan</td>\n",
       "      <td>1955</td>\n",
       "      <td>manual</td>\n",
       "      <td>30</td>\n",
       "      <td>other</td>\n",
       "      <td>60000</td>\n",
       "      <td>0</td>\n",
       "      <td>petrol</td>\n",
       "      <td>ford</td>\n",
       "      <td>NaN</td>\n",
       "      <td>15/03/2016 00:00</td>\n",
       "      <td>0</td>\n",
       "      <td>53498</td>\n",
       "      <td>07/04/2016 08:16</td>\n",
       "    </tr>\n",
       "    <tr>\n",
       "      <th>...</th>\n",
       "      <td>...</td>\n",
       "      <td>...</td>\n",
       "      <td>...</td>\n",
       "      <td>...</td>\n",
       "      <td>...</td>\n",
       "      <td>...</td>\n",
       "      <td>...</td>\n",
       "      <td>...</td>\n",
       "      <td>...</td>\n",
       "      <td>...</td>\n",
       "      <td>...</td>\n",
       "      <td>...</td>\n",
       "      <td>...</td>\n",
       "      <td>...</td>\n",
       "      <td>...</td>\n",
       "      <td>...</td>\n",
       "    </tr>\n",
       "    <tr>\n",
       "      <th>351299</th>\n",
       "      <td>09/03/2016 21:56</td>\n",
       "      <td>5500</td>\n",
       "      <td>bus</td>\n",
       "      <td>1956</td>\n",
       "      <td>manual</td>\n",
       "      <td>37</td>\n",
       "      <td>NaN</td>\n",
       "      <td>60000</td>\n",
       "      <td>4</td>\n",
       "      <td>petrol</td>\n",
       "      <td>sonstige_autos</td>\n",
       "      <td>no</td>\n",
       "      <td>09/03/2016 00:00</td>\n",
       "      <td>0</td>\n",
       "      <td>1900</td>\n",
       "      <td>06/04/2016 02:17</td>\n",
       "    </tr>\n",
       "    <tr>\n",
       "      <th>351682</th>\n",
       "      <td>12/03/2016 00:57</td>\n",
       "      <td>11500</td>\n",
       "      <td>NaN</td>\n",
       "      <td>1800</td>\n",
       "      <td>NaN</td>\n",
       "      <td>16</td>\n",
       "      <td>other</td>\n",
       "      <td>5000</td>\n",
       "      <td>6</td>\n",
       "      <td>petrol</td>\n",
       "      <td>fiat</td>\n",
       "      <td>NaN</td>\n",
       "      <td>11/03/2016 00:00</td>\n",
       "      <td>0</td>\n",
       "      <td>16515</td>\n",
       "      <td>05/04/2016 19:47</td>\n",
       "    </tr>\n",
       "    <tr>\n",
       "      <th>353531</th>\n",
       "      <td>16/03/2016 21:56</td>\n",
       "      <td>6000</td>\n",
       "      <td>sedan</td>\n",
       "      <td>1937</td>\n",
       "      <td>manual</td>\n",
       "      <td>38</td>\n",
       "      <td>other</td>\n",
       "      <td>5000</td>\n",
       "      <td>0</td>\n",
       "      <td>petrol</td>\n",
       "      <td>mercedes_benz</td>\n",
       "      <td>NaN</td>\n",
       "      <td>16/03/2016 00:00</td>\n",
       "      <td>0</td>\n",
       "      <td>23936</td>\n",
       "      <td>30/03/2016 18:47</td>\n",
       "    </tr>\n",
       "    <tr>\n",
       "      <th>353961</th>\n",
       "      <td>17/03/2016 13:54</td>\n",
       "      <td>200</td>\n",
       "      <td>NaN</td>\n",
       "      <td>1910</td>\n",
       "      <td>NaN</td>\n",
       "      <td>0</td>\n",
       "      <td>NaN</td>\n",
       "      <td>5000</td>\n",
       "      <td>0</td>\n",
       "      <td>petrol</td>\n",
       "      <td>sonstige_autos</td>\n",
       "      <td>NaN</td>\n",
       "      <td>17/03/2016 00:00</td>\n",
       "      <td>0</td>\n",
       "      <td>42289</td>\n",
       "      <td>31/03/2016 22:46</td>\n",
       "    </tr>\n",
       "    <tr>\n",
       "      <th>354316</th>\n",
       "      <td>07/03/2016 19:58</td>\n",
       "      <td>3300</td>\n",
       "      <td>coupe</td>\n",
       "      <td>1957</td>\n",
       "      <td>manual</td>\n",
       "      <td>40</td>\n",
       "      <td>other</td>\n",
       "      <td>100000</td>\n",
       "      <td>11</td>\n",
       "      <td>petrol</td>\n",
       "      <td>trabant</td>\n",
       "      <td>no</td>\n",
       "      <td>07/03/2016 00:00</td>\n",
       "      <td>0</td>\n",
       "      <td>10317</td>\n",
       "      <td>08/03/2016 06:45</td>\n",
       "    </tr>\n",
       "  </tbody>\n",
       "</table>\n",
       "<p>422 rows × 16 columns</p>\n",
       "</div>"
      ],
      "text/plain": [
       "            date_crawled  price  vehicletype  registration_year gearbox  \\\n",
       "15      11/03/2016 21:39    450        small               1910     NaN   \n",
       "622     16/03/2016 16:55      0          NaN               1111     NaN   \n",
       "1928    25/03/2016 15:58   7000          suv               1945  manual   \n",
       "2273    15/03/2016 21:44   1800  convertible               1925     NaN   \n",
       "3333    15/03/2016 21:36  10500        sedan               1955  manual   \n",
       "...                  ...    ...          ...                ...     ...   \n",
       "351299  09/03/2016 21:56   5500          bus               1956  manual   \n",
       "351682  12/03/2016 00:57  11500          NaN               1800     NaN   \n",
       "353531  16/03/2016 21:56   6000        sedan               1937  manual   \n",
       "353961  17/03/2016 13:54    200          NaN               1910     NaN   \n",
       "354316  07/03/2016 19:58   3300        coupe               1957  manual   \n",
       "\n",
       "        power  model  milage  registration_month fueltype           brand  \\\n",
       "15          0     ka    5000                   0   petrol            ford   \n",
       "622         0    NaN    5000                   0      NaN            opel   \n",
       "1928       48  other  150000                   2   petrol      volkswagen   \n",
       "2273        0    NaN    5000                   1      NaN  sonstige_autos   \n",
       "3333       30  other   60000                   0   petrol            ford   \n",
       "...       ...    ...     ...                 ...      ...             ...   \n",
       "351299     37    NaN   60000                   4   petrol  sonstige_autos   \n",
       "351682     16  other    5000                   6   petrol            fiat   \n",
       "353531     38  other    5000                   0   petrol   mercedes_benz   \n",
       "353961      0    NaN    5000                   0   petrol  sonstige_autos   \n",
       "354316     40  other  100000                  11   petrol         trabant   \n",
       "\n",
       "       notrepaired      date_created  num_pictures  postal_code  \\\n",
       "15             NaN  11/03/2016 00:00             0        24148   \n",
       "622            NaN  16/03/2016 00:00             0        44628   \n",
       "1928            no  25/03/2016 00:00             0        58135   \n",
       "2273            no  15/03/2016 00:00             0        79288   \n",
       "3333           NaN  15/03/2016 00:00             0        53498   \n",
       "...            ...               ...           ...          ...   \n",
       "351299          no  09/03/2016 00:00             0         1900   \n",
       "351682         NaN  11/03/2016 00:00             0        16515   \n",
       "353531         NaN  16/03/2016 00:00             0        23936   \n",
       "353961         NaN  17/03/2016 00:00             0        42289   \n",
       "354316          no  07/03/2016 00:00             0        10317   \n",
       "\n",
       "                lastseen  \n",
       "15      19/03/2016 08:46  \n",
       "622     20/03/2016 16:44  \n",
       "1928    25/03/2016 15:58  \n",
       "2273    07/04/2016 05:15  \n",
       "3333    07/04/2016 08:16  \n",
       "...                  ...  \n",
       "351299  06/04/2016 02:17  \n",
       "351682  05/04/2016 19:47  \n",
       "353531  30/03/2016 18:47  \n",
       "353961  31/03/2016 22:46  \n",
       "354316  08/03/2016 06:45  \n",
       "\n",
       "[422 rows x 16 columns]"
      ]
     },
     "execution_count": 5,
     "metadata": {},
     "output_type": "execute_result"
    }
   ],
   "source": [
    "print(data.shape)\n",
    "data.isna().sum()\n",
    "data[\"registration_year\"].value_counts()\n",
    "data[data[\"registration_year\"] > 2022]\n",
    "data[data[\"registration_year\"] < 1960 ]\n",
    "\n",
    "\n"
   ]
  },
  {
   "cell_type": "code",
   "execution_count": 6,
   "metadata": {},
   "outputs": [
    {
     "data": {
      "text/plain": [
       "262"
      ]
     },
     "execution_count": 6,
     "metadata": {},
     "output_type": "execute_result"
    }
   ],
   "source": [
    "data.duplicated().sum()"
   ]
  },
  {
   "cell_type": "code",
   "execution_count": 7,
   "metadata": {},
   "outputs": [
    {
     "data": {
      "text/plain": [
       "0"
      ]
     },
     "execution_count": 7,
     "metadata": {},
     "output_type": "execute_result"
    }
   ],
   "source": [
    "data= data.drop_duplicates()\n",
    "data.duplicated().sum()"
   ]
  },
  {
   "cell_type": "code",
   "execution_count": 8,
   "metadata": {},
   "outputs": [
    {
     "name": "stdout",
     "output_type": "stream",
     "text": [
      "<class 'pandas.core.frame.DataFrame'>\n",
      "Int64Index: 354107 entries, 0 to 354368\n",
      "Data columns (total 16 columns):\n",
      " #   Column              Non-Null Count   Dtype \n",
      "---  ------              --------------   ----- \n",
      " 0   date_crawled        354107 non-null  object\n",
      " 1   price               354107 non-null  int64 \n",
      " 2   vehicletype         316623 non-null  object\n",
      " 3   registration_year   354107 non-null  int64 \n",
      " 4   gearbox             334277 non-null  object\n",
      " 5   power               354107 non-null  int64 \n",
      " 6   model               334406 non-null  object\n",
      " 7   milage              354107 non-null  int64 \n",
      " 8   registration_month  354107 non-null  int64 \n",
      " 9   fueltype            321218 non-null  object\n",
      " 10  brand               354107 non-null  object\n",
      " 11  notrepaired         282962 non-null  object\n",
      " 12  date_created        354107 non-null  object\n",
      " 13  num_pictures        354107 non-null  int64 \n",
      " 14  postal_code         354107 non-null  int64 \n",
      " 15  lastseen            354107 non-null  object\n",
      "dtypes: int64(7), object(9)\n",
      "memory usage: 45.9+ MB\n"
     ]
    },
    {
     "data": {
      "text/plain": [
       "date_crawled              0\n",
       "price                     0\n",
       "vehicletype           37484\n",
       "registration_year         0\n",
       "gearbox               19830\n",
       "power                     0\n",
       "model                 19701\n",
       "milage                    0\n",
       "registration_month        0\n",
       "fueltype              32889\n",
       "brand                     0\n",
       "notrepaired           71145\n",
       "date_created              0\n",
       "num_pictures              0\n",
       "postal_code               0\n",
       "lastseen                  0\n",
       "dtype: int64"
      ]
     },
     "execution_count": 8,
     "metadata": {},
     "output_type": "execute_result"
    }
   ],
   "source": [
    "data.info()\n",
    "data.isna().sum()"
   ]
  },
  {
   "cell_type": "code",
   "execution_count": 9,
   "metadata": {},
   "outputs": [
    {
     "data": {
      "text/plain": [
       "date_crawled          0.000000\n",
       "price                 0.000000\n",
       "vehicletype           0.105855\n",
       "registration_year     0.000000\n",
       "gearbox               0.056000\n",
       "power                 0.000000\n",
       "model                 0.055636\n",
       "milage                0.000000\n",
       "registration_month    0.000000\n",
       "fueltype              0.092879\n",
       "brand                 0.000000\n",
       "notrepaired           0.200914\n",
       "date_created          0.000000\n",
       "num_pictures          0.000000\n",
       "postal_code           0.000000\n",
       "lastseen              0.000000\n",
       "dtype: float64"
      ]
     },
     "execution_count": 9,
     "metadata": {},
     "output_type": "execute_result"
    }
   ],
   "source": [
    "data.isna().sum()/len(data)"
   ]
  },
  {
   "cell_type": "code",
   "execution_count": 10,
   "metadata": {
    "scrolled": false
   },
   "outputs": [
    {
     "name": "stdout",
     "output_type": "stream",
     "text": [
      "0.502\n"
     ]
    }
   ],
   "source": [
    "print(.10+.056+.056+.09+.20)"
   ]
  },
  {
   "cell_type": "markdown",
   "metadata": {},
   "source": [
    "* The portion of missing data is pretty significant overall with it being about 50% of data missing. I will investigate each column further"
   ]
  },
  {
   "cell_type": "code",
   "execution_count": 11,
   "metadata": {},
   "outputs": [],
   "source": [
    "data[\"num_pictures\"].value_counts()\n",
    "data=data.drop([\"num_pictures\"], axis=1)"
   ]
  },
  {
   "cell_type": "code",
   "execution_count": 12,
   "metadata": {
    "scrolled": true
   },
   "outputs": [
    {
     "data": {
      "text/plain": [
       "no     246927\n",
       "yes     36035\n",
       "Name: notrepaired, dtype: int64"
      ]
     },
     "execution_count": 12,
     "metadata": {},
     "output_type": "execute_result"
    }
   ],
   "source": [
    "data['notrepaired'].value_counts()\n"
   ]
  },
  {
   "cell_type": "markdown",
   "metadata": {},
   "source": [
    "* The num_pictures column does not contain any other value besides '0', which makes this column useless in model training, so I will remove this entire column in preparation for training. \n",
    "* In the ['notrepaired'] column, 20% of the data is missing. I chose to replace the missing values with 'no' since the overwhelming majority value is 'no'. "
   ]
  },
  {
   "cell_type": "code",
   "execution_count": 13,
   "metadata": {
    "scrolled": true
   },
   "outputs": [
    {
     "data": {
      "text/plain": [
       "0"
      ]
     },
     "execution_count": 13,
     "metadata": {},
     "output_type": "execute_result"
    }
   ],
   "source": [
    "data['notrepaired'].value_counts()\n",
    "data[\"notrepaired\"].fillna('no', inplace=True)\n",
    "data['notrepaired'].isna().sum()"
   ]
  },
  {
   "cell_type": "code",
   "execution_count": 14,
   "metadata": {
    "scrolled": true
   },
   "outputs": [
    {
     "data": {
      "text/plain": [
       "date_crawled          0.000000\n",
       "price                 0.000000\n",
       "vehicletype           0.104973\n",
       "registration_year     0.000000\n",
       "gearbox               0.055016\n",
       "power                 0.000000\n",
       "model                 0.054816\n",
       "milage                0.000000\n",
       "registration_month    0.000000\n",
       "fueltype              0.092057\n",
       "brand                 0.000000\n",
       "notrepaired           0.000000\n",
       "date_created          0.000000\n",
       "postal_code           0.000000\n",
       "lastseen              0.000000\n",
       "dtype: float64"
      ]
     },
     "execution_count": 14,
     "metadata": {},
     "output_type": "execute_result"
    }
   ],
   "source": [
    "data=data.query('registration_year < 2019 and registration_year > 1960')\n",
    "data.isna().sum() / len(data)"
   ]
  },
  {
   "cell_type": "markdown",
   "metadata": {},
   "source": [
    "* I removed rows which contained values in registration_year column that were either irrelevant/didn't make sense which included the above query."
   ]
  },
  {
   "cell_type": "code",
   "execution_count": 15,
   "metadata": {
    "scrolled": true
   },
   "outputs": [
    {
     "data": {
      "text/plain": [
       "petrol      215822\n",
       "gasoline     98627\n",
       "lpg           5306\n",
       "cng            563\n",
       "hybrid         232\n",
       "other          197\n",
       "electric        90\n",
       "Name: fueltype, dtype: int64"
      ]
     },
     "execution_count": 15,
     "metadata": {},
     "output_type": "execute_result"
    }
   ],
   "source": [
    "data[\"fueltype\"].value_counts()"
   ]
  },
  {
   "cell_type": "code",
   "execution_count": 16,
   "metadata": {
    "scrolled": true
   },
   "outputs": [
    {
     "data": {
      "text/plain": [
       "0.05115078657599606"
      ]
     },
     "execution_count": 16,
     "metadata": {},
     "output_type": "execute_result"
    }
   ],
   "source": [
    "data[\"postal_code\"].value_counts()\n",
    "inaccurate_postal= data.query('postal_code < 10000')\n",
    "len(inaccurate_postal)/len(data)"
   ]
  },
  {
   "cell_type": "markdown",
   "metadata": {},
   "source": [
    "* There are about 5% of rows in the data that contain postal codes that are not 5-digits, and thus inaccurate."
   ]
  },
  {
   "cell_type": "code",
   "execution_count": 17,
   "metadata": {
    "scrolled": false
   },
   "outputs": [
    {
     "data": {
      "text/html": [
       "<div>\n",
       "<style scoped>\n",
       "    .dataframe tbody tr th:only-of-type {\n",
       "        vertical-align: middle;\n",
       "    }\n",
       "\n",
       "    .dataframe tbody tr th {\n",
       "        vertical-align: top;\n",
       "    }\n",
       "\n",
       "    .dataframe thead th {\n",
       "        text-align: right;\n",
       "    }\n",
       "</style>\n",
       "<table border=\"1\" class=\"dataframe\">\n",
       "  <thead>\n",
       "    <tr style=\"text-align: right;\">\n",
       "      <th></th>\n",
       "      <th>price</th>\n",
       "      <th>registration_year</th>\n",
       "      <th>power</th>\n",
       "      <th>milage</th>\n",
       "      <th>registration_month</th>\n",
       "      <th>postal_code</th>\n",
       "    </tr>\n",
       "  </thead>\n",
       "  <tbody>\n",
       "    <tr>\n",
       "      <th>price</th>\n",
       "      <td>1.000000</td>\n",
       "      <td>0.389955</td>\n",
       "      <td>0.159506</td>\n",
       "      <td>-0.335997</td>\n",
       "      <td>0.110227</td>\n",
       "      <td>0.075899</td>\n",
       "    </tr>\n",
       "    <tr>\n",
       "      <th>registration_year</th>\n",
       "      <td>0.389955</td>\n",
       "      <td>1.000000</td>\n",
       "      <td>0.034142</td>\n",
       "      <td>-0.200124</td>\n",
       "      <td>0.042043</td>\n",
       "      <td>0.023928</td>\n",
       "    </tr>\n",
       "    <tr>\n",
       "      <th>power</th>\n",
       "      <td>0.159506</td>\n",
       "      <td>0.034142</td>\n",
       "      <td>1.000000</td>\n",
       "      <td>0.023000</td>\n",
       "      <td>0.042721</td>\n",
       "      <td>0.021489</td>\n",
       "    </tr>\n",
       "    <tr>\n",
       "      <th>milage</th>\n",
       "      <td>-0.335997</td>\n",
       "      <td>-0.200124</td>\n",
       "      <td>0.023000</td>\n",
       "      <td>1.000000</td>\n",
       "      <td>0.005819</td>\n",
       "      <td>-0.008513</td>\n",
       "    </tr>\n",
       "    <tr>\n",
       "      <th>registration_month</th>\n",
       "      <td>0.110227</td>\n",
       "      <td>0.042043</td>\n",
       "      <td>0.042721</td>\n",
       "      <td>0.005819</td>\n",
       "      <td>1.000000</td>\n",
       "      <td>0.013642</td>\n",
       "    </tr>\n",
       "    <tr>\n",
       "      <th>postal_code</th>\n",
       "      <td>0.075899</td>\n",
       "      <td>0.023928</td>\n",
       "      <td>0.021489</td>\n",
       "      <td>-0.008513</td>\n",
       "      <td>0.013642</td>\n",
       "      <td>1.000000</td>\n",
       "    </tr>\n",
       "  </tbody>\n",
       "</table>\n",
       "</div>"
      ],
      "text/plain": [
       "                       price  registration_year     power    milage  \\\n",
       "price               1.000000           0.389955  0.159506 -0.335997   \n",
       "registration_year   0.389955           1.000000  0.034142 -0.200124   \n",
       "power               0.159506           0.034142  1.000000  0.023000   \n",
       "milage             -0.335997          -0.200124  0.023000  1.000000   \n",
       "registration_month  0.110227           0.042043  0.042721  0.005819   \n",
       "postal_code         0.075899           0.023928  0.021489 -0.008513   \n",
       "\n",
       "                    registration_month  postal_code  \n",
       "price                         0.110227     0.075899  \n",
       "registration_year             0.042043     0.023928  \n",
       "power                         0.042721     0.021489  \n",
       "milage                        0.005819    -0.008513  \n",
       "registration_month            1.000000     0.013642  \n",
       "postal_code                   0.013642     1.000000  "
      ]
     },
     "execution_count": 17,
     "metadata": {},
     "output_type": "execute_result"
    }
   ],
   "source": [
    "data.corr()"
   ]
  },
  {
   "cell_type": "markdown",
   "metadata": {},
   "source": [
    "* It also looks like postal code doesn't seem to correlate with price (has the lowest corr value compared to other factors), which means it might be best to just eliminate the entire column. "
   ]
  },
  {
   "cell_type": "code",
   "execution_count": 18,
   "metadata": {
    "scrolled": false
   },
   "outputs": [
    {
     "data": {
      "text/plain": [
       "Index(['date_crawled', 'price', 'vehicletype', 'registration_year', 'gearbox',\n",
       "       'power', 'model', 'milage', 'registration_month', 'fueltype', 'brand',\n",
       "       'notrepaired', 'date_created', 'lastseen'],\n",
       "      dtype='object')"
      ]
     },
     "execution_count": 18,
     "metadata": {},
     "output_type": "execute_result"
    }
   ],
   "source": [
    "data.drop([\"postal_code\"], axis=1, inplace=True)\n",
    "data.columns"
   ]
  },
  {
   "cell_type": "code",
   "execution_count": 19,
   "metadata": {},
   "outputs": [],
   "source": [
    "data.drop([\"date_crawled\"], axis=1, inplace=True)\n",
    "data.drop([\"date_created\"], axis=1, inplace=True)\n"
   ]
  },
  {
   "cell_type": "code",
   "execution_count": 20,
   "metadata": {},
   "outputs": [],
   "source": [
    "data.drop([\"lastseen\"], axis=1, inplace=True)"
   ]
  },
  {
   "cell_type": "markdown",
   "metadata": {},
   "source": [
    "* The columns including dates such as [date_crawled], [date_created] and [last_seen] will not be purposeful in model training, so they have also been removed."
   ]
  },
  {
   "cell_type": "code",
   "execution_count": 21,
   "metadata": {},
   "outputs": [
    {
     "data": {
      "text/plain": [
       "Index(['price', 'vehicletype', 'registration_year', 'gearbox', 'power',\n",
       "       'model', 'milage', 'registration_month', 'fueltype', 'brand',\n",
       "       'notrepaired'],\n",
       "      dtype='object')"
      ]
     },
     "execution_count": 21,
     "metadata": {},
     "output_type": "execute_result"
    }
   ],
   "source": [
    "data.columns"
   ]
  },
  {
   "cell_type": "code",
   "execution_count": 22,
   "metadata": {
    "scrolled": true
   },
   "outputs": [
    {
     "data": {
      "text/html": [
       "<div>\n",
       "<style scoped>\n",
       "    .dataframe tbody tr th:only-of-type {\n",
       "        vertical-align: middle;\n",
       "    }\n",
       "\n",
       "    .dataframe tbody tr th {\n",
       "        vertical-align: top;\n",
       "    }\n",
       "\n",
       "    .dataframe thead th {\n",
       "        text-align: right;\n",
       "    }\n",
       "</style>\n",
       "<table border=\"1\" class=\"dataframe\">\n",
       "  <thead>\n",
       "    <tr style=\"text-align: right;\">\n",
       "      <th></th>\n",
       "      <th>price</th>\n",
       "      <th>vehicletype</th>\n",
       "      <th>registration_year</th>\n",
       "      <th>gearbox</th>\n",
       "      <th>power</th>\n",
       "      <th>model</th>\n",
       "      <th>milage</th>\n",
       "      <th>registration_month</th>\n",
       "      <th>fueltype</th>\n",
       "      <th>brand</th>\n",
       "      <th>notrepaired</th>\n",
       "    </tr>\n",
       "  </thead>\n",
       "  <tbody>\n",
       "    <tr>\n",
       "      <th>7</th>\n",
       "      <td>0</td>\n",
       "      <td>sedan</td>\n",
       "      <td>1980</td>\n",
       "      <td>manual</td>\n",
       "      <td>50</td>\n",
       "      <td>other</td>\n",
       "      <td>40000</td>\n",
       "      <td>7</td>\n",
       "      <td>petrol</td>\n",
       "      <td>volkswagen</td>\n",
       "      <td>no</td>\n",
       "    </tr>\n",
       "    <tr>\n",
       "      <th>40</th>\n",
       "      <td>0</td>\n",
       "      <td>NaN</td>\n",
       "      <td>1990</td>\n",
       "      <td>NaN</td>\n",
       "      <td>0</td>\n",
       "      <td>corsa</td>\n",
       "      <td>150000</td>\n",
       "      <td>1</td>\n",
       "      <td>petrol</td>\n",
       "      <td>opel</td>\n",
       "      <td>no</td>\n",
       "    </tr>\n",
       "    <tr>\n",
       "      <th>111</th>\n",
       "      <td>0</td>\n",
       "      <td>NaN</td>\n",
       "      <td>2017</td>\n",
       "      <td>manual</td>\n",
       "      <td>0</td>\n",
       "      <td>golf</td>\n",
       "      <td>5000</td>\n",
       "      <td>12</td>\n",
       "      <td>petrol</td>\n",
       "      <td>volkswagen</td>\n",
       "      <td>no</td>\n",
       "    </tr>\n",
       "    <tr>\n",
       "      <th>115</th>\n",
       "      <td>0</td>\n",
       "      <td>small</td>\n",
       "      <td>1999</td>\n",
       "      <td>NaN</td>\n",
       "      <td>0</td>\n",
       "      <td>NaN</td>\n",
       "      <td>5000</td>\n",
       "      <td>0</td>\n",
       "      <td>petrol</td>\n",
       "      <td>volkswagen</td>\n",
       "      <td>no</td>\n",
       "    </tr>\n",
       "    <tr>\n",
       "      <th>152</th>\n",
       "      <td>0</td>\n",
       "      <td>bus</td>\n",
       "      <td>2004</td>\n",
       "      <td>manual</td>\n",
       "      <td>101</td>\n",
       "      <td>meriva</td>\n",
       "      <td>150000</td>\n",
       "      <td>10</td>\n",
       "      <td>lpg</td>\n",
       "      <td>opel</td>\n",
       "      <td>yes</td>\n",
       "    </tr>\n",
       "    <tr>\n",
       "      <th>...</th>\n",
       "      <td>...</td>\n",
       "      <td>...</td>\n",
       "      <td>...</td>\n",
       "      <td>...</td>\n",
       "      <td>...</td>\n",
       "      <td>...</td>\n",
       "      <td>...</td>\n",
       "      <td>...</td>\n",
       "      <td>...</td>\n",
       "      <td>...</td>\n",
       "      <td>...</td>\n",
       "    </tr>\n",
       "    <tr>\n",
       "      <th>354205</th>\n",
       "      <td>0</td>\n",
       "      <td>NaN</td>\n",
       "      <td>2000</td>\n",
       "      <td>manual</td>\n",
       "      <td>65</td>\n",
       "      <td>corsa</td>\n",
       "      <td>150000</td>\n",
       "      <td>0</td>\n",
       "      <td>NaN</td>\n",
       "      <td>opel</td>\n",
       "      <td>yes</td>\n",
       "    </tr>\n",
       "    <tr>\n",
       "      <th>354238</th>\n",
       "      <td>0</td>\n",
       "      <td>small</td>\n",
       "      <td>2002</td>\n",
       "      <td>manual</td>\n",
       "      <td>60</td>\n",
       "      <td>fiesta</td>\n",
       "      <td>150000</td>\n",
       "      <td>3</td>\n",
       "      <td>petrol</td>\n",
       "      <td>ford</td>\n",
       "      <td>no</td>\n",
       "    </tr>\n",
       "    <tr>\n",
       "      <th>354248</th>\n",
       "      <td>0</td>\n",
       "      <td>small</td>\n",
       "      <td>1999</td>\n",
       "      <td>manual</td>\n",
       "      <td>53</td>\n",
       "      <td>swift</td>\n",
       "      <td>150000</td>\n",
       "      <td>3</td>\n",
       "      <td>petrol</td>\n",
       "      <td>suzuki</td>\n",
       "      <td>no</td>\n",
       "    </tr>\n",
       "    <tr>\n",
       "      <th>354277</th>\n",
       "      <td>0</td>\n",
       "      <td>small</td>\n",
       "      <td>1999</td>\n",
       "      <td>manual</td>\n",
       "      <td>37</td>\n",
       "      <td>arosa</td>\n",
       "      <td>150000</td>\n",
       "      <td>7</td>\n",
       "      <td>petrol</td>\n",
       "      <td>seat</td>\n",
       "      <td>yes</td>\n",
       "    </tr>\n",
       "    <tr>\n",
       "      <th>354364</th>\n",
       "      <td>0</td>\n",
       "      <td>NaN</td>\n",
       "      <td>2005</td>\n",
       "      <td>manual</td>\n",
       "      <td>0</td>\n",
       "      <td>colt</td>\n",
       "      <td>150000</td>\n",
       "      <td>7</td>\n",
       "      <td>petrol</td>\n",
       "      <td>mitsubishi</td>\n",
       "      <td>yes</td>\n",
       "    </tr>\n",
       "  </tbody>\n",
       "</table>\n",
       "<p>10608 rows × 11 columns</p>\n",
       "</div>"
      ],
      "text/plain": [
       "        price vehicletype  registration_year gearbox  power   model  milage  \\\n",
       "7           0       sedan               1980  manual     50   other   40000   \n",
       "40          0         NaN               1990     NaN      0   corsa  150000   \n",
       "111         0         NaN               2017  manual      0    golf    5000   \n",
       "115         0       small               1999     NaN      0     NaN    5000   \n",
       "152         0         bus               2004  manual    101  meriva  150000   \n",
       "...       ...         ...                ...     ...    ...     ...     ...   \n",
       "354205      0         NaN               2000  manual     65   corsa  150000   \n",
       "354238      0       small               2002  manual     60  fiesta  150000   \n",
       "354248      0       small               1999  manual     53   swift  150000   \n",
       "354277      0       small               1999  manual     37   arosa  150000   \n",
       "354364      0         NaN               2005  manual      0    colt  150000   \n",
       "\n",
       "        registration_month fueltype       brand notrepaired  \n",
       "7                        7   petrol  volkswagen          no  \n",
       "40                       1   petrol        opel          no  \n",
       "111                     12   petrol  volkswagen          no  \n",
       "115                      0   petrol  volkswagen          no  \n",
       "152                     10      lpg        opel         yes  \n",
       "...                    ...      ...         ...         ...  \n",
       "354205                   0      NaN        opel         yes  \n",
       "354238                   3   petrol        ford          no  \n",
       "354248                   3   petrol      suzuki          no  \n",
       "354277                   7   petrol        seat         yes  \n",
       "354364                   7   petrol  mitsubishi         yes  \n",
       "\n",
       "[10608 rows x 11 columns]"
      ]
     },
     "execution_count": 22,
     "metadata": {},
     "output_type": "execute_result"
    }
   ],
   "source": [
    "data.isna().sum()\n",
    "data[data[\"price\"] == 0]"
   ]
  },
  {
   "cell_type": "markdown",
   "metadata": {},
   "source": [
    "* There are 10608 rows that have a price value of '0'. While the reasons may vary as to why the price of these cars are listed as 0 (i.e., repo, error, etc.), it would not be meaningful to use these rows for model training/analysis. "
   ]
  },
  {
   "cell_type": "code",
   "execution_count": 23,
   "metadata": {},
   "outputs": [],
   "source": [
    "data= data.loc[data[\"price\"] != 0]"
   ]
  },
  {
   "cell_type": "code",
   "execution_count": 24,
   "metadata": {},
   "outputs": [
    {
     "data": {
      "text/html": [
       "<div>\n",
       "<style scoped>\n",
       "    .dataframe tbody tr th:only-of-type {\n",
       "        vertical-align: middle;\n",
       "    }\n",
       "\n",
       "    .dataframe tbody tr th {\n",
       "        vertical-align: top;\n",
       "    }\n",
       "\n",
       "    .dataframe thead th {\n",
       "        text-align: right;\n",
       "    }\n",
       "</style>\n",
       "<table border=\"1\" class=\"dataframe\">\n",
       "  <thead>\n",
       "    <tr style=\"text-align: right;\">\n",
       "      <th></th>\n",
       "      <th>price</th>\n",
       "      <th>vehicletype</th>\n",
       "      <th>registration_year</th>\n",
       "      <th>gearbox</th>\n",
       "      <th>power</th>\n",
       "      <th>model</th>\n",
       "      <th>milage</th>\n",
       "      <th>registration_month</th>\n",
       "      <th>fueltype</th>\n",
       "      <th>brand</th>\n",
       "      <th>notrepaired</th>\n",
       "    </tr>\n",
       "  </thead>\n",
       "  <tbody>\n",
       "  </tbody>\n",
       "</table>\n",
       "</div>"
      ],
      "text/plain": [
       "Empty DataFrame\n",
       "Columns: [price, vehicletype, registration_year, gearbox, power, model, milage, registration_month, fueltype, brand, notrepaired]\n",
       "Index: []"
      ]
     },
     "execution_count": 24,
     "metadata": {},
     "output_type": "execute_result"
    }
   ],
   "source": [
    "data.loc[data[\"price\"] == 0]"
   ]
  },
  {
   "cell_type": "code",
   "execution_count": 25,
   "metadata": {},
   "outputs": [
    {
     "data": {
      "text/plain": [
       "0.050434853643522126"
      ]
     },
     "execution_count": 25,
     "metadata": {},
     "output_type": "execute_result"
    }
   ],
   "source": [
    "data['model'].isna().sum() / len(data)\n"
   ]
  },
  {
   "cell_type": "code",
   "execution_count": 26,
   "metadata": {},
   "outputs": [
    {
     "data": {
      "text/plain": [
       "250"
      ]
     },
     "execution_count": 26,
     "metadata": {},
     "output_type": "execute_result"
    }
   ],
   "source": [
    "data['model'].nunique()"
   ]
  },
  {
   "cell_type": "markdown",
   "metadata": {},
   "source": [
    "Since there are hundreds of different unique values for [model] and only 5% of this column is missing data, I will drop these missing values. (Guessing the model type of each type would not be helpful here)"
   ]
  },
  {
   "cell_type": "code",
   "execution_count": 27,
   "metadata": {},
   "outputs": [
    {
     "data": {
      "text/plain": [
       "0"
      ]
     },
     "execution_count": 27,
     "metadata": {},
     "output_type": "execute_result"
    }
   ],
   "source": [
    "data.dropna(subset=['model'], inplace=True)\n",
    "data[\"model\"].isna().sum()"
   ]
  },
  {
   "cell_type": "code",
   "execution_count": 28,
   "metadata": {},
   "outputs": [
    {
     "data": {
      "text/plain": [
       "price                     0\n",
       "vehicletype           28002\n",
       "registration_year         0\n",
       "gearbox               14122\n",
       "power                     0\n",
       "model                     0\n",
       "milage                    0\n",
       "registration_month        0\n",
       "fueltype              23407\n",
       "brand                     0\n",
       "notrepaired               0\n",
       "dtype: int64"
      ]
     },
     "execution_count": 28,
     "metadata": {},
     "output_type": "execute_result"
    }
   ],
   "source": [
    "data.isna().sum()"
   ]
  },
  {
   "cell_type": "code",
   "execution_count": 29,
   "metadata": {},
   "outputs": [
    {
     "data": {
      "text/plain": [
       "price                 0.000000\n",
       "vehicletype           8.603505\n",
       "registration_year     0.000000\n",
       "gearbox               4.338929\n",
       "power                 0.000000\n",
       "model                 0.000000\n",
       "milage                0.000000\n",
       "registration_month    0.000000\n",
       "fueltype              7.191709\n",
       "brand                 0.000000\n",
       "notrepaired           0.000000\n",
       "dtype: float64"
      ]
     },
     "execution_count": 29,
     "metadata": {},
     "output_type": "execute_result"
    }
   ],
   "source": [
    "data.isnull().sum() * 100 / len(data)"
   ]
  },
  {
   "cell_type": "code",
   "execution_count": 30,
   "metadata": {},
   "outputs": [
    {
     "data": {
      "text/plain": [
       "manual    249596\n",
       "auto       61754\n",
       "NaN        14122\n",
       "Name: gearbox, dtype: int64"
      ]
     },
     "execution_count": 30,
     "metadata": {},
     "output_type": "execute_result"
    }
   ],
   "source": [
    "data['gearbox'].value_counts(dropna=False)"
   ]
  },
  {
   "cell_type": "code",
   "execution_count": 31,
   "metadata": {},
   "outputs": [
    {
     "data": {
      "text/plain": [
       "sedan          86207\n",
       "small          74807\n",
       "wagon          61646\n",
       "NaN            28002\n",
       "bus            27400\n",
       "convertible    18998\n",
       "coupe          14744\n",
       "suv            11039\n",
       "other           2629\n",
       "Name: vehicletype, dtype: int64"
      ]
     },
     "execution_count": 31,
     "metadata": {},
     "output_type": "execute_result"
    }
   ],
   "source": [
    "data['vehicletype'].value_counts(dropna=False)"
   ]
  },
  {
   "cell_type": "code",
   "execution_count": 32,
   "metadata": {},
   "outputs": [
    {
     "data": {
      "text/plain": [
       "petrol      201885\n",
       "gasoline     94419\n",
       "NaN          23407\n",
       "lpg           4842\n",
       "cng            532\n",
       "hybrid         204\n",
       "other          118\n",
       "electric        65\n",
       "Name: fueltype, dtype: int64"
      ]
     },
     "execution_count": 32,
     "metadata": {},
     "output_type": "execute_result"
    }
   ],
   "source": [
    "data[\"fueltype\"].value_counts(dropna=False)"
   ]
  },
  {
   "cell_type": "code",
   "execution_count": 33,
   "metadata": {},
   "outputs": [],
   "source": [
    "data['vehicletype'].fillna(data.groupby('model')['vehicletype'].\n",
    "                          transform(lambda x:x.value_counts().index[0]), inplace=True)\n"
   ]
  },
  {
   "cell_type": "markdown",
   "metadata": {},
   "source": [
    "The [vehicletype] column is missing 8.6% of data. I will fill missing values for vehicle type based on model since the model can "
   ]
  },
  {
   "cell_type": "code",
   "execution_count": 34,
   "metadata": {},
   "outputs": [
    {
     "data": {
      "text/plain": [
       "sedan          99170\n",
       "small          82913\n",
       "wagon          64670\n",
       "bus            30317\n",
       "convertible    19226\n",
       "coupe          15081\n",
       "suv            11464\n",
       "other           2631\n",
       "Name: vehicletype, dtype: int64"
      ]
     },
     "execution_count": 34,
     "metadata": {},
     "output_type": "execute_result"
    }
   ],
   "source": [
    "data['vehicletype'].value_counts(dropna=False)"
   ]
  },
  {
   "cell_type": "code",
   "execution_count": 35,
   "metadata": {},
   "outputs": [
    {
     "data": {
      "text/plain": [
       "price                     0\n",
       "vehicletype               0\n",
       "registration_year         0\n",
       "gearbox               14122\n",
       "power                     0\n",
       "model                     0\n",
       "milage                    0\n",
       "registration_month        0\n",
       "fueltype              23407\n",
       "brand                     0\n",
       "notrepaired               0\n",
       "dtype: int64"
      ]
     },
     "execution_count": 35,
     "metadata": {},
     "output_type": "execute_result"
    }
   ],
   "source": [
    "data.isna().sum()"
   ]
  },
  {
   "cell_type": "markdown",
   "metadata": {},
   "source": [
    "Since gearbox and fueltype is also related to car model, I will also fill in missing values for [gearbox] and [fueltype] based on model."
   ]
  },
  {
   "cell_type": "code",
   "execution_count": 36,
   "metadata": {},
   "outputs": [],
   "source": [
    "data['gearbox'].fillna(data.groupby('model')['gearbox'].\n",
    "                          transform(lambda x:x.value_counts().index[0]), inplace=True)\n"
   ]
  },
  {
   "cell_type": "code",
   "execution_count": 37,
   "metadata": {
    "scrolled": true
   },
   "outputs": [
    {
     "data": {
      "text/plain": [
       "price                     0\n",
       "vehicletype               0\n",
       "registration_year         0\n",
       "gearbox                   0\n",
       "power                     0\n",
       "model                     0\n",
       "milage                    0\n",
       "registration_month        0\n",
       "fueltype              23407\n",
       "brand                     0\n",
       "notrepaired               0\n",
       "dtype: int64"
      ]
     },
     "execution_count": 37,
     "metadata": {},
     "output_type": "execute_result"
    }
   ],
   "source": [
    "data.isna().sum()"
   ]
  },
  {
   "cell_type": "code",
   "execution_count": 38,
   "metadata": {
    "scrolled": true
   },
   "outputs": [
    {
     "data": {
      "text/plain": [
       "petrol      201885\n",
       "gasoline     94419\n",
       "NaN          23407\n",
       "lpg           4842\n",
       "cng            532\n",
       "hybrid         204\n",
       "other          118\n",
       "electric        65\n",
       "Name: fueltype, dtype: int64"
      ]
     },
     "execution_count": 38,
     "metadata": {},
     "output_type": "execute_result"
    }
   ],
   "source": [
    "data['fueltype'].value_counts(dropna=False)"
   ]
  },
  {
   "cell_type": "code",
   "execution_count": 39,
   "metadata": {},
   "outputs": [],
   "source": [
    "data['fueltype'].fillna(data.groupby('model')['fueltype'].\n",
    "                          transform(lambda x:x.value_counts().index[0]), inplace=True)\n"
   ]
  },
  {
   "cell_type": "code",
   "execution_count": 40,
   "metadata": {},
   "outputs": [
    {
     "data": {
      "text/plain": [
       "price                 0\n",
       "vehicletype           0\n",
       "registration_year     0\n",
       "gearbox               0\n",
       "power                 0\n",
       "model                 0\n",
       "milage                0\n",
       "registration_month    0\n",
       "fueltype              0\n",
       "brand                 0\n",
       "notrepaired           0\n",
       "dtype: int64"
      ]
     },
     "execution_count": 40,
     "metadata": {},
     "output_type": "execute_result"
    }
   ],
   "source": [
    "data.isna().sum()"
   ]
  },
  {
   "cell_type": "markdown",
   "metadata": {},
   "source": [
    "* There are no more missing values in the dataset. "
   ]
  },
  {
   "cell_type": "markdown",
   "metadata": {},
   "source": [
    "* Summary:\n",
    "    * We dropped several columns, 'date_crawled', 'date_created', 'last_seen', 'num_pictures', 'postal_code', that will not be useful for our analysis.\n",
    "    * We eliminated rows where the registration_year > 2016 (the year of the data) or < 1960 (unlikely).\n",
    "    * We eliminated rows where the price = 0.\n",
    "    * We eliminated the rows where a value for model was missing.\n",
    "    * We filled in missing rows in vehicle_type, gearbox, fuel_type, power based on model.\n",
    "    * We changed the zero values in registration_month to a randomly assigned # (1-12).\n",
    "    * We replaced the NaN values in not_repaired with 'no'.\n",
    "    * We verified that no missing values remain.\n",
    "    * We note our preparation eliminated almost 12% of the data, but feel confident in the deletion choices."
   ]
  },
  {
   "cell_type": "markdown",
   "metadata": {},
   "source": [
    "## Model training"
   ]
  },
  {
   "cell_type": "code",
   "execution_count": 41,
   "metadata": {},
   "outputs": [
    {
     "data": {
      "text/plain": [
       "0               sedan\n",
       "2                 suv\n",
       "3               small\n",
       "4               small\n",
       "5               sedan\n",
       "             ...     \n",
       "354362          sedan\n",
       "354363            bus\n",
       "354366    convertible\n",
       "354367            bus\n",
       "354368          wagon\n",
       "Name: vehicletype, Length: 325472, dtype: object"
      ]
     },
     "execution_count": 41,
     "metadata": {},
     "output_type": "execute_result"
    }
   ],
   "source": [
    "data['vehicletype']"
   ]
  },
  {
   "cell_type": "code",
   "execution_count": 42,
   "metadata": {},
   "outputs": [],
   "source": [
    "#change into categories for lightBGM and CatBoost\n",
    "list_cat = ['vehicletype', 'gearbox', 'model', 'fueltype', 'brand', 'notrepaired']\n",
    "for col in list_cat:\n",
    "    data[col] = data[col].astype('category')"
   ]
  },
  {
   "cell_type": "code",
   "execution_count": 43,
   "metadata": {},
   "outputs": [],
   "source": [
    "# define target and features\n",
    "target= data[\"price\"]\n",
    "features=data.drop(['price'], axis=1)"
   ]
  },
  {
   "cell_type": "code",
   "execution_count": 44,
   "metadata": {},
   "outputs": [],
   "source": [
    "#convert features to numeric \n",
    "feat_ohe=pd.get_dummies(features, drop_first=True)"
   ]
  },
  {
   "cell_type": "code",
   "execution_count": 45,
   "metadata": {},
   "outputs": [],
   "source": [
    "#split data for training with OHE\n",
    "features_train, features_valid, target_train, target_valid=train_test_split(feat_ohe, target, test_size=.4, random_state=12345)\n",
    "features_valid, features_test, target_valid, target_test=train_test_split(features_valid, target_valid, test_size=.5, shuffle=False)\n"
   ]
  },
  {
   "cell_type": "code",
   "execution_count": 46,
   "metadata": {},
   "outputs": [
    {
     "name": "stdout",
     "output_type": "stream",
     "text": [
      "Size of Features Train 0.5999993855078163\n",
      "Size of Target Train 0.5999993855078163\n",
      "Size of Features Valid 0.19999877101563268\n",
      "Size of Target Valid 0.19999877101563268\n",
      "Size of Features Test 0.20000184347655098\n",
      "Size of Target Test 0.20000184347655098\n"
     ]
    }
   ],
   "source": [
    "print('Size of Features Train', len(features_train)/len(data))\n",
    "print('Size of Target Train', len(target_train)/len(data)) \n",
    "print('Size of Features Valid', len(features_valid)/len(data))\n",
    "print('Size of Target Valid', len(target_valid)/len(data))\n",
    "print('Size of Features Test', len(features_test)/ len(data))\n",
    "print('Size of Target Test', len(target_test)/len(data))"
   ]
  },
  {
   "cell_type": "code",
   "execution_count": 47,
   "metadata": {},
   "outputs": [],
   "source": [
    "#split data for training without OHE\n",
    "features_train1, features_valid1, target_train1, target_valid1=train_test_split(features, target, test_size=.4, random_state=12345)\n",
    "features_valid1, features_test1, target_valid1, target_test1 = train_test_split(\n",
    "    features_valid1, target_valid1, test_size=0.5, shuffle = False)"
   ]
  },
  {
   "cell_type": "code",
   "execution_count": 48,
   "metadata": {},
   "outputs": [
    {
     "name": "stdout",
     "output_type": "stream",
     "text": [
      "Size of Features Train 0.5999993855078163\n",
      "Size of Target Train 0.5999993855078163\n",
      "Size of Features Valid 0.19999877101563268\n",
      "Size of Target Valid 0.19999877101563268\n",
      "Size of Features Test 0.20000184347655098\n",
      "Size of Target Test 0.20000184347655098\n"
     ]
    }
   ],
   "source": [
    "print('Size of Features Train', len(features_train1)/len(data))\n",
    "print('Size of Target Train', len(target_train1)/len(data)) \n",
    "print('Size of Features Valid', len(features_valid1)/len(data))\n",
    "print('Size of Target Valid', len(target_valid1)/len(data))\n",
    "print('Size of Features Test', len(features_test1)/ len(data))\n",
    "print('Size of Target Test', len(target_test1)/len(data))"
   ]
  },
  {
   "cell_type": "code",
   "execution_count": 49,
   "metadata": {},
   "outputs": [],
   "source": [
    "def find_rmse(target_test, predictions):\n",
    "    return round(mean_squared_error(target_test, predictions) ** 0.5, 2)\n",
    "rmse = make_scorer(find_rmse, greater_is_better=False)"
   ]
  },
  {
   "cell_type": "code",
   "execution_count": 50,
   "metadata": {
    "scrolled": true
   },
   "outputs": [
    {
     "name": "stdout",
     "output_type": "stream",
     "text": [
      "Linear Regression - Sanity Check\n",
      "RMSE: 2895.0483751307856 Training time: 21.69653344154358 Prediction time: 0.3407108783721924\n",
      "CPU times: user 13 s, sys: 9 s, total: 22 s\n",
      "Wall time: 22.1 s\n"
     ]
    }
   ],
   "source": [
    "%%time\n",
    "# linear regression with default parameters\n",
    "lr_model = LinearRegression()\n",
    "\n",
    "start = time.time()\n",
    "lr_model.fit(features_train, target_train)\n",
    "end = time.time()\n",
    "lrtt = end - start\n",
    "\n",
    "start = time.time()\n",
    "predicted_valid = lr_model.predict(features_valid)\n",
    "end = time.time()\n",
    "lrpt = end - start\n",
    "\n",
    "lr_rmse_calc = mean_squared_error(target_valid, predicted_valid)**0.5\n",
    "\n",
    "print('Linear Regression - Sanity Check')\n",
    "print('RMSE:', lr_rmse_calc, 'Training time:', lrtt, 'Prediction time:', lrpt)"
   ]
  },
  {
   "cell_type": "markdown",
   "metadata": {},
   "source": [
    "* When it comes to timing the cells, \"%%time\" tells us the total cell time. However, to find the time for training and prediction, we just found those by subtracting the start and end times of each respective variable. "
   ]
  },
  {
   "cell_type": "code",
   "execution_count": 51,
   "metadata": {},
   "outputs": [
    {
     "name": "stdout",
     "output_type": "stream",
     "text": [
      "Random Forest Regressor\n",
      "RMSE: 1637.1681637261606 Training time: 446.7893626689911 Prediction time: 4.471585512161255\n",
      "CPU times: user 7min 28s, sys: 2.2 s, total: 7min 30s\n",
      "Wall time: 7min 31s\n"
     ]
    }
   ],
   "source": [
    "%%time\n",
    "# random forest regressor with default parameters\n",
    "rf_model = RandomForestRegressor(random_state=42)\n",
    "\n",
    "start = time.time()\n",
    "rf_model.fit(features_train, target_train)\n",
    "end = time.time()\n",
    "rftt = end - start\n",
    "\n",
    "start = time.time()\n",
    "predicted_valid = rf_model.predict(features_valid)\n",
    "end = time.time()\n",
    "rfpt = end - start\n",
    "\n",
    "rf_rmse_calc = mean_squared_error(target_valid, predicted_valid)**0.5\n",
    "\n",
    "print('Random Forest Regressor')\n",
    "print('RMSE:', rf_rmse_calc, 'Training time:', rftt, 'Prediction time:', rfpt)"
   ]
  },
  {
   "cell_type": "code",
   "execution_count": 52,
   "metadata": {},
   "outputs": [
    {
     "name": "stdout",
     "output_type": "stream",
     "text": [
      "LightGBM with OHE\n",
      "RMSE: 1726.6530504000457 Training time: 322.7245354652405 Prediction time: 0.7187302112579346\n",
      "CPU times: user 5min 15s, sys: 5.82 s, total: 5min 20s\n",
      "Wall time: 5min 23s\n"
     ]
    }
   ],
   "source": [
    "%%time\n",
    "# lightGBM with OHE \n",
    "lg_model = lgb.LGBMRegressor(random_state=42)\n",
    "\n",
    "start = time.time()\n",
    "lg_model.fit(features_train, target_train)\n",
    "end = time.time()\n",
    "lgohett = end - start\n",
    "\n",
    "start = time.time()\n",
    "predicted_valid = lg_model.predict(features_valid)\n",
    "end = time.time()\n",
    "lgohept = end - start\n",
    "\n",
    "lgohe_rmse_calc = mean_squared_error(target_valid, predicted_valid)**0.5\n",
    "\n",
    "print('LightGBM with OHE')\n",
    "print('RMSE:', lgohe_rmse_calc, 'Training time:', lgohett, 'Prediction time:', lgohept)"
   ]
  },
  {
   "cell_type": "code",
   "execution_count": 53,
   "metadata": {},
   "outputs": [
    {
     "name": "stderr",
     "output_type": "stream",
     "text": [
      "/opt/conda/lib/python3.9/site-packages/lightgbm/basic.py:2065: UserWarning: Using categorical_feature in Dataset.\n",
      "  _log_warning('Using categorical_feature in Dataset.')\n"
     ]
    },
    {
     "name": "stdout",
     "output_type": "stream",
     "text": [
      "LightGBM without OHE\n",
      "RMSE: 1661.1798804914488 Training time: 304.41242814064026 Prediction time: 0.6013398170471191\n",
      "CPU times: user 4min 57s, sys: 4.99 s, total: 5min 2s\n",
      "Wall time: 5min 5s\n"
     ]
    }
   ],
   "source": [
    "%%time\n",
    "# lightGBM without OHE \n",
    "lg_model_2 = lgb.LGBMRegressor(random_state=42)\n",
    "\n",
    "start = time.time()\n",
    "lg_model_2.fit(features_train1, target_train1, categorical_feature=list_cat)\n",
    "end = time.time()\n",
    "lgtt = end - start\n",
    "\n",
    "start = time.time()\n",
    "predicted_valid = lg_model_2.predict(features_valid1)\n",
    "end = time.time()\n",
    "lgpt = end - start\n",
    "\n",
    "lg_rmse_calc = mean_squared_error(target_valid1, predicted_valid)**0.5\n",
    "\n",
    "print('LightGBM without OHE')\n",
    "print('RMSE:', lg_rmse_calc, 'Training time:', lgtt, 'Prediction time:', lgpt)"
   ]
  },
  {
   "cell_type": "code",
   "execution_count": 54,
   "metadata": {},
   "outputs": [
    {
     "name": "stdout",
     "output_type": "stream",
     "text": [
      "Learning rate set to 0.094212\n",
      "0:\tlearn: 4254.1960856\ttotal: 99.7ms\tremaining: 1m 39s\n",
      "1:\tlearn: 4017.7986012\ttotal: 145ms\tremaining: 1m 12s\n",
      "2:\tlearn: 3808.3650311\ttotal: 186ms\tremaining: 1m 1s\n",
      "3:\tlearn: 3623.3637312\ttotal: 229ms\tremaining: 57.1s\n",
      "4:\tlearn: 3464.5604542\ttotal: 275ms\tremaining: 54.7s\n",
      "5:\tlearn: 3309.7265803\ttotal: 320ms\tremaining: 53s\n",
      "6:\tlearn: 3172.7539333\ttotal: 364ms\tremaining: 51.7s\n",
      "7:\tlearn: 3053.0986452\ttotal: 412ms\tremaining: 51.1s\n",
      "8:\tlearn: 2945.4418364\ttotal: 455ms\tremaining: 50s\n",
      "9:\tlearn: 2858.1406499\ttotal: 498ms\tremaining: 49.3s\n",
      "10:\tlearn: 2780.3721119\ttotal: 541ms\tremaining: 48.6s\n",
      "11:\tlearn: 2705.1779340\ttotal: 583ms\tremaining: 48s\n",
      "12:\tlearn: 2638.5194748\ttotal: 627ms\tremaining: 47.6s\n",
      "13:\tlearn: 2582.7812396\ttotal: 671ms\tremaining: 47.2s\n",
      "14:\tlearn: 2536.6122981\ttotal: 708ms\tremaining: 46.5s\n",
      "15:\tlearn: 2494.4995530\ttotal: 745ms\tremaining: 45.8s\n",
      "16:\tlearn: 2450.1961232\ttotal: 782ms\tremaining: 45.2s\n",
      "17:\tlearn: 2416.5854836\ttotal: 820ms\tremaining: 44.7s\n",
      "18:\tlearn: 2380.2352297\ttotal: 856ms\tremaining: 44.2s\n",
      "19:\tlearn: 2348.7567169\ttotal: 889ms\tremaining: 43.6s\n",
      "20:\tlearn: 2322.2885491\ttotal: 936ms\tremaining: 43.6s\n",
      "21:\tlearn: 2298.9404109\ttotal: 976ms\tremaining: 43.4s\n",
      "22:\tlearn: 2274.2920938\ttotal: 1.02s\tremaining: 43.2s\n",
      "23:\tlearn: 2248.4538367\ttotal: 1.06s\tremaining: 43s\n",
      "24:\tlearn: 2230.4711388\ttotal: 1.1s\tremaining: 42.8s\n",
      "25:\tlearn: 2209.7127918\ttotal: 1.14s\tremaining: 42.7s\n",
      "26:\tlearn: 2192.4174396\ttotal: 1.18s\tremaining: 42.5s\n",
      "27:\tlearn: 2176.3531125\ttotal: 1.22s\tremaining: 42.3s\n",
      "28:\tlearn: 2162.6669759\ttotal: 1.26s\tremaining: 42.1s\n",
      "29:\tlearn: 2146.2374433\ttotal: 1.3s\tremaining: 42s\n",
      "30:\tlearn: 2135.3992979\ttotal: 1.32s\tremaining: 41.4s\n",
      "31:\tlearn: 2121.5644569\ttotal: 1.35s\tremaining: 40.9s\n",
      "32:\tlearn: 2110.0038466\ttotal: 1.38s\tremaining: 40.5s\n",
      "33:\tlearn: 2100.6239288\ttotal: 1.41s\tremaining: 40s\n",
      "34:\tlearn: 2091.4566772\ttotal: 1.43s\tremaining: 39.6s\n",
      "35:\tlearn: 2082.7730876\ttotal: 1.46s\tremaining: 39.1s\n",
      "36:\tlearn: 2074.7555638\ttotal: 1.49s\tremaining: 38.7s\n",
      "37:\tlearn: 2066.2407726\ttotal: 1.51s\tremaining: 38.3s\n",
      "38:\tlearn: 2059.1404217\ttotal: 1.54s\tremaining: 37.9s\n",
      "39:\tlearn: 2051.3473652\ttotal: 1.56s\tremaining: 37.6s\n",
      "40:\tlearn: 2044.8411595\ttotal: 1.59s\tremaining: 37.2s\n",
      "41:\tlearn: 2038.3264007\ttotal: 1.62s\tremaining: 36.9s\n",
      "42:\tlearn: 2031.4330732\ttotal: 1.64s\tremaining: 36.6s\n",
      "43:\tlearn: 2026.5264047\ttotal: 1.68s\tremaining: 36.4s\n",
      "44:\tlearn: 2020.3341116\ttotal: 1.71s\tremaining: 36.2s\n",
      "45:\tlearn: 2015.9624880\ttotal: 1.73s\tremaining: 35.9s\n",
      "46:\tlearn: 2011.3439640\ttotal: 1.75s\tremaining: 35.6s\n",
      "47:\tlearn: 2005.0357121\ttotal: 1.78s\tremaining: 35.4s\n",
      "48:\tlearn: 1999.7156307\ttotal: 1.81s\tremaining: 35.2s\n",
      "49:\tlearn: 1996.1194245\ttotal: 1.84s\tremaining: 35s\n",
      "50:\tlearn: 1991.3740489\ttotal: 1.88s\tremaining: 34.9s\n",
      "51:\tlearn: 1985.7182435\ttotal: 1.93s\tremaining: 35.1s\n",
      "52:\tlearn: 1979.3413450\ttotal: 1.96s\tremaining: 35s\n",
      "53:\tlearn: 1974.5729683\ttotal: 1.99s\tremaining: 34.8s\n",
      "54:\tlearn: 1970.1729149\ttotal: 2.01s\tremaining: 34.6s\n",
      "55:\tlearn: 1963.8523435\ttotal: 2.04s\tremaining: 34.4s\n",
      "56:\tlearn: 1960.9780750\ttotal: 2.06s\tremaining: 34.2s\n",
      "57:\tlearn: 1957.3006688\ttotal: 2.09s\tremaining: 33.9s\n",
      "58:\tlearn: 1953.0148637\ttotal: 2.12s\tremaining: 33.8s\n",
      "59:\tlearn: 1950.0515508\ttotal: 2.14s\tremaining: 33.6s\n",
      "60:\tlearn: 1946.9523378\ttotal: 2.17s\tremaining: 33.4s\n",
      "61:\tlearn: 1942.7362083\ttotal: 2.19s\tremaining: 33.2s\n",
      "62:\tlearn: 1940.3577558\ttotal: 2.22s\tremaining: 33s\n",
      "63:\tlearn: 1937.6425427\ttotal: 2.24s\tremaining: 32.8s\n",
      "64:\tlearn: 1934.8992782\ttotal: 2.27s\tremaining: 32.7s\n",
      "65:\tlearn: 1931.4035175\ttotal: 2.3s\tremaining: 32.5s\n",
      "66:\tlearn: 1928.7583525\ttotal: 2.32s\tremaining: 32.3s\n",
      "67:\tlearn: 1924.1591442\ttotal: 2.35s\tremaining: 32.2s\n",
      "68:\tlearn: 1920.6398065\ttotal: 2.38s\tremaining: 32.1s\n",
      "69:\tlearn: 1918.1839745\ttotal: 2.41s\tremaining: 32s\n",
      "70:\tlearn: 1915.6891263\ttotal: 2.43s\tremaining: 31.8s\n",
      "71:\tlearn: 1914.0166533\ttotal: 2.46s\tremaining: 31.7s\n",
      "72:\tlearn: 1911.4624403\ttotal: 2.48s\tremaining: 31.5s\n",
      "73:\tlearn: 1909.4467008\ttotal: 2.51s\tremaining: 31.4s\n",
      "74:\tlearn: 1907.7344485\ttotal: 2.53s\tremaining: 31.2s\n",
      "75:\tlearn: 1905.8171854\ttotal: 2.56s\tremaining: 31.1s\n",
      "76:\tlearn: 1903.7088281\ttotal: 2.58s\tremaining: 31s\n",
      "77:\tlearn: 1901.8511158\ttotal: 2.61s\tremaining: 30.8s\n",
      "78:\tlearn: 1899.4736055\ttotal: 2.64s\tremaining: 30.8s\n",
      "79:\tlearn: 1896.8987874\ttotal: 2.67s\tremaining: 30.7s\n",
      "80:\tlearn: 1895.1425214\ttotal: 2.71s\tremaining: 30.8s\n",
      "81:\tlearn: 1893.4399174\ttotal: 2.74s\tremaining: 30.7s\n",
      "82:\tlearn: 1892.0228804\ttotal: 2.77s\tremaining: 30.6s\n",
      "83:\tlearn: 1890.0083648\ttotal: 2.8s\tremaining: 30.5s\n",
      "84:\tlearn: 1887.5912605\ttotal: 2.82s\tremaining: 30.4s\n",
      "85:\tlearn: 1886.4573226\ttotal: 2.85s\tremaining: 30.3s\n",
      "86:\tlearn: 1884.3559434\ttotal: 2.88s\tremaining: 30.2s\n",
      "87:\tlearn: 1882.4136817\ttotal: 2.91s\tremaining: 30.2s\n",
      "88:\tlearn: 1880.1060900\ttotal: 2.94s\tremaining: 30.1s\n",
      "89:\tlearn: 1879.0453462\ttotal: 2.98s\tremaining: 30.1s\n",
      "90:\tlearn: 1877.3219189\ttotal: 3s\tremaining: 30s\n",
      "91:\tlearn: 1875.4212293\ttotal: 3.03s\tremaining: 29.9s\n",
      "92:\tlearn: 1873.9719185\ttotal: 3.08s\tremaining: 30.1s\n",
      "93:\tlearn: 1872.6195948\ttotal: 3.12s\tremaining: 30.1s\n",
      "94:\tlearn: 1870.4420389\ttotal: 3.16s\tremaining: 30.1s\n",
      "95:\tlearn: 1869.1503064\ttotal: 3.2s\tremaining: 30.2s\n",
      "96:\tlearn: 1867.7691388\ttotal: 3.24s\tremaining: 30.2s\n",
      "97:\tlearn: 1866.1169626\ttotal: 3.28s\tremaining: 30.2s\n",
      "98:\tlearn: 1864.4772888\ttotal: 3.33s\tremaining: 30.3s\n",
      "99:\tlearn: 1863.0005309\ttotal: 3.37s\tremaining: 30.3s\n",
      "100:\tlearn: 1862.1831055\ttotal: 3.41s\tremaining: 30.4s\n",
      "101:\tlearn: 1860.3043136\ttotal: 3.46s\tremaining: 30.5s\n",
      "102:\tlearn: 1858.4631574\ttotal: 3.5s\tremaining: 30.5s\n",
      "103:\tlearn: 1857.4311151\ttotal: 3.54s\tremaining: 30.5s\n",
      "104:\tlearn: 1855.9108543\ttotal: 3.57s\tremaining: 30.5s\n",
      "105:\tlearn: 1854.5326150\ttotal: 3.61s\tremaining: 30.4s\n",
      "106:\tlearn: 1853.5073974\ttotal: 3.64s\tremaining: 30.4s\n",
      "107:\tlearn: 1851.4398383\ttotal: 3.67s\tremaining: 30.3s\n",
      "108:\tlearn: 1850.4744819\ttotal: 3.71s\tremaining: 30.3s\n",
      "109:\tlearn: 1849.3267837\ttotal: 3.74s\tremaining: 30.3s\n",
      "110:\tlearn: 1848.2349546\ttotal: 3.78s\tremaining: 30.3s\n",
      "111:\tlearn: 1846.7321930\ttotal: 3.81s\tremaining: 30.2s\n",
      "112:\tlearn: 1844.2115200\ttotal: 3.85s\tremaining: 30.2s\n",
      "113:\tlearn: 1842.5887471\ttotal: 3.88s\tremaining: 30.2s\n",
      "114:\tlearn: 1841.5371177\ttotal: 3.92s\tremaining: 30.2s\n",
      "115:\tlearn: 1840.2820649\ttotal: 3.95s\tremaining: 30.1s\n",
      "116:\tlearn: 1839.4036496\ttotal: 3.98s\tremaining: 30s\n",
      "117:\tlearn: 1838.1617321\ttotal: 4s\tremaining: 29.9s\n",
      "118:\tlearn: 1836.0328781\ttotal: 4.04s\tremaining: 29.9s\n",
      "119:\tlearn: 1834.9831406\ttotal: 4.06s\tremaining: 29.8s\n",
      "120:\tlearn: 1833.6279799\ttotal: 4.09s\tremaining: 29.7s\n",
      "121:\tlearn: 1832.9634462\ttotal: 4.12s\tremaining: 29.6s\n",
      "122:\tlearn: 1832.1561847\ttotal: 4.14s\tremaining: 29.5s\n",
      "123:\tlearn: 1831.3441299\ttotal: 4.17s\tremaining: 29.4s\n",
      "124:\tlearn: 1829.8590208\ttotal: 4.2s\tremaining: 29.4s\n",
      "125:\tlearn: 1828.8629187\ttotal: 4.22s\tremaining: 29.3s\n",
      "126:\tlearn: 1827.8746996\ttotal: 4.25s\tremaining: 29.2s\n",
      "127:\tlearn: 1826.9227775\ttotal: 4.27s\tremaining: 29.1s\n",
      "128:\tlearn: 1825.6197900\ttotal: 4.3s\tremaining: 29s\n",
      "129:\tlearn: 1824.6663573\ttotal: 4.32s\tremaining: 28.9s\n",
      "130:\tlearn: 1823.7142176\ttotal: 4.35s\tremaining: 28.9s\n",
      "131:\tlearn: 1822.9705611\ttotal: 4.39s\tremaining: 28.9s\n",
      "132:\tlearn: 1821.9910281\ttotal: 4.42s\tremaining: 28.8s\n",
      "133:\tlearn: 1820.2808510\ttotal: 4.45s\tremaining: 28.7s\n",
      "134:\tlearn: 1819.1429435\ttotal: 4.47s\tremaining: 28.7s\n",
      "135:\tlearn: 1817.5601158\ttotal: 4.5s\tremaining: 28.6s\n",
      "136:\tlearn: 1816.7923029\ttotal: 4.53s\tremaining: 28.5s\n",
      "137:\tlearn: 1815.8950710\ttotal: 4.55s\tremaining: 28.4s\n",
      "138:\tlearn: 1815.0921162\ttotal: 4.58s\tremaining: 28.4s\n",
      "139:\tlearn: 1814.3885253\ttotal: 4.62s\tremaining: 28.4s\n",
      "140:\tlearn: 1813.5440508\ttotal: 4.65s\tremaining: 28.3s\n",
      "141:\tlearn: 1812.5692064\ttotal: 4.68s\tremaining: 28.3s\n",
      "142:\tlearn: 1811.5781012\ttotal: 4.71s\tremaining: 28.3s\n",
      "143:\tlearn: 1810.1990875\ttotal: 4.75s\tremaining: 28.2s\n",
      "144:\tlearn: 1809.3284260\ttotal: 4.78s\tremaining: 28.2s\n",
      "145:\tlearn: 1808.0333427\ttotal: 4.8s\tremaining: 28.1s\n",
      "146:\tlearn: 1807.1623271\ttotal: 4.83s\tremaining: 28s\n",
      "147:\tlearn: 1806.1289948\ttotal: 4.86s\tremaining: 28s\n",
      "148:\tlearn: 1805.3253587\ttotal: 4.89s\tremaining: 27.9s\n",
      "149:\tlearn: 1804.3843034\ttotal: 4.92s\tremaining: 27.9s\n",
      "150:\tlearn: 1803.5485240\ttotal: 4.94s\tremaining: 27.8s\n",
      "151:\tlearn: 1802.4769094\ttotal: 4.97s\tremaining: 27.7s\n",
      "152:\tlearn: 1801.5563782\ttotal: 4.99s\tremaining: 27.6s\n",
      "153:\tlearn: 1800.8399864\ttotal: 5.02s\tremaining: 27.6s\n",
      "154:\tlearn: 1800.2677454\ttotal: 5.05s\tremaining: 27.5s\n",
      "155:\tlearn: 1799.6557829\ttotal: 5.07s\tremaining: 27.5s\n",
      "156:\tlearn: 1798.6001226\ttotal: 5.1s\tremaining: 27.4s\n",
      "157:\tlearn: 1797.8089076\ttotal: 5.13s\tremaining: 27.3s\n",
      "158:\tlearn: 1797.1360434\ttotal: 5.15s\tremaining: 27.3s\n",
      "159:\tlearn: 1795.8661144\ttotal: 5.18s\tremaining: 27.2s\n",
      "160:\tlearn: 1794.9723985\ttotal: 5.21s\tremaining: 27.1s\n",
      "161:\tlearn: 1794.3155877\ttotal: 5.23s\tremaining: 27.1s\n",
      "162:\tlearn: 1793.6736398\ttotal: 5.26s\tremaining: 27s\n",
      "163:\tlearn: 1792.7400825\ttotal: 5.3s\tremaining: 27s\n",
      "164:\tlearn: 1792.1172673\ttotal: 5.32s\tremaining: 26.9s\n",
      "165:\tlearn: 1790.7947050\ttotal: 5.35s\tremaining: 26.9s\n",
      "166:\tlearn: 1789.7295390\ttotal: 5.38s\tremaining: 26.8s\n",
      "167:\tlearn: 1788.4567614\ttotal: 5.4s\tremaining: 26.8s\n",
      "168:\tlearn: 1787.3491899\ttotal: 5.43s\tremaining: 26.7s\n",
      "169:\tlearn: 1786.5579033\ttotal: 5.45s\tremaining: 26.6s\n",
      "170:\tlearn: 1785.7031906\ttotal: 5.48s\tremaining: 26.6s\n",
      "171:\tlearn: 1784.7546361\ttotal: 5.5s\tremaining: 26.5s\n",
      "172:\tlearn: 1783.9594331\ttotal: 5.53s\tremaining: 26.4s\n",
      "173:\tlearn: 1783.0194557\ttotal: 5.56s\tremaining: 26.4s\n",
      "174:\tlearn: 1782.1506515\ttotal: 5.58s\tremaining: 26.3s\n",
      "175:\tlearn: 1781.0482905\ttotal: 5.61s\tremaining: 26.2s\n",
      "176:\tlearn: 1780.5140786\ttotal: 5.63s\tremaining: 26.2s\n",
      "177:\tlearn: 1780.0463113\ttotal: 5.65s\tremaining: 26.1s\n",
      "178:\tlearn: 1779.2460528\ttotal: 5.68s\tremaining: 26.1s\n",
      "179:\tlearn: 1778.6792254\ttotal: 5.71s\tremaining: 26s\n",
      "180:\tlearn: 1777.5532864\ttotal: 5.74s\tremaining: 26s\n",
      "181:\tlearn: 1776.5462420\ttotal: 5.76s\tremaining: 25.9s\n",
      "182:\tlearn: 1775.8096291\ttotal: 5.79s\tremaining: 25.9s\n",
      "183:\tlearn: 1774.8808923\ttotal: 5.83s\tremaining: 25.9s\n",
      "184:\tlearn: 1774.1050334\ttotal: 5.87s\tremaining: 25.9s\n",
      "185:\tlearn: 1773.5552765\ttotal: 5.91s\tremaining: 25.8s\n",
      "186:\tlearn: 1771.8583426\ttotal: 5.94s\tremaining: 25.8s\n",
      "187:\tlearn: 1770.3402534\ttotal: 5.98s\tremaining: 25.8s\n",
      "188:\tlearn: 1769.6710336\ttotal: 6.02s\tremaining: 25.8s\n",
      "189:\tlearn: 1769.3109897\ttotal: 6.06s\tremaining: 25.8s\n",
      "190:\tlearn: 1768.6949311\ttotal: 6.09s\tremaining: 25.8s\n",
      "191:\tlearn: 1768.0201630\ttotal: 6.13s\tremaining: 25.8s\n",
      "192:\tlearn: 1767.2763872\ttotal: 6.17s\tremaining: 25.8s\n",
      "193:\tlearn: 1766.7854291\ttotal: 6.21s\tremaining: 25.8s\n",
      "194:\tlearn: 1765.4130636\ttotal: 6.25s\tremaining: 25.8s\n",
      "195:\tlearn: 1764.1403405\ttotal: 6.28s\tremaining: 25.8s\n",
      "196:\tlearn: 1763.6656747\ttotal: 6.32s\tremaining: 25.8s\n",
      "197:\tlearn: 1762.9593600\ttotal: 6.36s\tremaining: 25.8s\n",
      "198:\tlearn: 1762.0257574\ttotal: 6.4s\tremaining: 25.8s\n",
      "199:\tlearn: 1761.3928475\ttotal: 6.44s\tremaining: 25.8s\n",
      "200:\tlearn: 1760.4305253\ttotal: 6.49s\tremaining: 25.8s\n",
      "201:\tlearn: 1759.8270042\ttotal: 6.53s\tremaining: 25.8s\n",
      "202:\tlearn: 1759.3333157\ttotal: 6.56s\tremaining: 25.8s\n",
      "203:\tlearn: 1758.8273158\ttotal: 6.6s\tremaining: 25.8s\n",
      "204:\tlearn: 1758.1716551\ttotal: 6.64s\tremaining: 25.7s\n",
      "205:\tlearn: 1757.5467123\ttotal: 6.68s\tremaining: 25.7s\n",
      "206:\tlearn: 1756.8130006\ttotal: 6.72s\tremaining: 25.7s\n",
      "207:\tlearn: 1756.2733041\ttotal: 6.76s\tremaining: 25.7s\n",
      "208:\tlearn: 1755.8142036\ttotal: 6.78s\tremaining: 25.7s\n",
      "209:\tlearn: 1755.0234125\ttotal: 6.82s\tremaining: 25.7s\n",
      "210:\tlearn: 1754.2956777\ttotal: 6.86s\tremaining: 25.7s\n",
      "211:\tlearn: 1754.0285752\ttotal: 6.89s\tremaining: 25.6s\n",
      "212:\tlearn: 1753.4908269\ttotal: 6.92s\tremaining: 25.6s\n",
      "213:\tlearn: 1752.6884901\ttotal: 6.96s\tremaining: 25.6s\n",
      "214:\tlearn: 1752.2200704\ttotal: 6.99s\tremaining: 25.5s\n",
      "215:\tlearn: 1751.4747953\ttotal: 7.03s\tremaining: 25.5s\n",
      "216:\tlearn: 1750.7577848\ttotal: 7.06s\tremaining: 25.5s\n",
      "217:\tlearn: 1750.0480846\ttotal: 7.09s\tremaining: 25.4s\n",
      "218:\tlearn: 1749.2778035\ttotal: 7.15s\tremaining: 25.5s\n",
      "219:\tlearn: 1748.8180496\ttotal: 7.2s\tremaining: 25.5s\n",
      "220:\tlearn: 1748.5047855\ttotal: 7.23s\tremaining: 25.5s\n",
      "221:\tlearn: 1747.9580708\ttotal: 7.27s\tremaining: 25.5s\n",
      "222:\tlearn: 1747.2565784\ttotal: 7.3s\tremaining: 25.5s\n",
      "223:\tlearn: 1746.8071766\ttotal: 7.34s\tremaining: 25.4s\n",
      "224:\tlearn: 1746.2792647\ttotal: 7.38s\tremaining: 25.4s\n",
      "225:\tlearn: 1745.6194947\ttotal: 7.41s\tremaining: 25.4s\n",
      "226:\tlearn: 1745.0525687\ttotal: 7.45s\tremaining: 25.4s\n",
      "227:\tlearn: 1744.0482531\ttotal: 7.49s\tremaining: 25.4s\n",
      "228:\tlearn: 1743.4097850\ttotal: 7.52s\tremaining: 25.3s\n",
      "229:\tlearn: 1742.6952796\ttotal: 7.56s\tremaining: 25.3s\n",
      "230:\tlearn: 1742.1577656\ttotal: 7.6s\tremaining: 25.3s\n",
      "231:\tlearn: 1741.6505792\ttotal: 7.64s\tremaining: 25.3s\n",
      "232:\tlearn: 1741.0752224\ttotal: 7.68s\tremaining: 25.3s\n",
      "233:\tlearn: 1740.2423189\ttotal: 7.71s\tremaining: 25.3s\n",
      "234:\tlearn: 1739.7189517\ttotal: 7.75s\tremaining: 25.2s\n",
      "235:\tlearn: 1739.0716901\ttotal: 7.78s\tremaining: 25.2s\n",
      "236:\tlearn: 1738.5431010\ttotal: 7.82s\tremaining: 25.2s\n",
      "237:\tlearn: 1737.8088148\ttotal: 7.86s\tremaining: 25.2s\n",
      "238:\tlearn: 1737.0729132\ttotal: 7.91s\tremaining: 25.2s\n",
      "239:\tlearn: 1736.7134790\ttotal: 7.95s\tremaining: 25.2s\n",
      "240:\tlearn: 1736.2885508\ttotal: 7.99s\tremaining: 25.2s\n",
      "241:\tlearn: 1735.7313153\ttotal: 8.04s\tremaining: 25.2s\n",
      "242:\tlearn: 1735.1806364\ttotal: 8.08s\tremaining: 25.2s\n",
      "243:\tlearn: 1734.7873827\ttotal: 8.11s\tremaining: 25.1s\n",
      "244:\tlearn: 1734.4871625\ttotal: 8.15s\tremaining: 25.1s\n",
      "245:\tlearn: 1734.1925073\ttotal: 8.18s\tremaining: 25.1s\n",
      "246:\tlearn: 1733.7873193\ttotal: 8.21s\tremaining: 25s\n",
      "247:\tlearn: 1733.4499961\ttotal: 8.25s\tremaining: 25s\n",
      "248:\tlearn: 1733.0269320\ttotal: 8.28s\tremaining: 25s\n",
      "249:\tlearn: 1732.7898317\ttotal: 8.32s\tremaining: 24.9s\n",
      "250:\tlearn: 1732.2763249\ttotal: 8.35s\tremaining: 24.9s\n",
      "251:\tlearn: 1731.8706609\ttotal: 8.39s\tremaining: 24.9s\n",
      "252:\tlearn: 1731.2633239\ttotal: 8.42s\tremaining: 24.9s\n",
      "253:\tlearn: 1730.9147140\ttotal: 8.46s\tremaining: 24.8s\n",
      "254:\tlearn: 1730.4626936\ttotal: 8.49s\tremaining: 24.8s\n",
      "255:\tlearn: 1730.0394462\ttotal: 8.52s\tremaining: 24.8s\n",
      "256:\tlearn: 1729.4921116\ttotal: 8.56s\tremaining: 24.7s\n",
      "257:\tlearn: 1729.0623991\ttotal: 8.59s\tremaining: 24.7s\n",
      "258:\tlearn: 1728.7388369\ttotal: 8.63s\tremaining: 24.7s\n",
      "259:\tlearn: 1728.2692654\ttotal: 8.66s\tremaining: 24.7s\n",
      "260:\tlearn: 1727.7198694\ttotal: 8.7s\tremaining: 24.6s\n",
      "261:\tlearn: 1727.4171487\ttotal: 8.73s\tremaining: 24.6s\n",
      "262:\tlearn: 1726.6454324\ttotal: 8.77s\tremaining: 24.6s\n",
      "263:\tlearn: 1726.2388249\ttotal: 8.8s\tremaining: 24.5s\n",
      "264:\tlearn: 1725.7420908\ttotal: 8.84s\tremaining: 24.5s\n",
      "265:\tlearn: 1725.0988360\ttotal: 8.87s\tremaining: 24.5s\n",
      "266:\tlearn: 1724.7503883\ttotal: 8.91s\tremaining: 24.5s\n",
      "267:\tlearn: 1724.3719114\ttotal: 8.94s\tremaining: 24.4s\n",
      "268:\tlearn: 1724.0002423\ttotal: 8.98s\tremaining: 24.4s\n",
      "269:\tlearn: 1723.4441355\ttotal: 9.02s\tremaining: 24.4s\n",
      "270:\tlearn: 1723.0420205\ttotal: 9.05s\tremaining: 24.3s\n",
      "271:\tlearn: 1722.6822037\ttotal: 9.08s\tremaining: 24.3s\n",
      "272:\tlearn: 1722.2411858\ttotal: 9.12s\tremaining: 24.3s\n",
      "273:\tlearn: 1721.4465267\ttotal: 9.15s\tremaining: 24.3s\n",
      "274:\tlearn: 1721.1096530\ttotal: 9.19s\tremaining: 24.2s\n",
      "275:\tlearn: 1720.7525875\ttotal: 9.22s\tremaining: 24.2s\n",
      "276:\tlearn: 1720.5018910\ttotal: 9.25s\tremaining: 24.2s\n",
      "277:\tlearn: 1720.1216850\ttotal: 9.29s\tremaining: 24.1s\n",
      "278:\tlearn: 1719.6109430\ttotal: 9.32s\tremaining: 24.1s\n",
      "279:\tlearn: 1719.1756908\ttotal: 9.36s\tremaining: 24.1s\n",
      "280:\tlearn: 1718.5950127\ttotal: 9.4s\tremaining: 24s\n",
      "281:\tlearn: 1717.9865126\ttotal: 9.43s\tremaining: 24s\n",
      "282:\tlearn: 1717.6275515\ttotal: 9.47s\tremaining: 24s\n",
      "283:\tlearn: 1717.0503254\ttotal: 9.5s\tremaining: 24s\n",
      "284:\tlearn: 1716.5724594\ttotal: 9.54s\tremaining: 23.9s\n",
      "285:\tlearn: 1716.1802094\ttotal: 9.57s\tremaining: 23.9s\n",
      "286:\tlearn: 1715.6153216\ttotal: 9.61s\tremaining: 23.9s\n",
      "287:\tlearn: 1715.2284292\ttotal: 9.65s\tremaining: 23.9s\n",
      "288:\tlearn: 1714.8624791\ttotal: 9.69s\tremaining: 23.8s\n",
      "289:\tlearn: 1714.3941235\ttotal: 9.73s\tremaining: 23.8s\n",
      "290:\tlearn: 1713.9334011\ttotal: 9.77s\tremaining: 23.8s\n",
      "291:\tlearn: 1713.7212920\ttotal: 9.8s\tremaining: 23.8s\n",
      "292:\tlearn: 1713.2799276\ttotal: 9.84s\tremaining: 23.8s\n",
      "293:\tlearn: 1712.9263225\ttotal: 9.88s\tremaining: 23.7s\n",
      "294:\tlearn: 1712.6339110\ttotal: 9.92s\tremaining: 23.7s\n",
      "295:\tlearn: 1712.2369620\ttotal: 9.95s\tremaining: 23.7s\n",
      "296:\tlearn: 1711.7755089\ttotal: 9.99s\tremaining: 23.7s\n",
      "297:\tlearn: 1711.2786736\ttotal: 10s\tremaining: 23.6s\n",
      "298:\tlearn: 1710.9282929\ttotal: 10.1s\tremaining: 23.6s\n",
      "299:\tlearn: 1710.5914882\ttotal: 10.1s\tremaining: 23.6s\n",
      "300:\tlearn: 1710.2121768\ttotal: 10.2s\tremaining: 23.6s\n",
      "301:\tlearn: 1709.8538360\ttotal: 10.2s\tremaining: 23.5s\n",
      "302:\tlearn: 1709.3032746\ttotal: 10.2s\tremaining: 23.5s\n",
      "303:\tlearn: 1708.8043195\ttotal: 10.3s\tremaining: 23.5s\n",
      "304:\tlearn: 1708.4643252\ttotal: 10.3s\tremaining: 23.5s\n",
      "305:\tlearn: 1708.2529699\ttotal: 10.3s\tremaining: 23.4s\n",
      "306:\tlearn: 1707.8389753\ttotal: 10.4s\tremaining: 23.4s\n",
      "307:\tlearn: 1707.2984674\ttotal: 10.4s\tremaining: 23.4s\n",
      "308:\tlearn: 1706.7298297\ttotal: 10.4s\tremaining: 23.3s\n",
      "309:\tlearn: 1706.2676239\ttotal: 10.5s\tremaining: 23.3s\n",
      "310:\tlearn: 1705.9562797\ttotal: 10.5s\tremaining: 23.3s\n",
      "311:\tlearn: 1705.6087793\ttotal: 10.5s\tremaining: 23.2s\n",
      "312:\tlearn: 1705.1604099\ttotal: 10.6s\tremaining: 23.2s\n",
      "313:\tlearn: 1704.4423966\ttotal: 10.6s\tremaining: 23.2s\n",
      "314:\tlearn: 1704.1390734\ttotal: 10.7s\tremaining: 23.2s\n",
      "315:\tlearn: 1703.5876106\ttotal: 10.7s\tremaining: 23.1s\n",
      "316:\tlearn: 1703.4241433\ttotal: 10.7s\tremaining: 23.1s\n",
      "317:\tlearn: 1703.1422665\ttotal: 10.8s\tremaining: 23.1s\n",
      "318:\tlearn: 1702.6901042\ttotal: 10.8s\tremaining: 23.1s\n",
      "319:\tlearn: 1702.3165456\ttotal: 10.8s\tremaining: 23s\n",
      "320:\tlearn: 1701.7558872\ttotal: 10.9s\tremaining: 23s\n",
      "321:\tlearn: 1701.4250524\ttotal: 10.9s\tremaining: 23s\n",
      "322:\tlearn: 1701.1490747\ttotal: 10.9s\tremaining: 23s\n",
      "323:\tlearn: 1700.7173441\ttotal: 11s\tremaining: 22.9s\n",
      "324:\tlearn: 1700.4038487\ttotal: 11s\tremaining: 22.9s\n",
      "325:\tlearn: 1699.8184077\ttotal: 11.1s\tremaining: 22.9s\n",
      "326:\tlearn: 1699.5803963\ttotal: 11.1s\tremaining: 22.9s\n",
      "327:\tlearn: 1699.0881135\ttotal: 11.1s\tremaining: 22.8s\n",
      "328:\tlearn: 1698.7710295\ttotal: 11.2s\tremaining: 22.8s\n",
      "329:\tlearn: 1698.5027528\ttotal: 11.2s\tremaining: 22.8s\n",
      "330:\tlearn: 1698.0919879\ttotal: 11.2s\tremaining: 22.7s\n",
      "331:\tlearn: 1697.7162095\ttotal: 11.3s\tremaining: 22.7s\n",
      "332:\tlearn: 1697.4642423\ttotal: 11.3s\tremaining: 22.7s\n",
      "333:\tlearn: 1697.0536762\ttotal: 11.4s\tremaining: 22.6s\n",
      "334:\tlearn: 1696.6628565\ttotal: 11.4s\tremaining: 22.6s\n",
      "335:\tlearn: 1696.4815990\ttotal: 11.4s\tremaining: 22.6s\n",
      "336:\tlearn: 1695.8750086\ttotal: 11.5s\tremaining: 22.6s\n",
      "337:\tlearn: 1695.3621585\ttotal: 11.5s\tremaining: 22.6s\n",
      "338:\tlearn: 1694.8347698\ttotal: 11.6s\tremaining: 22.6s\n",
      "339:\tlearn: 1694.5456234\ttotal: 11.6s\tremaining: 22.5s\n",
      "340:\tlearn: 1694.2087110\ttotal: 11.6s\tremaining: 22.5s\n",
      "341:\tlearn: 1693.7035955\ttotal: 11.7s\tremaining: 22.5s\n",
      "342:\tlearn: 1693.5222380\ttotal: 11.7s\tremaining: 22.4s\n",
      "343:\tlearn: 1693.1225006\ttotal: 11.7s\tremaining: 22.4s\n",
      "344:\tlearn: 1692.8521902\ttotal: 11.8s\tremaining: 22.4s\n",
      "345:\tlearn: 1692.5983221\ttotal: 11.8s\tremaining: 22.3s\n",
      "346:\tlearn: 1692.2798917\ttotal: 11.8s\tremaining: 22.3s\n",
      "347:\tlearn: 1691.8321177\ttotal: 11.9s\tremaining: 22.3s\n",
      "348:\tlearn: 1691.4960438\ttotal: 11.9s\tremaining: 22.2s\n",
      "349:\tlearn: 1691.2162766\ttotal: 11.9s\tremaining: 22.2s\n",
      "350:\tlearn: 1690.8588400\ttotal: 12s\tremaining: 22.1s\n",
      "351:\tlearn: 1690.7071027\ttotal: 12s\tremaining: 22.1s\n",
      "352:\tlearn: 1690.3875513\ttotal: 12s\tremaining: 22.1s\n",
      "353:\tlearn: 1690.1015585\ttotal: 12.1s\tremaining: 22s\n",
      "354:\tlearn: 1689.6830747\ttotal: 12.1s\tremaining: 22s\n",
      "355:\tlearn: 1689.4024703\ttotal: 12.1s\tremaining: 22s\n",
      "356:\tlearn: 1689.0844745\ttotal: 12.2s\tremaining: 21.9s\n",
      "357:\tlearn: 1688.8510192\ttotal: 12.2s\tremaining: 21.9s\n",
      "358:\tlearn: 1688.5571990\ttotal: 12.2s\tremaining: 21.9s\n",
      "359:\tlearn: 1688.2634625\ttotal: 12.3s\tremaining: 21.8s\n",
      "360:\tlearn: 1687.9409922\ttotal: 12.3s\tremaining: 21.8s\n",
      "361:\tlearn: 1687.3754720\ttotal: 12.3s\tremaining: 21.7s\n",
      "362:\tlearn: 1687.0532000\ttotal: 12.4s\tremaining: 21.7s\n",
      "363:\tlearn: 1686.6437559\ttotal: 12.4s\tremaining: 21.6s\n",
      "364:\tlearn: 1686.3110787\ttotal: 12.4s\tremaining: 21.6s\n",
      "365:\tlearn: 1685.9253810\ttotal: 12.4s\tremaining: 21.5s\n",
      "366:\tlearn: 1685.7462347\ttotal: 12.5s\tremaining: 21.5s\n",
      "367:\tlearn: 1685.5425689\ttotal: 12.5s\tremaining: 21.4s\n",
      "368:\tlearn: 1685.2643891\ttotal: 12.5s\tremaining: 21.4s\n",
      "369:\tlearn: 1684.9919844\ttotal: 12.5s\tremaining: 21.3s\n",
      "370:\tlearn: 1684.7472505\ttotal: 12.6s\tremaining: 21.3s\n",
      "371:\tlearn: 1684.4984431\ttotal: 12.6s\tremaining: 21.3s\n",
      "372:\tlearn: 1684.1990814\ttotal: 12.6s\tremaining: 21.2s\n",
      "373:\tlearn: 1683.9517726\ttotal: 12.6s\tremaining: 21.2s\n",
      "374:\tlearn: 1683.6796133\ttotal: 12.7s\tremaining: 21.1s\n",
      "375:\tlearn: 1683.2926506\ttotal: 12.7s\tremaining: 21.1s\n",
      "376:\tlearn: 1682.9047995\ttotal: 12.7s\tremaining: 21s\n",
      "377:\tlearn: 1682.3783978\ttotal: 12.8s\tremaining: 21s\n",
      "378:\tlearn: 1681.9366802\ttotal: 12.8s\tremaining: 21s\n",
      "379:\tlearn: 1681.6892243\ttotal: 12.8s\tremaining: 20.9s\n",
      "380:\tlearn: 1681.3214057\ttotal: 12.8s\tremaining: 20.9s\n",
      "381:\tlearn: 1681.0775702\ttotal: 12.9s\tremaining: 20.8s\n",
      "382:\tlearn: 1680.9747355\ttotal: 12.9s\tremaining: 20.8s\n",
      "383:\tlearn: 1680.6526910\ttotal: 12.9s\tremaining: 20.7s\n",
      "384:\tlearn: 1680.4593493\ttotal: 12.9s\tremaining: 20.7s\n",
      "385:\tlearn: 1680.1911066\ttotal: 13s\tremaining: 20.6s\n",
      "386:\tlearn: 1679.9613940\ttotal: 13s\tremaining: 20.6s\n",
      "387:\tlearn: 1679.5200320\ttotal: 13s\tremaining: 20.5s\n",
      "388:\tlearn: 1679.0763188\ttotal: 13s\tremaining: 20.5s\n",
      "389:\tlearn: 1678.7438327\ttotal: 13.1s\tremaining: 20.4s\n",
      "390:\tlearn: 1678.3549006\ttotal: 13.1s\tremaining: 20.4s\n",
      "391:\tlearn: 1678.0880649\ttotal: 13.1s\tremaining: 20.4s\n",
      "392:\tlearn: 1677.8750218\ttotal: 13.1s\tremaining: 20.3s\n",
      "393:\tlearn: 1677.4901674\ttotal: 13.2s\tremaining: 20.3s\n",
      "394:\tlearn: 1677.2053876\ttotal: 13.2s\tremaining: 20.2s\n",
      "395:\tlearn: 1676.9262699\ttotal: 13.2s\tremaining: 20.2s\n",
      "396:\tlearn: 1676.6723176\ttotal: 13.3s\tremaining: 20.1s\n",
      "397:\tlearn: 1676.4391787\ttotal: 13.3s\tremaining: 20.1s\n",
      "398:\tlearn: 1676.1392507\ttotal: 13.3s\tremaining: 20.1s\n",
      "399:\tlearn: 1675.9883474\ttotal: 13.3s\tremaining: 20s\n",
      "400:\tlearn: 1675.6633810\ttotal: 13.4s\tremaining: 20s\n",
      "401:\tlearn: 1675.3524464\ttotal: 13.4s\tremaining: 19.9s\n",
      "402:\tlearn: 1675.1064996\ttotal: 13.4s\tremaining: 19.9s\n",
      "403:\tlearn: 1674.8771521\ttotal: 13.5s\tremaining: 19.9s\n",
      "404:\tlearn: 1674.6298612\ttotal: 13.5s\tremaining: 19.8s\n",
      "405:\tlearn: 1674.4379947\ttotal: 13.5s\tremaining: 19.8s\n",
      "406:\tlearn: 1674.2205464\ttotal: 13.5s\tremaining: 19.7s\n",
      "407:\tlearn: 1673.8261414\ttotal: 13.6s\tremaining: 19.7s\n",
      "408:\tlearn: 1673.4775282\ttotal: 13.6s\tremaining: 19.6s\n",
      "409:\tlearn: 1673.1865776\ttotal: 13.6s\tremaining: 19.6s\n",
      "410:\tlearn: 1673.0303451\ttotal: 13.6s\tremaining: 19.6s\n",
      "411:\tlearn: 1672.7039354\ttotal: 13.7s\tremaining: 19.5s\n",
      "412:\tlearn: 1672.2803651\ttotal: 13.7s\tremaining: 19.5s\n",
      "413:\tlearn: 1671.9793838\ttotal: 13.8s\tremaining: 19.5s\n",
      "414:\tlearn: 1671.7147558\ttotal: 13.8s\tremaining: 19.4s\n",
      "415:\tlearn: 1671.4941360\ttotal: 13.8s\tremaining: 19.4s\n",
      "416:\tlearn: 1671.0661732\ttotal: 13.8s\tremaining: 19.4s\n",
      "417:\tlearn: 1670.7675880\ttotal: 13.9s\tremaining: 19.3s\n",
      "418:\tlearn: 1670.3818425\ttotal: 13.9s\tremaining: 19.3s\n",
      "419:\tlearn: 1670.1142666\ttotal: 13.9s\tremaining: 19.2s\n",
      "420:\tlearn: 1669.8987768\ttotal: 13.9s\tremaining: 19.2s\n",
      "421:\tlearn: 1669.5328167\ttotal: 14s\tremaining: 19.1s\n",
      "422:\tlearn: 1669.1754052\ttotal: 14s\tremaining: 19.1s\n",
      "423:\tlearn: 1668.8290446\ttotal: 14s\tremaining: 19.1s\n",
      "424:\tlearn: 1668.5194673\ttotal: 14s\tremaining: 19s\n",
      "425:\tlearn: 1668.3770389\ttotal: 14.1s\tremaining: 19s\n",
      "426:\tlearn: 1668.0909821\ttotal: 14.1s\tremaining: 18.9s\n",
      "427:\tlearn: 1667.7611067\ttotal: 14.1s\tremaining: 18.9s\n",
      "428:\tlearn: 1667.4490611\ttotal: 14.2s\tremaining: 18.8s\n",
      "429:\tlearn: 1667.3045372\ttotal: 14.2s\tremaining: 18.8s\n",
      "430:\tlearn: 1666.9388853\ttotal: 14.2s\tremaining: 18.8s\n",
      "431:\tlearn: 1666.6449863\ttotal: 14.3s\tremaining: 18.7s\n",
      "432:\tlearn: 1666.2448142\ttotal: 14.3s\tremaining: 18.7s\n",
      "433:\tlearn: 1666.0438242\ttotal: 14.3s\tremaining: 18.7s\n",
      "434:\tlearn: 1665.8303155\ttotal: 14.3s\tremaining: 18.6s\n",
      "435:\tlearn: 1665.4850194\ttotal: 14.4s\tremaining: 18.6s\n",
      "436:\tlearn: 1665.3274908\ttotal: 14.4s\tremaining: 18.5s\n",
      "437:\tlearn: 1664.9011743\ttotal: 14.4s\tremaining: 18.5s\n",
      "438:\tlearn: 1664.6548057\ttotal: 14.4s\tremaining: 18.5s\n",
      "439:\tlearn: 1664.4540731\ttotal: 14.5s\tremaining: 18.4s\n",
      "440:\tlearn: 1664.2078871\ttotal: 14.5s\tremaining: 18.4s\n",
      "441:\tlearn: 1664.0341291\ttotal: 14.5s\tremaining: 18.3s\n",
      "442:\tlearn: 1663.8256606\ttotal: 14.6s\tremaining: 18.3s\n",
      "443:\tlearn: 1663.6154164\ttotal: 14.6s\tremaining: 18.3s\n",
      "444:\tlearn: 1663.2963708\ttotal: 14.6s\tremaining: 18.2s\n",
      "445:\tlearn: 1662.7331381\ttotal: 14.6s\tremaining: 18.2s\n",
      "446:\tlearn: 1662.5099519\ttotal: 14.7s\tremaining: 18.2s\n",
      "447:\tlearn: 1662.3203334\ttotal: 14.7s\tremaining: 18.1s\n",
      "448:\tlearn: 1662.1323911\ttotal: 14.7s\tremaining: 18.1s\n",
      "449:\tlearn: 1661.8838494\ttotal: 14.8s\tremaining: 18.1s\n",
      "450:\tlearn: 1661.6288332\ttotal: 14.8s\tremaining: 18s\n",
      "451:\tlearn: 1661.4698370\ttotal: 14.8s\tremaining: 18s\n",
      "452:\tlearn: 1661.2080368\ttotal: 14.9s\tremaining: 18s\n",
      "453:\tlearn: 1660.8358784\ttotal: 14.9s\tremaining: 17.9s\n",
      "454:\tlearn: 1660.4655638\ttotal: 14.9s\tremaining: 17.9s\n",
      "455:\tlearn: 1660.0512293\ttotal: 15s\tremaining: 17.8s\n",
      "456:\tlearn: 1659.9247577\ttotal: 15s\tremaining: 17.8s\n",
      "457:\tlearn: 1659.6601892\ttotal: 15s\tremaining: 17.8s\n",
      "458:\tlearn: 1659.4989321\ttotal: 15s\tremaining: 17.7s\n",
      "459:\tlearn: 1659.1218405\ttotal: 15.1s\tremaining: 17.7s\n",
      "460:\tlearn: 1658.7808405\ttotal: 15.1s\tremaining: 17.7s\n",
      "461:\tlearn: 1658.6057506\ttotal: 15.1s\tremaining: 17.6s\n",
      "462:\tlearn: 1658.4190057\ttotal: 15.1s\tremaining: 17.6s\n",
      "463:\tlearn: 1658.2185982\ttotal: 15.2s\tremaining: 17.5s\n",
      "464:\tlearn: 1657.7818194\ttotal: 15.2s\tremaining: 17.5s\n",
      "465:\tlearn: 1657.5635519\ttotal: 15.2s\tremaining: 17.4s\n",
      "466:\tlearn: 1657.1310720\ttotal: 15.3s\tremaining: 17.4s\n",
      "467:\tlearn: 1656.8999423\ttotal: 15.3s\tremaining: 17.4s\n",
      "468:\tlearn: 1656.5897182\ttotal: 15.3s\tremaining: 17.3s\n",
      "469:\tlearn: 1656.3029858\ttotal: 15.3s\tremaining: 17.3s\n",
      "470:\tlearn: 1656.0275126\ttotal: 15.4s\tremaining: 17.2s\n",
      "471:\tlearn: 1655.6517082\ttotal: 15.4s\tremaining: 17.2s\n",
      "472:\tlearn: 1655.4156878\ttotal: 15.4s\tremaining: 17.2s\n",
      "473:\tlearn: 1655.2094517\ttotal: 15.4s\tremaining: 17.1s\n",
      "474:\tlearn: 1654.9340505\ttotal: 15.5s\tremaining: 17.1s\n",
      "475:\tlearn: 1654.6318447\ttotal: 15.5s\tremaining: 17.1s\n",
      "476:\tlearn: 1654.4949751\ttotal: 15.5s\tremaining: 17s\n",
      "477:\tlearn: 1654.3628793\ttotal: 15.5s\tremaining: 17s\n",
      "478:\tlearn: 1654.1311899\ttotal: 15.6s\tremaining: 16.9s\n",
      "479:\tlearn: 1653.9761097\ttotal: 15.6s\tremaining: 16.9s\n",
      "480:\tlearn: 1653.7415316\ttotal: 15.6s\tremaining: 16.9s\n",
      "481:\tlearn: 1653.4964057\ttotal: 15.7s\tremaining: 16.8s\n",
      "482:\tlearn: 1653.3347399\ttotal: 15.7s\tremaining: 16.8s\n",
      "483:\tlearn: 1652.9367751\ttotal: 15.7s\tremaining: 16.8s\n",
      "484:\tlearn: 1652.6882560\ttotal: 15.8s\tremaining: 16.7s\n",
      "485:\tlearn: 1652.4809311\ttotal: 15.8s\tremaining: 16.7s\n",
      "486:\tlearn: 1652.1239255\ttotal: 15.8s\tremaining: 16.7s\n",
      "487:\tlearn: 1651.9254770\ttotal: 15.8s\tremaining: 16.6s\n",
      "488:\tlearn: 1651.6355350\ttotal: 15.9s\tremaining: 16.6s\n",
      "489:\tlearn: 1651.3996544\ttotal: 15.9s\tremaining: 16.6s\n",
      "490:\tlearn: 1651.0110654\ttotal: 15.9s\tremaining: 16.5s\n",
      "491:\tlearn: 1650.6754832\ttotal: 16s\tremaining: 16.5s\n",
      "492:\tlearn: 1650.4384877\ttotal: 16s\tremaining: 16.5s\n",
      "493:\tlearn: 1650.1248854\ttotal: 16s\tremaining: 16.4s\n",
      "494:\tlearn: 1649.9772558\ttotal: 16.1s\tremaining: 16.4s\n",
      "495:\tlearn: 1649.6856393\ttotal: 16.1s\tremaining: 16.3s\n",
      "496:\tlearn: 1649.3908726\ttotal: 16.1s\tremaining: 16.3s\n",
      "497:\tlearn: 1649.2193401\ttotal: 16.1s\tremaining: 16.3s\n",
      "498:\tlearn: 1648.9608960\ttotal: 16.2s\tremaining: 16.2s\n",
      "499:\tlearn: 1648.8483680\ttotal: 16.2s\tremaining: 16.2s\n",
      "500:\tlearn: 1648.5474489\ttotal: 16.2s\tremaining: 16.2s\n",
      "501:\tlearn: 1648.4105317\ttotal: 16.2s\tremaining: 16.1s\n",
      "502:\tlearn: 1648.1761601\ttotal: 16.3s\tremaining: 16.1s\n",
      "503:\tlearn: 1647.8856553\ttotal: 16.3s\tremaining: 16s\n",
      "504:\tlearn: 1647.6736547\ttotal: 16.3s\tremaining: 16s\n",
      "505:\tlearn: 1647.5130830\ttotal: 16.4s\tremaining: 16s\n",
      "506:\tlearn: 1647.3588204\ttotal: 16.4s\tremaining: 15.9s\n",
      "507:\tlearn: 1647.0662942\ttotal: 16.4s\tremaining: 15.9s\n",
      "508:\tlearn: 1646.7803131\ttotal: 16.4s\tremaining: 15.8s\n",
      "509:\tlearn: 1646.4762149\ttotal: 16.5s\tremaining: 15.8s\n",
      "510:\tlearn: 1646.2964029\ttotal: 16.5s\tremaining: 15.8s\n",
      "511:\tlearn: 1645.9752943\ttotal: 16.5s\tremaining: 15.8s\n",
      "512:\tlearn: 1645.5429570\ttotal: 16.6s\tremaining: 15.7s\n",
      "513:\tlearn: 1645.3516891\ttotal: 16.6s\tremaining: 15.7s\n",
      "514:\tlearn: 1645.2308592\ttotal: 16.6s\tremaining: 15.7s\n",
      "515:\tlearn: 1645.0353773\ttotal: 16.7s\tremaining: 15.6s\n",
      "516:\tlearn: 1644.9253348\ttotal: 16.7s\tremaining: 15.6s\n",
      "517:\tlearn: 1644.7748919\ttotal: 16.7s\tremaining: 15.6s\n",
      "518:\tlearn: 1644.5693589\ttotal: 16.8s\tremaining: 15.5s\n",
      "519:\tlearn: 1644.3409912\ttotal: 16.8s\tremaining: 15.5s\n",
      "520:\tlearn: 1644.1121382\ttotal: 16.8s\tremaining: 15.5s\n",
      "521:\tlearn: 1643.9352622\ttotal: 16.9s\tremaining: 15.4s\n",
      "522:\tlearn: 1643.7059636\ttotal: 16.9s\tremaining: 15.4s\n",
      "523:\tlearn: 1643.5112785\ttotal: 16.9s\tremaining: 15.4s\n",
      "524:\tlearn: 1643.3075101\ttotal: 17s\tremaining: 15.4s\n",
      "525:\tlearn: 1643.1812363\ttotal: 17s\tremaining: 15.3s\n",
      "526:\tlearn: 1642.9707478\ttotal: 17s\tremaining: 15.3s\n",
      "527:\tlearn: 1642.7057201\ttotal: 17.1s\tremaining: 15.3s\n",
      "528:\tlearn: 1642.4870078\ttotal: 17.1s\tremaining: 15.2s\n",
      "529:\tlearn: 1642.0950898\ttotal: 17.2s\tremaining: 15.2s\n",
      "530:\tlearn: 1641.9258600\ttotal: 17.2s\tremaining: 15.2s\n",
      "531:\tlearn: 1641.7131372\ttotal: 17.2s\tremaining: 15.2s\n",
      "532:\tlearn: 1641.4579998\ttotal: 17.3s\tremaining: 15.1s\n",
      "533:\tlearn: 1641.2699717\ttotal: 17.3s\tremaining: 15.1s\n",
      "534:\tlearn: 1640.8618554\ttotal: 17.3s\tremaining: 15.1s\n",
      "535:\tlearn: 1640.5882869\ttotal: 17.4s\tremaining: 15s\n",
      "536:\tlearn: 1640.4519351\ttotal: 17.4s\tremaining: 15s\n",
      "537:\tlearn: 1640.2110554\ttotal: 17.4s\tremaining: 15s\n",
      "538:\tlearn: 1639.8429466\ttotal: 17.4s\tremaining: 14.9s\n",
      "539:\tlearn: 1639.4348183\ttotal: 17.5s\tremaining: 14.9s\n",
      "540:\tlearn: 1639.2819450\ttotal: 17.5s\tremaining: 14.8s\n",
      "541:\tlearn: 1639.0834622\ttotal: 17.5s\tremaining: 14.8s\n",
      "542:\tlearn: 1638.9157044\ttotal: 17.6s\tremaining: 14.8s\n",
      "543:\tlearn: 1638.7518524\ttotal: 17.6s\tremaining: 14.7s\n",
      "544:\tlearn: 1638.5805183\ttotal: 17.6s\tremaining: 14.7s\n",
      "545:\tlearn: 1638.3891028\ttotal: 17.6s\tremaining: 14.7s\n",
      "546:\tlearn: 1638.2200965\ttotal: 17.7s\tremaining: 14.6s\n",
      "547:\tlearn: 1638.0857088\ttotal: 17.7s\tremaining: 14.6s\n",
      "548:\tlearn: 1637.8519389\ttotal: 17.7s\tremaining: 14.5s\n",
      "549:\tlearn: 1637.6637777\ttotal: 17.7s\tremaining: 14.5s\n",
      "550:\tlearn: 1637.4169544\ttotal: 17.8s\tremaining: 14.5s\n",
      "551:\tlearn: 1637.1347655\ttotal: 17.8s\tremaining: 14.4s\n",
      "552:\tlearn: 1636.9219662\ttotal: 17.8s\tremaining: 14.4s\n",
      "553:\tlearn: 1636.6673542\ttotal: 17.8s\tremaining: 14.4s\n",
      "554:\tlearn: 1636.3677729\ttotal: 17.9s\tremaining: 14.3s\n",
      "555:\tlearn: 1636.2926769\ttotal: 17.9s\tremaining: 14.3s\n",
      "556:\tlearn: 1636.0696197\ttotal: 17.9s\tremaining: 14.3s\n",
      "557:\tlearn: 1635.7822620\ttotal: 17.9s\tremaining: 14.2s\n",
      "558:\tlearn: 1635.6332660\ttotal: 18s\tremaining: 14.2s\n",
      "559:\tlearn: 1635.4717546\ttotal: 18s\tremaining: 14.1s\n",
      "560:\tlearn: 1635.3145167\ttotal: 18s\tremaining: 14.1s\n",
      "561:\tlearn: 1635.0145694\ttotal: 18.1s\tremaining: 14.1s\n",
      "562:\tlearn: 1634.8494282\ttotal: 18.1s\tremaining: 14s\n",
      "563:\tlearn: 1634.6838031\ttotal: 18.1s\tremaining: 14s\n",
      "564:\tlearn: 1634.5440971\ttotal: 18.1s\tremaining: 14s\n",
      "565:\tlearn: 1634.3286981\ttotal: 18.2s\tremaining: 13.9s\n",
      "566:\tlearn: 1634.1467931\ttotal: 18.2s\tremaining: 13.9s\n",
      "567:\tlearn: 1633.8190309\ttotal: 18.2s\tremaining: 13.8s\n",
      "568:\tlearn: 1633.5600077\ttotal: 18.2s\tremaining: 13.8s\n",
      "569:\tlearn: 1633.2051990\ttotal: 18.3s\tremaining: 13.8s\n",
      "570:\tlearn: 1633.0488497\ttotal: 18.3s\tremaining: 13.7s\n",
      "571:\tlearn: 1632.6764725\ttotal: 18.3s\tremaining: 13.7s\n",
      "572:\tlearn: 1632.5284021\ttotal: 18.3s\tremaining: 13.7s\n",
      "573:\tlearn: 1632.2885534\ttotal: 18.4s\tremaining: 13.6s\n",
      "574:\tlearn: 1632.0488278\ttotal: 18.4s\tremaining: 13.6s\n",
      "575:\tlearn: 1631.8928129\ttotal: 18.4s\tremaining: 13.6s\n",
      "576:\tlearn: 1631.7388294\ttotal: 18.4s\tremaining: 13.5s\n",
      "577:\tlearn: 1631.5874952\ttotal: 18.5s\tremaining: 13.5s\n",
      "578:\tlearn: 1631.3665020\ttotal: 18.5s\tremaining: 13.4s\n",
      "579:\tlearn: 1631.0893405\ttotal: 18.5s\tremaining: 13.4s\n",
      "580:\tlearn: 1630.8481725\ttotal: 18.6s\tremaining: 13.4s\n",
      "581:\tlearn: 1630.6366624\ttotal: 18.6s\tremaining: 13.3s\n",
      "582:\tlearn: 1630.3477922\ttotal: 18.6s\tremaining: 13.3s\n",
      "583:\tlearn: 1630.2506950\ttotal: 18.6s\tremaining: 13.3s\n",
      "584:\tlearn: 1630.0671075\ttotal: 18.7s\tremaining: 13.2s\n",
      "585:\tlearn: 1629.7931779\ttotal: 18.7s\tremaining: 13.2s\n",
      "586:\tlearn: 1629.5766167\ttotal: 18.7s\tremaining: 13.2s\n",
      "587:\tlearn: 1629.3718883\ttotal: 18.7s\tremaining: 13.1s\n",
      "588:\tlearn: 1629.0962520\ttotal: 18.8s\tremaining: 13.1s\n",
      "589:\tlearn: 1628.8692012\ttotal: 18.8s\tremaining: 13.1s\n",
      "590:\tlearn: 1628.7900388\ttotal: 18.8s\tremaining: 13s\n",
      "591:\tlearn: 1628.6873840\ttotal: 18.9s\tremaining: 13s\n",
      "592:\tlearn: 1628.5182252\ttotal: 18.9s\tremaining: 13s\n",
      "593:\tlearn: 1628.3666520\ttotal: 18.9s\tremaining: 12.9s\n",
      "594:\tlearn: 1628.2051913\ttotal: 19s\tremaining: 12.9s\n",
      "595:\tlearn: 1628.0798688\ttotal: 19s\tremaining: 12.9s\n",
      "596:\tlearn: 1627.8454268\ttotal: 19s\tremaining: 12.8s\n",
      "597:\tlearn: 1627.6489089\ttotal: 19.1s\tremaining: 12.8s\n",
      "598:\tlearn: 1627.5022187\ttotal: 19.1s\tremaining: 12.8s\n",
      "599:\tlearn: 1627.3002219\ttotal: 19.1s\tremaining: 12.7s\n",
      "600:\tlearn: 1627.1030926\ttotal: 19.1s\tremaining: 12.7s\n",
      "601:\tlearn: 1626.9674048\ttotal: 19.2s\tremaining: 12.7s\n",
      "602:\tlearn: 1626.7661283\ttotal: 19.2s\tremaining: 12.6s\n",
      "603:\tlearn: 1626.5656412\ttotal: 19.2s\tremaining: 12.6s\n",
      "604:\tlearn: 1626.3607347\ttotal: 19.2s\tremaining: 12.6s\n",
      "605:\tlearn: 1626.2456239\ttotal: 19.3s\tremaining: 12.5s\n",
      "606:\tlearn: 1626.0892468\ttotal: 19.3s\tremaining: 12.5s\n",
      "607:\tlearn: 1625.8580419\ttotal: 19.3s\tremaining: 12.5s\n",
      "608:\tlearn: 1625.6567217\ttotal: 19.4s\tremaining: 12.4s\n",
      "609:\tlearn: 1625.4787629\ttotal: 19.4s\tremaining: 12.4s\n",
      "610:\tlearn: 1625.3304515\ttotal: 19.5s\tremaining: 12.4s\n",
      "611:\tlearn: 1625.0802719\ttotal: 19.5s\tremaining: 12.4s\n",
      "612:\tlearn: 1624.8476371\ttotal: 19.5s\tremaining: 12.3s\n",
      "613:\tlearn: 1624.7022733\ttotal: 19.6s\tremaining: 12.3s\n",
      "614:\tlearn: 1624.5256559\ttotal: 19.6s\tremaining: 12.3s\n",
      "615:\tlearn: 1624.4077573\ttotal: 19.6s\tremaining: 12.2s\n",
      "616:\tlearn: 1624.2449093\ttotal: 19.6s\tremaining: 12.2s\n",
      "617:\tlearn: 1624.0880040\ttotal: 19.7s\tremaining: 12.2s\n",
      "618:\tlearn: 1624.0138964\ttotal: 19.7s\tremaining: 12.1s\n",
      "619:\tlearn: 1623.7711298\ttotal: 19.7s\tremaining: 12.1s\n",
      "620:\tlearn: 1623.6414366\ttotal: 19.8s\tremaining: 12.1s\n",
      "621:\tlearn: 1623.5059917\ttotal: 19.8s\tremaining: 12s\n",
      "622:\tlearn: 1623.3331492\ttotal: 19.8s\tremaining: 12s\n",
      "623:\tlearn: 1623.2540581\ttotal: 19.8s\tremaining: 11.9s\n",
      "624:\tlearn: 1623.1025502\ttotal: 19.9s\tremaining: 11.9s\n",
      "625:\tlearn: 1623.0273957\ttotal: 19.9s\tremaining: 11.9s\n",
      "626:\tlearn: 1622.8181536\ttotal: 19.9s\tremaining: 11.9s\n",
      "627:\tlearn: 1622.6941694\ttotal: 20s\tremaining: 11.8s\n",
      "628:\tlearn: 1622.5120845\ttotal: 20s\tremaining: 11.8s\n",
      "629:\tlearn: 1622.2959876\ttotal: 20s\tremaining: 11.8s\n",
      "630:\tlearn: 1622.1245999\ttotal: 20s\tremaining: 11.7s\n",
      "631:\tlearn: 1621.8691987\ttotal: 20.1s\tremaining: 11.7s\n",
      "632:\tlearn: 1621.6705706\ttotal: 20.1s\tremaining: 11.7s\n",
      "633:\tlearn: 1621.5427498\ttotal: 20.1s\tremaining: 11.6s\n",
      "634:\tlearn: 1621.3234423\ttotal: 20.1s\tremaining: 11.6s\n",
      "635:\tlearn: 1621.2423610\ttotal: 20.2s\tremaining: 11.5s\n",
      "636:\tlearn: 1621.1540903\ttotal: 20.2s\tremaining: 11.5s\n",
      "637:\tlearn: 1621.0583235\ttotal: 20.2s\tremaining: 11.5s\n",
      "638:\tlearn: 1620.8353000\ttotal: 20.3s\tremaining: 11.4s\n",
      "639:\tlearn: 1620.6140554\ttotal: 20.3s\tremaining: 11.4s\n",
      "640:\tlearn: 1620.4828045\ttotal: 20.3s\tremaining: 11.4s\n",
      "641:\tlearn: 1620.1725235\ttotal: 20.4s\tremaining: 11.4s\n",
      "642:\tlearn: 1619.8917750\ttotal: 20.4s\tremaining: 11.3s\n",
      "643:\tlearn: 1619.7552986\ttotal: 20.4s\tremaining: 11.3s\n",
      "644:\tlearn: 1619.6185767\ttotal: 20.4s\tremaining: 11.3s\n",
      "645:\tlearn: 1619.4378381\ttotal: 20.5s\tremaining: 11.2s\n",
      "646:\tlearn: 1619.3166825\ttotal: 20.5s\tremaining: 11.2s\n",
      "647:\tlearn: 1619.0836250\ttotal: 20.5s\tremaining: 11.2s\n",
      "648:\tlearn: 1618.8254638\ttotal: 20.6s\tremaining: 11.1s\n",
      "649:\tlearn: 1618.7170307\ttotal: 20.6s\tremaining: 11.1s\n",
      "650:\tlearn: 1618.5839994\ttotal: 20.6s\tremaining: 11.1s\n",
      "651:\tlearn: 1618.3673700\ttotal: 20.6s\tremaining: 11s\n",
      "652:\tlearn: 1618.2308952\ttotal: 20.7s\tremaining: 11s\n",
      "653:\tlearn: 1618.0893282\ttotal: 20.7s\tremaining: 11s\n",
      "654:\tlearn: 1618.0109066\ttotal: 20.8s\tremaining: 10.9s\n",
      "655:\tlearn: 1617.7887251\ttotal: 20.8s\tremaining: 10.9s\n",
      "656:\tlearn: 1617.5501005\ttotal: 20.8s\tremaining: 10.9s\n",
      "657:\tlearn: 1617.2804714\ttotal: 20.9s\tremaining: 10.8s\n",
      "658:\tlearn: 1617.0556094\ttotal: 20.9s\tremaining: 10.8s\n",
      "659:\tlearn: 1616.9164115\ttotal: 20.9s\tremaining: 10.8s\n",
      "660:\tlearn: 1616.7530955\ttotal: 20.9s\tremaining: 10.7s\n",
      "661:\tlearn: 1616.5271550\ttotal: 21s\tremaining: 10.7s\n",
      "662:\tlearn: 1616.4415368\ttotal: 21s\tremaining: 10.7s\n",
      "663:\tlearn: 1616.2113961\ttotal: 21s\tremaining: 10.6s\n",
      "664:\tlearn: 1616.0411237\ttotal: 21.1s\tremaining: 10.6s\n",
      "665:\tlearn: 1615.8346657\ttotal: 21.1s\tremaining: 10.6s\n",
      "666:\tlearn: 1615.6151918\ttotal: 21.1s\tremaining: 10.5s\n",
      "667:\tlearn: 1615.4361965\ttotal: 21.1s\tremaining: 10.5s\n",
      "668:\tlearn: 1615.2805877\ttotal: 21.2s\tremaining: 10.5s\n",
      "669:\tlearn: 1615.1474004\ttotal: 21.2s\tremaining: 10.4s\n",
      "670:\tlearn: 1614.9869767\ttotal: 21.2s\tremaining: 10.4s\n",
      "671:\tlearn: 1614.8960910\ttotal: 21.2s\tremaining: 10.4s\n",
      "672:\tlearn: 1614.5591242\ttotal: 21.3s\tremaining: 10.3s\n",
      "673:\tlearn: 1614.3558437\ttotal: 21.3s\tremaining: 10.3s\n",
      "674:\tlearn: 1614.2073177\ttotal: 21.3s\tremaining: 10.3s\n",
      "675:\tlearn: 1613.9666429\ttotal: 21.3s\tremaining: 10.2s\n",
      "676:\tlearn: 1613.6930139\ttotal: 21.4s\tremaining: 10.2s\n",
      "677:\tlearn: 1613.5801527\ttotal: 21.4s\tremaining: 10.2s\n",
      "678:\tlearn: 1613.4213010\ttotal: 21.5s\tremaining: 10.1s\n",
      "679:\tlearn: 1613.3261350\ttotal: 21.5s\tremaining: 10.1s\n",
      "680:\tlearn: 1613.2017473\ttotal: 21.5s\tremaining: 10.1s\n",
      "681:\tlearn: 1613.0000565\ttotal: 21.5s\tremaining: 10s\n",
      "682:\tlearn: 1612.8686786\ttotal: 21.5s\tremaining: 10s\n",
      "683:\tlearn: 1612.6782019\ttotal: 21.6s\tremaining: 9.97s\n",
      "684:\tlearn: 1612.4817212\ttotal: 21.6s\tremaining: 9.94s\n",
      "685:\tlearn: 1612.3111565\ttotal: 21.6s\tremaining: 9.9s\n",
      "686:\tlearn: 1612.1666654\ttotal: 21.7s\tremaining: 9.87s\n",
      "687:\tlearn: 1611.9604215\ttotal: 21.7s\tremaining: 9.84s\n",
      "688:\tlearn: 1611.7867298\ttotal: 21.7s\tremaining: 9.8s\n",
      "689:\tlearn: 1611.6425350\ttotal: 21.7s\tremaining: 9.77s\n",
      "690:\tlearn: 1611.2782596\ttotal: 21.8s\tremaining: 9.73s\n",
      "691:\tlearn: 1611.1339763\ttotal: 21.8s\tremaining: 9.7s\n",
      "692:\tlearn: 1610.8430648\ttotal: 21.8s\tremaining: 9.67s\n",
      "693:\tlearn: 1610.6566119\ttotal: 21.9s\tremaining: 9.63s\n",
      "694:\tlearn: 1610.5700636\ttotal: 21.9s\tremaining: 9.6s\n",
      "695:\tlearn: 1610.3527789\ttotal: 21.9s\tremaining: 9.57s\n",
      "696:\tlearn: 1610.1103922\ttotal: 21.9s\tremaining: 9.54s\n",
      "697:\tlearn: 1609.9346077\ttotal: 22s\tremaining: 9.5s\n",
      "698:\tlearn: 1609.7926954\ttotal: 22s\tremaining: 9.47s\n",
      "699:\tlearn: 1609.6358394\ttotal: 22s\tremaining: 9.43s\n",
      "700:\tlearn: 1609.3786934\ttotal: 22s\tremaining: 9.4s\n",
      "701:\tlearn: 1609.1814052\ttotal: 22.1s\tremaining: 9.37s\n",
      "702:\tlearn: 1609.0273831\ttotal: 22.1s\tremaining: 9.33s\n",
      "703:\tlearn: 1608.9035160\ttotal: 22.1s\tremaining: 9.3s\n",
      "704:\tlearn: 1608.7149953\ttotal: 22.1s\tremaining: 9.27s\n",
      "705:\tlearn: 1608.6564416\ttotal: 22.2s\tremaining: 9.23s\n",
      "706:\tlearn: 1608.4883781\ttotal: 22.2s\tremaining: 9.2s\n",
      "707:\tlearn: 1608.3017340\ttotal: 22.2s\tremaining: 9.16s\n",
      "708:\tlearn: 1608.1585235\ttotal: 22.2s\tremaining: 9.13s\n",
      "709:\tlearn: 1607.9325935\ttotal: 22.3s\tremaining: 9.1s\n",
      "710:\tlearn: 1607.7826890\ttotal: 22.3s\tremaining: 9.06s\n",
      "711:\tlearn: 1607.5522551\ttotal: 22.3s\tremaining: 9.03s\n",
      "712:\tlearn: 1607.4505039\ttotal: 22.4s\tremaining: 9s\n",
      "713:\tlearn: 1607.1406539\ttotal: 22.4s\tremaining: 8.96s\n",
      "714:\tlearn: 1607.0488014\ttotal: 22.4s\tremaining: 8.93s\n",
      "715:\tlearn: 1606.8394044\ttotal: 22.4s\tremaining: 8.9s\n",
      "716:\tlearn: 1606.7453851\ttotal: 22.5s\tremaining: 8.87s\n",
      "717:\tlearn: 1606.5663085\ttotal: 22.5s\tremaining: 8.83s\n",
      "718:\tlearn: 1606.3816389\ttotal: 22.5s\tremaining: 8.8s\n",
      "719:\tlearn: 1606.2344955\ttotal: 22.5s\tremaining: 8.77s\n",
      "720:\tlearn: 1606.0560896\ttotal: 22.6s\tremaining: 8.73s\n",
      "721:\tlearn: 1605.8719269\ttotal: 22.6s\tremaining: 8.7s\n",
      "722:\tlearn: 1605.8096821\ttotal: 22.6s\tremaining: 8.66s\n",
      "723:\tlearn: 1605.6987606\ttotal: 22.6s\tremaining: 8.63s\n",
      "724:\tlearn: 1605.5423417\ttotal: 22.7s\tremaining: 8.6s\n",
      "725:\tlearn: 1605.4240228\ttotal: 22.7s\tremaining: 8.56s\n",
      "726:\tlearn: 1605.3114501\ttotal: 22.7s\tremaining: 8.53s\n",
      "727:\tlearn: 1605.1652969\ttotal: 22.7s\tremaining: 8.5s\n",
      "728:\tlearn: 1605.0743960\ttotal: 22.8s\tremaining: 8.46s\n",
      "729:\tlearn: 1604.9276434\ttotal: 22.8s\tremaining: 8.43s\n",
      "730:\tlearn: 1604.7474032\ttotal: 22.8s\tremaining: 8.4s\n",
      "731:\tlearn: 1604.5400709\ttotal: 22.9s\tremaining: 8.37s\n",
      "732:\tlearn: 1604.4359817\ttotal: 22.9s\tremaining: 8.34s\n",
      "733:\tlearn: 1604.3176930\ttotal: 22.9s\tremaining: 8.3s\n",
      "734:\tlearn: 1604.2494633\ttotal: 22.9s\tremaining: 8.27s\n",
      "735:\tlearn: 1604.1399691\ttotal: 23s\tremaining: 8.24s\n",
      "736:\tlearn: 1603.9824931\ttotal: 23s\tremaining: 8.21s\n",
      "737:\tlearn: 1603.7747798\ttotal: 23s\tremaining: 8.17s\n",
      "738:\tlearn: 1603.5652024\ttotal: 23.1s\tremaining: 8.14s\n",
      "739:\tlearn: 1603.4474884\ttotal: 23.1s\tremaining: 8.11s\n",
      "740:\tlearn: 1603.3217373\ttotal: 23.1s\tremaining: 8.08s\n",
      "741:\tlearn: 1603.2550682\ttotal: 23.1s\tremaining: 8.04s\n",
      "742:\tlearn: 1602.9994302\ttotal: 23.2s\tremaining: 8.01s\n",
      "743:\tlearn: 1602.7640774\ttotal: 23.2s\tremaining: 7.98s\n",
      "744:\tlearn: 1602.6199437\ttotal: 23.2s\tremaining: 7.95s\n",
      "745:\tlearn: 1602.5127038\ttotal: 23.2s\tremaining: 7.91s\n",
      "746:\tlearn: 1602.3730687\ttotal: 23.3s\tremaining: 7.88s\n",
      "747:\tlearn: 1602.2163216\ttotal: 23.3s\tremaining: 7.85s\n",
      "748:\tlearn: 1602.0105114\ttotal: 23.3s\tremaining: 7.82s\n",
      "749:\tlearn: 1601.8556183\ttotal: 23.4s\tremaining: 7.78s\n",
      "750:\tlearn: 1601.8160066\ttotal: 23.4s\tremaining: 7.75s\n",
      "751:\tlearn: 1601.6262137\ttotal: 23.4s\tremaining: 7.72s\n",
      "752:\tlearn: 1601.3259619\ttotal: 23.4s\tremaining: 7.68s\n",
      "753:\tlearn: 1601.2300907\ttotal: 23.5s\tremaining: 7.65s\n",
      "754:\tlearn: 1601.0462167\ttotal: 23.5s\tremaining: 7.62s\n",
      "755:\tlearn: 1600.7922925\ttotal: 23.5s\tremaining: 7.59s\n",
      "756:\tlearn: 1600.6203775\ttotal: 23.5s\tremaining: 7.56s\n",
      "757:\tlearn: 1600.4749307\ttotal: 23.6s\tremaining: 7.53s\n",
      "758:\tlearn: 1600.3825143\ttotal: 23.6s\tremaining: 7.5s\n",
      "759:\tlearn: 1600.2179356\ttotal: 23.6s\tremaining: 7.46s\n",
      "760:\tlearn: 1600.1198148\ttotal: 23.7s\tremaining: 7.43s\n",
      "761:\tlearn: 1600.0530435\ttotal: 23.7s\tremaining: 7.4s\n",
      "762:\tlearn: 1599.9568118\ttotal: 23.7s\tremaining: 7.37s\n",
      "763:\tlearn: 1599.7782882\ttotal: 23.7s\tremaining: 7.33s\n",
      "764:\tlearn: 1599.6230638\ttotal: 23.8s\tremaining: 7.31s\n",
      "765:\tlearn: 1599.4493806\ttotal: 23.8s\tremaining: 7.28s\n",
      "766:\tlearn: 1599.3072258\ttotal: 23.8s\tremaining: 7.24s\n",
      "767:\tlearn: 1599.1430176\ttotal: 23.9s\tremaining: 7.22s\n",
      "768:\tlearn: 1599.0377975\ttotal: 23.9s\tremaining: 7.19s\n",
      "769:\tlearn: 1598.8720080\ttotal: 23.9s\tremaining: 7.15s\n",
      "770:\tlearn: 1598.8387362\ttotal: 24s\tremaining: 7.12s\n",
      "771:\tlearn: 1598.7780485\ttotal: 24s\tremaining: 7.09s\n",
      "772:\tlearn: 1598.7124618\ttotal: 24s\tremaining: 7.05s\n",
      "773:\tlearn: 1598.6287846\ttotal: 24.1s\tremaining: 7.02s\n",
      "774:\tlearn: 1598.5202359\ttotal: 24.1s\tremaining: 6.99s\n",
      "775:\tlearn: 1598.4473033\ttotal: 24.1s\tremaining: 6.96s\n",
      "776:\tlearn: 1598.3890982\ttotal: 24.1s\tremaining: 6.92s\n",
      "777:\tlearn: 1598.2769638\ttotal: 24.1s\tremaining: 6.89s\n",
      "778:\tlearn: 1598.2494410\ttotal: 24.2s\tremaining: 6.86s\n",
      "779:\tlearn: 1598.1899209\ttotal: 24.2s\tremaining: 6.82s\n",
      "780:\tlearn: 1598.1045634\ttotal: 24.2s\tremaining: 6.79s\n",
      "781:\tlearn: 1598.0089516\ttotal: 24.2s\tremaining: 6.76s\n",
      "782:\tlearn: 1597.9368794\ttotal: 24.3s\tremaining: 6.72s\n",
      "783:\tlearn: 1597.7451583\ttotal: 24.3s\tremaining: 6.69s\n",
      "784:\tlearn: 1597.6696122\ttotal: 24.3s\tremaining: 6.66s\n",
      "785:\tlearn: 1597.5203042\ttotal: 24.4s\tremaining: 6.63s\n",
      "786:\tlearn: 1597.2698774\ttotal: 24.4s\tremaining: 6.6s\n",
      "787:\tlearn: 1597.2333497\ttotal: 24.4s\tremaining: 6.57s\n",
      "788:\tlearn: 1597.0519876\ttotal: 24.4s\tremaining: 6.53s\n",
      "789:\tlearn: 1596.8722564\ttotal: 24.5s\tremaining: 6.5s\n",
      "790:\tlearn: 1596.7557763\ttotal: 24.5s\tremaining: 6.47s\n",
      "791:\tlearn: 1596.6135195\ttotal: 24.5s\tremaining: 6.44s\n",
      "792:\tlearn: 1596.4056409\ttotal: 24.5s\tremaining: 6.41s\n",
      "793:\tlearn: 1596.3322495\ttotal: 24.6s\tremaining: 6.37s\n",
      "794:\tlearn: 1596.2577897\ttotal: 24.6s\tremaining: 6.34s\n",
      "795:\tlearn: 1596.1358145\ttotal: 24.6s\tremaining: 6.31s\n",
      "796:\tlearn: 1595.9787919\ttotal: 24.7s\tremaining: 6.28s\n",
      "797:\tlearn: 1595.8742012\ttotal: 24.7s\tremaining: 6.25s\n",
      "798:\tlearn: 1595.6623995\ttotal: 24.7s\tremaining: 6.22s\n",
      "799:\tlearn: 1595.5372947\ttotal: 24.7s\tremaining: 6.18s\n",
      "800:\tlearn: 1595.3371427\ttotal: 24.8s\tremaining: 6.15s\n",
      "801:\tlearn: 1595.1708952\ttotal: 24.8s\tremaining: 6.12s\n",
      "802:\tlearn: 1595.0862101\ttotal: 24.8s\tremaining: 6.09s\n",
      "803:\tlearn: 1595.0232195\ttotal: 24.8s\tremaining: 6.06s\n",
      "804:\tlearn: 1594.8952474\ttotal: 24.9s\tremaining: 6.02s\n",
      "805:\tlearn: 1594.7706703\ttotal: 24.9s\tremaining: 5.99s\n",
      "806:\tlearn: 1594.5892537\ttotal: 24.9s\tremaining: 5.96s\n",
      "807:\tlearn: 1594.3564013\ttotal: 24.9s\tremaining: 5.93s\n",
      "808:\tlearn: 1594.2117799\ttotal: 25s\tremaining: 5.9s\n",
      "809:\tlearn: 1594.1220786\ttotal: 25s\tremaining: 5.86s\n",
      "810:\tlearn: 1593.9580735\ttotal: 25s\tremaining: 5.83s\n",
      "811:\tlearn: 1593.8190372\ttotal: 25.1s\tremaining: 5.8s\n",
      "812:\tlearn: 1593.6529970\ttotal: 25.1s\tremaining: 5.77s\n",
      "813:\tlearn: 1593.5435164\ttotal: 25.1s\tremaining: 5.74s\n",
      "814:\tlearn: 1593.3752037\ttotal: 25.1s\tremaining: 5.71s\n",
      "815:\tlearn: 1593.2097520\ttotal: 25.2s\tremaining: 5.67s\n",
      "816:\tlearn: 1593.1010491\ttotal: 25.2s\tremaining: 5.64s\n",
      "817:\tlearn: 1592.9241178\ttotal: 25.2s\tremaining: 5.61s\n",
      "818:\tlearn: 1592.7861776\ttotal: 25.2s\tremaining: 5.58s\n",
      "819:\tlearn: 1592.5862284\ttotal: 25.3s\tremaining: 5.54s\n",
      "820:\tlearn: 1592.4401057\ttotal: 25.3s\tremaining: 5.51s\n",
      "821:\tlearn: 1592.2621470\ttotal: 25.3s\tremaining: 5.48s\n",
      "822:\tlearn: 1592.1054030\ttotal: 25.4s\tremaining: 5.45s\n",
      "823:\tlearn: 1592.0319511\ttotal: 25.4s\tremaining: 5.42s\n",
      "824:\tlearn: 1591.9391041\ttotal: 25.4s\tremaining: 5.39s\n",
      "825:\tlearn: 1591.7900143\ttotal: 25.4s\tremaining: 5.36s\n",
      "826:\tlearn: 1591.7242481\ttotal: 25.5s\tremaining: 5.33s\n",
      "827:\tlearn: 1591.5864031\ttotal: 25.5s\tremaining: 5.29s\n",
      "828:\tlearn: 1591.4316286\ttotal: 25.5s\tremaining: 5.26s\n",
      "829:\tlearn: 1591.3701316\ttotal: 25.5s\tremaining: 5.23s\n",
      "830:\tlearn: 1591.2185636\ttotal: 25.6s\tremaining: 5.2s\n",
      "831:\tlearn: 1591.0226387\ttotal: 25.6s\tremaining: 5.17s\n",
      "832:\tlearn: 1590.9071251\ttotal: 25.6s\tremaining: 5.14s\n",
      "833:\tlearn: 1590.7809218\ttotal: 25.7s\tremaining: 5.11s\n",
      "834:\tlearn: 1590.5781406\ttotal: 25.7s\tremaining: 5.08s\n",
      "835:\tlearn: 1590.3877672\ttotal: 25.7s\tremaining: 5.05s\n",
      "836:\tlearn: 1590.3159435\ttotal: 25.8s\tremaining: 5.02s\n",
      "837:\tlearn: 1590.2022075\ttotal: 25.8s\tremaining: 4.98s\n",
      "838:\tlearn: 1590.1486461\ttotal: 25.8s\tremaining: 4.95s\n",
      "839:\tlearn: 1590.0345890\ttotal: 25.8s\tremaining: 4.92s\n",
      "840:\tlearn: 1589.9681609\ttotal: 25.9s\tremaining: 4.89s\n",
      "841:\tlearn: 1589.8471870\ttotal: 25.9s\tremaining: 4.86s\n",
      "842:\tlearn: 1589.6559189\ttotal: 25.9s\tremaining: 4.83s\n",
      "843:\tlearn: 1589.5414035\ttotal: 25.9s\tremaining: 4.79s\n",
      "844:\tlearn: 1589.4060844\ttotal: 26s\tremaining: 4.76s\n",
      "845:\tlearn: 1589.2700635\ttotal: 26s\tremaining: 4.73s\n",
      "846:\tlearn: 1589.1809241\ttotal: 26s\tremaining: 4.7s\n",
      "847:\tlearn: 1589.0895153\ttotal: 26s\tremaining: 4.67s\n",
      "848:\tlearn: 1588.9923812\ttotal: 26.1s\tremaining: 4.64s\n",
      "849:\tlearn: 1588.7876271\ttotal: 26.1s\tremaining: 4.61s\n",
      "850:\tlearn: 1588.6911153\ttotal: 26.1s\tremaining: 4.57s\n",
      "851:\tlearn: 1588.6080206\ttotal: 26.1s\tremaining: 4.54s\n",
      "852:\tlearn: 1588.4078735\ttotal: 26.2s\tremaining: 4.51s\n",
      "853:\tlearn: 1588.2516196\ttotal: 26.2s\tremaining: 4.48s\n",
      "854:\tlearn: 1588.1374537\ttotal: 26.2s\tremaining: 4.45s\n",
      "855:\tlearn: 1587.9579655\ttotal: 26.3s\tremaining: 4.42s\n",
      "856:\tlearn: 1587.7059836\ttotal: 26.3s\tremaining: 4.39s\n",
      "857:\tlearn: 1587.5998543\ttotal: 26.3s\tremaining: 4.36s\n",
      "858:\tlearn: 1587.5419872\ttotal: 26.3s\tremaining: 4.32s\n",
      "859:\tlearn: 1587.3236959\ttotal: 26.4s\tremaining: 4.29s\n",
      "860:\tlearn: 1587.1872365\ttotal: 26.4s\tremaining: 4.26s\n",
      "861:\tlearn: 1587.1065823\ttotal: 26.4s\tremaining: 4.23s\n",
      "862:\tlearn: 1586.9911439\ttotal: 26.4s\tremaining: 4.2s\n",
      "863:\tlearn: 1586.8783478\ttotal: 26.5s\tremaining: 4.17s\n",
      "864:\tlearn: 1586.7435433\ttotal: 26.5s\tremaining: 4.13s\n",
      "865:\tlearn: 1586.4666533\ttotal: 26.5s\tremaining: 4.1s\n",
      "866:\tlearn: 1586.2363414\ttotal: 26.6s\tremaining: 4.07s\n",
      "867:\tlearn: 1586.1258975\ttotal: 26.6s\tremaining: 4.04s\n",
      "868:\tlearn: 1586.0436871\ttotal: 26.6s\tremaining: 4.01s\n",
      "869:\tlearn: 1585.8485647\ttotal: 26.6s\tremaining: 3.98s\n",
      "870:\tlearn: 1585.7090513\ttotal: 26.7s\tremaining: 3.95s\n",
      "871:\tlearn: 1585.5892537\ttotal: 26.7s\tremaining: 3.92s\n",
      "872:\tlearn: 1585.4228040\ttotal: 26.7s\tremaining: 3.89s\n",
      "873:\tlearn: 1585.2135531\ttotal: 26.8s\tremaining: 3.86s\n",
      "874:\tlearn: 1585.1159526\ttotal: 26.8s\tremaining: 3.83s\n",
      "875:\tlearn: 1584.9694220\ttotal: 26.8s\tremaining: 3.8s\n",
      "876:\tlearn: 1584.8250076\ttotal: 26.9s\tremaining: 3.77s\n",
      "877:\tlearn: 1584.7034590\ttotal: 26.9s\tremaining: 3.74s\n",
      "878:\tlearn: 1584.5273605\ttotal: 26.9s\tremaining: 3.71s\n",
      "879:\tlearn: 1584.3949853\ttotal: 27s\tremaining: 3.68s\n",
      "880:\tlearn: 1584.2911770\ttotal: 27s\tremaining: 3.65s\n",
      "881:\tlearn: 1584.1673523\ttotal: 27s\tremaining: 3.62s\n",
      "882:\tlearn: 1584.1241189\ttotal: 27.1s\tremaining: 3.58s\n",
      "883:\tlearn: 1584.0132641\ttotal: 27.1s\tremaining: 3.55s\n",
      "884:\tlearn: 1583.8721801\ttotal: 27.1s\tremaining: 3.52s\n",
      "885:\tlearn: 1583.7149577\ttotal: 27.1s\tremaining: 3.49s\n",
      "886:\tlearn: 1583.6887371\ttotal: 27.2s\tremaining: 3.46s\n",
      "887:\tlearn: 1583.5288134\ttotal: 27.2s\tremaining: 3.43s\n",
      "888:\tlearn: 1583.4422234\ttotal: 27.2s\tremaining: 3.4s\n",
      "889:\tlearn: 1583.2925625\ttotal: 27.2s\tremaining: 3.37s\n",
      "890:\tlearn: 1583.2352269\ttotal: 27.3s\tremaining: 3.33s\n",
      "891:\tlearn: 1583.1523508\ttotal: 27.3s\tremaining: 3.3s\n",
      "892:\tlearn: 1583.0650922\ttotal: 27.3s\tremaining: 3.27s\n",
      "893:\tlearn: 1582.9721643\ttotal: 27.3s\tremaining: 3.24s\n",
      "894:\tlearn: 1582.8305049\ttotal: 27.4s\tremaining: 3.21s\n",
      "895:\tlearn: 1582.7459123\ttotal: 27.4s\tremaining: 3.18s\n",
      "896:\tlearn: 1582.6624981\ttotal: 27.4s\tremaining: 3.15s\n",
      "897:\tlearn: 1582.5667508\ttotal: 27.4s\tremaining: 3.12s\n",
      "898:\tlearn: 1582.4534182\ttotal: 27.5s\tremaining: 3.09s\n",
      "899:\tlearn: 1582.2668544\ttotal: 27.5s\tremaining: 3.06s\n",
      "900:\tlearn: 1582.1658169\ttotal: 27.5s\tremaining: 3.02s\n",
      "901:\tlearn: 1581.9711730\ttotal: 27.6s\tremaining: 2.99s\n",
      "902:\tlearn: 1581.8539208\ttotal: 27.6s\tremaining: 2.96s\n",
      "903:\tlearn: 1581.7313433\ttotal: 27.6s\tremaining: 2.93s\n",
      "904:\tlearn: 1581.5836229\ttotal: 27.6s\tremaining: 2.9s\n",
      "905:\tlearn: 1581.4837289\ttotal: 27.7s\tremaining: 2.87s\n",
      "906:\tlearn: 1581.4219940\ttotal: 27.7s\tremaining: 2.84s\n",
      "907:\tlearn: 1581.2232803\ttotal: 27.7s\tremaining: 2.81s\n",
      "908:\tlearn: 1581.1462392\ttotal: 27.7s\tremaining: 2.78s\n",
      "909:\tlearn: 1581.0336519\ttotal: 27.8s\tremaining: 2.75s\n",
      "910:\tlearn: 1580.9262606\ttotal: 27.8s\tremaining: 2.71s\n",
      "911:\tlearn: 1580.7874526\ttotal: 27.8s\tremaining: 2.68s\n",
      "912:\tlearn: 1580.6730477\ttotal: 27.8s\tremaining: 2.65s\n",
      "913:\tlearn: 1580.5570988\ttotal: 27.9s\tremaining: 2.62s\n",
      "914:\tlearn: 1580.4498350\ttotal: 27.9s\tremaining: 2.59s\n",
      "915:\tlearn: 1580.3722339\ttotal: 27.9s\tremaining: 2.56s\n",
      "916:\tlearn: 1580.2621059\ttotal: 28s\tremaining: 2.53s\n",
      "917:\tlearn: 1580.1077405\ttotal: 28s\tremaining: 2.5s\n",
      "918:\tlearn: 1580.0220497\ttotal: 28s\tremaining: 2.47s\n",
      "919:\tlearn: 1579.7856177\ttotal: 28s\tremaining: 2.44s\n",
      "920:\tlearn: 1579.6694951\ttotal: 28.1s\tremaining: 2.41s\n",
      "921:\tlearn: 1579.5433563\ttotal: 28.1s\tremaining: 2.38s\n",
      "922:\tlearn: 1579.4204011\ttotal: 28.1s\tremaining: 2.35s\n",
      "923:\tlearn: 1579.2656747\ttotal: 28.1s\tremaining: 2.31s\n",
      "924:\tlearn: 1579.1154548\ttotal: 28.2s\tremaining: 2.28s\n",
      "925:\tlearn: 1579.0278538\ttotal: 28.2s\tremaining: 2.25s\n",
      "926:\tlearn: 1578.9663671\ttotal: 28.2s\tremaining: 2.22s\n",
      "927:\tlearn: 1578.8384327\ttotal: 28.2s\tremaining: 2.19s\n",
      "928:\tlearn: 1578.6652526\ttotal: 28.3s\tremaining: 2.16s\n",
      "929:\tlearn: 1578.6050378\ttotal: 28.3s\tremaining: 2.13s\n",
      "930:\tlearn: 1578.4877407\ttotal: 28.3s\tremaining: 2.1s\n",
      "931:\tlearn: 1578.3862726\ttotal: 28.3s\tremaining: 2.07s\n",
      "932:\tlearn: 1578.2065013\ttotal: 28.4s\tremaining: 2.04s\n",
      "933:\tlearn: 1578.0452982\ttotal: 28.4s\tremaining: 2.01s\n",
      "934:\tlearn: 1577.8856784\ttotal: 28.4s\tremaining: 1.98s\n",
      "935:\tlearn: 1577.7435412\ttotal: 28.5s\tremaining: 1.95s\n",
      "936:\tlearn: 1577.6304724\ttotal: 28.5s\tremaining: 1.92s\n",
      "937:\tlearn: 1577.4836896\ttotal: 28.5s\tremaining: 1.88s\n",
      "938:\tlearn: 1577.4200750\ttotal: 28.5s\tremaining: 1.85s\n",
      "939:\tlearn: 1577.3356125\ttotal: 28.6s\tremaining: 1.82s\n",
      "940:\tlearn: 1577.1896311\ttotal: 28.6s\tremaining: 1.79s\n",
      "941:\tlearn: 1577.0394346\ttotal: 28.6s\tremaining: 1.76s\n",
      "942:\tlearn: 1576.8148225\ttotal: 28.6s\tremaining: 1.73s\n",
      "943:\tlearn: 1576.6792154\ttotal: 28.7s\tremaining: 1.7s\n",
      "944:\tlearn: 1576.5898117\ttotal: 28.7s\tremaining: 1.67s\n",
      "945:\tlearn: 1576.3631037\ttotal: 28.7s\tremaining: 1.64s\n",
      "946:\tlearn: 1576.3243972\ttotal: 28.7s\tremaining: 1.61s\n",
      "947:\tlearn: 1576.1849691\ttotal: 28.8s\tremaining: 1.58s\n",
      "948:\tlearn: 1576.0395254\ttotal: 28.8s\tremaining: 1.55s\n",
      "949:\tlearn: 1575.8034495\ttotal: 28.8s\tremaining: 1.52s\n",
      "950:\tlearn: 1575.6693468\ttotal: 28.9s\tremaining: 1.49s\n",
      "951:\tlearn: 1575.6091954\ttotal: 28.9s\tremaining: 1.46s\n",
      "952:\tlearn: 1575.5635668\ttotal: 28.9s\tremaining: 1.43s\n",
      "953:\tlearn: 1575.4907883\ttotal: 28.9s\tremaining: 1.39s\n",
      "954:\tlearn: 1575.3869608\ttotal: 29s\tremaining: 1.36s\n",
      "955:\tlearn: 1575.2620631\ttotal: 29s\tremaining: 1.33s\n",
      "956:\tlearn: 1575.0874598\ttotal: 29s\tremaining: 1.3s\n",
      "957:\tlearn: 1575.0050147\ttotal: 29.1s\tremaining: 1.27s\n",
      "958:\tlearn: 1574.9383162\ttotal: 29.1s\tremaining: 1.24s\n",
      "959:\tlearn: 1574.7761277\ttotal: 29.1s\tremaining: 1.21s\n",
      "960:\tlearn: 1574.6487212\ttotal: 29.2s\tremaining: 1.18s\n",
      "961:\tlearn: 1574.5554365\ttotal: 29.2s\tremaining: 1.15s\n",
      "962:\tlearn: 1574.4636221\ttotal: 29.2s\tremaining: 1.12s\n",
      "963:\tlearn: 1574.3669163\ttotal: 29.2s\tremaining: 1.09s\n",
      "964:\tlearn: 1574.2733549\ttotal: 29.3s\tremaining: 1.06s\n",
      "965:\tlearn: 1574.0699203\ttotal: 29.3s\tremaining: 1.03s\n",
      "966:\tlearn: 1573.9211932\ttotal: 29.3s\tremaining: 1s\n",
      "967:\tlearn: 1573.8488530\ttotal: 29.3s\tremaining: 970ms\n",
      "968:\tlearn: 1573.7635846\ttotal: 29.4s\tremaining: 940ms\n",
      "969:\tlearn: 1573.7028789\ttotal: 29.4s\tremaining: 909ms\n",
      "970:\tlearn: 1573.6106976\ttotal: 29.4s\tremaining: 879ms\n",
      "971:\tlearn: 1573.5166800\ttotal: 29.4s\tremaining: 848ms\n",
      "972:\tlearn: 1573.3043380\ttotal: 29.5s\tremaining: 818ms\n",
      "973:\tlearn: 1573.2153436\ttotal: 29.5s\tremaining: 788ms\n",
      "974:\tlearn: 1573.0767781\ttotal: 29.5s\tremaining: 757ms\n",
      "975:\tlearn: 1572.9288798\ttotal: 29.6s\tremaining: 727ms\n",
      "976:\tlearn: 1572.8066227\ttotal: 29.6s\tremaining: 696ms\n",
      "977:\tlearn: 1572.6331851\ttotal: 29.6s\tremaining: 666ms\n",
      "978:\tlearn: 1572.5328703\ttotal: 29.6s\tremaining: 636ms\n",
      "979:\tlearn: 1572.4819795\ttotal: 29.7s\tremaining: 605ms\n",
      "980:\tlearn: 1572.3929566\ttotal: 29.7s\tremaining: 575ms\n",
      "981:\tlearn: 1572.2951552\ttotal: 29.7s\tremaining: 545ms\n",
      "982:\tlearn: 1572.1834907\ttotal: 29.7s\tremaining: 514ms\n",
      "983:\tlearn: 1572.1129102\ttotal: 29.8s\tremaining: 484ms\n",
      "984:\tlearn: 1571.9948004\ttotal: 29.8s\tremaining: 454ms\n",
      "985:\tlearn: 1571.8476354\ttotal: 29.8s\tremaining: 423ms\n",
      "986:\tlearn: 1571.6970939\ttotal: 29.8s\tremaining: 393ms\n",
      "987:\tlearn: 1571.6051467\ttotal: 29.9s\tremaining: 363ms\n",
      "988:\tlearn: 1571.4476035\ttotal: 29.9s\tremaining: 333ms\n",
      "989:\tlearn: 1571.3236068\ttotal: 30s\tremaining: 303ms\n",
      "990:\tlearn: 1571.2166170\ttotal: 30s\tremaining: 272ms\n",
      "991:\tlearn: 1570.9481185\ttotal: 30s\tremaining: 242ms\n",
      "992:\tlearn: 1570.8526828\ttotal: 30.1s\tremaining: 212ms\n",
      "993:\tlearn: 1570.7779038\ttotal: 30.1s\tremaining: 182ms\n",
      "994:\tlearn: 1570.6348522\ttotal: 30.1s\tremaining: 151ms\n",
      "995:\tlearn: 1570.4780331\ttotal: 30.1s\tremaining: 121ms\n",
      "996:\tlearn: 1570.3214749\ttotal: 30.2s\tremaining: 90.8ms\n",
      "997:\tlearn: 1570.2518564\ttotal: 30.2s\tremaining: 60.5ms\n",
      "998:\tlearn: 1570.2024248\ttotal: 30.2s\tremaining: 30.3ms\n",
      "999:\tlearn: 1569.9779866\ttotal: 30.3s\tremaining: 0us\n",
      "CatBoost with OHE\n",
      "RMSE: 1639.9786314398411 Training time: 32.960219860076904 Prediction time: 0.16595196723937988\n",
      "CPU times: user 31.7 s, sys: 280 ms, total: 31.9 s\n",
      "Wall time: 33.1 s\n"
     ]
    }
   ],
   "source": [
    "%%time\n",
    "# CatBoost with OHE \n",
    "cb_model = CatBoostRegressor(random_state=42)\n",
    "\n",
    "start = time.time()\n",
    "cb_model.fit(features_train, target_train)\n",
    "end = time.time()\n",
    "cbohett = end - start\n",
    "\n",
    "start = time.time()\n",
    "predicted_valid = cb_model.predict(features_valid)\n",
    "end = time.time()\n",
    "cbohept = end - start\n",
    "\n",
    "cbohe_rmse_calc = mean_squared_error(target_valid, predicted_valid)**0.5\n",
    "\n",
    "print('CatBoost with OHE')\n",
    "print('RMSE:', cbohe_rmse_calc, 'Training time:', cbohett, 'Prediction time:', cbohept)"
   ]
  },
  {
   "cell_type": "code",
   "execution_count": 55,
   "metadata": {},
   "outputs": [
    {
     "name": "stdout",
     "output_type": "stream",
     "text": [
      "Learning rate set to 0.094212\n",
      "0:\tlearn: 4262.7670608\ttotal: 236ms\tremaining: 3m 55s\n",
      "1:\tlearn: 4028.6188093\ttotal: 424ms\tremaining: 3m 31s\n",
      "2:\tlearn: 3816.5030718\ttotal: 598ms\tremaining: 3m 18s\n",
      "3:\tlearn: 3617.6850434\ttotal: 790ms\tremaining: 3m 16s\n",
      "4:\tlearn: 3449.0523481\ttotal: 1.01s\tremaining: 3m 20s\n",
      "5:\tlearn: 3296.9608510\ttotal: 1.16s\tremaining: 3m 12s\n",
      "6:\tlearn: 3163.3646527\ttotal: 1.33s\tremaining: 3m 9s\n",
      "7:\tlearn: 3033.1659313\ttotal: 1.52s\tremaining: 3m 8s\n",
      "8:\tlearn: 2921.8177580\ttotal: 1.62s\tremaining: 2m 58s\n",
      "9:\tlearn: 2824.1457560\ttotal: 1.79s\tremaining: 2m 57s\n",
      "10:\tlearn: 2740.7603936\ttotal: 1.99s\tremaining: 2m 58s\n",
      "11:\tlearn: 2664.4771051\ttotal: 2.14s\tremaining: 2m 56s\n",
      "12:\tlearn: 2597.2588642\ttotal: 2.3s\tremaining: 2m 54s\n",
      "13:\tlearn: 2537.7390073\ttotal: 2.44s\tremaining: 2m 51s\n",
      "14:\tlearn: 2481.1122667\ttotal: 2.58s\tremaining: 2m 49s\n",
      "15:\tlearn: 2432.4523037\ttotal: 2.75s\tremaining: 2m 49s\n",
      "16:\tlearn: 2383.4630254\ttotal: 2.93s\tremaining: 2m 49s\n",
      "17:\tlearn: 2342.0381238\ttotal: 3.06s\tremaining: 2m 46s\n",
      "18:\tlearn: 2301.7577176\ttotal: 3.19s\tremaining: 2m 44s\n",
      "19:\tlearn: 2267.8898094\ttotal: 3.34s\tremaining: 2m 43s\n",
      "20:\tlearn: 2236.7837879\ttotal: 3.52s\tremaining: 2m 44s\n",
      "21:\tlearn: 2206.4303952\ttotal: 3.69s\tremaining: 2m 43s\n",
      "22:\tlearn: 2182.2641612\ttotal: 3.82s\tremaining: 2m 42s\n",
      "23:\tlearn: 2161.1205453\ttotal: 3.99s\tremaining: 2m 42s\n",
      "24:\tlearn: 2138.3303041\ttotal: 4.13s\tremaining: 2m 40s\n",
      "25:\tlearn: 2115.2718193\ttotal: 4.24s\tremaining: 2m 38s\n",
      "26:\tlearn: 2096.6577776\ttotal: 4.42s\tremaining: 2m 39s\n",
      "27:\tlearn: 2080.6680493\ttotal: 4.56s\tremaining: 2m 38s\n",
      "28:\tlearn: 2067.0204462\ttotal: 4.7s\tremaining: 2m 37s\n",
      "29:\tlearn: 2054.5190751\ttotal: 4.85s\tremaining: 2m 36s\n",
      "30:\tlearn: 2043.1219886\ttotal: 5s\tremaining: 2m 36s\n",
      "31:\tlearn: 2031.4847996\ttotal: 5.13s\tremaining: 2m 35s\n",
      "32:\tlearn: 2021.1306370\ttotal: 5.3s\tremaining: 2m 35s\n",
      "33:\tlearn: 2011.6440948\ttotal: 5.44s\tremaining: 2m 34s\n",
      "34:\tlearn: 2003.0946693\ttotal: 5.53s\tremaining: 2m 32s\n",
      "35:\tlearn: 1994.9870576\ttotal: 5.67s\tremaining: 2m 31s\n",
      "36:\tlearn: 1987.0101408\ttotal: 5.82s\tremaining: 2m 31s\n",
      "37:\tlearn: 1979.9292769\ttotal: 5.95s\tremaining: 2m 30s\n",
      "38:\tlearn: 1973.2260171\ttotal: 6.07s\tremaining: 2m 29s\n",
      "39:\tlearn: 1966.1608432\ttotal: 6.23s\tremaining: 2m 29s\n",
      "40:\tlearn: 1959.7015987\ttotal: 6.38s\tremaining: 2m 29s\n",
      "41:\tlearn: 1953.7456698\ttotal: 6.52s\tremaining: 2m 28s\n",
      "42:\tlearn: 1948.3265051\ttotal: 6.64s\tremaining: 2m 27s\n",
      "43:\tlearn: 1943.5360815\ttotal: 6.82s\tremaining: 2m 28s\n",
      "44:\tlearn: 1939.3172619\ttotal: 6.95s\tremaining: 2m 27s\n",
      "45:\tlearn: 1934.7553873\ttotal: 7.08s\tremaining: 2m 26s\n",
      "46:\tlearn: 1930.0850595\ttotal: 7.21s\tremaining: 2m 26s\n",
      "47:\tlearn: 1926.7180886\ttotal: 7.33s\tremaining: 2m 25s\n",
      "48:\tlearn: 1921.8646093\ttotal: 7.44s\tremaining: 2m 24s\n",
      "49:\tlearn: 1918.0134544\ttotal: 7.61s\tremaining: 2m 24s\n",
      "50:\tlearn: 1915.2296281\ttotal: 7.74s\tremaining: 2m 24s\n",
      "51:\tlearn: 1912.0697558\ttotal: 7.91s\tremaining: 2m 24s\n",
      "52:\tlearn: 1908.7990594\ttotal: 8.02s\tremaining: 2m 23s\n",
      "53:\tlearn: 1906.4387755\ttotal: 8.19s\tremaining: 2m 23s\n",
      "54:\tlearn: 1902.7905749\ttotal: 8.35s\tremaining: 2m 23s\n",
      "55:\tlearn: 1899.2897509\ttotal: 8.46s\tremaining: 2m 22s\n",
      "56:\tlearn: 1897.0619414\ttotal: 8.58s\tremaining: 2m 21s\n",
      "57:\tlearn: 1894.7377419\ttotal: 8.71s\tremaining: 2m 21s\n",
      "58:\tlearn: 1892.7976563\ttotal: 8.85s\tremaining: 2m 21s\n",
      "59:\tlearn: 1890.7534334\ttotal: 9.06s\tremaining: 2m 21s\n",
      "60:\tlearn: 1886.5631356\ttotal: 9.24s\tremaining: 2m 22s\n",
      "61:\tlearn: 1882.7466730\ttotal: 9.37s\tremaining: 2m 21s\n",
      "62:\tlearn: 1879.2480723\ttotal: 9.53s\tremaining: 2m 21s\n",
      "63:\tlearn: 1876.8148538\ttotal: 9.74s\tremaining: 2m 22s\n",
      "64:\tlearn: 1874.9797730\ttotal: 9.9s\tremaining: 2m 22s\n",
      "65:\tlearn: 1872.2228112\ttotal: 10.1s\tremaining: 2m 22s\n",
      "66:\tlearn: 1870.7313530\ttotal: 10.3s\tremaining: 2m 22s\n",
      "67:\tlearn: 1869.1710500\ttotal: 10.4s\tremaining: 2m 22s\n",
      "68:\tlearn: 1866.8465318\ttotal: 10.5s\tremaining: 2m 21s\n",
      "69:\tlearn: 1864.4577019\ttotal: 10.6s\tremaining: 2m 21s\n",
      "70:\tlearn: 1862.7082988\ttotal: 10.8s\tremaining: 2m 21s\n",
      "71:\tlearn: 1860.1674956\ttotal: 10.9s\tremaining: 2m 20s\n",
      "72:\tlearn: 1857.9033867\ttotal: 11s\tremaining: 2m 19s\n",
      "73:\tlearn: 1856.3658251\ttotal: 11.2s\tremaining: 2m 19s\n",
      "74:\tlearn: 1854.8635722\ttotal: 11.3s\tremaining: 2m 19s\n",
      "75:\tlearn: 1852.9023978\ttotal: 11.4s\tremaining: 2m 18s\n",
      "76:\tlearn: 1851.3875723\ttotal: 11.5s\tremaining: 2m 18s\n",
      "77:\tlearn: 1849.7672213\ttotal: 11.7s\tremaining: 2m 17s\n",
      "78:\tlearn: 1847.4820430\ttotal: 11.8s\tremaining: 2m 17s\n",
      "79:\tlearn: 1846.1782663\ttotal: 11.9s\tremaining: 2m 17s\n",
      "80:\tlearn: 1844.1963873\ttotal: 12.1s\tremaining: 2m 16s\n",
      "81:\tlearn: 1842.4953350\ttotal: 12.1s\tremaining: 2m 15s\n",
      "82:\tlearn: 1840.8720012\ttotal: 12.3s\tremaining: 2m 15s\n",
      "83:\tlearn: 1838.5787579\ttotal: 12.4s\tremaining: 2m 15s\n",
      "84:\tlearn: 1837.0545811\ttotal: 12.6s\tremaining: 2m 15s\n",
      "85:\tlearn: 1835.7047317\ttotal: 12.8s\tremaining: 2m 15s\n",
      "86:\tlearn: 1834.0409654\ttotal: 12.9s\tremaining: 2m 15s\n",
      "87:\tlearn: 1832.2109585\ttotal: 13s\tremaining: 2m 14s\n",
      "88:\tlearn: 1830.9720127\ttotal: 13.1s\tremaining: 2m 14s\n",
      "89:\tlearn: 1829.0555303\ttotal: 13.3s\tremaining: 2m 14s\n",
      "90:\tlearn: 1827.4447667\ttotal: 13.4s\tremaining: 2m 13s\n",
      "91:\tlearn: 1825.2788662\ttotal: 13.5s\tremaining: 2m 13s\n",
      "92:\tlearn: 1823.2924560\ttotal: 13.7s\tremaining: 2m 13s\n",
      "93:\tlearn: 1821.3783323\ttotal: 13.8s\tremaining: 2m 13s\n",
      "94:\tlearn: 1820.1613307\ttotal: 14s\tremaining: 2m 13s\n",
      "95:\tlearn: 1819.0848302\ttotal: 14.1s\tremaining: 2m 13s\n",
      "96:\tlearn: 1817.3857451\ttotal: 14.3s\tremaining: 2m 13s\n",
      "97:\tlearn: 1815.9811306\ttotal: 14.4s\tremaining: 2m 12s\n",
      "98:\tlearn: 1814.7552194\ttotal: 14.5s\tremaining: 2m 12s\n",
      "99:\tlearn: 1814.2716415\ttotal: 14.7s\tremaining: 2m 12s\n",
      "100:\tlearn: 1813.3282973\ttotal: 14.8s\tremaining: 2m 12s\n",
      "101:\tlearn: 1812.1446030\ttotal: 15s\tremaining: 2m 11s\n",
      "102:\tlearn: 1810.0341468\ttotal: 15.1s\tremaining: 2m 11s\n",
      "103:\tlearn: 1808.6827387\ttotal: 15.3s\tremaining: 2m 11s\n",
      "104:\tlearn: 1807.8083921\ttotal: 15.4s\tremaining: 2m 11s\n",
      "105:\tlearn: 1806.4136838\ttotal: 15.6s\tremaining: 2m 11s\n",
      "106:\tlearn: 1804.7311581\ttotal: 15.7s\tremaining: 2m 11s\n",
      "107:\tlearn: 1802.6574045\ttotal: 15.9s\tremaining: 2m 11s\n",
      "108:\tlearn: 1801.4658450\ttotal: 16s\tremaining: 2m 10s\n",
      "109:\tlearn: 1800.4647536\ttotal: 16.2s\tremaining: 2m 10s\n",
      "110:\tlearn: 1799.0669250\ttotal: 16.3s\tremaining: 2m 10s\n",
      "111:\tlearn: 1797.7321193\ttotal: 16.4s\tremaining: 2m 10s\n",
      "112:\tlearn: 1796.4395753\ttotal: 16.6s\tremaining: 2m 10s\n",
      "113:\tlearn: 1794.8034665\ttotal: 16.8s\tremaining: 2m 10s\n",
      "114:\tlearn: 1793.8017795\ttotal: 16.9s\tremaining: 2m 10s\n",
      "115:\tlearn: 1792.6638680\ttotal: 17.1s\tremaining: 2m 10s\n",
      "116:\tlearn: 1791.8035883\ttotal: 17.2s\tremaining: 2m 9s\n",
      "117:\tlearn: 1790.6480200\ttotal: 17.3s\tremaining: 2m 9s\n",
      "118:\tlearn: 1789.8840885\ttotal: 17.5s\tremaining: 2m 9s\n",
      "119:\tlearn: 1788.9902344\ttotal: 17.6s\tremaining: 2m 8s\n",
      "120:\tlearn: 1788.0244847\ttotal: 17.8s\tremaining: 2m 9s\n",
      "121:\tlearn: 1787.0957922\ttotal: 17.9s\tremaining: 2m 9s\n",
      "122:\tlearn: 1786.4221492\ttotal: 18.1s\tremaining: 2m 8s\n",
      "123:\tlearn: 1785.5551745\ttotal: 18.2s\tremaining: 2m 8s\n",
      "124:\tlearn: 1784.4618004\ttotal: 18.4s\tremaining: 2m 8s\n",
      "125:\tlearn: 1783.3109306\ttotal: 18.6s\tremaining: 2m 8s\n",
      "126:\tlearn: 1781.8990080\ttotal: 18.8s\tremaining: 2m 8s\n",
      "127:\tlearn: 1781.3367845\ttotal: 18.9s\tremaining: 2m 8s\n",
      "128:\tlearn: 1780.3632487\ttotal: 19s\tremaining: 2m 8s\n",
      "129:\tlearn: 1778.8667159\ttotal: 19.2s\tremaining: 2m 8s\n",
      "130:\tlearn: 1777.7857842\ttotal: 19.4s\tremaining: 2m 8s\n",
      "131:\tlearn: 1776.7090046\ttotal: 19.5s\tremaining: 2m 8s\n",
      "132:\tlearn: 1775.4371228\ttotal: 19.7s\tremaining: 2m 8s\n",
      "133:\tlearn: 1774.6942701\ttotal: 19.9s\tremaining: 2m 8s\n",
      "134:\tlearn: 1773.6724727\ttotal: 20s\tremaining: 2m 7s\n",
      "135:\tlearn: 1772.8784622\ttotal: 20.1s\tremaining: 2m 7s\n",
      "136:\tlearn: 1771.5272115\ttotal: 20.3s\tremaining: 2m 7s\n",
      "137:\tlearn: 1770.3692546\ttotal: 20.4s\tremaining: 2m 7s\n",
      "138:\tlearn: 1769.8698919\ttotal: 20.5s\tremaining: 2m 7s\n",
      "139:\tlearn: 1769.2595685\ttotal: 20.7s\tremaining: 2m 7s\n",
      "140:\tlearn: 1768.7756567\ttotal: 20.9s\tremaining: 2m 7s\n",
      "141:\tlearn: 1767.8991653\ttotal: 21.1s\tremaining: 2m 7s\n",
      "142:\tlearn: 1767.1225533\ttotal: 21.2s\tremaining: 2m 7s\n",
      "143:\tlearn: 1766.0323712\ttotal: 21.4s\tremaining: 2m 6s\n",
      "144:\tlearn: 1765.1107712\ttotal: 21.5s\tremaining: 2m 6s\n",
      "145:\tlearn: 1764.6524414\ttotal: 21.7s\tremaining: 2m 6s\n",
      "146:\tlearn: 1763.7299806\ttotal: 21.8s\tremaining: 2m 6s\n",
      "147:\tlearn: 1762.9229262\ttotal: 21.9s\tremaining: 2m 6s\n",
      "148:\tlearn: 1761.6748525\ttotal: 22.1s\tremaining: 2m 6s\n",
      "149:\tlearn: 1761.1545709\ttotal: 22.3s\tremaining: 2m 6s\n",
      "150:\tlearn: 1760.4907718\ttotal: 22.5s\tremaining: 2m 6s\n",
      "151:\tlearn: 1760.0189911\ttotal: 22.6s\tremaining: 2m 6s\n",
      "152:\tlearn: 1759.1649774\ttotal: 22.8s\tremaining: 2m 6s\n",
      "153:\tlearn: 1758.1666490\ttotal: 22.9s\tremaining: 2m 5s\n",
      "154:\tlearn: 1757.6535894\ttotal: 23.1s\tremaining: 2m 5s\n",
      "155:\tlearn: 1757.1309185\ttotal: 23.3s\tremaining: 2m 5s\n",
      "156:\tlearn: 1756.6523592\ttotal: 23.5s\tremaining: 2m 6s\n",
      "157:\tlearn: 1755.9668501\ttotal: 23.6s\tremaining: 2m 6s\n",
      "158:\tlearn: 1755.2035520\ttotal: 23.8s\tremaining: 2m 6s\n",
      "159:\tlearn: 1754.6195139\ttotal: 24s\tremaining: 2m 5s\n",
      "160:\tlearn: 1753.8455398\ttotal: 24.2s\tremaining: 2m 6s\n",
      "161:\tlearn: 1752.8930122\ttotal: 24.3s\tremaining: 2m 5s\n",
      "162:\tlearn: 1752.2114879\ttotal: 24.5s\tremaining: 2m 5s\n",
      "163:\tlearn: 1751.6146369\ttotal: 24.6s\tremaining: 2m 5s\n",
      "164:\tlearn: 1750.1837503\ttotal: 24.7s\tremaining: 2m 5s\n",
      "165:\tlearn: 1749.8274321\ttotal: 24.9s\tremaining: 2m 5s\n",
      "166:\tlearn: 1749.1306259\ttotal: 25s\tremaining: 2m 4s\n",
      "167:\tlearn: 1748.3463480\ttotal: 25.2s\tremaining: 2m 4s\n",
      "168:\tlearn: 1747.4591373\ttotal: 25.3s\tremaining: 2m 4s\n",
      "169:\tlearn: 1746.5739626\ttotal: 25.4s\tremaining: 2m 4s\n",
      "170:\tlearn: 1745.9066202\ttotal: 25.7s\tremaining: 2m 4s\n",
      "171:\tlearn: 1745.3623464\ttotal: 25.8s\tremaining: 2m 4s\n",
      "172:\tlearn: 1744.9034632\ttotal: 26s\tremaining: 2m 4s\n",
      "173:\tlearn: 1744.2138186\ttotal: 26.1s\tremaining: 2m 4s\n",
      "174:\tlearn: 1743.2435820\ttotal: 26.3s\tremaining: 2m 4s\n",
      "175:\tlearn: 1742.6602621\ttotal: 26.5s\tremaining: 2m 3s\n",
      "176:\tlearn: 1741.7708860\ttotal: 26.7s\tremaining: 2m 3s\n",
      "177:\tlearn: 1740.9025669\ttotal: 26.8s\tremaining: 2m 3s\n",
      "178:\tlearn: 1740.3803244\ttotal: 26.9s\tremaining: 2m 3s\n",
      "179:\tlearn: 1739.8859274\ttotal: 27.1s\tremaining: 2m 3s\n",
      "180:\tlearn: 1739.1123007\ttotal: 27.2s\tremaining: 2m 3s\n",
      "181:\tlearn: 1738.4215113\ttotal: 27.3s\tremaining: 2m 2s\n",
      "182:\tlearn: 1737.6202397\ttotal: 27.5s\tremaining: 2m 2s\n",
      "183:\tlearn: 1736.9777155\ttotal: 27.7s\tremaining: 2m 2s\n",
      "184:\tlearn: 1736.4302715\ttotal: 27.8s\tremaining: 2m 2s\n",
      "185:\tlearn: 1735.2983501\ttotal: 28s\tremaining: 2m 2s\n",
      "186:\tlearn: 1734.9388404\ttotal: 28.1s\tremaining: 2m 2s\n",
      "187:\tlearn: 1734.1554748\ttotal: 28.2s\tremaining: 2m 1s\n",
      "188:\tlearn: 1733.4068820\ttotal: 28.4s\tremaining: 2m 1s\n",
      "189:\tlearn: 1732.8400986\ttotal: 28.5s\tremaining: 2m 1s\n",
      "190:\tlearn: 1732.2545716\ttotal: 28.6s\tremaining: 2m 1s\n",
      "191:\tlearn: 1731.5838330\ttotal: 28.8s\tremaining: 2m 1s\n",
      "192:\tlearn: 1731.0217085\ttotal: 28.9s\tremaining: 2m\n",
      "193:\tlearn: 1730.3862109\ttotal: 29s\tremaining: 2m\n",
      "194:\tlearn: 1729.5337616\ttotal: 29.2s\tremaining: 2m\n",
      "195:\tlearn: 1729.0141587\ttotal: 29.3s\tremaining: 2m\n",
      "196:\tlearn: 1728.5790382\ttotal: 29.5s\tremaining: 2m\n",
      "197:\tlearn: 1727.8410132\ttotal: 29.6s\tremaining: 1m 59s\n",
      "198:\tlearn: 1727.0243202\ttotal: 29.7s\tremaining: 1m 59s\n",
      "199:\tlearn: 1726.0357507\ttotal: 29.9s\tremaining: 1m 59s\n",
      "200:\tlearn: 1725.5744155\ttotal: 30s\tremaining: 1m 59s\n",
      "201:\tlearn: 1724.8646438\ttotal: 30.1s\tremaining: 1m 59s\n",
      "202:\tlearn: 1724.1244215\ttotal: 30.2s\tremaining: 1m 58s\n",
      "203:\tlearn: 1723.0468988\ttotal: 30.4s\tremaining: 1m 58s\n",
      "204:\tlearn: 1722.5770474\ttotal: 30.5s\tremaining: 1m 58s\n",
      "205:\tlearn: 1722.2620728\ttotal: 30.7s\tremaining: 1m 58s\n",
      "206:\tlearn: 1721.7115454\ttotal: 30.8s\tremaining: 1m 58s\n",
      "207:\tlearn: 1721.2010490\ttotal: 31s\tremaining: 1m 57s\n",
      "208:\tlearn: 1720.7300700\ttotal: 31.1s\tremaining: 1m 57s\n",
      "209:\tlearn: 1720.2877444\ttotal: 31.3s\tremaining: 1m 57s\n",
      "210:\tlearn: 1719.9426415\ttotal: 31.4s\tremaining: 1m 57s\n",
      "211:\tlearn: 1719.2785711\ttotal: 31.5s\tremaining: 1m 57s\n",
      "212:\tlearn: 1718.6771225\ttotal: 31.7s\tremaining: 1m 57s\n",
      "213:\tlearn: 1718.0406625\ttotal: 31.8s\tremaining: 1m 56s\n",
      "214:\tlearn: 1717.6608226\ttotal: 31.9s\tremaining: 1m 56s\n",
      "215:\tlearn: 1717.2769493\ttotal: 32.1s\tremaining: 1m 56s\n",
      "216:\tlearn: 1716.7344140\ttotal: 32.2s\tremaining: 1m 56s\n",
      "217:\tlearn: 1716.1846878\ttotal: 32.3s\tremaining: 1m 56s\n",
      "218:\tlearn: 1715.7531529\ttotal: 32.4s\tremaining: 1m 55s\n",
      "219:\tlearn: 1715.1255054\ttotal: 32.5s\tremaining: 1m 55s\n",
      "220:\tlearn: 1714.6491993\ttotal: 32.7s\tremaining: 1m 55s\n",
      "221:\tlearn: 1714.0979940\ttotal: 32.8s\tremaining: 1m 55s\n",
      "222:\tlearn: 1713.6431633\ttotal: 33s\tremaining: 1m 54s\n",
      "223:\tlearn: 1713.2720159\ttotal: 33.1s\tremaining: 1m 54s\n",
      "224:\tlearn: 1712.8241531\ttotal: 33.2s\tremaining: 1m 54s\n",
      "225:\tlearn: 1712.3250919\ttotal: 33.3s\tremaining: 1m 54s\n",
      "226:\tlearn: 1711.7093894\ttotal: 33.5s\tremaining: 1m 53s\n",
      "227:\tlearn: 1711.2530352\ttotal: 33.6s\tremaining: 1m 53s\n",
      "228:\tlearn: 1710.9007087\ttotal: 33.7s\tremaining: 1m 53s\n",
      "229:\tlearn: 1710.5758077\ttotal: 33.8s\tremaining: 1m 53s\n",
      "230:\tlearn: 1710.0362123\ttotal: 34s\tremaining: 1m 53s\n",
      "231:\tlearn: 1709.5235083\ttotal: 34.1s\tremaining: 1m 52s\n",
      "232:\tlearn: 1708.9841104\ttotal: 34.3s\tremaining: 1m 52s\n",
      "233:\tlearn: 1708.3589401\ttotal: 34.4s\tremaining: 1m 52s\n",
      "234:\tlearn: 1707.8837933\ttotal: 34.5s\tremaining: 1m 52s\n",
      "235:\tlearn: 1707.4188653\ttotal: 34.7s\tremaining: 1m 52s\n",
      "236:\tlearn: 1706.9040169\ttotal: 34.8s\tremaining: 1m 51s\n",
      "237:\tlearn: 1706.4478578\ttotal: 34.9s\tremaining: 1m 51s\n",
      "238:\tlearn: 1705.9160547\ttotal: 35s\tremaining: 1m 51s\n",
      "239:\tlearn: 1705.5354407\ttotal: 35.1s\tremaining: 1m 51s\n",
      "240:\tlearn: 1705.2028345\ttotal: 35.3s\tremaining: 1m 51s\n",
      "241:\tlearn: 1704.7731330\ttotal: 35.4s\tremaining: 1m 50s\n",
      "242:\tlearn: 1704.4267006\ttotal: 35.6s\tremaining: 1m 50s\n",
      "243:\tlearn: 1704.2510156\ttotal: 35.7s\tremaining: 1m 50s\n",
      "244:\tlearn: 1703.8800666\ttotal: 35.9s\tremaining: 1m 50s\n",
      "245:\tlearn: 1703.4267150\ttotal: 36s\tremaining: 1m 50s\n",
      "246:\tlearn: 1702.8426001\ttotal: 36.2s\tremaining: 1m 50s\n",
      "247:\tlearn: 1702.5499026\ttotal: 36.3s\tremaining: 1m 49s\n",
      "248:\tlearn: 1702.1201906\ttotal: 36.3s\tremaining: 1m 49s\n",
      "249:\tlearn: 1701.7265627\ttotal: 36.5s\tremaining: 1m 49s\n",
      "250:\tlearn: 1701.4493208\ttotal: 36.6s\tremaining: 1m 49s\n",
      "251:\tlearn: 1700.9011818\ttotal: 36.7s\tremaining: 1m 48s\n",
      "252:\tlearn: 1700.5208794\ttotal: 36.8s\tremaining: 1m 48s\n",
      "253:\tlearn: 1699.9553419\ttotal: 37s\tremaining: 1m 48s\n",
      "254:\tlearn: 1699.1931949\ttotal: 37.1s\tremaining: 1m 48s\n",
      "255:\tlearn: 1698.7684381\ttotal: 37.2s\tremaining: 1m 48s\n",
      "256:\tlearn: 1698.3987879\ttotal: 37.4s\tremaining: 1m 48s\n",
      "257:\tlearn: 1698.0094253\ttotal: 37.6s\tremaining: 1m 48s\n",
      "258:\tlearn: 1697.5341463\ttotal: 37.7s\tremaining: 1m 47s\n",
      "259:\tlearn: 1697.0300987\ttotal: 37.9s\tremaining: 1m 47s\n",
      "260:\tlearn: 1696.8178045\ttotal: 38s\tremaining: 1m 47s\n",
      "261:\tlearn: 1696.4181026\ttotal: 38.1s\tremaining: 1m 47s\n",
      "262:\tlearn: 1696.1240620\ttotal: 38.2s\tremaining: 1m 47s\n",
      "263:\tlearn: 1695.8738465\ttotal: 38.3s\tremaining: 1m 46s\n",
      "264:\tlearn: 1695.4236128\ttotal: 38.5s\tremaining: 1m 46s\n",
      "265:\tlearn: 1694.9693188\ttotal: 38.6s\tremaining: 1m 46s\n",
      "266:\tlearn: 1694.4407506\ttotal: 38.7s\tremaining: 1m 46s\n",
      "267:\tlearn: 1693.9252034\ttotal: 38.9s\tremaining: 1m 46s\n",
      "268:\tlearn: 1693.6523442\ttotal: 39s\tremaining: 1m 45s\n",
      "269:\tlearn: 1693.1926581\ttotal: 39.1s\tremaining: 1m 45s\n",
      "270:\tlearn: 1692.7137347\ttotal: 39.4s\tremaining: 1m 45s\n",
      "271:\tlearn: 1692.4090179\ttotal: 39.5s\tremaining: 1m 45s\n",
      "272:\tlearn: 1692.0481687\ttotal: 39.6s\tremaining: 1m 45s\n",
      "273:\tlearn: 1691.6416885\ttotal: 39.8s\tremaining: 1m 45s\n",
      "274:\tlearn: 1691.1461564\ttotal: 39.9s\tremaining: 1m 45s\n",
      "275:\tlearn: 1690.5283534\ttotal: 40s\tremaining: 1m 45s\n",
      "276:\tlearn: 1690.3132408\ttotal: 40.2s\tremaining: 1m 44s\n",
      "277:\tlearn: 1689.9667920\ttotal: 40.3s\tremaining: 1m 44s\n",
      "278:\tlearn: 1689.3755167\ttotal: 40.5s\tremaining: 1m 44s\n",
      "279:\tlearn: 1688.9354340\ttotal: 40.7s\tremaining: 1m 44s\n",
      "280:\tlearn: 1688.5226333\ttotal: 40.8s\tremaining: 1m 44s\n",
      "281:\tlearn: 1688.2267107\ttotal: 40.9s\tremaining: 1m 44s\n",
      "282:\tlearn: 1687.8275175\ttotal: 41s\tremaining: 1m 43s\n",
      "283:\tlearn: 1687.3657816\ttotal: 41.2s\tremaining: 1m 43s\n",
      "284:\tlearn: 1687.1440705\ttotal: 41.3s\tremaining: 1m 43s\n",
      "285:\tlearn: 1686.8498810\ttotal: 41.4s\tremaining: 1m 43s\n",
      "286:\tlearn: 1686.4020326\ttotal: 41.5s\tremaining: 1m 43s\n",
      "287:\tlearn: 1686.2085854\ttotal: 41.6s\tremaining: 1m 42s\n",
      "288:\tlearn: 1685.8697553\ttotal: 41.8s\tremaining: 1m 42s\n",
      "289:\tlearn: 1685.5666394\ttotal: 41.9s\tremaining: 1m 42s\n",
      "290:\tlearn: 1685.1910221\ttotal: 42s\tremaining: 1m 42s\n",
      "291:\tlearn: 1684.6689255\ttotal: 42.1s\tremaining: 1m 42s\n",
      "292:\tlearn: 1684.2020059\ttotal: 42.3s\tremaining: 1m 41s\n",
      "293:\tlearn: 1683.6604745\ttotal: 42.4s\tremaining: 1m 41s\n",
      "294:\tlearn: 1683.4405812\ttotal: 42.6s\tremaining: 1m 41s\n",
      "295:\tlearn: 1683.0644201\ttotal: 42.8s\tremaining: 1m 41s\n",
      "296:\tlearn: 1682.5062194\ttotal: 42.9s\tremaining: 1m 41s\n",
      "297:\tlearn: 1682.0184177\ttotal: 43s\tremaining: 1m 41s\n",
      "298:\tlearn: 1681.8435590\ttotal: 43.1s\tremaining: 1m 40s\n",
      "299:\tlearn: 1681.5549246\ttotal: 43.2s\tremaining: 1m 40s\n",
      "300:\tlearn: 1681.2146486\ttotal: 43.3s\tremaining: 1m 40s\n",
      "301:\tlearn: 1681.0422353\ttotal: 43.5s\tremaining: 1m 40s\n",
      "302:\tlearn: 1680.5387933\ttotal: 43.6s\tremaining: 1m 40s\n",
      "303:\tlearn: 1680.1966799\ttotal: 43.8s\tremaining: 1m 40s\n",
      "304:\tlearn: 1679.7351087\ttotal: 43.9s\tremaining: 1m 40s\n",
      "305:\tlearn: 1679.5138710\ttotal: 44s\tremaining: 1m 39s\n",
      "306:\tlearn: 1679.3120194\ttotal: 44.1s\tremaining: 1m 39s\n",
      "307:\tlearn: 1678.7710694\ttotal: 44.3s\tremaining: 1m 39s\n",
      "308:\tlearn: 1678.3835228\ttotal: 44.4s\tremaining: 1m 39s\n",
      "309:\tlearn: 1678.0167491\ttotal: 44.5s\tremaining: 1m 39s\n",
      "310:\tlearn: 1677.4336561\ttotal: 44.7s\tremaining: 1m 39s\n",
      "311:\tlearn: 1677.1900956\ttotal: 44.8s\tremaining: 1m 38s\n",
      "312:\tlearn: 1676.9756872\ttotal: 44.9s\tremaining: 1m 38s\n",
      "313:\tlearn: 1676.6303557\ttotal: 45.1s\tremaining: 1m 38s\n",
      "314:\tlearn: 1676.2554844\ttotal: 45.2s\tremaining: 1m 38s\n",
      "315:\tlearn: 1675.7979056\ttotal: 45.3s\tremaining: 1m 37s\n",
      "316:\tlearn: 1675.5470630\ttotal: 45.4s\tremaining: 1m 37s\n",
      "317:\tlearn: 1675.2709855\ttotal: 45.5s\tremaining: 1m 37s\n",
      "318:\tlearn: 1674.8393400\ttotal: 45.6s\tremaining: 1m 37s\n",
      "319:\tlearn: 1674.4674897\ttotal: 45.8s\tremaining: 1m 37s\n",
      "320:\tlearn: 1674.0269787\ttotal: 45.9s\tremaining: 1m 37s\n",
      "321:\tlearn: 1673.8555830\ttotal: 46s\tremaining: 1m 36s\n",
      "322:\tlearn: 1673.3332051\ttotal: 46.2s\tremaining: 1m 36s\n",
      "323:\tlearn: 1672.9639733\ttotal: 46.3s\tremaining: 1m 36s\n",
      "324:\tlearn: 1672.6788060\ttotal: 46.4s\tremaining: 1m 36s\n",
      "325:\tlearn: 1672.2507454\ttotal: 46.6s\tremaining: 1m 36s\n",
      "326:\tlearn: 1671.9513579\ttotal: 46.7s\tremaining: 1m 36s\n",
      "327:\tlearn: 1671.6140986\ttotal: 46.8s\tremaining: 1m 35s\n",
      "328:\tlearn: 1671.1793070\ttotal: 47s\tremaining: 1m 35s\n",
      "329:\tlearn: 1670.9320770\ttotal: 47.1s\tremaining: 1m 35s\n",
      "330:\tlearn: 1670.7392217\ttotal: 47.3s\tremaining: 1m 35s\n",
      "331:\tlearn: 1670.4825014\ttotal: 47.5s\tremaining: 1m 35s\n",
      "332:\tlearn: 1670.2105754\ttotal: 47.6s\tremaining: 1m 35s\n",
      "333:\tlearn: 1669.9857411\ttotal: 47.7s\tremaining: 1m 35s\n",
      "334:\tlearn: 1669.7287819\ttotal: 47.9s\tremaining: 1m 35s\n",
      "335:\tlearn: 1669.4985968\ttotal: 48.1s\tremaining: 1m 34s\n",
      "336:\tlearn: 1669.1396877\ttotal: 48.2s\tremaining: 1m 34s\n",
      "337:\tlearn: 1668.9805312\ttotal: 48.3s\tremaining: 1m 34s\n",
      "338:\tlearn: 1668.6201639\ttotal: 48.5s\tremaining: 1m 34s\n",
      "339:\tlearn: 1668.2600935\ttotal: 48.6s\tremaining: 1m 34s\n",
      "340:\tlearn: 1667.8950043\ttotal: 48.7s\tremaining: 1m 34s\n",
      "341:\tlearn: 1667.6274737\ttotal: 48.9s\tremaining: 1m 34s\n",
      "342:\tlearn: 1667.4260791\ttotal: 49s\tremaining: 1m 33s\n",
      "343:\tlearn: 1667.3284611\ttotal: 49.1s\tremaining: 1m 33s\n",
      "344:\tlearn: 1667.0042785\ttotal: 49.2s\tremaining: 1m 33s\n",
      "345:\tlearn: 1666.6774313\ttotal: 49.3s\tremaining: 1m 33s\n",
      "346:\tlearn: 1666.0098552\ttotal: 49.4s\tremaining: 1m 33s\n",
      "347:\tlearn: 1665.7116478\ttotal: 49.6s\tremaining: 1m 32s\n",
      "348:\tlearn: 1665.3524347\ttotal: 49.7s\tremaining: 1m 32s\n",
      "349:\tlearn: 1665.1827427\ttotal: 49.8s\tremaining: 1m 32s\n",
      "350:\tlearn: 1665.0494284\ttotal: 49.9s\tremaining: 1m 32s\n",
      "351:\tlearn: 1664.9327520\ttotal: 50s\tremaining: 1m 32s\n",
      "352:\tlearn: 1664.8332470\ttotal: 50.2s\tremaining: 1m 31s\n",
      "353:\tlearn: 1664.4956262\ttotal: 50.3s\tremaining: 1m 31s\n",
      "354:\tlearn: 1664.3222928\ttotal: 50.5s\tremaining: 1m 31s\n",
      "355:\tlearn: 1663.7499384\ttotal: 50.6s\tremaining: 1m 31s\n",
      "356:\tlearn: 1663.4699408\ttotal: 50.8s\tremaining: 1m 31s\n",
      "357:\tlearn: 1663.1474125\ttotal: 50.9s\tremaining: 1m 31s\n",
      "358:\tlearn: 1662.7854231\ttotal: 51s\tremaining: 1m 31s\n",
      "359:\tlearn: 1662.2779521\ttotal: 51.2s\tremaining: 1m 30s\n",
      "360:\tlearn: 1662.1014924\ttotal: 51.3s\tremaining: 1m 30s\n",
      "361:\tlearn: 1661.7074932\ttotal: 51.5s\tremaining: 1m 30s\n",
      "362:\tlearn: 1661.4959311\ttotal: 51.6s\tremaining: 1m 30s\n",
      "363:\tlearn: 1661.0135090\ttotal: 51.8s\tremaining: 1m 30s\n",
      "364:\tlearn: 1660.8281831\ttotal: 51.9s\tremaining: 1m 30s\n",
      "365:\tlearn: 1660.5618831\ttotal: 52.1s\tremaining: 1m 30s\n",
      "366:\tlearn: 1660.3217392\ttotal: 52.2s\tremaining: 1m 30s\n",
      "367:\tlearn: 1660.1602751\ttotal: 52.3s\tremaining: 1m 29s\n",
      "368:\tlearn: 1659.8207638\ttotal: 52.5s\tremaining: 1m 29s\n",
      "369:\tlearn: 1659.5169274\ttotal: 52.6s\tremaining: 1m 29s\n",
      "370:\tlearn: 1659.0208386\ttotal: 52.7s\tremaining: 1m 29s\n",
      "371:\tlearn: 1658.8665087\ttotal: 52.9s\tremaining: 1m 29s\n",
      "372:\tlearn: 1658.8138054\ttotal: 53s\tremaining: 1m 29s\n",
      "373:\tlearn: 1658.6482614\ttotal: 53.1s\tremaining: 1m 28s\n",
      "374:\tlearn: 1658.3389136\ttotal: 53.2s\tremaining: 1m 28s\n",
      "375:\tlearn: 1658.0061725\ttotal: 53.4s\tremaining: 1m 28s\n",
      "376:\tlearn: 1657.5230555\ttotal: 53.5s\tremaining: 1m 28s\n",
      "377:\tlearn: 1657.3667974\ttotal: 53.7s\tremaining: 1m 28s\n",
      "378:\tlearn: 1657.2168462\ttotal: 53.8s\tremaining: 1m 28s\n",
      "379:\tlearn: 1657.0075747\ttotal: 54s\tremaining: 1m 28s\n",
      "380:\tlearn: 1656.9019107\ttotal: 54.1s\tremaining: 1m 27s\n",
      "381:\tlearn: 1656.6802744\ttotal: 54.3s\tremaining: 1m 27s\n",
      "382:\tlearn: 1656.5197427\ttotal: 54.4s\tremaining: 1m 27s\n",
      "383:\tlearn: 1656.3165644\ttotal: 54.5s\tremaining: 1m 27s\n",
      "384:\tlearn: 1656.0512441\ttotal: 54.7s\tremaining: 1m 27s\n",
      "385:\tlearn: 1655.9092793\ttotal: 54.8s\tremaining: 1m 27s\n",
      "386:\tlearn: 1655.6528525\ttotal: 55s\tremaining: 1m 27s\n",
      "387:\tlearn: 1655.3305709\ttotal: 55.1s\tremaining: 1m 26s\n",
      "388:\tlearn: 1655.2160965\ttotal: 55.3s\tremaining: 1m 26s\n",
      "389:\tlearn: 1654.8767293\ttotal: 55.4s\tremaining: 1m 26s\n",
      "390:\tlearn: 1654.7134547\ttotal: 55.5s\tremaining: 1m 26s\n",
      "391:\tlearn: 1654.5649437\ttotal: 55.6s\tremaining: 1m 26s\n",
      "392:\tlearn: 1654.2813199\ttotal: 55.7s\tremaining: 1m 26s\n",
      "393:\tlearn: 1654.0791364\ttotal: 55.8s\tremaining: 1m 25s\n",
      "394:\tlearn: 1653.8341884\ttotal: 56s\tremaining: 1m 25s\n",
      "395:\tlearn: 1653.6203842\ttotal: 56.1s\tremaining: 1m 25s\n",
      "396:\tlearn: 1653.4014385\ttotal: 56.3s\tremaining: 1m 25s\n",
      "397:\tlearn: 1652.9627412\ttotal: 56.4s\tremaining: 1m 25s\n",
      "398:\tlearn: 1652.6577580\ttotal: 56.5s\tremaining: 1m 25s\n",
      "399:\tlearn: 1652.3325092\ttotal: 56.7s\tremaining: 1m 25s\n",
      "400:\tlearn: 1652.1852171\ttotal: 56.8s\tremaining: 1m 24s\n",
      "401:\tlearn: 1651.7594553\ttotal: 57s\tremaining: 1m 24s\n",
      "402:\tlearn: 1651.5568829\ttotal: 57.1s\tremaining: 1m 24s\n",
      "403:\tlearn: 1651.3054647\ttotal: 57.3s\tremaining: 1m 24s\n",
      "404:\tlearn: 1651.1201140\ttotal: 57.4s\tremaining: 1m 24s\n",
      "405:\tlearn: 1650.6149788\ttotal: 57.6s\tremaining: 1m 24s\n",
      "406:\tlearn: 1650.4511126\ttotal: 57.7s\tremaining: 1m 24s\n",
      "407:\tlearn: 1650.1634831\ttotal: 57.8s\tremaining: 1m 23s\n",
      "408:\tlearn: 1649.8564809\ttotal: 58s\tremaining: 1m 23s\n",
      "409:\tlearn: 1649.3619854\ttotal: 58.1s\tremaining: 1m 23s\n",
      "410:\tlearn: 1649.2296200\ttotal: 58.2s\tremaining: 1m 23s\n",
      "411:\tlearn: 1648.9614341\ttotal: 58.4s\tremaining: 1m 23s\n",
      "412:\tlearn: 1648.6402566\ttotal: 58.5s\tremaining: 1m 23s\n",
      "413:\tlearn: 1648.4765365\ttotal: 58.6s\tremaining: 1m 22s\n",
      "414:\tlearn: 1648.3577404\ttotal: 58.7s\tremaining: 1m 22s\n",
      "415:\tlearn: 1648.0388640\ttotal: 58.8s\tremaining: 1m 22s\n",
      "416:\tlearn: 1647.8565326\ttotal: 59s\tremaining: 1m 22s\n",
      "417:\tlearn: 1647.4152059\ttotal: 59.1s\tremaining: 1m 22s\n",
      "418:\tlearn: 1647.2269988\ttotal: 59.2s\tremaining: 1m 22s\n",
      "419:\tlearn: 1646.9927050\ttotal: 59.3s\tremaining: 1m 21s\n",
      "420:\tlearn: 1646.7729409\ttotal: 59.5s\tremaining: 1m 21s\n",
      "421:\tlearn: 1646.5309519\ttotal: 59.7s\tremaining: 1m 21s\n",
      "422:\tlearn: 1646.3210652\ttotal: 59.8s\tremaining: 1m 21s\n",
      "423:\tlearn: 1646.1319735\ttotal: 59.9s\tremaining: 1m 21s\n",
      "424:\tlearn: 1645.9208536\ttotal: 1m\tremaining: 1m 21s\n",
      "425:\tlearn: 1645.7006068\ttotal: 1m\tremaining: 1m 21s\n",
      "426:\tlearn: 1645.4129889\ttotal: 1m\tremaining: 1m 20s\n",
      "427:\tlearn: 1645.2572907\ttotal: 1m\tremaining: 1m 20s\n",
      "428:\tlearn: 1645.0040470\ttotal: 1m\tremaining: 1m 20s\n",
      "429:\tlearn: 1644.6546615\ttotal: 1m\tremaining: 1m 20s\n",
      "430:\tlearn: 1644.5890449\ttotal: 1m\tremaining: 1m 20s\n",
      "431:\tlearn: 1644.4685212\ttotal: 1m 1s\tremaining: 1m 20s\n",
      "432:\tlearn: 1644.0126531\ttotal: 1m 1s\tremaining: 1m 20s\n",
      "433:\tlearn: 1643.7533101\ttotal: 1m 1s\tremaining: 1m 19s\n",
      "434:\tlearn: 1643.6345392\ttotal: 1m 1s\tremaining: 1m 19s\n",
      "435:\tlearn: 1643.3025638\ttotal: 1m 1s\tremaining: 1m 19s\n",
      "436:\tlearn: 1643.0487592\ttotal: 1m 1s\tremaining: 1m 19s\n",
      "437:\tlearn: 1642.8504794\ttotal: 1m 1s\tremaining: 1m 19s\n",
      "438:\tlearn: 1642.7859295\ttotal: 1m 1s\tremaining: 1m 19s\n",
      "439:\tlearn: 1642.6249835\ttotal: 1m 2s\tremaining: 1m 19s\n",
      "440:\tlearn: 1642.4448135\ttotal: 1m 2s\tremaining: 1m 18s\n",
      "441:\tlearn: 1642.2881857\ttotal: 1m 2s\tremaining: 1m 18s\n",
      "442:\tlearn: 1642.0808367\ttotal: 1m 2s\tremaining: 1m 18s\n",
      "443:\tlearn: 1641.9824592\ttotal: 1m 2s\tremaining: 1m 18s\n",
      "444:\tlearn: 1641.5174598\ttotal: 1m 2s\tremaining: 1m 18s\n",
      "445:\tlearn: 1640.9981533\ttotal: 1m 2s\tremaining: 1m 18s\n",
      "446:\tlearn: 1640.8638226\ttotal: 1m 3s\tremaining: 1m 18s\n",
      "447:\tlearn: 1640.7469798\ttotal: 1m 3s\tremaining: 1m 17s\n",
      "448:\tlearn: 1640.6938836\ttotal: 1m 3s\tremaining: 1m 17s\n",
      "449:\tlearn: 1640.5909967\ttotal: 1m 3s\tremaining: 1m 17s\n",
      "450:\tlearn: 1640.3543290\ttotal: 1m 3s\tremaining: 1m 17s\n",
      "451:\tlearn: 1640.1477279\ttotal: 1m 3s\tremaining: 1m 17s\n",
      "452:\tlearn: 1639.7783957\ttotal: 1m 3s\tremaining: 1m 17s\n",
      "453:\tlearn: 1639.6183457\ttotal: 1m 4s\tremaining: 1m 16s\n",
      "454:\tlearn: 1639.3619445\ttotal: 1m 4s\tremaining: 1m 16s\n",
      "455:\tlearn: 1639.0786749\ttotal: 1m 4s\tremaining: 1m 16s\n",
      "456:\tlearn: 1638.9199086\ttotal: 1m 4s\tremaining: 1m 16s\n",
      "457:\tlearn: 1638.7418304\ttotal: 1m 4s\tremaining: 1m 16s\n",
      "458:\tlearn: 1638.4203885\ttotal: 1m 4s\tremaining: 1m 16s\n",
      "459:\tlearn: 1638.2468314\ttotal: 1m 4s\tremaining: 1m 16s\n",
      "460:\tlearn: 1638.0973599\ttotal: 1m 4s\tremaining: 1m 15s\n",
      "461:\tlearn: 1637.8820275\ttotal: 1m 5s\tremaining: 1m 15s\n",
      "462:\tlearn: 1637.7295450\ttotal: 1m 5s\tremaining: 1m 15s\n",
      "463:\tlearn: 1637.2777237\ttotal: 1m 5s\tremaining: 1m 15s\n",
      "464:\tlearn: 1637.0271340\ttotal: 1m 5s\tremaining: 1m 15s\n",
      "465:\tlearn: 1636.8357311\ttotal: 1m 5s\tremaining: 1m 15s\n",
      "466:\tlearn: 1636.6926910\ttotal: 1m 5s\tremaining: 1m 15s\n",
      "467:\tlearn: 1636.5049596\ttotal: 1m 6s\tremaining: 1m 15s\n",
      "468:\tlearn: 1636.2177004\ttotal: 1m 6s\tremaining: 1m 14s\n",
      "469:\tlearn: 1636.1010216\ttotal: 1m 6s\tremaining: 1m 14s\n",
      "470:\tlearn: 1635.9329917\ttotal: 1m 6s\tremaining: 1m 14s\n",
      "471:\tlearn: 1635.5585091\ttotal: 1m 6s\tremaining: 1m 14s\n",
      "472:\tlearn: 1635.3135334\ttotal: 1m 6s\tremaining: 1m 14s\n",
      "473:\tlearn: 1635.2306672\ttotal: 1m 6s\tremaining: 1m 14s\n",
      "474:\tlearn: 1634.9825660\ttotal: 1m 7s\tremaining: 1m 14s\n",
      "475:\tlearn: 1634.8759310\ttotal: 1m 7s\tremaining: 1m 13s\n",
      "476:\tlearn: 1634.6843174\ttotal: 1m 7s\tremaining: 1m 13s\n",
      "477:\tlearn: 1634.3599755\ttotal: 1m 7s\tremaining: 1m 13s\n",
      "478:\tlearn: 1634.1939279\ttotal: 1m 7s\tremaining: 1m 13s\n",
      "479:\tlearn: 1634.0564583\ttotal: 1m 7s\tremaining: 1m 13s\n",
      "480:\tlearn: 1633.9006413\ttotal: 1m 7s\tremaining: 1m 13s\n",
      "481:\tlearn: 1633.7308202\ttotal: 1m 8s\tremaining: 1m 13s\n",
      "482:\tlearn: 1633.4490814\ttotal: 1m 8s\tremaining: 1m 13s\n",
      "483:\tlearn: 1633.2719682\ttotal: 1m 8s\tremaining: 1m 12s\n",
      "484:\tlearn: 1633.0041206\ttotal: 1m 8s\tremaining: 1m 12s\n",
      "485:\tlearn: 1632.9039421\ttotal: 1m 8s\tremaining: 1m 12s\n",
      "486:\tlearn: 1632.6417309\ttotal: 1m 8s\tremaining: 1m 12s\n",
      "487:\tlearn: 1632.4527659\ttotal: 1m 8s\tremaining: 1m 12s\n",
      "488:\tlearn: 1632.2948738\ttotal: 1m 9s\tremaining: 1m 12s\n",
      "489:\tlearn: 1632.1590298\ttotal: 1m 9s\tremaining: 1m 12s\n",
      "490:\tlearn: 1631.8896380\ttotal: 1m 9s\tremaining: 1m 11s\n",
      "491:\tlearn: 1631.7841937\ttotal: 1m 9s\tremaining: 1m 11s\n",
      "492:\tlearn: 1631.5663366\ttotal: 1m 9s\tremaining: 1m 11s\n",
      "493:\tlearn: 1631.4222982\ttotal: 1m 9s\tremaining: 1m 11s\n",
      "494:\tlearn: 1631.2201901\ttotal: 1m 9s\tremaining: 1m 11s\n",
      "495:\tlearn: 1630.9291077\ttotal: 1m 10s\tremaining: 1m 11s\n",
      "496:\tlearn: 1630.8682612\ttotal: 1m 10s\tremaining: 1m 11s\n",
      "497:\tlearn: 1630.7481847\ttotal: 1m 10s\tremaining: 1m 10s\n",
      "498:\tlearn: 1630.5596470\ttotal: 1m 10s\tremaining: 1m 10s\n",
      "499:\tlearn: 1630.3376361\ttotal: 1m 10s\tremaining: 1m 10s\n",
      "500:\tlearn: 1630.1539787\ttotal: 1m 10s\tremaining: 1m 10s\n",
      "501:\tlearn: 1630.0100846\ttotal: 1m 10s\tremaining: 1m 10s\n",
      "502:\tlearn: 1629.7640452\ttotal: 1m 11s\tremaining: 1m 10s\n",
      "503:\tlearn: 1629.4325076\ttotal: 1m 11s\tremaining: 1m 10s\n",
      "504:\tlearn: 1629.3435808\ttotal: 1m 11s\tremaining: 1m 9s\n",
      "505:\tlearn: 1629.1481889\ttotal: 1m 11s\tremaining: 1m 9s\n",
      "506:\tlearn: 1628.8876564\ttotal: 1m 11s\tremaining: 1m 9s\n",
      "507:\tlearn: 1628.6771176\ttotal: 1m 11s\tremaining: 1m 9s\n",
      "508:\tlearn: 1628.5543399\ttotal: 1m 11s\tremaining: 1m 9s\n",
      "509:\tlearn: 1628.4792600\ttotal: 1m 11s\tremaining: 1m 9s\n",
      "510:\tlearn: 1628.2417100\ttotal: 1m 12s\tremaining: 1m 8s\n",
      "511:\tlearn: 1627.9514373\ttotal: 1m 12s\tremaining: 1m 8s\n",
      "512:\tlearn: 1627.6141339\ttotal: 1m 12s\tremaining: 1m 8s\n",
      "513:\tlearn: 1627.3941854\ttotal: 1m 12s\tremaining: 1m 8s\n",
      "514:\tlearn: 1627.0653011\ttotal: 1m 12s\tremaining: 1m 8s\n",
      "515:\tlearn: 1626.9007028\ttotal: 1m 12s\tremaining: 1m 8s\n",
      "516:\tlearn: 1626.7456081\ttotal: 1m 12s\tremaining: 1m 8s\n",
      "517:\tlearn: 1626.5176604\ttotal: 1m 13s\tremaining: 1m 7s\n",
      "518:\tlearn: 1626.2914005\ttotal: 1m 13s\tremaining: 1m 7s\n",
      "519:\tlearn: 1626.1660182\ttotal: 1m 13s\tremaining: 1m 7s\n",
      "520:\tlearn: 1625.9442001\ttotal: 1m 13s\tremaining: 1m 7s\n",
      "521:\tlearn: 1625.7468822\ttotal: 1m 13s\tremaining: 1m 7s\n",
      "522:\tlearn: 1625.6305696\ttotal: 1m 13s\tremaining: 1m 7s\n",
      "523:\tlearn: 1625.5047921\ttotal: 1m 13s\tremaining: 1m 7s\n",
      "524:\tlearn: 1625.3820479\ttotal: 1m 14s\tremaining: 1m 6s\n",
      "525:\tlearn: 1625.1231825\ttotal: 1m 14s\tremaining: 1m 6s\n",
      "526:\tlearn: 1625.0078916\ttotal: 1m 14s\tremaining: 1m 6s\n",
      "527:\tlearn: 1624.9070907\ttotal: 1m 14s\tremaining: 1m 6s\n",
      "528:\tlearn: 1624.8324115\ttotal: 1m 14s\tremaining: 1m 6s\n",
      "529:\tlearn: 1624.7669664\ttotal: 1m 14s\tremaining: 1m 6s\n",
      "530:\tlearn: 1624.4631492\ttotal: 1m 14s\tremaining: 1m 6s\n",
      "531:\tlearn: 1624.4347402\ttotal: 1m 14s\tremaining: 1m 5s\n",
      "532:\tlearn: 1624.3543586\ttotal: 1m 15s\tremaining: 1m 5s\n",
      "533:\tlearn: 1624.1752131\ttotal: 1m 15s\tremaining: 1m 5s\n",
      "534:\tlearn: 1624.1501547\ttotal: 1m 15s\tremaining: 1m 5s\n",
      "535:\tlearn: 1623.9442598\ttotal: 1m 15s\tremaining: 1m 5s\n",
      "536:\tlearn: 1623.8664248\ttotal: 1m 15s\tremaining: 1m 5s\n",
      "537:\tlearn: 1623.7814639\ttotal: 1m 15s\tremaining: 1m 5s\n",
      "538:\tlearn: 1623.6922175\ttotal: 1m 15s\tremaining: 1m 4s\n",
      "539:\tlearn: 1623.3172020\ttotal: 1m 16s\tremaining: 1m 4s\n",
      "540:\tlearn: 1623.2422104\ttotal: 1m 16s\tremaining: 1m 4s\n",
      "541:\tlearn: 1623.2174353\ttotal: 1m 16s\tremaining: 1m 4s\n",
      "542:\tlearn: 1623.1558029\ttotal: 1m 16s\tremaining: 1m 4s\n",
      "543:\tlearn: 1622.9243260\ttotal: 1m 16s\tremaining: 1m 4s\n",
      "544:\tlearn: 1622.8585630\ttotal: 1m 16s\tremaining: 1m 4s\n",
      "545:\tlearn: 1622.6986119\ttotal: 1m 16s\tremaining: 1m 3s\n",
      "546:\tlearn: 1622.4799890\ttotal: 1m 17s\tremaining: 1m 3s\n",
      "547:\tlearn: 1622.2747446\ttotal: 1m 17s\tremaining: 1m 3s\n",
      "548:\tlearn: 1622.1127979\ttotal: 1m 17s\tremaining: 1m 3s\n",
      "549:\tlearn: 1621.9118609\ttotal: 1m 17s\tremaining: 1m 3s\n",
      "550:\tlearn: 1621.7425341\ttotal: 1m 17s\tremaining: 1m 3s\n",
      "551:\tlearn: 1621.5001663\ttotal: 1m 17s\tremaining: 1m 3s\n",
      "552:\tlearn: 1621.3585471\ttotal: 1m 17s\tremaining: 1m 3s\n",
      "553:\tlearn: 1621.2478975\ttotal: 1m 18s\tremaining: 1m 2s\n",
      "554:\tlearn: 1620.9823051\ttotal: 1m 18s\tremaining: 1m 2s\n",
      "555:\tlearn: 1620.7216770\ttotal: 1m 18s\tremaining: 1m 2s\n",
      "556:\tlearn: 1620.4980641\ttotal: 1m 18s\tremaining: 1m 2s\n",
      "557:\tlearn: 1620.4489904\ttotal: 1m 18s\tremaining: 1m 2s\n",
      "558:\tlearn: 1620.2646826\ttotal: 1m 18s\tremaining: 1m 2s\n",
      "559:\tlearn: 1620.1084013\ttotal: 1m 19s\tremaining: 1m 2s\n",
      "560:\tlearn: 1619.9293592\ttotal: 1m 19s\tremaining: 1m 1s\n",
      "561:\tlearn: 1619.7687773\ttotal: 1m 19s\tremaining: 1m 1s\n",
      "562:\tlearn: 1619.6007779\ttotal: 1m 19s\tremaining: 1m 1s\n",
      "563:\tlearn: 1619.4433066\ttotal: 1m 19s\tremaining: 1m 1s\n",
      "564:\tlearn: 1619.2682066\ttotal: 1m 19s\tremaining: 1m 1s\n",
      "565:\tlearn: 1619.1165522\ttotal: 1m 19s\tremaining: 1m 1s\n",
      "566:\tlearn: 1618.8183495\ttotal: 1m 20s\tremaining: 1m 1s\n",
      "567:\tlearn: 1618.5729360\ttotal: 1m 20s\tremaining: 1m 1s\n",
      "568:\tlearn: 1618.3155825\ttotal: 1m 20s\tremaining: 1m\n",
      "569:\tlearn: 1618.0062757\ttotal: 1m 20s\tremaining: 1m\n",
      "570:\tlearn: 1617.8229287\ttotal: 1m 20s\tremaining: 1m\n",
      "571:\tlearn: 1617.6639786\ttotal: 1m 20s\tremaining: 1m\n",
      "572:\tlearn: 1617.5198489\ttotal: 1m 21s\tremaining: 1m\n",
      "573:\tlearn: 1617.2635452\ttotal: 1m 21s\tremaining: 1m\n",
      "574:\tlearn: 1617.1554178\ttotal: 1m 21s\tremaining: 1m\n",
      "575:\tlearn: 1616.9454396\ttotal: 1m 21s\tremaining: 1m\n",
      "576:\tlearn: 1616.7738210\ttotal: 1m 21s\tremaining: 59.9s\n",
      "577:\tlearn: 1616.5249062\ttotal: 1m 21s\tremaining: 59.8s\n",
      "578:\tlearn: 1616.4382423\ttotal: 1m 22s\tremaining: 59.7s\n",
      "579:\tlearn: 1616.3338496\ttotal: 1m 22s\tremaining: 59.5s\n",
      "580:\tlearn: 1616.2033801\ttotal: 1m 22s\tremaining: 59.4s\n",
      "581:\tlearn: 1616.0768496\ttotal: 1m 22s\tremaining: 59.3s\n",
      "582:\tlearn: 1615.8177356\ttotal: 1m 22s\tremaining: 59.1s\n",
      "583:\tlearn: 1615.5010592\ttotal: 1m 22s\tremaining: 59s\n",
      "584:\tlearn: 1615.2938309\ttotal: 1m 23s\tremaining: 58.9s\n",
      "585:\tlearn: 1614.9629294\ttotal: 1m 23s\tremaining: 58.8s\n",
      "586:\tlearn: 1614.9220494\ttotal: 1m 23s\tremaining: 58.7s\n",
      "587:\tlearn: 1614.7429416\ttotal: 1m 23s\tremaining: 58.6s\n",
      "588:\tlearn: 1614.4781997\ttotal: 1m 23s\tremaining: 58.5s\n",
      "589:\tlearn: 1614.4142242\ttotal: 1m 23s\tremaining: 58.4s\n",
      "590:\tlearn: 1614.2878790\ttotal: 1m 24s\tremaining: 58.2s\n",
      "591:\tlearn: 1614.0288133\ttotal: 1m 24s\tremaining: 58.1s\n",
      "592:\tlearn: 1613.7433069\ttotal: 1m 24s\tremaining: 58.1s\n",
      "593:\tlearn: 1613.6265336\ttotal: 1m 24s\tremaining: 58s\n",
      "594:\tlearn: 1613.4546665\ttotal: 1m 25s\tremaining: 57.9s\n",
      "595:\tlearn: 1613.2324231\ttotal: 1m 25s\tremaining: 57.7s\n",
      "596:\tlearn: 1613.0457916\ttotal: 1m 25s\tremaining: 57.6s\n",
      "597:\tlearn: 1612.9668616\ttotal: 1m 25s\tremaining: 57.5s\n",
      "598:\tlearn: 1612.8267587\ttotal: 1m 25s\tremaining: 57.3s\n",
      "599:\tlearn: 1612.6802673\ttotal: 1m 25s\tremaining: 57.2s\n",
      "600:\tlearn: 1612.6053035\ttotal: 1m 25s\tremaining: 57.1s\n",
      "601:\tlearn: 1612.5534660\ttotal: 1m 26s\tremaining: 56.9s\n",
      "602:\tlearn: 1612.4362886\ttotal: 1m 26s\tremaining: 56.8s\n",
      "603:\tlearn: 1612.2094201\ttotal: 1m 26s\tremaining: 56.6s\n",
      "604:\tlearn: 1611.9832109\ttotal: 1m 26s\tremaining: 56.5s\n",
      "605:\tlearn: 1611.8510628\ttotal: 1m 26s\tremaining: 56.3s\n",
      "606:\tlearn: 1611.7418050\ttotal: 1m 26s\tremaining: 56.2s\n",
      "607:\tlearn: 1611.5044593\ttotal: 1m 26s\tremaining: 56s\n",
      "608:\tlearn: 1611.3834683\ttotal: 1m 27s\tremaining: 55.9s\n",
      "609:\tlearn: 1611.1507872\ttotal: 1m 27s\tremaining: 55.7s\n",
      "610:\tlearn: 1611.0496174\ttotal: 1m 27s\tremaining: 55.6s\n",
      "611:\tlearn: 1610.9617583\ttotal: 1m 27s\tremaining: 55.4s\n",
      "612:\tlearn: 1610.7773033\ttotal: 1m 27s\tremaining: 55.3s\n",
      "613:\tlearn: 1610.5701578\ttotal: 1m 27s\tremaining: 55.2s\n",
      "614:\tlearn: 1610.3725576\ttotal: 1m 27s\tremaining: 55s\n",
      "615:\tlearn: 1610.1895476\ttotal: 1m 28s\tremaining: 54.9s\n",
      "616:\tlearn: 1610.1036377\ttotal: 1m 28s\tremaining: 54.7s\n",
      "617:\tlearn: 1609.9385265\ttotal: 1m 28s\tremaining: 54.6s\n",
      "618:\tlearn: 1609.6769587\ttotal: 1m 28s\tremaining: 54.5s\n",
      "619:\tlearn: 1609.5315874\ttotal: 1m 28s\tremaining: 54.3s\n",
      "620:\tlearn: 1609.3352173\ttotal: 1m 28s\tremaining: 54.2s\n",
      "621:\tlearn: 1609.2433469\ttotal: 1m 28s\tremaining: 54s\n",
      "622:\tlearn: 1609.1681701\ttotal: 1m 29s\tremaining: 53.9s\n",
      "623:\tlearn: 1608.9286465\ttotal: 1m 29s\tremaining: 53.8s\n",
      "624:\tlearn: 1608.5851145\ttotal: 1m 29s\tremaining: 53.6s\n",
      "625:\tlearn: 1608.4271894\ttotal: 1m 29s\tremaining: 53.5s\n",
      "626:\tlearn: 1608.3705109\ttotal: 1m 29s\tremaining: 53.3s\n",
      "627:\tlearn: 1608.1257589\ttotal: 1m 29s\tremaining: 53.1s\n",
      "628:\tlearn: 1608.0379385\ttotal: 1m 29s\tremaining: 53s\n",
      "629:\tlearn: 1607.9540041\ttotal: 1m 29s\tremaining: 52.8s\n",
      "630:\tlearn: 1607.6978707\ttotal: 1m 30s\tremaining: 52.7s\n",
      "631:\tlearn: 1607.6544344\ttotal: 1m 30s\tremaining: 52.5s\n",
      "632:\tlearn: 1607.4921866\ttotal: 1m 30s\tremaining: 52.4s\n",
      "633:\tlearn: 1607.2992246\ttotal: 1m 30s\tremaining: 52.3s\n",
      "634:\tlearn: 1607.1759296\ttotal: 1m 30s\tremaining: 52.2s\n",
      "635:\tlearn: 1607.0369278\ttotal: 1m 30s\tremaining: 52s\n",
      "636:\tlearn: 1606.8857057\ttotal: 1m 31s\tremaining: 51.9s\n",
      "637:\tlearn: 1606.6977307\ttotal: 1m 31s\tremaining: 51.7s\n",
      "638:\tlearn: 1606.4879030\ttotal: 1m 31s\tremaining: 51.6s\n",
      "639:\tlearn: 1606.4110030\ttotal: 1m 31s\tremaining: 51.5s\n",
      "640:\tlearn: 1606.2848996\ttotal: 1m 31s\tremaining: 51.4s\n",
      "641:\tlearn: 1606.2621516\ttotal: 1m 31s\tremaining: 51.2s\n",
      "642:\tlearn: 1606.0148637\ttotal: 1m 32s\tremaining: 51.1s\n",
      "643:\tlearn: 1605.9596234\ttotal: 1m 32s\tremaining: 51s\n",
      "644:\tlearn: 1605.7999264\ttotal: 1m 32s\tremaining: 50.8s\n",
      "645:\tlearn: 1605.7341442\ttotal: 1m 32s\tremaining: 50.7s\n",
      "646:\tlearn: 1605.6147665\ttotal: 1m 32s\tremaining: 50.5s\n",
      "647:\tlearn: 1605.5095456\ttotal: 1m 32s\tremaining: 50.4s\n",
      "648:\tlearn: 1605.3553376\ttotal: 1m 32s\tremaining: 50.3s\n",
      "649:\tlearn: 1605.2011988\ttotal: 1m 33s\tremaining: 50.1s\n",
      "650:\tlearn: 1605.1027755\ttotal: 1m 33s\tremaining: 50s\n",
      "651:\tlearn: 1604.9879435\ttotal: 1m 33s\tremaining: 49.9s\n",
      "652:\tlearn: 1604.9019263\ttotal: 1m 33s\tremaining: 49.7s\n",
      "653:\tlearn: 1604.8911449\ttotal: 1m 33s\tremaining: 49.5s\n",
      "654:\tlearn: 1604.7682071\ttotal: 1m 33s\tremaining: 49.4s\n",
      "655:\tlearn: 1604.6122484\ttotal: 1m 34s\tremaining: 49.3s\n",
      "656:\tlearn: 1604.4397112\ttotal: 1m 34s\tremaining: 49.2s\n",
      "657:\tlearn: 1604.3580935\ttotal: 1m 34s\tremaining: 49.1s\n",
      "658:\tlearn: 1604.1610455\ttotal: 1m 34s\tremaining: 49s\n",
      "659:\tlearn: 1603.9673966\ttotal: 1m 34s\tremaining: 48.8s\n",
      "660:\tlearn: 1603.8585241\ttotal: 1m 35s\tremaining: 48.8s\n",
      "661:\tlearn: 1603.6832973\ttotal: 1m 35s\tremaining: 48.6s\n",
      "662:\tlearn: 1603.5460090\ttotal: 1m 35s\tremaining: 48.5s\n",
      "663:\tlearn: 1603.3502625\ttotal: 1m 35s\tremaining: 48.4s\n",
      "664:\tlearn: 1603.3454932\ttotal: 1m 35s\tremaining: 48.2s\n",
      "665:\tlearn: 1603.2589764\ttotal: 1m 35s\tremaining: 48.1s\n",
      "666:\tlearn: 1603.1092861\ttotal: 1m 36s\tremaining: 47.9s\n",
      "667:\tlearn: 1602.9965735\ttotal: 1m 36s\tremaining: 47.8s\n",
      "668:\tlearn: 1602.8707383\ttotal: 1m 36s\tremaining: 47.7s\n",
      "669:\tlearn: 1602.7762013\ttotal: 1m 36s\tremaining: 47.6s\n",
      "670:\tlearn: 1602.7094924\ttotal: 1m 36s\tremaining: 47.4s\n",
      "671:\tlearn: 1602.4257663\ttotal: 1m 36s\tremaining: 47.2s\n",
      "672:\tlearn: 1602.2455053\ttotal: 1m 36s\tremaining: 47.1s\n",
      "673:\tlearn: 1602.1819070\ttotal: 1m 37s\tremaining: 47s\n",
      "674:\tlearn: 1602.0837866\ttotal: 1m 37s\tremaining: 46.8s\n",
      "675:\tlearn: 1601.8771944\ttotal: 1m 37s\tremaining: 46.7s\n",
      "676:\tlearn: 1601.7469086\ttotal: 1m 37s\tremaining: 46.5s\n",
      "677:\tlearn: 1601.6577083\ttotal: 1m 37s\tremaining: 46.4s\n",
      "678:\tlearn: 1601.4271413\ttotal: 1m 37s\tremaining: 46.3s\n",
      "679:\tlearn: 1601.3304399\ttotal: 1m 38s\tremaining: 46.1s\n",
      "680:\tlearn: 1601.0668424\ttotal: 1m 38s\tremaining: 46s\n",
      "681:\tlearn: 1600.8743585\ttotal: 1m 38s\tremaining: 45.8s\n",
      "682:\tlearn: 1600.8244291\ttotal: 1m 38s\tremaining: 45.7s\n",
      "683:\tlearn: 1600.6145995\ttotal: 1m 38s\tremaining: 45.6s\n",
      "684:\tlearn: 1600.3676488\ttotal: 1m 38s\tremaining: 45.5s\n",
      "685:\tlearn: 1600.1350722\ttotal: 1m 39s\tremaining: 45.3s\n",
      "686:\tlearn: 1599.8916653\ttotal: 1m 39s\tremaining: 45.2s\n",
      "687:\tlearn: 1599.8234237\ttotal: 1m 39s\tremaining: 45.1s\n",
      "688:\tlearn: 1599.7134297\ttotal: 1m 39s\tremaining: 45s\n",
      "689:\tlearn: 1599.5437456\ttotal: 1m 39s\tremaining: 44.8s\n",
      "690:\tlearn: 1599.4781054\ttotal: 1m 39s\tremaining: 44.7s\n",
      "691:\tlearn: 1599.3200419\ttotal: 1m 40s\tremaining: 44.5s\n",
      "692:\tlearn: 1599.2510628\ttotal: 1m 40s\tremaining: 44.4s\n",
      "693:\tlearn: 1599.0656846\ttotal: 1m 40s\tremaining: 44.2s\n",
      "694:\tlearn: 1598.8951204\ttotal: 1m 40s\tremaining: 44.1s\n",
      "695:\tlearn: 1598.7686903\ttotal: 1m 40s\tremaining: 43.9s\n",
      "696:\tlearn: 1598.5332939\ttotal: 1m 40s\tremaining: 43.8s\n",
      "697:\tlearn: 1598.3238523\ttotal: 1m 40s\tremaining: 43.6s\n",
      "698:\tlearn: 1598.1985314\ttotal: 1m 41s\tremaining: 43.5s\n",
      "699:\tlearn: 1598.1438486\ttotal: 1m 41s\tremaining: 43.4s\n",
      "700:\tlearn: 1597.9544051\ttotal: 1m 41s\tremaining: 43.2s\n",
      "701:\tlearn: 1597.8371502\ttotal: 1m 41s\tremaining: 43.1s\n",
      "702:\tlearn: 1597.6865279\ttotal: 1m 41s\tremaining: 42.9s\n",
      "703:\tlearn: 1597.6159279\ttotal: 1m 41s\tremaining: 42.8s\n",
      "704:\tlearn: 1597.5661968\ttotal: 1m 41s\tremaining: 42.6s\n",
      "705:\tlearn: 1597.5142258\ttotal: 1m 41s\tremaining: 42.5s\n",
      "706:\tlearn: 1597.3146039\ttotal: 1m 42s\tremaining: 42.3s\n",
      "707:\tlearn: 1597.2875955\ttotal: 1m 42s\tremaining: 42.2s\n",
      "708:\tlearn: 1597.1342372\ttotal: 1m 42s\tremaining: 42s\n",
      "709:\tlearn: 1597.0650857\ttotal: 1m 42s\tremaining: 41.9s\n",
      "710:\tlearn: 1596.9977896\ttotal: 1m 42s\tremaining: 41.7s\n",
      "711:\tlearn: 1596.8878006\ttotal: 1m 42s\tremaining: 41.6s\n",
      "712:\tlearn: 1596.7770290\ttotal: 1m 42s\tremaining: 41.4s\n",
      "713:\tlearn: 1596.7093798\ttotal: 1m 43s\tremaining: 41.3s\n",
      "714:\tlearn: 1596.5887592\ttotal: 1m 43s\tremaining: 41.1s\n",
      "715:\tlearn: 1596.2585317\ttotal: 1m 43s\tremaining: 41s\n",
      "716:\tlearn: 1596.1054538\ttotal: 1m 43s\tremaining: 40.8s\n",
      "717:\tlearn: 1595.9612752\ttotal: 1m 43s\tremaining: 40.7s\n",
      "718:\tlearn: 1595.8436086\ttotal: 1m 43s\tremaining: 40.5s\n",
      "719:\tlearn: 1595.7503808\ttotal: 1m 43s\tremaining: 40.4s\n",
      "720:\tlearn: 1595.6202388\ttotal: 1m 44s\tremaining: 40.3s\n",
      "721:\tlearn: 1595.5631618\ttotal: 1m 44s\tremaining: 40.1s\n",
      "722:\tlearn: 1595.4026677\ttotal: 1m 44s\tremaining: 40s\n",
      "723:\tlearn: 1595.3200875\ttotal: 1m 44s\tremaining: 39.8s\n",
      "724:\tlearn: 1595.0307902\ttotal: 1m 44s\tremaining: 39.7s\n",
      "725:\tlearn: 1594.9176523\ttotal: 1m 44s\tremaining: 39.6s\n",
      "726:\tlearn: 1594.8089678\ttotal: 1m 45s\tremaining: 39.5s\n",
      "727:\tlearn: 1594.7699650\ttotal: 1m 45s\tremaining: 39.3s\n",
      "728:\tlearn: 1594.6351386\ttotal: 1m 45s\tremaining: 39.2s\n",
      "729:\tlearn: 1594.5208790\ttotal: 1m 45s\tremaining: 39.1s\n",
      "730:\tlearn: 1594.4071134\ttotal: 1m 45s\tremaining: 38.9s\n",
      "731:\tlearn: 1594.4008526\ttotal: 1m 45s\tremaining: 38.8s\n",
      "732:\tlearn: 1594.3143487\ttotal: 1m 46s\tremaining: 38.6s\n",
      "733:\tlearn: 1594.2979119\ttotal: 1m 46s\tremaining: 38.5s\n",
      "734:\tlearn: 1594.1645770\ttotal: 1m 46s\tremaining: 38.3s\n",
      "735:\tlearn: 1593.9581532\ttotal: 1m 46s\tremaining: 38.2s\n",
      "736:\tlearn: 1593.7759896\ttotal: 1m 46s\tremaining: 38s\n",
      "737:\tlearn: 1593.6657838\ttotal: 1m 46s\tremaining: 37.9s\n",
      "738:\tlearn: 1593.5281332\ttotal: 1m 46s\tremaining: 37.7s\n",
      "739:\tlearn: 1593.4258437\ttotal: 1m 46s\tremaining: 37.6s\n",
      "740:\tlearn: 1593.2675472\ttotal: 1m 47s\tremaining: 37.5s\n",
      "741:\tlearn: 1593.0923975\ttotal: 1m 47s\tremaining: 37.3s\n",
      "742:\tlearn: 1592.8202632\ttotal: 1m 47s\tremaining: 37.2s\n",
      "743:\tlearn: 1592.6528454\ttotal: 1m 47s\tremaining: 37s\n",
      "744:\tlearn: 1592.5624325\ttotal: 1m 47s\tremaining: 36.9s\n",
      "745:\tlearn: 1592.4980369\ttotal: 1m 47s\tremaining: 36.8s\n",
      "746:\tlearn: 1592.3463247\ttotal: 1m 48s\tremaining: 36.6s\n",
      "747:\tlearn: 1592.2217586\ttotal: 1m 48s\tremaining: 36.5s\n",
      "748:\tlearn: 1592.1749688\ttotal: 1m 48s\tremaining: 36.3s\n",
      "749:\tlearn: 1592.0844657\ttotal: 1m 48s\tremaining: 36.2s\n",
      "750:\tlearn: 1592.0501716\ttotal: 1m 48s\tremaining: 36.1s\n",
      "751:\tlearn: 1591.9495121\ttotal: 1m 48s\tremaining: 35.9s\n",
      "752:\tlearn: 1591.8661038\ttotal: 1m 49s\tremaining: 35.8s\n",
      "753:\tlearn: 1591.7406831\ttotal: 1m 49s\tremaining: 35.6s\n",
      "754:\tlearn: 1591.5911101\ttotal: 1m 49s\tremaining: 35.5s\n",
      "755:\tlearn: 1591.4288485\ttotal: 1m 49s\tremaining: 35.3s\n",
      "756:\tlearn: 1591.2750250\ttotal: 1m 49s\tremaining: 35.2s\n",
      "757:\tlearn: 1591.0864892\ttotal: 1m 49s\tremaining: 35s\n",
      "758:\tlearn: 1591.0814640\ttotal: 1m 49s\tremaining: 34.9s\n",
      "759:\tlearn: 1590.8524186\ttotal: 1m 50s\tremaining: 34.7s\n",
      "760:\tlearn: 1590.7123308\ttotal: 1m 50s\tremaining: 34.6s\n",
      "761:\tlearn: 1590.5608295\ttotal: 1m 50s\tremaining: 34.4s\n",
      "762:\tlearn: 1590.4704579\ttotal: 1m 50s\tremaining: 34.3s\n",
      "763:\tlearn: 1590.3866332\ttotal: 1m 50s\tremaining: 34.1s\n",
      "764:\tlearn: 1590.2216413\ttotal: 1m 50s\tremaining: 34s\n",
      "765:\tlearn: 1590.0049999\ttotal: 1m 50s\tremaining: 33.8s\n",
      "766:\tlearn: 1589.8239497\ttotal: 1m 50s\tremaining: 33.7s\n",
      "767:\tlearn: 1589.6365570\ttotal: 1m 51s\tremaining: 33.6s\n",
      "768:\tlearn: 1589.4693595\ttotal: 1m 51s\tremaining: 33.4s\n",
      "769:\tlearn: 1589.4283605\ttotal: 1m 51s\tremaining: 33.3s\n",
      "770:\tlearn: 1589.3581799\ttotal: 1m 51s\tremaining: 33.1s\n",
      "771:\tlearn: 1589.2281513\ttotal: 1m 51s\tremaining: 33s\n",
      "772:\tlearn: 1589.0896731\ttotal: 1m 51s\tremaining: 32.8s\n",
      "773:\tlearn: 1589.0239480\ttotal: 1m 51s\tremaining: 32.7s\n",
      "774:\tlearn: 1588.8979284\ttotal: 1m 52s\tremaining: 32.5s\n",
      "775:\tlearn: 1588.6646247\ttotal: 1m 52s\tremaining: 32.4s\n",
      "776:\tlearn: 1588.5574088\ttotal: 1m 52s\tremaining: 32.3s\n",
      "777:\tlearn: 1588.5314732\ttotal: 1m 52s\tremaining: 32.1s\n",
      "778:\tlearn: 1588.4392225\ttotal: 1m 52s\tremaining: 32s\n",
      "779:\tlearn: 1588.3093196\ttotal: 1m 52s\tremaining: 31.9s\n",
      "780:\tlearn: 1588.2299262\ttotal: 1m 53s\tremaining: 31.7s\n",
      "781:\tlearn: 1588.0672521\ttotal: 1m 53s\tremaining: 31.6s\n",
      "782:\tlearn: 1587.9540064\ttotal: 1m 53s\tremaining: 31.5s\n",
      "783:\tlearn: 1587.7221571\ttotal: 1m 53s\tremaining: 31.3s\n",
      "784:\tlearn: 1587.5808911\ttotal: 1m 53s\tremaining: 31.2s\n",
      "785:\tlearn: 1587.2396159\ttotal: 1m 53s\tremaining: 31s\n",
      "786:\tlearn: 1587.0753023\ttotal: 1m 54s\tremaining: 30.9s\n",
      "787:\tlearn: 1587.0046748\ttotal: 1m 54s\tremaining: 30.7s\n",
      "788:\tlearn: 1586.8648357\ttotal: 1m 54s\tremaining: 30.6s\n",
      "789:\tlearn: 1586.7669289\ttotal: 1m 54s\tremaining: 30.5s\n",
      "790:\tlearn: 1586.5754024\ttotal: 1m 54s\tremaining: 30.3s\n",
      "791:\tlearn: 1586.4374962\ttotal: 1m 54s\tremaining: 30.2s\n",
      "792:\tlearn: 1586.2776048\ttotal: 1m 55s\tremaining: 30s\n",
      "793:\tlearn: 1586.1869740\ttotal: 1m 55s\tremaining: 29.9s\n",
      "794:\tlearn: 1585.9906832\ttotal: 1m 55s\tremaining: 29.7s\n",
      "795:\tlearn: 1585.7696515\ttotal: 1m 55s\tremaining: 29.6s\n",
      "796:\tlearn: 1585.7241774\ttotal: 1m 55s\tremaining: 29.5s\n",
      "797:\tlearn: 1585.6147680\ttotal: 1m 55s\tremaining: 29.3s\n",
      "798:\tlearn: 1585.4226435\ttotal: 1m 56s\tremaining: 29.2s\n",
      "799:\tlearn: 1585.3758692\ttotal: 1m 56s\tremaining: 29s\n",
      "800:\tlearn: 1585.2328125\ttotal: 1m 56s\tremaining: 28.9s\n",
      "801:\tlearn: 1585.1437817\ttotal: 1m 56s\tremaining: 28.7s\n",
      "802:\tlearn: 1584.9489658\ttotal: 1m 56s\tremaining: 28.6s\n",
      "803:\tlearn: 1584.8546881\ttotal: 1m 56s\tremaining: 28.4s\n",
      "804:\tlearn: 1584.6295247\ttotal: 1m 56s\tremaining: 28.3s\n",
      "805:\tlearn: 1584.5766038\ttotal: 1m 56s\tremaining: 28.1s\n",
      "806:\tlearn: 1584.4996025\ttotal: 1m 57s\tremaining: 28s\n",
      "807:\tlearn: 1584.3233971\ttotal: 1m 57s\tremaining: 27.9s\n",
      "808:\tlearn: 1584.1301355\ttotal: 1m 57s\tremaining: 27.7s\n",
      "809:\tlearn: 1584.0116761\ttotal: 1m 57s\tremaining: 27.6s\n",
      "810:\tlearn: 1583.8082332\ttotal: 1m 57s\tremaining: 27.4s\n",
      "811:\tlearn: 1583.6759581\ttotal: 1m 57s\tremaining: 27.3s\n",
      "812:\tlearn: 1583.5545303\ttotal: 1m 57s\tremaining: 27.1s\n",
      "813:\tlearn: 1583.4841450\ttotal: 1m 58s\tremaining: 27s\n",
      "814:\tlearn: 1583.4629015\ttotal: 1m 58s\tremaining: 26.8s\n",
      "815:\tlearn: 1583.2885709\ttotal: 1m 58s\tremaining: 26.7s\n",
      "816:\tlearn: 1583.2011893\ttotal: 1m 58s\tremaining: 26.5s\n",
      "817:\tlearn: 1583.1009798\ttotal: 1m 58s\tremaining: 26.4s\n",
      "818:\tlearn: 1582.9131763\ttotal: 1m 58s\tremaining: 26.2s\n",
      "819:\tlearn: 1582.7686152\ttotal: 1m 58s\tremaining: 26.1s\n",
      "820:\tlearn: 1582.6008039\ttotal: 1m 59s\tremaining: 25.9s\n",
      "821:\tlearn: 1582.4962318\ttotal: 1m 59s\tremaining: 25.8s\n",
      "822:\tlearn: 1582.2868227\ttotal: 1m 59s\tremaining: 25.7s\n",
      "823:\tlearn: 1582.2220892\ttotal: 1m 59s\tremaining: 25.5s\n",
      "824:\tlearn: 1582.2177956\ttotal: 1m 59s\tremaining: 25.4s\n",
      "825:\tlearn: 1582.2140517\ttotal: 1m 59s\tremaining: 25.2s\n",
      "826:\tlearn: 1582.1188582\ttotal: 1m 59s\tremaining: 25.1s\n",
      "827:\tlearn: 1581.9645781\ttotal: 1m 59s\tremaining: 24.9s\n",
      "828:\tlearn: 1581.8977799\ttotal: 2m\tremaining: 24.8s\n",
      "829:\tlearn: 1581.7717344\ttotal: 2m\tremaining: 24.6s\n",
      "830:\tlearn: 1581.6657841\ttotal: 2m\tremaining: 24.5s\n",
      "831:\tlearn: 1581.5663533\ttotal: 2m\tremaining: 24.3s\n",
      "832:\tlearn: 1581.5175670\ttotal: 2m\tremaining: 24.2s\n",
      "833:\tlearn: 1581.3808401\ttotal: 2m\tremaining: 24.1s\n",
      "834:\tlearn: 1581.3775811\ttotal: 2m\tremaining: 23.9s\n",
      "835:\tlearn: 1581.2024447\ttotal: 2m 1s\tremaining: 23.8s\n",
      "836:\tlearn: 1581.1803319\ttotal: 2m 1s\tremaining: 23.6s\n",
      "837:\tlearn: 1581.0944422\ttotal: 2m 1s\tremaining: 23.5s\n",
      "838:\tlearn: 1580.9458483\ttotal: 2m 1s\tremaining: 23.3s\n",
      "839:\tlearn: 1580.7377587\ttotal: 2m 1s\tremaining: 23.2s\n",
      "840:\tlearn: 1580.6906010\ttotal: 2m 1s\tremaining: 23.1s\n",
      "841:\tlearn: 1580.6093750\ttotal: 2m 2s\tremaining: 22.9s\n",
      "842:\tlearn: 1580.5092598\ttotal: 2m 2s\tremaining: 22.8s\n",
      "843:\tlearn: 1580.4557211\ttotal: 2m 2s\tremaining: 22.6s\n",
      "844:\tlearn: 1580.4529405\ttotal: 2m 2s\tremaining: 22.5s\n",
      "845:\tlearn: 1580.3730790\ttotal: 2m 2s\tremaining: 22.4s\n",
      "846:\tlearn: 1580.2962022\ttotal: 2m 3s\tremaining: 22.2s\n",
      "847:\tlearn: 1580.2547968\ttotal: 2m 3s\tremaining: 22.1s\n",
      "848:\tlearn: 1580.2339717\ttotal: 2m 3s\tremaining: 22s\n",
      "849:\tlearn: 1580.1709849\ttotal: 2m 3s\tremaining: 21.8s\n",
      "850:\tlearn: 1580.1145487\ttotal: 2m 3s\tremaining: 21.7s\n",
      "851:\tlearn: 1580.0253375\ttotal: 2m 3s\tremaining: 21.5s\n",
      "852:\tlearn: 1579.9646229\ttotal: 2m 3s\tremaining: 21.4s\n",
      "853:\tlearn: 1579.8428376\ttotal: 2m 4s\tremaining: 21.2s\n",
      "854:\tlearn: 1579.7305589\ttotal: 2m 4s\tremaining: 21.1s\n",
      "855:\tlearn: 1579.5479633\ttotal: 2m 4s\tremaining: 20.9s\n",
      "856:\tlearn: 1579.5229408\ttotal: 2m 4s\tremaining: 20.8s\n",
      "857:\tlearn: 1579.3293269\ttotal: 2m 4s\tremaining: 20.7s\n",
      "858:\tlearn: 1579.2830948\ttotal: 2m 4s\tremaining: 20.5s\n",
      "859:\tlearn: 1579.2269233\ttotal: 2m 5s\tremaining: 20.4s\n",
      "860:\tlearn: 1579.1100263\ttotal: 2m 5s\tremaining: 20.2s\n",
      "861:\tlearn: 1579.0426881\ttotal: 2m 5s\tremaining: 20.1s\n",
      "862:\tlearn: 1578.9776763\ttotal: 2m 5s\tremaining: 19.9s\n",
      "863:\tlearn: 1578.9154074\ttotal: 2m 5s\tremaining: 19.8s\n",
      "864:\tlearn: 1578.7762040\ttotal: 2m 5s\tremaining: 19.6s\n",
      "865:\tlearn: 1578.6043370\ttotal: 2m 5s\tremaining: 19.5s\n",
      "866:\tlearn: 1578.4936628\ttotal: 2m 6s\tremaining: 19.3s\n",
      "867:\tlearn: 1578.2390398\ttotal: 2m 6s\tremaining: 19.2s\n",
      "868:\tlearn: 1578.2362995\ttotal: 2m 6s\tremaining: 19s\n",
      "869:\tlearn: 1578.1849709\ttotal: 2m 6s\tremaining: 18.9s\n",
      "870:\tlearn: 1578.0115351\ttotal: 2m 6s\tremaining: 18.7s\n",
      "871:\tlearn: 1577.9876382\ttotal: 2m 6s\tremaining: 18.6s\n",
      "872:\tlearn: 1577.8967522\ttotal: 2m 6s\tremaining: 18.5s\n",
      "873:\tlearn: 1577.8496232\ttotal: 2m 7s\tremaining: 18.3s\n",
      "874:\tlearn: 1577.7487538\ttotal: 2m 7s\tremaining: 18.2s\n",
      "875:\tlearn: 1577.6361562\ttotal: 2m 7s\tremaining: 18s\n",
      "876:\tlearn: 1577.6144147\ttotal: 2m 7s\tremaining: 17.9s\n",
      "877:\tlearn: 1577.5750810\ttotal: 2m 7s\tremaining: 17.7s\n",
      "878:\tlearn: 1577.5204237\ttotal: 2m 7s\tremaining: 17.6s\n",
      "879:\tlearn: 1577.3933474\ttotal: 2m 7s\tremaining: 17.5s\n",
      "880:\tlearn: 1577.3174017\ttotal: 2m 8s\tremaining: 17.3s\n",
      "881:\tlearn: 1577.2872629\ttotal: 2m 8s\tremaining: 17.2s\n",
      "882:\tlearn: 1577.1814181\ttotal: 2m 8s\tremaining: 17s\n",
      "883:\tlearn: 1577.1504440\ttotal: 2m 8s\tremaining: 16.9s\n",
      "884:\tlearn: 1576.8727649\ttotal: 2m 8s\tremaining: 16.7s\n",
      "885:\tlearn: 1576.7233506\ttotal: 2m 8s\tremaining: 16.6s\n",
      "886:\tlearn: 1576.5577929\ttotal: 2m 8s\tremaining: 16.4s\n",
      "887:\tlearn: 1576.5043809\ttotal: 2m 9s\tremaining: 16.3s\n",
      "888:\tlearn: 1576.4008149\ttotal: 2m 9s\tremaining: 16.1s\n",
      "889:\tlearn: 1576.3159169\ttotal: 2m 9s\tremaining: 16s\n",
      "890:\tlearn: 1576.1930582\ttotal: 2m 9s\tremaining: 15.9s\n",
      "891:\tlearn: 1576.0955203\ttotal: 2m 9s\tremaining: 15.7s\n",
      "892:\tlearn: 1575.9192937\ttotal: 2m 9s\tremaining: 15.6s\n",
      "893:\tlearn: 1575.8885471\ttotal: 2m 10s\tremaining: 15.4s\n",
      "894:\tlearn: 1575.6889154\ttotal: 2m 10s\tremaining: 15.3s\n",
      "895:\tlearn: 1575.6452583\ttotal: 2m 10s\tremaining: 15.1s\n",
      "896:\tlearn: 1575.6150373\ttotal: 2m 10s\tremaining: 15s\n",
      "897:\tlearn: 1575.3716637\ttotal: 2m 10s\tremaining: 14.8s\n",
      "898:\tlearn: 1575.2665630\ttotal: 2m 10s\tremaining: 14.7s\n",
      "899:\tlearn: 1575.0975289\ttotal: 2m 11s\tremaining: 14.6s\n",
      "900:\tlearn: 1575.0019130\ttotal: 2m 11s\tremaining: 14.4s\n",
      "901:\tlearn: 1574.9577261\ttotal: 2m 11s\tremaining: 14.3s\n",
      "902:\tlearn: 1574.8371332\ttotal: 2m 11s\tremaining: 14.1s\n",
      "903:\tlearn: 1574.7910957\ttotal: 2m 11s\tremaining: 14s\n",
      "904:\tlearn: 1574.7127064\ttotal: 2m 11s\tremaining: 13.8s\n",
      "905:\tlearn: 1574.6116377\ttotal: 2m 11s\tremaining: 13.7s\n",
      "906:\tlearn: 1574.5151691\ttotal: 2m 12s\tremaining: 13.5s\n",
      "907:\tlearn: 1574.4411183\ttotal: 2m 12s\tremaining: 13.4s\n",
      "908:\tlearn: 1574.2728958\ttotal: 2m 12s\tremaining: 13.3s\n",
      "909:\tlearn: 1574.1395163\ttotal: 2m 12s\tremaining: 13.1s\n",
      "910:\tlearn: 1573.9337477\ttotal: 2m 12s\tremaining: 13s\n",
      "911:\tlearn: 1573.8515780\ttotal: 2m 12s\tremaining: 12.8s\n",
      "912:\tlearn: 1573.7674602\ttotal: 2m 13s\tremaining: 12.7s\n",
      "913:\tlearn: 1573.6707240\ttotal: 2m 13s\tremaining: 12.5s\n",
      "914:\tlearn: 1573.5385124\ttotal: 2m 13s\tremaining: 12.4s\n",
      "915:\tlearn: 1573.4661994\ttotal: 2m 13s\tremaining: 12.2s\n",
      "916:\tlearn: 1573.1121025\ttotal: 2m 13s\tremaining: 12.1s\n",
      "917:\tlearn: 1573.0319788\ttotal: 2m 13s\tremaining: 12s\n",
      "918:\tlearn: 1572.9028621\ttotal: 2m 13s\tremaining: 11.8s\n",
      "919:\tlearn: 1572.8158167\ttotal: 2m 14s\tremaining: 11.7s\n",
      "920:\tlearn: 1572.7424354\ttotal: 2m 14s\tremaining: 11.5s\n",
      "921:\tlearn: 1572.6206149\ttotal: 2m 14s\tremaining: 11.4s\n",
      "922:\tlearn: 1572.5138585\ttotal: 2m 14s\tremaining: 11.2s\n",
      "923:\tlearn: 1572.3948092\ttotal: 2m 14s\tremaining: 11.1s\n",
      "924:\tlearn: 1572.2896738\ttotal: 2m 14s\tremaining: 10.9s\n",
      "925:\tlearn: 1572.2254104\ttotal: 2m 15s\tremaining: 10.8s\n",
      "926:\tlearn: 1572.0611574\ttotal: 2m 15s\tremaining: 10.6s\n",
      "927:\tlearn: 1571.9696968\ttotal: 2m 15s\tremaining: 10.5s\n",
      "928:\tlearn: 1571.8580232\ttotal: 2m 15s\tremaining: 10.4s\n",
      "929:\tlearn: 1571.6219132\ttotal: 2m 15s\tremaining: 10.2s\n",
      "930:\tlearn: 1571.5183905\ttotal: 2m 15s\tremaining: 10.1s\n",
      "931:\tlearn: 1571.4313208\ttotal: 2m 15s\tremaining: 9.91s\n",
      "932:\tlearn: 1571.3538833\ttotal: 2m 15s\tremaining: 9.77s\n",
      "933:\tlearn: 1571.1937161\ttotal: 2m 16s\tremaining: 9.62s\n",
      "934:\tlearn: 1571.0602721\ttotal: 2m 16s\tremaining: 9.47s\n",
      "935:\tlearn: 1570.9160166\ttotal: 2m 16s\tremaining: 9.33s\n",
      "936:\tlearn: 1570.8463619\ttotal: 2m 16s\tremaining: 9.18s\n",
      "937:\tlearn: 1570.7557289\ttotal: 2m 16s\tremaining: 9.04s\n",
      "938:\tlearn: 1570.6752296\ttotal: 2m 16s\tremaining: 8.89s\n",
      "939:\tlearn: 1570.5674130\ttotal: 2m 16s\tremaining: 8.74s\n",
      "940:\tlearn: 1570.4804922\ttotal: 2m 17s\tremaining: 8.6s\n",
      "941:\tlearn: 1570.4128788\ttotal: 2m 17s\tremaining: 8.46s\n",
      "942:\tlearn: 1570.3214725\ttotal: 2m 17s\tremaining: 8.31s\n",
      "943:\tlearn: 1570.1801993\ttotal: 2m 17s\tremaining: 8.17s\n",
      "944:\tlearn: 1570.0676128\ttotal: 2m 17s\tremaining: 8.02s\n",
      "945:\tlearn: 1569.9422835\ttotal: 2m 18s\tremaining: 7.88s\n",
      "946:\tlearn: 1569.8254449\ttotal: 2m 18s\tremaining: 7.73s\n",
      "947:\tlearn: 1569.7118824\ttotal: 2m 18s\tremaining: 7.59s\n",
      "948:\tlearn: 1569.6404188\ttotal: 2m 18s\tremaining: 7.44s\n",
      "949:\tlearn: 1569.5886319\ttotal: 2m 18s\tremaining: 7.29s\n",
      "950:\tlearn: 1569.4374197\ttotal: 2m 18s\tremaining: 7.15s\n",
      "951:\tlearn: 1569.3568371\ttotal: 2m 18s\tremaining: 7s\n",
      "952:\tlearn: 1569.2967655\ttotal: 2m 18s\tremaining: 6.85s\n",
      "953:\tlearn: 1569.2197159\ttotal: 2m 19s\tremaining: 6.7s\n",
      "954:\tlearn: 1569.1777563\ttotal: 2m 19s\tremaining: 6.56s\n",
      "955:\tlearn: 1569.0225912\ttotal: 2m 19s\tremaining: 6.41s\n",
      "956:\tlearn: 1568.9920611\ttotal: 2m 19s\tremaining: 6.27s\n",
      "957:\tlearn: 1568.8634758\ttotal: 2m 19s\tremaining: 6.12s\n",
      "958:\tlearn: 1568.6662651\ttotal: 2m 19s\tremaining: 5.98s\n",
      "959:\tlearn: 1568.5088356\ttotal: 2m 20s\tremaining: 5.84s\n",
      "960:\tlearn: 1568.4965448\ttotal: 2m 20s\tremaining: 5.7s\n",
      "961:\tlearn: 1568.3907789\ttotal: 2m 20s\tremaining: 5.55s\n",
      "962:\tlearn: 1568.2980187\ttotal: 2m 20s\tremaining: 5.41s\n",
      "963:\tlearn: 1568.2896818\ttotal: 2m 20s\tremaining: 5.26s\n",
      "964:\tlearn: 1568.2016614\ttotal: 2m 21s\tremaining: 5.12s\n",
      "965:\tlearn: 1568.0644465\ttotal: 2m 21s\tremaining: 4.97s\n",
      "966:\tlearn: 1567.9155509\ttotal: 2m 21s\tremaining: 4.83s\n",
      "967:\tlearn: 1567.8582246\ttotal: 2m 21s\tremaining: 4.68s\n",
      "968:\tlearn: 1567.7784592\ttotal: 2m 21s\tremaining: 4.54s\n",
      "969:\tlearn: 1567.6540195\ttotal: 2m 21s\tremaining: 4.39s\n",
      "970:\tlearn: 1567.5689563\ttotal: 2m 22s\tremaining: 4.24s\n",
      "971:\tlearn: 1567.5188475\ttotal: 2m 22s\tremaining: 4.1s\n",
      "972:\tlearn: 1567.4371802\ttotal: 2m 22s\tremaining: 3.95s\n",
      "973:\tlearn: 1567.3897149\ttotal: 2m 22s\tremaining: 3.81s\n",
      "974:\tlearn: 1567.3362315\ttotal: 2m 22s\tremaining: 3.66s\n",
      "975:\tlearn: 1567.2072631\ttotal: 2m 22s\tremaining: 3.52s\n",
      "976:\tlearn: 1567.0834929\ttotal: 2m 23s\tremaining: 3.37s\n",
      "977:\tlearn: 1566.9491923\ttotal: 2m 23s\tremaining: 3.23s\n",
      "978:\tlearn: 1566.8346289\ttotal: 2m 23s\tremaining: 3.08s\n",
      "979:\tlearn: 1566.7558454\ttotal: 2m 23s\tremaining: 2.94s\n",
      "980:\tlearn: 1566.6051808\ttotal: 2m 23s\tremaining: 2.79s\n",
      "981:\tlearn: 1566.5693611\ttotal: 2m 24s\tremaining: 2.64s\n",
      "982:\tlearn: 1566.5268905\ttotal: 2m 24s\tremaining: 2.49s\n",
      "983:\tlearn: 1566.4833476\ttotal: 2m 24s\tremaining: 2.35s\n",
      "984:\tlearn: 1566.3225811\ttotal: 2m 24s\tremaining: 2.2s\n",
      "985:\tlearn: 1566.0469777\ttotal: 2m 24s\tremaining: 2.06s\n",
      "986:\tlearn: 1565.9351259\ttotal: 2m 25s\tremaining: 1.91s\n",
      "987:\tlearn: 1565.7446006\ttotal: 2m 25s\tremaining: 1.76s\n",
      "988:\tlearn: 1565.6406571\ttotal: 2m 25s\tremaining: 1.62s\n",
      "989:\tlearn: 1565.4754011\ttotal: 2m 25s\tremaining: 1.47s\n",
      "990:\tlearn: 1565.2620874\ttotal: 2m 25s\tremaining: 1.32s\n",
      "991:\tlearn: 1565.1503070\ttotal: 2m 25s\tremaining: 1.18s\n",
      "992:\tlearn: 1565.1012372\ttotal: 2m 26s\tremaining: 1.03s\n",
      "993:\tlearn: 1564.9785745\ttotal: 2m 26s\tremaining: 883ms\n",
      "994:\tlearn: 1564.8636852\ttotal: 2m 26s\tremaining: 735ms\n",
      "995:\tlearn: 1564.6823597\ttotal: 2m 26s\tremaining: 588ms\n",
      "996:\tlearn: 1564.5488667\ttotal: 2m 26s\tremaining: 441ms\n",
      "997:\tlearn: 1564.4197534\ttotal: 2m 26s\tremaining: 294ms\n",
      "998:\tlearn: 1564.3950416\ttotal: 2m 26s\tremaining: 147ms\n",
      "999:\tlearn: 1564.3382736\ttotal: 2m 27s\tremaining: 0us\n",
      "CatBoost without OHE\n",
      "RMSE: 1635.5431243365203 Training time: 149.42547154426575 Prediction time: 0.37122368812561035\n",
      "CPU times: user 2min 26s, sys: 946 ms, total: 2min 27s\n",
      "Wall time: 2min 29s\n"
     ]
    }
   ],
   "source": [
    "%%time\n",
    "# CatBoost without OHE \n",
    "cb_model = CatBoostRegressor(random_state=42)\n",
    "\n",
    "start = time.time()\n",
    "cb_model.fit(features_train1, target_train1, cat_features=list_cat)\n",
    "end = time.time()\n",
    "cbtt = end - start\n",
    "\n",
    "start = time.time()\n",
    "predicted_valid = cb_model.predict(features_valid1)\n",
    "end = time.time()\n",
    "cbpt = end - start\n",
    "\n",
    "cb_rmse_calc = mean_squared_error(target_valid1, predicted_valid)**0.5\n",
    "\n",
    "print('CatBoost without OHE')\n",
    "print('RMSE:', cb_rmse_calc, 'Training time:', cbtt, 'Prediction time:', cbpt)"
   ]
  },
  {
   "cell_type": "code",
   "execution_count": 56,
   "metadata": {},
   "outputs": [
    {
     "name": "stdout",
     "output_type": "stream",
     "text": [
      "Linear Regression - Sanity Check\n",
      "RMSE: 2895.0483751307856 Training time: 21.69653344154358 Prediction time: 0.3407108783721924\n",
      "\n",
      "Random Forest Regressor\n",
      "RMSE: 1637.1681637261606 Training time: 446.7893626689911 Prediction time: 4.471585512161255\n",
      "\n",
      "LightGBM with OHE\n",
      "RMSE: 1726.6530504000457 Training time: 322.7245354652405 Prediction time: 0.7187302112579346\n",
      "\n",
      "LightGBM without OHE\n",
      "RMSE: 1661.1798804914488 Training time: 304.41242814064026 Prediction time: 0.6013398170471191\n",
      "\n",
      "CatBoost with OHE\n",
      "RMSE: 1639.9786314398411 Training time: 32.960219860076904 Prediction time: 0.16595196723937988\n",
      "\n",
      "CatBoost without OHE\n",
      "RMSE: 1635.5431243365203 Training time: 149.42547154426575 Prediction time: 0.37122368812561035\n"
     ]
    }
   ],
   "source": [
    "print('Linear Regression - Sanity Check')\n",
    "print('RMSE:', lr_rmse_calc, 'Training time:', lrtt, 'Prediction time:', lrpt)\n",
    "print('\\nRandom Forest Regressor')\n",
    "print('RMSE:', rf_rmse_calc, 'Training time:', rftt, 'Prediction time:', rfpt)\n",
    "print('\\nLightGBM with OHE')\n",
    "print('RMSE:', lgohe_rmse_calc, 'Training time:', lgohett, 'Prediction time:', lgohept)\n",
    "print('\\nLightGBM without OHE')\n",
    "print('RMSE:', lg_rmse_calc, 'Training time:', lgtt, 'Prediction time:', lgpt)\n",
    "print('\\nCatBoost with OHE')\n",
    "print('RMSE:', cbohe_rmse_calc, 'Training time:', cbohett, 'Prediction time:', cbohept)\n",
    "print('\\nCatBoost without OHE')\n",
    "print('RMSE:', cb_rmse_calc, 'Training time:', cbtt, 'Prediction time:', cbpt)"
   ]
  },
  {
   "cell_type": "markdown",
   "metadata": {},
   "source": [
    "* A few points to highlight:\n",
    "    * Training times of the Linear regression models approximate from 20 seconds with LightGBM to 500 seconds with CatBoost.\n",
    "    * When One Hot Encoding is not applied in LightGBM, it results in the lowest RMSE value.\n",
    "    * All models resulted in a better RMSE than the Linear regression model (which we used as a sanity check), which is to be expected.\n"
   ]
  },
  {
   "cell_type": "markdown",
   "metadata": {},
   "source": [
    "# Hyperparameter Tuning for RandomForestRegressor"
   ]
  },
  {
   "cell_type": "code",
   "execution_count": 57,
   "metadata": {},
   "outputs": [
    {
     "name": "stdout",
     "output_type": "stream",
     "text": [
      "Fitting 5 folds for each of 4 candidates, totalling 20 fits\n",
      "[CV 1/5; 1/4] START n_estimators=10.............................................\n"
     ]
    },
    {
     "name": "stderr",
     "output_type": "stream",
     "text": [
      "/opt/conda/lib/python3.9/site-packages/sklearn/model_selection/_search.py:285: UserWarning: The total space of parameters 4 is smaller than n_iter=10. Running 4 iterations. For exhaustive searches, use GridSearchCV.\n",
      "  warnings.warn(\n"
     ]
    },
    {
     "name": "stdout",
     "output_type": "stream",
     "text": [
      "[CV 1/5; 1/4] END ...........................n_estimators=10; total time=  40.3s\n",
      "[CV 2/5; 1/4] START n_estimators=10.............................................\n",
      "[CV 2/5; 1/4] END ...........................n_estimators=10; total time=  39.4s\n",
      "[CV 3/5; 1/4] START n_estimators=10.............................................\n",
      "[CV 3/5; 1/4] END ...........................n_estimators=10; total time=  39.3s\n",
      "[CV 4/5; 1/4] START n_estimators=10.............................................\n",
      "[CV 4/5; 1/4] END ...........................n_estimators=10; total time=  39.8s\n",
      "[CV 5/5; 1/4] START n_estimators=10.............................................\n",
      "[CV 5/5; 1/4] END ...........................n_estimators=10; total time=  39.9s\n",
      "[CV 1/5; 2/4] START n_estimators=15.............................................\n",
      "[CV 1/5; 2/4] END ...........................n_estimators=15; total time=  58.8s\n",
      "[CV 2/5; 2/4] START n_estimators=15.............................................\n",
      "[CV 2/5; 2/4] END ...........................n_estimators=15; total time= 1.0min\n",
      "[CV 3/5; 2/4] START n_estimators=15.............................................\n",
      "[CV 3/5; 2/4] END ...........................n_estimators=15; total time=  58.4s\n",
      "[CV 4/5; 2/4] START n_estimators=15.............................................\n",
      "[CV 4/5; 2/4] END ...........................n_estimators=15; total time=  57.1s\n",
      "[CV 5/5; 2/4] START n_estimators=15.............................................\n",
      "[CV 5/5; 2/4] END ...........................n_estimators=15; total time=  54.0s\n",
      "[CV 1/5; 3/4] START n_estimators=20.............................................\n",
      "[CV 1/5; 3/4] END ...........................n_estimators=20; total time= 1.2min\n",
      "[CV 2/5; 3/4] START n_estimators=20.............................................\n",
      "[CV 2/5; 3/4] END ...........................n_estimators=20; total time= 1.2min\n",
      "[CV 3/5; 3/4] START n_estimators=20.............................................\n",
      "[CV 3/5; 3/4] END ...........................n_estimators=20; total time= 1.2min\n",
      "[CV 4/5; 3/4] START n_estimators=20.............................................\n",
      "[CV 4/5; 3/4] END ...........................n_estimators=20; total time= 1.2min\n",
      "[CV 5/5; 3/4] START n_estimators=20.............................................\n",
      "[CV 5/5; 3/4] END ...........................n_estimators=20; total time= 1.2min\n",
      "[CV 1/5; 4/4] START n_estimators=25.............................................\n",
      "[CV 1/5; 4/4] END ...........................n_estimators=25; total time= 1.4min\n",
      "[CV 2/5; 4/4] START n_estimators=25.............................................\n",
      "[CV 2/5; 4/4] END ...........................n_estimators=25; total time= 1.5min\n",
      "[CV 3/5; 4/4] START n_estimators=25.............................................\n",
      "[CV 3/5; 4/4] END ...........................n_estimators=25; total time= 1.5min\n",
      "[CV 4/5; 4/4] START n_estimators=25.............................................\n",
      "[CV 4/5; 4/4] END ...........................n_estimators=25; total time= 1.5min\n",
      "[CV 5/5; 4/4] START n_estimators=25.............................................\n",
      "[CV 5/5; 4/4] END ...........................n_estimators=25; total time= 1.5min\n",
      "Best parameters: {'n_estimators': 25}\n",
      "RMSE: 1656.37\n",
      "CPU times: user 23min 32s, sys: 1.94 s, total: 23min 34s\n",
      "Wall time: 23min 36s\n"
     ]
    }
   ],
   "source": [
    "%%time\n",
    "rf_model = RandomForestRegressor(random_state=42)\n",
    "params = { 'n_estimators': range(10, 30, 5) }\n",
    "\n",
    "best_model = RandomizedSearchCV(rf_model, params, scoring=rmse, cv=5, verbose=10)\n",
    "best_model.fit(features_train, target_train)  \n",
    "print('Best parameters:', best_model.best_params_)\n",
    "\n",
    "predictions = best_model.best_estimator_.predict(features_valid)\n",
    "print('RMSE:', round(mean_squared_error(target_valid, predictions) ** 0.5, 2))"
   ]
  },
  {
   "cell_type": "markdown",
   "metadata": {},
   "source": [
    "# Hyperparameter Tuning for Catboost without applying One Hot Encoding"
   ]
  },
  {
   "cell_type": "code",
   "execution_count": 58,
   "metadata": {},
   "outputs": [
    {
     "name": "stdout",
     "output_type": "stream",
     "text": [
      "Fitting 5 folds for each of 10 candidates, totalling 50 fits\n",
      "[CV 1/5; 1/10] START learning_rate=0.75, n_estimators=20........................\n",
      "0:\tlearn: 2888.2671829\ttotal: 57.1ms\tremaining: 1.08s\n",
      "1:\tlearn: 2385.4416503\ttotal: 120ms\tremaining: 1.08s\n",
      "2:\tlearn: 2226.4461303\ttotal: 176ms\tremaining: 997ms\n",
      "3:\tlearn: 2136.5069824\ttotal: 224ms\tremaining: 895ms\n",
      "4:\tlearn: 2095.6710101\ttotal: 291ms\tremaining: 872ms\n",
      "5:\tlearn: 2059.3928623\ttotal: 364ms\tremaining: 850ms\n",
      "6:\tlearn: 2014.1355608\ttotal: 432ms\tremaining: 803ms\n",
      "7:\tlearn: 1986.4103283\ttotal: 481ms\tremaining: 721ms\n",
      "8:\tlearn: 1972.8356151\ttotal: 529ms\tremaining: 646ms\n",
      "9:\tlearn: 1955.0087871\ttotal: 576ms\tremaining: 576ms\n",
      "10:\tlearn: 1936.6437669\ttotal: 622ms\tremaining: 509ms\n",
      "11:\tlearn: 1919.0751472\ttotal: 678ms\tremaining: 452ms\n",
      "12:\tlearn: 1903.2939466\ttotal: 721ms\tremaining: 388ms\n",
      "13:\tlearn: 1897.2769533\ttotal: 767ms\tremaining: 329ms\n",
      "14:\tlearn: 1887.7630354\ttotal: 812ms\tremaining: 271ms\n",
      "15:\tlearn: 1873.9166381\ttotal: 859ms\tremaining: 215ms\n",
      "16:\tlearn: 1867.2304255\ttotal: 907ms\tremaining: 160ms\n",
      "17:\tlearn: 1861.3040103\ttotal: 955ms\tremaining: 106ms\n",
      "18:\tlearn: 1852.5581828\ttotal: 1s\tremaining: 52.7ms\n",
      "19:\tlearn: 1843.9707957\ttotal: 1.05s\tremaining: 0us\n",
      "[CV 1/5; 1/10] END ......learning_rate=0.75, n_estimators=20; total time=   1.9s\n",
      "[CV 2/5; 1/10] START learning_rate=0.75, n_estimators=20........................\n",
      "0:\tlearn: 2890.8710278\ttotal: 55.1ms\tremaining: 1.05s\n",
      "1:\tlearn: 2389.0926855\ttotal: 120ms\tremaining: 1.08s\n",
      "2:\tlearn: 2244.9441654\ttotal: 172ms\tremaining: 976ms\n",
      "3:\tlearn: 2144.2017990\ttotal: 219ms\tremaining: 875ms\n",
      "4:\tlearn: 2097.0928476\ttotal: 266ms\tremaining: 797ms\n",
      "5:\tlearn: 2054.1898401\ttotal: 312ms\tremaining: 727ms\n",
      "6:\tlearn: 2022.6231343\ttotal: 358ms\tremaining: 665ms\n",
      "7:\tlearn: 1994.0051590\ttotal: 407ms\tremaining: 611ms\n",
      "8:\tlearn: 1970.1880801\ttotal: 453ms\tremaining: 554ms\n",
      "9:\tlearn: 1951.6071263\ttotal: 500ms\tremaining: 500ms\n",
      "10:\tlearn: 1932.6276262\ttotal: 557ms\tremaining: 456ms\n",
      "11:\tlearn: 1919.5483042\ttotal: 610ms\tremaining: 407ms\n",
      "12:\tlearn: 1909.8375866\ttotal: 659ms\tremaining: 355ms\n",
      "13:\tlearn: 1894.4827641\ttotal: 711ms\tremaining: 305ms\n",
      "14:\tlearn: 1886.9374292\ttotal: 764ms\tremaining: 255ms\n",
      "15:\tlearn: 1873.1328148\ttotal: 813ms\tremaining: 203ms\n",
      "16:\tlearn: 1863.7346400\ttotal: 879ms\tremaining: 155ms\n",
      "17:\tlearn: 1855.7799027\ttotal: 927ms\tremaining: 103ms\n",
      "18:\tlearn: 1847.8040912\ttotal: 986ms\tremaining: 51.9ms\n",
      "19:\tlearn: 1839.3205948\ttotal: 1.03s\tremaining: 0us\n",
      "[CV 2/5; 1/10] END ......learning_rate=0.75, n_estimators=20; total time=   1.7s\n",
      "[CV 3/5; 1/10] START learning_rate=0.75, n_estimators=20........................\n",
      "0:\tlearn: 2931.7782281\ttotal: 74.6ms\tremaining: 1.42s\n",
      "1:\tlearn: 2443.4218392\ttotal: 136ms\tremaining: 1.22s\n",
      "2:\tlearn: 2274.1460827\ttotal: 187ms\tremaining: 1.06s\n",
      "3:\tlearn: 2173.9482518\ttotal: 238ms\tremaining: 952ms\n",
      "4:\tlearn: 2097.1761621\ttotal: 285ms\tremaining: 855ms\n",
      "5:\tlearn: 2062.1185337\ttotal: 333ms\tremaining: 778ms\n",
      "6:\tlearn: 2018.8367378\ttotal: 381ms\tremaining: 708ms\n",
      "7:\tlearn: 1993.1133693\ttotal: 428ms\tremaining: 642ms\n",
      "8:\tlearn: 1973.4717202\ttotal: 472ms\tremaining: 577ms\n",
      "9:\tlearn: 1958.6315985\ttotal: 521ms\tremaining: 521ms\n",
      "10:\tlearn: 1940.8169196\ttotal: 568ms\tremaining: 465ms\n",
      "11:\tlearn: 1922.5093603\ttotal: 614ms\tremaining: 409ms\n",
      "12:\tlearn: 1914.2373594\ttotal: 658ms\tremaining: 355ms\n",
      "13:\tlearn: 1902.7905059\ttotal: 703ms\tremaining: 301ms\n",
      "14:\tlearn: 1897.2346504\ttotal: 749ms\tremaining: 250ms\n",
      "15:\tlearn: 1886.7661993\ttotal: 800ms\tremaining: 200ms\n",
      "16:\tlearn: 1868.9844198\ttotal: 848ms\tremaining: 150ms\n",
      "17:\tlearn: 1861.6609525\ttotal: 893ms\tremaining: 99.2ms\n",
      "18:\tlearn: 1851.2753564\ttotal: 941ms\tremaining: 49.5ms\n",
      "19:\tlearn: 1843.2123035\ttotal: 990ms\tremaining: 0us\n",
      "[CV 3/5; 1/10] END ......learning_rate=0.75, n_estimators=20; total time=   1.7s\n",
      "[CV 4/5; 1/10] START learning_rate=0.75, n_estimators=20........................\n",
      "0:\tlearn: 2867.5354663\ttotal: 53.5ms\tremaining: 1.02s\n",
      "1:\tlearn: 2391.8211344\ttotal: 105ms\tremaining: 946ms\n",
      "2:\tlearn: 2221.7898046\ttotal: 165ms\tremaining: 934ms\n",
      "3:\tlearn: 2137.3378396\ttotal: 211ms\tremaining: 844ms\n",
      "4:\tlearn: 2095.8838099\ttotal: 262ms\tremaining: 786ms\n",
      "5:\tlearn: 2064.7704359\ttotal: 312ms\tremaining: 728ms\n",
      "6:\tlearn: 2021.9186490\ttotal: 360ms\tremaining: 669ms\n",
      "7:\tlearn: 1999.3234014\ttotal: 406ms\tremaining: 610ms\n",
      "8:\tlearn: 1970.1912213\ttotal: 453ms\tremaining: 553ms\n",
      "9:\tlearn: 1957.6267958\ttotal: 500ms\tremaining: 500ms\n",
      "10:\tlearn: 1943.6969170\ttotal: 544ms\tremaining: 445ms\n",
      "11:\tlearn: 1934.5962564\ttotal: 588ms\tremaining: 392ms\n",
      "12:\tlearn: 1924.3393976\ttotal: 635ms\tremaining: 342ms\n",
      "13:\tlearn: 1907.0538113\ttotal: 681ms\tremaining: 292ms\n",
      "14:\tlearn: 1895.1826922\ttotal: 728ms\tremaining: 243ms\n",
      "15:\tlearn: 1881.7840597\ttotal: 775ms\tremaining: 194ms\n",
      "16:\tlearn: 1872.5606265\ttotal: 823ms\tremaining: 145ms\n",
      "17:\tlearn: 1863.8692471\ttotal: 868ms\tremaining: 96.4ms\n",
      "18:\tlearn: 1857.2454275\ttotal: 914ms\tremaining: 48.1ms\n",
      "19:\tlearn: 1847.3082628\ttotal: 961ms\tremaining: 0us\n",
      "[CV 4/5; 1/10] END ......learning_rate=0.75, n_estimators=20; total time=   1.7s\n",
      "[CV 5/5; 1/10] START learning_rate=0.75, n_estimators=20........................\n",
      "0:\tlearn: 2888.9984296\ttotal: 51.3ms\tremaining: 975ms\n",
      "1:\tlearn: 2433.4495568\ttotal: 101ms\tremaining: 912ms\n",
      "2:\tlearn: 2245.7470940\ttotal: 160ms\tremaining: 909ms\n",
      "3:\tlearn: 2157.8100767\ttotal: 209ms\tremaining: 836ms\n",
      "4:\tlearn: 2107.5382675\ttotal: 256ms\tremaining: 767ms\n",
      "5:\tlearn: 2066.8903184\ttotal: 309ms\tremaining: 721ms\n",
      "6:\tlearn: 2029.8888197\ttotal: 363ms\tremaining: 673ms\n",
      "7:\tlearn: 2007.3722412\ttotal: 414ms\tremaining: 621ms\n",
      "8:\tlearn: 1981.5144591\ttotal: 482ms\tremaining: 589ms\n",
      "9:\tlearn: 1963.1698444\ttotal: 532ms\tremaining: 532ms\n",
      "10:\tlearn: 1946.1926263\ttotal: 581ms\tremaining: 475ms\n",
      "11:\tlearn: 1932.8346306\ttotal: 625ms\tremaining: 417ms\n",
      "12:\tlearn: 1920.4019757\ttotal: 672ms\tremaining: 362ms\n",
      "13:\tlearn: 1907.4798641\ttotal: 721ms\tremaining: 309ms\n",
      "14:\tlearn: 1887.6199430\ttotal: 768ms\tremaining: 256ms\n",
      "15:\tlearn: 1880.1815479\ttotal: 814ms\tremaining: 203ms\n",
      "16:\tlearn: 1874.5219027\ttotal: 861ms\tremaining: 152ms\n",
      "17:\tlearn: 1867.2138133\ttotal: 910ms\tremaining: 101ms\n",
      "18:\tlearn: 1860.7092134\ttotal: 960ms\tremaining: 50.5ms\n",
      "19:\tlearn: 1853.0179716\ttotal: 1.01s\tremaining: 0us\n",
      "[CV 5/5; 1/10] END ......learning_rate=0.75, n_estimators=20; total time=   1.8s\n",
      "[CV 1/5; 2/10] START learning_rate=0.75, n_estimators=15........................\n",
      "0:\tlearn: 2888.2671829\ttotal: 69.4ms\tremaining: 972ms\n",
      "1:\tlearn: 2385.4416503\ttotal: 136ms\tremaining: 886ms\n",
      "2:\tlearn: 2226.4461303\ttotal: 188ms\tremaining: 753ms\n",
      "3:\tlearn: 2136.5069824\ttotal: 240ms\tremaining: 661ms\n",
      "4:\tlearn: 2095.6710101\ttotal: 289ms\tremaining: 578ms\n",
      "5:\tlearn: 2059.3928623\ttotal: 337ms\tremaining: 506ms\n",
      "6:\tlearn: 2014.1355608\ttotal: 387ms\tremaining: 442ms\n",
      "7:\tlearn: 1986.4103283\ttotal: 433ms\tremaining: 379ms\n",
      "8:\tlearn: 1972.8356151\ttotal: 477ms\tremaining: 318ms\n",
      "9:\tlearn: 1955.0087871\ttotal: 522ms\tremaining: 261ms\n",
      "10:\tlearn: 1936.6437669\ttotal: 568ms\tremaining: 207ms\n",
      "11:\tlearn: 1919.0751472\ttotal: 613ms\tremaining: 153ms\n",
      "12:\tlearn: 1903.2939466\ttotal: 658ms\tremaining: 101ms\n",
      "13:\tlearn: 1897.2769533\ttotal: 705ms\tremaining: 50.4ms\n",
      "14:\tlearn: 1887.7630354\ttotal: 753ms\tremaining: 0us\n",
      "[CV 1/5; 2/10] END ......learning_rate=0.75, n_estimators=15; total time=   1.6s\n",
      "[CV 2/5; 2/10] START learning_rate=0.75, n_estimators=15........................\n",
      "0:\tlearn: 2890.8710278\ttotal: 54.8ms\tremaining: 768ms\n",
      "1:\tlearn: 2389.0926855\ttotal: 124ms\tremaining: 806ms\n",
      "2:\tlearn: 2244.9441654\ttotal: 177ms\tremaining: 706ms\n",
      "3:\tlearn: 2144.2017990\ttotal: 224ms\tremaining: 616ms\n",
      "4:\tlearn: 2097.0928476\ttotal: 270ms\tremaining: 540ms\n",
      "5:\tlearn: 2054.1898401\ttotal: 320ms\tremaining: 479ms\n",
      "6:\tlearn: 2022.6231343\ttotal: 364ms\tremaining: 416ms\n",
      "7:\tlearn: 1994.0051590\ttotal: 409ms\tremaining: 358ms\n",
      "8:\tlearn: 1970.1880801\ttotal: 456ms\tremaining: 304ms\n",
      "9:\tlearn: 1951.6071263\ttotal: 499ms\tremaining: 250ms\n",
      "10:\tlearn: 1932.6276262\ttotal: 547ms\tremaining: 199ms\n",
      "11:\tlearn: 1919.5483042\ttotal: 592ms\tremaining: 148ms\n",
      "12:\tlearn: 1909.8375866\ttotal: 638ms\tremaining: 98.2ms\n",
      "13:\tlearn: 1894.4827641\ttotal: 683ms\tremaining: 48.8ms\n",
      "14:\tlearn: 1886.9374292\ttotal: 731ms\tremaining: 0us\n",
      "[CV 2/5; 2/10] END ......learning_rate=0.75, n_estimators=15; total time=   1.5s\n",
      "[CV 3/5; 2/10] START learning_rate=0.75, n_estimators=15........................\n",
      "0:\tlearn: 2931.7782281\ttotal: 56.7ms\tremaining: 793ms\n",
      "1:\tlearn: 2443.4218392\ttotal: 116ms\tremaining: 755ms\n",
      "2:\tlearn: 2274.1460827\ttotal: 169ms\tremaining: 674ms\n",
      "3:\tlearn: 2173.9482518\ttotal: 226ms\tremaining: 621ms\n",
      "4:\tlearn: 2097.1761621\ttotal: 278ms\tremaining: 557ms\n",
      "5:\tlearn: 2062.1185337\ttotal: 330ms\tremaining: 494ms\n",
      "6:\tlearn: 2018.8367378\ttotal: 386ms\tremaining: 442ms\n",
      "7:\tlearn: 1993.1133693\ttotal: 434ms\tremaining: 380ms\n",
      "8:\tlearn: 1973.4717202\ttotal: 481ms\tremaining: 321ms\n",
      "9:\tlearn: 1958.6315985\ttotal: 531ms\tremaining: 265ms\n",
      "10:\tlearn: 1940.8169196\ttotal: 575ms\tremaining: 209ms\n",
      "11:\tlearn: 1922.5093603\ttotal: 620ms\tremaining: 155ms\n",
      "12:\tlearn: 1914.2373594\ttotal: 670ms\tremaining: 103ms\n",
      "13:\tlearn: 1902.7905059\ttotal: 716ms\tremaining: 51.1ms\n",
      "14:\tlearn: 1897.2346504\ttotal: 761ms\tremaining: 0us\n",
      "[CV 3/5; 2/10] END ......learning_rate=0.75, n_estimators=15; total time=   1.6s\n",
      "[CV 4/5; 2/10] START learning_rate=0.75, n_estimators=15........................\n",
      "0:\tlearn: 2867.5354663\ttotal: 52.4ms\tremaining: 733ms\n",
      "1:\tlearn: 2391.8211344\ttotal: 102ms\tremaining: 662ms\n",
      "2:\tlearn: 2221.7898046\ttotal: 163ms\tremaining: 654ms\n",
      "3:\tlearn: 2137.3378396\ttotal: 209ms\tremaining: 574ms\n",
      "4:\tlearn: 2095.8838099\ttotal: 259ms\tremaining: 517ms\n",
      "5:\tlearn: 2064.7704359\ttotal: 309ms\tremaining: 463ms\n",
      "6:\tlearn: 2021.9186490\ttotal: 357ms\tremaining: 408ms\n",
      "7:\tlearn: 1999.3234014\ttotal: 407ms\tremaining: 356ms\n",
      "8:\tlearn: 1970.1912213\ttotal: 454ms\tremaining: 302ms\n",
      "9:\tlearn: 1957.6267958\ttotal: 506ms\tremaining: 253ms\n",
      "10:\tlearn: 1943.6969170\ttotal: 550ms\tremaining: 200ms\n",
      "11:\tlearn: 1934.5962564\ttotal: 597ms\tremaining: 149ms\n",
      "12:\tlearn: 1924.3393976\ttotal: 645ms\tremaining: 99.2ms\n",
      "13:\tlearn: 1907.0538113\ttotal: 693ms\tremaining: 49.5ms\n",
      "14:\tlearn: 1895.1826922\ttotal: 745ms\tremaining: 0us\n",
      "[CV 4/5; 2/10] END ......learning_rate=0.75, n_estimators=15; total time=   1.5s\n",
      "[CV 5/5; 2/10] START learning_rate=0.75, n_estimators=15........................\n",
      "0:\tlearn: 2888.9984296\ttotal: 90.1ms\tremaining: 1.26s\n",
      "1:\tlearn: 2433.4495568\ttotal: 172ms\tremaining: 1.11s\n",
      "2:\tlearn: 2245.7470940\ttotal: 237ms\tremaining: 946ms\n",
      "3:\tlearn: 2157.8100767\ttotal: 286ms\tremaining: 788ms\n",
      "4:\tlearn: 2107.5382675\ttotal: 334ms\tremaining: 668ms\n",
      "5:\tlearn: 2066.8903184\ttotal: 386ms\tremaining: 579ms\n",
      "6:\tlearn: 2029.8888197\ttotal: 441ms\tremaining: 504ms\n",
      "7:\tlearn: 2007.3722412\ttotal: 487ms\tremaining: 426ms\n",
      "8:\tlearn: 1981.5144591\ttotal: 534ms\tremaining: 356ms\n",
      "9:\tlearn: 1963.1698444\ttotal: 582ms\tremaining: 291ms\n",
      "10:\tlearn: 1946.1926263\ttotal: 630ms\tremaining: 229ms\n",
      "11:\tlearn: 1932.8346306\ttotal: 677ms\tremaining: 169ms\n",
      "12:\tlearn: 1920.4019757\ttotal: 722ms\tremaining: 111ms\n",
      "13:\tlearn: 1907.4798641\ttotal: 766ms\tremaining: 54.7ms\n",
      "14:\tlearn: 1887.6199430\ttotal: 811ms\tremaining: 0us\n",
      "[CV 5/5; 2/10] END ......learning_rate=0.75, n_estimators=15; total time=   1.6s\n",
      "[CV 1/5; 3/10] START learning_rate=0.25, n_estimators=10........................\n",
      "0:\tlearn: 3852.8455015\ttotal: 57.3ms\tremaining: 515ms\n",
      "1:\tlearn: 3328.4004724\ttotal: 123ms\tremaining: 493ms\n",
      "2:\tlearn: 2968.1811439\ttotal: 172ms\tremaining: 402ms\n",
      "3:\tlearn: 2735.4706061\ttotal: 218ms\tremaining: 327ms\n",
      "4:\tlearn: 2558.3295336\ttotal: 264ms\tremaining: 264ms\n",
      "5:\tlearn: 2402.3504403\ttotal: 313ms\tremaining: 209ms\n",
      "6:\tlearn: 2304.0443418\ttotal: 359ms\tremaining: 154ms\n",
      "7:\tlearn: 2224.0470726\ttotal: 408ms\tremaining: 102ms\n",
      "8:\tlearn: 2167.7048552\ttotal: 459ms\tremaining: 51ms\n",
      "9:\tlearn: 2105.2265639\ttotal: 504ms\tremaining: 0us\n",
      "[CV 1/5; 3/10] END ......learning_rate=0.25, n_estimators=10; total time=   1.3s\n",
      "[CV 2/5; 3/10] START learning_rate=0.25, n_estimators=10........................\n",
      "0:\tlearn: 3854.8042535\ttotal: 60.5ms\tremaining: 544ms\n",
      "1:\tlearn: 3331.7655758\ttotal: 116ms\tremaining: 465ms\n",
      "2:\tlearn: 2969.7482484\ttotal: 168ms\tremaining: 392ms\n",
      "3:\tlearn: 2738.7834045\ttotal: 215ms\tremaining: 323ms\n",
      "4:\tlearn: 2558.0521257\ttotal: 261ms\tremaining: 261ms\n",
      "5:\tlearn: 2403.5241975\ttotal: 311ms\tremaining: 207ms\n",
      "6:\tlearn: 2307.0740556\ttotal: 359ms\tremaining: 154ms\n",
      "7:\tlearn: 2222.9477862\ttotal: 408ms\tremaining: 102ms\n",
      "8:\tlearn: 2151.8077043\ttotal: 466ms\tremaining: 51.8ms\n",
      "9:\tlearn: 2105.6207710\ttotal: 514ms\tremaining: 0us\n",
      "[CV 2/5; 3/10] END ......learning_rate=0.25, n_estimators=10; total time=   1.2s\n",
      "[CV 3/5; 3/10] START learning_rate=0.25, n_estimators=10........................\n",
      "0:\tlearn: 3866.2557270\ttotal: 84.3ms\tremaining: 759ms\n",
      "1:\tlearn: 3348.6859216\ttotal: 144ms\tremaining: 575ms\n",
      "2:\tlearn: 3001.7007484\ttotal: 201ms\tremaining: 470ms\n",
      "3:\tlearn: 2756.7901990\ttotal: 249ms\tremaining: 374ms\n",
      "4:\tlearn: 2578.0876728\ttotal: 299ms\tremaining: 299ms\n",
      "5:\tlearn: 2422.6043076\ttotal: 347ms\tremaining: 232ms\n",
      "6:\tlearn: 2319.9969119\ttotal: 395ms\tremaining: 169ms\n",
      "7:\tlearn: 2241.1590165\ttotal: 441ms\tremaining: 110ms\n",
      "8:\tlearn: 2181.2853023\ttotal: 495ms\tremaining: 55ms\n",
      "9:\tlearn: 2119.8134250\ttotal: 542ms\tremaining: 0us\n",
      "[CV 3/5; 3/10] END ......learning_rate=0.25, n_estimators=10; total time=   1.4s\n",
      "[CV 4/5; 3/10] START learning_rate=0.25, n_estimators=10........................\n",
      "0:\tlearn: 3841.9596385\ttotal: 51.3ms\tremaining: 462ms\n",
      "1:\tlearn: 3355.3026418\ttotal: 98.6ms\tremaining: 394ms\n",
      "2:\tlearn: 3015.3393383\ttotal: 162ms\tremaining: 379ms\n",
      "3:\tlearn: 2745.1170060\ttotal: 224ms\tremaining: 336ms\n",
      "4:\tlearn: 2558.6970655\ttotal: 274ms\tremaining: 274ms\n",
      "5:\tlearn: 2415.6664991\ttotal: 326ms\tremaining: 218ms\n",
      "6:\tlearn: 2314.2848800\ttotal: 371ms\tremaining: 159ms\n",
      "7:\tlearn: 2235.3153472\ttotal: 418ms\tremaining: 104ms\n",
      "8:\tlearn: 2161.0646776\ttotal: 465ms\tremaining: 51.7ms\n",
      "9:\tlearn: 2116.6688432\ttotal: 512ms\tremaining: 0us\n",
      "[CV 4/5; 3/10] END ......learning_rate=0.25, n_estimators=10; total time=   1.4s\n",
      "[CV 5/5; 3/10] START learning_rate=0.25, n_estimators=10........................\n",
      "0:\tlearn: 3852.0495012\ttotal: 54.9ms\tremaining: 494ms\n",
      "1:\tlearn: 3370.6243452\ttotal: 104ms\tremaining: 417ms\n",
      "2:\tlearn: 2997.3756279\ttotal: 153ms\tremaining: 357ms\n",
      "3:\tlearn: 2759.8930866\ttotal: 214ms\tremaining: 321ms\n",
      "4:\tlearn: 2572.8786075\ttotal: 262ms\tremaining: 262ms\n",
      "5:\tlearn: 2413.5242026\ttotal: 316ms\tremaining: 211ms\n",
      "6:\tlearn: 2318.8793803\ttotal: 363ms\tremaining: 156ms\n",
      "7:\tlearn: 2236.5579248\ttotal: 417ms\tremaining: 104ms\n",
      "8:\tlearn: 2170.4241416\ttotal: 466ms\tremaining: 51.8ms\n",
      "9:\tlearn: 2117.0215011\ttotal: 520ms\tremaining: 0us\n",
      "[CV 5/5; 3/10] END ......learning_rate=0.25, n_estimators=10; total time=   1.3s\n",
      "[CV 1/5; 4/10] START learning_rate=0.75, n_estimators=10........................\n",
      "0:\tlearn: 2888.2671829\ttotal: 57.6ms\tremaining: 518ms\n",
      "1:\tlearn: 2385.4416503\ttotal: 139ms\tremaining: 556ms\n",
      "2:\tlearn: 2226.4461303\ttotal: 192ms\tremaining: 447ms\n",
      "3:\tlearn: 2136.5069824\ttotal: 240ms\tremaining: 360ms\n",
      "4:\tlearn: 2095.6710101\ttotal: 288ms\tremaining: 288ms\n",
      "5:\tlearn: 2059.3928623\ttotal: 336ms\tremaining: 224ms\n",
      "6:\tlearn: 2014.1355608\ttotal: 382ms\tremaining: 164ms\n",
      "7:\tlearn: 1986.4103283\ttotal: 430ms\tremaining: 108ms\n",
      "8:\tlearn: 1972.8356151\ttotal: 505ms\tremaining: 56.1ms\n",
      "9:\tlearn: 1955.0087871\ttotal: 565ms\tremaining: 0us\n",
      "[CV 1/5; 4/10] END ......learning_rate=0.75, n_estimators=10; total time=   1.4s\n",
      "[CV 2/5; 4/10] START learning_rate=0.75, n_estimators=10........................\n",
      "0:\tlearn: 2890.8710278\ttotal: 76.7ms\tremaining: 691ms\n",
      "1:\tlearn: 2389.0926855\ttotal: 142ms\tremaining: 567ms\n",
      "2:\tlearn: 2244.9441654\ttotal: 199ms\tremaining: 465ms\n",
      "3:\tlearn: 2144.2017990\ttotal: 248ms\tremaining: 372ms\n",
      "4:\tlearn: 2097.0928476\ttotal: 318ms\tremaining: 318ms\n",
      "5:\tlearn: 2054.1898401\ttotal: 370ms\tremaining: 247ms\n",
      "6:\tlearn: 2022.6231343\ttotal: 432ms\tremaining: 185ms\n",
      "7:\tlearn: 1994.0051590\ttotal: 480ms\tremaining: 120ms\n",
      "8:\tlearn: 1970.1880801\ttotal: 530ms\tremaining: 58.9ms\n",
      "9:\tlearn: 1951.6071263\ttotal: 586ms\tremaining: 0us\n",
      "[CV 2/5; 4/10] END ......learning_rate=0.75, n_estimators=10; total time=   1.4s\n",
      "[CV 3/5; 4/10] START learning_rate=0.75, n_estimators=10........................\n",
      "0:\tlearn: 2931.7782281\ttotal: 66.3ms\tremaining: 597ms\n",
      "1:\tlearn: 2443.4218392\ttotal: 124ms\tremaining: 497ms\n",
      "2:\tlearn: 2274.1460827\ttotal: 177ms\tremaining: 412ms\n",
      "3:\tlearn: 2173.9482518\ttotal: 230ms\tremaining: 344ms\n",
      "4:\tlearn: 2097.1761621\ttotal: 279ms\tremaining: 279ms\n",
      "5:\tlearn: 2062.1185337\ttotal: 326ms\tremaining: 217ms\n",
      "6:\tlearn: 2018.8367378\ttotal: 378ms\tremaining: 162ms\n",
      "7:\tlearn: 1993.1133693\ttotal: 423ms\tremaining: 106ms\n",
      "8:\tlearn: 1973.4717202\ttotal: 468ms\tremaining: 52ms\n",
      "9:\tlearn: 1958.6315985\ttotal: 515ms\tremaining: 0us\n",
      "[CV 3/5; 4/10] END ......learning_rate=0.75, n_estimators=10; total time=   1.4s\n",
      "[CV 4/5; 4/10] START learning_rate=0.75, n_estimators=10........................\n",
      "0:\tlearn: 2867.5354663\ttotal: 54.7ms\tremaining: 493ms\n",
      "1:\tlearn: 2391.8211344\ttotal: 106ms\tremaining: 422ms\n",
      "2:\tlearn: 2221.7898046\ttotal: 162ms\tremaining: 377ms\n",
      "3:\tlearn: 2137.3378396\ttotal: 209ms\tremaining: 313ms\n",
      "4:\tlearn: 2095.8838099\ttotal: 259ms\tremaining: 259ms\n",
      "5:\tlearn: 2064.7704359\ttotal: 308ms\tremaining: 205ms\n",
      "6:\tlearn: 2021.9186490\ttotal: 358ms\tremaining: 153ms\n",
      "7:\tlearn: 1999.3234014\ttotal: 406ms\tremaining: 101ms\n",
      "8:\tlearn: 1970.1912213\ttotal: 453ms\tremaining: 50.3ms\n",
      "9:\tlearn: 1957.6267958\ttotal: 501ms\tremaining: 0us\n",
      "[CV 4/5; 4/10] END ......learning_rate=0.75, n_estimators=10; total time=   1.3s\n",
      "[CV 5/5; 4/10] START learning_rate=0.75, n_estimators=10........................\n",
      "0:\tlearn: 2888.9984296\ttotal: 64ms\tremaining: 576ms\n",
      "1:\tlearn: 2433.4495568\ttotal: 115ms\tremaining: 461ms\n",
      "2:\tlearn: 2245.7470940\ttotal: 176ms\tremaining: 410ms\n",
      "3:\tlearn: 2157.8100767\ttotal: 222ms\tremaining: 333ms\n",
      "4:\tlearn: 2107.5382675\ttotal: 272ms\tremaining: 272ms\n",
      "5:\tlearn: 2066.8903184\ttotal: 325ms\tremaining: 217ms\n",
      "6:\tlearn: 2029.8888197\ttotal: 373ms\tremaining: 160ms\n",
      "7:\tlearn: 2007.3722412\ttotal: 419ms\tremaining: 105ms\n",
      "8:\tlearn: 1981.5144591\ttotal: 465ms\tremaining: 51.7ms\n",
      "9:\tlearn: 1963.1698444\ttotal: 513ms\tremaining: 0us\n",
      "[CV 5/5; 4/10] END ......learning_rate=0.75, n_estimators=10; total time=   1.4s\n",
      "[CV 1/5; 5/10] START learning_rate=0.5, n_estimators=15.........................\n",
      "0:\tlearn: 3283.5758430\ttotal: 56.4ms\tremaining: 789ms\n",
      "1:\tlearn: 2693.1617518\ttotal: 128ms\tremaining: 834ms\n",
      "2:\tlearn: 2377.1403853\ttotal: 187ms\tremaining: 749ms\n",
      "3:\tlearn: 2223.9911893\ttotal: 239ms\tremaining: 656ms\n",
      "4:\tlearn: 2124.9436818\ttotal: 285ms\tremaining: 570ms\n",
      "5:\tlearn: 2071.0829693\ttotal: 334ms\tremaining: 500ms\n",
      "6:\tlearn: 2045.5158796\ttotal: 378ms\tremaining: 432ms\n",
      "7:\tlearn: 2011.0109296\ttotal: 423ms\tremaining: 370ms\n",
      "8:\tlearn: 1982.3657591\ttotal: 471ms\tremaining: 314ms\n",
      "9:\tlearn: 1959.7729143\ttotal: 518ms\tremaining: 259ms\n",
      "10:\tlearn: 1947.7186434\ttotal: 563ms\tremaining: 205ms\n",
      "11:\tlearn: 1933.3447471\ttotal: 608ms\tremaining: 152ms\n",
      "12:\tlearn: 1916.8884212\ttotal: 655ms\tremaining: 101ms\n",
      "13:\tlearn: 1909.1910536\ttotal: 699ms\tremaining: 49.9ms\n",
      "14:\tlearn: 1899.0423678\ttotal: 743ms\tremaining: 0us\n",
      "[CV 1/5; 5/10] END .......learning_rate=0.5, n_estimators=15; total time=   1.6s\n",
      "[CV 2/5; 5/10] START learning_rate=0.5, n_estimators=15.........................\n",
      "0:\tlearn: 3285.8680470\ttotal: 55ms\tremaining: 771ms\n",
      "1:\tlearn: 2693.5758339\ttotal: 109ms\tremaining: 708ms\n",
      "2:\tlearn: 2380.4769678\ttotal: 162ms\tremaining: 648ms\n",
      "3:\tlearn: 2228.1903046\ttotal: 210ms\tremaining: 577ms\n",
      "4:\tlearn: 2128.7269040\ttotal: 255ms\tremaining: 510ms\n",
      "5:\tlearn: 2072.3643204\ttotal: 300ms\tremaining: 449ms\n",
      "6:\tlearn: 2036.2287739\ttotal: 343ms\tremaining: 392ms\n",
      "7:\tlearn: 2013.0454546\ttotal: 388ms\tremaining: 340ms\n",
      "8:\tlearn: 1981.4362952\ttotal: 436ms\tremaining: 291ms\n",
      "9:\tlearn: 1964.0589198\ttotal: 490ms\tremaining: 245ms\n",
      "10:\tlearn: 1944.2955385\ttotal: 535ms\tremaining: 195ms\n",
      "11:\tlearn: 1931.2706021\ttotal: 582ms\tremaining: 146ms\n",
      "12:\tlearn: 1921.7537688\ttotal: 627ms\tremaining: 96.5ms\n",
      "13:\tlearn: 1909.8390789\ttotal: 684ms\tremaining: 48.9ms\n",
      "14:\tlearn: 1903.5919179\ttotal: 729ms\tremaining: 0us\n",
      "[CV 2/5; 5/10] END .......learning_rate=0.5, n_estimators=15; total time=   1.6s\n",
      "[CV 3/5; 5/10] START learning_rate=0.5, n_estimators=15.........................\n",
      "0:\tlearn: 3313.4138403\ttotal: 54ms\tremaining: 756ms\n",
      "1:\tlearn: 2707.7358564\ttotal: 109ms\tremaining: 707ms\n",
      "2:\tlearn: 2399.8795797\ttotal: 161ms\tremaining: 644ms\n",
      "3:\tlearn: 2245.2017759\ttotal: 211ms\tremaining: 581ms\n",
      "4:\tlearn: 2147.7768632\ttotal: 259ms\tremaining: 517ms\n",
      "5:\tlearn: 2068.7411146\ttotal: 308ms\tremaining: 462ms\n",
      "6:\tlearn: 2030.1303910\ttotal: 354ms\tremaining: 405ms\n",
      "7:\tlearn: 2008.3770535\ttotal: 415ms\tremaining: 363ms\n",
      "8:\tlearn: 1979.7678964\ttotal: 485ms\tremaining: 323ms\n",
      "9:\tlearn: 1965.4537141\ttotal: 536ms\tremaining: 268ms\n",
      "10:\tlearn: 1944.4419581\ttotal: 584ms\tremaining: 212ms\n",
      "11:\tlearn: 1933.8587593\ttotal: 629ms\tremaining: 157ms\n",
      "12:\tlearn: 1921.8053345\ttotal: 679ms\tremaining: 104ms\n",
      "13:\tlearn: 1907.0422367\ttotal: 740ms\tremaining: 52.9ms\n",
      "14:\tlearn: 1895.8568967\ttotal: 788ms\tremaining: 0us\n",
      "[CV 3/5; 5/10] END .......learning_rate=0.5, n_estimators=15; total time=   1.7s\n",
      "[CV 4/5; 5/10] START learning_rate=0.5, n_estimators=15.........................\n",
      "0:\tlearn: 3267.4090149\ttotal: 51.2ms\tremaining: 717ms\n",
      "1:\tlearn: 2635.7477204\ttotal: 101ms\tremaining: 654ms\n",
      "2:\tlearn: 2338.7718738\ttotal: 157ms\tremaining: 630ms\n",
      "3:\tlearn: 2191.4863722\ttotal: 209ms\tremaining: 573ms\n",
      "4:\tlearn: 2098.0232479\ttotal: 256ms\tremaining: 511ms\n",
      "5:\tlearn: 2054.4455752\ttotal: 304ms\tremaining: 455ms\n",
      "6:\tlearn: 2006.6759954\ttotal: 350ms\tremaining: 400ms\n",
      "7:\tlearn: 1984.2624211\ttotal: 395ms\tremaining: 346ms\n",
      "8:\tlearn: 1970.1561709\ttotal: 440ms\tremaining: 293ms\n",
      "9:\tlearn: 1953.2495885\ttotal: 486ms\tremaining: 243ms\n",
      "10:\tlearn: 1940.9741160\ttotal: 531ms\tremaining: 193ms\n",
      "11:\tlearn: 1925.7565985\ttotal: 576ms\tremaining: 144ms\n",
      "12:\tlearn: 1913.6748543\ttotal: 622ms\tremaining: 95.7ms\n",
      "13:\tlearn: 1902.3353890\ttotal: 670ms\tremaining: 47.9ms\n",
      "14:\tlearn: 1894.5289654\ttotal: 719ms\tremaining: 0us\n",
      "[CV 4/5; 5/10] END .......learning_rate=0.5, n_estimators=15; total time=   1.7s\n",
      "[CV 5/5; 5/10] START learning_rate=0.5, n_estimators=15.........................\n",
      "0:\tlearn: 3283.5930118\ttotal: 52.1ms\tremaining: 730ms\n",
      "1:\tlearn: 2677.8875231\ttotal: 99ms\tremaining: 643ms\n",
      "2:\tlearn: 2374.0197914\ttotal: 156ms\tremaining: 623ms\n",
      "3:\tlearn: 2222.0658487\ttotal: 207ms\tremaining: 568ms\n",
      "4:\tlearn: 2145.3607325\ttotal: 255ms\tremaining: 510ms\n",
      "5:\tlearn: 2088.9902646\ttotal: 305ms\tremaining: 457ms\n",
      "6:\tlearn: 2035.0725799\ttotal: 354ms\tremaining: 405ms\n",
      "7:\tlearn: 2010.2710139\ttotal: 403ms\tremaining: 353ms\n",
      "8:\tlearn: 1986.0907033\ttotal: 451ms\tremaining: 300ms\n",
      "9:\tlearn: 1970.9157461\ttotal: 506ms\tremaining: 253ms\n",
      "10:\tlearn: 1950.5228814\ttotal: 560ms\tremaining: 203ms\n",
      "11:\tlearn: 1941.4497932\ttotal: 617ms\tremaining: 154ms\n",
      "12:\tlearn: 1928.4470558\ttotal: 663ms\tremaining: 102ms\n",
      "13:\tlearn: 1919.6346627\ttotal: 708ms\tremaining: 50.5ms\n",
      "14:\tlearn: 1905.8940393\ttotal: 755ms\tremaining: 0us\n",
      "[CV 5/5; 5/10] END .......learning_rate=0.5, n_estimators=15; total time=   1.7s\n",
      "[CV 1/5; 6/10] START learning_rate=0.25, n_estimators=20........................\n",
      "0:\tlearn: 3852.8455015\ttotal: 70.7ms\tremaining: 1.34s\n",
      "1:\tlearn: 3328.4004724\ttotal: 127ms\tremaining: 1.14s\n",
      "2:\tlearn: 2968.1811439\ttotal: 177ms\tremaining: 1s\n",
      "3:\tlearn: 2735.4706061\ttotal: 226ms\tremaining: 904ms\n",
      "4:\tlearn: 2558.3295336\ttotal: 273ms\tremaining: 820ms\n",
      "5:\tlearn: 2402.3504403\ttotal: 335ms\tremaining: 782ms\n",
      "6:\tlearn: 2304.0443418\ttotal: 391ms\tremaining: 726ms\n",
      "7:\tlearn: 2224.0470726\ttotal: 450ms\tremaining: 675ms\n",
      "8:\tlearn: 2167.7048552\ttotal: 509ms\tremaining: 622ms\n",
      "9:\tlearn: 2105.2265639\ttotal: 560ms\tremaining: 560ms\n",
      "10:\tlearn: 2067.2061026\ttotal: 604ms\tremaining: 494ms\n",
      "11:\tlearn: 2040.3544994\ttotal: 651ms\tremaining: 434ms\n",
      "12:\tlearn: 2017.9077650\ttotal: 697ms\tremaining: 375ms\n",
      "13:\tlearn: 1998.3543166\ttotal: 750ms\tremaining: 322ms\n",
      "14:\tlearn: 1979.6250422\ttotal: 795ms\tremaining: 265ms\n",
      "15:\tlearn: 1964.3380429\ttotal: 840ms\tremaining: 210ms\n",
      "16:\tlearn: 1954.2082287\ttotal: 887ms\tremaining: 156ms\n",
      "17:\tlearn: 1946.6316680\ttotal: 935ms\tremaining: 104ms\n",
      "18:\tlearn: 1934.8052719\ttotal: 984ms\tremaining: 51.8ms\n",
      "19:\tlearn: 1928.7176408\ttotal: 1.03s\tremaining: 0us\n",
      "[CV 1/5; 6/10] END ......learning_rate=0.25, n_estimators=20; total time=   1.8s\n",
      "[CV 2/5; 6/10] START learning_rate=0.25, n_estimators=20........................\n",
      "0:\tlearn: 3854.8042535\ttotal: 67.1ms\tremaining: 1.27s\n",
      "1:\tlearn: 3331.7655758\ttotal: 139ms\tremaining: 1.25s\n",
      "2:\tlearn: 2969.7482484\ttotal: 191ms\tremaining: 1.08s\n",
      "3:\tlearn: 2738.7834045\ttotal: 268ms\tremaining: 1.07s\n",
      "4:\tlearn: 2558.0521257\ttotal: 339ms\tremaining: 1.01s\n",
      "5:\tlearn: 2403.5241975\ttotal: 390ms\tremaining: 911ms\n",
      "6:\tlearn: 2307.0740556\ttotal: 436ms\tremaining: 809ms\n",
      "7:\tlearn: 2222.9477862\ttotal: 494ms\tremaining: 740ms\n",
      "8:\tlearn: 2151.8077043\ttotal: 543ms\tremaining: 664ms\n",
      "9:\tlearn: 2105.6207710\ttotal: 588ms\tremaining: 588ms\n",
      "10:\tlearn: 2072.2457997\ttotal: 632ms\tremaining: 517ms\n",
      "11:\tlearn: 2038.5571757\ttotal: 676ms\tremaining: 451ms\n",
      "12:\tlearn: 2020.4226590\ttotal: 721ms\tremaining: 388ms\n",
      "13:\tlearn: 2002.1700918\ttotal: 764ms\tremaining: 328ms\n",
      "14:\tlearn: 1986.5758364\ttotal: 810ms\tremaining: 270ms\n",
      "15:\tlearn: 1975.4008763\ttotal: 854ms\tremaining: 214ms\n",
      "16:\tlearn: 1966.0628058\ttotal: 898ms\tremaining: 158ms\n",
      "17:\tlearn: 1955.1917474\ttotal: 950ms\tremaining: 106ms\n",
      "18:\tlearn: 1945.0682173\ttotal: 997ms\tremaining: 52.5ms\n",
      "19:\tlearn: 1935.4098360\ttotal: 1.05s\tremaining: 0us\n",
      "[CV 2/5; 6/10] END ......learning_rate=0.25, n_estimators=20; total time=   1.8s\n",
      "[CV 3/5; 6/10] START learning_rate=0.25, n_estimators=20........................\n",
      "0:\tlearn: 3866.2557270\ttotal: 55.3ms\tremaining: 1.05s\n",
      "1:\tlearn: 3348.6859216\ttotal: 111ms\tremaining: 998ms\n",
      "2:\tlearn: 3001.7007484\ttotal: 157ms\tremaining: 888ms\n",
      "3:\tlearn: 2756.7901990\ttotal: 202ms\tremaining: 809ms\n",
      "4:\tlearn: 2578.0876728\ttotal: 253ms\tremaining: 759ms\n",
      "5:\tlearn: 2422.6043076\ttotal: 308ms\tremaining: 720ms\n",
      "6:\tlearn: 2319.9969119\ttotal: 353ms\tremaining: 656ms\n",
      "7:\tlearn: 2241.1590165\ttotal: 400ms\tremaining: 600ms\n",
      "8:\tlearn: 2181.2853023\ttotal: 449ms\tremaining: 549ms\n",
      "9:\tlearn: 2119.8134250\ttotal: 501ms\tremaining: 501ms\n",
      "10:\tlearn: 2079.0847539\ttotal: 545ms\tremaining: 446ms\n",
      "11:\tlearn: 2053.2605486\ttotal: 590ms\tremaining: 394ms\n",
      "12:\tlearn: 2025.8682491\ttotal: 635ms\tremaining: 342ms\n",
      "13:\tlearn: 2002.1511235\ttotal: 680ms\tremaining: 292ms\n",
      "14:\tlearn: 1985.8663305\ttotal: 727ms\tremaining: 242ms\n",
      "15:\tlearn: 1972.7110728\ttotal: 777ms\tremaining: 194ms\n",
      "16:\tlearn: 1958.7828009\ttotal: 823ms\tremaining: 145ms\n",
      "17:\tlearn: 1949.7494865\ttotal: 869ms\tremaining: 96.6ms\n",
      "18:\tlearn: 1942.0741648\ttotal: 915ms\tremaining: 48.1ms\n",
      "19:\tlearn: 1932.1636996\ttotal: 962ms\tremaining: 0us\n",
      "[CV 3/5; 6/10] END ......learning_rate=0.25, n_estimators=20; total time=   1.7s\n",
      "[CV 4/5; 6/10] START learning_rate=0.25, n_estimators=20........................\n",
      "0:\tlearn: 3841.9596385\ttotal: 53.4ms\tremaining: 1.01s\n",
      "1:\tlearn: 3355.3026418\ttotal: 97.6ms\tremaining: 879ms\n",
      "2:\tlearn: 3015.3393383\ttotal: 143ms\tremaining: 809ms\n",
      "3:\tlearn: 2745.1170060\ttotal: 199ms\tremaining: 797ms\n",
      "4:\tlearn: 2558.6970655\ttotal: 244ms\tremaining: 733ms\n",
      "5:\tlearn: 2415.6664991\ttotal: 297ms\tremaining: 694ms\n",
      "6:\tlearn: 2314.2848800\ttotal: 345ms\tremaining: 640ms\n",
      "7:\tlearn: 2235.3153472\ttotal: 395ms\tremaining: 592ms\n",
      "8:\tlearn: 2161.0646776\ttotal: 445ms\tremaining: 544ms\n",
      "9:\tlearn: 2116.6688432\ttotal: 496ms\tremaining: 496ms\n",
      "10:\tlearn: 2073.1542134\ttotal: 550ms\tremaining: 450ms\n",
      "11:\tlearn: 2045.9754721\ttotal: 605ms\tremaining: 403ms\n",
      "12:\tlearn: 2023.4942677\ttotal: 654ms\tremaining: 352ms\n",
      "13:\tlearn: 2003.7128628\ttotal: 702ms\tremaining: 301ms\n",
      "14:\tlearn: 1985.1974151\ttotal: 754ms\tremaining: 251ms\n",
      "15:\tlearn: 1973.6603110\ttotal: 806ms\tremaining: 201ms\n",
      "16:\tlearn: 1963.0085634\ttotal: 855ms\tremaining: 151ms\n",
      "17:\tlearn: 1950.9654961\ttotal: 901ms\tremaining: 100ms\n",
      "18:\tlearn: 1939.0428073\ttotal: 950ms\tremaining: 50ms\n",
      "19:\tlearn: 1929.6226444\ttotal: 995ms\tremaining: 0us\n",
      "[CV 4/5; 6/10] END ......learning_rate=0.25, n_estimators=20; total time=   1.8s\n",
      "[CV 5/5; 6/10] START learning_rate=0.25, n_estimators=20........................\n",
      "0:\tlearn: 3852.0495012\ttotal: 55.5ms\tremaining: 1.05s\n",
      "1:\tlearn: 3370.6243452\ttotal: 101ms\tremaining: 908ms\n",
      "2:\tlearn: 2997.3756279\ttotal: 146ms\tremaining: 829ms\n",
      "3:\tlearn: 2759.8930866\ttotal: 204ms\tremaining: 816ms\n",
      "4:\tlearn: 2572.8786075\ttotal: 250ms\tremaining: 751ms\n",
      "5:\tlearn: 2413.5242026\ttotal: 304ms\tremaining: 710ms\n",
      "6:\tlearn: 2318.8793803\ttotal: 350ms\tremaining: 650ms\n",
      "7:\tlearn: 2236.5579248\ttotal: 399ms\tremaining: 599ms\n",
      "8:\tlearn: 2170.4241416\ttotal: 443ms\tremaining: 541ms\n",
      "9:\tlearn: 2117.0215011\ttotal: 501ms\tremaining: 501ms\n",
      "10:\tlearn: 2076.6683816\ttotal: 562ms\tremaining: 460ms\n",
      "11:\tlearn: 2048.6879370\ttotal: 611ms\tremaining: 407ms\n",
      "12:\tlearn: 2028.3321056\ttotal: 682ms\tremaining: 367ms\n",
      "13:\tlearn: 2009.2787635\ttotal: 751ms\tremaining: 322ms\n",
      "14:\tlearn: 1994.0377813\ttotal: 817ms\tremaining: 272ms\n",
      "15:\tlearn: 1980.2811874\ttotal: 866ms\tremaining: 217ms\n",
      "16:\tlearn: 1969.2905927\ttotal: 912ms\tremaining: 161ms\n",
      "17:\tlearn: 1958.6615843\ttotal: 958ms\tremaining: 106ms\n",
      "18:\tlearn: 1950.1226838\ttotal: 1s\tremaining: 52.9ms\n",
      "19:\tlearn: 1940.3342232\ttotal: 1.05s\tremaining: 0us\n",
      "[CV 5/5; 6/10] END ......learning_rate=0.25, n_estimators=20; total time=   1.9s\n",
      "[CV 1/5; 7/10] START learning_rate=0.25, n_estimators=15........................\n",
      "0:\tlearn: 3852.8455015\ttotal: 55.2ms\tremaining: 773ms\n",
      "1:\tlearn: 3328.4004724\ttotal: 114ms\tremaining: 742ms\n",
      "2:\tlearn: 2968.1811439\ttotal: 171ms\tremaining: 685ms\n",
      "3:\tlearn: 2735.4706061\ttotal: 231ms\tremaining: 636ms\n",
      "4:\tlearn: 2558.3295336\ttotal: 281ms\tremaining: 563ms\n",
      "5:\tlearn: 2402.3504403\ttotal: 334ms\tremaining: 500ms\n",
      "6:\tlearn: 2304.0443418\ttotal: 380ms\tremaining: 435ms\n",
      "7:\tlearn: 2224.0470726\ttotal: 434ms\tremaining: 380ms\n",
      "8:\tlearn: 2167.7048552\ttotal: 484ms\tremaining: 323ms\n",
      "9:\tlearn: 2105.2265639\ttotal: 536ms\tremaining: 268ms\n",
      "10:\tlearn: 2067.2061026\ttotal: 595ms\tremaining: 216ms\n",
      "11:\tlearn: 2040.3544994\ttotal: 652ms\tremaining: 163ms\n",
      "12:\tlearn: 2017.9077650\ttotal: 710ms\tremaining: 109ms\n",
      "13:\tlearn: 1998.3543166\ttotal: 783ms\tremaining: 55.9ms\n",
      "14:\tlearn: 1979.6250422\ttotal: 829ms\tremaining: 0us\n",
      "[CV 1/5; 7/10] END ......learning_rate=0.25, n_estimators=15; total time=   2.3s\n",
      "[CV 2/5; 7/10] START learning_rate=0.25, n_estimators=15........................\n",
      "0:\tlearn: 3854.8042535\ttotal: 54.6ms\tremaining: 765ms\n",
      "1:\tlearn: 3331.7655758\ttotal: 110ms\tremaining: 715ms\n",
      "2:\tlearn: 2969.7482484\ttotal: 161ms\tremaining: 644ms\n",
      "3:\tlearn: 2738.7834045\ttotal: 207ms\tremaining: 570ms\n",
      "4:\tlearn: 2558.0521257\ttotal: 251ms\tremaining: 503ms\n",
      "5:\tlearn: 2403.5241975\ttotal: 302ms\tremaining: 453ms\n",
      "6:\tlearn: 2307.0740556\ttotal: 348ms\tremaining: 398ms\n",
      "7:\tlearn: 2222.9477862\ttotal: 401ms\tremaining: 351ms\n",
      "8:\tlearn: 2151.8077043\ttotal: 450ms\tremaining: 300ms\n",
      "9:\tlearn: 2105.6207710\ttotal: 496ms\tremaining: 248ms\n",
      "10:\tlearn: 2072.2457997\ttotal: 547ms\tremaining: 199ms\n",
      "11:\tlearn: 2038.5571757\ttotal: 595ms\tremaining: 149ms\n",
      "12:\tlearn: 2020.4226590\ttotal: 651ms\tremaining: 100ms\n",
      "13:\tlearn: 2002.1700918\ttotal: 696ms\tremaining: 49.7ms\n",
      "14:\tlearn: 1986.5758364\ttotal: 747ms\tremaining: 0us\n",
      "[CV 2/5; 7/10] END ......learning_rate=0.25, n_estimators=15; total time=   1.5s\n",
      "[CV 3/5; 7/10] START learning_rate=0.25, n_estimators=15........................\n",
      "0:\tlearn: 3866.2557270\ttotal: 62.9ms\tremaining: 881ms\n",
      "1:\tlearn: 3348.6859216\ttotal: 117ms\tremaining: 762ms\n",
      "2:\tlearn: 3001.7007484\ttotal: 165ms\tremaining: 660ms\n",
      "3:\tlearn: 2756.7901990\ttotal: 211ms\tremaining: 581ms\n",
      "4:\tlearn: 2578.0876728\ttotal: 261ms\tremaining: 522ms\n",
      "5:\tlearn: 2422.6043076\ttotal: 311ms\tremaining: 467ms\n",
      "6:\tlearn: 2319.9969119\ttotal: 358ms\tremaining: 409ms\n",
      "7:\tlearn: 2241.1590165\ttotal: 405ms\tremaining: 354ms\n",
      "8:\tlearn: 2181.2853023\ttotal: 456ms\tremaining: 304ms\n",
      "9:\tlearn: 2119.8134250\ttotal: 504ms\tremaining: 252ms\n",
      "10:\tlearn: 2079.0847539\ttotal: 557ms\tremaining: 202ms\n",
      "11:\tlearn: 2053.2605486\ttotal: 609ms\tremaining: 152ms\n",
      "12:\tlearn: 2025.8682491\ttotal: 653ms\tremaining: 100ms\n",
      "13:\tlearn: 2002.1511235\ttotal: 699ms\tremaining: 49.9ms\n",
      "14:\tlearn: 1985.8663305\ttotal: 744ms\tremaining: 0us\n",
      "[CV 3/5; 7/10] END ......learning_rate=0.25, n_estimators=15; total time=   1.4s\n",
      "[CV 4/5; 7/10] START learning_rate=0.25, n_estimators=15........................\n",
      "0:\tlearn: 3841.9596385\ttotal: 63.4ms\tremaining: 887ms\n",
      "1:\tlearn: 3355.3026418\ttotal: 108ms\tremaining: 702ms\n",
      "2:\tlearn: 3015.3393383\ttotal: 153ms\tremaining: 614ms\n",
      "3:\tlearn: 2745.1170060\ttotal: 211ms\tremaining: 581ms\n",
      "4:\tlearn: 2558.6970655\ttotal: 257ms\tremaining: 515ms\n",
      "5:\tlearn: 2415.6664991\ttotal: 308ms\tremaining: 463ms\n",
      "6:\tlearn: 2314.2848800\ttotal: 352ms\tremaining: 403ms\n",
      "7:\tlearn: 2235.3153472\ttotal: 402ms\tremaining: 351ms\n",
      "8:\tlearn: 2161.0646776\ttotal: 451ms\tremaining: 301ms\n",
      "9:\tlearn: 2116.6688432\ttotal: 498ms\tremaining: 249ms\n",
      "10:\tlearn: 2073.1542134\ttotal: 543ms\tremaining: 198ms\n",
      "11:\tlearn: 2045.9754721\ttotal: 590ms\tremaining: 147ms\n",
      "12:\tlearn: 2023.4942677\ttotal: 636ms\tremaining: 97.8ms\n",
      "13:\tlearn: 2003.7128628\ttotal: 682ms\tremaining: 48.7ms\n",
      "14:\tlearn: 1985.1974151\ttotal: 729ms\tremaining: 0us\n",
      "[CV 4/5; 7/10] END ......learning_rate=0.25, n_estimators=15; total time=   2.2s\n",
      "[CV 5/5; 7/10] START learning_rate=0.25, n_estimators=15........................\n",
      "0:\tlearn: 3852.0495012\ttotal: 51.8ms\tremaining: 725ms\n",
      "1:\tlearn: 3370.6243452\ttotal: 98.3ms\tremaining: 639ms\n",
      "2:\tlearn: 2997.3756279\ttotal: 170ms\tremaining: 679ms\n",
      "3:\tlearn: 2759.8930866\ttotal: 228ms\tremaining: 628ms\n",
      "4:\tlearn: 2572.8786075\ttotal: 275ms\tremaining: 550ms\n",
      "5:\tlearn: 2413.5242026\ttotal: 333ms\tremaining: 500ms\n",
      "6:\tlearn: 2318.8793803\ttotal: 380ms\tremaining: 435ms\n",
      "7:\tlearn: 2236.5579248\ttotal: 429ms\tremaining: 375ms\n",
      "8:\tlearn: 2170.4241416\ttotal: 474ms\tremaining: 316ms\n",
      "9:\tlearn: 2117.0215011\ttotal: 524ms\tremaining: 262ms\n",
      "10:\tlearn: 2076.6683816\ttotal: 573ms\tremaining: 208ms\n",
      "11:\tlearn: 2048.6879370\ttotal: 620ms\tremaining: 155ms\n",
      "12:\tlearn: 2028.3321056\ttotal: 666ms\tremaining: 103ms\n",
      "13:\tlearn: 2009.2787635\ttotal: 712ms\tremaining: 50.8ms\n",
      "14:\tlearn: 1994.0377813\ttotal: 759ms\tremaining: 0us\n",
      "[CV 5/5; 7/10] END ......learning_rate=0.25, n_estimators=15; total time=   1.6s\n",
      "[CV 1/5; 8/10] START learning_rate=0.75, n_estimators=25........................\n",
      "0:\tlearn: 2888.2671829\ttotal: 59.3ms\tremaining: 1.42s\n",
      "1:\tlearn: 2385.4416503\ttotal: 119ms\tremaining: 1.37s\n",
      "2:\tlearn: 2226.4461303\ttotal: 174ms\tremaining: 1.27s\n",
      "3:\tlearn: 2136.5069824\ttotal: 222ms\tremaining: 1.17s\n",
      "4:\tlearn: 2095.6710101\ttotal: 271ms\tremaining: 1.08s\n",
      "5:\tlearn: 2059.3928623\ttotal: 319ms\tremaining: 1.01s\n",
      "6:\tlearn: 2014.1355608\ttotal: 366ms\tremaining: 941ms\n",
      "7:\tlearn: 1986.4103283\ttotal: 414ms\tremaining: 881ms\n",
      "8:\tlearn: 1972.8356151\ttotal: 459ms\tremaining: 816ms\n",
      "9:\tlearn: 1955.0087871\ttotal: 509ms\tremaining: 763ms\n",
      "10:\tlearn: 1936.6437669\ttotal: 554ms\tremaining: 705ms\n",
      "11:\tlearn: 1919.0751472\ttotal: 600ms\tremaining: 650ms\n",
      "12:\tlearn: 1903.2939466\ttotal: 645ms\tremaining: 595ms\n",
      "13:\tlearn: 1897.2769533\ttotal: 692ms\tremaining: 544ms\n",
      "14:\tlearn: 1887.7630354\ttotal: 738ms\tremaining: 492ms\n",
      "15:\tlearn: 1873.9166381\ttotal: 786ms\tremaining: 442ms\n",
      "16:\tlearn: 1867.2304255\ttotal: 847ms\tremaining: 398ms\n",
      "17:\tlearn: 1861.3040103\ttotal: 896ms\tremaining: 349ms\n",
      "18:\tlearn: 1852.5581828\ttotal: 948ms\tremaining: 299ms\n",
      "19:\tlearn: 1843.9707957\ttotal: 995ms\tremaining: 249ms\n",
      "20:\tlearn: 1835.7086579\ttotal: 1.04s\tremaining: 198ms\n",
      "21:\tlearn: 1829.2686439\ttotal: 1.09s\tremaining: 148ms\n",
      "22:\tlearn: 1823.8907192\ttotal: 1.13s\tremaining: 98.6ms\n",
      "23:\tlearn: 1818.1957102\ttotal: 1.18s\tremaining: 49.2ms\n",
      "24:\tlearn: 1813.8468984\ttotal: 1.23s\tremaining: 0us\n",
      "[CV 1/5; 8/10] END ......learning_rate=0.75, n_estimators=25; total time=   2.0s\n",
      "[CV 2/5; 8/10] START learning_rate=0.75, n_estimators=25........................\n",
      "0:\tlearn: 2890.8710278\ttotal: 56.6ms\tremaining: 1.36s\n",
      "1:\tlearn: 2389.0926855\ttotal: 118ms\tremaining: 1.35s\n",
      "2:\tlearn: 2244.9441654\ttotal: 169ms\tremaining: 1.24s\n",
      "3:\tlearn: 2144.2017990\ttotal: 215ms\tremaining: 1.13s\n",
      "4:\tlearn: 2097.0928476\ttotal: 267ms\tremaining: 1.07s\n",
      "5:\tlearn: 2054.1898401\ttotal: 327ms\tremaining: 1.04s\n",
      "6:\tlearn: 2022.6231343\ttotal: 379ms\tremaining: 973ms\n",
      "7:\tlearn: 1994.0051590\ttotal: 450ms\tremaining: 956ms\n",
      "8:\tlearn: 1970.1880801\ttotal: 510ms\tremaining: 906ms\n",
      "9:\tlearn: 1951.6071263\ttotal: 556ms\tremaining: 834ms\n",
      "10:\tlearn: 1932.6276262\ttotal: 603ms\tremaining: 767ms\n",
      "11:\tlearn: 1919.5483042\ttotal: 653ms\tremaining: 707ms\n",
      "12:\tlearn: 1909.8375866\ttotal: 701ms\tremaining: 647ms\n",
      "13:\tlearn: 1894.4827641\ttotal: 746ms\tremaining: 586ms\n",
      "14:\tlearn: 1886.9374292\ttotal: 791ms\tremaining: 528ms\n",
      "15:\tlearn: 1873.1328148\ttotal: 841ms\tremaining: 473ms\n",
      "16:\tlearn: 1863.7346400\ttotal: 887ms\tremaining: 417ms\n",
      "17:\tlearn: 1855.7799027\ttotal: 934ms\tremaining: 363ms\n",
      "18:\tlearn: 1847.8040912\ttotal: 980ms\tremaining: 309ms\n",
      "19:\tlearn: 1839.3205948\ttotal: 1.03s\tremaining: 257ms\n",
      "20:\tlearn: 1831.0604763\ttotal: 1.07s\tremaining: 205ms\n",
      "21:\tlearn: 1824.5934172\ttotal: 1.12s\tremaining: 153ms\n",
      "22:\tlearn: 1819.4828470\ttotal: 1.16s\tremaining: 101ms\n",
      "23:\tlearn: 1814.3526740\ttotal: 1.21s\tremaining: 50.4ms\n",
      "24:\tlearn: 1807.9313104\ttotal: 1.25s\tremaining: 0us\n",
      "[CV 2/5; 8/10] END ......learning_rate=0.75, n_estimators=25; total time=   2.0s\n",
      "[CV 3/5; 8/10] START learning_rate=0.75, n_estimators=25........................\n",
      "0:\tlearn: 2931.7782281\ttotal: 66.7ms\tremaining: 1.6s\n",
      "1:\tlearn: 2443.4218392\ttotal: 125ms\tremaining: 1.43s\n",
      "2:\tlearn: 2274.1460827\ttotal: 175ms\tremaining: 1.28s\n",
      "3:\tlearn: 2173.9482518\ttotal: 226ms\tremaining: 1.19s\n",
      "4:\tlearn: 2097.1761621\ttotal: 274ms\tremaining: 1.09s\n",
      "5:\tlearn: 2062.1185337\ttotal: 318ms\tremaining: 1.01s\n",
      "6:\tlearn: 2018.8367378\ttotal: 369ms\tremaining: 948ms\n",
      "7:\tlearn: 1993.1133693\ttotal: 412ms\tremaining: 876ms\n",
      "8:\tlearn: 1973.4717202\ttotal: 456ms\tremaining: 811ms\n",
      "9:\tlearn: 1958.6315985\ttotal: 501ms\tremaining: 751ms\n",
      "10:\tlearn: 1940.8169196\ttotal: 550ms\tremaining: 700ms\n",
      "11:\tlearn: 1922.5093603\ttotal: 594ms\tremaining: 644ms\n",
      "12:\tlearn: 1914.2373594\ttotal: 637ms\tremaining: 588ms\n",
      "13:\tlearn: 1902.7905059\ttotal: 692ms\tremaining: 544ms\n",
      "14:\tlearn: 1897.2346504\ttotal: 740ms\tremaining: 493ms\n",
      "15:\tlearn: 1886.7661993\ttotal: 787ms\tremaining: 443ms\n",
      "16:\tlearn: 1868.9844198\ttotal: 838ms\tremaining: 395ms\n",
      "17:\tlearn: 1861.6609525\ttotal: 886ms\tremaining: 344ms\n",
      "18:\tlearn: 1851.2753564\ttotal: 934ms\tremaining: 295ms\n",
      "19:\tlearn: 1843.2123035\ttotal: 980ms\tremaining: 245ms\n",
      "20:\tlearn: 1836.1060685\ttotal: 1.03s\tremaining: 195ms\n",
      "21:\tlearn: 1828.3727063\ttotal: 1.07s\tremaining: 146ms\n",
      "22:\tlearn: 1824.2042619\ttotal: 1.11s\tremaining: 96.9ms\n",
      "23:\tlearn: 1816.2285209\ttotal: 1.16s\tremaining: 48.2ms\n",
      "24:\tlearn: 1810.9578095\ttotal: 1.2s\tremaining: 0us\n",
      "[CV 3/5; 8/10] END ......learning_rate=0.75, n_estimators=25; total time=   1.9s\n",
      "[CV 4/5; 8/10] START learning_rate=0.75, n_estimators=25........................\n",
      "0:\tlearn: 2867.5354663\ttotal: 60.9ms\tremaining: 1.46s\n",
      "1:\tlearn: 2391.8211344\ttotal: 113ms\tremaining: 1.3s\n",
      "2:\tlearn: 2221.7898046\ttotal: 170ms\tremaining: 1.25s\n",
      "3:\tlearn: 2137.3378396\ttotal: 218ms\tremaining: 1.15s\n",
      "4:\tlearn: 2095.8838099\ttotal: 271ms\tremaining: 1.08s\n",
      "5:\tlearn: 2064.7704359\ttotal: 321ms\tremaining: 1.02s\n",
      "6:\tlearn: 2021.9186490\ttotal: 371ms\tremaining: 955ms\n",
      "7:\tlearn: 1999.3234014\ttotal: 421ms\tremaining: 894ms\n",
      "8:\tlearn: 1970.1912213\ttotal: 467ms\tremaining: 831ms\n",
      "9:\tlearn: 1957.6267958\ttotal: 514ms\tremaining: 771ms\n",
      "10:\tlearn: 1943.6969170\ttotal: 562ms\tremaining: 716ms\n",
      "11:\tlearn: 1934.5962564\ttotal: 611ms\tremaining: 662ms\n",
      "12:\tlearn: 1924.3393976\ttotal: 663ms\tremaining: 612ms\n",
      "13:\tlearn: 1907.0538113\ttotal: 711ms\tremaining: 559ms\n",
      "14:\tlearn: 1895.1826922\ttotal: 759ms\tremaining: 506ms\n",
      "15:\tlearn: 1881.7840597\ttotal: 806ms\tremaining: 453ms\n",
      "16:\tlearn: 1872.5606265\ttotal: 849ms\tremaining: 400ms\n",
      "17:\tlearn: 1863.8692471\ttotal: 894ms\tremaining: 348ms\n",
      "18:\tlearn: 1857.2454275\ttotal: 938ms\tremaining: 296ms\n",
      "19:\tlearn: 1847.3082628\ttotal: 983ms\tremaining: 246ms\n",
      "20:\tlearn: 1838.9829344\ttotal: 1.03s\tremaining: 196ms\n",
      "21:\tlearn: 1831.0872865\ttotal: 1.09s\tremaining: 148ms\n",
      "22:\tlearn: 1821.1320860\ttotal: 1.14s\tremaining: 98.8ms\n",
      "23:\tlearn: 1816.1264848\ttotal: 1.19s\tremaining: 49.4ms\n",
      "24:\tlearn: 1810.2748896\ttotal: 1.23s\tremaining: 0us\n",
      "[CV 4/5; 8/10] END ......learning_rate=0.75, n_estimators=25; total time=   2.0s\n",
      "[CV 5/5; 8/10] START learning_rate=0.75, n_estimators=25........................\n",
      "0:\tlearn: 2888.9984296\ttotal: 54ms\tremaining: 1.29s\n",
      "1:\tlearn: 2433.4495568\ttotal: 105ms\tremaining: 1.21s\n",
      "2:\tlearn: 2245.7470940\ttotal: 168ms\tremaining: 1.23s\n",
      "3:\tlearn: 2157.8100767\ttotal: 218ms\tremaining: 1.14s\n",
      "4:\tlearn: 2107.5382675\ttotal: 265ms\tremaining: 1.06s\n",
      "5:\tlearn: 2066.8903184\ttotal: 320ms\tremaining: 1.01s\n",
      "6:\tlearn: 2029.8888197\ttotal: 397ms\tremaining: 1.02s\n",
      "7:\tlearn: 2007.3722412\ttotal: 468ms\tremaining: 995ms\n",
      "8:\tlearn: 1981.5144591\ttotal: 544ms\tremaining: 968ms\n",
      "9:\tlearn: 1963.1698444\ttotal: 593ms\tremaining: 890ms\n",
      "10:\tlearn: 1946.1926263\ttotal: 643ms\tremaining: 818ms\n",
      "11:\tlearn: 1932.8346306\ttotal: 707ms\tremaining: 766ms\n",
      "12:\tlearn: 1920.4019757\ttotal: 778ms\tremaining: 718ms\n",
      "13:\tlearn: 1907.4798641\ttotal: 828ms\tremaining: 651ms\n",
      "14:\tlearn: 1887.6199430\ttotal: 901ms\tremaining: 601ms\n",
      "15:\tlearn: 1880.1815479\ttotal: 968ms\tremaining: 544ms\n",
      "16:\tlearn: 1874.5219027\ttotal: 1.01s\tremaining: 477ms\n",
      "17:\tlearn: 1867.2138133\ttotal: 1.06s\tremaining: 412ms\n",
      "18:\tlearn: 1860.7092134\ttotal: 1.12s\tremaining: 353ms\n",
      "19:\tlearn: 1853.0179716\ttotal: 1.16s\tremaining: 291ms\n",
      "20:\tlearn: 1843.0666188\ttotal: 1.21s\tremaining: 231ms\n",
      "21:\tlearn: 1832.5430391\ttotal: 1.27s\tremaining: 174ms\n",
      "22:\tlearn: 1826.0782195\ttotal: 1.33s\tremaining: 116ms\n",
      "23:\tlearn: 1819.2528870\ttotal: 1.38s\tremaining: 57.5ms\n",
      "24:\tlearn: 1812.1057434\ttotal: 1.43s\tremaining: 0us\n",
      "[CV 5/5; 8/10] END ......learning_rate=0.75, n_estimators=25; total time=   2.7s\n",
      "[CV 1/5; 9/10] START learning_rate=0.5, n_estimators=10.........................\n",
      "0:\tlearn: 3283.5758430\ttotal: 51.4ms\tremaining: 462ms\n",
      "1:\tlearn: 2693.1617518\ttotal: 105ms\tremaining: 418ms\n",
      "2:\tlearn: 2377.1403853\ttotal: 163ms\tremaining: 381ms\n",
      "3:\tlearn: 2223.9911893\ttotal: 219ms\tremaining: 329ms\n",
      "4:\tlearn: 2124.9436818\ttotal: 267ms\tremaining: 267ms\n",
      "5:\tlearn: 2071.0829693\ttotal: 319ms\tremaining: 213ms\n",
      "6:\tlearn: 2045.5158796\ttotal: 366ms\tremaining: 157ms\n",
      "7:\tlearn: 2011.0109296\ttotal: 414ms\tremaining: 103ms\n",
      "8:\tlearn: 1982.3657591\ttotal: 462ms\tremaining: 51.4ms\n",
      "9:\tlearn: 1959.7729143\ttotal: 516ms\tremaining: 0us\n",
      "[CV 1/5; 9/10] END .......learning_rate=0.5, n_estimators=10; total time=   1.3s\n",
      "[CV 2/5; 9/10] START learning_rate=0.5, n_estimators=10.........................\n",
      "0:\tlearn: 3285.8680470\ttotal: 71.4ms\tremaining: 642ms\n",
      "1:\tlearn: 2693.5758339\ttotal: 131ms\tremaining: 523ms\n",
      "2:\tlearn: 2380.4769678\ttotal: 185ms\tremaining: 433ms\n",
      "3:\tlearn: 2228.1903046\ttotal: 241ms\tremaining: 361ms\n",
      "4:\tlearn: 2128.7269040\ttotal: 313ms\tremaining: 313ms\n",
      "5:\tlearn: 2072.3643204\ttotal: 374ms\tremaining: 249ms\n",
      "6:\tlearn: 2036.2287739\ttotal: 432ms\tremaining: 185ms\n",
      "7:\tlearn: 2013.0454546\ttotal: 492ms\tremaining: 123ms\n",
      "8:\tlearn: 1981.4362952\ttotal: 551ms\tremaining: 61.2ms\n",
      "9:\tlearn: 1964.0589198\ttotal: 601ms\tremaining: 0us\n",
      "[CV 2/5; 9/10] END .......learning_rate=0.5, n_estimators=10; total time=   1.5s\n",
      "[CV 3/5; 9/10] START learning_rate=0.5, n_estimators=10.........................\n",
      "0:\tlearn: 3313.4138403\ttotal: 54.4ms\tremaining: 489ms\n",
      "1:\tlearn: 2707.7358564\ttotal: 110ms\tremaining: 441ms\n",
      "2:\tlearn: 2399.8795797\ttotal: 166ms\tremaining: 387ms\n",
      "3:\tlearn: 2245.2017759\ttotal: 218ms\tremaining: 326ms\n",
      "4:\tlearn: 2147.7768632\ttotal: 264ms\tremaining: 264ms\n",
      "5:\tlearn: 2068.7411146\ttotal: 320ms\tremaining: 213ms\n",
      "6:\tlearn: 2030.1303910\ttotal: 370ms\tremaining: 159ms\n",
      "7:\tlearn: 2008.3770535\ttotal: 418ms\tremaining: 104ms\n",
      "8:\tlearn: 1979.7678964\ttotal: 467ms\tremaining: 51.9ms\n",
      "9:\tlearn: 1965.4537141\ttotal: 516ms\tremaining: 0us\n",
      "[CV 3/5; 9/10] END .......learning_rate=0.5, n_estimators=10; total time=   1.6s\n",
      "[CV 4/5; 9/10] START learning_rate=0.5, n_estimators=10.........................\n",
      "0:\tlearn: 3267.4090149\ttotal: 55.1ms\tremaining: 495ms\n",
      "1:\tlearn: 2635.7477204\ttotal: 109ms\tremaining: 438ms\n",
      "2:\tlearn: 2338.7718738\ttotal: 171ms\tremaining: 398ms\n",
      "3:\tlearn: 2191.4863722\ttotal: 224ms\tremaining: 336ms\n",
      "4:\tlearn: 2098.0232479\ttotal: 274ms\tremaining: 274ms\n",
      "5:\tlearn: 2054.4455752\ttotal: 319ms\tremaining: 213ms\n",
      "6:\tlearn: 2006.6759954\ttotal: 367ms\tremaining: 157ms\n",
      "7:\tlearn: 1984.2624211\ttotal: 415ms\tremaining: 104ms\n",
      "8:\tlearn: 1970.1561709\ttotal: 460ms\tremaining: 51.1ms\n",
      "9:\tlearn: 1953.2495885\ttotal: 508ms\tremaining: 0us\n",
      "[CV 4/5; 9/10] END .......learning_rate=0.5, n_estimators=10; total time=   1.5s\n",
      "[CV 5/5; 9/10] START learning_rate=0.5, n_estimators=10.........................\n",
      "0:\tlearn: 3283.5930118\ttotal: 52.5ms\tremaining: 473ms\n",
      "1:\tlearn: 2677.8875231\ttotal: 99.7ms\tremaining: 399ms\n",
      "2:\tlearn: 2374.0197914\ttotal: 157ms\tremaining: 366ms\n",
      "3:\tlearn: 2222.0658487\ttotal: 207ms\tremaining: 311ms\n",
      "4:\tlearn: 2145.3607325\ttotal: 256ms\tremaining: 256ms\n",
      "5:\tlearn: 2088.9902646\ttotal: 304ms\tremaining: 203ms\n",
      "6:\tlearn: 2035.0725799\ttotal: 354ms\tremaining: 152ms\n",
      "7:\tlearn: 2010.2710139\ttotal: 401ms\tremaining: 100ms\n",
      "8:\tlearn: 1986.0907033\ttotal: 447ms\tremaining: 49.6ms\n",
      "9:\tlearn: 1970.9157461\ttotal: 497ms\tremaining: 0us\n",
      "[CV 5/5; 9/10] END .......learning_rate=0.5, n_estimators=10; total time=   1.3s\n",
      "[CV 1/5; 10/10] START learning_rate=0.5, n_estimators=25........................\n",
      "0:\tlearn: 3283.5758430\ttotal: 56.8ms\tremaining: 1.36s\n",
      "1:\tlearn: 2693.1617518\ttotal: 118ms\tremaining: 1.36s\n",
      "2:\tlearn: 2377.1403853\ttotal: 172ms\tremaining: 1.26s\n",
      "3:\tlearn: 2223.9911893\ttotal: 223ms\tremaining: 1.17s\n",
      "4:\tlearn: 2124.9436818\ttotal: 272ms\tremaining: 1.09s\n",
      "5:\tlearn: 2071.0829693\ttotal: 321ms\tremaining: 1.02s\n",
      "6:\tlearn: 2045.5158796\ttotal: 365ms\tremaining: 939ms\n",
      "7:\tlearn: 2011.0109296\ttotal: 411ms\tremaining: 874ms\n",
      "8:\tlearn: 1982.3657591\ttotal: 462ms\tremaining: 821ms\n",
      "9:\tlearn: 1959.7729143\ttotal: 517ms\tremaining: 775ms\n",
      "10:\tlearn: 1947.7186434\ttotal: 569ms\tremaining: 724ms\n",
      "11:\tlearn: 1933.3447471\ttotal: 619ms\tremaining: 671ms\n",
      "12:\tlearn: 1916.8884212\ttotal: 670ms\tremaining: 619ms\n",
      "13:\tlearn: 1909.1910536\ttotal: 721ms\tremaining: 566ms\n",
      "14:\tlearn: 1899.0423678\ttotal: 771ms\tremaining: 514ms\n",
      "15:\tlearn: 1881.0371345\ttotal: 819ms\tremaining: 461ms\n",
      "16:\tlearn: 1874.7555391\ttotal: 871ms\tremaining: 410ms\n",
      "17:\tlearn: 1868.4095413\ttotal: 919ms\tremaining: 357ms\n",
      "18:\tlearn: 1861.1674541\ttotal: 977ms\tremaining: 309ms\n",
      "19:\tlearn: 1849.8294362\ttotal: 1.02s\tremaining: 256ms\n",
      "20:\tlearn: 1839.6865407\ttotal: 1.07s\tremaining: 204ms\n",
      "21:\tlearn: 1834.4896568\ttotal: 1.12s\tremaining: 153ms\n",
      "22:\tlearn: 1829.1121473\ttotal: 1.17s\tremaining: 102ms\n",
      "23:\tlearn: 1822.9142099\ttotal: 1.22s\tremaining: 50.7ms\n",
      "24:\tlearn: 1818.1252785\ttotal: 1.26s\tremaining: 0us\n",
      "[CV 1/5; 10/10] END ......learning_rate=0.5, n_estimators=25; total time=   2.2s\n",
      "[CV 2/5; 10/10] START learning_rate=0.5, n_estimators=25........................\n",
      "0:\tlearn: 3285.8680470\ttotal: 56.9ms\tremaining: 1.36s\n",
      "1:\tlearn: 2693.5758339\ttotal: 112ms\tremaining: 1.29s\n",
      "2:\tlearn: 2380.4769678\ttotal: 166ms\tremaining: 1.22s\n",
      "3:\tlearn: 2228.1903046\ttotal: 220ms\tremaining: 1.15s\n",
      "4:\tlearn: 2128.7269040\ttotal: 271ms\tremaining: 1.08s\n",
      "5:\tlearn: 2072.3643204\ttotal: 322ms\tremaining: 1.02s\n",
      "6:\tlearn: 2036.2287739\ttotal: 367ms\tremaining: 943ms\n",
      "7:\tlearn: 2013.0454546\ttotal: 415ms\tremaining: 881ms\n",
      "8:\tlearn: 1981.4362952\ttotal: 459ms\tremaining: 816ms\n",
      "9:\tlearn: 1964.0589198\ttotal: 509ms\tremaining: 764ms\n",
      "10:\tlearn: 1944.2955385\ttotal: 554ms\tremaining: 705ms\n",
      "11:\tlearn: 1931.2706021\ttotal: 608ms\tremaining: 659ms\n",
      "12:\tlearn: 1921.7537688\ttotal: 664ms\tremaining: 613ms\n",
      "13:\tlearn: 1909.8390789\ttotal: 722ms\tremaining: 567ms\n",
      "14:\tlearn: 1903.5919179\ttotal: 795ms\tremaining: 530ms\n",
      "15:\tlearn: 1893.1395999\ttotal: 867ms\tremaining: 487ms\n",
      "16:\tlearn: 1886.6498150\ttotal: 927ms\tremaining: 436ms\n",
      "17:\tlearn: 1874.2222399\ttotal: 983ms\tremaining: 382ms\n",
      "18:\tlearn: 1866.8323873\ttotal: 1.03s\tremaining: 326ms\n",
      "19:\tlearn: 1859.4910063\ttotal: 1.08s\tremaining: 270ms\n",
      "20:\tlearn: 1851.7214398\ttotal: 1.12s\tremaining: 214ms\n",
      "21:\tlearn: 1841.6645148\ttotal: 1.17s\tremaining: 160ms\n",
      "22:\tlearn: 1837.0624088\ttotal: 1.21s\tremaining: 106ms\n",
      "23:\tlearn: 1828.5926186\ttotal: 1.26s\tremaining: 52.5ms\n",
      "24:\tlearn: 1822.6119007\ttotal: 1.33s\tremaining: 0us\n",
      "[CV 2/5; 10/10] END ......learning_rate=0.5, n_estimators=25; total time=   2.2s\n",
      "[CV 3/5; 10/10] START learning_rate=0.5, n_estimators=25........................\n",
      "0:\tlearn: 3313.4138403\ttotal: 62.3ms\tremaining: 1.5s\n",
      "1:\tlearn: 2707.7358564\ttotal: 129ms\tremaining: 1.49s\n",
      "2:\tlearn: 2399.8795797\ttotal: 199ms\tremaining: 1.46s\n",
      "3:\tlearn: 2245.2017759\ttotal: 269ms\tremaining: 1.41s\n",
      "4:\tlearn: 2147.7768632\ttotal: 322ms\tremaining: 1.29s\n",
      "5:\tlearn: 2068.7411146\ttotal: 372ms\tremaining: 1.18s\n",
      "6:\tlearn: 2030.1303910\ttotal: 424ms\tremaining: 1.09s\n",
      "7:\tlearn: 2008.3770535\ttotal: 472ms\tremaining: 1s\n",
      "8:\tlearn: 1979.7678964\ttotal: 525ms\tremaining: 933ms\n",
      "9:\tlearn: 1965.4537141\ttotal: 576ms\tremaining: 863ms\n",
      "10:\tlearn: 1944.4419581\ttotal: 623ms\tremaining: 793ms\n",
      "11:\tlearn: 1933.8587593\ttotal: 670ms\tremaining: 726ms\n",
      "12:\tlearn: 1921.8053345\ttotal: 726ms\tremaining: 670ms\n",
      "13:\tlearn: 1907.0422367\ttotal: 773ms\tremaining: 608ms\n",
      "14:\tlearn: 1895.8568967\ttotal: 821ms\tremaining: 547ms\n",
      "15:\tlearn: 1886.2101089\ttotal: 869ms\tremaining: 489ms\n",
      "16:\tlearn: 1880.7981369\ttotal: 919ms\tremaining: 433ms\n",
      "17:\tlearn: 1868.5356684\ttotal: 968ms\tremaining: 377ms\n",
      "18:\tlearn: 1861.9907815\ttotal: 1.01s\tremaining: 320ms\n",
      "19:\tlearn: 1856.1725869\ttotal: 1.06s\tremaining: 266ms\n",
      "20:\tlearn: 1848.6471037\ttotal: 1.11s\tremaining: 212ms\n",
      "21:\tlearn: 1842.4035520\ttotal: 1.16s\tremaining: 158ms\n",
      "22:\tlearn: 1833.5687775\ttotal: 1.21s\tremaining: 105ms\n",
      "23:\tlearn: 1826.7701692\ttotal: 1.25s\tremaining: 52.2ms\n",
      "24:\tlearn: 1818.1583597\ttotal: 1.3s\tremaining: 0us\n",
      "[CV 3/5; 10/10] END ......learning_rate=0.5, n_estimators=25; total time=   2.1s\n",
      "[CV 4/5; 10/10] START learning_rate=0.5, n_estimators=25........................\n",
      "0:\tlearn: 3267.4090149\ttotal: 51.8ms\tremaining: 1.24s\n",
      "1:\tlearn: 2635.7477204\ttotal: 103ms\tremaining: 1.18s\n",
      "2:\tlearn: 2338.7718738\ttotal: 160ms\tremaining: 1.18s\n",
      "3:\tlearn: 2191.4863722\ttotal: 212ms\tremaining: 1.11s\n",
      "4:\tlearn: 2098.0232479\ttotal: 261ms\tremaining: 1.04s\n",
      "5:\tlearn: 2054.4455752\ttotal: 306ms\tremaining: 970ms\n",
      "6:\tlearn: 2006.6759954\ttotal: 355ms\tremaining: 914ms\n",
      "7:\tlearn: 1984.2624211\ttotal: 407ms\tremaining: 865ms\n",
      "8:\tlearn: 1970.1561709\ttotal: 451ms\tremaining: 801ms\n",
      "9:\tlearn: 1953.2495885\ttotal: 502ms\tremaining: 752ms\n",
      "10:\tlearn: 1940.9741160\ttotal: 548ms\tremaining: 697ms\n",
      "11:\tlearn: 1925.7565985\ttotal: 595ms\tremaining: 645ms\n",
      "12:\tlearn: 1913.6748543\ttotal: 640ms\tremaining: 591ms\n",
      "13:\tlearn: 1902.3353890\ttotal: 684ms\tremaining: 537ms\n",
      "14:\tlearn: 1894.5289654\ttotal: 731ms\tremaining: 487ms\n",
      "15:\tlearn: 1891.4911257\ttotal: 775ms\tremaining: 436ms\n",
      "16:\tlearn: 1880.4760542\ttotal: 820ms\tremaining: 386ms\n",
      "17:\tlearn: 1871.7775992\ttotal: 873ms\tremaining: 340ms\n",
      "18:\tlearn: 1864.0340735\ttotal: 920ms\tremaining: 290ms\n",
      "19:\tlearn: 1857.3181803\ttotal: 967ms\tremaining: 242ms\n",
      "20:\tlearn: 1850.5873480\ttotal: 1.01s\tremaining: 193ms\n",
      "21:\tlearn: 1843.6911249\ttotal: 1.06s\tremaining: 144ms\n",
      "22:\tlearn: 1836.7480223\ttotal: 1.1s\tremaining: 95.9ms\n",
      "23:\tlearn: 1829.3496566\ttotal: 1.15s\tremaining: 47.9ms\n",
      "24:\tlearn: 1823.8947067\ttotal: 1.2s\tremaining: 0us\n",
      "[CV 4/5; 10/10] END ......learning_rate=0.5, n_estimators=25; total time=   2.3s\n",
      "[CV 5/5; 10/10] START learning_rate=0.5, n_estimators=25........................\n",
      "0:\tlearn: 3283.5930118\ttotal: 51.7ms\tremaining: 1.24s\n",
      "1:\tlearn: 2677.8875231\ttotal: 98.4ms\tremaining: 1.13s\n",
      "2:\tlearn: 2374.0197914\ttotal: 157ms\tremaining: 1.15s\n",
      "3:\tlearn: 2222.0658487\ttotal: 208ms\tremaining: 1.09s\n",
      "4:\tlearn: 2145.3607325\ttotal: 260ms\tremaining: 1.04s\n",
      "5:\tlearn: 2088.9902646\ttotal: 312ms\tremaining: 989ms\n",
      "6:\tlearn: 2035.0725799\ttotal: 360ms\tremaining: 925ms\n",
      "7:\tlearn: 2010.2710139\ttotal: 406ms\tremaining: 863ms\n",
      "8:\tlearn: 1986.0907033\ttotal: 452ms\tremaining: 804ms\n",
      "9:\tlearn: 1970.9157461\ttotal: 500ms\tremaining: 750ms\n",
      "10:\tlearn: 1950.5228814\ttotal: 554ms\tremaining: 705ms\n",
      "11:\tlearn: 1941.4497932\ttotal: 600ms\tremaining: 650ms\n",
      "12:\tlearn: 1928.4470558\ttotal: 646ms\tremaining: 596ms\n",
      "13:\tlearn: 1919.6346627\ttotal: 691ms\tremaining: 543ms\n",
      "14:\tlearn: 1905.8940393\ttotal: 737ms\tremaining: 492ms\n",
      "15:\tlearn: 1893.8664071\ttotal: 787ms\tremaining: 442ms\n",
      "16:\tlearn: 1885.6506776\ttotal: 832ms\tremaining: 391ms\n",
      "17:\tlearn: 1879.2122841\ttotal: 879ms\tremaining: 342ms\n",
      "18:\tlearn: 1872.2150252\ttotal: 926ms\tremaining: 292ms\n",
      "19:\tlearn: 1868.6469456\ttotal: 980ms\tremaining: 245ms\n",
      "20:\tlearn: 1857.8226249\ttotal: 1.03s\tremaining: 196ms\n",
      "21:\tlearn: 1852.4500128\ttotal: 1.08s\tremaining: 147ms\n",
      "22:\tlearn: 1845.5935475\ttotal: 1.13s\tremaining: 98ms\n",
      "23:\tlearn: 1839.0023506\ttotal: 1.18s\tremaining: 49.1ms\n",
      "24:\tlearn: 1829.7062968\ttotal: 1.23s\tremaining: 0us\n",
      "[CV 5/5; 10/10] END ......learning_rate=0.5, n_estimators=25; total time=   2.2s\n",
      "0:\tlearn: 2814.9662276\ttotal: 69ms\tremaining: 1.66s\n",
      "1:\tlearn: 2398.8596834\ttotal: 143ms\tremaining: 1.64s\n",
      "2:\tlearn: 2257.4317919\ttotal: 213ms\tremaining: 1.56s\n",
      "3:\tlearn: 2151.5802904\ttotal: 274ms\tremaining: 1.44s\n",
      "4:\tlearn: 2074.6913645\ttotal: 334ms\tremaining: 1.34s\n",
      "5:\tlearn: 2038.8030604\ttotal: 395ms\tremaining: 1.25s\n",
      "6:\tlearn: 2003.2332221\ttotal: 467ms\tremaining: 1.2s\n",
      "7:\tlearn: 1979.2704908\ttotal: 530ms\tremaining: 1.13s\n",
      "8:\tlearn: 1964.9191905\ttotal: 603ms\tremaining: 1.07s\n",
      "9:\tlearn: 1945.1730787\ttotal: 686ms\tremaining: 1.03s\n",
      "10:\tlearn: 1932.5081972\ttotal: 745ms\tremaining: 948ms\n",
      "11:\tlearn: 1912.1732176\ttotal: 810ms\tremaining: 878ms\n",
      "12:\tlearn: 1899.9590117\ttotal: 870ms\tremaining: 803ms\n",
      "13:\tlearn: 1890.9240312\ttotal: 929ms\tremaining: 730ms\n",
      "14:\tlearn: 1883.5008761\ttotal: 989ms\tremaining: 659ms\n",
      "15:\tlearn: 1872.7280880\ttotal: 1.06s\tremaining: 596ms\n",
      "16:\tlearn: 1859.3643019\ttotal: 1.12s\tremaining: 527ms\n",
      "17:\tlearn: 1850.7938340\ttotal: 1.18s\tremaining: 459ms\n",
      "18:\tlearn: 1844.5893310\ttotal: 1.24s\tremaining: 392ms\n",
      "19:\tlearn: 1835.7851271\ttotal: 1.3s\tremaining: 326ms\n",
      "20:\tlearn: 1830.9938787\ttotal: 1.36s\tremaining: 259ms\n",
      "21:\tlearn: 1825.1689569\ttotal: 1.42s\tremaining: 194ms\n",
      "22:\tlearn: 1820.4730812\ttotal: 1.48s\tremaining: 128ms\n",
      "23:\tlearn: 1809.5089081\ttotal: 1.53s\tremaining: 63.9ms\n",
      "24:\tlearn: 1802.2394971\ttotal: 1.59s\tremaining: 0us\n",
      "CatBoost without OHE\n",
      "Best parameters: {'n_estimators': 25, 'learning_rate': 0.75}\n",
      "RMSE: 1812.16\n",
      "CPU times: user 54.8 s, sys: 622 ms, total: 55.4 s\n",
      "Wall time: 1min 27s\n"
     ]
    }
   ],
   "source": [
    "%%time\n",
    "# CatBoost without OHE\n",
    "cb_model_2 = CatBoostRegressor(random_state=42)\n",
    "params = { 'n_estimators': range(10, 30, 5), 'learning_rate': [.25, .5, .75] }\n",
    "\n",
    "best_model = RandomizedSearchCV(cb_model_2, params, scoring=rmse, cv=5, verbose=10)\n",
    "best_model.fit(features_train1, target_train1, cat_features=list_cat) \n",
    "predictions = best_model.best_estimator_.predict(features_valid1)\n",
    "\n",
    "print('CatBoost without OHE')\n",
    "print('Best parameters:', best_model.best_params_)\n",
    "print('RMSE:', round(mean_squared_error(target_valid1, predictions) ** 0.5, 2))"
   ]
  },
  {
   "cell_type": "markdown",
   "metadata": {},
   "source": [
    "Hyperparameter Tuning for Catboost with applying One Hot Encoding"
   ]
  },
  {
   "cell_type": "code",
   "execution_count": 59,
   "metadata": {},
   "outputs": [
    {
     "name": "stdout",
     "output_type": "stream",
     "text": [
      "Fitting 5 folds for each of 10 candidates, totalling 50 fits\n",
      "[CV 1/5; 1/10] START learning_rate=0.75, n_estimators=20........................\n",
      "0:\tlearn: 2841.2899011\ttotal: 21.7ms\tremaining: 413ms\n",
      "1:\tlearn: 2436.5709283\ttotal: 44ms\tremaining: 396ms\n",
      "2:\tlearn: 2265.3575526\ttotal: 65.2ms\tremaining: 369ms\n",
      "3:\tlearn: 2162.6983144\ttotal: 86.4ms\tremaining: 345ms\n",
      "4:\tlearn: 2108.8099482\ttotal: 107ms\tremaining: 320ms\n",
      "5:\tlearn: 2070.5866320\ttotal: 136ms\tremaining: 318ms\n",
      "6:\tlearn: 2026.5392276\ttotal: 159ms\tremaining: 295ms\n",
      "7:\tlearn: 1995.6288396\ttotal: 180ms\tremaining: 269ms\n",
      "8:\tlearn: 1972.7736628\ttotal: 202ms\tremaining: 247ms\n",
      "9:\tlearn: 1961.3991442\ttotal: 223ms\tremaining: 223ms\n",
      "10:\tlearn: 1946.2171143\ttotal: 244ms\tremaining: 200ms\n",
      "11:\tlearn: 1931.8543611\ttotal: 271ms\tremaining: 180ms\n",
      "12:\tlearn: 1917.7677734\ttotal: 299ms\tremaining: 161ms\n",
      "13:\tlearn: 1906.2539652\ttotal: 330ms\tremaining: 141ms\n",
      "14:\tlearn: 1890.6916539\ttotal: 362ms\tremaining: 121ms\n",
      "15:\tlearn: 1880.9367389\ttotal: 387ms\tremaining: 96.7ms\n",
      "16:\tlearn: 1872.7210045\ttotal: 415ms\tremaining: 73.3ms\n",
      "17:\tlearn: 1866.4401918\ttotal: 441ms\tremaining: 49ms\n",
      "18:\tlearn: 1856.7539635\ttotal: 467ms\tremaining: 24.6ms\n",
      "19:\tlearn: 1843.4819770\ttotal: 493ms\tremaining: 0us\n",
      "[CV 1/5; 1/10] END ......learning_rate=0.75, n_estimators=20; total time=   2.0s\n",
      "[CV 2/5; 1/10] START learning_rate=0.75, n_estimators=20........................\n",
      "0:\tlearn: 2812.0471588\ttotal: 29.1ms\tremaining: 553ms\n",
      "1:\tlearn: 2436.3823838\ttotal: 50.4ms\tremaining: 453ms\n",
      "2:\tlearn: 2267.9208991\ttotal: 73.2ms\tremaining: 415ms\n",
      "3:\tlearn: 2175.9902749\ttotal: 94.1ms\tremaining: 377ms\n",
      "4:\tlearn: 2120.6838613\ttotal: 115ms\tremaining: 345ms\n",
      "5:\tlearn: 2077.9633520\ttotal: 137ms\tremaining: 319ms\n",
      "6:\tlearn: 2042.6521189\ttotal: 159ms\tremaining: 296ms\n",
      "7:\tlearn: 2017.1315434\ttotal: 192ms\tremaining: 288ms\n",
      "8:\tlearn: 1998.4550742\ttotal: 219ms\tremaining: 268ms\n",
      "9:\tlearn: 1977.1509632\ttotal: 244ms\tremaining: 244ms\n",
      "10:\tlearn: 1950.8403381\ttotal: 266ms\tremaining: 217ms\n",
      "11:\tlearn: 1934.4207206\ttotal: 288ms\tremaining: 192ms\n",
      "12:\tlearn: 1922.5607305\ttotal: 307ms\tremaining: 165ms\n",
      "13:\tlearn: 1906.9171030\ttotal: 329ms\tremaining: 141ms\n",
      "14:\tlearn: 1899.5396830\ttotal: 348ms\tremaining: 116ms\n",
      "15:\tlearn: 1892.8525433\ttotal: 369ms\tremaining: 92.3ms\n",
      "16:\tlearn: 1883.4845405\ttotal: 390ms\tremaining: 68.9ms\n",
      "17:\tlearn: 1872.8882668\ttotal: 411ms\tremaining: 45.7ms\n",
      "18:\tlearn: 1864.8609477\ttotal: 432ms\tremaining: 22.8ms\n",
      "19:\tlearn: 1855.5264304\ttotal: 455ms\tremaining: 0us\n",
      "[CV 2/5; 1/10] END ......learning_rate=0.75, n_estimators=20; total time=   2.0s\n",
      "[CV 3/5; 1/10] START learning_rate=0.75, n_estimators=20........................\n",
      "0:\tlearn: 2872.2359712\ttotal: 25.4ms\tremaining: 482ms\n",
      "1:\tlearn: 2496.8925086\ttotal: 49.2ms\tremaining: 443ms\n",
      "2:\tlearn: 2282.5006220\ttotal: 71.6ms\tremaining: 406ms\n",
      "3:\tlearn: 2179.9389530\ttotal: 95.4ms\tremaining: 382ms\n",
      "4:\tlearn: 2129.7681000\ttotal: 118ms\tremaining: 354ms\n",
      "5:\tlearn: 2099.6468481\ttotal: 142ms\tremaining: 331ms\n",
      "6:\tlearn: 2060.4534504\ttotal: 164ms\tremaining: 305ms\n",
      "7:\tlearn: 2021.4969089\ttotal: 190ms\tremaining: 286ms\n",
      "8:\tlearn: 2000.0277790\ttotal: 215ms\tremaining: 263ms\n",
      "9:\tlearn: 1982.9225248\ttotal: 240ms\tremaining: 240ms\n",
      "10:\tlearn: 1961.1210148\ttotal: 265ms\tremaining: 217ms\n",
      "11:\tlearn: 1949.4685552\ttotal: 289ms\tremaining: 193ms\n",
      "12:\tlearn: 1935.8871693\ttotal: 313ms\tremaining: 169ms\n",
      "13:\tlearn: 1921.3138884\ttotal: 338ms\tremaining: 145ms\n",
      "14:\tlearn: 1909.1099337\ttotal: 362ms\tremaining: 121ms\n",
      "15:\tlearn: 1900.2752656\ttotal: 383ms\tremaining: 95.6ms\n",
      "16:\tlearn: 1892.7933419\ttotal: 404ms\tremaining: 71.2ms\n",
      "17:\tlearn: 1885.2705565\ttotal: 426ms\tremaining: 47.4ms\n",
      "18:\tlearn: 1879.4973141\ttotal: 449ms\tremaining: 23.6ms\n",
      "19:\tlearn: 1871.3097514\ttotal: 473ms\tremaining: 0us\n",
      "[CV 3/5; 1/10] END ......learning_rate=0.75, n_estimators=20; total time=   2.1s\n",
      "[CV 4/5; 1/10] START learning_rate=0.75, n_estimators=20........................\n",
      "0:\tlearn: 2808.2429699\ttotal: 23.7ms\tremaining: 450ms\n",
      "1:\tlearn: 2436.1096892\ttotal: 46.6ms\tremaining: 419ms\n",
      "2:\tlearn: 2273.8403886\ttotal: 69.6ms\tremaining: 394ms\n",
      "3:\tlearn: 2169.4017410\ttotal: 91.6ms\tremaining: 367ms\n",
      "4:\tlearn: 2110.3494216\ttotal: 115ms\tremaining: 345ms\n",
      "5:\tlearn: 2074.1624761\ttotal: 137ms\tremaining: 319ms\n",
      "6:\tlearn: 2041.1238326\ttotal: 158ms\tremaining: 294ms\n",
      "7:\tlearn: 2015.0698235\ttotal: 181ms\tremaining: 271ms\n",
      "8:\tlearn: 1983.1916417\ttotal: 203ms\tremaining: 249ms\n",
      "9:\tlearn: 1961.2690532\ttotal: 227ms\tremaining: 227ms\n",
      "10:\tlearn: 1948.3111183\ttotal: 249ms\tremaining: 203ms\n",
      "11:\tlearn: 1925.4802791\ttotal: 272ms\tremaining: 181ms\n",
      "12:\tlearn: 1914.4229478\ttotal: 294ms\tremaining: 158ms\n",
      "13:\tlearn: 1902.0461427\ttotal: 318ms\tremaining: 136ms\n",
      "14:\tlearn: 1895.7118672\ttotal: 337ms\tremaining: 112ms\n",
      "15:\tlearn: 1888.4425928\ttotal: 358ms\tremaining: 89.4ms\n",
      "16:\tlearn: 1879.0521591\ttotal: 378ms\tremaining: 66.7ms\n",
      "17:\tlearn: 1862.5935922\ttotal: 401ms\tremaining: 44.6ms\n",
      "18:\tlearn: 1854.7169172\ttotal: 422ms\tremaining: 22.2ms\n",
      "19:\tlearn: 1846.8657461\ttotal: 445ms\tremaining: 0us\n",
      "[CV 4/5; 1/10] END ......learning_rate=0.75, n_estimators=20; total time=   2.0s\n",
      "[CV 5/5; 1/10] START learning_rate=0.75, n_estimators=20........................\n",
      "0:\tlearn: 2859.9387770\ttotal: 25.3ms\tremaining: 481ms\n",
      "1:\tlearn: 2453.9752214\ttotal: 48.5ms\tremaining: 436ms\n",
      "2:\tlearn: 2273.3086148\ttotal: 72.1ms\tremaining: 408ms\n",
      "3:\tlearn: 2186.3282469\ttotal: 95ms\tremaining: 380ms\n",
      "4:\tlearn: 2135.0014309\ttotal: 116ms\tremaining: 347ms\n",
      "5:\tlearn: 2090.5019095\ttotal: 138ms\tremaining: 322ms\n",
      "6:\tlearn: 2053.4834564\ttotal: 162ms\tremaining: 301ms\n",
      "7:\tlearn: 2027.4363052\ttotal: 183ms\tremaining: 275ms\n",
      "8:\tlearn: 2004.7475031\ttotal: 203ms\tremaining: 248ms\n",
      "9:\tlearn: 1985.4475948\ttotal: 224ms\tremaining: 224ms\n",
      "10:\tlearn: 1967.4787017\ttotal: 249ms\tremaining: 203ms\n",
      "11:\tlearn: 1953.5148229\ttotal: 271ms\tremaining: 180ms\n",
      "12:\tlearn: 1942.1840279\ttotal: 292ms\tremaining: 157ms\n",
      "13:\tlearn: 1929.5814806\ttotal: 315ms\tremaining: 135ms\n",
      "14:\tlearn: 1915.7650365\ttotal: 339ms\tremaining: 113ms\n",
      "15:\tlearn: 1903.3101445\ttotal: 361ms\tremaining: 90.2ms\n",
      "16:\tlearn: 1895.0016529\ttotal: 382ms\tremaining: 67.4ms\n",
      "17:\tlearn: 1881.8357647\ttotal: 405ms\tremaining: 45ms\n",
      "18:\tlearn: 1874.6319423\ttotal: 426ms\tremaining: 22.4ms\n",
      "19:\tlearn: 1869.9036197\ttotal: 449ms\tremaining: 0us\n",
      "[CV 5/5; 1/10] END ......learning_rate=0.75, n_estimators=20; total time=   2.2s\n",
      "[CV 1/5; 2/10] START learning_rate=0.75, n_estimators=15........................\n",
      "0:\tlearn: 2841.2899011\ttotal: 28.1ms\tremaining: 393ms\n",
      "1:\tlearn: 2436.5709283\ttotal: 59.7ms\tremaining: 388ms\n",
      "2:\tlearn: 2265.3575526\ttotal: 88.1ms\tremaining: 353ms\n",
      "3:\tlearn: 2162.6983144\ttotal: 118ms\tremaining: 323ms\n",
      "4:\tlearn: 2108.8099482\ttotal: 140ms\tremaining: 280ms\n",
      "5:\tlearn: 2070.5866320\ttotal: 161ms\tremaining: 242ms\n",
      "6:\tlearn: 2026.5392276\ttotal: 184ms\tremaining: 210ms\n",
      "7:\tlearn: 1995.6288396\ttotal: 207ms\tremaining: 181ms\n",
      "8:\tlearn: 1972.7736628\ttotal: 232ms\tremaining: 155ms\n",
      "9:\tlearn: 1961.3991442\ttotal: 255ms\tremaining: 128ms\n",
      "10:\tlearn: 1946.2171143\ttotal: 278ms\tremaining: 101ms\n",
      "11:\tlearn: 1931.8543611\ttotal: 301ms\tremaining: 75.2ms\n",
      "12:\tlearn: 1917.7677734\ttotal: 323ms\tremaining: 49.7ms\n",
      "13:\tlearn: 1906.2539652\ttotal: 347ms\tremaining: 24.8ms\n",
      "14:\tlearn: 1890.6916539\ttotal: 370ms\tremaining: 0us\n",
      "[CV 1/5; 2/10] END ......learning_rate=0.75, n_estimators=15; total time=   2.0s\n",
      "[CV 2/5; 2/10] START learning_rate=0.75, n_estimators=15........................\n",
      "0:\tlearn: 2812.0471588\ttotal: 23.4ms\tremaining: 327ms\n",
      "1:\tlearn: 2436.3823838\ttotal: 44.6ms\tremaining: 290ms\n",
      "2:\tlearn: 2267.9208991\ttotal: 67.7ms\tremaining: 271ms\n",
      "3:\tlearn: 2175.9902749\ttotal: 89.5ms\tremaining: 246ms\n",
      "4:\tlearn: 2120.6838613\ttotal: 112ms\tremaining: 223ms\n",
      "5:\tlearn: 2077.9633520\ttotal: 133ms\tremaining: 199ms\n",
      "6:\tlearn: 2042.6521189\ttotal: 154ms\tremaining: 176ms\n",
      "7:\tlearn: 2017.1315434\ttotal: 175ms\tremaining: 153ms\n",
      "8:\tlearn: 1998.4550742\ttotal: 196ms\tremaining: 131ms\n",
      "9:\tlearn: 1977.1509632\ttotal: 218ms\tremaining: 109ms\n",
      "10:\tlearn: 1950.8403381\ttotal: 241ms\tremaining: 87.5ms\n",
      "11:\tlearn: 1934.4207206\ttotal: 263ms\tremaining: 65.7ms\n",
      "12:\tlearn: 1922.5607305\ttotal: 283ms\tremaining: 43.5ms\n",
      "13:\tlearn: 1906.9171030\ttotal: 307ms\tremaining: 21.9ms\n",
      "14:\tlearn: 1899.5396830\ttotal: 327ms\tremaining: 0us\n",
      "[CV 2/5; 2/10] END ......learning_rate=0.75, n_estimators=15; total time=   1.8s\n",
      "[CV 3/5; 2/10] START learning_rate=0.75, n_estimators=15........................\n",
      "0:\tlearn: 2872.2359712\ttotal: 22.7ms\tremaining: 318ms\n",
      "1:\tlearn: 2496.8925086\ttotal: 44.2ms\tremaining: 287ms\n",
      "2:\tlearn: 2282.5006220\ttotal: 65.6ms\tremaining: 262ms\n",
      "3:\tlearn: 2179.9389530\ttotal: 95.6ms\tremaining: 263ms\n",
      "4:\tlearn: 2129.7681000\ttotal: 117ms\tremaining: 233ms\n",
      "5:\tlearn: 2099.6468481\ttotal: 139ms\tremaining: 208ms\n",
      "6:\tlearn: 2060.4534504\ttotal: 161ms\tremaining: 184ms\n",
      "7:\tlearn: 2021.4969089\ttotal: 186ms\tremaining: 163ms\n",
      "8:\tlearn: 2000.0277790\ttotal: 209ms\tremaining: 139ms\n",
      "9:\tlearn: 1982.9225248\ttotal: 232ms\tremaining: 116ms\n",
      "10:\tlearn: 1961.1210148\ttotal: 255ms\tremaining: 92.7ms\n",
      "11:\tlearn: 1949.4685552\ttotal: 278ms\tremaining: 69.5ms\n",
      "12:\tlearn: 1935.8871693\ttotal: 301ms\tremaining: 46.3ms\n",
      "13:\tlearn: 1921.3138884\ttotal: 324ms\tremaining: 23.2ms\n",
      "14:\tlearn: 1909.1099337\ttotal: 347ms\tremaining: 0us\n",
      "[CV 3/5; 2/10] END ......learning_rate=0.75, n_estimators=15; total time=   1.8s\n",
      "[CV 4/5; 2/10] START learning_rate=0.75, n_estimators=15........................\n",
      "0:\tlearn: 2808.2429699\ttotal: 23.2ms\tremaining: 324ms\n",
      "1:\tlearn: 2436.1096892\ttotal: 46ms\tremaining: 299ms\n",
      "2:\tlearn: 2273.8403886\ttotal: 69.8ms\tremaining: 279ms\n",
      "3:\tlearn: 2169.4017410\ttotal: 92.8ms\tremaining: 255ms\n",
      "4:\tlearn: 2110.3494216\ttotal: 116ms\tremaining: 231ms\n",
      "5:\tlearn: 2074.1624761\ttotal: 138ms\tremaining: 206ms\n",
      "6:\tlearn: 2041.1238326\ttotal: 159ms\tremaining: 182ms\n",
      "7:\tlearn: 2015.0698235\ttotal: 182ms\tremaining: 159ms\n",
      "8:\tlearn: 1983.1916417\ttotal: 208ms\tremaining: 139ms\n",
      "9:\tlearn: 1961.2690532\ttotal: 231ms\tremaining: 115ms\n",
      "10:\tlearn: 1948.3111183\ttotal: 253ms\tremaining: 91.9ms\n",
      "11:\tlearn: 1925.4802791\ttotal: 275ms\tremaining: 68.7ms\n",
      "12:\tlearn: 1914.4229478\ttotal: 297ms\tremaining: 45.7ms\n",
      "13:\tlearn: 1902.0461427\ttotal: 322ms\tremaining: 23ms\n",
      "14:\tlearn: 1895.7118672\ttotal: 340ms\tremaining: 0us\n",
      "[CV 4/5; 2/10] END ......learning_rate=0.75, n_estimators=15; total time=   1.8s\n",
      "[CV 5/5; 2/10] START learning_rate=0.75, n_estimators=15........................\n",
      "0:\tlearn: 2859.9387770\ttotal: 23.7ms\tremaining: 332ms\n",
      "1:\tlearn: 2453.9752214\ttotal: 46.7ms\tremaining: 304ms\n",
      "2:\tlearn: 2273.3086148\ttotal: 69.5ms\tremaining: 278ms\n",
      "3:\tlearn: 2186.3282469\ttotal: 91.8ms\tremaining: 252ms\n",
      "4:\tlearn: 2135.0014309\ttotal: 115ms\tremaining: 230ms\n",
      "5:\tlearn: 2090.5019095\ttotal: 138ms\tremaining: 207ms\n",
      "6:\tlearn: 2053.4834564\ttotal: 161ms\tremaining: 185ms\n",
      "7:\tlearn: 2027.4363052\ttotal: 182ms\tremaining: 160ms\n",
      "8:\tlearn: 2004.7475031\ttotal: 202ms\tremaining: 135ms\n",
      "9:\tlearn: 1985.4475948\ttotal: 224ms\tremaining: 112ms\n",
      "10:\tlearn: 1967.4787017\ttotal: 252ms\tremaining: 91.5ms\n",
      "11:\tlearn: 1953.5148229\ttotal: 276ms\tremaining: 69.1ms\n",
      "12:\tlearn: 1942.1840279\ttotal: 301ms\tremaining: 46.3ms\n",
      "13:\tlearn: 1929.5814806\ttotal: 326ms\tremaining: 23.3ms\n",
      "14:\tlearn: 1915.7650365\ttotal: 350ms\tremaining: 0us\n",
      "[CV 5/5; 2/10] END ......learning_rate=0.75, n_estimators=15; total time=   1.8s\n",
      "[CV 1/5; 3/10] START learning_rate=0.25, n_estimators=10........................\n",
      "0:\tlearn: 3836.3829812\ttotal: 24.5ms\tremaining: 221ms\n",
      "1:\tlearn: 3323.3844746\ttotal: 48.9ms\tremaining: 196ms\n",
      "2:\tlearn: 2990.1008852\ttotal: 72.7ms\tremaining: 170ms\n",
      "3:\tlearn: 2738.0799189\ttotal: 102ms\tremaining: 154ms\n",
      "4:\tlearn: 2564.4963092\ttotal: 130ms\tremaining: 130ms\n",
      "5:\tlearn: 2436.8304199\ttotal: 157ms\tremaining: 105ms\n",
      "6:\tlearn: 2345.8770521\ttotal: 186ms\tremaining: 79.5ms\n",
      "7:\tlearn: 2272.1034762\ttotal: 220ms\tremaining: 55.1ms\n",
      "8:\tlearn: 2220.7381410\ttotal: 253ms\tremaining: 28.1ms\n",
      "9:\tlearn: 2177.7572806\ttotal: 287ms\tremaining: 0us\n",
      "[CV 1/5; 3/10] END ......learning_rate=0.25, n_estimators=10; total time=   1.9s\n",
      "[CV 2/5; 3/10] START learning_rate=0.25, n_estimators=10........................\n",
      "0:\tlearn: 3827.5400298\ttotal: 22.1ms\tremaining: 198ms\n",
      "1:\tlearn: 3330.0704358\ttotal: 45.5ms\tremaining: 182ms\n",
      "2:\tlearn: 2990.5585536\ttotal: 69.7ms\tremaining: 163ms\n",
      "3:\tlearn: 2752.5614197\ttotal: 93.3ms\tremaining: 140ms\n",
      "4:\tlearn: 2586.5243031\ttotal: 116ms\tremaining: 116ms\n",
      "5:\tlearn: 2452.7574570\ttotal: 139ms\tremaining: 92.4ms\n",
      "6:\tlearn: 2350.9220461\ttotal: 163ms\tremaining: 69.7ms\n",
      "7:\tlearn: 2279.0915060\ttotal: 185ms\tremaining: 46.3ms\n",
      "8:\tlearn: 2224.8988343\ttotal: 208ms\tremaining: 23.2ms\n",
      "9:\tlearn: 2177.0927166\ttotal: 231ms\tremaining: 0us\n",
      "[CV 2/5; 3/10] END ......learning_rate=0.25, n_estimators=10; total time=   1.8s\n",
      "[CV 3/5; 3/10] START learning_rate=0.25, n_estimators=10........................\n",
      "0:\tlearn: 3845.5773000\ttotal: 23.7ms\tremaining: 213ms\n",
      "1:\tlearn: 3346.6347978\ttotal: 48.6ms\tremaining: 194ms\n",
      "2:\tlearn: 3005.5413869\ttotal: 73.5ms\tremaining: 171ms\n",
      "3:\tlearn: 2754.2414807\ttotal: 96.7ms\tremaining: 145ms\n",
      "4:\tlearn: 2582.0163631\ttotal: 121ms\tremaining: 121ms\n",
      "5:\tlearn: 2456.5896400\ttotal: 143ms\tremaining: 95.5ms\n",
      "6:\tlearn: 2362.0680882\ttotal: 166ms\tremaining: 71.2ms\n",
      "7:\tlearn: 2287.1378452\ttotal: 191ms\tremaining: 47.7ms\n",
      "8:\tlearn: 2218.1946106\ttotal: 214ms\tremaining: 23.8ms\n",
      "9:\tlearn: 2171.9690646\ttotal: 238ms\tremaining: 0us\n",
      "[CV 3/5; 3/10] END ......learning_rate=0.25, n_estimators=10; total time=   1.8s\n",
      "[CV 4/5; 3/10] START learning_rate=0.25, n_estimators=10........................\n",
      "0:\tlearn: 3821.4886471\ttotal: 24.1ms\tremaining: 217ms\n",
      "1:\tlearn: 3324.5055732\ttotal: 60.2ms\tremaining: 241ms\n",
      "2:\tlearn: 2985.9431531\ttotal: 85.4ms\tremaining: 199ms\n",
      "3:\tlearn: 2753.1395813\ttotal: 111ms\tremaining: 167ms\n",
      "4:\tlearn: 2573.3910921\ttotal: 143ms\tremaining: 143ms\n",
      "5:\tlearn: 2440.0343781\ttotal: 167ms\tremaining: 111ms\n",
      "6:\tlearn: 2349.2634292\ttotal: 191ms\tremaining: 81.7ms\n",
      "7:\tlearn: 2284.7664320\ttotal: 216ms\tremaining: 53.9ms\n",
      "8:\tlearn: 2220.3986446\ttotal: 240ms\tremaining: 26.6ms\n",
      "9:\tlearn: 2170.4090935\ttotal: 265ms\tremaining: 0us\n",
      "[CV 4/5; 3/10] END ......learning_rate=0.25, n_estimators=10; total time=   2.1s\n",
      "[CV 5/5; 3/10] START learning_rate=0.25, n_estimators=10........................\n",
      "0:\tlearn: 3842.1908306\ttotal: 25.2ms\tremaining: 227ms\n",
      "1:\tlearn: 3338.5855441\ttotal: 54.1ms\tremaining: 217ms\n",
      "2:\tlearn: 3000.9559073\ttotal: 79.3ms\tremaining: 185ms\n",
      "3:\tlearn: 2743.3592023\ttotal: 104ms\tremaining: 156ms\n",
      "4:\tlearn: 2562.2635147\ttotal: 128ms\tremaining: 128ms\n",
      "5:\tlearn: 2437.9754390\ttotal: 152ms\tremaining: 102ms\n",
      "6:\tlearn: 2349.8442672\ttotal: 176ms\tremaining: 75.4ms\n",
      "7:\tlearn: 2278.7595308\ttotal: 201ms\tremaining: 50.2ms\n",
      "8:\tlearn: 2229.3612739\ttotal: 226ms\tremaining: 25.2ms\n",
      "9:\tlearn: 2180.2887431\ttotal: 263ms\tremaining: 0us\n",
      "[CV 5/5; 3/10] END ......learning_rate=0.25, n_estimators=10; total time=   1.9s\n",
      "[CV 1/5; 4/10] START learning_rate=0.75, n_estimators=10........................\n",
      "0:\tlearn: 2841.2899011\ttotal: 24.1ms\tremaining: 217ms\n",
      "1:\tlearn: 2436.5709283\ttotal: 47.7ms\tremaining: 191ms\n",
      "2:\tlearn: 2265.3575526\ttotal: 71ms\tremaining: 166ms\n",
      "3:\tlearn: 2162.6983144\ttotal: 94.1ms\tremaining: 141ms\n",
      "4:\tlearn: 2108.8099482\ttotal: 116ms\tremaining: 116ms\n",
      "5:\tlearn: 2070.5866320\ttotal: 137ms\tremaining: 91.5ms\n",
      "6:\tlearn: 2026.5392276\ttotal: 160ms\tremaining: 68.6ms\n",
      "7:\tlearn: 1995.6288396\ttotal: 182ms\tremaining: 45.5ms\n",
      "8:\tlearn: 1972.7736628\ttotal: 205ms\tremaining: 22.8ms\n",
      "9:\tlearn: 1961.3991442\ttotal: 226ms\tremaining: 0us\n",
      "[CV 1/5; 4/10] END ......learning_rate=0.75, n_estimators=10; total time=   1.8s\n",
      "[CV 2/5; 4/10] START learning_rate=0.75, n_estimators=10........................\n",
      "0:\tlearn: 2812.0471588\ttotal: 21.9ms\tremaining: 197ms\n",
      "1:\tlearn: 2436.3823838\ttotal: 43ms\tremaining: 172ms\n",
      "2:\tlearn: 2267.9208991\ttotal: 64.5ms\tremaining: 150ms\n",
      "3:\tlearn: 2175.9902749\ttotal: 87ms\tremaining: 131ms\n",
      "4:\tlearn: 2120.6838613\ttotal: 110ms\tremaining: 110ms\n",
      "5:\tlearn: 2077.9633520\ttotal: 131ms\tremaining: 87.1ms\n",
      "6:\tlearn: 2042.6521189\ttotal: 151ms\tremaining: 64.6ms\n",
      "7:\tlearn: 2017.1315434\ttotal: 172ms\tremaining: 42.9ms\n",
      "8:\tlearn: 1998.4550742\ttotal: 193ms\tremaining: 21.4ms\n",
      "9:\tlearn: 1977.1509632\ttotal: 214ms\tremaining: 0us\n",
      "[CV 2/5; 4/10] END ......learning_rate=0.75, n_estimators=10; total time=   2.2s\n",
      "[CV 3/5; 4/10] START learning_rate=0.75, n_estimators=10........................\n",
      "0:\tlearn: 2872.2359712\ttotal: 22.2ms\tremaining: 199ms\n",
      "1:\tlearn: 2496.8925086\ttotal: 44.3ms\tremaining: 177ms\n",
      "2:\tlearn: 2282.5006220\ttotal: 67.2ms\tremaining: 157ms\n",
      "3:\tlearn: 2179.9389530\ttotal: 90.9ms\tremaining: 136ms\n",
      "4:\tlearn: 2129.7681000\ttotal: 114ms\tremaining: 114ms\n",
      "5:\tlearn: 2099.6468481\ttotal: 136ms\tremaining: 90.7ms\n",
      "6:\tlearn: 2060.4534504\ttotal: 158ms\tremaining: 67.6ms\n",
      "7:\tlearn: 2021.4969089\ttotal: 182ms\tremaining: 45.5ms\n",
      "8:\tlearn: 2000.0277790\ttotal: 205ms\tremaining: 22.8ms\n",
      "9:\tlearn: 1982.9225248\ttotal: 228ms\tremaining: 0us\n",
      "[CV 3/5; 4/10] END ......learning_rate=0.75, n_estimators=10; total time=   1.8s\n",
      "[CV 4/5; 4/10] START learning_rate=0.75, n_estimators=10........................\n",
      "0:\tlearn: 2808.2429699\ttotal: 22.3ms\tremaining: 201ms\n",
      "1:\tlearn: 2436.1096892\ttotal: 45.4ms\tremaining: 182ms\n",
      "2:\tlearn: 2273.8403886\ttotal: 68.5ms\tremaining: 160ms\n",
      "3:\tlearn: 2169.4017410\ttotal: 90.3ms\tremaining: 135ms\n",
      "4:\tlearn: 2110.3494216\ttotal: 114ms\tremaining: 114ms\n",
      "5:\tlearn: 2074.1624761\ttotal: 134ms\tremaining: 89.5ms\n",
      "6:\tlearn: 2041.1238326\ttotal: 160ms\tremaining: 68.7ms\n",
      "7:\tlearn: 2015.0698235\ttotal: 181ms\tremaining: 45.3ms\n",
      "8:\tlearn: 1983.1916417\ttotal: 202ms\tremaining: 22.5ms\n",
      "9:\tlearn: 1961.2690532\ttotal: 224ms\tremaining: 0us\n",
      "[CV 4/5; 4/10] END ......learning_rate=0.75, n_estimators=10; total time=   1.8s\n",
      "[CV 5/5; 4/10] START learning_rate=0.75, n_estimators=10........................\n",
      "0:\tlearn: 2859.9387770\ttotal: 22.8ms\tremaining: 205ms\n",
      "1:\tlearn: 2453.9752214\ttotal: 44.1ms\tremaining: 176ms\n",
      "2:\tlearn: 2273.3086148\ttotal: 65ms\tremaining: 152ms\n",
      "3:\tlearn: 2186.3282469\ttotal: 86.4ms\tremaining: 130ms\n",
      "4:\tlearn: 2135.0014309\ttotal: 107ms\tremaining: 107ms\n",
      "5:\tlearn: 2090.5019095\ttotal: 128ms\tremaining: 85.1ms\n",
      "6:\tlearn: 2053.4834564\ttotal: 151ms\tremaining: 64.6ms\n",
      "7:\tlearn: 2027.4363052\ttotal: 172ms\tremaining: 43.1ms\n",
      "8:\tlearn: 2004.7475031\ttotal: 193ms\tremaining: 21.5ms\n",
      "9:\tlearn: 1985.4475948\ttotal: 215ms\tremaining: 0us\n",
      "[CV 5/5; 4/10] END ......learning_rate=0.75, n_estimators=10; total time=   1.7s\n",
      "[CV 1/5; 5/10] START learning_rate=0.5, n_estimators=20.........................\n",
      "0:\tlearn: 3250.4717448\ttotal: 21.9ms\tremaining: 416ms\n",
      "1:\tlearn: 2667.1274303\ttotal: 44.7ms\tremaining: 402ms\n",
      "2:\tlearn: 2420.4527923\ttotal: 66.7ms\tremaining: 378ms\n",
      "3:\tlearn: 2283.5293037\ttotal: 88.9ms\tremaining: 356ms\n",
      "4:\tlearn: 2187.1282196\ttotal: 113ms\tremaining: 338ms\n",
      "5:\tlearn: 2132.8147095\ttotal: 136ms\tremaining: 317ms\n",
      "6:\tlearn: 2092.6847786\ttotal: 157ms\tremaining: 292ms\n",
      "7:\tlearn: 2064.1090278\ttotal: 178ms\tremaining: 267ms\n",
      "8:\tlearn: 2029.7606181\ttotal: 199ms\tremaining: 243ms\n",
      "9:\tlearn: 2007.9100802\ttotal: 220ms\tremaining: 220ms\n",
      "10:\tlearn: 1990.0179091\ttotal: 241ms\tremaining: 197ms\n",
      "11:\tlearn: 1970.8432015\ttotal: 261ms\tremaining: 174ms\n",
      "12:\tlearn: 1957.5923255\ttotal: 281ms\tremaining: 151ms\n",
      "13:\tlearn: 1943.4199963\ttotal: 302ms\tremaining: 129ms\n",
      "14:\tlearn: 1934.9623411\ttotal: 320ms\tremaining: 107ms\n",
      "15:\tlearn: 1921.8995616\ttotal: 341ms\tremaining: 85.3ms\n",
      "16:\tlearn: 1914.7548058\ttotal: 361ms\tremaining: 63.6ms\n",
      "17:\tlearn: 1906.4365015\ttotal: 381ms\tremaining: 42.3ms\n",
      "18:\tlearn: 1896.0707478\ttotal: 401ms\tremaining: 21.1ms\n",
      "19:\tlearn: 1882.2324145\ttotal: 421ms\tremaining: 0us\n",
      "[CV 1/5; 5/10] END .......learning_rate=0.5, n_estimators=20; total time=   2.0s\n",
      "[CV 2/5; 5/10] START learning_rate=0.5, n_estimators=20.........................\n",
      "0:\tlearn: 3230.7326790\ttotal: 22.5ms\tremaining: 427ms\n",
      "1:\tlearn: 2677.9425705\ttotal: 46.5ms\tremaining: 419ms\n",
      "2:\tlearn: 2408.1835918\ttotal: 71.6ms\tremaining: 406ms\n",
      "3:\tlearn: 2262.2672422\ttotal: 102ms\tremaining: 407ms\n",
      "4:\tlearn: 2176.9249688\ttotal: 136ms\tremaining: 408ms\n",
      "5:\tlearn: 2128.5909112\ttotal: 169ms\tremaining: 395ms\n",
      "6:\tlearn: 2095.6629608\ttotal: 197ms\tremaining: 366ms\n",
      "7:\tlearn: 2059.1894648\ttotal: 225ms\tremaining: 337ms\n",
      "8:\tlearn: 2032.2791918\ttotal: 252ms\tremaining: 308ms\n",
      "9:\tlearn: 2008.6878832\ttotal: 277ms\tremaining: 277ms\n",
      "10:\tlearn: 1983.8755814\ttotal: 299ms\tremaining: 245ms\n",
      "11:\tlearn: 1961.1788342\ttotal: 322ms\tremaining: 214ms\n",
      "12:\tlearn: 1943.0950749\ttotal: 344ms\tremaining: 185ms\n",
      "13:\tlearn: 1931.9955823\ttotal: 370ms\tremaining: 159ms\n",
      "14:\tlearn: 1924.1329820\ttotal: 393ms\tremaining: 131ms\n",
      "15:\tlearn: 1910.7650060\ttotal: 418ms\tremaining: 105ms\n",
      "16:\tlearn: 1903.3811708\ttotal: 441ms\tremaining: 77.9ms\n",
      "17:\tlearn: 1894.9032840\ttotal: 464ms\tremaining: 51.5ms\n",
      "18:\tlearn: 1883.6437314\ttotal: 489ms\tremaining: 25.7ms\n",
      "19:\tlearn: 1875.0425279\ttotal: 512ms\tremaining: 0us\n",
      "[CV 2/5; 5/10] END .......learning_rate=0.5, n_estimators=20; total time=   2.2s\n",
      "[CV 3/5; 5/10] START learning_rate=0.5, n_estimators=20.........................\n",
      "0:\tlearn: 3271.7041429\ttotal: 22.5ms\tremaining: 427ms\n",
      "1:\tlearn: 2672.5679456\ttotal: 44.1ms\tremaining: 397ms\n",
      "2:\tlearn: 2425.0381088\ttotal: 66.1ms\tremaining: 374ms\n",
      "3:\tlearn: 2258.8252784\ttotal: 88.4ms\tremaining: 354ms\n",
      "4:\tlearn: 2169.1941955\ttotal: 110ms\tremaining: 329ms\n",
      "5:\tlearn: 2106.7550516\ttotal: 130ms\tremaining: 304ms\n",
      "6:\tlearn: 2075.0250506\ttotal: 151ms\tremaining: 281ms\n",
      "7:\tlearn: 2049.5610743\ttotal: 171ms\tremaining: 257ms\n",
      "8:\tlearn: 2026.0107613\ttotal: 193ms\tremaining: 236ms\n",
      "9:\tlearn: 2004.0423987\ttotal: 214ms\tremaining: 214ms\n",
      "10:\tlearn: 1980.9916879\ttotal: 235ms\tremaining: 192ms\n",
      "11:\tlearn: 1968.1222705\ttotal: 255ms\tremaining: 170ms\n",
      "12:\tlearn: 1947.3184369\ttotal: 276ms\tremaining: 149ms\n",
      "13:\tlearn: 1933.3305757\ttotal: 297ms\tremaining: 127ms\n",
      "14:\tlearn: 1924.1894238\ttotal: 319ms\tremaining: 106ms\n",
      "15:\tlearn: 1916.2872633\ttotal: 338ms\tremaining: 84.6ms\n",
      "16:\tlearn: 1908.0925807\ttotal: 360ms\tremaining: 63.5ms\n",
      "17:\tlearn: 1900.3338204\ttotal: 381ms\tremaining: 42.4ms\n",
      "18:\tlearn: 1894.8798204\ttotal: 399ms\tremaining: 21ms\n",
      "19:\tlearn: 1879.4637121\ttotal: 420ms\tremaining: 0us\n",
      "[CV 3/5; 5/10] END .......learning_rate=0.5, n_estimators=20; total time=   2.5s\n",
      "[CV 4/5; 5/10] START learning_rate=0.5, n_estimators=20.........................\n",
      "0:\tlearn: 3225.9736922\ttotal: 21.4ms\tremaining: 406ms\n",
      "1:\tlearn: 2666.2417544\ttotal: 43.4ms\tremaining: 390ms\n",
      "2:\tlearn: 2423.5611541\ttotal: 64.5ms\tremaining: 365ms\n",
      "3:\tlearn: 2265.7940391\ttotal: 84.8ms\tremaining: 339ms\n",
      "4:\tlearn: 2182.4567352\ttotal: 105ms\tremaining: 314ms\n",
      "5:\tlearn: 2126.7239949\ttotal: 125ms\tremaining: 292ms\n",
      "6:\tlearn: 2090.4530441\ttotal: 146ms\tremaining: 270ms\n",
      "7:\tlearn: 2056.6111583\ttotal: 166ms\tremaining: 249ms\n",
      "8:\tlearn: 2030.5248518\ttotal: 187ms\tremaining: 228ms\n",
      "9:\tlearn: 2008.6097907\ttotal: 208ms\tremaining: 208ms\n",
      "10:\tlearn: 1992.7328518\ttotal: 228ms\tremaining: 186ms\n",
      "11:\tlearn: 1974.9806031\ttotal: 250ms\tremaining: 166ms\n",
      "12:\tlearn: 1958.8135707\ttotal: 271ms\tremaining: 146ms\n",
      "13:\tlearn: 1949.2054542\ttotal: 290ms\tremaining: 124ms\n",
      "14:\tlearn: 1934.5193805\ttotal: 312ms\tremaining: 104ms\n",
      "15:\tlearn: 1925.1202027\ttotal: 332ms\tremaining: 83.1ms\n",
      "16:\tlearn: 1918.9325206\ttotal: 352ms\tremaining: 62.2ms\n",
      "17:\tlearn: 1911.1781342\ttotal: 372ms\tremaining: 41.3ms\n",
      "18:\tlearn: 1900.4620855\ttotal: 394ms\tremaining: 20.7ms\n",
      "19:\tlearn: 1885.5163024\ttotal: 416ms\tremaining: 0us\n",
      "[CV 4/5; 5/10] END .......learning_rate=0.5, n_estimators=20; total time=   1.9s\n",
      "[CV 5/5; 5/10] START learning_rate=0.5, n_estimators=20.........................\n",
      "0:\tlearn: 3263.5012967\ttotal: 34.4ms\tremaining: 654ms\n",
      "1:\tlearn: 2692.2593746\ttotal: 60.2ms\tremaining: 542ms\n",
      "2:\tlearn: 2450.6757982\ttotal: 85.3ms\tremaining: 483ms\n",
      "3:\tlearn: 2286.3922213\ttotal: 109ms\tremaining: 438ms\n",
      "4:\tlearn: 2204.3246124\ttotal: 133ms\tremaining: 399ms\n",
      "5:\tlearn: 2141.1622859\ttotal: 157ms\tremaining: 367ms\n",
      "6:\tlearn: 2108.2000114\ttotal: 181ms\tremaining: 336ms\n",
      "7:\tlearn: 2072.9245724\ttotal: 204ms\tremaining: 306ms\n",
      "8:\tlearn: 2042.0406671\ttotal: 227ms\tremaining: 277ms\n",
      "9:\tlearn: 2012.8793348\ttotal: 250ms\tremaining: 250ms\n",
      "10:\tlearn: 1991.4833547\ttotal: 273ms\tremaining: 224ms\n",
      "11:\tlearn: 1974.5014211\ttotal: 296ms\tremaining: 197ms\n",
      "12:\tlearn: 1964.6258205\ttotal: 317ms\tremaining: 171ms\n",
      "13:\tlearn: 1952.2283620\ttotal: 339ms\tremaining: 145ms\n",
      "14:\tlearn: 1944.3699215\ttotal: 360ms\tremaining: 120ms\n",
      "15:\tlearn: 1935.7692132\ttotal: 383ms\tremaining: 95.8ms\n",
      "16:\tlearn: 1925.1995545\ttotal: 407ms\tremaining: 71.8ms\n",
      "17:\tlearn: 1919.3761867\ttotal: 429ms\tremaining: 47.7ms\n",
      "18:\tlearn: 1913.8050744\ttotal: 456ms\tremaining: 24ms\n",
      "19:\tlearn: 1902.9444083\ttotal: 481ms\tremaining: 0us\n",
      "[CV 5/5; 5/10] END .......learning_rate=0.5, n_estimators=20; total time=   2.1s\n",
      "[CV 1/5; 6/10] START learning_rate=0.25, n_estimators=25........................\n",
      "0:\tlearn: 3836.3829812\ttotal: 36.1ms\tremaining: 866ms\n",
      "1:\tlearn: 3323.3844746\ttotal: 64.3ms\tremaining: 739ms\n",
      "2:\tlearn: 2990.1008852\ttotal: 94ms\tremaining: 689ms\n",
      "3:\tlearn: 2738.0799189\ttotal: 120ms\tremaining: 628ms\n",
      "4:\tlearn: 2564.4963092\ttotal: 143ms\tremaining: 574ms\n",
      "5:\tlearn: 2436.8304199\ttotal: 167ms\tremaining: 528ms\n",
      "6:\tlearn: 2345.8770521\ttotal: 190ms\tremaining: 489ms\n",
      "7:\tlearn: 2272.1034762\ttotal: 214ms\tremaining: 454ms\n",
      "8:\tlearn: 2220.7381410\ttotal: 238ms\tremaining: 424ms\n",
      "9:\tlearn: 2177.7572806\ttotal: 266ms\tremaining: 398ms\n",
      "10:\tlearn: 2140.0733265\ttotal: 288ms\tremaining: 367ms\n",
      "11:\tlearn: 2106.2096702\ttotal: 310ms\tremaining: 336ms\n",
      "12:\tlearn: 2083.4421053\ttotal: 331ms\tremaining: 306ms\n",
      "13:\tlearn: 2063.8827462\ttotal: 352ms\tremaining: 277ms\n",
      "14:\tlearn: 2038.2428108\ttotal: 378ms\tremaining: 252ms\n",
      "15:\tlearn: 2018.5544230\ttotal: 400ms\tremaining: 225ms\n",
      "16:\tlearn: 2001.2972238\ttotal: 421ms\tremaining: 198ms\n",
      "17:\tlearn: 1990.0979576\ttotal: 442ms\tremaining: 172ms\n",
      "18:\tlearn: 1981.3596364\ttotal: 462ms\tremaining: 146ms\n",
      "19:\tlearn: 1971.8840443\ttotal: 483ms\tremaining: 121ms\n",
      "20:\tlearn: 1962.6936881\ttotal: 505ms\tremaining: 96.1ms\n",
      "21:\tlearn: 1952.6657414\ttotal: 526ms\tremaining: 71.8ms\n",
      "22:\tlearn: 1941.8477305\ttotal: 557ms\tremaining: 48.4ms\n",
      "23:\tlearn: 1935.1752483\ttotal: 583ms\tremaining: 24.3ms\n",
      "24:\tlearn: 1924.8802847\ttotal: 605ms\tremaining: 0us\n",
      "[CV 1/5; 6/10] END ......learning_rate=0.25, n_estimators=25; total time=   2.3s\n",
      "[CV 2/5; 6/10] START learning_rate=0.25, n_estimators=25........................\n",
      "0:\tlearn: 3827.5400298\ttotal: 22.5ms\tremaining: 539ms\n",
      "1:\tlearn: 3330.0704358\ttotal: 45.4ms\tremaining: 522ms\n",
      "2:\tlearn: 2990.5585536\ttotal: 67.9ms\tremaining: 498ms\n",
      "3:\tlearn: 2752.5614197\ttotal: 91.6ms\tremaining: 481ms\n",
      "4:\tlearn: 2586.5243031\ttotal: 113ms\tremaining: 454ms\n",
      "5:\tlearn: 2452.7574570\ttotal: 136ms\tremaining: 430ms\n",
      "6:\tlearn: 2350.9220461\ttotal: 158ms\tremaining: 405ms\n",
      "7:\tlearn: 2279.0915060\ttotal: 179ms\tremaining: 381ms\n",
      "8:\tlearn: 2224.8988343\ttotal: 200ms\tremaining: 356ms\n",
      "9:\tlearn: 2177.0927166\ttotal: 221ms\tremaining: 332ms\n",
      "10:\tlearn: 2137.7764004\ttotal: 243ms\tremaining: 309ms\n",
      "11:\tlearn: 2107.8433202\ttotal: 265ms\tremaining: 287ms\n",
      "12:\tlearn: 2084.2115032\ttotal: 286ms\tremaining: 264ms\n",
      "13:\tlearn: 2061.8813856\ttotal: 306ms\tremaining: 241ms\n",
      "14:\tlearn: 2037.7562164\ttotal: 330ms\tremaining: 220ms\n",
      "15:\tlearn: 2022.4376591\ttotal: 350ms\tremaining: 197ms\n",
      "16:\tlearn: 2007.8013035\ttotal: 370ms\tremaining: 174ms\n",
      "17:\tlearn: 1994.1828169\ttotal: 393ms\tremaining: 153ms\n",
      "18:\tlearn: 1980.9807035\ttotal: 414ms\tremaining: 131ms\n",
      "19:\tlearn: 1969.8203595\ttotal: 437ms\tremaining: 109ms\n",
      "20:\tlearn: 1962.1258782\ttotal: 457ms\tremaining: 87.1ms\n",
      "21:\tlearn: 1954.1286702\ttotal: 477ms\tremaining: 65ms\n",
      "22:\tlearn: 1943.4600496\ttotal: 498ms\tremaining: 43.3ms\n",
      "23:\tlearn: 1937.3211722\ttotal: 521ms\tremaining: 21.7ms\n",
      "24:\tlearn: 1927.5044369\ttotal: 541ms\tremaining: 0us\n",
      "[CV 2/5; 6/10] END ......learning_rate=0.25, n_estimators=25; total time=   2.1s\n",
      "[CV 3/5; 6/10] START learning_rate=0.25, n_estimators=25........................\n",
      "0:\tlearn: 3845.5773000\ttotal: 23.9ms\tremaining: 573ms\n",
      "1:\tlearn: 3346.6347978\ttotal: 45.8ms\tremaining: 527ms\n",
      "2:\tlearn: 3005.5413869\ttotal: 68.1ms\tremaining: 499ms\n",
      "3:\tlearn: 2754.2414807\ttotal: 90.6ms\tremaining: 475ms\n",
      "4:\tlearn: 2582.0163631\ttotal: 112ms\tremaining: 449ms\n",
      "5:\tlearn: 2456.5896400\ttotal: 143ms\tremaining: 452ms\n",
      "6:\tlearn: 2362.0680882\ttotal: 165ms\tremaining: 423ms\n",
      "7:\tlearn: 2287.1378452\ttotal: 186ms\tremaining: 395ms\n",
      "8:\tlearn: 2218.1946106\ttotal: 207ms\tremaining: 369ms\n",
      "9:\tlearn: 2171.9690646\ttotal: 230ms\tremaining: 346ms\n",
      "10:\tlearn: 2137.0390285\ttotal: 251ms\tremaining: 320ms\n",
      "11:\tlearn: 2104.8078836\ttotal: 272ms\tremaining: 295ms\n",
      "12:\tlearn: 2081.4024667\ttotal: 291ms\tremaining: 269ms\n",
      "13:\tlearn: 2061.1017053\ttotal: 312ms\tremaining: 245ms\n",
      "14:\tlearn: 2041.1443762\ttotal: 331ms\tremaining: 221ms\n",
      "15:\tlearn: 2026.9779553\ttotal: 351ms\tremaining: 197ms\n",
      "16:\tlearn: 2011.0437034\ttotal: 370ms\tremaining: 174ms\n",
      "17:\tlearn: 1994.4030274\ttotal: 391ms\tremaining: 152ms\n",
      "18:\tlearn: 1979.4121383\ttotal: 413ms\tremaining: 131ms\n",
      "19:\tlearn: 1969.4867601\ttotal: 444ms\tremaining: 111ms\n",
      "20:\tlearn: 1960.6229049\ttotal: 471ms\tremaining: 89.6ms\n",
      "21:\tlearn: 1952.6103184\ttotal: 492ms\tremaining: 67.1ms\n",
      "22:\tlearn: 1943.3262044\ttotal: 514ms\tremaining: 44.7ms\n",
      "23:\tlearn: 1937.1281429\ttotal: 535ms\tremaining: 22.3ms\n",
      "24:\tlearn: 1932.4063472\ttotal: 554ms\tremaining: 0us\n",
      "[CV 3/5; 6/10] END ......learning_rate=0.25, n_estimators=25; total time=   2.1s\n",
      "[CV 4/5; 6/10] START learning_rate=0.25, n_estimators=25........................\n",
      "0:\tlearn: 3821.4886471\ttotal: 21.1ms\tremaining: 506ms\n",
      "1:\tlearn: 3324.5055732\ttotal: 42.8ms\tremaining: 493ms\n",
      "2:\tlearn: 2985.9431531\ttotal: 65.1ms\tremaining: 478ms\n",
      "3:\tlearn: 2753.1395813\ttotal: 87.6ms\tremaining: 460ms\n",
      "4:\tlearn: 2573.3910921\ttotal: 110ms\tremaining: 440ms\n",
      "5:\tlearn: 2440.0343781\ttotal: 132ms\tremaining: 417ms\n",
      "6:\tlearn: 2349.2634292\ttotal: 153ms\tremaining: 394ms\n",
      "7:\tlearn: 2284.7664320\ttotal: 177ms\tremaining: 375ms\n",
      "8:\tlearn: 2220.3986446\ttotal: 199ms\tremaining: 353ms\n",
      "9:\tlearn: 2170.4090935\ttotal: 220ms\tremaining: 329ms\n",
      "10:\tlearn: 2135.1874771\ttotal: 244ms\tremaining: 310ms\n",
      "11:\tlearn: 2106.7575135\ttotal: 272ms\tremaining: 295ms\n",
      "12:\tlearn: 2086.5338960\ttotal: 292ms\tremaining: 269ms\n",
      "13:\tlearn: 2063.0716675\ttotal: 317ms\tremaining: 249ms\n",
      "14:\tlearn: 2042.2993772\ttotal: 344ms\tremaining: 229ms\n",
      "15:\tlearn: 2027.2782248\ttotal: 364ms\tremaining: 205ms\n",
      "16:\tlearn: 2008.4661590\ttotal: 385ms\tremaining: 181ms\n",
      "17:\tlearn: 1993.9423548\ttotal: 405ms\tremaining: 158ms\n",
      "18:\tlearn: 1982.9036090\ttotal: 427ms\tremaining: 135ms\n",
      "19:\tlearn: 1973.9423664\ttotal: 447ms\tremaining: 112ms\n",
      "20:\tlearn: 1962.7711834\ttotal: 468ms\tremaining: 89.1ms\n",
      "21:\tlearn: 1954.0869709\ttotal: 491ms\tremaining: 66.9ms\n",
      "22:\tlearn: 1947.1435237\ttotal: 513ms\tremaining: 44.6ms\n",
      "23:\tlearn: 1935.9926447\ttotal: 534ms\tremaining: 22.3ms\n",
      "24:\tlearn: 1928.6728480\ttotal: 555ms\tremaining: 0us\n",
      "[CV 4/5; 6/10] END ......learning_rate=0.25, n_estimators=25; total time=   2.1s\n",
      "[CV 5/5; 6/10] START learning_rate=0.25, n_estimators=25........................\n",
      "0:\tlearn: 3842.1908306\ttotal: 21.7ms\tremaining: 522ms\n",
      "1:\tlearn: 3338.5855441\ttotal: 43.4ms\tremaining: 499ms\n",
      "2:\tlearn: 3000.9559073\ttotal: 64.7ms\tremaining: 474ms\n",
      "3:\tlearn: 2743.3592023\ttotal: 85ms\tremaining: 446ms\n",
      "4:\tlearn: 2562.2635147\ttotal: 107ms\tremaining: 427ms\n",
      "5:\tlearn: 2437.9754390\ttotal: 129ms\tremaining: 408ms\n",
      "6:\tlearn: 2349.8442672\ttotal: 151ms\tremaining: 390ms\n",
      "7:\tlearn: 2278.7595308\ttotal: 175ms\tremaining: 371ms\n",
      "8:\tlearn: 2229.3612739\ttotal: 196ms\tremaining: 348ms\n",
      "9:\tlearn: 2180.2887431\ttotal: 216ms\tremaining: 324ms\n",
      "10:\tlearn: 2140.0811090\ttotal: 237ms\tremaining: 302ms\n",
      "11:\tlearn: 2113.1216119\ttotal: 258ms\tremaining: 279ms\n",
      "12:\tlearn: 2091.3036054\ttotal: 278ms\tremaining: 257ms\n",
      "13:\tlearn: 2066.9385279\ttotal: 298ms\tremaining: 234ms\n",
      "14:\tlearn: 2047.0784428\ttotal: 321ms\tremaining: 214ms\n",
      "15:\tlearn: 2030.9445221\ttotal: 341ms\tremaining: 192ms\n",
      "16:\tlearn: 2018.4072996\ttotal: 361ms\tremaining: 170ms\n",
      "17:\tlearn: 2001.6491617\ttotal: 381ms\tremaining: 148ms\n",
      "18:\tlearn: 1991.6854266\ttotal: 400ms\tremaining: 126ms\n",
      "19:\tlearn: 1982.0762288\ttotal: 419ms\tremaining: 105ms\n",
      "20:\tlearn: 1967.5607371\ttotal: 441ms\tremaining: 84ms\n",
      "21:\tlearn: 1955.7635898\ttotal: 465ms\tremaining: 63.4ms\n",
      "22:\tlearn: 1946.1346214\ttotal: 487ms\tremaining: 42.3ms\n",
      "23:\tlearn: 1939.0956365\ttotal: 509ms\tremaining: 21.2ms\n",
      "24:\tlearn: 1931.4933428\ttotal: 530ms\tremaining: 0us\n",
      "[CV 5/5; 6/10] END ......learning_rate=0.25, n_estimators=25; total time=   2.2s\n",
      "[CV 1/5; 7/10] START learning_rate=0.25, n_estimators=15........................\n",
      "0:\tlearn: 3836.3829812\ttotal: 24ms\tremaining: 335ms\n",
      "1:\tlearn: 3323.3844746\ttotal: 50.9ms\tremaining: 331ms\n",
      "2:\tlearn: 2990.1008852\ttotal: 73.4ms\tremaining: 294ms\n",
      "3:\tlearn: 2738.0799189\ttotal: 94.9ms\tremaining: 261ms\n",
      "4:\tlearn: 2564.4963092\ttotal: 115ms\tremaining: 231ms\n",
      "5:\tlearn: 2436.8304199\ttotal: 135ms\tremaining: 203ms\n",
      "6:\tlearn: 2345.8770521\ttotal: 155ms\tremaining: 178ms\n",
      "7:\tlearn: 2272.1034762\ttotal: 180ms\tremaining: 158ms\n",
      "8:\tlearn: 2220.7381410\ttotal: 203ms\tremaining: 135ms\n",
      "9:\tlearn: 2177.7572806\ttotal: 223ms\tremaining: 112ms\n",
      "10:\tlearn: 2140.0733265\ttotal: 243ms\tremaining: 88.3ms\n",
      "11:\tlearn: 2106.2096702\ttotal: 263ms\tremaining: 65.8ms\n",
      "12:\tlearn: 2083.4421053\ttotal: 283ms\tremaining: 43.5ms\n",
      "13:\tlearn: 2063.8827462\ttotal: 303ms\tremaining: 21.6ms\n",
      "14:\tlearn: 2038.2428108\ttotal: 323ms\tremaining: 0us\n",
      "[CV 1/5; 7/10] END ......learning_rate=0.25, n_estimators=15; total time=   1.9s\n",
      "[CV 2/5; 7/10] START learning_rate=0.25, n_estimators=15........................\n",
      "0:\tlearn: 3827.5400298\ttotal: 22.3ms\tremaining: 312ms\n",
      "1:\tlearn: 3330.0704358\ttotal: 44.5ms\tremaining: 290ms\n",
      "2:\tlearn: 2990.5585536\ttotal: 66.9ms\tremaining: 268ms\n",
      "3:\tlearn: 2752.5614197\ttotal: 89.6ms\tremaining: 246ms\n",
      "4:\tlearn: 2586.5243031\ttotal: 112ms\tremaining: 224ms\n",
      "5:\tlearn: 2452.7574570\ttotal: 136ms\tremaining: 204ms\n",
      "6:\tlearn: 2350.9220461\ttotal: 160ms\tremaining: 183ms\n",
      "7:\tlearn: 2279.0915060\ttotal: 182ms\tremaining: 159ms\n",
      "8:\tlearn: 2224.8988343\ttotal: 203ms\tremaining: 136ms\n",
      "9:\tlearn: 2177.0927166\ttotal: 226ms\tremaining: 113ms\n",
      "10:\tlearn: 2137.7764004\ttotal: 247ms\tremaining: 89.7ms\n",
      "11:\tlearn: 2107.8433202\ttotal: 268ms\tremaining: 67.1ms\n",
      "12:\tlearn: 2084.2115032\ttotal: 290ms\tremaining: 44.5ms\n",
      "13:\tlearn: 2061.8813856\ttotal: 311ms\tremaining: 22.2ms\n",
      "14:\tlearn: 2037.7562164\ttotal: 332ms\tremaining: 0us\n",
      "[CV 2/5; 7/10] END ......learning_rate=0.25, n_estimators=15; total time=   2.0s\n",
      "[CV 3/5; 7/10] START learning_rate=0.25, n_estimators=15........................\n",
      "0:\tlearn: 3845.5773000\ttotal: 23ms\tremaining: 322ms\n",
      "1:\tlearn: 3346.6347978\ttotal: 47ms\tremaining: 305ms\n",
      "2:\tlearn: 3005.5413869\ttotal: 69.2ms\tremaining: 277ms\n",
      "3:\tlearn: 2754.2414807\ttotal: 96.8ms\tremaining: 266ms\n",
      "4:\tlearn: 2582.0163631\ttotal: 120ms\tremaining: 240ms\n",
      "5:\tlearn: 2456.5896400\ttotal: 142ms\tremaining: 213ms\n",
      "6:\tlearn: 2362.0680882\ttotal: 163ms\tremaining: 187ms\n",
      "7:\tlearn: 2287.1378452\ttotal: 185ms\tremaining: 162ms\n",
      "8:\tlearn: 2218.1946106\ttotal: 206ms\tremaining: 137ms\n",
      "9:\tlearn: 2171.9690646\ttotal: 228ms\tremaining: 114ms\n",
      "10:\tlearn: 2137.0390285\ttotal: 251ms\tremaining: 91.3ms\n",
      "11:\tlearn: 2104.8078836\ttotal: 272ms\tremaining: 68.1ms\n",
      "12:\tlearn: 2081.4024667\ttotal: 293ms\tremaining: 45.1ms\n",
      "13:\tlearn: 2061.1017053\ttotal: 322ms\tremaining: 23ms\n",
      "14:\tlearn: 2041.1443762\ttotal: 345ms\tremaining: 0us\n",
      "[CV 3/5; 7/10] END ......learning_rate=0.25, n_estimators=15; total time=   2.1s\n",
      "[CV 4/5; 7/10] START learning_rate=0.25, n_estimators=15........................\n",
      "0:\tlearn: 3821.4886471\ttotal: 26.9ms\tremaining: 377ms\n",
      "1:\tlearn: 3324.5055732\ttotal: 60.2ms\tremaining: 391ms\n",
      "2:\tlearn: 2985.9431531\ttotal: 84.2ms\tremaining: 337ms\n",
      "3:\tlearn: 2753.1395813\ttotal: 107ms\tremaining: 295ms\n",
      "4:\tlearn: 2573.3910921\ttotal: 129ms\tremaining: 259ms\n",
      "5:\tlearn: 2440.0343781\ttotal: 153ms\tremaining: 229ms\n",
      "6:\tlearn: 2349.2634292\ttotal: 175ms\tremaining: 200ms\n",
      "7:\tlearn: 2284.7664320\ttotal: 199ms\tremaining: 174ms\n",
      "8:\tlearn: 2220.3986446\ttotal: 221ms\tremaining: 147ms\n",
      "9:\tlearn: 2170.4090935\ttotal: 243ms\tremaining: 122ms\n",
      "10:\tlearn: 2135.1874771\ttotal: 266ms\tremaining: 96.6ms\n",
      "11:\tlearn: 2106.7575135\ttotal: 287ms\tremaining: 71.6ms\n",
      "12:\tlearn: 2086.5338960\ttotal: 307ms\tremaining: 47.2ms\n",
      "13:\tlearn: 2063.0716675\ttotal: 329ms\tremaining: 23.5ms\n",
      "14:\tlearn: 2042.2993772\ttotal: 351ms\tremaining: 0us\n",
      "[CV 4/5; 7/10] END ......learning_rate=0.25, n_estimators=15; total time=   2.8s\n",
      "[CV 5/5; 7/10] START learning_rate=0.25, n_estimators=15........................\n",
      "0:\tlearn: 3842.1908306\ttotal: 22.3ms\tremaining: 313ms\n",
      "1:\tlearn: 3338.5855441\ttotal: 45ms\tremaining: 292ms\n",
      "2:\tlearn: 3000.9559073\ttotal: 67.4ms\tremaining: 269ms\n",
      "3:\tlearn: 2743.3592023\ttotal: 91.1ms\tremaining: 251ms\n",
      "4:\tlearn: 2562.2635147\ttotal: 113ms\tremaining: 226ms\n",
      "5:\tlearn: 2437.9754390\ttotal: 138ms\tremaining: 206ms\n",
      "6:\tlearn: 2349.8442672\ttotal: 164ms\tremaining: 188ms\n",
      "7:\tlearn: 2278.7595308\ttotal: 187ms\tremaining: 164ms\n",
      "8:\tlearn: 2229.3612739\ttotal: 208ms\tremaining: 139ms\n",
      "9:\tlearn: 2180.2887431\ttotal: 232ms\tremaining: 116ms\n",
      "10:\tlearn: 2140.0811090\ttotal: 256ms\tremaining: 93.3ms\n",
      "11:\tlearn: 2113.1216119\ttotal: 278ms\tremaining: 69.6ms\n",
      "12:\tlearn: 2091.3036054\ttotal: 305ms\tremaining: 46.8ms\n",
      "13:\tlearn: 2066.9385279\ttotal: 323ms\tremaining: 23.1ms\n",
      "14:\tlearn: 2047.0784428\ttotal: 345ms\tremaining: 0us\n",
      "[CV 5/5; 7/10] END ......learning_rate=0.25, n_estimators=15; total time=   2.0s\n",
      "[CV 1/5; 8/10] START learning_rate=0.5, n_estimators=10.........................\n",
      "0:\tlearn: 3250.4717448\ttotal: 21.9ms\tremaining: 197ms\n",
      "1:\tlearn: 2667.1274303\ttotal: 44.5ms\tremaining: 178ms\n",
      "2:\tlearn: 2420.4527923\ttotal: 65.8ms\tremaining: 153ms\n",
      "3:\tlearn: 2283.5293037\ttotal: 86.8ms\tremaining: 130ms\n",
      "4:\tlearn: 2187.1282196\ttotal: 109ms\tremaining: 109ms\n",
      "5:\tlearn: 2132.8147095\ttotal: 131ms\tremaining: 87.1ms\n",
      "6:\tlearn: 2092.6847786\ttotal: 151ms\tremaining: 64.7ms\n",
      "7:\tlearn: 2064.1090278\ttotal: 172ms\tremaining: 43.1ms\n",
      "8:\tlearn: 2029.7606181\ttotal: 193ms\tremaining: 21.4ms\n",
      "9:\tlearn: 2007.9100802\ttotal: 222ms\tremaining: 0us\n",
      "[CV 1/5; 8/10] END .......learning_rate=0.5, n_estimators=10; total time=   1.8s\n",
      "[CV 2/5; 8/10] START learning_rate=0.5, n_estimators=10.........................\n",
      "0:\tlearn: 3230.7326790\ttotal: 21.2ms\tremaining: 191ms\n",
      "1:\tlearn: 2677.9425705\ttotal: 43.8ms\tremaining: 175ms\n",
      "2:\tlearn: 2408.1835918\ttotal: 72.3ms\tremaining: 169ms\n",
      "3:\tlearn: 2262.2672422\ttotal: 96.2ms\tremaining: 144ms\n",
      "4:\tlearn: 2176.9249688\ttotal: 120ms\tremaining: 120ms\n",
      "5:\tlearn: 2128.5909112\ttotal: 151ms\tremaining: 101ms\n",
      "6:\tlearn: 2095.6629608\ttotal: 179ms\tremaining: 76.9ms\n",
      "7:\tlearn: 2059.1894648\ttotal: 205ms\tremaining: 51.2ms\n",
      "8:\tlearn: 2032.2791918\ttotal: 232ms\tremaining: 25.8ms\n",
      "9:\tlearn: 2008.6878832\ttotal: 263ms\tremaining: 0us\n",
      "[CV 2/5; 8/10] END .......learning_rate=0.5, n_estimators=10; total time=   1.7s\n",
      "[CV 3/5; 8/10] START learning_rate=0.5, n_estimators=10.........................\n",
      "0:\tlearn: 3271.7041429\ttotal: 23.4ms\tremaining: 211ms\n",
      "1:\tlearn: 2672.5679456\ttotal: 46.2ms\tremaining: 185ms\n",
      "2:\tlearn: 2425.0381088\ttotal: 69.5ms\tremaining: 162ms\n",
      "3:\tlearn: 2258.8252784\ttotal: 92.2ms\tremaining: 138ms\n",
      "4:\tlearn: 2169.1941955\ttotal: 115ms\tremaining: 115ms\n",
      "5:\tlearn: 2106.7550516\ttotal: 135ms\tremaining: 90.2ms\n",
      "6:\tlearn: 2075.0250506\ttotal: 156ms\tremaining: 66.9ms\n",
      "7:\tlearn: 2049.5610743\ttotal: 176ms\tremaining: 43.9ms\n",
      "8:\tlearn: 2026.0107613\ttotal: 197ms\tremaining: 21.9ms\n",
      "9:\tlearn: 2004.0423987\ttotal: 219ms\tremaining: 0us\n",
      "[CV 3/5; 8/10] END .......learning_rate=0.5, n_estimators=10; total time=   1.7s\n",
      "[CV 4/5; 8/10] START learning_rate=0.5, n_estimators=10.........................\n",
      "0:\tlearn: 3225.9736922\ttotal: 22.2ms\tremaining: 200ms\n",
      "1:\tlearn: 2666.2417544\ttotal: 45.8ms\tremaining: 183ms\n",
      "2:\tlearn: 2423.5611541\ttotal: 71.9ms\tremaining: 168ms\n",
      "3:\tlearn: 2265.7940391\ttotal: 97ms\tremaining: 145ms\n",
      "4:\tlearn: 2182.4567352\ttotal: 119ms\tremaining: 119ms\n",
      "5:\tlearn: 2126.7239949\ttotal: 140ms\tremaining: 93.6ms\n",
      "6:\tlearn: 2090.4530441\ttotal: 161ms\tremaining: 69ms\n",
      "7:\tlearn: 2056.6111583\ttotal: 184ms\tremaining: 46ms\n",
      "8:\tlearn: 2030.5248518\ttotal: 206ms\tremaining: 22.9ms\n",
      "9:\tlearn: 2008.6097907\ttotal: 228ms\tremaining: 0us\n",
      "[CV 4/5; 8/10] END .......learning_rate=0.5, n_estimators=10; total time=   1.8s\n",
      "[CV 5/5; 8/10] START learning_rate=0.5, n_estimators=10.........................\n",
      "0:\tlearn: 3263.5012967\ttotal: 24.7ms\tremaining: 222ms\n",
      "1:\tlearn: 2692.2593746\ttotal: 47.1ms\tremaining: 188ms\n",
      "2:\tlearn: 2450.6757982\ttotal: 69.3ms\tremaining: 162ms\n",
      "3:\tlearn: 2286.3922213\ttotal: 94.1ms\tremaining: 141ms\n",
      "4:\tlearn: 2204.3246124\ttotal: 117ms\tremaining: 117ms\n",
      "5:\tlearn: 2141.1622859\ttotal: 139ms\tremaining: 92.5ms\n",
      "6:\tlearn: 2108.2000114\ttotal: 159ms\tremaining: 68.3ms\n",
      "7:\tlearn: 2072.9245724\ttotal: 181ms\tremaining: 45.2ms\n",
      "8:\tlearn: 2042.0406671\ttotal: 204ms\tremaining: 22.7ms\n",
      "9:\tlearn: 2012.8793348\ttotal: 228ms\tremaining: 0us\n",
      "[CV 5/5; 8/10] END .......learning_rate=0.5, n_estimators=10; total time=   1.7s\n",
      "[CV 1/5; 9/10] START learning_rate=0.5, n_estimators=15.........................\n",
      "0:\tlearn: 3250.4717448\ttotal: 22.9ms\tremaining: 320ms\n",
      "1:\tlearn: 2667.1274303\ttotal: 56.9ms\tremaining: 370ms\n",
      "2:\tlearn: 2420.4527923\ttotal: 79.2ms\tremaining: 317ms\n",
      "3:\tlearn: 2283.5293037\ttotal: 101ms\tremaining: 278ms\n",
      "4:\tlearn: 2187.1282196\ttotal: 123ms\tremaining: 245ms\n",
      "5:\tlearn: 2132.8147095\ttotal: 144ms\tremaining: 216ms\n",
      "6:\tlearn: 2092.6847786\ttotal: 165ms\tremaining: 189ms\n",
      "7:\tlearn: 2064.1090278\ttotal: 187ms\tremaining: 164ms\n",
      "8:\tlearn: 2029.7606181\ttotal: 208ms\tremaining: 138ms\n",
      "9:\tlearn: 2007.9100802\ttotal: 229ms\tremaining: 114ms\n",
      "10:\tlearn: 1990.0179091\ttotal: 262ms\tremaining: 95.3ms\n",
      "11:\tlearn: 1970.8432015\ttotal: 285ms\tremaining: 71.3ms\n",
      "12:\tlearn: 1957.5923255\ttotal: 308ms\tremaining: 47.4ms\n",
      "13:\tlearn: 1943.4199963\ttotal: 334ms\tremaining: 23.8ms\n",
      "14:\tlearn: 1934.9623411\ttotal: 353ms\tremaining: 0us\n",
      "[CV 1/5; 9/10] END .......learning_rate=0.5, n_estimators=15; total time=   2.1s\n",
      "[CV 2/5; 9/10] START learning_rate=0.5, n_estimators=15.........................\n",
      "0:\tlearn: 3230.7326790\ttotal: 24.5ms\tremaining: 344ms\n",
      "1:\tlearn: 2677.9425705\ttotal: 48ms\tremaining: 312ms\n",
      "2:\tlearn: 2408.1835918\ttotal: 70.6ms\tremaining: 282ms\n",
      "3:\tlearn: 2262.2672422\ttotal: 92.6ms\tremaining: 255ms\n",
      "4:\tlearn: 2176.9249688\ttotal: 115ms\tremaining: 230ms\n",
      "5:\tlearn: 2128.5909112\ttotal: 136ms\tremaining: 205ms\n",
      "6:\tlearn: 2095.6629608\ttotal: 157ms\tremaining: 180ms\n",
      "7:\tlearn: 2059.1894648\ttotal: 179ms\tremaining: 157ms\n",
      "8:\tlearn: 2032.2791918\ttotal: 202ms\tremaining: 135ms\n",
      "9:\tlearn: 2008.6878832\ttotal: 233ms\tremaining: 116ms\n",
      "10:\tlearn: 1983.8755814\ttotal: 258ms\tremaining: 93.9ms\n",
      "11:\tlearn: 1961.1788342\ttotal: 281ms\tremaining: 70.2ms\n",
      "12:\tlearn: 1943.0950749\ttotal: 303ms\tremaining: 46.6ms\n",
      "13:\tlearn: 1931.9955823\ttotal: 324ms\tremaining: 23.2ms\n",
      "14:\tlearn: 1924.1329820\ttotal: 344ms\tremaining: 0us\n",
      "[CV 2/5; 9/10] END .......learning_rate=0.5, n_estimators=15; total time=   1.9s\n",
      "[CV 3/5; 9/10] START learning_rate=0.5, n_estimators=15.........................\n",
      "0:\tlearn: 3271.7041429\ttotal: 21.8ms\tremaining: 305ms\n",
      "1:\tlearn: 2672.5679456\ttotal: 44.4ms\tremaining: 289ms\n",
      "2:\tlearn: 2425.0381088\ttotal: 64.8ms\tremaining: 259ms\n",
      "3:\tlearn: 2258.8252784\ttotal: 85.6ms\tremaining: 235ms\n",
      "4:\tlearn: 2169.1941955\ttotal: 107ms\tremaining: 213ms\n",
      "5:\tlearn: 2106.7550516\ttotal: 127ms\tremaining: 190ms\n",
      "6:\tlearn: 2075.0250506\ttotal: 147ms\tremaining: 168ms\n",
      "7:\tlearn: 2049.5610743\ttotal: 168ms\tremaining: 147ms\n",
      "8:\tlearn: 2026.0107613\ttotal: 189ms\tremaining: 126ms\n",
      "9:\tlearn: 2004.0423987\ttotal: 220ms\tremaining: 110ms\n",
      "10:\tlearn: 1980.9916879\ttotal: 252ms\tremaining: 91.5ms\n",
      "11:\tlearn: 1968.1222705\ttotal: 274ms\tremaining: 68.4ms\n",
      "12:\tlearn: 1947.3184369\ttotal: 296ms\tremaining: 45.5ms\n",
      "13:\tlearn: 1933.3305757\ttotal: 317ms\tremaining: 22.6ms\n",
      "14:\tlearn: 1924.1894238\ttotal: 339ms\tremaining: 0us\n",
      "[CV 3/5; 9/10] END .......learning_rate=0.5, n_estimators=15; total time=   2.0s\n",
      "[CV 4/5; 9/10] START learning_rate=0.5, n_estimators=15.........................\n",
      "0:\tlearn: 3225.9736922\ttotal: 22.1ms\tremaining: 310ms\n",
      "1:\tlearn: 2666.2417544\ttotal: 45.1ms\tremaining: 293ms\n",
      "2:\tlearn: 2423.5611541\ttotal: 66.6ms\tremaining: 266ms\n",
      "3:\tlearn: 2265.7940391\ttotal: 87.5ms\tremaining: 241ms\n",
      "4:\tlearn: 2182.4567352\ttotal: 109ms\tremaining: 218ms\n",
      "5:\tlearn: 2126.7239949\ttotal: 131ms\tremaining: 196ms\n",
      "6:\tlearn: 2090.4530441\ttotal: 151ms\tremaining: 173ms\n",
      "7:\tlearn: 2056.6111583\ttotal: 172ms\tremaining: 151ms\n",
      "8:\tlearn: 2030.5248518\ttotal: 193ms\tremaining: 129ms\n",
      "9:\tlearn: 2008.6097907\ttotal: 216ms\tremaining: 108ms\n",
      "10:\tlearn: 1992.7328518\ttotal: 236ms\tremaining: 85.7ms\n",
      "11:\tlearn: 1974.9806031\ttotal: 259ms\tremaining: 64.7ms\n",
      "12:\tlearn: 1958.8135707\ttotal: 282ms\tremaining: 43.4ms\n",
      "13:\tlearn: 1949.2054542\ttotal: 302ms\tremaining: 21.6ms\n",
      "14:\tlearn: 1934.5193805\ttotal: 325ms\tremaining: 0us\n",
      "[CV 4/5; 9/10] END .......learning_rate=0.5, n_estimators=15; total time=   1.8s\n",
      "[CV 5/5; 9/10] START learning_rate=0.5, n_estimators=15.........................\n",
      "0:\tlearn: 3263.5012967\ttotal: 22ms\tremaining: 308ms\n",
      "1:\tlearn: 2692.2593746\ttotal: 43.8ms\tremaining: 285ms\n",
      "2:\tlearn: 2450.6757982\ttotal: 65.1ms\tremaining: 260ms\n",
      "3:\tlearn: 2286.3922213\ttotal: 85.9ms\tremaining: 236ms\n",
      "4:\tlearn: 2204.3246124\ttotal: 108ms\tremaining: 217ms\n",
      "5:\tlearn: 2141.1622859\ttotal: 130ms\tremaining: 196ms\n",
      "6:\tlearn: 2108.2000114\ttotal: 152ms\tremaining: 173ms\n",
      "7:\tlearn: 2072.9245724\ttotal: 174ms\tremaining: 152ms\n",
      "8:\tlearn: 2042.0406671\ttotal: 196ms\tremaining: 131ms\n",
      "9:\tlearn: 2012.8793348\ttotal: 219ms\tremaining: 109ms\n",
      "10:\tlearn: 1991.4833547\ttotal: 243ms\tremaining: 88.4ms\n",
      "11:\tlearn: 1974.5014211\ttotal: 266ms\tremaining: 66.5ms\n",
      "12:\tlearn: 1964.6258205\ttotal: 286ms\tremaining: 44ms\n",
      "13:\tlearn: 1952.2283620\ttotal: 306ms\tremaining: 21.8ms\n",
      "14:\tlearn: 1944.3699215\ttotal: 327ms\tremaining: 0us\n",
      "[CV 5/5; 9/10] END .......learning_rate=0.5, n_estimators=15; total time=   1.8s\n",
      "[CV 1/5; 10/10] START learning_rate=0.25, n_estimators=20.......................\n",
      "0:\tlearn: 3836.3829812\ttotal: 21.6ms\tremaining: 411ms\n",
      "1:\tlearn: 3323.3844746\ttotal: 43.8ms\tremaining: 394ms\n",
      "2:\tlearn: 2990.1008852\ttotal: 66.8ms\tremaining: 379ms\n",
      "3:\tlearn: 2738.0799189\ttotal: 92ms\tremaining: 368ms\n",
      "4:\tlearn: 2564.4963092\ttotal: 115ms\tremaining: 344ms\n",
      "5:\tlearn: 2436.8304199\ttotal: 136ms\tremaining: 318ms\n",
      "6:\tlearn: 2345.8770521\ttotal: 157ms\tremaining: 292ms\n",
      "7:\tlearn: 2272.1034762\ttotal: 178ms\tremaining: 268ms\n",
      "8:\tlearn: 2220.7381410\ttotal: 200ms\tremaining: 245ms\n",
      "9:\tlearn: 2177.7572806\ttotal: 222ms\tremaining: 222ms\n",
      "10:\tlearn: 2140.0733265\ttotal: 246ms\tremaining: 201ms\n",
      "11:\tlearn: 2106.2096702\ttotal: 268ms\tremaining: 179ms\n",
      "12:\tlearn: 2083.4421053\ttotal: 290ms\tremaining: 156ms\n",
      "13:\tlearn: 2063.8827462\ttotal: 311ms\tremaining: 133ms\n",
      "14:\tlearn: 2038.2428108\ttotal: 333ms\tremaining: 111ms\n",
      "15:\tlearn: 2018.5544230\ttotal: 353ms\tremaining: 88.2ms\n",
      "16:\tlearn: 2001.2972238\ttotal: 373ms\tremaining: 65.9ms\n",
      "17:\tlearn: 1990.0979576\ttotal: 395ms\tremaining: 43.9ms\n",
      "18:\tlearn: 1981.3596364\ttotal: 415ms\tremaining: 21.9ms\n",
      "19:\tlearn: 1971.8840443\ttotal: 435ms\tremaining: 0us\n",
      "[CV 1/5; 10/10] END .....learning_rate=0.25, n_estimators=20; total time=   2.0s\n",
      "[CV 2/5; 10/10] START learning_rate=0.25, n_estimators=20.......................\n",
      "0:\tlearn: 3827.5400298\ttotal: 22ms\tremaining: 418ms\n",
      "1:\tlearn: 3330.0704358\ttotal: 43.7ms\tremaining: 394ms\n",
      "2:\tlearn: 2990.5585536\ttotal: 65.8ms\tremaining: 373ms\n",
      "3:\tlearn: 2752.5614197\ttotal: 88.1ms\tremaining: 353ms\n",
      "4:\tlearn: 2586.5243031\ttotal: 109ms\tremaining: 328ms\n",
      "5:\tlearn: 2452.7574570\ttotal: 130ms\tremaining: 304ms\n",
      "6:\tlearn: 2350.9220461\ttotal: 152ms\tremaining: 282ms\n",
      "7:\tlearn: 2279.0915060\ttotal: 173ms\tremaining: 260ms\n",
      "8:\tlearn: 2224.8988343\ttotal: 194ms\tremaining: 237ms\n",
      "9:\tlearn: 2177.0927166\ttotal: 214ms\tremaining: 214ms\n",
      "10:\tlearn: 2137.7764004\ttotal: 237ms\tremaining: 194ms\n",
      "11:\tlearn: 2107.8433202\ttotal: 258ms\tremaining: 172ms\n",
      "12:\tlearn: 2084.2115032\ttotal: 280ms\tremaining: 151ms\n",
      "13:\tlearn: 2061.8813856\ttotal: 299ms\tremaining: 128ms\n",
      "14:\tlearn: 2037.7562164\ttotal: 320ms\tremaining: 107ms\n",
      "15:\tlearn: 2022.4376591\ttotal: 339ms\tremaining: 84.7ms\n",
      "16:\tlearn: 2007.8013035\ttotal: 357ms\tremaining: 63.1ms\n",
      "17:\tlearn: 1994.1828169\ttotal: 379ms\tremaining: 42.1ms\n",
      "18:\tlearn: 1980.9807035\ttotal: 398ms\tremaining: 20.9ms\n",
      "19:\tlearn: 1969.8203595\ttotal: 419ms\tremaining: 0us\n",
      "[CV 2/5; 10/10] END .....learning_rate=0.25, n_estimators=20; total time=   2.0s\n",
      "[CV 3/5; 10/10] START learning_rate=0.25, n_estimators=20.......................\n",
      "0:\tlearn: 3845.5773000\ttotal: 25.4ms\tremaining: 482ms\n",
      "1:\tlearn: 3346.6347978\ttotal: 48ms\tremaining: 432ms\n",
      "2:\tlearn: 3005.5413869\ttotal: 69.5ms\tremaining: 394ms\n",
      "3:\tlearn: 2754.2414807\ttotal: 92.9ms\tremaining: 372ms\n",
      "4:\tlearn: 2582.0163631\ttotal: 115ms\tremaining: 346ms\n",
      "5:\tlearn: 2456.5896400\ttotal: 137ms\tremaining: 320ms\n",
      "6:\tlearn: 2362.0680882\ttotal: 158ms\tremaining: 294ms\n",
      "7:\tlearn: 2287.1378452\ttotal: 180ms\tremaining: 270ms\n",
      "8:\tlearn: 2218.1946106\ttotal: 202ms\tremaining: 247ms\n",
      "9:\tlearn: 2171.9690646\ttotal: 224ms\tremaining: 224ms\n",
      "10:\tlearn: 2137.0390285\ttotal: 246ms\tremaining: 201ms\n",
      "11:\tlearn: 2104.8078836\ttotal: 270ms\tremaining: 180ms\n",
      "12:\tlearn: 2081.4024667\ttotal: 291ms\tremaining: 157ms\n",
      "13:\tlearn: 2061.1017053\ttotal: 312ms\tremaining: 134ms\n",
      "14:\tlearn: 2041.1443762\ttotal: 333ms\tremaining: 111ms\n",
      "15:\tlearn: 2026.9779553\ttotal: 362ms\tremaining: 90.4ms\n",
      "16:\tlearn: 2011.0437034\ttotal: 390ms\tremaining: 68.8ms\n",
      "17:\tlearn: 1994.4030274\ttotal: 421ms\tremaining: 46.8ms\n",
      "18:\tlearn: 1979.4121383\ttotal: 449ms\tremaining: 23.6ms\n",
      "19:\tlearn: 1969.4867601\ttotal: 470ms\tremaining: 0us\n",
      "[CV 3/5; 10/10] END .....learning_rate=0.25, n_estimators=20; total time=   2.0s\n",
      "[CV 4/5; 10/10] START learning_rate=0.25, n_estimators=20.......................\n",
      "0:\tlearn: 3821.4886471\ttotal: 22.2ms\tremaining: 422ms\n",
      "1:\tlearn: 3324.5055732\ttotal: 44.1ms\tremaining: 396ms\n",
      "2:\tlearn: 2985.9431531\ttotal: 66.3ms\tremaining: 376ms\n",
      "3:\tlearn: 2753.1395813\ttotal: 88.8ms\tremaining: 355ms\n",
      "4:\tlearn: 2573.3910921\ttotal: 109ms\tremaining: 328ms\n",
      "5:\tlearn: 2440.0343781\ttotal: 130ms\tremaining: 304ms\n",
      "6:\tlearn: 2349.2634292\ttotal: 152ms\tremaining: 282ms\n",
      "7:\tlearn: 2284.7664320\ttotal: 177ms\tremaining: 265ms\n",
      "8:\tlearn: 2220.3986446\ttotal: 198ms\tremaining: 242ms\n",
      "9:\tlearn: 2170.4090935\ttotal: 220ms\tremaining: 220ms\n",
      "10:\tlearn: 2135.1874771\ttotal: 242ms\tremaining: 198ms\n",
      "11:\tlearn: 2106.7575135\ttotal: 264ms\tremaining: 176ms\n",
      "12:\tlearn: 2086.5338960\ttotal: 283ms\tremaining: 153ms\n",
      "13:\tlearn: 2063.0716675\ttotal: 305ms\tremaining: 131ms\n",
      "14:\tlearn: 2042.2993772\ttotal: 325ms\tremaining: 108ms\n",
      "15:\tlearn: 2027.2782248\ttotal: 345ms\tremaining: 86.3ms\n",
      "16:\tlearn: 2008.4661590\ttotal: 365ms\tremaining: 64.4ms\n",
      "17:\tlearn: 1993.9423548\ttotal: 386ms\tremaining: 42.8ms\n",
      "18:\tlearn: 1982.9036090\ttotal: 406ms\tremaining: 21.3ms\n",
      "19:\tlearn: 1973.9423664\ttotal: 425ms\tremaining: 0us\n",
      "[CV 4/5; 10/10] END .....learning_rate=0.25, n_estimators=20; total time=   1.9s\n",
      "[CV 5/5; 10/10] START learning_rate=0.25, n_estimators=20.......................\n",
      "0:\tlearn: 3842.1908306\ttotal: 22.5ms\tremaining: 428ms\n",
      "1:\tlearn: 3338.5855441\ttotal: 46ms\tremaining: 414ms\n",
      "2:\tlearn: 3000.9559073\ttotal: 69ms\tremaining: 391ms\n",
      "3:\tlearn: 2743.3592023\ttotal: 91.8ms\tremaining: 367ms\n",
      "4:\tlearn: 2562.2635147\ttotal: 115ms\tremaining: 345ms\n",
      "5:\tlearn: 2437.9754390\ttotal: 140ms\tremaining: 326ms\n",
      "6:\tlearn: 2349.8442672\ttotal: 161ms\tremaining: 299ms\n",
      "7:\tlearn: 2278.7595308\ttotal: 185ms\tremaining: 278ms\n",
      "8:\tlearn: 2229.3612739\ttotal: 209ms\tremaining: 255ms\n",
      "9:\tlearn: 2180.2887431\ttotal: 235ms\tremaining: 235ms\n",
      "10:\tlearn: 2140.0811090\ttotal: 257ms\tremaining: 210ms\n",
      "11:\tlearn: 2113.1216119\ttotal: 279ms\tremaining: 186ms\n",
      "12:\tlearn: 2091.3036054\ttotal: 301ms\tremaining: 162ms\n",
      "13:\tlearn: 2066.9385279\ttotal: 321ms\tremaining: 138ms\n",
      "14:\tlearn: 2047.0784428\ttotal: 343ms\tremaining: 114ms\n",
      "15:\tlearn: 2030.9445221\ttotal: 363ms\tremaining: 90.8ms\n",
      "16:\tlearn: 2018.4072996\ttotal: 384ms\tremaining: 67.8ms\n",
      "17:\tlearn: 2001.6491617\ttotal: 405ms\tremaining: 45ms\n",
      "18:\tlearn: 1991.6854266\ttotal: 425ms\tremaining: 22.4ms\n",
      "19:\tlearn: 1982.0762288\ttotal: 445ms\tremaining: 0us\n",
      "[CV 5/5; 10/10] END .....learning_rate=0.25, n_estimators=20; total time=   2.0s\n",
      "0:\tlearn: 2809.7859053\ttotal: 28.7ms\tremaining: 545ms\n",
      "1:\tlearn: 2427.9037107\ttotal: 55.7ms\tremaining: 501ms\n",
      "2:\tlearn: 2266.1950246\ttotal: 83.9ms\tremaining: 476ms\n",
      "3:\tlearn: 2173.7582612\ttotal: 112ms\tremaining: 448ms\n",
      "4:\tlearn: 2118.9765290\ttotal: 139ms\tremaining: 418ms\n",
      "5:\tlearn: 2077.6960136\ttotal: 165ms\tremaining: 386ms\n",
      "6:\tlearn: 2039.2573293\ttotal: 195ms\tremaining: 362ms\n",
      "7:\tlearn: 2019.3226228\ttotal: 219ms\tremaining: 329ms\n",
      "8:\tlearn: 1992.5595440\ttotal: 250ms\tremaining: 305ms\n",
      "9:\tlearn: 1970.0010412\ttotal: 277ms\tremaining: 277ms\n",
      "10:\tlearn: 1949.8888097\ttotal: 306ms\tremaining: 250ms\n",
      "11:\tlearn: 1937.6995054\ttotal: 331ms\tremaining: 221ms\n",
      "12:\tlearn: 1928.0842274\ttotal: 357ms\tremaining: 192ms\n",
      "13:\tlearn: 1917.5870430\ttotal: 383ms\tremaining: 164ms\n",
      "14:\tlearn: 1910.7766333\ttotal: 408ms\tremaining: 136ms\n",
      "15:\tlearn: 1901.3868839\ttotal: 434ms\tremaining: 109ms\n",
      "16:\tlearn: 1892.7768222\ttotal: 459ms\tremaining: 81.1ms\n",
      "17:\tlearn: 1875.5303718\ttotal: 487ms\tremaining: 54.1ms\n",
      "18:\tlearn: 1863.2011523\ttotal: 515ms\tremaining: 27.1ms\n",
      "19:\tlearn: 1852.2771000\ttotal: 543ms\tremaining: 0us\n",
      "CatBoost with OHE\n",
      "Best parameters: {'n_estimators': 20, 'learning_rate': 0.75}\n",
      "RMSE: 1861.55\n",
      "CPU times: user 1min 8s, sys: 336 ms, total: 1min 8s\n",
      "Wall time: 1min 41s\n"
     ]
    }
   ],
   "source": [
    "%%time\n",
    "# CatBoost with OHE\n",
    "cb_model = CatBoostRegressor(random_state=42)\n",
    "params = { 'n_estimators': range(10, 30, 5), 'learning_rate': [.25, .5, .75] }\n",
    "\n",
    "best_model = RandomizedSearchCV(cb_model, params, scoring=rmse, cv=5, verbose=10)\n",
    "best_model.fit(features_train, target_train) \n",
    "predictions = best_model.best_estimator_.predict(features_valid)\n",
    "\n",
    "print('CatBoost with OHE')\n",
    "print('Best parameters:', best_model.best_params_)\n",
    "print('RMSE:', round(mean_squared_error(target_valid, predictions) ** 0.5, 2))"
   ]
  },
  {
   "cell_type": "markdown",
   "metadata": {},
   "source": [
    "# Hyperparameter Tuning for LightGBM with One Hot Encoding"
   ]
  },
  {
   "cell_type": "code",
   "execution_count": 60,
   "metadata": {},
   "outputs": [
    {
     "name": "stdout",
     "output_type": "stream",
     "text": [
      "Fitting 5 folds for each of 10 candidates, totalling 50 fits\n",
      "[CV 1/5; 1/10] START learning_rate=0.5, n_estimators=25.........................\n",
      "[CV 1/5; 1/10] END .......learning_rate=0.5, n_estimators=25; total time= 1.8min\n",
      "[CV 2/5; 1/10] START learning_rate=0.5, n_estimators=25.........................\n",
      "[CV 2/5; 1/10] END .......learning_rate=0.5, n_estimators=25; total time= 1.4min\n",
      "[CV 3/5; 1/10] START learning_rate=0.5, n_estimators=25.........................\n",
      "[CV 3/5; 1/10] END .......learning_rate=0.5, n_estimators=25; total time= 1.5min\n",
      "[CV 4/5; 1/10] START learning_rate=0.5, n_estimators=25.........................\n",
      "[CV 4/5; 1/10] END .......learning_rate=0.5, n_estimators=25; total time= 1.5min\n",
      "[CV 5/5; 1/10] START learning_rate=0.5, n_estimators=25.........................\n",
      "[CV 5/5; 1/10] END .......learning_rate=0.5, n_estimators=25; total time= 1.4min\n",
      "[CV 1/5; 2/10] START learning_rate=0.5, n_estimators=10.........................\n",
      "[CV 1/5; 2/10] END .......learning_rate=0.5, n_estimators=10; total time=  37.2s\n",
      "[CV 2/5; 2/10] START learning_rate=0.5, n_estimators=10.........................\n",
      "[CV 2/5; 2/10] END .......learning_rate=0.5, n_estimators=10; total time=  47.2s\n",
      "[CV 3/5; 2/10] START learning_rate=0.5, n_estimators=10.........................\n",
      "[CV 3/5; 2/10] END .......learning_rate=0.5, n_estimators=10; total time=  37.9s\n",
      "[CV 4/5; 2/10] START learning_rate=0.5, n_estimators=10.........................\n",
      "[CV 4/5; 2/10] END .......learning_rate=0.5, n_estimators=10; total time=  37.6s\n",
      "[CV 5/5; 2/10] START learning_rate=0.5, n_estimators=10.........................\n",
      "[CV 5/5; 2/10] END .......learning_rate=0.5, n_estimators=10; total time=  36.4s\n",
      "[CV 1/5; 3/10] START learning_rate=0.75, n_estimators=20........................\n",
      "[CV 1/5; 3/10] END ......learning_rate=0.75, n_estimators=20; total time= 1.2min\n",
      "[CV 2/5; 3/10] START learning_rate=0.75, n_estimators=20........................\n",
      "[CV 2/5; 3/10] END ......learning_rate=0.75, n_estimators=20; total time= 1.2min\n",
      "[CV 3/5; 3/10] START learning_rate=0.75, n_estimators=20........................\n",
      "[CV 3/5; 3/10] END ......learning_rate=0.75, n_estimators=20; total time= 1.2min\n",
      "[CV 4/5; 3/10] START learning_rate=0.75, n_estimators=20........................\n",
      "[CV 4/5; 3/10] END ......learning_rate=0.75, n_estimators=20; total time= 1.2min\n",
      "[CV 5/5; 3/10] START learning_rate=0.75, n_estimators=20........................\n",
      "[CV 5/5; 3/10] END ......learning_rate=0.75, n_estimators=20; total time= 1.5min\n",
      "[CV 1/5; 4/10] START learning_rate=0.25, n_estimators=25........................\n",
      "[CV 1/5; 4/10] END ......learning_rate=0.25, n_estimators=25; total time= 1.5min\n",
      "[CV 2/5; 4/10] START learning_rate=0.25, n_estimators=25........................\n",
      "[CV 2/5; 4/10] END ......learning_rate=0.25, n_estimators=25; total time= 1.9min\n",
      "[CV 3/5; 4/10] START learning_rate=0.25, n_estimators=25........................\n",
      "[CV 3/5; 4/10] END ......learning_rate=0.25, n_estimators=25; total time= 1.5min\n",
      "[CV 4/5; 4/10] START learning_rate=0.25, n_estimators=25........................\n",
      "[CV 4/5; 4/10] END ......learning_rate=0.25, n_estimators=25; total time= 1.5min\n",
      "[CV 5/5; 4/10] START learning_rate=0.25, n_estimators=25........................\n",
      "[CV 5/5; 4/10] END ......learning_rate=0.25, n_estimators=25; total time= 1.5min\n",
      "[CV 1/5; 5/10] START learning_rate=0.25, n_estimators=15........................\n",
      "[CV 1/5; 5/10] END ......learning_rate=0.25, n_estimators=15; total time=  53.6s\n",
      "[CV 2/5; 5/10] START learning_rate=0.25, n_estimators=15........................\n",
      "[CV 2/5; 5/10] END ......learning_rate=0.25, n_estimators=15; total time=  53.5s\n",
      "[CV 3/5; 5/10] START learning_rate=0.25, n_estimators=15........................\n",
      "[CV 3/5; 5/10] END ......learning_rate=0.25, n_estimators=15; total time=  53.3s\n",
      "[CV 4/5; 5/10] START learning_rate=0.25, n_estimators=15........................\n",
      "[CV 4/5; 5/10] END ......learning_rate=0.25, n_estimators=15; total time= 1.1min\n",
      "[CV 5/5; 5/10] START learning_rate=0.25, n_estimators=15........................\n",
      "[CV 5/5; 5/10] END ......learning_rate=0.25, n_estimators=15; total time=  53.5s\n",
      "[CV 1/5; 6/10] START learning_rate=0.5, n_estimators=20.........................\n",
      "[CV 1/5; 6/10] END .......learning_rate=0.5, n_estimators=20; total time= 1.2min\n",
      "[CV 2/5; 6/10] START learning_rate=0.5, n_estimators=20.........................\n",
      "[CV 2/5; 6/10] END .......learning_rate=0.5, n_estimators=20; total time= 1.2min\n",
      "[CV 3/5; 6/10] START learning_rate=0.5, n_estimators=20.........................\n",
      "[CV 3/5; 6/10] END .......learning_rate=0.5, n_estimators=20; total time= 1.5min\n",
      "[CV 4/5; 6/10] START learning_rate=0.5, n_estimators=20.........................\n",
      "[CV 4/5; 6/10] END .......learning_rate=0.5, n_estimators=20; total time= 1.2min\n",
      "[CV 5/5; 6/10] START learning_rate=0.5, n_estimators=20.........................\n",
      "[CV 5/5; 6/10] END .......learning_rate=0.5, n_estimators=20; total time= 1.1min\n",
      "[CV 1/5; 7/10] START learning_rate=0.25, n_estimators=20........................\n",
      "[CV 1/5; 7/10] END ......learning_rate=0.25, n_estimators=20; total time= 1.2min\n",
      "[CV 2/5; 7/10] START learning_rate=0.25, n_estimators=20........................\n",
      "[CV 2/5; 7/10] END ......learning_rate=0.25, n_estimators=20; total time= 1.2min\n",
      "[CV 3/5; 7/10] START learning_rate=0.25, n_estimators=20........................\n",
      "[CV 3/5; 7/10] END ......learning_rate=0.25, n_estimators=20; total time= 1.2min\n",
      "[CV 4/5; 7/10] START learning_rate=0.25, n_estimators=20........................\n",
      "[CV 4/5; 7/10] END ......learning_rate=0.25, n_estimators=20; total time= 1.2min\n",
      "[CV 5/5; 7/10] START learning_rate=0.25, n_estimators=20........................\n",
      "[CV 5/5; 7/10] END ......learning_rate=0.25, n_estimators=20; total time= 1.2min\n",
      "[CV 1/5; 8/10] START learning_rate=0.25, n_estimators=10........................\n",
      "[CV 1/5; 8/10] END ......learning_rate=0.25, n_estimators=10; total time=  39.0s\n",
      "[CV 2/5; 8/10] START learning_rate=0.25, n_estimators=10........................\n",
      "[CV 2/5; 8/10] END ......learning_rate=0.25, n_estimators=10; total time=  49.3s\n",
      "[CV 3/5; 8/10] START learning_rate=0.25, n_estimators=10........................\n",
      "[CV 3/5; 8/10] END ......learning_rate=0.25, n_estimators=10; total time=  37.1s\n",
      "[CV 4/5; 8/10] START learning_rate=0.25, n_estimators=10........................\n",
      "[CV 4/5; 8/10] END ......learning_rate=0.25, n_estimators=10; total time=  47.6s\n",
      "[CV 5/5; 8/10] START learning_rate=0.25, n_estimators=10........................\n",
      "[CV 5/5; 8/10] END ......learning_rate=0.25, n_estimators=10; total time=  36.7s\n",
      "[CV 1/5; 9/10] START learning_rate=0.75, n_estimators=10........................\n",
      "[CV 1/5; 9/10] END ......learning_rate=0.75, n_estimators=10; total time=  46.3s\n",
      "[CV 2/5; 9/10] START learning_rate=0.75, n_estimators=10........................\n",
      "[CV 2/5; 9/10] END ......learning_rate=0.75, n_estimators=10; total time=  36.5s\n",
      "[CV 3/5; 9/10] START learning_rate=0.75, n_estimators=10........................\n",
      "[CV 3/5; 9/10] END ......learning_rate=0.75, n_estimators=10; total time=  46.0s\n",
      "[CV 4/5; 9/10] START learning_rate=0.75, n_estimators=10........................\n",
      "[CV 4/5; 9/10] END ......learning_rate=0.75, n_estimators=10; total time=  45.7s\n",
      "[CV 5/5; 9/10] START learning_rate=0.75, n_estimators=10........................\n",
      "[CV 5/5; 9/10] END ......learning_rate=0.75, n_estimators=10; total time=  47.1s\n",
      "[CV 1/5; 10/10] START learning_rate=0.5, n_estimators=15........................\n",
      "[CV 1/5; 10/10] END ......learning_rate=0.5, n_estimators=15; total time= 1.1min\n",
      "[CV 2/5; 10/10] START learning_rate=0.5, n_estimators=15........................\n",
      "[CV 2/5; 10/10] END ......learning_rate=0.5, n_estimators=15; total time= 1.1min\n",
      "[CV 3/5; 10/10] START learning_rate=0.5, n_estimators=15........................\n",
      "[CV 3/5; 10/10] END ......learning_rate=0.5, n_estimators=15; total time=  53.9s\n",
      "[CV 4/5; 10/10] START learning_rate=0.5, n_estimators=15........................\n",
      "[CV 4/5; 10/10] END ......learning_rate=0.5, n_estimators=15; total time=  52.7s\n",
      "[CV 5/5; 10/10] START learning_rate=0.5, n_estimators=15........................\n",
      "[CV 5/5; 10/10] END ......learning_rate=0.5, n_estimators=15; total time=  53.1s\n",
      "LightGBM with OHE\n",
      "Best parameters: {'n_estimators': 25, 'learning_rate': 0.5}\n",
      "RMSE: 1754.47\n",
      "CPU times: user 54min 7s, sys: 46 s, total: 54min 53s\n",
      "Wall time: 55min 23s\n"
     ]
    }
   ],
   "source": [
    "%%time\n",
    "# LIghtGBM with OHE\n",
    "lg_model = lgb.LGBMRegressor(random_state=42)\n",
    "params = { 'n_estimators': range(10, 30, 5), 'learning_rate': [.25, .5, .75] }\n",
    "\n",
    "best_model = RandomizedSearchCV(lg_model, params, scoring=rmse, cv=5, verbose=10)\n",
    "best_model.fit(features_train, target_train) \n",
    "predictions = best_model.best_estimator_.predict(features_valid)\n",
    "\n",
    "print('LightGBM with OHE')\n",
    "print('Best parameters:', best_model.best_params_)\n",
    "print('RMSE:', round(mean_squared_error(target_valid, predictions) ** 0.5, 2))"
   ]
  },
  {
   "cell_type": "markdown",
   "metadata": {},
   "source": [
    "# Hyperparameter Tuning for LightGBM without applying One Hot Encoding "
   ]
  },
  {
   "cell_type": "code",
   "execution_count": 61,
   "metadata": {},
   "outputs": [
    {
     "name": "stdout",
     "output_type": "stream",
     "text": [
      "Fitting 5 folds for each of 10 candidates, totalling 50 fits\n",
      "[CV 1/5; 1/10] START learning_rate=0.75, n_estimators=15........................\n"
     ]
    },
    {
     "name": "stderr",
     "output_type": "stream",
     "text": [
      "/opt/conda/lib/python3.9/site-packages/lightgbm/basic.py:2065: UserWarning: Using categorical_feature in Dataset.\n",
      "  _log_warning('Using categorical_feature in Dataset.')\n"
     ]
    },
    {
     "name": "stdout",
     "output_type": "stream",
     "text": [
      "[CV 1/5; 1/10] END ......learning_rate=0.75, n_estimators=15; total time= 1.2min\n",
      "[CV 2/5; 1/10] START learning_rate=0.75, n_estimators=15........................\n"
     ]
    },
    {
     "name": "stderr",
     "output_type": "stream",
     "text": [
      "/opt/conda/lib/python3.9/site-packages/lightgbm/basic.py:2065: UserWarning: Using categorical_feature in Dataset.\n",
      "  _log_warning('Using categorical_feature in Dataset.')\n"
     ]
    },
    {
     "name": "stdout",
     "output_type": "stream",
     "text": [
      "[CV 2/5; 1/10] END ......learning_rate=0.75, n_estimators=15; total time= 1.0min\n",
      "[CV 3/5; 1/10] START learning_rate=0.75, n_estimators=15........................\n"
     ]
    },
    {
     "name": "stderr",
     "output_type": "stream",
     "text": [
      "/opt/conda/lib/python3.9/site-packages/lightgbm/basic.py:2065: UserWarning: Using categorical_feature in Dataset.\n",
      "  _log_warning('Using categorical_feature in Dataset.')\n"
     ]
    },
    {
     "name": "stdout",
     "output_type": "stream",
     "text": [
      "[CV 3/5; 1/10] END ......learning_rate=0.75, n_estimators=15; total time=  49.7s\n",
      "[CV 4/5; 1/10] START learning_rate=0.75, n_estimators=15........................\n"
     ]
    },
    {
     "name": "stderr",
     "output_type": "stream",
     "text": [
      "/opt/conda/lib/python3.9/site-packages/lightgbm/basic.py:2065: UserWarning: Using categorical_feature in Dataset.\n",
      "  _log_warning('Using categorical_feature in Dataset.')\n"
     ]
    },
    {
     "name": "stdout",
     "output_type": "stream",
     "text": [
      "[CV 4/5; 1/10] END ......learning_rate=0.75, n_estimators=15; total time= 1.1min\n",
      "[CV 5/5; 1/10] START learning_rate=0.75, n_estimators=15........................\n"
     ]
    },
    {
     "name": "stderr",
     "output_type": "stream",
     "text": [
      "/opt/conda/lib/python3.9/site-packages/lightgbm/basic.py:2065: UserWarning: Using categorical_feature in Dataset.\n",
      "  _log_warning('Using categorical_feature in Dataset.')\n"
     ]
    },
    {
     "name": "stdout",
     "output_type": "stream",
     "text": [
      "[CV 5/5; 1/10] END ......learning_rate=0.75, n_estimators=15; total time=  52.1s\n",
      "[CV 1/5; 2/10] START learning_rate=0.25, n_estimators=15........................\n"
     ]
    },
    {
     "name": "stderr",
     "output_type": "stream",
     "text": [
      "/opt/conda/lib/python3.9/site-packages/lightgbm/basic.py:2065: UserWarning: Using categorical_feature in Dataset.\n",
      "  _log_warning('Using categorical_feature in Dataset.')\n"
     ]
    },
    {
     "name": "stdout",
     "output_type": "stream",
     "text": [
      "[CV 1/5; 2/10] END ......learning_rate=0.25, n_estimators=15; total time=  51.6s\n",
      "[CV 2/5; 2/10] START learning_rate=0.25, n_estimators=15........................\n"
     ]
    },
    {
     "name": "stderr",
     "output_type": "stream",
     "text": [
      "/opt/conda/lib/python3.9/site-packages/lightgbm/basic.py:2065: UserWarning: Using categorical_feature in Dataset.\n",
      "  _log_warning('Using categorical_feature in Dataset.')\n"
     ]
    },
    {
     "name": "stdout",
     "output_type": "stream",
     "text": [
      "[CV 2/5; 2/10] END ......learning_rate=0.25, n_estimators=15; total time= 1.1min\n",
      "[CV 3/5; 2/10] START learning_rate=0.25, n_estimators=15........................\n"
     ]
    },
    {
     "name": "stderr",
     "output_type": "stream",
     "text": [
      "/opt/conda/lib/python3.9/site-packages/lightgbm/basic.py:2065: UserWarning: Using categorical_feature in Dataset.\n",
      "  _log_warning('Using categorical_feature in Dataset.')\n"
     ]
    },
    {
     "name": "stdout",
     "output_type": "stream",
     "text": [
      "[CV 3/5; 2/10] END ......learning_rate=0.25, n_estimators=15; total time=  47.3s\n",
      "[CV 4/5; 2/10] START learning_rate=0.25, n_estimators=15........................\n"
     ]
    },
    {
     "name": "stderr",
     "output_type": "stream",
     "text": [
      "/opt/conda/lib/python3.9/site-packages/lightgbm/basic.py:2065: UserWarning: Using categorical_feature in Dataset.\n",
      "  _log_warning('Using categorical_feature in Dataset.')\n"
     ]
    },
    {
     "name": "stdout",
     "output_type": "stream",
     "text": [
      "[CV 4/5; 2/10] END ......learning_rate=0.25, n_estimators=15; total time= 1.1min\n",
      "[CV 5/5; 2/10] START learning_rate=0.25, n_estimators=15........................\n"
     ]
    },
    {
     "name": "stderr",
     "output_type": "stream",
     "text": [
      "/opt/conda/lib/python3.9/site-packages/lightgbm/basic.py:2065: UserWarning: Using categorical_feature in Dataset.\n",
      "  _log_warning('Using categorical_feature in Dataset.')\n"
     ]
    },
    {
     "name": "stdout",
     "output_type": "stream",
     "text": [
      "[CV 5/5; 2/10] END ......learning_rate=0.25, n_estimators=15; total time=  52.6s\n",
      "[CV 1/5; 3/10] START learning_rate=0.5, n_estimators=15.........................\n"
     ]
    },
    {
     "name": "stderr",
     "output_type": "stream",
     "text": [
      "/opt/conda/lib/python3.9/site-packages/lightgbm/basic.py:2065: UserWarning: Using categorical_feature in Dataset.\n",
      "  _log_warning('Using categorical_feature in Dataset.')\n"
     ]
    },
    {
     "name": "stdout",
     "output_type": "stream",
     "text": [
      "[CV 1/5; 3/10] END .......learning_rate=0.5, n_estimators=15; total time=  53.0s\n",
      "[CV 2/5; 3/10] START learning_rate=0.5, n_estimators=15.........................\n"
     ]
    },
    {
     "name": "stderr",
     "output_type": "stream",
     "text": [
      "/opt/conda/lib/python3.9/site-packages/lightgbm/basic.py:2065: UserWarning: Using categorical_feature in Dataset.\n",
      "  _log_warning('Using categorical_feature in Dataset.')\n"
     ]
    },
    {
     "name": "stdout",
     "output_type": "stream",
     "text": [
      "[CV 2/5; 3/10] END .......learning_rate=0.5, n_estimators=15; total time=  53.4s\n",
      "[CV 3/5; 3/10] START learning_rate=0.5, n_estimators=15.........................\n"
     ]
    },
    {
     "name": "stderr",
     "output_type": "stream",
     "text": [
      "/opt/conda/lib/python3.9/site-packages/lightgbm/basic.py:2065: UserWarning: Using categorical_feature in Dataset.\n",
      "  _log_warning('Using categorical_feature in Dataset.')\n"
     ]
    },
    {
     "name": "stdout",
     "output_type": "stream",
     "text": [
      "[CV 3/5; 3/10] END .......learning_rate=0.5, n_estimators=15; total time= 1.1min\n",
      "[CV 4/5; 3/10] START learning_rate=0.5, n_estimators=15.........................\n"
     ]
    },
    {
     "name": "stderr",
     "output_type": "stream",
     "text": [
      "/opt/conda/lib/python3.9/site-packages/lightgbm/basic.py:2065: UserWarning: Using categorical_feature in Dataset.\n",
      "  _log_warning('Using categorical_feature in Dataset.')\n"
     ]
    },
    {
     "name": "stdout",
     "output_type": "stream",
     "text": [
      "[CV 4/5; 3/10] END .......learning_rate=0.5, n_estimators=15; total time=  44.2s\n",
      "[CV 5/5; 3/10] START learning_rate=0.5, n_estimators=15.........................\n"
     ]
    },
    {
     "name": "stderr",
     "output_type": "stream",
     "text": [
      "/opt/conda/lib/python3.9/site-packages/lightgbm/basic.py:2065: UserWarning: Using categorical_feature in Dataset.\n",
      "  _log_warning('Using categorical_feature in Dataset.')\n"
     ]
    },
    {
     "name": "stdout",
     "output_type": "stream",
     "text": [
      "[CV 5/5; 3/10] END .......learning_rate=0.5, n_estimators=15; total time=  52.8s\n",
      "[CV 1/5; 4/10] START learning_rate=0.25, n_estimators=10........................\n"
     ]
    },
    {
     "name": "stderr",
     "output_type": "stream",
     "text": [
      "/opt/conda/lib/python3.9/site-packages/lightgbm/basic.py:2065: UserWarning: Using categorical_feature in Dataset.\n",
      "  _log_warning('Using categorical_feature in Dataset.')\n"
     ]
    },
    {
     "name": "stdout",
     "output_type": "stream",
     "text": [
      "[CV 1/5; 4/10] END ......learning_rate=0.25, n_estimators=10; total time=  30.3s\n",
      "[CV 2/5; 4/10] START learning_rate=0.25, n_estimators=10........................\n"
     ]
    },
    {
     "name": "stderr",
     "output_type": "stream",
     "text": [
      "/opt/conda/lib/python3.9/site-packages/lightgbm/basic.py:2065: UserWarning: Using categorical_feature in Dataset.\n",
      "  _log_warning('Using categorical_feature in Dataset.')\n"
     ]
    },
    {
     "name": "stdout",
     "output_type": "stream",
     "text": [
      "[CV 2/5; 4/10] END ......learning_rate=0.25, n_estimators=10; total time=  35.1s\n",
      "[CV 3/5; 4/10] START learning_rate=0.25, n_estimators=10........................\n"
     ]
    },
    {
     "name": "stderr",
     "output_type": "stream",
     "text": [
      "/opt/conda/lib/python3.9/site-packages/lightgbm/basic.py:2065: UserWarning: Using categorical_feature in Dataset.\n",
      "  _log_warning('Using categorical_feature in Dataset.')\n"
     ]
    },
    {
     "name": "stdout",
     "output_type": "stream",
     "text": [
      "[CV 3/5; 4/10] END ......learning_rate=0.25, n_estimators=10; total time=  30.6s\n",
      "[CV 4/5; 4/10] START learning_rate=0.25, n_estimators=10........................\n"
     ]
    },
    {
     "name": "stderr",
     "output_type": "stream",
     "text": [
      "/opt/conda/lib/python3.9/site-packages/lightgbm/basic.py:2065: UserWarning: Using categorical_feature in Dataset.\n",
      "  _log_warning('Using categorical_feature in Dataset.')\n"
     ]
    },
    {
     "name": "stdout",
     "output_type": "stream",
     "text": [
      "[CV 4/5; 4/10] END ......learning_rate=0.25, n_estimators=10; total time=  30.1s\n",
      "[CV 5/5; 4/10] START learning_rate=0.25, n_estimators=10........................\n"
     ]
    },
    {
     "name": "stderr",
     "output_type": "stream",
     "text": [
      "/opt/conda/lib/python3.9/site-packages/lightgbm/basic.py:2065: UserWarning: Using categorical_feature in Dataset.\n",
      "  _log_warning('Using categorical_feature in Dataset.')\n"
     ]
    },
    {
     "name": "stdout",
     "output_type": "stream",
     "text": [
      "[CV 5/5; 4/10] END ......learning_rate=0.25, n_estimators=10; total time=  35.7s\n",
      "[CV 1/5; 5/10] START learning_rate=0.75, n_estimators=20........................\n"
     ]
    },
    {
     "name": "stderr",
     "output_type": "stream",
     "text": [
      "/opt/conda/lib/python3.9/site-packages/lightgbm/basic.py:2065: UserWarning: Using categorical_feature in Dataset.\n",
      "  _log_warning('Using categorical_feature in Dataset.')\n"
     ]
    },
    {
     "name": "stdout",
     "output_type": "stream",
     "text": [
      "[CV 1/5; 5/10] END ......learning_rate=0.75, n_estimators=20; total time= 1.0min\n",
      "[CV 2/5; 5/10] START learning_rate=0.75, n_estimators=20........................\n"
     ]
    },
    {
     "name": "stderr",
     "output_type": "stream",
     "text": [
      "/opt/conda/lib/python3.9/site-packages/lightgbm/basic.py:2065: UserWarning: Using categorical_feature in Dataset.\n",
      "  _log_warning('Using categorical_feature in Dataset.')\n"
     ]
    },
    {
     "name": "stdout",
     "output_type": "stream",
     "text": [
      "[CV 2/5; 5/10] END ......learning_rate=0.75, n_estimators=20; total time=   1.9s\n",
      "[CV 3/5; 5/10] START learning_rate=0.75, n_estimators=20........................\n"
     ]
    },
    {
     "name": "stderr",
     "output_type": "stream",
     "text": [
      "/opt/conda/lib/python3.9/site-packages/lightgbm/basic.py:2065: UserWarning: Using categorical_feature in Dataset.\n",
      "  _log_warning('Using categorical_feature in Dataset.')\n"
     ]
    },
    {
     "name": "stdout",
     "output_type": "stream",
     "text": [
      "[CV 3/5; 5/10] END ......learning_rate=0.75, n_estimators=20; total time=   1.4s\n",
      "[CV 4/5; 5/10] START learning_rate=0.75, n_estimators=20........................\n"
     ]
    },
    {
     "name": "stderr",
     "output_type": "stream",
     "text": [
      "/opt/conda/lib/python3.9/site-packages/lightgbm/basic.py:2065: UserWarning: Using categorical_feature in Dataset.\n",
      "  _log_warning('Using categorical_feature in Dataset.')\n"
     ]
    },
    {
     "name": "stdout",
     "output_type": "stream",
     "text": [
      "[CV 4/5; 5/10] END ......learning_rate=0.75, n_estimators=20; total time=   1.4s\n",
      "[CV 5/5; 5/10] START learning_rate=0.75, n_estimators=20........................\n"
     ]
    },
    {
     "name": "stderr",
     "output_type": "stream",
     "text": [
      "/opt/conda/lib/python3.9/site-packages/lightgbm/basic.py:2065: UserWarning: Using categorical_feature in Dataset.\n",
      "  _log_warning('Using categorical_feature in Dataset.')\n"
     ]
    },
    {
     "name": "stdout",
     "output_type": "stream",
     "text": [
      "[CV 5/5; 5/10] END ......learning_rate=0.75, n_estimators=20; total time=   1.1s\n",
      "[CV 1/5; 6/10] START learning_rate=0.5, n_estimators=25.........................\n"
     ]
    },
    {
     "name": "stderr",
     "output_type": "stream",
     "text": [
      "/opt/conda/lib/python3.9/site-packages/lightgbm/basic.py:2065: UserWarning: Using categorical_feature in Dataset.\n",
      "  _log_warning('Using categorical_feature in Dataset.')\n"
     ]
    },
    {
     "name": "stdout",
     "output_type": "stream",
     "text": [
      "[CV 1/5; 6/10] END .......learning_rate=0.5, n_estimators=25; total time=   1.6s\n",
      "[CV 2/5; 6/10] START learning_rate=0.5, n_estimators=25.........................\n"
     ]
    },
    {
     "name": "stderr",
     "output_type": "stream",
     "text": [
      "/opt/conda/lib/python3.9/site-packages/lightgbm/basic.py:2065: UserWarning: Using categorical_feature in Dataset.\n",
      "  _log_warning('Using categorical_feature in Dataset.')\n"
     ]
    },
    {
     "name": "stdout",
     "output_type": "stream",
     "text": [
      "[CV 2/5; 6/10] END .......learning_rate=0.5, n_estimators=25; total time=   1.5s\n",
      "[CV 3/5; 6/10] START learning_rate=0.5, n_estimators=25.........................\n"
     ]
    },
    {
     "name": "stderr",
     "output_type": "stream",
     "text": [
      "/opt/conda/lib/python3.9/site-packages/lightgbm/basic.py:2065: UserWarning: Using categorical_feature in Dataset.\n",
      "  _log_warning('Using categorical_feature in Dataset.')\n"
     ]
    },
    {
     "name": "stdout",
     "output_type": "stream",
     "text": [
      "[CV 3/5; 6/10] END .......learning_rate=0.5, n_estimators=25; total time=   1.3s\n",
      "[CV 4/5; 6/10] START learning_rate=0.5, n_estimators=25.........................\n"
     ]
    },
    {
     "name": "stderr",
     "output_type": "stream",
     "text": [
      "/opt/conda/lib/python3.9/site-packages/lightgbm/basic.py:2065: UserWarning: Using categorical_feature in Dataset.\n",
      "  _log_warning('Using categorical_feature in Dataset.')\n"
     ]
    },
    {
     "name": "stdout",
     "output_type": "stream",
     "text": [
      "[CV 4/5; 6/10] END .......learning_rate=0.5, n_estimators=25; total time=   1.4s\n",
      "[CV 5/5; 6/10] START learning_rate=0.5, n_estimators=25.........................\n"
     ]
    },
    {
     "name": "stderr",
     "output_type": "stream",
     "text": [
      "/opt/conda/lib/python3.9/site-packages/lightgbm/basic.py:2065: UserWarning: Using categorical_feature in Dataset.\n",
      "  _log_warning('Using categorical_feature in Dataset.')\n"
     ]
    },
    {
     "name": "stdout",
     "output_type": "stream",
     "text": [
      "[CV 5/5; 6/10] END .......learning_rate=0.5, n_estimators=25; total time=   1.3s\n",
      "[CV 1/5; 7/10] START learning_rate=0.5, n_estimators=10.........................\n"
     ]
    },
    {
     "name": "stderr",
     "output_type": "stream",
     "text": [
      "/opt/conda/lib/python3.9/site-packages/lightgbm/basic.py:2065: UserWarning: Using categorical_feature in Dataset.\n",
      "  _log_warning('Using categorical_feature in Dataset.')\n"
     ]
    },
    {
     "name": "stdout",
     "output_type": "stream",
     "text": [
      "[CV 1/5; 7/10] END .......learning_rate=0.5, n_estimators=10; total time=   1.0s\n",
      "[CV 2/5; 7/10] START learning_rate=0.5, n_estimators=10.........................\n"
     ]
    },
    {
     "name": "stderr",
     "output_type": "stream",
     "text": [
      "/opt/conda/lib/python3.9/site-packages/lightgbm/basic.py:2065: UserWarning: Using categorical_feature in Dataset.\n",
      "  _log_warning('Using categorical_feature in Dataset.')\n"
     ]
    },
    {
     "name": "stdout",
     "output_type": "stream",
     "text": [
      "[CV 2/5; 7/10] END .......learning_rate=0.5, n_estimators=10; total time=   1.1s\n",
      "[CV 3/5; 7/10] START learning_rate=0.5, n_estimators=10.........................\n"
     ]
    },
    {
     "name": "stderr",
     "output_type": "stream",
     "text": [
      "/opt/conda/lib/python3.9/site-packages/lightgbm/basic.py:2065: UserWarning: Using categorical_feature in Dataset.\n",
      "  _log_warning('Using categorical_feature in Dataset.')\n"
     ]
    },
    {
     "name": "stdout",
     "output_type": "stream",
     "text": [
      "[CV 3/5; 7/10] END .......learning_rate=0.5, n_estimators=10; total time=   0.9s\n",
      "[CV 4/5; 7/10] START learning_rate=0.5, n_estimators=10.........................\n"
     ]
    },
    {
     "name": "stderr",
     "output_type": "stream",
     "text": [
      "/opt/conda/lib/python3.9/site-packages/lightgbm/basic.py:2065: UserWarning: Using categorical_feature in Dataset.\n",
      "  _log_warning('Using categorical_feature in Dataset.')\n"
     ]
    },
    {
     "name": "stdout",
     "output_type": "stream",
     "text": [
      "[CV 4/5; 7/10] END .......learning_rate=0.5, n_estimators=10; total time=   0.9s\n",
      "[CV 5/5; 7/10] START learning_rate=0.5, n_estimators=10.........................\n"
     ]
    },
    {
     "name": "stderr",
     "output_type": "stream",
     "text": [
      "/opt/conda/lib/python3.9/site-packages/lightgbm/basic.py:2065: UserWarning: Using categorical_feature in Dataset.\n",
      "  _log_warning('Using categorical_feature in Dataset.')\n"
     ]
    },
    {
     "name": "stdout",
     "output_type": "stream",
     "text": [
      "[CV 5/5; 7/10] END .......learning_rate=0.5, n_estimators=10; total time=   1.0s\n",
      "[CV 1/5; 8/10] START learning_rate=0.75, n_estimators=25........................\n"
     ]
    },
    {
     "name": "stderr",
     "output_type": "stream",
     "text": [
      "/opt/conda/lib/python3.9/site-packages/lightgbm/basic.py:2065: UserWarning: Using categorical_feature in Dataset.\n",
      "  _log_warning('Using categorical_feature in Dataset.')\n"
     ]
    },
    {
     "name": "stdout",
     "output_type": "stream",
     "text": [
      "[CV 1/5; 8/10] END ......learning_rate=0.75, n_estimators=25; total time=   1.5s\n",
      "[CV 2/5; 8/10] START learning_rate=0.75, n_estimators=25........................\n"
     ]
    },
    {
     "name": "stderr",
     "output_type": "stream",
     "text": [
      "/opt/conda/lib/python3.9/site-packages/lightgbm/basic.py:2065: UserWarning: Using categorical_feature in Dataset.\n",
      "  _log_warning('Using categorical_feature in Dataset.')\n"
     ]
    },
    {
     "name": "stdout",
     "output_type": "stream",
     "text": [
      "[CV 2/5; 8/10] END ......learning_rate=0.75, n_estimators=25; total time=   1.4s\n",
      "[CV 3/5; 8/10] START learning_rate=0.75, n_estimators=25........................\n"
     ]
    },
    {
     "name": "stderr",
     "output_type": "stream",
     "text": [
      "/opt/conda/lib/python3.9/site-packages/lightgbm/basic.py:2065: UserWarning: Using categorical_feature in Dataset.\n",
      "  _log_warning('Using categorical_feature in Dataset.')\n"
     ]
    },
    {
     "name": "stdout",
     "output_type": "stream",
     "text": [
      "[CV 3/5; 8/10] END ......learning_rate=0.75, n_estimators=25; total time=   1.3s\n",
      "[CV 4/5; 8/10] START learning_rate=0.75, n_estimators=25........................\n"
     ]
    },
    {
     "name": "stderr",
     "output_type": "stream",
     "text": [
      "/opt/conda/lib/python3.9/site-packages/lightgbm/basic.py:2065: UserWarning: Using categorical_feature in Dataset.\n",
      "  _log_warning('Using categorical_feature in Dataset.')\n"
     ]
    },
    {
     "name": "stdout",
     "output_type": "stream",
     "text": [
      "[CV 4/5; 8/10] END ......learning_rate=0.75, n_estimators=25; total time=   1.8s\n",
      "[CV 5/5; 8/10] START learning_rate=0.75, n_estimators=25........................\n"
     ]
    },
    {
     "name": "stderr",
     "output_type": "stream",
     "text": [
      "/opt/conda/lib/python3.9/site-packages/lightgbm/basic.py:2065: UserWarning: Using categorical_feature in Dataset.\n",
      "  _log_warning('Using categorical_feature in Dataset.')\n"
     ]
    },
    {
     "name": "stdout",
     "output_type": "stream",
     "text": [
      "[CV 5/5; 8/10] END ......learning_rate=0.75, n_estimators=25; total time=   2.8s\n",
      "[CV 1/5; 9/10] START learning_rate=0.75, n_estimators=10........................\n"
     ]
    },
    {
     "name": "stderr",
     "output_type": "stream",
     "text": [
      "/opt/conda/lib/python3.9/site-packages/lightgbm/basic.py:2065: UserWarning: Using categorical_feature in Dataset.\n",
      "  _log_warning('Using categorical_feature in Dataset.')\n"
     ]
    },
    {
     "name": "stdout",
     "output_type": "stream",
     "text": [
      "[CV 1/5; 9/10] END ......learning_rate=0.75, n_estimators=10; total time=   0.9s\n",
      "[CV 2/5; 9/10] START learning_rate=0.75, n_estimators=10........................\n"
     ]
    },
    {
     "name": "stderr",
     "output_type": "stream",
     "text": [
      "/opt/conda/lib/python3.9/site-packages/lightgbm/basic.py:2065: UserWarning: Using categorical_feature in Dataset.\n",
      "  _log_warning('Using categorical_feature in Dataset.')\n"
     ]
    },
    {
     "name": "stdout",
     "output_type": "stream",
     "text": [
      "[CV 2/5; 9/10] END ......learning_rate=0.75, n_estimators=10; total time=   2.8s\n",
      "[CV 3/5; 9/10] START learning_rate=0.75, n_estimators=10........................\n"
     ]
    },
    {
     "name": "stderr",
     "output_type": "stream",
     "text": [
      "/opt/conda/lib/python3.9/site-packages/lightgbm/basic.py:2065: UserWarning: Using categorical_feature in Dataset.\n",
      "  _log_warning('Using categorical_feature in Dataset.')\n"
     ]
    },
    {
     "name": "stdout",
     "output_type": "stream",
     "text": [
      "[CV 3/5; 9/10] END ......learning_rate=0.75, n_estimators=10; total time=   0.9s\n",
      "[CV 4/5; 9/10] START learning_rate=0.75, n_estimators=10........................\n"
     ]
    },
    {
     "name": "stderr",
     "output_type": "stream",
     "text": [
      "/opt/conda/lib/python3.9/site-packages/lightgbm/basic.py:2065: UserWarning: Using categorical_feature in Dataset.\n",
      "  _log_warning('Using categorical_feature in Dataset.')\n"
     ]
    },
    {
     "name": "stdout",
     "output_type": "stream",
     "text": [
      "[CV 4/5; 9/10] END ......learning_rate=0.75, n_estimators=10; total time=   2.8s\n",
      "[CV 5/5; 9/10] START learning_rate=0.75, n_estimators=10........................\n"
     ]
    },
    {
     "name": "stderr",
     "output_type": "stream",
     "text": [
      "/opt/conda/lib/python3.9/site-packages/lightgbm/basic.py:2065: UserWarning: Using categorical_feature in Dataset.\n",
      "  _log_warning('Using categorical_feature in Dataset.')\n"
     ]
    },
    {
     "name": "stdout",
     "output_type": "stream",
     "text": [
      "[CV 5/5; 9/10] END ......learning_rate=0.75, n_estimators=10; total time=   1.4s\n",
      "[CV 1/5; 10/10] START learning_rate=0.25, n_estimators=25.......................\n"
     ]
    },
    {
     "name": "stderr",
     "output_type": "stream",
     "text": [
      "/opt/conda/lib/python3.9/site-packages/lightgbm/basic.py:2065: UserWarning: Using categorical_feature in Dataset.\n",
      "  _log_warning('Using categorical_feature in Dataset.')\n"
     ]
    },
    {
     "name": "stdout",
     "output_type": "stream",
     "text": [
      "[CV 1/5; 10/10] END .....learning_rate=0.25, n_estimators=25; total time=   1.4s\n",
      "[CV 2/5; 10/10] START learning_rate=0.25, n_estimators=25.......................\n"
     ]
    },
    {
     "name": "stderr",
     "output_type": "stream",
     "text": [
      "/opt/conda/lib/python3.9/site-packages/lightgbm/basic.py:2065: UserWarning: Using categorical_feature in Dataset.\n",
      "  _log_warning('Using categorical_feature in Dataset.')\n"
     ]
    },
    {
     "name": "stdout",
     "output_type": "stream",
     "text": [
      "[CV 2/5; 10/10] END .....learning_rate=0.25, n_estimators=25; total time=   1.4s\n",
      "[CV 3/5; 10/10] START learning_rate=0.25, n_estimators=25.......................\n"
     ]
    },
    {
     "name": "stderr",
     "output_type": "stream",
     "text": [
      "/opt/conda/lib/python3.9/site-packages/lightgbm/basic.py:2065: UserWarning: Using categorical_feature in Dataset.\n",
      "  _log_warning('Using categorical_feature in Dataset.')\n"
     ]
    },
    {
     "name": "stdout",
     "output_type": "stream",
     "text": [
      "[CV 3/5; 10/10] END .....learning_rate=0.25, n_estimators=25; total time=   1.5s\n",
      "[CV 4/5; 10/10] START learning_rate=0.25, n_estimators=25.......................\n"
     ]
    },
    {
     "name": "stderr",
     "output_type": "stream",
     "text": [
      "/opt/conda/lib/python3.9/site-packages/lightgbm/basic.py:2065: UserWarning: Using categorical_feature in Dataset.\n",
      "  _log_warning('Using categorical_feature in Dataset.')\n"
     ]
    },
    {
     "name": "stdout",
     "output_type": "stream",
     "text": [
      "[CV 4/5; 10/10] END .....learning_rate=0.25, n_estimators=25; total time=   3.9s\n",
      "[CV 5/5; 10/10] START learning_rate=0.25, n_estimators=25.......................\n"
     ]
    },
    {
     "name": "stderr",
     "output_type": "stream",
     "text": [
      "/opt/conda/lib/python3.9/site-packages/lightgbm/basic.py:2065: UserWarning: Using categorical_feature in Dataset.\n",
      "  _log_warning('Using categorical_feature in Dataset.')\n"
     ]
    },
    {
     "name": "stdout",
     "output_type": "stream",
     "text": [
      "[CV 5/5; 10/10] END .....learning_rate=0.25, n_estimators=25; total time=  12.6s\n"
     ]
    },
    {
     "name": "stderr",
     "output_type": "stream",
     "text": [
      "/opt/conda/lib/python3.9/site-packages/lightgbm/basic.py:2065: UserWarning: Using categorical_feature in Dataset.\n",
      "  _log_warning('Using categorical_feature in Dataset.')\n"
     ]
    },
    {
     "name": "stdout",
     "output_type": "stream",
     "text": [
      "LightGBM without OHE\n",
      "Best parameters: {'n_estimators': 25, 'learning_rate': 0.5}\n",
      "RMSE: 1711.65\n",
      "CPU times: user 18min 33s, sys: 10.5 s, total: 18min 43s\n",
      "Wall time: 18min 53s\n"
     ]
    }
   ],
   "source": [
    "%%time\n",
    "# LightGBM without OHE\n",
    "lg_model_2 = lgb.LGBMRegressor(random_state=42)\n",
    "params = { 'n_estimators': range(10, 30, 5), 'learning_rate': [.25, .5, .75] }\n",
    "\n",
    "best_model = RandomizedSearchCV(lg_model_2, params, scoring=rmse, cv=5, verbose=10)\n",
    "best_model.fit(features_train1, target_train1, categorical_feature=list_cat)  \n",
    "predictions = best_model.best_estimator_.predict(features_valid1)\n",
    "\n",
    "print('LightGBM without OHE')\n",
    "print('Best parameters:', best_model.best_params_)\n",
    "print('RMSE:', round(mean_squared_error(target_valid1, predictions) ** 0.5, 2))"
   ]
  },
  {
   "cell_type": "markdown",
   "metadata": {},
   "source": [
    "* Fitting the Model with the best selected parameters:"
   ]
  },
  {
   "cell_type": "code",
   "execution_count": 62,
   "metadata": {},
   "outputs": [
    {
     "name": "stdout",
     "output_type": "stream",
     "text": [
      "Random Forest Regressor with test data\n",
      "RMSE: 1610.9908923566247 Training time: 158.23585867881775 Prediction time: 1.2599332332611084\n",
      "CPU times: user 2min 38s, sys: 913 ms, total: 2min 39s\n",
      "Wall time: 2min 39s\n"
     ]
    }
   ],
   "source": [
    "%%time\n",
    "# random forest regressor with test data\n",
    "# Best parameters: {'n_estimators': 25}\n",
    "rf_test = RandomForestRegressor(random_state=42, n_estimators = 25)\n",
    "\n",
    "start = time.time()\n",
    "# fit with train and valid data\n",
    "rf_test.fit(pd.concat([features_train, features_valid]), pd.concat([target_train, target_valid]))\n",
    "end = time.time()\n",
    "test_rftt = end - start\n",
    "\n",
    "start = time.time()\n",
    "test_pred = rf_test.predict(features_test)\n",
    "end = time.time()\n",
    "test_rfpt = end - start\n",
    "\n",
    "test_rf_rmse_calc = mean_squared_error(target_test, test_pred)**0.5\n",
    "\n",
    "print('Random Forest Regressor with test data')\n",
    "print('RMSE:', test_rf_rmse_calc, 'Training time:', test_rftt, 'Prediction time:', test_rfpt)"
   ]
  },
  {
   "cell_type": "code",
   "execution_count": 63,
   "metadata": {},
   "outputs": [
    {
     "name": "stdout",
     "output_type": "stream",
     "text": [
      "0:\tlearn: 2898.0883795\ttotal: 63ms\tremaining: 1.51s\n",
      "1:\tlearn: 2460.8946742\ttotal: 102ms\tremaining: 1.17s\n",
      "2:\tlearn: 2297.6516730\ttotal: 138ms\tremaining: 1.01s\n",
      "3:\tlearn: 2188.2078311\ttotal: 175ms\tremaining: 919ms\n",
      "4:\tlearn: 2112.4989418\ttotal: 214ms\tremaining: 857ms\n",
      "5:\tlearn: 2069.9129869\ttotal: 250ms\tremaining: 792ms\n",
      "6:\tlearn: 2028.5056940\ttotal: 289ms\tremaining: 743ms\n",
      "7:\tlearn: 2005.1229248\ttotal: 321ms\tremaining: 681ms\n",
      "8:\tlearn: 1979.9296293\ttotal: 360ms\tremaining: 639ms\n",
      "9:\tlearn: 1961.2899268\ttotal: 397ms\tremaining: 595ms\n",
      "10:\tlearn: 1945.3311414\ttotal: 435ms\tremaining: 554ms\n",
      "11:\tlearn: 1935.7377314\ttotal: 468ms\tremaining: 507ms\n",
      "12:\tlearn: 1924.6830356\ttotal: 507ms\tremaining: 468ms\n",
      "13:\tlearn: 1912.4148157\ttotal: 549ms\tremaining: 432ms\n",
      "14:\tlearn: 1903.6343195\ttotal: 591ms\tremaining: 394ms\n",
      "15:\tlearn: 1896.6559678\ttotal: 627ms\tremaining: 353ms\n",
      "16:\tlearn: 1888.3898749\ttotal: 668ms\tremaining: 314ms\n",
      "17:\tlearn: 1877.8195824\ttotal: 709ms\tremaining: 276ms\n",
      "18:\tlearn: 1866.8376075\ttotal: 751ms\tremaining: 237ms\n",
      "19:\tlearn: 1857.3606604\ttotal: 789ms\tremaining: 197ms\n",
      "20:\tlearn: 1852.2260332\ttotal: 824ms\tremaining: 157ms\n",
      "21:\tlearn: 1842.5499487\ttotal: 861ms\tremaining: 117ms\n",
      "22:\tlearn: 1835.4319871\ttotal: 897ms\tremaining: 78ms\n",
      "23:\tlearn: 1824.6535066\ttotal: 944ms\tremaining: 39.3ms\n",
      "24:\tlearn: 1819.3809453\ttotal: 982ms\tremaining: 0us\n",
      "CatBoost with OHE with test data\n",
      "RMSE: 1822.563361305562 Training time: 3.082162857055664 Prediction time: 0.02696704864501953\n",
      "CPU times: user 2.35 s, sys: 32.1 ms, total: 2.39 s\n",
      "Wall time: 3.11 s\n"
     ]
    }
   ],
   "source": [
    "%%time\n",
    "# CatBoost with OHE with test data\n",
    "# Best parameters: {'n_estimators': 25, 'learning_rate': 0.75}\n",
    "cb_test = CatBoostRegressor(random_state=42, n_estimators=25, learning_rate=0.75)\n",
    "\n",
    "start = time.time()\n",
    "# use combined train and valid datasets to fit on\n",
    "cb_test.fit(pd.concat([features_train, features_valid]), pd.concat([target_train, target_valid]))\n",
    "end = time.time()\n",
    "test_cbohett = end - start\n",
    "\n",
    "start = time.time()\n",
    "test_pred = cb_test.predict(features_test)\n",
    "end = time.time()\n",
    "test_cbohept = end - start\n",
    "\n",
    "test_cbohe_rmse_calc = mean_squared_error(target_test, test_pred)**0.5\n",
    "\n",
    "print('CatBoost with OHE with test data')\n",
    "print('RMSE:', test_cbohe_rmse_calc, 'Training time:', test_cbohett, 'Prediction time:', test_cbohept)"
   ]
  },
  {
   "cell_type": "code",
   "execution_count": 64,
   "metadata": {},
   "outputs": [
    {
     "name": "stdout",
     "output_type": "stream",
     "text": [
      "0:\tlearn: 2893.8572149\ttotal: 112ms\tremaining: 2.68s\n",
      "1:\tlearn: 2425.4754092\ttotal: 202ms\tremaining: 2.32s\n",
      "2:\tlearn: 2255.0814460\ttotal: 298ms\tremaining: 2.18s\n",
      "3:\tlearn: 2172.5958363\ttotal: 392ms\tremaining: 2.06s\n",
      "4:\tlearn: 2105.9718029\ttotal: 470ms\tremaining: 1.88s\n",
      "5:\tlearn: 2061.8437014\ttotal: 551ms\tremaining: 1.74s\n",
      "6:\tlearn: 2038.6008391\ttotal: 637ms\tremaining: 1.64s\n",
      "7:\tlearn: 2001.3142850\ttotal: 716ms\tremaining: 1.52s\n",
      "8:\tlearn: 1974.3535316\ttotal: 798ms\tremaining: 1.42s\n",
      "9:\tlearn: 1955.5065248\ttotal: 877ms\tremaining: 1.31s\n",
      "10:\tlearn: 1937.6088286\ttotal: 961ms\tremaining: 1.22s\n",
      "11:\tlearn: 1917.9064598\ttotal: 1.04s\tremaining: 1.13s\n",
      "12:\tlearn: 1894.4823853\ttotal: 1.12s\tremaining: 1.03s\n",
      "13:\tlearn: 1882.8858174\ttotal: 1.19s\tremaining: 938ms\n",
      "14:\tlearn: 1876.4799495\ttotal: 1.27s\tremaining: 848ms\n",
      "15:\tlearn: 1865.7520487\ttotal: 1.35s\tremaining: 759ms\n",
      "16:\tlearn: 1854.4658514\ttotal: 1.42s\tremaining: 670ms\n",
      "17:\tlearn: 1848.1821082\ttotal: 1.5s\tremaining: 583ms\n",
      "18:\tlearn: 1839.6111779\ttotal: 1.57s\tremaining: 497ms\n",
      "19:\tlearn: 1831.6805764\ttotal: 1.65s\tremaining: 412ms\n",
      "20:\tlearn: 1823.8050090\ttotal: 1.72s\tremaining: 328ms\n",
      "21:\tlearn: 1816.9984154\ttotal: 1.8s\tremaining: 246ms\n",
      "22:\tlearn: 1811.4369262\ttotal: 1.89s\tremaining: 164ms\n",
      "23:\tlearn: 1802.8595511\ttotal: 1.96s\tremaining: 81.7ms\n",
      "24:\tlearn: 1798.5067903\ttotal: 2.04s\tremaining: 0us\n",
      "CatBoost without OHE with test data\n",
      "RMSE: 1793.5606078501316 Training time: 3.0702319145202637 Prediction time: 0.03883481025695801\n",
      "CPU times: user 2.35 s, sys: 55.8 ms, total: 2.4 s\n",
      "Wall time: 3.11 s\n"
     ]
    }
   ],
   "source": [
    "%%time\n",
    "# CatBoost without initial one hot encoding\n",
    "# Best parameters: {'n_estimators': 25, 'learning_rate': 0.75}\n",
    "\n",
    "start = time.time()\n",
    "# use combined train and valid datasets to fit on\n",
    "cb_test_2 = CatBoostRegressor(random_state=42, n_estimators=25, learning_rate=0.75)\n",
    "cb_test_2.fit(pd.concat([features_train1, features_valid1]), pd.concat([target_train1, target_valid1]), cat_features=list_cat)\n",
    "end = time.time()\n",
    "test_cbtt = end - start\n",
    "\n",
    "start = time.time()\n",
    "test_pred = cb_test_2.predict(features_test1)\n",
    "end = time.time()\n",
    "test_cbpt = end - start\n",
    "\n",
    "test_cb_rmse=mean_squared_error(target_test, test_pred)**0.5\n",
    "\n",
    "print('CatBoost without OHE with test data')\n",
    "print('RMSE:',test_cb_rmse, 'Training time:', test_cbtt, 'Prediction time:', test_cbpt) "
   ]
  },
  {
   "cell_type": "code",
   "execution_count": 65,
   "metadata": {},
   "outputs": [
    {
     "name": "stdout",
     "output_type": "stream",
     "text": [
      "LightGBM with OHE with test data\n",
      "RMSE: 1733.4845830811937 Training time: 87.95521759986877 Prediction time: 0.30660486221313477\n",
      "CPU times: user 1min 25s, sys: 1.7 s, total: 1min 27s\n",
      "Wall time: 1min 28s\n"
     ]
    }
   ],
   "source": [
    "%%time\n",
    "# lightGBM with OHE with test data\n",
    "# Best parameters: {'n_estimators': 25, 'learning_rate': 0.5}\n",
    "lgohe_test = lgb.LGBMRegressor(random_state=42, n_estimators=25, learning_rate=0.5)\n",
    "\n",
    "start = time.time()\n",
    "# fit model on combined data from train and valid\n",
    "lgohe_test.fit(pd.concat([features_train, features_valid]), pd.concat([target_train, target_valid]))\n",
    "end = time.time()\n",
    "test_lgohett = end - start\n",
    "\n",
    "start = time.time()\n",
    "test_pred = lgohe_test.predict(features_test)\n",
    "end = time.time()\n",
    "test_lgohept = end - start\n",
    "\n",
    "test_lgohe_rmse_calc = mean_squared_error(target_test, test_pred)**0.5\n",
    "\n",
    "print('LightGBM with OHE with test data')\n",
    "print('RMSE:', test_lgohe_rmse_calc, 'Training time:', test_lgohett, 'Prediction time:', test_lgohept)"
   ]
  },
  {
   "cell_type": "code",
   "execution_count": 66,
   "metadata": {},
   "outputs": [
    {
     "name": "stderr",
     "output_type": "stream",
     "text": [
      "/opt/conda/lib/python3.9/site-packages/lightgbm/basic.py:2065: UserWarning: Using categorical_feature in Dataset.\n",
      "  _log_warning('Using categorical_feature in Dataset.')\n"
     ]
    },
    {
     "name": "stdout",
     "output_type": "stream",
     "text": [
      "LightGBM without OHE\n",
      "RMSE: 1694.6792063955672 Training time: 86.89981365203857 Prediction time: 0.2788047790527344\n",
      "CPU times: user 1min 25s, sys: 1.03 s, total: 1min 26s\n",
      "Wall time: 1min 27s\n"
     ]
    }
   ],
   "source": [
    "%%time\n",
    "# lightGBM without OHE with test data\n",
    "# Best parameters: {'n_estimators': 25, 'learning_rate': 0.25}\n",
    "lg_test = lgb.LGBMRegressor(random_state=42, n_estimators=25, learning_rate=0.25)\n",
    "\n",
    "start = time.time()\n",
    "# fit on combined data from train and valid\n",
    "lg_test.fit(pd.concat([features_train1, features_valid1]), pd.concat([target_train1, target_valid1]), categorical_feature=list_cat)\n",
    "end = time.time()\n",
    "test_lgtt = end - start\n",
    "\n",
    "start = time.time()\n",
    "test_pred = lg_test.predict(features_test1)\n",
    "end = time.time()\n",
    "test_lgpt = end - start\n",
    "\n",
    "test_lg_rmse_calc = mean_squared_error(target_test1, test_pred)**0.5\n",
    "\n",
    "print('LightGBM without OHE')\n",
    "print('RMSE:', test_lg_rmse_calc, 'Training time:', test_lgtt, 'Prediction time:', test_lgpt)"
   ]
  },
  {
   "cell_type": "code",
   "execution_count": 67,
   "metadata": {},
   "outputs": [
    {
     "name": "stdout",
     "output_type": "stream",
     "text": [
      "Linear Regression - Sanity Check on test data\n",
      "RMSE: 2911.5822236815206 Prediction time: 0.40154361724853516\n"
     ]
    }
   ],
   "source": [
    "# linear regression base model with test data\n",
    "start = time.time()\n",
    "predicted_test = lr_model.predict(features_test)\n",
    "end = time.time()\n",
    "test_lrpt = end - start\n",
    "\n",
    "test_lr_rmse_calc = mean_squared_error(target_test, predicted_test)**0.5\n",
    "\n",
    "print('Linear Regression - Sanity Check on test data')\n",
    "print('RMSE:', test_lr_rmse_calc, 'Prediction time:', test_lrpt)"
   ]
  },
  {
   "cell_type": "markdown",
   "metadata": {},
   "source": [
    "## Model analysis"
   ]
  },
  {
   "cell_type": "code",
   "execution_count": 68,
   "metadata": {},
   "outputs": [
    {
     "name": "stdout",
     "output_type": "stream",
     "text": [
      "Results with test data of base models\n",
      "\n",
      "Random Forest Regressor\n",
      "RMSE: 1637.1681637261606 Training time: 446.7893626689911 Prediction time: 4.471585512161255\n",
      "\n",
      "LightGBM with OHE\n",
      "RMSE: 1726.6530504000457 Training time: 322.7245354652405 Prediction time: 0.7187302112579346\n",
      "\n",
      "LightGBM without OHE\n",
      "RMSE: 1661.1798804914488 Training time: 304.41242814064026 Prediction time: 0.6013398170471191\n",
      "\n",
      "CatBoost with OHE\n",
      "RMSE: 1639.9786314398411 Training time: 32.960219860076904 Prediction time: 0.16595196723937988\n",
      "\n",
      "CatBoost without OHE\n",
      "RMSE: 1635.5431243365203 Training time: 149.42547154426575 Prediction time: 0.37122368812561035\n",
      "\n",
      "Linear Regression - Sanity Check\n",
      "RMSE: 2895.0483751307856 Training time: 21.69653344154358 Prediction time: 0.3407108783721924\n"
     ]
    }
   ],
   "source": [
    "print('Results with test data of base models\\n')\n",
    "\n",
    "print('Random Forest Regressor')\n",
    "print('RMSE:', rf_rmse_calc, 'Training time:', rftt, 'Prediction time:', rfpt)\n",
    "print('\\nLightGBM with OHE')\n",
    "print('RMSE:', lgohe_rmse_calc, 'Training time:', lgohett, 'Prediction time:', lgohept)\n",
    "print('\\nLightGBM without OHE')\n",
    "print('RMSE:', lg_rmse_calc, 'Training time:', lgtt, 'Prediction time:', lgpt)\n",
    "print('\\nCatBoost with OHE')\n",
    "print('RMSE:', cbohe_rmse_calc, 'Training time:', cbohett, 'Prediction time:', cbohept)\n",
    "print('\\nCatBoost without OHE')\n",
    "print('RMSE:', cb_rmse_calc, 'Training time:', cbtt, 'Prediction time:', cbpt)\n",
    "print('\\nLinear Regression - Sanity Check')\n",
    "print('RMSE:', lr_rmse_calc, 'Training time:', lrtt, 'Prediction time:', lrpt)\n"
   ]
  },
  {
   "cell_type": "code",
   "execution_count": 69,
   "metadata": {},
   "outputs": [
    {
     "name": "stdout",
     "output_type": "stream",
     "text": [
      "Results with test data of tuned models\n",
      "\n",
      "Random Forest Regressor with test data\n",
      "RMSE: 1610.9908923566247 Training time: 158.23585867881775 Prediction time: 1.2599332332611084\n",
      "\n",
      "CatBoost with OHE with test data\n",
      "RMSE: 1822.563361305562 Training time: 3.082162857055664 Prediction time: 0.02696704864501953\n",
      "\n",
      "CatBoost without OHE with test data\n",
      "RMSE: 1793.5606078501316 Training time: 3.0702319145202637 Prediction time: 0.03883481025695801\n",
      "\n",
      "LightGBM with OHE with test data\n",
      "RMSE: 1733.4845830811937 Training time: 87.95521759986877 Prediction time: 0.30660486221313477\n",
      "\n",
      "LightGBM without OHE\n",
      "RMSE: 1694.6792063955672 Training time: 86.89981365203857 Prediction time: 0.2788047790527344\n",
      "\n",
      "Linear Regression - Sanity Check on test data\n",
      "RMSE: 2911.5822236815206 Prediction time: 0.40154361724853516\n"
     ]
    }
   ],
   "source": [
    "\n",
    "print('Results with test data of tuned models\\n')\n",
    "\n",
    "print('Random Forest Regressor with test data')\n",
    "print('RMSE:', test_rf_rmse_calc, 'Training time:', test_rftt, 'Prediction time:', test_rfpt)\n",
    "\n",
    "print('\\nCatBoost with OHE with test data')\n",
    "print('RMSE:', test_cbohe_rmse_calc, 'Training time:', test_cbohett, 'Prediction time:', test_cbohept)\n",
    "\n",
    "print('\\nCatBoost without OHE with test data')\n",
    "print('RMSE:',test_cb_rmse, 'Training time:', test_cbtt, 'Prediction time:', test_cbpt)\n",
    "\n",
    "print('\\nLightGBM with OHE with test data')\n",
    "print('RMSE:', test_lgohe_rmse_calc, 'Training time:', test_lgohett, 'Prediction time:', test_lgohept)\n",
    "\n",
    "print('\\nLightGBM without OHE')\n",
    "print('RMSE:', test_lg_rmse_calc, 'Training time:', test_lgtt, 'Prediction time:', test_lgpt)\n",
    "\n",
    "print('\\nLinear Regression - Sanity Check on test data')\n",
    "print('RMSE:', test_lr_rmse_calc, 'Prediction time:', test_lrpt)"
   ]
  },
  {
   "cell_type": "markdown",
   "metadata": {},
   "source": [
    "# Conclusion "
   ]
  },
  {
   "cell_type": "markdown",
   "metadata": {},
   "source": [
    "* The objective of this project was to ultimately find the speed required for both training and prediction of different models as well as to evaluate each model based on RMSE. \n",
    "* We initially used the linear regression model as a sanity check to compare with the other main models we trained. Hyperparameter Tuning did improve the Random Forest Regressor model in terms of resulting a lower RMSE. However, hyperparameter tuning also increase the time for predictions and training. \n",
    "* The LightGBM models that were not applied with One Hot Encoding resulted in the best RMSE values. Regardless of using One Hot Encoding, we observed that LighGBM resulted in the highest speed for prediction, while Catboost had the lowest speed. \n",
    "* Although tuning hyperparameters for the Random Forest Regressor model resulted in the lowest RMSE value, the prediction time was very high. \n",
    "* Overall, we conclude that the LightGBM without the application of One Hot encoding would be the best fit model for this purpose. It is the quickest and are still considerably low enough to be considered good quality."
   ]
  },
  {
   "cell_type": "markdown",
   "metadata": {},
   "source": [
    "# Checklist"
   ]
  },
  {
   "cell_type": "markdown",
   "metadata": {},
   "source": [
    "Type 'x' to check. Then press Shift+Enter."
   ]
  },
  {
   "cell_type": "markdown",
   "metadata": {},
   "source": [
    "- [x]  Jupyter Notebook is open\n",
    "- [ ]  Code is error free\n",
    "- [ ]  The cells with the code have been arranged in order of execution\n",
    "- [ ]  The data has been downloaded and prepared\n",
    "- [ ]  The models have been trained\n",
    "- [ ]  The analysis of speed and quality of the models has been performed"
   ]
  }
 ],
 "metadata": {
  "ExecuteTimeLog": [
   {
    "duration": 43,
    "start_time": "2022-08-17T02:18:15.709Z"
   },
   {
    "duration": 71,
    "start_time": "2022-08-17T02:18:35.150Z"
   },
   {
    "duration": 62,
    "start_time": "2022-08-17T02:18:40.726Z"
   },
   {
    "duration": 81,
    "start_time": "2022-08-17T02:18:48.105Z"
   },
   {
    "duration": 153,
    "start_time": "2022-08-17T02:18:56.927Z"
   },
   {
    "duration": 372,
    "start_time": "2022-08-17T02:19:02.815Z"
   },
   {
    "duration": 2,
    "start_time": "2022-08-17T02:19:08.594Z"
   },
   {
    "duration": 938,
    "start_time": "2022-08-17T02:19:11.026Z"
   },
   {
    "duration": 28,
    "start_time": "2022-08-17T02:19:18.792Z"
   },
   {
    "duration": 93,
    "start_time": "2022-08-17T02:20:01.051Z"
   },
   {
    "duration": 91,
    "start_time": "2022-08-17T02:20:12.412Z"
   },
   {
    "duration": 96,
    "start_time": "2022-08-17T02:20:19.142Z"
   },
   {
    "duration": 1123,
    "start_time": "2022-08-17T02:23:23.933Z"
   },
   {
    "duration": 101,
    "start_time": "2022-08-17T02:23:39.678Z"
   },
   {
    "duration": 97,
    "start_time": "2022-08-17T02:23:43.556Z"
   },
   {
    "duration": 103,
    "start_time": "2022-08-17T02:24:30.276Z"
   },
   {
    "duration": 105,
    "start_time": "2022-08-17T02:24:38.474Z"
   },
   {
    "duration": 115,
    "start_time": "2022-08-17T02:24:46.200Z"
   },
   {
    "duration": 94,
    "start_time": "2022-08-17T02:25:14.351Z"
   },
   {
    "duration": 4,
    "start_time": "2022-08-17T02:26:09.074Z"
   },
   {
    "duration": 3,
    "start_time": "2022-08-17T02:26:14.465Z"
   },
   {
    "duration": 131,
    "start_time": "2022-08-17T02:26:25.817Z"
   },
   {
    "duration": 155,
    "start_time": "2022-08-17T02:26:44.690Z"
   },
   {
    "duration": 110,
    "start_time": "2022-08-17T02:26:50.953Z"
   },
   {
    "duration": 122,
    "start_time": "2022-08-17T02:27:15.670Z"
   },
   {
    "duration": 109,
    "start_time": "2022-08-17T02:27:21.256Z"
   },
   {
    "duration": 101,
    "start_time": "2022-08-17T02:27:26.738Z"
   },
   {
    "duration": 107,
    "start_time": "2022-08-17T02:27:31.304Z"
   },
   {
    "duration": 136,
    "start_time": "2022-08-17T02:28:00.501Z"
   },
   {
    "duration": 104,
    "start_time": "2022-08-17T02:28:53.444Z"
   },
   {
    "duration": 111,
    "start_time": "2022-08-17T02:29:00.428Z"
   },
   {
    "duration": 4,
    "start_time": "2022-08-17T02:39:19.521Z"
   },
   {
    "duration": 10,
    "start_time": "2022-08-17T02:39:32.239Z"
   },
   {
    "duration": 3,
    "start_time": "2022-08-17T02:39:45.950Z"
   },
   {
    "duration": 7,
    "start_time": "2022-08-17T02:40:01.069Z"
   },
   {
    "duration": 7,
    "start_time": "2022-08-17T02:40:08.915Z"
   },
   {
    "duration": 4,
    "start_time": "2022-08-17T02:41:06.478Z"
   },
   {
    "duration": 20,
    "start_time": "2022-08-17T02:41:13.252Z"
   },
   {
    "duration": 116,
    "start_time": "2022-08-17T02:41:38.971Z"
   },
   {
    "duration": 52,
    "start_time": "2022-08-17T02:44:47.632Z"
   },
   {
    "duration": 112,
    "start_time": "2022-08-17T02:44:56.373Z"
   },
   {
    "duration": 268,
    "start_time": "2022-08-17T02:45:40.714Z"
   },
   {
    "duration": 160,
    "start_time": "2022-08-17T02:45:49.104Z"
   },
   {
    "duration": 247,
    "start_time": "2022-08-17T02:45:54.672Z"
   },
   {
    "duration": 245,
    "start_time": "2022-08-17T02:46:25.023Z"
   },
   {
    "duration": 124,
    "start_time": "2022-08-17T02:46:37.513Z"
   },
   {
    "duration": 105,
    "start_time": "2022-08-17T02:46:57.313Z"
   },
   {
    "duration": 439,
    "start_time": "2022-08-17T02:47:03.545Z"
   },
   {
    "duration": 316,
    "start_time": "2022-08-17T02:47:22.123Z"
   },
   {
    "duration": 432,
    "start_time": "2022-08-17T20:32:02.510Z"
   },
   {
    "duration": 3713,
    "start_time": "2022-08-17T20:32:02.944Z"
   },
   {
    "duration": 40,
    "start_time": "2022-08-17T20:32:06.659Z"
   },
   {
    "duration": 86,
    "start_time": "2022-08-17T20:32:06.702Z"
   },
   {
    "duration": 205,
    "start_time": "2022-08-17T20:32:06.795Z"
   },
   {
    "duration": 423,
    "start_time": "2022-08-17T20:32:07.002Z"
   },
   {
    "duration": 448,
    "start_time": "2022-08-17T20:39:42.894Z"
   },
   {
    "duration": 446,
    "start_time": "2022-08-17T20:39:50.637Z"
   },
   {
    "duration": 910,
    "start_time": "2022-08-17T20:40:01.660Z"
   },
   {
    "duration": 121,
    "start_time": "2022-08-17T20:46:22.719Z"
   },
   {
    "duration": 240,
    "start_time": "2022-08-17T20:46:58.082Z"
   },
   {
    "duration": 1728,
    "start_time": "2022-08-17T20:49:23.934Z"
   },
   {
    "duration": 104,
    "start_time": "2022-08-18T02:07:42.810Z"
   },
   {
    "duration": 93,
    "start_time": "2022-08-18T02:07:50.902Z"
   },
   {
    "duration": 106,
    "start_time": "2022-08-18T02:08:08.861Z"
   },
   {
    "duration": 100,
    "start_time": "2022-08-18T02:08:18.336Z"
   },
   {
    "duration": 96,
    "start_time": "2022-08-18T02:08:37.496Z"
   },
   {
    "duration": 2,
    "start_time": "2022-08-18T02:09:53.217Z"
   },
   {
    "duration": 24,
    "start_time": "2022-08-18T02:13:53.737Z"
   },
   {
    "duration": 78,
    "start_time": "2022-08-18T02:15:39.898Z"
   },
   {
    "duration": 7,
    "start_time": "2022-08-18T02:15:42.308Z"
   },
   {
    "duration": 1377,
    "start_time": "2022-08-18T02:18:56.579Z"
   },
   {
    "duration": 5,
    "start_time": "2022-08-18T02:19:01.604Z"
   },
   {
    "duration": 29,
    "start_time": "2022-08-18T02:19:13.107Z"
   },
   {
    "duration": 29,
    "start_time": "2022-08-18T02:25:38.919Z"
   },
   {
    "duration": 24,
    "start_time": "2022-08-18T02:25:48.611Z"
   },
   {
    "duration": 27,
    "start_time": "2022-08-18T02:25:53.126Z"
   },
   {
    "duration": 22,
    "start_time": "2022-08-18T02:26:01.034Z"
   },
   {
    "duration": 1207,
    "start_time": "2022-08-18T02:26:50.736Z"
   },
   {
    "duration": 15,
    "start_time": "2022-08-18T02:27:24.608Z"
   },
   {
    "duration": 7,
    "start_time": "2022-08-18T02:27:42.762Z"
   },
   {
    "duration": 32,
    "start_time": "2022-08-18T02:29:15.209Z"
   },
   {
    "duration": 145,
    "start_time": "2022-08-18T02:29:22.656Z"
   },
   {
    "duration": 40,
    "start_time": "2022-08-18T02:29:53.833Z"
   },
   {
    "duration": 142,
    "start_time": "2022-08-18T02:30:07.715Z"
   },
   {
    "duration": 186,
    "start_time": "2022-08-18T02:30:26.037Z"
   },
   {
    "duration": 48,
    "start_time": "2022-08-18T02:33:09.802Z"
   },
   {
    "duration": 41,
    "start_time": "2022-08-18T02:33:15.464Z"
   },
   {
    "duration": 1429,
    "start_time": "2022-08-18T02:33:19.120Z"
   },
   {
    "duration": 170,
    "start_time": "2022-08-18T02:33:25.048Z"
   },
   {
    "duration": 1280,
    "start_time": "2022-08-18T02:33:28.079Z"
   },
   {
    "duration": 210,
    "start_time": "2022-08-18T02:33:44.823Z"
   },
   {
    "duration": 97,
    "start_time": "2022-08-18T02:33:45.346Z"
   },
   {
    "duration": 4,
    "start_time": "2022-08-18T02:33:46.489Z"
   },
   {
    "duration": 1188,
    "start_time": "2022-08-18T02:33:48.444Z"
   },
   {
    "duration": 640,
    "start_time": "2022-08-18T02:34:20.513Z"
   },
   {
    "duration": 213,
    "start_time": "2022-08-18T02:34:21.156Z"
   },
   {
    "duration": 96,
    "start_time": "2022-08-18T02:34:22.381Z"
   },
   {
    "duration": 4,
    "start_time": "2022-08-18T02:34:24.484Z"
   },
   {
    "duration": 1924,
    "start_time": "2022-08-18T02:34:26.679Z"
   },
   {
    "duration": 1397,
    "start_time": "2022-08-18T02:34:36.343Z"
   },
   {
    "duration": 661,
    "start_time": "2022-08-18T02:34:37.741Z"
   },
   {
    "duration": 23,
    "start_time": "2022-08-18T02:34:38.404Z"
   },
   {
    "duration": 64,
    "start_time": "2022-08-18T02:34:38.428Z"
   },
   {
    "duration": 134,
    "start_time": "2022-08-18T02:34:38.494Z"
   },
   {
    "duration": 334,
    "start_time": "2022-08-18T02:34:38.629Z"
   },
   {
    "duration": 708,
    "start_time": "2022-08-18T02:34:38.964Z"
   },
   {
    "duration": 206,
    "start_time": "2022-08-18T02:34:39.674Z"
   },
   {
    "duration": 111,
    "start_time": "2022-08-18T02:34:39.881Z"
   },
   {
    "duration": 8,
    "start_time": "2022-08-18T02:34:39.994Z"
   },
   {
    "duration": 53,
    "start_time": "2022-08-18T02:34:40.004Z"
   },
   {
    "duration": 34,
    "start_time": "2022-08-18T02:34:40.059Z"
   },
   {
    "duration": 157,
    "start_time": "2022-08-18T02:34:40.095Z"
   },
   {
    "duration": 138,
    "start_time": "2022-08-18T02:35:21.737Z"
   },
   {
    "duration": 5,
    "start_time": "2022-08-18T02:36:01.261Z"
   },
   {
    "duration": 2518,
    "start_time": "2022-08-18T02:36:25.224Z"
   },
   {
    "duration": 6,
    "start_time": "2022-08-18T02:36:32.283Z"
   },
   {
    "duration": 27,
    "start_time": "2022-08-18T02:36:44.190Z"
   },
   {
    "duration": 2016,
    "start_time": "2022-08-18T02:37:42.839Z"
   },
   {
    "duration": 5,
    "start_time": "2022-08-18T02:37:46.714Z"
   },
   {
    "duration": 5,
    "start_time": "2022-08-18T02:37:54.820Z"
   },
   {
    "duration": 12,
    "start_time": "2022-08-18T02:38:01.459Z"
   },
   {
    "duration": 15,
    "start_time": "2022-08-18T02:39:42.765Z"
   },
   {
    "duration": 25,
    "start_time": "2022-08-18T02:39:50.607Z"
   },
   {
    "duration": 44,
    "start_time": "2022-08-18T02:42:46.716Z"
   },
   {
    "duration": 46,
    "start_time": "2022-08-20T23:43:15.513Z"
   },
   {
    "duration": 1516,
    "start_time": "2022-08-20T23:43:26.092Z"
   },
   {
    "duration": 951,
    "start_time": "2022-08-20T23:43:27.610Z"
   },
   {
    "duration": 24,
    "start_time": "2022-08-20T23:43:28.562Z"
   },
   {
    "duration": 52,
    "start_time": "2022-08-20T23:43:28.588Z"
   },
   {
    "duration": 134,
    "start_time": "2022-08-20T23:43:28.642Z"
   },
   {
    "duration": 342,
    "start_time": "2022-08-20T23:43:28.777Z"
   },
   {
    "duration": 668,
    "start_time": "2022-08-20T23:43:29.122Z"
   },
   {
    "duration": 199,
    "start_time": "2022-08-20T23:43:29.792Z"
   },
   {
    "duration": 116,
    "start_time": "2022-08-20T23:43:29.993Z"
   },
   {
    "duration": 4,
    "start_time": "2022-08-20T23:43:30.112Z"
   },
   {
    "duration": 56,
    "start_time": "2022-08-20T23:43:30.117Z"
   },
   {
    "duration": 41,
    "start_time": "2022-08-20T23:43:30.175Z"
   },
   {
    "duration": 162,
    "start_time": "2022-08-20T23:43:30.218Z"
   },
   {
    "duration": 30,
    "start_time": "2022-08-20T23:43:30.382Z"
   },
   {
    "duration": 45,
    "start_time": "2022-08-20T23:43:30.414Z"
   },
   {
    "duration": 41885,
    "start_time": "2022-08-20T23:54:09.773Z"
   },
   {
    "duration": 27,
    "start_time": "2022-08-21T00:00:46.247Z"
   },
   {
    "duration": 26,
    "start_time": "2022-08-21T00:00:56.389Z"
   },
   {
    "duration": 27,
    "start_time": "2022-08-21T00:01:02.915Z"
   },
   {
    "duration": 63,
    "start_time": "2022-08-21T00:02:37.116Z"
   },
   {
    "duration": 19,
    "start_time": "2022-08-21T00:05:14.002Z"
   },
   {
    "duration": 25,
    "start_time": "2022-08-21T00:06:27.168Z"
   },
   {
    "duration": 5,
    "start_time": "2022-08-21T00:06:37.198Z"
   },
   {
    "duration": 45,
    "start_time": "2022-08-21T00:10:10.091Z"
   },
   {
    "duration": 43,
    "start_time": "2022-08-21T00:10:26.203Z"
   },
   {
    "duration": 116,
    "start_time": "2022-08-21T00:10:32.474Z"
   },
   {
    "duration": 14,
    "start_time": "2022-08-21T00:10:37.517Z"
   },
   {
    "duration": 14,
    "start_time": "2022-08-21T00:10:41.964Z"
   },
   {
    "duration": 18,
    "start_time": "2022-08-21T00:10:47.343Z"
   },
   {
    "duration": 24,
    "start_time": "2022-08-21T00:11:10.331Z"
   },
   {
    "duration": 48,
    "start_time": "2022-08-21T00:11:20.471Z"
   },
   {
    "duration": 19,
    "start_time": "2022-08-21T00:11:22.933Z"
   },
   {
    "duration": 1980,
    "start_time": "2022-08-21T00:11:38.516Z"
   },
   {
    "duration": 32,
    "start_time": "2022-08-21T00:12:34.431Z"
   },
   {
    "duration": 76,
    "start_time": "2022-08-21T00:12:34.465Z"
   },
   {
    "duration": 140,
    "start_time": "2022-08-21T00:12:34.542Z"
   },
   {
    "duration": 353,
    "start_time": "2022-08-21T00:12:34.684Z"
   },
   {
    "duration": 708,
    "start_time": "2022-08-21T00:12:35.039Z"
   },
   {
    "duration": 208,
    "start_time": "2022-08-21T00:12:35.748Z"
   },
   {
    "duration": 101,
    "start_time": "2022-08-21T00:12:35.958Z"
   },
   {
    "duration": 3,
    "start_time": "2022-08-21T00:12:36.060Z"
   },
   {
    "duration": 66,
    "start_time": "2022-08-21T00:12:36.064Z"
   },
   {
    "duration": 27,
    "start_time": "2022-08-21T00:12:36.132Z"
   },
   {
    "duration": 163,
    "start_time": "2022-08-21T00:12:36.162Z"
   },
   {
    "duration": 29,
    "start_time": "2022-08-21T00:12:36.327Z"
   },
   {
    "duration": 26,
    "start_time": "2022-08-21T00:12:36.357Z"
   },
   {
    "duration": 56,
    "start_time": "2022-08-21T00:12:36.401Z"
   },
   {
    "duration": 41,
    "start_time": "2022-08-21T00:12:36.460Z"
   },
   {
    "duration": 609,
    "start_time": "2022-08-21T00:12:36.509Z"
   },
   {
    "duration": 6,
    "start_time": "2022-08-21T00:12:37.120Z"
   },
   {
    "duration": 652,
    "start_time": "2022-08-21T00:12:40.405Z"
   },
   {
    "duration": 26,
    "start_time": "2022-08-21T00:12:41.059Z"
   },
   {
    "duration": 23,
    "start_time": "2022-08-21T00:12:41.323Z"
   },
   {
    "duration": 129,
    "start_time": "2022-08-21T00:12:41.723Z"
   },
   {
    "duration": 330,
    "start_time": "2022-08-21T00:12:42.759Z"
   },
   {
    "duration": 631,
    "start_time": "2022-08-21T00:12:43.369Z"
   },
   {
    "duration": 221,
    "start_time": "2022-08-21T00:12:44.002Z"
   },
   {
    "duration": 101,
    "start_time": "2022-08-21T00:12:44.334Z"
   },
   {
    "duration": 3,
    "start_time": "2022-08-21T00:12:44.805Z"
   },
   {
    "duration": 38,
    "start_time": "2022-08-21T00:12:45.859Z"
   },
   {
    "duration": 29,
    "start_time": "2022-08-21T00:12:47.261Z"
   },
   {
    "duration": 139,
    "start_time": "2022-08-21T00:12:48.620Z"
   },
   {
    "duration": 29,
    "start_time": "2022-08-21T00:12:50.425Z"
   },
   {
    "duration": 28,
    "start_time": "2022-08-21T00:12:52.325Z"
   },
   {
    "duration": 54,
    "start_time": "2022-08-21T00:12:56.319Z"
   },
   {
    "duration": 35,
    "start_time": "2022-08-21T00:13:26.864Z"
   },
   {
    "duration": 251,
    "start_time": "2022-08-21T00:15:32.202Z"
   },
   {
    "duration": 80,
    "start_time": "2022-08-21T00:16:09.939Z"
   },
   {
    "duration": 37,
    "start_time": "2022-08-21T00:16:23.858Z"
   },
   {
    "duration": 71,
    "start_time": "2022-08-21T00:16:24.590Z"
   },
   {
    "duration": 1928,
    "start_time": "2022-08-21T00:16:34.775Z"
   },
   {
    "duration": 49728,
    "start_time": "2022-08-21T00:16:36.706Z"
   },
   {
    "duration": 656,
    "start_time": "2022-08-21T00:17:26.436Z"
   },
   {
    "duration": 35,
    "start_time": "2022-08-21T00:17:27.095Z"
   },
   {
    "duration": 52,
    "start_time": "2022-08-21T00:17:27.132Z"
   },
   {
    "duration": 148,
    "start_time": "2022-08-21T00:17:27.186Z"
   },
   {
    "duration": 395,
    "start_time": "2022-08-21T00:17:27.336Z"
   },
   {
    "duration": 864,
    "start_time": "2022-08-21T00:17:27.733Z"
   },
   {
    "duration": 255,
    "start_time": "2022-08-21T00:17:28.599Z"
   },
   {
    "duration": 128,
    "start_time": "2022-08-21T00:17:28.858Z"
   },
   {
    "duration": 12,
    "start_time": "2022-08-21T00:17:28.989Z"
   },
   {
    "duration": 58,
    "start_time": "2022-08-21T00:17:29.004Z"
   },
   {
    "duration": 39,
    "start_time": "2022-08-21T00:17:29.063Z"
   },
   {
    "duration": 174,
    "start_time": "2022-08-21T00:17:29.104Z"
   },
   {
    "duration": 30,
    "start_time": "2022-08-21T00:17:29.279Z"
   },
   {
    "duration": 31,
    "start_time": "2022-08-21T00:17:29.311Z"
   },
   {
    "duration": 69,
    "start_time": "2022-08-21T00:17:29.344Z"
   },
   {
    "duration": 37,
    "start_time": "2022-08-21T00:17:29.414Z"
   },
   {
    "duration": 352,
    "start_time": "2022-08-21T00:17:29.453Z"
   },
   {
    "duration": 49744,
    "start_time": "2022-08-21T18:55:14.873Z"
   },
   {
    "duration": 262,
    "start_time": "2022-08-21T18:56:04.619Z"
   },
   {
    "duration": 0,
    "start_time": "2022-08-21T18:56:04.884Z"
   },
   {
    "duration": 39059,
    "start_time": "2022-08-21T18:56:21.041Z"
   },
   {
    "duration": 50517,
    "start_time": "2022-08-21T18:57:00.102Z"
   },
   {
    "duration": 926,
    "start_time": "2022-08-21T18:57:50.621Z"
   },
   {
    "duration": 1011,
    "start_time": "2022-08-21T18:57:51.549Z"
   },
   {
    "duration": 2819,
    "start_time": "2022-08-21T18:57:52.562Z"
   },
   {
    "duration": 572,
    "start_time": "2022-08-21T18:57:55.385Z"
   },
   {
    "duration": 341,
    "start_time": "2022-08-21T18:57:55.959Z"
   },
   {
    "duration": 681,
    "start_time": "2022-08-21T18:57:56.301Z"
   },
   {
    "duration": 206,
    "start_time": "2022-08-21T18:57:56.983Z"
   },
   {
    "duration": 109,
    "start_time": "2022-08-21T18:57:57.191Z"
   },
   {
    "duration": 3,
    "start_time": "2022-08-21T18:57:57.301Z"
   },
   {
    "duration": 58,
    "start_time": "2022-08-21T18:57:57.306Z"
   },
   {
    "duration": 28,
    "start_time": "2022-08-21T18:57:57.365Z"
   },
   {
    "duration": 158,
    "start_time": "2022-08-21T18:57:57.395Z"
   },
   {
    "duration": 28,
    "start_time": "2022-08-21T18:57:57.555Z"
   },
   {
    "duration": 21,
    "start_time": "2022-08-21T18:57:57.585Z"
   },
   {
    "duration": 71,
    "start_time": "2022-08-21T18:57:57.607Z"
   },
   {
    "duration": 41,
    "start_time": "2022-08-21T18:57:57.680Z"
   },
   {
    "duration": 87,
    "start_time": "2022-08-21T18:57:57.723Z"
   },
   {
    "duration": 56,
    "start_time": "2022-08-21T18:57:57.812Z"
   },
   {
    "duration": 22,
    "start_time": "2022-08-21T18:58:10.039Z"
   },
   {
    "duration": 110,
    "start_time": "2022-08-21T18:58:17.648Z"
   },
   {
    "duration": 99,
    "start_time": "2022-08-21T18:58:21.154Z"
   },
   {
    "duration": 105,
    "start_time": "2022-08-21T18:58:37.689Z"
   },
   {
    "duration": 44,
    "start_time": "2022-08-21T18:58:43.721Z"
   },
   {
    "duration": 127,
    "start_time": "2022-08-21T18:58:47.745Z"
   },
   {
    "duration": 119,
    "start_time": "2022-08-21T18:59:01.995Z"
   },
   {
    "duration": 107,
    "start_time": "2022-08-21T18:59:05.979Z"
   },
   {
    "duration": 36,
    "start_time": "2022-08-21T19:01:09.468Z"
   },
   {
    "duration": 82,
    "start_time": "2022-08-21T19:01:13.577Z"
   },
   {
    "duration": 6,
    "start_time": "2022-08-21T19:01:28.555Z"
   },
   {
    "duration": 1221,
    "start_time": "2022-08-21T19:02:24.217Z"
   },
   {
    "duration": 889,
    "start_time": "2022-08-21T19:02:28.293Z"
   },
   {
    "duration": 41,
    "start_time": "2022-08-21T19:02:37.338Z"
   },
   {
    "duration": 51,
    "start_time": "2022-08-21T19:02:53.659Z"
   },
   {
    "duration": 51,
    "start_time": "2022-08-21T19:02:58.700Z"
   },
   {
    "duration": 48,
    "start_time": "2022-08-21T19:03:04.449Z"
   },
   {
    "duration": 28,
    "start_time": "2022-08-21T19:03:27.182Z"
   },
   {
    "duration": 4,
    "start_time": "2022-08-21T19:10:50.406Z"
   },
   {
    "duration": 28,
    "start_time": "2022-08-21T19:11:01.883Z"
   },
   {
    "duration": 4,
    "start_time": "2022-08-21T19:11:04.976Z"
   },
   {
    "duration": 39,
    "start_time": "2022-08-21T19:11:13.000Z"
   },
   {
    "duration": 21,
    "start_time": "2022-08-21T19:11:16.329Z"
   },
   {
    "duration": 5,
    "start_time": "2022-08-21T19:11:25.239Z"
   },
   {
    "duration": 51,
    "start_time": "2022-08-21T19:11:47.502Z"
   },
   {
    "duration": 75,
    "start_time": "2022-08-21T19:11:50.301Z"
   },
   {
    "duration": 3,
    "start_time": "2022-08-21T19:12:21.320Z"
   },
   {
    "duration": 69,
    "start_time": "2022-08-21T19:12:35.785Z"
   },
   {
    "duration": 57,
    "start_time": "2022-08-21T19:12:48.958Z"
   },
   {
    "duration": 62,
    "start_time": "2022-08-21T19:12:54.161Z"
   },
   {
    "duration": 63,
    "start_time": "2022-08-21T19:13:16.247Z"
   },
   {
    "duration": 17,
    "start_time": "2022-08-21T19:13:21.564Z"
   },
   {
    "duration": 68,
    "start_time": "2022-08-21T19:13:29.617Z"
   },
   {
    "duration": 66,
    "start_time": "2022-08-21T19:13:34.618Z"
   },
   {
    "duration": 102,
    "start_time": "2022-08-21T19:14:44.651Z"
   },
   {
    "duration": 32,
    "start_time": "2022-08-21T19:18:21.335Z"
   },
   {
    "duration": 26,
    "start_time": "2022-08-21T19:18:48.846Z"
   },
   {
    "duration": 8,
    "start_time": "2022-08-21T19:19:15.985Z"
   },
   {
    "duration": 33,
    "start_time": "2022-08-21T19:19:19.932Z"
   },
   {
    "duration": 7,
    "start_time": "2022-08-21T19:19:21.660Z"
   },
   {
    "duration": 7,
    "start_time": "2022-08-21T19:19:58.303Z"
   },
   {
    "duration": 15,
    "start_time": "2022-08-21T19:20:03.920Z"
   },
   {
    "duration": 13,
    "start_time": "2022-08-21T19:20:07.733Z"
   },
   {
    "duration": 14,
    "start_time": "2022-08-21T19:20:18.162Z"
   },
   {
    "duration": 15,
    "start_time": "2022-08-21T19:20:24.885Z"
   },
   {
    "duration": 16,
    "start_time": "2022-08-21T19:20:33.519Z"
   },
   {
    "duration": 55,
    "start_time": "2022-08-21T19:21:15.299Z"
   },
   {
    "duration": 43,
    "start_time": "2022-08-21T19:21:27.970Z"
   },
   {
    "duration": 13,
    "start_time": "2022-08-21T19:21:36.837Z"
   },
   {
    "duration": 30,
    "start_time": "2022-08-21T19:21:38.815Z"
   },
   {
    "duration": 15,
    "start_time": "2022-08-21T19:23:57.206Z"
   },
   {
    "duration": 19,
    "start_time": "2022-08-21T19:24:01.262Z"
   },
   {
    "duration": 73,
    "start_time": "2022-08-21T19:24:19.134Z"
   },
   {
    "duration": 14,
    "start_time": "2022-08-21T19:24:29.184Z"
   },
   {
    "duration": 75,
    "start_time": "2022-08-21T19:24:30.763Z"
   },
   {
    "duration": 26,
    "start_time": "2022-08-21T19:25:06.137Z"
   },
   {
    "duration": 44,
    "start_time": "2022-08-21T19:25:37.354Z"
   },
   {
    "duration": 62,
    "start_time": "2022-08-21T19:25:39.660Z"
   },
   {
    "duration": 25,
    "start_time": "2022-08-21T19:25:53.505Z"
   },
   {
    "duration": 2121,
    "start_time": "2022-08-21T19:26:02.158Z"
   },
   {
    "duration": 78548,
    "start_time": "2022-08-21T19:26:04.282Z"
   },
   {
    "duration": 615,
    "start_time": "2022-08-21T19:27:22.832Z"
   },
   {
    "duration": 29,
    "start_time": "2022-08-21T19:27:23.449Z"
   },
   {
    "duration": 44,
    "start_time": "2022-08-21T19:27:23.480Z"
   },
   {
    "duration": 139,
    "start_time": "2022-08-21T19:27:23.525Z"
   },
   {
    "duration": 326,
    "start_time": "2022-08-21T19:27:23.665Z"
   },
   {
    "duration": 649,
    "start_time": "2022-08-21T19:27:23.993Z"
   },
   {
    "duration": 220,
    "start_time": "2022-08-21T19:27:24.644Z"
   },
   {
    "duration": 99,
    "start_time": "2022-08-21T19:27:24.866Z"
   },
   {
    "duration": 3,
    "start_time": "2022-08-21T19:27:24.967Z"
   },
   {
    "duration": 42,
    "start_time": "2022-08-21T19:27:24.972Z"
   },
   {
    "duration": 41,
    "start_time": "2022-08-21T19:27:25.016Z"
   },
   {
    "duration": 48,
    "start_time": "2022-08-21T19:27:25.059Z"
   },
   {
    "duration": 204,
    "start_time": "2022-08-21T19:27:25.109Z"
   },
   {
    "duration": 43,
    "start_time": "2022-08-21T19:27:25.315Z"
   },
   {
    "duration": 25,
    "start_time": "2022-08-21T19:27:25.360Z"
   },
   {
    "duration": 81,
    "start_time": "2022-08-21T19:27:25.387Z"
   },
   {
    "duration": 39,
    "start_time": "2022-08-21T19:27:25.470Z"
   },
   {
    "duration": 67,
    "start_time": "2022-08-21T19:27:25.511Z"
   },
   {
    "duration": 20,
    "start_time": "2022-08-21T19:27:25.580Z"
   },
   {
    "duration": 6,
    "start_time": "2022-08-21T19:27:25.602Z"
   },
   {
    "duration": 110,
    "start_time": "2022-08-21T19:27:25.609Z"
   },
   {
    "duration": 24,
    "start_time": "2022-08-21T19:27:25.721Z"
   },
   {
    "duration": 16,
    "start_time": "2022-08-21T19:27:25.747Z"
   },
   {
    "duration": 19,
    "start_time": "2022-08-21T19:27:25.766Z"
   },
   {
    "duration": 41,
    "start_time": "2022-08-21T19:27:25.787Z"
   },
   {
    "duration": 41,
    "start_time": "2022-08-21T19:27:25.831Z"
   },
   {
    "duration": 61,
    "start_time": "2022-08-21T19:27:25.873Z"
   },
   {
    "duration": 55,
    "start_time": "2022-08-21T19:29:39.451Z"
   },
   {
    "duration": 43,
    "start_time": "2022-08-21T19:29:41.804Z"
   },
   {
    "duration": 46,
    "start_time": "2022-08-21T19:29:48.030Z"
   },
   {
    "duration": 65,
    "start_time": "2022-08-21T19:29:50.305Z"
   },
   {
    "duration": 55,
    "start_time": "2022-08-21T19:30:37.130Z"
   },
   {
    "duration": 53,
    "start_time": "2022-08-21T19:30:41.090Z"
   },
   {
    "duration": 53,
    "start_time": "2022-08-21T19:30:46.841Z"
   },
   {
    "duration": 4,
    "start_time": "2022-08-21T19:31:14.202Z"
   },
   {
    "duration": 4,
    "start_time": "2022-08-21T19:31:19.403Z"
   },
   {
    "duration": 238,
    "start_time": "2022-08-21T19:31:28.139Z"
   },
   {
    "duration": 214,
    "start_time": "2022-08-21T19:31:32.667Z"
   },
   {
    "duration": 106,
    "start_time": "2022-08-21T19:31:44.679Z"
   },
   {
    "duration": 94,
    "start_time": "2022-08-21T19:31:49.051Z"
   },
   {
    "duration": 60,
    "start_time": "2022-08-21T19:32:41.867Z"
   },
   {
    "duration": 251,
    "start_time": "2022-08-21T19:44:28.346Z"
   },
   {
    "duration": 29,
    "start_time": "2022-08-21T19:44:32.643Z"
   },
   {
    "duration": 862,
    "start_time": "2022-08-21T19:45:10.283Z"
   },
   {
    "duration": 27,
    "start_time": "2022-08-21T19:45:18.926Z"
   },
   {
    "duration": 5,
    "start_time": "2022-08-21T19:45:52.525Z"
   },
   {
    "duration": 29,
    "start_time": "2022-08-21T19:46:08.209Z"
   },
   {
    "duration": 769,
    "start_time": "2022-08-21T19:48:13.316Z"
   },
   {
    "duration": 222,
    "start_time": "2022-08-21T19:48:29.542Z"
   },
   {
    "duration": 28,
    "start_time": "2022-08-21T19:48:52.525Z"
   },
   {
    "duration": 72,
    "start_time": "2022-08-21T20:04:31.035Z"
   },
   {
    "duration": 319,
    "start_time": "2022-08-21T20:06:05.218Z"
   },
   {
    "duration": 288,
    "start_time": "2022-08-21T20:06:15.220Z"
   },
   {
    "duration": 68,
    "start_time": "2022-08-21T20:06:31.547Z"
   },
   {
    "duration": 6,
    "start_time": "2022-08-21T20:06:46.153Z"
   },
   {
    "duration": 28,
    "start_time": "2022-08-21T20:06:51.470Z"
   },
   {
    "duration": 51,
    "start_time": "2022-08-21T20:07:00.159Z"
   },
   {
    "duration": 216,
    "start_time": "2022-08-21T20:08:59.499Z"
   },
   {
    "duration": 84,
    "start_time": "2022-08-21T20:09:05.677Z"
   },
   {
    "duration": 13,
    "start_time": "2022-08-21T20:11:45.673Z"
   },
   {
    "duration": 7,
    "start_time": "2022-08-21T20:11:53.688Z"
   },
   {
    "duration": 14,
    "start_time": "2022-08-21T20:11:57.708Z"
   },
   {
    "duration": 15,
    "start_time": "2022-08-21T20:12:10.976Z"
   },
   {
    "duration": 2,
    "start_time": "2022-08-21T20:12:15.985Z"
   },
   {
    "duration": 21,
    "start_time": "2022-08-21T20:12:21.075Z"
   },
   {
    "duration": 14,
    "start_time": "2022-08-21T20:12:26.422Z"
   },
   {
    "duration": 2025,
    "start_time": "2022-08-21T20:12:38.056Z"
   },
   {
    "duration": 686,
    "start_time": "2022-08-21T20:13:33.719Z"
   },
   {
    "duration": 27,
    "start_time": "2022-08-21T20:13:34.407Z"
   },
   {
    "duration": 60,
    "start_time": "2022-08-21T20:13:34.436Z"
   },
   {
    "duration": 131,
    "start_time": "2022-08-21T20:13:34.498Z"
   },
   {
    "duration": 332,
    "start_time": "2022-08-21T20:13:34.630Z"
   },
   {
    "duration": 749,
    "start_time": "2022-08-21T20:13:34.964Z"
   },
   {
    "duration": 219,
    "start_time": "2022-08-21T20:13:35.715Z"
   },
   {
    "duration": 110,
    "start_time": "2022-08-21T20:13:35.937Z"
   },
   {
    "duration": 3,
    "start_time": "2022-08-21T20:13:36.057Z"
   },
   {
    "duration": 44,
    "start_time": "2022-08-21T20:13:36.063Z"
   },
   {
    "duration": 29,
    "start_time": "2022-08-21T20:13:36.109Z"
   },
   {
    "duration": 88,
    "start_time": "2022-08-21T20:13:36.140Z"
   },
   {
    "duration": 168,
    "start_time": "2022-08-21T20:13:36.230Z"
   },
   {
    "duration": 58,
    "start_time": "2022-08-21T20:13:36.400Z"
   },
   {
    "duration": 28,
    "start_time": "2022-08-21T20:13:36.460Z"
   },
   {
    "duration": 70,
    "start_time": "2022-08-21T20:13:36.489Z"
   },
   {
    "duration": 30,
    "start_time": "2022-08-21T20:13:36.561Z"
   },
   {
    "duration": 44,
    "start_time": "2022-08-21T20:13:36.593Z"
   },
   {
    "duration": 37,
    "start_time": "2022-08-21T20:13:36.639Z"
   },
   {
    "duration": 5,
    "start_time": "2022-08-21T20:13:36.677Z"
   },
   {
    "duration": 99,
    "start_time": "2022-08-21T20:13:36.684Z"
   },
   {
    "duration": 22,
    "start_time": "2022-08-21T20:13:36.784Z"
   },
   {
    "duration": 8,
    "start_time": "2022-08-21T20:13:36.808Z"
   },
   {
    "duration": 40,
    "start_time": "2022-08-21T20:13:36.817Z"
   },
   {
    "duration": 33,
    "start_time": "2022-08-21T20:13:36.859Z"
   },
   {
    "duration": 63,
    "start_time": "2022-08-21T20:13:36.895Z"
   },
   {
    "duration": 76,
    "start_time": "2022-08-21T20:13:36.960Z"
   },
   {
    "duration": 70,
    "start_time": "2022-08-21T20:13:37.038Z"
   },
   {
    "duration": 27,
    "start_time": "2022-08-21T20:13:37.110Z"
   },
   {
    "duration": 55,
    "start_time": "2022-08-21T20:13:37.138Z"
   },
   {
    "duration": 30,
    "start_time": "2022-08-21T20:13:37.195Z"
   },
   {
    "duration": 295,
    "start_time": "2022-08-21T20:13:37.226Z"
   },
   {
    "duration": 35,
    "start_time": "2022-08-21T20:13:37.523Z"
   },
   {
    "duration": 59,
    "start_time": "2022-08-21T20:13:37.560Z"
   },
   {
    "duration": 247,
    "start_time": "2022-08-21T20:13:37.621Z"
   },
   {
    "duration": 72,
    "start_time": "2022-08-21T20:13:37.871Z"
   },
   {
    "duration": 40,
    "start_time": "2022-08-21T20:13:37.957Z"
   },
   {
    "duration": 234,
    "start_time": "2022-08-21T20:13:37.999Z"
   },
   {
    "duration": 66,
    "start_time": "2022-08-21T20:13:38.235Z"
   },
   {
    "duration": 5,
    "start_time": "2022-08-21T20:13:38.304Z"
   },
   {
    "duration": 24,
    "start_time": "2022-08-21T20:15:02.980Z"
   },
   {
    "duration": 60,
    "start_time": "2022-08-21T20:15:03.005Z"
   },
   {
    "duration": 142,
    "start_time": "2022-08-21T20:15:03.067Z"
   },
   {
    "duration": 324,
    "start_time": "2022-08-21T20:15:03.210Z"
   },
   {
    "duration": 673,
    "start_time": "2022-08-21T20:15:03.535Z"
   },
   {
    "duration": 211,
    "start_time": "2022-08-21T20:15:04.210Z"
   },
   {
    "duration": 101,
    "start_time": "2022-08-21T20:15:04.423Z"
   },
   {
    "duration": 3,
    "start_time": "2022-08-21T20:15:04.525Z"
   },
   {
    "duration": 56,
    "start_time": "2022-08-21T20:15:04.530Z"
   },
   {
    "duration": 27,
    "start_time": "2022-08-21T20:15:04.588Z"
   },
   {
    "duration": 56,
    "start_time": "2022-08-21T20:15:04.617Z"
   },
   {
    "duration": 152,
    "start_time": "2022-08-21T20:15:04.675Z"
   },
   {
    "duration": 32,
    "start_time": "2022-08-21T20:15:04.829Z"
   },
   {
    "duration": 25,
    "start_time": "2022-08-21T20:15:04.863Z"
   },
   {
    "duration": 68,
    "start_time": "2022-08-21T20:15:04.890Z"
   },
   {
    "duration": 33,
    "start_time": "2022-08-21T20:15:04.960Z"
   },
   {
    "duration": 75,
    "start_time": "2022-08-21T20:15:04.995Z"
   },
   {
    "duration": 21,
    "start_time": "2022-08-21T20:15:05.072Z"
   },
   {
    "duration": 5,
    "start_time": "2022-08-21T20:15:05.094Z"
   },
   {
    "duration": 120,
    "start_time": "2022-08-21T20:15:05.100Z"
   },
   {
    "duration": 39,
    "start_time": "2022-08-21T20:15:05.222Z"
   },
   {
    "duration": 13,
    "start_time": "2022-08-21T20:15:05.275Z"
   },
   {
    "duration": 30,
    "start_time": "2022-08-21T20:15:05.290Z"
   },
   {
    "duration": 44,
    "start_time": "2022-08-21T20:15:05.322Z"
   },
   {
    "duration": 72,
    "start_time": "2022-08-21T20:15:05.369Z"
   },
   {
    "duration": 72,
    "start_time": "2022-08-21T20:15:05.456Z"
   },
   {
    "duration": 84,
    "start_time": "2022-08-21T20:15:05.530Z"
   },
   {
    "duration": 42,
    "start_time": "2022-08-21T20:15:05.616Z"
   },
   {
    "duration": 35,
    "start_time": "2022-08-21T20:15:05.659Z"
   },
   {
    "duration": 39,
    "start_time": "2022-08-21T20:15:05.697Z"
   },
   {
    "duration": 237,
    "start_time": "2022-08-21T20:15:05.739Z"
   },
   {
    "duration": 24,
    "start_time": "2022-08-21T20:15:05.978Z"
   },
   {
    "duration": 65,
    "start_time": "2022-08-21T20:15:06.004Z"
   },
   {
    "duration": 225,
    "start_time": "2022-08-21T20:15:06.071Z"
   },
   {
    "duration": 67,
    "start_time": "2022-08-21T20:15:06.298Z"
   },
   {
    "duration": 27,
    "start_time": "2022-08-21T20:15:06.366Z"
   },
   {
    "duration": 228,
    "start_time": "2022-08-21T20:15:06.394Z"
   },
   {
    "duration": 59,
    "start_time": "2022-08-21T20:15:06.624Z"
   },
   {
    "duration": 5,
    "start_time": "2022-08-21T20:15:06.686Z"
   },
   {
    "duration": 585,
    "start_time": "2022-08-21T20:15:06.692Z"
   },
   {
    "duration": 254,
    "start_time": "2022-08-21T20:27:16.849Z"
   },
   {
    "duration": 14,
    "start_time": "2022-08-21T20:27:26.687Z"
   },
   {
    "duration": 16,
    "start_time": "2022-08-21T20:27:41.043Z"
   },
   {
    "duration": 890,
    "start_time": "2022-08-21T20:27:48.893Z"
   },
   {
    "duration": 1073,
    "start_time": "2022-08-21T20:27:56.002Z"
   },
   {
    "duration": 898,
    "start_time": "2022-08-21T20:28:55.471Z"
   },
   {
    "duration": 811,
    "start_time": "2022-08-21T20:29:56.208Z"
   },
   {
    "duration": 1179,
    "start_time": "2022-08-21T20:30:19.900Z"
   },
   {
    "duration": 27,
    "start_time": "2022-08-21T20:32:08.344Z"
   },
   {
    "duration": 68,
    "start_time": "2022-08-21T20:32:08.373Z"
   },
   {
    "duration": 124,
    "start_time": "2022-08-21T20:32:08.444Z"
   },
   {
    "duration": 334,
    "start_time": "2022-08-21T20:32:08.569Z"
   },
   {
    "duration": 687,
    "start_time": "2022-08-21T20:32:08.904Z"
   },
   {
    "duration": 205,
    "start_time": "2022-08-21T20:32:09.592Z"
   },
   {
    "duration": 104,
    "start_time": "2022-08-21T20:32:09.798Z"
   },
   {
    "duration": 3,
    "start_time": "2022-08-21T20:32:09.903Z"
   },
   {
    "duration": 55,
    "start_time": "2022-08-21T20:32:09.908Z"
   },
   {
    "duration": 28,
    "start_time": "2022-08-21T20:32:09.965Z"
   },
   {
    "duration": 70,
    "start_time": "2022-08-21T20:32:09.995Z"
   },
   {
    "duration": 162,
    "start_time": "2022-08-21T20:32:10.068Z"
   },
   {
    "duration": 40,
    "start_time": "2022-08-21T20:32:10.231Z"
   },
   {
    "duration": 26,
    "start_time": "2022-08-21T20:32:10.272Z"
   },
   {
    "duration": 70,
    "start_time": "2022-08-21T20:32:10.299Z"
   },
   {
    "duration": 33,
    "start_time": "2022-08-21T20:32:10.371Z"
   },
   {
    "duration": 66,
    "start_time": "2022-08-21T20:32:10.406Z"
   },
   {
    "duration": 20,
    "start_time": "2022-08-21T20:32:10.473Z"
   },
   {
    "duration": 41,
    "start_time": "2022-08-21T20:32:10.494Z"
   },
   {
    "duration": 78,
    "start_time": "2022-08-21T20:32:10.536Z"
   },
   {
    "duration": 22,
    "start_time": "2022-08-21T20:32:10.616Z"
   },
   {
    "duration": 22,
    "start_time": "2022-08-21T20:32:10.639Z"
   },
   {
    "duration": 14,
    "start_time": "2022-08-21T20:32:10.663Z"
   },
   {
    "duration": 33,
    "start_time": "2022-08-21T20:32:10.679Z"
   },
   {
    "duration": 67,
    "start_time": "2022-08-21T20:32:10.713Z"
   },
   {
    "duration": 61,
    "start_time": "2022-08-21T20:32:10.781Z"
   },
   {
    "duration": 71,
    "start_time": "2022-08-21T20:32:10.844Z"
   },
   {
    "duration": 42,
    "start_time": "2022-08-21T20:32:10.917Z"
   },
   {
    "duration": 25,
    "start_time": "2022-08-21T20:32:10.961Z"
   },
   {
    "duration": 27,
    "start_time": "2022-08-21T20:32:10.988Z"
   },
   {
    "duration": 247,
    "start_time": "2022-08-21T20:32:11.016Z"
   },
   {
    "duration": 26,
    "start_time": "2022-08-21T20:32:11.265Z"
   },
   {
    "duration": 69,
    "start_time": "2022-08-21T20:32:11.292Z"
   },
   {
    "duration": 235,
    "start_time": "2022-08-21T20:32:11.363Z"
   },
   {
    "duration": 63,
    "start_time": "2022-08-21T20:32:11.599Z"
   },
   {
    "duration": 26,
    "start_time": "2022-08-21T20:32:11.664Z"
   },
   {
    "duration": 229,
    "start_time": "2022-08-21T20:32:11.692Z"
   },
   {
    "duration": 65,
    "start_time": "2022-08-21T20:32:11.923Z"
   },
   {
    "duration": 6,
    "start_time": "2022-08-21T20:32:11.991Z"
   },
   {
    "duration": 157,
    "start_time": "2022-08-21T20:32:11.998Z"
   },
   {
    "duration": 4,
    "start_time": "2022-08-21T20:32:12.761Z"
   },
   {
    "duration": 536,
    "start_time": "2022-08-21T20:32:13.369Z"
   },
   {
    "duration": 1140,
    "start_time": "2022-08-21T20:37:14.887Z"
   },
   {
    "duration": 829,
    "start_time": "2022-08-21T20:38:10.295Z"
   },
   {
    "duration": 53140,
    "start_time": "2022-08-21T20:38:29.447Z"
   },
   {
    "duration": 607,
    "start_time": "2022-08-21T20:39:22.589Z"
   },
   {
    "duration": 25,
    "start_time": "2022-08-21T20:39:23.198Z"
   },
   {
    "duration": 62,
    "start_time": "2022-08-21T20:39:23.225Z"
   },
   {
    "duration": 122,
    "start_time": "2022-08-21T20:39:23.290Z"
   },
   {
    "duration": 386,
    "start_time": "2022-08-21T20:39:23.414Z"
   },
   {
    "duration": 679,
    "start_time": "2022-08-21T20:39:23.802Z"
   },
   {
    "duration": 196,
    "start_time": "2022-08-21T20:39:24.483Z"
   },
   {
    "duration": 103,
    "start_time": "2022-08-21T20:39:24.681Z"
   },
   {
    "duration": 3,
    "start_time": "2022-08-21T20:39:24.785Z"
   },
   {
    "duration": 46,
    "start_time": "2022-08-21T20:39:24.789Z"
   },
   {
    "duration": 40,
    "start_time": "2022-08-21T20:39:24.836Z"
   },
   {
    "duration": 49,
    "start_time": "2022-08-21T20:39:24.878Z"
   },
   {
    "duration": 156,
    "start_time": "2022-08-21T20:39:24.930Z"
   },
   {
    "duration": 26,
    "start_time": "2022-08-21T20:39:25.088Z"
   },
   {
    "duration": 30,
    "start_time": "2022-08-21T20:39:25.116Z"
   },
   {
    "duration": 76,
    "start_time": "2022-08-21T20:39:25.148Z"
   },
   {
    "duration": 53,
    "start_time": "2022-08-21T20:39:25.229Z"
   },
   {
    "duration": 54,
    "start_time": "2022-08-21T20:39:25.284Z"
   },
   {
    "duration": 34,
    "start_time": "2022-08-21T20:39:25.340Z"
   },
   {
    "duration": 20,
    "start_time": "2022-08-21T20:39:25.376Z"
   },
   {
    "duration": 108,
    "start_time": "2022-08-21T20:39:25.398Z"
   },
   {
    "duration": 25,
    "start_time": "2022-08-21T20:39:25.508Z"
   },
   {
    "duration": 26,
    "start_time": "2022-08-21T20:39:25.535Z"
   },
   {
    "duration": 13,
    "start_time": "2022-08-21T20:39:25.563Z"
   },
   {
    "duration": 44,
    "start_time": "2022-08-21T20:39:25.578Z"
   },
   {
    "duration": 74,
    "start_time": "2022-08-21T20:39:25.624Z"
   },
   {
    "duration": 72,
    "start_time": "2022-08-21T20:39:25.700Z"
   },
   {
    "duration": 70,
    "start_time": "2022-08-21T20:39:25.774Z"
   },
   {
    "duration": 28,
    "start_time": "2022-08-21T20:39:25.846Z"
   },
   {
    "duration": 31,
    "start_time": "2022-08-21T20:39:25.876Z"
   },
   {
    "duration": 37,
    "start_time": "2022-08-21T20:39:25.908Z"
   },
   {
    "duration": 240,
    "start_time": "2022-08-21T20:39:25.947Z"
   },
   {
    "duration": 26,
    "start_time": "2022-08-21T20:39:26.189Z"
   },
   {
    "duration": 73,
    "start_time": "2022-08-21T20:39:26.216Z"
   },
   {
    "duration": 226,
    "start_time": "2022-08-21T20:39:26.291Z"
   },
   {
    "duration": 62,
    "start_time": "2022-08-21T20:39:26.518Z"
   },
   {
    "duration": 26,
    "start_time": "2022-08-21T20:39:26.582Z"
   },
   {
    "duration": 232,
    "start_time": "2022-08-21T20:39:26.610Z"
   },
   {
    "duration": 61,
    "start_time": "2022-08-21T20:39:26.844Z"
   },
   {
    "duration": 4,
    "start_time": "2022-08-21T20:39:26.910Z"
   },
   {
    "duration": 150,
    "start_time": "2022-08-21T20:39:26.916Z"
   },
   {
    "duration": 7,
    "start_time": "2022-08-21T20:39:27.068Z"
   },
   {
    "duration": 25,
    "start_time": "2022-08-21T20:39:48.044Z"
   },
   {
    "duration": 557,
    "start_time": "2022-08-21T20:40:46.411Z"
   },
   {
    "duration": 470,
    "start_time": "2022-08-21T20:44:49.014Z"
   },
   {
    "duration": 3,
    "start_time": "2022-08-21T20:45:22.391Z"
   },
   {
    "duration": 4,
    "start_time": "2022-08-21T20:45:28.617Z"
   },
   {
    "duration": 4,
    "start_time": "2022-08-21T20:45:50.255Z"
   },
   {
    "duration": 5,
    "start_time": "2022-08-21T20:46:15.222Z"
   },
   {
    "duration": 5,
    "start_time": "2022-08-21T20:47:38.014Z"
   },
   {
    "duration": 5,
    "start_time": "2022-08-21T20:48:53.515Z"
   },
   {
    "duration": 5,
    "start_time": "2022-08-21T20:49:16.690Z"
   },
   {
    "duration": 43,
    "start_time": "2022-08-21T20:53:39.024Z"
   },
   {
    "duration": 3,
    "start_time": "2022-08-21T20:54:58.316Z"
   },
   {
    "duration": 92945,
    "start_time": "2022-08-22T18:52:29.355Z"
   },
   {
    "duration": 3723,
    "start_time": "2022-08-22T18:54:02.303Z"
   },
   {
    "duration": 40,
    "start_time": "2022-08-22T18:54:06.033Z"
   },
   {
    "duration": 71,
    "start_time": "2022-08-22T18:54:06.076Z"
   },
   {
    "duration": 319,
    "start_time": "2022-08-22T18:54:06.149Z"
   },
   {
    "duration": 548,
    "start_time": "2022-08-22T18:54:06.470Z"
   },
   {
    "duration": 965,
    "start_time": "2022-08-22T18:54:07.023Z"
   },
   {
    "duration": 394,
    "start_time": "2022-08-22T18:54:07.992Z"
   },
   {
    "duration": 187,
    "start_time": "2022-08-22T18:54:08.397Z"
   },
   {
    "duration": 9,
    "start_time": "2022-08-22T18:54:08.591Z"
   },
   {
    "duration": 77,
    "start_time": "2022-08-22T18:54:08.601Z"
   },
   {
    "duration": 79,
    "start_time": "2022-08-22T18:54:08.681Z"
   },
   {
    "duration": 163,
    "start_time": "2022-08-22T18:54:08.762Z"
   },
   {
    "duration": 399,
    "start_time": "2022-08-22T18:54:08.928Z"
   },
   {
    "duration": 75,
    "start_time": "2022-08-22T18:54:09.329Z"
   },
   {
    "duration": 39,
    "start_time": "2022-08-22T18:54:09.415Z"
   },
   {
    "duration": 99,
    "start_time": "2022-08-22T18:54:09.457Z"
   },
   {
    "duration": 42,
    "start_time": "2022-08-22T18:54:09.558Z"
   },
   {
    "duration": 62,
    "start_time": "2022-08-22T18:54:09.606Z"
   },
   {
    "duration": 39,
    "start_time": "2022-08-22T18:54:09.670Z"
   },
   {
    "duration": 38,
    "start_time": "2022-08-22T18:54:09.711Z"
   },
   {
    "duration": 162,
    "start_time": "2022-08-22T18:54:09.752Z"
   },
   {
    "duration": 39,
    "start_time": "2022-08-22T18:54:09.915Z"
   },
   {
    "duration": 32,
    "start_time": "2022-08-22T18:54:09.956Z"
   },
   {
    "duration": 122,
    "start_time": "2022-08-22T18:54:09.991Z"
   },
   {
    "duration": 95,
    "start_time": "2022-08-22T18:54:10.118Z"
   },
   {
    "duration": 91,
    "start_time": "2022-08-22T18:54:10.221Z"
   },
   {
    "duration": 147,
    "start_time": "2022-08-22T18:54:10.316Z"
   },
   {
    "duration": 177,
    "start_time": "2022-08-22T18:54:10.468Z"
   },
   {
    "duration": 82,
    "start_time": "2022-08-22T18:54:10.648Z"
   },
   {
    "duration": 51,
    "start_time": "2022-08-22T18:54:10.736Z"
   },
   {
    "duration": 72,
    "start_time": "2022-08-22T18:54:10.790Z"
   },
   {
    "duration": 345,
    "start_time": "2022-08-22T18:54:10.865Z"
   },
   {
    "duration": 49,
    "start_time": "2022-08-22T18:54:11.211Z"
   },
   {
    "duration": 145,
    "start_time": "2022-08-22T18:54:11.263Z"
   },
   {
    "duration": 395,
    "start_time": "2022-08-22T18:54:11.410Z"
   },
   {
    "duration": 152,
    "start_time": "2022-08-22T18:54:11.811Z"
   },
   {
    "duration": 104,
    "start_time": "2022-08-22T18:54:11.965Z"
   },
   {
    "duration": 366,
    "start_time": "2022-08-22T18:54:12.071Z"
   },
   {
    "duration": 147,
    "start_time": "2022-08-22T18:54:12.442Z"
   },
   {
    "duration": 71,
    "start_time": "2022-08-22T18:54:12.594Z"
   },
   {
    "duration": 294,
    "start_time": "2022-08-22T18:54:12.668Z"
   },
   {
    "duration": 8,
    "start_time": "2022-08-22T18:54:12.964Z"
   },
   {
    "duration": 1048,
    "start_time": "2022-08-22T18:54:12.974Z"
   },
   {
    "duration": 594,
    "start_time": "2022-08-22T18:54:14.026Z"
   },
   {
    "duration": 12,
    "start_time": "2022-08-22T18:54:14.631Z"
   },
   {
    "duration": 93,
    "start_time": "2022-08-22T18:54:14.645Z"
   },
   {
    "duration": 5,
    "start_time": "2022-08-22T18:54:14.740Z"
   },
   {
    "duration": 70987,
    "start_time": "2022-08-22T18:54:14.748Z"
   },
   {
    "duration": 91,
    "start_time": "2022-08-23T21:05:48.914Z"
   },
   {
    "duration": 77703,
    "start_time": "2022-08-23T21:05:58.660Z"
   },
   {
    "duration": 921,
    "start_time": "2022-08-23T21:07:16.366Z"
   },
   {
    "duration": 24,
    "start_time": "2022-08-23T21:07:17.289Z"
   },
   {
    "duration": 49,
    "start_time": "2022-08-23T21:07:17.316Z"
   },
   {
    "duration": 152,
    "start_time": "2022-08-23T21:07:17.367Z"
   },
   {
    "duration": 325,
    "start_time": "2022-08-23T21:07:17.521Z"
   },
   {
    "duration": 679,
    "start_time": "2022-08-23T21:07:17.848Z"
   },
   {
    "duration": 235,
    "start_time": "2022-08-23T21:07:18.528Z"
   },
   {
    "duration": 125,
    "start_time": "2022-08-23T21:07:18.765Z"
   },
   {
    "duration": 3,
    "start_time": "2022-08-23T21:07:18.892Z"
   },
   {
    "duration": 44,
    "start_time": "2022-08-23T21:07:18.896Z"
   },
   {
    "duration": 45,
    "start_time": "2022-08-23T21:07:18.942Z"
   },
   {
    "duration": 57,
    "start_time": "2022-08-23T21:07:18.989Z"
   },
   {
    "duration": 178,
    "start_time": "2022-08-23T21:07:19.047Z"
   },
   {
    "duration": 31,
    "start_time": "2022-08-23T21:07:19.226Z"
   },
   {
    "duration": 33,
    "start_time": "2022-08-23T21:07:19.258Z"
   },
   {
    "duration": 50,
    "start_time": "2022-08-23T21:07:19.292Z"
   },
   {
    "duration": 43,
    "start_time": "2022-08-23T21:07:19.344Z"
   },
   {
    "duration": 43,
    "start_time": "2022-08-23T21:07:19.389Z"
   },
   {
    "duration": 18,
    "start_time": "2022-08-23T21:07:19.434Z"
   },
   {
    "duration": 3,
    "start_time": "2022-08-23T21:07:19.454Z"
   },
   {
    "duration": 113,
    "start_time": "2022-08-23T21:07:19.459Z"
   },
   {
    "duration": 26,
    "start_time": "2022-08-23T21:07:19.573Z"
   },
   {
    "duration": 8,
    "start_time": "2022-08-23T21:07:19.601Z"
   },
   {
    "duration": 19,
    "start_time": "2022-08-23T21:07:19.611Z"
   },
   {
    "duration": 35,
    "start_time": "2022-08-23T21:07:19.631Z"
   },
   {
    "duration": 63,
    "start_time": "2022-08-23T21:07:19.668Z"
   },
   {
    "duration": 83,
    "start_time": "2022-08-23T21:07:19.736Z"
   },
   {
    "duration": 80,
    "start_time": "2022-08-23T21:07:19.820Z"
   },
   {
    "duration": 30,
    "start_time": "2022-08-23T21:07:19.902Z"
   },
   {
    "duration": 31,
    "start_time": "2022-08-23T21:07:19.933Z"
   },
   {
    "duration": 51,
    "start_time": "2022-08-23T21:07:19.965Z"
   },
   {
    "duration": 243,
    "start_time": "2022-08-23T21:07:20.018Z"
   },
   {
    "duration": 29,
    "start_time": "2022-08-23T21:07:20.263Z"
   },
   {
    "duration": 70,
    "start_time": "2022-08-23T21:07:20.294Z"
   },
   {
    "duration": 230,
    "start_time": "2022-08-23T21:07:20.365Z"
   },
   {
    "duration": 70,
    "start_time": "2022-08-23T21:07:20.597Z"
   },
   {
    "duration": 40,
    "start_time": "2022-08-23T21:07:20.669Z"
   },
   {
    "duration": 230,
    "start_time": "2022-08-23T21:07:20.710Z"
   },
   {
    "duration": 70,
    "start_time": "2022-08-23T21:07:20.942Z"
   },
   {
    "duration": 5,
    "start_time": "2022-08-23T21:07:21.013Z"
   },
   {
    "duration": 139,
    "start_time": "2022-08-23T21:07:21.020Z"
   },
   {
    "duration": 5,
    "start_time": "2022-08-23T21:07:21.161Z"
   },
   {
    "duration": 508,
    "start_time": "2022-08-23T21:07:21.167Z"
   },
   {
    "duration": 446,
    "start_time": "2022-08-23T21:07:21.677Z"
   },
   {
    "duration": 5,
    "start_time": "2022-08-23T21:07:22.125Z"
   },
   {
    "duration": 49,
    "start_time": "2022-08-23T21:07:22.131Z"
   },
   {
    "duration": 3,
    "start_time": "2022-08-23T21:07:22.186Z"
   },
   {
    "duration": 16411,
    "start_time": "2022-08-23T21:07:22.190Z"
   },
   {
    "duration": 3,
    "start_time": "2022-08-23T21:14:30.788Z"
   },
   {
    "duration": 20329,
    "start_time": "2022-08-23T21:15:14.159Z"
   },
   {
    "duration": 408118,
    "start_time": "2022-08-23T21:15:34.492Z"
   },
   {
    "duration": 429800,
    "start_time": "2022-08-23T21:22:22.612Z"
   },
   {
    "duration": 344,
    "start_time": "2022-08-23T21:29:32.414Z"
   },
   {
    "duration": 57003,
    "start_time": "2022-08-23T21:50:15.527Z"
   },
   {
    "duration": 699,
    "start_time": "2022-08-23T21:51:12.532Z"
   },
   {
    "duration": 26,
    "start_time": "2022-08-23T21:51:13.233Z"
   },
   {
    "duration": 66,
    "start_time": "2022-08-23T21:51:13.261Z"
   },
   {
    "duration": 148,
    "start_time": "2022-08-23T21:51:13.329Z"
   },
   {
    "duration": 348,
    "start_time": "2022-08-23T21:51:13.478Z"
   },
   {
    "duration": 731,
    "start_time": "2022-08-23T21:51:13.827Z"
   },
   {
    "duration": 250,
    "start_time": "2022-08-23T21:51:14.559Z"
   },
   {
    "duration": 120,
    "start_time": "2022-08-23T21:51:14.810Z"
   },
   {
    "duration": 3,
    "start_time": "2022-08-23T21:51:14.931Z"
   },
   {
    "duration": 60,
    "start_time": "2022-08-23T21:51:14.936Z"
   },
   {
    "duration": 32,
    "start_time": "2022-08-23T21:51:14.997Z"
   },
   {
    "duration": 69,
    "start_time": "2022-08-23T21:51:15.031Z"
   },
   {
    "duration": 184,
    "start_time": "2022-08-23T21:51:15.103Z"
   },
   {
    "duration": 33,
    "start_time": "2022-08-23T21:51:15.289Z"
   },
   {
    "duration": 26,
    "start_time": "2022-08-23T21:51:15.324Z"
   },
   {
    "duration": 65,
    "start_time": "2022-08-23T21:51:15.352Z"
   },
   {
    "duration": 31,
    "start_time": "2022-08-23T21:51:15.418Z"
   },
   {
    "duration": 59,
    "start_time": "2022-08-23T21:51:15.451Z"
   },
   {
    "duration": 21,
    "start_time": "2022-08-23T21:51:15.511Z"
   },
   {
    "duration": 3,
    "start_time": "2022-08-23T21:51:15.534Z"
   },
   {
    "duration": 111,
    "start_time": "2022-08-23T21:51:15.539Z"
   },
   {
    "duration": 36,
    "start_time": "2022-08-23T21:51:15.651Z"
   },
   {
    "duration": 9,
    "start_time": "2022-08-23T21:51:15.688Z"
   },
   {
    "duration": 17,
    "start_time": "2022-08-23T21:51:15.698Z"
   },
   {
    "duration": 46,
    "start_time": "2022-08-23T21:51:15.716Z"
   },
   {
    "duration": 81,
    "start_time": "2022-08-23T21:51:15.764Z"
   },
   {
    "duration": 79,
    "start_time": "2022-08-23T21:51:15.846Z"
   },
   {
    "duration": 87,
    "start_time": "2022-08-23T21:51:15.927Z"
   },
   {
    "duration": 35,
    "start_time": "2022-08-23T21:51:16.016Z"
   },
   {
    "duration": 49,
    "start_time": "2022-08-23T21:51:16.052Z"
   },
   {
    "duration": 33,
    "start_time": "2022-08-23T21:51:16.103Z"
   },
   {
    "duration": 317,
    "start_time": "2022-08-23T21:51:16.138Z"
   },
   {
    "duration": 42,
    "start_time": "2022-08-23T21:51:16.457Z"
   },
   {
    "duration": 91,
    "start_time": "2022-08-23T21:51:16.501Z"
   },
   {
    "duration": 248,
    "start_time": "2022-08-23T21:51:16.594Z"
   },
   {
    "duration": 73,
    "start_time": "2022-08-23T21:51:16.844Z"
   },
   {
    "duration": 32,
    "start_time": "2022-08-23T21:51:16.919Z"
   },
   {
    "duration": 243,
    "start_time": "2022-08-23T21:51:16.952Z"
   },
   {
    "duration": 70,
    "start_time": "2022-08-23T21:51:17.197Z"
   },
   {
    "duration": 16,
    "start_time": "2022-08-23T21:51:17.271Z"
   },
   {
    "duration": 131,
    "start_time": "2022-08-23T21:51:17.289Z"
   },
   {
    "duration": 6,
    "start_time": "2022-08-23T21:51:17.422Z"
   },
   {
    "duration": 533,
    "start_time": "2022-08-23T21:51:17.429Z"
   },
   {
    "duration": 444,
    "start_time": "2022-08-23T21:51:17.964Z"
   },
   {
    "duration": 5,
    "start_time": "2022-08-23T21:51:18.410Z"
   },
   {
    "duration": 55,
    "start_time": "2022-08-23T21:51:18.416Z"
   },
   {
    "duration": 4,
    "start_time": "2022-08-23T21:51:18.473Z"
   },
   {
    "duration": 17315,
    "start_time": "2022-08-23T21:51:18.478Z"
   },
   {
    "duration": 396240,
    "start_time": "2022-08-23T21:51:35.887Z"
   },
   {
    "duration": 367882,
    "start_time": "2022-08-23T21:58:12.129Z"
   },
   {
    "duration": 347,
    "start_time": "2022-08-23T22:04:20.013Z"
   },
   {
    "duration": 26979,
    "start_time": "2022-08-23T22:04:20.362Z"
   },
   {
    "duration": 63,
    "start_time": "2022-08-23T22:04:47.342Z"
   },
   {
    "duration": 21,
    "start_time": "2022-08-23T22:04:47.406Z"
   },
   {
    "duration": 0,
    "start_time": "2022-08-23T22:04:47.428Z"
   },
   {
    "duration": 0,
    "start_time": "2022-08-23T22:04:47.429Z"
   },
   {
    "duration": 0,
    "start_time": "2022-08-23T22:04:47.430Z"
   },
   {
    "duration": 0,
    "start_time": "2022-08-23T22:04:47.431Z"
   },
   {
    "duration": 0,
    "start_time": "2022-08-23T22:04:47.432Z"
   },
   {
    "duration": 0,
    "start_time": "2022-08-23T22:04:47.433Z"
   },
   {
    "duration": 0,
    "start_time": "2022-08-23T22:04:47.434Z"
   },
   {
    "duration": 0,
    "start_time": "2022-08-23T22:04:47.435Z"
   },
   {
    "duration": 0,
    "start_time": "2022-08-23T22:04:47.436Z"
   },
   {
    "duration": 0,
    "start_time": "2022-08-23T22:04:47.436Z"
   },
   {
    "duration": 1,
    "start_time": "2022-08-23T22:04:47.439Z"
   },
   {
    "duration": 0,
    "start_time": "2022-08-23T22:04:47.441Z"
   },
   {
    "duration": 0,
    "start_time": "2022-08-23T22:04:47.442Z"
   },
   {
    "duration": 0,
    "start_time": "2022-08-23T22:04:47.443Z"
   },
   {
    "duration": 4457,
    "start_time": "2022-08-23T22:21:35.949Z"
   },
   {
    "duration": 131884,
    "start_time": "2022-08-23T22:21:40.408Z"
   },
   {
    "duration": 16,
    "start_time": "2022-08-23T22:23:52.293Z"
   },
   {
    "duration": 0,
    "start_time": "2022-08-23T22:23:52.311Z"
   },
   {
    "duration": 5,
    "start_time": "2022-08-23T22:28:16.135Z"
   },
   {
    "duration": 45629,
    "start_time": "2022-08-23T22:28:33.182Z"
   },
   {
    "duration": 656,
    "start_time": "2022-08-23T22:29:18.813Z"
   },
   {
    "duration": 26,
    "start_time": "2022-08-23T22:29:19.470Z"
   },
   {
    "duration": 55,
    "start_time": "2022-08-23T22:29:19.498Z"
   },
   {
    "duration": 182,
    "start_time": "2022-08-23T22:29:19.555Z"
   },
   {
    "duration": 352,
    "start_time": "2022-08-23T22:29:19.739Z"
   },
   {
    "duration": 711,
    "start_time": "2022-08-23T22:29:20.092Z"
   },
   {
    "duration": 235,
    "start_time": "2022-08-23T22:29:20.805Z"
   },
   {
    "duration": 116,
    "start_time": "2022-08-23T22:29:21.042Z"
   },
   {
    "duration": 3,
    "start_time": "2022-08-23T22:29:21.161Z"
   },
   {
    "duration": 60,
    "start_time": "2022-08-23T22:29:21.165Z"
   },
   {
    "duration": 30,
    "start_time": "2022-08-23T22:29:21.227Z"
   },
   {
    "duration": 69,
    "start_time": "2022-08-23T22:29:21.259Z"
   },
   {
    "duration": 172,
    "start_time": "2022-08-23T22:29:21.329Z"
   },
   {
    "duration": 32,
    "start_time": "2022-08-23T22:29:21.503Z"
   },
   {
    "duration": 22,
    "start_time": "2022-08-23T22:29:21.537Z"
   },
   {
    "duration": 68,
    "start_time": "2022-08-23T22:29:21.561Z"
   },
   {
    "duration": 37,
    "start_time": "2022-08-23T22:29:21.630Z"
   },
   {
    "duration": 62,
    "start_time": "2022-08-23T22:29:21.669Z"
   },
   {
    "duration": 20,
    "start_time": "2022-08-23T22:29:21.733Z"
   },
   {
    "duration": 4,
    "start_time": "2022-08-23T22:29:21.755Z"
   },
   {
    "duration": 109,
    "start_time": "2022-08-23T22:29:21.760Z"
   },
   {
    "duration": 34,
    "start_time": "2022-08-23T22:29:21.870Z"
   },
   {
    "duration": 8,
    "start_time": "2022-08-23T22:29:21.906Z"
   },
   {
    "duration": 17,
    "start_time": "2022-08-23T22:29:21.915Z"
   },
   {
    "duration": 55,
    "start_time": "2022-08-23T22:29:21.933Z"
   },
   {
    "duration": 75,
    "start_time": "2022-08-23T22:29:21.989Z"
   },
   {
    "duration": 83,
    "start_time": "2022-08-23T22:29:22.068Z"
   },
   {
    "duration": 80,
    "start_time": "2022-08-23T22:29:22.153Z"
   },
   {
    "duration": 29,
    "start_time": "2022-08-23T22:29:22.234Z"
   },
   {
    "duration": 42,
    "start_time": "2022-08-23T22:29:22.264Z"
   },
   {
    "duration": 28,
    "start_time": "2022-08-23T22:29:22.308Z"
   },
   {
    "duration": 246,
    "start_time": "2022-08-23T22:29:22.338Z"
   },
   {
    "duration": 29,
    "start_time": "2022-08-23T22:29:22.586Z"
   },
   {
    "duration": 79,
    "start_time": "2022-08-23T22:29:22.617Z"
   },
   {
    "duration": 225,
    "start_time": "2022-08-23T22:29:22.697Z"
   },
   {
    "duration": 72,
    "start_time": "2022-08-23T22:29:22.923Z"
   },
   {
    "duration": 31,
    "start_time": "2022-08-23T22:29:22.997Z"
   },
   {
    "duration": 234,
    "start_time": "2022-08-23T22:29:23.030Z"
   },
   {
    "duration": 74,
    "start_time": "2022-08-23T22:29:23.266Z"
   },
   {
    "duration": 5,
    "start_time": "2022-08-23T22:29:23.341Z"
   },
   {
    "duration": 142,
    "start_time": "2022-08-23T22:29:23.347Z"
   },
   {
    "duration": 5,
    "start_time": "2022-08-23T22:29:23.491Z"
   },
   {
    "duration": 593,
    "start_time": "2022-08-23T22:29:23.497Z"
   },
   {
    "duration": 454,
    "start_time": "2022-08-23T22:29:24.092Z"
   },
   {
    "duration": 5,
    "start_time": "2022-08-23T22:29:24.547Z"
   },
   {
    "duration": 53,
    "start_time": "2022-08-23T22:29:24.554Z"
   },
   {
    "duration": 6,
    "start_time": "2022-08-23T22:29:24.608Z"
   },
   {
    "duration": 6,
    "start_time": "2022-08-23T22:29:24.615Z"
   },
   {
    "duration": 16474,
    "start_time": "2022-08-23T22:29:24.622Z"
   },
   {
    "duration": 386835,
    "start_time": "2022-08-23T22:29:41.188Z"
   },
   {
    "duration": 7088,
    "start_time": "2022-08-23T22:36:08.025Z"
   },
   {
    "duration": 5573,
    "start_time": "2022-08-23T22:36:15.115Z"
   },
   {
    "duration": 25017,
    "start_time": "2022-08-23T22:36:20.690Z"
   },
   {
    "duration": 131519,
    "start_time": "2022-08-23T22:36:45.708Z"
   },
   {
    "duration": 19,
    "start_time": "2022-08-23T22:38:57.228Z"
   },
   {
    "duration": 1,
    "start_time": "2022-08-23T22:38:57.248Z"
   },
   {
    "duration": 0,
    "start_time": "2022-08-23T22:38:57.250Z"
   },
   {
    "duration": 0,
    "start_time": "2022-08-23T22:38:57.251Z"
   },
   {
    "duration": 0,
    "start_time": "2022-08-23T22:38:57.252Z"
   },
   {
    "duration": 0,
    "start_time": "2022-08-23T22:38:57.254Z"
   },
   {
    "duration": 0,
    "start_time": "2022-08-23T22:38:57.255Z"
   },
   {
    "duration": 0,
    "start_time": "2022-08-23T22:38:57.256Z"
   },
   {
    "duration": 0,
    "start_time": "2022-08-23T22:38:57.258Z"
   },
   {
    "duration": 0,
    "start_time": "2022-08-23T22:38:57.259Z"
   },
   {
    "duration": 0,
    "start_time": "2022-08-23T22:38:57.260Z"
   },
   {
    "duration": 0,
    "start_time": "2022-08-23T22:38:57.262Z"
   },
   {
    "duration": 0,
    "start_time": "2022-08-23T22:38:57.264Z"
   },
   {
    "duration": 0,
    "start_time": "2022-08-23T22:38:57.265Z"
   },
   {
    "duration": 0,
    "start_time": "2022-08-23T22:38:57.266Z"
   },
   {
    "duration": 51776,
    "start_time": "2022-08-23T22:54:59.791Z"
   },
   {
    "duration": 634,
    "start_time": "2022-08-23T22:55:51.569Z"
   },
   {
    "duration": 26,
    "start_time": "2022-08-23T22:55:52.205Z"
   },
   {
    "duration": 62,
    "start_time": "2022-08-23T22:55:52.233Z"
   },
   {
    "duration": 159,
    "start_time": "2022-08-23T22:55:52.296Z"
   },
   {
    "duration": 343,
    "start_time": "2022-08-23T22:55:52.456Z"
   },
   {
    "duration": 706,
    "start_time": "2022-08-23T22:55:52.801Z"
   },
   {
    "duration": 234,
    "start_time": "2022-08-23T22:55:53.509Z"
   },
   {
    "duration": 121,
    "start_time": "2022-08-23T22:55:53.744Z"
   },
   {
    "duration": 3,
    "start_time": "2022-08-23T22:55:53.867Z"
   },
   {
    "duration": 58,
    "start_time": "2022-08-23T22:55:53.872Z"
   },
   {
    "duration": 30,
    "start_time": "2022-08-23T22:55:53.932Z"
   },
   {
    "duration": 77,
    "start_time": "2022-08-23T22:55:53.963Z"
   },
   {
    "duration": 171,
    "start_time": "2022-08-23T22:55:54.041Z"
   },
   {
    "duration": 32,
    "start_time": "2022-08-23T22:55:54.214Z"
   },
   {
    "duration": 27,
    "start_time": "2022-08-23T22:55:54.248Z"
   },
   {
    "duration": 52,
    "start_time": "2022-08-23T22:55:54.287Z"
   },
   {
    "duration": 50,
    "start_time": "2022-08-23T22:55:54.341Z"
   },
   {
    "duration": 45,
    "start_time": "2022-08-23T22:55:54.393Z"
   },
   {
    "duration": 21,
    "start_time": "2022-08-23T22:55:54.440Z"
   },
   {
    "duration": 25,
    "start_time": "2022-08-23T22:55:54.462Z"
   },
   {
    "duration": 99,
    "start_time": "2022-08-23T22:55:54.488Z"
   },
   {
    "duration": 25,
    "start_time": "2022-08-23T22:55:54.589Z"
   },
   {
    "duration": 9,
    "start_time": "2022-08-23T22:55:54.615Z"
   },
   {
    "duration": 14,
    "start_time": "2022-08-23T22:55:54.625Z"
   },
   {
    "duration": 59,
    "start_time": "2022-08-23T22:55:54.641Z"
   },
   {
    "duration": 60,
    "start_time": "2022-08-23T22:55:54.701Z"
   },
   {
    "duration": 81,
    "start_time": "2022-08-23T22:55:54.765Z"
   },
   {
    "duration": 77,
    "start_time": "2022-08-23T22:55:54.848Z"
   },
   {
    "duration": 30,
    "start_time": "2022-08-23T22:55:54.926Z"
   },
   {
    "duration": 44,
    "start_time": "2022-08-23T22:55:54.958Z"
   },
   {
    "duration": 31,
    "start_time": "2022-08-23T22:55:55.003Z"
   },
   {
    "duration": 232,
    "start_time": "2022-08-23T22:55:55.036Z"
   },
   {
    "duration": 30,
    "start_time": "2022-08-23T22:55:55.270Z"
   },
   {
    "duration": 70,
    "start_time": "2022-08-23T22:55:55.301Z"
   },
   {
    "duration": 228,
    "start_time": "2022-08-23T22:55:55.387Z"
   },
   {
    "duration": 75,
    "start_time": "2022-08-23T22:55:55.617Z"
   },
   {
    "duration": 29,
    "start_time": "2022-08-23T22:55:55.693Z"
   },
   {
    "duration": 227,
    "start_time": "2022-08-23T22:55:55.724Z"
   },
   {
    "duration": 74,
    "start_time": "2022-08-23T22:55:55.953Z"
   },
   {
    "duration": 5,
    "start_time": "2022-08-23T22:55:56.029Z"
   },
   {
    "duration": 142,
    "start_time": "2022-08-23T22:55:56.036Z"
   },
   {
    "duration": 12,
    "start_time": "2022-08-23T22:55:56.179Z"
   },
   {
    "duration": 614,
    "start_time": "2022-08-23T22:55:56.193Z"
   },
   {
    "duration": 461,
    "start_time": "2022-08-23T22:55:56.809Z"
   },
   {
    "duration": 4,
    "start_time": "2022-08-23T22:55:57.272Z"
   },
   {
    "duration": 40,
    "start_time": "2022-08-23T22:55:57.287Z"
   },
   {
    "duration": 6,
    "start_time": "2022-08-23T22:55:57.329Z"
   },
   {
    "duration": 4,
    "start_time": "2022-08-23T22:55:57.337Z"
   },
   {
    "duration": 17755,
    "start_time": "2022-08-23T22:55:57.342Z"
   },
   {
    "duration": 393686,
    "start_time": "2022-08-23T22:56:15.101Z"
   },
   {
    "duration": 6607,
    "start_time": "2022-08-23T23:02:48.789Z"
   },
   {
    "duration": 7705,
    "start_time": "2022-08-23T23:02:55.398Z"
   },
   {
    "duration": 26209,
    "start_time": "2022-08-23T23:03:03.105Z"
   },
   {
    "duration": 130817,
    "start_time": "2022-08-23T23:03:29.316Z"
   },
   {
    "duration": 8,
    "start_time": "2022-08-23T23:05:40.135Z"
   },
   {
    "duration": 1191530,
    "start_time": "2022-08-23T23:05:40.145Z"
   },
   {
    "duration": 50,
    "start_time": "2022-08-23T23:25:31.676Z"
   },
   {
    "duration": 0,
    "start_time": "2022-08-23T23:25:31.727Z"
   },
   {
    "duration": 0,
    "start_time": "2022-08-23T23:25:31.728Z"
   },
   {
    "duration": 0,
    "start_time": "2022-08-23T23:25:31.729Z"
   },
   {
    "duration": 0,
    "start_time": "2022-08-23T23:25:31.731Z"
   },
   {
    "duration": 0,
    "start_time": "2022-08-23T23:25:31.732Z"
   },
   {
    "duration": 0,
    "start_time": "2022-08-23T23:25:31.732Z"
   },
   {
    "duration": 0,
    "start_time": "2022-08-23T23:25:31.734Z"
   },
   {
    "duration": 0,
    "start_time": "2022-08-23T23:25:31.734Z"
   },
   {
    "duration": 0,
    "start_time": "2022-08-23T23:25:31.735Z"
   },
   {
    "duration": 0,
    "start_time": "2022-08-23T23:25:31.736Z"
   },
   {
    "duration": 0,
    "start_time": "2022-08-23T23:25:31.737Z"
   },
   {
    "duration": 0,
    "start_time": "2022-08-23T23:25:31.738Z"
   },
   {
    "duration": 52177,
    "start_time": "2022-08-23T23:27:41.131Z"
   },
   {
    "duration": 652,
    "start_time": "2022-08-23T23:28:33.310Z"
   },
   {
    "duration": 33,
    "start_time": "2022-08-23T23:28:33.964Z"
   },
   {
    "duration": 52,
    "start_time": "2022-08-23T23:28:33.999Z"
   },
   {
    "duration": 160,
    "start_time": "2022-08-23T23:28:34.053Z"
   },
   {
    "duration": 372,
    "start_time": "2022-08-23T23:28:34.214Z"
   },
   {
    "duration": 754,
    "start_time": "2022-08-23T23:28:34.587Z"
   },
   {
    "duration": 245,
    "start_time": "2022-08-23T23:28:35.342Z"
   },
   {
    "duration": 123,
    "start_time": "2022-08-23T23:28:35.589Z"
   },
   {
    "duration": 3,
    "start_time": "2022-08-23T23:28:35.714Z"
   },
   {
    "duration": 50,
    "start_time": "2022-08-23T23:28:35.719Z"
   },
   {
    "duration": 35,
    "start_time": "2022-08-23T23:28:35.787Z"
   },
   {
    "duration": 76,
    "start_time": "2022-08-23T23:28:35.823Z"
   },
   {
    "duration": 187,
    "start_time": "2022-08-23T23:28:35.900Z"
   },
   {
    "duration": 31,
    "start_time": "2022-08-23T23:28:36.089Z"
   },
   {
    "duration": 29,
    "start_time": "2022-08-23T23:28:36.121Z"
   },
   {
    "duration": 74,
    "start_time": "2022-08-23T23:28:36.151Z"
   },
   {
    "duration": 38,
    "start_time": "2022-08-23T23:28:36.226Z"
   },
   {
    "duration": 71,
    "start_time": "2022-08-23T23:28:36.266Z"
   },
   {
    "duration": 49,
    "start_time": "2022-08-23T23:28:36.339Z"
   },
   {
    "duration": 7,
    "start_time": "2022-08-23T23:28:36.390Z"
   },
   {
    "duration": 115,
    "start_time": "2022-08-23T23:28:36.399Z"
   },
   {
    "duration": 27,
    "start_time": "2022-08-23T23:28:36.516Z"
   },
   {
    "duration": 7,
    "start_time": "2022-08-23T23:28:36.545Z"
   },
   {
    "duration": 35,
    "start_time": "2022-08-23T23:28:36.554Z"
   },
   {
    "duration": 40,
    "start_time": "2022-08-23T23:28:36.591Z"
   },
   {
    "duration": 65,
    "start_time": "2022-08-23T23:28:36.632Z"
   },
   {
    "duration": 69,
    "start_time": "2022-08-23T23:28:36.700Z"
   },
   {
    "duration": 85,
    "start_time": "2022-08-23T23:28:36.771Z"
   },
   {
    "duration": 33,
    "start_time": "2022-08-23T23:28:36.858Z"
   },
   {
    "duration": 30,
    "start_time": "2022-08-23T23:28:36.892Z"
   },
   {
    "duration": 29,
    "start_time": "2022-08-23T23:28:36.924Z"
   },
   {
    "duration": 249,
    "start_time": "2022-08-23T23:28:36.955Z"
   },
   {
    "duration": 30,
    "start_time": "2022-08-23T23:28:37.206Z"
   },
   {
    "duration": 81,
    "start_time": "2022-08-23T23:28:37.237Z"
   },
   {
    "duration": 239,
    "start_time": "2022-08-23T23:28:37.319Z"
   },
   {
    "duration": 81,
    "start_time": "2022-08-23T23:28:37.560Z"
   },
   {
    "duration": 29,
    "start_time": "2022-08-23T23:28:37.642Z"
   },
   {
    "duration": 225,
    "start_time": "2022-08-23T23:28:37.672Z"
   },
   {
    "duration": 70,
    "start_time": "2022-08-23T23:28:37.898Z"
   },
   {
    "duration": 4,
    "start_time": "2022-08-23T23:28:37.970Z"
   },
   {
    "duration": 136,
    "start_time": "2022-08-23T23:28:37.987Z"
   },
   {
    "duration": 5,
    "start_time": "2022-08-23T23:28:38.125Z"
   },
   {
    "duration": 548,
    "start_time": "2022-08-23T23:28:38.131Z"
   },
   {
    "duration": 451,
    "start_time": "2022-08-23T23:28:38.681Z"
   },
   {
    "duration": 5,
    "start_time": "2022-08-23T23:28:39.133Z"
   },
   {
    "duration": 53,
    "start_time": "2022-08-23T23:28:39.139Z"
   },
   {
    "duration": 6,
    "start_time": "2022-08-23T23:28:39.193Z"
   },
   {
    "duration": 6,
    "start_time": "2022-08-23T23:28:39.200Z"
   },
   {
    "duration": 15991,
    "start_time": "2022-08-23T23:28:39.207Z"
   },
   {
    "duration": 390348,
    "start_time": "2022-08-23T23:28:55.289Z"
   },
   {
    "duration": 6956,
    "start_time": "2022-08-23T23:35:25.638Z"
   },
   {
    "duration": 5109,
    "start_time": "2022-08-23T23:35:32.596Z"
   },
   {
    "duration": 25018,
    "start_time": "2022-08-23T23:35:37.707Z"
   },
   {
    "duration": 132044,
    "start_time": "2022-08-23T23:36:02.726Z"
   },
   {
    "duration": 17,
    "start_time": "2022-08-23T23:38:14.771Z"
   },
   {
    "duration": 45131,
    "start_time": "2022-08-23T23:40:54.397Z"
   },
   {
    "duration": 680,
    "start_time": "2022-08-23T23:41:39.530Z"
   },
   {
    "duration": 30,
    "start_time": "2022-08-23T23:41:40.212Z"
   },
   {
    "duration": 72,
    "start_time": "2022-08-23T23:41:40.244Z"
   },
   {
    "duration": 174,
    "start_time": "2022-08-23T23:41:40.318Z"
   },
   {
    "duration": 346,
    "start_time": "2022-08-23T23:41:40.494Z"
   },
   {
    "duration": 696,
    "start_time": "2022-08-23T23:41:40.841Z"
   },
   {
    "duration": 240,
    "start_time": "2022-08-23T23:41:41.538Z"
   },
   {
    "duration": 118,
    "start_time": "2022-08-23T23:41:41.780Z"
   },
   {
    "duration": 3,
    "start_time": "2022-08-23T23:41:41.899Z"
   },
   {
    "duration": 45,
    "start_time": "2022-08-23T23:41:41.904Z"
   },
   {
    "duration": 47,
    "start_time": "2022-08-23T23:41:41.950Z"
   },
   {
    "duration": 62,
    "start_time": "2022-08-23T23:41:41.999Z"
   },
   {
    "duration": 179,
    "start_time": "2022-08-23T23:41:42.064Z"
   },
   {
    "duration": 32,
    "start_time": "2022-08-23T23:41:42.244Z"
   },
   {
    "duration": 30,
    "start_time": "2022-08-23T23:41:42.277Z"
   },
   {
    "duration": 53,
    "start_time": "2022-08-23T23:41:42.309Z"
   },
   {
    "duration": 48,
    "start_time": "2022-08-23T23:41:42.363Z"
   },
   {
    "duration": 46,
    "start_time": "2022-08-23T23:41:42.413Z"
   },
   {
    "duration": 34,
    "start_time": "2022-08-23T23:41:42.460Z"
   },
   {
    "duration": 4,
    "start_time": "2022-08-23T23:41:42.495Z"
   },
   {
    "duration": 103,
    "start_time": "2022-08-23T23:41:42.501Z"
   },
   {
    "duration": 25,
    "start_time": "2022-08-23T23:41:42.606Z"
   },
   {
    "duration": 8,
    "start_time": "2022-08-23T23:41:42.632Z"
   },
   {
    "duration": 17,
    "start_time": "2022-08-23T23:41:42.642Z"
   },
   {
    "duration": 58,
    "start_time": "2022-08-23T23:41:42.661Z"
   },
   {
    "duration": 70,
    "start_time": "2022-08-23T23:41:42.721Z"
   },
   {
    "duration": 70,
    "start_time": "2022-08-23T23:41:42.792Z"
   },
   {
    "duration": 84,
    "start_time": "2022-08-23T23:41:42.864Z"
   },
   {
    "duration": 40,
    "start_time": "2022-08-23T23:41:42.950Z"
   },
   {
    "duration": 30,
    "start_time": "2022-08-23T23:41:42.991Z"
   },
   {
    "duration": 30,
    "start_time": "2022-08-23T23:41:43.023Z"
   },
   {
    "duration": 244,
    "start_time": "2022-08-23T23:41:43.055Z"
   },
   {
    "duration": 29,
    "start_time": "2022-08-23T23:41:43.301Z"
   },
   {
    "duration": 80,
    "start_time": "2022-08-23T23:41:43.332Z"
   },
   {
    "duration": 235,
    "start_time": "2022-08-23T23:41:43.413Z"
   },
   {
    "duration": 70,
    "start_time": "2022-08-23T23:41:43.650Z"
   },
   {
    "duration": 29,
    "start_time": "2022-08-23T23:41:43.722Z"
   },
   {
    "duration": 235,
    "start_time": "2022-08-23T23:41:43.753Z"
   },
   {
    "duration": 72,
    "start_time": "2022-08-23T23:41:43.989Z"
   },
   {
    "duration": 7,
    "start_time": "2022-08-23T23:41:44.065Z"
   },
   {
    "duration": 131,
    "start_time": "2022-08-23T23:41:44.086Z"
   },
   {
    "duration": 6,
    "start_time": "2022-08-23T23:41:44.218Z"
   },
   {
    "duration": 516,
    "start_time": "2022-08-23T23:41:44.225Z"
   },
   {
    "duration": 450,
    "start_time": "2022-08-23T23:41:44.743Z"
   },
   {
    "duration": 5,
    "start_time": "2022-08-23T23:41:45.194Z"
   },
   {
    "duration": 40,
    "start_time": "2022-08-23T23:41:45.200Z"
   },
   {
    "duration": 5,
    "start_time": "2022-08-23T23:41:45.242Z"
   },
   {
    "duration": 7,
    "start_time": "2022-08-23T23:41:45.249Z"
   },
   {
    "duration": 15630,
    "start_time": "2022-08-23T23:41:45.258Z"
   },
   {
    "duration": 391880,
    "start_time": "2022-08-23T23:42:00.890Z"
   },
   {
    "duration": 7117,
    "start_time": "2022-08-23T23:48:32.771Z"
   },
   {
    "duration": 5098,
    "start_time": "2022-08-23T23:48:39.890Z"
   },
   {
    "duration": 26215,
    "start_time": "2022-08-23T23:48:44.990Z"
   },
   {
    "duration": 132469,
    "start_time": "2022-08-23T23:49:11.207Z"
   },
   {
    "duration": 13,
    "start_time": "2022-08-23T23:51:23.678Z"
   },
   {
    "duration": 1210674,
    "start_time": "2022-08-23T23:51:23.692Z"
   },
   {
    "duration": 296,
    "start_time": "2022-08-24T00:11:34.368Z"
   },
   {
    "duration": 91050,
    "start_time": "2022-08-24T00:11:34.665Z"
   },
   {
    "duration": 128487,
    "start_time": "2022-08-24T00:13:05.717Z"
   },
   {
    "duration": 163,
    "start_time": "2022-08-24T00:15:14.206Z"
   },
   {
    "duration": 141886,
    "start_time": "2022-08-24T00:15:14.371Z"
   },
   {
    "duration": 2707,
    "start_time": "2022-08-24T00:17:36.259Z"
   },
   {
    "duration": 73,
    "start_time": "2022-08-24T00:17:38.967Z"
   },
   {
    "duration": 4747,
    "start_time": "2022-08-24T00:17:39.041Z"
   },
   {
    "duration": 71,
    "start_time": "2022-08-24T00:17:43.789Z"
   },
   {
    "duration": 131,
    "start_time": "2022-08-24T00:17:43.862Z"
   },
   {
    "duration": 192,
    "start_time": "2022-08-24T00:17:43.995Z"
   },
   {
    "duration": 43,
    "start_time": "2022-08-24T00:17:44.189Z"
   },
   {
    "duration": 73,
    "start_time": "2022-08-24T00:29:33.651Z"
   },
   {
    "duration": 2027,
    "start_time": "2022-08-24T00:29:43.367Z"
   },
   {
    "duration": 130,
    "start_time": "2022-08-24T00:29:48.660Z"
   },
   {
    "duration": 9,
    "start_time": "2022-08-24T00:29:53.391Z"
   },
   {
    "duration": 20,
    "start_time": "2022-08-24T00:29:59.542Z"
   },
   {
    "duration": 19,
    "start_time": "2022-08-24T00:30:02.864Z"
   },
   {
    "duration": 2654,
    "start_time": "2022-08-24T00:30:27.093Z"
   },
   {
    "duration": 6,
    "start_time": "2022-08-24T00:30:33.887Z"
   },
   {
    "duration": 65,
    "start_time": "2022-08-24T00:31:24.420Z"
   },
   {
    "duration": 77747,
    "start_time": "2022-08-24T00:31:36.544Z"
   },
   {
    "duration": 47026,
    "start_time": "2022-08-24T00:33:39.463Z"
   },
   {
    "duration": 677,
    "start_time": "2022-08-24T00:34:26.491Z"
   },
   {
    "duration": 30,
    "start_time": "2022-08-24T00:34:27.169Z"
   },
   {
    "duration": 53,
    "start_time": "2022-08-24T00:34:27.200Z"
   },
   {
    "duration": 148,
    "start_time": "2022-08-24T00:34:27.255Z"
   },
   {
    "duration": 369,
    "start_time": "2022-08-24T00:34:27.405Z"
   },
   {
    "duration": 717,
    "start_time": "2022-08-24T00:34:27.776Z"
   },
   {
    "duration": 244,
    "start_time": "2022-08-24T00:34:28.494Z"
   },
   {
    "duration": 126,
    "start_time": "2022-08-24T00:34:28.740Z"
   },
   {
    "duration": 3,
    "start_time": "2022-08-24T00:34:28.868Z"
   },
   {
    "duration": 59,
    "start_time": "2022-08-24T00:34:28.873Z"
   },
   {
    "duration": 32,
    "start_time": "2022-08-24T00:34:28.934Z"
   },
   {
    "duration": 70,
    "start_time": "2022-08-24T00:34:28.967Z"
   },
   {
    "duration": 173,
    "start_time": "2022-08-24T00:34:29.039Z"
   },
   {
    "duration": 31,
    "start_time": "2022-08-24T00:34:29.214Z"
   },
   {
    "duration": 40,
    "start_time": "2022-08-24T00:34:29.247Z"
   },
   {
    "duration": 52,
    "start_time": "2022-08-24T00:34:29.289Z"
   },
   {
    "duration": 44,
    "start_time": "2022-08-24T00:34:29.343Z"
   },
   {
    "duration": 48,
    "start_time": "2022-08-24T00:34:29.389Z"
   },
   {
    "duration": 31,
    "start_time": "2022-08-24T00:34:29.439Z"
   },
   {
    "duration": 5,
    "start_time": "2022-08-24T00:34:29.486Z"
   },
   {
    "duration": 109,
    "start_time": "2022-08-24T00:34:29.493Z"
   },
   {
    "duration": 24,
    "start_time": "2022-08-24T00:34:29.603Z"
   },
   {
    "duration": 8,
    "start_time": "2022-08-24T00:34:29.629Z"
   },
   {
    "duration": 18,
    "start_time": "2022-08-24T00:34:29.639Z"
   },
   {
    "duration": 59,
    "start_time": "2022-08-24T00:34:29.658Z"
   },
   {
    "duration": 53,
    "start_time": "2022-08-24T00:34:29.719Z"
   },
   {
    "duration": 74,
    "start_time": "2022-08-24T00:34:29.786Z"
   },
   {
    "duration": 88,
    "start_time": "2022-08-24T00:34:29.862Z"
   },
   {
    "duration": 41,
    "start_time": "2022-08-24T00:34:29.952Z"
   },
   {
    "duration": 41,
    "start_time": "2022-08-24T00:34:29.995Z"
   },
   {
    "duration": 49,
    "start_time": "2022-08-24T00:34:30.038Z"
   },
   {
    "duration": 242,
    "start_time": "2022-08-24T00:34:30.089Z"
   },
   {
    "duration": 31,
    "start_time": "2022-08-24T00:34:30.333Z"
   },
   {
    "duration": 89,
    "start_time": "2022-08-24T00:34:30.365Z"
   },
   {
    "duration": 243,
    "start_time": "2022-08-24T00:34:30.455Z"
   },
   {
    "duration": 76,
    "start_time": "2022-08-24T00:34:30.700Z"
   },
   {
    "duration": 46,
    "start_time": "2022-08-24T00:34:30.777Z"
   },
   {
    "duration": 259,
    "start_time": "2022-08-24T00:34:30.825Z"
   },
   {
    "duration": 72,
    "start_time": "2022-08-24T00:34:31.085Z"
   },
   {
    "duration": 6,
    "start_time": "2022-08-24T00:34:31.158Z"
   },
   {
    "duration": 146,
    "start_time": "2022-08-24T00:34:31.166Z"
   },
   {
    "duration": 5,
    "start_time": "2022-08-24T00:34:31.314Z"
   },
   {
    "duration": 537,
    "start_time": "2022-08-24T00:34:31.321Z"
   },
   {
    "duration": 458,
    "start_time": "2022-08-24T00:34:31.860Z"
   },
   {
    "duration": 6,
    "start_time": "2022-08-24T00:34:32.320Z"
   },
   {
    "duration": 45,
    "start_time": "2022-08-24T00:34:32.327Z"
   },
   {
    "duration": 17,
    "start_time": "2022-08-24T00:34:32.373Z"
   },
   {
    "duration": 4,
    "start_time": "2022-08-24T00:34:32.391Z"
   },
   {
    "duration": 16399,
    "start_time": "2022-08-24T00:34:32.396Z"
   },
   {
    "duration": 396225,
    "start_time": "2022-08-24T00:34:48.888Z"
   },
   {
    "duration": 6687,
    "start_time": "2022-08-24T00:41:25.114Z"
   },
   {
    "duration": 5093,
    "start_time": "2022-08-24T00:41:31.802Z"
   },
   {
    "duration": 26016,
    "start_time": "2022-08-24T00:41:36.896Z"
   },
   {
    "duration": 134353,
    "start_time": "2022-08-24T00:42:02.914Z"
   },
   {
    "duration": 7,
    "start_time": "2022-08-24T00:44:17.269Z"
   },
   {
    "duration": 1220170,
    "start_time": "2022-08-24T00:44:17.278Z"
   },
   {
    "duration": 87927,
    "start_time": "2022-08-24T01:04:37.450Z"
   },
   {
    "duration": 93316,
    "start_time": "2022-08-24T01:06:05.378Z"
   },
   {
    "duration": 126905,
    "start_time": "2022-08-24T01:07:38.696Z"
   },
   {
    "duration": 57989,
    "start_time": "2022-08-24T01:09:45.603Z"
   },
   {
    "duration": 77278,
    "start_time": "2022-08-24T04:46:06.403Z"
   },
   {
    "duration": 947,
    "start_time": "2022-08-24T04:47:23.684Z"
   },
   {
    "duration": 24,
    "start_time": "2022-08-24T04:47:24.633Z"
   },
   {
    "duration": 47,
    "start_time": "2022-08-24T04:47:24.660Z"
   },
   {
    "duration": 131,
    "start_time": "2022-08-24T04:48:34.463Z"
   },
   {
    "duration": 336,
    "start_time": "2022-08-24T04:48:36.587Z"
   },
   {
    "duration": 731,
    "start_time": "2022-08-24T04:48:37.380Z"
   },
   {
    "duration": 211,
    "start_time": "2022-08-24T04:48:38.113Z"
   },
   {
    "duration": 97,
    "start_time": "2022-08-24T04:48:39.024Z"
   },
   {
    "duration": 4,
    "start_time": "2022-08-24T04:48:41.064Z"
   },
   {
    "duration": 46,
    "start_time": "2022-08-24T04:48:41.720Z"
   },
   {
    "duration": 29,
    "start_time": "2022-08-24T04:48:41.981Z"
   },
   {
    "duration": 54,
    "start_time": "2022-08-24T04:48:42.500Z"
   },
   {
    "duration": 161,
    "start_time": "2022-08-24T04:48:42.759Z"
   },
   {
    "duration": 30,
    "start_time": "2022-08-24T04:48:43.428Z"
   },
   {
    "duration": 25,
    "start_time": "2022-08-24T04:48:43.660Z"
   },
   {
    "duration": 58,
    "start_time": "2022-08-24T04:48:44.144Z"
   },
   {
    "duration": 36,
    "start_time": "2022-08-24T04:48:45.764Z"
   },
   {
    "duration": 56,
    "start_time": "2022-08-24T04:48:45.976Z"
   },
   {
    "duration": 33,
    "start_time": "2022-08-24T04:48:46.221Z"
   },
   {
    "duration": 4,
    "start_time": "2022-08-24T04:48:46.710Z"
   },
   {
    "duration": 79,
    "start_time": "2022-08-24T04:48:47.038Z"
   },
   {
    "duration": 36,
    "start_time": "2022-08-24T04:48:49.404Z"
   },
   {
    "duration": 9,
    "start_time": "2022-08-24T04:48:49.607Z"
   },
   {
    "duration": 19,
    "start_time": "2022-08-24T04:48:49.828Z"
   },
   {
    "duration": 39,
    "start_time": "2022-08-24T04:48:50.047Z"
   },
   {
    "duration": 57,
    "start_time": "2022-08-24T04:48:51.410Z"
   },
   {
    "duration": 61,
    "start_time": "2022-08-24T04:48:51.612Z"
   },
   {
    "duration": 61,
    "start_time": "2022-08-24T04:48:51.810Z"
   },
   {
    "duration": 27,
    "start_time": "2022-08-24T04:48:51.999Z"
   },
   {
    "duration": 28,
    "start_time": "2022-08-24T04:48:52.250Z"
   },
   {
    "duration": 28,
    "start_time": "2022-08-24T04:48:55.082Z"
   },
   {
    "duration": 258,
    "start_time": "2022-08-24T04:48:55.298Z"
   },
   {
    "duration": 35,
    "start_time": "2022-08-24T04:48:55.825Z"
   },
   {
    "duration": 59,
    "start_time": "2022-08-24T04:48:57.865Z"
   },
   {
    "duration": 219,
    "start_time": "2022-08-24T04:48:58.464Z"
   },
   {
    "duration": 61,
    "start_time": "2022-08-24T04:48:58.687Z"
   },
   {
    "duration": 26,
    "start_time": "2022-08-24T04:49:00.352Z"
   },
   {
    "duration": 230,
    "start_time": "2022-08-24T04:49:00.525Z"
   },
   {
    "duration": 63,
    "start_time": "2022-08-24T04:49:00.760Z"
   },
   {
    "duration": 6,
    "start_time": "2022-08-24T04:49:06.778Z"
   },
   {
    "duration": 152,
    "start_time": "2022-08-24T04:49:07.236Z"
   },
   {
    "duration": 8,
    "start_time": "2022-08-24T04:49:08.971Z"
   },
   {
    "duration": 812,
    "start_time": "2022-08-24T04:49:09.321Z"
   },
   {
    "duration": 527,
    "start_time": "2022-08-24T04:49:11.763Z"
   },
   {
    "duration": 7,
    "start_time": "2022-08-24T04:49:13.117Z"
   },
   {
    "duration": 57,
    "start_time": "2022-08-24T04:49:13.806Z"
   },
   {
    "duration": 6,
    "start_time": "2022-08-24T04:49:15.135Z"
   },
   {
    "duration": 3,
    "start_time": "2022-08-24T04:49:15.755Z"
   },
   {
    "duration": 162592,
    "start_time": "2022-08-24T04:49:31.583Z"
   },
   {
    "duration": 3717,
    "start_time": "2022-08-24T04:58:48.459Z"
   },
   {
    "duration": 3122,
    "start_time": "2022-08-24T04:58:52.178Z"
   },
   {
    "duration": 84909,
    "start_time": "2022-08-24T04:58:55.301Z"
   },
   {
    "duration": 96390,
    "start_time": "2022-08-24T05:00:20.212Z"
   },
   {
    "duration": 269,
    "start_time": "2022-08-24T05:01:56.604Z"
   },
   {
    "duration": 0,
    "start_time": "2022-08-24T05:01:56.874Z"
   },
   {
    "duration": 0,
    "start_time": "2022-08-24T05:01:56.875Z"
   },
   {
    "duration": 26511,
    "start_time": "2022-08-24T05:05:01.599Z"
   },
   {
    "duration": 399,
    "start_time": "2022-08-24T05:05:28.115Z"
   },
   {
    "duration": 24,
    "start_time": "2022-08-24T05:05:28.601Z"
   },
   {
    "duration": 0,
    "start_time": "2022-08-24T05:05:28.627Z"
   },
   {
    "duration": 81598,
    "start_time": "2022-08-24T05:16:22.789Z"
   },
   {
    "duration": 656,
    "start_time": "2022-08-24T05:17:44.389Z"
   },
   {
    "duration": 27,
    "start_time": "2022-08-24T05:17:45.047Z"
   },
   {
    "duration": 67,
    "start_time": "2022-08-24T05:17:45.076Z"
   },
   {
    "duration": 135,
    "start_time": "2022-08-24T05:17:45.145Z"
   },
   {
    "duration": 346,
    "start_time": "2022-08-24T05:17:45.281Z"
   },
   {
    "duration": 749,
    "start_time": "2022-08-24T05:17:45.628Z"
   },
   {
    "duration": 202,
    "start_time": "2022-08-24T05:17:46.379Z"
   },
   {
    "duration": 99,
    "start_time": "2022-08-24T05:17:46.582Z"
   },
   {
    "duration": 3,
    "start_time": "2022-08-24T05:17:46.683Z"
   },
   {
    "duration": 49,
    "start_time": "2022-08-24T05:17:46.700Z"
   },
   {
    "duration": 28,
    "start_time": "2022-08-24T05:17:46.751Z"
   },
   {
    "duration": 64,
    "start_time": "2022-08-24T05:17:46.781Z"
   },
   {
    "duration": 184,
    "start_time": "2022-08-24T05:17:46.847Z"
   },
   {
    "duration": 28,
    "start_time": "2022-08-24T05:17:47.032Z"
   },
   {
    "duration": 25,
    "start_time": "2022-08-24T05:17:47.062Z"
   },
   {
    "duration": 55,
    "start_time": "2022-08-24T05:17:47.101Z"
   },
   {
    "duration": 50,
    "start_time": "2022-08-24T05:17:47.158Z"
   },
   {
    "duration": 54,
    "start_time": "2022-08-24T05:17:47.210Z"
   },
   {
    "duration": 39,
    "start_time": "2022-08-24T05:17:47.265Z"
   },
   {
    "duration": 4,
    "start_time": "2022-08-24T05:17:47.306Z"
   },
   {
    "duration": 96,
    "start_time": "2022-08-24T05:17:47.311Z"
   },
   {
    "duration": 33,
    "start_time": "2022-08-24T05:17:47.409Z"
   },
   {
    "duration": 10,
    "start_time": "2022-08-24T05:17:47.445Z"
   },
   {
    "duration": 44,
    "start_time": "2022-08-24T05:17:47.457Z"
   },
   {
    "duration": 47,
    "start_time": "2022-08-24T05:17:47.503Z"
   },
   {
    "duration": 80,
    "start_time": "2022-08-24T05:17:47.551Z"
   },
   {
    "duration": 66,
    "start_time": "2022-08-24T05:17:47.635Z"
   },
   {
    "duration": 59,
    "start_time": "2022-08-24T05:17:47.702Z"
   },
   {
    "duration": 41,
    "start_time": "2022-08-24T05:17:47.762Z"
   },
   {
    "duration": 26,
    "start_time": "2022-08-24T05:17:47.804Z"
   },
   {
    "duration": 36,
    "start_time": "2022-08-24T05:17:47.831Z"
   },
   {
    "duration": 246,
    "start_time": "2022-08-24T05:17:47.870Z"
   },
   {
    "duration": 31,
    "start_time": "2022-08-24T05:17:48.118Z"
   },
   {
    "duration": 109,
    "start_time": "2022-08-24T05:17:48.151Z"
   },
   {
    "duration": 226,
    "start_time": "2022-08-24T05:17:48.262Z"
   },
   {
    "duration": 58,
    "start_time": "2022-08-24T05:17:48.490Z"
   },
   {
    "duration": 27,
    "start_time": "2022-08-24T05:17:48.550Z"
   },
   {
    "duration": 233,
    "start_time": "2022-08-24T05:17:48.578Z"
   },
   {
    "duration": 55,
    "start_time": "2022-08-24T05:17:48.813Z"
   },
   {
    "duration": 5,
    "start_time": "2022-08-24T05:17:48.869Z"
   },
   {
    "duration": 152,
    "start_time": "2022-08-24T05:17:48.875Z"
   },
   {
    "duration": 7,
    "start_time": "2022-08-24T05:17:49.028Z"
   },
   {
    "duration": 767,
    "start_time": "2022-08-24T05:17:49.036Z"
   },
   {
    "duration": 528,
    "start_time": "2022-08-24T05:17:49.805Z"
   },
   {
    "duration": 5,
    "start_time": "2022-08-24T05:17:50.334Z"
   },
   {
    "duration": 60,
    "start_time": "2022-08-24T05:17:50.341Z"
   },
   {
    "duration": 5,
    "start_time": "2022-08-24T05:17:50.403Z"
   },
   {
    "duration": 5,
    "start_time": "2022-08-24T05:17:50.410Z"
   },
   {
    "duration": 22087,
    "start_time": "2022-08-24T05:17:50.416Z"
   },
   {
    "duration": 451269,
    "start_time": "2022-08-24T05:18:12.505Z"
   },
   {
    "duration": 323525,
    "start_time": "2022-08-24T05:25:43.776Z"
   },
   {
    "duration": 305020,
    "start_time": "2022-08-24T05:31:07.303Z"
   },
   {
    "duration": 33136,
    "start_time": "2022-08-24T05:36:12.403Z"
   },
   {
    "duration": 149805,
    "start_time": "2022-08-24T05:36:45.541Z"
   },
   {
    "duration": 9,
    "start_time": "2022-08-24T05:39:15.348Z"
   },
   {
    "duration": 1416745,
    "start_time": "2022-08-24T05:39:15.360Z"
   },
   {
    "duration": 87762,
    "start_time": "2022-08-24T06:02:52.106Z"
   },
   {
    "duration": 101298,
    "start_time": "2022-08-24T06:04:19.869Z"
   },
   {
    "duration": 3323554,
    "start_time": "2022-08-24T06:06:01.169Z"
   },
   {
    "duration": 1133981,
    "start_time": "2022-08-24T07:01:24.724Z"
   },
   {
    "duration": 159502,
    "start_time": "2022-08-24T07:20:18.706Z"
   },
   {
    "duration": 3116,
    "start_time": "2022-08-24T07:22:58.210Z"
   },
   {
    "duration": 3117,
    "start_time": "2022-08-24T07:23:01.328Z"
   },
   {
    "duration": 88270,
    "start_time": "2022-08-24T07:23:04.447Z"
   },
   {
    "duration": 87185,
    "start_time": "2022-08-24T07:24:32.719Z"
   },
   {
    "duration": 408,
    "start_time": "2022-08-24T07:25:59.906Z"
   },
   {
    "duration": 9,
    "start_time": "2022-08-24T07:26:00.316Z"
   },
   {
    "duration": 78,
    "start_time": "2022-08-24T07:26:00.329Z"
   },
   {
    "duration": 113,
    "start_time": "2022-08-24T08:45:58.816Z"
   },
   {
    "duration": 16,
    "start_time": "2022-08-24T08:51:49.926Z"
   }
  ],
  "kernelspec": {
   "display_name": "Python 3 (ipykernel)",
   "language": "python",
   "name": "python3"
  },
  "language_info": {
   "codemirror_mode": {
    "name": "ipython",
    "version": 3
   },
   "file_extension": ".py",
   "mimetype": "text/x-python",
   "name": "python",
   "nbconvert_exporter": "python",
   "pygments_lexer": "ipython3",
   "version": "3.9.12"
  },
  "toc": {
   "base_numbering": 1,
   "nav_menu": {},
   "number_sections": true,
   "sideBar": true,
   "skip_h1_title": true,
   "title_cell": "Table of Contents",
   "title_sidebar": "Contents",
   "toc_cell": false,
   "toc_position": {},
   "toc_section_display": true,
   "toc_window_display": false
  }
 },
 "nbformat": 4,
 "nbformat_minor": 2
}
