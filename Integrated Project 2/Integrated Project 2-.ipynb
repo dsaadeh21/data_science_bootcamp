{
 "cells": [
  {
   "cell_type": "code",
   "execution_count": 1,
   "id": "9697d05c",
   "metadata": {
    "id": "9697d05c"
   },
   "outputs": [],
   "source": [
    "import pandas as pd\n",
    "import numpy as np\n",
    "from sklearn.model_selection import train_test_split\n",
    "from sklearn.metrics import mean_squared_error\n",
    "from sklearn.tree import DecisionTreeRegressor\n",
    "from sklearn.tree import DecisionTreeClassifier\n",
    "from sklearn.metrics import accuracy_score\n",
    "from sklearn.preprocessing import StandardScaler\n",
    "from sklearn.datasets import load_iris\n",
    "from sklearn import metrics\n",
    "from sklearn.metrics import mean_squared_error, r2_score\n",
    "import matplotlib.pyplot as plt\n",
    "from sklearn.linear_model import LinearRegression\n",
    "from sklearn.linear_model import LogisticRegression\n",
    "import seaborn as sns\n",
    "from sklearn import preprocessing\n",
    "from sklearn.metrics import mean_absolute_error as mae\n",
    "from sklearn.model_selection import cross_val_score\n",
    "import seaborn as sns\n",
    "import matplotlib.pyplot as plt\n",
    "from sklearn.metrics import make_scorer\n",
    "from sklearn.preprocessing import StandardScaler\n",
    "from sklearn.linear_model import LinearRegression\n",
    "from sklearn.tree import DecisionTreeRegressor\n",
    "from sklearn.ensemble import RandomForestRegressor\n",
    "from sklearn.metrics import fbeta_score, make_scorer\n",
    "from warnings import simplefilter\n",
    "from sklearn.model_selection import GridSearchCV\n",
    "from sklearn.model_selection import RandomizedSearchCV\n",
    "from sklearn.dummy import DummyRegressor"
   ]
  },
  {
   "cell_type": "code",
   "execution_count": 2,
   "id": "382fd911",
   "metadata": {
    "colab": {
     "base_uri": "https://localhost:8080/",
     "height": 345
    },
    "id": "382fd911",
    "outputId": "bfbb7495-e322-4f93-f6be-31c15a58139e"
   },
   "outputs": [],
   "source": [
    "test_set=pd.read_csv('gold_recovery_test.csv')\n",
    "train_set=pd.read_csv('gold_recovery_train.csv')\n",
    "data=pd.read_csv('gold_recovery_full.csv')"
   ]
  },
  {
   "cell_type": "code",
   "execution_count": 3,
   "id": "efb7a6e3",
   "metadata": {
    "id": "efb7a6e3"
   },
   "outputs": [
    {
     "name": "stdout",
     "output_type": "stream",
     "text": [
      "                  date  primary_cleaner.input.sulfate  \\\n",
      "0  2016-09-01 00:59:59                     210.800909   \n",
      "1  2016-09-01 01:59:59                     215.392455   \n",
      "2  2016-09-01 02:59:59                     215.259946   \n",
      "3  2016-09-01 03:59:59                     215.336236   \n",
      "4  2016-09-01 04:59:59                     199.099327   \n",
      "5  2016-09-01 05:59:59                     168.485085   \n",
      "6  2016-09-01 06:59:59                     144.133440   \n",
      "7  2016-09-01 07:59:59                     133.513396   \n",
      "8  2016-09-01 08:59:59                     133.735356   \n",
      "9  2016-09-01 09:59:59                     126.961069   \n",
      "\n",
      "   primary_cleaner.input.depressant  primary_cleaner.input.feed_size  \\\n",
      "0                         14.993118                         8.080000   \n",
      "1                         14.987471                         8.080000   \n",
      "2                         12.884934                         7.786667   \n",
      "3                         12.006805                         7.640000   \n",
      "4                         10.682530                         7.530000   \n",
      "5                          8.817007                         7.420000   \n",
      "6                          7.924610                         7.420000   \n",
      "7                          8.055252                         6.988000   \n",
      "8                          7.999618                         6.935000   \n",
      "9                          8.017856                         7.030000   \n",
      "\n",
      "   primary_cleaner.input.xanthate  primary_cleaner.state.floatbank8_a_air  \\\n",
      "0                        1.005021                             1398.981301   \n",
      "1                        0.990469                             1398.777912   \n",
      "2                        0.996043                             1398.493666   \n",
      "3                        0.863514                             1399.618111   \n",
      "4                        0.805575                             1401.268123   \n",
      "5                        0.791191                             1402.826803   \n",
      "6                        0.788838                             1398.252401   \n",
      "7                        0.801871                             1401.669677   \n",
      "8                        0.789329                             1402.358981   \n",
      "9                        0.805298                             1400.816120   \n",
      "\n",
      "   primary_cleaner.state.floatbank8_a_level  \\\n",
      "0                               -500.225577   \n",
      "1                               -500.057435   \n",
      "2                               -500.868360   \n",
      "3                               -498.863574   \n",
      "4                               -500.808305   \n",
      "5                               -499.299521   \n",
      "6                               -499.748672   \n",
      "7                               -501.777839   \n",
      "8                               -499.981597   \n",
      "9                               -499.014158   \n",
      "\n",
      "   primary_cleaner.state.floatbank8_b_air  \\\n",
      "0                             1399.144926   \n",
      "1                             1398.055362   \n",
      "2                             1398.860436   \n",
      "3                             1397.440120   \n",
      "4                             1398.128818   \n",
      "5                             1401.511119   \n",
      "6                             1393.255503   \n",
      "7                             1400.754446   \n",
      "8                             1400.985954   \n",
      "9                             1399.975401   \n",
      "\n",
      "   primary_cleaner.state.floatbank8_b_level  \\\n",
      "0                               -499.919735   \n",
      "1                               -499.778182   \n",
      "2                               -499.764529   \n",
      "3                               -499.211024   \n",
      "4                               -499.504543   \n",
      "5                               -499.205357   \n",
      "6                               -499.195380   \n",
      "7                               -502.514024   \n",
      "8                               -496.802968   \n",
      "9                               -499.570552   \n",
      "\n",
      "   primary_cleaner.state.floatbank8_c_air  ...  \\\n",
      "0                             1400.102998  ...   \n",
      "1                             1396.151033  ...   \n",
      "2                             1398.075709  ...   \n",
      "3                             1400.129303  ...   \n",
      "4                             1402.172226  ...   \n",
      "5                             1404.088107  ...   \n",
      "6                             1396.738566  ...   \n",
      "7                             1400.465244  ...   \n",
      "8                             1401.168584  ...   \n",
      "9                             1401.871924  ...   \n",
      "\n",
      "   secondary_cleaner.state.floatbank4_a_air  \\\n",
      "0                                 12.023554   \n",
      "1                                 12.058140   \n",
      "2                                 11.962366   \n",
      "3                                 12.033091   \n",
      "4                                 12.025367   \n",
      "5                                 12.029797   \n",
      "6                                 12.026296   \n",
      "7                                 12.040911   \n",
      "8                                 11.998184   \n",
      "9                                 12.040725   \n",
      "\n",
      "   secondary_cleaner.state.floatbank4_a_level  \\\n",
      "0                                 -497.795834   \n",
      "1                                 -498.695773   \n",
      "2                                 -498.767484   \n",
      "3                                 -498.350935   \n",
      "4                                 -500.786497   \n",
      "5                                 -499.814895   \n",
      "6                                 -499.473127   \n",
      "7                                 -501.293852   \n",
      "8                                 -499.481608   \n",
      "9                                 -499.987743   \n",
      "\n",
      "   secondary_cleaner.state.floatbank4_b_air  \\\n",
      "0                                  8.016656   \n",
      "1                                  8.130979   \n",
      "2                                  8.096893   \n",
      "3                                  8.074946   \n",
      "4                                  8.054678   \n",
      "5                                  8.036586   \n",
      "6                                  8.027984   \n",
      "7                                  8.020490   \n",
      "8                                  8.012610   \n",
      "9                                  7.989503   \n",
      "\n",
      "   secondary_cleaner.state.floatbank4_b_level  \\\n",
      "0                                 -501.289139   \n",
      "1                                 -499.634209   \n",
      "2                                 -500.827423   \n",
      "3                                 -499.474407   \n",
      "4                                 -500.397500   \n",
      "5                                 -500.371492   \n",
      "6                                 -500.983079   \n",
      "7                                 -499.185229   \n",
      "8                                 -500.896783   \n",
      "9                                 -499.750625   \n",
      "\n",
      "   secondary_cleaner.state.floatbank5_a_air  \\\n",
      "0                                  7.946562   \n",
      "1                                  7.958270   \n",
      "2                                  8.071056   \n",
      "3                                  7.897085   \n",
      "4                                  8.107890   \n",
      "5                                  8.041446   \n",
      "6                                  7.907340   \n",
      "7                                  8.116897   \n",
      "8                                  7.974422   \n",
      "9                                  7.989710   \n",
      "\n",
      "   secondary_cleaner.state.floatbank5_a_level  \\\n",
      "0                                 -432.317850   \n",
      "1                                 -525.839648   \n",
      "2                                 -500.801673   \n",
      "3                                 -500.868509   \n",
      "4                                 -509.526725   \n",
      "5                                 -510.037054   \n",
      "6                                 -507.964971   \n",
      "7                                 -511.927561   \n",
      "8                                 -521.199104   \n",
      "9                                 -509.946737   \n",
      "\n",
      "   secondary_cleaner.state.floatbank5_b_air  \\\n",
      "0                                  4.872511   \n",
      "1                                  4.878850   \n",
      "2                                  4.905125   \n",
      "3                                  4.931400   \n",
      "4                                  4.957674   \n",
      "5                                  4.983949   \n",
      "6                                  5.010224   \n",
      "7                                  5.036498   \n",
      "8                                  5.061599   \n",
      "9                                  5.068811   \n",
      "\n",
      "   secondary_cleaner.state.floatbank5_b_level  \\\n",
      "0                                 -500.037437   \n",
      "1                                 -500.162375   \n",
      "2                                 -499.828510   \n",
      "3                                 -499.963623   \n",
      "4                                 -500.360026   \n",
      "5                                 -499.990990   \n",
      "6                                 -500.043697   \n",
      "7                                 -500.149615   \n",
      "8                                 -499.791519   \n",
      "9                                 -499.293900   \n",
      "\n",
      "   secondary_cleaner.state.floatbank6_a_air  \\\n",
      "0                                 26.705889   \n",
      "1                                 25.019940   \n",
      "2                                 24.994862   \n",
      "3                                 24.948919   \n",
      "4                                 25.003331   \n",
      "5                                 24.978973   \n",
      "6                                 25.040709   \n",
      "7                                 25.032580   \n",
      "8                                 25.005063   \n",
      "9                                 24.992741   \n",
      "\n",
      "   secondary_cleaner.state.floatbank6_a_level  \n",
      "0                                 -499.709414  \n",
      "1                                 -499.819438  \n",
      "2                                 -500.622559  \n",
      "3                                 -498.709987  \n",
      "4                                 -500.856333  \n",
      "5                                 -500.475640  \n",
      "6                                 -499.501984  \n",
      "7                                 -503.970657  \n",
      "8                                 -497.613716  \n",
      "9                                 -499.272255  \n",
      "\n",
      "[10 rows x 53 columns]\n"
     ]
    }
   ],
   "source": [
    "print(test_set.head(10))"
   ]
  },
  {
   "cell_type": "code",
   "execution_count": 4,
   "id": "e8d8b936",
   "metadata": {
    "id": "e8d8b936"
   },
   "outputs": [
    {
     "name": "stdout",
     "output_type": "stream",
     "text": [
      "                      date  final.output.concentrate_ag  \\\n",
      "0      2016-01-15 00:00:00                     6.055403   \n",
      "1      2016-01-15 01:00:00                     6.029369   \n",
      "2      2016-01-15 02:00:00                     6.055926   \n",
      "3      2016-01-15 03:00:00                     6.047977   \n",
      "4      2016-01-15 04:00:00                     6.148599   \n",
      "...                    ...                          ...   \n",
      "16855  2018-08-18 06:59:59                     3.224920   \n",
      "16856  2018-08-18 07:59:59                     3.195978   \n",
      "16857  2018-08-18 08:59:59                     3.109998   \n",
      "16858  2018-08-18 09:59:59                     3.367241   \n",
      "16859  2018-08-18 10:59:59                     3.598375   \n",
      "\n",
      "       final.output.concentrate_pb  final.output.concentrate_sol  \\\n",
      "0                         9.889648                      5.507324   \n",
      "1                         9.968944                      5.257781   \n",
      "2                        10.213995                      5.383759   \n",
      "3                         9.977019                      4.858634   \n",
      "4                        10.142511                      4.939416   \n",
      "...                            ...                           ...   \n",
      "16855                    11.356233                      6.803482   \n",
      "16856                    11.349355                      6.862249   \n",
      "16857                    11.434366                      6.886013   \n",
      "16858                    11.625587                      6.799433   \n",
      "16859                    11.737832                      6.717509   \n",
      "\n",
      "       final.output.concentrate_au  final.output.recovery  \\\n",
      "0                        42.192020              70.541216   \n",
      "1                        42.701629              69.266198   \n",
      "2                        42.657501              68.116445   \n",
      "3                        42.689819              68.347543   \n",
      "4                        42.774141              66.927016   \n",
      "...                            ...                    ...   \n",
      "16855                    46.713954              73.755150   \n",
      "16856                    46.866780              69.049291   \n",
      "16857                    46.795691              67.002189   \n",
      "16858                    46.408188              65.523246   \n",
      "16859                    46.299438              70.281454   \n",
      "\n",
      "       final.output.tail_ag  final.output.tail_pb  final.output.tail_sol  \\\n",
      "0                 10.411962              0.895447              16.904297   \n",
      "1                 10.462676              0.927452              16.634514   \n",
      "2                 10.507046              0.953716              16.208849   \n",
      "3                 10.422762              0.883763              16.532835   \n",
      "4                 10.360302              0.792826              16.525686   \n",
      "...                     ...                   ...                    ...   \n",
      "16855              8.769645              3.141541              10.403181   \n",
      "16856              8.897321              3.130493              10.549470   \n",
      "16857              8.529606              2.911418              11.115147   \n",
      "16858              8.777171              2.819214              10.463847   \n",
      "16859              8.406690              2.517518              10.652193   \n",
      "\n",
      "       final.output.tail_au  ...  secondary_cleaner.state.floatbank4_a_air  \\\n",
      "0                  2.143149  ...                                 14.016835   \n",
      "1                  2.224930  ...                                 13.992281   \n",
      "2                  2.257889  ...                                 14.015015   \n",
      "3                  2.146849  ...                                 14.036510   \n",
      "4                  2.055292  ...                                 14.027298   \n",
      "...                     ...  ...                                       ...   \n",
      "16855              1.529220  ...                                 23.031497   \n",
      "16856              1.612542  ...                                 22.960095   \n",
      "16857              1.596616  ...                                 23.015718   \n",
      "16858              1.602879  ...                                 23.024963   \n",
      "16859              1.389434  ...                                 23.018622   \n",
      "\n",
      "       secondary_cleaner.state.floatbank4_a_level  \\\n",
      "0                                     -502.488007   \n",
      "1                                     -505.503262   \n",
      "2                                     -502.520901   \n",
      "3                                     -500.857308   \n",
      "4                                     -499.838632   \n",
      "...                                           ...   \n",
      "16855                                 -501.167942   \n",
      "16856                                 -501.612783   \n",
      "16857                                 -501.711599   \n",
      "16858                                 -501.153409   \n",
      "16859                                 -500.492702   \n",
      "\n",
      "       secondary_cleaner.state.floatbank4_b_air  \\\n",
      "0                                     12.099931   \n",
      "1                                     11.950531   \n",
      "2                                     11.912783   \n",
      "3                                     11.999550   \n",
      "4                                     11.953070   \n",
      "...                                         ...   \n",
      "16855                                 20.007571   \n",
      "16856                                 20.035660   \n",
      "16857                                 19.951231   \n",
      "16858                                 20.054122   \n",
      "16859                                 20.020205   \n",
      "\n",
      "       secondary_cleaner.state.floatbank4_b_level  \\\n",
      "0                                     -504.715942   \n",
      "1                                     -501.331529   \n",
      "2                                     -501.133383   \n",
      "3                                     -501.193686   \n",
      "4                                     -501.053894   \n",
      "...                                           ...   \n",
      "16855                                 -499.740028   \n",
      "16856                                 -500.251357   \n",
      "16857                                 -499.857027   \n",
      "16858                                 -500.314711   \n",
      "16859                                 -500.220296   \n",
      "\n",
      "       secondary_cleaner.state.floatbank5_a_air  \\\n",
      "0                                      9.925633   \n",
      "1                                     10.039245   \n",
      "2                                     10.070913   \n",
      "3                                      9.970366   \n",
      "4                                      9.925709   \n",
      "...                                         ...   \n",
      "16855                                 18.006038   \n",
      "16856                                 17.998535   \n",
      "16857                                 18.019543   \n",
      "16858                                 17.979515   \n",
      "16859                                 17.963512   \n",
      "\n",
      "       secondary_cleaner.state.floatbank5_a_level  \\\n",
      "0                                     -498.310211   \n",
      "1                                     -500.169983   \n",
      "2                                     -500.129135   \n",
      "3                                     -499.201640   \n",
      "4                                     -501.686727   \n",
      "...                                           ...   \n",
      "16855                                 -499.834374   \n",
      "16856                                 -500.395178   \n",
      "16857                                 -500.451156   \n",
      "16858                                 -499.272871   \n",
      "16859                                 -499.939490   \n",
      "\n",
      "       secondary_cleaner.state.floatbank5_b_air  \\\n",
      "0                                      8.079666   \n",
      "1                                      7.984757   \n",
      "2                                      8.013877   \n",
      "3                                      7.977324   \n",
      "4                                      7.894242   \n",
      "...                                         ...   \n",
      "16855                                 13.001114   \n",
      "16856                                 12.954048   \n",
      "16857                                 13.023431   \n",
      "16858                                 12.992404   \n",
      "16859                                 12.990306   \n",
      "\n",
      "       secondary_cleaner.state.floatbank5_b_level  \\\n",
      "0                                     -500.470978   \n",
      "1                                     -500.582168   \n",
      "2                                     -500.517572   \n",
      "3                                     -500.255908   \n",
      "4                                     -500.356035   \n",
      "...                                           ...   \n",
      "16855                                 -500.155694   \n",
      "16856                                 -499.895163   \n",
      "16857                                 -499.914391   \n",
      "16858                                 -499.976268   \n",
      "16859                                 -500.080993   \n",
      "\n",
      "       secondary_cleaner.state.floatbank6_a_air  \\\n",
      "0                                     14.151341   \n",
      "1                                     13.998353   \n",
      "2                                     14.028663   \n",
      "3                                     14.005551   \n",
      "4                                     13.996647   \n",
      "...                                         ...   \n",
      "16855                                 20.007840   \n",
      "16856                                 19.968498   \n",
      "16857                                 19.990885   \n",
      "16858                                 20.013986   \n",
      "16859                                 19.990336   \n",
      "\n",
      "       secondary_cleaner.state.floatbank6_a_level  \n",
      "0                                     -605.841980  \n",
      "1                                     -599.787184  \n",
      "2                                     -601.427363  \n",
      "3                                     -599.996129  \n",
      "4                                     -601.496691  \n",
      "...                                           ...  \n",
      "16855                                 -501.296428  \n",
      "16856                                 -501.041608  \n",
      "16857                                 -501.518452  \n",
      "16858                                 -500.625471  \n",
      "16859                                 -499.191575  \n",
      "\n",
      "[16860 rows x 87 columns]\n"
     ]
    }
   ],
   "source": [
    "print(train_set)"
   ]
  },
  {
   "cell_type": "code",
   "execution_count": 5,
   "id": "bb6d436a",
   "metadata": {
    "id": "bb6d436a"
   },
   "outputs": [
    {
     "data": {
      "text/plain": [
       "date                                            0\n",
       "final.output.concentrate_ag                    89\n",
       "final.output.concentrate_pb                    87\n",
       "final.output.concentrate_sol                  385\n",
       "final.output.concentrate_au                    86\n",
       "                                             ... \n",
       "secondary_cleaner.state.floatbank5_a_level    101\n",
       "secondary_cleaner.state.floatbank5_b_air      101\n",
       "secondary_cleaner.state.floatbank5_b_level    100\n",
       "secondary_cleaner.state.floatbank6_a_air      119\n",
       "secondary_cleaner.state.floatbank6_a_level    101\n",
       "Length: 87, dtype: int64"
      ]
     },
     "execution_count": 5,
     "metadata": {},
     "output_type": "execute_result"
    }
   ],
   "source": [
    "data.head()\n",
    "data.shape\n",
    "data.isna().sum()"
   ]
  },
  {
   "cell_type": "code",
   "execution_count": 6,
   "id": "1cff07fa",
   "metadata": {
    "id": "1cff07fa"
   },
   "outputs": [
    {
     "data": {
      "text/plain": [
       "Index(['date', 'final.output.concentrate_ag', 'final.output.concentrate_pb',\n",
       "       'final.output.concentrate_sol', 'final.output.concentrate_au',\n",
       "       'final.output.recovery', 'final.output.tail_ag', 'final.output.tail_pb',\n",
       "       'final.output.tail_sol', 'final.output.tail_au',\n",
       "       'primary_cleaner.input.sulfate', 'primary_cleaner.input.depressant',\n",
       "       'primary_cleaner.input.feed_size', 'primary_cleaner.input.xanthate',\n",
       "       'primary_cleaner.output.concentrate_ag',\n",
       "       'primary_cleaner.output.concentrate_pb',\n",
       "       'primary_cleaner.output.concentrate_sol',\n",
       "       'primary_cleaner.output.concentrate_au',\n",
       "       'primary_cleaner.output.tail_ag', 'primary_cleaner.output.tail_pb',\n",
       "       'primary_cleaner.output.tail_sol', 'primary_cleaner.output.tail_au',\n",
       "       'primary_cleaner.state.floatbank8_a_air',\n",
       "       'primary_cleaner.state.floatbank8_a_level',\n",
       "       'primary_cleaner.state.floatbank8_b_air',\n",
       "       'primary_cleaner.state.floatbank8_b_level',\n",
       "       'primary_cleaner.state.floatbank8_c_air',\n",
       "       'primary_cleaner.state.floatbank8_c_level',\n",
       "       'primary_cleaner.state.floatbank8_d_air',\n",
       "       'primary_cleaner.state.floatbank8_d_level',\n",
       "       'rougher.calculation.sulfate_to_au_concentrate',\n",
       "       'rougher.calculation.floatbank10_sulfate_to_au_feed',\n",
       "       'rougher.calculation.floatbank11_sulfate_to_au_feed',\n",
       "       'rougher.calculation.au_pb_ratio', 'rougher.input.feed_ag',\n",
       "       'rougher.input.feed_pb', 'rougher.input.feed_rate',\n",
       "       'rougher.input.feed_size', 'rougher.input.feed_sol',\n",
       "       'rougher.input.feed_au', 'rougher.input.floatbank10_sulfate',\n",
       "       'rougher.input.floatbank10_xanthate',\n",
       "       'rougher.input.floatbank11_sulfate',\n",
       "       'rougher.input.floatbank11_xanthate', 'rougher.output.concentrate_ag',\n",
       "       'rougher.output.concentrate_pb', 'rougher.output.concentrate_sol',\n",
       "       'rougher.output.concentrate_au', 'rougher.output.recovery',\n",
       "       'rougher.output.tail_ag', 'rougher.output.tail_pb',\n",
       "       'rougher.output.tail_sol', 'rougher.output.tail_au',\n",
       "       'rougher.state.floatbank10_a_air', 'rougher.state.floatbank10_a_level',\n",
       "       'rougher.state.floatbank10_b_air', 'rougher.state.floatbank10_b_level',\n",
       "       'rougher.state.floatbank10_c_air', 'rougher.state.floatbank10_c_level',\n",
       "       'rougher.state.floatbank10_d_air', 'rougher.state.floatbank10_d_level',\n",
       "       'rougher.state.floatbank10_e_air', 'rougher.state.floatbank10_e_level',\n",
       "       'rougher.state.floatbank10_f_air', 'rougher.state.floatbank10_f_level',\n",
       "       'secondary_cleaner.output.tail_ag', 'secondary_cleaner.output.tail_pb',\n",
       "       'secondary_cleaner.output.tail_sol', 'secondary_cleaner.output.tail_au',\n",
       "       'secondary_cleaner.state.floatbank2_a_air',\n",
       "       'secondary_cleaner.state.floatbank2_a_level',\n",
       "       'secondary_cleaner.state.floatbank2_b_air',\n",
       "       'secondary_cleaner.state.floatbank2_b_level',\n",
       "       'secondary_cleaner.state.floatbank3_a_air',\n",
       "       'secondary_cleaner.state.floatbank3_a_level',\n",
       "       'secondary_cleaner.state.floatbank3_b_air',\n",
       "       'secondary_cleaner.state.floatbank3_b_level',\n",
       "       'secondary_cleaner.state.floatbank4_a_air',\n",
       "       'secondary_cleaner.state.floatbank4_a_level',\n",
       "       'secondary_cleaner.state.floatbank4_b_air',\n",
       "       'secondary_cleaner.state.floatbank4_b_level',\n",
       "       'secondary_cleaner.state.floatbank5_a_air',\n",
       "       'secondary_cleaner.state.floatbank5_a_level',\n",
       "       'secondary_cleaner.state.floatbank5_b_air',\n",
       "       'secondary_cleaner.state.floatbank5_b_level',\n",
       "       'secondary_cleaner.state.floatbank6_a_air',\n",
       "       'secondary_cleaner.state.floatbank6_a_level'],\n",
       "      dtype='object')"
      ]
     },
     "execution_count": 6,
     "metadata": {},
     "output_type": "execute_result"
    }
   ],
   "source": [
    "data.columns"
   ]
  },
  {
   "cell_type": "code",
   "execution_count": 7,
   "id": "fed4f8c3",
   "metadata": {
    "id": "fed4f8c3",
    "scrolled": true
   },
   "outputs": [
    {
     "data": {
      "text/html": [
       "<div>\n",
       "<style scoped>\n",
       "    .dataframe tbody tr th:only-of-type {\n",
       "        vertical-align: middle;\n",
       "    }\n",
       "\n",
       "    .dataframe tbody tr th {\n",
       "        vertical-align: top;\n",
       "    }\n",
       "\n",
       "    .dataframe thead th {\n",
       "        text-align: right;\n",
       "    }\n",
       "</style>\n",
       "<table border=\"1\" class=\"dataframe\">\n",
       "  <thead>\n",
       "    <tr style=\"text-align: right;\">\n",
       "      <th></th>\n",
       "      <th>date</th>\n",
       "      <th>final.output.concentrate_ag</th>\n",
       "      <th>final.output.concentrate_pb</th>\n",
       "      <th>final.output.concentrate_sol</th>\n",
       "      <th>final.output.concentrate_au</th>\n",
       "      <th>final.output.recovery</th>\n",
       "      <th>final.output.tail_ag</th>\n",
       "      <th>final.output.tail_pb</th>\n",
       "      <th>final.output.tail_sol</th>\n",
       "      <th>final.output.tail_au</th>\n",
       "      <th>...</th>\n",
       "      <th>secondary_cleaner.state.floatbank4_a_air</th>\n",
       "      <th>secondary_cleaner.state.floatbank4_a_level</th>\n",
       "      <th>secondary_cleaner.state.floatbank4_b_air</th>\n",
       "      <th>secondary_cleaner.state.floatbank4_b_level</th>\n",
       "      <th>secondary_cleaner.state.floatbank5_a_air</th>\n",
       "      <th>secondary_cleaner.state.floatbank5_a_level</th>\n",
       "      <th>secondary_cleaner.state.floatbank5_b_air</th>\n",
       "      <th>secondary_cleaner.state.floatbank5_b_level</th>\n",
       "      <th>secondary_cleaner.state.floatbank6_a_air</th>\n",
       "      <th>secondary_cleaner.state.floatbank6_a_level</th>\n",
       "    </tr>\n",
       "  </thead>\n",
       "  <tbody>\n",
       "    <tr>\n",
       "      <th>0</th>\n",
       "      <td>2016-01-15 00:00:00</td>\n",
       "      <td>6.055403</td>\n",
       "      <td>9.889648</td>\n",
       "      <td>5.507324</td>\n",
       "      <td>42.192020</td>\n",
       "      <td>70.541216</td>\n",
       "      <td>10.411962</td>\n",
       "      <td>0.895447</td>\n",
       "      <td>16.904297</td>\n",
       "      <td>2.143149</td>\n",
       "      <td>...</td>\n",
       "      <td>14.016835</td>\n",
       "      <td>-502.488007</td>\n",
       "      <td>12.099931</td>\n",
       "      <td>-504.715942</td>\n",
       "      <td>9.925633</td>\n",
       "      <td>-498.310211</td>\n",
       "      <td>8.079666</td>\n",
       "      <td>-500.470978</td>\n",
       "      <td>14.151341</td>\n",
       "      <td>-605.841980</td>\n",
       "    </tr>\n",
       "    <tr>\n",
       "      <th>1</th>\n",
       "      <td>2016-01-15 01:00:00</td>\n",
       "      <td>6.029369</td>\n",
       "      <td>9.968944</td>\n",
       "      <td>5.257781</td>\n",
       "      <td>42.701629</td>\n",
       "      <td>69.266198</td>\n",
       "      <td>10.462676</td>\n",
       "      <td>0.927452</td>\n",
       "      <td>16.634514</td>\n",
       "      <td>2.224930</td>\n",
       "      <td>...</td>\n",
       "      <td>13.992281</td>\n",
       "      <td>-505.503262</td>\n",
       "      <td>11.950531</td>\n",
       "      <td>-501.331529</td>\n",
       "      <td>10.039245</td>\n",
       "      <td>-500.169983</td>\n",
       "      <td>7.984757</td>\n",
       "      <td>-500.582168</td>\n",
       "      <td>13.998353</td>\n",
       "      <td>-599.787184</td>\n",
       "    </tr>\n",
       "    <tr>\n",
       "      <th>2</th>\n",
       "      <td>2016-01-15 02:00:00</td>\n",
       "      <td>6.055926</td>\n",
       "      <td>10.213995</td>\n",
       "      <td>5.383759</td>\n",
       "      <td>42.657501</td>\n",
       "      <td>68.116445</td>\n",
       "      <td>10.507046</td>\n",
       "      <td>0.953716</td>\n",
       "      <td>16.208849</td>\n",
       "      <td>2.257889</td>\n",
       "      <td>...</td>\n",
       "      <td>14.015015</td>\n",
       "      <td>-502.520901</td>\n",
       "      <td>11.912783</td>\n",
       "      <td>-501.133383</td>\n",
       "      <td>10.070913</td>\n",
       "      <td>-500.129135</td>\n",
       "      <td>8.013877</td>\n",
       "      <td>-500.517572</td>\n",
       "      <td>14.028663</td>\n",
       "      <td>-601.427363</td>\n",
       "    </tr>\n",
       "    <tr>\n",
       "      <th>3</th>\n",
       "      <td>2016-01-15 03:00:00</td>\n",
       "      <td>6.047977</td>\n",
       "      <td>9.977019</td>\n",
       "      <td>4.858634</td>\n",
       "      <td>42.689819</td>\n",
       "      <td>68.347543</td>\n",
       "      <td>10.422762</td>\n",
       "      <td>0.883763</td>\n",
       "      <td>16.532835</td>\n",
       "      <td>2.146849</td>\n",
       "      <td>...</td>\n",
       "      <td>14.036510</td>\n",
       "      <td>-500.857308</td>\n",
       "      <td>11.999550</td>\n",
       "      <td>-501.193686</td>\n",
       "      <td>9.970366</td>\n",
       "      <td>-499.201640</td>\n",
       "      <td>7.977324</td>\n",
       "      <td>-500.255908</td>\n",
       "      <td>14.005551</td>\n",
       "      <td>-599.996129</td>\n",
       "    </tr>\n",
       "    <tr>\n",
       "      <th>4</th>\n",
       "      <td>2016-01-15 04:00:00</td>\n",
       "      <td>6.148599</td>\n",
       "      <td>10.142511</td>\n",
       "      <td>4.939416</td>\n",
       "      <td>42.774141</td>\n",
       "      <td>66.927016</td>\n",
       "      <td>10.360302</td>\n",
       "      <td>0.792826</td>\n",
       "      <td>16.525686</td>\n",
       "      <td>2.055292</td>\n",
       "      <td>...</td>\n",
       "      <td>14.027298</td>\n",
       "      <td>-499.838632</td>\n",
       "      <td>11.953070</td>\n",
       "      <td>-501.053894</td>\n",
       "      <td>9.925709</td>\n",
       "      <td>-501.686727</td>\n",
       "      <td>7.894242</td>\n",
       "      <td>-500.356035</td>\n",
       "      <td>13.996647</td>\n",
       "      <td>-601.496691</td>\n",
       "    </tr>\n",
       "    <tr>\n",
       "      <th>...</th>\n",
       "      <td>...</td>\n",
       "      <td>...</td>\n",
       "      <td>...</td>\n",
       "      <td>...</td>\n",
       "      <td>...</td>\n",
       "      <td>...</td>\n",
       "      <td>...</td>\n",
       "      <td>...</td>\n",
       "      <td>...</td>\n",
       "      <td>...</td>\n",
       "      <td>...</td>\n",
       "      <td>...</td>\n",
       "      <td>...</td>\n",
       "      <td>...</td>\n",
       "      <td>...</td>\n",
       "      <td>...</td>\n",
       "      <td>...</td>\n",
       "      <td>...</td>\n",
       "      <td>...</td>\n",
       "      <td>...</td>\n",
       "      <td>...</td>\n",
       "    </tr>\n",
       "    <tr>\n",
       "      <th>22711</th>\n",
       "      <td>2018-08-18 06:59:59</td>\n",
       "      <td>3.224920</td>\n",
       "      <td>11.356233</td>\n",
       "      <td>6.803482</td>\n",
       "      <td>46.713954</td>\n",
       "      <td>73.755150</td>\n",
       "      <td>8.769645</td>\n",
       "      <td>3.141541</td>\n",
       "      <td>10.403181</td>\n",
       "      <td>1.529220</td>\n",
       "      <td>...</td>\n",
       "      <td>23.031497</td>\n",
       "      <td>-501.167942</td>\n",
       "      <td>20.007571</td>\n",
       "      <td>-499.740028</td>\n",
       "      <td>18.006038</td>\n",
       "      <td>-499.834374</td>\n",
       "      <td>13.001114</td>\n",
       "      <td>-500.155694</td>\n",
       "      <td>20.007840</td>\n",
       "      <td>-501.296428</td>\n",
       "    </tr>\n",
       "    <tr>\n",
       "      <th>22712</th>\n",
       "      <td>2018-08-18 07:59:59</td>\n",
       "      <td>3.195978</td>\n",
       "      <td>11.349355</td>\n",
       "      <td>6.862249</td>\n",
       "      <td>46.866780</td>\n",
       "      <td>69.049291</td>\n",
       "      <td>8.897321</td>\n",
       "      <td>3.130493</td>\n",
       "      <td>10.549470</td>\n",
       "      <td>1.612542</td>\n",
       "      <td>...</td>\n",
       "      <td>22.960095</td>\n",
       "      <td>-501.612783</td>\n",
       "      <td>20.035660</td>\n",
       "      <td>-500.251357</td>\n",
       "      <td>17.998535</td>\n",
       "      <td>-500.395178</td>\n",
       "      <td>12.954048</td>\n",
       "      <td>-499.895163</td>\n",
       "      <td>19.968498</td>\n",
       "      <td>-501.041608</td>\n",
       "    </tr>\n",
       "    <tr>\n",
       "      <th>22713</th>\n",
       "      <td>2018-08-18 08:59:59</td>\n",
       "      <td>3.109998</td>\n",
       "      <td>11.434366</td>\n",
       "      <td>6.886013</td>\n",
       "      <td>46.795691</td>\n",
       "      <td>67.002189</td>\n",
       "      <td>8.529606</td>\n",
       "      <td>2.911418</td>\n",
       "      <td>11.115147</td>\n",
       "      <td>1.596616</td>\n",
       "      <td>...</td>\n",
       "      <td>23.015718</td>\n",
       "      <td>-501.711599</td>\n",
       "      <td>19.951231</td>\n",
       "      <td>-499.857027</td>\n",
       "      <td>18.019543</td>\n",
       "      <td>-500.451156</td>\n",
       "      <td>13.023431</td>\n",
       "      <td>-499.914391</td>\n",
       "      <td>19.990885</td>\n",
       "      <td>-501.518452</td>\n",
       "    </tr>\n",
       "    <tr>\n",
       "      <th>22714</th>\n",
       "      <td>2018-08-18 09:59:59</td>\n",
       "      <td>3.367241</td>\n",
       "      <td>11.625587</td>\n",
       "      <td>6.799433</td>\n",
       "      <td>46.408188</td>\n",
       "      <td>65.523246</td>\n",
       "      <td>8.777171</td>\n",
       "      <td>2.819214</td>\n",
       "      <td>10.463847</td>\n",
       "      <td>1.602879</td>\n",
       "      <td>...</td>\n",
       "      <td>23.024963</td>\n",
       "      <td>-501.153409</td>\n",
       "      <td>20.054122</td>\n",
       "      <td>-500.314711</td>\n",
       "      <td>17.979515</td>\n",
       "      <td>-499.272871</td>\n",
       "      <td>12.992404</td>\n",
       "      <td>-499.976268</td>\n",
       "      <td>20.013986</td>\n",
       "      <td>-500.625471</td>\n",
       "    </tr>\n",
       "    <tr>\n",
       "      <th>22715</th>\n",
       "      <td>2018-08-18 10:59:59</td>\n",
       "      <td>3.598375</td>\n",
       "      <td>11.737832</td>\n",
       "      <td>6.717509</td>\n",
       "      <td>46.299438</td>\n",
       "      <td>70.281454</td>\n",
       "      <td>8.406690</td>\n",
       "      <td>2.517518</td>\n",
       "      <td>10.652193</td>\n",
       "      <td>1.389434</td>\n",
       "      <td>...</td>\n",
       "      <td>23.018622</td>\n",
       "      <td>-500.492702</td>\n",
       "      <td>20.020205</td>\n",
       "      <td>-500.220296</td>\n",
       "      <td>17.963512</td>\n",
       "      <td>-499.939490</td>\n",
       "      <td>12.990306</td>\n",
       "      <td>-500.080993</td>\n",
       "      <td>19.990336</td>\n",
       "      <td>-499.191575</td>\n",
       "    </tr>\n",
       "  </tbody>\n",
       "</table>\n",
       "<p>22716 rows × 87 columns</p>\n",
       "</div>"
      ],
      "text/plain": [
       "                      date  final.output.concentrate_ag  \\\n",
       "0      2016-01-15 00:00:00                     6.055403   \n",
       "1      2016-01-15 01:00:00                     6.029369   \n",
       "2      2016-01-15 02:00:00                     6.055926   \n",
       "3      2016-01-15 03:00:00                     6.047977   \n",
       "4      2016-01-15 04:00:00                     6.148599   \n",
       "...                    ...                          ...   \n",
       "22711  2018-08-18 06:59:59                     3.224920   \n",
       "22712  2018-08-18 07:59:59                     3.195978   \n",
       "22713  2018-08-18 08:59:59                     3.109998   \n",
       "22714  2018-08-18 09:59:59                     3.367241   \n",
       "22715  2018-08-18 10:59:59                     3.598375   \n",
       "\n",
       "       final.output.concentrate_pb  final.output.concentrate_sol  \\\n",
       "0                         9.889648                      5.507324   \n",
       "1                         9.968944                      5.257781   \n",
       "2                        10.213995                      5.383759   \n",
       "3                         9.977019                      4.858634   \n",
       "4                        10.142511                      4.939416   \n",
       "...                            ...                           ...   \n",
       "22711                    11.356233                      6.803482   \n",
       "22712                    11.349355                      6.862249   \n",
       "22713                    11.434366                      6.886013   \n",
       "22714                    11.625587                      6.799433   \n",
       "22715                    11.737832                      6.717509   \n",
       "\n",
       "       final.output.concentrate_au  final.output.recovery  \\\n",
       "0                        42.192020              70.541216   \n",
       "1                        42.701629              69.266198   \n",
       "2                        42.657501              68.116445   \n",
       "3                        42.689819              68.347543   \n",
       "4                        42.774141              66.927016   \n",
       "...                            ...                    ...   \n",
       "22711                    46.713954              73.755150   \n",
       "22712                    46.866780              69.049291   \n",
       "22713                    46.795691              67.002189   \n",
       "22714                    46.408188              65.523246   \n",
       "22715                    46.299438              70.281454   \n",
       "\n",
       "       final.output.tail_ag  final.output.tail_pb  final.output.tail_sol  \\\n",
       "0                 10.411962              0.895447              16.904297   \n",
       "1                 10.462676              0.927452              16.634514   \n",
       "2                 10.507046              0.953716              16.208849   \n",
       "3                 10.422762              0.883763              16.532835   \n",
       "4                 10.360302              0.792826              16.525686   \n",
       "...                     ...                   ...                    ...   \n",
       "22711              8.769645              3.141541              10.403181   \n",
       "22712              8.897321              3.130493              10.549470   \n",
       "22713              8.529606              2.911418              11.115147   \n",
       "22714              8.777171              2.819214              10.463847   \n",
       "22715              8.406690              2.517518              10.652193   \n",
       "\n",
       "       final.output.tail_au  ...  secondary_cleaner.state.floatbank4_a_air  \\\n",
       "0                  2.143149  ...                                 14.016835   \n",
       "1                  2.224930  ...                                 13.992281   \n",
       "2                  2.257889  ...                                 14.015015   \n",
       "3                  2.146849  ...                                 14.036510   \n",
       "4                  2.055292  ...                                 14.027298   \n",
       "...                     ...  ...                                       ...   \n",
       "22711              1.529220  ...                                 23.031497   \n",
       "22712              1.612542  ...                                 22.960095   \n",
       "22713              1.596616  ...                                 23.015718   \n",
       "22714              1.602879  ...                                 23.024963   \n",
       "22715              1.389434  ...                                 23.018622   \n",
       "\n",
       "       secondary_cleaner.state.floatbank4_a_level  \\\n",
       "0                                     -502.488007   \n",
       "1                                     -505.503262   \n",
       "2                                     -502.520901   \n",
       "3                                     -500.857308   \n",
       "4                                     -499.838632   \n",
       "...                                           ...   \n",
       "22711                                 -501.167942   \n",
       "22712                                 -501.612783   \n",
       "22713                                 -501.711599   \n",
       "22714                                 -501.153409   \n",
       "22715                                 -500.492702   \n",
       "\n",
       "       secondary_cleaner.state.floatbank4_b_air  \\\n",
       "0                                     12.099931   \n",
       "1                                     11.950531   \n",
       "2                                     11.912783   \n",
       "3                                     11.999550   \n",
       "4                                     11.953070   \n",
       "...                                         ...   \n",
       "22711                                 20.007571   \n",
       "22712                                 20.035660   \n",
       "22713                                 19.951231   \n",
       "22714                                 20.054122   \n",
       "22715                                 20.020205   \n",
       "\n",
       "       secondary_cleaner.state.floatbank4_b_level  \\\n",
       "0                                     -504.715942   \n",
       "1                                     -501.331529   \n",
       "2                                     -501.133383   \n",
       "3                                     -501.193686   \n",
       "4                                     -501.053894   \n",
       "...                                           ...   \n",
       "22711                                 -499.740028   \n",
       "22712                                 -500.251357   \n",
       "22713                                 -499.857027   \n",
       "22714                                 -500.314711   \n",
       "22715                                 -500.220296   \n",
       "\n",
       "       secondary_cleaner.state.floatbank5_a_air  \\\n",
       "0                                      9.925633   \n",
       "1                                     10.039245   \n",
       "2                                     10.070913   \n",
       "3                                      9.970366   \n",
       "4                                      9.925709   \n",
       "...                                         ...   \n",
       "22711                                 18.006038   \n",
       "22712                                 17.998535   \n",
       "22713                                 18.019543   \n",
       "22714                                 17.979515   \n",
       "22715                                 17.963512   \n",
       "\n",
       "       secondary_cleaner.state.floatbank5_a_level  \\\n",
       "0                                     -498.310211   \n",
       "1                                     -500.169983   \n",
       "2                                     -500.129135   \n",
       "3                                     -499.201640   \n",
       "4                                     -501.686727   \n",
       "...                                           ...   \n",
       "22711                                 -499.834374   \n",
       "22712                                 -500.395178   \n",
       "22713                                 -500.451156   \n",
       "22714                                 -499.272871   \n",
       "22715                                 -499.939490   \n",
       "\n",
       "       secondary_cleaner.state.floatbank5_b_air  \\\n",
       "0                                      8.079666   \n",
       "1                                      7.984757   \n",
       "2                                      8.013877   \n",
       "3                                      7.977324   \n",
       "4                                      7.894242   \n",
       "...                                         ...   \n",
       "22711                                 13.001114   \n",
       "22712                                 12.954048   \n",
       "22713                                 13.023431   \n",
       "22714                                 12.992404   \n",
       "22715                                 12.990306   \n",
       "\n",
       "       secondary_cleaner.state.floatbank5_b_level  \\\n",
       "0                                     -500.470978   \n",
       "1                                     -500.582168   \n",
       "2                                     -500.517572   \n",
       "3                                     -500.255908   \n",
       "4                                     -500.356035   \n",
       "...                                           ...   \n",
       "22711                                 -500.155694   \n",
       "22712                                 -499.895163   \n",
       "22713                                 -499.914391   \n",
       "22714                                 -499.976268   \n",
       "22715                                 -500.080993   \n",
       "\n",
       "       secondary_cleaner.state.floatbank6_a_air  \\\n",
       "0                                     14.151341   \n",
       "1                                     13.998353   \n",
       "2                                     14.028663   \n",
       "3                                     14.005551   \n",
       "4                                     13.996647   \n",
       "...                                         ...   \n",
       "22711                                 20.007840   \n",
       "22712                                 19.968498   \n",
       "22713                                 19.990885   \n",
       "22714                                 20.013986   \n",
       "22715                                 19.990336   \n",
       "\n",
       "       secondary_cleaner.state.floatbank6_a_level  \n",
       "0                                     -605.841980  \n",
       "1                                     -599.787184  \n",
       "2                                     -601.427363  \n",
       "3                                     -599.996129  \n",
       "4                                     -601.496691  \n",
       "...                                           ...  \n",
       "22711                                 -501.296428  \n",
       "22712                                 -501.041608  \n",
       "22713                                 -501.518452  \n",
       "22714                                 -500.625471  \n",
       "22715                                 -499.191575  \n",
       "\n",
       "[22716 rows x 87 columns]"
      ]
     },
     "execution_count": 7,
     "metadata": {},
     "output_type": "execute_result"
    }
   ],
   "source": [
    "data"
   ]
  },
  {
   "cell_type": "markdown",
   "id": "0a443d8f",
   "metadata": {
    "id": "0a443d8f"
   },
   "source": [
    "* Below, I will check the recovery calculations in the training set:"
   ]
  },
  {
   "cell_type": "code",
   "execution_count": 8,
   "id": "271839e6",
   "metadata": {
    "id": "271839e6"
   },
   "outputs": [],
   "source": [
    "\n",
    "c= train_set['rougher.output.concentrate_au']\n",
    "f= train_set['rougher.input.feed_au'] \n",
    "t= train_set['rougher.output.tail_au'] \n",
    "train_set[\"recovery_calc\"]= 100 * (train_set['rougher.output.concentrate_au'] * (train_set['rougher.input.feed_au'] - train_set['rougher.output.tail_au'])) / (train_set['rougher.input.feed_au'] * (train_set['rougher.output.concentrate_au'] - train_set['rougher.output.tail_au']))"
   ]
  },
  {
   "cell_type": "code",
   "execution_count": 9,
   "id": "faca4077",
   "metadata": {
    "id": "faca4077",
    "scrolled": false
   },
   "outputs": [
    {
     "data": {
      "text/plain": [
       "date                                             0\n",
       "final.output.concentrate_ag                     72\n",
       "final.output.concentrate_pb                     72\n",
       "final.output.concentrate_sol                   370\n",
       "final.output.concentrate_au                     71\n",
       "                                              ... \n",
       "secondary_cleaner.state.floatbank5_b_air        85\n",
       "secondary_cleaner.state.floatbank5_b_level      84\n",
       "secondary_cleaner.state.floatbank6_a_air       103\n",
       "secondary_cleaner.state.floatbank6_a_level      85\n",
       "recovery_calc                                 2283\n",
       "Length: 88, dtype: int64"
      ]
     },
     "execution_count": 9,
     "metadata": {},
     "output_type": "execute_result"
    }
   ],
   "source": [
    "train_set.isna().sum()"
   ]
  },
  {
   "cell_type": "code",
   "execution_count": 10,
   "id": "e2aa9f3a",
   "metadata": {
    "id": "e2aa9f3a",
    "scrolled": true
   },
   "outputs": [
    {
     "data": {
      "text/plain": [
       "1.0724115653039479e-14"
      ]
     },
     "execution_count": 10,
     "metadata": {},
     "output_type": "execute_result"
    }
   ],
   "source": [
    "mae= (train_set['recovery_calc'] - train_set['rougher.output.recovery']).abs().mean()\n",
    "mae"
   ]
  },
  {
   "cell_type": "markdown",
   "id": "be1ae60c",
   "metadata": {},
   "source": [
    "* The MAE is very close to 0, which most likely means that the [rougher.output.recovery] column is calculated correctly."
   ]
  },
  {
   "cell_type": "code",
   "execution_count": 11,
   "id": "3cf270bc",
   "metadata": {
    "id": "3cf270bc",
    "scrolled": false
   },
   "outputs": [
    {
     "data": {
      "text/plain": [
       "date                                          0\n",
       "final.output.concentrate_ag                   0\n",
       "final.output.concentrate_pb                   0\n",
       "final.output.concentrate_sol                  0\n",
       "final.output.concentrate_au                   0\n",
       "                                             ..\n",
       "secondary_cleaner.state.floatbank5_b_air      0\n",
       "secondary_cleaner.state.floatbank5_b_level    0\n",
       "secondary_cleaner.state.floatbank6_a_air      0\n",
       "secondary_cleaner.state.floatbank6_a_level    0\n",
       "recovery_calc                                 0\n",
       "Length: 88, dtype: int64"
      ]
     },
     "execution_count": 11,
     "metadata": {},
     "output_type": "execute_result"
    }
   ],
   "source": [
    "train_set.fillna(method='ffill', inplace=True)\n",
    "test_set.fillna(method='ffill', inplace=True)\n",
    "data.fillna(method='ffill', inplace=True)\n",
    "train_set.isna().sum()\n"
   ]
  },
  {
   "cell_type": "markdown",
   "id": "5ab9a057",
   "metadata": {},
   "source": [
    "* Missing values are filled in using the 'ffill' method above, which fills in missing values based on the value in the previous row.\n",
    "\n",
    "  "
   ]
  },
  {
   "cell_type": "code",
   "execution_count": 12,
   "id": "fe6bf4d2",
   "metadata": {
    "id": "fe6bf4d2",
    "scrolled": true
   },
   "outputs": [
    {
     "name": "stdout",
     "output_type": "stream",
     "text": [
      "The features that are not available in the test set but are available in the train set are the following: [Index(['final.output.concentrate_ag', 'final.output.concentrate_au',\n",
      "       'final.output.concentrate_pb', 'final.output.concentrate_sol',\n",
      "       'final.output.recovery', 'final.output.tail_ag', 'final.output.tail_au',\n",
      "       'final.output.tail_pb', 'final.output.tail_sol',\n",
      "       'primary_cleaner.output.concentrate_ag',\n",
      "       'primary_cleaner.output.concentrate_au',\n",
      "       'primary_cleaner.output.concentrate_pb',\n",
      "       'primary_cleaner.output.concentrate_sol',\n",
      "       'primary_cleaner.output.tail_ag', 'primary_cleaner.output.tail_au',\n",
      "       'primary_cleaner.output.tail_pb', 'primary_cleaner.output.tail_sol',\n",
      "       'recovery_calc', 'rougher.calculation.au_pb_ratio',\n",
      "       'rougher.calculation.floatbank10_sulfate_to_au_feed',\n",
      "       'rougher.calculation.floatbank11_sulfate_to_au_feed',\n",
      "       'rougher.calculation.sulfate_to_au_concentrate',\n",
      "       'rougher.output.concentrate_ag', 'rougher.output.concentrate_au',\n",
      "       'rougher.output.concentrate_pb', 'rougher.output.concentrate_sol',\n",
      "       'rougher.output.recovery', 'rougher.output.tail_ag',\n",
      "       'rougher.output.tail_au', 'rougher.output.tail_pb',\n",
      "       'rougher.output.tail_sol', 'secondary_cleaner.output.tail_ag',\n",
      "       'secondary_cleaner.output.tail_au', 'secondary_cleaner.output.tail_pb',\n",
      "       'secondary_cleaner.output.tail_sol'],\n",
      "      dtype='object')]\n"
     ]
    }
   ],
   "source": [
    "test_set.columns\n",
    "train_set.columns\n",
    "unavail_features= train_set.columns.difference(test_set.columns)\n",
    "list=[]\n",
    "list.append(unavail_features)\n",
    "print('The features that are not available in the test set but are available in the train set are the following:', list)"
   ]
  },
  {
   "cell_type": "code",
   "execution_count": 13,
   "id": "589055d2",
   "metadata": {
    "id": "589055d2"
   },
   "outputs": [
    {
     "data": {
      "text/plain": [
       "Index(['final.output.concentrate_ag', 'final.output.concentrate_au',\n",
       "       'final.output.concentrate_pb', 'final.output.concentrate_sol',\n",
       "       'final.output.recovery', 'final.output.tail_ag', 'final.output.tail_au',\n",
       "       'final.output.tail_pb', 'final.output.tail_sol',\n",
       "       'primary_cleaner.output.concentrate_ag',\n",
       "       'primary_cleaner.output.concentrate_au',\n",
       "       'primary_cleaner.output.concentrate_pb',\n",
       "       'primary_cleaner.output.concentrate_sol',\n",
       "       'primary_cleaner.output.tail_ag', 'primary_cleaner.output.tail_au',\n",
       "       'primary_cleaner.output.tail_pb', 'primary_cleaner.output.tail_sol',\n",
       "       'recovery_calc', 'rougher.calculation.au_pb_ratio',\n",
       "       'rougher.calculation.floatbank10_sulfate_to_au_feed',\n",
       "       'rougher.calculation.floatbank11_sulfate_to_au_feed',\n",
       "       'rougher.calculation.sulfate_to_au_concentrate',\n",
       "       'rougher.output.concentrate_ag', 'rougher.output.concentrate_au',\n",
       "       'rougher.output.concentrate_pb', 'rougher.output.concentrate_sol',\n",
       "       'rougher.output.recovery', 'rougher.output.tail_ag',\n",
       "       'rougher.output.tail_au', 'rougher.output.tail_pb',\n",
       "       'rougher.output.tail_sol', 'secondary_cleaner.output.tail_ag',\n",
       "       'secondary_cleaner.output.tail_au', 'secondary_cleaner.output.tail_pb',\n",
       "       'secondary_cleaner.output.tail_sol'],\n",
       "      dtype='object')"
      ]
     },
     "execution_count": 13,
     "metadata": {},
     "output_type": "execute_result"
    }
   ],
   "source": [
    "unavail_features\n"
   ]
  },
  {
   "cell_type": "markdown",
   "id": "109a0511",
   "metadata": {
    "id": "109a0511"
   },
   "source": [
    "* Above are the features that appear in the train set but not in the test set. All have output parameter types for different kinds of metals."
   ]
  },
  {
   "cell_type": "code",
   "execution_count": 14,
   "id": "8c18e366",
   "metadata": {
    "id": "8c18e366"
   },
   "outputs": [
    {
     "data": {
      "text/plain": [
       "date                                          0\n",
       "final.output.concentrate_ag                   0\n",
       "final.output.concentrate_pb                   0\n",
       "final.output.concentrate_sol                  0\n",
       "final.output.concentrate_au                   0\n",
       "                                             ..\n",
       "secondary_cleaner.state.floatbank5_a_level    0\n",
       "secondary_cleaner.state.floatbank5_b_air      0\n",
       "secondary_cleaner.state.floatbank5_b_level    0\n",
       "secondary_cleaner.state.floatbank6_a_air      0\n",
       "secondary_cleaner.state.floatbank6_a_level    0\n",
       "Length: 87, dtype: int64"
      ]
     },
     "execution_count": 14,
     "metadata": {},
     "output_type": "execute_result"
    }
   ],
   "source": [
    "test_set.isna().sum()\n",
    "data.isna().sum()"
   ]
  },
  {
   "cell_type": "markdown",
   "id": "67586217",
   "metadata": {
    "id": "67586217"
   },
   "source": [
    "* All missing values in all dataframes have been filled in using the above method in order to proceed with model building."
   ]
  },
  {
   "cell_type": "code",
   "execution_count": 15,
   "id": "357e3c75",
   "metadata": {
    "id": "357e3c75"
   },
   "outputs": [
    {
     "name": "stdout",
     "output_type": "stream",
     "text": [
      "<class 'pandas.core.frame.DataFrame'>\n",
      "RangeIndex: 16860 entries, 0 to 16859\n",
      "Data columns (total 88 columns):\n",
      " #   Column                                              Non-Null Count  Dtype         \n",
      "---  ------                                              --------------  -----         \n",
      " 0   date                                                16860 non-null  datetime64[ns]\n",
      " 1   final.output.concentrate_ag                         16860 non-null  float64       \n",
      " 2   final.output.concentrate_pb                         16860 non-null  float64       \n",
      " 3   final.output.concentrate_sol                        16860 non-null  float64       \n",
      " 4   final.output.concentrate_au                         16860 non-null  float64       \n",
      " 5   final.output.recovery                               16860 non-null  float64       \n",
      " 6   final.output.tail_ag                                16860 non-null  float64       \n",
      " 7   final.output.tail_pb                                16860 non-null  float64       \n",
      " 8   final.output.tail_sol                               16860 non-null  float64       \n",
      " 9   final.output.tail_au                                16860 non-null  float64       \n",
      " 10  primary_cleaner.input.sulfate                       16860 non-null  float64       \n",
      " 11  primary_cleaner.input.depressant                    16860 non-null  float64       \n",
      " 12  primary_cleaner.input.feed_size                     16860 non-null  float64       \n",
      " 13  primary_cleaner.input.xanthate                      16860 non-null  float64       \n",
      " 14  primary_cleaner.output.concentrate_ag               16860 non-null  float64       \n",
      " 15  primary_cleaner.output.concentrate_pb               16860 non-null  float64       \n",
      " 16  primary_cleaner.output.concentrate_sol              16860 non-null  float64       \n",
      " 17  primary_cleaner.output.concentrate_au               16860 non-null  float64       \n",
      " 18  primary_cleaner.output.tail_ag                      16860 non-null  float64       \n",
      " 19  primary_cleaner.output.tail_pb                      16860 non-null  float64       \n",
      " 20  primary_cleaner.output.tail_sol                     16860 non-null  float64       \n",
      " 21  primary_cleaner.output.tail_au                      16860 non-null  float64       \n",
      " 22  primary_cleaner.state.floatbank8_a_air              16860 non-null  float64       \n",
      " 23  primary_cleaner.state.floatbank8_a_level            16860 non-null  float64       \n",
      " 24  primary_cleaner.state.floatbank8_b_air              16860 non-null  float64       \n",
      " 25  primary_cleaner.state.floatbank8_b_level            16860 non-null  float64       \n",
      " 26  primary_cleaner.state.floatbank8_c_air              16860 non-null  float64       \n",
      " 27  primary_cleaner.state.floatbank8_c_level            16860 non-null  float64       \n",
      " 28  primary_cleaner.state.floatbank8_d_air              16860 non-null  float64       \n",
      " 29  primary_cleaner.state.floatbank8_d_level            16860 non-null  float64       \n",
      " 30  rougher.calculation.sulfate_to_au_concentrate       16860 non-null  float64       \n",
      " 31  rougher.calculation.floatbank10_sulfate_to_au_feed  16860 non-null  float64       \n",
      " 32  rougher.calculation.floatbank11_sulfate_to_au_feed  16860 non-null  float64       \n",
      " 33  rougher.calculation.au_pb_ratio                     16860 non-null  float64       \n",
      " 34  rougher.input.feed_ag                               16860 non-null  float64       \n",
      " 35  rougher.input.feed_pb                               16860 non-null  float64       \n",
      " 36  rougher.input.feed_rate                             16860 non-null  float64       \n",
      " 37  rougher.input.feed_size                             16860 non-null  float64       \n",
      " 38  rougher.input.feed_sol                              16860 non-null  float64       \n",
      " 39  rougher.input.feed_au                               16860 non-null  float64       \n",
      " 40  rougher.input.floatbank10_sulfate                   16860 non-null  float64       \n",
      " 41  rougher.input.floatbank10_xanthate                  16860 non-null  float64       \n",
      " 42  rougher.input.floatbank11_sulfate                   16860 non-null  float64       \n",
      " 43  rougher.input.floatbank11_xanthate                  16860 non-null  float64       \n",
      " 44  rougher.output.concentrate_ag                       16860 non-null  float64       \n",
      " 45  rougher.output.concentrate_pb                       16860 non-null  float64       \n",
      " 46  rougher.output.concentrate_sol                      16860 non-null  float64       \n",
      " 47  rougher.output.concentrate_au                       16860 non-null  float64       \n",
      " 48  rougher.output.recovery                             16860 non-null  float64       \n",
      " 49  rougher.output.tail_ag                              16860 non-null  float64       \n",
      " 50  rougher.output.tail_pb                              16860 non-null  float64       \n",
      " 51  rougher.output.tail_sol                             16860 non-null  float64       \n",
      " 52  rougher.output.tail_au                              16860 non-null  float64       \n",
      " 53  rougher.state.floatbank10_a_air                     16860 non-null  float64       \n",
      " 54  rougher.state.floatbank10_a_level                   16860 non-null  float64       \n",
      " 55  rougher.state.floatbank10_b_air                     16860 non-null  float64       \n",
      " 56  rougher.state.floatbank10_b_level                   16860 non-null  float64       \n",
      " 57  rougher.state.floatbank10_c_air                     16860 non-null  float64       \n",
      " 58  rougher.state.floatbank10_c_level                   16860 non-null  float64       \n",
      " 59  rougher.state.floatbank10_d_air                     16860 non-null  float64       \n",
      " 60  rougher.state.floatbank10_d_level                   16860 non-null  float64       \n",
      " 61  rougher.state.floatbank10_e_air                     16860 non-null  float64       \n",
      " 62  rougher.state.floatbank10_e_level                   16860 non-null  float64       \n",
      " 63  rougher.state.floatbank10_f_air                     16860 non-null  float64       \n",
      " 64  rougher.state.floatbank10_f_level                   16860 non-null  float64       \n",
      " 65  secondary_cleaner.output.tail_ag                    16860 non-null  float64       \n",
      " 66  secondary_cleaner.output.tail_pb                    16860 non-null  float64       \n",
      " 67  secondary_cleaner.output.tail_sol                   16860 non-null  float64       \n",
      " 68  secondary_cleaner.output.tail_au                    16860 non-null  float64       \n",
      " 69  secondary_cleaner.state.floatbank2_a_air            16860 non-null  float64       \n",
      " 70  secondary_cleaner.state.floatbank2_a_level          16860 non-null  float64       \n",
      " 71  secondary_cleaner.state.floatbank2_b_air            16860 non-null  float64       \n",
      " 72  secondary_cleaner.state.floatbank2_b_level          16860 non-null  float64       \n",
      " 73  secondary_cleaner.state.floatbank3_a_air            16860 non-null  float64       \n",
      " 74  secondary_cleaner.state.floatbank3_a_level          16860 non-null  float64       \n",
      " 75  secondary_cleaner.state.floatbank3_b_air            16860 non-null  float64       \n",
      " 76  secondary_cleaner.state.floatbank3_b_level          16860 non-null  float64       \n",
      " 77  secondary_cleaner.state.floatbank4_a_air            16860 non-null  float64       \n",
      " 78  secondary_cleaner.state.floatbank4_a_level          16860 non-null  float64       \n",
      " 79  secondary_cleaner.state.floatbank4_b_air            16860 non-null  float64       \n",
      " 80  secondary_cleaner.state.floatbank4_b_level          16860 non-null  float64       \n",
      " 81  secondary_cleaner.state.floatbank5_a_air            16860 non-null  float64       \n",
      " 82  secondary_cleaner.state.floatbank5_a_level          16860 non-null  float64       \n",
      " 83  secondary_cleaner.state.floatbank5_b_air            16860 non-null  float64       \n",
      " 84  secondary_cleaner.state.floatbank5_b_level          16860 non-null  float64       \n",
      " 85  secondary_cleaner.state.floatbank6_a_air            16860 non-null  float64       \n",
      " 86  secondary_cleaner.state.floatbank6_a_level          16860 non-null  float64       \n",
      " 87  recovery_calc                                       16860 non-null  float64       \n",
      "dtypes: datetime64[ns](1), float64(87)\n",
      "memory usage: 11.3 MB\n"
     ]
    }
   ],
   "source": [
    "\n",
    "train_set['date'] = pd.to_datetime(train_set['date'], format='%Y-%m-%d %H:%M:%S')\n",
    "train_set.info()"
   ]
  },
  {
   "cell_type": "code",
   "execution_count": 16,
   "id": "a8cdcb57",
   "metadata": {
    "id": "a8cdcb57"
   },
   "outputs": [],
   "source": [
    "test_set['date'] = pd.to_datetime(train_set['date'], format='%Y-%m-%d %H:%M:%S')"
   ]
  },
  {
   "cell_type": "code",
   "execution_count": 17,
   "id": "70d62c9e",
   "metadata": {
    "id": "70d62c9e"
   },
   "outputs": [],
   "source": [
    "data['date'] = pd.to_datetime(train_set['date'], format='%Y-%m-%d %H:%M:%S')"
   ]
  },
  {
   "cell_type": "markdown",
   "id": "28da08bc",
   "metadata": {
    "id": "28da08bc"
   },
   "source": [
    "* Dates have been converted to datetime object for further analysis."
   ]
  },
  {
   "cell_type": "markdown",
   "id": "b3bc7ba4",
   "metadata": {
    "id": "b3bc7ba4"
   },
   "source": [
    "# Take note of how the concentrations of metals (Au, Ag, Pb) change depending on the purification stage."
   ]
  },
  {
   "cell_type": "code",
   "execution_count": 18,
   "id": "1e033772",
   "metadata": {
    "id": "1e033772"
   },
   "outputs": [],
   "source": [
    "au = data[[\"rougher.input.feed_au\", \"rougher.output.concentrate_au\", \"primary_cleaner.output.concentrate_au\", \"final.output.concentrate_au\"]]\n",
    "ag = data[[\"rougher.input.feed_ag\", \"rougher.output.concentrate_ag\", \"primary_cleaner.output.concentrate_ag\", \"final.output.concentrate_ag\"]]\n",
    "pb = data[[\"rougher.input.feed_pb\", \"rougher.output.concentrate_pb\", \"primary_cleaner.output.concentrate_pb\", \"final.output.concentrate_pb\"]]"
   ]
  },
  {
   "cell_type": "code",
   "execution_count": 19,
   "id": "d16d232d",
   "metadata": {
    "id": "d16d232d"
   },
   "outputs": [
    {
     "data": {
      "text/html": [
       "<div>\n",
       "<style scoped>\n",
       "    .dataframe tbody tr th:only-of-type {\n",
       "        vertical-align: middle;\n",
       "    }\n",
       "\n",
       "    .dataframe tbody tr th {\n",
       "        vertical-align: top;\n",
       "    }\n",
       "\n",
       "    .dataframe thead th {\n",
       "        text-align: right;\n",
       "    }\n",
       "</style>\n",
       "<table border=\"1\" class=\"dataframe\">\n",
       "  <thead>\n",
       "    <tr style=\"text-align: right;\">\n",
       "      <th></th>\n",
       "      <th>rougher.input.feed_au</th>\n",
       "      <th>rougher.output.concentrate_au</th>\n",
       "      <th>primary_cleaner.output.concentrate_au</th>\n",
       "      <th>final.output.concentrate_au</th>\n",
       "    </tr>\n",
       "  </thead>\n",
       "  <tbody>\n",
       "    <tr>\n",
       "      <th>0</th>\n",
       "      <td>6.486150</td>\n",
       "      <td>19.793808</td>\n",
       "      <td>34.174427</td>\n",
       "      <td>42.192020</td>\n",
       "    </tr>\n",
       "    <tr>\n",
       "      <th>1</th>\n",
       "      <td>6.478583</td>\n",
       "      <td>20.050975</td>\n",
       "      <td>34.118526</td>\n",
       "      <td>42.701629</td>\n",
       "    </tr>\n",
       "    <tr>\n",
       "      <th>2</th>\n",
       "      <td>6.362222</td>\n",
       "      <td>19.737170</td>\n",
       "      <td>33.969464</td>\n",
       "      <td>42.657501</td>\n",
       "    </tr>\n",
       "    <tr>\n",
       "      <th>3</th>\n",
       "      <td>6.118189</td>\n",
       "      <td>19.320810</td>\n",
       "      <td>28.260743</td>\n",
       "      <td>42.689819</td>\n",
       "    </tr>\n",
       "    <tr>\n",
       "      <th>4</th>\n",
       "      <td>5.663707</td>\n",
       "      <td>19.216101</td>\n",
       "      <td>33.044932</td>\n",
       "      <td>42.774141</td>\n",
       "    </tr>\n",
       "    <tr>\n",
       "      <th>...</th>\n",
       "      <td>...</td>\n",
       "      <td>...</td>\n",
       "      <td>...</td>\n",
       "      <td>...</td>\n",
       "    </tr>\n",
       "    <tr>\n",
       "      <th>22711</th>\n",
       "      <td>5.335862</td>\n",
       "      <td>18.603550</td>\n",
       "      <td>32.940215</td>\n",
       "      <td>46.713954</td>\n",
       "    </tr>\n",
       "    <tr>\n",
       "      <th>22712</th>\n",
       "      <td>4.838619</td>\n",
       "      <td>18.441436</td>\n",
       "      <td>32.925325</td>\n",
       "      <td>46.866780</td>\n",
       "    </tr>\n",
       "    <tr>\n",
       "      <th>22713</th>\n",
       "      <td>4.525061</td>\n",
       "      <td>15.111231</td>\n",
       "      <td>31.856742</td>\n",
       "      <td>46.795691</td>\n",
       "    </tr>\n",
       "    <tr>\n",
       "      <th>22714</th>\n",
       "      <td>4.362781</td>\n",
       "      <td>17.834772</td>\n",
       "      <td>30.770892</td>\n",
       "      <td>46.408188</td>\n",
       "    </tr>\n",
       "    <tr>\n",
       "      <th>22715</th>\n",
       "      <td>4.365491</td>\n",
       "      <td>17.804134</td>\n",
       "      <td>30.356618</td>\n",
       "      <td>46.299438</td>\n",
       "    </tr>\n",
       "  </tbody>\n",
       "</table>\n",
       "<p>22716 rows × 4 columns</p>\n",
       "</div>"
      ],
      "text/plain": [
       "       rougher.input.feed_au  rougher.output.concentrate_au  \\\n",
       "0                   6.486150                      19.793808   \n",
       "1                   6.478583                      20.050975   \n",
       "2                   6.362222                      19.737170   \n",
       "3                   6.118189                      19.320810   \n",
       "4                   5.663707                      19.216101   \n",
       "...                      ...                            ...   \n",
       "22711               5.335862                      18.603550   \n",
       "22712               4.838619                      18.441436   \n",
       "22713               4.525061                      15.111231   \n",
       "22714               4.362781                      17.834772   \n",
       "22715               4.365491                      17.804134   \n",
       "\n",
       "       primary_cleaner.output.concentrate_au  final.output.concentrate_au  \n",
       "0                                  34.174427                    42.192020  \n",
       "1                                  34.118526                    42.701629  \n",
       "2                                  33.969464                    42.657501  \n",
       "3                                  28.260743                    42.689819  \n",
       "4                                  33.044932                    42.774141  \n",
       "...                                      ...                          ...  \n",
       "22711                              32.940215                    46.713954  \n",
       "22712                              32.925325                    46.866780  \n",
       "22713                              31.856742                    46.795691  \n",
       "22714                              30.770892                    46.408188  \n",
       "22715                              30.356618                    46.299438  \n",
       "\n",
       "[22716 rows x 4 columns]"
      ]
     },
     "execution_count": 19,
     "metadata": {},
     "output_type": "execute_result"
    }
   ],
   "source": [
    "au"
   ]
  },
  {
   "cell_type": "code",
   "execution_count": 20,
   "id": "3c431a23",
   "metadata": {
    "id": "3c431a23",
    "scrolled": true
   },
   "outputs": [
    {
     "name": "stderr",
     "output_type": "stream",
     "text": [
      "C:\\Users\\dsaad\\anaconda3\\New folder\\lib\\site-packages\\seaborn\\distributions.py:2619: FutureWarning: `distplot` is a deprecated function and will be removed in a future version. Please adapt your code to use either `displot` (a figure-level function with similar flexibility) or `histplot` (an axes-level function for histograms).\n",
      "  warnings.warn(msg, FutureWarning)\n",
      "C:\\Users\\dsaad\\AppData\\Local\\Temp\\ipykernel_16816\\1453235509.py:13: UserWarning: Matplotlib is currently using module://matplotlib_inline.backend_inline, which is a non-GUI backend, so cannot show the figure.\n",
      "  fig.show()\n"
     ]
    },
    {
     "data": {
      "image/png": "[encoded data removed]",
      "text/plain": [
       "<Figure size 720x1440 with 3 Axes>"
      ]
     },
     "metadata": {
      "needs_background": "light"
     },
     "output_type": "display_data"
    }
   ],
   "source": [
    "fig, axes = plt.subplots(3, 1, figsize=(10, 20))\n",
    "for column in (au):\n",
    "    sns.distplot(au[column], ax=axes[0], kde=False)\n",
    "axes[0].set(title=\"Au\", xlabel=\"Concentration %\", ylabel=\"Amount\")\n",
    "for column in (ag):\n",
    "    sns.distplot(ag[column], ax=axes[1], kde=False)\n",
    "axes[1].set(title=\"Ag\", xlabel=\"Concentration %\", ylabel=\"Amount\")\n",
    "for column in (pb):\n",
    "    sns.distplot(pb[column], ax=axes[2], kde=False)\n",
    "axes[2].set(title=\"Pb\", xlabel=\"Concentration %\", ylabel=\"Amount\")\n",
    "fig.suptitle(\"Metal Concentraions at Purification Stages\")\n",
    "fig.legend([\"rougher.input.feed\", \"rougher.output.concentrate\", \"primary.cleaner.output concentrate\", \"final.output.concentrate\",])\n",
    "fig.show()"
   ]
  },
  {
   "cell_type": "markdown",
   "id": "2c4a0e69",
   "metadata": {
    "id": "2c4a0e69"
   },
   "source": [
    "* The following metals are plotted: Au, Ag, and Pb metal at each different stage of purification. \n",
    "* As shown in the first plot measuring gold concentration (Au), we see that gold increases in concentration from the rougher stages to the final output stage of purification. \n",
    "* As for Silver (Ag), we observe both and increase and decrease in concentration as the stages of purification progress, resulting in an overall decrease. Lead (Pb) shows a slight increase as the stages of purification progress."
   ]
  },
  {
   "cell_type": "markdown",
   "id": "75ebd54d",
   "metadata": {
    "id": "75ebd54d"
   },
   "source": [
    "* As for examining the changes in concentration of Pb(lead) and Ag(silver) in the gold concentrate in the rougher, primary and secondary_cleaner purification stages, we observe the following. \n",
    "* There appears to be a decrease of Ag concentration from the rougher to the primary cleaner stage, which makes sense because as the gold ore becomes purified, we expect the concentration of metals other than gold to decrease as we get further into the purifcaition stages. \n",
    "* However, strangely there is an increase of Ag in the secondary_cleaner stage, which is counter-intuitive. The gold concentration increases from the rougher to the primary cleaner stage and then drops at the secondary cleaner stage.\n",
    "* Finally, the Pb concentration increases slightly from the rougher concentrate to the primary cleaner concetrate, then decreases in the secondary cleaner tail. "
   ]
  },
  {
   "cell_type": "code",
   "execution_count": 21,
   "id": "e316fd9f",
   "metadata": {
    "id": "e316fd9f",
    "scrolled": false
   },
   "outputs": [
    {
     "name": "stderr",
     "output_type": "stream",
     "text": [
      "C:\\Users\\dsaad\\AppData\\Local\\Temp\\ipykernel_16816\\2616609803.py:10: UserWarning: Matplotlib is currently using module://matplotlib_inline.backend_inline, which is a non-GUI backend, so cannot show the figure.\n",
      "  fig.show()\n"
     ]
    },
    {
     "data": {
      "image/png": "[encoded data removed]",
      "text/plain": [
       "<Figure size 720x1080 with 2 Axes>"
      ]
     },
     "metadata": {
      "needs_background": "light"
     },
     "output_type": "display_data"
    }
   ],
   "source": [
    "fig, axes = plt.subplots(2,1, figsize=(10, 15))\n",
    "axes[0].hist(train_set[\"primary_cleaner.input.feed_size\"], density=True, alpha=0.5, bins=50)\n",
    "axes[0].hist(test_set[\"primary_cleaner.input.feed_size\"], density=True, alpha=0.5, bins=50)\n",
    "axes[0].set(title=\"Primary Cleaner Input Feed Size\", xlabel=\"Amount\", ylabel=\"Size\")\n",
    "axes[1].hist(train_set[\"rougher.input.feed_size\"], density=True, alpha=0.5, bins=50)\n",
    "axes[1].hist(test_set[\"rougher.input.feed_size\"], density=True, alpha=0.5, bins=50)\n",
    "axes[1].set(title=\"Rougher Input Feed Size\", xlabel=\"Amount\", ylabel=\"Size\")\n",
    "fig.suptitle(\"Feed Particle Size Distribution\")\n",
    "fig.legend([\"Train Set\", \"Test Set\"])\n",
    "fig.show()\n",
    "\n"
   ]
  },
  {
   "cell_type": "markdown",
   "id": "0ea24fb6",
   "metadata": {
    "id": "0ea24fb6"
   },
   "source": [
    "* The training set and test set appear to have similar distributions, which will make it more likely for an accurate model evaluation."
   ]
  },
  {
   "cell_type": "code",
   "execution_count": 22,
   "id": "6df90c4c",
   "metadata": {
    "id": "6df90c4c"
   },
   "outputs": [],
   "source": [
    "def raw_feed(df):\n",
    "    return df[\"rougher.input.feed_au\"] + df[\"rougher.input.feed_ag\"] + df[\"rougher.input.feed_pb\"] + df[\"rougher.input.feed_sol\"]"
   ]
  },
  {
   "cell_type": "code",
   "execution_count": 23,
   "id": "baa9127a",
   "metadata": {
    "id": "baa9127a"
   },
   "outputs": [],
   "source": [
    "def rougher_concentration(df):\n",
    "    return df[\"rougher.output.concentrate_au\"] + df[\"rougher.output.concentrate_ag\"] + df[\"rougher.output.concentrate_pb\"] + df[\"rougher.output.concentrate_sol\"]"
   ]
  },
  {
   "cell_type": "code",
   "execution_count": 24,
   "id": "ae66eed7",
   "metadata": {
    "id": "ae66eed7"
   },
   "outputs": [],
   "source": [
    "def final_concentration(df):\n",
    "    return df[\"final.output.concentrate_au\"] + df[\"final.output.concentrate_ag\"] + df[\"final.output.concentrate_pb\"] + df[\"final.output.concentrate_sol\"]"
   ]
  },
  {
   "cell_type": "code",
   "execution_count": 25,
   "id": "4dabdf41",
   "metadata": {
    "id": "4dabdf41"
   },
   "outputs": [],
   "source": [
    "data[\"rougher.input.feed\"] = raw_feed(data)\n",
    "data[\"rougher.output.concentrate\"] = rougher_concentration(data)\n",
    "data[\"final.output.concentrate\"] = final_concentration(data)\n",
    "total_conc = data[[\"rougher.input.feed\", \"rougher.output.concentrate\", \"final.output.concentrate\"]]"
   ]
  },
  {
   "cell_type": "code",
   "execution_count": 26,
   "id": "55471a12",
   "metadata": {
    "id": "55471a12",
    "scrolled": false
   },
   "outputs": [
    {
     "name": "stderr",
     "output_type": "stream",
     "text": [
      "C:\\Users\\dsaad\\anaconda3\\New folder\\lib\\site-packages\\seaborn\\distributions.py:2619: FutureWarning: `distplot` is a deprecated function and will be removed in a future version. Please adapt your code to use either `displot` (a figure-level function with similar flexibility) or `histplot` (an axes-level function for histograms).\n",
      "  warnings.warn(msg, FutureWarning)\n",
      "C:\\Users\\dsaad\\AppData\\Local\\Temp\\ipykernel_16816\\1978606837.py:8: UserWarning: Matplotlib is currently using module://matplotlib_inline.backend_inline, which is a non-GUI backend, so cannot show the figure.\n",
      "  fig.show()\n"
     ]
    },
    {
     "data": {
      "image/png": "[encoded data removed]",
      "text/plain": [
       "<Figure size 720x432 with 1 Axes>"
      ]
     },
     "metadata": {
      "needs_background": "light"
     },
     "output_type": "display_data"
    }
   ],
   "source": [
    "fig = plt.figure(figsize=(10, 6))\n",
    "for column in (total_conc):\n",
    "    sns.distplot(total_conc[column], kde=False)\n",
    "plt.legend((total_conc))\n",
    "plt.title(\"Total Concentration at Stages\")\n",
    "plt.xlabel(\"Concentration %\")\n",
    "plt.ylabel(\"Amount\")\n",
    "fig.show()"
   ]
  },
  {
   "cell_type": "markdown",
   "id": "bafbeaee",
   "metadata": {
    "id": "bafbeaee"
   },
   "source": [
    "* Above the concentration of all the various metals are plotted at the three different stages.\n",
    "* The outliers that all distributions of these metals at different stages share appear at concentration percentage of 0. \n",
    "* Thus, I will remove all concentration values that fall below 25% in order to increase accuracy of the model."
   ]
  },
  {
   "cell_type": "markdown",
   "id": "2236949f",
   "metadata": {
    "id": "2236949f"
   },
   "source": [
    "# 3. Build the model"
   ]
  },
  {
   "cell_type": "code",
   "execution_count": 27,
   "id": "77fc858a",
   "metadata": {
    "id": "77fc858a"
   },
   "outputs": [],
   "source": [
    "def smape(y_true, y_pred):\n",
    "    frac = np.divide(np.abs(y_true - y_pred), (np.abs(y_true)+np.abs(y_pred))/2)\n",
    "    return np.average(frac, axis=0)\n"
   ]
  },
  {
   "cell_type": "code",
   "execution_count": 28,
   "id": "cc49cf0c",
   "metadata": {
    "id": "cc49cf0c"
   },
   "outputs": [],
   "source": [
    "def smape_final(y_true,y_pred):\n",
    "    smape_out_rougher = smape(y_true[target.index('rougher.output.recovery')], y_pred[target.index('rougher.output.recovery')])\n",
    "    smape_out_final = smape(y_true[target.index('final.output.recovery')], y_pred[target.index('final.output.recovery')])\n",
    "    return (0.25*smape_out_rougher + 0.75*smape_out_final) * (-1)"
   ]
  },
  {
   "cell_type": "markdown",
   "id": "81a04730",
   "metadata": {
    "id": "81a04730"
   },
   "source": [
    "# 3.2. Train different models. Evaluate them using cross-validation. Pick the best model and test it using the test sample. Provide findings."
   ]
  },
  {
   "cell_type": "code",
   "execution_count": 29,
   "id": "f16ec8eb",
   "metadata": {
    "id": "f16ec8eb",
    "scrolled": true
   },
   "outputs": [
    {
     "data": {
      "text/html": [
       "<div>\n",
       "<style scoped>\n",
       "    .dataframe tbody tr th:only-of-type {\n",
       "        vertical-align: middle;\n",
       "    }\n",
       "\n",
       "    .dataframe tbody tr th {\n",
       "        vertical-align: top;\n",
       "    }\n",
       "\n",
       "    .dataframe thead th {\n",
       "        text-align: right;\n",
       "    }\n",
       "</style>\n",
       "<table border=\"1\" class=\"dataframe\">\n",
       "  <thead>\n",
       "    <tr style=\"text-align: right;\">\n",
       "      <th></th>\n",
       "      <th>final.output.concentrate_ag</th>\n",
       "      <th>final.output.concentrate_pb</th>\n",
       "      <th>final.output.concentrate_sol</th>\n",
       "      <th>final.output.concentrate_au</th>\n",
       "      <th>final.output.recovery</th>\n",
       "      <th>final.output.tail_ag</th>\n",
       "      <th>final.output.tail_pb</th>\n",
       "      <th>final.output.tail_sol</th>\n",
       "      <th>final.output.tail_au</th>\n",
       "      <th>primary_cleaner.input.sulfate</th>\n",
       "      <th>...</th>\n",
       "      <th>secondary_cleaner.state.floatbank4_b_level</th>\n",
       "      <th>secondary_cleaner.state.floatbank5_a_air</th>\n",
       "      <th>secondary_cleaner.state.floatbank5_a_level</th>\n",
       "      <th>secondary_cleaner.state.floatbank5_b_air</th>\n",
       "      <th>secondary_cleaner.state.floatbank5_b_level</th>\n",
       "      <th>secondary_cleaner.state.floatbank6_a_air</th>\n",
       "      <th>secondary_cleaner.state.floatbank6_a_level</th>\n",
       "      <th>rougher.input.feed</th>\n",
       "      <th>rougher.output.concentrate</th>\n",
       "      <th>final.output.concentrate</th>\n",
       "    </tr>\n",
       "  </thead>\n",
       "  <tbody>\n",
       "    <tr>\n",
       "      <th>0</th>\n",
       "      <td>6.055403</td>\n",
       "      <td>9.889648</td>\n",
       "      <td>5.507324</td>\n",
       "      <td>42.192020</td>\n",
       "      <td>70.541216</td>\n",
       "      <td>10.411962</td>\n",
       "      <td>0.895447</td>\n",
       "      <td>16.904297</td>\n",
       "      <td>2.143149</td>\n",
       "      <td>127.092003</td>\n",
       "      <td>...</td>\n",
       "      <td>-504.715942</td>\n",
       "      <td>9.925633</td>\n",
       "      <td>-498.310211</td>\n",
       "      <td>8.079666</td>\n",
       "      <td>-500.470978</td>\n",
       "      <td>14.151341</td>\n",
       "      <td>-605.841980</td>\n",
       "      <td>51.680034</td>\n",
       "      <td>66.424950</td>\n",
       "      <td>63.644396</td>\n",
       "    </tr>\n",
       "    <tr>\n",
       "      <th>1</th>\n",
       "      <td>6.029369</td>\n",
       "      <td>9.968944</td>\n",
       "      <td>5.257781</td>\n",
       "      <td>42.701629</td>\n",
       "      <td>69.266198</td>\n",
       "      <td>10.462676</td>\n",
       "      <td>0.927452</td>\n",
       "      <td>16.634514</td>\n",
       "      <td>2.224930</td>\n",
       "      <td>125.629232</td>\n",
       "      <td>...</td>\n",
       "      <td>-501.331529</td>\n",
       "      <td>10.039245</td>\n",
       "      <td>-500.169983</td>\n",
       "      <td>7.984757</td>\n",
       "      <td>-500.582168</td>\n",
       "      <td>13.998353</td>\n",
       "      <td>-599.787184</td>\n",
       "      <td>50.659114</td>\n",
       "      <td>67.012710</td>\n",
       "      <td>63.957723</td>\n",
       "    </tr>\n",
       "    <tr>\n",
       "      <th>2</th>\n",
       "      <td>6.055926</td>\n",
       "      <td>10.213995</td>\n",
       "      <td>5.383759</td>\n",
       "      <td>42.657501</td>\n",
       "      <td>68.116445</td>\n",
       "      <td>10.507046</td>\n",
       "      <td>0.953716</td>\n",
       "      <td>16.208849</td>\n",
       "      <td>2.257889</td>\n",
       "      <td>123.819808</td>\n",
       "      <td>...</td>\n",
       "      <td>-501.133383</td>\n",
       "      <td>10.070913</td>\n",
       "      <td>-500.129135</td>\n",
       "      <td>8.013877</td>\n",
       "      <td>-500.517572</td>\n",
       "      <td>14.028663</td>\n",
       "      <td>-601.427363</td>\n",
       "      <td>50.609929</td>\n",
       "      <td>66.103793</td>\n",
       "      <td>64.311180</td>\n",
       "    </tr>\n",
       "    <tr>\n",
       "      <th>3</th>\n",
       "      <td>6.047977</td>\n",
       "      <td>9.977019</td>\n",
       "      <td>4.858634</td>\n",
       "      <td>42.689819</td>\n",
       "      <td>68.347543</td>\n",
       "      <td>10.422762</td>\n",
       "      <td>0.883763</td>\n",
       "      <td>16.532835</td>\n",
       "      <td>2.146849</td>\n",
       "      <td>122.270188</td>\n",
       "      <td>...</td>\n",
       "      <td>-501.193686</td>\n",
       "      <td>9.970366</td>\n",
       "      <td>-499.201640</td>\n",
       "      <td>7.977324</td>\n",
       "      <td>-500.255908</td>\n",
       "      <td>14.005551</td>\n",
       "      <td>-599.996129</td>\n",
       "      <td>51.061546</td>\n",
       "      <td>65.752751</td>\n",
       "      <td>63.573449</td>\n",
       "    </tr>\n",
       "    <tr>\n",
       "      <th>4</th>\n",
       "      <td>6.148599</td>\n",
       "      <td>10.142511</td>\n",
       "      <td>4.939416</td>\n",
       "      <td>42.774141</td>\n",
       "      <td>66.927016</td>\n",
       "      <td>10.360302</td>\n",
       "      <td>0.792826</td>\n",
       "      <td>16.525686</td>\n",
       "      <td>2.055292</td>\n",
       "      <td>117.988169</td>\n",
       "      <td>...</td>\n",
       "      <td>-501.053894</td>\n",
       "      <td>9.925709</td>\n",
       "      <td>-501.686727</td>\n",
       "      <td>7.894242</td>\n",
       "      <td>-500.356035</td>\n",
       "      <td>13.996647</td>\n",
       "      <td>-601.496691</td>\n",
       "      <td>47.859163</td>\n",
       "      <td>65.908382</td>\n",
       "      <td>64.004667</td>\n",
       "    </tr>\n",
       "    <tr>\n",
       "      <th>...</th>\n",
       "      <td>...</td>\n",
       "      <td>...</td>\n",
       "      <td>...</td>\n",
       "      <td>...</td>\n",
       "      <td>...</td>\n",
       "      <td>...</td>\n",
       "      <td>...</td>\n",
       "      <td>...</td>\n",
       "      <td>...</td>\n",
       "      <td>...</td>\n",
       "      <td>...</td>\n",
       "      <td>...</td>\n",
       "      <td>...</td>\n",
       "      <td>...</td>\n",
       "      <td>...</td>\n",
       "      <td>...</td>\n",
       "      <td>...</td>\n",
       "      <td>...</td>\n",
       "      <td>...</td>\n",
       "      <td>...</td>\n",
       "      <td>...</td>\n",
       "    </tr>\n",
       "    <tr>\n",
       "      <th>5089</th>\n",
       "      <td>5.094394</td>\n",
       "      <td>6.814771</td>\n",
       "      <td>4.144998</td>\n",
       "      <td>19.679096</td>\n",
       "      <td>63.222913</td>\n",
       "      <td>8.876979</td>\n",
       "      <td>2.890461</td>\n",
       "      <td>6.265538</td>\n",
       "      <td>4.834333</td>\n",
       "      <td>72.323038</td>\n",
       "      <td>...</td>\n",
       "      <td>-500.160005</td>\n",
       "      <td>8.031940</td>\n",
       "      <td>-404.684579</td>\n",
       "      <td>3.006402</td>\n",
       "      <td>-189.563378</td>\n",
       "      <td>19.989903</td>\n",
       "      <td>-490.766552</td>\n",
       "      <td>51.659169</td>\n",
       "      <td>78.140015</td>\n",
       "      <td>35.733258</td>\n",
       "    </tr>\n",
       "    <tr>\n",
       "      <th>5090</th>\n",
       "      <td>6.866588</td>\n",
       "      <td>9.693017</td>\n",
       "      <td>7.057738</td>\n",
       "      <td>41.911733</td>\n",
       "      <td>56.013663</td>\n",
       "      <td>8.799615</td>\n",
       "      <td>3.072426</td>\n",
       "      <td>7.778921</td>\n",
       "      <td>4.795586</td>\n",
       "      <td>87.531145</td>\n",
       "      <td>...</td>\n",
       "      <td>-501.324937</td>\n",
       "      <td>7.922198</td>\n",
       "      <td>-558.379055</td>\n",
       "      <td>3.014796</td>\n",
       "      <td>-390.767740</td>\n",
       "      <td>19.968139</td>\n",
       "      <td>-512.330776</td>\n",
       "      <td>56.549176</td>\n",
       "      <td>74.620900</td>\n",
       "      <td>65.529075</td>\n",
       "    </tr>\n",
       "    <tr>\n",
       "      <th>5091</th>\n",
       "      <td>6.491099</td>\n",
       "      <td>8.971856</td>\n",
       "      <td>8.243707</td>\n",
       "      <td>44.402961</td>\n",
       "      <td>59.523458</td>\n",
       "      <td>9.050118</td>\n",
       "      <td>3.175584</td>\n",
       "      <td>8.366540</td>\n",
       "      <td>4.710460</td>\n",
       "      <td>114.621926</td>\n",
       "      <td>...</td>\n",
       "      <td>-499.883726</td>\n",
       "      <td>7.806507</td>\n",
       "      <td>-504.206025</td>\n",
       "      <td>3.023191</td>\n",
       "      <td>-499.440890</td>\n",
       "      <td>19.975593</td>\n",
       "      <td>-500.193764</td>\n",
       "      <td>58.787889</td>\n",
       "      <td>73.780597</td>\n",
       "      <td>68.109624</td>\n",
       "    </tr>\n",
       "    <tr>\n",
       "      <th>5092</th>\n",
       "      <td>5.529610</td>\n",
       "      <td>8.780238</td>\n",
       "      <td>8.670487</td>\n",
       "      <td>46.518640</td>\n",
       "      <td>60.686787</td>\n",
       "      <td>9.473990</td>\n",
       "      <td>3.239447</td>\n",
       "      <td>8.964319</td>\n",
       "      <td>4.551176</td>\n",
       "      <td>127.300389</td>\n",
       "      <td>...</td>\n",
       "      <td>-500.445413</td>\n",
       "      <td>8.144849</td>\n",
       "      <td>-500.613212</td>\n",
       "      <td>3.031585</td>\n",
       "      <td>-499.857956</td>\n",
       "      <td>20.057007</td>\n",
       "      <td>-500.409204</td>\n",
       "      <td>61.422730</td>\n",
       "      <td>73.411885</td>\n",
       "      <td>69.498975</td>\n",
       "    </tr>\n",
       "    <tr>\n",
       "      <th>5093</th>\n",
       "      <td>5.562409</td>\n",
       "      <td>8.734424</td>\n",
       "      <td>9.020497</td>\n",
       "      <td>46.452183</td>\n",
       "      <td>61.452513</td>\n",
       "      <td>9.464031</td>\n",
       "      <td>3.179805</td>\n",
       "      <td>9.863847</td>\n",
       "      <td>4.234741</td>\n",
       "      <td>140.774856</td>\n",
       "      <td>...</td>\n",
       "      <td>-499.961175</td>\n",
       "      <td>7.995764</td>\n",
       "      <td>-499.758644</td>\n",
       "      <td>3.039980</td>\n",
       "      <td>-500.213798</td>\n",
       "      <td>19.956956</td>\n",
       "      <td>-500.001294</td>\n",
       "      <td>61.221110</td>\n",
       "      <td>72.532314</td>\n",
       "      <td>69.769514</td>\n",
       "    </tr>\n",
       "  </tbody>\n",
       "</table>\n",
       "<p>5094 rows × 89 columns</p>\n",
       "</div>"
      ],
      "text/plain": [
       "      final.output.concentrate_ag  final.output.concentrate_pb  \\\n",
       "0                        6.055403                     9.889648   \n",
       "1                        6.029369                     9.968944   \n",
       "2                        6.055926                    10.213995   \n",
       "3                        6.047977                     9.977019   \n",
       "4                        6.148599                    10.142511   \n",
       "...                           ...                          ...   \n",
       "5089                     5.094394                     6.814771   \n",
       "5090                     6.866588                     9.693017   \n",
       "5091                     6.491099                     8.971856   \n",
       "5092                     5.529610                     8.780238   \n",
       "5093                     5.562409                     8.734424   \n",
       "\n",
       "      final.output.concentrate_sol  final.output.concentrate_au  \\\n",
       "0                         5.507324                    42.192020   \n",
       "1                         5.257781                    42.701629   \n",
       "2                         5.383759                    42.657501   \n",
       "3                         4.858634                    42.689819   \n",
       "4                         4.939416                    42.774141   \n",
       "...                            ...                          ...   \n",
       "5089                      4.144998                    19.679096   \n",
       "5090                      7.057738                    41.911733   \n",
       "5091                      8.243707                    44.402961   \n",
       "5092                      8.670487                    46.518640   \n",
       "5093                      9.020497                    46.452183   \n",
       "\n",
       "      final.output.recovery  final.output.tail_ag  final.output.tail_pb  \\\n",
       "0                 70.541216             10.411962              0.895447   \n",
       "1                 69.266198             10.462676              0.927452   \n",
       "2                 68.116445             10.507046              0.953716   \n",
       "3                 68.347543             10.422762              0.883763   \n",
       "4                 66.927016             10.360302              0.792826   \n",
       "...                     ...                   ...                   ...   \n",
       "5089              63.222913              8.876979              2.890461   \n",
       "5090              56.013663              8.799615              3.072426   \n",
       "5091              59.523458              9.050118              3.175584   \n",
       "5092              60.686787              9.473990              3.239447   \n",
       "5093              61.452513              9.464031              3.179805   \n",
       "\n",
       "      final.output.tail_sol  final.output.tail_au  \\\n",
       "0                 16.904297              2.143149   \n",
       "1                 16.634514              2.224930   \n",
       "2                 16.208849              2.257889   \n",
       "3                 16.532835              2.146849   \n",
       "4                 16.525686              2.055292   \n",
       "...                     ...                   ...   \n",
       "5089               6.265538              4.834333   \n",
       "5090               7.778921              4.795586   \n",
       "5091               8.366540              4.710460   \n",
       "5092               8.964319              4.551176   \n",
       "5093               9.863847              4.234741   \n",
       "\n",
       "      primary_cleaner.input.sulfate  ...  \\\n",
       "0                        127.092003  ...   \n",
       "1                        125.629232  ...   \n",
       "2                        123.819808  ...   \n",
       "3                        122.270188  ...   \n",
       "4                        117.988169  ...   \n",
       "...                             ...  ...   \n",
       "5089                      72.323038  ...   \n",
       "5090                      87.531145  ...   \n",
       "5091                     114.621926  ...   \n",
       "5092                     127.300389  ...   \n",
       "5093                     140.774856  ...   \n",
       "\n",
       "      secondary_cleaner.state.floatbank4_b_level  \\\n",
       "0                                    -504.715942   \n",
       "1                                    -501.331529   \n",
       "2                                    -501.133383   \n",
       "3                                    -501.193686   \n",
       "4                                    -501.053894   \n",
       "...                                          ...   \n",
       "5089                                 -500.160005   \n",
       "5090                                 -501.324937   \n",
       "5091                                 -499.883726   \n",
       "5092                                 -500.445413   \n",
       "5093                                 -499.961175   \n",
       "\n",
       "      secondary_cleaner.state.floatbank5_a_air  \\\n",
       "0                                     9.925633   \n",
       "1                                    10.039245   \n",
       "2                                    10.070913   \n",
       "3                                     9.970366   \n",
       "4                                     9.925709   \n",
       "...                                        ...   \n",
       "5089                                  8.031940   \n",
       "5090                                  7.922198   \n",
       "5091                                  7.806507   \n",
       "5092                                  8.144849   \n",
       "5093                                  7.995764   \n",
       "\n",
       "      secondary_cleaner.state.floatbank5_a_level  \\\n",
       "0                                    -498.310211   \n",
       "1                                    -500.169983   \n",
       "2                                    -500.129135   \n",
       "3                                    -499.201640   \n",
       "4                                    -501.686727   \n",
       "...                                          ...   \n",
       "5089                                 -404.684579   \n",
       "5090                                 -558.379055   \n",
       "5091                                 -504.206025   \n",
       "5092                                 -500.613212   \n",
       "5093                                 -499.758644   \n",
       "\n",
       "      secondary_cleaner.state.floatbank5_b_air  \\\n",
       "0                                     8.079666   \n",
       "1                                     7.984757   \n",
       "2                                     8.013877   \n",
       "3                                     7.977324   \n",
       "4                                     7.894242   \n",
       "...                                        ...   \n",
       "5089                                  3.006402   \n",
       "5090                                  3.014796   \n",
       "5091                                  3.023191   \n",
       "5092                                  3.031585   \n",
       "5093                                  3.039980   \n",
       "\n",
       "      secondary_cleaner.state.floatbank5_b_level  \\\n",
       "0                                    -500.470978   \n",
       "1                                    -500.582168   \n",
       "2                                    -500.517572   \n",
       "3                                    -500.255908   \n",
       "4                                    -500.356035   \n",
       "...                                          ...   \n",
       "5089                                 -189.563378   \n",
       "5090                                 -390.767740   \n",
       "5091                                 -499.440890   \n",
       "5092                                 -499.857956   \n",
       "5093                                 -500.213798   \n",
       "\n",
       "      secondary_cleaner.state.floatbank6_a_air  \\\n",
       "0                                    14.151341   \n",
       "1                                    13.998353   \n",
       "2                                    14.028663   \n",
       "3                                    14.005551   \n",
       "4                                    13.996647   \n",
       "...                                        ...   \n",
       "5089                                 19.989903   \n",
       "5090                                 19.968139   \n",
       "5091                                 19.975593   \n",
       "5092                                 20.057007   \n",
       "5093                                 19.956956   \n",
       "\n",
       "      secondary_cleaner.state.floatbank6_a_level  rougher.input.feed  \\\n",
       "0                                    -605.841980           51.680034   \n",
       "1                                    -599.787184           50.659114   \n",
       "2                                    -601.427363           50.609929   \n",
       "3                                    -599.996129           51.061546   \n",
       "4                                    -601.496691           47.859163   \n",
       "...                                          ...                 ...   \n",
       "5089                                 -490.766552           51.659169   \n",
       "5090                                 -512.330776           56.549176   \n",
       "5091                                 -500.193764           58.787889   \n",
       "5092                                 -500.409204           61.422730   \n",
       "5093                                 -500.001294           61.221110   \n",
       "\n",
       "      rougher.output.concentrate  final.output.concentrate  \n",
       "0                      66.424950                 63.644396  \n",
       "1                      67.012710                 63.957723  \n",
       "2                      66.103793                 64.311180  \n",
       "3                      65.752751                 63.573449  \n",
       "4                      65.908382                 64.004667  \n",
       "...                          ...                       ...  \n",
       "5089                   78.140015                 35.733258  \n",
       "5090                   74.620900                 65.529075  \n",
       "5091                   73.780597                 68.109624  \n",
       "5092                   73.411885                 69.498975  \n",
       "5093                   72.532314                 69.769514  \n",
       "\n",
       "[5094 rows x 89 columns]"
      ]
     },
     "execution_count": 29,
     "metadata": {},
     "output_type": "execute_result"
    }
   ],
   "source": [
    "new_data=data.loc[data[['rougher.output.recovery', 'final.output.recovery']].index.isin(test_set.index)]\n",
    "new_data2= new_data[(new_data[\"rougher.input.feed\"] > 20) & (new_data[\"rougher.output.concentrate\"] > 20) & (new_data[\"final.output.concentrate\"] > 20)]\n",
    "target=new_data2[['rougher.output.recovery', 'final.output.recovery']]\n",
    "features=new_data2.drop(['rougher.output.recovery', 'final.output.recovery','date'], axis=1)\n",
    "new_data2=new_data2.drop(['date'], axis=1)\n",
    "train_set.drop(['date'], axis=1)\n",
    "train_set.reset_index(drop=True)\n",
    "new_data2.reset_index(drop=True)\n"
   ]
  },
  {
   "cell_type": "code",
   "execution_count": 30,
   "id": "e4f07215",
   "metadata": {
    "id": "e4f07215"
   },
   "outputs": [],
   "source": [
    "smape_score = make_scorer(smape_final, greater_is_better=False)"
   ]
  },
  {
   "cell_type": "code",
   "execution_count": 31,
   "id": "62a56321",
   "metadata": {
    "id": "62a56321"
   },
   "outputs": [],
   "source": [
    "target = ['rougher.output.recovery', 'final.output.recovery']\n",
    "features = (set(train_set.columns).intersection(set(test_set.columns)).difference(set(target)))"
   ]
  },
  {
   "cell_type": "code",
   "execution_count": 32,
   "id": "dee2a1a6",
   "metadata": {
    "id": "dee2a1a6"
   },
   "outputs": [],
   "source": [
    "features.remove('date')"
   ]
  },
  {
   "cell_type": "markdown",
   "id": "71271f3e",
   "metadata": {},
   "source": [
    "# Split Data"
   ]
  },
  {
   "cell_type": "code",
   "execution_count": 33,
   "id": "03790aa1",
   "metadata": {
    "id": "03790aa1"
   },
   "outputs": [
    {
     "name": "stderr",
     "output_type": "stream",
     "text": [
      "C:\\Users\\dsaad\\AppData\\Local\\Temp\\ipykernel_16816\\1732967104.py:1: FutureWarning: Passing a set as an indexer is deprecated and will raise in a future version. Use a list instead.\n",
      "  X_train, X_test = train_set[features].values, new_data2[features].values\n",
      "C:\\Users\\dsaad\\AppData\\Local\\Temp\\ipykernel_16816\\1732967104.py:1: FutureWarning: Passing a set as an indexer is deprecated and will raise in a future version. Use a list instead.\n",
      "  X_train, X_test = train_set[features].values, new_data2[features].values\n"
     ]
    }
   ],
   "source": [
    "X_train, X_test = train_set[features].values, new_data2[features].values\n",
    "y_train, y_test = train_set[target].values, new_data2[target].values"
   ]
  },
  {
   "cell_type": "markdown",
   "id": "c71e620c",
   "metadata": {},
   "source": [
    "Before training any models, I will train a constant model to use as a baseline to compare to the other models:"
   ]
  },
  {
   "cell_type": "markdown",
   "id": "39329554",
   "metadata": {},
   "source": [
    "# Constant Model"
   ]
  },
  {
   "cell_type": "code",
   "execution_count": 34,
   "id": "e00d1acd",
   "metadata": {},
   "outputs": [
    {
     "name": "stdout",
     "output_type": "stream",
     "text": [
      "smape: -0.06273367638740446\n"
     ]
    }
   ],
   "source": [
    "dm = DummyRegressor(strategy='mean').fit(X_train, y_train)\n",
    "y_pred = dm.predict(X_test)\n",
    "print('smape:', smape_final(y_test, y_pred))"
   ]
  },
  {
   "cell_type": "markdown",
   "id": "99c2ea6e",
   "metadata": {},
   "source": [
    "# Linear Regression Model\n"
   ]
  },
  {
   "cell_type": "code",
   "execution_count": 35,
   "id": "8635fc86",
   "metadata": {
    "id": "8635fc86"
   },
   "outputs": [
    {
     "name": "stdout",
     "output_type": "stream",
     "text": [
      "mean smape: 0.12038203930857742\n"
     ]
    },
    {
     "data": {
      "text/plain": [
       "array([0.06444214, 0.04338465, 0.0303675 , 0.0312694 , 0.43244651])"
      ]
     },
     "execution_count": 35,
     "metadata": {},
     "output_type": "execute_result"
    }
   ],
   "source": [
    "model1 = LinearRegression().fit(X_train, y_train)\n",
    "model1.fit(X_train, y_train)\n",
    "scores_model1 = cross_val_score(model1, X_train, y_train, cv=5, scoring=smape_score)\n",
    "print(\"mean smape:\", scores_model1.mean())\n",
    "scores_model1"
   ]
  },
  {
   "cell_type": "markdown",
   "id": "217e85a7",
   "metadata": {},
   "source": [
    "# DecisionTree Model "
   ]
  },
  {
   "cell_type": "code",
   "execution_count": 36,
   "id": "65862045",
   "metadata": {
    "id": "65862045"
   },
   "outputs": [],
   "source": [
    "random_state=np.random.RandomState(12345)\n",
    "best_model = None\n",
    "best_result = 10000\n",
    "best_est = 0\n",
    "best_depth = 0\n",
    "scores= {}\n",
    "for est in range(10, 51, 10):\n",
    "    for depth in range (1, 11):\n",
    "        model2 = DecisionTreeRegressor(random_state=random_state, max_depth=depth)\n",
    "        model2.fit(X_train, y_train)\n",
    "        model2_scores=cross_val_score(model2, X_train, y_train, cv=5, scoring=smape_score)\n",
    "        result=model2_scores.mean()\n",
    "        if result < best_result:\n",
    "            best_model = model2\n",
    "            best_result = result\n",
    "            best_depth = depth"
   ]
  },
  {
   "cell_type": "code",
   "execution_count": 37,
   "id": "955d17aa",
   "metadata": {
    "id": "955d17aa",
    "scrolled": false
   },
   "outputs": [
    {
     "name": "stdout",
     "output_type": "stream",
     "text": [
      "DecisionTreeRegressor mean smape score: 0.03454139307783659\n",
      "10\n"
     ]
    }
   ],
   "source": [
    "print(\"DecisionTreeRegressor mean smape score:\", result)\n",
    "print(best_depth)"
   ]
  },
  {
   "cell_type": "code",
   "execution_count": 38,
   "id": "141e48aa",
   "metadata": {},
   "outputs": [],
   "source": [
    "model3=RandomForestRegressor(random_state=random_state)"
   ]
  },
  {
   "cell_type": "code",
   "execution_count": null,
   "id": "3cf90e2f",
   "metadata": {},
   "outputs": [],
   "source": [
    "best_model = None\n",
    "best_result = 10000\n",
    "best_est = 0\n",
    "best_depth = 0\n",
    "scores= {}\n",
    "for est in range(50, 100):\n",
    "    for depth in range (1, 11):\n",
    "        model3 = RandomForestRegressor(random_state=random_state, n_estimators=est, max_depth=depth)\n",
    "        model3.fit(X_train, y_train)\n",
    "        model3_scores=cross_val_score(model3, X_train, y_train, cv=5, scoring=smape_score)\n",
    "        result2=model3_scores.mean()\n",
    "        if result2 < best_result:\n",
    "            best_model = model3\n",
    "            best_result = result2\n",
    "            best_est = est\n",
    "            best_depth = depth\n"
   ]
  },
  {
   "cell_type": "code",
   "execution_count": null,
   "id": "cb48df57",
   "metadata": {},
   "outputs": [],
   "source": [
    "print(result2)"
   ]
  },
  {
   "cell_type": "markdown",
   "id": "7ad0bdcc",
   "metadata": {},
   "source": [
    "* Below, I will evaluate the final model (DecisonTree Regressor, max_depth=4) using the test set:"
   ]
  },
  {
   "cell_type": "code",
   "execution_count": null,
   "id": "fa12539f",
   "metadata": {},
   "outputs": [],
   "source": [
    "best_model=DecisionTreeRegressor(random_state=random_state, max_depth=4)\n",
    "best_model.fit(X_train, y_train)\n",
    "y_pred_best= best_model.predict(X_test)\n",
    "print('smape:', smape_final(y_test, y_pred_best))\n"
   ]
  },
  {
   "cell_type": "markdown",
   "id": "f360ab3b",
   "metadata": {},
   "source": [
    "# Conclusion"
   ]
  },
  {
   "cell_type": "markdown",
   "id": "e417b9b7",
   "metadata": {
    "id": "ZK4SEAlviU9J"
   },
   "source": [
    "* The model that resulted in the best average smape score was the DecisionTreeRegressor (max_depth=10) model, resulting in an average smape score of 0.0345, as compared the other two models (LinearRegression(), average smape=0.1203) and RandomForestRegressor(), average_smape=0.0719)"
   ]
  }
 ],
 "metadata": {
  "ExecuteTimeLog": [
   {
    "duration": 42,
    "start_time": "2022-07-27T16:12:53.288Z"
   },
   {
    "duration": 5,
    "start_time": "2022-07-27T16:13:26.493Z"
   },
   {
    "duration": 1515,
    "start_time": "2022-07-27T16:15:19.658Z"
   },
   {
    "duration": 138,
    "start_time": "2022-07-27T16:15:21.175Z"
   },
   {
    "duration": 0,
    "start_time": "2022-07-27T16:15:21.315Z"
   },
   {
    "duration": 0,
    "start_time": "2022-07-27T16:15:21.316Z"
   },
   {
    "duration": 0,
    "start_time": "2022-07-27T16:15:21.317Z"
   },
   {
    "duration": 0,
    "start_time": "2022-07-27T16:15:21.318Z"
   },
   {
    "duration": 0,
    "start_time": "2022-07-27T16:15:21.319Z"
   },
   {
    "duration": 0,
    "start_time": "2022-07-27T16:15:21.320Z"
   },
   {
    "duration": 0,
    "start_time": "2022-07-27T16:15:21.321Z"
   },
   {
    "duration": 0,
    "start_time": "2022-07-27T16:15:21.331Z"
   },
   {
    "duration": 0,
    "start_time": "2022-07-27T16:15:21.332Z"
   },
   {
    "duration": 0,
    "start_time": "2022-07-27T16:15:21.332Z"
   },
   {
    "duration": 0,
    "start_time": "2022-07-27T16:15:21.333Z"
   },
   {
    "duration": 0,
    "start_time": "2022-07-27T16:15:21.334Z"
   },
   {
    "duration": 0,
    "start_time": "2022-07-27T16:15:21.335Z"
   },
   {
    "duration": 0,
    "start_time": "2022-07-27T16:15:21.336Z"
   },
   {
    "duration": 0,
    "start_time": "2022-07-27T16:15:21.337Z"
   },
   {
    "duration": 0,
    "start_time": "2022-07-27T16:15:21.338Z"
   },
   {
    "duration": 0,
    "start_time": "2022-07-27T16:15:21.339Z"
   },
   {
    "duration": 0,
    "start_time": "2022-07-27T16:15:21.340Z"
   },
   {
    "duration": 0,
    "start_time": "2022-07-27T16:15:21.341Z"
   },
   {
    "duration": 0,
    "start_time": "2022-07-27T16:15:21.342Z"
   },
   {
    "duration": 0,
    "start_time": "2022-07-27T16:15:21.342Z"
   },
   {
    "duration": 0,
    "start_time": "2022-07-27T16:15:21.343Z"
   },
   {
    "duration": 0,
    "start_time": "2022-07-27T16:15:21.344Z"
   },
   {
    "duration": 0,
    "start_time": "2022-07-27T16:15:21.345Z"
   },
   {
    "duration": 0,
    "start_time": "2022-07-27T16:15:21.346Z"
   },
   {
    "duration": 0,
    "start_time": "2022-07-27T16:15:21.347Z"
   },
   {
    "duration": 0,
    "start_time": "2022-07-27T16:15:21.348Z"
   },
   {
    "duration": 0,
    "start_time": "2022-07-27T16:15:21.349Z"
   },
   {
    "duration": 0,
    "start_time": "2022-07-27T16:15:21.350Z"
   },
   {
    "duration": 0,
    "start_time": "2022-07-27T16:15:21.351Z"
   },
   {
    "duration": 0,
    "start_time": "2022-07-27T16:15:21.352Z"
   },
   {
    "duration": 0,
    "start_time": "2022-07-27T16:15:21.353Z"
   },
   {
    "duration": 0,
    "start_time": "2022-07-27T16:15:21.353Z"
   },
   {
    "duration": 0,
    "start_time": "2022-07-27T16:15:21.354Z"
   },
   {
    "duration": 0,
    "start_time": "2022-07-27T16:15:21.355Z"
   },
   {
    "duration": 0,
    "start_time": "2022-07-27T16:15:21.356Z"
   },
   {
    "duration": 0,
    "start_time": "2022-07-27T16:15:21.357Z"
   },
   {
    "duration": 0,
    "start_time": "2022-07-27T16:15:21.358Z"
   },
   {
    "duration": 0,
    "start_time": "2022-07-27T16:15:21.358Z"
   },
   {
    "duration": 0,
    "start_time": "2022-07-27T16:15:21.359Z"
   },
   {
    "duration": 0,
    "start_time": "2022-07-27T16:15:21.360Z"
   },
   {
    "duration": 0,
    "start_time": "2022-07-27T16:15:21.361Z"
   },
   {
    "duration": 0,
    "start_time": "2022-07-27T16:15:21.362Z"
   },
   {
    "duration": 0,
    "start_time": "2022-07-27T16:15:21.362Z"
   },
   {
    "duration": 0,
    "start_time": "2022-07-27T16:15:21.363Z"
   },
   {
    "duration": 1202,
    "start_time": "2022-07-27T16:16:19.941Z"
   },
   {
    "duration": 1450,
    "start_time": "2022-07-27T16:16:29.132Z"
   },
   {
    "duration": 686,
    "start_time": "2022-07-27T16:16:30.584Z"
   },
   {
    "duration": 14,
    "start_time": "2022-07-27T16:16:31.271Z"
   },
   {
    "duration": 50,
    "start_time": "2022-07-27T16:16:31.286Z"
   },
   {
    "duration": 25,
    "start_time": "2022-07-27T16:16:31.338Z"
   },
   {
    "duration": 26,
    "start_time": "2022-07-27T16:16:31.365Z"
   },
   {
    "duration": 68,
    "start_time": "2022-07-27T16:16:31.393Z"
   },
   {
    "duration": 7,
    "start_time": "2022-07-27T16:16:31.463Z"
   },
   {
    "duration": 24,
    "start_time": "2022-07-27T16:16:31.472Z"
   },
   {
    "duration": 17,
    "start_time": "2022-07-27T16:16:31.498Z"
   },
   {
    "duration": 29,
    "start_time": "2022-07-27T16:16:31.517Z"
   },
   {
    "duration": 1479,
    "start_time": "2022-07-27T16:16:31.547Z"
   },
   {
    "duration": 0,
    "start_time": "2022-07-27T16:16:33.029Z"
   },
   {
    "duration": 0,
    "start_time": "2022-07-27T16:16:33.031Z"
   },
   {
    "duration": 0,
    "start_time": "2022-07-27T16:16:33.032Z"
   },
   {
    "duration": 0,
    "start_time": "2022-07-27T16:16:33.033Z"
   },
   {
    "duration": 0,
    "start_time": "2022-07-27T16:16:33.034Z"
   },
   {
    "duration": 0,
    "start_time": "2022-07-27T16:16:33.035Z"
   },
   {
    "duration": 0,
    "start_time": "2022-07-27T16:16:33.036Z"
   },
   {
    "duration": 0,
    "start_time": "2022-07-27T16:16:33.037Z"
   },
   {
    "duration": 0,
    "start_time": "2022-07-27T16:16:33.038Z"
   },
   {
    "duration": 0,
    "start_time": "2022-07-27T16:16:33.039Z"
   },
   {
    "duration": 0,
    "start_time": "2022-07-27T16:16:33.040Z"
   },
   {
    "duration": 0,
    "start_time": "2022-07-27T16:16:33.041Z"
   },
   {
    "duration": 0,
    "start_time": "2022-07-27T16:16:33.041Z"
   },
   {
    "duration": 0,
    "start_time": "2022-07-27T16:16:33.042Z"
   },
   {
    "duration": 0,
    "start_time": "2022-07-27T16:16:33.043Z"
   },
   {
    "duration": 0,
    "start_time": "2022-07-27T16:16:33.044Z"
   },
   {
    "duration": 0,
    "start_time": "2022-07-27T16:16:33.045Z"
   },
   {
    "duration": 0,
    "start_time": "2022-07-27T16:16:33.046Z"
   },
   {
    "duration": 0,
    "start_time": "2022-07-27T16:16:33.047Z"
   },
   {
    "duration": 0,
    "start_time": "2022-07-27T16:16:33.048Z"
   },
   {
    "duration": 0,
    "start_time": "2022-07-27T16:16:33.049Z"
   },
   {
    "duration": 0,
    "start_time": "2022-07-27T16:16:33.049Z"
   },
   {
    "duration": 0,
    "start_time": "2022-07-27T16:16:33.050Z"
   },
   {
    "duration": 0,
    "start_time": "2022-07-27T16:16:33.051Z"
   },
   {
    "duration": 0,
    "start_time": "2022-07-27T16:16:33.052Z"
   },
   {
    "duration": 0,
    "start_time": "2022-07-27T16:16:33.053Z"
   },
   {
    "duration": 0,
    "start_time": "2022-07-27T16:16:33.054Z"
   },
   {
    "duration": 1,
    "start_time": "2022-07-27T16:16:33.054Z"
   },
   {
    "duration": 0,
    "start_time": "2022-07-27T16:16:33.055Z"
   },
   {
    "duration": 0,
    "start_time": "2022-07-27T16:16:33.056Z"
   },
   {
    "duration": 0,
    "start_time": "2022-07-27T16:16:33.057Z"
   },
   {
    "duration": 0,
    "start_time": "2022-07-27T16:16:33.058Z"
   },
   {
    "duration": 0,
    "start_time": "2022-07-27T16:16:33.059Z"
   },
   {
    "duration": 0,
    "start_time": "2022-07-27T16:16:33.060Z"
   },
   {
    "duration": 0,
    "start_time": "2022-07-27T16:16:33.061Z"
   },
   {
    "duration": 1367,
    "start_time": "2022-07-27T16:17:48.703Z"
   },
   {
    "duration": 657,
    "start_time": "2022-07-27T16:17:50.072Z"
   },
   {
    "duration": 13,
    "start_time": "2022-07-27T16:17:50.731Z"
   },
   {
    "duration": 15,
    "start_time": "2022-07-27T16:17:50.746Z"
   },
   {
    "duration": 11,
    "start_time": "2022-07-27T16:17:50.762Z"
   },
   {
    "duration": 4,
    "start_time": "2022-07-27T16:17:50.774Z"
   },
   {
    "duration": 53,
    "start_time": "2022-07-27T16:17:50.779Z"
   },
   {
    "duration": 7,
    "start_time": "2022-07-27T16:17:50.833Z"
   },
   {
    "duration": 18,
    "start_time": "2022-07-27T16:17:50.841Z"
   },
   {
    "duration": 9,
    "start_time": "2022-07-27T16:17:50.861Z"
   },
   {
    "duration": 2,
    "start_time": "2022-07-27T16:17:50.871Z"
   },
   {
    "duration": 1304,
    "start_time": "2022-07-27T16:17:50.875Z"
   },
   {
    "duration": 0,
    "start_time": "2022-07-27T16:17:52.183Z"
   },
   {
    "duration": 0,
    "start_time": "2022-07-27T16:17:52.184Z"
   },
   {
    "duration": 0,
    "start_time": "2022-07-27T16:17:52.185Z"
   },
   {
    "duration": 0,
    "start_time": "2022-07-27T16:17:52.186Z"
   },
   {
    "duration": 0,
    "start_time": "2022-07-27T16:17:52.186Z"
   },
   {
    "duration": 0,
    "start_time": "2022-07-27T16:17:52.187Z"
   },
   {
    "duration": 0,
    "start_time": "2022-07-27T16:17:52.188Z"
   },
   {
    "duration": 0,
    "start_time": "2022-07-27T16:17:52.189Z"
   },
   {
    "duration": 0,
    "start_time": "2022-07-27T16:17:52.190Z"
   },
   {
    "duration": 0,
    "start_time": "2022-07-27T16:17:52.191Z"
   },
   {
    "duration": 0,
    "start_time": "2022-07-27T16:17:52.192Z"
   },
   {
    "duration": 0,
    "start_time": "2022-07-27T16:17:52.193Z"
   },
   {
    "duration": 0,
    "start_time": "2022-07-27T16:17:52.194Z"
   },
   {
    "duration": 0,
    "start_time": "2022-07-27T16:17:52.195Z"
   },
   {
    "duration": 0,
    "start_time": "2022-07-27T16:17:52.195Z"
   },
   {
    "duration": 0,
    "start_time": "2022-07-27T16:17:52.196Z"
   },
   {
    "duration": 0,
    "start_time": "2022-07-27T16:17:52.197Z"
   },
   {
    "duration": 0,
    "start_time": "2022-07-27T16:17:52.198Z"
   },
   {
    "duration": 0,
    "start_time": "2022-07-27T16:17:52.199Z"
   },
   {
    "duration": 0,
    "start_time": "2022-07-27T16:17:52.200Z"
   },
   {
    "duration": 0,
    "start_time": "2022-07-27T16:17:52.201Z"
   },
   {
    "duration": 0,
    "start_time": "2022-07-27T16:17:52.202Z"
   },
   {
    "duration": 0,
    "start_time": "2022-07-27T16:17:52.203Z"
   },
   {
    "duration": 0,
    "start_time": "2022-07-27T16:17:52.204Z"
   },
   {
    "duration": 0,
    "start_time": "2022-07-27T16:17:52.205Z"
   },
   {
    "duration": 0,
    "start_time": "2022-07-27T16:17:52.205Z"
   },
   {
    "duration": 0,
    "start_time": "2022-07-27T16:17:52.207Z"
   },
   {
    "duration": 0,
    "start_time": "2022-07-27T16:17:52.207Z"
   },
   {
    "duration": 0,
    "start_time": "2022-07-27T16:17:52.208Z"
   },
   {
    "duration": 0,
    "start_time": "2022-07-27T16:17:52.209Z"
   },
   {
    "duration": 0,
    "start_time": "2022-07-27T16:17:52.210Z"
   },
   {
    "duration": 0,
    "start_time": "2022-07-27T16:17:52.211Z"
   },
   {
    "duration": 0,
    "start_time": "2022-07-27T16:17:52.212Z"
   },
   {
    "duration": 0,
    "start_time": "2022-07-27T16:17:52.213Z"
   },
   {
    "duration": 1,
    "start_time": "2022-07-27T16:17:52.213Z"
   },
   {
    "duration": 4,
    "start_time": "2022-07-27T16:29:39.131Z"
   },
   {
    "duration": 4,
    "start_time": "2022-07-27T16:29:42.942Z"
   },
   {
    "duration": 10,
    "start_time": "2022-07-27T16:29:57.862Z"
   },
   {
    "duration": 2,
    "start_time": "2022-07-27T16:29:58.268Z"
   },
   {
    "duration": 6,
    "start_time": "2022-07-27T16:29:58.730Z"
   },
   {
    "duration": 5,
    "start_time": "2022-07-27T16:30:01.184Z"
   },
   {
    "duration": 1323,
    "start_time": "2022-07-27T16:30:45.368Z"
   },
   {
    "duration": 693,
    "start_time": "2022-07-27T16:30:46.693Z"
   },
   {
    "duration": 14,
    "start_time": "2022-07-27T16:30:47.387Z"
   },
   {
    "duration": 16,
    "start_time": "2022-07-27T16:30:47.403Z"
   },
   {
    "duration": 12,
    "start_time": "2022-07-27T16:30:47.432Z"
   },
   {
    "duration": 4,
    "start_time": "2022-07-27T16:30:47.446Z"
   },
   {
    "duration": 31,
    "start_time": "2022-07-27T16:30:47.452Z"
   },
   {
    "duration": 7,
    "start_time": "2022-07-27T16:30:47.484Z"
   },
   {
    "duration": 39,
    "start_time": "2022-07-27T16:30:47.492Z"
   },
   {
    "duration": 2,
    "start_time": "2022-07-27T16:30:47.534Z"
   },
   {
    "duration": 11,
    "start_time": "2022-07-27T16:30:47.538Z"
   },
   {
    "duration": 31,
    "start_time": "2022-07-27T16:30:47.551Z"
   },
   {
    "duration": 3,
    "start_time": "2022-07-27T16:30:47.583Z"
   },
   {
    "duration": 7,
    "start_time": "2022-07-27T16:30:47.587Z"
   },
   {
    "duration": 7,
    "start_time": "2022-07-27T16:30:47.595Z"
   },
   {
    "duration": 31,
    "start_time": "2022-07-27T16:30:47.604Z"
   },
   {
    "duration": 9,
    "start_time": "2022-07-27T16:30:47.637Z"
   },
   {
    "duration": 16,
    "start_time": "2022-07-27T16:30:47.647Z"
   },
   {
    "duration": 19,
    "start_time": "2022-07-27T16:30:47.664Z"
   },
   {
    "duration": 9,
    "start_time": "2022-07-27T16:30:47.685Z"
   },
   {
    "duration": 11,
    "start_time": "2022-07-27T16:30:47.696Z"
   },
   {
    "duration": 26,
    "start_time": "2022-07-27T16:30:47.709Z"
   },
   {
    "duration": 13,
    "start_time": "2022-07-27T16:30:47.736Z"
   },
   {
    "duration": 1224,
    "start_time": "2022-07-27T16:30:47.751Z"
   },
   {
    "duration": 520,
    "start_time": "2022-07-27T16:30:48.977Z"
   },
   {
    "duration": 3,
    "start_time": "2022-07-27T16:30:49.498Z"
   },
   {
    "duration": 7,
    "start_time": "2022-07-27T16:30:49.503Z"
   },
   {
    "duration": 3,
    "start_time": "2022-07-27T16:30:49.514Z"
   },
   {
    "duration": 28,
    "start_time": "2022-07-27T16:30:49.519Z"
   },
   {
    "duration": 521,
    "start_time": "2022-07-27T16:30:49.548Z"
   },
   {
    "duration": 3,
    "start_time": "2022-07-27T16:30:50.071Z"
   },
   {
    "duration": 9,
    "start_time": "2022-07-27T16:30:50.076Z"
   },
   {
    "duration": 6,
    "start_time": "2022-07-27T16:30:50.087Z"
   },
   {
    "duration": 56,
    "start_time": "2022-07-27T16:30:50.094Z"
   },
   {
    "duration": 3,
    "start_time": "2022-07-27T16:30:50.152Z"
   },
   {
    "duration": 6,
    "start_time": "2022-07-27T16:30:50.157Z"
   },
   {
    "duration": 6,
    "start_time": "2022-07-27T16:30:50.164Z"
   },
   {
    "duration": 9,
    "start_time": "2022-07-27T16:30:50.172Z"
   },
   {
    "duration": 6,
    "start_time": "2022-07-27T16:30:50.182Z"
   },
   {
    "duration": 1943,
    "start_time": "2022-07-27T16:30:50.189Z"
   },
   {
    "duration": 2252,
    "start_time": "2022-07-27T16:46:48.214Z"
   },
   {
    "duration": 1282,
    "start_time": "2022-07-27T16:46:50.468Z"
   },
   {
    "duration": 14,
    "start_time": "2022-07-27T16:46:51.752Z"
   },
   {
    "duration": 74,
    "start_time": "2022-07-27T16:46:51.767Z"
   },
   {
    "duration": 11,
    "start_time": "2022-07-27T16:46:51.843Z"
   },
   {
    "duration": 4,
    "start_time": "2022-07-27T16:46:51.855Z"
   },
   {
    "duration": 95,
    "start_time": "2022-07-27T16:46:51.860Z"
   },
   {
    "duration": 7,
    "start_time": "2022-07-27T16:46:51.956Z"
   },
   {
    "duration": 70,
    "start_time": "2022-07-27T16:46:51.964Z"
   },
   {
    "duration": 3,
    "start_time": "2022-07-27T16:46:52.036Z"
   },
   {
    "duration": 19,
    "start_time": "2022-07-27T16:46:52.041Z"
   },
   {
    "duration": 96,
    "start_time": "2022-07-27T16:46:52.061Z"
   },
   {
    "duration": 4,
    "start_time": "2022-07-27T16:46:52.159Z"
   },
   {
    "duration": 65,
    "start_time": "2022-07-27T16:46:52.166Z"
   },
   {
    "duration": 13,
    "start_time": "2022-07-27T16:46:52.233Z"
   },
   {
    "duration": 18,
    "start_time": "2022-07-27T16:46:52.248Z"
   },
   {
    "duration": 73,
    "start_time": "2022-07-27T16:46:52.268Z"
   },
   {
    "duration": 12,
    "start_time": "2022-07-27T16:46:52.343Z"
   },
   {
    "duration": 5,
    "start_time": "2022-07-27T16:46:52.357Z"
   },
   {
    "duration": 81,
    "start_time": "2022-07-27T16:46:52.363Z"
   },
   {
    "duration": 2290,
    "start_time": "2022-07-27T16:46:52.447Z"
   },
   {
    "duration": 1009,
    "start_time": "2022-07-27T16:46:54.739Z"
   },
   {
    "duration": 2,
    "start_time": "2022-07-27T16:46:55.750Z"
   },
   {
    "duration": 6,
    "start_time": "2022-07-27T16:46:55.754Z"
   },
   {
    "duration": 6,
    "start_time": "2022-07-27T16:46:55.762Z"
   },
   {
    "duration": 82,
    "start_time": "2022-07-27T16:46:55.769Z"
   },
   {
    "duration": 908,
    "start_time": "2022-07-27T16:46:55.852Z"
   },
   {
    "duration": 3,
    "start_time": "2022-07-27T16:46:56.761Z"
   },
   {
    "duration": 6,
    "start_time": "2022-07-27T16:46:56.766Z"
   },
   {
    "duration": 100,
    "start_time": "2022-07-27T16:46:56.832Z"
   },
   {
    "duration": 3,
    "start_time": "2022-07-27T16:46:56.934Z"
   },
   {
    "duration": 8,
    "start_time": "2022-07-27T16:46:56.938Z"
   },
   {
    "duration": 12,
    "start_time": "2022-07-27T16:46:56.947Z"
   },
   {
    "duration": 9,
    "start_time": "2022-07-27T16:46:56.961Z"
   },
   {
    "duration": 5,
    "start_time": "2022-07-27T16:46:57.030Z"
   },
   {
    "duration": 739,
    "start_time": "2022-07-27T16:46:57.037Z"
   },
   {
    "duration": 0,
    "start_time": "2022-07-27T16:46:57.778Z"
   },
   {
    "duration": 0,
    "start_time": "2022-07-27T16:46:57.831Z"
   },
   {
    "duration": 0,
    "start_time": "2022-07-27T16:46:57.834Z"
   },
   {
    "duration": 0,
    "start_time": "2022-07-27T16:46:57.835Z"
   },
   {
    "duration": 0,
    "start_time": "2022-07-27T16:46:57.836Z"
   },
   {
    "duration": 0,
    "start_time": "2022-07-27T16:46:57.837Z"
   },
   {
    "duration": 457,
    "start_time": "2022-07-27T16:47:59.782Z"
   },
   {
    "duration": 454,
    "start_time": "2022-07-27T16:48:26.987Z"
   },
   {
    "duration": 1662,
    "start_time": "2022-07-27T16:48:42.571Z"
   },
   {
    "duration": 175141,
    "start_time": "2022-07-27T16:48:50.334Z"
   },
   {
    "duration": 5,
    "start_time": "2022-07-27T16:51:45.530Z"
   },
   {
    "duration": 2153,
    "start_time": "2022-07-27T17:07:59.115Z"
   },
   {
    "duration": 1300,
    "start_time": "2022-07-27T17:08:01.270Z"
   },
   {
    "duration": 65,
    "start_time": "2022-07-27T17:08:02.571Z"
   },
   {
    "duration": 14,
    "start_time": "2022-07-27T17:08:02.639Z"
   },
   {
    "duration": 77,
    "start_time": "2022-07-27T17:08:02.655Z"
   },
   {
    "duration": 4,
    "start_time": "2022-07-27T17:08:02.734Z"
   },
   {
    "duration": 92,
    "start_time": "2022-07-27T17:08:02.740Z"
   },
   {
    "duration": 7,
    "start_time": "2022-07-27T17:08:02.834Z"
   },
   {
    "duration": 16,
    "start_time": "2022-07-27T17:08:02.842Z"
   },
   {
    "duration": 2,
    "start_time": "2022-07-27T17:08:02.860Z"
   },
   {
    "duration": 69,
    "start_time": "2022-07-27T17:08:02.863Z"
   },
   {
    "duration": 32,
    "start_time": "2022-07-27T17:08:02.934Z"
   },
   {
    "duration": 4,
    "start_time": "2022-07-27T17:08:02.968Z"
   },
   {
    "duration": 7,
    "start_time": "2022-07-27T17:08:03.031Z"
   },
   {
    "duration": 21,
    "start_time": "2022-07-27T17:08:03.040Z"
   },
   {
    "duration": 80,
    "start_time": "2022-07-27T17:08:03.062Z"
   },
   {
    "duration": 11,
    "start_time": "2022-07-27T17:08:03.144Z"
   },
   {
    "duration": 12,
    "start_time": "2022-07-27T17:08:03.157Z"
   },
   {
    "duration": 6,
    "start_time": "2022-07-27T17:08:03.231Z"
   },
   {
    "duration": 19,
    "start_time": "2022-07-27T17:08:03.238Z"
   },
   {
    "duration": 2302,
    "start_time": "2022-07-27T17:08:03.259Z"
   },
   {
    "duration": 1103,
    "start_time": "2022-07-27T17:08:05.563Z"
   },
   {
    "duration": 3,
    "start_time": "2022-07-27T17:08:06.668Z"
   },
   {
    "duration": 64,
    "start_time": "2022-07-27T17:08:06.673Z"
   },
   {
    "duration": 28,
    "start_time": "2022-07-27T17:08:06.739Z"
   },
   {
    "duration": 80,
    "start_time": "2022-07-27T17:08:06.769Z"
   },
   {
    "duration": 1013,
    "start_time": "2022-07-27T17:08:06.851Z"
   },
   {
    "duration": 4,
    "start_time": "2022-07-27T17:08:07.867Z"
   },
   {
    "duration": 63,
    "start_time": "2022-07-27T17:08:07.873Z"
   },
   {
    "duration": 101,
    "start_time": "2022-07-27T17:08:07.938Z"
   },
   {
    "duration": 3,
    "start_time": "2022-07-27T17:08:08.040Z"
   },
   {
    "duration": 9,
    "start_time": "2022-07-27T17:08:08.045Z"
   },
   {
    "duration": 6,
    "start_time": "2022-07-27T17:08:08.055Z"
   },
   {
    "duration": 70,
    "start_time": "2022-07-27T17:08:08.062Z"
   },
   {
    "duration": 10,
    "start_time": "2022-07-27T17:08:08.134Z"
   },
   {
    "duration": 12,
    "start_time": "2022-07-27T17:08:08.145Z"
   },
   {
    "duration": 109,
    "start_time": "2022-07-27T17:08:08.158Z"
   },
   {
    "duration": 0,
    "start_time": "2022-07-27T17:08:08.269Z"
   },
   {
    "duration": 0,
    "start_time": "2022-07-27T17:08:08.270Z"
   },
   {
    "duration": 0,
    "start_time": "2022-07-27T17:08:08.271Z"
   },
   {
    "duration": 0,
    "start_time": "2022-07-27T17:08:08.272Z"
   },
   {
    "duration": 0,
    "start_time": "2022-07-27T17:08:08.274Z"
   },
   {
    "duration": 668,
    "start_time": "2022-07-27T17:09:03.693Z"
   },
   {
    "duration": 1713,
    "start_time": "2022-07-27T17:10:46.522Z"
   },
   {
    "duration": 2035,
    "start_time": "2022-07-27T17:11:02.597Z"
   },
   {
    "duration": 1734,
    "start_time": "2022-07-27T17:12:14.601Z"
   },
   {
    "duration": 351,
    "start_time": "2022-07-27T17:12:36.290Z"
   },
   {
    "duration": 78,
    "start_time": "2022-07-27T17:12:41.054Z"
   },
   {
    "duration": 2007,
    "start_time": "2022-07-27T17:12:43.926Z"
   },
   {
    "duration": 3,
    "start_time": "2022-07-27T17:14:00.567Z"
   },
   {
    "duration": 3,
    "start_time": "2022-07-27T17:14:01.412Z"
   },
   {
    "duration": 2,
    "start_time": "2022-07-27T17:14:01.856Z"
   },
   {
    "duration": 27,
    "start_time": "2022-07-27T17:14:03.004Z"
   },
   {
    "duration": 5,
    "start_time": "2022-07-27T17:14:04.356Z"
   },
   {
    "duration": 4,
    "start_time": "2022-07-27T17:14:05.648Z"
   },
   {
    "duration": 1964,
    "start_time": "2022-07-27T17:14:09.070Z"
   },
   {
    "duration": 3,
    "start_time": "2022-07-27T17:14:29.858Z"
   },
   {
    "duration": 3,
    "start_time": "2022-07-27T17:14:31.440Z"
   },
   {
    "duration": 3,
    "start_time": "2022-07-27T17:14:31.830Z"
   },
   {
    "duration": 8,
    "start_time": "2022-07-27T17:14:32.541Z"
   },
   {
    "duration": 5,
    "start_time": "2022-07-27T17:14:32.978Z"
   },
   {
    "duration": 3,
    "start_time": "2022-07-27T17:14:34.378Z"
   },
   {
    "duration": 2018,
    "start_time": "2022-07-27T17:14:35.418Z"
   },
   {
    "duration": 1925,
    "start_time": "2022-07-27T17:17:11.007Z"
   },
   {
    "duration": 813,
    "start_time": "2022-07-27T17:17:12.934Z"
   },
   {
    "duration": 0,
    "start_time": "2022-07-27T17:17:13.749Z"
   },
   {
    "duration": 220816,
    "start_time": "2022-07-27T17:20:08.030Z"
   },
   {
    "duration": 1588,
    "start_time": "2022-07-28T20:24:07.067Z"
   },
   {
    "duration": 3936,
    "start_time": "2022-07-28T20:24:08.657Z"
   },
   {
    "duration": 15,
    "start_time": "2022-07-28T20:24:12.595Z"
   },
   {
    "duration": 20,
    "start_time": "2022-07-28T20:24:12.613Z"
   },
   {
    "duration": 14,
    "start_time": "2022-07-28T20:24:12.635Z"
   },
   {
    "duration": 4,
    "start_time": "2022-07-28T20:24:12.651Z"
   },
   {
    "duration": 34,
    "start_time": "2022-07-28T20:24:12.661Z"
   },
   {
    "duration": 7,
    "start_time": "2022-07-28T20:24:12.697Z"
   },
   {
    "duration": 17,
    "start_time": "2022-07-28T20:24:12.706Z"
   },
   {
    "duration": 2,
    "start_time": "2022-07-28T20:24:12.726Z"
   },
   {
    "duration": 9,
    "start_time": "2022-07-28T20:24:12.730Z"
   },
   {
    "duration": 54,
    "start_time": "2022-07-28T20:24:12.740Z"
   },
   {
    "duration": 4,
    "start_time": "2022-07-28T20:24:12.796Z"
   },
   {
    "duration": 8,
    "start_time": "2022-07-28T20:24:12.801Z"
   },
   {
    "duration": 15,
    "start_time": "2022-07-28T20:24:12.810Z"
   },
   {
    "duration": 42,
    "start_time": "2022-07-28T20:24:12.827Z"
   },
   {
    "duration": 10,
    "start_time": "2022-07-28T20:24:12.871Z"
   },
   {
    "duration": 13,
    "start_time": "2022-07-28T20:24:12.883Z"
   },
   {
    "duration": 8,
    "start_time": "2022-07-28T20:24:12.897Z"
   },
   {
    "duration": 15,
    "start_time": "2022-07-28T20:24:12.906Z"
   },
   {
    "duration": 1243,
    "start_time": "2022-07-28T20:24:12.923Z"
   },
   {
    "duration": 552,
    "start_time": "2022-07-28T20:24:14.168Z"
   },
   {
    "duration": 3,
    "start_time": "2022-07-28T20:24:14.722Z"
   },
   {
    "duration": 10,
    "start_time": "2022-07-28T20:24:14.727Z"
   },
   {
    "duration": 8,
    "start_time": "2022-07-28T20:24:14.739Z"
   },
   {
    "duration": 31,
    "start_time": "2022-07-28T20:24:14.748Z"
   },
   {
    "duration": 526,
    "start_time": "2022-07-28T20:24:14.781Z"
   },
   {
    "duration": 5,
    "start_time": "2022-07-28T20:24:15.311Z"
   },
   {
    "duration": 10,
    "start_time": "2022-07-28T20:24:15.318Z"
   },
   {
    "duration": 60,
    "start_time": "2022-07-28T20:24:15.330Z"
   },
   {
    "duration": 2,
    "start_time": "2022-07-28T20:24:15.392Z"
   },
   {
    "duration": 8,
    "start_time": "2022-07-28T20:24:15.395Z"
   },
   {
    "duration": 5,
    "start_time": "2022-07-28T20:24:15.404Z"
   },
   {
    "duration": 10,
    "start_time": "2022-07-28T20:24:15.410Z"
   },
   {
    "duration": 6,
    "start_time": "2022-07-28T20:24:15.421Z"
   },
   {
    "duration": 1934,
    "start_time": "2022-07-28T20:24:15.429Z"
   },
   {
    "duration": 120930,
    "start_time": "2022-07-28T20:24:17.366Z"
   },
   {
    "duration": 3,
    "start_time": "2022-07-28T20:26:18.298Z"
   },
   {
    "duration": 1467,
    "start_time": "2022-07-28T20:38:19.634Z"
   },
   {
    "duration": 860,
    "start_time": "2022-07-28T20:38:21.103Z"
   },
   {
    "duration": 17,
    "start_time": "2022-07-28T20:38:21.964Z"
   },
   {
    "duration": 17,
    "start_time": "2022-07-28T20:38:21.983Z"
   },
   {
    "duration": 13,
    "start_time": "2022-07-28T20:38:22.002Z"
   },
   {
    "duration": 4,
    "start_time": "2022-07-28T20:38:22.017Z"
   },
   {
    "duration": 68,
    "start_time": "2022-07-28T20:38:22.022Z"
   },
   {
    "duration": 7,
    "start_time": "2022-07-28T20:38:22.091Z"
   },
   {
    "duration": 12,
    "start_time": "2022-07-28T20:38:22.099Z"
   },
   {
    "duration": 2,
    "start_time": "2022-07-28T20:38:22.113Z"
   },
   {
    "duration": 8,
    "start_time": "2022-07-28T20:38:22.116Z"
   },
   {
    "duration": 55,
    "start_time": "2022-07-28T20:38:22.126Z"
   },
   {
    "duration": 5,
    "start_time": "2022-07-28T20:38:22.182Z"
   },
   {
    "duration": 8,
    "start_time": "2022-07-28T20:38:22.188Z"
   },
   {
    "duration": 14,
    "start_time": "2022-07-28T20:38:22.197Z"
   },
   {
    "duration": 21,
    "start_time": "2022-07-28T20:38:22.212Z"
   },
   {
    "duration": 40,
    "start_time": "2022-07-28T20:38:22.235Z"
   },
   {
    "duration": 13,
    "start_time": "2022-07-28T20:38:22.276Z"
   },
   {
    "duration": 5,
    "start_time": "2022-07-28T20:38:22.291Z"
   },
   {
    "duration": 12,
    "start_time": "2022-07-28T20:38:22.298Z"
   },
   {
    "duration": 1243,
    "start_time": "2022-07-28T20:38:22.312Z"
   },
   {
    "duration": 578,
    "start_time": "2022-07-28T20:38:23.557Z"
   },
   {
    "duration": 3,
    "start_time": "2022-07-28T20:38:24.137Z"
   },
   {
    "duration": 7,
    "start_time": "2022-07-28T20:38:24.141Z"
   },
   {
    "duration": 12,
    "start_time": "2022-07-28T20:38:24.149Z"
   },
   {
    "duration": 34,
    "start_time": "2022-07-28T20:38:24.162Z"
   },
   {
    "duration": 494,
    "start_time": "2022-07-28T20:38:24.198Z"
   },
   {
    "duration": 4,
    "start_time": "2022-07-28T20:38:24.696Z"
   },
   {
    "duration": 5,
    "start_time": "2022-07-28T20:38:24.702Z"
   },
   {
    "duration": 72,
    "start_time": "2022-07-28T20:38:24.709Z"
   },
   {
    "duration": 3,
    "start_time": "2022-07-28T20:38:24.782Z"
   },
   {
    "duration": 7,
    "start_time": "2022-07-28T20:38:24.786Z"
   },
   {
    "duration": 7,
    "start_time": "2022-07-28T20:38:24.795Z"
   },
   {
    "duration": 9,
    "start_time": "2022-07-28T20:38:24.804Z"
   },
   {
    "duration": 8,
    "start_time": "2022-07-28T20:38:24.815Z"
   },
   {
    "duration": 50,
    "start_time": "2022-07-28T20:38:24.824Z"
   },
   {
    "duration": 0,
    "start_time": "2022-07-28T20:38:24.876Z"
   },
   {
    "duration": 0,
    "start_time": "2022-07-28T20:38:24.878Z"
   },
   {
    "duration": 0,
    "start_time": "2022-07-28T20:38:24.879Z"
   },
   {
    "duration": 0,
    "start_time": "2022-07-28T20:38:24.880Z"
   },
   {
    "duration": 0,
    "start_time": "2022-07-28T20:38:24.881Z"
   },
   {
    "duration": 0,
    "start_time": "2022-07-28T20:38:24.882Z"
   },
   {
    "duration": 2747,
    "start_time": "2022-07-28T20:46:20.932Z"
   },
   {
    "duration": 1362,
    "start_time": "2022-07-28T20:46:37.814Z"
   },
   {
    "duration": 870,
    "start_time": "2022-07-28T20:46:39.178Z"
   },
   {
    "duration": 19,
    "start_time": "2022-07-28T20:46:40.049Z"
   },
   {
    "duration": 17,
    "start_time": "2022-07-28T20:46:40.070Z"
   },
   {
    "duration": 13,
    "start_time": "2022-07-28T20:46:40.089Z"
   },
   {
    "duration": 4,
    "start_time": "2022-07-28T20:46:40.104Z"
   },
   {
    "duration": 64,
    "start_time": "2022-07-28T20:46:40.110Z"
   },
   {
    "duration": 7,
    "start_time": "2022-07-28T20:46:40.176Z"
   },
   {
    "duration": 14,
    "start_time": "2022-07-28T20:46:40.184Z"
   },
   {
    "duration": 2,
    "start_time": "2022-07-28T20:46:40.199Z"
   },
   {
    "duration": 9,
    "start_time": "2022-07-28T20:46:40.202Z"
   },
   {
    "duration": 51,
    "start_time": "2022-07-28T20:46:40.212Z"
   },
   {
    "duration": 7,
    "start_time": "2022-07-28T20:46:40.265Z"
   },
   {
    "duration": 8,
    "start_time": "2022-07-28T20:46:40.276Z"
   },
   {
    "duration": 17,
    "start_time": "2022-07-28T20:46:40.286Z"
   },
   {
    "duration": 20,
    "start_time": "2022-07-28T20:46:40.305Z"
   },
   {
    "duration": 10,
    "start_time": "2022-07-28T20:46:40.326Z"
   },
   {
    "duration": 19,
    "start_time": "2022-07-28T20:46:40.360Z"
   },
   {
    "duration": 6,
    "start_time": "2022-07-28T20:46:40.380Z"
   },
   {
    "duration": 14,
    "start_time": "2022-07-28T20:46:40.388Z"
   },
   {
    "duration": 1257,
    "start_time": "2022-07-28T20:46:40.403Z"
   },
   {
    "duration": 553,
    "start_time": "2022-07-28T20:46:41.661Z"
   },
   {
    "duration": 3,
    "start_time": "2022-07-28T20:46:42.216Z"
   },
   {
    "duration": 10,
    "start_time": "2022-07-28T20:46:42.220Z"
   },
   {
    "duration": 13,
    "start_time": "2022-07-28T20:46:42.231Z"
   },
   {
    "duration": 33,
    "start_time": "2022-07-28T20:46:42.245Z"
   },
   {
    "duration": 513,
    "start_time": "2022-07-28T20:46:42.280Z"
   },
   {
    "duration": 4,
    "start_time": "2022-07-28T20:46:42.795Z"
   },
   {
    "duration": 7,
    "start_time": "2022-07-28T20:46:42.801Z"
   },
   {
    "duration": 59,
    "start_time": "2022-07-28T20:46:42.809Z"
   },
   {
    "duration": 5,
    "start_time": "2022-07-28T20:46:42.870Z"
   },
   {
    "duration": 10,
    "start_time": "2022-07-28T20:46:42.878Z"
   },
   {
    "duration": 5,
    "start_time": "2022-07-28T20:46:42.889Z"
   },
   {
    "duration": 11,
    "start_time": "2022-07-28T20:46:42.895Z"
   },
   {
    "duration": 7,
    "start_time": "2022-07-28T20:46:42.908Z"
   },
   {
    "duration": 1746,
    "start_time": "2022-07-28T20:46:42.916Z"
   },
   {
    "duration": 124632,
    "start_time": "2022-07-28T20:46:44.665Z"
   },
   {
    "duration": 4,
    "start_time": "2022-07-28T20:48:49.298Z"
   },
   {
    "duration": 1597,
    "start_time": "2022-07-29T15:32:44.051Z"
   },
   {
    "duration": 1423,
    "start_time": "2022-07-29T15:32:45.651Z"
   },
   {
    "duration": 15,
    "start_time": "2022-07-29T15:32:47.076Z"
   },
   {
    "duration": 15,
    "start_time": "2022-07-29T15:32:47.093Z"
   },
   {
    "duration": 11,
    "start_time": "2022-07-29T15:32:47.110Z"
   },
   {
    "duration": 11,
    "start_time": "2022-07-29T15:32:47.122Z"
   },
   {
    "duration": 50,
    "start_time": "2022-07-29T15:32:47.134Z"
   },
   {
    "duration": 9,
    "start_time": "2022-07-29T15:32:47.186Z"
   },
   {
    "duration": 18,
    "start_time": "2022-07-29T15:32:47.197Z"
   },
   {
    "duration": 2,
    "start_time": "2022-07-29T15:32:47.217Z"
   },
   {
    "duration": 21,
    "start_time": "2022-07-29T15:32:47.221Z"
   },
   {
    "duration": 52,
    "start_time": "2022-07-29T15:32:47.243Z"
   },
   {
    "duration": 5,
    "start_time": "2022-07-29T15:32:47.298Z"
   },
   {
    "duration": 13,
    "start_time": "2022-07-29T15:32:47.307Z"
   },
   {
    "duration": 20,
    "start_time": "2022-07-29T15:32:47.322Z"
   },
   {
    "duration": 24,
    "start_time": "2022-07-29T15:32:47.344Z"
   },
   {
    "duration": 10,
    "start_time": "2022-07-29T15:32:47.370Z"
   },
   {
    "duration": 11,
    "start_time": "2022-07-29T15:32:47.382Z"
   },
   {
    "duration": 5,
    "start_time": "2022-07-29T15:32:47.395Z"
   },
   {
    "duration": 31,
    "start_time": "2022-07-29T15:32:47.402Z"
   },
   {
    "duration": 1346,
    "start_time": "2022-07-29T15:32:47.435Z"
   },
   {
    "duration": 566,
    "start_time": "2022-07-29T15:32:48.783Z"
   },
   {
    "duration": 2,
    "start_time": "2022-07-29T15:32:49.351Z"
   },
   {
    "duration": 13,
    "start_time": "2022-07-29T15:32:49.355Z"
   },
   {
    "duration": 15,
    "start_time": "2022-07-29T15:32:49.369Z"
   },
   {
    "duration": 29,
    "start_time": "2022-07-29T15:32:49.386Z"
   },
   {
    "duration": 525,
    "start_time": "2022-07-29T15:32:49.417Z"
   },
   {
    "duration": 6,
    "start_time": "2022-07-29T15:32:49.944Z"
   },
   {
    "duration": 13,
    "start_time": "2022-07-29T15:32:49.951Z"
   },
   {
    "duration": 52,
    "start_time": "2022-07-29T15:32:49.966Z"
   },
   {
    "duration": 3,
    "start_time": "2022-07-29T15:32:50.020Z"
   },
   {
    "duration": 5,
    "start_time": "2022-07-29T15:32:50.032Z"
   },
   {
    "duration": 15,
    "start_time": "2022-07-29T15:32:50.039Z"
   },
   {
    "duration": 10,
    "start_time": "2022-07-29T15:32:50.056Z"
   },
   {
    "duration": 6,
    "start_time": "2022-07-29T15:32:50.068Z"
   },
   {
    "duration": 1960,
    "start_time": "2022-07-29T15:32:50.076Z"
   },
   {
    "duration": 114593,
    "start_time": "2022-07-29T15:32:52.038Z"
   },
   {
    "duration": 11,
    "start_time": "2022-07-29T15:34:46.636Z"
   }
  ],
  "colab": {
   "name": "Untitled4.ipynb",
   "provenance": []
  },
  "kernelspec": {
   "display_name": "Python 3 (ipykernel)",
   "language": "python",
   "name": "python3"
  },
  "language_info": {
   "codemirror_mode": {
    "name": "ipython",
    "version": 3
   },
   "file_extension": ".py",
   "mimetype": "text/x-python",
   "name": "python",
   "nbconvert_exporter": "python",
   "pygments_lexer": "ipython3",
   "version": "3.9.12"
  },
  "toc": {
   "base_numbering": 1,
   "nav_menu": {},
   "number_sections": true,
   "sideBar": true,
   "skip_h1_title": true,
   "title_cell": "Table of Contents",
   "title_sidebar": "Contents",
   "toc_cell": false,
   "toc_position": {},
   "toc_section_display": true,
   "toc_window_display": false
  }
 },
 "nbformat": 4,
 "nbformat_minor": 5
}
