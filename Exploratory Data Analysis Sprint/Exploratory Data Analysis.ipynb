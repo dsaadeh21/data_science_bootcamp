{
 "cells": [
  {
   "cell_type": "markdown",
   "metadata": {},
   "source": [
    "## Initialization"
   ]
  },
  {
   "cell_type": "code",
   "execution_count": 1,
   "metadata": {},
   "outputs": [],
   "source": [
    "# Loading all the libraries\n",
    "import pandas as pd\n",
    "import numpy as np\n",
    "import matplotlib.pyplot as plt\n",
    "import seaborn as sb\n"
   ]
  },
  {
   "cell_type": "markdown",
   "metadata": {},
   "source": [
    "### Load data"
   ]
  },
  {
   "cell_type": "code",
   "execution_count": 2,
   "metadata": {},
   "outputs": [
    {
     "name": "stdout",
     "output_type": "stream",
     "text": [
      "   price  model_year           model  condition  cylinders fuel  odometer  \\\n",
      "0   9400      2011.0          bmw x5       good        6.0  gas  145000.0   \n",
      "1  25500         NaN      ford f-150       good        6.0  gas   88705.0   \n",
      "2   5500      2013.0  hyundai sonata   like new        4.0  gas  110000.0   \n",
      "3   1500      2003.0      ford f-150       fair        8.0  gas       NaN   \n",
      "4  14900      2017.0    chrysler 200  excellent        4.0  gas   80903.0   \n",
      "\n",
      "  transmission    type paint_color  is_4wd date_posted  days_listed  \n",
      "0    automatic     SUV         NaN     1.0  2018-06-23           19  \n",
      "1    automatic  pickup       white     1.0  2018-10-19           50  \n",
      "2    automatic   sedan         red     NaN  2019-02-07           79  \n",
      "3    automatic  pickup         NaN     NaN  2019-03-22            9  \n",
      "4    automatic   sedan       black     NaN  2019-04-02           28  \n"
     ]
    }
   ],
   "source": [
    "# Load the data file into a DataFrame\n",
    "vehicle_price = pd.read_csv(\"/datasets/vehicles_us.csv\")\n",
    "print(vehicle_price.head())\n"
   ]
  },
  {
   "cell_type": "markdown",
   "metadata": {},
   "source": [
    "### Explore initial data"
   ]
  },
  {
   "cell_type": "code",
   "execution_count": 3,
   "metadata": {},
   "outputs": [
    {
     "name": "stdout",
     "output_type": "stream",
     "text": [
      "                price    model_year       model  condition     cylinders  \\\n",
      "count    51525.000000  47906.000000       51525      51525  46265.000000   \n",
      "unique            NaN           NaN         100          6           NaN   \n",
      "top               NaN           NaN  ford f-150  excellent           NaN   \n",
      "freq              NaN           NaN        2796      24773           NaN   \n",
      "mean     12132.464920   2009.750470         NaN        NaN      6.125235   \n",
      "std      10040.803015      6.282065         NaN        NaN      1.660360   \n",
      "min          1.000000   1908.000000         NaN        NaN      3.000000   \n",
      "25%       5000.000000   2006.000000         NaN        NaN      4.000000   \n",
      "50%       9000.000000   2011.000000         NaN        NaN      6.000000   \n",
      "75%      16839.000000   2014.000000         NaN        NaN      8.000000   \n",
      "max     375000.000000   2019.000000         NaN        NaN     12.000000   \n",
      "\n",
      "         fuel       odometer transmission   type paint_color   is_4wd  \\\n",
      "count   51525   43633.000000        51525  51525       42258  25572.0   \n",
      "unique      5            NaN            3     13          12      NaN   \n",
      "top       gas            NaN    automatic    SUV       white      NaN   \n",
      "freq    47288            NaN        46902  12405       10029      NaN   \n",
      "mean      NaN  115553.461738          NaN    NaN         NaN      1.0   \n",
      "std       NaN   65094.611341          NaN    NaN         NaN      0.0   \n",
      "min       NaN       0.000000          NaN    NaN         NaN      1.0   \n",
      "25%       NaN   70000.000000          NaN    NaN         NaN      1.0   \n",
      "50%       NaN  113000.000000          NaN    NaN         NaN      1.0   \n",
      "75%       NaN  155000.000000          NaN    NaN         NaN      1.0   \n",
      "max       NaN  990000.000000          NaN    NaN         NaN      1.0   \n",
      "\n",
      "       date_posted  days_listed  \n",
      "count        51525  51525.00000  \n",
      "unique         354          NaN  \n",
      "top     2019-03-17          NaN  \n",
      "freq           186          NaN  \n",
      "mean           NaN     39.55476  \n",
      "std            NaN     28.20427  \n",
      "min            NaN      0.00000  \n",
      "25%            NaN     19.00000  \n",
      "50%            NaN     33.00000  \n",
      "75%            NaN     53.00000  \n",
      "max            NaN    271.00000  \n",
      "<class 'pandas.core.frame.DataFrame'>\n",
      "RangeIndex: 51525 entries, 0 to 51524\n",
      "Data columns (total 13 columns):\n",
      " #   Column        Non-Null Count  Dtype  \n",
      "---  ------        --------------  -----  \n",
      " 0   price         51525 non-null  int64  \n",
      " 1   model_year    47906 non-null  float64\n",
      " 2   model         51525 non-null  object \n",
      " 3   condition     51525 non-null  object \n",
      " 4   cylinders     46265 non-null  float64\n",
      " 5   fuel          51525 non-null  object \n",
      " 6   odometer      43633 non-null  float64\n",
      " 7   transmission  51525 non-null  object \n",
      " 8   type          51525 non-null  object \n",
      " 9   paint_color   42258 non-null  object \n",
      " 10  is_4wd        25572 non-null  float64\n",
      " 11  date_posted   51525 non-null  object \n",
      " 12  days_listed   51525 non-null  int64  \n",
      "dtypes: float64(4), int64(2), object(7)\n",
      "memory usage: 5.1+ MB\n",
      "None\n"
     ]
    }
   ],
   "source": [
    "# print the general/summary information about the DataFrame\n",
    "print(vehicle_price.describe(include=\"all\"))\n",
    "print(vehicle_price.info())"
   ]
  },
  {
   "cell_type": "code",
   "execution_count": 4,
   "metadata": {},
   "outputs": [
    {
     "name": "stdout",
     "output_type": "stream",
     "text": [
      "   price  model_year           model  condition  cylinders fuel  odometer  \\\n",
      "0   9400      2011.0          bmw x5       good        6.0  gas  145000.0   \n",
      "1  25500         NaN      ford f-150       good        6.0  gas   88705.0   \n",
      "2   5500      2013.0  hyundai sonata   like new        4.0  gas  110000.0   \n",
      "3   1500      2003.0      ford f-150       fair        8.0  gas       NaN   \n",
      "4  14900      2017.0    chrysler 200  excellent        4.0  gas   80903.0   \n",
      "5  14990      2014.0    chrysler 300  excellent        6.0  gas   57954.0   \n",
      "6  12990      2015.0    toyota camry  excellent        4.0  gas   79212.0   \n",
      "7  15990      2013.0     honda pilot  excellent        6.0  gas  109473.0   \n",
      "8  11500      2012.0     kia sorento  excellent        4.0  gas  104174.0   \n",
      "9   9200      2008.0     honda pilot  excellent        NaN  gas  147191.0   \n",
      "\n",
      "  transmission    type paint_color  is_4wd date_posted  days_listed  \n",
      "0    automatic     SUV         NaN     1.0  2018-06-23           19  \n",
      "1    automatic  pickup       white     1.0  2018-10-19           50  \n",
      "2    automatic   sedan         red     NaN  2019-02-07           79  \n",
      "3    automatic  pickup         NaN     NaN  2019-03-22            9  \n",
      "4    automatic   sedan       black     NaN  2019-04-02           28  \n",
      "5    automatic   sedan       black     1.0  2018-06-20           15  \n",
      "6    automatic   sedan       white     NaN  2018-12-27           73  \n",
      "7    automatic     SUV       black     1.0  2019-01-07           68  \n",
      "8    automatic     SUV         NaN     1.0  2018-07-16           19  \n",
      "9    automatic     SUV        blue     1.0  2019-02-15           17  \n"
     ]
    }
   ],
   "source": [
    "# print a sample of data\n",
    "print(vehicle_price.head(10))\n"
   ]
  },
  {
   "cell_type": "markdown",
   "metadata": {},
   "source": [
    "**Based on the sample of data and general information, it appears that there are both categorical and numerical data here. Some of these columns seem to vary greatly, as I notice for instance, the standard deviation for \"days_listed\" is very high at 28\n"
   ]
  },
  {
   "cell_type": "markdown",
   "metadata": {},
   "source": [
    "**At first glance, it looks like the column \"date_posted\" has a dtype of \"object\", which should be converted to datetime. \n",
    "**It also seems like the columns \"cylinders\", \"model_year\" and \"is_4wd\" are float64, when I think it might be better to convert them to int64 "
   ]
  },
  {
   "cell_type": "markdown",
   "metadata": {},
   "source": [
    "**Five columns seem to have several missing values:   model_year,  cylinders, odometer, paint_color, is_4wd.\n",
    "**The column with the largest missing values, where nearly 50% of the data is missing. (49.63% of data missing in this column)"
   ]
  },
  {
   "cell_type": "markdown",
   "metadata": {},
   "source": [
    "### Conclusions and further steps"
   ]
  },
  {
   "cell_type": "markdown",
   "metadata": {},
   "source": [
    "**I will go through each column that contains missing values and look through the values to check if there are any values that I can fill in immediately vs values in columns that I will need to do further analysis on."
   ]
  },
  {
   "cell_type": "code",
   "execution_count": 5,
   "metadata": {},
   "outputs": [
    {
     "name": "stdout",
     "output_type": "stream",
     "text": [
      "price           25572\n",
      "model_year      23764\n",
      "model           25572\n",
      "condition       25572\n",
      "cylinders       22993\n",
      "fuel            25572\n",
      "odometer        21696\n",
      "transmission    25572\n",
      "type            25572\n",
      "paint_color     20942\n",
      "is_4wd          25572\n",
      "date_posted     25572\n",
      "days_listed     25572\n",
      "dtype: int64\n",
      "price           0\n",
      "model_year      0\n",
      "model           0\n",
      "condition       0\n",
      "cylinders       0\n",
      "fuel            0\n",
      "odometer        0\n",
      "transmission    0\n",
      "type            0\n",
      "paint_color     0\n",
      "is_4wd          0\n",
      "date_posted     0\n",
      "days_listed     0\n",
      "dtype: int64\n"
     ]
    }
   ],
   "source": [
    "print(vehicle_price[vehicle_price[\"is_4wd\"]== 1].count())\n",
    "print(vehicle_price[vehicle_price[\"is_4wd\"]== 0].count())"
   ]
  },
  {
   "cell_type": "markdown",
   "metadata": {},
   "source": [
    "**Here, I have found that all 25572 rows in vehicle[\"is_4wd\"] have  a Boolean value of 1, indicating (True) for 4-wheel drive. As mentioned before, about half of the data is missing and since 100% of the available data in this column indicate \"True\", I think it is reasonable to assume that the other half of the data which is missing should have been recorded as \"0\" (False), but that it is likely that this information got lost in translation. I make this assumption due to the large amount of missing data coupled with the fact that all of the present values in this column are recorded as \"1\" (True)) "
   ]
  },
  {
   "cell_type": "markdown",
   "metadata": {},
   "source": [
    "## Treat missing values (if any)"
   ]
  },
  {
   "cell_type": "code",
   "execution_count": 6,
   "metadata": {
    "scrolled": true
   },
   "outputs": [
    {
     "name": "stdout",
     "output_type": "stream",
     "text": [
      "0\n",
      "0      25953\n",
      "1.0    25572\n",
      "Name: is_4wd, dtype: int64\n",
      "\n",
      "\n",
      "3619\n",
      "0.07023774866569626\n",
      "0\n",
      "4897\n",
      "0.10222101615664009\n",
      "12.0        2\n",
      "3.0        33\n",
      "5.0       248\n",
      "10.0      517\n",
      "4.0     12856\n",
      "6.0     14648\n",
      "8.0     14705\n",
      "Name: cylinders, dtype: int64\n",
      "0\n",
      "\n",
      "7716\n",
      "0.17940431072566207\n",
      "0\n",
      "white     8409\n",
      "black     6446\n",
      "silver    5182\n",
      "grey      4222\n",
      "red       3720\n",
      "blue      3716\n",
      "green     1148\n",
      "brown      996\n",
      "custom     974\n",
      "yellow     210\n",
      "orange     186\n",
      "purple      84\n",
      "Name: paint_color, dtype: int64\n",
      "\n",
      "5377\n",
      "0.1523531578499986\n",
      "<class 'pandas.core.frame.DataFrame'>\n",
      "Int64Index: 35293 entries, 2 to 51523\n",
      "Data columns (total 13 columns):\n",
      " #   Column        Non-Null Count  Dtype  \n",
      "---  ------        --------------  -----  \n",
      " 0   price         35293 non-null  int64  \n",
      " 1   model_year    35293 non-null  float64\n",
      " 2   model         35293 non-null  object \n",
      " 3   condition     35293 non-null  object \n",
      " 4   cylinders     35293 non-null  float64\n",
      " 5   fuel          35293 non-null  object \n",
      " 6   odometer      35293 non-null  float64\n",
      " 7   transmission  35293 non-null  object \n",
      " 8   type          35293 non-null  object \n",
      " 9   paint_color   35293 non-null  object \n",
      " 10  is_4wd        35293 non-null  object \n",
      " 11  date_posted   35293 non-null  object \n",
      " 12  days_listed   35293 non-null  int64  \n",
      "dtypes: float64(3), int64(2), object(8)\n",
      "memory usage: 3.8+ MB\n",
      "None\n"
     ]
    }
   ],
   "source": [
    "print(vehicle_price.duplicated().sum())\n",
    "vehicle_price[\"is_4wd\"] = vehicle_price[\"is_4wd\"].fillna(\"0\")\n",
    "print(vehicle_price[\"is_4wd\"].value_counts())\n",
    "print()\n",
    "print()\n",
    "print(vehicle_price[\"model_year\"].isna().sum())\n",
    "print(vehicle_price[\"model_year\"].isna().sum()/len(vehicle_price))\n",
    "vehicle_price.dropna(subset=[\"model_year\"],inplace=True)\n",
    "print(vehicle_price[\"model_year\"].isna().sum())\n",
    "\n",
    "#print()\n",
    "#print()\n",
    "print(vehicle_price[\"cylinders\"].isna().sum())\n",
    "print(vehicle_price[\"cylinders\"].isna().sum()/len(vehicle_price))\n",
    "#print(vehicle_price.pivot_table(index=[\"cylinders\"], values=[\"model_year\"], aggfunc=\"mean\", margins=True))\n",
    "print(vehicle_price[\"cylinders\"].value_counts().sort_values())\n",
    "count = vehicle_price.loc[vehicle_price[\"cylinders\"] != vehicle_price[\"cylinders\"].isna() & (vehicle_price[\"fuel\"]== \"gas\"),:] \n",
    "count.count()\n",
    "vehicle_price[\"fuel\"].value_counts()\n",
    "vehicle_price.dropna(subset=[\"cylinders\"], inplace=True)\n",
    "print(vehicle_price[\"cylinders\"].isna().sum())\n",
    "print()\n",
    "print(vehicle_price[\"paint_color\"].isna().sum())\n",
    "vehicle_price[\"paint_color\"].value_counts()\n",
    "print(vehicle_price[\"paint_color\"].isna().sum()/len(vehicle_price))\n",
    "vehicle_price.dropna(subset=[\"paint_color\"], inplace=True)\n",
    "print(vehicle_price[\"paint_color\"].isna().sum())\n",
    "print(vehicle_price[\"paint_color\"].value_counts())\n",
    "print()\n",
    "print(vehicle_price[\"odometer\"].isna().sum())\n",
    "print(vehicle_price[\"odometer\"].isna().sum()/len(vehicle_price))\n",
    "odometer_mean = vehicle_price[\"odometer\"].mean()\n",
    "vehicle_price[\"odometer\"].fillna(odometer_mean, inplace=True)\n",
    "vehicle_price[\"odometer\"].value_counts()\n",
    "print(vehicle_price.info())"
   ]
  },
  {
   "cell_type": "markdown",
   "metadata": {},
   "source": [
    "\n",
    "Note- Data contains no duplicates\n",
    "1. All misssing values in vehicle_price[\"is_4wd\"] were filled in with \"0\" to represent the \"False\" value for reasons above.\n",
    "2. All missing values in vehicle_price[\"model_year\"] were removed from the dataframe, as they only accounted for 7% of the entire data, which is not a significant amount. Missing values may have been due to print\n",
    "3. Note that 4487/4897 of the missing values in vehicle_price[\"cylinders\"] also have a value of \"gas\" in the vehicle[\"fuel\"] column \n",
    "4. The missing data in vehicle_price[\"cylinders\"] makes up about 10% of the entire data. This is also not a signficant amount, and the missing data in this column does not appear to have been influenced by any other column here. Thus, I justify removing the data rather than filling in.\n",
    "5. The missing data in vehicle_price[\"paint_color\"] makes up nearly 18% of the data. It would not make sense to fill these values in as this may risk being wrong about the data, so they will be removed as well.\n",
    "6. The missing data in vehicle_price[\"odometer\"] consists of about 15% of the entire dataframe which is a considerable amount. Since the distribution of values in this column did not seem to be impacted by extreme outliers, I chose to fill in the values with the mean of this column.\n",
    "**It is important to note that after all missing values have been removed, 68% of the original dataset has been retained."
   ]
  },
  {
   "cell_type": "markdown",
   "metadata": {},
   "source": [
    "## Fix data types"
   ]
  },
  {
   "cell_type": "code",
   "execution_count": 7,
   "metadata": {},
   "outputs": [
    {
     "name": "stdout",
     "output_type": "stream",
     "text": [
      "<class 'pandas.core.frame.DataFrame'>\n",
      "Int64Index: 35293 entries, 2 to 51523\n",
      "Data columns (total 13 columns):\n",
      " #   Column        Non-Null Count  Dtype         \n",
      "---  ------        --------------  -----         \n",
      " 0   price         35293 non-null  int64         \n",
      " 1   model_year    35293 non-null  float64       \n",
      " 2   model         35293 non-null  object        \n",
      " 3   condition     35293 non-null  object        \n",
      " 4   cylinders     35293 non-null  float64       \n",
      " 5   fuel          35293 non-null  object        \n",
      " 6   odometer      35293 non-null  float64       \n",
      " 7   transmission  35293 non-null  object        \n",
      " 8   type          35293 non-null  object        \n",
      " 9   paint_color   35293 non-null  object        \n",
      " 10  is_4wd        35293 non-null  object        \n",
      " 11  date_posted   35293 non-null  datetime64[ns]\n",
      " 12  days_listed   35293 non-null  int64         \n",
      "dtypes: datetime64[ns](1), float64(3), int64(2), object(7)\n",
      "memory usage: 3.8+ MB\n",
      "None\n"
     ]
    }
   ],
   "source": [
    "vehicle_price[\"date_posted\"] = pd.to_datetime(vehicle_price[\"date_posted\"], format=\"%Y-%m-%d\")\n",
    "print(vehicle_price.info())"
   ]
  },
  {
   "cell_type": "markdown",
   "metadata": {},
   "source": [
    "## Enrich data"
   ]
  },
  {
   "cell_type": "code",
   "execution_count": 8,
   "metadata": {},
   "outputs": [
    {
     "name": "stdout",
     "output_type": "stream",
     "text": [
      "2        3\n",
      "4        1\n",
      "5        2\n",
      "6        3\n",
      "7        0\n",
      "        ..\n",
      "51518    4\n",
      "51520    2\n",
      "51521    2\n",
      "51522    3\n",
      "51523    0\n",
      "Name: day_of_week_posted, Length: 35293, dtype: int64\n",
      "2         2\n",
      "4         4\n",
      "5         6\n",
      "6        12\n",
      "7         1\n",
      "         ..\n",
      "51518     8\n",
      "51520    10\n",
      "51521    11\n",
      "51522    11\n",
      "51523     7\n",
      "Name: month_posted, Length: 35293, dtype: int64\n",
      "2        2019\n",
      "4        2019\n",
      "5        2018\n",
      "6        2018\n",
      "7        2019\n",
      "         ... \n",
      "51518    2018\n",
      "51520    2018\n",
      "51521    2018\n",
      "51522    2018\n",
      "51523    2018\n",
      "Name: year_posted, Length: 35293, dtype: int64\n"
     ]
    }
   ],
   "source": [
    "# Add datetime values for when the ad was placed\n",
    "vehicle_price[\"day_of_week_posted\"] = vehicle_price[\"date_posted\"].dt.dayofweek\n",
    "print(vehicle_price[\"day_of_week_posted\"])\n",
    "vehicle_price['year_posted'] = pd.to_datetime(vehicle_price['date_posted']).dt.year\n",
    "vehicle_price['month_posted'] = pd.to_datetime(vehicle_price['date_posted']).dt.month\n",
    "print(vehicle_price[\"month_posted\"])\n",
    "print(vehicle_price[\"year_posted\"])"
   ]
  },
  {
   "cell_type": "code",
   "execution_count": 9,
   "metadata": {},
   "outputs": [],
   "source": [
    "# Add the vehicle's age when the ad was placed\n",
    "\n",
    "\n",
    "\n",
    "\n",
    "vehicle_price[\"vehicle_age_in_years\"] = vehicle_price[\"year_posted\"] - vehicle_price[\"model_year\"] \n",
    "\n",
    "\n",
    "\n",
    "#vehicle_price.loc[(vehicle_price[\"vehicle_age_in_years\"]== 0) & (vehicle_price[\"odometer\"] > float(\"0\")), \"vehicle_age_in_years\"] = 1\n",
    "\n",
    "vehicle_price[\"age_in_years\"] = np.where((vehicle_price[\"vehicle_age_in_years\"] == 0) & (vehicle_price[\"odometer\"] > float(\"0\")), 1, vehicle_price[\"vehicle_age_in_years\"])\n",
    "\n"
   ]
  },
  {
   "cell_type": "code",
   "execution_count": 10,
   "metadata": {},
   "outputs": [
    {
     "name": "stdout",
     "output_type": "stream",
     "text": [
      "   price  model_year           model  condition  cylinders fuel  odometer  \\\n",
      "2   5500      2013.0  hyundai sonata   like new        4.0  gas  110000.0   \n",
      "4  14900      2017.0    chrysler 200  excellent        4.0  gas   80903.0   \n",
      "5  14990      2014.0    chrysler 300  excellent        6.0  gas   57954.0   \n",
      "6  12990      2015.0    toyota camry  excellent        4.0  gas   79212.0   \n",
      "7  15990      2013.0     honda pilot  excellent        6.0  gas  109473.0   \n",
      "\n",
      "  transmission   type paint_color is_4wd date_posted  days_listed  \\\n",
      "2    automatic  sedan         red      0  2019-02-07           79   \n",
      "4    automatic  sedan       black      0  2019-04-02           28   \n",
      "5    automatic  sedan       black    1.0  2018-06-20           15   \n",
      "6    automatic  sedan       white      0  2018-12-27           73   \n",
      "7    automatic    SUV       black    1.0  2019-01-07           68   \n",
      "\n",
      "   day_of_week_posted  year_posted  month_posted  vehicle_age_in_years  \\\n",
      "2                   3         2019             2                   6.0   \n",
      "4                   1         2019             4                   2.0   \n",
      "5                   2         2018             6                   4.0   \n",
      "6                   3         2018            12                   3.0   \n",
      "7                   0         2019             1                   6.0   \n",
      "\n",
      "   age_in_years   avg_mileage  \n",
      "2           6.0  18333.333333  \n",
      "4           2.0  40451.500000  \n",
      "5           4.0  14488.500000  \n",
      "6           3.0  26404.000000  \n",
      "7           6.0  18245.500000  \n"
     ]
    }
   ],
   "source": [
    "# Add the vehicle's average mileage per year\n",
    "\n",
    "#avg_mileage_calc = vehicle_price.pivot_table(\n",
    "    #index=['vehicle_age_in_years'], values=['odometer'], aggfunc=['mean'])\n",
    "#avg_mileage_calc.columns =[\"mean_mileage\"]\n",
    "#print(avg_mileage_calc)\n",
    "#vehicle_price[\"avg_mileage\"] = avg_mileage_calc[\"mean_mileage\"]\n",
    "vehicle_price.head(20)\n",
    "vehicle_price[\"avg_mileage\"] = vehicle_price[\"odometer\"] / vehicle_price[\"vehicle_age_in_years\"]\n",
    "print(vehicle_price.head())"
   ]
  },
  {
   "cell_type": "code",
   "execution_count": 11,
   "metadata": {},
   "outputs": [
    {
     "name": "stdout",
     "output_type": "stream",
     "text": [
      "2         like new\n",
      "4        excellent\n",
      "5        excellent\n",
      "6        excellent\n",
      "7        excellent\n",
      "           ...    \n",
      "51518    excellent\n",
      "51520     like new\n",
      "51521      salvage\n",
      "51522    excellent\n",
      "51523         good\n",
      "Name: condition, Length: 35293, dtype: object\n",
      "2        4\n",
      "4        3\n",
      "5        3\n",
      "6        3\n",
      "7        3\n",
      "        ..\n",
      "51518    3\n",
      "51520    4\n",
      "51521    0\n",
      "51522    3\n",
      "51523    2\n",
      "Name: new_condition, Length: 35293, dtype: int64\n",
      "excellent    16957\n",
      "good         13808\n",
      "like new      3251\n",
      "fair          1095\n",
      "new            104\n",
      "salvage         78\n",
      "Name: condition, dtype: int64\n"
     ]
    }
   ],
   "source": [
    "# It might help to replace the condition values with something that can be manipulated more easily\n",
    "def replace(row):\n",
    "    value= row[\"condition\"]\n",
    "    if value == \"new\": \n",
    "        return 5\n",
    "    elif value == \"like new\":\n",
    "        return 4\n",
    "    elif value == \"excellent\": \n",
    "        return 3\n",
    "    elif value == \"good\": \n",
    "        return 2\n",
    "    elif value == \"fair\":\n",
    "        return 1\n",
    "    elif value == \"salvage\": \n",
    "        return 0\n",
    "vehicle_price[\"new_condition\"] = vehicle_price.apply(replace, axis=1)\n",
    "\n",
    "\n",
    "\n",
    "vehicle_price[[\"condition\", \"new_condition\"]]\n",
    "\n",
    "print(vehicle_price[\"condition\"])\n",
    "print(vehicle_price[\"new_condition\"])\n",
    "print(vehicle_price[\"condition\"].value_counts())"
   ]
  },
  {
   "cell_type": "markdown",
   "metadata": {},
   "source": [
    "## Check clean data"
   ]
  },
  {
   "cell_type": "markdown",
   "metadata": {},
   "source": [
    "[Given the data is ready for the analysis, take just another quick look at it. It is helpful to see what exactly you are going to use for the analysis.]"
   ]
  },
  {
   "cell_type": "code",
   "execution_count": 12,
   "metadata": {},
   "outputs": [
    {
     "name": "stdout",
     "output_type": "stream",
     "text": [
      "<class 'pandas.core.frame.DataFrame'>\n",
      "Int64Index: 35293 entries, 2 to 51523\n",
      "Data columns (total 20 columns):\n",
      " #   Column                Non-Null Count  Dtype         \n",
      "---  ------                --------------  -----         \n",
      " 0   price                 35293 non-null  int64         \n",
      " 1   model_year            35293 non-null  float64       \n",
      " 2   model                 35293 non-null  object        \n",
      " 3   condition             35293 non-null  object        \n",
      " 4   cylinders             35293 non-null  float64       \n",
      " 5   fuel                  35293 non-null  object        \n",
      " 6   odometer              35293 non-null  float64       \n",
      " 7   transmission          35293 non-null  object        \n",
      " 8   type                  35293 non-null  object        \n",
      " 9   paint_color           35293 non-null  object        \n",
      " 10  is_4wd                35293 non-null  object        \n",
      " 11  date_posted           35293 non-null  datetime64[ns]\n",
      " 12  days_listed           35293 non-null  int64         \n",
      " 13  day_of_week_posted    35293 non-null  int64         \n",
      " 14  year_posted           35293 non-null  int64         \n",
      " 15  month_posted          35293 non-null  int64         \n",
      " 16  vehicle_age_in_years  35293 non-null  float64       \n",
      " 17  age_in_years          35293 non-null  float64       \n",
      " 18  avg_mileage           35292 non-null  float64       \n",
      " 19  new_condition         35293 non-null  int64         \n",
      "dtypes: datetime64[ns](1), float64(6), int64(6), object(7)\n",
      "memory usage: 5.7+ MB\n"
     ]
    }
   ],
   "source": [
    "# print the general/summary information about the DataFrame\n",
    "vehicle_price.info()"
   ]
  },
  {
   "cell_type": "code",
   "execution_count": 13,
   "metadata": {
    "scrolled": true
   },
   "outputs": [
    {
     "name": "stdout",
     "output_type": "stream",
     "text": [
      "    price  model_year                     model  condition  cylinders fuel  \\\n",
      "2    5500      2013.0            hyundai sonata   like new        4.0  gas   \n",
      "4   14900      2017.0              chrysler 200  excellent        4.0  gas   \n",
      "5   14990      2014.0              chrysler 300  excellent        6.0  gas   \n",
      "6   12990      2015.0              toyota camry  excellent        4.0  gas   \n",
      "7   15990      2013.0               honda pilot  excellent        6.0  gas   \n",
      "10  19500      2011.0  chevrolet silverado 1500  excellent        8.0  gas   \n",
      "11   8990      2012.0              honda accord  excellent        4.0  gas   \n",
      "13  16500      2018.0            hyundai sonata  excellent        4.0  gas   \n",
      "14  12990      2009.0                 gmc yukon  excellent        8.0  gas   \n",
      "15  17990      2013.0                  ram 1500  excellent        8.0  gas   \n",
      "\n",
      "         odometer transmission    type paint_color is_4wd date_posted  \\\n",
      "2   110000.000000    automatic   sedan         red      0  2019-02-07   \n",
      "4    80903.000000    automatic   sedan       black      0  2019-04-02   \n",
      "5    57954.000000    automatic   sedan       black    1.0  2018-06-20   \n",
      "6    79212.000000    automatic   sedan       white      0  2018-12-27   \n",
      "7   109473.000000    automatic     SUV       black    1.0  2019-01-07   \n",
      "10  128413.000000    automatic  pickup       black    1.0  2018-09-17   \n",
      "11  111142.000000    automatic   sedan        grey      0  2019-03-28   \n",
      "13   22104.000000    automatic   sedan      silver      0  2019-01-14   \n",
      "14  132285.000000    automatic     SUV       black    1.0  2019-01-31   \n",
      "15  115458.763003    automatic  pickup         red    1.0  2018-05-15   \n",
      "\n",
      "    days_listed  day_of_week_posted  year_posted  month_posted  \\\n",
      "2            79                   3         2019             2   \n",
      "4            28                   1         2019             4   \n",
      "5            15                   2         2018             6   \n",
      "6            73                   3         2018            12   \n",
      "7            68                   0         2019             1   \n",
      "10           38                   0         2018             9   \n",
      "11           29                   3         2019             3   \n",
      "13           29                   0         2019             1   \n",
      "14           24                   3         2019             1   \n",
      "15          111                   1         2018             5   \n",
      "\n",
      "    vehicle_age_in_years  age_in_years   avg_mileage  new_condition  \n",
      "2                    6.0           6.0  18333.333333              4  \n",
      "4                    2.0           2.0  40451.500000              3  \n",
      "5                    4.0           4.0  14488.500000              3  \n",
      "6                    3.0           3.0  26404.000000              3  \n",
      "7                    6.0           6.0  18245.500000              3  \n",
      "10                   7.0           7.0  18344.714286              3  \n",
      "11                   7.0           7.0  15877.428571              3  \n",
      "13                   1.0           1.0  22104.000000              3  \n",
      "14                  10.0          10.0  13228.500000              3  \n",
      "15                   5.0           5.0  23091.752601              3  \n"
     ]
    }
   ],
   "source": [
    "# print a sample of data\n",
    "print(vehicle_price.head(10))"
   ]
  },
  {
   "cell_type": "markdown",
   "metadata": {},
   "source": [
    "## Study core parameters\n",
    "\n",
    "The parameters are\n",
    "- Price\n",
    "- The vehicle's age when the ad was placed\n",
    "- Mileage\n",
    "- Number of cylinders\n",
    "- Condition"
   ]
  },
  {
   "cell_type": "code",
   "execution_count": 14,
   "metadata": {},
   "outputs": [
    {
     "data": {
      "text/plain": [
       "<AxesSubplot:>"
      ]
     },
     "execution_count": 14,
     "metadata": {},
     "output_type": "execute_result"
    },
    {
     "data": {
      "image/png": "[encoded data removed]",
      "text/plain": [
       "<Figure size 720x720 with 1 Axes>"
      ]
     },
     "metadata": {
      "needs_background": "light"
     },
     "output_type": "display_data"
    }
   ],
   "source": [
    "vehicle_price.boxplot(figsize=(10, 10), color=\"purple\")"
   ]
  },
  {
   "cell_type": "code",
   "execution_count": 15,
   "metadata": {},
   "outputs": [
    {
     "name": "stdout",
     "output_type": "stream",
     "text": [
      "12170.271895276685\n",
      "9000.0\n",
      "Upper & Lower Bound: [-12850.0, 34750.0]\n"
     ]
    },
    {
     "data": {
      "image/png": "[encoded data removed]",
      "text/plain": [
       "<Figure size 432x288 with 1 Axes>"
      ]
     },
     "metadata": {
      "needs_background": "light"
     },
     "output_type": "display_data"
    },
    {
     "data": {
      "image/png": "[encoded data removed]",
      "text/plain": [
       "<Figure size 432x288 with 1 Axes>"
      ]
     },
     "metadata": {
      "needs_background": "light"
     },
     "output_type": "display_data"
    },
    {
     "data": {
      "image/png": "[encoded data removed]",
      "text/plain": [
       "<Figure size 432x288 with 1 Axes>"
      ]
     },
     "metadata": {
      "needs_background": "light"
     },
     "output_type": "display_data"
    },
    {
     "data": {
      "image/png": "[encoded data removed]",
      "text/plain": [
       "<Figure size 648x648 with 1 Axes>"
      ]
     },
     "metadata": {
      "needs_background": "light"
     },
     "output_type": "display_data"
    }
   ],
   "source": [
    "#Pr\n",
    "vehicle_price.hist(\"price\", bins=25, range=(0,5000), color=\"brown\")\n",
    "plt.xlabel(\"Price in Dollars\")\n",
    "plt.ylabel(\"Frequency/Number of Ads\")\n",
    "vehicle_price.hist(\"price\", bins=25, range=(0,20000), color=\"brown\")\n",
    "plt.xlabel(\"Price in Dollars\")\n",
    "plt.ylabel(\"Frequency/Number of Ads\")\n",
    "vehicle_price.hist(\"price\", bins=25, range=(0,50000), color=\"brown\")\n",
    "plt.xlabel(\"Price in Dollars\")\n",
    "plt.ylabel(\"Frequency/Number of Ads\")\n",
    "vehicle_price.hist(\"price\", bins=27, range=(0, 70000), figsize=(9, 9), color=\"gray\")\n",
    "plt.xlabel(\"Price in Dollars\")\n",
    "plt.ylabel(\"Frequency/Number of Ads\")\n",
    "print(vehicle_price[\"price\"].mean())\n",
    "print(vehicle_price[\"price\"].median())\n",
    "Q1c = vehicle_price['price'].quantile(0.25)\n",
    "Q3c = vehicle_price['price'].quantile(0.75)\n",
    "iqr4 = Q3c-Q1c\n",
    "print(\"Upper & Lower Bound:\",[Q1c-(1.5 * iqr4), Q3c+(1.5 * iqr4)])"
   ]
  },
  {
   "cell_type": "markdown",
   "metadata": {},
   "source": [
    "Above, the data in the vehicle[\"price\"] column appears to be skewed to the left. Most vehicles seem to be priced on the lower end here. Just by a simple google search, cars sell for about $47000. Also, there seems about 2800 cars appear to be listed at a price of $0, which seems strange."
   ]
  },
  {
   "cell_type": "code",
   "execution_count": 16,
   "metadata": {},
   "outputs": [
    {
     "name": "stdout",
     "output_type": "stream",
     "text": [
      "8.564559544385572\n",
      "7.0\n",
      "Upper & Lower Bound: [-8.0, 24.0]\n"
     ]
    },
    {
     "data": {
      "image/png": "[encoded data removed]",
      "text/plain": [
       "<Figure size 720x720 with 1 Axes>"
      ]
     },
     "metadata": {
      "needs_background": "light"
     },
     "output_type": "display_data"
    }
   ],
   "source": [
    "#Vehicle Age\n",
    "vehicle_price.hist(\"vehicle_age_in_years\", bins=19, range=(0, 60), figsize=(10, 10), color=\"blue\")\n",
    "plt.title(\"Frequency of Vehicle Age in Years\")\n",
    "plt.xlabel(\"Vehicle Age in Years\")\n",
    "plt.ylabel(\"Frequency\")\n",
    "print(vehicle_price[\"vehicle_age_in_years\"].mean())\n",
    "print(vehicle_price[\"vehicle_age_in_years\"].median())\n",
    "Q1b = vehicle_price['vehicle_age_in_years'].quantile(0.25)\n",
    "Q3b = vehicle_price['vehicle_age_in_years'].quantile(0.75)\n",
    "iqr3 = Q3b-Q1b\n",
    "print(\"Upper & Lower Bound:\",[Q1b-(1.5 * iqr3), Q3b+(1.5 * iqr3)])"
   ]
  },
  {
   "cell_type": "markdown",
   "metadata": {},
   "source": [
    "Most of the vehicles are between 0-24 years old. Cars above 30 years old are rare."
   ]
  },
  {
   "cell_type": "code",
   "execution_count": 17,
   "metadata": {
    "scrolled": false
   },
   "outputs": [
    {
     "name": "stdout",
     "output_type": "stream",
     "text": [
      "58.0       1\n",
      "71.0       1\n",
      "89.0       1\n",
      "59.0       1\n",
      "60.0       1\n",
      "        ... \n",
      "3.0     2318\n",
      "6.0     2521\n",
      "4.0     2542\n",
      "5.0     2559\n",
      "7.0     2595\n",
      "Name: vehicle_age_in_years, Length: 65, dtype: int64\n",
      "inf\n",
      "15417.42857\n",
      "Upper & Lower Bound: [-8353.843193749999, 41959.11007625]\n"
     ]
    },
    {
     "data": {
      "image/png": "[encoded data removed]",
      "text/plain": [
       "<Figure size 648x648 with 1 Axes>"
      ]
     },
     "metadata": {
      "needs_background": "light"
     },
     "output_type": "display_data"
    }
   ],
   "source": [
    "#Mileage\n",
    "\n",
    "\n",
    "vehicle_price[\"odometer\"].value_counts()\n",
    "print(vehicle_price[\"vehicle_age_in_years\"].value_counts().sort_values())\n",
    "vehicle_price[\"avg_mileage\"] = vehicle_price[\"avg_mileage\"].round(5)\n",
    "\n",
    "\n",
    "#vehicle_price[(vehicle_price[\"avg_mileage\"] == float(\"0\")) & (vehicle_price[\"odometer\"] > float(\"0\"))]\n",
    "\n",
    "\n",
    "vehicle_price.hist(\"avg_mileage\", bins=25, range=(0, 150000), figsize=(9,9), color=\"black\")\n",
    "plt.xlabel(\"Average Miles Per Year\")\n",
    "plt.ylabel(\"Frequency\")\n",
    "print(vehicle_price[\"avg_mileage\"].mean())\n",
    "print(vehicle_price[\"avg_mileage\"].median())\n",
    "Q1a = vehicle_price['avg_mileage'].quantile(0.25)\n",
    "Q3a = vehicle_price['avg_mileage'].quantile(0.75)\n",
    "iqr2 = Q3a-Q1a\n",
    "print(\"Upper & Lower Bound:\",[Q1a-(1.5 * iqr2), Q3a+(1.5 * iqr2)])\n"
   ]
  },
  {
   "cell_type": "code",
   "execution_count": 40,
   "metadata": {},
   "outputs": [
    {
     "data": {
      "text/plain": [
       "count    35293.000000\n",
       "mean         6.126087\n",
       "std          1.658585\n",
       "min          3.000000\n",
       "25%          4.000000\n",
       "50%          6.000000\n",
       "75%          8.000000\n",
       "max         12.000000\n",
       "Name: cylinders, dtype: float64"
      ]
     },
     "execution_count": 40,
     "metadata": {},
     "output_type": "execute_result"
    },
    {
     "data": {
      "image/png": "[encoded data removed]",
      "text/plain": [
       "<Figure size 432x288 with 1 Axes>"
      ]
     },
     "metadata": {
      "needs_background": "light"
     },
     "output_type": "display_data"
    }
   ],
   "source": [
    "#Number of cylinders\n",
    "vehicle_price[\"cylinders\"].value_counts().plot(kind=\"bar\", color=\"tan\")\n",
    "plt.xlabel(\"Number of Cylinders\")\n",
    "plt.ylabel(\"Total\")\n",
    "plt.title(\"Total Number of Cylinders\")\n",
    "vehicle_price[\"cylinders\"].describe()"
   ]
  },
  {
   "cell_type": "code",
   "execution_count": 39,
   "metadata": {},
   "outputs": [
    {
     "name": "stdout",
     "output_type": "stream",
     "text": [
      "Upper & Lower Bound Interval: [-2.0, 14.0]\n"
     ]
    },
    {
     "data": {
      "text/plain": [
       "count    35293.000000\n",
       "mean         6.126087\n",
       "std          1.658585\n",
       "min          3.000000\n",
       "25%          4.000000\n",
       "50%          6.000000\n",
       "75%          8.000000\n",
       "max         12.000000\n",
       "Name: cylinders, dtype: float64"
      ]
     },
     "execution_count": 39,
     "metadata": {},
     "output_type": "execute_result"
    },
    {
     "data": {
      "image/png": "[encoded data removed]",
      "text/plain": [
       "<Figure size 432x288 with 1 Axes>"
      ]
     },
     "metadata": {
      "needs_background": "light"
     },
     "output_type": "display_data"
    }
   ],
   "source": [
    "vehicle_price.boxplot(\"cylinders\", color=\"black\")\n",
    "plt.ylabel(\"Number of Cylinders\")\n",
    "plt.title(\"Number of cylinders Distribution\")\n",
    "Q1 = vehicle_price['cylinders'].quantile(0.25)\n",
    "Q3 = vehicle_price['cylinders'].quantile(0.75)\n",
    "iqr = Q3-Q1\n",
    "print(\"Upper & Lower Bound Interval:\",[Q1-(1.5 * iqr), Q3+(1.5 * iqr)])\n",
    "vehicle_price['cylinders'].describe()"
   ]
  },
  {
   "cell_type": "markdown",
   "metadata": {},
   "source": [
    "* Most of the data in the [\"cylinders\"] column consists of 4, 6, and 8 cylinders."
   ]
  },
  {
   "cell_type": "code",
   "execution_count": 20,
   "metadata": {
    "scrolled": true
   },
   "outputs": [
    {
     "data": {
      "text/plain": [
       "Text(0, 0.5, 'Total Number of Ads')"
      ]
     },
     "execution_count": 20,
     "metadata": {},
     "output_type": "execute_result"
    },
    {
     "data": {
      "image/png": "[encoded data removed]",
      "text/plain": [
       "<Figure size 432x288 with 1 Axes>"
      ]
     },
     "metadata": {
      "needs_background": "light"
     },
     "output_type": "display_data"
    }
   ],
   "source": [
    "#Condition\n",
    "vehicle_price[\"condition\"].value_counts()\n",
    "vehicle_price[\"condition\"].value_counts().plot(kind=\"bar\", color=\"aqua\")\n",
    "plt.title(\"Vehicle Condition Types\")\n",
    "plt.xlabel(\"Condition Type\")\n",
    "plt.ylabel(\"Total Number of Ads\")\n"
   ]
  },
  {
   "cell_type": "code",
   "execution_count": 21,
   "metadata": {},
   "outputs": [
    {
     "data": {
      "text/plain": [
       "<AxesSubplot:ylabel='condition'>"
      ]
     },
     "execution_count": 21,
     "metadata": {},
     "output_type": "execute_result"
    },
    {
     "data": {
      "image/png": "[encoded data removed]",
      "text/plain": [
       "<Figure size 432x288 with 1 Axes>"
      ]
     },
     "metadata": {},
     "output_type": "display_data"
    }
   ],
   "source": [
    "vehicle_price[\"condition\"].value_counts().plot(kind=\"pie\")"
   ]
  },
  {
   "cell_type": "code",
   "execution_count": 41,
   "metadata": {},
   "outputs": [
    {
     "name": "stdout",
     "output_type": "stream",
     "text": [
      "Upper & Lower Bound: [0.5, 4.5]\n",
      "count    35293.000000\n",
      "mean         2.638087\n",
      "std          0.712859\n",
      "min          0.000000\n",
      "25%          2.000000\n",
      "50%          3.000000\n",
      "75%          3.000000\n",
      "max          5.000000\n",
      "Name: new_condition, dtype: float64\n"
     ]
    },
    {
     "data": {
      "text/plain": [
       "3.0"
      ]
     },
     "execution_count": 41,
     "metadata": {},
     "output_type": "execute_result"
    },
    {
     "data": {
      "image/png": "[encoded data removed]",
      "text/plain": [
       "<Figure size 432x288 with 1 Axes>"
      ]
     },
     "metadata": {
      "needs_background": "light"
     },
     "output_type": "display_data"
    }
   ],
   "source": [
    "vehicle_price.boxplot(\"new_condition\")\n",
    "plt.ylim(-1, 6)\n",
    "Q1d = vehicle_price['new_condition'].quantile(0.25)\n",
    "Q3d = vehicle_price['new_condition'].quantile(0.75)\n",
    "iqr5 = Q3d-Q1d\n",
    "print(\"Upper & Lower Bound:\",[Q1d-(1.5 * iqr5), Q3d+(1.5 * iqr5)])\n",
    "print(vehicle_price[\"new_condition\"].describe())\n",
    "vehicle_price[\"new_condition\"].median()\n"
   ]
  },
  {
   "cell_type": "markdown",
   "metadata": {},
   "source": [
    "* Data in [\"condition\"] column is skewed to the right. Most cars in this dataset are either excellent, good or like new. Cars with worse conditions are seldom here."
   ]
  },
  {
   "cell_type": "markdown",
   "metadata": {},
   "source": [
    "## Study and treat outliers\n"
   ]
  },
  {
   "cell_type": "markdown",
   "metadata": {},
   "source": [
    "* The following columns contain considerable outliers:\n",
    "(1)[\"price\"]\n",
    "(2)[\"avg_mileage\"]\n",
    "(3) [\"vehicle_age_in_years\"]\n",
    "(4) [\"condiiton\"]\n"
   ]
  },
  {
   "cell_type": "code",
   "execution_count": 23,
   "metadata": {},
   "outputs": [],
   "source": [
    "# Determine the lower limits for outliers\n",
    "#Condition:\n",
    "price_lower = 0\n",
    "avg_mileage_lower= 0\n",
    "vehicle_age_lower= 0\n",
    "condition_lower= 1\n"
   ]
  },
  {
   "cell_type": "code",
   "execution_count": 24,
   "metadata": {},
   "outputs": [],
   "source": [
    "# Determine the upper limits for outliers\n",
    "price_upper = 55000\n",
    "avg_mileage_upper= 70000\n",
    "vehicle_age_upper = 35\n",
    "condition_upper = 4"
   ]
  },
  {
   "cell_type": "code",
   "execution_count": 25,
   "metadata": {},
   "outputs": [
    {
     "name": "stdout",
     "output_type": "stream",
     "text": [
      "       price  model_year           model  condition  cylinders fuel  odometer  \\\n",
      "2       5500      2013.0  hyundai sonata   like new        4.0  gas  110000.0   \n",
      "4      14900      2017.0    chrysler 200  excellent        4.0  gas   80903.0   \n",
      "5      14990      2014.0    chrysler 300  excellent        6.0  gas   57954.0   \n",
      "6      12990      2015.0    toyota camry  excellent        4.0  gas   79212.0   \n",
      "7      15990      2013.0     honda pilot  excellent        6.0  gas  109473.0   \n",
      "...      ...         ...             ...        ...        ...  ...       ...   \n",
      "51517  11000      2012.0   dodge charger  excellent        8.0  gas   81000.0   \n",
      "51518   3750      2005.0     ford taurus  excellent        6.0  gas  110200.0   \n",
      "51520   9249      2013.0   nissan maxima   like new        6.0  gas   88136.0   \n",
      "51522   3950      2009.0  hyundai sonata  excellent        4.0  gas  128000.0   \n",
      "51523   7455      2013.0  toyota corolla       good        4.0  gas  139573.0   \n",
      "\n",
      "      transmission   type paint_color is_4wd date_posted  days_listed  \\\n",
      "2        automatic  sedan         red      0  2019-02-07           79   \n",
      "4        automatic  sedan       black      0  2019-04-02           28   \n",
      "5        automatic  sedan       black    1.0  2018-06-20           15   \n",
      "6        automatic  sedan       white      0  2018-12-27           73   \n",
      "7        automatic    SUV       black    1.0  2019-01-07           68   \n",
      "...            ...    ...         ...    ...         ...          ...   \n",
      "51517    automatic  sedan       black      0  2019-04-19           44   \n",
      "51518    automatic  sedan      silver      0  2018-08-10           63   \n",
      "51520    automatic  sedan       black      0  2018-10-03           37   \n",
      "51522    automatic  sedan        blue      0  2018-11-15           32   \n",
      "51523    automatic  sedan       black      0  2018-07-02           71   \n",
      "\n",
      "       day_of_week_posted  year_posted  month_posted  vehicle_age_in_years  \\\n",
      "2                       3         2019             2                   6.0   \n",
      "4                       1         2019             4                   2.0   \n",
      "5                       2         2018             6                   4.0   \n",
      "6                       3         2018            12                   3.0   \n",
      "7                       0         2019             1                   6.0   \n",
      "...                   ...          ...           ...                   ...   \n",
      "51517                   4         2019             4                   7.0   \n",
      "51518                   4         2018             8                  13.0   \n",
      "51520                   2         2018            10                   5.0   \n",
      "51522                   3         2018            11                   9.0   \n",
      "51523                   0         2018             7                   5.0   \n",
      "\n",
      "       age_in_years  avg_mileage  new_condition  \n",
      "2               6.0  18333.33333              4  \n",
      "4               2.0  40451.50000              3  \n",
      "5               4.0  14488.50000              3  \n",
      "6               3.0  26404.00000              3  \n",
      "7               6.0  18245.50000              3  \n",
      "...             ...          ...            ...  \n",
      "51517           7.0  11571.42857              3  \n",
      "51518          13.0   8476.92308              3  \n",
      "51520           5.0  17627.20000              4  \n",
      "51522           9.0  14222.22222              3  \n",
      "51523           5.0  27914.60000              2  \n",
      "\n",
      "[31627 rows x 20 columns]\n"
     ]
    }
   ],
   "source": [
    "# Store data without outliers in a separate DataFrame\n",
    "data_filtered = vehicle_price.query('price < 40000 & avg_mileage < 45000 & vehicle_age_in_years < 35 & new_condition <= 4 & new_condition > 0')\n",
    "print(data_filtered)\n"
   ]
  },
  {
   "cell_type": "markdown",
   "metadata": {},
   "source": [
    "## Study core parameters without outliers"
   ]
  },
  {
   "cell_type": "code",
   "execution_count": 26,
   "metadata": {},
   "outputs": [
    {
     "data": {
      "text/plain": [
       "count    31627.000000\n",
       "mean     10862.926961\n",
       "std       7876.460224\n",
       "min          1.000000\n",
       "25%       4995.000000\n",
       "50%       8500.000000\n",
       "75%      14995.000000\n",
       "max      39999.000000\n",
       "Name: price, dtype: float64"
      ]
     },
     "execution_count": 26,
     "metadata": {},
     "output_type": "execute_result"
    },
    {
     "data": {
      "image/png": "[encoded data removed]",
      "text/plain": [
       "<Figure size 432x288 with 1 Axes>"
      ]
     },
     "metadata": {
      "needs_background": "light"
     },
     "output_type": "display_data"
    }
   ],
   "source": [
    "data_filtered[\"price\"].plot(kind=\"hist\", bins=20, range=(0,50000), color=\"salmon\")\n",
    "plt.title(\"Frequency of Vehicle Price\")\n",
    "plt.xlabel(\"Vehicle Price in Dollars\")\n",
    "data_filtered[\"price\"].describe()"
   ]
  },
  {
   "cell_type": "markdown",
   "metadata": {},
   "source": [
    "After removing the outliers, the data is not as skewed to the left as it was before."
   ]
  },
  {
   "cell_type": "code",
   "execution_count": 27,
   "metadata": {
    "scrolled": true
   },
   "outputs": [
    {
     "data": {
      "text/plain": [
       "Text(0.5, 0, 'Vehicle Age in Years')"
      ]
     },
     "execution_count": 27,
     "metadata": {},
     "output_type": "execute_result"
    },
    {
     "data": {
      "image/png": "[encoded data removed]",
      "text/plain": [
       "<Figure size 432x288 with 1 Axes>"
      ]
     },
     "metadata": {
      "needs_background": "light"
     },
     "output_type": "display_data"
    }
   ],
   "source": [
    "data_filtered[\"vehicle_age_in_years\"].plot(kind=\"hist\", bins=20, range=(0,40), color=\"green\")\n",
    "plt.title(\"Frequency of Vehicle Age\")\n",
    "plt.xlabel(\"Vehicle Age in Years\")"
   ]
  },
  {
   "cell_type": "markdown",
   "metadata": {},
   "source": [
    "The distribution of vehicle age in the filtered dataset looks less skewed than the unfiltered dataset."
   ]
  },
  {
   "cell_type": "code",
   "execution_count": 28,
   "metadata": {},
   "outputs": [
    {
     "data": {
      "text/plain": [
       "count    31627.000000\n",
       "mean     16094.754053\n",
       "std       8496.787695\n",
       "min          0.000000\n",
       "25%      10272.727270\n",
       "50%      14471.600000\n",
       "75%      20203.666670\n",
       "max      44999.000000\n",
       "Name: avg_mileage, dtype: float64"
      ]
     },
     "execution_count": 28,
     "metadata": {},
     "output_type": "execute_result"
    },
    {
     "data": {
      "image/png": "[encoded data removed]",
      "text/plain": [
       "<Figure size 432x288 with 1 Axes>"
      ]
     },
     "metadata": {
      "needs_background": "light"
     },
     "output_type": "display_data"
    }
   ],
   "source": [
    "data_filtered[\"avg_mileage\"].plot(kind=\"hist\", bins=20, range=(0,70000), color=\"yellow\")\n",
    "plt.title(\"Frequency of Average Mileage\")\n",
    "plt.xlabel(\"Average Mileage\")\n",
    "data_filtered[\"avg_mileage\"].describe()"
   ]
  },
  {
   "cell_type": "markdown",
   "metadata": {},
   "source": [
    "The average mileage data here looks more normally distributed as compared to the unfiltered dataset. The extented tail on the right is much shorter."
   ]
  },
  {
   "cell_type": "code",
   "execution_count": 29,
   "metadata": {
    "scrolled": false
   },
   "outputs": [
    {
     "data": {
      "text/plain": [
       "Text(0, 0.5, 'Number of Vehicle Ads')"
      ]
     },
     "execution_count": 29,
     "metadata": {},
     "output_type": "execute_result"
    },
    {
     "data": {
      "image/png": "[encoded data removed]",
      "text/plain": [
       "<Figure size 432x288 with 1 Axes>"
      ]
     },
     "metadata": {
      "needs_background": "light"
     },
     "output_type": "display_data"
    }
   ],
   "source": [
    "data_filtered[\"condition\"].value_counts().plot(kind=\"bar\", color=\"orange\")\n",
    "plt.title(\"Condition Types vs. Number of Vehicle Ads\")\n",
    "plt.xlabel(\"Condition Type\")\n",
    "plt.ylabel(\"Number of Vehicle Ads\")"
   ]
  },
  {
   "cell_type": "markdown",
   "metadata": {},
   "source": [
    "* The bar chart displaying the conditions in this filtered dataset is more useful than the chart in the unfiltered dataset because it focuses on the conditions that are most prevelant in the dataset. The conditions \"new\" and \"salvage\" have been removed, as they appeared to be outliers. In this dataset, most vehicles fell into the above four categories."
   ]
  },
  {
   "cell_type": "markdown",
   "metadata": {},
   "source": [
    "## Ads lifetime\n"
   ]
  },
  {
   "cell_type": "code",
   "execution_count": 30,
   "metadata": {},
   "outputs": [
    {
     "name": "stdout",
     "output_type": "stream",
     "text": [
      "39.695039048913905\n",
      "count    31627.000000\n",
      "mean        39.695039\n",
      "std         28.319722\n",
      "min          0.000000\n",
      "25%         19.000000\n",
      "50%         33.000000\n",
      "75%         53.000000\n",
      "max        267.000000\n",
      "Name: days_listed, dtype: float64\n",
      "Upper & Lower Bound: [-32.0, 104.0]\n"
     ]
    },
    {
     "data": {
      "text/html": [
       "<div>\n",
       "<style scoped>\n",
       "    .dataframe tbody tr th:only-of-type {\n",
       "        vertical-align: middle;\n",
       "    }\n",
       "\n",
       "    .dataframe tbody tr th {\n",
       "        vertical-align: top;\n",
       "    }\n",
       "\n",
       "    .dataframe thead tr th {\n",
       "        text-align: left;\n",
       "    }\n",
       "\n",
       "    .dataframe thead tr:last-of-type th {\n",
       "        text-align: right;\n",
       "    }\n",
       "</style>\n",
       "<table border=\"1\" class=\"dataframe\">\n",
       "  <thead>\n",
       "    <tr>\n",
       "      <th></th>\n",
       "      <th>count</th>\n",
       "      <th>mean</th>\n",
       "    </tr>\n",
       "    <tr>\n",
       "      <th></th>\n",
       "      <th>price</th>\n",
       "      <th>price</th>\n",
       "    </tr>\n",
       "    <tr>\n",
       "      <th>days_listed</th>\n",
       "      <th></th>\n",
       "      <th></th>\n",
       "    </tr>\n",
       "  </thead>\n",
       "  <tbody>\n",
       "    <tr>\n",
       "      <th>101</th>\n",
       "      <td>51</td>\n",
       "      <td>9424.392157</td>\n",
       "    </tr>\n",
       "    <tr>\n",
       "      <th>102</th>\n",
       "      <td>42</td>\n",
       "      <td>11300.904762</td>\n",
       "    </tr>\n",
       "    <tr>\n",
       "      <th>103</th>\n",
       "      <td>51</td>\n",
       "      <td>11335.156863</td>\n",
       "    </tr>\n",
       "    <tr>\n",
       "      <th>104</th>\n",
       "      <td>58</td>\n",
       "      <td>10773.758621</td>\n",
       "    </tr>\n",
       "    <tr>\n",
       "      <th>105</th>\n",
       "      <td>49</td>\n",
       "      <td>11096.102041</td>\n",
       "    </tr>\n",
       "    <tr>\n",
       "      <th>...</th>\n",
       "      <td>...</td>\n",
       "      <td>...</td>\n",
       "    </tr>\n",
       "    <tr>\n",
       "      <th>244</th>\n",
       "      <td>1</td>\n",
       "      <td>5995.000000</td>\n",
       "    </tr>\n",
       "    <tr>\n",
       "      <th>252</th>\n",
       "      <td>1</td>\n",
       "      <td>11500.000000</td>\n",
       "    </tr>\n",
       "    <tr>\n",
       "      <th>261</th>\n",
       "      <td>1</td>\n",
       "      <td>3800.000000</td>\n",
       "    </tr>\n",
       "    <tr>\n",
       "      <th>263</th>\n",
       "      <td>1</td>\n",
       "      <td>5995.000000</td>\n",
       "    </tr>\n",
       "    <tr>\n",
       "      <th>267</th>\n",
       "      <td>1</td>\n",
       "      <td>5500.000000</td>\n",
       "    </tr>\n",
       "  </tbody>\n",
       "</table>\n",
       "<p>114 rows × 2 columns</p>\n",
       "</div>"
      ],
      "text/plain": [
       "            count          mean\n",
       "            price         price\n",
       "days_listed                    \n",
       "101            51   9424.392157\n",
       "102            42  11300.904762\n",
       "103            51  11335.156863\n",
       "104            58  10773.758621\n",
       "105            49  11096.102041\n",
       "...           ...           ...\n",
       "244             1   5995.000000\n",
       "252             1  11500.000000\n",
       "261             1   3800.000000\n",
       "263             1   5995.000000\n",
       "267             1   5500.000000\n",
       "\n",
       "[114 rows x 2 columns]"
      ]
     },
     "execution_count": 30,
     "metadata": {},
     "output_type": "execute_result"
    },
    {
     "data": {
      "image/png": "[encoded data removed]",
      "text/plain": [
       "<Figure size 432x288 with 1 Axes>"
      ]
     },
     "metadata": {
      "needs_background": "light"
     },
     "output_type": "display_data"
    }
   ],
   "source": [
    "data_filtered[\"days_listed\"].hist(bins=20, color=\"red\")\n",
    "plt.xlabel(\"Number of days listed\")\n",
    "plt.ylabel(\"Frequency\")\n",
    "plt.title(\"Frequency of Number of Days Listed\")\n",
    "print(data_filtered[\"days_listed\"].mean())\n",
    "data_filtered[\"days_listed\"].median()\n",
    "print(data_filtered[\"days_listed\"].describe())\n",
    "short_listings = data_filtered.query('days_listed == 0')\n",
    "long_listings = data_filtered.query('days_listed > 100')\n",
    "Q1e = data_filtered['days_listed'].quantile(0.25)\n",
    "Q3e = data_filtered['days_listed'].quantile(0.75)\n",
    "iqr6 = Q3e-Q1e\n",
    "print(\"Upper & Lower Bound:\",[Q1e-(1.5 * iqr6), Q3e+(1.5 * iqr6)])\n",
    "short_listings.pivot_table(index=\"days_listed\", values=\"price\", aggfunc=\"mean\")\n",
    "long_listings.pivot_table(index=\"days_listed\", values=\"price\", aggfunc=[\"count\",\"mean\"])"
   ]
  },
  {
   "cell_type": "markdown",
   "metadata": {},
   "source": [
    "## Average price per each type of vehicle"
   ]
  },
  {
   "cell_type": "code",
   "execution_count": 31,
   "metadata": {},
   "outputs": [
    {
     "data": {
      "text/plain": [
       "Text(0.5, 1.0, 'Average Price per Type of Vehicle')"
      ]
     },
     "execution_count": 31,
     "metadata": {},
     "output_type": "execute_result"
    },
    {
     "data": {
      "image/png": "[encoded data removed]",
      "text/plain": [
       "<Figure size 432x288 with 1 Axes>"
      ]
     },
     "metadata": {
      "needs_background": "light"
     },
     "output_type": "display_data"
    }
   ],
   "source": [
    "data_filtered.pivot_table(index=\"type\", values=\"price\", aggfunc=\"mean\").sort_values(by=\"price\", ascending=False).plot(kind=\"bar\", color=\"pink\")\n",
    "plt.ylabel(\"Average Price in Dollars\")\n",
    "plt.title(\"Average Price per Type of Vehicle\")\n"
   ]
  },
  {
   "cell_type": "code",
   "execution_count": 32,
   "metadata": {},
   "outputs": [
    {
     "data": {
      "text/plain": [
       "Text(0.5, 1.0, 'Number of Ads per Type of Vehicle')"
      ]
     },
     "execution_count": 32,
     "metadata": {},
     "output_type": "execute_result"
    },
    {
     "data": {
      "image/png": "[encoded data removed]",
      "text/plain": [
       "<Figure size 432x288 with 1 Axes>"
      ]
     },
     "metadata": {
      "needs_background": "light"
     },
     "output_type": "display_data"
    }
   ],
   "source": [
    "data_filtered[\"type\"].value_counts().sort_values(ascending=False).plot(kind=\"bar\", color=\"purple\")\n",
    "plt.xlabel(\"Type of Vehicle\")\n",
    "plt.ylabel(\"Number of Ads\")\n",
    "plt.title(\"Number of Ads per Type of Vehicle\")"
   ]
  },
  {
   "cell_type": "markdown",
   "metadata": {},
   "source": [
    "* SUV and Sedan type vehicles have the greatest number of ads. However, buses and trucks and pickups are the top three highest priced vehicles. While buses are the highest priced, there are not a lot of ads for this type of vehicle. I will select trucks and pickups to analyze, as they have sufficient number of ads and are on the higher end in terms of price."
   ]
  },
  {
   "cell_type": "markdown",
   "metadata": {},
   "source": [
    "## Price factors"
   ]
  },
  {
   "cell_type": "code",
   "execution_count": 33,
   "metadata": {
    "scrolled": false
   },
   "outputs": [
    {
     "data": {
      "text/html": [
       "<div>\n",
       "<style scoped>\n",
       "    .dataframe tbody tr th:only-of-type {\n",
       "        vertical-align: middle;\n",
       "    }\n",
       "\n",
       "    .dataframe tbody tr th {\n",
       "        vertical-align: top;\n",
       "    }\n",
       "\n",
       "    .dataframe thead tr th {\n",
       "        text-align: left;\n",
       "    }\n",
       "</style>\n",
       "<table border=\"1\" class=\"dataframe\">\n",
       "  <thead>\n",
       "    <tr>\n",
       "      <th></th>\n",
       "      <th>type</th>\n",
       "      <th colspan=\"4\" halign=\"left\">price</th>\n",
       "      <th colspan=\"4\" halign=\"left\">model_year</th>\n",
       "      <th>cylinders</th>\n",
       "      <th>...</th>\n",
       "      <th colspan=\"2\" halign=\"left\">age_in_years</th>\n",
       "      <th colspan=\"4\" halign=\"left\">avg_mileage</th>\n",
       "      <th colspan=\"4\" halign=\"left\">new_condition</th>\n",
       "    </tr>\n",
       "    <tr>\n",
       "      <th></th>\n",
       "      <th></th>\n",
       "      <th>count</th>\n",
       "      <th>mean</th>\n",
       "      <th>median</th>\n",
       "      <th>std</th>\n",
       "      <th>count</th>\n",
       "      <th>mean</th>\n",
       "      <th>median</th>\n",
       "      <th>std</th>\n",
       "      <th>count</th>\n",
       "      <th>...</th>\n",
       "      <th>median</th>\n",
       "      <th>std</th>\n",
       "      <th>count</th>\n",
       "      <th>mean</th>\n",
       "      <th>median</th>\n",
       "      <th>std</th>\n",
       "      <th>count</th>\n",
       "      <th>mean</th>\n",
       "      <th>median</th>\n",
       "      <th>std</th>\n",
       "    </tr>\n",
       "  </thead>\n",
       "  <tbody>\n",
       "    <tr>\n",
       "      <th>12</th>\n",
       "      <td>wagon</td>\n",
       "      <td>1019</td>\n",
       "      <td>8659.842983</td>\n",
       "      <td>6995.0</td>\n",
       "      <td>5330.111923</td>\n",
       "      <td>1019</td>\n",
       "      <td>2009.422964</td>\n",
       "      <td>2010.0</td>\n",
       "      <td>4.389519</td>\n",
       "      <td>1019</td>\n",
       "      <td>...</td>\n",
       "      <td>8.0</td>\n",
       "      <td>4.397868</td>\n",
       "      <td>1019</td>\n",
       "      <td>16202.452937</td>\n",
       "      <td>14735.600000</td>\n",
       "      <td>7622.252900</td>\n",
       "      <td>1019</td>\n",
       "      <td>2.548577</td>\n",
       "      <td>3</td>\n",
       "      <td>0.612850</td>\n",
       "    </tr>\n",
       "    <tr>\n",
       "      <th>11</th>\n",
       "      <td>van</td>\n",
       "      <td>390</td>\n",
       "      <td>9930.794872</td>\n",
       "      <td>7572.5</td>\n",
       "      <td>8774.917486</td>\n",
       "      <td>390</td>\n",
       "      <td>2009.341026</td>\n",
       "      <td>2010.0</td>\n",
       "      <td>4.821131</td>\n",
       "      <td>390</td>\n",
       "      <td>...</td>\n",
       "      <td>8.0</td>\n",
       "      <td>4.840816</td>\n",
       "      <td>390</td>\n",
       "      <td>16728.613128</td>\n",
       "      <td>15203.669935</td>\n",
       "      <td>8005.605827</td>\n",
       "      <td>390</td>\n",
       "      <td>2.489744</td>\n",
       "      <td>2</td>\n",
       "      <td>0.656114</td>\n",
       "    </tr>\n",
       "    <tr>\n",
       "      <th>10</th>\n",
       "      <td>truck</td>\n",
       "      <td>7519</td>\n",
       "      <td>14722.203219</td>\n",
       "      <td>13950.0</td>\n",
       "      <td>8668.775892</td>\n",
       "      <td>7519</td>\n",
       "      <td>2008.758213</td>\n",
       "      <td>2010.0</td>\n",
       "      <td>5.521542</td>\n",
       "      <td>7519</td>\n",
       "      <td>...</td>\n",
       "      <td>9.0</td>\n",
       "      <td>5.511377</td>\n",
       "      <td>7519</td>\n",
       "      <td>16601.602535</td>\n",
       "      <td>14800.000000</td>\n",
       "      <td>9054.196075</td>\n",
       "      <td>7519</td>\n",
       "      <td>2.536109</td>\n",
       "      <td>3</td>\n",
       "      <td>0.678984</td>\n",
       "    </tr>\n",
       "    <tr>\n",
       "      <th>9</th>\n",
       "      <td>sedan</td>\n",
       "      <td>7575</td>\n",
       "      <td>6578.542310</td>\n",
       "      <td>5900.0</td>\n",
       "      <td>3826.599237</td>\n",
       "      <td>7575</td>\n",
       "      <td>2010.231023</td>\n",
       "      <td>2011.0</td>\n",
       "      <td>4.467553</td>\n",
       "      <td>7575</td>\n",
       "      <td>...</td>\n",
       "      <td>7.0</td>\n",
       "      <td>4.463797</td>\n",
       "      <td>7575</td>\n",
       "      <td>16444.246721</td>\n",
       "      <td>14943.666670</td>\n",
       "      <td>8263.188057</td>\n",
       "      <td>7575</td>\n",
       "      <td>2.666667</td>\n",
       "      <td>3</td>\n",
       "      <td>0.684944</td>\n",
       "    </tr>\n",
       "    <tr>\n",
       "      <th>8</th>\n",
       "      <td>pickup</td>\n",
       "      <td>4091</td>\n",
       "      <td>14249.503300</td>\n",
       "      <td>12850.0</td>\n",
       "      <td>9108.885508</td>\n",
       "      <td>4091</td>\n",
       "      <td>2008.373747</td>\n",
       "      <td>2009.0</td>\n",
       "      <td>6.063711</td>\n",
       "      <td>4091</td>\n",
       "      <td>...</td>\n",
       "      <td>9.0</td>\n",
       "      <td>6.054599</td>\n",
       "      <td>4091</td>\n",
       "      <td>15912.505420</td>\n",
       "      <td>14432.345380</td>\n",
       "      <td>8601.489061</td>\n",
       "      <td>4091</td>\n",
       "      <td>2.549254</td>\n",
       "      <td>3</td>\n",
       "      <td>0.703958</td>\n",
       "    </tr>\n",
       "    <tr>\n",
       "      <th>7</th>\n",
       "      <td>other</td>\n",
       "      <td>153</td>\n",
       "      <td>10004.320261</td>\n",
       "      <td>8795.0</td>\n",
       "      <td>7374.213496</td>\n",
       "      <td>153</td>\n",
       "      <td>2007.496732</td>\n",
       "      <td>2008.0</td>\n",
       "      <td>6.969977</td>\n",
       "      <td>153</td>\n",
       "      <td>...</td>\n",
       "      <td>10.0</td>\n",
       "      <td>6.980001</td>\n",
       "      <td>153</td>\n",
       "      <td>14872.818544</td>\n",
       "      <td>13050.750000</td>\n",
       "      <td>9233.901489</td>\n",
       "      <td>153</td>\n",
       "      <td>2.431373</td>\n",
       "      <td>2</td>\n",
       "      <td>0.636238</td>\n",
       "    </tr>\n",
       "    <tr>\n",
       "      <th>6</th>\n",
       "      <td>offroad</td>\n",
       "      <td>143</td>\n",
       "      <td>13334.944056</td>\n",
       "      <td>11450.0</td>\n",
       "      <td>8501.345973</td>\n",
       "      <td>143</td>\n",
       "      <td>2005.174825</td>\n",
       "      <td>2006.0</td>\n",
       "      <td>7.087297</td>\n",
       "      <td>143</td>\n",
       "      <td>...</td>\n",
       "      <td>13.0</td>\n",
       "      <td>7.118670</td>\n",
       "      <td>143</td>\n",
       "      <td>11874.282325</td>\n",
       "      <td>9296.296300</td>\n",
       "      <td>7721.526795</td>\n",
       "      <td>143</td>\n",
       "      <td>2.741259</td>\n",
       "      <td>3</td>\n",
       "      <td>0.784653</td>\n",
       "    </tr>\n",
       "    <tr>\n",
       "      <th>5</th>\n",
       "      <td>mini-van</td>\n",
       "      <td>724</td>\n",
       "      <td>7265.324586</td>\n",
       "      <td>5995.0</td>\n",
       "      <td>4933.486514</td>\n",
       "      <td>724</td>\n",
       "      <td>2009.211326</td>\n",
       "      <td>2009.0</td>\n",
       "      <td>4.271988</td>\n",
       "      <td>724</td>\n",
       "      <td>...</td>\n",
       "      <td>9.0</td>\n",
       "      <td>4.274022</td>\n",
       "      <td>724</td>\n",
       "      <td>16763.546499</td>\n",
       "      <td>15104.166665</td>\n",
       "      <td>7561.772182</td>\n",
       "      <td>724</td>\n",
       "      <td>2.618785</td>\n",
       "      <td>3</td>\n",
       "      <td>0.694560</td>\n",
       "    </tr>\n",
       "    <tr>\n",
       "      <th>4</th>\n",
       "      <td>hatchback</td>\n",
       "      <td>621</td>\n",
       "      <td>6407.442834</td>\n",
       "      <td>5795.0</td>\n",
       "      <td>3605.310667</td>\n",
       "      <td>621</td>\n",
       "      <td>2009.597424</td>\n",
       "      <td>2010.0</td>\n",
       "      <td>5.254699</td>\n",
       "      <td>621</td>\n",
       "      <td>...</td>\n",
       "      <td>8.0</td>\n",
       "      <td>5.235818</td>\n",
       "      <td>621</td>\n",
       "      <td>15918.389499</td>\n",
       "      <td>14908.800000</td>\n",
       "      <td>8063.298141</td>\n",
       "      <td>621</td>\n",
       "      <td>2.692432</td>\n",
       "      <td>3</td>\n",
       "      <td>0.688915</td>\n",
       "    </tr>\n",
       "    <tr>\n",
       "      <th>3</th>\n",
       "      <td>coupe</td>\n",
       "      <td>1369</td>\n",
       "      <td>12423.834186</td>\n",
       "      <td>10000.0</td>\n",
       "      <td>8930.944445</td>\n",
       "      <td>1369</td>\n",
       "      <td>2008.978817</td>\n",
       "      <td>2011.0</td>\n",
       "      <td>7.208587</td>\n",
       "      <td>1369</td>\n",
       "      <td>...</td>\n",
       "      <td>7.0</td>\n",
       "      <td>7.191242</td>\n",
       "      <td>1369</td>\n",
       "      <td>12976.143219</td>\n",
       "      <td>11000.000000</td>\n",
       "      <td>8967.533158</td>\n",
       "      <td>1369</td>\n",
       "      <td>2.541271</td>\n",
       "      <td>2</td>\n",
       "      <td>0.712215</td>\n",
       "    </tr>\n",
       "    <tr>\n",
       "      <th>2</th>\n",
       "      <td>convertible</td>\n",
       "      <td>277</td>\n",
       "      <td>11954.194946</td>\n",
       "      <td>10995.0</td>\n",
       "      <td>7297.232456</td>\n",
       "      <td>277</td>\n",
       "      <td>2004.036101</td>\n",
       "      <td>2004.0</td>\n",
       "      <td>8.373015</td>\n",
       "      <td>277</td>\n",
       "      <td>...</td>\n",
       "      <td>14.0</td>\n",
       "      <td>8.361715</td>\n",
       "      <td>277</td>\n",
       "      <td>9810.510391</td>\n",
       "      <td>7413.388890</td>\n",
       "      <td>8276.921516</td>\n",
       "      <td>277</td>\n",
       "      <td>2.703971</td>\n",
       "      <td>3</td>\n",
       "      <td>0.701256</td>\n",
       "    </tr>\n",
       "    <tr>\n",
       "      <th>1</th>\n",
       "      <td>bus</td>\n",
       "      <td>17</td>\n",
       "      <td>18575.823529</td>\n",
       "      <td>28990.0</td>\n",
       "      <td>11454.846836</td>\n",
       "      <td>17</td>\n",
       "      <td>2008.823529</td>\n",
       "      <td>2011.0</td>\n",
       "      <td>4.260799</td>\n",
       "      <td>17</td>\n",
       "      <td>...</td>\n",
       "      <td>8.0</td>\n",
       "      <td>4.182421</td>\n",
       "      <td>17</td>\n",
       "      <td>11186.488069</td>\n",
       "      <td>5939.125000</td>\n",
       "      <td>10886.835549</td>\n",
       "      <td>17</td>\n",
       "      <td>2.176471</td>\n",
       "      <td>2</td>\n",
       "      <td>0.392953</td>\n",
       "    </tr>\n",
       "    <tr>\n",
       "      <th>0</th>\n",
       "      <td>SUV</td>\n",
       "      <td>7729</td>\n",
       "      <td>10186.178548</td>\n",
       "      <td>8450.0</td>\n",
       "      <td>7046.364292</td>\n",
       "      <td>7729</td>\n",
       "      <td>2009.143097</td>\n",
       "      <td>2010.0</td>\n",
       "      <td>5.076023</td>\n",
       "      <td>7729</td>\n",
       "      <td>...</td>\n",
       "      <td>8.0</td>\n",
       "      <td>5.080597</td>\n",
       "      <td>7729</td>\n",
       "      <td>16151.628519</td>\n",
       "      <td>14500.000000</td>\n",
       "      <td>8029.490274</td>\n",
       "      <td>7729</td>\n",
       "      <td>2.663734</td>\n",
       "      <td>3</td>\n",
       "      <td>0.671538</td>\n",
       "    </tr>\n",
       "  </tbody>\n",
       "</table>\n",
       "<p>13 rows × 49 columns</p>\n",
       "</div>"
      ],
      "text/plain": [
       "           type price                                      model_year  \\\n",
       "                count          mean   median           std      count   \n",
       "12        wagon  1019   8659.842983   6995.0   5330.111923       1019   \n",
       "11          van   390   9930.794872   7572.5   8774.917486        390   \n",
       "10        truck  7519  14722.203219  13950.0   8668.775892       7519   \n",
       "9         sedan  7575   6578.542310   5900.0   3826.599237       7575   \n",
       "8        pickup  4091  14249.503300  12850.0   9108.885508       4091   \n",
       "7         other   153  10004.320261   8795.0   7374.213496        153   \n",
       "6       offroad   143  13334.944056  11450.0   8501.345973        143   \n",
       "5      mini-van   724   7265.324586   5995.0   4933.486514        724   \n",
       "4     hatchback   621   6407.442834   5795.0   3605.310667        621   \n",
       "3         coupe  1369  12423.834186  10000.0   8930.944445       1369   \n",
       "2   convertible   277  11954.194946  10995.0   7297.232456        277   \n",
       "1           bus    17  18575.823529  28990.0  11454.846836         17   \n",
       "0           SUV  7729  10186.178548   8450.0   7046.364292       7729   \n",
       "\n",
       "                                  cylinders  ... age_in_years            \\\n",
       "           mean  median       std     count  ...       median       std   \n",
       "12  2009.422964  2010.0  4.389519      1019  ...          8.0  4.397868   \n",
       "11  2009.341026  2010.0  4.821131       390  ...          8.0  4.840816   \n",
       "10  2008.758213  2010.0  5.521542      7519  ...          9.0  5.511377   \n",
       "9   2010.231023  2011.0  4.467553      7575  ...          7.0  4.463797   \n",
       "8   2008.373747  2009.0  6.063711      4091  ...          9.0  6.054599   \n",
       "7   2007.496732  2008.0  6.969977       153  ...         10.0  6.980001   \n",
       "6   2005.174825  2006.0  7.087297       143  ...         13.0  7.118670   \n",
       "5   2009.211326  2009.0  4.271988       724  ...          9.0  4.274022   \n",
       "4   2009.597424  2010.0  5.254699       621  ...          8.0  5.235818   \n",
       "3   2008.978817  2011.0  7.208587      1369  ...          7.0  7.191242   \n",
       "2   2004.036101  2004.0  8.373015       277  ...         14.0  8.361715   \n",
       "1   2008.823529  2011.0  4.260799        17  ...          8.0  4.182421   \n",
       "0   2009.143097  2010.0  5.076023      7729  ...          8.0  5.080597   \n",
       "\n",
       "   avg_mileage                                           new_condition  \\\n",
       "         count          mean        median           std         count   \n",
       "12        1019  16202.452937  14735.600000   7622.252900          1019   \n",
       "11         390  16728.613128  15203.669935   8005.605827           390   \n",
       "10        7519  16601.602535  14800.000000   9054.196075          7519   \n",
       "9         7575  16444.246721  14943.666670   8263.188057          7575   \n",
       "8         4091  15912.505420  14432.345380   8601.489061          4091   \n",
       "7          153  14872.818544  13050.750000   9233.901489           153   \n",
       "6          143  11874.282325   9296.296300   7721.526795           143   \n",
       "5          724  16763.546499  15104.166665   7561.772182           724   \n",
       "4          621  15918.389499  14908.800000   8063.298141           621   \n",
       "3         1369  12976.143219  11000.000000   8967.533158          1369   \n",
       "2          277   9810.510391   7413.388890   8276.921516           277   \n",
       "1           17  11186.488069   5939.125000  10886.835549            17   \n",
       "0         7729  16151.628519  14500.000000   8029.490274          7729   \n",
       "\n",
       "                               \n",
       "        mean median       std  \n",
       "12  2.548577      3  0.612850  \n",
       "11  2.489744      2  0.656114  \n",
       "10  2.536109      3  0.678984  \n",
       "9   2.666667      3  0.684944  \n",
       "8   2.549254      3  0.703958  \n",
       "7   2.431373      2  0.636238  \n",
       "6   2.741259      3  0.784653  \n",
       "5   2.618785      3  0.694560  \n",
       "4   2.692432      3  0.688915  \n",
       "3   2.541271      2  0.712215  \n",
       "2   2.703971      3  0.701256  \n",
       "1   2.176471      2  0.392953  \n",
       "0   2.663734      3  0.671538  \n",
       "\n",
       "[13 rows x 49 columns]"
      ]
     },
     "execution_count": 33,
     "metadata": {},
     "output_type": "execute_result"
    }
   ],
   "source": [
    "data_filtered.groupby(['type']).agg(['count', 'mean', 'median', 'std']).reset_index().sort_values(by='type', ascending=False)\n"
   ]
  },
  {
   "cell_type": "code",
   "execution_count": 34,
   "metadata": {},
   "outputs": [
    {
     "name": "stdout",
     "output_type": "stream",
     "text": [
      "                         price  model_year  cylinders  odometer  days_listed  \\\n",
      "price                 1.000000    0.639875   0.015171 -0.443910     0.014390   \n",
      "model_year            0.639875    1.000000  -0.021671 -0.464116    -0.003253   \n",
      "cylinders             0.015171   -0.021671   1.000000  0.002141     0.005700   \n",
      "odometer             -0.443910   -0.464116   0.002141  1.000000     0.008235   \n",
      "days_listed           0.014390   -0.003253   0.005700  0.008235     1.000000   \n",
      "day_of_week_posted   -0.000943   -0.005185  -0.011223 -0.000218     0.003992   \n",
      "year_posted           0.034799    0.064045   0.009234 -0.017824    -0.000065   \n",
      "month_posted         -0.030026   -0.051387  -0.000195  0.016815    -0.006220   \n",
      "vehicle_age_in_years -0.638105   -0.996415   0.022493  0.463461     0.003253   \n",
      "age_in_years         -0.638105   -0.996415   0.022493  0.463461     0.003253   \n",
      "avg_mileage           0.332731    0.605505  -0.033999  0.198562     0.007826   \n",
      "new_condition         0.309494    0.321893  -0.004325 -0.274407     0.013834   \n",
      "\n",
      "                      day_of_week_posted  year_posted  month_posted  \\\n",
      "price                          -0.000943     0.034799     -0.030026   \n",
      "model_year                     -0.005185     0.064045     -0.051387   \n",
      "cylinders                      -0.011223     0.009234     -0.000195   \n",
      "odometer                       -0.000218    -0.017824      0.016815   \n",
      "days_listed                     0.003992    -0.000065     -0.006220   \n",
      "day_of_week_posted              1.000000    -0.015525      0.016832   \n",
      "year_posted                    -0.015525     1.000000     -0.821202   \n",
      "month_posted                    0.016832    -0.821202      1.000000   \n",
      "vehicle_age_in_years            0.003878     0.020610     -0.018134   \n",
      "age_in_years                    0.003878     0.020610     -0.018134   \n",
      "avg_mileage                    -0.012816    -0.068961      0.063739   \n",
      "new_condition                   0.003596     0.030448     -0.027129   \n",
      "\n",
      "                      vehicle_age_in_years  age_in_years  avg_mileage  \\\n",
      "price                            -0.638105     -0.638105     0.332731   \n",
      "model_year                       -0.996415     -0.996415     0.605505   \n",
      "cylinders                         0.022493      0.022493    -0.033999   \n",
      "odometer                          0.463461      0.463461     0.198562   \n",
      "days_listed                       0.003253      0.003253     0.007826   \n",
      "day_of_week_posted                0.003878      0.003878    -0.012816   \n",
      "year_posted                       0.020610      0.020610    -0.068961   \n",
      "month_posted                     -0.018134     -0.018134     0.063739   \n",
      "vehicle_age_in_years              1.000000      1.000000    -0.612468   \n",
      "age_in_years                      1.000000      1.000000    -0.612468   \n",
      "avg_mileage                      -0.612468     -0.612468     1.000000   \n",
      "new_condition                    -0.319905     -0.319905     0.095910   \n",
      "\n",
      "                      new_condition  \n",
      "price                      0.309494  \n",
      "model_year                 0.321893  \n",
      "cylinders                 -0.004325  \n",
      "odometer                  -0.274407  \n",
      "days_listed                0.013834  \n",
      "day_of_week_posted         0.003596  \n",
      "year_posted                0.030448  \n",
      "month_posted              -0.027129  \n",
      "vehicle_age_in_years      -0.319905  \n",
      "age_in_years              -0.319905  \n",
      "avg_mileage                0.095910  \n",
      "new_condition              1.000000  \n",
      "\n",
      "                         price  model_year  cylinders  odometer  days_listed  \\\n",
      "price                 1.000000    0.742953  -0.026353 -0.530908     0.031064   \n",
      "model_year            0.742953    1.000000  -0.095892 -0.496267     0.032174   \n",
      "cylinders            -0.026353   -0.095892   1.000000  0.103354     0.005253   \n",
      "odometer             -0.530908   -0.496267   0.103354  1.000000    -0.015673   \n",
      "days_listed           0.031064    0.032174   0.005253 -0.015673     1.000000   \n",
      "day_of_week_posted   -0.032606   -0.024939  -0.020576  0.033743    -0.006348   \n",
      "year_posted           0.051610    0.057908   0.003302 -0.032765     0.063815   \n",
      "month_posted         -0.053363   -0.060924   0.010214  0.049729    -0.043340   \n",
      "vehicle_age_in_years -0.740111   -0.997061   0.096290  0.494500    -0.027325   \n",
      "age_in_years         -0.740111   -0.997061   0.096290  0.494500    -0.027325   \n",
      "avg_mileage           0.410150    0.598081  -0.040171  0.155113     0.009661   \n",
      "new_condition         0.316975    0.287549   0.046141 -0.212092     0.006063   \n",
      "\n",
      "                      day_of_week_posted  year_posted  month_posted  \\\n",
      "price                          -0.032606     0.051610     -0.053363   \n",
      "model_year                     -0.024939     0.057908     -0.060924   \n",
      "cylinders                      -0.020576     0.003302      0.010214   \n",
      "odometer                        0.033743    -0.032765      0.049729   \n",
      "days_listed                    -0.006348     0.063815     -0.043340   \n",
      "day_of_week_posted              1.000000    -0.001743     -0.006461   \n",
      "year_posted                    -0.001743     1.000000     -0.823552   \n",
      "month_posted                   -0.006461    -0.823552      1.000000   \n",
      "vehicle_age_in_years            0.024843     0.018741     -0.002180   \n",
      "age_in_years                    0.024843     0.018741     -0.002180   \n",
      "avg_mileage                    -0.010130    -0.066881      0.046427   \n",
      "new_condition                  -0.030903     0.013464     -0.016095   \n",
      "\n",
      "                      vehicle_age_in_years  age_in_years  avg_mileage  \\\n",
      "price                            -0.740111     -0.740111     0.410150   \n",
      "model_year                       -0.997061     -0.997061     0.598081   \n",
      "cylinders                         0.096290      0.096290    -0.040171   \n",
      "odometer                          0.494500      0.494500     0.155113   \n",
      "days_listed                      -0.027325     -0.027325     0.009661   \n",
      "day_of_week_posted                0.024843      0.024843    -0.010130   \n",
      "year_posted                       0.018741      0.018741    -0.066881   \n",
      "month_posted                     -0.002180     -0.002180     0.046427   \n",
      "vehicle_age_in_years              1.000000      1.000000    -0.604113   \n",
      "age_in_years                      1.000000      1.000000    -0.604113   \n",
      "avg_mileage                      -0.604113     -0.604113     1.000000   \n",
      "new_condition                    -0.286949     -0.286949     0.159323   \n",
      "\n",
      "                      new_condition  \n",
      "price                      0.316975  \n",
      "model_year                 0.287549  \n",
      "cylinders                  0.046141  \n",
      "odometer                  -0.212092  \n",
      "days_listed                0.006063  \n",
      "day_of_week_posted        -0.030903  \n",
      "year_posted                0.013464  \n",
      "month_posted              -0.016095  \n",
      "vehicle_age_in_years      -0.286949  \n",
      "age_in_years              -0.286949  \n",
      "avg_mileage                0.159323  \n",
      "new_condition              1.000000  \n",
      "                         price  model_year  cylinders  odometer  days_listed  \\\n",
      "price                 1.000000    0.514414   0.321627 -0.403588     0.001509   \n",
      "model_year            0.514414    1.000000  -0.167555 -0.486711    -0.000751   \n",
      "cylinders             0.321627   -0.167555   1.000000  0.111705     0.000463   \n",
      "odometer             -0.403588   -0.486711   0.111705  1.000000     0.006697   \n",
      "days_listed           0.001509   -0.000751   0.000463  0.006697     1.000000   \n",
      "day_of_week_posted   -0.009906   -0.006613  -0.005994  0.011371     0.001292   \n",
      "year_posted           0.032692    0.051454   0.001114 -0.022972     0.011714   \n",
      "month_posted         -0.028714   -0.044792   0.002260  0.024840    -0.012339   \n",
      "vehicle_age_in_years -0.511944   -0.996247   0.167770  0.485064     0.001766   \n",
      "age_in_years         -0.511944   -0.996247   0.167770  0.485064     0.001766   \n",
      "avg_mileage           0.279631    0.591503  -0.058741  0.169604     0.003365   \n",
      "new_condition         0.218649    0.284731  -0.069466 -0.270775    -0.005070   \n",
      "\n",
      "                      day_of_week_posted  year_posted  month_posted  \\\n",
      "price                          -0.009906     0.032692     -0.028714   \n",
      "model_year                     -0.006613     0.051454     -0.044792   \n",
      "cylinders                      -0.005994     0.001114      0.002260   \n",
      "odometer                        0.011371    -0.022972      0.024840   \n",
      "days_listed                     0.001292     0.011714     -0.012339   \n",
      "day_of_week_posted              1.000000    -0.008179      0.007016   \n",
      "year_posted                    -0.008179     1.000000     -0.822731   \n",
      "month_posted                    0.007016    -0.822731      1.000000   \n",
      "vehicle_age_in_years            0.005909     0.035183     -0.026485   \n",
      "age_in_years                    0.005909     0.035183     -0.026485   \n",
      "avg_mileage                    -0.001490    -0.092282      0.078772   \n",
      "new_condition                   0.003150     0.014475     -0.009933   \n",
      "\n",
      "                      vehicle_age_in_years  age_in_years  avg_mileage  \\\n",
      "price                            -0.511944     -0.511944     0.279631   \n",
      "model_year                       -0.996247     -0.996247     0.591503   \n",
      "cylinders                         0.167770      0.167770    -0.058741   \n",
      "odometer                          0.485064      0.485064     0.169604   \n",
      "days_listed                       0.001766      0.001766     0.003365   \n",
      "day_of_week_posted                0.005909      0.005909    -0.001490   \n",
      "year_posted                       0.035183      0.035183    -0.092282   \n",
      "month_posted                     -0.026485     -0.026485     0.078772   \n",
      "vehicle_age_in_years              1.000000      1.000000    -0.599919   \n",
      "age_in_years                      1.000000      1.000000    -0.599919   \n",
      "avg_mileage                      -0.599919     -0.599919     1.000000   \n",
      "new_condition                    -0.283678     -0.283678     0.086337   \n",
      "\n",
      "                      new_condition  \n",
      "price                      0.218649  \n",
      "model_year                 0.284731  \n",
      "cylinders                 -0.069466  \n",
      "odometer                  -0.270775  \n",
      "days_listed               -0.005070  \n",
      "day_of_week_posted         0.003150  \n",
      "year_posted                0.014475  \n",
      "month_posted              -0.009933  \n",
      "vehicle_age_in_years      -0.283678  \n",
      "age_in_years              -0.283678  \n",
      "avg_mileage                0.086337  \n",
      "new_condition              1.000000  \n",
      "Truck Price & Vehicle Age Correlation:\n",
      "                         price  vehicle_age_in_years\n",
      "price                 1.000000             -0.638105\n",
      "vehicle_age_in_years -0.638105              1.000000\n",
      "Truck Price & Vehicle Mileage Correlation:\n",
      "                price  avg_mileage\n",
      "price        1.000000     0.332731\n",
      "avg_mileage  0.332731     1.000000\n",
      "\n",
      "Pickup Price & Vehicle Mileage Correlation:\n",
      "               price  avg_mileage\n",
      "price        1.00000      0.41015\n",
      "avg_mileage  0.41015      1.00000\n",
      "Pickup Price & Vehicle Mileage Correlation:\n",
      "                         price  vehicle_age_in_years\n",
      "price                 1.000000             -0.740111\n",
      "vehicle_age_in_years -0.740111              1.000000\n"
     ]
    },
    {
     "data": {
      "image/png": "[encoded data removed]",
      "text/plain": [
       "<Figure size 432x288 with 1 Axes>"
      ]
     },
     "metadata": {
      "needs_background": "light"
     },
     "output_type": "display_data"
    },
    {
     "name": "stdout",
     "output_type": "stream",
     "text": [
      "\n"
     ]
    },
    {
     "data": {
      "image/png": "[encoded data removed]",
      "text/plain": [
       "<Figure size 432x288 with 1 Axes>"
      ]
     },
     "metadata": {
      "needs_background": "light"
     },
     "output_type": "display_data"
    },
    {
     "name": "stdout",
     "output_type": "stream",
     "text": [
      "\n"
     ]
    }
   ],
   "source": [
    "truck_data = data_filtered.query('type==\"truck\"')\n",
    "pickup_data = data_filtered.query('type==\"pickup\"')\n",
    "print(truck_data.corr())\n",
    "print()\n",
    "print(pickup_data.corr())\n",
    "print(data_filtered.corr())\n",
    "print(\"Truck Price & Vehicle Age Correlation:\")\n",
    "print(truck_data[[\"price\", \"vehicle_age_in_years\"]].corr())\n",
    "print(\"Truck Price & Vehicle Mileage Correlation:\")\n",
    "print(truck_data[[\"price\", \"avg_mileage\"]].corr())\n",
    "print()\n",
    "print(\"Pickup Price & Vehicle Mileage Correlation:\")\n",
    "print(pickup_data[[\"price\", \"avg_mileage\"]].corr())\n",
    "print(\"Pickup Price & Vehicle Mileage Correlation:\")\n",
    "print(pickup_data[[\"price\", \"vehicle_age_in_years\"]].corr())\n",
    "\n",
    "truck_data.corr().plot(kind=\"scatter\", x=\"avg_mileage\", y=\"price\")\n",
    "plt.title(\"Effect of Mileage on Price for Trucks\")\n",
    "plt.show()\n",
    "print()\n",
    "pickup_data.corr().plot(kind=\"scatter\", x=\"avg_mileage\", y=\"price\")\n",
    "plt.title(\"Effect of Mileage on Price for Pickups\")\n",
    "plt.show()\n",
    "\n",
    "print()\n"
   ]
  },
  {
   "cell_type": "code",
   "execution_count": 35,
   "metadata": {
    "scrolled": false
   },
   "outputs": [
    {
     "data": {
      "image/png": "[encoded data removed]",
      "text/plain": [
       "<Figure size 432x288 with 1 Axes>"
      ]
     },
     "metadata": {
      "needs_background": "light"
     },
     "output_type": "display_data"
    },
    {
     "data": {
      "image/png": "[encoded data removed]",
      "text/plain": [
       "<Figure size 432x288 with 1 Axes>"
      ]
     },
     "metadata": {
      "needs_background": "light"
     },
     "output_type": "display_data"
    },
    {
     "data": {
      "text/plain": [
       "Text(0.5, 1.0, 'Type of transmission vs. Price')"
      ]
     },
     "execution_count": 35,
     "metadata": {},
     "output_type": "execute_result"
    },
    {
     "data": {
      "image/png": "[encoded data removed]",
      "text/plain": [
       "<Figure size 432x288 with 1 Axes>"
      ]
     },
     "metadata": {
      "needs_background": "light"
     },
     "output_type": "display_data"
    }
   ],
   "source": [
    "truck_data.corr().plot(kind=\"scatter\", x=\"price\", y=\"new_condition\")\n",
    "sb.boxplot( x = 'transmission', y = 'price', data = truck_data )\n",
    "plt.title(\"Type of transmission vs. Price\")\n",
    "plt.show()\n",
    "sb.boxplot( x = 'transmission', y = 'price', data = pickup_data )\n",
    "plt.title(\"Type of transmission vs. Price\")\n",
    "plt.show()\n",
    "sb.boxplot(  x = 'transmission', y = 'price', data = data_filtered)\n",
    "plt.title(\"Type of transmission vs. Price\")"
   ]
  },
  {
   "cell_type": "markdown",
   "metadata": {},
   "source": [
    "* Transmission does not seem to have a definite effect on price, as it also appears that the mediating factor between the two variables here might depend on the type of vehicle. As shown above, trucks tend to be higher priced if they are automatic while pickups appear to be more expensive if they fall in the \"other\" transmission category."
   ]
  },
  {
   "cell_type": "code",
   "execution_count": 36,
   "metadata": {
    "scrolled": true
   },
   "outputs": [
    {
     "name": "stdout",
     "output_type": "stream",
     "text": [
      "AxesSubplot(0.125,0.125;0.775x0.755)\n"
     ]
    },
    {
     "data": {
      "image/png": "[encoded data removed]",
      "text/plain": [
       "<Figure size 432x288 with 1 Axes>"
      ]
     },
     "metadata": {
      "needs_background": "light"
     },
     "output_type": "display_data"
    },
    {
     "name": "stdout",
     "output_type": "stream",
     "text": [
      "AxesSubplot(0.125,0.125;0.775x0.755)\n"
     ]
    },
    {
     "data": {
      "text/plain": [
       "Text(0.5, 1.0, 'Pickup Condition vs. Price')"
      ]
     },
     "execution_count": 36,
     "metadata": {},
     "output_type": "execute_result"
    },
    {
     "data": {
      "image/png": "[encoded data removed]",
      "text/plain": [
       "<Figure size 432x288 with 1 Axes>"
      ]
     },
     "metadata": {
      "needs_background": "light"
     },
     "output_type": "display_data"
    }
   ],
   "source": [
    "print(sb.boxplot( x= 'condition', y=\"price\", data= truck_data))\n",
    "plt.title(\"Truck Condition vs. Price\")\n",
    "plt.show()\n",
    "print(sb.boxplot( x= 'condition', y=\"price\", data= pickup_data))\n",
    "plt.title(\"Pickup Condition vs. Price\")"
   ]
  },
  {
   "cell_type": "markdown",
   "metadata": {},
   "source": [
    "* Higher priced vehicles tend to also have a be in better condition, which makes sense. Trucks and pickups in the \"like new\" category of condition tend to be higher priced."
   ]
  },
  {
   "cell_type": "code",
   "execution_count": 37,
   "metadata": {},
   "outputs": [
    {
     "name": "stdout",
     "output_type": "stream",
     "text": [
      "AxesSubplot(0.125,0.125;0.775x0.755)\n"
     ]
    },
    {
     "data": {
      "image/png": "[encoded data removed]",
      "text/plain": [
       "<Figure size 432x288 with 1 Axes>"
      ]
     },
     "metadata": {
      "needs_background": "light"
     },
     "output_type": "display_data"
    },
    {
     "name": "stdout",
     "output_type": "stream",
     "text": [
      "AxesSubplot(0.125,0.125;0.775x0.755)\n"
     ]
    },
    {
     "data": {
      "image/png": "[encoded data removed]",
      "text/plain": [
       "<Figure size 432x288 with 1 Axes>"
      ]
     },
     "metadata": {
      "needs_background": "light"
     },
     "output_type": "display_data"
    },
    {
     "data": {
      "image/png": "[encoded data removed]",
      "text/plain": [
       "<Figure size 432x288 with 1 Axes>"
      ]
     },
     "metadata": {
      "needs_background": "light"
     },
     "output_type": "display_data"
    }
   ],
   "source": [
    "print(sb.boxplot( x= 'paint_color', y=\"price\", data= truck_data))\n",
    "plt.title(\"Color of Truck vs. Price\")\n",
    "plt.show()\n",
    "print(sb.boxplot( x= 'paint_color', y=\"price\", data= pickup_data))\n",
    "plt.title(\"Color of Pickup vs. Price\")\n",
    "plt.show()\n",
    "sb.boxplot( x= 'paint_color', y=\"price\", data= data_filtered)\n",
    "plt.title(\"Color of Vehicles vs. Price\")\n",
    "plt.show()"
   ]
  },
  {
   "cell_type": "markdown",
   "metadata": {},
   "source": [
    "* Based on the filtered dataset, it appears that the colors do vary in price, but the type of vehicle also factors in here. For instance, we find that trucks tend to be higher priced in the color black, while pickups tend to be higher priced in the color brown."
   ]
  },
  {
   "cell_type": "markdown",
   "metadata": {},
   "source": [
    "## General conclusion\n"
   ]
  },
  {
   "cell_type": "markdown",
   "metadata": {},
   "source": [
    "* This dataset contained a considerable amount of missing values, which were distributed accross 5 different columns. Missing values found in the [\"is_4wd\"] column and [\"odometer\"] column were filled in while all other missing values were removed from the dataset. I justified filling in the missing values in the above named columns as the [\"is_4wd\"] column contained only one type of boolean value \"False\", so it is reasonable to assume that the missing values were likely due to not entering the \"True\" boolean value. \n",
    "* Furthermore, the missing values found in the [\"odometer\"] column were replaced with the median, as that seemed to be the best fit value in this circumstance. Missing values in the [\"paint_color\"], [\"model_year\"] and [\"cylinder\"] columns were removed, as the likely possibility for incorrectly filling in those values might have had an affect on the final analysis of finding out which factors contribute most to price. There were no duplicates in this dataset. It is important to note that when the additional column \"avg_mileage\" was created as result of dividing [\"odometer\"] and [\"model_year\"], it created problematic infinite values, as there some vehicles who were 0 years old but also had a non-zero value for their respective [\"odometer\"] reading. These values were problematic because they did not allow for further analysis/plotting of the data. Thus, I went back and replaced all values in the [\"vehicle_age_in_years\"] column that were equal to \"0\" with \"1\" under the condition that those values also had an [\"odometer\"] values greater than 0.\n",
    "* I chose to replace these values with 1, as an ['odometer'] reading that is greater than 0 indicates usage, which indicates an age that should be greater than 0 as well.\n",
    "\""
   ]
  },
  {
   "cell_type": "markdown",
   "metadata": {},
   "source": [
    "# Conclusion\n",
    "* Upon analyzing the different factors that impact vehicle price, I concluded that the two factors that appear to have the most direct impact on price are the vehicles age in years along with mileage. I selected the top two most popular and highest-priced vehicles which were trucks and pickups and analyzed data based on these two types of vehicles. The most significant finding was that a medium-strength negative correlation exists (-.638, -.740) between vehicle age and price for trucks and pickups respectively. This suggests that the younger the car, the higher the price, which is not surprising. \n",
    "* A correlational analysis of price and mileage resulted in a weak positive correlation (.332, .410) for trucks and pickups respectively. This indicates that mileage did not necessarily impact the price of vehicles in this dataset. As stated earlier, it is noteable that the sample of vehicles in this dataset was overall skewed to the left in terms of price and it is possible that a larger and more representative sample of vehicles might provide more insight into the true relationship between mileage and price.\n",
    "* Furthermore, paint color and transmission did not seem to have a direct impact on price either, as both appeared to be mediated by some other variable, such as type of vehicle. Further investigation should be conducted in order to determine if there are other confounding variables that mediate the relationship between these factors and price. However, vehicle condition did appear to impact price, as vehicles with the \"like new\" condition tended to be higher priced as well. This makes sense, as one would expect vehicles in better condition to be priced higher. Another point to make is that in my analysis I compared pickups and trucks in seperate dataframes to compare how these higher-priced vehicles are impacted by other factors.While these findings give insight to some of the factors that might impact vehicle price, further analysis should be conducted in order to confirm these findings and what they suggest. Although the results with in this analysis, a deeper look into the relationship between mileage and price should be taken, as this analysis can serve as a preliminary step to further investigation.\n"
   ]
  }
 ],
 "metadata": {
  "ExecuteTimeLog": [
   {
    "duration": 828,
    "start_time": "2021-11-16T09:21:11.304Z"
   },
   {
    "duration": 893,
    "start_time": "2021-11-16T09:21:17.728Z"
   },
   {
    "duration": 1150,
    "start_time": "2021-11-16T09:21:29.568Z"
   },
   {
    "duration": 3,
    "start_time": "2021-11-16T09:24:14.495Z"
   },
   {
    "duration": 120,
    "start_time": "2021-11-16T09:24:46.630Z"
   },
   {
    "duration": 3,
    "start_time": "2021-11-16T09:28:27.882Z"
   },
   {
    "duration": 4,
    "start_time": "2021-11-16T09:29:54.281Z"
   },
   {
    "duration": 3,
    "start_time": "2021-11-16T09:30:45.936Z"
   },
   {
    "duration": 4,
    "start_time": "2021-11-16T09:31:06.300Z"
   },
   {
    "duration": 113,
    "start_time": "2021-11-16T09:31:37.208Z"
   },
   {
    "duration": 143,
    "start_time": "2021-11-16T09:31:48.656Z"
   },
   {
    "duration": 98,
    "start_time": "2021-11-16T09:31:55.678Z"
   },
   {
    "duration": 3,
    "start_time": "2021-11-16T09:32:08.535Z"
   },
   {
    "duration": 111,
    "start_time": "2021-11-16T09:32:10.120Z"
   },
   {
    "duration": 3,
    "start_time": "2021-11-16T09:32:15.732Z"
   },
   {
    "duration": 4,
    "start_time": "2021-11-16T09:32:29.423Z"
   },
   {
    "duration": 3,
    "start_time": "2021-11-16T10:03:03.074Z"
   },
   {
    "duration": 3,
    "start_time": "2021-11-16T10:10:01.288Z"
   },
   {
    "duration": 3,
    "start_time": "2021-11-16T10:10:46.923Z"
   },
   {
    "duration": 121,
    "start_time": "2021-11-16T10:37:46.494Z"
   },
   {
    "duration": 125,
    "start_time": "2021-11-16T10:38:20.632Z"
   },
   {
    "duration": 112,
    "start_time": "2021-11-16T10:46:53.001Z"
   },
   {
    "duration": 110,
    "start_time": "2021-11-16T10:48:25.775Z"
   },
   {
    "duration": 3,
    "start_time": "2021-11-16T10:50:18.720Z"
   },
   {
    "duration": 4,
    "start_time": "2021-11-16T10:50:37.649Z"
   },
   {
    "duration": 2,
    "start_time": "2021-11-16T10:50:51.884Z"
   },
   {
    "duration": 3,
    "start_time": "2021-11-16T10:51:56.237Z"
   },
   {
    "duration": 101,
    "start_time": "2021-11-16T10:53:13.791Z"
   },
   {
    "duration": 3,
    "start_time": "2021-11-16T10:55:59.186Z"
   },
   {
    "duration": 3,
    "start_time": "2021-11-16T10:56:10.751Z"
   },
   {
    "duration": 3,
    "start_time": "2021-11-16T10:56:49.038Z"
   },
   {
    "duration": 3,
    "start_time": "2021-11-16T10:56:49.174Z"
   },
   {
    "duration": 4,
    "start_time": "2021-11-16T10:56:49.414Z"
   },
   {
    "duration": 3,
    "start_time": "2021-11-16T10:56:49.680Z"
   },
   {
    "duration": 3,
    "start_time": "2021-11-16T10:56:50.370Z"
   },
   {
    "duration": 114,
    "start_time": "2021-11-16T10:59:34.518Z"
   },
   {
    "duration": 3,
    "start_time": "2021-11-16T11:01:41.201Z"
   },
   {
    "duration": 116,
    "start_time": "2021-11-16T11:01:48.754Z"
   },
   {
    "duration": 3,
    "start_time": "2021-11-16T11:02:16.685Z"
   },
   {
    "duration": 3,
    "start_time": "2021-11-16T11:02:19.479Z"
   },
   {
    "duration": 3,
    "start_time": "2021-11-16T11:02:47.067Z"
   },
   {
    "duration": 3,
    "start_time": "2021-11-16T11:02:49.353Z"
   },
   {
    "duration": 3,
    "start_time": "2021-11-16T11:03:07.835Z"
   },
   {
    "duration": 3,
    "start_time": "2021-11-16T11:03:07.953Z"
   },
   {
    "duration": 112,
    "start_time": "2021-11-16T11:07:52.072Z"
   },
   {
    "duration": 187,
    "start_time": "2021-11-16T11:09:23.468Z"
   },
   {
    "duration": 4,
    "start_time": "2021-11-16T11:10:01.455Z"
   },
   {
    "duration": 3,
    "start_time": "2021-11-16T11:10:05.069Z"
   },
   {
    "duration": 4,
    "start_time": "2021-11-16T11:10:13.376Z"
   },
   {
    "duration": 3,
    "start_time": "2021-11-16T11:10:14.434Z"
   },
   {
    "duration": 3,
    "start_time": "2021-11-16T11:10:22.853Z"
   },
   {
    "duration": 4,
    "start_time": "2021-11-16T11:27:29.279Z"
   },
   {
    "duration": 4,
    "start_time": "2021-11-16T11:29:08.919Z"
   },
   {
    "duration": 118,
    "start_time": "2021-11-16T11:29:46.703Z"
   },
   {
    "duration": 437,
    "start_time": "2021-11-16T11:36:02.181Z"
   },
   {
    "duration": 157,
    "start_time": "2021-11-16T11:36:14.388Z"
   },
   {
    "duration": 207,
    "start_time": "2021-11-16T11:47:15.898Z"
   },
   {
    "duration": 3,
    "start_time": "2021-11-16T11:53:52.092Z"
   },
   {
    "duration": 3,
    "start_time": "2021-11-16T11:53:52.236Z"
   },
   {
    "duration": 3,
    "start_time": "2021-11-16T11:59:12.005Z"
   },
   {
    "duration": 112,
    "start_time": "2021-11-16T12:00:33.446Z"
   },
   {
    "duration": 3,
    "start_time": "2021-11-16T12:02:14.453Z"
   },
   {
    "duration": 3,
    "start_time": "2021-11-16T12:02:39.512Z"
   },
   {
    "duration": 106,
    "start_time": "2021-11-16T12:03:03.460Z"
   },
   {
    "duration": 115,
    "start_time": "2022-04-04T03:13:25.410Z"
   },
   {
    "duration": 812,
    "start_time": "2022-04-04T03:13:36.398Z"
   },
   {
    "duration": 162,
    "start_time": "2022-04-04T03:15:54.730Z"
   },
   {
    "duration": 85,
    "start_time": "2022-04-04T03:17:01.759Z"
   },
   {
    "duration": 85,
    "start_time": "2022-04-04T03:17:04.951Z"
   },
   {
    "duration": 3,
    "start_time": "2022-04-04T03:17:08.277Z"
   },
   {
    "duration": 88,
    "start_time": "2022-04-04T03:17:10.989Z"
   },
   {
    "duration": 55,
    "start_time": "2022-04-04T03:17:54.151Z"
   },
   {
    "duration": 9,
    "start_time": "2022-04-04T03:18:13.906Z"
   },
   {
    "duration": 825,
    "start_time": "2022-04-04T14:00:16.155Z"
   },
   {
    "duration": 661,
    "start_time": "2022-04-04T14:00:17.706Z"
   },
   {
    "duration": 13,
    "start_time": "2022-04-04T14:03:53.074Z"
   },
   {
    "duration": 70,
    "start_time": "2022-04-04T14:18:16.130Z"
   },
   {
    "duration": 50,
    "start_time": "2022-04-04T14:18:28.246Z"
   },
   {
    "duration": 55,
    "start_time": "2022-04-04T14:28:22.920Z"
   },
   {
    "duration": 79,
    "start_time": "2022-04-04T14:29:23.609Z"
   },
   {
    "duration": 63,
    "start_time": "2022-04-04T14:30:50.632Z"
   },
   {
    "duration": 47,
    "start_time": "2022-04-04T14:31:44.315Z"
   },
   {
    "duration": 16,
    "start_time": "2022-04-04T14:31:50.135Z"
   },
   {
    "duration": 5,
    "start_time": "2022-04-04T14:32:27.981Z"
   },
   {
    "duration": 15,
    "start_time": "2022-04-04T14:32:32.877Z"
   },
   {
    "duration": 25,
    "start_time": "2022-04-04T14:32:39.594Z"
   },
   {
    "duration": 10,
    "start_time": "2022-04-04T14:55:21.674Z"
   },
   {
    "duration": 8,
    "start_time": "2022-04-04T14:55:38.171Z"
   },
   {
    "duration": 10,
    "start_time": "2022-04-04T14:55:59.259Z"
   },
   {
    "duration": 13,
    "start_time": "2022-04-04T14:56:20.461Z"
   },
   {
    "duration": 183,
    "start_time": "2022-04-04T14:56:31.587Z"
   },
   {
    "duration": 19,
    "start_time": "2022-04-04T14:56:35.035Z"
   },
   {
    "duration": 42,
    "start_time": "2022-04-05T18:02:21.115Z"
   },
   {
    "duration": 760,
    "start_time": "2022-04-05T18:02:28.713Z"
   },
   {
    "duration": 85,
    "start_time": "2022-04-05T18:02:29.476Z"
   },
   {
    "duration": 52,
    "start_time": "2022-04-05T18:02:29.562Z"
   },
   {
    "duration": 10,
    "start_time": "2022-04-05T18:02:29.616Z"
   },
   {
    "duration": 18,
    "start_time": "2022-04-05T18:02:29.628Z"
   },
   {
    "duration": 15,
    "start_time": "2022-04-05T18:02:29.648Z"
   },
   {
    "duration": 3307,
    "start_time": "2022-04-05T18:02:29.664Z"
   },
   {
    "duration": 0,
    "start_time": "2022-04-05T18:02:32.973Z"
   },
   {
    "duration": 0,
    "start_time": "2022-04-05T18:02:32.974Z"
   },
   {
    "duration": 1,
    "start_time": "2022-04-05T18:02:32.974Z"
   },
   {
    "duration": 0,
    "start_time": "2022-04-05T18:02:32.975Z"
   },
   {
    "duration": 0,
    "start_time": "2022-04-05T18:02:32.976Z"
   },
   {
    "duration": 0,
    "start_time": "2022-04-05T18:02:32.977Z"
   },
   {
    "duration": 0,
    "start_time": "2022-04-05T18:02:32.978Z"
   },
   {
    "duration": 0,
    "start_time": "2022-04-05T18:02:32.979Z"
   },
   {
    "duration": 0,
    "start_time": "2022-04-05T18:02:32.979Z"
   },
   {
    "duration": 0,
    "start_time": "2022-04-05T18:02:32.984Z"
   },
   {
    "duration": 0,
    "start_time": "2022-04-05T18:02:32.986Z"
   },
   {
    "duration": 0,
    "start_time": "2022-04-05T18:02:32.987Z"
   },
   {
    "duration": 0,
    "start_time": "2022-04-05T18:02:32.988Z"
   },
   {
    "duration": 0,
    "start_time": "2022-04-05T18:02:32.989Z"
   },
   {
    "duration": 0,
    "start_time": "2022-04-05T18:02:32.991Z"
   },
   {
    "duration": 12,
    "start_time": "2022-04-05T18:02:36.999Z"
   },
   {
    "duration": 12,
    "start_time": "2022-04-05T18:02:44.209Z"
   },
   {
    "duration": 12,
    "start_time": "2022-04-05T18:02:59.663Z"
   },
   {
    "duration": 14,
    "start_time": "2022-04-05T18:03:39.414Z"
   },
   {
    "duration": 17,
    "start_time": "2022-04-05T18:04:28.848Z"
   },
   {
    "duration": 17,
    "start_time": "2022-04-05T18:05:09.462Z"
   },
   {
    "duration": 18,
    "start_time": "2022-04-05T18:05:15.421Z"
   },
   {
    "duration": 187,
    "start_time": "2022-04-05T18:05:29.276Z"
   },
   {
    "duration": 13,
    "start_time": "2022-04-05T18:05:39.181Z"
   },
   {
    "duration": 12,
    "start_time": "2022-04-05T18:08:51.355Z"
   },
   {
    "duration": 96,
    "start_time": "2022-04-05T18:11:31.368Z"
   },
   {
    "duration": 18,
    "start_time": "2022-04-05T18:12:43.682Z"
   },
   {
    "duration": 15,
    "start_time": "2022-04-05T18:13:18.440Z"
   },
   {
    "duration": 15,
    "start_time": "2022-04-05T18:13:28.972Z"
   },
   {
    "duration": 17,
    "start_time": "2022-04-05T18:14:03.279Z"
   },
   {
    "duration": 18,
    "start_time": "2022-04-05T18:14:07.628Z"
   },
   {
    "duration": 17,
    "start_time": "2022-04-05T18:15:11.382Z"
   },
   {
    "duration": 17,
    "start_time": "2022-04-05T18:15:20.366Z"
   },
   {
    "duration": 17,
    "start_time": "2022-04-05T18:15:28.515Z"
   },
   {
    "duration": 16,
    "start_time": "2022-04-05T18:16:37.484Z"
   },
   {
    "duration": 18,
    "start_time": "2022-04-05T18:17:01.248Z"
   },
   {
    "duration": 51,
    "start_time": "2022-04-05T18:18:49.259Z"
   },
   {
    "duration": 53,
    "start_time": "2022-04-05T18:18:55.831Z"
   },
   {
    "duration": 55,
    "start_time": "2022-04-05T18:21:04.347Z"
   },
   {
    "duration": 58,
    "start_time": "2022-04-05T18:21:08.469Z"
   },
   {
    "duration": 59,
    "start_time": "2022-04-05T18:21:30.362Z"
   },
   {
    "duration": 600,
    "start_time": "2022-04-05T18:21:59.025Z"
   },
   {
    "duration": 94,
    "start_time": "2022-04-05T18:21:59.627Z"
   },
   {
    "duration": 98,
    "start_time": "2022-04-05T18:21:59.723Z"
   },
   {
    "duration": 10,
    "start_time": "2022-04-05T18:21:59.823Z"
   },
   {
    "duration": 19,
    "start_time": "2022-04-05T18:21:59.834Z"
   },
   {
    "duration": 65,
    "start_time": "2022-04-05T18:21:59.855Z"
   },
   {
    "duration": 3165,
    "start_time": "2022-04-05T18:21:59.921Z"
   },
   {
    "duration": 0,
    "start_time": "2022-04-05T18:22:03.088Z"
   },
   {
    "duration": 0,
    "start_time": "2022-04-05T18:22:03.089Z"
   },
   {
    "duration": 0,
    "start_time": "2022-04-05T18:22:03.090Z"
   },
   {
    "duration": 0,
    "start_time": "2022-04-05T18:22:03.091Z"
   },
   {
    "duration": 0,
    "start_time": "2022-04-05T18:22:03.091Z"
   },
   {
    "duration": 0,
    "start_time": "2022-04-05T18:22:03.092Z"
   },
   {
    "duration": 0,
    "start_time": "2022-04-05T18:22:03.093Z"
   },
   {
    "duration": 0,
    "start_time": "2022-04-05T18:22:03.094Z"
   },
   {
    "duration": 0,
    "start_time": "2022-04-05T18:22:03.095Z"
   },
   {
    "duration": 0,
    "start_time": "2022-04-05T18:22:03.096Z"
   },
   {
    "duration": 0,
    "start_time": "2022-04-05T18:22:03.097Z"
   },
   {
    "duration": 0,
    "start_time": "2022-04-05T18:22:03.098Z"
   },
   {
    "duration": 0,
    "start_time": "2022-04-05T18:22:03.099Z"
   },
   {
    "duration": 0,
    "start_time": "2022-04-05T18:22:03.100Z"
   },
   {
    "duration": 0,
    "start_time": "2022-04-05T18:22:03.101Z"
   },
   {
    "duration": 53,
    "start_time": "2022-04-05T18:22:14.941Z"
   },
   {
    "duration": 51,
    "start_time": "2022-04-05T18:22:31.549Z"
   },
   {
    "duration": 67,
    "start_time": "2022-04-05T18:28:16.374Z"
   },
   {
    "duration": 156,
    "start_time": "2022-04-05T18:28:47.301Z"
   },
   {
    "duration": 88,
    "start_time": "2022-04-05T18:28:58.576Z"
   },
   {
    "duration": 86,
    "start_time": "2022-04-05T18:29:14.467Z"
   },
   {
    "duration": 89,
    "start_time": "2022-04-05T18:29:37.895Z"
   },
   {
    "duration": 661,
    "start_time": "2022-04-05T18:29:47.594Z"
   },
   {
    "duration": 101,
    "start_time": "2022-04-05T18:29:48.257Z"
   },
   {
    "duration": 97,
    "start_time": "2022-04-05T18:29:48.360Z"
   },
   {
    "duration": 10,
    "start_time": "2022-04-05T18:29:48.460Z"
   },
   {
    "duration": 23,
    "start_time": "2022-04-05T18:29:48.472Z"
   },
   {
    "duration": 101,
    "start_time": "2022-04-05T18:29:48.497Z"
   },
   {
    "duration": 3220,
    "start_time": "2022-04-05T18:29:48.600Z"
   },
   {
    "duration": 0,
    "start_time": "2022-04-05T18:29:51.823Z"
   },
   {
    "duration": 0,
    "start_time": "2022-04-05T18:29:51.825Z"
   },
   {
    "duration": 0,
    "start_time": "2022-04-05T18:29:51.826Z"
   },
   {
    "duration": 0,
    "start_time": "2022-04-05T18:29:51.827Z"
   },
   {
    "duration": 0,
    "start_time": "2022-04-05T18:29:51.827Z"
   },
   {
    "duration": 1,
    "start_time": "2022-04-05T18:29:51.828Z"
   },
   {
    "duration": 0,
    "start_time": "2022-04-05T18:29:51.830Z"
   },
   {
    "duration": 0,
    "start_time": "2022-04-05T18:29:51.831Z"
   },
   {
    "duration": 0,
    "start_time": "2022-04-05T18:29:51.832Z"
   },
   {
    "duration": 0,
    "start_time": "2022-04-05T18:29:51.833Z"
   },
   {
    "duration": 0,
    "start_time": "2022-04-05T18:29:51.834Z"
   },
   {
    "duration": 0,
    "start_time": "2022-04-05T18:29:51.835Z"
   },
   {
    "duration": 0,
    "start_time": "2022-04-05T18:29:51.836Z"
   },
   {
    "duration": 0,
    "start_time": "2022-04-05T18:29:51.838Z"
   },
   {
    "duration": 0,
    "start_time": "2022-04-05T18:29:51.839Z"
   },
   {
    "duration": 104,
    "start_time": "2022-04-05T18:30:00.229Z"
   },
   {
    "duration": 723,
    "start_time": "2022-04-05T18:30:07.877Z"
   },
   {
    "duration": 84,
    "start_time": "2022-04-05T18:30:08.602Z"
   },
   {
    "duration": 104,
    "start_time": "2022-04-05T18:30:08.688Z"
   },
   {
    "duration": 10,
    "start_time": "2022-04-05T18:30:08.795Z"
   },
   {
    "duration": 20,
    "start_time": "2022-04-05T18:30:08.807Z"
   },
   {
    "duration": 107,
    "start_time": "2022-04-05T18:30:08.828Z"
   },
   {
    "duration": 3231,
    "start_time": "2022-04-05T18:30:08.936Z"
   },
   {
    "duration": 0,
    "start_time": "2022-04-05T18:30:12.169Z"
   },
   {
    "duration": 0,
    "start_time": "2022-04-05T18:30:12.170Z"
   },
   {
    "duration": 0,
    "start_time": "2022-04-05T18:30:12.171Z"
   },
   {
    "duration": 0,
    "start_time": "2022-04-05T18:30:12.171Z"
   },
   {
    "duration": 0,
    "start_time": "2022-04-05T18:30:12.173Z"
   },
   {
    "duration": 0,
    "start_time": "2022-04-05T18:30:12.174Z"
   },
   {
    "duration": 0,
    "start_time": "2022-04-05T18:30:12.175Z"
   },
   {
    "duration": 0,
    "start_time": "2022-04-05T18:30:12.175Z"
   },
   {
    "duration": 0,
    "start_time": "2022-04-05T18:30:12.176Z"
   },
   {
    "duration": 0,
    "start_time": "2022-04-05T18:30:12.177Z"
   },
   {
    "duration": 0,
    "start_time": "2022-04-05T18:30:12.178Z"
   },
   {
    "duration": 0,
    "start_time": "2022-04-05T18:30:12.179Z"
   },
   {
    "duration": 0,
    "start_time": "2022-04-05T18:30:12.180Z"
   },
   {
    "duration": 0,
    "start_time": "2022-04-05T18:30:12.181Z"
   },
   {
    "duration": 0,
    "start_time": "2022-04-05T18:30:12.182Z"
   },
   {
    "duration": 106,
    "start_time": "2022-04-05T18:30:47.702Z"
   },
   {
    "duration": 670,
    "start_time": "2022-04-05T18:31:15.971Z"
   },
   {
    "duration": 92,
    "start_time": "2022-04-05T18:31:16.643Z"
   },
   {
    "duration": 89,
    "start_time": "2022-04-05T18:31:16.737Z"
   },
   {
    "duration": 10,
    "start_time": "2022-04-05T18:31:16.828Z"
   },
   {
    "duration": 16,
    "start_time": "2022-04-05T18:31:16.839Z"
   },
   {
    "duration": 98,
    "start_time": "2022-04-05T18:31:16.856Z"
   },
   {
    "duration": 3181,
    "start_time": "2022-04-05T18:31:16.956Z"
   },
   {
    "duration": 0,
    "start_time": "2022-04-05T18:31:20.139Z"
   },
   {
    "duration": 0,
    "start_time": "2022-04-05T18:31:20.141Z"
   },
   {
    "duration": 0,
    "start_time": "2022-04-05T18:31:20.142Z"
   },
   {
    "duration": 0,
    "start_time": "2022-04-05T18:31:20.143Z"
   },
   {
    "duration": 0,
    "start_time": "2022-04-05T18:31:20.144Z"
   },
   {
    "duration": 0,
    "start_time": "2022-04-05T18:31:20.145Z"
   },
   {
    "duration": 0,
    "start_time": "2022-04-05T18:31:20.147Z"
   },
   {
    "duration": 0,
    "start_time": "2022-04-05T18:31:20.148Z"
   },
   {
    "duration": 0,
    "start_time": "2022-04-05T18:31:20.149Z"
   },
   {
    "duration": 0,
    "start_time": "2022-04-05T18:31:20.150Z"
   },
   {
    "duration": 0,
    "start_time": "2022-04-05T18:31:20.152Z"
   },
   {
    "duration": 0,
    "start_time": "2022-04-05T18:31:20.153Z"
   },
   {
    "duration": 0,
    "start_time": "2022-04-05T18:31:20.154Z"
   },
   {
    "duration": 0,
    "start_time": "2022-04-05T18:31:20.155Z"
   },
   {
    "duration": 0,
    "start_time": "2022-04-05T18:31:20.156Z"
   },
   {
    "duration": 58,
    "start_time": "2022-04-05T18:32:12.200Z"
   },
   {
    "duration": 694,
    "start_time": "2022-04-05T18:32:44.561Z"
   },
   {
    "duration": 82,
    "start_time": "2022-04-05T18:32:45.257Z"
   },
   {
    "duration": 104,
    "start_time": "2022-04-05T18:32:45.340Z"
   },
   {
    "duration": 11,
    "start_time": "2022-04-05T18:32:45.446Z"
   },
   {
    "duration": 27,
    "start_time": "2022-04-05T18:32:45.460Z"
   },
   {
    "duration": 49,
    "start_time": "2022-04-05T18:32:45.488Z"
   },
   {
    "duration": 2,
    "start_time": "2022-04-05T18:32:45.539Z"
   },
   {
    "duration": 5,
    "start_time": "2022-04-05T18:32:45.543Z"
   },
   {
    "duration": 7,
    "start_time": "2022-04-05T18:32:45.549Z"
   },
   {
    "duration": 9,
    "start_time": "2022-04-05T18:32:45.559Z"
   },
   {
    "duration": 5,
    "start_time": "2022-04-05T18:32:45.582Z"
   },
   {
    "duration": 4,
    "start_time": "2022-04-05T18:32:45.589Z"
   },
   {
    "duration": 4,
    "start_time": "2022-04-05T18:32:45.594Z"
   },
   {
    "duration": 4,
    "start_time": "2022-04-05T18:32:45.600Z"
   },
   {
    "duration": 5,
    "start_time": "2022-04-05T18:32:45.605Z"
   },
   {
    "duration": 7,
    "start_time": "2022-04-05T18:32:45.611Z"
   },
   {
    "duration": 7,
    "start_time": "2022-04-05T18:32:45.619Z"
   },
   {
    "duration": 4,
    "start_time": "2022-04-05T18:32:45.628Z"
   },
   {
    "duration": 5,
    "start_time": "2022-04-05T18:32:45.633Z"
   },
   {
    "duration": 5,
    "start_time": "2022-04-05T18:32:45.639Z"
   },
   {
    "duration": 5,
    "start_time": "2022-04-05T18:32:45.645Z"
   },
   {
    "duration": 53,
    "start_time": "2022-04-05T18:35:31.706Z"
   },
   {
    "duration": 670,
    "start_time": "2022-04-05T18:35:45.015Z"
   },
   {
    "duration": 85,
    "start_time": "2022-04-05T18:35:45.686Z"
   },
   {
    "duration": 94,
    "start_time": "2022-04-05T18:35:45.773Z"
   },
   {
    "duration": 20,
    "start_time": "2022-04-05T18:35:45.868Z"
   },
   {
    "duration": 19,
    "start_time": "2022-04-05T18:35:45.890Z"
   },
   {
    "duration": 71,
    "start_time": "2022-04-05T18:35:45.910Z"
   },
   {
    "duration": 2,
    "start_time": "2022-04-05T18:35:45.983Z"
   },
   {
    "duration": 4,
    "start_time": "2022-04-05T18:35:45.987Z"
   },
   {
    "duration": 4,
    "start_time": "2022-04-05T18:35:45.993Z"
   },
   {
    "duration": 6,
    "start_time": "2022-04-05T18:35:45.999Z"
   },
   {
    "duration": 10,
    "start_time": "2022-04-05T18:35:46.006Z"
   },
   {
    "duration": 6,
    "start_time": "2022-04-05T18:35:46.018Z"
   },
   {
    "duration": 5,
    "start_time": "2022-04-05T18:35:46.026Z"
   },
   {
    "duration": 4,
    "start_time": "2022-04-05T18:35:46.033Z"
   },
   {
    "duration": 8,
    "start_time": "2022-04-05T18:35:46.039Z"
   },
   {
    "duration": 5,
    "start_time": "2022-04-05T18:35:46.049Z"
   },
   {
    "duration": 7,
    "start_time": "2022-04-05T18:35:46.056Z"
   },
   {
    "duration": 6,
    "start_time": "2022-04-05T18:35:46.064Z"
   },
   {
    "duration": 2,
    "start_time": "2022-04-05T18:35:46.081Z"
   },
   {
    "duration": 7,
    "start_time": "2022-04-05T18:35:46.084Z"
   },
   {
    "duration": 4,
    "start_time": "2022-04-05T18:35:46.093Z"
   },
   {
    "duration": 52,
    "start_time": "2022-04-05T18:37:57.107Z"
   },
   {
    "duration": 7,
    "start_time": "2022-04-05T18:38:28.565Z"
   },
   {
    "duration": 88,
    "start_time": "2022-04-05T18:40:02.917Z"
   },
   {
    "duration": 160,
    "start_time": "2022-04-05T18:41:28.500Z"
   },
   {
    "duration": 90,
    "start_time": "2022-04-05T18:41:53.734Z"
   },
   {
    "duration": 87,
    "start_time": "2022-04-05T18:42:13.679Z"
   },
   {
    "duration": 5,
    "start_time": "2022-04-05T18:44:38.717Z"
   },
   {
    "duration": 98,
    "start_time": "2022-04-05T18:44:46.750Z"
   },
   {
    "duration": 1643,
    "start_time": "2022-04-05T18:49:43.434Z"
   },
   {
    "duration": 5,
    "start_time": "2022-04-05T18:51:45.052Z"
   },
   {
    "duration": 1673,
    "start_time": "2022-04-05T18:52:12.097Z"
   },
   {
    "duration": 1694,
    "start_time": "2022-04-05T18:53:36.984Z"
   },
   {
    "duration": 1643,
    "start_time": "2022-04-05T18:54:13.930Z"
   },
   {
    "duration": 5,
    "start_time": "2022-04-05T18:56:15.304Z"
   },
   {
    "duration": 5,
    "start_time": "2022-04-05T18:56:24.776Z"
   },
   {
    "duration": 5,
    "start_time": "2022-04-05T18:56:41.338Z"
   },
   {
    "duration": 6,
    "start_time": "2022-04-05T18:56:54.844Z"
   },
   {
    "duration": 5,
    "start_time": "2022-04-05T18:57:10.017Z"
   },
   {
    "duration": 5,
    "start_time": "2022-04-05T18:57:13.531Z"
   },
   {
    "duration": 5,
    "start_time": "2022-04-05T18:57:36.068Z"
   },
   {
    "duration": 4,
    "start_time": "2022-04-05T18:57:43.415Z"
   },
   {
    "duration": 6,
    "start_time": "2022-04-05T18:58:05.922Z"
   },
   {
    "duration": 5,
    "start_time": "2022-04-05T18:58:12.062Z"
   },
   {
    "duration": 6,
    "start_time": "2022-04-05T18:58:42.012Z"
   },
   {
    "duration": 6,
    "start_time": "2022-04-05T19:00:02.269Z"
   },
   {
    "duration": 6,
    "start_time": "2022-04-05T19:00:05.726Z"
   },
   {
    "duration": 6,
    "start_time": "2022-04-05T19:00:49.061Z"
   },
   {
    "duration": 5,
    "start_time": "2022-04-05T19:01:11.620Z"
   },
   {
    "duration": 90,
    "start_time": "2022-04-05T19:01:58.195Z"
   },
   {
    "duration": 107,
    "start_time": "2022-04-05T19:03:29.718Z"
   },
   {
    "duration": 117,
    "start_time": "2022-04-05T19:05:01.725Z"
   },
   {
    "duration": 122,
    "start_time": "2022-04-05T19:08:20.766Z"
   },
   {
    "duration": 647,
    "start_time": "2022-04-05T19:08:31.487Z"
   },
   {
    "duration": 98,
    "start_time": "2022-04-05T19:08:32.136Z"
   },
   {
    "duration": 93,
    "start_time": "2022-04-05T19:08:32.236Z"
   },
   {
    "duration": 11,
    "start_time": "2022-04-05T19:08:32.331Z"
   },
   {
    "duration": 21,
    "start_time": "2022-04-05T19:08:32.343Z"
   },
   {
    "duration": 199,
    "start_time": "2022-04-05T19:08:32.365Z"
   },
   {
    "duration": 0,
    "start_time": "2022-04-05T19:08:32.567Z"
   },
   {
    "duration": 0,
    "start_time": "2022-04-05T19:08:32.568Z"
   },
   {
    "duration": 0,
    "start_time": "2022-04-05T19:08:32.581Z"
   },
   {
    "duration": 0,
    "start_time": "2022-04-05T19:08:32.582Z"
   },
   {
    "duration": 0,
    "start_time": "2022-04-05T19:08:32.583Z"
   },
   {
    "duration": 0,
    "start_time": "2022-04-05T19:08:32.584Z"
   },
   {
    "duration": 0,
    "start_time": "2022-04-05T19:08:32.586Z"
   },
   {
    "duration": 0,
    "start_time": "2022-04-05T19:08:32.587Z"
   },
   {
    "duration": 0,
    "start_time": "2022-04-05T19:08:32.588Z"
   },
   {
    "duration": 0,
    "start_time": "2022-04-05T19:08:32.589Z"
   },
   {
    "duration": 0,
    "start_time": "2022-04-05T19:08:32.590Z"
   },
   {
    "duration": 0,
    "start_time": "2022-04-05T19:08:32.592Z"
   },
   {
    "duration": 0,
    "start_time": "2022-04-05T19:08:32.592Z"
   },
   {
    "duration": 0,
    "start_time": "2022-04-05T19:08:32.593Z"
   },
   {
    "duration": 0,
    "start_time": "2022-04-05T19:08:32.594Z"
   },
   {
    "duration": 129,
    "start_time": "2022-04-05T19:09:37.476Z"
   },
   {
    "duration": 98,
    "start_time": "2022-04-05T19:09:50.000Z"
   },
   {
    "duration": 105,
    "start_time": "2022-04-05T19:10:25.039Z"
   },
   {
    "duration": 48,
    "start_time": "2022-04-05T19:11:41.085Z"
   },
   {
    "duration": 49,
    "start_time": "2022-04-05T19:12:06.626Z"
   },
   {
    "duration": 50,
    "start_time": "2022-04-05T19:12:20.191Z"
   },
   {
    "duration": 54,
    "start_time": "2022-04-05T19:12:35.872Z"
   },
   {
    "duration": 672,
    "start_time": "2022-04-05T19:13:02.065Z"
   },
   {
    "duration": 92,
    "start_time": "2022-04-05T19:13:02.739Z"
   },
   {
    "duration": 98,
    "start_time": "2022-04-05T19:13:02.833Z"
   },
   {
    "duration": 11,
    "start_time": "2022-04-05T19:13:02.932Z"
   },
   {
    "duration": 17,
    "start_time": "2022-04-05T19:13:02.944Z"
   },
   {
    "duration": 65,
    "start_time": "2022-04-05T19:13:02.962Z"
   },
   {
    "duration": 2,
    "start_time": "2022-04-05T19:13:03.029Z"
   },
   {
    "duration": 7,
    "start_time": "2022-04-05T19:13:03.032Z"
   },
   {
    "duration": 4,
    "start_time": "2022-04-05T19:13:03.041Z"
   },
   {
    "duration": 5,
    "start_time": "2022-04-05T19:13:03.047Z"
   },
   {
    "duration": 5,
    "start_time": "2022-04-05T19:13:03.053Z"
   },
   {
    "duration": 5,
    "start_time": "2022-04-05T19:13:03.059Z"
   },
   {
    "duration": 6,
    "start_time": "2022-04-05T19:13:03.081Z"
   },
   {
    "duration": 4,
    "start_time": "2022-04-05T19:13:03.089Z"
   },
   {
    "duration": 5,
    "start_time": "2022-04-05T19:13:03.095Z"
   },
   {
    "duration": 5,
    "start_time": "2022-04-05T19:13:03.101Z"
   },
   {
    "duration": 5,
    "start_time": "2022-04-05T19:13:03.108Z"
   },
   {
    "duration": 8,
    "start_time": "2022-04-05T19:13:03.115Z"
   },
   {
    "duration": 9,
    "start_time": "2022-04-05T19:13:03.125Z"
   },
   {
    "duration": 6,
    "start_time": "2022-04-05T19:13:03.135Z"
   },
   {
    "duration": 5,
    "start_time": "2022-04-05T19:13:03.142Z"
   },
   {
    "duration": 618,
    "start_time": "2022-04-05T19:13:53.426Z"
   },
   {
    "duration": 87,
    "start_time": "2022-04-05T19:13:54.046Z"
   },
   {
    "duration": 103,
    "start_time": "2022-04-05T19:13:54.134Z"
   },
   {
    "duration": 11,
    "start_time": "2022-04-05T19:13:54.239Z"
   },
   {
    "duration": 31,
    "start_time": "2022-04-05T19:13:54.252Z"
   },
   {
    "duration": 104,
    "start_time": "2022-04-05T19:13:54.285Z"
   },
   {
    "duration": 2,
    "start_time": "2022-04-05T19:13:54.390Z"
   },
   {
    "duration": 7,
    "start_time": "2022-04-05T19:13:54.394Z"
   },
   {
    "duration": 4,
    "start_time": "2022-04-05T19:13:54.402Z"
   },
   {
    "duration": 4,
    "start_time": "2022-04-05T19:13:54.408Z"
   },
   {
    "duration": 5,
    "start_time": "2022-04-05T19:13:54.413Z"
   },
   {
    "duration": 6,
    "start_time": "2022-04-05T19:13:54.419Z"
   },
   {
    "duration": 5,
    "start_time": "2022-04-05T19:13:54.427Z"
   },
   {
    "duration": 3,
    "start_time": "2022-04-05T19:13:54.434Z"
   },
   {
    "duration": 6,
    "start_time": "2022-04-05T19:13:54.438Z"
   },
   {
    "duration": 4,
    "start_time": "2022-04-05T19:13:54.445Z"
   },
   {
    "duration": 4,
    "start_time": "2022-04-05T19:13:54.451Z"
   },
   {
    "duration": 4,
    "start_time": "2022-04-05T19:13:54.456Z"
   },
   {
    "duration": 2,
    "start_time": "2022-04-05T19:13:54.480Z"
   },
   {
    "duration": 4,
    "start_time": "2022-04-05T19:13:54.484Z"
   },
   {
    "duration": 4,
    "start_time": "2022-04-05T19:13:54.490Z"
   },
   {
    "duration": 102,
    "start_time": "2022-04-05T19:14:17.014Z"
   },
   {
    "duration": 5,
    "start_time": "2022-04-05T19:14:30.940Z"
   },
   {
    "duration": 68,
    "start_time": "2022-04-05T19:14:35.854Z"
   },
   {
    "duration": 56,
    "start_time": "2022-04-05T19:18:04.465Z"
   },
   {
    "duration": 624,
    "start_time": "2022-04-05T19:18:12.030Z"
   },
   {
    "duration": 88,
    "start_time": "2022-04-05T19:18:12.656Z"
   },
   {
    "duration": 107,
    "start_time": "2022-04-05T19:18:12.746Z"
   },
   {
    "duration": 12,
    "start_time": "2022-04-05T19:18:12.855Z"
   },
   {
    "duration": 18,
    "start_time": "2022-04-05T19:18:12.881Z"
   },
   {
    "duration": 60,
    "start_time": "2022-04-05T19:18:12.900Z"
   },
   {
    "duration": 3,
    "start_time": "2022-04-05T19:18:12.961Z"
   },
   {
    "duration": 3,
    "start_time": "2022-04-05T19:18:12.981Z"
   },
   {
    "duration": 5,
    "start_time": "2022-04-05T19:18:12.986Z"
   },
   {
    "duration": 3,
    "start_time": "2022-04-05T19:18:12.994Z"
   },
   {
    "duration": 5,
    "start_time": "2022-04-05T19:18:12.999Z"
   },
   {
    "duration": 5,
    "start_time": "2022-04-05T19:18:13.005Z"
   },
   {
    "duration": 6,
    "start_time": "2022-04-05T19:18:13.011Z"
   },
   {
    "duration": 7,
    "start_time": "2022-04-05T19:18:13.019Z"
   },
   {
    "duration": 7,
    "start_time": "2022-04-05T19:18:13.027Z"
   },
   {
    "duration": 5,
    "start_time": "2022-04-05T19:18:13.035Z"
   },
   {
    "duration": 6,
    "start_time": "2022-04-05T19:18:13.042Z"
   },
   {
    "duration": 6,
    "start_time": "2022-04-05T19:18:13.049Z"
   },
   {
    "duration": 25,
    "start_time": "2022-04-05T19:18:13.056Z"
   },
   {
    "duration": 5,
    "start_time": "2022-04-05T19:18:13.083Z"
   },
   {
    "duration": 9,
    "start_time": "2022-04-05T19:18:13.090Z"
   },
   {
    "duration": 195,
    "start_time": "2022-04-05T19:24:41.737Z"
   },
   {
    "duration": 193,
    "start_time": "2022-04-05T19:24:53.589Z"
   },
   {
    "duration": 230,
    "start_time": "2022-04-05T19:25:02.719Z"
   },
   {
    "duration": 67,
    "start_time": "2022-04-05T19:25:53.847Z"
   },
   {
    "duration": 62,
    "start_time": "2022-04-05T19:34:32.708Z"
   },
   {
    "duration": 56,
    "start_time": "2022-04-05T19:35:11.588Z"
   },
   {
    "duration": 5,
    "start_time": "2022-04-05T19:35:35.707Z"
   },
   {
    "duration": 4,
    "start_time": "2022-04-05T19:35:41.911Z"
   },
   {
    "duration": 5,
    "start_time": "2022-04-05T19:35:47.363Z"
   },
   {
    "duration": 187,
    "start_time": "2022-04-05T19:38:06.409Z"
   },
   {
    "duration": 236,
    "start_time": "2022-04-05T19:38:11.851Z"
   },
   {
    "duration": 123,
    "start_time": "2022-04-05T19:38:14.634Z"
   },
   {
    "duration": 66,
    "start_time": "2022-04-05T19:38:24.280Z"
   },
   {
    "duration": 60,
    "start_time": "2022-04-05T19:39:18.751Z"
   },
   {
    "duration": 60,
    "start_time": "2022-04-05T19:39:29.390Z"
   },
   {
    "duration": 68,
    "start_time": "2022-04-05T19:39:48.588Z"
   },
   {
    "duration": 68,
    "start_time": "2022-04-05T19:40:21.253Z"
   },
   {
    "duration": 56,
    "start_time": "2022-04-05T19:41:09.854Z"
   },
   {
    "duration": 60,
    "start_time": "2022-04-05T19:41:31.120Z"
   },
   {
    "duration": 53,
    "start_time": "2022-04-05T19:41:34.030Z"
   },
   {
    "duration": 5,
    "start_time": "2022-04-05T19:45:48.750Z"
   },
   {
    "duration": 77,
    "start_time": "2022-04-05T19:45:54.139Z"
   },
   {
    "duration": 71,
    "start_time": "2022-04-05T19:46:12.628Z"
   },
   {
    "duration": 75,
    "start_time": "2022-04-05T19:46:33.312Z"
   },
   {
    "duration": 61,
    "start_time": "2022-04-05T19:46:44.223Z"
   },
   {
    "duration": 59,
    "start_time": "2022-04-05T19:47:45.154Z"
   },
   {
    "duration": 5,
    "start_time": "2022-04-05T19:51:55.524Z"
   },
   {
    "duration": 1721,
    "start_time": "2022-04-05T19:51:59.873Z"
   },
   {
    "duration": 1668,
    "start_time": "2022-04-05T19:52:24.022Z"
   },
   {
    "duration": 76,
    "start_time": "2022-04-05T19:53:11.153Z"
   },
   {
    "duration": 80,
    "start_time": "2022-04-05T19:54:31.508Z"
   },
   {
    "duration": 1081,
    "start_time": "2022-04-06T02:02:23.857Z"
   },
   {
    "duration": 123,
    "start_time": "2022-04-06T02:02:24.941Z"
   },
   {
    "duration": 146,
    "start_time": "2022-04-06T02:02:25.066Z"
   },
   {
    "duration": 17,
    "start_time": "2022-04-06T02:02:25.215Z"
   },
   {
    "duration": 46,
    "start_time": "2022-04-06T02:02:25.234Z"
   },
   {
    "duration": 162,
    "start_time": "2022-04-06T02:02:25.283Z"
   },
   {
    "duration": 3,
    "start_time": "2022-04-06T02:02:25.447Z"
   },
   {
    "duration": 23,
    "start_time": "2022-04-06T02:02:25.452Z"
   },
   {
    "duration": 7,
    "start_time": "2022-04-06T02:02:25.477Z"
   },
   {
    "duration": 4,
    "start_time": "2022-04-06T02:02:25.488Z"
   },
   {
    "duration": 5,
    "start_time": "2022-04-06T02:02:25.494Z"
   },
   {
    "duration": 6,
    "start_time": "2022-04-06T02:02:25.501Z"
   },
   {
    "duration": 5,
    "start_time": "2022-04-06T02:02:25.509Z"
   },
   {
    "duration": 6,
    "start_time": "2022-04-06T02:02:25.516Z"
   },
   {
    "duration": 7,
    "start_time": "2022-04-06T02:02:25.524Z"
   },
   {
    "duration": 10,
    "start_time": "2022-04-06T02:02:25.533Z"
   },
   {
    "duration": 3,
    "start_time": "2022-04-06T02:02:25.575Z"
   },
   {
    "duration": 5,
    "start_time": "2022-04-06T02:02:25.581Z"
   },
   {
    "duration": 5,
    "start_time": "2022-04-06T02:02:25.588Z"
   },
   {
    "duration": 5,
    "start_time": "2022-04-06T02:02:25.595Z"
   },
   {
    "duration": 6,
    "start_time": "2022-04-06T02:02:25.602Z"
   },
   {
    "duration": 142,
    "start_time": "2022-04-06T02:04:07.231Z"
   },
   {
    "duration": 132,
    "start_time": "2022-04-06T02:09:44.859Z"
   },
   {
    "duration": 144,
    "start_time": "2022-04-06T02:11:20.899Z"
   },
   {
    "duration": 137,
    "start_time": "2022-04-06T02:12:57.279Z"
   },
   {
    "duration": 155,
    "start_time": "2022-04-06T02:14:24.513Z"
   },
   {
    "duration": 133,
    "start_time": "2022-04-06T02:16:15.089Z"
   },
   {
    "duration": 135,
    "start_time": "2022-04-06T02:16:37.203Z"
   },
   {
    "duration": 132,
    "start_time": "2022-04-06T02:16:45.203Z"
   },
   {
    "duration": 140,
    "start_time": "2022-04-06T02:17:00.770Z"
   },
   {
    "duration": 140,
    "start_time": "2022-04-06T02:25:19.162Z"
   },
   {
    "duration": 138,
    "start_time": "2022-04-06T02:25:47.949Z"
   },
   {
    "duration": 12,
    "start_time": "2022-04-06T02:30:01.256Z"
   },
   {
    "duration": 144,
    "start_time": "2022-04-06T02:30:08.771Z"
   },
   {
    "duration": 372,
    "start_time": "2022-04-06T02:32:43.348Z"
   },
   {
    "duration": 342,
    "start_time": "2022-04-06T02:33:15.621Z"
   },
   {
    "duration": 344,
    "start_time": "2022-04-06T02:33:28.229Z"
   },
   {
    "duration": 420,
    "start_time": "2022-04-06T02:34:05.040Z"
   },
   {
    "duration": 361,
    "start_time": "2022-04-06T02:34:20.915Z"
   },
   {
    "duration": 105,
    "start_time": "2022-04-06T02:35:07.425Z"
   },
   {
    "duration": 111,
    "start_time": "2022-04-06T02:35:28.732Z"
   },
   {
    "duration": 341,
    "start_time": "2022-04-06T02:35:34.643Z"
   },
   {
    "duration": 348,
    "start_time": "2022-04-06T02:36:11.756Z"
   },
   {
    "duration": 139,
    "start_time": "2022-04-06T02:36:23.845Z"
   },
   {
    "duration": 138,
    "start_time": "2022-04-06T02:36:56.437Z"
   },
   {
    "duration": 840,
    "start_time": "2022-04-06T02:37:15.052Z"
   },
   {
    "duration": 116,
    "start_time": "2022-04-06T02:37:15.895Z"
   },
   {
    "duration": 148,
    "start_time": "2022-04-06T02:37:16.013Z"
   },
   {
    "duration": 18,
    "start_time": "2022-04-06T02:37:16.163Z"
   },
   {
    "duration": 27,
    "start_time": "2022-04-06T02:37:16.184Z"
   },
   {
    "duration": 229,
    "start_time": "2022-04-06T02:37:16.213Z"
   },
   {
    "duration": 3,
    "start_time": "2022-04-06T02:37:16.444Z"
   },
   {
    "duration": 28,
    "start_time": "2022-04-06T02:37:16.449Z"
   },
   {
    "duration": 16,
    "start_time": "2022-04-06T02:37:16.479Z"
   },
   {
    "duration": 6,
    "start_time": "2022-04-06T02:37:16.497Z"
   },
   {
    "duration": 15,
    "start_time": "2022-04-06T02:37:16.505Z"
   },
   {
    "duration": 11,
    "start_time": "2022-04-06T02:37:16.522Z"
   },
   {
    "duration": 17,
    "start_time": "2022-04-06T02:37:16.535Z"
   },
   {
    "duration": 20,
    "start_time": "2022-04-06T02:37:16.556Z"
   },
   {
    "duration": 18,
    "start_time": "2022-04-06T02:37:16.578Z"
   },
   {
    "duration": 13,
    "start_time": "2022-04-06T02:37:16.598Z"
   },
   {
    "duration": 16,
    "start_time": "2022-04-06T02:37:16.613Z"
   },
   {
    "duration": 13,
    "start_time": "2022-04-06T02:37:16.631Z"
   },
   {
    "duration": 15,
    "start_time": "2022-04-06T02:37:16.645Z"
   },
   {
    "duration": 21,
    "start_time": "2022-04-06T02:37:16.662Z"
   },
   {
    "duration": 16,
    "start_time": "2022-04-06T02:37:16.685Z"
   },
   {
    "duration": 141,
    "start_time": "2022-04-06T02:38:21.281Z"
   },
   {
    "duration": 153,
    "start_time": "2022-04-06T02:41:31.483Z"
   },
   {
    "duration": 167,
    "start_time": "2022-04-06T02:42:41.975Z"
   },
   {
    "duration": 97,
    "start_time": "2022-04-06T03:05:12.223Z"
   },
   {
    "duration": 108,
    "start_time": "2022-04-06T03:05:37.013Z"
   },
   {
    "duration": 98,
    "start_time": "2022-04-06T03:05:43.316Z"
   },
   {
    "duration": 104,
    "start_time": "2022-04-06T03:07:40.708Z"
   },
   {
    "duration": 116,
    "start_time": "2022-04-06T03:09:23.779Z"
   },
   {
    "duration": 105,
    "start_time": "2022-04-06T03:09:29.974Z"
   },
   {
    "duration": 105,
    "start_time": "2022-04-06T03:13:52.624Z"
   },
   {
    "duration": 95,
    "start_time": "2022-04-06T03:14:06.453Z"
   },
   {
    "duration": 97,
    "start_time": "2022-04-06T03:15:18.798Z"
   },
   {
    "duration": 11,
    "start_time": "2022-04-06T03:18:27.164Z"
   },
   {
    "duration": 788,
    "start_time": "2022-04-06T03:18:35.364Z"
   },
   {
    "duration": 14,
    "start_time": "2022-04-06T03:18:49.894Z"
   },
   {
    "duration": 19,
    "start_time": "2022-04-06T03:18:55.363Z"
   },
   {
    "duration": 44,
    "start_time": "2022-04-06T03:20:01.549Z"
   },
   {
    "duration": 119,
    "start_time": "2022-04-06T19:38:40.262Z"
   },
   {
    "duration": 8,
    "start_time": "2022-04-06T19:38:43.270Z"
   },
   {
    "duration": 1057,
    "start_time": "2022-04-06T19:38:48.375Z"
   },
   {
    "duration": 107,
    "start_time": "2022-04-06T19:38:49.435Z"
   },
   {
    "duration": 141,
    "start_time": "2022-04-06T19:38:49.544Z"
   },
   {
    "duration": 18,
    "start_time": "2022-04-06T19:38:49.688Z"
   },
   {
    "duration": 26,
    "start_time": "2022-04-06T19:38:49.708Z"
   },
   {
    "duration": 255,
    "start_time": "2022-04-06T19:38:49.737Z"
   },
   {
    "duration": 38,
    "start_time": "2022-04-06T19:38:49.996Z"
   },
   {
    "duration": 32,
    "start_time": "2022-04-06T19:38:50.037Z"
   },
   {
    "duration": 3,
    "start_time": "2022-04-06T19:38:50.072Z"
   },
   {
    "duration": 3,
    "start_time": "2022-04-06T19:38:50.081Z"
   },
   {
    "duration": 4,
    "start_time": "2022-04-06T19:38:50.086Z"
   },
   {
    "duration": 4,
    "start_time": "2022-04-06T19:38:50.093Z"
   },
   {
    "duration": 9,
    "start_time": "2022-04-06T19:38:50.100Z"
   },
   {
    "duration": 5,
    "start_time": "2022-04-06T19:38:50.111Z"
   },
   {
    "duration": 51,
    "start_time": "2022-04-06T19:38:50.118Z"
   },
   {
    "duration": 9,
    "start_time": "2022-04-06T19:38:50.171Z"
   },
   {
    "duration": 5,
    "start_time": "2022-04-06T19:38:50.182Z"
   },
   {
    "duration": 8,
    "start_time": "2022-04-06T19:38:50.190Z"
   },
   {
    "duration": 6,
    "start_time": "2022-04-06T19:38:50.200Z"
   },
   {
    "duration": 6,
    "start_time": "2022-04-06T19:38:50.209Z"
   },
   {
    "duration": 10,
    "start_time": "2022-04-06T19:38:50.217Z"
   },
   {
    "duration": 7,
    "start_time": "2022-04-06T19:38:50.229Z"
   },
   {
    "duration": 105,
    "start_time": "2022-04-06T19:40:23.465Z"
   },
   {
    "duration": 11,
    "start_time": "2022-04-06T19:40:29.343Z"
   },
   {
    "duration": 10,
    "start_time": "2022-04-06T19:42:08.184Z"
   },
   {
    "duration": 11,
    "start_time": "2022-04-06T19:42:10.499Z"
   },
   {
    "duration": 11,
    "start_time": "2022-04-06T19:42:32.716Z"
   },
   {
    "duration": 12,
    "start_time": "2022-04-06T19:48:04.454Z"
   },
   {
    "duration": 11,
    "start_time": "2022-04-06T19:48:07.637Z"
   },
   {
    "duration": 808,
    "start_time": "2022-04-06T19:48:22.530Z"
   },
   {
    "duration": 108,
    "start_time": "2022-04-06T19:48:23.341Z"
   },
   {
    "duration": 138,
    "start_time": "2022-04-06T19:48:23.451Z"
   },
   {
    "duration": 17,
    "start_time": "2022-04-06T19:48:23.592Z"
   },
   {
    "duration": 25,
    "start_time": "2022-04-06T19:48:23.611Z"
   },
   {
    "duration": 258,
    "start_time": "2022-04-06T19:48:23.638Z"
   },
   {
    "duration": 37,
    "start_time": "2022-04-06T19:48:23.898Z"
   },
   {
    "duration": 32,
    "start_time": "2022-04-06T19:48:23.938Z"
   },
   {
    "duration": 4,
    "start_time": "2022-04-06T19:48:23.972Z"
   },
   {
    "duration": 9,
    "start_time": "2022-04-06T19:48:23.979Z"
   },
   {
    "duration": 7,
    "start_time": "2022-04-06T19:48:23.990Z"
   },
   {
    "duration": 8,
    "start_time": "2022-04-06T19:48:23.999Z"
   },
   {
    "duration": 6,
    "start_time": "2022-04-06T19:48:24.009Z"
   },
   {
    "duration": 8,
    "start_time": "2022-04-06T19:48:24.017Z"
   },
   {
    "duration": 5,
    "start_time": "2022-04-06T19:48:24.028Z"
   },
   {
    "duration": 3,
    "start_time": "2022-04-06T19:48:24.068Z"
   },
   {
    "duration": 7,
    "start_time": "2022-04-06T19:48:24.074Z"
   },
   {
    "duration": 6,
    "start_time": "2022-04-06T19:48:24.083Z"
   },
   {
    "duration": 6,
    "start_time": "2022-04-06T19:48:24.091Z"
   },
   {
    "duration": 5,
    "start_time": "2022-04-06T19:48:24.099Z"
   },
   {
    "duration": 10,
    "start_time": "2022-04-06T19:48:24.106Z"
   },
   {
    "duration": 7,
    "start_time": "2022-04-06T19:48:24.117Z"
   },
   {
    "duration": 106,
    "start_time": "2022-04-06T19:52:19.756Z"
   },
   {
    "duration": 47,
    "start_time": "2022-04-06T19:52:54.500Z"
   },
   {
    "duration": 92,
    "start_time": "2022-04-06T19:53:20.913Z"
   },
   {
    "duration": 50,
    "start_time": "2022-04-06T19:54:03.567Z"
   },
   {
    "duration": 11,
    "start_time": "2022-04-06T19:57:16.690Z"
   },
   {
    "duration": 13,
    "start_time": "2022-04-06T19:57:19.767Z"
   },
   {
    "duration": 12,
    "start_time": "2022-04-06T19:57:30.245Z"
   },
   {
    "duration": 4,
    "start_time": "2022-04-06T20:02:01.480Z"
   },
   {
    "duration": 4,
    "start_time": "2022-04-06T20:02:12.785Z"
   },
   {
    "duration": 852,
    "start_time": "2022-04-06T20:02:21.641Z"
   },
   {
    "duration": 115,
    "start_time": "2022-04-06T20:02:22.496Z"
   },
   {
    "duration": 145,
    "start_time": "2022-04-06T20:02:22.613Z"
   },
   {
    "duration": 18,
    "start_time": "2022-04-06T20:02:22.770Z"
   },
   {
    "duration": 28,
    "start_time": "2022-04-06T20:02:22.791Z"
   },
   {
    "duration": 255,
    "start_time": "2022-04-06T20:02:22.822Z"
   },
   {
    "duration": 37,
    "start_time": "2022-04-06T20:02:23.079Z"
   },
   {
    "duration": 1718,
    "start_time": "2022-04-06T20:02:23.118Z"
   },
   {
    "duration": 0,
    "start_time": "2022-04-06T20:02:24.838Z"
   },
   {
    "duration": 0,
    "start_time": "2022-04-06T20:02:24.840Z"
   },
   {
    "duration": 0,
    "start_time": "2022-04-06T20:02:24.842Z"
   },
   {
    "duration": 0,
    "start_time": "2022-04-06T20:02:24.843Z"
   },
   {
    "duration": 0,
    "start_time": "2022-04-06T20:02:24.845Z"
   },
   {
    "duration": 0,
    "start_time": "2022-04-06T20:02:24.847Z"
   },
   {
    "duration": 0,
    "start_time": "2022-04-06T20:02:24.848Z"
   },
   {
    "duration": 0,
    "start_time": "2022-04-06T20:02:24.850Z"
   },
   {
    "duration": 0,
    "start_time": "2022-04-06T20:02:24.852Z"
   },
   {
    "duration": 0,
    "start_time": "2022-04-06T20:02:24.854Z"
   },
   {
    "duration": 0,
    "start_time": "2022-04-06T20:02:24.856Z"
   },
   {
    "duration": 0,
    "start_time": "2022-04-06T20:02:24.857Z"
   },
   {
    "duration": 0,
    "start_time": "2022-04-06T20:02:24.859Z"
   },
   {
    "duration": 0,
    "start_time": "2022-04-06T20:02:24.861Z"
   },
   {
    "duration": 50,
    "start_time": "2022-04-06T20:03:42.284Z"
   },
   {
    "duration": 9,
    "start_time": "2022-04-06T20:03:51.401Z"
   },
   {
    "duration": 10,
    "start_time": "2022-04-06T20:03:56.765Z"
   },
   {
    "duration": 10,
    "start_time": "2022-04-06T20:04:07.718Z"
   },
   {
    "duration": 11,
    "start_time": "2022-04-06T20:04:28.239Z"
   },
   {
    "duration": 84,
    "start_time": "2022-04-06T20:06:56.730Z"
   },
   {
    "duration": 12,
    "start_time": "2022-04-06T20:07:00.257Z"
   },
   {
    "duration": 6,
    "start_time": "2022-04-06T20:07:09.093Z"
   },
   {
    "duration": 775,
    "start_time": "2022-04-06T20:07:23.668Z"
   },
   {
    "duration": 957,
    "start_time": "2022-04-06T20:08:31.300Z"
   },
   {
    "duration": 23,
    "start_time": "2022-04-06T20:09:50.305Z"
   },
   {
    "duration": 11,
    "start_time": "2022-04-06T20:11:07.867Z"
   },
   {
    "duration": 22,
    "start_time": "2022-04-06T20:11:17.595Z"
   },
   {
    "duration": 4,
    "start_time": "2022-04-06T20:14:06.046Z"
   },
   {
    "duration": 5,
    "start_time": "2022-04-06T20:14:08.494Z"
   },
   {
    "duration": 7,
    "start_time": "2022-04-06T20:14:28.072Z"
   },
   {
    "duration": 8,
    "start_time": "2022-04-06T20:14:44.854Z"
   },
   {
    "duration": 803,
    "start_time": "2022-04-06T20:49:26.232Z"
   },
   {
    "duration": 95,
    "start_time": "2022-04-06T20:49:27.037Z"
   },
   {
    "duration": 110,
    "start_time": "2022-04-06T20:49:27.134Z"
   },
   {
    "duration": 12,
    "start_time": "2022-04-06T20:49:27.246Z"
   },
   {
    "duration": 38,
    "start_time": "2022-04-06T20:49:27.259Z"
   },
   {
    "duration": 160,
    "start_time": "2022-04-06T20:49:27.299Z"
   },
   {
    "duration": 29,
    "start_time": "2022-04-06T20:49:27.460Z"
   },
   {
    "duration": 36,
    "start_time": "2022-04-06T20:49:27.501Z"
   },
   {
    "duration": 5,
    "start_time": "2022-04-06T20:49:27.539Z"
   },
   {
    "duration": 3,
    "start_time": "2022-04-06T20:49:27.546Z"
   },
   {
    "duration": 7,
    "start_time": "2022-04-06T20:49:27.551Z"
   },
   {
    "duration": 4,
    "start_time": "2022-04-06T20:49:27.560Z"
   },
   {
    "duration": 4,
    "start_time": "2022-04-06T20:49:27.565Z"
   },
   {
    "duration": 30,
    "start_time": "2022-04-06T20:49:27.571Z"
   },
   {
    "duration": 6,
    "start_time": "2022-04-06T20:49:27.603Z"
   },
   {
    "duration": 7,
    "start_time": "2022-04-06T20:49:27.610Z"
   },
   {
    "duration": 11,
    "start_time": "2022-04-06T20:49:27.618Z"
   },
   {
    "duration": 9,
    "start_time": "2022-04-06T20:49:27.630Z"
   },
   {
    "duration": 8,
    "start_time": "2022-04-06T20:49:27.640Z"
   },
   {
    "duration": 9,
    "start_time": "2022-04-06T20:49:27.650Z"
   },
   {
    "duration": 8,
    "start_time": "2022-04-06T20:49:27.660Z"
   },
   {
    "duration": 12,
    "start_time": "2022-04-06T20:49:27.669Z"
   },
   {
    "duration": 5,
    "start_time": "2022-04-06T20:50:03.687Z"
   },
   {
    "duration": 6,
    "start_time": "2022-04-06T20:50:17.864Z"
   },
   {
    "duration": 5,
    "start_time": "2022-04-06T20:50:41.866Z"
   },
   {
    "duration": 6,
    "start_time": "2022-04-06T20:50:57.223Z"
   },
   {
    "duration": 3,
    "start_time": "2022-04-06T20:56:13.603Z"
   },
   {
    "duration": 8,
    "start_time": "2022-04-06T20:56:41.965Z"
   },
   {
    "duration": 50,
    "start_time": "2022-04-06T21:04:12.530Z"
   },
   {
    "duration": 743,
    "start_time": "2022-04-06T21:04:18.192Z"
   },
   {
    "duration": 90,
    "start_time": "2022-04-06T21:04:18.938Z"
   },
   {
    "duration": 100,
    "start_time": "2022-04-06T21:04:19.030Z"
   },
   {
    "duration": 12,
    "start_time": "2022-04-06T21:04:19.132Z"
   },
   {
    "duration": 18,
    "start_time": "2022-04-06T21:04:19.146Z"
   },
   {
    "duration": 171,
    "start_time": "2022-04-06T21:04:19.165Z"
   },
   {
    "duration": 24,
    "start_time": "2022-04-06T21:04:19.338Z"
   },
   {
    "duration": 47,
    "start_time": "2022-04-06T21:04:19.364Z"
   },
   {
    "duration": 6,
    "start_time": "2022-04-06T21:04:19.413Z"
   },
   {
    "duration": 48,
    "start_time": "2022-04-06T21:04:32.181Z"
   },
   {
    "duration": 694,
    "start_time": "2022-04-06T21:04:47.705Z"
   },
   {
    "duration": 84,
    "start_time": "2022-04-06T21:04:48.401Z"
   },
   {
    "duration": 96,
    "start_time": "2022-04-06T21:04:48.486Z"
   },
   {
    "duration": 10,
    "start_time": "2022-04-06T21:04:48.584Z"
   },
   {
    "duration": 20,
    "start_time": "2022-04-06T21:04:48.596Z"
   },
   {
    "duration": 152,
    "start_time": "2022-04-06T21:04:48.617Z"
   },
   {
    "duration": 31,
    "start_time": "2022-04-06T21:04:48.771Z"
   },
   {
    "duration": 32,
    "start_time": "2022-04-06T21:04:48.803Z"
   },
   {
    "duration": 5,
    "start_time": "2022-04-06T21:04:48.837Z"
   },
   {
    "duration": 47,
    "start_time": "2022-04-06T21:51:59.533Z"
   },
   {
    "duration": 688,
    "start_time": "2022-04-06T21:52:06.247Z"
   },
   {
    "duration": 96,
    "start_time": "2022-04-06T21:52:06.937Z"
   },
   {
    "duration": 105,
    "start_time": "2022-04-06T21:52:07.034Z"
   },
   {
    "duration": 12,
    "start_time": "2022-04-06T21:52:07.141Z"
   },
   {
    "duration": 18,
    "start_time": "2022-04-06T21:52:07.155Z"
   },
   {
    "duration": 175,
    "start_time": "2022-04-06T21:52:07.174Z"
   },
   {
    "duration": 29,
    "start_time": "2022-04-06T21:52:07.350Z"
   },
   {
    "duration": 52,
    "start_time": "2022-04-06T21:52:07.381Z"
   },
   {
    "duration": 6,
    "start_time": "2022-04-06T21:52:07.434Z"
   },
   {
    "duration": 44,
    "start_time": "2022-04-06T21:52:22.387Z"
   },
   {
    "duration": 720,
    "start_time": "2022-04-06T21:53:36.620Z"
   },
   {
    "duration": 88,
    "start_time": "2022-04-06T21:53:37.342Z"
   },
   {
    "duration": 101,
    "start_time": "2022-04-06T21:53:37.432Z"
   },
   {
    "duration": 10,
    "start_time": "2022-04-06T21:53:37.535Z"
   },
   {
    "duration": 18,
    "start_time": "2022-04-06T21:53:37.546Z"
   },
   {
    "duration": 163,
    "start_time": "2022-04-06T21:53:37.565Z"
   },
   {
    "duration": 27,
    "start_time": "2022-04-06T21:53:37.729Z"
   },
   {
    "duration": 50,
    "start_time": "2022-04-06T21:53:37.758Z"
   },
   {
    "duration": 6,
    "start_time": "2022-04-06T21:53:37.809Z"
   },
   {
    "duration": 45,
    "start_time": "2022-04-06T21:53:53.385Z"
   },
   {
    "duration": 697,
    "start_time": "2022-04-06T21:54:00.905Z"
   },
   {
    "duration": 91,
    "start_time": "2022-04-06T21:54:02.366Z"
   },
   {
    "duration": 99,
    "start_time": "2022-04-06T21:54:03.454Z"
   },
   {
    "duration": 11,
    "start_time": "2022-04-06T21:54:03.814Z"
   },
   {
    "duration": 18,
    "start_time": "2022-04-06T21:54:07.122Z"
   },
   {
    "duration": 155,
    "start_time": "2022-04-06T21:54:08.348Z"
   },
   {
    "duration": 27,
    "start_time": "2022-04-06T21:54:09.794Z"
   },
   {
    "duration": 41,
    "start_time": "2022-04-06T21:54:10.646Z"
   },
   {
    "duration": 7,
    "start_time": "2022-04-06T21:54:10.936Z"
   },
   {
    "duration": 47,
    "start_time": "2022-04-06T21:55:30.670Z"
   },
   {
    "duration": 697,
    "start_time": "2022-04-06T21:55:37.932Z"
   },
   {
    "duration": 95,
    "start_time": "2022-04-06T21:55:38.631Z"
   },
   {
    "duration": 99,
    "start_time": "2022-04-06T21:55:38.728Z"
   },
   {
    "duration": 11,
    "start_time": "2022-04-06T21:55:38.830Z"
   },
   {
    "duration": 24,
    "start_time": "2022-04-06T21:55:38.843Z"
   },
   {
    "duration": 170,
    "start_time": "2022-04-06T21:55:38.869Z"
   },
   {
    "duration": 26,
    "start_time": "2022-04-06T21:55:39.040Z"
   },
   {
    "duration": 49,
    "start_time": "2022-04-06T21:55:39.067Z"
   },
   {
    "duration": 5,
    "start_time": "2022-04-06T21:55:39.118Z"
   },
   {
    "duration": 48,
    "start_time": "2022-04-06T21:58:21.931Z"
   },
   {
    "duration": 667,
    "start_time": "2022-04-06T21:58:33.237Z"
   },
   {
    "duration": 92,
    "start_time": "2022-04-06T21:58:36.202Z"
   },
   {
    "duration": 104,
    "start_time": "2022-04-06T21:58:38.546Z"
   },
   {
    "duration": 11,
    "start_time": "2022-04-06T21:58:41.254Z"
   },
   {
    "duration": 18,
    "start_time": "2022-04-06T21:58:46.017Z"
   },
   {
    "duration": 148,
    "start_time": "2022-04-06T21:58:49.334Z"
   },
   {
    "duration": 27,
    "start_time": "2022-04-06T21:58:52.998Z"
   },
   {
    "duration": 32,
    "start_time": "2022-04-06T21:58:55.517Z"
   },
   {
    "duration": 34,
    "start_time": "2022-04-06T21:58:57.838Z"
   },
   {
    "duration": 6,
    "start_time": "2022-04-06T21:59:06.864Z"
   },
   {
    "duration": 43,
    "start_time": "2022-04-06T21:59:53.354Z"
   },
   {
    "duration": 716,
    "start_time": "2022-04-06T22:00:01.908Z"
   },
   {
    "duration": 88,
    "start_time": "2022-04-06T22:00:02.626Z"
   },
   {
    "duration": 97,
    "start_time": "2022-04-06T22:00:02.715Z"
   },
   {
    "duration": 10,
    "start_time": "2022-04-06T22:00:02.814Z"
   },
   {
    "duration": 17,
    "start_time": "2022-04-06T22:00:02.826Z"
   },
   {
    "duration": 163,
    "start_time": "2022-04-06T22:00:02.845Z"
   },
   {
    "duration": 26,
    "start_time": "2022-04-06T22:00:03.009Z"
   },
   {
    "duration": 34,
    "start_time": "2022-04-06T22:00:03.037Z"
   },
   {
    "duration": 29,
    "start_time": "2022-04-06T22:00:03.072Z"
   },
   {
    "duration": 725,
    "start_time": "2022-04-06T22:05:18.141Z"
   },
   {
    "duration": 105,
    "start_time": "2022-04-06T22:05:19.626Z"
   },
   {
    "duration": 102,
    "start_time": "2022-04-06T22:05:21.344Z"
   },
   {
    "duration": 12,
    "start_time": "2022-04-06T22:05:21.789Z"
   },
   {
    "duration": 18,
    "start_time": "2022-04-06T22:05:27.029Z"
   },
   {
    "duration": 150,
    "start_time": "2022-04-06T22:05:29.259Z"
   },
   {
    "duration": 27,
    "start_time": "2022-04-06T22:05:32.987Z"
   },
   {
    "duration": 35,
    "start_time": "2022-04-06T22:05:35.289Z"
   },
   {
    "duration": 7,
    "start_time": "2022-04-06T22:05:36.933Z"
   },
   {
    "duration": 690,
    "start_time": "2022-04-06T22:29:55.017Z"
   },
   {
    "duration": 89,
    "start_time": "2022-04-06T22:29:55.709Z"
   },
   {
    "duration": 102,
    "start_time": "2022-04-06T22:29:55.799Z"
   },
   {
    "duration": 9,
    "start_time": "2022-04-06T22:29:55.903Z"
   },
   {
    "duration": 19,
    "start_time": "2022-04-06T22:29:55.913Z"
   },
   {
    "duration": 177,
    "start_time": "2022-04-06T22:29:55.934Z"
   },
   {
    "duration": 25,
    "start_time": "2022-04-06T22:29:56.113Z"
   },
   {
    "duration": 33,
    "start_time": "2022-04-06T22:29:56.140Z"
   },
   {
    "duration": 5,
    "start_time": "2022-04-06T22:29:56.175Z"
   },
   {
    "duration": 3,
    "start_time": "2022-04-06T22:29:56.202Z"
   },
   {
    "duration": 4,
    "start_time": "2022-04-06T22:29:56.206Z"
   },
   {
    "duration": 4,
    "start_time": "2022-04-06T22:29:56.212Z"
   },
   {
    "duration": 3,
    "start_time": "2022-04-06T22:29:56.218Z"
   },
   {
    "duration": 6,
    "start_time": "2022-04-06T22:29:56.223Z"
   },
   {
    "duration": 4,
    "start_time": "2022-04-06T22:29:56.230Z"
   },
   {
    "duration": 7,
    "start_time": "2022-04-06T22:29:56.235Z"
   },
   {
    "duration": 9,
    "start_time": "2022-04-06T22:29:56.243Z"
   },
   {
    "duration": 9,
    "start_time": "2022-04-06T22:29:56.253Z"
   },
   {
    "duration": 8,
    "start_time": "2022-04-06T22:29:56.263Z"
   },
   {
    "duration": 11,
    "start_time": "2022-04-06T22:29:56.273Z"
   },
   {
    "duration": 8,
    "start_time": "2022-04-06T22:29:56.285Z"
   },
   {
    "duration": 9,
    "start_time": "2022-04-06T22:29:56.295Z"
   },
   {
    "duration": 6,
    "start_time": "2022-04-06T22:30:04.223Z"
   },
   {
    "duration": 101,
    "start_time": "2022-04-06T22:35:51.817Z"
   },
   {
    "duration": 13,
    "start_time": "2022-04-06T22:36:01.717Z"
   },
   {
    "duration": 16,
    "start_time": "2022-04-06T22:36:19.450Z"
   },
   {
    "duration": 13,
    "start_time": "2022-04-06T22:40:39.211Z"
   },
   {
    "duration": 15,
    "start_time": "2022-04-06T22:43:08.798Z"
   },
   {
    "duration": 33,
    "start_time": "2022-04-06T22:46:39.219Z"
   },
   {
    "duration": 20,
    "start_time": "2022-04-06T22:46:48.047Z"
   },
   {
    "duration": 3,
    "start_time": "2022-04-06T22:54:06.838Z"
   },
   {
    "duration": 49,
    "start_time": "2022-04-06T22:55:08.176Z"
   },
   {
    "duration": 708,
    "start_time": "2022-04-06T22:55:16.626Z"
   },
   {
    "duration": 94,
    "start_time": "2022-04-06T22:55:17.336Z"
   },
   {
    "duration": 104,
    "start_time": "2022-04-06T22:55:17.431Z"
   },
   {
    "duration": 8,
    "start_time": "2022-04-06T22:55:17.538Z"
   },
   {
    "duration": 19,
    "start_time": "2022-04-06T22:55:17.548Z"
   },
   {
    "duration": 180,
    "start_time": "2022-04-06T22:55:17.569Z"
   },
   {
    "duration": 27,
    "start_time": "2022-04-06T22:55:17.751Z"
   },
   {
    "duration": 55,
    "start_time": "2022-04-06T22:55:17.780Z"
   },
   {
    "duration": 6,
    "start_time": "2022-04-06T22:55:17.837Z"
   },
   {
    "duration": 47,
    "start_time": "2022-04-06T23:02:42.556Z"
   },
   {
    "duration": 712,
    "start_time": "2022-04-06T23:02:48.359Z"
   },
   {
    "duration": 88,
    "start_time": "2022-04-06T23:02:49.073Z"
   },
   {
    "duration": 104,
    "start_time": "2022-04-06T23:02:49.162Z"
   },
   {
    "duration": 9,
    "start_time": "2022-04-06T23:02:49.268Z"
   },
   {
    "duration": 29,
    "start_time": "2022-04-06T23:02:49.278Z"
   },
   {
    "duration": 162,
    "start_time": "2022-04-06T23:02:49.309Z"
   },
   {
    "duration": 37,
    "start_time": "2022-04-06T23:02:49.473Z"
   },
   {
    "duration": 34,
    "start_time": "2022-04-06T23:02:49.512Z"
   },
   {
    "duration": 6,
    "start_time": "2022-04-06T23:02:49.548Z"
   },
   {
    "duration": 10,
    "start_time": "2022-04-06T23:02:49.556Z"
   },
   {
    "duration": 2,
    "start_time": "2022-04-06T23:02:49.568Z"
   },
   {
    "duration": 48,
    "start_time": "2022-04-06T23:03:03.704Z"
   },
   {
    "duration": 730,
    "start_time": "2022-04-06T23:03:08.335Z"
   },
   {
    "duration": 93,
    "start_time": "2022-04-06T23:03:09.599Z"
   },
   {
    "duration": 104,
    "start_time": "2022-04-06T23:03:10.638Z"
   },
   {
    "duration": 10,
    "start_time": "2022-04-06T23:03:10.993Z"
   },
   {
    "duration": 16,
    "start_time": "2022-04-06T23:03:14.023Z"
   },
   {
    "duration": 157,
    "start_time": "2022-04-06T23:03:15.360Z"
   },
   {
    "duration": 680,
    "start_time": "2022-04-06T23:03:24.705Z"
   },
   {
    "duration": 88,
    "start_time": "2022-04-06T23:03:25.699Z"
   },
   {
    "duration": 104,
    "start_time": "2022-04-06T23:03:26.706Z"
   },
   {
    "duration": 9,
    "start_time": "2022-04-06T23:03:27.035Z"
   },
   {
    "duration": 16,
    "start_time": "2022-04-06T23:03:30.745Z"
   },
   {
    "duration": 144,
    "start_time": "2022-04-06T23:03:32.388Z"
   },
   {
    "duration": 27,
    "start_time": "2022-04-06T23:03:34.812Z"
   },
   {
    "duration": 37,
    "start_time": "2022-04-06T23:03:36.138Z"
   },
   {
    "duration": 7,
    "start_time": "2022-04-06T23:03:36.567Z"
   },
   {
    "duration": 10,
    "start_time": "2022-04-06T23:03:37.648Z"
   },
   {
    "duration": 13,
    "start_time": "2022-04-06T23:03:51.641Z"
   },
   {
    "duration": 1134,
    "start_time": "2022-04-06T23:04:36.391Z"
   },
   {
    "duration": 14,
    "start_time": "2022-04-06T23:04:54.894Z"
   },
   {
    "duration": 14,
    "start_time": "2022-04-06T23:04:58.758Z"
   },
   {
    "duration": 18,
    "start_time": "2022-04-06T23:05:07.484Z"
   },
   {
    "duration": 16,
    "start_time": "2022-04-06T23:05:11.678Z"
   },
   {
    "duration": 12,
    "start_time": "2022-04-06T23:05:22.826Z"
   },
   {
    "duration": 17,
    "start_time": "2022-04-06T23:05:39.860Z"
   },
   {
    "duration": 19,
    "start_time": "2022-04-06T23:05:49.141Z"
   },
   {
    "duration": 32,
    "start_time": "2022-04-06T23:06:09.385Z"
   },
   {
    "duration": 35,
    "start_time": "2022-04-06T23:10:48.185Z"
   },
   {
    "duration": 3,
    "start_time": "2022-04-06T23:15:00.882Z"
   },
   {
    "duration": 3,
    "start_time": "2022-04-06T23:15:02.893Z"
   },
   {
    "duration": 10,
    "start_time": "2022-04-06T23:15:22.885Z"
   },
   {
    "duration": 37,
    "start_time": "2022-04-06T23:21:20.395Z"
   },
   {
    "duration": 190,
    "start_time": "2022-04-07T01:09:09.333Z"
   },
   {
    "duration": 11,
    "start_time": "2022-04-07T01:09:15.496Z"
   },
   {
    "duration": 197,
    "start_time": "2022-04-07T02:27:07.623Z"
   },
   {
    "duration": 212,
    "start_time": "2022-04-07T02:27:21.840Z"
   },
   {
    "duration": 190,
    "start_time": "2022-04-07T02:27:40.013Z"
   },
   {
    "duration": 848,
    "start_time": "2022-04-07T02:27:55.583Z"
   },
   {
    "duration": 17,
    "start_time": "2022-04-07T02:28:09.150Z"
   },
   {
    "duration": 29,
    "start_time": "2022-04-07T02:28:32.516Z"
   },
   {
    "duration": 17,
    "start_time": "2022-04-07T02:29:02.711Z"
   },
   {
    "duration": 840,
    "start_time": "2022-04-07T02:29:12.193Z"
   },
   {
    "duration": 883,
    "start_time": "2022-04-07T02:29:44.395Z"
   },
   {
    "duration": 781,
    "start_time": "2022-04-07T02:30:02.912Z"
   },
   {
    "duration": 5,
    "start_time": "2022-04-07T02:30:57.009Z"
   },
   {
    "duration": 845,
    "start_time": "2022-04-07T02:31:17.539Z"
   },
   {
    "duration": 682,
    "start_time": "2022-04-07T02:35:39.001Z"
   },
   {
    "duration": 102,
    "start_time": "2022-04-07T02:35:39.685Z"
   },
   {
    "duration": 95,
    "start_time": "2022-04-07T02:35:39.788Z"
   },
   {
    "duration": 8,
    "start_time": "2022-04-07T02:35:39.885Z"
   },
   {
    "duration": 20,
    "start_time": "2022-04-07T02:35:39.895Z"
   },
   {
    "duration": 161,
    "start_time": "2022-04-07T02:35:39.917Z"
   },
   {
    "duration": 34,
    "start_time": "2022-04-07T02:35:40.079Z"
   },
   {
    "duration": 33,
    "start_time": "2022-04-07T02:35:40.115Z"
   },
   {
    "duration": 6,
    "start_time": "2022-04-07T02:35:40.149Z"
   },
   {
    "duration": 11,
    "start_time": "2022-04-07T02:35:40.157Z"
   },
   {
    "duration": 43,
    "start_time": "2022-04-07T02:35:40.169Z"
   },
   {
    "duration": 44,
    "start_time": "2022-04-07T02:35:55.018Z"
   },
   {
    "duration": 725,
    "start_time": "2022-04-07T02:36:12.399Z"
   },
   {
    "duration": 92,
    "start_time": "2022-04-07T02:36:13.126Z"
   },
   {
    "duration": 101,
    "start_time": "2022-04-07T02:36:13.219Z"
   },
   {
    "duration": 9,
    "start_time": "2022-04-07T02:36:13.322Z"
   },
   {
    "duration": 18,
    "start_time": "2022-04-07T02:36:13.334Z"
   },
   {
    "duration": 180,
    "start_time": "2022-04-07T02:36:13.354Z"
   },
   {
    "duration": 26,
    "start_time": "2022-04-07T02:36:13.536Z"
   },
   {
    "duration": 55,
    "start_time": "2022-04-07T02:36:13.563Z"
   },
   {
    "duration": 6,
    "start_time": "2022-04-07T02:36:13.619Z"
   },
   {
    "duration": 16,
    "start_time": "2022-04-07T02:36:13.626Z"
   },
   {
    "duration": 20,
    "start_time": "2022-04-07T02:36:13.644Z"
   },
   {
    "duration": 48,
    "start_time": "2022-04-07T02:36:57.143Z"
   },
   {
    "duration": 692,
    "start_time": "2022-04-07T02:37:15.545Z"
   },
   {
    "duration": 91,
    "start_time": "2022-04-07T02:37:16.239Z"
   },
   {
    "duration": 101,
    "start_time": "2022-04-07T02:37:16.332Z"
   },
   {
    "duration": 8,
    "start_time": "2022-04-07T02:37:16.435Z"
   },
   {
    "duration": 18,
    "start_time": "2022-04-07T02:37:16.445Z"
   },
   {
    "duration": 175,
    "start_time": "2022-04-07T02:37:16.465Z"
   },
   {
    "duration": 26,
    "start_time": "2022-04-07T02:37:16.642Z"
   },
   {
    "duration": 52,
    "start_time": "2022-04-07T02:37:16.670Z"
   },
   {
    "duration": 6,
    "start_time": "2022-04-07T02:37:16.724Z"
   },
   {
    "duration": 11,
    "start_time": "2022-04-07T02:37:16.732Z"
   },
   {
    "duration": 18,
    "start_time": "2022-04-07T02:37:16.744Z"
   },
   {
    "duration": 48,
    "start_time": "2022-04-07T02:37:40.424Z"
   },
   {
    "duration": 715,
    "start_time": "2022-04-07T02:37:50.871Z"
   },
   {
    "duration": 87,
    "start_time": "2022-04-07T02:37:51.588Z"
   },
   {
    "duration": 96,
    "start_time": "2022-04-07T02:37:51.677Z"
   },
   {
    "duration": 8,
    "start_time": "2022-04-07T02:37:51.775Z"
   },
   {
    "duration": 27,
    "start_time": "2022-04-07T02:37:51.785Z"
   },
   {
    "duration": 159,
    "start_time": "2022-04-07T02:37:51.814Z"
   },
   {
    "duration": 34,
    "start_time": "2022-04-07T02:37:51.974Z"
   },
   {
    "duration": 34,
    "start_time": "2022-04-07T02:37:52.009Z"
   },
   {
    "duration": 5,
    "start_time": "2022-04-07T02:37:52.045Z"
   },
   {
    "duration": 12,
    "start_time": "2022-04-07T02:37:52.052Z"
   },
   {
    "duration": 38,
    "start_time": "2022-04-07T02:37:52.066Z"
   },
   {
    "duration": 48,
    "start_time": "2022-04-07T02:42:32.901Z"
   },
   {
    "duration": 713,
    "start_time": "2022-04-07T02:43:15.849Z"
   },
   {
    "duration": 108,
    "start_time": "2022-04-07T02:43:16.564Z"
   },
   {
    "duration": 107,
    "start_time": "2022-04-07T02:43:16.674Z"
   },
   {
    "duration": 9,
    "start_time": "2022-04-07T02:43:16.783Z"
   },
   {
    "duration": 23,
    "start_time": "2022-04-07T02:43:16.794Z"
   },
   {
    "duration": 184,
    "start_time": "2022-04-07T02:43:16.819Z"
   },
   {
    "duration": 27,
    "start_time": "2022-04-07T02:43:17.005Z"
   },
   {
    "duration": 37,
    "start_time": "2022-04-07T02:43:17.033Z"
   },
   {
    "duration": 31,
    "start_time": "2022-04-07T02:43:17.071Z"
   },
   {
    "duration": 11,
    "start_time": "2022-04-07T02:43:17.105Z"
   },
   {
    "duration": 18,
    "start_time": "2022-04-07T02:43:17.118Z"
   },
   {
    "duration": 51,
    "start_time": "2022-04-07T02:43:26.021Z"
   },
   {
    "duration": 692,
    "start_time": "2022-04-07T02:43:57.095Z"
   },
   {
    "duration": 91,
    "start_time": "2022-04-07T02:43:57.789Z"
   },
   {
    "duration": 95,
    "start_time": "2022-04-07T02:43:57.881Z"
   },
   {
    "duration": 8,
    "start_time": "2022-04-07T02:43:57.978Z"
   },
   {
    "duration": 21,
    "start_time": "2022-04-07T02:43:57.988Z"
   },
   {
    "duration": 156,
    "start_time": "2022-04-07T02:43:58.010Z"
   },
   {
    "duration": 2,
    "start_time": "2022-04-07T02:43:58.981Z"
   },
   {
    "duration": 96,
    "start_time": "2022-04-07T02:43:58.985Z"
   },
   {
    "duration": 97,
    "start_time": "2022-04-07T02:43:59.082Z"
   },
   {
    "duration": 21,
    "start_time": "2022-04-07T02:43:59.181Z"
   },
   {
    "duration": 21,
    "start_time": "2022-04-07T02:43:59.204Z"
   },
   {
    "duration": 153,
    "start_time": "2022-04-07T02:43:59.227Z"
   },
   {
    "duration": 35,
    "start_time": "2022-04-07T02:43:59.382Z"
   },
   {
    "duration": 34,
    "start_time": "2022-04-07T02:43:59.419Z"
   },
   {
    "duration": 5,
    "start_time": "2022-04-07T02:43:59.456Z"
   },
   {
    "duration": 11,
    "start_time": "2022-04-07T02:43:59.463Z"
   },
   {
    "duration": 43,
    "start_time": "2022-04-07T02:43:59.475Z"
   },
   {
    "duration": 680,
    "start_time": "2022-04-07T02:55:49.421Z"
   },
   {
    "duration": 94,
    "start_time": "2022-04-07T02:55:50.103Z"
   },
   {
    "duration": 91,
    "start_time": "2022-04-07T02:55:50.199Z"
   },
   {
    "duration": 9,
    "start_time": "2022-04-07T02:55:50.292Z"
   },
   {
    "duration": 16,
    "start_time": "2022-04-07T02:55:50.303Z"
   },
   {
    "duration": 157,
    "start_time": "2022-04-07T02:55:50.321Z"
   },
   {
    "duration": 33,
    "start_time": "2022-04-07T02:55:50.480Z"
   },
   {
    "duration": 33,
    "start_time": "2022-04-07T02:55:50.514Z"
   },
   {
    "duration": 5,
    "start_time": "2022-04-07T02:55:50.549Z"
   },
   {
    "duration": 12,
    "start_time": "2022-04-07T02:55:50.556Z"
   },
   {
    "duration": 36,
    "start_time": "2022-04-07T02:55:50.570Z"
   },
   {
    "duration": 704,
    "start_time": "2022-04-07T03:03:27.494Z"
   },
   {
    "duration": 94,
    "start_time": "2022-04-07T03:03:28.200Z"
   },
   {
    "duration": 105,
    "start_time": "2022-04-07T03:03:28.296Z"
   },
   {
    "duration": 9,
    "start_time": "2022-04-07T03:03:28.403Z"
   },
   {
    "duration": 19,
    "start_time": "2022-04-07T03:03:28.414Z"
   },
   {
    "duration": 187,
    "start_time": "2022-04-07T03:03:28.434Z"
   },
   {
    "duration": 28,
    "start_time": "2022-04-07T03:03:28.622Z"
   },
   {
    "duration": 52,
    "start_time": "2022-04-07T03:03:28.651Z"
   },
   {
    "duration": 6,
    "start_time": "2022-04-07T03:03:28.705Z"
   },
   {
    "duration": 10,
    "start_time": "2022-04-07T03:03:28.714Z"
   },
   {
    "duration": 18,
    "start_time": "2022-04-07T03:03:28.726Z"
   },
   {
    "duration": 747,
    "start_time": "2022-04-07T03:04:09.568Z"
   },
   {
    "duration": 3,
    "start_time": "2022-04-07T03:05:01.624Z"
   },
   {
    "duration": 90,
    "start_time": "2022-04-07T03:05:03.673Z"
   },
   {
    "duration": 102,
    "start_time": "2022-04-07T03:05:05.752Z"
   },
   {
    "duration": 10,
    "start_time": "2022-04-07T03:05:06.938Z"
   },
   {
    "duration": 18,
    "start_time": "2022-04-07T03:05:13.218Z"
   },
   {
    "duration": 159,
    "start_time": "2022-04-07T03:05:16.992Z"
   },
   {
    "duration": 28,
    "start_time": "2022-04-07T03:05:21.289Z"
   },
   {
    "duration": 37,
    "start_time": "2022-04-07T03:05:25.805Z"
   },
   {
    "duration": 6,
    "start_time": "2022-04-07T03:05:27.709Z"
   },
   {
    "duration": 10,
    "start_time": "2022-04-07T03:05:35.856Z"
   },
   {
    "duration": 16,
    "start_time": "2022-04-07T03:05:47.849Z"
   },
   {
    "duration": 832,
    "start_time": "2022-04-07T03:06:05.050Z"
   },
   {
    "duration": 770,
    "start_time": "2022-04-08T01:03:09.028Z"
   },
   {
    "duration": 79,
    "start_time": "2022-04-08T01:03:09.800Z"
   },
   {
    "duration": 86,
    "start_time": "2022-04-08T01:03:09.881Z"
   },
   {
    "duration": 9,
    "start_time": "2022-04-08T01:03:09.968Z"
   },
   {
    "duration": 79,
    "start_time": "2022-04-08T01:03:19.544Z"
   },
   {
    "duration": 79,
    "start_time": "2022-04-08T01:03:26.813Z"
   },
   {
    "duration": 9,
    "start_time": "2022-04-08T01:03:28.240Z"
   },
   {
    "duration": 18,
    "start_time": "2022-04-08T01:03:33.226Z"
   },
   {
    "duration": 125,
    "start_time": "2022-04-08T01:03:35.271Z"
   },
   {
    "duration": 23,
    "start_time": "2022-04-08T01:03:37.484Z"
   },
   {
    "duration": 32,
    "start_time": "2022-04-08T01:03:39.783Z"
   },
   {
    "duration": 6,
    "start_time": "2022-04-08T01:03:40.238Z"
   },
   {
    "duration": 11,
    "start_time": "2022-04-08T01:03:40.654Z"
   },
   {
    "duration": 72,
    "start_time": "2022-04-08T01:03:41.032Z"
   },
   {
    "duration": 17,
    "start_time": "2022-04-08T01:03:47.583Z"
   },
   {
    "duration": 15,
    "start_time": "2022-04-08T01:03:51.465Z"
   },
   {
    "duration": 16,
    "start_time": "2022-04-08T01:04:14.157Z"
   },
   {
    "duration": 568,
    "start_time": "2022-04-08T01:04:27.989Z"
   },
   {
    "duration": 563,
    "start_time": "2022-04-08T01:15:59.970Z"
   },
   {
    "duration": 501,
    "start_time": "2022-04-08T01:16:39.880Z"
   },
   {
    "duration": 130,
    "start_time": "2022-04-08T01:19:49.273Z"
   },
   {
    "duration": 512,
    "start_time": "2022-04-08T01:20:17.569Z"
   },
   {
    "duration": 128,
    "start_time": "2022-04-08T03:01:07.114Z"
   },
   {
    "duration": 131,
    "start_time": "2022-04-08T03:02:20.635Z"
   },
   {
    "duration": 11,
    "start_time": "2022-04-08T03:02:27.971Z"
   },
   {
    "duration": 162,
    "start_time": "2022-04-08T03:09:39.330Z"
   },
   {
    "duration": 139,
    "start_time": "2022-04-08T03:09:50.413Z"
   },
   {
    "duration": 125,
    "start_time": "2022-04-08T03:10:14.406Z"
   },
   {
    "duration": 130,
    "start_time": "2022-04-08T03:11:33.322Z"
   },
   {
    "duration": 130,
    "start_time": "2022-04-08T03:11:42.110Z"
   },
   {
    "duration": 132,
    "start_time": "2022-04-08T03:12:04.530Z"
   },
   {
    "duration": 3,
    "start_time": "2022-04-08T03:13:40.571Z"
   },
   {
    "duration": 508,
    "start_time": "2022-04-08T03:15:06.383Z"
   },
   {
    "duration": 520,
    "start_time": "2022-04-08T03:15:36.204Z"
   },
   {
    "duration": 10,
    "start_time": "2022-04-08T03:15:43.630Z"
   },
   {
    "duration": 9,
    "start_time": "2022-04-08T03:17:23.187Z"
   },
   {
    "duration": 3,
    "start_time": "2022-04-08T03:18:30.456Z"
   },
   {
    "duration": 4,
    "start_time": "2022-04-08T03:18:40.661Z"
   },
   {
    "duration": 9,
    "start_time": "2022-04-08T03:19:31.587Z"
   },
   {
    "duration": 12,
    "start_time": "2022-04-08T03:20:00.021Z"
   },
   {
    "duration": 10,
    "start_time": "2022-04-08T03:20:40.243Z"
   },
   {
    "duration": 10,
    "start_time": "2022-04-08T03:21:06.009Z"
   },
   {
    "duration": 10,
    "start_time": "2022-04-08T03:21:19.401Z"
   },
   {
    "duration": 10,
    "start_time": "2022-04-08T03:21:32.673Z"
   },
   {
    "duration": 3,
    "start_time": "2022-04-08T03:22:09.456Z"
   },
   {
    "duration": 4,
    "start_time": "2022-04-08T03:22:17.744Z"
   },
   {
    "duration": 11,
    "start_time": "2022-04-08T03:23:30.681Z"
   },
   {
    "duration": 540,
    "start_time": "2022-04-08T03:24:28.982Z"
   },
   {
    "duration": 515,
    "start_time": "2022-04-08T03:28:29.935Z"
   },
   {
    "duration": 520,
    "start_time": "2022-04-08T03:28:40.544Z"
   },
   {
    "duration": 129,
    "start_time": "2022-04-08T03:33:08.160Z"
   },
   {
    "duration": 490,
    "start_time": "2022-04-08T03:33:49.845Z"
   },
   {
    "duration": 516,
    "start_time": "2022-04-08T03:34:13.501Z"
   },
   {
    "duration": 536,
    "start_time": "2022-04-08T03:34:40.891Z"
   },
   {
    "duration": 515,
    "start_time": "2022-04-08T03:35:09.379Z"
   },
   {
    "duration": 15,
    "start_time": "2022-04-08T03:35:21.453Z"
   },
   {
    "duration": 14,
    "start_time": "2022-04-08T03:35:27.789Z"
   },
   {
    "duration": 17,
    "start_time": "2022-04-08T03:36:01.629Z"
   },
   {
    "duration": 168,
    "start_time": "2022-04-08T03:36:29.886Z"
   },
   {
    "duration": 108,
    "start_time": "2022-04-08T03:36:32.833Z"
   },
   {
    "duration": 99,
    "start_time": "2022-04-08T03:36:48.602Z"
   },
   {
    "duration": 353,
    "start_time": "2022-04-08T03:37:23.298Z"
   },
   {
    "duration": 285,
    "start_time": "2022-04-08T03:37:28.833Z"
   },
   {
    "duration": 329,
    "start_time": "2022-04-08T03:38:03.964Z"
   },
   {
    "duration": 408,
    "start_time": "2022-04-08T03:40:19.896Z"
   },
   {
    "duration": 400,
    "start_time": "2022-04-08T03:40:33.468Z"
   },
   {
    "duration": 337,
    "start_time": "2022-04-08T03:40:54.798Z"
   },
   {
    "duration": 4,
    "start_time": "2022-04-08T03:42:51.663Z"
   },
   {
    "duration": 280,
    "start_time": "2022-04-08T03:43:23.309Z"
   },
   {
    "duration": 281,
    "start_time": "2022-04-08T03:44:07.493Z"
   },
   {
    "duration": 605,
    "start_time": "2022-04-08T03:48:16.911Z"
   },
   {
    "duration": 82,
    "start_time": "2022-04-08T03:48:17.518Z"
   },
   {
    "duration": 82,
    "start_time": "2022-04-08T03:48:17.601Z"
   },
   {
    "duration": 7,
    "start_time": "2022-04-08T03:48:17.685Z"
   },
   {
    "duration": 17,
    "start_time": "2022-04-08T03:48:17.694Z"
   },
   {
    "duration": 143,
    "start_time": "2022-04-08T03:48:17.712Z"
   },
   {
    "duration": 22,
    "start_time": "2022-04-08T03:48:17.856Z"
   },
   {
    "duration": 50,
    "start_time": "2022-04-08T03:48:17.879Z"
   },
   {
    "duration": 5,
    "start_time": "2022-04-08T03:48:17.931Z"
   },
   {
    "duration": 10,
    "start_time": "2022-04-08T03:48:17.938Z"
   },
   {
    "duration": 357,
    "start_time": "2022-04-08T03:48:17.950Z"
   },
   {
    "duration": 620,
    "start_time": "2022-04-08T03:48:46.439Z"
   },
   {
    "duration": 82,
    "start_time": "2022-04-08T03:48:47.061Z"
   },
   {
    "duration": 90,
    "start_time": "2022-04-08T03:48:47.145Z"
   },
   {
    "duration": 8,
    "start_time": "2022-04-08T03:48:47.237Z"
   },
   {
    "duration": 18,
    "start_time": "2022-04-08T03:48:47.247Z"
   },
   {
    "duration": 149,
    "start_time": "2022-04-08T03:48:47.267Z"
   },
   {
    "duration": 31,
    "start_time": "2022-04-08T03:48:47.417Z"
   },
   {
    "duration": 32,
    "start_time": "2022-04-08T03:48:47.450Z"
   },
   {
    "duration": 5,
    "start_time": "2022-04-08T03:48:47.484Z"
   },
   {
    "duration": 44,
    "start_time": "2022-04-08T03:48:47.492Z"
   },
   {
    "duration": 338,
    "start_time": "2022-04-08T03:48:47.538Z"
   },
   {
    "duration": 43,
    "start_time": "2022-04-08T03:49:06.094Z"
   },
   {
    "duration": 610,
    "start_time": "2022-04-08T03:49:13.695Z"
   },
   {
    "duration": 83,
    "start_time": "2022-04-08T03:49:15.017Z"
   },
   {
    "duration": 86,
    "start_time": "2022-04-08T03:49:16.219Z"
   },
   {
    "duration": 8,
    "start_time": "2022-04-08T03:49:16.591Z"
   },
   {
    "duration": 16,
    "start_time": "2022-04-08T03:49:20.012Z"
   },
   {
    "duration": 138,
    "start_time": "2022-04-08T03:49:21.525Z"
   },
   {
    "duration": 23,
    "start_time": "2022-04-08T03:49:23.399Z"
   },
   {
    "duration": 34,
    "start_time": "2022-04-08T03:49:24.594Z"
   },
   {
    "duration": 6,
    "start_time": "2022-04-08T03:49:25.004Z"
   },
   {
    "duration": 11,
    "start_time": "2022-04-08T03:49:25.403Z"
   },
   {
    "duration": 334,
    "start_time": "2022-04-08T03:49:25.767Z"
   },
   {
    "duration": 323,
    "start_time": "2022-04-08T03:49:44.977Z"
   },
   {
    "duration": 18,
    "start_time": "2022-04-08T03:52:22.392Z"
   },
   {
    "duration": 10,
    "start_time": "2022-04-08T03:53:00.804Z"
   },
   {
    "duration": 50,
    "start_time": "2022-04-09T02:54:47.602Z"
   },
   {
    "duration": 916,
    "start_time": "2022-04-09T02:55:00.338Z"
   },
   {
    "duration": 122,
    "start_time": "2022-04-09T02:55:01.257Z"
   },
   {
    "duration": 127,
    "start_time": "2022-04-09T02:55:01.381Z"
   },
   {
    "duration": 21,
    "start_time": "2022-04-09T02:55:01.511Z"
   },
   {
    "duration": 25,
    "start_time": "2022-04-09T02:55:01.535Z"
   },
   {
    "duration": 202,
    "start_time": "2022-04-09T02:55:01.562Z"
   },
   {
    "duration": 32,
    "start_time": "2022-04-09T02:55:01.766Z"
   },
   {
    "duration": 62,
    "start_time": "2022-04-09T02:55:01.800Z"
   },
   {
    "duration": 8,
    "start_time": "2022-04-09T02:55:01.864Z"
   },
   {
    "duration": 28,
    "start_time": "2022-04-09T02:55:01.876Z"
   },
   {
    "duration": 420,
    "start_time": "2022-04-09T02:55:01.906Z"
   },
   {
    "duration": 22,
    "start_time": "2022-04-09T02:55:02.332Z"
   },
   {
    "duration": 11,
    "start_time": "2022-04-09T02:55:02.356Z"
   },
   {
    "duration": 201,
    "start_time": "2022-04-09T02:55:02.369Z"
   },
   {
    "duration": 3,
    "start_time": "2022-04-09T02:55:02.572Z"
   },
   {
    "duration": 17,
    "start_time": "2022-04-09T02:55:02.577Z"
   },
   {
    "duration": 34,
    "start_time": "2022-04-09T02:55:02.596Z"
   },
   {
    "duration": 20,
    "start_time": "2022-04-09T02:55:02.632Z"
   },
   {
    "duration": 10,
    "start_time": "2022-04-09T02:55:02.654Z"
   },
   {
    "duration": 8,
    "start_time": "2022-04-09T02:55:02.666Z"
   },
   {
    "duration": 12,
    "start_time": "2022-04-09T02:55:02.676Z"
   },
   {
    "duration": 21,
    "start_time": "2022-04-09T02:55:02.690Z"
   },
   {
    "duration": 216,
    "start_time": "2022-04-09T02:55:33.898Z"
   },
   {
    "duration": 263,
    "start_time": "2022-04-09T02:55:41.828Z"
   },
   {
    "duration": 201,
    "start_time": "2022-04-09T02:55:50.483Z"
   },
   {
    "duration": 156,
    "start_time": "2022-04-09T02:56:57.999Z"
   },
   {
    "duration": 189,
    "start_time": "2022-04-09T02:57:10.544Z"
   },
   {
    "duration": 179,
    "start_time": "2022-04-09T02:57:23.088Z"
   },
   {
    "duration": 263,
    "start_time": "2022-04-09T02:57:37.630Z"
   },
   {
    "duration": 192,
    "start_time": "2022-04-09T02:58:46.756Z"
   },
   {
    "duration": 170,
    "start_time": "2022-04-09T02:58:52.163Z"
   },
   {
    "duration": 200,
    "start_time": "2022-04-09T02:59:03.824Z"
   },
   {
    "duration": 163,
    "start_time": "2022-04-09T02:59:10.625Z"
   },
   {
    "duration": 157,
    "start_time": "2022-04-09T02:59:18.894Z"
   },
   {
    "duration": 160,
    "start_time": "2022-04-09T02:59:25.475Z"
   },
   {
    "duration": 170,
    "start_time": "2022-04-09T03:00:40.029Z"
   },
   {
    "duration": 329,
    "start_time": "2022-04-09T03:03:09.121Z"
   },
   {
    "duration": 573,
    "start_time": "2022-04-09T03:04:39.650Z"
   },
   {
    "duration": 1169,
    "start_time": "2022-04-10T03:02:30.139Z"
   },
   {
    "duration": 133,
    "start_time": "2022-04-10T03:02:31.310Z"
   },
   {
    "duration": 158,
    "start_time": "2022-04-10T03:02:31.445Z"
   },
   {
    "duration": 13,
    "start_time": "2022-04-10T03:02:31.606Z"
   },
   {
    "duration": 24,
    "start_time": "2022-04-10T03:02:31.621Z"
   },
   {
    "duration": 274,
    "start_time": "2022-04-10T03:02:31.647Z"
   },
   {
    "duration": 51,
    "start_time": "2022-04-10T03:02:31.923Z"
   },
   {
    "duration": 52,
    "start_time": "2022-04-10T03:02:31.978Z"
   },
   {
    "duration": 8,
    "start_time": "2022-04-10T03:02:32.032Z"
   },
   {
    "duration": 22,
    "start_time": "2022-04-10T03:02:32.068Z"
   },
   {
    "duration": 612,
    "start_time": "2022-04-10T03:02:32.093Z"
   },
   {
    "duration": 27,
    "start_time": "2022-04-10T03:02:32.708Z"
   },
   {
    "duration": 33,
    "start_time": "2022-04-10T03:02:32.737Z"
   },
   {
    "duration": 748,
    "start_time": "2022-04-10T03:02:32.773Z"
   },
   {
    "duration": 3,
    "start_time": "2022-04-10T03:02:33.523Z"
   },
   {
    "duration": 7,
    "start_time": "2022-04-10T03:02:33.528Z"
   },
   {
    "duration": 5,
    "start_time": "2022-04-10T03:02:33.537Z"
   },
   {
    "duration": 24,
    "start_time": "2022-04-10T03:02:33.544Z"
   },
   {
    "duration": 18,
    "start_time": "2022-04-10T03:02:33.572Z"
   },
   {
    "duration": 5,
    "start_time": "2022-04-10T03:02:33.592Z"
   },
   {
    "duration": 7,
    "start_time": "2022-04-10T03:02:33.599Z"
   },
   {
    "duration": 5,
    "start_time": "2022-04-10T03:02:33.608Z"
   },
   {
    "duration": 119,
    "start_time": "2022-04-10T03:25:53.316Z"
   },
   {
    "duration": 36,
    "start_time": "2022-04-10T03:27:34.364Z"
   },
   {
    "duration": 224,
    "start_time": "2022-04-10T03:28:51.410Z"
   },
   {
    "duration": 191,
    "start_time": "2022-04-10T03:28:57.492Z"
   },
   {
    "duration": 240,
    "start_time": "2022-04-10T03:29:31.155Z"
   },
   {
    "duration": 227,
    "start_time": "2022-04-10T03:29:38.287Z"
   },
   {
    "duration": 247,
    "start_time": "2022-04-10T03:30:03.466Z"
   },
   {
    "duration": 248,
    "start_time": "2022-04-10T03:38:58.756Z"
   },
   {
    "duration": 309,
    "start_time": "2022-04-10T03:39:08.129Z"
   },
   {
    "duration": 247,
    "start_time": "2022-04-10T03:39:23.436Z"
   },
   {
    "duration": 284,
    "start_time": "2022-04-10T03:39:40.461Z"
   },
   {
    "duration": 294,
    "start_time": "2022-04-10T03:39:57.810Z"
   },
   {
    "duration": 315,
    "start_time": "2022-04-10T03:40:13.536Z"
   },
   {
    "duration": 328,
    "start_time": "2022-04-10T03:40:35.150Z"
   },
   {
    "duration": 77,
    "start_time": "2022-04-10T17:30:40.581Z"
   },
   {
    "duration": 791,
    "start_time": "2022-04-10T17:30:49.318Z"
   },
   {
    "duration": 94,
    "start_time": "2022-04-10T17:30:50.111Z"
   },
   {
    "duration": 99,
    "start_time": "2022-04-10T17:30:50.207Z"
   },
   {
    "duration": 8,
    "start_time": "2022-04-10T17:30:50.309Z"
   },
   {
    "duration": 31,
    "start_time": "2022-04-10T17:30:50.319Z"
   },
   {
    "duration": 154,
    "start_time": "2022-04-10T17:30:50.351Z"
   },
   {
    "duration": 42,
    "start_time": "2022-04-10T17:30:50.506Z"
   },
   {
    "duration": 32,
    "start_time": "2022-04-10T17:30:50.549Z"
   },
   {
    "duration": 6,
    "start_time": "2022-04-10T17:30:50.583Z"
   },
   {
    "duration": 16,
    "start_time": "2022-04-10T17:30:50.591Z"
   },
   {
    "duration": 355,
    "start_time": "2022-04-10T17:30:50.608Z"
   },
   {
    "duration": 19,
    "start_time": "2022-04-10T17:30:50.964Z"
   },
   {
    "duration": 9,
    "start_time": "2022-04-10T17:30:50.984Z"
   },
   {
    "duration": 432,
    "start_time": "2022-04-10T17:30:50.995Z"
   },
   {
    "duration": 182,
    "start_time": "2022-04-10T17:30:51.428Z"
   },
   {
    "duration": 1934,
    "start_time": "2022-04-10T17:30:51.612Z"
   },
   {
    "duration": 0,
    "start_time": "2022-04-10T17:30:53.547Z"
   },
   {
    "duration": 0,
    "start_time": "2022-04-10T17:30:53.548Z"
   },
   {
    "duration": 0,
    "start_time": "2022-04-10T17:30:53.549Z"
   },
   {
    "duration": 0,
    "start_time": "2022-04-10T17:30:53.550Z"
   },
   {
    "duration": 0,
    "start_time": "2022-04-10T17:30:53.551Z"
   },
   {
    "duration": 0,
    "start_time": "2022-04-10T17:30:53.552Z"
   },
   {
    "duration": 6,
    "start_time": "2022-04-10T17:31:30.727Z"
   },
   {
    "duration": 105,
    "start_time": "2022-04-10T17:31:57.464Z"
   },
   {
    "duration": 233,
    "start_time": "2022-04-10T17:32:06.193Z"
   },
   {
    "duration": 214,
    "start_time": "2022-04-10T17:32:38.071Z"
   },
   {
    "duration": 8,
    "start_time": "2022-04-10T17:33:11.174Z"
   },
   {
    "duration": 1669,
    "start_time": "2022-04-10T17:34:39.618Z"
   },
   {
    "duration": 9,
    "start_time": "2022-04-10T17:35:16.925Z"
   },
   {
    "duration": 14,
    "start_time": "2022-04-10T17:36:19.893Z"
   },
   {
    "duration": 13,
    "start_time": "2022-04-10T17:38:10.168Z"
   },
   {
    "duration": 16,
    "start_time": "2022-04-10T17:38:24.091Z"
   },
   {
    "duration": 8,
    "start_time": "2022-04-10T17:40:15.101Z"
   },
   {
    "duration": 9,
    "start_time": "2022-04-10T17:40:30.841Z"
   },
   {
    "duration": 12,
    "start_time": "2022-04-10T17:40:40.989Z"
   },
   {
    "duration": 12,
    "start_time": "2022-04-10T17:45:59.804Z"
   },
   {
    "duration": 12,
    "start_time": "2022-04-10T17:46:11.737Z"
   },
   {
    "duration": 13,
    "start_time": "2022-04-10T17:46:26.148Z"
   },
   {
    "duration": 18,
    "start_time": "2022-04-10T17:51:00.870Z"
   },
   {
    "duration": 11,
    "start_time": "2022-04-10T17:51:10.678Z"
   },
   {
    "duration": 11,
    "start_time": "2022-04-10T17:51:36.047Z"
   },
   {
    "duration": 14,
    "start_time": "2022-04-10T17:52:05.288Z"
   },
   {
    "duration": 10,
    "start_time": "2022-04-10T17:52:34.487Z"
   },
   {
    "duration": 12,
    "start_time": "2022-04-10T17:52:45.050Z"
   },
   {
    "duration": 19,
    "start_time": "2022-04-10T17:54:05.819Z"
   },
   {
    "duration": 4,
    "start_time": "2022-04-10T17:56:01.934Z"
   },
   {
    "duration": 16,
    "start_time": "2022-04-10T17:56:05.922Z"
   },
   {
    "duration": 33,
    "start_time": "2022-04-10T17:56:46.620Z"
   },
   {
    "duration": 15,
    "start_time": "2022-04-10T17:57:14.249Z"
   },
   {
    "duration": 18,
    "start_time": "2022-04-10T17:57:25.394Z"
   },
   {
    "duration": 31,
    "start_time": "2022-04-10T17:58:57.780Z"
   },
   {
    "duration": 13,
    "start_time": "2022-04-10T17:59:30.263Z"
   },
   {
    "duration": 14,
    "start_time": "2022-04-10T17:59:37.512Z"
   },
   {
    "duration": 24,
    "start_time": "2022-04-10T17:59:51.133Z"
   },
   {
    "duration": 169,
    "start_time": "2022-04-10T18:16:32.012Z"
   },
   {
    "duration": 22,
    "start_time": "2022-04-10T18:36:07.860Z"
   },
   {
    "duration": 23,
    "start_time": "2022-04-10T18:37:31.079Z"
   },
   {
    "duration": 113,
    "start_time": "2022-04-10T18:40:23.562Z"
   },
   {
    "duration": 46,
    "start_time": "2022-04-10T18:40:30.488Z"
   },
   {
    "duration": 33,
    "start_time": "2022-04-10T18:40:47.067Z"
   },
   {
    "duration": 36,
    "start_time": "2022-04-10T18:40:56.360Z"
   },
   {
    "duration": 23,
    "start_time": "2022-04-10T18:41:09.884Z"
   },
   {
    "duration": 32,
    "start_time": "2022-04-10T18:41:28.303Z"
   },
   {
    "duration": 116,
    "start_time": "2022-04-10T18:42:03.960Z"
   },
   {
    "duration": 322,
    "start_time": "2022-04-10T18:43:18.802Z"
   },
   {
    "duration": 1158,
    "start_time": "2022-04-10T18:43:57.360Z"
   },
   {
    "duration": 113,
    "start_time": "2022-04-10T18:44:27.293Z"
   },
   {
    "duration": 109,
    "start_time": "2022-04-10T18:44:41.271Z"
   },
   {
    "duration": 105,
    "start_time": "2022-04-10T18:46:53.616Z"
   },
   {
    "duration": 104,
    "start_time": "2022-04-10T18:46:58.986Z"
   },
   {
    "duration": 112,
    "start_time": "2022-04-10T18:47:37.590Z"
   },
   {
    "duration": 126,
    "start_time": "2022-04-10T18:47:53.835Z"
   },
   {
    "duration": 20,
    "start_time": "2022-04-10T18:47:57.263Z"
   },
   {
    "duration": 170,
    "start_time": "2022-04-10T18:48:25.472Z"
   },
   {
    "duration": 9,
    "start_time": "2022-04-10T19:02:22.861Z"
   },
   {
    "duration": 12,
    "start_time": "2022-04-10T19:03:15.272Z"
   },
   {
    "duration": 121,
    "start_time": "2022-04-10T19:03:30.330Z"
   },
   {
    "duration": 177,
    "start_time": "2022-04-10T19:04:19.761Z"
   },
   {
    "duration": 173,
    "start_time": "2022-04-10T19:04:36.479Z"
   },
   {
    "duration": 55,
    "start_time": "2022-04-10T19:20:14.024Z"
   },
   {
    "duration": 681,
    "start_time": "2022-04-10T19:20:24.348Z"
   },
   {
    "duration": 95,
    "start_time": "2022-04-10T19:20:25.031Z"
   },
   {
    "duration": 102,
    "start_time": "2022-04-10T19:20:25.128Z"
   },
   {
    "duration": 15,
    "start_time": "2022-04-10T19:20:25.232Z"
   },
   {
    "duration": 20,
    "start_time": "2022-04-10T19:20:25.249Z"
   },
   {
    "duration": 167,
    "start_time": "2022-04-10T19:20:25.271Z"
   },
   {
    "duration": 24,
    "start_time": "2022-04-10T19:20:25.447Z"
   },
   {
    "duration": 32,
    "start_time": "2022-04-10T19:20:25.473Z"
   },
   {
    "duration": 5,
    "start_time": "2022-04-10T19:20:25.507Z"
   },
   {
    "duration": 33,
    "start_time": "2022-04-10T19:20:25.514Z"
   },
   {
    "duration": 357,
    "start_time": "2022-04-10T19:20:25.549Z"
   },
   {
    "duration": 19,
    "start_time": "2022-04-10T19:20:25.908Z"
   },
   {
    "duration": 22,
    "start_time": "2022-04-10T19:20:25.929Z"
   },
   {
    "duration": 434,
    "start_time": "2022-04-10T19:20:25.953Z"
   },
   {
    "duration": 171,
    "start_time": "2022-04-10T19:20:26.388Z"
   },
   {
    "duration": 166,
    "start_time": "2022-04-10T19:20:26.560Z"
   },
   {
    "duration": 804,
    "start_time": "2022-04-11T02:25:02.243Z"
   },
   {
    "duration": 93,
    "start_time": "2022-04-11T02:25:03.049Z"
   },
   {
    "duration": 103,
    "start_time": "2022-04-11T02:25:03.144Z"
   },
   {
    "duration": 8,
    "start_time": "2022-04-11T02:25:03.257Z"
   },
   {
    "duration": 26,
    "start_time": "2022-04-11T02:25:03.268Z"
   },
   {
    "duration": 163,
    "start_time": "2022-04-11T02:25:03.296Z"
   },
   {
    "duration": 27,
    "start_time": "2022-04-11T02:25:03.461Z"
   },
   {
    "duration": 34,
    "start_time": "2022-04-11T02:25:03.490Z"
   },
   {
    "duration": 6,
    "start_time": "2022-04-11T02:25:03.526Z"
   },
   {
    "duration": 11,
    "start_time": "2022-04-11T02:25:03.560Z"
   },
   {
    "duration": 360,
    "start_time": "2022-04-11T02:25:03.573Z"
   },
   {
    "duration": 28,
    "start_time": "2022-04-11T02:25:03.935Z"
   },
   {
    "duration": 10,
    "start_time": "2022-04-11T02:25:03.965Z"
   },
   {
    "duration": 414,
    "start_time": "2022-04-11T02:25:03.976Z"
   },
   {
    "duration": 170,
    "start_time": "2022-04-11T02:25:04.392Z"
   },
   {
    "duration": 153,
    "start_time": "2022-04-11T02:25:04.563Z"
   },
   {
    "duration": 0,
    "start_time": "2022-04-11T02:35:43.529Z"
   },
   {
    "duration": 660,
    "start_time": "2022-04-11T02:36:38.877Z"
   },
   {
    "duration": 84,
    "start_time": "2022-04-11T02:36:46.322Z"
   },
   {
    "duration": 96,
    "start_time": "2022-04-11T02:36:53.977Z"
   },
   {
    "duration": 8,
    "start_time": "2022-04-11T02:36:54.943Z"
   },
   {
    "duration": 16,
    "start_time": "2022-04-11T02:36:58.955Z"
   },
   {
    "duration": 152,
    "start_time": "2022-04-11T02:37:01.633Z"
   },
   {
    "duration": 26,
    "start_time": "2022-04-11T02:37:04.827Z"
   },
   {
    "duration": 34,
    "start_time": "2022-04-11T02:37:06.968Z"
   },
   {
    "duration": 6,
    "start_time": "2022-04-11T02:37:08.244Z"
   },
   {
    "duration": 10,
    "start_time": "2022-04-11T02:37:08.724Z"
   },
   {
    "duration": 338,
    "start_time": "2022-04-11T02:37:09.762Z"
   },
   {
    "duration": 19,
    "start_time": "2022-04-11T02:37:11.639Z"
   },
   {
    "duration": 10,
    "start_time": "2022-04-11T02:37:12.608Z"
   },
   {
    "duration": 385,
    "start_time": "2022-04-11T02:37:15.245Z"
   },
   {
    "duration": 159,
    "start_time": "2022-04-11T02:37:16.895Z"
   },
   {
    "duration": 139,
    "start_time": "2022-04-11T02:37:17.875Z"
   },
   {
    "duration": 634,
    "start_time": "2022-04-11T02:47:07.678Z"
   },
   {
    "duration": 98,
    "start_time": "2022-04-11T02:47:09.325Z"
   },
   {
    "duration": 102,
    "start_time": "2022-04-11T02:47:11.635Z"
   },
   {
    "duration": 9,
    "start_time": "2022-04-11T02:47:12.342Z"
   },
   {
    "duration": 16,
    "start_time": "2022-04-11T02:47:17.296Z"
   },
   {
    "duration": 141,
    "start_time": "2022-04-11T02:47:19.593Z"
   },
   {
    "duration": 26,
    "start_time": "2022-04-11T02:47:20.637Z"
   },
   {
    "duration": 34,
    "start_time": "2022-04-11T02:47:21.257Z"
   },
   {
    "duration": 7,
    "start_time": "2022-04-11T02:47:21.599Z"
   },
   {
    "duration": 13,
    "start_time": "2022-04-11T02:47:21.849Z"
   },
   {
    "duration": 527,
    "start_time": "2022-04-11T02:47:22.139Z"
   },
   {
    "duration": 31,
    "start_time": "2022-04-11T02:47:22.669Z"
   },
   {
    "duration": 14,
    "start_time": "2022-04-11T02:47:22.919Z"
   },
   {
    "duration": 380,
    "start_time": "2022-04-11T02:47:23.727Z"
   },
   {
    "duration": 164,
    "start_time": "2022-04-11T02:47:24.626Z"
   },
   {
    "duration": 139,
    "start_time": "2022-04-11T02:47:25.204Z"
   },
   {
    "duration": 648,
    "start_time": "2022-04-11T02:49:13.252Z"
   },
   {
    "duration": 86,
    "start_time": "2022-04-11T02:49:13.902Z"
   },
   {
    "duration": 94,
    "start_time": "2022-04-11T02:49:13.990Z"
   },
   {
    "duration": 8,
    "start_time": "2022-04-11T02:49:14.086Z"
   },
   {
    "duration": 20,
    "start_time": "2022-04-11T02:49:14.095Z"
   },
   {
    "duration": 165,
    "start_time": "2022-04-11T02:49:14.117Z"
   },
   {
    "duration": 26,
    "start_time": "2022-04-11T02:49:14.284Z"
   },
   {
    "duration": 49,
    "start_time": "2022-04-11T02:49:14.312Z"
   },
   {
    "duration": 6,
    "start_time": "2022-04-11T02:49:14.363Z"
   },
   {
    "duration": 11,
    "start_time": "2022-04-11T02:49:14.372Z"
   },
   {
    "duration": 364,
    "start_time": "2022-04-11T02:49:14.385Z"
   },
   {
    "duration": 24,
    "start_time": "2022-04-11T02:49:14.752Z"
   },
   {
    "duration": 9,
    "start_time": "2022-04-11T02:49:14.778Z"
   },
   {
    "duration": 415,
    "start_time": "2022-04-11T02:49:14.789Z"
   },
   {
    "duration": 161,
    "start_time": "2022-04-11T02:49:15.206Z"
   },
   {
    "duration": 158,
    "start_time": "2022-04-11T02:49:15.369Z"
   },
   {
    "duration": 386609,
    "start_time": "2022-04-11T02:49:15.529Z"
   },
   {
    "duration": 30,
    "start_time": "2022-04-11T02:55:42.139Z"
   },
   {
    "duration": 7,
    "start_time": "2022-04-11T02:55:42.171Z"
   },
   {
    "duration": 6,
    "start_time": "2022-04-11T02:55:42.179Z"
   },
   {
    "duration": 3,
    "start_time": "2022-04-11T02:55:42.187Z"
   },
   {
    "duration": 4,
    "start_time": "2022-04-11T02:55:42.192Z"
   },
   {
    "duration": 4,
    "start_time": "2022-04-11T02:55:42.198Z"
   },
   {
    "duration": 295673,
    "start_time": "2022-04-11T02:55:42.231Z"
   },
   {
    "duration": 635,
    "start_time": "2022-04-11T03:01:37.095Z"
   },
   {
    "duration": 99,
    "start_time": "2022-04-11T03:01:37.731Z"
   },
   {
    "duration": 110,
    "start_time": "2022-04-11T03:01:37.831Z"
   },
   {
    "duration": 8,
    "start_time": "2022-04-11T03:01:37.943Z"
   },
   {
    "duration": 28,
    "start_time": "2022-04-11T03:01:37.958Z"
   },
   {
    "duration": 168,
    "start_time": "2022-04-11T03:01:37.988Z"
   },
   {
    "duration": 35,
    "start_time": "2022-04-11T03:01:38.162Z"
   },
   {
    "duration": 34,
    "start_time": "2022-04-11T03:01:38.199Z"
   },
   {
    "duration": 29,
    "start_time": "2022-04-11T03:01:38.235Z"
   },
   {
    "duration": 13,
    "start_time": "2022-04-11T03:01:38.272Z"
   },
   {
    "duration": 402,
    "start_time": "2022-04-11T03:01:38.286Z"
   },
   {
    "duration": 19,
    "start_time": "2022-04-11T03:01:38.689Z"
   },
   {
    "duration": 10,
    "start_time": "2022-04-11T03:01:38.710Z"
   },
   {
    "duration": 437,
    "start_time": "2022-04-11T03:01:38.723Z"
   },
   {
    "duration": 186,
    "start_time": "2022-04-11T03:01:39.162Z"
   },
   {
    "duration": 178,
    "start_time": "2022-04-11T03:01:39.350Z"
   },
   {
    "duration": 0,
    "start_time": "2022-04-11T03:11:02.881Z"
   },
   {
    "duration": 0,
    "start_time": "2022-04-11T03:11:02.882Z"
   },
   {
    "duration": 0,
    "start_time": "2022-04-11T03:11:02.882Z"
   },
   {
    "duration": 0,
    "start_time": "2022-04-11T03:11:02.883Z"
   },
   {
    "duration": 0,
    "start_time": "2022-04-11T03:11:02.884Z"
   },
   {
    "duration": 0,
    "start_time": "2022-04-11T03:11:02.884Z"
   },
   {
    "duration": 0,
    "start_time": "2022-04-11T03:11:02.887Z"
   },
   {
    "duration": 0,
    "start_time": "2022-04-11T03:11:02.889Z"
   },
   {
    "duration": 617,
    "start_time": "2022-04-11T03:13:19.372Z"
   },
   {
    "duration": 93,
    "start_time": "2022-04-11T03:13:19.991Z"
   },
   {
    "duration": 106,
    "start_time": "2022-04-11T03:13:20.086Z"
   },
   {
    "duration": 8,
    "start_time": "2022-04-11T03:13:20.195Z"
   },
   {
    "duration": 20,
    "start_time": "2022-04-11T03:13:20.205Z"
   },
   {
    "duration": 177,
    "start_time": "2022-04-11T03:13:20.227Z"
   },
   {
    "duration": 24,
    "start_time": "2022-04-11T03:13:20.405Z"
   },
   {
    "duration": 50,
    "start_time": "2022-04-11T03:13:20.431Z"
   },
   {
    "duration": 5,
    "start_time": "2022-04-11T03:13:20.482Z"
   },
   {
    "duration": 13,
    "start_time": "2022-04-11T03:13:20.489Z"
   },
   {
    "duration": 371,
    "start_time": "2022-04-11T03:13:20.503Z"
   },
   {
    "duration": 18,
    "start_time": "2022-04-11T03:13:20.876Z"
   },
   {
    "duration": 9,
    "start_time": "2022-04-11T03:13:20.896Z"
   },
   {
    "duration": 422,
    "start_time": "2022-04-11T03:13:20.906Z"
   },
   {
    "duration": 159,
    "start_time": "2022-04-11T03:13:21.329Z"
   },
   {
    "duration": 151,
    "start_time": "2022-04-11T03:13:21.490Z"
   },
   {
    "duration": 39,
    "start_time": "2022-04-11T03:26:27.941Z"
   },
   {
    "duration": 7,
    "start_time": "2022-04-11T03:26:27.990Z"
   },
   {
    "duration": 3,
    "start_time": "2022-04-11T03:26:27.998Z"
   },
   {
    "duration": 4,
    "start_time": "2022-04-11T03:26:28.003Z"
   },
   {
    "duration": 3,
    "start_time": "2022-04-11T03:26:28.009Z"
   },
   {
    "duration": 11,
    "start_time": "2022-04-11T03:26:28.075Z"
   },
   {
    "duration": 831,
    "start_time": "2022-04-11T13:45:48.264Z"
   },
   {
    "duration": 791,
    "start_time": "2022-04-11T13:45:49.098Z"
   },
   {
    "duration": 162,
    "start_time": "2022-04-11T13:45:49.891Z"
   },
   {
    "duration": 11,
    "start_time": "2022-04-11T13:45:50.055Z"
   },
   {
    "duration": 31,
    "start_time": "2022-04-11T13:45:50.067Z"
   },
   {
    "duration": 234,
    "start_time": "2022-04-11T13:45:50.100Z"
   },
   {
    "duration": 52,
    "start_time": "2022-04-11T13:45:50.336Z"
   },
   {
    "duration": 46,
    "start_time": "2022-04-11T13:45:50.390Z"
   },
   {
    "duration": 6,
    "start_time": "2022-04-11T13:45:50.438Z"
   },
   {
    "duration": 9,
    "start_time": "2022-04-11T13:45:50.448Z"
   },
   {
    "duration": 350,
    "start_time": "2022-04-11T13:45:50.481Z"
   },
   {
    "duration": 19,
    "start_time": "2022-04-11T13:45:50.833Z"
   },
   {
    "duration": 9,
    "start_time": "2022-04-11T13:45:50.854Z"
   },
   {
    "duration": 396,
    "start_time": "2022-04-11T13:45:50.880Z"
   },
   {
    "duration": 161,
    "start_time": "2022-04-11T13:45:51.281Z"
   },
   {
    "duration": 154,
    "start_time": "2022-04-11T13:45:51.444Z"
   },
   {
    "duration": 793,
    "start_time": "2022-04-11T13:46:29.704Z"
   },
   {
    "duration": 92,
    "start_time": "2022-04-11T13:46:30.499Z"
   },
   {
    "duration": 96,
    "start_time": "2022-04-11T13:46:30.593Z"
   },
   {
    "duration": 9,
    "start_time": "2022-04-11T13:46:30.691Z"
   },
   {
    "duration": 37,
    "start_time": "2022-04-11T13:46:30.702Z"
   },
   {
    "duration": 152,
    "start_time": "2022-04-11T13:46:30.741Z"
   },
   {
    "duration": 26,
    "start_time": "2022-04-11T13:46:30.895Z"
   },
   {
    "duration": 34,
    "start_time": "2022-04-11T13:46:30.923Z"
   },
   {
    "duration": 34,
    "start_time": "2022-04-11T13:46:30.958Z"
   },
   {
    "duration": 22,
    "start_time": "2022-04-11T13:46:30.994Z"
   },
   {
    "duration": 349,
    "start_time": "2022-04-11T13:46:31.017Z"
   },
   {
    "duration": 31,
    "start_time": "2022-04-11T13:46:31.368Z"
   },
   {
    "duration": 10,
    "start_time": "2022-04-11T13:46:31.401Z"
   },
   {
    "duration": 419,
    "start_time": "2022-04-11T13:46:31.413Z"
   },
   {
    "duration": 173,
    "start_time": "2022-04-11T13:46:31.834Z"
   },
   {
    "duration": 160,
    "start_time": "2022-04-11T13:46:32.009Z"
   },
   {
    "duration": 11,
    "start_time": "2022-04-11T13:46:32.170Z"
   },
   {
    "duration": 6,
    "start_time": "2022-04-11T13:46:32.182Z"
   },
   {
    "duration": 5,
    "start_time": "2022-04-11T13:46:32.189Z"
   },
   {
    "duration": 8,
    "start_time": "2022-04-11T13:46:32.196Z"
   },
   {
    "duration": 5,
    "start_time": "2022-04-11T13:46:32.206Z"
   },
   {
    "duration": 5,
    "start_time": "2022-04-11T13:46:32.212Z"
   },
   {
    "duration": 6,
    "start_time": "2022-04-11T13:46:48.867Z"
   },
   {
    "duration": 96,
    "start_time": "2022-04-11T13:47:17.834Z"
   },
   {
    "duration": 680,
    "start_time": "2022-04-11T13:51:52.903Z"
   },
   {
    "duration": 93,
    "start_time": "2022-04-11T13:51:53.585Z"
   },
   {
    "duration": 94,
    "start_time": "2022-04-11T13:51:53.680Z"
   },
   {
    "duration": 8,
    "start_time": "2022-04-11T13:51:53.780Z"
   },
   {
    "duration": 31,
    "start_time": "2022-04-11T13:51:53.790Z"
   },
   {
    "duration": 158,
    "start_time": "2022-04-11T13:51:53.823Z"
   },
   {
    "duration": 26,
    "start_time": "2022-04-11T13:51:53.983Z"
   },
   {
    "duration": 34,
    "start_time": "2022-04-11T13:51:54.011Z"
   },
   {
    "duration": 5,
    "start_time": "2022-04-11T13:51:54.046Z"
   },
   {
    "duration": 9,
    "start_time": "2022-04-11T13:51:54.082Z"
   },
   {
    "duration": 361,
    "start_time": "2022-04-11T13:51:54.093Z"
   },
   {
    "duration": 32,
    "start_time": "2022-04-11T13:51:54.456Z"
   },
   {
    "duration": 10,
    "start_time": "2022-04-11T13:51:54.490Z"
   },
   {
    "duration": 437,
    "start_time": "2022-04-11T13:51:54.502Z"
   },
   {
    "duration": 203,
    "start_time": "2022-04-11T13:51:54.940Z"
   },
   {
    "duration": 163,
    "start_time": "2022-04-11T13:51:55.145Z"
   },
   {
    "duration": 2,
    "start_time": "2022-04-11T13:51:55.310Z"
   },
   {
    "duration": 6,
    "start_time": "2022-04-11T13:51:55.313Z"
   },
   {
    "duration": 8,
    "start_time": "2022-04-11T13:51:55.321Z"
   },
   {
    "duration": 5,
    "start_time": "2022-04-11T13:51:55.330Z"
   },
   {
    "duration": 5,
    "start_time": "2022-04-11T13:51:55.337Z"
   },
   {
    "duration": 6,
    "start_time": "2022-04-11T13:51:55.344Z"
   },
   {
    "duration": 110,
    "start_time": "2022-04-11T13:54:21.815Z"
   },
   {
    "duration": 7,
    "start_time": "2022-04-11T13:58:38.214Z"
   },
   {
    "duration": 7,
    "start_time": "2022-04-11T13:58:52.275Z"
   },
   {
    "duration": 124,
    "start_time": "2022-04-11T13:59:38.990Z"
   },
   {
    "duration": 158,
    "start_time": "2022-04-11T14:00:32.575Z"
   },
   {
    "duration": 753,
    "start_time": "2022-04-11T14:02:33.928Z"
   },
   {
    "duration": 162,
    "start_time": "2022-04-11T14:03:12.883Z"
   },
   {
    "duration": 169,
    "start_time": "2022-04-11T14:03:32.935Z"
   },
   {
    "duration": 156,
    "start_time": "2022-04-11T14:03:44.932Z"
   },
   {
    "duration": 105,
    "start_time": "2022-04-11T14:03:56.488Z"
   },
   {
    "duration": 192,
    "start_time": "2022-04-11T14:04:14.271Z"
   },
   {
    "duration": 102,
    "start_time": "2022-04-11T14:09:54.194Z"
   },
   {
    "duration": 121,
    "start_time": "2022-04-11T14:12:22.061Z"
   },
   {
    "duration": 115,
    "start_time": "2022-04-11T14:12:30.390Z"
   },
   {
    "duration": 124,
    "start_time": "2022-04-11T14:13:18.467Z"
   },
   {
    "duration": 125,
    "start_time": "2022-04-11T14:13:23.051Z"
   },
   {
    "duration": 202,
    "start_time": "2022-04-11T14:13:40.757Z"
   },
   {
    "duration": 127,
    "start_time": "2022-04-11T14:13:48.632Z"
   },
   {
    "duration": 576,
    "start_time": "2022-04-11T14:15:51.402Z"
   },
   {
    "duration": 543,
    "start_time": "2022-04-11T14:16:01.722Z"
   },
   {
    "duration": 521,
    "start_time": "2022-04-11T14:16:11.953Z"
   },
   {
    "duration": 613,
    "start_time": "2022-04-11T14:16:18.418Z"
   },
   {
    "duration": 538,
    "start_time": "2022-04-11T14:16:38.568Z"
   },
   {
    "duration": 110,
    "start_time": "2022-04-11T14:22:00.723Z"
   },
   {
    "duration": 148,
    "start_time": "2022-04-11T14:28:19.574Z"
   },
   {
    "duration": 116,
    "start_time": "2022-04-11T14:28:24.922Z"
   },
   {
    "duration": 152,
    "start_time": "2022-04-11T14:28:54.256Z"
   },
   {
    "duration": 584,
    "start_time": "2022-04-11T14:30:23.003Z"
   },
   {
    "duration": 943,
    "start_time": "2022-04-11T14:30:41.095Z"
   },
   {
    "duration": 545,
    "start_time": "2022-04-11T14:30:54.178Z"
   },
   {
    "duration": 157,
    "start_time": "2022-04-11T14:32:20.038Z"
   },
   {
    "duration": 155,
    "start_time": "2022-04-11T14:32:29.740Z"
   },
   {
    "duration": 163,
    "start_time": "2022-04-11T14:32:43.761Z"
   },
   {
    "duration": 143,
    "start_time": "2022-04-11T14:34:40.452Z"
   },
   {
    "duration": 150,
    "start_time": "2022-04-11T14:35:05.429Z"
   },
   {
    "duration": 229,
    "start_time": "2022-04-11T14:36:09.407Z"
   },
   {
    "duration": 107,
    "start_time": "2022-04-11T15:03:45.474Z"
   },
   {
    "duration": 100,
    "start_time": "2022-04-11T15:03:59.022Z"
   },
   {
    "duration": 95,
    "start_time": "2022-04-11T15:04:12.615Z"
   },
   {
    "duration": 8,
    "start_time": "2022-04-11T15:04:50.761Z"
   },
   {
    "duration": 4,
    "start_time": "2022-04-11T15:04:54.654Z"
   },
   {
    "duration": 6,
    "start_time": "2022-04-11T15:05:09.707Z"
   },
   {
    "duration": 96,
    "start_time": "2022-04-11T15:05:24.096Z"
   },
   {
    "duration": 101,
    "start_time": "2022-04-11T15:05:28.341Z"
   },
   {
    "duration": 151,
    "start_time": "2022-04-11T15:06:26.874Z"
   },
   {
    "duration": 101,
    "start_time": "2022-04-11T15:06:45.134Z"
   },
   {
    "duration": 99,
    "start_time": "2022-04-11T15:11:41.584Z"
   },
   {
    "duration": 98,
    "start_time": "2022-04-11T15:11:52.136Z"
   },
   {
    "duration": 97,
    "start_time": "2022-04-11T15:16:41.224Z"
   },
   {
    "duration": 97,
    "start_time": "2022-04-11T15:16:49.191Z"
   },
   {
    "duration": 93,
    "start_time": "2022-04-11T15:18:28.719Z"
   },
   {
    "duration": 113,
    "start_time": "2022-04-11T15:18:58.385Z"
   },
   {
    "duration": 47,
    "start_time": "2022-04-11T23:05:49.687Z"
   },
   {
    "duration": 754,
    "start_time": "2022-04-11T23:05:57.864Z"
   },
   {
    "duration": 103,
    "start_time": "2022-04-11T23:05:58.621Z"
   },
   {
    "duration": 107,
    "start_time": "2022-04-11T23:05:58.726Z"
   },
   {
    "duration": 9,
    "start_time": "2022-04-11T23:05:58.836Z"
   },
   {
    "duration": 19,
    "start_time": "2022-04-11T23:05:58.847Z"
   },
   {
    "duration": 188,
    "start_time": "2022-04-11T23:05:58.867Z"
   },
   {
    "duration": 26,
    "start_time": "2022-04-11T23:05:59.057Z"
   },
   {
    "duration": 49,
    "start_time": "2022-04-11T23:05:59.085Z"
   },
   {
    "duration": 5,
    "start_time": "2022-04-11T23:05:59.136Z"
   },
   {
    "duration": 11,
    "start_time": "2022-04-11T23:05:59.143Z"
   },
   {
    "duration": 380,
    "start_time": "2022-04-11T23:05:59.155Z"
   },
   {
    "duration": 19,
    "start_time": "2022-04-11T23:05:59.537Z"
   },
   {
    "duration": 11,
    "start_time": "2022-04-11T23:05:59.558Z"
   },
   {
    "duration": 647,
    "start_time": "2022-04-11T23:05:59.570Z"
   },
   {
    "duration": 189,
    "start_time": "2022-04-11T23:06:00.219Z"
   },
   {
    "duration": 179,
    "start_time": "2022-04-11T23:06:00.410Z"
   },
   {
    "duration": 145,
    "start_time": "2022-04-11T23:06:00.591Z"
   },
   {
    "duration": 137,
    "start_time": "2022-04-11T23:06:00.737Z"
   },
   {
    "duration": 158,
    "start_time": "2022-04-11T23:06:00.876Z"
   },
   {
    "duration": 200,
    "start_time": "2022-04-11T23:06:01.036Z"
   },
   {
    "duration": 2,
    "start_time": "2022-04-11T23:06:01.237Z"
   },
   {
    "duration": 24,
    "start_time": "2022-04-11T23:06:01.241Z"
   },
   {
    "duration": 21,
    "start_time": "2022-04-11T23:06:01.267Z"
   },
   {
    "duration": 121,
    "start_time": "2022-04-11T23:06:13.042Z"
   },
   {
    "duration": 117,
    "start_time": "2022-04-11T23:09:42.626Z"
   },
   {
    "duration": 446,
    "start_time": "2022-04-11T23:11:13.059Z"
   },
   {
    "duration": 57,
    "start_time": "2022-04-11T23:11:32.882Z"
   },
   {
    "duration": 61,
    "start_time": "2022-04-11T23:11:41.433Z"
   },
   {
    "duration": 458,
    "start_time": "2022-04-11T23:11:44.795Z"
   },
   {
    "duration": 449,
    "start_time": "2022-04-11T23:12:46.065Z"
   },
   {
    "duration": 9,
    "start_time": "2022-04-11T23:24:13.597Z"
   },
   {
    "duration": 118,
    "start_time": "2022-04-11T23:26:43.223Z"
   },
   {
    "duration": 110,
    "start_time": "2022-04-11T23:28:01.638Z"
   },
   {
    "duration": 234,
    "start_time": "2022-04-11T23:29:02.232Z"
   },
   {
    "duration": 170,
    "start_time": "2022-04-11T23:29:12.442Z"
   },
   {
    "duration": 168,
    "start_time": "2022-04-11T23:29:56.294Z"
   },
   {
    "duration": 177,
    "start_time": "2022-04-11T23:32:12.989Z"
   },
   {
    "duration": 171,
    "start_time": "2022-04-11T23:32:38.093Z"
   },
   {
    "duration": 182,
    "start_time": "2022-04-11T23:34:32.498Z"
   },
   {
    "duration": 634,
    "start_time": "2022-04-11T23:36:06.981Z"
   },
   {
    "duration": 136,
    "start_time": "2022-04-11T23:37:14.917Z"
   },
   {
    "duration": 138,
    "start_time": "2022-04-11T23:38:19.974Z"
   },
   {
    "duration": 215,
    "start_time": "2022-04-11T23:38:50.722Z"
   },
   {
    "duration": 125,
    "start_time": "2022-04-11T23:39:01.465Z"
   },
   {
    "duration": 42,
    "start_time": "2022-04-12T02:06:55.096Z"
   },
   {
    "duration": 780,
    "start_time": "2022-04-12T02:07:05.504Z"
   },
   {
    "duration": 104,
    "start_time": "2022-04-12T02:07:06.286Z"
   },
   {
    "duration": 97,
    "start_time": "2022-04-12T02:07:06.391Z"
   },
   {
    "duration": 8,
    "start_time": "2022-04-12T02:07:06.490Z"
   },
   {
    "duration": 17,
    "start_time": "2022-04-12T02:07:06.500Z"
   },
   {
    "duration": 154,
    "start_time": "2022-04-12T02:07:06.518Z"
   },
   {
    "duration": 27,
    "start_time": "2022-04-12T02:07:06.674Z"
   },
   {
    "duration": 32,
    "start_time": "2022-04-12T02:07:06.703Z"
   },
   {
    "duration": 5,
    "start_time": "2022-04-12T02:07:06.736Z"
   },
   {
    "duration": 38,
    "start_time": "2022-04-12T02:07:06.743Z"
   },
   {
    "duration": 343,
    "start_time": "2022-04-12T02:07:06.782Z"
   },
   {
    "duration": 18,
    "start_time": "2022-04-12T02:07:07.126Z"
   },
   {
    "duration": 9,
    "start_time": "2022-04-12T02:07:07.146Z"
   },
   {
    "duration": 439,
    "start_time": "2022-04-12T02:07:07.156Z"
   },
   {
    "duration": 523,
    "start_time": "2022-04-12T02:07:07.597Z"
   },
   {
    "duration": 159,
    "start_time": "2022-04-12T02:07:08.122Z"
   },
   {
    "duration": 150,
    "start_time": "2022-04-12T02:07:08.283Z"
   },
   {
    "duration": 113,
    "start_time": "2022-04-12T02:07:08.435Z"
   },
   {
    "duration": 109,
    "start_time": "2022-04-12T02:07:08.549Z"
   },
   {
    "duration": 203,
    "start_time": "2022-04-12T02:07:08.660Z"
   },
   {
    "duration": 127,
    "start_time": "2022-04-12T02:07:08.865Z"
   },
   {
    "duration": 8,
    "start_time": "2022-04-12T02:07:08.994Z"
   },
   {
    "duration": 13,
    "start_time": "2022-04-12T02:07:09.003Z"
   },
   {
    "duration": 20,
    "start_time": "2022-04-12T02:07:09.017Z"
   },
   {
    "duration": 298,
    "start_time": "2022-04-12T02:11:01.834Z"
   },
   {
    "duration": 146,
    "start_time": "2022-04-12T02:20:44.306Z"
   },
   {
    "duration": 141,
    "start_time": "2022-04-12T02:21:05.555Z"
   },
   {
    "duration": 167,
    "start_time": "2022-04-12T02:21:27.314Z"
   },
   {
    "duration": 54,
    "start_time": "2022-04-12T02:46:19.231Z"
   },
   {
    "duration": 37,
    "start_time": "2022-04-12T02:47:18.961Z"
   },
   {
    "duration": 12,
    "start_time": "2022-04-12T02:48:12.987Z"
   },
   {
    "duration": 22,
    "start_time": "2022-04-12T02:48:19.853Z"
   },
   {
    "duration": 121,
    "start_time": "2022-04-12T03:12:14.942Z"
   },
   {
    "duration": 124,
    "start_time": "2022-04-12T03:12:36.857Z"
   },
   {
    "duration": 211,
    "start_time": "2022-04-12T03:13:42.457Z"
   },
   {
    "duration": 20,
    "start_time": "2022-04-12T03:14:25.646Z"
   },
   {
    "duration": 117,
    "start_time": "2022-04-12T03:14:32.774Z"
   },
   {
    "duration": 125,
    "start_time": "2022-04-12T03:14:39.625Z"
   },
   {
    "duration": 104,
    "start_time": "2022-04-12T03:15:59.591Z"
   },
   {
    "duration": 113,
    "start_time": "2022-04-12T03:16:08.001Z"
   },
   {
    "duration": 127,
    "start_time": "2022-04-12T03:16:15.238Z"
   },
   {
    "duration": 126,
    "start_time": "2022-04-12T03:16:21.622Z"
   },
   {
    "duration": 129,
    "start_time": "2022-04-12T03:16:27.597Z"
   },
   {
    "duration": 118,
    "start_time": "2022-04-12T03:17:22.719Z"
   },
   {
    "duration": 124,
    "start_time": "2022-04-12T03:17:50.513Z"
   },
   {
    "duration": 130,
    "start_time": "2022-04-12T03:18:00.638Z"
   },
   {
    "duration": 24,
    "start_time": "2022-04-12T03:19:09.493Z"
   },
   {
    "duration": 182,
    "start_time": "2022-04-12T03:19:30.035Z"
   },
   {
    "duration": 116,
    "start_time": "2022-04-12T03:19:42.151Z"
   },
   {
    "duration": 125,
    "start_time": "2022-04-12T03:19:49.287Z"
   },
   {
    "duration": 126,
    "start_time": "2022-04-12T03:19:53.862Z"
   },
   {
    "duration": 118,
    "start_time": "2022-04-12T03:20:55.168Z"
   },
   {
    "duration": 120,
    "start_time": "2022-04-12T03:24:31.304Z"
   },
   {
    "duration": 125,
    "start_time": "2022-04-12T03:25:30.770Z"
   },
   {
    "duration": 622,
    "start_time": "2022-04-12T03:30:17.247Z"
   },
   {
    "duration": 102,
    "start_time": "2022-04-12T03:30:17.871Z"
   },
   {
    "duration": 96,
    "start_time": "2022-04-12T03:30:17.974Z"
   },
   {
    "duration": 8,
    "start_time": "2022-04-12T03:30:18.072Z"
   },
   {
    "duration": 32,
    "start_time": "2022-04-12T03:30:18.081Z"
   },
   {
    "duration": 146,
    "start_time": "2022-04-12T03:30:18.115Z"
   },
   {
    "duration": 23,
    "start_time": "2022-04-12T03:30:18.262Z"
   },
   {
    "duration": 40,
    "start_time": "2022-04-12T03:30:18.287Z"
   },
   {
    "duration": 5,
    "start_time": "2022-04-12T03:30:18.329Z"
   },
   {
    "duration": 9,
    "start_time": "2022-04-12T03:30:18.336Z"
   },
   {
    "duration": 367,
    "start_time": "2022-04-12T03:30:18.347Z"
   },
   {
    "duration": 18,
    "start_time": "2022-04-12T03:30:18.716Z"
   },
   {
    "duration": 9,
    "start_time": "2022-04-12T03:30:18.735Z"
   },
   {
    "duration": 441,
    "start_time": "2022-04-12T03:30:18.746Z"
   },
   {
    "duration": 542,
    "start_time": "2022-04-12T03:30:19.189Z"
   },
   {
    "duration": 172,
    "start_time": "2022-04-12T03:30:19.732Z"
   },
   {
    "duration": 178,
    "start_time": "2022-04-12T03:30:19.905Z"
   },
   {
    "duration": 123,
    "start_time": "2022-04-12T03:30:20.084Z"
   },
   {
    "duration": 118,
    "start_time": "2022-04-12T03:30:20.209Z"
   },
   {
    "duration": 186,
    "start_time": "2022-04-12T03:30:20.329Z"
   },
   {
    "duration": 119,
    "start_time": "2022-04-12T03:30:20.517Z"
   },
   {
    "duration": 3,
    "start_time": "2022-04-12T03:30:20.637Z"
   },
   {
    "duration": 9,
    "start_time": "2022-04-12T03:30:20.641Z"
   },
   {
    "duration": 23,
    "start_time": "2022-04-12T03:30:20.651Z"
   },
   {
    "duration": 128,
    "start_time": "2022-04-12T03:30:20.675Z"
   },
   {
    "duration": 135,
    "start_time": "2022-04-12T03:30:20.804Z"
   },
   {
    "duration": 134,
    "start_time": "2022-04-12T03:30:20.940Z"
   },
   {
    "duration": 97,
    "start_time": "2022-04-12T03:30:31.592Z"
   },
   {
    "duration": 101,
    "start_time": "2022-04-12T03:30:44.347Z"
   },
   {
    "duration": 22,
    "start_time": "2022-04-12T03:31:28.263Z"
   },
   {
    "duration": 92,
    "start_time": "2022-04-12T03:31:36.534Z"
   },
   {
    "duration": 21,
    "start_time": "2022-04-12T03:32:04.127Z"
   },
   {
    "duration": 94,
    "start_time": "2022-04-12T03:32:08.687Z"
   },
   {
    "duration": 20,
    "start_time": "2022-04-12T03:33:00.617Z"
   },
   {
    "duration": 101,
    "start_time": "2022-04-12T03:33:05.268Z"
   },
   {
    "duration": 5,
    "start_time": "2022-04-12T03:36:55.600Z"
   },
   {
    "duration": 119,
    "start_time": "2022-04-12T03:37:22.689Z"
   },
   {
    "duration": 183,
    "start_time": "2022-04-12T03:38:06.146Z"
   },
   {
    "duration": 123,
    "start_time": "2022-04-12T03:38:17.577Z"
   },
   {
    "duration": 119,
    "start_time": "2022-04-12T03:40:22.734Z"
   },
   {
    "duration": 237,
    "start_time": "2022-04-12T03:41:40.089Z"
   },
   {
    "duration": 129,
    "start_time": "2022-04-12T03:42:00.906Z"
   },
   {
    "duration": 123,
    "start_time": "2022-04-12T03:42:18.131Z"
   },
   {
    "duration": 128,
    "start_time": "2022-04-12T03:45:05.862Z"
   },
   {
    "duration": 138,
    "start_time": "2022-04-12T03:47:10.219Z"
   },
   {
    "duration": 139,
    "start_time": "2022-04-12T03:47:38.847Z"
   },
   {
    "duration": 143,
    "start_time": "2022-04-12T03:48:25.214Z"
   },
   {
    "duration": 143,
    "start_time": "2022-04-12T03:49:25.212Z"
   },
   {
    "duration": 17,
    "start_time": "2022-04-12T03:54:57.598Z"
   },
   {
    "duration": 189,
    "start_time": "2022-04-12T03:58:31.322Z"
   },
   {
    "duration": 248,
    "start_time": "2022-04-12T03:58:43.662Z"
   },
   {
    "duration": 42,
    "start_time": "2022-04-12T14:33:33.400Z"
   },
   {
    "duration": 832,
    "start_time": "2022-04-12T14:33:41.272Z"
   },
   {
    "duration": 102,
    "start_time": "2022-04-12T14:33:42.107Z"
   },
   {
    "duration": 97,
    "start_time": "2022-04-12T14:33:42.210Z"
   },
   {
    "duration": 8,
    "start_time": "2022-04-12T14:33:42.309Z"
   },
   {
    "duration": 19,
    "start_time": "2022-04-12T14:33:42.318Z"
   },
   {
    "duration": 143,
    "start_time": "2022-04-12T14:33:42.338Z"
   },
   {
    "duration": 24,
    "start_time": "2022-04-12T14:33:42.482Z"
   },
   {
    "duration": 31,
    "start_time": "2022-04-12T14:33:42.508Z"
   },
   {
    "duration": 5,
    "start_time": "2022-04-12T14:33:42.540Z"
   },
   {
    "duration": 12,
    "start_time": "2022-04-12T14:33:42.547Z"
   },
   {
    "duration": 463,
    "start_time": "2022-04-12T14:33:42.562Z"
   },
   {
    "duration": 17,
    "start_time": "2022-04-12T14:33:43.027Z"
   },
   {
    "duration": 8,
    "start_time": "2022-04-12T14:33:43.046Z"
   },
   {
    "duration": 437,
    "start_time": "2022-04-12T14:33:43.055Z"
   },
   {
    "duration": 525,
    "start_time": "2022-04-12T14:33:43.494Z"
   },
   {
    "duration": 167,
    "start_time": "2022-04-12T14:33:44.021Z"
   },
   {
    "duration": 176,
    "start_time": "2022-04-12T14:33:44.189Z"
   },
   {
    "duration": 120,
    "start_time": "2022-04-12T14:33:44.367Z"
   },
   {
    "duration": 113,
    "start_time": "2022-04-12T14:33:44.489Z"
   },
   {
    "duration": 186,
    "start_time": "2022-04-12T14:33:44.603Z"
   },
   {
    "duration": 120,
    "start_time": "2022-04-12T14:33:44.790Z"
   },
   {
    "duration": 3,
    "start_time": "2022-04-12T14:33:44.912Z"
   },
   {
    "duration": 5,
    "start_time": "2022-04-12T14:33:44.917Z"
   },
   {
    "duration": 25,
    "start_time": "2022-04-12T14:33:44.923Z"
   },
   {
    "duration": 134,
    "start_time": "2022-04-12T14:33:44.950Z"
   },
   {
    "duration": 133,
    "start_time": "2022-04-12T14:33:45.085Z"
   },
   {
    "duration": 132,
    "start_time": "2022-04-12T14:33:45.220Z"
   },
   {
    "duration": 109,
    "start_time": "2022-04-12T14:33:45.353Z"
   },
   {
    "duration": 169,
    "start_time": "2022-04-12T14:33:45.463Z"
   },
   {
    "duration": 87,
    "start_time": "2022-04-12T14:33:45.633Z"
   },
   {
    "duration": 15,
    "start_time": "2022-04-12T14:33:56.907Z"
   },
   {
    "duration": 136,
    "start_time": "2022-04-12T14:35:44.530Z"
   },
   {
    "duration": 22,
    "start_time": "2022-04-12T14:37:04.694Z"
   },
   {
    "duration": 120,
    "start_time": "2022-04-12T14:37:07.571Z"
   },
   {
    "duration": 132,
    "start_time": "2022-04-12T14:37:10.693Z"
   },
   {
    "duration": 21,
    "start_time": "2022-04-12T14:37:21.716Z"
   },
   {
    "duration": 128,
    "start_time": "2022-04-12T14:37:27.343Z"
   },
   {
    "duration": 22,
    "start_time": "2022-04-12T14:37:42.752Z"
   },
   {
    "duration": 225,
    "start_time": "2022-04-12T14:39:02.691Z"
   },
   {
    "duration": 18,
    "start_time": "2022-04-12T14:40:01.103Z"
   },
   {
    "duration": 18,
    "start_time": "2022-04-12T14:41:13.892Z"
   },
   {
    "duration": 151,
    "start_time": "2022-04-12T14:44:14.446Z"
   },
   {
    "duration": 180,
    "start_time": "2022-04-12T14:51:58.211Z"
   },
   {
    "duration": 174,
    "start_time": "2022-04-12T14:52:03.543Z"
   },
   {
    "duration": 170,
    "start_time": "2022-04-12T14:52:10.501Z"
   },
   {
    "duration": 178,
    "start_time": "2022-04-12T14:52:16.622Z"
   },
   {
    "duration": 176,
    "start_time": "2022-04-12T14:52:26.439Z"
   },
   {
    "duration": 3,
    "start_time": "2022-04-12T14:52:52.800Z"
   },
   {
    "duration": 173,
    "start_time": "2022-04-12T14:52:57.323Z"
   },
   {
    "duration": 156,
    "start_time": "2022-04-12T14:53:34.300Z"
   },
   {
    "duration": 141,
    "start_time": "2022-04-12T14:53:41.806Z"
   },
   {
    "duration": 155,
    "start_time": "2022-04-12T14:54:22.209Z"
   },
   {
    "duration": 164,
    "start_time": "2022-04-12T14:54:46.818Z"
   },
   {
    "duration": 4,
    "start_time": "2022-04-12T14:55:18.658Z"
   },
   {
    "duration": 147,
    "start_time": "2022-04-12T14:55:22.383Z"
   },
   {
    "duration": 151,
    "start_time": "2022-04-12T14:56:17.822Z"
   },
   {
    "duration": 218,
    "start_time": "2022-04-12T14:56:41.082Z"
   },
   {
    "duration": 164,
    "start_time": "2022-04-12T14:58:00.939Z"
   },
   {
    "duration": 158,
    "start_time": "2022-04-12T14:58:13.788Z"
   },
   {
    "duration": 145,
    "start_time": "2022-04-12T14:58:37.033Z"
   },
   {
    "duration": 95,
    "start_time": "2022-04-12T14:58:49.181Z"
   },
   {
    "duration": 134,
    "start_time": "2022-04-12T14:59:01.948Z"
   },
   {
    "duration": 120,
    "start_time": "2022-04-12T14:59:20.581Z"
   },
   {
    "duration": 121,
    "start_time": "2022-04-12T14:59:42.585Z"
   },
   {
    "duration": 187,
    "start_time": "2022-04-12T15:00:08.786Z"
   },
   {
    "duration": 128,
    "start_time": "2022-04-12T15:00:20.985Z"
   },
   {
    "duration": 122,
    "start_time": "2022-04-12T15:00:29.210Z"
   },
   {
    "duration": 120,
    "start_time": "2022-04-12T15:00:36.176Z"
   },
   {
    "duration": 245,
    "start_time": "2022-04-12T15:00:42.326Z"
   },
   {
    "duration": 425,
    "start_time": "2022-04-12T15:01:03.228Z"
   },
   {
    "duration": 519,
    "start_time": "2022-04-12T15:02:26.299Z"
   },
   {
    "duration": 525,
    "start_time": "2022-04-12T15:02:50.577Z"
   },
   {
    "duration": 878,
    "start_time": "2022-04-12T15:03:14.419Z"
   },
   {
    "duration": 111,
    "start_time": "2022-04-12T15:03:50.025Z"
   },
   {
    "duration": 118,
    "start_time": "2022-04-12T15:04:44.242Z"
   },
   {
    "duration": 166,
    "start_time": "2022-04-12T15:05:31.377Z"
   },
   {
    "duration": 102,
    "start_time": "2022-04-12T15:05:58.576Z"
   },
   {
    "duration": 191,
    "start_time": "2022-04-12T22:20:50.492Z"
   },
   {
    "duration": 64,
    "start_time": "2022-04-12T22:21:03.522Z"
   },
   {
    "duration": 1084,
    "start_time": "2022-04-12T22:21:21.238Z"
   },
   {
    "duration": 126,
    "start_time": "2022-04-12T22:21:22.325Z"
   },
   {
    "duration": 141,
    "start_time": "2022-04-12T22:21:22.453Z"
   },
   {
    "duration": 14,
    "start_time": "2022-04-12T22:21:22.596Z"
   },
   {
    "duration": 38,
    "start_time": "2022-04-12T22:21:22.613Z"
   },
   {
    "duration": 243,
    "start_time": "2022-04-12T22:21:22.654Z"
   },
   {
    "duration": 36,
    "start_time": "2022-04-12T22:21:22.899Z"
   },
   {
    "duration": 72,
    "start_time": "2022-04-12T22:21:22.937Z"
   },
   {
    "duration": 8,
    "start_time": "2022-04-12T22:21:23.011Z"
   },
   {
    "duration": 27,
    "start_time": "2022-04-12T22:21:23.021Z"
   },
   {
    "duration": 590,
    "start_time": "2022-04-12T22:21:23.050Z"
   },
   {
    "duration": 28,
    "start_time": "2022-04-12T22:21:23.642Z"
   },
   {
    "duration": 38,
    "start_time": "2022-04-12T22:21:23.673Z"
   },
   {
    "duration": 794,
    "start_time": "2022-04-12T22:21:23.717Z"
   },
   {
    "duration": 968,
    "start_time": "2022-04-12T22:21:24.514Z"
   },
   {
    "duration": 414,
    "start_time": "2022-04-12T22:21:25.485Z"
   },
   {
    "duration": 309,
    "start_time": "2022-04-12T22:21:25.901Z"
   },
   {
    "duration": 204,
    "start_time": "2022-04-12T22:21:26.212Z"
   },
   {
    "duration": 197,
    "start_time": "2022-04-12T22:21:26.419Z"
   },
   {
    "duration": 292,
    "start_time": "2022-04-12T22:21:26.618Z"
   },
   {
    "duration": 203,
    "start_time": "2022-04-12T22:21:26.913Z"
   },
   {
    "duration": 4,
    "start_time": "2022-04-12T22:21:27.118Z"
   },
   {
    "duration": 6,
    "start_time": "2022-04-12T22:21:27.124Z"
   },
   {
    "duration": 34,
    "start_time": "2022-04-12T22:21:27.133Z"
   },
   {
    "duration": 242,
    "start_time": "2022-04-12T22:21:27.169Z"
   },
   {
    "duration": 229,
    "start_time": "2022-04-12T22:21:27.413Z"
   },
   {
    "duration": 234,
    "start_time": "2022-04-12T22:21:27.644Z"
   },
   {
    "duration": 194,
    "start_time": "2022-04-12T22:21:27.880Z"
   },
   {
    "duration": 289,
    "start_time": "2022-04-12T22:21:28.076Z"
   },
   {
    "duration": 301,
    "start_time": "2022-04-12T22:21:28.367Z"
   },
   {
    "duration": 280,
    "start_time": "2022-04-12T22:21:28.670Z"
   },
   {
    "duration": 32,
    "start_time": "2022-04-12T22:21:28.967Z"
   },
   {
    "duration": 19,
    "start_time": "2022-04-12T22:27:17.311Z"
   },
   {
    "duration": 24,
    "start_time": "2022-04-12T22:28:03.703Z"
   },
   {
    "duration": 20,
    "start_time": "2022-04-12T22:28:20.961Z"
   },
   {
    "duration": 34,
    "start_time": "2022-04-12T22:28:55.944Z"
   },
   {
    "duration": 19,
    "start_time": "2022-04-12T22:30:23.210Z"
   },
   {
    "duration": 25,
    "start_time": "2022-04-12T22:30:52.218Z"
   },
   {
    "duration": 3067,
    "start_time": "2022-04-12T22:31:14.560Z"
   },
   {
    "duration": 29,
    "start_time": "2022-04-12T22:31:49.298Z"
   },
   {
    "duration": 40,
    "start_time": "2022-04-12T22:32:18.433Z"
   },
   {
    "duration": 34,
    "start_time": "2022-04-12T22:32:31.271Z"
   },
   {
    "duration": 24,
    "start_time": "2022-04-12T22:33:32.093Z"
   },
   {
    "duration": 38,
    "start_time": "2022-04-12T22:33:51.410Z"
   },
   {
    "duration": 179,
    "start_time": "2022-04-12T22:34:35.733Z"
   },
   {
    "duration": 42,
    "start_time": "2022-04-12T22:34:39.392Z"
   },
   {
    "duration": 44,
    "start_time": "2022-04-12T22:34:52.009Z"
   },
   {
    "duration": 60,
    "start_time": "2022-04-12T22:37:22.835Z"
   },
   {
    "duration": 63,
    "start_time": "2022-04-12T22:37:30.438Z"
   },
   {
    "duration": 61,
    "start_time": "2022-04-12T22:37:52.007Z"
   },
   {
    "duration": 64,
    "start_time": "2022-04-12T22:38:00.221Z"
   },
   {
    "duration": 53,
    "start_time": "2022-04-12T22:38:51.939Z"
   },
   {
    "duration": 60,
    "start_time": "2022-04-12T22:39:25.486Z"
   },
   {
    "duration": 60,
    "start_time": "2022-04-12T22:39:32.917Z"
   },
   {
    "duration": 79,
    "start_time": "2022-04-12T22:42:12.788Z"
   },
   {
    "duration": 81,
    "start_time": "2022-04-12T22:43:05.488Z"
   },
   {
    "duration": 78,
    "start_time": "2022-04-12T22:46:46.654Z"
   },
   {
    "duration": 93,
    "start_time": "2022-04-12T22:47:54.134Z"
   },
   {
    "duration": 193,
    "start_time": "2022-04-12T22:48:11.145Z"
   },
   {
    "duration": 267,
    "start_time": "2022-04-12T22:48:25.128Z"
   },
   {
    "duration": 451,
    "start_time": "2022-04-12T22:48:46.386Z"
   },
   {
    "duration": 375,
    "start_time": "2022-04-12T22:49:37.992Z"
   },
   {
    "duration": 292,
    "start_time": "2022-04-12T22:49:46.284Z"
   },
   {
    "duration": 7,
    "start_time": "2022-04-12T22:50:02.865Z"
   },
   {
    "duration": 290,
    "start_time": "2022-04-12T22:50:07.987Z"
   },
   {
    "duration": 314,
    "start_time": "2022-04-12T22:50:15.731Z"
   },
   {
    "duration": 303,
    "start_time": "2022-04-12T22:52:05.347Z"
   },
   {
    "duration": 504,
    "start_time": "2022-04-12T22:53:29.389Z"
   },
   {
    "duration": 665,
    "start_time": "2022-04-12T22:54:50.633Z"
   },
   {
    "duration": 522,
    "start_time": "2022-04-12T22:55:09.874Z"
   },
   {
    "duration": 518,
    "start_time": "2022-04-12T22:55:27.525Z"
   },
   {
    "duration": 541,
    "start_time": "2022-04-12T22:55:58.636Z"
   },
   {
    "duration": 610,
    "start_time": "2022-04-12T22:56:06.955Z"
   },
   {
    "duration": 509,
    "start_time": "2022-04-12T22:56:11.016Z"
   },
   {
    "duration": 508,
    "start_time": "2022-04-12T22:56:23.318Z"
   },
   {
    "duration": 698,
    "start_time": "2022-04-12T22:56:33.044Z"
   },
   {
    "duration": 507,
    "start_time": "2022-04-12T22:59:15.743Z"
   },
   {
    "duration": 5391,
    "start_time": "2022-04-12T23:02:12.201Z"
   },
   {
    "duration": 3372,
    "start_time": "2022-04-12T23:02:24.527Z"
   },
   {
    "duration": 3352,
    "start_time": "2022-04-12T23:02:36.868Z"
   },
   {
    "duration": 844,
    "start_time": "2022-04-12T23:02:51.006Z"
   },
   {
    "duration": 130,
    "start_time": "2022-04-12T23:02:51.853Z"
   },
   {
    "duration": 138,
    "start_time": "2022-04-12T23:02:51.992Z"
   },
   {
    "duration": 13,
    "start_time": "2022-04-12T23:02:52.133Z"
   },
   {
    "duration": 28,
    "start_time": "2022-04-12T23:02:52.148Z"
   },
   {
    "duration": 237,
    "start_time": "2022-04-12T23:02:52.193Z"
   },
   {
    "duration": 38,
    "start_time": "2022-04-12T23:02:52.432Z"
   },
   {
    "duration": 67,
    "start_time": "2022-04-12T23:02:52.472Z"
   },
   {
    "duration": 8,
    "start_time": "2022-04-12T23:02:52.541Z"
   },
   {
    "duration": 41,
    "start_time": "2022-04-12T23:02:52.553Z"
   },
   {
    "duration": 569,
    "start_time": "2022-04-12T23:02:52.596Z"
   },
   {
    "duration": 35,
    "start_time": "2022-04-12T23:02:53.167Z"
   },
   {
    "duration": 14,
    "start_time": "2022-04-12T23:02:53.204Z"
   },
   {
    "duration": 827,
    "start_time": "2022-04-12T23:02:53.220Z"
   },
   {
    "duration": 963,
    "start_time": "2022-04-12T23:02:54.049Z"
   },
   {
    "duration": 310,
    "start_time": "2022-04-12T23:02:55.014Z"
   },
   {
    "duration": 314,
    "start_time": "2022-04-12T23:02:55.326Z"
   },
   {
    "duration": 209,
    "start_time": "2022-04-12T23:02:55.642Z"
   },
   {
    "duration": 193,
    "start_time": "2022-04-12T23:02:55.854Z"
   },
   {
    "duration": 299,
    "start_time": "2022-04-12T23:02:56.049Z"
   },
   {
    "duration": 206,
    "start_time": "2022-04-12T23:02:56.350Z"
   },
   {
    "duration": 4,
    "start_time": "2022-04-12T23:02:56.558Z"
   },
   {
    "duration": 7,
    "start_time": "2022-04-12T23:02:56.564Z"
   },
   {
    "duration": 50,
    "start_time": "2022-04-12T23:02:56.574Z"
   },
   {
    "duration": 231,
    "start_time": "2022-04-12T23:02:56.626Z"
   },
   {
    "duration": 226,
    "start_time": "2022-04-12T23:02:56.859Z"
   },
   {
    "duration": 239,
    "start_time": "2022-04-12T23:02:57.087Z"
   },
   {
    "duration": 199,
    "start_time": "2022-04-12T23:02:57.332Z"
   },
   {
    "duration": 280,
    "start_time": "2022-04-12T23:02:57.534Z"
   },
   {
    "duration": 299,
    "start_time": "2022-04-12T23:02:57.816Z"
   },
   {
    "duration": 289,
    "start_time": "2022-04-12T23:02:58.117Z"
   },
   {
    "duration": 0,
    "start_time": "2022-04-12T23:03:01.944Z"
   },
   {
    "duration": 611,
    "start_time": "2022-04-12T23:07:51.010Z"
   },
   {
    "duration": 485,
    "start_time": "2022-04-12T23:08:18.414Z"
   },
   {
    "duration": 502,
    "start_time": "2022-04-12T23:12:53.155Z"
   },
   {
    "duration": 502,
    "start_time": "2022-04-12T23:13:06.633Z"
   },
   {
    "duration": 233,
    "start_time": "2022-04-12T23:13:34.160Z"
   },
   {
    "duration": 276,
    "start_time": "2022-04-12T23:15:56.339Z"
   },
   {
    "duration": 330,
    "start_time": "2022-04-12T23:16:02.494Z"
   },
   {
    "duration": 411,
    "start_time": "2022-04-12T23:16:26.501Z"
   },
   {
    "duration": 296,
    "start_time": "2022-04-12T23:16:37.307Z"
   },
   {
    "duration": 289,
    "start_time": "2022-04-12T23:16:51.240Z"
   },
   {
    "duration": 303,
    "start_time": "2022-04-12T23:16:58.455Z"
   },
   {
    "duration": 218,
    "start_time": "2022-04-12T23:17:11.397Z"
   },
   {
    "duration": 228,
    "start_time": "2022-04-12T23:17:23.162Z"
   },
   {
    "duration": 447,
    "start_time": "2022-04-12T23:18:04.187Z"
   },
   {
    "duration": 389,
    "start_time": "2022-04-12T23:19:08.387Z"
   },
   {
    "duration": 446,
    "start_time": "2022-04-12T23:19:14.809Z"
   },
   {
    "duration": 46,
    "start_time": "2022-04-13T01:50:26.638Z"
   },
   {
    "duration": 1330,
    "start_time": "2022-04-13T01:50:38.296Z"
   },
   {
    "duration": 153,
    "start_time": "2022-04-13T01:50:39.629Z"
   },
   {
    "duration": 112,
    "start_time": "2022-04-13T01:50:39.784Z"
   },
   {
    "duration": 10,
    "start_time": "2022-04-13T01:50:39.898Z"
   },
   {
    "duration": 23,
    "start_time": "2022-04-13T01:50:39.910Z"
   },
   {
    "duration": 194,
    "start_time": "2022-04-13T01:50:39.934Z"
   },
   {
    "duration": 43,
    "start_time": "2022-04-13T01:50:40.130Z"
   },
   {
    "duration": 38,
    "start_time": "2022-04-13T01:50:40.175Z"
   },
   {
    "duration": 6,
    "start_time": "2022-04-13T01:50:40.215Z"
   },
   {
    "duration": 13,
    "start_time": "2022-04-13T01:50:40.225Z"
   },
   {
    "duration": 311,
    "start_time": "2022-04-13T01:50:40.273Z"
   },
   {
    "duration": 23,
    "start_time": "2022-04-13T01:50:40.587Z"
   },
   {
    "duration": 11,
    "start_time": "2022-04-13T01:50:40.612Z"
   },
   {
    "duration": 518,
    "start_time": "2022-04-13T01:50:40.625Z"
   },
   {
    "duration": 735,
    "start_time": "2022-04-13T01:50:41.145Z"
   },
   {
    "duration": 205,
    "start_time": "2022-04-13T01:50:41.883Z"
   },
   {
    "duration": 216,
    "start_time": "2022-04-13T01:50:42.090Z"
   },
   {
    "duration": 148,
    "start_time": "2022-04-13T01:50:42.308Z"
   },
   {
    "duration": 133,
    "start_time": "2022-04-13T01:50:42.458Z"
   },
   {
    "duration": 156,
    "start_time": "2022-04-13T01:50:42.592Z"
   },
   {
    "duration": 148,
    "start_time": "2022-04-13T01:50:42.750Z"
   },
   {
    "duration": 3,
    "start_time": "2022-04-13T01:50:42.899Z"
   },
   {
    "duration": 11,
    "start_time": "2022-04-13T01:50:42.904Z"
   },
   {
    "duration": 41,
    "start_time": "2022-04-13T01:50:42.916Z"
   },
   {
    "duration": 153,
    "start_time": "2022-04-13T01:50:42.958Z"
   },
   {
    "duration": 154,
    "start_time": "2022-04-13T01:50:43.113Z"
   },
   {
    "duration": 269,
    "start_time": "2022-04-13T01:50:43.273Z"
   },
   {
    "duration": 136,
    "start_time": "2022-04-13T01:50:43.545Z"
   },
   {
    "duration": 192,
    "start_time": "2022-04-13T01:50:43.683Z"
   },
   {
    "duration": 211,
    "start_time": "2022-04-13T01:50:43.877Z"
   },
   {
    "duration": 190,
    "start_time": "2022-04-13T01:50:44.090Z"
   },
   {
    "duration": 162,
    "start_time": "2022-04-13T01:50:44.282Z"
   },
   {
    "duration": 0,
    "start_time": "2022-04-13T01:50:44.445Z"
   },
   {
    "duration": 0,
    "start_time": "2022-04-13T01:50:44.447Z"
   },
   {
    "duration": 0,
    "start_time": "2022-04-13T01:50:44.448Z"
   },
   {
    "duration": 66,
    "start_time": "2022-04-13T01:51:25.975Z"
   },
   {
    "duration": 84,
    "start_time": "2022-04-13T01:51:57.234Z"
   },
   {
    "duration": 30,
    "start_time": "2022-04-13T01:52:06.010Z"
   },
   {
    "duration": 62,
    "start_time": "2022-04-13T01:52:18.381Z"
   },
   {
    "duration": 62,
    "start_time": "2022-04-13T01:53:04.321Z"
   },
   {
    "duration": 117,
    "start_time": "2022-04-13T01:53:51.430Z"
   },
   {
    "duration": 169,
    "start_time": "2022-04-13T01:54:07.992Z"
   },
   {
    "duration": 151,
    "start_time": "2022-04-13T01:54:31.924Z"
   },
   {
    "duration": 83,
    "start_time": "2022-04-13T01:54:52.473Z"
   },
   {
    "duration": 799,
    "start_time": "2022-04-13T01:56:26.554Z"
   },
   {
    "duration": 1467,
    "start_time": "2022-04-13T01:56:58.661Z"
   },
   {
    "duration": 85,
    "start_time": "2022-04-13T01:59:17.960Z"
   },
   {
    "duration": 63,
    "start_time": "2022-04-13T01:59:47.975Z"
   },
   {
    "duration": 88,
    "start_time": "2022-04-13T01:59:56.769Z"
   },
   {
    "duration": 67,
    "start_time": "2022-04-13T02:00:08.424Z"
   },
   {
    "duration": 85,
    "start_time": "2022-04-13T02:00:14.670Z"
   },
   {
    "duration": 65,
    "start_time": "2022-04-13T02:08:59.190Z"
   },
   {
    "duration": 312,
    "start_time": "2022-04-13T02:09:27.963Z"
   },
   {
    "duration": 61,
    "start_time": "2022-04-13T02:10:10.472Z"
   },
   {
    "duration": 344,
    "start_time": "2022-04-13T02:10:12.970Z"
   },
   {
    "duration": 77,
    "start_time": "2022-04-13T02:10:21.368Z"
   },
   {
    "duration": 85,
    "start_time": "2022-04-13T02:10:31.939Z"
   },
   {
    "duration": 415,
    "start_time": "2022-04-13T02:12:59.628Z"
   },
   {
    "duration": 287,
    "start_time": "2022-04-13T02:13:27.005Z"
   },
   {
    "duration": 491,
    "start_time": "2022-04-13T02:25:27.350Z"
   },
   {
    "duration": 111,
    "start_time": "2022-04-13T02:26:53.870Z"
   },
   {
    "duration": 124,
    "start_time": "2022-04-13T02:27:06.605Z"
   },
   {
    "duration": 117,
    "start_time": "2022-04-13T02:27:30.480Z"
   },
   {
    "duration": 490,
    "start_time": "2022-04-13T02:27:37.294Z"
   },
   {
    "duration": 769,
    "start_time": "2022-04-13T02:33:39.098Z"
   },
   {
    "duration": 118,
    "start_time": "2022-04-13T02:38:05.421Z"
   },
   {
    "duration": 607,
    "start_time": "2022-04-13T02:38:10.112Z"
   },
   {
    "duration": 763,
    "start_time": "2022-04-13T02:38:27.594Z"
   },
   {
    "duration": 612,
    "start_time": "2022-04-13T02:38:46.166Z"
   },
   {
    "duration": 596,
    "start_time": "2022-04-13T02:39:03.090Z"
   },
   {
    "duration": 1007,
    "start_time": "2022-04-13T03:24:36.968Z"
   },
   {
    "duration": 1165,
    "start_time": "2022-04-13T03:27:09.607Z"
   },
   {
    "duration": 100,
    "start_time": "2022-04-13T03:27:10.774Z"
   },
   {
    "duration": 105,
    "start_time": "2022-04-13T03:27:10.875Z"
   },
   {
    "duration": 9,
    "start_time": "2022-04-13T03:27:10.982Z"
   },
   {
    "duration": 20,
    "start_time": "2022-04-13T03:27:10.993Z"
   },
   {
    "duration": 185,
    "start_time": "2022-04-13T03:27:11.015Z"
   },
   {
    "duration": 28,
    "start_time": "2022-04-13T03:27:11.202Z"
   },
   {
    "duration": 56,
    "start_time": "2022-04-13T03:27:11.231Z"
   },
   {
    "duration": 6,
    "start_time": "2022-04-13T03:27:11.288Z"
   },
   {
    "duration": 16,
    "start_time": "2022-04-13T03:27:11.296Z"
   },
   {
    "duration": 316,
    "start_time": "2022-04-13T03:27:11.313Z"
   },
   {
    "duration": 20,
    "start_time": "2022-04-13T03:27:11.630Z"
   },
   {
    "duration": 28,
    "start_time": "2022-04-13T03:27:11.652Z"
   },
   {
    "duration": 476,
    "start_time": "2022-04-13T03:27:11.682Z"
   },
   {
    "duration": 687,
    "start_time": "2022-04-13T03:27:12.160Z"
   },
   {
    "duration": 185,
    "start_time": "2022-04-13T03:27:12.849Z"
   },
   {
    "duration": 204,
    "start_time": "2022-04-13T03:27:13.036Z"
   },
   {
    "duration": 146,
    "start_time": "2022-04-13T03:27:13.242Z"
   },
   {
    "duration": 131,
    "start_time": "2022-04-13T03:27:13.390Z"
   },
   {
    "duration": 164,
    "start_time": "2022-04-13T03:27:13.523Z"
   },
   {
    "duration": 149,
    "start_time": "2022-04-13T03:27:13.689Z"
   },
   {
    "duration": 4,
    "start_time": "2022-04-13T03:27:13.841Z"
   },
   {
    "duration": 8,
    "start_time": "2022-04-13T03:27:13.846Z"
   },
   {
    "duration": 42,
    "start_time": "2022-04-13T03:27:13.856Z"
   },
   {
    "duration": 173,
    "start_time": "2022-04-13T03:27:13.900Z"
   },
   {
    "duration": 161,
    "start_time": "2022-04-13T03:27:14.075Z"
   },
   {
    "duration": 282,
    "start_time": "2022-04-13T03:27:14.238Z"
   },
   {
    "duration": 130,
    "start_time": "2022-04-13T03:27:14.524Z"
   },
   {
    "duration": 204,
    "start_time": "2022-04-13T03:27:14.656Z"
   },
   {
    "duration": 227,
    "start_time": "2022-04-13T03:27:14.862Z"
   },
   {
    "duration": 196,
    "start_time": "2022-04-13T03:27:15.092Z"
   },
   {
    "duration": 104,
    "start_time": "2022-04-13T03:27:15.290Z"
   },
   {
    "duration": 362,
    "start_time": "2022-04-13T03:27:15.397Z"
   },
   {
    "duration": 297,
    "start_time": "2022-04-13T03:27:15.761Z"
   },
   {
    "duration": 325,
    "start_time": "2022-04-13T03:27:16.060Z"
   },
   {
    "duration": 878,
    "start_time": "2022-04-13T03:27:16.388Z"
   },
   {
    "duration": 348,
    "start_time": "2022-04-13T03:29:09.885Z"
   },
   {
    "duration": 935,
    "start_time": "2022-04-13T03:30:01.905Z"
   },
   {
    "duration": 798,
    "start_time": "2022-04-13T03:31:01.473Z"
   },
   {
    "duration": 275,
    "start_time": "2022-04-13T03:36:49.479Z"
   },
   {
    "duration": 544,
    "start_time": "2022-04-13T03:37:41.499Z"
   },
   {
    "duration": 340,
    "start_time": "2022-04-13T03:42:19.677Z"
   },
   {
    "duration": 323,
    "start_time": "2022-04-13T03:43:21.584Z"
   },
   {
    "duration": 329,
    "start_time": "2022-04-13T03:43:38.269Z"
   },
   {
    "duration": 327,
    "start_time": "2022-04-13T03:45:25.462Z"
   },
   {
    "duration": 332,
    "start_time": "2022-04-13T03:46:43.771Z"
   },
   {
    "duration": 457,
    "start_time": "2022-04-13T03:47:47.826Z"
   },
   {
    "duration": 327,
    "start_time": "2022-04-13T03:48:00.721Z"
   },
   {
    "duration": 333,
    "start_time": "2022-04-13T04:07:47.130Z"
   },
   {
    "duration": 301,
    "start_time": "2022-04-13T04:25:52.283Z"
   },
   {
    "duration": 1167,
    "start_time": "2022-04-14T06:56:39.213Z"
   },
   {
    "duration": 102,
    "start_time": "2022-04-14T06:56:40.382Z"
   },
   {
    "duration": 100,
    "start_time": "2022-04-14T06:56:40.486Z"
   },
   {
    "duration": 15,
    "start_time": "2022-04-14T06:56:40.587Z"
   },
   {
    "duration": 19,
    "start_time": "2022-04-14T06:56:40.604Z"
   },
   {
    "duration": 158,
    "start_time": "2022-04-14T06:56:40.624Z"
   },
   {
    "duration": 36,
    "start_time": "2022-04-14T06:56:40.783Z"
   },
   {
    "duration": 35,
    "start_time": "2022-04-14T06:56:40.820Z"
   },
   {
    "duration": 7,
    "start_time": "2022-04-14T06:56:40.857Z"
   },
   {
    "duration": 35,
    "start_time": "2022-04-14T06:56:40.866Z"
   },
   {
    "duration": 307,
    "start_time": "2022-04-14T06:56:40.903Z"
   },
   {
    "duration": 19,
    "start_time": "2022-04-14T06:56:41.212Z"
   },
   {
    "duration": 10,
    "start_time": "2022-04-14T06:56:41.232Z"
   },
   {
    "duration": 458,
    "start_time": "2022-04-14T06:56:41.244Z"
   },
   {
    "duration": 614,
    "start_time": "2022-04-14T06:56:41.704Z"
   },
   {
    "duration": 164,
    "start_time": "2022-04-14T06:56:42.319Z"
   },
   {
    "duration": 181,
    "start_time": "2022-04-14T06:56:42.485Z"
   },
   {
    "duration": 126,
    "start_time": "2022-04-14T06:56:42.668Z"
   },
   {
    "duration": 117,
    "start_time": "2022-04-14T06:56:42.799Z"
   },
   {
    "duration": 134,
    "start_time": "2022-04-14T06:56:42.917Z"
   },
   {
    "duration": 122,
    "start_time": "2022-04-14T06:56:43.053Z"
   },
   {
    "duration": 3,
    "start_time": "2022-04-14T06:56:43.177Z"
   },
   {
    "duration": 8,
    "start_time": "2022-04-14T06:56:43.181Z"
   },
   {
    "duration": 29,
    "start_time": "2022-04-14T06:56:43.201Z"
   },
   {
    "duration": 131,
    "start_time": "2022-04-14T06:56:43.231Z"
   },
   {
    "duration": 132,
    "start_time": "2022-04-14T06:56:43.363Z"
   },
   {
    "duration": 225,
    "start_time": "2022-04-14T06:56:43.496Z"
   },
   {
    "duration": 120,
    "start_time": "2022-04-14T06:56:43.723Z"
   },
   {
    "duration": 172,
    "start_time": "2022-04-14T06:56:43.845Z"
   },
   {
    "duration": 183,
    "start_time": "2022-04-14T06:56:44.019Z"
   },
   {
    "duration": 163,
    "start_time": "2022-04-14T06:56:44.203Z"
   },
   {
    "duration": 91,
    "start_time": "2022-04-14T06:56:44.368Z"
   },
   {
    "duration": 321,
    "start_time": "2022-04-14T06:56:44.461Z"
   },
   {
    "duration": 402,
    "start_time": "2022-04-14T06:56:44.785Z"
   },
   {
    "duration": 370,
    "start_time": "2022-04-14T06:56:45.188Z"
   },
   {
    "duration": 711,
    "start_time": "2022-04-14T06:56:45.559Z"
   },
   {
    "duration": 20,
    "start_time": "2022-04-14T06:58:31.676Z"
   },
   {
    "duration": 43,
    "start_time": "2022-04-14T13:04:39.281Z"
   },
   {
    "duration": 1267,
    "start_time": "2022-04-14T13:04:48.068Z"
   },
   {
    "duration": 94,
    "start_time": "2022-04-14T13:04:49.337Z"
   },
   {
    "duration": 101,
    "start_time": "2022-04-14T13:04:49.433Z"
   },
   {
    "duration": 8,
    "start_time": "2022-04-14T13:04:49.537Z"
   },
   {
    "duration": 18,
    "start_time": "2022-04-14T13:04:49.547Z"
   },
   {
    "duration": 179,
    "start_time": "2022-04-14T13:04:49.567Z"
   },
   {
    "duration": 25,
    "start_time": "2022-04-14T13:04:49.748Z"
   },
   {
    "duration": 48,
    "start_time": "2022-04-14T13:04:49.774Z"
   },
   {
    "duration": 7,
    "start_time": "2022-04-14T13:04:49.824Z"
   },
   {
    "duration": 11,
    "start_time": "2022-04-14T13:04:49.834Z"
   },
   {
    "duration": 426,
    "start_time": "2022-04-14T13:04:49.846Z"
   },
   {
    "duration": 40,
    "start_time": "2022-04-14T13:04:50.274Z"
   },
   {
    "duration": 16,
    "start_time": "2022-04-14T13:04:50.315Z"
   },
   {
    "duration": 534,
    "start_time": "2022-04-14T13:04:50.332Z"
   },
   {
    "duration": 553,
    "start_time": "2022-04-14T13:04:50.867Z"
   },
   {
    "duration": 168,
    "start_time": "2022-04-14T13:04:51.422Z"
   },
   {
    "duration": 185,
    "start_time": "2022-04-14T13:04:51.592Z"
   },
   {
    "duration": 129,
    "start_time": "2022-04-14T13:04:51.778Z"
   },
   {
    "duration": 118,
    "start_time": "2022-04-14T13:04:51.909Z"
   },
   {
    "duration": 139,
    "start_time": "2022-04-14T13:04:52.028Z"
   },
   {
    "duration": 134,
    "start_time": "2022-04-14T13:04:52.168Z"
   },
   {
    "duration": 3,
    "start_time": "2022-04-14T13:04:52.308Z"
   },
   {
    "duration": 16,
    "start_time": "2022-04-14T13:04:52.313Z"
   },
   {
    "duration": 28,
    "start_time": "2022-04-14T13:04:52.330Z"
   },
   {
    "duration": 123,
    "start_time": "2022-04-14T13:04:52.360Z"
   },
   {
    "duration": 207,
    "start_time": "2022-04-14T13:04:52.485Z"
   },
   {
    "duration": 137,
    "start_time": "2022-04-14T13:04:52.693Z"
   },
   {
    "duration": 122,
    "start_time": "2022-04-14T13:04:52.833Z"
   },
   {
    "duration": 169,
    "start_time": "2022-04-14T13:04:52.957Z"
   },
   {
    "duration": 196,
    "start_time": "2022-04-14T13:04:53.127Z"
   },
   {
    "duration": 168,
    "start_time": "2022-04-14T13:04:53.325Z"
   },
   {
    "duration": 89,
    "start_time": "2022-04-14T13:04:53.494Z"
   },
   {
    "duration": 309,
    "start_time": "2022-04-14T13:04:53.585Z"
   },
   {
    "duration": 414,
    "start_time": "2022-04-14T13:04:53.900Z"
   },
   {
    "duration": 360,
    "start_time": "2022-04-14T13:04:54.316Z"
   },
   {
    "duration": 699,
    "start_time": "2022-04-14T13:04:54.678Z"
   },
   {
    "duration": 598,
    "start_time": "2022-04-14T13:10:54.714Z"
   },
   {
    "duration": 284,
    "start_time": "2022-04-14T13:12:50.732Z"
   },
   {
    "duration": 255,
    "start_time": "2022-04-14T13:13:19.565Z"
   },
   {
    "duration": 251,
    "start_time": "2022-04-14T13:13:30.923Z"
   },
   {
    "duration": 178,
    "start_time": "2022-04-14T13:13:54.569Z"
   },
   {
    "duration": 277,
    "start_time": "2022-04-14T13:15:10.579Z"
   },
   {
    "duration": 297,
    "start_time": "2022-04-14T13:16:13.904Z"
   },
   {
    "duration": 888,
    "start_time": "2022-04-14T13:17:53.424Z"
   },
   {
    "duration": 200,
    "start_time": "2022-04-14T13:18:05.914Z"
   },
   {
    "duration": 206,
    "start_time": "2022-04-14T13:18:33.920Z"
   },
   {
    "duration": 205,
    "start_time": "2022-04-14T13:19:17.045Z"
   },
   {
    "duration": 18,
    "start_time": "2022-04-14T13:19:26.732Z"
   },
   {
    "duration": 17,
    "start_time": "2022-04-14T13:19:42.997Z"
   },
   {
    "duration": 16,
    "start_time": "2022-04-14T13:20:33.935Z"
   },
   {
    "duration": 4,
    "start_time": "2022-04-14T13:21:19.417Z"
   },
   {
    "duration": 14,
    "start_time": "2022-04-14T13:21:31.689Z"
   },
   {
    "duration": 6,
    "start_time": "2022-04-14T13:22:17.883Z"
   },
   {
    "duration": 8,
    "start_time": "2022-04-14T13:22:26.611Z"
   },
   {
    "duration": 9,
    "start_time": "2022-04-14T13:22:37.434Z"
   },
   {
    "duration": 159,
    "start_time": "2022-04-14T13:23:05.416Z"
   },
   {
    "duration": 9,
    "start_time": "2022-04-14T13:23:13.218Z"
   },
   {
    "duration": 12,
    "start_time": "2022-04-14T13:24:07.958Z"
   },
   {
    "duration": 193,
    "start_time": "2022-04-14T13:30:49.256Z"
   },
   {
    "duration": 5,
    "start_time": "2022-04-14T13:31:11.205Z"
   },
   {
    "duration": 836,
    "start_time": "2022-04-14T13:31:36.685Z"
   },
   {
    "duration": 866,
    "start_time": "2022-04-14T13:32:08.188Z"
   },
   {
    "duration": 6,
    "start_time": "2022-04-14T13:32:34.923Z"
   },
   {
    "duration": 10,
    "start_time": "2022-04-14T13:33:17.481Z"
   },
   {
    "duration": 216,
    "start_time": "2022-04-14T13:39:48.726Z"
   },
   {
    "duration": 14,
    "start_time": "2022-04-14T13:39:55.534Z"
   },
   {
    "duration": 15,
    "start_time": "2022-04-14T13:42:04.498Z"
   },
   {
    "duration": 12,
    "start_time": "2022-04-14T13:42:25.575Z"
   },
   {
    "duration": 5,
    "start_time": "2022-04-14T13:42:40.971Z"
   },
   {
    "duration": 5,
    "start_time": "2022-04-14T13:43:18.387Z"
   },
   {
    "duration": 279,
    "start_time": "2022-04-14T13:43:37.128Z"
   },
   {
    "duration": 5,
    "start_time": "2022-04-14T13:43:46.491Z"
   },
   {
    "duration": 3,
    "start_time": "2022-04-14T13:45:21.766Z"
   },
   {
    "duration": 11,
    "start_time": "2022-04-14T13:46:47.301Z"
   },
   {
    "duration": 122,
    "start_time": "2022-04-14T13:46:58.098Z"
   },
   {
    "duration": 65,
    "start_time": "2022-04-14T13:47:15.558Z"
   },
   {
    "duration": 54,
    "start_time": "2022-04-14T13:47:22.765Z"
   },
   {
    "duration": 59,
    "start_time": "2022-04-14T13:47:27.077Z"
   },
   {
    "duration": 61,
    "start_time": "2022-04-14T13:47:45.034Z"
   },
   {
    "duration": 5,
    "start_time": "2022-04-14T13:48:40.361Z"
   },
   {
    "duration": 31,
    "start_time": "2022-04-14T13:49:05.261Z"
   },
   {
    "duration": 3196,
    "start_time": "2022-04-14T13:51:24.002Z"
   },
   {
    "duration": 857,
    "start_time": "2022-04-14T13:51:41.715Z"
   },
   {
    "duration": 785,
    "start_time": "2022-04-14T13:54:50.374Z"
   },
   {
    "duration": 195,
    "start_time": "2022-04-14T13:55:03.613Z"
   },
   {
    "duration": 216,
    "start_time": "2022-04-14T13:55:49.245Z"
   },
   {
    "duration": 766,
    "start_time": "2022-04-14T13:56:08.804Z"
   },
   {
    "duration": 824,
    "start_time": "2022-04-14T13:57:31.741Z"
   },
   {
    "duration": 789,
    "start_time": "2022-04-14T14:07:30.186Z"
   },
   {
    "duration": 27,
    "start_time": "2022-04-14T14:07:36.278Z"
   },
   {
    "duration": 234,
    "start_time": "2022-04-14T14:09:37.149Z"
   },
   {
    "duration": 1942,
    "start_time": "2022-04-14T14:10:18.036Z"
   },
   {
    "duration": 974,
    "start_time": "2022-04-14T14:10:27.341Z"
   },
   {
    "duration": 8,
    "start_time": "2022-04-14T14:14:30.630Z"
   },
   {
    "duration": 11,
    "start_time": "2022-04-14T14:15:00.225Z"
   },
   {
    "duration": 12,
    "start_time": "2022-04-14T14:15:29.712Z"
   },
   {
    "duration": 23,
    "start_time": "2022-04-14T14:16:18.245Z"
   },
   {
    "duration": 8,
    "start_time": "2022-04-14T14:16:57.268Z"
   },
   {
    "duration": 201,
    "start_time": "2022-04-14T14:17:15.509Z"
   },
   {
    "duration": 26,
    "start_time": "2022-04-14T14:17:20.422Z"
   },
   {
    "duration": 27,
    "start_time": "2022-04-14T14:18:27.732Z"
   },
   {
    "duration": 4,
    "start_time": "2022-04-14T14:18:54.154Z"
   },
   {
    "duration": 5,
    "start_time": "2022-04-14T14:19:04.006Z"
   },
   {
    "duration": 18,
    "start_time": "2022-04-14T14:19:20.330Z"
   },
   {
    "duration": 547,
    "start_time": "2022-04-14T14:20:09.334Z"
   },
   {
    "duration": 27,
    "start_time": "2022-04-14T14:20:16.437Z"
   },
   {
    "duration": 16,
    "start_time": "2022-04-14T14:20:22.176Z"
   },
   {
    "duration": 213,
    "start_time": "2022-04-14T14:24:39.116Z"
   },
   {
    "duration": 5,
    "start_time": "2022-04-14T14:24:49.757Z"
   },
   {
    "duration": 25,
    "start_time": "2022-04-14T14:25:33.808Z"
   },
   {
    "duration": 22,
    "start_time": "2022-04-14T14:25:48.645Z"
   },
   {
    "duration": 13,
    "start_time": "2022-04-14T14:26:01.336Z"
   },
   {
    "duration": 390,
    "start_time": "2022-04-14T14:26:09.085Z"
   },
   {
    "duration": 20,
    "start_time": "2022-04-14T14:26:30.660Z"
   },
   {
    "duration": 12,
    "start_time": "2022-04-14T14:26:36.412Z"
   },
   {
    "duration": 482,
    "start_time": "2022-04-14T14:26:42.837Z"
   },
   {
    "duration": 550,
    "start_time": "2022-04-14T14:26:52.320Z"
   },
   {
    "duration": 172,
    "start_time": "2022-04-14T14:27:00.146Z"
   },
   {
    "duration": 9,
    "start_time": "2022-04-14T14:27:26.191Z"
   },
   {
    "duration": 120,
    "start_time": "2022-04-14T14:27:45.253Z"
   },
   {
    "duration": 100,
    "start_time": "2022-04-14T14:27:52.967Z"
   },
   {
    "duration": 100,
    "start_time": "2022-04-14T14:28:12.254Z"
   },
   {
    "duration": 114,
    "start_time": "2022-04-14T14:28:17.432Z"
   },
   {
    "duration": 110,
    "start_time": "2022-04-14T14:28:24.145Z"
   },
   {
    "duration": 3,
    "start_time": "2022-04-14T14:28:29.953Z"
   },
   {
    "duration": 3,
    "start_time": "2022-04-14T14:28:31.907Z"
   },
   {
    "duration": 21,
    "start_time": "2022-04-14T14:28:38.100Z"
   },
   {
    "duration": 204,
    "start_time": "2022-04-14T14:28:53.410Z"
   },
   {
    "duration": 119,
    "start_time": "2022-04-14T14:29:03.738Z"
   },
   {
    "duration": 135,
    "start_time": "2022-04-14T14:29:31.580Z"
   },
   {
    "duration": 112,
    "start_time": "2022-04-14T14:29:39.425Z"
   },
   {
    "duration": 155,
    "start_time": "2022-04-14T14:29:46.918Z"
   },
   {
    "duration": 164,
    "start_time": "2022-04-14T14:30:03.782Z"
   },
   {
    "duration": 163,
    "start_time": "2022-04-14T14:30:10.235Z"
   },
   {
    "duration": 31,
    "start_time": "2022-04-14T14:30:56.174Z"
   },
   {
    "duration": 121,
    "start_time": "2022-04-14T14:31:07.316Z"
   },
   {
    "duration": 126,
    "start_time": "2022-04-14T14:31:18.424Z"
   },
   {
    "duration": 125,
    "start_time": "2022-04-14T14:31:24.066Z"
   },
   {
    "duration": 130,
    "start_time": "2022-04-14T14:31:34.142Z"
   },
   {
    "duration": 200,
    "start_time": "2022-04-14T14:31:37.155Z"
   },
   {
    "duration": 155,
    "start_time": "2022-04-14T14:31:41.763Z"
   },
   {
    "duration": 165,
    "start_time": "2022-04-14T14:31:44.377Z"
   },
   {
    "duration": 81,
    "start_time": "2022-04-14T14:31:50.741Z"
   },
   {
    "duration": 379,
    "start_time": "2022-04-14T14:31:53.175Z"
   },
   {
    "duration": 271,
    "start_time": "2022-04-14T14:31:55.735Z"
   },
   {
    "duration": 81,
    "start_time": "2022-04-14T14:32:16.311Z"
   },
   {
    "duration": 312,
    "start_time": "2022-04-14T14:32:21.562Z"
   },
   {
    "duration": 306,
    "start_time": "2022-04-14T14:33:02.769Z"
   },
   {
    "duration": 315,
    "start_time": "2022-04-14T14:33:52.803Z"
   },
   {
    "duration": 6,
    "start_time": "2022-04-14T14:36:24.996Z"
   },
   {
    "duration": 256,
    "start_time": "2022-04-14T14:36:35.970Z"
   },
   {
    "duration": 164,
    "start_time": "2022-04-14T14:37:22.049Z"
   },
   {
    "duration": 166,
    "start_time": "2022-04-14T14:38:11.495Z"
   },
   {
    "duration": 157,
    "start_time": "2022-04-14T14:39:13.569Z"
   },
   {
    "duration": 203,
    "start_time": "2022-04-14T14:40:13.339Z"
   },
   {
    "duration": 113,
    "start_time": "2022-04-14T14:42:25.115Z"
   },
   {
    "duration": 142,
    "start_time": "2022-04-14T14:44:01.835Z"
   },
   {
    "duration": 132,
    "start_time": "2022-04-14T14:45:30.242Z"
   },
   {
    "duration": 129,
    "start_time": "2022-04-14T14:46:33.771Z"
   },
   {
    "duration": 101,
    "start_time": "2022-04-14T14:47:57.958Z"
   },
   {
    "duration": 107,
    "start_time": "2022-04-14T14:48:11.301Z"
   },
   {
    "duration": 86,
    "start_time": "2022-04-14T14:48:28.906Z"
   },
   {
    "duration": 120,
    "start_time": "2022-04-14T14:49:28.165Z"
   },
   {
    "duration": 112,
    "start_time": "2022-04-14T14:49:51.490Z"
   },
   {
    "duration": 119,
    "start_time": "2022-04-14T14:50:02.427Z"
   },
   {
    "duration": 195,
    "start_time": "2022-04-14T14:50:21.334Z"
   },
   {
    "duration": 128,
    "start_time": "2022-04-14T14:50:28.037Z"
   },
   {
    "duration": 61,
    "start_time": "2022-04-14T19:15:57.915Z"
   },
   {
    "duration": 1528,
    "start_time": "2022-04-14T19:16:04.009Z"
   },
   {
    "duration": 107,
    "start_time": "2022-04-14T19:16:05.539Z"
   },
   {
    "duration": 165,
    "start_time": "2022-04-14T19:16:05.648Z"
   },
   {
    "duration": 9,
    "start_time": "2022-04-14T19:16:05.815Z"
   },
   {
    "duration": 34,
    "start_time": "2022-04-14T19:16:05.825Z"
   },
   {
    "duration": 239,
    "start_time": "2022-04-14T19:16:05.862Z"
   },
   {
    "duration": 26,
    "start_time": "2022-04-14T19:16:06.103Z"
   },
   {
    "duration": 66,
    "start_time": "2022-04-14T19:16:06.131Z"
   },
   {
    "duration": 6,
    "start_time": "2022-04-14T19:16:06.199Z"
   },
   {
    "duration": 12,
    "start_time": "2022-04-14T19:16:06.209Z"
   },
   {
    "duration": 369,
    "start_time": "2022-04-14T19:16:06.222Z"
   },
   {
    "duration": 20,
    "start_time": "2022-04-14T19:16:06.593Z"
   },
   {
    "duration": 10,
    "start_time": "2022-04-14T19:16:06.615Z"
   },
   {
    "duration": 539,
    "start_time": "2022-04-14T19:16:06.627Z"
   },
   {
    "duration": 736,
    "start_time": "2022-04-14T19:16:07.171Z"
   },
   {
    "duration": 205,
    "start_time": "2022-04-14T19:16:07.910Z"
   },
   {
    "duration": 193,
    "start_time": "2022-04-14T19:16:08.117Z"
   },
   {
    "duration": 142,
    "start_time": "2022-04-14T19:16:08.312Z"
   },
   {
    "duration": 133,
    "start_time": "2022-04-14T19:16:08.455Z"
   },
   {
    "duration": 154,
    "start_time": "2022-04-14T19:16:08.590Z"
   },
   {
    "duration": 117,
    "start_time": "2022-04-14T19:16:08.745Z"
   },
   {
    "duration": 141,
    "start_time": "2022-04-14T19:16:08.864Z"
   },
   {
    "duration": 3,
    "start_time": "2022-04-14T19:16:09.006Z"
   },
   {
    "duration": 9,
    "start_time": "2022-04-14T19:16:09.011Z"
   },
   {
    "duration": 37,
    "start_time": "2022-04-14T19:16:09.021Z"
   },
   {
    "duration": 162,
    "start_time": "2022-04-14T19:16:09.060Z"
   },
   {
    "duration": 263,
    "start_time": "2022-04-14T19:16:09.223Z"
   },
   {
    "duration": 185,
    "start_time": "2022-04-14T19:16:09.491Z"
   },
   {
    "duration": 144,
    "start_time": "2022-04-14T19:16:09.678Z"
   },
   {
    "duration": 207,
    "start_time": "2022-04-14T19:16:09.824Z"
   },
   {
    "duration": 192,
    "start_time": "2022-04-14T19:16:10.033Z"
   },
   {
    "duration": 187,
    "start_time": "2022-04-14T19:16:10.226Z"
   },
   {
    "duration": 101,
    "start_time": "2022-04-14T19:16:10.415Z"
   },
   {
    "duration": 347,
    "start_time": "2022-04-14T19:16:10.518Z"
   },
   {
    "duration": 433,
    "start_time": "2022-04-14T19:16:10.867Z"
   },
   {
    "duration": 398,
    "start_time": "2022-04-14T19:16:11.301Z"
   },
   {
    "duration": 745,
    "start_time": "2022-04-14T19:16:11.700Z"
   },
   {
    "duration": 6,
    "start_time": "2022-04-14T19:16:20.915Z"
   },
   {
    "duration": 12,
    "start_time": "2022-04-14T19:16:52.908Z"
   },
   {
    "duration": 429,
    "start_time": "2022-04-14T19:16:56.241Z"
   },
   {
    "duration": 21,
    "start_time": "2022-04-14T19:16:57.995Z"
   },
   {
    "duration": 11,
    "start_time": "2022-04-14T19:16:58.415Z"
   },
   {
    "duration": 491,
    "start_time": "2022-04-14T19:16:59.268Z"
   },
   {
    "duration": 634,
    "start_time": "2022-04-14T19:16:59.761Z"
   },
   {
    "duration": 191,
    "start_time": "2022-04-14T19:18:16.403Z"
   },
   {
    "duration": 1199,
    "start_time": "2022-04-14T19:27:24.187Z"
   },
   {
    "duration": 99,
    "start_time": "2022-04-14T19:27:25.388Z"
   },
   {
    "duration": 109,
    "start_time": "2022-04-14T19:27:25.488Z"
   },
   {
    "duration": 9,
    "start_time": "2022-04-14T19:27:25.599Z"
   },
   {
    "duration": 19,
    "start_time": "2022-04-14T19:27:25.609Z"
   },
   {
    "duration": 190,
    "start_time": "2022-04-14T19:27:25.630Z"
   },
   {
    "duration": 41,
    "start_time": "2022-04-14T19:27:25.821Z"
   },
   {
    "duration": 36,
    "start_time": "2022-04-14T19:27:25.864Z"
   },
   {
    "duration": 6,
    "start_time": "2022-04-14T19:27:25.901Z"
   },
   {
    "duration": 11,
    "start_time": "2022-04-14T19:27:25.910Z"
   },
   {
    "duration": 558,
    "start_time": "2022-04-14T19:27:25.922Z"
   },
   {
    "duration": 22,
    "start_time": "2022-04-14T19:27:26.482Z"
   },
   {
    "duration": 12,
    "start_time": "2022-04-14T19:27:26.506Z"
   },
   {
    "duration": 556,
    "start_time": "2022-04-14T19:27:26.520Z"
   },
   {
    "duration": 717,
    "start_time": "2022-04-14T19:27:27.078Z"
   },
   {
    "duration": 197,
    "start_time": "2022-04-14T19:27:27.798Z"
   },
   {
    "duration": 204,
    "start_time": "2022-04-14T19:27:27.997Z"
   },
   {
    "duration": 140,
    "start_time": "2022-04-14T19:27:28.202Z"
   },
   {
    "duration": 151,
    "start_time": "2022-04-14T19:27:28.344Z"
   },
   {
    "duration": 164,
    "start_time": "2022-04-14T19:27:28.497Z"
   },
   {
    "duration": 121,
    "start_time": "2022-04-14T19:27:28.663Z"
   },
   {
    "duration": 160,
    "start_time": "2022-04-14T19:27:28.785Z"
   },
   {
    "duration": 9,
    "start_time": "2022-04-14T19:27:28.947Z"
   },
   {
    "duration": 8,
    "start_time": "2022-04-14T19:27:28.957Z"
   },
   {
    "duration": 37,
    "start_time": "2022-04-14T19:27:28.967Z"
   },
   {
    "duration": 158,
    "start_time": "2022-04-14T19:27:29.006Z"
   },
   {
    "duration": 274,
    "start_time": "2022-04-14T19:27:29.166Z"
   },
   {
    "duration": 181,
    "start_time": "2022-04-14T19:27:29.444Z"
   },
   {
    "duration": 155,
    "start_time": "2022-04-14T19:27:29.627Z"
   },
   {
    "duration": 208,
    "start_time": "2022-04-14T19:27:29.784Z"
   },
   {
    "duration": 206,
    "start_time": "2022-04-14T19:27:29.994Z"
   },
   {
    "duration": 192,
    "start_time": "2022-04-14T19:27:30.202Z"
   },
   {
    "duration": 104,
    "start_time": "2022-04-14T19:27:30.395Z"
   },
   {
    "duration": 357,
    "start_time": "2022-04-14T19:27:30.501Z"
   },
   {
    "duration": 436,
    "start_time": "2022-04-14T19:27:30.860Z"
   },
   {
    "duration": 410,
    "start_time": "2022-04-14T19:27:31.298Z"
   },
   {
    "duration": 914,
    "start_time": "2022-04-14T19:27:31.710Z"
   },
   {
    "duration": 512,
    "start_time": "2022-04-14T19:32:37.707Z"
   },
   {
    "duration": 152,
    "start_time": "2022-04-14T19:34:14.633Z"
   },
   {
    "duration": 437,
    "start_time": "2022-04-14T19:36:42.173Z"
   },
   {
    "duration": 516,
    "start_time": "2022-04-14T19:40:12.055Z"
   },
   {
    "duration": 157,
    "start_time": "2022-04-14T19:48:08.684Z"
   },
   {
    "duration": 147,
    "start_time": "2022-04-14T19:48:15.802Z"
   },
   {
    "duration": 159,
    "start_time": "2022-04-14T19:48:21.220Z"
   },
   {
    "duration": 168,
    "start_time": "2022-04-14T19:48:36.743Z"
   },
   {
    "duration": 140,
    "start_time": "2022-04-14T19:50:19.271Z"
   },
   {
    "duration": 147,
    "start_time": "2022-04-14T19:50:29.598Z"
   },
   {
    "duration": 1220,
    "start_time": "2022-04-14T19:52:05.109Z"
   },
   {
    "duration": 112,
    "start_time": "2022-04-14T19:52:06.332Z"
   },
   {
    "duration": 103,
    "start_time": "2022-04-14T19:52:06.445Z"
   },
   {
    "duration": 8,
    "start_time": "2022-04-14T19:52:06.555Z"
   },
   {
    "duration": 31,
    "start_time": "2022-04-14T19:52:06.565Z"
   },
   {
    "duration": 169,
    "start_time": "2022-04-14T19:52:06.597Z"
   },
   {
    "duration": 25,
    "start_time": "2022-04-14T19:52:06.768Z"
   },
   {
    "duration": 32,
    "start_time": "2022-04-14T19:52:06.795Z"
   },
   {
    "duration": 6,
    "start_time": "2022-04-14T19:52:06.828Z"
   },
   {
    "duration": 11,
    "start_time": "2022-04-14T19:52:06.856Z"
   },
   {
    "duration": 332,
    "start_time": "2022-04-14T19:52:06.868Z"
   },
   {
    "duration": 20,
    "start_time": "2022-04-14T19:52:07.201Z"
   },
   {
    "duration": 10,
    "start_time": "2022-04-14T19:52:07.224Z"
   },
   {
    "duration": 514,
    "start_time": "2022-04-14T19:52:07.236Z"
   },
   {
    "duration": 688,
    "start_time": "2022-04-14T19:52:07.752Z"
   },
   {
    "duration": 197,
    "start_time": "2022-04-14T19:52:08.442Z"
   },
   {
    "duration": 193,
    "start_time": "2022-04-14T19:52:08.641Z"
   },
   {
    "duration": 138,
    "start_time": "2022-04-14T19:52:08.836Z"
   },
   {
    "duration": 125,
    "start_time": "2022-04-14T19:52:08.976Z"
   },
   {
    "duration": 154,
    "start_time": "2022-04-14T19:52:09.103Z"
   },
   {
    "duration": 99,
    "start_time": "2022-04-14T19:52:09.259Z"
   },
   {
    "duration": 149,
    "start_time": "2022-04-14T19:52:09.360Z"
   },
   {
    "duration": 4,
    "start_time": "2022-04-14T19:52:09.511Z"
   },
   {
    "duration": 6,
    "start_time": "2022-04-14T19:52:09.516Z"
   },
   {
    "duration": 42,
    "start_time": "2022-04-14T19:52:09.523Z"
   },
   {
    "duration": 157,
    "start_time": "2022-04-14T19:52:09.567Z"
   },
   {
    "duration": 253,
    "start_time": "2022-04-14T19:52:09.726Z"
   },
   {
    "duration": 161,
    "start_time": "2022-04-14T19:52:09.982Z"
   },
   {
    "duration": 134,
    "start_time": "2022-04-14T19:52:10.145Z"
   },
   {
    "duration": 191,
    "start_time": "2022-04-14T19:52:10.280Z"
   },
   {
    "duration": 192,
    "start_time": "2022-04-14T19:52:10.472Z"
   },
   {
    "duration": 179,
    "start_time": "2022-04-14T19:52:10.665Z"
   },
   {
    "duration": 88,
    "start_time": "2022-04-14T19:52:10.845Z"
   },
   {
    "duration": 350,
    "start_time": "2022-04-14T19:52:10.935Z"
   },
   {
    "duration": 421,
    "start_time": "2022-04-14T19:52:11.287Z"
   },
   {
    "duration": 569,
    "start_time": "2022-04-14T19:52:11.710Z"
   },
   {
    "duration": 949,
    "start_time": "2022-04-14T19:52:12.282Z"
   },
   {
    "duration": 1279,
    "start_time": "2022-04-14T19:53:04.083Z"
   },
   {
    "duration": 102,
    "start_time": "2022-04-14T19:53:05.364Z"
   },
   {
    "duration": 107,
    "start_time": "2022-04-14T19:53:05.468Z"
   },
   {
    "duration": 9,
    "start_time": "2022-04-14T19:53:05.577Z"
   },
   {
    "duration": 26,
    "start_time": "2022-04-14T19:53:05.588Z"
   },
   {
    "duration": 205,
    "start_time": "2022-04-14T19:53:05.616Z"
   },
   {
    "duration": 41,
    "start_time": "2022-04-14T19:53:05.823Z"
   },
   {
    "duration": 52,
    "start_time": "2022-04-14T19:53:05.865Z"
   },
   {
    "duration": 7,
    "start_time": "2022-04-14T19:53:05.919Z"
   },
   {
    "duration": 24,
    "start_time": "2022-04-14T19:53:05.930Z"
   },
   {
    "duration": 336,
    "start_time": "2022-04-14T19:53:05.956Z"
   },
   {
    "duration": 21,
    "start_time": "2022-04-14T19:53:06.294Z"
   },
   {
    "duration": 10,
    "start_time": "2022-04-14T19:53:06.317Z"
   },
   {
    "duration": 524,
    "start_time": "2022-04-14T19:53:06.329Z"
   },
   {
    "duration": 745,
    "start_time": "2022-04-14T19:53:06.854Z"
   },
   {
    "duration": 199,
    "start_time": "2022-04-14T19:53:07.601Z"
   },
   {
    "duration": 271,
    "start_time": "2022-04-14T19:53:07.801Z"
   },
   {
    "duration": 180,
    "start_time": "2022-04-14T19:53:08.074Z"
   },
   {
    "duration": 138,
    "start_time": "2022-04-14T19:53:08.257Z"
   },
   {
    "duration": 161,
    "start_time": "2022-04-14T19:53:08.397Z"
   },
   {
    "duration": 107,
    "start_time": "2022-04-14T19:53:08.560Z"
   },
   {
    "duration": 153,
    "start_time": "2022-04-14T19:53:08.669Z"
   },
   {
    "duration": 3,
    "start_time": "2022-04-14T19:53:08.824Z"
   },
   {
    "duration": 21,
    "start_time": "2022-04-14T19:53:08.829Z"
   },
   {
    "duration": 49,
    "start_time": "2022-04-14T19:53:08.852Z"
   },
   {
    "duration": 234,
    "start_time": "2022-04-14T19:53:08.903Z"
   },
   {
    "duration": 326,
    "start_time": "2022-04-14T19:53:09.139Z"
   },
   {
    "duration": 246,
    "start_time": "2022-04-14T19:53:09.470Z"
   },
   {
    "duration": 185,
    "start_time": "2022-04-14T19:53:09.719Z"
   },
   {
    "duration": 208,
    "start_time": "2022-04-14T19:53:09.906Z"
   },
   {
    "duration": 197,
    "start_time": "2022-04-14T19:53:10.116Z"
   },
   {
    "duration": 192,
    "start_time": "2022-04-14T19:53:10.315Z"
   },
   {
    "duration": 110,
    "start_time": "2022-04-14T19:53:10.508Z"
   },
   {
    "duration": 344,
    "start_time": "2022-04-14T19:53:10.620Z"
   },
   {
    "duration": 459,
    "start_time": "2022-04-14T19:53:10.966Z"
   },
   {
    "duration": 404,
    "start_time": "2022-04-14T19:53:11.426Z"
   },
   {
    "duration": 1101,
    "start_time": "2022-04-14T19:53:11.832Z"
   },
   {
    "duration": 186,
    "start_time": "2022-04-14T19:54:02.656Z"
   },
   {
    "duration": 131,
    "start_time": "2022-04-14T19:55:48.956Z"
   },
   {
    "duration": 127,
    "start_time": "2022-04-14T19:56:41.629Z"
   },
   {
    "duration": 241,
    "start_time": "2022-04-14T19:57:04.474Z"
   }
  ],
  "kernelspec": {
   "display_name": "Python 3 (ipykernel)",
   "language": "python",
   "name": "python3"
  },
  "language_info": {
   "codemirror_mode": {
    "name": "ipython",
    "version": 3
   },
   "file_extension": ".py",
   "mimetype": "text/x-python",
   "name": "python",
   "nbconvert_exporter": "python",
   "pygments_lexer": "ipython3",
   "version": "3.9.12"
  },
  "toc": {
   "base_numbering": 1,
   "nav_menu": {},
   "number_sections": true,
   "sideBar": false,
   "skip_h1_title": false,
   "title_cell": "Table of Contents",
   "title_sidebar": "Contents",
   "toc_cell": false,
   "toc_position": {
    "height": "753px",
    "left": "40px",
    "top": "147.125px",
    "width": "366.587px"
   },
   "toc_section_display": false,
   "toc_window_display": true
  }
 },
 "nbformat": 4,
 "nbformat_minor": 2
}
