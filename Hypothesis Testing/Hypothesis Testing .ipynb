{
 "cells": [
  {
   "cell_type": "markdown",
   "metadata": {},
   "source": [
    "# Introduction\n",
    "The purpose of this project was to analyze three different datasets. The first two datasets will be analyzed to draw conclusions about:\n",
    "* (1) popular neighborhood drop-off locations in the Chicagoland area (based on average number of trips). \n",
    "* (2) some of the most popular taxi companies (based on number of trips). \n",
    "* (3) the third dataset will be analyzed to draw conclusions about different weather conditions and ride duration."
   ]
  },
  {
   "cell_type": "code",
   "execution_count": 114,
   "metadata": {},
   "outputs": [],
   "source": [
    "import pandas as pd\n",
    "import numpy as np\n",
    "import seaborn as sb\n",
    "from scipy import stats as st\n",
    "from math import factorial\n",
    "import matplotlib.pyplot as plt\n",
    "import datetime as dt \n",
    "from scipy.stats import levene "
   ]
  },
  {
   "cell_type": "code",
   "execution_count": 2,
   "metadata": {},
   "outputs": [
    {
     "data": {
      "text/html": [
       "<div>\n",
       "<style scoped>\n",
       "    .dataframe tbody tr th:only-of-type {\n",
       "        vertical-align: middle;\n",
       "    }\n",
       "\n",
       "    .dataframe tbody tr th {\n",
       "        vertical-align: top;\n",
       "    }\n",
       "\n",
       "    .dataframe thead th {\n",
       "        text-align: right;\n",
       "    }\n",
       "</style>\n",
       "<table border=\"1\" class=\"dataframe\">\n",
       "  <thead>\n",
       "    <tr style=\"text-align: right;\">\n",
       "      <th></th>\n",
       "      <th>company_name</th>\n",
       "      <th>trips_amount</th>\n",
       "    </tr>\n",
       "  </thead>\n",
       "  <tbody>\n",
       "    <tr>\n",
       "      <th>0</th>\n",
       "      <td>Flash Cab</td>\n",
       "      <td>19558</td>\n",
       "    </tr>\n",
       "    <tr>\n",
       "      <th>1</th>\n",
       "      <td>Taxi Affiliation Services</td>\n",
       "      <td>11422</td>\n",
       "    </tr>\n",
       "    <tr>\n",
       "      <th>2</th>\n",
       "      <td>Medallion Leasing</td>\n",
       "      <td>10367</td>\n",
       "    </tr>\n",
       "    <tr>\n",
       "      <th>3</th>\n",
       "      <td>Yellow Cab</td>\n",
       "      <td>9888</td>\n",
       "    </tr>\n",
       "    <tr>\n",
       "      <th>4</th>\n",
       "      <td>Taxi Affiliation Service Yellow</td>\n",
       "      <td>9299</td>\n",
       "    </tr>\n",
       "    <tr>\n",
       "      <th>...</th>\n",
       "      <td>...</td>\n",
       "      <td>...</td>\n",
       "    </tr>\n",
       "    <tr>\n",
       "      <th>59</th>\n",
       "      <td>4053 - 40193 Adwar H. Nikola</td>\n",
       "      <td>7</td>\n",
       "    </tr>\n",
       "    <tr>\n",
       "      <th>60</th>\n",
       "      <td>2733 - 74600 Benny Jona</td>\n",
       "      <td>7</td>\n",
       "    </tr>\n",
       "    <tr>\n",
       "      <th>61</th>\n",
       "      <td>5874 - 73628 Sergey Cab Corp.</td>\n",
       "      <td>5</td>\n",
       "    </tr>\n",
       "    <tr>\n",
       "      <th>62</th>\n",
       "      <td>2241 - 44667 - Felman Corp</td>\n",
       "      <td>3</td>\n",
       "    </tr>\n",
       "    <tr>\n",
       "      <th>63</th>\n",
       "      <td>3556 - 36214 RC Andrews Cab</td>\n",
       "      <td>2</td>\n",
       "    </tr>\n",
       "  </tbody>\n",
       "</table>\n",
       "<p>64 rows × 2 columns</p>\n",
       "</div>"
      ],
      "text/plain": [
       "                       company_name  trips_amount\n",
       "0                         Flash Cab         19558\n",
       "1         Taxi Affiliation Services         11422\n",
       "2                 Medallion Leasing         10367\n",
       "3                        Yellow Cab          9888\n",
       "4   Taxi Affiliation Service Yellow          9299\n",
       "..                              ...           ...\n",
       "59     4053 - 40193 Adwar H. Nikola             7\n",
       "60          2733 - 74600 Benny Jona             7\n",
       "61    5874 - 73628 Sergey Cab Corp.             5\n",
       "62       2241 - 44667 - Felman Corp             3\n",
       "63      3556 - 36214 RC Andrews Cab             2\n",
       "\n",
       "[64 rows x 2 columns]"
      ]
     },
     "execution_count": 2,
     "metadata": {},
     "output_type": "execute_result"
    }
   ],
   "source": [
    "company=pd.read_csv('/datasets/project_sql_result_01.csv')\n",
    "company"
   ]
  },
  {
   "cell_type": "code",
   "execution_count": 3,
   "metadata": {},
   "outputs": [
    {
     "data": {
      "text/html": [
       "<div>\n",
       "<style scoped>\n",
       "    .dataframe tbody tr th:only-of-type {\n",
       "        vertical-align: middle;\n",
       "    }\n",
       "\n",
       "    .dataframe tbody tr th {\n",
       "        vertical-align: top;\n",
       "    }\n",
       "\n",
       "    .dataframe thead th {\n",
       "        text-align: right;\n",
       "    }\n",
       "</style>\n",
       "<table border=\"1\" class=\"dataframe\">\n",
       "  <thead>\n",
       "    <tr style=\"text-align: right;\">\n",
       "      <th></th>\n",
       "      <th>dropoff_location_name</th>\n",
       "      <th>average_trips</th>\n",
       "    </tr>\n",
       "  </thead>\n",
       "  <tbody>\n",
       "    <tr>\n",
       "      <th>0</th>\n",
       "      <td>Loop</td>\n",
       "      <td>10727.466667</td>\n",
       "    </tr>\n",
       "    <tr>\n",
       "      <th>1</th>\n",
       "      <td>River North</td>\n",
       "      <td>9523.666667</td>\n",
       "    </tr>\n",
       "    <tr>\n",
       "      <th>2</th>\n",
       "      <td>Streeterville</td>\n",
       "      <td>6664.666667</td>\n",
       "    </tr>\n",
       "    <tr>\n",
       "      <th>3</th>\n",
       "      <td>West Loop</td>\n",
       "      <td>5163.666667</td>\n",
       "    </tr>\n",
       "    <tr>\n",
       "      <th>4</th>\n",
       "      <td>O'Hare</td>\n",
       "      <td>2546.900000</td>\n",
       "    </tr>\n",
       "    <tr>\n",
       "      <th>...</th>\n",
       "      <td>...</td>\n",
       "      <td>...</td>\n",
       "    </tr>\n",
       "    <tr>\n",
       "      <th>89</th>\n",
       "      <td>Mount Greenwood</td>\n",
       "      <td>3.137931</td>\n",
       "    </tr>\n",
       "    <tr>\n",
       "      <th>90</th>\n",
       "      <td>Hegewisch</td>\n",
       "      <td>3.117647</td>\n",
       "    </tr>\n",
       "    <tr>\n",
       "      <th>91</th>\n",
       "      <td>Burnside</td>\n",
       "      <td>2.333333</td>\n",
       "    </tr>\n",
       "    <tr>\n",
       "      <th>92</th>\n",
       "      <td>East Side</td>\n",
       "      <td>1.961538</td>\n",
       "    </tr>\n",
       "    <tr>\n",
       "      <th>93</th>\n",
       "      <td>Riverdale</td>\n",
       "      <td>1.800000</td>\n",
       "    </tr>\n",
       "  </tbody>\n",
       "</table>\n",
       "<p>94 rows × 2 columns</p>\n",
       "</div>"
      ],
      "text/plain": [
       "   dropoff_location_name  average_trips\n",
       "0                   Loop   10727.466667\n",
       "1            River North    9523.666667\n",
       "2          Streeterville    6664.666667\n",
       "3              West Loop    5163.666667\n",
       "4                 O'Hare    2546.900000\n",
       "..                   ...            ...\n",
       "89       Mount Greenwood       3.137931\n",
       "90             Hegewisch       3.117647\n",
       "91              Burnside       2.333333\n",
       "92             East Side       1.961538\n",
       "93             Riverdale       1.800000\n",
       "\n",
       "[94 rows x 2 columns]"
      ]
     },
     "execution_count": 3,
     "metadata": {},
     "output_type": "execute_result"
    }
   ],
   "source": [
    "trips= pd.read_csv('/datasets/project_sql_result_04.csv')\n",
    "trips"
   ]
  },
  {
   "cell_type": "code",
   "execution_count": 4,
   "metadata": {},
   "outputs": [
    {
     "name": "stdout",
     "output_type": "stream",
     "text": [
      "<class 'pandas.core.frame.DataFrame'>\n",
      "RangeIndex: 64 entries, 0 to 63\n",
      "Data columns (total 2 columns):\n",
      " #   Column        Non-Null Count  Dtype \n",
      "---  ------        --------------  ----- \n",
      " 0   company_name  64 non-null     object\n",
      " 1   trips_amount  64 non-null     int64 \n",
      "dtypes: int64(1), object(1)\n",
      "memory usage: 1.1+ KB\n"
     ]
    }
   ],
   "source": [
    "company.info()"
   ]
  },
  {
   "cell_type": "code",
   "execution_count": 5,
   "metadata": {},
   "outputs": [
    {
     "name": "stdout",
     "output_type": "stream",
     "text": [
      "<class 'pandas.core.frame.DataFrame'>\n",
      "RangeIndex: 94 entries, 0 to 93\n",
      "Data columns (total 2 columns):\n",
      " #   Column                 Non-Null Count  Dtype  \n",
      "---  ------                 --------------  -----  \n",
      " 0   dropoff_location_name  94 non-null     object \n",
      " 1   average_trips          94 non-null     float64\n",
      "dtypes: float64(1), object(1)\n",
      "memory usage: 1.6+ KB\n"
     ]
    }
   ],
   "source": [
    "trips.info()"
   ]
  },
  {
   "cell_type": "code",
   "execution_count": 6,
   "metadata": {},
   "outputs": [
    {
     "data": {
      "text/plain": [
       "company_name    0\n",
       "trips_amount    0\n",
       "dtype: int64"
      ]
     },
     "execution_count": 6,
     "metadata": {},
     "output_type": "execute_result"
    }
   ],
   "source": [
    "company.isna().sum()"
   ]
  },
  {
   "cell_type": "code",
   "execution_count": 7,
   "metadata": {},
   "outputs": [
    {
     "data": {
      "text/plain": [
       "dropoff_location_name    0\n",
       "average_trips            0\n",
       "dtype: int64"
      ]
     },
     "execution_count": 7,
     "metadata": {},
     "output_type": "execute_result"
    }
   ],
   "source": [
    "trips.isna().sum()"
   ]
  },
  {
   "cell_type": "markdown",
   "metadata": {},
   "source": [
    "* All data types in both tables are appropriate. No missing values in either."
   ]
  },
  {
   "cell_type": "code",
   "execution_count": 8,
   "metadata": {},
   "outputs": [
    {
     "data": {
      "text/plain": [
       "array(['Loop', 'River North', 'Streeterville', 'West Loop', \"O'Hare\",\n",
       "       'Lake View', 'Grant Park', 'Museum Campus', 'Gold Coast',\n",
       "       'Sheffield & DePaul', 'Lincoln Park', 'East Village',\n",
       "       'Little Italy, UIC', 'Uptown', 'Near South Side', 'Garfield Ridge',\n",
       "       'Logan Square', 'Edgewater', 'West Town', 'Old Town',\n",
       "       'Rush & Division', 'North Center', 'Lincoln Square', 'Rogers Park',\n",
       "       'West Ridge', 'Irving Park', 'Hyde Park', 'Avondale',\n",
       "       'Wicker Park', 'Albany Park', 'United Center', 'Lower West Side',\n",
       "       'Douglas', 'Portage Park', 'Humboldt Park', 'Norwood Park',\n",
       "       'Kenwood', 'Bridgeport', 'Armour Square', 'Jefferson Park',\n",
       "       'Bucktown', 'North Park', 'Garfield Park', 'Mckinley Park',\n",
       "       'Belmont Cragin', 'Boystown', 'Chinatown', 'Grand Boulevard',\n",
       "       'Austin', 'Sauganash,Forest Glen', 'South Shore', 'Woodlawn',\n",
       "       'Little Village', 'Jackson Park', 'North Lawndale', 'Dunning',\n",
       "       'Ukrainian Village', 'Hermosa', 'Englewood', 'Chatham', 'New City',\n",
       "       'Grand Crossing', 'Brighton Park', 'Andersonville', 'Oakland',\n",
       "       'Ashburn', 'Washington Park', 'Auburn Gresham', 'Clearing',\n",
       "       'Roseland', 'Wrigleyville', 'Edison Park', 'South Chicago',\n",
       "       'Chicago Lawn', 'Beverly', 'Calumet Heights', 'Washington Heights',\n",
       "       'Archer Heights', 'Gage Park', 'Fuller Park', 'West Lawn',\n",
       "       'Morgan Park', 'South Deering', 'Avalon Park', 'West Pullman',\n",
       "       'Montclare', 'West Elsdon', 'Pullman', 'Undef', 'Mount Greenwood',\n",
       "       'Hegewisch', 'Burnside', 'East Side', 'Riverdale'], dtype=object)"
      ]
     },
     "execution_count": 8,
     "metadata": {},
     "output_type": "execute_result"
    }
   ],
   "source": [
    "trips[\"dropoff_location_name\"].unique()"
   ]
  },
  {
   "cell_type": "code",
   "execution_count": 25,
   "metadata": {
    "scrolled": true
   },
   "outputs": [
    {
     "data": {
      "text/html": [
       "<div>\n",
       "<style scoped>\n",
       "    .dataframe tbody tr th:only-of-type {\n",
       "        vertical-align: middle;\n",
       "    }\n",
       "\n",
       "    .dataframe tbody tr th {\n",
       "        vertical-align: top;\n",
       "    }\n",
       "\n",
       "    .dataframe thead th {\n",
       "        text-align: right;\n",
       "    }\n",
       "</style>\n",
       "<table border=\"1\" class=\"dataframe\">\n",
       "  <thead>\n",
       "    <tr style=\"text-align: right;\">\n",
       "      <th></th>\n",
       "      <th>dropoff_location_name</th>\n",
       "      <th>average_trips</th>\n",
       "    </tr>\n",
       "  </thead>\n",
       "  <tbody>\n",
       "    <tr>\n",
       "      <th>0</th>\n",
       "      <td>Loop</td>\n",
       "      <td>10727.466667</td>\n",
       "    </tr>\n",
       "    <tr>\n",
       "      <th>1</th>\n",
       "      <td>River North</td>\n",
       "      <td>9523.666667</td>\n",
       "    </tr>\n",
       "    <tr>\n",
       "      <th>2</th>\n",
       "      <td>Streeterville</td>\n",
       "      <td>6664.666667</td>\n",
       "    </tr>\n",
       "    <tr>\n",
       "      <th>3</th>\n",
       "      <td>West Loop</td>\n",
       "      <td>5163.666667</td>\n",
       "    </tr>\n",
       "    <tr>\n",
       "      <th>4</th>\n",
       "      <td>O'Hare</td>\n",
       "      <td>2546.900000</td>\n",
       "    </tr>\n",
       "    <tr>\n",
       "      <th>5</th>\n",
       "      <td>Lake View</td>\n",
       "      <td>2420.966667</td>\n",
       "    </tr>\n",
       "    <tr>\n",
       "      <th>6</th>\n",
       "      <td>Grant Park</td>\n",
       "      <td>2068.533333</td>\n",
       "    </tr>\n",
       "    <tr>\n",
       "      <th>7</th>\n",
       "      <td>Museum Campus</td>\n",
       "      <td>1510.000000</td>\n",
       "    </tr>\n",
       "    <tr>\n",
       "      <th>8</th>\n",
       "      <td>Gold Coast</td>\n",
       "      <td>1364.233333</td>\n",
       "    </tr>\n",
       "    <tr>\n",
       "      <th>9</th>\n",
       "      <td>Sheffield &amp; DePaul</td>\n",
       "      <td>1259.766667</td>\n",
       "    </tr>\n",
       "    <tr>\n",
       "      <th>10</th>\n",
       "      <td>Lincoln Park</td>\n",
       "      <td>1246.533333</td>\n",
       "    </tr>\n",
       "  </tbody>\n",
       "</table>\n",
       "</div>"
      ],
      "text/plain": [
       "   dropoff_location_name  average_trips\n",
       "0                   Loop   10727.466667\n",
       "1            River North    9523.666667\n",
       "2          Streeterville    6664.666667\n",
       "3              West Loop    5163.666667\n",
       "4                 O'Hare    2546.900000\n",
       "5              Lake View    2420.966667\n",
       "6             Grant Park    2068.533333\n",
       "7          Museum Campus    1510.000000\n",
       "8             Gold Coast    1364.233333\n",
       "9     Sheffield & DePaul    1259.766667\n",
       "10          Lincoln Park    1246.533333"
      ]
     },
     "execution_count": 25,
     "metadata": {},
     "output_type": "execute_result"
    }
   ],
   "source": [
    "new_data = trips.sort_values(by=\"average_trips\", ascending=False).head(11)\n",
    "new_data"
   ]
  },
  {
   "cell_type": "markdown",
   "metadata": {},
   "source": [
    "* The Above list will be used to identify the top 10 drop-off locations based on average number of trips."
   ]
  },
  {
   "cell_type": "code",
   "execution_count": 26,
   "metadata": {},
   "outputs": [
    {
     "data": {
      "image/png": "[encoded data removed]",
      "text/plain": [
       "<Figure size 432x288 with 1 Axes>"
      ]
     },
     "metadata": {
      "needs_background": "light"
     },
     "output_type": "display_data"
    }
   ],
   "source": [
    "plot = sb.barplot(x=\"dropoff_location_name\", y=\"average_trips\", data=new_data)\n",
    "plt.title(\"Average Number of Trips per Dropoff Location\")\n",
    "plot.set_xticklabels(plot.get_xticklabels(),rotation=70)\n",
    "plt.show()"
   ]
  },
  {
   "cell_type": "markdown",
   "metadata": {},
   "source": [
    "* The above locations are the top 10 neighborhoods based on average number of trips."
   ]
  },
  {
   "cell_type": "code",
   "execution_count": 51,
   "metadata": {},
   "outputs": [
    {
     "name": "stdout",
     "output_type": "stream",
     "text": [
      "<class 'pandas.core.frame.DataFrame'>\n",
      "RangeIndex: 64 entries, 0 to 63\n",
      "Data columns (total 2 columns):\n",
      " #   Column        Non-Null Count  Dtype \n",
      "---  ------        --------------  ----- \n",
      " 0   company_name  64 non-null     object\n",
      " 1   trips_amount  64 non-null     int64 \n",
      "dtypes: int64(1), object(1)\n",
      "memory usage: 1.1+ KB\n"
     ]
    },
    {
     "data": {
      "text/html": [
       "<div>\n",
       "<style scoped>\n",
       "    .dataframe tbody tr th:only-of-type {\n",
       "        vertical-align: middle;\n",
       "    }\n",
       "\n",
       "    .dataframe tbody tr th {\n",
       "        vertical-align: top;\n",
       "    }\n",
       "\n",
       "    .dataframe thead th {\n",
       "        text-align: right;\n",
       "    }\n",
       "</style>\n",
       "<table border=\"1\" class=\"dataframe\">\n",
       "  <thead>\n",
       "    <tr style=\"text-align: right;\">\n",
       "      <th></th>\n",
       "      <th>company_name</th>\n",
       "      <th>trips_amount</th>\n",
       "    </tr>\n",
       "  </thead>\n",
       "  <tbody>\n",
       "    <tr>\n",
       "      <th>0</th>\n",
       "      <td>Flash Cab</td>\n",
       "      <td>19558</td>\n",
       "    </tr>\n",
       "    <tr>\n",
       "      <th>1</th>\n",
       "      <td>Taxi Affiliation Services</td>\n",
       "      <td>11422</td>\n",
       "    </tr>\n",
       "    <tr>\n",
       "      <th>2</th>\n",
       "      <td>Medallion Leasing</td>\n",
       "      <td>10367</td>\n",
       "    </tr>\n",
       "    <tr>\n",
       "      <th>3</th>\n",
       "      <td>Yellow Cab</td>\n",
       "      <td>9888</td>\n",
       "    </tr>\n",
       "    <tr>\n",
       "      <th>4</th>\n",
       "      <td>Taxi Affiliation Service Yellow</td>\n",
       "      <td>9299</td>\n",
       "    </tr>\n",
       "    <tr>\n",
       "      <th>5</th>\n",
       "      <td>Chicago Carriage Cab Corp</td>\n",
       "      <td>9181</td>\n",
       "    </tr>\n",
       "    <tr>\n",
       "      <th>6</th>\n",
       "      <td>City Service</td>\n",
       "      <td>8448</td>\n",
       "    </tr>\n",
       "    <tr>\n",
       "      <th>7</th>\n",
       "      <td>Sun Taxi</td>\n",
       "      <td>7701</td>\n",
       "    </tr>\n",
       "    <tr>\n",
       "      <th>8</th>\n",
       "      <td>Star North Management LLC</td>\n",
       "      <td>7455</td>\n",
       "    </tr>\n",
       "    <tr>\n",
       "      <th>9</th>\n",
       "      <td>Blue Ribbon Taxi Association Inc.</td>\n",
       "      <td>5953</td>\n",
       "    </tr>\n",
       "    <tr>\n",
       "      <th>10</th>\n",
       "      <td>Choice Taxi Association</td>\n",
       "      <td>5015</td>\n",
       "    </tr>\n",
       "    <tr>\n",
       "      <th>11</th>\n",
       "      <td>Globe Taxi</td>\n",
       "      <td>4383</td>\n",
       "    </tr>\n",
       "    <tr>\n",
       "      <th>12</th>\n",
       "      <td>Dispatch Taxi Affiliation</td>\n",
       "      <td>3355</td>\n",
       "    </tr>\n",
       "    <tr>\n",
       "      <th>13</th>\n",
       "      <td>Nova Taxi Affiliation Llc</td>\n",
       "      <td>3175</td>\n",
       "    </tr>\n",
       "    <tr>\n",
       "      <th>14</th>\n",
       "      <td>Patriot Taxi Dba Peace Taxi Association</td>\n",
       "      <td>2235</td>\n",
       "    </tr>\n",
       "  </tbody>\n",
       "</table>\n",
       "</div>"
      ],
      "text/plain": [
       "                               company_name  trips_amount\n",
       "0                                 Flash Cab         19558\n",
       "1                 Taxi Affiliation Services         11422\n",
       "2                         Medallion Leasing         10367\n",
       "3                                Yellow Cab          9888\n",
       "4           Taxi Affiliation Service Yellow          9299\n",
       "5                 Chicago Carriage Cab Corp          9181\n",
       "6                              City Service          8448\n",
       "7                                  Sun Taxi          7701\n",
       "8                 Star North Management LLC          7455\n",
       "9         Blue Ribbon Taxi Association Inc.          5953\n",
       "10                  Choice Taxi Association          5015\n",
       "11                               Globe Taxi          4383\n",
       "12                Dispatch Taxi Affiliation          3355\n",
       "13                Nova Taxi Affiliation Llc          3175\n",
       "14  Patriot Taxi Dba Peace Taxi Association          2235"
      ]
     },
     "execution_count": 51,
     "metadata": {},
     "output_type": "execute_result"
    }
   ],
   "source": [
    "company[\"company_name\"].nunique()\n",
    "company.info()\n",
    "company.head(15)"
   ]
  },
  {
   "cell_type": "code",
   "execution_count": 52,
   "metadata": {
    "scrolled": true
   },
   "outputs": [],
   "source": [
    "b=company.sort_values(by=\"trips_amount\", ascending=False).head(14)"
   ]
  },
  {
   "cell_type": "code",
   "execution_count": 53,
   "metadata": {},
   "outputs": [
    {
     "data": {
      "image/png": "[encoded data removed]",
      "text/plain": [
       "<Figure size 432x288 with 1 Axes>"
      ]
     },
     "metadata": {
      "needs_background": "light"
     },
     "output_type": "display_data"
    }
   ],
   "source": [
    "comp = sb.barplot(x=\"company_name\", y=\"trips_amount\", data=b)\n",
    "plt.title(\"Number of Trips per Taxi Company\")\n",
    "comp.set_xticklabels(comp.get_xticklabels(),rotation=70)\n",
    "plt.show()"
   ]
  },
  {
   "cell_type": "markdown",
   "metadata": {},
   "source": [
    "* The graph above shows the top 13 taxi companies based on number of of trips."
   ]
  },
  {
   "cell_type": "code",
   "execution_count": 58,
   "metadata": {},
   "outputs": [
    {
     "name": "stdout",
     "output_type": "stream",
     "text": [
      "<class 'pandas.core.frame.DataFrame'>\n",
      "RangeIndex: 1068 entries, 0 to 1067\n",
      "Data columns (total 3 columns):\n",
      " #   Column              Non-Null Count  Dtype  \n",
      "---  ------              --------------  -----  \n",
      " 0   start_ts            1068 non-null   object \n",
      " 1   weather_conditions  1068 non-null   object \n",
      " 2   duration_seconds    1068 non-null   float64\n",
      "dtypes: float64(1), object(2)\n",
      "memory usage: 25.2+ KB\n"
     ]
    }
   ],
   "source": [
    "weather=pd.read_csv('/datasets/project_sql_result_07.csv')\n",
    "weather.isna().sum()\n",
    "weather.info()"
   ]
  },
  {
   "cell_type": "code",
   "execution_count": 69,
   "metadata": {},
   "outputs": [
    {
     "name": "stdout",
     "output_type": "stream",
     "text": [
      "<class 'pandas.core.frame.DataFrame'>\n",
      "RangeIndex: 1068 entries, 0 to 1067\n",
      "Data columns (total 3 columns):\n",
      " #   Column              Non-Null Count  Dtype         \n",
      "---  ------              --------------  -----         \n",
      " 0   start_ts            1068 non-null   datetime64[ns]\n",
      " 1   weather_conditions  1068 non-null   object        \n",
      " 2   duration_seconds    1068 non-null   float64       \n",
      "dtypes: datetime64[ns](1), float64(1), object(1)\n",
      "memory usage: 25.2+ KB\n"
     ]
    }
   ],
   "source": [
    "weather[\"start_ts\"] =pd.to_datetime(weather[\"start_ts\"], format='%Y-%m-%d')\n",
    "weather.info()"
   ]
  },
  {
   "cell_type": "code",
   "execution_count": 59,
   "metadata": {
    "scrolled": true
   },
   "outputs": [
    {
     "data": {
      "text/html": [
       "<div>\n",
       "<style scoped>\n",
       "    .dataframe tbody tr th:only-of-type {\n",
       "        vertical-align: middle;\n",
       "    }\n",
       "\n",
       "    .dataframe tbody tr th {\n",
       "        vertical-align: top;\n",
       "    }\n",
       "\n",
       "    .dataframe thead th {\n",
       "        text-align: right;\n",
       "    }\n",
       "</style>\n",
       "<table border=\"1\" class=\"dataframe\">\n",
       "  <thead>\n",
       "    <tr style=\"text-align: right;\">\n",
       "      <th></th>\n",
       "      <th>start_ts</th>\n",
       "      <th>weather_conditions</th>\n",
       "      <th>duration_seconds</th>\n",
       "    </tr>\n",
       "  </thead>\n",
       "  <tbody>\n",
       "    <tr>\n",
       "      <th>0</th>\n",
       "      <td>2017-11-25 16:00:00</td>\n",
       "      <td>Good</td>\n",
       "      <td>2410.0</td>\n",
       "    </tr>\n",
       "    <tr>\n",
       "      <th>1</th>\n",
       "      <td>2017-11-25 14:00:00</td>\n",
       "      <td>Good</td>\n",
       "      <td>1920.0</td>\n",
       "    </tr>\n",
       "    <tr>\n",
       "      <th>2</th>\n",
       "      <td>2017-11-25 12:00:00</td>\n",
       "      <td>Good</td>\n",
       "      <td>1543.0</td>\n",
       "    </tr>\n",
       "    <tr>\n",
       "      <th>3</th>\n",
       "      <td>2017-11-04 10:00:00</td>\n",
       "      <td>Good</td>\n",
       "      <td>2512.0</td>\n",
       "    </tr>\n",
       "    <tr>\n",
       "      <th>4</th>\n",
       "      <td>2017-11-11 07:00:00</td>\n",
       "      <td>Good</td>\n",
       "      <td>1440.0</td>\n",
       "    </tr>\n",
       "    <tr>\n",
       "      <th>...</th>\n",
       "      <td>...</td>\n",
       "      <td>...</td>\n",
       "      <td>...</td>\n",
       "    </tr>\n",
       "    <tr>\n",
       "      <th>1063</th>\n",
       "      <td>2017-11-25 11:00:00</td>\n",
       "      <td>Good</td>\n",
       "      <td>0.0</td>\n",
       "    </tr>\n",
       "    <tr>\n",
       "      <th>1064</th>\n",
       "      <td>2017-11-11 10:00:00</td>\n",
       "      <td>Good</td>\n",
       "      <td>1318.0</td>\n",
       "    </tr>\n",
       "    <tr>\n",
       "      <th>1065</th>\n",
       "      <td>2017-11-11 13:00:00</td>\n",
       "      <td>Good</td>\n",
       "      <td>2100.0</td>\n",
       "    </tr>\n",
       "    <tr>\n",
       "      <th>1066</th>\n",
       "      <td>2017-11-11 08:00:00</td>\n",
       "      <td>Good</td>\n",
       "      <td>1380.0</td>\n",
       "    </tr>\n",
       "    <tr>\n",
       "      <th>1067</th>\n",
       "      <td>2017-11-04 16:00:00</td>\n",
       "      <td>Bad</td>\n",
       "      <td>2834.0</td>\n",
       "    </tr>\n",
       "  </tbody>\n",
       "</table>\n",
       "<p>1068 rows × 3 columns</p>\n",
       "</div>"
      ],
      "text/plain": [
       "                 start_ts weather_conditions  duration_seconds\n",
       "0     2017-11-25 16:00:00               Good            2410.0\n",
       "1     2017-11-25 14:00:00               Good            1920.0\n",
       "2     2017-11-25 12:00:00               Good            1543.0\n",
       "3     2017-11-04 10:00:00               Good            2512.0\n",
       "4     2017-11-11 07:00:00               Good            1440.0\n",
       "...                   ...                ...               ...\n",
       "1063  2017-11-25 11:00:00               Good               0.0\n",
       "1064  2017-11-11 10:00:00               Good            1318.0\n",
       "1065  2017-11-11 13:00:00               Good            2100.0\n",
       "1066  2017-11-11 08:00:00               Good            1380.0\n",
       "1067  2017-11-04 16:00:00                Bad            2834.0\n",
       "\n",
       "[1068 rows x 3 columns]"
      ]
     },
     "execution_count": 59,
     "metadata": {},
     "output_type": "execute_result"
    }
   ],
   "source": [
    "weather"
   ]
  },
  {
   "cell_type": "code",
   "execution_count": 115,
   "metadata": {},
   "outputs": [],
   "source": [
    "weather[\"day_of_week\"] = weather[\"start_ts\"].dt.dayofweek\n"
   ]
  },
  {
   "cell_type": "code",
   "execution_count": 86,
   "metadata": {},
   "outputs": [
    {
     "data": {
      "text/plain": [
       "0       5\n",
       "1       5\n",
       "2       5\n",
       "3       5\n",
       "4       5\n",
       "       ..\n",
       "1063    5\n",
       "1064    5\n",
       "1065    5\n",
       "1066    5\n",
       "1067    5\n",
       "Name: day_of_week, Length: 1068, dtype: int64"
      ]
     },
     "execution_count": 86,
     "metadata": {},
     "output_type": "execute_result"
    }
   ],
   "source": [
    "weather[\"day_of_week\"]"
   ]
  },
  {
   "cell_type": "code",
   "execution_count": 93,
   "metadata": {},
   "outputs": [],
   "source": [
    "rain_sat=weather.query('weather_conditions == \"Bad\"')\n",
    "non_rain_sat=weather.query('weather_conditions == \"Good\"')\n"
   ]
  },
  {
   "cell_type": "code",
   "execution_count": 90,
   "metadata": {
    "scrolled": true
   },
   "outputs": [
    {
     "data": {
      "text/html": [
       "<div>\n",
       "<style scoped>\n",
       "    .dataframe tbody tr th:only-of-type {\n",
       "        vertical-align: middle;\n",
       "    }\n",
       "\n",
       "    .dataframe tbody tr th {\n",
       "        vertical-align: top;\n",
       "    }\n",
       "\n",
       "    .dataframe thead th {\n",
       "        text-align: right;\n",
       "    }\n",
       "</style>\n",
       "<table border=\"1\" class=\"dataframe\">\n",
       "  <thead>\n",
       "    <tr style=\"text-align: right;\">\n",
       "      <th></th>\n",
       "      <th>start_ts</th>\n",
       "      <th>weather_conditions</th>\n",
       "      <th>duration_seconds</th>\n",
       "      <th>day_of_week</th>\n",
       "    </tr>\n",
       "  </thead>\n",
       "  <tbody>\n",
       "    <tr>\n",
       "      <th>6</th>\n",
       "      <td>2017-11-04 16:00:00</td>\n",
       "      <td>Bad</td>\n",
       "      <td>2969.0</td>\n",
       "      <td>5</td>\n",
       "    </tr>\n",
       "    <tr>\n",
       "      <th>30</th>\n",
       "      <td>2017-11-18 12:00:00</td>\n",
       "      <td>Bad</td>\n",
       "      <td>1980.0</td>\n",
       "      <td>5</td>\n",
       "    </tr>\n",
       "    <tr>\n",
       "      <th>34</th>\n",
       "      <td>2017-11-04 17:00:00</td>\n",
       "      <td>Bad</td>\n",
       "      <td>2460.0</td>\n",
       "      <td>5</td>\n",
       "    </tr>\n",
       "    <tr>\n",
       "      <th>51</th>\n",
       "      <td>2017-11-04 16:00:00</td>\n",
       "      <td>Bad</td>\n",
       "      <td>2760.0</td>\n",
       "      <td>5</td>\n",
       "    </tr>\n",
       "    <tr>\n",
       "      <th>52</th>\n",
       "      <td>2017-11-18 12:00:00</td>\n",
       "      <td>Bad</td>\n",
       "      <td>2460.0</td>\n",
       "      <td>5</td>\n",
       "    </tr>\n",
       "    <tr>\n",
       "      <th>...</th>\n",
       "      <td>...</td>\n",
       "      <td>...</td>\n",
       "      <td>...</td>\n",
       "      <td>...</td>\n",
       "    </tr>\n",
       "    <tr>\n",
       "      <th>1031</th>\n",
       "      <td>2017-11-18 12:00:00</td>\n",
       "      <td>Bad</td>\n",
       "      <td>2560.0</td>\n",
       "      <td>5</td>\n",
       "    </tr>\n",
       "    <tr>\n",
       "      <th>1032</th>\n",
       "      <td>2017-11-18 10:00:00</td>\n",
       "      <td>Bad</td>\n",
       "      <td>1908.0</td>\n",
       "      <td>5</td>\n",
       "    </tr>\n",
       "    <tr>\n",
       "      <th>1053</th>\n",
       "      <td>2017-11-18 12:00:00</td>\n",
       "      <td>Bad</td>\n",
       "      <td>2400.0</td>\n",
       "      <td>5</td>\n",
       "    </tr>\n",
       "    <tr>\n",
       "      <th>1061</th>\n",
       "      <td>2017-11-18 16:00:00</td>\n",
       "      <td>Bad</td>\n",
       "      <td>2186.0</td>\n",
       "      <td>5</td>\n",
       "    </tr>\n",
       "    <tr>\n",
       "      <th>1067</th>\n",
       "      <td>2017-11-04 16:00:00</td>\n",
       "      <td>Bad</td>\n",
       "      <td>2834.0</td>\n",
       "      <td>5</td>\n",
       "    </tr>\n",
       "  </tbody>\n",
       "</table>\n",
       "<p>180 rows × 4 columns</p>\n",
       "</div>"
      ],
      "text/plain": [
       "                start_ts weather_conditions  duration_seconds  day_of_week\n",
       "6    2017-11-04 16:00:00                Bad            2969.0            5\n",
       "30   2017-11-18 12:00:00                Bad            1980.0            5\n",
       "34   2017-11-04 17:00:00                Bad            2460.0            5\n",
       "51   2017-11-04 16:00:00                Bad            2760.0            5\n",
       "52   2017-11-18 12:00:00                Bad            2460.0            5\n",
       "...                  ...                ...               ...          ...\n",
       "1031 2017-11-18 12:00:00                Bad            2560.0            5\n",
       "1032 2017-11-18 10:00:00                Bad            1908.0            5\n",
       "1053 2017-11-18 12:00:00                Bad            2400.0            5\n",
       "1061 2017-11-18 16:00:00                Bad            2186.0            5\n",
       "1067 2017-11-04 16:00:00                Bad            2834.0            5\n",
       "\n",
       "[180 rows x 4 columns]"
      ]
     },
     "execution_count": 90,
     "metadata": {},
     "output_type": "execute_result"
    }
   ],
   "source": [
    "rain_sat"
   ]
  },
  {
   "cell_type": "code",
   "execution_count": 105,
   "metadata": {},
   "outputs": [],
   "source": [
    "a= rain_sat.groupby(\"weather_conditions\")[\"duration_seconds\"]\n",
    "b= non_rain_sat.groupby(\"weather_conditions\")[\"duration_seconds\"]"
   ]
  },
  {
   "cell_type": "code",
   "execution_count": 111,
   "metadata": {},
   "outputs": [
    {
     "data": {
      "image/png": "[encoded data removed]",
      "text/plain": [
       "<Figure size 576x504 with 1 Axes>"
      ]
     },
     "metadata": {
      "needs_background": "light"
     },
     "output_type": "display_data"
    },
    {
     "name": "stdout",
     "output_type": "stream",
     "text": [
      "Rainy Saturdays: Average for duration_seconds is weather_conditions\n",
      "Bad    2427.0\n",
      "Name: duration_seconds, dtype: float64\n",
      "Rainy Saturdays: Variance for duration_seconds is weather_conditions\n",
      "Bad    520294.0\n",
      "Name: duration_seconds, dtype: float64\n",
      "Rainy Saturdays: SD for duration_seconds is weather_conditions\n",
      "Bad    721.0\n",
      "Name: duration_seconds, dtype: float64\n",
      "Non-rainy Saturdays: Average for duration_seconds is weather_conditions\n",
      "Good    2000.0\n",
      "Name: duration_seconds, dtype: float64\n",
      "Non-rainy Saturdays: Variance for duration_seconds is weather_conditions\n",
      "Good    576382.0\n",
      "Name: duration_seconds, dtype: float64\n",
      "Non-rainy Saturdays: SD for duration_seconds is weather_conditions\n",
      "Good    759.0\n",
      "Name: duration_seconds, dtype: float64\n"
     ]
    }
   ],
   "source": [
    "\n",
    "def weather_stats(duration_seconds):\n",
    "    fig, ax=plt.subplots(figsize=(8,7))\n",
    "    ax=sb.histplot(weather, x=\"duration_seconds\", hue=\"weather_conditions\")\n",
    "    \n",
    "    rain_mean= round(a.mean())\n",
    "    rain_var= round(a.var())\n",
    "    rain_std= round(a.std())\n",
    "    non_rain_mean=round(b.mean())\n",
    "    non_rain_var= round(b.var())\n",
    "    non_rain_std= round(b.std())\n",
    "    plt.title(\"Ride Duration per Weather Condition Type \")\n",
    "    plt.show()\n",
    "    print(\"Rainy Saturdays: Average for\", duration_seconds, \"is\", rain_mean)\n",
    "    print(\"Rainy Saturdays: Variance for\", duration_seconds, \"is\", rain_var)\n",
    "    print(\"Rainy Saturdays: SD for\", duration_seconds, \"is\", rain_std)\n",
    "\n",
    "    print(\"Non-rainy Saturdays: Average for\", duration_seconds, \"is\", non_rain_mean)\n",
    "    print(\"Non-rainy Saturdays: Variance for\", duration_seconds, \"is\", non_rain_var)\n",
    "    print(\"Non-rainy Saturdays: SD for\", duration_seconds, \"is\", non_rain_std)\n",
    "\n",
    "weather_stats(\"duration_seconds\")"
   ]
  },
  {
   "cell_type": "markdown",
   "metadata": {},
   "source": [
    "Based on the calculations above, it appears that rainy days do seem to have a longer average ride duration (2427 seconds) as compared to non-rainy days (2000 seconds)."
   ]
  },
  {
   "cell_type": "code",
   "execution_count": 113,
   "metadata": {},
   "outputs": [
    {
     "data": {
      "image/png": "[encoded data removed]",
      "text/plain": [
       "<Figure size 432x288 with 1 Axes>"
      ]
     },
     "metadata": {
      "needs_background": "light"
     },
     "output_type": "display_data"
    }
   ],
   "source": [
    "h=weather.pivot(columns=\"weather_conditions\", values=\"duration_seconds\")\n",
    "sb.boxplot(data=h)\n",
    "plt.xlabel(\"Weather Condition Type & Ride Duration\")\n",
    "plt.ylabel(\"Ride Duration\")\n",
    "plt.title(\"Ride Duration per Weather Condition Type\")\n",
    "plt.show()\n",
    "\n"
   ]
  },
  {
   "cell_type": "markdown",
   "metadata": {},
   "source": [
    "* Again, here we see that the median ride duration for \"bad\" or rainy weather appears to be hihger than that of \"good\" or non-rainy weather. "
   ]
  },
  {
   "cell_type": "markdown",
   "metadata": {},
   "source": [
    "# HYPOTHESIS TESTING\n",
    "* H0:The average duration of rides from the Loop to O'Hare International Airport does not change on rainy Saturdays.\n",
    "* H1:The average duration of rides from the Loop to O'Hare International Airport changes on rainy Saturdays."
   ]
  },
  {
   "cell_type": "code",
   "execution_count": 121,
   "metadata": {},
   "outputs": [
    {
     "name": "stdout",
     "output_type": "stream",
     "text": [
      "6       2969.0\n",
      "30      1980.0\n",
      "34      2460.0\n",
      "51      2760.0\n",
      "52      2460.0\n",
      "         ...  \n",
      "1031    2560.0\n",
      "1032    1908.0\n",
      "1053    2400.0\n",
      "1061    2186.0\n",
      "1067    2834.0\n",
      "Name: duration_seconds, Length: 180, dtype: float64 0       2410.0\n",
      "1       1920.0\n",
      "2       1543.0\n",
      "3       2512.0\n",
      "4       1440.0\n",
      "         ...  \n",
      "1062    1500.0\n",
      "1063       0.0\n",
      "1064    1318.0\n",
      "1065    2100.0\n",
      "1066    1380.0\n",
      "Name: duration_seconds, Length: 888, dtype: float64\n",
      "180\n",
      "888\n"
     ]
    }
   ],
   "source": [
    "sample1=rain_sat[\"duration_seconds\"]\n",
    "sample2=non_rain_sat[\"duration_seconds\"]\n",
    "print(sample1, sample2)\n",
    "print(len(sample1))\n",
    "print(len(sample2))"
   ]
  },
  {
   "cell_type": "code",
   "execution_count": 117,
   "metadata": {},
   "outputs": [
    {
     "name": "stdout",
     "output_type": "stream",
     "text": [
      "Variance of sample 1 & 2 are not equal LeveneResult(statistic=0.38853489683656073, pvalue=0.5332038671974493)\n"
     ]
    }
   ],
   "source": [
    "pvalue_lev= st.levene(sample1, sample2)\n",
    "pvalue_lev\n",
    "print(\"Variance of sample 1 & 2 are not equal\", pvalue_lev)"
   ]
  },
  {
   "cell_type": "code",
   "execution_count": 118,
   "metadata": {},
   "outputs": [
    {
     "name": "stdout",
     "output_type": "stream",
     "text": [
      "Null & Alternative Hypotheses:\n",
      "H0:The average duration of rides from the Loop to O'Hare International Airport does not change on rainy Saturdays.\n",
      "H1:The average duration of rides from the Loop to O'Hare International Airport changes on rainy Saturdays.\n"
     ]
    }
   ],
   "source": [
    "print(\"Null & Alternative Hypotheses:\")\n",
    "print(\"H0:The average duration of rides from the Loop to O'Hare International Airport does not change on rainy Saturdays.\")\n",
    "print(\"H1:The average duration of rides from the Loop to O'Hare International Airport changes on rainy Saturdays.\") "
   ]
  },
  {
   "cell_type": "code",
   "execution_count": 119,
   "metadata": {},
   "outputs": [
    {
     "name": "stdout",
     "output_type": "stream",
     "text": [
      "P_value,  6.517970327099473e-12\n",
      "Reject H0, the average ride duration on rainy Saturdays are not equal to the average ride duration on non-rainy Saturdays\n"
     ]
    }
   ],
   "source": [
    "def t_test(sample1, sample2, alpha=.05):\n",
    "    p_value_levene=st.levene(sample1,sample2).pvalue\n",
    "    if p_value_levene < alpha:\n",
    "        option_var=False\n",
    "    else:\n",
    "        option_var=True\n",
    "    p_value= st.ttest_ind(sample1, sample2, equal_var=option_var).pvalue\n",
    "    print(\"P_value, \", p_value)\n",
    "    if p_value < alpha:\n",
    "        print(\"Reject H0, the average ride duration on rainy Saturdays are not equal to the average ride duration on non-rainy Saturdays\")\n",
    "    else:\n",
    "        print(\"Fail to reject H0, the average ride duration on rainy Saturdays are equal to the average ride duration on non-rainy Saturdays\")\n",
    "t_test(sample1, sample2)"
   ]
  },
  {
   "cell_type": "markdown",
   "metadata": {},
   "source": [
    "# Conclusion\n",
    "* This dataset was modified by adding [\"day_of_week\"] column for readability and dates in the [\"start_ts\"] column were converted to datetime.Upon conducting an independent samples t-test, the results indicate that the average ride duration on rainy Saturdays differ from the average ride duration on non-rainy days (p-value=6.51e-12, alpha=0.05).\n",
    "\n",
    "* It is imprtant to note that the sample sizes of each group were greatly disproportionate, with non-rain data containing 888 rows as opposed to rainy data containing 180 rows. Noteablely, this dataset contains nearly 5 times more non-rain data than rain data. Further statistical tests should be conducted utilizing larger samples (and equal samples) in order to better understand in more detail how these samples differ and in what direction. Nevertheless, these results do suggest that ride duration may differ based on these different weather conditions.\n"
   ]
  }
 ],
 "metadata": {
  "ExecuteTimeLog": [
   {
    "duration": 1189,
    "start_time": "2022-05-31T22:00:27.682Z"
   },
   {
    "duration": 92,
    "start_time": "2022-05-31T22:02:11.937Z"
   },
   {
    "duration": 61,
    "start_time": "2022-05-31T22:02:17.834Z"
   },
   {
    "duration": 33,
    "start_time": "2022-05-31T22:02:21.836Z"
   },
   {
    "duration": 31,
    "start_time": "2022-05-31T22:02:29.775Z"
   },
   {
    "duration": 61,
    "start_time": "2022-05-31T22:03:12.003Z"
   },
   {
    "duration": 30,
    "start_time": "2022-05-31T22:03:16.739Z"
   },
   {
    "duration": 29,
    "start_time": "2022-05-31T22:03:49.701Z"
   },
   {
    "duration": 8,
    "start_time": "2022-05-31T22:04:00.411Z"
   },
   {
    "duration": 30,
    "start_time": "2022-05-31T22:04:09.132Z"
   },
   {
    "duration": 31,
    "start_time": "2022-05-31T22:04:13.253Z"
   },
   {
    "duration": 10,
    "start_time": "2022-05-31T22:04:16.892Z"
   },
   {
    "duration": 9,
    "start_time": "2022-05-31T22:04:33.016Z"
   },
   {
    "duration": 5,
    "start_time": "2022-05-31T22:05:04.595Z"
   },
   {
    "duration": 5,
    "start_time": "2022-05-31T22:05:16.679Z"
   },
   {
    "duration": 378,
    "start_time": "2022-05-31T22:07:35.282Z"
   },
   {
    "duration": 694,
    "start_time": "2022-05-31T22:07:48.544Z"
   },
   {
    "duration": 5,
    "start_time": "2022-05-31T22:08:03.203Z"
   },
   {
    "duration": 9,
    "start_time": "2022-05-31T22:08:16.428Z"
   },
   {
    "duration": 5,
    "start_time": "2022-05-31T22:08:21.583Z"
   },
   {
    "duration": 4,
    "start_time": "2022-05-31T22:08:27.712Z"
   },
   {
    "duration": 5,
    "start_time": "2022-05-31T22:08:31.581Z"
   },
   {
    "duration": 8,
    "start_time": "2022-05-31T22:09:26.987Z"
   },
   {
    "duration": 9,
    "start_time": "2022-05-31T22:09:31.822Z"
   },
   {
    "duration": 5,
    "start_time": "2022-05-31T22:09:34.979Z"
   },
   {
    "duration": 9,
    "start_time": "2022-05-31T22:10:29.819Z"
   },
   {
    "duration": 377,
    "start_time": "2022-05-31T22:10:47.648Z"
   },
   {
    "duration": 5,
    "start_time": "2022-05-31T22:11:21.683Z"
   },
   {
    "duration": 8296,
    "start_time": "2022-05-31T22:11:41.668Z"
   },
   {
    "duration": 9075,
    "start_time": "2022-05-31T22:11:59.975Z"
   },
   {
    "duration": 8388,
    "start_time": "2022-05-31T22:12:15.011Z"
   },
   {
    "duration": 48,
    "start_time": "2022-05-31T22:12:52.643Z"
   },
   {
    "duration": 11,
    "start_time": "2022-05-31T22:13:00.502Z"
   },
   {
    "duration": 8723,
    "start_time": "2022-05-31T22:13:14.678Z"
   },
   {
    "duration": 1354,
    "start_time": "2022-05-31T22:16:02.531Z"
   },
   {
    "duration": 9,
    "start_time": "2022-05-31T22:18:20.013Z"
   },
   {
    "duration": 9,
    "start_time": "2022-05-31T22:18:31.987Z"
   },
   {
    "duration": 4,
    "start_time": "2022-05-31T22:18:35.034Z"
   },
   {
    "duration": 5,
    "start_time": "2022-05-31T22:18:48.745Z"
   },
   {
    "duration": 10,
    "start_time": "2022-05-31T22:20:07.693Z"
   },
   {
    "duration": 7,
    "start_time": "2022-05-31T22:20:16.737Z"
   },
   {
    "duration": 1373,
    "start_time": "2022-05-31T22:20:32.382Z"
   },
   {
    "duration": 3,
    "start_time": "2022-05-31T22:20:49.737Z"
   },
   {
    "duration": 6,
    "start_time": "2022-05-31T22:21:02.693Z"
   },
   {
    "duration": 56,
    "start_time": "2022-06-01T18:31:06.511Z"
   },
   {
    "duration": 1280,
    "start_time": "2022-06-01T18:31:14.527Z"
   },
   {
    "duration": 75,
    "start_time": "2022-06-01T18:31:15.809Z"
   },
   {
    "duration": 69,
    "start_time": "2022-06-01T18:31:15.886Z"
   },
   {
    "duration": 12,
    "start_time": "2022-06-01T18:31:15.958Z"
   },
   {
    "duration": 18,
    "start_time": "2022-06-01T18:31:15.971Z"
   },
   {
    "duration": 11,
    "start_time": "2022-06-01T18:31:15.991Z"
   },
   {
    "duration": 11,
    "start_time": "2022-06-01T18:31:16.004Z"
   },
   {
    "duration": 6,
    "start_time": "2022-06-01T18:31:16.017Z"
   },
   {
    "duration": 10,
    "start_time": "2022-06-01T18:31:16.025Z"
   },
   {
    "duration": 0,
    "start_time": "2022-06-01T18:31:16.037Z"
   },
   {
    "duration": 0,
    "start_time": "2022-06-01T18:31:16.037Z"
   },
   {
    "duration": 5,
    "start_time": "2022-06-01T18:31:28.703Z"
   },
   {
    "duration": 3,
    "start_time": "2022-06-01T18:31:30.949Z"
   },
   {
    "duration": 1145,
    "start_time": "2022-06-01T18:31:53.803Z"
   },
   {
    "duration": 35,
    "start_time": "2022-06-01T18:31:54.950Z"
   },
   {
    "duration": 21,
    "start_time": "2022-06-01T18:31:54.987Z"
   },
   {
    "duration": 10,
    "start_time": "2022-06-01T18:31:55.009Z"
   },
   {
    "duration": 11,
    "start_time": "2022-06-01T18:31:55.021Z"
   },
   {
    "duration": 8,
    "start_time": "2022-06-01T18:31:55.034Z"
   },
   {
    "duration": 7,
    "start_time": "2022-06-01T18:31:55.043Z"
   },
   {
    "duration": 6,
    "start_time": "2022-06-01T18:31:55.051Z"
   },
   {
    "duration": 5,
    "start_time": "2022-06-01T18:31:55.059Z"
   },
   {
    "duration": 0,
    "start_time": "2022-06-01T18:31:55.065Z"
   },
   {
    "duration": 0,
    "start_time": "2022-06-01T18:31:55.067Z"
   },
   {
    "duration": 4,
    "start_time": "2022-06-01T18:32:07.572Z"
   },
   {
    "duration": 1588,
    "start_time": "2022-06-01T18:32:13.748Z"
   },
   {
    "duration": 4,
    "start_time": "2022-06-01T18:32:25.701Z"
   },
   {
    "duration": 4,
    "start_time": "2022-06-01T18:32:37.429Z"
   },
   {
    "duration": 9,
    "start_time": "2022-06-01T18:32:46.389Z"
   },
   {
    "duration": 1597,
    "start_time": "2022-06-01T18:33:52.615Z"
   },
   {
    "duration": 148,
    "start_time": "2022-06-01T18:34:38.056Z"
   },
   {
    "duration": 248,
    "start_time": "2022-06-01T18:38:43.584Z"
   },
   {
    "duration": 160,
    "start_time": "2022-06-01T18:38:50.191Z"
   },
   {
    "duration": 158,
    "start_time": "2022-06-01T18:38:55.382Z"
   },
   {
    "duration": 278,
    "start_time": "2022-06-01T18:39:11.902Z"
   },
   {
    "duration": 158,
    "start_time": "2022-06-01T18:40:43.971Z"
   },
   {
    "duration": 3,
    "start_time": "2022-06-01T18:41:45.294Z"
   },
   {
    "duration": 171,
    "start_time": "2022-06-01T18:42:27.542Z"
   },
   {
    "duration": 158,
    "start_time": "2022-06-01T18:42:38.779Z"
   },
   {
    "duration": 8,
    "start_time": "2022-06-01T18:43:58.616Z"
   },
   {
    "duration": 170,
    "start_time": "2022-06-01T18:44:03.460Z"
   },
   {
    "duration": 8,
    "start_time": "2022-06-01T18:46:18.935Z"
   },
   {
    "duration": 12,
    "start_time": "2022-06-01T18:47:20.044Z"
   },
   {
    "duration": 14,
    "start_time": "2022-06-01T18:51:26.679Z"
   },
   {
    "duration": 1338,
    "start_time": "2022-06-01T18:51:39.521Z"
   },
   {
    "duration": 9,
    "start_time": "2022-06-01T18:52:46.164Z"
   },
   {
    "duration": 4,
    "start_time": "2022-06-01T18:52:54.219Z"
   },
   {
    "duration": 242,
    "start_time": "2022-06-01T18:52:57.281Z"
   },
   {
    "duration": 231,
    "start_time": "2022-06-01T18:53:24.568Z"
   },
   {
    "duration": 234,
    "start_time": "2022-06-01T18:53:31.526Z"
   },
   {
    "duration": 5,
    "start_time": "2022-06-01T18:53:45.963Z"
   },
   {
    "duration": 325,
    "start_time": "2022-06-01T18:53:47.783Z"
   },
   {
    "duration": 209,
    "start_time": "2022-06-01T18:54:03.038Z"
   },
   {
    "duration": 211,
    "start_time": "2022-06-01T18:54:19.626Z"
   },
   {
    "duration": 209,
    "start_time": "2022-06-01T18:54:26.262Z"
   },
   {
    "duration": 223,
    "start_time": "2022-06-01T18:54:34.405Z"
   },
   {
    "duration": 8,
    "start_time": "2022-06-01T18:55:02.433Z"
   },
   {
    "duration": 13,
    "start_time": "2022-06-01T18:55:49.640Z"
   },
   {
    "duration": 11,
    "start_time": "2022-06-01T18:56:10.642Z"
   },
   {
    "duration": 4,
    "start_time": "2022-06-01T18:56:44.397Z"
   },
   {
    "duration": 9,
    "start_time": "2022-06-01T18:56:58.640Z"
   },
   {
    "duration": 5,
    "start_time": "2022-06-01T18:57:04.887Z"
   },
   {
    "duration": 5,
    "start_time": "2022-06-01T18:57:16.952Z"
   },
   {
    "duration": 11,
    "start_time": "2022-06-01T18:57:49.304Z"
   },
   {
    "duration": 16,
    "start_time": "2022-06-01T18:58:28.740Z"
   },
   {
    "duration": 15,
    "start_time": "2022-06-01T18:58:40.453Z"
   },
   {
    "duration": 4,
    "start_time": "2022-06-01T18:59:57.191Z"
   },
   {
    "duration": 225,
    "start_time": "2022-06-01T19:01:53.043Z"
   },
   {
    "duration": 81,
    "start_time": "2022-06-01T19:04:16.711Z"
   },
   {
    "duration": 46,
    "start_time": "2022-06-01T19:04:21.166Z"
   },
   {
    "duration": 45,
    "start_time": "2022-06-01T19:04:34.725Z"
   },
   {
    "duration": 40,
    "start_time": "2022-06-01T19:04:38.998Z"
   },
   {
    "duration": 46,
    "start_time": "2022-06-01T19:05:01.434Z"
   },
   {
    "duration": 10,
    "start_time": "2022-06-01T19:14:53.889Z"
   },
   {
    "duration": 9,
    "start_time": "2022-06-01T19:19:54.491Z"
   },
   {
    "duration": 10,
    "start_time": "2022-06-01T19:20:10.469Z"
   },
   {
    "duration": 4,
    "start_time": "2022-06-01T19:21:18.803Z"
   },
   {
    "duration": 13,
    "start_time": "2022-06-01T19:21:24.567Z"
   },
   {
    "duration": 13,
    "start_time": "2022-06-01T19:21:43.479Z"
   },
   {
    "duration": 264,
    "start_time": "2022-06-01T19:39:24.229Z"
   },
   {
    "duration": 247,
    "start_time": "2022-06-01T19:39:38.039Z"
   },
   {
    "duration": 267,
    "start_time": "2022-06-01T19:39:43.772Z"
   },
   {
    "duration": 5,
    "start_time": "2022-06-01T19:39:59.142Z"
   },
   {
    "duration": 14,
    "start_time": "2022-06-01T19:40:19.866Z"
   },
   {
    "duration": 5,
    "start_time": "2022-06-01T19:40:33.107Z"
   },
   {
    "duration": 14,
    "start_time": "2022-06-01T19:40:41.393Z"
   },
   {
    "duration": 5,
    "start_time": "2022-06-01T19:50:27.814Z"
   },
   {
    "duration": 7,
    "start_time": "2022-06-01T19:50:34.976Z"
   },
   {
    "duration": 22,
    "start_time": "2022-06-01T19:51:08.781Z"
   },
   {
    "duration": 25,
    "start_time": "2022-06-01T19:51:12.563Z"
   },
   {
    "duration": 37,
    "start_time": "2022-06-01T19:51:32.166Z"
   },
   {
    "duration": 17,
    "start_time": "2022-06-01T19:51:35.282Z"
   },
   {
    "duration": 25,
    "start_time": "2022-06-01T19:51:39.564Z"
   },
   {
    "duration": 9,
    "start_time": "2022-06-01T19:51:47.696Z"
   },
   {
    "duration": 4,
    "start_time": "2022-06-01T19:52:27.491Z"
   },
   {
    "duration": 5,
    "start_time": "2022-06-01T19:52:47.208Z"
   },
   {
    "duration": 10,
    "start_time": "2022-06-01T19:55:12.005Z"
   },
   {
    "duration": 9,
    "start_time": "2022-06-01T19:55:22.432Z"
   },
   {
    "duration": 6,
    "start_time": "2022-06-01T19:56:35.301Z"
   },
   {
    "duration": 16,
    "start_time": "2022-06-01T19:56:38.828Z"
   },
   {
    "duration": 74,
    "start_time": "2022-06-01T20:00:54.005Z"
   },
   {
    "duration": 10,
    "start_time": "2022-06-01T20:00:59.265Z"
   },
   {
    "duration": 7,
    "start_time": "2022-06-01T20:01:05.184Z"
   },
   {
    "duration": 18,
    "start_time": "2022-06-01T20:01:46.870Z"
   },
   {
    "duration": 12,
    "start_time": "2022-06-01T20:24:16.009Z"
   },
   {
    "duration": 299,
    "start_time": "2022-06-01T20:24:42.247Z"
   },
   {
    "duration": 308,
    "start_time": "2022-06-01T20:36:53.877Z"
   },
   {
    "duration": 6,
    "start_time": "2022-06-01T20:39:40.465Z"
   },
   {
    "duration": 398,
    "start_time": "2022-06-01T20:40:26.150Z"
   },
   {
    "duration": 6,
    "start_time": "2022-06-01T20:41:21.579Z"
   },
   {
    "duration": 5,
    "start_time": "2022-06-01T20:43:03.158Z"
   },
   {
    "duration": 11,
    "start_time": "2022-06-01T20:43:21.275Z"
   },
   {
    "duration": 367,
    "start_time": "2022-06-01T20:45:33.157Z"
   },
   {
    "duration": 5,
    "start_time": "2022-06-01T20:45:44.969Z"
   },
   {
    "duration": 4,
    "start_time": "2022-06-01T20:46:05.205Z"
   },
   {
    "duration": 8,
    "start_time": "2022-06-01T20:46:07.294Z"
   },
   {
    "duration": 328,
    "start_time": "2022-06-01T20:46:21.985Z"
   },
   {
    "duration": 332,
    "start_time": "2022-06-01T20:46:51.685Z"
   },
   {
    "duration": 34,
    "start_time": "2022-06-01T20:47:26.081Z"
   },
   {
    "duration": 301,
    "start_time": "2022-06-01T20:47:50.285Z"
   },
   {
    "duration": 285,
    "start_time": "2022-06-01T20:54:15.239Z"
   },
   {
    "duration": 131,
    "start_time": "2022-06-01T20:59:09.121Z"
   },
   {
    "duration": 114,
    "start_time": "2022-06-01T20:59:53.594Z"
   },
   {
    "duration": 4,
    "start_time": "2022-06-01T21:03:17.066Z"
   },
   {
    "duration": 6,
    "start_time": "2022-06-01T21:03:41.749Z"
   },
   {
    "duration": 9,
    "start_time": "2022-06-01T21:07:18.237Z"
   },
   {
    "duration": 5,
    "start_time": "2022-06-01T21:07:58.147Z"
   },
   {
    "duration": 4,
    "start_time": "2022-06-01T21:09:26.651Z"
   },
   {
    "duration": 7,
    "start_time": "2022-06-01T21:11:10.536Z"
   },
   {
    "duration": 8,
    "start_time": "2022-06-01T21:16:36.720Z"
   },
   {
    "duration": 9,
    "start_time": "2022-06-01T21:16:51.659Z"
   }
  ],
  "kernelspec": {
   "display_name": "Python 3 (ipykernel)",
   "language": "python",
   "name": "python3"
  },
  "language_info": {
   "codemirror_mode": {
    "name": "ipython",
    "version": 3
   },
   "file_extension": ".py",
   "mimetype": "text/x-python",
   "name": "python",
   "nbconvert_exporter": "python",
   "pygments_lexer": "ipython3",
   "version": "3.9.12"
  },
  "toc": {
   "base_numbering": 1,
   "nav_menu": {},
   "number_sections": true,
   "sideBar": true,
   "skip_h1_title": true,
   "title_cell": "Table of Contents",
   "title_sidebar": "Contents",
   "toc_cell": false,
   "toc_position": {},
   "toc_section_display": true,
   "toc_window_display": false
  }
 },
 "nbformat": 4,
 "nbformat_minor": 2
}
