{
 "cells": [
  {
   "cell_type": "markdown",
   "metadata": {},
   "source": [
    "# Introduction Statement"
   ]
  },
  {
   "cell_type": "markdown",
   "metadata": {},
   "source": [
    "The Sure Tomorrow insurance company wants to solve several tasks with the help of Machine Learning and you are asked to evaluate that possibility.\n",
    "\n",
    "- Task 1: Find customers who are similar to a given customer. This will help the company's agents with marketing.\n",
    "- Task 2: Predict whether a new customer is likely to receive an insurance benefit. Can a prediction model do better than a dummy model?\n",
    "- Task 3: Predict the number of insurance benefits a new customer is likely to receive using a linear regression model.\n",
    "- Task 4: Protect clients' personal data without breaking the model from the previous task. It's necessary to develop a data transformation algorithm that would make it hard to recover personal information if the data fell into the wrong hands. This is called data masking, or data obfuscation. But the data should be protected in such a way that the quality of machine learning models doesn't suffer. You don't need to pick the best model, just prove that the algorithm works correctly."
   ]
  },
  {
   "cell_type": "markdown",
   "metadata": {},
   "source": [
    "# Data Preprocessing & Exploration\n",
    "\n",
    "## Initialization"
   ]
  },
  {
   "cell_type": "code",
   "execution_count": 1,
   "metadata": {},
   "outputs": [
    {
     "name": "stdout",
     "output_type": "stream",
     "text": [
      "Requirement already satisfied: scikit-learn in /opt/conda/lib/python3.9/site-packages (0.24.1)\n",
      "Collecting scikit-learn\n",
      "  Downloading scikit_learn-1.1.2-cp39-cp39-manylinux_2_17_x86_64.manylinux2014_x86_64.whl (30.8 MB)\n",
      "\u001b[K     |████████████████████████████████| 30.8 MB 2.2 MB/s eta 0:00:01\n",
      "\u001b[?25hRequirement already satisfied: joblib>=1.0.0 in /opt/conda/lib/python3.9/site-packages (from scikit-learn) (1.1.0)\n",
      "Requirement already satisfied: threadpoolctl>=2.0.0 in /opt/conda/lib/python3.9/site-packages (from scikit-learn) (3.1.0)\n",
      "Requirement already satisfied: numpy>=1.17.3 in /opt/conda/lib/python3.9/site-packages (from scikit-learn) (1.21.1)\n",
      "Requirement already satisfied: scipy>=1.3.2 in /opt/conda/lib/python3.9/site-packages (from scikit-learn) (1.8.0)\n",
      "Installing collected packages: scikit-learn\n",
      "  Attempting uninstall: scikit-learn\n",
      "    Found existing installation: scikit-learn 0.24.1\n",
      "    Uninstalling scikit-learn-0.24.1:\n",
      "      Successfully uninstalled scikit-learn-0.24.1\n",
      "Successfully installed scikit-learn-1.1.2\n",
      "Note: you may need to restart the kernel to use updated packages.\n"
     ]
    }
   ],
   "source": [
    "pip install scikit-learn --upgrade"
   ]
  },
  {
   "cell_type": "code",
   "execution_count": 2,
   "metadata": {},
   "outputs": [],
   "source": [
    "import numpy as np\n",
    "import pandas as pd\n",
    "\n",
    "import seaborn as sns\n",
    "\n",
    "import sklearn.linear_model\n",
    "import sklearn.metrics\n",
    "import sklearn.neighbors\n",
    "import sklearn.preprocessing\n",
    "\n",
    "from sklearn.model_selection import train_test_split\n",
    "\n",
    "from IPython.display import display\n",
    "import seaborn as sns\n",
    "from sklearn.neighbors import NearestNeighbors\n",
    "from sklearn.dummy import DummyClassifier\n",
    "from sklearn.metrics import plot_confusion_matrix\n",
    "from sklearn.metrics import r2_score\n",
    "import math\n",
    "import matplotlib.pyplot as plt\n",
    "from sklearn.neighbors import KNeighborsClassifier"
   ]
  },
  {
   "cell_type": "markdown",
   "metadata": {},
   "source": [
    "## Load Data"
   ]
  },
  {
   "cell_type": "code",
   "execution_count": 3,
   "metadata": {},
   "outputs": [],
   "source": [
    "df = pd.read_csv('/datasets/insurance_us.csv')"
   ]
  },
  {
   "cell_type": "markdown",
   "metadata": {},
   "source": [
    "* We rename the colums to make the code look more consistent with its style."
   ]
  },
  {
   "cell_type": "code",
   "execution_count": 4,
   "metadata": {},
   "outputs": [],
   "source": [
    "df = df.rename(columns={'Gender': 'gender', 'Age': 'age', 'Salary': 'income', 'Family members': 'family_members', 'Insurance benefits': 'insurance_benefits'})"
   ]
  },
  {
   "cell_type": "code",
   "execution_count": 5,
   "metadata": {},
   "outputs": [
    {
     "data": {
      "text/html": [
       "<div>\n",
       "<style scoped>\n",
       "    .dataframe tbody tr th:only-of-type {\n",
       "        vertical-align: middle;\n",
       "    }\n",
       "\n",
       "    .dataframe tbody tr th {\n",
       "        vertical-align: top;\n",
       "    }\n",
       "\n",
       "    .dataframe thead th {\n",
       "        text-align: right;\n",
       "    }\n",
       "</style>\n",
       "<table border=\"1\" class=\"dataframe\">\n",
       "  <thead>\n",
       "    <tr style=\"text-align: right;\">\n",
       "      <th></th>\n",
       "      <th>gender</th>\n",
       "      <th>age</th>\n",
       "      <th>income</th>\n",
       "      <th>family_members</th>\n",
       "      <th>insurance_benefits</th>\n",
       "    </tr>\n",
       "  </thead>\n",
       "  <tbody>\n",
       "    <tr>\n",
       "      <th>3979</th>\n",
       "      <td>1</td>\n",
       "      <td>30.0</td>\n",
       "      <td>36100.0</td>\n",
       "      <td>1</td>\n",
       "      <td>0</td>\n",
       "    </tr>\n",
       "    <tr>\n",
       "      <th>1860</th>\n",
       "      <td>1</td>\n",
       "      <td>36.0</td>\n",
       "      <td>52100.0</td>\n",
       "      <td>2</td>\n",
       "      <td>0</td>\n",
       "    </tr>\n",
       "    <tr>\n",
       "      <th>4129</th>\n",
       "      <td>1</td>\n",
       "      <td>19.0</td>\n",
       "      <td>35600.0</td>\n",
       "      <td>2</td>\n",
       "      <td>0</td>\n",
       "    </tr>\n",
       "    <tr>\n",
       "      <th>4758</th>\n",
       "      <td>0</td>\n",
       "      <td>30.0</td>\n",
       "      <td>58200.0</td>\n",
       "      <td>2</td>\n",
       "      <td>0</td>\n",
       "    </tr>\n",
       "    <tr>\n",
       "      <th>4831</th>\n",
       "      <td>0</td>\n",
       "      <td>34.0</td>\n",
       "      <td>25200.0</td>\n",
       "      <td>2</td>\n",
       "      <td>0</td>\n",
       "    </tr>\n",
       "    <tr>\n",
       "      <th>1007</th>\n",
       "      <td>1</td>\n",
       "      <td>19.0</td>\n",
       "      <td>57200.0</td>\n",
       "      <td>2</td>\n",
       "      <td>0</td>\n",
       "    </tr>\n",
       "    <tr>\n",
       "      <th>674</th>\n",
       "      <td>1</td>\n",
       "      <td>43.0</td>\n",
       "      <td>40800.0</td>\n",
       "      <td>1</td>\n",
       "      <td>1</td>\n",
       "    </tr>\n",
       "    <tr>\n",
       "      <th>1435</th>\n",
       "      <td>1</td>\n",
       "      <td>29.0</td>\n",
       "      <td>26200.0</td>\n",
       "      <td>0</td>\n",
       "      <td>0</td>\n",
       "    </tr>\n",
       "    <tr>\n",
       "      <th>3234</th>\n",
       "      <td>1</td>\n",
       "      <td>47.0</td>\n",
       "      <td>38200.0</td>\n",
       "      <td>2</td>\n",
       "      <td>1</td>\n",
       "    </tr>\n",
       "    <tr>\n",
       "      <th>540</th>\n",
       "      <td>1</td>\n",
       "      <td>29.0</td>\n",
       "      <td>38900.0</td>\n",
       "      <td>1</td>\n",
       "      <td>0</td>\n",
       "    </tr>\n",
       "  </tbody>\n",
       "</table>\n",
       "</div>"
      ],
      "text/plain": [
       "      gender   age   income  family_members  insurance_benefits\n",
       "3979       1  30.0  36100.0               1                   0\n",
       "1860       1  36.0  52100.0               2                   0\n",
       "4129       1  19.0  35600.0               2                   0\n",
       "4758       0  30.0  58200.0               2                   0\n",
       "4831       0  34.0  25200.0               2                   0\n",
       "1007       1  19.0  57200.0               2                   0\n",
       "674        1  43.0  40800.0               1                   1\n",
       "1435       1  29.0  26200.0               0                   0\n",
       "3234       1  47.0  38200.0               2                   1\n",
       "540        1  29.0  38900.0               1                   0"
      ]
     },
     "execution_count": 5,
     "metadata": {},
     "output_type": "execute_result"
    }
   ],
   "source": [
    "df.sample(10)"
   ]
  },
  {
   "cell_type": "code",
   "execution_count": 6,
   "metadata": {},
   "outputs": [
    {
     "name": "stdout",
     "output_type": "stream",
     "text": [
      "<class 'pandas.core.frame.DataFrame'>\n",
      "RangeIndex: 5000 entries, 0 to 4999\n",
      "Data columns (total 5 columns):\n",
      " #   Column              Non-Null Count  Dtype  \n",
      "---  ------              --------------  -----  \n",
      " 0   gender              5000 non-null   int64  \n",
      " 1   age                 5000 non-null   float64\n",
      " 2   income              5000 non-null   float64\n",
      " 3   family_members      5000 non-null   int64  \n",
      " 4   insurance_benefits  5000 non-null   int64  \n",
      "dtypes: float64(2), int64(3)\n",
      "memory usage: 195.4 KB\n"
     ]
    }
   ],
   "source": [
    "df.info()"
   ]
  },
  {
   "cell_type": "code",
   "execution_count": 7,
   "metadata": {},
   "outputs": [],
   "source": [
    "# we may want to fix the age type (from float to int) though this is not critical\n",
    "df[\"age\"] = df[\"age\"].astype(int)\n"
   ]
  },
  {
   "cell_type": "code",
   "execution_count": 8,
   "metadata": {},
   "outputs": [
    {
     "name": "stdout",
     "output_type": "stream",
     "text": [
      "<class 'pandas.core.frame.DataFrame'>\n",
      "RangeIndex: 5000 entries, 0 to 4999\n",
      "Data columns (total 5 columns):\n",
      " #   Column              Non-Null Count  Dtype  \n",
      "---  ------              --------------  -----  \n",
      " 0   gender              5000 non-null   int64  \n",
      " 1   age                 5000 non-null   int64  \n",
      " 2   income              5000 non-null   float64\n",
      " 3   family_members      5000 non-null   int64  \n",
      " 4   insurance_benefits  5000 non-null   int64  \n",
      "dtypes: float64(1), int64(4)\n",
      "memory usage: 195.4 KB\n"
     ]
    }
   ],
   "source": [
    "# check to see that the conversion was successful\n",
    "df.info()"
   ]
  },
  {
   "cell_type": "code",
   "execution_count": 10,
   "metadata": {},
   "outputs": [
    {
     "data": {
      "text/plain": [
       "19    223\n",
       "25    214\n",
       "31    212\n",
       "26    211\n",
       "22    209\n",
       "27    209\n",
       "32    206\n",
       "28    204\n",
       "29    203\n",
       "30    202\n",
       "23    202\n",
       "21    200\n",
       "20    195\n",
       "36    193\n",
       "33    191\n",
       "24    182\n",
       "35    179\n",
       "34    177\n",
       "37    147\n",
       "39    141\n",
       "38    139\n",
       "41    129\n",
       "18    117\n",
       "40    114\n",
       "42     93\n",
       "43     77\n",
       "44     74\n",
       "45     73\n",
       "46     60\n",
       "47     47\n",
       "49     37\n",
       "50     27\n",
       "48     26\n",
       "52     22\n",
       "51     21\n",
       "53     11\n",
       "55      9\n",
       "54      7\n",
       "56      5\n",
       "59      3\n",
       "60      2\n",
       "57      2\n",
       "58      2\n",
       "65      1\n",
       "61      1\n",
       "62      1\n",
       "Name: age, dtype: int64"
      ]
     },
     "execution_count": 10,
     "metadata": {},
     "output_type": "execute_result"
    }
   ],
   "source": [
    "df[\"age\"].value_counts()\n"
   ]
  },
  {
   "cell_type": "code",
   "execution_count": 11,
   "metadata": {},
   "outputs": [
    {
     "data": {
      "text/html": [
       "<div>\n",
       "<style scoped>\n",
       "    .dataframe tbody tr th:only-of-type {\n",
       "        vertical-align: middle;\n",
       "    }\n",
       "\n",
       "    .dataframe tbody tr th {\n",
       "        vertical-align: top;\n",
       "    }\n",
       "\n",
       "    .dataframe thead th {\n",
       "        text-align: right;\n",
       "    }\n",
       "</style>\n",
       "<table border=\"1\" class=\"dataframe\">\n",
       "  <thead>\n",
       "    <tr style=\"text-align: right;\">\n",
       "      <th></th>\n",
       "      <th>gender</th>\n",
       "      <th>age</th>\n",
       "      <th>income</th>\n",
       "      <th>family_members</th>\n",
       "      <th>insurance_benefits</th>\n",
       "    </tr>\n",
       "  </thead>\n",
       "  <tbody>\n",
       "    <tr>\n",
       "      <th>count</th>\n",
       "      <td>5000.000000</td>\n",
       "      <td>5000.000000</td>\n",
       "      <td>5000.000000</td>\n",
       "      <td>5000.000000</td>\n",
       "      <td>5000.000000</td>\n",
       "    </tr>\n",
       "    <tr>\n",
       "      <th>mean</th>\n",
       "      <td>0.499000</td>\n",
       "      <td>30.952800</td>\n",
       "      <td>39916.360000</td>\n",
       "      <td>1.194200</td>\n",
       "      <td>0.148000</td>\n",
       "    </tr>\n",
       "    <tr>\n",
       "      <th>std</th>\n",
       "      <td>0.500049</td>\n",
       "      <td>8.440807</td>\n",
       "      <td>9900.083569</td>\n",
       "      <td>1.091387</td>\n",
       "      <td>0.463183</td>\n",
       "    </tr>\n",
       "    <tr>\n",
       "      <th>min</th>\n",
       "      <td>0.000000</td>\n",
       "      <td>18.000000</td>\n",
       "      <td>5300.000000</td>\n",
       "      <td>0.000000</td>\n",
       "      <td>0.000000</td>\n",
       "    </tr>\n",
       "    <tr>\n",
       "      <th>25%</th>\n",
       "      <td>0.000000</td>\n",
       "      <td>24.000000</td>\n",
       "      <td>33300.000000</td>\n",
       "      <td>0.000000</td>\n",
       "      <td>0.000000</td>\n",
       "    </tr>\n",
       "    <tr>\n",
       "      <th>50%</th>\n",
       "      <td>0.000000</td>\n",
       "      <td>30.000000</td>\n",
       "      <td>40200.000000</td>\n",
       "      <td>1.000000</td>\n",
       "      <td>0.000000</td>\n",
       "    </tr>\n",
       "    <tr>\n",
       "      <th>75%</th>\n",
       "      <td>1.000000</td>\n",
       "      <td>37.000000</td>\n",
       "      <td>46600.000000</td>\n",
       "      <td>2.000000</td>\n",
       "      <td>0.000000</td>\n",
       "    </tr>\n",
       "    <tr>\n",
       "      <th>max</th>\n",
       "      <td>1.000000</td>\n",
       "      <td>65.000000</td>\n",
       "      <td>79000.000000</td>\n",
       "      <td>6.000000</td>\n",
       "      <td>5.000000</td>\n",
       "    </tr>\n",
       "  </tbody>\n",
       "</table>\n",
       "</div>"
      ],
      "text/plain": [
       "            gender          age        income  family_members  \\\n",
       "count  5000.000000  5000.000000   5000.000000     5000.000000   \n",
       "mean      0.499000    30.952800  39916.360000        1.194200   \n",
       "std       0.500049     8.440807   9900.083569        1.091387   \n",
       "min       0.000000    18.000000   5300.000000        0.000000   \n",
       "25%       0.000000    24.000000  33300.000000        0.000000   \n",
       "50%       0.000000    30.000000  40200.000000        1.000000   \n",
       "75%       1.000000    37.000000  46600.000000        2.000000   \n",
       "max       1.000000    65.000000  79000.000000        6.000000   \n",
       "\n",
       "       insurance_benefits  \n",
       "count         5000.000000  \n",
       "mean             0.148000  \n",
       "std              0.463183  \n",
       "min              0.000000  \n",
       "25%              0.000000  \n",
       "50%              0.000000  \n",
       "75%              0.000000  \n",
       "max              5.000000  "
      ]
     },
     "execution_count": 11,
     "metadata": {},
     "output_type": "execute_result"
    }
   ],
   "source": [
    "df.describe()"
   ]
  },
  {
   "cell_type": "markdown",
   "metadata": {},
   "source": [
    "## EDA"
   ]
  },
  {
   "cell_type": "markdown",
   "metadata": {},
   "source": [
    "* Let's quickly check whether there are certain groups of customers by looking at the pair plot."
   ]
  },
  {
   "cell_type": "code",
   "execution_count": 12,
   "metadata": {},
   "outputs": [
    {
     "data": {
      "image/png": "[encoded data removed]",
      "text/plain": [
       "<Figure size 864x864 with 30 Axes>"
      ]
     },
     "metadata": {
      "needs_background": "light"
     },
     "output_type": "display_data"
    }
   ],
   "source": [
    "g = sns.pairplot(df, kind='hist')\n",
    "g.fig.set_size_inches(12, 12)"
   ]
  },
  {
   "cell_type": "markdown",
   "metadata": {},
   "source": [
    "# Task 1. Similar Customers"
   ]
  },
  {
   "cell_type": "code",
   "execution_count": 13,
   "metadata": {},
   "outputs": [],
   "source": [
    "feature_names = ['gender', 'age', 'income', 'family_members']"
   ]
  },
  {
   "cell_type": "code",
   "execution_count": 14,
   "metadata": {},
   "outputs": [],
   "source": [
    "def get_knn(df, n, k, metric):\n",
    "    \n",
    "    \n",
    "    \"\"\"\n",
    "    Returns k nearest neighbors\n",
    "\n",
    "    :param df: pandas DataFrame used to find similar objects within\n",
    "    :param n: object no for which the nearest neighbours are looked for\n",
    "    :param k: the number of the nearest neighbours to return\n",
    "    :param metric: name of distance metric\n",
    "    \"\"\"\n",
    "\n",
    "    nbrs = NearestNeighbors(n_neighbors=k, algorithm='brute', metric=metric)\n",
    "    nbrs.fit(df[feature_names])\n",
    "    nbrs_distances, nbrs_indices = nbrs.kneighbors([df.iloc[n][feature_names]], k, return_distance=True)\n",
    "    df_res = pd.concat([\n",
    "        df.iloc[nbrs_indices[0]], \n",
    "        pd.DataFrame(nbrs_distances.T, index=nbrs_indices[0], columns=['distance'])\n",
    "        ], axis=1)\n",
    "    \n",
    "    return df_res"
   ]
  },
  {
   "cell_type": "code",
   "execution_count": 15,
   "metadata": {
    "scrolled": true
   },
   "outputs": [
    {
     "name": "stdout",
     "output_type": "stream",
     "text": [
      "      gender  age   income  family_members  insurance_benefits  distance\n",
      "50         1   28  39600.0               0                   0       0.0\n",
      "3766       1   29  39600.0               0                   0       1.0\n",
      "1547       0   21  39600.0               0                   0       8.0\n",
      "270        1   36  39600.0               0                   0       8.0\n",
      "3313       0   19  39600.0               0                   0      10.0\n"
     ]
    },
    {
     "name": "stderr",
     "output_type": "stream",
     "text": [
      "/opt/conda/lib/python3.9/site-packages/sklearn/base.py:450: UserWarning: X does not have valid feature names, but NearestNeighbors was fitted with feature names\n",
      "  warnings.warn(\n"
     ]
    }
   ],
   "source": [
    "print(get_knn(df, 50, 5, 'manhattan'))"
   ]
  },
  {
   "cell_type": "code",
   "execution_count": 16,
   "metadata": {},
   "outputs": [
    {
     "name": "stdout",
     "output_type": "stream",
     "text": [
      "      gender  age   income  family_members  insurance_benefits  distance\n",
      "50         1   28  39600.0               0                   0  0.000000\n",
      "3766       1   29  39600.0               0                   0  1.000000\n",
      "1547       0   21  39600.0               0                   0  7.071068\n",
      "2930       0   21  39600.0               3                   0  7.681146\n",
      "270        1   36  39600.0               0                   0  8.000000\n"
     ]
    },
    {
     "name": "stderr",
     "output_type": "stream",
     "text": [
      "/opt/conda/lib/python3.9/site-packages/sklearn/base.py:450: UserWarning: X does not have valid feature names, but NearestNeighbors was fitted with feature names\n",
      "  warnings.warn(\n"
     ]
    }
   ],
   "source": [
    "print(get_knn(df, 50, 5, 'euclidean'))"
   ]
  },
  {
   "cell_type": "markdown",
   "metadata": {},
   "source": [
    "* Scaling the data."
   ]
  },
  {
   "cell_type": "code",
   "execution_count": 17,
   "metadata": {},
   "outputs": [],
   "source": [
    "feature_names = ['gender', 'age', 'income', 'family_members']\n",
    "\n",
    "transformer_mas = sklearn.preprocessing.MaxAbsScaler().fit(df[feature_names].to_numpy())\n",
    "\n",
    "df_scaled = df.copy()\n",
    "df_scaled.loc[:, feature_names] = transformer_mas.transform(df[feature_names].to_numpy())"
   ]
  },
  {
   "cell_type": "code",
   "execution_count": 18,
   "metadata": {},
   "outputs": [
    {
     "data": {
      "text/html": [
       "<div>\n",
       "<style scoped>\n",
       "    .dataframe tbody tr th:only-of-type {\n",
       "        vertical-align: middle;\n",
       "    }\n",
       "\n",
       "    .dataframe tbody tr th {\n",
       "        vertical-align: top;\n",
       "    }\n",
       "\n",
       "    .dataframe thead th {\n",
       "        text-align: right;\n",
       "    }\n",
       "</style>\n",
       "<table border=\"1\" class=\"dataframe\">\n",
       "  <thead>\n",
       "    <tr style=\"text-align: right;\">\n",
       "      <th></th>\n",
       "      <th>gender</th>\n",
       "      <th>age</th>\n",
       "      <th>income</th>\n",
       "      <th>family_members</th>\n",
       "      <th>insurance_benefits</th>\n",
       "    </tr>\n",
       "  </thead>\n",
       "  <tbody>\n",
       "    <tr>\n",
       "      <th>1430</th>\n",
       "      <td>0.0</td>\n",
       "      <td>0.461538</td>\n",
       "      <td>0.568354</td>\n",
       "      <td>0.333333</td>\n",
       "      <td>0</td>\n",
       "    </tr>\n",
       "    <tr>\n",
       "      <th>85</th>\n",
       "      <td>0.0</td>\n",
       "      <td>0.384615</td>\n",
       "      <td>0.600000</td>\n",
       "      <td>0.333333</td>\n",
       "      <td>0</td>\n",
       "    </tr>\n",
       "    <tr>\n",
       "      <th>2513</th>\n",
       "      <td>0.0</td>\n",
       "      <td>0.476923</td>\n",
       "      <td>0.426582</td>\n",
       "      <td>0.500000</td>\n",
       "      <td>0</td>\n",
       "    </tr>\n",
       "    <tr>\n",
       "      <th>1196</th>\n",
       "      <td>0.0</td>\n",
       "      <td>0.369231</td>\n",
       "      <td>0.577215</td>\n",
       "      <td>0.000000</td>\n",
       "      <td>0</td>\n",
       "    </tr>\n",
       "    <tr>\n",
       "      <th>2382</th>\n",
       "      <td>0.0</td>\n",
       "      <td>0.323077</td>\n",
       "      <td>0.469620</td>\n",
       "      <td>0.166667</td>\n",
       "      <td>0</td>\n",
       "    </tr>\n",
       "  </tbody>\n",
       "</table>\n",
       "</div>"
      ],
      "text/plain": [
       "      gender       age    income  family_members  insurance_benefits\n",
       "1430     0.0  0.461538  0.568354        0.333333                   0\n",
       "85       0.0  0.384615  0.600000        0.333333                   0\n",
       "2513     0.0  0.476923  0.426582        0.500000                   0\n",
       "1196     0.0  0.369231  0.577215        0.000000                   0\n",
       "2382     0.0  0.323077  0.469620        0.166667                   0"
      ]
     },
     "execution_count": 18,
     "metadata": {},
     "output_type": "execute_result"
    }
   ],
   "source": [
    "df_scaled.sample(5)"
   ]
  },
  {
   "cell_type": "markdown",
   "metadata": {},
   "source": [
    "* Now, let's get similar records for a given one for every combination"
   ]
  },
  {
   "cell_type": "code",
   "execution_count": 19,
   "metadata": {},
   "outputs": [
    {
     "name": "stdout",
     "output_type": "stream",
     "text": [
      "      gender       age    income  family_members  insurance_benefits  distance\n",
      "50       1.0  0.430769  0.501266             0.0                   0  0.000000\n",
      "955      1.0  0.430769  0.502532             0.0                   0  0.001266\n",
      "946      1.0  0.430769  0.500000             0.0                   0  0.001266\n",
      "4898     1.0  0.430769  0.503797             0.0                   0  0.002532\n",
      "116      1.0  0.430769  0.487342             0.0                   0  0.013924\n"
     ]
    },
    {
     "name": "stderr",
     "output_type": "stream",
     "text": [
      "/opt/conda/lib/python3.9/site-packages/sklearn/base.py:450: UserWarning: X does not have valid feature names, but NearestNeighbors was fitted with feature names\n",
      "  warnings.warn(\n"
     ]
    }
   ],
   "source": [
    "print(get_knn(df_scaled, 50, 5, 'manhattan'))"
   ]
  },
  {
   "cell_type": "code",
   "execution_count": 20,
   "metadata": {},
   "outputs": [
    {
     "name": "stdout",
     "output_type": "stream",
     "text": [
      "      gender       age    income  family_members  insurance_benefits  distance\n",
      "50       1.0  0.430769  0.501266             0.0                   0  0.000000\n",
      "946      1.0  0.430769  0.500000             0.0                   0  0.001266\n",
      "955      1.0  0.430769  0.502532             0.0                   0  0.001266\n",
      "4898     1.0  0.430769  0.503797             0.0                   0  0.002532\n",
      "116      1.0  0.430769  0.487342             0.0                   0  0.013924\n"
     ]
    },
    {
     "name": "stderr",
     "output_type": "stream",
     "text": [
      "/opt/conda/lib/python3.9/site-packages/sklearn/base.py:450: UserWarning: X does not have valid feature names, but NearestNeighbors was fitted with feature names\n",
      "  warnings.warn(\n"
     ]
    }
   ],
   "source": [
    "print(get_knn(df_scaled, 50, 5, 'euclidean'))"
   ]
  },
  {
   "cell_type": "markdown",
   "metadata": {},
   "source": [
    "\n",
    "\n",
    "Scaling the data affects the outcome kNN algorithim significantly. When we ran the unscaled features through the algorithm, it result in rather large distances as compared to the scaled data, in which all the distance outcomes resulted in much smaller values (between 0 and 1)"
   ]
  },
  {
   "cell_type": "markdown",
   "metadata": {},
   "source": [
    "\n",
    "\n",
    "The Manhattan distance metric differs quite a bit when we compare the scaled data with the the unscaled data."
   ]
  },
  {
   "cell_type": "markdown",
   "metadata": {},
   "source": [
    "# Task 2. Is Customer Likely to Receive Insurance Benefit?"
   ]
  },
  {
   "cell_type": "markdown",
   "metadata": {},
   "source": [
    "* In terms of machine learning we can look at this like a binary classification task."
   ]
  },
  {
   "cell_type": "markdown",
   "metadata": {},
   "source": [
    "With `insurance_benefits` being more than zero as the target, evaluate whether the kNN classification approach can do better than a dummy model.\n",
    "\n",
    "Instructions:\n",
    "- Build a KNN-based classifier and measure its quality with the F1 metric for k=1..10 for both the original data and the scaled one. That'd be interesting to see how k may influece the evaluation metric, and whether scaling the data makes any difference. You can use a ready implemention of the kNN classification algorithm from scikit-learn (check [the link](https://scikit-learn.org/stable/modules/generated/sklearn.neighbors.KNeighborsClassifier.html)) or use your own.\n",
    "- Build the dummy model which is just random for this case. It should return \"1\" with some probability. Let's test the model with four probability values: 0, the probability of paying any insurance benefit, 0.5, 1.\n",
    "\n",
    "The probability of paying any insurance benefit can be defined as\n",
    "\n",
    "$$\n",
    "P\\{\\text{insurance benefit received}\\}=\\frac{\\text{number of clients received any insurance benefit}}{\\text{total number of clients}}.\n",
    "$$\n",
    "\n",
    "Split the whole data in the 70:30 proportion for the training/testing parts."
   ]
  },
  {
   "cell_type": "code",
   "execution_count": 21,
   "metadata": {},
   "outputs": [
    {
     "data": {
      "text/plain": [
       "0       0\n",
       "1       1\n",
       "2       0\n",
       "3       0\n",
       "4       0\n",
       "       ..\n",
       "4995    0\n",
       "4996    0\n",
       "4997    0\n",
       "4998    0\n",
       "4999    0\n",
       "Name: insurance_benefits_received, Length: 5000, dtype: int64"
      ]
     },
     "execution_count": 21,
     "metadata": {},
     "output_type": "execute_result"
    }
   ],
   "source": [
    "# calculate the target\n",
    "\n",
    "df['insurance_benefits_received'] = (df['insurance_benefits'] > 0).astype('int')\n",
    "df['insurance_benefits_received']"
   ]
  },
  {
   "cell_type": "code",
   "execution_count": 22,
   "metadata": {},
   "outputs": [
    {
     "data": {
      "text/plain": [
       "0    4436\n",
       "1     564\n",
       "Name: insurance_benefits_received, dtype: int64"
      ]
     },
     "execution_count": 22,
     "metadata": {},
     "output_type": "execute_result"
    }
   ],
   "source": [
    "# check for the class imbalance with value_counts()\n",
    "\n",
    "df[\"insurance_benefits_received\"].value_counts()"
   ]
  },
  {
   "cell_type": "markdown",
   "metadata": {},
   "source": [
    "* Class imbalance is quite significant, with there being over 7 times more people who recieved $0 in insurance benefits as compared to those who received an amount greater than 0. \n",
    "* Thus, accuracy metrics alone will not be appropriate to evaluate the model as it will result in a skewed outcome. However, because F1 metrics combine both recall and precision, we can use this to evaluate the model."
   ]
  },
  {
   "cell_type": "code",
   "execution_count": 23,
   "metadata": {},
   "outputs": [],
   "source": [
    "def eval_classifier(y_true, y_pred):\n",
    "    \n",
    "    f1_score = sklearn.metrics.f1_score(y_true, y_pred)\n",
    "    print(f'F1: {f1_score:.2f}')\n",
    "    \n",
    "# if you have an issue with the following line, restart the kernel and run the notebook again\n",
    "    cm = sklearn.metrics.confusion_matrix(y_true, y_pred, normalize='all')\n",
    "    print('Confusion Matrix')\n",
    "    print(cm)\n",
    "# added plot for conf_matrix\n",
    "    plt.figure(figsize=(9,9))\n",
    "    sns.heatmap(cm, annot=True, fmt=\".3f\", linewidths=0.5, square = True, cmap = 'Blues_r');\n",
    "    plt.ylabel('Actual label');\n",
    "    plt.xlabel('Predicted label');\n",
    "    all_sample_title = 'Confusion Matrix' \n",
    "    plt.title(all_sample_title, size = 15);\n",
    "    plt.show()"
   ]
  },
  {
   "cell_type": "code",
   "execution_count": 24,
   "metadata": {},
   "outputs": [],
   "source": [
    "# generating output of a random model\n",
    "\n",
    "def rnd_model_predict(P, size, seed=42):\n",
    "\n",
    "    rng = np.random.default_rng(seed=seed)\n",
    "    return rng.binomial(n=1, p=P, size=size)"
   ]
  },
  {
   "cell_type": "code",
   "execution_count": 25,
   "metadata": {},
   "outputs": [
    {
     "name": "stdout",
     "output_type": "stream",
     "text": [
      "The probability: 0.00\n",
      "F1: 0.00\n",
      "Confusion Matrix\n",
      "[[0.8872 0.    ]\n",
      " [0.1128 0.    ]]\n"
     ]
    },
    {
     "data": {
      "image/png": "[encoded data removed]",
      "text/plain": [
       "<Figure size 648x648 with 2 Axes>"
      ]
     },
     "metadata": {
      "needs_background": "light"
     },
     "output_type": "display_data"
    },
    {
     "name": "stdout",
     "output_type": "stream",
     "text": [
      "\n",
      "The probability: 0.11\n",
      "F1: 0.12\n",
      "Confusion Matrix\n",
      "[[0.7914 0.0958]\n",
      " [0.0994 0.0134]]\n"
     ]
    },
    {
     "data": {
      "image/png": "[encoded data removed]",
      "text/plain": [
       "<Figure size 648x648 with 2 Axes>"
      ]
     },
     "metadata": {
      "needs_background": "light"
     },
     "output_type": "display_data"
    },
    {
     "name": "stdout",
     "output_type": "stream",
     "text": [
      "\n",
      "The probability: 0.50\n",
      "F1: 0.20\n",
      "Confusion Matrix\n",
      "[[0.456  0.4312]\n",
      " [0.053  0.0598]]\n"
     ]
    },
    {
     "data": {
      "image/png": "[encoded data removed]",
      "text/plain": [
       "<Figure size 648x648 with 2 Axes>"
      ]
     },
     "metadata": {
      "needs_background": "light"
     },
     "output_type": "display_data"
    },
    {
     "name": "stdout",
     "output_type": "stream",
     "text": [
      "\n",
      "The probability: 1.00\n",
      "F1: 0.20\n",
      "Confusion Matrix\n",
      "[[0.     0.8872]\n",
      " [0.     0.1128]]\n"
     ]
    },
    {
     "data": {
      "image/png": "[encoded data removed]",
      "text/plain": [
       "<Figure size 648x648 with 2 Axes>"
      ]
     },
     "metadata": {
      "needs_background": "light"
     },
     "output_type": "display_data"
    },
    {
     "name": "stdout",
     "output_type": "stream",
     "text": [
      "\n"
     ]
    }
   ],
   "source": [
    "for P in [0, df['insurance_benefits_received'].sum() / len(df), 0.5, 1]:\n",
    "\n",
    "    print(f'The probability: {P:.2f}')\n",
    "    y_pred_rnd = rnd_model_predict(P, size = len(df), seed=42)\n",
    "        \n",
    "    eval_classifier(df['insurance_benefits_received'], y_pred_rnd)\n",
    "    \n",
    "    print()"
   ]
  },
  {
   "cell_type": "markdown",
   "metadata": {},
   "source": [
    "* The F1 scores for the dummy models are rather low. The highest F1 score is 0.20."
   ]
  },
  {
   "cell_type": "code",
   "execution_count": 26,
   "metadata": {},
   "outputs": [
    {
     "name": "stdout",
     "output_type": "stream",
     "text": [
      "Training: (3500, 4) (3500,)\n",
      "Testing: (1500, 4) (1500,)\n"
     ]
    }
   ],
   "source": [
    "features = df.drop(['insurance_benefits_received', 'insurance_benefits'], axis=1)\n",
    "target = df['insurance_benefits_received']\n",
    "features_train, features_test, target_train, target_test = train_test_split(features, target, test_size = 0.3, random_state=0)\n",
    "print('Training:', features_train.shape, target_train.shape)\n",
    "print('Testing:', features_test.shape, target_test.shape)"
   ]
  },
  {
   "cell_type": "code",
   "execution_count": 27,
   "metadata": {
    "scrolled": true
   },
   "outputs": [
    {
     "name": "stdout",
     "output_type": "stream",
     "text": [
      "\n",
      "Unscaled data used for kNN\n",
      "N_neighbors: 1, F1: 0.61\n",
      "N_neighbors: 2, F1: 0.44\n",
      "N_neighbors: 3, F1: 0.44\n",
      "N_neighbors: 4, F1: 0.20\n",
      "N_neighbors: 5, F1: 0.20\n",
      "N_neighbors: 6, F1: 0.09\n",
      "N_neighbors: 7, F1: 0.16\n",
      "N_neighbors: 8, F1: 0.10\n",
      "N_neighbors: 9, F1: 0.11\n",
      "N_neighbors: 10, F1: 0.00\n",
      "N_neighbors: 11, F1: 0.00\n",
      "N_neighbors: 12, F1: 0.00\n",
      "N_neighbors: 13, F1: 0.01\n",
      "N_neighbors: 14, F1: 0.00\n",
      "N_neighbors: 15, F1: 0.00\n",
      "N_neighbors: 16, F1: 0.00\n",
      "N_neighbors: 17, F1: 0.01\n",
      "N_neighbors: 18, F1: 0.01\n",
      "N_neighbors: 19, F1: 0.01\n"
     ]
    }
   ],
   "source": [
    "print('\\nUnscaled data used for kNN')\n",
    "unscaled_f1 = []\n",
    "for k in range(1,20):\n",
    "    knc = sklearn.neighbors.KNeighborsClassifier(n_neighbors=k)\n",
    "    knc.fit(features_train, target_train)\n",
    "    knc_pred = knc.predict(features_test)\n",
    "    f1_score = sklearn.metrics.f1_score(target_test, knc_pred)\n",
    "    unscaled_f1.append(f1_score)\n",
    "    print(f'N_neighbors: {k}, F1: {f1_score:.2f}')"
   ]
  },
  {
   "cell_type": "code",
   "execution_count": 28,
   "metadata": {},
   "outputs": [],
   "source": [
    "#Scale features\n",
    "scaler = sklearn.preprocessing.MaxAbsScaler()\n",
    "scaler.fit(features_train) # fit to training data\n",
    "features_train_scaled = scaler.transform(features_train)\n",
    "features_test_scaled = scaler.transform(features_test)"
   ]
  },
  {
   "cell_type": "code",
   "execution_count": 29,
   "metadata": {},
   "outputs": [
    {
     "name": "stdout",
     "output_type": "stream",
     "text": [
      "\n",
      "Scaled data used for kNN\n",
      "N_neighbors: 1, F1: 0.95\n",
      "N_neighbors: 2, F1: 0.92\n",
      "N_neighbors: 3, F1: 0.94\n",
      "N_neighbors: 4, F1: 0.89\n",
      "N_neighbors: 5, F1: 0.91\n",
      "N_neighbors: 6, F1: 0.89\n",
      "N_neighbors: 7, F1: 0.91\n",
      "N_neighbors: 8, F1: 0.89\n",
      "N_neighbors: 9, F1: 0.91\n",
      "N_neighbors: 10, F1: 0.90\n",
      "N_neighbors: 11, F1: 0.91\n",
      "N_neighbors: 12, F1: 0.89\n",
      "N_neighbors: 13, F1: 0.90\n",
      "N_neighbors: 14, F1: 0.89\n",
      "N_neighbors: 15, F1: 0.90\n",
      "N_neighbors: 16, F1: 0.89\n",
      "N_neighbors: 17, F1: 0.90\n",
      "N_neighbors: 18, F1: 0.89\n",
      "N_neighbors: 19, F1: 0.90\n"
     ]
    }
   ],
   "source": [
    "#K-NeighborsClassifier for k in range 10 + f1_score. Scaled data\n",
    "print('\\nScaled data used for kNN')\n",
    "scaled_f1 = []\n",
    "for k in range(1,20):\n",
    "    knc = sklearn.neighbors.KNeighborsClassifier(n_neighbors=k)\n",
    "    knc.fit(features_train_scaled, target_train)\n",
    "    knc_pred = knc.predict(features_test_scaled)\n",
    "    f1_score = sklearn.metrics.f1_score(target_test, knc_pred)\n",
    "    scaled_f1.append(f1_score)\n",
    "    print(f'N_neighbors: {k}, F1: {f1_score:.2f}')\n"
   ]
  },
  {
   "cell_type": "code",
   "execution_count": 30,
   "metadata": {
    "scrolled": true
   },
   "outputs": [
    {
     "data": {
      "text/html": [
       "<style>#sk-container-id-1 {color: black;background-color: white;}#sk-container-id-1 pre{padding: 0;}#sk-container-id-1 div.sk-toggleable {background-color: white;}#sk-container-id-1 label.sk-toggleable__label {cursor: pointer;display: block;width: 100%;margin-bottom: 0;padding: 0.3em;box-sizing: border-box;text-align: center;}#sk-container-id-1 label.sk-toggleable__label-arrow:before {content: \"▸\";float: left;margin-right: 0.25em;color: #696969;}#sk-container-id-1 label.sk-toggleable__label-arrow:hover:before {color: black;}#sk-container-id-1 div.sk-estimator:hover label.sk-toggleable__label-arrow:before {color: black;}#sk-container-id-1 div.sk-toggleable__content {max-height: 0;max-width: 0;overflow: hidden;text-align: left;background-color: #f0f8ff;}#sk-container-id-1 div.sk-toggleable__content pre {margin: 0.2em;color: black;border-radius: 0.25em;background-color: #f0f8ff;}#sk-container-id-1 input.sk-toggleable__control:checked~div.sk-toggleable__content {max-height: 200px;max-width: 100%;overflow: auto;}#sk-container-id-1 input.sk-toggleable__control:checked~label.sk-toggleable__label-arrow:before {content: \"▾\";}#sk-container-id-1 div.sk-estimator input.sk-toggleable__control:checked~label.sk-toggleable__label {background-color: #d4ebff;}#sk-container-id-1 div.sk-label input.sk-toggleable__control:checked~label.sk-toggleable__label {background-color: #d4ebff;}#sk-container-id-1 input.sk-hidden--visually {border: 0;clip: rect(1px 1px 1px 1px);clip: rect(1px, 1px, 1px, 1px);height: 1px;margin: -1px;overflow: hidden;padding: 0;position: absolute;width: 1px;}#sk-container-id-1 div.sk-estimator {font-family: monospace;background-color: #f0f8ff;border: 1px dotted black;border-radius: 0.25em;box-sizing: border-box;margin-bottom: 0.5em;}#sk-container-id-1 div.sk-estimator:hover {background-color: #d4ebff;}#sk-container-id-1 div.sk-parallel-item::after {content: \"\";width: 100%;border-bottom: 1px solid gray;flex-grow: 1;}#sk-container-id-1 div.sk-label:hover label.sk-toggleable__label {background-color: #d4ebff;}#sk-container-id-1 div.sk-serial::before {content: \"\";position: absolute;border-left: 1px solid gray;box-sizing: border-box;top: 0;bottom: 0;left: 50%;z-index: 0;}#sk-container-id-1 div.sk-serial {display: flex;flex-direction: column;align-items: center;background-color: white;padding-right: 0.2em;padding-left: 0.2em;position: relative;}#sk-container-id-1 div.sk-item {position: relative;z-index: 1;}#sk-container-id-1 div.sk-parallel {display: flex;align-items: stretch;justify-content: center;background-color: white;position: relative;}#sk-container-id-1 div.sk-item::before, #sk-container-id-1 div.sk-parallel-item::before {content: \"\";position: absolute;border-left: 1px solid gray;box-sizing: border-box;top: 0;bottom: 0;left: 50%;z-index: -1;}#sk-container-id-1 div.sk-parallel-item {display: flex;flex-direction: column;z-index: 1;position: relative;background-color: white;}#sk-container-id-1 div.sk-parallel-item:first-child::after {align-self: flex-end;width: 50%;}#sk-container-id-1 div.sk-parallel-item:last-child::after {align-self: flex-start;width: 50%;}#sk-container-id-1 div.sk-parallel-item:only-child::after {width: 0;}#sk-container-id-1 div.sk-dashed-wrapped {border: 1px dashed gray;margin: 0 0.4em 0.5em 0.4em;box-sizing: border-box;padding-bottom: 0.4em;background-color: white;}#sk-container-id-1 div.sk-label label {font-family: monospace;font-weight: bold;display: inline-block;line-height: 1.2em;}#sk-container-id-1 div.sk-label-container {text-align: center;}#sk-container-id-1 div.sk-container {/* jupyter's `normalize.less` sets `[hidden] { display: none; }` but bootstrap.min.css set `[hidden] { display: none !important; }` so we also need the `!important` here to be able to override the default hidden behavior on the sphinx rendered scikit-learn.org. See: https://github.com/scikit-learn/scikit-learn/issues/21755 */display: inline-block !important;position: relative;}#sk-container-id-1 div.sk-text-repr-fallback {display: none;}</style><div id=\"sk-container-id-1\" class=\"sk-top-container\"><div class=\"sk-text-repr-fallback\"><pre>KNeighborsClassifier()</pre><b>In a Jupyter environment, please rerun this cell to show the HTML representation or trust the notebook. <br />On GitHub, the HTML representation is unable to render, please try loading this page with nbviewer.org.</b></div><div class=\"sk-container\" hidden><div class=\"sk-item\"><div class=\"sk-estimator sk-toggleable\"><input class=\"sk-toggleable__control sk-hidden--visually\" id=\"sk-estimator-id-1\" type=\"checkbox\" checked><label for=\"sk-estimator-id-1\" class=\"sk-toggleable__label sk-toggleable__label-arrow\">KNeighborsClassifier</label><div class=\"sk-toggleable__content\"><pre>KNeighborsClassifier()</pre></div></div></div></div></div>"
      ],
      "text/plain": [
       "KNeighborsClassifier()"
      ]
     },
     "execution_count": 30,
     "metadata": {},
     "output_type": "execute_result"
    }
   ],
   "source": [
    "knn = KNeighborsClassifier(n_neighbors = 5)\n",
    "knn.fit(features_train, target_train)"
   ]
  },
  {
   "cell_type": "code",
   "execution_count": 31,
   "metadata": {},
   "outputs": [
    {
     "name": "stdout",
     "output_type": "stream",
     "text": [
      "F1: 0.20\n",
      "Confusion Matrix\n",
      "[[0.888      0.00933333]\n",
      " [0.09       0.01266667]]\n"
     ]
    },
    {
     "data": {
      "image/png": "[encoded data removed]",
      "text/plain": [
       "<Figure size 648x648 with 2 Axes>"
      ]
     },
     "metadata": {
      "needs_background": "light"
     },
     "output_type": "display_data"
    }
   ],
   "source": [
    "eval_classifier(target_test, knn.predict(features_test))"
   ]
  },
  {
   "cell_type": "markdown",
   "metadata": {},
   "source": [
    "* The  model using unscaled data generates an F1 score of 0.20, which is pretty low."
   ]
  },
  {
   "cell_type": "markdown",
   "metadata": {},
   "source": [
    "# Task 3. Regression (with Linear Regression)"
   ]
  },
  {
   "cell_type": "markdown",
   "metadata": {},
   "source": [
    "With `insurance_benefits` as the target, evaluate what RMSE would be for a Linear Regression model."
   ]
  },
  {
   "cell_type": "markdown",
   "metadata": {},
   "source": [
    "Build your own implementation of LR. For that, recall how the linear regression task's solution is formulated in terms of LA. Check RMSE for both the original data and the scaled one. Can you see any difference in RMSE between these two cases?\n",
    "\n",
    "Let's denote\n",
    "- $X$ — feature matrix, each row is a case, each column is a feature, the first column consists of unities\n",
    "- $y$ — target (a vector)\n",
    "- $\\hat{y}$ — estimated tagret (a vector)\n",
    "- $w$ — weight vector\n",
    "\n",
    "The task of linear regression in the language of matrices can be formulated as\n",
    "\n",
    "$$\n",
    "y = Xw\n",
    "$$\n",
    "\n",
    "The training objective then is to find such $w$ that it would minimize the L2-distance (MSE) between $Xw$ and $y$:\n",
    "\n",
    "$$\n",
    "\\min_w d_2(Xw, y) \\quad \\text{or} \\quad \\min_w \\text{MSE}(Xw, y)\n",
    "$$\n",
    "\n",
    "It appears that there is analytical solution for the above:\n",
    "\n",
    "$$\n",
    "w = (X^T X)^{-1} X^T y\n",
    "$$\n",
    "\n",
    "The formula above can be used to find the weights $w$ and the latter can be used to calculate predicted values\n",
    "\n",
    "$$\n",
    "\\hat{y} = X_{val}w\n",
    "$$"
   ]
  },
  {
   "cell_type": "markdown",
   "metadata": {},
   "source": [
    "Split the whole data in the 70:30 proportion for the training/validation parts. Use the RMSE metric for the model evaluation."
   ]
  },
  {
   "cell_type": "code",
   "execution_count": 32,
   "metadata": {},
   "outputs": [],
   "source": [
    "class MyLinearRegression:\n",
    "    \n",
    "    def __init__(self):\n",
    "        \n",
    "        self.weights = None\n",
    "    \n",
    "    def fit(self, X, y):\n",
    "        \n",
    "        # adding the unities\n",
    "        X2 = np.append(np.ones([len(X), 1]), X, axis=1)\n",
    "        self.weights = np.linalg.inv(X2.T @ X2) @ X2.T @ y\n",
    "\n",
    "    def predict(self, X):\n",
    "        \n",
    "        # adding the unities\n",
    "        X2 = np.append(np.ones([len(X), 1]), X, axis=1)\n",
    "        y_pred = X2.dot(self.weights)\n",
    "        \n",
    "        return y_pred"
   ]
  },
  {
   "cell_type": "code",
   "execution_count": 33,
   "metadata": {},
   "outputs": [],
   "source": [
    "def eval_regressor(y_true, y_pred):\n",
    "    \n",
    "    rmse = math.sqrt(sklearn.metrics.mean_squared_error(y_true, y_pred))\n",
    "    print(f'RMSE: {rmse:.2f}')\n",
    "    \n",
    "    r2_score = math.sqrt(sklearn.metrics.r2_score(y_true, y_pred))\n",
    "    print(f'R2: {r2_score:.2f}')    "
   ]
  },
  {
   "cell_type": "code",
   "execution_count": 34,
   "metadata": {},
   "outputs": [
    {
     "name": "stdout",
     "output_type": "stream",
     "text": [
      "[-9.43539012e-01  3.57495491e-02  1.64272726e-02 -2.60743659e-07\n",
      " -1.16902127e-02]\n",
      "RMSE: 0.34\n",
      "R2: 0.66\n"
     ]
    }
   ],
   "source": [
    "#LR for Scaled data\n",
    "X = df[['age', 'gender', 'income', 'family_members']].to_numpy()\n",
    "y = df['insurance_benefits'].to_numpy()\n",
    "\n",
    "X_train, X_test, y_train, y_test = train_test_split(X, y, test_size=0.3, random_state=12345)\n",
    "\n",
    "lr = MyLinearRegression()\n",
    "\n",
    "lr.fit(X_train, y_train)\n",
    "print(lr.weights)\n",
    "\n",
    "y_test_pred = lr.predict(X_test)\n",
    "eval_regressor(y_test, y_test_pred)"
   ]
  },
  {
   "cell_type": "code",
   "execution_count": 35,
   "metadata": {
    "scrolled": true
   },
   "outputs": [
    {
     "name": "stdout",
     "output_type": "stream",
     "text": [
      "Results with scaled data\n",
      "\n",
      "Linear Regression weights:\n",
      " [-9.65464676e-01  2.36997150e+00  6.34628613e-03  7.22175049e-04\n",
      " -7.83293864e-02]\n",
      "RMSE: 0.34\n",
      "R2: 0.65\n"
     ]
    }
   ],
   "source": [
    "print('Results with scaled data\\n')\n",
    "\n",
    "X = df_scaled[['age', 'gender', 'income', 'family_members']].to_numpy()\n",
    "y = df_scaled['insurance_benefits'].to_numpy()\n",
    "\n",
    "X_train, X_test, y_train, y_test = train_test_split(X, y, test_size=0.3, stratify = df['insurance_benefits_received'], random_state=12345)\n",
    "\n",
    "lr = MyLinearRegression()\n",
    "\n",
    "lr.fit(X_train, y_train)\n",
    "print('Linear Regression weights:\\n', lr.weights)\n",
    "\n",
    "y_test_pred = lr.predict(X_test)\n",
    "eval_regressor(y_test, y_test_pred)"
   ]
  },
  {
   "cell_type": "markdown",
   "metadata": {},
   "source": [
    "* As we can see in the above results, both the scaled data and uncaled data produce the same outcome in this LR model. The RMSE percentage ends up being 34%, which demonstrates a higher percentage of error produced by the model. The R2 percentage of 66% indicates a medium-poor fit on a 0-100 scale."
   ]
  },
  {
   "cell_type": "markdown",
   "metadata": {},
   "source": [
    "<div class=\"alert alert-success\">\n",
    "<b>Reviewer's comment</b>\n",
    "\n",
    "Yep! Note that scaling can be useful for linear regression in different circumstances, for example if we apply L1/L2 regularization or train the model using stochastic gradient descent\n",
    "\n",
    "</div>"
   ]
  },
  {
   "cell_type": "markdown",
   "metadata": {},
   "source": [
    "# Task 4. Obfuscating Data"
   ]
  },
  {
   "cell_type": "markdown",
   "metadata": {},
   "source": [
    "It best to obfuscate data by multiplying the numerical features (remember, they can be seen as the matrix $X$) by an invertible matrix $P$. \n",
    "\n",
    "$$\n",
    "X' = X \\times P\n",
    "$$\n",
    "\n",
    "Try to do that and check how the features' values will look like after the transformation. By the way, the intertible property is important here so make sure that $P$ is indeed invertible.\n",
    "\n",
    "You may want to review the 'Matrices and Matrix Operations -> Matrix Multiplication' lesson to recall the rule of matrix multiplication and its implementation with NumPy."
   ]
  },
  {
   "cell_type": "code",
   "execution_count": 36,
   "metadata": {},
   "outputs": [],
   "source": [
    "personal_info_column_list = ['gender', 'age', 'income', 'family_members']\n",
    "df_pn = df[personal_info_column_list]"
   ]
  },
  {
   "cell_type": "code",
   "execution_count": 37,
   "metadata": {},
   "outputs": [
    {
     "data": {
      "text/plain": [
       "array([[1.00e+00, 4.10e+01, 4.96e+04, 1.00e+00],\n",
       "       [0.00e+00, 4.60e+01, 3.80e+04, 1.00e+00],\n",
       "       [0.00e+00, 2.90e+01, 2.10e+04, 0.00e+00],\n",
       "       ...,\n",
       "       [0.00e+00, 2.00e+01, 3.39e+04, 2.00e+00],\n",
       "       [1.00e+00, 2.20e+01, 3.27e+04, 3.00e+00],\n",
       "       [1.00e+00, 2.80e+01, 4.06e+04, 1.00e+00]])"
      ]
     },
     "execution_count": 37,
     "metadata": {},
     "output_type": "execute_result"
    }
   ],
   "source": [
    "X = df_pn.to_numpy()\n",
    "X"
   ]
  },
  {
   "cell_type": "markdown",
   "metadata": {},
   "source": [
    "Generating a random matrix $P$."
   ]
  },
  {
   "cell_type": "code",
   "execution_count": 38,
   "metadata": {},
   "outputs": [],
   "source": [
    "rng = np.random.default_rng(seed=42)\n",
    "P = rng.random(size=(X.shape[1], X.shape[1]))"
   ]
  },
  {
   "cell_type": "markdown",
   "metadata": {},
   "source": [
    "Checking the matrix $P$ is invertible"
   ]
  },
  {
   "cell_type": "code",
   "execution_count": 39,
   "metadata": {
    "scrolled": true
   },
   "outputs": [],
   "source": [
    "P_inv=np.linalg.inv(P)"
   ]
  },
  {
   "cell_type": "code",
   "execution_count": 40,
   "metadata": {},
   "outputs": [
    {
     "data": {
      "text/plain": [
       "0.24339135998015463"
      ]
     },
     "execution_count": 40,
     "metadata": {},
     "output_type": "execute_result"
    }
   ],
   "source": [
    "np.linalg.det(P)"
   ]
  },
  {
   "cell_type": "markdown",
   "metadata": {},
   "source": [
    "* P is invertible "
   ]
  },
  {
   "cell_type": "code",
   "execution_count": 41,
   "metadata": {},
   "outputs": [],
   "source": [
    "X_not=X.dot(P)\n",
    "X_rev=X_not.dot(P_inv)"
   ]
  },
  {
   "cell_type": "code",
   "execution_count": 42,
   "metadata": {},
   "outputs": [
    {
     "data": {
      "text/plain": [
       "array([[ 6359.71527314, 22380.40467609, 18424.09074184, 46000.69669016],\n",
       "       [ 4873.29406479, 17160.36702982, 14125.78076133, 35253.45577301],\n",
       "       [ 2693.11742928,  9486.397744  ,  7808.83156024, 19484.86063067],\n",
       "       ...,\n",
       "       [ 4346.2234249 , 15289.24126492, 12586.16264392, 31433.50888552],\n",
       "       [ 4194.09324155, 14751.9910242 , 12144.02930637, 30323.88763426],\n",
       "       [ 5205.46827354, 18314.24814446, 15077.01370762, 37649.59295455]])"
      ]
     },
     "execution_count": 42,
     "metadata": {},
     "output_type": "execute_result"
    }
   ],
   "source": [
    "#obfuscated data\n",
    "X_not"
   ]
  },
  {
   "cell_type": "markdown",
   "metadata": {},
   "source": [
    "* Yes, we would be able to use the data above (X_not) to guess ages/incomes of the customers."
   ]
  },
  {
   "cell_type": "markdown",
   "metadata": {},
   "source": [
    "Can you recover the original data from $X'$ if you know $P$? Try to check that with calculations by moving $P$ from the right side of the formula above to the left one. The rules of matrix multiplcation are really helpful here."
   ]
  },
  {
   "cell_type": "code",
   "execution_count": 43,
   "metadata": {},
   "outputs": [
    {
     "data": {
      "text/plain": [
       "array([[ 1.00000000e+00,  4.10000000e+01,  4.96000000e+04,\n",
       "         1.00000000e+00],\n",
       "       [ 1.67952800e-12,  4.60000000e+01,  3.80000000e+04,\n",
       "         1.00000000e+00],\n",
       "       [-6.23021448e-13,  2.90000000e+01,  2.10000000e+04,\n",
       "        -2.03032656e-13],\n",
       "       ...,\n",
       "       [ 1.57996161e-12,  2.00000000e+01,  3.39000000e+04,\n",
       "         2.00000000e+00],\n",
       "       [ 1.00000000e+00,  2.20000000e+01,  3.27000000e+04,\n",
       "         3.00000000e+00],\n",
       "       [ 1.00000000e+00,  2.80000000e+01,  4.06000000e+04,\n",
       "         1.00000000e+00]])"
      ]
     },
     "execution_count": 43,
     "metadata": {},
     "output_type": "execute_result"
    }
   ],
   "source": [
    "X_not=X.dot(P)\n",
    "X_rev=X_not.dot(P_inv)\n",
    "X_rev"
   ]
  },
  {
   "cell_type": "markdown",
   "metadata": {},
   "source": [
    "Print all three cases for a few customers\n",
    "- The original data\n",
    "- The transformed one\n",
    "- The reversed (recovered) one"
   ]
  },
  {
   "cell_type": "code",
   "execution_count": 44,
   "metadata": {},
   "outputs": [
    {
     "name": "stdout",
     "output_type": "stream",
     "text": [
      "        0     1        2    3\n",
      "0     1.0  41.0  49600.0  1.0\n",
      "1     0.0  46.0  38000.0  1.0\n",
      "2     0.0  29.0  21000.0  0.0\n",
      "3     0.0  21.0  41700.0  2.0\n",
      "4     1.0  28.0  26100.0  0.0\n",
      "...   ...   ...      ...  ...\n",
      "4995  0.0  28.0  35700.0  2.0\n",
      "4996  0.0  34.0  52400.0  1.0\n",
      "4997  0.0  20.0  33900.0  2.0\n",
      "4998  1.0  22.0  32700.0  3.0\n",
      "4999  1.0  28.0  40600.0  1.0\n",
      "\n",
      "[5000 rows x 4 columns]\n",
      "                0             1             2             3\n",
      "0     6359.715273  22380.404676  18424.090742  46000.696690\n",
      "1     4873.294065  17160.367030  14125.780761  35253.455773\n",
      "2     2693.117429   9486.397744   7808.831560  19484.860631\n",
      "3     5345.603937  18803.227203  15479.148373  38663.061863\n",
      "4     3347.176735  11782.829283   9699.998942  24211.273378\n",
      "...           ...           ...           ...           ...\n",
      "4995  4577.581382  16107.740932  13259.688205  33107.974380\n",
      "4996  6717.000247  23634.217067  19456.138634  48589.438841\n",
      "4997  4346.223425  15289.241265  12586.162644  31433.508886\n",
      "4998  4194.093242  14751.991024  12144.029306  30323.887634\n",
      "4999  5205.468274  18314.248144  15077.013708  37649.592955\n",
      "\n",
      "[5000 rows x 4 columns]\n",
      "                 0     1        2             3\n",
      "0     1.000000e+00  41.0  49600.0  1.000000e+00\n",
      "1     1.679528e-12  46.0  38000.0  1.000000e+00\n",
      "2    -6.230214e-13  29.0  21000.0 -2.030327e-13\n",
      "3    -1.089078e-12  21.0  41700.0  2.000000e+00\n",
      "4     1.000000e+00  28.0  26100.0 -1.524242e-12\n",
      "...            ...   ...      ...           ...\n",
      "4995  1.111239e-12  28.0  35700.0  2.000000e+00\n",
      "4996 -1.675388e-12  34.0  52400.0  1.000000e+00\n",
      "4997  1.579962e-12  20.0  33900.0  2.000000e+00\n",
      "4998  1.000000e+00  22.0  32700.0  3.000000e+00\n",
      "4999  1.000000e+00  28.0  40600.0  1.000000e+00\n",
      "\n",
      "[5000 rows x 4 columns]\n"
     ]
    }
   ],
   "source": [
    "print(pd.DataFrame(X))\n",
    "print(pd.DataFrame(X_not))\n",
    "print(pd.DataFrame(X_rev))"
   ]
  },
  {
   "cell_type": "markdown",
   "metadata": {},
   "source": [
    "*Marginal differences can be observed between the original data and the reverted data most likely due to mathematical float rounding using .dot() function."
   ]
  },
  {
   "cell_type": "markdown",
   "metadata": {},
   "source": [
    "## Proof That Data Obfuscation Can Work with LR"
   ]
  },
  {
   "cell_type": "markdown",
   "metadata": {},
   "source": [
    "The regression task has been solved with linear regression in this project. Your next task is to prove _analytically_ that the given obfuscation method won't affect linear regression in terms of predicted values i.e. their values will remain the same. Can you believe that? Well, you don't have to, you should prove it!"
   ]
  },
  {
   "cell_type": "markdown",
   "metadata": {},
   "source": [
    "So, the data is obfuscated and there is $X \\times P$ instead of just $X$ now. Consequently, there are other weights $w_P$ as\n",
    "$$\n",
    "w = (X^T X)^{-1} X^T y \\quad \\Rightarrow \\quad w_P = [(XP)^T XP]^{-1} (XP)^T y\n",
    "$$\n",
    "\n",
    "How would $w$ and $w_P$ be linked if you simplify the formula for $w_P$ above? \n",
    "\n",
    "What would be predicted values with $w_P$? \n",
    "\n",
    "What does that mean for the quality of linear regression if you measure it with RMSE?\n",
    "\n",
    "Check Appendix B Properties of Matrices in the end of the notebook. There are useful formulas in there!\n",
    "\n",
    "No code is necessary in this section, only analytical explanation!"
   ]
  },
  {
   "cell_type": "markdown",
   "metadata": {},
   "source": [
    "(1)The inverse of matrix P links 𝑤 and 𝑤𝑃 as we see in the formula 𝑤𝑃= [P]-1𝑤. \n",
    "(2)The predicted values with 𝑤𝑃 will be P-1 multiplied by w. (wp=P-1w)\n",
    "(3)The RMSE measure should be the same with the obfuscated data as it would with the original data.\n"
   ]
  },
  {
   "cell_type": "markdown",
   "metadata": {},
   "source": [
    "**Analytical proof**"
   ]
  },
  {
   "attachments": {
    "image.png": {
     "image/png": "[encoded data removed]"
    }
   },
   "cell_type": "markdown",
   "metadata": {},
   "source": [
    "![image.png](attachment:image.png)"
   ]
  },
  {
   "cell_type": "markdown",
   "metadata": {},
   "source": [
    "After this, we note tht the order must now be reversed when applying inversion:"
   ]
  },
  {
   "attachments": {
    "image.png": {
     "image/png": "[encoded data removed]"
    }
   },
   "cell_type": "markdown",
   "metadata": {},
   "source": [
    "![image.png](attachment:image.png)"
   ]
  },
  {
   "cell_type": "markdown",
   "metadata": {},
   "source": [
    "Since we know that:"
   ]
  },
  {
   "attachments": {
    "image.png": {
     "image/png": "[encoded data removed]"
    }
   },
   "cell_type": "markdown",
   "metadata": {},
   "source": [
    "![image.png](attachment:image.png)"
   ]
  },
  {
   "cell_type": "markdown",
   "metadata": {},
   "source": [
    "We end up with:"
   ]
  },
  {
   "attachments": {
    "image.png": {
     "image/png": "[encoded data removed]"
    }
   },
   "cell_type": "markdown",
   "metadata": {},
   "source": [
    "![image.png](attachment:image.png)"
   ]
  },
  {
   "cell_type": "markdown",
   "metadata": {},
   "source": [
    "## Test Linear Regression With Data Obfuscation"
   ]
  },
  {
   "cell_type": "markdown",
   "metadata": {},
   "source": [
    "Now, let's prove Linear Regression can work computationally with the chosen obfuscation transformation.\n",
    "\n",
    "Build a procedure or a class that runs Linear Regression optionally with the obfuscation. You can use either a ready implementation of Linear Regression from sciki-learn or your own.\n",
    "\n",
    "Run Linear Regression for the original data and the obfuscated one, compare the predicted values and the RMSE, $R^2$ metric values. Is there any difference?"
   ]
  },
  {
   "cell_type": "markdown",
   "metadata": {},
   "source": [
    "**Procedure**\n",
    "\n",
    "- Create a square matrix $P$ of random numbers.\n",
    "- Check that it is invertible. If not, repeat the first point until we get an invertible matrix.\n",
    "- <! your comment here !>\n",
    "- Use $XP$ as the new feature matrix"
   ]
  },
  {
   "cell_type": "code",
   "execution_count": 45,
   "metadata": {},
   "outputs": [],
   "source": [
    "class MyLinearRegression2:\n",
    "    \n",
    "    def __init__(self, data):\n",
    "        self.weights = None\n",
    "        self.data = data\n",
    "        \n",
    "    def fit(self, X, y):\n",
    "        # adding the unities\n",
    "        X2 = np.append(np.ones([len(X), 1]), X, axis=1)\n",
    "        weights = np.linalg.inv(X2.T.dot(X2)).dot(X2.T).dot(y)\n",
    "        self.weights = weights[1:]\n",
    "        self.bias = weights[0]\n",
    "\n",
    "    def predict(self, X):\n",
    "        # adding the unities\n",
    "        X2 = np.append(np.ones([len(X), 1]), X, axis=1)\n",
    "        y_pred = X.dot(self.weights) + self.bias\n",
    "        return y_pred"
   ]
  },
  {
   "cell_type": "code",
   "execution_count": 46,
   "metadata": {
    "scrolled": true
   },
   "outputs": [
    {
     "name": "stdout",
     "output_type": "stream",
     "text": [
      "[ 1.64272726e-02  3.57495491e-02 -2.60743659e-07 -1.16902127e-02]\n",
      "RMSE: 0.34\n",
      "R2: 0.66\n"
     ]
    }
   ],
   "source": [
    "X = X\n",
    "y = df['insurance_benefits'].to_numpy()\n",
    "\n",
    "X_train, X_test, y_train, y_test = train_test_split(X, y, test_size=0.3, random_state=12345)\n",
    "\n",
    "lr = MyLinearRegression2(X)\n",
    "\n",
    "lr.fit(X_train, y_train)\n",
    "print(lr.weights)\n",
    "\n",
    "y_test_pred = lr.predict(X_test)\n",
    "eval_regressor(y_test, y_test_pred)"
   ]
  },
  {
   "cell_type": "code",
   "execution_count": 47,
   "metadata": {},
   "outputs": [
    {
     "name": "stdout",
     "output_type": "stream",
     "text": [
      "[-0.05791721 -0.01546571  0.09871894 -0.02397536]\n",
      "RMSE: 0.34\n",
      "R2: 0.66\n"
     ]
    }
   ],
   "source": [
    "X = X_not\n",
    "y = df['insurance_benefits'].to_numpy()\n",
    "\n",
    "X_train, X_test, y_train, y_test = train_test_split(X, y, test_size=0.3, random_state=12345)\n",
    "\n",
    "lr = MyLinearRegression2(X_not)\n",
    "\n",
    "lr.fit(X_train, y_train)\n",
    "print(lr.weights)\n",
    "\n",
    "y_test_pred = lr.predict(X_test)\n",
    "eval_regressor(y_test, y_test_pred)"
   ]
  },
  {
   "cell_type": "markdown",
   "metadata": {},
   "source": [
    "* There is no difference in the quality of the models before transformation as compared to after transformation. The RMSE and R2 values are identical."
   ]
  },
  {
   "cell_type": "markdown",
   "metadata": {},
   "source": [
    "# Conclusions"
   ]
  },
  {
   "cell_type": "markdown",
   "metadata": {},
   "source": [
    "* The data was loaded and inspected. Upon inspection, we found a rather large class imbalance of around 1:7, with there being a much larger class for people who did no recieve inusrance benefits. It was apparent that scaling the data significantly impacted the results for both Euclidean and Manhattan distance metrics.  "
   ]
  },
  {
   "cell_type": "markdown",
   "metadata": {},
   "source": [
    "* Regarding the KNN classification, we noted that scaling the data also impacted the resulting f1 scores on the random models, with the best F1 score being 0.95 (KNN=1) compared to the unscaled data which resulted in an F1 score of 0.20 (KNN=5)"
   ]
  },
  {
   "cell_type": "markdown",
   "metadata": {},
   "source": [
    "* Finally, the data was obfuscated and invertibility was confirmed. It was concluded via analytical proofs Linear regression runs of both the original and obfuscated data that obfuscating the data does not change the predictive outcomes of the model. "
   ]
  },
  {
   "cell_type": "markdown",
   "metadata": {},
   "source": [
    "# Appendices \n",
    "\n",
    "## Appendix A: Writing Formulas in Jupyter Notebooks"
   ]
  },
  {
   "cell_type": "markdown",
   "metadata": {},
   "source": [
    "You can write formulas in your Jupyter Notebook in a markup language provided by a high-quality publishing system called $\\LaTeX$ (pronounced \"Lah-tech\"), and they will look like formulas in textbooks.\n",
    "\n",
    "To put a formula in a text, put the dollar sign (\\\\$) before and after the formula's text e.g. $\\frac{1}{2} \\times \\frac{3}{2} = \\frac{3}{4}$ or $y = x^2, x \\ge 1$.\n",
    "\n",
    "If a formula should be in its own paragraph, put the double dollar sign (\\\\$\\\\$) before and after the formula text e.g.\n",
    "\n",
    "$$\n",
    "\\bar{x} = \\frac{1}{n}\\sum_{i=1}^{n} x_i.\n",
    "$$\n",
    "\n",
    "The markup language of [LaTeX](https://en.wikipedia.org/wiki/LaTeX) is very popular among people who use formulas in their articles, books and texts. It can be complex but its basics are easy. Check this two page [cheatsheet](http://tug.ctan.org/info/undergradmath/undergradmath.pdf) for learning how to compose the most common formulas."
   ]
  },
  {
   "cell_type": "markdown",
   "metadata": {},
   "source": [
    "## Appendix B: Properties of Matrices"
   ]
  },
  {
   "cell_type": "markdown",
   "metadata": {},
   "source": [
    "Matrices have many properties in Linear Algebra. A few of them are listed here which can help with the analytical proof in this project."
   ]
  },
  {
   "cell_type": "markdown",
   "metadata": {},
   "source": [
    "<table>\n",
    "<tr>\n",
    "<td>Distributivity</td><td>$A(B+C)=AB+AC$</td>\n",
    "</tr>\n",
    "<tr>\n",
    "<td>Non-commutativity</td><td>$AB \\neq BA$</td>\n",
    "</tr>\n",
    "<tr>\n",
    "<td>Associative property of multiplication</td><td>$(AB)C = A(BC)$</td>\n",
    "</tr>\n",
    "<tr>\n",
    "<td>Multiplicative identity property</td><td>$IA = AI = A$</td>\n",
    "</tr>\n",
    "<tr>\n",
    "<td></td><td>$A^{-1}A = AA^{-1} = I$\n",
    "</td>\n",
    "</tr>    \n",
    "<tr>\n",
    "<td></td><td>$(AB)^{-1} = B^{-1}A^{-1}$</td>\n",
    "</tr>    \n",
    "<tr>\n",
    "<td>Reversivity of the transpose of a product of matrices,</td><td>$(AB)^T = B^TA^T$</td>\n",
    "</tr>    \n",
    "</table>"
   ]
  }
 ],
 "metadata": {
  "ExecuteTimeLog": [
   {
    "duration": 1463,
    "start_time": "2022-08-03T00:49:18.224Z"
   },
   {
    "duration": 63,
    "start_time": "2022-08-03T00:49:20.176Z"
   },
   {
    "duration": 28,
    "start_time": "2022-08-03T00:49:50.125Z"
   },
   {
    "duration": 4,
    "start_time": "2022-08-03T00:49:55.189Z"
   },
   {
    "duration": 14,
    "start_time": "2022-08-03T00:49:57.163Z"
   },
   {
    "duration": 11,
    "start_time": "2022-08-03T00:50:10.130Z"
   },
   {
    "duration": 6,
    "start_time": "2022-08-03T00:51:01.926Z"
   },
   {
    "duration": 3,
    "start_time": "2022-08-03T00:51:21.319Z"
   },
   {
    "duration": 10,
    "start_time": "2022-08-03T00:51:32.842Z"
   },
   {
    "duration": 10,
    "start_time": "2022-08-03T00:51:53.323Z"
   },
   {
    "duration": 5,
    "start_time": "2022-08-03T00:52:45.698Z"
   },
   {
    "duration": 417,
    "start_time": "2022-08-03T00:53:16.461Z"
   },
   {
    "duration": 3,
    "start_time": "2022-08-03T00:57:28.595Z"
   },
   {
    "duration": 567,
    "start_time": "2022-08-03T00:59:06.723Z"
   },
   {
    "duration": 3066,
    "start_time": "2022-08-03T00:59:17.343Z"
   },
   {
    "duration": 99365,
    "start_time": "2022-08-03T01:04:41.678Z"
   },
   {
    "duration": 18,
    "start_time": "2022-08-03T01:30:36.218Z"
   },
   {
    "duration": 10,
    "start_time": "2022-08-03T01:30:58.982Z"
   },
   {
    "duration": 15,
    "start_time": "2022-08-03T01:33:31.121Z"
   },
   {
    "duration": 0,
    "start_time": "2022-08-03T01:33:31.138Z"
   },
   {
    "duration": 23,
    "start_time": "2022-08-03T01:34:10.016Z"
   },
   {
    "duration": 14,
    "start_time": "2022-08-03T01:34:13.743Z"
   },
   {
    "duration": 13,
    "start_time": "2022-08-03T01:34:48.380Z"
   },
   {
    "duration": 13,
    "start_time": "2022-08-03T01:34:58.938Z"
   },
   {
    "duration": 6,
    "start_time": "2022-08-03T01:35:09.066Z"
   },
   {
    "duration": 7,
    "start_time": "2022-08-03T01:35:13.416Z"
   },
   {
    "duration": 23,
    "start_time": "2022-08-03T01:35:22.347Z"
   },
   {
    "duration": 3,
    "start_time": "2022-08-03T01:40:58.657Z"
   },
   {
    "duration": 7187,
    "start_time": "2022-08-03T21:19:39.956Z"
   },
   {
    "duration": 1364,
    "start_time": "2022-08-03T21:19:47.146Z"
   },
   {
    "duration": 99,
    "start_time": "2022-08-03T21:19:48.512Z"
   },
   {
    "duration": 4,
    "start_time": "2022-08-03T21:19:48.613Z"
   },
   {
    "duration": 23,
    "start_time": "2022-08-03T21:19:48.618Z"
   },
   {
    "duration": 12,
    "start_time": "2022-08-03T21:19:48.643Z"
   },
   {
    "duration": 7,
    "start_time": "2022-08-03T21:19:48.657Z"
   },
   {
    "duration": 12,
    "start_time": "2022-08-03T21:19:48.666Z"
   },
   {
    "duration": 4,
    "start_time": "2022-08-03T21:19:48.680Z"
   },
   {
    "duration": 8,
    "start_time": "2022-08-03T21:19:48.687Z"
   },
   {
    "duration": 24,
    "start_time": "2022-08-03T21:19:48.696Z"
   },
   {
    "duration": 3841,
    "start_time": "2022-08-03T21:19:48.721Z"
   },
   {
    "duration": 3,
    "start_time": "2022-08-03T21:19:52.564Z"
   },
   {
    "duration": 10,
    "start_time": "2022-08-03T21:19:52.569Z"
   },
   {
    "duration": 22,
    "start_time": "2022-08-03T21:19:52.581Z"
   },
   {
    "duration": 11,
    "start_time": "2022-08-03T21:19:52.605Z"
   },
   {
    "duration": 75,
    "start_time": "2022-08-03T21:19:52.618Z"
   },
   {
    "duration": 0,
    "start_time": "2022-08-03T21:19:52.695Z"
   },
   {
    "duration": 0,
    "start_time": "2022-08-03T21:19:52.697Z"
   },
   {
    "duration": 0,
    "start_time": "2022-08-03T21:19:52.698Z"
   },
   {
    "duration": 0,
    "start_time": "2022-08-03T21:19:52.700Z"
   },
   {
    "duration": 0,
    "start_time": "2022-08-03T21:19:52.702Z"
   },
   {
    "duration": 0,
    "start_time": "2022-08-03T21:19:52.703Z"
   },
   {
    "duration": 0,
    "start_time": "2022-08-03T21:19:52.704Z"
   },
   {
    "duration": 0,
    "start_time": "2022-08-03T21:19:52.706Z"
   },
   {
    "duration": 0,
    "start_time": "2022-08-03T21:19:52.708Z"
   },
   {
    "duration": 0,
    "start_time": "2022-08-03T21:19:52.709Z"
   },
   {
    "duration": 4,
    "start_time": "2022-08-03T21:25:08.994Z"
   },
   {
    "duration": 4,
    "start_time": "2022-08-03T21:27:42.650Z"
   },
   {
    "duration": 11,
    "start_time": "2022-08-03T21:27:52.963Z"
   },
   {
    "duration": 11,
    "start_time": "2022-08-03T21:27:54.868Z"
   },
   {
    "duration": 4,
    "start_time": "2022-08-03T21:30:34.829Z"
   },
   {
    "duration": 146,
    "start_time": "2022-08-03T21:32:02.348Z"
   },
   {
    "duration": 139,
    "start_time": "2022-08-03T21:32:25.819Z"
   },
   {
    "duration": 12,
    "start_time": "2022-08-03T21:32:43.222Z"
   },
   {
    "duration": 15,
    "start_time": "2022-08-03T21:33:11.892Z"
   },
   {
    "duration": 14,
    "start_time": "2022-08-03T21:33:24.728Z"
   },
   {
    "duration": 11,
    "start_time": "2022-08-03T21:33:35.541Z"
   },
   {
    "duration": 12,
    "start_time": "2022-08-03T21:33:37.832Z"
   },
   {
    "duration": 12,
    "start_time": "2022-08-03T21:34:32.028Z"
   },
   {
    "duration": 13,
    "start_time": "2022-08-03T21:34:45.020Z"
   },
   {
    "duration": 12,
    "start_time": "2022-08-03T21:34:48.326Z"
   },
   {
    "duration": 6977,
    "start_time": "2022-08-04T14:53:30.015Z"
   },
   {
    "duration": 1351,
    "start_time": "2022-08-04T14:53:36.995Z"
   },
   {
    "duration": 64,
    "start_time": "2022-08-04T14:53:38.347Z"
   },
   {
    "duration": 4,
    "start_time": "2022-08-04T14:53:38.413Z"
   },
   {
    "duration": 18,
    "start_time": "2022-08-04T14:53:38.419Z"
   },
   {
    "duration": 10,
    "start_time": "2022-08-04T14:53:38.438Z"
   },
   {
    "duration": 4,
    "start_time": "2022-08-04T14:53:38.450Z"
   },
   {
    "duration": 13,
    "start_time": "2022-08-04T14:53:38.455Z"
   },
   {
    "duration": 3,
    "start_time": "2022-08-04T14:53:38.470Z"
   },
   {
    "duration": 11,
    "start_time": "2022-08-04T14:53:38.474Z"
   },
   {
    "duration": 25,
    "start_time": "2022-08-04T14:53:38.511Z"
   },
   {
    "duration": 3085,
    "start_time": "2022-08-04T14:53:38.537Z"
   },
   {
    "duration": 3,
    "start_time": "2022-08-04T14:53:41.623Z"
   },
   {
    "duration": 11,
    "start_time": "2022-08-04T14:53:41.629Z"
   },
   {
    "duration": 176,
    "start_time": "2022-08-04T14:53:41.641Z"
   },
   {
    "duration": 102,
    "start_time": "2022-08-04T14:53:41.819Z"
   },
   {
    "duration": 94,
    "start_time": "2022-08-04T14:53:41.923Z"
   },
   {
    "duration": 20,
    "start_time": "2022-08-04T14:53:42.019Z"
   },
   {
    "duration": 73,
    "start_time": "2022-08-04T14:53:42.041Z"
   },
   {
    "duration": 10,
    "start_time": "2022-08-04T14:53:42.116Z"
   },
   {
    "duration": 48,
    "start_time": "2022-08-04T14:53:42.128Z"
   },
   {
    "duration": 0,
    "start_time": "2022-08-04T14:53:42.177Z"
   },
   {
    "duration": 0,
    "start_time": "2022-08-04T14:53:42.178Z"
   },
   {
    "duration": 0,
    "start_time": "2022-08-04T14:53:42.180Z"
   },
   {
    "duration": 0,
    "start_time": "2022-08-04T14:53:42.181Z"
   },
   {
    "duration": 0,
    "start_time": "2022-08-04T14:53:42.182Z"
   },
   {
    "duration": 0,
    "start_time": "2022-08-04T14:53:42.183Z"
   },
   {
    "duration": 0,
    "start_time": "2022-08-04T14:53:42.184Z"
   },
   {
    "duration": 0,
    "start_time": "2022-08-04T14:53:42.186Z"
   },
   {
    "duration": 0,
    "start_time": "2022-08-04T14:53:42.187Z"
   },
   {
    "duration": 0,
    "start_time": "2022-08-04T14:53:42.188Z"
   },
   {
    "duration": 1051,
    "start_time": "2022-08-04T15:45:44.822Z"
   },
   {
    "duration": 1085,
    "start_time": "2022-08-04T15:46:32.363Z"
   },
   {
    "duration": 4,
    "start_time": "2022-08-04T15:47:02.452Z"
   },
   {
    "duration": 4,
    "start_time": "2022-08-04T15:47:06.623Z"
   },
   {
    "duration": 6,
    "start_time": "2022-08-04T15:47:20.524Z"
   },
   {
    "duration": 8,
    "start_time": "2022-08-04T15:48:04.026Z"
   },
   {
    "duration": 8,
    "start_time": "2022-08-04T15:48:11.243Z"
   },
   {
    "duration": 6,
    "start_time": "2022-08-04T15:48:20.424Z"
   },
   {
    "duration": 6,
    "start_time": "2022-08-04T15:48:28.428Z"
   },
   {
    "duration": 940,
    "start_time": "2022-08-04T15:49:03.085Z"
   },
   {
    "duration": 1087,
    "start_time": "2022-08-04T15:49:18.493Z"
   },
   {
    "duration": 6,
    "start_time": "2022-08-04T15:49:21.632Z"
   },
   {
    "duration": 6,
    "start_time": "2022-08-04T15:51:26.151Z"
   },
   {
    "duration": 4,
    "start_time": "2022-08-04T15:51:33.428Z"
   },
   {
    "duration": 3,
    "start_time": "2022-08-04T15:51:39.803Z"
   },
   {
    "duration": 3,
    "start_time": "2022-08-04T15:51:43.247Z"
   },
   {
    "duration": 32,
    "start_time": "2022-08-04T15:57:45.802Z"
   },
   {
    "duration": 8,
    "start_time": "2022-08-04T16:05:33.724Z"
   },
   {
    "duration": 65,
    "start_time": "2022-08-04T16:10:54.299Z"
   },
   {
    "duration": 11,
    "start_time": "2022-08-04T16:11:00.071Z"
   },
   {
    "duration": 6,
    "start_time": "2022-08-04T16:12:23.351Z"
   },
   {
    "duration": 47,
    "start_time": "2022-08-04T16:14:51.431Z"
   },
   {
    "duration": 6,
    "start_time": "2022-08-04T16:15:50.471Z"
   },
   {
    "duration": 4,
    "start_time": "2022-08-04T16:18:04.193Z"
   },
   {
    "duration": 4,
    "start_time": "2022-08-04T16:18:54.464Z"
   },
   {
    "duration": 17,
    "start_time": "2022-08-04T16:19:14.733Z"
   },
   {
    "duration": 156,
    "start_time": "2022-08-04T16:19:36.931Z"
   },
   {
    "duration": 58,
    "start_time": "2022-08-04T16:22:39.230Z"
   },
   {
    "duration": 197,
    "start_time": "2022-08-04T16:22:42.637Z"
   },
   {
    "duration": 159,
    "start_time": "2022-08-04T16:22:59.070Z"
   },
   {
    "duration": 161,
    "start_time": "2022-08-04T16:31:06.370Z"
   },
   {
    "duration": 157,
    "start_time": "2022-08-04T16:35:39.352Z"
   },
   {
    "duration": 179,
    "start_time": "2022-08-04T16:36:03.179Z"
   },
   {
    "duration": 2540,
    "start_time": "2022-08-04T16:36:24.773Z"
   },
   {
    "duration": 1214,
    "start_time": "2022-08-04T16:36:27.315Z"
   },
   {
    "duration": 28,
    "start_time": "2022-08-04T16:36:28.532Z"
   },
   {
    "duration": 4,
    "start_time": "2022-08-04T16:36:28.562Z"
   },
   {
    "duration": 18,
    "start_time": "2022-08-04T16:36:28.567Z"
   },
   {
    "duration": 10,
    "start_time": "2022-08-04T16:36:28.587Z"
   },
   {
    "duration": 9,
    "start_time": "2022-08-04T16:36:28.598Z"
   },
   {
    "duration": 24,
    "start_time": "2022-08-04T16:36:28.608Z"
   },
   {
    "duration": 3,
    "start_time": "2022-08-04T16:36:28.633Z"
   },
   {
    "duration": 7,
    "start_time": "2022-08-04T16:36:28.638Z"
   },
   {
    "duration": 24,
    "start_time": "2022-08-04T16:36:28.646Z"
   },
   {
    "duration": 3359,
    "start_time": "2022-08-04T16:36:28.672Z"
   },
   {
    "duration": 3,
    "start_time": "2022-08-04T16:36:32.033Z"
   },
   {
    "duration": 5,
    "start_time": "2022-08-04T16:36:32.038Z"
   },
   {
    "duration": 119,
    "start_time": "2022-08-04T16:36:32.045Z"
   },
   {
    "duration": 110,
    "start_time": "2022-08-04T16:36:32.212Z"
   },
   {
    "duration": 14,
    "start_time": "2022-08-04T16:36:32.324Z"
   },
   {
    "duration": 10,
    "start_time": "2022-08-04T16:36:32.340Z"
   },
   {
    "duration": 13,
    "start_time": "2022-08-04T16:36:32.352Z"
   },
   {
    "duration": 11,
    "start_time": "2022-08-04T16:36:32.367Z"
   },
   {
    "duration": 41,
    "start_time": "2022-08-04T16:36:32.379Z"
   },
   {
    "duration": 5,
    "start_time": "2022-08-04T16:36:32.426Z"
   },
   {
    "duration": 10,
    "start_time": "2022-08-04T16:36:32.433Z"
   },
   {
    "duration": 6,
    "start_time": "2022-08-04T16:36:32.445Z"
   },
   {
    "duration": 24,
    "start_time": "2022-08-04T16:36:32.453Z"
   },
   {
    "duration": 8,
    "start_time": "2022-08-04T16:36:32.478Z"
   },
   {
    "duration": 222,
    "start_time": "2022-08-04T16:36:32.487Z"
   },
   {
    "duration": 164,
    "start_time": "2022-08-04T16:36:32.717Z"
   },
   {
    "duration": 0,
    "start_time": "2022-08-04T16:36:32.884Z"
   },
   {
    "duration": 0,
    "start_time": "2022-08-04T16:36:32.886Z"
   },
   {
    "duration": 0,
    "start_time": "2022-08-04T16:36:32.887Z"
   },
   {
    "duration": 0,
    "start_time": "2022-08-04T16:36:32.888Z"
   },
   {
    "duration": 0,
    "start_time": "2022-08-04T16:36:32.889Z"
   },
   {
    "duration": 90,
    "start_time": "2022-08-04T19:06:08.486Z"
   },
   {
    "duration": 4,
    "start_time": "2022-08-04T19:14:10.095Z"
   },
   {
    "duration": 3,
    "start_time": "2022-08-04T19:14:17.270Z"
   },
   {
    "duration": 62,
    "start_time": "2022-08-04T19:14:22.384Z"
   },
   {
    "duration": 7482,
    "start_time": "2022-08-04T19:14:39.090Z"
   },
   {
    "duration": 1517,
    "start_time": "2022-08-04T19:14:46.575Z"
   },
   {
    "duration": 79,
    "start_time": "2022-08-04T19:14:48.094Z"
   },
   {
    "duration": 4,
    "start_time": "2022-08-04T19:14:48.175Z"
   },
   {
    "duration": 16,
    "start_time": "2022-08-04T19:14:48.180Z"
   },
   {
    "duration": 10,
    "start_time": "2022-08-04T19:14:48.197Z"
   },
   {
    "duration": 37,
    "start_time": "2022-08-04T19:14:48.209Z"
   },
   {
    "duration": 12,
    "start_time": "2022-08-04T19:14:48.247Z"
   },
   {
    "duration": 4,
    "start_time": "2022-08-04T19:14:48.260Z"
   },
   {
    "duration": 6,
    "start_time": "2022-08-04T19:14:48.267Z"
   },
   {
    "duration": 23,
    "start_time": "2022-08-04T19:14:48.275Z"
   },
   {
    "duration": 3347,
    "start_time": "2022-08-04T19:14:48.300Z"
   },
   {
    "duration": 3,
    "start_time": "2022-08-04T19:14:51.648Z"
   },
   {
    "duration": 8,
    "start_time": "2022-08-04T19:14:51.652Z"
   },
   {
    "duration": 141,
    "start_time": "2022-08-04T19:14:51.661Z"
   },
   {
    "duration": 114,
    "start_time": "2022-08-04T19:14:51.819Z"
   },
   {
    "duration": 15,
    "start_time": "2022-08-04T19:14:51.944Z"
   },
   {
    "duration": 10,
    "start_time": "2022-08-04T19:14:51.961Z"
   },
   {
    "duration": 11,
    "start_time": "2022-08-04T19:14:51.972Z"
   },
   {
    "duration": 10,
    "start_time": "2022-08-04T19:14:51.984Z"
   },
   {
    "duration": 43,
    "start_time": "2022-08-04T19:14:51.996Z"
   },
   {
    "duration": 7,
    "start_time": "2022-08-04T19:14:52.042Z"
   },
   {
    "duration": 4,
    "start_time": "2022-08-04T19:14:52.051Z"
   },
   {
    "duration": 6,
    "start_time": "2022-08-04T19:14:52.057Z"
   },
   {
    "duration": 30,
    "start_time": "2022-08-04T19:14:52.064Z"
   },
   {
    "duration": 9,
    "start_time": "2022-08-04T19:14:52.096Z"
   },
   {
    "duration": 183,
    "start_time": "2022-08-04T19:14:52.107Z"
   },
   {
    "duration": 4,
    "start_time": "2022-08-04T19:14:52.293Z"
   },
   {
    "duration": 8,
    "start_time": "2022-08-04T19:14:52.299Z"
   },
   {
    "duration": 171,
    "start_time": "2022-08-04T19:14:52.309Z"
   },
   {
    "duration": 0,
    "start_time": "2022-08-04T19:14:52.481Z"
   },
   {
    "duration": 0,
    "start_time": "2022-08-04T19:14:52.483Z"
   },
   {
    "duration": 0,
    "start_time": "2022-08-04T19:14:52.484Z"
   },
   {
    "duration": 4,
    "start_time": "2022-08-04T19:19:29.987Z"
   },
   {
    "duration": 3,
    "start_time": "2022-08-04T19:19:36.578Z"
   },
   {
    "duration": 64,
    "start_time": "2022-08-04T19:19:38.453Z"
   },
   {
    "duration": 3,
    "start_time": "2022-08-04T19:20:31.794Z"
   },
   {
    "duration": 10,
    "start_time": "2022-08-04T19:26:02.626Z"
   },
   {
    "duration": 10,
    "start_time": "2022-08-04T19:26:19.089Z"
   },
   {
    "duration": 4,
    "start_time": "2022-08-04T19:26:23.364Z"
   },
   {
    "duration": 12,
    "start_time": "2022-08-04T19:26:24.986Z"
   },
   {
    "duration": 4,
    "start_time": "2022-08-04T19:26:58.643Z"
   },
   {
    "duration": 4,
    "start_time": "2022-08-04T19:44:49.770Z"
   },
   {
    "duration": 3,
    "start_time": "2022-08-04T19:44:50.188Z"
   },
   {
    "duration": 3,
    "start_time": "2022-08-04T19:44:51.969Z"
   },
   {
    "duration": 4,
    "start_time": "2022-08-04T19:44:59.655Z"
   },
   {
    "duration": 6,
    "start_time": "2022-08-04T19:45:30.666Z"
   },
   {
    "duration": 5,
    "start_time": "2022-08-04T19:54:48.436Z"
   },
   {
    "duration": 8,
    "start_time": "2022-08-04T19:55:18.278Z"
   },
   {
    "duration": 8,
    "start_time": "2022-08-04T19:55:25.288Z"
   },
   {
    "duration": 3,
    "start_time": "2022-08-04T19:57:52.756Z"
   },
   {
    "duration": 5,
    "start_time": "2022-08-04T20:03:57.837Z"
   },
   {
    "duration": 3,
    "start_time": "2022-08-04T20:04:43.753Z"
   },
   {
    "duration": 8,
    "start_time": "2022-08-04T20:05:03.245Z"
   },
   {
    "duration": 14,
    "start_time": "2022-08-04T20:05:15.231Z"
   },
   {
    "duration": 3,
    "start_time": "2022-08-04T20:12:08.051Z"
   },
   {
    "duration": 68,
    "start_time": "2022-08-04T20:12:12.438Z"
   },
   {
    "duration": 4,
    "start_time": "2022-08-04T20:12:18.338Z"
   },
   {
    "duration": 11,
    "start_time": "2022-08-04T20:14:52.327Z"
   },
   {
    "duration": 4,
    "start_time": "2022-08-04T20:14:58.940Z"
   },
   {
    "duration": 4,
    "start_time": "2022-08-04T20:15:16.055Z"
   },
   {
    "duration": 8,
    "start_time": "2022-08-04T20:15:50.234Z"
   },
   {
    "duration": 3,
    "start_time": "2022-08-04T20:16:23.254Z"
   },
   {
    "duration": 3,
    "start_time": "2022-08-04T20:16:38.559Z"
   },
   {
    "duration": 9,
    "start_time": "2022-08-04T20:16:55.308Z"
   },
   {
    "duration": 5,
    "start_time": "2022-08-04T20:16:57.134Z"
   },
   {
    "duration": 16,
    "start_time": "2022-08-04T20:24:31.939Z"
   },
   {
    "duration": 5,
    "start_time": "2022-08-04T20:24:39.545Z"
   },
   {
    "duration": 35,
    "start_time": "2022-08-04T20:25:30.618Z"
   },
   {
    "duration": 45,
    "start_time": "2022-08-04T20:25:46.538Z"
   },
   {
    "duration": 14,
    "start_time": "2022-08-04T20:25:49.635Z"
   },
   {
    "duration": 17,
    "start_time": "2022-08-04T20:26:06.034Z"
   },
   {
    "duration": 14,
    "start_time": "2022-08-04T20:26:15.883Z"
   },
   {
    "duration": 26,
    "start_time": "2022-08-04T20:26:25.842Z"
   },
   {
    "duration": 2364,
    "start_time": "2022-08-04T22:13:37.327Z"
   },
   {
    "duration": 1195,
    "start_time": "2022-08-04T22:13:39.693Z"
   },
   {
    "duration": 28,
    "start_time": "2022-08-04T22:13:40.890Z"
   },
   {
    "duration": 4,
    "start_time": "2022-08-04T22:13:40.920Z"
   },
   {
    "duration": 22,
    "start_time": "2022-08-04T22:13:40.925Z"
   },
   {
    "duration": 10,
    "start_time": "2022-08-04T22:13:40.948Z"
   },
   {
    "duration": 12,
    "start_time": "2022-08-04T22:13:40.960Z"
   },
   {
    "duration": 14,
    "start_time": "2022-08-04T22:13:40.973Z"
   },
   {
    "duration": 9,
    "start_time": "2022-08-04T22:13:40.989Z"
   },
   {
    "duration": 6,
    "start_time": "2022-08-04T22:13:41.001Z"
   },
   {
    "duration": 30,
    "start_time": "2022-08-04T22:13:41.008Z"
   },
   {
    "duration": 3000,
    "start_time": "2022-08-04T22:13:41.039Z"
   },
   {
    "duration": 2,
    "start_time": "2022-08-04T22:13:44.041Z"
   },
   {
    "duration": 6,
    "start_time": "2022-08-04T22:13:44.044Z"
   },
   {
    "duration": 160,
    "start_time": "2022-08-04T22:13:44.051Z"
   },
   {
    "duration": 98,
    "start_time": "2022-08-04T22:13:44.217Z"
   },
   {
    "duration": 10,
    "start_time": "2022-08-04T22:13:44.317Z"
   },
   {
    "duration": 9,
    "start_time": "2022-08-04T22:13:44.329Z"
   },
   {
    "duration": 11,
    "start_time": "2022-08-04T22:13:44.340Z"
   },
   {
    "duration": 10,
    "start_time": "2022-08-04T22:13:44.353Z"
   },
   {
    "duration": 12,
    "start_time": "2022-08-04T22:13:44.364Z"
   },
   {
    "duration": 7,
    "start_time": "2022-08-04T22:13:44.378Z"
   },
   {
    "duration": 3,
    "start_time": "2022-08-04T22:13:44.411Z"
   },
   {
    "duration": 7,
    "start_time": "2022-08-04T22:13:44.415Z"
   },
   {
    "duration": 23,
    "start_time": "2022-08-04T22:13:44.423Z"
   },
   {
    "duration": 6,
    "start_time": "2022-08-04T22:13:44.448Z"
   },
   {
    "duration": 161,
    "start_time": "2022-08-04T22:13:44.455Z"
   },
   {
    "duration": 4,
    "start_time": "2022-08-04T22:13:44.619Z"
   },
   {
    "duration": 5,
    "start_time": "2022-08-04T22:13:44.624Z"
   },
   {
    "duration": 9,
    "start_time": "2022-08-04T22:13:44.630Z"
   },
   {
    "duration": 79,
    "start_time": "2022-08-04T22:13:44.641Z"
   },
   {
    "duration": 7,
    "start_time": "2022-08-04T22:13:44.722Z"
   },
   {
    "duration": 4,
    "start_time": "2022-08-04T22:13:44.811Z"
   },
   {
    "duration": 4,
    "start_time": "2022-08-04T22:13:44.817Z"
   },
   {
    "duration": 7,
    "start_time": "2022-08-04T22:13:44.823Z"
   },
   {
    "duration": 80,
    "start_time": "2022-08-04T22:13:44.831Z"
   },
   {
    "duration": 17,
    "start_time": "2022-08-04T22:13:44.913Z"
   },
   {
    "duration": 4,
    "start_time": "2022-08-04T22:19:28.695Z"
   },
   {
    "duration": 5,
    "start_time": "2022-08-04T22:19:32.334Z"
   },
   {
    "duration": 273,
    "start_time": "2022-08-04T22:19:46.123Z"
   },
   {
    "duration": 5,
    "start_time": "2022-08-04T22:19:53.168Z"
   },
   {
    "duration": 5,
    "start_time": "2022-08-04T22:20:04.239Z"
   },
   {
    "duration": 10,
    "start_time": "2022-08-04T22:20:36.653Z"
   },
   {
    "duration": 8,
    "start_time": "2022-08-04T22:20:58.033Z"
   },
   {
    "duration": 4,
    "start_time": "2022-08-04T22:21:07.867Z"
   },
   {
    "duration": 10,
    "start_time": "2022-08-04T22:21:09.734Z"
   },
   {
    "duration": 10,
    "start_time": "2022-08-04T22:30:14.375Z"
   },
   {
    "duration": 334,
    "start_time": "2022-08-04T22:30:19.620Z"
   },
   {
    "duration": 10,
    "start_time": "2022-08-04T22:30:23.519Z"
   },
   {
    "duration": 2,
    "start_time": "2022-08-04T22:32:39.858Z"
   },
   {
    "duration": 2,
    "start_time": "2022-08-04T22:32:52.324Z"
   },
   {
    "duration": 8,
    "start_time": "2022-08-04T22:32:59.967Z"
   },
   {
    "duration": 437,
    "start_time": "2022-08-04T22:33:04.869Z"
   },
   {
    "duration": 161,
    "start_time": "2022-08-04T22:33:36.856Z"
   },
   {
    "duration": 391,
    "start_time": "2022-08-04T22:33:42.925Z"
   },
   {
    "duration": 639,
    "start_time": "2022-08-04T22:35:44.445Z"
   },
   {
    "duration": 904,
    "start_time": "2022-08-04T22:35:54.782Z"
   },
   {
    "duration": 11,
    "start_time": "2022-08-04T22:43:08.331Z"
   },
   {
    "duration": 8,
    "start_time": "2022-08-04T22:45:13.877Z"
   },
   {
    "duration": 656,
    "start_time": "2022-08-04T22:45:16.557Z"
   },
   {
    "duration": 8,
    "start_time": "2022-08-04T22:45:21.640Z"
   },
   {
    "duration": 732,
    "start_time": "2022-08-04T22:45:24.781Z"
   },
   {
    "duration": 7,
    "start_time": "2022-08-04T22:45:27.869Z"
   },
   {
    "duration": 710,
    "start_time": "2022-08-04T22:45:28.587Z"
   },
   {
    "duration": 3,
    "start_time": "2022-08-04T22:47:57.882Z"
   },
   {
    "duration": 3,
    "start_time": "2022-08-04T22:48:01.635Z"
   },
   {
    "duration": 19,
    "start_time": "2022-08-04T22:48:02.367Z"
   },
   {
    "duration": 5,
    "start_time": "2022-08-04T22:48:25.529Z"
   },
   {
    "duration": 3,
    "start_time": "2022-08-04T22:48:28.070Z"
   },
   {
    "duration": 16,
    "start_time": "2022-08-04T22:48:29.171Z"
   },
   {
    "duration": 9,
    "start_time": "2022-08-04T22:48:44.443Z"
   },
   {
    "duration": 3,
    "start_time": "2022-08-04T22:49:20.354Z"
   },
   {
    "duration": 4,
    "start_time": "2022-08-04T22:49:43.778Z"
   },
   {
    "duration": 3,
    "start_time": "2022-08-04T22:49:45.234Z"
   },
   {
    "duration": 20,
    "start_time": "2022-08-04T22:49:46.603Z"
   },
   {
    "duration": 4,
    "start_time": "2022-08-04T22:50:01.571Z"
   },
   {
    "duration": 2,
    "start_time": "2022-08-04T22:50:02.935Z"
   },
   {
    "duration": 1089,
    "start_time": "2022-08-04T22:50:03.495Z"
   },
   {
    "duration": 9,
    "start_time": "2022-08-04T22:51:08.849Z"
   },
   {
    "duration": 3,
    "start_time": "2022-08-04T22:52:43.132Z"
   },
   {
    "duration": 9,
    "start_time": "2022-08-04T22:52:50.364Z"
   },
   {
    "duration": 417,
    "start_time": "2022-08-04T22:53:11.675Z"
   },
   {
    "duration": 9,
    "start_time": "2022-08-04T23:13:33.250Z"
   },
   {
    "duration": 333,
    "start_time": "2022-08-04T23:13:35.848Z"
   },
   {
    "duration": 9,
    "start_time": "2022-08-04T23:13:55.020Z"
   },
   {
    "duration": 310,
    "start_time": "2022-08-04T23:13:57.152Z"
   },
   {
    "duration": 9,
    "start_time": "2022-08-05T00:13:17.824Z"
   },
   {
    "duration": 62,
    "start_time": "2022-08-05T00:14:00.889Z"
   },
   {
    "duration": 9,
    "start_time": "2022-08-05T00:14:04.834Z"
   },
   {
    "duration": 3,
    "start_time": "2022-08-05T00:14:36.083Z"
   },
   {
    "duration": 9,
    "start_time": "2022-08-05T00:14:37.777Z"
   },
   {
    "duration": 8,
    "start_time": "2022-08-05T00:16:52.851Z"
   },
   {
    "duration": 8,
    "start_time": "2022-08-05T00:19:00.921Z"
   },
   {
    "duration": 10,
    "start_time": "2022-08-05T00:19:14.721Z"
   },
   {
    "duration": 3,
    "start_time": "2022-08-05T00:23:58.196Z"
   },
   {
    "duration": 150,
    "start_time": "2022-08-05T00:24:53.071Z"
   },
   {
    "duration": 87,
    "start_time": "2022-08-05T00:24:56.756Z"
   },
   {
    "duration": 2321,
    "start_time": "2022-08-05T00:25:11.960Z"
   },
   {
    "duration": 1090,
    "start_time": "2022-08-05T00:25:14.283Z"
   },
   {
    "duration": 28,
    "start_time": "2022-08-05T00:25:15.374Z"
   },
   {
    "duration": 4,
    "start_time": "2022-08-05T00:25:15.405Z"
   },
   {
    "duration": 17,
    "start_time": "2022-08-05T00:25:15.410Z"
   },
   {
    "duration": 11,
    "start_time": "2022-08-05T00:25:15.428Z"
   },
   {
    "duration": 6,
    "start_time": "2022-08-05T00:25:15.440Z"
   },
   {
    "duration": 10,
    "start_time": "2022-08-05T00:25:15.447Z"
   },
   {
    "duration": 2,
    "start_time": "2022-08-05T00:25:15.458Z"
   },
   {
    "duration": 5,
    "start_time": "2022-08-05T00:25:15.463Z"
   },
   {
    "duration": 45,
    "start_time": "2022-08-05T00:25:15.469Z"
   },
   {
    "duration": 2919,
    "start_time": "2022-08-05T00:25:15.516Z"
   },
   {
    "duration": 2,
    "start_time": "2022-08-05T00:25:18.437Z"
   },
   {
    "duration": 5,
    "start_time": "2022-08-05T00:25:18.440Z"
   },
   {
    "duration": 88,
    "start_time": "2022-08-05T00:25:18.446Z"
   },
   {
    "duration": 103,
    "start_time": "2022-08-05T00:25:18.612Z"
   },
   {
    "duration": 9,
    "start_time": "2022-08-05T00:25:18.717Z"
   },
   {
    "duration": 9,
    "start_time": "2022-08-05T00:25:18.727Z"
   },
   {
    "duration": 13,
    "start_time": "2022-08-05T00:25:18.737Z"
   },
   {
    "duration": 10,
    "start_time": "2022-08-05T00:25:18.751Z"
   },
   {
    "duration": 6,
    "start_time": "2022-08-05T00:25:18.762Z"
   },
   {
    "duration": 7,
    "start_time": "2022-08-05T00:25:18.769Z"
   },
   {
    "duration": 36,
    "start_time": "2022-08-05T00:25:18.777Z"
   },
   {
    "duration": 6,
    "start_time": "2022-08-05T00:25:18.815Z"
   },
   {
    "duration": 1071,
    "start_time": "2022-08-05T00:25:18.823Z"
   },
   {
    "duration": 20,
    "start_time": "2022-08-05T00:25:19.896Z"
   },
   {
    "duration": 646,
    "start_time": "2022-08-05T00:25:19.917Z"
   },
   {
    "duration": 8,
    "start_time": "2022-08-05T00:25:20.566Z"
   },
   {
    "duration": 758,
    "start_time": "2022-08-05T00:25:20.575Z"
   },
   {
    "duration": 8,
    "start_time": "2022-08-05T00:25:21.334Z"
   },
   {
    "duration": 327,
    "start_time": "2022-08-05T00:25:21.344Z"
   },
   {
    "duration": 5,
    "start_time": "2022-08-05T00:25:21.673Z"
   },
   {
    "duration": 6,
    "start_time": "2022-08-05T00:25:21.680Z"
   },
   {
    "duration": 28,
    "start_time": "2022-08-05T00:25:21.687Z"
   },
   {
    "duration": 10,
    "start_time": "2022-08-05T00:25:21.717Z"
   },
   {
    "duration": 93,
    "start_time": "2022-08-05T00:25:21.728Z"
   },
   {
    "duration": 89,
    "start_time": "2022-08-05T00:25:21.823Z"
   },
   {
    "duration": 3,
    "start_time": "2022-08-05T00:25:21.913Z"
   },
   {
    "duration": 6,
    "start_time": "2022-08-05T00:25:21.918Z"
   },
   {
    "duration": 12,
    "start_time": "2022-08-05T00:25:21.926Z"
   },
   {
    "duration": 264,
    "start_time": "2022-08-05T00:25:21.940Z"
   },
   {
    "duration": 0,
    "start_time": "2022-08-05T00:25:22.211Z"
   },
   {
    "duration": 0,
    "start_time": "2022-08-05T00:25:22.213Z"
   },
   {
    "duration": 0,
    "start_time": "2022-08-05T00:25:22.214Z"
   },
   {
    "duration": 2,
    "start_time": "2022-08-05T00:25:53.671Z"
   },
   {
    "duration": 4,
    "start_time": "2022-08-05T00:25:55.399Z"
   },
   {
    "duration": 3,
    "start_time": "2022-08-05T00:25:58.423Z"
   },
   {
    "duration": 5,
    "start_time": "2022-08-05T00:26:45.453Z"
   },
   {
    "duration": 4,
    "start_time": "2022-08-05T00:38:16.970Z"
   },
   {
    "duration": 9,
    "start_time": "2022-08-05T00:39:56.873Z"
   },
   {
    "duration": 7,
    "start_time": "2022-08-05T00:40:38.579Z"
   },
   {
    "duration": 10,
    "start_time": "2022-08-05T00:41:10.716Z"
   },
   {
    "duration": 10,
    "start_time": "2022-08-05T00:41:18.862Z"
   },
   {
    "duration": 7,
    "start_time": "2022-08-05T00:41:35.959Z"
   },
   {
    "duration": 123,
    "start_time": "2022-08-06T14:45:07.815Z"
   },
   {
    "duration": 7324,
    "start_time": "2022-08-06T20:06:58.432Z"
   },
   {
    "duration": 1515,
    "start_time": "2022-08-06T20:07:05.758Z"
   },
   {
    "duration": 100,
    "start_time": "2022-08-06T20:07:07.275Z"
   },
   {
    "duration": 4,
    "start_time": "2022-08-06T20:07:07.378Z"
   },
   {
    "duration": 21,
    "start_time": "2022-08-06T20:07:07.383Z"
   },
   {
    "duration": 12,
    "start_time": "2022-08-06T20:07:07.406Z"
   },
   {
    "duration": 11,
    "start_time": "2022-08-06T20:07:07.420Z"
   },
   {
    "duration": 21,
    "start_time": "2022-08-06T20:07:07.432Z"
   },
   {
    "duration": 6,
    "start_time": "2022-08-06T20:07:07.456Z"
   },
   {
    "duration": 10,
    "start_time": "2022-08-06T20:07:07.466Z"
   },
   {
    "duration": 46,
    "start_time": "2022-08-06T20:07:07.479Z"
   },
   {
    "duration": 3861,
    "start_time": "2022-08-06T20:07:07.526Z"
   },
   {
    "duration": 3,
    "start_time": "2022-08-06T20:07:11.389Z"
   },
   {
    "duration": 11,
    "start_time": "2022-08-06T20:07:11.393Z"
   },
   {
    "duration": 188,
    "start_time": "2022-08-06T20:07:11.406Z"
   },
   {
    "duration": 103,
    "start_time": "2022-08-06T20:07:11.596Z"
   },
   {
    "duration": 101,
    "start_time": "2022-08-06T20:07:11.701Z"
   },
   {
    "duration": 15,
    "start_time": "2022-08-06T20:07:11.805Z"
   },
   {
    "duration": 15,
    "start_time": "2022-08-06T20:07:11.822Z"
   },
   {
    "duration": 15,
    "start_time": "2022-08-06T20:07:11.840Z"
   },
   {
    "duration": 44,
    "start_time": "2022-08-06T20:07:11.857Z"
   },
   {
    "duration": 23,
    "start_time": "2022-08-06T20:07:11.904Z"
   },
   {
    "duration": 9,
    "start_time": "2022-08-06T20:07:11.929Z"
   },
   {
    "duration": 8,
    "start_time": "2022-08-06T20:07:11.940Z"
   },
   {
    "duration": 1255,
    "start_time": "2022-08-06T20:07:11.950Z"
   },
   {
    "duration": 10,
    "start_time": "2022-08-06T20:07:13.207Z"
   },
   {
    "duration": 790,
    "start_time": "2022-08-06T20:07:13.218Z"
   },
   {
    "duration": 9,
    "start_time": "2022-08-06T20:07:14.011Z"
   },
   {
    "duration": 911,
    "start_time": "2022-08-06T20:07:14.022Z"
   },
   {
    "duration": 10,
    "start_time": "2022-08-06T20:07:14.935Z"
   },
   {
    "duration": 355,
    "start_time": "2022-08-06T20:07:14.947Z"
   },
   {
    "duration": 5,
    "start_time": "2022-08-06T20:07:15.304Z"
   },
   {
    "duration": 9,
    "start_time": "2022-08-06T20:07:15.310Z"
   },
   {
    "duration": 12,
    "start_time": "2022-08-06T20:07:15.321Z"
   },
   {
    "duration": 105,
    "start_time": "2022-08-06T20:07:15.392Z"
   },
   {
    "duration": 92,
    "start_time": "2022-08-06T20:07:15.500Z"
   },
   {
    "duration": 11,
    "start_time": "2022-08-06T20:07:15.595Z"
   },
   {
    "duration": 12,
    "start_time": "2022-08-06T20:07:15.608Z"
   },
   {
    "duration": 74,
    "start_time": "2022-08-06T20:07:15.623Z"
   },
   {
    "duration": 14,
    "start_time": "2022-08-06T20:07:15.699Z"
   },
   {
    "duration": 83,
    "start_time": "2022-08-06T20:07:15.715Z"
   },
   {
    "duration": 8,
    "start_time": "2022-08-06T20:07:15.800Z"
   },
   {
    "duration": 84,
    "start_time": "2022-08-06T20:07:15.809Z"
   },
   {
    "duration": 19,
    "start_time": "2022-08-06T20:07:15.895Z"
   },
   {
    "duration": 6,
    "start_time": "2022-08-06T20:07:15.916Z"
   },
   {
    "duration": 10,
    "start_time": "2022-08-06T20:07:15.924Z"
   },
   {
    "duration": 64,
    "start_time": "2022-08-06T20:07:15.936Z"
   },
   {
    "duration": 74,
    "start_time": "2022-08-06T20:08:10.900Z"
   },
   {
    "duration": 75,
    "start_time": "2022-08-06T20:24:48.496Z"
   },
   {
    "duration": 78,
    "start_time": "2022-08-06T20:26:11.862Z"
   }
  ],
  "kernelspec": {
   "display_name": "Python 3 (ipykernel)",
   "language": "python",
   "name": "python3"
  },
  "language_info": {
   "codemirror_mode": {
    "name": "ipython",
    "version": 3
   },
   "file_extension": ".py",
   "mimetype": "text/x-python",
   "name": "python",
   "nbconvert_exporter": "python",
   "pygments_lexer": "ipython3",
   "version": "3.9.12"
  },
  "toc": {
   "base_numbering": 1,
   "nav_menu": {},
   "number_sections": true,
   "sideBar": true,
   "skip_h1_title": true,
   "title_cell": "Table of Contents",
   "title_sidebar": "Contents",
   "toc_cell": false,
   "toc_position": {},
   "toc_section_display": true,
   "toc_window_display": false
  }
 },
 "nbformat": 4,
 "nbformat_minor": 4
}
