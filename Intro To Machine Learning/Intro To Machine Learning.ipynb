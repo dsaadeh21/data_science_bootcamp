{
 "cells": [
  {
   "cell_type": "markdown",
   "metadata": {},
   "source": [
    "# INTRODUCTION\n",
    "The purpose of this project is to build the model that results in the best accuracy (0.75 or better) for predicting the correct Megaline plan (Smart or Ultra) based on a number of user tendencies including call duration and minute, text and data usage."
   ]
  },
  {
   "cell_type": "code",
   "execution_count": 1,
   "metadata": {},
   "outputs": [],
   "source": [
    "import pandas as pd\n",
    "import numpy as np\n",
    "from sklearn.ensemble import RandomForestClassifier\n",
    "from sklearn.model_selection import train_test_split\n",
    "from sklearn.metrics import mean_squared_error\n",
    "from sklearn.tree import DecisionTreeRegressor\n",
    "from sklearn.tree import DecisionTreeClassifier\n",
    "from sklearn.metrics import accuracy_score\n",
    "from sklearn.preprocessing import StandardScaler\n",
    "from sklearn.datasets import load_iris\n",
    "from sklearn import metrics\n",
    "from sklearn.metrics import mean_squared_error, r2_score\n",
    "import matplotlib.pyplot as plt\n",
    "from sklearn.linear_model import LinearRegression\n",
    "from sklearn.linear_model import LogisticRegression\n",
    "import seaborn as sns\n",
    "from joblib import dump"
   ]
  },
  {
   "cell_type": "code",
   "execution_count": 2,
   "metadata": {},
   "outputs": [],
   "source": [
    "df=pd.read_csv('/datasets/users_behavior.csv')"
   ]
  },
  {
   "cell_type": "code",
   "execution_count": 3,
   "metadata": {
    "scrolled": true
   },
   "outputs": [
    {
     "data": {
      "text/html": [
       "<div>\n",
       "<style scoped>\n",
       "    .dataframe tbody tr th:only-of-type {\n",
       "        vertical-align: middle;\n",
       "    }\n",
       "\n",
       "    .dataframe tbody tr th {\n",
       "        vertical-align: top;\n",
       "    }\n",
       "\n",
       "    .dataframe thead th {\n",
       "        text-align: right;\n",
       "    }\n",
       "</style>\n",
       "<table border=\"1\" class=\"dataframe\">\n",
       "  <thead>\n",
       "    <tr style=\"text-align: right;\">\n",
       "      <th></th>\n",
       "      <th>calls</th>\n",
       "      <th>minutes</th>\n",
       "      <th>messages</th>\n",
       "      <th>mb_used</th>\n",
       "      <th>is_ultra</th>\n",
       "    </tr>\n",
       "  </thead>\n",
       "  <tbody>\n",
       "    <tr>\n",
       "      <th>0</th>\n",
       "      <td>40.0</td>\n",
       "      <td>311.90</td>\n",
       "      <td>83.0</td>\n",
       "      <td>19915.42</td>\n",
       "      <td>0</td>\n",
       "    </tr>\n",
       "    <tr>\n",
       "      <th>1</th>\n",
       "      <td>85.0</td>\n",
       "      <td>516.75</td>\n",
       "      <td>56.0</td>\n",
       "      <td>22696.96</td>\n",
       "      <td>0</td>\n",
       "    </tr>\n",
       "    <tr>\n",
       "      <th>2</th>\n",
       "      <td>77.0</td>\n",
       "      <td>467.66</td>\n",
       "      <td>86.0</td>\n",
       "      <td>21060.45</td>\n",
       "      <td>0</td>\n",
       "    </tr>\n",
       "    <tr>\n",
       "      <th>3</th>\n",
       "      <td>106.0</td>\n",
       "      <td>745.53</td>\n",
       "      <td>81.0</td>\n",
       "      <td>8437.39</td>\n",
       "      <td>1</td>\n",
       "    </tr>\n",
       "    <tr>\n",
       "      <th>4</th>\n",
       "      <td>66.0</td>\n",
       "      <td>418.74</td>\n",
       "      <td>1.0</td>\n",
       "      <td>14502.75</td>\n",
       "      <td>0</td>\n",
       "    </tr>\n",
       "  </tbody>\n",
       "</table>\n",
       "</div>"
      ],
      "text/plain": [
       "   calls  minutes  messages   mb_used  is_ultra\n",
       "0   40.0   311.90      83.0  19915.42         0\n",
       "1   85.0   516.75      56.0  22696.96         0\n",
       "2   77.0   467.66      86.0  21060.45         0\n",
       "3  106.0   745.53      81.0   8437.39         1\n",
       "4   66.0   418.74       1.0  14502.75         0"
      ]
     },
     "execution_count": 3,
     "metadata": {},
     "output_type": "execute_result"
    }
   ],
   "source": [
    "df\n",
    "df.head()"
   ]
  },
  {
   "cell_type": "code",
   "execution_count": 4,
   "metadata": {},
   "outputs": [
    {
     "data": {
      "text/plain": [
       "(3214, 5)"
      ]
     },
     "execution_count": 4,
     "metadata": {},
     "output_type": "execute_result"
    }
   ],
   "source": [
    "df.shape"
   ]
  },
  {
   "cell_type": "code",
   "execution_count": 5,
   "metadata": {
    "scrolled": true
   },
   "outputs": [
    {
     "name": "stdout",
     "output_type": "stream",
     "text": [
      "<class 'pandas.core.frame.DataFrame'>\n",
      "RangeIndex: 3214 entries, 0 to 3213\n",
      "Data columns (total 5 columns):\n",
      " #   Column    Non-Null Count  Dtype  \n",
      "---  ------    --------------  -----  \n",
      " 0   calls     3214 non-null   float64\n",
      " 1   minutes   3214 non-null   float64\n",
      " 2   messages  3214 non-null   float64\n",
      " 3   mb_used   3214 non-null   float64\n",
      " 4   is_ultra  3214 non-null   int64  \n",
      "dtypes: float64(4), int64(1)\n",
      "memory usage: 125.7 KB\n"
     ]
    }
   ],
   "source": [
    "df.info()"
   ]
  },
  {
   "cell_type": "code",
   "execution_count": 6,
   "metadata": {
    "scrolled": true
   },
   "outputs": [
    {
     "data": {
      "text/plain": [
       "calls       0\n",
       "minutes     0\n",
       "messages    0\n",
       "mb_used     0\n",
       "is_ultra    0\n",
       "dtype: int64"
      ]
     },
     "execution_count": 6,
     "metadata": {},
     "output_type": "execute_result"
    }
   ],
   "source": [
    "df.isna().sum()"
   ]
  },
  {
   "cell_type": "code",
   "execution_count": 7,
   "metadata": {
    "scrolled": true
   },
   "outputs": [
    {
     "data": {
      "text/plain": [
       "0"
      ]
     },
     "execution_count": 7,
     "metadata": {},
     "output_type": "execute_result"
    }
   ],
   "source": [
    "df.duplicated().sum()"
   ]
  },
  {
   "cell_type": "code",
   "execution_count": 8,
   "metadata": {
    "scrolled": false
   },
   "outputs": [
    {
     "data": {
      "text/plain": [
       "0    2229\n",
       "1     985\n",
       "Name: is_ultra, dtype: int64"
      ]
     },
     "execution_count": 8,
     "metadata": {},
     "output_type": "execute_result"
    }
   ],
   "source": [
    "df[\"is_ultra\"].value_counts()"
   ]
  },
  {
   "cell_type": "code",
   "execution_count": 9,
   "metadata": {},
   "outputs": [],
   "source": [
    "features=df.drop([\"is_ultra\"], axis=1)"
   ]
  },
  {
   "cell_type": "code",
   "execution_count": 10,
   "metadata": {},
   "outputs": [],
   "source": [
    "target=df[\"is_ultra\"]"
   ]
  },
  {
   "cell_type": "code",
   "execution_count": 11,
   "metadata": {},
   "outputs": [],
   "source": [
    "df_train, df_valid = train_test_split(df, test_size=0.20, random_state=12345)\n",
    "df_train, df_test=train_test_split(df_train, test_size=0.20, random_state=12345)"
   ]
  },
  {
   "cell_type": "markdown",
   "metadata": {},
   "source": [
    "* Above, the data is split into three sets: validation set, test set, and training set."
   ]
  },
  {
   "cell_type": "code",
   "execution_count": 12,
   "metadata": {
    "scrolled": false
   },
   "outputs": [
    {
     "name": "stdout",
     "output_type": "stream",
     "text": [
      "The actual size of the validation set is 0.2000622277535781\n",
      "The actual size of the training set is 0.6397013067828251\n",
      "The actual size of the test set is 0.16023646546359677\n"
     ]
    }
   ],
   "source": [
    "print(\"The actual size of the validation set is\", len(df_valid) / len(df))\n",
    "print(\"The actual size of the training set is\", len(df_train) /len(df))\n",
    "print(\"The actual size of the test set is\", len(df_test) / len(df))"
   ]
  },
  {
   "cell_type": "code",
   "execution_count": 13,
   "metadata": {},
   "outputs": [],
   "source": [
    "features_train = df_train.drop([\"is_ultra\"], axis=1)\n",
    "target_train = df_train['is_ultra']\n",
    "features_valid = df_valid.drop(['is_ultra'], axis=1)\n",
    "target_valid = df_valid['is_ultra']\n",
    "features_test=df_test.drop([\"is_ultra\"], axis=1)\n",
    "target_test=df_test['is_ultra']"
   ]
  },
  {
   "cell_type": "markdown",
   "metadata": {},
   "source": [
    "* First, I will begin using the Random Forest Model, and search for the best n_estimators and max_depth hyperparameter that result in the highest accuracy score."
   ]
  },
  {
   "cell_type": "code",
   "execution_count": 14,
   "metadata": {
    "scrolled": true
   },
   "outputs": [
    {
     "name": "stdout",
     "output_type": "stream",
     "text": [
      "The accuracy score of the best model on the validation set: 0.7558320373250389 n_estimators: 20 best_depth: 10\n"
     ]
    }
   ],
   "source": [
    "best_model = None\n",
    "best_result = 10000\n",
    "best_est = 0\n",
    "best_depth = 0\n",
    "for est in range(10, 51, 10):\n",
    "    for depth in range (1, 11):\n",
    "        model = RandomForestClassifier(random_state=12345, n_estimators=est, max_depth=depth) # initialize model constructor with parameters random_state=12345 and n_estimators=est\n",
    "        model.fit(features_train, target_train) # train model on training set\n",
    "        predictions_valid = model.predict(features_valid) # get model predictions on validation set\n",
    "        result = model.score(features_valid, target_valid)\n",
    "        if result < best_result:\n",
    "            best_model = model\n",
    "            best_result = result\n",
    "            best_est = est\n",
    "            best_depth = depth\n",
    "\n",
    "print(\"The accuracy score of the best model on the validation set:\", best_result, \"n_estimators:\", best_est, \"best_depth:\", depth)"
   ]
  },
  {
   "cell_type": "code",
   "execution_count": 15,
   "metadata": {},
   "outputs": [
    {
     "data": {
      "text/plain": [
       "RandomForestClassifier(max_depth=10, n_estimators=20, random_state=54321)"
      ]
     },
     "execution_count": 15,
     "metadata": {},
     "output_type": "execute_result"
    }
   ],
   "source": [
    "final_model = RandomForestClassifier(random_state=54321, n_estimators=20, max_depth=10) # change n_estimators to get best model\n",
    "final_model.fit(features_train, target_train)"
   ]
  },
  {
   "cell_type": "code",
   "execution_count": 16,
   "metadata": {},
   "outputs": [],
   "source": [
    "y_pred=final_model.predict(features_test)"
   ]
  },
  {
   "cell_type": "code",
   "execution_count": 17,
   "metadata": {},
   "outputs": [
    {
     "data": {
      "text/plain": [
       "0.7728155339805826"
      ]
     },
     "execution_count": 17,
     "metadata": {},
     "output_type": "execute_result"
    }
   ],
   "source": [
    "acc=final_model.score(features_test, target_test)\n",
    "acc"
   ]
  },
  {
   "cell_type": "code",
   "execution_count": 18,
   "metadata": {},
   "outputs": [],
   "source": [
    "conf_matrix = metrics.confusion_matrix(target_test, y_pred)"
   ]
  },
  {
   "cell_type": "code",
   "execution_count": 19,
   "metadata": {
    "scrolled": true
   },
   "outputs": [
    {
     "name": "stdout",
     "output_type": "stream",
     "text": [
      "Accuracy of the RandomForest model on the test set is 0.7728155339805826\n"
     ]
    }
   ],
   "source": [
    "print(\"Accuracy of the RandomForest model on the test set is\", acc)"
   ]
  },
  {
   "cell_type": "code",
   "execution_count": 20,
   "metadata": {},
   "outputs": [
    {
     "data": {
      "image/png": "[encoded data removed]",
      "text/plain": [
       "<Figure size 648x648 with 2 Axes>"
      ]
     },
     "metadata": {
      "needs_background": "light"
     },
     "output_type": "display_data"
    }
   ],
   "source": [
    "plt.figure(figsize=(9,9))\n",
    "sns.heatmap(conf_matrix, annot=True, fmt=\".3f\", linewidths=.5, square = True, cmap = 'Blues_r');\n",
    "plt.ylabel('Actual label');\n",
    "plt.xlabel('Predicted label');\n",
    "all_sample_title = 'Accuracy Score: {0}'.format(acc)\n",
    "plt.title(all_sample_title, size = 15);"
   ]
  },
  {
   "cell_type": "markdown",
   "metadata": {},
   "source": [
    "* The confustion matrix above outlines the exact number of accurate and inaccurate predictions. I will be using a confusion matrix for each model's determined accuracy score."
   ]
  },
  {
   "cell_type": "code",
   "execution_count": 21,
   "metadata": {},
   "outputs": [],
   "source": [
    "accuracy = accuracy_score(target_test, y_pred)"
   ]
  },
  {
   "cell_type": "code",
   "execution_count": 22,
   "metadata": {
    "scrolled": true
   },
   "outputs": [
    {
     "data": {
      "text/plain": [
       "0.7728155339805826"
      ]
     },
     "execution_count": 22,
     "metadata": {},
     "output_type": "execute_result"
    }
   ],
   "source": [
    "accuracy"
   ]
  },
  {
   "cell_type": "markdown",
   "metadata": {},
   "source": [
    "* Next, I will try Decision Tree Classifier. "
   ]
  },
  {
   "cell_type": "code",
   "execution_count": 23,
   "metadata": {},
   "outputs": [
    {
     "name": "stdout",
     "output_type": "stream",
     "text": [
      "max_depth = 1 : 0.7480559875583204\n",
      "max_depth = 2 : 0.7838258164852255\n",
      "max_depth = 3 : 0.7869362363919129\n",
      "max_depth = 4 : 0.7884914463452566\n",
      "max_depth = 5 : 0.7791601866251944\n",
      "max_depth = 6 : 0.7838258164852255\n",
      "max_depth = 7 : 0.7916018662519441\n",
      "max_depth = 8 : 0.7853810264385692\n",
      "max_depth = 9 : 0.7869362363919129\n",
      "max_depth = 10 : 0.7900466562986003\n"
     ]
    }
   ],
   "source": [
    "for depth in range(1,11):\n",
    "    model=DecisionTreeClassifier(random_state=12345, max_depth=depth)\n",
    "    model.fit(features_train, target_train)\n",
    "    predictions_valid= model.predict(features_valid)\n",
    "    print(\"max_depth =\", depth, \": \", end='')\n",
    "    print(accuracy_score(target_valid, predictions_valid)) "
   ]
  },
  {
   "cell_type": "markdown",
   "metadata": {},
   "source": [
    "* The best max_depth hyperparameter results in max_depth=7 for the DecisionTree model, so I will use the test set to test the model."
   ]
  },
  {
   "cell_type": "code",
   "execution_count": 24,
   "metadata": {},
   "outputs": [],
   "source": [
    "final_model2=DecisionTreeClassifier(random_state=12345, max_depth=7)\n",
    "final_model2.fit(features_train, target_train)\n",
    "y_pred2=final_model2.predict(features_test)"
   ]
  },
  {
   "cell_type": "code",
   "execution_count": 25,
   "metadata": {},
   "outputs": [],
   "source": [
    "acc2=final_model2.score(features_test, target_test)"
   ]
  },
  {
   "cell_type": "code",
   "execution_count": 26,
   "metadata": {
    "scrolled": true
   },
   "outputs": [
    {
     "data": {
      "text/plain": [
       "0.7650485436893204"
      ]
     },
     "execution_count": 26,
     "metadata": {},
     "output_type": "execute_result"
    }
   ],
   "source": [
    "acc2"
   ]
  },
  {
   "cell_type": "code",
   "execution_count": 27,
   "metadata": {},
   "outputs": [
    {
     "data": {
      "text/plain": [
       "0.7650485436893204"
      ]
     },
     "execution_count": 27,
     "metadata": {},
     "output_type": "execute_result"
    }
   ],
   "source": [
    "accuracy2=accuracy_score(target_test, y_pred2)\n",
    "accuracy2"
   ]
  },
  {
   "cell_type": "code",
   "execution_count": 28,
   "metadata": {
    "scrolled": true
   },
   "outputs": [
    {
     "name": "stdout",
     "output_type": "stream",
     "text": [
      "Accuracy of the Decision Tree model on the test set is 0.7650485436893204\n"
     ]
    }
   ],
   "source": [
    "print(\"Accuracy of the Decision Tree model on the test set is\", acc2)"
   ]
  },
  {
   "cell_type": "code",
   "execution_count": 29,
   "metadata": {},
   "outputs": [],
   "source": [
    "y_pred2=final_model2.predict(features_test)"
   ]
  },
  {
   "cell_type": "code",
   "execution_count": 30,
   "metadata": {},
   "outputs": [],
   "source": [
    "conf_matrix2 = metrics.confusion_matrix(target_test, y_pred2)"
   ]
  },
  {
   "cell_type": "code",
   "execution_count": 31,
   "metadata": {},
   "outputs": [
    {
     "data": {
      "image/png": "[encoded data removed]",
      "text/plain": [
       "<Figure size 648x648 with 2 Axes>"
      ]
     },
     "metadata": {
      "needs_background": "light"
     },
     "output_type": "display_data"
    }
   ],
   "source": [
    "plt.figure(figsize=(9,9))\n",
    "sns.heatmap(conf_matrix2, annot=True, fmt=\".3f\", linewidths=.5, square = True, cmap = 'Blues_r');\n",
    "plt.ylabel('Actual label');\n",
    "plt.xlabel('Predicted label');\n",
    "all_sample_title = 'Accuracy Score: {0}'.format(acc2)\n",
    "plt.title(all_sample_title, size = 15);"
   ]
  },
  {
   "cell_type": "code",
   "execution_count": 32,
   "metadata": {},
   "outputs": [
    {
     "data": {
      "text/plain": [
       "['model_9_1.joblib']"
      ]
     },
     "execution_count": 32,
     "metadata": {},
     "output_type": "execute_result"
    }
   ],
   "source": [
    "model=LogisticRegression(random_state=12345, solver='lbfgs')\n",
    "model.fit(features_train, target_train)\n",
    "model.score(features_train, target_train)\n",
    "dump(model, 'model_9_1.joblib')"
   ]
  },
  {
   "cell_type": "code",
   "execution_count": 33,
   "metadata": {},
   "outputs": [],
   "source": [
    "acc3=model.score(features_test, target_test)"
   ]
  },
  {
   "cell_type": "code",
   "execution_count": 34,
   "metadata": {},
   "outputs": [
    {
     "data": {
      "text/plain": [
       "0.7165048543689321"
      ]
     },
     "execution_count": 34,
     "metadata": {},
     "output_type": "execute_result"
    }
   ],
   "source": [
    "acc3"
   ]
  },
  {
   "cell_type": "code",
   "execution_count": 35,
   "metadata": {},
   "outputs": [],
   "source": [
    "y_pred3=model.predict(features_test)"
   ]
  },
  {
   "cell_type": "code",
   "execution_count": 36,
   "metadata": {},
   "outputs": [],
   "source": [
    "accuracy3=accuracy_score(target_test, y_pred3)"
   ]
  },
  {
   "cell_type": "code",
   "execution_count": 37,
   "metadata": {},
   "outputs": [
    {
     "name": "stdout",
     "output_type": "stream",
     "text": [
      "The accuracy score for the Logistic Regression model is 0.7165048543689321\n"
     ]
    }
   ],
   "source": [
    "print(\"The accuracy score for the Logistic Regression model is\", accuracy3)"
   ]
  },
  {
   "cell_type": "code",
   "execution_count": 38,
   "metadata": {},
   "outputs": [],
   "source": [
    "conf_matrix3 = metrics.confusion_matrix(target_test, y_pred3)"
   ]
  },
  {
   "cell_type": "code",
   "execution_count": 39,
   "metadata": {},
   "outputs": [
    {
     "data": {
      "image/png": "[encoded data removed]",
      "text/plain": [
       "<Figure size 648x648 with 2 Axes>"
      ]
     },
     "metadata": {
      "needs_background": "light"
     },
     "output_type": "display_data"
    }
   ],
   "source": [
    "plt.figure(figsize=(9,9))\n",
    "sns.heatmap(conf_matrix2, annot=True, fmt=\".3f\", linewidths=.5, square = True, cmap = 'Blues_r');\n",
    "plt.ylabel('Actual label');\n",
    "plt.xlabel('Predicted label');\n",
    "all_sample_title = 'Accuracy Score: {0}'.format(acc3)\n",
    "plt.title(all_sample_title, size = 15);"
   ]
  },
  {
   "cell_type": "markdown",
   "metadata": {},
   "source": [
    "# CONCLUSION\n",
    "* In order to determine the model that would generate the highest accuracy score, the original dataset was categorized accordingly by identifying the ['is_ultra'] column as the target or dependent variable and all the remaining columns as respective features or independent variables. The dataset was previously preprocessed and ready to train, with no missing values or duplicates. Prior to training each model, the dataset was split into three sets:a training set (60%), a test set(20%) and a validation set (20%). The actual size of each set was determined to be 63.9%, 16.1% and 20% respectively.\n",
    "\n",
    "\n",
    "* It is important to note that the target variable [\"is_ultra\"] contained about half as many ultra users (['is_ultra']=1), compared to Smart users (['is_ultra']=0), so it was disproportionate. After tuning the hyperparameters accordingly, the model that has the best accuracy out of all three classification models was the first model, which was the RandomForestClassifier model (max_depth=10, n_estimators=20, random_state=54321).\n",
    "\n",
    "\n",
    "* The RandomForest model resulted in an accuracy score of 77.28%. The Decision Tree Classifier model (max_depth=7) resulted in an accuracy score of 76.50%. Finally, the Logistic Regression model came in last with an accuracy score of 71.65%. "
   ]
  }
 ],
 "metadata": {
  "ExecuteTimeLog": [
   {
    "duration": 10,
    "start_time": "2022-06-10T03:31:12.919Z"
   },
   {
    "duration": 30,
    "start_time": "2022-06-10T03:31:49.526Z"
   },
   {
    "duration": 13,
    "start_time": "2022-06-10T03:31:51.718Z"
   },
   {
    "duration": 3,
    "start_time": "2022-06-10T03:32:53.479Z"
   },
   {
    "duration": 4,
    "start_time": "2022-06-10T03:36:51.643Z"
   },
   {
    "duration": 11,
    "start_time": "2022-06-10T03:36:56.852Z"
   },
   {
    "duration": 5,
    "start_time": "2022-06-10T03:37:02.743Z"
   },
   {
    "duration": 5,
    "start_time": "2022-06-10T03:41:01.421Z"
   },
   {
    "duration": 49,
    "start_time": "2022-06-11T14:21:03.396Z"
   },
   {
    "duration": 1461,
    "start_time": "2022-06-11T14:21:06.224Z"
   },
   {
    "duration": 114,
    "start_time": "2022-06-11T14:21:08.908Z"
   },
   {
    "duration": 13,
    "start_time": "2022-06-11T14:21:10.667Z"
   },
   {
    "duration": 3,
    "start_time": "2022-06-11T14:21:26.076Z"
   },
   {
    "duration": 11,
    "start_time": "2022-06-11T14:21:35.066Z"
   },
   {
    "duration": 6,
    "start_time": "2022-06-11T14:21:56.024Z"
   },
   {
    "duration": 70,
    "start_time": "2022-06-11T14:22:37.431Z"
   },
   {
    "duration": 7,
    "start_time": "2022-06-11T14:22:46.463Z"
   },
   {
    "duration": 7,
    "start_time": "2022-06-11T14:22:54.654Z"
   },
   {
    "duration": 9,
    "start_time": "2022-06-11T14:37:05.111Z"
   },
   {
    "duration": 4,
    "start_time": "2022-06-11T14:37:08.160Z"
   },
   {
    "duration": 4,
    "start_time": "2022-06-11T14:37:09.837Z"
   },
   {
    "duration": 4,
    "start_time": "2022-06-11T14:37:45.260Z"
   },
   {
    "duration": 6,
    "start_time": "2022-06-11T14:59:43.193Z"
   },
   {
    "duration": 12,
    "start_time": "2022-06-11T14:59:49.594Z"
   },
   {
    "duration": 6,
    "start_time": "2022-06-11T14:59:53.537Z"
   },
   {
    "duration": 55,
    "start_time": "2022-06-11T21:06:14.483Z"
   },
   {
    "duration": 6,
    "start_time": "2022-06-11T21:06:20.160Z"
   },
   {
    "duration": 1358,
    "start_time": "2022-06-11T21:06:37.033Z"
   },
   {
    "duration": 103,
    "start_time": "2022-06-11T21:06:38.393Z"
   },
   {
    "duration": 13,
    "start_time": "2022-06-11T21:06:38.497Z"
   },
   {
    "duration": 4,
    "start_time": "2022-06-11T21:06:38.511Z"
   },
   {
    "duration": 12,
    "start_time": "2022-06-11T21:06:38.517Z"
   },
   {
    "duration": 5,
    "start_time": "2022-06-11T21:06:38.531Z"
   },
   {
    "duration": 9,
    "start_time": "2022-06-11T21:06:38.537Z"
   },
   {
    "duration": 101,
    "start_time": "2022-06-11T21:06:38.547Z"
   },
   {
    "duration": 0,
    "start_time": "2022-06-11T21:06:38.651Z"
   },
   {
    "duration": 0,
    "start_time": "2022-06-11T21:06:38.652Z"
   },
   {
    "duration": 0,
    "start_time": "2022-06-11T21:06:38.653Z"
   },
   {
    "duration": 0,
    "start_time": "2022-06-11T21:06:38.654Z"
   },
   {
    "duration": 0,
    "start_time": "2022-06-11T21:06:38.655Z"
   },
   {
    "duration": 0,
    "start_time": "2022-06-11T21:06:38.656Z"
   },
   {
    "duration": 0,
    "start_time": "2022-06-11T21:06:38.657Z"
   },
   {
    "duration": 0,
    "start_time": "2022-06-11T21:06:38.658Z"
   },
   {
    "duration": 1257,
    "start_time": "2022-06-11T21:07:51.467Z"
   },
   {
    "duration": 27,
    "start_time": "2022-06-11T21:07:52.726Z"
   },
   {
    "duration": 13,
    "start_time": "2022-06-11T21:07:52.755Z"
   },
   {
    "duration": 4,
    "start_time": "2022-06-11T21:07:52.769Z"
   },
   {
    "duration": 11,
    "start_time": "2022-06-11T21:07:52.776Z"
   },
   {
    "duration": 6,
    "start_time": "2022-06-11T21:07:52.788Z"
   },
   {
    "duration": 7,
    "start_time": "2022-06-11T21:07:52.796Z"
   },
   {
    "duration": 6,
    "start_time": "2022-06-11T21:07:52.804Z"
   },
   {
    "duration": 132,
    "start_time": "2022-06-11T21:07:52.812Z"
   },
   {
    "duration": 0,
    "start_time": "2022-06-11T21:07:52.946Z"
   },
   {
    "duration": 0,
    "start_time": "2022-06-11T21:07:52.947Z"
   },
   {
    "duration": 0,
    "start_time": "2022-06-11T21:07:52.948Z"
   },
   {
    "duration": 5,
    "start_time": "2022-06-11T21:08:08.810Z"
   },
   {
    "duration": 4,
    "start_time": "2022-06-11T21:08:41.928Z"
   },
   {
    "duration": 3,
    "start_time": "2022-06-11T21:08:52.299Z"
   },
   {
    "duration": 11,
    "start_time": "2022-06-11T21:08:53.898Z"
   },
   {
    "duration": 12,
    "start_time": "2022-06-11T21:08:57.632Z"
   },
   {
    "duration": 6,
    "start_time": "2022-06-11T21:09:09.132Z"
   },
   {
    "duration": 10,
    "start_time": "2022-06-11T21:09:11.935Z"
   },
   {
    "duration": 4,
    "start_time": "2022-06-11T21:09:28.815Z"
   },
   {
    "duration": 5,
    "start_time": "2022-06-11T21:09:34.266Z"
   },
   {
    "duration": 5,
    "start_time": "2022-06-11T21:10:03.613Z"
   },
   {
    "duration": 8,
    "start_time": "2022-06-11T21:14:32.243Z"
   },
   {
    "duration": 4,
    "start_time": "2022-06-11T21:14:48.960Z"
   },
   {
    "duration": 3,
    "start_time": "2022-06-11T21:14:50.645Z"
   },
   {
    "duration": 12,
    "start_time": "2022-06-11T21:14:52.350Z"
   },
   {
    "duration": 12,
    "start_time": "2022-06-11T21:15:03.264Z"
   },
   {
    "duration": 5,
    "start_time": "2022-06-11T21:24:13.235Z"
   },
   {
    "duration": 5,
    "start_time": "2022-06-11T21:25:07.159Z"
   },
   {
    "duration": 11,
    "start_time": "2022-06-11T21:25:11.122Z"
   },
   {
    "duration": 4,
    "start_time": "2022-06-11T21:25:22.753Z"
   },
   {
    "duration": 10,
    "start_time": "2022-06-11T21:29:40.164Z"
   },
   {
    "duration": 4,
    "start_time": "2022-06-11T21:29:53.166Z"
   },
   {
    "duration": 284,
    "start_time": "2022-06-11T21:29:56.589Z"
   },
   {
    "duration": 25,
    "start_time": "2022-06-11T21:35:58.285Z"
   },
   {
    "duration": 29,
    "start_time": "2022-06-11T21:36:09.660Z"
   },
   {
    "duration": 9,
    "start_time": "2022-06-11T21:37:26.993Z"
   },
   {
    "duration": 8,
    "start_time": "2022-06-11T21:37:30.972Z"
   },
   {
    "duration": 4,
    "start_time": "2022-06-11T21:37:35.786Z"
   },
   {
    "duration": 3,
    "start_time": "2022-06-11T21:40:10.468Z"
   },
   {
    "duration": 25,
    "start_time": "2022-06-11T22:00:26.339Z"
   },
   {
    "duration": 81,
    "start_time": "2022-06-11T22:01:07.545Z"
   },
   {
    "duration": 18,
    "start_time": "2022-06-11T22:01:10.676Z"
   },
   {
    "duration": 7,
    "start_time": "2022-06-11T22:03:05.827Z"
   },
   {
    "duration": 4,
    "start_time": "2022-06-11T22:03:16.020Z"
   },
   {
    "duration": 328,
    "start_time": "2022-06-11T22:03:19.108Z"
   },
   {
    "duration": 356,
    "start_time": "2022-06-11T22:06:42.601Z"
   },
   {
    "duration": 4,
    "start_time": "2022-06-11T22:10:18.498Z"
   },
   {
    "duration": 4,
    "start_time": "2022-06-11T22:10:21.558Z"
   },
   {
    "duration": 51,
    "start_time": "2022-06-12T21:54:24.730Z"
   },
   {
    "duration": 1666,
    "start_time": "2022-06-12T21:54:33.260Z"
   },
   {
    "duration": 128,
    "start_time": "2022-06-12T21:54:34.942Z"
   },
   {
    "duration": 15,
    "start_time": "2022-06-12T21:54:35.071Z"
   },
   {
    "duration": 10,
    "start_time": "2022-06-12T21:54:35.088Z"
   },
   {
    "duration": 17,
    "start_time": "2022-06-12T21:54:35.099Z"
   },
   {
    "duration": 9,
    "start_time": "2022-06-12T21:54:35.118Z"
   },
   {
    "duration": 24,
    "start_time": "2022-06-12T21:54:35.128Z"
   },
   {
    "duration": 6,
    "start_time": "2022-06-12T21:54:35.154Z"
   },
   {
    "duration": 9,
    "start_time": "2022-06-12T21:54:35.162Z"
   },
   {
    "duration": 9,
    "start_time": "2022-06-12T21:54:35.174Z"
   },
   {
    "duration": 10,
    "start_time": "2022-06-12T21:54:35.185Z"
   },
   {
    "duration": 7,
    "start_time": "2022-06-12T21:54:35.197Z"
   },
   {
    "duration": 284,
    "start_time": "2022-06-12T21:54:35.206Z"
   },
   {
    "duration": 23,
    "start_time": "2022-06-12T21:54:35.491Z"
   },
   {
    "duration": 21,
    "start_time": "2022-06-12T21:54:35.516Z"
   },
   {
    "duration": 15,
    "start_time": "2022-06-12T21:54:35.542Z"
   },
   {
    "duration": 4,
    "start_time": "2022-06-12T21:54:35.559Z"
   },
   {
    "duration": 7,
    "start_time": "2022-06-12T21:54:35.565Z"
   },
   {
    "duration": 365,
    "start_time": "2022-06-12T21:54:35.573Z"
   },
   {
    "duration": 5,
    "start_time": "2022-06-12T21:54:35.940Z"
   },
   {
    "duration": 7,
    "start_time": "2022-06-12T21:54:35.948Z"
   },
   {
    "duration": 132,
    "start_time": "2022-06-12T21:54:35.957Z"
   },
   {
    "duration": 30,
    "start_time": "2022-06-12T21:56:05.547Z"
   },
   {
    "duration": 19,
    "start_time": "2022-06-12T22:00:08.465Z"
   },
   {
    "duration": 32,
    "start_time": "2022-06-12T22:05:59.542Z"
   },
   {
    "duration": 23,
    "start_time": "2022-06-12T22:06:34.890Z"
   },
   {
    "duration": 17,
    "start_time": "2022-06-12T22:07:04.320Z"
   },
   {
    "duration": 18,
    "start_time": "2022-06-12T22:07:09.380Z"
   },
   {
    "duration": 21,
    "start_time": "2022-06-12T22:07:16.484Z"
   },
   {
    "duration": 5,
    "start_time": "2022-06-12T22:16:32.800Z"
   },
   {
    "duration": 17,
    "start_time": "2022-06-12T22:16:42.854Z"
   },
   {
    "duration": 17,
    "start_time": "2022-06-12T22:17:45.606Z"
   },
   {
    "duration": 16,
    "start_time": "2022-06-12T22:18:11.140Z"
   },
   {
    "duration": 10,
    "start_time": "2022-06-12T22:18:34.448Z"
   },
   {
    "duration": 16,
    "start_time": "2022-06-12T22:18:46.524Z"
   },
   {
    "duration": 27,
    "start_time": "2022-06-12T22:18:48.084Z"
   },
   {
    "duration": 21,
    "start_time": "2022-06-12T22:19:04.979Z"
   },
   {
    "duration": 4,
    "start_time": "2022-06-12T22:19:11.582Z"
   },
   {
    "duration": 24,
    "start_time": "2022-06-12T22:19:19.514Z"
   },
   {
    "duration": 13,
    "start_time": "2022-06-12T22:19:21.992Z"
   },
   {
    "duration": 17,
    "start_time": "2022-06-12T22:19:36.315Z"
   },
   {
    "duration": 4,
    "start_time": "2022-06-12T22:20:14.311Z"
   },
   {
    "duration": 5,
    "start_time": "2022-06-12T22:20:22.452Z"
   },
   {
    "duration": 23,
    "start_time": "2022-06-12T22:20:25.344Z"
   },
   {
    "duration": 18,
    "start_time": "2022-06-12T22:21:01.914Z"
   },
   {
    "duration": 12,
    "start_time": "2022-06-12T22:22:00.414Z"
   },
   {
    "duration": 12,
    "start_time": "2022-06-12T22:22:05.385Z"
   },
   {
    "duration": 6,
    "start_time": "2022-06-12T22:22:16.195Z"
   },
   {
    "duration": 12,
    "start_time": "2022-06-12T22:22:20.649Z"
   },
   {
    "duration": 8,
    "start_time": "2022-06-12T22:22:49.379Z"
   },
   {
    "duration": 5,
    "start_time": "2022-06-12T22:22:51.008Z"
   },
   {
    "duration": 12,
    "start_time": "2022-06-12T22:22:52.300Z"
   },
   {
    "duration": 12,
    "start_time": "2022-06-12T22:23:15.226Z"
   },
   {
    "duration": 14,
    "start_time": "2022-06-12T22:25:55.243Z"
   },
   {
    "duration": 35,
    "start_time": "2022-06-12T22:28:40.753Z"
   },
   {
    "duration": 41,
    "start_time": "2022-06-12T22:29:45.980Z"
   },
   {
    "duration": 94,
    "start_time": "2022-06-12T22:29:53.548Z"
   },
   {
    "duration": 22,
    "start_time": "2022-06-12T22:32:08.823Z"
   },
   {
    "duration": 8,
    "start_time": "2022-06-12T22:32:41.121Z"
   },
   {
    "duration": 7,
    "start_time": "2022-06-12T22:32:52.880Z"
   },
   {
    "duration": 7,
    "start_time": "2022-06-12T22:33:13.192Z"
   },
   {
    "duration": 5,
    "start_time": "2022-06-12T22:33:15.346Z"
   },
   {
    "duration": 12,
    "start_time": "2022-06-12T22:33:27.484Z"
   },
   {
    "duration": 6,
    "start_time": "2022-06-12T22:33:30.602Z"
   },
   {
    "duration": 5,
    "start_time": "2022-06-12T22:33:32.682Z"
   },
   {
    "duration": 4,
    "start_time": "2022-06-12T22:33:58.898Z"
   },
   {
    "duration": 5,
    "start_time": "2022-06-12T22:34:52.602Z"
   },
   {
    "duration": 4,
    "start_time": "2022-06-12T22:34:59.539Z"
   },
   {
    "duration": 4,
    "start_time": "2022-06-12T22:35:06.817Z"
   },
   {
    "duration": 238,
    "start_time": "2022-06-12T22:35:35.871Z"
   },
   {
    "duration": 5474,
    "start_time": "2022-06-13T19:09:44.847Z"
   },
   {
    "duration": 6,
    "start_time": "2022-06-13T19:09:55.408Z"
   },
   {
    "duration": 6,
    "start_time": "2022-06-13T19:10:02.878Z"
   },
   {
    "duration": 145,
    "start_time": "2022-06-13T19:31:36.174Z"
   },
   {
    "duration": 1447,
    "start_time": "2022-06-13T19:31:49.516Z"
   },
   {
    "duration": 65,
    "start_time": "2022-06-13T19:31:50.966Z"
   },
   {
    "duration": 20,
    "start_time": "2022-06-13T19:31:51.033Z"
   },
   {
    "duration": 4,
    "start_time": "2022-06-13T19:31:51.056Z"
   },
   {
    "duration": 52,
    "start_time": "2022-06-13T19:31:51.062Z"
   },
   {
    "duration": 10,
    "start_time": "2022-06-13T19:31:51.116Z"
   },
   {
    "duration": 8,
    "start_time": "2022-06-13T19:31:51.128Z"
   },
   {
    "duration": 7,
    "start_time": "2022-06-13T19:31:51.138Z"
   },
   {
    "duration": 19,
    "start_time": "2022-06-13T19:31:51.147Z"
   },
   {
    "duration": 11,
    "start_time": "2022-06-13T19:31:51.175Z"
   },
   {
    "duration": 10,
    "start_time": "2022-06-13T19:31:51.188Z"
   },
   {
    "duration": 8,
    "start_time": "2022-06-13T19:31:51.201Z"
   },
   {
    "duration": 367,
    "start_time": "2022-06-13T19:31:51.211Z"
   },
   {
    "duration": 27,
    "start_time": "2022-06-13T19:31:51.580Z"
   },
   {
    "duration": 7,
    "start_time": "2022-06-13T19:31:51.609Z"
   },
   {
    "duration": 9,
    "start_time": "2022-06-13T19:31:51.618Z"
   },
   {
    "duration": 30,
    "start_time": "2022-06-13T19:31:51.629Z"
   },
   {
    "duration": 22,
    "start_time": "2022-06-13T19:31:51.662Z"
   },
   {
    "duration": 365,
    "start_time": "2022-06-13T19:31:51.686Z"
   },
   {
    "duration": 5,
    "start_time": "2022-06-13T19:31:52.061Z"
   },
   {
    "duration": 24,
    "start_time": "2022-06-13T19:31:52.072Z"
   },
   {
    "duration": 16,
    "start_time": "2022-06-13T19:31:52.098Z"
   },
   {
    "duration": 35,
    "start_time": "2022-06-13T19:31:52.116Z"
   },
   {
    "duration": 35,
    "start_time": "2022-06-13T19:31:52.154Z"
   },
   {
    "duration": 118,
    "start_time": "2022-06-13T19:31:52.191Z"
   },
   {
    "duration": 11,
    "start_time": "2022-06-13T19:31:52.311Z"
   },
   {
    "duration": 11,
    "start_time": "2022-06-13T19:31:52.324Z"
   },
   {
    "duration": 6,
    "start_time": "2022-06-13T19:31:52.340Z"
   },
   {
    "duration": 19,
    "start_time": "2022-06-13T19:31:52.365Z"
   },
   {
    "duration": 7,
    "start_time": "2022-06-13T19:31:52.386Z"
   },
   {
    "duration": 7,
    "start_time": "2022-06-13T19:31:52.395Z"
   },
   {
    "duration": 333,
    "start_time": "2022-06-13T19:31:52.404Z"
   },
   {
    "duration": 1725,
    "start_time": "2022-06-13T19:31:52.739Z"
   },
   {
    "duration": 5,
    "start_time": "2022-06-13T19:32:42.238Z"
   },
   {
    "duration": 6,
    "start_time": "2022-06-13T19:32:58.906Z"
   },
   {
    "duration": 6,
    "start_time": "2022-06-13T19:33:29.424Z"
   },
   {
    "duration": 4,
    "start_time": "2022-06-13T19:33:31.710Z"
   },
   {
    "duration": 4,
    "start_time": "2022-06-13T19:35:51.335Z"
   },
   {
    "duration": 5,
    "start_time": "2022-06-13T19:35:56.035Z"
   },
   {
    "duration": 4,
    "start_time": "2022-06-13T19:36:17.148Z"
   },
   {
    "duration": 10,
    "start_time": "2022-06-13T19:37:11.514Z"
   },
   {
    "duration": 5,
    "start_time": "2022-06-13T19:37:14.048Z"
   },
   {
    "duration": 6,
    "start_time": "2022-06-13T19:37:25.076Z"
   },
   {
    "duration": 9,
    "start_time": "2022-06-13T19:37:31.036Z"
   },
   {
    "duration": 5,
    "start_time": "2022-06-13T19:37:53.748Z"
   },
   {
    "duration": 131,
    "start_time": "2022-06-13T19:38:45.605Z"
   },
   {
    "duration": 10,
    "start_time": "2022-06-13T19:38:52.951Z"
   },
   {
    "duration": 6,
    "start_time": "2022-06-13T19:38:56.233Z"
   },
   {
    "duration": 6,
    "start_time": "2022-06-13T19:38:57.980Z"
   },
   {
    "duration": 4,
    "start_time": "2022-06-13T19:39:03.179Z"
   },
   {
    "duration": 12,
    "start_time": "2022-06-13T19:49:59.114Z"
   },
   {
    "duration": 4653,
    "start_time": "2022-06-13T19:50:20.376Z"
   },
   {
    "duration": 25,
    "start_time": "2022-06-13T19:51:41.673Z"
   },
   {
    "duration": 9,
    "start_time": "2022-06-13T19:51:44.747Z"
   },
   {
    "duration": 9,
    "start_time": "2022-06-13T19:51:46.221Z"
   },
   {
    "duration": 9,
    "start_time": "2022-06-13T19:51:49.981Z"
   },
   {
    "duration": 25,
    "start_time": "2022-06-13T19:52:11.480Z"
   },
   {
    "duration": 8,
    "start_time": "2022-06-13T19:52:14.276Z"
   },
   {
    "duration": 11,
    "start_time": "2022-06-13T19:52:15.769Z"
   },
   {
    "duration": 37,
    "start_time": "2022-06-13T19:52:21.134Z"
   },
   {
    "duration": 7,
    "start_time": "2022-06-13T19:52:22.990Z"
   },
   {
    "duration": 8,
    "start_time": "2022-06-13T19:52:24.223Z"
   },
   {
    "duration": 7,
    "start_time": "2022-06-13T19:52:36.995Z"
   },
   {
    "duration": 9,
    "start_time": "2022-06-13T19:52:38.423Z"
   },
   {
    "duration": 25,
    "start_time": "2022-06-13T19:52:49.278Z"
   },
   {
    "duration": 7,
    "start_time": "2022-06-13T19:52:51.609Z"
   },
   {
    "duration": 9,
    "start_time": "2022-06-13T19:52:52.891Z"
   },
   {
    "duration": 22,
    "start_time": "2022-06-13T19:52:59.572Z"
   },
   {
    "duration": 7,
    "start_time": "2022-06-13T19:53:02.618Z"
   },
   {
    "duration": 9,
    "start_time": "2022-06-13T19:53:04.345Z"
   },
   {
    "duration": 39,
    "start_time": "2022-06-13T19:53:15.259Z"
   },
   {
    "duration": 8,
    "start_time": "2022-06-13T19:53:17.082Z"
   },
   {
    "duration": 11,
    "start_time": "2022-06-13T19:53:19.430Z"
   },
   {
    "duration": 10,
    "start_time": "2022-06-13T19:53:22.391Z"
   },
   {
    "duration": 42,
    "start_time": "2022-06-13T19:53:34.684Z"
   },
   {
    "duration": 9,
    "start_time": "2022-06-13T19:53:36.392Z"
   },
   {
    "duration": 11,
    "start_time": "2022-06-13T19:53:37.829Z"
   },
   {
    "duration": 27,
    "start_time": "2022-06-13T19:53:58.518Z"
   },
   {
    "duration": 9,
    "start_time": "2022-06-13T19:54:03.187Z"
   },
   {
    "duration": 13,
    "start_time": "2022-06-13T19:54:06.419Z"
   },
   {
    "duration": 9,
    "start_time": "2022-06-13T19:54:08.371Z"
   },
   {
    "duration": 10,
    "start_time": "2022-06-13T19:54:10.130Z"
   },
   {
    "duration": 4,
    "start_time": "2022-06-13T19:54:28.943Z"
   },
   {
    "duration": 4,
    "start_time": "2022-06-13T19:54:31.824Z"
   },
   {
    "duration": 337,
    "start_time": "2022-06-13T19:54:41.604Z"
   },
   {
    "duration": 4,
    "start_time": "2022-06-13T19:54:50.232Z"
   },
   {
    "duration": 5,
    "start_time": "2022-06-13T19:54:51.912Z"
   },
   {
    "duration": 6,
    "start_time": "2022-06-13T20:21:51.697Z"
   },
   {
    "duration": 4,
    "start_time": "2022-06-13T20:21:58.527Z"
   },
   {
    "duration": 17,
    "start_time": "2022-06-13T20:22:09.773Z"
   },
   {
    "duration": 4,
    "start_time": "2022-06-13T20:22:27.928Z"
   },
   {
    "duration": 6,
    "start_time": "2022-06-13T20:22:37.286Z"
   },
   {
    "duration": 4,
    "start_time": "2022-06-13T20:22:50.186Z"
   },
   {
    "duration": 5,
    "start_time": "2022-06-13T20:23:03.827Z"
   },
   {
    "duration": 7,
    "start_time": "2022-06-13T20:25:20.630Z"
   },
   {
    "duration": 5,
    "start_time": "2022-06-13T20:25:23.803Z"
   },
   {
    "duration": 6,
    "start_time": "2022-06-13T20:25:25.490Z"
   },
   {
    "duration": 23,
    "start_time": "2022-06-13T20:25:52.369Z"
   },
   {
    "duration": 7,
    "start_time": "2022-06-13T20:26:07.416Z"
   },
   {
    "duration": 4,
    "start_time": "2022-06-13T20:26:08.938Z"
   },
   {
    "duration": 5,
    "start_time": "2022-06-13T20:26:11.015Z"
   },
   {
    "duration": 7,
    "start_time": "2022-06-13T20:27:26.786Z"
   },
   {
    "duration": 6,
    "start_time": "2022-06-13T20:28:40.120Z"
   },
   {
    "duration": 9,
    "start_time": "2022-06-13T20:28:42.007Z"
   },
   {
    "duration": 5516,
    "start_time": "2022-06-13T20:29:25.020Z"
   },
   {
    "duration": 55,
    "start_time": "2022-06-13T20:30:22.741Z"
   },
   {
    "duration": 12,
    "start_time": "2022-06-13T20:30:27.986Z"
   },
   {
    "duration": 12,
    "start_time": "2022-06-13T20:30:36.395Z"
   },
   {
    "duration": 60,
    "start_time": "2022-06-13T20:30:48.838Z"
   },
   {
    "duration": 12,
    "start_time": "2022-06-13T20:30:52.487Z"
   },
   {
    "duration": 13,
    "start_time": "2022-06-13T20:30:54.079Z"
   },
   {
    "duration": 42,
    "start_time": "2022-06-13T20:31:03.507Z"
   },
   {
    "duration": 15,
    "start_time": "2022-06-13T20:31:04.996Z"
   },
   {
    "duration": 12,
    "start_time": "2022-06-13T20:31:07.408Z"
   },
   {
    "duration": 5,
    "start_time": "2022-06-13T20:31:23.917Z"
   },
   {
    "duration": 6,
    "start_time": "2022-06-13T20:31:25.876Z"
   },
   {
    "duration": 4,
    "start_time": "2022-06-13T20:31:45.416Z"
   },
   {
    "duration": 385,
    "start_time": "2022-06-13T20:31:55.630Z"
   },
   {
    "duration": 3,
    "start_time": "2022-06-13T20:32:07.011Z"
   },
   {
    "duration": 5,
    "start_time": "2022-06-13T20:32:08.521Z"
   },
   {
    "duration": 120,
    "start_time": "2022-06-13T20:33:25.284Z"
   },
   {
    "duration": 32,
    "start_time": "2022-06-13T20:34:08.731Z"
   },
   {
    "duration": 127,
    "start_time": "2022-06-13T20:34:14.389Z"
   },
   {
    "duration": 8,
    "start_time": "2022-06-13T20:35:22.404Z"
   },
   {
    "duration": 14,
    "start_time": "2022-06-13T20:35:23.957Z"
   },
   {
    "duration": 16,
    "start_time": "2022-06-13T20:35:32.579Z"
   },
   {
    "duration": 7,
    "start_time": "2022-06-13T20:35:34.330Z"
   },
   {
    "duration": 11,
    "start_time": "2022-06-13T20:35:35.583Z"
   },
   {
    "duration": 10,
    "start_time": "2022-06-13T20:36:31.899Z"
   },
   {
    "duration": 20,
    "start_time": "2022-06-13T20:36:33.912Z"
   },
   {
    "duration": 15,
    "start_time": "2022-06-13T20:36:35.227Z"
   },
   {
    "duration": 12,
    "start_time": "2022-06-13T20:36:40.631Z"
   },
   {
    "duration": 11,
    "start_time": "2022-06-13T20:36:42.821Z"
   },
   {
    "duration": 6,
    "start_time": "2022-06-13T20:36:44.581Z"
   },
   {
    "duration": 14,
    "start_time": "2022-06-13T20:36:47.559Z"
   },
   {
    "duration": 13,
    "start_time": "2022-06-13T20:36:49.431Z"
   },
   {
    "duration": 15,
    "start_time": "2022-06-13T20:36:50.884Z"
   },
   {
    "duration": 9,
    "start_time": "2022-06-13T20:37:11.579Z"
   },
   {
    "duration": 41,
    "start_time": "2022-06-13T20:37:31.972Z"
   },
   {
    "duration": 523,
    "start_time": "2022-06-13T20:37:33.583Z"
   },
   {
    "duration": 460,
    "start_time": "2022-06-13T20:37:37.595Z"
   },
   {
    "duration": 9,
    "start_time": "2022-06-13T20:37:53.313Z"
   },
   {
    "duration": 9,
    "start_time": "2022-06-13T20:38:18.658Z"
   },
   {
    "duration": 333,
    "start_time": "2022-06-13T20:38:20.376Z"
   },
   {
    "duration": 6,
    "start_time": "2022-06-13T20:38:45.898Z"
   },
   {
    "duration": 5,
    "start_time": "2022-06-13T20:38:53.046Z"
   },
   {
    "duration": 8,
    "start_time": "2022-06-13T20:39:02.694Z"
   },
   {
    "duration": 12,
    "start_time": "2022-06-13T20:39:10.815Z"
   },
   {
    "duration": 9,
    "start_time": "2022-06-13T20:39:15.375Z"
   },
   {
    "duration": 416,
    "start_time": "2022-06-13T20:39:19.922Z"
   },
   {
    "duration": 406,
    "start_time": "2022-06-13T20:39:23.906Z"
   },
   {
    "duration": 239,
    "start_time": "2022-06-13T20:40:16.506Z"
   },
   {
    "duration": 10,
    "start_time": "2022-06-13T20:40:18.843Z"
   },
   {
    "duration": 11,
    "start_time": "2022-06-13T20:40:20.555Z"
   },
   {
    "duration": 13,
    "start_time": "2022-06-13T20:40:43.519Z"
   },
   {
    "duration": 12,
    "start_time": "2022-06-13T20:40:44.782Z"
   },
   {
    "duration": 5,
    "start_time": "2022-06-13T20:40:55.519Z"
   },
   {
    "duration": 3,
    "start_time": "2022-06-13T20:41:05.575Z"
   },
   {
    "duration": 4,
    "start_time": "2022-06-13T20:41:08.645Z"
   },
   {
    "duration": 27,
    "start_time": "2022-06-13T20:43:11.278Z"
   },
   {
    "duration": 4,
    "start_time": "2022-06-13T20:43:47.106Z"
   },
   {
    "duration": 412,
    "start_time": "2022-06-13T20:44:28.436Z"
   },
   {
    "duration": 5,
    "start_time": "2022-06-13T21:00:06.015Z"
   },
   {
    "duration": 5,
    "start_time": "2022-06-13T21:00:13.018Z"
   },
   {
    "duration": 4,
    "start_time": "2022-06-13T21:08:46.284Z"
   },
   {
    "duration": 5,
    "start_time": "2022-06-13T21:11:03.979Z"
   },
   {
    "duration": 7,
    "start_time": "2022-06-13T21:11:17.637Z"
   },
   {
    "duration": 5505,
    "start_time": "2022-06-13T21:11:21.154Z"
   },
   {
    "duration": 5429,
    "start_time": "2022-06-13T21:11:50.252Z"
   },
   {
    "duration": 46,
    "start_time": "2022-06-13T21:13:24.908Z"
   },
   {
    "duration": 12,
    "start_time": "2022-06-13T21:13:26.849Z"
   },
   {
    "duration": 15,
    "start_time": "2022-06-13T21:13:28.714Z"
   },
   {
    "duration": 10,
    "start_time": "2022-06-13T21:14:08.215Z"
   },
   {
    "duration": 11,
    "start_time": "2022-06-13T21:14:28.615Z"
   },
   {
    "duration": 47,
    "start_time": "2022-06-14T12:43:22.545Z"
   },
   {
    "duration": 1350,
    "start_time": "2022-06-14T12:43:29.962Z"
   },
   {
    "duration": 65,
    "start_time": "2022-06-14T12:43:31.314Z"
   },
   {
    "duration": 12,
    "start_time": "2022-06-14T12:43:31.381Z"
   },
   {
    "duration": 3,
    "start_time": "2022-06-14T12:43:31.394Z"
   },
   {
    "duration": 10,
    "start_time": "2022-06-14T12:43:31.399Z"
   },
   {
    "duration": 5,
    "start_time": "2022-06-14T12:43:31.410Z"
   },
   {
    "duration": 6,
    "start_time": "2022-06-14T12:43:31.416Z"
   },
   {
    "duration": 4,
    "start_time": "2022-06-14T12:43:31.423Z"
   },
   {
    "duration": 4,
    "start_time": "2022-06-14T12:43:31.429Z"
   },
   {
    "duration": 6,
    "start_time": "2022-06-14T12:43:31.434Z"
   },
   {
    "duration": 7,
    "start_time": "2022-06-14T12:43:31.441Z"
   },
   {
    "duration": 4,
    "start_time": "2022-06-14T12:43:31.449Z"
   },
   {
    "duration": 37,
    "start_time": "2022-06-14T12:43:31.455Z"
   },
   {
    "duration": 3533,
    "start_time": "2022-06-14T12:43:31.494Z"
   },
   {
    "duration": 67,
    "start_time": "2022-06-14T12:43:35.029Z"
   },
   {
    "duration": 7,
    "start_time": "2022-06-14T12:43:35.097Z"
   },
   {
    "duration": 29,
    "start_time": "2022-06-14T12:43:35.106Z"
   },
   {
    "duration": 30,
    "start_time": "2022-06-14T12:43:35.136Z"
   },
   {
    "duration": 26,
    "start_time": "2022-06-14T12:43:35.168Z"
   },
   {
    "duration": 306,
    "start_time": "2022-06-14T12:43:35.195Z"
   },
   {
    "duration": 3,
    "start_time": "2022-06-14T12:43:35.503Z"
   },
   {
    "duration": 29,
    "start_time": "2022-06-14T12:43:35.508Z"
   },
   {
    "duration": 72,
    "start_time": "2022-06-14T12:43:35.538Z"
   },
   {
    "duration": 6,
    "start_time": "2022-06-14T12:43:35.612Z"
   },
   {
    "duration": 48,
    "start_time": "2022-06-14T12:43:35.620Z"
   },
   {
    "duration": 29,
    "start_time": "2022-06-14T12:43:35.669Z"
   },
   {
    "duration": 32,
    "start_time": "2022-06-14T12:43:35.699Z"
   },
   {
    "duration": 33,
    "start_time": "2022-06-14T12:43:35.732Z"
   },
   {
    "duration": 22,
    "start_time": "2022-06-14T12:43:35.766Z"
   },
   {
    "duration": 43,
    "start_time": "2022-06-14T12:43:35.790Z"
   },
   {
    "duration": 319,
    "start_time": "2022-06-14T12:43:35.834Z"
   },
   {
    "duration": 50,
    "start_time": "2022-06-14T12:43:36.155Z"
   },
   {
    "duration": 5,
    "start_time": "2022-06-14T12:43:36.206Z"
   },
   {
    "duration": 40,
    "start_time": "2022-06-14T12:43:36.213Z"
   },
   {
    "duration": 31,
    "start_time": "2022-06-14T12:43:36.255Z"
   },
   {
    "duration": 17,
    "start_time": "2022-06-14T12:43:36.288Z"
   },
   {
    "duration": 17,
    "start_time": "2022-06-14T12:43:36.307Z"
   },
   {
    "duration": 18,
    "start_time": "2022-06-14T12:43:36.326Z"
   },
   {
    "duration": 311,
    "start_time": "2022-06-14T12:43:36.345Z"
   },
   {
    "duration": 80,
    "start_time": "2022-06-14T12:43:56.398Z"
   },
   {
    "duration": 9,
    "start_time": "2022-06-14T12:43:58.248Z"
   },
   {
    "duration": 9,
    "start_time": "2022-06-14T12:43:59.896Z"
   },
   {
    "duration": 4,
    "start_time": "2022-06-14T12:44:02.332Z"
   },
   {
    "duration": 3,
    "start_time": "2022-06-14T12:44:05.402Z"
   },
   {
    "duration": 243,
    "start_time": "2022-06-14T12:44:13.612Z"
   },
   {
    "duration": 11,
    "start_time": "2022-06-14T12:45:48.781Z"
   },
   {
    "duration": 11,
    "start_time": "2022-06-14T12:46:35.286Z"
   },
   {
    "duration": 4,
    "start_time": "2022-06-14T12:46:39.187Z"
   },
   {
    "duration": 4,
    "start_time": "2022-06-14T12:46:40.742Z"
   },
   {
    "duration": 4,
    "start_time": "2022-06-14T12:46:43.440Z"
   },
   {
    "duration": 3,
    "start_time": "2022-06-14T12:46:48.220Z"
   },
   {
    "duration": 5,
    "start_time": "2022-06-14T12:46:49.987Z"
   },
   {
    "duration": 5,
    "start_time": "2022-06-14T12:46:51.878Z"
   },
   {
    "duration": 246,
    "start_time": "2022-06-14T12:46:54.611Z"
   },
   {
    "duration": 4,
    "start_time": "2022-06-14T12:49:01.100Z"
   },
   {
    "duration": 269,
    "start_time": "2022-06-14T12:49:34.852Z"
   },
   {
    "duration": 9,
    "start_time": "2022-06-14T12:49:50.825Z"
   },
   {
    "duration": 67,
    "start_time": "2022-06-14T12:50:01.232Z"
   },
   {
    "duration": 4,
    "start_time": "2022-06-14T12:50:21.226Z"
   }
  ],
  "kernelspec": {
   "display_name": "Python 3 (ipykernel)",
   "language": "python",
   "name": "python3"
  },
  "language_info": {
   "codemirror_mode": {
    "name": "ipython",
    "version": 3
   },
   "file_extension": ".py",
   "mimetype": "text/x-python",
   "name": "python",
   "nbconvert_exporter": "python",
   "pygments_lexer": "ipython3",
   "version": "3.9.12"
  },
  "toc": {
   "base_numbering": 1,
   "nav_menu": {},
   "number_sections": true,
   "sideBar": true,
   "skip_h1_title": true,
   "title_cell": "Table of Contents",
   "title_sidebar": "Contents",
   "toc_cell": false,
   "toc_position": {},
   "toc_section_display": true,
   "toc_window_display": false
  }
 },
 "nbformat": 4,
 "nbformat_minor": 2
}
