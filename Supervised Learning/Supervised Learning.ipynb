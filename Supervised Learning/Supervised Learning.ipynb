{
 "cells": [
  {
   "cell_type": "markdown",
   "metadata": {},
   "source": [
    "# Introduction"
   ]
  },
  {
   "cell_type": "markdown",
   "metadata": {},
   "source": [
    "* The purpose of this project is to build a model with the best maximum F1 score (threshold=.59). This project will involve testing different types of models with different combinations of hyperparameters in order to achieve this goal. Finally, the auc_roc score for the best model will be determined at the end of this project. \n",
    "* Two methods (Upsampling and Downsampling) will be used in order to account for an imbalance in the classes. "
   ]
  },
  {
   "cell_type": "code",
   "execution_count": 1,
   "metadata": {},
   "outputs": [],
   "source": [
    "import pandas as pd\n",
    "from sklearn.metrics import f1_score\n",
    "from sklearn.model_selection import train_test_split\n",
    "from sklearn.utils import class_weight\n",
    "from sklearn.metrics import confusion_matrix\n",
    "from sklearn.preprocessing import StandardScaler\n",
    "from sklearn.metrics import mean_squared_error\n",
    "from sklearn.metrics import r2_score\n",
    "from sklearn.metrics import mean_absolute_error\n",
    "from sklearn.ensemble import RandomForestRegressor\n",
    "from sklearn import preprocessing\n",
    "from sklearn.utils import class_weight\n",
    "from sklearn.ensemble import RandomForestClassifier\n",
    "from sklearn.linear_model import LogisticRegression\n",
    "from sklearn.tree import DecisionTreeClassifier\n",
    "from sklearn.utils import shuffle\n",
    "from sklearn.metrics import roc_auc_score \n",
    "import matplotlib.pyplot as plt\n",
    "import seaborn as sns\n"
   ]
  },
  {
   "cell_type": "code",
   "execution_count": 2,
   "metadata": {},
   "outputs": [],
   "source": [
    "data=pd.read_csv('/datasets/Churn.csv')"
   ]
  },
  {
   "cell_type": "code",
   "execution_count": 3,
   "metadata": {},
   "outputs": [
    {
     "data": {
      "text/plain": [
       "(10000, 14)"
      ]
     },
     "execution_count": 3,
     "metadata": {},
     "output_type": "execute_result"
    }
   ],
   "source": [
    "data.shape"
   ]
  },
  {
   "cell_type": "code",
   "execution_count": 4,
   "metadata": {},
   "outputs": [
    {
     "data": {
      "text/html": [
       "<div>\n",
       "<style scoped>\n",
       "    .dataframe tbody tr th:only-of-type {\n",
       "        vertical-align: middle;\n",
       "    }\n",
       "\n",
       "    .dataframe tbody tr th {\n",
       "        vertical-align: top;\n",
       "    }\n",
       "\n",
       "    .dataframe thead th {\n",
       "        text-align: right;\n",
       "    }\n",
       "</style>\n",
       "<table border=\"1\" class=\"dataframe\">\n",
       "  <thead>\n",
       "    <tr style=\"text-align: right;\">\n",
       "      <th></th>\n",
       "      <th>RowNumber</th>\n",
       "      <th>CustomerId</th>\n",
       "      <th>Surname</th>\n",
       "      <th>CreditScore</th>\n",
       "      <th>Geography</th>\n",
       "      <th>Gender</th>\n",
       "      <th>Age</th>\n",
       "      <th>Tenure</th>\n",
       "      <th>Balance</th>\n",
       "      <th>NumOfProducts</th>\n",
       "      <th>HasCrCard</th>\n",
       "      <th>IsActiveMember</th>\n",
       "      <th>EstimatedSalary</th>\n",
       "      <th>Exited</th>\n",
       "    </tr>\n",
       "  </thead>\n",
       "  <tbody>\n",
       "    <tr>\n",
       "      <th>0</th>\n",
       "      <td>1</td>\n",
       "      <td>15634602</td>\n",
       "      <td>Hargrave</td>\n",
       "      <td>619</td>\n",
       "      <td>France</td>\n",
       "      <td>Female</td>\n",
       "      <td>42</td>\n",
       "      <td>2.0</td>\n",
       "      <td>0.00</td>\n",
       "      <td>1</td>\n",
       "      <td>1</td>\n",
       "      <td>1</td>\n",
       "      <td>101348.88</td>\n",
       "      <td>1</td>\n",
       "    </tr>\n",
       "    <tr>\n",
       "      <th>1</th>\n",
       "      <td>2</td>\n",
       "      <td>15647311</td>\n",
       "      <td>Hill</td>\n",
       "      <td>608</td>\n",
       "      <td>Spain</td>\n",
       "      <td>Female</td>\n",
       "      <td>41</td>\n",
       "      <td>1.0</td>\n",
       "      <td>83807.86</td>\n",
       "      <td>1</td>\n",
       "      <td>0</td>\n",
       "      <td>1</td>\n",
       "      <td>112542.58</td>\n",
       "      <td>0</td>\n",
       "    </tr>\n",
       "    <tr>\n",
       "      <th>2</th>\n",
       "      <td>3</td>\n",
       "      <td>15619304</td>\n",
       "      <td>Onio</td>\n",
       "      <td>502</td>\n",
       "      <td>France</td>\n",
       "      <td>Female</td>\n",
       "      <td>42</td>\n",
       "      <td>8.0</td>\n",
       "      <td>159660.80</td>\n",
       "      <td>3</td>\n",
       "      <td>1</td>\n",
       "      <td>0</td>\n",
       "      <td>113931.57</td>\n",
       "      <td>1</td>\n",
       "    </tr>\n",
       "    <tr>\n",
       "      <th>3</th>\n",
       "      <td>4</td>\n",
       "      <td>15701354</td>\n",
       "      <td>Boni</td>\n",
       "      <td>699</td>\n",
       "      <td>France</td>\n",
       "      <td>Female</td>\n",
       "      <td>39</td>\n",
       "      <td>1.0</td>\n",
       "      <td>0.00</td>\n",
       "      <td>2</td>\n",
       "      <td>0</td>\n",
       "      <td>0</td>\n",
       "      <td>93826.63</td>\n",
       "      <td>0</td>\n",
       "    </tr>\n",
       "    <tr>\n",
       "      <th>4</th>\n",
       "      <td>5</td>\n",
       "      <td>15737888</td>\n",
       "      <td>Mitchell</td>\n",
       "      <td>850</td>\n",
       "      <td>Spain</td>\n",
       "      <td>Female</td>\n",
       "      <td>43</td>\n",
       "      <td>2.0</td>\n",
       "      <td>125510.82</td>\n",
       "      <td>1</td>\n",
       "      <td>1</td>\n",
       "      <td>1</td>\n",
       "      <td>79084.10</td>\n",
       "      <td>0</td>\n",
       "    </tr>\n",
       "    <tr>\n",
       "      <th>5</th>\n",
       "      <td>6</td>\n",
       "      <td>15574012</td>\n",
       "      <td>Chu</td>\n",
       "      <td>645</td>\n",
       "      <td>Spain</td>\n",
       "      <td>Male</td>\n",
       "      <td>44</td>\n",
       "      <td>8.0</td>\n",
       "      <td>113755.78</td>\n",
       "      <td>2</td>\n",
       "      <td>1</td>\n",
       "      <td>0</td>\n",
       "      <td>149756.71</td>\n",
       "      <td>1</td>\n",
       "    </tr>\n",
       "    <tr>\n",
       "      <th>6</th>\n",
       "      <td>7</td>\n",
       "      <td>15592531</td>\n",
       "      <td>Bartlett</td>\n",
       "      <td>822</td>\n",
       "      <td>France</td>\n",
       "      <td>Male</td>\n",
       "      <td>50</td>\n",
       "      <td>7.0</td>\n",
       "      <td>0.00</td>\n",
       "      <td>2</td>\n",
       "      <td>1</td>\n",
       "      <td>1</td>\n",
       "      <td>10062.80</td>\n",
       "      <td>0</td>\n",
       "    </tr>\n",
       "    <tr>\n",
       "      <th>7</th>\n",
       "      <td>8</td>\n",
       "      <td>15656148</td>\n",
       "      <td>Obinna</td>\n",
       "      <td>376</td>\n",
       "      <td>Germany</td>\n",
       "      <td>Female</td>\n",
       "      <td>29</td>\n",
       "      <td>4.0</td>\n",
       "      <td>115046.74</td>\n",
       "      <td>4</td>\n",
       "      <td>1</td>\n",
       "      <td>0</td>\n",
       "      <td>119346.88</td>\n",
       "      <td>1</td>\n",
       "    </tr>\n",
       "    <tr>\n",
       "      <th>8</th>\n",
       "      <td>9</td>\n",
       "      <td>15792365</td>\n",
       "      <td>He</td>\n",
       "      <td>501</td>\n",
       "      <td>France</td>\n",
       "      <td>Male</td>\n",
       "      <td>44</td>\n",
       "      <td>4.0</td>\n",
       "      <td>142051.07</td>\n",
       "      <td>2</td>\n",
       "      <td>0</td>\n",
       "      <td>1</td>\n",
       "      <td>74940.50</td>\n",
       "      <td>0</td>\n",
       "    </tr>\n",
       "    <tr>\n",
       "      <th>9</th>\n",
       "      <td>10</td>\n",
       "      <td>15592389</td>\n",
       "      <td>H?</td>\n",
       "      <td>684</td>\n",
       "      <td>France</td>\n",
       "      <td>Male</td>\n",
       "      <td>27</td>\n",
       "      <td>2.0</td>\n",
       "      <td>134603.88</td>\n",
       "      <td>1</td>\n",
       "      <td>1</td>\n",
       "      <td>1</td>\n",
       "      <td>71725.73</td>\n",
       "      <td>0</td>\n",
       "    </tr>\n",
       "  </tbody>\n",
       "</table>\n",
       "</div>"
      ],
      "text/plain": [
       "   RowNumber  CustomerId   Surname  CreditScore Geography  Gender  Age  \\\n",
       "0          1    15634602  Hargrave          619    France  Female   42   \n",
       "1          2    15647311      Hill          608     Spain  Female   41   \n",
       "2          3    15619304      Onio          502    France  Female   42   \n",
       "3          4    15701354      Boni          699    France  Female   39   \n",
       "4          5    15737888  Mitchell          850     Spain  Female   43   \n",
       "5          6    15574012       Chu          645     Spain    Male   44   \n",
       "6          7    15592531  Bartlett          822    France    Male   50   \n",
       "7          8    15656148    Obinna          376   Germany  Female   29   \n",
       "8          9    15792365        He          501    France    Male   44   \n",
       "9         10    15592389        H?          684    France    Male   27   \n",
       "\n",
       "   Tenure    Balance  NumOfProducts  HasCrCard  IsActiveMember  \\\n",
       "0     2.0       0.00              1          1               1   \n",
       "1     1.0   83807.86              1          0               1   \n",
       "2     8.0  159660.80              3          1               0   \n",
       "3     1.0       0.00              2          0               0   \n",
       "4     2.0  125510.82              1          1               1   \n",
       "5     8.0  113755.78              2          1               0   \n",
       "6     7.0       0.00              2          1               1   \n",
       "7     4.0  115046.74              4          1               0   \n",
       "8     4.0  142051.07              2          0               1   \n",
       "9     2.0  134603.88              1          1               1   \n",
       "\n",
       "   EstimatedSalary  Exited  \n",
       "0        101348.88       1  \n",
       "1        112542.58       0  \n",
       "2        113931.57       1  \n",
       "3         93826.63       0  \n",
       "4         79084.10       0  \n",
       "5        149756.71       1  \n",
       "6         10062.80       0  \n",
       "7        119346.88       1  \n",
       "8         74940.50       0  \n",
       "9         71725.73       0  "
      ]
     },
     "execution_count": 4,
     "metadata": {},
     "output_type": "execute_result"
    }
   ],
   "source": [
    "data.head(10)"
   ]
  },
  {
   "cell_type": "code",
   "execution_count": 5,
   "metadata": {},
   "outputs": [],
   "source": [
    "data.isna().sum()\n",
    "data.dropna(inplace=True)"
   ]
  },
  {
   "cell_type": "code",
   "execution_count": 6,
   "metadata": {},
   "outputs": [
    {
     "data": {
      "text/plain": [
       "RowNumber            int64\n",
       "CustomerId           int64\n",
       "Surname             object\n",
       "CreditScore          int64\n",
       "Geography           object\n",
       "Gender              object\n",
       "Age                  int64\n",
       "Tenure             float64\n",
       "Balance            float64\n",
       "NumOfProducts        int64\n",
       "HasCrCard            int64\n",
       "IsActiveMember       int64\n",
       "EstimatedSalary    float64\n",
       "Exited               int64\n",
       "dtype: object"
      ]
     },
     "execution_count": 6,
     "metadata": {},
     "output_type": "execute_result"
    }
   ],
   "source": [
    "data.dtypes"
   ]
  },
  {
   "cell_type": "code",
   "execution_count": 7,
   "metadata": {},
   "outputs": [],
   "source": [
    "label_encoder = preprocessing.LabelEncoder()\n",
    "data['Gender']= label_encoder.fit_transform(data['Gender'])\n",
    "data[\"Surname\"]=label_encoder.fit_transform(data[\"Surname\"])\n",
    "data[\"Geography\"]=label_encoder.fit_transform(data[\"Geography\"])"
   ]
  },
  {
   "cell_type": "code",
   "execution_count": 8,
   "metadata": {},
   "outputs": [
    {
     "data": {
      "text/html": [
       "<div>\n",
       "<style scoped>\n",
       "    .dataframe tbody tr th:only-of-type {\n",
       "        vertical-align: middle;\n",
       "    }\n",
       "\n",
       "    .dataframe tbody tr th {\n",
       "        vertical-align: top;\n",
       "    }\n",
       "\n",
       "    .dataframe thead th {\n",
       "        text-align: right;\n",
       "    }\n",
       "</style>\n",
       "<table border=\"1\" class=\"dataframe\">\n",
       "  <thead>\n",
       "    <tr style=\"text-align: right;\">\n",
       "      <th></th>\n",
       "      <th>RowNumber</th>\n",
       "      <th>CustomerId</th>\n",
       "      <th>Surname</th>\n",
       "      <th>CreditScore</th>\n",
       "      <th>Geography</th>\n",
       "      <th>Gender</th>\n",
       "      <th>Age</th>\n",
       "      <th>Tenure</th>\n",
       "      <th>Balance</th>\n",
       "      <th>NumOfProducts</th>\n",
       "      <th>HasCrCard</th>\n",
       "      <th>IsActiveMember</th>\n",
       "      <th>EstimatedSalary</th>\n",
       "      <th>Exited</th>\n",
       "    </tr>\n",
       "  </thead>\n",
       "  <tbody>\n",
       "    <tr>\n",
       "      <th>0</th>\n",
       "      <td>1</td>\n",
       "      <td>15634602</td>\n",
       "      <td>1063</td>\n",
       "      <td>619</td>\n",
       "      <td>0</td>\n",
       "      <td>0</td>\n",
       "      <td>42</td>\n",
       "      <td>2.0</td>\n",
       "      <td>0.00</td>\n",
       "      <td>1</td>\n",
       "      <td>1</td>\n",
       "      <td>1</td>\n",
       "      <td>101348.88</td>\n",
       "      <td>1</td>\n",
       "    </tr>\n",
       "    <tr>\n",
       "      <th>1</th>\n",
       "      <td>2</td>\n",
       "      <td>15647311</td>\n",
       "      <td>1120</td>\n",
       "      <td>608</td>\n",
       "      <td>2</td>\n",
       "      <td>0</td>\n",
       "      <td>41</td>\n",
       "      <td>1.0</td>\n",
       "      <td>83807.86</td>\n",
       "      <td>1</td>\n",
       "      <td>0</td>\n",
       "      <td>1</td>\n",
       "      <td>112542.58</td>\n",
       "      <td>0</td>\n",
       "    </tr>\n",
       "    <tr>\n",
       "      <th>2</th>\n",
       "      <td>3</td>\n",
       "      <td>15619304</td>\n",
       "      <td>1933</td>\n",
       "      <td>502</td>\n",
       "      <td>0</td>\n",
       "      <td>0</td>\n",
       "      <td>42</td>\n",
       "      <td>8.0</td>\n",
       "      <td>159660.80</td>\n",
       "      <td>3</td>\n",
       "      <td>1</td>\n",
       "      <td>0</td>\n",
       "      <td>113931.57</td>\n",
       "      <td>1</td>\n",
       "    </tr>\n",
       "    <tr>\n",
       "      <th>3</th>\n",
       "      <td>4</td>\n",
       "      <td>15701354</td>\n",
       "      <td>270</td>\n",
       "      <td>699</td>\n",
       "      <td>0</td>\n",
       "      <td>0</td>\n",
       "      <td>39</td>\n",
       "      <td>1.0</td>\n",
       "      <td>0.00</td>\n",
       "      <td>2</td>\n",
       "      <td>0</td>\n",
       "      <td>0</td>\n",
       "      <td>93826.63</td>\n",
       "      <td>0</td>\n",
       "    </tr>\n",
       "    <tr>\n",
       "      <th>4</th>\n",
       "      <td>5</td>\n",
       "      <td>15737888</td>\n",
       "      <td>1721</td>\n",
       "      <td>850</td>\n",
       "      <td>2</td>\n",
       "      <td>0</td>\n",
       "      <td>43</td>\n",
       "      <td>2.0</td>\n",
       "      <td>125510.82</td>\n",
       "      <td>1</td>\n",
       "      <td>1</td>\n",
       "      <td>1</td>\n",
       "      <td>79084.10</td>\n",
       "      <td>0</td>\n",
       "    </tr>\n",
       "  </tbody>\n",
       "</table>\n",
       "</div>"
      ],
      "text/plain": [
       "   RowNumber  CustomerId  Surname  CreditScore  Geography  Gender  Age  \\\n",
       "0          1    15634602     1063          619          0       0   42   \n",
       "1          2    15647311     1120          608          2       0   41   \n",
       "2          3    15619304     1933          502          0       0   42   \n",
       "3          4    15701354      270          699          0       0   39   \n",
       "4          5    15737888     1721          850          2       0   43   \n",
       "\n",
       "   Tenure    Balance  NumOfProducts  HasCrCard  IsActiveMember  \\\n",
       "0     2.0       0.00              1          1               1   \n",
       "1     1.0   83807.86              1          0               1   \n",
       "2     8.0  159660.80              3          1               0   \n",
       "3     1.0       0.00              2          0               0   \n",
       "4     2.0  125510.82              1          1               1   \n",
       "\n",
       "   EstimatedSalary  Exited  \n",
       "0        101348.88       1  \n",
       "1        112542.58       0  \n",
       "2        113931.57       1  \n",
       "3         93826.63       0  \n",
       "4         79084.10       0  "
      ]
     },
     "execution_count": 8,
     "metadata": {},
     "output_type": "execute_result"
    }
   ],
   "source": [
    "data.head()"
   ]
  },
  {
   "cell_type": "markdown",
   "metadata": {},
   "source": [
    "#For the Gender column: Female=0 Male=1. All columns are numeric except Geography and Surname."
   ]
  },
  {
   "cell_type": "code",
   "execution_count": 9,
   "metadata": {
    "scrolled": true
   },
   "outputs": [
    {
     "data": {
      "text/plain": [
       "RowNumber            int64\n",
       "CustomerId           int64\n",
       "Surname              int64\n",
       "CreditScore          int64\n",
       "Geography            int64\n",
       "Gender               int64\n",
       "Age                  int64\n",
       "Tenure             float64\n",
       "Balance            float64\n",
       "NumOfProducts        int64\n",
       "HasCrCard            int64\n",
       "IsActiveMember       int64\n",
       "EstimatedSalary    float64\n",
       "Exited               int64\n",
       "dtype: object"
      ]
     },
     "execution_count": 9,
     "metadata": {},
     "output_type": "execute_result"
    }
   ],
   "source": [
    "data.dtypes"
   ]
  },
  {
   "cell_type": "code",
   "execution_count": 10,
   "metadata": {},
   "outputs": [
    {
     "data": {
      "text/plain": [
       "RowNumber          0\n",
       "CustomerId         0\n",
       "Surname            0\n",
       "CreditScore        0\n",
       "Geography          0\n",
       "Gender             0\n",
       "Age                0\n",
       "Tenure             0\n",
       "Balance            0\n",
       "NumOfProducts      0\n",
       "HasCrCard          0\n",
       "IsActiveMember     0\n",
       "EstimatedSalary    0\n",
       "Exited             0\n",
       "dtype: int64"
      ]
     },
     "execution_count": 10,
     "metadata": {},
     "output_type": "execute_result"
    }
   ],
   "source": [
    "data.isna().sum()"
   ]
  },
  {
   "cell_type": "code",
   "execution_count": 11,
   "metadata": {},
   "outputs": [],
   "source": [
    "target=data[\"Exited\"]\n",
    "features=data.drop([\"Exited\"], axis=1)"
   ]
  },
  {
   "cell_type": "code",
   "execution_count": 12,
   "metadata": {},
   "outputs": [
    {
     "data": {
      "text/plain": [
       "(9091,)"
      ]
     },
     "execution_count": 12,
     "metadata": {},
     "output_type": "execute_result"
    }
   ],
   "source": [
    "target.shape"
   ]
  },
  {
   "cell_type": "code",
   "execution_count": 13,
   "metadata": {
    "scrolled": true
   },
   "outputs": [
    {
     "data": {
      "text/plain": [
       "(9091, 13)"
      ]
     },
     "execution_count": 13,
     "metadata": {},
     "output_type": "execute_result"
    }
   ],
   "source": [
    "features.shape"
   ]
  },
  {
   "cell_type": "code",
   "execution_count": 14,
   "metadata": {
    "scrolled": true
   },
   "outputs": [
    {
     "data": {
      "image/png": "[encoded data removed]",
      "text/plain": [
       "<Figure size 432x288 with 1 Axes>"
      ]
     },
     "metadata": {
      "needs_background": "light"
     },
     "output_type": "display_data"
    }
   ],
   "source": [
    "target.value_counts().plot(kind=\"bar\")\n",
    "plt.title(\"Number of Customers per Type\")\n",
    "plt.xlabel(\"Type of Customer\")\n",
    "plt.ylabel(\"Number of Customers\")\n",
    "plt.show()"
   ]
  },
  {
   "cell_type": "markdown",
   "metadata": {},
   "source": [
    "* Here, the classes are quite imbalanced, many more customers that have not left (\"0\") versus who have exited (1). "
   ]
  },
  {
   "cell_type": "code",
   "execution_count": 15,
   "metadata": {},
   "outputs": [],
   "source": [
    "df_train, df_valid = train_test_split(data, test_size=0.20, random_state=12345)\n",
    "df_train, df_test=train_test_split(df_train, test_size=0.20, random_state=12345)\n",
    "features_train = df_train.drop([\"Exited\"], axis=1)\n",
    "target_train = df_train['Exited']\n",
    "features_valid = df_valid.drop(['Exited'], axis=1)\n",
    "target_valid = df_valid['Exited']\n",
    "features_test=df_test.drop([\"Exited\"], axis=1)\n",
    "target_test=df_test['Exited']"
   ]
  },
  {
   "cell_type": "code",
   "execution_count": 16,
   "metadata": {},
   "outputs": [
    {
     "name": "stdout",
     "output_type": "stream",
     "text": [
      "(5817, 13)\n",
      "(1819, 13)\n"
     ]
    }
   ],
   "source": [
    "numeric= ['CreditScore', 'Age', 'Tenure', 'Balance', 'NumOfProducts', 'EstimatedSalary']\n",
    "scaler=StandardScaler()\n",
    "scaler.fit(features_train)\n",
    "features_valid=scaler.transform(features_valid)\n",
    "print(features_train.shape)\n",
    "print(features_valid.shape)"
   ]
  },
  {
   "cell_type": "code",
   "execution_count": 17,
   "metadata": {},
   "outputs": [
    {
     "name": "stdout",
     "output_type": "stream",
     "text": [
      "(1455, 13)\n"
     ]
    }
   ],
   "source": [
    "scaler=StandardScaler()\n",
    "scaler.fit(features_test)\n",
    "print(features_test.shape)"
   ]
  },
  {
   "cell_type": "markdown",
   "metadata": {},
   "source": [
    "* Above, all features that contain numeric columns are transformed to account for the variations in units accross features."
   ]
  },
  {
   "cell_type": "markdown",
   "metadata": {},
   "source": [
    "* Below, I will begin trying out different models without taking into account the imbalance and evaluate the result F1 scores."
   ]
  },
  {
   "cell_type": "markdown",
   "metadata": {},
   "source": [
    "# F1 Scores Without Imbalance Fixing"
   ]
  },
  {
   "cell_type": "code",
   "execution_count": 18,
   "metadata": {},
   "outputs": [
    {
     "name": "stdout",
     "output_type": "stream",
     "text": [
      "F1: 0.490566037735849\n"
     ]
    }
   ],
   "source": [
    "model = LogisticRegression(random_state=12345, class_weight='balanced', solver='liblinear')\n",
    "model.fit(features_train, target_train)\n",
    "predicted_valid = model.predict(features_valid)\n",
    "predictions_test=model.predict(features_test)\n",
    "print('F1:', f1_score(target_test, predictions_test))\n"
   ]
  },
  {
   "cell_type": "code",
   "execution_count": 19,
   "metadata": {},
   "outputs": [],
   "source": [
    "model = RandomForestClassifier(random_state=12345) \n",
    "model.fit(features_train, target_train) # train model on training set\n",
    "predictions_valid = model.predict(features_valid)\n",
    "predictions_test=model.predict(features_test)\n",
    "result = f1_score(target_test, predictions_test)"
   ]
  },
  {
   "cell_type": "code",
   "execution_count": 20,
   "metadata": {},
   "outputs": [
    {
     "data": {
      "text/plain": [
       "0.5342789598108748"
      ]
     },
     "execution_count": 20,
     "metadata": {},
     "output_type": "execute_result"
    }
   ],
   "source": [
    "result"
   ]
  },
  {
   "cell_type": "code",
   "execution_count": 21,
   "metadata": {},
   "outputs": [
    {
     "name": "stdout",
     "output_type": "stream",
     "text": [
      "0.4720720720720721\n"
     ]
    }
   ],
   "source": [
    "model = DecisionTreeClassifier(random_state=12345)\n",
    "model.fit(features_train, target_train)\n",
    "predicted_valid = model.predict(features_valid)\n",
    "predictions_test=model.predict(features_test)\n",
    "fone=f1_score(target_test, predictions_test)\n",
    "print(fone)"
   ]
  },
  {
   "cell_type": "markdown",
   "metadata": {},
   "source": [
    "* The Decision Tree model resulted in an f1 score that was similar to the f1 score produced by the Logistic Regression model. So far, before taking into account the imbalance, the Random forest appears to produce the best F1 score.\n",
    "* I will now balance the classes, then try the same models again after finding the best hyperparameters. The two different techniques that I will use to balance the classes are (1) Upsampling and (2) Downsampling methods."
   ]
  },
  {
   "cell_type": "markdown",
   "metadata": {},
   "source": [
    "* First, I will try upsampling/downsampling in the Logistic Regression model"
   ]
  },
  {
   "cell_type": "markdown",
   "metadata": {},
   "source": [
    "# Upsampling Method"
   ]
  },
  {
   "cell_type": "code",
   "execution_count": 22,
   "metadata": {},
   "outputs": [],
   "source": [
    "def upsample(features, target, repeat):\n",
    "    features_zeros = features[target == 0]\n",
    "    features_ones = features[target == 1]\n",
    "    target_zeros = target[target == 0]\n",
    "    target_ones = target[target == 1]\n",
    "\n",
    "    features_upsampled = pd.concat([features_zeros] + [features_ones] * repeat)\n",
    "    target_upsampled = pd.concat([target_zeros] + [target_ones] * repeat)\n",
    "\n",
    "    features_upsampled, target_upsampled = shuffle(\n",
    "        features_upsampled, target_upsampled, random_state=12345\n",
    "    )\n",
    "\n",
    "    return features_upsampled, target_upsampled"
   ]
  },
  {
   "cell_type": "code",
   "execution_count": 23,
   "metadata": {},
   "outputs": [],
   "source": [
    "features_upsampled, target_upsampled = upsample(\n",
    "    features_train, target_train, 10\n",
    ")"
   ]
  },
  {
   "cell_type": "code",
   "execution_count": 24,
   "metadata": {
    "scrolled": false
   },
   "outputs": [
    {
     "data": {
      "text/plain": [
       "1    12030\n",
       "0     4614\n",
       "Name: Exited, dtype: int64"
      ]
     },
     "execution_count": 24,
     "metadata": {},
     "output_type": "execute_result"
    }
   ],
   "source": [
    "target_upsampled.value_counts()"
   ]
  },
  {
   "cell_type": "markdown",
   "metadata": {},
   "source": [
    "# Downsampling Method"
   ]
  },
  {
   "cell_type": "code",
   "execution_count": 25,
   "metadata": {},
   "outputs": [],
   "source": [
    "def downsample(features, target, fraction):\n",
    "    features_zeros = features[target == 0]\n",
    "    features_ones = features[target == 1]\n",
    "    target_zeros = target[target == 0]\n",
    "    target_ones = target[target == 1]\n",
    "\n",
    "    features_downsampled = pd.concat(\n",
    "        [features_zeros.sample(frac=fraction, random_state=12345)]\n",
    "        + [features_ones]\n",
    "    )\n",
    "    target_downsampled = pd.concat(\n",
    "        [target_zeros.sample(frac=fraction, random_state=12345)]\n",
    "        + [target_ones]\n",
    "    )\n",
    "\n",
    "    features_downsampled, target_downsampled = shuffle(\n",
    "        features_downsampled, target_downsampled, random_state=12345\n",
    "    )\n",
    "\n",
    "    return features_downsampled, target_downsampled\n",
    "\n",
    "\n",
    "features_downsampled, target_downsampled = downsample(\n",
    "    features_train, target_train, 0.1\n",
    ")\n",
    "\n"
   ]
  },
  {
   "cell_type": "markdown",
   "metadata": {},
   "source": [
    "# Logistic Regression Model with Imbalance Fixing"
   ]
  },
  {
   "cell_type": "code",
   "execution_count": 26,
   "metadata": {},
   "outputs": [
    {
     "name": "stdout",
     "output_type": "stream",
     "text": [
      "F1: 0.4702970297029702\n"
     ]
    }
   ],
   "source": [
    "model= LogisticRegression(random_state=12345, class_weight='balanced', solver=\"liblinear\")\n",
    "model.fit(features_upsampled, target_upsampled)\n",
    "predicted_valid= model.predict(features_valid)\n",
    "predictions_test=model.predict(features_test)\n",
    "print('F1:', f1_score(target_test, predictions_test))\n"
   ]
  },
  {
   "cell_type": "code",
   "execution_count": 27,
   "metadata": {},
   "outputs": [
    {
     "name": "stdout",
     "output_type": "stream",
     "text": [
      "F1: 0.46946107784431135\n"
     ]
    }
   ],
   "source": [
    "model=LogisticRegression(random_state=12345, class_weight=\"balanced\", solver='liblinear')\n",
    "model.fit(features_downsampled, target_downsampled)\n",
    "predicted_valid=model.predict(features_valid)\n",
    "predictions_test=model.predict(features_test)\n",
    "print('F1:', f1_score(target_test, predictions_test))"
   ]
  },
  {
   "cell_type": "markdown",
   "metadata": {},
   "source": [
    "* With Regard to the Logistic Regression, model, we have a slightly better f1 score with the upsampling method. However, strangely, the original model (with neither imbalance fixing methods still has a higher f1 score (0.49)"
   ]
  },
  {
   "cell_type": "markdown",
   "metadata": {},
   "source": [
    "# Finding the Best Hyperparameters for Random Forest Model"
   ]
  },
  {
   "cell_type": "code",
   "execution_count": 28,
   "metadata": {},
   "outputs": [
    {
     "name": "stdout",
     "output_type": "stream",
     "text": [
      "The f1-score of the best model on the validation set: 0.4798657718120805 n_estimators: 90 best_depth: 16\n"
     ]
    }
   ],
   "source": [
    "best_model = None\n",
    "best_result = 10000\n",
    "best_est = 0\n",
    "best_depth = 0\n",
    "for est in range(90, 120, 10):\n",
    "    for depth in range (1, 17):\n",
    "        model = RandomForestClassifier(random_state=12345, n_estimators=est, max_depth=depth)\n",
    "        model.fit(features_train, target_train) \n",
    "        predictions_valid = model.predict(features_valid) \n",
    "        result = f1_score(target_valid, predicted_valid)\n",
    "        if result < best_result:\n",
    "            best_model = model\n",
    "            best_result = result\n",
    "            best_est = est\n",
    "            best_depth = depth\n",
    "\n",
    "print(\"The f1-score of the best model on the validation set:\", best_result, \"n_estimators:\", best_est, \"best_depth:\", depth)"
   ]
  },
  {
   "cell_type": "markdown",
   "metadata": {},
   "source": [
    "# Random Forest Model with Imbalance Fixing "
   ]
  },
  {
   "cell_type": "code",
   "execution_count": 29,
   "metadata": {},
   "outputs": [
    {
     "name": "stdout",
     "output_type": "stream",
     "text": [
      "0.5912408759124088\n"
     ]
    }
   ],
   "source": [
    "model = RandomForestClassifier(random_state=12345, n_estimators=90, max_depth=16)\n",
    "model.fit(features_upsampled, target_upsampled)\n",
    "predictions_valid = model.predict(features_valid)\n",
    "predictions_test=model.predict(features_test)\n",
    "print(f1_score(target_test, predictions_test))"
   ]
  },
  {
   "cell_type": "markdown",
   "metadata": {},
   "source": [
    "* Successfully obtained F1-score of .59 with the upsampled Random Forest Model!"
   ]
  },
  {
   "cell_type": "code",
   "execution_count": 30,
   "metadata": {},
   "outputs": [
    {
     "name": "stdout",
     "output_type": "stream",
     "text": [
      "0.445364238410596\n"
     ]
    }
   ],
   "source": [
    "model = RandomForestClassifier(random_state=12345, n_estimators=100, max_depth=11) \n",
    "model.fit(features_downsampled, target_downsampled)\n",
    "predictions_test = model.predict(features_test)\n",
    "print(f1_score(target_test, predictions_test))"
   ]
  },
  {
   "cell_type": "markdown",
   "metadata": {},
   "source": [
    "* Looks like upsampling is the better method in the case of this particular model as compared to downsampling."
   ]
  },
  {
   "cell_type": "markdown",
   "metadata": {},
   "source": [
    "# Finding the Best Hyperparameters for Decision Tree Model"
   ]
  },
  {
   "cell_type": "code",
   "execution_count": 31,
   "metadata": {},
   "outputs": [
    {
     "name": "stdout",
     "output_type": "stream",
     "text": [
      "The f1-score of the best model on the validation set: 0.4798657718120805 best_depth: 22\n"
     ]
    }
   ],
   "source": [
    "best_model = None\n",
    "best_result = 10000\n",
    "best_depth = 0\n",
    "for depth in range (1, 23):\n",
    "        model = DecisionTreeClassifier(random_state=12345, max_depth=depth) \n",
    "        model.fit(features_train, target_train) \n",
    "        predictions_valid = model.predict(features_valid) \n",
    "        result = f1_score(target_valid, predicted_valid)\n",
    "        if result < best_result:\n",
    "            best_model = model\n",
    "            best_result = result\n",
    "            best_depth = depth\n",
    "\n",
    "print(\"The f1-score of the best model on the validation set:\", best_result, \"best_depth:\", depth)"
   ]
  },
  {
   "cell_type": "code",
   "execution_count": 32,
   "metadata": {},
   "outputs": [
    {
     "data": {
      "text/plain": [
       "0.471830985915493"
      ]
     },
     "execution_count": 32,
     "metadata": {},
     "output_type": "execute_result"
    }
   ],
   "source": [
    "model = DecisionTreeClassifier(random_state=12345, max_depth=22)\n",
    "model.fit(features_upsampled, target_upsampled) \n",
    "predictions_test = model.predict(features_test) \n",
    "result = f1_score(target_test, predictions_test)\n",
    "result"
   ]
  },
  {
   "cell_type": "code",
   "execution_count": 33,
   "metadata": {},
   "outputs": [
    {
     "data": {
      "text/plain": [
       "0.41830065359477125"
      ]
     },
     "execution_count": 33,
     "metadata": {},
     "output_type": "execute_result"
    }
   ],
   "source": [
    "model = DecisionTreeClassifier(random_state=12345, max_depth=22)\n",
    "model.fit(features_downsampled, target_downsampled) \n",
    "predictions_test = model.predict(features_test) \n",
    "result = f1_score(target_test, predictions_test)\n",
    "result"
   ]
  },
  {
   "cell_type": "markdown",
   "metadata": {},
   "source": [
    "* Upsampling also resulted in a higher F1 score for the decision tree model. However, this model did not meet the threshold."
   ]
  },
  {
   "cell_type": "markdown",
   "metadata": {},
   "source": [
    "# AUC_ROC scores for each model with the Highest F1 Score"
   ]
  },
  {
   "cell_type": "code",
   "execution_count": 34,
   "metadata": {},
   "outputs": [
    {
     "name": "stdout",
     "output_type": "stream",
     "text": [
      "0.5799429238238619\n"
     ]
    }
   ],
   "source": [
    "model = LogisticRegression(random_state=12345, solver='liblinear')\n",
    "model.fit(features_train, target_train)\n",
    "\n",
    "probabilities_test = model.predict_proba(features_test)\n",
    "probabilities_one_test = probabilities_test[:, 1]\n",
    "\n",
    "auc_roc=roc_auc_score(target_test, probabilities_one_test)\n",
    "\n",
    "print(auc_roc)"
   ]
  },
  {
   "cell_type": "markdown",
   "metadata": {},
   "source": [
    "* Since the best F1-Score (0.49) resulted from the original Logistic Regression Model(without taking into account the class imbalance, I am using that to measure auc_roc)"
   ]
  },
  {
   "cell_type": "code",
   "execution_count": 35,
   "metadata": {},
   "outputs": [
    {
     "name": "stdout",
     "output_type": "stream",
     "text": [
      "0.6733220269297975\n"
     ]
    }
   ],
   "source": [
    "model = DecisionTreeClassifier(random_state=12345, max_depth=22) \n",
    "model.fit(features_upsampled, target_upsampled)  \n",
    "probabilities_test = model.predict_proba(features_test)\n",
    "probabilities_one_test = probabilities_test[:, 1]\n",
    "\n",
    "auc_roc=roc_auc_score(target_test, probabilities_one_test)\n",
    "\n",
    "print(auc_roc)"
   ]
  },
  {
   "cell_type": "code",
   "execution_count": 44,
   "metadata": {},
   "outputs": [
    {
     "name": "stdout",
     "output_type": "stream",
     "text": [
      "0.8518725097192745\n"
     ]
    }
   ],
   "source": [
    "model = RandomForestClassifier(random_state=12345, n_estimators=90, max_depth=16)\n",
    "model.fit(features_upsampled, target_upsampled) \n",
    "probabilities_test = model.predict_proba(features_test)\n",
    "probabilities_one_test = probabilities_test[:, 1]\n",
    "\n",
    "auc_roc=roc_auc_score(target_test, probabilities_one_test)\n",
    "\n",
    "print(auc_roc)"
   ]
  },
  {
   "cell_type": "code",
   "execution_count": 47,
   "metadata": {},
   "outputs": [],
   "source": [
    "\n",
    "fpr, tpr, thresholds = roc_curve(target_test, probabilities_one_test)"
   ]
  },
  {
   "cell_type": "code",
   "execution_count": 48,
   "metadata": {},
   "outputs": [
    {
     "data": {
      "image/png": "[encoded data removed]",
      "text/plain": [
       "<Figure size 576x432 with 1 Axes>"
      ]
     },
     "metadata": {
      "needs_background": "light"
     },
     "output_type": "display_data"
    }
   ],
   "source": [
    "plt.figure(figsize=(8, 6))\n",
    "plt.plot(fpr, tpr)\n",
    "plt.plot([0, 1], [0, 1], linestyle='--')\n",
    "plt.xlim([-0.1,1.0])\n",
    "plt.ylim([-0.1,1.01])\n",
    "plt.xlabel('False Positive Rate')\n",
    "plt.ylabel('True Positive Rate')\n",
    "plt.title('ROC curve')\n",
    "plt.show()"
   ]
  },
  {
   "cell_type": "markdown",
   "metadata": {},
   "source": [
    "* As expected, the Random Forest Model, which produced the highest F1 score also resulted in the highest auc_roc score (0.85), which is better than random."
   ]
  },
  {
   "cell_type": "markdown",
   "metadata": {},
   "source": [
    "# Comparing Random Forest Model Quality Before and After Imbalance Fixing and Finding Optimal Hyperparameters"
   ]
  },
  {
   "cell_type": "code",
   "execution_count": 37,
   "metadata": {},
   "outputs": [],
   "source": [
    "model = RandomForestClassifier(random_state=12345) \n",
    "model.fit(features_train, target_train) # train model on training set\n",
    "predictions_valid = model.predict(features_valid)\n",
    "predictions_test=model.predict(features_test)\n",
    "result = f1_score(target_test, predictions_test)"
   ]
  },
  {
   "cell_type": "code",
   "execution_count": 38,
   "metadata": {},
   "outputs": [],
   "source": [
    "cf_matrix = confusion_matrix(target_test, predictions_test)"
   ]
  },
  {
   "cell_type": "markdown",
   "metadata": {},
   "source": [
    "# Before "
   ]
  },
  {
   "cell_type": "code",
   "execution_count": 39,
   "metadata": {},
   "outputs": [
    {
     "data": {
      "image/png": "[encoded data removed]",
      "text/plain": [
       "<Figure size 800x400 with 2 Axes>"
      ]
     },
     "metadata": {
      "needs_background": "light"
     },
     "output_type": "display_data"
    }
   ],
   "source": [
    "plt.figure(figsize=(10, 5), dpi=80)\n",
    "\n",
    "ax = sns.heatmap(cf_matrix, annot=True, cmap='Blues', fmt='g')\n",
    "\n",
    "ax.set_xlabel('\\nPredicted Values')\n",
    "ax.set_ylabel('Actual Values ');\n",
    "\n",
    "## Ticket labels - List must be in alphabetical order\n",
    "ax.xaxis.set_ticklabels(['False','True'])\n",
    "ax.yaxis.set_ticklabels(['False','True'])\n",
    "\n",
    "## Display the visualization of the Confusion Matrix.\n",
    "plt.show()"
   ]
  },
  {
   "cell_type": "code",
   "execution_count": 40,
   "metadata": {},
   "outputs": [
    {
     "name": "stdout",
     "output_type": "stream",
     "text": [
      "0.5912408759124088\n"
     ]
    }
   ],
   "source": [
    "model = RandomForestClassifier(random_state=12345, n_estimators=90, max_depth=16)\n",
    "model.fit(features_upsampled, target_upsampled)\n",
    "predictions_valid = model.predict(features_valid)\n",
    "predictions_test=model.predict(features_test)\n",
    "print(f1_score(target_test, predictions_test))"
   ]
  },
  {
   "cell_type": "markdown",
   "metadata": {},
   "source": [
    "# After"
   ]
  },
  {
   "cell_type": "code",
   "execution_count": 41,
   "metadata": {},
   "outputs": [],
   "source": [
    "cf_matrix = confusion_matrix(target_test, predictions_test)"
   ]
  },
  {
   "cell_type": "code",
   "execution_count": 42,
   "metadata": {},
   "outputs": [
    {
     "data": {
      "image/png": "[encoded data removed]",
      "text/plain": [
       "<Figure size 800x400 with 2 Axes>"
      ]
     },
     "metadata": {
      "needs_background": "light"
     },
     "output_type": "display_data"
    }
   ],
   "source": [
    "plt.figure(figsize=(10, 5), dpi=80)\n",
    "\n",
    "ax = sns.heatmap(cf_matrix, annot=True, cmap='Blues', fmt='g')\n",
    "\n",
    "ax.set_xlabel('\\nPredicted Values')\n",
    "ax.set_ylabel('Actual Values ');\n",
    "\n",
    "## Ticket labels - List must be in alphabetical order\n",
    "ax.xaxis.set_ticklabels(['False','True'])\n",
    "ax.yaxis.set_ticklabels(['False','True'])\n",
    "\n",
    "## Display the visualization of the Confusion Matrix.\n",
    "plt.show()"
   ]
  },
  {
   "cell_type": "markdown",
   "metadata": {},
   "source": [
    "* As we can see through the two confusion matrices, the model predicts more true positive instances and less false negatives. In other words, the upsampled model now overcompansates predicting customers who are likely to leave the bank which is good in this case as the bank would like to cut costs by not acquiring new customers that will likely leave soon.\n",
    "\n",
    "\n",
    "* In addition, the improved model more accurately predicts customers who have left as \"exited\" customers."
   ]
  },
  {
   "cell_type": "markdown",
   "metadata": {},
   "source": [
    "# Conclusion"
   ]
  },
  {
   "cell_type": "markdown",
   "metadata": {},
   "source": [
    "* After trying different models and determining the best hyperparameters for each model, the best model with the highest F1 score(.591) was the Random Forest model (n_est=90, max_depth=16). \n",
    "\n",
    "\n",
    "* This model produced an auc_roc score of .851, which is fairly above average and indicates performance that would be generally better than random selection. "
   ]
  }
 ],
 "metadata": {
  "ExecuteTimeLog": [
   {
    "duration": 1181,
    "start_time": "2022-06-23T21:44:41.087Z"
   },
   {
    "duration": 3,
    "start_time": "2022-06-23T21:45:30.130Z"
   },
   {
    "duration": 57,
    "start_time": "2022-06-23T21:47:26.043Z"
   },
   {
    "duration": 48,
    "start_time": "2022-06-23T21:47:32.785Z"
   },
   {
    "duration": 11,
    "start_time": "2022-06-23T21:47:42.093Z"
   },
   {
    "duration": 90,
    "start_time": "2022-06-23T21:48:07.589Z"
   },
   {
    "duration": 13,
    "start_time": "2022-06-23T21:48:12.811Z"
   },
   {
    "duration": 8,
    "start_time": "2022-06-23T21:48:14.942Z"
   },
   {
    "duration": 17,
    "start_time": "2022-06-23T21:48:20.627Z"
   },
   {
    "duration": 26,
    "start_time": "2022-06-23T21:48:30.758Z"
   },
   {
    "duration": 11,
    "start_time": "2022-06-23T21:50:33.540Z"
   },
   {
    "duration": 6,
    "start_time": "2022-06-23T21:50:37.520Z"
   },
   {
    "duration": 194,
    "start_time": "2022-06-23T21:51:57.404Z"
   },
   {
    "duration": 66,
    "start_time": "2022-06-23T21:54:38.786Z"
   },
   {
    "duration": 22,
    "start_time": "2022-06-23T21:54:43.190Z"
   },
   {
    "duration": 195,
    "start_time": "2022-06-23T21:55:42.457Z"
   },
   {
    "duration": 23,
    "start_time": "2022-06-23T21:55:45.317Z"
   },
   {
    "duration": 9,
    "start_time": "2022-06-23T21:57:58.049Z"
   },
   {
    "duration": 5,
    "start_time": "2022-06-23T21:58:03.539Z"
   },
   {
    "duration": 6,
    "start_time": "2022-06-23T21:58:06.212Z"
   },
   {
    "duration": 6,
    "start_time": "2022-06-23T21:58:17.823Z"
   },
   {
    "duration": 11,
    "start_time": "2022-06-23T21:58:26.015Z"
   },
   {
    "duration": 5,
    "start_time": "2022-06-23T21:58:29.987Z"
   },
   {
    "duration": 13,
    "start_time": "2022-06-23T21:58:53.371Z"
   },
   {
    "duration": 6,
    "start_time": "2022-06-23T21:59:53.564Z"
   },
   {
    "duration": 46,
    "start_time": "2022-06-27T01:49:59.718Z"
   },
   {
    "duration": 35,
    "start_time": "2022-06-27T01:50:06.784Z"
   },
   {
    "duration": 1011,
    "start_time": "2022-06-27T01:50:15.920Z"
   },
   {
    "duration": 53,
    "start_time": "2022-06-27T01:50:16.933Z"
   },
   {
    "duration": 8,
    "start_time": "2022-06-27T01:50:16.988Z"
   },
   {
    "duration": 18,
    "start_time": "2022-06-27T01:50:16.997Z"
   },
   {
    "duration": 4,
    "start_time": "2022-06-27T01:50:17.016Z"
   },
   {
    "duration": 9,
    "start_time": "2022-06-27T01:50:17.022Z"
   },
   {
    "duration": 12,
    "start_time": "2022-06-27T01:50:17.032Z"
   },
   {
    "duration": 6,
    "start_time": "2022-06-27T01:50:17.046Z"
   },
   {
    "duration": 6,
    "start_time": "2022-06-27T01:50:17.053Z"
   },
   {
    "duration": 3,
    "start_time": "2022-06-27T01:50:27.910Z"
   },
   {
    "duration": 5,
    "start_time": "2022-06-27T01:50:34.383Z"
   },
   {
    "duration": 6,
    "start_time": "2022-06-27T02:09:04.370Z"
   },
   {
    "duration": 87,
    "start_time": "2022-06-27T02:16:01.849Z"
   },
   {
    "duration": 9,
    "start_time": "2022-06-27T02:16:26.809Z"
   },
   {
    "duration": 3,
    "start_time": "2022-06-27T02:16:38.814Z"
   },
   {
    "duration": 26,
    "start_time": "2022-06-27T02:16:46.194Z"
   },
   {
    "duration": 3,
    "start_time": "2022-06-27T02:20:08.178Z"
   },
   {
    "duration": 4,
    "start_time": "2022-06-27T02:23:58.750Z"
   },
   {
    "duration": 12,
    "start_time": "2022-06-27T02:24:16.047Z"
   },
   {
    "duration": 3,
    "start_time": "2022-06-27T02:25:32.711Z"
   },
   {
    "duration": 12,
    "start_time": "2022-06-27T02:25:35.405Z"
   },
   {
    "duration": 3,
    "start_time": "2022-06-27T02:26:02.023Z"
   },
   {
    "duration": 11,
    "start_time": "2022-06-27T02:26:05.217Z"
   },
   {
    "duration": 10,
    "start_time": "2022-06-27T02:29:49.475Z"
   },
   {
    "duration": 7,
    "start_time": "2022-06-27T02:30:14.565Z"
   },
   {
    "duration": 10,
    "start_time": "2022-06-27T02:30:17.284Z"
   },
   {
    "duration": 6,
    "start_time": "2022-06-27T02:30:19.475Z"
   },
   {
    "duration": 20,
    "start_time": "2022-06-27T02:31:20.561Z"
   },
   {
    "duration": 22,
    "start_time": "2022-06-27T02:31:29.311Z"
   },
   {
    "duration": 45,
    "start_time": "2022-06-27T02:31:34.584Z"
   },
   {
    "duration": 12,
    "start_time": "2022-06-27T02:31:37.489Z"
   },
   {
    "duration": 5,
    "start_time": "2022-06-27T02:31:42.817Z"
   },
   {
    "duration": 5,
    "start_time": "2022-06-27T02:31:49.595Z"
   },
   {
    "duration": 10,
    "start_time": "2022-06-27T02:31:50.087Z"
   },
   {
    "duration": 5,
    "start_time": "2022-06-27T02:31:51.124Z"
   },
   {
    "duration": 5,
    "start_time": "2022-06-27T02:31:51.553Z"
   },
   {
    "duration": 4,
    "start_time": "2022-06-27T02:31:51.982Z"
   },
   {
    "duration": 4,
    "start_time": "2022-06-27T02:31:52.368Z"
   },
   {
    "duration": 5,
    "start_time": "2022-06-27T02:31:52.768Z"
   },
   {
    "duration": 18,
    "start_time": "2022-06-27T02:31:53.589Z"
   },
   {
    "duration": 6,
    "start_time": "2022-06-27T02:32:29.570Z"
   },
   {
    "duration": 5,
    "start_time": "2022-06-27T02:33:14.897Z"
   },
   {
    "duration": 7,
    "start_time": "2022-06-27T02:33:56.687Z"
   },
   {
    "duration": 6,
    "start_time": "2022-06-27T02:34:00.856Z"
   },
   {
    "duration": 5,
    "start_time": "2022-06-27T02:34:01.246Z"
   },
   {
    "duration": 10,
    "start_time": "2022-06-27T02:34:01.672Z"
   },
   {
    "duration": 5,
    "start_time": "2022-06-27T02:34:02.537Z"
   },
   {
    "duration": 5,
    "start_time": "2022-06-27T02:34:02.956Z"
   },
   {
    "duration": 6,
    "start_time": "2022-06-27T02:34:06.298Z"
   },
   {
    "duration": 4,
    "start_time": "2022-06-27T02:34:10.601Z"
   },
   {
    "duration": 3,
    "start_time": "2022-06-27T02:34:11.016Z"
   },
   {
    "duration": 4,
    "start_time": "2022-06-27T02:34:11.453Z"
   },
   {
    "duration": 5,
    "start_time": "2022-06-27T02:34:11.902Z"
   },
   {
    "duration": 88,
    "start_time": "2022-06-27T02:34:13.105Z"
   },
   {
    "duration": 5,
    "start_time": "2022-06-27T02:35:43.233Z"
   },
   {
    "duration": 12,
    "start_time": "2022-06-27T02:39:02.493Z"
   },
   {
    "duration": 8,
    "start_time": "2022-06-27T02:39:20.523Z"
   },
   {
    "duration": 14,
    "start_time": "2022-06-27T02:40:23.437Z"
   },
   {
    "duration": 18,
    "start_time": "2022-06-27T02:40:33.550Z"
   },
   {
    "duration": 15,
    "start_time": "2022-06-27T02:40:37.945Z"
   },
   {
    "duration": 12,
    "start_time": "2022-06-27T02:40:48.199Z"
   },
   {
    "duration": 79,
    "start_time": "2022-06-27T02:42:11.943Z"
   },
   {
    "duration": 77,
    "start_time": "2022-06-27T02:42:14.196Z"
   },
   {
    "duration": 11,
    "start_time": "2022-06-27T02:42:18.093Z"
   },
   {
    "duration": 108,
    "start_time": "2022-06-27T02:42:22.347Z"
   },
   {
    "duration": 12,
    "start_time": "2022-06-27T02:42:27.572Z"
   },
   {
    "duration": 78,
    "start_time": "2022-06-27T02:42:32.106Z"
   },
   {
    "duration": 12,
    "start_time": "2022-06-27T02:42:35.179Z"
   },
   {
    "duration": 85,
    "start_time": "2022-06-27T02:42:39.486Z"
   },
   {
    "duration": 79,
    "start_time": "2022-06-27T02:42:41.812Z"
   },
   {
    "duration": 80,
    "start_time": "2022-06-27T02:42:43.571Z"
   },
   {
    "duration": 12,
    "start_time": "2022-06-27T02:42:45.636Z"
   },
   {
    "duration": 80,
    "start_time": "2022-06-27T02:42:49.886Z"
   },
   {
    "duration": 10,
    "start_time": "2022-06-27T02:49:49.199Z"
   },
   {
    "duration": 4,
    "start_time": "2022-06-27T02:50:40.937Z"
   },
   {
    "duration": 7245,
    "start_time": "2022-06-27T02:50:53.361Z"
   },
   {
    "duration": 6998,
    "start_time": "2022-06-27T02:52:05.415Z"
   },
   {
    "duration": 6988,
    "start_time": "2022-06-27T02:52:40.562Z"
   },
   {
    "duration": 64,
    "start_time": "2022-06-27T02:53:10.882Z"
   },
   {
    "duration": 5894,
    "start_time": "2022-06-27T02:53:15.296Z"
   },
   {
    "duration": 11,
    "start_time": "2022-06-27T02:54:01.321Z"
   },
   {
    "duration": 79,
    "start_time": "2022-06-27T02:54:02.918Z"
   },
   {
    "duration": 5920,
    "start_time": "2022-06-27T02:54:03.711Z"
   },
   {
    "duration": 437,
    "start_time": "2022-06-27T02:56:56.238Z"
   },
   {
    "duration": 358,
    "start_time": "2022-06-27T02:57:09.772Z"
   },
   {
    "duration": 458,
    "start_time": "2022-06-27T02:57:15.221Z"
   },
   {
    "duration": 384,
    "start_time": "2022-06-27T02:57:20.698Z"
   },
   {
    "duration": 275,
    "start_time": "2022-06-27T02:57:25.744Z"
   },
   {
    "duration": 366,
    "start_time": "2022-06-27T02:57:29.232Z"
   },
   {
    "duration": 415,
    "start_time": "2022-06-27T02:57:32.631Z"
   },
   {
    "duration": 504,
    "start_time": "2022-06-27T02:57:36.871Z"
   },
   {
    "duration": 583,
    "start_time": "2022-06-27T02:57:41.604Z"
   },
   {
    "duration": 650,
    "start_time": "2022-06-27T02:57:44.796Z"
   },
   {
    "duration": 746,
    "start_time": "2022-06-27T02:57:52.947Z"
   },
   {
    "duration": 1038,
    "start_time": "2022-06-27T02:57:57.372Z"
   },
   {
    "duration": 727,
    "start_time": "2022-06-27T02:58:02.615Z"
   },
   {
    "duration": 648,
    "start_time": "2022-06-27T02:58:07.927Z"
   },
   {
    "duration": 679,
    "start_time": "2022-06-27T02:58:12.585Z"
   },
   {
    "duration": 602,
    "start_time": "2022-06-27T02:58:17.610Z"
   },
   {
    "duration": 671,
    "start_time": "2022-06-27T02:58:20.813Z"
   },
   {
    "duration": 897,
    "start_time": "2022-06-27T02:58:24.332Z"
   },
   {
    "duration": 983,
    "start_time": "2022-06-27T02:58:28.736Z"
   },
   {
    "duration": 801,
    "start_time": "2022-06-27T02:58:32.081Z"
   },
   {
    "duration": 819,
    "start_time": "2022-06-27T02:58:35.244Z"
   },
   {
    "duration": 855,
    "start_time": "2022-06-27T02:58:40.624Z"
   },
   {
    "duration": 867,
    "start_time": "2022-06-27T02:58:45.049Z"
   },
   {
    "duration": 850,
    "start_time": "2022-06-27T02:58:48.461Z"
   },
   {
    "duration": 856,
    "start_time": "2022-06-27T02:58:52.021Z"
   },
   {
    "duration": 852,
    "start_time": "2022-06-27T02:58:55.272Z"
   },
   {
    "duration": 1299,
    "start_time": "2022-06-27T02:59:01.690Z"
   },
   {
    "duration": 1724,
    "start_time": "2022-06-27T02:59:06.959Z"
   },
   {
    "duration": 2641,
    "start_time": "2022-06-27T02:59:13.302Z"
   },
   {
    "duration": 7619,
    "start_time": "2022-06-27T02:59:26.214Z"
   },
   {
    "duration": 6647,
    "start_time": "2022-06-27T02:59:37.086Z"
   },
   {
    "duration": 7118,
    "start_time": "2022-06-27T03:02:52.017Z"
   },
   {
    "duration": 1070,
    "start_time": "2022-06-27T03:03:26.425Z"
   },
   {
    "duration": 971,
    "start_time": "2022-06-27T03:03:31.859Z"
   },
   {
    "duration": 3945,
    "start_time": "2022-06-27T03:04:13.090Z"
   },
   {
    "duration": 4455,
    "start_time": "2022-06-27T03:05:05.615Z"
   },
   {
    "duration": 55,
    "start_time": "2022-06-27T18:17:48.289Z"
   },
   {
    "duration": 1249,
    "start_time": "2022-06-27T18:17:57.409Z"
   },
   {
    "duration": 174,
    "start_time": "2022-06-27T18:17:58.660Z"
   },
   {
    "duration": 16,
    "start_time": "2022-06-27T18:17:58.837Z"
   },
   {
    "duration": 29,
    "start_time": "2022-06-27T18:17:58.857Z"
   },
   {
    "duration": 13,
    "start_time": "2022-06-27T18:17:58.889Z"
   },
   {
    "duration": 9,
    "start_time": "2022-06-27T18:17:58.904Z"
   },
   {
    "duration": 36,
    "start_time": "2022-06-27T18:17:58.916Z"
   },
   {
    "duration": 14,
    "start_time": "2022-06-27T18:17:58.954Z"
   },
   {
    "duration": 12,
    "start_time": "2022-06-27T18:17:58.971Z"
   },
   {
    "duration": 14,
    "start_time": "2022-06-27T18:17:58.986Z"
   },
   {
    "duration": 14,
    "start_time": "2022-06-27T18:17:59.002Z"
   },
   {
    "duration": 27,
    "start_time": "2022-06-27T18:17:59.018Z"
   },
   {
    "duration": 6,
    "start_time": "2022-06-27T18:17:59.047Z"
   },
   {
    "duration": 9,
    "start_time": "2022-06-27T18:17:59.056Z"
   },
   {
    "duration": 18,
    "start_time": "2022-06-27T18:17:59.067Z"
   },
   {
    "duration": 22,
    "start_time": "2022-06-27T18:17:59.087Z"
   },
   {
    "duration": 144,
    "start_time": "2022-06-27T18:17:59.111Z"
   },
   {
    "duration": 479,
    "start_time": "2022-06-27T18:17:59.257Z"
   },
   {
    "duration": 20,
    "start_time": "2022-06-27T18:21:07.341Z"
   },
   {
    "duration": 161,
    "start_time": "2022-06-27T18:21:09.885Z"
   },
   {
    "duration": 114,
    "start_time": "2022-06-27T18:21:11.961Z"
   },
   {
    "duration": 156,
    "start_time": "2022-06-27T18:21:14.695Z"
   },
   {
    "duration": 214,
    "start_time": "2022-06-27T18:21:32.028Z"
   },
   {
    "duration": 6,
    "start_time": "2022-06-27T18:21:40.780Z"
   },
   {
    "duration": 8,
    "start_time": "2022-06-27T18:21:41.563Z"
   },
   {
    "duration": 17,
    "start_time": "2022-06-27T18:21:41.954Z"
   },
   {
    "duration": 105,
    "start_time": "2022-06-27T18:21:43.084Z"
   },
   {
    "duration": 122,
    "start_time": "2022-06-27T18:22:29.680Z"
   },
   {
    "duration": 11,
    "start_time": "2022-06-27T18:22:45.487Z"
   },
   {
    "duration": 118,
    "start_time": "2022-06-27T18:22:49.836Z"
   },
   {
    "duration": 9,
    "start_time": "2022-06-27T18:22:52.808Z"
   },
   {
    "duration": 103,
    "start_time": "2022-06-27T18:22:55.655Z"
   },
   {
    "duration": 112,
    "start_time": "2022-06-27T18:22:57.337Z"
   },
   {
    "duration": 142,
    "start_time": "2022-06-27T18:22:58.910Z"
   },
   {
    "duration": 165,
    "start_time": "2022-06-27T18:23:00.976Z"
   },
   {
    "duration": 134,
    "start_time": "2022-06-27T18:23:02.609Z"
   },
   {
    "duration": 104,
    "start_time": "2022-06-27T18:23:04.296Z"
   },
   {
    "duration": 9,
    "start_time": "2022-06-27T18:23:07.060Z"
   },
   {
    "duration": 108,
    "start_time": "2022-06-27T18:23:08.944Z"
   },
   {
    "duration": 9,
    "start_time": "2022-06-27T18:23:11.608Z"
   },
   {
    "duration": 267,
    "start_time": "2022-06-27T18:23:13.874Z"
   },
   {
    "duration": 133,
    "start_time": "2022-06-27T18:23:17.123Z"
   },
   {
    "duration": 300,
    "start_time": "2022-06-27T18:23:32.875Z"
   },
   {
    "duration": 5,
    "start_time": "2022-06-27T18:23:39.466Z"
   },
   {
    "duration": 805,
    "start_time": "2022-06-27T18:24:01.609Z"
   },
   {
    "duration": 5,
    "start_time": "2022-06-27T18:24:03.697Z"
   },
   {
    "duration": 830,
    "start_time": "2022-06-27T18:24:07.234Z"
   },
   {
    "duration": 5,
    "start_time": "2022-06-27T18:24:09.008Z"
   },
   {
    "duration": 1066,
    "start_time": "2022-06-27T18:24:15.171Z"
   },
   {
    "duration": 5,
    "start_time": "2022-06-27T18:24:17.006Z"
   },
   {
    "duration": 4,
    "start_time": "2022-06-27T18:24:19.626Z"
   },
   {
    "duration": 897,
    "start_time": "2022-06-27T18:24:21.859Z"
   },
   {
    "duration": 4,
    "start_time": "2022-06-27T18:24:23.857Z"
   },
   {
    "duration": 907,
    "start_time": "2022-06-27T18:24:28.129Z"
   },
   {
    "duration": 5,
    "start_time": "2022-06-27T18:24:30.012Z"
   },
   {
    "duration": 1056,
    "start_time": "2022-06-27T18:24:35.782Z"
   },
   {
    "duration": 14,
    "start_time": "2022-06-27T18:24:38.098Z"
   },
   {
    "duration": 1082,
    "start_time": "2022-06-27T18:24:44.532Z"
   },
   {
    "duration": 5,
    "start_time": "2022-06-27T18:24:46.314Z"
   },
   {
    "duration": 1107,
    "start_time": "2022-06-27T18:24:51.230Z"
   },
   {
    "duration": 5,
    "start_time": "2022-06-27T18:24:53.308Z"
   },
   {
    "duration": 1283,
    "start_time": "2022-06-27T18:24:57.785Z"
   },
   {
    "duration": 5,
    "start_time": "2022-06-27T18:25:00.215Z"
   },
   {
    "duration": 13,
    "start_time": "2022-06-27T18:29:06.706Z"
   },
   {
    "duration": 4,
    "start_time": "2022-06-27T18:29:21.018Z"
   },
   {
    "duration": 63,
    "start_time": "2022-06-27T18:29:25.285Z"
   },
   {
    "duration": 65,
    "start_time": "2022-06-27T18:29:28.550Z"
   },
   {
    "duration": 65,
    "start_time": "2022-06-27T18:29:32.215Z"
   },
   {
    "duration": 62,
    "start_time": "2022-06-27T18:47:34.937Z"
   },
   {
    "duration": 57,
    "start_time": "2022-06-27T18:47:37.494Z"
   },
   {
    "duration": 60,
    "start_time": "2022-06-27T21:30:08.207Z"
   },
   {
    "duration": 1192,
    "start_time": "2022-06-27T21:30:17.796Z"
   },
   {
    "duration": 92,
    "start_time": "2022-06-27T21:30:18.994Z"
   },
   {
    "duration": 17,
    "start_time": "2022-06-27T21:30:19.092Z"
   },
   {
    "duration": 29,
    "start_time": "2022-06-27T21:30:19.112Z"
   },
   {
    "duration": 22,
    "start_time": "2022-06-27T21:30:19.143Z"
   },
   {
    "duration": 9,
    "start_time": "2022-06-27T21:30:19.168Z"
   },
   {
    "duration": 19,
    "start_time": "2022-06-27T21:30:19.183Z"
   },
   {
    "duration": 16,
    "start_time": "2022-06-27T21:30:19.204Z"
   },
   {
    "duration": 12,
    "start_time": "2022-06-27T21:30:19.223Z"
   },
   {
    "duration": 11,
    "start_time": "2022-06-27T21:30:19.238Z"
   },
   {
    "duration": 40,
    "start_time": "2022-06-27T21:30:19.261Z"
   },
   {
    "duration": 11,
    "start_time": "2022-06-27T21:30:19.303Z"
   },
   {
    "duration": 16,
    "start_time": "2022-06-27T21:30:19.316Z"
   },
   {
    "duration": 10,
    "start_time": "2022-06-27T21:30:19.334Z"
   },
   {
    "duration": 46,
    "start_time": "2022-06-27T21:30:19.346Z"
   },
   {
    "duration": 26,
    "start_time": "2022-06-27T21:30:19.396Z"
   },
   {
    "duration": 148,
    "start_time": "2022-06-27T21:30:19.424Z"
   },
   {
    "duration": 1243,
    "start_time": "2022-06-27T21:30:19.592Z"
   },
   {
    "duration": 4,
    "start_time": "2022-06-27T21:30:20.836Z"
   },
   {
    "duration": 140,
    "start_time": "2022-06-27T21:30:20.842Z"
   },
   {
    "duration": 96,
    "start_time": "2022-06-27T21:30:46.386Z"
   },
   {
    "duration": 76,
    "start_time": "2022-06-27T21:31:15.119Z"
   },
   {
    "duration": 77,
    "start_time": "2022-06-27T21:31:19.193Z"
   },
   {
    "duration": 77,
    "start_time": "2022-06-27T21:31:28.944Z"
   },
   {
    "duration": 1320,
    "start_time": "2022-06-27T21:31:36.594Z"
   },
   {
    "duration": 51,
    "start_time": "2022-06-27T21:31:37.920Z"
   },
   {
    "duration": 64,
    "start_time": "2022-06-27T21:31:37.976Z"
   },
   {
    "duration": 75,
    "start_time": "2022-06-27T21:31:38.041Z"
   },
   {
    "duration": 29,
    "start_time": "2022-06-27T21:31:38.119Z"
   },
   {
    "duration": 28,
    "start_time": "2022-06-27T21:31:38.150Z"
   },
   {
    "duration": 49,
    "start_time": "2022-06-27T21:31:38.181Z"
   },
   {
    "duration": 24,
    "start_time": "2022-06-27T21:31:38.232Z"
   },
   {
    "duration": 67,
    "start_time": "2022-06-27T21:31:38.257Z"
   },
   {
    "duration": 79,
    "start_time": "2022-06-27T21:31:38.326Z"
   },
   {
    "duration": 32,
    "start_time": "2022-06-27T21:31:38.407Z"
   },
   {
    "duration": 63,
    "start_time": "2022-06-27T21:31:38.442Z"
   },
   {
    "duration": 25,
    "start_time": "2022-06-27T21:31:38.507Z"
   },
   {
    "duration": 17,
    "start_time": "2022-06-27T21:31:38.535Z"
   },
   {
    "duration": 56,
    "start_time": "2022-06-27T21:31:38.554Z"
   },
   {
    "duration": 22,
    "start_time": "2022-06-27T21:31:38.611Z"
   },
   {
    "duration": 163,
    "start_time": "2022-06-27T21:31:38.635Z"
   },
   {
    "duration": 1308,
    "start_time": "2022-06-27T21:31:38.805Z"
   },
   {
    "duration": 4,
    "start_time": "2022-06-27T21:31:40.115Z"
   },
   {
    "duration": 82,
    "start_time": "2022-06-27T21:31:40.120Z"
   },
   {
    "duration": 74,
    "start_time": "2022-06-27T21:31:46.719Z"
   },
   {
    "duration": 3,
    "start_time": "2022-06-27T21:39:47.093Z"
   },
   {
    "duration": 73,
    "start_time": "2022-06-27T21:40:08.375Z"
   },
   {
    "duration": 5,
    "start_time": "2022-06-27T21:40:49.710Z"
   },
   {
    "duration": 158,
    "start_time": "2022-06-27T21:40:54.700Z"
   },
   {
    "duration": 5,
    "start_time": "2022-06-27T21:41:06.524Z"
   },
   {
    "duration": 23,
    "start_time": "2022-06-27T21:41:08.361Z"
   },
   {
    "duration": 20,
    "start_time": "2022-06-27T21:41:56.179Z"
   },
   {
    "duration": 4,
    "start_time": "2022-06-27T21:42:18.121Z"
   },
   {
    "duration": 22,
    "start_time": "2022-06-27T21:42:26.257Z"
   },
   {
    "duration": 12,
    "start_time": "2022-06-27T21:42:29.393Z"
   },
   {
    "duration": 11,
    "start_time": "2022-06-27T21:42:58.325Z"
   },
   {
    "duration": 124,
    "start_time": "2022-06-27T21:43:37.320Z"
   },
   {
    "duration": 14,
    "start_time": "2022-06-27T21:43:48.299Z"
   },
   {
    "duration": 6,
    "start_time": "2022-06-27T21:44:00.503Z"
   },
   {
    "duration": 13,
    "start_time": "2022-06-27T21:44:04.098Z"
   },
   {
    "duration": 16,
    "start_time": "2022-06-27T21:44:32.398Z"
   },
   {
    "duration": 8,
    "start_time": "2022-06-27T21:46:37.446Z"
   },
   {
    "duration": 21,
    "start_time": "2022-06-27T21:47:02.928Z"
   },
   {
    "duration": 18,
    "start_time": "2022-06-27T21:47:06.311Z"
   },
   {
    "duration": 62,
    "start_time": "2022-06-27T21:47:09.821Z"
   },
   {
    "duration": 11,
    "start_time": "2022-06-27T22:15:49.842Z"
   },
   {
    "duration": 128,
    "start_time": "2022-06-27T22:16:58.042Z"
   },
   {
    "duration": 25,
    "start_time": "2022-06-27T22:17:58.773Z"
   },
   {
    "duration": 71,
    "start_time": "2022-06-27T22:18:01.188Z"
   },
   {
    "duration": 136,
    "start_time": "2022-06-27T22:19:52.053Z"
   },
   {
    "duration": 7,
    "start_time": "2022-06-27T22:30:28.481Z"
   },
   {
    "duration": 25,
    "start_time": "2022-06-27T22:30:47.291Z"
   },
   {
    "duration": 29,
    "start_time": "2022-06-27T22:31:13.050Z"
   },
   {
    "duration": 1127,
    "start_time": "2022-06-27T22:31:18.947Z"
   },
   {
    "duration": 5,
    "start_time": "2022-06-27T22:31:23.299Z"
   },
   {
    "duration": 1127,
    "start_time": "2022-06-27T22:32:32.442Z"
   },
   {
    "duration": 17,
    "start_time": "2022-06-27T22:32:33.570Z"
   },
   {
    "duration": 27372,
    "start_time": "2022-06-27T22:36:10.980Z"
   },
   {
    "duration": 90,
    "start_time": "2022-06-27T22:37:38.198Z"
   },
   {
    "duration": 82,
    "start_time": "2022-06-27T22:37:58.150Z"
   },
   {
    "duration": 118,
    "start_time": "2022-06-27T22:38:07.688Z"
   },
   {
    "duration": 100,
    "start_time": "2022-06-27T22:38:21.414Z"
   },
   {
    "duration": 16,
    "start_time": "2022-06-27T22:39:04.093Z"
   },
   {
    "duration": 169,
    "start_time": "2022-06-27T22:39:53.211Z"
   },
   {
    "duration": 1380,
    "start_time": "2022-06-27T22:40:12.890Z"
   },
   {
    "duration": 1600,
    "start_time": "2022-06-27T22:40:20.051Z"
   },
   {
    "duration": 221,
    "start_time": "2022-06-27T22:40:27.358Z"
   },
   {
    "duration": 19728,
    "start_time": "2022-06-27T22:40:42.354Z"
   },
   {
    "duration": 25331,
    "start_time": "2022-06-27T22:41:14.654Z"
   },
   {
    "duration": 17,
    "start_time": "2022-06-27T22:41:46.445Z"
   },
   {
    "duration": 54,
    "start_time": "2022-06-27T22:42:07.950Z"
   },
   {
    "duration": 57,
    "start_time": "2022-06-27T22:42:11.433Z"
   },
   {
    "duration": 49598,
    "start_time": "2022-06-27T22:52:23.148Z"
   },
   {
    "duration": 170,
    "start_time": "2022-06-27T22:53:35.032Z"
   },
   {
    "duration": 13,
    "start_time": "2022-06-27T22:53:41.637Z"
   },
   {
    "duration": 50,
    "start_time": "2022-06-27T22:53:43.787Z"
   },
   {
    "duration": 64,
    "start_time": "2022-06-27T22:55:50.249Z"
   },
   {
    "duration": 489,
    "start_time": "2022-06-27T22:56:00.209Z"
   },
   {
    "duration": 51,
    "start_time": "2022-06-27T22:57:15.109Z"
   },
   {
    "duration": 104,
    "start_time": "2022-06-27T22:58:07.408Z"
   },
   {
    "duration": 100,
    "start_time": "2022-06-27T22:58:11.598Z"
   },
   {
    "duration": 32,
    "start_time": "2022-06-27T23:00:03.257Z"
   },
   {
    "duration": 659,
    "start_time": "2022-06-27T23:00:24.294Z"
   },
   {
    "duration": 498,
    "start_time": "2022-06-27T23:00:34.287Z"
   },
   {
    "duration": 26,
    "start_time": "2022-06-27T23:03:33.098Z"
   },
   {
    "duration": 1684,
    "start_time": "2022-06-27T23:04:43.588Z"
   },
   {
    "duration": 2334,
    "start_time": "2022-06-27T23:04:56.076Z"
   },
   {
    "duration": 1145,
    "start_time": "2022-06-27T23:05:07.323Z"
   },
   {
    "duration": 174,
    "start_time": "2022-06-27T23:05:21.075Z"
   },
   {
    "duration": 14,
    "start_time": "2022-06-27T23:15:11.957Z"
   },
   {
    "duration": 1183,
    "start_time": "2022-06-27T23:15:36.003Z"
   },
   {
    "duration": 32,
    "start_time": "2022-06-27T23:15:37.190Z"
   },
   {
    "duration": 9,
    "start_time": "2022-06-27T23:15:37.224Z"
   },
   {
    "duration": 69,
    "start_time": "2022-06-27T23:15:37.235Z"
   },
   {
    "duration": 46,
    "start_time": "2022-06-27T23:15:37.306Z"
   },
   {
    "duration": 36,
    "start_time": "2022-06-27T23:15:37.355Z"
   },
   {
    "duration": 35,
    "start_time": "2022-06-27T23:15:37.393Z"
   },
   {
    "duration": 41,
    "start_time": "2022-06-27T23:15:37.430Z"
   },
   {
    "duration": 49,
    "start_time": "2022-06-27T23:15:37.473Z"
   },
   {
    "duration": 26,
    "start_time": "2022-06-27T23:15:37.525Z"
   },
   {
    "duration": 63,
    "start_time": "2022-06-27T23:15:37.554Z"
   },
   {
    "duration": 27,
    "start_time": "2022-06-27T23:15:37.621Z"
   },
   {
    "duration": 70,
    "start_time": "2022-06-27T23:15:37.650Z"
   },
   {
    "duration": 64,
    "start_time": "2022-06-27T23:15:37.722Z"
   },
   {
    "duration": 62,
    "start_time": "2022-06-27T23:15:37.787Z"
   },
   {
    "duration": 56,
    "start_time": "2022-06-27T23:15:37.852Z"
   },
   {
    "duration": 191,
    "start_time": "2022-06-27T23:15:37.910Z"
   },
   {
    "duration": 1041,
    "start_time": "2022-06-27T23:15:38.162Z"
   },
   {
    "duration": 4,
    "start_time": "2022-06-27T23:15:39.205Z"
   },
   {
    "duration": 78,
    "start_time": "2022-06-27T23:15:39.212Z"
   },
   {
    "duration": 5,
    "start_time": "2022-06-27T23:15:39.292Z"
   },
   {
    "duration": 34,
    "start_time": "2022-06-27T23:15:39.299Z"
   },
   {
    "duration": 53,
    "start_time": "2022-06-27T23:15:39.335Z"
   },
   {
    "duration": 176,
    "start_time": "2022-06-27T23:15:39.390Z"
   },
   {
    "duration": 26,
    "start_time": "2022-06-27T23:15:39.582Z"
   },
   {
    "duration": 22327,
    "start_time": "2022-06-27T23:15:39.664Z"
   },
   {
    "duration": 162,
    "start_time": "2022-06-27T23:16:01.993Z"
   },
   {
    "duration": 48,
    "start_time": "2022-06-27T23:16:02.160Z"
   },
   {
    "duration": 436,
    "start_time": "2022-06-27T23:16:02.210Z"
   },
   {
    "duration": 100,
    "start_time": "2022-06-27T23:16:02.648Z"
   },
   {
    "duration": 33,
    "start_time": "2022-06-27T23:16:02.750Z"
   },
   {
    "duration": 936,
    "start_time": "2022-06-27T23:19:25.435Z"
   },
   {
    "duration": 4,
    "start_time": "2022-06-27T23:19:31.398Z"
   },
   {
    "duration": 145,
    "start_time": "2022-06-27T23:20:15.527Z"
   },
   {
    "duration": 58,
    "start_time": "2022-06-27T23:20:52.041Z"
   },
   {
    "duration": 105,
    "start_time": "2022-06-27T23:21:32.581Z"
   },
   {
    "duration": 272,
    "start_time": "2022-06-27T23:22:33.032Z"
   },
   {
    "duration": 123,
    "start_time": "2022-06-27T23:22:41.443Z"
   },
   {
    "duration": 160,
    "start_time": "2022-06-27T23:23:26.673Z"
   },
   {
    "duration": 1208,
    "start_time": "2022-06-27T23:23:38.998Z"
   },
   {
    "duration": 1339,
    "start_time": "2022-06-27T23:23:45.341Z"
   },
   {
    "duration": 1471,
    "start_time": "2022-06-27T23:23:50.302Z"
   },
   {
    "duration": 1488,
    "start_time": "2022-06-27T23:23:59.322Z"
   },
   {
    "duration": 293,
    "start_time": "2022-06-27T23:24:18.747Z"
   },
   {
    "duration": 355,
    "start_time": "2022-06-27T23:24:41.633Z"
   },
   {
    "duration": 305,
    "start_time": "2022-06-27T23:25:41.305Z"
   },
   {
    "duration": 337,
    "start_time": "2022-06-27T23:25:46.275Z"
   },
   {
    "duration": 333,
    "start_time": "2022-06-27T23:25:49.581Z"
   },
   {
    "duration": 338,
    "start_time": "2022-06-27T23:25:55.678Z"
   },
   {
    "duration": 14870,
    "start_time": "2022-06-27T23:26:56.410Z"
   },
   {
    "duration": 24670,
    "start_time": "2022-06-27T23:27:15.309Z"
   },
   {
    "duration": 29701,
    "start_time": "2022-06-27T23:27:49.317Z"
   },
   {
    "duration": 83,
    "start_time": "2022-06-27T23:28:27.507Z"
   },
   {
    "duration": 114,
    "start_time": "2022-06-27T23:28:31.647Z"
   },
   {
    "duration": 85,
    "start_time": "2022-06-27T23:28:35.752Z"
   },
   {
    "duration": 120,
    "start_time": "2022-06-27T23:28:38.156Z"
   },
   {
    "duration": 98,
    "start_time": "2022-06-27T23:28:41.619Z"
   },
   {
    "duration": 88,
    "start_time": "2022-06-27T23:28:44.503Z"
   },
   {
    "duration": 85,
    "start_time": "2022-06-27T23:28:47.767Z"
   },
   {
    "duration": 89,
    "start_time": "2022-06-27T23:28:52.138Z"
   },
   {
    "duration": 98,
    "start_time": "2022-06-27T23:28:54.791Z"
   },
   {
    "duration": 87,
    "start_time": "2022-06-27T23:28:58.658Z"
   },
   {
    "duration": 91,
    "start_time": "2022-06-27T23:29:00.943Z"
   },
   {
    "duration": 86,
    "start_time": "2022-06-27T23:29:03.994Z"
   },
   {
    "duration": 90,
    "start_time": "2022-06-27T23:29:06.295Z"
   },
   {
    "duration": 91,
    "start_time": "2022-06-27T23:29:08.833Z"
   },
   {
    "duration": 82,
    "start_time": "2022-06-27T23:29:12.376Z"
   },
   {
    "duration": 97,
    "start_time": "2022-06-27T23:29:15.073Z"
   },
   {
    "duration": 800,
    "start_time": "2022-06-27T23:29:23.539Z"
   },
   {
    "duration": 86,
    "start_time": "2022-06-27T23:29:45.646Z"
   },
   {
    "duration": 1546,
    "start_time": "2022-06-27T23:29:55.494Z"
   },
   {
    "duration": 1626,
    "start_time": "2022-06-27T23:30:00.252Z"
   },
   {
    "duration": 1492,
    "start_time": "2022-06-27T23:30:07.644Z"
   },
   {
    "duration": 1456,
    "start_time": "2022-06-27T23:30:15.616Z"
   },
   {
    "duration": 4,
    "start_time": "2022-06-27T23:34:02.678Z"
   },
   {
    "duration": 396,
    "start_time": "2022-06-27T23:34:16.433Z"
   },
   {
    "duration": 78,
    "start_time": "2022-06-27T23:35:12.282Z"
   },
   {
    "duration": 26,
    "start_time": "2022-06-27T23:37:37.041Z"
   },
   {
    "duration": 32,
    "start_time": "2022-06-27T23:37:48.059Z"
   },
   {
    "duration": 48,
    "start_time": "2022-06-27T23:39:04.083Z"
   },
   {
    "duration": 232,
    "start_time": "2022-06-27T23:39:09.931Z"
   },
   {
    "duration": 51,
    "start_time": "2022-06-27T23:39:44.313Z"
   },
   {
    "duration": 19,
    "start_time": "2022-06-27T23:41:49.837Z"
   },
   {
    "duration": 959,
    "start_time": "2022-06-27T23:43:52.979Z"
   },
   {
    "duration": 5,
    "start_time": "2022-06-27T23:43:55.252Z"
   },
   {
    "duration": 86,
    "start_time": "2022-06-27T23:45:25.577Z"
   },
   {
    "duration": 1455,
    "start_time": "2022-06-27T23:46:50.029Z"
   },
   {
    "duration": 128,
    "start_time": "2022-06-27T23:52:15.429Z"
   },
   {
    "duration": 120,
    "start_time": "2022-06-27T23:53:11.888Z"
   },
   {
    "duration": 52,
    "start_time": "2022-06-27T23:53:57.693Z"
   },
   {
    "duration": 67,
    "start_time": "2022-06-27T23:54:04.874Z"
   },
   {
    "duration": 232,
    "start_time": "2022-06-27T23:54:20.132Z"
   },
   {
    "duration": 39,
    "start_time": "2022-06-27T23:57:13.729Z"
   },
   {
    "duration": 10,
    "start_time": "2022-06-27T23:57:25.887Z"
   },
   {
    "duration": 4,
    "start_time": "2022-06-27T23:57:33.792Z"
   },
   {
    "duration": 200,
    "start_time": "2022-06-27T23:59:37.567Z"
   },
   {
    "duration": 31814,
    "start_time": "2022-06-28T00:02:19.509Z"
   },
   {
    "duration": 105,
    "start_time": "2022-06-28T00:02:51.325Z"
   },
   {
    "duration": 1637,
    "start_time": "2022-06-28T00:03:00.602Z"
   },
   {
    "duration": 106,
    "start_time": "2022-06-28T00:06:47.412Z"
   },
   {
    "duration": 90,
    "start_time": "2022-06-28T00:21:03.935Z"
   },
   {
    "duration": 5,
    "start_time": "2022-06-28T00:21:12.516Z"
   },
   {
    "duration": 248,
    "start_time": "2022-06-28T00:21:13.991Z"
   },
   {
    "duration": 1595,
    "start_time": "2022-06-28T00:24:49.390Z"
   },
   {
    "duration": 8,
    "start_time": "2022-06-28T00:24:53.089Z"
   },
   {
    "duration": 335,
    "start_time": "2022-06-28T00:24:54.238Z"
   },
   {
    "duration": 278,
    "start_time": "2022-06-28T00:27:18.857Z"
   },
   {
    "duration": 949,
    "start_time": "2022-06-28T00:27:27.629Z"
   },
   {
    "duration": 5,
    "start_time": "2022-06-28T00:27:29.415Z"
   },
   {
    "duration": 240,
    "start_time": "2022-06-28T00:27:30.803Z"
   },
   {
    "duration": 47,
    "start_time": "2022-06-28T21:49:09.187Z"
   },
   {
    "duration": 1457,
    "start_time": "2022-06-28T21:49:21.370Z"
   },
   {
    "duration": 56,
    "start_time": "2022-06-28T21:49:22.829Z"
   },
   {
    "duration": 6,
    "start_time": "2022-06-28T21:49:22.887Z"
   },
   {
    "duration": 24,
    "start_time": "2022-06-28T21:49:22.895Z"
   },
   {
    "duration": 10,
    "start_time": "2022-06-28T21:49:22.922Z"
   },
   {
    "duration": 5,
    "start_time": "2022-06-28T21:49:22.934Z"
   },
   {
    "duration": 13,
    "start_time": "2022-06-28T21:49:22.940Z"
   },
   {
    "duration": 14,
    "start_time": "2022-06-28T21:49:22.955Z"
   },
   {
    "duration": 16,
    "start_time": "2022-06-28T21:49:22.970Z"
   },
   {
    "duration": 7,
    "start_time": "2022-06-28T21:49:22.988Z"
   },
   {
    "duration": 6,
    "start_time": "2022-06-28T21:49:22.997Z"
   },
   {
    "duration": 4,
    "start_time": "2022-06-28T21:49:23.027Z"
   },
   {
    "duration": 6,
    "start_time": "2022-06-28T21:49:23.032Z"
   },
   {
    "duration": 143,
    "start_time": "2022-06-28T21:49:23.041Z"
   },
   {
    "duration": 11,
    "start_time": "2022-06-28T21:49:23.185Z"
   },
   {
    "duration": 10,
    "start_time": "2022-06-28T21:49:23.198Z"
   },
   {
    "duration": 21,
    "start_time": "2022-06-28T21:49:23.209Z"
   },
   {
    "duration": 111,
    "start_time": "2022-06-28T21:49:23.231Z"
   },
   {
    "duration": 1072,
    "start_time": "2022-06-28T21:49:23.344Z"
   },
   {
    "duration": 4,
    "start_time": "2022-06-28T21:49:24.417Z"
   },
   {
    "duration": 52,
    "start_time": "2022-06-28T21:49:24.427Z"
   },
   {
    "duration": 4,
    "start_time": "2022-06-28T21:49:24.481Z"
   },
   {
    "duration": 17,
    "start_time": "2022-06-28T21:49:24.486Z"
   },
   {
    "duration": 29,
    "start_time": "2022-06-28T21:49:24.505Z"
   },
   {
    "duration": 193,
    "start_time": "2022-06-28T21:49:24.535Z"
   },
   {
    "duration": 120,
    "start_time": "2022-06-28T21:49:24.730Z"
   },
   {
    "duration": 27972,
    "start_time": "2022-06-28T21:49:24.853Z"
   },
   {
    "duration": 1442,
    "start_time": "2022-06-28T21:49:52.827Z"
   },
   {
    "duration": 303,
    "start_time": "2022-06-28T21:49:54.271Z"
   },
   {
    "duration": 786,
    "start_time": "2022-06-28T21:49:54.576Z"
   },
   {
    "duration": 93,
    "start_time": "2022-06-28T21:49:55.363Z"
   },
   {
    "duration": 19,
    "start_time": "2022-06-28T21:49:55.458Z"
   },
   {
    "duration": 149,
    "start_time": "2022-06-28T21:49:55.478Z"
   },
   {
    "duration": 83,
    "start_time": "2022-06-28T21:49:55.629Z"
   },
   {
    "duration": 1408,
    "start_time": "2022-06-28T21:49:55.727Z"
   },
   {
    "duration": 861,
    "start_time": "2022-06-28T21:49:57.137Z"
   },
   {
    "duration": 4,
    "start_time": "2022-06-28T21:49:58.000Z"
   },
   {
    "duration": 372,
    "start_time": "2022-06-28T21:49:58.006Z"
   },
   {
    "duration": 1405,
    "start_time": "2022-06-28T21:49:58.379Z"
   },
   {
    "duration": 5,
    "start_time": "2022-06-28T21:49:59.786Z"
   },
   {
    "duration": 286,
    "start_time": "2022-06-28T21:49:59.794Z"
   },
   {
    "duration": 4,
    "start_time": "2022-06-28T21:54:48.219Z"
   },
   {
    "duration": 4,
    "start_time": "2022-06-28T22:02:15.794Z"
   },
   {
    "duration": 4,
    "start_time": "2022-06-28T22:02:27.507Z"
   },
   {
    "duration": 3,
    "start_time": "2022-06-28T22:02:55.891Z"
   },
   {
    "duration": 6,
    "start_time": "2022-06-28T22:03:25.240Z"
   },
   {
    "duration": 32,
    "start_time": "2022-06-28T22:03:38.287Z"
   },
   {
    "duration": 6,
    "start_time": "2022-06-28T22:03:40.885Z"
   },
   {
    "duration": 10,
    "start_time": "2022-06-28T22:03:47.031Z"
   },
   {
    "duration": 5,
    "start_time": "2022-06-28T22:03:48.712Z"
   },
   {
    "duration": 14,
    "start_time": "2022-06-28T22:03:53.106Z"
   },
   {
    "duration": 5,
    "start_time": "2022-06-28T22:03:55.569Z"
   },
   {
    "duration": 11,
    "start_time": "2022-06-28T22:03:59.235Z"
   },
   {
    "duration": 6,
    "start_time": "2022-06-28T22:04:01.418Z"
   },
   {
    "duration": 10,
    "start_time": "2022-06-28T22:04:04.969Z"
   },
   {
    "duration": 6,
    "start_time": "2022-06-28T22:04:06.639Z"
   },
   {
    "duration": 19,
    "start_time": "2022-06-28T22:04:12.393Z"
   },
   {
    "duration": 5,
    "start_time": "2022-06-28T22:04:13.720Z"
   },
   {
    "duration": 21,
    "start_time": "2022-06-28T22:04:31.242Z"
   },
   {
    "duration": 8,
    "start_time": "2022-06-28T22:04:33.169Z"
   },
   {
    "duration": 11,
    "start_time": "2022-06-28T22:04:40.642Z"
   },
   {
    "duration": 8,
    "start_time": "2022-06-28T22:04:44.537Z"
   },
   {
    "duration": 123,
    "start_time": "2022-06-28T22:04:49.451Z"
   },
   {
    "duration": 12,
    "start_time": "2022-06-28T22:04:53.166Z"
   },
   {
    "duration": 6,
    "start_time": "2022-06-28T22:04:54.999Z"
   },
   {
    "duration": 12,
    "start_time": "2022-06-28T22:05:00.428Z"
   },
   {
    "duration": 5,
    "start_time": "2022-06-28T22:05:02.967Z"
   },
   {
    "duration": 14,
    "start_time": "2022-06-28T22:05:06.233Z"
   },
   {
    "duration": 6,
    "start_time": "2022-06-28T22:05:07.978Z"
   },
   {
    "duration": 12,
    "start_time": "2022-06-28T22:05:10.724Z"
   },
   {
    "duration": 5,
    "start_time": "2022-06-28T22:05:12.270Z"
   },
   {
    "duration": 67,
    "start_time": "2022-06-28T22:05:17.643Z"
   },
   {
    "duration": 6,
    "start_time": "2022-06-28T22:05:19.050Z"
   },
   {
    "duration": 15,
    "start_time": "2022-06-28T22:05:24.240Z"
   },
   {
    "duration": 5,
    "start_time": "2022-06-28T22:05:25.818Z"
   },
   {
    "duration": 12,
    "start_time": "2022-06-28T22:05:44.567Z"
   },
   {
    "duration": 7,
    "start_time": "2022-06-28T22:05:46.268Z"
   },
   {
    "duration": 13,
    "start_time": "2022-06-28T22:05:58.839Z"
   },
   {
    "duration": 6,
    "start_time": "2022-06-28T22:06:00.370Z"
   },
   {
    "duration": 16,
    "start_time": "2022-06-28T22:06:08.747Z"
   },
   {
    "duration": 5,
    "start_time": "2022-06-28T22:07:21.852Z"
   },
   {
    "duration": 5,
    "start_time": "2022-06-28T22:07:40.697Z"
   },
   {
    "duration": 50,
    "start_time": "2022-06-28T22:08:54.923Z"
   },
   {
    "duration": 90,
    "start_time": "2022-06-28T22:11:00.212Z"
   },
   {
    "duration": 8,
    "start_time": "2022-06-29T21:59:57.330Z"
   },
   {
    "duration": 1704,
    "start_time": "2022-06-29T22:00:02.917Z"
   },
   {
    "duration": 61,
    "start_time": "2022-06-29T22:00:04.623Z"
   },
   {
    "duration": 6,
    "start_time": "2022-06-29T22:00:04.686Z"
   },
   {
    "duration": 24,
    "start_time": "2022-06-29T22:00:04.695Z"
   },
   {
    "duration": 11,
    "start_time": "2022-06-29T22:00:04.720Z"
   },
   {
    "duration": 5,
    "start_time": "2022-06-29T22:00:04.733Z"
   },
   {
    "duration": 16,
    "start_time": "2022-06-29T22:00:04.740Z"
   },
   {
    "duration": 15,
    "start_time": "2022-06-29T22:00:04.758Z"
   },
   {
    "duration": 7,
    "start_time": "2022-06-29T22:00:04.775Z"
   },
   {
    "duration": 8,
    "start_time": "2022-06-29T22:00:04.785Z"
   },
   {
    "duration": 7,
    "start_time": "2022-06-29T22:00:04.794Z"
   },
   {
    "duration": 10,
    "start_time": "2022-06-29T22:00:04.803Z"
   },
   {
    "duration": 9,
    "start_time": "2022-06-29T22:00:04.815Z"
   },
   {
    "duration": 143,
    "start_time": "2022-06-29T22:00:04.825Z"
   },
   {
    "duration": 11,
    "start_time": "2022-06-29T22:00:04.970Z"
   },
   {
    "duration": 9,
    "start_time": "2022-06-29T22:00:04.983Z"
   },
   {
    "duration": 5,
    "start_time": "2022-06-29T22:00:04.994Z"
   },
   {
    "duration": 170,
    "start_time": "2022-06-29T22:00:05.001Z"
   },
   {
    "duration": 1322,
    "start_time": "2022-06-29T22:00:05.173Z"
   },
   {
    "duration": 5,
    "start_time": "2022-06-29T22:00:06.496Z"
   },
   {
    "duration": 70,
    "start_time": "2022-06-29T22:00:06.503Z"
   },
   {
    "duration": 5,
    "start_time": "2022-06-29T22:00:06.575Z"
   },
   {
    "duration": 19,
    "start_time": "2022-06-29T22:00:06.581Z"
   },
   {
    "duration": 13,
    "start_time": "2022-06-29T22:00:06.603Z"
   },
   {
    "duration": 26,
    "start_time": "2022-06-29T22:00:06.618Z"
   },
   {
    "duration": 227,
    "start_time": "2022-06-29T22:00:06.645Z"
   },
   {
    "duration": 111,
    "start_time": "2022-06-29T22:00:06.877Z"
   },
   {
    "duration": 27290,
    "start_time": "2022-06-29T22:00:06.994Z"
   },
   {
    "duration": 1447,
    "start_time": "2022-06-29T22:00:34.286Z"
   },
   {
    "duration": 347,
    "start_time": "2022-06-29T22:00:35.735Z"
   },
   {
    "duration": 822,
    "start_time": "2022-06-29T22:00:36.083Z"
   },
   {
    "duration": 95,
    "start_time": "2022-06-29T22:00:36.907Z"
   },
   {
    "duration": 21,
    "start_time": "2022-06-29T22:00:37.004Z"
   },
   {
    "duration": 43,
    "start_time": "2022-06-29T22:00:37.027Z"
   },
   {
    "duration": 209,
    "start_time": "2022-06-29T22:00:37.072Z"
   },
   {
    "duration": 1393,
    "start_time": "2022-06-29T22:00:37.283Z"
   },
   {
    "duration": 895,
    "start_time": "2022-06-29T22:00:38.677Z"
   },
   {
    "duration": 6,
    "start_time": "2022-06-29T22:00:39.574Z"
   },
   {
    "duration": 262,
    "start_time": "2022-06-29T22:00:39.582Z"
   },
   {
    "duration": 1403,
    "start_time": "2022-06-29T22:00:39.846Z"
   },
   {
    "duration": 5,
    "start_time": "2022-06-29T22:00:41.250Z"
   },
   {
    "duration": 364,
    "start_time": "2022-06-29T22:00:41.266Z"
   },
   {
    "duration": 1367,
    "start_time": "2022-06-29T22:00:41.712Z"
   },
   {
    "duration": 1342,
    "start_time": "2022-06-29T22:00:43.355Z"
   },
   {
    "duration": 4,
    "start_time": "2022-06-29T22:01:09.296Z"
   },
   {
    "duration": 4,
    "start_time": "2022-06-29T22:01:11.223Z"
   },
   {
    "duration": 5,
    "start_time": "2022-06-29T22:01:19.774Z"
   },
   {
    "duration": 126,
    "start_time": "2022-06-29T22:01:58.212Z"
   }
  ],
  "kernelspec": {
   "display_name": "Python 3 (ipykernel)",
   "language": "python",
   "name": "python3"
  },
  "language_info": {
   "codemirror_mode": {
    "name": "ipython",
    "version": 3
   },
   "file_extension": ".py",
   "mimetype": "text/x-python",
   "name": "python",
   "nbconvert_exporter": "python",
   "pygments_lexer": "ipython3",
   "version": "3.9.12"
  },
  "toc": {
   "base_numbering": 1,
   "nav_menu": {},
   "number_sections": true,
   "sideBar": true,
   "skip_h1_title": true,
   "title_cell": "Table of Contents",
   "title_sidebar": "Contents",
   "toc_cell": false,
   "toc_position": {},
   "toc_section_display": true,
   "toc_window_display": false
  }
 },
 "nbformat": 4,
 "nbformat_minor": 2
}
