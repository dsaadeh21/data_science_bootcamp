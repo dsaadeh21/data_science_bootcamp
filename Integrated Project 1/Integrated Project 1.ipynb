{
 "cells": [
  {
   "cell_type": "code",
   "execution_count": 1,
   "id": "54da9dd6",
   "metadata": {},
   "outputs": [
    {
     "data": {
      "text/html": [
       "        <script type=\"text/javascript\">\n",
       "        window.PlotlyConfig = {MathJaxConfig: 'local'};\n",
       "        if (window.MathJax) {MathJax.Hub.Config({SVG: {font: \"STIX-Web\"}});}\n",
       "        if (typeof require !== 'undefined') {\n",
       "        require.undef(\"plotly\");\n",
       "        requirejs.config({\n",
       "            paths: {\n",
       "                'plotly': ['https://cdn.plot.ly/plotly-2.6.3.min']\n",
       "            }\n",
       "        });\n",
       "        require(['plotly'], function(Plotly) {\n",
       "            window._Plotly = Plotly;\n",
       "        });\n",
       "        }\n",
       "        </script>\n",
       "        "
      ]
     },
     "metadata": {},
     "output_type": "display_data"
    }
   ],
   "source": [
    "import pandas as pd\n",
    "import seaborn as sb\n",
    "from scipy import stats as st\n",
    "import numpy as np\n",
    "from math import factorial\n",
    "from functools import reduce\n",
    "%matplotlib inline\n",
    "import matplotlib.pyplot as plt\n",
    "from plotly.offline import iplot, init_notebook_mode\n",
    "init_notebook_mode(connected=True)\n",
    "\n",
    "\n",
    "            "
   ]
  },
  {
   "cell_type": "code",
   "execution_count": 2,
   "id": "4913b342",
   "metadata": {},
   "outputs": [],
   "source": [
    "games=pd.read_csv(\"/datasets/games.csv\")"
   ]
  },
  {
   "cell_type": "code",
   "execution_count": 3,
   "id": "adeb3e28",
   "metadata": {},
   "outputs": [
    {
     "data": {
      "text/html": [
       "<div>\n",
       "<style scoped>\n",
       "    .dataframe tbody tr th:only-of-type {\n",
       "        vertical-align: middle;\n",
       "    }\n",
       "\n",
       "    .dataframe tbody tr th {\n",
       "        vertical-align: top;\n",
       "    }\n",
       "\n",
       "    .dataframe thead th {\n",
       "        text-align: right;\n",
       "    }\n",
       "</style>\n",
       "<table border=\"1\" class=\"dataframe\">\n",
       "  <thead>\n",
       "    <tr style=\"text-align: right;\">\n",
       "      <th></th>\n",
       "      <th>Name</th>\n",
       "      <th>Platform</th>\n",
       "      <th>Year_of_Release</th>\n",
       "      <th>Genre</th>\n",
       "      <th>NA_sales</th>\n",
       "      <th>EU_sales</th>\n",
       "      <th>JP_sales</th>\n",
       "      <th>Other_sales</th>\n",
       "      <th>Critic_Score</th>\n",
       "      <th>User_Score</th>\n",
       "      <th>Rating</th>\n",
       "    </tr>\n",
       "  </thead>\n",
       "  <tbody>\n",
       "    <tr>\n",
       "      <th>0</th>\n",
       "      <td>Wii Sports</td>\n",
       "      <td>Wii</td>\n",
       "      <td>2006.0</td>\n",
       "      <td>Sports</td>\n",
       "      <td>41.36</td>\n",
       "      <td>28.96</td>\n",
       "      <td>3.77</td>\n",
       "      <td>8.45</td>\n",
       "      <td>76.0</td>\n",
       "      <td>8</td>\n",
       "      <td>E</td>\n",
       "    </tr>\n",
       "    <tr>\n",
       "      <th>1</th>\n",
       "      <td>Super Mario Bros.</td>\n",
       "      <td>NES</td>\n",
       "      <td>1985.0</td>\n",
       "      <td>Platform</td>\n",
       "      <td>29.08</td>\n",
       "      <td>3.58</td>\n",
       "      <td>6.81</td>\n",
       "      <td>0.77</td>\n",
       "      <td>NaN</td>\n",
       "      <td>NaN</td>\n",
       "      <td>NaN</td>\n",
       "    </tr>\n",
       "    <tr>\n",
       "      <th>2</th>\n",
       "      <td>Mario Kart Wii</td>\n",
       "      <td>Wii</td>\n",
       "      <td>2008.0</td>\n",
       "      <td>Racing</td>\n",
       "      <td>15.68</td>\n",
       "      <td>12.76</td>\n",
       "      <td>3.79</td>\n",
       "      <td>3.29</td>\n",
       "      <td>82.0</td>\n",
       "      <td>8.3</td>\n",
       "      <td>E</td>\n",
       "    </tr>\n",
       "    <tr>\n",
       "      <th>3</th>\n",
       "      <td>Wii Sports Resort</td>\n",
       "      <td>Wii</td>\n",
       "      <td>2009.0</td>\n",
       "      <td>Sports</td>\n",
       "      <td>15.61</td>\n",
       "      <td>10.93</td>\n",
       "      <td>3.28</td>\n",
       "      <td>2.95</td>\n",
       "      <td>80.0</td>\n",
       "      <td>8</td>\n",
       "      <td>E</td>\n",
       "    </tr>\n",
       "    <tr>\n",
       "      <th>4</th>\n",
       "      <td>Pokemon Red/Pokemon Blue</td>\n",
       "      <td>GB</td>\n",
       "      <td>1996.0</td>\n",
       "      <td>Role-Playing</td>\n",
       "      <td>11.27</td>\n",
       "      <td>8.89</td>\n",
       "      <td>10.22</td>\n",
       "      <td>1.00</td>\n",
       "      <td>NaN</td>\n",
       "      <td>NaN</td>\n",
       "      <td>NaN</td>\n",
       "    </tr>\n",
       "    <tr>\n",
       "      <th>...</th>\n",
       "      <td>...</td>\n",
       "      <td>...</td>\n",
       "      <td>...</td>\n",
       "      <td>...</td>\n",
       "      <td>...</td>\n",
       "      <td>...</td>\n",
       "      <td>...</td>\n",
       "      <td>...</td>\n",
       "      <td>...</td>\n",
       "      <td>...</td>\n",
       "      <td>...</td>\n",
       "    </tr>\n",
       "    <tr>\n",
       "      <th>16710</th>\n",
       "      <td>Samurai Warriors: Sanada Maru</td>\n",
       "      <td>PS3</td>\n",
       "      <td>2016.0</td>\n",
       "      <td>Action</td>\n",
       "      <td>0.00</td>\n",
       "      <td>0.00</td>\n",
       "      <td>0.01</td>\n",
       "      <td>0.00</td>\n",
       "      <td>NaN</td>\n",
       "      <td>NaN</td>\n",
       "      <td>NaN</td>\n",
       "    </tr>\n",
       "    <tr>\n",
       "      <th>16711</th>\n",
       "      <td>LMA Manager 2007</td>\n",
       "      <td>X360</td>\n",
       "      <td>2006.0</td>\n",
       "      <td>Sports</td>\n",
       "      <td>0.00</td>\n",
       "      <td>0.01</td>\n",
       "      <td>0.00</td>\n",
       "      <td>0.00</td>\n",
       "      <td>NaN</td>\n",
       "      <td>NaN</td>\n",
       "      <td>NaN</td>\n",
       "    </tr>\n",
       "    <tr>\n",
       "      <th>16712</th>\n",
       "      <td>Haitaka no Psychedelica</td>\n",
       "      <td>PSV</td>\n",
       "      <td>2016.0</td>\n",
       "      <td>Adventure</td>\n",
       "      <td>0.00</td>\n",
       "      <td>0.00</td>\n",
       "      <td>0.01</td>\n",
       "      <td>0.00</td>\n",
       "      <td>NaN</td>\n",
       "      <td>NaN</td>\n",
       "      <td>NaN</td>\n",
       "    </tr>\n",
       "    <tr>\n",
       "      <th>16713</th>\n",
       "      <td>Spirits &amp; Spells</td>\n",
       "      <td>GBA</td>\n",
       "      <td>2003.0</td>\n",
       "      <td>Platform</td>\n",
       "      <td>0.01</td>\n",
       "      <td>0.00</td>\n",
       "      <td>0.00</td>\n",
       "      <td>0.00</td>\n",
       "      <td>NaN</td>\n",
       "      <td>NaN</td>\n",
       "      <td>NaN</td>\n",
       "    </tr>\n",
       "    <tr>\n",
       "      <th>16714</th>\n",
       "      <td>Winning Post 8 2016</td>\n",
       "      <td>PSV</td>\n",
       "      <td>2016.0</td>\n",
       "      <td>Simulation</td>\n",
       "      <td>0.00</td>\n",
       "      <td>0.00</td>\n",
       "      <td>0.01</td>\n",
       "      <td>0.00</td>\n",
       "      <td>NaN</td>\n",
       "      <td>NaN</td>\n",
       "      <td>NaN</td>\n",
       "    </tr>\n",
       "  </tbody>\n",
       "</table>\n",
       "<p>16715 rows × 11 columns</p>\n",
       "</div>"
      ],
      "text/plain": [
       "                                Name Platform  Year_of_Release         Genre  \\\n",
       "0                         Wii Sports      Wii           2006.0        Sports   \n",
       "1                  Super Mario Bros.      NES           1985.0      Platform   \n",
       "2                     Mario Kart Wii      Wii           2008.0        Racing   \n",
       "3                  Wii Sports Resort      Wii           2009.0        Sports   \n",
       "4           Pokemon Red/Pokemon Blue       GB           1996.0  Role-Playing   \n",
       "...                              ...      ...              ...           ...   \n",
       "16710  Samurai Warriors: Sanada Maru      PS3           2016.0        Action   \n",
       "16711               LMA Manager 2007     X360           2006.0        Sports   \n",
       "16712        Haitaka no Psychedelica      PSV           2016.0     Adventure   \n",
       "16713               Spirits & Spells      GBA           2003.0      Platform   \n",
       "16714            Winning Post 8 2016      PSV           2016.0    Simulation   \n",
       "\n",
       "       NA_sales  EU_sales  JP_sales  Other_sales  Critic_Score User_Score  \\\n",
       "0         41.36     28.96      3.77         8.45          76.0          8   \n",
       "1         29.08      3.58      6.81         0.77           NaN        NaN   \n",
       "2         15.68     12.76      3.79         3.29          82.0        8.3   \n",
       "3         15.61     10.93      3.28         2.95          80.0          8   \n",
       "4         11.27      8.89     10.22         1.00           NaN        NaN   \n",
       "...         ...       ...       ...          ...           ...        ...   \n",
       "16710      0.00      0.00      0.01         0.00           NaN        NaN   \n",
       "16711      0.00      0.01      0.00         0.00           NaN        NaN   \n",
       "16712      0.00      0.00      0.01         0.00           NaN        NaN   \n",
       "16713      0.01      0.00      0.00         0.00           NaN        NaN   \n",
       "16714      0.00      0.00      0.01         0.00           NaN        NaN   \n",
       "\n",
       "      Rating  \n",
       "0          E  \n",
       "1        NaN  \n",
       "2          E  \n",
       "3          E  \n",
       "4        NaN  \n",
       "...      ...  \n",
       "16710    NaN  \n",
       "16711    NaN  \n",
       "16712    NaN  \n",
       "16713    NaN  \n",
       "16714    NaN  \n",
       "\n",
       "[16715 rows x 11 columns]"
      ]
     },
     "execution_count": 3,
     "metadata": {},
     "output_type": "execute_result"
    }
   ],
   "source": [
    "games"
   ]
  },
  {
   "cell_type": "code",
   "execution_count": 4,
   "id": "0283bf0a",
   "metadata": {},
   "outputs": [],
   "source": [
    "#Change column names to lowercase\n",
    "games=games.rename(columns=str.lower)"
   ]
  },
  {
   "cell_type": "code",
   "execution_count": 5,
   "id": "96107a0d",
   "metadata": {},
   "outputs": [
    {
     "data": {
      "text/plain": [
       "Index(['name', 'platform', 'year_of_release', 'genre', 'na_sales', 'eu_sales',\n",
       "       'jp_sales', 'other_sales', 'critic_score', 'user_score', 'rating'],\n",
       "      dtype='object')"
      ]
     },
     "execution_count": 5,
     "metadata": {},
     "output_type": "execute_result"
    }
   ],
   "source": [
    "games.columns"
   ]
  },
  {
   "cell_type": "code",
   "execution_count": 6,
   "id": "c10039aa",
   "metadata": {},
   "outputs": [
    {
     "data": {
      "text/plain": [
       "0"
      ]
     },
     "execution_count": 6,
     "metadata": {},
     "output_type": "execute_result"
    }
   ],
   "source": [
    "games.duplicated().sum()"
   ]
  },
  {
   "cell_type": "code",
   "execution_count": 7,
   "id": "d5d85eaa",
   "metadata": {},
   "outputs": [
    {
     "data": {
      "text/plain": [
       "name               0.000120\n",
       "platform           0.000000\n",
       "year_of_release    0.016093\n",
       "genre              0.000120\n",
       "na_sales           0.000000\n",
       "eu_sales           0.000000\n",
       "jp_sales           0.000000\n",
       "other_sales        0.000000\n",
       "critic_score       0.513192\n",
       "user_score         0.400897\n",
       "rating             0.404786\n",
       "dtype: float64"
      ]
     },
     "execution_count": 7,
     "metadata": {},
     "output_type": "execute_result"
    }
   ],
   "source": [
    "games.isna().sum()\n",
    "games.isna().sum()/ len(games)"
   ]
  },
  {
   "cell_type": "markdown",
   "id": "9e19b81a",
   "metadata": {},
   "source": [
    "*  It appears that the majority of missing data lies in the critic score, user score and rating. It would not be possible to fill these columns in with arbituary values, so I will fill them with 0 so they do not impact further calculations."
   ]
  },
  {
   "cell_type": "code",
   "execution_count": 8,
   "id": "1f9a9052",
   "metadata": {},
   "outputs": [
    {
     "name": "stdout",
     "output_type": "stream",
     "text": [
      "<class 'pandas.core.frame.DataFrame'>\n",
      "RangeIndex: 16715 entries, 0 to 16714\n",
      "Data columns (total 11 columns):\n",
      " #   Column           Non-Null Count  Dtype  \n",
      "---  ------           --------------  -----  \n",
      " 0   name             16713 non-null  object \n",
      " 1   platform         16715 non-null  object \n",
      " 2   year_of_release  16446 non-null  float64\n",
      " 3   genre            16713 non-null  object \n",
      " 4   na_sales         16715 non-null  float64\n",
      " 5   eu_sales         16715 non-null  float64\n",
      " 6   jp_sales         16715 non-null  float64\n",
      " 7   other_sales      16715 non-null  float64\n",
      " 8   critic_score     8137 non-null   float64\n",
      " 9   user_score       10014 non-null  object \n",
      " 10  rating           9949 non-null   object \n",
      "dtypes: float64(6), object(5)\n",
      "memory usage: 1.4+ MB\n"
     ]
    }
   ],
   "source": [
    "games.info()"
   ]
  },
  {
   "cell_type": "code",
   "execution_count": 9,
   "id": "ca7494c3",
   "metadata": {},
   "outputs": [],
   "source": [
    "#Change year column to datetime\n",
    "games[\"year_of_release\"] = pd.to_datetime(games[\"year_of_release\"], format= \"%Y\")"
   ]
  },
  {
   "cell_type": "markdown",
   "id": "378ca2b9",
   "metadata": {},
   "source": [
    "* Here the year_of_release column will be converted to datetime for ease in analysis."
   ]
  },
  {
   "cell_type": "code",
   "execution_count": 10,
   "id": "9f4dcce8",
   "metadata": {},
   "outputs": [
    {
     "name": "stdout",
     "output_type": "stream",
     "text": [
      "<class 'pandas.core.frame.DataFrame'>\n",
      "RangeIndex: 16715 entries, 0 to 16714\n",
      "Data columns (total 11 columns):\n",
      " #   Column           Non-Null Count  Dtype         \n",
      "---  ------           --------------  -----         \n",
      " 0   name             16713 non-null  object        \n",
      " 1   platform         16715 non-null  object        \n",
      " 2   year_of_release  16446 non-null  datetime64[ns]\n",
      " 3   genre            16713 non-null  object        \n",
      " 4   na_sales         16715 non-null  float64       \n",
      " 5   eu_sales         16715 non-null  float64       \n",
      " 6   jp_sales         16715 non-null  float64       \n",
      " 7   other_sales      16715 non-null  float64       \n",
      " 8   critic_score     8137 non-null   float64       \n",
      " 9   user_score       10014 non-null  object        \n",
      " 10  rating           9949 non-null   object        \n",
      "dtypes: datetime64[ns](1), float64(5), object(5)\n",
      "memory usage: 1.4+ MB\n"
     ]
    }
   ],
   "source": [
    "games.info()"
   ]
  },
  {
   "cell_type": "code",
   "execution_count": 11,
   "id": "342e16a0",
   "metadata": {},
   "outputs": [
    {
     "data": {
      "text/html": [
       "<div>\n",
       "<style scoped>\n",
       "    .dataframe tbody tr th:only-of-type {\n",
       "        vertical-align: middle;\n",
       "    }\n",
       "\n",
       "    .dataframe tbody tr th {\n",
       "        vertical-align: top;\n",
       "    }\n",
       "\n",
       "    .dataframe thead th {\n",
       "        text-align: right;\n",
       "    }\n",
       "</style>\n",
       "<table border=\"1\" class=\"dataframe\">\n",
       "  <thead>\n",
       "    <tr style=\"text-align: right;\">\n",
       "      <th></th>\n",
       "      <th>name</th>\n",
       "      <th>platform</th>\n",
       "      <th>year_of_release</th>\n",
       "      <th>genre</th>\n",
       "      <th>na_sales</th>\n",
       "      <th>eu_sales</th>\n",
       "      <th>jp_sales</th>\n",
       "      <th>other_sales</th>\n",
       "      <th>critic_score</th>\n",
       "      <th>user_score</th>\n",
       "      <th>rating</th>\n",
       "    </tr>\n",
       "  </thead>\n",
       "  <tbody>\n",
       "  </tbody>\n",
       "</table>\n",
       "</div>"
      ],
      "text/plain": [
       "Empty DataFrame\n",
       "Columns: [name, platform, year_of_release, genre, na_sales, eu_sales, jp_sales, other_sales, critic_score, user_score, rating]\n",
       "Index: []"
      ]
     },
     "execution_count": 11,
     "metadata": {},
     "output_type": "execute_result"
    }
   ],
   "source": [
    "games[\"name\"].isna().sum()\n",
    "games.loc[(games[\"critic_score\"] == np.nan) & (games[\"platform\"]== np.nan)]\n",
    "games.query('name == \"NaN\"')"
   ]
  },
  {
   "cell_type": "code",
   "execution_count": 12,
   "id": "89f2700d",
   "metadata": {
    "scrolled": true
   },
   "outputs": [
    {
     "data": {
      "text/plain": [
       "0"
      ]
     },
     "execution_count": 12,
     "metadata": {},
     "output_type": "execute_result"
    }
   ],
   "source": [
    "games[\"platform\"].isna().sum()"
   ]
  },
  {
   "cell_type": "code",
   "execution_count": 13,
   "id": "46770524",
   "metadata": {
    "scrolled": false
   },
   "outputs": [
    {
     "data": {
      "text/html": [
       "<div>\n",
       "<style scoped>\n",
       "    .dataframe tbody tr th:only-of-type {\n",
       "        vertical-align: middle;\n",
       "    }\n",
       "\n",
       "    .dataframe tbody tr th {\n",
       "        vertical-align: top;\n",
       "    }\n",
       "\n",
       "    .dataframe thead th {\n",
       "        text-align: right;\n",
       "    }\n",
       "</style>\n",
       "<table border=\"1\" class=\"dataframe\">\n",
       "  <thead>\n",
       "    <tr style=\"text-align: right;\">\n",
       "      <th></th>\n",
       "      <th>name</th>\n",
       "      <th>platform</th>\n",
       "      <th>year_of_release</th>\n",
       "      <th>genre</th>\n",
       "      <th>na_sales</th>\n",
       "      <th>eu_sales</th>\n",
       "      <th>jp_sales</th>\n",
       "      <th>other_sales</th>\n",
       "      <th>critic_score</th>\n",
       "      <th>user_score</th>\n",
       "      <th>rating</th>\n",
       "    </tr>\n",
       "  </thead>\n",
       "  <tbody>\n",
       "    <tr>\n",
       "      <th>2835</th>\n",
       "      <td>My Little Pony: Pinkie Pie's Party</td>\n",
       "      <td>DS</td>\n",
       "      <td>2008-01-01</td>\n",
       "      <td>Adventure</td>\n",
       "      <td>0.66</td>\n",
       "      <td>0.0</td>\n",
       "      <td>0.0</td>\n",
       "      <td>0.06</td>\n",
       "      <td>NaN</td>\n",
       "      <td>0</td>\n",
       "      <td>E</td>\n",
       "    </tr>\n",
       "  </tbody>\n",
       "</table>\n",
       "</div>"
      ],
      "text/plain": [
       "                                    name platform year_of_release      genre  \\\n",
       "2835  My Little Pony: Pinkie Pie's Party       DS      2008-01-01  Adventure   \n",
       "\n",
       "      na_sales  eu_sales  jp_sales  other_sales  critic_score user_score  \\\n",
       "2835      0.66       0.0       0.0         0.06           NaN          0   \n",
       "\n",
       "     rating  \n",
       "2835      E  "
      ]
     },
     "execution_count": 13,
     "metadata": {},
     "output_type": "execute_result"
    }
   ],
   "source": [
    "games[[\"name\"]].value_counts()\n",
    "games[\"user_score\"].value_counts()\n",
    "games[games[\"user_score\"] == \"0\"]"
   ]
  },
  {
   "cell_type": "markdown",
   "id": "d86617fd",
   "metadata": {},
   "source": [
    "* This marks the one [\"user_score\"] row that == 0 prior to fillna(0)"
   ]
  },
  {
   "cell_type": "code",
   "execution_count": 14,
   "id": "1ae1a897",
   "metadata": {
    "scrolled": true
   },
   "outputs": [
    {
     "data": {
      "text/plain": [
       "2"
      ]
     },
     "execution_count": 14,
     "metadata": {},
     "output_type": "execute_result"
    }
   ],
   "source": [
    "games[\"name\"].nunique()\n",
    "games[\"name\"].isna().sum()\n"
   ]
  },
  {
   "cell_type": "code",
   "execution_count": 15,
   "id": "f1d64fe6",
   "metadata": {
    "scrolled": true
   },
   "outputs": [
    {
     "data": {
      "text/plain": [
       "Index(['name', 'platform', 'year_of_release', 'genre', 'na_sales', 'eu_sales',\n",
       "       'jp_sales', 'other_sales', 'critic_score', 'user_score', 'rating'],\n",
       "      dtype='object')"
      ]
     },
     "execution_count": 15,
     "metadata": {},
     "output_type": "execute_result"
    }
   ],
   "source": [
    "games.columns"
   ]
  },
  {
   "cell_type": "code",
   "execution_count": 16,
   "id": "915c40e6",
   "metadata": {},
   "outputs": [
    {
     "data": {
      "text/plain": [
       "tbd    2424\n",
       "7.8     324\n",
       "8       290\n",
       "8.2     282\n",
       "8.3     254\n",
       "       ... \n",
       "0.2       2\n",
       "1.9       2\n",
       "9.6       2\n",
       "0         1\n",
       "9.7       1\n",
       "Name: user_score, Length: 96, dtype: int64"
      ]
     },
     "execution_count": 16,
     "metadata": {},
     "output_type": "execute_result"
    }
   ],
   "source": [
    "games[\"user_score\"].value_counts()\n"
   ]
  },
  {
   "cell_type": "code",
   "execution_count": 17,
   "id": "fc2b0f56",
   "metadata": {},
   "outputs": [],
   "source": [
    "games[\"user_score\"].fillna(0, inplace=True)\n",
    "games[\"user_score\"].replace(\"tbd\", 0, inplace=True)\n"
   ]
  },
  {
   "cell_type": "markdown",
   "id": "27689a91",
   "metadata": {},
   "source": [
    "* Above, all missing values and \"tbd\" values in the user_score are replaced with 0 in order to (1) be able to convert user_score dtype to float type and (2) make calculations easier"
   ]
  },
  {
   "cell_type": "code",
   "execution_count": 18,
   "id": "18beebcf",
   "metadata": {
    "scrolled": false
   },
   "outputs": [
    {
     "data": {
      "text/plain": [
       "0      9125\n",
       "7.8     324\n",
       "8       290\n",
       "8.2     282\n",
       "8.3     254\n",
       "       ... \n",
       "0.9       2\n",
       "2.3       2\n",
       "9.6       2\n",
       "0         1\n",
       "9.7       1\n",
       "Name: user_score, Length: 96, dtype: int64"
      ]
     },
     "execution_count": 18,
     "metadata": {},
     "output_type": "execute_result"
    }
   ],
   "source": [
    "games[\"user_score\"].value_counts()"
   ]
  },
  {
   "cell_type": "markdown",
   "id": "4929ff93",
   "metadata": {},
   "source": [
    "* No more \"tbd\" values"
   ]
  },
  {
   "cell_type": "code",
   "execution_count": 19,
   "id": "d96d6bb7",
   "metadata": {
    "scrolled": true
   },
   "outputs": [
    {
     "data": {
      "text/plain": [
       "0"
      ]
     },
     "execution_count": 19,
     "metadata": {},
     "output_type": "execute_result"
    }
   ],
   "source": [
    "games[\"user_score\"].isna().sum()"
   ]
  },
  {
   "cell_type": "markdown",
   "id": "ef89df3c",
   "metadata": {},
   "source": [
    "* No more missing values"
   ]
  },
  {
   "cell_type": "code",
   "execution_count": 20,
   "id": "0fe2eb19",
   "metadata": {
    "scrolled": true
   },
   "outputs": [
    {
     "name": "stdout",
     "output_type": "stream",
     "text": [
      "<class 'pandas.core.frame.DataFrame'>\n",
      "RangeIndex: 16715 entries, 0 to 16714\n",
      "Data columns (total 11 columns):\n",
      " #   Column           Non-Null Count  Dtype         \n",
      "---  ------           --------------  -----         \n",
      " 0   name             16713 non-null  object        \n",
      " 1   platform         16715 non-null  object        \n",
      " 2   year_of_release  16446 non-null  datetime64[ns]\n",
      " 3   genre            16713 non-null  object        \n",
      " 4   na_sales         16715 non-null  float64       \n",
      " 5   eu_sales         16715 non-null  float64       \n",
      " 6   jp_sales         16715 non-null  float64       \n",
      " 7   other_sales      16715 non-null  float64       \n",
      " 8   critic_score     8137 non-null   float64       \n",
      " 9   user_score       16715 non-null  object        \n",
      " 10  rating           9949 non-null   object        \n",
      "dtypes: datetime64[ns](1), float64(5), object(5)\n",
      "memory usage: 1.4+ MB\n"
     ]
    }
   ],
   "source": [
    "games.info()"
   ]
  },
  {
   "cell_type": "code",
   "execution_count": 21,
   "id": "695c3ee2",
   "metadata": {
    "scrolled": false
   },
   "outputs": [
    {
     "data": {
      "text/plain": [
       "0.0    9126\n",
       "7.8     324\n",
       "8.0     290\n",
       "8.2     282\n",
       "8.3     254\n",
       "       ... \n",
       "0.6       2\n",
       "1.0       2\n",
       "1.5       2\n",
       "9.6       2\n",
       "9.7       1\n",
       "Name: user_score, Length: 95, dtype: int64"
      ]
     },
     "execution_count": 21,
     "metadata": {},
     "output_type": "execute_result"
    }
   ],
   "source": [
    "#Change user_score from object to float type\n",
    "games[\"user_score\"] = games[\"user_score\"].astype(float)\n",
    "games[\"user_score\"].value_counts()"
   ]
  },
  {
   "cell_type": "code",
   "execution_count": 22,
   "id": "d5cba78c",
   "metadata": {},
   "outputs": [
    {
     "name": "stdout",
     "output_type": "stream",
     "text": [
      "<class 'pandas.core.frame.DataFrame'>\n",
      "RangeIndex: 16715 entries, 0 to 16714\n",
      "Data columns (total 11 columns):\n",
      " #   Column           Non-Null Count  Dtype         \n",
      "---  ------           --------------  -----         \n",
      " 0   name             16713 non-null  object        \n",
      " 1   platform         16715 non-null  object        \n",
      " 2   year_of_release  16446 non-null  datetime64[ns]\n",
      " 3   genre            16713 non-null  object        \n",
      " 4   na_sales         16715 non-null  float64       \n",
      " 5   eu_sales         16715 non-null  float64       \n",
      " 6   jp_sales         16715 non-null  float64       \n",
      " 7   other_sales      16715 non-null  float64       \n",
      " 8   critic_score     8137 non-null   float64       \n",
      " 9   user_score       16715 non-null  float64       \n",
      " 10  rating           9949 non-null   object        \n",
      "dtypes: datetime64[ns](1), float64(6), object(4)\n",
      "memory usage: 1.4+ MB\n"
     ]
    }
   ],
   "source": [
    "games.info()"
   ]
  },
  {
   "cell_type": "markdown",
   "id": "9e3ee97f",
   "metadata": {},
   "source": [
    "* All missing values and \"tbd\" values were converted to \"0\", as they cannot be dropped due to the large proportion of data they hold. They were converted to \"0\" to make processing the data more useful. The user score column datatype was also changed to float type."
   ]
  },
  {
   "cell_type": "code",
   "execution_count": 23,
   "id": "660a3aa2",
   "metadata": {},
   "outputs": [
    {
     "data": {
      "text/plain": [
       "0        76.0\n",
       "1         NaN\n",
       "2        82.0\n",
       "3        80.0\n",
       "4         NaN\n",
       "         ... \n",
       "16710     NaN\n",
       "16711     NaN\n",
       "16712     NaN\n",
       "16713     NaN\n",
       "16714     NaN\n",
       "Name: critic_score, Length: 16715, dtype: float64"
      ]
     },
     "execution_count": 23,
     "metadata": {},
     "output_type": "execute_result"
    }
   ],
   "source": [
    "games[\"critic_score\"]"
   ]
  },
  {
   "cell_type": "code",
   "execution_count": 24,
   "id": "00252d83",
   "metadata": {},
   "outputs": [
    {
     "name": "stdout",
     "output_type": "stream",
     "text": [
      "6.283333333333334\n"
     ]
    },
    {
     "data": {
      "text/plain": [
       "78"
      ]
     },
     "execution_count": 24,
     "metadata": {},
     "output_type": "execute_result"
    }
   ],
   "source": [
    "games[games[\"name\"] == \"Need for Speed: Most Wanted\"]\n",
    "nfs_data = games.query('name ==\"Need for Speed: Most Wanted\"')\n",
    "nfs_data[\"critic_score\"].mean()\n",
    "print(nfs_data[\"user_score\"].mean())\n",
    "\n",
    "mean = int(nfs_data[\"critic_score\"].mean().round())\n",
    "mean\n",
    "\n"
   ]
  },
  {
   "cell_type": "code",
   "execution_count": 27,
   "id": "d74a1554",
   "metadata": {
    "scrolled": false
   },
   "outputs": [
    {
     "data": {
      "text/html": [
       "<div>\n",
       "<style scoped>\n",
       "    .dataframe tbody tr th:only-of-type {\n",
       "        vertical-align: middle;\n",
       "    }\n",
       "\n",
       "    .dataframe tbody tr th {\n",
       "        vertical-align: top;\n",
       "    }\n",
       "\n",
       "    .dataframe thead th {\n",
       "        text-align: right;\n",
       "    }\n",
       "</style>\n",
       "<table border=\"1\" class=\"dataframe\">\n",
       "  <thead>\n",
       "    <tr style=\"text-align: right;\">\n",
       "      <th></th>\n",
       "      <th>name</th>\n",
       "      <th>platform</th>\n",
       "      <th>year_of_release</th>\n",
       "      <th>genre</th>\n",
       "      <th>na_sales</th>\n",
       "      <th>eu_sales</th>\n",
       "      <th>jp_sales</th>\n",
       "      <th>other_sales</th>\n",
       "      <th>critic_score</th>\n",
       "      <th>user_score</th>\n",
       "      <th>rating</th>\n",
       "    </tr>\n",
       "  </thead>\n",
       "  <tbody>\n",
       "    <tr>\n",
       "      <th>659</th>\n",
       "      <td>NaN</td>\n",
       "      <td>GEN</td>\n",
       "      <td>1993-01-01</td>\n",
       "      <td>NaN</td>\n",
       "      <td>1.78</td>\n",
       "      <td>0.53</td>\n",
       "      <td>0.00</td>\n",
       "      <td>0.08</td>\n",
       "      <td>0.0</td>\n",
       "      <td>0.0</td>\n",
       "      <td>Unknown</td>\n",
       "    </tr>\n",
       "    <tr>\n",
       "      <th>14244</th>\n",
       "      <td>NaN</td>\n",
       "      <td>GEN</td>\n",
       "      <td>1993-01-01</td>\n",
       "      <td>NaN</td>\n",
       "      <td>0.00</td>\n",
       "      <td>0.00</td>\n",
       "      <td>0.03</td>\n",
       "      <td>0.00</td>\n",
       "      <td>0.0</td>\n",
       "      <td>0.0</td>\n",
       "      <td>Unknown</td>\n",
       "    </tr>\n",
       "  </tbody>\n",
       "</table>\n",
       "</div>"
      ],
      "text/plain": [
       "      name platform year_of_release genre  na_sales  eu_sales  jp_sales  \\\n",
       "659    NaN      GEN      1993-01-01   NaN      1.78      0.53      0.00   \n",
       "14244  NaN      GEN      1993-01-01   NaN      0.00      0.00      0.03   \n",
       "\n",
       "       other_sales  critic_score  user_score   rating  \n",
       "659           0.08           0.0         0.0  Unknown  \n",
       "14244         0.00           0.0         0.0  Unknown  "
      ]
     },
     "execution_count": 27,
     "metadata": {},
     "output_type": "execute_result"
    }
   ],
   "source": [
    "games[\"rating\"].fillna(\"Unknown\", inplace=True)\n",
    "games[\"critic_score\"].fillna(0, inplace=True)\n",
    "\n",
    "games[games[\"genre\"].isna() & games[\"name\"].isna()]\n",
    "\n"
   ]
  },
  {
   "cell_type": "code",
   "execution_count": 28,
   "id": "5dc14845",
   "metadata": {},
   "outputs": [],
   "source": [
    "games.drop([659, 14244], inplace=True)"
   ]
  },
  {
   "cell_type": "markdown",
   "id": "144b6c5f",
   "metadata": {},
   "source": [
    "* Above indicates that same 2 rows that have a missing name also have missing ratings, so I dropped these rows, as they will not provide useful information about sales with respect to genre. "
   ]
  },
  {
   "cell_type": "code",
   "execution_count": 29,
   "id": "906cb7ac",
   "metadata": {
    "scrolled": false
   },
   "outputs": [
    {
     "name": "stdout",
     "output_type": "stream",
     "text": [
      "0.016095255190570215\n"
     ]
    },
    {
     "data": {
      "text/plain": [
       "name                 0\n",
       "platform             0\n",
       "year_of_release    269\n",
       "genre                0\n",
       "na_sales             0\n",
       "eu_sales             0\n",
       "jp_sales             0\n",
       "other_sales          0\n",
       "critic_score         0\n",
       "user_score           0\n",
       "rating               0\n",
       "dtype: int64"
      ]
     },
     "execution_count": 29,
     "metadata": {},
     "output_type": "execute_result"
    }
   ],
   "source": [
    "games.isna().sum()\n",
    "print(len(games[games[\"year_of_release\"].isna()]) /len(games))\n",
    "\n",
    "games.isna().sum()"
   ]
  },
  {
   "cell_type": "code",
   "execution_count": 30,
   "id": "8b7a6c0c",
   "metadata": {
    "scrolled": true
   },
   "outputs": [
    {
     "data": {
      "text/plain": [
       "name                 0\n",
       "platform             0\n",
       "year_of_release    269\n",
       "genre                0\n",
       "na_sales             0\n",
       "eu_sales             0\n",
       "jp_sales             0\n",
       "other_sales          0\n",
       "critic_score         0\n",
       "user_score           0\n",
       "rating               0\n",
       "dtype: int64"
      ]
     },
     "execution_count": 30,
     "metadata": {},
     "output_type": "execute_result"
    }
   ],
   "source": [
    "games.isna().sum()"
   ]
  },
  {
   "cell_type": "code",
   "execution_count": 31,
   "id": "4018acba",
   "metadata": {},
   "outputs": [],
   "source": [
    "games=games.dropna(subset=[\"year_of_release\"])"
   ]
  },
  {
   "cell_type": "code",
   "execution_count": 32,
   "id": "8fc84afe",
   "metadata": {},
   "outputs": [
    {
     "data": {
      "text/plain": [
       "name               0\n",
       "platform           0\n",
       "year_of_release    0\n",
       "genre              0\n",
       "na_sales           0\n",
       "eu_sales           0\n",
       "jp_sales           0\n",
       "other_sales        0\n",
       "critic_score       0\n",
       "user_score         0\n",
       "rating             0\n",
       "dtype: int64"
      ]
     },
     "execution_count": 32,
     "metadata": {},
     "output_type": "execute_result"
    }
   ],
   "source": [
    "games.isna().sum()"
   ]
  },
  {
   "cell_type": "markdown",
   "id": "77e504f7",
   "metadata": {},
   "source": [
    "* At this point, all of the missing data have been dealt with. For the \"year_of_release\" and \"rating\", missing values have been replaced with \"Unknown\". For user_score and critic_score, missing values have been replaced with \"0\". \n",
    "* Because the proportion of data was so large, I chose this way to treat them as this ensures that I am not incorrectly filling them in and I am not removing chunks of data from the dataset."
   ]
  },
  {
   "cell_type": "code",
   "execution_count": 33,
   "id": "a9ae34ff",
   "metadata": {
    "scrolled": true
   },
   "outputs": [
    {
     "data": {
      "text/html": [
       "<div>\n",
       "<style scoped>\n",
       "    .dataframe tbody tr th:only-of-type {\n",
       "        vertical-align: middle;\n",
       "    }\n",
       "\n",
       "    .dataframe tbody tr th {\n",
       "        vertical-align: top;\n",
       "    }\n",
       "\n",
       "    .dataframe thead th {\n",
       "        text-align: right;\n",
       "    }\n",
       "</style>\n",
       "<table border=\"1\" class=\"dataframe\">\n",
       "  <thead>\n",
       "    <tr style=\"text-align: right;\">\n",
       "      <th></th>\n",
       "      <th>name</th>\n",
       "      <th>platform</th>\n",
       "      <th>year_of_release</th>\n",
       "      <th>genre</th>\n",
       "      <th>na_sales</th>\n",
       "      <th>eu_sales</th>\n",
       "      <th>jp_sales</th>\n",
       "      <th>other_sales</th>\n",
       "      <th>critic_score</th>\n",
       "      <th>user_score</th>\n",
       "      <th>rating</th>\n",
       "    </tr>\n",
       "  </thead>\n",
       "  <tbody>\n",
       "    <tr>\n",
       "      <th>0</th>\n",
       "      <td>Wii Sports</td>\n",
       "      <td>Wii</td>\n",
       "      <td>2006-01-01</td>\n",
       "      <td>Sports</td>\n",
       "      <td>41.36</td>\n",
       "      <td>28.96</td>\n",
       "      <td>3.77</td>\n",
       "      <td>8.45</td>\n",
       "      <td>76.0</td>\n",
       "      <td>8.0</td>\n",
       "      <td>E</td>\n",
       "    </tr>\n",
       "    <tr>\n",
       "      <th>1</th>\n",
       "      <td>Super Mario Bros.</td>\n",
       "      <td>NES</td>\n",
       "      <td>1985-01-01</td>\n",
       "      <td>Platform</td>\n",
       "      <td>29.08</td>\n",
       "      <td>3.58</td>\n",
       "      <td>6.81</td>\n",
       "      <td>0.77</td>\n",
       "      <td>0.0</td>\n",
       "      <td>0.0</td>\n",
       "      <td>Unknown</td>\n",
       "    </tr>\n",
       "    <tr>\n",
       "      <th>2</th>\n",
       "      <td>Mario Kart Wii</td>\n",
       "      <td>Wii</td>\n",
       "      <td>2008-01-01</td>\n",
       "      <td>Racing</td>\n",
       "      <td>15.68</td>\n",
       "      <td>12.76</td>\n",
       "      <td>3.79</td>\n",
       "      <td>3.29</td>\n",
       "      <td>82.0</td>\n",
       "      <td>8.3</td>\n",
       "      <td>E</td>\n",
       "    </tr>\n",
       "    <tr>\n",
       "      <th>3</th>\n",
       "      <td>Wii Sports Resort</td>\n",
       "      <td>Wii</td>\n",
       "      <td>2009-01-01</td>\n",
       "      <td>Sports</td>\n",
       "      <td>15.61</td>\n",
       "      <td>10.93</td>\n",
       "      <td>3.28</td>\n",
       "      <td>2.95</td>\n",
       "      <td>80.0</td>\n",
       "      <td>8.0</td>\n",
       "      <td>E</td>\n",
       "    </tr>\n",
       "    <tr>\n",
       "      <th>4</th>\n",
       "      <td>Pokemon Red/Pokemon Blue</td>\n",
       "      <td>GB</td>\n",
       "      <td>1996-01-01</td>\n",
       "      <td>Role-Playing</td>\n",
       "      <td>11.27</td>\n",
       "      <td>8.89</td>\n",
       "      <td>10.22</td>\n",
       "      <td>1.00</td>\n",
       "      <td>0.0</td>\n",
       "      <td>0.0</td>\n",
       "      <td>Unknown</td>\n",
       "    </tr>\n",
       "  </tbody>\n",
       "</table>\n",
       "</div>"
      ],
      "text/plain": [
       "                       name platform year_of_release         genre  na_sales  \\\n",
       "0                Wii Sports      Wii      2006-01-01        Sports     41.36   \n",
       "1         Super Mario Bros.      NES      1985-01-01      Platform     29.08   \n",
       "2            Mario Kart Wii      Wii      2008-01-01        Racing     15.68   \n",
       "3         Wii Sports Resort      Wii      2009-01-01        Sports     15.61   \n",
       "4  Pokemon Red/Pokemon Blue       GB      1996-01-01  Role-Playing     11.27   \n",
       "\n",
       "   eu_sales  jp_sales  other_sales  critic_score  user_score   rating  \n",
       "0     28.96      3.77         8.45          76.0         8.0        E  \n",
       "1      3.58      6.81         0.77           0.0         0.0  Unknown  \n",
       "2     12.76      3.79         3.29          82.0         8.3        E  \n",
       "3     10.93      3.28         2.95          80.0         8.0        E  \n",
       "4      8.89     10.22         1.00           0.0         0.0  Unknown  "
      ]
     },
     "execution_count": 33,
     "metadata": {},
     "output_type": "execute_result"
    }
   ],
   "source": [
    "games.columns\n",
    "games.head()"
   ]
  },
  {
   "cell_type": "code",
   "execution_count": 34,
   "id": "f19b2092",
   "metadata": {
    "scrolled": true
   },
   "outputs": [],
   "source": [
    "#Creating a new column to indicate total global sales \n",
    "games[\"total_sales\"] = games[\"na_sales\"] + games[\"eu_sales\"] + games[\"jp_sales\"] + games[\"other_sales\"]"
   ]
  },
  {
   "cell_type": "code",
   "execution_count": 35,
   "id": "a13e827c",
   "metadata": {
    "scrolled": true
   },
   "outputs": [
    {
     "data": {
      "text/html": [
       "<div>\n",
       "<style scoped>\n",
       "    .dataframe tbody tr th:only-of-type {\n",
       "        vertical-align: middle;\n",
       "    }\n",
       "\n",
       "    .dataframe tbody tr th {\n",
       "        vertical-align: top;\n",
       "    }\n",
       "\n",
       "    .dataframe thead th {\n",
       "        text-align: right;\n",
       "    }\n",
       "</style>\n",
       "<table border=\"1\" class=\"dataframe\">\n",
       "  <thead>\n",
       "    <tr style=\"text-align: right;\">\n",
       "      <th></th>\n",
       "      <th>name</th>\n",
       "      <th>platform</th>\n",
       "      <th>year_of_release</th>\n",
       "      <th>genre</th>\n",
       "      <th>na_sales</th>\n",
       "      <th>eu_sales</th>\n",
       "      <th>jp_sales</th>\n",
       "      <th>other_sales</th>\n",
       "      <th>critic_score</th>\n",
       "      <th>user_score</th>\n",
       "      <th>rating</th>\n",
       "      <th>total_sales</th>\n",
       "    </tr>\n",
       "  </thead>\n",
       "  <tbody>\n",
       "    <tr>\n",
       "      <th>0</th>\n",
       "      <td>Wii Sports</td>\n",
       "      <td>Wii</td>\n",
       "      <td>2006-01-01</td>\n",
       "      <td>Sports</td>\n",
       "      <td>41.36</td>\n",
       "      <td>28.96</td>\n",
       "      <td>3.77</td>\n",
       "      <td>8.45</td>\n",
       "      <td>76.0</td>\n",
       "      <td>8.0</td>\n",
       "      <td>E</td>\n",
       "      <td>82.54</td>\n",
       "    </tr>\n",
       "    <tr>\n",
       "      <th>1</th>\n",
       "      <td>Super Mario Bros.</td>\n",
       "      <td>NES</td>\n",
       "      <td>1985-01-01</td>\n",
       "      <td>Platform</td>\n",
       "      <td>29.08</td>\n",
       "      <td>3.58</td>\n",
       "      <td>6.81</td>\n",
       "      <td>0.77</td>\n",
       "      <td>0.0</td>\n",
       "      <td>0.0</td>\n",
       "      <td>Unknown</td>\n",
       "      <td>40.24</td>\n",
       "    </tr>\n",
       "    <tr>\n",
       "      <th>2</th>\n",
       "      <td>Mario Kart Wii</td>\n",
       "      <td>Wii</td>\n",
       "      <td>2008-01-01</td>\n",
       "      <td>Racing</td>\n",
       "      <td>15.68</td>\n",
       "      <td>12.76</td>\n",
       "      <td>3.79</td>\n",
       "      <td>3.29</td>\n",
       "      <td>82.0</td>\n",
       "      <td>8.3</td>\n",
       "      <td>E</td>\n",
       "      <td>35.52</td>\n",
       "    </tr>\n",
       "    <tr>\n",
       "      <th>3</th>\n",
       "      <td>Wii Sports Resort</td>\n",
       "      <td>Wii</td>\n",
       "      <td>2009-01-01</td>\n",
       "      <td>Sports</td>\n",
       "      <td>15.61</td>\n",
       "      <td>10.93</td>\n",
       "      <td>3.28</td>\n",
       "      <td>2.95</td>\n",
       "      <td>80.0</td>\n",
       "      <td>8.0</td>\n",
       "      <td>E</td>\n",
       "      <td>32.77</td>\n",
       "    </tr>\n",
       "    <tr>\n",
       "      <th>4</th>\n",
       "      <td>Pokemon Red/Pokemon Blue</td>\n",
       "      <td>GB</td>\n",
       "      <td>1996-01-01</td>\n",
       "      <td>Role-Playing</td>\n",
       "      <td>11.27</td>\n",
       "      <td>8.89</td>\n",
       "      <td>10.22</td>\n",
       "      <td>1.00</td>\n",
       "      <td>0.0</td>\n",
       "      <td>0.0</td>\n",
       "      <td>Unknown</td>\n",
       "      <td>31.38</td>\n",
       "    </tr>\n",
       "  </tbody>\n",
       "</table>\n",
       "</div>"
      ],
      "text/plain": [
       "                       name platform year_of_release         genre  na_sales  \\\n",
       "0                Wii Sports      Wii      2006-01-01        Sports     41.36   \n",
       "1         Super Mario Bros.      NES      1985-01-01      Platform     29.08   \n",
       "2            Mario Kart Wii      Wii      2008-01-01        Racing     15.68   \n",
       "3         Wii Sports Resort      Wii      2009-01-01        Sports     15.61   \n",
       "4  Pokemon Red/Pokemon Blue       GB      1996-01-01  Role-Playing     11.27   \n",
       "\n",
       "   eu_sales  jp_sales  other_sales  critic_score  user_score   rating  \\\n",
       "0     28.96      3.77         8.45          76.0         8.0        E   \n",
       "1      3.58      6.81         0.77           0.0         0.0  Unknown   \n",
       "2     12.76      3.79         3.29          82.0         8.3        E   \n",
       "3     10.93      3.28         2.95          80.0         8.0        E   \n",
       "4      8.89     10.22         1.00           0.0         0.0  Unknown   \n",
       "\n",
       "   total_sales  \n",
       "0        82.54  \n",
       "1        40.24  \n",
       "2        35.52  \n",
       "3        32.77  \n",
       "4        31.38  "
      ]
     },
     "execution_count": 35,
     "metadata": {},
     "output_type": "execute_result"
    }
   ],
   "source": [
    "games.head()"
   ]
  },
  {
   "cell_type": "code",
   "execution_count": 36,
   "id": "8a35a1e1",
   "metadata": {},
   "outputs": [
    {
     "data": {
      "text/plain": [
       "name               0\n",
       "platform           0\n",
       "year_of_release    0\n",
       "genre              0\n",
       "na_sales           0\n",
       "eu_sales           0\n",
       "jp_sales           0\n",
       "other_sales        0\n",
       "critic_score       0\n",
       "user_score         0\n",
       "rating             0\n",
       "total_sales        0\n",
       "year               0\n",
       "dtype: int64"
      ]
     },
     "execution_count": 36,
     "metadata": {},
     "output_type": "execute_result"
    }
   ],
   "source": [
    "games[\"year\"]= games[\"year_of_release\"].dt.year\n",
    "games.isna().sum()\n"
   ]
  },
  {
   "cell_type": "code",
   "execution_count": 37,
   "id": "725c7163",
   "metadata": {
    "scrolled": false
   },
   "outputs": [
    {
     "data": {
      "image/png": "[encoded data removed]",
      "text/plain": [
       "<Figure size 720x720 with 1 Axes>"
      ]
     },
     "metadata": {
      "needs_background": "light"
     },
     "output_type": "display_data"
    }
   ],
   "source": [
    "#Total sales per platform\n",
    "data =games.groupby([\"platform\"])[\"total_sales\"].sum()\n",
    "plt.figure(figsize=(10,10))\n",
    "y=sb.barplot(x=\"platform\", y=\"total_sales\", data=games)\n",
    "y.set_xticklabels(y.get_xticklabels(),rotation=70)\n",
    "plt.show()"
   ]
  },
  {
   "cell_type": "markdown",
   "id": "e63b3da5",
   "metadata": {},
   "source": [
    "* NES appears to be the platform that generates the highest total sales, with GB being a close second. These are the two platforms that I will select for my analsis"
   ]
  },
  {
   "cell_type": "code",
   "execution_count": 38,
   "id": "1a2ca8c3",
   "metadata": {},
   "outputs": [],
   "source": [
    "plat= games.groupby([\"platform\", \"year_of_release\"])[\"total_sales\"].sum()\n"
   ]
  },
  {
   "cell_type": "code",
   "execution_count": 39,
   "id": "4e1da0e8",
   "metadata": {
    "scrolled": false
   },
   "outputs": [
    {
     "data": {
      "image/png": "[encoded data removed]",
      "text/plain": [
       "<Figure size 432x288 with 1 Axes>"
      ]
     },
     "metadata": {
      "needs_background": "light"
     },
     "output_type": "display_data"
    },
    {
     "data": {
      "text/plain": [
       "<Figure size 720x720 with 0 Axes>"
      ]
     },
     "metadata": {},
     "output_type": "display_data"
    }
   ],
   "source": [
    "#Total sales per genre\n",
    "data2=games.groupby([\"genre\"])[\"total_sales\"].sum()\n",
    "v=sb.barplot(x=\"genre\", y=\"total_sales\", data=games)\n",
    "plt.figure(figsize=(10,10))\n",
    "v.set_xticklabels(v.get_xticklabels(),rotation=70)\n",
    "v.set(title=\"Total sales per Genre Type\")\n",
    "plt.show()"
   ]
  },
  {
   "cell_type": "markdown",
   "id": "8197b964",
   "metadata": {},
   "source": [
    "* The genre that has the top sales here is Platform. Other popular types include role-playing as well as Shooter and Fighting."
   ]
  },
  {
   "cell_type": "code",
   "execution_count": 40,
   "id": "9f4b46fb",
   "metadata": {
    "scrolled": true
   },
   "outputs": [
    {
     "data": {
      "image/png": "[encoded data removed]",
      "text/plain": [
       "<Figure size 720x720 with 1 Axes>"
      ]
     },
     "metadata": {
      "needs_background": "light"
     },
     "output_type": "display_data"
    }
   ],
   "source": [
    "#Number of games per year\n",
    "games_filtered_year= games.query('year != 0.0')\n",
    "p=games_filtered_year.groupby([\"year\"])[\"name\"].count().plot(kind=\"bar\", figsize=(10,10))\n",
    "p.set_xticklabels(p.get_xticklabels(),rotation=70)\n",
    "plt.ylabel(\"Number of Games\")\n",
    "plt.xlabel(\"Year of Release\")\n",
    "plt.title(\"Number of Games Per Year\")\n",
    "plt.show()"
   ]
  },
  {
   "cell_type": "markdown",
   "id": "ad716a52",
   "metadata": {},
   "source": [
    "* Note, the year \"0\" indicated missing values for year of release, so this portion of the data was filtered out and not represented in the plot, as that information would not be useful in the analysis.\n",
    "The year 2008-2009 had the highest number of games released. \n",
    "* It appears that from 2002-2010 seems to be the most significant time period for games being released. Again, the peak number of games appears to occur at 2008-2009, then declines from there. I will focus only on the years from 2013-2017 for my analysis."
   ]
  },
  {
   "cell_type": "code",
   "execution_count": 41,
   "id": "53de382e",
   "metadata": {},
   "outputs": [
    {
     "name": "stdout",
     "output_type": "stream",
     "text": [
      "platform  year\n",
      "3DS       2013     56.57\n",
      "          2014     43.76\n",
      "          2015     27.78\n",
      "          2016     15.14\n",
      "DS        2013      1.54\n",
      "PC        2013     12.38\n",
      "          2014     13.28\n",
      "          2015      8.52\n",
      "          2016      5.25\n",
      "PS3       2013    113.25\n",
      "          2014     47.76\n",
      "          2015     16.82\n",
      "          2016      3.60\n",
      "PS4       2013     25.99\n",
      "          2014    100.00\n",
      "          2015    118.90\n",
      "          2016     69.25\n",
      "PSP       2013      3.14\n",
      "          2014      0.24\n",
      "          2015      0.12\n",
      "PSV       2013     10.59\n",
      "          2014     11.90\n",
      "          2015      6.25\n",
      "          2016      4.25\n",
      "Wii       2013      8.59\n",
      "          2014      3.75\n",
      "          2015      1.14\n",
      "          2016      0.18\n",
      "WiiU      2013     21.65\n",
      "          2014     22.03\n",
      "Name: total_sales, dtype: float64\n"
     ]
    }
   ],
   "source": [
    "filtered= games_filtered_year.query('year >= 2013')\n",
    "d= filtered.pivot(columns=[\"platform\", \"year\"])[\"total_sales\"]\n",
    "print(filtered.groupby([\"platform\", \"year\"])[\"total_sales\"].sum().head(30))\n",
    "\n"
   ]
  },
  {
   "cell_type": "markdown",
   "id": "cae48852",
   "metadata": {},
   "source": [
    "* Below I will look at different yearly sales distribution based on a group of selected platforms that indicate significant sales in the plot above.\n",
    "They will include the following 7 Platforms:\n",
    "* NES\n",
    "* GB\n",
    "* SNES \n",
    "* GEN \n",
    "* 2600\n",
    "* PS3\n",
    "* X360"
   ]
  },
  {
   "cell_type": "code",
   "execution_count": 42,
   "id": "42d41a1e",
   "metadata": {},
   "outputs": [
    {
     "data": {
      "text/plain": [
       "array(['Wii', 'NES', 'GB', 'DS', 'X360', 'PS3', 'PS2', 'SNES', 'GBA',\n",
       "       'PS4', '3DS', 'N64', 'PS', 'XB', 'PC', '2600', 'PSP', 'XOne',\n",
       "       'WiiU', 'GC', 'GEN', 'DC', 'PSV', 'SAT', 'SCD', 'WS', 'NG', 'TG16',\n",
       "       '3DO', 'GG', 'PCFX'], dtype=object)"
      ]
     },
     "execution_count": 42,
     "metadata": {},
     "output_type": "execute_result"
    }
   ],
   "source": [
    "games[\"platform\"].unique()"
   ]
  },
  {
   "cell_type": "code",
   "execution_count": 43,
   "id": "27e1ca53",
   "metadata": {},
   "outputs": [],
   "source": [
    "nes_data=games_filtered_year.query('platform==\"NES\"')\n",
    "gb_data=games_filtered_year.query('platform==\"GB\"')\n",
    "snes_data=games_filtered_year.query('platform==\"SNES\"')\n",
    "gen_data=games_filtered_year.query('platform==\"GEN\"')\n",
    "ts_data=games_filtered_year.query('platform==\"2600\"')\n",
    "ps3_data=games_filtered_year.query('platform==\"PS3\"')\n",
    "x360_data=games_filtered_year.query('platform==\"X360\"')"
   ]
  },
  {
   "cell_type": "code",
   "execution_count": 44,
   "id": "33f1f603",
   "metadata": {},
   "outputs": [
    {
     "data": {
      "image/png": "[encoded data removed]",
      "text/plain": [
       "<Figure size 720x720 with 1 Axes>"
      ]
     },
     "metadata": {
      "needs_background": "light"
     },
     "output_type": "display_data"
    }
   ],
   "source": [
    "#total_sales each each based on platform\n",
    "nes_sales=nes_data.pivot(columns=[\"platform\", \"year\"], values=\"total_sales\")\n",
    "plt.figure(figsize=(10,10))\n",
    "nes_plot=sb.boxplot(data=nes_sales)\n",
    "nes_plot.set(ylim=(0,8))\n",
    "nes_plot.set_xticklabels(nes_plot.get_xticklabels(),rotation=70)\n",
    "plt.xlabel(\"Platform Type & Year\")\n",
    "plt.ylabel(\"Total Sales in USD (Millions)\")\n",
    "plt.title(\"Yearly Tolal Global Sales in Millions Per Platfom\")\n",
    "plt.show()"
   ]
  },
  {
   "cell_type": "markdown",
   "id": "ff7e858e",
   "metadata": {},
   "source": [
    "* For NES platform, it appears that year 1987-1988 had the highest total sales."
   ]
  },
  {
   "cell_type": "code",
   "execution_count": 45,
   "id": "a4d7ba95",
   "metadata": {},
   "outputs": [
    {
     "data": {
      "image/png": "[encoded data removed]",
      "text/plain": [
       "<Figure size 720x720 with 1 Axes>"
      ]
     },
     "metadata": {
      "needs_background": "light"
     },
     "output_type": "display_data"
    }
   ],
   "source": [
    "nes_avgsales=nes_data.pivot(columns=[\"platform\", \"year\"], values=\"total_sales\").mean()\n",
    "plt.figure(figsize=(10,10))\n",
    "nes_plot=sb.boxplot(data=nes_avgsales)\n",
    "nes_plot.set(ylim=(0,8))\n",
    "nes_plot.set_xticklabels(nes_plot.get_xticklabels(),rotation=70)\n",
    "plt.xlabel(\"NES Platform\")\n",
    "plt.ylabel(\"Average Sales in USD (Millions)\")\n",
    "plt.title(\"Average Sales in Millions for NES Plaform\")\n",
    "plt.show()"
   ]
  },
  {
   "cell_type": "code",
   "execution_count": 46,
   "id": "6bf4d43a",
   "metadata": {},
   "outputs": [
    {
     "data": {
      "image/png": "[encoded data removed]",
      "text/plain": [
       "<Figure size 720x720 with 1 Axes>"
      ]
     },
     "metadata": {
      "needs_background": "light"
     },
     "output_type": "display_data"
    }
   ],
   "source": [
    "gb=gb_data.pivot(columns=[\"platform\", \"year\"], values=\"total_sales\")\n",
    "plt.figure(figsize=(10,10))\n",
    "gb_plot=sb.boxplot(data=gb)\n",
    "gb_plot.set_xticklabels(gb_plot.get_xticklabels(),rotation=70)\n",
    "gb_plot.set(ylim=(0, 20))\n",
    "plt.xlabel(\"Platform Type & Year\")\n",
    "plt.ylabel(\"Total Sales in USD (Millions)\")\n",
    "plt.title(\"Yearly Tolal Global Sales in Millions Per Platfom\")\n",
    "plt.show()"
   ]
  },
  {
   "cell_type": "markdown",
   "id": "f74d5665",
   "metadata": {},
   "source": [
    "* As for GB, 1994 seemed to be the best year with respect to total sales."
   ]
  },
  {
   "cell_type": "code",
   "execution_count": 47,
   "id": "3b1a2c96",
   "metadata": {},
   "outputs": [
    {
     "data": {
      "image/png": "[encoded data removed]",
      "text/plain": [
       "<Figure size 720x720 with 1 Axes>"
      ]
     },
     "metadata": {
      "needs_background": "light"
     },
     "output_type": "display_data"
    }
   ],
   "source": [
    "gbavg=gb_data.pivot(columns=[\"platform\", \"year\"], values=\"total_sales\").mean()\n",
    "plt.figure(figsize=(10,10))\n",
    "gb_plot=sb.boxplot(data=gbavg)\n",
    "gb_plot.set_xticklabels(gb_plot.get_xticklabels(),rotation=70)\n",
    "gb_plot.set(ylim=(0, 20))\n",
    "plt.xlabel(\"GB Plaform\")\n",
    "plt.ylabel(\"Average Sales in USD (Millions)\")\n",
    "plt.title(\"Average Global Sales in Millions for GB\")\n",
    "plt.show()"
   ]
  },
  {
   "cell_type": "code",
   "execution_count": 48,
   "id": "55651143",
   "metadata": {
    "scrolled": false
   },
   "outputs": [
    {
     "data": {
      "image/png": "[encoded data removed]",
      "text/plain": [
       "<Figure size 720x720 with 1 Axes>"
      ]
     },
     "metadata": {
      "needs_background": "light"
     },
     "output_type": "display_data"
    }
   ],
   "source": [
    "snes_sales=snes_data.pivot(columns=[\"platform\", \"year\"], values=\"total_sales\")\n",
    "plt.figure(figsize=(10,10))\n",
    "snes_plot=sb.boxplot(data=snes_sales)\n",
    "snes_plot.set_xticklabels(snes_plot.get_xticklabels(),rotation=70)\n",
    "snes_plot.set(ylim=(0, 10))\n",
    "plt.xlabel(\"Platform Type & Year\")\n",
    "plt.ylabel(\"Total Sales in USD (Millions)\")\n",
    "plt.title(\"Yearly Tolal Global Sales in Millions Per Platfom\")\n",
    "plt.show()"
   ]
  },
  {
   "cell_type": "markdown",
   "id": "5939ad83",
   "metadata": {},
   "source": [
    "* SNES appeared to have peaked in total sales in 1990, then just declined from there."
   ]
  },
  {
   "cell_type": "code",
   "execution_count": 49,
   "id": "a39fbd7a",
   "metadata": {},
   "outputs": [
    {
     "data": {
      "image/png": "[encoded data removed]",
      "text/plain": [
       "<Figure size 720x720 with 1 Axes>"
      ]
     },
     "metadata": {
      "needs_background": "light"
     },
     "output_type": "display_data"
    }
   ],
   "source": [
    "snes_avgsales=snes_data.pivot(columns=[\"platform\", \"year\"], values=\"total_sales\").mean()\n",
    "plt.figure(figsize=(10,10))\n",
    "snes_plot=sb.boxplot(data=snes_avgsales)\n",
    "snes_plot.set_xticklabels(snes_plot.get_xticklabels(),rotation=70)\n",
    "snes_plot.set(ylim=(0, 3))\n",
    "plt.xlabel(\"SNES Platform\")\n",
    "plt.ylabel(\"Average Sales in USD (Millions)\")\n",
    "plt.title(\"Average Global Sales in Millions for SNES Plaform\")\n",
    "plt.show()\n"
   ]
  },
  {
   "cell_type": "code",
   "execution_count": 50,
   "id": "6c4bfb97",
   "metadata": {
    "scrolled": false
   },
   "outputs": [
    {
     "data": {
      "image/png": "[encoded data removed]",
      "text/plain": [
       "<Figure size 720x720 with 1 Axes>"
      ]
     },
     "metadata": {
      "needs_background": "light"
     },
     "output_type": "display_data"
    }
   ],
   "source": [
    "gen_sales=gen_data.pivot(columns=[\"platform\", \"year\"], values=\"total_sales\")\n",
    "plt.figure(figsize=(10,10))\n",
    "gen_plot=sb.boxplot(data=gen_sales)\n",
    "gen_plot.set_xticklabels(gen_plot.get_xticklabels(),rotation=70)\n",
    "gen_plot.set(ylim=(0, 6))\n",
    "plt.xlabel(\"Platform Type & Year\")\n",
    "plt.ylabel(\"Total Sales in USD (Millions)\")\n",
    "plt.title(\"Yearly Tolal Global Sales in Millions Per Platfom\")\n",
    "plt.show()"
   ]
  },
  {
   "cell_type": "markdown",
   "id": "8f2a2a98",
   "metadata": {},
   "source": [
    "* For GEN platform, 1992 appears to have the highest total sales. After that sales declined greatly."
   ]
  },
  {
   "cell_type": "code",
   "execution_count": 51,
   "id": "fc6ec669",
   "metadata": {},
   "outputs": [
    {
     "data": {
      "image/png": "[encoded data removed]",
      "text/plain": [
       "<Figure size 720x720 with 1 Axes>"
      ]
     },
     "metadata": {
      "needs_background": "light"
     },
     "output_type": "display_data"
    }
   ],
   "source": [
    "gen_avgsales=gen_data.pivot(columns=[\"platform\", \"year\"], values=\"total_sales\").mean()\n",
    "plt.figure(figsize=(10,10))\n",
    "gen_plot=sb.boxplot(data=gen_avgsales)\n",
    "gen_plot.set_xticklabels(gen_plot.get_xticklabels(),rotation=70)\n",
    "gen_plot.set(ylim=(0, 6))\n",
    "plt.xlabel(\"GEN Plaform\")\n",
    "plt.ylabel(\"Average Sales in USD (Millions)\")\n",
    "plt.title(\"Average Global Sales in Millions Per Platfom\")\n",
    "plt.show()"
   ]
  },
  {
   "cell_type": "code",
   "execution_count": 52,
   "id": "1e476f2e",
   "metadata": {
    "scrolled": false
   },
   "outputs": [
    {
     "data": {
      "image/png": "[encoded data removed]",
      "text/plain": [
       "<Figure size 720x720 with 1 Axes>"
      ]
     },
     "metadata": {
      "needs_background": "light"
     },
     "output_type": "display_data"
    }
   ],
   "source": [
    "ts_sales=ts_data.pivot(columns=[\"platform\", \"year\"], values=\"total_sales\")\n",
    "plt.figure(figsize=(10,10))\n",
    "ts_plot=sb.boxplot(data=ts_sales)\n",
    "ts_plot.set_xticklabels(ts_plot.get_xticklabels(),rotation=70)\n",
    "ts_plot.set(ylim=(0, 7))\n",
    "plt.xlabel(\"Platform Type & Year\")\n",
    "plt.ylabel(\"Total Sales in USD (Millions)\")\n",
    "plt.title(\"Yearly Tolal Global Sales in Millions Per Platfom\")\n",
    "plt.show()"
   ]
  },
  {
   "cell_type": "markdown",
   "id": "b4460e2c",
   "metadata": {},
   "source": [
    "* The 2600 platform peaked in 1980 then generally declined in the later years."
   ]
  },
  {
   "cell_type": "code",
   "execution_count": 53,
   "id": "bcf5be38",
   "metadata": {},
   "outputs": [
    {
     "data": {
      "image/png": "[encoded data removed]",
      "text/plain": [
       "<Figure size 720x720 with 1 Axes>"
      ]
     },
     "metadata": {
      "needs_background": "light"
     },
     "output_type": "display_data"
    }
   ],
   "source": [
    "ts_avgsales=ts_data.pivot(columns=[\"platform\", \"year\"], values=\"total_sales\").mean()\n",
    "plt.figure(figsize=(10,10))\n",
    "ts_plot=sb.boxplot(data=ts_avgsales)\n",
    "ts_plot.set_xticklabels(ts_plot.get_xticklabels(),rotation=70)\n",
    "ts_plot.set(ylim=(0, 7))\n",
    "plt.xlabel(\"2600 Plaform\")\n",
    "plt.ylabel(\"Average Sales in USD (Millions)\")\n",
    "plt.title(\"Average Global Sales in Millions for 2600 Platform\")\n",
    "plt.show()"
   ]
  },
  {
   "cell_type": "code",
   "execution_count": 54,
   "id": "7e37b506",
   "metadata": {
    "scrolled": true
   },
   "outputs": [
    {
     "data": {
      "image/png": "[encoded data removed]",
      "text/plain": [
       "<Figure size 720x720 with 1 Axes>"
      ]
     },
     "metadata": {
      "needs_background": "light"
     },
     "output_type": "display_data"
    }
   ],
   "source": [
    "ps3_sales=ps3_data.pivot(columns=[\"platform\", \"year\"], values=\"total_sales\")\n",
    "plt.figure(figsize=(10,10))\n",
    "ps3_plot=sb.boxplot(data=ps3_sales)\n",
    "ps3_plot.set_xticklabels(ps3_plot.get_xticklabels(),rotation=70)\n",
    "ps3_plot.set(ylim=(0, 6))\n",
    "plt.xlabel(\"Platform Type & Year\")\n",
    "plt.ylabel(\"Total Sales in USD (Millions)\")\n",
    "plt.title(\"Yearly Tolal Global Sales in Millions Per Platfom\")\n",
    "plt.show()"
   ]
  },
  {
   "cell_type": "markdown",
   "id": "44d92b79",
   "metadata": {},
   "source": [
    "* PS3 had the highest total sales in 2006, then declined thereafter."
   ]
  },
  {
   "cell_type": "code",
   "execution_count": 55,
   "id": "5f3e16c8",
   "metadata": {},
   "outputs": [
    {
     "data": {
      "image/png": "[encoded data removed]",
      "text/plain": [
       "<Figure size 720x720 with 1 Axes>"
      ]
     },
     "metadata": {
      "needs_background": "light"
     },
     "output_type": "display_data"
    }
   ],
   "source": [
    "ps3_avgsales=ps3_data.pivot(columns=[\"platform\", \"year\"], values=\"total_sales\").mean()\n",
    "plt.figure(figsize=(10,10))\n",
    "ps3_plot=sb.boxplot(data=ps3_avgsales)\n",
    "ps3_plot.set_xticklabels(ps3_plot.get_xticklabels(),rotation=70)\n",
    "ps3_plot.set(ylim=(0, 3))\n",
    "plt.xlabel(\"PS3 Plaform\")\n",
    "plt.ylabel(\"Average Sales in USD (Millions)\")\n",
    "plt.title(\"Average Global Sales in Millions Per Platfom\")\n",
    "plt.show()"
   ]
  },
  {
   "cell_type": "code",
   "execution_count": 56,
   "id": "5caeb4ae",
   "metadata": {
    "scrolled": true
   },
   "outputs": [
    {
     "data": {
      "image/png": "[encoded data removed]",
      "text/plain": [
       "<Figure size 720x720 with 1 Axes>"
      ]
     },
     "metadata": {
      "needs_background": "light"
     },
     "output_type": "display_data"
    }
   ],
   "source": [
    "x360_sales=x360_data.pivot(columns=[\"platform\", \"year\"], values=\"total_sales\")\n",
    "plt.figure(figsize=(10,10))\n",
    "x360_plot=sb.boxplot(data=x360_sales)\n",
    "x360_plot.set_xticklabels(x360_plot.get_xticklabels(),rotation=70)\n",
    "x360_plot.set(ylim=(0, 6))\n",
    "plt.xlabel(\"Platform Type & Year\")\n",
    "plt.ylabel(\"Total Sales in USD (Millions)\")\n",
    "plt.title(\"Yearly Tolal Global Sales in Millions Per Platfom\")\n",
    "plt.show()"
   ]
  },
  {
   "cell_type": "markdown",
   "id": "2b3a7195",
   "metadata": {},
   "source": [
    "* The largest total sales for X360 was in 2013, and fluctuated in the later years."
   ]
  },
  {
   "cell_type": "code",
   "execution_count": 57,
   "id": "ccccf445",
   "metadata": {},
   "outputs": [
    {
     "data": {
      "image/png": "[encoded data removed]",
      "text/plain": [
       "<Figure size 720x720 with 1 Axes>"
      ]
     },
     "metadata": {
      "needs_background": "light"
     },
     "output_type": "display_data"
    }
   ],
   "source": [
    "x360_avgsales=x360_data.pivot(columns=[\"platform\", \"year\"], values=\"total_sales\").mean()\n",
    "plt.figure(figsize=(10,10))\n",
    "x360_plot=sb.boxplot(data=x360_avgsales)\n",
    "x360_plot.set_xticklabels(x360_plot.get_xticklabels(),rotation=70)\n",
    "x360_plot.set(ylim=(0, 4))\n",
    "plt.xlabel(\"X360 Platform\")\n",
    "plt.ylabel(\"Average Sales in USD (Millions)\")\n",
    "plt.title(\"Average Global Sales in Millions Per Platfom\")\n",
    "plt.show()"
   ]
  },
  {
   "cell_type": "markdown",
   "id": "81b60198",
   "metadata": {},
   "source": [
    "* For the correlational analysis, I will select \"NES\" Platorm to determine whether or not a correlation exists between sales and reviews."
   ]
  },
  {
   "cell_type": "code",
   "execution_count": 58,
   "id": "4a56fc98",
   "metadata": {
    "scrolled": true
   },
   "outputs": [
    {
     "data": {
      "text/html": [
       "<div>\n",
       "<style scoped>\n",
       "    .dataframe tbody tr th:only-of-type {\n",
       "        vertical-align: middle;\n",
       "    }\n",
       "\n",
       "    .dataframe tbody tr th {\n",
       "        vertical-align: top;\n",
       "    }\n",
       "\n",
       "    .dataframe thead th {\n",
       "        text-align: right;\n",
       "    }\n",
       "</style>\n",
       "<table border=\"1\" class=\"dataframe\">\n",
       "  <thead>\n",
       "    <tr style=\"text-align: right;\">\n",
       "      <th></th>\n",
       "      <th>name</th>\n",
       "      <th>platform</th>\n",
       "      <th>year_of_release</th>\n",
       "      <th>genre</th>\n",
       "      <th>na_sales</th>\n",
       "      <th>eu_sales</th>\n",
       "      <th>jp_sales</th>\n",
       "      <th>other_sales</th>\n",
       "      <th>critic_score</th>\n",
       "      <th>user_score</th>\n",
       "      <th>rating</th>\n",
       "      <th>total_sales</th>\n",
       "      <th>year</th>\n",
       "    </tr>\n",
       "  </thead>\n",
       "  <tbody>\n",
       "    <tr>\n",
       "      <th>4</th>\n",
       "      <td>Pokemon Red/Pokemon Blue</td>\n",
       "      <td>GB</td>\n",
       "      <td>1996-01-01</td>\n",
       "      <td>Role-Playing</td>\n",
       "      <td>11.27</td>\n",
       "      <td>8.89</td>\n",
       "      <td>10.22</td>\n",
       "      <td>1.00</td>\n",
       "      <td>0.0</td>\n",
       "      <td>0.0</td>\n",
       "      <td>Unknown</td>\n",
       "      <td>31.38</td>\n",
       "      <td>1996</td>\n",
       "    </tr>\n",
       "    <tr>\n",
       "      <th>5</th>\n",
       "      <td>Tetris</td>\n",
       "      <td>GB</td>\n",
       "      <td>1989-01-01</td>\n",
       "      <td>Puzzle</td>\n",
       "      <td>23.20</td>\n",
       "      <td>2.26</td>\n",
       "      <td>4.22</td>\n",
       "      <td>0.58</td>\n",
       "      <td>0.0</td>\n",
       "      <td>0.0</td>\n",
       "      <td>Unknown</td>\n",
       "      <td>30.26</td>\n",
       "      <td>1989</td>\n",
       "    </tr>\n",
       "    <tr>\n",
       "      <th>12</th>\n",
       "      <td>Pokemon Gold/Pokemon Silver</td>\n",
       "      <td>GB</td>\n",
       "      <td>1999-01-01</td>\n",
       "      <td>Role-Playing</td>\n",
       "      <td>9.00</td>\n",
       "      <td>6.18</td>\n",
       "      <td>7.20</td>\n",
       "      <td>0.71</td>\n",
       "      <td>0.0</td>\n",
       "      <td>0.0</td>\n",
       "      <td>Unknown</td>\n",
       "      <td>23.09</td>\n",
       "      <td>1999</td>\n",
       "    </tr>\n",
       "    <tr>\n",
       "      <th>21</th>\n",
       "      <td>Super Mario Land</td>\n",
       "      <td>GB</td>\n",
       "      <td>1989-01-01</td>\n",
       "      <td>Platform</td>\n",
       "      <td>10.83</td>\n",
       "      <td>2.71</td>\n",
       "      <td>4.18</td>\n",
       "      <td>0.42</td>\n",
       "      <td>0.0</td>\n",
       "      <td>0.0</td>\n",
       "      <td>Unknown</td>\n",
       "      <td>18.14</td>\n",
       "      <td>1989</td>\n",
       "    </tr>\n",
       "    <tr>\n",
       "      <th>30</th>\n",
       "      <td>Pokémon Yellow: Special Pikachu Edition</td>\n",
       "      <td>GB</td>\n",
       "      <td>1998-01-01</td>\n",
       "      <td>Role-Playing</td>\n",
       "      <td>5.89</td>\n",
       "      <td>5.04</td>\n",
       "      <td>3.12</td>\n",
       "      <td>0.59</td>\n",
       "      <td>0.0</td>\n",
       "      <td>0.0</td>\n",
       "      <td>Unknown</td>\n",
       "      <td>14.64</td>\n",
       "      <td>1998</td>\n",
       "    </tr>\n",
       "    <tr>\n",
       "      <th>...</th>\n",
       "      <td>...</td>\n",
       "      <td>...</td>\n",
       "      <td>...</td>\n",
       "      <td>...</td>\n",
       "      <td>...</td>\n",
       "      <td>...</td>\n",
       "      <td>...</td>\n",
       "      <td>...</td>\n",
       "      <td>...</td>\n",
       "      <td>...</td>\n",
       "      <td>...</td>\n",
       "      <td>...</td>\n",
       "      <td>...</td>\n",
       "    </tr>\n",
       "    <tr>\n",
       "      <th>11834</th>\n",
       "      <td>Mega Man Xtreme</td>\n",
       "      <td>GB</td>\n",
       "      <td>2000-01-01</td>\n",
       "      <td>Platform</td>\n",
       "      <td>0.00</td>\n",
       "      <td>0.00</td>\n",
       "      <td>0.07</td>\n",
       "      <td>0.00</td>\n",
       "      <td>0.0</td>\n",
       "      <td>0.0</td>\n",
       "      <td>Unknown</td>\n",
       "      <td>0.07</td>\n",
       "      <td>2000</td>\n",
       "    </tr>\n",
       "    <tr>\n",
       "      <th>11847</th>\n",
       "      <td>Mega Man Xtreme 2</td>\n",
       "      <td>GB</td>\n",
       "      <td>2001-01-01</td>\n",
       "      <td>Platform</td>\n",
       "      <td>0.00</td>\n",
       "      <td>0.00</td>\n",
       "      <td>0.07</td>\n",
       "      <td>0.00</td>\n",
       "      <td>0.0</td>\n",
       "      <td>0.0</td>\n",
       "      <td>Unknown</td>\n",
       "      <td>0.07</td>\n",
       "      <td>2001</td>\n",
       "    </tr>\n",
       "    <tr>\n",
       "      <th>11982</th>\n",
       "      <td>Metal Gear Solid</td>\n",
       "      <td>GB</td>\n",
       "      <td>2000-01-01</td>\n",
       "      <td>Action</td>\n",
       "      <td>0.00</td>\n",
       "      <td>0.00</td>\n",
       "      <td>0.07</td>\n",
       "      <td>0.00</td>\n",
       "      <td>0.0</td>\n",
       "      <td>0.0</td>\n",
       "      <td>Unknown</td>\n",
       "      <td>0.07</td>\n",
       "      <td>2000</td>\n",
       "    </tr>\n",
       "    <tr>\n",
       "      <th>12143</th>\n",
       "      <td>Power Pro GB</td>\n",
       "      <td>GB</td>\n",
       "      <td>1998-01-01</td>\n",
       "      <td>Sports</td>\n",
       "      <td>0.00</td>\n",
       "      <td>0.00</td>\n",
       "      <td>0.07</td>\n",
       "      <td>0.00</td>\n",
       "      <td>0.0</td>\n",
       "      <td>0.0</td>\n",
       "      <td>Unknown</td>\n",
       "      <td>0.07</td>\n",
       "      <td>1998</td>\n",
       "    </tr>\n",
       "    <tr>\n",
       "      <th>12703</th>\n",
       "      <td>Teenage Mutant Ninja Turtles II: Back from the...</td>\n",
       "      <td>GB</td>\n",
       "      <td>1991-01-01</td>\n",
       "      <td>Action</td>\n",
       "      <td>0.00</td>\n",
       "      <td>0.00</td>\n",
       "      <td>0.06</td>\n",
       "      <td>0.00</td>\n",
       "      <td>0.0</td>\n",
       "      <td>0.0</td>\n",
       "      <td>Unknown</td>\n",
       "      <td>0.06</td>\n",
       "      <td>1991</td>\n",
       "    </tr>\n",
       "  </tbody>\n",
       "</table>\n",
       "<p>97 rows × 13 columns</p>\n",
       "</div>"
      ],
      "text/plain": [
       "                                                    name platform  \\\n",
       "4                               Pokemon Red/Pokemon Blue       GB   \n",
       "5                                                 Tetris       GB   \n",
       "12                           Pokemon Gold/Pokemon Silver       GB   \n",
       "21                                      Super Mario Land       GB   \n",
       "30               Pokémon Yellow: Special Pikachu Edition       GB   \n",
       "...                                                  ...      ...   \n",
       "11834                                    Mega Man Xtreme       GB   \n",
       "11847                                  Mega Man Xtreme 2       GB   \n",
       "11982                                   Metal Gear Solid       GB   \n",
       "12143                                       Power Pro GB       GB   \n",
       "12703  Teenage Mutant Ninja Turtles II: Back from the...       GB   \n",
       "\n",
       "      year_of_release         genre  na_sales  eu_sales  jp_sales  \\\n",
       "4          1996-01-01  Role-Playing     11.27      8.89     10.22   \n",
       "5          1989-01-01        Puzzle     23.20      2.26      4.22   \n",
       "12         1999-01-01  Role-Playing      9.00      6.18      7.20   \n",
       "21         1989-01-01      Platform     10.83      2.71      4.18   \n",
       "30         1998-01-01  Role-Playing      5.89      5.04      3.12   \n",
       "...               ...           ...       ...       ...       ...   \n",
       "11834      2000-01-01      Platform      0.00      0.00      0.07   \n",
       "11847      2001-01-01      Platform      0.00      0.00      0.07   \n",
       "11982      2000-01-01        Action      0.00      0.00      0.07   \n",
       "12143      1998-01-01        Sports      0.00      0.00      0.07   \n",
       "12703      1991-01-01        Action      0.00      0.00      0.06   \n",
       "\n",
       "       other_sales  critic_score  user_score   rating  total_sales  year  \n",
       "4             1.00           0.0         0.0  Unknown        31.38  1996  \n",
       "5             0.58           0.0         0.0  Unknown        30.26  1989  \n",
       "12            0.71           0.0         0.0  Unknown        23.09  1999  \n",
       "21            0.42           0.0         0.0  Unknown        18.14  1989  \n",
       "30            0.59           0.0         0.0  Unknown        14.64  1998  \n",
       "...            ...           ...         ...      ...          ...   ...  \n",
       "11834         0.00           0.0         0.0  Unknown         0.07  2000  \n",
       "11847         0.00           0.0         0.0  Unknown         0.07  2001  \n",
       "11982         0.00           0.0         0.0  Unknown         0.07  2000  \n",
       "12143         0.00           0.0         0.0  Unknown         0.07  1998  \n",
       "12703         0.00           0.0         0.0  Unknown         0.06  1991  \n",
       "\n",
       "[97 rows x 13 columns]"
      ]
     },
     "execution_count": 58,
     "metadata": {},
     "output_type": "execute_result"
    }
   ],
   "source": [
    "gb_data"
   ]
  },
  {
   "cell_type": "code",
   "execution_count": 59,
   "id": "858d2334",
   "metadata": {},
   "outputs": [
    {
     "data": {
      "text/html": [
       "<div>\n",
       "<style scoped>\n",
       "    .dataframe tbody tr th:only-of-type {\n",
       "        vertical-align: middle;\n",
       "    }\n",
       "\n",
       "    .dataframe tbody tr th {\n",
       "        vertical-align: top;\n",
       "    }\n",
       "\n",
       "    .dataframe thead th {\n",
       "        text-align: right;\n",
       "    }\n",
       "</style>\n",
       "<table border=\"1\" class=\"dataframe\">\n",
       "  <thead>\n",
       "    <tr style=\"text-align: right;\">\n",
       "      <th></th>\n",
       "      <th>name</th>\n",
       "      <th>platform</th>\n",
       "      <th>year_of_release</th>\n",
       "      <th>genre</th>\n",
       "      <th>na_sales</th>\n",
       "      <th>eu_sales</th>\n",
       "      <th>jp_sales</th>\n",
       "      <th>other_sales</th>\n",
       "      <th>critic_score</th>\n",
       "      <th>user_score</th>\n",
       "      <th>rating</th>\n",
       "      <th>total_sales</th>\n",
       "      <th>year</th>\n",
       "    </tr>\n",
       "  </thead>\n",
       "  <tbody>\n",
       "    <tr>\n",
       "      <th>14</th>\n",
       "      <td>Kinect Adventures!</td>\n",
       "      <td>X360</td>\n",
       "      <td>2010-01-01</td>\n",
       "      <td>Misc</td>\n",
       "      <td>15.00</td>\n",
       "      <td>4.89</td>\n",
       "      <td>0.24</td>\n",
       "      <td>1.69</td>\n",
       "      <td>61.0</td>\n",
       "      <td>6.3</td>\n",
       "      <td>E</td>\n",
       "      <td>21.82</td>\n",
       "      <td>2010</td>\n",
       "    </tr>\n",
       "    <tr>\n",
       "      <th>23</th>\n",
       "      <td>Grand Theft Auto V</td>\n",
       "      <td>X360</td>\n",
       "      <td>2013-01-01</td>\n",
       "      <td>Action</td>\n",
       "      <td>9.66</td>\n",
       "      <td>5.14</td>\n",
       "      <td>0.06</td>\n",
       "      <td>1.41</td>\n",
       "      <td>97.0</td>\n",
       "      <td>8.1</td>\n",
       "      <td>M</td>\n",
       "      <td>16.27</td>\n",
       "      <td>2013</td>\n",
       "    </tr>\n",
       "    <tr>\n",
       "      <th>29</th>\n",
       "      <td>Call of Duty: Modern Warfare 3</td>\n",
       "      <td>X360</td>\n",
       "      <td>2011-01-01</td>\n",
       "      <td>Shooter</td>\n",
       "      <td>9.04</td>\n",
       "      <td>4.24</td>\n",
       "      <td>0.13</td>\n",
       "      <td>1.32</td>\n",
       "      <td>88.0</td>\n",
       "      <td>3.4</td>\n",
       "      <td>M</td>\n",
       "      <td>14.73</td>\n",
       "      <td>2011</td>\n",
       "    </tr>\n",
       "    <tr>\n",
       "      <th>32</th>\n",
       "      <td>Call of Duty: Black Ops</td>\n",
       "      <td>X360</td>\n",
       "      <td>2010-01-01</td>\n",
       "      <td>Shooter</td>\n",
       "      <td>9.70</td>\n",
       "      <td>3.68</td>\n",
       "      <td>0.11</td>\n",
       "      <td>1.13</td>\n",
       "      <td>87.0</td>\n",
       "      <td>6.3</td>\n",
       "      <td>M</td>\n",
       "      <td>14.62</td>\n",
       "      <td>2010</td>\n",
       "    </tr>\n",
       "    <tr>\n",
       "      <th>35</th>\n",
       "      <td>Call of Duty: Black Ops II</td>\n",
       "      <td>X360</td>\n",
       "      <td>2012-01-01</td>\n",
       "      <td>Shooter</td>\n",
       "      <td>8.25</td>\n",
       "      <td>4.24</td>\n",
       "      <td>0.07</td>\n",
       "      <td>1.12</td>\n",
       "      <td>83.0</td>\n",
       "      <td>4.8</td>\n",
       "      <td>M</td>\n",
       "      <td>13.68</td>\n",
       "      <td>2012</td>\n",
       "    </tr>\n",
       "    <tr>\n",
       "      <th>...</th>\n",
       "      <td>...</td>\n",
       "      <td>...</td>\n",
       "      <td>...</td>\n",
       "      <td>...</td>\n",
       "      <td>...</td>\n",
       "      <td>...</td>\n",
       "      <td>...</td>\n",
       "      <td>...</td>\n",
       "      <td>...</td>\n",
       "      <td>...</td>\n",
       "      <td>...</td>\n",
       "      <td>...</td>\n",
       "      <td>...</td>\n",
       "    </tr>\n",
       "    <tr>\n",
       "      <th>16613</th>\n",
       "      <td>Dragon Ball Z for Kinect</td>\n",
       "      <td>X360</td>\n",
       "      <td>2012-01-01</td>\n",
       "      <td>Fighting</td>\n",
       "      <td>0.01</td>\n",
       "      <td>0.00</td>\n",
       "      <td>0.00</td>\n",
       "      <td>0.00</td>\n",
       "      <td>49.0</td>\n",
       "      <td>2.1</td>\n",
       "      <td>T</td>\n",
       "      <td>0.01</td>\n",
       "      <td>2012</td>\n",
       "    </tr>\n",
       "    <tr>\n",
       "      <th>16622</th>\n",
       "      <td>World Snooker Championship 2007</td>\n",
       "      <td>X360</td>\n",
       "      <td>2007-01-01</td>\n",
       "      <td>Sports</td>\n",
       "      <td>0.00</td>\n",
       "      <td>0.01</td>\n",
       "      <td>0.00</td>\n",
       "      <td>0.00</td>\n",
       "      <td>0.0</td>\n",
       "      <td>0.0</td>\n",
       "      <td>Unknown</td>\n",
       "      <td>0.01</td>\n",
       "      <td>2007</td>\n",
       "    </tr>\n",
       "    <tr>\n",
       "      <th>16647</th>\n",
       "      <td>Metal Gear Solid HD Edition</td>\n",
       "      <td>X360</td>\n",
       "      <td>2011-01-01</td>\n",
       "      <td>Action</td>\n",
       "      <td>0.00</td>\n",
       "      <td>0.00</td>\n",
       "      <td>0.01</td>\n",
       "      <td>0.00</td>\n",
       "      <td>0.0</td>\n",
       "      <td>0.0</td>\n",
       "      <td>M</td>\n",
       "      <td>0.01</td>\n",
       "      <td>2011</td>\n",
       "    </tr>\n",
       "    <tr>\n",
       "      <th>16654</th>\n",
       "      <td>Ben 10 Omniverse 2</td>\n",
       "      <td>X360</td>\n",
       "      <td>2013-01-01</td>\n",
       "      <td>Action</td>\n",
       "      <td>0.00</td>\n",
       "      <td>0.01</td>\n",
       "      <td>0.00</td>\n",
       "      <td>0.00</td>\n",
       "      <td>0.0</td>\n",
       "      <td>5.1</td>\n",
       "      <td>E10+</td>\n",
       "      <td>0.01</td>\n",
       "      <td>2013</td>\n",
       "    </tr>\n",
       "    <tr>\n",
       "      <th>16711</th>\n",
       "      <td>LMA Manager 2007</td>\n",
       "      <td>X360</td>\n",
       "      <td>2006-01-01</td>\n",
       "      <td>Sports</td>\n",
       "      <td>0.00</td>\n",
       "      <td>0.01</td>\n",
       "      <td>0.00</td>\n",
       "      <td>0.00</td>\n",
       "      <td>0.0</td>\n",
       "      <td>0.0</td>\n",
       "      <td>Unknown</td>\n",
       "      <td>0.01</td>\n",
       "      <td>2006</td>\n",
       "    </tr>\n",
       "  </tbody>\n",
       "</table>\n",
       "<p>1232 rows × 13 columns</p>\n",
       "</div>"
      ],
      "text/plain": [
       "                                  name platform year_of_release     genre  \\\n",
       "14                  Kinect Adventures!     X360      2010-01-01      Misc   \n",
       "23                  Grand Theft Auto V     X360      2013-01-01    Action   \n",
       "29      Call of Duty: Modern Warfare 3     X360      2011-01-01   Shooter   \n",
       "32             Call of Duty: Black Ops     X360      2010-01-01   Shooter   \n",
       "35          Call of Duty: Black Ops II     X360      2012-01-01   Shooter   \n",
       "...                                ...      ...             ...       ...   \n",
       "16613         Dragon Ball Z for Kinect     X360      2012-01-01  Fighting   \n",
       "16622  World Snooker Championship 2007     X360      2007-01-01    Sports   \n",
       "16647      Metal Gear Solid HD Edition     X360      2011-01-01    Action   \n",
       "16654               Ben 10 Omniverse 2     X360      2013-01-01    Action   \n",
       "16711                 LMA Manager 2007     X360      2006-01-01    Sports   \n",
       "\n",
       "       na_sales  eu_sales  jp_sales  other_sales  critic_score  user_score  \\\n",
       "14        15.00      4.89      0.24         1.69          61.0         6.3   \n",
       "23         9.66      5.14      0.06         1.41          97.0         8.1   \n",
       "29         9.04      4.24      0.13         1.32          88.0         3.4   \n",
       "32         9.70      3.68      0.11         1.13          87.0         6.3   \n",
       "35         8.25      4.24      0.07         1.12          83.0         4.8   \n",
       "...         ...       ...       ...          ...           ...         ...   \n",
       "16613      0.01      0.00      0.00         0.00          49.0         2.1   \n",
       "16622      0.00      0.01      0.00         0.00           0.0         0.0   \n",
       "16647      0.00      0.00      0.01         0.00           0.0         0.0   \n",
       "16654      0.00      0.01      0.00         0.00           0.0         5.1   \n",
       "16711      0.00      0.01      0.00         0.00           0.0         0.0   \n",
       "\n",
       "        rating  total_sales  year  \n",
       "14           E        21.82  2010  \n",
       "23           M        16.27  2013  \n",
       "29           M        14.73  2011  \n",
       "32           M        14.62  2010  \n",
       "35           M        13.68  2012  \n",
       "...        ...          ...   ...  \n",
       "16613        T         0.01  2012  \n",
       "16622  Unknown         0.01  2007  \n",
       "16647        M         0.01  2011  \n",
       "16654     E10+         0.01  2013  \n",
       "16711  Unknown         0.01  2006  \n",
       "\n",
       "[1232 rows x 13 columns]"
      ]
     },
     "execution_count": 59,
     "metadata": {},
     "output_type": "execute_result"
    }
   ],
   "source": [
    "x360_data"
   ]
  },
  {
   "cell_type": "code",
   "execution_count": 60,
   "id": "1a02f561",
   "metadata": {
    "scrolled": true
   },
   "outputs": [
    {
     "name": "stdout",
     "output_type": "stream",
     "text": [
      "              na_sales  eu_sales  jp_sales  other_sales  critic_score  \\\n",
      "na_sales      1.000000  0.854828  0.486123     0.964488      0.309868   \n",
      "eu_sales      0.854828  1.000000  0.461634     0.947864      0.281392   \n",
      "jp_sales      0.486123  0.461634  1.000000     0.501547      0.184429   \n",
      "other_sales   0.964488  0.947864  0.501547     1.000000      0.314175   \n",
      "critic_score  0.309868  0.281392  0.184429     0.314175      1.000000   \n",
      "user_score    0.207545  0.184795  0.121010     0.211755      0.790158   \n",
      "total_sales   0.984380  0.932376  0.506603     0.992423      0.311756   \n",
      "year         -0.014709  0.044633 -0.126640    -0.004677     -0.288848   \n",
      "\n",
      "              user_score  total_sales      year  \n",
      "na_sales        0.207545     0.984380 -0.014709  \n",
      "eu_sales        0.184795     0.932376  0.044633  \n",
      "jp_sales        0.121010     0.506603 -0.126640  \n",
      "other_sales     0.211755     0.992423 -0.004677  \n",
      "critic_score    0.790158     0.311756 -0.288848  \n",
      "user_score      1.000000     0.207806 -0.156413  \n",
      "total_sales     0.207806     1.000000  0.001390  \n",
      "year           -0.156413     0.001390  1.000000  \n"
     ]
    },
    {
     "data": {
      "image/png": "[encoded data removed]",
      "text/plain": [
       "<Figure size 432x288 with 1 Axes>"
      ]
     },
     "metadata": {
      "needs_background": "light"
     },
     "output_type": "display_data"
    },
    {
     "name": "stdout",
     "output_type": "stream",
     "text": [
      "\n",
      "The correlation between critic score and total sales is weak & positive:  0.311756\n"
     ]
    }
   ],
   "source": [
    "print(x360_data.corr())\n",
    "x360_data.corr().plot(kind=\"scatter\", x=\"critic_score\", y=\"total_sales\")\n",
    "plt.title(\"Effect of Critic Score on Total Global Sales\")\n",
    "plt.show()\n",
    "print()\n",
    "print(\"The correlation between critic score and total sales is weak & positive:  0.311756\")"
   ]
  },
  {
   "cell_type": "code",
   "execution_count": 61,
   "id": "6440fdde",
   "metadata": {},
   "outputs": [
    {
     "name": "stdout",
     "output_type": "stream",
     "text": [
      "              na_sales  eu_sales  jp_sales  other_sales  critic_score  \\\n",
      "na_sales      1.000000  0.854828  0.486123     0.964488      0.309868   \n",
      "eu_sales      0.854828  1.000000  0.461634     0.947864      0.281392   \n",
      "jp_sales      0.486123  0.461634  1.000000     0.501547      0.184429   \n",
      "other_sales   0.964488  0.947864  0.501547     1.000000      0.314175   \n",
      "critic_score  0.309868  0.281392  0.184429     0.314175      1.000000   \n",
      "user_score    0.207545  0.184795  0.121010     0.211755      0.790158   \n",
      "total_sales   0.984380  0.932376  0.506603     0.992423      0.311756   \n",
      "year         -0.014709  0.044633 -0.126640    -0.004677     -0.288848   \n",
      "\n",
      "              user_score  total_sales      year  \n",
      "na_sales        0.207545     0.984380 -0.014709  \n",
      "eu_sales        0.184795     0.932376  0.044633  \n",
      "jp_sales        0.121010     0.506603 -0.126640  \n",
      "other_sales     0.211755     0.992423 -0.004677  \n",
      "critic_score    0.790158     0.311756 -0.288848  \n",
      "user_score      1.000000     0.207806 -0.156413  \n",
      "total_sales     0.207806     1.000000  0.001390  \n",
      "year           -0.156413     0.001390  1.000000  \n"
     ]
    },
    {
     "data": {
      "image/png": "[encoded data removed]",
      "text/plain": [
       "<Figure size 432x288 with 1 Axes>"
      ]
     },
     "metadata": {
      "needs_background": "light"
     },
     "output_type": "display_data"
    },
    {
     "name": "stdout",
     "output_type": "stream",
     "text": [
      "\n",
      "The correlation between user score and total sales is weak & positive: 0.207806\n"
     ]
    }
   ],
   "source": [
    "print(x360_data.corr())\n",
    "x360_data.corr().plot(kind=\"scatter\", x=\"user_score\", y=\"total_sales\")\n",
    "plt.title(\"Effect of Critc Score on Total Global Sales\")\n",
    "plt.show()\n",
    "print()\n",
    "print(\"The correlation between user score and total sales is weak & positive: 0.207806\")"
   ]
  },
  {
   "cell_type": "code",
   "execution_count": 62,
   "id": "87146487",
   "metadata": {},
   "outputs": [
    {
     "data": {
      "text/plain": [
       "Index(['name', 'platform', 'year_of_release', 'genre', 'na_sales', 'eu_sales',\n",
       "       'jp_sales', 'other_sales', 'critic_score', 'user_score', 'rating',\n",
       "       'total_sales', 'year'],\n",
       "      dtype='object')"
      ]
     },
     "execution_count": 62,
     "metadata": {},
     "output_type": "execute_result"
    }
   ],
   "source": [
    "games.columns"
   ]
  },
  {
   "cell_type": "code",
   "execution_count": 64,
   "id": "4387f1f7",
   "metadata": {
    "scrolled": false
   },
   "outputs": [
    {
     "data": {
      "image/png": "[encoded data removed]",
      "text/plain": [
       "<Figure size 432x288 with 1 Axes>"
      ]
     },
     "metadata": {
      "needs_background": "light"
     },
     "output_type": "display_data"
    }
   ],
   "source": [
    "games_filtered_year.groupby([\"platform\"])[\"na_sales\"].sum().plot(kind=\"bar\")\n",
    "plt.ylabel(\"North America Sales in dollars (millions)\")\n",
    "plt.title(\"North America Sales in Dollars (millions) per platform\")\n",
    "plt.show()"
   ]
  },
  {
   "cell_type": "markdown",
   "id": "ecef4639",
   "metadata": {},
   "source": [
    "* The top 5 platforms for na_sales include:\n",
    "* 1.X360\n",
    "* 2.PS2\n",
    "* 3.Wii\n",
    "* 4.PS3\n",
    "* 5.DS"
   ]
  },
  {
   "cell_type": "code",
   "execution_count": 65,
   "id": "5e6cbee7",
   "metadata": {
    "scrolled": true
   },
   "outputs": [
    {
     "data": {
      "image/png": "[encoded data removed]",
      "text/plain": [
       "<Figure size 432x288 with 1 Axes>"
      ]
     },
     "metadata": {
      "needs_background": "light"
     },
     "output_type": "display_data"
    }
   ],
   "source": [
    "games_filtered_year.groupby([\"genre\"])[\"na_sales\"].sum().plot(kind=\"bar\")\n",
    "plt.ylabel(\"North America Sales in dollars (millions)\")\n",
    "plt.title(\"North America Sales in Dollars (millions) per Genre Type\")\n",
    "plt.show()"
   ]
  },
  {
   "cell_type": "markdown",
   "id": "520c38ea",
   "metadata": {},
   "source": [
    "* The top 5 genres of na_sales include:\n",
    "    1. Action\n",
    "    2.Sports\n",
    "    3.Shooter\n",
    "    4.Platform\n",
    "    5.Misc"
   ]
  },
  {
   "cell_type": "code",
   "execution_count": 66,
   "id": "05765926",
   "metadata": {
    "scrolled": true
   },
   "outputs": [
    {
     "data": {
      "image/png": "[encoded data removed]",
      "text/plain": [
       "<Figure size 432x288 with 1 Axes>"
      ]
     },
     "metadata": {
      "needs_background": "light"
     },
     "output_type": "display_data"
    }
   ],
   "source": [
    "games_filtered_year.groupby([\"rating\"])[\"na_sales\"].sum().plot(kind=\"bar\")\n",
    "plt.ylabel(\"North America Sales in dollars (millions)\")\n",
    "plt.title(\"North America Sales in Dollars (millions) per Rating Type\")\n",
    "plt.show()"
   ]
  },
  {
   "cell_type": "markdown",
   "id": "8390e5d3",
   "metadata": {},
   "source": [
    "* ESRB ratings for na_sales region seems to be predominantly \"E\" ratings. So, it appears that video games with \"E\" rating seem to sell more for some reason."
   ]
  },
  {
   "cell_type": "code",
   "execution_count": 67,
   "id": "7827d391",
   "metadata": {
    "scrolled": false
   },
   "outputs": [
    {
     "data": {
      "image/png": "[encoded data removed]",
      "text/plain": [
       "<Figure size 432x288 with 1 Axes>"
      ]
     },
     "metadata": {
      "needs_background": "light"
     },
     "output_type": "display_data"
    }
   ],
   "source": [
    "games_filtered_year.groupby([\"platform\"])[\"eu_sales\"].sum().plot(kind=\"bar\")\n",
    "plt.ylabel(\"European Sales in dollars (millions)\")\n",
    "plt.title(\"European Sales in Dollars (millions) per Platform Type\")\n",
    "plt.show()"
   ]
  },
  {
   "cell_type": "markdown",
   "id": "be8e810d",
   "metadata": {},
   "source": [
    "* The top 5 platforms for eu_sales are:\n",
    "    1. PS2\n",
    "    2.PS3\n",
    "    3.X360\n",
    "    4.Wii\n",
    "    5.PS"
   ]
  },
  {
   "cell_type": "code",
   "execution_count": 68,
   "id": "74f452be",
   "metadata": {
    "scrolled": true
   },
   "outputs": [
    {
     "data": {
      "image/png": "[encoded data removed]",
      "text/plain": [
       "<Figure size 432x288 with 1 Axes>"
      ]
     },
     "metadata": {
      "needs_background": "light"
     },
     "output_type": "display_data"
    }
   ],
   "source": [
    "games_filtered_year.groupby([\"rating\"])[\"eu_sales\"].sum().plot(kind=\"bar\")\n",
    "plt.ylabel(\"European Sales in dollars (millions)\")\n",
    "plt.title(\"European Sales in Dollars (millions) per Rating Type\")\n",
    "plt.show()"
   ]
  },
  {
   "cell_type": "markdown",
   "id": "6a18553d",
   "metadata": {},
   "source": [
    "* In the EU region, video games with \"E\" appear to have the most sales."
   ]
  },
  {
   "cell_type": "code",
   "execution_count": 69,
   "id": "2e6deda6",
   "metadata": {
    "scrolled": false
   },
   "outputs": [
    {
     "data": {
      "image/png": "[encoded data removed]",
      "text/plain": [
       "<Figure size 432x288 with 1 Axes>"
      ]
     },
     "metadata": {
      "needs_background": "light"
     },
     "output_type": "display_data"
    }
   ],
   "source": [
    "games_filtered_year.groupby([\"genre\"])[\"eu_sales\"].sum().plot(kind=\"bar\")\n",
    "plt.ylabel(\"European Sales in dollars (millions)\")\n",
    "plt.title(\"European Sales in Dollars (millions) per Genre Type\")\n",
    "plt.show()"
   ]
  },
  {
   "cell_type": "markdown",
   "id": "cbb33826",
   "metadata": {},
   "source": [
    "* Top 5 genre for EU:\n",
    "1. Action\n",
    "2.Sports\n",
    "3.Shooter\n",
    "4.Racing\n",
    "5.Misc"
   ]
  },
  {
   "cell_type": "code",
   "execution_count": 70,
   "id": "a04d3853",
   "metadata": {
    "scrolled": false
   },
   "outputs": [
    {
     "data": {
      "image/png": "[encoded data removed]",
      "text/plain": [
       "<Figure size 432x288 with 1 Axes>"
      ]
     },
     "metadata": {
      "needs_background": "light"
     },
     "output_type": "display_data"
    }
   ],
   "source": [
    "games_filtered_year.groupby([\"platform\"])[\"other_sales\"].sum().plot(kind=\"bar\")\n",
    "plt.ylabel(\"Other Sales in dollars (millions)\")\n",
    "plt.title(\"Other Sales in Dollars (millions) per Platform Type\")\n",
    "plt.show()"
   ]
  },
  {
   "cell_type": "markdown",
   "id": "0698965f",
   "metadata": {},
   "source": [
    "* Top 5 platforms for Other Sales\n",
    "1.PS2\n",
    "2.PS3\n",
    "3.X360\n",
    "4.Wii\n",
    "5.DS"
   ]
  },
  {
   "cell_type": "code",
   "execution_count": 71,
   "id": "dc13dd1f",
   "metadata": {
    "scrolled": true
   },
   "outputs": [
    {
     "data": {
      "image/png": "[encoded data removed]",
      "text/plain": [
       "<Figure size 432x288 with 1 Axes>"
      ]
     },
     "metadata": {
      "needs_background": "light"
     },
     "output_type": "display_data"
    }
   ],
   "source": [
    "games_filtered_year.groupby([\"genre\"])[\"other_sales\"].sum().plot(kind=\"bar\")\n",
    "plt.ylabel(\"Other Sales in dollars (millions)\")\n",
    "plt.title(\"Other Sales in Dollars (millions) per Genre Type\")\n",
    "plt.show()"
   ]
  },
  {
   "cell_type": "markdown",
   "id": "57e00f3f",
   "metadata": {},
   "source": [
    "* Top 5 genres for other sales:\n",
    "1.Action\n",
    "2.Sports\n",
    "3.Shooter\n",
    "4.Racing\n",
    "5.Misc"
   ]
  },
  {
   "cell_type": "code",
   "execution_count": 72,
   "id": "db843b82",
   "metadata": {
    "scrolled": true
   },
   "outputs": [
    {
     "data": {
      "image/png": "[encoded data removed]",
      "text/plain": [
       "<Figure size 432x288 with 1 Axes>"
      ]
     },
     "metadata": {
      "needs_background": "light"
     },
     "output_type": "display_data"
    }
   ],
   "source": [
    "games_filtered_year.groupby([\"rating\"])[\"other_sales\"].sum().plot(kind=\"bar\")\n",
    "plt.ylabel(\"Other Sales in dollars (millions)\")\n",
    "plt.title(\"Other Sales in Dollars (millions) per Rating Type\")\n",
    "plt.show()"
   ]
  },
  {
   "cell_type": "code",
   "execution_count": 73,
   "id": "0b6d9c2c",
   "metadata": {},
   "outputs": [
    {
     "data": {
      "image/png": "[encoded data removed]",
      "text/plain": [
       "<Figure size 432x288 with 1 Axes>"
      ]
     },
     "metadata": {
      "needs_background": "light"
     },
     "output_type": "display_data"
    }
   ],
   "source": [
    "games_filtered_year.groupby([\"platform\"])[\"jp_sales\"].sum().plot(kind=\"bar\")\n",
    "plt.ylabel(\"Japan Sales in dollars (millions)\")\n",
    "plt.title(\"Japan Sales in Dollars (millions) per Platform Type\")\n",
    "plt.show()"
   ]
  },
  {
   "cell_type": "markdown",
   "id": "8f29bccc",
   "metadata": {},
   "source": [
    "* The top 5 platforms for Japan Sales are:\n",
    "1.DS\n",
    "2.PS\n",
    "3.PS2\n",
    "4.SNES\n",
    "5.3DS"
   ]
  },
  {
   "cell_type": "code",
   "execution_count": 74,
   "id": "7f4089b8",
   "metadata": {
    "scrolled": true
   },
   "outputs": [
    {
     "data": {
      "image/png": "[encoded data removed]",
      "text/plain": [
       "<Figure size 432x288 with 1 Axes>"
      ]
     },
     "metadata": {
      "needs_background": "light"
     },
     "output_type": "display_data"
    }
   ],
   "source": [
    "games_filtered_year.groupby([\"genre\"])[\"jp_sales\"].sum().plot(kind=\"bar\")\n",
    "plt.ylabel(\"Japan Sales in dollars (millions)\")\n",
    "plt.title(\"Japan Sales in Dollars (millions) per Genre Type\")\n",
    "plt.show()"
   ]
  },
  {
   "cell_type": "markdown",
   "id": "e1659da2",
   "metadata": {},
   "source": [
    "* The top 5 genre types for Japan Sales include:\n",
    "1.Role Playing\n",
    "2.Action\n",
    "3.Sports\n",
    "4.Platform\n",
    "5.Misc\n",
    "With Role Playing superceding the other types"
   ]
  },
  {
   "cell_type": "code",
   "execution_count": 75,
   "id": "a255a991",
   "metadata": {
    "scrolled": true
   },
   "outputs": [
    {
     "data": {
      "image/png": "[encoded data removed]",
      "text/plain": [
       "<Figure size 432x288 with 1 Axes>"
      ]
     },
     "metadata": {
      "needs_background": "light"
     },
     "output_type": "display_data"
    }
   ],
   "source": [
    "games_filtered_year.groupby([\"rating\"])[\"jp_sales\"].sum().plot(kind=\"bar\")\n",
    "plt.ylabel(\"Japan Sales in dollars (millions)\")\n",
    "plt.title(\"Japan Sales in Dollars (millions) per Rating Type\")\n",
    "plt.show()"
   ]
  },
  {
   "cell_type": "markdown",
   "id": "1ea37759",
   "metadata": {},
   "source": [
    "In this case, it seems as the videos with rating types that originally contained missing values sell the most in Japan. Again, this rating type is not known."
   ]
  },
  {
   "cell_type": "code",
   "execution_count": 76,
   "id": "ddc26c06",
   "metadata": {},
   "outputs": [
    {
     "data": {
      "text/plain": [
       "array(['Wii', 'NES', 'GB', 'DS', 'X360', 'PS3', 'PS2', 'SNES', 'GBA',\n",
       "       'PS4', '3DS', 'N64', 'PS', 'XB', 'PC', '2600', 'PSP', 'XOne',\n",
       "       'WiiU', 'GC', 'GEN', 'DC', 'PSV', 'SAT', 'SCD', 'WS', 'NG', 'TG16',\n",
       "       '3DO', 'GG', 'PCFX'], dtype=object)"
      ]
     },
     "execution_count": 76,
     "metadata": {},
     "output_type": "execute_result"
    }
   ],
   "source": [
    "games[\"platform\"].unique()"
   ]
  },
  {
   "cell_type": "code",
   "execution_count": 77,
   "id": "6098b20f",
   "metadata": {},
   "outputs": [
    {
     "name": "stdout",
     "output_type": "stream",
     "text": [
      "PC Platform Average User Rating: 5.5745036572622775\n",
      "X-One Platform Average User Rating: 4.805263157894737\n"
     ]
    }
   ],
   "source": [
    "pc_plat_data=games.query('platform ==\"PC\"')\n",
    "pc_avg=pc_plat_data[\"user_score\"].mean()\n",
    "print(\"PC Platform Average User Rating:\", pc_avg)\n",
    "xone_plat_data=games.query('platform == \"XOne\"')\n",
    "xone_avg=xone_plat_data[\"user_score\"].mean()\n",
    "print(\"X-One Platform Average User Rating:\", xone_avg)\n",
    "\n"
   ]
  },
  {
   "cell_type": "code",
   "execution_count": 78,
   "id": "75eb9371",
   "metadata": {},
   "outputs": [
    {
     "name": "stdout",
     "output_type": "stream",
     "text": [
      "Hypothesis One:\n",
      "H0: The average user rating of PC and XOne Platforms are the same\n",
      "H1: The average user rating of PC and XOne Platforms are different\n"
     ]
    }
   ],
   "source": [
    "print(\"Hypothesis One:\")\n",
    "print(\"H0: The average user rating of PC and XOne Platforms are the same\")\n",
    "print(\"H1: The average user rating of PC and XOne Platforms are different\")\n"
   ]
  },
  {
   "cell_type": "code",
   "execution_count": 79,
   "id": "d935d73b",
   "metadata": {},
   "outputs": [
    {
     "data": {
      "image/png": "[encoded data removed]",
      "text/plain": [
       "<Figure size 576x504 with 1 Axes>"
      ]
     },
     "metadata": {
      "needs_background": "light"
     },
     "output_type": "display_data"
    },
    {
     "name": "stdout",
     "output_type": "stream",
     "text": [
      "PC: Average for user_score is platform\n",
      "PC    6.0\n",
      "Name: user_score, dtype: float64\n",
      "PC: Variance for user_score is platform\n",
      "PC    10.0\n",
      "Name: user_score, dtype: float64\n",
      "PC: SD for user_score is platform\n",
      "PC    3.0\n",
      "Name: user_score, dtype: float64\n",
      "XOne: Average for user_score is platform\n",
      "XOne    5.0\n",
      "Name: user_score, dtype: float64\n",
      "XOne: Variance for user_score is platform\n",
      "XOne    10.0\n",
      "Name: user_score, dtype: float64\n",
      "XOne: SD for user_score is platform\n",
      "XOne    3.0\n",
      "Name: user_score, dtype: float64\n"
     ]
    }
   ],
   "source": [
    "games_refined=games.query('platform == \"PC\" or platform == \"XOne\"')\n",
    "games_refined2=games_refined.query('user_score != 0')\n",
    "a= pc_plat_data.groupby(\"platform\")[\"user_score\"]\n",
    "b= xone_plat_data.groupby(\"platform\")[\"user_score\"]\n",
    "\n",
    "def user_score_stats(user_score):\n",
    "    fig, ax=plt.subplots(figsize=(8,7))\n",
    "    ax=sb.histplot(games_refined2, x=\"user_score\", hue=\"platform\")\n",
    "    \n",
    "    pc_mean= round(a.mean())\n",
    "    pc_var= round(a.var())\n",
    "    pc_std= round(a.std())\n",
    "    xone_mean=round(b.mean())\n",
    "    xone_var= round(b.var())\n",
    "    xone_std= round(b.std())\n",
    "    plt.title(\"Count of Monthly Call Duration per Plan Type\")\n",
    "    plt.show()\n",
    "    print(\"PC: Average for\", user_score, \"is\", pc_mean)\n",
    "    print(\"PC: Variance for\", user_score, \"is\", pc_var)\n",
    "    print(\"PC: SD for\", user_score, \"is\", pc_std)\n",
    "\n",
    "    print(\"XOne: Average for\", user_score, \"is\", xone_mean)\n",
    "    print(\"XOne: Variance for\", user_score, \"is\", xone_var)\n",
    "    print(\"XOne: SD for\", user_score, \"is\", xone_std)\n",
    "    \n",
    "user_score_stats(\"user_score\")\n"
   ]
  },
  {
   "cell_type": "markdown",
   "id": "94210b13",
   "metadata": {},
   "source": [
    "* Note that I omitted all values of 0 for user_score here because those values indicated missing values (except for one row which is mentioned above. The large numbers of zeros will have an impact on the average and std deviation, which is why I choose to remove them from the calculations. \n",
    "\n",
    "\n",
    "* It is clear to see that PC platforms appear to have more higher user ratings as compared to X-One Platforms. This also indicated by the difference in average user score ratings: PC platforms have an average user score of 6 while XOne has an average user score rating of 5."
   ]
  },
  {
   "cell_type": "code",
   "execution_count": 80,
   "id": "8f860d7a",
   "metadata": {},
   "outputs": [
    {
     "data": {
      "image/png": "[encoded data removed]",
      "text/plain": [
       "<Figure size 432x288 with 1 Axes>"
      ]
     },
     "metadata": {
      "needs_background": "light"
     },
     "output_type": "display_data"
    }
   ],
   "source": [
    "h=games_refined2.pivot(columns=\"platform\", values=\"user_score\")\n",
    "sb.boxplot(data=h)\n",
    "plt.xlabel(\"Platform Type\")\n",
    "plt.ylabel(\"User Score\")\n",
    "plt.title(\"User Score Per Platform Type\")\n",
    "plt.show()\n"
   ]
  },
  {
   "cell_type": "markdown",
   "id": "d8b51561",
   "metadata": {},
   "source": [
    "* The median for PC is higher than XOne when it comes to user ratings"
   ]
  },
  {
   "cell_type": "code",
   "execution_count": 81,
   "id": "e71e27b0",
   "metadata": {},
   "outputs": [
    {
     "data": {
      "text/plain": [
       "platform\n",
       "PC      7.065960\n",
       "XOne    6.521429\n",
       "Name: user_score, dtype: float64"
      ]
     },
     "execution_count": 81,
     "metadata": {},
     "output_type": "execute_result"
    }
   ],
   "source": [
    "games_refined2.groupby(\"platform\")[\"user_score\"].mean()"
   ]
  },
  {
   "cell_type": "code",
   "execution_count": 82,
   "id": "09d3d78f",
   "metadata": {},
   "outputs": [],
   "source": [
    "from scipy import stats as st\n",
    "from scipy.stats import levene "
   ]
  },
  {
   "cell_type": "code",
   "execution_count": 83,
   "id": "db9ad567",
   "metadata": {},
   "outputs": [
    {
     "name": "stdout",
     "output_type": "stream",
     "text": [
      "85       7.6\n",
      "138      7.3\n",
      "192      4.0\n",
      "195      0.0\n",
      "218      8.2\n",
      "        ... \n",
      "16690    0.0\n",
      "16692    7.6\n",
      "16696    5.8\n",
      "16702    7.2\n",
      "16705    5.8\n",
      "Name: user_score, Length: 957, dtype: float64 99       0.0\n",
      "165      7.9\n",
      "179      5.4\n",
      "242      6.4\n",
      "270      6.2\n",
      "        ... \n",
      "16630    8.2\n",
      "16643    6.6\n",
      "16645    0.0\n",
      "16660    6.7\n",
      "16672    0.0\n",
      "Name: user_score, Length: 247, dtype: float64\n"
     ]
    }
   ],
   "source": [
    "sample1=pc_plat_data[\"user_score\"]\n",
    "sample2=xone_plat_data[\"user_score\"]\n",
    "print(sample1, sample2)"
   ]
  },
  {
   "cell_type": "code",
   "execution_count": 84,
   "id": "94284e10",
   "metadata": {},
   "outputs": [
    {
     "name": "stdout",
     "output_type": "stream",
     "text": [
      "Variance of sample 1 & 2 are not equal LeveneResult(statistic=0.009220785951279878, pvalue=0.9235167844202709)\n"
     ]
    }
   ],
   "source": [
    "pvalue_lev= st.levene(sample1, sample2)\n",
    "pvalue_lev\n",
    "print(\"Variance of sample 1 & 2 are not equal\", pvalue_lev)"
   ]
  },
  {
   "cell_type": "code",
   "execution_count": 85,
   "id": "a68f3c19",
   "metadata": {},
   "outputs": [
    {
     "name": "stdout",
     "output_type": "stream",
     "text": [
      "P_value,  0.0007068097266608117\n",
      "Reject H0, average user ratings of PC platforms and X360 Platforms are not equal.\n"
     ]
    }
   ],
   "source": [
    "def t_test(sample1, sample2, alpha=.05):\n",
    "    p_value_levene=st.levene(sample1,sample2).pvalue\n",
    "    if p_value_levene < alpha:\n",
    "        option_var=False\n",
    "    else:\n",
    "        option_var=True\n",
    "    p_value= st.ttest_ind(sample1, sample2, equal_var=option_var).pvalue\n",
    "    print(\"P_value, \", p_value)\n",
    "    if p_value < alpha:\n",
    "        print(\"Reject H0, average user ratings of PC platforms and X360 Platforms are not equal.\")\n",
    "    else:\n",
    "        print(\"Fail to reject H0, average user ratings of PC platfomrs and X360 Platforms are equal.\")\n",
    "t_test(sample1, sample2)"
   ]
  },
  {
   "cell_type": "code",
   "execution_count": 86,
   "id": "c68db426",
   "metadata": {},
   "outputs": [
    {
     "name": "stdout",
     "output_type": "stream",
     "text": [
      "Hypothesis Two:\n",
      "H0: Average user ratings for the Action and Sports genres are the same.\n",
      "H1: Average user ratings for the Action and Sports genres are different\n"
     ]
    }
   ],
   "source": [
    "print(\"Hypothesis Two:\")\n",
    "print(\"H0: Average user ratings for the Action and Sports genres are the same.\")\n",
    "print(\"H1: Average user ratings for the Action and Sports genres are different\")\n"
   ]
  },
  {
   "cell_type": "code",
   "execution_count": 87,
   "id": "17459ac6",
   "metadata": {},
   "outputs": [
    {
     "data": {
      "text/plain": [
       "Index(['name', 'platform', 'year_of_release', 'genre', 'na_sales', 'eu_sales',\n",
       "       'jp_sales', 'other_sales', 'critic_score', 'user_score', 'rating',\n",
       "       'total_sales', 'year'],\n",
       "      dtype='object')"
      ]
     },
     "execution_count": 87,
     "metadata": {},
     "output_type": "execute_result"
    }
   ],
   "source": [
    "games[\"genre\"].unique()\n",
    "games.columns"
   ]
  },
  {
   "cell_type": "code",
   "execution_count": 88,
   "id": "5dffafb2",
   "metadata": {},
   "outputs": [
    {
     "data": {
      "text/html": [
       "<div>\n",
       "<style scoped>\n",
       "    .dataframe tbody tr th:only-of-type {\n",
       "        vertical-align: middle;\n",
       "    }\n",
       "\n",
       "    .dataframe tbody tr th {\n",
       "        vertical-align: top;\n",
       "    }\n",
       "\n",
       "    .dataframe thead th {\n",
       "        text-align: right;\n",
       "    }\n",
       "</style>\n",
       "<table border=\"1\" class=\"dataframe\">\n",
       "  <thead>\n",
       "    <tr style=\"text-align: right;\">\n",
       "      <th></th>\n",
       "      <th>name</th>\n",
       "      <th>platform</th>\n",
       "      <th>year_of_release</th>\n",
       "      <th>genre</th>\n",
       "      <th>na_sales</th>\n",
       "      <th>eu_sales</th>\n",
       "      <th>jp_sales</th>\n",
       "      <th>other_sales</th>\n",
       "      <th>critic_score</th>\n",
       "      <th>user_score</th>\n",
       "      <th>rating</th>\n",
       "      <th>total_sales</th>\n",
       "      <th>year</th>\n",
       "    </tr>\n",
       "  </thead>\n",
       "  <tbody>\n",
       "    <tr>\n",
       "      <th>0</th>\n",
       "      <td>Wii Sports</td>\n",
       "      <td>Wii</td>\n",
       "      <td>2006-01-01</td>\n",
       "      <td>Sports</td>\n",
       "      <td>41.36</td>\n",
       "      <td>28.96</td>\n",
       "      <td>3.77</td>\n",
       "      <td>8.45</td>\n",
       "      <td>76.0</td>\n",
       "      <td>8.0</td>\n",
       "      <td>E</td>\n",
       "      <td>82.54</td>\n",
       "      <td>2006</td>\n",
       "    </tr>\n",
       "    <tr>\n",
       "      <th>3</th>\n",
       "      <td>Wii Sports Resort</td>\n",
       "      <td>Wii</td>\n",
       "      <td>2009-01-01</td>\n",
       "      <td>Sports</td>\n",
       "      <td>15.61</td>\n",
       "      <td>10.93</td>\n",
       "      <td>3.28</td>\n",
       "      <td>2.95</td>\n",
       "      <td>80.0</td>\n",
       "      <td>8.0</td>\n",
       "      <td>E</td>\n",
       "      <td>32.77</td>\n",
       "      <td>2009</td>\n",
       "    </tr>\n",
       "    <tr>\n",
       "      <th>13</th>\n",
       "      <td>Wii Fit</td>\n",
       "      <td>Wii</td>\n",
       "      <td>2007-01-01</td>\n",
       "      <td>Sports</td>\n",
       "      <td>8.92</td>\n",
       "      <td>8.03</td>\n",
       "      <td>3.60</td>\n",
       "      <td>2.15</td>\n",
       "      <td>80.0</td>\n",
       "      <td>7.7</td>\n",
       "      <td>E</td>\n",
       "      <td>22.70</td>\n",
       "      <td>2007</td>\n",
       "    </tr>\n",
       "    <tr>\n",
       "      <th>15</th>\n",
       "      <td>Wii Fit Plus</td>\n",
       "      <td>Wii</td>\n",
       "      <td>2009-01-01</td>\n",
       "      <td>Sports</td>\n",
       "      <td>9.01</td>\n",
       "      <td>8.49</td>\n",
       "      <td>2.53</td>\n",
       "      <td>1.77</td>\n",
       "      <td>80.0</td>\n",
       "      <td>7.4</td>\n",
       "      <td>E</td>\n",
       "      <td>21.80</td>\n",
       "      <td>2009</td>\n",
       "    </tr>\n",
       "    <tr>\n",
       "      <th>77</th>\n",
       "      <td>FIFA 16</td>\n",
       "      <td>PS4</td>\n",
       "      <td>2015-01-01</td>\n",
       "      <td>Sports</td>\n",
       "      <td>1.12</td>\n",
       "      <td>6.12</td>\n",
       "      <td>0.06</td>\n",
       "      <td>1.28</td>\n",
       "      <td>82.0</td>\n",
       "      <td>4.3</td>\n",
       "      <td>E</td>\n",
       "      <td>8.58</td>\n",
       "      <td>2015</td>\n",
       "    </tr>\n",
       "    <tr>\n",
       "      <th>...</th>\n",
       "      <td>...</td>\n",
       "      <td>...</td>\n",
       "      <td>...</td>\n",
       "      <td>...</td>\n",
       "      <td>...</td>\n",
       "      <td>...</td>\n",
       "      <td>...</td>\n",
       "      <td>...</td>\n",
       "      <td>...</td>\n",
       "      <td>...</td>\n",
       "      <td>...</td>\n",
       "      <td>...</td>\n",
       "      <td>...</td>\n",
       "    </tr>\n",
       "    <tr>\n",
       "      <th>16676</th>\n",
       "      <td>G1 Jockey 4 2008</td>\n",
       "      <td>PS3</td>\n",
       "      <td>2008-01-01</td>\n",
       "      <td>Sports</td>\n",
       "      <td>0.00</td>\n",
       "      <td>0.00</td>\n",
       "      <td>0.00</td>\n",
       "      <td>0.00</td>\n",
       "      <td>0.0</td>\n",
       "      <td>0.0</td>\n",
       "      <td>Unknown</td>\n",
       "      <td>0.00</td>\n",
       "      <td>2008</td>\n",
       "    </tr>\n",
       "    <tr>\n",
       "      <th>16688</th>\n",
       "      <td>Outdoors Unleashed: Africa 3D</td>\n",
       "      <td>3DS</td>\n",
       "      <td>2011-01-01</td>\n",
       "      <td>Sports</td>\n",
       "      <td>0.01</td>\n",
       "      <td>0.00</td>\n",
       "      <td>0.00</td>\n",
       "      <td>0.00</td>\n",
       "      <td>0.0</td>\n",
       "      <td>0.0</td>\n",
       "      <td>T</td>\n",
       "      <td>0.01</td>\n",
       "      <td>2011</td>\n",
       "    </tr>\n",
       "    <tr>\n",
       "      <th>16693</th>\n",
       "      <td>PGA European Tour</td>\n",
       "      <td>N64</td>\n",
       "      <td>2000-01-01</td>\n",
       "      <td>Sports</td>\n",
       "      <td>0.01</td>\n",
       "      <td>0.00</td>\n",
       "      <td>0.00</td>\n",
       "      <td>0.00</td>\n",
       "      <td>0.0</td>\n",
       "      <td>0.0</td>\n",
       "      <td>Unknown</td>\n",
       "      <td>0.01</td>\n",
       "      <td>2000</td>\n",
       "    </tr>\n",
       "    <tr>\n",
       "      <th>16700</th>\n",
       "      <td>Mezase!! Tsuri Master DS</td>\n",
       "      <td>DS</td>\n",
       "      <td>2009-01-01</td>\n",
       "      <td>Sports</td>\n",
       "      <td>0.00</td>\n",
       "      <td>0.00</td>\n",
       "      <td>0.01</td>\n",
       "      <td>0.00</td>\n",
       "      <td>0.0</td>\n",
       "      <td>0.0</td>\n",
       "      <td>Unknown</td>\n",
       "      <td>0.01</td>\n",
       "      <td>2009</td>\n",
       "    </tr>\n",
       "    <tr>\n",
       "      <th>16711</th>\n",
       "      <td>LMA Manager 2007</td>\n",
       "      <td>X360</td>\n",
       "      <td>2006-01-01</td>\n",
       "      <td>Sports</td>\n",
       "      <td>0.00</td>\n",
       "      <td>0.01</td>\n",
       "      <td>0.00</td>\n",
       "      <td>0.00</td>\n",
       "      <td>0.0</td>\n",
       "      <td>0.0</td>\n",
       "      <td>Unknown</td>\n",
       "      <td>0.01</td>\n",
       "      <td>2006</td>\n",
       "    </tr>\n",
       "  </tbody>\n",
       "</table>\n",
       "<p>2306 rows × 13 columns</p>\n",
       "</div>"
      ],
      "text/plain": [
       "                                name platform year_of_release   genre  \\\n",
       "0                         Wii Sports      Wii      2006-01-01  Sports   \n",
       "3                  Wii Sports Resort      Wii      2009-01-01  Sports   \n",
       "13                           Wii Fit      Wii      2007-01-01  Sports   \n",
       "15                      Wii Fit Plus      Wii      2009-01-01  Sports   \n",
       "77                           FIFA 16      PS4      2015-01-01  Sports   \n",
       "...                              ...      ...             ...     ...   \n",
       "16676               G1 Jockey 4 2008      PS3      2008-01-01  Sports   \n",
       "16688  Outdoors Unleashed: Africa 3D      3DS      2011-01-01  Sports   \n",
       "16693              PGA European Tour      N64      2000-01-01  Sports   \n",
       "16700       Mezase!! Tsuri Master DS       DS      2009-01-01  Sports   \n",
       "16711               LMA Manager 2007     X360      2006-01-01  Sports   \n",
       "\n",
       "       na_sales  eu_sales  jp_sales  other_sales  critic_score  user_score  \\\n",
       "0         41.36     28.96      3.77         8.45          76.0         8.0   \n",
       "3         15.61     10.93      3.28         2.95          80.0         8.0   \n",
       "13         8.92      8.03      3.60         2.15          80.0         7.7   \n",
       "15         9.01      8.49      2.53         1.77          80.0         7.4   \n",
       "77         1.12      6.12      0.06         1.28          82.0         4.3   \n",
       "...         ...       ...       ...          ...           ...         ...   \n",
       "16676      0.00      0.00      0.00         0.00           0.0         0.0   \n",
       "16688      0.01      0.00      0.00         0.00           0.0         0.0   \n",
       "16693      0.01      0.00      0.00         0.00           0.0         0.0   \n",
       "16700      0.00      0.00      0.01         0.00           0.0         0.0   \n",
       "16711      0.00      0.01      0.00         0.00           0.0         0.0   \n",
       "\n",
       "        rating  total_sales  year  \n",
       "0            E        82.54  2006  \n",
       "3            E        32.77  2009  \n",
       "13           E        22.70  2007  \n",
       "15           E        21.80  2009  \n",
       "77           E         8.58  2015  \n",
       "...        ...          ...   ...  \n",
       "16676  Unknown         0.00  2008  \n",
       "16688        T         0.01  2011  \n",
       "16693  Unknown         0.01  2000  \n",
       "16700  Unknown         0.01  2009  \n",
       "16711  Unknown         0.01  2006  \n",
       "\n",
       "[2306 rows x 13 columns]"
      ]
     },
     "execution_count": 88,
     "metadata": {},
     "output_type": "execute_result"
    }
   ],
   "source": [
    "action= games.query('genre ==\"Action\"')\n",
    "action\n",
    "sports=games.query('genre == \"Sports\"')\n",
    "sports"
   ]
  },
  {
   "cell_type": "code",
   "execution_count": 89,
   "id": "4807df10",
   "metadata": {},
   "outputs": [
    {
     "data": {
      "image/png": "[encoded data removed]",
      "text/plain": [
       "<Figure size 576x504 with 1 Axes>"
      ]
     },
     "metadata": {
      "needs_background": "light"
     },
     "output_type": "display_data"
    },
    {
     "name": "stdout",
     "output_type": "stream",
     "text": [
      "Action: Average for user_score is genre\n",
      "Action    4.0\n",
      "Name: user_score, dtype: float64\n",
      "Action: Variance for user_score is genre\n",
      "Action    13.0\n",
      "Name: user_score, dtype: float64\n",
      "Action: SD for user_score is genre\n",
      "Action    4.0\n",
      "Name: user_score, dtype: float64\n",
      "Sports: Average for user_score is genre\n",
      "Sports    3.0\n",
      "Name: user_score, dtype: float64\n",
      "Sports: Variance for user_score is genre\n",
      "Sports    13.0\n",
      "Name: user_score, dtype: float64\n",
      "Sports: SD for user_score is genre\n",
      "Sports    4.0\n",
      "Name: user_score, dtype: float64\n"
     ]
    }
   ],
   "source": [
    "games_refined3=games.query('genre == \"Sports\" or genre == \"Action\"')\n",
    "games_refined4=games_refined3.query('user_score != 0')\n",
    "x= action.groupby(\"genre\")[\"user_score\"]\n",
    "y= sports.groupby(\"genre\")[\"user_score\"]\n",
    "\n",
    "def user_score_stats2(user_score):\n",
    "    fig, ax=plt.subplots(figsize=(8,7))\n",
    "    ax=sb.histplot(games_refined4, x=\"user_score\", hue=\"genre\")\n",
    "    \n",
    "    action_mean= round(x.mean())\n",
    "    action_var= round(x.var())\n",
    "    action_std= round(x.std())\n",
    "    sports_mean=round(y.mean())\n",
    "    sports_var= round(y.var())\n",
    "    sports_std= round(y.std())\n",
    "    plt.title(\"Count of Monthly Call Duration per Plan Type\")\n",
    "    plt.show()\n",
    "    print(\"Action: Average for\", user_score, \"is\", action_mean)\n",
    "    print(\"Action: Variance for\", user_score, \"is\", action_var)\n",
    "    print(\"Action: SD for\", user_score, \"is\", action_std)\n",
    "\n",
    "    print(\"Sports: Average for\", user_score, \"is\", sports_mean)\n",
    "    print(\"Sports: Variance for\", user_score, \"is\", sports_var)\n",
    "    print(\"Sports: SD for\", user_score, \"is\", sports_std)\n",
    "    \n",
    "user_score_stats2(\"user_score\")\n"
   ]
  },
  {
   "cell_type": "code",
   "execution_count": 90,
   "id": "7df4cf39",
   "metadata": {},
   "outputs": [
    {
     "data": {
      "image/png": "[encoded data removed]",
      "text/plain": [
       "<Figure size 432x288 with 1 Axes>"
      ]
     },
     "metadata": {
      "needs_background": "light"
     },
     "output_type": "display_data"
    }
   ],
   "source": [
    "l=games_refined4.pivot(columns=\"genre\", values=\"user_score\")\n",
    "sb.boxplot(data=l)\n",
    "plt.xlabel(\"Genre\")\n",
    "plt.ylabel(\"User Score\")\n",
    "plt.title(\"User Score Per Genre\")\n",
    "plt.show()"
   ]
  },
  {
   "cell_type": "markdown",
   "id": "4b656b63",
   "metadata": {},
   "source": [
    "* The distribution of user ratings for both genres are very similar, with the medians looking to be the same here."
   ]
  },
  {
   "cell_type": "code",
   "execution_count": 91,
   "id": "7fc75d42",
   "metadata": {},
   "outputs": [
    {
     "data": {
      "text/plain": [
       "genre\n",
       "Action    7.058129\n",
       "Sports    6.951434\n",
       "Name: user_score, dtype: float64"
      ]
     },
     "execution_count": 91,
     "metadata": {},
     "output_type": "execute_result"
    }
   ],
   "source": [
    "games_refined4.groupby(\"genre\")[\"user_score\"].mean()"
   ]
  },
  {
   "cell_type": "code",
   "execution_count": 92,
   "id": "291e4852",
   "metadata": {},
   "outputs": [],
   "source": [
    "from scipy import stats as st\n",
    "from scipy.stats import levene "
   ]
  },
  {
   "cell_type": "code",
   "execution_count": 93,
   "id": "5bce2174",
   "metadata": {},
   "outputs": [
    {
     "name": "stdout",
     "output_type": "stream",
     "text": [
      "16       8.2\n",
      "17       9.0\n",
      "23       8.1\n",
      "24       8.7\n",
      "38       8.5\n",
      "        ... \n",
      "16692    7.6\n",
      "16694    0.0\n",
      "16695    0.0\n",
      "16699    0.0\n",
      "16710    0.0\n",
      "Name: user_score, Length: 3307, dtype: float64 0        8.0\n",
      "3        8.0\n",
      "13       7.7\n",
      "15       7.4\n",
      "77       4.3\n",
      "        ... \n",
      "16676    0.0\n",
      "16688    0.0\n",
      "16693    0.0\n",
      "16700    0.0\n",
      "16711    0.0\n",
      "Name: user_score, Length: 2306, dtype: float64\n"
     ]
    }
   ],
   "source": [
    "sample2=action[\"user_score\"]\n",
    "sample3=sports[\"user_score\"]\n",
    "print(sample2, sample3)"
   ]
  },
  {
   "cell_type": "code",
   "execution_count": 94,
   "id": "cb124aad",
   "metadata": {},
   "outputs": [
    {
     "name": "stdout",
     "output_type": "stream",
     "text": [
      "Variance of sample 2 & 3 are not equal LeveneResult(statistic=13.073075683521557, pvalue=0.0003022003682102092)\n"
     ]
    }
   ],
   "source": [
    "pvalue_lev2= st.levene(sample2, sample3)\n",
    "pvalue_lev2\n",
    "print(\"Variance of sample 2 & 3 are not equal\", pvalue_lev2)"
   ]
  },
  {
   "cell_type": "code",
   "execution_count": 95,
   "id": "738a8a82",
   "metadata": {},
   "outputs": [
    {
     "name": "stdout",
     "output_type": "stream",
     "text": [
      "P_value,  7.207560019739062e-09\n",
      "Reject H0, average user ratings of the of Action genre and Sports genre are not equal\n"
     ]
    }
   ],
   "source": [
    "def t_test2(sample2, sample3, alpha=.05):\n",
    "    p_value_levene3=st.levene(sample2,sample3).pvalue\n",
    "    if p_value_levene3 < alpha:\n",
    "        option_var=False\n",
    "    else:\n",
    "        option_var=True\n",
    "    p_value1= st.ttest_ind(sample2, sample3, equal_var=option_var).pvalue\n",
    "    print(\"P_value, \", p_value1)\n",
    "    if p_value1 < alpha:\n",
    "        print(\"Reject H0, average user ratings of the of Action genre and Sports genre are not equal\")\n",
    "    else:\n",
    "        print(\"Fail to reject H0, average user ratings of Action genre and Sports genre are equal\")\n",
    "t_test2(sample2, sample3)"
   ]
  },
  {
   "cell_type": "markdown",
   "id": "dc6c13b8",
   "metadata": {},
   "source": [
    "# Overview\n",
    "* In this dataset, over half of the data were missin or arbituarily labeled \"tbd\" for \"to be determined\". To treat the missing data, I filled them in with 0. I chose to do this as opposed to filling them in with random values as that would be to risk being incorrect about those values. \n",
    "* Two rows of the missing data found in the [name] column were dropped as they were missing values both in the [name] and [genre] columns and would not be rendered useful in later calculations due to that. \n",
    "* The datatypes of certain columns were change to make further calculations possible. These columns include converting the [user_score column] from object to float and convering the [year_of_release] column from object to datetime. In addition, additional columns were added on to the dataset including [total_sales] and [year]"
   ]
  },
  {
   "cell_type": "markdown",
   "id": "5e7c2cab",
   "metadata": {},
   "source": [
    "# Conclusion\n",
    "* The goal of this project was to identify factors that might determine whether or not a video game succeeds in terms of sales or not.Three factors that were analyzed in this project included whether or not the genre, type of plaform, or user rating had any effect on sales. Firstly, two correlational analyses were conducted to determine whether a correlation exists between (1) critic score and total global sales and (2) whether a correlation exists between user score and total global sales. The results indicated that a weak positive correlation exists between critic score and total global sales (.311) as well as between user score and total gloabl scales (.207). The magnitude of this correlation is rather small and as stated before a large portion of data was missing  thus conducting a correlational analysis on larger dataset would be beneficial in confirming these results. \n",
    "\n",
    "\n",
    "* Furthermore, two independent samples t-tests were conducted to (1) determine whether the average user rating scores of PC platforms and X360 platforms are the same as well as (2) determine whether average user ratings of video games with Action genre and Sports genres are different. Upon conducting the independent samples t-test, it was determined that we (1) rejected the null hypothesis (p-value=0.000706): average user ratings of PC platforms and X360 Platforms are different. Additionally, we also (2) rejected the null hypothesis (p-value= 7.21e-09), average user ratings of Action genre and Sports genre games are different. We can generally conclude from this analysis that ratings of games can vary based on genre and platform. Further analysis should be conducted on larger datasets with more data on ratings information to confirm these conclusions."
   ]
  }
 ],
 "metadata": {
  "ExecuteTimeLog": [
   {
    "duration": 1932,
    "start_time": "2022-05-15T05:42:48.153Z"
   },
   {
    "duration": 239,
    "start_time": "2022-05-15T05:42:50.088Z"
   },
   {
    "duration": 0,
    "start_time": "2022-05-15T05:42:50.333Z"
   },
   {
    "duration": 0,
    "start_time": "2022-05-15T05:42:50.335Z"
   },
   {
    "duration": 0,
    "start_time": "2022-05-15T05:42:50.337Z"
   },
   {
    "duration": 0,
    "start_time": "2022-05-15T05:42:50.339Z"
   },
   {
    "duration": 0,
    "start_time": "2022-05-15T05:42:50.341Z"
   },
   {
    "duration": 0,
    "start_time": "2022-05-15T05:42:50.343Z"
   },
   {
    "duration": 0,
    "start_time": "2022-05-15T05:42:50.352Z"
   },
   {
    "duration": 0,
    "start_time": "2022-05-15T05:42:50.354Z"
   },
   {
    "duration": 0,
    "start_time": "2022-05-15T05:42:50.356Z"
   },
   {
    "duration": 0,
    "start_time": "2022-05-15T05:42:50.358Z"
   },
   {
    "duration": 0,
    "start_time": "2022-05-15T05:42:50.360Z"
   },
   {
    "duration": 0,
    "start_time": "2022-05-15T05:42:50.362Z"
   },
   {
    "duration": 0,
    "start_time": "2022-05-15T05:42:50.363Z"
   },
   {
    "duration": 0,
    "start_time": "2022-05-15T05:42:50.365Z"
   },
   {
    "duration": 0,
    "start_time": "2022-05-15T05:42:50.367Z"
   },
   {
    "duration": 0,
    "start_time": "2022-05-15T05:42:50.368Z"
   },
   {
    "duration": 0,
    "start_time": "2022-05-15T05:42:50.370Z"
   },
   {
    "duration": 0,
    "start_time": "2022-05-15T05:42:50.372Z"
   },
   {
    "duration": 0,
    "start_time": "2022-05-15T05:42:50.373Z"
   },
   {
    "duration": 0,
    "start_time": "2022-05-15T05:42:50.375Z"
   },
   {
    "duration": 0,
    "start_time": "2022-05-15T05:42:50.377Z"
   },
   {
    "duration": 0,
    "start_time": "2022-05-15T05:42:50.378Z"
   },
   {
    "duration": 0,
    "start_time": "2022-05-15T05:42:50.380Z"
   },
   {
    "duration": 0,
    "start_time": "2022-05-15T05:42:50.381Z"
   },
   {
    "duration": 0,
    "start_time": "2022-05-15T05:42:50.383Z"
   },
   {
    "duration": 0,
    "start_time": "2022-05-15T05:42:50.385Z"
   },
   {
    "duration": 0,
    "start_time": "2022-05-15T05:42:50.387Z"
   },
   {
    "duration": 0,
    "start_time": "2022-05-15T05:42:50.388Z"
   },
   {
    "duration": 0,
    "start_time": "2022-05-15T05:42:50.390Z"
   },
   {
    "duration": 0,
    "start_time": "2022-05-15T05:42:50.392Z"
   },
   {
    "duration": 0,
    "start_time": "2022-05-15T05:42:50.394Z"
   },
   {
    "duration": 0,
    "start_time": "2022-05-15T05:42:50.396Z"
   },
   {
    "duration": 0,
    "start_time": "2022-05-15T05:42:50.397Z"
   },
   {
    "duration": 0,
    "start_time": "2022-05-15T05:42:50.399Z"
   },
   {
    "duration": 0,
    "start_time": "2022-05-15T05:42:50.400Z"
   },
   {
    "duration": 0,
    "start_time": "2022-05-15T05:42:50.402Z"
   },
   {
    "duration": 0,
    "start_time": "2022-05-15T05:42:50.404Z"
   },
   {
    "duration": 0,
    "start_time": "2022-05-15T05:42:50.405Z"
   },
   {
    "duration": 0,
    "start_time": "2022-05-15T05:42:50.407Z"
   },
   {
    "duration": 0,
    "start_time": "2022-05-15T05:42:50.409Z"
   },
   {
    "duration": 0,
    "start_time": "2022-05-15T05:42:50.410Z"
   },
   {
    "duration": 0,
    "start_time": "2022-05-15T05:42:50.412Z"
   },
   {
    "duration": 0,
    "start_time": "2022-05-15T05:42:50.414Z"
   },
   {
    "duration": 0,
    "start_time": "2022-05-15T05:42:50.415Z"
   },
   {
    "duration": 0,
    "start_time": "2022-05-15T05:42:50.452Z"
   },
   {
    "duration": 0,
    "start_time": "2022-05-15T05:42:50.454Z"
   },
   {
    "duration": 0,
    "start_time": "2022-05-15T05:42:50.456Z"
   },
   {
    "duration": 0,
    "start_time": "2022-05-15T05:42:50.458Z"
   },
   {
    "duration": 0,
    "start_time": "2022-05-15T05:42:50.460Z"
   },
   {
    "duration": 0,
    "start_time": "2022-05-15T05:42:50.462Z"
   },
   {
    "duration": 0,
    "start_time": "2022-05-15T05:42:50.463Z"
   },
   {
    "duration": 0,
    "start_time": "2022-05-15T05:42:50.465Z"
   },
   {
    "duration": 0,
    "start_time": "2022-05-15T05:42:50.467Z"
   },
   {
    "duration": 0,
    "start_time": "2022-05-15T05:42:50.468Z"
   },
   {
    "duration": 0,
    "start_time": "2022-05-15T05:42:50.470Z"
   },
   {
    "duration": 0,
    "start_time": "2022-05-15T05:42:50.472Z"
   },
   {
    "duration": 0,
    "start_time": "2022-05-15T05:42:50.473Z"
   },
   {
    "duration": 0,
    "start_time": "2022-05-15T05:42:50.475Z"
   },
   {
    "duration": 0,
    "start_time": "2022-05-15T05:42:50.476Z"
   },
   {
    "duration": 0,
    "start_time": "2022-05-15T05:42:50.478Z"
   },
   {
    "duration": 0,
    "start_time": "2022-05-15T05:42:50.480Z"
   },
   {
    "duration": 0,
    "start_time": "2022-05-15T05:42:50.482Z"
   },
   {
    "duration": 0,
    "start_time": "2022-05-15T05:42:50.483Z"
   },
   {
    "duration": 0,
    "start_time": "2022-05-15T05:42:50.485Z"
   },
   {
    "duration": 0,
    "start_time": "2022-05-15T05:42:50.489Z"
   },
   {
    "duration": 0,
    "start_time": "2022-05-15T05:42:50.491Z"
   },
   {
    "duration": 0,
    "start_time": "2022-05-15T05:42:50.492Z"
   },
   {
    "duration": 0,
    "start_time": "2022-05-15T05:42:50.494Z"
   },
   {
    "duration": 0,
    "start_time": "2022-05-15T05:42:50.496Z"
   },
   {
    "duration": 0,
    "start_time": "2022-05-15T05:42:50.497Z"
   },
   {
    "duration": 1,
    "start_time": "2022-05-15T05:42:50.498Z"
   },
   {
    "duration": 0,
    "start_time": "2022-05-15T05:42:50.500Z"
   },
   {
    "duration": 0,
    "start_time": "2022-05-15T05:42:50.501Z"
   },
   {
    "duration": 0,
    "start_time": "2022-05-15T05:42:50.503Z"
   },
   {
    "duration": 0,
    "start_time": "2022-05-15T05:42:50.504Z"
   },
   {
    "duration": 0,
    "start_time": "2022-05-15T05:42:50.552Z"
   },
   {
    "duration": 0,
    "start_time": "2022-05-15T05:42:50.554Z"
   },
   {
    "duration": 0,
    "start_time": "2022-05-15T05:42:50.555Z"
   },
   {
    "duration": 0,
    "start_time": "2022-05-15T05:42:50.556Z"
   },
   {
    "duration": 0,
    "start_time": "2022-05-15T05:42:50.558Z"
   },
   {
    "duration": 0,
    "start_time": "2022-05-15T05:42:50.559Z"
   },
   {
    "duration": 0,
    "start_time": "2022-05-15T05:42:50.561Z"
   },
   {
    "duration": 0,
    "start_time": "2022-05-15T05:42:50.563Z"
   },
   {
    "duration": 0,
    "start_time": "2022-05-15T05:42:50.564Z"
   },
   {
    "duration": 0,
    "start_time": "2022-05-15T05:42:50.565Z"
   },
   {
    "duration": 0,
    "start_time": "2022-05-15T05:42:50.568Z"
   },
   {
    "duration": 0,
    "start_time": "2022-05-15T05:42:50.569Z"
   },
   {
    "duration": 0,
    "start_time": "2022-05-15T05:42:50.571Z"
   },
   {
    "duration": 0,
    "start_time": "2022-05-15T05:42:50.572Z"
   },
   {
    "duration": 49,
    "start_time": "2022-05-15T05:43:16.905Z"
   },
   {
    "duration": 1560,
    "start_time": "2022-05-15T05:45:35.288Z"
   },
   {
    "duration": 54,
    "start_time": "2022-05-15T05:45:36.851Z"
   },
   {
    "duration": 37,
    "start_time": "2022-05-15T05:45:36.907Z"
   },
   {
    "duration": 5,
    "start_time": "2022-05-15T05:45:36.952Z"
   },
   {
    "duration": 11,
    "start_time": "2022-05-15T05:45:36.960Z"
   },
   {
    "duration": 28,
    "start_time": "2022-05-15T05:45:36.973Z"
   },
   {
    "duration": 49,
    "start_time": "2022-05-15T05:45:37.003Z"
   },
   {
    "duration": 19,
    "start_time": "2022-05-15T05:45:37.055Z"
   },
   {
    "duration": 7,
    "start_time": "2022-05-15T05:45:37.076Z"
   },
   {
    "duration": 23,
    "start_time": "2022-05-15T05:45:37.085Z"
   },
   {
    "duration": 47,
    "start_time": "2022-05-15T05:45:37.111Z"
   },
   {
    "duration": 9,
    "start_time": "2022-05-15T05:45:37.160Z"
   },
   {
    "duration": 52,
    "start_time": "2022-05-15T05:45:37.171Z"
   },
   {
    "duration": 33,
    "start_time": "2022-05-15T05:45:37.227Z"
   },
   {
    "duration": 5,
    "start_time": "2022-05-15T05:45:37.262Z"
   },
   {
    "duration": 10,
    "start_time": "2022-05-15T05:45:37.269Z"
   },
   {
    "duration": 9,
    "start_time": "2022-05-15T05:45:37.281Z"
   },
   {
    "duration": 14,
    "start_time": "2022-05-15T05:45:37.292Z"
   },
   {
    "duration": 47,
    "start_time": "2022-05-15T05:45:37.308Z"
   },
   {
    "duration": 20,
    "start_time": "2022-05-15T05:45:37.358Z"
   },
   {
    "duration": 13,
    "start_time": "2022-05-15T05:45:37.380Z"
   },
   {
    "duration": 64,
    "start_time": "2022-05-15T05:45:37.396Z"
   },
   {
    "duration": 7,
    "start_time": "2022-05-15T05:45:37.463Z"
   },
   {
    "duration": 20,
    "start_time": "2022-05-15T05:45:37.473Z"
   },
   {
    "duration": 3,
    "start_time": "2022-05-15T05:45:37.496Z"
   },
   {
    "duration": 4,
    "start_time": "2022-05-15T05:45:37.502Z"
   },
   {
    "duration": 61,
    "start_time": "2022-05-15T05:45:37.509Z"
   },
   {
    "duration": 20,
    "start_time": "2022-05-15T05:45:37.572Z"
   },
   {
    "duration": 57,
    "start_time": "2022-05-15T05:45:37.594Z"
   },
   {
    "duration": 7,
    "start_time": "2022-05-15T05:45:37.654Z"
   },
   {
    "duration": 24,
    "start_time": "2022-05-15T05:45:37.663Z"
   },
   {
    "duration": 23,
    "start_time": "2022-05-15T05:45:37.690Z"
   },
   {
    "duration": 1458,
    "start_time": "2022-05-15T05:45:37.715Z"
   },
   {
    "duration": 11,
    "start_time": "2022-05-15T05:45:39.176Z"
   },
   {
    "duration": 767,
    "start_time": "2022-05-15T05:45:39.190Z"
   },
   {
    "duration": 536,
    "start_time": "2022-05-15T05:45:39.959Z"
   },
   {
    "duration": 872,
    "start_time": "2022-05-15T05:45:40.497Z"
   },
   {
    "duration": 7,
    "start_time": "2022-05-15T05:45:41.371Z"
   },
   {
    "duration": 26,
    "start_time": "2022-05-15T05:45:41.381Z"
   },
   {
    "duration": 515,
    "start_time": "2022-05-15T05:45:41.410Z"
   },
   {
    "duration": 332,
    "start_time": "2022-05-15T05:45:41.932Z"
   },
   {
    "duration": 508,
    "start_time": "2022-05-15T05:45:42.266Z"
   },
   {
    "duration": 245,
    "start_time": "2022-05-15T05:45:42.776Z"
   },
   {
    "duration": 442,
    "start_time": "2022-05-15T05:45:43.024Z"
   },
   {
    "duration": 232,
    "start_time": "2022-05-15T05:45:43.469Z"
   },
   {
    "duration": 337,
    "start_time": "2022-05-15T05:45:43.703Z"
   },
   {
    "duration": 235,
    "start_time": "2022-05-15T05:45:44.043Z"
   },
   {
    "duration": 452,
    "start_time": "2022-05-15T05:45:44.281Z"
   },
   {
    "duration": 348,
    "start_time": "2022-05-15T05:45:44.736Z"
   },
   {
    "duration": 452,
    "start_time": "2022-05-15T05:45:45.087Z"
   },
   {
    "duration": 236,
    "start_time": "2022-05-15T05:45:45.541Z"
   },
   {
    "duration": 475,
    "start_time": "2022-05-15T05:45:45.779Z"
   },
   {
    "duration": 87,
    "start_time": "2022-05-15T05:45:46.256Z"
   },
   {
    "duration": 0,
    "start_time": "2022-05-15T05:45:46.345Z"
   },
   {
    "duration": 0,
    "start_time": "2022-05-15T05:45:46.347Z"
   },
   {
    "duration": 0,
    "start_time": "2022-05-15T05:45:46.348Z"
   },
   {
    "duration": 0,
    "start_time": "2022-05-15T05:45:46.349Z"
   },
   {
    "duration": 0,
    "start_time": "2022-05-15T05:45:46.351Z"
   },
   {
    "duration": 0,
    "start_time": "2022-05-15T05:45:46.352Z"
   },
   {
    "duration": 0,
    "start_time": "2022-05-15T05:45:46.354Z"
   },
   {
    "duration": 0,
    "start_time": "2022-05-15T05:45:46.355Z"
   },
   {
    "duration": 0,
    "start_time": "2022-05-15T05:45:46.356Z"
   },
   {
    "duration": 0,
    "start_time": "2022-05-15T05:45:46.358Z"
   },
   {
    "duration": 0,
    "start_time": "2022-05-15T05:45:46.359Z"
   },
   {
    "duration": 0,
    "start_time": "2022-05-15T05:45:46.361Z"
   },
   {
    "duration": 0,
    "start_time": "2022-05-15T05:45:46.362Z"
   },
   {
    "duration": 0,
    "start_time": "2022-05-15T05:45:46.364Z"
   },
   {
    "duration": 0,
    "start_time": "2022-05-15T05:45:46.365Z"
   },
   {
    "duration": 0,
    "start_time": "2022-05-15T05:45:46.366Z"
   },
   {
    "duration": 0,
    "start_time": "2022-05-15T05:45:46.368Z"
   },
   {
    "duration": 0,
    "start_time": "2022-05-15T05:45:46.369Z"
   },
   {
    "duration": 0,
    "start_time": "2022-05-15T05:45:46.371Z"
   },
   {
    "duration": 0,
    "start_time": "2022-05-15T05:45:46.372Z"
   },
   {
    "duration": 0,
    "start_time": "2022-05-15T05:45:46.373Z"
   },
   {
    "duration": 0,
    "start_time": "2022-05-15T05:45:46.375Z"
   },
   {
    "duration": 0,
    "start_time": "2022-05-15T05:45:46.376Z"
   },
   {
    "duration": 0,
    "start_time": "2022-05-15T05:45:46.378Z"
   },
   {
    "duration": 0,
    "start_time": "2022-05-15T05:45:46.379Z"
   },
   {
    "duration": 0,
    "start_time": "2022-05-15T05:45:46.381Z"
   },
   {
    "duration": 0,
    "start_time": "2022-05-15T05:45:46.382Z"
   },
   {
    "duration": 0,
    "start_time": "2022-05-15T05:45:46.384Z"
   },
   {
    "duration": 0,
    "start_time": "2022-05-15T05:45:46.385Z"
   },
   {
    "duration": 0,
    "start_time": "2022-05-15T05:45:46.386Z"
   },
   {
    "duration": 0,
    "start_time": "2022-05-15T05:45:46.387Z"
   },
   {
    "duration": 0,
    "start_time": "2022-05-15T05:45:46.389Z"
   },
   {
    "duration": 0,
    "start_time": "2022-05-15T05:45:46.390Z"
   },
   {
    "duration": 0,
    "start_time": "2022-05-15T05:45:46.451Z"
   },
   {
    "duration": 0,
    "start_time": "2022-05-15T05:45:46.453Z"
   },
   {
    "duration": 0,
    "start_time": "2022-05-15T05:45:46.455Z"
   },
   {
    "duration": 0,
    "start_time": "2022-05-15T05:45:46.456Z"
   },
   {
    "duration": 0,
    "start_time": "2022-05-15T05:45:46.457Z"
   },
   {
    "duration": 236,
    "start_time": "2022-05-15T05:45:59.371Z"
   },
   {
    "duration": 35,
    "start_time": "2022-05-15T05:46:00.133Z"
   },
   {
    "duration": 208,
    "start_time": "2022-05-15T05:46:00.500Z"
   },
   {
    "duration": 215,
    "start_time": "2022-05-15T05:46:00.855Z"
   },
   {
    "duration": 7,
    "start_time": "2022-05-15T05:46:01.242Z"
   },
   {
    "duration": 4,
    "start_time": "2022-05-15T05:46:01.609Z"
   },
   {
    "duration": 397,
    "start_time": "2022-05-15T05:46:02.174Z"
   },
   {
    "duration": 246,
    "start_time": "2022-05-15T05:46:02.935Z"
   },
   {
    "duration": 322,
    "start_time": "2022-05-15T05:46:03.574Z"
   },
   {
    "duration": 387,
    "start_time": "2022-05-15T05:46:04.030Z"
   },
   {
    "duration": 242,
    "start_time": "2022-05-15T05:46:04.426Z"
   },
   {
    "duration": 248,
    "start_time": "2022-05-15T05:46:04.938Z"
   },
   {
    "duration": 398,
    "start_time": "2022-05-15T05:46:05.439Z"
   },
   {
    "duration": 261,
    "start_time": "2022-05-15T05:46:05.905Z"
   },
   {
    "duration": 241,
    "start_time": "2022-05-15T05:46:06.382Z"
   },
   {
    "duration": 405,
    "start_time": "2022-05-15T05:46:06.627Z"
   },
   {
    "duration": 263,
    "start_time": "2022-05-15T05:46:07.109Z"
   },
   {
    "duration": 339,
    "start_time": "2022-05-15T05:46:07.704Z"
   },
   {
    "duration": 7,
    "start_time": "2022-05-15T05:46:08.226Z"
   },
   {
    "duration": 16,
    "start_time": "2022-05-15T05:46:08.482Z"
   },
   {
    "duration": 5,
    "start_time": "2022-05-15T05:46:08.856Z"
   },
   {
    "duration": 399,
    "start_time": "2022-05-15T05:46:09.231Z"
   },
   {
    "duration": 182,
    "start_time": "2022-05-15T05:46:09.770Z"
   },
   {
    "duration": 9,
    "start_time": "2022-05-15T05:46:10.578Z"
   },
   {
    "duration": 4,
    "start_time": "2022-05-15T05:46:10.824Z"
   },
   {
    "duration": 8,
    "start_time": "2022-05-15T05:46:11.044Z"
   },
   {
    "duration": 7,
    "start_time": "2022-05-15T05:46:11.439Z"
   },
   {
    "duration": 9,
    "start_time": "2022-05-15T05:46:11.642Z"
   },
   {
    "duration": 5,
    "start_time": "2022-05-15T05:46:11.869Z"
   },
   {
    "duration": 7,
    "start_time": "2022-05-15T05:46:12.091Z"
   },
   {
    "duration": 43,
    "start_time": "2022-05-15T05:46:12.869Z"
   },
   {
    "duration": 463,
    "start_time": "2022-05-15T05:46:13.336Z"
   },
   {
    "duration": 158,
    "start_time": "2022-05-15T05:46:13.892Z"
   },
   {
    "duration": 9,
    "start_time": "2022-05-15T05:46:15.495Z"
   },
   {
    "duration": 4,
    "start_time": "2022-05-15T05:46:16.168Z"
   },
   {
    "duration": 8,
    "start_time": "2022-05-15T05:46:16.498Z"
   },
   {
    "duration": 7,
    "start_time": "2022-05-15T05:46:16.798Z"
   },
   {
    "duration": 8,
    "start_time": "2022-05-15T05:46:17.099Z"
   },
   {
    "duration": 93,
    "start_time": "2022-05-15T06:15:36.518Z"
   },
   {
    "duration": 68,
    "start_time": "2022-05-15T13:16:28.339Z"
   },
   {
    "duration": 2132,
    "start_time": "2022-05-15T13:16:44.317Z"
   },
   {
    "duration": 295,
    "start_time": "2022-05-15T13:16:46.452Z"
   },
   {
    "duration": 0,
    "start_time": "2022-05-15T13:16:46.754Z"
   },
   {
    "duration": 0,
    "start_time": "2022-05-15T13:16:46.756Z"
   },
   {
    "duration": 0,
    "start_time": "2022-05-15T13:16:46.759Z"
   },
   {
    "duration": 0,
    "start_time": "2022-05-15T13:16:46.761Z"
   },
   {
    "duration": 0,
    "start_time": "2022-05-15T13:16:46.763Z"
   },
   {
    "duration": 0,
    "start_time": "2022-05-15T13:16:46.766Z"
   },
   {
    "duration": 0,
    "start_time": "2022-05-15T13:16:46.768Z"
   },
   {
    "duration": 0,
    "start_time": "2022-05-15T13:16:46.770Z"
   },
   {
    "duration": 0,
    "start_time": "2022-05-15T13:16:46.772Z"
   },
   {
    "duration": 0,
    "start_time": "2022-05-15T13:16:46.774Z"
   },
   {
    "duration": 0,
    "start_time": "2022-05-15T13:16:46.776Z"
   },
   {
    "duration": 0,
    "start_time": "2022-05-15T13:16:46.778Z"
   },
   {
    "duration": 0,
    "start_time": "2022-05-15T13:16:46.825Z"
   },
   {
    "duration": 0,
    "start_time": "2022-05-15T13:16:46.828Z"
   },
   {
    "duration": 0,
    "start_time": "2022-05-15T13:16:46.831Z"
   },
   {
    "duration": 0,
    "start_time": "2022-05-15T13:16:46.834Z"
   },
   {
    "duration": 0,
    "start_time": "2022-05-15T13:16:46.836Z"
   },
   {
    "duration": 0,
    "start_time": "2022-05-15T13:16:46.838Z"
   },
   {
    "duration": 0,
    "start_time": "2022-05-15T13:16:46.841Z"
   },
   {
    "duration": 0,
    "start_time": "2022-05-15T13:16:46.843Z"
   },
   {
    "duration": 1,
    "start_time": "2022-05-15T13:16:46.845Z"
   },
   {
    "duration": 0,
    "start_time": "2022-05-15T13:16:46.848Z"
   },
   {
    "duration": 0,
    "start_time": "2022-05-15T13:16:46.850Z"
   },
   {
    "duration": 0,
    "start_time": "2022-05-15T13:16:46.852Z"
   },
   {
    "duration": 0,
    "start_time": "2022-05-15T13:16:46.854Z"
   },
   {
    "duration": 0,
    "start_time": "2022-05-15T13:16:46.856Z"
   },
   {
    "duration": 0,
    "start_time": "2022-05-15T13:16:46.858Z"
   },
   {
    "duration": 0,
    "start_time": "2022-05-15T13:16:46.860Z"
   },
   {
    "duration": 0,
    "start_time": "2022-05-15T13:16:46.862Z"
   },
   {
    "duration": 0,
    "start_time": "2022-05-15T13:16:46.863Z"
   },
   {
    "duration": 0,
    "start_time": "2022-05-15T13:16:46.929Z"
   },
   {
    "duration": 0,
    "start_time": "2022-05-15T13:16:46.934Z"
   },
   {
    "duration": 0,
    "start_time": "2022-05-15T13:16:46.936Z"
   },
   {
    "duration": 0,
    "start_time": "2022-05-15T13:16:46.938Z"
   },
   {
    "duration": 0,
    "start_time": "2022-05-15T13:16:46.940Z"
   },
   {
    "duration": 0,
    "start_time": "2022-05-15T13:16:46.942Z"
   },
   {
    "duration": 0,
    "start_time": "2022-05-15T13:16:46.945Z"
   },
   {
    "duration": 0,
    "start_time": "2022-05-15T13:16:46.947Z"
   },
   {
    "duration": 0,
    "start_time": "2022-05-15T13:16:46.949Z"
   },
   {
    "duration": 0,
    "start_time": "2022-05-15T13:16:46.952Z"
   },
   {
    "duration": 0,
    "start_time": "2022-05-15T13:16:46.954Z"
   },
   {
    "duration": 0,
    "start_time": "2022-05-15T13:16:46.955Z"
   },
   {
    "duration": 0,
    "start_time": "2022-05-15T13:16:46.957Z"
   },
   {
    "duration": 0,
    "start_time": "2022-05-15T13:16:46.959Z"
   },
   {
    "duration": 0,
    "start_time": "2022-05-15T13:16:46.960Z"
   },
   {
    "duration": 0,
    "start_time": "2022-05-15T13:16:46.961Z"
   },
   {
    "duration": 0,
    "start_time": "2022-05-15T13:16:46.962Z"
   },
   {
    "duration": 0,
    "start_time": "2022-05-15T13:16:46.963Z"
   },
   {
    "duration": 0,
    "start_time": "2022-05-15T13:16:46.965Z"
   },
   {
    "duration": 0,
    "start_time": "2022-05-15T13:16:46.966Z"
   },
   {
    "duration": 0,
    "start_time": "2022-05-15T13:16:47.029Z"
   },
   {
    "duration": 0,
    "start_time": "2022-05-15T13:16:47.032Z"
   },
   {
    "duration": 0,
    "start_time": "2022-05-15T13:16:47.034Z"
   },
   {
    "duration": 0,
    "start_time": "2022-05-15T13:16:47.035Z"
   },
   {
    "duration": 0,
    "start_time": "2022-05-15T13:16:47.037Z"
   },
   {
    "duration": 0,
    "start_time": "2022-05-15T13:16:47.040Z"
   },
   {
    "duration": 0,
    "start_time": "2022-05-15T13:16:47.043Z"
   },
   {
    "duration": 0,
    "start_time": "2022-05-15T13:16:47.046Z"
   },
   {
    "duration": 0,
    "start_time": "2022-05-15T13:16:47.048Z"
   },
   {
    "duration": 0,
    "start_time": "2022-05-15T13:16:47.051Z"
   },
   {
    "duration": 0,
    "start_time": "2022-05-15T13:16:47.054Z"
   },
   {
    "duration": 0,
    "start_time": "2022-05-15T13:16:47.056Z"
   },
   {
    "duration": 0,
    "start_time": "2022-05-15T13:16:47.058Z"
   },
   {
    "duration": 0,
    "start_time": "2022-05-15T13:16:47.060Z"
   },
   {
    "duration": 0,
    "start_time": "2022-05-15T13:16:47.063Z"
   },
   {
    "duration": 0,
    "start_time": "2022-05-15T13:16:47.126Z"
   },
   {
    "duration": 0,
    "start_time": "2022-05-15T13:16:47.128Z"
   },
   {
    "duration": 0,
    "start_time": "2022-05-15T13:16:47.130Z"
   },
   {
    "duration": 0,
    "start_time": "2022-05-15T13:16:47.132Z"
   },
   {
    "duration": 0,
    "start_time": "2022-05-15T13:16:47.134Z"
   },
   {
    "duration": 0,
    "start_time": "2022-05-15T13:16:47.135Z"
   },
   {
    "duration": 0,
    "start_time": "2022-05-15T13:16:47.139Z"
   },
   {
    "duration": 1,
    "start_time": "2022-05-15T13:16:47.142Z"
   },
   {
    "duration": 0,
    "start_time": "2022-05-15T13:16:47.144Z"
   },
   {
    "duration": 0,
    "start_time": "2022-05-15T13:16:47.146Z"
   },
   {
    "duration": 0,
    "start_time": "2022-05-15T13:16:47.149Z"
   },
   {
    "duration": 0,
    "start_time": "2022-05-15T13:16:47.151Z"
   },
   {
    "duration": 0,
    "start_time": "2022-05-15T13:16:47.153Z"
   },
   {
    "duration": 0,
    "start_time": "2022-05-15T13:16:47.155Z"
   },
   {
    "duration": 0,
    "start_time": "2022-05-15T13:16:47.157Z"
   },
   {
    "duration": 0,
    "start_time": "2022-05-15T13:16:47.160Z"
   },
   {
    "duration": 0,
    "start_time": "2022-05-15T13:16:47.162Z"
   },
   {
    "duration": 0,
    "start_time": "2022-05-15T13:16:47.164Z"
   },
   {
    "duration": 0,
    "start_time": "2022-05-15T13:16:47.225Z"
   },
   {
    "duration": 0,
    "start_time": "2022-05-15T13:16:47.227Z"
   },
   {
    "duration": 0,
    "start_time": "2022-05-15T13:16:47.232Z"
   },
   {
    "duration": 0,
    "start_time": "2022-05-15T13:16:47.234Z"
   },
   {
    "duration": 0,
    "start_time": "2022-05-15T13:16:47.236Z"
   },
   {
    "duration": 15,
    "start_time": "2022-05-15T13:18:10.717Z"
   },
   {
    "duration": 1867,
    "start_time": "2022-05-15T13:18:20.274Z"
   },
   {
    "duration": 218,
    "start_time": "2022-05-15T13:18:22.144Z"
   },
   {
    "duration": 0,
    "start_time": "2022-05-15T13:18:22.368Z"
   },
   {
    "duration": 0,
    "start_time": "2022-05-15T13:18:22.370Z"
   },
   {
    "duration": 0,
    "start_time": "2022-05-15T13:18:22.371Z"
   },
   {
    "duration": 0,
    "start_time": "2022-05-15T13:18:22.373Z"
   },
   {
    "duration": 0,
    "start_time": "2022-05-15T13:18:22.374Z"
   },
   {
    "duration": 0,
    "start_time": "2022-05-15T13:18:22.377Z"
   },
   {
    "duration": 0,
    "start_time": "2022-05-15T13:18:22.378Z"
   },
   {
    "duration": 0,
    "start_time": "2022-05-15T13:18:22.379Z"
   },
   {
    "duration": 0,
    "start_time": "2022-05-15T13:18:22.381Z"
   },
   {
    "duration": 0,
    "start_time": "2022-05-15T13:18:22.382Z"
   },
   {
    "duration": 0,
    "start_time": "2022-05-15T13:18:22.383Z"
   },
   {
    "duration": 0,
    "start_time": "2022-05-15T13:18:22.384Z"
   },
   {
    "duration": 0,
    "start_time": "2022-05-15T13:18:22.385Z"
   },
   {
    "duration": 0,
    "start_time": "2022-05-15T13:18:22.387Z"
   },
   {
    "duration": 0,
    "start_time": "2022-05-15T13:18:22.388Z"
   },
   {
    "duration": 0,
    "start_time": "2022-05-15T13:18:22.425Z"
   },
   {
    "duration": 0,
    "start_time": "2022-05-15T13:18:22.427Z"
   },
   {
    "duration": 0,
    "start_time": "2022-05-15T13:18:22.428Z"
   },
   {
    "duration": 0,
    "start_time": "2022-05-15T13:18:22.429Z"
   },
   {
    "duration": 0,
    "start_time": "2022-05-15T13:18:22.431Z"
   },
   {
    "duration": 0,
    "start_time": "2022-05-15T13:18:22.432Z"
   },
   {
    "duration": 0,
    "start_time": "2022-05-15T13:18:22.434Z"
   },
   {
    "duration": 0,
    "start_time": "2022-05-15T13:18:22.435Z"
   },
   {
    "duration": 0,
    "start_time": "2022-05-15T13:18:22.437Z"
   },
   {
    "duration": 0,
    "start_time": "2022-05-15T13:18:22.438Z"
   },
   {
    "duration": 0,
    "start_time": "2022-05-15T13:18:22.440Z"
   },
   {
    "duration": 0,
    "start_time": "2022-05-15T13:18:22.441Z"
   },
   {
    "duration": 0,
    "start_time": "2022-05-15T13:18:22.443Z"
   },
   {
    "duration": 0,
    "start_time": "2022-05-15T13:18:22.444Z"
   },
   {
    "duration": 1,
    "start_time": "2022-05-15T13:18:22.445Z"
   },
   {
    "duration": 0,
    "start_time": "2022-05-15T13:18:22.447Z"
   },
   {
    "duration": 0,
    "start_time": "2022-05-15T13:18:22.448Z"
   },
   {
    "duration": 0,
    "start_time": "2022-05-15T13:18:22.450Z"
   },
   {
    "duration": 0,
    "start_time": "2022-05-15T13:18:22.451Z"
   },
   {
    "duration": 0,
    "start_time": "2022-05-15T13:18:22.453Z"
   },
   {
    "duration": 0,
    "start_time": "2022-05-15T13:18:22.454Z"
   },
   {
    "duration": 0,
    "start_time": "2022-05-15T13:18:22.456Z"
   },
   {
    "duration": 0,
    "start_time": "2022-05-15T13:18:22.457Z"
   },
   {
    "duration": 0,
    "start_time": "2022-05-15T13:18:22.458Z"
   },
   {
    "duration": 0,
    "start_time": "2022-05-15T13:18:22.460Z"
   },
   {
    "duration": 0,
    "start_time": "2022-05-15T13:18:22.525Z"
   },
   {
    "duration": 0,
    "start_time": "2022-05-15T13:18:22.527Z"
   },
   {
    "duration": 0,
    "start_time": "2022-05-15T13:18:22.528Z"
   },
   {
    "duration": 0,
    "start_time": "2022-05-15T13:18:22.530Z"
   },
   {
    "duration": 0,
    "start_time": "2022-05-15T13:18:22.531Z"
   },
   {
    "duration": 0,
    "start_time": "2022-05-15T13:18:22.533Z"
   },
   {
    "duration": 0,
    "start_time": "2022-05-15T13:18:22.534Z"
   },
   {
    "duration": 0,
    "start_time": "2022-05-15T13:18:22.536Z"
   },
   {
    "duration": 0,
    "start_time": "2022-05-15T13:18:22.537Z"
   },
   {
    "duration": 0,
    "start_time": "2022-05-15T13:18:22.538Z"
   },
   {
    "duration": 0,
    "start_time": "2022-05-15T13:18:22.540Z"
   },
   {
    "duration": 0,
    "start_time": "2022-05-15T13:18:22.541Z"
   },
   {
    "duration": 0,
    "start_time": "2022-05-15T13:18:22.543Z"
   },
   {
    "duration": 0,
    "start_time": "2022-05-15T13:18:22.544Z"
   },
   {
    "duration": 0,
    "start_time": "2022-05-15T13:18:22.546Z"
   },
   {
    "duration": 0,
    "start_time": "2022-05-15T13:18:22.548Z"
   },
   {
    "duration": 0,
    "start_time": "2022-05-15T13:18:22.549Z"
   },
   {
    "duration": 0,
    "start_time": "2022-05-15T13:18:22.550Z"
   },
   {
    "duration": 0,
    "start_time": "2022-05-15T13:18:22.552Z"
   },
   {
    "duration": 0,
    "start_time": "2022-05-15T13:18:22.553Z"
   },
   {
    "duration": 0,
    "start_time": "2022-05-15T13:18:22.555Z"
   },
   {
    "duration": 0,
    "start_time": "2022-05-15T13:18:22.556Z"
   },
   {
    "duration": 0,
    "start_time": "2022-05-15T13:18:22.558Z"
   },
   {
    "duration": 0,
    "start_time": "2022-05-15T13:18:22.559Z"
   },
   {
    "duration": 0,
    "start_time": "2022-05-15T13:18:22.625Z"
   },
   {
    "duration": 0,
    "start_time": "2022-05-15T13:18:22.626Z"
   },
   {
    "duration": 0,
    "start_time": "2022-05-15T13:18:22.628Z"
   },
   {
    "duration": 0,
    "start_time": "2022-05-15T13:18:22.630Z"
   },
   {
    "duration": 0,
    "start_time": "2022-05-15T13:18:22.631Z"
   },
   {
    "duration": 0,
    "start_time": "2022-05-15T13:18:22.632Z"
   },
   {
    "duration": 0,
    "start_time": "2022-05-15T13:18:22.634Z"
   },
   {
    "duration": 0,
    "start_time": "2022-05-15T13:18:22.635Z"
   },
   {
    "duration": 0,
    "start_time": "2022-05-15T13:18:22.637Z"
   },
   {
    "duration": 0,
    "start_time": "2022-05-15T13:18:22.638Z"
   },
   {
    "duration": 0,
    "start_time": "2022-05-15T13:18:22.640Z"
   },
   {
    "duration": 0,
    "start_time": "2022-05-15T13:18:22.641Z"
   },
   {
    "duration": 0,
    "start_time": "2022-05-15T13:18:22.643Z"
   },
   {
    "duration": 0,
    "start_time": "2022-05-15T13:18:22.644Z"
   },
   {
    "duration": 0,
    "start_time": "2022-05-15T13:18:22.646Z"
   },
   {
    "duration": 0,
    "start_time": "2022-05-15T13:18:22.647Z"
   },
   {
    "duration": 0,
    "start_time": "2022-05-15T13:18:22.648Z"
   },
   {
    "duration": 0,
    "start_time": "2022-05-15T13:18:22.650Z"
   },
   {
    "duration": 0,
    "start_time": "2022-05-15T13:18:22.651Z"
   },
   {
    "duration": 0,
    "start_time": "2022-05-15T13:18:22.653Z"
   },
   {
    "duration": 0,
    "start_time": "2022-05-15T13:18:22.654Z"
   },
   {
    "duration": 0,
    "start_time": "2022-05-15T13:18:22.656Z"
   },
   {
    "duration": 0,
    "start_time": "2022-05-15T13:18:22.657Z"
   },
   {
    "duration": 0,
    "start_time": "2022-05-15T13:18:22.658Z"
   },
   {
    "duration": 78,
    "start_time": "2022-05-15T13:18:56.903Z"
   },
   {
    "duration": 56,
    "start_time": "2022-05-15T13:19:37.201Z"
   },
   {
    "duration": 1887,
    "start_time": "2022-05-15T13:19:57.292Z"
   },
   {
    "duration": 48,
    "start_time": "2022-05-15T13:19:59.182Z"
   },
   {
    "duration": 35,
    "start_time": "2022-05-15T13:19:59.232Z"
   },
   {
    "duration": 11,
    "start_time": "2022-05-15T13:19:59.270Z"
   },
   {
    "duration": 30,
    "start_time": "2022-05-15T13:19:59.283Z"
   },
   {
    "duration": 38,
    "start_time": "2022-05-15T13:19:59.316Z"
   },
   {
    "duration": 21,
    "start_time": "2022-05-15T13:19:59.356Z"
   },
   {
    "duration": 25,
    "start_time": "2022-05-15T13:19:59.379Z"
   },
   {
    "duration": 20,
    "start_time": "2022-05-15T13:19:59.407Z"
   },
   {
    "duration": 43,
    "start_time": "2022-05-15T13:19:59.431Z"
   },
   {
    "duration": 38,
    "start_time": "2022-05-15T13:19:59.477Z"
   },
   {
    "duration": 13,
    "start_time": "2022-05-15T13:19:59.518Z"
   },
   {
    "duration": 68,
    "start_time": "2022-05-15T13:19:59.533Z"
   },
   {
    "duration": 12,
    "start_time": "2022-05-15T13:19:59.604Z"
   },
   {
    "duration": 25,
    "start_time": "2022-05-15T13:19:59.617Z"
   },
   {
    "duration": 36,
    "start_time": "2022-05-15T13:19:59.644Z"
   },
   {
    "duration": 25,
    "start_time": "2022-05-15T13:19:59.682Z"
   },
   {
    "duration": 25,
    "start_time": "2022-05-15T13:19:59.709Z"
   },
   {
    "duration": 22,
    "start_time": "2022-05-15T13:19:59.736Z"
   },
   {
    "duration": 45,
    "start_time": "2022-05-15T13:19:59.760Z"
   },
   {
    "duration": 26,
    "start_time": "2022-05-15T13:19:59.807Z"
   },
   {
    "duration": 34,
    "start_time": "2022-05-15T13:19:59.835Z"
   },
   {
    "duration": 18,
    "start_time": "2022-05-15T13:19:59.871Z"
   },
   {
    "duration": 30,
    "start_time": "2022-05-15T13:19:59.891Z"
   },
   {
    "duration": 3,
    "start_time": "2022-05-15T13:19:59.923Z"
   },
   {
    "duration": 40,
    "start_time": "2022-05-15T13:19:59.928Z"
   },
   {
    "duration": 36,
    "start_time": "2022-05-15T13:19:59.970Z"
   },
   {
    "duration": 20,
    "start_time": "2022-05-15T13:20:00.013Z"
   },
   {
    "duration": 39,
    "start_time": "2022-05-15T13:20:00.035Z"
   },
   {
    "duration": 10,
    "start_time": "2022-05-15T13:20:00.076Z"
   },
   {
    "duration": 34,
    "start_time": "2022-05-15T13:20:00.089Z"
   },
   {
    "duration": 38,
    "start_time": "2022-05-15T13:20:00.126Z"
   },
   {
    "duration": 1522,
    "start_time": "2022-05-15T13:20:00.167Z"
   },
   {
    "duration": 12,
    "start_time": "2022-05-15T13:20:01.692Z"
   },
   {
    "duration": 824,
    "start_time": "2022-05-15T13:20:01.706Z"
   },
   {
    "duration": 575,
    "start_time": "2022-05-15T13:20:02.532Z"
   },
   {
    "duration": 661,
    "start_time": "2022-05-15T13:20:03.109Z"
   },
   {
    "duration": 8,
    "start_time": "2022-05-15T13:20:03.772Z"
   },
   {
    "duration": 49,
    "start_time": "2022-05-15T13:20:03.782Z"
   },
   {
    "duration": 515,
    "start_time": "2022-05-15T13:20:03.833Z"
   },
   {
    "duration": 345,
    "start_time": "2022-05-15T13:20:04.351Z"
   },
   {
    "duration": 541,
    "start_time": "2022-05-15T13:20:04.698Z"
   },
   {
    "duration": 264,
    "start_time": "2022-05-15T13:20:05.241Z"
   },
   {
    "duration": 451,
    "start_time": "2022-05-15T13:20:05.507Z"
   },
   {
    "duration": 240,
    "start_time": "2022-05-15T13:20:05.961Z"
   },
   {
    "duration": 364,
    "start_time": "2022-05-15T13:20:06.204Z"
   },
   {
    "duration": 254,
    "start_time": "2022-05-15T13:20:06.570Z"
   },
   {
    "duration": 466,
    "start_time": "2022-05-15T13:20:06.827Z"
   },
   {
    "duration": 363,
    "start_time": "2022-05-15T13:20:07.295Z"
   },
   {
    "duration": 473,
    "start_time": "2022-05-15T13:20:07.660Z"
   },
   {
    "duration": 248,
    "start_time": "2022-05-15T13:20:08.136Z"
   },
   {
    "duration": 550,
    "start_time": "2022-05-15T13:20:08.386Z"
   },
   {
    "duration": 274,
    "start_time": "2022-05-15T13:20:08.939Z"
   },
   {
    "duration": 42,
    "start_time": "2022-05-15T13:20:09.216Z"
   },
   {
    "duration": 235,
    "start_time": "2022-05-15T13:20:09.260Z"
   },
   {
    "duration": 262,
    "start_time": "2022-05-15T13:20:09.498Z"
   },
   {
    "duration": 6,
    "start_time": "2022-05-15T13:20:09.762Z"
   },
   {
    "duration": 18,
    "start_time": "2022-05-15T13:20:09.771Z"
   },
   {
    "duration": 535,
    "start_time": "2022-05-15T13:20:09.792Z"
   },
   {
    "duration": 268,
    "start_time": "2022-05-15T13:20:10.329Z"
   },
   {
    "duration": 366,
    "start_time": "2022-05-15T13:20:10.599Z"
   },
   {
    "duration": 419,
    "start_time": "2022-05-15T13:20:10.967Z"
   },
   {
    "duration": 250,
    "start_time": "2022-05-15T13:20:11.388Z"
   },
   {
    "duration": 280,
    "start_time": "2022-05-15T13:20:11.640Z"
   },
   {
    "duration": 427,
    "start_time": "2022-05-15T13:20:11.923Z"
   },
   {
    "duration": 286,
    "start_time": "2022-05-15T13:20:12.354Z"
   },
   {
    "duration": 234,
    "start_time": "2022-05-15T13:20:12.642Z"
   },
   {
    "duration": 421,
    "start_time": "2022-05-15T13:20:12.878Z"
   },
   {
    "duration": 288,
    "start_time": "2022-05-15T13:20:13.302Z"
   },
   {
    "duration": 378,
    "start_time": "2022-05-15T13:20:13.593Z"
   },
   {
    "duration": 8,
    "start_time": "2022-05-15T13:20:13.974Z"
   },
   {
    "duration": 39,
    "start_time": "2022-05-15T13:20:13.985Z"
   },
   {
    "duration": 6,
    "start_time": "2022-05-15T13:20:14.027Z"
   },
   {
    "duration": 450,
    "start_time": "2022-05-15T13:20:14.036Z"
   },
   {
    "duration": 206,
    "start_time": "2022-05-15T13:20:14.488Z"
   },
   {
    "duration": 9,
    "start_time": "2022-05-15T13:20:14.697Z"
   },
   {
    "duration": 4,
    "start_time": "2022-05-15T13:20:14.724Z"
   },
   {
    "duration": 12,
    "start_time": "2022-05-15T13:20:14.730Z"
   },
   {
    "duration": 10,
    "start_time": "2022-05-15T13:20:14.744Z"
   },
   {
    "duration": 11,
    "start_time": "2022-05-15T13:20:14.757Z"
   },
   {
    "duration": 15,
    "start_time": "2022-05-15T13:20:14.771Z"
   },
   {
    "duration": 9,
    "start_time": "2022-05-15T13:20:14.828Z"
   },
   {
    "duration": 45,
    "start_time": "2022-05-15T13:20:14.839Z"
   },
   {
    "duration": 549,
    "start_time": "2022-05-15T13:20:14.886Z"
   },
   {
    "duration": 189,
    "start_time": "2022-05-15T13:20:15.437Z"
   },
   {
    "duration": 10,
    "start_time": "2022-05-15T13:20:15.628Z"
   },
   {
    "duration": 6,
    "start_time": "2022-05-15T13:20:15.641Z"
   },
   {
    "duration": 12,
    "start_time": "2022-05-15T13:20:15.650Z"
   },
   {
    "duration": 11,
    "start_time": "2022-05-15T13:20:15.664Z"
   },
   {
    "duration": 9,
    "start_time": "2022-05-15T13:20:15.677Z"
   },
   {
    "duration": 2020,
    "start_time": "2022-05-16T14:27:35.349Z"
   },
   {
    "duration": 49,
    "start_time": "2022-05-16T14:27:37.371Z"
   },
   {
    "duration": 37,
    "start_time": "2022-05-16T14:27:37.422Z"
   },
   {
    "duration": 5,
    "start_time": "2022-05-16T14:27:37.462Z"
   },
   {
    "duration": 9,
    "start_time": "2022-05-16T14:27:37.469Z"
   },
   {
    "duration": 50,
    "start_time": "2022-05-16T14:27:37.480Z"
   },
   {
    "duration": 20,
    "start_time": "2022-05-16T14:27:37.533Z"
   },
   {
    "duration": 23,
    "start_time": "2022-05-16T14:27:37.556Z"
   },
   {
    "duration": 46,
    "start_time": "2022-05-16T14:27:37.581Z"
   },
   {
    "duration": 21,
    "start_time": "2022-05-16T14:27:37.632Z"
   },
   {
    "duration": 22,
    "start_time": "2022-05-16T14:27:37.656Z"
   },
   {
    "duration": 45,
    "start_time": "2022-05-16T14:27:37.680Z"
   },
   {
    "duration": 57,
    "start_time": "2022-05-16T14:27:37.727Z"
   },
   {
    "duration": 38,
    "start_time": "2022-05-16T14:27:37.786Z"
   },
   {
    "duration": 5,
    "start_time": "2022-05-16T14:27:37.827Z"
   },
   {
    "duration": 16,
    "start_time": "2022-05-16T14:27:37.834Z"
   },
   {
    "duration": 9,
    "start_time": "2022-05-16T14:27:37.852Z"
   },
   {
    "duration": 15,
    "start_time": "2022-05-16T14:27:37.863Z"
   },
   {
    "duration": 12,
    "start_time": "2022-05-16T14:27:37.880Z"
   },
   {
    "duration": 47,
    "start_time": "2022-05-16T14:27:37.894Z"
   },
   {
    "duration": 13,
    "start_time": "2022-05-16T14:27:37.943Z"
   },
   {
    "duration": 22,
    "start_time": "2022-05-16T14:27:37.958Z"
   },
   {
    "duration": 7,
    "start_time": "2022-05-16T14:27:37.982Z"
   },
   {
    "duration": 50,
    "start_time": "2022-05-16T14:27:37.991Z"
   },
   {
    "duration": 4,
    "start_time": "2022-05-16T14:27:38.043Z"
   },
   {
    "duration": 7,
    "start_time": "2022-05-16T14:27:38.049Z"
   },
   {
    "duration": 25,
    "start_time": "2022-05-16T14:27:38.058Z"
   },
   {
    "duration": 51,
    "start_time": "2022-05-16T14:27:38.091Z"
   },
   {
    "duration": 20,
    "start_time": "2022-05-16T14:27:38.144Z"
   },
   {
    "duration": 8,
    "start_time": "2022-05-16T14:27:38.166Z"
   },
   {
    "duration": 56,
    "start_time": "2022-05-16T14:27:38.176Z"
   },
   {
    "duration": 26,
    "start_time": "2022-05-16T14:27:38.234Z"
   },
   {
    "duration": 1479,
    "start_time": "2022-05-16T14:27:38.262Z"
   },
   {
    "duration": 9,
    "start_time": "2022-05-16T14:27:39.743Z"
   },
   {
    "duration": 782,
    "start_time": "2022-05-16T14:27:39.755Z"
   },
   {
    "duration": 553,
    "start_time": "2022-05-16T14:27:40.540Z"
   },
   {
    "duration": 612,
    "start_time": "2022-05-16T14:27:41.095Z"
   },
   {
    "duration": 19,
    "start_time": "2022-05-16T14:27:41.709Z"
   },
   {
    "duration": 28,
    "start_time": "2022-05-16T14:27:41.730Z"
   },
   {
    "duration": 536,
    "start_time": "2022-05-16T14:27:41.760Z"
   },
   {
    "duration": 336,
    "start_time": "2022-05-16T14:27:42.298Z"
   },
   {
    "duration": 540,
    "start_time": "2022-05-16T14:27:42.637Z"
   },
   {
    "duration": 260,
    "start_time": "2022-05-16T14:27:43.179Z"
   },
   {
    "duration": 452,
    "start_time": "2022-05-16T14:27:43.441Z"
   },
   {
    "duration": 242,
    "start_time": "2022-05-16T14:27:43.895Z"
   },
   {
    "duration": 345,
    "start_time": "2022-05-16T14:27:44.140Z"
   },
   {
    "duration": 248,
    "start_time": "2022-05-16T14:27:44.487Z"
   },
   {
    "duration": 465,
    "start_time": "2022-05-16T14:27:44.738Z"
   },
   {
    "duration": 349,
    "start_time": "2022-05-16T14:27:45.205Z"
   },
   {
    "duration": 477,
    "start_time": "2022-05-16T14:27:45.556Z"
   },
   {
    "duration": 238,
    "start_time": "2022-05-16T14:27:46.035Z"
   },
   {
    "duration": 660,
    "start_time": "2022-05-16T14:27:46.275Z"
   },
   {
    "duration": 257,
    "start_time": "2022-05-16T14:27:46.937Z"
   },
   {
    "duration": 46,
    "start_time": "2022-05-16T14:27:47.196Z"
   },
   {
    "duration": 221,
    "start_time": "2022-05-16T14:27:47.245Z"
   },
   {
    "duration": 226,
    "start_time": "2022-05-16T14:27:47.468Z"
   },
   {
    "duration": 6,
    "start_time": "2022-05-16T14:27:47.696Z"
   },
   {
    "duration": 9,
    "start_time": "2022-05-16T14:27:47.724Z"
   },
   {
    "duration": 410,
    "start_time": "2022-05-16T14:27:47.735Z"
   },
   {
    "duration": 261,
    "start_time": "2022-05-16T14:27:48.148Z"
   },
   {
    "duration": 351,
    "start_time": "2022-05-16T14:27:48.411Z"
   },
   {
    "duration": 409,
    "start_time": "2022-05-16T14:27:48.764Z"
   },
   {
    "duration": 261,
    "start_time": "2022-05-16T14:27:49.175Z"
   },
   {
    "duration": 287,
    "start_time": "2022-05-16T14:27:49.438Z"
   },
   {
    "duration": 415,
    "start_time": "2022-05-16T14:27:49.727Z"
   },
   {
    "duration": 282,
    "start_time": "2022-05-16T14:27:50.145Z"
   },
   {
    "duration": 233,
    "start_time": "2022-05-16T14:27:50.429Z"
   },
   {
    "duration": 450,
    "start_time": "2022-05-16T14:27:50.665Z"
   },
   {
    "duration": 275,
    "start_time": "2022-05-16T14:27:51.124Z"
   },
   {
    "duration": 362,
    "start_time": "2022-05-16T14:27:51.401Z"
   },
   {
    "duration": 7,
    "start_time": "2022-05-16T14:27:51.765Z"
   },
   {
    "duration": 18,
    "start_time": "2022-05-16T14:27:51.775Z"
   },
   {
    "duration": 30,
    "start_time": "2022-05-16T14:27:51.795Z"
   },
   {
    "duration": 422,
    "start_time": "2022-05-16T14:27:51.828Z"
   },
   {
    "duration": 210,
    "start_time": "2022-05-16T14:27:52.253Z"
   },
   {
    "duration": 10,
    "start_time": "2022-05-16T14:27:52.466Z"
   },
   {
    "duration": 7,
    "start_time": "2022-05-16T14:27:52.478Z"
   },
   {
    "duration": 37,
    "start_time": "2022-05-16T14:27:52.488Z"
   },
   {
    "duration": 12,
    "start_time": "2022-05-16T14:27:52.527Z"
   },
   {
    "duration": 10,
    "start_time": "2022-05-16T14:27:52.542Z"
   },
   {
    "duration": 7,
    "start_time": "2022-05-16T14:27:52.555Z"
   },
   {
    "duration": 8,
    "start_time": "2022-05-16T14:27:52.572Z"
   },
   {
    "duration": 46,
    "start_time": "2022-05-16T14:27:52.626Z"
   },
   {
    "duration": 516,
    "start_time": "2022-05-16T14:27:52.675Z"
   },
   {
    "duration": 188,
    "start_time": "2022-05-16T14:27:53.193Z"
   },
   {
    "duration": 10,
    "start_time": "2022-05-16T14:27:53.383Z"
   },
   {
    "duration": 7,
    "start_time": "2022-05-16T14:27:53.395Z"
   },
   {
    "duration": 9,
    "start_time": "2022-05-16T14:27:53.424Z"
   },
   {
    "duration": 10,
    "start_time": "2022-05-16T14:27:53.435Z"
   },
   {
    "duration": 9,
    "start_time": "2022-05-16T14:27:53.447Z"
   },
   {
    "duration": 103,
    "start_time": "2022-05-16T14:29:18.615Z"
   },
   {
    "duration": 150,
    "start_time": "2022-05-16T14:29:33.697Z"
   },
   {
    "duration": 132,
    "start_time": "2022-05-16T14:30:11.363Z"
   },
   {
    "duration": 121,
    "start_time": "2022-05-16T14:30:20.016Z"
   },
   {
    "duration": 123,
    "start_time": "2022-05-16T14:30:28.896Z"
   },
   {
    "duration": 111,
    "start_time": "2022-05-16T14:31:32.864Z"
   },
   {
    "duration": 149,
    "start_time": "2022-05-16T14:31:46.986Z"
   },
   {
    "duration": 109,
    "start_time": "2022-05-16T14:32:45.395Z"
   },
   {
    "duration": 576,
    "start_time": "2022-05-16T14:35:00.475Z"
   },
   {
    "duration": 186,
    "start_time": "2022-05-16T14:37:18.840Z"
   },
   {
    "duration": 1875,
    "start_time": "2022-05-16T14:37:39.816Z"
   },
   {
    "duration": 50,
    "start_time": "2022-05-16T14:37:41.693Z"
   },
   {
    "duration": 37,
    "start_time": "2022-05-16T14:37:41.745Z"
   },
   {
    "duration": 6,
    "start_time": "2022-05-16T14:37:41.785Z"
   },
   {
    "duration": 37,
    "start_time": "2022-05-16T14:37:41.793Z"
   },
   {
    "duration": 28,
    "start_time": "2022-05-16T14:37:41.832Z"
   },
   {
    "duration": 22,
    "start_time": "2022-05-16T14:37:41.862Z"
   },
   {
    "duration": 45,
    "start_time": "2022-05-16T14:37:41.886Z"
   },
   {
    "duration": 8,
    "start_time": "2022-05-16T14:37:41.933Z"
   },
   {
    "duration": 22,
    "start_time": "2022-05-16T14:37:41.945Z"
   },
   {
    "duration": 19,
    "start_time": "2022-05-16T14:37:41.970Z"
   },
   {
    "duration": 38,
    "start_time": "2022-05-16T14:37:41.991Z"
   },
   {
    "duration": 59,
    "start_time": "2022-05-16T14:37:42.031Z"
   },
   {
    "duration": 39,
    "start_time": "2022-05-16T14:37:42.092Z"
   },
   {
    "duration": 6,
    "start_time": "2022-05-16T14:37:42.134Z"
   },
   {
    "duration": 13,
    "start_time": "2022-05-16T14:37:42.144Z"
   },
   {
    "duration": 9,
    "start_time": "2022-05-16T14:37:42.159Z"
   },
   {
    "duration": 56,
    "start_time": "2022-05-16T14:37:42.170Z"
   },
   {
    "duration": 9,
    "start_time": "2022-05-16T14:37:42.229Z"
   },
   {
    "duration": 19,
    "start_time": "2022-05-16T14:37:42.242Z"
   },
   {
    "duration": 13,
    "start_time": "2022-05-16T14:37:42.263Z"
   },
   {
    "duration": 61,
    "start_time": "2022-05-16T14:37:42.278Z"
   },
   {
    "duration": 8,
    "start_time": "2022-05-16T14:37:42.341Z"
   },
   {
    "duration": 19,
    "start_time": "2022-05-16T14:37:42.351Z"
   },
   {
    "duration": 4,
    "start_time": "2022-05-16T14:37:42.372Z"
   },
   {
    "duration": 46,
    "start_time": "2022-05-16T14:37:42.378Z"
   },
   {
    "duration": 22,
    "start_time": "2022-05-16T14:37:42.427Z"
   },
   {
    "duration": 20,
    "start_time": "2022-05-16T14:37:42.456Z"
   },
   {
    "duration": 55,
    "start_time": "2022-05-16T14:37:42.478Z"
   },
   {
    "duration": 9,
    "start_time": "2022-05-16T14:37:42.535Z"
   },
   {
    "duration": 31,
    "start_time": "2022-05-16T14:37:42.546Z"
   },
   {
    "duration": 57,
    "start_time": "2022-05-16T14:37:42.579Z"
   },
   {
    "duration": 1522,
    "start_time": "2022-05-16T14:37:42.638Z"
   },
   {
    "duration": 10,
    "start_time": "2022-05-16T14:37:44.162Z"
   },
   {
    "duration": 902,
    "start_time": "2022-05-16T14:37:44.175Z"
   },
   {
    "duration": 566,
    "start_time": "2022-05-16T14:37:45.080Z"
   },
   {
    "duration": 607,
    "start_time": "2022-05-16T14:37:45.648Z"
   },
   {
    "duration": 8,
    "start_time": "2022-05-16T14:37:46.257Z"
   },
   {
    "duration": 55,
    "start_time": "2022-05-16T14:37:46.269Z"
   },
   {
    "duration": 531,
    "start_time": "2022-05-16T14:37:46.327Z"
   },
   {
    "duration": 390,
    "start_time": "2022-05-16T14:37:46.862Z"
   },
   {
    "duration": 600,
    "start_time": "2022-05-16T14:37:47.254Z"
   },
   {
    "duration": 382,
    "start_time": "2022-05-16T14:37:47.856Z"
   },
   {
    "duration": 542,
    "start_time": "2022-05-16T14:37:48.241Z"
   },
   {
    "duration": 345,
    "start_time": "2022-05-16T14:37:48.786Z"
   },
   {
    "duration": 536,
    "start_time": "2022-05-16T14:37:49.134Z"
   },
   {
    "duration": 343,
    "start_time": "2022-05-16T14:37:49.673Z"
   },
   {
    "duration": 529,
    "start_time": "2022-05-16T14:37:50.025Z"
   },
   {
    "duration": 355,
    "start_time": "2022-05-16T14:37:50.557Z"
   },
   {
    "duration": 500,
    "start_time": "2022-05-16T14:37:50.915Z"
   },
   {
    "duration": 243,
    "start_time": "2022-05-16T14:37:51.418Z"
   },
   {
    "duration": 503,
    "start_time": "2022-05-16T14:37:51.664Z"
   },
   {
    "duration": 250,
    "start_time": "2022-05-16T14:37:52.170Z"
   },
   {
    "duration": 34,
    "start_time": "2022-05-16T14:37:52.422Z"
   },
   {
    "duration": 224,
    "start_time": "2022-05-16T14:37:52.458Z"
   },
   {
    "duration": 227,
    "start_time": "2022-05-16T14:37:52.684Z"
   },
   {
    "duration": 15,
    "start_time": "2022-05-16T14:37:52.913Z"
   },
   {
    "duration": 4,
    "start_time": "2022-05-16T14:37:52.931Z"
   },
   {
    "duration": 423,
    "start_time": "2022-05-16T14:37:52.938Z"
   },
   {
    "duration": 264,
    "start_time": "2022-05-16T14:37:53.363Z"
   },
   {
    "duration": 353,
    "start_time": "2022-05-16T14:37:53.630Z"
   },
   {
    "duration": 410,
    "start_time": "2022-05-16T14:37:53.986Z"
   },
   {
    "duration": 240,
    "start_time": "2022-05-16T14:37:54.399Z"
   },
   {
    "duration": 282,
    "start_time": "2022-05-16T14:37:54.642Z"
   },
   {
    "duration": 415,
    "start_time": "2022-05-16T14:37:54.927Z"
   },
   {
    "duration": 279,
    "start_time": "2022-05-16T14:37:55.345Z"
   },
   {
    "duration": 230,
    "start_time": "2022-05-16T14:37:55.627Z"
   },
   {
    "duration": 417,
    "start_time": "2022-05-16T14:37:55.859Z"
   },
   {
    "duration": 281,
    "start_time": "2022-05-16T14:37:56.280Z"
   },
   {
    "duration": 365,
    "start_time": "2022-05-16T14:37:56.563Z"
   },
   {
    "duration": 7,
    "start_time": "2022-05-16T14:37:56.931Z"
   },
   {
    "duration": 18,
    "start_time": "2022-05-16T14:37:56.941Z"
   },
   {
    "duration": 8,
    "start_time": "2022-05-16T14:37:56.962Z"
   },
   {
    "duration": 461,
    "start_time": "2022-05-16T14:37:56.973Z"
   },
   {
    "duration": 210,
    "start_time": "2022-05-16T14:37:57.437Z"
   },
   {
    "duration": 10,
    "start_time": "2022-05-16T14:37:57.649Z"
   },
   {
    "duration": 7,
    "start_time": "2022-05-16T14:37:57.661Z"
   },
   {
    "duration": 12,
    "start_time": "2022-05-16T14:37:57.671Z"
   },
   {
    "duration": 43,
    "start_time": "2022-05-16T14:37:57.685Z"
   },
   {
    "duration": 10,
    "start_time": "2022-05-16T14:37:57.731Z"
   },
   {
    "duration": 21,
    "start_time": "2022-05-16T14:37:57.744Z"
   },
   {
    "duration": 8,
    "start_time": "2022-05-16T14:37:57.774Z"
   },
   {
    "duration": 70,
    "start_time": "2022-05-16T14:37:57.784Z"
   },
   {
    "duration": 509,
    "start_time": "2022-05-16T14:37:57.856Z"
   },
   {
    "duration": 190,
    "start_time": "2022-05-16T14:37:58.367Z"
   },
   {
    "duration": 11,
    "start_time": "2022-05-16T14:37:58.559Z"
   },
   {
    "duration": 21,
    "start_time": "2022-05-16T14:37:58.573Z"
   },
   {
    "duration": 28,
    "start_time": "2022-05-16T14:37:58.597Z"
   },
   {
    "duration": 12,
    "start_time": "2022-05-16T14:37:58.628Z"
   },
   {
    "duration": 12,
    "start_time": "2022-05-16T14:37:58.643Z"
   },
   {
    "duration": 22,
    "start_time": "2022-05-16T14:38:21.732Z"
   },
   {
    "duration": 15,
    "start_time": "2022-05-16T14:39:15.360Z"
   },
   {
    "duration": 175,
    "start_time": "2022-05-16T14:39:35.451Z"
   },
   {
    "duration": 20,
    "start_time": "2022-05-16T14:39:44.412Z"
   },
   {
    "duration": 28,
    "start_time": "2022-05-16T14:39:52.446Z"
   },
   {
    "duration": 8,
    "start_time": "2022-05-16T14:40:22.666Z"
   },
   {
    "duration": 8,
    "start_time": "2022-05-16T14:41:53.518Z"
   },
   {
    "duration": 1979,
    "start_time": "2022-05-16T14:42:01.892Z"
   },
   {
    "duration": 53,
    "start_time": "2022-05-16T14:42:03.874Z"
   },
   {
    "duration": 53,
    "start_time": "2022-05-16T14:42:03.929Z"
   },
   {
    "duration": 7,
    "start_time": "2022-05-16T14:42:03.985Z"
   },
   {
    "duration": 10,
    "start_time": "2022-05-16T14:42:03.994Z"
   },
   {
    "duration": 44,
    "start_time": "2022-05-16T14:42:04.007Z"
   },
   {
    "duration": 34,
    "start_time": "2022-05-16T14:42:04.053Z"
   },
   {
    "duration": 47,
    "start_time": "2022-05-16T14:42:04.090Z"
   },
   {
    "duration": 11,
    "start_time": "2022-05-16T14:42:04.141Z"
   },
   {
    "duration": 44,
    "start_time": "2022-05-16T14:42:04.158Z"
   },
   {
    "duration": 40,
    "start_time": "2022-05-16T14:42:04.205Z"
   },
   {
    "duration": 14,
    "start_time": "2022-05-16T14:42:04.247Z"
   },
   {
    "duration": 85,
    "start_time": "2022-05-16T14:42:04.263Z"
   },
   {
    "duration": 13,
    "start_time": "2022-05-16T14:42:04.350Z"
   },
   {
    "duration": 8,
    "start_time": "2022-05-16T14:42:04.366Z"
   },
   {
    "duration": 51,
    "start_time": "2022-05-16T14:42:04.377Z"
   },
   {
    "duration": 32,
    "start_time": "2022-05-16T14:42:04.430Z"
   },
   {
    "duration": 22,
    "start_time": "2022-05-16T14:42:04.465Z"
   },
   {
    "duration": 30,
    "start_time": "2022-05-16T14:42:04.490Z"
   },
   {
    "duration": 42,
    "start_time": "2022-05-16T14:42:04.522Z"
   },
   {
    "duration": 41,
    "start_time": "2022-05-16T14:42:04.567Z"
   },
   {
    "duration": 31,
    "start_time": "2022-05-16T14:42:04.610Z"
   },
   {
    "duration": 9,
    "start_time": "2022-05-16T14:42:04.644Z"
   },
   {
    "duration": 39,
    "start_time": "2022-05-16T14:42:04.656Z"
   },
   {
    "duration": 5,
    "start_time": "2022-05-16T14:42:04.698Z"
   },
   {
    "duration": 21,
    "start_time": "2022-05-16T14:42:04.726Z"
   },
   {
    "duration": 35,
    "start_time": "2022-05-16T14:42:04.750Z"
   },
   {
    "duration": 59,
    "start_time": "2022-05-16T14:42:04.798Z"
   },
   {
    "duration": 8,
    "start_time": "2022-05-16T14:42:04.860Z"
   },
   {
    "duration": 48,
    "start_time": "2022-05-16T14:42:04.871Z"
   },
   {
    "duration": 17,
    "start_time": "2022-05-16T14:42:04.925Z"
   },
   {
    "duration": 37,
    "start_time": "2022-05-16T14:42:04.946Z"
   },
   {
    "duration": 6,
    "start_time": "2022-05-16T14:42:04.986Z"
   },
   {
    "duration": 44,
    "start_time": "2022-05-16T14:42:04.994Z"
   },
   {
    "duration": 40,
    "start_time": "2022-05-16T14:42:05.040Z"
   },
   {
    "duration": 1571,
    "start_time": "2022-05-16T14:42:05.083Z"
   },
   {
    "duration": 10,
    "start_time": "2022-05-16T14:42:06.656Z"
   },
   {
    "duration": 1012,
    "start_time": "2022-05-16T14:42:06.669Z"
   },
   {
    "duration": 566,
    "start_time": "2022-05-16T14:42:07.684Z"
   },
   {
    "duration": 755,
    "start_time": "2022-05-16T14:42:08.253Z"
   },
   {
    "duration": 23,
    "start_time": "2022-05-16T14:42:09.010Z"
   },
   {
    "duration": 46,
    "start_time": "2022-05-16T14:42:09.035Z"
   },
   {
    "duration": 749,
    "start_time": "2022-05-16T14:42:09.084Z"
   },
   {
    "duration": 341,
    "start_time": "2022-05-16T14:42:09.837Z"
   },
   {
    "duration": 552,
    "start_time": "2022-05-16T14:42:10.181Z"
   },
   {
    "duration": 262,
    "start_time": "2022-05-16T14:42:10.736Z"
   },
   {
    "duration": 457,
    "start_time": "2022-05-16T14:42:11.000Z"
   },
   {
    "duration": 265,
    "start_time": "2022-05-16T14:42:11.460Z"
   },
   {
    "duration": 367,
    "start_time": "2022-05-16T14:42:11.728Z"
   },
   {
    "duration": 267,
    "start_time": "2022-05-16T14:42:12.097Z"
   },
   {
    "duration": 742,
    "start_time": "2022-05-16T14:42:12.367Z"
   },
   {
    "duration": 402,
    "start_time": "2022-05-16T14:42:13.112Z"
   },
   {
    "duration": 496,
    "start_time": "2022-05-16T14:42:13.517Z"
   },
   {
    "duration": 348,
    "start_time": "2022-05-16T14:42:14.015Z"
   },
   {
    "duration": 840,
    "start_time": "2022-05-16T14:42:14.366Z"
   },
   {
    "duration": 395,
    "start_time": "2022-05-16T14:42:15.209Z"
   },
   {
    "duration": 64,
    "start_time": "2022-05-16T14:42:15.608Z"
   },
   {
    "duration": 237,
    "start_time": "2022-05-16T14:42:15.674Z"
   },
   {
    "duration": 225,
    "start_time": "2022-05-16T14:42:15.925Z"
   },
   {
    "duration": 6,
    "start_time": "2022-05-16T14:42:16.153Z"
   },
   {
    "duration": 28,
    "start_time": "2022-05-16T14:42:16.161Z"
   },
   {
    "duration": 420,
    "start_time": "2022-05-16T14:42:16.192Z"
   },
   {
    "duration": 274,
    "start_time": "2022-05-16T14:42:16.614Z"
   },
   {
    "duration": 372,
    "start_time": "2022-05-16T14:42:16.891Z"
   },
   {
    "duration": 427,
    "start_time": "2022-05-16T14:42:17.266Z"
   },
   {
    "duration": 250,
    "start_time": "2022-05-16T14:42:17.696Z"
   },
   {
    "duration": 279,
    "start_time": "2022-05-16T14:42:17.949Z"
   },
   {
    "duration": 445,
    "start_time": "2022-05-16T14:42:18.231Z"
   },
   {
    "duration": 287,
    "start_time": "2022-05-16T14:42:18.679Z"
   },
   {
    "duration": 326,
    "start_time": "2022-05-16T14:42:18.969Z"
   },
   {
    "duration": 569,
    "start_time": "2022-05-16T14:42:19.298Z"
   },
   {
    "duration": 282,
    "start_time": "2022-05-16T14:42:19.870Z"
   },
   {
    "duration": 382,
    "start_time": "2022-05-16T14:42:20.155Z"
   },
   {
    "duration": 8,
    "start_time": "2022-05-16T14:42:20.539Z"
   },
   {
    "duration": 23,
    "start_time": "2022-05-16T14:42:20.549Z"
   },
   {
    "duration": 5,
    "start_time": "2022-05-16T14:42:20.574Z"
   },
   {
    "duration": 456,
    "start_time": "2022-05-16T14:42:20.581Z"
   },
   {
    "duration": 210,
    "start_time": "2022-05-16T14:42:21.039Z"
   },
   {
    "duration": 11,
    "start_time": "2022-05-16T14:42:21.251Z"
   },
   {
    "duration": 29,
    "start_time": "2022-05-16T14:42:21.265Z"
   },
   {
    "duration": 15,
    "start_time": "2022-05-16T14:42:21.297Z"
   },
   {
    "duration": 9,
    "start_time": "2022-05-16T14:42:21.329Z"
   },
   {
    "duration": 12,
    "start_time": "2022-05-16T14:42:21.340Z"
   },
   {
    "duration": 11,
    "start_time": "2022-05-16T14:42:21.355Z"
   },
   {
    "duration": 17,
    "start_time": "2022-05-16T14:42:21.368Z"
   },
   {
    "duration": 74,
    "start_time": "2022-05-16T14:42:21.387Z"
   },
   {
    "duration": 523,
    "start_time": "2022-05-16T14:42:21.463Z"
   },
   {
    "duration": 184,
    "start_time": "2022-05-16T14:42:21.988Z"
   },
   {
    "duration": 9,
    "start_time": "2022-05-16T14:42:22.174Z"
   },
   {
    "duration": 13,
    "start_time": "2022-05-16T14:42:22.186Z"
   },
   {
    "duration": 9,
    "start_time": "2022-05-16T14:42:22.224Z"
   },
   {
    "duration": 14,
    "start_time": "2022-05-16T14:42:22.235Z"
   },
   {
    "duration": 13,
    "start_time": "2022-05-16T14:42:22.251Z"
   },
   {
    "duration": 33,
    "start_time": "2022-05-16T14:43:44.119Z"
   },
   {
    "duration": 335,
    "start_time": "2022-05-16T14:43:47.828Z"
   },
   {
    "duration": 1867,
    "start_time": "2022-05-16T14:43:59.500Z"
   },
   {
    "duration": 54,
    "start_time": "2022-05-16T14:44:01.370Z"
   },
   {
    "duration": 63,
    "start_time": "2022-05-16T14:44:01.427Z"
   },
   {
    "duration": 29,
    "start_time": "2022-05-16T14:44:01.495Z"
   },
   {
    "duration": 8,
    "start_time": "2022-05-16T14:44:01.528Z"
   },
   {
    "duration": 39,
    "start_time": "2022-05-16T14:44:01.539Z"
   },
   {
    "duration": 61,
    "start_time": "2022-05-16T14:44:01.581Z"
   },
   {
    "duration": 24,
    "start_time": "2022-05-16T14:44:01.645Z"
   },
   {
    "duration": 9,
    "start_time": "2022-05-16T14:44:01.672Z"
   },
   {
    "duration": 23,
    "start_time": "2022-05-16T14:44:01.725Z"
   },
   {
    "duration": 29,
    "start_time": "2022-05-16T14:44:01.751Z"
   },
   {
    "duration": 26,
    "start_time": "2022-05-16T14:44:01.783Z"
   },
   {
    "duration": 86,
    "start_time": "2022-05-16T14:44:01.825Z"
   },
   {
    "duration": 13,
    "start_time": "2022-05-16T14:44:01.914Z"
   },
   {
    "duration": 7,
    "start_time": "2022-05-16T14:44:01.929Z"
   },
   {
    "duration": 15,
    "start_time": "2022-05-16T14:44:01.939Z"
   },
   {
    "duration": 12,
    "start_time": "2022-05-16T14:44:01.956Z"
   },
   {
    "duration": 23,
    "start_time": "2022-05-16T14:44:01.971Z"
   },
   {
    "duration": 30,
    "start_time": "2022-05-16T14:44:01.996Z"
   },
   {
    "duration": 38,
    "start_time": "2022-05-16T14:44:02.029Z"
   },
   {
    "duration": 19,
    "start_time": "2022-05-16T14:44:02.069Z"
   },
   {
    "duration": 60,
    "start_time": "2022-05-16T14:44:02.092Z"
   },
   {
    "duration": 12,
    "start_time": "2022-05-16T14:44:02.155Z"
   },
   {
    "duration": 55,
    "start_time": "2022-05-16T14:44:02.170Z"
   },
   {
    "duration": 4,
    "start_time": "2022-05-16T14:44:02.229Z"
   },
   {
    "duration": 28,
    "start_time": "2022-05-16T14:44:02.236Z"
   },
   {
    "duration": 71,
    "start_time": "2022-05-16T14:44:02.268Z"
   },
   {
    "duration": 10,
    "start_time": "2022-05-16T14:44:02.353Z"
   },
   {
    "duration": 28,
    "start_time": "2022-05-16T14:44:02.366Z"
   },
   {
    "duration": 37,
    "start_time": "2022-05-16T14:44:02.396Z"
   },
   {
    "duration": 29,
    "start_time": "2022-05-16T14:44:02.436Z"
   },
   {
    "duration": 14,
    "start_time": "2022-05-16T14:44:02.467Z"
   },
   {
    "duration": 56,
    "start_time": "2022-05-16T14:44:02.483Z"
   },
   {
    "duration": 44,
    "start_time": "2022-05-16T14:44:02.542Z"
   },
   {
    "duration": 2530,
    "start_time": "2022-05-16T14:44:02.590Z"
   },
   {
    "duration": 12,
    "start_time": "2022-05-16T14:44:05.126Z"
   },
   {
    "duration": 1310,
    "start_time": "2022-05-16T14:44:05.141Z"
   },
   {
    "duration": 1040,
    "start_time": "2022-05-16T14:44:06.454Z"
   },
   {
    "duration": 981,
    "start_time": "2022-05-16T14:44:07.497Z"
   },
   {
    "duration": 8,
    "start_time": "2022-05-16T14:44:08.481Z"
   },
   {
    "duration": 48,
    "start_time": "2022-05-16T14:44:08.492Z"
   },
   {
    "duration": 515,
    "start_time": "2022-05-16T14:44:08.543Z"
   },
   {
    "duration": 436,
    "start_time": "2022-05-16T14:44:09.061Z"
   },
   {
    "duration": 549,
    "start_time": "2022-05-16T14:44:09.500Z"
   },
   {
    "duration": 262,
    "start_time": "2022-05-16T14:44:10.052Z"
   },
   {
    "duration": 457,
    "start_time": "2022-05-16T14:44:10.317Z"
   },
   {
    "duration": 336,
    "start_time": "2022-05-16T14:44:10.777Z"
   },
   {
    "duration": 460,
    "start_time": "2022-05-16T14:44:11.116Z"
   },
   {
    "duration": 325,
    "start_time": "2022-05-16T14:44:11.579Z"
   },
   {
    "duration": 683,
    "start_time": "2022-05-16T14:44:11.906Z"
   },
   {
    "duration": 496,
    "start_time": "2022-05-16T14:44:12.591Z"
   },
   {
    "duration": 706,
    "start_time": "2022-05-16T14:44:13.090Z"
   },
   {
    "duration": 268,
    "start_time": "2022-05-16T14:44:13.799Z"
   },
   {
    "duration": 500,
    "start_time": "2022-05-16T14:44:14.070Z"
   },
   {
    "duration": 372,
    "start_time": "2022-05-16T14:44:14.572Z"
   },
   {
    "duration": 41,
    "start_time": "2022-05-16T14:44:14.947Z"
   },
   {
    "duration": 2171,
    "start_time": "2022-05-16T14:44:14.991Z"
   },
   {
    "duration": 0,
    "start_time": "2022-05-16T14:44:17.165Z"
   },
   {
    "duration": 0,
    "start_time": "2022-05-16T14:44:17.167Z"
   },
   {
    "duration": 0,
    "start_time": "2022-05-16T14:44:17.169Z"
   },
   {
    "duration": 0,
    "start_time": "2022-05-16T14:44:17.172Z"
   },
   {
    "duration": 0,
    "start_time": "2022-05-16T14:44:17.174Z"
   },
   {
    "duration": 0,
    "start_time": "2022-05-16T14:44:17.176Z"
   },
   {
    "duration": 0,
    "start_time": "2022-05-16T14:44:17.178Z"
   },
   {
    "duration": 0,
    "start_time": "2022-05-16T14:44:17.180Z"
   },
   {
    "duration": 0,
    "start_time": "2022-05-16T14:44:17.182Z"
   },
   {
    "duration": 0,
    "start_time": "2022-05-16T14:44:17.185Z"
   },
   {
    "duration": 0,
    "start_time": "2022-05-16T14:44:17.187Z"
   },
   {
    "duration": 0,
    "start_time": "2022-05-16T14:44:17.225Z"
   },
   {
    "duration": 0,
    "start_time": "2022-05-16T14:44:17.228Z"
   },
   {
    "duration": 0,
    "start_time": "2022-05-16T14:44:17.230Z"
   },
   {
    "duration": 0,
    "start_time": "2022-05-16T14:44:17.232Z"
   },
   {
    "duration": 0,
    "start_time": "2022-05-16T14:44:17.235Z"
   },
   {
    "duration": 0,
    "start_time": "2022-05-16T14:44:17.237Z"
   },
   {
    "duration": 0,
    "start_time": "2022-05-16T14:44:17.239Z"
   },
   {
    "duration": 0,
    "start_time": "2022-05-16T14:44:17.242Z"
   },
   {
    "duration": 0,
    "start_time": "2022-05-16T14:44:17.244Z"
   },
   {
    "duration": 0,
    "start_time": "2022-05-16T14:44:17.247Z"
   },
   {
    "duration": 0,
    "start_time": "2022-05-16T14:44:17.249Z"
   },
   {
    "duration": 0,
    "start_time": "2022-05-16T14:44:17.251Z"
   },
   {
    "duration": 0,
    "start_time": "2022-05-16T14:44:17.253Z"
   },
   {
    "duration": 0,
    "start_time": "2022-05-16T14:44:17.255Z"
   },
   {
    "duration": 0,
    "start_time": "2022-05-16T14:44:17.258Z"
   },
   {
    "duration": 1,
    "start_time": "2022-05-16T14:44:17.259Z"
   },
   {
    "duration": 0,
    "start_time": "2022-05-16T14:44:17.262Z"
   },
   {
    "duration": 0,
    "start_time": "2022-05-16T14:44:17.264Z"
   },
   {
    "duration": 0,
    "start_time": "2022-05-16T14:44:17.329Z"
   },
   {
    "duration": 0,
    "start_time": "2022-05-16T14:44:17.332Z"
   },
   {
    "duration": 0,
    "start_time": "2022-05-16T14:44:17.334Z"
   },
   {
    "duration": 0,
    "start_time": "2022-05-16T14:44:17.336Z"
   },
   {
    "duration": 0,
    "start_time": "2022-05-16T14:44:17.338Z"
   },
   {
    "duration": 0,
    "start_time": "2022-05-16T14:44:17.341Z"
   },
   {
    "duration": 27,
    "start_time": "2022-05-16T14:48:57.764Z"
   },
   {
    "duration": 33,
    "start_time": "2022-05-16T14:49:02.722Z"
   },
   {
    "duration": 906,
    "start_time": "2022-05-16T14:50:17.056Z"
   },
   {
    "duration": 698,
    "start_time": "2022-05-16T14:50:34.793Z"
   },
   {
    "duration": 101,
    "start_time": "2022-05-16T14:51:47.134Z"
   },
   {
    "duration": 1872,
    "start_time": "2022-05-16T14:52:15.639Z"
   },
   {
    "duration": 1883,
    "start_time": "2022-05-16T14:52:40.823Z"
   },
   {
    "duration": 217,
    "start_time": "2022-05-16T14:52:45.440Z"
   },
   {
    "duration": 1765,
    "start_time": "2022-05-16T14:53:12.488Z"
   },
   {
    "duration": 218,
    "start_time": "2022-05-16T15:02:50.268Z"
   },
   {
    "duration": 1873,
    "start_time": "2022-05-16T15:03:07.973Z"
   },
   {
    "duration": 71,
    "start_time": "2022-05-16T15:03:09.850Z"
   },
   {
    "duration": 57,
    "start_time": "2022-05-16T15:03:09.924Z"
   },
   {
    "duration": 7,
    "start_time": "2022-05-16T15:03:09.985Z"
   },
   {
    "duration": 35,
    "start_time": "2022-05-16T15:03:09.994Z"
   },
   {
    "duration": 49,
    "start_time": "2022-05-16T15:03:10.031Z"
   },
   {
    "duration": 22,
    "start_time": "2022-05-16T15:03:10.082Z"
   },
   {
    "duration": 34,
    "start_time": "2022-05-16T15:03:10.106Z"
   },
   {
    "duration": 10,
    "start_time": "2022-05-16T15:03:10.143Z"
   },
   {
    "duration": 26,
    "start_time": "2022-05-16T15:03:10.157Z"
   },
   {
    "duration": 54,
    "start_time": "2022-05-16T15:03:10.185Z"
   },
   {
    "duration": 17,
    "start_time": "2022-05-16T15:03:10.242Z"
   },
   {
    "duration": 109,
    "start_time": "2022-05-16T15:03:10.262Z"
   },
   {
    "duration": 16,
    "start_time": "2022-05-16T15:03:10.373Z"
   },
   {
    "duration": 6,
    "start_time": "2022-05-16T15:03:10.391Z"
   },
   {
    "duration": 33,
    "start_time": "2022-05-16T15:03:10.399Z"
   },
   {
    "duration": 12,
    "start_time": "2022-05-16T15:03:10.435Z"
   },
   {
    "duration": 21,
    "start_time": "2022-05-16T15:03:10.449Z"
   },
   {
    "duration": 12,
    "start_time": "2022-05-16T15:03:10.474Z"
   },
   {
    "duration": 54,
    "start_time": "2022-05-16T15:03:10.489Z"
   },
   {
    "duration": 17,
    "start_time": "2022-05-16T15:03:10.546Z"
   },
   {
    "duration": 23,
    "start_time": "2022-05-16T15:03:10.566Z"
   },
   {
    "duration": 35,
    "start_time": "2022-05-16T15:03:10.592Z"
   },
   {
    "duration": 21,
    "start_time": "2022-05-16T15:03:10.630Z"
   },
   {
    "duration": 5,
    "start_time": "2022-05-16T15:03:10.654Z"
   },
   {
    "duration": 11,
    "start_time": "2022-05-16T15:03:10.661Z"
   },
   {
    "duration": 68,
    "start_time": "2022-05-16T15:03:10.674Z"
   },
   {
    "duration": 10,
    "start_time": "2022-05-16T15:03:10.749Z"
   },
   {
    "duration": 36,
    "start_time": "2022-05-16T15:03:10.762Z"
   },
   {
    "duration": 36,
    "start_time": "2022-05-16T15:03:10.800Z"
   },
   {
    "duration": 34,
    "start_time": "2022-05-16T15:03:10.838Z"
   },
   {
    "duration": 9,
    "start_time": "2022-05-16T15:03:10.874Z"
   },
   {
    "duration": 54,
    "start_time": "2022-05-16T15:03:10.886Z"
   },
   {
    "duration": 33,
    "start_time": "2022-05-16T15:03:10.942Z"
   },
   {
    "duration": 1638,
    "start_time": "2022-05-16T15:03:10.977Z"
   },
   {
    "duration": 10,
    "start_time": "2022-05-16T15:03:12.618Z"
   },
   {
    "duration": 862,
    "start_time": "2022-05-16T15:03:12.631Z"
   },
   {
    "duration": 896,
    "start_time": "2022-05-16T15:03:13.495Z"
   },
   {
    "duration": 843,
    "start_time": "2022-05-16T15:03:14.393Z"
   },
   {
    "duration": 8,
    "start_time": "2022-05-16T15:03:15.239Z"
   },
   {
    "duration": 75,
    "start_time": "2022-05-16T15:03:15.251Z"
   },
   {
    "duration": 622,
    "start_time": "2022-05-16T15:03:15.329Z"
   },
   {
    "duration": 364,
    "start_time": "2022-05-16T15:03:15.954Z"
   },
   {
    "duration": 551,
    "start_time": "2022-05-16T15:03:16.324Z"
   },
   {
    "duration": 283,
    "start_time": "2022-05-16T15:03:16.877Z"
   },
   {
    "duration": 470,
    "start_time": "2022-05-16T15:03:17.163Z"
   },
   {
    "duration": 281,
    "start_time": "2022-05-16T15:03:17.636Z"
   },
   {
    "duration": 349,
    "start_time": "2022-05-16T15:03:17.919Z"
   },
   {
    "duration": 233,
    "start_time": "2022-05-16T15:03:18.271Z"
   },
   {
    "duration": 462,
    "start_time": "2022-05-16T15:03:18.506Z"
   },
   {
    "duration": 369,
    "start_time": "2022-05-16T15:03:18.970Z"
   },
   {
    "duration": 723,
    "start_time": "2022-05-16T15:03:19.342Z"
   },
   {
    "duration": 249,
    "start_time": "2022-05-16T15:03:20.068Z"
   },
   {
    "duration": 497,
    "start_time": "2022-05-16T15:03:20.324Z"
   },
   {
    "duration": 270,
    "start_time": "2022-05-16T15:03:20.824Z"
   },
   {
    "duration": 49,
    "start_time": "2022-05-16T15:03:21.097Z"
   },
   {
    "duration": 2162,
    "start_time": "2022-05-16T15:03:21.149Z"
   },
   {
    "duration": 0,
    "start_time": "2022-05-16T15:03:23.316Z"
   },
   {
    "duration": 0,
    "start_time": "2022-05-16T15:03:23.318Z"
   },
   {
    "duration": 0,
    "start_time": "2022-05-16T15:03:23.320Z"
   },
   {
    "duration": 0,
    "start_time": "2022-05-16T15:03:23.325Z"
   },
   {
    "duration": 0,
    "start_time": "2022-05-16T15:03:23.327Z"
   },
   {
    "duration": 0,
    "start_time": "2022-05-16T15:03:23.330Z"
   },
   {
    "duration": 0,
    "start_time": "2022-05-16T15:03:23.332Z"
   },
   {
    "duration": 0,
    "start_time": "2022-05-16T15:03:23.333Z"
   },
   {
    "duration": 0,
    "start_time": "2022-05-16T15:03:23.336Z"
   },
   {
    "duration": 0,
    "start_time": "2022-05-16T15:03:23.339Z"
   },
   {
    "duration": 0,
    "start_time": "2022-05-16T15:03:23.342Z"
   },
   {
    "duration": 0,
    "start_time": "2022-05-16T15:03:23.344Z"
   },
   {
    "duration": 0,
    "start_time": "2022-05-16T15:03:23.347Z"
   },
   {
    "duration": 0,
    "start_time": "2022-05-16T15:03:23.349Z"
   },
   {
    "duration": 0,
    "start_time": "2022-05-16T15:03:23.351Z"
   },
   {
    "duration": 0,
    "start_time": "2022-05-16T15:03:23.354Z"
   },
   {
    "duration": 0,
    "start_time": "2022-05-16T15:03:23.357Z"
   },
   {
    "duration": 0,
    "start_time": "2022-05-16T15:03:23.359Z"
   },
   {
    "duration": 0,
    "start_time": "2022-05-16T15:03:23.362Z"
   },
   {
    "duration": 0,
    "start_time": "2022-05-16T15:03:23.364Z"
   },
   {
    "duration": 0,
    "start_time": "2022-05-16T15:03:23.366Z"
   },
   {
    "duration": 0,
    "start_time": "2022-05-16T15:03:23.425Z"
   },
   {
    "duration": 0,
    "start_time": "2022-05-16T15:03:23.428Z"
   },
   {
    "duration": 0,
    "start_time": "2022-05-16T15:03:23.431Z"
   },
   {
    "duration": 0,
    "start_time": "2022-05-16T15:03:23.434Z"
   },
   {
    "duration": 0,
    "start_time": "2022-05-16T15:03:23.437Z"
   },
   {
    "duration": 0,
    "start_time": "2022-05-16T15:03:23.440Z"
   },
   {
    "duration": 0,
    "start_time": "2022-05-16T15:03:23.443Z"
   },
   {
    "duration": 0,
    "start_time": "2022-05-16T15:03:23.446Z"
   },
   {
    "duration": 0,
    "start_time": "2022-05-16T15:03:23.448Z"
   },
   {
    "duration": 0,
    "start_time": "2022-05-16T15:03:23.451Z"
   },
   {
    "duration": 0,
    "start_time": "2022-05-16T15:03:23.454Z"
   },
   {
    "duration": 0,
    "start_time": "2022-05-16T15:03:23.457Z"
   },
   {
    "duration": 0,
    "start_time": "2022-05-16T15:03:23.459Z"
   },
   {
    "duration": 0,
    "start_time": "2022-05-16T15:03:23.461Z"
   },
   {
    "duration": 40,
    "start_time": "2022-05-16T15:03:55.377Z"
   },
   {
    "duration": 20,
    "start_time": "2022-05-16T15:04:43.633Z"
   },
   {
    "duration": 15,
    "start_time": "2022-05-16T15:04:55.097Z"
   },
   {
    "duration": 21,
    "start_time": "2022-05-16T15:05:53.615Z"
   },
   {
    "duration": 6,
    "start_time": "2022-05-16T15:06:16.314Z"
   },
   {
    "duration": 15,
    "start_time": "2022-05-16T15:06:33.746Z"
   },
   {
    "duration": 5,
    "start_time": "2022-05-16T15:06:37.771Z"
   },
   {
    "duration": 20,
    "start_time": "2022-05-16T15:06:50.280Z"
   },
   {
    "duration": 6,
    "start_time": "2022-05-16T15:06:55.296Z"
   },
   {
    "duration": 14,
    "start_time": "2022-05-16T15:06:57.548Z"
   },
   {
    "duration": 10,
    "start_time": "2022-05-16T15:08:18.211Z"
   },
   {
    "duration": 11,
    "start_time": "2022-05-16T15:08:25.559Z"
   },
   {
    "duration": 14,
    "start_time": "2022-05-16T15:08:27.987Z"
   },
   {
    "duration": 27,
    "start_time": "2022-05-16T15:09:00.670Z"
   },
   {
    "duration": 18,
    "start_time": "2022-05-16T15:09:22.165Z"
   },
   {
    "duration": 13,
    "start_time": "2022-05-16T15:09:46.093Z"
   },
   {
    "duration": 24,
    "start_time": "2022-05-16T15:09:47.752Z"
   },
   {
    "duration": 30,
    "start_time": "2022-05-16T15:13:06.519Z"
   },
   {
    "duration": 22,
    "start_time": "2022-05-16T15:13:29.717Z"
   },
   {
    "duration": 2493,
    "start_time": "2022-05-16T15:13:42.448Z"
   },
   {
    "duration": 75,
    "start_time": "2022-05-16T15:13:44.944Z"
   },
   {
    "duration": 56,
    "start_time": "2022-05-16T15:13:45.023Z"
   },
   {
    "duration": 6,
    "start_time": "2022-05-16T15:13:45.083Z"
   },
   {
    "duration": 38,
    "start_time": "2022-05-16T15:13:45.092Z"
   },
   {
    "duration": 32,
    "start_time": "2022-05-16T15:13:45.133Z"
   },
   {
    "duration": 22,
    "start_time": "2022-05-16T15:13:45.167Z"
   },
   {
    "duration": 55,
    "start_time": "2022-05-16T15:13:45.191Z"
   },
   {
    "duration": 11,
    "start_time": "2022-05-16T15:13:45.249Z"
   },
   {
    "duration": 23,
    "start_time": "2022-05-16T15:13:45.264Z"
   },
   {
    "duration": 51,
    "start_time": "2022-05-16T15:13:45.289Z"
   },
   {
    "duration": 19,
    "start_time": "2022-05-16T15:13:45.343Z"
   },
   {
    "duration": 91,
    "start_time": "2022-05-16T15:13:45.365Z"
   },
   {
    "duration": 20,
    "start_time": "2022-05-16T15:13:45.459Z"
   },
   {
    "duration": 7,
    "start_time": "2022-05-16T15:13:45.482Z"
   },
   {
    "duration": 41,
    "start_time": "2022-05-16T15:13:45.492Z"
   },
   {
    "duration": 12,
    "start_time": "2022-05-16T15:13:45.536Z"
   },
   {
    "duration": 17,
    "start_time": "2022-05-16T15:13:45.551Z"
   },
   {
    "duration": 17,
    "start_time": "2022-05-16T15:13:45.571Z"
   },
   {
    "duration": 34,
    "start_time": "2022-05-16T15:13:45.625Z"
   },
   {
    "duration": 17,
    "start_time": "2022-05-16T15:13:45.662Z"
   },
   {
    "duration": 50,
    "start_time": "2022-05-16T15:13:45.682Z"
   },
   {
    "duration": 9,
    "start_time": "2022-05-16T15:13:45.735Z"
   },
   {
    "duration": 20,
    "start_time": "2022-05-16T15:13:45.746Z"
   },
   {
    "duration": 3,
    "start_time": "2022-05-16T15:13:45.769Z"
   },
   {
    "duration": 49,
    "start_time": "2022-05-16T15:13:45.775Z"
   },
   {
    "duration": 41,
    "start_time": "2022-05-16T15:13:45.827Z"
   },
   {
    "duration": 11,
    "start_time": "2022-05-16T15:13:45.876Z"
   },
   {
    "duration": 37,
    "start_time": "2022-05-16T15:13:45.889Z"
   },
   {
    "duration": 14,
    "start_time": "2022-05-16T15:13:45.928Z"
   },
   {
    "duration": 10,
    "start_time": "2022-05-16T15:13:45.946Z"
   },
   {
    "duration": 15,
    "start_time": "2022-05-16T15:13:45.958Z"
   },
   {
    "duration": 63,
    "start_time": "2022-05-16T15:13:45.975Z"
   },
   {
    "duration": 11,
    "start_time": "2022-05-16T15:13:46.041Z"
   },
   {
    "duration": 27,
    "start_time": "2022-05-16T15:13:46.054Z"
   },
   {
    "duration": 47,
    "start_time": "2022-05-16T15:13:46.084Z"
   },
   {
    "duration": 1571,
    "start_time": "2022-05-16T15:13:46.134Z"
   },
   {
    "duration": 24,
    "start_time": "2022-05-16T15:13:47.707Z"
   },
   {
    "duration": 803,
    "start_time": "2022-05-16T15:13:47.734Z"
   },
   {
    "duration": 902,
    "start_time": "2022-05-16T15:13:48.541Z"
   },
   {
    "duration": 787,
    "start_time": "2022-05-16T15:13:49.447Z"
   },
   {
    "duration": 11,
    "start_time": "2022-05-16T15:13:50.237Z"
   },
   {
    "duration": 41,
    "start_time": "2022-05-16T15:13:50.250Z"
   },
   {
    "duration": 557,
    "start_time": "2022-05-16T15:13:50.294Z"
   },
   {
    "duration": 455,
    "start_time": "2022-05-16T15:13:50.854Z"
   },
   {
    "duration": 585,
    "start_time": "2022-05-16T15:13:51.311Z"
   },
   {
    "duration": 289,
    "start_time": "2022-05-16T15:13:51.898Z"
   },
   {
    "duration": 470,
    "start_time": "2022-05-16T15:13:52.190Z"
   },
   {
    "duration": 250,
    "start_time": "2022-05-16T15:13:52.663Z"
   },
   {
    "duration": 387,
    "start_time": "2022-05-16T15:13:52.915Z"
   },
   {
    "duration": 262,
    "start_time": "2022-05-16T15:13:53.304Z"
   },
   {
    "duration": 580,
    "start_time": "2022-05-16T15:13:53.568Z"
   },
   {
    "duration": 378,
    "start_time": "2022-05-16T15:13:54.150Z"
   },
   {
    "duration": 502,
    "start_time": "2022-05-16T15:13:54.531Z"
   },
   {
    "duration": 261,
    "start_time": "2022-05-16T15:13:55.035Z"
   },
   {
    "duration": 514,
    "start_time": "2022-05-16T15:13:55.298Z"
   },
   {
    "duration": 313,
    "start_time": "2022-05-16T15:13:55.814Z"
   },
   {
    "duration": 38,
    "start_time": "2022-05-16T15:13:56.129Z"
   },
   {
    "duration": 69,
    "start_time": "2022-05-16T15:13:56.170Z"
   },
   {
    "duration": 243,
    "start_time": "2022-05-16T15:13:56.241Z"
   },
   {
    "duration": 270,
    "start_time": "2022-05-16T15:13:56.487Z"
   },
   {
    "duration": 7,
    "start_time": "2022-05-16T15:13:56.760Z"
   },
   {
    "duration": 9,
    "start_time": "2022-05-16T15:13:56.770Z"
   },
   {
    "duration": 465,
    "start_time": "2022-05-16T15:13:56.781Z"
   },
   {
    "duration": 321,
    "start_time": "2022-05-16T15:13:57.249Z"
   },
   {
    "duration": 378,
    "start_time": "2022-05-16T15:13:57.573Z"
   },
   {
    "duration": 472,
    "start_time": "2022-05-16T15:13:57.954Z"
   },
   {
    "duration": 255,
    "start_time": "2022-05-16T15:13:58.429Z"
   },
   {
    "duration": 295,
    "start_time": "2022-05-16T15:13:58.686Z"
   },
   {
    "duration": 471,
    "start_time": "2022-05-16T15:13:58.984Z"
   },
   {
    "duration": 284,
    "start_time": "2022-05-16T15:13:59.457Z"
   },
   {
    "duration": 243,
    "start_time": "2022-05-16T15:13:59.744Z"
   },
   {
    "duration": 495,
    "start_time": "2022-05-16T15:13:59.989Z"
   },
   {
    "duration": 293,
    "start_time": "2022-05-16T15:14:00.486Z"
   },
   {
    "duration": 429,
    "start_time": "2022-05-16T15:14:00.783Z"
   },
   {
    "duration": 17,
    "start_time": "2022-05-16T15:14:01.215Z"
   },
   {
    "duration": 24,
    "start_time": "2022-05-16T15:14:01.235Z"
   },
   {
    "duration": 18,
    "start_time": "2022-05-16T15:14:01.263Z"
   },
   {
    "duration": 775,
    "start_time": "2022-05-16T15:14:01.285Z"
   },
   {
    "duration": 256,
    "start_time": "2022-05-16T15:14:02.063Z"
   },
   {
    "duration": 13,
    "start_time": "2022-05-16T15:14:02.325Z"
   },
   {
    "duration": 4,
    "start_time": "2022-05-16T15:14:02.349Z"
   },
   {
    "duration": 17,
    "start_time": "2022-05-16T15:14:02.356Z"
   },
   {
    "duration": 29,
    "start_time": "2022-05-16T15:14:02.375Z"
   },
   {
    "duration": 9,
    "start_time": "2022-05-16T15:14:02.426Z"
   },
   {
    "duration": 14,
    "start_time": "2022-05-16T15:14:02.439Z"
   },
   {
    "duration": 12,
    "start_time": "2022-05-16T15:14:02.457Z"
   },
   {
    "duration": 100,
    "start_time": "2022-05-16T15:14:02.472Z"
   },
   {
    "duration": 780,
    "start_time": "2022-05-16T15:14:02.575Z"
   },
   {
    "duration": 204,
    "start_time": "2022-05-16T15:14:03.359Z"
   },
   {
    "duration": 11,
    "start_time": "2022-05-16T15:14:03.565Z"
   },
   {
    "duration": 14,
    "start_time": "2022-05-16T15:14:03.579Z"
   },
   {
    "duration": 35,
    "start_time": "2022-05-16T15:14:03.596Z"
   },
   {
    "duration": 16,
    "start_time": "2022-05-16T15:14:03.633Z"
   },
   {
    "duration": 11,
    "start_time": "2022-05-16T15:14:03.651Z"
   },
   {
    "duration": 25,
    "start_time": "2022-05-16T15:14:09.292Z"
   },
   {
    "duration": 1737,
    "start_time": "2022-05-16T15:14:23.230Z"
   },
   {
    "duration": 47,
    "start_time": "2022-05-16T15:14:24.970Z"
   },
   {
    "duration": 37,
    "start_time": "2022-05-16T15:14:25.019Z"
   },
   {
    "duration": 7,
    "start_time": "2022-05-16T15:14:25.060Z"
   },
   {
    "duration": 9,
    "start_time": "2022-05-16T15:14:25.070Z"
   },
   {
    "duration": 55,
    "start_time": "2022-05-16T15:14:25.081Z"
   },
   {
    "duration": 20,
    "start_time": "2022-05-16T15:14:25.138Z"
   },
   {
    "duration": 19,
    "start_time": "2022-05-16T15:14:25.160Z"
   },
   {
    "duration": 45,
    "start_time": "2022-05-16T15:14:25.181Z"
   },
   {
    "duration": 19,
    "start_time": "2022-05-16T15:14:25.230Z"
   },
   {
    "duration": 20,
    "start_time": "2022-05-16T15:14:25.251Z"
   },
   {
    "duration": 53,
    "start_time": "2022-05-16T15:14:25.273Z"
   },
   {
    "duration": 98,
    "start_time": "2022-05-16T15:14:25.328Z"
   },
   {
    "duration": 17,
    "start_time": "2022-05-16T15:14:25.429Z"
   },
   {
    "duration": 6,
    "start_time": "2022-05-16T15:14:25.449Z"
   },
   {
    "duration": 15,
    "start_time": "2022-05-16T15:14:25.458Z"
   },
   {
    "duration": 12,
    "start_time": "2022-05-16T15:14:25.476Z"
   },
   {
    "duration": 14,
    "start_time": "2022-05-16T15:14:25.526Z"
   },
   {
    "duration": 10,
    "start_time": "2022-05-16T15:14:25.542Z"
   },
   {
    "duration": 20,
    "start_time": "2022-05-16T15:14:25.555Z"
   },
   {
    "duration": 50,
    "start_time": "2022-05-16T15:14:25.578Z"
   },
   {
    "duration": 20,
    "start_time": "2022-05-16T15:14:25.631Z"
   },
   {
    "duration": 8,
    "start_time": "2022-05-16T15:14:25.653Z"
   },
   {
    "duration": 62,
    "start_time": "2022-05-16T15:14:25.664Z"
   },
   {
    "duration": 3,
    "start_time": "2022-05-16T15:14:25.728Z"
   },
   {
    "duration": 6,
    "start_time": "2022-05-16T15:14:25.733Z"
   },
   {
    "duration": 24,
    "start_time": "2022-05-16T15:14:25.741Z"
   },
   {
    "duration": 7,
    "start_time": "2022-05-16T15:14:25.773Z"
   },
   {
    "duration": 52,
    "start_time": "2022-05-16T15:14:25.782Z"
   },
   {
    "duration": 14,
    "start_time": "2022-05-16T15:14:25.836Z"
   },
   {
    "duration": 9,
    "start_time": "2022-05-16T15:14:25.853Z"
   },
   {
    "duration": 13,
    "start_time": "2022-05-16T15:14:25.864Z"
   },
   {
    "duration": 62,
    "start_time": "2022-05-16T15:14:25.879Z"
   },
   {
    "duration": 6,
    "start_time": "2022-05-16T15:14:25.944Z"
   },
   {
    "duration": 25,
    "start_time": "2022-05-16T15:14:25.952Z"
   },
   {
    "duration": 46,
    "start_time": "2022-05-16T15:14:25.979Z"
   },
   {
    "duration": 1501,
    "start_time": "2022-05-16T15:14:26.027Z"
   },
   {
    "duration": 10,
    "start_time": "2022-05-16T15:14:27.530Z"
   },
   {
    "duration": 1557,
    "start_time": "2022-05-16T15:14:27.542Z"
   },
   {
    "duration": 948,
    "start_time": "2022-05-16T15:14:29.103Z"
   },
   {
    "duration": 637,
    "start_time": "2022-05-16T15:14:30.054Z"
   },
   {
    "duration": 9,
    "start_time": "2022-05-16T15:14:30.693Z"
   },
   {
    "duration": 44,
    "start_time": "2022-05-16T15:14:30.704Z"
   },
   {
    "duration": 514,
    "start_time": "2022-05-16T15:14:30.750Z"
   },
   {
    "duration": 507,
    "start_time": "2022-05-16T15:14:31.268Z"
   },
   {
    "duration": 539,
    "start_time": "2022-05-16T15:14:31.777Z"
   },
   {
    "duration": 268,
    "start_time": "2022-05-16T15:14:32.324Z"
   },
   {
    "duration": 467,
    "start_time": "2022-05-16T15:14:32.594Z"
   },
   {
    "duration": 250,
    "start_time": "2022-05-16T15:14:33.064Z"
   },
   {
    "duration": 360,
    "start_time": "2022-05-16T15:14:33.316Z"
   },
   {
    "duration": 251,
    "start_time": "2022-05-16T15:14:33.678Z"
   },
   {
    "duration": 466,
    "start_time": "2022-05-16T15:14:33.932Z"
   },
   {
    "duration": 363,
    "start_time": "2022-05-16T15:14:34.400Z"
   },
   {
    "duration": 477,
    "start_time": "2022-05-16T15:14:34.765Z"
   },
   {
    "duration": 247,
    "start_time": "2022-05-16T15:14:35.244Z"
   },
   {
    "duration": 505,
    "start_time": "2022-05-16T15:14:35.493Z"
   },
   {
    "duration": 249,
    "start_time": "2022-05-16T15:14:36.000Z"
   },
   {
    "duration": 35,
    "start_time": "2022-05-16T15:14:36.251Z"
   },
   {
    "duration": 59,
    "start_time": "2022-05-16T15:14:36.288Z"
   },
   {
    "duration": 233,
    "start_time": "2022-05-16T15:14:36.350Z"
   },
   {
    "duration": 238,
    "start_time": "2022-05-16T15:14:36.586Z"
   },
   {
    "duration": 6,
    "start_time": "2022-05-16T15:14:36.827Z"
   },
   {
    "duration": 6,
    "start_time": "2022-05-16T15:14:36.836Z"
   },
   {
    "duration": 592,
    "start_time": "2022-05-16T15:14:36.844Z"
   },
   {
    "duration": 273,
    "start_time": "2022-05-16T15:14:37.439Z"
   },
   {
    "duration": 363,
    "start_time": "2022-05-16T15:14:37.714Z"
   },
   {
    "duration": 421,
    "start_time": "2022-05-16T15:14:38.080Z"
   },
   {
    "duration": 274,
    "start_time": "2022-05-16T15:14:38.503Z"
   },
   {
    "duration": 277,
    "start_time": "2022-05-16T15:14:38.780Z"
   },
   {
    "duration": 476,
    "start_time": "2022-05-16T15:14:39.060Z"
   },
   {
    "duration": 396,
    "start_time": "2022-05-16T15:14:39.539Z"
   },
   {
    "duration": 228,
    "start_time": "2022-05-16T15:14:39.937Z"
   },
   {
    "duration": 413,
    "start_time": "2022-05-16T15:14:40.167Z"
   },
   {
    "duration": 328,
    "start_time": "2022-05-16T15:14:40.583Z"
   },
   {
    "duration": 380,
    "start_time": "2022-05-16T15:14:40.914Z"
   },
   {
    "duration": 8,
    "start_time": "2022-05-16T15:14:41.296Z"
   },
   {
    "duration": 34,
    "start_time": "2022-05-16T15:14:41.306Z"
   },
   {
    "duration": 8,
    "start_time": "2022-05-16T15:14:41.343Z"
   },
   {
    "duration": 702,
    "start_time": "2022-05-16T15:14:41.353Z"
   },
   {
    "duration": 216,
    "start_time": "2022-05-16T15:14:42.060Z"
   },
   {
    "duration": 11,
    "start_time": "2022-05-16T15:14:42.278Z"
   },
   {
    "duration": 3,
    "start_time": "2022-05-16T15:14:42.298Z"
   },
   {
    "duration": 8,
    "start_time": "2022-05-16T15:14:42.325Z"
   },
   {
    "duration": 13,
    "start_time": "2022-05-16T15:14:42.336Z"
   },
   {
    "duration": 9,
    "start_time": "2022-05-16T15:14:42.351Z"
   },
   {
    "duration": 9,
    "start_time": "2022-05-16T15:14:42.363Z"
   },
   {
    "duration": 56,
    "start_time": "2022-05-16T15:14:42.376Z"
   },
   {
    "duration": 67,
    "start_time": "2022-05-16T15:14:42.436Z"
   },
   {
    "duration": 986,
    "start_time": "2022-05-16T15:14:42.506Z"
   },
   {
    "duration": 234,
    "start_time": "2022-05-16T15:14:43.494Z"
   },
   {
    "duration": 12,
    "start_time": "2022-05-16T15:14:43.731Z"
   },
   {
    "duration": 8,
    "start_time": "2022-05-16T15:14:43.747Z"
   },
   {
    "duration": 17,
    "start_time": "2022-05-16T15:14:43.758Z"
   },
   {
    "duration": 15,
    "start_time": "2022-05-16T15:14:43.778Z"
   },
   {
    "duration": 13,
    "start_time": "2022-05-16T15:14:43.825Z"
   },
   {
    "duration": 42,
    "start_time": "2022-05-18T00:40:50.018Z"
   },
   {
    "duration": 46,
    "start_time": "2022-05-18T00:40:57.841Z"
   },
   {
    "duration": 1346,
    "start_time": "2022-05-18T00:41:07.160Z"
   },
   {
    "duration": 72,
    "start_time": "2022-05-18T00:41:08.508Z"
   },
   {
    "duration": 22,
    "start_time": "2022-05-18T00:41:08.581Z"
   },
   {
    "duration": 4,
    "start_time": "2022-05-18T00:41:08.605Z"
   },
   {
    "duration": 7,
    "start_time": "2022-05-18T00:41:08.610Z"
   },
   {
    "duration": 20,
    "start_time": "2022-05-18T00:41:08.618Z"
   },
   {
    "duration": 13,
    "start_time": "2022-05-18T00:41:08.639Z"
   },
   {
    "duration": 13,
    "start_time": "2022-05-18T00:41:08.654Z"
   },
   {
    "duration": 5,
    "start_time": "2022-05-18T00:41:08.668Z"
   },
   {
    "duration": 14,
    "start_time": "2022-05-18T00:41:08.675Z"
   },
   {
    "duration": 11,
    "start_time": "2022-05-18T00:41:08.690Z"
   },
   {
    "duration": 25,
    "start_time": "2022-05-18T00:41:08.703Z"
   },
   {
    "duration": 35,
    "start_time": "2022-05-18T00:41:08.730Z"
   },
   {
    "duration": 7,
    "start_time": "2022-05-18T00:41:08.767Z"
   },
   {
    "duration": 3,
    "start_time": "2022-05-18T00:41:08.776Z"
   },
   {
    "duration": 9,
    "start_time": "2022-05-18T00:41:08.780Z"
   },
   {
    "duration": 6,
    "start_time": "2022-05-18T00:41:08.790Z"
   },
   {
    "duration": 35,
    "start_time": "2022-05-18T00:41:08.798Z"
   },
   {
    "duration": 6,
    "start_time": "2022-05-18T00:41:08.835Z"
   },
   {
    "duration": 14,
    "start_time": "2022-05-18T00:41:08.842Z"
   },
   {
    "duration": 8,
    "start_time": "2022-05-18T00:41:08.857Z"
   },
   {
    "duration": 18,
    "start_time": "2022-05-18T00:41:08.866Z"
   },
   {
    "duration": 5,
    "start_time": "2022-05-18T00:41:08.885Z"
   },
   {
    "duration": 38,
    "start_time": "2022-05-18T00:41:08.891Z"
   },
   {
    "duration": 2,
    "start_time": "2022-05-18T00:41:08.930Z"
   },
   {
    "duration": 6,
    "start_time": "2022-05-18T00:41:08.933Z"
   },
   {
    "duration": 17,
    "start_time": "2022-05-18T00:41:08.940Z"
   },
   {
    "duration": 4,
    "start_time": "2022-05-18T00:41:08.961Z"
   },
   {
    "duration": 18,
    "start_time": "2022-05-18T00:41:08.967Z"
   },
   {
    "duration": 8,
    "start_time": "2022-05-18T00:41:08.986Z"
   },
   {
    "duration": 39,
    "start_time": "2022-05-18T00:41:08.995Z"
   },
   {
    "duration": 8,
    "start_time": "2022-05-18T00:41:09.036Z"
   },
   {
    "duration": 15,
    "start_time": "2022-05-18T00:41:09.045Z"
   },
   {
    "duration": 7,
    "start_time": "2022-05-18T00:41:09.061Z"
   },
   {
    "duration": 16,
    "start_time": "2022-05-18T00:41:09.069Z"
   },
   {
    "duration": 12,
    "start_time": "2022-05-18T00:41:09.086Z"
   },
   {
    "duration": 863,
    "start_time": "2022-05-18T00:41:09.100Z"
   },
   {
    "duration": 6,
    "start_time": "2022-05-18T00:41:09.964Z"
   },
   {
    "duration": 452,
    "start_time": "2022-05-18T00:41:09.972Z"
   },
   {
    "duration": 316,
    "start_time": "2022-05-18T00:41:10.426Z"
   },
   {
    "duration": 32,
    "start_time": "2022-05-18T00:41:10.743Z"
   },
   {
    "duration": 5,
    "start_time": "2022-05-18T00:41:10.777Z"
   },
   {
    "duration": 24,
    "start_time": "2022-05-18T00:41:10.783Z"
   },
   {
    "duration": 305,
    "start_time": "2022-05-18T00:41:10.808Z"
   },
   {
    "duration": 142,
    "start_time": "2022-05-18T00:41:11.114Z"
   },
   {
    "duration": 313,
    "start_time": "2022-05-18T00:41:11.259Z"
   },
   {
    "duration": 228,
    "start_time": "2022-05-18T00:41:11.573Z"
   },
   {
    "duration": 248,
    "start_time": "2022-05-18T00:41:11.803Z"
   },
   {
    "duration": 131,
    "start_time": "2022-05-18T00:41:12.053Z"
   },
   {
    "duration": 193,
    "start_time": "2022-05-18T00:41:12.186Z"
   },
   {
    "duration": 130,
    "start_time": "2022-05-18T00:41:12.380Z"
   },
   {
    "duration": 255,
    "start_time": "2022-05-18T00:41:12.511Z"
   },
   {
    "duration": 132,
    "start_time": "2022-05-18T00:41:12.768Z"
   },
   {
    "duration": 267,
    "start_time": "2022-05-18T00:41:12.901Z"
   },
   {
    "duration": 132,
    "start_time": "2022-05-18T00:41:13.170Z"
   },
   {
    "duration": 384,
    "start_time": "2022-05-18T00:41:13.303Z"
   },
   {
    "duration": 141,
    "start_time": "2022-05-18T00:41:13.689Z"
   },
   {
    "duration": 23,
    "start_time": "2022-05-18T00:41:13.832Z"
   },
   {
    "duration": 30,
    "start_time": "2022-05-18T00:41:13.857Z"
   },
   {
    "duration": 150,
    "start_time": "2022-05-18T00:41:13.889Z"
   },
   {
    "duration": 141,
    "start_time": "2022-05-18T00:41:14.040Z"
   },
   {
    "duration": 3,
    "start_time": "2022-05-18T00:41:14.183Z"
   },
   {
    "duration": 5,
    "start_time": "2022-05-18T00:41:14.188Z"
   },
   {
    "duration": 257,
    "start_time": "2022-05-18T00:41:14.195Z"
   },
   {
    "duration": 167,
    "start_time": "2022-05-18T00:41:14.453Z"
   },
   {
    "duration": 166,
    "start_time": "2022-05-18T00:41:14.621Z"
   },
   {
    "duration": 250,
    "start_time": "2022-05-18T00:41:14.789Z"
   },
   {
    "duration": 149,
    "start_time": "2022-05-18T00:41:15.041Z"
   },
   {
    "duration": 168,
    "start_time": "2022-05-18T00:41:15.191Z"
   },
   {
    "duration": 251,
    "start_time": "2022-05-18T00:41:15.361Z"
   },
   {
    "duration": 163,
    "start_time": "2022-05-18T00:41:15.614Z"
   },
   {
    "duration": 251,
    "start_time": "2022-05-18T00:41:15.778Z"
   },
   {
    "duration": 276,
    "start_time": "2022-05-18T00:41:16.030Z"
   },
   {
    "duration": 192,
    "start_time": "2022-05-18T00:41:16.308Z"
   },
   {
    "duration": 164,
    "start_time": "2022-05-18T00:41:16.502Z"
   },
   {
    "duration": 4,
    "start_time": "2022-05-18T00:41:16.668Z"
   },
   {
    "duration": 17,
    "start_time": "2022-05-18T00:41:16.674Z"
   },
   {
    "duration": 3,
    "start_time": "2022-05-18T00:41:16.692Z"
   },
   {
    "duration": 248,
    "start_time": "2022-05-18T00:41:16.697Z"
   },
   {
    "duration": 118,
    "start_time": "2022-05-18T00:41:16.947Z"
   },
   {
    "duration": 6,
    "start_time": "2022-05-18T00:41:17.067Z"
   },
   {
    "duration": 3,
    "start_time": "2022-05-18T00:41:17.079Z"
   },
   {
    "duration": 8,
    "start_time": "2022-05-18T00:41:17.083Z"
   },
   {
    "duration": 5,
    "start_time": "2022-05-18T00:41:17.093Z"
   },
   {
    "duration": 32,
    "start_time": "2022-05-18T00:41:17.099Z"
   },
   {
    "duration": 8,
    "start_time": "2022-05-18T00:41:17.132Z"
   },
   {
    "duration": 9,
    "start_time": "2022-05-18T00:41:17.142Z"
   },
   {
    "duration": 29,
    "start_time": "2022-05-18T00:41:17.152Z"
   },
   {
    "duration": 317,
    "start_time": "2022-05-18T00:41:17.183Z"
   },
   {
    "duration": 109,
    "start_time": "2022-05-18T00:41:17.501Z"
   },
   {
    "duration": 6,
    "start_time": "2022-05-18T00:41:17.611Z"
   },
   {
    "duration": 10,
    "start_time": "2022-05-18T00:41:17.619Z"
   },
   {
    "duration": 9,
    "start_time": "2022-05-18T00:41:17.630Z"
   },
   {
    "duration": 8,
    "start_time": "2022-05-18T00:41:17.640Z"
   },
   {
    "duration": 9,
    "start_time": "2022-05-18T00:41:17.649Z"
   }
  ],
  "kernelspec": {
   "display_name": "Python 3 (ipykernel)",
   "language": "python",
   "name": "python3"
  },
  "language_info": {
   "codemirror_mode": {
    "name": "ipython",
    "version": 3
   },
   "file_extension": ".py",
   "mimetype": "text/x-python",
   "name": "python",
   "nbconvert_exporter": "python",
   "pygments_lexer": "ipython3",
   "version": "3.9.12"
  },
  "toc": {
   "base_numbering": 1,
   "nav_menu": {},
   "number_sections": true,
   "sideBar": true,
   "skip_h1_title": true,
   "title_cell": "Table of Contents",
   "title_sidebar": "Contents",
   "toc_cell": false,
   "toc_position": {},
   "toc_section_display": true,
   "toc_window_display": false
  }
 },
 "nbformat": 4,
 "nbformat_minor": 5
}
