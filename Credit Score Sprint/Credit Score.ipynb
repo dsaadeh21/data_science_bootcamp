{
 "cells": [
  {
   "cell_type": "markdown",
   "metadata": {},
   "source": [
    "# Analyzing borrowers’ risk of defaulting\n",
    "\n",
    "Your project is to prepare a report for a bank’s loan division. You’ll need to find out if a customer’s marital status and number of children has an impact on whether they will default on a loan. The bank already has some data on customers’ credit worthiness.\n",
    "\n",
    "Your report will be considered when building the **credit score** of a potential customer. The **credit score** is used to evaluate the ability of a potential borrower to repay their loan.\n",
    "\n"
   ]
  },
  {
   "cell_type": "code",
   "execution_count": 75,
   "metadata": {},
   "outputs": [
    {
     "name": "stdout",
     "output_type": "stream",
     "text": [
      "    children  days_employed  dob_years            education  education_id  \\\n",
      "0          1   -8437.673028         42    bachelor's degree             0   \n",
      "1          1   -4024.803754         36  secondary education             1   \n",
      "2          0   -5623.422610         33  Secondary Education             1   \n",
      "3          3   -4124.747207         32  secondary education             1   \n",
      "4          0  340266.072047         53  secondary education             1   \n",
      "5          0    -926.185831         27    bachelor's degree             0   \n",
      "6          0   -2879.202052         43    bachelor's degree             0   \n",
      "7          0    -152.779569         50  SECONDARY EDUCATION             1   \n",
      "8          2   -6929.865299         35    BACHELOR'S DEGREE             0   \n",
      "9          0   -2188.756445         41  secondary education             1   \n",
      "10         2   -4171.483647         36    bachelor's degree             0   \n",
      "11         0    -792.701887         40  secondary education             1   \n",
      "12         0            NaN         65  secondary education             1   \n",
      "13         0   -1846.641941         54         some college             2   \n",
      "14         0   -1844.956182         56    bachelor's degree             0   \n",
      "15         1    -972.364419         26  secondary education             1   \n",
      "16         0   -1719.934226         35  secondary education             1   \n",
      "17         0   -2369.999720         33    bachelor's degree             0   \n",
      "18         0  400281.136913         53  secondary education             1   \n",
      "19         0  -10038.818549         48  SECONDARY EDUCATION             1   \n",
      "20         1   -1311.604166         36  secondary education             1   \n",
      "21         1    -253.685166         33  secondary education             1   \n",
      "22         1   -1766.644138         24  secondary education             1   \n",
      "23         0    -272.981385         21    bachelor's degree             0   \n",
      "24         1  338551.952911         57  secondary education             1   \n",
      "25         0  363548.489348         67  secondary education             1   \n",
      "26         0            NaN         41  secondary education             1   \n",
      "27         0    -529.191635         28    bachelor's degree             0   \n",
      "28         1    -717.274324         26    bachelor's degree             0   \n",
      "29         0            NaN         63  secondary education             1   \n",
      "30         1  335581.668515         62  secondary education             1   \n",
      "31         0   -1682.083438         47    primary education             3   \n",
      "32         0   -4649.910832         34  SECONDARY EDUCATION             1   \n",
      "33         0   -1548.637544         48  secondary education             1   \n",
      "34         0   -4488.067031         35  secondary education             1   \n",
      "35         0  394021.072184         68  secondary education             1   \n",
      "36         0    -176.216688         33  secondary education             1   \n",
      "37         0   -6448.810860         43    BACHELOR'S DEGREE             0   \n",
      "38         0    -597.881827         25    bachelor's degree             0   \n",
      "39         0    -650.587796         31    bachelor's degree             0   \n",
      "40         0   -1030.362606         30  secondary education             1   \n",
      "41         0            NaN         50  secondary education             1   \n",
      "42         0   -1257.496190         20         some college             2   \n",
      "43         0   -4375.681384         43         some college             2   \n",
      "44         1   -1362.041728         26  SECONDARY EDUCATION             1   \n",
      "45         1   -1039.451741         49  secondary education             1   \n",
      "46         2   -2262.712304         37  secondary education             1   \n",
      "47         1   -2689.137274         33    bachelor's degree             0   \n",
      "48         0   -3341.067886         45  secondary education             1   \n",
      "49         0   -1181.443228         54  secondary education             1   \n",
      "50         0  353731.432338         63  secondary education             1   \n",
      "51         1   -6953.631655         50    bachelor's degree             0   \n",
      "52         1   -3554.671526         28  secondary education             1   \n",
      "53         0   -4219.883386         61  SECONDARY EDUCATION             1   \n",
      "54         0   -3480.072793         27    bachelor's degree             0   \n",
      "\n",
      "        family_status  family_status_id gender    income_type  debt  \\\n",
      "0             married                 0      F       employee     0   \n",
      "1             married                 0      F       employee     0   \n",
      "2             married                 0      M       employee     0   \n",
      "3             married                 0      M       employee     0   \n",
      "4   civil partnership                 1      F        retiree     0   \n",
      "5   civil partnership                 1      M       business     0   \n",
      "6             married                 0      F       business     0   \n",
      "7             married                 0      M       employee     0   \n",
      "8   civil partnership                 1      F       employee     0   \n",
      "9             married                 0      M       employee     0   \n",
      "10            married                 0      M       business     0   \n",
      "11            married                 0      F       employee     0   \n",
      "12  civil partnership                 1      M        retiree     0   \n",
      "13            married                 0      F       employee     0   \n",
      "14  civil partnership                 1      F       business     1   \n",
      "15            married                 0      F       employee     0   \n",
      "16            married                 0      F       employee     0   \n",
      "17  civil partnership                 1      M       employee     0   \n",
      "18    widow / widower                 2      F        retiree     0   \n",
      "19           divorced                 3      F       employee     0   \n",
      "20            married                 0      M       employee     0   \n",
      "21  civil partnership                 1      F       employee     0   \n",
      "22  civil partnership                 1      F       employee     0   \n",
      "23  civil partnership                 1      M       employee     0   \n",
      "24          unmarried                 4      F        retiree     0   \n",
      "25            married                 0      M        retiree     0   \n",
      "26            married                 0      M  civil servant     0   \n",
      "27            married                 0      M       employee     0   \n",
      "28            married                 0      F       employee     0   \n",
      "29          unmarried                 4      F        retiree     0   \n",
      "30            married                 0      F        retiree     0   \n",
      "31            married                 0      F       employee     0   \n",
      "32  civil partnership                 1      F       employee     1   \n",
      "33            married                 0      F       business     0   \n",
      "34            married                 0      F       employee     0   \n",
      "35  civil partnership                 1      M        retiree     0   \n",
      "36          unmarried                 4      M       employee     0   \n",
      "37  civil partnership                 1      F       business     0   \n",
      "38          unmarried                 4      M       employee     1   \n",
      "39  civil partnership                 1      F       business     0   \n",
      "40          unmarried                 4      M       business     0   \n",
      "41            married                 0      F  civil servant     0   \n",
      "42          unmarried                 4      F       employee     0   \n",
      "43           divorced                 3      F       business     0   \n",
      "44            married                 0      F       employee     0   \n",
      "45          unmarried                 4      F       employee     0   \n",
      "46            married                 0      F       business     0   \n",
      "47  civil partnership                 1      M  civil servant     0   \n",
      "48            married                 0      F       employee     0   \n",
      "49            married                 0      F       employee     0   \n",
      "50            married                 0      F        retiree     0   \n",
      "51  civil partnership                 1      F       employee     0   \n",
      "52            married                 0      F       employee     0   \n",
      "53           divorced                 3      F       business     0   \n",
      "54  civil partnership                 1      F       employee     0   \n",
      "\n",
      "    total_income                                   purpose  \n",
      "0      40620.102                     purchase of the house  \n",
      "1      17932.802                              car purchase  \n",
      "2      23341.752                     purchase of the house  \n",
      "3      42820.568                   supplementary education  \n",
      "4      25378.572                         to have a wedding  \n",
      "5      40922.170                     purchase of the house  \n",
      "6      38484.156                      housing transactions  \n",
      "7      21731.829                                 education  \n",
      "8      15337.093                          having a wedding  \n",
      "9      23108.150       purchase of the house for my family  \n",
      "10     18230.959                           buy real estate  \n",
      "11     12331.077                buy commercial real estate  \n",
      "12           NaN                         to have a wedding  \n",
      "13     20873.317                              car purchase  \n",
      "14     26420.466               buy residential real estate  \n",
      "15     18691.345              construction of own property  \n",
      "16     46272.433                                  property  \n",
      "17     14465.694                       building a property  \n",
      "18      9091.804                  buying a second-hand car  \n",
      "19     38852.977                         buying my own car  \n",
      "20     33528.423                                  property  \n",
      "21     21089.953                              car purchase  \n",
      "22     23948.983                  buying a second-hand car  \n",
      "23     20522.515                         to have a wedding  \n",
      "24     46487.558  transactions with commercial real estate  \n",
      "25      8818.041                           buy real estate  \n",
      "26           NaN                                 education  \n",
      "27     49415.837              construction of own property  \n",
      "28     30058.118              construction of own property  \n",
      "29           NaN                    building a real estate  \n",
      "30     27432.971  transactions with commercial real estate  \n",
      "31     44077.710                                   housing  \n",
      "32     22249.194                          having a wedding  \n",
      "33     25159.326                     purchase of the house  \n",
      "34     16745.672          transactions with my real estate  \n",
      "35     12448.908                          having a wedding  \n",
      "36     22212.904                                      cars  \n",
      "37     24660.621                              car purchase  \n",
      "38     30759.568                                 education  \n",
      "39    120678.528                        to become educated  \n",
      "40     22858.493                           buy real estate  \n",
      "41           NaN                  second-hand car purchase  \n",
      "42     13130.414                      getting an education  \n",
      "43     43673.141                              car purchase  \n",
      "44     16124.879                         buying my own car  \n",
      "45     17021.747                        to become educated  \n",
      "46     29229.194                  second-hand car purchase  \n",
      "47     57004.465                          having a wedding  \n",
      "48     25930.483              construction of own property  \n",
      "49      7134.689                                       car  \n",
      "50     14774.837                                      cars  \n",
      "51     32511.949                          wedding ceremony  \n",
      "52      8439.428          to get a supplementary education  \n",
      "53     49832.576                  purchase of my own house  \n",
      "54     14758.210                                      cars  \n"
     ]
    }
   ],
   "source": [
    "import pandas as pd\n",
    "import numpy as nd\n",
    "\n",
    "\n",
    "\n",
    "credit_score = pd.read_csv(\"/datasets/credit_scoring_eng.csv\")\n",
    "print(credit_score.head(55))\n"
   ]
  },
  {
   "cell_type": "markdown",
   "metadata": {},
   "source": [
    "## Task 1. Data exploration\n",
    "\n",
    "**Description of the data**\n",
    "- `children` - the number of children in the family\n",
    "- `days_employed` - work experience in days\n",
    "- `dob_years` - client's age in years\n",
    "- `education` - client's education\n",
    "- `education_id` - education identifier\n",
    "- `family_status` - marital status\n",
    "- `family_status_id` - marital status identifier\n",
    "- `gender` - gender of the client\n",
    "- `income_type` - type of employment\n",
    "- `debt` - was there any debt on loan repayment\n",
    "- `total_income` - monthly income\n",
    "- `purpose` - the purpose of obtaining a loan\n",
    "\n",
    "[Now let's explore our data. You'll want to see how many columns and rows it has, look at a few rows to check for potential issues with the data.]"
   ]
  },
  {
   "cell_type": "code",
   "execution_count": 76,
   "metadata": {},
   "outputs": [
    {
     "name": "stdout",
     "output_type": "stream",
     "text": [
      "<class 'pandas.core.frame.DataFrame'>\n",
      "RangeIndex: 21525 entries, 0 to 21524\n",
      "Data columns (total 12 columns):\n",
      " #   Column            Non-Null Count  Dtype  \n",
      "---  ------            --------------  -----  \n",
      " 0   children          21525 non-null  int64  \n",
      " 1   days_employed     19351 non-null  float64\n",
      " 2   dob_years         21525 non-null  int64  \n",
      " 3   education         21525 non-null  object \n",
      " 4   education_id      21525 non-null  int64  \n",
      " 5   family_status     21525 non-null  object \n",
      " 6   family_status_id  21525 non-null  int64  \n",
      " 7   gender            21525 non-null  object \n",
      " 8   income_type       21525 non-null  object \n",
      " 9   debt              21525 non-null  int64  \n",
      " 10  total_income      19351 non-null  float64\n",
      " 11  purpose           21525 non-null  object \n",
      "dtypes: float64(2), int64(5), object(5)\n",
      "memory usage: 2.0+ MB\n"
     ]
    }
   ],
   "source": [
    "# Let's see how many rows and columns our dataset has\n",
    "credit_score.info()\n"
   ]
  },
  {
   "cell_type": "markdown",
   "metadata": {},
   "source": [
    "The info method provides a good display of number of rows: (21525) and columns: (12)"
   ]
  },
  {
   "cell_type": "code",
   "execution_count": 77,
   "metadata": {
    "scrolled": true
   },
   "outputs": [
    {
     "name": "stdout",
     "output_type": "stream",
     "text": [
      "   children  days_employed  dob_years            education  education_id  \\\n",
      "0         1   -8437.673028         42    bachelor's degree             0   \n",
      "1         1   -4024.803754         36  secondary education             1   \n",
      "2         0   -5623.422610         33  Secondary Education             1   \n",
      "3         3   -4124.747207         32  secondary education             1   \n",
      "4         0  340266.072047         53  secondary education             1   \n",
      "5         0    -926.185831         27    bachelor's degree             0   \n",
      "6         0   -2879.202052         43    bachelor's degree             0   \n",
      "7         0    -152.779569         50  SECONDARY EDUCATION             1   \n",
      "8         2   -6929.865299         35    BACHELOR'S DEGREE             0   \n",
      "9         0   -2188.756445         41  secondary education             1   \n",
      "\n",
      "       family_status  family_status_id gender income_type  debt  total_income  \\\n",
      "0            married                 0      F    employee     0     40620.102   \n",
      "1            married                 0      F    employee     0     17932.802   \n",
      "2            married                 0      M    employee     0     23341.752   \n",
      "3            married                 0      M    employee     0     42820.568   \n",
      "4  civil partnership                 1      F     retiree     0     25378.572   \n",
      "5  civil partnership                 1      M    business     0     40922.170   \n",
      "6            married                 0      F    business     0     38484.156   \n",
      "7            married                 0      M    employee     0     21731.829   \n",
      "8  civil partnership                 1      F    employee     0     15337.093   \n",
      "9            married                 0      M    employee     0     23108.150   \n",
      "\n",
      "                               purpose  \n",
      "0                purchase of the house  \n",
      "1                         car purchase  \n",
      "2                purchase of the house  \n",
      "3              supplementary education  \n",
      "4                    to have a wedding  \n",
      "5                purchase of the house  \n",
      "6                 housing transactions  \n",
      "7                            education  \n",
      "8                     having a wedding  \n",
      "9  purchase of the house for my family  \n"
     ]
    }
   ],
   "source": [
    "# let's print the first N rows\n",
    "print(credit_score.head(10))\n"
   ]
  },
  {
   "cell_type": "markdown",
   "metadata": {},
   "source": [
    "[Describe what you see and notice in your printed data sample. Are there any issues that may need further investigation and changes?]\n",
    "\n",
    "-The data could be organized in a more concise way that includes categories which would help make it more digestable. We can possibly organize data based on categories of purpose, for example.\n",
    "-The negative sign displayed on values in the days_employed column might also be problematic.\n",
    "-There are several values in the [\"education\"] column that contain uppercase and lowercase letters, which also should be fixed."
   ]
  },
  {
   "cell_type": "code",
   "execution_count": 78,
   "metadata": {
    "scrolled": false
   },
   "outputs": [
    {
     "name": "stdout",
     "output_type": "stream",
     "text": [
      "<class 'pandas.core.frame.DataFrame'>\n",
      "RangeIndex: 21525 entries, 0 to 21524\n",
      "Data columns (total 12 columns):\n",
      " #   Column            Non-Null Count  Dtype  \n",
      "---  ------            --------------  -----  \n",
      " 0   children          21525 non-null  int64  \n",
      " 1   days_employed     19351 non-null  float64\n",
      " 2   dob_years         21525 non-null  int64  \n",
      " 3   education         21525 non-null  object \n",
      " 4   education_id      21525 non-null  int64  \n",
      " 5   family_status     21525 non-null  object \n",
      " 6   family_status_id  21525 non-null  int64  \n",
      " 7   gender            21525 non-null  object \n",
      " 8   income_type       21525 non-null  object \n",
      " 9   debt              21525 non-null  int64  \n",
      " 10  total_income      19351 non-null  float64\n",
      " 11  purpose           21525 non-null  object \n",
      "dtypes: float64(2), int64(5), object(5)\n",
      "memory usage: 2.0+ MB\n",
      "\n",
      "0        False\n",
      "1        False\n",
      "2        False\n",
      "3        False\n",
      "4        False\n",
      "         ...  \n",
      "21520    False\n",
      "21521    False\n",
      "21522    False\n",
      "21523    False\n",
      "21524    False\n",
      "Name: total_income, Length: 21525, dtype: bool\n",
      "\n",
      "0        False\n",
      "1        False\n",
      "2        False\n",
      "3        False\n",
      "4        False\n",
      "         ...  \n",
      "21520    False\n",
      "21521    False\n",
      "21522    False\n",
      "21523    False\n",
      "21524    False\n",
      "Name: days_employed, Length: 21525, dtype: bool\n"
     ]
    }
   ],
   "source": [
    "# Get info on data\n",
    "credit_score.info()\n",
    "print()\n",
    "print(credit_score[\"total_income\"].isna())\n",
    "print()\n",
    "print(credit_score[\"days_employed\"].isna())\n"
   ]
  },
  {
   "cell_type": "markdown",
   "metadata": {},
   "source": [
    "[Are there missing values across all columns or just a few? Briefly describe what you see in 1-2 sentences.]\n",
    "Missing columns are observed accross two columns: \"total_income\" and \"\"days_employed\", which contain 2174 missing rows. Also, there in all the rows where days_employed = NaN, total_income also= \"NaN. So, there seems to be some sort of pattern here."
   ]
  },
  {
   "cell_type": "code",
   "execution_count": 79,
   "metadata": {
    "scrolled": true
   },
   "outputs": [
    {
     "name": "stdout",
     "output_type": "stream",
     "text": [
      "       children  days_employed  dob_years            education  education_id  \\\n",
      "12            0            NaN         65  secondary education             1   \n",
      "26            0            NaN         41  secondary education             1   \n",
      "29            0            NaN         63  secondary education             1   \n",
      "41            0            NaN         50  secondary education             1   \n",
      "55            0            NaN         54  secondary education             1   \n",
      "...         ...            ...        ...                  ...           ...   \n",
      "21489         2            NaN         47  Secondary Education             1   \n",
      "21495         1            NaN         50  secondary education             1   \n",
      "21497         0            NaN         48    BACHELOR'S DEGREE             0   \n",
      "21502         1            NaN         42  secondary education             1   \n",
      "21510         2            NaN         28  secondary education             1   \n",
      "\n",
      "           family_status  family_status_id gender    income_type  debt  \\\n",
      "12     civil partnership                 1      M        retiree     0   \n",
      "26               married                 0      M  civil servant     0   \n",
      "29             unmarried                 4      F        retiree     0   \n",
      "41               married                 0      F  civil servant     0   \n",
      "55     civil partnership                 1      F        retiree     1   \n",
      "...                  ...               ...    ...            ...   ...   \n",
      "21489            married                 0      M       business     0   \n",
      "21495  civil partnership                 1      F       employee     0   \n",
      "21497            married                 0      F       business     0   \n",
      "21502            married                 0      F       employee     0   \n",
      "21510            married                 0      F       employee     0   \n",
      "\n",
      "       total_income                   purpose  \n",
      "12              NaN         to have a wedding  \n",
      "26              NaN                 education  \n",
      "29              NaN    building a real estate  \n",
      "41              NaN  second-hand car purchase  \n",
      "55              NaN         to have a wedding  \n",
      "...             ...                       ...  \n",
      "21489           NaN         purchase of a car  \n",
      "21495           NaN          wedding ceremony  \n",
      "21497           NaN       building a property  \n",
      "21502           NaN    building a real estate  \n",
      "21510           NaN              car purchase  \n",
      "\n",
      "[2174 rows x 12 columns]\n"
     ]
    }
   ],
   "source": [
    "# Let's look at the filtered table with missing values in the the first column with missing data\n",
    "print(credit_score[credit_score['total_income'].isna()])\n",
    "\n"
   ]
  },
  {
   "cell_type": "markdown",
   "metadata": {},
   "source": [
    "[Do missing values seem symmetric? Can we be sure in this assumption? Explain your thoughts briefly in this section. You may probably want to conduct further investigations, and count the missing values in all the rows with missing values to confirm the the missing samples are of the same size.]\n",
    "The missing values between the two missing columns do seem symmetric, which appears to be reflected in the boolean values listed. In addition, both columns generate the exact same number of missing values (shown below). I see that most rows containing NaN also have common education id=1 (secondary education)"
   ]
  },
  {
   "cell_type": "code",
   "execution_count": 80,
   "metadata": {},
   "outputs": [
    {
     "name": "stdout",
     "output_type": "stream",
     "text": [
      "2174\n",
      "2174\n"
     ]
    },
    {
     "data": {
      "text/html": [
       "<div>\n",
       "<style scoped>\n",
       "    .dataframe tbody tr th:only-of-type {\n",
       "        vertical-align: middle;\n",
       "    }\n",
       "\n",
       "    .dataframe tbody tr th {\n",
       "        vertical-align: top;\n",
       "    }\n",
       "\n",
       "    .dataframe thead th {\n",
       "        text-align: right;\n",
       "    }\n",
       "</style>\n",
       "<table border=\"1\" class=\"dataframe\">\n",
       "  <thead>\n",
       "    <tr style=\"text-align: right;\">\n",
       "      <th></th>\n",
       "      <th>children</th>\n",
       "      <th>days_employed</th>\n",
       "      <th>dob_years</th>\n",
       "      <th>education</th>\n",
       "      <th>education_id</th>\n",
       "      <th>family_status</th>\n",
       "      <th>family_status_id</th>\n",
       "      <th>gender</th>\n",
       "      <th>income_type</th>\n",
       "      <th>debt</th>\n",
       "      <th>total_income</th>\n",
       "      <th>purpose</th>\n",
       "    </tr>\n",
       "  </thead>\n",
       "  <tbody>\n",
       "    <tr>\n",
       "      <th>12</th>\n",
       "      <td>0</td>\n",
       "      <td>NaN</td>\n",
       "      <td>65</td>\n",
       "      <td>secondary education</td>\n",
       "      <td>1</td>\n",
       "      <td>civil partnership</td>\n",
       "      <td>1</td>\n",
       "      <td>M</td>\n",
       "      <td>retiree</td>\n",
       "      <td>0</td>\n",
       "      <td>NaN</td>\n",
       "      <td>to have a wedding</td>\n",
       "    </tr>\n",
       "    <tr>\n",
       "      <th>26</th>\n",
       "      <td>0</td>\n",
       "      <td>NaN</td>\n",
       "      <td>41</td>\n",
       "      <td>secondary education</td>\n",
       "      <td>1</td>\n",
       "      <td>married</td>\n",
       "      <td>0</td>\n",
       "      <td>M</td>\n",
       "      <td>civil servant</td>\n",
       "      <td>0</td>\n",
       "      <td>NaN</td>\n",
       "      <td>education</td>\n",
       "    </tr>\n",
       "    <tr>\n",
       "      <th>29</th>\n",
       "      <td>0</td>\n",
       "      <td>NaN</td>\n",
       "      <td>63</td>\n",
       "      <td>secondary education</td>\n",
       "      <td>1</td>\n",
       "      <td>unmarried</td>\n",
       "      <td>4</td>\n",
       "      <td>F</td>\n",
       "      <td>retiree</td>\n",
       "      <td>0</td>\n",
       "      <td>NaN</td>\n",
       "      <td>building a real estate</td>\n",
       "    </tr>\n",
       "    <tr>\n",
       "      <th>41</th>\n",
       "      <td>0</td>\n",
       "      <td>NaN</td>\n",
       "      <td>50</td>\n",
       "      <td>secondary education</td>\n",
       "      <td>1</td>\n",
       "      <td>married</td>\n",
       "      <td>0</td>\n",
       "      <td>F</td>\n",
       "      <td>civil servant</td>\n",
       "      <td>0</td>\n",
       "      <td>NaN</td>\n",
       "      <td>second-hand car purchase</td>\n",
       "    </tr>\n",
       "    <tr>\n",
       "      <th>55</th>\n",
       "      <td>0</td>\n",
       "      <td>NaN</td>\n",
       "      <td>54</td>\n",
       "      <td>secondary education</td>\n",
       "      <td>1</td>\n",
       "      <td>civil partnership</td>\n",
       "      <td>1</td>\n",
       "      <td>F</td>\n",
       "      <td>retiree</td>\n",
       "      <td>1</td>\n",
       "      <td>NaN</td>\n",
       "      <td>to have a wedding</td>\n",
       "    </tr>\n",
       "    <tr>\n",
       "      <th>...</th>\n",
       "      <td>...</td>\n",
       "      <td>...</td>\n",
       "      <td>...</td>\n",
       "      <td>...</td>\n",
       "      <td>...</td>\n",
       "      <td>...</td>\n",
       "      <td>...</td>\n",
       "      <td>...</td>\n",
       "      <td>...</td>\n",
       "      <td>...</td>\n",
       "      <td>...</td>\n",
       "      <td>...</td>\n",
       "    </tr>\n",
       "    <tr>\n",
       "      <th>21489</th>\n",
       "      <td>2</td>\n",
       "      <td>NaN</td>\n",
       "      <td>47</td>\n",
       "      <td>Secondary Education</td>\n",
       "      <td>1</td>\n",
       "      <td>married</td>\n",
       "      <td>0</td>\n",
       "      <td>M</td>\n",
       "      <td>business</td>\n",
       "      <td>0</td>\n",
       "      <td>NaN</td>\n",
       "      <td>purchase of a car</td>\n",
       "    </tr>\n",
       "    <tr>\n",
       "      <th>21495</th>\n",
       "      <td>1</td>\n",
       "      <td>NaN</td>\n",
       "      <td>50</td>\n",
       "      <td>secondary education</td>\n",
       "      <td>1</td>\n",
       "      <td>civil partnership</td>\n",
       "      <td>1</td>\n",
       "      <td>F</td>\n",
       "      <td>employee</td>\n",
       "      <td>0</td>\n",
       "      <td>NaN</td>\n",
       "      <td>wedding ceremony</td>\n",
       "    </tr>\n",
       "    <tr>\n",
       "      <th>21497</th>\n",
       "      <td>0</td>\n",
       "      <td>NaN</td>\n",
       "      <td>48</td>\n",
       "      <td>BACHELOR'S DEGREE</td>\n",
       "      <td>0</td>\n",
       "      <td>married</td>\n",
       "      <td>0</td>\n",
       "      <td>F</td>\n",
       "      <td>business</td>\n",
       "      <td>0</td>\n",
       "      <td>NaN</td>\n",
       "      <td>building a property</td>\n",
       "    </tr>\n",
       "    <tr>\n",
       "      <th>21502</th>\n",
       "      <td>1</td>\n",
       "      <td>NaN</td>\n",
       "      <td>42</td>\n",
       "      <td>secondary education</td>\n",
       "      <td>1</td>\n",
       "      <td>married</td>\n",
       "      <td>0</td>\n",
       "      <td>F</td>\n",
       "      <td>employee</td>\n",
       "      <td>0</td>\n",
       "      <td>NaN</td>\n",
       "      <td>building a real estate</td>\n",
       "    </tr>\n",
       "    <tr>\n",
       "      <th>21510</th>\n",
       "      <td>2</td>\n",
       "      <td>NaN</td>\n",
       "      <td>28</td>\n",
       "      <td>secondary education</td>\n",
       "      <td>1</td>\n",
       "      <td>married</td>\n",
       "      <td>0</td>\n",
       "      <td>F</td>\n",
       "      <td>employee</td>\n",
       "      <td>0</td>\n",
       "      <td>NaN</td>\n",
       "      <td>car purchase</td>\n",
       "    </tr>\n",
       "  </tbody>\n",
       "</table>\n",
       "<p>2174 rows × 12 columns</p>\n",
       "</div>"
      ],
      "text/plain": [
       "       children  days_employed  dob_years            education  education_id  \\\n",
       "12            0            NaN         65  secondary education             1   \n",
       "26            0            NaN         41  secondary education             1   \n",
       "29            0            NaN         63  secondary education             1   \n",
       "41            0            NaN         50  secondary education             1   \n",
       "55            0            NaN         54  secondary education             1   \n",
       "...         ...            ...        ...                  ...           ...   \n",
       "21489         2            NaN         47  Secondary Education             1   \n",
       "21495         1            NaN         50  secondary education             1   \n",
       "21497         0            NaN         48    BACHELOR'S DEGREE             0   \n",
       "21502         1            NaN         42  secondary education             1   \n",
       "21510         2            NaN         28  secondary education             1   \n",
       "\n",
       "           family_status  family_status_id gender    income_type  debt  \\\n",
       "12     civil partnership                 1      M        retiree     0   \n",
       "26               married                 0      M  civil servant     0   \n",
       "29             unmarried                 4      F        retiree     0   \n",
       "41               married                 0      F  civil servant     0   \n",
       "55     civil partnership                 1      F        retiree     1   \n",
       "...                  ...               ...    ...            ...   ...   \n",
       "21489            married                 0      M       business     0   \n",
       "21495  civil partnership                 1      F       employee     0   \n",
       "21497            married                 0      F       business     0   \n",
       "21502            married                 0      F       employee     0   \n",
       "21510            married                 0      F       employee     0   \n",
       "\n",
       "       total_income                   purpose  \n",
       "12              NaN         to have a wedding  \n",
       "26              NaN                 education  \n",
       "29              NaN    building a real estate  \n",
       "41              NaN  second-hand car purchase  \n",
       "55              NaN         to have a wedding  \n",
       "...             ...                       ...  \n",
       "21489           NaN         purchase of a car  \n",
       "21495           NaN          wedding ceremony  \n",
       "21497           NaN       building a property  \n",
       "21502           NaN    building a real estate  \n",
       "21510           NaN              car purchase  \n",
       "\n",
       "[2174 rows x 12 columns]"
      ]
     },
     "execution_count": 80,
     "metadata": {},
     "output_type": "execute_result"
    }
   ],
   "source": [
    "# Let's apply multiple conditions for filtering data and look at the number of rows in the filtered table.\n",
    "#print(credit_score.isna().sum())\n",
    "#print(credit_score[credit_score.duplicated(subset='days_employed')])\n",
    "#missing_values = credit_score[credit_score[\"total_income\"]==\"NaN\"]\n",
    "#print(missing_values)\n",
    "print(credit_score['total_income'].isna().sum())\n",
    "print(credit_score[\"days_employed\"].isna().sum())\n",
    "credit_score.loc[(credit_score['days_employed'].isna()),:]\n",
    "credit_score.loc[(credit_score['total_income'].isna()),:]"
   ]
  },
  {
   "cell_type": "markdown",
   "metadata": {},
   "source": [
    "**Intermediate conclusion**\n",
    "\n",
    "[Does the number of rows in the filtered table match the number of missing values? What conclusion can we make from this?]\n",
    "\n",
    "[Calculate the percentage of the missing values compared to the whole dataset. Is it a considerably large piece of data? If so, you may want to fill the missing values. To do that, firstly we should consider whether the missing data could be due to the specific client characteristic, such as employment type or something else. You will need to decide which characteristic *you* think might be the reason. Secondly, we should check whether there's any dependence missing values have on the value of other indicators with the columns with identified specific client characteristic.]\n",
    "\n",
    "[Explain your next steps and how they correlate with the conclusions you made so far.]\n",
    " The number of rows in the filtered table match the number of missing values: 2174. We can conclude that the missing values are not random, but may be associated with some other reason.The missing data in [\"days_employed\"] and in [\"total_income\"] do not appear to be a large piece of data, as both cumulatively amount to about 20% of the data. The proportion of missing values is not large enough to drop the columns, so this means that I will need to fill them. I think that the missing data in both columns might have something to due with income type, as I noticed that there were several \"NaN\" in rows where income type was \"retired\". Both columns that contain the missing values are numeric and do not have an direct dependencce on other indicators with columns with education. If a client's highest education is secondary education"
   ]
  },
  {
   "cell_type": "code",
   "execution_count": 81,
   "metadata": {},
   "outputs": [
    {
     "name": "stdout",
     "output_type": "stream",
     "text": [
      "       children  days_employed  dob_years            education  education_id  \\\n",
      "12            0            NaN         65  secondary education             1   \n",
      "26            0            NaN         41  secondary education             1   \n",
      "29            0            NaN         63  secondary education             1   \n",
      "41            0            NaN         50  secondary education             1   \n",
      "65            0            NaN         21  secondary education             1   \n",
      "...         ...            ...        ...                  ...           ...   \n",
      "21489         2            NaN         47  Secondary Education             1   \n",
      "21495         1            NaN         50  secondary education             1   \n",
      "21497         0            NaN         48    BACHELOR'S DEGREE             0   \n",
      "21502         1            NaN         42  secondary education             1   \n",
      "21510         2            NaN         28  secondary education             1   \n",
      "\n",
      "           family_status  family_status_id gender    income_type  debt  \\\n",
      "12     civil partnership                 1      M        retiree     0   \n",
      "26               married                 0      M  civil servant     0   \n",
      "29             unmarried                 4      F        retiree     0   \n",
      "41               married                 0      F  civil servant     0   \n",
      "65             unmarried                 4      M       business     0   \n",
      "...                  ...               ...    ...            ...   ...   \n",
      "21489            married                 0      M       business     0   \n",
      "21495  civil partnership                 1      F       employee     0   \n",
      "21497            married                 0      F       business     0   \n",
      "21502            married                 0      F       employee     0   \n",
      "21510            married                 0      F       employee     0   \n",
      "\n",
      "       total_income                                   purpose  \n",
      "12              NaN                         to have a wedding  \n",
      "26              NaN                                 education  \n",
      "29              NaN                    building a real estate  \n",
      "41              NaN                  second-hand car purchase  \n",
      "65              NaN  transactions with commercial real estate  \n",
      "...             ...                                       ...  \n",
      "21489           NaN                         purchase of a car  \n",
      "21495           NaN                          wedding ceremony  \n",
      "21497           NaN                       building a property  \n",
      "21502           NaN                    building a real estate  \n",
      "21510           NaN                              car purchase  \n",
      "\n",
      "[2004 rows x 12 columns]\n"
     ]
    }
   ],
   "source": [
    "# Let's investigate clients who do not have data on identified characteristic and the column with the missing values\n",
    "#print(credit_score[credit_score[\"education\"] != \"secondary education\"])\n",
    "\n",
    "#print()\n",
    "\n",
    "#print(credit_score.loc[(credit_score[\"education_id\"] != int(\"1\")) & (credit_score[\"days_employed\"] == float(\"NaN\")),:])\n",
    "            \n",
    "(credit_score.loc[(credit_score[\"education_id\"] == int(\"1\")) & (credit_score[\"total_income\"].isna()),:])\n",
    "print(credit_score.loc[(credit_score[\"debt\"] == int(\"0\")) & (credit_score[\"total_income\"].isna()),:])"
   ]
  },
  {
   "cell_type": "code",
   "execution_count": 82,
   "metadata": {},
   "outputs": [
    {
     "name": "stdout",
     "output_type": "stream",
     "text": [
      "children            0.000000\n",
      "days_employed       0.100999\n",
      "dob_years           0.000000\n",
      "education           0.000000\n",
      "education_id        0.000000\n",
      "family_status       0.000000\n",
      "family_status_id    0.000000\n",
      "gender              0.000000\n",
      "income_type         0.000000\n",
      "debt                0.000000\n",
      "total_income        0.100999\n",
      "purpose             0.000000\n",
      "dtype: float64\n",
      "\n",
      " 0     14149\n",
      " 1      4818\n",
      " 2      2055\n",
      " 3       330\n",
      " 20       76\n",
      "-1        47\n",
      " 4        41\n",
      " 5         9\n",
      "Name: children, dtype: int64\n",
      "married              12380\n",
      "civil partnership     4177\n",
      "unmarried             2813\n",
      "divorced              1195\n",
      "widow / widower        960\n",
      "Name: family_status, dtype: int64\n",
      "family_status\n",
      "civil partnership     4177\n",
      "divorced              1195\n",
      "married              12380\n",
      "unmarried             2813\n",
      "widow / widower        960\n",
      "Name: family_status_id, dtype: int64\n",
      "secondary education    13750\n",
      "bachelor's degree       4718\n",
      "SECONDARY EDUCATION      772\n",
      "Secondary Education      711\n",
      "some college             668\n",
      "BACHELOR'S DEGREE        274\n",
      "Bachelor's Degree        268\n",
      "primary education        250\n",
      "Some College              47\n",
      "SOME COLLEGE              29\n",
      "PRIMARY EDUCATION         17\n",
      "Primary Education         15\n",
      "graduate degree            4\n",
      "GRADUATE DEGREE            1\n",
      "Graduate Degree            1\n",
      "Name: education, dtype: int64\n",
      "wedding ceremony                            797\n",
      "having a wedding                            777\n",
      "to have a wedding                           774\n",
      "real estate transactions                    676\n",
      "buy commercial real estate                  664\n",
      "housing transactions                        653\n",
      "buying property for renting out             653\n",
      "transactions with commercial real estate    651\n",
      "purchase of the house                       647\n",
      "housing                                     647\n",
      "purchase of the house for my family         641\n",
      "construction of own property                635\n",
      "property                                    634\n",
      "transactions with my real estate            630\n",
      "building a real estate                      626\n",
      "buy real estate                             624\n",
      "purchase of my own house                    620\n",
      "building a property                         620\n",
      "housing renovation                          612\n",
      "buy residential real estate                 607\n",
      "buying my own car                           505\n",
      "going to university                         496\n",
      "car                                         495\n",
      "second-hand car purchase                    489\n",
      "to own a car                                480\n",
      "buying a second-hand car                    479\n",
      "cars                                        478\n",
      "to buy a car                                472\n",
      "car purchase                                462\n",
      "supplementary education                     462\n",
      "purchase of a car                           455\n",
      "university education                        453\n",
      "to get a supplementary education            447\n",
      "education                                   447\n",
      "getting an education                        443\n",
      "profile education                           436\n",
      "getting higher education                    426\n",
      "to become educated                          412\n",
      "Name: purpose, dtype: int64\n",
      "35    617\n",
      "40    609\n",
      "41    607\n",
      "34    603\n",
      "38    598\n",
      "42    597\n",
      "33    581\n",
      "39    573\n",
      "31    560\n",
      "36    555\n",
      "44    547\n",
      "29    545\n",
      "30    540\n",
      "48    538\n",
      "37    537\n",
      "50    514\n",
      "43    513\n",
      "32    510\n",
      "49    508\n",
      "28    503\n",
      "45    497\n",
      "27    493\n",
      "56    487\n",
      "52    484\n",
      "47    480\n",
      "54    479\n",
      "46    475\n",
      "58    461\n",
      "57    460\n",
      "53    459\n",
      "51    448\n",
      "59    444\n",
      "55    443\n",
      "26    408\n",
      "60    377\n",
      "25    357\n",
      "61    355\n",
      "62    352\n",
      "63    269\n",
      "64    265\n",
      "24    264\n",
      "23    254\n",
      "65    194\n",
      "66    183\n",
      "22    183\n",
      "67    167\n",
      "21    111\n",
      "0     101\n",
      "68     99\n",
      "69     85\n",
      "70     65\n",
      "71     58\n",
      "20     51\n",
      "72     33\n",
      "19     14\n",
      "73      8\n",
      "74      6\n",
      "75      1\n",
      "Name: dob_years, dtype: int64\n",
      "1    15233\n",
      "0     5260\n",
      "2      744\n",
      "3      282\n",
      "4        6\n",
      "Name: education_id, dtype: int64\n",
      "\n"
     ]
    }
   ],
   "source": [
    "# Checking distribution\n",
    "print(credit_score.isna().sum() / credit_score.shape[0])\n",
    "\n",
    "print()\n",
    "\n",
    "print(credit_score[\"children\"].value_counts())\n",
    "#Is -1 children a typo? Should we replace this with \"1\" child or should we drop the whole row?\n",
    "print(credit_score[\"family_status\"].value_counts())\n",
    "print(credit_score.groupby(\"family_status\")[\"family_status_id\"].count())\n",
    "print(credit_score[\"education\"].value_counts())\n",
    "print(credit_score[\"purpose\"].value_counts())\n",
    "print(credit_score[\"dob_years\"].value_counts())\n",
    "print(credit_score[\"education_id\"].value_counts())\n",
    "print()\n",
    "\n",
    "\n",
    "      \n",
    "\n"
   ]
  },
  {
   "cell_type": "markdown",
   "metadata": {},
   "source": [
    "[Describe your findings here.]\n",
    "\n",
    "**Possible reasons for missing values in data**\n",
    "\n",
    "[Propose your ideas on why you think the values might be missing. Do you think they are missing randomly or there are any patterns?]\n",
    "It appears that where missing values are present in the [\"days_employed\"] column, there also appears to be missing values in the [\"total_income\"] column as well.\n",
    "[Let's start checking whether the missing values are random.]\n",
    "\n",
    "-It seems that in the majority of rows where missing values are observed in both columns, the debt=0, which might be it might be correlated.\n",
    "-10 of the NaN rows [dob_years] = 0, which doesn't make sense, so that data should probably be discarded\n"
   ]
  },
  {
   "cell_type": "code",
   "execution_count": 83,
   "metadata": {},
   "outputs": [
    {
     "name": "stdout",
     "output_type": "stream",
     "text": [
      "married              12380\n",
      "civil partnership     4177\n",
      "unmarried             2813\n",
      "divorced              1195\n",
      "widow / widower        960\n",
      "Name: family_status, dtype: int64\n",
      "\n",
      "35    617\n",
      "40    609\n",
      "41    607\n",
      "34    603\n",
      "38    598\n",
      "42    597\n",
      "33    581\n",
      "39    573\n",
      "31    560\n",
      "36    555\n",
      "44    547\n",
      "29    545\n",
      "30    540\n",
      "48    538\n",
      "37    537\n",
      "50    514\n",
      "43    513\n",
      "32    510\n",
      "49    508\n",
      "28    503\n",
      "45    497\n",
      "27    493\n",
      "56    487\n",
      "52    484\n",
      "47    480\n",
      "54    479\n",
      "46    475\n",
      "58    461\n",
      "57    460\n",
      "53    459\n",
      "51    448\n",
      "59    444\n",
      "55    443\n",
      "26    408\n",
      "60    377\n",
      "25    357\n",
      "61    355\n",
      "62    352\n",
      "63    269\n",
      "64    265\n",
      "24    264\n",
      "23    254\n",
      "65    194\n",
      "66    183\n",
      "22    183\n",
      "67    167\n",
      "21    111\n",
      "0     101\n",
      "68     99\n",
      "69     85\n",
      "70     65\n",
      "71     58\n",
      "20     51\n",
      "72     33\n",
      "19     14\n",
      "73      8\n",
      "74      6\n",
      "75      1\n",
      "Name: dob_years, dtype: int64\n",
      "\n",
      "           children  days_employed     dob_years  education_id  \\\n",
      "count  21525.000000   19351.000000  21525.000000  21525.000000   \n",
      "mean       0.538908   63046.497661     43.293380      0.817236   \n",
      "std        1.381587  140827.311974     12.574584      0.548138   \n",
      "min       -1.000000  -18388.949901      0.000000      0.000000   \n",
      "25%        0.000000   -2747.423625     33.000000      1.000000   \n",
      "50%        0.000000   -1203.369529     42.000000      1.000000   \n",
      "75%        1.000000    -291.095954     53.000000      1.000000   \n",
      "max       20.000000  401755.400475     75.000000      4.000000   \n",
      "\n",
      "       family_status_id          debt   total_income  \n",
      "count      21525.000000  21525.000000   19351.000000  \n",
      "mean           0.972544      0.080883   26787.568355  \n",
      "std            1.420324      0.272661   16475.450632  \n",
      "min            0.000000      0.000000    3306.762000  \n",
      "25%            0.000000      0.000000   16488.504500  \n",
      "50%            0.000000      0.000000   23202.870000  \n",
      "75%            1.000000      0.000000   32549.611000  \n",
      "max            4.000000      1.000000  362496.645000  \n"
     ]
    }
   ],
   "source": [
    "# Checking the distribution in the whole dataset\n",
    "print(credit_score[\"family_status\"].value_counts())\n",
    "print()\n",
    "print(credit_score[\"dob_years\"].value_counts())\n",
    "print()\n",
    "print(credit_score.describe())\n"
   ]
  },
  {
   "cell_type": "markdown",
   "metadata": {},
   "source": [
    "**Intermediate conclusion**\n",
    "\n",
    "[Is the distribution in the original dataset similar to the distribution of the filtered table? What does that mean for us?]\n",
    "The distribution in the original dataset is mostly skewed to the right in regards to number of children, education_id, debt, total_income, which is similar to the distribution shown in the filtered table. This probably means that there is some sort of association between these client characteristics. Essentially, they most likely are correlated with each other in some way, but I am not quite sure how just yet. This probably means that the missing values are not random, but are due to some other reason. Also, I noticed that there are 10 rows where [total_income] and [days_employed]==\"NaN and [dob_years] == 0. It does not make sense for a client to be 0 years of age and be applying for a loan. This could also be contributing to the misisng values. 2004 of the 2174 rows of missing data have a [debt] value of 0. This is something to also consider.\n",
    "\n",
    "[If you think we can't make any conclusions yet, let's investigate our dataset further. Let's think about other reasons that could lead to data missing and check if we can find any patterns that may lead us to thinking that the missing values are not random. Because this is your work, this is section is optional.]"
   ]
  },
  {
   "cell_type": "code",
   "execution_count": 84,
   "metadata": {
    "scrolled": true
   },
   "outputs": [
    {
     "name": "stdout",
     "output_type": "stream",
     "text": [
      "       children  days_employed  dob_years            education  education_id  \\\n",
      "1890          0            NaN          0    bachelor's degree             0   \n",
      "2284          0            NaN          0  secondary education             1   \n",
      "4064          1            NaN          0  secondary education             1   \n",
      "5014          0            NaN          0  secondary education             1   \n",
      "6411          0            NaN          0    bachelor's degree             0   \n",
      "6670          0            NaN          0    Bachelor's Degree             0   \n",
      "8574          0            NaN          0  secondary education             1   \n",
      "12403         3            NaN          0  secondary education             1   \n",
      "13741         0            NaN          0  secondary education             1   \n",
      "19829         0            NaN          0  secondary education             1   \n",
      "\n",
      "           family_status  family_status_id gender income_type  debt  \\\n",
      "1890           unmarried                 4      F    employee     0   \n",
      "2284     widow / widower                 2      F     retiree     0   \n",
      "4064   civil partnership                 1      M    business     0   \n",
      "5014             married                 0      F    business     0   \n",
      "6411   civil partnership                 1      F     retiree     0   \n",
      "6670            divorced                 3      F     retiree     0   \n",
      "8574             married                 0      F    employee     0   \n",
      "12403            married                 0      M    employee     0   \n",
      "13741  civil partnership                 1      F    employee     0   \n",
      "19829            married                 0      F    employee     0   \n",
      "\n",
      "       total_income                                   purpose  \n",
      "1890            NaN                                   housing  \n",
      "2284            NaN                                  property  \n",
      "4064            NaN                        housing renovation  \n",
      "5014            NaN                           buy real estate  \n",
      "6411            NaN                          wedding ceremony  \n",
      "6670            NaN               buy residential real estate  \n",
      "8574            NaN                                  property  \n",
      "12403           NaN  transactions with commercial real estate  \n",
      "13741           NaN                          having a wedding  \n",
      "19829           NaN                                   housing  \n"
     ]
    }
   ],
   "source": [
    "# Check for other reasons and patterns that could lead to missing values\n",
    "\n",
    "print(credit_score.loc[(credit_score[\"dob_years\"] < int(\"18\")) & (credit_score[\"total_income\"].isna()),:])\n"
   ]
  },
  {
   "cell_type": "markdown",
   "metadata": {},
   "source": [
    "**Intermediate conclusion**\n",
    "\n",
    "[Can we finally confirm that missing values are accidental? Check for anything else that you think might be important here.]\n",
    "While most of the missing data is correlated with a debt = 0, having a debt=0 is not likely to be the cause of the missing data because there does not seem to be a direct association between have no debt and having missing information in those areas. I checked all other client characteristics, and none of them showed to be associated or correlated with the number of rows of misisng values. Overall, the missing values do not seem to be directly associated with any particular other column. However, 10 rows of missing data have a value of 0 for [\"dob_years\"]. Since you have to be 18 years or older to apply for a loan, this could be a legitamite reason why we are missing data in these rows. "
   ]
  },
  {
   "cell_type": "code",
   "execution_count": 85,
   "metadata": {
    "scrolled": true
   },
   "outputs": [
    {
     "name": "stdout",
     "output_type": "stream",
     "text": [
      "       children  days_employed  dob_years          education  education_id  \\\n",
      "67            0            NaN         52  bachelor's degree             0   \n",
      "72            1            NaN         32  bachelor's degree             0   \n",
      "82            2            NaN         50  bachelor's degree             0   \n",
      "90            2            NaN         35  bachelor's degree             0   \n",
      "94            1            NaN         34  bachelor's degree             0   \n",
      "...         ...            ...        ...                ...           ...   \n",
      "21281         1            NaN         30  bachelor's degree             0   \n",
      "21294         0            NaN         45  BACHELOR'S DEGREE             0   \n",
      "21432         1            NaN         38       some college             2   \n",
      "21463         1            NaN         35  bachelor's degree             0   \n",
      "21497         0            NaN         48  BACHELOR'S DEGREE             0   \n",
      "\n",
      "           family_status  family_status_id gender    income_type  debt  \\\n",
      "67               married                 0      F        retiree     0   \n",
      "72               married                 0      M  civil servant     0   \n",
      "82               married                 0      F       employee     0   \n",
      "90               married                 0      F       employee     0   \n",
      "94     civil partnership                 1      F       business     0   \n",
      "...                  ...               ...    ...            ...   ...   \n",
      "21281            married                 0      F       employee     0   \n",
      "21294            married                 0      F       employee     0   \n",
      "21432          unmarried                 4      F       employee     0   \n",
      "21463  civil partnership                 1      M       employee     0   \n",
      "21497            married                 0      F       business     0   \n",
      "\n",
      "       total_income                                   purpose  \n",
      "67              NaN       purchase of the house for my family  \n",
      "72              NaN  transactions with commercial real estate  \n",
      "82              NaN                                   housing  \n",
      "90              NaN                      housing transactions  \n",
      "94              NaN                          having a wedding  \n",
      "...             ...                                       ...  \n",
      "21281           NaN                buy commercial real estate  \n",
      "21294           NaN                      university education  \n",
      "21432           NaN                      housing transactions  \n",
      "21463           NaN                          having a wedding  \n",
      "21497           NaN                       building a property  \n",
      "\n",
      "[634 rows x 12 columns]\n"
     ]
    }
   ],
   "source": [
    "# Checking for other patterns - explain which\n",
    "#print(credit_score.loc[(credit_score[\"children\"] < int(\"4\")) & (credit_score[\"total_income\"].isna()),:])\n",
    "#print(credit_score.loc[(credit_score[\"children\"] < int(\"2\")) & (credit_score[\"total_income\"].isna()),:])\n",
    "print(credit_score[(credit_score[\"education_id\"] != 1) & (credit_score[\"days_employed\"].isnull())])"
   ]
  },
  {
   "cell_type": "markdown",
   "metadata": {},
   "source": [
    "**Conclusions**\n",
    "\n",
    "[Did you find any patterns? How did you come to this conclusion?]\n",
    "Here, I checked for any patterns between the rows of missing data and number of children. I concluded that there does not seem to be any apparent pattern between the number of children and missing data in the columns.\n",
    "\n",
    "[Explain how you will address the missing values. Consider the categories in which values are missing.]\n",
    "To address the missing values, I will not fill them in right away with a mean() for example, because total_income and days_employed will vary greatly depending on each individual client and their financial situation. In addition, total monthly income is dependent other catagorical columns in this dataset like income_type (occupation). Dropping the missing values in these columns would mean getting rid of about 20% of the data, which in my opinion is too much data to sacrifice in this analysis. Thus, I will attempt to find the mean/median of both columns and decide which would be a better fit to fill in the missing values.\n",
    "[Briefly plan your next steps for transforming data. You will probably need to address different types of issues: duplicates, different registers, incorrect artifacts, and missing values.]\n",
    "Missing values-Find mean/median for each column\n",
    "Duplicates-No duplicates found\n",
    "Incorrect artifacts-Need to make all values in [education] lowercase & need to remove 10 rows where [dob_years]= 0"
   ]
  },
  {
   "cell_type": "markdown",
   "metadata": {},
   "source": [
    "## Data transformation\n",
    "\n",
    "[Let's go through each column to see what issues we may have in them.]\n",
    "\n",
    "[Begin with removing duplicates and fixing educational information if required.]"
   ]
  },
  {
   "cell_type": "code",
   "execution_count": 86,
   "metadata": {},
   "outputs": [
    {
     "name": "stdout",
     "output_type": "stream",
     "text": [
      "0          bachelor's degree\n",
      "1        secondary education\n",
      "2        Secondary Education\n",
      "3        secondary education\n",
      "4        secondary education\n",
      "                ...         \n",
      "21520    secondary education\n",
      "21521    secondary education\n",
      "21522    secondary education\n",
      "21523    secondary education\n",
      "21524    secondary education\n",
      "Name: education, Length: 21525, dtype: object\n",
      "    children  days_employed  dob_years            education  education_id  \\\n",
      "0          1   -8437.673028         42    bachelor's degree             0   \n",
      "1          1   -4024.803754         36  secondary education             1   \n",
      "2          0   -5623.422610         33  Secondary Education             1   \n",
      "3          3   -4124.747207         32  secondary education             1   \n",
      "4          0  340266.072047         53  secondary education             1   \n",
      "5          0    -926.185831         27    bachelor's degree             0   \n",
      "6          0   -2879.202052         43    bachelor's degree             0   \n",
      "7          0    -152.779569         50  SECONDARY EDUCATION             1   \n",
      "8          2   -6929.865299         35    BACHELOR'S DEGREE             0   \n",
      "9          0   -2188.756445         41  secondary education             1   \n",
      "10         2   -4171.483647         36    bachelor's degree             0   \n",
      "11         0    -792.701887         40  secondary education             1   \n",
      "12         0            NaN         65  secondary education             1   \n",
      "13         0   -1846.641941         54         some college             2   \n",
      "14         0   -1844.956182         56    bachelor's degree             0   \n",
      "15         1    -972.364419         26  secondary education             1   \n",
      "16         0   -1719.934226         35  secondary education             1   \n",
      "17         0   -2369.999720         33    bachelor's degree             0   \n",
      "18         0  400281.136913         53  secondary education             1   \n",
      "19         0  -10038.818549         48  SECONDARY EDUCATION             1   \n",
      "20         1   -1311.604166         36  secondary education             1   \n",
      "21         1    -253.685166         33  secondary education             1   \n",
      "22         1   -1766.644138         24  secondary education             1   \n",
      "23         0    -272.981385         21    bachelor's degree             0   \n",
      "24         1  338551.952911         57  secondary education             1   \n",
      "25         0  363548.489348         67  secondary education             1   \n",
      "26         0            NaN         41  secondary education             1   \n",
      "27         0    -529.191635         28    bachelor's degree             0   \n",
      "28         1    -717.274324         26    bachelor's degree             0   \n",
      "29         0            NaN         63  secondary education             1   \n",
      "30         1  335581.668515         62  secondary education             1   \n",
      "31         0   -1682.083438         47    primary education             3   \n",
      "32         0   -4649.910832         34  SECONDARY EDUCATION             1   \n",
      "33         0   -1548.637544         48  secondary education             1   \n",
      "34         0   -4488.067031         35  secondary education             1   \n",
      "35         0  394021.072184         68  secondary education             1   \n",
      "36         0    -176.216688         33  secondary education             1   \n",
      "37         0   -6448.810860         43    BACHELOR'S DEGREE             0   \n",
      "38         0    -597.881827         25    bachelor's degree             0   \n",
      "39         0    -650.587796         31    bachelor's degree             0   \n",
      "40         0   -1030.362606         30  secondary education             1   \n",
      "41         0            NaN         50  secondary education             1   \n",
      "42         0   -1257.496190         20         some college             2   \n",
      "43         0   -4375.681384         43         some college             2   \n",
      "44         1   -1362.041728         26  SECONDARY EDUCATION             1   \n",
      "45         1   -1039.451741         49  secondary education             1   \n",
      "46         2   -2262.712304         37  secondary education             1   \n",
      "47         1   -2689.137274         33    bachelor's degree             0   \n",
      "48         0   -3341.067886         45  secondary education             1   \n",
      "49         0   -1181.443228         54  secondary education             1   \n",
      "\n",
      "        family_status  family_status_id gender    income_type  debt  \\\n",
      "0             married                 0      F       employee     0   \n",
      "1             married                 0      F       employee     0   \n",
      "2             married                 0      M       employee     0   \n",
      "3             married                 0      M       employee     0   \n",
      "4   civil partnership                 1      F        retiree     0   \n",
      "5   civil partnership                 1      M       business     0   \n",
      "6             married                 0      F       business     0   \n",
      "7             married                 0      M       employee     0   \n",
      "8   civil partnership                 1      F       employee     0   \n",
      "9             married                 0      M       employee     0   \n",
      "10            married                 0      M       business     0   \n",
      "11            married                 0      F       employee     0   \n",
      "12  civil partnership                 1      M        retiree     0   \n",
      "13            married                 0      F       employee     0   \n",
      "14  civil partnership                 1      F       business     1   \n",
      "15            married                 0      F       employee     0   \n",
      "16            married                 0      F       employee     0   \n",
      "17  civil partnership                 1      M       employee     0   \n",
      "18    widow / widower                 2      F        retiree     0   \n",
      "19           divorced                 3      F       employee     0   \n",
      "20            married                 0      M       employee     0   \n",
      "21  civil partnership                 1      F       employee     0   \n",
      "22  civil partnership                 1      F       employee     0   \n",
      "23  civil partnership                 1      M       employee     0   \n",
      "24          unmarried                 4      F        retiree     0   \n",
      "25            married                 0      M        retiree     0   \n",
      "26            married                 0      M  civil servant     0   \n",
      "27            married                 0      M       employee     0   \n",
      "28            married                 0      F       employee     0   \n",
      "29          unmarried                 4      F        retiree     0   \n",
      "30            married                 0      F        retiree     0   \n",
      "31            married                 0      F       employee     0   \n",
      "32  civil partnership                 1      F       employee     1   \n",
      "33            married                 0      F       business     0   \n",
      "34            married                 0      F       employee     0   \n",
      "35  civil partnership                 1      M        retiree     0   \n",
      "36          unmarried                 4      M       employee     0   \n",
      "37  civil partnership                 1      F       business     0   \n",
      "38          unmarried                 4      M       employee     1   \n",
      "39  civil partnership                 1      F       business     0   \n",
      "40          unmarried                 4      M       business     0   \n",
      "41            married                 0      F  civil servant     0   \n",
      "42          unmarried                 4      F       employee     0   \n",
      "43           divorced                 3      F       business     0   \n",
      "44            married                 0      F       employee     0   \n",
      "45          unmarried                 4      F       employee     0   \n",
      "46            married                 0      F       business     0   \n",
      "47  civil partnership                 1      M  civil servant     0   \n",
      "48            married                 0      F       employee     0   \n",
      "49            married                 0      F       employee     0   \n",
      "\n",
      "    total_income                                   purpose  \n",
      "0      40620.102                     purchase of the house  \n",
      "1      17932.802                              car purchase  \n",
      "2      23341.752                     purchase of the house  \n",
      "3      42820.568                   supplementary education  \n",
      "4      25378.572                         to have a wedding  \n",
      "5      40922.170                     purchase of the house  \n",
      "6      38484.156                      housing transactions  \n",
      "7      21731.829                                 education  \n",
      "8      15337.093                          having a wedding  \n",
      "9      23108.150       purchase of the house for my family  \n",
      "10     18230.959                           buy real estate  \n",
      "11     12331.077                buy commercial real estate  \n",
      "12           NaN                         to have a wedding  \n",
      "13     20873.317                              car purchase  \n",
      "14     26420.466               buy residential real estate  \n",
      "15     18691.345              construction of own property  \n",
      "16     46272.433                                  property  \n",
      "17     14465.694                       building a property  \n",
      "18      9091.804                  buying a second-hand car  \n",
      "19     38852.977                         buying my own car  \n",
      "20     33528.423                                  property  \n",
      "21     21089.953                              car purchase  \n",
      "22     23948.983                  buying a second-hand car  \n",
      "23     20522.515                         to have a wedding  \n",
      "24     46487.558  transactions with commercial real estate  \n",
      "25      8818.041                           buy real estate  \n",
      "26           NaN                                 education  \n",
      "27     49415.837              construction of own property  \n",
      "28     30058.118              construction of own property  \n",
      "29           NaN                    building a real estate  \n",
      "30     27432.971  transactions with commercial real estate  \n",
      "31     44077.710                                   housing  \n",
      "32     22249.194                          having a wedding  \n",
      "33     25159.326                     purchase of the house  \n",
      "34     16745.672          transactions with my real estate  \n",
      "35     12448.908                          having a wedding  \n",
      "36     22212.904                                      cars  \n",
      "37     24660.621                              car purchase  \n",
      "38     30759.568                                 education  \n",
      "39    120678.528                        to become educated  \n",
      "40     22858.493                           buy real estate  \n",
      "41           NaN                  second-hand car purchase  \n",
      "42     13130.414                      getting an education  \n",
      "43     43673.141                              car purchase  \n",
      "44     16124.879                         buying my own car  \n",
      "45     17021.747                        to become educated  \n",
      "46     29229.194                  second-hand car purchase  \n",
      "47     57004.465                          having a wedding  \n",
      "48     25930.483              construction of own property  \n",
      "49      7134.689                                       car  \n"
     ]
    }
   ],
   "source": [
    "# Let's see all values in education column to check if and what spellings will need to be fixed\n",
    "print(credit_score[\"education\"])\n",
    "print(credit_score.head(50))"
   ]
  },
  {
   "cell_type": "code",
   "execution_count": 87,
   "metadata": {
    "scrolled": true
   },
   "outputs": [
    {
     "name": "stdout",
     "output_type": "stream",
     "text": [
      "0          bachelor's degree\n",
      "1        secondary education\n",
      "2        secondary education\n",
      "3        secondary education\n",
      "4        secondary education\n",
      "                ...         \n",
      "21520    secondary education\n",
      "21521    secondary education\n",
      "21522    secondary education\n",
      "21523    secondary education\n",
      "21524    secondary education\n",
      "Name: education, Length: 21525, dtype: object\n",
      "    children  days_employed  dob_years            education  education_id  \\\n",
      "0          1   -8437.673028         42    bachelor's degree             0   \n",
      "1          1   -4024.803754         36  secondary education             1   \n",
      "2          0   -5623.422610         33  secondary education             1   \n",
      "3          3   -4124.747207         32  secondary education             1   \n",
      "4          0  340266.072047         53  secondary education             1   \n",
      "5          0    -926.185831         27    bachelor's degree             0   \n",
      "6          0   -2879.202052         43    bachelor's degree             0   \n",
      "7          0    -152.779569         50  secondary education             1   \n",
      "8          2   -6929.865299         35    bachelor's degree             0   \n",
      "9          0   -2188.756445         41  secondary education             1   \n",
      "10         2   -4171.483647         36    bachelor's degree             0   \n",
      "11         0    -792.701887         40  secondary education             1   \n",
      "12         0            NaN         65  secondary education             1   \n",
      "13         0   -1846.641941         54         some college             2   \n",
      "14         0   -1844.956182         56    bachelor's degree             0   \n",
      "15         1    -972.364419         26  secondary education             1   \n",
      "16         0   -1719.934226         35  secondary education             1   \n",
      "17         0   -2369.999720         33    bachelor's degree             0   \n",
      "18         0  400281.136913         53  secondary education             1   \n",
      "19         0  -10038.818549         48  secondary education             1   \n",
      "20         1   -1311.604166         36  secondary education             1   \n",
      "21         1    -253.685166         33  secondary education             1   \n",
      "22         1   -1766.644138         24  secondary education             1   \n",
      "23         0    -272.981385         21    bachelor's degree             0   \n",
      "24         1  338551.952911         57  secondary education             1   \n",
      "25         0  363548.489348         67  secondary education             1   \n",
      "26         0            NaN         41  secondary education             1   \n",
      "27         0    -529.191635         28    bachelor's degree             0   \n",
      "28         1    -717.274324         26    bachelor's degree             0   \n",
      "29         0            NaN         63  secondary education             1   \n",
      "\n",
      "        family_status  family_status_id gender    income_type  debt  \\\n",
      "0             married                 0      F       employee     0   \n",
      "1             married                 0      F       employee     0   \n",
      "2             married                 0      M       employee     0   \n",
      "3             married                 0      M       employee     0   \n",
      "4   civil partnership                 1      F        retiree     0   \n",
      "5   civil partnership                 1      M       business     0   \n",
      "6             married                 0      F       business     0   \n",
      "7             married                 0      M       employee     0   \n",
      "8   civil partnership                 1      F       employee     0   \n",
      "9             married                 0      M       employee     0   \n",
      "10            married                 0      M       business     0   \n",
      "11            married                 0      F       employee     0   \n",
      "12  civil partnership                 1      M        retiree     0   \n",
      "13            married                 0      F       employee     0   \n",
      "14  civil partnership                 1      F       business     1   \n",
      "15            married                 0      F       employee     0   \n",
      "16            married                 0      F       employee     0   \n",
      "17  civil partnership                 1      M       employee     0   \n",
      "18    widow / widower                 2      F        retiree     0   \n",
      "19           divorced                 3      F       employee     0   \n",
      "20            married                 0      M       employee     0   \n",
      "21  civil partnership                 1      F       employee     0   \n",
      "22  civil partnership                 1      F       employee     0   \n",
      "23  civil partnership                 1      M       employee     0   \n",
      "24          unmarried                 4      F        retiree     0   \n",
      "25            married                 0      M        retiree     0   \n",
      "26            married                 0      M  civil servant     0   \n",
      "27            married                 0      M       employee     0   \n",
      "28            married                 0      F       employee     0   \n",
      "29          unmarried                 4      F        retiree     0   \n",
      "\n",
      "    total_income                                   purpose  \n",
      "0      40620.102                     purchase of the house  \n",
      "1      17932.802                              car purchase  \n",
      "2      23341.752                     purchase of the house  \n",
      "3      42820.568                   supplementary education  \n",
      "4      25378.572                         to have a wedding  \n",
      "5      40922.170                     purchase of the house  \n",
      "6      38484.156                      housing transactions  \n",
      "7      21731.829                                 education  \n",
      "8      15337.093                          having a wedding  \n",
      "9      23108.150       purchase of the house for my family  \n",
      "10     18230.959                           buy real estate  \n",
      "11     12331.077                buy commercial real estate  \n",
      "12           NaN                         to have a wedding  \n",
      "13     20873.317                              car purchase  \n",
      "14     26420.466               buy residential real estate  \n",
      "15     18691.345              construction of own property  \n",
      "16     46272.433                                  property  \n",
      "17     14465.694                       building a property  \n",
      "18      9091.804                  buying a second-hand car  \n",
      "19     38852.977                         buying my own car  \n",
      "20     33528.423                                  property  \n",
      "21     21089.953                              car purchase  \n",
      "22     23948.983                  buying a second-hand car  \n",
      "23     20522.515                         to have a wedding  \n",
      "24     46487.558  transactions with commercial real estate  \n",
      "25      8818.041                           buy real estate  \n",
      "26           NaN                                 education  \n",
      "27     49415.837              construction of own property  \n",
      "28     30058.118              construction of own property  \n",
      "29           NaN                    building a real estate  \n"
     ]
    }
   ],
   "source": [
    "# Fix the registers if required\n",
    "credit_score[\"education\"] = credit_score[\"education\"].str.lower()\n",
    "print(credit_score[\"education\"])\n",
    "print(credit_score.head(30))\n"
   ]
  },
  {
   "cell_type": "code",
   "execution_count": 88,
   "metadata": {},
   "outputs": [
    {
     "name": "stdout",
     "output_type": "stream",
     "text": [
      "0          bachelor's degree\n",
      "1        secondary education\n",
      "2        secondary education\n",
      "3        secondary education\n",
      "4        secondary education\n",
      "                ...         \n",
      "21520    secondary education\n",
      "21521    secondary education\n",
      "21522    secondary education\n",
      "21523    secondary education\n",
      "21524    secondary education\n",
      "Name: education, Length: 21525, dtype: object\n"
     ]
    }
   ],
   "source": [
    "# Checking all the values in the column to make sure we fixed them\n",
    "print(credit_score[\"education\"])\n"
   ]
  },
  {
   "cell_type": "markdown",
   "metadata": {},
   "source": [
    "[Check the data the `children` column]"
   ]
  },
  {
   "cell_type": "code",
   "execution_count": 89,
   "metadata": {},
   "outputs": [
    {
     "name": "stdout",
     "output_type": "stream",
     "text": [
      " 0     14149\n",
      " 1      4818\n",
      " 2      2055\n",
      " 3       330\n",
      " 20       76\n",
      "-1        47\n",
      " 4        41\n",
      " 5         9\n",
      "Name: children, dtype: int64\n"
     ]
    }
   ],
   "source": [
    "# Let's see the distribution of values in the `children` column\n",
    "print(credit_score[\"children\"].value_counts())\n",
    "\n",
    "      "
   ]
  },
  {
   "cell_type": "markdown",
   "metadata": {},
   "source": [
    "[Are there any strange things in the column? If yes, how high is the percentage of problematic data? How could they have occurred? Make a decision on what you will do with this data and explain you reasoning.]\n",
    "Yes, there is one value that is equal to -1 children. This does not make sense. Since there are only 47/21525 rows with this erroneous value of children, it accounts for less than 1% of the data in the entire dataset. I think that this might have likely been due to error and that perhaps the intention was to assign the value as \"1\" instead of \"-1\". Thus, for value \"-1\" in the [\"children\"] column, I will simply change to \"1\" instead. "
   ]
  },
  {
   "cell_type": "code",
   "execution_count": 90,
   "metadata": {},
   "outputs": [],
   "source": [
    "# [fix the data based on your decision]\n",
    "#credit_score[\"children\"]= credit_score[\"children\"].drop()\n",
    "#neg = credit_score[credit_score['children'] == int(\"-1\")] \n",
    "#credit_score[credit_score[\"children\"]].drop(neg.index, inplace=True)\n",
    "\n",
    "credit_score.loc[credit_score['children'] == int(\"-1\"), 'children'] = int(\"1\")\n",
    "\n"
   ]
  },
  {
   "cell_type": "markdown",
   "metadata": {},
   "source": [
    "***Note to reviewer: Thank you, I will take note of this method as well."
   ]
  },
  {
   "cell_type": "markdown",
   "metadata": {},
   "source": [
    "***Note to reviewer: I will keep this in mind for next time. "
   ]
  },
  {
   "cell_type": "code",
   "execution_count": 91,
   "metadata": {},
   "outputs": [
    {
     "name": "stdout",
     "output_type": "stream",
     "text": [
      "0     14149\n",
      "1      4865\n",
      "2      2055\n",
      "3       330\n",
      "20       76\n",
      "4        41\n",
      "5         9\n",
      "Name: children, dtype: int64\n"
     ]
    }
   ],
   "source": [
    "# Checking the `children` column again to make sure it's all fixed\n",
    "print(credit_score[\"children\"].value_counts())\n"
   ]
  },
  {
   "cell_type": "markdown",
   "metadata": {},
   "source": [
    "All -1 values for [\"children\"] have been added to the 1 value"
   ]
  },
  {
   "cell_type": "markdown",
   "metadata": {},
   "source": [
    "[Check the data in the `days_employed` column. Firstly think about what kind of issues could there be and what you may want to check and how you will do it.]\n",
    "Key issues:\n",
    "-There are several rows where data is missing.\n",
    "-There are negative values for which its positive value might indicate how many days they are unemployed.\n",
    "Plan:\n",
    "I will change all negative values in [\"days_employed\"] column to positive values using .abs() method.\n",
    "Once I have determined which measure of central tendancy (median/mean) best represents the column, I will use it to fill in missing values.\n",
    "Finally, I will convert days in [\"days_employed\"] to months and create a new column called [\"months_employed\"], so that the column is more easy to compare."
   ]
  },
  {
   "cell_type": "code",
   "execution_count": 92,
   "metadata": {},
   "outputs": [
    {
     "name": "stdout",
     "output_type": "stream",
     "text": [
      "-327.685916     1\n",
      "-1580.622577    1\n",
      "-4122.460569    1\n",
      "-2828.237691    1\n",
      "-2636.090517    1\n",
      "               ..\n",
      "-7120.517564    1\n",
      "-2146.884040    1\n",
      "-881.454684     1\n",
      "-794.666350     1\n",
      "-3382.113891    1\n",
      "Name: days_employed, Length: 19351, dtype: int64\n"
     ]
    },
    {
     "data": {
      "text/html": [
       "<div>\n",
       "<style scoped>\n",
       "    .dataframe tbody tr th:only-of-type {\n",
       "        vertical-align: middle;\n",
       "    }\n",
       "\n",
       "    .dataframe tbody tr th {\n",
       "        vertical-align: top;\n",
       "    }\n",
       "\n",
       "    .dataframe thead th {\n",
       "        text-align: right;\n",
       "    }\n",
       "</style>\n",
       "<table border=\"1\" class=\"dataframe\">\n",
       "  <thead>\n",
       "    <tr style=\"text-align: right;\">\n",
       "      <th></th>\n",
       "      <th>children</th>\n",
       "      <th>days_employed</th>\n",
       "      <th>dob_years</th>\n",
       "      <th>education</th>\n",
       "      <th>education_id</th>\n",
       "      <th>family_status</th>\n",
       "      <th>family_status_id</th>\n",
       "      <th>gender</th>\n",
       "      <th>income_type</th>\n",
       "      <th>debt</th>\n",
       "      <th>total_income</th>\n",
       "      <th>purpose</th>\n",
       "    </tr>\n",
       "  </thead>\n",
       "  <tbody>\n",
       "    <tr>\n",
       "      <th>12</th>\n",
       "      <td>0</td>\n",
       "      <td>NaN</td>\n",
       "      <td>65</td>\n",
       "      <td>secondary education</td>\n",
       "      <td>1</td>\n",
       "      <td>civil partnership</td>\n",
       "      <td>1</td>\n",
       "      <td>M</td>\n",
       "      <td>retiree</td>\n",
       "      <td>0</td>\n",
       "      <td>NaN</td>\n",
       "      <td>to have a wedding</td>\n",
       "    </tr>\n",
       "    <tr>\n",
       "      <th>26</th>\n",
       "      <td>0</td>\n",
       "      <td>NaN</td>\n",
       "      <td>41</td>\n",
       "      <td>secondary education</td>\n",
       "      <td>1</td>\n",
       "      <td>married</td>\n",
       "      <td>0</td>\n",
       "      <td>M</td>\n",
       "      <td>civil servant</td>\n",
       "      <td>0</td>\n",
       "      <td>NaN</td>\n",
       "      <td>education</td>\n",
       "    </tr>\n",
       "    <tr>\n",
       "      <th>29</th>\n",
       "      <td>0</td>\n",
       "      <td>NaN</td>\n",
       "      <td>63</td>\n",
       "      <td>secondary education</td>\n",
       "      <td>1</td>\n",
       "      <td>unmarried</td>\n",
       "      <td>4</td>\n",
       "      <td>F</td>\n",
       "      <td>retiree</td>\n",
       "      <td>0</td>\n",
       "      <td>NaN</td>\n",
       "      <td>building a real estate</td>\n",
       "    </tr>\n",
       "    <tr>\n",
       "      <th>41</th>\n",
       "      <td>0</td>\n",
       "      <td>NaN</td>\n",
       "      <td>50</td>\n",
       "      <td>secondary education</td>\n",
       "      <td>1</td>\n",
       "      <td>married</td>\n",
       "      <td>0</td>\n",
       "      <td>F</td>\n",
       "      <td>civil servant</td>\n",
       "      <td>0</td>\n",
       "      <td>NaN</td>\n",
       "      <td>second-hand car purchase</td>\n",
       "    </tr>\n",
       "    <tr>\n",
       "      <th>55</th>\n",
       "      <td>0</td>\n",
       "      <td>NaN</td>\n",
       "      <td>54</td>\n",
       "      <td>secondary education</td>\n",
       "      <td>1</td>\n",
       "      <td>civil partnership</td>\n",
       "      <td>1</td>\n",
       "      <td>F</td>\n",
       "      <td>retiree</td>\n",
       "      <td>1</td>\n",
       "      <td>NaN</td>\n",
       "      <td>to have a wedding</td>\n",
       "    </tr>\n",
       "    <tr>\n",
       "      <th>...</th>\n",
       "      <td>...</td>\n",
       "      <td>...</td>\n",
       "      <td>...</td>\n",
       "      <td>...</td>\n",
       "      <td>...</td>\n",
       "      <td>...</td>\n",
       "      <td>...</td>\n",
       "      <td>...</td>\n",
       "      <td>...</td>\n",
       "      <td>...</td>\n",
       "      <td>...</td>\n",
       "      <td>...</td>\n",
       "    </tr>\n",
       "    <tr>\n",
       "      <th>21489</th>\n",
       "      <td>2</td>\n",
       "      <td>NaN</td>\n",
       "      <td>47</td>\n",
       "      <td>secondary education</td>\n",
       "      <td>1</td>\n",
       "      <td>married</td>\n",
       "      <td>0</td>\n",
       "      <td>M</td>\n",
       "      <td>business</td>\n",
       "      <td>0</td>\n",
       "      <td>NaN</td>\n",
       "      <td>purchase of a car</td>\n",
       "    </tr>\n",
       "    <tr>\n",
       "      <th>21495</th>\n",
       "      <td>1</td>\n",
       "      <td>NaN</td>\n",
       "      <td>50</td>\n",
       "      <td>secondary education</td>\n",
       "      <td>1</td>\n",
       "      <td>civil partnership</td>\n",
       "      <td>1</td>\n",
       "      <td>F</td>\n",
       "      <td>employee</td>\n",
       "      <td>0</td>\n",
       "      <td>NaN</td>\n",
       "      <td>wedding ceremony</td>\n",
       "    </tr>\n",
       "    <tr>\n",
       "      <th>21497</th>\n",
       "      <td>0</td>\n",
       "      <td>NaN</td>\n",
       "      <td>48</td>\n",
       "      <td>bachelor's degree</td>\n",
       "      <td>0</td>\n",
       "      <td>married</td>\n",
       "      <td>0</td>\n",
       "      <td>F</td>\n",
       "      <td>business</td>\n",
       "      <td>0</td>\n",
       "      <td>NaN</td>\n",
       "      <td>building a property</td>\n",
       "    </tr>\n",
       "    <tr>\n",
       "      <th>21502</th>\n",
       "      <td>1</td>\n",
       "      <td>NaN</td>\n",
       "      <td>42</td>\n",
       "      <td>secondary education</td>\n",
       "      <td>1</td>\n",
       "      <td>married</td>\n",
       "      <td>0</td>\n",
       "      <td>F</td>\n",
       "      <td>employee</td>\n",
       "      <td>0</td>\n",
       "      <td>NaN</td>\n",
       "      <td>building a real estate</td>\n",
       "    </tr>\n",
       "    <tr>\n",
       "      <th>21510</th>\n",
       "      <td>2</td>\n",
       "      <td>NaN</td>\n",
       "      <td>28</td>\n",
       "      <td>secondary education</td>\n",
       "      <td>1</td>\n",
       "      <td>married</td>\n",
       "      <td>0</td>\n",
       "      <td>F</td>\n",
       "      <td>employee</td>\n",
       "      <td>0</td>\n",
       "      <td>NaN</td>\n",
       "      <td>car purchase</td>\n",
       "    </tr>\n",
       "  </tbody>\n",
       "</table>\n",
       "<p>2174 rows × 12 columns</p>\n",
       "</div>"
      ],
      "text/plain": [
       "       children  days_employed  dob_years            education  education_id  \\\n",
       "12            0            NaN         65  secondary education             1   \n",
       "26            0            NaN         41  secondary education             1   \n",
       "29            0            NaN         63  secondary education             1   \n",
       "41            0            NaN         50  secondary education             1   \n",
       "55            0            NaN         54  secondary education             1   \n",
       "...         ...            ...        ...                  ...           ...   \n",
       "21489         2            NaN         47  secondary education             1   \n",
       "21495         1            NaN         50  secondary education             1   \n",
       "21497         0            NaN         48    bachelor's degree             0   \n",
       "21502         1            NaN         42  secondary education             1   \n",
       "21510         2            NaN         28  secondary education             1   \n",
       "\n",
       "           family_status  family_status_id gender    income_type  debt  \\\n",
       "12     civil partnership                 1      M        retiree     0   \n",
       "26               married                 0      M  civil servant     0   \n",
       "29             unmarried                 4      F        retiree     0   \n",
       "41               married                 0      F  civil servant     0   \n",
       "55     civil partnership                 1      F        retiree     1   \n",
       "...                  ...               ...    ...            ...   ...   \n",
       "21489            married                 0      M       business     0   \n",
       "21495  civil partnership                 1      F       employee     0   \n",
       "21497            married                 0      F       business     0   \n",
       "21502            married                 0      F       employee     0   \n",
       "21510            married                 0      F       employee     0   \n",
       "\n",
       "       total_income                   purpose  \n",
       "12              NaN         to have a wedding  \n",
       "26              NaN                 education  \n",
       "29              NaN    building a real estate  \n",
       "41              NaN  second-hand car purchase  \n",
       "55              NaN         to have a wedding  \n",
       "...             ...                       ...  \n",
       "21489           NaN         purchase of a car  \n",
       "21495           NaN          wedding ceremony  \n",
       "21497           NaN       building a property  \n",
       "21502           NaN    building a real estate  \n",
       "21510           NaN              car purchase  \n",
       "\n",
       "[2174 rows x 12 columns]"
      ]
     },
     "execution_count": 92,
     "metadata": {},
     "output_type": "execute_result"
    }
   ],
   "source": [
    "# Find problematic data in `days_employed`, if they exist, and calculate the percentage\n",
    "print(credit_score[\"days_employed\"].value_counts())\n",
    "credit_score.loc[(credit_score['days_employed'].isna())]\n"
   ]
  },
  {
   "cell_type": "markdown",
   "metadata": {},
   "source": [
    "[If the amount of problematic data is high, it could've been due to some technical issues. We may probably want to propose the most obvious reason why it could've happened and what the correct data might've been, as we can't drop these problematic rows.]\n"
   ]
  },
  {
   "cell_type": "code",
   "execution_count": 93,
   "metadata": {},
   "outputs": [
    {
     "name": "stdout",
     "output_type": "stream",
     "text": [
      "<class 'pandas.core.frame.DataFrame'>\n",
      "RangeIndex: 21525 entries, 0 to 21524\n",
      "Data columns (total 12 columns):\n",
      " #   Column            Non-Null Count  Dtype  \n",
      "---  ------            --------------  -----  \n",
      " 0   children          21525 non-null  int64  \n",
      " 1   days_employed     19351 non-null  float64\n",
      " 2   dob_years         21525 non-null  int64  \n",
      " 3   education         21525 non-null  object \n",
      " 4   education_id      21525 non-null  int64  \n",
      " 5   family_status     21525 non-null  object \n",
      " 6   family_status_id  21525 non-null  int64  \n",
      " 7   gender            21525 non-null  object \n",
      " 8   income_type       21525 non-null  object \n",
      " 9   debt              21525 non-null  int64  \n",
      " 10  total_income      19351 non-null  float64\n",
      " 11  purpose           21525 non-null  object \n",
      "dtypes: float64(2), int64(5), object(5)\n",
      "memory usage: 2.0+ MB\n"
     ]
    },
    {
     "data": {
      "text/plain": [
       "2174"
      ]
     },
     "execution_count": 93,
     "metadata": {},
     "output_type": "execute_result"
    }
   ],
   "source": [
    "# Address the problematic values, if they exist\n",
    "credit_score[\"days_employed\"]=credit_score[\"days_employed\"].abs()\n",
    "credit_score.info()\n",
    "credit_score[\"days_employed\"].isna().sum()\n"
   ]
  },
  {
   "cell_type": "code",
   "execution_count": 94,
   "metadata": {
    "scrolled": true
   },
   "outputs": [
    {
     "name": "stdout",
     "output_type": "stream",
     "text": [
      "0          8437.673028\n",
      "1          4024.803754\n",
      "2          5623.422610\n",
      "3          4124.747207\n",
      "4        340266.072047\n",
      "             ...      \n",
      "21520      4529.316663\n",
      "21521    343937.404131\n",
      "21522      2113.346888\n",
      "21523      3112.481705\n",
      "21524      1984.507589\n",
      "Name: days_employed, Length: 21525, dtype: float64\n",
      "137.46666666666667\n",
      "187.43333333333334\n",
      "11464.566666666668\n",
      "\n",
      "0          281.255768\n",
      "1          134.160125\n",
      "2          187.447420\n",
      "3          137.491574\n",
      "4        11342.202402\n",
      "             ...     \n",
      "21520      150.977222\n",
      "21521    11464.580138\n",
      "21522       70.444896\n",
      "21523      103.749390\n",
      "21524       66.150253\n",
      "Name: months_employed, Length: 21525, dtype: float64\n",
      "2174\n"
     ]
    },
    {
     "data": {
      "text/plain": [
       "children               0\n",
       "days_employed       2174\n",
       "dob_years              0\n",
       "education              0\n",
       "education_id           0\n",
       "family_status          0\n",
       "family_status_id       0\n",
       "gender                 0\n",
       "income_type            0\n",
       "debt                   0\n",
       "total_income        2174\n",
       "purpose                0\n",
       "months_employed     2174\n",
       "dtype: int64"
      ]
     },
     "execution_count": 94,
     "metadata": {},
     "output_type": "execute_result"
    }
   ],
   "source": [
    "# Check the result - make sure it's fixed\n",
    "print(credit_score[\"days_employed\"])\n",
    "def days_to_months(val):\n",
    "    val = val / 30\n",
    "    return val\n",
    "\n",
    "  \n",
    "\n",
    "print(days_to_months(4124))       \n",
    "print(days_to_months(5623))\n",
    "print(days_to_months(343937))\n",
    "\n",
    "print()\n",
    "\n",
    "credit_score[\"months_employed\"] = credit_score[\"days_employed\"].apply(days_to_months)\n",
    "\n",
    "print(credit_score[\"months_employed\"])\n",
    "print(credit_score[\"months_employed\"].isna().sum())\n",
    "credit_score.isna().sum()"
   ]
  },
  {
   "cell_type": "markdown",
   "metadata": {},
   "source": [
    "[Let's now look at the client's age and whether there are any issues there. Again, think about what can data can be strange in this column, i.e. what cannot be someone's age.]"
   ]
  },
  {
   "cell_type": "code",
   "execution_count": 95,
   "metadata": {
    "scrolled": true
   },
   "outputs": [
    {
     "name": "stdout",
     "output_type": "stream",
     "text": [
      "75      1\n",
      "74      6\n",
      "73      8\n",
      "19     14\n",
      "72     33\n",
      "20     51\n",
      "71     58\n",
      "70     65\n",
      "69     85\n",
      "68     99\n",
      "0     101\n",
      "21    111\n",
      "67    167\n",
      "22    183\n",
      "66    183\n",
      "65    194\n",
      "23    254\n",
      "24    264\n",
      "64    265\n",
      "63    269\n",
      "62    352\n",
      "61    355\n",
      "25    357\n",
      "60    377\n",
      "26    408\n",
      "55    443\n",
      "59    444\n",
      "51    448\n",
      "53    459\n",
      "57    460\n",
      "58    461\n",
      "46    475\n",
      "54    479\n",
      "47    480\n",
      "52    484\n",
      "56    487\n",
      "27    493\n",
      "45    497\n",
      "28    503\n",
      "49    508\n",
      "32    510\n",
      "43    513\n",
      "50    514\n",
      "37    537\n",
      "48    538\n",
      "30    540\n",
      "29    545\n",
      "44    547\n",
      "36    555\n",
      "31    560\n",
      "39    573\n",
      "33    581\n",
      "42    597\n",
      "38    598\n",
      "34    603\n",
      "41    607\n",
      "40    609\n",
      "35    617\n",
      "Name: dob_years, dtype: int64\n"
     ]
    }
   ],
   "source": [
    "# Check the `dob_years` for suspicious values and count the percentage\n",
    "age1 = credit_score[\"dob_years\"].value_counts()\n",
    "print(age1.sort_values())"
   ]
  },
  {
   "cell_type": "markdown",
   "metadata": {},
   "source": [
    "[Decide what you'll do with the problematic values and explain why.]\n",
    "There are 101 rows that report age of 0. In order to even apply for a loan, one must be 18 years or older. Instead of getting rid of these rows, I will try to salvage the data by averaging the age in the dataset and applying it to these rows. I choose to do this in order to save the data that we have in this dataset rather than discarding. After all, I don't anticipate that age will have an impact in whether or not a client will default on a loan, so changing the age to the average age will likely not have a significant impact on the results."
   ]
  },
  {
   "cell_type": "code",
   "execution_count": 96,
   "metadata": {},
   "outputs": [],
   "source": [
    "# Address the issues in the `dob_years` column, if they exist\n",
    "credit_score[\"dob_years\"].mean()\n",
    "credit_score.loc[credit_score[\"dob_years\"] == 0, \"dob_years\"] = int(43.27)"
   ]
  },
  {
   "cell_type": "code",
   "execution_count": 97,
   "metadata": {},
   "outputs": [
    {
     "name": "stdout",
     "output_type": "stream",
     "text": [
      "35    617\n",
      "43    614\n",
      "40    609\n",
      "41    607\n",
      "34    603\n",
      "38    598\n",
      "42    597\n",
      "33    581\n",
      "39    573\n",
      "31    560\n",
      "36    555\n",
      "44    547\n",
      "29    545\n",
      "30    540\n",
      "48    538\n",
      "37    537\n",
      "50    514\n",
      "32    510\n",
      "49    508\n",
      "28    503\n",
      "45    497\n",
      "27    493\n",
      "56    487\n",
      "52    484\n",
      "47    480\n",
      "54    479\n",
      "46    475\n",
      "58    461\n",
      "57    460\n",
      "53    459\n",
      "51    448\n",
      "59    444\n",
      "55    443\n",
      "26    408\n",
      "60    377\n",
      "25    357\n",
      "61    355\n",
      "62    352\n",
      "63    269\n",
      "64    265\n",
      "24    264\n",
      "23    254\n",
      "65    194\n",
      "22    183\n",
      "66    183\n",
      "67    167\n",
      "21    111\n",
      "68     99\n",
      "69     85\n",
      "70     65\n",
      "71     58\n",
      "20     51\n",
      "72     33\n",
      "19     14\n",
      "73      8\n",
      "74      6\n",
      "75      1\n",
      "Name: dob_years, dtype: int64\n"
     ]
    }
   ],
   "source": [
    "# Check the result - make sure it's fixed\n",
    "print(credit_score[\"dob_years\"].value_counts())"
   ]
  },
  {
   "cell_type": "markdown",
   "metadata": {},
   "source": [
    "[Now let's check the `family_status` column. See what kind of values there are and what problems you may need to address.]\n",
    "There do not seem to be any apparent issues with the values in the [\"family_status\"] column"
   ]
  },
  {
   "cell_type": "code",
   "execution_count": 98,
   "metadata": {},
   "outputs": [
    {
     "data": {
      "text/plain": [
       "married              12380\n",
       "civil partnership     4177\n",
       "unmarried             2813\n",
       "divorced              1195\n",
       "widow / widower        960\n",
       "Name: family_status, dtype: int64"
      ]
     },
     "execution_count": 98,
     "metadata": {},
     "output_type": "execute_result"
    }
   ],
   "source": [
    "# Let's see the values for the column\n",
    "credit_score[\"family_status\"].value_counts()\n"
   ]
  },
  {
   "cell_type": "code",
   "execution_count": 99,
   "metadata": {},
   "outputs": [],
   "source": [
    "# Address the problematic values in `family_status`, if they exist\n",
    "\n",
    "#I do not see any apparent issues. -Dina"
   ]
  },
  {
   "cell_type": "code",
   "execution_count": 100,
   "metadata": {},
   "outputs": [],
   "source": [
    "# Check the result - make sure it's fixed\n",
    "#No issues- Dina"
   ]
  },
  {
   "cell_type": "markdown",
   "metadata": {},
   "source": [
    "[Now let's check the `gender` column. See what kind of values there are and what problems you may need to address]\n",
    "There seems to be double the number of females than males in this dataset. I am unsure what \"XNA\" stands for, but since this gender category only has 1 row out of the entire dataset, it is probably a good idea to just get rid of it. "
   ]
  },
  {
   "cell_type": "code",
   "execution_count": 101,
   "metadata": {},
   "outputs": [
    {
     "data": {
      "text/html": [
       "<div>\n",
       "<style scoped>\n",
       "    .dataframe tbody tr th:only-of-type {\n",
       "        vertical-align: middle;\n",
       "    }\n",
       "\n",
       "    .dataframe tbody tr th {\n",
       "        vertical-align: top;\n",
       "    }\n",
       "\n",
       "    .dataframe thead th {\n",
       "        text-align: right;\n",
       "    }\n",
       "</style>\n",
       "<table border=\"1\" class=\"dataframe\">\n",
       "  <thead>\n",
       "    <tr style=\"text-align: right;\">\n",
       "      <th></th>\n",
       "      <th>children</th>\n",
       "      <th>days_employed</th>\n",
       "      <th>dob_years</th>\n",
       "      <th>education</th>\n",
       "      <th>education_id</th>\n",
       "      <th>family_status</th>\n",
       "      <th>family_status_id</th>\n",
       "      <th>gender</th>\n",
       "      <th>income_type</th>\n",
       "      <th>debt</th>\n",
       "      <th>total_income</th>\n",
       "      <th>purpose</th>\n",
       "      <th>months_employed</th>\n",
       "    </tr>\n",
       "  </thead>\n",
       "  <tbody>\n",
       "    <tr>\n",
       "      <th>10701</th>\n",
       "      <td>0</td>\n",
       "      <td>2358.600502</td>\n",
       "      <td>24</td>\n",
       "      <td>some college</td>\n",
       "      <td>2</td>\n",
       "      <td>civil partnership</td>\n",
       "      <td>1</td>\n",
       "      <td>XNA</td>\n",
       "      <td>business</td>\n",
       "      <td>0</td>\n",
       "      <td>32624.825</td>\n",
       "      <td>buy real estate</td>\n",
       "      <td>78.620017</td>\n",
       "    </tr>\n",
       "  </tbody>\n",
       "</table>\n",
       "</div>"
      ],
      "text/plain": [
       "       children  days_employed  dob_years     education  education_id  \\\n",
       "10701         0    2358.600502         24  some college             2   \n",
       "\n",
       "           family_status  family_status_id gender income_type  debt  \\\n",
       "10701  civil partnership                 1    XNA    business     0   \n",
       "\n",
       "       total_income          purpose  months_employed  \n",
       "10701     32624.825  buy real estate        78.620017  "
      ]
     },
     "execution_count": 101,
     "metadata": {},
     "output_type": "execute_result"
    }
   ],
   "source": [
    "# Let's see the values in the column\n",
    "credit_score[\"gender\"].value_counts()\n",
    "credit_score.loc[credit_score['gender']=='XNA']"
   ]
  },
  {
   "cell_type": "code",
   "execution_count": 102,
   "metadata": {},
   "outputs": [],
   "source": [
    "# Address the problematic values, if they exist\n",
    "credit_score.drop(10684, axis=0, inplace=True)"
   ]
  },
  {
   "cell_type": "code",
   "execution_count": 103,
   "metadata": {},
   "outputs": [
    {
     "data": {
      "text/plain": [
       "F      14235\n",
       "M       7288\n",
       "XNA        1\n",
       "Name: gender, dtype: int64"
      ]
     },
     "execution_count": 103,
     "metadata": {},
     "output_type": "execute_result"
    }
   ],
   "source": [
    "# Check the result - make sure it's fixed\n",
    "\n",
    "credit_score[\"gender\"].value_counts()"
   ]
  },
  {
   "cell_type": "markdown",
   "metadata": {},
   "source": [
    "[Now let's check the `income_type` column. See what kind of values there are and what problems you may need to address]\n",
    "The issue here is that there is such little data on the following columns : [\"unemployed\"], [\"entrepreneur\"], [\"paternity/maternity leave\" and [\"student\"].\n",
    "\n",
    "The goal is to analyze what factors MOST impact a client's likelihood to default on a loan. It is impossible to draw any conclusions about these values given that cumulatively they barely amount to 1% of the whole dataset. I think it is fair to say we can drop these rows."
   ]
  },
  {
   "cell_type": "code",
   "execution_count": 104,
   "metadata": {},
   "outputs": [
    {
     "data": {
      "text/plain": [
       "employee                       11119\n",
       "business                        5085\n",
       "retiree                         3855\n",
       "civil servant                   1459\n",
       "entrepreneur                       2\n",
       "unemployed                         2\n",
       "student                            1\n",
       "paternity / maternity leave        1\n",
       "Name: income_type, dtype: int64"
      ]
     },
     "execution_count": 104,
     "metadata": {},
     "output_type": "execute_result"
    }
   ],
   "source": [
    "# Let's see the values in the column\n",
    "credit_score[\"income_type\"].value_counts()"
   ]
  },
  {
   "cell_type": "code",
   "execution_count": 105,
   "metadata": {},
   "outputs": [],
   "source": [
    "# Address the problematic values, if they exist\n",
    "credit_score=credit_score.drop(credit_score.index[credit_score['income_type']=='unemployed'])\n",
    "credit_score=credit_score.drop(credit_score.index[credit_score['income_type']=='entrepreneur'])\n",
    "credit_score=credit_score.drop(credit_score.index[credit_score['income_type']=='paternity / maternity leave'])\n",
    "credit_score=credit_score.drop(credit_score.index[credit_score['income_type']=='student'])\n"
   ]
  },
  {
   "cell_type": "code",
   "execution_count": 106,
   "metadata": {},
   "outputs": [
    {
     "data": {
      "text/plain": [
       "employee         11119\n",
       "business          5085\n",
       "retiree           3855\n",
       "civil servant     1459\n",
       "Name: income_type, dtype: int64"
      ]
     },
     "execution_count": 106,
     "metadata": {},
     "output_type": "execute_result"
    }
   ],
   "source": [
    "# Check the result - make sure it's fixed\n",
    "credit_score[\"income_type\"].value_counts()"
   ]
  },
  {
   "cell_type": "markdown",
   "metadata": {},
   "source": [
    "[Now let's see if we have any duplicates in our data. If we do, you'll need to decide what you will do with them and explain why.]"
   ]
  },
  {
   "cell_type": "code",
   "execution_count": 107,
   "metadata": {},
   "outputs": [
    {
     "name": "stdout",
     "output_type": "stream",
     "text": [
      "       children  days_employed  dob_years            education  education_id  \\\n",
      "8853          1            NaN         23  secondary education             1   \n",
      "20297         1            NaN         23  secondary education             1   \n",
      "15892         0            NaN         23  secondary education             1   \n",
      "19321         0            NaN         23  secondary education             1   \n",
      "3452          0            NaN         29    bachelor's degree             0   \n",
      "18328         0            NaN         29    bachelor's degree             0   \n",
      "8629          1            NaN         30    bachelor's degree             0   \n",
      "21281         1            NaN         30    bachelor's degree             0   \n",
      "680           1            NaN         30    bachelor's degree             0   \n",
      "18349         1            NaN         30    bachelor's degree             0   \n",
      "4216          0            NaN         30  secondary education             1   \n",
      "6312          0            NaN         30  secondary education             1   \n",
      "8490          1            NaN         31  secondary education             1   \n",
      "13878         1            NaN         31  secondary education             1   \n",
      "12851         1            NaN         32    bachelor's degree             0   \n",
      "16904         1            NaN         32    bachelor's degree             0   \n",
      "3690          1            NaN         34    bachelor's degree             0   \n",
      "4182          1            NaN         34    bachelor's degree             0   \n",
      "9037          2            NaN         34  secondary education             1   \n",
      "9238          2            NaN         34  secondary education             1   \n",
      "520           0            NaN         35  secondary education             1   \n",
      "13773         0            NaN         35  secondary education             1   \n",
      "9013          2            NaN         36    bachelor's degree             0   \n",
      "14432         2            NaN         36    bachelor's degree             0   \n",
      "8886          1            NaN         37  secondary education             1   \n",
      "12375         1            NaN         37  secondary education             1   \n",
      "9374          0            NaN         38    bachelor's degree             0   \n",
      "19387         0            NaN         38    bachelor's degree             0   \n",
      "11033         2            NaN         39  secondary education             1   \n",
      "16902         2            NaN         39  secondary education             1   \n",
      "4081          1            NaN         40  secondary education             1   \n",
      "17774         1            NaN         40  secondary education             1   \n",
      "5124          0            NaN         40  secondary education             1   \n",
      "10697         0            NaN         40  secondary education             1   \n",
      "1431          0            NaN         41  secondary education             1   \n",
      "2849          0            NaN         41  secondary education             1   \n",
      "3395          0            NaN         41  secondary education             1   \n",
      "19559         0            NaN         41  secondary education             1   \n",
      "13712         0            NaN         42  secondary education             1   \n",
      "20165         0            NaN         42  secondary education             1   \n",
      "5394          1            NaN         43  secondary education             1   \n",
      "17755         1            NaN         43  secondary education             1   \n",
      "9739          0            NaN         44  secondary education             1   \n",
      "13942         0            NaN         44  secondary education             1   \n",
      "11702         1            NaN         44  secondary education             1   \n",
      "13025         1            NaN         44  secondary education             1   \n",
      "16148         0            NaN         45  secondary education             1   \n",
      "19369         0            NaN         45  secondary education             1   \n",
      "9748          0            NaN         46  secondary education             1   \n",
      "14728         0            NaN         46  secondary education             1   \n",
      "9009          0            NaN         46  secondary education             1   \n",
      "19184         0            NaN         46  secondary education             1   \n",
      "120           0            NaN         46  secondary education             1   \n",
      "16378         0            NaN         46  secondary education             1   \n",
      "9900          0            NaN         47  secondary education             1   \n",
      "11791         0            NaN         47  secondary education             1   \n",
      "11838         0            NaN         47  secondary education             1   \n",
      "16176         0            NaN         47  secondary education             1   \n",
      "21132         0            NaN         47  secondary education             1   \n",
      "13857         0            NaN         48  secondary education             1   \n",
      "14097         0            NaN         48  secondary education             1   \n",
      "4508          0            NaN         48  secondary education             1   \n",
      "19832         0            NaN         48  secondary education             1   \n",
      "12215         0            NaN         50  secondary education             1   \n",
      "14832         0            NaN         50  secondary education             1   \n",
      "9920          0            NaN         51  secondary education             1   \n",
      "15991         0            NaN         51  secondary education             1   \n",
      "7749          0            NaN         51  secondary education             1   \n",
      "19295         0            NaN         51  secondary education             1   \n",
      "2254          0            NaN         54    bachelor's degree             0   \n",
      "17379         0            NaN         54    bachelor's degree             0   \n",
      "17787         0            NaN         54  secondary education             1   \n",
      "21415         0            NaN         54  secondary education             1   \n",
      "3111          0            NaN         54  secondary education             1   \n",
      "18563         0            NaN         54  secondary education             1   \n",
      "17291         0            NaN         56  secondary education             1   \n",
      "19041         0            NaN         56  secondary education             1   \n",
      "11443         0            NaN         56  secondary education             1   \n",
      "18521         0            NaN         56  secondary education             1   \n",
      "13300         0            NaN         56  secondary education             1   \n",
      "16204         0            NaN         56  secondary education             1   \n",
      "3344          0            NaN         56  secondary education             1   \n",
      "9627          0            NaN         56  secondary education             1   \n",
      "1681          0            NaN         57  secondary education             1   \n",
      "7808          0            NaN         57  secondary education             1   \n",
      "4529          0            NaN         57  secondary education             1   \n",
      "7995          0            NaN         57  secondary education             1   \n",
      "15273         0            NaN         57  secondary education             1   \n",
      "20116         0            NaN         57  secondary education             1   \n",
      "541           0            NaN         57  secondary education             1   \n",
      "19946         0            NaN         57  secondary education             1   \n",
      "1511          0            NaN         58    bachelor's degree             0   \n",
      "8583          0            NaN         58    bachelor's degree             0   \n",
      "11950         0            NaN         58  secondary education             1   \n",
      "15091         0            NaN         58  secondary education             1   \n",
      "20662         0            NaN         58  secondary education             1   \n",
      "2052          0            NaN         58  secondary education             1   \n",
      "3290          0            NaN         58  secondary education             1   \n",
      "5557          0            NaN         58  secondary education             1   \n",
      "8015          0            NaN         58  secondary education             1   \n",
      "12373         0            NaN         58  secondary education             1   \n",
      "12393         0            NaN         58  secondary education             1   \n",
      "18755         0            NaN         58  secondary education             1   \n",
      "10796         0            NaN         59  secondary education             1   \n",
      "12736         0            NaN         59  secondary education             1   \n",
      "2596          0            NaN         60  secondary education             1   \n",
      "4851          0            NaN         60  secondary education             1   \n",
      "554           0            NaN         60  secondary education             1   \n",
      "15188         0            NaN         60  secondary education             1   \n",
      "2545          0            NaN         60  secondary education             1   \n",
      "21032         0            NaN         60  secondary education             1   \n",
      "1191          0            NaN         61  secondary education             1   \n",
      "19688         0            NaN         61  secondary education             1   \n",
      "3378          0            NaN         62  secondary education             1   \n",
      "10462         0            NaN         62  secondary education             1   \n",
      "1005          0            NaN         62  secondary education             1   \n",
      "10864         0            NaN         62  secondary education             1   \n",
      "10994         0            NaN         62  secondary education             1   \n",
      "6877          0            NaN         62  secondary education             1   \n",
      "9855          0            NaN         62  secondary education             1   \n",
      "7313          0            NaN         64    bachelor's degree             0   \n",
      "7921          0            NaN         64    bachelor's degree             0   \n",
      "6674          0            NaN         64  secondary education             1   \n",
      "17338         0            NaN         64  secondary education             1   \n",
      "8178          0            NaN         64  secondary education             1   \n",
      "13639         0            NaN         64  secondary education             1   \n",
      "3609          0            NaN         64  secondary education             1   \n",
      "18428         0            NaN         64  secondary education             1   \n",
      "12389         0            NaN         64  secondary education             1   \n",
      "20702         0            NaN         64  secondary education             1   \n",
      "13035         0            NaN         65  secondary education             1   \n",
      "20187         0            NaN         65  secondary education             1   \n",
      "5865          0            NaN         66  secondary education             1   \n",
      "9528          0            NaN         66  secondary education             1   \n",
      "6537          0            NaN         71  secondary education             1   \n",
      "7938          0            NaN         71  secondary education             1   \n",
      "9604          0            NaN         71  secondary education             1   \n",
      "\n",
      "           family_status  family_status_id gender    income_type  debt  \\\n",
      "8853   civil partnership                 1      F       employee     0   \n",
      "20297  civil partnership                 1      F       employee     0   \n",
      "15892          unmarried                 4      F       employee     0   \n",
      "19321          unmarried                 4      F       employee     0   \n",
      "3452             married                 0      M       employee     0   \n",
      "18328            married                 0      M       employee     0   \n",
      "8629             married                 0      F       employee     0   \n",
      "21281            married                 0      F       employee     0   \n",
      "680              married                 0      F  civil servant     0   \n",
      "18349            married                 0      F  civil servant     0   \n",
      "4216             married                 0      M       employee     0   \n",
      "6312             married                 0      M       employee     0   \n",
      "8490             married                 0      F       business     0   \n",
      "13878            married                 0      F       business     0   \n",
      "12851            married                 0      F       employee     0   \n",
      "16904            married                 0      F       employee     0   \n",
      "3690   civil partnership                 1      F       employee     0   \n",
      "4182   civil partnership                 1      F       employee     0   \n",
      "9037             married                 0      F       employee     0   \n",
      "9238             married                 0      F       employee     0   \n",
      "520    civil partnership                 1      F       employee     0   \n",
      "13773  civil partnership                 1      F       employee     0   \n",
      "9013             married                 0      F  civil servant     0   \n",
      "14432            married                 0      F  civil servant     0   \n",
      "8886             married                 0      F       employee     0   \n",
      "12375            married                 0      F       employee     0   \n",
      "9374   civil partnership                 1      F       business     0   \n",
      "19387  civil partnership                 1      F       business     0   \n",
      "11033  civil partnership                 1      F       employee     0   \n",
      "16902  civil partnership                 1      F       employee     0   \n",
      "4081   civil partnership                 1      F       business     0   \n",
      "17774  civil partnership                 1      F       business     0   \n",
      "5124   civil partnership                 1      F       business     0   \n",
      "10697  civil partnership                 1      F       business     0   \n",
      "1431             married                 0      F       employee     0   \n",
      "2849             married                 0      F       employee     0   \n",
      "3395             married                 0      F       employee     0   \n",
      "19559            married                 0      F       employee     0   \n",
      "13712            married                 0      F       employee     0   \n",
      "20165            married                 0      F       employee     0   \n",
      "5394             married                 0      M       employee     0   \n",
      "17755            married                 0      M       employee     0   \n",
      "9739             married                 0      F       employee     0   \n",
      "13942            married                 0      F       employee     0   \n",
      "11702            married                 0      F       employee     0   \n",
      "13025            married                 0      F       employee     0   \n",
      "16148  civil partnership                 1      F       business     0   \n",
      "19369  civil partnership                 1      F       business     0   \n",
      "9748   civil partnership                 1      F       employee     0   \n",
      "14728  civil partnership                 1      F       employee     0   \n",
      "9009             married                 0      F       employee     0   \n",
      "19184            married                 0      F       employee     0   \n",
      "120              married                 0      F       employee     0   \n",
      "16378            married                 0      F       employee     0   \n",
      "9900             married                 0      F       employee     0   \n",
      "11791            married                 0      F       employee     0   \n",
      "11838            married                 0      F       employee     0   \n",
      "16176            married                 0      F       employee     0   \n",
      "21132            married                 0      F       employee     0   \n",
      "13857  civil partnership                 1      F       employee     0   \n",
      "14097  civil partnership                 1      F       employee     0   \n",
      "4508             married                 0      F       employee     0   \n",
      "19832            married                 0      F       employee     0   \n",
      "12215          unmarried                 4      F       employee     0   \n",
      "14832          unmarried                 4      F       employee     0   \n",
      "9920   civil partnership                 1      F       business     0   \n",
      "15991  civil partnership                 1      F       business     0   \n",
      "7749             married                 0      F       employee     0   \n",
      "19295            married                 0      F       employee     0   \n",
      "2254             married                 0      M       business     0   \n",
      "17379            married                 0      M       business     0   \n",
      "17787            married                 0      F        retiree     0   \n",
      "21415            married                 0      F        retiree     0   \n",
      "3111             married                 0      F       employee     0   \n",
      "18563            married                 0      F       employee     0   \n",
      "17291  civil partnership                 1      F       employee     0   \n",
      "19041  civil partnership                 1      F       employee     0   \n",
      "11443  civil partnership                 1      F       employee     0   \n",
      "18521  civil partnership                 1      F       employee     0   \n",
      "13300            married                 0      F        retiree     0   \n",
      "16204            married                 0      F        retiree     0   \n",
      "3344             married                 0      F        retiree     0   \n",
      "9627             married                 0      F        retiree     0   \n",
      "1681   civil partnership                 1      F        retiree     0   \n",
      "7808   civil partnership                 1      F        retiree     0   \n",
      "4529   civil partnership                 1      M        retiree     0   \n",
      "7995   civil partnership                 1      F        retiree     0   \n",
      "15273  civil partnership                 1      F        retiree     0   \n",
      "20116  civil partnership                 1      M        retiree     0   \n",
      "541              married                 0      F       employee     0   \n",
      "19946            married                 0      F       employee     0   \n",
      "1511           unmarried                 4      F        retiree     0   \n",
      "8583           unmarried                 4      F        retiree     0   \n",
      "11950  civil partnership                 1      M       employee     0   \n",
      "15091  civil partnership                 1      M       employee     0   \n",
      "20662  civil partnership                 1      M       employee     0   \n",
      "2052   civil partnership                 1      F        retiree     0   \n",
      "3290   civil partnership                 1      F        retiree     0   \n",
      "5557   civil partnership                 1      F        retiree     0   \n",
      "8015             married                 0      M       employee     0   \n",
      "12373            married                 0      M       employee     0   \n",
      "12393            married                 0      F        retiree     0   \n",
      "18755            married                 0      F        retiree     0   \n",
      "10796            married                 0      F        retiree     0   \n",
      "12736            married                 0      F        retiree     0   \n",
      "2596   civil partnership                 1      F        retiree     0   \n",
      "4851   civil partnership                 1      F        retiree     0   \n",
      "554              married                 0      M       employee     0   \n",
      "15188            married                 0      M       employee     0   \n",
      "2545             married                 0      F        retiree     0   \n",
      "21032            married                 0      F        retiree     0   \n",
      "1191             married                 0      F        retiree     0   \n",
      "19688            married                 0      F        retiree     0   \n",
      "3378             married                 0      F        retiree     0   \n",
      "10462            married                 0      F        retiree     0   \n",
      "1005             married                 0      F        retiree     0   \n",
      "10864            married                 0      F        retiree     0   \n",
      "10994            married                 0      F        retiree     0   \n",
      "6877             married                 0      F        retiree     0   \n",
      "9855             married                 0      F        retiree     0   \n",
      "7313   civil partnership                 1      F        retiree     0   \n",
      "7921   civil partnership                 1      F        retiree     0   \n",
      "6674   civil partnership                 1      F        retiree     0   \n",
      "17338  civil partnership                 1      F        retiree     0   \n",
      "8178             married                 0      F        retiree     0   \n",
      "13639            married                 0      F        retiree     0   \n",
      "3609             married                 0      F        retiree     0   \n",
      "18428            married                 0      F        retiree     0   \n",
      "12389            married                 0      F        retiree     0   \n",
      "20702            married                 0      F        retiree     0   \n",
      "13035  civil partnership                 1      F        retiree     0   \n",
      "20187  civil partnership                 1      F        retiree     0   \n",
      "5865     widow / widower                 2      F        retiree     0   \n",
      "9528     widow / widower                 2      F        retiree     0   \n",
      "6537   civil partnership                 1      F        retiree     0   \n",
      "7938   civil partnership                 1      F        retiree     0   \n",
      "9604   civil partnership                 1      F        retiree     0   \n",
      "\n",
      "       total_income                                   purpose  months_employed  \n",
      "8853            NaN                         to have a wedding              NaN  \n",
      "20297           NaN                         to have a wedding              NaN  \n",
      "15892           NaN                  second-hand car purchase              NaN  \n",
      "19321           NaN                  second-hand car purchase              NaN  \n",
      "3452            NaN               buy residential real estate              NaN  \n",
      "18328           NaN               buy residential real estate              NaN  \n",
      "8629            NaN                buy commercial real estate              NaN  \n",
      "21281           NaN                buy commercial real estate              NaN  \n",
      "680             NaN       purchase of the house for my family              NaN  \n",
      "18349           NaN       purchase of the house for my family              NaN  \n",
      "4216            NaN                    building a real estate              NaN  \n",
      "6312            NaN                    building a real estate              NaN  \n",
      "8490            NaN                     purchase of the house              NaN  \n",
      "13878           NaN                     purchase of the house              NaN  \n",
      "12851           NaN                  buying a second-hand car              NaN  \n",
      "16904           NaN                  buying a second-hand car              NaN  \n",
      "3690            NaN                          wedding ceremony              NaN  \n",
      "4182            NaN                          wedding ceremony              NaN  \n",
      "9037            NaN           buying property for renting out              NaN  \n",
      "9238            NaN           buying property for renting out              NaN  \n",
      "520             NaN                         to have a wedding              NaN  \n",
      "13773           NaN                         to have a wedding              NaN  \n",
      "9013            NaN                      getting an education              NaN  \n",
      "14432           NaN                      getting an education              NaN  \n",
      "8886            NaN                           buy real estate              NaN  \n",
      "12375           NaN                           buy real estate              NaN  \n",
      "9374            NaN                          having a wedding              NaN  \n",
      "19387           NaN                          having a wedding              NaN  \n",
      "11033           NaN                         to have a wedding              NaN  \n",
      "16902           NaN                         to have a wedding              NaN  \n",
      "4081            NaN                    building a real estate              NaN  \n",
      "17774           NaN                    building a real estate              NaN  \n",
      "5124            NaN                         to have a wedding              NaN  \n",
      "10697           NaN                         to have a wedding              NaN  \n",
      "1431            NaN       purchase of the house for my family              NaN  \n",
      "2849            NaN       purchase of the house for my family              NaN  \n",
      "3395            NaN                              to own a car              NaN  \n",
      "19559           NaN                              to own a car              NaN  \n",
      "13712           NaN       purchase of the house for my family              NaN  \n",
      "20165           NaN       purchase of the house for my family              NaN  \n",
      "5394            NaN                        to become educated              NaN  \n",
      "17755           NaN                        to become educated              NaN  \n",
      "9739            NaN                              car purchase              NaN  \n",
      "13942           NaN                              car purchase              NaN  \n",
      "11702           NaN                  second-hand car purchase              NaN  \n",
      "13025           NaN                  second-hand car purchase              NaN  \n",
      "16148           NaN                          wedding ceremony              NaN  \n",
      "19369           NaN                          wedding ceremony              NaN  \n",
      "9748            NaN           buying property for renting out              NaN  \n",
      "14728           NaN           buying property for renting out              NaN  \n",
      "9009            NaN                              to own a car              NaN  \n",
      "19184           NaN                              to own a car              NaN  \n",
      "120             NaN                      university education              NaN  \n",
      "16378           NaN                      university education              NaN  \n",
      "9900            NaN                       building a property              NaN  \n",
      "11791           NaN                       building a property              NaN  \n",
      "11838           NaN                        housing renovation              NaN  \n",
      "16176           NaN                        housing renovation              NaN  \n",
      "21132           NaN                        housing renovation              NaN  \n",
      "13857           NaN                          wedding ceremony              NaN  \n",
      "14097           NaN                          wedding ceremony              NaN  \n",
      "4508            NaN                        housing renovation              NaN  \n",
      "19832           NaN                        housing renovation              NaN  \n",
      "12215           NaN                                  property              NaN  \n",
      "14832           NaN                                  property              NaN  \n",
      "9920            NaN                          having a wedding              NaN  \n",
      "15991           NaN                          having a wedding              NaN  \n",
      "7749            NaN                buy commercial real estate              NaN  \n",
      "19295           NaN                buy commercial real estate              NaN  \n",
      "2254            NaN  transactions with commercial real estate              NaN  \n",
      "17379           NaN  transactions with commercial real estate              NaN  \n",
      "17787           NaN                      housing transactions              NaN  \n",
      "21415           NaN                      housing transactions              NaN  \n",
      "3111            NaN          transactions with my real estate              NaN  \n",
      "18563           NaN          transactions with my real estate              NaN  \n",
      "17291           NaN                          having a wedding              NaN  \n",
      "19041           NaN                          having a wedding              NaN  \n",
      "11443           NaN                         to have a wedding              NaN  \n",
      "18521           NaN                         to have a wedding              NaN  \n",
      "13300           NaN                              to buy a car              NaN  \n",
      "16204           NaN                              to buy a car              NaN  \n",
      "3344            NaN          transactions with my real estate              NaN  \n",
      "9627            NaN          transactions with my real estate              NaN  \n",
      "1681            NaN                          having a wedding              NaN  \n",
      "7808            NaN                          having a wedding              NaN  \n",
      "4529            NaN                          wedding ceremony              NaN  \n",
      "7995            NaN                          wedding ceremony              NaN  \n",
      "15273           NaN                          wedding ceremony              NaN  \n",
      "20116           NaN                          wedding ceremony              NaN  \n",
      "541             NaN                  second-hand car purchase              NaN  \n",
      "19946           NaN                  second-hand car purchase              NaN  \n",
      "1511            NaN                   supplementary education              NaN  \n",
      "8583            NaN                   supplementary education              NaN  \n",
      "11950           NaN                          having a wedding              NaN  \n",
      "15091           NaN                          having a wedding              NaN  \n",
      "20662           NaN                          having a wedding              NaN  \n",
      "2052            NaN                         to have a wedding              NaN  \n",
      "3290            NaN                         to have a wedding              NaN  \n",
      "5557            NaN                         to have a wedding              NaN  \n",
      "8015            NaN                           buy real estate              NaN  \n",
      "12373           NaN                           buy real estate              NaN  \n",
      "12393           NaN                        to become educated              NaN  \n",
      "18755           NaN                        to become educated              NaN  \n",
      "10796           NaN                        to become educated              NaN  \n",
      "12736           NaN                        to become educated              NaN  \n",
      "2596            NaN                          wedding ceremony              NaN  \n",
      "4851            NaN                          wedding ceremony              NaN  \n",
      "554             NaN                           buy real estate              NaN  \n",
      "15188           NaN                           buy real estate              NaN  \n",
      "2545            NaN                        to become educated              NaN  \n",
      "21032           NaN                        to become educated              NaN  \n",
      "1191            NaN                  real estate transactions              NaN  \n",
      "19688           NaN                  real estate transactions              NaN  \n",
      "3378            NaN                buy commercial real estate              NaN  \n",
      "10462           NaN                buy commercial real estate              NaN  \n",
      "1005            NaN                        housing renovation              NaN  \n",
      "10864           NaN                        housing renovation              NaN  \n",
      "10994           NaN                        housing renovation              NaN  \n",
      "6877            NaN          to get a supplementary education              NaN  \n",
      "9855            NaN          to get a supplementary education              NaN  \n",
      "7313            NaN                          having a wedding              NaN  \n",
      "7921            NaN                          having a wedding              NaN  \n",
      "6674            NaN                         to have a wedding              NaN  \n",
      "17338           NaN                         to have a wedding              NaN  \n",
      "8178            NaN                                       car              NaN  \n",
      "13639           NaN                                       car              NaN  \n",
      "3609            NaN                                   housing              NaN  \n",
      "18428           NaN                                   housing              NaN  \n",
      "12389           NaN                   supplementary education              NaN  \n",
      "20702           NaN                   supplementary education              NaN  \n",
      "13035           NaN                         to have a wedding              NaN  \n",
      "20187           NaN                         to have a wedding              NaN  \n",
      "5865            NaN          transactions with my real estate              NaN  \n",
      "9528            NaN          transactions with my real estate              NaN  \n",
      "6537            NaN                          having a wedding              NaN  \n",
      "7938            NaN                          having a wedding              NaN  \n",
      "9604            NaN                          having a wedding              NaN  \n"
     ]
    }
   ],
   "source": [
    "# Checking duplicates\n",
    "#credit_score.duplicated().sum()\n",
    "pd.set_option('display.max_rows', 200)\n",
    "print(credit_score[credit_score.duplicated(keep=False)].sort_values(by=[\"dob_years\", \"education\", \"family_status\", \"purpose\" ]))"
   ]
  },
  {
   "cell_type": "code",
   "execution_count": 108,
   "metadata": {
    "scrolled": true
   },
   "outputs": [],
   "source": [
    "# Address the duplicates, if they exist\n",
    "credit_score[credit_score.duplicated(keep=False)].sort_values(by=[\"dob_years\", \"education\", \"family_status\", \"purpose\" ])\n",
    "credit_score=credit_score.drop_duplicates().reset_index(drop=True)"
   ]
  },
  {
   "cell_type": "code",
   "execution_count": 109,
   "metadata": {},
   "outputs": [
    {
     "data": {
      "text/html": [
       "<div>\n",
       "<style scoped>\n",
       "    .dataframe tbody tr th:only-of-type {\n",
       "        vertical-align: middle;\n",
       "    }\n",
       "\n",
       "    .dataframe tbody tr th {\n",
       "        vertical-align: top;\n",
       "    }\n",
       "\n",
       "    .dataframe thead th {\n",
       "        text-align: right;\n",
       "    }\n",
       "</style>\n",
       "<table border=\"1\" class=\"dataframe\">\n",
       "  <thead>\n",
       "    <tr style=\"text-align: right;\">\n",
       "      <th></th>\n",
       "      <th>children</th>\n",
       "      <th>days_employed</th>\n",
       "      <th>dob_years</th>\n",
       "      <th>education</th>\n",
       "      <th>education_id</th>\n",
       "      <th>family_status</th>\n",
       "      <th>family_status_id</th>\n",
       "      <th>gender</th>\n",
       "      <th>income_type</th>\n",
       "      <th>debt</th>\n",
       "      <th>total_income</th>\n",
       "      <th>purpose</th>\n",
       "      <th>months_employed</th>\n",
       "    </tr>\n",
       "  </thead>\n",
       "  <tbody>\n",
       "  </tbody>\n",
       "</table>\n",
       "</div>"
      ],
      "text/plain": [
       "Empty DataFrame\n",
       "Columns: [children, days_employed, dob_years, education, education_id, family_status, family_status_id, gender, income_type, debt, total_income, purpose, months_employed]\n",
       "Index: []"
      ]
     },
     "execution_count": 109,
     "metadata": {},
     "output_type": "execute_result"
    }
   ],
   "source": [
    "# Last check whether we have any duplicates\n",
    "\n",
    "credit_score[credit_score.duplicated(keep=False)].sort_values(by=[\"dob_years\", \"education\", \"family_status\", \"purpose\" ])"
   ]
  },
  {
   "cell_type": "markdown",
   "metadata": {},
   "source": [
    "The table is empty above, which indicates that all duplicates have been dropped."
   ]
  },
  {
   "cell_type": "code",
   "execution_count": 110,
   "metadata": {},
   "outputs": [
    {
     "name": "stdout",
     "output_type": "stream",
     "text": [
      "<class 'pandas.core.frame.DataFrame'>\n",
      "RangeIndex: 21447 entries, 0 to 21446\n",
      "Data columns (total 13 columns):\n",
      " #   Column            Non-Null Count  Dtype  \n",
      "---  ------            --------------  -----  \n",
      " 0   children          21447 non-null  int64  \n",
      " 1   days_employed     19345 non-null  float64\n",
      " 2   dob_years         21447 non-null  int64  \n",
      " 3   education         21447 non-null  object \n",
      " 4   education_id      21447 non-null  int64  \n",
      " 5   family_status     21447 non-null  object \n",
      " 6   family_status_id  21447 non-null  int64  \n",
      " 7   gender            21447 non-null  object \n",
      " 8   income_type       21447 non-null  object \n",
      " 9   debt              21447 non-null  int64  \n",
      " 10  total_income      19345 non-null  float64\n",
      " 11  purpose           21447 non-null  object \n",
      " 12  months_employed   19345 non-null  float64\n",
      "dtypes: float64(3), int64(5), object(5)\n",
      "memory usage: 2.1+ MB\n"
     ]
    }
   ],
   "source": [
    "# Check the size of the dataset that you now have after your first manipulations with it\n",
    "credit_score.info()"
   ]
  },
  {
   "cell_type": "markdown",
   "metadata": {},
   "source": [
    "[Describe your new dataset: briefly say what's changed and what's the percentage of the changes, if there were any.]\n",
    "The new dataset has been reduced by 71 rows, which were all duplicates. The new dataset now contains a total of 21454 rows. This means that .329% of the data has been dropped."
   ]
  },
  {
   "cell_type": "markdown",
   "metadata": {},
   "source": [
    "# Working with missing values"
   ]
  },
  {
   "cell_type": "markdown",
   "metadata": {},
   "source": [
    "[To speed up working with some data, you may want to work with dictionaries for some values, where IDs are provided. Explain why and which dictionaries you will work with.]"
   ]
  },
  {
   "cell_type": "code",
   "execution_count": 111,
   "metadata": {},
   "outputs": [
    {
     "name": "stdout",
     "output_type": "stream",
     "text": [
      "{'married': 0, 'civil partnership': 1, 'widow / widower': 2, 'divorced': 3, 'unmarried': 4}\n",
      "{\"bachelor's degree\": 0, 'secondary education': 1, 'some college': 2, 'primary education': 3, 'graduate degree': 4}\n"
     ]
    }
   ],
   "source": [
    "# Find the dictionaries\n",
    "print(dict(zip(credit_score.family_status, credit_score.family_status_id)))\n",
    "print(dict(zip(credit_score.education, credit_score.education_id)))"
   ]
  },
  {
   "cell_type": "markdown",
   "metadata": {},
   "source": [
    "### Restoring missing values in `total_income`"
   ]
  },
  {
   "cell_type": "markdown",
   "metadata": {},
   "source": [
    "[Briefly state which column(s) have values missing that you need to address. Explain how you will fix them.]\n",
    "\n",
    "\n",
    "[Start with addressing total income missing values. Create and age category for clients. Create a new column with the age category. This strategy can help with calculating values for the total income.]\n"
   ]
  },
  {
   "cell_type": "code",
   "execution_count": 112,
   "metadata": {},
   "outputs": [],
   "source": [
    "# Let's write a function that calculates the age category\n",
    "def age_category(age):\n",
    "    if age <= 18:\n",
    "        return 'unqualified for loan'\n",
    "    if 18 <= age <= 25:\n",
    "        return \"18-25\"\n",
    "    if 26 <= age <= 35:\n",
    "        return \"26-35\"\n",
    "    if 36 <= age <= 45:\n",
    "        return \"36-45\"\n",
    "    if 46 <= age <= 55:\n",
    "        return \"46-55\"\n",
    "    if 56 <= age <= 65:\n",
    "        return \"56-65\"\n",
    "    if 66 <= age <=77:\n",
    "        return \"66-77\"\n",
    "        "
   ]
  },
  {
   "cell_type": "code",
   "execution_count": 113,
   "metadata": {},
   "outputs": [
    {
     "data": {
      "text/plain": [
       "'unqualified for loan'"
      ]
     },
     "execution_count": 113,
     "metadata": {},
     "output_type": "execute_result"
    }
   ],
   "source": [
    "# Test if the function works\n",
    "age_category(15)"
   ]
  },
  {
   "cell_type": "markdown",
   "metadata": {},
   "source": [
    "The function works!"
   ]
  },
  {
   "cell_type": "code",
   "execution_count": 114,
   "metadata": {},
   "outputs": [],
   "source": [
    "# Creating new column based on function\n",
    "credit_score[\"age_categories\"]=credit_score[\"dob_years\"].apply(age_category)\n"
   ]
  },
  {
   "cell_type": "code",
   "execution_count": 115,
   "metadata": {},
   "outputs": [
    {
     "data": {
      "text/plain": [
       "36-45    5719\n",
       "26-35    5349\n",
       "46-55    4814\n",
       "56-65    3632\n",
       "18-25    1231\n",
       "66-77     702\n",
       "Name: age_categories, dtype: int64"
      ]
     },
     "execution_count": 115,
     "metadata": {},
     "output_type": "execute_result"
    }
   ],
   "source": [
    "# Checking how values in the new column\n",
    "credit_score[\"age_categories\"].value_counts()\n"
   ]
  },
  {
   "cell_type": "markdown",
   "metadata": {},
   "source": [
    "[Think about the factors on which income usually depends. Eventually, you will want to find out whether you should use mean or median values for replacing missing values. To make this decision you will probably want to look at the distribution of the factors you identified as impacting one's income.]"
   ]
  },
  {
   "cell_type": "markdown",
   "metadata": {},
   "source": [
    "[Create a table that only has data without missing values. This data will be used to restore the missing values.]"
   ]
  },
  {
   "cell_type": "code",
   "execution_count": 116,
   "metadata": {},
   "outputs": [
    {
     "name": "stdout",
     "output_type": "stream",
     "text": [
      "       children  days_employed  dob_years            education  education_id  \\\n",
      "0           1.0    8437.673028         42    bachelor's degree           NaN   \n",
      "1           1.0    4024.803754         36  secondary education           1.0   \n",
      "2           NaN    5623.422610         33  secondary education           1.0   \n",
      "3           3.0    4124.747207         32  secondary education           1.0   \n",
      "4           NaN  340266.072047         53  secondary education           1.0   \n",
      "...         ...            ...        ...                  ...           ...   \n",
      "21442       1.0    4529.316663         43  secondary education           1.0   \n",
      "21443       NaN  343937.404131         67  secondary education           1.0   \n",
      "21444       1.0    2113.346888         38  secondary education           1.0   \n",
      "21445       3.0    3112.481705         38  secondary education           1.0   \n",
      "21446       2.0    1984.507589         40  secondary education           1.0   \n",
      "\n",
      "           family_status  family_status_id gender income_type  debt  \\\n",
      "0                married               NaN      F    employee   NaN   \n",
      "1                married               NaN      F    employee   NaN   \n",
      "2                married               NaN      M    employee   NaN   \n",
      "3                married               NaN      M    employee   NaN   \n",
      "4      civil partnership               1.0      F     retiree   NaN   \n",
      "...                  ...               ...    ...         ...   ...   \n",
      "21442  civil partnership               1.0      F    business   NaN   \n",
      "21443            married               NaN      F     retiree   NaN   \n",
      "21444  civil partnership               1.0      M    employee   1.0   \n",
      "21445            married               NaN      M    employee   1.0   \n",
      "21446            married               NaN      F    employee   NaN   \n",
      "\n",
      "       total_income                  purpose  months_employed age_categories  \n",
      "0         40620.102    purchase of the house       281.255768          36-45  \n",
      "1         17932.802             car purchase       134.160125          36-45  \n",
      "2         23341.752    purchase of the house       187.447420          26-35  \n",
      "3         42820.568  supplementary education       137.491574          26-35  \n",
      "4         25378.572        to have a wedding     11342.202402          46-55  \n",
      "...             ...                      ...              ...            ...  \n",
      "21442     35966.698     housing transactions       150.977222          36-45  \n",
      "21443     24959.969        purchase of a car     11464.580138          66-77  \n",
      "21444     14347.610                 property        70.444896          36-45  \n",
      "21445     39054.888        buying my own car       103.749390          36-45  \n",
      "21446     13127.587             to buy a car        66.150253          36-45  \n",
      "\n",
      "[21447 rows x 14 columns]\n"
     ]
    }
   ],
   "source": [
    "# Create a table without missing values and print a few of its rows to make sure it looks fine\n",
    "#selected_rows = credit_score[~credit_score.isna()]\n",
    "#print(selected_rows)\n",
    "selected_rows = credit_score[credit_score != credit_score.isna()]\n",
    "print(selected_rows)\n"
   ]
  },
  {
   "cell_type": "code",
   "execution_count": 117,
   "metadata": {},
   "outputs": [
    {
     "name": "stdout",
     "output_type": "stream",
     "text": [
      "26787.206510054275\n",
      "66877.92093159157\n"
     ]
    }
   ],
   "source": [
    "# Look at the mean values for income based on your identified factors\n",
    "print(credit_score[\"total_income\"].mean())\n",
    "print(credit_score[\"days_employed\"].abs().mean())\n"
   ]
  },
  {
   "cell_type": "code",
   "execution_count": 118,
   "metadata": {
    "scrolled": true
   },
   "outputs": [
    {
     "name": "stdout",
     "output_type": "stream",
     "text": [
      "23203.786\n",
      "2194.2169684631217\n"
     ]
    }
   ],
   "source": [
    "# Look at the median values for income based on your identified factors\n",
    "print(credit_score[\"total_income\"].median())\n",
    "print(credit_score[\"days_employed\"].abs().median())"
   ]
  },
  {
   "cell_type": "markdown",
   "metadata": {},
   "source": [
    "Since total income varies greatly among the very rich and the very poor, I think it would be more appropriate to use the median because it would account for the outliers."
   ]
  },
  {
   "cell_type": "markdown",
   "metadata": {},
   "source": [
    "[Repeat such comparisons for multiple factors. Make sure you consider different aspects and explain your thinking process.]\n"
   ]
  },
  {
   "cell_type": "markdown",
   "metadata": {},
   "source": [
    "[Make a decision on what characteristics define income most and whether you will use a median or a mean. Explain why you made this decision]"
   ]
  },
  {
   "cell_type": "code",
   "execution_count": 119,
   "metadata": {},
   "outputs": [],
   "source": [
    "#  Write a function that we will use for filling in missing values\n",
    "def fill_in(val):\n",
    "    median = credit_score[\"total_income\"].median()\n",
    "    if pd.notnull(val) == False:\n",
    "        return median\n",
    "    else: \n",
    "        return val "
   ]
  },
  {
   "cell_type": "code",
   "execution_count": 120,
   "metadata": {},
   "outputs": [
    {
     "name": "stdout",
     "output_type": "stream",
     "text": [
      "1\n",
      "23203.786\n"
     ]
    }
   ],
   "source": [
    "# Check if it works\n",
    "#credit_score[\"total_income\"] = credit_score[\"total_income\"].fillna(credit_score[\"total_income\"].median())\n",
    "#print(fill_in(credit_score[\"total_income\"]))\n",
    "#print(credit_score.loc[credit_score[\"total_income\"]== float(\"23203.786\"), :])\n",
    "#print(credit_score.loc[credit_score[\"total_income\"].isna().sum()])\n",
    "#credit_score[\"total_income\"].apply(fill_in)\n",
    "print(fill_in(1))\n",
    "print(fill_in(nd.nan))\n",
    "\n",
    "\n",
    "                             "
   ]
  },
  {
   "cell_type": "code",
   "execution_count": 121,
   "metadata": {},
   "outputs": [
    {
     "data": {
      "text/plain": [
       "2102"
      ]
     },
     "execution_count": 121,
     "metadata": {},
     "output_type": "execute_result"
    }
   ],
   "source": [
    "credit_score[\"total_income\"].isna().sum()"
   ]
  },
  {
   "cell_type": "code",
   "execution_count": 122,
   "metadata": {},
   "outputs": [
    {
     "name": "stdout",
     "output_type": "stream",
     "text": [
      "0        40620.102\n",
      "1        17932.802\n",
      "2        23341.752\n",
      "3        42820.568\n",
      "4        25378.572\n",
      "           ...    \n",
      "21442    35966.698\n",
      "21443    24959.969\n",
      "21444    14347.610\n",
      "21445    39054.888\n",
      "21446    13127.587\n",
      "Name: total_income, Length: 21447, dtype: float64\n"
     ]
    }
   ],
   "source": [
    "# Apply it to every row\n",
    "credit_score[\"total_income\"] = credit_score[\"total_income\"].apply(fill_in)\n",
    "print(credit_score[\"total_income\"])"
   ]
  },
  {
   "cell_type": "code",
   "execution_count": 123,
   "metadata": {},
   "outputs": [
    {
     "name": "stdout",
     "output_type": "stream",
     "text": [
      "<class 'pandas.core.frame.DataFrame'>\n",
      "RangeIndex: 21447 entries, 0 to 21446\n",
      "Data columns (total 14 columns):\n",
      " #   Column            Non-Null Count  Dtype  \n",
      "---  ------            --------------  -----  \n",
      " 0   children          21447 non-null  int64  \n",
      " 1   days_employed     19345 non-null  float64\n",
      " 2   dob_years         21447 non-null  int64  \n",
      " 3   education         21447 non-null  object \n",
      " 4   education_id      21447 non-null  int64  \n",
      " 5   family_status     21447 non-null  object \n",
      " 6   family_status_id  21447 non-null  int64  \n",
      " 7   gender            21447 non-null  object \n",
      " 8   income_type       21447 non-null  object \n",
      " 9   debt              21447 non-null  int64  \n",
      " 10  total_income      21447 non-null  float64\n",
      " 11  purpose           21447 non-null  object \n",
      " 12  months_employed   19345 non-null  float64\n",
      " 13  age_categories    21447 non-null  object \n",
      "dtypes: float64(3), int64(5), object(6)\n",
      "memory usage: 2.3+ MB\n",
      "None\n"
     ]
    }
   ],
   "source": [
    "print(credit_score.info())"
   ]
  },
  {
   "cell_type": "code",
   "execution_count": 124,
   "metadata": {},
   "outputs": [
    {
     "data": {
      "text/plain": [
       "children               0\n",
       "days_employed       2102\n",
       "dob_years              0\n",
       "education              0\n",
       "education_id           0\n",
       "family_status          0\n",
       "family_status_id       0\n",
       "gender                 0\n",
       "income_type            0\n",
       "debt                   0\n",
       "total_income           0\n",
       "purpose                0\n",
       "months_employed     2102\n",
       "age_categories         0\n",
       "dtype: int64"
      ]
     },
     "execution_count": 124,
     "metadata": {},
     "output_type": "execute_result"
    }
   ],
   "source": [
    "# Check if we got any errors\n",
    "credit_score.isna().sum()"
   ]
  },
  {
   "cell_type": "markdown",
   "metadata": {},
   "source": [
    "-Note that the function was applied to the [\"total_income\"] column and all missing values for this column have been filled in. The cell above shows that there are no more missing values for this particular column. Next, I will do the same thing to the [\"days_employed\"] column."
   ]
  },
  {
   "cell_type": "markdown",
   "metadata": {},
   "source": [
    "[If you've came across errors in preparing the values for missing data, it probably means there's something special about the data for the category. Give it some thought - you may want to fix some things manually, if there's enough data to find medians/means.]"
   ]
  },
  {
   "cell_type": "code",
   "execution_count": 125,
   "metadata": {},
   "outputs": [],
   "source": [
    "# Replacing missing values if there are any errors\n",
    "#No errors found -Dina"
   ]
  },
  {
   "cell_type": "markdown",
   "metadata": {},
   "source": [
    "[When you think you've finished with `total_income`, check that the total number of values in this column matches the number of values in other ones.]"
   ]
  },
  {
   "cell_type": "code",
   "execution_count": 126,
   "metadata": {},
   "outputs": [
    {
     "name": "stdout",
     "output_type": "stream",
     "text": [
      "<class 'pandas.core.frame.DataFrame'>\n",
      "RangeIndex: 21447 entries, 0 to 21446\n",
      "Data columns (total 14 columns):\n",
      " #   Column            Non-Null Count  Dtype  \n",
      "---  ------            --------------  -----  \n",
      " 0   children          21447 non-null  int64  \n",
      " 1   days_employed     19345 non-null  float64\n",
      " 2   dob_years         21447 non-null  int64  \n",
      " 3   education         21447 non-null  object \n",
      " 4   education_id      21447 non-null  int64  \n",
      " 5   family_status     21447 non-null  object \n",
      " 6   family_status_id  21447 non-null  int64  \n",
      " 7   gender            21447 non-null  object \n",
      " 8   income_type       21447 non-null  object \n",
      " 9   debt              21447 non-null  int64  \n",
      " 10  total_income      21447 non-null  float64\n",
      " 11  purpose           21447 non-null  object \n",
      " 12  months_employed   19345 non-null  float64\n",
      " 13  age_categories    21447 non-null  object \n",
      "dtypes: float64(3), int64(5), object(6)\n",
      "memory usage: 2.3+ MB\n"
     ]
    }
   ],
   "source": [
    "# Checking the number of entries in the columns\n",
    "credit_score.info()\n"
   ]
  },
  {
   "cell_type": "markdown",
   "metadata": {},
   "source": [
    "###  Restoring values in `days_employed`"
   ]
  },
  {
   "cell_type": "markdown",
   "metadata": {},
   "source": [
    "[Think about the parameters that may help you restore the missing values in this column. Eventually, you will want to find out whether you should use mean or median values for replacing missing values. You will probably conduct a research similar to the one you've done when restoring data in a previous column.]"
   ]
  },
  {
   "cell_type": "code",
   "execution_count": 127,
   "metadata": {
    "pycharm": {
     "name": "#%%\n"
    }
   },
   "outputs": [
    {
     "name": "stdout",
     "output_type": "stream",
     "text": [
      "2194.2169684631217\n"
     ]
    },
    {
     "data": {
      "text/plain": [
       "142.276217     1\n",
       "382.621465     1\n",
       "1578.419429    1\n",
       "1214.614264    1\n",
       "2793.758190    1\n",
       "              ..\n",
       "4665.860899    1\n",
       "1513.814188    1\n",
       "1042.200490    1\n",
       "3229.233747    1\n",
       "1636.419775    1\n",
       "Name: days_employed, Length: 19345, dtype: int64"
      ]
     },
     "execution_count": 127,
     "metadata": {},
     "output_type": "execute_result"
    }
   ],
   "source": [
    "# Distribution of `days_employed` medians based on your identified parameters\n",
    "print(credit_score[\"days_employed\"].abs().median())\n",
    "credit_score[\"days_employed\"].value_counts().sort_values()\n"
   ]
  },
  {
   "cell_type": "code",
   "execution_count": 128,
   "metadata": {},
   "outputs": [
    {
     "name": "stdout",
     "output_type": "stream",
     "text": [
      "66877.92093159157\n"
     ]
    }
   ],
   "source": [
    "# Distribution of `days_employed` means based on your identified parameters\n",
    "print(credit_score[\"days_employed\"].mean())"
   ]
  },
  {
   "cell_type": "markdown",
   "metadata": {},
   "source": [
    "[Decide what you will use: means or medians. Explain why.]\n",
    "For this column, I choose to use the median as well because there is such a large gap between the minimum and maximum values for this column. I would anticipate that there would be many outliers in this column because of that. The median is a more resistant measure of central tendancy to outliers than the mean."
   ]
  },
  {
   "cell_type": "code",
   "execution_count": 129,
   "metadata": {},
   "outputs": [],
   "source": [
    "# Let's write a function that calculates means or medians (depending on your decision) based on your identified parameter\n",
    "def fill_in(val):\n",
    "    median = credit_score[\"days_employed\"].median()\n",
    "    if pd.notnull(val) == False:\n",
    "        return median\n",
    "    else: \n",
    "        return val "
   ]
  },
  {
   "cell_type": "code",
   "execution_count": 130,
   "metadata": {},
   "outputs": [
    {
     "name": "stdout",
     "output_type": "stream",
     "text": [
      "1\n",
      "2194.2169684631217\n"
     ]
    }
   ],
   "source": [
    "# Check that the function works\n",
    "print(fill_in(1))\n",
    "print(fill_in(nd.nan))"
   ]
  },
  {
   "cell_type": "code",
   "execution_count": 131,
   "metadata": {},
   "outputs": [],
   "source": [
    "# Apply function to the income_type\n",
    "credit_score[\"days_employed\"] = credit_score[\"days_employed\"].apply(fill_in)"
   ]
  },
  {
   "cell_type": "code",
   "execution_count": 132,
   "metadata": {},
   "outputs": [
    {
     "data": {
      "text/plain": [
       "0"
      ]
     },
     "execution_count": 132,
     "metadata": {},
     "output_type": "execute_result"
    }
   ],
   "source": [
    "# Check if function worked\n",
    "credit_score[\"days_employed\"].isna().sum()\n"
   ]
  },
  {
   "cell_type": "markdown",
   "metadata": {},
   "source": [
    "Note that there are no more missing values in the [\"days_employed\"] column. All of the missing values have been filled in with the median."
   ]
  },
  {
   "cell_type": "markdown",
   "metadata": {},
   "source": [
    "Confirmed- No more missing values"
   ]
  },
  {
   "cell_type": "markdown",
   "metadata": {},
   "source": [
    "[When you think you've finished with `total_income`, check that the total number of values in this column matches the number of values in other ones.]\n",
    "The [\"days_employed\"] has been restored and all of the missing values in that column have been replaced with the median for the reasons mentioned above."
   ]
  },
  {
   "cell_type": "code",
   "execution_count": 133,
   "metadata": {},
   "outputs": [
    {
     "name": "stdout",
     "output_type": "stream",
     "text": [
      "children               0\n",
      "days_employed          0\n",
      "dob_years              0\n",
      "education              0\n",
      "education_id           0\n",
      "family_status          0\n",
      "family_status_id       0\n",
      "gender                 0\n",
      "income_type            0\n",
      "debt                   0\n",
      "total_income           0\n",
      "purpose                0\n",
      "months_employed     2102\n",
      "age_categories         0\n",
      "dtype: int64\n"
     ]
    }
   ],
   "source": [
    "# Check the entries in all columns - make sure we fixed all missing values\n",
    "print(credit_score.isna().sum())"
   ]
  },
  {
   "cell_type": "markdown",
   "metadata": {},
   "source": [
    "This also shows that all missing values are taken care of."
   ]
  },
  {
   "cell_type": "markdown",
   "metadata": {},
   "source": [
    "## Categorization of data\n",
    "\n",
    "[To answer the questions and test the hypotheses, you will want to work with categorized data. Look at the questions that were posed to you and that you should answer. Think about which of the data will need to be categorized to answer these questions. Below you will find a template through which you can work your way when categorizing data. The first step-by-step processing covers the text data; the second one addresses the numerical data that needs to be categorized. You can use both or none of the suggested instructions - it's up to you.]\n",
    "\n",
    "[Despite of how you decide to address the categorization, make sure to provide clear explanation of why you made your decision. Remember: this is your work and you make all decisions in it.]\n"
   ]
  },
  {
   "cell_type": "code",
   "execution_count": 134,
   "metadata": {
    "scrolled": false
   },
   "outputs": [
    {
     "name": "stdout",
     "output_type": "stream",
     "text": [
      "wedding ceremony                            791\n",
      "having a wedding                            767\n",
      "to have a wedding                           765\n",
      "real estate transactions                    675\n",
      "buy commercial real estate                  661\n",
      "housing transactions                        652\n",
      "transactions with commercial real estate    650\n",
      "buying property for renting out             650\n",
      "purchase of the house                       646\n",
      "housing                                     646\n",
      "purchase of the house for my family         638\n",
      "construction of own property                634\n",
      "property                                    633\n",
      "transactions with my real estate            627\n",
      "building a real estate                      624\n",
      "buy real estate                             621\n",
      "purchase of my own house                    620\n",
      "building a property                         619\n",
      "housing renovation                          606\n",
      "buy residential real estate                 605\n",
      "buying my own car                           505\n",
      "going to university                         496\n",
      "car                                         493\n",
      "second-hand car purchase                    486\n",
      "to own a car                                478\n",
      "buying a second-hand car                    478\n",
      "cars                                        478\n",
      "to buy a car                                470\n",
      "car purchase                                461\n",
      "supplementary education                     460\n",
      "purchase of a car                           455\n",
      "university education                        452\n",
      "education                                   447\n",
      "to get a supplementary education            446\n",
      "getting an education                        442\n",
      "profile education                           436\n",
      "getting higher education                    426\n",
      "to become educated                          408\n",
      "Name: purpose, dtype: int64\n"
     ]
    }
   ],
   "source": [
    "# Print the values for your selected data for categorization\n",
    "print(credit_score[\"purpose\"].value_counts())\n",
    "\n"
   ]
  },
  {
   "cell_type": "markdown",
   "metadata": {},
   "source": [
    "[Let's check unique values]"
   ]
  },
  {
   "cell_type": "code",
   "execution_count": 135,
   "metadata": {
    "scrolled": true
   },
   "outputs": [
    {
     "name": "stdout",
     "output_type": "stream",
     "text": [
      "['purchase of the house' 'car purchase' 'supplementary education'\n",
      " 'to have a wedding' 'housing transactions' 'education' 'having a wedding'\n",
      " 'purchase of the house for my family' 'buy real estate'\n",
      " 'buy commercial real estate' 'buy residential real estate'\n",
      " 'construction of own property' 'property' 'building a property'\n",
      " 'buying a second-hand car' 'buying my own car'\n",
      " 'transactions with commercial real estate' 'building a real estate'\n",
      " 'housing' 'transactions with my real estate' 'cars' 'to become educated'\n",
      " 'second-hand car purchase' 'getting an education' 'car'\n",
      " 'wedding ceremony' 'to get a supplementary education'\n",
      " 'purchase of my own house' 'real estate transactions'\n",
      " 'getting higher education' 'to own a car' 'purchase of a car'\n",
      " 'profile education' 'university education'\n",
      " 'buying property for renting out' 'to buy a car' 'housing renovation'\n",
      " 'going to university']\n"
     ]
    }
   ],
   "source": [
    "# Check the unique valuesprint\n",
    "print(credit_score[\"purpose\"].unique())"
   ]
  },
  {
   "cell_type": "markdown",
   "metadata": {},
   "source": [
    "[What main groups can you identify based on the unique values?]\n",
    "The following six main groups that I see are truly \"unique\":\n",
    "-Car-related purchase\n",
    "-House-related purchase\n",
    "-Wedding \n",
    "-Real Estate\n",
    "-Education\n",
    " \n",
    "\n",
    "[Based on these themes, we will probably want to categorize our data.]\n"
   ]
  },
  {
   "cell_type": "code",
   "execution_count": 136,
   "metadata": {},
   "outputs": [],
   "source": [
    "# Let's write a function to categorize the data based on common topics\n",
    "def purpose_group(value):\n",
    "    if \"house\" in value or \"housing\" in value:\n",
    "        return \"House Purchase\"\n",
    "    elif \"real estate\" in value or \"property\" in value:\n",
    "        return \"Real Estate Purchase\"\n",
    "    elif \"education\" in value or \"educated\" in value or \"university\" in value:\n",
    "        return \"Education\"\n",
    "    elif 'wedding' in value:\n",
    "        return \"Wedding\"\n",
    "    elif \"car\" in value or \"cars\" in value:\n",
    "        return \"Car Purchase\"\n",
    "   \n",
    "\n",
    "\n",
    "\n"
   ]
  },
  {
   "cell_type": "code",
   "execution_count": 137,
   "metadata": {},
   "outputs": [
    {
     "name": "stdout",
     "output_type": "stream",
     "text": [
      "House Purchase\n",
      "Real Estate Purchase\n",
      "Car Purchase\n",
      "Education\n",
      "Wedding\n",
      "\n",
      "\n",
      "0              House Purchase\n",
      "1                Car Purchase\n",
      "2              House Purchase\n",
      "3                   Education\n",
      "4                     Wedding\n",
      "                 ...         \n",
      "21442          House Purchase\n",
      "21443            Car Purchase\n",
      "21444    Real Estate Purchase\n",
      "21445            Car Purchase\n",
      "21446            Car Purchase\n",
      "Name: purpose_group, Length: 21447, dtype: object\n",
      "\n",
      "Real Estate Purchase    6999\n",
      "Car Purchase            4304\n",
      "Education               4013\n",
      "House Purchase          3808\n",
      "Wedding                 2323\n",
      "Name: purpose_group, dtype: int64\n"
     ]
    }
   ],
   "source": [
    "# Create a column with the categories and count the values for them\n",
    "print(purpose_group('purchase of the house'))\n",
    "print(purpose_group(\"real estate\"))\n",
    "print(purpose_group('to own a car'))\n",
    "print(purpose_group('getting higher education'))\n",
    "print(purpose_group('to have a wedding'))\n",
    "print()\n",
    "credit_score[\"purpose_group\"] = credit_score[\"purpose\"].apply(purpose_group)\n",
    "print()\n",
    "print(credit_score[\"purpose_group\"])\n",
    "\n",
    "print()\n",
    "\n",
    "print(credit_score[\"purpose_group\"].value_counts())\n"
   ]
  },
  {
   "cell_type": "markdown",
   "metadata": {},
   "source": [
    "[If you decide to categorize the numerical data, you'll need to come up with the categories for it too.]\n",
    "In this dataset, I think the only numeric column that would be useful to categorize would be "
   ]
  },
  {
   "cell_type": "code",
   "execution_count": 138,
   "metadata": {},
   "outputs": [
    {
     "name": "stdout",
     "output_type": "stream",
     "text": [
      "0     14086\n",
      "1      4854\n",
      "2      2051\n",
      "3       330\n",
      "20       76\n",
      "4        41\n",
      "5         9\n",
      "Name: children, dtype: int64\n",
      "\n",
      "12386    362496.645\n",
      "19542    352136.354\n",
      "9157     276204.162\n",
      "20736    274402.943\n",
      "17132    273809.483\n",
      "            ...    \n",
      "14243      3503.298\n",
      "1598       3471.216\n",
      "16133      3418.824\n",
      "12979      3392.845\n",
      "14551      3306.762\n",
      "Name: total_income, Length: 21447, dtype: float64\n",
      "362496.645\n",
      "High income: $90,000 to 370,000\n",
      "\n",
      "Medium income: $50,000 to $80,000\n",
      "Low income: $3,000 to $40,000        20128\n",
      "Medium income: $50,000 to $80,000     1097\n",
      "High income: $90,000 to 370,000        222\n",
      "Name: total_income_group, dtype: int64\n",
      "    children  days_employed  dob_years            education  education_id  \\\n",
      "0          1    8437.673028         42    bachelor's degree             0   \n",
      "1          1    4024.803754         36  secondary education             1   \n",
      "2          0    5623.422610         33  secondary education             1   \n",
      "3          3    4124.747207         32  secondary education             1   \n",
      "4          0  340266.072047         53  secondary education             1   \n",
      "5          0     926.185831         27    bachelor's degree             0   \n",
      "6          0    2879.202052         43    bachelor's degree             0   \n",
      "7          0     152.779569         50  secondary education             1   \n",
      "8          2    6929.865299         35    bachelor's degree             0   \n",
      "9          0    2188.756445         41  secondary education             1   \n",
      "10         2    4171.483647         36    bachelor's degree             0   \n",
      "11         0     792.701887         40  secondary education             1   \n",
      "12         0    2194.216968         65  secondary education             1   \n",
      "13         0    1846.641941         54         some college             2   \n",
      "14         0    1844.956182         56    bachelor's degree             0   \n",
      "15         1     972.364419         26  secondary education             1   \n",
      "16         0    1719.934226         35  secondary education             1   \n",
      "17         0    2369.999720         33    bachelor's degree             0   \n",
      "18         0  400281.136913         53  secondary education             1   \n",
      "19         0   10038.818549         48  secondary education             1   \n",
      "20         1    1311.604166         36  secondary education             1   \n",
      "21         1     253.685166         33  secondary education             1   \n",
      "22         1    1766.644138         24  secondary education             1   \n",
      "23         0     272.981385         21    bachelor's degree             0   \n",
      "24         1  338551.952911         57  secondary education             1   \n",
      "25         0  363548.489348         67  secondary education             1   \n",
      "26         0    2194.216968         41  secondary education             1   \n",
      "27         0     529.191635         28    bachelor's degree             0   \n",
      "28         1     717.274324         26    bachelor's degree             0   \n",
      "29         0    2194.216968         63  secondary education             1   \n",
      "\n",
      "        family_status  family_status_id gender    income_type  debt  \\\n",
      "0             married                 0      F       employee     0   \n",
      "1             married                 0      F       employee     0   \n",
      "2             married                 0      M       employee     0   \n",
      "3             married                 0      M       employee     0   \n",
      "4   civil partnership                 1      F        retiree     0   \n",
      "5   civil partnership                 1      M       business     0   \n",
      "6             married                 0      F       business     0   \n",
      "7             married                 0      M       employee     0   \n",
      "8   civil partnership                 1      F       employee     0   \n",
      "9             married                 0      M       employee     0   \n",
      "10            married                 0      M       business     0   \n",
      "11            married                 0      F       employee     0   \n",
      "12  civil partnership                 1      M        retiree     0   \n",
      "13            married                 0      F       employee     0   \n",
      "14  civil partnership                 1      F       business     1   \n",
      "15            married                 0      F       employee     0   \n",
      "16            married                 0      F       employee     0   \n",
      "17  civil partnership                 1      M       employee     0   \n",
      "18    widow / widower                 2      F        retiree     0   \n",
      "19           divorced                 3      F       employee     0   \n",
      "20            married                 0      M       employee     0   \n",
      "21  civil partnership                 1      F       employee     0   \n",
      "22  civil partnership                 1      F       employee     0   \n",
      "23  civil partnership                 1      M       employee     0   \n",
      "24          unmarried                 4      F        retiree     0   \n",
      "25            married                 0      M        retiree     0   \n",
      "26            married                 0      M  civil servant     0   \n",
      "27            married                 0      M       employee     0   \n",
      "28            married                 0      F       employee     0   \n",
      "29          unmarried                 4      F        retiree     0   \n",
      "\n",
      "    total_income                                   purpose  months_employed  \\\n",
      "0      40620.102                     purchase of the house       281.255768   \n",
      "1      17932.802                              car purchase       134.160125   \n",
      "2      23341.752                     purchase of the house       187.447420   \n",
      "3      42820.568                   supplementary education       137.491574   \n",
      "4      25378.572                         to have a wedding     11342.202402   \n",
      "5      40922.170                     purchase of the house        30.872861   \n",
      "6      38484.156                      housing transactions        95.973402   \n",
      "7      21731.829                                 education         5.092652   \n",
      "8      15337.093                          having a wedding       230.995510   \n",
      "9      23108.150       purchase of the house for my family        72.958548   \n",
      "10     18230.959                           buy real estate       139.049455   \n",
      "11     12331.077                buy commercial real estate        26.423396   \n",
      "12     23203.786                         to have a wedding              NaN   \n",
      "13     20873.317                              car purchase        61.554731   \n",
      "14     26420.466               buy residential real estate        61.498539   \n",
      "15     18691.345              construction of own property        32.412147   \n",
      "16     46272.433                                  property        57.331141   \n",
      "17     14465.694                       building a property        78.999991   \n",
      "18      9091.804                  buying a second-hand car     13342.704564   \n",
      "19     38852.977                         buying my own car       334.627285   \n",
      "20     33528.423                                  property        43.720139   \n",
      "21     21089.953                              car purchase         8.456172   \n",
      "22     23948.983                  buying a second-hand car        58.888138   \n",
      "23     20522.515                         to have a wedding         9.099380   \n",
      "24     46487.558  transactions with commercial real estate     11285.065097   \n",
      "25      8818.041                           buy real estate     12118.282978   \n",
      "26     23203.786                                 education              NaN   \n",
      "27     49415.837              construction of own property        17.639721   \n",
      "28     30058.118              construction of own property        23.909144   \n",
      "29     23203.786                    building a real estate              NaN   \n",
      "\n",
      "   age_categories         purpose_group             total_income_group  \n",
      "0           36-45        House Purchase  Low income: $3,000 to $40,000  \n",
      "1           36-45          Car Purchase  Low income: $3,000 to $40,000  \n",
      "2           26-35        House Purchase  Low income: $3,000 to $40,000  \n",
      "3           26-35             Education  Low income: $3,000 to $40,000  \n",
      "4           46-55               Wedding  Low income: $3,000 to $40,000  \n",
      "5           26-35        House Purchase  Low income: $3,000 to $40,000  \n",
      "6           36-45        House Purchase  Low income: $3,000 to $40,000  \n",
      "7           46-55             Education  Low income: $3,000 to $40,000  \n",
      "8           26-35               Wedding  Low income: $3,000 to $40,000  \n",
      "9           36-45        House Purchase  Low income: $3,000 to $40,000  \n",
      "10          36-45  Real Estate Purchase  Low income: $3,000 to $40,000  \n",
      "11          36-45  Real Estate Purchase  Low income: $3,000 to $40,000  \n",
      "12          56-65               Wedding  Low income: $3,000 to $40,000  \n",
      "13          46-55          Car Purchase  Low income: $3,000 to $40,000  \n",
      "14          56-65  Real Estate Purchase  Low income: $3,000 to $40,000  \n",
      "15          26-35  Real Estate Purchase  Low income: $3,000 to $40,000  \n",
      "16          26-35  Real Estate Purchase  Low income: $3,000 to $40,000  \n",
      "17          26-35  Real Estate Purchase  Low income: $3,000 to $40,000  \n",
      "18          46-55          Car Purchase  Low income: $3,000 to $40,000  \n",
      "19          46-55          Car Purchase  Low income: $3,000 to $40,000  \n",
      "20          36-45  Real Estate Purchase  Low income: $3,000 to $40,000  \n",
      "21          26-35          Car Purchase  Low income: $3,000 to $40,000  \n",
      "22          18-25          Car Purchase  Low income: $3,000 to $40,000  \n",
      "23          18-25               Wedding  Low income: $3,000 to $40,000  \n",
      "24          56-65  Real Estate Purchase  Low income: $3,000 to $40,000  \n",
      "25          66-77  Real Estate Purchase  Low income: $3,000 to $40,000  \n",
      "26          36-45             Education  Low income: $3,000 to $40,000  \n",
      "27          26-35  Real Estate Purchase  Low income: $3,000 to $40,000  \n",
      "28          26-35  Real Estate Purchase  Low income: $3,000 to $40,000  \n",
      "29          56-65  Real Estate Purchase  Low income: $3,000 to $40,000  \n"
     ]
    }
   ],
   "source": [
    "# Looking through all the numerical data in your selected column for categorization\n",
    "print(credit_score[\"children\"].value_counts())\n",
    "print()\n",
    "print(credit_score[\"total_income\"].sort_values(ascending=False))\n",
    "print(credit_score[\"total_income\"].max())\n",
    "\n",
    "def total_income_group(val):\n",
    "    if val <= 50000:\n",
    "        return \"Low income: $3,000 to $40,000\"\n",
    "    elif val <= 80000:\n",
    "        return \"Medium income: $50,000 to $80,000\"\n",
    "    elif val <= 370000:\n",
    "        return \"High income: $90,000 to 370,000\"\n",
    "    elif val > 370000:\n",
    "        return \"Very high income: Above $370,000\"\n",
    "    \n",
    "    \n",
    "    \n",
    "print(total_income_group(285000))\n",
    "print()\n",
    "print(total_income_group(80000))\n",
    "\n",
    "credit_score[\"total_income_group\"] = credit_score[\"total_income\"].apply(total_income_group)\n",
    "print(credit_score[\"total_income_group\"].value_counts())\n",
    "print(credit_score.head(30))"
   ]
  },
  {
   "cell_type": "code",
   "execution_count": 139,
   "metadata": {},
   "outputs": [
    {
     "name": "stdout",
     "output_type": "stream",
     "text": [
      "count    21447.000000\n",
      "mean         0.544365\n",
      "std          1.381887\n",
      "min          0.000000\n",
      "25%          0.000000\n",
      "50%          0.000000\n",
      "75%          1.000000\n",
      "max         20.000000\n",
      "Name: children, dtype: float64\n",
      "\n",
      "children              0.343218\n",
      "days_employed         0.343218\n",
      "dob_years             0.343218\n",
      "education             0.343218\n",
      "education_id          0.343218\n",
      "family_status         0.343218\n",
      "family_status_id      0.343218\n",
      "gender                0.343218\n",
      "income_type           0.343218\n",
      "debt                  0.343218\n",
      "total_income          0.343218\n",
      "purpose               0.343218\n",
      "months_employed       0.309554\n",
      "age_categories        0.343218\n",
      "purpose_group         0.343218\n",
      "total_income_group    0.343218\n",
      "dtype: float64\n",
      "\n",
      "children              0.656782\n",
      "days_employed         0.656782\n",
      "dob_years             0.656782\n",
      "education             0.656782\n",
      "education_id          0.656782\n",
      "family_status         0.656782\n",
      "family_status_id      0.656782\n",
      "gender                0.656782\n",
      "income_type           0.656782\n",
      "debt                  0.656782\n",
      "total_income          0.656782\n",
      "purpose               0.656782\n",
      "months_employed       0.592437\n",
      "age_categories        0.656782\n",
      "purpose_group         0.656782\n",
      "total_income_group    0.656782\n",
      "dtype: float64\n"
     ]
    }
   ],
   "source": [
    "# Getting summary statistics for the column\n",
    "print(credit_score[\"children\"].describe())\n",
    "one_or_more_kids = credit_score[credit_score[\"children\"] >= 1].count()\n",
    "no_kids = credit_score[credit_score[\"children\"] == 0].count()\n",
    "print()\n",
    "print(one_or_more_kids / len(credit_score))\n",
    "print()\n",
    "print(no_kids / len(credit_score))\n"
   ]
  },
  {
   "cell_type": "markdown",
   "metadata": {},
   "source": [
    "The cell above indicates that in this dataset, the majority of customers have 0 kids (65%), while the remaining 34% of customers in this dataset have 1 or more children. I choose to compare two groups of data in the [\"children\"] column: those with no kids versus those with 1 or more children. I choose not to split them into more groups because that would split the already low 34% of data into smaller portions, which would not be optimal when trying to draw significant conclusions."
   ]
  },
  {
   "cell_type": "markdown",
   "metadata": {},
   "source": [
    "[Decide what ranges you will use for grouping and explain why.]\n",
    "According to the summary statistics of the [\"children\"] column, the majority of individuals in this dataset have 0 kids. About 25% of individuals have 1 or more kids."
   ]
  },
  {
   "cell_type": "code",
   "execution_count": 140,
   "metadata": {},
   "outputs": [
    {
     "name": "stdout",
     "output_type": "stream",
     "text": [
      "No children\n",
      "Has children\n",
      "Has children\n",
      "Has children\n"
     ]
    }
   ],
   "source": [
    "# Creating function for categorizing into different numerical groups based on ranges\n",
    "def number_of_children(val):\n",
    "    if val == 0:\n",
    "        return \"No children\"\n",
    "    elif val >= 1:\n",
    "        return \"Has children\"\n",
    "        \n",
    "print(number_of_children(0))\n",
    "print(number_of_children(1))\n",
    "print(number_of_children(2))\n",
    "print(number_of_children(5))\n",
    "\n"
   ]
  },
  {
   "cell_type": "code",
   "execution_count": 141,
   "metadata": {},
   "outputs": [
    {
     "name": "stdout",
     "output_type": "stream",
     "text": [
      "0        Has children\n",
      "1        Has children\n",
      "2         No children\n",
      "3        Has children\n",
      "4         No children\n",
      "             ...     \n",
      "21442    Has children\n",
      "21443     No children\n",
      "21444    Has children\n",
      "21445    Has children\n",
      "21446    Has children\n",
      "Name: number_of_children, Length: 21447, dtype: object\n"
     ]
    }
   ],
   "source": [
    "# Creating column with categories\n",
    "credit_score[\"number_of_children\"] = credit_score[\"children\"].apply(number_of_children)\n",
    "print(credit_score[\"number_of_children\"])"
   ]
  },
  {
   "cell_type": "code",
   "execution_count": 142,
   "metadata": {
    "scrolled": true
   },
   "outputs": [
    {
     "name": "stdout",
     "output_type": "stream",
     "text": [
      "No children     14086\n",
      "Has children     7361\n",
      "Name: number_of_children, dtype: int64\n"
     ]
    }
   ],
   "source": [
    "# Count each categories values to see the distribution\n",
    "print(credit_score[\"number_of_children\"].value_counts())\n"
   ]
  },
  {
   "cell_type": "markdown",
   "metadata": {},
   "source": [
    "## Checking the Hypotheses\n"
   ]
  },
  {
   "cell_type": "markdown",
   "metadata": {},
   "source": [
    "**Is there a correlation between having children and paying back on time?**"
   ]
  },
  {
   "cell_type": "code",
   "execution_count": 143,
   "metadata": {},
   "outputs": [
    {
     "name": "stdout",
     "output_type": "stream",
     "text": [
      "  number_of_children  debt  count\n",
      "0       Has children     0   6685\n",
      "1       Has children     1    676\n",
      "2        No children     0  13023\n",
      "3        No children     1   1063\n",
      "\n",
      "Total Default Count: 1739\n",
      "\n",
      "No Children Default Rate: 0.6112708453133985\n",
      "No Children Default Rate: 61.1%\n",
      "\n",
      "Has Children Default Rate: 0.3887291546866015\n",
      "Has Children Default Rate: 38.9%\n"
     ]
    }
   ],
   "source": [
    "# Check the children data and paying back on time\n",
    "effect_of_children_on_debt = credit_score.groupby([\"number_of_children\", \"debt\"]).size().reset_index(name=\"count\")\n",
    "print(effect_of_children_on_debt)\n",
    "print()\n",
    "\n",
    "# Calculating default-rate based on the number of children\n",
    "\n",
    "total_default = sum(effect_of_children_on_debt[effect_of_children_on_debt[\"debt\"] == 1][\"count\"])\n",
    "print(\"Total Default Count:\", total_default )\n",
    "\n",
    "print()\n",
    "\n",
    "\n",
    "no_children_default_rate = effect_of_children_on_debt[\"count\"][3] / total_default\n",
    "print(\"No Children Default Rate:\", no_children_default_rate)\n",
    "percentage = \"{:.1%}\".format(no_children_default_rate)\n",
    "print(\"No Children Default Rate:\", percentage)\n",
    "\n",
    "print()\n",
    "\n",
    "has_children_default_rate = effect_of_children_on_debt[\"count\"][1] / total_default\n",
    "print(\"Has Children Default Rate:\", has_children_default_rate)\n",
    "percentage2 = \"{:.1%}\".format(has_children_default_rate)\n",
    "print(\"Has Children Default Rate:\",percentage2 )\n"
   ]
  },
  {
   "cell_type": "markdown",
   "metadata": {},
   "source": [
    "**Conclusion**\n",
    "\n",
    "[Write your conclusions based on your manipulations and observations.]\n",
    "Based on the results, it appears that having no children resulted in a higher default rate (61.1%) than those who reported having children (38.9%). Given the large difference between the two categories, this may suggest that there may be a correlation between whether or not an individual has children and their likelihood to default on a loan.\n"
   ]
  },
  {
   "cell_type": "code",
   "execution_count": 145,
   "metadata": {},
   "outputs": [
    {
     "data": {
      "text/html": [
       "<div>\n",
       "<style scoped>\n",
       "    .dataframe tbody tr th:only-of-type {\n",
       "        vertical-align: middle;\n",
       "    }\n",
       "\n",
       "    .dataframe tbody tr th {\n",
       "        vertical-align: top;\n",
       "    }\n",
       "\n",
       "    .dataframe thead th {\n",
       "        text-align: right;\n",
       "    }\n",
       "</style>\n",
       "<table border=\"1\" class=\"dataframe\">\n",
       "  <thead>\n",
       "    <tr style=\"text-align: right;\">\n",
       "      <th></th>\n",
       "      <th>debt</th>\n",
       "    </tr>\n",
       "    <tr>\n",
       "      <th>number_of_children</th>\n",
       "      <th></th>\n",
       "    </tr>\n",
       "  </thead>\n",
       "  <tbody>\n",
       "    <tr>\n",
       "      <th>Has children</th>\n",
       "      <td>0.091835</td>\n",
       "    </tr>\n",
       "    <tr>\n",
       "      <th>No children</th>\n",
       "      <td>0.075465</td>\n",
       "    </tr>\n",
       "    <tr>\n",
       "      <th>All</th>\n",
       "      <td>0.081084</td>\n",
       "    </tr>\n",
       "  </tbody>\n",
       "</table>\n",
       "</div>"
      ],
      "text/plain": [
       "                        debt\n",
       "number_of_children          \n",
       "Has children        0.091835\n",
       "No children         0.075465\n",
       "All                 0.081084"
      ]
     },
     "execution_count": 145,
     "metadata": {},
     "output_type": "execute_result"
    }
   ],
   "source": [
    "credit_score.pivot_table(index=[\"number_of_children\"], values= [\"debt\"], aggfunc=\"mean\", margins=True)"
   ]
  },
  {
   "cell_type": "markdown",
   "metadata": {},
   "source": [
    "**Is there a correlation between family status and paying back on time?**"
   ]
  },
  {
   "cell_type": "code",
   "execution_count": 154,
   "metadata": {
    "scrolled": true
   },
   "outputs": [
    {
     "name": "stdout",
     "output_type": "stream",
     "text": [
      "       family_status  debt  count\n",
      "0  civil partnership     0   3761\n",
      "1  civil partnership     1    388\n",
      "2           divorced     0   1109\n",
      "3           divorced     1     85\n",
      "4            married     0  11407\n",
      "5            married     1    929\n",
      "6          unmarried     0   2535\n",
      "7          unmarried     1    274\n",
      "8    widow / widower     0    896\n",
      "9    widow / widower     1     63\n",
      "\n",
      "Total Default Count: 1739\n",
      "\n",
      "Civil Partnership: 0.22311673375503163\n",
      "Civil Partnership: 22.3%\n",
      "\n",
      "Divorced: 0.0488786658999425\n",
      "Divorced: 4.9%\n",
      "\n",
      "Married: 0.5342150661299597\n",
      "Married: 53.4%\n",
      "\n",
      "Unmarried: 0.15756181713628523\n",
      "Unmarried: 15.8%\n",
      "\n",
      "Widower/Widow: 0.03622771707878091\n",
      "Widower/Widow: 3.6%\n"
     ]
    },
    {
     "data": {
      "text/html": [
       "<div>\n",
       "<style scoped>\n",
       "    .dataframe tbody tr th:only-of-type {\n",
       "        vertical-align: middle;\n",
       "    }\n",
       "\n",
       "    .dataframe tbody tr th {\n",
       "        vertical-align: top;\n",
       "    }\n",
       "\n",
       "    .dataframe thead th {\n",
       "        text-align: right;\n",
       "    }\n",
       "</style>\n",
       "<table border=\"1\" class=\"dataframe\">\n",
       "  <thead>\n",
       "    <tr style=\"text-align: right;\">\n",
       "      <th></th>\n",
       "      <th>debt</th>\n",
       "    </tr>\n",
       "    <tr>\n",
       "      <th>family_status</th>\n",
       "      <th></th>\n",
       "    </tr>\n",
       "  </thead>\n",
       "  <tbody>\n",
       "    <tr>\n",
       "      <th>civil partnership</th>\n",
       "      <td>0.093517</td>\n",
       "    </tr>\n",
       "    <tr>\n",
       "      <th>divorced</th>\n",
       "      <td>0.071189</td>\n",
       "    </tr>\n",
       "    <tr>\n",
       "      <th>married</th>\n",
       "      <td>0.075308</td>\n",
       "    </tr>\n",
       "    <tr>\n",
       "      <th>unmarried</th>\n",
       "      <td>0.097544</td>\n",
       "    </tr>\n",
       "    <tr>\n",
       "      <th>widow / widower</th>\n",
       "      <td>0.065693</td>\n",
       "    </tr>\n",
       "  </tbody>\n",
       "</table>\n",
       "</div>"
      ],
      "text/plain": [
       "                       debt\n",
       "family_status              \n",
       "civil partnership  0.093517\n",
       "divorced           0.071189\n",
       "married            0.075308\n",
       "unmarried          0.097544\n",
       "widow / widower    0.065693"
      ]
     },
     "execution_count": 154,
     "metadata": {},
     "output_type": "execute_result"
    }
   ],
   "source": [
    "# Check the family status data and paying back on time+\n",
    "effect_of_family_status_on_debt = credit_score.groupby([\"family_status\", \"debt\"]).size().reset_index(name=\"count\")\n",
    "print(effect_of_family_status_on_debt)\n",
    "\n",
    "print()\n",
    "\n",
    "# Calculating default-rate based on family status\n",
    "total_default = sum(effect_of_children_on_debt[effect_of_children_on_debt[\"debt\"] == 1][\"count\"])\n",
    "print(\"Total Default Count:\", total_default)\n",
    "\n",
    "print()\n",
    "\n",
    "civil_partnership_default_rate = effect_of_family_status_on_debt[\"count\"][1] / total_default\n",
    "print(\"Civil Partnership:\", civil_partnership_default_rate)\n",
    "percentage3 = \"{:.1%}\".format(civil_partnership_default_rate)\n",
    "print(\"Civil Partnership:\", percentage3)\n",
    "print()\n",
    "divorced_default_rate =effect_of_family_status_on_debt[\"count\"][3] / total_default\n",
    "print(\"Divorced:\", divorced_default_rate)\n",
    "percentage4 = \"{:.1%}\".format(divorced_default_rate)\n",
    "print(\"Divorced:\", percentage4)\n",
    "print()\n",
    "married_default_rate = effect_of_family_status_on_debt[\"count\"][5] / total_default\n",
    "print(\"Married:\", married_default_rate)\n",
    "percentage5 = \"{:.1%}\".format(married_default_rate)\n",
    "print(\"Married:\",percentage5)\n",
    "print()\n",
    "unmarried_default_rate = effect_of_family_status_on_debt[\"count\"][7] / total_default\n",
    "print(\"Unmarried:\", unmarried_default_rate)\n",
    "percentage6 = \"{:.1%}\".format(unmarried_default_rate)\n",
    "print(\"Unmarried:\", percentage6)\n",
    "print()\n",
    "widow_widower_default_rate = effect_of_family_status_on_debt[\"count\"][9] / total_default\n",
    "print(\"Widower/Widow:\", widow_widower_default_rate)\n",
    "percentagex= \"{:.1%}\".format(widow_widower_default_rate)\n",
    "print(\"Widower/Widow:\", percentagex)\n",
    "\n",
    "\n",
    "credit_score.pivot_table(index=[\"family_status\"], values= [\"debt\"], aggfunc=\"mean\")"
   ]
  },
  {
   "cell_type": "markdown",
   "metadata": {},
   "source": [
    "***Note to to the reviewer: I attempted to use pivot tables to calculate the default rates, but they did not match the default rates I calculated manually. I reached out to my tutor, and he expressed that the method I used was sufficient and said that I would need to somehow subset the df in order to obtain pivot tables with the correct rates. However, I tried to subset the dataframe so that it narrowed down to just defaults, but that attempt was not successful either. Please advise."
   ]
  },
  {
   "cell_type": "markdown",
   "metadata": {},
   "source": [
    "**Conclusion**\n",
    "\n",
    "[Write your conclusions based on your manipulations and observations.]\n",
    "Out of all the other family status categories, individuals with \"married\" as their family status have the highest default rate at 53.4%. \"Civil Partnership\" comes in as second most likely to default at a rate of 22.3%. \"Unmarried\" family status resulted in a default rate of 15.8%. \"Divorced\" family status resulted in a 4.9% default rate. The family status label that resulted in the lowest defualt rate was \"Widow/Widower\", at only 3.6%. This suggests that there may be a correlation between family status and defaulting on a loan, but further tests must be conducted in order to confirm this."
   ]
  },
  {
   "cell_type": "markdown",
   "metadata": {},
   "source": [
    "**Is there a correlation between income level and paying back on time?**"
   ]
  },
  {
   "cell_type": "code",
   "execution_count": 72,
   "metadata": {},
   "outputs": [
    {
     "name": "stdout",
     "output_type": "stream",
     "text": [
      "Total Default Count: 1739\n",
      "\n",
      "     income_type  debt  count\n",
      "0       business     0   4702\n",
      "1       business     1    376\n",
      "2  civil servant     0   1371\n",
      "3  civil servant     1     86\n",
      "4       employee     0  10023\n",
      "5       employee     1   1061\n",
      "6        retiree     0   3612\n",
      "7        retiree     1    216\n",
      "\n",
      "0.21621621621621623\n",
      "Business Income Type: 21.6%\n",
      "\n",
      "0.04945370902817711\n",
      "Civil Servant Income Type: 4.9%\n",
      "\n",
      "0.6101207590569293\n",
      "Employee Income Type: 61.0%\n",
      "\n",
      "0.1242093156986774\n",
      "Retiree Income Type: 12.4%\n",
      "\n",
      "\n",
      "                  total_income_group  debt  count\n",
      "0    High income: $90,000 to 370,000     0    208\n",
      "1    High income: $90,000 to 370,000     1     14\n",
      "2      Low income: $3,000 to $40,000     0  18481\n",
      "3      Low income: $3,000 to $40,000     1   1647\n",
      "4  Medium income: $50,000 to $80,000     0   1019\n",
      "5  Medium income: $50,000 to $80,000     1     78\n",
      "\n",
      "0.008050603795284647\n",
      "High Income Default Rate: 0.8%\n",
      "\n",
      "0.044853364002300174\n",
      "Medium Income Default_Rate: 4.5%\n",
      "\n",
      "0.9470960322024152\n",
      "Low Income Default_Rate: 94.7%\n"
     ]
    },
    {
     "data": {
      "text/html": [
       "<div>\n",
       "<style scoped>\n",
       "    .dataframe tbody tr th:only-of-type {\n",
       "        vertical-align: middle;\n",
       "    }\n",
       "\n",
       "    .dataframe tbody tr th {\n",
       "        vertical-align: top;\n",
       "    }\n",
       "\n",
       "    .dataframe thead th {\n",
       "        text-align: right;\n",
       "    }\n",
       "</style>\n",
       "<table border=\"1\" class=\"dataframe\">\n",
       "  <thead>\n",
       "    <tr style=\"text-align: right;\">\n",
       "      <th></th>\n",
       "      <th>debt</th>\n",
       "    </tr>\n",
       "    <tr>\n",
       "      <th>total_income_group</th>\n",
       "      <th></th>\n",
       "    </tr>\n",
       "  </thead>\n",
       "  <tbody>\n",
       "    <tr>\n",
       "      <th>High income: $90,000 to 370,000</th>\n",
       "      <td>0.063063</td>\n",
       "    </tr>\n",
       "    <tr>\n",
       "      <th>Low income: $3,000 to $40,000</th>\n",
       "      <td>0.081826</td>\n",
       "    </tr>\n",
       "    <tr>\n",
       "      <th>Medium income: $50,000 to $80,000</th>\n",
       "      <td>0.071103</td>\n",
       "    </tr>\n",
       "    <tr>\n",
       "      <th>All</th>\n",
       "      <td>0.081084</td>\n",
       "    </tr>\n",
       "  </tbody>\n",
       "</table>\n",
       "</div>"
      ],
      "text/plain": [
       "                                       debt\n",
       "total_income_group                         \n",
       "High income: $90,000 to 370,000    0.063063\n",
       "Low income: $3,000 to $40,000      0.081826\n",
       "Medium income: $50,000 to $80,000  0.071103\n",
       "All                                0.081084"
      ]
     },
     "execution_count": 72,
     "metadata": {},
     "output_type": "execute_result"
    }
   ],
   "source": [
    "# Check the income level data and paying back on time\n",
    "total_default = sum(effect_of_children_on_debt[effect_of_children_on_debt[\"debt\"] == 1][\"count\"])\n",
    "print(\"Total Default Count:\", total_default)\n",
    "\n",
    "print()\n",
    "\n",
    "effect_of_income_level_on_debt = credit_score.groupby([\"income_type\", \"debt\"]).size().reset_index(name=\"count\")\n",
    "print(effect_of_income_level_on_debt)\n",
    "print()\n",
    "business_income_default_rate = effect_of_income_level_on_debt[\"count\"][1] / total_default\n",
    "print(business_income_default_rate)\n",
    "percentage10 = \"{:.1%}\".format(business_income_default_rate)\n",
    "print(\"Business Income Type:\",percentage10)\n",
    "print()\n",
    "civil_servant_income_default_rate = effect_of_income_level_on_debt[\"count\"][3] / total_default\n",
    "print(civil_servant_income_default_rate)\n",
    "percentage11 = \"{:.1%}\".format(civil_servant_income_default_rate)\n",
    "print(\"Civil Servant Income Type:\", percentage11)\n",
    "print()\n",
    "employee_income_default_rate = effect_of_income_level_on_debt[\"count\"][5] / total_default\n",
    "print(employee_income_default_rate)\n",
    "percentage12 = \"{:.1%}\".format(employee_income_default_rate)\n",
    "print(\"Employee Income Type:\", percentage12)\n",
    "print()\n",
    "retiree_income_default_rate = effect_of_income_level_on_debt[\"count\"][7] / total_default\n",
    "print(retiree_income_default_rate)\n",
    "percentage13 = \"{:.1%}\".format(retiree_income_default_rate)\n",
    "print(\"Retiree Income Type:\", percentage13)\n",
    "print()\n",
    "# Calculating default-rate based on income level\n",
    "\n",
    "print()\n",
    "\n",
    "effect_of_total_income_on_debt = credit_score.groupby([\"total_income_group\", \"debt\"]).size().reset_index(name=\"count\")\n",
    "print(effect_of_total_income_on_debt)\n",
    "\n",
    "print()\n",
    "\n",
    "high_income_default_rate = effect_of_total_income_on_debt[\"count\"][1] / total_default\n",
    "print(high_income_default_rate)\n",
    "percentage7 = \"{:.1%}\".format(high_income_default_rate)\n",
    "print(\"High Income Default Rate:\",percentage7)\n",
    "print()\n",
    "medium_income_default_rate = effect_of_total_income_on_debt[\"count\"][5] / total_default\n",
    "print(medium_income_default_rate)\n",
    "percentage8 = \"{:.1%}\".format(medium_income_default_rate)\n",
    "print(\"Medium Income Default_Rate:\", percentage8)\n",
    "print()\n",
    "low_income_default_rate = effect_of_total_income_on_debt[\"count\"][3] / total_default\n",
    "print(low_income_default_rate)\n",
    "percentage9 = \"{:.1%}\".format(low_income_default_rate)\n",
    "print(\"Low Income Default_Rate:\", percentage9)\n",
    "\n",
    "credit_score.pivot_table(index=[\"total_income_group\"], values= [\"debt\"], aggfunc=\"mean\", margins=True)"
   ]
  },
  {
   "cell_type": "markdown",
   "metadata": {},
   "source": [
    "**Conclusion**\n",
    "\n",
    "[Write your conclusions based on your manipulations and observations.]\n",
    "The default rates based on income indicate that individuals in the low income category have the highest default rate (94.7%) as compared to the medium income category (4.5%). The high income category resulted in the lowest default rate (0.8%). These outcomes are expected, as one would think that the more money you make, the more likely one would pay back the loan on time. Furthermore, the data indicates that individuals who have reported \"employee\" type income also have the highest default rate at 61.0%, while the individuals with a \"business\" income type resulted in a rate of 21.6%. \"Retiree\" income type resulted in a 12.4% rate. The lowest default rate of all income types was found to be \"civil servant\" type at a rate of only 4.9%. The large difference in default rates among the [total_income categories] most likely suggests that there may be a considerable correlation between the amount of money someone makes and their likelihood to default on a loan. Further statistical testing must be conducted in order to confirm this correlation."
   ]
  },
  {
   "cell_type": "markdown",
   "metadata": {},
   "source": [
    "**How does credit purpose affect the default rate?**"
   ]
  },
  {
   "cell_type": "code",
   "execution_count": 73,
   "metadata": {},
   "outputs": [
    {
     "name": "stdout",
     "output_type": "stream",
     "text": [
      "          purpose_group  debt  count\n",
      "0          Car Purchase     0   3902\n",
      "1          Car Purchase     1    402\n",
      "2             Education     0   3643\n",
      "3             Education     1    370\n",
      "4        House Purchase     0   3552\n",
      "5        House Purchase     1    256\n",
      "6  Real Estate Purchase     0   6474\n",
      "7  Real Estate Purchase     1    525\n",
      "8               Wedding     0   2137\n",
      "9               Wedding     1    186\n",
      "\n",
      "Total Default Count: 1739\n",
      "\n",
      "0.23116733755031627\n",
      "Car Purchase Default Rate: 23.1%\n",
      "\n",
      "0.2127659574468085\n",
      "Education Default Rate: 21.3%\n",
      "\n",
      "0.1472110408280621\n",
      "House Purchase Default Rate: 14.7%\n",
      "\n",
      "0.30189764232317423\n",
      "Real Estate Default Rate: 30.2%\n",
      "\n",
      "0.10695802185163887\n",
      "Wedding Purchase Default Rate: 10.7%\n"
     ]
    },
    {
     "data": {
      "text/html": [
       "<div>\n",
       "<style scoped>\n",
       "    .dataframe tbody tr th:only-of-type {\n",
       "        vertical-align: middle;\n",
       "    }\n",
       "\n",
       "    .dataframe tbody tr th {\n",
       "        vertical-align: top;\n",
       "    }\n",
       "\n",
       "    .dataframe thead th {\n",
       "        text-align: right;\n",
       "    }\n",
       "</style>\n",
       "<table border=\"1\" class=\"dataframe\">\n",
       "  <thead>\n",
       "    <tr style=\"text-align: right;\">\n",
       "      <th></th>\n",
       "      <th>debt</th>\n",
       "    </tr>\n",
       "    <tr>\n",
       "      <th>purpose_group</th>\n",
       "      <th></th>\n",
       "    </tr>\n",
       "  </thead>\n",
       "  <tbody>\n",
       "    <tr>\n",
       "      <th>Car Purchase</th>\n",
       "      <td>0.093401</td>\n",
       "    </tr>\n",
       "    <tr>\n",
       "      <th>Education</th>\n",
       "      <td>0.092200</td>\n",
       "    </tr>\n",
       "    <tr>\n",
       "      <th>House Purchase</th>\n",
       "      <td>0.067227</td>\n",
       "    </tr>\n",
       "    <tr>\n",
       "      <th>Real Estate Purchase</th>\n",
       "      <td>0.075011</td>\n",
       "    </tr>\n",
       "    <tr>\n",
       "      <th>Wedding</th>\n",
       "      <td>0.080069</td>\n",
       "    </tr>\n",
       "    <tr>\n",
       "      <th>All</th>\n",
       "      <td>0.081084</td>\n",
       "    </tr>\n",
       "  </tbody>\n",
       "</table>\n",
       "</div>"
      ],
      "text/plain": [
       "                          debt\n",
       "purpose_group                 \n",
       "Car Purchase          0.093401\n",
       "Education             0.092200\n",
       "House Purchase        0.067227\n",
       "Real Estate Purchase  0.075011\n",
       "Wedding               0.080069\n",
       "All                   0.081084"
      ]
     },
     "execution_count": 73,
     "metadata": {},
     "output_type": "execute_result"
    }
   ],
   "source": [
    "# Check the percentages for default rate for each credit purpose and analyze them\n",
    "effect_of_purpose_on_debt = credit_score.groupby([\"purpose_group\", \"debt\"]).size().reset_index(name=\"count\")\n",
    "print(effect_of_purpose_on_debt)\n",
    "print()\n",
    "total_default = sum(effect_of_children_on_debt[effect_of_children_on_debt[\"debt\"] == 1][\"count\"])\n",
    "print(\"Total Default Count:\", total_default)\n",
    "print()\n",
    "car_purchase_default_rate = effect_of_purpose_on_debt[\"count\"][1] / total_default\n",
    "print(car_purchase_default_rate)\n",
    "percentage15 = \"{:.1%}\".format(car_purchase_default_rate)\n",
    "print(\"Car Purchase Default Rate:\",percentage15)\n",
    "print()\n",
    "education_default_rate = effect_of_purpose_on_debt[\"count\"][3] / total_default\n",
    "print(education_default_rate)\n",
    "percentage16 = \"{:.1%}\".format(education_default_rate )\n",
    "print(\"Education Default Rate:\", percentage16)\n",
    "print()\n",
    "house_purchase_default_rate = effect_of_purpose_on_debt[\"count\"][5] / total_default\n",
    "print(house_purchase_default_rate)\n",
    "percentage17 = \"{:.1%}\".format(house_purchase_default_rate)\n",
    "print(\"House Purchase Default Rate:\", percentage17)\n",
    "print()\n",
    "real_estate_default_rate = effect_of_purpose_on_debt[\"count\"][7] / total_default\n",
    "print(real_estate_default_rate)\n",
    "percentage18 = \"{:.1%}\".format(real_estate_default_rate)\n",
    "print(\"Real Estate Default Rate:\", percentage18)\n",
    "print()\n",
    "wedding_purchase_default_rate = effect_of_purpose_on_debt[\"count\"][9] / total_default\n",
    "print(wedding_purchase_default_rate)\n",
    "percentage19 = \"{:.1%}\".format(wedding_purchase_default_rate)\n",
    "print(\"Wedding Purchase Default Rate:\", percentage19)\n",
    "\n",
    "credit_score.pivot_table(index=[\"purpose_group\"], values= [\"debt\"], aggfunc=\"mean\", margins=True)"
   ]
  },
  {
   "cell_type": "markdown",
   "metadata": {},
   "source": [
    "**Conclusion**\n",
    "\n",
    "Unlike the previous factors that have been examined above, default rates based on purpose do not appear to possess the same sharp difference between different purpose groups. In other words, there doesn't seem to be a clear indication that credit purpose correlates with defaulting on a loan. The credit purpose that resulted in the highest default rate was \"real estate\" at 30.2%. The credit purpose of \"car purchase\" and \"education\" resulted in fairly similar default rates, 23.1% and 21.3% respectively. Similarly, the \"wedding purchase\" and \"house purchase\" categories were also close at 10.7% and 14.7% respectively."
   ]
  },
  {
   "cell_type": "markdown",
   "metadata": {},
   "source": [
    "# General Conclusion \n",
    "\n",
    "[List your conclusions in this final section. Make sure you include all your important conclusions you made that led you to the way you processed and analyzed the data. Cover the missing values, duplicates, and possible reasons and solutions for problematic artifacts that you had to address.]\n",
    "\n",
    "[List your conclusions regarding the posed questions here as well.]\n"
   ]
  },
  {
   "cell_type": "markdown",
   "metadata": {},
   "source": [
    "In this dataset, there were several aspects to consider. This dataset consisted of about 20% of missing data in accross all columns. All of the missing values found in the [days_employed] column and the [total_income] column were filled in with their respective medians. The median was chosed to fill in the missing values due to the high number of outliers in both these columns. Thus, the mean would not have been an appropriate measure to utilize in this case. About 1% of the dataset contained duplicates, which were consequently dropped. This dataset also conisted of some problematic data, which was either converted or dropped. A large set of negative values were found in the [days_employed] column, which were converted to positive values, as it is likely that the negative sign placed in front of these values was due to error. I also created the following additional columns in order to better categorize the data in the columns which included: [months_employed], [purpose_group], [total_income_group], [number_of_children], a      In addition, there were a set of values in the [dob_years] column that indicated \"0\" as a value. This might have also been an error, as one cannot apply for a loan until the age of 18. Thus, rather than dropping the values, they were replaced with the mean of the [dob_years] column. Furthermore, the number of [children] column contained a set of rows with a value of \"-1\", which clearly does not make sense. This appeared to have the same mistake as the [days_employed] column with a negative sign incorrectly placed in front of the value. Instead of dropping these rows, it is likley that the intended value here was actually \"1\", so I changed the value to \"1\" instead of \"-1\". In any case, even if the value should have been some other number, those rows amounted to less than 1% of the data, so it would not have changed anything in the later analysis.\n",
    "\n"
   ]
  },
  {
   "cell_type": "markdown",
   "metadata": {},
   "source": [
    "Is there a correlation between having children and paying back on time?\n",
    "Yes, it is likely that there is a relationship between having children and paying back on time, as having no children resulted in a much higher default rate (61.1%) as compared to having children (38.9%).\n",
    "\n",
    "Is there a correlation between income level and paying back on time?\n",
    "Yes, it appears that having a high income makes it dramatically less likely to default on a loan (0.8%) than having a low income, as the rate for low income resulted in a 94.7% default rate! Interestingly, having a medium income resulted in a low default rate as well (4.5%).\n",
    "\n",
    "Is there a correlation between family status and paying back on time?\n",
    "Family status does seem to impact the default rate in some way, as having the \"married\" family status resulted in the highest default rate (53.4%). The rest of the family_status categories resuled in the following:\n",
    "Civil Partnership: 22.3%, Divorced: 4.9%, Unmarried: 15.8%, and Widower/Widow: 3.6%.\n",
    "\n",
    "How does credit purpose affect the default rate?\n",
    "Credit purpose overall does not seem to be strongly correlated with paying back on time, as all of the categories within [credit_purose] deviate on a smaller scale than factors such as income level and having children:\n",
    "Car Purchase Default Rate: 23.1%, Education Default Rate: 21.3%, House Purchase Default Rate: 14.7% Real Estate Default Rate: 30.2%, and Wedding Purchase Default Rate: 10.7%.\n",
    "\n",
    "Further statistical testing should be conducted in order to confirm these suspected correlations.\n",
    "\n",
    "\n",
    "\n"
   ]
  },
  {
   "cell_type": "code",
   "execution_count": null,
   "metadata": {},
   "outputs": [],
   "source": []
  }
 ],
 "metadata": {
  "ExecuteTimeLog": [
   {
    "duration": 2741,
    "start_time": "2021-10-21T01:08:49.480Z"
   },
   {
    "duration": 52,
    "start_time": "2021-10-21T01:08:53.315Z"
   },
   {
    "duration": 49,
    "start_time": "2021-10-21T01:08:57.432Z"
   },
   {
    "duration": 70,
    "start_time": "2021-10-21T01:09:07.706Z"
   },
   {
    "duration": 582,
    "start_time": "2022-03-13T02:52:40.312Z"
   },
   {
    "duration": 923,
    "start_time": "2022-03-13T02:54:11.595Z"
   },
   {
    "duration": 1688,
    "start_time": "2022-03-13T02:55:16.741Z"
   },
   {
    "duration": 591,
    "start_time": "2022-03-13T02:58:49.145Z"
   },
   {
    "duration": 582,
    "start_time": "2022-03-13T03:01:51.689Z"
   },
   {
    "duration": 319,
    "start_time": "2022-03-13T03:01:59.758Z"
   },
   {
    "duration": 47,
    "start_time": "2022-03-13T03:08:54.982Z"
   },
   {
    "duration": 39,
    "start_time": "2022-03-13T03:09:00.320Z"
   },
   {
    "duration": 37,
    "start_time": "2022-03-13T03:09:07.126Z"
   },
   {
    "duration": 38,
    "start_time": "2022-03-13T03:09:09.720Z"
   },
   {
    "duration": 37,
    "start_time": "2022-03-13T03:09:11.921Z"
   },
   {
    "duration": 42,
    "start_time": "2022-03-13T03:09:57.019Z"
   },
   {
    "duration": 11,
    "start_time": "2022-03-13T03:11:13.163Z"
   },
   {
    "duration": 10,
    "start_time": "2022-03-13T03:11:40.272Z"
   },
   {
    "duration": 2,
    "start_time": "2022-03-13T03:11:47.559Z"
   },
   {
    "duration": 8,
    "start_time": "2022-03-13T03:13:18.668Z"
   },
   {
    "duration": 10,
    "start_time": "2022-03-13T03:20:17.972Z"
   },
   {
    "duration": 5,
    "start_time": "2022-03-13T03:23:55.374Z"
   },
   {
    "duration": 5,
    "start_time": "2022-03-13T03:24:29.039Z"
   },
   {
    "duration": 4,
    "start_time": "2022-03-13T03:25:08.379Z"
   },
   {
    "duration": 5,
    "start_time": "2022-03-13T03:25:25.126Z"
   },
   {
    "duration": 105,
    "start_time": "2022-03-13T03:25:55.755Z"
   },
   {
    "duration": 244,
    "start_time": "2022-03-13T03:26:02.346Z"
   },
   {
    "duration": 248,
    "start_time": "2022-03-13T03:26:21.338Z"
   },
   {
    "duration": 5,
    "start_time": "2022-03-13T03:26:26.194Z"
   },
   {
    "duration": 6,
    "start_time": "2022-03-13T03:27:27.740Z"
   },
   {
    "duration": 4,
    "start_time": "2022-03-13T03:30:00.885Z"
   },
   {
    "duration": 81,
    "start_time": "2022-03-13T03:30:52.017Z"
   },
   {
    "duration": 7,
    "start_time": "2022-03-13T03:31:01.053Z"
   },
   {
    "duration": 8,
    "start_time": "2022-03-13T03:31:55.066Z"
   },
   {
    "duration": 8,
    "start_time": "2022-03-13T03:32:16.633Z"
   },
   {
    "duration": 7,
    "start_time": "2022-03-13T03:33:57.804Z"
   },
   {
    "duration": 5,
    "start_time": "2022-03-13T03:34:01.257Z"
   },
   {
    "duration": 242,
    "start_time": "2022-03-13T20:06:42.711Z"
   },
   {
    "duration": 618,
    "start_time": "2022-03-13T20:06:53.000Z"
   },
   {
    "duration": 10,
    "start_time": "2022-03-13T20:06:53.620Z"
   },
   {
    "duration": 239,
    "start_time": "2022-03-13T20:06:53.632Z"
   },
   {
    "duration": 285,
    "start_time": "2022-03-13T20:06:53.873Z"
   },
   {
    "duration": 258,
    "start_time": "2022-03-13T20:06:54.159Z"
   },
   {
    "duration": 3015,
    "start_time": "2022-03-13T20:06:54.418Z"
   },
   {
    "duration": -246,
    "start_time": "2022-03-13T20:06:57.683Z"
   },
   {
    "duration": -249,
    "start_time": "2022-03-13T20:06:57.687Z"
   },
   {
    "duration": -253,
    "start_time": "2022-03-13T20:06:57.692Z"
   },
   {
    "duration": -262,
    "start_time": "2022-03-13T20:06:57.702Z"
   },
   {
    "duration": -265,
    "start_time": "2022-03-13T20:06:57.706Z"
   },
   {
    "duration": -268,
    "start_time": "2022-03-13T20:06:57.710Z"
   },
   {
    "duration": -277,
    "start_time": "2022-03-13T20:06:57.719Z"
   },
   {
    "duration": -279,
    "start_time": "2022-03-13T20:06:57.722Z"
   },
   {
    "duration": -283,
    "start_time": "2022-03-13T20:06:57.727Z"
   },
   {
    "duration": -291,
    "start_time": "2022-03-13T20:06:57.736Z"
   },
   {
    "duration": -293,
    "start_time": "2022-03-13T20:06:57.739Z"
   },
   {
    "duration": -295,
    "start_time": "2022-03-13T20:06:57.742Z"
   },
   {
    "duration": -299,
    "start_time": "2022-03-13T20:06:57.746Z"
   },
   {
    "duration": -300,
    "start_time": "2022-03-13T20:06:57.749Z"
   },
   {
    "duration": -302,
    "start_time": "2022-03-13T20:06:57.752Z"
   },
   {
    "duration": -304,
    "start_time": "2022-03-13T20:06:57.755Z"
   },
   {
    "duration": -305,
    "start_time": "2022-03-13T20:06:57.757Z"
   },
   {
    "duration": -308,
    "start_time": "2022-03-13T20:06:57.761Z"
   },
   {
    "duration": -310,
    "start_time": "2022-03-13T20:06:57.764Z"
   },
   {
    "duration": -311,
    "start_time": "2022-03-13T20:06:57.767Z"
   },
   {
    "duration": -458,
    "start_time": "2022-03-13T20:06:57.915Z"
   },
   {
    "duration": -576,
    "start_time": "2022-03-13T20:06:58.034Z"
   },
   {
    "duration": -637,
    "start_time": "2022-03-13T20:06:58.096Z"
   },
   {
    "duration": -638,
    "start_time": "2022-03-13T20:06:58.098Z"
   },
   {
    "duration": -640,
    "start_time": "2022-03-13T20:06:58.101Z"
   },
   {
    "duration": -642,
    "start_time": "2022-03-13T20:06:58.104Z"
   },
   {
    "duration": -644,
    "start_time": "2022-03-13T20:06:58.107Z"
   },
   {
    "duration": -646,
    "start_time": "2022-03-13T20:06:58.110Z"
   },
   {
    "duration": -648,
    "start_time": "2022-03-13T20:06:58.113Z"
   },
   {
    "duration": -650,
    "start_time": "2022-03-13T20:06:58.116Z"
   },
   {
    "duration": -652,
    "start_time": "2022-03-13T20:06:58.119Z"
   },
   {
    "duration": -654,
    "start_time": "2022-03-13T20:06:58.122Z"
   },
   {
    "duration": -656,
    "start_time": "2022-03-13T20:06:58.125Z"
   },
   {
    "duration": -659,
    "start_time": "2022-03-13T20:06:58.129Z"
   },
   {
    "duration": -661,
    "start_time": "2022-03-13T20:06:58.132Z"
   },
   {
    "duration": -664,
    "start_time": "2022-03-13T20:06:58.136Z"
   },
   {
    "duration": -667,
    "start_time": "2022-03-13T20:06:58.140Z"
   },
   {
    "duration": -670,
    "start_time": "2022-03-13T20:06:58.144Z"
   },
   {
    "duration": -671,
    "start_time": "2022-03-13T20:06:58.147Z"
   },
   {
    "duration": -669,
    "start_time": "2022-03-13T20:06:58.149Z"
   },
   {
    "duration": -672,
    "start_time": "2022-03-13T20:06:58.153Z"
   },
   {
    "duration": -682,
    "start_time": "2022-03-13T20:06:58.164Z"
   },
   {
    "duration": -684,
    "start_time": "2022-03-13T20:06:58.166Z"
   },
   {
    "duration": -687,
    "start_time": "2022-03-13T20:06:58.170Z"
   },
   {
    "duration": -689,
    "start_time": "2022-03-13T20:06:58.173Z"
   },
   {
    "duration": -693,
    "start_time": "2022-03-13T20:06:58.178Z"
   },
   {
    "duration": -696,
    "start_time": "2022-03-13T20:06:58.181Z"
   },
   {
    "duration": -698,
    "start_time": "2022-03-13T20:06:58.184Z"
   },
   {
    "duration": -700,
    "start_time": "2022-03-13T20:06:58.187Z"
   },
   {
    "duration": -702,
    "start_time": "2022-03-13T20:06:58.189Z"
   },
   {
    "duration": -705,
    "start_time": "2022-03-13T20:06:58.193Z"
   },
   {
    "duration": -707,
    "start_time": "2022-03-13T20:06:58.196Z"
   },
   {
    "duration": -708,
    "start_time": "2022-03-13T20:06:58.198Z"
   },
   {
    "duration": -711,
    "start_time": "2022-03-13T20:06:58.201Z"
   },
   {
    "duration": -713,
    "start_time": "2022-03-13T20:06:58.204Z"
   },
   {
    "duration": -716,
    "start_time": "2022-03-13T20:06:58.208Z"
   },
   {
    "duration": -718,
    "start_time": "2022-03-13T20:06:58.211Z"
   },
   {
    "duration": -720,
    "start_time": "2022-03-13T20:06:58.213Z"
   },
   {
    "duration": -722,
    "start_time": "2022-03-13T20:06:58.216Z"
   },
   {
    "duration": -724,
    "start_time": "2022-03-13T20:06:58.219Z"
   },
   {
    "duration": -726,
    "start_time": "2022-03-13T20:06:58.222Z"
   },
   {
    "duration": -728,
    "start_time": "2022-03-13T20:06:58.226Z"
   },
   {
    "duration": -730,
    "start_time": "2022-03-13T20:06:58.229Z"
   },
   {
    "duration": -735,
    "start_time": "2022-03-13T20:06:58.234Z"
   },
   {
    "duration": -737,
    "start_time": "2022-03-13T20:06:58.237Z"
   },
   {
    "duration": 2654,
    "start_time": "2022-03-13T20:07:08.868Z"
   },
   {
    "duration": 5,
    "start_time": "2022-03-13T20:07:22.072Z"
   },
   {
    "duration": 10,
    "start_time": "2022-03-13T20:20:54.462Z"
   },
   {
    "duration": 37,
    "start_time": "2022-03-13T20:24:01.076Z"
   },
   {
    "duration": 25,
    "start_time": "2022-03-13T20:24:26.950Z"
   },
   {
    "duration": 25,
    "start_time": "2022-03-13T20:24:33.543Z"
   },
   {
    "duration": 10,
    "start_time": "2022-03-13T20:32:10.089Z"
   },
   {
    "duration": 217,
    "start_time": "2022-03-13T20:36:34.558Z"
   },
   {
    "duration": 9,
    "start_time": "2022-03-13T20:37:20.499Z"
   },
   {
    "duration": 8,
    "start_time": "2022-03-13T20:37:39.674Z"
   },
   {
    "duration": 7,
    "start_time": "2022-03-13T20:38:06.349Z"
   },
   {
    "duration": 8,
    "start_time": "2022-03-13T20:40:15.792Z"
   },
   {
    "duration": 1531,
    "start_time": "2022-03-13T20:40:30.693Z"
   },
   {
    "duration": 7,
    "start_time": "2022-03-13T20:41:25.264Z"
   },
   {
    "duration": 10,
    "start_time": "2022-03-13T20:42:48.548Z"
   },
   {
    "duration": 10,
    "start_time": "2022-03-13T20:43:13.749Z"
   },
   {
    "duration": 7,
    "start_time": "2022-03-13T20:43:27.611Z"
   },
   {
    "duration": 8,
    "start_time": "2022-03-13T20:44:23.127Z"
   },
   {
    "duration": 8,
    "start_time": "2022-03-13T20:45:43.562Z"
   },
   {
    "duration": 11,
    "start_time": "2022-03-13T20:45:50.095Z"
   },
   {
    "duration": 14,
    "start_time": "2022-03-13T20:47:51.117Z"
   },
   {
    "duration": 16,
    "start_time": "2022-03-13T20:48:34.001Z"
   },
   {
    "duration": 20,
    "start_time": "2022-03-13T20:50:43.235Z"
   },
   {
    "duration": 69,
    "start_time": "2022-03-13T21:03:22.979Z"
   },
   {
    "duration": 5,
    "start_time": "2022-03-13T21:03:27.939Z"
   },
   {
    "duration": 65,
    "start_time": "2022-03-13T21:08:46.462Z"
   },
   {
    "duration": 67,
    "start_time": "2022-03-13T21:08:51.550Z"
   },
   {
    "duration": 76,
    "start_time": "2022-03-13T21:10:02.137Z"
   },
   {
    "duration": 68,
    "start_time": "2022-03-13T21:10:25.787Z"
   },
   {
    "duration": 214,
    "start_time": "2022-03-13T21:10:39.787Z"
   },
   {
    "duration": 78,
    "start_time": "2022-03-13T21:11:21.260Z"
   },
   {
    "duration": 6,
    "start_time": "2022-03-13T21:11:24.989Z"
   },
   {
    "duration": 7,
    "start_time": "2022-03-13T21:11:43.397Z"
   },
   {
    "duration": 17,
    "start_time": "2022-03-13T21:12:03.559Z"
   },
   {
    "duration": 10,
    "start_time": "2022-03-13T21:12:23.878Z"
   },
   {
    "duration": 16,
    "start_time": "2022-03-13T21:12:52.457Z"
   },
   {
    "duration": 9,
    "start_time": "2022-03-13T21:13:28.591Z"
   },
   {
    "duration": 9,
    "start_time": "2022-03-13T21:14:20.177Z"
   },
   {
    "duration": 11,
    "start_time": "2022-03-13T21:15:21.894Z"
   },
   {
    "duration": 11,
    "start_time": "2022-03-13T21:16:05.621Z"
   },
   {
    "duration": 218,
    "start_time": "2022-03-13T22:56:20.380Z"
   },
   {
    "duration": 597,
    "start_time": "2022-03-13T22:56:31.021Z"
   },
   {
    "duration": 10,
    "start_time": "2022-03-13T22:56:31.620Z"
   },
   {
    "duration": 15,
    "start_time": "2022-03-13T22:56:31.632Z"
   },
   {
    "duration": 26,
    "start_time": "2022-03-13T22:56:31.649Z"
   },
   {
    "duration": 6,
    "start_time": "2022-03-13T22:56:31.677Z"
   },
   {
    "duration": 15,
    "start_time": "2022-03-13T22:56:31.685Z"
   },
   {
    "duration": 23,
    "start_time": "2022-03-13T22:56:31.701Z"
   },
   {
    "duration": 12,
    "start_time": "2022-03-13T22:56:31.727Z"
   },
   {
    "duration": 2,
    "start_time": "2022-03-13T22:56:31.742Z"
   },
   {
    "duration": 3,
    "start_time": "2022-03-13T22:56:31.759Z"
   },
   {
    "duration": 9,
    "start_time": "2022-03-13T22:56:31.763Z"
   },
   {
    "duration": 14,
    "start_time": "2022-03-13T22:56:31.773Z"
   },
   {
    "duration": 6,
    "start_time": "2022-03-13T22:56:31.788Z"
   },
   {
    "duration": 7,
    "start_time": "2022-03-13T22:56:31.796Z"
   },
   {
    "duration": 8,
    "start_time": "2022-03-13T22:56:31.805Z"
   },
   {
    "duration": 12,
    "start_time": "2022-03-13T22:56:31.815Z"
   },
   {
    "duration": 9,
    "start_time": "2022-03-13T22:56:31.829Z"
   },
   {
    "duration": 8,
    "start_time": "2022-03-13T22:56:31.840Z"
   },
   {
    "duration": 7,
    "start_time": "2022-03-13T22:56:31.850Z"
   },
   {
    "duration": 10,
    "start_time": "2022-03-13T22:56:31.858Z"
   },
   {
    "duration": 13,
    "start_time": "2022-03-13T22:56:31.869Z"
   },
   {
    "duration": 9,
    "start_time": "2022-03-13T22:56:31.884Z"
   },
   {
    "duration": 4,
    "start_time": "2022-03-13T22:56:31.897Z"
   },
   {
    "duration": 10,
    "start_time": "2022-03-13T22:56:31.903Z"
   },
   {
    "duration": 10,
    "start_time": "2022-03-13T22:56:31.915Z"
   },
   {
    "duration": 8,
    "start_time": "2022-03-13T22:56:31.927Z"
   },
   {
    "duration": 7,
    "start_time": "2022-03-13T22:56:31.937Z"
   },
   {
    "duration": 7,
    "start_time": "2022-03-13T22:56:31.945Z"
   },
   {
    "duration": 17,
    "start_time": "2022-03-13T22:56:31.954Z"
   },
   {
    "duration": 4,
    "start_time": "2022-03-13T22:56:31.973Z"
   },
   {
    "duration": 5,
    "start_time": "2022-03-13T22:56:31.979Z"
   },
   {
    "duration": 6,
    "start_time": "2022-03-13T22:56:31.986Z"
   },
   {
    "duration": 4,
    "start_time": "2022-03-13T22:56:31.994Z"
   },
   {
    "duration": 4,
    "start_time": "2022-03-13T22:56:32.000Z"
   },
   {
    "duration": 6,
    "start_time": "2022-03-13T22:56:32.006Z"
   },
   {
    "duration": 5,
    "start_time": "2022-03-13T22:56:32.013Z"
   },
   {
    "duration": 4,
    "start_time": "2022-03-13T22:56:32.019Z"
   },
   {
    "duration": 8,
    "start_time": "2022-03-13T22:56:32.025Z"
   },
   {
    "duration": 6,
    "start_time": "2022-03-13T22:56:32.034Z"
   },
   {
    "duration": 7,
    "start_time": "2022-03-13T22:56:32.041Z"
   },
   {
    "duration": 7,
    "start_time": "2022-03-13T22:56:32.049Z"
   },
   {
    "duration": 9,
    "start_time": "2022-03-13T22:56:32.058Z"
   },
   {
    "duration": 11,
    "start_time": "2022-03-13T22:56:32.069Z"
   },
   {
    "duration": 13,
    "start_time": "2022-03-13T22:56:32.082Z"
   },
   {
    "duration": 9,
    "start_time": "2022-03-13T22:56:32.097Z"
   },
   {
    "duration": 6,
    "start_time": "2022-03-13T22:56:32.107Z"
   },
   {
    "duration": 10,
    "start_time": "2022-03-13T22:56:32.115Z"
   },
   {
    "duration": 7,
    "start_time": "2022-03-13T22:56:32.127Z"
   },
   {
    "duration": 7,
    "start_time": "2022-03-13T22:56:32.136Z"
   },
   {
    "duration": 7,
    "start_time": "2022-03-13T22:56:32.145Z"
   },
   {
    "duration": 13,
    "start_time": "2022-03-13T22:56:32.153Z"
   },
   {
    "duration": 11,
    "start_time": "2022-03-13T22:56:32.168Z"
   },
   {
    "duration": 7,
    "start_time": "2022-03-13T22:56:32.180Z"
   },
   {
    "duration": 10,
    "start_time": "2022-03-13T22:56:32.189Z"
   },
   {
    "duration": 9,
    "start_time": "2022-03-13T22:56:32.201Z"
   },
   {
    "duration": 8,
    "start_time": "2022-03-13T22:56:32.212Z"
   },
   {
    "duration": 5,
    "start_time": "2022-03-13T22:56:32.222Z"
   },
   {
    "duration": 5,
    "start_time": "2022-03-13T22:56:32.229Z"
   },
   {
    "duration": 7,
    "start_time": "2022-03-13T22:56:32.235Z"
   },
   {
    "duration": 9,
    "start_time": "2022-03-13T22:56:32.243Z"
   },
   {
    "duration": 4,
    "start_time": "2022-03-13T22:56:32.253Z"
   },
   {
    "duration": 5,
    "start_time": "2022-03-13T22:56:32.259Z"
   },
   {
    "duration": 5,
    "start_time": "2022-03-13T22:56:32.265Z"
   },
   {
    "duration": 6,
    "start_time": "2022-03-13T22:56:32.271Z"
   },
   {
    "duration": 5,
    "start_time": "2022-03-13T22:56:32.278Z"
   },
   {
    "duration": 9,
    "start_time": "2022-03-13T22:56:32.284Z"
   },
   {
    "duration": 6,
    "start_time": "2022-03-13T22:56:32.295Z"
   },
   {
    "duration": 6,
    "start_time": "2022-03-13T22:56:32.305Z"
   },
   {
    "duration": 7,
    "start_time": "2022-03-13T22:56:32.312Z"
   },
   {
    "duration": 7,
    "start_time": "2022-03-13T22:56:32.321Z"
   },
   {
    "duration": 5,
    "start_time": "2022-03-13T22:56:32.330Z"
   },
   {
    "duration": 56,
    "start_time": "2022-03-13T23:01:50.154Z"
   },
   {
    "duration": 12,
    "start_time": "2022-03-13T23:02:02.640Z"
   },
   {
    "duration": 13,
    "start_time": "2022-03-13T23:12:29.301Z"
   },
   {
    "duration": 10,
    "start_time": "2022-03-13T23:12:55.778Z"
   },
   {
    "duration": 14,
    "start_time": "2022-03-14T00:28:22.282Z"
   },
   {
    "duration": 17,
    "start_time": "2022-03-14T00:28:59.077Z"
   },
   {
    "duration": 20,
    "start_time": "2022-03-14T00:30:05.382Z"
   },
   {
    "duration": 82,
    "start_time": "2022-03-14T00:30:58.848Z"
   },
   {
    "duration": 20,
    "start_time": "2022-03-14T00:31:05.058Z"
   },
   {
    "duration": 23,
    "start_time": "2022-03-14T00:47:29.276Z"
   },
   {
    "duration": 72,
    "start_time": "2022-03-14T00:50:00.059Z"
   },
   {
    "duration": 21,
    "start_time": "2022-03-14T00:50:04.949Z"
   },
   {
    "duration": 44,
    "start_time": "2022-03-14T00:55:43.650Z"
   },
   {
    "duration": 47,
    "start_time": "2022-03-14T00:58:46.598Z"
   },
   {
    "duration": 48,
    "start_time": "2022-03-14T00:59:47.359Z"
   },
   {
    "duration": 46,
    "start_time": "2022-03-14T01:00:49.198Z"
   },
   {
    "duration": 20,
    "start_time": "2022-03-14T01:12:14.224Z"
   },
   {
    "duration": 20,
    "start_time": "2022-03-14T01:12:20.752Z"
   },
   {
    "duration": 19,
    "start_time": "2022-03-14T01:13:17.145Z"
   },
   {
    "duration": 19,
    "start_time": "2022-03-14T01:13:30.343Z"
   },
   {
    "duration": 22,
    "start_time": "2022-03-14T01:14:33.026Z"
   },
   {
    "duration": 21,
    "start_time": "2022-03-14T01:15:52.607Z"
   },
   {
    "duration": 10,
    "start_time": "2022-03-14T01:15:57.697Z"
   },
   {
    "duration": 20,
    "start_time": "2022-03-14T01:21:39.278Z"
   },
   {
    "duration": 69,
    "start_time": "2022-03-14T01:25:12.353Z"
   },
   {
    "duration": 7,
    "start_time": "2022-03-14T01:25:23.762Z"
   },
   {
    "duration": 23,
    "start_time": "2022-03-14T01:30:20.497Z"
   },
   {
    "duration": 21,
    "start_time": "2022-03-14T01:31:11.938Z"
   },
   {
    "duration": 22,
    "start_time": "2022-03-14T01:31:20.027Z"
   },
   {
    "duration": 22,
    "start_time": "2022-03-14T01:33:06.438Z"
   },
   {
    "duration": 74,
    "start_time": "2022-03-14T01:33:57.310Z"
   },
   {
    "duration": 22,
    "start_time": "2022-03-14T01:34:07.919Z"
   },
   {
    "duration": 68,
    "start_time": "2022-03-14T01:37:31.197Z"
   },
   {
    "duration": 26,
    "start_time": "2022-03-14T01:38:12.981Z"
   },
   {
    "duration": 27,
    "start_time": "2022-03-14T01:38:46.510Z"
   },
   {
    "duration": 63,
    "start_time": "2022-03-14T01:39:00.151Z"
   },
   {
    "duration": 25,
    "start_time": "2022-03-14T01:39:06.006Z"
   },
   {
    "duration": 60,
    "start_time": "2022-03-14T01:41:29.955Z"
   },
   {
    "duration": 24,
    "start_time": "2022-03-14T01:41:51.760Z"
   },
   {
    "duration": 5,
    "start_time": "2022-03-14T01:42:48.913Z"
   },
   {
    "duration": 14,
    "start_time": "2022-03-14T01:46:17.462Z"
   },
   {
    "duration": 13,
    "start_time": "2022-03-14T01:47:51.672Z"
   },
   {
    "duration": 13,
    "start_time": "2022-03-14T01:48:06.794Z"
   },
   {
    "duration": 67,
    "start_time": "2022-03-14T01:49:01.498Z"
   },
   {
    "duration": 56,
    "start_time": "2022-03-14T01:49:10.168Z"
   },
   {
    "duration": 59,
    "start_time": "2022-03-14T01:49:25.128Z"
   },
   {
    "duration": 14,
    "start_time": "2022-03-14T01:50:02.763Z"
   },
   {
    "duration": 61,
    "start_time": "2022-03-14T01:50:34.464Z"
   },
   {
    "duration": 72,
    "start_time": "2022-03-14T01:50:44.650Z"
   },
   {
    "duration": 63,
    "start_time": "2022-03-14T01:50:57.290Z"
   },
   {
    "duration": 69,
    "start_time": "2022-03-14T01:51:04.211Z"
   },
   {
    "duration": 271,
    "start_time": "2022-03-14T01:51:13.901Z"
   },
   {
    "duration": 14,
    "start_time": "2022-03-14T01:52:17.814Z"
   },
   {
    "duration": 16,
    "start_time": "2022-03-14T01:52:56.537Z"
   },
   {
    "duration": 3,
    "start_time": "2022-03-14T01:53:51.049Z"
   },
   {
    "duration": 5,
    "start_time": "2022-03-14T01:56:15.654Z"
   },
   {
    "duration": 26,
    "start_time": "2022-03-14T02:00:34.107Z"
   },
   {
    "duration": 15,
    "start_time": "2022-03-14T02:02:15.714Z"
   },
   {
    "duration": 57,
    "start_time": "2022-03-14T02:05:13.035Z"
   },
   {
    "duration": 73,
    "start_time": "2022-03-14T02:05:21.051Z"
   },
   {
    "duration": 65,
    "start_time": "2022-03-14T02:05:38.844Z"
   },
   {
    "duration": 64,
    "start_time": "2022-03-14T02:05:44.545Z"
   },
   {
    "duration": 26,
    "start_time": "2022-03-14T02:06:00.001Z"
   },
   {
    "duration": 24,
    "start_time": "2022-03-14T02:06:24.973Z"
   },
   {
    "duration": 18,
    "start_time": "2022-03-14T02:08:54.991Z"
   },
   {
    "duration": 208,
    "start_time": "2022-03-14T02:09:05.513Z"
   },
   {
    "duration": 25,
    "start_time": "2022-03-14T02:09:16.684Z"
   },
   {
    "duration": 16,
    "start_time": "2022-03-14T02:09:48.247Z"
   },
   {
    "duration": 17,
    "start_time": "2022-03-14T02:09:59.771Z"
   },
   {
    "duration": 67,
    "start_time": "2022-03-14T02:10:19.108Z"
   },
   {
    "duration": 60,
    "start_time": "2022-03-14T02:10:35.701Z"
   },
   {
    "duration": 75,
    "start_time": "2022-03-14T02:10:48.477Z"
   },
   {
    "duration": 63,
    "start_time": "2022-03-14T02:10:58.507Z"
   },
   {
    "duration": 192,
    "start_time": "2022-03-14T02:12:03.399Z"
   },
   {
    "duration": 210,
    "start_time": "2022-03-14T02:12:12.219Z"
   },
   {
    "duration": 64,
    "start_time": "2022-03-14T02:17:59.462Z"
   },
   {
    "duration": 63,
    "start_time": "2022-03-14T02:19:19.699Z"
   },
   {
    "duration": 55,
    "start_time": "2022-03-14T02:19:24.241Z"
   },
   {
    "duration": 63,
    "start_time": "2022-03-14T02:19:29.625Z"
   },
   {
    "duration": 65,
    "start_time": "2022-03-14T02:19:37.930Z"
   },
   {
    "duration": 55,
    "start_time": "2022-03-14T02:20:08.555Z"
   },
   {
    "duration": 67,
    "start_time": "2022-03-14T02:20:42.958Z"
   },
   {
    "duration": 57,
    "start_time": "2022-03-14T02:20:48.038Z"
   },
   {
    "duration": 76,
    "start_time": "2022-03-14T02:21:02.109Z"
   },
   {
    "duration": 64,
    "start_time": "2022-03-14T02:21:08.844Z"
   },
   {
    "duration": 18,
    "start_time": "2022-03-14T02:22:17.185Z"
   },
   {
    "duration": 476,
    "start_time": "2022-03-14T18:20:25.757Z"
   },
   {
    "duration": 837,
    "start_time": "2022-03-14T18:20:42.961Z"
   },
   {
    "duration": 14,
    "start_time": "2022-03-14T18:20:43.801Z"
   },
   {
    "duration": 42,
    "start_time": "2022-03-14T18:20:43.818Z"
   },
   {
    "duration": 54,
    "start_time": "2022-03-14T18:20:43.864Z"
   },
   {
    "duration": 43,
    "start_time": "2022-03-14T18:20:43.920Z"
   },
   {
    "duration": 8,
    "start_time": "2022-03-14T18:20:43.966Z"
   },
   {
    "duration": 37,
    "start_time": "2022-03-14T18:20:43.977Z"
   },
   {
    "duration": 41,
    "start_time": "2022-03-14T18:20:44.020Z"
   },
   {
    "duration": 1447,
    "start_time": "2022-03-14T18:20:44.065Z"
   },
   {
    "duration": 4,
    "start_time": "2022-03-14T18:20:45.515Z"
   },
   {
    "duration": 9,
    "start_time": "2022-03-14T18:20:45.521Z"
   },
   {
    "duration": 6,
    "start_time": "2022-03-14T18:20:45.532Z"
   },
   {
    "duration": 5,
    "start_time": "2022-03-14T18:20:45.541Z"
   },
   {
    "duration": 5,
    "start_time": "2022-03-14T18:20:45.548Z"
   },
   {
    "duration": 29,
    "start_time": "2022-03-14T18:20:45.555Z"
   },
   {
    "duration": 7,
    "start_time": "2022-03-14T18:20:45.586Z"
   },
   {
    "duration": 5,
    "start_time": "2022-03-14T18:20:45.595Z"
   },
   {
    "duration": 9,
    "start_time": "2022-03-14T18:20:45.603Z"
   },
   {
    "duration": 6,
    "start_time": "2022-03-14T18:20:45.615Z"
   },
   {
    "duration": 7,
    "start_time": "2022-03-14T18:20:45.624Z"
   },
   {
    "duration": 10,
    "start_time": "2022-03-14T18:20:45.633Z"
   },
   {
    "duration": 10,
    "start_time": "2022-03-14T18:20:45.645Z"
   },
   {
    "duration": 26,
    "start_time": "2022-03-14T18:20:45.661Z"
   },
   {
    "duration": 6,
    "start_time": "2022-03-14T18:20:45.691Z"
   },
   {
    "duration": 7,
    "start_time": "2022-03-14T18:20:45.699Z"
   },
   {
    "duration": 7,
    "start_time": "2022-03-14T18:20:45.708Z"
   },
   {
    "duration": 8,
    "start_time": "2022-03-14T18:20:45.717Z"
   },
   {
    "duration": 7,
    "start_time": "2022-03-14T18:20:45.727Z"
   },
   {
    "duration": 5,
    "start_time": "2022-03-14T18:20:45.736Z"
   },
   {
    "duration": 5,
    "start_time": "2022-03-14T18:20:45.744Z"
   },
   {
    "duration": 3,
    "start_time": "2022-03-14T18:20:45.783Z"
   },
   {
    "duration": 7,
    "start_time": "2022-03-14T18:20:45.789Z"
   },
   {
    "duration": 8,
    "start_time": "2022-03-14T18:20:45.798Z"
   },
   {
    "duration": 7,
    "start_time": "2022-03-14T18:20:45.808Z"
   },
   {
    "duration": 7,
    "start_time": "2022-03-14T18:20:45.817Z"
   },
   {
    "duration": 5,
    "start_time": "2022-03-14T18:20:45.826Z"
   },
   {
    "duration": 6,
    "start_time": "2022-03-14T18:20:45.834Z"
   },
   {
    "duration": 6,
    "start_time": "2022-03-14T18:20:45.843Z"
   },
   {
    "duration": 31,
    "start_time": "2022-03-14T18:20:45.852Z"
   },
   {
    "duration": 12,
    "start_time": "2022-03-14T18:20:45.886Z"
   },
   {
    "duration": 11,
    "start_time": "2022-03-14T18:20:45.901Z"
   },
   {
    "duration": 13,
    "start_time": "2022-03-14T18:20:45.914Z"
   },
   {
    "duration": 7,
    "start_time": "2022-03-14T18:20:45.929Z"
   },
   {
    "duration": 6,
    "start_time": "2022-03-14T18:20:45.938Z"
   },
   {
    "duration": 9,
    "start_time": "2022-03-14T18:20:45.946Z"
   },
   {
    "duration": 5,
    "start_time": "2022-03-14T18:20:45.957Z"
   },
   {
    "duration": 17,
    "start_time": "2022-03-14T18:20:45.965Z"
   },
   {
    "duration": 15,
    "start_time": "2022-03-14T18:20:45.984Z"
   },
   {
    "duration": 9,
    "start_time": "2022-03-14T18:20:46.002Z"
   },
   {
    "duration": 6,
    "start_time": "2022-03-14T18:20:46.014Z"
   },
   {
    "duration": 6,
    "start_time": "2022-03-14T18:20:46.023Z"
   },
   {
    "duration": 5,
    "start_time": "2022-03-14T18:20:46.031Z"
   },
   {
    "duration": 8,
    "start_time": "2022-03-14T18:20:46.038Z"
   },
   {
    "duration": 7,
    "start_time": "2022-03-14T18:20:46.049Z"
   },
   {
    "duration": 7,
    "start_time": "2022-03-14T18:20:46.058Z"
   },
   {
    "duration": 3,
    "start_time": "2022-03-14T18:20:46.083Z"
   },
   {
    "duration": 7,
    "start_time": "2022-03-14T18:20:46.089Z"
   },
   {
    "duration": 7,
    "start_time": "2022-03-14T18:20:46.099Z"
   },
   {
    "duration": 6,
    "start_time": "2022-03-14T18:20:46.109Z"
   },
   {
    "duration": 6,
    "start_time": "2022-03-14T18:20:46.118Z"
   },
   {
    "duration": 7,
    "start_time": "2022-03-14T18:20:46.127Z"
   },
   {
    "duration": 9,
    "start_time": "2022-03-14T18:20:46.136Z"
   },
   {
    "duration": 34,
    "start_time": "2022-03-14T18:20:46.148Z"
   },
   {
    "duration": 7,
    "start_time": "2022-03-14T18:20:46.185Z"
   },
   {
    "duration": 7,
    "start_time": "2022-03-14T18:20:46.195Z"
   },
   {
    "duration": 9,
    "start_time": "2022-03-14T18:20:46.205Z"
   },
   {
    "duration": 8,
    "start_time": "2022-03-14T18:20:46.216Z"
   },
   {
    "duration": 3,
    "start_time": "2022-03-14T18:20:46.233Z"
   },
   {
    "duration": 6,
    "start_time": "2022-03-14T18:20:46.238Z"
   },
   {
    "duration": 8,
    "start_time": "2022-03-14T18:20:46.246Z"
   },
   {
    "duration": 8,
    "start_time": "2022-03-14T18:20:46.283Z"
   },
   {
    "duration": 1280,
    "start_time": "2022-03-14T18:20:56.528Z"
   },
   {
    "duration": 1408,
    "start_time": "2022-03-14T18:34:59.767Z"
   },
   {
    "duration": 1421,
    "start_time": "2022-03-14T18:35:06.965Z"
   },
   {
    "duration": 1390,
    "start_time": "2022-03-14T18:35:17.887Z"
   },
   {
    "duration": 71,
    "start_time": "2022-03-14T18:40:49.778Z"
   },
   {
    "duration": 53,
    "start_time": "2022-03-14T18:41:19.058Z"
   },
   {
    "duration": 36,
    "start_time": "2022-03-14T18:41:48.223Z"
   },
   {
    "duration": 37,
    "start_time": "2022-03-14T18:43:32.227Z"
   },
   {
    "duration": 28,
    "start_time": "2022-03-14T18:45:24.593Z"
   },
   {
    "duration": 24,
    "start_time": "2022-03-14T18:45:50.949Z"
   },
   {
    "duration": 29,
    "start_time": "2022-03-14T18:46:00.465Z"
   },
   {
    "duration": 31,
    "start_time": "2022-03-14T18:46:59.656Z"
   },
   {
    "duration": 26,
    "start_time": "2022-03-14T18:47:33.484Z"
   },
   {
    "duration": 38,
    "start_time": "2022-03-14T19:06:17.857Z"
   },
   {
    "duration": 40,
    "start_time": "2022-03-14T19:09:28.147Z"
   },
   {
    "duration": 22,
    "start_time": "2022-03-14T19:10:43.397Z"
   },
   {
    "duration": 10,
    "start_time": "2022-03-14T19:12:08.776Z"
   },
   {
    "duration": 10,
    "start_time": "2022-03-14T19:12:23.801Z"
   },
   {
    "duration": 21,
    "start_time": "2022-03-14T19:12:33.926Z"
   },
   {
    "duration": 22,
    "start_time": "2022-03-14T19:13:51.008Z"
   },
   {
    "duration": 102,
    "start_time": "2022-03-14T19:14:34.946Z"
   },
   {
    "duration": 25,
    "start_time": "2022-03-14T19:14:42.029Z"
   },
   {
    "duration": 35,
    "start_time": "2022-03-14T19:15:49.348Z"
   },
   {
    "duration": 107,
    "start_time": "2022-03-14T19:17:22.278Z"
   },
   {
    "duration": 36,
    "start_time": "2022-03-14T19:17:28.500Z"
   },
   {
    "duration": 36,
    "start_time": "2022-03-14T19:18:55.333Z"
   },
   {
    "duration": 27,
    "start_time": "2022-03-14T19:20:12.299Z"
   },
   {
    "duration": 10,
    "start_time": "2022-03-14T19:20:38.746Z"
   },
   {
    "duration": 10,
    "start_time": "2022-03-14T19:20:45.846Z"
   },
   {
    "duration": 22,
    "start_time": "2022-03-14T19:21:08.272Z"
   },
   {
    "duration": 30,
    "start_time": "2022-03-14T19:21:48.974Z"
   },
   {
    "duration": 23,
    "start_time": "2022-03-14T19:21:55.691Z"
   },
   {
    "duration": 15,
    "start_time": "2022-03-14T19:22:02.541Z"
   },
   {
    "duration": 22,
    "start_time": "2022-03-14T19:22:34.499Z"
   },
   {
    "duration": 22,
    "start_time": "2022-03-14T19:23:17.489Z"
   },
   {
    "duration": 15,
    "start_time": "2022-03-14T19:23:36.239Z"
   },
   {
    "duration": 8,
    "start_time": "2022-03-14T19:25:32.279Z"
   },
   {
    "duration": 14,
    "start_time": "2022-03-14T19:25:40.102Z"
   },
   {
    "duration": 18,
    "start_time": "2022-03-14T19:25:49.861Z"
   },
   {
    "duration": 25,
    "start_time": "2022-03-14T19:31:51.879Z"
   },
   {
    "duration": 22,
    "start_time": "2022-03-14T19:32:15.959Z"
   },
   {
    "duration": 21,
    "start_time": "2022-03-14T19:32:43.352Z"
   },
   {
    "duration": 21,
    "start_time": "2022-03-14T19:33:00.218Z"
   },
   {
    "duration": 100,
    "start_time": "2022-03-14T19:56:02.938Z"
   },
   {
    "duration": 24,
    "start_time": "2022-03-14T19:56:08.497Z"
   },
   {
    "duration": 22,
    "start_time": "2022-03-14T19:57:31.839Z"
   },
   {
    "duration": 32,
    "start_time": "2022-03-14T19:57:51.127Z"
   },
   {
    "duration": 96,
    "start_time": "2022-03-14T19:58:10.438Z"
   },
   {
    "duration": 26,
    "start_time": "2022-03-14T19:58:16.748Z"
   },
   {
    "duration": 23,
    "start_time": "2022-03-14T19:59:25.887Z"
   },
   {
    "duration": 9,
    "start_time": "2022-03-14T19:59:37.729Z"
   },
   {
    "duration": 19,
    "start_time": "2022-03-14T19:59:58.348Z"
   },
   {
    "duration": 9,
    "start_time": "2022-03-14T20:01:42.253Z"
   },
   {
    "duration": 14,
    "start_time": "2022-03-14T20:01:49.196Z"
   },
   {
    "duration": 23,
    "start_time": "2022-03-14T20:02:07.025Z"
   },
   {
    "duration": 34,
    "start_time": "2022-03-14T20:04:38.378Z"
   },
   {
    "duration": 20,
    "start_time": "2022-03-14T20:04:56.101Z"
   },
   {
    "duration": 21,
    "start_time": "2022-03-14T20:05:04.975Z"
   },
   {
    "duration": 22,
    "start_time": "2022-03-14T20:05:19.866Z"
   },
   {
    "duration": 23,
    "start_time": "2022-03-14T20:05:25.679Z"
   },
   {
    "duration": 23,
    "start_time": "2022-03-14T20:05:36.044Z"
   },
   {
    "duration": 19,
    "start_time": "2022-03-14T20:05:43.281Z"
   },
   {
    "duration": 22,
    "start_time": "2022-03-14T20:05:49.321Z"
   },
   {
    "duration": 25,
    "start_time": "2022-03-14T20:05:54.834Z"
   },
   {
    "duration": 20,
    "start_time": "2022-03-14T20:06:02.264Z"
   },
   {
    "duration": 19,
    "start_time": "2022-03-14T20:06:09.335Z"
   },
   {
    "duration": 24,
    "start_time": "2022-03-14T20:06:26.641Z"
   },
   {
    "duration": 9,
    "start_time": "2022-03-14T20:06:50.710Z"
   },
   {
    "duration": 100,
    "start_time": "2022-03-14T20:06:56.997Z"
   },
   {
    "duration": 20,
    "start_time": "2022-03-14T20:07:02.255Z"
   },
   {
    "duration": 20,
    "start_time": "2022-03-14T20:07:12.777Z"
   },
   {
    "duration": 103,
    "start_time": "2022-03-14T20:07:59.700Z"
   },
   {
    "duration": 38,
    "start_time": "2022-03-14T20:08:04.899Z"
   },
   {
    "duration": 35,
    "start_time": "2022-03-14T20:08:19.584Z"
   },
   {
    "duration": 14,
    "start_time": "2022-03-14T20:14:18.631Z"
   },
   {
    "duration": 16,
    "start_time": "2022-03-14T20:37:02.767Z"
   },
   {
    "duration": 17,
    "start_time": "2022-03-14T20:37:38.145Z"
   },
   {
    "duration": 7,
    "start_time": "2022-03-14T20:38:04.099Z"
   },
   {
    "duration": 6,
    "start_time": "2022-03-14T20:38:07.004Z"
   },
   {
    "duration": 28,
    "start_time": "2022-03-14T20:38:26.438Z"
   },
   {
    "duration": 15,
    "start_time": "2022-03-14T20:38:45.785Z"
   },
   {
    "duration": 20,
    "start_time": "2022-03-14T20:39:11.040Z"
   },
   {
    "duration": 17,
    "start_time": "2022-03-14T20:39:19.760Z"
   },
   {
    "duration": 27,
    "start_time": "2022-03-14T20:40:14.578Z"
   },
   {
    "duration": 28,
    "start_time": "2022-03-14T20:40:50.157Z"
   },
   {
    "duration": 28,
    "start_time": "2022-03-14T20:41:04.181Z"
   },
   {
    "duration": 7,
    "start_time": "2022-03-14T20:45:08.629Z"
   },
   {
    "duration": 1397,
    "start_time": "2022-03-14T21:07:32.107Z"
   },
   {
    "duration": 1453,
    "start_time": "2022-03-14T21:08:49.032Z"
   },
   {
    "duration": 1301,
    "start_time": "2022-03-14T21:09:05.220Z"
   },
   {
    "duration": 1478,
    "start_time": "2022-03-14T21:09:17.083Z"
   },
   {
    "duration": 1414,
    "start_time": "2022-03-14T21:10:17.342Z"
   },
   {
    "duration": 1545,
    "start_time": "2022-03-14T21:10:24.140Z"
   },
   {
    "duration": 1506,
    "start_time": "2022-03-14T21:10:35.221Z"
   },
   {
    "duration": 94,
    "start_time": "2022-03-14T21:11:25.516Z"
   },
   {
    "duration": 8,
    "start_time": "2022-03-14T21:11:29.539Z"
   },
   {
    "duration": 103,
    "start_time": "2022-03-14T21:13:15.596Z"
   },
   {
    "duration": 6,
    "start_time": "2022-03-14T21:13:19.674Z"
   },
   {
    "duration": 92,
    "start_time": "2022-03-14T21:13:27.669Z"
   },
   {
    "duration": 6,
    "start_time": "2022-03-14T21:13:29.330Z"
   },
   {
    "duration": 25,
    "start_time": "2022-03-14T21:16:28.079Z"
   },
   {
    "duration": 39,
    "start_time": "2022-03-14T21:16:37.355Z"
   },
   {
    "duration": 363,
    "start_time": "2022-03-14T21:24:19.477Z"
   },
   {
    "duration": 313,
    "start_time": "2022-03-14T21:24:30.258Z"
   },
   {
    "duration": 9,
    "start_time": "2022-03-14T21:26:47.435Z"
   },
   {
    "duration": 9,
    "start_time": "2022-03-14T21:27:18.786Z"
   },
   {
    "duration": 279,
    "start_time": "2022-03-14T21:28:26.233Z"
   },
   {
    "duration": 323,
    "start_time": "2022-03-14T21:28:33.152Z"
   },
   {
    "duration": 278,
    "start_time": "2022-03-14T21:29:00.739Z"
   },
   {
    "duration": 368,
    "start_time": "2022-03-14T21:31:13.751Z"
   },
   {
    "duration": 292,
    "start_time": "2022-03-14T21:31:34.659Z"
   },
   {
    "duration": 7,
    "start_time": "2022-03-14T21:33:32.599Z"
   },
   {
    "duration": 17,
    "start_time": "2022-03-14T21:33:45.306Z"
   },
   {
    "duration": 33,
    "start_time": "2022-03-14T21:38:07.201Z"
   },
   {
    "duration": 125,
    "start_time": "2022-03-14T21:43:04.086Z"
   },
   {
    "duration": 95,
    "start_time": "2022-03-14T21:43:08.737Z"
   },
   {
    "duration": 57,
    "start_time": "2022-03-14T21:48:12.843Z"
   },
   {
    "duration": 9,
    "start_time": "2022-03-14T21:48:45.555Z"
   },
   {
    "duration": 132,
    "start_time": "2022-03-14T21:49:38.444Z"
   },
   {
    "duration": 97,
    "start_time": "2022-03-14T21:49:47.425Z"
   },
   {
    "duration": 89,
    "start_time": "2022-03-14T21:50:13.140Z"
   },
   {
    "duration": 103,
    "start_time": "2022-03-14T21:50:17.379Z"
   },
   {
    "duration": 110,
    "start_time": "2022-03-14T21:50:29.161Z"
   },
   {
    "duration": 112,
    "start_time": "2022-03-14T21:50:38.398Z"
   },
   {
    "duration": 91,
    "start_time": "2022-03-14T21:50:43.111Z"
   },
   {
    "duration": 90,
    "start_time": "2022-03-14T21:50:51.522Z"
   },
   {
    "duration": 293,
    "start_time": "2022-03-14T21:51:03.108Z"
   },
   {
    "duration": 244,
    "start_time": "2022-03-15T02:07:03.382Z"
   },
   {
    "duration": 717,
    "start_time": "2022-03-15T02:07:35.696Z"
   },
   {
    "duration": 10,
    "start_time": "2022-03-15T02:07:36.415Z"
   },
   {
    "duration": 9,
    "start_time": "2022-03-15T02:07:36.427Z"
   },
   {
    "duration": 15,
    "start_time": "2022-03-15T02:07:36.438Z"
   },
   {
    "duration": 16,
    "start_time": "2022-03-15T02:07:36.455Z"
   },
   {
    "duration": 27,
    "start_time": "2022-03-15T02:07:36.472Z"
   },
   {
    "duration": 12,
    "start_time": "2022-03-15T02:07:36.501Z"
   },
   {
    "duration": 48,
    "start_time": "2022-03-15T02:07:36.515Z"
   },
   {
    "duration": 919,
    "start_time": "2022-03-15T02:07:36.565Z"
   },
   {
    "duration": 11,
    "start_time": "2022-03-15T02:07:37.486Z"
   },
   {
    "duration": 22,
    "start_time": "2022-03-15T02:07:37.499Z"
   },
   {
    "duration": 10,
    "start_time": "2022-03-15T02:07:37.522Z"
   },
   {
    "duration": 40,
    "start_time": "2022-03-15T02:07:37.534Z"
   },
   {
    "duration": 3,
    "start_time": "2022-03-15T02:07:37.576Z"
   },
   {
    "duration": 7,
    "start_time": "2022-03-15T02:07:37.581Z"
   },
   {
    "duration": 364,
    "start_time": "2022-03-15T02:07:37.589Z"
   },
   {
    "duration": -130,
    "start_time": "2022-03-15T02:07:38.087Z"
   },
   {
    "duration": -134,
    "start_time": "2022-03-15T02:07:38.092Z"
   },
   {
    "duration": -138,
    "start_time": "2022-03-15T02:07:38.098Z"
   },
   {
    "duration": -148,
    "start_time": "2022-03-15T02:07:38.109Z"
   },
   {
    "duration": -153,
    "start_time": "2022-03-15T02:07:38.116Z"
   },
   {
    "duration": -158,
    "start_time": "2022-03-15T02:07:38.122Z"
   },
   {
    "duration": -170,
    "start_time": "2022-03-15T02:07:38.136Z"
   },
   {
    "duration": -245,
    "start_time": "2022-03-15T02:07:38.212Z"
   },
   {
    "duration": -252,
    "start_time": "2022-03-15T02:07:38.220Z"
   },
   {
    "duration": -258,
    "start_time": "2022-03-15T02:07:38.228Z"
   },
   {
    "duration": -264,
    "start_time": "2022-03-15T02:07:38.235Z"
   },
   {
    "duration": -272,
    "start_time": "2022-03-15T02:07:38.245Z"
   },
   {
    "duration": -277,
    "start_time": "2022-03-15T02:07:38.251Z"
   },
   {
    "duration": -283,
    "start_time": "2022-03-15T02:07:38.259Z"
   },
   {
    "duration": -289,
    "start_time": "2022-03-15T02:07:38.266Z"
   },
   {
    "duration": -296,
    "start_time": "2022-03-15T02:07:38.275Z"
   },
   {
    "duration": -304,
    "start_time": "2022-03-15T02:07:38.284Z"
   },
   {
    "duration": -311,
    "start_time": "2022-03-15T02:07:38.292Z"
   },
   {
    "duration": -316,
    "start_time": "2022-03-15T02:07:38.299Z"
   },
   {
    "duration": -323,
    "start_time": "2022-03-15T02:07:38.307Z"
   },
   {
    "duration": -343,
    "start_time": "2022-03-15T02:07:38.329Z"
   },
   {
    "duration": -351,
    "start_time": "2022-03-15T02:07:38.338Z"
   },
   {
    "duration": -356,
    "start_time": "2022-03-15T02:07:38.344Z"
   },
   {
    "duration": -361,
    "start_time": "2022-03-15T02:07:38.351Z"
   },
   {
    "duration": -367,
    "start_time": "2022-03-15T02:07:38.358Z"
   },
   {
    "duration": -373,
    "start_time": "2022-03-15T02:07:38.365Z"
   },
   {
    "duration": -378,
    "start_time": "2022-03-15T02:07:38.372Z"
   },
   {
    "duration": -383,
    "start_time": "2022-03-15T02:07:38.378Z"
   },
   {
    "duration": -387,
    "start_time": "2022-03-15T02:07:38.384Z"
   },
   {
    "duration": -394,
    "start_time": "2022-03-15T02:07:38.392Z"
   },
   {
    "duration": -401,
    "start_time": "2022-03-15T02:07:38.400Z"
   },
   {
    "duration": -408,
    "start_time": "2022-03-15T02:07:38.409Z"
   },
   {
    "duration": -412,
    "start_time": "2022-03-15T02:07:38.414Z"
   },
   {
    "duration": -359,
    "start_time": "2022-03-15T02:07:38.422Z"
   },
   {
    "duration": -378,
    "start_time": "2022-03-15T02:07:38.443Z"
   },
   {
    "duration": -385,
    "start_time": "2022-03-15T02:07:38.452Z"
   },
   {
    "duration": -392,
    "start_time": "2022-03-15T02:07:38.460Z"
   },
   {
    "duration": -396,
    "start_time": "2022-03-15T02:07:38.466Z"
   },
   {
    "duration": -405,
    "start_time": "2022-03-15T02:07:38.476Z"
   },
   {
    "duration": -409,
    "start_time": "2022-03-15T02:07:38.482Z"
   },
   {
    "duration": -416,
    "start_time": "2022-03-15T02:07:38.490Z"
   },
   {
    "duration": -419,
    "start_time": "2022-03-15T02:07:38.495Z"
   },
   {
    "duration": -423,
    "start_time": "2022-03-15T02:07:38.500Z"
   },
   {
    "duration": -431,
    "start_time": "2022-03-15T02:07:38.509Z"
   },
   {
    "duration": -437,
    "start_time": "2022-03-15T02:07:38.517Z"
   },
   {
    "duration": -445,
    "start_time": "2022-03-15T02:07:38.526Z"
   },
   {
    "duration": -454,
    "start_time": "2022-03-15T02:07:38.536Z"
   },
   {
    "duration": -483,
    "start_time": "2022-03-15T02:07:38.566Z"
   },
   {
    "duration": -489,
    "start_time": "2022-03-15T02:07:38.573Z"
   },
   {
    "duration": -495,
    "start_time": "2022-03-15T02:07:38.580Z"
   },
   {
    "duration": -503,
    "start_time": "2022-03-15T02:07:38.589Z"
   },
   {
    "duration": -509,
    "start_time": "2022-03-15T02:07:38.596Z"
   },
   {
    "duration": -512,
    "start_time": "2022-03-15T02:07:38.600Z"
   },
   {
    "duration": -522,
    "start_time": "2022-03-15T02:07:38.611Z"
   },
   {
    "duration": -526,
    "start_time": "2022-03-15T02:07:38.616Z"
   },
   {
    "duration": 5,
    "start_time": "2022-03-15T02:08:22.970Z"
   },
   {
    "duration": 218,
    "start_time": "2022-03-15T02:09:48.067Z"
   },
   {
    "duration": 212,
    "start_time": "2022-03-15T02:10:10.864Z"
   },
   {
    "duration": 202,
    "start_time": "2022-03-15T02:10:18.291Z"
   },
   {
    "duration": 6,
    "start_time": "2022-03-15T02:10:26.187Z"
   },
   {
    "duration": 3,
    "start_time": "2022-03-15T02:10:27.755Z"
   },
   {
    "duration": 8,
    "start_time": "2022-03-15T02:10:45.064Z"
   },
   {
    "duration": 10,
    "start_time": "2022-03-15T02:11:13.003Z"
   },
   {
    "duration": 5,
    "start_time": "2022-03-15T02:11:50.257Z"
   },
   {
    "duration": 6,
    "start_time": "2022-03-15T02:12:09.970Z"
   },
   {
    "duration": 548,
    "start_time": "2022-03-15T02:12:22.052Z"
   },
   {
    "duration": 534,
    "start_time": "2022-03-15T02:12:25.977Z"
   },
   {
    "duration": 7,
    "start_time": "2022-03-15T02:12:42.453Z"
   },
   {
    "duration": 7,
    "start_time": "2022-03-15T02:12:44.800Z"
   },
   {
    "duration": 8,
    "start_time": "2022-03-15T02:15:07.572Z"
   },
   {
    "duration": 21,
    "start_time": "2022-03-15T02:16:44.963Z"
   },
   {
    "duration": 25,
    "start_time": "2022-03-15T02:17:46.202Z"
   },
   {
    "duration": 25,
    "start_time": "2022-03-15T02:18:06.671Z"
   },
   {
    "duration": 17,
    "start_time": "2022-03-15T02:21:06.366Z"
   },
   {
    "duration": 16,
    "start_time": "2022-03-15T02:21:21.326Z"
   },
   {
    "duration": 76,
    "start_time": "2022-03-15T02:22:37.951Z"
   },
   {
    "duration": 30,
    "start_time": "2022-03-15T02:22:43.633Z"
   },
   {
    "duration": -827,
    "start_time": "2022-03-15T02:25:51.499Z"
   },
   {
    "duration": -144,
    "start_time": "2022-03-15T02:26:07.609Z"
   },
   {
    "duration": 5260,
    "start_time": "2022-03-15T02:26:11.443Z"
   },
   {
    "duration": 16,
    "start_time": "2022-03-15T02:26:19.688Z"
   },
   {
    "duration": 23,
    "start_time": "2022-03-15T02:26:32.250Z"
   },
   {
    "duration": 79,
    "start_time": "2022-03-15T02:26:39.803Z"
   },
   {
    "duration": 31,
    "start_time": "2022-03-15T02:26:50.950Z"
   },
   {
    "duration": 20,
    "start_time": "2022-03-15T02:34:53.985Z"
   },
   {
    "duration": 246,
    "start_time": "2022-03-15T14:58:11.989Z"
   },
   {
    "duration": 840,
    "start_time": "2022-03-15T14:58:24.195Z"
   },
   {
    "duration": 14,
    "start_time": "2022-03-15T14:58:25.038Z"
   },
   {
    "duration": 11,
    "start_time": "2022-03-15T14:58:25.055Z"
   },
   {
    "duration": 18,
    "start_time": "2022-03-15T14:58:25.088Z"
   },
   {
    "duration": 21,
    "start_time": "2022-03-15T14:58:25.109Z"
   },
   {
    "duration": 87,
    "start_time": "2022-03-15T14:58:25.133Z"
   },
   {
    "duration": 21,
    "start_time": "2022-03-15T14:58:25.222Z"
   },
   {
    "duration": 66,
    "start_time": "2022-03-15T14:58:25.247Z"
   },
   {
    "duration": 2202,
    "start_time": "2022-03-15T14:58:25.317Z"
   },
   {
    "duration": 16,
    "start_time": "2022-03-15T14:58:27.522Z"
   },
   {
    "duration": 70,
    "start_time": "2022-03-15T14:58:27.541Z"
   },
   {
    "duration": 21,
    "start_time": "2022-03-15T14:58:27.614Z"
   },
   {
    "duration": 51,
    "start_time": "2022-03-15T14:58:27.637Z"
   },
   {
    "duration": 5,
    "start_time": "2022-03-15T14:58:27.691Z"
   },
   {
    "duration": 9,
    "start_time": "2022-03-15T14:58:27.699Z"
   },
   {
    "duration": 12,
    "start_time": "2022-03-15T14:58:27.711Z"
   },
   {
    "duration": 18,
    "start_time": "2022-03-15T14:58:27.726Z"
   },
   {
    "duration": 100,
    "start_time": "2022-03-15T14:58:27.746Z"
   },
   {
    "duration": 3,
    "start_time": "2022-03-15T14:58:27.848Z"
   },
   {
    "duration": 9,
    "start_time": "2022-03-15T14:58:27.853Z"
   },
   {
    "duration": 33,
    "start_time": "2022-03-15T14:58:27.864Z"
   },
   {
    "duration": 4,
    "start_time": "2022-03-15T14:58:27.899Z"
   },
   {
    "duration": 3,
    "start_time": "2022-03-15T14:58:27.911Z"
   },
   {
    "duration": 5,
    "start_time": "2022-03-15T14:58:27.918Z"
   },
   {
    "duration": 4,
    "start_time": "2022-03-15T14:58:27.925Z"
   },
   {
    "duration": 5,
    "start_time": "2022-03-15T14:58:27.932Z"
   },
   {
    "duration": 48,
    "start_time": "2022-03-15T14:58:27.939Z"
   },
   {
    "duration": 13,
    "start_time": "2022-03-15T14:58:27.990Z"
   },
   {
    "duration": 6,
    "start_time": "2022-03-15T14:58:28.006Z"
   },
   {
    "duration": 10,
    "start_time": "2022-03-15T14:58:28.014Z"
   },
   {
    "duration": 10,
    "start_time": "2022-03-15T14:58:28.027Z"
   },
   {
    "duration": 6,
    "start_time": "2022-03-15T14:58:28.039Z"
   },
   {
    "duration": 53,
    "start_time": "2022-03-15T14:58:28.047Z"
   },
   {
    "duration": 58,
    "start_time": "2022-03-15T14:58:28.103Z"
   },
   {
    "duration": 23,
    "start_time": "2022-03-15T14:58:28.164Z"
   },
   {
    "duration": 4,
    "start_time": "2022-03-15T14:58:28.190Z"
   },
   {
    "duration": 6,
    "start_time": "2022-03-15T14:58:28.197Z"
   },
   {
    "duration": 5,
    "start_time": "2022-03-15T14:58:28.206Z"
   },
   {
    "duration": 6,
    "start_time": "2022-03-15T14:58:28.214Z"
   },
   {
    "duration": 15,
    "start_time": "2022-03-15T14:58:28.223Z"
   },
   {
    "duration": 8,
    "start_time": "2022-03-15T14:58:28.240Z"
   },
   {
    "duration": 36,
    "start_time": "2022-03-15T14:58:28.251Z"
   },
   {
    "duration": 7,
    "start_time": "2022-03-15T14:58:28.290Z"
   },
   {
    "duration": 6,
    "start_time": "2022-03-15T14:58:28.300Z"
   },
   {
    "duration": 6,
    "start_time": "2022-03-15T14:58:28.309Z"
   },
   {
    "duration": 8,
    "start_time": "2022-03-15T14:58:28.318Z"
   },
   {
    "duration": 5,
    "start_time": "2022-03-15T14:58:28.329Z"
   },
   {
    "duration": 5,
    "start_time": "2022-03-15T14:58:28.336Z"
   },
   {
    "duration": 9,
    "start_time": "2022-03-15T14:58:28.343Z"
   },
   {
    "duration": 8,
    "start_time": "2022-03-15T14:58:28.388Z"
   },
   {
    "duration": 9,
    "start_time": "2022-03-15T14:58:28.399Z"
   },
   {
    "duration": 9,
    "start_time": "2022-03-15T14:58:28.411Z"
   },
   {
    "duration": 6,
    "start_time": "2022-03-15T14:58:28.423Z"
   },
   {
    "duration": 5,
    "start_time": "2022-03-15T14:58:28.432Z"
   },
   {
    "duration": 6,
    "start_time": "2022-03-15T14:58:28.439Z"
   },
   {
    "duration": 4,
    "start_time": "2022-03-15T14:58:28.448Z"
   },
   {
    "duration": 3,
    "start_time": "2022-03-15T14:58:28.489Z"
   },
   {
    "duration": 9,
    "start_time": "2022-03-15T14:58:28.495Z"
   },
   {
    "duration": 8,
    "start_time": "2022-03-15T14:58:28.507Z"
   },
   {
    "duration": 6,
    "start_time": "2022-03-15T14:58:28.518Z"
   },
   {
    "duration": 8,
    "start_time": "2022-03-15T14:58:28.526Z"
   },
   {
    "duration": 7,
    "start_time": "2022-03-15T14:58:28.537Z"
   },
   {
    "duration": 41,
    "start_time": "2022-03-15T14:58:28.546Z"
   },
   {
    "duration": 4,
    "start_time": "2022-03-15T14:58:28.590Z"
   },
   {
    "duration": 7,
    "start_time": "2022-03-15T14:58:28.597Z"
   },
   {
    "duration": 5,
    "start_time": "2022-03-15T14:58:28.606Z"
   },
   {
    "duration": 11,
    "start_time": "2022-03-15T14:58:28.614Z"
   },
   {
    "duration": 3,
    "start_time": "2022-03-15T14:58:28.632Z"
   },
   {
    "duration": 52,
    "start_time": "2022-03-15T14:58:28.638Z"
   },
   {
    "duration": 7,
    "start_time": "2022-03-15T14:58:28.692Z"
   },
   {
    "duration": 6,
    "start_time": "2022-03-15T14:58:28.701Z"
   },
   {
    "duration": 36,
    "start_time": "2022-03-15T14:58:37.882Z"
   },
   {
    "duration": 53,
    "start_time": "2022-03-15T14:59:00.599Z"
   },
   {
    "duration": 63,
    "start_time": "2022-03-15T14:59:40.901Z"
   },
   {
    "duration": 38,
    "start_time": "2022-03-15T15:03:09.238Z"
   },
   {
    "duration": 41,
    "start_time": "2022-03-15T15:04:52.964Z"
   },
   {
    "duration": 60,
    "start_time": "2022-03-15T15:05:46.463Z"
   },
   {
    "duration": 54,
    "start_time": "2022-03-15T15:06:01.010Z"
   },
   {
    "duration": 88,
    "start_time": "2022-03-15T15:06:06.936Z"
   },
   {
    "duration": 75,
    "start_time": "2022-03-15T15:06:10.672Z"
   },
   {
    "duration": 50,
    "start_time": "2022-03-15T15:06:16.290Z"
   },
   {
    "duration": 48,
    "start_time": "2022-03-15T15:06:26.443Z"
   },
   {
    "duration": 50,
    "start_time": "2022-03-15T15:06:33.801Z"
   },
   {
    "duration": 120,
    "start_time": "2022-03-15T15:06:39.299Z"
   },
   {
    "duration": 49,
    "start_time": "2022-03-15T15:06:50.037Z"
   },
   {
    "duration": 49,
    "start_time": "2022-03-15T15:06:56.428Z"
   },
   {
    "duration": 61,
    "start_time": "2022-03-15T15:07:07.105Z"
   },
   {
    "duration": 37,
    "start_time": "2022-03-15T15:07:11.839Z"
   },
   {
    "duration": 237,
    "start_time": "2022-03-15T15:10:26.111Z"
   },
   {
    "duration": 50,
    "start_time": "2022-03-15T15:10:38.359Z"
   },
   {
    "duration": 23,
    "start_time": "2022-03-15T15:16:36.040Z"
   },
   {
    "duration": 723,
    "start_time": "2022-03-16T01:23:46.121Z"
   },
   {
    "duration": 10,
    "start_time": "2022-03-16T01:23:46.846Z"
   },
   {
    "duration": 8,
    "start_time": "2022-03-16T01:23:46.858Z"
   },
   {
    "duration": 15,
    "start_time": "2022-03-16T01:23:46.868Z"
   },
   {
    "duration": 11,
    "start_time": "2022-03-16T01:23:46.885Z"
   },
   {
    "duration": 31,
    "start_time": "2022-03-16T01:23:46.898Z"
   },
   {
    "duration": 34,
    "start_time": "2022-03-16T01:23:46.930Z"
   },
   {
    "duration": 27,
    "start_time": "2022-03-16T01:23:46.967Z"
   },
   {
    "duration": 903,
    "start_time": "2022-03-16T01:23:46.996Z"
   },
   {
    "duration": 9,
    "start_time": "2022-03-16T01:23:47.901Z"
   },
   {
    "duration": 18,
    "start_time": "2022-03-16T01:23:47.911Z"
   },
   {
    "duration": 10,
    "start_time": "2022-03-16T01:23:47.931Z"
   },
   {
    "duration": 34,
    "start_time": "2022-03-16T01:23:47.943Z"
   },
   {
    "duration": 6,
    "start_time": "2022-03-16T01:23:47.979Z"
   },
   {
    "duration": 6,
    "start_time": "2022-03-16T01:23:47.986Z"
   },
   {
    "duration": 7,
    "start_time": "2022-03-16T01:23:47.994Z"
   },
   {
    "duration": 9,
    "start_time": "2022-03-16T01:23:48.003Z"
   },
   {
    "duration": 24,
    "start_time": "2022-03-16T01:23:48.014Z"
   },
   {
    "duration": 23,
    "start_time": "2022-03-16T01:23:48.040Z"
   },
   {
    "duration": 4,
    "start_time": "2022-03-16T01:23:48.065Z"
   },
   {
    "duration": 5,
    "start_time": "2022-03-16T01:23:48.071Z"
   },
   {
    "duration": 5,
    "start_time": "2022-03-16T01:23:48.078Z"
   },
   {
    "duration": 3,
    "start_time": "2022-03-16T01:23:48.086Z"
   },
   {
    "duration": 4,
    "start_time": "2022-03-16T01:23:48.092Z"
   },
   {
    "duration": 5,
    "start_time": "2022-03-16T01:23:48.097Z"
   },
   {
    "duration": 4,
    "start_time": "2022-03-16T01:23:48.104Z"
   },
   {
    "duration": 6,
    "start_time": "2022-03-16T01:23:48.109Z"
   },
   {
    "duration": 5,
    "start_time": "2022-03-16T01:23:48.116Z"
   },
   {
    "duration": 6,
    "start_time": "2022-03-16T01:23:48.122Z"
   },
   {
    "duration": 5,
    "start_time": "2022-03-16T01:23:48.129Z"
   },
   {
    "duration": 27,
    "start_time": "2022-03-16T01:23:48.136Z"
   },
   {
    "duration": 2,
    "start_time": "2022-03-16T01:23:48.165Z"
   },
   {
    "duration": 25,
    "start_time": "2022-03-16T01:23:48.168Z"
   },
   {
    "duration": 30,
    "start_time": "2022-03-16T01:23:48.195Z"
   },
   {
    "duration": 2,
    "start_time": "2022-03-16T01:23:48.227Z"
   },
   {
    "duration": 5,
    "start_time": "2022-03-16T01:23:48.231Z"
   },
   {
    "duration": 7,
    "start_time": "2022-03-16T01:23:48.238Z"
   },
   {
    "duration": 17,
    "start_time": "2022-03-16T01:23:48.246Z"
   },
   {
    "duration": 6,
    "start_time": "2022-03-16T01:23:48.265Z"
   },
   {
    "duration": 6,
    "start_time": "2022-03-16T01:23:48.272Z"
   },
   {
    "duration": 9,
    "start_time": "2022-03-16T01:23:48.279Z"
   },
   {
    "duration": 8,
    "start_time": "2022-03-16T01:23:48.290Z"
   },
   {
    "duration": 6,
    "start_time": "2022-03-16T01:23:48.299Z"
   },
   {
    "duration": 14,
    "start_time": "2022-03-16T01:23:48.307Z"
   },
   {
    "duration": 7,
    "start_time": "2022-03-16T01:23:48.323Z"
   },
   {
    "duration": 5,
    "start_time": "2022-03-16T01:23:48.332Z"
   },
   {
    "duration": 8,
    "start_time": "2022-03-16T01:23:48.339Z"
   },
   {
    "duration": 5,
    "start_time": "2022-03-16T01:23:48.348Z"
   },
   {
    "duration": 4,
    "start_time": "2022-03-16T01:23:48.355Z"
   },
   {
    "duration": 4,
    "start_time": "2022-03-16T01:23:48.361Z"
   },
   {
    "duration": 10,
    "start_time": "2022-03-16T01:23:48.366Z"
   },
   {
    "duration": 6,
    "start_time": "2022-03-16T01:23:48.377Z"
   },
   {
    "duration": 4,
    "start_time": "2022-03-16T01:23:48.385Z"
   },
   {
    "duration": 5,
    "start_time": "2022-03-16T01:23:48.391Z"
   },
   {
    "duration": 4,
    "start_time": "2022-03-16T01:23:48.397Z"
   },
   {
    "duration": 4,
    "start_time": "2022-03-16T01:23:48.403Z"
   },
   {
    "duration": 6,
    "start_time": "2022-03-16T01:23:48.408Z"
   },
   {
    "duration": 6,
    "start_time": "2022-03-16T01:23:48.415Z"
   },
   {
    "duration": 5,
    "start_time": "2022-03-16T01:23:48.422Z"
   },
   {
    "duration": 5,
    "start_time": "2022-03-16T01:23:48.428Z"
   },
   {
    "duration": 5,
    "start_time": "2022-03-16T01:23:48.434Z"
   },
   {
    "duration": 4,
    "start_time": "2022-03-16T01:23:48.441Z"
   },
   {
    "duration": 5,
    "start_time": "2022-03-16T01:23:48.446Z"
   },
   {
    "duration": 2,
    "start_time": "2022-03-16T01:23:48.463Z"
   },
   {
    "duration": 4,
    "start_time": "2022-03-16T01:23:48.467Z"
   },
   {
    "duration": 4,
    "start_time": "2022-03-16T01:23:48.473Z"
   },
   {
    "duration": 7,
    "start_time": "2022-03-16T01:23:48.479Z"
   },
   {
    "duration": 2,
    "start_time": "2022-03-16T01:23:48.491Z"
   },
   {
    "duration": 5,
    "start_time": "2022-03-16T01:23:48.495Z"
   },
   {
    "duration": 5,
    "start_time": "2022-03-16T01:23:48.502Z"
   },
   {
    "duration": 5,
    "start_time": "2022-03-16T01:23:48.508Z"
   },
   {
    "duration": 33,
    "start_time": "2022-03-16T01:24:04.776Z"
   },
   {
    "duration": 34,
    "start_time": "2022-03-16T01:30:44.868Z"
   },
   {
    "duration": 34,
    "start_time": "2022-03-16T01:34:37.300Z"
   },
   {
    "duration": 31,
    "start_time": "2022-03-16T01:34:41.795Z"
   },
   {
    "duration": 21,
    "start_time": "2022-03-16T01:34:58.404Z"
   },
   {
    "duration": 292,
    "start_time": "2022-03-16T01:42:31.196Z"
   },
   {
    "duration": 12,
    "start_time": "2022-03-16T01:42:40.204Z"
   },
   {
    "duration": 21,
    "start_time": "2022-03-16T01:45:27.767Z"
   },
   {
    "duration": 22,
    "start_time": "2022-03-16T01:45:48.939Z"
   },
   {
    "duration": 22,
    "start_time": "2022-03-16T01:45:56.938Z"
   },
   {
    "duration": 11,
    "start_time": "2022-03-16T01:45:58.738Z"
   },
   {
    "duration": 21,
    "start_time": "2022-03-16T01:46:21.594Z"
   },
   {
    "duration": 620,
    "start_time": "2022-03-16T01:46:56.972Z"
   },
   {
    "duration": 9,
    "start_time": "2022-03-16T01:46:57.594Z"
   },
   {
    "duration": 6,
    "start_time": "2022-03-16T01:46:57.605Z"
   },
   {
    "duration": 13,
    "start_time": "2022-03-16T01:46:57.613Z"
   },
   {
    "duration": 11,
    "start_time": "2022-03-16T01:46:57.627Z"
   },
   {
    "duration": 47,
    "start_time": "2022-03-16T01:46:57.640Z"
   },
   {
    "duration": 13,
    "start_time": "2022-03-16T01:46:57.688Z"
   },
   {
    "duration": 26,
    "start_time": "2022-03-16T01:46:57.703Z"
   },
   {
    "duration": 932,
    "start_time": "2022-03-16T01:46:57.731Z"
   },
   {
    "duration": 10,
    "start_time": "2022-03-16T01:46:58.664Z"
   },
   {
    "duration": 14,
    "start_time": "2022-03-16T01:46:58.675Z"
   },
   {
    "duration": 11,
    "start_time": "2022-03-16T01:46:58.691Z"
   },
   {
    "duration": 20,
    "start_time": "2022-03-16T01:46:58.704Z"
   },
   {
    "duration": 4,
    "start_time": "2022-03-16T01:46:58.726Z"
   },
   {
    "duration": 5,
    "start_time": "2022-03-16T01:46:58.763Z"
   },
   {
    "duration": 6,
    "start_time": "2022-03-16T01:46:58.770Z"
   },
   {
    "duration": 20,
    "start_time": "2022-03-16T01:46:58.777Z"
   },
   {
    "duration": 29,
    "start_time": "2022-03-16T01:46:58.798Z"
   },
   {
    "duration": 2,
    "start_time": "2022-03-16T01:46:58.829Z"
   },
   {
    "duration": 5,
    "start_time": "2022-03-16T01:46:58.832Z"
   },
   {
    "duration": 4,
    "start_time": "2022-03-16T01:46:58.839Z"
   },
   {
    "duration": 5,
    "start_time": "2022-03-16T01:46:58.844Z"
   },
   {
    "duration": 10,
    "start_time": "2022-03-16T01:46:58.853Z"
   },
   {
    "duration": 4,
    "start_time": "2022-03-16T01:46:58.865Z"
   },
   {
    "duration": 4,
    "start_time": "2022-03-16T01:46:58.871Z"
   },
   {
    "duration": 4,
    "start_time": "2022-03-16T01:46:58.877Z"
   },
   {
    "duration": 5,
    "start_time": "2022-03-16T01:46:58.883Z"
   },
   {
    "duration": 4,
    "start_time": "2022-03-16T01:46:58.889Z"
   },
   {
    "duration": 6,
    "start_time": "2022-03-16T01:46:58.894Z"
   },
   {
    "duration": 10,
    "start_time": "2022-03-16T01:46:58.901Z"
   },
   {
    "duration": 4,
    "start_time": "2022-03-16T01:46:58.913Z"
   },
   {
    "duration": 5,
    "start_time": "2022-03-16T01:46:58.919Z"
   },
   {
    "duration": 61,
    "start_time": "2022-03-16T01:46:58.925Z"
   },
   {
    "duration": 31,
    "start_time": "2022-03-16T01:46:58.988Z"
   },
   {
    "duration": 43,
    "start_time": "2022-03-16T01:46:59.021Z"
   },
   {
    "duration": 14,
    "start_time": "2022-03-16T01:46:59.066Z"
   },
   {
    "duration": 4,
    "start_time": "2022-03-16T01:46:59.083Z"
   },
   {
    "duration": 13,
    "start_time": "2022-03-16T01:46:59.089Z"
   },
   {
    "duration": 7,
    "start_time": "2022-03-16T01:46:59.104Z"
   },
   {
    "duration": 12,
    "start_time": "2022-03-16T01:46:59.113Z"
   },
   {
    "duration": 7,
    "start_time": "2022-03-16T01:46:59.128Z"
   },
   {
    "duration": 6,
    "start_time": "2022-03-16T01:46:59.137Z"
   },
   {
    "duration": 9,
    "start_time": "2022-03-16T01:46:59.145Z"
   },
   {
    "duration": 8,
    "start_time": "2022-03-16T01:46:59.156Z"
   },
   {
    "duration": 11,
    "start_time": "2022-03-16T01:46:59.165Z"
   },
   {
    "duration": 6,
    "start_time": "2022-03-16T01:46:59.178Z"
   },
   {
    "duration": 5,
    "start_time": "2022-03-16T01:46:59.185Z"
   },
   {
    "duration": 7,
    "start_time": "2022-03-16T01:46:59.191Z"
   },
   {
    "duration": 4,
    "start_time": "2022-03-16T01:46:59.200Z"
   },
   {
    "duration": 6,
    "start_time": "2022-03-16T01:46:59.206Z"
   },
   {
    "duration": 6,
    "start_time": "2022-03-16T01:46:59.214Z"
   },
   {
    "duration": 6,
    "start_time": "2022-03-16T01:46:59.221Z"
   },
   {
    "duration": 5,
    "start_time": "2022-03-16T01:46:59.229Z"
   },
   {
    "duration": 6,
    "start_time": "2022-03-16T01:46:59.235Z"
   },
   {
    "duration": 5,
    "start_time": "2022-03-16T01:46:59.242Z"
   },
   {
    "duration": 7,
    "start_time": "2022-03-16T01:46:59.248Z"
   },
   {
    "duration": 8,
    "start_time": "2022-03-16T01:46:59.256Z"
   },
   {
    "duration": 4,
    "start_time": "2022-03-16T01:46:59.265Z"
   },
   {
    "duration": 5,
    "start_time": "2022-03-16T01:46:59.271Z"
   },
   {
    "duration": 4,
    "start_time": "2022-03-16T01:46:59.277Z"
   },
   {
    "duration": 5,
    "start_time": "2022-03-16T01:46:59.283Z"
   },
   {
    "duration": 7,
    "start_time": "2022-03-16T01:46:59.290Z"
   },
   {
    "duration": 5,
    "start_time": "2022-03-16T01:46:59.299Z"
   },
   {
    "duration": 7,
    "start_time": "2022-03-16T01:46:59.305Z"
   },
   {
    "duration": 6,
    "start_time": "2022-03-16T01:46:59.314Z"
   },
   {
    "duration": 4,
    "start_time": "2022-03-16T01:46:59.321Z"
   },
   {
    "duration": 5,
    "start_time": "2022-03-16T01:46:59.326Z"
   },
   {
    "duration": 6,
    "start_time": "2022-03-16T01:46:59.335Z"
   },
   {
    "duration": 8,
    "start_time": "2022-03-16T01:46:59.343Z"
   },
   {
    "duration": 12,
    "start_time": "2022-03-16T01:46:59.352Z"
   },
   {
    "duration": 4,
    "start_time": "2022-03-16T01:46:59.365Z"
   },
   {
    "duration": 52,
    "start_time": "2022-03-16T01:48:17.270Z"
   },
   {
    "duration": 21,
    "start_time": "2022-03-16T01:52:49.471Z"
   },
   {
    "duration": 340,
    "start_time": "2022-03-16T01:52:59.906Z"
   },
   {
    "duration": 22,
    "start_time": "2022-03-16T01:53:07.933Z"
   },
   {
    "duration": 52,
    "start_time": "2022-03-16T01:53:31.283Z"
   },
   {
    "duration": 34,
    "start_time": "2022-03-16T01:53:57.390Z"
   },
   {
    "duration": 21,
    "start_time": "2022-03-16T01:54:11.694Z"
   },
   {
    "duration": 12,
    "start_time": "2022-03-16T01:54:21.492Z"
   },
   {
    "duration": 271,
    "start_time": "2022-03-16T02:10:01.638Z"
   },
   {
    "duration": 4,
    "start_time": "2022-03-16T02:11:29.179Z"
   },
   {
    "duration": 4,
    "start_time": "2022-03-16T02:11:39.796Z"
   },
   {
    "duration": 4,
    "start_time": "2022-03-16T02:11:58.692Z"
   },
   {
    "duration": 71,
    "start_time": "2022-03-16T02:20:54.607Z"
   },
   {
    "duration": 3,
    "start_time": "2022-03-16T02:21:29.769Z"
   },
   {
    "duration": 4,
    "start_time": "2022-03-16T02:21:41.290Z"
   },
   {
    "duration": 7,
    "start_time": "2022-03-16T02:25:18.337Z"
   },
   {
    "duration": 3,
    "start_time": "2022-03-16T02:27:28.779Z"
   },
   {
    "duration": 411,
    "start_time": "2022-03-16T02:29:46.601Z"
   },
   {
    "duration": 68,
    "start_time": "2022-03-16T02:30:22.318Z"
   },
   {
    "duration": 412,
    "start_time": "2022-03-16T02:30:26.068Z"
   },
   {
    "duration": 3,
    "start_time": "2022-03-16T02:34:31.948Z"
   },
   {
    "duration": 271,
    "start_time": "2022-03-16T02:34:36.491Z"
   },
   {
    "duration": 4,
    "start_time": "2022-03-16T02:34:57.695Z"
   },
   {
    "duration": 201,
    "start_time": "2022-03-16T02:35:17.641Z"
   },
   {
    "duration": 4,
    "start_time": "2022-03-16T02:35:37.212Z"
   },
   {
    "duration": 204,
    "start_time": "2022-03-16T02:35:37.287Z"
   },
   {
    "duration": 466,
    "start_time": "2022-03-16T02:37:13.746Z"
   },
   {
    "duration": 421,
    "start_time": "2022-03-16T02:37:33.632Z"
   },
   {
    "duration": 4,
    "start_time": "2022-03-16T02:38:07.632Z"
   },
   {
    "duration": 5,
    "start_time": "2022-03-16T02:41:35.944Z"
   },
   {
    "duration": 3,
    "start_time": "2022-03-16T02:41:45.776Z"
   },
   {
    "duration": 11,
    "start_time": "2022-03-16T02:43:49.093Z"
   },
   {
    "duration": 7,
    "start_time": "2022-03-16T02:44:06.856Z"
   },
   {
    "duration": 7,
    "start_time": "2022-03-16T02:44:23.767Z"
   },
   {
    "duration": 219,
    "start_time": "2022-03-16T20:27:34.165Z"
   },
   {
    "duration": 1169,
    "start_time": "2022-03-16T20:27:47.960Z"
   },
   {
    "duration": 16,
    "start_time": "2022-03-16T20:27:49.133Z"
   },
   {
    "duration": 1103,
    "start_time": "2022-03-16T20:27:49.153Z"
   },
   {
    "duration": 580,
    "start_time": "2022-03-16T20:27:50.260Z"
   },
   {
    "duration": 305,
    "start_time": "2022-03-16T20:27:50.842Z"
   },
   {
    "duration": 254,
    "start_time": "2022-03-16T20:27:51.149Z"
   },
   {
    "duration": 291,
    "start_time": "2022-03-16T20:27:51.406Z"
   },
   {
    "duration": 354,
    "start_time": "2022-03-16T20:27:51.701Z"
   },
   {
    "duration": 2332,
    "start_time": "2022-03-16T20:27:52.058Z"
   },
   {
    "duration": 22,
    "start_time": "2022-03-16T20:27:54.393Z"
   },
   {
    "duration": 470,
    "start_time": "2022-03-16T20:27:54.418Z"
   },
   {
    "duration": 323,
    "start_time": "2022-03-16T20:27:54.891Z"
   },
   {
    "duration": 600,
    "start_time": "2022-03-16T20:27:55.217Z"
   },
   {
    "duration": 569,
    "start_time": "2022-03-16T20:27:55.820Z"
   },
   {
    "duration": 961,
    "start_time": "2022-03-16T20:27:56.392Z"
   },
   {
    "duration": 672,
    "start_time": "2022-03-16T20:27:57.356Z"
   },
   {
    "duration": 800,
    "start_time": "2022-03-16T20:27:58.030Z"
   },
   {
    "duration": 638,
    "start_time": "2022-03-16T20:27:58.833Z"
   },
   {
    "duration": 1104,
    "start_time": "2022-03-16T20:27:59.474Z"
   },
   {
    "duration": 931,
    "start_time": "2022-03-16T20:28:00.581Z"
   },
   {
    "duration": 2014,
    "start_time": "2022-03-16T20:28:01.514Z"
   },
   {
    "duration": 1633,
    "start_time": "2022-03-16T20:28:03.530Z"
   },
   {
    "duration": 1397,
    "start_time": "2022-03-16T20:28:05.169Z"
   },
   {
    "duration": 1704,
    "start_time": "2022-03-16T20:28:06.571Z"
   },
   {
    "duration": 1556,
    "start_time": "2022-03-16T20:28:08.278Z"
   },
   {
    "duration": 1353,
    "start_time": "2022-03-16T20:28:09.837Z"
   },
   {
    "duration": 1444,
    "start_time": "2022-03-16T20:28:11.193Z"
   },
   {
    "duration": 1706,
    "start_time": "2022-03-16T20:28:12.639Z"
   },
   {
    "duration": 1516,
    "start_time": "2022-03-16T20:28:14.348Z"
   },
   {
    "duration": 1860,
    "start_time": "2022-03-16T20:28:15.867Z"
   },
   {
    "duration": 1785,
    "start_time": "2022-03-16T20:28:17.730Z"
   },
   {
    "duration": 1729,
    "start_time": "2022-03-16T20:28:19.518Z"
   },
   {
    "duration": 1691,
    "start_time": "2022-03-16T20:28:21.250Z"
   },
   {
    "duration": 2171,
    "start_time": "2022-03-16T20:28:22.943Z"
   },
   {
    "duration": 1943,
    "start_time": "2022-03-16T20:28:25.117Z"
   },
   {
    "duration": 2680,
    "start_time": "2022-03-16T20:28:27.063Z"
   },
   {
    "duration": 1251,
    "start_time": "2022-03-16T20:28:29.745Z"
   },
   {
    "duration": 1368,
    "start_time": "2022-03-16T20:28:30.999Z"
   },
   {
    "duration": 1812,
    "start_time": "2022-03-16T20:28:32.370Z"
   },
   {
    "duration": 1520,
    "start_time": "2022-03-16T20:28:34.185Z"
   },
   {
    "duration": 1393,
    "start_time": "2022-03-16T20:28:35.708Z"
   },
   {
    "duration": 1315,
    "start_time": "2022-03-16T20:28:37.103Z"
   },
   {
    "duration": 1452,
    "start_time": "2022-03-16T20:28:38.421Z"
   },
   {
    "duration": 1102,
    "start_time": "2022-03-16T20:28:39.876Z"
   },
   {
    "duration": 435,
    "start_time": "2022-03-16T20:28:40.981Z"
   },
   {
    "duration": 1790,
    "start_time": "2022-03-16T20:28:41.418Z"
   },
   {
    "duration": 1910,
    "start_time": "2022-03-16T20:28:43.211Z"
   },
   {
    "duration": 1674,
    "start_time": "2022-03-16T20:28:45.123Z"
   },
   {
    "duration": 1844,
    "start_time": "2022-03-16T20:28:46.800Z"
   },
   {
    "duration": 1553,
    "start_time": "2022-03-16T20:28:48.647Z"
   },
   {
    "duration": 1385,
    "start_time": "2022-03-16T20:28:50.202Z"
   },
   {
    "duration": 1159,
    "start_time": "2022-03-16T20:28:51.590Z"
   },
   {
    "duration": 1704,
    "start_time": "2022-03-16T20:28:52.751Z"
   },
   {
    "duration": 1076,
    "start_time": "2022-03-16T20:28:54.458Z"
   },
   {
    "duration": 895,
    "start_time": "2022-03-16T20:28:55.536Z"
   },
   {
    "duration": 1355,
    "start_time": "2022-03-16T20:28:56.433Z"
   },
   {
    "duration": 1315,
    "start_time": "2022-03-16T20:28:57.791Z"
   },
   {
    "duration": 894,
    "start_time": "2022-03-16T20:28:59.109Z"
   },
   {
    "duration": 1293,
    "start_time": "2022-03-16T20:29:00.005Z"
   },
   {
    "duration": 887,
    "start_time": "2022-03-16T20:29:01.301Z"
   },
   {
    "duration": 1046,
    "start_time": "2022-03-16T20:29:02.192Z"
   },
   {
    "duration": 850,
    "start_time": "2022-03-16T20:29:03.241Z"
   },
   {
    "duration": 1208,
    "start_time": "2022-03-16T20:29:04.094Z"
   },
   {
    "duration": 1344,
    "start_time": "2022-03-16T20:29:05.305Z"
   },
   {
    "duration": 616,
    "start_time": "2022-03-16T20:29:06.652Z"
   },
   {
    "duration": 582,
    "start_time": "2022-03-16T20:29:07.271Z"
   },
   {
    "duration": 855,
    "start_time": "2022-03-16T20:29:07.856Z"
   },
   {
    "duration": 941,
    "start_time": "2022-03-16T20:29:08.721Z"
   },
   {
    "duration": 970,
    "start_time": "2022-03-16T20:29:09.665Z"
   },
   {
    "duration": 814,
    "start_time": "2022-03-16T20:29:10.638Z"
   },
   {
    "duration": 480,
    "start_time": "2022-03-16T20:29:11.454Z"
   },
   {
    "duration": 66,
    "start_time": "2022-03-16T20:33:17.892Z"
   },
   {
    "duration": 52,
    "start_time": "2022-03-16T20:33:21.851Z"
   },
   {
    "duration": 62,
    "start_time": "2022-03-16T20:34:03.850Z"
   },
   {
    "duration": 12,
    "start_time": "2022-03-16T20:34:15.415Z"
   },
   {
    "duration": 326,
    "start_time": "2022-03-16T20:34:29.034Z"
   },
   {
    "duration": 60,
    "start_time": "2022-03-16T20:34:45.447Z"
   },
   {
    "duration": 153,
    "start_time": "2022-03-16T20:34:49.174Z"
   },
   {
    "duration": 11,
    "start_time": "2022-03-16T20:34:59.450Z"
   },
   {
    "duration": 13,
    "start_time": "2022-03-16T20:35:08.089Z"
   },
   {
    "duration": 18,
    "start_time": "2022-03-16T20:43:21.714Z"
   },
   {
    "duration": 35,
    "start_time": "2022-03-16T21:01:05.336Z"
   },
   {
    "duration": 51,
    "start_time": "2022-03-16T21:01:13.700Z"
   },
   {
    "duration": 331,
    "start_time": "2022-03-16T21:01:38.602Z"
   },
   {
    "duration": 196,
    "start_time": "2022-03-16T21:01:41.951Z"
   },
   {
    "duration": 233,
    "start_time": "2022-03-16T21:01:49.982Z"
   },
   {
    "duration": 184,
    "start_time": "2022-03-16T21:02:32.102Z"
   },
   {
    "duration": 216,
    "start_time": "2022-03-16T21:02:36.176Z"
   },
   {
    "duration": 55,
    "start_time": "2022-03-16T21:02:57.564Z"
   },
   {
    "duration": 36,
    "start_time": "2022-03-16T21:03:09.548Z"
   },
   {
    "duration": 174,
    "start_time": "2022-03-16T21:04:41.701Z"
   },
   {
    "duration": 35,
    "start_time": "2022-03-16T21:04:57.306Z"
   },
   {
    "duration": 935,
    "start_time": "2022-03-16T21:33:34.360Z"
   },
   {
    "duration": 15,
    "start_time": "2022-03-16T21:33:35.297Z"
   },
   {
    "duration": 35,
    "start_time": "2022-03-16T21:33:35.314Z"
   },
   {
    "duration": 29,
    "start_time": "2022-03-16T21:33:35.352Z"
   },
   {
    "duration": 34,
    "start_time": "2022-03-16T21:33:35.386Z"
   },
   {
    "duration": 73,
    "start_time": "2022-03-16T21:33:35.422Z"
   },
   {
    "duration": 23,
    "start_time": "2022-03-16T21:33:35.498Z"
   },
   {
    "duration": 67,
    "start_time": "2022-03-16T21:33:35.528Z"
   },
   {
    "duration": 1585,
    "start_time": "2022-03-16T21:33:35.598Z"
   },
   {
    "duration": 15,
    "start_time": "2022-03-16T21:33:37.185Z"
   },
   {
    "duration": 21,
    "start_time": "2022-03-16T21:33:37.203Z"
   },
   {
    "duration": 49,
    "start_time": "2022-03-16T21:33:37.226Z"
   },
   {
    "duration": 26,
    "start_time": "2022-03-16T21:33:37.277Z"
   },
   {
    "duration": 9,
    "start_time": "2022-03-16T21:33:37.306Z"
   },
   {
    "duration": 12,
    "start_time": "2022-03-16T21:33:37.317Z"
   },
   {
    "duration": 42,
    "start_time": "2022-03-16T21:33:37.331Z"
   },
   {
    "duration": 7,
    "start_time": "2022-03-16T21:33:37.376Z"
   },
   {
    "duration": 44,
    "start_time": "2022-03-16T21:33:37.385Z"
   },
   {
    "duration": 4,
    "start_time": "2022-03-16T21:33:37.431Z"
   },
   {
    "duration": 38,
    "start_time": "2022-03-16T21:33:37.437Z"
   },
   {
    "duration": 10,
    "start_time": "2022-03-16T21:33:37.478Z"
   },
   {
    "duration": 9,
    "start_time": "2022-03-16T21:33:37.491Z"
   },
   {
    "duration": 4,
    "start_time": "2022-03-16T21:33:37.506Z"
   },
   {
    "duration": 8,
    "start_time": "2022-03-16T21:33:37.513Z"
   },
   {
    "duration": 6,
    "start_time": "2022-03-16T21:33:37.523Z"
   },
   {
    "duration": 7,
    "start_time": "2022-03-16T21:33:37.532Z"
   },
   {
    "duration": 32,
    "start_time": "2022-03-16T21:33:37.541Z"
   },
   {
    "duration": 9,
    "start_time": "2022-03-16T21:33:37.576Z"
   },
   {
    "duration": 17,
    "start_time": "2022-03-16T21:33:37.587Z"
   },
   {
    "duration": 9,
    "start_time": "2022-03-16T21:33:37.607Z"
   },
   {
    "duration": 13,
    "start_time": "2022-03-16T21:33:37.618Z"
   },
   {
    "duration": 6,
    "start_time": "2022-03-16T21:33:37.634Z"
   },
   {
    "duration": 107,
    "start_time": "2022-03-16T21:33:37.643Z"
   },
   {
    "duration": 61,
    "start_time": "2022-03-16T21:33:37.753Z"
   },
   {
    "duration": 33,
    "start_time": "2022-03-16T21:33:37.816Z"
   },
   {
    "duration": 16,
    "start_time": "2022-03-16T21:33:37.874Z"
   },
   {
    "duration": 20,
    "start_time": "2022-03-16T21:33:37.893Z"
   },
   {
    "duration": 6,
    "start_time": "2022-03-16T21:33:37.916Z"
   },
   {
    "duration": 48,
    "start_time": "2022-03-16T21:33:37.925Z"
   },
   {
    "duration": 18,
    "start_time": "2022-03-16T21:33:37.976Z"
   },
   {
    "duration": 15,
    "start_time": "2022-03-16T21:33:37.996Z"
   },
   {
    "duration": 64,
    "start_time": "2022-03-16T21:33:38.014Z"
   },
   {
    "duration": 3,
    "start_time": "2022-03-16T21:33:38.080Z"
   },
   {
    "duration": 6,
    "start_time": "2022-03-16T21:33:38.086Z"
   },
   {
    "duration": 8,
    "start_time": "2022-03-16T21:33:38.094Z"
   },
   {
    "duration": 6,
    "start_time": "2022-03-16T21:33:38.104Z"
   },
   {
    "duration": 6,
    "start_time": "2022-03-16T21:33:38.112Z"
   },
   {
    "duration": 6,
    "start_time": "2022-03-16T21:33:38.120Z"
   },
   {
    "duration": 7,
    "start_time": "2022-03-16T21:33:38.128Z"
   },
   {
    "duration": 35,
    "start_time": "2022-03-16T21:33:38.138Z"
   },
   {
    "duration": 6,
    "start_time": "2022-03-16T21:33:38.175Z"
   },
   {
    "duration": 6,
    "start_time": "2022-03-16T21:33:38.184Z"
   },
   {
    "duration": 8,
    "start_time": "2022-03-16T21:33:38.192Z"
   },
   {
    "duration": 10,
    "start_time": "2022-03-16T21:33:38.202Z"
   },
   {
    "duration": 5,
    "start_time": "2022-03-16T21:33:38.214Z"
   },
   {
    "duration": 5,
    "start_time": "2022-03-16T21:33:38.222Z"
   },
   {
    "duration": 43,
    "start_time": "2022-03-16T21:33:38.230Z"
   },
   {
    "duration": 3,
    "start_time": "2022-03-16T21:33:38.276Z"
   },
   {
    "duration": 7,
    "start_time": "2022-03-16T21:33:38.282Z"
   },
   {
    "duration": 5,
    "start_time": "2022-03-16T21:33:38.293Z"
   },
   {
    "duration": 13,
    "start_time": "2022-03-16T21:33:38.300Z"
   },
   {
    "duration": 15,
    "start_time": "2022-03-16T21:33:38.315Z"
   },
   {
    "duration": 6,
    "start_time": "2022-03-16T21:33:38.333Z"
   },
   {
    "duration": 32,
    "start_time": "2022-03-16T21:33:38.341Z"
   },
   {
    "duration": 3,
    "start_time": "2022-03-16T21:33:38.376Z"
   },
   {
    "duration": 8,
    "start_time": "2022-03-16T21:33:38.382Z"
   },
   {
    "duration": 7,
    "start_time": "2022-03-16T21:33:38.392Z"
   },
   {
    "duration": 4,
    "start_time": "2022-03-16T21:33:38.408Z"
   },
   {
    "duration": 10,
    "start_time": "2022-03-16T21:33:38.414Z"
   },
   {
    "duration": 7,
    "start_time": "2022-03-16T21:33:38.427Z"
   },
   {
    "duration": 36,
    "start_time": "2022-03-16T21:33:38.437Z"
   },
   {
    "duration": 64,
    "start_time": "2022-03-16T21:42:32.505Z"
   },
   {
    "duration": 48,
    "start_time": "2022-03-16T21:42:41.790Z"
   },
   {
    "duration": 6,
    "start_time": "2022-03-16T21:43:32.185Z"
   },
   {
    "duration": 260,
    "start_time": "2022-03-16T21:43:45.557Z"
   },
   {
    "duration": 159,
    "start_time": "2022-03-16T21:44:06.235Z"
   },
   {
    "duration": 7,
    "start_time": "2022-03-16T21:44:13.196Z"
   },
   {
    "duration": 5,
    "start_time": "2022-03-16T21:44:18.096Z"
   },
   {
    "duration": 241,
    "start_time": "2022-03-16T21:44:38.008Z"
   },
   {
    "duration": 101,
    "start_time": "2022-03-16T21:45:27.741Z"
   },
   {
    "duration": 167,
    "start_time": "2022-03-16T21:45:30.880Z"
   },
   {
    "duration": 165,
    "start_time": "2022-03-16T21:45:52.187Z"
   },
   {
    "duration": 222,
    "start_time": "2022-03-16T21:46:30.318Z"
   },
   {
    "duration": 7,
    "start_time": "2022-03-16T21:49:15.547Z"
   },
   {
    "duration": 6,
    "start_time": "2022-03-16T21:49:25.399Z"
   },
   {
    "duration": 6,
    "start_time": "2022-03-16T21:49:27.617Z"
   },
   {
    "duration": 159,
    "start_time": "2022-03-16T21:49:40.378Z"
   },
   {
    "duration": 61,
    "start_time": "2022-03-16T21:50:17.895Z"
   },
   {
    "duration": 43,
    "start_time": "2022-03-16T21:50:20.517Z"
   },
   {
    "duration": 20,
    "start_time": "2022-03-16T21:51:23.263Z"
   },
   {
    "duration": 188,
    "start_time": "2022-03-16T21:51:30.505Z"
   },
   {
    "duration": 53,
    "start_time": "2022-03-16T21:52:21.100Z"
   },
   {
    "duration": 55,
    "start_time": "2022-03-16T21:52:27.277Z"
   },
   {
    "duration": 52,
    "start_time": "2022-03-16T21:52:41.382Z"
   },
   {
    "duration": 27,
    "start_time": "2022-03-16T21:52:48.278Z"
   },
   {
    "duration": 63,
    "start_time": "2022-03-16T21:53:00.208Z"
   },
   {
    "duration": 33,
    "start_time": "2022-03-16T21:53:02.496Z"
   },
   {
    "duration": 45,
    "start_time": "2022-03-16T21:53:20.323Z"
   },
   {
    "duration": 71,
    "start_time": "2022-03-16T21:54:40.825Z"
   },
   {
    "duration": 43,
    "start_time": "2022-03-16T21:54:56.259Z"
   },
   {
    "duration": 42,
    "start_time": "2022-03-16T21:54:58.036Z"
   },
   {
    "duration": 58,
    "start_time": "2022-03-16T21:55:03.749Z"
   },
   {
    "duration": 98,
    "start_time": "2022-03-16T21:55:28.999Z"
   },
   {
    "duration": 6,
    "start_time": "2022-03-16T21:56:05.042Z"
   },
   {
    "duration": 168,
    "start_time": "2022-03-16T21:56:07.802Z"
   },
   {
    "duration": 4,
    "start_time": "2022-03-16T21:56:11.937Z"
   },
   {
    "duration": 55,
    "start_time": "2022-03-16T21:59:15.390Z"
   },
   {
    "duration": 4,
    "start_time": "2022-03-16T21:59:18.653Z"
   },
   {
    "duration": 6,
    "start_time": "2022-03-16T21:59:33.001Z"
   },
   {
    "duration": 5,
    "start_time": "2022-03-16T22:00:12.098Z"
   },
   {
    "duration": 6,
    "start_time": "2022-03-16T22:00:44.799Z"
   },
   {
    "duration": 8,
    "start_time": "2022-03-16T22:01:05.684Z"
   },
   {
    "duration": 9,
    "start_time": "2022-03-16T22:01:13.157Z"
   },
   {
    "duration": 7,
    "start_time": "2022-03-16T22:01:15.925Z"
   },
   {
    "duration": 1030,
    "start_time": "2022-03-16T22:02:45.804Z"
   },
   {
    "duration": 21,
    "start_time": "2022-03-16T22:02:46.837Z"
   },
   {
    "duration": 15,
    "start_time": "2022-03-16T22:02:46.873Z"
   },
   {
    "duration": 29,
    "start_time": "2022-03-16T22:02:46.891Z"
   },
   {
    "duration": 20,
    "start_time": "2022-03-16T22:02:46.922Z"
   },
   {
    "duration": 47,
    "start_time": "2022-03-16T22:02:46.973Z"
   },
   {
    "duration": 23,
    "start_time": "2022-03-16T22:02:47.023Z"
   },
   {
    "duration": 43,
    "start_time": "2022-03-16T22:02:47.076Z"
   },
   {
    "duration": 1573,
    "start_time": "2022-03-16T22:02:47.122Z"
   },
   {
    "duration": 14,
    "start_time": "2022-03-16T22:02:48.698Z"
   },
   {
    "duration": 24,
    "start_time": "2022-03-16T22:02:48.715Z"
   },
   {
    "duration": 20,
    "start_time": "2022-03-16T22:02:48.774Z"
   },
   {
    "duration": 28,
    "start_time": "2022-03-16T22:02:48.798Z"
   },
   {
    "duration": 6,
    "start_time": "2022-03-16T22:02:48.829Z"
   },
   {
    "duration": 7,
    "start_time": "2022-03-16T22:02:48.874Z"
   },
   {
    "duration": 11,
    "start_time": "2022-03-16T22:02:48.884Z"
   },
   {
    "duration": 13,
    "start_time": "2022-03-16T22:02:48.898Z"
   },
   {
    "duration": 74,
    "start_time": "2022-03-16T22:02:48.914Z"
   },
   {
    "duration": 4,
    "start_time": "2022-03-16T22:02:48.991Z"
   },
   {
    "duration": 11,
    "start_time": "2022-03-16T22:02:48.997Z"
   },
   {
    "duration": 5,
    "start_time": "2022-03-16T22:02:49.010Z"
   },
   {
    "duration": 8,
    "start_time": "2022-03-16T22:02:49.018Z"
   },
   {
    "duration": 5,
    "start_time": "2022-03-16T22:02:49.032Z"
   },
   {
    "duration": 3,
    "start_time": "2022-03-16T22:02:49.073Z"
   },
   {
    "duration": 7,
    "start_time": "2022-03-16T22:02:49.078Z"
   },
   {
    "duration": 5,
    "start_time": "2022-03-16T22:02:49.087Z"
   },
   {
    "duration": 6,
    "start_time": "2022-03-16T22:02:49.094Z"
   },
   {
    "duration": 5,
    "start_time": "2022-03-16T22:02:49.102Z"
   },
   {
    "duration": 5,
    "start_time": "2022-03-16T22:02:49.110Z"
   },
   {
    "duration": 7,
    "start_time": "2022-03-16T22:02:49.117Z"
   },
   {
    "duration": 46,
    "start_time": "2022-03-16T22:02:49.127Z"
   },
   {
    "duration": 3,
    "start_time": "2022-03-16T22:02:49.176Z"
   },
   {
    "duration": 106,
    "start_time": "2022-03-16T22:02:49.182Z"
   },
   {
    "duration": 53,
    "start_time": "2022-03-16T22:02:49.290Z"
   },
   {
    "duration": 53,
    "start_time": "2022-03-16T22:02:49.346Z"
   },
   {
    "duration": 15,
    "start_time": "2022-03-16T22:02:49.401Z"
   },
   {
    "duration": 21,
    "start_time": "2022-03-16T22:02:49.418Z"
   },
   {
    "duration": 33,
    "start_time": "2022-03-16T22:02:49.441Z"
   },
   {
    "duration": 10,
    "start_time": "2022-03-16T22:02:49.477Z"
   },
   {
    "duration": 18,
    "start_time": "2022-03-16T22:02:49.489Z"
   },
   {
    "duration": 9,
    "start_time": "2022-03-16T22:02:49.510Z"
   },
   {
    "duration": 99,
    "start_time": "2022-03-16T22:02:49.522Z"
   },
   {
    "duration": 6,
    "start_time": "2022-03-16T22:02:49.624Z"
   },
   {
    "duration": 9,
    "start_time": "2022-03-16T22:02:49.632Z"
   },
   {
    "duration": 5,
    "start_time": "2022-03-16T22:02:49.644Z"
   },
   {
    "duration": 7,
    "start_time": "2022-03-16T22:02:49.673Z"
   },
   {
    "duration": 6,
    "start_time": "2022-03-16T22:02:49.683Z"
   },
   {
    "duration": 7,
    "start_time": "2022-03-16T22:02:49.692Z"
   },
   {
    "duration": 6,
    "start_time": "2022-03-16T22:02:49.701Z"
   },
   {
    "duration": 9,
    "start_time": "2022-03-16T22:02:49.710Z"
   },
   {
    "duration": 7,
    "start_time": "2022-03-16T22:02:49.722Z"
   },
   {
    "duration": 7,
    "start_time": "2022-03-16T22:02:49.732Z"
   },
   {
    "duration": 33,
    "start_time": "2022-03-16T22:02:49.741Z"
   },
   {
    "duration": 8,
    "start_time": "2022-03-16T22:02:49.777Z"
   },
   {
    "duration": 6,
    "start_time": "2022-03-16T22:02:49.788Z"
   },
   {
    "duration": 7,
    "start_time": "2022-03-16T22:02:49.796Z"
   },
   {
    "duration": 8,
    "start_time": "2022-03-16T22:02:49.805Z"
   },
   {
    "duration": 9,
    "start_time": "2022-03-16T22:02:49.816Z"
   },
   {
    "duration": 6,
    "start_time": "2022-03-16T22:02:49.828Z"
   },
   {
    "duration": 5,
    "start_time": "2022-03-16T22:02:49.836Z"
   },
   {
    "duration": 4,
    "start_time": "2022-03-16T22:02:49.874Z"
   },
   {
    "duration": 22,
    "start_time": "2022-03-16T22:02:49.880Z"
   },
   {
    "duration": 6,
    "start_time": "2022-03-16T22:02:49.905Z"
   },
   {
    "duration": 6,
    "start_time": "2022-03-16T22:02:49.914Z"
   },
   {
    "duration": 8,
    "start_time": "2022-03-16T22:02:49.922Z"
   },
   {
    "duration": 8,
    "start_time": "2022-03-16T22:02:49.933Z"
   },
   {
    "duration": 5,
    "start_time": "2022-03-16T22:02:49.943Z"
   },
   {
    "duration": 3,
    "start_time": "2022-03-16T22:02:49.978Z"
   },
   {
    "duration": 6,
    "start_time": "2022-03-16T22:02:49.984Z"
   },
   {
    "duration": 6,
    "start_time": "2022-03-16T22:02:49.993Z"
   },
   {
    "duration": 8,
    "start_time": "2022-03-16T22:02:50.002Z"
   },
   {
    "duration": 8,
    "start_time": "2022-03-16T22:02:57.473Z"
   },
   {
    "duration": 7,
    "start_time": "2022-03-16T22:03:12.190Z"
   },
   {
    "duration": 6,
    "start_time": "2022-03-16T22:03:37.009Z"
   },
   {
    "duration": 6,
    "start_time": "2022-03-16T22:06:16.358Z"
   },
   {
    "duration": 8,
    "start_time": "2022-03-16T22:06:25.314Z"
   },
   {
    "duration": 52,
    "start_time": "2022-03-16T22:06:51.350Z"
   },
   {
    "duration": 262,
    "start_time": "2022-03-16T22:06:54.562Z"
   },
   {
    "duration": 10,
    "start_time": "2022-03-16T22:07:00.514Z"
   },
   {
    "duration": 180,
    "start_time": "2022-03-16T22:07:44.133Z"
   },
   {
    "duration": 11,
    "start_time": "2022-03-16T22:07:48.519Z"
   },
   {
    "duration": 163,
    "start_time": "2022-03-16T22:08:05.570Z"
   },
   {
    "duration": 8,
    "start_time": "2022-03-16T22:08:13.804Z"
   },
   {
    "duration": 8,
    "start_time": "2022-03-16T22:08:22.053Z"
   },
   {
    "duration": 171,
    "start_time": "2022-03-16T22:08:42.413Z"
   },
   {
    "duration": 7,
    "start_time": "2022-03-16T22:08:51.845Z"
   },
   {
    "duration": 94,
    "start_time": "2022-03-16T22:09:18.003Z"
   },
   {
    "duration": 6,
    "start_time": "2022-03-16T22:09:23.451Z"
   },
   {
    "duration": 9,
    "start_time": "2022-03-16T22:09:48.579Z"
   },
   {
    "duration": 160,
    "start_time": "2022-03-16T22:10:17.125Z"
   },
   {
    "duration": 9,
    "start_time": "2022-03-16T22:10:24.348Z"
   },
   {
    "duration": 847,
    "start_time": "2022-03-17T01:18:03.562Z"
   },
   {
    "duration": 17,
    "start_time": "2022-03-17T01:18:04.412Z"
   },
   {
    "duration": 40,
    "start_time": "2022-03-17T01:18:04.433Z"
   },
   {
    "duration": 20,
    "start_time": "2022-03-17T01:18:04.477Z"
   },
   {
    "duration": 27,
    "start_time": "2022-03-17T01:18:04.500Z"
   },
   {
    "duration": 83,
    "start_time": "2022-03-17T01:18:04.530Z"
   },
   {
    "duration": 22,
    "start_time": "2022-03-17T01:18:04.616Z"
   },
   {
    "duration": 71,
    "start_time": "2022-03-17T01:18:04.640Z"
   },
   {
    "duration": 1724,
    "start_time": "2022-03-17T01:18:04.715Z"
   },
   {
    "duration": 15,
    "start_time": "2022-03-17T01:18:06.442Z"
   },
   {
    "duration": 34,
    "start_time": "2022-03-17T01:18:06.459Z"
   },
   {
    "duration": 19,
    "start_time": "2022-03-17T01:18:06.495Z"
   },
   {
    "duration": 61,
    "start_time": "2022-03-17T01:18:06.517Z"
   },
   {
    "duration": 6,
    "start_time": "2022-03-17T01:18:06.580Z"
   },
   {
    "duration": 9,
    "start_time": "2022-03-17T01:18:06.588Z"
   },
   {
    "duration": 8,
    "start_time": "2022-03-17T01:18:06.599Z"
   },
   {
    "duration": 14,
    "start_time": "2022-03-17T01:18:06.609Z"
   },
   {
    "duration": 77,
    "start_time": "2022-03-17T01:18:06.625Z"
   },
   {
    "duration": 5,
    "start_time": "2022-03-17T01:18:06.704Z"
   },
   {
    "duration": 15,
    "start_time": "2022-03-17T01:18:06.711Z"
   },
   {
    "duration": 10,
    "start_time": "2022-03-17T01:18:06.728Z"
   },
   {
    "duration": 3,
    "start_time": "2022-03-17T01:18:06.740Z"
   },
   {
    "duration": 3,
    "start_time": "2022-03-17T01:18:06.774Z"
   },
   {
    "duration": 8,
    "start_time": "2022-03-17T01:18:06.780Z"
   },
   {
    "duration": 6,
    "start_time": "2022-03-17T01:18:06.791Z"
   },
   {
    "duration": 8,
    "start_time": "2022-03-17T01:18:06.800Z"
   },
   {
    "duration": 5,
    "start_time": "2022-03-17T01:18:06.814Z"
   },
   {
    "duration": 6,
    "start_time": "2022-03-17T01:18:06.822Z"
   },
   {
    "duration": 6,
    "start_time": "2022-03-17T01:18:06.830Z"
   },
   {
    "duration": 36,
    "start_time": "2022-03-17T01:18:06.838Z"
   },
   {
    "duration": 6,
    "start_time": "2022-03-17T01:18:06.876Z"
   },
   {
    "duration": 6,
    "start_time": "2022-03-17T01:18:06.884Z"
   },
   {
    "duration": 111,
    "start_time": "2022-03-17T01:18:06.892Z"
   },
   {
    "duration": 68,
    "start_time": "2022-03-17T01:18:07.005Z"
   },
   {
    "duration": 32,
    "start_time": "2022-03-17T01:18:07.076Z"
   },
   {
    "duration": 15,
    "start_time": "2022-03-17T01:18:07.110Z"
   },
   {
    "duration": 45,
    "start_time": "2022-03-17T01:18:07.128Z"
   },
   {
    "duration": 10,
    "start_time": "2022-03-17T01:18:07.176Z"
   },
   {
    "duration": 7,
    "start_time": "2022-03-17T01:18:07.189Z"
   },
   {
    "duration": 16,
    "start_time": "2022-03-17T01:18:07.199Z"
   },
   {
    "duration": 11,
    "start_time": "2022-03-17T01:18:07.218Z"
   },
   {
    "duration": 90,
    "start_time": "2022-03-17T01:18:07.232Z"
   },
   {
    "duration": 7,
    "start_time": "2022-03-17T01:18:07.324Z"
   },
   {
    "duration": 8,
    "start_time": "2022-03-17T01:18:07.333Z"
   },
   {
    "duration": 31,
    "start_time": "2022-03-17T01:18:07.343Z"
   },
   {
    "duration": 6,
    "start_time": "2022-03-17T01:18:07.376Z"
   },
   {
    "duration": 6,
    "start_time": "2022-03-17T01:18:07.384Z"
   },
   {
    "duration": 5,
    "start_time": "2022-03-17T01:18:07.392Z"
   },
   {
    "duration": 5,
    "start_time": "2022-03-17T01:18:07.400Z"
   },
   {
    "duration": 10,
    "start_time": "2022-03-17T01:18:07.407Z"
   },
   {
    "duration": 8,
    "start_time": "2022-03-17T01:18:07.420Z"
   },
   {
    "duration": 7,
    "start_time": "2022-03-17T01:18:07.431Z"
   },
   {
    "duration": 5,
    "start_time": "2022-03-17T01:18:07.440Z"
   },
   {
    "duration": 27,
    "start_time": "2022-03-17T01:18:07.447Z"
   },
   {
    "duration": 11,
    "start_time": "2022-03-17T01:18:07.477Z"
   },
   {
    "duration": 6,
    "start_time": "2022-03-17T01:18:07.491Z"
   },
   {
    "duration": 5,
    "start_time": "2022-03-17T01:18:07.499Z"
   },
   {
    "duration": 5,
    "start_time": "2022-03-17T01:18:07.507Z"
   },
   {
    "duration": 6,
    "start_time": "2022-03-17T01:18:07.515Z"
   },
   {
    "duration": 6,
    "start_time": "2022-03-17T01:18:07.523Z"
   },
   {
    "duration": 42,
    "start_time": "2022-03-17T01:18:07.532Z"
   },
   {
    "duration": 7,
    "start_time": "2022-03-17T01:18:07.576Z"
   },
   {
    "duration": 6,
    "start_time": "2022-03-17T01:18:07.586Z"
   },
   {
    "duration": 5,
    "start_time": "2022-03-17T01:18:07.595Z"
   },
   {
    "duration": 7,
    "start_time": "2022-03-17T01:18:07.602Z"
   },
   {
    "duration": 5,
    "start_time": "2022-03-17T01:18:07.611Z"
   },
   {
    "duration": 5,
    "start_time": "2022-03-17T01:18:07.619Z"
   },
   {
    "duration": 5,
    "start_time": "2022-03-17T01:18:07.626Z"
   },
   {
    "duration": 5,
    "start_time": "2022-03-17T01:18:07.633Z"
   },
   {
    "duration": 33,
    "start_time": "2022-03-17T01:18:07.640Z"
   },
   {
    "duration": 8,
    "start_time": "2022-03-17T01:18:07.676Z"
   },
   {
    "duration": 65,
    "start_time": "2022-03-17T01:25:34.012Z"
   },
   {
    "duration": 6,
    "start_time": "2022-03-17T01:25:50.826Z"
   },
   {
    "duration": 6,
    "start_time": "2022-03-17T01:26:43.676Z"
   },
   {
    "duration": 7,
    "start_time": "2022-03-17T01:27:08.287Z"
   },
   {
    "duration": 7,
    "start_time": "2022-03-17T01:27:18.858Z"
   },
   {
    "duration": 61,
    "start_time": "2022-03-17T01:27:49.161Z"
   },
   {
    "duration": 9,
    "start_time": "2022-03-17T01:28:10.231Z"
   },
   {
    "duration": 8,
    "start_time": "2022-03-17T01:28:12.945Z"
   },
   {
    "duration": 411,
    "start_time": "2022-03-17T01:28:18.556Z"
   },
   {
    "duration": 71,
    "start_time": "2022-03-17T01:29:00.011Z"
   },
   {
    "duration": 10,
    "start_time": "2022-03-17T01:29:09.404Z"
   },
   {
    "duration": 51,
    "start_time": "2022-03-17T01:29:17.281Z"
   },
   {
    "duration": 9,
    "start_time": "2022-03-17T01:29:21.892Z"
   },
   {
    "duration": 13,
    "start_time": "2022-03-17T01:29:42.522Z"
   },
   {
    "duration": 12,
    "start_time": "2022-03-17T01:30:01.409Z"
   },
   {
    "duration": 8,
    "start_time": "2022-03-17T01:31:25.670Z"
   },
   {
    "duration": 11,
    "start_time": "2022-03-17T01:31:50.608Z"
   },
   {
    "duration": 11,
    "start_time": "2022-03-17T01:31:54.670Z"
   },
   {
    "duration": 12,
    "start_time": "2022-03-17T01:32:05.512Z"
   },
   {
    "duration": 864,
    "start_time": "2022-03-17T01:32:18.056Z"
   },
   {
    "duration": 18,
    "start_time": "2022-03-17T01:32:18.923Z"
   },
   {
    "duration": 33,
    "start_time": "2022-03-17T01:32:18.945Z"
   },
   {
    "duration": 21,
    "start_time": "2022-03-17T01:32:18.981Z"
   },
   {
    "duration": 22,
    "start_time": "2022-03-17T01:32:19.005Z"
   },
   {
    "duration": 94,
    "start_time": "2022-03-17T01:32:19.030Z"
   },
   {
    "duration": 22,
    "start_time": "2022-03-17T01:32:19.127Z"
   },
   {
    "duration": 40,
    "start_time": "2022-03-17T01:32:19.177Z"
   },
   {
    "duration": 1625,
    "start_time": "2022-03-17T01:32:19.221Z"
   },
   {
    "duration": 28,
    "start_time": "2022-03-17T01:32:20.848Z"
   },
   {
    "duration": 30,
    "start_time": "2022-03-17T01:32:20.878Z"
   },
   {
    "duration": 22,
    "start_time": "2022-03-17T01:32:20.910Z"
   },
   {
    "duration": 47,
    "start_time": "2022-03-17T01:32:20.934Z"
   },
   {
    "duration": 6,
    "start_time": "2022-03-17T01:32:20.983Z"
   },
   {
    "duration": 11,
    "start_time": "2022-03-17T01:32:20.991Z"
   },
   {
    "duration": 11,
    "start_time": "2022-03-17T01:32:21.004Z"
   },
   {
    "duration": 8,
    "start_time": "2022-03-17T01:32:21.017Z"
   },
   {
    "duration": 77,
    "start_time": "2022-03-17T01:32:21.027Z"
   },
   {
    "duration": 4,
    "start_time": "2022-03-17T01:32:21.107Z"
   },
   {
    "duration": 16,
    "start_time": "2022-03-17T01:32:21.113Z"
   },
   {
    "duration": 15,
    "start_time": "2022-03-17T01:32:21.131Z"
   },
   {
    "duration": 32,
    "start_time": "2022-03-17T01:32:21.148Z"
   },
   {
    "duration": 4,
    "start_time": "2022-03-17T01:32:21.188Z"
   },
   {
    "duration": 4,
    "start_time": "2022-03-17T01:32:21.197Z"
   },
   {
    "duration": 6,
    "start_time": "2022-03-17T01:32:21.203Z"
   },
   {
    "duration": 7,
    "start_time": "2022-03-17T01:32:21.211Z"
   },
   {
    "duration": 6,
    "start_time": "2022-03-17T01:32:21.220Z"
   },
   {
    "duration": 7,
    "start_time": "2022-03-17T01:32:21.228Z"
   },
   {
    "duration": 3,
    "start_time": "2022-03-17T01:32:21.274Z"
   },
   {
    "duration": 5,
    "start_time": "2022-03-17T01:32:21.279Z"
   },
   {
    "duration": 4,
    "start_time": "2022-03-17T01:32:21.287Z"
   },
   {
    "duration": 5,
    "start_time": "2022-03-17T01:32:21.294Z"
   },
   {
    "duration": 115,
    "start_time": "2022-03-17T01:32:21.302Z"
   },
   {
    "duration": 68,
    "start_time": "2022-03-17T01:32:21.419Z"
   },
   {
    "duration": 31,
    "start_time": "2022-03-17T01:32:21.490Z"
   },
   {
    "duration": 14,
    "start_time": "2022-03-17T01:32:21.524Z"
   },
   {
    "duration": 39,
    "start_time": "2022-03-17T01:32:21.540Z"
   },
   {
    "duration": 10,
    "start_time": "2022-03-17T01:32:21.581Z"
   },
   {
    "duration": 16,
    "start_time": "2022-03-17T01:32:21.593Z"
   },
   {
    "duration": 22,
    "start_time": "2022-03-17T01:32:21.612Z"
   },
   {
    "duration": 19,
    "start_time": "2022-03-17T01:32:21.637Z"
   },
   {
    "duration": 73,
    "start_time": "2022-03-17T01:32:21.658Z"
   },
   {
    "duration": 7,
    "start_time": "2022-03-17T01:32:21.733Z"
   },
   {
    "duration": 34,
    "start_time": "2022-03-17T01:32:21.742Z"
   },
   {
    "duration": 3,
    "start_time": "2022-03-17T01:32:21.778Z"
   },
   {
    "duration": 8,
    "start_time": "2022-03-17T01:32:21.783Z"
   },
   {
    "duration": 16,
    "start_time": "2022-03-17T01:32:21.794Z"
   },
   {
    "duration": 10,
    "start_time": "2022-03-17T01:32:21.812Z"
   },
   {
    "duration": 8,
    "start_time": "2022-03-17T01:32:21.824Z"
   },
   {
    "duration": 5,
    "start_time": "2022-03-17T01:32:21.835Z"
   },
   {
    "duration": 7,
    "start_time": "2022-03-17T01:32:21.842Z"
   },
   {
    "duration": 6,
    "start_time": "2022-03-17T01:32:21.851Z"
   },
   {
    "duration": 15,
    "start_time": "2022-03-17T01:32:21.860Z"
   },
   {
    "duration": 6,
    "start_time": "2022-03-17T01:32:21.878Z"
   },
   {
    "duration": 7,
    "start_time": "2022-03-17T01:32:21.886Z"
   },
   {
    "duration": 6,
    "start_time": "2022-03-17T01:32:21.895Z"
   },
   {
    "duration": 16,
    "start_time": "2022-03-17T01:32:21.904Z"
   },
   {
    "duration": 6,
    "start_time": "2022-03-17T01:32:21.923Z"
   },
   {
    "duration": 16,
    "start_time": "2022-03-17T01:32:21.931Z"
   },
   {
    "duration": 24,
    "start_time": "2022-03-17T01:32:21.949Z"
   },
   {
    "duration": 10,
    "start_time": "2022-03-17T01:32:21.976Z"
   },
   {
    "duration": 12,
    "start_time": "2022-03-17T01:32:21.988Z"
   },
   {
    "duration": 6,
    "start_time": "2022-03-17T01:32:22.002Z"
   },
   {
    "duration": 8,
    "start_time": "2022-03-17T01:32:22.010Z"
   },
   {
    "duration": 10,
    "start_time": "2022-03-17T01:32:22.020Z"
   },
   {
    "duration": 24,
    "start_time": "2022-03-17T01:32:22.032Z"
   },
   {
    "duration": 8,
    "start_time": "2022-03-17T01:32:22.058Z"
   },
   {
    "duration": 7,
    "start_time": "2022-03-17T01:32:22.073Z"
   },
   {
    "duration": 13,
    "start_time": "2022-03-17T01:32:22.082Z"
   },
   {
    "duration": 8,
    "start_time": "2022-03-17T01:32:22.097Z"
   },
   {
    "duration": 7,
    "start_time": "2022-03-17T01:32:22.107Z"
   },
   {
    "duration": 12,
    "start_time": "2022-03-17T01:32:47.155Z"
   },
   {
    "duration": 8,
    "start_time": "2022-03-17T01:33:47.763Z"
   },
   {
    "duration": 8,
    "start_time": "2022-03-17T01:33:50.778Z"
   },
   {
    "duration": 9,
    "start_time": "2022-03-17T01:35:22.966Z"
   },
   {
    "duration": 11,
    "start_time": "2022-03-17T01:38:27.607Z"
   },
   {
    "duration": 2301,
    "start_time": "2022-03-17T01:45:34.494Z"
   },
   {
    "duration": 22,
    "start_time": "2022-03-17T01:48:34.842Z"
   },
   {
    "duration": 11,
    "start_time": "2022-03-17T01:50:49.152Z"
   },
   {
    "duration": 207,
    "start_time": "2022-03-17T01:51:25.042Z"
   },
   {
    "duration": 10,
    "start_time": "2022-03-17T01:51:29.484Z"
   },
   {
    "duration": 173,
    "start_time": "2022-03-17T01:51:31.629Z"
   },
   {
    "duration": 203,
    "start_time": "2022-03-17T01:51:49.710Z"
   },
   {
    "duration": 12,
    "start_time": "2022-03-17T01:51:56.365Z"
   },
   {
    "duration": 23,
    "start_time": "2022-03-17T01:52:07.175Z"
   },
   {
    "duration": 37,
    "start_time": "2022-03-17T01:52:28.250Z"
   },
   {
    "duration": 7,
    "start_time": "2022-03-17T01:54:12.320Z"
   },
   {
    "duration": 10,
    "start_time": "2022-03-17T01:54:28.953Z"
   },
   {
    "duration": 11,
    "start_time": "2022-03-17T01:55:20.701Z"
   },
   {
    "duration": 29,
    "start_time": "2022-03-17T02:09:04.961Z"
   },
   {
    "duration": 36,
    "start_time": "2022-03-17T02:09:35.252Z"
   },
   {
    "duration": 10,
    "start_time": "2022-03-17T02:10:58.185Z"
   },
   {
    "duration": 174,
    "start_time": "2022-03-17T02:11:09.433Z"
   },
   {
    "duration": 182,
    "start_time": "2022-03-17T02:11:20.665Z"
   },
   {
    "duration": 185,
    "start_time": "2022-03-17T02:11:26.402Z"
   },
   {
    "duration": 165,
    "start_time": "2022-03-17T02:12:10.901Z"
   },
   {
    "duration": 187,
    "start_time": "2022-03-17T02:12:30.989Z"
   },
   {
    "duration": 846,
    "start_time": "2022-03-17T02:13:37.271Z"
   },
   {
    "duration": 15,
    "start_time": "2022-03-17T02:13:38.120Z"
   },
   {
    "duration": 36,
    "start_time": "2022-03-17T02:13:38.139Z"
   },
   {
    "duration": 25,
    "start_time": "2022-03-17T02:13:38.178Z"
   },
   {
    "duration": 20,
    "start_time": "2022-03-17T02:13:38.205Z"
   },
   {
    "duration": 75,
    "start_time": "2022-03-17T02:13:38.227Z"
   },
   {
    "duration": 22,
    "start_time": "2022-03-17T02:13:38.304Z"
   },
   {
    "duration": 66,
    "start_time": "2022-03-17T02:13:38.330Z"
   },
   {
    "duration": 1666,
    "start_time": "2022-03-17T02:13:38.399Z"
   },
   {
    "duration": 17,
    "start_time": "2022-03-17T02:13:40.067Z"
   },
   {
    "duration": 28,
    "start_time": "2022-03-17T02:13:40.087Z"
   },
   {
    "duration": 19,
    "start_time": "2022-03-17T02:13:40.118Z"
   },
   {
    "duration": 27,
    "start_time": "2022-03-17T02:13:40.174Z"
   },
   {
    "duration": 14,
    "start_time": "2022-03-17T02:13:40.204Z"
   },
   {
    "duration": 9,
    "start_time": "2022-03-17T02:13:40.220Z"
   },
   {
    "duration": 9,
    "start_time": "2022-03-17T02:13:40.232Z"
   },
   {
    "duration": 30,
    "start_time": "2022-03-17T02:13:40.243Z"
   },
   {
    "duration": 56,
    "start_time": "2022-03-17T02:13:40.276Z"
   },
   {
    "duration": 4,
    "start_time": "2022-03-17T02:13:40.334Z"
   },
   {
    "duration": 9,
    "start_time": "2022-03-17T02:13:40.341Z"
   },
   {
    "duration": 8,
    "start_time": "2022-03-17T02:13:40.374Z"
   },
   {
    "duration": 12,
    "start_time": "2022-03-17T02:13:40.384Z"
   },
   {
    "duration": 7,
    "start_time": "2022-03-17T02:13:40.402Z"
   },
   {
    "duration": 11,
    "start_time": "2022-03-17T02:13:40.413Z"
   },
   {
    "duration": 9,
    "start_time": "2022-03-17T02:13:40.426Z"
   },
   {
    "duration": 37,
    "start_time": "2022-03-17T02:13:40.438Z"
   },
   {
    "duration": 31,
    "start_time": "2022-03-17T02:13:40.477Z"
   },
   {
    "duration": 11,
    "start_time": "2022-03-17T02:13:40.510Z"
   },
   {
    "duration": 10,
    "start_time": "2022-03-17T02:13:40.523Z"
   },
   {
    "duration": 41,
    "start_time": "2022-03-17T02:13:40.536Z"
   },
   {
    "duration": 41,
    "start_time": "2022-03-17T02:13:40.580Z"
   },
   {
    "duration": 3,
    "start_time": "2022-03-17T02:13:40.623Z"
   },
   {
    "duration": 125,
    "start_time": "2022-03-17T02:13:40.629Z"
   },
   {
    "duration": 58,
    "start_time": "2022-03-17T02:13:40.756Z"
   },
   {
    "duration": 33,
    "start_time": "2022-03-17T02:13:40.817Z"
   },
   {
    "duration": 32,
    "start_time": "2022-03-17T02:13:40.853Z"
   },
   {
    "duration": 18,
    "start_time": "2022-03-17T02:13:40.887Z"
   },
   {
    "duration": 18,
    "start_time": "2022-03-17T02:13:40.908Z"
   },
   {
    "duration": 23,
    "start_time": "2022-03-17T02:13:40.928Z"
   },
   {
    "duration": 31,
    "start_time": "2022-03-17T02:13:40.953Z"
   },
   {
    "duration": 26,
    "start_time": "2022-03-17T02:13:40.987Z"
   },
   {
    "duration": 78,
    "start_time": "2022-03-17T02:13:41.015Z"
   },
   {
    "duration": 6,
    "start_time": "2022-03-17T02:13:41.096Z"
   },
   {
    "duration": 20,
    "start_time": "2022-03-17T02:13:41.104Z"
   },
   {
    "duration": 9,
    "start_time": "2022-03-17T02:13:41.127Z"
   },
   {
    "duration": 22,
    "start_time": "2022-03-17T02:13:41.138Z"
   },
   {
    "duration": 20,
    "start_time": "2022-03-17T02:13:41.162Z"
   },
   {
    "duration": 7,
    "start_time": "2022-03-17T02:13:41.185Z"
   },
   {
    "duration": 18,
    "start_time": "2022-03-17T02:13:41.194Z"
   },
   {
    "duration": 24,
    "start_time": "2022-03-17T02:13:41.214Z"
   },
   {
    "duration": 16,
    "start_time": "2022-03-17T02:13:41.240Z"
   },
   {
    "duration": 20,
    "start_time": "2022-03-17T02:13:41.258Z"
   },
   {
    "duration": 6,
    "start_time": "2022-03-17T02:13:41.281Z"
   },
   {
    "duration": 24,
    "start_time": "2022-03-17T02:13:41.289Z"
   },
   {
    "duration": 19,
    "start_time": "2022-03-17T02:13:41.316Z"
   },
   {
    "duration": 9,
    "start_time": "2022-03-17T02:13:41.337Z"
   },
   {
    "duration": 32,
    "start_time": "2022-03-17T02:13:41.348Z"
   },
   {
    "duration": 17,
    "start_time": "2022-03-17T02:13:41.382Z"
   },
   {
    "duration": 7,
    "start_time": "2022-03-17T02:13:41.402Z"
   },
   {
    "duration": 22,
    "start_time": "2022-03-17T02:13:41.411Z"
   },
   {
    "duration": 12,
    "start_time": "2022-03-17T02:13:41.435Z"
   },
   {
    "duration": 27,
    "start_time": "2022-03-17T02:13:41.449Z"
   },
   {
    "duration": 12,
    "start_time": "2022-03-17T02:13:41.478Z"
   },
   {
    "duration": 12,
    "start_time": "2022-03-17T02:13:41.493Z"
   },
   {
    "duration": 12,
    "start_time": "2022-03-17T02:13:41.507Z"
   },
   {
    "duration": 6,
    "start_time": "2022-03-17T02:13:41.521Z"
   },
   {
    "duration": 21,
    "start_time": "2022-03-17T02:13:41.529Z"
   },
   {
    "duration": 3,
    "start_time": "2022-03-17T02:13:41.557Z"
   },
   {
    "duration": 18,
    "start_time": "2022-03-17T02:13:41.563Z"
   },
   {
    "duration": 16,
    "start_time": "2022-03-17T02:13:41.583Z"
   },
   {
    "duration": 19,
    "start_time": "2022-03-17T02:13:41.602Z"
   },
   {
    "duration": 6,
    "start_time": "2022-03-17T02:14:10.864Z"
   },
   {
    "duration": 264,
    "start_time": "2022-03-17T02:14:41.378Z"
   },
   {
    "duration": 170,
    "start_time": "2022-03-17T02:15:23.116Z"
   },
   {
    "duration": 160,
    "start_time": "2022-03-17T02:15:31.889Z"
   },
   {
    "duration": 180,
    "start_time": "2022-03-17T02:15:36.133Z"
   },
   {
    "duration": 765,
    "start_time": "2022-03-17T02:15:43.918Z"
   },
   {
    "duration": 14,
    "start_time": "2022-03-17T02:15:44.686Z"
   },
   {
    "duration": 10,
    "start_time": "2022-03-17T02:15:44.703Z"
   },
   {
    "duration": 19,
    "start_time": "2022-03-17T02:15:44.716Z"
   },
   {
    "duration": 53,
    "start_time": "2022-03-17T02:15:44.738Z"
   },
   {
    "duration": 47,
    "start_time": "2022-03-17T02:15:44.794Z"
   },
   {
    "duration": 45,
    "start_time": "2022-03-17T02:15:44.843Z"
   },
   {
    "duration": 40,
    "start_time": "2022-03-17T02:15:44.892Z"
   },
   {
    "duration": 1718,
    "start_time": "2022-03-17T02:15:44.936Z"
   },
   {
    "duration": 24,
    "start_time": "2022-03-17T02:15:46.656Z"
   },
   {
    "duration": 23,
    "start_time": "2022-03-17T02:15:46.683Z"
   },
   {
    "duration": 28,
    "start_time": "2022-03-17T02:15:46.709Z"
   },
   {
    "duration": 55,
    "start_time": "2022-03-17T02:15:46.740Z"
   },
   {
    "duration": 6,
    "start_time": "2022-03-17T02:15:46.797Z"
   },
   {
    "duration": 19,
    "start_time": "2022-03-17T02:15:46.805Z"
   },
   {
    "duration": 16,
    "start_time": "2022-03-17T02:15:46.826Z"
   },
   {
    "duration": 16,
    "start_time": "2022-03-17T02:15:46.845Z"
   },
   {
    "duration": 40,
    "start_time": "2022-03-17T02:15:46.875Z"
   },
   {
    "duration": 6,
    "start_time": "2022-03-17T02:15:46.918Z"
   },
   {
    "duration": 13,
    "start_time": "2022-03-17T02:15:46.927Z"
   },
   {
    "duration": 39,
    "start_time": "2022-03-17T02:15:46.942Z"
   },
   {
    "duration": 9,
    "start_time": "2022-03-17T02:15:46.984Z"
   },
   {
    "duration": 8,
    "start_time": "2022-03-17T02:15:47.001Z"
   },
   {
    "duration": 58,
    "start_time": "2022-03-17T02:15:47.015Z"
   },
   {
    "duration": 3,
    "start_time": "2022-03-17T02:15:47.075Z"
   },
   {
    "duration": 8,
    "start_time": "2022-03-17T02:15:47.080Z"
   },
   {
    "duration": 24,
    "start_time": "2022-03-17T02:15:47.091Z"
   },
   {
    "duration": 12,
    "start_time": "2022-03-17T02:15:47.118Z"
   },
   {
    "duration": 10,
    "start_time": "2022-03-17T02:15:47.133Z"
   },
   {
    "duration": 10,
    "start_time": "2022-03-17T02:15:47.174Z"
   },
   {
    "duration": 36,
    "start_time": "2022-03-17T02:15:47.186Z"
   },
   {
    "duration": 11,
    "start_time": "2022-03-17T02:15:47.224Z"
   },
   {
    "duration": 271,
    "start_time": "2022-03-17T02:15:47.274Z"
   },
   {
    "duration": -3890,
    "start_time": "2022-03-17T02:15:51.438Z"
   },
   {
    "duration": -3893,
    "start_time": "2022-03-17T02:15:51.443Z"
   },
   {
    "duration": -3903,
    "start_time": "2022-03-17T02:15:51.455Z"
   },
   {
    "duration": -3905,
    "start_time": "2022-03-17T02:15:51.459Z"
   },
   {
    "duration": -3916,
    "start_time": "2022-03-17T02:15:51.471Z"
   },
   {
    "duration": -3919,
    "start_time": "2022-03-17T02:15:51.476Z"
   },
   {
    "duration": -3929,
    "start_time": "2022-03-17T02:15:51.487Z"
   },
   {
    "duration": -3932,
    "start_time": "2022-03-17T02:15:51.492Z"
   },
   {
    "duration": -3941,
    "start_time": "2022-03-17T02:15:51.502Z"
   },
   {
    "duration": -3941,
    "start_time": "2022-03-17T02:15:51.504Z"
   },
   {
    "duration": -3945,
    "start_time": "2022-03-17T02:15:51.509Z"
   },
   {
    "duration": -3954,
    "start_time": "2022-03-17T02:15:51.520Z"
   },
   {
    "duration": -3959,
    "start_time": "2022-03-17T02:15:51.526Z"
   },
   {
    "duration": -3966,
    "start_time": "2022-03-17T02:15:51.535Z"
   },
   {
    "duration": -3973,
    "start_time": "2022-03-17T02:15:51.543Z"
   },
   {
    "duration": -3983,
    "start_time": "2022-03-17T02:15:51.555Z"
   },
   {
    "duration": -3994,
    "start_time": "2022-03-17T02:15:51.567Z"
   },
   {
    "duration": -3996,
    "start_time": "2022-03-17T02:15:51.571Z"
   },
   {
    "duration": -4000,
    "start_time": "2022-03-17T02:15:51.576Z"
   },
   {
    "duration": -4010,
    "start_time": "2022-03-17T02:15:51.588Z"
   },
   {
    "duration": -4015,
    "start_time": "2022-03-17T02:15:51.594Z"
   },
   {
    "duration": -4040,
    "start_time": "2022-03-17T02:15:51.621Z"
   },
   {
    "duration": -4044,
    "start_time": "2022-03-17T02:15:51.626Z"
   },
   {
    "duration": -4053,
    "start_time": "2022-03-17T02:15:51.637Z"
   },
   {
    "duration": -4057,
    "start_time": "2022-03-17T02:15:51.642Z"
   },
   {
    "duration": -4065,
    "start_time": "2022-03-17T02:15:51.652Z"
   },
   {
    "duration": -4068,
    "start_time": "2022-03-17T02:15:51.656Z"
   },
   {
    "duration": -4070,
    "start_time": "2022-03-17T02:15:51.660Z"
   },
   {
    "duration": -4073,
    "start_time": "2022-03-17T02:15:51.664Z"
   },
   {
    "duration": -4074,
    "start_time": "2022-03-17T02:15:51.667Z"
   },
   {
    "duration": -4077,
    "start_time": "2022-03-17T02:15:51.671Z"
   },
   {
    "duration": -4078,
    "start_time": "2022-03-17T02:15:51.674Z"
   },
   {
    "duration": -4081,
    "start_time": "2022-03-17T02:15:51.678Z"
   },
   {
    "duration": -4082,
    "start_time": "2022-03-17T02:15:51.681Z"
   },
   {
    "duration": -4088,
    "start_time": "2022-03-17T02:15:51.688Z"
   },
   {
    "duration": -4089,
    "start_time": "2022-03-17T02:15:51.691Z"
   },
   {
    "duration": -4091,
    "start_time": "2022-03-17T02:15:51.694Z"
   },
   {
    "duration": -4094,
    "start_time": "2022-03-17T02:15:51.698Z"
   },
   {
    "duration": 807,
    "start_time": "2022-03-17T02:16:18.559Z"
   },
   {
    "duration": 15,
    "start_time": "2022-03-17T02:16:19.368Z"
   },
   {
    "duration": 16,
    "start_time": "2022-03-17T02:16:19.385Z"
   },
   {
    "duration": 20,
    "start_time": "2022-03-17T02:16:19.404Z"
   },
   {
    "duration": 47,
    "start_time": "2022-03-17T02:16:19.426Z"
   },
   {
    "duration": 46,
    "start_time": "2022-03-17T02:16:19.476Z"
   },
   {
    "duration": 21,
    "start_time": "2022-03-17T02:16:19.525Z"
   },
   {
    "duration": 40,
    "start_time": "2022-03-17T02:16:19.574Z"
   },
   {
    "duration": 1611,
    "start_time": "2022-03-17T02:16:19.616Z"
   },
   {
    "duration": 15,
    "start_time": "2022-03-17T02:16:21.230Z"
   },
   {
    "duration": 40,
    "start_time": "2022-03-17T02:16:21.248Z"
   },
   {
    "duration": 19,
    "start_time": "2022-03-17T02:16:21.291Z"
   },
   {
    "duration": 35,
    "start_time": "2022-03-17T02:16:21.312Z"
   },
   {
    "duration": 27,
    "start_time": "2022-03-17T02:16:21.349Z"
   },
   {
    "duration": 10,
    "start_time": "2022-03-17T02:16:21.378Z"
   },
   {
    "duration": 13,
    "start_time": "2022-03-17T02:16:21.390Z"
   },
   {
    "duration": 9,
    "start_time": "2022-03-17T02:16:21.405Z"
   },
   {
    "duration": 72,
    "start_time": "2022-03-17T02:16:21.416Z"
   },
   {
    "duration": 4,
    "start_time": "2022-03-17T02:16:21.491Z"
   },
   {
    "duration": 13,
    "start_time": "2022-03-17T02:16:21.498Z"
   },
   {
    "duration": 11,
    "start_time": "2022-03-17T02:16:21.513Z"
   },
   {
    "duration": 8,
    "start_time": "2022-03-17T02:16:21.527Z"
   },
   {
    "duration": 7,
    "start_time": "2022-03-17T02:16:21.574Z"
   },
   {
    "duration": 11,
    "start_time": "2022-03-17T02:16:21.585Z"
   },
   {
    "duration": 11,
    "start_time": "2022-03-17T02:16:21.598Z"
   },
   {
    "duration": 6,
    "start_time": "2022-03-17T02:16:21.611Z"
   },
   {
    "duration": 57,
    "start_time": "2022-03-17T02:16:21.619Z"
   },
   {
    "duration": 11,
    "start_time": "2022-03-17T02:16:21.678Z"
   },
   {
    "duration": 9,
    "start_time": "2022-03-17T02:16:21.692Z"
   },
   {
    "duration": 12,
    "start_time": "2022-03-17T02:16:21.704Z"
   },
   {
    "duration": 66,
    "start_time": "2022-03-17T02:16:21.718Z"
   },
   {
    "duration": 21,
    "start_time": "2022-03-17T02:16:21.786Z"
   },
   {
    "duration": 381,
    "start_time": "2022-03-17T02:16:21.810Z"
   },
   {
    "duration": -3918,
    "start_time": "2022-03-17T02:16:26.112Z"
   },
   {
    "duration": -3920,
    "start_time": "2022-03-17T02:16:26.115Z"
   },
   {
    "duration": -3921,
    "start_time": "2022-03-17T02:16:26.118Z"
   },
   {
    "duration": -3923,
    "start_time": "2022-03-17T02:16:26.121Z"
   },
   {
    "duration": -3925,
    "start_time": "2022-03-17T02:16:26.124Z"
   },
   {
    "duration": -3928,
    "start_time": "2022-03-17T02:16:26.128Z"
   },
   {
    "duration": -3931,
    "start_time": "2022-03-17T02:16:26.133Z"
   },
   {
    "duration": -3934,
    "start_time": "2022-03-17T02:16:26.137Z"
   },
   {
    "duration": -3937,
    "start_time": "2022-03-17T02:16:26.141Z"
   },
   {
    "duration": -3940,
    "start_time": "2022-03-17T02:16:26.146Z"
   },
   {
    "duration": -3942,
    "start_time": "2022-03-17T02:16:26.149Z"
   },
   {
    "duration": -3943,
    "start_time": "2022-03-17T02:16:26.151Z"
   },
   {
    "duration": -3945,
    "start_time": "2022-03-17T02:16:26.154Z"
   },
   {
    "duration": -3949,
    "start_time": "2022-03-17T02:16:26.159Z"
   },
   {
    "duration": -3952,
    "start_time": "2022-03-17T02:16:26.163Z"
   },
   {
    "duration": -3953,
    "start_time": "2022-03-17T02:16:26.166Z"
   },
   {
    "duration": -3955,
    "start_time": "2022-03-17T02:16:26.169Z"
   },
   {
    "duration": -3968,
    "start_time": "2022-03-17T02:16:26.183Z"
   },
   {
    "duration": -3971,
    "start_time": "2022-03-17T02:16:26.187Z"
   },
   {
    "duration": -3973,
    "start_time": "2022-03-17T02:16:26.190Z"
   },
   {
    "duration": -3975,
    "start_time": "2022-03-17T02:16:26.193Z"
   },
   {
    "duration": -3976,
    "start_time": "2022-03-17T02:16:26.196Z"
   },
   {
    "duration": -4018,
    "start_time": "2022-03-17T02:16:26.239Z"
   },
   {
    "duration": -4022,
    "start_time": "2022-03-17T02:16:26.244Z"
   },
   {
    "duration": -4025,
    "start_time": "2022-03-17T02:16:26.248Z"
   },
   {
    "duration": -4027,
    "start_time": "2022-03-17T02:16:26.251Z"
   },
   {
    "duration": -4031,
    "start_time": "2022-03-17T02:16:26.257Z"
   },
   {
    "duration": -4034,
    "start_time": "2022-03-17T02:16:26.261Z"
   },
   {
    "duration": -4036,
    "start_time": "2022-03-17T02:16:26.264Z"
   },
   {
    "duration": -4038,
    "start_time": "2022-03-17T02:16:26.267Z"
   },
   {
    "duration": -3996,
    "start_time": "2022-03-17T02:16:26.270Z"
   },
   {
    "duration": -3997,
    "start_time": "2022-03-17T02:16:26.272Z"
   },
   {
    "duration": -3999,
    "start_time": "2022-03-17T02:16:26.276Z"
   },
   {
    "duration": -4002,
    "start_time": "2022-03-17T02:16:26.280Z"
   },
   {
    "duration": -4004,
    "start_time": "2022-03-17T02:16:26.283Z"
   },
   {
    "duration": -4005,
    "start_time": "2022-03-17T02:16:26.286Z"
   },
   {
    "duration": -4007,
    "start_time": "2022-03-17T02:16:26.289Z"
   },
   {
    "duration": -4009,
    "start_time": "2022-03-17T02:16:26.292Z"
   },
   {
    "duration": 164,
    "start_time": "2022-03-17T02:16:36.502Z"
   },
   {
    "duration": 66,
    "start_time": "2022-03-17T02:19:18.098Z"
   },
   {
    "duration": 179,
    "start_time": "2022-03-17T02:19:27.507Z"
   },
   {
    "duration": 242,
    "start_time": "2022-03-17T02:19:44.857Z"
   },
   {
    "duration": 164,
    "start_time": "2022-03-17T02:20:10.615Z"
   },
   {
    "duration": 9,
    "start_time": "2022-03-17T02:20:37.784Z"
   },
   {
    "duration": 219,
    "start_time": "2022-03-17T02:21:00.199Z"
   },
   {
    "duration": 158,
    "start_time": "2022-03-17T02:21:28.119Z"
   },
   {
    "duration": 270,
    "start_time": "2022-03-17T02:21:31.086Z"
   },
   {
    "duration": 897,
    "start_time": "2022-03-17T02:21:40.255Z"
   },
   {
    "duration": 15,
    "start_time": "2022-03-17T02:21:41.155Z"
   },
   {
    "duration": 12,
    "start_time": "2022-03-17T02:21:41.174Z"
   },
   {
    "duration": 19,
    "start_time": "2022-03-17T02:21:41.189Z"
   },
   {
    "duration": 20,
    "start_time": "2022-03-17T02:21:41.211Z"
   },
   {
    "duration": 82,
    "start_time": "2022-03-17T02:21:41.234Z"
   },
   {
    "duration": 21,
    "start_time": "2022-03-17T02:21:41.318Z"
   },
   {
    "duration": 42,
    "start_time": "2022-03-17T02:21:41.374Z"
   },
   {
    "duration": 1613,
    "start_time": "2022-03-17T02:21:41.421Z"
   },
   {
    "duration": 14,
    "start_time": "2022-03-17T02:21:43.037Z"
   },
   {
    "duration": 38,
    "start_time": "2022-03-17T02:21:43.053Z"
   },
   {
    "duration": 18,
    "start_time": "2022-03-17T02:21:43.093Z"
   },
   {
    "duration": 32,
    "start_time": "2022-03-17T02:21:43.114Z"
   },
   {
    "duration": 28,
    "start_time": "2022-03-17T02:21:43.149Z"
   },
   {
    "duration": 9,
    "start_time": "2022-03-17T02:21:43.179Z"
   },
   {
    "duration": 7,
    "start_time": "2022-03-17T02:21:43.191Z"
   },
   {
    "duration": 9,
    "start_time": "2022-03-17T02:21:43.201Z"
   },
   {
    "duration": 79,
    "start_time": "2022-03-17T02:21:43.213Z"
   },
   {
    "duration": 6,
    "start_time": "2022-03-17T02:21:43.295Z"
   },
   {
    "duration": 15,
    "start_time": "2022-03-17T02:21:43.304Z"
   },
   {
    "duration": 16,
    "start_time": "2022-03-17T02:21:43.322Z"
   },
   {
    "duration": 40,
    "start_time": "2022-03-17T02:21:43.341Z"
   },
   {
    "duration": 13,
    "start_time": "2022-03-17T02:21:43.390Z"
   },
   {
    "duration": 13,
    "start_time": "2022-03-17T02:21:43.407Z"
   },
   {
    "duration": 14,
    "start_time": "2022-03-17T02:21:43.422Z"
   },
   {
    "duration": 34,
    "start_time": "2022-03-17T02:21:43.439Z"
   },
   {
    "duration": 36,
    "start_time": "2022-03-17T02:21:43.476Z"
   },
   {
    "duration": 18,
    "start_time": "2022-03-17T02:21:43.514Z"
   },
   {
    "duration": 15,
    "start_time": "2022-03-17T02:21:43.535Z"
   },
   {
    "duration": 32,
    "start_time": "2022-03-17T02:21:43.553Z"
   },
   {
    "duration": 39,
    "start_time": "2022-03-17T02:21:43.587Z"
   },
   {
    "duration": 14,
    "start_time": "2022-03-17T02:21:43.629Z"
   },
   {
    "duration": 111,
    "start_time": "2022-03-17T02:21:43.645Z"
   },
   {
    "duration": 62,
    "start_time": "2022-03-17T02:21:43.758Z"
   },
   {
    "duration": 51,
    "start_time": "2022-03-17T02:21:43.822Z"
   },
   {
    "duration": 13,
    "start_time": "2022-03-17T02:21:43.876Z"
   },
   {
    "duration": 39,
    "start_time": "2022-03-17T02:21:43.892Z"
   },
   {
    "duration": 16,
    "start_time": "2022-03-17T02:21:43.933Z"
   },
   {
    "duration": 10,
    "start_time": "2022-03-17T02:21:43.951Z"
   },
   {
    "duration": 36,
    "start_time": "2022-03-17T02:21:43.963Z"
   },
   {
    "duration": 15,
    "start_time": "2022-03-17T02:21:44.001Z"
   },
   {
    "duration": 75,
    "start_time": "2022-03-17T02:21:44.018Z"
   },
   {
    "duration": 6,
    "start_time": "2022-03-17T02:21:44.096Z"
   },
   {
    "duration": 23,
    "start_time": "2022-03-17T02:21:44.104Z"
   },
   {
    "duration": 19,
    "start_time": "2022-03-17T02:21:44.129Z"
   },
   {
    "duration": 20,
    "start_time": "2022-03-17T02:21:44.150Z"
   },
   {
    "duration": 28,
    "start_time": "2022-03-17T02:21:44.172Z"
   },
   {
    "duration": 22,
    "start_time": "2022-03-17T02:21:44.203Z"
   },
   {
    "duration": 6,
    "start_time": "2022-03-17T02:21:44.228Z"
   },
   {
    "duration": 23,
    "start_time": "2022-03-17T02:21:44.237Z"
   },
   {
    "duration": 9,
    "start_time": "2022-03-17T02:21:44.263Z"
   },
   {
    "duration": 14,
    "start_time": "2022-03-17T02:21:44.274Z"
   },
   {
    "duration": 22,
    "start_time": "2022-03-17T02:21:44.290Z"
   },
   {
    "duration": 20,
    "start_time": "2022-03-17T02:21:44.315Z"
   },
   {
    "duration": 8,
    "start_time": "2022-03-17T02:21:44.338Z"
   },
   {
    "duration": 17,
    "start_time": "2022-03-17T02:21:44.349Z"
   },
   {
    "duration": 5,
    "start_time": "2022-03-17T02:21:44.369Z"
   },
   {
    "duration": 19,
    "start_time": "2022-03-17T02:21:44.376Z"
   },
   {
    "duration": 11,
    "start_time": "2022-03-17T02:21:44.398Z"
   },
   {
    "duration": 16,
    "start_time": "2022-03-17T02:21:44.411Z"
   },
   {
    "duration": 12,
    "start_time": "2022-03-17T02:21:44.430Z"
   },
   {
    "duration": 12,
    "start_time": "2022-03-17T02:21:44.444Z"
   },
   {
    "duration": 11,
    "start_time": "2022-03-17T02:21:44.459Z"
   },
   {
    "duration": 6,
    "start_time": "2022-03-17T02:21:44.473Z"
   },
   {
    "duration": 8,
    "start_time": "2022-03-17T02:21:44.482Z"
   },
   {
    "duration": 6,
    "start_time": "2022-03-17T02:21:44.493Z"
   },
   {
    "duration": 7,
    "start_time": "2022-03-17T02:21:44.501Z"
   },
   {
    "duration": 3,
    "start_time": "2022-03-17T02:21:44.515Z"
   },
   {
    "duration": 14,
    "start_time": "2022-03-17T02:21:44.520Z"
   },
   {
    "duration": 19,
    "start_time": "2022-03-17T02:21:44.536Z"
   },
   {
    "duration": 17,
    "start_time": "2022-03-17T02:21:44.557Z"
   },
   {
    "duration": 57,
    "start_time": "2022-03-17T02:26:51.941Z"
   },
   {
    "duration": 10,
    "start_time": "2022-03-17T02:27:41.553Z"
   },
   {
    "duration": 34,
    "start_time": "2022-03-17T02:28:06.663Z"
   },
   {
    "duration": 11,
    "start_time": "2022-03-17T02:28:10.724Z"
   },
   {
    "duration": 35,
    "start_time": "2022-03-17T02:28:39.536Z"
   },
   {
    "duration": 10,
    "start_time": "2022-03-17T02:28:41.438Z"
   },
   {
    "duration": 70,
    "start_time": "2022-03-18T14:58:32.607Z"
   },
   {
    "duration": 640,
    "start_time": "2022-03-18T14:58:46.559Z"
   },
   {
    "duration": 21,
    "start_time": "2022-03-18T14:58:47.202Z"
   },
   {
    "duration": 11,
    "start_time": "2022-03-18T14:58:47.225Z"
   },
   {
    "duration": 48,
    "start_time": "2022-03-18T14:58:47.239Z"
   },
   {
    "duration": 17,
    "start_time": "2022-03-18T14:58:47.289Z"
   },
   {
    "duration": 71,
    "start_time": "2022-03-18T14:58:47.308Z"
   },
   {
    "duration": 23,
    "start_time": "2022-03-18T14:58:47.381Z"
   },
   {
    "duration": 65,
    "start_time": "2022-03-18T14:58:47.406Z"
   },
   {
    "duration": 1429,
    "start_time": "2022-03-18T14:58:47.473Z"
   },
   {
    "duration": 14,
    "start_time": "2022-03-18T14:58:48.906Z"
   },
   {
    "duration": 19,
    "start_time": "2022-03-18T14:58:48.923Z"
   },
   {
    "duration": 17,
    "start_time": "2022-03-18T14:58:48.968Z"
   },
   {
    "duration": 24,
    "start_time": "2022-03-18T14:58:48.988Z"
   },
   {
    "duration": 5,
    "start_time": "2022-03-18T14:58:49.015Z"
   },
   {
    "duration": 8,
    "start_time": "2022-03-18T14:58:49.022Z"
   },
   {
    "duration": 6,
    "start_time": "2022-03-18T14:58:49.067Z"
   },
   {
    "duration": 7,
    "start_time": "2022-03-18T14:58:49.075Z"
   },
   {
    "duration": 110,
    "start_time": "2022-03-18T14:58:49.084Z"
   },
   {
    "duration": 5,
    "start_time": "2022-03-18T14:58:49.196Z"
   },
   {
    "duration": 10,
    "start_time": "2022-03-18T14:58:49.203Z"
   },
   {
    "duration": 8,
    "start_time": "2022-03-18T14:58:49.215Z"
   },
   {
    "duration": 5,
    "start_time": "2022-03-18T14:58:49.226Z"
   },
   {
    "duration": 38,
    "start_time": "2022-03-18T14:58:49.232Z"
   },
   {
    "duration": 10,
    "start_time": "2022-03-18T14:58:49.272Z"
   },
   {
    "duration": 4,
    "start_time": "2022-03-18T14:58:49.284Z"
   },
   {
    "duration": 5,
    "start_time": "2022-03-18T14:58:49.290Z"
   },
   {
    "duration": 21,
    "start_time": "2022-03-18T14:58:49.297Z"
   },
   {
    "duration": 47,
    "start_time": "2022-03-18T14:58:49.326Z"
   },
   {
    "duration": 9,
    "start_time": "2022-03-18T14:58:49.375Z"
   },
   {
    "duration": 9,
    "start_time": "2022-03-18T14:58:49.387Z"
   },
   {
    "duration": 28,
    "start_time": "2022-03-18T14:58:49.398Z"
   },
   {
    "duration": 44,
    "start_time": "2022-03-18T14:58:49.428Z"
   },
   {
    "duration": 118,
    "start_time": "2022-03-18T14:58:49.474Z"
   },
   {
    "duration": 49,
    "start_time": "2022-03-18T14:58:49.594Z"
   },
   {
    "duration": 37,
    "start_time": "2022-03-18T14:58:49.646Z"
   },
   {
    "duration": 21,
    "start_time": "2022-03-18T14:58:49.686Z"
   },
   {
    "duration": 17,
    "start_time": "2022-03-18T14:58:49.709Z"
   },
   {
    "duration": 6,
    "start_time": "2022-03-18T14:58:49.729Z"
   },
   {
    "duration": 6,
    "start_time": "2022-03-18T14:58:49.768Z"
   },
   {
    "duration": 15,
    "start_time": "2022-03-18T14:58:49.777Z"
   },
   {
    "duration": 8,
    "start_time": "2022-03-18T14:58:49.795Z"
   },
   {
    "duration": 82,
    "start_time": "2022-03-18T14:58:49.805Z"
   },
   {
    "duration": 7,
    "start_time": "2022-03-18T14:58:49.889Z"
   },
   {
    "duration": 10,
    "start_time": "2022-03-18T14:58:49.898Z"
   },
   {
    "duration": 109,
    "start_time": "2022-03-18T14:58:49.910Z"
   },
   {
    "duration": 0,
    "start_time": "2022-03-18T14:58:50.021Z"
   },
   {
    "duration": 0,
    "start_time": "2022-03-18T14:58:50.023Z"
   },
   {
    "duration": 0,
    "start_time": "2022-03-18T14:58:50.025Z"
   },
   {
    "duration": 0,
    "start_time": "2022-03-18T14:58:50.027Z"
   },
   {
    "duration": 0,
    "start_time": "2022-03-18T14:58:50.028Z"
   },
   {
    "duration": 0,
    "start_time": "2022-03-18T14:58:50.030Z"
   },
   {
    "duration": 0,
    "start_time": "2022-03-18T14:58:50.032Z"
   },
   {
    "duration": 0,
    "start_time": "2022-03-18T14:58:50.033Z"
   },
   {
    "duration": 0,
    "start_time": "2022-03-18T14:58:50.035Z"
   },
   {
    "duration": 0,
    "start_time": "2022-03-18T14:58:50.037Z"
   },
   {
    "duration": 0,
    "start_time": "2022-03-18T14:58:50.038Z"
   },
   {
    "duration": 0,
    "start_time": "2022-03-18T14:58:50.040Z"
   },
   {
    "duration": 0,
    "start_time": "2022-03-18T14:58:50.042Z"
   },
   {
    "duration": 0,
    "start_time": "2022-03-18T14:58:50.044Z"
   },
   {
    "duration": 0,
    "start_time": "2022-03-18T14:58:50.046Z"
   },
   {
    "duration": 0,
    "start_time": "2022-03-18T14:58:50.047Z"
   },
   {
    "duration": 0,
    "start_time": "2022-03-18T14:58:50.049Z"
   },
   {
    "duration": 0,
    "start_time": "2022-03-18T14:58:50.050Z"
   },
   {
    "duration": 0,
    "start_time": "2022-03-18T14:58:50.051Z"
   },
   {
    "duration": 0,
    "start_time": "2022-03-18T14:58:50.053Z"
   },
   {
    "duration": 0,
    "start_time": "2022-03-18T14:58:50.055Z"
   },
   {
    "duration": 0,
    "start_time": "2022-03-18T14:58:50.068Z"
   },
   {
    "duration": 0,
    "start_time": "2022-03-18T14:58:50.070Z"
   },
   {
    "duration": 0,
    "start_time": "2022-03-18T14:58:50.071Z"
   },
   {
    "duration": 0,
    "start_time": "2022-03-18T14:58:50.073Z"
   },
   {
    "duration": 0,
    "start_time": "2022-03-18T14:58:50.075Z"
   },
   {
    "duration": 104,
    "start_time": "2022-03-18T14:59:03.549Z"
   },
   {
    "duration": 36,
    "start_time": "2022-03-18T14:59:09.153Z"
   },
   {
    "duration": 20,
    "start_time": "2022-03-18T15:00:44.319Z"
   },
   {
    "duration": 18,
    "start_time": "2022-03-18T15:01:13.423Z"
   },
   {
    "duration": 647,
    "start_time": "2022-03-18T18:53:55.402Z"
   },
   {
    "duration": 14,
    "start_time": "2022-03-18T18:53:56.051Z"
   },
   {
    "duration": 6,
    "start_time": "2022-03-18T18:53:56.067Z"
   },
   {
    "duration": 22,
    "start_time": "2022-03-18T18:53:56.075Z"
   },
   {
    "duration": 9,
    "start_time": "2022-03-18T18:53:56.099Z"
   },
   {
    "duration": 45,
    "start_time": "2022-03-18T18:53:56.110Z"
   },
   {
    "duration": 15,
    "start_time": "2022-03-18T18:53:56.157Z"
   },
   {
    "duration": 24,
    "start_time": "2022-03-18T18:53:56.173Z"
   },
   {
    "duration": 980,
    "start_time": "2022-03-18T18:53:56.199Z"
   },
   {
    "duration": 10,
    "start_time": "2022-03-18T18:53:57.183Z"
   },
   {
    "duration": 15,
    "start_time": "2022-03-18T18:53:57.194Z"
   },
   {
    "duration": 27,
    "start_time": "2022-03-18T18:53:57.211Z"
   },
   {
    "duration": 28,
    "start_time": "2022-03-18T18:53:57.240Z"
   },
   {
    "duration": 4,
    "start_time": "2022-03-18T18:53:57.269Z"
   },
   {
    "duration": 13,
    "start_time": "2022-03-18T18:53:57.274Z"
   },
   {
    "duration": 7,
    "start_time": "2022-03-18T18:53:57.289Z"
   },
   {
    "duration": 10,
    "start_time": "2022-03-18T18:53:57.298Z"
   },
   {
    "duration": 95,
    "start_time": "2022-03-18T18:53:57.310Z"
   },
   {
    "duration": 4,
    "start_time": "2022-03-18T18:53:57.407Z"
   },
   {
    "duration": 14,
    "start_time": "2022-03-18T18:53:57.412Z"
   },
   {
    "duration": 13,
    "start_time": "2022-03-18T18:53:57.428Z"
   },
   {
    "duration": 6,
    "start_time": "2022-03-18T18:53:57.443Z"
   },
   {
    "duration": 9,
    "start_time": "2022-03-18T18:53:57.450Z"
   },
   {
    "duration": 14,
    "start_time": "2022-03-18T18:53:57.460Z"
   },
   {
    "duration": 8,
    "start_time": "2022-03-18T18:53:57.477Z"
   },
   {
    "duration": 6,
    "start_time": "2022-03-18T18:53:57.487Z"
   },
   {
    "duration": 19,
    "start_time": "2022-03-18T18:53:57.494Z"
   },
   {
    "duration": 20,
    "start_time": "2022-03-18T18:53:57.517Z"
   },
   {
    "duration": 7,
    "start_time": "2022-03-18T18:53:57.539Z"
   },
   {
    "duration": 13,
    "start_time": "2022-03-18T18:53:57.547Z"
   },
   {
    "duration": 23,
    "start_time": "2022-03-18T18:53:57.561Z"
   },
   {
    "duration": 7,
    "start_time": "2022-03-18T18:53:57.585Z"
   },
   {
    "duration": 81,
    "start_time": "2022-03-18T18:53:57.593Z"
   },
   {
    "duration": 29,
    "start_time": "2022-03-18T18:53:57.676Z"
   },
   {
    "duration": 20,
    "start_time": "2022-03-18T18:53:57.707Z"
   },
   {
    "duration": 22,
    "start_time": "2022-03-18T18:53:57.729Z"
   },
   {
    "duration": 12,
    "start_time": "2022-03-18T18:53:57.753Z"
   },
   {
    "duration": 13,
    "start_time": "2022-03-18T18:53:57.767Z"
   },
   {
    "duration": 10,
    "start_time": "2022-03-18T18:53:57.781Z"
   },
   {
    "duration": 12,
    "start_time": "2022-03-18T18:53:57.792Z"
   },
   {
    "duration": 10,
    "start_time": "2022-03-18T18:53:57.806Z"
   },
   {
    "duration": 44,
    "start_time": "2022-03-18T18:53:57.818Z"
   },
   {
    "duration": 5,
    "start_time": "2022-03-18T18:53:57.864Z"
   },
   {
    "duration": 11,
    "start_time": "2022-03-18T18:53:57.870Z"
   },
   {
    "duration": 102,
    "start_time": "2022-03-18T18:53:57.882Z"
   },
   {
    "duration": 0,
    "start_time": "2022-03-18T18:53:57.986Z"
   },
   {
    "duration": 0,
    "start_time": "2022-03-18T18:53:57.987Z"
   },
   {
    "duration": 0,
    "start_time": "2022-03-18T18:53:57.988Z"
   },
   {
    "duration": 0,
    "start_time": "2022-03-18T18:53:57.989Z"
   },
   {
    "duration": 0,
    "start_time": "2022-03-18T18:53:57.990Z"
   },
   {
    "duration": 0,
    "start_time": "2022-03-18T18:53:57.991Z"
   },
   {
    "duration": 0,
    "start_time": "2022-03-18T18:53:57.992Z"
   },
   {
    "duration": 0,
    "start_time": "2022-03-18T18:53:57.993Z"
   },
   {
    "duration": 0,
    "start_time": "2022-03-18T18:53:57.994Z"
   },
   {
    "duration": 0,
    "start_time": "2022-03-18T18:53:57.995Z"
   },
   {
    "duration": 0,
    "start_time": "2022-03-18T18:53:57.996Z"
   },
   {
    "duration": 0,
    "start_time": "2022-03-18T18:53:57.997Z"
   },
   {
    "duration": 0,
    "start_time": "2022-03-18T18:53:57.998Z"
   },
   {
    "duration": 0,
    "start_time": "2022-03-18T18:53:57.999Z"
   },
   {
    "duration": 0,
    "start_time": "2022-03-18T18:53:58.000Z"
   },
   {
    "duration": 0,
    "start_time": "2022-03-18T18:53:58.001Z"
   },
   {
    "duration": 0,
    "start_time": "2022-03-18T18:53:58.002Z"
   },
   {
    "duration": 0,
    "start_time": "2022-03-18T18:53:58.003Z"
   },
   {
    "duration": 0,
    "start_time": "2022-03-18T18:53:58.004Z"
   },
   {
    "duration": 0,
    "start_time": "2022-03-18T18:53:58.005Z"
   },
   {
    "duration": 0,
    "start_time": "2022-03-18T18:53:58.006Z"
   },
   {
    "duration": 0,
    "start_time": "2022-03-18T18:53:58.007Z"
   },
   {
    "duration": 0,
    "start_time": "2022-03-18T18:53:58.008Z"
   },
   {
    "duration": 0,
    "start_time": "2022-03-18T18:53:58.009Z"
   },
   {
    "duration": 0,
    "start_time": "2022-03-18T18:53:58.010Z"
   },
   {
    "duration": 0,
    "start_time": "2022-03-18T18:53:58.011Z"
   },
   {
    "duration": 120,
    "start_time": "2022-03-18T19:06:24.410Z"
   },
   {
    "duration": 125,
    "start_time": "2022-03-18T19:07:03.015Z"
   },
   {
    "duration": 4,
    "start_time": "2022-03-18T19:07:10.029Z"
   },
   {
    "duration": 4,
    "start_time": "2022-03-18T19:07:12.571Z"
   },
   {
    "duration": 582,
    "start_time": "2022-03-18T19:10:38.361Z"
   },
   {
    "duration": 497,
    "start_time": "2022-03-18T19:11:19.309Z"
   },
   {
    "duration": 2,
    "start_time": "2022-03-18T19:11:33.047Z"
   },
   {
    "duration": 9,
    "start_time": "2022-03-18T19:11:41.375Z"
   },
   {
    "duration": 3,
    "start_time": "2022-03-18T19:16:56.950Z"
   },
   {
    "duration": 10,
    "start_time": "2022-03-18T19:16:58.854Z"
   },
   {
    "duration": 3,
    "start_time": "2022-03-18T19:17:13.831Z"
   },
   {
    "duration": 11,
    "start_time": "2022-03-18T19:17:16.191Z"
   },
   {
    "duration": 3,
    "start_time": "2022-03-18T19:17:26.393Z"
   },
   {
    "duration": 11,
    "start_time": "2022-03-18T19:17:28.273Z"
   },
   {
    "duration": 11,
    "start_time": "2022-03-18T19:17:39.701Z"
   },
   {
    "duration": 109,
    "start_time": "2022-03-18T19:41:53.554Z"
   },
   {
    "duration": 184,
    "start_time": "2022-03-18T19:42:14.429Z"
   },
   {
    "duration": 4,
    "start_time": "2022-03-18T19:42:23.229Z"
   },
   {
    "duration": 11,
    "start_time": "2022-03-18T19:42:25.462Z"
   },
   {
    "duration": 10,
    "start_time": "2022-03-18T19:42:43.288Z"
   },
   {
    "duration": 4,
    "start_time": "2022-03-18T19:42:48.786Z"
   },
   {
    "duration": 3,
    "start_time": "2022-03-18T19:42:50.728Z"
   },
   {
    "duration": 2,
    "start_time": "2022-03-18T19:42:54.611Z"
   },
   {
    "duration": 4,
    "start_time": "2022-03-18T19:43:00.666Z"
   },
   {
    "duration": 103,
    "start_time": "2022-03-18T19:43:23.501Z"
   },
   {
    "duration": 3,
    "start_time": "2022-03-18T19:43:26.521Z"
   },
   {
    "duration": 109,
    "start_time": "2022-03-18T19:43:45.877Z"
   },
   {
    "duration": 3,
    "start_time": "2022-03-18T19:43:59.236Z"
   },
   {
    "duration": 3,
    "start_time": "2022-03-18T19:47:57.565Z"
   },
   {
    "duration": 132,
    "start_time": "2022-03-18T19:56:40.227Z"
   },
   {
    "duration": 3,
    "start_time": "2022-03-18T19:56:46.213Z"
   },
   {
    "duration": 3,
    "start_time": "2022-03-18T19:56:48.343Z"
   },
   {
    "duration": 3,
    "start_time": "2022-03-18T19:57:04.229Z"
   },
   {
    "duration": 3,
    "start_time": "2022-03-18T19:57:07.743Z"
   },
   {
    "duration": 3,
    "start_time": "2022-03-18T20:00:15.079Z"
   },
   {
    "duration": 3,
    "start_time": "2022-03-18T20:00:19.612Z"
   },
   {
    "duration": 3,
    "start_time": "2022-03-18T20:01:15.189Z"
   },
   {
    "duration": 10,
    "start_time": "2022-03-18T20:01:18.103Z"
   },
   {
    "duration": 2,
    "start_time": "2022-03-18T20:01:38.988Z"
   },
   {
    "duration": 10,
    "start_time": "2022-03-18T20:01:40.799Z"
   },
   {
    "duration": 2,
    "start_time": "2022-03-18T20:03:23.610Z"
   },
   {
    "duration": 10,
    "start_time": "2022-03-18T20:03:25.361Z"
   },
   {
    "duration": 11,
    "start_time": "2022-03-18T20:06:16.858Z"
   },
   {
    "duration": 118,
    "start_time": "2022-03-18T20:13:02.061Z"
   },
   {
    "duration": 3,
    "start_time": "2022-03-18T20:13:09.607Z"
   },
   {
    "duration": 10,
    "start_time": "2022-03-18T20:13:11.500Z"
   },
   {
    "duration": 3,
    "start_time": "2022-03-18T20:15:41.811Z"
   },
   {
    "duration": 4,
    "start_time": "2022-03-18T20:15:43.442Z"
   },
   {
    "duration": 3,
    "start_time": "2022-03-18T20:16:28.213Z"
   },
   {
    "duration": 19,
    "start_time": "2022-03-18T20:16:30.091Z"
   },
   {
    "duration": 16,
    "start_time": "2022-03-18T20:20:45.613Z"
   },
   {
    "duration": 109,
    "start_time": "2022-03-18T20:32:33.025Z"
   },
   {
    "duration": 3,
    "start_time": "2022-03-18T20:33:48.404Z"
   },
   {
    "duration": 9,
    "start_time": "2022-03-18T20:33:50.477Z"
   },
   {
    "duration": 3,
    "start_time": "2022-03-18T20:34:01.911Z"
   },
   {
    "duration": 152,
    "start_time": "2022-03-18T20:34:12.058Z"
   },
   {
    "duration": 10,
    "start_time": "2022-03-18T20:34:15.116Z"
   },
   {
    "duration": 112,
    "start_time": "2022-03-18T20:34:43.227Z"
   },
   {
    "duration": 11,
    "start_time": "2022-03-18T20:34:46.770Z"
   },
   {
    "duration": 2,
    "start_time": "2022-03-18T20:35:20.818Z"
   },
   {
    "duration": 11,
    "start_time": "2022-03-18T20:35:23.703Z"
   },
   {
    "duration": 3,
    "start_time": "2022-03-18T20:36:24.163Z"
   },
   {
    "duration": 11,
    "start_time": "2022-03-18T20:36:26.007Z"
   },
   {
    "duration": 11,
    "start_time": "2022-03-18T20:36:30.406Z"
   },
   {
    "duration": 3,
    "start_time": "2022-03-18T20:37:55.864Z"
   },
   {
    "duration": 11,
    "start_time": "2022-03-18T20:37:58.792Z"
   },
   {
    "duration": 3,
    "start_time": "2022-03-18T20:39:05.579Z"
   },
   {
    "duration": 11,
    "start_time": "2022-03-18T20:39:30.253Z"
   },
   {
    "duration": 3,
    "start_time": "2022-03-18T20:40:00.708Z"
   },
   {
    "duration": 12,
    "start_time": "2022-03-18T20:40:27.124Z"
   },
   {
    "duration": 3,
    "start_time": "2022-03-18T20:40:50.427Z"
   },
   {
    "duration": 11,
    "start_time": "2022-03-18T20:40:52.952Z"
   },
   {
    "duration": 4,
    "start_time": "2022-03-18T20:40:59.991Z"
   },
   {
    "duration": 12,
    "start_time": "2022-03-18T20:41:01.754Z"
   },
   {
    "duration": 131,
    "start_time": "2022-03-18T20:46:39.103Z"
   },
   {
    "duration": 120,
    "start_time": "2022-03-18T20:46:43.357Z"
   },
   {
    "duration": 3,
    "start_time": "2022-03-18T20:46:51.256Z"
   },
   {
    "duration": 7,
    "start_time": "2022-03-18T20:46:53.995Z"
   },
   {
    "duration": 7,
    "start_time": "2022-03-18T20:53:05.372Z"
   },
   {
    "duration": 763,
    "start_time": "2022-03-18T20:59:17.745Z"
   },
   {
    "duration": 3,
    "start_time": "2022-03-18T20:59:43.947Z"
   },
   {
    "duration": 506,
    "start_time": "2022-03-18T20:59:47.709Z"
   },
   {
    "duration": 434,
    "start_time": "2022-03-18T21:00:09.084Z"
   },
   {
    "duration": 19,
    "start_time": "2022-03-18T21:00:09.520Z"
   },
   {
    "duration": 9,
    "start_time": "2022-03-18T21:00:09.541Z"
   },
   {
    "duration": 23,
    "start_time": "2022-03-18T21:00:09.553Z"
   },
   {
    "duration": 13,
    "start_time": "2022-03-18T21:00:09.578Z"
   },
   {
    "duration": 60,
    "start_time": "2022-03-18T21:00:09.593Z"
   },
   {
    "duration": 18,
    "start_time": "2022-03-18T21:00:09.655Z"
   },
   {
    "duration": 65,
    "start_time": "2022-03-18T21:00:09.675Z"
   },
   {
    "duration": 828,
    "start_time": "2022-03-18T21:00:09.742Z"
   },
   {
    "duration": 9,
    "start_time": "2022-03-18T21:00:10.574Z"
   },
   {
    "duration": 16,
    "start_time": "2022-03-18T21:00:10.585Z"
   },
   {
    "duration": 16,
    "start_time": "2022-03-18T21:00:10.603Z"
   },
   {
    "duration": 19,
    "start_time": "2022-03-18T21:00:10.637Z"
   },
   {
    "duration": 8,
    "start_time": "2022-03-18T21:00:10.658Z"
   },
   {
    "duration": 8,
    "start_time": "2022-03-18T21:00:10.668Z"
   },
   {
    "duration": 10,
    "start_time": "2022-03-18T21:00:10.678Z"
   },
   {
    "duration": 9,
    "start_time": "2022-03-18T21:00:10.690Z"
   },
   {
    "duration": 49,
    "start_time": "2022-03-18T21:00:10.701Z"
   },
   {
    "duration": 4,
    "start_time": "2022-03-18T21:00:10.751Z"
   },
   {
    "duration": 38,
    "start_time": "2022-03-18T21:00:10.756Z"
   },
   {
    "duration": 13,
    "start_time": "2022-03-18T21:00:10.796Z"
   },
   {
    "duration": 9,
    "start_time": "2022-03-18T21:00:10.811Z"
   },
   {
    "duration": 18,
    "start_time": "2022-03-18T21:00:10.822Z"
   },
   {
    "duration": 16,
    "start_time": "2022-03-18T21:00:10.842Z"
   },
   {
    "duration": 6,
    "start_time": "2022-03-18T21:00:10.860Z"
   },
   {
    "duration": 6,
    "start_time": "2022-03-18T21:00:10.867Z"
   },
   {
    "duration": 21,
    "start_time": "2022-03-18T21:00:10.875Z"
   },
   {
    "duration": 8,
    "start_time": "2022-03-18T21:00:10.900Z"
   },
   {
    "duration": 7,
    "start_time": "2022-03-18T21:00:10.910Z"
   },
   {
    "duration": 21,
    "start_time": "2022-03-18T21:00:10.919Z"
   },
   {
    "duration": 28,
    "start_time": "2022-03-18T21:00:10.942Z"
   },
   {
    "duration": 7,
    "start_time": "2022-03-18T21:00:10.971Z"
   },
   {
    "duration": 94,
    "start_time": "2022-03-18T21:00:10.980Z"
   },
   {
    "duration": 32,
    "start_time": "2022-03-18T21:00:11.076Z"
   },
   {
    "duration": 21,
    "start_time": "2022-03-18T21:00:11.110Z"
   },
   {
    "duration": 15,
    "start_time": "2022-03-18T21:00:11.133Z"
   },
   {
    "duration": 11,
    "start_time": "2022-03-18T21:00:11.150Z"
   },
   {
    "duration": 7,
    "start_time": "2022-03-18T21:00:11.163Z"
   },
   {
    "duration": 7,
    "start_time": "2022-03-18T21:00:11.172Z"
   },
   {
    "duration": 24,
    "start_time": "2022-03-18T21:00:11.181Z"
   },
   {
    "duration": 15,
    "start_time": "2022-03-18T21:00:11.207Z"
   },
   {
    "duration": 47,
    "start_time": "2022-03-18T21:00:11.224Z"
   },
   {
    "duration": 4,
    "start_time": "2022-03-18T21:00:11.273Z"
   },
   {
    "duration": 11,
    "start_time": "2022-03-18T21:00:11.279Z"
   },
   {
    "duration": 8,
    "start_time": "2022-03-18T21:00:11.291Z"
   },
   {
    "duration": 19,
    "start_time": "2022-03-18T21:00:11.300Z"
   },
   {
    "duration": 586,
    "start_time": "2022-03-18T21:00:11.321Z"
   },
   {
    "duration": 0,
    "start_time": "2022-03-18T21:00:11.908Z"
   },
   {
    "duration": 0,
    "start_time": "2022-03-18T21:00:11.910Z"
   },
   {
    "duration": 0,
    "start_time": "2022-03-18T21:00:11.911Z"
   },
   {
    "duration": 0,
    "start_time": "2022-03-18T21:00:11.912Z"
   },
   {
    "duration": 0,
    "start_time": "2022-03-18T21:00:11.913Z"
   },
   {
    "duration": 0,
    "start_time": "2022-03-18T21:00:11.914Z"
   },
   {
    "duration": 0,
    "start_time": "2022-03-18T21:00:11.915Z"
   },
   {
    "duration": 0,
    "start_time": "2022-03-18T21:00:11.916Z"
   },
   {
    "duration": 0,
    "start_time": "2022-03-18T21:00:11.917Z"
   },
   {
    "duration": 0,
    "start_time": "2022-03-18T21:00:11.918Z"
   },
   {
    "duration": 0,
    "start_time": "2022-03-18T21:00:11.920Z"
   },
   {
    "duration": 0,
    "start_time": "2022-03-18T21:00:11.920Z"
   },
   {
    "duration": 0,
    "start_time": "2022-03-18T21:00:11.922Z"
   },
   {
    "duration": 0,
    "start_time": "2022-03-18T21:00:11.922Z"
   },
   {
    "duration": 0,
    "start_time": "2022-03-18T21:00:11.924Z"
   },
   {
    "duration": 0,
    "start_time": "2022-03-18T21:00:11.925Z"
   },
   {
    "duration": 0,
    "start_time": "2022-03-18T21:00:11.926Z"
   },
   {
    "duration": 0,
    "start_time": "2022-03-18T21:00:11.927Z"
   },
   {
    "duration": 0,
    "start_time": "2022-03-18T21:00:11.928Z"
   },
   {
    "duration": 0,
    "start_time": "2022-03-18T21:00:11.929Z"
   },
   {
    "duration": 0,
    "start_time": "2022-03-18T21:00:11.930Z"
   },
   {
    "duration": 0,
    "start_time": "2022-03-18T21:00:11.931Z"
   },
   {
    "duration": 0,
    "start_time": "2022-03-18T21:00:11.932Z"
   },
   {
    "duration": 0,
    "start_time": "2022-03-18T21:00:11.933Z"
   },
   {
    "duration": 902,
    "start_time": "2022-03-18T21:00:27.920Z"
   },
   {
    "duration": 500,
    "start_time": "2022-03-18T21:00:42.030Z"
   },
   {
    "duration": 549,
    "start_time": "2022-03-18T21:20:25.999Z"
   },
   {
    "duration": 6,
    "start_time": "2022-03-18T21:27:37.541Z"
   },
   {
    "duration": 113,
    "start_time": "2022-03-18T21:28:18.560Z"
   },
   {
    "duration": 29,
    "start_time": "2022-03-18T21:28:27.763Z"
   },
   {
    "duration": 29,
    "start_time": "2022-03-18T21:28:33.489Z"
   },
   {
    "duration": 9,
    "start_time": "2022-03-18T21:29:15.198Z"
   },
   {
    "duration": 8,
    "start_time": "2022-03-18T21:29:20.867Z"
   },
   {
    "duration": 7,
    "start_time": "2022-03-18T21:30:20.016Z"
   },
   {
    "duration": 515,
    "start_time": "2022-03-18T21:38:13.636Z"
   },
   {
    "duration": 13,
    "start_time": "2022-03-18T21:38:44.901Z"
   },
   {
    "duration": 11,
    "start_time": "2022-03-18T21:39:35.216Z"
   },
   {
    "duration": 6,
    "start_time": "2022-03-18T21:39:43.613Z"
   },
   {
    "duration": 28,
    "start_time": "2022-03-18T21:44:45.945Z"
   },
   {
    "duration": 114,
    "start_time": "2022-03-18T21:45:04.114Z"
   },
   {
    "duration": 19,
    "start_time": "2022-03-18T21:45:18.443Z"
   },
   {
    "duration": 504,
    "start_time": "2022-03-18T21:45:40.152Z"
   },
   {
    "duration": 104,
    "start_time": "2022-03-18T21:46:03.550Z"
   },
   {
    "duration": 5,
    "start_time": "2022-03-18T21:46:07.143Z"
   },
   {
    "duration": 8,
    "start_time": "2022-03-18T21:52:37.694Z"
   },
   {
    "duration": 8,
    "start_time": "2022-03-18T21:53:21.300Z"
   },
   {
    "duration": 2,
    "start_time": "2022-03-18T21:53:25.222Z"
   },
   {
    "duration": 7,
    "start_time": "2022-03-18T21:53:26.710Z"
   },
   {
    "duration": 6,
    "start_time": "2022-03-18T21:53:32.912Z"
   },
   {
    "duration": 9,
    "start_time": "2022-03-18T21:53:44.486Z"
   },
   {
    "duration": 5,
    "start_time": "2022-03-18T21:54:05.144Z"
   },
   {
    "duration": 6,
    "start_time": "2022-03-18T21:54:45.893Z"
   },
   {
    "duration": 5,
    "start_time": "2022-03-18T21:54:50.867Z"
   },
   {
    "duration": 512,
    "start_time": "2022-03-18T21:54:53.508Z"
   },
   {
    "duration": 4,
    "start_time": "2022-03-18T21:55:35.825Z"
   },
   {
    "duration": 521,
    "start_time": "2022-03-18T21:55:37.827Z"
   },
   {
    "duration": 533,
    "start_time": "2022-03-18T21:56:43.588Z"
   },
   {
    "duration": 112,
    "start_time": "2022-03-18T21:56:46.731Z"
   },
   {
    "duration": 546,
    "start_time": "2022-03-18T21:56:50.002Z"
   },
   {
    "duration": 114,
    "start_time": "2022-03-18T21:56:56.151Z"
   },
   {
    "duration": 159,
    "start_time": "2022-03-18T21:57:13.525Z"
   },
   {
    "duration": 507,
    "start_time": "2022-03-18T21:57:18.142Z"
   },
   {
    "duration": 109,
    "start_time": "2022-03-18T21:57:26.018Z"
   },
   {
    "duration": 105,
    "start_time": "2022-03-18T21:58:11.303Z"
   },
   {
    "duration": 531,
    "start_time": "2022-03-18T21:59:28.449Z"
   },
   {
    "duration": 9,
    "start_time": "2022-03-18T22:00:15.211Z"
   },
   {
    "duration": 13,
    "start_time": "2022-03-18T22:00:21.341Z"
   },
   {
    "duration": 3,
    "start_time": "2022-03-18T22:00:57.187Z"
   },
   {
    "duration": 11,
    "start_time": "2022-03-18T22:00:59.502Z"
   },
   {
    "duration": 3,
    "start_time": "2022-03-18T22:01:04.217Z"
   },
   {
    "duration": 5,
    "start_time": "2022-03-18T22:01:05.959Z"
   },
   {
    "duration": 547,
    "start_time": "2022-03-18T22:01:11.966Z"
   },
   {
    "duration": 3,
    "start_time": "2022-03-18T22:01:20.900Z"
   },
   {
    "duration": 11,
    "start_time": "2022-03-18T22:07:46.650Z"
   },
   {
    "duration": 15,
    "start_time": "2022-03-18T22:08:08.221Z"
   },
   {
    "duration": 4,
    "start_time": "2022-03-18T22:09:48.562Z"
   },
   {
    "duration": 10,
    "start_time": "2022-03-18T22:09:51.796Z"
   },
   {
    "duration": 4,
    "start_time": "2022-03-18T22:10:04.710Z"
   },
   {
    "duration": 11,
    "start_time": "2022-03-18T22:10:09.362Z"
   },
   {
    "duration": 13,
    "start_time": "2022-03-18T22:10:29.937Z"
   },
   {
    "duration": 27,
    "start_time": "2022-03-18T22:10:45.468Z"
   },
   {
    "duration": 7,
    "start_time": "2022-03-18T22:17:23.450Z"
   },
   {
    "duration": 4,
    "start_time": "2022-03-18T22:17:40.573Z"
   },
   {
    "duration": 9,
    "start_time": "2022-03-18T22:18:16.543Z"
   },
   {
    "duration": 3,
    "start_time": "2022-03-18T22:19:10.581Z"
   },
   {
    "duration": 7,
    "start_time": "2022-03-18T22:22:04.956Z"
   },
   {
    "duration": 581,
    "start_time": "2022-03-18T22:26:38.749Z"
   },
   {
    "duration": 507,
    "start_time": "2022-03-18T22:27:21.378Z"
   },
   {
    "duration": 4,
    "start_time": "2022-03-18T22:28:39.915Z"
   },
   {
    "duration": 110,
    "start_time": "2022-03-18T22:31:11.177Z"
   },
   {
    "duration": 15,
    "start_time": "2022-03-18T22:31:20.790Z"
   },
   {
    "duration": 6,
    "start_time": "2022-03-18T22:32:46.877Z"
   },
   {
    "duration": 4,
    "start_time": "2022-03-18T22:35:27.796Z"
   },
   {
    "duration": 4,
    "start_time": "2022-03-18T22:36:25.461Z"
   },
   {
    "duration": 9,
    "start_time": "2022-03-18T22:36:54.769Z"
   },
   {
    "duration": 10,
    "start_time": "2022-03-18T22:48:57.786Z"
   },
   {
    "duration": 7,
    "start_time": "2022-03-18T22:52:09.244Z"
   },
   {
    "duration": 13,
    "start_time": "2022-03-18T22:53:01.434Z"
   },
   {
    "duration": 8,
    "start_time": "2022-03-18T22:53:42.361Z"
   },
   {
    "duration": 3,
    "start_time": "2022-03-18T22:53:48.861Z"
   },
   {
    "duration": 8,
    "start_time": "2022-03-18T22:54:01.499Z"
   },
   {
    "duration": 12,
    "start_time": "2022-03-18T22:54:20.750Z"
   },
   {
    "duration": 7,
    "start_time": "2022-03-18T23:01:22.110Z"
   },
   {
    "duration": 7,
    "start_time": "2022-03-18T23:44:34.222Z"
   },
   {
    "duration": 3,
    "start_time": "2022-03-18T23:44:38.557Z"
   },
   {
    "duration": 7,
    "start_time": "2022-03-18T23:45:11.238Z"
   },
   {
    "duration": 111,
    "start_time": "2022-03-18T23:45:19.663Z"
   },
   {
    "duration": 9,
    "start_time": "2022-03-18T23:45:22.912Z"
   },
   {
    "duration": 6,
    "start_time": "2022-03-18T23:46:06.360Z"
   },
   {
    "duration": 5,
    "start_time": "2022-03-18T23:46:17.988Z"
   },
   {
    "duration": 6,
    "start_time": "2022-03-18T23:50:03.870Z"
   },
   {
    "duration": 7,
    "start_time": "2022-03-18T23:50:44.635Z"
   },
   {
    "duration": 7,
    "start_time": "2022-03-18T23:50:48.541Z"
   },
   {
    "duration": 6,
    "start_time": "2022-03-18T23:50:50.343Z"
   },
   {
    "duration": 7,
    "start_time": "2022-03-18T23:51:23.197Z"
   },
   {
    "duration": 7,
    "start_time": "2022-03-18T23:51:44.179Z"
   },
   {
    "duration": 111,
    "start_time": "2022-03-18T23:55:21.583Z"
   },
   {
    "duration": 107,
    "start_time": "2022-03-18T23:55:37.784Z"
   },
   {
    "duration": 2,
    "start_time": "2022-03-18T23:55:46.325Z"
   },
   {
    "duration": 3,
    "start_time": "2022-03-18T23:57:21.003Z"
   },
   {
    "duration": 8,
    "start_time": "2022-03-18T23:57:24.743Z"
   },
   {
    "duration": 7,
    "start_time": "2022-03-18T23:57:44.147Z"
   },
   {
    "duration": 8,
    "start_time": "2022-03-18T23:58:12.473Z"
   },
   {
    "duration": 7,
    "start_time": "2022-03-18T23:58:39.977Z"
   },
   {
    "duration": 107,
    "start_time": "2022-03-18T23:59:30.227Z"
   },
   {
    "duration": 106,
    "start_time": "2022-03-18T23:59:48.131Z"
   },
   {
    "duration": 3,
    "start_time": "2022-03-18T23:59:58.558Z"
   },
   {
    "duration": 3,
    "start_time": "2022-03-19T00:00:01.303Z"
   },
   {
    "duration": 7,
    "start_time": "2022-03-19T00:00:03.500Z"
   },
   {
    "duration": 3,
    "start_time": "2022-03-19T00:00:25.641Z"
   },
   {
    "duration": 8,
    "start_time": "2022-03-19T00:00:27.439Z"
   },
   {
    "duration": 3,
    "start_time": "2022-03-19T00:05:51.484Z"
   },
   {
    "duration": 7,
    "start_time": "2022-03-19T00:05:53.187Z"
   },
   {
    "duration": 3,
    "start_time": "2022-03-19T00:12:56.574Z"
   },
   {
    "duration": 8,
    "start_time": "2022-03-19T00:12:59.039Z"
   },
   {
    "duration": 8,
    "start_time": "2022-03-19T00:13:01.837Z"
   },
   {
    "duration": 3,
    "start_time": "2022-03-19T00:13:11.707Z"
   },
   {
    "duration": 461,
    "start_time": "2022-03-19T00:13:17.855Z"
   },
   {
    "duration": 18,
    "start_time": "2022-03-19T00:13:18.319Z"
   },
   {
    "duration": 8,
    "start_time": "2022-03-19T00:13:18.339Z"
   },
   {
    "duration": 19,
    "start_time": "2022-03-19T00:13:18.349Z"
   },
   {
    "duration": 11,
    "start_time": "2022-03-19T00:13:18.369Z"
   },
   {
    "duration": 25,
    "start_time": "2022-03-19T00:13:18.382Z"
   },
   {
    "duration": 43,
    "start_time": "2022-03-19T00:13:18.408Z"
   },
   {
    "duration": 23,
    "start_time": "2022-03-19T00:13:18.453Z"
   },
   {
    "duration": 798,
    "start_time": "2022-03-19T00:13:18.478Z"
   },
   {
    "duration": 9,
    "start_time": "2022-03-19T00:13:19.279Z"
   },
   {
    "duration": 12,
    "start_time": "2022-03-19T00:13:19.290Z"
   },
   {
    "duration": 11,
    "start_time": "2022-03-19T00:13:19.303Z"
   },
   {
    "duration": 34,
    "start_time": "2022-03-19T00:13:19.316Z"
   },
   {
    "duration": 5,
    "start_time": "2022-03-19T00:13:19.351Z"
   },
   {
    "duration": 8,
    "start_time": "2022-03-19T00:13:19.357Z"
   },
   {
    "duration": 9,
    "start_time": "2022-03-19T00:13:19.366Z"
   },
   {
    "duration": 10,
    "start_time": "2022-03-19T00:13:19.377Z"
   },
   {
    "duration": 26,
    "start_time": "2022-03-19T00:13:19.388Z"
   },
   {
    "duration": 24,
    "start_time": "2022-03-19T00:13:19.416Z"
   },
   {
    "duration": 8,
    "start_time": "2022-03-19T00:13:19.441Z"
   },
   {
    "duration": 8,
    "start_time": "2022-03-19T00:13:19.451Z"
   },
   {
    "duration": 6,
    "start_time": "2022-03-19T00:13:19.460Z"
   },
   {
    "duration": 8,
    "start_time": "2022-03-19T00:13:19.468Z"
   },
   {
    "duration": 8,
    "start_time": "2022-03-19T00:13:19.477Z"
   },
   {
    "duration": 3,
    "start_time": "2022-03-19T00:13:19.487Z"
   },
   {
    "duration": 4,
    "start_time": "2022-03-19T00:13:19.492Z"
   },
   {
    "duration": 41,
    "start_time": "2022-03-19T00:13:19.498Z"
   },
   {
    "duration": 7,
    "start_time": "2022-03-19T00:13:19.542Z"
   },
   {
    "duration": 8,
    "start_time": "2022-03-19T00:13:19.550Z"
   },
   {
    "duration": 9,
    "start_time": "2022-03-19T00:13:19.559Z"
   },
   {
    "duration": 20,
    "start_time": "2022-03-19T00:13:19.570Z"
   },
   {
    "duration": 7,
    "start_time": "2022-03-19T00:13:19.591Z"
   },
   {
    "duration": 90,
    "start_time": "2022-03-19T00:13:19.600Z"
   },
   {
    "duration": 30,
    "start_time": "2022-03-19T00:13:19.692Z"
   },
   {
    "duration": 20,
    "start_time": "2022-03-19T00:13:19.724Z"
   },
   {
    "duration": 18,
    "start_time": "2022-03-19T00:13:19.746Z"
   },
   {
    "duration": 16,
    "start_time": "2022-03-19T00:13:19.765Z"
   },
   {
    "duration": 14,
    "start_time": "2022-03-19T00:13:19.783Z"
   },
   {
    "duration": 35,
    "start_time": "2022-03-19T00:13:19.798Z"
   },
   {
    "duration": 22,
    "start_time": "2022-03-19T00:13:19.834Z"
   },
   {
    "duration": 23,
    "start_time": "2022-03-19T00:13:19.858Z"
   },
   {
    "duration": 56,
    "start_time": "2022-03-19T00:13:19.882Z"
   },
   {
    "duration": 5,
    "start_time": "2022-03-19T00:13:19.940Z"
   },
   {
    "duration": 28,
    "start_time": "2022-03-19T00:13:19.946Z"
   },
   {
    "duration": 15,
    "start_time": "2022-03-19T00:13:19.976Z"
   },
   {
    "duration": 91,
    "start_time": "2022-03-19T00:13:19.992Z"
   },
   {
    "duration": 0,
    "start_time": "2022-03-19T00:13:20.085Z"
   },
   {
    "duration": 0,
    "start_time": "2022-03-19T00:13:20.086Z"
   },
   {
    "duration": 0,
    "start_time": "2022-03-19T00:13:20.087Z"
   },
   {
    "duration": 0,
    "start_time": "2022-03-19T00:13:20.088Z"
   },
   {
    "duration": 0,
    "start_time": "2022-03-19T00:13:20.089Z"
   },
   {
    "duration": 0,
    "start_time": "2022-03-19T00:13:20.090Z"
   },
   {
    "duration": 0,
    "start_time": "2022-03-19T00:13:20.091Z"
   },
   {
    "duration": 0,
    "start_time": "2022-03-19T00:13:20.092Z"
   },
   {
    "duration": 0,
    "start_time": "2022-03-19T00:13:20.093Z"
   },
   {
    "duration": 0,
    "start_time": "2022-03-19T00:13:20.094Z"
   },
   {
    "duration": 0,
    "start_time": "2022-03-19T00:13:20.095Z"
   },
   {
    "duration": 0,
    "start_time": "2022-03-19T00:13:20.096Z"
   },
   {
    "duration": 0,
    "start_time": "2022-03-19T00:13:20.097Z"
   },
   {
    "duration": 0,
    "start_time": "2022-03-19T00:13:20.098Z"
   },
   {
    "duration": 0,
    "start_time": "2022-03-19T00:13:20.099Z"
   },
   {
    "duration": 0,
    "start_time": "2022-03-19T00:13:20.100Z"
   },
   {
    "duration": 0,
    "start_time": "2022-03-19T00:13:20.101Z"
   },
   {
    "duration": 0,
    "start_time": "2022-03-19T00:13:20.102Z"
   },
   {
    "duration": 0,
    "start_time": "2022-03-19T00:13:20.103Z"
   },
   {
    "duration": 0,
    "start_time": "2022-03-19T00:13:20.104Z"
   },
   {
    "duration": 0,
    "start_time": "2022-03-19T00:13:20.138Z"
   },
   {
    "duration": 0,
    "start_time": "2022-03-19T00:13:20.139Z"
   },
   {
    "duration": 0,
    "start_time": "2022-03-19T00:13:20.140Z"
   },
   {
    "duration": 0,
    "start_time": "2022-03-19T00:13:20.141Z"
   },
   {
    "duration": 0,
    "start_time": "2022-03-19T00:13:20.142Z"
   },
   {
    "duration": 3,
    "start_time": "2022-03-19T00:13:43.169Z"
   },
   {
    "duration": 6,
    "start_time": "2022-03-19T00:13:46.319Z"
   },
   {
    "duration": 18,
    "start_time": "2022-03-19T00:23:27.458Z"
   },
   {
    "duration": 2,
    "start_time": "2022-03-19T00:26:35.342Z"
   },
   {
    "duration": 3,
    "start_time": "2022-03-19T00:26:39.042Z"
   },
   {
    "duration": 11,
    "start_time": "2022-03-19T00:27:01.723Z"
   },
   {
    "duration": 2,
    "start_time": "2022-03-19T00:27:16.150Z"
   },
   {
    "duration": 7,
    "start_time": "2022-03-19T00:27:17.572Z"
   },
   {
    "duration": 7,
    "start_time": "2022-03-19T00:28:13.105Z"
   },
   {
    "duration": 3,
    "start_time": "2022-03-19T00:28:16.210Z"
   },
   {
    "duration": 4,
    "start_time": "2022-03-19T00:31:38.174Z"
   },
   {
    "duration": 8,
    "start_time": "2022-03-19T00:31:40.258Z"
   },
   {
    "duration": 3,
    "start_time": "2022-03-19T00:31:48.067Z"
   },
   {
    "duration": 7,
    "start_time": "2022-03-19T00:31:49.808Z"
   },
   {
    "duration": 16,
    "start_time": "2022-03-19T00:33:20.155Z"
   },
   {
    "duration": 3,
    "start_time": "2022-03-19T00:33:46.886Z"
   },
   {
    "duration": 116,
    "start_time": "2022-03-19T00:34:11.059Z"
   },
   {
    "duration": 27,
    "start_time": "2022-03-19T00:34:21.047Z"
   },
   {
    "duration": 12,
    "start_time": "2022-03-19T01:35:19.411Z"
   },
   {
    "duration": 27,
    "start_time": "2022-03-19T01:35:56.786Z"
   },
   {
    "duration": 9,
    "start_time": "2022-03-19T01:37:22.065Z"
   },
   {
    "duration": 490,
    "start_time": "2022-03-19T01:37:51.085Z"
   },
   {
    "duration": 113,
    "start_time": "2022-03-19T01:56:56.487Z"
   },
   {
    "duration": 3,
    "start_time": "2022-03-19T01:57:08.961Z"
   },
   {
    "duration": 2041,
    "start_time": "2022-03-19T01:57:34.265Z"
   },
   {
    "duration": 6,
    "start_time": "2022-03-19T01:57:40.259Z"
   },
   {
    "duration": 2,
    "start_time": "2022-03-19T01:58:19.233Z"
   },
   {
    "duration": 11,
    "start_time": "2022-03-19T01:58:22.601Z"
   },
   {
    "duration": 1938,
    "start_time": "2022-03-19T01:58:46.910Z"
   },
   {
    "duration": 11,
    "start_time": "2022-03-19T01:59:38.302Z"
   },
   {
    "duration": 3,
    "start_time": "2022-03-19T02:01:00.361Z"
   },
   {
    "duration": 11,
    "start_time": "2022-03-19T17:10:37.183Z"
   },
   {
    "duration": 4,
    "start_time": "2022-03-19T17:10:54.863Z"
   },
   {
    "duration": 3,
    "start_time": "2022-03-19T17:11:01.867Z"
   },
   {
    "duration": 62,
    "start_time": "2022-03-19T17:11:17.131Z"
   },
   {
    "duration": 9,
    "start_time": "2022-03-19T17:11:31.371Z"
   },
   {
    "duration": 727,
    "start_time": "2022-03-19T17:11:38.887Z"
   },
   {
    "duration": 21,
    "start_time": "2022-03-19T17:11:39.617Z"
   },
   {
    "duration": 12,
    "start_time": "2022-03-19T17:11:39.640Z"
   },
   {
    "duration": 50,
    "start_time": "2022-03-19T17:11:39.654Z"
   },
   {
    "duration": 17,
    "start_time": "2022-03-19T17:11:39.707Z"
   },
   {
    "duration": 72,
    "start_time": "2022-03-19T17:11:39.726Z"
   },
   {
    "duration": 22,
    "start_time": "2022-03-19T17:11:39.800Z"
   },
   {
    "duration": 63,
    "start_time": "2022-03-19T17:11:39.824Z"
   },
   {
    "duration": 1654,
    "start_time": "2022-03-19T17:11:39.889Z"
   },
   {
    "duration": 15,
    "start_time": "2022-03-19T17:11:41.546Z"
   },
   {
    "duration": 37,
    "start_time": "2022-03-19T17:11:41.563Z"
   },
   {
    "duration": 18,
    "start_time": "2022-03-19T17:11:41.602Z"
   },
   {
    "duration": 35,
    "start_time": "2022-03-19T17:11:41.623Z"
   },
   {
    "duration": 25,
    "start_time": "2022-03-19T17:11:41.663Z"
   },
   {
    "duration": 14,
    "start_time": "2022-03-19T17:11:41.690Z"
   },
   {
    "duration": 24,
    "start_time": "2022-03-19T17:11:41.707Z"
   },
   {
    "duration": 14,
    "start_time": "2022-03-19T17:11:41.733Z"
   },
   {
    "duration": 128,
    "start_time": "2022-03-19T17:11:41.749Z"
   },
   {
    "duration": 5,
    "start_time": "2022-03-19T17:11:41.883Z"
   },
   {
    "duration": 19,
    "start_time": "2022-03-19T17:11:41.890Z"
   },
   {
    "duration": 31,
    "start_time": "2022-03-19T17:11:41.911Z"
   },
   {
    "duration": 22,
    "start_time": "2022-03-19T17:11:41.944Z"
   },
   {
    "duration": 30,
    "start_time": "2022-03-19T17:11:41.968Z"
   },
   {
    "duration": 29,
    "start_time": "2022-03-19T17:11:42.001Z"
   },
   {
    "duration": 18,
    "start_time": "2022-03-19T17:11:42.032Z"
   },
   {
    "duration": 16,
    "start_time": "2022-03-19T17:11:42.053Z"
   },
   {
    "duration": 46,
    "start_time": "2022-03-19T17:11:42.072Z"
   },
   {
    "duration": 23,
    "start_time": "2022-03-19T17:11:42.120Z"
   },
   {
    "duration": 25,
    "start_time": "2022-03-19T17:11:42.145Z"
   },
   {
    "duration": 34,
    "start_time": "2022-03-19T17:11:42.173Z"
   },
   {
    "duration": 40,
    "start_time": "2022-03-19T17:11:42.210Z"
   },
   {
    "duration": 10,
    "start_time": "2022-03-19T17:11:42.252Z"
   },
   {
    "duration": 125,
    "start_time": "2022-03-19T17:11:42.264Z"
   },
   {
    "duration": 53,
    "start_time": "2022-03-19T17:11:42.391Z"
   },
   {
    "duration": 48,
    "start_time": "2022-03-19T17:11:42.446Z"
   },
   {
    "duration": 21,
    "start_time": "2022-03-19T17:11:42.496Z"
   },
   {
    "duration": 39,
    "start_time": "2022-03-19T17:11:42.520Z"
   },
   {
    "duration": 16,
    "start_time": "2022-03-19T17:11:42.561Z"
   },
   {
    "duration": 45,
    "start_time": "2022-03-19T17:11:42.579Z"
   },
   {
    "duration": 42,
    "start_time": "2022-03-19T17:11:42.627Z"
   },
   {
    "duration": 53,
    "start_time": "2022-03-19T17:11:42.676Z"
   },
   {
    "duration": 80,
    "start_time": "2022-03-19T17:11:42.731Z"
   },
   {
    "duration": 7,
    "start_time": "2022-03-19T17:11:42.813Z"
   },
   {
    "duration": 18,
    "start_time": "2022-03-19T17:11:42.822Z"
   },
   {
    "duration": 17,
    "start_time": "2022-03-19T17:11:42.843Z"
   },
   {
    "duration": 896,
    "start_time": "2022-03-19T17:11:42.910Z"
   },
   {
    "duration": 0,
    "start_time": "2022-03-19T17:11:43.808Z"
   },
   {
    "duration": 0,
    "start_time": "2022-03-19T17:11:43.810Z"
   },
   {
    "duration": 0,
    "start_time": "2022-03-19T17:11:43.812Z"
   },
   {
    "duration": 0,
    "start_time": "2022-03-19T17:11:43.813Z"
   },
   {
    "duration": 0,
    "start_time": "2022-03-19T17:11:43.815Z"
   },
   {
    "duration": 0,
    "start_time": "2022-03-19T17:11:43.817Z"
   },
   {
    "duration": 0,
    "start_time": "2022-03-19T17:11:43.819Z"
   },
   {
    "duration": 0,
    "start_time": "2022-03-19T17:11:43.820Z"
   },
   {
    "duration": 0,
    "start_time": "2022-03-19T17:11:43.822Z"
   },
   {
    "duration": 0,
    "start_time": "2022-03-19T17:11:43.823Z"
   },
   {
    "duration": 0,
    "start_time": "2022-03-19T17:11:43.825Z"
   },
   {
    "duration": 0,
    "start_time": "2022-03-19T17:11:43.826Z"
   },
   {
    "duration": 0,
    "start_time": "2022-03-19T17:11:43.828Z"
   },
   {
    "duration": 0,
    "start_time": "2022-03-19T17:11:43.830Z"
   },
   {
    "duration": 0,
    "start_time": "2022-03-19T17:11:43.832Z"
   },
   {
    "duration": 1,
    "start_time": "2022-03-19T17:11:43.833Z"
   },
   {
    "duration": 0,
    "start_time": "2022-03-19T17:11:43.835Z"
   },
   {
    "duration": 0,
    "start_time": "2022-03-19T17:11:43.837Z"
   },
   {
    "duration": 0,
    "start_time": "2022-03-19T17:11:43.839Z"
   },
   {
    "duration": 0,
    "start_time": "2022-03-19T17:11:43.841Z"
   },
   {
    "duration": 0,
    "start_time": "2022-03-19T17:11:43.843Z"
   },
   {
    "duration": 0,
    "start_time": "2022-03-19T17:11:43.844Z"
   },
   {
    "duration": 1,
    "start_time": "2022-03-19T17:11:43.883Z"
   },
   {
    "duration": 0,
    "start_time": "2022-03-19T17:11:43.885Z"
   },
   {
    "duration": 0,
    "start_time": "2022-03-19T17:11:43.887Z"
   },
   {
    "duration": 11,
    "start_time": "2022-03-19T17:12:45.852Z"
   },
   {
    "duration": 17,
    "start_time": "2022-03-19T17:13:00.899Z"
   },
   {
    "duration": 4,
    "start_time": "2022-03-19T17:13:57.859Z"
   },
   {
    "duration": 6,
    "start_time": "2022-03-19T17:14:14.527Z"
   },
   {
    "duration": 7,
    "start_time": "2022-03-19T17:15:07.119Z"
   },
   {
    "duration": 6,
    "start_time": "2022-03-19T17:15:38.877Z"
   },
   {
    "duration": 566,
    "start_time": "2022-03-19T17:21:24.252Z"
   },
   {
    "duration": 651,
    "start_time": "2022-03-19T17:23:34.700Z"
   },
   {
    "duration": 45,
    "start_time": "2022-03-19T17:24:01.426Z"
   },
   {
    "duration": 22,
    "start_time": "2022-03-19T17:24:29.067Z"
   },
   {
    "duration": 6,
    "start_time": "2022-03-19T17:31:42.089Z"
   },
   {
    "duration": 5,
    "start_time": "2022-03-19T17:35:54.664Z"
   },
   {
    "duration": 10,
    "start_time": "2022-03-19T17:36:16.872Z"
   },
   {
    "duration": 612,
    "start_time": "2022-03-19T17:36:35.897Z"
   },
   {
    "duration": 23,
    "start_time": "2022-03-19T17:36:36.512Z"
   },
   {
    "duration": 12,
    "start_time": "2022-03-19T17:36:36.537Z"
   },
   {
    "duration": 49,
    "start_time": "2022-03-19T17:36:36.552Z"
   },
   {
    "duration": 20,
    "start_time": "2022-03-19T17:36:36.604Z"
   },
   {
    "duration": 74,
    "start_time": "2022-03-19T17:36:36.627Z"
   },
   {
    "duration": 27,
    "start_time": "2022-03-19T17:36:36.703Z"
   },
   {
    "duration": 62,
    "start_time": "2022-03-19T17:36:36.732Z"
   },
   {
    "duration": 1294,
    "start_time": "2022-03-19T17:36:36.797Z"
   },
   {
    "duration": 13,
    "start_time": "2022-03-19T17:36:38.095Z"
   },
   {
    "duration": 21,
    "start_time": "2022-03-19T17:36:38.111Z"
   },
   {
    "duration": 18,
    "start_time": "2022-03-19T17:36:38.134Z"
   },
   {
    "duration": 52,
    "start_time": "2022-03-19T17:36:38.154Z"
   },
   {
    "duration": 6,
    "start_time": "2022-03-19T17:36:38.209Z"
   },
   {
    "duration": 8,
    "start_time": "2022-03-19T17:36:38.217Z"
   },
   {
    "duration": 9,
    "start_time": "2022-03-19T17:36:38.227Z"
   },
   {
    "duration": 10,
    "start_time": "2022-03-19T17:36:38.238Z"
   },
   {
    "duration": 37,
    "start_time": "2022-03-19T17:36:38.285Z"
   },
   {
    "duration": 5,
    "start_time": "2022-03-19T17:36:38.324Z"
   },
   {
    "duration": 11,
    "start_time": "2022-03-19T17:36:38.331Z"
   },
   {
    "duration": 43,
    "start_time": "2022-03-19T17:36:38.344Z"
   },
   {
    "duration": 6,
    "start_time": "2022-03-19T17:36:38.389Z"
   },
   {
    "duration": 9,
    "start_time": "2022-03-19T17:36:38.397Z"
   },
   {
    "duration": 13,
    "start_time": "2022-03-19T17:36:38.408Z"
   },
   {
    "duration": 5,
    "start_time": "2022-03-19T17:36:38.423Z"
   },
   {
    "duration": 6,
    "start_time": "2022-03-19T17:36:38.430Z"
   },
   {
    "duration": 58,
    "start_time": "2022-03-19T17:36:38.438Z"
   },
   {
    "duration": 8,
    "start_time": "2022-03-19T17:36:38.504Z"
   },
   {
    "duration": 22,
    "start_time": "2022-03-19T17:36:38.515Z"
   },
   {
    "duration": 13,
    "start_time": "2022-03-19T17:36:38.539Z"
   },
   {
    "duration": 55,
    "start_time": "2022-03-19T17:36:38.554Z"
   },
   {
    "duration": 10,
    "start_time": "2022-03-19T17:36:38.612Z"
   },
   {
    "duration": 140,
    "start_time": "2022-03-19T17:36:38.625Z"
   },
   {
    "duration": 55,
    "start_time": "2022-03-19T17:36:38.768Z"
   },
   {
    "duration": 36,
    "start_time": "2022-03-19T17:36:38.826Z"
   },
   {
    "duration": 32,
    "start_time": "2022-03-19T17:36:38.865Z"
   },
   {
    "duration": 24,
    "start_time": "2022-03-19T17:36:38.899Z"
   },
   {
    "duration": 32,
    "start_time": "2022-03-19T17:36:38.925Z"
   },
   {
    "duration": 20,
    "start_time": "2022-03-19T17:36:38.960Z"
   },
   {
    "duration": 36,
    "start_time": "2022-03-19T17:36:38.982Z"
   },
   {
    "duration": 31,
    "start_time": "2022-03-19T17:36:39.020Z"
   },
   {
    "duration": 58,
    "start_time": "2022-03-19T17:36:39.053Z"
   },
   {
    "duration": 7,
    "start_time": "2022-03-19T17:36:39.114Z"
   },
   {
    "duration": 12,
    "start_time": "2022-03-19T17:36:39.124Z"
   },
   {
    "duration": 6,
    "start_time": "2022-03-19T17:36:39.139Z"
   },
   {
    "duration": 138,
    "start_time": "2022-03-19T17:36:39.147Z"
   },
   {
    "duration": 0,
    "start_time": "2022-03-19T17:36:39.288Z"
   },
   {
    "duration": 0,
    "start_time": "2022-03-19T17:36:39.290Z"
   },
   {
    "duration": 0,
    "start_time": "2022-03-19T17:36:39.292Z"
   },
   {
    "duration": 0,
    "start_time": "2022-03-19T17:36:39.294Z"
   },
   {
    "duration": 0,
    "start_time": "2022-03-19T17:36:39.296Z"
   },
   {
    "duration": 0,
    "start_time": "2022-03-19T17:36:39.298Z"
   },
   {
    "duration": 0,
    "start_time": "2022-03-19T17:36:39.300Z"
   },
   {
    "duration": 0,
    "start_time": "2022-03-19T17:36:39.302Z"
   },
   {
    "duration": 0,
    "start_time": "2022-03-19T17:36:39.305Z"
   },
   {
    "duration": 0,
    "start_time": "2022-03-19T17:36:39.307Z"
   },
   {
    "duration": 0,
    "start_time": "2022-03-19T17:36:39.309Z"
   },
   {
    "duration": 0,
    "start_time": "2022-03-19T17:36:39.311Z"
   },
   {
    "duration": 0,
    "start_time": "2022-03-19T17:36:39.313Z"
   },
   {
    "duration": 0,
    "start_time": "2022-03-19T17:36:39.315Z"
   },
   {
    "duration": 0,
    "start_time": "2022-03-19T17:36:39.317Z"
   },
   {
    "duration": 0,
    "start_time": "2022-03-19T17:36:39.319Z"
   },
   {
    "duration": 0,
    "start_time": "2022-03-19T17:36:39.321Z"
   },
   {
    "duration": 0,
    "start_time": "2022-03-19T17:36:39.384Z"
   },
   {
    "duration": 0,
    "start_time": "2022-03-19T17:36:39.386Z"
   },
   {
    "duration": 0,
    "start_time": "2022-03-19T17:36:39.388Z"
   },
   {
    "duration": 0,
    "start_time": "2022-03-19T17:36:39.391Z"
   },
   {
    "duration": 0,
    "start_time": "2022-03-19T17:36:39.393Z"
   },
   {
    "duration": 0,
    "start_time": "2022-03-19T17:36:39.395Z"
   },
   {
    "duration": 0,
    "start_time": "2022-03-19T17:36:39.397Z"
   },
   {
    "duration": 0,
    "start_time": "2022-03-19T17:36:39.399Z"
   },
   {
    "duration": 0,
    "start_time": "2022-03-19T17:36:39.401Z"
   },
   {
    "duration": 1,
    "start_time": "2022-03-19T17:36:39.403Z"
   },
   {
    "duration": 0,
    "start_time": "2022-03-19T17:36:39.406Z"
   },
   {
    "duration": 16,
    "start_time": "2022-03-19T17:36:50.673Z"
   },
   {
    "duration": 5,
    "start_time": "2022-03-19T17:37:23.035Z"
   },
   {
    "duration": 20,
    "start_time": "2022-03-19T17:37:25.490Z"
   },
   {
    "duration": 4,
    "start_time": "2022-03-19T17:37:54.231Z"
   },
   {
    "duration": 6,
    "start_time": "2022-03-19T17:38:01.275Z"
   },
   {
    "duration": 8,
    "start_time": "2022-03-19T17:38:03.391Z"
   },
   {
    "duration": 4,
    "start_time": "2022-03-19T17:39:08.589Z"
   },
   {
    "duration": 7,
    "start_time": "2022-03-19T17:39:10.930Z"
   },
   {
    "duration": 7,
    "start_time": "2022-03-19T17:39:41.989Z"
   },
   {
    "duration": 7,
    "start_time": "2022-03-19T17:39:54.950Z"
   },
   {
    "duration": 4,
    "start_time": "2022-03-19T17:40:05.261Z"
   },
   {
    "duration": 8,
    "start_time": "2022-03-19T17:40:07.054Z"
   },
   {
    "duration": 5,
    "start_time": "2022-03-19T17:40:52.052Z"
   },
   {
    "duration": 8,
    "start_time": "2022-03-19T17:40:53.898Z"
   },
   {
    "duration": 4,
    "start_time": "2022-03-19T17:42:23.046Z"
   },
   {
    "duration": 15,
    "start_time": "2022-03-19T17:42:25.051Z"
   },
   {
    "duration": 4,
    "start_time": "2022-03-19T17:44:00.024Z"
   },
   {
    "duration": 5,
    "start_time": "2022-03-19T17:44:12.578Z"
   },
   {
    "duration": 7,
    "start_time": "2022-03-19T17:44:16.635Z"
   },
   {
    "duration": 26,
    "start_time": "2022-03-19T17:46:52.220Z"
   },
   {
    "duration": 27456,
    "start_time": "2022-03-19T17:47:59.133Z"
   },
   {
    "duration": 7,
    "start_time": "2022-03-19T17:48:56.729Z"
   },
   {
    "duration": 6,
    "start_time": "2022-03-19T17:49:13.794Z"
   },
   {
    "duration": 8,
    "start_time": "2022-03-19T17:49:16.548Z"
   },
   {
    "duration": 4,
    "start_time": "2022-03-19T17:50:29.846Z"
   },
   {
    "duration": 4,
    "start_time": "2022-03-19T17:50:43.394Z"
   },
   {
    "duration": 7,
    "start_time": "2022-03-19T17:50:45.788Z"
   },
   {
    "duration": 6,
    "start_time": "2022-03-19T17:50:50.770Z"
   },
   {
    "duration": 8,
    "start_time": "2022-03-19T17:51:40.859Z"
   },
   {
    "duration": 16948,
    "start_time": "2022-03-19T17:56:35.146Z"
   },
   {
    "duration": 16926,
    "start_time": "2022-03-19T17:57:08.832Z"
   },
   {
    "duration": 16238,
    "start_time": "2022-03-19T17:57:58.714Z"
   },
   {
    "duration": 46,
    "start_time": "2022-03-20T01:24:09.579Z"
   },
   {
    "duration": 578,
    "start_time": "2022-03-20T01:24:25.130Z"
   },
   {
    "duration": 14,
    "start_time": "2022-03-20T01:24:25.710Z"
   },
   {
    "duration": 8,
    "start_time": "2022-03-20T01:24:25.725Z"
   },
   {
    "duration": 17,
    "start_time": "2022-03-20T01:24:25.735Z"
   },
   {
    "duration": 10,
    "start_time": "2022-03-20T01:24:25.754Z"
   },
   {
    "duration": 26,
    "start_time": "2022-03-20T01:24:25.766Z"
   },
   {
    "duration": 15,
    "start_time": "2022-03-20T01:24:25.793Z"
   },
   {
    "duration": 49,
    "start_time": "2022-03-20T01:24:25.809Z"
   },
   {
    "duration": 911,
    "start_time": "2022-03-20T01:24:25.860Z"
   },
   {
    "duration": 10,
    "start_time": "2022-03-20T01:24:26.774Z"
   },
   {
    "duration": 18,
    "start_time": "2022-03-20T01:24:26.785Z"
   },
   {
    "duration": 11,
    "start_time": "2022-03-20T01:24:26.805Z"
   },
   {
    "duration": 16,
    "start_time": "2022-03-20T01:24:26.838Z"
   },
   {
    "duration": 8,
    "start_time": "2022-03-20T01:24:26.856Z"
   },
   {
    "duration": 7,
    "start_time": "2022-03-20T01:24:26.866Z"
   },
   {
    "duration": 5,
    "start_time": "2022-03-20T01:24:26.875Z"
   },
   {
    "duration": 10,
    "start_time": "2022-03-20T01:24:26.882Z"
   },
   {
    "duration": 106,
    "start_time": "2022-03-20T01:24:26.893Z"
   },
   {
    "duration": 3,
    "start_time": "2022-03-20T01:24:27.001Z"
   },
   {
    "duration": 7,
    "start_time": "2022-03-20T01:24:27.006Z"
   },
   {
    "duration": 7,
    "start_time": "2022-03-20T01:24:27.015Z"
   },
   {
    "duration": 4,
    "start_time": "2022-03-20T01:24:27.037Z"
   },
   {
    "duration": 10,
    "start_time": "2022-03-20T01:24:27.043Z"
   },
   {
    "duration": 10,
    "start_time": "2022-03-20T01:24:27.054Z"
   },
   {
    "duration": 6,
    "start_time": "2022-03-20T01:24:27.065Z"
   },
   {
    "duration": 6,
    "start_time": "2022-03-20T01:24:27.072Z"
   },
   {
    "duration": 17,
    "start_time": "2022-03-20T01:24:27.080Z"
   },
   {
    "duration": 5,
    "start_time": "2022-03-20T01:24:27.102Z"
   },
   {
    "duration": 30,
    "start_time": "2022-03-20T01:24:27.109Z"
   },
   {
    "duration": 8,
    "start_time": "2022-03-20T01:24:27.140Z"
   },
   {
    "duration": 21,
    "start_time": "2022-03-20T01:24:27.150Z"
   },
   {
    "duration": 7,
    "start_time": "2022-03-20T01:24:27.173Z"
   },
   {
    "duration": 85,
    "start_time": "2022-03-20T01:24:27.181Z"
   },
   {
    "duration": 32,
    "start_time": "2022-03-20T01:24:27.268Z"
   },
   {
    "duration": 23,
    "start_time": "2022-03-20T01:24:27.302Z"
   },
   {
    "duration": 18,
    "start_time": "2022-03-20T01:24:27.326Z"
   },
   {
    "duration": 11,
    "start_time": "2022-03-20T01:24:27.346Z"
   },
   {
    "duration": 8,
    "start_time": "2022-03-20T01:24:27.358Z"
   },
   {
    "duration": 8,
    "start_time": "2022-03-20T01:24:27.367Z"
   },
   {
    "duration": 13,
    "start_time": "2022-03-20T01:24:27.377Z"
   },
   {
    "duration": 13,
    "start_time": "2022-03-20T01:24:27.392Z"
   },
   {
    "duration": 50,
    "start_time": "2022-03-20T01:24:27.407Z"
   },
   {
    "duration": 4,
    "start_time": "2022-03-20T01:24:27.459Z"
   },
   {
    "duration": 9,
    "start_time": "2022-03-20T01:24:27.465Z"
   },
   {
    "duration": 11,
    "start_time": "2022-03-20T01:24:27.475Z"
   },
   {
    "duration": 0,
    "start_time": "2022-03-20T01:24:27.487Z"
   },
   {
    "duration": 0,
    "start_time": "2022-03-20T01:24:27.488Z"
   },
   {
    "duration": 0,
    "start_time": "2022-03-20T01:24:27.489Z"
   },
   {
    "duration": 0,
    "start_time": "2022-03-20T01:24:27.490Z"
   },
   {
    "duration": 0,
    "start_time": "2022-03-20T01:24:27.492Z"
   },
   {
    "duration": 0,
    "start_time": "2022-03-20T01:24:27.493Z"
   },
   {
    "duration": 0,
    "start_time": "2022-03-20T01:24:27.494Z"
   },
   {
    "duration": 0,
    "start_time": "2022-03-20T01:24:27.495Z"
   },
   {
    "duration": 0,
    "start_time": "2022-03-20T01:24:27.496Z"
   },
   {
    "duration": 0,
    "start_time": "2022-03-20T01:24:27.497Z"
   },
   {
    "duration": 0,
    "start_time": "2022-03-20T01:24:27.499Z"
   },
   {
    "duration": 0,
    "start_time": "2022-03-20T01:24:27.500Z"
   },
   {
    "duration": 0,
    "start_time": "2022-03-20T01:24:27.501Z"
   },
   {
    "duration": 0,
    "start_time": "2022-03-20T01:24:27.502Z"
   },
   {
    "duration": 0,
    "start_time": "2022-03-20T01:24:27.503Z"
   },
   {
    "duration": 32,
    "start_time": "2022-03-20T01:24:27.504Z"
   },
   {
    "duration": 0,
    "start_time": "2022-03-20T01:24:27.538Z"
   },
   {
    "duration": 1,
    "start_time": "2022-03-20T01:24:27.539Z"
   },
   {
    "duration": 0,
    "start_time": "2022-03-20T01:24:27.541Z"
   },
   {
    "duration": 0,
    "start_time": "2022-03-20T01:24:27.541Z"
   },
   {
    "duration": 0,
    "start_time": "2022-03-20T01:24:27.542Z"
   },
   {
    "duration": 0,
    "start_time": "2022-03-20T01:24:27.543Z"
   },
   {
    "duration": 0,
    "start_time": "2022-03-20T01:24:27.544Z"
   },
   {
    "duration": 0,
    "start_time": "2022-03-20T01:24:27.546Z"
   },
   {
    "duration": 1,
    "start_time": "2022-03-20T01:24:27.546Z"
   },
   {
    "duration": 0,
    "start_time": "2022-03-20T01:24:27.548Z"
   },
   {
    "duration": 0,
    "start_time": "2022-03-20T01:24:27.549Z"
   },
   {
    "duration": 0,
    "start_time": "2022-03-20T01:24:27.550Z"
   },
   {
    "duration": 0,
    "start_time": "2022-03-20T01:24:27.551Z"
   },
   {
    "duration": 5,
    "start_time": "2022-03-20T01:24:52.202Z"
   },
   {
    "duration": 3,
    "start_time": "2022-03-20T01:24:57.156Z"
   },
   {
    "duration": 3,
    "start_time": "2022-03-20T01:25:11.083Z"
   },
   {
    "duration": 5,
    "start_time": "2022-03-20T01:25:13.724Z"
   },
   {
    "duration": 5,
    "start_time": "2022-03-20T01:25:16.697Z"
   },
   {
    "duration": 11429,
    "start_time": "2022-03-20T01:25:19.668Z"
   },
   {
    "duration": 15,
    "start_time": "2022-03-20T01:25:31.099Z"
   },
   {
    "duration": 69,
    "start_time": "2022-03-20T01:28:42.351Z"
   },
   {
    "duration": 15,
    "start_time": "2022-03-20T01:28:49.975Z"
   },
   {
    "duration": 6,
    "start_time": "2022-03-20T01:35:12.175Z"
   },
   {
    "duration": 142,
    "start_time": "2022-03-20T01:35:15.558Z"
   },
   {
    "duration": 4,
    "start_time": "2022-03-20T01:35:31.180Z"
   },
   {
    "duration": 10,
    "start_time": "2022-03-20T01:39:09.972Z"
   },
   {
    "duration": 2173,
    "start_time": "2022-03-20T01:40:01.897Z"
   },
   {
    "duration": 2122,
    "start_time": "2022-03-20T01:42:03.377Z"
   },
   {
    "duration": 8,
    "start_time": "2022-03-20T01:42:20.896Z"
   },
   {
    "duration": 3,
    "start_time": "2022-03-20T01:42:42.026Z"
   },
   {
    "duration": 21,
    "start_time": "2022-03-20T01:42:50.867Z"
   },
   {
    "duration": 26,
    "start_time": "2022-03-20T01:43:12.092Z"
   },
   {
    "duration": 10,
    "start_time": "2022-03-20T01:44:27.676Z"
   },
   {
    "duration": 3,
    "start_time": "2022-03-20T01:53:05.560Z"
   },
   {
    "duration": 4,
    "start_time": "2022-03-20T01:53:21.938Z"
   },
   {
    "duration": 10,
    "start_time": "2022-03-20T01:53:26.310Z"
   },
   {
    "duration": 9,
    "start_time": "2022-03-20T01:56:54.988Z"
   },
   {
    "duration": 2,
    "start_time": "2022-03-20T01:57:01.027Z"
   },
   {
    "duration": 8,
    "start_time": "2022-03-20T01:57:03.611Z"
   },
   {
    "duration": 5,
    "start_time": "2022-03-20T01:58:59.923Z"
   },
   {
    "duration": 10371,
    "start_time": "2022-03-20T01:59:06.194Z"
   },
   {
    "duration": 495,
    "start_time": "2022-03-20T02:01:07.212Z"
   },
   {
    "duration": 593,
    "start_time": "2022-03-20T02:02:26.168Z"
   },
   {
    "duration": 11,
    "start_time": "2022-03-20T02:02:57.247Z"
   },
   {
    "duration": 512,
    "start_time": "2022-03-20T02:06:09.694Z"
   },
   {
    "duration": 10,
    "start_time": "2022-03-20T02:09:35.731Z"
   },
   {
    "duration": 2046,
    "start_time": "2022-03-20T02:10:19.717Z"
   },
   {
    "duration": 1973,
    "start_time": "2022-03-20T02:10:40.356Z"
   },
   {
    "duration": 1912,
    "start_time": "2022-03-20T02:10:45.466Z"
   },
   {
    "duration": 116,
    "start_time": "2022-03-20T02:11:12.914Z"
   },
   {
    "duration": 17,
    "start_time": "2022-03-20T02:11:17.069Z"
   },
   {
    "duration": 32,
    "start_time": "2022-03-20T02:11:46.013Z"
   },
   {
    "duration": 110,
    "start_time": "2022-03-20T02:15:22.710Z"
   },
   {
    "duration": 6,
    "start_time": "2022-03-20T02:15:25.444Z"
   },
   {
    "duration": 5,
    "start_time": "2022-03-20T02:15:44.908Z"
   },
   {
    "duration": 5,
    "start_time": "2022-03-20T02:15:53.668Z"
   },
   {
    "duration": 4,
    "start_time": "2022-03-20T02:16:04.610Z"
   },
   {
    "duration": 5,
    "start_time": "2022-03-20T02:16:50.624Z"
   },
   {
    "duration": 4,
    "start_time": "2022-03-20T02:17:35.703Z"
   },
   {
    "duration": 5,
    "start_time": "2022-03-20T02:17:46.046Z"
   },
   {
    "duration": 4,
    "start_time": "2022-03-20T02:18:29.631Z"
   },
   {
    "duration": 8,
    "start_time": "2022-03-20T02:18:36.653Z"
   },
   {
    "duration": 155,
    "start_time": "2022-03-20T02:19:39.302Z"
   },
   {
    "duration": 4,
    "start_time": "2022-03-20T02:19:43.881Z"
   },
   {
    "duration": 545,
    "start_time": "2022-03-20T02:20:01.605Z"
   },
   {
    "duration": 49,
    "start_time": "2022-03-20T22:01:54.776Z"
   },
   {
    "duration": 729,
    "start_time": "2022-03-20T22:02:03.289Z"
   },
   {
    "duration": 16,
    "start_time": "2022-03-20T22:02:04.020Z"
   },
   {
    "duration": 14,
    "start_time": "2022-03-20T22:02:04.038Z"
   },
   {
    "duration": 22,
    "start_time": "2022-03-20T22:02:04.055Z"
   },
   {
    "duration": 11,
    "start_time": "2022-03-20T22:02:04.079Z"
   },
   {
    "duration": 47,
    "start_time": "2022-03-20T22:02:04.092Z"
   },
   {
    "duration": 16,
    "start_time": "2022-03-20T22:02:04.140Z"
   },
   {
    "duration": 28,
    "start_time": "2022-03-20T22:02:04.158Z"
   },
   {
    "duration": 1110,
    "start_time": "2022-03-20T22:02:04.187Z"
   },
   {
    "duration": 10,
    "start_time": "2022-03-20T22:02:05.301Z"
   },
   {
    "duration": 27,
    "start_time": "2022-03-20T22:02:05.313Z"
   },
   {
    "duration": 13,
    "start_time": "2022-03-20T22:02:05.342Z"
   },
   {
    "duration": 20,
    "start_time": "2022-03-20T22:02:05.357Z"
   },
   {
    "duration": 8,
    "start_time": "2022-03-20T22:02:05.379Z"
   },
   {
    "duration": 12,
    "start_time": "2022-03-20T22:02:05.389Z"
   },
   {
    "duration": 30,
    "start_time": "2022-03-20T22:02:05.403Z"
   },
   {
    "duration": 11,
    "start_time": "2022-03-20T22:02:05.435Z"
   },
   {
    "duration": 96,
    "start_time": "2022-03-20T22:02:05.447Z"
   },
   {
    "duration": 4,
    "start_time": "2022-03-20T22:02:05.546Z"
   },
   {
    "duration": 12,
    "start_time": "2022-03-20T22:02:05.551Z"
   },
   {
    "duration": 16,
    "start_time": "2022-03-20T22:02:05.565Z"
   },
   {
    "duration": 5,
    "start_time": "2022-03-20T22:02:05.583Z"
   },
   {
    "duration": 5,
    "start_time": "2022-03-20T22:02:05.590Z"
   },
   {
    "duration": 9,
    "start_time": "2022-03-20T22:02:05.597Z"
   },
   {
    "duration": 24,
    "start_time": "2022-03-20T22:02:05.608Z"
   },
   {
    "duration": 8,
    "start_time": "2022-03-20T22:02:05.633Z"
   },
   {
    "duration": 19,
    "start_time": "2022-03-20T22:02:05.642Z"
   },
   {
    "duration": 6,
    "start_time": "2022-03-20T22:02:05.666Z"
   },
   {
    "duration": 7,
    "start_time": "2022-03-20T22:02:05.674Z"
   },
   {
    "duration": 8,
    "start_time": "2022-03-20T22:02:05.683Z"
   },
   {
    "duration": 46,
    "start_time": "2022-03-20T22:02:05.693Z"
   },
   {
    "duration": 7,
    "start_time": "2022-03-20T22:02:05.741Z"
   },
   {
    "duration": 79,
    "start_time": "2022-03-20T22:02:05.749Z"
   },
   {
    "duration": 36,
    "start_time": "2022-03-20T22:02:05.830Z"
   },
   {
    "duration": 24,
    "start_time": "2022-03-20T22:02:05.868Z"
   },
   {
    "duration": 38,
    "start_time": "2022-03-20T22:02:05.894Z"
   },
   {
    "duration": 12,
    "start_time": "2022-03-20T22:02:05.934Z"
   },
   {
    "duration": 7,
    "start_time": "2022-03-20T22:02:05.948Z"
   },
   {
    "duration": 18,
    "start_time": "2022-03-20T22:02:05.957Z"
   },
   {
    "duration": 27,
    "start_time": "2022-03-20T22:02:05.976Z"
   },
   {
    "duration": 16,
    "start_time": "2022-03-20T22:02:06.004Z"
   },
   {
    "duration": 42,
    "start_time": "2022-03-20T22:02:06.022Z"
   },
   {
    "duration": 5,
    "start_time": "2022-03-20T22:02:06.066Z"
   },
   {
    "duration": 10,
    "start_time": "2022-03-20T22:02:06.073Z"
   },
   {
    "duration": 7,
    "start_time": "2022-03-20T22:02:06.085Z"
   },
   {
    "duration": 8,
    "start_time": "2022-03-20T22:02:06.094Z"
   },
   {
    "duration": 4,
    "start_time": "2022-03-20T22:02:06.104Z"
   },
   {
    "duration": 31,
    "start_time": "2022-03-20T22:02:06.109Z"
   },
   {
    "duration": 13125,
    "start_time": "2022-03-20T22:02:06.142Z"
   },
   {
    "duration": 16,
    "start_time": "2022-03-20T22:02:19.269Z"
   },
   {
    "duration": 2,
    "start_time": "2022-03-20T22:02:19.287Z"
   },
   {
    "duration": 5,
    "start_time": "2022-03-20T22:02:19.291Z"
   },
   {
    "duration": 35,
    "start_time": "2022-03-20T22:02:19.297Z"
   },
   {
    "duration": 10,
    "start_time": "2022-03-20T22:02:19.333Z"
   },
   {
    "duration": 3,
    "start_time": "2022-03-20T22:02:19.345Z"
   },
   {
    "duration": 5,
    "start_time": "2022-03-20T22:02:19.350Z"
   },
   {
    "duration": 9,
    "start_time": "2022-03-20T22:02:19.357Z"
   },
   {
    "duration": 5,
    "start_time": "2022-03-20T22:02:19.367Z"
   },
   {
    "duration": 0,
    "start_time": "2022-03-20T22:02:20.230Z"
   },
   {
    "duration": 0,
    "start_time": "2022-03-20T22:02:20.232Z"
   },
   {
    "duration": 0,
    "start_time": "2022-03-20T22:02:20.233Z"
   },
   {
    "duration": 0,
    "start_time": "2022-03-20T22:02:20.234Z"
   },
   {
    "duration": 0,
    "start_time": "2022-03-20T22:02:20.235Z"
   },
   {
    "duration": 0,
    "start_time": "2022-03-20T22:02:20.236Z"
   },
   {
    "duration": 0,
    "start_time": "2022-03-20T22:02:20.237Z"
   },
   {
    "duration": 0,
    "start_time": "2022-03-20T22:02:20.238Z"
   },
   {
    "duration": 0,
    "start_time": "2022-03-20T22:02:20.240Z"
   },
   {
    "duration": 0,
    "start_time": "2022-03-20T22:02:20.241Z"
   },
   {
    "duration": 0,
    "start_time": "2022-03-20T22:02:20.242Z"
   },
   {
    "duration": 0,
    "start_time": "2022-03-20T22:02:20.243Z"
   },
   {
    "duration": 0,
    "start_time": "2022-03-20T22:02:20.245Z"
   },
   {
    "duration": 0,
    "start_time": "2022-03-20T22:02:20.246Z"
   },
   {
    "duration": 0,
    "start_time": "2022-03-20T22:02:20.247Z"
   },
   {
    "duration": 0,
    "start_time": "2022-03-20T22:02:20.248Z"
   },
   {
    "duration": 0,
    "start_time": "2022-03-20T22:02:20.249Z"
   },
   {
    "duration": 3,
    "start_time": "2022-03-20T22:02:29.730Z"
   },
   {
    "duration": 755,
    "start_time": "2022-03-20T22:02:33.068Z"
   },
   {
    "duration": 3,
    "start_time": "2022-03-20T22:03:24.352Z"
   },
   {
    "duration": 7,
    "start_time": "2022-03-20T22:03:26.593Z"
   },
   {
    "duration": 5,
    "start_time": "2022-03-20T22:03:30.214Z"
   },
   {
    "duration": 782,
    "start_time": "2022-03-20T22:03:32.575Z"
   },
   {
    "duration": 14,
    "start_time": "2022-03-20T22:03:58.114Z"
   },
   {
    "duration": 14,
    "start_time": "2022-03-20T22:04:03.440Z"
   },
   {
    "duration": 3,
    "start_time": "2022-03-20T22:04:08.282Z"
   },
   {
    "duration": 12,
    "start_time": "2022-03-20T22:04:10.356Z"
   },
   {
    "duration": 6,
    "start_time": "2022-03-20T22:04:41.537Z"
   },
   {
    "duration": 12918,
    "start_time": "2022-03-20T22:04:53.644Z"
   },
   {
    "duration": 12902,
    "start_time": "2022-03-20T22:06:08.883Z"
   },
   {
    "duration": 5,
    "start_time": "2022-03-20T22:06:39.547Z"
   },
   {
    "duration": 12826,
    "start_time": "2022-03-20T22:06:43.500Z"
   },
   {
    "duration": 5,
    "start_time": "2022-03-20T22:06:56.328Z"
   },
   {
    "duration": 4,
    "start_time": "2022-03-20T22:07:16.692Z"
   },
   {
    "duration": 164,
    "start_time": "2022-03-20T22:07:45.341Z"
   },
   {
    "duration": 12790,
    "start_time": "2022-03-20T22:08:34.145Z"
   },
   {
    "duration": 6,
    "start_time": "2022-03-20T22:09:01.658Z"
   },
   {
    "duration": 4,
    "start_time": "2022-03-20T22:09:16.903Z"
   },
   {
    "duration": 6,
    "start_time": "2022-03-20T22:09:42.062Z"
   },
   {
    "duration": 49,
    "start_time": "2022-03-20T22:09:53.951Z"
   },
   {
    "duration": 5,
    "start_time": "2022-03-20T22:10:27.977Z"
   },
   {
    "duration": 633,
    "start_time": "2022-03-21T01:41:38.499Z"
   },
   {
    "duration": 24,
    "start_time": "2022-03-21T01:41:39.135Z"
   },
   {
    "duration": 33,
    "start_time": "2022-03-21T01:41:39.162Z"
   },
   {
    "duration": 26,
    "start_time": "2022-03-21T01:41:39.200Z"
   },
   {
    "duration": 56,
    "start_time": "2022-03-21T01:41:39.229Z"
   },
   {
    "duration": 47,
    "start_time": "2022-03-21T01:41:39.288Z"
   },
   {
    "duration": 54,
    "start_time": "2022-03-21T01:41:39.338Z"
   },
   {
    "duration": 37,
    "start_time": "2022-03-21T01:41:39.394Z"
   },
   {
    "duration": 1555,
    "start_time": "2022-03-21T01:41:39.434Z"
   },
   {
    "duration": 15,
    "start_time": "2022-03-21T01:41:40.994Z"
   },
   {
    "duration": 22,
    "start_time": "2022-03-21T01:41:41.011Z"
   },
   {
    "duration": 18,
    "start_time": "2022-03-21T01:41:41.036Z"
   },
   {
    "duration": 26,
    "start_time": "2022-03-21T01:41:41.085Z"
   },
   {
    "duration": 7,
    "start_time": "2022-03-21T01:41:41.113Z"
   },
   {
    "duration": 8,
    "start_time": "2022-03-21T01:41:41.122Z"
   },
   {
    "duration": 12,
    "start_time": "2022-03-21T01:41:41.132Z"
   },
   {
    "duration": 8,
    "start_time": "2022-03-21T01:41:41.183Z"
   },
   {
    "duration": 122,
    "start_time": "2022-03-21T01:41:41.194Z"
   },
   {
    "duration": 5,
    "start_time": "2022-03-21T01:41:41.318Z"
   },
   {
    "duration": 11,
    "start_time": "2022-03-21T01:41:41.326Z"
   },
   {
    "duration": 10,
    "start_time": "2022-03-21T01:41:41.339Z"
   },
   {
    "duration": 34,
    "start_time": "2022-03-21T01:41:41.351Z"
   },
   {
    "duration": 8,
    "start_time": "2022-03-21T01:41:41.388Z"
   },
   {
    "duration": 14,
    "start_time": "2022-03-21T01:41:41.399Z"
   },
   {
    "duration": 5,
    "start_time": "2022-03-21T01:41:41.415Z"
   },
   {
    "duration": 7,
    "start_time": "2022-03-21T01:41:41.421Z"
   },
   {
    "duration": 60,
    "start_time": "2022-03-21T01:41:41.430Z"
   },
   {
    "duration": 8,
    "start_time": "2022-03-21T01:41:41.497Z"
   },
   {
    "duration": 11,
    "start_time": "2022-03-21T01:41:41.507Z"
   },
   {
    "duration": 13,
    "start_time": "2022-03-21T01:41:41.520Z"
   },
   {
    "duration": 68,
    "start_time": "2022-03-21T01:41:41.535Z"
   },
   {
    "duration": 10,
    "start_time": "2022-03-21T01:41:41.605Z"
   },
   {
    "duration": 115,
    "start_time": "2022-03-21T01:41:41.617Z"
   },
   {
    "duration": 52,
    "start_time": "2022-03-21T01:41:41.735Z"
   },
   {
    "duration": 35,
    "start_time": "2022-03-21T01:41:41.789Z"
   },
   {
    "duration": 21,
    "start_time": "2022-03-21T01:41:41.826Z"
   },
   {
    "duration": 41,
    "start_time": "2022-03-21T01:41:41.849Z"
   },
   {
    "duration": 7,
    "start_time": "2022-03-21T01:41:41.893Z"
   },
   {
    "duration": 8,
    "start_time": "2022-03-21T01:41:41.902Z"
   },
   {
    "duration": 16,
    "start_time": "2022-03-21T01:41:41.912Z"
   },
   {
    "duration": 10,
    "start_time": "2022-03-21T01:41:41.931Z"
   },
   {
    "duration": 83,
    "start_time": "2022-03-21T01:41:41.944Z"
   },
   {
    "duration": 7,
    "start_time": "2022-03-21T01:41:42.029Z"
   },
   {
    "duration": 19,
    "start_time": "2022-03-21T01:41:42.038Z"
   },
   {
    "duration": 25,
    "start_time": "2022-03-21T01:41:42.059Z"
   },
   {
    "duration": 11,
    "start_time": "2022-03-21T01:41:42.086Z"
   },
   {
    "duration": 4,
    "start_time": "2022-03-21T01:41:42.100Z"
   },
   {
    "duration": 9,
    "start_time": "2022-03-21T01:41:42.106Z"
   },
   {
    "duration": 17268,
    "start_time": "2022-03-21T01:41:42.117Z"
   },
   {
    "duration": 21,
    "start_time": "2022-03-21T01:41:59.387Z"
   },
   {
    "duration": 5,
    "start_time": "2022-03-21T01:41:59.411Z"
   },
   {
    "duration": 15,
    "start_time": "2022-03-21T01:41:59.418Z"
   },
   {
    "duration": 24,
    "start_time": "2022-03-21T01:41:59.435Z"
   },
   {
    "duration": 36,
    "start_time": "2022-03-21T01:41:59.461Z"
   },
   {
    "duration": 9,
    "start_time": "2022-03-21T01:41:59.499Z"
   },
   {
    "duration": 5,
    "start_time": "2022-03-21T01:41:59.510Z"
   },
   {
    "duration": 10,
    "start_time": "2022-03-21T01:41:59.517Z"
   },
   {
    "duration": 7,
    "start_time": "2022-03-21T01:41:59.529Z"
   },
   {
    "duration": 16206,
    "start_time": "2022-03-21T01:41:59.538Z"
   },
   {
    "duration": 6,
    "start_time": "2022-03-21T01:42:15.746Z"
   },
   {
    "duration": 11,
    "start_time": "2022-03-21T01:42:15.754Z"
   },
   {
    "duration": 16,
    "start_time": "2022-03-21T01:42:15.767Z"
   },
   {
    "duration": 17,
    "start_time": "2022-03-21T01:42:15.785Z"
   },
   {
    "duration": 7,
    "start_time": "2022-03-21T01:42:15.804Z"
   },
   {
    "duration": 6,
    "start_time": "2022-03-21T01:42:15.814Z"
   },
   {
    "duration": 6,
    "start_time": "2022-03-21T01:42:15.823Z"
   },
   {
    "duration": 6,
    "start_time": "2022-03-21T01:42:15.831Z"
   },
   {
    "duration": 6,
    "start_time": "2022-03-21T01:42:15.839Z"
   },
   {
    "duration": 6,
    "start_time": "2022-03-21T01:42:15.848Z"
   },
   {
    "duration": 26,
    "start_time": "2022-03-21T01:42:15.857Z"
   },
   {
    "duration": 6,
    "start_time": "2022-03-21T01:42:15.886Z"
   },
   {
    "duration": 14,
    "start_time": "2022-03-21T01:42:15.894Z"
   },
   {
    "duration": 15,
    "start_time": "2022-03-21T01:42:15.910Z"
   },
   {
    "duration": 8,
    "start_time": "2022-03-21T01:42:15.927Z"
   },
   {
    "duration": 6,
    "start_time": "2022-03-21T01:42:15.938Z"
   },
   {
    "duration": 14,
    "start_time": "2022-03-21T01:42:50.882Z"
   },
   {
    "duration": 7,
    "start_time": "2022-03-21T01:58:11.925Z"
   },
   {
    "duration": 11,
    "start_time": "2022-03-21T01:58:24.100Z"
   },
   {
    "duration": 108,
    "start_time": "2022-03-21T01:59:18.777Z"
   },
   {
    "duration": 8,
    "start_time": "2022-03-21T01:59:26.004Z"
   },
   {
    "duration": 12,
    "start_time": "2022-03-21T01:59:58.080Z"
   },
   {
    "duration": 11,
    "start_time": "2022-03-21T02:00:21.167Z"
   },
   {
    "duration": 6,
    "start_time": "2022-03-21T02:12:06.209Z"
   },
   {
    "duration": 10,
    "start_time": "2022-03-21T02:31:07.066Z"
   },
   {
    "duration": 5,
    "start_time": "2022-03-21T02:31:17.650Z"
   },
   {
    "duration": 5,
    "start_time": "2022-03-21T02:31:20.197Z"
   },
   {
    "duration": 68,
    "start_time": "2022-03-21T02:32:45.416Z"
   },
   {
    "duration": 63,
    "start_time": "2022-03-21T02:32:58.600Z"
   },
   {
    "duration": 8,
    "start_time": "2022-03-21T18:58:25.829Z"
   },
   {
    "duration": 8,
    "start_time": "2022-03-21T18:58:34.921Z"
   },
   {
    "duration": 3,
    "start_time": "2022-03-21T19:04:02.283Z"
   },
   {
    "duration": 3,
    "start_time": "2022-03-21T19:04:04.206Z"
   },
   {
    "duration": 4,
    "start_time": "2022-03-21T19:04:39.869Z"
   },
   {
    "duration": 3,
    "start_time": "2022-03-21T19:05:05.480Z"
   },
   {
    "duration": 4,
    "start_time": "2022-03-21T19:05:26.472Z"
   },
   {
    "duration": 4,
    "start_time": "2022-03-21T19:05:28.341Z"
   },
   {
    "duration": 3,
    "start_time": "2022-03-21T19:05:56.465Z"
   },
   {
    "duration": 4,
    "start_time": "2022-03-21T19:06:29.118Z"
   },
   {
    "duration": 4,
    "start_time": "2022-03-21T19:06:31.047Z"
   },
   {
    "duration": 557,
    "start_time": "2022-03-21T19:06:36.909Z"
   },
   {
    "duration": 15,
    "start_time": "2022-03-21T19:06:37.468Z"
   },
   {
    "duration": 7,
    "start_time": "2022-03-21T19:06:37.484Z"
   },
   {
    "duration": 19,
    "start_time": "2022-03-21T19:06:37.493Z"
   },
   {
    "duration": 11,
    "start_time": "2022-03-21T19:06:37.514Z"
   },
   {
    "duration": 55,
    "start_time": "2022-03-21T19:06:37.527Z"
   },
   {
    "duration": 17,
    "start_time": "2022-03-21T19:06:37.584Z"
   },
   {
    "duration": 24,
    "start_time": "2022-03-21T19:06:37.603Z"
   },
   {
    "duration": 983,
    "start_time": "2022-03-21T19:06:37.628Z"
   },
   {
    "duration": 9,
    "start_time": "2022-03-21T19:06:38.614Z"
   },
   {
    "duration": 14,
    "start_time": "2022-03-21T19:06:38.624Z"
   },
   {
    "duration": 24,
    "start_time": "2022-03-21T19:06:38.640Z"
   },
   {
    "duration": 22,
    "start_time": "2022-03-21T19:06:38.666Z"
   },
   {
    "duration": 5,
    "start_time": "2022-03-21T19:06:38.690Z"
   },
   {
    "duration": 7,
    "start_time": "2022-03-21T19:06:38.696Z"
   },
   {
    "duration": 5,
    "start_time": "2022-03-21T19:06:38.705Z"
   },
   {
    "duration": 7,
    "start_time": "2022-03-21T19:06:38.711Z"
   },
   {
    "duration": 119,
    "start_time": "2022-03-21T19:06:38.720Z"
   },
   {
    "duration": 3,
    "start_time": "2022-03-21T19:06:38.842Z"
   },
   {
    "duration": 19,
    "start_time": "2022-03-21T19:06:38.846Z"
   },
   {
    "duration": 8,
    "start_time": "2022-03-21T19:06:38.867Z"
   },
   {
    "duration": 6,
    "start_time": "2022-03-21T19:06:38.876Z"
   },
   {
    "duration": 6,
    "start_time": "2022-03-21T19:06:38.883Z"
   },
   {
    "duration": 9,
    "start_time": "2022-03-21T19:06:38.890Z"
   },
   {
    "duration": 4,
    "start_time": "2022-03-21T19:06:38.900Z"
   },
   {
    "duration": 4,
    "start_time": "2022-03-21T19:06:38.906Z"
   },
   {
    "duration": 17,
    "start_time": "2022-03-21T19:06:38.912Z"
   },
   {
    "duration": 31,
    "start_time": "2022-03-21T19:06:38.932Z"
   },
   {
    "duration": 7,
    "start_time": "2022-03-21T19:06:38.965Z"
   },
   {
    "duration": 10,
    "start_time": "2022-03-21T19:06:38.973Z"
   },
   {
    "duration": 20,
    "start_time": "2022-03-21T19:06:38.985Z"
   },
   {
    "duration": 7,
    "start_time": "2022-03-21T19:06:39.007Z"
   },
   {
    "duration": 100,
    "start_time": "2022-03-21T19:06:39.016Z"
   },
   {
    "duration": 33,
    "start_time": "2022-03-21T19:06:39.118Z"
   },
   {
    "duration": 22,
    "start_time": "2022-03-21T19:06:39.153Z"
   },
   {
    "duration": 14,
    "start_time": "2022-03-21T19:06:39.177Z"
   },
   {
    "duration": 11,
    "start_time": "2022-03-21T19:06:39.193Z"
   },
   {
    "duration": 5,
    "start_time": "2022-03-21T19:06:39.205Z"
   },
   {
    "duration": 7,
    "start_time": "2022-03-21T19:06:39.212Z"
   },
   {
    "duration": 13,
    "start_time": "2022-03-21T19:06:39.220Z"
   },
   {
    "duration": 31,
    "start_time": "2022-03-21T19:06:39.234Z"
   },
   {
    "duration": 38,
    "start_time": "2022-03-21T19:06:39.266Z"
   },
   {
    "duration": 5,
    "start_time": "2022-03-21T19:06:39.306Z"
   },
   {
    "duration": 8,
    "start_time": "2022-03-21T19:06:39.312Z"
   },
   {
    "duration": 6,
    "start_time": "2022-03-21T19:06:39.322Z"
   },
   {
    "duration": 37,
    "start_time": "2022-03-21T19:06:39.330Z"
   },
   {
    "duration": 4,
    "start_time": "2022-03-21T19:06:39.369Z"
   },
   {
    "duration": 7,
    "start_time": "2022-03-21T19:06:39.374Z"
   },
   {
    "duration": 11663,
    "start_time": "2022-03-21T19:06:39.383Z"
   },
   {
    "duration": 26,
    "start_time": "2022-03-21T19:06:51.048Z"
   },
   {
    "duration": 3,
    "start_time": "2022-03-21T19:06:51.076Z"
   },
   {
    "duration": 7,
    "start_time": "2022-03-21T19:06:51.081Z"
   },
   {
    "duration": 19,
    "start_time": "2022-03-21T19:06:51.090Z"
   },
   {
    "duration": 9,
    "start_time": "2022-03-21T19:06:51.110Z"
   },
   {
    "duration": 4,
    "start_time": "2022-03-21T19:06:51.120Z"
   },
   {
    "duration": 5,
    "start_time": "2022-03-21T19:06:51.125Z"
   },
   {
    "duration": 33,
    "start_time": "2022-03-21T19:06:51.132Z"
   },
   {
    "duration": 5,
    "start_time": "2022-03-21T19:06:51.167Z"
   },
   {
    "duration": 11521,
    "start_time": "2022-03-21T19:06:51.174Z"
   },
   {
    "duration": 4,
    "start_time": "2022-03-21T19:07:02.696Z"
   },
   {
    "duration": 4,
    "start_time": "2022-03-21T19:07:02.702Z"
   },
   {
    "duration": 13,
    "start_time": "2022-03-21T19:07:02.708Z"
   },
   {
    "duration": 6,
    "start_time": "2022-03-21T19:07:02.723Z"
   },
   {
    "duration": 19,
    "start_time": "2022-03-21T19:07:02.731Z"
   },
   {
    "duration": 4,
    "start_time": "2022-03-21T19:07:02.763Z"
   },
   {
    "duration": 56,
    "start_time": "2022-03-21T19:07:02.788Z"
   },
   {
    "duration": 2,
    "start_time": "2022-03-21T19:07:02.846Z"
   },
   {
    "duration": 9,
    "start_time": "2022-03-21T19:07:02.849Z"
   },
   {
    "duration": 2,
    "start_time": "2022-03-21T19:07:02.863Z"
   },
   {
    "duration": 4,
    "start_time": "2022-03-21T19:07:02.867Z"
   },
   {
    "duration": 6,
    "start_time": "2022-03-21T19:07:02.872Z"
   },
   {
    "duration": 8,
    "start_time": "2022-03-21T19:07:02.880Z"
   },
   {
    "duration": 5,
    "start_time": "2022-03-21T19:07:02.889Z"
   },
   {
    "duration": 6,
    "start_time": "2022-03-21T19:07:02.895Z"
   },
   {
    "duration": 5,
    "start_time": "2022-03-21T19:07:02.910Z"
   },
   {
    "duration": 3,
    "start_time": "2022-03-21T19:08:19.451Z"
   },
   {
    "duration": 3,
    "start_time": "2022-03-21T19:08:21.187Z"
   },
   {
    "duration": 3,
    "start_time": "2022-03-21T19:08:25.411Z"
   },
   {
    "duration": 3,
    "start_time": "2022-03-21T19:08:27.550Z"
   },
   {
    "duration": 3,
    "start_time": "2022-03-21T19:08:28.970Z"
   },
   {
    "duration": 4,
    "start_time": "2022-03-21T19:09:18.364Z"
   },
   {
    "duration": 4,
    "start_time": "2022-03-21T19:09:20.317Z"
   },
   {
    "duration": 3,
    "start_time": "2022-03-21T19:09:22.140Z"
   },
   {
    "duration": 482,
    "start_time": "2022-03-21T19:10:41.364Z"
   },
   {
    "duration": 23,
    "start_time": "2022-03-21T19:10:41.848Z"
   },
   {
    "duration": 7,
    "start_time": "2022-03-21T19:10:41.873Z"
   },
   {
    "duration": 19,
    "start_time": "2022-03-21T19:10:41.882Z"
   },
   {
    "duration": 11,
    "start_time": "2022-03-21T19:10:41.902Z"
   },
   {
    "duration": 58,
    "start_time": "2022-03-21T19:10:41.914Z"
   },
   {
    "duration": 16,
    "start_time": "2022-03-21T19:10:41.974Z"
   },
   {
    "duration": 24,
    "start_time": "2022-03-21T19:10:41.992Z"
   },
   {
    "duration": 865,
    "start_time": "2022-03-21T19:10:42.018Z"
   },
   {
    "duration": 9,
    "start_time": "2022-03-21T19:10:42.886Z"
   },
   {
    "duration": 13,
    "start_time": "2022-03-21T19:10:42.896Z"
   },
   {
    "duration": 10,
    "start_time": "2022-03-21T19:10:42.911Z"
   },
   {
    "duration": 19,
    "start_time": "2022-03-21T19:10:42.922Z"
   },
   {
    "duration": 25,
    "start_time": "2022-03-21T19:10:42.942Z"
   },
   {
    "duration": 8,
    "start_time": "2022-03-21T19:10:42.968Z"
   },
   {
    "duration": 10,
    "start_time": "2022-03-21T19:10:42.978Z"
   },
   {
    "duration": 6,
    "start_time": "2022-03-21T19:10:42.989Z"
   },
   {
    "duration": 24,
    "start_time": "2022-03-21T19:10:42.997Z"
   },
   {
    "duration": 3,
    "start_time": "2022-03-21T19:10:43.023Z"
   },
   {
    "duration": 8,
    "start_time": "2022-03-21T19:10:43.028Z"
   },
   {
    "duration": 28,
    "start_time": "2022-03-21T19:10:43.037Z"
   },
   {
    "duration": 5,
    "start_time": "2022-03-21T19:10:43.067Z"
   },
   {
    "duration": 6,
    "start_time": "2022-03-21T19:10:43.074Z"
   },
   {
    "duration": 8,
    "start_time": "2022-03-21T19:10:43.081Z"
   },
   {
    "duration": 4,
    "start_time": "2022-03-21T19:10:43.090Z"
   },
   {
    "duration": 5,
    "start_time": "2022-03-21T19:10:43.095Z"
   },
   {
    "duration": 17,
    "start_time": "2022-03-21T19:10:43.101Z"
   },
   {
    "duration": 6,
    "start_time": "2022-03-21T19:10:43.122Z"
   },
   {
    "duration": 43,
    "start_time": "2022-03-21T19:10:43.130Z"
   },
   {
    "duration": 10,
    "start_time": "2022-03-21T19:10:43.175Z"
   },
   {
    "duration": 22,
    "start_time": "2022-03-21T19:10:43.186Z"
   },
   {
    "duration": 7,
    "start_time": "2022-03-21T19:10:43.209Z"
   },
   {
    "duration": 98,
    "start_time": "2022-03-21T19:10:43.218Z"
   },
   {
    "duration": 33,
    "start_time": "2022-03-21T19:10:43.317Z"
   },
   {
    "duration": 21,
    "start_time": "2022-03-21T19:10:43.352Z"
   },
   {
    "duration": 13,
    "start_time": "2022-03-21T19:10:43.375Z"
   },
   {
    "duration": 12,
    "start_time": "2022-03-21T19:10:43.390Z"
   },
   {
    "duration": 5,
    "start_time": "2022-03-21T19:10:43.403Z"
   },
   {
    "duration": 9,
    "start_time": "2022-03-21T19:10:43.410Z"
   },
   {
    "duration": 11,
    "start_time": "2022-03-21T19:10:43.421Z"
   },
   {
    "duration": 35,
    "start_time": "2022-03-21T19:10:43.434Z"
   },
   {
    "duration": 37,
    "start_time": "2022-03-21T19:10:43.471Z"
   },
   {
    "duration": 5,
    "start_time": "2022-03-21T19:10:43.510Z"
   },
   {
    "duration": 5,
    "start_time": "2022-03-21T19:10:43.517Z"
   },
   {
    "duration": 3,
    "start_time": "2022-03-21T19:10:43.524Z"
   },
   {
    "duration": 38,
    "start_time": "2022-03-21T19:10:43.528Z"
   },
   {
    "duration": 2,
    "start_time": "2022-03-21T19:10:43.568Z"
   },
   {
    "duration": 12,
    "start_time": "2022-03-21T19:10:43.572Z"
   },
   {
    "duration": 11677,
    "start_time": "2022-03-21T19:10:43.585Z"
   },
   {
    "duration": 15,
    "start_time": "2022-03-21T19:10:55.264Z"
   },
   {
    "duration": 2,
    "start_time": "2022-03-21T19:10:55.281Z"
   },
   {
    "duration": 6,
    "start_time": "2022-03-21T19:10:55.285Z"
   },
   {
    "duration": 16,
    "start_time": "2022-03-21T19:10:55.293Z"
   },
   {
    "duration": 9,
    "start_time": "2022-03-21T19:10:55.311Z"
   },
   {
    "duration": 4,
    "start_time": "2022-03-21T19:10:55.321Z"
   },
   {
    "duration": 4,
    "start_time": "2022-03-21T19:10:55.326Z"
   },
   {
    "duration": 6,
    "start_time": "2022-03-21T19:10:55.363Z"
   },
   {
    "duration": 6,
    "start_time": "2022-03-21T19:10:55.371Z"
   },
   {
    "duration": 12047,
    "start_time": "2022-03-21T19:10:55.379Z"
   },
   {
    "duration": 5,
    "start_time": "2022-03-21T19:11:07.427Z"
   },
   {
    "duration": 6,
    "start_time": "2022-03-21T19:11:07.434Z"
   },
   {
    "duration": 26,
    "start_time": "2022-03-21T19:11:07.441Z"
   },
   {
    "duration": 6,
    "start_time": "2022-03-21T19:11:07.469Z"
   },
   {
    "duration": 5,
    "start_time": "2022-03-21T19:11:07.477Z"
   },
   {
    "duration": 5,
    "start_time": "2022-03-21T19:11:07.483Z"
   },
   {
    "duration": 65,
    "start_time": "2022-03-21T19:11:07.498Z"
   },
   {
    "duration": 2,
    "start_time": "2022-03-21T19:11:07.565Z"
   },
   {
    "duration": 8,
    "start_time": "2022-03-21T19:11:07.568Z"
   },
   {
    "duration": 4,
    "start_time": "2022-03-21T19:11:07.578Z"
   },
   {
    "duration": 4,
    "start_time": "2022-03-21T19:11:07.584Z"
   },
   {
    "duration": 5,
    "start_time": "2022-03-21T19:11:07.589Z"
   },
   {
    "duration": 4,
    "start_time": "2022-03-21T19:11:07.596Z"
   },
   {
    "duration": 5,
    "start_time": "2022-03-21T19:11:07.602Z"
   },
   {
    "duration": 5,
    "start_time": "2022-03-21T19:11:07.608Z"
   },
   {
    "duration": 4,
    "start_time": "2022-03-21T19:11:07.617Z"
   },
   {
    "duration": 4,
    "start_time": "2022-03-21T19:16:13.903Z"
   },
   {
    "duration": 4,
    "start_time": "2022-03-21T19:16:26.043Z"
   },
   {
    "duration": 4,
    "start_time": "2022-03-21T19:16:29.055Z"
   },
   {
    "duration": 4,
    "start_time": "2022-03-21T19:21:12.210Z"
   },
   {
    "duration": 3,
    "start_time": "2022-03-21T19:21:14.342Z"
   },
   {
    "duration": 3,
    "start_time": "2022-03-21T19:21:28.839Z"
   },
   {
    "duration": 3,
    "start_time": "2022-03-21T19:22:55.978Z"
   },
   {
    "duration": 4,
    "start_time": "2022-03-21T19:22:57.979Z"
   },
   {
    "duration": 10,
    "start_time": "2022-03-21T19:34:01.759Z"
   },
   {
    "duration": 5,
    "start_time": "2022-03-21T19:35:07.529Z"
   },
   {
    "duration": 4,
    "start_time": "2022-03-21T19:35:44.572Z"
   },
   {
    "duration": 11,
    "start_time": "2022-03-21T19:36:40.849Z"
   },
   {
    "duration": 12,
    "start_time": "2022-03-21T19:36:57.881Z"
   },
   {
    "duration": 87,
    "start_time": "2022-03-21T19:37:07.083Z"
   },
   {
    "duration": 11,
    "start_time": "2022-03-21T19:37:15.621Z"
   },
   {
    "duration": 18,
    "start_time": "2022-03-21T19:38:31.162Z"
   },
   {
    "duration": 19,
    "start_time": "2022-03-21T19:38:35.931Z"
   },
   {
    "duration": 17,
    "start_time": "2022-03-21T19:39:06.538Z"
   },
   {
    "duration": 16,
    "start_time": "2022-03-21T19:39:19.658Z"
   },
   {
    "duration": 50,
    "start_time": "2022-03-21T20:08:41.290Z"
   },
   {
    "duration": 10,
    "start_time": "2022-03-21T20:14:00.112Z"
   },
   {
    "duration": 5,
    "start_time": "2022-03-21T20:19:27.374Z"
   },
   {
    "duration": 4,
    "start_time": "2022-03-21T20:21:06.143Z"
   },
   {
    "duration": 4,
    "start_time": "2022-03-21T20:21:11.785Z"
   },
   {
    "duration": 17,
    "start_time": "2022-03-21T20:22:38.784Z"
   },
   {
    "duration": 86,
    "start_time": "2022-03-21T20:22:47.137Z"
   },
   {
    "duration": 11,
    "start_time": "2022-03-21T20:24:07.239Z"
   },
   {
    "duration": 4,
    "start_time": "2022-03-21T20:25:05.157Z"
   },
   {
    "duration": 14,
    "start_time": "2022-03-21T20:25:19.216Z"
   },
   {
    "duration": 15,
    "start_time": "2022-03-21T20:26:16.754Z"
   },
   {
    "duration": 14,
    "start_time": "2022-03-21T20:26:30.699Z"
   },
   {
    "duration": 5,
    "start_time": "2022-03-21T20:26:37.487Z"
   },
   {
    "duration": 135,
    "start_time": "2022-03-21T21:21:05.584Z"
   },
   {
    "duration": 4,
    "start_time": "2022-03-21T21:21:11.043Z"
   },
   {
    "duration": 8,
    "start_time": "2022-03-21T21:21:30.964Z"
   },
   {
    "duration": 5,
    "start_time": "2022-03-21T21:21:34.807Z"
   },
   {
    "duration": 4,
    "start_time": "2022-03-21T21:22:44.119Z"
   },
   {
    "duration": 4,
    "start_time": "2022-03-21T21:26:31.561Z"
   },
   {
    "duration": 178,
    "start_time": "2022-03-21T21:27:19.283Z"
   },
   {
    "duration": 4,
    "start_time": "2022-03-21T21:28:08.455Z"
   },
   {
    "duration": 5,
    "start_time": "2022-03-21T21:28:32.015Z"
   },
   {
    "duration": 6,
    "start_time": "2022-03-21T21:28:45.624Z"
   },
   {
    "duration": 7,
    "start_time": "2022-03-21T21:31:44.523Z"
   },
   {
    "duration": 9,
    "start_time": "2022-03-21T21:32:04.240Z"
   },
   {
    "duration": 4,
    "start_time": "2022-03-21T21:32:30.303Z"
   },
   {
    "duration": 6,
    "start_time": "2022-03-21T21:32:46.291Z"
   },
   {
    "duration": 5,
    "start_time": "2022-03-21T21:34:09.851Z"
   },
   {
    "duration": 3,
    "start_time": "2022-03-21T21:34:22.598Z"
   },
   {
    "duration": 144,
    "start_time": "2022-03-21T21:55:24.176Z"
   },
   {
    "duration": 13,
    "start_time": "2022-03-21T21:55:28.690Z"
   },
   {
    "duration": 7,
    "start_time": "2022-03-21T21:55:43.579Z"
   },
   {
    "duration": 9,
    "start_time": "2022-03-21T21:56:03.335Z"
   },
   {
    "duration": 10,
    "start_time": "2022-03-21T21:56:36.670Z"
   },
   {
    "duration": 5,
    "start_time": "2022-03-21T22:01:37.323Z"
   },
   {
    "duration": 10,
    "start_time": "2022-03-21T22:01:41.305Z"
   },
   {
    "duration": 6,
    "start_time": "2022-03-21T22:01:46.850Z"
   },
   {
    "duration": 10,
    "start_time": "2022-03-21T22:01:54.751Z"
   },
   {
    "duration": 4,
    "start_time": "2022-03-21T22:03:34.232Z"
   },
   {
    "duration": 13,
    "start_time": "2022-03-21T22:03:43.958Z"
   },
   {
    "duration": 14,
    "start_time": "2022-03-21T22:04:30.461Z"
   },
   {
    "duration": 26,
    "start_time": "2022-03-21T22:04:36.961Z"
   },
   {
    "duration": 8,
    "start_time": "2022-03-21T22:04:48.552Z"
   },
   {
    "duration": 10,
    "start_time": "2022-03-21T22:04:50.880Z"
   },
   {
    "duration": 13,
    "start_time": "2022-03-21T22:05:09.903Z"
   },
   {
    "duration": 2653,
    "start_time": "2022-03-21T22:09:31.843Z"
   },
   {
    "duration": 2639,
    "start_time": "2022-03-21T22:09:53.925Z"
   },
   {
    "duration": 11,
    "start_time": "2022-03-21T22:10:43.459Z"
   },
   {
    "duration": 11,
    "start_time": "2022-03-21T22:11:09.502Z"
   },
   {
    "duration": 8,
    "start_time": "2022-03-22T00:58:15.391Z"
   },
   {
    "duration": 10,
    "start_time": "2022-03-22T00:58:32.692Z"
   },
   {
    "duration": 20,
    "start_time": "2022-03-22T01:02:52.138Z"
   },
   {
    "duration": 19,
    "start_time": "2022-03-22T01:04:50.425Z"
   },
   {
    "duration": 11,
    "start_time": "2022-03-22T01:05:04.231Z"
   },
   {
    "duration": 16,
    "start_time": "2022-03-22T01:05:43.778Z"
   },
   {
    "duration": 12,
    "start_time": "2022-03-22T01:07:36.554Z"
   },
   {
    "duration": 137,
    "start_time": "2022-03-22T01:09:59.486Z"
   },
   {
    "duration": 131,
    "start_time": "2022-03-22T01:10:25.181Z"
   },
   {
    "duration": 217,
    "start_time": "2022-03-22T01:10:41.809Z"
   },
   {
    "duration": 189,
    "start_time": "2022-03-22T01:11:24.572Z"
   },
   {
    "duration": 13,
    "start_time": "2022-03-22T01:11:52.549Z"
   },
   {
    "duration": 14,
    "start_time": "2022-03-22T01:12:12.854Z"
   },
   {
    "duration": 14,
    "start_time": "2022-03-22T01:42:11.968Z"
   },
   {
    "duration": 18,
    "start_time": "2022-03-22T01:42:35.703Z"
   },
   {
    "duration": 28,
    "start_time": "2022-03-22T01:42:53.910Z"
   },
   {
    "duration": 25,
    "start_time": "2022-03-22T01:43:10.730Z"
   },
   {
    "duration": 10,
    "start_time": "2022-03-22T01:44:58.746Z"
   },
   {
    "duration": 9,
    "start_time": "2022-03-22T01:45:47.149Z"
   },
   {
    "duration": 69,
    "start_time": "2022-03-22T14:26:31.523Z"
   },
   {
    "duration": 651,
    "start_time": "2022-03-22T14:26:38.233Z"
   },
   {
    "duration": 20,
    "start_time": "2022-03-22T14:26:38.887Z"
   },
   {
    "duration": 12,
    "start_time": "2022-03-22T14:26:38.909Z"
   },
   {
    "duration": 27,
    "start_time": "2022-03-22T14:26:38.923Z"
   },
   {
    "duration": 49,
    "start_time": "2022-03-22T14:26:38.952Z"
   },
   {
    "duration": 46,
    "start_time": "2022-03-22T14:26:39.003Z"
   },
   {
    "duration": 49,
    "start_time": "2022-03-22T14:26:39.052Z"
   },
   {
    "duration": 34,
    "start_time": "2022-03-22T14:26:39.103Z"
   },
   {
    "duration": 1682,
    "start_time": "2022-03-22T14:26:39.139Z"
   },
   {
    "duration": 15,
    "start_time": "2022-03-22T14:26:40.826Z"
   },
   {
    "duration": 40,
    "start_time": "2022-03-22T14:26:40.844Z"
   },
   {
    "duration": 17,
    "start_time": "2022-03-22T14:26:40.887Z"
   },
   {
    "duration": 27,
    "start_time": "2022-03-22T14:26:40.907Z"
   },
   {
    "duration": 12,
    "start_time": "2022-03-22T14:26:40.937Z"
   },
   {
    "duration": 37,
    "start_time": "2022-03-22T14:26:40.951Z"
   },
   {
    "duration": 7,
    "start_time": "2022-03-22T14:26:40.990Z"
   },
   {
    "duration": 51,
    "start_time": "2022-03-22T14:26:41.000Z"
   },
   {
    "duration": 125,
    "start_time": "2022-03-22T14:26:41.053Z"
   },
   {
    "duration": 5,
    "start_time": "2022-03-22T14:26:41.183Z"
   },
   {
    "duration": 9,
    "start_time": "2022-03-22T14:26:41.190Z"
   },
   {
    "duration": 11,
    "start_time": "2022-03-22T14:26:41.201Z"
   },
   {
    "duration": 6,
    "start_time": "2022-03-22T14:26:41.215Z"
   },
   {
    "duration": 9,
    "start_time": "2022-03-22T14:26:41.223Z"
   },
   {
    "duration": 53,
    "start_time": "2022-03-22T14:26:41.235Z"
   },
   {
    "duration": 4,
    "start_time": "2022-03-22T14:26:41.290Z"
   },
   {
    "duration": 9,
    "start_time": "2022-03-22T14:26:41.296Z"
   },
   {
    "duration": 25,
    "start_time": "2022-03-22T14:26:41.307Z"
   },
   {
    "duration": 9,
    "start_time": "2022-03-22T14:26:41.339Z"
   },
   {
    "duration": 38,
    "start_time": "2022-03-22T14:26:41.350Z"
   },
   {
    "duration": 13,
    "start_time": "2022-03-22T14:26:41.390Z"
   },
   {
    "duration": 36,
    "start_time": "2022-03-22T14:26:41.405Z"
   },
   {
    "duration": 11,
    "start_time": "2022-03-22T14:26:41.443Z"
   },
   {
    "duration": 128,
    "start_time": "2022-03-22T14:26:41.456Z"
   },
   {
    "duration": 49,
    "start_time": "2022-03-22T14:26:41.587Z"
   },
   {
    "duration": 68,
    "start_time": "2022-03-22T14:26:41.639Z"
   },
   {
    "duration": 28,
    "start_time": "2022-03-22T14:26:41.710Z"
   },
   {
    "duration": 46,
    "start_time": "2022-03-22T14:26:41.741Z"
   },
   {
    "duration": 8,
    "start_time": "2022-03-22T14:26:41.789Z"
   },
   {
    "duration": 8,
    "start_time": "2022-03-22T14:26:41.800Z"
   },
   {
    "duration": 16,
    "start_time": "2022-03-22T14:26:41.810Z"
   },
   {
    "duration": 27,
    "start_time": "2022-03-22T14:26:41.829Z"
   },
   {
    "duration": 51,
    "start_time": "2022-03-22T14:26:41.883Z"
   },
   {
    "duration": 7,
    "start_time": "2022-03-22T14:26:41.937Z"
   },
   {
    "duration": 40,
    "start_time": "2022-03-22T14:26:41.947Z"
   },
   {
    "duration": 5,
    "start_time": "2022-03-22T14:26:41.989Z"
   },
   {
    "duration": 11,
    "start_time": "2022-03-22T14:26:41.996Z"
   },
   {
    "duration": 4,
    "start_time": "2022-03-22T14:26:42.009Z"
   },
   {
    "duration": 12,
    "start_time": "2022-03-22T14:26:42.015Z"
   },
   {
    "duration": 16707,
    "start_time": "2022-03-22T14:26:42.029Z"
   },
   {
    "duration": 22,
    "start_time": "2022-03-22T14:26:58.739Z"
   },
   {
    "duration": 20,
    "start_time": "2022-03-22T14:26:58.763Z"
   },
   {
    "duration": 10,
    "start_time": "2022-03-22T14:26:58.786Z"
   },
   {
    "duration": 26,
    "start_time": "2022-03-22T14:26:58.798Z"
   },
   {
    "duration": 13,
    "start_time": "2022-03-22T14:26:58.827Z"
   },
   {
    "duration": 41,
    "start_time": "2022-03-22T14:26:58.842Z"
   },
   {
    "duration": 7,
    "start_time": "2022-03-22T14:26:58.886Z"
   },
   {
    "duration": 13,
    "start_time": "2022-03-22T14:26:58.895Z"
   },
   {
    "duration": 7,
    "start_time": "2022-03-22T14:26:58.911Z"
   },
   {
    "duration": 16224,
    "start_time": "2022-03-22T14:26:58.921Z"
   },
   {
    "duration": 6,
    "start_time": "2022-03-22T14:27:15.147Z"
   },
   {
    "duration": 6,
    "start_time": "2022-03-22T14:27:15.156Z"
   },
   {
    "duration": 32,
    "start_time": "2022-03-22T14:27:15.165Z"
   },
   {
    "duration": 11,
    "start_time": "2022-03-22T14:27:15.199Z"
   },
   {
    "duration": 9,
    "start_time": "2022-03-22T14:27:15.212Z"
   },
   {
    "duration": 5,
    "start_time": "2022-03-22T14:27:15.224Z"
   },
   {
    "duration": 60,
    "start_time": "2022-03-22T14:27:15.231Z"
   },
   {
    "duration": 9,
    "start_time": "2022-03-22T14:27:15.293Z"
   },
   {
    "duration": 25,
    "start_time": "2022-03-22T14:27:15.304Z"
   },
   {
    "duration": 5,
    "start_time": "2022-03-22T14:27:15.331Z"
   },
   {
    "duration": 46,
    "start_time": "2022-03-22T14:27:15.338Z"
   },
   {
    "duration": 8,
    "start_time": "2022-03-22T14:27:15.386Z"
   },
   {
    "duration": 20,
    "start_time": "2022-03-22T14:27:15.396Z"
   },
   {
    "duration": 20,
    "start_time": "2022-03-22T14:27:15.418Z"
   },
   {
    "duration": 48,
    "start_time": "2022-03-22T14:27:15.441Z"
   },
   {
    "duration": 15,
    "start_time": "2022-03-22T14:27:15.492Z"
   },
   {
    "duration": 7,
    "start_time": "2022-03-22T14:27:42.626Z"
   },
   {
    "duration": 24,
    "start_time": "2022-03-22T14:28:37.412Z"
   },
   {
    "duration": 361,
    "start_time": "2022-03-22T18:48:20.062Z"
   },
   {
    "duration": 1039,
    "start_time": "2022-03-22T18:48:28.474Z"
   },
   {
    "duration": 9,
    "start_time": "2022-03-22T18:48:29.515Z"
   },
   {
    "duration": 9,
    "start_time": "2022-03-22T18:48:29.526Z"
   },
   {
    "duration": 13,
    "start_time": "2022-03-22T18:48:29.538Z"
   },
   {
    "duration": 16,
    "start_time": "2022-03-22T18:48:29.553Z"
   },
   {
    "duration": 29,
    "start_time": "2022-03-22T18:48:29.571Z"
   },
   {
    "duration": 41,
    "start_time": "2022-03-22T18:48:29.602Z"
   },
   {
    "duration": 29,
    "start_time": "2022-03-22T18:48:29.647Z"
   },
   {
    "duration": 1007,
    "start_time": "2022-03-22T18:48:29.679Z"
   },
   {
    "duration": 9,
    "start_time": "2022-03-22T18:48:30.688Z"
   },
   {
    "duration": 32,
    "start_time": "2022-03-22T18:48:30.699Z"
   },
   {
    "duration": 14,
    "start_time": "2022-03-22T18:48:30.733Z"
   },
   {
    "duration": 33,
    "start_time": "2022-03-22T18:48:30.749Z"
   },
   {
    "duration": 27,
    "start_time": "2022-03-22T18:48:30.784Z"
   },
   {
    "duration": 10,
    "start_time": "2022-03-22T18:48:30.813Z"
   },
   {
    "duration": 17,
    "start_time": "2022-03-22T18:48:30.825Z"
   },
   {
    "duration": 23,
    "start_time": "2022-03-22T18:48:30.844Z"
   },
   {
    "duration": 29,
    "start_time": "2022-03-22T18:48:30.869Z"
   },
   {
    "duration": 12,
    "start_time": "2022-03-22T18:48:30.900Z"
   },
   {
    "duration": 4,
    "start_time": "2022-03-22T18:48:30.914Z"
   },
   {
    "duration": 6,
    "start_time": "2022-03-22T18:48:30.920Z"
   },
   {
    "duration": 7,
    "start_time": "2022-03-22T18:48:30.933Z"
   },
   {
    "duration": 9,
    "start_time": "2022-03-22T18:48:30.944Z"
   },
   {
    "duration": 13,
    "start_time": "2022-03-22T18:48:30.956Z"
   },
   {
    "duration": 15,
    "start_time": "2022-03-22T18:48:30.971Z"
   },
   {
    "duration": 6,
    "start_time": "2022-03-22T18:48:30.988Z"
   },
   {
    "duration": 19,
    "start_time": "2022-03-22T18:48:30.996Z"
   },
   {
    "duration": 15,
    "start_time": "2022-03-22T18:48:31.017Z"
   },
   {
    "duration": 16,
    "start_time": "2022-03-22T18:48:31.034Z"
   },
   {
    "duration": 17,
    "start_time": "2022-03-22T18:48:31.052Z"
   },
   {
    "duration": 27,
    "start_time": "2022-03-22T18:48:31.070Z"
   },
   {
    "duration": 7,
    "start_time": "2022-03-22T18:48:31.099Z"
   },
   {
    "duration": 61,
    "start_time": "2022-03-22T18:48:31.108Z"
   },
   {
    "duration": 31,
    "start_time": "2022-03-22T18:48:31.171Z"
   },
   {
    "duration": 36,
    "start_time": "2022-03-22T18:48:31.204Z"
   },
   {
    "duration": 10,
    "start_time": "2022-03-22T18:48:31.242Z"
   },
   {
    "duration": 17,
    "start_time": "2022-03-22T18:48:31.253Z"
   },
   {
    "duration": 11,
    "start_time": "2022-03-22T18:48:31.271Z"
   },
   {
    "duration": 27,
    "start_time": "2022-03-22T18:48:31.284Z"
   },
   {
    "duration": 24,
    "start_time": "2022-03-22T18:48:31.312Z"
   },
   {
    "duration": 12,
    "start_time": "2022-03-22T18:48:31.338Z"
   },
   {
    "duration": 48,
    "start_time": "2022-03-22T18:48:31.352Z"
   },
   {
    "duration": 5,
    "start_time": "2022-03-22T18:48:31.402Z"
   },
   {
    "duration": 25,
    "start_time": "2022-03-22T18:48:31.408Z"
   },
   {
    "duration": 9,
    "start_time": "2022-03-22T18:48:31.435Z"
   },
   {
    "duration": 9,
    "start_time": "2022-03-22T18:48:31.445Z"
   },
   {
    "duration": 6,
    "start_time": "2022-03-22T18:48:31.456Z"
   },
   {
    "duration": 9,
    "start_time": "2022-03-22T18:48:31.463Z"
   },
   {
    "duration": 12358,
    "start_time": "2022-03-22T18:48:31.474Z"
   },
   {
    "duration": 11,
    "start_time": "2022-03-22T18:48:43.834Z"
   },
   {
    "duration": 7,
    "start_time": "2022-03-22T18:48:43.847Z"
   },
   {
    "duration": 4,
    "start_time": "2022-03-22T18:48:43.856Z"
   },
   {
    "duration": 16,
    "start_time": "2022-03-22T18:48:43.862Z"
   },
   {
    "duration": 10,
    "start_time": "2022-03-22T18:48:43.880Z"
   },
   {
    "duration": 4,
    "start_time": "2022-03-22T18:48:43.891Z"
   },
   {
    "duration": 4,
    "start_time": "2022-03-22T18:48:43.897Z"
   },
   {
    "duration": 33,
    "start_time": "2022-03-22T18:48:43.903Z"
   },
   {
    "duration": 5,
    "start_time": "2022-03-22T18:48:43.938Z"
   },
   {
    "duration": 12144,
    "start_time": "2022-03-22T18:48:43.945Z"
   },
   {
    "duration": 4,
    "start_time": "2022-03-22T18:48:56.091Z"
   },
   {
    "duration": 8,
    "start_time": "2022-03-22T18:48:56.096Z"
   },
   {
    "duration": 12,
    "start_time": "2022-03-22T18:48:56.105Z"
   },
   {
    "duration": 16,
    "start_time": "2022-03-22T18:48:56.118Z"
   },
   {
    "duration": 8,
    "start_time": "2022-03-22T18:48:56.136Z"
   },
   {
    "duration": 5,
    "start_time": "2022-03-22T18:48:56.145Z"
   },
   {
    "duration": 19,
    "start_time": "2022-03-22T18:48:56.151Z"
   },
   {
    "duration": 4,
    "start_time": "2022-03-22T18:48:56.172Z"
   },
   {
    "duration": 15,
    "start_time": "2022-03-22T18:48:56.181Z"
   },
   {
    "duration": 36,
    "start_time": "2022-03-22T18:48:56.197Z"
   },
   {
    "duration": 11,
    "start_time": "2022-03-22T18:48:56.235Z"
   },
   {
    "duration": 8,
    "start_time": "2022-03-22T18:48:56.247Z"
   },
   {
    "duration": 12,
    "start_time": "2022-03-22T18:48:56.272Z"
   },
   {
    "duration": 9,
    "start_time": "2022-03-22T18:48:56.286Z"
   },
   {
    "duration": 44,
    "start_time": "2022-03-22T18:48:56.296Z"
   },
   {
    "duration": 432,
    "start_time": "2022-03-22T18:48:56.357Z"
   },
   {
    "duration": 10,
    "start_time": "2022-03-22T18:49:04.387Z"
   },
   {
    "duration": 10,
    "start_time": "2022-03-22T18:50:35.097Z"
   },
   {
    "duration": 11,
    "start_time": "2022-03-22T18:51:28.767Z"
   },
   {
    "duration": 14,
    "start_time": "2022-03-22T18:53:26.645Z"
   },
   {
    "duration": 14,
    "start_time": "2022-03-22T18:54:04.637Z"
   },
   {
    "duration": 10,
    "start_time": "2022-03-22T18:55:33.630Z"
   },
   {
    "duration": 112,
    "start_time": "2022-03-22T18:56:01.294Z"
   },
   {
    "duration": 11,
    "start_time": "2022-03-22T18:56:05.451Z"
   },
   {
    "duration": 12,
    "start_time": "2022-03-22T18:56:12.694Z"
   },
   {
    "duration": 10,
    "start_time": "2022-03-22T19:02:59.639Z"
   },
   {
    "duration": 13,
    "start_time": "2022-03-22T19:03:39.038Z"
   },
   {
    "duration": 12,
    "start_time": "2022-03-22T19:04:27.479Z"
   },
   {
    "duration": 11,
    "start_time": "2022-03-22T19:05:07.313Z"
   },
   {
    "duration": 13,
    "start_time": "2022-03-22T19:05:52.626Z"
   },
   {
    "duration": 13,
    "start_time": "2022-03-22T19:36:32.457Z"
   },
   {
    "duration": 13,
    "start_time": "2022-03-22T19:37:59.424Z"
   },
   {
    "duration": 16,
    "start_time": "2022-03-22T19:40:51.586Z"
   },
   {
    "duration": 17,
    "start_time": "2022-03-22T19:41:00.817Z"
   },
   {
    "duration": 14,
    "start_time": "2022-03-22T19:41:10.117Z"
   },
   {
    "duration": 13,
    "start_time": "2022-03-22T19:41:13.082Z"
   },
   {
    "duration": 14,
    "start_time": "2022-03-22T19:43:42.528Z"
   },
   {
    "duration": 16,
    "start_time": "2022-03-22T19:44:24.321Z"
   },
   {
    "duration": 15,
    "start_time": "2022-03-22T19:44:56.625Z"
   },
   {
    "duration": 14,
    "start_time": "2022-03-22T19:46:19.927Z"
   },
   {
    "duration": 16,
    "start_time": "2022-03-22T19:47:11.111Z"
   },
   {
    "duration": 15,
    "start_time": "2022-03-22T19:47:30.827Z"
   },
   {
    "duration": 16,
    "start_time": "2022-03-22T19:47:41.792Z"
   },
   {
    "duration": 11,
    "start_time": "2022-03-22T19:57:43.914Z"
   },
   {
    "duration": 16,
    "start_time": "2022-03-22T19:58:14.098Z"
   },
   {
    "duration": 16,
    "start_time": "2022-03-22T19:58:23.613Z"
   },
   {
    "duration": 18,
    "start_time": "2022-03-22T19:59:28.679Z"
   },
   {
    "duration": 15,
    "start_time": "2022-03-22T19:59:37.287Z"
   },
   {
    "duration": 14,
    "start_time": "2022-03-22T19:59:54.860Z"
   },
   {
    "duration": 21,
    "start_time": "2022-03-22T20:00:44.180Z"
   },
   {
    "duration": 29,
    "start_time": "2022-03-22T20:01:45.420Z"
   },
   {
    "duration": 28,
    "start_time": "2022-03-22T20:01:52.915Z"
   },
   {
    "duration": 12,
    "start_time": "2022-03-22T20:02:37.361Z"
   },
   {
    "duration": 13,
    "start_time": "2022-03-22T20:02:49.325Z"
   },
   {
    "duration": 14,
    "start_time": "2022-03-22T20:03:19.457Z"
   },
   {
    "duration": 12,
    "start_time": "2022-03-22T20:03:27.962Z"
   },
   {
    "duration": 8,
    "start_time": "2022-03-22T20:06:14.739Z"
   },
   {
    "duration": 10,
    "start_time": "2022-03-22T20:06:37.483Z"
   },
   {
    "duration": 10,
    "start_time": "2022-03-22T20:07:07.789Z"
   },
   {
    "duration": 9,
    "start_time": "2022-03-22T20:07:39.233Z"
   },
   {
    "duration": 20,
    "start_time": "2022-03-22T20:09:10.767Z"
   },
   {
    "duration": 58,
    "start_time": "2022-03-22T20:09:50.420Z"
   },
   {
    "duration": 71,
    "start_time": "2022-03-22T20:10:02.237Z"
   },
   {
    "duration": 60,
    "start_time": "2022-03-22T20:10:11.975Z"
   },
   {
    "duration": 10,
    "start_time": "2022-03-22T20:11:04.134Z"
   },
   {
    "duration": 836,
    "start_time": "2022-03-22T20:13:57.442Z"
   },
   {
    "duration": 831,
    "start_time": "2022-03-22T20:14:01.678Z"
   },
   {
    "duration": 908,
    "start_time": "2022-03-22T20:14:07.393Z"
   },
   {
    "duration": 800,
    "start_time": "2022-03-22T20:14:14.265Z"
   },
   {
    "duration": 792,
    "start_time": "2022-03-22T20:15:05.188Z"
   },
   {
    "duration": 899,
    "start_time": "2022-03-22T20:15:15.640Z"
   },
   {
    "duration": 820,
    "start_time": "2022-03-22T20:15:22.134Z"
   },
   {
    "duration": 870,
    "start_time": "2022-03-22T20:16:17.485Z"
   },
   {
    "duration": 826,
    "start_time": "2022-03-22T20:16:25.897Z"
   },
   {
    "duration": 819,
    "start_time": "2022-03-22T20:18:50.828Z"
   },
   {
    "duration": 918,
    "start_time": "2022-03-22T20:19:08.844Z"
   },
   {
    "duration": 802,
    "start_time": "2022-03-22T20:19:29.252Z"
   },
   {
    "duration": 813,
    "start_time": "2022-03-22T20:19:38.009Z"
   },
   {
    "duration": 921,
    "start_time": "2022-03-22T20:19:52.836Z"
   },
   {
    "duration": 58,
    "start_time": "2022-03-22T20:23:10.698Z"
   },
   {
    "duration": 1036,
    "start_time": "2022-03-22T20:23:14.454Z"
   },
   {
    "duration": 808,
    "start_time": "2022-03-22T20:23:28.818Z"
   },
   {
    "duration": 881,
    "start_time": "2022-03-22T20:23:57.330Z"
   },
   {
    "duration": 834,
    "start_time": "2022-03-22T20:24:21.872Z"
   },
   {
    "duration": 56,
    "start_time": "2022-03-22T20:26:57.052Z"
   },
   {
    "duration": 1040,
    "start_time": "2022-03-22T20:27:00.972Z"
   },
   {
    "duration": 837,
    "start_time": "2022-03-22T20:27:15.545Z"
   },
   {
    "duration": 823,
    "start_time": "2022-03-22T20:27:45.419Z"
   },
   {
    "duration": 917,
    "start_time": "2022-03-22T20:28:10.029Z"
   },
   {
    "duration": 11,
    "start_time": "2022-03-22T20:49:51.418Z"
   },
   {
    "duration": 12,
    "start_time": "2022-03-22T20:50:30.649Z"
   },
   {
    "duration": 13,
    "start_time": "2022-03-22T20:51:08.129Z"
   },
   {
    "duration": 18,
    "start_time": "2022-03-22T20:52:11.529Z"
   },
   {
    "duration": 20,
    "start_time": "2022-03-22T20:52:36.054Z"
   },
   {
    "duration": 56,
    "start_time": "2022-03-22T20:53:54.268Z"
   },
   {
    "duration": 23,
    "start_time": "2022-03-22T20:54:03.926Z"
   },
   {
    "duration": 19,
    "start_time": "2022-03-22T20:54:38.508Z"
   },
   {
    "duration": 24,
    "start_time": "2022-03-22T20:56:44.419Z"
   },
   {
    "duration": 58,
    "start_time": "2022-03-22T20:58:01.263Z"
   },
   {
    "duration": 24,
    "start_time": "2022-03-22T20:58:11.402Z"
   },
   {
    "duration": 25,
    "start_time": "2022-03-22T20:58:41.428Z"
   },
   {
    "duration": 23,
    "start_time": "2022-03-22T20:59:45.591Z"
   },
   {
    "duration": 25,
    "start_time": "2022-03-22T20:59:53.167Z"
   },
   {
    "duration": 27,
    "start_time": "2022-03-22T21:00:20.024Z"
   },
   {
    "duration": 20,
    "start_time": "2022-03-22T21:00:42.080Z"
   },
   {
    "duration": 20,
    "start_time": "2022-03-22T21:01:08.688Z"
   },
   {
    "duration": 20,
    "start_time": "2022-03-22T21:01:32.728Z"
   },
   {
    "duration": 29,
    "start_time": "2022-03-22T21:01:56.087Z"
   },
   {
    "duration": 3013,
    "start_time": "2022-03-22T21:25:06.725Z"
   },
   {
    "duration": 2776,
    "start_time": "2022-03-22T21:25:38.654Z"
   },
   {
    "duration": 16,
    "start_time": "2022-03-22T21:27:58.991Z"
   },
   {
    "duration": 29,
    "start_time": "2022-03-22T23:12:35.385Z"
   },
   {
    "duration": 23,
    "start_time": "2022-03-22T23:12:53.771Z"
   },
   {
    "duration": 17,
    "start_time": "2022-03-22T23:13:02.292Z"
   },
   {
    "duration": 28,
    "start_time": "2022-03-22T23:14:39.782Z"
   },
   {
    "duration": 54,
    "start_time": "2022-03-22T23:18:37.646Z"
   },
   {
    "duration": 4353,
    "start_time": "2022-03-22T23:19:04.287Z"
   },
   {
    "duration": 4766,
    "start_time": "2022-03-22T23:20:43.688Z"
   },
   {
    "duration": 17,
    "start_time": "2022-03-22T23:21:05.488Z"
   },
   {
    "duration": 19,
    "start_time": "2022-03-22T23:24:38.190Z"
   },
   {
    "duration": 27,
    "start_time": "2022-03-22T23:27:35.934Z"
   },
   {
    "duration": 20,
    "start_time": "2022-03-22T23:27:50.093Z"
   },
   {
    "duration": 265,
    "start_time": "2022-03-22T23:47:02.062Z"
   },
   {
    "duration": 204,
    "start_time": "2022-03-22T23:47:50.440Z"
   },
   {
    "duration": 24,
    "start_time": "2022-03-22T23:48:04.916Z"
   },
   {
    "duration": 229,
    "start_time": "2022-03-22T23:58:34.015Z"
   },
   {
    "duration": 28,
    "start_time": "2022-03-23T00:01:28.051Z"
   },
   {
    "duration": 214,
    "start_time": "2022-03-23T00:02:54.249Z"
   },
   {
    "duration": 196,
    "start_time": "2022-03-23T00:03:15.644Z"
   },
   {
    "duration": 29,
    "start_time": "2022-03-23T00:04:00.118Z"
   },
   {
    "duration": 25,
    "start_time": "2022-03-23T00:04:33.047Z"
   },
   {
    "duration": 196,
    "start_time": "2022-03-23T00:04:46.812Z"
   },
   {
    "duration": 203,
    "start_time": "2022-03-23T00:04:59.048Z"
   },
   {
    "duration": 26,
    "start_time": "2022-03-23T00:05:25.541Z"
   },
   {
    "duration": 26,
    "start_time": "2022-03-23T00:06:41.955Z"
   },
   {
    "duration": 18,
    "start_time": "2022-03-23T00:08:32.211Z"
   },
   {
    "duration": 191,
    "start_time": "2022-03-23T00:22:28.999Z"
   },
   {
    "duration": 24,
    "start_time": "2022-03-23T00:23:09.650Z"
   },
   {
    "duration": 26,
    "start_time": "2022-03-23T00:24:06.870Z"
   },
   {
    "duration": 595,
    "start_time": "2022-03-23T01:04:35.984Z"
   },
   {
    "duration": 12,
    "start_time": "2022-03-23T01:04:36.581Z"
   },
   {
    "duration": 6,
    "start_time": "2022-03-23T01:04:36.595Z"
   },
   {
    "duration": 15,
    "start_time": "2022-03-23T01:04:36.603Z"
   },
   {
    "duration": 12,
    "start_time": "2022-03-23T01:04:36.633Z"
   },
   {
    "duration": 29,
    "start_time": "2022-03-23T01:04:36.647Z"
   },
   {
    "duration": 15,
    "start_time": "2022-03-23T01:04:36.678Z"
   },
   {
    "duration": 54,
    "start_time": "2022-03-23T01:04:36.696Z"
   },
   {
    "duration": 27,
    "start_time": "2022-03-23T01:04:36.753Z"
   },
   {
    "duration": 8,
    "start_time": "2022-03-23T01:04:36.781Z"
   },
   {
    "duration": 15,
    "start_time": "2022-03-23T01:04:36.791Z"
   },
   {
    "duration": 37,
    "start_time": "2022-03-23T01:04:36.807Z"
   },
   {
    "duration": 21,
    "start_time": "2022-03-23T01:04:36.846Z"
   },
   {
    "duration": 6,
    "start_time": "2022-03-23T01:04:36.868Z"
   },
   {
    "duration": 6,
    "start_time": "2022-03-23T01:04:36.876Z"
   },
   {
    "duration": 6,
    "start_time": "2022-03-23T01:04:36.884Z"
   },
   {
    "duration": 8,
    "start_time": "2022-03-23T01:04:36.891Z"
   },
   {
    "duration": 57,
    "start_time": "2022-03-23T01:04:36.900Z"
   },
   {
    "duration": 11,
    "start_time": "2022-03-23T01:04:36.958Z"
   },
   {
    "duration": 3,
    "start_time": "2022-03-23T01:04:36.971Z"
   },
   {
    "duration": 7,
    "start_time": "2022-03-23T01:04:36.976Z"
   },
   {
    "duration": 8,
    "start_time": "2022-03-23T01:04:36.985Z"
   },
   {
    "duration": 37,
    "start_time": "2022-03-23T01:04:36.997Z"
   },
   {
    "duration": 7,
    "start_time": "2022-03-23T01:04:37.037Z"
   },
   {
    "duration": 4,
    "start_time": "2022-03-23T01:04:37.046Z"
   },
   {
    "duration": 4,
    "start_time": "2022-03-23T01:04:37.052Z"
   },
   {
    "duration": 16,
    "start_time": "2022-03-23T01:04:37.057Z"
   },
   {
    "duration": 7,
    "start_time": "2022-03-23T01:04:37.075Z"
   },
   {
    "duration": 7,
    "start_time": "2022-03-23T01:04:37.084Z"
   },
   {
    "duration": 9,
    "start_time": "2022-03-23T01:04:37.092Z"
   },
   {
    "duration": 19,
    "start_time": "2022-03-23T01:04:37.134Z"
   },
   {
    "duration": 7,
    "start_time": "2022-03-23T01:04:37.155Z"
   },
   {
    "duration": 73,
    "start_time": "2022-03-23T01:04:37.163Z"
   },
   {
    "duration": 30,
    "start_time": "2022-03-23T01:04:37.237Z"
   },
   {
    "duration": 18,
    "start_time": "2022-03-23T01:04:37.269Z"
   },
   {
    "duration": 11,
    "start_time": "2022-03-23T01:04:37.289Z"
   },
   {
    "duration": 37,
    "start_time": "2022-03-23T01:04:37.302Z"
   },
   {
    "duration": 7,
    "start_time": "2022-03-23T01:04:37.341Z"
   },
   {
    "duration": 5,
    "start_time": "2022-03-23T01:04:37.350Z"
   },
   {
    "duration": 12,
    "start_time": "2022-03-23T01:04:37.356Z"
   },
   {
    "duration": 7,
    "start_time": "2022-03-23T01:04:37.369Z"
   },
   {
    "duration": 59,
    "start_time": "2022-03-23T01:04:37.377Z"
   },
   {
    "duration": 4,
    "start_time": "2022-03-23T01:04:37.438Z"
   },
   {
    "duration": 8,
    "start_time": "2022-03-23T01:04:37.444Z"
   },
   {
    "duration": 4,
    "start_time": "2022-03-23T01:04:37.454Z"
   },
   {
    "duration": 7,
    "start_time": "2022-03-23T01:04:37.459Z"
   },
   {
    "duration": 3,
    "start_time": "2022-03-23T01:04:37.468Z"
   },
   {
    "duration": 9,
    "start_time": "2022-03-23T01:04:37.472Z"
   },
   {
    "duration": 12277,
    "start_time": "2022-03-23T01:04:37.482Z"
   },
   {
    "duration": 11,
    "start_time": "2022-03-23T01:04:49.761Z"
   },
   {
    "duration": 2,
    "start_time": "2022-03-23T01:04:49.773Z"
   },
   {
    "duration": 7,
    "start_time": "2022-03-23T01:04:49.776Z"
   },
   {
    "duration": 17,
    "start_time": "2022-03-23T01:04:49.784Z"
   },
   {
    "duration": 31,
    "start_time": "2022-03-23T01:04:49.803Z"
   },
   {
    "duration": 3,
    "start_time": "2022-03-23T01:04:49.836Z"
   },
   {
    "duration": 4,
    "start_time": "2022-03-23T01:04:49.841Z"
   },
   {
    "duration": 7,
    "start_time": "2022-03-23T01:04:49.846Z"
   },
   {
    "duration": 6,
    "start_time": "2022-03-23T01:04:49.855Z"
   },
   {
    "duration": 11785,
    "start_time": "2022-03-23T01:04:49.863Z"
   },
   {
    "duration": 4,
    "start_time": "2022-03-23T01:05:01.650Z"
   },
   {
    "duration": 15,
    "start_time": "2022-03-23T01:05:01.655Z"
   },
   {
    "duration": 24,
    "start_time": "2022-03-23T01:05:01.671Z"
   },
   {
    "duration": 14,
    "start_time": "2022-03-23T01:05:01.697Z"
   },
   {
    "duration": 22,
    "start_time": "2022-03-23T01:05:01.713Z"
   },
   {
    "duration": 8,
    "start_time": "2022-03-23T01:05:01.737Z"
   },
   {
    "duration": 22,
    "start_time": "2022-03-23T01:05:01.746Z"
   },
   {
    "duration": 26,
    "start_time": "2022-03-23T01:05:01.769Z"
   },
   {
    "duration": 43,
    "start_time": "2022-03-23T01:05:01.799Z"
   },
   {
    "duration": 4,
    "start_time": "2022-03-23T01:05:01.844Z"
   },
   {
    "duration": 14,
    "start_time": "2022-03-23T01:05:01.850Z"
   },
   {
    "duration": 6,
    "start_time": "2022-03-23T01:05:01.866Z"
   },
   {
    "duration": 23,
    "start_time": "2022-03-23T01:05:01.875Z"
   },
   {
    "duration": 341,
    "start_time": "2022-03-23T01:05:01.900Z"
   },
   {
    "duration": -162,
    "start_time": "2022-03-23T01:05:02.406Z"
   },
   {
    "duration": -166,
    "start_time": "2022-03-23T01:05:02.411Z"
   },
   {
    "duration": 3,
    "start_time": "2022-03-23T01:06:31.259Z"
   },
   {
    "duration": 5,
    "start_time": "2022-03-23T01:16:40.794Z"
   },
   {
    "duration": 15,
    "start_time": "2022-03-23T01:22:39.342Z"
   },
   {
    "duration": 5,
    "start_time": "2022-03-23T01:22:42.636Z"
   },
   {
    "duration": 8,
    "start_time": "2022-03-23T01:26:52.755Z"
   },
   {
    "duration": 8,
    "start_time": "2022-03-23T01:26:59.177Z"
   },
   {
    "duration": 60,
    "start_time": "2022-03-23T01:27:28.204Z"
   },
   {
    "duration": 61,
    "start_time": "2022-03-23T01:27:38.051Z"
   },
   {
    "duration": 5,
    "start_time": "2022-03-23T01:27:44.035Z"
   },
   {
    "duration": 6,
    "start_time": "2022-03-23T01:28:09.655Z"
   },
   {
    "duration": 5,
    "start_time": "2022-03-23T01:29:19.503Z"
   },
   {
    "duration": 219,
    "start_time": "2022-03-23T01:30:42.325Z"
   },
   {
    "duration": 207,
    "start_time": "2022-03-23T01:31:13.152Z"
   },
   {
    "duration": 205,
    "start_time": "2022-03-23T01:31:51.374Z"
   },
   {
    "duration": 205,
    "start_time": "2022-03-23T01:32:38.673Z"
   },
   {
    "duration": 283,
    "start_time": "2022-03-23T01:33:35.883Z"
   },
   {
    "duration": 310,
    "start_time": "2022-03-23T01:34:06.678Z"
   },
   {
    "duration": 295,
    "start_time": "2022-03-23T01:34:34.809Z"
   },
   {
    "duration": 291,
    "start_time": "2022-03-23T01:35:20.801Z"
   },
   {
    "duration": 10,
    "start_time": "2022-03-23T01:39:16.759Z"
   },
   {
    "duration": 11,
    "start_time": "2022-03-23T01:39:24.025Z"
   },
   {
    "duration": 5,
    "start_time": "2022-03-23T01:39:37.448Z"
   },
   {
    "duration": 6,
    "start_time": "2022-03-23T01:39:48.503Z"
   },
   {
    "duration": 5,
    "start_time": "2022-03-23T01:40:08.141Z"
   },
   {
    "duration": 5,
    "start_time": "2022-03-23T01:40:30.171Z"
   },
   {
    "duration": 3,
    "start_time": "2022-03-23T01:41:06.565Z"
   },
   {
    "duration": 12,
    "start_time": "2022-03-23T01:41:33.883Z"
   },
   {
    "duration": 13,
    "start_time": "2022-03-23T01:41:54.187Z"
   },
   {
    "duration": 15,
    "start_time": "2022-03-23T01:42:28.660Z"
   },
   {
    "duration": 175,
    "start_time": "2022-03-23T01:42:52.994Z"
   },
   {
    "duration": 15,
    "start_time": "2022-03-23T01:42:58.139Z"
   },
   {
    "duration": 19,
    "start_time": "2022-03-23T01:44:01.094Z"
   },
   {
    "duration": 26,
    "start_time": "2022-03-23T01:48:57.843Z"
   },
   {
    "duration": 26,
    "start_time": "2022-03-23T01:49:15.114Z"
   },
   {
    "duration": 53,
    "start_time": "2022-03-23T01:49:26.589Z"
   },
   {
    "duration": 40,
    "start_time": "2022-03-23T01:49:54.654Z"
   },
   {
    "duration": 38,
    "start_time": "2022-03-23T01:50:15.550Z"
   },
   {
    "duration": 192,
    "start_time": "2022-03-23T01:52:18.622Z"
   },
   {
    "duration": 189,
    "start_time": "2022-03-23T01:54:31.112Z"
   },
   {
    "duration": 189,
    "start_time": "2022-03-23T01:55:03.522Z"
   },
   {
    "duration": 226,
    "start_time": "2022-03-23T01:55:16.987Z"
   },
   {
    "duration": 62,
    "start_time": "2022-03-23T01:57:41.505Z"
   },
   {
    "duration": 43,
    "start_time": "2022-03-23T01:57:47.345Z"
   },
   {
    "duration": 42,
    "start_time": "2022-03-23T01:58:31.048Z"
   },
   {
    "duration": 36,
    "start_time": "2022-03-23T01:58:54.527Z"
   },
   {
    "duration": 37,
    "start_time": "2022-03-23T01:59:18.551Z"
   },
   {
    "duration": 37,
    "start_time": "2022-03-23T01:59:27.019Z"
   },
   {
    "duration": 58,
    "start_time": "2022-03-23T02:06:06.126Z"
   },
   {
    "duration": 42,
    "start_time": "2022-03-23T02:06:10.030Z"
   },
   {
    "duration": 44,
    "start_time": "2022-03-23T02:06:30.405Z"
   },
   {
    "duration": 39,
    "start_time": "2022-03-23T02:06:53.857Z"
   },
   {
    "duration": 40,
    "start_time": "2022-03-23T02:07:27.229Z"
   },
   {
    "duration": 42,
    "start_time": "2022-03-23T02:07:41.991Z"
   },
   {
    "duration": 206,
    "start_time": "2022-03-23T02:07:50.223Z"
   },
   {
    "duration": 34,
    "start_time": "2022-03-23T02:08:03.339Z"
   },
   {
    "duration": 34,
    "start_time": "2022-03-23T02:08:06.664Z"
   },
   {
    "duration": 34,
    "start_time": "2022-03-23T02:08:16.889Z"
   },
   {
    "duration": 33,
    "start_time": "2022-03-23T02:08:31.896Z"
   },
   {
    "duration": 42,
    "start_time": "2022-03-23T02:08:48.354Z"
   },
   {
    "duration": 30,
    "start_time": "2022-03-23T02:11:51.746Z"
   },
   {
    "duration": 44,
    "start_time": "2022-03-23T02:11:57.570Z"
   },
   {
    "duration": 31,
    "start_time": "2022-03-23T02:12:01.057Z"
   },
   {
    "duration": 13,
    "start_time": "2022-03-23T02:13:17.785Z"
   },
   {
    "duration": 41,
    "start_time": "2022-03-23T02:13:55.306Z"
   },
   {
    "duration": 47,
    "start_time": "2022-03-23T02:14:00.870Z"
   },
   {
    "duration": 630,
    "start_time": "2022-03-23T02:14:13.150Z"
   },
   {
    "duration": 10,
    "start_time": "2022-03-23T02:14:13.782Z"
   },
   {
    "duration": 8,
    "start_time": "2022-03-23T02:14:13.794Z"
   },
   {
    "duration": 14,
    "start_time": "2022-03-23T02:14:13.804Z"
   },
   {
    "duration": 14,
    "start_time": "2022-03-23T02:14:13.833Z"
   },
   {
    "duration": 29,
    "start_time": "2022-03-23T02:14:13.849Z"
   },
   {
    "duration": 14,
    "start_time": "2022-03-23T02:14:13.880Z"
   },
   {
    "duration": 50,
    "start_time": "2022-03-23T02:14:13.897Z"
   },
   {
    "duration": 28,
    "start_time": "2022-03-23T02:14:13.949Z"
   },
   {
    "duration": 9,
    "start_time": "2022-03-23T02:14:13.978Z"
   },
   {
    "duration": 13,
    "start_time": "2022-03-23T02:14:13.989Z"
   },
   {
    "duration": 39,
    "start_time": "2022-03-23T02:14:14.004Z"
   },
   {
    "duration": 22,
    "start_time": "2022-03-23T02:14:14.044Z"
   },
   {
    "duration": 10,
    "start_time": "2022-03-23T02:14:14.068Z"
   },
   {
    "duration": 8,
    "start_time": "2022-03-23T02:14:14.080Z"
   },
   {
    "duration": 7,
    "start_time": "2022-03-23T02:14:14.090Z"
   },
   {
    "duration": 7,
    "start_time": "2022-03-23T02:14:14.099Z"
   },
   {
    "duration": 46,
    "start_time": "2022-03-23T02:14:14.108Z"
   },
   {
    "duration": 11,
    "start_time": "2022-03-23T02:14:14.155Z"
   },
   {
    "duration": 66,
    "start_time": "2022-03-23T02:14:14.168Z"
   },
   {
    "duration": 5,
    "start_time": "2022-03-23T02:14:14.236Z"
   },
   {
    "duration": 15,
    "start_time": "2022-03-23T02:14:14.243Z"
   },
   {
    "duration": 4,
    "start_time": "2022-03-23T02:14:14.262Z"
   },
   {
    "duration": 11,
    "start_time": "2022-03-23T02:14:14.269Z"
   },
   {
    "duration": 12,
    "start_time": "2022-03-23T02:14:14.282Z"
   },
   {
    "duration": 10,
    "start_time": "2022-03-23T02:14:14.296Z"
   },
   {
    "duration": 33,
    "start_time": "2022-03-23T02:14:14.308Z"
   },
   {
    "duration": 8,
    "start_time": "2022-03-23T02:14:14.343Z"
   },
   {
    "duration": 9,
    "start_time": "2022-03-23T02:14:14.353Z"
   },
   {
    "duration": 12,
    "start_time": "2022-03-23T02:14:14.363Z"
   },
   {
    "duration": 21,
    "start_time": "2022-03-23T02:14:14.377Z"
   },
   {
    "duration": 7,
    "start_time": "2022-03-23T02:14:14.400Z"
   },
   {
    "duration": 77,
    "start_time": "2022-03-23T02:14:14.409Z"
   },
   {
    "duration": 49,
    "start_time": "2022-03-23T02:14:14.488Z"
   },
   {
    "duration": 22,
    "start_time": "2022-03-23T02:14:14.538Z"
   },
   {
    "duration": 10,
    "start_time": "2022-03-23T02:14:14.562Z"
   },
   {
    "duration": 12,
    "start_time": "2022-03-23T02:14:14.573Z"
   },
   {
    "duration": 8,
    "start_time": "2022-03-23T02:14:14.586Z"
   },
   {
    "duration": 11,
    "start_time": "2022-03-23T02:14:14.595Z"
   },
   {
    "duration": 26,
    "start_time": "2022-03-23T02:14:14.608Z"
   },
   {
    "duration": 7,
    "start_time": "2022-03-23T02:14:14.636Z"
   },
   {
    "duration": 50,
    "start_time": "2022-03-23T02:14:14.644Z"
   },
   {
    "duration": 4,
    "start_time": "2022-03-23T02:14:14.695Z"
   },
   {
    "duration": 7,
    "start_time": "2022-03-23T02:14:14.701Z"
   },
   {
    "duration": 5,
    "start_time": "2022-03-23T02:14:14.709Z"
   },
   {
    "duration": 6,
    "start_time": "2022-03-23T02:14:14.734Z"
   },
   {
    "duration": 4,
    "start_time": "2022-03-23T02:14:14.742Z"
   },
   {
    "duration": 6,
    "start_time": "2022-03-23T02:14:14.748Z"
   },
   {
    "duration": 11957,
    "start_time": "2022-03-23T02:14:14.756Z"
   },
   {
    "duration": 20,
    "start_time": "2022-03-23T02:14:26.715Z"
   },
   {
    "duration": 10,
    "start_time": "2022-03-23T02:14:26.736Z"
   },
   {
    "duration": 3,
    "start_time": "2022-03-23T02:14:26.748Z"
   },
   {
    "duration": 13,
    "start_time": "2022-03-23T02:14:26.753Z"
   },
   {
    "duration": 12,
    "start_time": "2022-03-23T02:14:26.768Z"
   },
   {
    "duration": 4,
    "start_time": "2022-03-23T02:14:26.781Z"
   },
   {
    "duration": 4,
    "start_time": "2022-03-23T02:14:26.787Z"
   },
   {
    "duration": 13,
    "start_time": "2022-03-23T02:14:26.792Z"
   },
   {
    "duration": 5,
    "start_time": "2022-03-23T02:14:26.832Z"
   },
   {
    "duration": 11768,
    "start_time": "2022-03-23T02:14:26.839Z"
   },
   {
    "duration": 5,
    "start_time": "2022-03-23T02:14:38.608Z"
   },
   {
    "duration": 4,
    "start_time": "2022-03-23T02:14:38.614Z"
   },
   {
    "duration": 20,
    "start_time": "2022-03-23T02:14:38.620Z"
   },
   {
    "duration": 6,
    "start_time": "2022-03-23T02:14:38.642Z"
   },
   {
    "duration": 11,
    "start_time": "2022-03-23T02:14:38.650Z"
   },
   {
    "duration": 7,
    "start_time": "2022-03-23T02:14:38.662Z"
   },
   {
    "duration": 19,
    "start_time": "2022-03-23T02:14:38.670Z"
   },
   {
    "duration": 46,
    "start_time": "2022-03-23T02:14:38.691Z"
   },
   {
    "duration": 24,
    "start_time": "2022-03-23T02:14:38.742Z"
   },
   {
    "duration": 3,
    "start_time": "2022-03-23T02:14:38.768Z"
   },
   {
    "duration": 13,
    "start_time": "2022-03-23T02:14:38.773Z"
   },
   {
    "duration": 8,
    "start_time": "2022-03-23T02:14:38.788Z"
   },
   {
    "duration": 42,
    "start_time": "2022-03-23T02:14:38.798Z"
   },
   {
    "duration": 242,
    "start_time": "2022-03-23T02:14:38.841Z"
   },
   {
    "duration": -92,
    "start_time": "2022-03-23T02:14:39.177Z"
   },
   {
    "duration": -95,
    "start_time": "2022-03-23T02:14:39.181Z"
   },
   {
    "duration": 14,
    "start_time": "2022-03-23T02:15:41.264Z"
   },
   {
    "duration": 13,
    "start_time": "2022-03-23T02:16:03.962Z"
   },
   {
    "duration": 49,
    "start_time": "2022-03-23T14:31:04.455Z"
   },
   {
    "duration": 497,
    "start_time": "2022-03-23T14:31:11.969Z"
   },
   {
    "duration": 16,
    "start_time": "2022-03-23T14:31:12.469Z"
   },
   {
    "duration": 11,
    "start_time": "2022-03-23T14:31:12.487Z"
   },
   {
    "duration": 23,
    "start_time": "2022-03-23T14:31:12.500Z"
   },
   {
    "duration": 12,
    "start_time": "2022-03-23T14:31:12.525Z"
   },
   {
    "duration": 50,
    "start_time": "2022-03-23T14:31:12.539Z"
   },
   {
    "duration": 22,
    "start_time": "2022-03-23T14:31:12.591Z"
   },
   {
    "duration": 59,
    "start_time": "2022-03-23T14:31:12.615Z"
   },
   {
    "duration": 2566,
    "start_time": "2022-03-23T14:31:12.677Z"
   },
   {
    "duration": 0,
    "start_time": "2022-03-23T14:31:15.247Z"
   },
   {
    "duration": 0,
    "start_time": "2022-03-23T14:31:15.248Z"
   },
   {
    "duration": 0,
    "start_time": "2022-03-23T14:31:15.249Z"
   },
   {
    "duration": 0,
    "start_time": "2022-03-23T14:31:15.250Z"
   },
   {
    "duration": 0,
    "start_time": "2022-03-23T14:31:15.252Z"
   },
   {
    "duration": 0,
    "start_time": "2022-03-23T14:31:15.253Z"
   },
   {
    "duration": 0,
    "start_time": "2022-03-23T14:31:15.254Z"
   },
   {
    "duration": 0,
    "start_time": "2022-03-23T14:31:15.256Z"
   },
   {
    "duration": 0,
    "start_time": "2022-03-23T14:31:15.257Z"
   },
   {
    "duration": 0,
    "start_time": "2022-03-23T14:31:15.258Z"
   },
   {
    "duration": 0,
    "start_time": "2022-03-23T14:31:15.259Z"
   },
   {
    "duration": 0,
    "start_time": "2022-03-23T14:31:15.260Z"
   },
   {
    "duration": 0,
    "start_time": "2022-03-23T14:31:15.262Z"
   },
   {
    "duration": 0,
    "start_time": "2022-03-23T14:31:15.263Z"
   },
   {
    "duration": 0,
    "start_time": "2022-03-23T14:31:15.264Z"
   },
   {
    "duration": 0,
    "start_time": "2022-03-23T14:31:15.265Z"
   },
   {
    "duration": 0,
    "start_time": "2022-03-23T14:31:15.265Z"
   },
   {
    "duration": 0,
    "start_time": "2022-03-23T14:31:15.267Z"
   },
   {
    "duration": 0,
    "start_time": "2022-03-23T14:31:15.268Z"
   },
   {
    "duration": 0,
    "start_time": "2022-03-23T14:31:15.269Z"
   },
   {
    "duration": 0,
    "start_time": "2022-03-23T14:31:15.270Z"
   },
   {
    "duration": 0,
    "start_time": "2022-03-23T14:31:15.271Z"
   },
   {
    "duration": 0,
    "start_time": "2022-03-23T14:31:15.272Z"
   },
   {
    "duration": 0,
    "start_time": "2022-03-23T14:31:15.273Z"
   },
   {
    "duration": 0,
    "start_time": "2022-03-23T14:31:15.274Z"
   },
   {
    "duration": 0,
    "start_time": "2022-03-23T14:31:15.275Z"
   },
   {
    "duration": 0,
    "start_time": "2022-03-23T14:31:15.276Z"
   },
   {
    "duration": 1,
    "start_time": "2022-03-23T14:31:15.276Z"
   },
   {
    "duration": 0,
    "start_time": "2022-03-23T14:31:15.278Z"
   },
   {
    "duration": 0,
    "start_time": "2022-03-23T14:31:15.278Z"
   },
   {
    "duration": 0,
    "start_time": "2022-03-23T14:31:15.279Z"
   },
   {
    "duration": 0,
    "start_time": "2022-03-23T14:31:15.280Z"
   },
   {
    "duration": 0,
    "start_time": "2022-03-23T14:31:15.281Z"
   },
   {
    "duration": 0,
    "start_time": "2022-03-23T14:31:15.282Z"
   },
   {
    "duration": 0,
    "start_time": "2022-03-23T14:31:15.283Z"
   },
   {
    "duration": 0,
    "start_time": "2022-03-23T14:31:15.284Z"
   },
   {
    "duration": 0,
    "start_time": "2022-03-23T14:31:15.286Z"
   },
   {
    "duration": 0,
    "start_time": "2022-03-23T14:31:15.287Z"
   },
   {
    "duration": 0,
    "start_time": "2022-03-23T14:31:15.288Z"
   },
   {
    "duration": 0,
    "start_time": "2022-03-23T14:31:15.289Z"
   },
   {
    "duration": 0,
    "start_time": "2022-03-23T14:31:15.290Z"
   },
   {
    "duration": 0,
    "start_time": "2022-03-23T14:31:15.291Z"
   },
   {
    "duration": 0,
    "start_time": "2022-03-23T14:31:15.292Z"
   },
   {
    "duration": 0,
    "start_time": "2022-03-23T14:31:15.293Z"
   },
   {
    "duration": 0,
    "start_time": "2022-03-23T14:31:15.294Z"
   },
   {
    "duration": 0,
    "start_time": "2022-03-23T14:31:15.295Z"
   },
   {
    "duration": 0,
    "start_time": "2022-03-23T14:31:15.296Z"
   },
   {
    "duration": 0,
    "start_time": "2022-03-23T14:31:15.297Z"
   },
   {
    "duration": 0,
    "start_time": "2022-03-23T14:31:15.298Z"
   },
   {
    "duration": 0,
    "start_time": "2022-03-23T14:31:15.300Z"
   },
   {
    "duration": 0,
    "start_time": "2022-03-23T14:31:15.363Z"
   },
   {
    "duration": 0,
    "start_time": "2022-03-23T14:31:15.364Z"
   },
   {
    "duration": 0,
    "start_time": "2022-03-23T14:31:15.365Z"
   },
   {
    "duration": 0,
    "start_time": "2022-03-23T14:31:15.366Z"
   },
   {
    "duration": 0,
    "start_time": "2022-03-23T14:31:15.367Z"
   },
   {
    "duration": 0,
    "start_time": "2022-03-23T14:31:15.368Z"
   },
   {
    "duration": 0,
    "start_time": "2022-03-23T14:31:15.369Z"
   },
   {
    "duration": 0,
    "start_time": "2022-03-23T14:31:15.371Z"
   },
   {
    "duration": 0,
    "start_time": "2022-03-23T14:31:15.372Z"
   },
   {
    "duration": 0,
    "start_time": "2022-03-23T14:31:15.373Z"
   },
   {
    "duration": 0,
    "start_time": "2022-03-23T14:31:15.375Z"
   },
   {
    "duration": 0,
    "start_time": "2022-03-23T14:31:15.376Z"
   },
   {
    "duration": 0,
    "start_time": "2022-03-23T14:31:15.377Z"
   },
   {
    "duration": 0,
    "start_time": "2022-03-23T14:31:15.379Z"
   },
   {
    "duration": 0,
    "start_time": "2022-03-23T14:31:15.381Z"
   },
   {
    "duration": 0,
    "start_time": "2022-03-23T14:31:15.382Z"
   },
   {
    "duration": 22,
    "start_time": "2022-03-23T14:32:12.722Z"
   },
   {
    "duration": 47,
    "start_time": "2022-03-23T14:32:46.780Z"
   },
   {
    "duration": 40,
    "start_time": "2022-03-23T14:35:00.551Z"
   },
   {
    "duration": 76,
    "start_time": "2022-03-23T18:35:21.966Z"
   },
   {
    "duration": 1056,
    "start_time": "2022-03-23T18:35:31.561Z"
   },
   {
    "duration": 14,
    "start_time": "2022-03-23T18:35:32.619Z"
   },
   {
    "duration": 7,
    "start_time": "2022-03-23T18:35:32.634Z"
   },
   {
    "duration": 17,
    "start_time": "2022-03-23T18:35:32.643Z"
   },
   {
    "duration": 11,
    "start_time": "2022-03-23T18:35:32.662Z"
   },
   {
    "duration": 53,
    "start_time": "2022-03-23T18:35:32.675Z"
   },
   {
    "duration": 16,
    "start_time": "2022-03-23T18:35:32.729Z"
   },
   {
    "duration": 22,
    "start_time": "2022-03-23T18:35:32.747Z"
   },
   {
    "duration": 278,
    "start_time": "2022-03-23T18:35:32.770Z"
   },
   {
    "duration": 0,
    "start_time": "2022-03-23T18:35:33.051Z"
   },
   {
    "duration": 0,
    "start_time": "2022-03-23T18:35:33.052Z"
   },
   {
    "duration": 0,
    "start_time": "2022-03-23T18:35:33.054Z"
   },
   {
    "duration": 0,
    "start_time": "2022-03-23T18:35:33.055Z"
   },
   {
    "duration": 0,
    "start_time": "2022-03-23T18:35:33.056Z"
   },
   {
    "duration": 0,
    "start_time": "2022-03-23T18:35:33.057Z"
   },
   {
    "duration": 0,
    "start_time": "2022-03-23T18:35:33.058Z"
   },
   {
    "duration": 0,
    "start_time": "2022-03-23T18:35:33.059Z"
   },
   {
    "duration": 0,
    "start_time": "2022-03-23T18:35:33.060Z"
   },
   {
    "duration": 0,
    "start_time": "2022-03-23T18:35:33.061Z"
   },
   {
    "duration": 0,
    "start_time": "2022-03-23T18:35:33.062Z"
   },
   {
    "duration": 0,
    "start_time": "2022-03-23T18:35:33.063Z"
   },
   {
    "duration": 0,
    "start_time": "2022-03-23T18:35:33.064Z"
   },
   {
    "duration": 0,
    "start_time": "2022-03-23T18:35:33.065Z"
   },
   {
    "duration": 0,
    "start_time": "2022-03-23T18:35:33.066Z"
   },
   {
    "duration": 0,
    "start_time": "2022-03-23T18:35:33.067Z"
   },
   {
    "duration": 0,
    "start_time": "2022-03-23T18:35:33.068Z"
   },
   {
    "duration": 0,
    "start_time": "2022-03-23T18:35:33.069Z"
   },
   {
    "duration": 0,
    "start_time": "2022-03-23T18:35:33.070Z"
   },
   {
    "duration": 0,
    "start_time": "2022-03-23T18:35:33.071Z"
   },
   {
    "duration": 0,
    "start_time": "2022-03-23T18:35:33.071Z"
   },
   {
    "duration": 0,
    "start_time": "2022-03-23T18:35:33.072Z"
   },
   {
    "duration": 0,
    "start_time": "2022-03-23T18:35:33.073Z"
   },
   {
    "duration": 0,
    "start_time": "2022-03-23T18:35:33.074Z"
   },
   {
    "duration": 0,
    "start_time": "2022-03-23T18:35:33.075Z"
   },
   {
    "duration": 0,
    "start_time": "2022-03-23T18:35:33.076Z"
   },
   {
    "duration": 0,
    "start_time": "2022-03-23T18:35:33.077Z"
   },
   {
    "duration": 0,
    "start_time": "2022-03-23T18:35:33.078Z"
   },
   {
    "duration": 0,
    "start_time": "2022-03-23T18:35:33.079Z"
   },
   {
    "duration": 0,
    "start_time": "2022-03-23T18:35:33.079Z"
   },
   {
    "duration": 0,
    "start_time": "2022-03-23T18:35:33.080Z"
   },
   {
    "duration": 0,
    "start_time": "2022-03-23T18:35:33.081Z"
   },
   {
    "duration": 0,
    "start_time": "2022-03-23T18:35:33.082Z"
   },
   {
    "duration": 0,
    "start_time": "2022-03-23T18:35:33.082Z"
   },
   {
    "duration": 0,
    "start_time": "2022-03-23T18:35:33.083Z"
   },
   {
    "duration": 0,
    "start_time": "2022-03-23T18:35:33.084Z"
   },
   {
    "duration": 0,
    "start_time": "2022-03-23T18:35:33.084Z"
   },
   {
    "duration": 0,
    "start_time": "2022-03-23T18:35:33.085Z"
   },
   {
    "duration": 0,
    "start_time": "2022-03-23T18:35:33.086Z"
   },
   {
    "duration": 0,
    "start_time": "2022-03-23T18:35:33.087Z"
   },
   {
    "duration": 0,
    "start_time": "2022-03-23T18:35:33.087Z"
   },
   {
    "duration": 0,
    "start_time": "2022-03-23T18:35:33.100Z"
   },
   {
    "duration": 0,
    "start_time": "2022-03-23T18:35:33.101Z"
   },
   {
    "duration": 0,
    "start_time": "2022-03-23T18:35:33.102Z"
   },
   {
    "duration": 0,
    "start_time": "2022-03-23T18:35:33.103Z"
   },
   {
    "duration": 0,
    "start_time": "2022-03-23T18:35:33.104Z"
   },
   {
    "duration": 0,
    "start_time": "2022-03-23T18:35:33.105Z"
   },
   {
    "duration": 0,
    "start_time": "2022-03-23T18:35:33.107Z"
   },
   {
    "duration": 0,
    "start_time": "2022-03-23T18:35:33.107Z"
   },
   {
    "duration": 0,
    "start_time": "2022-03-23T18:35:33.108Z"
   },
   {
    "duration": 0,
    "start_time": "2022-03-23T18:35:33.109Z"
   },
   {
    "duration": 0,
    "start_time": "2022-03-23T18:35:33.110Z"
   },
   {
    "duration": 0,
    "start_time": "2022-03-23T18:35:33.111Z"
   },
   {
    "duration": 0,
    "start_time": "2022-03-23T18:35:33.112Z"
   },
   {
    "duration": 0,
    "start_time": "2022-03-23T18:35:33.113Z"
   },
   {
    "duration": 0,
    "start_time": "2022-03-23T18:35:33.114Z"
   },
   {
    "duration": 0,
    "start_time": "2022-03-23T18:35:33.114Z"
   },
   {
    "duration": 0,
    "start_time": "2022-03-23T18:35:33.115Z"
   },
   {
    "duration": 0,
    "start_time": "2022-03-23T18:35:33.116Z"
   },
   {
    "duration": 0,
    "start_time": "2022-03-23T18:35:33.117Z"
   },
   {
    "duration": 0,
    "start_time": "2022-03-23T18:35:33.118Z"
   },
   {
    "duration": 0,
    "start_time": "2022-03-23T18:35:33.119Z"
   },
   {
    "duration": 0,
    "start_time": "2022-03-23T18:35:33.120Z"
   },
   {
    "duration": 0,
    "start_time": "2022-03-23T18:35:33.121Z"
   },
   {
    "duration": 0,
    "start_time": "2022-03-23T18:35:33.122Z"
   },
   {
    "duration": 0,
    "start_time": "2022-03-23T18:35:33.123Z"
   },
   {
    "duration": 4,
    "start_time": "2022-03-23T18:35:44.167Z"
   },
   {
    "duration": 15,
    "start_time": "2022-03-23T18:35:48.634Z"
   },
   {
    "duration": 5,
    "start_time": "2022-03-23T18:36:28.128Z"
   },
   {
    "duration": 16,
    "start_time": "2022-03-23T18:37:03.755Z"
   },
   {
    "duration": 17,
    "start_time": "2022-03-23T18:37:49.532Z"
   },
   {
    "duration": 5,
    "start_time": "2022-03-23T18:38:28.418Z"
   },
   {
    "duration": 6,
    "start_time": "2022-03-23T18:38:53.394Z"
   },
   {
    "duration": 14,
    "start_time": "2022-03-23T18:40:45.286Z"
   },
   {
    "duration": 9,
    "start_time": "2022-03-23T18:41:12.215Z"
   },
   {
    "duration": 5,
    "start_time": "2022-03-23T18:41:19.165Z"
   },
   {
    "duration": 60,
    "start_time": "2022-03-23T18:41:21.670Z"
   },
   {
    "duration": 9,
    "start_time": "2022-03-23T18:41:29.390Z"
   },
   {
    "duration": 4,
    "start_time": "2022-03-23T18:41:32.053Z"
   },
   {
    "duration": 3,
    "start_time": "2022-03-23T18:41:34.765Z"
   },
   {
    "duration": 6,
    "start_time": "2022-03-23T18:41:37.453Z"
   },
   {
    "duration": 4,
    "start_time": "2022-03-23T18:41:48.782Z"
   },
   {
    "duration": 4,
    "start_time": "2022-03-23T18:41:50.802Z"
   },
   {
    "duration": 456,
    "start_time": "2022-03-23T18:42:00.337Z"
   },
   {
    "duration": 16,
    "start_time": "2022-03-23T18:42:00.795Z"
   },
   {
    "duration": 21,
    "start_time": "2022-03-23T18:42:00.813Z"
   },
   {
    "duration": 33,
    "start_time": "2022-03-23T18:42:00.837Z"
   },
   {
    "duration": 14,
    "start_time": "2022-03-23T18:42:00.871Z"
   },
   {
    "duration": 28,
    "start_time": "2022-03-23T18:42:00.886Z"
   },
   {
    "duration": 15,
    "start_time": "2022-03-23T18:42:00.916Z"
   },
   {
    "duration": 29,
    "start_time": "2022-03-23T18:42:00.932Z"
   },
   {
    "duration": 202,
    "start_time": "2022-03-23T18:42:00.963Z"
   },
   {
    "duration": 0,
    "start_time": "2022-03-23T18:42:01.169Z"
   },
   {
    "duration": 0,
    "start_time": "2022-03-23T18:42:01.170Z"
   },
   {
    "duration": 0,
    "start_time": "2022-03-23T18:42:01.171Z"
   },
   {
    "duration": 0,
    "start_time": "2022-03-23T18:42:01.172Z"
   },
   {
    "duration": 0,
    "start_time": "2022-03-23T18:42:01.174Z"
   },
   {
    "duration": 0,
    "start_time": "2022-03-23T18:42:01.175Z"
   },
   {
    "duration": 0,
    "start_time": "2022-03-23T18:42:01.176Z"
   },
   {
    "duration": 0,
    "start_time": "2022-03-23T18:42:01.177Z"
   },
   {
    "duration": 0,
    "start_time": "2022-03-23T18:42:01.177Z"
   },
   {
    "duration": 0,
    "start_time": "2022-03-23T18:42:01.178Z"
   },
   {
    "duration": 0,
    "start_time": "2022-03-23T18:42:01.179Z"
   },
   {
    "duration": 0,
    "start_time": "2022-03-23T18:42:01.180Z"
   },
   {
    "duration": 0,
    "start_time": "2022-03-23T18:42:01.181Z"
   },
   {
    "duration": 0,
    "start_time": "2022-03-23T18:42:01.183Z"
   },
   {
    "duration": 0,
    "start_time": "2022-03-23T18:42:01.184Z"
   },
   {
    "duration": 0,
    "start_time": "2022-03-23T18:42:01.185Z"
   },
   {
    "duration": 0,
    "start_time": "2022-03-23T18:42:01.186Z"
   },
   {
    "duration": 0,
    "start_time": "2022-03-23T18:42:01.187Z"
   },
   {
    "duration": 0,
    "start_time": "2022-03-23T18:42:01.189Z"
   },
   {
    "duration": 0,
    "start_time": "2022-03-23T18:42:01.189Z"
   },
   {
    "duration": 0,
    "start_time": "2022-03-23T18:42:01.190Z"
   },
   {
    "duration": 0,
    "start_time": "2022-03-23T18:42:01.191Z"
   },
   {
    "duration": 0,
    "start_time": "2022-03-23T18:42:01.192Z"
   },
   {
    "duration": 0,
    "start_time": "2022-03-23T18:42:01.193Z"
   },
   {
    "duration": 0,
    "start_time": "2022-03-23T18:42:01.194Z"
   },
   {
    "duration": 0,
    "start_time": "2022-03-23T18:42:01.195Z"
   },
   {
    "duration": 0,
    "start_time": "2022-03-23T18:42:01.196Z"
   },
   {
    "duration": 0,
    "start_time": "2022-03-23T18:42:01.197Z"
   },
   {
    "duration": 0,
    "start_time": "2022-03-23T18:42:01.199Z"
   },
   {
    "duration": 0,
    "start_time": "2022-03-23T18:42:01.200Z"
   },
   {
    "duration": 0,
    "start_time": "2022-03-23T18:42:01.201Z"
   },
   {
    "duration": 0,
    "start_time": "2022-03-23T18:42:01.202Z"
   },
   {
    "duration": 0,
    "start_time": "2022-03-23T18:42:01.203Z"
   },
   {
    "duration": 0,
    "start_time": "2022-03-23T18:42:01.204Z"
   },
   {
    "duration": 0,
    "start_time": "2022-03-23T18:42:01.205Z"
   },
   {
    "duration": 0,
    "start_time": "2022-03-23T18:42:01.206Z"
   },
   {
    "duration": 0,
    "start_time": "2022-03-23T18:42:01.207Z"
   },
   {
    "duration": 0,
    "start_time": "2022-03-23T18:42:01.208Z"
   },
   {
    "duration": 0,
    "start_time": "2022-03-23T18:42:01.210Z"
   },
   {
    "duration": 0,
    "start_time": "2022-03-23T18:42:01.211Z"
   },
   {
    "duration": 0,
    "start_time": "2022-03-23T18:42:01.212Z"
   },
   {
    "duration": 0,
    "start_time": "2022-03-23T18:42:01.214Z"
   },
   {
    "duration": 0,
    "start_time": "2022-03-23T18:42:01.215Z"
   },
   {
    "duration": 0,
    "start_time": "2022-03-23T18:42:01.216Z"
   },
   {
    "duration": 0,
    "start_time": "2022-03-23T18:42:01.218Z"
   },
   {
    "duration": 0,
    "start_time": "2022-03-23T18:42:01.219Z"
   },
   {
    "duration": 0,
    "start_time": "2022-03-23T18:42:01.221Z"
   },
   {
    "duration": 0,
    "start_time": "2022-03-23T18:42:01.222Z"
   },
   {
    "duration": 0,
    "start_time": "2022-03-23T18:42:01.223Z"
   },
   {
    "duration": 0,
    "start_time": "2022-03-23T18:42:01.224Z"
   },
   {
    "duration": 0,
    "start_time": "2022-03-23T18:42:01.226Z"
   },
   {
    "duration": 0,
    "start_time": "2022-03-23T18:42:01.227Z"
   },
   {
    "duration": 1,
    "start_time": "2022-03-23T18:42:01.228Z"
   },
   {
    "duration": 0,
    "start_time": "2022-03-23T18:42:01.230Z"
   },
   {
    "duration": 1,
    "start_time": "2022-03-23T18:42:01.231Z"
   },
   {
    "duration": 0,
    "start_time": "2022-03-23T18:42:01.233Z"
   },
   {
    "duration": 0,
    "start_time": "2022-03-23T18:42:01.234Z"
   },
   {
    "duration": 0,
    "start_time": "2022-03-23T18:42:01.236Z"
   },
   {
    "duration": 0,
    "start_time": "2022-03-23T18:42:01.237Z"
   },
   {
    "duration": 0,
    "start_time": "2022-03-23T18:42:01.239Z"
   },
   {
    "duration": 0,
    "start_time": "2022-03-23T18:42:01.240Z"
   },
   {
    "duration": 0,
    "start_time": "2022-03-23T18:42:01.241Z"
   },
   {
    "duration": 0,
    "start_time": "2022-03-23T18:42:01.243Z"
   },
   {
    "duration": 0,
    "start_time": "2022-03-23T18:42:01.300Z"
   },
   {
    "duration": 0,
    "start_time": "2022-03-23T18:42:01.302Z"
   },
   {
    "duration": 0,
    "start_time": "2022-03-23T18:42:01.303Z"
   },
   {
    "duration": 38,
    "start_time": "2022-03-23T18:42:20.360Z"
   },
   {
    "duration": 9,
    "start_time": "2022-03-23T18:42:27.136Z"
   },
   {
    "duration": 13,
    "start_time": "2022-03-23T18:42:33.339Z"
   },
   {
    "duration": 13,
    "start_time": "2022-03-23T18:42:37.369Z"
   },
   {
    "duration": 17,
    "start_time": "2022-03-23T18:42:40.693Z"
   },
   {
    "duration": 5,
    "start_time": "2022-03-23T18:42:42.881Z"
   },
   {
    "duration": 5,
    "start_time": "2022-03-23T18:42:45.085Z"
   },
   {
    "duration": 4,
    "start_time": "2022-03-23T18:42:48.274Z"
   },
   {
    "duration": 4,
    "start_time": "2022-03-23T18:42:51.678Z"
   },
   {
    "duration": 4,
    "start_time": "2022-03-23T18:42:54.611Z"
   },
   {
    "duration": 20,
    "start_time": "2022-03-23T18:42:58.909Z"
   },
   {
    "duration": 16,
    "start_time": "2022-03-23T18:43:03.455Z"
   },
   {
    "duration": 14,
    "start_time": "2022-03-23T18:43:20.505Z"
   },
   {
    "duration": 4,
    "start_time": "2022-03-23T18:44:28.411Z"
   },
   {
    "duration": 5,
    "start_time": "2022-03-23T18:45:16.900Z"
   },
   {
    "duration": 4,
    "start_time": "2022-03-23T18:45:38.174Z"
   },
   {
    "duration": 4,
    "start_time": "2022-03-23T18:45:40.721Z"
   },
   {
    "duration": 11,
    "start_time": "2022-03-23T18:46:04.598Z"
   },
   {
    "duration": 23,
    "start_time": "2022-03-23T18:46:15.464Z"
   },
   {
    "duration": 7,
    "start_time": "2022-03-23T18:46:17.290Z"
   },
   {
    "duration": 7,
    "start_time": "2022-03-23T18:46:19.267Z"
   },
   {
    "duration": 8,
    "start_time": "2022-03-23T18:46:21.807Z"
   },
   {
    "duration": 18,
    "start_time": "2022-03-23T18:46:26.022Z"
   },
   {
    "duration": 7,
    "start_time": "2022-03-23T18:46:28.394Z"
   },
   {
    "duration": 120,
    "start_time": "2022-03-23T18:46:41.181Z"
   },
   {
    "duration": 50,
    "start_time": "2022-03-23T18:46:42.996Z"
   },
   {
    "duration": 33,
    "start_time": "2022-03-23T18:46:46.733Z"
   },
   {
    "duration": 22,
    "start_time": "2022-03-23T18:46:48.428Z"
   },
   {
    "duration": 13,
    "start_time": "2022-03-23T18:46:50.909Z"
   },
   {
    "duration": 15,
    "start_time": "2022-03-23T18:46:53.348Z"
   },
   {
    "duration": 4,
    "start_time": "2022-03-23T18:46:56.162Z"
   },
   {
    "duration": 5,
    "start_time": "2022-03-23T18:46:58.727Z"
   },
   {
    "duration": 196,
    "start_time": "2022-03-23T18:47:00.648Z"
   },
   {
    "duration": 10,
    "start_time": "2022-03-23T18:47:03.709Z"
   },
   {
    "duration": 34,
    "start_time": "2022-03-23T18:47:05.919Z"
   },
   {
    "duration": 26,
    "start_time": "2022-03-23T18:48:43.749Z"
   },
   {
    "duration": 25,
    "start_time": "2022-03-23T18:49:01.099Z"
   },
   {
    "duration": 9,
    "start_time": "2022-03-23T18:49:04.168Z"
   },
   {
    "duration": 37,
    "start_time": "2022-03-23T18:49:06.282Z"
   },
   {
    "duration": 56,
    "start_time": "2022-03-23T18:49:09.102Z"
   },
   {
    "duration": 32,
    "start_time": "2022-03-23T18:49:25.055Z"
   },
   {
    "duration": 9,
    "start_time": "2022-03-23T18:49:26.582Z"
   },
   {
    "duration": 23,
    "start_time": "2022-03-23T18:49:28.993Z"
   },
   {
    "duration": 36,
    "start_time": "2022-03-23T18:49:59.638Z"
   },
   {
    "duration": 23,
    "start_time": "2022-03-23T18:50:02.785Z"
   },
   {
    "duration": 24,
    "start_time": "2022-03-23T18:50:08.816Z"
   },
   {
    "duration": 8,
    "start_time": "2022-03-23T18:50:11.715Z"
   },
   {
    "duration": 7,
    "start_time": "2022-03-23T18:50:14.897Z"
   },
   {
    "duration": 23,
    "start_time": "2022-03-23T18:50:20.088Z"
   },
   {
    "duration": 8,
    "start_time": "2022-03-23T18:50:21.996Z"
   },
   {
    "duration": 37,
    "start_time": "2022-03-23T18:50:25.496Z"
   },
   {
    "duration": 24,
    "start_time": "2022-03-23T18:50:35.703Z"
   },
   {
    "duration": 36,
    "start_time": "2022-03-23T18:50:44.125Z"
   },
   {
    "duration": 25,
    "start_time": "2022-03-23T18:50:46.903Z"
   },
   {
    "duration": 14,
    "start_time": "2022-03-23T18:50:49.453Z"
   },
   {
    "duration": 569,
    "start_time": "2022-03-23T18:51:13.518Z"
   },
   {
    "duration": 15,
    "start_time": "2022-03-23T18:51:14.090Z"
   },
   {
    "duration": 7,
    "start_time": "2022-03-23T18:51:14.106Z"
   },
   {
    "duration": 27,
    "start_time": "2022-03-23T18:51:14.115Z"
   },
   {
    "duration": 12,
    "start_time": "2022-03-23T18:51:14.145Z"
   },
   {
    "duration": 51,
    "start_time": "2022-03-23T18:51:14.158Z"
   },
   {
    "duration": 14,
    "start_time": "2022-03-23T18:51:14.210Z"
   },
   {
    "duration": 24,
    "start_time": "2022-03-23T18:51:14.226Z"
   },
   {
    "duration": 65,
    "start_time": "2022-03-23T18:51:14.252Z"
   },
   {
    "duration": 8,
    "start_time": "2022-03-23T18:51:14.319Z"
   },
   {
    "duration": 14,
    "start_time": "2022-03-23T18:51:14.329Z"
   },
   {
    "duration": 12,
    "start_time": "2022-03-23T18:51:14.344Z"
   },
   {
    "duration": 48,
    "start_time": "2022-03-23T18:51:14.357Z"
   },
   {
    "duration": 5,
    "start_time": "2022-03-23T18:51:14.409Z"
   },
   {
    "duration": 6,
    "start_time": "2022-03-23T18:51:14.416Z"
   },
   {
    "duration": 7,
    "start_time": "2022-03-23T18:51:14.424Z"
   },
   {
    "duration": 9,
    "start_time": "2022-03-23T18:51:14.433Z"
   },
   {
    "duration": 60,
    "start_time": "2022-03-23T18:51:14.444Z"
   },
   {
    "duration": 23,
    "start_time": "2022-03-23T18:51:14.506Z"
   },
   {
    "duration": 20,
    "start_time": "2022-03-23T18:51:14.531Z"
   },
   {
    "duration": 6,
    "start_time": "2022-03-23T18:51:14.553Z"
   },
   {
    "duration": 6,
    "start_time": "2022-03-23T18:51:14.561Z"
   },
   {
    "duration": 5,
    "start_time": "2022-03-23T18:51:14.600Z"
   },
   {
    "duration": 8,
    "start_time": "2022-03-23T18:51:14.607Z"
   },
   {
    "duration": 4,
    "start_time": "2022-03-23T18:51:14.617Z"
   },
   {
    "duration": 6,
    "start_time": "2022-03-23T18:51:14.622Z"
   },
   {
    "duration": 20,
    "start_time": "2022-03-23T18:51:14.629Z"
   },
   {
    "duration": 9,
    "start_time": "2022-03-23T18:51:14.651Z"
   },
   {
    "duration": 15,
    "start_time": "2022-03-23T18:51:14.661Z"
   },
   {
    "duration": 28,
    "start_time": "2022-03-23T18:51:14.678Z"
   },
   {
    "duration": 21,
    "start_time": "2022-03-23T18:51:14.708Z"
   },
   {
    "duration": 7,
    "start_time": "2022-03-23T18:51:14.731Z"
   },
   {
    "duration": 34,
    "start_time": "2022-03-23T18:51:14.739Z"
   },
   {
    "duration": 64,
    "start_time": "2022-03-23T18:51:14.775Z"
   },
   {
    "duration": 23,
    "start_time": "2022-03-23T18:51:14.841Z"
   },
   {
    "duration": 38,
    "start_time": "2022-03-23T18:51:14.866Z"
   },
   {
    "duration": 11,
    "start_time": "2022-03-23T18:51:14.906Z"
   },
   {
    "duration": 5,
    "start_time": "2022-03-23T18:51:14.918Z"
   },
   {
    "duration": 10,
    "start_time": "2022-03-23T18:51:14.924Z"
   },
   {
    "duration": 16,
    "start_time": "2022-03-23T18:51:14.935Z"
   },
   {
    "duration": 10,
    "start_time": "2022-03-23T18:51:14.958Z"
   },
   {
    "duration": 81,
    "start_time": "2022-03-23T18:51:14.970Z"
   },
   {
    "duration": 5,
    "start_time": "2022-03-23T18:51:15.054Z"
   },
   {
    "duration": 8,
    "start_time": "2022-03-23T18:51:15.061Z"
   },
   {
    "duration": 3,
    "start_time": "2022-03-23T18:51:15.072Z"
   },
   {
    "duration": 28,
    "start_time": "2022-03-23T18:51:15.077Z"
   },
   {
    "duration": 8,
    "start_time": "2022-03-23T18:51:15.106Z"
   },
   {
    "duration": 15,
    "start_time": "2022-03-23T18:51:15.116Z"
   },
   {
    "duration": 12071,
    "start_time": "2022-03-23T18:51:15.133Z"
   },
   {
    "duration": 15,
    "start_time": "2022-03-23T18:51:27.206Z"
   },
   {
    "duration": 11,
    "start_time": "2022-03-23T18:51:27.223Z"
   },
   {
    "duration": 2,
    "start_time": "2022-03-23T18:51:27.236Z"
   },
   {
    "duration": 18,
    "start_time": "2022-03-23T18:51:27.240Z"
   },
   {
    "duration": 42,
    "start_time": "2022-03-23T18:51:27.260Z"
   },
   {
    "duration": 4,
    "start_time": "2022-03-23T18:51:27.304Z"
   },
   {
    "duration": 4,
    "start_time": "2022-03-23T18:51:27.310Z"
   },
   {
    "duration": 9,
    "start_time": "2022-03-23T18:51:27.315Z"
   },
   {
    "duration": 5,
    "start_time": "2022-03-23T18:51:27.326Z"
   },
   {
    "duration": 11914,
    "start_time": "2022-03-23T18:51:27.332Z"
   },
   {
    "duration": 4,
    "start_time": "2022-03-23T18:51:39.248Z"
   },
   {
    "duration": 7,
    "start_time": "2022-03-23T18:51:39.253Z"
   },
   {
    "duration": 13,
    "start_time": "2022-03-23T18:51:39.262Z"
   },
   {
    "duration": 6,
    "start_time": "2022-03-23T18:51:39.277Z"
   },
   {
    "duration": 18,
    "start_time": "2022-03-23T18:51:39.284Z"
   },
   {
    "duration": 5,
    "start_time": "2022-03-23T18:51:39.303Z"
   },
   {
    "duration": 17,
    "start_time": "2022-03-23T18:51:39.309Z"
   },
   {
    "duration": 24,
    "start_time": "2022-03-23T18:51:39.328Z"
   },
   {
    "duration": 59,
    "start_time": "2022-03-23T18:51:39.353Z"
   },
   {
    "duration": 4,
    "start_time": "2022-03-23T18:51:39.414Z"
   },
   {
    "duration": 10,
    "start_time": "2022-03-23T18:51:39.420Z"
   },
   {
    "duration": 6,
    "start_time": "2022-03-23T18:51:39.432Z"
   },
   {
    "duration": 14,
    "start_time": "2022-03-23T18:51:39.439Z"
   },
   {
    "duration": 107,
    "start_time": "2022-03-23T18:51:39.455Z"
   },
   {
    "duration": 0,
    "start_time": "2022-03-23T18:51:39.565Z"
   },
   {
    "duration": 0,
    "start_time": "2022-03-23T18:51:39.566Z"
   },
   {
    "duration": 0,
    "start_time": "2022-03-23T18:51:39.572Z"
   },
   {
    "duration": 0,
    "start_time": "2022-03-23T18:51:39.573Z"
   },
   {
    "duration": 0,
    "start_time": "2022-03-23T18:51:39.574Z"
   },
   {
    "duration": 1,
    "start_time": "2022-03-23T18:51:39.575Z"
   },
   {
    "duration": 0,
    "start_time": "2022-03-23T18:51:39.576Z"
   },
   {
    "duration": 19,
    "start_time": "2022-03-23T18:51:40.818Z"
   },
   {
    "duration": 7,
    "start_time": "2022-03-23T18:51:42.345Z"
   },
   {
    "duration": 28,
    "start_time": "2022-03-23T18:51:43.058Z"
   },
   {
    "duration": 39,
    "start_time": "2022-03-23T18:51:44.729Z"
   },
   {
    "duration": 6,
    "start_time": "2022-03-23T18:51:46.200Z"
   },
   {
    "duration": 6,
    "start_time": "2022-03-23T18:51:48.144Z"
   },
   {
    "duration": 14,
    "start_time": "2022-03-23T18:51:50.434Z"
   },
   {
    "duration": 24,
    "start_time": "2022-03-23T18:51:50.922Z"
   },
   {
    "duration": 5,
    "start_time": "2022-03-23T18:51:51.169Z"
   },
   {
    "duration": 5,
    "start_time": "2022-03-23T18:51:51.585Z"
   },
   {
    "duration": 4,
    "start_time": "2022-03-23T18:51:51.938Z"
   },
   {
    "duration": 5,
    "start_time": "2022-03-23T18:51:52.105Z"
   },
   {
    "duration": 12,
    "start_time": "2022-03-23T18:51:52.713Z"
   },
   {
    "duration": 18,
    "start_time": "2022-03-23T18:51:53.243Z"
   },
   {
    "duration": 14,
    "start_time": "2022-03-23T18:51:53.497Z"
   },
   {
    "duration": 6,
    "start_time": "2022-03-23T18:51:55.649Z"
   },
   {
    "duration": 5,
    "start_time": "2022-03-23T18:52:02.652Z"
   },
   {
    "duration": 6,
    "start_time": "2022-03-23T18:52:05.105Z"
   },
   {
    "duration": 8,
    "start_time": "2022-03-23T18:52:07.157Z"
   },
   {
    "duration": 17,
    "start_time": "2022-03-23T18:52:12.146Z"
   },
   {
    "duration": 7,
    "start_time": "2022-03-23T18:52:14.690Z"
   },
   {
    "duration": 7,
    "start_time": "2022-03-23T18:52:18.020Z"
   },
   {
    "duration": 16,
    "start_time": "2022-03-23T18:52:25.105Z"
   },
   {
    "duration": 13,
    "start_time": "2022-03-23T18:52:27.013Z"
   },
   {
    "duration": 695,
    "start_time": "2022-03-23T18:52:36.620Z"
   },
   {
    "duration": 15,
    "start_time": "2022-03-23T18:52:37.317Z"
   },
   {
    "duration": 7,
    "start_time": "2022-03-23T18:52:37.334Z"
   },
   {
    "duration": 19,
    "start_time": "2022-03-23T18:52:37.343Z"
   },
   {
    "duration": 38,
    "start_time": "2022-03-23T18:52:37.364Z"
   },
   {
    "duration": 29,
    "start_time": "2022-03-23T18:52:37.404Z"
   },
   {
    "duration": 15,
    "start_time": "2022-03-23T18:52:37.435Z"
   },
   {
    "duration": 51,
    "start_time": "2022-03-23T18:52:37.451Z"
   },
   {
    "duration": 40,
    "start_time": "2022-03-23T18:52:37.504Z"
   },
   {
    "duration": 8,
    "start_time": "2022-03-23T18:52:37.547Z"
   },
   {
    "duration": 13,
    "start_time": "2022-03-23T18:52:37.556Z"
   },
   {
    "duration": 36,
    "start_time": "2022-03-23T18:52:37.570Z"
   },
   {
    "duration": 20,
    "start_time": "2022-03-23T18:52:37.608Z"
   },
   {
    "duration": 4,
    "start_time": "2022-03-23T18:52:37.630Z"
   },
   {
    "duration": 7,
    "start_time": "2022-03-23T18:52:37.635Z"
   },
   {
    "duration": 6,
    "start_time": "2022-03-23T18:52:37.644Z"
   },
   {
    "duration": 8,
    "start_time": "2022-03-23T18:52:37.652Z"
   },
   {
    "duration": 56,
    "start_time": "2022-03-23T18:52:37.662Z"
   },
   {
    "duration": 15,
    "start_time": "2022-03-23T18:52:37.720Z"
   },
   {
    "duration": 14,
    "start_time": "2022-03-23T18:52:37.736Z"
   },
   {
    "duration": 4,
    "start_time": "2022-03-23T18:52:37.752Z"
   },
   {
    "duration": 7,
    "start_time": "2022-03-23T18:52:37.757Z"
   },
   {
    "duration": 35,
    "start_time": "2022-03-23T18:52:37.765Z"
   },
   {
    "duration": 6,
    "start_time": "2022-03-23T18:52:37.802Z"
   },
   {
    "duration": 5,
    "start_time": "2022-03-23T18:52:37.809Z"
   },
   {
    "duration": 7,
    "start_time": "2022-03-23T18:52:37.815Z"
   },
   {
    "duration": 21,
    "start_time": "2022-03-23T18:52:37.823Z"
   },
   {
    "duration": 6,
    "start_time": "2022-03-23T18:52:37.848Z"
   },
   {
    "duration": 7,
    "start_time": "2022-03-23T18:52:37.855Z"
   },
   {
    "duration": 16,
    "start_time": "2022-03-23T18:52:37.864Z"
   },
   {
    "duration": 33,
    "start_time": "2022-03-23T18:52:37.882Z"
   },
   {
    "duration": 64,
    "start_time": "2022-03-23T18:52:37.916Z"
   },
   {
    "duration": 33,
    "start_time": "2022-03-23T18:52:37.982Z"
   },
   {
    "duration": 37,
    "start_time": "2022-03-23T18:52:38.016Z"
   },
   {
    "duration": 25,
    "start_time": "2022-03-23T18:52:38.054Z"
   },
   {
    "duration": 31,
    "start_time": "2022-03-23T18:52:38.081Z"
   },
   {
    "duration": 15,
    "start_time": "2022-03-23T18:52:38.115Z"
   },
   {
    "duration": 4,
    "start_time": "2022-03-23T18:52:38.132Z"
   },
   {
    "duration": 6,
    "start_time": "2022-03-23T18:52:38.137Z"
   },
   {
    "duration": 20,
    "start_time": "2022-03-23T18:52:38.145Z"
   },
   {
    "duration": 11,
    "start_time": "2022-03-23T18:52:38.166Z"
   },
   {
    "duration": 58,
    "start_time": "2022-03-23T18:52:38.178Z"
   },
   {
    "duration": 5,
    "start_time": "2022-03-23T18:52:38.237Z"
   },
   {
    "duration": 10,
    "start_time": "2022-03-23T18:52:38.244Z"
   },
   {
    "duration": 3,
    "start_time": "2022-03-23T18:52:38.256Z"
   },
   {
    "duration": 11,
    "start_time": "2022-03-23T18:52:38.260Z"
   },
   {
    "duration": 8,
    "start_time": "2022-03-23T18:52:38.272Z"
   },
   {
    "duration": 20,
    "start_time": "2022-03-23T18:52:38.282Z"
   },
   {
    "duration": 11534,
    "start_time": "2022-03-23T18:52:38.303Z"
   },
   {
    "duration": 15,
    "start_time": "2022-03-23T18:52:49.839Z"
   },
   {
    "duration": 12,
    "start_time": "2022-03-23T18:52:49.856Z"
   },
   {
    "duration": 2,
    "start_time": "2022-03-23T18:52:49.869Z"
   },
   {
    "duration": 16,
    "start_time": "2022-03-23T18:52:49.902Z"
   },
   {
    "duration": 10,
    "start_time": "2022-03-23T18:52:49.920Z"
   },
   {
    "duration": 3,
    "start_time": "2022-03-23T18:52:49.932Z"
   },
   {
    "duration": 4,
    "start_time": "2022-03-23T18:52:49.937Z"
   },
   {
    "duration": 6,
    "start_time": "2022-03-23T18:52:49.943Z"
   },
   {
    "duration": 4,
    "start_time": "2022-03-23T18:52:49.950Z"
   },
   {
    "duration": 11047,
    "start_time": "2022-03-23T18:52:49.955Z"
   },
   {
    "duration": 5,
    "start_time": "2022-03-23T18:53:01.004Z"
   },
   {
    "duration": 5,
    "start_time": "2022-03-23T18:53:01.011Z"
   },
   {
    "duration": 19,
    "start_time": "2022-03-23T18:53:01.018Z"
   },
   {
    "duration": 15,
    "start_time": "2022-03-23T18:53:01.039Z"
   },
   {
    "duration": 15,
    "start_time": "2022-03-23T18:53:01.057Z"
   },
   {
    "duration": 7,
    "start_time": "2022-03-23T18:53:01.074Z"
   },
   {
    "duration": 30,
    "start_time": "2022-03-23T18:53:01.082Z"
   },
   {
    "duration": 23,
    "start_time": "2022-03-23T18:53:01.114Z"
   },
   {
    "duration": 24,
    "start_time": "2022-03-23T18:53:01.138Z"
   },
   {
    "duration": 3,
    "start_time": "2022-03-23T18:53:01.164Z"
   },
   {
    "duration": 36,
    "start_time": "2022-03-23T18:53:01.169Z"
   },
   {
    "duration": 6,
    "start_time": "2022-03-23T18:53:01.207Z"
   },
   {
    "duration": 15,
    "start_time": "2022-03-23T18:53:01.215Z"
   },
   {
    "duration": 99,
    "start_time": "2022-03-23T18:53:01.232Z"
   },
   {
    "duration": 0,
    "start_time": "2022-03-23T18:53:01.332Z"
   },
   {
    "duration": 0,
    "start_time": "2022-03-23T18:53:01.334Z"
   },
   {
    "duration": 8637,
    "start_time": "2022-03-23T18:53:20.506Z"
   },
   {
    "duration": 12,
    "start_time": "2022-03-23T18:53:29.161Z"
   },
   {
    "duration": 16,
    "start_time": "2022-03-23T18:53:53.572Z"
   },
   {
    "duration": 9,
    "start_time": "2022-03-23T18:54:03.413Z"
   },
   {
    "duration": 3,
    "start_time": "2022-03-23T18:54:06.597Z"
   },
   {
    "duration": 5,
    "start_time": "2022-03-23T18:54:08.984Z"
   },
   {
    "duration": 5,
    "start_time": "2022-03-23T18:54:38.657Z"
   },
   {
    "duration": 11578,
    "start_time": "2022-03-23T18:54:41.023Z"
   },
   {
    "duration": 5,
    "start_time": "2022-03-23T18:54:52.603Z"
   },
   {
    "duration": 14,
    "start_time": "2022-03-23T18:55:05.069Z"
   },
   {
    "duration": 9,
    "start_time": "2022-03-23T18:55:25.052Z"
   },
   {
    "duration": 6,
    "start_time": "2022-03-23T18:55:28.456Z"
   },
   {
    "duration": 4,
    "start_time": "2022-03-23T18:55:31.020Z"
   },
   {
    "duration": 12,
    "start_time": "2022-03-23T18:57:31.767Z"
   },
   {
    "duration": 179,
    "start_time": "2022-03-23T18:58:58.718Z"
   },
   {
    "duration": 4,
    "start_time": "2022-03-23T18:59:11.297Z"
   },
   {
    "duration": 17,
    "start_time": "2022-03-23T18:59:15.057Z"
   },
   {
    "duration": 27,
    "start_time": "2022-03-23T18:59:35.115Z"
   },
   {
    "duration": 25,
    "start_time": "2022-03-23T19:00:22.192Z"
   },
   {
    "duration": 193,
    "start_time": "2022-03-23T19:01:53.620Z"
   },
   {
    "duration": 25,
    "start_time": "2022-03-23T19:01:59.566Z"
   },
   {
    "duration": 30,
    "start_time": "2022-03-23T19:02:12.988Z"
   },
   {
    "duration": 4,
    "start_time": "2022-03-23T19:02:19.426Z"
   },
   {
    "duration": 6,
    "start_time": "2022-03-23T19:02:23.447Z"
   },
   {
    "duration": 23,
    "start_time": "2022-03-23T19:02:39.888Z"
   },
   {
    "duration": 12,
    "start_time": "2022-03-23T19:02:48.209Z"
   },
   {
    "duration": 22,
    "start_time": "2022-03-23T19:02:52.277Z"
   },
   {
    "duration": 45,
    "start_time": "2022-03-23T19:02:57.214Z"
   },
   {
    "duration": 9,
    "start_time": "2022-03-23T19:02:59.797Z"
   },
   {
    "duration": 13,
    "start_time": "2022-03-23T19:03:15.110Z"
   },
   {
    "duration": 13,
    "start_time": "2022-03-23T19:04:29.014Z"
   },
   {
    "duration": 195,
    "start_time": "2022-03-23T19:06:25.968Z"
   },
   {
    "duration": 32,
    "start_time": "2022-03-23T19:06:32.189Z"
   },
   {
    "duration": 13,
    "start_time": "2022-03-23T19:07:48.872Z"
   },
   {
    "duration": 19,
    "start_time": "2022-03-23T19:09:56.363Z"
   },
   {
    "duration": 18,
    "start_time": "2022-03-23T19:12:43.322Z"
   },
   {
    "duration": 18,
    "start_time": "2022-03-23T19:12:54.712Z"
   },
   {
    "duration": 19,
    "start_time": "2022-03-23T19:13:13.434Z"
   },
   {
    "duration": 17,
    "start_time": "2022-03-23T19:13:55.571Z"
   },
   {
    "duration": 14,
    "start_time": "2022-03-23T19:14:38.998Z"
   },
   {
    "duration": 3087,
    "start_time": "2022-03-23T19:15:09.879Z"
   },
   {
    "duration": 11,
    "start_time": "2022-03-23T19:15:23.434Z"
   },
   {
    "duration": 3082,
    "start_time": "2022-03-23T19:15:32.554Z"
   },
   {
    "duration": 3775,
    "start_time": "2022-03-23T19:16:02.983Z"
   },
   {
    "duration": 13,
    "start_time": "2022-03-23T19:16:19.154Z"
   },
   {
    "duration": 14,
    "start_time": "2022-03-23T19:16:31.852Z"
   },
   {
    "duration": 27,
    "start_time": "2022-03-23T19:17:09.098Z"
   },
   {
    "duration": 14,
    "start_time": "2022-03-23T19:18:35.428Z"
   },
   {
    "duration": 19,
    "start_time": "2022-03-23T19:18:37.260Z"
   },
   {
    "duration": 22,
    "start_time": "2022-03-23T19:18:39.332Z"
   },
   {
    "duration": 6,
    "start_time": "2022-03-23T19:18:43.555Z"
   },
   {
    "duration": 4,
    "start_time": "2022-03-23T19:18:46.555Z"
   },
   {
    "duration": 4,
    "start_time": "2022-03-23T19:18:49.115Z"
   },
   {
    "duration": 6,
    "start_time": "2022-03-23T19:18:51.843Z"
   },
   {
    "duration": 17,
    "start_time": "2022-03-23T19:18:55.140Z"
   },
   {
    "duration": 6,
    "start_time": "2022-03-23T19:18:57.485Z"
   },
   {
    "duration": 7,
    "start_time": "2022-03-23T19:18:59.208Z"
   },
   {
    "duration": 8,
    "start_time": "2022-03-23T19:19:01.194Z"
   },
   {
    "duration": 27,
    "start_time": "2022-03-23T19:19:05.272Z"
   },
   {
    "duration": 8,
    "start_time": "2022-03-23T19:19:07.147Z"
   },
   {
    "duration": 28,
    "start_time": "2022-03-23T19:19:13.187Z"
   },
   {
    "duration": 26,
    "start_time": "2022-03-23T19:19:28.714Z"
   },
   {
    "duration": 47,
    "start_time": "2022-03-23T19:19:31.613Z"
   },
   {
    "duration": 31,
    "start_time": "2022-03-23T19:19:33.573Z"
   },
   {
    "duration": 18,
    "start_time": "2022-03-23T19:19:35.763Z"
   },
   {
    "duration": 11,
    "start_time": "2022-03-23T19:19:38.602Z"
   },
   {
    "duration": 4,
    "start_time": "2022-03-23T19:19:40.958Z"
   },
   {
    "duration": 4,
    "start_time": "2022-03-23T19:19:43.054Z"
   },
   {
    "duration": 10,
    "start_time": "2022-03-23T19:19:44.933Z"
   },
   {
    "duration": 7,
    "start_time": "2022-03-23T19:19:46.686Z"
   },
   {
    "duration": 43,
    "start_time": "2022-03-23T19:19:49.048Z"
   },
   {
    "duration": 5,
    "start_time": "2022-03-23T19:19:52.045Z"
   },
   {
    "duration": 6,
    "start_time": "2022-03-23T19:19:55.989Z"
   },
   {
    "duration": 3,
    "start_time": "2022-03-23T19:20:31.187Z"
   },
   {
    "duration": 5,
    "start_time": "2022-03-23T19:20:32.822Z"
   },
   {
    "duration": 4,
    "start_time": "2022-03-23T19:20:35.153Z"
   },
   {
    "duration": 10432,
    "start_time": "2022-03-23T19:20:37.352Z"
   },
   {
    "duration": 27,
    "start_time": "2022-03-23T19:20:47.786Z"
   },
   {
    "duration": 14,
    "start_time": "2022-03-23T19:20:47.844Z"
   },
   {
    "duration": 14,
    "start_time": "2022-03-23T19:20:56.409Z"
   },
   {
    "duration": 18,
    "start_time": "2022-03-23T19:21:00.692Z"
   },
   {
    "duration": 4,
    "start_time": "2022-03-23T19:26:04.478Z"
   },
   {
    "duration": 3,
    "start_time": "2022-03-23T19:26:10.913Z"
   },
   {
    "duration": 3,
    "start_time": "2022-03-23T19:26:13.813Z"
   },
   {
    "duration": 6,
    "start_time": "2022-03-23T19:26:16.305Z"
   },
   {
    "duration": 6,
    "start_time": "2022-03-23T19:26:18.449Z"
   },
   {
    "duration": 8897,
    "start_time": "2022-03-23T19:26:21.193Z"
   },
   {
    "duration": 9033,
    "start_time": "2022-03-23T19:26:46.257Z"
   },
   {
    "duration": 9281,
    "start_time": "2022-03-23T19:27:38.189Z"
   },
   {
    "duration": 4,
    "start_time": "2022-03-23T19:27:47.472Z"
   },
   {
    "duration": 15,
    "start_time": "2022-03-23T19:28:10.157Z"
   },
   {
    "duration": 12,
    "start_time": "2022-03-23T19:28:37.133Z"
   },
   {
    "duration": 5,
    "start_time": "2022-03-23T19:28:46.606Z"
   },
   {
    "duration": 7,
    "start_time": "2022-03-23T19:28:51.053Z"
   },
   {
    "duration": 6,
    "start_time": "2022-03-23T19:28:53.920Z"
   },
   {
    "duration": 4,
    "start_time": "2022-03-23T19:29:08.176Z"
   },
   {
    "duration": 27,
    "start_time": "2022-03-23T19:29:12.322Z"
   },
   {
    "duration": 30,
    "start_time": "2022-03-23T19:29:14.601Z"
   },
   {
    "duration": 4,
    "start_time": "2022-03-23T19:29:17.153Z"
   },
   {
    "duration": 8,
    "start_time": "2022-03-23T19:29:19.153Z"
   },
   {
    "duration": 6,
    "start_time": "2022-03-23T19:29:21.733Z"
   },
   {
    "duration": 13,
    "start_time": "2022-03-23T19:29:23.677Z"
   },
   {
    "duration": 637,
    "start_time": "2022-03-24T01:17:49.951Z"
   },
   {
    "duration": 20,
    "start_time": "2022-03-24T01:17:50.591Z"
   },
   {
    "duration": 16,
    "start_time": "2022-03-24T01:17:50.613Z"
   },
   {
    "duration": 51,
    "start_time": "2022-03-24T01:17:50.632Z"
   },
   {
    "duration": 18,
    "start_time": "2022-03-24T01:17:50.686Z"
   },
   {
    "duration": 63,
    "start_time": "2022-03-24T01:17:50.706Z"
   },
   {
    "duration": 24,
    "start_time": "2022-03-24T01:17:50.783Z"
   },
   {
    "duration": 34,
    "start_time": "2022-03-24T01:17:50.809Z"
   },
   {
    "duration": 76,
    "start_time": "2022-03-24T01:17:50.845Z"
   },
   {
    "duration": 12,
    "start_time": "2022-03-24T01:17:50.925Z"
   },
   {
    "duration": 56,
    "start_time": "2022-03-24T01:17:50.940Z"
   },
   {
    "duration": 43,
    "start_time": "2022-03-24T01:17:50.998Z"
   },
   {
    "duration": 36,
    "start_time": "2022-03-24T01:17:51.044Z"
   },
   {
    "duration": 17,
    "start_time": "2022-03-24T01:17:51.082Z"
   },
   {
    "duration": 15,
    "start_time": "2022-03-24T01:17:51.102Z"
   },
   {
    "duration": 19,
    "start_time": "2022-03-24T01:17:51.120Z"
   },
   {
    "duration": 17,
    "start_time": "2022-03-24T01:17:51.142Z"
   },
   {
    "duration": 42,
    "start_time": "2022-03-24T01:17:51.161Z"
   },
   {
    "duration": 25,
    "start_time": "2022-03-24T01:17:51.205Z"
   },
   {
    "duration": 66,
    "start_time": "2022-03-24T01:17:51.232Z"
   },
   {
    "duration": 7,
    "start_time": "2022-03-24T01:17:51.301Z"
   },
   {
    "duration": 19,
    "start_time": "2022-03-24T01:17:51.310Z"
   },
   {
    "duration": 24,
    "start_time": "2022-03-24T01:17:51.332Z"
   },
   {
    "duration": 29,
    "start_time": "2022-03-24T01:17:51.359Z"
   },
   {
    "duration": 15,
    "start_time": "2022-03-24T01:17:51.390Z"
   },
   {
    "duration": 12,
    "start_time": "2022-03-24T01:17:51.408Z"
   },
   {
    "duration": 34,
    "start_time": "2022-03-24T01:17:51.422Z"
   },
   {
    "duration": 22,
    "start_time": "2022-03-24T01:17:51.462Z"
   },
   {
    "duration": 31,
    "start_time": "2022-03-24T01:17:51.486Z"
   },
   {
    "duration": 23,
    "start_time": "2022-03-24T01:17:51.519Z"
   },
   {
    "duration": 40,
    "start_time": "2022-03-24T01:17:51.544Z"
   },
   {
    "duration": 11,
    "start_time": "2022-03-24T01:17:51.586Z"
   },
   {
    "duration": 61,
    "start_time": "2022-03-24T01:17:51.599Z"
   },
   {
    "duration": 69,
    "start_time": "2022-03-24T01:17:51.662Z"
   },
   {
    "duration": 56,
    "start_time": "2022-03-24T01:17:51.733Z"
   },
   {
    "duration": 22,
    "start_time": "2022-03-24T01:17:51.791Z"
   },
   {
    "duration": 17,
    "start_time": "2022-03-24T01:17:51.815Z"
   },
   {
    "duration": 10,
    "start_time": "2022-03-24T01:17:51.834Z"
   },
   {
    "duration": 38,
    "start_time": "2022-03-24T01:17:51.848Z"
   },
   {
    "duration": 26,
    "start_time": "2022-03-24T01:17:51.889Z"
   },
   {
    "duration": 16,
    "start_time": "2022-03-24T01:17:51.918Z"
   },
   {
    "duration": 105,
    "start_time": "2022-03-24T01:17:51.937Z"
   },
   {
    "duration": 8,
    "start_time": "2022-03-24T01:17:52.045Z"
   },
   {
    "duration": 29,
    "start_time": "2022-03-24T01:17:52.056Z"
   },
   {
    "duration": 5,
    "start_time": "2022-03-24T01:17:52.087Z"
   },
   {
    "duration": 11,
    "start_time": "2022-03-24T01:17:52.094Z"
   },
   {
    "duration": 4,
    "start_time": "2022-03-24T01:17:52.107Z"
   },
   {
    "duration": 12,
    "start_time": "2022-03-24T01:17:52.114Z"
   },
   {
    "duration": 21767,
    "start_time": "2022-03-24T01:17:52.129Z"
   },
   {
    "duration": 31,
    "start_time": "2022-03-24T01:18:13.899Z"
   },
   {
    "duration": 21,
    "start_time": "2022-03-24T01:18:13.933Z"
   },
   {
    "duration": 4,
    "start_time": "2022-03-24T01:18:13.985Z"
   },
   {
    "duration": 24,
    "start_time": "2022-03-24T01:18:13.991Z"
   },
   {
    "duration": 14,
    "start_time": "2022-03-24T01:18:14.018Z"
   },
   {
    "duration": 4,
    "start_time": "2022-03-24T01:18:14.034Z"
   },
   {
    "duration": 5,
    "start_time": "2022-03-24T01:18:14.084Z"
   },
   {
    "duration": 9,
    "start_time": "2022-03-24T01:18:14.092Z"
   },
   {
    "duration": 9,
    "start_time": "2022-03-24T01:18:14.104Z"
   },
   {
    "duration": 20795,
    "start_time": "2022-03-24T01:18:14.116Z"
   },
   {
    "duration": 6,
    "start_time": "2022-03-24T01:18:34.913Z"
   },
   {
    "duration": 14,
    "start_time": "2022-03-24T01:18:34.921Z"
   },
   {
    "duration": 16,
    "start_time": "2022-03-24T01:18:34.937Z"
   },
   {
    "duration": 103,
    "start_time": "2022-03-24T01:18:34.956Z"
   },
   {
    "duration": 0,
    "start_time": "2022-03-24T01:18:35.065Z"
   },
   {
    "duration": 0,
    "start_time": "2022-03-24T01:18:35.066Z"
   },
   {
    "duration": 0,
    "start_time": "2022-03-24T01:18:35.069Z"
   },
   {
    "duration": 0,
    "start_time": "2022-03-24T01:18:35.071Z"
   },
   {
    "duration": 0,
    "start_time": "2022-03-24T01:18:35.073Z"
   },
   {
    "duration": 0,
    "start_time": "2022-03-24T01:18:35.075Z"
   },
   {
    "duration": 0,
    "start_time": "2022-03-24T01:18:35.077Z"
   },
   {
    "duration": 0,
    "start_time": "2022-03-24T01:18:35.079Z"
   },
   {
    "duration": 0,
    "start_time": "2022-03-24T01:18:35.081Z"
   },
   {
    "duration": 0,
    "start_time": "2022-03-24T01:18:35.083Z"
   },
   {
    "duration": 0,
    "start_time": "2022-03-24T01:18:35.085Z"
   },
   {
    "duration": 0,
    "start_time": "2022-03-24T01:18:35.088Z"
   },
   {
    "duration": 0,
    "start_time": "2022-03-24T01:18:35.090Z"
   },
   {
    "duration": 0,
    "start_time": "2022-03-24T01:18:35.091Z"
   },
   {
    "duration": 0,
    "start_time": "2022-03-24T01:18:35.094Z"
   },
   {
    "duration": 0,
    "start_time": "2022-03-24T01:18:35.096Z"
   },
   {
    "duration": 0,
    "start_time": "2022-03-24T01:18:35.097Z"
   },
   {
    "duration": 0,
    "start_time": "2022-03-24T01:18:35.098Z"
   },
   {
    "duration": 0,
    "start_time": "2022-03-24T01:18:35.099Z"
   },
   {
    "duration": 0,
    "start_time": "2022-03-24T01:18:35.100Z"
   },
   {
    "duration": 0,
    "start_time": "2022-03-24T01:18:35.101Z"
   },
   {
    "duration": 0,
    "start_time": "2022-03-24T01:18:35.102Z"
   },
   {
    "duration": 1,
    "start_time": "2022-03-24T01:18:35.103Z"
   },
   {
    "duration": 0,
    "start_time": "2022-03-24T01:18:35.104Z"
   },
   {
    "duration": 0,
    "start_time": "2022-03-24T01:18:35.106Z"
   },
   {
    "duration": 0,
    "start_time": "2022-03-24T01:18:35.107Z"
   },
   {
    "duration": 1,
    "start_time": "2022-03-24T01:18:35.108Z"
   },
   {
    "duration": 0,
    "start_time": "2022-03-24T01:18:35.109Z"
   },
   {
    "duration": 0,
    "start_time": "2022-03-24T01:18:35.111Z"
   },
   {
    "duration": 0,
    "start_time": "2022-03-24T01:18:35.112Z"
   },
   {
    "duration": 0,
    "start_time": "2022-03-24T01:18:35.113Z"
   },
   {
    "duration": 0,
    "start_time": "2022-03-24T01:18:35.115Z"
   },
   {
    "duration": 0,
    "start_time": "2022-03-24T01:18:35.116Z"
   },
   {
    "duration": 0,
    "start_time": "2022-03-24T01:18:35.117Z"
   },
   {
    "duration": 0,
    "start_time": "2022-03-24T01:18:35.118Z"
   },
   {
    "duration": 0,
    "start_time": "2022-03-24T01:18:35.119Z"
   },
   {
    "duration": 0,
    "start_time": "2022-03-24T01:18:35.121Z"
   },
   {
    "duration": 0,
    "start_time": "2022-03-24T01:18:35.122Z"
   },
   {
    "duration": 0,
    "start_time": "2022-03-24T01:18:35.123Z"
   },
   {
    "duration": 0,
    "start_time": "2022-03-24T01:18:35.124Z"
   },
   {
    "duration": 0,
    "start_time": "2022-03-24T01:18:35.184Z"
   },
   {
    "duration": 0,
    "start_time": "2022-03-24T01:18:35.186Z"
   },
   {
    "duration": 0,
    "start_time": "2022-03-24T01:18:35.187Z"
   },
   {
    "duration": 0,
    "start_time": "2022-03-24T01:18:35.188Z"
   },
   {
    "duration": 0,
    "start_time": "2022-03-24T01:18:35.189Z"
   },
   {
    "duration": 0,
    "start_time": "2022-03-24T01:18:35.191Z"
   },
   {
    "duration": 0,
    "start_time": "2022-03-24T01:18:35.192Z"
   },
   {
    "duration": 0,
    "start_time": "2022-03-24T01:18:35.193Z"
   },
   {
    "duration": 0,
    "start_time": "2022-03-24T01:18:35.194Z"
   },
   {
    "duration": 0,
    "start_time": "2022-03-24T01:18:35.196Z"
   },
   {
    "duration": 0,
    "start_time": "2022-03-24T01:18:35.197Z"
   },
   {
    "duration": 0,
    "start_time": "2022-03-24T01:18:35.198Z"
   },
   {
    "duration": 0,
    "start_time": "2022-03-24T01:18:35.199Z"
   },
   {
    "duration": 0,
    "start_time": "2022-03-24T01:18:35.201Z"
   },
   {
    "duration": 0,
    "start_time": "2022-03-24T01:18:35.202Z"
   },
   {
    "duration": 0,
    "start_time": "2022-03-24T01:18:35.203Z"
   },
   {
    "duration": 0,
    "start_time": "2022-03-24T01:18:35.204Z"
   },
   {
    "duration": 0,
    "start_time": "2022-03-24T01:18:35.206Z"
   },
   {
    "duration": 0,
    "start_time": "2022-03-24T01:18:35.207Z"
   },
   {
    "duration": 0,
    "start_time": "2022-03-24T01:18:35.208Z"
   },
   {
    "duration": 0,
    "start_time": "2022-03-24T01:18:35.209Z"
   },
   {
    "duration": 0,
    "start_time": "2022-03-24T01:18:35.210Z"
   },
   {
    "duration": 0,
    "start_time": "2022-03-24T01:18:35.212Z"
   },
   {
    "duration": 0,
    "start_time": "2022-03-24T01:18:35.213Z"
   },
   {
    "duration": 0,
    "start_time": "2022-03-24T01:18:35.214Z"
   },
   {
    "duration": 0,
    "start_time": "2022-03-24T01:18:35.216Z"
   },
   {
    "duration": 0,
    "start_time": "2022-03-24T01:18:35.217Z"
   },
   {
    "duration": 1,
    "start_time": "2022-03-24T01:18:35.218Z"
   },
   {
    "duration": 0,
    "start_time": "2022-03-24T01:18:35.220Z"
   },
   {
    "duration": 0,
    "start_time": "2022-03-24T01:18:35.221Z"
   },
   {
    "duration": 0,
    "start_time": "2022-03-24T01:18:35.284Z"
   },
   {
    "duration": 20,
    "start_time": "2022-03-24T01:18:35.293Z"
   },
   {
    "duration": 12240,
    "start_time": "2022-03-24T01:18:35.538Z"
   },
   {
    "duration": 6,
    "start_time": "2022-03-24T01:18:47.781Z"
   },
   {
    "duration": 11,
    "start_time": "2022-03-24T01:18:47.789Z"
   },
   {
    "duration": 101,
    "start_time": "2022-03-24T01:18:47.820Z"
   },
   {
    "duration": 0,
    "start_time": "2022-03-24T01:18:47.923Z"
   },
   {
    "duration": 0,
    "start_time": "2022-03-24T01:18:47.925Z"
   },
   {
    "duration": 17,
    "start_time": "2022-03-24T01:19:05.552Z"
   },
   {
    "duration": 8,
    "start_time": "2022-03-24T01:19:09.028Z"
   },
   {
    "duration": 68,
    "start_time": "2022-03-24T01:19:12.877Z"
   },
   {
    "duration": 22,
    "start_time": "2022-03-24T01:19:14.929Z"
   },
   {
    "duration": 11,
    "start_time": "2022-03-24T01:19:16.859Z"
   },
   {
    "duration": 26,
    "start_time": "2022-03-24T01:19:19.372Z"
   },
   {
    "duration": 19,
    "start_time": "2022-03-24T01:19:21.074Z"
   },
   {
    "duration": 37,
    "start_time": "2022-03-24T01:19:22.785Z"
   },
   {
    "duration": 23,
    "start_time": "2022-03-24T01:19:24.335Z"
   },
   {
    "duration": 37,
    "start_time": "2022-03-24T01:19:25.127Z"
   },
   {
    "duration": 43,
    "start_time": "2022-03-24T01:19:26.631Z"
   },
   {
    "duration": 13,
    "start_time": "2022-03-24T01:19:28.121Z"
   },
   {
    "duration": 27,
    "start_time": "2022-03-24T01:19:29.604Z"
   },
   {
    "duration": 23,
    "start_time": "2022-03-24T01:19:31.755Z"
   },
   {
    "duration": 28,
    "start_time": "2022-03-24T01:19:32.482Z"
   },
   {
    "duration": 8,
    "start_time": "2022-03-24T01:19:33.266Z"
   },
   {
    "duration": 8,
    "start_time": "2022-03-24T01:19:34.771Z"
   },
   {
    "duration": 7,
    "start_time": "2022-03-24T01:19:36.300Z"
   },
   {
    "duration": 9,
    "start_time": "2022-03-24T01:19:37.020Z"
   },
   {
    "duration": 37,
    "start_time": "2022-03-24T01:19:39.668Z"
   },
   {
    "duration": 25,
    "start_time": "2022-03-24T01:19:41.237Z"
   },
   {
    "duration": 32,
    "start_time": "2022-03-24T01:19:42.097Z"
   },
   {
    "duration": 8,
    "start_time": "2022-03-24T01:19:43.835Z"
   },
   {
    "duration": 6,
    "start_time": "2022-03-24T01:19:45.510Z"
   },
   {
    "duration": 7,
    "start_time": "2022-03-24T01:19:47.114Z"
   },
   {
    "duration": 9,
    "start_time": "2022-03-24T01:19:49.034Z"
   },
   {
    "duration": 4,
    "start_time": "2022-03-24T01:19:50.016Z"
   },
   {
    "duration": 3,
    "start_time": "2022-03-24T01:19:50.651Z"
   },
   {
    "duration": 35,
    "start_time": "2022-03-24T01:19:52.842Z"
   },
   {
    "duration": 10,
    "start_time": "2022-03-24T01:19:54.083Z"
   },
   {
    "duration": 14,
    "start_time": "2022-03-24T01:19:54.808Z"
   },
   {
    "duration": 14,
    "start_time": "2022-03-24T01:19:56.690Z"
   },
   {
    "duration": 41,
    "start_time": "2022-03-24T01:19:58.277Z"
   },
   {
    "duration": 14,
    "start_time": "2022-03-24T01:19:58.757Z"
   },
   {
    "duration": 77,
    "start_time": "2022-03-24T01:20:00.597Z"
   },
   {
    "duration": 86,
    "start_time": "2022-03-24T01:20:01.566Z"
   },
   {
    "duration": 55,
    "start_time": "2022-03-24T01:20:02.082Z"
   },
   {
    "duration": 34,
    "start_time": "2022-03-24T01:20:14.522Z"
   },
   {
    "duration": 19,
    "start_time": "2022-03-24T01:20:24.466Z"
   },
   {
    "duration": 5,
    "start_time": "2022-03-24T01:20:26.103Z"
   },
   {
    "duration": 5,
    "start_time": "2022-03-24T01:20:26.654Z"
   },
   {
    "duration": 14,
    "start_time": "2022-03-24T01:20:27.209Z"
   },
   {
    "duration": 15,
    "start_time": "2022-03-24T01:20:30.521Z"
   },
   {
    "duration": 10,
    "start_time": "2022-03-24T01:20:31.960Z"
   },
   {
    "duration": 51,
    "start_time": "2022-03-24T01:20:34.338Z"
   },
   {
    "duration": 7,
    "start_time": "2022-03-24T01:20:35.217Z"
   },
   {
    "duration": 8,
    "start_time": "2022-03-24T01:20:36.095Z"
   },
   {
    "duration": 4,
    "start_time": "2022-03-24T01:20:38.211Z"
   },
   {
    "duration": 7,
    "start_time": "2022-03-24T01:20:38.920Z"
   },
   {
    "duration": 4,
    "start_time": "2022-03-24T01:20:39.609Z"
   },
   {
    "duration": 7,
    "start_time": "2022-03-24T01:20:40.302Z"
   },
   {
    "duration": 16248,
    "start_time": "2022-03-24T01:20:40.999Z"
   },
   {
    "duration": 42,
    "start_time": "2022-03-24T01:20:57.353Z"
   },
   {
    "duration": 16,
    "start_time": "2022-03-24T01:21:00.925Z"
   },
   {
    "duration": 23,
    "start_time": "2022-03-24T01:21:11.856Z"
   },
   {
    "duration": 16,
    "start_time": "2022-03-24T01:21:14.606Z"
   },
   {
    "duration": 22,
    "start_time": "2022-03-24T01:21:18.970Z"
   },
   {
    "duration": 6,
    "start_time": "2022-03-24T01:21:24.201Z"
   },
   {
    "duration": 15317,
    "start_time": "2022-03-24T01:21:26.607Z"
   },
   {
    "duration": 39,
    "start_time": "2022-03-24T01:21:41.946Z"
   },
   {
    "duration": 4,
    "start_time": "2022-03-24T01:22:15.247Z"
   },
   {
    "duration": 8,
    "start_time": "2022-03-24T01:22:17.390Z"
   },
   {
    "duration": 7,
    "start_time": "2022-03-24T01:22:20.100Z"
   },
   {
    "duration": 14302,
    "start_time": "2022-03-24T01:22:22.022Z"
   },
   {
    "duration": 22,
    "start_time": "2022-03-24T01:22:36.327Z"
   },
   {
    "duration": 51,
    "start_time": "2022-03-24T01:22:36.400Z"
   },
   {
    "duration": 92,
    "start_time": "2022-03-24T01:22:42.352Z"
   },
   {
    "duration": 59,
    "start_time": "2022-03-24T01:22:44.886Z"
   },
   {
    "duration": 22,
    "start_time": "2022-03-24T01:22:49.722Z"
   },
   {
    "duration": 66,
    "start_time": "2022-03-24T01:23:05.598Z"
   },
   {
    "duration": 21,
    "start_time": "2022-03-24T01:23:09.095Z"
   },
   {
    "duration": 12,
    "start_time": "2022-03-24T01:23:11.435Z"
   },
   {
    "duration": 35,
    "start_time": "2022-03-24T01:23:15.027Z"
   },
   {
    "duration": 27,
    "start_time": "2022-03-24T01:23:20.460Z"
   },
   {
    "duration": 55,
    "start_time": "2022-03-24T01:23:23.628Z"
   },
   {
    "duration": 24,
    "start_time": "2022-03-24T01:23:27.458Z"
   },
   {
    "duration": 35,
    "start_time": "2022-03-24T01:23:30.425Z"
   },
   {
    "duration": 45,
    "start_time": "2022-03-24T01:23:33.725Z"
   },
   {
    "duration": 13,
    "start_time": "2022-03-24T01:23:38.360Z"
   },
   {
    "duration": 19,
    "start_time": "2022-03-24T01:23:43.350Z"
   },
   {
    "duration": 32,
    "start_time": "2022-03-24T01:23:48.502Z"
   },
   {
    "duration": 23,
    "start_time": "2022-03-24T01:23:53.155Z"
   },
   {
    "duration": 6,
    "start_time": "2022-03-24T01:23:55.867Z"
   },
   {
    "duration": 7,
    "start_time": "2022-03-24T01:23:57.977Z"
   },
   {
    "duration": 6,
    "start_time": "2022-03-24T01:24:03.355Z"
   },
   {
    "duration": 6,
    "start_time": "2022-03-24T01:24:05.833Z"
   },
   {
    "duration": 35,
    "start_time": "2022-03-24T01:24:09.246Z"
   },
   {
    "duration": 35,
    "start_time": "2022-03-24T01:26:54.989Z"
   },
   {
    "duration": 25,
    "start_time": "2022-03-24T01:27:01.031Z"
   },
   {
    "duration": 36,
    "start_time": "2022-03-24T01:27:05.362Z"
   },
   {
    "duration": 8,
    "start_time": "2022-03-24T01:27:09.182Z"
   },
   {
    "duration": 5,
    "start_time": "2022-03-24T01:27:14.079Z"
   },
   {
    "duration": 10,
    "start_time": "2022-03-24T01:27:17.674Z"
   },
   {
    "duration": 23,
    "start_time": "2022-03-24T01:27:21.723Z"
   },
   {
    "duration": 7,
    "start_time": "2022-03-24T01:27:26.105Z"
   },
   {
    "duration": 10,
    "start_time": "2022-03-24T01:27:28.660Z"
   },
   {
    "duration": 9,
    "start_time": "2022-03-24T01:27:31.727Z"
   },
   {
    "duration": 31,
    "start_time": "2022-03-24T01:27:37.580Z"
   },
   {
    "duration": 9,
    "start_time": "2022-03-24T01:27:40.011Z"
   },
   {
    "duration": 52,
    "start_time": "2022-03-24T01:27:44.581Z"
   },
   {
    "duration": 55,
    "start_time": "2022-03-24T01:27:49.298Z"
   },
   {
    "duration": 40,
    "start_time": "2022-03-24T01:27:51.623Z"
   },
   {
    "duration": 21,
    "start_time": "2022-03-24T01:27:54.890Z"
   },
   {
    "duration": 59,
    "start_time": "2022-03-24T01:28:26.183Z"
   },
   {
    "duration": 57,
    "start_time": "2022-03-24T01:28:40.950Z"
   },
   {
    "duration": 39,
    "start_time": "2022-03-24T01:28:43.186Z"
   },
   {
    "duration": 19,
    "start_time": "2022-03-24T01:28:45.898Z"
   },
   {
    "duration": 20,
    "start_time": "2022-03-24T01:29:27.877Z"
   },
   {
    "duration": 16,
    "start_time": "2022-03-24T01:29:54.056Z"
   },
   {
    "duration": 5,
    "start_time": "2022-03-24T01:30:00.810Z"
   },
   {
    "duration": 8,
    "start_time": "2022-03-24T01:30:03.484Z"
   },
   {
    "duration": 5,
    "start_time": "2022-03-24T01:30:06.347Z"
   },
   {
    "duration": 14,
    "start_time": "2022-03-24T01:30:50.344Z"
   },
   {
    "duration": 9,
    "start_time": "2022-03-24T01:30:52.349Z"
   },
   {
    "duration": 50,
    "start_time": "2022-03-24T01:31:04.566Z"
   },
   {
    "duration": 6,
    "start_time": "2022-03-24T01:31:09.049Z"
   },
   {
    "duration": 7,
    "start_time": "2022-03-24T01:31:11.399Z"
   },
   {
    "duration": 8,
    "start_time": "2022-03-24T01:32:13.485Z"
   },
   {
    "duration": 4,
    "start_time": "2022-03-24T01:32:15.618Z"
   },
   {
    "duration": 8,
    "start_time": "2022-03-24T01:32:33.051Z"
   },
   {
    "duration": 6,
    "start_time": "2022-03-24T01:32:36.154Z"
   },
   {
    "duration": 6,
    "start_time": "2022-03-24T01:32:39.366Z"
   },
   {
    "duration": 8,
    "start_time": "2022-03-24T01:32:41.146Z"
   },
   {
    "duration": 6,
    "start_time": "2022-03-24T01:32:42.977Z"
   },
   {
    "duration": 14357,
    "start_time": "2022-03-24T01:33:05.287Z"
   },
   {
    "duration": 29,
    "start_time": "2022-03-24T01:33:19.659Z"
   },
   {
    "duration": 23,
    "start_time": "2022-03-24T01:33:29.697Z"
   },
   {
    "duration": 18,
    "start_time": "2022-03-24T01:33:39.591Z"
   },
   {
    "duration": 18546,
    "start_time": "2022-03-24T01:33:44.625Z"
   },
   {
    "duration": 32,
    "start_time": "2022-03-24T01:34:03.174Z"
   },
   {
    "duration": 36,
    "start_time": "2022-03-24T01:34:03.644Z"
   },
   {
    "duration": 34,
    "start_time": "2022-03-24T01:34:34.489Z"
   },
   {
    "duration": 18,
    "start_time": "2022-03-24T01:34:38.498Z"
   },
   {
    "duration": 6,
    "start_time": "2022-03-24T01:34:40.945Z"
   },
   {
    "duration": 6,
    "start_time": "2022-03-24T01:34:43.463Z"
   },
   {
    "duration": 7,
    "start_time": "2022-03-24T01:34:46.235Z"
   },
   {
    "duration": 7,
    "start_time": "2022-03-24T01:34:48.034Z"
   },
   {
    "duration": 7,
    "start_time": "2022-03-24T01:34:49.868Z"
   },
   {
    "duration": 9,
    "start_time": "2022-03-24T01:34:53.558Z"
   },
   {
    "duration": 6,
    "start_time": "2022-03-24T01:34:56.122Z"
   },
   {
    "duration": 16611,
    "start_time": "2022-03-24T01:35:00.991Z"
   },
   {
    "duration": 7,
    "start_time": "2022-03-24T01:35:17.605Z"
   },
   {
    "duration": 24,
    "start_time": "2022-03-24T01:38:20.082Z"
   },
   {
    "duration": 15,
    "start_time": "2022-03-24T01:38:34.695Z"
   },
   {
    "duration": 5,
    "start_time": "2022-03-24T01:38:37.039Z"
   },
   {
    "duration": 5,
    "start_time": "2022-03-24T01:38:38.794Z"
   },
   {
    "duration": 7,
    "start_time": "2022-03-24T01:38:41.142Z"
   },
   {
    "duration": 6,
    "start_time": "2022-03-24T01:38:43.618Z"
   },
   {
    "duration": 5,
    "start_time": "2022-03-24T01:39:31.756Z"
   },
   {
    "duration": 13105,
    "start_time": "2022-03-24T01:39:58.910Z"
   },
   {
    "duration": 7,
    "start_time": "2022-03-24T01:40:12.017Z"
   },
   {
    "duration": 4,
    "start_time": "2022-03-24T01:43:08.436Z"
   },
   {
    "duration": 7,
    "start_time": "2022-03-24T01:43:13.593Z"
   },
   {
    "duration": 12821,
    "start_time": "2022-03-24T01:43:15.849Z"
   },
   {
    "duration": 10,
    "start_time": "2022-03-24T01:43:28.689Z"
   },
   {
    "duration": 15,
    "start_time": "2022-03-24T01:43:28.702Z"
   },
   {
    "duration": 14,
    "start_time": "2022-03-24T01:43:49.951Z"
   },
   {
    "duration": 9,
    "start_time": "2022-03-24T01:43:58.790Z"
   },
   {
    "duration": 8,
    "start_time": "2022-03-24T01:44:01.626Z"
   },
   {
    "duration": 5,
    "start_time": "2022-03-24T01:44:04.625Z"
   },
   {
    "duration": 24,
    "start_time": "2022-03-24T01:44:06.293Z"
   },
   {
    "duration": 38,
    "start_time": "2022-03-24T01:44:10.746Z"
   },
   {
    "duration": 39,
    "start_time": "2022-03-24T01:44:14.387Z"
   },
   {
    "duration": 5,
    "start_time": "2022-03-24T01:44:17.148Z"
   },
   {
    "duration": 19,
    "start_time": "2022-03-24T01:44:20.059Z"
   },
   {
    "duration": 34,
    "start_time": "2022-03-24T01:45:01.329Z"
   },
   {
    "duration": 7,
    "start_time": "2022-03-24T01:45:07.265Z"
   },
   {
    "duration": 17,
    "start_time": "2022-03-24T01:45:37.284Z"
   },
   {
    "duration": 15,
    "start_time": "2022-03-24T01:45:53.124Z"
   },
   {
    "duration": 5,
    "start_time": "2022-03-24T01:45:58.792Z"
   },
   {
    "duration": 8,
    "start_time": "2022-03-24T01:46:03.746Z"
   },
   {
    "duration": 8,
    "start_time": "2022-03-24T01:46:09.012Z"
   },
   {
    "duration": 6,
    "start_time": "2022-03-24T01:46:11.716Z"
   },
   {
    "duration": 5,
    "start_time": "2022-03-24T01:46:14.272Z"
   },
   {
    "duration": 38,
    "start_time": "2022-03-24T01:46:17.402Z"
   },
   {
    "duration": 38,
    "start_time": "2022-03-24T01:46:28.110Z"
   },
   {
    "duration": 5,
    "start_time": "2022-03-24T01:46:30.911Z"
   },
   {
    "duration": 13,
    "start_time": "2022-03-24T01:46:33.766Z"
   },
   {
    "duration": 8,
    "start_time": "2022-03-24T01:46:36.514Z"
   },
   {
    "duration": 18,
    "start_time": "2022-03-24T01:46:39.489Z"
   },
   {
    "duration": 22,
    "start_time": "2022-03-24T01:51:36.523Z"
   },
   {
    "duration": 118,
    "start_time": "2022-03-24T01:54:30.839Z"
   },
   {
    "duration": 22,
    "start_time": "2022-03-24T01:55:38.795Z"
   },
   {
    "duration": 22,
    "start_time": "2022-03-24T01:56:45.202Z"
   },
   {
    "duration": 50,
    "start_time": "2022-03-24T01:57:05.729Z"
   },
   {
    "duration": 25,
    "start_time": "2022-03-24T01:57:20.087Z"
   },
   {
    "duration": 39,
    "start_time": "2022-03-24T01:58:20.197Z"
   },
   {
    "duration": 37,
    "start_time": "2022-03-24T02:04:05.350Z"
   },
   {
    "duration": 37,
    "start_time": "2022-03-24T02:04:45.676Z"
   },
   {
    "duration": 24,
    "start_time": "2022-03-24T02:06:33.398Z"
   },
   {
    "duration": 25,
    "start_time": "2022-03-24T02:10:04.136Z"
   },
   {
    "duration": 25,
    "start_time": "2022-03-24T02:10:26.711Z"
   },
   {
    "duration": 37,
    "start_time": "2022-03-24T02:10:47.809Z"
   },
   {
    "duration": 37,
    "start_time": "2022-03-24T02:12:36.875Z"
   },
   {
    "duration": 39,
    "start_time": "2022-03-24T02:13:56.065Z"
   },
   {
    "duration": 28,
    "start_time": "2022-03-24T02:23:12.055Z"
   },
   {
    "duration": 14,
    "start_time": "2022-03-24T02:25:48.803Z"
   },
   {
    "duration": 25,
    "start_time": "2022-03-24T02:34:11.398Z"
   },
   {
    "duration": 200,
    "start_time": "2022-03-24T07:36:48.385Z"
   },
   {
    "duration": 187,
    "start_time": "2022-03-24T07:42:12.805Z"
   },
   {
    "duration": 48,
    "start_time": "2022-03-24T13:44:23.103Z"
   },
   {
    "duration": 484,
    "start_time": "2022-03-24T13:44:32.378Z"
   },
   {
    "duration": 15,
    "start_time": "2022-03-24T13:44:32.864Z"
   },
   {
    "duration": 7,
    "start_time": "2022-03-24T13:44:32.881Z"
   },
   {
    "duration": 17,
    "start_time": "2022-03-24T13:44:32.890Z"
   },
   {
    "duration": 11,
    "start_time": "2022-03-24T13:44:32.908Z"
   },
   {
    "duration": 59,
    "start_time": "2022-03-24T13:44:32.920Z"
   },
   {
    "duration": 13,
    "start_time": "2022-03-24T13:44:32.981Z"
   },
   {
    "duration": 25,
    "start_time": "2022-03-24T13:44:32.996Z"
   },
   {
    "duration": 52,
    "start_time": "2022-03-24T13:44:33.023Z"
   },
   {
    "duration": 8,
    "start_time": "2022-03-24T13:44:33.078Z"
   },
   {
    "duration": 13,
    "start_time": "2022-03-24T13:44:33.087Z"
   },
   {
    "duration": 11,
    "start_time": "2022-03-24T13:44:33.102Z"
   },
   {
    "duration": 23,
    "start_time": "2022-03-24T13:44:33.114Z"
   },
   {
    "duration": 25,
    "start_time": "2022-03-24T13:44:33.139Z"
   },
   {
    "duration": 6,
    "start_time": "2022-03-24T13:44:33.166Z"
   },
   {
    "duration": 5,
    "start_time": "2022-03-24T13:44:33.174Z"
   },
   {
    "duration": 11,
    "start_time": "2022-03-24T13:44:33.181Z"
   },
   {
    "duration": 27,
    "start_time": "2022-03-24T13:44:33.194Z"
   },
   {
    "duration": 18,
    "start_time": "2022-03-24T13:44:33.222Z"
   },
   {
    "duration": 44,
    "start_time": "2022-03-24T13:44:33.241Z"
   },
   {
    "duration": 5,
    "start_time": "2022-03-24T13:44:33.287Z"
   },
   {
    "duration": 8,
    "start_time": "2022-03-24T13:44:33.293Z"
   },
   {
    "duration": 6,
    "start_time": "2022-03-24T13:44:33.302Z"
   },
   {
    "duration": 7,
    "start_time": "2022-03-24T13:44:33.310Z"
   },
   {
    "duration": 34,
    "start_time": "2022-03-24T13:44:33.319Z"
   },
   {
    "duration": 26,
    "start_time": "2022-03-24T13:44:33.354Z"
   },
   {
    "duration": 34,
    "start_time": "2022-03-24T13:44:33.382Z"
   },
   {
    "duration": 55,
    "start_time": "2022-03-24T13:44:33.420Z"
   },
   {
    "duration": 28,
    "start_time": "2022-03-24T13:44:33.477Z"
   },
   {
    "duration": 24,
    "start_time": "2022-03-24T13:44:33.506Z"
   },
   {
    "duration": 62,
    "start_time": "2022-03-24T13:44:33.531Z"
   },
   {
    "duration": 6,
    "start_time": "2022-03-24T13:44:33.595Z"
   },
   {
    "duration": 72,
    "start_time": "2022-03-24T13:44:33.603Z"
   },
   {
    "duration": 34,
    "start_time": "2022-03-24T13:44:33.677Z"
   },
   {
    "duration": 26,
    "start_time": "2022-03-24T13:44:33.713Z"
   },
   {
    "duration": 30,
    "start_time": "2022-03-24T13:44:33.741Z"
   },
   {
    "duration": 24,
    "start_time": "2022-03-24T13:44:33.772Z"
   },
   {
    "duration": 30,
    "start_time": "2022-03-24T13:44:33.798Z"
   },
   {
    "duration": 42,
    "start_time": "2022-03-24T13:44:33.830Z"
   },
   {
    "duration": 30,
    "start_time": "2022-03-24T13:44:33.874Z"
   },
   {
    "duration": 30,
    "start_time": "2022-03-24T13:44:33.906Z"
   },
   {
    "duration": 49,
    "start_time": "2022-03-24T13:44:33.938Z"
   },
   {
    "duration": 5,
    "start_time": "2022-03-24T13:44:33.988Z"
   },
   {
    "duration": 28,
    "start_time": "2022-03-24T13:44:33.994Z"
   },
   {
    "duration": 13,
    "start_time": "2022-03-24T13:44:34.023Z"
   },
   {
    "duration": 29,
    "start_time": "2022-03-24T13:44:34.038Z"
   },
   {
    "duration": 22,
    "start_time": "2022-03-24T13:44:34.069Z"
   },
   {
    "duration": 11452,
    "start_time": "2022-03-24T13:44:34.093Z"
   },
   {
    "duration": 18,
    "start_time": "2022-03-24T13:44:45.546Z"
   },
   {
    "duration": 36,
    "start_time": "2022-03-24T13:44:45.566Z"
   },
   {
    "duration": 26,
    "start_time": "2022-03-24T13:44:45.604Z"
   },
   {
    "duration": 47,
    "start_time": "2022-03-24T13:44:45.631Z"
   },
   {
    "duration": 41,
    "start_time": "2022-03-24T13:44:45.680Z"
   },
   {
    "duration": 21,
    "start_time": "2022-03-24T13:44:45.723Z"
   },
   {
    "duration": 38,
    "start_time": "2022-03-24T13:44:45.745Z"
   },
   {
    "duration": 29,
    "start_time": "2022-03-24T13:44:45.785Z"
   },
   {
    "duration": 11103,
    "start_time": "2022-03-24T13:44:45.816Z"
   },
   {
    "duration": 4,
    "start_time": "2022-03-24T13:44:56.921Z"
   },
   {
    "duration": 12,
    "start_time": "2022-03-24T13:44:56.927Z"
   },
   {
    "duration": 9,
    "start_time": "2022-03-24T13:44:56.940Z"
   },
   {
    "duration": 4,
    "start_time": "2022-03-24T13:44:56.963Z"
   },
   {
    "duration": 5,
    "start_time": "2022-03-24T13:44:56.969Z"
   },
   {
    "duration": 20,
    "start_time": "2022-03-24T13:44:56.975Z"
   },
   {
    "duration": 24,
    "start_time": "2022-03-24T13:44:56.997Z"
   },
   {
    "duration": 48,
    "start_time": "2022-03-24T13:44:57.023Z"
   },
   {
    "duration": 4,
    "start_time": "2022-03-24T13:44:57.073Z"
   },
   {
    "duration": 11,
    "start_time": "2022-03-24T13:44:57.079Z"
   },
   {
    "duration": 6,
    "start_time": "2022-03-24T13:44:57.091Z"
   },
   {
    "duration": 25,
    "start_time": "2022-03-24T13:44:57.098Z"
   },
   {
    "duration": 17,
    "start_time": "2022-03-24T13:44:57.125Z"
   },
   {
    "duration": 32,
    "start_time": "2022-03-24T13:44:57.144Z"
   },
   {
    "duration": 24,
    "start_time": "2022-03-24T13:44:57.177Z"
   },
   {
    "duration": 15,
    "start_time": "2022-03-24T13:44:57.202Z"
   },
   {
    "duration": 14,
    "start_time": "2022-03-24T13:46:17.830Z"
   },
   {
    "duration": 15,
    "start_time": "2022-03-24T13:46:42.643Z"
   },
   {
    "duration": 22,
    "start_time": "2022-03-24T13:46:53.888Z"
   },
   {
    "duration": 198,
    "start_time": "2022-03-24T13:50:53.986Z"
   },
   {
    "duration": 134,
    "start_time": "2022-03-24T13:51:10.783Z"
   },
   {
    "duration": 64,
    "start_time": "2022-03-24T13:51:16.623Z"
   },
   {
    "duration": 72,
    "start_time": "2022-03-24T13:51:25.726Z"
   },
   {
    "duration": 15,
    "start_time": "2022-03-24T13:51:42.023Z"
   },
   {
    "duration": 22,
    "start_time": "2022-03-24T13:53:05.052Z"
   },
   {
    "duration": 139,
    "start_time": "2022-03-24T14:25:51.153Z"
   },
   {
    "duration": 191,
    "start_time": "2022-03-24T14:26:32.050Z"
   },
   {
    "duration": 149,
    "start_time": "2022-03-24T14:26:47.973Z"
   },
   {
    "duration": 137,
    "start_time": "2022-03-24T14:27:38.492Z"
   },
   {
    "duration": 132,
    "start_time": "2022-03-24T14:27:42.912Z"
   },
   {
    "duration": 11,
    "start_time": "2022-03-24T14:27:48.655Z"
   },
   {
    "duration": 23,
    "start_time": "2022-03-24T14:27:56.575Z"
   },
   {
    "duration": 22,
    "start_time": "2022-03-24T14:29:34.304Z"
   },
   {
    "duration": 167,
    "start_time": "2022-03-24T14:30:23.137Z"
   },
   {
    "duration": 34,
    "start_time": "2022-03-24T14:30:44.652Z"
   },
   {
    "duration": 91,
    "start_time": "2022-03-24T14:31:38.326Z"
   },
   {
    "duration": 55,
    "start_time": "2022-03-24T14:31:59.805Z"
   },
   {
    "duration": 34,
    "start_time": "2022-03-24T14:32:28.181Z"
   },
   {
    "duration": 499,
    "start_time": "2022-03-24T18:27:11.718Z"
   },
   {
    "duration": 18,
    "start_time": "2022-03-24T18:27:12.219Z"
   },
   {
    "duration": 13,
    "start_time": "2022-03-24T18:27:12.239Z"
   },
   {
    "duration": 27,
    "start_time": "2022-03-24T18:27:12.255Z"
   },
   {
    "duration": 14,
    "start_time": "2022-03-24T18:27:12.301Z"
   },
   {
    "duration": 32,
    "start_time": "2022-03-24T18:27:12.318Z"
   },
   {
    "duration": 17,
    "start_time": "2022-03-24T18:27:12.352Z"
   },
   {
    "duration": 31,
    "start_time": "2022-03-24T18:27:12.400Z"
   },
   {
    "duration": 35,
    "start_time": "2022-03-24T18:27:12.433Z"
   },
   {
    "duration": 9,
    "start_time": "2022-03-24T18:27:12.501Z"
   },
   {
    "duration": 22,
    "start_time": "2022-03-24T18:27:12.513Z"
   },
   {
    "duration": 13,
    "start_time": "2022-03-24T18:27:12.537Z"
   },
   {
    "duration": 19,
    "start_time": "2022-03-24T18:27:12.552Z"
   },
   {
    "duration": 42,
    "start_time": "2022-03-24T18:27:12.573Z"
   },
   {
    "duration": 13,
    "start_time": "2022-03-24T18:27:12.617Z"
   },
   {
    "duration": 9,
    "start_time": "2022-03-24T18:27:12.632Z"
   },
   {
    "duration": 14,
    "start_time": "2022-03-24T18:27:12.643Z"
   },
   {
    "duration": 36,
    "start_time": "2022-03-24T18:27:12.659Z"
   },
   {
    "duration": 19,
    "start_time": "2022-03-24T18:27:12.697Z"
   },
   {
    "duration": 28,
    "start_time": "2022-03-24T18:27:12.718Z"
   },
   {
    "duration": 6,
    "start_time": "2022-03-24T18:27:12.748Z"
   },
   {
    "duration": 10,
    "start_time": "2022-03-24T18:27:12.757Z"
   },
   {
    "duration": 6,
    "start_time": "2022-03-24T18:27:12.800Z"
   },
   {
    "duration": 13,
    "start_time": "2022-03-24T18:27:12.808Z"
   },
   {
    "duration": 8,
    "start_time": "2022-03-24T18:27:12.824Z"
   },
   {
    "duration": 14,
    "start_time": "2022-03-24T18:27:12.834Z"
   },
   {
    "duration": 24,
    "start_time": "2022-03-24T18:27:12.851Z"
   },
   {
    "duration": 13,
    "start_time": "2022-03-24T18:27:12.880Z"
   },
   {
    "duration": 13,
    "start_time": "2022-03-24T18:27:12.895Z"
   },
   {
    "duration": 18,
    "start_time": "2022-03-24T18:27:12.910Z"
   },
   {
    "duration": 28,
    "start_time": "2022-03-24T18:27:12.930Z"
   },
   {
    "duration": 8,
    "start_time": "2022-03-24T18:27:12.960Z"
   },
   {
    "duration": 52,
    "start_time": "2022-03-24T18:27:12.970Z"
   },
   {
    "duration": 43,
    "start_time": "2022-03-24T18:27:13.025Z"
   },
   {
    "duration": 45,
    "start_time": "2022-03-24T18:27:13.070Z"
   },
   {
    "duration": 16,
    "start_time": "2022-03-24T18:27:13.117Z"
   },
   {
    "duration": 20,
    "start_time": "2022-03-24T18:27:13.135Z"
   },
   {
    "duration": 13,
    "start_time": "2022-03-24T18:27:13.157Z"
   },
   {
    "duration": 16,
    "start_time": "2022-03-24T18:27:13.172Z"
   },
   {
    "duration": 23,
    "start_time": "2022-03-24T18:27:13.190Z"
   },
   {
    "duration": 13,
    "start_time": "2022-03-24T18:27:13.215Z"
   },
   {
    "duration": 44,
    "start_time": "2022-03-24T18:27:13.230Z"
   },
   {
    "duration": 6,
    "start_time": "2022-03-24T18:27:13.276Z"
   },
   {
    "duration": 18,
    "start_time": "2022-03-24T18:27:13.283Z"
   },
   {
    "duration": 16,
    "start_time": "2022-03-24T18:27:13.303Z"
   },
   {
    "duration": 11,
    "start_time": "2022-03-24T18:27:13.321Z"
   },
   {
    "duration": 11,
    "start_time": "2022-03-24T18:27:13.334Z"
   },
   {
    "duration": 13802,
    "start_time": "2022-03-24T18:27:13.347Z"
   },
   {
    "duration": 19,
    "start_time": "2022-03-24T18:27:27.151Z"
   },
   {
    "duration": 35,
    "start_time": "2022-03-24T18:27:27.172Z"
   },
   {
    "duration": 22,
    "start_time": "2022-03-24T18:27:27.209Z"
   },
   {
    "duration": 45,
    "start_time": "2022-03-24T18:27:27.234Z"
   },
   {
    "duration": 11,
    "start_time": "2022-03-24T18:27:27.282Z"
   },
   {
    "duration": 7,
    "start_time": "2022-03-24T18:27:27.295Z"
   },
   {
    "duration": 11,
    "start_time": "2022-03-24T18:27:27.304Z"
   },
   {
    "duration": 12,
    "start_time": "2022-03-24T18:27:27.317Z"
   },
   {
    "duration": 14201,
    "start_time": "2022-03-24T18:27:27.331Z"
   },
   {
    "duration": 7,
    "start_time": "2022-03-24T18:27:41.534Z"
   },
   {
    "duration": 36,
    "start_time": "2022-03-24T18:27:41.543Z"
   },
   {
    "duration": 30,
    "start_time": "2022-03-24T18:27:41.581Z"
   },
   {
    "duration": 23,
    "start_time": "2022-03-24T18:27:41.613Z"
   },
   {
    "duration": 23,
    "start_time": "2022-03-24T18:27:41.638Z"
   },
   {
    "duration": 43,
    "start_time": "2022-03-24T18:27:41.663Z"
   },
   {
    "duration": 55,
    "start_time": "2022-03-24T18:27:41.708Z"
   },
   {
    "duration": 60,
    "start_time": "2022-03-24T18:27:41.765Z"
   },
   {
    "duration": 6,
    "start_time": "2022-03-24T18:27:41.827Z"
   },
   {
    "duration": 26,
    "start_time": "2022-03-24T18:27:41.835Z"
   },
   {
    "duration": 30,
    "start_time": "2022-03-24T18:27:41.863Z"
   },
   {
    "duration": 49,
    "start_time": "2022-03-24T18:27:41.895Z"
   },
   {
    "duration": 62,
    "start_time": "2022-03-24T18:27:41.946Z"
   },
   {
    "duration": 46,
    "start_time": "2022-03-24T18:27:42.010Z"
   },
   {
    "duration": 85,
    "start_time": "2022-03-24T18:27:42.058Z"
   },
   {
    "duration": 61,
    "start_time": "2022-03-24T18:27:42.145Z"
   },
   {
    "duration": 963,
    "start_time": "2022-03-24T18:31:48.798Z"
   },
   {
    "duration": 97,
    "start_time": "2022-03-24T18:32:43.827Z"
   },
   {
    "duration": 140,
    "start_time": "2022-03-24T18:33:48.012Z"
   },
   {
    "duration": 95,
    "start_time": "2022-03-24T18:33:52.480Z"
   },
   {
    "duration": 54,
    "start_time": "2022-03-24T18:34:05.956Z"
   },
   {
    "duration": 25,
    "start_time": "2022-03-24T19:11:20.145Z"
   },
   {
    "duration": 52,
    "start_time": "2022-03-24T19:11:27.108Z"
   },
   {
    "duration": 50,
    "start_time": "2022-03-24T19:13:28.260Z"
   },
   {
    "duration": 18,
    "start_time": "2022-03-24T19:13:33.210Z"
   },
   {
    "duration": 11,
    "start_time": "2022-03-24T19:13:35.653Z"
   },
   {
    "duration": 27,
    "start_time": "2022-03-24T19:13:42.432Z"
   },
   {
    "duration": 16,
    "start_time": "2022-03-24T19:13:46.465Z"
   },
   {
    "duration": 24,
    "start_time": "2022-03-24T19:13:48.766Z"
   },
   {
    "duration": 19,
    "start_time": "2022-03-24T19:13:53.442Z"
   },
   {
    "duration": 37,
    "start_time": "2022-03-24T19:13:59.354Z"
   },
   {
    "duration": 14,
    "start_time": "2022-03-24T19:14:03.321Z"
   },
   {
    "duration": 21,
    "start_time": "2022-03-24T19:14:09.548Z"
   },
   {
    "duration": 17,
    "start_time": "2022-03-24T19:14:12.107Z"
   },
   {
    "duration": 6,
    "start_time": "2022-03-24T19:14:14.987Z"
   },
   {
    "duration": 5,
    "start_time": "2022-03-24T19:14:16.586Z"
   },
   {
    "duration": 5,
    "start_time": "2022-03-24T19:14:18.098Z"
   },
   {
    "duration": 6,
    "start_time": "2022-03-24T19:14:19.924Z"
   },
   {
    "duration": 27,
    "start_time": "2022-03-24T19:14:22.646Z"
   },
   {
    "duration": 20,
    "start_time": "2022-03-24T19:14:24.535Z"
   },
   {
    "duration": 40,
    "start_time": "2022-03-24T19:14:29.255Z"
   },
   {
    "duration": 6,
    "start_time": "2022-03-24T19:14:31.059Z"
   },
   {
    "duration": 6,
    "start_time": "2022-03-24T19:14:33.111Z"
   },
   {
    "duration": 11,
    "start_time": "2022-03-24T19:14:35.451Z"
   },
   {
    "duration": 21,
    "start_time": "2022-03-24T19:14:39.835Z"
   },
   {
    "duration": 11,
    "start_time": "2022-03-24T19:14:41.619Z"
   },
   {
    "duration": 8,
    "start_time": "2022-03-24T19:14:43.364Z"
   },
   {
    "duration": 9,
    "start_time": "2022-03-24T19:14:45.604Z"
   },
   {
    "duration": 52,
    "start_time": "2022-03-24T19:14:48.228Z"
   },
   {
    "duration": 55,
    "start_time": "2022-03-24T19:14:50.900Z"
   },
   {
    "duration": 16,
    "start_time": "2022-03-24T19:14:55.294Z"
   },
   {
    "duration": 4,
    "start_time": "2022-03-24T19:15:04.802Z"
   },
   {
    "duration": 4,
    "start_time": "2022-03-24T19:15:06.758Z"
   },
   {
    "duration": 13,
    "start_time": "2022-03-24T19:15:08.342Z"
   },
   {
    "duration": 9,
    "start_time": "2022-03-24T19:15:10.205Z"
   },
   {
    "duration": 59,
    "start_time": "2022-03-24T19:15:11.935Z"
   },
   {
    "duration": 8,
    "start_time": "2022-03-24T19:15:13.515Z"
   },
   {
    "duration": 6,
    "start_time": "2022-03-24T19:15:16.469Z"
   },
   {
    "duration": 7,
    "start_time": "2022-03-24T19:15:18.273Z"
   },
   {
    "duration": 3,
    "start_time": "2022-03-24T19:15:20.238Z"
   },
   {
    "duration": 7,
    "start_time": "2022-03-24T19:15:22.077Z"
   },
   {
    "duration": 6,
    "start_time": "2022-03-24T19:15:24.237Z"
   },
   {
    "duration": 17,
    "start_time": "2022-03-24T19:15:25.228Z"
   },
   {
    "duration": 11267,
    "start_time": "2022-03-24T19:15:41.357Z"
   },
   {
    "duration": 13,
    "start_time": "2022-03-24T19:15:52.642Z"
   },
   {
    "duration": 4,
    "start_time": "2022-03-24T19:15:52.657Z"
   },
   {
    "duration": 56,
    "start_time": "2022-03-24T19:15:52.663Z"
   },
   {
    "duration": 11,
    "start_time": "2022-03-24T19:15:52.721Z"
   },
   {
    "duration": 4,
    "start_time": "2022-03-24T19:15:52.734Z"
   },
   {
    "duration": 7,
    "start_time": "2022-03-24T19:15:52.739Z"
   },
   {
    "duration": 12918,
    "start_time": "2022-03-24T19:15:52.749Z"
   },
   {
    "duration": 6,
    "start_time": "2022-03-24T19:16:05.669Z"
   },
   {
    "duration": 28,
    "start_time": "2022-03-24T19:16:05.677Z"
   },
   {
    "duration": 30,
    "start_time": "2022-03-24T19:16:05.707Z"
   },
   {
    "duration": 16,
    "start_time": "2022-03-24T19:16:05.739Z"
   },
   {
    "duration": 8,
    "start_time": "2022-03-24T19:16:05.757Z"
   },
   {
    "duration": 27,
    "start_time": "2022-03-24T19:16:05.793Z"
   },
   {
    "duration": 34,
    "start_time": "2022-03-24T19:16:05.822Z"
   },
   {
    "duration": 5,
    "start_time": "2022-03-24T19:16:06.050Z"
   },
   {
    "duration": 2587,
    "start_time": "2022-03-24T19:16:07.395Z"
   },
   {
    "duration": 0,
    "start_time": "2022-03-24T19:16:09.984Z"
   },
   {
    "duration": 18,
    "start_time": "2022-03-24T19:16:10.612Z"
   },
   {
    "duration": 520,
    "start_time": "2022-03-24T19:17:24.426Z"
   },
   {
    "duration": 21,
    "start_time": "2022-03-24T19:17:24.948Z"
   },
   {
    "duration": 31,
    "start_time": "2022-03-24T19:17:24.971Z"
   },
   {
    "duration": 25,
    "start_time": "2022-03-24T19:17:25.005Z"
   },
   {
    "duration": 33,
    "start_time": "2022-03-24T19:17:25.032Z"
   },
   {
    "duration": 57,
    "start_time": "2022-03-24T19:17:25.067Z"
   },
   {
    "duration": 17,
    "start_time": "2022-03-24T19:17:25.127Z"
   },
   {
    "duration": 71,
    "start_time": "2022-03-24T19:17:25.146Z"
   },
   {
    "duration": 34,
    "start_time": "2022-03-24T19:17:25.218Z"
   },
   {
    "duration": 10,
    "start_time": "2022-03-24T19:17:25.255Z"
   },
   {
    "duration": 48,
    "start_time": "2022-03-24T19:17:25.267Z"
   },
   {
    "duration": 14,
    "start_time": "2022-03-24T19:17:25.317Z"
   },
   {
    "duration": 23,
    "start_time": "2022-03-24T19:17:25.333Z"
   },
   {
    "duration": 10,
    "start_time": "2022-03-24T19:17:25.358Z"
   },
   {
    "duration": 36,
    "start_time": "2022-03-24T19:17:25.369Z"
   },
   {
    "duration": 14,
    "start_time": "2022-03-24T19:17:25.407Z"
   },
   {
    "duration": 10,
    "start_time": "2022-03-24T19:17:25.423Z"
   },
   {
    "duration": 38,
    "start_time": "2022-03-24T19:17:25.436Z"
   },
   {
    "duration": 43,
    "start_time": "2022-03-24T19:17:25.477Z"
   },
   {
    "duration": 39,
    "start_time": "2022-03-24T19:17:25.522Z"
   },
   {
    "duration": 6,
    "start_time": "2022-03-24T19:17:25.563Z"
   },
   {
    "duration": 5,
    "start_time": "2022-03-24T19:17:25.602Z"
   },
   {
    "duration": 21,
    "start_time": "2022-03-24T19:17:25.610Z"
   },
   {
    "duration": 28,
    "start_time": "2022-03-24T19:17:25.633Z"
   },
   {
    "duration": 8,
    "start_time": "2022-03-24T19:17:25.663Z"
   },
   {
    "duration": 9,
    "start_time": "2022-03-24T19:17:25.673Z"
   },
   {
    "duration": 30,
    "start_time": "2022-03-24T19:17:25.684Z"
   },
   {
    "duration": 9,
    "start_time": "2022-03-24T19:17:25.721Z"
   },
   {
    "duration": 11,
    "start_time": "2022-03-24T19:17:25.733Z"
   },
   {
    "duration": 17,
    "start_time": "2022-03-24T19:17:25.747Z"
   },
   {
    "duration": 28,
    "start_time": "2022-03-24T19:17:25.766Z"
   },
   {
    "duration": 8,
    "start_time": "2022-03-24T19:17:25.800Z"
   },
   {
    "duration": 44,
    "start_time": "2022-03-24T19:17:25.810Z"
   },
   {
    "duration": 56,
    "start_time": "2022-03-24T19:17:25.856Z"
   },
   {
    "duration": 26,
    "start_time": "2022-03-24T19:17:25.914Z"
   },
   {
    "duration": 16,
    "start_time": "2022-03-24T19:17:25.942Z"
   },
   {
    "duration": 42,
    "start_time": "2022-03-24T19:17:25.960Z"
   },
   {
    "duration": 12,
    "start_time": "2022-03-24T19:17:26.004Z"
   },
   {
    "duration": 10,
    "start_time": "2022-03-24T19:17:26.019Z"
   },
   {
    "duration": 25,
    "start_time": "2022-03-24T19:17:26.031Z"
   },
   {
    "duration": 10,
    "start_time": "2022-03-24T19:17:26.058Z"
   },
   {
    "duration": 80,
    "start_time": "2022-03-24T19:17:26.071Z"
   },
   {
    "duration": 6,
    "start_time": "2022-03-24T19:17:26.153Z"
   },
   {
    "duration": 20,
    "start_time": "2022-03-24T19:17:26.161Z"
   },
   {
    "duration": 19,
    "start_time": "2022-03-24T19:17:26.183Z"
   },
   {
    "duration": 22,
    "start_time": "2022-03-24T19:17:26.204Z"
   },
   {
    "duration": 12,
    "start_time": "2022-03-24T19:17:26.229Z"
   },
   {
    "duration": 13552,
    "start_time": "2022-03-24T19:17:26.243Z"
   },
   {
    "duration": 18,
    "start_time": "2022-03-24T19:17:39.800Z"
   },
   {
    "duration": 14,
    "start_time": "2022-03-24T19:17:39.819Z"
   },
   {
    "duration": 2,
    "start_time": "2022-03-24T19:17:39.835Z"
   },
   {
    "duration": 19,
    "start_time": "2022-03-24T19:17:39.839Z"
   },
   {
    "duration": 42,
    "start_time": "2022-03-24T19:17:39.860Z"
   },
   {
    "duration": 4,
    "start_time": "2022-03-24T19:17:39.903Z"
   },
   {
    "duration": 5,
    "start_time": "2022-03-24T19:17:39.909Z"
   },
   {
    "duration": 9,
    "start_time": "2022-03-24T19:17:39.916Z"
   },
   {
    "duration": 13211,
    "start_time": "2022-03-24T19:17:39.927Z"
   },
   {
    "duration": 5,
    "start_time": "2022-03-24T19:17:53.140Z"
   },
   {
    "duration": 16,
    "start_time": "2022-03-24T19:17:53.147Z"
   },
   {
    "duration": 12,
    "start_time": "2022-03-24T19:17:53.165Z"
   },
   {
    "duration": 24,
    "start_time": "2022-03-24T19:17:53.178Z"
   },
   {
    "duration": 17,
    "start_time": "2022-03-24T19:17:53.204Z"
   },
   {
    "duration": 22,
    "start_time": "2022-03-24T19:17:53.224Z"
   },
   {
    "duration": 54,
    "start_time": "2022-03-24T19:17:53.248Z"
   },
   {
    "duration": 38,
    "start_time": "2022-03-24T19:17:53.305Z"
   },
   {
    "duration": 9,
    "start_time": "2022-03-24T19:17:53.348Z"
   },
   {
    "duration": 20,
    "start_time": "2022-03-24T19:17:53.359Z"
   },
   {
    "duration": 36,
    "start_time": "2022-03-24T19:17:53.382Z"
   },
   {
    "duration": 21,
    "start_time": "2022-03-24T19:17:53.421Z"
   },
   {
    "duration": 29,
    "start_time": "2022-03-24T19:17:53.443Z"
   },
   {
    "duration": 76,
    "start_time": "2022-03-24T19:17:53.474Z"
   },
   {
    "duration": 81,
    "start_time": "2022-03-24T19:17:53.552Z"
   },
   {
    "duration": 39,
    "start_time": "2022-03-24T19:17:53.635Z"
   },
   {
    "duration": 59,
    "start_time": "2022-03-24T19:17:53.766Z"
   },
   {
    "duration": 16,
    "start_time": "2022-03-24T19:17:53.827Z"
   },
   {
    "duration": 18,
    "start_time": "2022-03-24T19:17:53.845Z"
   },
   {
    "duration": 40,
    "start_time": "2022-03-24T19:17:53.867Z"
   },
   {
    "duration": 12,
    "start_time": "2022-03-24T19:17:53.909Z"
   },
   {
    "duration": 31,
    "start_time": "2022-03-24T19:17:53.924Z"
   },
   {
    "duration": 44,
    "start_time": "2022-03-24T19:17:53.957Z"
   },
   {
    "duration": 44,
    "start_time": "2022-03-24T19:17:54.003Z"
   },
   {
    "duration": 73,
    "start_time": "2022-03-24T19:17:54.049Z"
   },
   {
    "duration": 11,
    "start_time": "2022-03-24T19:17:54.124Z"
   },
   {
    "duration": 21,
    "start_time": "2022-03-24T19:17:54.137Z"
   },
   {
    "duration": 18,
    "start_time": "2022-03-24T19:17:54.160Z"
   },
   {
    "duration": 46,
    "start_time": "2022-03-24T19:17:54.181Z"
   },
   {
    "duration": 6,
    "start_time": "2022-03-24T19:17:54.229Z"
   },
   {
    "duration": 10,
    "start_time": "2022-03-24T19:17:54.237Z"
   },
   {
    "duration": 19,
    "start_time": "2022-03-24T19:17:54.249Z"
   },
   {
    "duration": 8,
    "start_time": "2022-03-24T19:17:54.272Z"
   },
   {
    "duration": 28,
    "start_time": "2022-03-24T19:17:54.642Z"
   },
   {
    "duration": 22,
    "start_time": "2022-03-24T19:17:55.024Z"
   },
   {
    "duration": 26,
    "start_time": "2022-03-24T19:17:55.204Z"
   },
   {
    "duration": 5,
    "start_time": "2022-03-24T19:17:55.587Z"
   },
   {
    "duration": 5,
    "start_time": "2022-03-24T19:17:56.138Z"
   },
   {
    "duration": 6,
    "start_time": "2022-03-24T19:17:56.304Z"
   },
   {
    "duration": 8,
    "start_time": "2022-03-24T19:17:56.678Z"
   },
   {
    "duration": 3,
    "start_time": "2022-03-24T19:17:56.860Z"
   },
   {
    "duration": 3,
    "start_time": "2022-03-24T19:17:57.059Z"
   },
   {
    "duration": 21,
    "start_time": "2022-03-24T19:17:57.455Z"
   },
   {
    "duration": 6,
    "start_time": "2022-03-24T19:17:57.673Z"
   },
   {
    "duration": 11,
    "start_time": "2022-03-24T19:17:57.866Z"
   },
   {
    "duration": 8,
    "start_time": "2022-03-24T19:17:58.439Z"
   },
   {
    "duration": 21,
    "start_time": "2022-03-24T19:17:58.615Z"
   },
   {
    "duration": 8,
    "start_time": "2022-03-24T19:17:58.811Z"
   },
   {
    "duration": 35,
    "start_time": "2022-03-24T19:17:59.220Z"
   },
   {
    "duration": 41,
    "start_time": "2022-03-24T19:17:59.406Z"
   },
   {
    "duration": 27,
    "start_time": "2022-03-24T19:17:59.776Z"
   },
   {
    "duration": 17,
    "start_time": "2022-03-24T19:18:00.141Z"
   },
   {
    "duration": 13,
    "start_time": "2022-03-24T19:18:00.910Z"
   },
   {
    "duration": 5,
    "start_time": "2022-03-24T19:18:01.519Z"
   },
   {
    "duration": 4,
    "start_time": "2022-03-24T19:18:01.721Z"
   },
   {
    "duration": 12,
    "start_time": "2022-03-24T19:18:02.156Z"
   },
   {
    "duration": 8,
    "start_time": "2022-03-24T19:18:02.379Z"
   },
   {
    "duration": 84,
    "start_time": "2022-03-24T19:18:03.024Z"
   },
   {
    "duration": 5,
    "start_time": "2022-03-24T19:18:03.232Z"
   },
   {
    "duration": 7,
    "start_time": "2022-03-24T19:18:03.447Z"
   },
   {
    "duration": 4,
    "start_time": "2022-03-24T19:18:04.659Z"
   },
   {
    "duration": 6,
    "start_time": "2022-03-24T19:18:04.987Z"
   },
   {
    "duration": 6,
    "start_time": "2022-03-24T19:18:05.250Z"
   },
   {
    "duration": 13578,
    "start_time": "2022-03-24T19:18:05.489Z"
   },
   {
    "duration": 18,
    "start_time": "2022-03-24T19:18:19.070Z"
   },
   {
    "duration": 14,
    "start_time": "2022-03-24T19:18:19.102Z"
   },
   {
    "duration": 4,
    "start_time": "2022-03-24T19:18:19.119Z"
   },
   {
    "duration": 26,
    "start_time": "2022-03-24T19:18:19.125Z"
   },
   {
    "duration": 11,
    "start_time": "2022-03-24T19:18:19.152Z"
   },
   {
    "duration": 36,
    "start_time": "2022-03-24T19:18:19.165Z"
   },
   {
    "duration": 9,
    "start_time": "2022-03-24T19:18:19.203Z"
   },
   {
    "duration": 12,
    "start_time": "2022-03-24T19:18:19.214Z"
   },
   {
    "duration": 13650,
    "start_time": "2022-03-24T19:18:19.229Z"
   },
   {
    "duration": 6,
    "start_time": "2022-03-24T19:18:32.881Z"
   },
   {
    "duration": 20,
    "start_time": "2022-03-24T19:18:32.900Z"
   },
   {
    "duration": 10,
    "start_time": "2022-03-24T19:18:32.923Z"
   },
   {
    "duration": 19,
    "start_time": "2022-03-24T19:18:32.936Z"
   },
   {
    "duration": 8,
    "start_time": "2022-03-24T19:18:32.957Z"
   },
   {
    "duration": 30,
    "start_time": "2022-03-24T19:18:32.967Z"
   },
   {
    "duration": 31,
    "start_time": "2022-03-24T19:18:32.998Z"
   },
   {
    "duration": 29,
    "start_time": "2022-03-24T19:18:33.031Z"
   },
   {
    "duration": 5,
    "start_time": "2022-03-24T19:18:33.063Z"
   },
   {
    "duration": 36,
    "start_time": "2022-03-24T19:18:33.069Z"
   },
   {
    "duration": 31,
    "start_time": "2022-03-24T19:18:33.107Z"
   },
   {
    "duration": 23,
    "start_time": "2022-03-24T19:18:33.140Z"
   },
   {
    "duration": 25,
    "start_time": "2022-03-24T19:18:33.199Z"
   },
   {
    "duration": 32,
    "start_time": "2022-03-24T19:19:28.612Z"
   },
   {
    "duration": 154,
    "start_time": "2022-03-24T19:36:07.515Z"
   },
   {
    "duration": 92,
    "start_time": "2022-03-24T19:36:11.543Z"
   },
   {
    "duration": 24,
    "start_time": "2022-03-24T19:36:39.387Z"
   },
   {
    "duration": 45,
    "start_time": "2022-03-24T19:36:48.132Z"
   },
   {
    "duration": 31,
    "start_time": "2022-03-24T19:48:31.338Z"
   },
   {
    "duration": 32,
    "start_time": "2022-03-24T19:48:57.003Z"
   },
   {
    "duration": 137,
    "start_time": "2022-03-24T19:51:53.692Z"
   },
   {
    "duration": 32,
    "start_time": "2022-03-24T19:52:06.886Z"
   }
  ],
  "kernelspec": {
   "display_name": "Python 3 (ipykernel)",
   "language": "python",
   "name": "python3"
  },
  "language_info": {
   "codemirror_mode": {
    "name": "ipython",
    "version": 3
   },
   "file_extension": ".py",
   "mimetype": "text/x-python",
   "name": "python",
   "nbconvert_exporter": "python",
   "pygments_lexer": "ipython3",
   "version": "3.9.12"
  },
  "toc": {
   "base_numbering": 1,
   "nav_menu": {},
   "number_sections": true,
   "sideBar": true,
   "skip_h1_title": true,
   "title_cell": "Table of Contents",
   "title_sidebar": "Contents",
   "toc_cell": false,
   "toc_position": {},
   "toc_section_display": true,
   "toc_window_display": false
  }
 },
 "nbformat": 4,
 "nbformat_minor": 2
}
