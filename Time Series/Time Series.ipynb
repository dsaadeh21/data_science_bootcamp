{
 "cells": [
  {
   "cell_type": "markdown",
   "metadata": {},
   "source": [
    "# Introduction"
   ]
  },
  {
   "cell_type": "markdown",
   "metadata": {},
   "source": [
    "# Project description\n",
    "\n",
    "Sweet Lift Taxi company has collected historical data on taxi orders at airports. To attract more drivers during peak hours, we need to predict the amount of taxi orders for the next hour. Build a model for such a prediction.\n",
    "\n",
    "The RMSE metric on the test set should not be more than 48.\n",
    "\n",
    "## Project instructions\n",
    "\n",
    "1. Download the data and resample it by one hour.\n",
    "2. Analyze the data.\n",
    "3. Train different models with different hyperparameters. The test sample should be 10% of the initial dataset. \n",
    "4. Test the data using the test sample and provide a conclusion.\n",
    "\n",
    "## Data description\n",
    "\n",
    "The data is stored in file `taxi.csv`. The number of orders is in the '*num_orders*' column."
   ]
  },
  {
   "cell_type": "markdown",
   "metadata": {},
   "source": [
    "## Preparation"
   ]
  },
  {
   "cell_type": "code",
   "execution_count": 53,
   "metadata": {},
   "outputs": [],
   "source": [
    "import pandas as pd\n",
    "import numpy as np\n",
    "import seaborn as sns\n",
    "import matplotlib.pyplot as plt\n",
    "import math\n",
    "import lightgbm as lgb\n",
    "from sklearn.model_selection import train_test_split\n",
    "from sklearn.preprocessing import StandardScaler as ss\n",
    "from sklearn.linear_model import LinearRegression\n",
    "from sklearn.metrics import mean_squared_error\n",
    "from sklearn.ensemble import RandomForestRegressor\n",
    "from sklearn.tree import DecisionTreeRegressor\n",
    "from catboost import CatBoostRegressor\n",
    "from sklearn.model_selection import cross_val_score\n",
    "from sklearn.metrics import make_scorer\n",
    "from sklearn.model_selection import RandomizedSearchCV\n",
    "from sklearn.dummy import DummyRegressor\n",
    "from sklearn.model_selection import TimeSeriesSplit\n",
    "from sklearn.model_selection import GridSearchCV\n",
    "from catboost import CatBoostRegressor\n",
    "from lightgbm import LGBMRegressor\n",
    "from xgboost import XGBRegressor\n",
    "from statsmodels.tsa.seasonal import seasonal_decompose"
   ]
  },
  {
   "cell_type": "code",
   "execution_count": 2,
   "metadata": {
    "scrolled": false
   },
   "outputs": [],
   "source": [
    "taxi=pd.read_csv('/datasets/taxi.csv', index_col=[0], parse_dates=[0])\n",
    "taxi.sort_index(inplace=True)\n",
    "\n"
   ]
  },
  {
   "cell_type": "code",
   "execution_count": 3,
   "metadata": {
    "scrolled": true
   },
   "outputs": [
    {
     "data": {
      "text/plain": [
       "True"
      ]
     },
     "execution_count": 3,
     "metadata": {},
     "output_type": "execute_result"
    }
   ],
   "source": [
    "taxi.index.is_monotonic"
   ]
  },
  {
   "cell_type": "code",
   "execution_count": 4,
   "metadata": {},
   "outputs": [
    {
     "name": "stdout",
     "output_type": "stream",
     "text": [
      "First Day: 2018-03-01 00:00:00\n",
      "Last Day: 2018-08-31 23:50:00\n"
     ]
    }
   ],
   "source": [
    "print('First Day:', taxi.index.min())\n",
    "print('Last Day:', taxi.index.max())"
   ]
  },
  {
   "cell_type": "code",
   "execution_count": 5,
   "metadata": {
    "scrolled": true
   },
   "outputs": [
    {
     "name": "stdout",
     "output_type": "stream",
     "text": [
      "<class 'pandas.core.frame.DataFrame'>\n",
      "DatetimeIndex: 26496 entries, 2018-03-01 00:00:00 to 2018-08-31 23:50:00\n",
      "Data columns (total 1 columns):\n",
      " #   Column      Non-Null Count  Dtype\n",
      "---  ------      --------------  -----\n",
      " 0   num_orders  26496 non-null  int64\n",
      "dtypes: int64(1)\n",
      "memory usage: 414.0 KB\n"
     ]
    },
    {
     "data": {
      "text/html": [
       "<div>\n",
       "<style scoped>\n",
       "    .dataframe tbody tr th:only-of-type {\n",
       "        vertical-align: middle;\n",
       "    }\n",
       "\n",
       "    .dataframe tbody tr th {\n",
       "        vertical-align: top;\n",
       "    }\n",
       "\n",
       "    .dataframe thead th {\n",
       "        text-align: right;\n",
       "    }\n",
       "</style>\n",
       "<table border=\"1\" class=\"dataframe\">\n",
       "  <thead>\n",
       "    <tr style=\"text-align: right;\">\n",
       "      <th></th>\n",
       "      <th>num_orders</th>\n",
       "    </tr>\n",
       "    <tr>\n",
       "      <th>datetime</th>\n",
       "      <th></th>\n",
       "    </tr>\n",
       "  </thead>\n",
       "  <tbody>\n",
       "    <tr>\n",
       "      <th>2018-03-01 00:00:00</th>\n",
       "      <td>9</td>\n",
       "    </tr>\n",
       "    <tr>\n",
       "      <th>2018-03-01 00:10:00</th>\n",
       "      <td>14</td>\n",
       "    </tr>\n",
       "    <tr>\n",
       "      <th>2018-03-01 00:20:00</th>\n",
       "      <td>28</td>\n",
       "    </tr>\n",
       "    <tr>\n",
       "      <th>2018-03-01 00:30:00</th>\n",
       "      <td>20</td>\n",
       "    </tr>\n",
       "    <tr>\n",
       "      <th>2018-03-01 00:40:00</th>\n",
       "      <td>32</td>\n",
       "    </tr>\n",
       "  </tbody>\n",
       "</table>\n",
       "</div>"
      ],
      "text/plain": [
       "                     num_orders\n",
       "datetime                       \n",
       "2018-03-01 00:00:00           9\n",
       "2018-03-01 00:10:00          14\n",
       "2018-03-01 00:20:00          28\n",
       "2018-03-01 00:30:00          20\n",
       "2018-03-01 00:40:00          32"
      ]
     },
     "execution_count": 5,
     "metadata": {},
     "output_type": "execute_result"
    }
   ],
   "source": [
    "taxi.info()\n",
    "taxi.head()"
   ]
  },
  {
   "cell_type": "code",
   "execution_count": 6,
   "metadata": {},
   "outputs": [
    {
     "data": {
      "text/plain": [
       "(26496, 1)"
      ]
     },
     "execution_count": 6,
     "metadata": {},
     "output_type": "execute_result"
    }
   ],
   "source": [
    "taxi.shape"
   ]
  },
  {
   "cell_type": "code",
   "execution_count": 7,
   "metadata": {},
   "outputs": [
    {
     "data": {
      "text/plain": [
       "num_orders    0\n",
       "dtype: int64"
      ]
     },
     "execution_count": 7,
     "metadata": {},
     "output_type": "execute_result"
    }
   ],
   "source": [
    "taxi.isna().sum()\n",
    "\n"
   ]
  },
  {
   "cell_type": "code",
   "execution_count": 8,
   "metadata": {},
   "outputs": [
    {
     "data": {
      "text/html": [
       "<div>\n",
       "<style scoped>\n",
       "    .dataframe tbody tr th:only-of-type {\n",
       "        vertical-align: middle;\n",
       "    }\n",
       "\n",
       "    .dataframe tbody tr th {\n",
       "        vertical-align: top;\n",
       "    }\n",
       "\n",
       "    .dataframe thead th {\n",
       "        text-align: right;\n",
       "    }\n",
       "</style>\n",
       "<table border=\"1\" class=\"dataframe\">\n",
       "  <thead>\n",
       "    <tr style=\"text-align: right;\">\n",
       "      <th></th>\n",
       "      <th>datetime</th>\n",
       "      <th>num_orders</th>\n",
       "    </tr>\n",
       "  </thead>\n",
       "  <tbody>\n",
       "    <tr>\n",
       "      <th>0</th>\n",
       "      <td>2018-03-01 00:00:00</td>\n",
       "      <td>9</td>\n",
       "    </tr>\n",
       "    <tr>\n",
       "      <th>1</th>\n",
       "      <td>2018-03-01 00:10:00</td>\n",
       "      <td>14</td>\n",
       "    </tr>\n",
       "    <tr>\n",
       "      <th>2</th>\n",
       "      <td>2018-03-01 00:20:00</td>\n",
       "      <td>28</td>\n",
       "    </tr>\n",
       "    <tr>\n",
       "      <th>3</th>\n",
       "      <td>2018-03-01 00:30:00</td>\n",
       "      <td>20</td>\n",
       "    </tr>\n",
       "    <tr>\n",
       "      <th>4</th>\n",
       "      <td>2018-03-01 00:40:00</td>\n",
       "      <td>32</td>\n",
       "    </tr>\n",
       "    <tr>\n",
       "      <th>...</th>\n",
       "      <td>...</td>\n",
       "      <td>...</td>\n",
       "    </tr>\n",
       "    <tr>\n",
       "      <th>26491</th>\n",
       "      <td>2018-08-31 23:10:00</td>\n",
       "      <td>32</td>\n",
       "    </tr>\n",
       "    <tr>\n",
       "      <th>26492</th>\n",
       "      <td>2018-08-31 23:20:00</td>\n",
       "      <td>24</td>\n",
       "    </tr>\n",
       "    <tr>\n",
       "      <th>26493</th>\n",
       "      <td>2018-08-31 23:30:00</td>\n",
       "      <td>27</td>\n",
       "    </tr>\n",
       "    <tr>\n",
       "      <th>26494</th>\n",
       "      <td>2018-08-31 23:40:00</td>\n",
       "      <td>39</td>\n",
       "    </tr>\n",
       "    <tr>\n",
       "      <th>26495</th>\n",
       "      <td>2018-08-31 23:50:00</td>\n",
       "      <td>53</td>\n",
       "    </tr>\n",
       "  </tbody>\n",
       "</table>\n",
       "<p>26496 rows × 2 columns</p>\n",
       "</div>"
      ],
      "text/plain": [
       "                 datetime  num_orders\n",
       "0     2018-03-01 00:00:00           9\n",
       "1     2018-03-01 00:10:00          14\n",
       "2     2018-03-01 00:20:00          28\n",
       "3     2018-03-01 00:30:00          20\n",
       "4     2018-03-01 00:40:00          32\n",
       "...                   ...         ...\n",
       "26491 2018-08-31 23:10:00          32\n",
       "26492 2018-08-31 23:20:00          24\n",
       "26493 2018-08-31 23:30:00          27\n",
       "26494 2018-08-31 23:40:00          39\n",
       "26495 2018-08-31 23:50:00          53\n",
       "\n",
       "[26496 rows x 2 columns]"
      ]
     },
     "execution_count": 8,
     "metadata": {},
     "output_type": "execute_result"
    }
   ],
   "source": [
    "taxi=taxi.reset_index()\n",
    "taxi"
   ]
  },
  {
   "cell_type": "code",
   "execution_count": 9,
   "metadata": {},
   "outputs": [
    {
     "data": {
      "image/png": "[encoded data removed]",
      "text/plain": [
       "<Figure size 1152x576 with 1 Axes>"
      ]
     },
     "metadata": {
      "needs_background": "light"
     },
     "output_type": "display_data"
    }
   ],
   "source": [
    "taxi= taxi.groupby(['datetime'])['num_orders'].sum()\n",
    "plt.figure(figsize=(16,8))\n",
    "plt.title('Total Number of Monthly Taxi Orders')\n",
    "plt.xlabel('Time')\n",
    "plt.ylabel('Number of Orders')\n",
    "plt.plot(taxi);"
   ]
  },
  {
   "cell_type": "code",
   "execution_count": 10,
   "metadata": {},
   "outputs": [
    {
     "data": {
      "text/plain": [
       "datetime\n",
       "2018-03-01 00:00:00    124\n",
       "2018-03-01 01:00:00     85\n",
       "2018-03-01 02:00:00     71\n",
       "2018-03-01 03:00:00     66\n",
       "2018-03-01 04:00:00     43\n",
       "                      ... \n",
       "2018-08-31 19:00:00    136\n",
       "2018-08-31 20:00:00    154\n",
       "2018-08-31 21:00:00    159\n",
       "2018-08-31 22:00:00    223\n",
       "2018-08-31 23:00:00    205\n",
       "Freq: H, Name: num_orders, Length: 4416, dtype: int64"
      ]
     },
     "execution_count": 10,
     "metadata": {},
     "output_type": "execute_result"
    }
   ],
   "source": [
    "taxi=taxi.resample('1H').sum()\n",
    "taxi\n"
   ]
  },
  {
   "cell_type": "markdown",
   "metadata": {},
   "source": [
    "* We notice that the highest peaks in taxi orders are observed betweeen the end of August and September.\n",
    "* A possible explanation for this spike in orders might be because that time period is associated with the start of school/college/internships and most people may be traveling home from vacations or temporary stays."
   ]
  },
  {
   "cell_type": "markdown",
   "metadata": {},
   "source": [
    "## Analysis"
   ]
  },
  {
   "cell_type": "code",
   "execution_count": 11,
   "metadata": {},
   "outputs": [],
   "source": [
    "from statsmodels.tsa.seasonal import seasonal_decompose"
   ]
  },
  {
   "cell_type": "code",
   "execution_count": 12,
   "metadata": {
    "scrolled": true
   },
   "outputs": [
    {
     "data": {
      "text/plain": [
       "Text(0.5, 1.0, 'Trend')"
      ]
     },
     "execution_count": 12,
     "metadata": {},
     "output_type": "execute_result"
    },
    {
     "data": {
      "image/png": "[encoded data removed]",
      "text/plain": [
       "<Figure size 1080x720 with 1 Axes>"
      ]
     },
     "metadata": {
      "needs_background": "light"
     },
     "output_type": "display_data"
    }
   ],
   "source": [
    "decomposed = seasonal_decompose(taxi, 'additive')\n",
    "\n",
    "plt.figure(figsize=(6, 8))\n",
    "plt.subplot(311)\n",
    "decomposed.trend.plot(ax=plt.gca(), figsize=(15, 10))\n",
    "plt.title('Trend')"
   ]
  },
  {
   "cell_type": "markdown",
   "metadata": {},
   "source": [
    "We observe that the overall trend in the number of orders tends to increase over time."
   ]
  },
  {
   "cell_type": "code",
   "execution_count": 13,
   "metadata": {
    "scrolled": true
   },
   "outputs": [
    {
     "data": {
      "text/plain": [
       "Text(0.5, 1.0, 'Seasonality')"
      ]
     },
     "execution_count": 13,
     "metadata": {},
     "output_type": "execute_result"
    },
    {
     "data": {
      "image/png": "[encoded data removed]",
      "text/plain": [
       "<Figure size 1080x720 with 1 Axes>"
      ]
     },
     "metadata": {
      "needs_background": "light"
     },
     "output_type": "display_data"
    }
   ],
   "source": [
    "plt.subplot(312)\n",
    "decomposed.seasonal.plot(ax=plt.gca(), figsize=(15, 10))\n",
    "plt.title('Seasonality')\n"
   ]
  },
  {
   "cell_type": "code",
   "execution_count": 14,
   "metadata": {
    "scrolled": true
   },
   "outputs": [
    {
     "data": {
      "text/plain": [
       "Text(0.5, 1.0, 'Seasonality line for first week\\n')"
      ]
     },
     "execution_count": 14,
     "metadata": {},
     "output_type": "execute_result"
    },
    {
     "data": {
      "image/png": "[encoded data removed]",
      "text/plain": [
       "<Figure size 1080x720 with 1 Axes>"
      ]
     },
     "metadata": {
      "needs_background": "light"
     },
     "output_type": "display_data"
    }
   ],
   "source": [
    "first_week=decomposed.seasonal['2018-03-01':'2018-03-07'].plot(ax=plt.gca(), figsize=(15, 10))\n",
    "plt.title('Seasonality line for first week\\n', fontsize=18)"
   ]
  },
  {
   "cell_type": "code",
   "execution_count": 56,
   "metadata": {
    "scrolled": true
   },
   "outputs": [
    {
     "data": {
      "text/plain": [
       "Text(0.5, 1.0, 'Seasonality line for last week\\n')"
      ]
     },
     "execution_count": 56,
     "metadata": {},
     "output_type": "execute_result"
    },
    {
     "data": {
      "image/png": "[encoded data removed]",
      "text/plain": [
       "<Figure size 1080x720 with 1 Axes>"
      ]
     },
     "metadata": {
      "needs_background": "light"
     },
     "output_type": "display_data"
    }
   ],
   "source": [
    "last_week=decomposed.seasonal['2018-08-24':'2018-08-31'].plot(ax=plt.gca(), figsize=(15, 10))\n",
    "plt.title('Seasonality line for last week\\n', fontsize=18)"
   ]
  },
  {
   "cell_type": "code",
   "execution_count": 16,
   "metadata": {
    "scrolled": true
   },
   "outputs": [
    {
     "data": {
      "image/png": "[encoded data removed]",
      "text/plain": [
       "<Figure size 1080x720 with 1 Axes>"
      ]
     },
     "metadata": {
      "needs_background": "light"
     },
     "output_type": "display_data"
    }
   ],
   "source": [
    "plt.subplot(313)\n",
    "decomposed.resid.plot(ax=plt.gca(), figsize=(15, 10))\n",
    "plt.title('Residuals')\n",
    "plt.tight_layout()"
   ]
  },
  {
   "cell_type": "code",
   "execution_count": 17,
   "metadata": {},
   "outputs": [],
   "source": [
    "def plotMovingAverage(series, window, plot_intervals=False, scale=1.96, plot_anomalies=False):\n",
    "\n",
    "    \"\"\"\n",
    "        series - dataframe with timeseries\n",
    "        window - rolling window size \n",
    "        plot_intervals - show confidence intervals\n",
    "        plot_anomalies - show anomalies \n",
    "\n",
    "    \"\"\"\n",
    "    rolling_mean = series.rolling(window=window).mean()\n",
    "\n",
    "    plt.figure(figsize=(15,5))\n",
    "    plt.title(\"Moving average\\n window size = {}\".format(window))\n",
    "    plt.plot(rolling_mean, \"g\", label=\"Rolling mean trend\")\n",
    "\n",
    "    # Plot confidence intervals for smoothed values\n",
    "    if plot_intervals:\n",
    "        mae = mean_absolute_error(series[window:], rolling_mean[window:])\n",
    "        deviation = np.std(series[window:] - rolling_mean[window:])\n",
    "        lower_bond = rolling_mean - (mae + scale * deviation)\n",
    "        upper_bond = rolling_mean + (mae + scale * deviation)\n",
    "        plt.plot(upper_bond, \"r--\", label=\"Upper Bond / Lower Bond\")\n",
    "        plt.plot(lower_bond, \"r--\")\n",
    "        \n",
    "        # Having the intervals, find abnormal values\n",
    "        if plot_anomalies:\n",
    "            anomalies = pd.DataFrame(index=series.index, columns=series.columns)\n",
    "            anomalies[series<lower_bond] = series[series<lower_bond]\n",
    "            anomalies[series>upper_bond] = series[series>upper_bond]\n",
    "            plt.plot(anomalies, \"ro\", markersize=10)\n",
    "        \n",
    "    plt.plot(series[window:], label=\"Actual values\", alpha=0.5)\n",
    "    plt.legend(loc=\"upper left\")\n",
    "    plt.grid(True)"
   ]
  },
  {
   "cell_type": "code",
   "execution_count": 18,
   "metadata": {
    "scrolled": false
   },
   "outputs": [
    {
     "data": {
      "image/png": "[encoded data removed]",
      "text/plain": [
       "<Figure size 1080x360 with 1 Axes>"
      ]
     },
     "metadata": {
      "needs_background": "light"
     },
     "output_type": "display_data"
    }
   ],
   "source": [
    "plotMovingAverage(taxi, 100)"
   ]
  },
  {
   "cell_type": "markdown",
   "metadata": {},
   "source": [
    "* We observe that the while the average taxi orders hovers around about 10 from March to June, we see a steady increase which reaches nearly 30 taxis per hour in September."
   ]
  },
  {
   "cell_type": "markdown",
   "metadata": {},
   "source": [
    "## Training"
   ]
  },
  {
   "cell_type": "code",
   "execution_count": 19,
   "metadata": {
    "scrolled": true
   },
   "outputs": [
    {
     "data": {
      "text/plain": [
       "datetime\n",
       "2018-03-01 00:00:00    124\n",
       "2018-03-01 01:00:00     85\n",
       "2018-03-01 02:00:00     71\n",
       "2018-03-01 03:00:00     66\n",
       "2018-03-01 04:00:00     43\n",
       "                      ... \n",
       "2018-08-31 19:00:00    136\n",
       "2018-08-31 20:00:00    154\n",
       "2018-08-31 21:00:00    159\n",
       "2018-08-31 22:00:00    223\n",
       "2018-08-31 23:00:00    205\n",
       "Freq: H, Name: num_orders, Length: 4416, dtype: int64"
      ]
     },
     "execution_count": 19,
     "metadata": {},
     "output_type": "execute_result"
    }
   ],
   "source": [
    "taxi"
   ]
  },
  {
   "cell_type": "code",
   "execution_count": 20,
   "metadata": {},
   "outputs": [
    {
     "data": {
      "text/html": [
       "<div>\n",
       "<style scoped>\n",
       "    .dataframe tbody tr th:only-of-type {\n",
       "        vertical-align: middle;\n",
       "    }\n",
       "\n",
       "    .dataframe tbody tr th {\n",
       "        vertical-align: top;\n",
       "    }\n",
       "\n",
       "    .dataframe thead th {\n",
       "        text-align: right;\n",
       "    }\n",
       "</style>\n",
       "<table border=\"1\" class=\"dataframe\">\n",
       "  <thead>\n",
       "    <tr style=\"text-align: right;\">\n",
       "      <th></th>\n",
       "      <th>num_orders</th>\n",
       "    </tr>\n",
       "    <tr>\n",
       "      <th>datetime</th>\n",
       "      <th></th>\n",
       "    </tr>\n",
       "  </thead>\n",
       "  <tbody>\n",
       "    <tr>\n",
       "      <th>2018-03-01 00:00:00</th>\n",
       "      <td>124</td>\n",
       "    </tr>\n",
       "    <tr>\n",
       "      <th>2018-03-01 01:00:00</th>\n",
       "      <td>85</td>\n",
       "    </tr>\n",
       "    <tr>\n",
       "      <th>2018-03-01 02:00:00</th>\n",
       "      <td>71</td>\n",
       "    </tr>\n",
       "    <tr>\n",
       "      <th>2018-03-01 03:00:00</th>\n",
       "      <td>66</td>\n",
       "    </tr>\n",
       "    <tr>\n",
       "      <th>2018-03-01 04:00:00</th>\n",
       "      <td>43</td>\n",
       "    </tr>\n",
       "    <tr>\n",
       "      <th>...</th>\n",
       "      <td>...</td>\n",
       "    </tr>\n",
       "    <tr>\n",
       "      <th>2018-08-31 19:00:00</th>\n",
       "      <td>136</td>\n",
       "    </tr>\n",
       "    <tr>\n",
       "      <th>2018-08-31 20:00:00</th>\n",
       "      <td>154</td>\n",
       "    </tr>\n",
       "    <tr>\n",
       "      <th>2018-08-31 21:00:00</th>\n",
       "      <td>159</td>\n",
       "    </tr>\n",
       "    <tr>\n",
       "      <th>2018-08-31 22:00:00</th>\n",
       "      <td>223</td>\n",
       "    </tr>\n",
       "    <tr>\n",
       "      <th>2018-08-31 23:00:00</th>\n",
       "      <td>205</td>\n",
       "    </tr>\n",
       "  </tbody>\n",
       "</table>\n",
       "<p>4416 rows × 1 columns</p>\n",
       "</div>"
      ],
      "text/plain": [
       "                     num_orders\n",
       "datetime                       \n",
       "2018-03-01 00:00:00         124\n",
       "2018-03-01 01:00:00          85\n",
       "2018-03-01 02:00:00          71\n",
       "2018-03-01 03:00:00          66\n",
       "2018-03-01 04:00:00          43\n",
       "...                         ...\n",
       "2018-08-31 19:00:00         136\n",
       "2018-08-31 20:00:00         154\n",
       "2018-08-31 21:00:00         159\n",
       "2018-08-31 22:00:00         223\n",
       "2018-08-31 23:00:00         205\n",
       "\n",
       "[4416 rows x 1 columns]"
      ]
     },
     "execution_count": 20,
     "metadata": {},
     "output_type": "execute_result"
    }
   ],
   "source": [
    "taxi=pd.DataFrame(taxi)\n",
    "taxi"
   ]
  },
  {
   "cell_type": "code",
   "execution_count": 21,
   "metadata": {},
   "outputs": [],
   "source": [
    "def make_features(data, max_lag, rolling_mean_size):\n",
    "    data['month'] = data.index.month\n",
    "    data['day'] = data.index.day\n",
    "    data['dayofweek'] = data.index.dayofweek\n",
    "    data['hourofday'] = data.index.hour\n",
    "    \n",
    "    for lag in range(1, max_lag + 1):\n",
    "        data['lag_{}'.format(lag)] = data['num_orders'].shift(lag)\n",
    "\n",
    "    data['rolling_mean'] = data['num_orders'].shift().rolling(rolling_mean_size).mean()\n",
    "    data['rolling_std'] = data['num_orders'].shift().rolling(rolling_mean_size).std()\n",
    "    \n",
    "make_features(taxi, 10, 5)\n",
    "\n"
   ]
  },
  {
   "cell_type": "code",
   "execution_count": 57,
   "metadata": {
    "scrolled": false
   },
   "outputs": [
    {
     "data": {
      "text/html": [
       "<div>\n",
       "<style scoped>\n",
       "    .dataframe tbody tr th:only-of-type {\n",
       "        vertical-align: middle;\n",
       "    }\n",
       "\n",
       "    .dataframe tbody tr th {\n",
       "        vertical-align: top;\n",
       "    }\n",
       "\n",
       "    .dataframe thead th {\n",
       "        text-align: right;\n",
       "    }\n",
       "</style>\n",
       "<table border=\"1\" class=\"dataframe\">\n",
       "  <thead>\n",
       "    <tr style=\"text-align: right;\">\n",
       "      <th></th>\n",
       "      <th>taxi_cnt_hour</th>\n",
       "      <th>month</th>\n",
       "      <th>day</th>\n",
       "      <th>dayofweek</th>\n",
       "      <th>hourofday</th>\n",
       "      <th>lag_1</th>\n",
       "      <th>lag_2</th>\n",
       "      <th>lag_3</th>\n",
       "      <th>lag_4</th>\n",
       "      <th>lag_5</th>\n",
       "      <th>lag_6</th>\n",
       "      <th>lag_7</th>\n",
       "      <th>lag_8</th>\n",
       "      <th>lag_9</th>\n",
       "      <th>lag_10</th>\n",
       "      <th>rolling_mean</th>\n",
       "      <th>rolling_std</th>\n",
       "    </tr>\n",
       "    <tr>\n",
       "      <th>datetime</th>\n",
       "      <th></th>\n",
       "      <th></th>\n",
       "      <th></th>\n",
       "      <th></th>\n",
       "      <th></th>\n",
       "      <th></th>\n",
       "      <th></th>\n",
       "      <th></th>\n",
       "      <th></th>\n",
       "      <th></th>\n",
       "      <th></th>\n",
       "      <th></th>\n",
       "      <th></th>\n",
       "      <th></th>\n",
       "      <th></th>\n",
       "      <th></th>\n",
       "      <th></th>\n",
       "    </tr>\n",
       "  </thead>\n",
       "  <tbody>\n",
       "    <tr>\n",
       "      <th>2018-03-01 10:00:00</th>\n",
       "      <td>64</td>\n",
       "      <td>3</td>\n",
       "      <td>1</td>\n",
       "      <td>3</td>\n",
       "      <td>10</td>\n",
       "      <td>69.0</td>\n",
       "      <td>34.0</td>\n",
       "      <td>15.0</td>\n",
       "      <td>12.0</td>\n",
       "      <td>6.0</td>\n",
       "      <td>43.0</td>\n",
       "      <td>66.0</td>\n",
       "      <td>71.0</td>\n",
       "      <td>85.0</td>\n",
       "      <td>124.0</td>\n",
       "      <td>27.2</td>\n",
       "      <td>25.606640</td>\n",
       "    </tr>\n",
       "    <tr>\n",
       "      <th>2018-03-01 11:00:00</th>\n",
       "      <td>96</td>\n",
       "      <td>3</td>\n",
       "      <td>1</td>\n",
       "      <td>3</td>\n",
       "      <td>11</td>\n",
       "      <td>64.0</td>\n",
       "      <td>69.0</td>\n",
       "      <td>34.0</td>\n",
       "      <td>15.0</td>\n",
       "      <td>12.0</td>\n",
       "      <td>6.0</td>\n",
       "      <td>43.0</td>\n",
       "      <td>66.0</td>\n",
       "      <td>71.0</td>\n",
       "      <td>85.0</td>\n",
       "      <td>38.8</td>\n",
       "      <td>26.715164</td>\n",
       "    </tr>\n",
       "    <tr>\n",
       "      <th>2018-03-01 12:00:00</th>\n",
       "      <td>30</td>\n",
       "      <td>3</td>\n",
       "      <td>1</td>\n",
       "      <td>3</td>\n",
       "      <td>12</td>\n",
       "      <td>96.0</td>\n",
       "      <td>64.0</td>\n",
       "      <td>69.0</td>\n",
       "      <td>34.0</td>\n",
       "      <td>15.0</td>\n",
       "      <td>12.0</td>\n",
       "      <td>6.0</td>\n",
       "      <td>43.0</td>\n",
       "      <td>66.0</td>\n",
       "      <td>71.0</td>\n",
       "      <td>55.6</td>\n",
       "      <td>31.611707</td>\n",
       "    </tr>\n",
       "    <tr>\n",
       "      <th>2018-03-01 13:00:00</th>\n",
       "      <td>32</td>\n",
       "      <td>3</td>\n",
       "      <td>1</td>\n",
       "      <td>3</td>\n",
       "      <td>13</td>\n",
       "      <td>30.0</td>\n",
       "      <td>96.0</td>\n",
       "      <td>64.0</td>\n",
       "      <td>69.0</td>\n",
       "      <td>34.0</td>\n",
       "      <td>15.0</td>\n",
       "      <td>12.0</td>\n",
       "      <td>6.0</td>\n",
       "      <td>43.0</td>\n",
       "      <td>66.0</td>\n",
       "      <td>58.6</td>\n",
       "      <td>27.199265</td>\n",
       "    </tr>\n",
       "    <tr>\n",
       "      <th>2018-03-01 14:00:00</th>\n",
       "      <td>48</td>\n",
       "      <td>3</td>\n",
       "      <td>1</td>\n",
       "      <td>3</td>\n",
       "      <td>14</td>\n",
       "      <td>32.0</td>\n",
       "      <td>30.0</td>\n",
       "      <td>96.0</td>\n",
       "      <td>64.0</td>\n",
       "      <td>69.0</td>\n",
       "      <td>34.0</td>\n",
       "      <td>15.0</td>\n",
       "      <td>12.0</td>\n",
       "      <td>6.0</td>\n",
       "      <td>43.0</td>\n",
       "      <td>58.2</td>\n",
       "      <td>27.662249</td>\n",
       "    </tr>\n",
       "  </tbody>\n",
       "</table>\n",
       "</div>"
      ],
      "text/plain": [
       "                     taxi_cnt_hour  month  day  dayofweek  hourofday  lag_1  \\\n",
       "datetime                                                                      \n",
       "2018-03-01 10:00:00             64      3    1          3         10   69.0   \n",
       "2018-03-01 11:00:00             96      3    1          3         11   64.0   \n",
       "2018-03-01 12:00:00             30      3    1          3         12   96.0   \n",
       "2018-03-01 13:00:00             32      3    1          3         13   30.0   \n",
       "2018-03-01 14:00:00             48      3    1          3         14   32.0   \n",
       "\n",
       "                     lag_2  lag_3  lag_4  lag_5  lag_6  lag_7  lag_8  lag_9  \\\n",
       "datetime                                                                      \n",
       "2018-03-01 10:00:00   34.0   15.0   12.0    6.0   43.0   66.0   71.0   85.0   \n",
       "2018-03-01 11:00:00   69.0   34.0   15.0   12.0    6.0   43.0   66.0   71.0   \n",
       "2018-03-01 12:00:00   64.0   69.0   34.0   15.0   12.0    6.0   43.0   66.0   \n",
       "2018-03-01 13:00:00   96.0   64.0   69.0   34.0   15.0   12.0    6.0   43.0   \n",
       "2018-03-01 14:00:00   30.0   96.0   64.0   69.0   34.0   15.0   12.0    6.0   \n",
       "\n",
       "                     lag_10  rolling_mean  rolling_std  \n",
       "datetime                                                \n",
       "2018-03-01 10:00:00   124.0          27.2    25.606640  \n",
       "2018-03-01 11:00:00    85.0          38.8    26.715164  \n",
       "2018-03-01 12:00:00    71.0          55.6    31.611707  \n",
       "2018-03-01 13:00:00    66.0          58.6    27.199265  \n",
       "2018-03-01 14:00:00    43.0          58.2    27.662249  "
      ]
     },
     "execution_count": 57,
     "metadata": {},
     "output_type": "execute_result"
    }
   ],
   "source": [
    "taxi.head()"
   ]
  },
  {
   "cell_type": "code",
   "execution_count": 23,
   "metadata": {
    "scrolled": false
   },
   "outputs": [
    {
     "name": "stdout",
     "output_type": "stream",
     "text": [
      "<class 'pandas.core.frame.DataFrame'>\n",
      "DatetimeIndex: 4416 entries, 2018-03-01 00:00:00 to 2018-08-31 23:00:00\n",
      "Freq: H\n",
      "Data columns (total 17 columns):\n",
      " #   Column        Non-Null Count  Dtype  \n",
      "---  ------        --------------  -----  \n",
      " 0   num_orders    4416 non-null   int64  \n",
      " 1   month         4416 non-null   int64  \n",
      " 2   day           4416 non-null   int64  \n",
      " 3   dayofweek     4416 non-null   int64  \n",
      " 4   hourofday     4416 non-null   int64  \n",
      " 5   lag_1         4415 non-null   float64\n",
      " 6   lag_2         4414 non-null   float64\n",
      " 7   lag_3         4413 non-null   float64\n",
      " 8   lag_4         4412 non-null   float64\n",
      " 9   lag_5         4411 non-null   float64\n",
      " 10  lag_6         4410 non-null   float64\n",
      " 11  lag_7         4409 non-null   float64\n",
      " 12  lag_8         4408 non-null   float64\n",
      " 13  lag_9         4407 non-null   float64\n",
      " 14  lag_10        4406 non-null   float64\n",
      " 15  rolling_mean  4411 non-null   float64\n",
      " 16  rolling_std   4411 non-null   float64\n",
      "dtypes: float64(12), int64(5)\n",
      "memory usage: 621.0 KB\n"
     ]
    }
   ],
   "source": [
    "taxi.info()"
   ]
  },
  {
   "cell_type": "code",
   "execution_count": 58,
   "metadata": {},
   "outputs": [
    {
     "data": {
      "text/html": [
       "<div>\n",
       "<style scoped>\n",
       "    .dataframe tbody tr th:only-of-type {\n",
       "        vertical-align: middle;\n",
       "    }\n",
       "\n",
       "    .dataframe tbody tr th {\n",
       "        vertical-align: top;\n",
       "    }\n",
       "\n",
       "    .dataframe thead th {\n",
       "        text-align: right;\n",
       "    }\n",
       "</style>\n",
       "<table border=\"1\" class=\"dataframe\">\n",
       "  <thead>\n",
       "    <tr style=\"text-align: right;\">\n",
       "      <th></th>\n",
       "      <th>taxi_cnt_hour</th>\n",
       "      <th>month</th>\n",
       "      <th>day</th>\n",
       "      <th>dayofweek</th>\n",
       "      <th>hourofday</th>\n",
       "      <th>lag_1</th>\n",
       "      <th>lag_2</th>\n",
       "      <th>lag_3</th>\n",
       "      <th>lag_4</th>\n",
       "      <th>lag_5</th>\n",
       "      <th>lag_6</th>\n",
       "      <th>lag_7</th>\n",
       "      <th>lag_8</th>\n",
       "      <th>lag_9</th>\n",
       "      <th>lag_10</th>\n",
       "      <th>rolling_mean</th>\n",
       "      <th>rolling_std</th>\n",
       "    </tr>\n",
       "    <tr>\n",
       "      <th>datetime</th>\n",
       "      <th></th>\n",
       "      <th></th>\n",
       "      <th></th>\n",
       "      <th></th>\n",
       "      <th></th>\n",
       "      <th></th>\n",
       "      <th></th>\n",
       "      <th></th>\n",
       "      <th></th>\n",
       "      <th></th>\n",
       "      <th></th>\n",
       "      <th></th>\n",
       "      <th></th>\n",
       "      <th></th>\n",
       "      <th></th>\n",
       "      <th></th>\n",
       "      <th></th>\n",
       "    </tr>\n",
       "  </thead>\n",
       "  <tbody>\n",
       "    <tr>\n",
       "      <th>2018-03-01 10:00:00</th>\n",
       "      <td>64</td>\n",
       "      <td>3</td>\n",
       "      <td>1</td>\n",
       "      <td>3</td>\n",
       "      <td>10</td>\n",
       "      <td>69.0</td>\n",
       "      <td>34.0</td>\n",
       "      <td>15.0</td>\n",
       "      <td>12.0</td>\n",
       "      <td>6.0</td>\n",
       "      <td>43.0</td>\n",
       "      <td>66.0</td>\n",
       "      <td>71.0</td>\n",
       "      <td>85.0</td>\n",
       "      <td>124.0</td>\n",
       "      <td>27.2</td>\n",
       "      <td>25.606640</td>\n",
       "    </tr>\n",
       "    <tr>\n",
       "      <th>2018-03-01 11:00:00</th>\n",
       "      <td>96</td>\n",
       "      <td>3</td>\n",
       "      <td>1</td>\n",
       "      <td>3</td>\n",
       "      <td>11</td>\n",
       "      <td>64.0</td>\n",
       "      <td>69.0</td>\n",
       "      <td>34.0</td>\n",
       "      <td>15.0</td>\n",
       "      <td>12.0</td>\n",
       "      <td>6.0</td>\n",
       "      <td>43.0</td>\n",
       "      <td>66.0</td>\n",
       "      <td>71.0</td>\n",
       "      <td>85.0</td>\n",
       "      <td>38.8</td>\n",
       "      <td>26.715164</td>\n",
       "    </tr>\n",
       "    <tr>\n",
       "      <th>2018-03-01 12:00:00</th>\n",
       "      <td>30</td>\n",
       "      <td>3</td>\n",
       "      <td>1</td>\n",
       "      <td>3</td>\n",
       "      <td>12</td>\n",
       "      <td>96.0</td>\n",
       "      <td>64.0</td>\n",
       "      <td>69.0</td>\n",
       "      <td>34.0</td>\n",
       "      <td>15.0</td>\n",
       "      <td>12.0</td>\n",
       "      <td>6.0</td>\n",
       "      <td>43.0</td>\n",
       "      <td>66.0</td>\n",
       "      <td>71.0</td>\n",
       "      <td>55.6</td>\n",
       "      <td>31.611707</td>\n",
       "    </tr>\n",
       "    <tr>\n",
       "      <th>2018-03-01 13:00:00</th>\n",
       "      <td>32</td>\n",
       "      <td>3</td>\n",
       "      <td>1</td>\n",
       "      <td>3</td>\n",
       "      <td>13</td>\n",
       "      <td>30.0</td>\n",
       "      <td>96.0</td>\n",
       "      <td>64.0</td>\n",
       "      <td>69.0</td>\n",
       "      <td>34.0</td>\n",
       "      <td>15.0</td>\n",
       "      <td>12.0</td>\n",
       "      <td>6.0</td>\n",
       "      <td>43.0</td>\n",
       "      <td>66.0</td>\n",
       "      <td>58.6</td>\n",
       "      <td>27.199265</td>\n",
       "    </tr>\n",
       "    <tr>\n",
       "      <th>2018-03-01 14:00:00</th>\n",
       "      <td>48</td>\n",
       "      <td>3</td>\n",
       "      <td>1</td>\n",
       "      <td>3</td>\n",
       "      <td>14</td>\n",
       "      <td>32.0</td>\n",
       "      <td>30.0</td>\n",
       "      <td>96.0</td>\n",
       "      <td>64.0</td>\n",
       "      <td>69.0</td>\n",
       "      <td>34.0</td>\n",
       "      <td>15.0</td>\n",
       "      <td>12.0</td>\n",
       "      <td>6.0</td>\n",
       "      <td>43.0</td>\n",
       "      <td>58.2</td>\n",
       "      <td>27.662249</td>\n",
       "    </tr>\n",
       "  </tbody>\n",
       "</table>\n",
       "</div>"
      ],
      "text/plain": [
       "                     taxi_cnt_hour  month  day  dayofweek  hourofday  lag_1  \\\n",
       "datetime                                                                      \n",
       "2018-03-01 10:00:00             64      3    1          3         10   69.0   \n",
       "2018-03-01 11:00:00             96      3    1          3         11   64.0   \n",
       "2018-03-01 12:00:00             30      3    1          3         12   96.0   \n",
       "2018-03-01 13:00:00             32      3    1          3         13   30.0   \n",
       "2018-03-01 14:00:00             48      3    1          3         14   32.0   \n",
       "\n",
       "                     lag_2  lag_3  lag_4  lag_5  lag_6  lag_7  lag_8  lag_9  \\\n",
       "datetime                                                                      \n",
       "2018-03-01 10:00:00   34.0   15.0   12.0    6.0   43.0   66.0   71.0   85.0   \n",
       "2018-03-01 11:00:00   69.0   34.0   15.0   12.0    6.0   43.0   66.0   71.0   \n",
       "2018-03-01 12:00:00   64.0   69.0   34.0   15.0   12.0    6.0   43.0   66.0   \n",
       "2018-03-01 13:00:00   96.0   64.0   69.0   34.0   15.0   12.0    6.0   43.0   \n",
       "2018-03-01 14:00:00   30.0   96.0   64.0   69.0   34.0   15.0   12.0    6.0   \n",
       "\n",
       "                     lag_10  rolling_mean  rolling_std  \n",
       "datetime                                                \n",
       "2018-03-01 10:00:00   124.0          27.2    25.606640  \n",
       "2018-03-01 11:00:00    85.0          38.8    26.715164  \n",
       "2018-03-01 12:00:00    71.0          55.6    31.611707  \n",
       "2018-03-01 13:00:00    66.0          58.6    27.199265  \n",
       "2018-03-01 14:00:00    43.0          58.2    27.662249  "
      ]
     },
     "execution_count": 58,
     "metadata": {},
     "output_type": "execute_result"
    }
   ],
   "source": [
    "taxi=taxi.dropna()\n",
    "taxi.head()"
   ]
  },
  {
   "cell_type": "code",
   "execution_count": 25,
   "metadata": {},
   "outputs": [
    {
     "data": {
      "text/plain": [
       "num_orders      0\n",
       "month           0\n",
       "day             0\n",
       "dayofweek       0\n",
       "hourofday       0\n",
       "lag_1           0\n",
       "lag_2           0\n",
       "lag_3           0\n",
       "lag_4           0\n",
       "lag_5           0\n",
       "lag_6           0\n",
       "lag_7           0\n",
       "lag_8           0\n",
       "lag_9           0\n",
       "lag_10          0\n",
       "rolling_mean    0\n",
       "rolling_std     0\n",
       "dtype: int64"
      ]
     },
     "execution_count": 25,
     "metadata": {},
     "output_type": "execute_result"
    }
   ],
   "source": [
    "taxi.isna().sum()"
   ]
  },
  {
   "cell_type": "code",
   "execution_count": 26,
   "metadata": {
    "scrolled": true
   },
   "outputs": [
    {
     "data": {
      "text/html": [
       "<div>\n",
       "<style scoped>\n",
       "    .dataframe tbody tr th:only-of-type {\n",
       "        vertical-align: middle;\n",
       "    }\n",
       "\n",
       "    .dataframe tbody tr th {\n",
       "        vertical-align: top;\n",
       "    }\n",
       "\n",
       "    .dataframe thead th {\n",
       "        text-align: right;\n",
       "    }\n",
       "</style>\n",
       "<table border=\"1\" class=\"dataframe\">\n",
       "  <thead>\n",
       "    <tr style=\"text-align: right;\">\n",
       "      <th></th>\n",
       "      <th>taxi_cnt_hour</th>\n",
       "      <th>month</th>\n",
       "      <th>day</th>\n",
       "      <th>dayofweek</th>\n",
       "      <th>hourofday</th>\n",
       "      <th>lag_1</th>\n",
       "      <th>lag_2</th>\n",
       "      <th>lag_3</th>\n",
       "      <th>lag_4</th>\n",
       "      <th>lag_5</th>\n",
       "      <th>lag_6</th>\n",
       "      <th>lag_7</th>\n",
       "      <th>lag_8</th>\n",
       "      <th>lag_9</th>\n",
       "      <th>lag_10</th>\n",
       "      <th>rolling_mean</th>\n",
       "      <th>rolling_std</th>\n",
       "    </tr>\n",
       "    <tr>\n",
       "      <th>datetime</th>\n",
       "      <th></th>\n",
       "      <th></th>\n",
       "      <th></th>\n",
       "      <th></th>\n",
       "      <th></th>\n",
       "      <th></th>\n",
       "      <th></th>\n",
       "      <th></th>\n",
       "      <th></th>\n",
       "      <th></th>\n",
       "      <th></th>\n",
       "      <th></th>\n",
       "      <th></th>\n",
       "      <th></th>\n",
       "      <th></th>\n",
       "      <th></th>\n",
       "      <th></th>\n",
       "    </tr>\n",
       "  </thead>\n",
       "  <tbody>\n",
       "    <tr>\n",
       "      <th>2018-03-01 10:00:00</th>\n",
       "      <td>64</td>\n",
       "      <td>3</td>\n",
       "      <td>1</td>\n",
       "      <td>3</td>\n",
       "      <td>10</td>\n",
       "      <td>69.0</td>\n",
       "      <td>34.0</td>\n",
       "      <td>15.0</td>\n",
       "      <td>12.0</td>\n",
       "      <td>6.0</td>\n",
       "      <td>43.0</td>\n",
       "      <td>66.0</td>\n",
       "      <td>71.0</td>\n",
       "      <td>85.0</td>\n",
       "      <td>124.0</td>\n",
       "      <td>27.2</td>\n",
       "      <td>25.606640</td>\n",
       "    </tr>\n",
       "    <tr>\n",
       "      <th>2018-03-01 11:00:00</th>\n",
       "      <td>96</td>\n",
       "      <td>3</td>\n",
       "      <td>1</td>\n",
       "      <td>3</td>\n",
       "      <td>11</td>\n",
       "      <td>64.0</td>\n",
       "      <td>69.0</td>\n",
       "      <td>34.0</td>\n",
       "      <td>15.0</td>\n",
       "      <td>12.0</td>\n",
       "      <td>6.0</td>\n",
       "      <td>43.0</td>\n",
       "      <td>66.0</td>\n",
       "      <td>71.0</td>\n",
       "      <td>85.0</td>\n",
       "      <td>38.8</td>\n",
       "      <td>26.715164</td>\n",
       "    </tr>\n",
       "    <tr>\n",
       "      <th>2018-03-01 12:00:00</th>\n",
       "      <td>30</td>\n",
       "      <td>3</td>\n",
       "      <td>1</td>\n",
       "      <td>3</td>\n",
       "      <td>12</td>\n",
       "      <td>96.0</td>\n",
       "      <td>64.0</td>\n",
       "      <td>69.0</td>\n",
       "      <td>34.0</td>\n",
       "      <td>15.0</td>\n",
       "      <td>12.0</td>\n",
       "      <td>6.0</td>\n",
       "      <td>43.0</td>\n",
       "      <td>66.0</td>\n",
       "      <td>71.0</td>\n",
       "      <td>55.6</td>\n",
       "      <td>31.611707</td>\n",
       "    </tr>\n",
       "    <tr>\n",
       "      <th>2018-03-01 13:00:00</th>\n",
       "      <td>32</td>\n",
       "      <td>3</td>\n",
       "      <td>1</td>\n",
       "      <td>3</td>\n",
       "      <td>13</td>\n",
       "      <td>30.0</td>\n",
       "      <td>96.0</td>\n",
       "      <td>64.0</td>\n",
       "      <td>69.0</td>\n",
       "      <td>34.0</td>\n",
       "      <td>15.0</td>\n",
       "      <td>12.0</td>\n",
       "      <td>6.0</td>\n",
       "      <td>43.0</td>\n",
       "      <td>66.0</td>\n",
       "      <td>58.6</td>\n",
       "      <td>27.199265</td>\n",
       "    </tr>\n",
       "    <tr>\n",
       "      <th>2018-03-01 14:00:00</th>\n",
       "      <td>48</td>\n",
       "      <td>3</td>\n",
       "      <td>1</td>\n",
       "      <td>3</td>\n",
       "      <td>14</td>\n",
       "      <td>32.0</td>\n",
       "      <td>30.0</td>\n",
       "      <td>96.0</td>\n",
       "      <td>64.0</td>\n",
       "      <td>69.0</td>\n",
       "      <td>34.0</td>\n",
       "      <td>15.0</td>\n",
       "      <td>12.0</td>\n",
       "      <td>6.0</td>\n",
       "      <td>43.0</td>\n",
       "      <td>58.2</td>\n",
       "      <td>27.662249</td>\n",
       "    </tr>\n",
       "    <tr>\n",
       "      <th>...</th>\n",
       "      <td>...</td>\n",
       "      <td>...</td>\n",
       "      <td>...</td>\n",
       "      <td>...</td>\n",
       "      <td>...</td>\n",
       "      <td>...</td>\n",
       "      <td>...</td>\n",
       "      <td>...</td>\n",
       "      <td>...</td>\n",
       "      <td>...</td>\n",
       "      <td>...</td>\n",
       "      <td>...</td>\n",
       "      <td>...</td>\n",
       "      <td>...</td>\n",
       "      <td>...</td>\n",
       "      <td>...</td>\n",
       "      <td>...</td>\n",
       "    </tr>\n",
       "    <tr>\n",
       "      <th>2018-08-31 19:00:00</th>\n",
       "      <td>136</td>\n",
       "      <td>8</td>\n",
       "      <td>31</td>\n",
       "      <td>4</td>\n",
       "      <td>19</td>\n",
       "      <td>207.0</td>\n",
       "      <td>217.0</td>\n",
       "      <td>197.0</td>\n",
       "      <td>116.0</td>\n",
       "      <td>133.0</td>\n",
       "      <td>166.0</td>\n",
       "      <td>136.0</td>\n",
       "      <td>167.0</td>\n",
       "      <td>191.0</td>\n",
       "      <td>203.0</td>\n",
       "      <td>174.0</td>\n",
       "      <td>46.130250</td>\n",
       "    </tr>\n",
       "    <tr>\n",
       "      <th>2018-08-31 20:00:00</th>\n",
       "      <td>154</td>\n",
       "      <td>8</td>\n",
       "      <td>31</td>\n",
       "      <td>4</td>\n",
       "      <td>20</td>\n",
       "      <td>136.0</td>\n",
       "      <td>207.0</td>\n",
       "      <td>217.0</td>\n",
       "      <td>197.0</td>\n",
       "      <td>116.0</td>\n",
       "      <td>133.0</td>\n",
       "      <td>166.0</td>\n",
       "      <td>136.0</td>\n",
       "      <td>167.0</td>\n",
       "      <td>191.0</td>\n",
       "      <td>174.6</td>\n",
       "      <td>45.478566</td>\n",
       "    </tr>\n",
       "    <tr>\n",
       "      <th>2018-08-31 21:00:00</th>\n",
       "      <td>159</td>\n",
       "      <td>8</td>\n",
       "      <td>31</td>\n",
       "      <td>4</td>\n",
       "      <td>21</td>\n",
       "      <td>154.0</td>\n",
       "      <td>136.0</td>\n",
       "      <td>207.0</td>\n",
       "      <td>217.0</td>\n",
       "      <td>197.0</td>\n",
       "      <td>116.0</td>\n",
       "      <td>133.0</td>\n",
       "      <td>166.0</td>\n",
       "      <td>136.0</td>\n",
       "      <td>167.0</td>\n",
       "      <td>182.2</td>\n",
       "      <td>35.266131</td>\n",
       "    </tr>\n",
       "    <tr>\n",
       "      <th>2018-08-31 22:00:00</th>\n",
       "      <td>223</td>\n",
       "      <td>8</td>\n",
       "      <td>31</td>\n",
       "      <td>4</td>\n",
       "      <td>22</td>\n",
       "      <td>159.0</td>\n",
       "      <td>154.0</td>\n",
       "      <td>136.0</td>\n",
       "      <td>207.0</td>\n",
       "      <td>217.0</td>\n",
       "      <td>197.0</td>\n",
       "      <td>116.0</td>\n",
       "      <td>133.0</td>\n",
       "      <td>166.0</td>\n",
       "      <td>136.0</td>\n",
       "      <td>174.6</td>\n",
       "      <td>35.373719</td>\n",
       "    </tr>\n",
       "    <tr>\n",
       "      <th>2018-08-31 23:00:00</th>\n",
       "      <td>205</td>\n",
       "      <td>8</td>\n",
       "      <td>31</td>\n",
       "      <td>4</td>\n",
       "      <td>23</td>\n",
       "      <td>223.0</td>\n",
       "      <td>159.0</td>\n",
       "      <td>154.0</td>\n",
       "      <td>136.0</td>\n",
       "      <td>207.0</td>\n",
       "      <td>217.0</td>\n",
       "      <td>197.0</td>\n",
       "      <td>116.0</td>\n",
       "      <td>133.0</td>\n",
       "      <td>166.0</td>\n",
       "      <td>175.8</td>\n",
       "      <td>37.224992</td>\n",
       "    </tr>\n",
       "  </tbody>\n",
       "</table>\n",
       "<p>4406 rows × 17 columns</p>\n",
       "</div>"
      ],
      "text/plain": [
       "                     taxi_cnt_hour  month  day  dayofweek  hourofday  lag_1  \\\n",
       "datetime                                                                      \n",
       "2018-03-01 10:00:00             64      3    1          3         10   69.0   \n",
       "2018-03-01 11:00:00             96      3    1          3         11   64.0   \n",
       "2018-03-01 12:00:00             30      3    1          3         12   96.0   \n",
       "2018-03-01 13:00:00             32      3    1          3         13   30.0   \n",
       "2018-03-01 14:00:00             48      3    1          3         14   32.0   \n",
       "...                            ...    ...  ...        ...        ...    ...   \n",
       "2018-08-31 19:00:00            136      8   31          4         19  207.0   \n",
       "2018-08-31 20:00:00            154      8   31          4         20  136.0   \n",
       "2018-08-31 21:00:00            159      8   31          4         21  154.0   \n",
       "2018-08-31 22:00:00            223      8   31          4         22  159.0   \n",
       "2018-08-31 23:00:00            205      8   31          4         23  223.0   \n",
       "\n",
       "                     lag_2  lag_3  lag_4  lag_5  lag_6  lag_7  lag_8  lag_9  \\\n",
       "datetime                                                                      \n",
       "2018-03-01 10:00:00   34.0   15.0   12.0    6.0   43.0   66.0   71.0   85.0   \n",
       "2018-03-01 11:00:00   69.0   34.0   15.0   12.0    6.0   43.0   66.0   71.0   \n",
       "2018-03-01 12:00:00   64.0   69.0   34.0   15.0   12.0    6.0   43.0   66.0   \n",
       "2018-03-01 13:00:00   96.0   64.0   69.0   34.0   15.0   12.0    6.0   43.0   \n",
       "2018-03-01 14:00:00   30.0   96.0   64.0   69.0   34.0   15.0   12.0    6.0   \n",
       "...                    ...    ...    ...    ...    ...    ...    ...    ...   \n",
       "2018-08-31 19:00:00  217.0  197.0  116.0  133.0  166.0  136.0  167.0  191.0   \n",
       "2018-08-31 20:00:00  207.0  217.0  197.0  116.0  133.0  166.0  136.0  167.0   \n",
       "2018-08-31 21:00:00  136.0  207.0  217.0  197.0  116.0  133.0  166.0  136.0   \n",
       "2018-08-31 22:00:00  154.0  136.0  207.0  217.0  197.0  116.0  133.0  166.0   \n",
       "2018-08-31 23:00:00  159.0  154.0  136.0  207.0  217.0  197.0  116.0  133.0   \n",
       "\n",
       "                     lag_10  rolling_mean  rolling_std  \n",
       "datetime                                                \n",
       "2018-03-01 10:00:00   124.0          27.2    25.606640  \n",
       "2018-03-01 11:00:00    85.0          38.8    26.715164  \n",
       "2018-03-01 12:00:00    71.0          55.6    31.611707  \n",
       "2018-03-01 13:00:00    66.0          58.6    27.199265  \n",
       "2018-03-01 14:00:00    43.0          58.2    27.662249  \n",
       "...                     ...           ...          ...  \n",
       "2018-08-31 19:00:00   203.0         174.0    46.130250  \n",
       "2018-08-31 20:00:00   191.0         174.6    45.478566  \n",
       "2018-08-31 21:00:00   167.0         182.2    35.266131  \n",
       "2018-08-31 22:00:00   136.0         174.6    35.373719  \n",
       "2018-08-31 23:00:00   166.0         175.8    37.224992  \n",
       "\n",
       "[4406 rows x 17 columns]"
      ]
     },
     "execution_count": 26,
     "metadata": {},
     "output_type": "execute_result"
    }
   ],
   "source": [
    "taxi=taxi.rename(columns={'num_orders':'taxi_cnt_hour'})\n",
    "taxi=taxi.sort_index()\n",
    "taxi"
   ]
  },
  {
   "cell_type": "markdown",
   "metadata": {},
   "source": [
    "# Split Data into Training and Test sets"
   ]
  },
  {
   "cell_type": "code",
   "execution_count": 27,
   "metadata": {},
   "outputs": [],
   "source": [
    "features = taxi.drop('taxi_cnt_hour', axis=1)\n",
    "target = taxi['taxi_cnt_hour']"
   ]
  },
  {
   "cell_type": "code",
   "execution_count": 28,
   "metadata": {},
   "outputs": [],
   "source": [
    "features_train, features_test, target_train, target_test = train_test_split(features, target, shuffle=False, test_size=0.1)"
   ]
  },
  {
   "cell_type": "code",
   "execution_count": 32,
   "metadata": {},
   "outputs": [],
   "source": [
    "def rmse(true, pred):\n",
    "    return mean_squared_error(true, pred)**0.5"
   ]
  },
  {
   "cell_type": "code",
   "execution_count": 33,
   "metadata": {
    "scrolled": false
   },
   "outputs": [
    {
     "data": {
      "text/html": [
       "<div>\n",
       "<style scoped>\n",
       "    .dataframe tbody tr th:only-of-type {\n",
       "        vertical-align: middle;\n",
       "    }\n",
       "\n",
       "    .dataframe tbody tr th {\n",
       "        vertical-align: top;\n",
       "    }\n",
       "\n",
       "    .dataframe thead th {\n",
       "        text-align: right;\n",
       "    }\n",
       "</style>\n",
       "<table border=\"1\" class=\"dataframe\">\n",
       "  <thead>\n",
       "    <tr style=\"text-align: right;\">\n",
       "      <th></th>\n",
       "      <th>month</th>\n",
       "      <th>day</th>\n",
       "      <th>dayofweek</th>\n",
       "      <th>hourofday</th>\n",
       "      <th>lag_1</th>\n",
       "      <th>lag_2</th>\n",
       "      <th>lag_3</th>\n",
       "      <th>lag_4</th>\n",
       "      <th>lag_5</th>\n",
       "      <th>lag_6</th>\n",
       "      <th>lag_7</th>\n",
       "      <th>lag_8</th>\n",
       "      <th>lag_9</th>\n",
       "      <th>lag_10</th>\n",
       "      <th>rolling_mean</th>\n",
       "      <th>rolling_std</th>\n",
       "    </tr>\n",
       "    <tr>\n",
       "      <th>datetime</th>\n",
       "      <th></th>\n",
       "      <th></th>\n",
       "      <th></th>\n",
       "      <th></th>\n",
       "      <th></th>\n",
       "      <th></th>\n",
       "      <th></th>\n",
       "      <th></th>\n",
       "      <th></th>\n",
       "      <th></th>\n",
       "      <th></th>\n",
       "      <th></th>\n",
       "      <th></th>\n",
       "      <th></th>\n",
       "      <th></th>\n",
       "      <th></th>\n",
       "    </tr>\n",
       "  </thead>\n",
       "  <tbody>\n",
       "    <tr>\n",
       "      <th>2018-03-01 10:00:00</th>\n",
       "      <td>3</td>\n",
       "      <td>1</td>\n",
       "      <td>3</td>\n",
       "      <td>10</td>\n",
       "      <td>69.0</td>\n",
       "      <td>34.0</td>\n",
       "      <td>15.0</td>\n",
       "      <td>12.0</td>\n",
       "      <td>6.0</td>\n",
       "      <td>43.0</td>\n",
       "      <td>66.0</td>\n",
       "      <td>71.0</td>\n",
       "      <td>85.0</td>\n",
       "      <td>124.0</td>\n",
       "      <td>27.2</td>\n",
       "      <td>25.606640</td>\n",
       "    </tr>\n",
       "    <tr>\n",
       "      <th>2018-03-01 11:00:00</th>\n",
       "      <td>3</td>\n",
       "      <td>1</td>\n",
       "      <td>3</td>\n",
       "      <td>11</td>\n",
       "      <td>64.0</td>\n",
       "      <td>69.0</td>\n",
       "      <td>34.0</td>\n",
       "      <td>15.0</td>\n",
       "      <td>12.0</td>\n",
       "      <td>6.0</td>\n",
       "      <td>43.0</td>\n",
       "      <td>66.0</td>\n",
       "      <td>71.0</td>\n",
       "      <td>85.0</td>\n",
       "      <td>38.8</td>\n",
       "      <td>26.715164</td>\n",
       "    </tr>\n",
       "    <tr>\n",
       "      <th>2018-03-01 12:00:00</th>\n",
       "      <td>3</td>\n",
       "      <td>1</td>\n",
       "      <td>3</td>\n",
       "      <td>12</td>\n",
       "      <td>96.0</td>\n",
       "      <td>64.0</td>\n",
       "      <td>69.0</td>\n",
       "      <td>34.0</td>\n",
       "      <td>15.0</td>\n",
       "      <td>12.0</td>\n",
       "      <td>6.0</td>\n",
       "      <td>43.0</td>\n",
       "      <td>66.0</td>\n",
       "      <td>71.0</td>\n",
       "      <td>55.6</td>\n",
       "      <td>31.611707</td>\n",
       "    </tr>\n",
       "    <tr>\n",
       "      <th>2018-03-01 13:00:00</th>\n",
       "      <td>3</td>\n",
       "      <td>1</td>\n",
       "      <td>3</td>\n",
       "      <td>13</td>\n",
       "      <td>30.0</td>\n",
       "      <td>96.0</td>\n",
       "      <td>64.0</td>\n",
       "      <td>69.0</td>\n",
       "      <td>34.0</td>\n",
       "      <td>15.0</td>\n",
       "      <td>12.0</td>\n",
       "      <td>6.0</td>\n",
       "      <td>43.0</td>\n",
       "      <td>66.0</td>\n",
       "      <td>58.6</td>\n",
       "      <td>27.199265</td>\n",
       "    </tr>\n",
       "    <tr>\n",
       "      <th>2018-03-01 14:00:00</th>\n",
       "      <td>3</td>\n",
       "      <td>1</td>\n",
       "      <td>3</td>\n",
       "      <td>14</td>\n",
       "      <td>32.0</td>\n",
       "      <td>30.0</td>\n",
       "      <td>96.0</td>\n",
       "      <td>64.0</td>\n",
       "      <td>69.0</td>\n",
       "      <td>34.0</td>\n",
       "      <td>15.0</td>\n",
       "      <td>12.0</td>\n",
       "      <td>6.0</td>\n",
       "      <td>43.0</td>\n",
       "      <td>58.2</td>\n",
       "      <td>27.662249</td>\n",
       "    </tr>\n",
       "    <tr>\n",
       "      <th>...</th>\n",
       "      <td>...</td>\n",
       "      <td>...</td>\n",
       "      <td>...</td>\n",
       "      <td>...</td>\n",
       "      <td>...</td>\n",
       "      <td>...</td>\n",
       "      <td>...</td>\n",
       "      <td>...</td>\n",
       "      <td>...</td>\n",
       "      <td>...</td>\n",
       "      <td>...</td>\n",
       "      <td>...</td>\n",
       "      <td>...</td>\n",
       "      <td>...</td>\n",
       "      <td>...</td>\n",
       "      <td>...</td>\n",
       "    </tr>\n",
       "    <tr>\n",
       "      <th>2018-08-13 10:00:00</th>\n",
       "      <td>8</td>\n",
       "      <td>13</td>\n",
       "      <td>0</td>\n",
       "      <td>10</td>\n",
       "      <td>137.0</td>\n",
       "      <td>91.0</td>\n",
       "      <td>39.0</td>\n",
       "      <td>66.0</td>\n",
       "      <td>83.0</td>\n",
       "      <td>143.0</td>\n",
       "      <td>168.0</td>\n",
       "      <td>437.0</td>\n",
       "      <td>273.0</td>\n",
       "      <td>160.0</td>\n",
       "      <td>83.2</td>\n",
       "      <td>36.072150</td>\n",
       "    </tr>\n",
       "    <tr>\n",
       "      <th>2018-08-13 11:00:00</th>\n",
       "      <td>8</td>\n",
       "      <td>13</td>\n",
       "      <td>0</td>\n",
       "      <td>11</td>\n",
       "      <td>156.0</td>\n",
       "      <td>137.0</td>\n",
       "      <td>91.0</td>\n",
       "      <td>39.0</td>\n",
       "      <td>66.0</td>\n",
       "      <td>83.0</td>\n",
       "      <td>143.0</td>\n",
       "      <td>168.0</td>\n",
       "      <td>437.0</td>\n",
       "      <td>273.0</td>\n",
       "      <td>97.8</td>\n",
       "      <td>48.576743</td>\n",
       "    </tr>\n",
       "    <tr>\n",
       "      <th>2018-08-13 12:00:00</th>\n",
       "      <td>8</td>\n",
       "      <td>13</td>\n",
       "      <td>0</td>\n",
       "      <td>12</td>\n",
       "      <td>144.0</td>\n",
       "      <td>156.0</td>\n",
       "      <td>137.0</td>\n",
       "      <td>91.0</td>\n",
       "      <td>39.0</td>\n",
       "      <td>66.0</td>\n",
       "      <td>83.0</td>\n",
       "      <td>143.0</td>\n",
       "      <td>168.0</td>\n",
       "      <td>437.0</td>\n",
       "      <td>113.4</td>\n",
       "      <td>48.335287</td>\n",
       "    </tr>\n",
       "    <tr>\n",
       "      <th>2018-08-13 13:00:00</th>\n",
       "      <td>8</td>\n",
       "      <td>13</td>\n",
       "      <td>0</td>\n",
       "      <td>13</td>\n",
       "      <td>92.0</td>\n",
       "      <td>144.0</td>\n",
       "      <td>156.0</td>\n",
       "      <td>137.0</td>\n",
       "      <td>91.0</td>\n",
       "      <td>39.0</td>\n",
       "      <td>66.0</td>\n",
       "      <td>83.0</td>\n",
       "      <td>143.0</td>\n",
       "      <td>168.0</td>\n",
       "      <td>124.0</td>\n",
       "      <td>30.438463</td>\n",
       "    </tr>\n",
       "    <tr>\n",
       "      <th>2018-08-13 14:00:00</th>\n",
       "      <td>8</td>\n",
       "      <td>13</td>\n",
       "      <td>0</td>\n",
       "      <td>14</td>\n",
       "      <td>119.0</td>\n",
       "      <td>92.0</td>\n",
       "      <td>144.0</td>\n",
       "      <td>156.0</td>\n",
       "      <td>137.0</td>\n",
       "      <td>91.0</td>\n",
       "      <td>39.0</td>\n",
       "      <td>66.0</td>\n",
       "      <td>83.0</td>\n",
       "      <td>143.0</td>\n",
       "      <td>129.6</td>\n",
       "      <td>24.925890</td>\n",
       "    </tr>\n",
       "  </tbody>\n",
       "</table>\n",
       "<p>3965 rows × 16 columns</p>\n",
       "</div>"
      ],
      "text/plain": [
       "                     month  day  dayofweek  hourofday  lag_1  lag_2  lag_3  \\\n",
       "datetime                                                                     \n",
       "2018-03-01 10:00:00      3    1          3         10   69.0   34.0   15.0   \n",
       "2018-03-01 11:00:00      3    1          3         11   64.0   69.0   34.0   \n",
       "2018-03-01 12:00:00      3    1          3         12   96.0   64.0   69.0   \n",
       "2018-03-01 13:00:00      3    1          3         13   30.0   96.0   64.0   \n",
       "2018-03-01 14:00:00      3    1          3         14   32.0   30.0   96.0   \n",
       "...                    ...  ...        ...        ...    ...    ...    ...   \n",
       "2018-08-13 10:00:00      8   13          0         10  137.0   91.0   39.0   \n",
       "2018-08-13 11:00:00      8   13          0         11  156.0  137.0   91.0   \n",
       "2018-08-13 12:00:00      8   13          0         12  144.0  156.0  137.0   \n",
       "2018-08-13 13:00:00      8   13          0         13   92.0  144.0  156.0   \n",
       "2018-08-13 14:00:00      8   13          0         14  119.0   92.0  144.0   \n",
       "\n",
       "                     lag_4  lag_5  lag_6  lag_7  lag_8  lag_9  lag_10  \\\n",
       "datetime                                                                \n",
       "2018-03-01 10:00:00   12.0    6.0   43.0   66.0   71.0   85.0   124.0   \n",
       "2018-03-01 11:00:00   15.0   12.0    6.0   43.0   66.0   71.0    85.0   \n",
       "2018-03-01 12:00:00   34.0   15.0   12.0    6.0   43.0   66.0    71.0   \n",
       "2018-03-01 13:00:00   69.0   34.0   15.0   12.0    6.0   43.0    66.0   \n",
       "2018-03-01 14:00:00   64.0   69.0   34.0   15.0   12.0    6.0    43.0   \n",
       "...                    ...    ...    ...    ...    ...    ...     ...   \n",
       "2018-08-13 10:00:00   66.0   83.0  143.0  168.0  437.0  273.0   160.0   \n",
       "2018-08-13 11:00:00   39.0   66.0   83.0  143.0  168.0  437.0   273.0   \n",
       "2018-08-13 12:00:00   91.0   39.0   66.0   83.0  143.0  168.0   437.0   \n",
       "2018-08-13 13:00:00  137.0   91.0   39.0   66.0   83.0  143.0   168.0   \n",
       "2018-08-13 14:00:00  156.0  137.0   91.0   39.0   66.0   83.0   143.0   \n",
       "\n",
       "                     rolling_mean  rolling_std  \n",
       "datetime                                        \n",
       "2018-03-01 10:00:00          27.2    25.606640  \n",
       "2018-03-01 11:00:00          38.8    26.715164  \n",
       "2018-03-01 12:00:00          55.6    31.611707  \n",
       "2018-03-01 13:00:00          58.6    27.199265  \n",
       "2018-03-01 14:00:00          58.2    27.662249  \n",
       "...                           ...          ...  \n",
       "2018-08-13 10:00:00          83.2    36.072150  \n",
       "2018-08-13 11:00:00          97.8    48.576743  \n",
       "2018-08-13 12:00:00         113.4    48.335287  \n",
       "2018-08-13 13:00:00         124.0    30.438463  \n",
       "2018-08-13 14:00:00         129.6    24.925890  \n",
       "\n",
       "[3965 rows x 16 columns]"
      ]
     },
     "execution_count": 33,
     "metadata": {},
     "output_type": "execute_result"
    }
   ],
   "source": [
    "features_train"
   ]
  },
  {
   "cell_type": "markdown",
   "metadata": {},
   "source": [
    "# Scale the data and use RMSE metric to select best model"
   ]
  },
  {
   "cell_type": "code",
   "execution_count": 34,
   "metadata": {},
   "outputs": [],
   "source": [
    "sc = ss()\n",
    "features_train = sc.fit_transform(features_train)\n",
    "features_test = sc.transform(features_test)"
   ]
  },
  {
   "cell_type": "code",
   "execution_count": 35,
   "metadata": {},
   "outputs": [],
   "source": [
    "tscv = TimeSeriesSplit()"
   ]
  },
  {
   "cell_type": "code",
   "execution_count": 36,
   "metadata": {},
   "outputs": [],
   "source": [
    "def rmse(actual, predict):\n",
    "    predict = np.array(predict)\n",
    "    actual = np.array(actual)\n",
    "\n",
    "    distance = predict - actual\n",
    "    square_distance = distance ** 2\n",
    "    mean_square_distance = square_distance.mean()\n",
    "    score = np.sqrt(mean_square_distance)\n",
    "    return score\n",
    "\n",
    "rmse_scorer = make_scorer(rmse, greater_is_better = False)"
   ]
  },
  {
   "cell_type": "code",
   "execution_count": 37,
   "metadata": {},
   "outputs": [
    {
     "data": {
      "text/plain": [
       "41.598174732872344"
      ]
     },
     "execution_count": 37,
     "metadata": {},
     "output_type": "execute_result"
    }
   ],
   "source": [
    "model = DummyRegressor(strategy='median')\n",
    "baseline = np.mean(abs(cross_val_score(model,  features_train, target_train, cv=tscv, scoring = rmse_scorer)))\n",
    "baseline"
   ]
  },
  {
   "cell_type": "markdown",
   "metadata": {},
   "source": [
    "* The Data is scaled \n",
    "* TimeSeriesSplit is utilized for cross validation\n",
    "* We are utilizing rmese scorer to compare model metrics"
   ]
  },
  {
   "cell_type": "code",
   "execution_count": 38,
   "metadata": {},
   "outputs": [
    {
     "name": "stdout",
     "output_type": "stream",
     "text": [
      "Linear Regression RMSE Train: 7514936117.212375\n"
     ]
    }
   ],
   "source": [
    "lr = LinearRegression()\n",
    "lr_mod= np.mean(abs(cross_val_score(lr,  features_train, target_train, cv=tscv, scoring = rmse_scorer)))\n",
    "print('Linear Regression RMSE Train:', lr_mod)\n"
   ]
  },
  {
   "cell_type": "code",
   "execution_count": 39,
   "metadata": {},
   "outputs": [
    {
     "name": "stdout",
     "output_type": "stream",
     "text": [
      "Decision Tree Regresor_1: 34.383366933560936\n"
     ]
    }
   ],
   "source": [
    "dt=DecisionTreeRegressor(random_state=12345)\n",
    "dt_mod= np.mean(abs(cross_val_score(dt,  features_train, target_train, cv=tscv, scoring = rmse_scorer)))\n",
    "print('Decision Tree Regresor_1:', dt_mod)\n"
   ]
  },
  {
   "cell_type": "code",
   "execution_count": 40,
   "metadata": {
    "scrolled": true
   },
   "outputs": [
    {
     "name": "stdout",
     "output_type": "stream",
     "text": [
      "30.589740958196046\n",
      "CPU times: user 367 ms, sys: 8.16 ms, total: 375 ms\n",
      "Wall time: 380 ms\n"
     ]
    }
   ],
   "source": [
    "%%time\n",
    "params = {\"max_depth\" : [6, 7, 8, 9, 10]}\n",
    "\n",
    "gsSVR = GridSearchCV(estimator=dt, cv=tscv, param_grid=params, n_jobs=-1, verbose=0, scoring=rmse_scorer)\n",
    "gsSVR.fit(features_train, target_train)\n",
    "SVR_best = gsSVR.best_estimator_\n",
    "print(abs(gsSVR.best_score_))"
   ]
  },
  {
   "cell_type": "code",
   "execution_count": 41,
   "metadata": {},
   "outputs": [
    {
     "name": "stdout",
     "output_type": "stream",
     "text": [
      "CPU times: user 2.03 ms, sys: 26 µs, total: 2.06 ms\n",
      "Wall time: 1.76 ms\n"
     ]
    },
    {
     "data": {
      "text/html": [
       "<div>\n",
       "<style scoped>\n",
       "    .dataframe tbody tr th:only-of-type {\n",
       "        vertical-align: middle;\n",
       "    }\n",
       "\n",
       "    .dataframe tbody tr th {\n",
       "        vertical-align: top;\n",
       "    }\n",
       "\n",
       "    .dataframe thead th {\n",
       "        text-align: right;\n",
       "    }\n",
       "</style>\n",
       "<table border=\"1\" class=\"dataframe\">\n",
       "  <thead>\n",
       "    <tr style=\"text-align: right;\">\n",
       "      <th></th>\n",
       "      <th>max_depth</th>\n",
       "      <th>score</th>\n",
       "    </tr>\n",
       "  </thead>\n",
       "  <tbody>\n",
       "    <tr>\n",
       "      <th>0</th>\n",
       "      <td>8</td>\n",
       "      <td>30.589741</td>\n",
       "    </tr>\n",
       "  </tbody>\n",
       "</table>\n",
       "</div>"
      ],
      "text/plain": [
       "   max_depth      score\n",
       "0          8  30.589741"
      ]
     },
     "execution_count": 41,
     "metadata": {},
     "output_type": "execute_result"
    }
   ],
   "source": [
    "%%time\n",
    "best_param = pd.DataFrame(gsSVR.best_params_, index=[0])\n",
    "dt_tuned = abs(gsSVR.best_score_)\n",
    "best_param['score'] = dt_tuned\n",
    "\n",
    "best_param"
   ]
  },
  {
   "cell_type": "code",
   "execution_count": 42,
   "metadata": {},
   "outputs": [
    {
     "name": "stdout",
     "output_type": "stream",
     "text": [
      "RandomForestRegressor_1: 25.400545878732284\n"
     ]
    }
   ],
   "source": [
    "rf = RandomForestRegressor(random_state=12345)\n",
    "rf_mod= np.mean(abs(cross_val_score(rf,  features_train, target_train, cv=tscv, scoring = rmse_scorer)))\n",
    "print('RandomForestRegressor_1:', rf_mod)\n"
   ]
  },
  {
   "cell_type": "code",
   "execution_count": 43,
   "metadata": {},
   "outputs": [
    {
     "name": "stdout",
     "output_type": "stream",
     "text": [
      "25.871291409088037\n",
      "CPU times: user 21.7 s, sys: 73.9 ms, total: 21.7 s\n",
      "Wall time: 21.8 s\n"
     ]
    }
   ],
   "source": [
    "%%time\n",
    "params = {\"n_estimators\": [15, 30, 50], \"max_depth\" : [6, 7, 8, 9, 10]}\n",
    "\n",
    "gsSVR = GridSearchCV(estimator=rf, cv=tscv, param_grid=params, n_jobs=-1, verbose=0, scoring=rmse_scorer)\n",
    "gsSVR.fit(features_train, target_train)\n",
    "SVR_best = gsSVR.best_estimator_\n",
    "print(abs(gsSVR.best_score_))"
   ]
  },
  {
   "cell_type": "code",
   "execution_count": 44,
   "metadata": {
    "scrolled": true
   },
   "outputs": [
    {
     "name": "stdout",
     "output_type": "stream",
     "text": [
      "CPU times: user 1.76 ms, sys: 70 µs, total: 1.83 ms\n",
      "Wall time: 1.48 ms\n"
     ]
    },
    {
     "data": {
      "text/html": [
       "<div>\n",
       "<style scoped>\n",
       "    .dataframe tbody tr th:only-of-type {\n",
       "        vertical-align: middle;\n",
       "    }\n",
       "\n",
       "    .dataframe tbody tr th {\n",
       "        vertical-align: top;\n",
       "    }\n",
       "\n",
       "    .dataframe thead th {\n",
       "        text-align: right;\n",
       "    }\n",
       "</style>\n",
       "<table border=\"1\" class=\"dataframe\">\n",
       "  <thead>\n",
       "    <tr style=\"text-align: right;\">\n",
       "      <th></th>\n",
       "      <th>max_depth</th>\n",
       "      <th>n_estimators</th>\n",
       "      <th>score</th>\n",
       "    </tr>\n",
       "  </thead>\n",
       "  <tbody>\n",
       "    <tr>\n",
       "      <th>0</th>\n",
       "      <td>10</td>\n",
       "      <td>50</td>\n",
       "      <td>25.871291</td>\n",
       "    </tr>\n",
       "  </tbody>\n",
       "</table>\n",
       "</div>"
      ],
      "text/plain": [
       "   max_depth  n_estimators      score\n",
       "0         10            50  25.871291"
      ]
     },
     "execution_count": 44,
     "metadata": {},
     "output_type": "execute_result"
    }
   ],
   "source": [
    "%%time\n",
    "best_param = pd.DataFrame(gsSVR.best_params_, index=[0])\n",
    "rf_tuned = abs(gsSVR.best_score_)\n",
    "best_param['score'] = rf_tuned\n",
    "\n",
    "best_param"
   ]
  },
  {
   "cell_type": "code",
   "execution_count": 45,
   "metadata": {},
   "outputs": [
    {
     "name": "stdout",
     "output_type": "stream",
     "text": [
      "CPU times: user 3.93 s, sys: 79.3 ms, total: 4.01 s\n",
      "Wall time: 4.02 s\n"
     ]
    },
    {
     "data": {
      "text/plain": [
       "25.15885424306553"
      ]
     },
     "execution_count": 45,
     "metadata": {},
     "output_type": "execute_result"
    }
   ],
   "source": [
    "%%time\n",
    "lgbm = LGBMRegressor(random_state=12345)\n",
    "lgbm_original = np.mean(abs(cross_val_score(lgbm,  features_train, target_train, cv=tscv, scoring = rmse_scorer)))\n",
    "lgbm_original"
   ]
  },
  {
   "cell_type": "code",
   "execution_count": 46,
   "metadata": {},
   "outputs": [
    {
     "name": "stdout",
     "output_type": "stream",
     "text": [
      "24.983366900591683\n",
      "CPU times: user 31.2 s, sys: 135 ms, total: 31.4 s\n",
      "Wall time: 31.6 s\n"
     ]
    }
   ],
   "source": [
    "%%time\n",
    "params = {\"n_estimators\" : [15, 30, 60], \"max_depth\" : [6, 7, 8, 9, 10]}\n",
    "\n",
    "gsSVR = GridSearchCV(estimator=lgbm, cv=tscv, param_grid=params, n_jobs=-1, verbose=0, scoring=rmse_scorer)\n",
    "gsSVR.fit(features_train, target_train)\n",
    "SVR_best = gsSVR.best_estimator_\n",
    "print(abs(gsSVR.best_score_))"
   ]
  },
  {
   "cell_type": "code",
   "execution_count": 47,
   "metadata": {},
   "outputs": [
    {
     "name": "stdout",
     "output_type": "stream",
     "text": [
      "CPU times: user 1.64 ms, sys: 37 µs, total: 1.68 ms\n",
      "Wall time: 1.39 ms\n"
     ]
    },
    {
     "data": {
      "text/html": [
       "<div>\n",
       "<style scoped>\n",
       "    .dataframe tbody tr th:only-of-type {\n",
       "        vertical-align: middle;\n",
       "    }\n",
       "\n",
       "    .dataframe tbody tr th {\n",
       "        vertical-align: top;\n",
       "    }\n",
       "\n",
       "    .dataframe thead th {\n",
       "        text-align: right;\n",
       "    }\n",
       "</style>\n",
       "<table border=\"1\" class=\"dataframe\">\n",
       "  <thead>\n",
       "    <tr style=\"text-align: right;\">\n",
       "      <th></th>\n",
       "      <th>max_depth</th>\n",
       "      <th>n_estimators</th>\n",
       "      <th>score</th>\n",
       "    </tr>\n",
       "  </thead>\n",
       "  <tbody>\n",
       "    <tr>\n",
       "      <th>0</th>\n",
       "      <td>8</td>\n",
       "      <td>60</td>\n",
       "      <td>24.983367</td>\n",
       "    </tr>\n",
       "  </tbody>\n",
       "</table>\n",
       "</div>"
      ],
      "text/plain": [
       "   max_depth  n_estimators      score\n",
       "0          8            60  24.983367"
      ]
     },
     "execution_count": 47,
     "metadata": {},
     "output_type": "execute_result"
    }
   ],
   "source": [
    "%%time\n",
    "best_param = pd.DataFrame(gsSVR.best_params_, index=[0])\n",
    "lgbm_tuned = abs(gsSVR.best_score_)\n",
    "best_param['score'] = lgbm_tuned\n",
    "\n",
    "best_param"
   ]
  },
  {
   "cell_type": "markdown",
   "metadata": {},
   "source": [
    "* While the RandomForest Regressor model with tuned parameters performs well, the LGBM generates a slightly better RMSE metric. * Thus, we will select the LGBM and use the test set to evaluate this model."
   ]
  },
  {
   "cell_type": "markdown",
   "metadata": {},
   "source": [
    "## Testing"
   ]
  },
  {
   "cell_type": "code",
   "execution_count": 64,
   "metadata": {},
   "outputs": [
    {
     "data": {
      "text/plain": [
       "43.06196823251162"
      ]
     },
     "execution_count": 64,
     "metadata": {},
     "output_type": "execute_result"
    }
   ],
   "source": [
    "lgbm.fit(features_train, target_train)\n",
    "test_pred=lgbm.predict(features_test)\n",
    "lgbm_test_score=rmse(target_test, test_pred)\n",
    "lgbm_test_score"
   ]
  },
  {
   "cell_type": "markdown",
   "metadata": {},
   "source": [
    "# Conclusion"
   ]
  },
  {
   "cell_type": "markdown",
   "metadata": {},
   "source": [
    "The objective of this project was to build a model to effectively predict the number of hourly taxi orders. The best model with the lowest RMSE scores resulted in untuned LGBM model, thus is was selected for testing. The RMSE metric on the test set resulted in a value of 43.06, which is below the desired threshold of 48. It differs from the RMSE metric from the validation set, but indicates that the model has still has decent predictive power. Based on the results, I would reccomned this model be utilized. "
   ]
  },
  {
   "cell_type": "markdown",
   "metadata": {},
   "source": [
    "<div class=\"alert alert-danger\">\n",
    "<s><b>Reviewer's comment V2</b>\n",
    "\n",
    "Probably adding an hour feature would help a lot, as we're doing hourly predictions :)\n",
    "    \n",
    "Also you're using very complex models (500 trees?), so they are probably overfitted\n",
    "\n",
    "</div>"
   ]
  },
  {
   "cell_type": "markdown",
   "metadata": {},
   "source": [
    "<div class=\"alert alert-info\">\n",
    "Thanks so much for the advice! Adding the hour feature really did the trick! Also reducing the range in n_estimators also definetly helped achieve the desired result. Thank you for all your help and advice! \n",
    "</div>"
   ]
  },
  {
   "cell_type": "markdown",
   "metadata": {},
   "source": [
    "<div class=\"alert alert-success\">\n",
    "<b>Reviewer's comment V3</b>\n",
    "\n",
    "No problem! Glad my comments were helpful :)\n",
    "\n",
    "</div>"
   ]
  },
  {
   "cell_type": "markdown",
   "metadata": {},
   "source": [
    "# Review checklist"
   ]
  },
  {
   "cell_type": "markdown",
   "metadata": {},
   "source": [
    "- [x]  Jupyter Notebook is open\n",
    "- [ ]  The code is error-free\n",
    "- [ ]  The cells with the code have been arranged in order of execution\n",
    "- [ ]  The data has been downloaded and prepared\n",
    "- [ ]  The data has been analyzed\n",
    "- [ ]  The model has been trained and hyperparameters have been selected\n",
    "- [ ]  The models have been evaluated. Conclusion has been provided\n",
    "- [ ] *RMSE* for the test set is not more than 48"
   ]
  }
 ],
 "metadata": {
  "ExecuteTimeLog": [
   {
    "duration": 1966,
    "start_time": "2022-08-30T23:14:53.205Z"
   },
   {
    "duration": 4,
    "start_time": "2022-08-30T23:15:03.379Z"
   },
   {
    "duration": 124,
    "start_time": "2022-08-30T23:15:44.133Z"
   },
   {
    "duration": 59,
    "start_time": "2022-08-30T23:15:52.265Z"
   },
   {
    "duration": 13,
    "start_time": "2022-08-30T23:16:55.201Z"
   },
   {
    "duration": 147,
    "start_time": "2022-08-30T23:22:14.364Z"
   },
   {
    "duration": 592,
    "start_time": "2022-08-30T23:23:09.016Z"
   },
   {
    "duration": 796,
    "start_time": "2022-08-30T23:23:35.604Z"
   },
   {
    "duration": 434,
    "start_time": "2022-08-30T23:23:56.628Z"
   },
   {
    "duration": 61,
    "start_time": "2022-08-30T23:27:54.136Z"
   },
   {
    "duration": 14,
    "start_time": "2022-08-30T23:27:58.453Z"
   },
   {
    "duration": 14,
    "start_time": "2022-08-30T23:29:06.702Z"
   },
   {
    "duration": 10,
    "start_time": "2022-08-30T23:29:26.823Z"
   },
   {
    "duration": 11,
    "start_time": "2022-08-30T23:29:36.241Z"
   },
   {
    "duration": 14,
    "start_time": "2022-08-30T23:30:11.068Z"
   },
   {
    "duration": 50,
    "start_time": "2022-08-30T23:30:50.402Z"
   },
   {
    "duration": 50,
    "start_time": "2022-08-30T23:30:55.302Z"
   },
   {
    "duration": 11,
    "start_time": "2022-08-30T23:30:58.740Z"
   },
   {
    "duration": 11,
    "start_time": "2022-08-30T23:31:22.360Z"
   },
   {
    "duration": 16,
    "start_time": "2022-08-30T23:31:30.718Z"
   },
   {
    "duration": 54,
    "start_time": "2022-08-30T23:32:38.371Z"
   },
   {
    "duration": 67,
    "start_time": "2022-08-30T23:33:11.273Z"
   },
   {
    "duration": 65,
    "start_time": "2022-08-30T23:33:47.681Z"
   },
   {
    "duration": 61,
    "start_time": "2022-08-30T23:33:51.059Z"
   },
   {
    "duration": 14,
    "start_time": "2022-08-30T23:34:00.810Z"
   },
   {
    "duration": 14,
    "start_time": "2022-08-30T23:34:26.212Z"
   },
   {
    "duration": 8,
    "start_time": "2022-08-30T23:48:39.837Z"
   },
   {
    "duration": 3,
    "start_time": "2022-08-30T23:48:48.513Z"
   },
   {
    "duration": 4,
    "start_time": "2022-08-30T23:48:54.396Z"
   },
   {
    "duration": 11,
    "start_time": "2022-08-30T23:49:02.956Z"
   },
   {
    "duration": 10,
    "start_time": "2022-08-30T23:49:17.814Z"
   },
   {
    "duration": 11,
    "start_time": "2022-08-30T23:49:26.332Z"
   },
   {
    "duration": 11,
    "start_time": "2022-08-30T23:50:39.570Z"
   },
   {
    "duration": 52,
    "start_time": "2022-08-30T23:51:30.412Z"
   },
   {
    "duration": 54,
    "start_time": "2022-08-30T23:51:34.123Z"
   },
   {
    "duration": 51,
    "start_time": "2022-08-30T23:51:41.238Z"
   },
   {
    "duration": 16,
    "start_time": "2022-08-30T23:51:52.080Z"
   },
   {
    "duration": 13,
    "start_time": "2022-08-30T23:52:01.078Z"
   },
   {
    "duration": 12,
    "start_time": "2022-08-30T23:52:27.523Z"
   },
   {
    "duration": 12,
    "start_time": "2022-08-30T23:53:15.071Z"
   },
   {
    "duration": 46,
    "start_time": "2022-08-30T23:54:10.985Z"
   },
   {
    "duration": 50,
    "start_time": "2022-08-30T23:54:19.512Z"
   },
   {
    "duration": 14,
    "start_time": "2022-08-30T23:54:23.960Z"
   },
   {
    "duration": 3,
    "start_time": "2022-08-30T23:54:30.514Z"
   },
   {
    "duration": 10,
    "start_time": "2022-08-30T23:54:34.715Z"
   },
   {
    "duration": 12,
    "start_time": "2022-08-30T23:54:39.727Z"
   },
   {
    "duration": 10,
    "start_time": "2022-08-30T23:54:51.574Z"
   },
   {
    "duration": 9,
    "start_time": "2022-08-30T23:55:51.483Z"
   },
   {
    "duration": 1502,
    "start_time": "2022-08-30T23:55:59.337Z"
   },
   {
    "duration": 56,
    "start_time": "2022-08-30T23:56:00.841Z"
   },
   {
    "duration": 15,
    "start_time": "2022-08-30T23:56:00.898Z"
   },
   {
    "duration": 5,
    "start_time": "2022-08-30T23:56:12.001Z"
   },
   {
    "duration": 105,
    "start_time": "2022-08-30T23:56:19.421Z"
   },
   {
    "duration": 11,
    "start_time": "2022-08-30T23:56:25.964Z"
   },
   {
    "duration": 1402,
    "start_time": "2022-08-30T23:56:31.813Z"
   },
   {
    "duration": 54,
    "start_time": "2022-08-30T23:56:33.217Z"
   },
   {
    "duration": 14,
    "start_time": "2022-08-30T23:56:33.272Z"
   },
   {
    "duration": 4,
    "start_time": "2022-08-30T23:56:33.288Z"
   },
   {
    "duration": 111,
    "start_time": "2022-08-30T23:57:15.562Z"
   },
   {
    "duration": 1652,
    "start_time": "2022-08-30T23:57:24.212Z"
   },
   {
    "duration": 53,
    "start_time": "2022-08-30T23:57:25.866Z"
   },
   {
    "duration": 15,
    "start_time": "2022-08-30T23:57:25.920Z"
   },
   {
    "duration": 8,
    "start_time": "2022-08-30T23:57:25.936Z"
   },
   {
    "duration": 7,
    "start_time": "2022-08-30T23:58:25.996Z"
   },
   {
    "duration": 3,
    "start_time": "2022-08-30T23:58:48.781Z"
   },
   {
    "duration": 3,
    "start_time": "2022-08-30T23:58:50.946Z"
   },
   {
    "duration": 3,
    "start_time": "2022-08-30T23:58:56.881Z"
   },
   {
    "duration": 3,
    "start_time": "2022-08-30T23:59:09.719Z"
   },
   {
    "duration": 99,
    "start_time": "2022-08-30T23:59:11.510Z"
   },
   {
    "duration": 1432,
    "start_time": "2022-08-30T23:59:17.965Z"
   },
   {
    "duration": 56,
    "start_time": "2022-08-30T23:59:19.399Z"
   },
   {
    "duration": 15,
    "start_time": "2022-08-30T23:59:19.457Z"
   },
   {
    "duration": 9,
    "start_time": "2022-08-30T23:59:19.474Z"
   },
   {
    "duration": 7,
    "start_time": "2022-08-30T23:59:19.485Z"
   },
   {
    "duration": 240,
    "start_time": "2022-08-31T00:00:12.027Z"
   },
   {
    "duration": 6,
    "start_time": "2022-08-31T00:00:57.060Z"
   },
   {
    "duration": 230,
    "start_time": "2022-08-31T00:01:03.590Z"
   },
   {
    "duration": 570,
    "start_time": "2022-08-31T00:03:54.961Z"
   },
   {
    "duration": 65,
    "start_time": "2022-09-07T23:06:37.767Z"
   },
   {
    "duration": 1553,
    "start_time": "2022-09-07T23:06:47.329Z"
   },
   {
    "duration": 148,
    "start_time": "2022-09-07T23:06:48.885Z"
   },
   {
    "duration": 18,
    "start_time": "2022-09-07T23:06:49.036Z"
   },
   {
    "duration": 11,
    "start_time": "2022-09-07T23:06:49.056Z"
   },
   {
    "duration": 16,
    "start_time": "2022-09-07T23:06:49.069Z"
   },
   {
    "duration": 83,
    "start_time": "2022-09-07T23:06:49.087Z"
   },
   {
    "duration": 0,
    "start_time": "2022-09-07T23:06:49.172Z"
   },
   {
    "duration": 0,
    "start_time": "2022-09-07T23:06:49.173Z"
   },
   {
    "duration": 0,
    "start_time": "2022-09-07T23:06:49.174Z"
   },
   {
    "duration": 1479,
    "start_time": "2022-09-07T23:08:48.065Z"
   },
   {
    "duration": 0,
    "start_time": "2022-09-07T23:08:49.546Z"
   },
   {
    "duration": 0,
    "start_time": "2022-09-07T23:08:49.547Z"
   },
   {
    "duration": 0,
    "start_time": "2022-09-07T23:08:49.548Z"
   },
   {
    "duration": 0,
    "start_time": "2022-09-07T23:08:49.549Z"
   },
   {
    "duration": 0,
    "start_time": "2022-09-07T23:08:49.550Z"
   },
   {
    "duration": 0,
    "start_time": "2022-09-07T23:08:49.551Z"
   },
   {
    "duration": 0,
    "start_time": "2022-09-07T23:08:49.552Z"
   },
   {
    "duration": 0,
    "start_time": "2022-09-07T23:08:49.553Z"
   },
   {
    "duration": 0,
    "start_time": "2022-09-07T23:08:49.554Z"
   },
   {
    "duration": 3,
    "start_time": "2022-09-07T23:09:11.273Z"
   },
   {
    "duration": 57,
    "start_time": "2022-09-07T23:09:13.001Z"
   },
   {
    "duration": 14,
    "start_time": "2022-09-07T23:09:13.446Z"
   },
   {
    "duration": 9,
    "start_time": "2022-09-07T23:09:14.361Z"
   },
   {
    "duration": 7,
    "start_time": "2022-09-07T23:09:15.060Z"
   },
   {
    "duration": 5,
    "start_time": "2022-09-07T23:09:15.712Z"
   },
   {
    "duration": 185,
    "start_time": "2022-09-07T23:09:16.632Z"
   },
   {
    "duration": 190,
    "start_time": "2022-09-07T23:09:23.626Z"
   },
   {
    "duration": 6,
    "start_time": "2022-09-07T23:09:31.191Z"
   },
   {
    "duration": 267,
    "start_time": "2022-09-07T23:09:34.420Z"
   },
   {
    "duration": 9,
    "start_time": "2022-09-07T23:09:43.641Z"
   },
   {
    "duration": 206,
    "start_time": "2022-09-07T23:09:54.219Z"
   },
   {
    "duration": 13,
    "start_time": "2022-09-07T23:10:32.367Z"
   },
   {
    "duration": 141,
    "start_time": "2022-09-07T23:10:39.593Z"
   },
   {
    "duration": 293,
    "start_time": "2022-09-07T23:11:27.456Z"
   },
   {
    "duration": 201,
    "start_time": "2022-09-07T23:12:42.111Z"
   },
   {
    "duration": 7,
    "start_time": "2022-09-07T23:13:25.808Z"
   },
   {
    "duration": 10,
    "start_time": "2022-09-07T23:15:25.766Z"
   },
   {
    "duration": 6,
    "start_time": "2022-09-07T23:15:30.320Z"
   },
   {
    "duration": 188,
    "start_time": "2022-09-07T23:15:31.878Z"
   },
   {
    "duration": 480,
    "start_time": "2022-09-07T23:15:45.796Z"
   },
   {
    "duration": 2,
    "start_time": "2022-09-07T23:16:19.933Z"
   },
   {
    "duration": 27,
    "start_time": "2022-09-07T23:20:43.655Z"
   },
   {
    "duration": 15,
    "start_time": "2022-09-07T23:21:43.416Z"
   },
   {
    "duration": 204,
    "start_time": "2022-09-07T23:21:51.526Z"
   },
   {
    "duration": 333,
    "start_time": "2022-09-07T23:22:38.852Z"
   },
   {
    "duration": 344,
    "start_time": "2022-09-07T23:23:00.384Z"
   },
   {
    "duration": 6,
    "start_time": "2022-09-07T23:23:32.699Z"
   },
   {
    "duration": 6,
    "start_time": "2022-09-07T23:27:59.033Z"
   },
   {
    "duration": 183,
    "start_time": "2022-09-07T23:28:20.875Z"
   },
   {
    "duration": 204,
    "start_time": "2022-09-07T23:30:34.330Z"
   },
   {
    "duration": 6,
    "start_time": "2022-09-07T23:30:45.850Z"
   },
   {
    "duration": 9,
    "start_time": "2022-09-07T23:30:56.522Z"
   },
   {
    "duration": 13,
    "start_time": "2022-09-07T23:31:11.217Z"
   },
   {
    "duration": 5,
    "start_time": "2022-09-07T23:31:36.726Z"
   },
   {
    "duration": 42,
    "start_time": "2022-09-07T23:31:46.316Z"
   },
   {
    "duration": 4,
    "start_time": "2022-09-07T23:31:50.092Z"
   },
   {
    "duration": 6,
    "start_time": "2022-09-07T23:32:01.506Z"
   },
   {
    "duration": 12,
    "start_time": "2022-09-07T23:32:53.141Z"
   },
   {
    "duration": 49,
    "start_time": "2022-09-07T23:32:57.725Z"
   },
   {
    "duration": 13,
    "start_time": "2022-09-07T23:33:00.589Z"
   },
   {
    "duration": 6,
    "start_time": "2022-09-07T23:33:03.571Z"
   },
   {
    "duration": 8,
    "start_time": "2022-09-07T23:33:18.659Z"
   },
   {
    "duration": 6,
    "start_time": "2022-09-07T23:33:21.737Z"
   },
   {
    "duration": 3,
    "start_time": "2022-09-07T23:34:11.400Z"
   },
   {
    "duration": 55,
    "start_time": "2022-09-07T23:34:11.828Z"
   },
   {
    "duration": 12,
    "start_time": "2022-09-07T23:34:13.219Z"
   },
   {
    "duration": 8,
    "start_time": "2022-09-07T23:34:29.422Z"
   },
   {
    "duration": 4,
    "start_time": "2022-09-07T23:34:32.341Z"
   },
   {
    "duration": 9,
    "start_time": "2022-09-07T23:34:35.711Z"
   },
   {
    "duration": 6,
    "start_time": "2022-09-07T23:34:41.467Z"
   },
   {
    "duration": 1330,
    "start_time": "2022-09-07T23:34:57.037Z"
   },
   {
    "duration": 54,
    "start_time": "2022-09-07T23:34:58.369Z"
   },
   {
    "duration": 12,
    "start_time": "2022-09-07T23:34:58.424Z"
   },
   {
    "duration": 3,
    "start_time": "2022-09-07T23:34:58.437Z"
   },
   {
    "duration": 8,
    "start_time": "2022-09-07T23:34:58.442Z"
   },
   {
    "duration": 253,
    "start_time": "2022-09-07T23:34:58.451Z"
   },
   {
    "duration": 0,
    "start_time": "2022-09-07T23:34:58.706Z"
   },
   {
    "duration": 0,
    "start_time": "2022-09-07T23:34:58.706Z"
   },
   {
    "duration": 0,
    "start_time": "2022-09-07T23:34:58.708Z"
   },
   {
    "duration": 0,
    "start_time": "2022-09-07T23:34:58.709Z"
   },
   {
    "duration": 0,
    "start_time": "2022-09-07T23:34:58.709Z"
   },
   {
    "duration": 0,
    "start_time": "2022-09-07T23:34:58.710Z"
   },
   {
    "duration": 0,
    "start_time": "2022-09-07T23:34:58.711Z"
   },
   {
    "duration": 0,
    "start_time": "2022-09-07T23:34:58.712Z"
   },
   {
    "duration": 0,
    "start_time": "2022-09-07T23:34:58.713Z"
   },
   {
    "duration": 0,
    "start_time": "2022-09-07T23:34:58.714Z"
   },
   {
    "duration": 8,
    "start_time": "2022-09-07T23:38:06.468Z"
   },
   {
    "duration": 7,
    "start_time": "2022-09-07T23:38:51.474Z"
   },
   {
    "duration": 7,
    "start_time": "2022-09-07T23:39:39.429Z"
   },
   {
    "duration": 5,
    "start_time": "2022-09-07T23:39:54.767Z"
   },
   {
    "duration": 4,
    "start_time": "2022-09-07T23:39:58.106Z"
   },
   {
    "duration": 15,
    "start_time": "2022-09-07T23:40:02.351Z"
   },
   {
    "duration": 5,
    "start_time": "2022-09-07T23:40:11.985Z"
   },
   {
    "duration": 10,
    "start_time": "2022-09-07T23:40:40.977Z"
   },
   {
    "duration": 11,
    "start_time": "2022-09-07T23:40:49.707Z"
   },
   {
    "duration": 8,
    "start_time": "2022-09-07T23:40:56.816Z"
   },
   {
    "duration": 4,
    "start_time": "2022-09-07T23:41:02.022Z"
   },
   {
    "duration": 145,
    "start_time": "2022-09-07T23:41:05.986Z"
   },
   {
    "duration": 12,
    "start_time": "2022-09-07T23:41:14.579Z"
   },
   {
    "duration": 5,
    "start_time": "2022-09-07T23:41:19.248Z"
   },
   {
    "duration": 12,
    "start_time": "2022-09-07T23:41:21.753Z"
   },
   {
    "duration": 309,
    "start_time": "2022-09-07T23:41:25.226Z"
   },
   {
    "duration": 8,
    "start_time": "2022-09-07T23:42:24.542Z"
   },
   {
    "duration": 9,
    "start_time": "2022-09-07T23:42:28.892Z"
   },
   {
    "duration": 102,
    "start_time": "2022-09-07T23:42:50.474Z"
   },
   {
    "duration": 14,
    "start_time": "2022-09-07T23:42:51.302Z"
   },
   {
    "duration": 187,
    "start_time": "2022-09-07T23:42:58.046Z"
   },
   {
    "duration": 205,
    "start_time": "2022-09-07T23:43:03.977Z"
   },
   {
    "duration": 346,
    "start_time": "2022-09-07T23:43:07.085Z"
   },
   {
    "duration": 7,
    "start_time": "2022-09-07T23:43:18.931Z"
   },
   {
    "duration": 205,
    "start_time": "2022-09-07T23:43:25.372Z"
   },
   {
    "duration": 6,
    "start_time": "2022-09-07T23:46:31.195Z"
   },
   {
    "duration": 6,
    "start_time": "2022-09-07T23:46:44.301Z"
   },
   {
    "duration": 13,
    "start_time": "2022-09-07T23:47:02.282Z"
   },
   {
    "duration": 4,
    "start_time": "2022-09-07T23:47:11.059Z"
   },
   {
    "duration": 10,
    "start_time": "2022-09-07T23:47:21.867Z"
   },
   {
    "duration": 372,
    "start_time": "2022-09-07T23:48:23.070Z"
   },
   {
    "duration": 10,
    "start_time": "2022-09-07T23:51:27.103Z"
   },
   {
    "duration": 3,
    "start_time": "2022-09-07T23:51:41.868Z"
   },
   {
    "duration": 11,
    "start_time": "2022-09-07T23:51:47.791Z"
   },
   {
    "duration": 10,
    "start_time": "2022-09-07T23:51:50.265Z"
   },
   {
    "duration": 9,
    "start_time": "2022-09-07T23:53:26.562Z"
   },
   {
    "duration": 17,
    "start_time": "2022-09-07T23:53:37.700Z"
   },
   {
    "duration": 13,
    "start_time": "2022-09-07T23:53:53.080Z"
   },
   {
    "duration": 15,
    "start_time": "2022-09-07T23:54:06.190Z"
   },
   {
    "duration": 13,
    "start_time": "2022-09-07T23:56:37.599Z"
   },
   {
    "duration": 765,
    "start_time": "2022-09-07T23:56:44.701Z"
   },
   {
    "duration": 12,
    "start_time": "2022-09-07T23:57:17.251Z"
   },
   {
    "duration": 1208,
    "start_time": "2022-09-07T23:57:24.173Z"
   },
   {
    "duration": 8,
    "start_time": "2022-09-07T23:57:36.984Z"
   },
   {
    "duration": 8,
    "start_time": "2022-09-07T23:57:46.275Z"
   },
   {
    "duration": 18,
    "start_time": "2022-09-07T23:57:49.154Z"
   },
   {
    "duration": 16,
    "start_time": "2022-09-07T23:58:20.396Z"
   },
   {
    "duration": 6,
    "start_time": "2022-09-07T23:58:46.361Z"
   },
   {
    "duration": 5,
    "start_time": "2022-09-07T23:59:03.301Z"
   },
   {
    "duration": 13,
    "start_time": "2022-09-07T23:59:49.124Z"
   },
   {
    "duration": 6,
    "start_time": "2022-09-08T00:00:23.811Z"
   },
   {
    "duration": 3,
    "start_time": "2022-09-08T00:03:31.366Z"
   },
   {
    "duration": 17,
    "start_time": "2022-09-08T00:03:40.516Z"
   },
   {
    "duration": 14,
    "start_time": "2022-09-08T00:04:02.402Z"
   },
   {
    "duration": 86,
    "start_time": "2022-09-08T00:04:24.969Z"
   },
   {
    "duration": 66,
    "start_time": "2022-09-08T00:05:31.726Z"
   },
   {
    "duration": 11,
    "start_time": "2022-09-08T00:05:36.226Z"
   },
   {
    "duration": 38,
    "start_time": "2022-09-08T00:05:45.456Z"
   },
   {
    "duration": 17,
    "start_time": "2022-09-08T00:05:58.383Z"
   },
   {
    "duration": 43,
    "start_time": "2022-09-08T00:06:07.247Z"
   },
   {
    "duration": 32,
    "start_time": "2022-09-08T00:06:10.706Z"
   },
   {
    "duration": 31,
    "start_time": "2022-09-08T00:06:15.116Z"
   },
   {
    "duration": 17,
    "start_time": "2022-09-08T00:06:21.298Z"
   },
   {
    "duration": 67,
    "start_time": "2022-09-08T00:06:26.734Z"
   },
   {
    "duration": 280,
    "start_time": "2022-09-08T00:06:31.070Z"
   },
   {
    "duration": 361,
    "start_time": "2022-09-08T00:06:38.431Z"
   },
   {
    "duration": 13,
    "start_time": "2022-09-08T00:08:45.013Z"
   },
   {
    "duration": 19,
    "start_time": "2022-09-08T00:08:51.778Z"
   },
   {
    "duration": 27,
    "start_time": "2022-09-08T00:08:56.002Z"
   },
   {
    "duration": 30,
    "start_time": "2022-09-08T00:09:00.942Z"
   },
   {
    "duration": 35,
    "start_time": "2022-09-08T00:09:05.524Z"
   },
   {
    "duration": 13,
    "start_time": "2022-09-08T00:09:10.312Z"
   },
   {
    "duration": 14,
    "start_time": "2022-09-08T00:09:14.407Z"
   },
   {
    "duration": 12,
    "start_time": "2022-09-08T00:09:17.364Z"
   },
   {
    "duration": 15,
    "start_time": "2022-09-08T00:09:20.195Z"
   },
   {
    "duration": 17,
    "start_time": "2022-09-08T00:09:23.742Z"
   },
   {
    "duration": 14,
    "start_time": "2022-09-08T00:09:30.712Z"
   },
   {
    "duration": 19,
    "start_time": "2022-09-08T00:09:34.261Z"
   },
   {
    "duration": 37,
    "start_time": "2022-09-08T00:09:39.935Z"
   },
   {
    "duration": 16,
    "start_time": "2022-09-08T00:09:54.651Z"
   },
   {
    "duration": 4,
    "start_time": "2022-09-08T00:10:41.094Z"
   },
   {
    "duration": 4,
    "start_time": "2022-09-08T00:11:00.953Z"
   },
   {
    "duration": 171,
    "start_time": "2022-09-08T00:11:30.491Z"
   },
   {
    "duration": 193,
    "start_time": "2022-09-08T00:14:53.757Z"
   },
   {
    "duration": 272,
    "start_time": "2022-09-08T00:16:03.934Z"
   },
   {
    "duration": 84,
    "start_time": "2022-09-08T00:18:30.697Z"
   },
   {
    "duration": 4,
    "start_time": "2022-09-08T00:18:34.785Z"
   },
   {
    "duration": 4,
    "start_time": "2022-09-08T00:18:35.877Z"
   },
   {
    "duration": 174,
    "start_time": "2022-09-08T00:18:36.703Z"
   },
   {
    "duration": 193,
    "start_time": "2022-09-08T00:18:39.248Z"
   },
   {
    "duration": 195,
    "start_time": "2022-09-08T00:18:46.635Z"
   },
   {
    "duration": 370,
    "start_time": "2022-09-08T00:19:59.619Z"
   },
   {
    "duration": 4,
    "start_time": "2022-09-08T00:20:00.257Z"
   },
   {
    "duration": 5,
    "start_time": "2022-09-08T00:20:00.944Z"
   },
   {
    "duration": 200,
    "start_time": "2022-09-08T00:20:01.545Z"
   },
   {
    "duration": 210,
    "start_time": "2022-09-08T00:20:02.804Z"
   },
   {
    "duration": 193,
    "start_time": "2022-09-08T00:20:04.485Z"
   },
   {
    "duration": 18,
    "start_time": "2022-09-08T00:28:37.921Z"
   },
   {
    "duration": 4,
    "start_time": "2022-09-08T00:28:50.057Z"
   },
   {
    "duration": 78,
    "start_time": "2022-09-08T00:29:09.467Z"
   },
   {
    "duration": 406,
    "start_time": "2022-09-08T00:32:05.342Z"
   },
   {
    "duration": 215,
    "start_time": "2022-09-08T00:32:41.624Z"
   },
   {
    "duration": 49,
    "start_time": "2022-09-08T22:08:36.078Z"
   },
   {
    "duration": 1629,
    "start_time": "2022-09-08T22:08:45.106Z"
   },
   {
    "duration": 124,
    "start_time": "2022-09-08T22:08:46.737Z"
   },
   {
    "duration": 14,
    "start_time": "2022-09-08T22:08:46.863Z"
   },
   {
    "duration": 5,
    "start_time": "2022-09-08T22:08:46.879Z"
   },
   {
    "duration": 10,
    "start_time": "2022-09-08T22:08:46.885Z"
   },
   {
    "duration": 10,
    "start_time": "2022-09-08T22:08:46.897Z"
   },
   {
    "duration": 382,
    "start_time": "2022-09-08T22:08:46.909Z"
   },
   {
    "duration": 11,
    "start_time": "2022-09-08T22:08:47.293Z"
   },
   {
    "duration": 14,
    "start_time": "2022-09-08T22:08:47.306Z"
   },
   {
    "duration": 29,
    "start_time": "2022-09-08T22:08:47.323Z"
   },
   {
    "duration": 324,
    "start_time": "2022-09-08T22:08:47.353Z"
   },
   {
    "duration": 253,
    "start_time": "2022-09-08T22:08:47.679Z"
   },
   {
    "duration": 437,
    "start_time": "2022-09-08T22:08:47.934Z"
   },
   {
    "duration": 6,
    "start_time": "2022-09-08T22:08:48.372Z"
   },
   {
    "duration": 251,
    "start_time": "2022-09-08T22:08:48.380Z"
   },
   {
    "duration": 7,
    "start_time": "2022-09-08T22:08:48.633Z"
   },
   {
    "duration": 10,
    "start_time": "2022-09-08T22:08:48.642Z"
   },
   {
    "duration": 7,
    "start_time": "2022-09-08T22:08:48.653Z"
   },
   {
    "duration": 11,
    "start_time": "2022-09-08T22:08:48.662Z"
   },
   {
    "duration": 7,
    "start_time": "2022-09-08T22:08:48.675Z"
   },
   {
    "duration": 22,
    "start_time": "2022-09-08T22:08:48.684Z"
   },
   {
    "duration": 33,
    "start_time": "2022-09-08T22:08:48.707Z"
   },
   {
    "duration": 21,
    "start_time": "2022-09-08T22:08:48.741Z"
   },
   {
    "duration": 18,
    "start_time": "2022-09-08T22:08:48.763Z"
   },
   {
    "duration": 6,
    "start_time": "2022-09-08T22:08:48.783Z"
   },
   {
    "duration": 24,
    "start_time": "2022-09-08T22:08:48.790Z"
   },
   {
    "duration": 22,
    "start_time": "2022-09-08T22:08:48.820Z"
   },
   {
    "duration": 5,
    "start_time": "2022-09-08T22:08:48.846Z"
   },
   {
    "duration": 43,
    "start_time": "2022-09-08T22:08:48.853Z"
   },
   {
    "duration": 228,
    "start_time": "2022-09-08T22:08:48.898Z"
   },
   {
    "duration": 18,
    "start_time": "2022-09-08T22:08:49.128Z"
   },
   {
    "duration": 227,
    "start_time": "2022-09-08T22:08:49.149Z"
   },
   {
    "duration": 404,
    "start_time": "2022-09-08T22:08:49.378Z"
   },
   {
    "duration": 4,
    "start_time": "2022-09-08T22:08:49.784Z"
   },
   {
    "duration": 6,
    "start_time": "2022-09-08T22:08:49.790Z"
   },
   {
    "duration": 255,
    "start_time": "2022-09-08T22:08:49.798Z"
   },
   {
    "duration": 255,
    "start_time": "2022-09-08T22:08:50.055Z"
   },
   {
    "duration": 213,
    "start_time": "2022-09-08T22:08:50.311Z"
   },
   {
    "duration": 5,
    "start_time": "2022-09-08T22:08:50.526Z"
   },
   {
    "duration": 464,
    "start_time": "2022-09-08T22:08:50.532Z"
   },
   {
    "duration": 234,
    "start_time": "2022-09-08T22:08:50.997Z"
   },
   {
    "duration": 1837,
    "start_time": "2022-09-09T02:31:00.777Z"
   },
   {
    "duration": 152,
    "start_time": "2022-09-09T02:31:02.616Z"
   },
   {
    "duration": 16,
    "start_time": "2022-09-09T02:31:02.770Z"
   },
   {
    "duration": 60,
    "start_time": "2022-09-09T02:31:02.788Z"
   },
   {
    "duration": 103,
    "start_time": "2022-09-09T02:31:02.850Z"
   },
   {
    "duration": 41,
    "start_time": "2022-09-09T02:31:02.955Z"
   },
   {
    "duration": 420,
    "start_time": "2022-09-09T02:31:02.998Z"
   },
   {
    "duration": 14,
    "start_time": "2022-09-09T02:31:03.421Z"
   },
   {
    "duration": 18,
    "start_time": "2022-09-09T02:31:03.437Z"
   },
   {
    "duration": 46,
    "start_time": "2022-09-09T02:31:03.458Z"
   },
   {
    "duration": 349,
    "start_time": "2022-09-09T02:31:03.506Z"
   },
   {
    "duration": 282,
    "start_time": "2022-09-09T02:31:03.857Z"
   },
   {
    "duration": 451,
    "start_time": "2022-09-09T02:31:04.141Z"
   },
   {
    "duration": 6,
    "start_time": "2022-09-09T02:31:04.594Z"
   },
   {
    "duration": 314,
    "start_time": "2022-09-09T02:31:04.602Z"
   },
   {
    "duration": 7,
    "start_time": "2022-09-09T02:31:04.917Z"
   },
   {
    "duration": 31,
    "start_time": "2022-09-09T02:31:04.925Z"
   },
   {
    "duration": 36,
    "start_time": "2022-09-09T02:31:04.958Z"
   },
   {
    "duration": 47,
    "start_time": "2022-09-09T02:31:04.996Z"
   },
   {
    "duration": 63,
    "start_time": "2022-09-09T02:31:05.044Z"
   },
   {
    "duration": 44,
    "start_time": "2022-09-09T02:31:05.109Z"
   },
   {
    "duration": 36,
    "start_time": "2022-09-09T02:31:05.155Z"
   },
   {
    "duration": 96,
    "start_time": "2022-09-09T02:31:05.193Z"
   },
   {
    "duration": 96,
    "start_time": "2022-09-09T02:31:05.291Z"
   },
   {
    "duration": 53,
    "start_time": "2022-09-09T02:31:05.389Z"
   },
   {
    "duration": 43,
    "start_time": "2022-09-09T02:31:05.444Z"
   },
   {
    "duration": 14,
    "start_time": "2022-09-09T02:31:05.489Z"
   },
   {
    "duration": 8,
    "start_time": "2022-09-09T02:31:05.507Z"
   },
   {
    "duration": 35,
    "start_time": "2022-09-09T02:31:05.517Z"
   },
   {
    "duration": 138,
    "start_time": "2022-09-09T02:31:05.553Z"
   },
   {
    "duration": 115,
    "start_time": "2022-09-09T02:31:05.696Z"
   },
   {
    "duration": 104,
    "start_time": "2022-09-09T02:31:05.813Z"
   },
   {
    "duration": 449,
    "start_time": "2022-09-09T02:31:05.919Z"
   },
   {
    "duration": 5,
    "start_time": "2022-09-09T02:31:06.370Z"
   },
   {
    "duration": 17,
    "start_time": "2022-09-09T02:31:06.377Z"
   },
   {
    "duration": 231,
    "start_time": "2022-09-09T02:31:06.396Z"
   },
   {
    "duration": 272,
    "start_time": "2022-09-09T02:31:06.628Z"
   },
   {
    "duration": 232,
    "start_time": "2022-09-09T02:31:06.903Z"
   },
   {
    "duration": 4,
    "start_time": "2022-09-09T02:31:07.136Z"
   },
   {
    "duration": 473,
    "start_time": "2022-09-09T02:31:07.142Z"
   },
   {
    "duration": 241,
    "start_time": "2022-09-09T02:31:07.617Z"
   },
   {
    "duration": 2131,
    "start_time": "2022-09-09T02:32:53.404Z"
   },
   {
    "duration": 59,
    "start_time": "2022-09-09T02:32:55.537Z"
   },
   {
    "duration": 15,
    "start_time": "2022-09-09T02:32:55.597Z"
   },
   {
    "duration": 4,
    "start_time": "2022-09-09T02:32:55.614Z"
   },
   {
    "duration": 11,
    "start_time": "2022-09-09T02:32:55.619Z"
   },
   {
    "duration": 21,
    "start_time": "2022-09-09T02:32:55.631Z"
   },
   {
    "duration": 429,
    "start_time": "2022-09-09T02:32:55.654Z"
   },
   {
    "duration": 16,
    "start_time": "2022-09-09T02:32:56.085Z"
   },
   {
    "duration": 15,
    "start_time": "2022-09-09T02:32:56.103Z"
   },
   {
    "duration": 32,
    "start_time": "2022-09-09T02:32:56.120Z"
   },
   {
    "duration": 310,
    "start_time": "2022-09-09T02:32:56.154Z"
   },
   {
    "duration": 252,
    "start_time": "2022-09-09T02:32:56.466Z"
   },
   {
    "duration": 394,
    "start_time": "2022-09-09T02:32:56.720Z"
   },
   {
    "duration": 7,
    "start_time": "2022-09-09T02:32:57.115Z"
   },
   {
    "duration": 235,
    "start_time": "2022-09-09T02:32:57.124Z"
   },
   {
    "duration": 6,
    "start_time": "2022-09-09T02:32:57.361Z"
   },
   {
    "duration": 11,
    "start_time": "2022-09-09T02:32:57.368Z"
   },
   {
    "duration": 7,
    "start_time": "2022-09-09T02:32:57.380Z"
   },
   {
    "duration": 17,
    "start_time": "2022-09-09T02:32:57.389Z"
   },
   {
    "duration": 7,
    "start_time": "2022-09-09T02:32:57.407Z"
   },
   {
    "duration": 24,
    "start_time": "2022-09-09T02:32:57.415Z"
   },
   {
    "duration": 39,
    "start_time": "2022-09-09T02:32:57.441Z"
   },
   {
    "duration": 22,
    "start_time": "2022-09-09T02:32:57.482Z"
   },
   {
    "duration": 19,
    "start_time": "2022-09-09T02:32:57.506Z"
   },
   {
    "duration": 19,
    "start_time": "2022-09-09T02:32:57.527Z"
   },
   {
    "duration": 25,
    "start_time": "2022-09-09T02:32:57.548Z"
   },
   {
    "duration": 11,
    "start_time": "2022-09-09T02:32:57.575Z"
   },
   {
    "duration": 8,
    "start_time": "2022-09-09T02:32:57.589Z"
   },
   {
    "duration": 29,
    "start_time": "2022-09-09T02:32:57.598Z"
   },
   {
    "duration": 70,
    "start_time": "2022-09-09T02:32:57.629Z"
   },
   {
    "duration": 107,
    "start_time": "2022-09-09T02:32:57.701Z"
   },
   {
    "duration": 111,
    "start_time": "2022-09-09T02:32:57.810Z"
   },
   {
    "duration": 428,
    "start_time": "2022-09-09T02:32:57.924Z"
   },
   {
    "duration": 5,
    "start_time": "2022-09-09T02:32:58.354Z"
   },
   {
    "duration": 7,
    "start_time": "2022-09-09T02:32:58.361Z"
   },
   {
    "duration": 232,
    "start_time": "2022-09-09T02:32:58.370Z"
   },
   {
    "duration": 248,
    "start_time": "2022-09-09T02:32:58.604Z"
   },
   {
    "duration": 221,
    "start_time": "2022-09-09T02:32:58.853Z"
   },
   {
    "duration": 5,
    "start_time": "2022-09-09T02:32:59.076Z"
   },
   {
    "duration": 100,
    "start_time": "2022-09-09T02:32:59.092Z"
   },
   {
    "duration": 103,
    "start_time": "2022-09-09T02:32:59.194Z"
   },
   {
    "duration": 246,
    "start_time": "2022-09-09T02:32:59.298Z"
   },
   {
    "duration": 121,
    "start_time": "2022-09-09T02:33:27.230Z"
   },
   {
    "duration": 16,
    "start_time": "2022-09-09T02:33:36.704Z"
   },
   {
    "duration": 1791,
    "start_time": "2022-09-09T02:35:07.066Z"
   },
   {
    "duration": 58,
    "start_time": "2022-09-09T02:35:08.859Z"
   },
   {
    "duration": 14,
    "start_time": "2022-09-09T02:35:08.918Z"
   },
   {
    "duration": 4,
    "start_time": "2022-09-09T02:35:08.934Z"
   },
   {
    "duration": 9,
    "start_time": "2022-09-09T02:35:08.940Z"
   },
   {
    "duration": 14,
    "start_time": "2022-09-09T02:35:08.951Z"
   },
   {
    "duration": 396,
    "start_time": "2022-09-09T02:35:08.966Z"
   },
   {
    "duration": 13,
    "start_time": "2022-09-09T02:35:09.364Z"
   },
   {
    "duration": 14,
    "start_time": "2022-09-09T02:35:09.379Z"
   },
   {
    "duration": 33,
    "start_time": "2022-09-09T02:35:09.396Z"
   },
   {
    "duration": 333,
    "start_time": "2022-09-09T02:35:09.431Z"
   },
   {
    "duration": 264,
    "start_time": "2022-09-09T02:35:09.765Z"
   },
   {
    "duration": 388,
    "start_time": "2022-09-09T02:35:10.031Z"
   },
   {
    "duration": 8,
    "start_time": "2022-09-09T02:35:10.422Z"
   },
   {
    "duration": 263,
    "start_time": "2022-09-09T02:35:10.432Z"
   },
   {
    "duration": 6,
    "start_time": "2022-09-09T02:35:10.697Z"
   },
   {
    "duration": 11,
    "start_time": "2022-09-09T02:35:10.705Z"
   },
   {
    "duration": 9,
    "start_time": "2022-09-09T02:35:10.718Z"
   },
   {
    "duration": 15,
    "start_time": "2022-09-09T02:35:10.728Z"
   },
   {
    "duration": 9,
    "start_time": "2022-09-09T02:35:10.744Z"
   },
   {
    "duration": 24,
    "start_time": "2022-09-09T02:35:10.754Z"
   },
   {
    "duration": 14,
    "start_time": "2022-09-09T02:35:10.792Z"
   },
   {
    "duration": 24,
    "start_time": "2022-09-09T02:35:10.809Z"
   },
   {
    "duration": 19,
    "start_time": "2022-09-09T02:35:10.835Z"
   },
   {
    "duration": 5,
    "start_time": "2022-09-09T02:35:10.856Z"
   },
   {
    "duration": 41,
    "start_time": "2022-09-09T02:35:10.863Z"
   },
   {
    "duration": 7,
    "start_time": "2022-09-09T02:35:10.907Z"
   },
   {
    "duration": 13,
    "start_time": "2022-09-09T02:35:10.919Z"
   },
   {
    "duration": 24,
    "start_time": "2022-09-09T02:35:10.933Z"
   },
   {
    "duration": 36,
    "start_time": "2022-09-09T02:35:10.958Z"
   },
   {
    "duration": 115,
    "start_time": "2022-09-09T02:35:10.996Z"
   },
   {
    "duration": 154,
    "start_time": "2022-09-09T02:35:11.113Z"
   },
   {
    "duration": 420,
    "start_time": "2022-09-09T02:35:11.269Z"
   },
   {
    "duration": 4,
    "start_time": "2022-09-09T02:35:11.691Z"
   },
   {
    "duration": 10,
    "start_time": "2022-09-09T02:35:11.697Z"
   },
   {
    "duration": 284,
    "start_time": "2022-09-09T02:35:11.709Z"
   },
   {
    "duration": 268,
    "start_time": "2022-09-09T02:35:11.995Z"
   },
   {
    "duration": 222,
    "start_time": "2022-09-09T02:35:12.265Z"
   },
   {
    "duration": 4,
    "start_time": "2022-09-09T02:35:12.492Z"
   },
   {
    "duration": 466,
    "start_time": "2022-09-09T02:35:12.498Z"
   },
   {
    "duration": 2,
    "start_time": "2022-09-09T02:35:12.972Z"
   },
   {
    "duration": 242,
    "start_time": "2022-09-09T02:35:12.976Z"
   },
   {
    "duration": 19,
    "start_time": "2022-09-09T02:35:50.803Z"
   },
   {
    "duration": 126,
    "start_time": "2022-09-09T02:38:19.265Z"
   },
   {
    "duration": 16,
    "start_time": "2022-09-09T02:38:22.388Z"
   },
   {
    "duration": 41,
    "start_time": "2022-09-09T02:39:38.819Z"
   },
   {
    "duration": 4,
    "start_time": "2022-09-09T02:40:05.474Z"
   },
   {
    "duration": 47,
    "start_time": "2022-09-09T02:40:05.913Z"
   },
   {
    "duration": 21,
    "start_time": "2022-09-09T02:40:27.471Z"
   },
   {
    "duration": 21,
    "start_time": "2022-09-09T02:40:30.832Z"
   },
   {
    "duration": 31,
    "start_time": "2022-09-09T02:40:34.395Z"
   },
   {
    "duration": 15,
    "start_time": "2022-09-09T02:40:38.381Z"
   },
   {
    "duration": 17,
    "start_time": "2022-09-09T02:40:41.420Z"
   },
   {
    "duration": 23,
    "start_time": "2022-09-09T02:40:54.321Z"
   },
   {
    "duration": 26,
    "start_time": "2022-09-09T02:41:08.962Z"
   },
   {
    "duration": 25,
    "start_time": "2022-09-09T02:41:17.008Z"
   },
   {
    "duration": 15,
    "start_time": "2022-09-09T02:41:26.028Z"
   },
   {
    "duration": 18,
    "start_time": "2022-09-09T02:41:45.490Z"
   },
   {
    "duration": 4,
    "start_time": "2022-09-09T02:42:11.533Z"
   },
   {
    "duration": 474,
    "start_time": "2022-09-09T02:42:16.072Z"
   },
   {
    "duration": 441,
    "start_time": "2022-09-09T02:42:24.173Z"
   },
   {
    "duration": 443,
    "start_time": "2022-09-09T02:42:30.670Z"
   },
   {
    "duration": 128,
    "start_time": "2022-09-09T02:42:45.104Z"
   },
   {
    "duration": 85,
    "start_time": "2022-09-09T02:42:57.567Z"
   },
   {
    "duration": 29,
    "start_time": "2022-09-09T02:43:04.132Z"
   },
   {
    "duration": 42,
    "start_time": "2022-09-09T02:43:14.022Z"
   },
   {
    "duration": 26,
    "start_time": "2022-09-09T02:49:39.482Z"
   },
   {
    "duration": 127,
    "start_time": "2022-09-09T02:50:05.144Z"
   },
   {
    "duration": 12,
    "start_time": "2022-09-09T02:50:16.788Z"
   },
   {
    "duration": 3,
    "start_time": "2022-09-09T02:50:17.256Z"
   },
   {
    "duration": 1575,
    "start_time": "2022-09-09T02:50:24.230Z"
   },
   {
    "duration": 58,
    "start_time": "2022-09-09T02:50:25.807Z"
   },
   {
    "duration": 14,
    "start_time": "2022-09-09T02:50:25.867Z"
   },
   {
    "duration": 24,
    "start_time": "2022-09-09T02:50:25.883Z"
   },
   {
    "duration": 26,
    "start_time": "2022-09-09T02:50:25.908Z"
   },
   {
    "duration": 32,
    "start_time": "2022-09-09T02:50:25.936Z"
   },
   {
    "duration": 385,
    "start_time": "2022-09-09T02:50:25.971Z"
   },
   {
    "duration": 12,
    "start_time": "2022-09-09T02:50:26.358Z"
   },
   {
    "duration": 7,
    "start_time": "2022-09-09T02:50:26.371Z"
   },
   {
    "duration": 23,
    "start_time": "2022-09-09T02:50:26.391Z"
   },
   {
    "duration": 332,
    "start_time": "2022-09-09T02:50:26.416Z"
   },
   {
    "duration": 288,
    "start_time": "2022-09-09T02:50:26.749Z"
   },
   {
    "duration": 379,
    "start_time": "2022-09-09T02:50:27.039Z"
   },
   {
    "duration": 7,
    "start_time": "2022-09-09T02:50:27.420Z"
   },
   {
    "duration": 257,
    "start_time": "2022-09-09T02:50:27.429Z"
   },
   {
    "duration": 6,
    "start_time": "2022-09-09T02:50:27.688Z"
   },
   {
    "duration": 12,
    "start_time": "2022-09-09T02:50:27.696Z"
   },
   {
    "duration": 11,
    "start_time": "2022-09-09T02:50:27.710Z"
   },
   {
    "duration": 15,
    "start_time": "2022-09-09T02:50:27.723Z"
   },
   {
    "duration": 8,
    "start_time": "2022-09-09T02:50:27.740Z"
   },
   {
    "duration": 20,
    "start_time": "2022-09-09T02:50:27.750Z"
   },
   {
    "duration": 30,
    "start_time": "2022-09-09T02:50:27.772Z"
   },
   {
    "duration": 24,
    "start_time": "2022-09-09T02:50:27.804Z"
   },
   {
    "duration": 20,
    "start_time": "2022-09-09T02:50:27.829Z"
   },
   {
    "duration": 6,
    "start_time": "2022-09-09T02:50:27.851Z"
   },
   {
    "duration": 42,
    "start_time": "2022-09-09T02:50:27.859Z"
   },
   {
    "duration": 18,
    "start_time": "2022-09-09T02:50:27.903Z"
   },
   {
    "duration": 31,
    "start_time": "2022-09-09T02:50:27.925Z"
   },
   {
    "duration": 35,
    "start_time": "2022-09-09T02:50:27.958Z"
   },
   {
    "duration": 15,
    "start_time": "2022-09-09T02:50:27.995Z"
   },
   {
    "duration": 181,
    "start_time": "2022-09-09T02:50:28.012Z"
   },
   {
    "duration": 18,
    "start_time": "2022-09-09T02:50:28.195Z"
   },
   {
    "duration": 77,
    "start_time": "2022-09-09T02:50:28.215Z"
   },
   {
    "duration": 105,
    "start_time": "2022-09-09T02:50:28.294Z"
   },
   {
    "duration": 427,
    "start_time": "2022-09-09T02:50:28.401Z"
   },
   {
    "duration": 6,
    "start_time": "2022-09-09T02:50:28.829Z"
   },
   {
    "duration": 10,
    "start_time": "2022-09-09T02:50:28.836Z"
   },
   {
    "duration": 245,
    "start_time": "2022-09-09T02:50:28.848Z"
   },
   {
    "duration": 259,
    "start_time": "2022-09-09T02:50:29.095Z"
   },
   {
    "duration": 245,
    "start_time": "2022-09-09T02:50:29.355Z"
   },
   {
    "duration": 5,
    "start_time": "2022-09-09T02:50:29.602Z"
   },
   {
    "duration": 57,
    "start_time": "2022-09-09T02:50:29.608Z"
   },
   {
    "duration": 249,
    "start_time": "2022-09-09T02:50:29.667Z"
   },
   {
    "duration": 16,
    "start_time": "2022-09-09T02:50:48.182Z"
   },
   {
    "duration": 1584,
    "start_time": "2022-09-09T20:27:43.233Z"
   },
   {
    "duration": 363,
    "start_time": "2022-09-09T20:27:44.819Z"
   },
   {
    "duration": 15,
    "start_time": "2022-09-09T20:27:45.183Z"
   },
   {
    "duration": 4,
    "start_time": "2022-09-09T20:27:45.200Z"
   },
   {
    "duration": 7,
    "start_time": "2022-09-09T20:27:45.205Z"
   },
   {
    "duration": 12,
    "start_time": "2022-09-09T20:27:45.214Z"
   },
   {
    "duration": 340,
    "start_time": "2022-09-09T20:27:45.228Z"
   },
   {
    "duration": 12,
    "start_time": "2022-09-09T20:27:45.570Z"
   },
   {
    "duration": 2,
    "start_time": "2022-09-09T20:27:45.584Z"
   },
   {
    "duration": 21,
    "start_time": "2022-09-09T20:27:45.589Z"
   },
   {
    "duration": 315,
    "start_time": "2022-09-09T20:27:45.612Z"
   },
   {
    "duration": 240,
    "start_time": "2022-09-09T20:27:45.929Z"
   },
   {
    "duration": 396,
    "start_time": "2022-09-09T20:27:46.172Z"
   },
   {
    "duration": 6,
    "start_time": "2022-09-09T20:27:46.572Z"
   },
   {
    "duration": 234,
    "start_time": "2022-09-09T20:27:46.579Z"
   },
   {
    "duration": 5,
    "start_time": "2022-09-09T20:27:46.815Z"
   },
   {
    "duration": 10,
    "start_time": "2022-09-09T20:27:46.822Z"
   },
   {
    "duration": 9,
    "start_time": "2022-09-09T20:27:46.834Z"
   },
   {
    "duration": 26,
    "start_time": "2022-09-09T20:27:46.845Z"
   },
   {
    "duration": 7,
    "start_time": "2022-09-09T20:27:46.872Z"
   },
   {
    "duration": 21,
    "start_time": "2022-09-09T20:27:46.881Z"
   },
   {
    "duration": 16,
    "start_time": "2022-09-09T20:27:46.903Z"
   },
   {
    "duration": 20,
    "start_time": "2022-09-09T20:27:46.920Z"
   },
   {
    "duration": 30,
    "start_time": "2022-09-09T20:27:46.942Z"
   },
   {
    "duration": 5,
    "start_time": "2022-09-09T20:27:46.975Z"
   },
   {
    "duration": 12,
    "start_time": "2022-09-09T20:27:46.982Z"
   },
   {
    "duration": 7,
    "start_time": "2022-09-09T20:27:46.995Z"
   },
   {
    "duration": 4,
    "start_time": "2022-09-09T20:27:47.004Z"
   },
   {
    "duration": 18,
    "start_time": "2022-09-09T20:27:47.010Z"
   },
   {
    "duration": 26,
    "start_time": "2022-09-09T20:27:47.030Z"
   },
   {
    "duration": 20,
    "start_time": "2022-09-09T20:27:47.059Z"
   },
   {
    "duration": 203,
    "start_time": "2022-09-09T20:27:47.081Z"
   },
   {
    "duration": 24,
    "start_time": "2022-09-09T20:27:47.286Z"
   },
   {
    "duration": 97,
    "start_time": "2022-09-09T20:27:47.312Z"
   },
   {
    "duration": 417,
    "start_time": "2022-09-09T20:27:47.410Z"
   },
   {
    "duration": 4,
    "start_time": "2022-09-09T20:27:47.829Z"
   },
   {
    "duration": 7,
    "start_time": "2022-09-09T20:27:47.835Z"
   },
   {
    "duration": 190,
    "start_time": "2022-09-09T20:27:47.856Z"
   },
   {
    "duration": 225,
    "start_time": "2022-09-09T20:27:48.047Z"
   },
   {
    "duration": 188,
    "start_time": "2022-09-09T20:27:48.274Z"
   },
   {
    "duration": 7,
    "start_time": "2022-09-09T20:27:48.463Z"
   },
   {
    "duration": 183,
    "start_time": "2022-09-09T20:27:48.472Z"
   },
   {
    "duration": 213,
    "start_time": "2022-09-09T20:27:48.657Z"
   },
   {
    "duration": 1455,
    "start_time": "2022-09-09T20:32:46.594Z"
   },
   {
    "duration": 57,
    "start_time": "2022-09-09T20:32:48.051Z"
   },
   {
    "duration": 12,
    "start_time": "2022-09-09T20:32:48.110Z"
   },
   {
    "duration": 3,
    "start_time": "2022-09-09T20:32:48.123Z"
   },
   {
    "duration": 9,
    "start_time": "2022-09-09T20:32:48.128Z"
   },
   {
    "duration": 10,
    "start_time": "2022-09-09T20:32:48.138Z"
   },
   {
    "duration": 321,
    "start_time": "2022-09-09T20:32:48.150Z"
   },
   {
    "duration": 10,
    "start_time": "2022-09-09T20:32:48.473Z"
   },
   {
    "duration": 2,
    "start_time": "2022-09-09T20:32:48.485Z"
   },
   {
    "duration": 20,
    "start_time": "2022-09-09T20:32:48.490Z"
   },
   {
    "duration": 300,
    "start_time": "2022-09-09T20:32:48.511Z"
   },
   {
    "duration": 233,
    "start_time": "2022-09-09T20:32:48.813Z"
   },
   {
    "duration": 422,
    "start_time": "2022-09-09T20:32:49.054Z"
   },
   {
    "duration": 6,
    "start_time": "2022-09-09T20:32:49.478Z"
   },
   {
    "duration": 237,
    "start_time": "2022-09-09T20:32:49.486Z"
   },
   {
    "duration": 5,
    "start_time": "2022-09-09T20:32:49.725Z"
   },
   {
    "duration": 9,
    "start_time": "2022-09-09T20:32:49.732Z"
   },
   {
    "duration": 7,
    "start_time": "2022-09-09T20:32:49.742Z"
   },
   {
    "duration": 29,
    "start_time": "2022-09-09T20:32:49.750Z"
   },
   {
    "duration": 5,
    "start_time": "2022-09-09T20:32:49.781Z"
   },
   {
    "duration": 18,
    "start_time": "2022-09-09T20:32:49.787Z"
   },
   {
    "duration": 13,
    "start_time": "2022-09-09T20:32:49.807Z"
   },
   {
    "duration": 20,
    "start_time": "2022-09-09T20:32:49.821Z"
   },
   {
    "duration": 34,
    "start_time": "2022-09-09T20:32:49.843Z"
   },
   {
    "duration": 5,
    "start_time": "2022-09-09T20:32:49.878Z"
   },
   {
    "duration": 10,
    "start_time": "2022-09-09T20:32:49.885Z"
   },
   {
    "duration": 9,
    "start_time": "2022-09-09T20:32:49.897Z"
   },
   {
    "duration": 7,
    "start_time": "2022-09-09T20:32:49.910Z"
   },
   {
    "duration": 41,
    "start_time": "2022-09-09T20:32:49.919Z"
   },
   {
    "duration": 12,
    "start_time": "2022-09-09T20:32:49.965Z"
   },
   {
    "duration": 183,
    "start_time": "2022-09-09T20:32:49.979Z"
   },
   {
    "duration": 20,
    "start_time": "2022-09-09T20:32:50.163Z"
   },
   {
    "duration": 20,
    "start_time": "2022-09-09T20:32:50.185Z"
   },
   {
    "duration": 101,
    "start_time": "2022-09-09T20:32:50.206Z"
   },
   {
    "duration": 384,
    "start_time": "2022-09-09T20:32:50.308Z"
   },
   {
    "duration": 4,
    "start_time": "2022-09-09T20:32:50.694Z"
   },
   {
    "duration": 9,
    "start_time": "2022-09-09T20:32:50.699Z"
   },
   {
    "duration": 207,
    "start_time": "2022-09-09T20:32:50.709Z"
   },
   {
    "duration": 254,
    "start_time": "2022-09-09T20:32:50.918Z"
   },
   {
    "duration": 221,
    "start_time": "2022-09-09T20:32:51.173Z"
   },
   {
    "duration": 4,
    "start_time": "2022-09-09T20:32:51.397Z"
   },
   {
    "duration": 68,
    "start_time": "2022-09-09T20:32:51.403Z"
   },
   {
    "duration": 311,
    "start_time": "2022-09-09T20:32:51.473Z"
   },
   {
    "duration": 14,
    "start_time": "2022-09-09T20:37:16.370Z"
   },
   {
    "duration": 9,
    "start_time": "2022-09-09T20:37:31.621Z"
   },
   {
    "duration": 19,
    "start_time": "2022-09-09T20:37:32.406Z"
   },
   {
    "duration": 15,
    "start_time": "2022-09-09T20:37:33.067Z"
   },
   {
    "duration": 21,
    "start_time": "2022-09-09T20:37:34.038Z"
   },
   {
    "duration": 79,
    "start_time": "2022-09-09T20:37:34.573Z"
   },
   {
    "duration": 389,
    "start_time": "2022-09-09T20:37:35.166Z"
   },
   {
    "duration": 6,
    "start_time": "2022-09-09T20:37:37.307Z"
   },
   {
    "duration": 7,
    "start_time": "2022-09-09T20:37:37.925Z"
   },
   {
    "duration": 13,
    "start_time": "2022-09-09T20:37:50.360Z"
   },
   {
    "duration": 22,
    "start_time": "2022-09-09T20:38:40.752Z"
   },
   {
    "duration": 9,
    "start_time": "2022-09-09T20:39:08.638Z"
   },
   {
    "duration": 2,
    "start_time": "2022-09-09T20:39:18.421Z"
   },
   {
    "duration": 276,
    "start_time": "2022-09-09T20:39:32.129Z"
   },
   {
    "duration": 5381,
    "start_time": "2022-09-09T20:40:05.866Z"
   },
   {
    "duration": 6,
    "start_time": "2022-09-09T20:41:31.844Z"
   },
   {
    "duration": 10,
    "start_time": "2022-09-09T20:51:57.549Z"
   },
   {
    "duration": 3,
    "start_time": "2022-09-09T20:51:58.245Z"
   },
   {
    "duration": 27,
    "start_time": "2022-09-09T20:52:00.238Z"
   },
   {
    "duration": 11,
    "start_time": "2022-09-09T20:52:21.506Z"
   },
   {
    "duration": 4,
    "start_time": "2022-09-09T20:52:35.130Z"
   },
   {
    "duration": 4,
    "start_time": "2022-09-09T20:53:11.920Z"
   },
   {
    "duration": 3,
    "start_time": "2022-09-09T20:53:27.998Z"
   },
   {
    "duration": 4,
    "start_time": "2022-09-09T20:53:48.979Z"
   },
   {
    "duration": 122,
    "start_time": "2022-09-09T20:54:10.473Z"
   },
   {
    "duration": 4,
    "start_time": "2022-09-09T20:54:44.780Z"
   },
   {
    "duration": 4,
    "start_time": "2022-09-09T20:54:58.801Z"
   },
   {
    "duration": 1622,
    "start_time": "2022-09-10T23:30:49.694Z"
   },
   {
    "duration": 120,
    "start_time": "2022-09-10T23:30:51.318Z"
   },
   {
    "duration": 14,
    "start_time": "2022-09-10T23:30:51.439Z"
   },
   {
    "duration": 3,
    "start_time": "2022-09-10T23:30:51.455Z"
   },
   {
    "duration": 12,
    "start_time": "2022-09-10T23:30:51.459Z"
   },
   {
    "duration": 18,
    "start_time": "2022-09-10T23:30:51.472Z"
   },
   {
    "duration": 330,
    "start_time": "2022-09-10T23:30:51.492Z"
   },
   {
    "duration": 11,
    "start_time": "2022-09-10T23:30:51.824Z"
   },
   {
    "duration": 13,
    "start_time": "2022-09-10T23:30:51.836Z"
   },
   {
    "duration": 25,
    "start_time": "2022-09-10T23:30:51.852Z"
   },
   {
    "duration": 309,
    "start_time": "2022-09-10T23:30:51.878Z"
   },
   {
    "duration": 240,
    "start_time": "2022-09-10T23:30:52.190Z"
   },
   {
    "duration": 426,
    "start_time": "2022-09-10T23:30:52.432Z"
   },
   {
    "duration": 7,
    "start_time": "2022-09-10T23:30:52.859Z"
   },
   {
    "duration": 234,
    "start_time": "2022-09-10T23:30:52.867Z"
   },
   {
    "duration": 6,
    "start_time": "2022-09-10T23:30:53.103Z"
   },
   {
    "duration": 10,
    "start_time": "2022-09-10T23:30:53.111Z"
   },
   {
    "duration": 7,
    "start_time": "2022-09-10T23:30:53.123Z"
   },
   {
    "duration": 16,
    "start_time": "2022-09-10T23:30:53.131Z"
   },
   {
    "duration": 8,
    "start_time": "2022-09-10T23:30:53.148Z"
   },
   {
    "duration": 18,
    "start_time": "2022-09-10T23:30:53.158Z"
   },
   {
    "duration": 15,
    "start_time": "2022-09-10T23:30:53.177Z"
   },
   {
    "duration": 29,
    "start_time": "2022-09-10T23:30:53.193Z"
   },
   {
    "duration": 18,
    "start_time": "2022-09-10T23:30:53.223Z"
   },
   {
    "duration": 5,
    "start_time": "2022-09-10T23:30:53.242Z"
   },
   {
    "duration": 13,
    "start_time": "2022-09-10T23:30:53.249Z"
   },
   {
    "duration": 11,
    "start_time": "2022-09-10T23:30:53.264Z"
   },
   {
    "duration": 5,
    "start_time": "2022-09-10T23:30:53.278Z"
   },
   {
    "duration": 27,
    "start_time": "2022-09-10T23:30:53.285Z"
   },
   {
    "duration": 25,
    "start_time": "2022-09-10T23:30:53.314Z"
   },
   {
    "duration": 12,
    "start_time": "2022-09-10T23:30:53.341Z"
   },
   {
    "duration": 6,
    "start_time": "2022-09-10T23:30:53.355Z"
   },
   {
    "duration": 112,
    "start_time": "2022-09-10T23:30:53.363Z"
   },
   {
    "duration": 0,
    "start_time": "2022-09-10T23:30:53.477Z"
   },
   {
    "duration": 0,
    "start_time": "2022-09-10T23:30:53.478Z"
   },
   {
    "duration": 0,
    "start_time": "2022-09-10T23:30:53.480Z"
   },
   {
    "duration": 0,
    "start_time": "2022-09-10T23:30:53.481Z"
   },
   {
    "duration": 0,
    "start_time": "2022-09-10T23:30:53.483Z"
   },
   {
    "duration": 0,
    "start_time": "2022-09-10T23:30:53.484Z"
   },
   {
    "duration": 0,
    "start_time": "2022-09-10T23:30:53.486Z"
   },
   {
    "duration": 0,
    "start_time": "2022-09-10T23:30:53.487Z"
   },
   {
    "duration": 0,
    "start_time": "2022-09-10T23:30:53.488Z"
   },
   {
    "duration": 0,
    "start_time": "2022-09-10T23:30:53.490Z"
   },
   {
    "duration": 0,
    "start_time": "2022-09-10T23:30:53.491Z"
   },
   {
    "duration": 0,
    "start_time": "2022-09-10T23:30:53.492Z"
   },
   {
    "duration": 0,
    "start_time": "2022-09-10T23:30:53.494Z"
   },
   {
    "duration": 10,
    "start_time": "2022-09-10T23:32:11.549Z"
   },
   {
    "duration": 11,
    "start_time": "2022-09-10T23:35:17.695Z"
   },
   {
    "duration": 612,
    "start_time": "2022-09-10T23:38:00.231Z"
   },
   {
    "duration": 13,
    "start_time": "2022-09-10T23:38:14.163Z"
   },
   {
    "duration": 14,
    "start_time": "2022-09-10T23:38:29.438Z"
   },
   {
    "duration": 35,
    "start_time": "2022-09-10T23:39:48.772Z"
   },
   {
    "duration": 98,
    "start_time": "2022-09-10T23:39:55.825Z"
   },
   {
    "duration": 20,
    "start_time": "2022-09-10T23:40:04.762Z"
   },
   {
    "duration": 22,
    "start_time": "2022-09-10T23:40:08.584Z"
   },
   {
    "duration": 20,
    "start_time": "2022-09-10T23:40:29.303Z"
   },
   {
    "duration": 46,
    "start_time": "2022-09-10T23:41:27.661Z"
   },
   {
    "duration": 20,
    "start_time": "2022-09-10T23:41:34.529Z"
   },
   {
    "duration": 25,
    "start_time": "2022-09-10T23:42:37.493Z"
   },
   {
    "duration": 25,
    "start_time": "2022-09-10T23:43:19.881Z"
   },
   {
    "duration": 40,
    "start_time": "2022-09-10T23:43:54.763Z"
   },
   {
    "duration": 39,
    "start_time": "2022-09-10T23:44:00.354Z"
   },
   {
    "duration": 212,
    "start_time": "2022-09-10T23:44:53.247Z"
   },
   {
    "duration": 894,
    "start_time": "2022-09-10T23:45:38.989Z"
   },
   {
    "duration": 3,
    "start_time": "2022-09-10T23:46:03.292Z"
   },
   {
    "duration": 30,
    "start_time": "2022-09-10T23:46:16.492Z"
   },
   {
    "duration": 6,
    "start_time": "2022-09-10T23:47:49.198Z"
   },
   {
    "duration": 10,
    "start_time": "2022-09-10T23:48:12.694Z"
   },
   {
    "duration": 7,
    "start_time": "2022-09-10T23:48:21.259Z"
   },
   {
    "duration": 859,
    "start_time": "2022-09-10T23:48:33.922Z"
   },
   {
    "duration": 350,
    "start_time": "2022-09-10T23:49:29.038Z"
   },
   {
    "duration": 347,
    "start_time": "2022-09-10T23:49:36.698Z"
   },
   {
    "duration": 4283,
    "start_time": "2022-09-10T23:50:40.278Z"
   },
   {
    "duration": 24,
    "start_time": "2022-09-10T23:51:27.286Z"
   },
   {
    "duration": 4328,
    "start_time": "2022-09-10T23:51:34.277Z"
   },
   {
    "duration": 4290,
    "start_time": "2022-09-10T23:51:47.052Z"
   },
   {
    "duration": 71,
    "start_time": "2022-09-10T23:52:30.108Z"
   },
   {
    "duration": 76,
    "start_time": "2022-09-10T23:52:44.030Z"
   },
   {
    "duration": 61,
    "start_time": "2022-09-10T23:52:47.321Z"
   },
   {
    "duration": 83,
    "start_time": "2022-09-10T23:52:55.666Z"
   },
   {
    "duration": 65,
    "start_time": "2022-09-10T23:52:57.374Z"
   },
   {
    "duration": 26,
    "start_time": "2022-09-10T23:53:12.410Z"
   },
   {
    "duration": 14,
    "start_time": "2022-09-10T23:53:13.358Z"
   },
   {
    "duration": 76,
    "start_time": "2022-09-10T23:53:13.854Z"
   },
   {
    "duration": 59,
    "start_time": "2022-09-10T23:53:14.346Z"
   },
   {
    "duration": 77,
    "start_time": "2022-09-11T00:00:21.276Z"
   },
   {
    "duration": 61,
    "start_time": "2022-09-11T00:00:27.890Z"
   },
   {
    "duration": 217,
    "start_time": "2022-09-11T00:01:10.696Z"
   },
   {
    "duration": 8,
    "start_time": "2022-09-11T00:02:18.321Z"
   },
   {
    "duration": 165564,
    "start_time": "2022-09-11T00:03:48.507Z"
   },
   {
    "duration": 10,
    "start_time": "2022-09-11T00:07:07.931Z"
   },
   {
    "duration": 4,
    "start_time": "2022-09-11T00:12:30.709Z"
   },
   {
    "duration": 1761,
    "start_time": "2022-09-11T00:14:08.816Z"
   },
   {
    "duration": 3,
    "start_time": "2022-09-11T00:14:53.284Z"
   },
   {
    "duration": 5352,
    "start_time": "2022-09-11T00:14:56.044Z"
   },
   {
    "duration": 5328,
    "start_time": "2022-09-11T00:16:20.054Z"
   },
   {
    "duration": 4270,
    "start_time": "2022-09-11T00:16:42.307Z"
   },
   {
    "duration": 165594,
    "start_time": "2022-09-11T00:16:47.664Z"
   },
   {
    "duration": 1719,
    "start_time": "2022-09-11T00:19:33.260Z"
   },
   {
    "duration": 8,
    "start_time": "2022-09-11T00:19:34.981Z"
   },
   {
    "duration": 56,
    "start_time": "2022-09-11T00:19:34.991Z"
   },
   {
    "duration": 59891,
    "start_time": "2022-09-11T00:19:58.340Z"
   },
   {
    "duration": 155040,
    "start_time": "2022-09-11T00:21:20.494Z"
   },
   {
    "duration": 698,
    "start_time": "2022-09-11T00:24:39.931Z"
   },
   {
    "duration": 4,
    "start_time": "2022-09-11T00:25:20.732Z"
   },
   {
    "duration": 7,
    "start_time": "2022-09-11T00:26:25.826Z"
   },
   {
    "duration": 990,
    "start_time": "2022-09-11T00:30:33.974Z"
   },
   {
    "duration": 840,
    "start_time": "2022-09-11T00:31:00.401Z"
   },
   {
    "duration": 16,
    "start_time": "2022-09-11T00:31:16.941Z"
   },
   {
    "duration": 15,
    "start_time": "2022-09-11T00:31:27.900Z"
   },
   {
    "duration": 15,
    "start_time": "2022-09-11T00:31:37.581Z"
   },
   {
    "duration": 21,
    "start_time": "2022-09-11T00:31:45.808Z"
   },
   {
    "duration": 16,
    "start_time": "2022-09-11T00:32:09.229Z"
   },
   {
    "duration": 21,
    "start_time": "2022-09-11T00:32:11.107Z"
   },
   {
    "duration": 17,
    "start_time": "2022-09-11T00:32:13.410Z"
   },
   {
    "duration": 6,
    "start_time": "2022-09-11T00:32:16.059Z"
   },
   {
    "duration": 5,
    "start_time": "2022-09-11T00:32:25.143Z"
   },
   {
    "duration": 6,
    "start_time": "2022-09-11T00:32:27.322Z"
   },
   {
    "duration": 3,
    "start_time": "2022-09-11T00:32:29.662Z"
   },
   {
    "duration": 20,
    "start_time": "2022-09-11T00:32:31.146Z"
   },
   {
    "duration": 8,
    "start_time": "2022-09-11T00:32:32.447Z"
   },
   {
    "duration": 3,
    "start_time": "2022-09-11T00:32:33.064Z"
   },
   {
    "duration": 3,
    "start_time": "2022-09-11T00:32:33.693Z"
   },
   {
    "duration": 10,
    "start_time": "2022-09-11T00:32:34.342Z"
   },
   {
    "duration": 15,
    "start_time": "2022-09-11T00:32:37.230Z"
   },
   {
    "duration": 81,
    "start_time": "2022-09-11T00:32:38.273Z"
   },
   {
    "duration": 244,
    "start_time": "2022-09-11T00:32:39.812Z"
   },
   {
    "duration": 8,
    "start_time": "2022-09-11T00:32:41.674Z"
   },
   {
    "duration": 4559,
    "start_time": "2022-09-11T00:32:43.312Z"
   },
   {
    "duration": 1351,
    "start_time": "2022-09-11T00:34:15.488Z"
   },
   {
    "duration": 51,
    "start_time": "2022-09-11T00:34:16.841Z"
   },
   {
    "duration": 13,
    "start_time": "2022-09-11T00:34:16.893Z"
   },
   {
    "duration": 4,
    "start_time": "2022-09-11T00:34:16.907Z"
   },
   {
    "duration": 6,
    "start_time": "2022-09-11T00:34:16.912Z"
   },
   {
    "duration": 10,
    "start_time": "2022-09-11T00:34:16.920Z"
   },
   {
    "duration": 335,
    "start_time": "2022-09-11T00:34:16.931Z"
   },
   {
    "duration": 11,
    "start_time": "2022-09-11T00:34:17.267Z"
   },
   {
    "duration": 2,
    "start_time": "2022-09-11T00:34:17.279Z"
   },
   {
    "duration": 19,
    "start_time": "2022-09-11T00:34:17.284Z"
   },
   {
    "duration": 285,
    "start_time": "2022-09-11T00:34:17.304Z"
   },
   {
    "duration": 215,
    "start_time": "2022-09-11T00:34:17.590Z"
   },
   {
    "duration": 318,
    "start_time": "2022-09-11T00:34:17.806Z"
   },
   {
    "duration": 6,
    "start_time": "2022-09-11T00:34:18.126Z"
   },
   {
    "duration": 199,
    "start_time": "2022-09-11T00:34:18.133Z"
   },
   {
    "duration": 6,
    "start_time": "2022-09-11T00:34:18.334Z"
   },
   {
    "duration": 8,
    "start_time": "2022-09-11T00:34:18.341Z"
   },
   {
    "duration": 7,
    "start_time": "2022-09-11T00:34:18.351Z"
   },
   {
    "duration": 10,
    "start_time": "2022-09-11T00:34:18.359Z"
   },
   {
    "duration": 9,
    "start_time": "2022-09-11T00:34:18.370Z"
   },
   {
    "duration": 17,
    "start_time": "2022-09-11T00:34:18.380Z"
   },
   {
    "duration": 11,
    "start_time": "2022-09-11T00:34:18.398Z"
   },
   {
    "duration": 21,
    "start_time": "2022-09-11T00:34:18.410Z"
   },
   {
    "duration": 10,
    "start_time": "2022-09-11T00:34:18.433Z"
   },
   {
    "duration": 7,
    "start_time": "2022-09-11T00:34:18.444Z"
   },
   {
    "duration": 14,
    "start_time": "2022-09-11T00:34:18.452Z"
   },
   {
    "duration": 12,
    "start_time": "2022-09-11T00:34:18.467Z"
   },
   {
    "duration": 6,
    "start_time": "2022-09-11T00:34:18.482Z"
   },
   {
    "duration": 15,
    "start_time": "2022-09-11T00:34:18.489Z"
   },
   {
    "duration": 170,
    "start_time": "2022-09-11T00:34:18.505Z"
   },
   {
    "duration": 0,
    "start_time": "2022-09-11T00:34:18.676Z"
   },
   {
    "duration": 0,
    "start_time": "2022-09-11T00:34:18.677Z"
   },
   {
    "duration": 0,
    "start_time": "2022-09-11T00:34:18.679Z"
   },
   {
    "duration": 0,
    "start_time": "2022-09-11T00:34:18.680Z"
   },
   {
    "duration": 0,
    "start_time": "2022-09-11T00:34:18.681Z"
   },
   {
    "duration": 0,
    "start_time": "2022-09-11T00:34:18.681Z"
   },
   {
    "duration": 0,
    "start_time": "2022-09-11T00:34:18.682Z"
   },
   {
    "duration": 0,
    "start_time": "2022-09-11T00:34:18.683Z"
   },
   {
    "duration": 0,
    "start_time": "2022-09-11T00:34:18.684Z"
   },
   {
    "duration": 0,
    "start_time": "2022-09-11T00:34:18.685Z"
   },
   {
    "duration": 0,
    "start_time": "2022-09-11T00:34:18.686Z"
   },
   {
    "duration": 0,
    "start_time": "2022-09-11T00:34:18.688Z"
   },
   {
    "duration": 0,
    "start_time": "2022-09-11T00:34:18.689Z"
   },
   {
    "duration": 0,
    "start_time": "2022-09-11T00:34:18.690Z"
   },
   {
    "duration": 0,
    "start_time": "2022-09-11T00:34:18.690Z"
   },
   {
    "duration": 0,
    "start_time": "2022-09-11T00:34:18.691Z"
   },
   {
    "duration": 0,
    "start_time": "2022-09-11T00:34:18.692Z"
   },
   {
    "duration": 0,
    "start_time": "2022-09-11T00:34:18.693Z"
   },
   {
    "duration": 0,
    "start_time": "2022-09-11T00:34:18.694Z"
   },
   {
    "duration": 0,
    "start_time": "2022-09-11T00:34:18.695Z"
   },
   {
    "duration": 0,
    "start_time": "2022-09-11T00:34:18.696Z"
   },
   {
    "duration": 1,
    "start_time": "2022-09-11T00:34:18.696Z"
   },
   {
    "duration": 73,
    "start_time": "2022-09-11T00:38:01.971Z"
   },
   {
    "duration": 5,
    "start_time": "2022-09-11T00:38:18.091Z"
   },
   {
    "duration": 11,
    "start_time": "2022-09-11T00:39:15.061Z"
   },
   {
    "duration": 758,
    "start_time": "2022-09-11T00:41:50.140Z"
   },
   {
    "duration": 19,
    "start_time": "2022-09-11T00:42:21.457Z"
   },
   {
    "duration": 11,
    "start_time": "2022-09-11T00:42:30.314Z"
   },
   {
    "duration": 10,
    "start_time": "2022-09-11T00:42:56.892Z"
   },
   {
    "duration": 11,
    "start_time": "2022-09-11T00:43:00.247Z"
   },
   {
    "duration": 13,
    "start_time": "2022-09-11T00:43:09.247Z"
   },
   {
    "duration": 9,
    "start_time": "2022-09-11T00:43:21.424Z"
   },
   {
    "duration": 1450,
    "start_time": "2022-09-11T00:43:28.294Z"
   },
   {
    "duration": 54,
    "start_time": "2022-09-11T00:43:29.746Z"
   },
   {
    "duration": 14,
    "start_time": "2022-09-11T00:43:29.801Z"
   },
   {
    "duration": 4,
    "start_time": "2022-09-11T00:43:29.817Z"
   },
   {
    "duration": 8,
    "start_time": "2022-09-11T00:43:29.823Z"
   },
   {
    "duration": 20,
    "start_time": "2022-09-11T00:43:29.832Z"
   },
   {
    "duration": 333,
    "start_time": "2022-09-11T00:43:29.854Z"
   },
   {
    "duration": 10,
    "start_time": "2022-09-11T00:43:30.189Z"
   },
   {
    "duration": 2,
    "start_time": "2022-09-11T00:43:30.201Z"
   },
   {
    "duration": 34,
    "start_time": "2022-09-11T00:43:30.205Z"
   },
   {
    "duration": 272,
    "start_time": "2022-09-11T00:43:30.240Z"
   },
   {
    "duration": 211,
    "start_time": "2022-09-11T00:43:30.514Z"
   },
   {
    "duration": 364,
    "start_time": "2022-09-11T00:43:30.727Z"
   },
   {
    "duration": 6,
    "start_time": "2022-09-11T00:43:31.092Z"
   },
   {
    "duration": 221,
    "start_time": "2022-09-11T00:43:31.100Z"
   },
   {
    "duration": 6,
    "start_time": "2022-09-11T00:43:31.322Z"
   },
   {
    "duration": 21,
    "start_time": "2022-09-11T00:43:31.329Z"
   },
   {
    "duration": 118,
    "start_time": "2022-09-11T00:43:31.352Z"
   },
   {
    "duration": 0,
    "start_time": "2022-09-11T00:43:31.473Z"
   },
   {
    "duration": 0,
    "start_time": "2022-09-11T00:43:31.474Z"
   },
   {
    "duration": 0,
    "start_time": "2022-09-11T00:43:31.476Z"
   },
   {
    "duration": 0,
    "start_time": "2022-09-11T00:43:31.477Z"
   },
   {
    "duration": 0,
    "start_time": "2022-09-11T00:43:31.478Z"
   },
   {
    "duration": 0,
    "start_time": "2022-09-11T00:43:31.480Z"
   },
   {
    "duration": 0,
    "start_time": "2022-09-11T00:43:31.482Z"
   },
   {
    "duration": 0,
    "start_time": "2022-09-11T00:43:31.483Z"
   },
   {
    "duration": 0,
    "start_time": "2022-09-11T00:43:31.484Z"
   },
   {
    "duration": 0,
    "start_time": "2022-09-11T00:43:31.485Z"
   },
   {
    "duration": 0,
    "start_time": "2022-09-11T00:43:31.487Z"
   },
   {
    "duration": 0,
    "start_time": "2022-09-11T00:43:31.488Z"
   },
   {
    "duration": 0,
    "start_time": "2022-09-11T00:43:31.489Z"
   },
   {
    "duration": 0,
    "start_time": "2022-09-11T00:43:31.490Z"
   },
   {
    "duration": 0,
    "start_time": "2022-09-11T00:43:31.523Z"
   },
   {
    "duration": 0,
    "start_time": "2022-09-11T00:43:31.524Z"
   },
   {
    "duration": 0,
    "start_time": "2022-09-11T00:43:31.525Z"
   },
   {
    "duration": 0,
    "start_time": "2022-09-11T00:43:31.526Z"
   },
   {
    "duration": 0,
    "start_time": "2022-09-11T00:43:31.528Z"
   },
   {
    "duration": 0,
    "start_time": "2022-09-11T00:43:31.529Z"
   },
   {
    "duration": 0,
    "start_time": "2022-09-11T00:43:31.531Z"
   },
   {
    "duration": 0,
    "start_time": "2022-09-11T00:43:31.531Z"
   },
   {
    "duration": 0,
    "start_time": "2022-09-11T00:43:31.533Z"
   },
   {
    "duration": 0,
    "start_time": "2022-09-11T00:43:31.534Z"
   },
   {
    "duration": 0,
    "start_time": "2022-09-11T00:43:31.535Z"
   },
   {
    "duration": 0,
    "start_time": "2022-09-11T00:43:31.536Z"
   },
   {
    "duration": 1,
    "start_time": "2022-09-11T00:43:31.536Z"
   },
   {
    "duration": 0,
    "start_time": "2022-09-11T00:43:31.537Z"
   },
   {
    "duration": 0,
    "start_time": "2022-09-11T00:43:31.538Z"
   },
   {
    "duration": 0,
    "start_time": "2022-09-11T00:43:31.539Z"
   },
   {
    "duration": 0,
    "start_time": "2022-09-11T00:43:31.540Z"
   },
   {
    "duration": 0,
    "start_time": "2022-09-11T00:43:31.541Z"
   },
   {
    "duration": 34,
    "start_time": "2022-09-11T00:47:52.053Z"
   },
   {
    "duration": 10,
    "start_time": "2022-09-11T00:48:19.939Z"
   },
   {
    "duration": 11,
    "start_time": "2022-09-11T00:48:31.917Z"
   },
   {
    "duration": 14,
    "start_time": "2022-09-11T00:48:56.463Z"
   },
   {
    "duration": 13,
    "start_time": "2022-09-11T00:48:59.208Z"
   },
   {
    "duration": 6,
    "start_time": "2022-09-11T00:49:10.281Z"
   },
   {
    "duration": 12,
    "start_time": "2022-09-11T00:49:12.161Z"
   },
   {
    "duration": 9,
    "start_time": "2022-09-11T00:49:38.185Z"
   },
   {
    "duration": 47,
    "start_time": "2022-09-11T00:50:03.430Z"
   },
   {
    "duration": 2,
    "start_time": "2022-09-11T00:54:42.347Z"
   },
   {
    "duration": 22,
    "start_time": "2022-09-11T00:54:46.303Z"
   },
   {
    "duration": 25,
    "start_time": "2022-09-11T00:54:50.577Z"
   },
   {
    "duration": 14,
    "start_time": "2022-09-11T00:55:04.721Z"
   },
   {
    "duration": 14,
    "start_time": "2022-09-11T00:56:01.929Z"
   },
   {
    "duration": 26,
    "start_time": "2022-09-11T00:56:06.383Z"
   },
   {
    "duration": 25,
    "start_time": "2022-09-11T01:20:11.929Z"
   },
   {
    "duration": 6,
    "start_time": "2022-09-11T01:20:34.540Z"
   },
   {
    "duration": 8,
    "start_time": "2022-09-11T01:20:44.411Z"
   },
   {
    "duration": 4,
    "start_time": "2022-09-11T01:20:44.902Z"
   },
   {
    "duration": 15,
    "start_time": "2022-09-11T01:20:46.704Z"
   },
   {
    "duration": 3,
    "start_time": "2022-09-11T01:22:10.731Z"
   },
   {
    "duration": 22,
    "start_time": "2022-09-11T01:22:13.575Z"
   },
   {
    "duration": 1415,
    "start_time": "2022-09-11T01:22:36.117Z"
   },
   {
    "duration": 53,
    "start_time": "2022-09-11T01:22:37.534Z"
   },
   {
    "duration": 13,
    "start_time": "2022-09-11T01:22:37.588Z"
   },
   {
    "duration": 3,
    "start_time": "2022-09-11T01:22:37.603Z"
   },
   {
    "duration": 5,
    "start_time": "2022-09-11T01:22:37.608Z"
   },
   {
    "duration": 14,
    "start_time": "2022-09-11T01:22:37.614Z"
   },
   {
    "duration": 319,
    "start_time": "2022-09-11T01:22:37.630Z"
   },
   {
    "duration": 11,
    "start_time": "2022-09-11T01:22:37.950Z"
   },
   {
    "duration": 3,
    "start_time": "2022-09-11T01:22:37.962Z"
   },
   {
    "duration": 20,
    "start_time": "2022-09-11T01:22:37.967Z"
   },
   {
    "duration": 292,
    "start_time": "2022-09-11T01:22:37.988Z"
   },
   {
    "duration": 216,
    "start_time": "2022-09-11T01:22:38.282Z"
   },
   {
    "duration": 313,
    "start_time": "2022-09-11T01:22:38.500Z"
   },
   {
    "duration": 9,
    "start_time": "2022-09-11T01:22:38.815Z"
   },
   {
    "duration": 279,
    "start_time": "2022-09-11T01:22:38.825Z"
   },
   {
    "duration": 5,
    "start_time": "2022-09-11T01:22:39.106Z"
   },
   {
    "duration": 12,
    "start_time": "2022-09-11T01:22:39.113Z"
   },
   {
    "duration": 18,
    "start_time": "2022-09-11T01:22:39.127Z"
   },
   {
    "duration": 22,
    "start_time": "2022-09-11T01:22:39.147Z"
   },
   {
    "duration": 11,
    "start_time": "2022-09-11T01:22:39.171Z"
   },
   {
    "duration": 43,
    "start_time": "2022-09-11T01:22:39.183Z"
   },
   {
    "duration": 5,
    "start_time": "2022-09-11T01:22:39.228Z"
   },
   {
    "duration": 37,
    "start_time": "2022-09-11T01:22:39.234Z"
   },
   {
    "duration": 4,
    "start_time": "2022-09-11T01:22:39.273Z"
   },
   {
    "duration": 5,
    "start_time": "2022-09-11T01:22:39.279Z"
   },
   {
    "duration": 139,
    "start_time": "2022-09-11T01:22:39.285Z"
   },
   {
    "duration": 0,
    "start_time": "2022-09-11T01:22:39.426Z"
   },
   {
    "duration": 0,
    "start_time": "2022-09-11T01:22:39.428Z"
   },
   {
    "duration": 0,
    "start_time": "2022-09-11T01:22:39.429Z"
   },
   {
    "duration": 0,
    "start_time": "2022-09-11T01:22:39.430Z"
   },
   {
    "duration": 0,
    "start_time": "2022-09-11T01:22:39.431Z"
   },
   {
    "duration": 0,
    "start_time": "2022-09-11T01:22:39.432Z"
   },
   {
    "duration": 0,
    "start_time": "2022-09-11T01:22:39.434Z"
   },
   {
    "duration": 0,
    "start_time": "2022-09-11T01:22:39.435Z"
   },
   {
    "duration": 0,
    "start_time": "2022-09-11T01:22:39.436Z"
   },
   {
    "duration": 0,
    "start_time": "2022-09-11T01:22:39.437Z"
   },
   {
    "duration": 0,
    "start_time": "2022-09-11T01:22:39.438Z"
   },
   {
    "duration": 0,
    "start_time": "2022-09-11T01:22:39.439Z"
   },
   {
    "duration": 0,
    "start_time": "2022-09-11T01:22:39.440Z"
   },
   {
    "duration": 0,
    "start_time": "2022-09-11T01:22:39.441Z"
   },
   {
    "duration": 0,
    "start_time": "2022-09-11T01:22:39.442Z"
   },
   {
    "duration": 0,
    "start_time": "2022-09-11T01:22:39.443Z"
   },
   {
    "duration": 1,
    "start_time": "2022-09-11T01:22:39.444Z"
   },
   {
    "duration": 0,
    "start_time": "2022-09-11T01:22:39.445Z"
   },
   {
    "duration": 0,
    "start_time": "2022-09-11T01:22:39.446Z"
   },
   {
    "duration": 0,
    "start_time": "2022-09-11T01:22:39.447Z"
   },
   {
    "duration": 0,
    "start_time": "2022-09-11T01:22:39.448Z"
   },
   {
    "duration": 0,
    "start_time": "2022-09-11T01:22:39.450Z"
   },
   {
    "duration": 0,
    "start_time": "2022-09-11T01:22:39.451Z"
   },
   {
    "duration": 0,
    "start_time": "2022-09-11T01:22:39.452Z"
   },
   {
    "duration": 0,
    "start_time": "2022-09-11T01:22:39.453Z"
   },
   {
    "duration": 23,
    "start_time": "2022-09-11T01:23:10.204Z"
   },
   {
    "duration": 35,
    "start_time": "2022-09-11T01:23:14.169Z"
   },
   {
    "duration": 7,
    "start_time": "2022-09-11T01:23:49.911Z"
   },
   {
    "duration": 35,
    "start_time": "2022-09-11T01:23:52.535Z"
   },
   {
    "duration": 6,
    "start_time": "2022-09-11T01:23:55.865Z"
   },
   {
    "duration": 4,
    "start_time": "2022-09-11T01:23:57.577Z"
   },
   {
    "duration": 13,
    "start_time": "2022-09-11T01:23:59.455Z"
   },
   {
    "duration": 41,
    "start_time": "2022-09-11T01:24:41.853Z"
   },
   {
    "duration": 53,
    "start_time": "2022-09-11T01:24:49.834Z"
   },
   {
    "duration": 18,
    "start_time": "2022-09-11T01:25:22.186Z"
   },
   {
    "duration": 6,
    "start_time": "2022-09-11T01:25:26.352Z"
   },
   {
    "duration": 5,
    "start_time": "2022-09-11T01:25:26.818Z"
   },
   {
    "duration": 6,
    "start_time": "2022-09-11T01:25:28.002Z"
   },
   {
    "duration": 3,
    "start_time": "2022-09-11T01:25:29.644Z"
   },
   {
    "duration": 22,
    "start_time": "2022-09-11T01:25:30.430Z"
   },
   {
    "duration": 9,
    "start_time": "2022-09-11T01:25:32.638Z"
   },
   {
    "duration": 3,
    "start_time": "2022-09-11T01:25:33.581Z"
   },
   {
    "duration": 3,
    "start_time": "2022-09-11T01:25:34.173Z"
   },
   {
    "duration": 11,
    "start_time": "2022-09-11T01:25:34.811Z"
   },
   {
    "duration": 21,
    "start_time": "2022-09-11T01:25:35.979Z"
   },
   {
    "duration": 101,
    "start_time": "2022-09-11T01:25:36.628Z"
   },
   {
    "duration": 304,
    "start_time": "2022-09-11T01:25:48.048Z"
   },
   {
    "duration": 9,
    "start_time": "2022-09-11T01:25:50.484Z"
   },
   {
    "duration": 5944,
    "start_time": "2022-09-11T01:25:52.030Z"
   },
   {
    "duration": 223809,
    "start_time": "2022-09-11T01:25:57.976Z"
   },
   {
    "duration": 9,
    "start_time": "2022-09-11T01:29:41.787Z"
   },
   {
    "duration": 3733,
    "start_time": "2022-09-11T01:29:41.798Z"
   },
   {
    "duration": 169390,
    "start_time": "2022-09-11T01:29:45.533Z"
   },
   {
    "duration": 8,
    "start_time": "2022-09-11T01:32:34.925Z"
   },
   {
    "duration": 7,
    "start_time": "2022-09-11T01:32:34.934Z"
   },
   {
    "duration": 11,
    "start_time": "2022-09-11T01:32:34.943Z"
   },
   {
    "duration": 0,
    "start_time": "2022-09-11T01:32:34.955Z"
   },
   {
    "duration": 0,
    "start_time": "2022-09-11T01:32:34.956Z"
   },
   {
    "duration": 0,
    "start_time": "2022-09-11T01:32:34.957Z"
   },
   {
    "duration": 0,
    "start_time": "2022-09-11T01:32:34.958Z"
   },
   {
    "duration": 0,
    "start_time": "2022-09-11T01:32:34.959Z"
   },
   {
    "duration": 0,
    "start_time": "2022-09-11T01:32:34.960Z"
   },
   {
    "duration": 0,
    "start_time": "2022-09-11T01:32:34.961Z"
   },
   {
    "duration": 2387,
    "start_time": "2022-09-11T01:33:23.789Z"
   },
   {
    "duration": 832,
    "start_time": "2022-09-11T01:33:38.400Z"
   },
   {
    "duration": 8,
    "start_time": "2022-09-11T01:33:43.778Z"
   },
   {
    "duration": 11,
    "start_time": "2022-09-11T01:34:54.473Z"
   },
   {
    "duration": 10,
    "start_time": "2022-09-11T01:35:43.266Z"
   },
   {
    "duration": 7531,
    "start_time": "2022-09-11T01:35:50.299Z"
   },
   {
    "duration": 11310,
    "start_time": "2022-09-11T01:37:44.524Z"
   },
   {
    "duration": 4,
    "start_time": "2022-09-11T01:39:05.727Z"
   },
   {
    "duration": 23,
    "start_time": "2022-09-11T01:39:12.180Z"
   },
   {
    "duration": 5,
    "start_time": "2022-09-11T01:43:01.634Z"
   },
   {
    "duration": 11530,
    "start_time": "2022-09-11T01:43:03.571Z"
   },
   {
    "duration": 12,
    "start_time": "2022-09-11T01:44:51.829Z"
   },
   {
    "duration": 11,
    "start_time": "2022-09-11T01:51:39.035Z"
   },
   {
    "duration": 9,
    "start_time": "2022-09-11T01:51:42.614Z"
   },
   {
    "duration": 12,
    "start_time": "2022-09-11T01:51:51.786Z"
   },
   {
    "duration": 710,
    "start_time": "2022-09-11T01:52:12.027Z"
   },
   {
    "duration": 4,
    "start_time": "2022-09-11T01:52:19.638Z"
   },
   {
    "duration": 4,
    "start_time": "2022-09-11T01:52:21.973Z"
   },
   {
    "duration": 5,
    "start_time": "2022-09-11T01:52:31.010Z"
   },
   {
    "duration": 3,
    "start_time": "2022-09-11T01:52:34.769Z"
   },
   {
    "duration": 49,
    "start_time": "2022-09-11T01:52:36.340Z"
   },
   {
    "duration": 21,
    "start_time": "2022-09-11T01:52:41.110Z"
   },
   {
    "duration": 2,
    "start_time": "2022-09-11T01:52:58.254Z"
   },
   {
    "duration": 4,
    "start_time": "2022-09-11T01:52:58.869Z"
   },
   {
    "duration": 14,
    "start_time": "2022-09-11T01:52:59.539Z"
   },
   {
    "duration": 216,
    "start_time": "2022-09-11T01:53:02.407Z"
   },
   {
    "duration": 137,
    "start_time": "2022-09-11T01:53:05.594Z"
   },
   {
    "duration": 388,
    "start_time": "2022-09-11T01:53:09.095Z"
   },
   {
    "duration": 9,
    "start_time": "2022-09-11T01:53:13.164Z"
   },
   {
    "duration": 6416,
    "start_time": "2022-09-11T01:53:19.160Z"
   },
   {
    "duration": 241753,
    "start_time": "2022-09-11T01:53:47.338Z"
   },
   {
    "duration": 9,
    "start_time": "2022-09-11T01:57:49.092Z"
   },
   {
    "duration": 3950,
    "start_time": "2022-09-11T01:58:23.776Z"
   },
   {
    "duration": 1369,
    "start_time": "2022-09-11T02:01:35.077Z"
   },
   {
    "duration": 52,
    "start_time": "2022-09-11T02:01:36.448Z"
   },
   {
    "duration": 12,
    "start_time": "2022-09-11T02:01:36.502Z"
   },
   {
    "duration": 3,
    "start_time": "2022-09-11T02:01:36.515Z"
   },
   {
    "duration": 10,
    "start_time": "2022-09-11T02:01:36.519Z"
   },
   {
    "duration": 12,
    "start_time": "2022-09-11T02:01:36.531Z"
   },
   {
    "duration": 319,
    "start_time": "2022-09-11T02:01:36.544Z"
   },
   {
    "duration": 12,
    "start_time": "2022-09-11T02:01:36.864Z"
   },
   {
    "duration": 2,
    "start_time": "2022-09-11T02:01:36.878Z"
   },
   {
    "duration": 47,
    "start_time": "2022-09-11T02:01:36.883Z"
   },
   {
    "duration": 273,
    "start_time": "2022-09-11T02:01:36.931Z"
   },
   {
    "duration": 231,
    "start_time": "2022-09-11T02:01:37.205Z"
   },
   {
    "duration": 359,
    "start_time": "2022-09-11T02:01:37.438Z"
   },
   {
    "duration": 6,
    "start_time": "2022-09-11T02:01:37.798Z"
   },
   {
    "duration": 231,
    "start_time": "2022-09-11T02:01:37.806Z"
   },
   {
    "duration": 6,
    "start_time": "2022-09-11T02:01:38.038Z"
   },
   {
    "duration": 11,
    "start_time": "2022-09-11T02:01:38.046Z"
   },
   {
    "duration": 15,
    "start_time": "2022-09-11T02:01:38.059Z"
   },
   {
    "duration": 22,
    "start_time": "2022-09-11T02:01:38.075Z"
   },
   {
    "duration": 11,
    "start_time": "2022-09-11T02:01:38.098Z"
   },
   {
    "duration": 25,
    "start_time": "2022-09-11T02:01:38.121Z"
   },
   {
    "duration": 5,
    "start_time": "2022-09-11T02:01:38.147Z"
   },
   {
    "duration": 24,
    "start_time": "2022-09-11T02:01:38.153Z"
   },
   {
    "duration": 3,
    "start_time": "2022-09-11T02:01:38.179Z"
   },
   {
    "duration": 7,
    "start_time": "2022-09-11T02:01:38.183Z"
   },
   {
    "duration": 4,
    "start_time": "2022-09-11T02:01:38.192Z"
   },
   {
    "duration": 133,
    "start_time": "2022-09-11T02:01:38.197Z"
   },
   {
    "duration": 0,
    "start_time": "2022-09-11T02:01:38.332Z"
   },
   {
    "duration": 0,
    "start_time": "2022-09-11T02:01:38.333Z"
   },
   {
    "duration": 0,
    "start_time": "2022-09-11T02:01:38.334Z"
   },
   {
    "duration": 0,
    "start_time": "2022-09-11T02:01:38.335Z"
   },
   {
    "duration": 0,
    "start_time": "2022-09-11T02:01:38.336Z"
   },
   {
    "duration": 0,
    "start_time": "2022-09-11T02:01:38.337Z"
   },
   {
    "duration": 0,
    "start_time": "2022-09-11T02:01:38.338Z"
   },
   {
    "duration": 0,
    "start_time": "2022-09-11T02:01:38.340Z"
   },
   {
    "duration": 0,
    "start_time": "2022-09-11T02:01:38.340Z"
   },
   {
    "duration": 0,
    "start_time": "2022-09-11T02:01:38.341Z"
   },
   {
    "duration": 0,
    "start_time": "2022-09-11T02:01:38.342Z"
   },
   {
    "duration": 0,
    "start_time": "2022-09-11T02:01:38.343Z"
   },
   {
    "duration": 0,
    "start_time": "2022-09-11T02:01:38.345Z"
   },
   {
    "duration": 0,
    "start_time": "2022-09-11T02:01:38.345Z"
   },
   {
    "duration": 0,
    "start_time": "2022-09-11T02:01:38.347Z"
   },
   {
    "duration": 0,
    "start_time": "2022-09-11T02:01:38.347Z"
   },
   {
    "duration": 0,
    "start_time": "2022-09-11T02:01:38.349Z"
   },
   {
    "duration": 0,
    "start_time": "2022-09-11T02:01:38.349Z"
   },
   {
    "duration": 0,
    "start_time": "2022-09-11T02:01:38.350Z"
   },
   {
    "duration": 0,
    "start_time": "2022-09-11T02:01:38.351Z"
   },
   {
    "duration": 0,
    "start_time": "2022-09-11T02:01:38.352Z"
   },
   {
    "duration": 0,
    "start_time": "2022-09-11T02:01:38.353Z"
   },
   {
    "duration": 0,
    "start_time": "2022-09-11T02:01:38.354Z"
   },
   {
    "duration": 2,
    "start_time": "2022-09-11T02:02:53.174Z"
   },
   {
    "duration": 2,
    "start_time": "2022-09-11T02:02:54.202Z"
   },
   {
    "duration": 3,
    "start_time": "2022-09-11T02:02:54.677Z"
   },
   {
    "duration": 24,
    "start_time": "2022-09-11T02:02:55.218Z"
   },
   {
    "duration": 10,
    "start_time": "2022-09-11T02:02:56.871Z"
   },
   {
    "duration": 2,
    "start_time": "2022-09-11T02:02:57.673Z"
   },
   {
    "duration": 4,
    "start_time": "2022-09-11T02:02:58.428Z"
   },
   {
    "duration": 11,
    "start_time": "2022-09-11T02:02:59.146Z"
   },
   {
    "duration": 97,
    "start_time": "2022-09-11T02:03:01.029Z"
   },
   {
    "duration": 114,
    "start_time": "2022-09-11T02:03:01.894Z"
   },
   {
    "duration": 330,
    "start_time": "2022-09-11T02:03:02.794Z"
   },
   {
    "duration": 9,
    "start_time": "2022-09-11T02:03:03.704Z"
   },
   {
    "duration": 6668,
    "start_time": "2022-09-11T02:03:05.036Z"
   },
   {
    "duration": 242081,
    "start_time": "2022-09-11T02:03:11.706Z"
   },
   {
    "duration": 9,
    "start_time": "2022-09-11T02:07:13.789Z"
   },
   {
    "duration": 3831,
    "start_time": "2022-09-11T02:07:13.799Z"
   },
   {
    "duration": 183092,
    "start_time": "2022-09-11T02:07:17.632Z"
   },
   {
    "duration": 9,
    "start_time": "2022-09-11T02:10:20.725Z"
   },
   {
    "duration": 9,
    "start_time": "2022-09-11T02:10:20.735Z"
   },
   {
    "duration": 6,
    "start_time": "2022-09-11T02:10:20.745Z"
   },
   {
    "duration": 8,
    "start_time": "2022-09-11T02:10:20.752Z"
   },
   {
    "duration": 12592,
    "start_time": "2022-09-11T02:10:20.762Z"
   },
   {
    "duration": 49,
    "start_time": "2022-09-11T02:10:33.356Z"
   },
   {
    "duration": 0,
    "start_time": "2022-09-11T02:10:33.407Z"
   },
   {
    "duration": 877,
    "start_time": "2022-09-11T02:11:26.954Z"
   },
   {
    "duration": 9,
    "start_time": "2022-09-11T02:11:31.229Z"
   },
   {
    "duration": 8234,
    "start_time": "2022-09-11T02:12:01.818Z"
   },
   {
    "duration": 8972,
    "start_time": "2022-09-11T02:13:14.582Z"
   },
   {
    "duration": 2706,
    "start_time": "2022-09-11T02:13:38.780Z"
   },
   {
    "duration": 9045,
    "start_time": "2022-09-11T02:13:45.482Z"
   },
   {
    "duration": 2642,
    "start_time": "2022-09-11T18:23:46.147Z"
   },
   {
    "duration": 157,
    "start_time": "2022-09-11T18:23:48.791Z"
   },
   {
    "duration": 15,
    "start_time": "2022-09-11T18:23:48.950Z"
   },
   {
    "duration": 4,
    "start_time": "2022-09-11T18:23:48.967Z"
   },
   {
    "duration": 10,
    "start_time": "2022-09-11T18:23:48.973Z"
   },
   {
    "duration": 14,
    "start_time": "2022-09-11T18:23:48.984Z"
   },
   {
    "duration": 380,
    "start_time": "2022-09-11T18:23:48.999Z"
   },
   {
    "duration": 11,
    "start_time": "2022-09-11T18:23:49.381Z"
   },
   {
    "duration": 2,
    "start_time": "2022-09-11T18:23:49.394Z"
   },
   {
    "duration": 24,
    "start_time": "2022-09-11T18:23:49.399Z"
   },
   {
    "duration": 339,
    "start_time": "2022-09-11T18:23:49.424Z"
   },
   {
    "duration": 261,
    "start_time": "2022-09-11T18:23:49.768Z"
   },
   {
    "duration": 385,
    "start_time": "2022-09-11T18:23:50.031Z"
   },
   {
    "duration": 6,
    "start_time": "2022-09-11T18:23:50.418Z"
   },
   {
    "duration": 239,
    "start_time": "2022-09-11T18:23:50.426Z"
   },
   {
    "duration": 7,
    "start_time": "2022-09-11T18:23:50.666Z"
   },
   {
    "duration": 11,
    "start_time": "2022-09-11T18:23:50.674Z"
   },
   {
    "duration": 20,
    "start_time": "2022-09-11T18:23:50.686Z"
   },
   {
    "duration": 27,
    "start_time": "2022-09-11T18:23:50.708Z"
   },
   {
    "duration": 14,
    "start_time": "2022-09-11T18:23:50.767Z"
   },
   {
    "duration": 29,
    "start_time": "2022-09-11T18:23:50.783Z"
   },
   {
    "duration": 7,
    "start_time": "2022-09-11T18:23:50.814Z"
   },
   {
    "duration": 56,
    "start_time": "2022-09-11T18:23:50.823Z"
   },
   {
    "duration": 4,
    "start_time": "2022-09-11T18:23:50.881Z"
   },
   {
    "duration": 7,
    "start_time": "2022-09-11T18:23:50.887Z"
   },
   {
    "duration": 4,
    "start_time": "2022-09-11T18:23:50.896Z"
   },
   {
    "duration": 5,
    "start_time": "2022-09-11T18:23:50.901Z"
   },
   {
    "duration": 4,
    "start_time": "2022-09-11T18:23:50.910Z"
   },
   {
    "duration": 6,
    "start_time": "2022-09-11T18:23:50.916Z"
   },
   {
    "duration": 53,
    "start_time": "2022-09-11T18:23:50.923Z"
   },
   {
    "duration": 11,
    "start_time": "2022-09-11T18:23:50.979Z"
   },
   {
    "duration": 3,
    "start_time": "2022-09-11T18:23:50.992Z"
   },
   {
    "duration": 8,
    "start_time": "2022-09-11T18:23:50.997Z"
   },
   {
    "duration": 15,
    "start_time": "2022-09-11T18:23:51.006Z"
   },
   {
    "duration": 246,
    "start_time": "2022-09-11T18:23:51.023Z"
   },
   {
    "duration": 222,
    "start_time": "2022-09-11T18:23:51.271Z"
   },
   {
    "duration": 391,
    "start_time": "2022-09-11T18:23:51.495Z"
   },
   {
    "duration": 10,
    "start_time": "2022-09-11T18:23:51.887Z"
   },
   {
    "duration": 7108,
    "start_time": "2022-09-11T18:23:51.899Z"
   },
   {
    "duration": 1534,
    "start_time": "2022-09-11T18:26:31.435Z"
   },
   {
    "duration": 57,
    "start_time": "2022-09-11T18:26:32.971Z"
   },
   {
    "duration": 15,
    "start_time": "2022-09-11T18:26:33.029Z"
   },
   {
    "duration": 3,
    "start_time": "2022-09-11T18:26:33.046Z"
   },
   {
    "duration": 7,
    "start_time": "2022-09-11T18:26:33.051Z"
   },
   {
    "duration": 17,
    "start_time": "2022-09-11T18:26:33.059Z"
   },
   {
    "duration": 361,
    "start_time": "2022-09-11T18:26:33.077Z"
   },
   {
    "duration": 11,
    "start_time": "2022-09-11T18:26:33.440Z"
   },
   {
    "duration": 15,
    "start_time": "2022-09-11T18:26:33.452Z"
   },
   {
    "duration": 22,
    "start_time": "2022-09-11T18:26:33.470Z"
   },
   {
    "duration": 324,
    "start_time": "2022-09-11T18:26:33.495Z"
   },
   {
    "duration": 256,
    "start_time": "2022-09-11T18:26:33.821Z"
   },
   {
    "duration": 390,
    "start_time": "2022-09-11T18:26:34.078Z"
   },
   {
    "duration": 7,
    "start_time": "2022-09-11T18:26:34.469Z"
   },
   {
    "duration": 259,
    "start_time": "2022-09-11T18:26:34.478Z"
   },
   {
    "duration": 6,
    "start_time": "2022-09-11T18:26:34.739Z"
   },
   {
    "duration": 13,
    "start_time": "2022-09-11T18:26:34.747Z"
   },
   {
    "duration": 19,
    "start_time": "2022-09-11T18:26:34.762Z"
   },
   {
    "duration": 27,
    "start_time": "2022-09-11T18:26:34.783Z"
   },
   {
    "duration": 16,
    "start_time": "2022-09-11T18:26:34.812Z"
   },
   {
    "duration": 53,
    "start_time": "2022-09-11T18:26:34.829Z"
   },
   {
    "duration": 7,
    "start_time": "2022-09-11T18:26:34.884Z"
   },
   {
    "duration": 27,
    "start_time": "2022-09-11T18:26:34.893Z"
   },
   {
    "duration": 4,
    "start_time": "2022-09-11T18:26:34.921Z"
   },
   {
    "duration": 7,
    "start_time": "2022-09-11T18:26:34.926Z"
   },
   {
    "duration": 33,
    "start_time": "2022-09-11T18:26:34.935Z"
   },
   {
    "duration": 5,
    "start_time": "2022-09-11T18:26:34.970Z"
   },
   {
    "duration": 5,
    "start_time": "2022-09-11T18:26:34.978Z"
   },
   {
    "duration": 4,
    "start_time": "2022-09-11T18:26:34.985Z"
   },
   {
    "duration": 28,
    "start_time": "2022-09-11T18:26:34.991Z"
   },
   {
    "duration": 28,
    "start_time": "2022-09-11T18:26:35.021Z"
   },
   {
    "duration": 10,
    "start_time": "2022-09-11T18:26:35.052Z"
   },
   {
    "duration": 11,
    "start_time": "2022-09-11T18:26:35.064Z"
   },
   {
    "duration": 17,
    "start_time": "2022-09-11T18:26:35.077Z"
   },
   {
    "duration": 375,
    "start_time": "2022-09-11T18:26:35.096Z"
   },
   {
    "duration": 283,
    "start_time": "2022-09-11T18:26:35.473Z"
   },
   {
    "duration": 389,
    "start_time": "2022-09-11T18:26:35.758Z"
   },
   {
    "duration": 11,
    "start_time": "2022-09-11T18:26:36.148Z"
   },
   {
    "duration": 6901,
    "start_time": "2022-09-11T18:26:36.160Z"
   },
   {
    "duration": 21679,
    "start_time": "2022-09-11T18:26:43.063Z"
   },
   {
    "duration": 10,
    "start_time": "2022-09-11T18:27:04.744Z"
   },
   {
    "duration": 1599,
    "start_time": "2022-09-11T18:34:54.040Z"
   },
   {
    "duration": 61,
    "start_time": "2022-09-11T18:34:55.642Z"
   },
   {
    "duration": 17,
    "start_time": "2022-09-11T18:34:55.705Z"
   },
   {
    "duration": 5,
    "start_time": "2022-09-11T18:34:55.724Z"
   },
   {
    "duration": 8,
    "start_time": "2022-09-11T18:34:55.730Z"
   },
   {
    "duration": 36,
    "start_time": "2022-09-11T18:34:55.741Z"
   },
   {
    "duration": 384,
    "start_time": "2022-09-11T18:34:55.778Z"
   },
   {
    "duration": 14,
    "start_time": "2022-09-11T18:34:56.167Z"
   },
   {
    "duration": 3,
    "start_time": "2022-09-11T18:34:56.182Z"
   },
   {
    "duration": 26,
    "start_time": "2022-09-11T18:34:56.188Z"
   },
   {
    "duration": 399,
    "start_time": "2022-09-11T18:34:56.217Z"
   },
   {
    "duration": 319,
    "start_time": "2022-09-11T18:34:56.618Z"
   },
   {
    "duration": 407,
    "start_time": "2022-09-11T18:34:56.939Z"
   },
   {
    "duration": 7,
    "start_time": "2022-09-11T18:34:57.348Z"
   },
   {
    "duration": 249,
    "start_time": "2022-09-11T18:34:57.368Z"
   },
   {
    "duration": 7,
    "start_time": "2022-09-11T18:34:57.619Z"
   },
   {
    "duration": 12,
    "start_time": "2022-09-11T18:34:57.627Z"
   },
   {
    "duration": 19,
    "start_time": "2022-09-11T18:34:57.640Z"
   },
   {
    "duration": 30,
    "start_time": "2022-09-11T18:34:57.661Z"
   },
   {
    "duration": 15,
    "start_time": "2022-09-11T18:34:57.693Z"
   },
   {
    "duration": 29,
    "start_time": "2022-09-11T18:34:57.710Z"
   },
   {
    "duration": 8,
    "start_time": "2022-09-11T18:34:57.769Z"
   },
   {
    "duration": 27,
    "start_time": "2022-09-11T18:34:57.779Z"
   },
   {
    "duration": 4,
    "start_time": "2022-09-11T18:34:57.807Z"
   },
   {
    "duration": 11,
    "start_time": "2022-09-11T18:34:57.813Z"
   },
   {
    "duration": 3,
    "start_time": "2022-09-11T18:34:57.827Z"
   },
   {
    "duration": 5,
    "start_time": "2022-09-11T18:34:57.832Z"
   },
   {
    "duration": 2,
    "start_time": "2022-09-11T18:34:57.869Z"
   },
   {
    "duration": 7,
    "start_time": "2022-09-11T18:34:57.873Z"
   },
   {
    "duration": 37,
    "start_time": "2022-09-11T18:34:57.882Z"
   },
   {
    "duration": 10,
    "start_time": "2022-09-11T18:34:57.921Z"
   },
   {
    "duration": 2,
    "start_time": "2022-09-11T18:34:57.933Z"
   },
   {
    "duration": 6,
    "start_time": "2022-09-11T18:34:57.937Z"
   },
   {
    "duration": 33,
    "start_time": "2022-09-11T18:34:57.945Z"
   },
   {
    "duration": 300,
    "start_time": "2022-09-11T18:34:57.979Z"
   },
   {
    "duration": 296,
    "start_time": "2022-09-11T18:34:58.281Z"
   },
   {
    "duration": 369,
    "start_time": "2022-09-11T18:34:58.579Z"
   },
   {
    "duration": 10,
    "start_time": "2022-09-11T18:34:58.949Z"
   },
   {
    "duration": 7202,
    "start_time": "2022-09-11T18:34:58.967Z"
   },
   {
    "duration": 22743,
    "start_time": "2022-09-11T18:35:06.171Z"
   },
   {
    "duration": 10,
    "start_time": "2022-09-11T18:35:28.915Z"
   },
   {
    "duration": 3,
    "start_time": "2022-09-11T18:35:28.927Z"
   },
   {
    "duration": 474,
    "start_time": "2022-09-11T18:35:28.932Z"
   },
   {
    "duration": 0,
    "start_time": "2022-09-11T18:35:29.408Z"
   },
   {
    "duration": 0,
    "start_time": "2022-09-11T18:35:29.409Z"
   },
   {
    "duration": 0,
    "start_time": "2022-09-11T18:35:29.410Z"
   },
   {
    "duration": 0,
    "start_time": "2022-09-11T18:35:29.411Z"
   },
   {
    "duration": 0,
    "start_time": "2022-09-11T18:35:29.413Z"
   },
   {
    "duration": 0,
    "start_time": "2022-09-11T18:35:29.414Z"
   },
   {
    "duration": 0,
    "start_time": "2022-09-11T18:35:29.415Z"
   },
   {
    "duration": 10425,
    "start_time": "2022-09-11T18:37:47.234Z"
   },
   {
    "duration": 10,
    "start_time": "2022-09-11T18:38:09.004Z"
   },
   {
    "duration": 1057,
    "start_time": "2022-09-11T18:39:12.500Z"
   },
   {
    "duration": 244,
    "start_time": "2022-09-11T18:49:47.858Z"
   },
   {
    "duration": 655082,
    "start_time": "2022-09-11T18:49:52.491Z"
   },
   {
    "duration": 10,
    "start_time": "2022-09-11T19:02:22.390Z"
   },
   {
    "duration": 23775,
    "start_time": "2022-09-11T19:02:36.197Z"
   },
   {
    "duration": 14,
    "start_time": "2022-09-11T19:58:17.975Z"
   },
   {
    "duration": 26,
    "start_time": "2022-09-11T20:01:20.185Z"
   },
   {
    "duration": 1363,
    "start_time": "2022-09-11T20:01:27.626Z"
   },
   {
    "duration": 26,
    "start_time": "2022-09-11T20:01:33.184Z"
   },
   {
    "duration": 29,
    "start_time": "2022-09-11T20:02:10.087Z"
   },
   {
    "duration": 27,
    "start_time": "2022-09-11T20:02:31.093Z"
   },
   {
    "duration": 545,
    "start_time": "2022-09-11T20:03:12.252Z"
   },
   {
    "duration": 22,
    "start_time": "2022-09-11T20:04:33.093Z"
   },
   {
    "duration": 26,
    "start_time": "2022-09-11T20:04:48.880Z"
   },
   {
    "duration": 32,
    "start_time": "2022-09-11T20:04:53.311Z"
   },
   {
    "duration": 22,
    "start_time": "2022-09-11T20:05:15.031Z"
   },
   {
    "duration": 25,
    "start_time": "2022-09-11T20:05:49.044Z"
   },
   {
    "duration": 77,
    "start_time": "2022-09-11T20:06:40.392Z"
   },
   {
    "duration": 12,
    "start_time": "2022-09-11T20:06:51.039Z"
   },
   {
    "duration": 158,
    "start_time": "2022-09-11T20:06:56.325Z"
   },
   {
    "duration": 291,
    "start_time": "2022-09-11T20:07:32.222Z"
   },
   {
    "duration": 228,
    "start_time": "2022-09-11T20:07:58.868Z"
   },
   {
    "duration": 53,
    "start_time": "2022-09-11T20:20:59.010Z"
   },
   {
    "duration": 52,
    "start_time": "2022-09-11T20:21:02.924Z"
   },
   {
    "duration": 57,
    "start_time": "2022-09-11T20:21:06.788Z"
   },
   {
    "duration": 10,
    "start_time": "2022-09-11T20:21:24.752Z"
   },
   {
    "duration": 10,
    "start_time": "2022-09-11T20:21:49.848Z"
   },
   {
    "duration": 9,
    "start_time": "2022-09-11T20:21:58.695Z"
   },
   {
    "duration": 5,
    "start_time": "2022-09-11T20:22:02.667Z"
   },
   {
    "duration": 1227,
    "start_time": "2022-09-11T20:22:19.427Z"
   },
   {
    "duration": 59,
    "start_time": "2022-09-11T20:22:26.729Z"
   },
   {
    "duration": 52,
    "start_time": "2022-09-11T20:22:39.493Z"
   },
   {
    "duration": 48,
    "start_time": "2022-09-11T20:23:21.372Z"
   },
   {
    "duration": 4,
    "start_time": "2022-09-11T20:23:43.678Z"
   },
   {
    "duration": 7,
    "start_time": "2022-09-11T20:23:49.360Z"
   },
   {
    "duration": 43,
    "start_time": "2022-09-11T20:24:23.593Z"
   },
   {
    "duration": 5,
    "start_time": "2022-09-11T20:24:26.079Z"
   },
   {
    "duration": 9,
    "start_time": "2022-09-11T20:24:27.757Z"
   },
   {
    "duration": 4,
    "start_time": "2022-09-11T20:24:37.830Z"
   },
   {
    "duration": 4,
    "start_time": "2022-09-11T20:24:45.230Z"
   },
   {
    "duration": 4,
    "start_time": "2022-09-11T20:25:12.913Z"
   },
   {
    "duration": 226,
    "start_time": "2022-09-11T20:26:37.566Z"
   },
   {
    "duration": 213,
    "start_time": "2022-09-11T20:26:47.793Z"
   },
   {
    "duration": 200,
    "start_time": "2022-09-11T20:27:55.867Z"
   },
   {
    "duration": 209,
    "start_time": "2022-09-11T20:28:09.247Z"
   },
   {
    "duration": 201,
    "start_time": "2022-09-11T20:28:58.392Z"
   },
   {
    "duration": 1647,
    "start_time": "2022-09-11T20:30:10.591Z"
   },
   {
    "duration": 49,
    "start_time": "2022-09-11T20:30:12.240Z"
   },
   {
    "duration": 5,
    "start_time": "2022-09-11T20:30:12.291Z"
   },
   {
    "duration": 6,
    "start_time": "2022-09-11T20:30:12.298Z"
   },
   {
    "duration": 20,
    "start_time": "2022-09-11T20:30:12.306Z"
   },
   {
    "duration": 5,
    "start_time": "2022-09-11T20:30:12.328Z"
   },
   {
    "duration": 46,
    "start_time": "2022-09-11T20:30:12.335Z"
   },
   {
    "duration": 12,
    "start_time": "2022-09-11T20:30:12.383Z"
   },
   {
    "duration": 377,
    "start_time": "2022-09-11T20:30:12.396Z"
   },
   {
    "duration": 12,
    "start_time": "2022-09-11T20:30:12.776Z"
   },
   {
    "duration": 23,
    "start_time": "2022-09-11T20:30:12.790Z"
   },
   {
    "duration": 330,
    "start_time": "2022-09-11T20:30:12.815Z"
   },
   {
    "duration": 245,
    "start_time": "2022-09-11T20:30:13.147Z"
   },
   {
    "duration": 227,
    "start_time": "2022-09-11T20:30:13.394Z"
   },
   {
    "duration": 220,
    "start_time": "2022-09-11T20:30:13.623Z"
   },
   {
    "duration": 382,
    "start_time": "2022-09-11T20:30:13.845Z"
   },
   {
    "duration": 6,
    "start_time": "2022-09-11T20:30:14.229Z"
   },
   {
    "duration": 213,
    "start_time": "2022-09-11T20:30:14.237Z"
   },
   {
    "duration": 6,
    "start_time": "2022-09-11T20:30:14.451Z"
   },
   {
    "duration": 15,
    "start_time": "2022-09-11T20:30:14.458Z"
   },
   {
    "duration": 16,
    "start_time": "2022-09-11T20:30:14.475Z"
   },
   {
    "duration": 24,
    "start_time": "2022-09-11T20:30:14.493Z"
   },
   {
    "duration": 13,
    "start_time": "2022-09-11T20:30:14.518Z"
   },
   {
    "duration": 56,
    "start_time": "2022-09-11T20:30:14.532Z"
   },
   {
    "duration": 6,
    "start_time": "2022-09-11T20:30:14.589Z"
   },
   {
    "duration": 28,
    "start_time": "2022-09-11T20:30:14.597Z"
   },
   {
    "duration": 3,
    "start_time": "2022-09-11T20:30:14.627Z"
   },
   {
    "duration": 5,
    "start_time": "2022-09-11T20:30:14.634Z"
   },
   {
    "duration": 29,
    "start_time": "2022-09-11T20:30:14.640Z"
   },
   {
    "duration": 9,
    "start_time": "2022-09-11T20:30:14.671Z"
   },
   {
    "duration": 8,
    "start_time": "2022-09-11T20:30:14.682Z"
   },
   {
    "duration": 6,
    "start_time": "2022-09-11T20:30:14.691Z"
   },
   {
    "duration": 27,
    "start_time": "2022-09-11T20:30:14.698Z"
   },
   {
    "duration": 11,
    "start_time": "2022-09-11T20:30:14.727Z"
   },
   {
    "duration": 2,
    "start_time": "2022-09-11T20:30:14.740Z"
   },
   {
    "duration": 24,
    "start_time": "2022-09-11T20:30:14.744Z"
   },
   {
    "duration": 17,
    "start_time": "2022-09-11T20:30:14.770Z"
   },
   {
    "duration": 183,
    "start_time": "2022-09-11T20:30:14.789Z"
   },
   {
    "duration": 213,
    "start_time": "2022-09-11T20:30:14.974Z"
   },
   {
    "duration": 384,
    "start_time": "2022-09-11T20:30:15.189Z"
   },
   {
    "duration": 9,
    "start_time": "2022-09-11T20:30:15.575Z"
   },
   {
    "duration": 7283,
    "start_time": "2022-09-11T20:30:15.585Z"
   },
   {
    "duration": 21760,
    "start_time": "2022-09-11T20:30:22.870Z"
   },
   {
    "duration": 10,
    "start_time": "2022-09-11T20:30:44.632Z"
   },
   {
    "duration": 4031,
    "start_time": "2022-09-11T20:30:44.644Z"
   },
   {
    "duration": 31692,
    "start_time": "2022-09-11T20:30:48.677Z"
   },
   {
    "duration": 9,
    "start_time": "2022-09-11T20:31:20.370Z"
   },
   {
    "duration": 122,
    "start_time": "2022-09-11T20:31:20.381Z"
   },
   {
    "duration": 0,
    "start_time": "2022-09-11T20:31:20.504Z"
   },
   {
    "duration": 0,
    "start_time": "2022-09-11T20:31:20.505Z"
   },
   {
    "duration": 0,
    "start_time": "2022-09-11T20:31:20.506Z"
   },
   {
    "duration": 0,
    "start_time": "2022-09-11T20:31:20.507Z"
   },
   {
    "duration": 0,
    "start_time": "2022-09-11T20:31:20.508Z"
   },
   {
    "duration": 24,
    "start_time": "2022-09-11T20:34:28.241Z"
   },
   {
    "duration": 5,
    "start_time": "2022-09-11T20:34:57.095Z"
   },
   {
    "duration": 5,
    "start_time": "2022-09-11T20:34:58.114Z"
   },
   {
    "duration": 20,
    "start_time": "2022-09-11T20:35:03.129Z"
   },
   {
    "duration": 5,
    "start_time": "2022-09-11T20:35:13.287Z"
   },
   {
    "duration": 23,
    "start_time": "2022-09-11T20:35:21.413Z"
   },
   {
    "duration": 405,
    "start_time": "2022-09-11T20:36:30.836Z"
   },
   {
    "duration": 232,
    "start_time": "2022-09-11T20:36:39.471Z"
   },
   {
    "duration": 19,
    "start_time": "2022-09-11T20:37:13.633Z"
   },
   {
    "duration": 22,
    "start_time": "2022-09-11T20:37:21.098Z"
   },
   {
    "duration": 967,
    "start_time": "2022-09-11T20:49:21.028Z"
   },
   {
    "duration": 10,
    "start_time": "2022-09-11T20:54:32.436Z"
   },
   {
    "duration": 3,
    "start_time": "2022-09-11T20:55:31.157Z"
   },
   {
    "duration": 475,
    "start_time": "2022-09-11T20:55:37.201Z"
   },
   {
    "duration": 6,
    "start_time": "2022-09-11T20:56:10.282Z"
   },
   {
    "duration": 874,
    "start_time": "2022-09-11T20:56:52.898Z"
   }
  ],
  "kernelspec": {
   "display_name": "Python 3 (ipykernel)",
   "language": "python",
   "name": "python3"
  },
  "language_info": {
   "codemirror_mode": {
    "name": "ipython",
    "version": 3
   },
   "file_extension": ".py",
   "mimetype": "text/x-python",
   "name": "python",
   "nbconvert_exporter": "python",
   "pygments_lexer": "ipython3",
   "version": "3.9.12"
  },
  "toc": {
   "base_numbering": 1,
   "nav_menu": {},
   "number_sections": true,
   "sideBar": true,
   "skip_h1_title": true,
   "title_cell": "Table of Contents",
   "title_sidebar": "Contents",
   "toc_cell": false,
   "toc_position": {},
   "toc_section_display": true,
   "toc_window_display": false
  }
 },
 "nbformat": 4,
 "nbformat_minor": 2
}
