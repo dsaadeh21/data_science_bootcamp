{
 "cells": [
  {
   "cell_type": "markdown",
   "metadata": {},
   "source": [
    "# Introduction\n",
    "* The purpose of this project is to determine which region (out of three given regions) would be the optimal region to select in order to build a new well. Optimal conditions include to keep risk of loss at a minimum of less than 2.5% in addition to ensuring that the region is predicted to generate the highest amount of profit. \n",
    "\n",
    "* I will train 3 different Linear Regression models respective to each region to predict product volume of reserves. These models will then be utilized to calculate each regions average profit and subsequently assess risk proabability.  \n"
   ]
  },
  {
   "cell_type": "markdown",
   "metadata": {},
   "source": [
    "# Data Preprocessing "
   ]
  },
  {
   "cell_type": "code",
   "execution_count": 1,
   "metadata": {},
   "outputs": [],
   "source": [
    "import pandas as pd\n",
    "import numpy as np\n",
    "from sklearn.model_selection import train_test_split\n",
    "from sklearn.metrics import mean_squared_error\n",
    "from sklearn.tree import DecisionTreeRegressor\n",
    "from sklearn.tree import DecisionTreeClassifier\n",
    "from sklearn.metrics import accuracy_score\n",
    "from sklearn.preprocessing import StandardScaler\n",
    "from sklearn.datasets import load_iris\n",
    "from sklearn import metrics\n",
    "from sklearn.metrics import mean_squared_error, r2_score\n",
    "import matplotlib.pyplot as plt\n",
    "from sklearn.linear_model import LinearRegression\n",
    "from sklearn.linear_model import LogisticRegression\n",
    "import seaborn as sns\n",
    "from sklearn import preprocessing"
   ]
  },
  {
   "cell_type": "code",
   "execution_count": 2,
   "metadata": {},
   "outputs": [],
   "source": [
    "region1=pd.read_csv('/datasets/geo_data_0.csv')\n",
    "region2=pd.read_csv('/datasets/geo_data_1.csv')\n",
    "region3=pd.read_csv('/datasets/geo_data_2.csv')"
   ]
  },
  {
   "cell_type": "code",
   "execution_count": 3,
   "metadata": {},
   "outputs": [
    {
     "data": {
      "text/html": [
       "<div>\n",
       "<style scoped>\n",
       "    .dataframe tbody tr th:only-of-type {\n",
       "        vertical-align: middle;\n",
       "    }\n",
       "\n",
       "    .dataframe tbody tr th {\n",
       "        vertical-align: top;\n",
       "    }\n",
       "\n",
       "    .dataframe thead th {\n",
       "        text-align: right;\n",
       "    }\n",
       "</style>\n",
       "<table border=\"1\" class=\"dataframe\">\n",
       "  <thead>\n",
       "    <tr style=\"text-align: right;\">\n",
       "      <th></th>\n",
       "      <th>id</th>\n",
       "      <th>f0</th>\n",
       "      <th>f1</th>\n",
       "      <th>f2</th>\n",
       "      <th>product</th>\n",
       "    </tr>\n",
       "  </thead>\n",
       "  <tbody>\n",
       "    <tr>\n",
       "      <th>0</th>\n",
       "      <td>txEyH</td>\n",
       "      <td>0.705745</td>\n",
       "      <td>-0.497823</td>\n",
       "      <td>1.221170</td>\n",
       "      <td>105.280062</td>\n",
       "    </tr>\n",
       "    <tr>\n",
       "      <th>1</th>\n",
       "      <td>2acmU</td>\n",
       "      <td>1.334711</td>\n",
       "      <td>-0.340164</td>\n",
       "      <td>4.365080</td>\n",
       "      <td>73.037750</td>\n",
       "    </tr>\n",
       "    <tr>\n",
       "      <th>2</th>\n",
       "      <td>409Wp</td>\n",
       "      <td>1.022732</td>\n",
       "      <td>0.151990</td>\n",
       "      <td>1.419926</td>\n",
       "      <td>85.265647</td>\n",
       "    </tr>\n",
       "    <tr>\n",
       "      <th>3</th>\n",
       "      <td>iJLyR</td>\n",
       "      <td>-0.032172</td>\n",
       "      <td>0.139033</td>\n",
       "      <td>2.978566</td>\n",
       "      <td>168.620776</td>\n",
       "    </tr>\n",
       "    <tr>\n",
       "      <th>4</th>\n",
       "      <td>Xdl7t</td>\n",
       "      <td>1.988431</td>\n",
       "      <td>0.155413</td>\n",
       "      <td>4.751769</td>\n",
       "      <td>154.036647</td>\n",
       "    </tr>\n",
       "    <tr>\n",
       "      <th>...</th>\n",
       "      <td>...</td>\n",
       "      <td>...</td>\n",
       "      <td>...</td>\n",
       "      <td>...</td>\n",
       "      <td>...</td>\n",
       "    </tr>\n",
       "    <tr>\n",
       "      <th>99995</th>\n",
       "      <td>DLsed</td>\n",
       "      <td>0.971957</td>\n",
       "      <td>0.370953</td>\n",
       "      <td>6.075346</td>\n",
       "      <td>110.744026</td>\n",
       "    </tr>\n",
       "    <tr>\n",
       "      <th>99996</th>\n",
       "      <td>QKivN</td>\n",
       "      <td>1.392429</td>\n",
       "      <td>-0.382606</td>\n",
       "      <td>1.273912</td>\n",
       "      <td>122.346843</td>\n",
       "    </tr>\n",
       "    <tr>\n",
       "      <th>99997</th>\n",
       "      <td>3rnvd</td>\n",
       "      <td>1.029585</td>\n",
       "      <td>0.018787</td>\n",
       "      <td>-1.348308</td>\n",
       "      <td>64.375443</td>\n",
       "    </tr>\n",
       "    <tr>\n",
       "      <th>99998</th>\n",
       "      <td>7kl59</td>\n",
       "      <td>0.998163</td>\n",
       "      <td>-0.528582</td>\n",
       "      <td>1.583869</td>\n",
       "      <td>74.040764</td>\n",
       "    </tr>\n",
       "    <tr>\n",
       "      <th>99999</th>\n",
       "      <td>1CWhH</td>\n",
       "      <td>1.764754</td>\n",
       "      <td>-0.266417</td>\n",
       "      <td>5.722849</td>\n",
       "      <td>149.633246</td>\n",
       "    </tr>\n",
       "  </tbody>\n",
       "</table>\n",
       "<p>100000 rows × 5 columns</p>\n",
       "</div>"
      ],
      "text/plain": [
       "          id        f0        f1        f2     product\n",
       "0      txEyH  0.705745 -0.497823  1.221170  105.280062\n",
       "1      2acmU  1.334711 -0.340164  4.365080   73.037750\n",
       "2      409Wp  1.022732  0.151990  1.419926   85.265647\n",
       "3      iJLyR -0.032172  0.139033  2.978566  168.620776\n",
       "4      Xdl7t  1.988431  0.155413  4.751769  154.036647\n",
       "...      ...       ...       ...       ...         ...\n",
       "99995  DLsed  0.971957  0.370953  6.075346  110.744026\n",
       "99996  QKivN  1.392429 -0.382606  1.273912  122.346843\n",
       "99997  3rnvd  1.029585  0.018787 -1.348308   64.375443\n",
       "99998  7kl59  0.998163 -0.528582  1.583869   74.040764\n",
       "99999  1CWhH  1.764754 -0.266417  5.722849  149.633246\n",
       "\n",
       "[100000 rows x 5 columns]"
      ]
     },
     "execution_count": 3,
     "metadata": {},
     "output_type": "execute_result"
    }
   ],
   "source": [
    "region1"
   ]
  },
  {
   "cell_type": "code",
   "execution_count": 4,
   "metadata": {},
   "outputs": [
    {
     "name": "stdout",
     "output_type": "stream",
     "text": [
      "<class 'pandas.core.frame.DataFrame'>\n",
      "RangeIndex: 100000 entries, 0 to 99999\n",
      "Data columns (total 5 columns):\n",
      " #   Column   Non-Null Count   Dtype  \n",
      "---  ------   --------------   -----  \n",
      " 0   id       100000 non-null  object \n",
      " 1   f0       100000 non-null  float64\n",
      " 2   f1       100000 non-null  float64\n",
      " 3   f2       100000 non-null  float64\n",
      " 4   product  100000 non-null  float64\n",
      "dtypes: float64(4), object(1)\n",
      "memory usage: 3.8+ MB\n"
     ]
    }
   ],
   "source": [
    "region1.info()"
   ]
  },
  {
   "cell_type": "code",
   "execution_count": 5,
   "metadata": {},
   "outputs": [
    {
     "data": {
      "text/plain": [
       "(100000, 5)"
      ]
     },
     "execution_count": 5,
     "metadata": {},
     "output_type": "execute_result"
    }
   ],
   "source": [
    "region1.shape\n"
   ]
  },
  {
   "cell_type": "code",
   "execution_count": 6,
   "metadata": {},
   "outputs": [
    {
     "data": {
      "text/html": [
       "<div>\n",
       "<style scoped>\n",
       "    .dataframe tbody tr th:only-of-type {\n",
       "        vertical-align: middle;\n",
       "    }\n",
       "\n",
       "    .dataframe tbody tr th {\n",
       "        vertical-align: top;\n",
       "    }\n",
       "\n",
       "    .dataframe thead th {\n",
       "        text-align: right;\n",
       "    }\n",
       "</style>\n",
       "<table border=\"1\" class=\"dataframe\">\n",
       "  <thead>\n",
       "    <tr style=\"text-align: right;\">\n",
       "      <th></th>\n",
       "      <th>id</th>\n",
       "      <th>f0</th>\n",
       "      <th>f1</th>\n",
       "      <th>f2</th>\n",
       "      <th>product</th>\n",
       "    </tr>\n",
       "  </thead>\n",
       "  <tbody>\n",
       "    <tr>\n",
       "      <th>0</th>\n",
       "      <td>kBEdx</td>\n",
       "      <td>-15.001348</td>\n",
       "      <td>-8.276000</td>\n",
       "      <td>-0.005876</td>\n",
       "      <td>3.179103</td>\n",
       "    </tr>\n",
       "    <tr>\n",
       "      <th>1</th>\n",
       "      <td>62mP7</td>\n",
       "      <td>14.272088</td>\n",
       "      <td>-3.475083</td>\n",
       "      <td>0.999183</td>\n",
       "      <td>26.953261</td>\n",
       "    </tr>\n",
       "    <tr>\n",
       "      <th>2</th>\n",
       "      <td>vyE1P</td>\n",
       "      <td>6.263187</td>\n",
       "      <td>-5.948386</td>\n",
       "      <td>5.001160</td>\n",
       "      <td>134.766305</td>\n",
       "    </tr>\n",
       "    <tr>\n",
       "      <th>3</th>\n",
       "      <td>KcrkZ</td>\n",
       "      <td>-13.081196</td>\n",
       "      <td>-11.506057</td>\n",
       "      <td>4.999415</td>\n",
       "      <td>137.945408</td>\n",
       "    </tr>\n",
       "    <tr>\n",
       "      <th>4</th>\n",
       "      <td>AHL4O</td>\n",
       "      <td>12.702195</td>\n",
       "      <td>-8.147433</td>\n",
       "      <td>5.004363</td>\n",
       "      <td>134.766305</td>\n",
       "    </tr>\n",
       "    <tr>\n",
       "      <th>...</th>\n",
       "      <td>...</td>\n",
       "      <td>...</td>\n",
       "      <td>...</td>\n",
       "      <td>...</td>\n",
       "      <td>...</td>\n",
       "    </tr>\n",
       "    <tr>\n",
       "      <th>99995</th>\n",
       "      <td>QywKC</td>\n",
       "      <td>9.535637</td>\n",
       "      <td>-6.878139</td>\n",
       "      <td>1.998296</td>\n",
       "      <td>53.906522</td>\n",
       "    </tr>\n",
       "    <tr>\n",
       "      <th>99996</th>\n",
       "      <td>ptvty</td>\n",
       "      <td>-10.160631</td>\n",
       "      <td>-12.558096</td>\n",
       "      <td>5.005581</td>\n",
       "      <td>137.945408</td>\n",
       "    </tr>\n",
       "    <tr>\n",
       "      <th>99997</th>\n",
       "      <td>09gWa</td>\n",
       "      <td>-7.378891</td>\n",
       "      <td>-3.084104</td>\n",
       "      <td>4.998651</td>\n",
       "      <td>137.945408</td>\n",
       "    </tr>\n",
       "    <tr>\n",
       "      <th>99998</th>\n",
       "      <td>rqwUm</td>\n",
       "      <td>0.665714</td>\n",
       "      <td>-6.152593</td>\n",
       "      <td>1.000146</td>\n",
       "      <td>30.132364</td>\n",
       "    </tr>\n",
       "    <tr>\n",
       "      <th>99999</th>\n",
       "      <td>relB0</td>\n",
       "      <td>-3.426139</td>\n",
       "      <td>-7.794274</td>\n",
       "      <td>-0.003299</td>\n",
       "      <td>3.179103</td>\n",
       "    </tr>\n",
       "  </tbody>\n",
       "</table>\n",
       "<p>100000 rows × 5 columns</p>\n",
       "</div>"
      ],
      "text/plain": [
       "          id         f0         f1        f2     product\n",
       "0      kBEdx -15.001348  -8.276000 -0.005876    3.179103\n",
       "1      62mP7  14.272088  -3.475083  0.999183   26.953261\n",
       "2      vyE1P   6.263187  -5.948386  5.001160  134.766305\n",
       "3      KcrkZ -13.081196 -11.506057  4.999415  137.945408\n",
       "4      AHL4O  12.702195  -8.147433  5.004363  134.766305\n",
       "...      ...        ...        ...       ...         ...\n",
       "99995  QywKC   9.535637  -6.878139  1.998296   53.906522\n",
       "99996  ptvty -10.160631 -12.558096  5.005581  137.945408\n",
       "99997  09gWa  -7.378891  -3.084104  4.998651  137.945408\n",
       "99998  rqwUm   0.665714  -6.152593  1.000146   30.132364\n",
       "99999  relB0  -3.426139  -7.794274 -0.003299    3.179103\n",
       "\n",
       "[100000 rows x 5 columns]"
      ]
     },
     "execution_count": 6,
     "metadata": {},
     "output_type": "execute_result"
    }
   ],
   "source": [
    "region2"
   ]
  },
  {
   "cell_type": "code",
   "execution_count": 7,
   "metadata": {},
   "outputs": [
    {
     "name": "stdout",
     "output_type": "stream",
     "text": [
      "<class 'pandas.core.frame.DataFrame'>\n",
      "RangeIndex: 100000 entries, 0 to 99999\n",
      "Data columns (total 5 columns):\n",
      " #   Column   Non-Null Count   Dtype  \n",
      "---  ------   --------------   -----  \n",
      " 0   id       100000 non-null  object \n",
      " 1   f0       100000 non-null  float64\n",
      " 2   f1       100000 non-null  float64\n",
      " 3   f2       100000 non-null  float64\n",
      " 4   product  100000 non-null  float64\n",
      "dtypes: float64(4), object(1)\n",
      "memory usage: 3.8+ MB\n"
     ]
    }
   ],
   "source": [
    "region2.info()"
   ]
  },
  {
   "cell_type": "code",
   "execution_count": 8,
   "metadata": {},
   "outputs": [
    {
     "data": {
      "text/plain": [
       "(100000, 5)"
      ]
     },
     "execution_count": 8,
     "metadata": {},
     "output_type": "execute_result"
    }
   ],
   "source": [
    "region2.shape"
   ]
  },
  {
   "cell_type": "code",
   "execution_count": 9,
   "metadata": {},
   "outputs": [
    {
     "name": "stdout",
     "output_type": "stream",
     "text": [
      "<class 'pandas.core.frame.DataFrame'>\n",
      "RangeIndex: 100000 entries, 0 to 99999\n",
      "Data columns (total 5 columns):\n",
      " #   Column   Non-Null Count   Dtype  \n",
      "---  ------   --------------   -----  \n",
      " 0   id       100000 non-null  object \n",
      " 1   f0       100000 non-null  float64\n",
      " 2   f1       100000 non-null  float64\n",
      " 3   f2       100000 non-null  float64\n",
      " 4   product  100000 non-null  float64\n",
      "dtypes: float64(4), object(1)\n",
      "memory usage: 3.8+ MB\n"
     ]
    }
   ],
   "source": [
    "region3.info()"
   ]
  },
  {
   "cell_type": "code",
   "execution_count": 10,
   "metadata": {},
   "outputs": [
    {
     "data": {
      "text/plain": [
       "(100000, 5)"
      ]
     },
     "execution_count": 10,
     "metadata": {},
     "output_type": "execute_result"
    }
   ],
   "source": [
    "region3.shape"
   ]
  },
  {
   "cell_type": "markdown",
   "metadata": {},
   "source": [
    "* All three datasets are ready for model building "
   ]
  },
  {
   "cell_type": "code",
   "execution_count": 11,
   "metadata": {},
   "outputs": [
    {
     "data": {
      "text/html": [
       "<div>\n",
       "<style scoped>\n",
       "    .dataframe tbody tr th:only-of-type {\n",
       "        vertical-align: middle;\n",
       "    }\n",
       "\n",
       "    .dataframe tbody tr th {\n",
       "        vertical-align: top;\n",
       "    }\n",
       "\n",
       "    .dataframe thead th {\n",
       "        text-align: right;\n",
       "    }\n",
       "</style>\n",
       "<table border=\"1\" class=\"dataframe\">\n",
       "  <thead>\n",
       "    <tr style=\"text-align: right;\">\n",
       "      <th></th>\n",
       "      <th>id</th>\n",
       "      <th>f0</th>\n",
       "      <th>f1</th>\n",
       "      <th>f2</th>\n",
       "      <th>product</th>\n",
       "    </tr>\n",
       "  </thead>\n",
       "  <tbody>\n",
       "    <tr>\n",
       "      <th>0</th>\n",
       "      <td>txEyH</td>\n",
       "      <td>0.705745</td>\n",
       "      <td>-0.497823</td>\n",
       "      <td>1.221170</td>\n",
       "      <td>105.280062</td>\n",
       "    </tr>\n",
       "    <tr>\n",
       "      <th>1</th>\n",
       "      <td>2acmU</td>\n",
       "      <td>1.334711</td>\n",
       "      <td>-0.340164</td>\n",
       "      <td>4.365080</td>\n",
       "      <td>73.037750</td>\n",
       "    </tr>\n",
       "    <tr>\n",
       "      <th>2</th>\n",
       "      <td>409Wp</td>\n",
       "      <td>1.022732</td>\n",
       "      <td>0.151990</td>\n",
       "      <td>1.419926</td>\n",
       "      <td>85.265647</td>\n",
       "    </tr>\n",
       "    <tr>\n",
       "      <th>3</th>\n",
       "      <td>iJLyR</td>\n",
       "      <td>-0.032172</td>\n",
       "      <td>0.139033</td>\n",
       "      <td>2.978566</td>\n",
       "      <td>168.620776</td>\n",
       "    </tr>\n",
       "    <tr>\n",
       "      <th>4</th>\n",
       "      <td>Xdl7t</td>\n",
       "      <td>1.988431</td>\n",
       "      <td>0.155413</td>\n",
       "      <td>4.751769</td>\n",
       "      <td>154.036647</td>\n",
       "    </tr>\n",
       "    <tr>\n",
       "      <th>...</th>\n",
       "      <td>...</td>\n",
       "      <td>...</td>\n",
       "      <td>...</td>\n",
       "      <td>...</td>\n",
       "      <td>...</td>\n",
       "    </tr>\n",
       "    <tr>\n",
       "      <th>99995</th>\n",
       "      <td>DLsed</td>\n",
       "      <td>0.971957</td>\n",
       "      <td>0.370953</td>\n",
       "      <td>6.075346</td>\n",
       "      <td>110.744026</td>\n",
       "    </tr>\n",
       "    <tr>\n",
       "      <th>99996</th>\n",
       "      <td>QKivN</td>\n",
       "      <td>1.392429</td>\n",
       "      <td>-0.382606</td>\n",
       "      <td>1.273912</td>\n",
       "      <td>122.346843</td>\n",
       "    </tr>\n",
       "    <tr>\n",
       "      <th>99997</th>\n",
       "      <td>3rnvd</td>\n",
       "      <td>1.029585</td>\n",
       "      <td>0.018787</td>\n",
       "      <td>-1.348308</td>\n",
       "      <td>64.375443</td>\n",
       "    </tr>\n",
       "    <tr>\n",
       "      <th>99998</th>\n",
       "      <td>7kl59</td>\n",
       "      <td>0.998163</td>\n",
       "      <td>-0.528582</td>\n",
       "      <td>1.583869</td>\n",
       "      <td>74.040764</td>\n",
       "    </tr>\n",
       "    <tr>\n",
       "      <th>99999</th>\n",
       "      <td>1CWhH</td>\n",
       "      <td>1.764754</td>\n",
       "      <td>-0.266417</td>\n",
       "      <td>5.722849</td>\n",
       "      <td>149.633246</td>\n",
       "    </tr>\n",
       "  </tbody>\n",
       "</table>\n",
       "<p>100000 rows × 5 columns</p>\n",
       "</div>"
      ],
      "text/plain": [
       "          id        f0        f1        f2     product\n",
       "0      txEyH  0.705745 -0.497823  1.221170  105.280062\n",
       "1      2acmU  1.334711 -0.340164  4.365080   73.037750\n",
       "2      409Wp  1.022732  0.151990  1.419926   85.265647\n",
       "3      iJLyR -0.032172  0.139033  2.978566  168.620776\n",
       "4      Xdl7t  1.988431  0.155413  4.751769  154.036647\n",
       "...      ...       ...       ...       ...         ...\n",
       "99995  DLsed  0.971957  0.370953  6.075346  110.744026\n",
       "99996  QKivN  1.392429 -0.382606  1.273912  122.346843\n",
       "99997  3rnvd  1.029585  0.018787 -1.348308   64.375443\n",
       "99998  7kl59  0.998163 -0.528582  1.583869   74.040764\n",
       "99999  1CWhH  1.764754 -0.266417  5.722849  149.633246\n",
       "\n",
       "[100000 rows x 5 columns]"
      ]
     },
     "execution_count": 11,
     "metadata": {},
     "output_type": "execute_result"
    }
   ],
   "source": [
    "region1"
   ]
  },
  {
   "cell_type": "code",
   "execution_count": 12,
   "metadata": {},
   "outputs": [],
   "source": [
    "region1=region1.drop([\"id\"], axis=1)"
   ]
  },
  {
   "cell_type": "code",
   "execution_count": 13,
   "metadata": {
    "scrolled": false
   },
   "outputs": [
    {
     "data": {
      "text/html": [
       "<div>\n",
       "<style scoped>\n",
       "    .dataframe tbody tr th:only-of-type {\n",
       "        vertical-align: middle;\n",
       "    }\n",
       "\n",
       "    .dataframe tbody tr th {\n",
       "        vertical-align: top;\n",
       "    }\n",
       "\n",
       "    .dataframe thead th {\n",
       "        text-align: right;\n",
       "    }\n",
       "</style>\n",
       "<table border=\"1\" class=\"dataframe\">\n",
       "  <thead>\n",
       "    <tr style=\"text-align: right;\">\n",
       "      <th></th>\n",
       "      <th>f0</th>\n",
       "      <th>f1</th>\n",
       "      <th>f2</th>\n",
       "      <th>product</th>\n",
       "    </tr>\n",
       "  </thead>\n",
       "  <tbody>\n",
       "    <tr>\n",
       "      <th>0</th>\n",
       "      <td>0.705745</td>\n",
       "      <td>-0.497823</td>\n",
       "      <td>1.221170</td>\n",
       "      <td>105.280062</td>\n",
       "    </tr>\n",
       "    <tr>\n",
       "      <th>1</th>\n",
       "      <td>1.334711</td>\n",
       "      <td>-0.340164</td>\n",
       "      <td>4.365080</td>\n",
       "      <td>73.037750</td>\n",
       "    </tr>\n",
       "    <tr>\n",
       "      <th>2</th>\n",
       "      <td>1.022732</td>\n",
       "      <td>0.151990</td>\n",
       "      <td>1.419926</td>\n",
       "      <td>85.265647</td>\n",
       "    </tr>\n",
       "    <tr>\n",
       "      <th>3</th>\n",
       "      <td>-0.032172</td>\n",
       "      <td>0.139033</td>\n",
       "      <td>2.978566</td>\n",
       "      <td>168.620776</td>\n",
       "    </tr>\n",
       "    <tr>\n",
       "      <th>4</th>\n",
       "      <td>1.988431</td>\n",
       "      <td>0.155413</td>\n",
       "      <td>4.751769</td>\n",
       "      <td>154.036647</td>\n",
       "    </tr>\n",
       "    <tr>\n",
       "      <th>...</th>\n",
       "      <td>...</td>\n",
       "      <td>...</td>\n",
       "      <td>...</td>\n",
       "      <td>...</td>\n",
       "    </tr>\n",
       "    <tr>\n",
       "      <th>99995</th>\n",
       "      <td>0.971957</td>\n",
       "      <td>0.370953</td>\n",
       "      <td>6.075346</td>\n",
       "      <td>110.744026</td>\n",
       "    </tr>\n",
       "    <tr>\n",
       "      <th>99996</th>\n",
       "      <td>1.392429</td>\n",
       "      <td>-0.382606</td>\n",
       "      <td>1.273912</td>\n",
       "      <td>122.346843</td>\n",
       "    </tr>\n",
       "    <tr>\n",
       "      <th>99997</th>\n",
       "      <td>1.029585</td>\n",
       "      <td>0.018787</td>\n",
       "      <td>-1.348308</td>\n",
       "      <td>64.375443</td>\n",
       "    </tr>\n",
       "    <tr>\n",
       "      <th>99998</th>\n",
       "      <td>0.998163</td>\n",
       "      <td>-0.528582</td>\n",
       "      <td>1.583869</td>\n",
       "      <td>74.040764</td>\n",
       "    </tr>\n",
       "    <tr>\n",
       "      <th>99999</th>\n",
       "      <td>1.764754</td>\n",
       "      <td>-0.266417</td>\n",
       "      <td>5.722849</td>\n",
       "      <td>149.633246</td>\n",
       "    </tr>\n",
       "  </tbody>\n",
       "</table>\n",
       "<p>100000 rows × 4 columns</p>\n",
       "</div>"
      ],
      "text/plain": [
       "             f0        f1        f2     product\n",
       "0      0.705745 -0.497823  1.221170  105.280062\n",
       "1      1.334711 -0.340164  4.365080   73.037750\n",
       "2      1.022732  0.151990  1.419926   85.265647\n",
       "3     -0.032172  0.139033  2.978566  168.620776\n",
       "4      1.988431  0.155413  4.751769  154.036647\n",
       "...         ...       ...       ...         ...\n",
       "99995  0.971957  0.370953  6.075346  110.744026\n",
       "99996  1.392429 -0.382606  1.273912  122.346843\n",
       "99997  1.029585  0.018787 -1.348308   64.375443\n",
       "99998  0.998163 -0.528582  1.583869   74.040764\n",
       "99999  1.764754 -0.266417  5.722849  149.633246\n",
       "\n",
       "[100000 rows x 4 columns]"
      ]
     },
     "execution_count": 13,
     "metadata": {},
     "output_type": "execute_result"
    }
   ],
   "source": [
    "region1"
   ]
  },
  {
   "cell_type": "code",
   "execution_count": 14,
   "metadata": {},
   "outputs": [
    {
     "data": {
      "text/plain": [
       "f0         0\n",
       "f1         0\n",
       "f2         0\n",
       "product    0\n",
       "dtype: int64"
      ]
     },
     "execution_count": 14,
     "metadata": {},
     "output_type": "execute_result"
    }
   ],
   "source": [
    "region1.isna().sum()"
   ]
  },
  {
   "cell_type": "markdown",
   "metadata": {},
   "source": [
    "# TRAIN THE MODEL: REGION 1"
   ]
  },
  {
   "cell_type": "code",
   "execution_count": 15,
   "metadata": {},
   "outputs": [],
   "source": [
    "features=region1.drop([\"product\"], axis=1)\n",
    "target=region1[\"product\"]"
   ]
  },
  {
   "cell_type": "code",
   "execution_count": 16,
   "metadata": {
    "scrolled": true
   },
   "outputs": [
    {
     "data": {
      "text/plain": [
       "(100000,)"
      ]
     },
     "execution_count": 16,
     "metadata": {},
     "output_type": "execute_result"
    }
   ],
   "source": [
    "target.shape"
   ]
  },
  {
   "cell_type": "code",
   "execution_count": 17,
   "metadata": {
    "scrolled": true
   },
   "outputs": [
    {
     "data": {
      "text/plain": [
       "(100000, 3)"
      ]
     },
     "execution_count": 17,
     "metadata": {},
     "output_type": "execute_result"
    }
   ],
   "source": [
    "features.shape"
   ]
  },
  {
   "cell_type": "code",
   "execution_count": 18,
   "metadata": {
    "scrolled": true
   },
   "outputs": [
    {
     "data": {
      "text/plain": [
       "<AxesSubplot:>"
      ]
     },
     "execution_count": 18,
     "metadata": {},
     "output_type": "execute_result"
    },
    {
     "data": {
      "image/png": "[encoded data removed]",
      "text/plain": [
       "<Figure size 432x288 with 1 Axes>"
      ]
     },
     "metadata": {
      "needs_background": "light"
     },
     "output_type": "display_data"
    }
   ],
   "source": [
    "target.hist()"
   ]
  },
  {
   "cell_type": "markdown",
   "metadata": {},
   "source": [
    "* Majority of wells in this region have a volume of reserves that fall between about 20-160 thousand barrels of oil.\n",
    "Note: product — volume of reserves in the oil well (thousand barrels)."
   ]
  },
  {
   "cell_type": "code",
   "execution_count": 19,
   "metadata": {},
   "outputs": [],
   "source": [
    "region1_train, region1_valid = train_test_split(region1, test_size=0.25, random_state=12345)\n"
   ]
  },
  {
   "cell_type": "code",
   "execution_count": 20,
   "metadata": {},
   "outputs": [],
   "source": [
    "features_train = region1_train.drop([\"product\"], axis=1)\n",
    "target_train = region1_train['product']\n",
    "features_valid = region1_valid.drop(['product'], axis=1)\n",
    "target_valid = region1_valid['product']\n"
   ]
  },
  {
   "cell_type": "code",
   "execution_count": 21,
   "metadata": {},
   "outputs": [
    {
     "name": "stdout",
     "output_type": "stream",
     "text": [
      "Training set size is 0.75\n",
      "Validation set size is 0.25\n"
     ]
    }
   ],
   "source": [
    "print(\"Training set size is\", len(region1_train)/len(region1))\n",
    "print(\"Validation set size is\", len(region1_valid)/len(region1))\n"
   ]
  },
  {
   "cell_type": "code",
   "execution_count": 22,
   "metadata": {},
   "outputs": [
    {
     "name": "stdout",
     "output_type": "stream",
     "text": [
      "(75000, 3)\n",
      "(25000, 3)\n"
     ]
    }
   ],
   "source": [
    "scaler=StandardScaler()\n",
    "scaler.fit(features_train)\n",
    "features_valid=scaler.transform(features_valid)\n",
    "print(features_train.shape)\n",
    "print(features_valid.shape)"
   ]
  },
  {
   "cell_type": "code",
   "execution_count": 23,
   "metadata": {},
   "outputs": [
    {
     "name": "stdout",
     "output_type": "stream",
     "text": [
      "(75000, 3)\n"
     ]
    }
   ],
   "source": [
    "scaler=StandardScaler()\n",
    "scaler.fit(features_train)\n",
    "features_train=scaler.transform(features_train)\n",
    "print(features_train.shape)"
   ]
  },
  {
   "cell_type": "code",
   "execution_count": 24,
   "metadata": {},
   "outputs": [
    {
     "name": "stdout",
     "output_type": "stream",
     "text": [
      "Linear Regression\n",
      "Average volume of predicted reserves is in thousands 92.59256778438035\n",
      "MSE = 1412.2129364399243\n",
      "RMSE = 37.5794217150813\n"
     ]
    }
   ],
   "source": [
    "model = LinearRegression()\n",
    "model.fit(features_train, target_train)\n",
    "predicted_valid = model.predict(features_valid)\n",
    "mse = mean_squared_error(target_valid, predicted_valid)\n",
    "\n",
    "print('Linear Regression')\n",
    "print(\"Average volume of predicted reserves is in thousands\", predicted_valid.mean())\n",
    "print('MSE =', mse)\n",
    "print('RMSE =', mse ** 0.5)\n"
   ]
  },
  {
   "cell_type": "code",
   "execution_count": 25,
   "metadata": {},
   "outputs": [
    {
     "name": "stdout",
     "output_type": "stream",
     "text": [
      "RMSE = 44.289591053907365\n"
     ]
    }
   ],
   "source": [
    "predicted_valid_constant=pd.Series(target_train.mean(), index=target_valid.index)\n",
    "mse_constant=mean_squared_error(target_valid, predicted_valid_constant)\n",
    "print('RMSE =', mse_constant ** 0.5)"
   ]
  },
  {
   "cell_type": "markdown",
   "metadata": {},
   "source": [
    "* The resulting RMSE for the model in region1 is 65.312 (thousand barrels). This is rather high, especially when compared to the constant(mean) model above (44.289 thousand barrels). This indicates that the model "
   ]
  },
  {
   "cell_type": "markdown",
   "metadata": {},
   "source": [
    "# PREPARE REGION 2 FOR TRAINING"
   ]
  },
  {
   "cell_type": "code",
   "execution_count": 26,
   "metadata": {},
   "outputs": [],
   "source": [
    "\n",
    "region2=region2.drop([\"id\"], axis=1)"
   ]
  },
  {
   "cell_type": "code",
   "execution_count": 27,
   "metadata": {
    "scrolled": true
   },
   "outputs": [
    {
     "data": {
      "text/html": [
       "<div>\n",
       "<style scoped>\n",
       "    .dataframe tbody tr th:only-of-type {\n",
       "        vertical-align: middle;\n",
       "    }\n",
       "\n",
       "    .dataframe tbody tr th {\n",
       "        vertical-align: top;\n",
       "    }\n",
       "\n",
       "    .dataframe thead th {\n",
       "        text-align: right;\n",
       "    }\n",
       "</style>\n",
       "<table border=\"1\" class=\"dataframe\">\n",
       "  <thead>\n",
       "    <tr style=\"text-align: right;\">\n",
       "      <th></th>\n",
       "      <th>f0</th>\n",
       "      <th>f1</th>\n",
       "      <th>f2</th>\n",
       "      <th>product</th>\n",
       "    </tr>\n",
       "  </thead>\n",
       "  <tbody>\n",
       "    <tr>\n",
       "      <th>0</th>\n",
       "      <td>-15.001348</td>\n",
       "      <td>-8.276000</td>\n",
       "      <td>-0.005876</td>\n",
       "      <td>3.179103</td>\n",
       "    </tr>\n",
       "    <tr>\n",
       "      <th>1</th>\n",
       "      <td>14.272088</td>\n",
       "      <td>-3.475083</td>\n",
       "      <td>0.999183</td>\n",
       "      <td>26.953261</td>\n",
       "    </tr>\n",
       "    <tr>\n",
       "      <th>2</th>\n",
       "      <td>6.263187</td>\n",
       "      <td>-5.948386</td>\n",
       "      <td>5.001160</td>\n",
       "      <td>134.766305</td>\n",
       "    </tr>\n",
       "    <tr>\n",
       "      <th>3</th>\n",
       "      <td>-13.081196</td>\n",
       "      <td>-11.506057</td>\n",
       "      <td>4.999415</td>\n",
       "      <td>137.945408</td>\n",
       "    </tr>\n",
       "    <tr>\n",
       "      <th>4</th>\n",
       "      <td>12.702195</td>\n",
       "      <td>-8.147433</td>\n",
       "      <td>5.004363</td>\n",
       "      <td>134.766305</td>\n",
       "    </tr>\n",
       "    <tr>\n",
       "      <th>...</th>\n",
       "      <td>...</td>\n",
       "      <td>...</td>\n",
       "      <td>...</td>\n",
       "      <td>...</td>\n",
       "    </tr>\n",
       "    <tr>\n",
       "      <th>99995</th>\n",
       "      <td>9.535637</td>\n",
       "      <td>-6.878139</td>\n",
       "      <td>1.998296</td>\n",
       "      <td>53.906522</td>\n",
       "    </tr>\n",
       "    <tr>\n",
       "      <th>99996</th>\n",
       "      <td>-10.160631</td>\n",
       "      <td>-12.558096</td>\n",
       "      <td>5.005581</td>\n",
       "      <td>137.945408</td>\n",
       "    </tr>\n",
       "    <tr>\n",
       "      <th>99997</th>\n",
       "      <td>-7.378891</td>\n",
       "      <td>-3.084104</td>\n",
       "      <td>4.998651</td>\n",
       "      <td>137.945408</td>\n",
       "    </tr>\n",
       "    <tr>\n",
       "      <th>99998</th>\n",
       "      <td>0.665714</td>\n",
       "      <td>-6.152593</td>\n",
       "      <td>1.000146</td>\n",
       "      <td>30.132364</td>\n",
       "    </tr>\n",
       "    <tr>\n",
       "      <th>99999</th>\n",
       "      <td>-3.426139</td>\n",
       "      <td>-7.794274</td>\n",
       "      <td>-0.003299</td>\n",
       "      <td>3.179103</td>\n",
       "    </tr>\n",
       "  </tbody>\n",
       "</table>\n",
       "<p>100000 rows × 4 columns</p>\n",
       "</div>"
      ],
      "text/plain": [
       "              f0         f1        f2     product\n",
       "0     -15.001348  -8.276000 -0.005876    3.179103\n",
       "1      14.272088  -3.475083  0.999183   26.953261\n",
       "2       6.263187  -5.948386  5.001160  134.766305\n",
       "3     -13.081196 -11.506057  4.999415  137.945408\n",
       "4      12.702195  -8.147433  5.004363  134.766305\n",
       "...          ...        ...       ...         ...\n",
       "99995   9.535637  -6.878139  1.998296   53.906522\n",
       "99996 -10.160631 -12.558096  5.005581  137.945408\n",
       "99997  -7.378891  -3.084104  4.998651  137.945408\n",
       "99998   0.665714  -6.152593  1.000146   30.132364\n",
       "99999  -3.426139  -7.794274 -0.003299    3.179103\n",
       "\n",
       "[100000 rows x 4 columns]"
      ]
     },
     "execution_count": 27,
     "metadata": {},
     "output_type": "execute_result"
    }
   ],
   "source": [
    "region2"
   ]
  },
  {
   "cell_type": "markdown",
   "metadata": {},
   "source": [
    "# TRAIN THE MODEL: REGION2"
   ]
  },
  {
   "cell_type": "code",
   "execution_count": 28,
   "metadata": {},
   "outputs": [],
   "source": [
    "features2=region2.drop([\"product\"], axis=1)\n",
    "target2=region2[\"product\"]"
   ]
  },
  {
   "cell_type": "code",
   "execution_count": 29,
   "metadata": {
    "scrolled": true
   },
   "outputs": [
    {
     "data": {
      "text/plain": [
       "<AxesSubplot:>"
      ]
     },
     "execution_count": 29,
     "metadata": {},
     "output_type": "execute_result"
    },
    {
     "data": {
      "image/png": "[encoded data removed]",
      "text/plain": [
       "<Figure size 432x288 with 1 Axes>"
      ]
     },
     "metadata": {
      "needs_background": "light"
     },
     "output_type": "display_data"
    }
   ],
   "source": [
    "target2.hist()\n"
   ]
  },
  {
   "cell_type": "code",
   "execution_count": 30,
   "metadata": {
    "scrolled": true
   },
   "outputs": [
    {
     "name": "stdout",
     "output_type": "stream",
     "text": [
      "137.94540774090564\n",
      "0.0\n"
     ]
    }
   ],
   "source": [
    "print(target2.max())\n",
    "print(target2.min())\n"
   ]
  },
  {
   "cell_type": "markdown",
   "metadata": {},
   "source": [
    "* The distribiution of the target variable in the region2 dataset looks varies considerably from the region1 dataset. There does seem to be outliers in this dataset. \n",
    "\n",
    "* There is a high number that contain between 0-10 thousand barrels. In addition, a high number of reserves falls between 120-138 thousand barrels."
   ]
  },
  {
   "cell_type": "code",
   "execution_count": 31,
   "metadata": {},
   "outputs": [],
   "source": [
    "region2_train, region2_valid = train_test_split(region2, test_size=0.25, random_state=12345)\n"
   ]
  },
  {
   "cell_type": "code",
   "execution_count": 32,
   "metadata": {},
   "outputs": [],
   "source": [
    "features_train2 = region2_train.drop([\"product\"], axis=1)\n",
    "target_train2 = region2_train['product']\n",
    "features_valid2 = region2_valid.drop(['product'], axis=1)\n",
    "target_valid2 = region2_valid['product']\n"
   ]
  },
  {
   "cell_type": "code",
   "execution_count": 33,
   "metadata": {},
   "outputs": [
    {
     "name": "stdout",
     "output_type": "stream",
     "text": [
      "(75000, 3)\n",
      "(25000, 3)\n"
     ]
    }
   ],
   "source": [
    "scaler=StandardScaler()\n",
    "scaler.fit(features_train2)\n",
    "features_valid2=scaler.transform(features_valid2)\n",
    "features_train2=scaler.transform(features_train2)\n",
    "print(features_train2.shape)\n",
    "print(features_valid2.shape)"
   ]
  },
  {
   "cell_type": "markdown",
   "metadata": {},
   "source": [
    "# TRAIN THE MODEL: REGION 2"
   ]
  },
  {
   "cell_type": "code",
   "execution_count": 34,
   "metadata": {},
   "outputs": [
    {
     "name": "stdout",
     "output_type": "stream",
     "text": [
      "Linear Regression\n",
      "Average volume of predicted reserves is in thousands 68.728546895446\n",
      "MSE = 0.7976263360391157\n",
      "RMSE = 0.893099286775617\n"
     ]
    }
   ],
   "source": [
    "model2 = LinearRegression()\n",
    "model2.fit(features_train2, target_train2)\n",
    "predicted_valid2 = model2.predict(features_valid2)\n",
    "mse2 = mean_squared_error(target_valid2, predicted_valid2)\n",
    "\n",
    "print('Linear Regression')\n",
    "print(\"Average volume of predicted reserves is in thousands\", predicted_valid2.mean())\n",
    "print('MSE =', mse2)\n",
    "print('RMSE =', mse2 ** 0.5)\n"
   ]
  },
  {
   "cell_type": "markdown",
   "metadata": {},
   "source": [
    "* The RMSE is much higher in region2 dataset compared to region1 dataset, but it is important to note that the average volume of reserves is also higher. I will compare to constant model for further analysis."
   ]
  },
  {
   "cell_type": "code",
   "execution_count": 35,
   "metadata": {},
   "outputs": [
    {
     "name": "stdout",
     "output_type": "stream",
     "text": [
      "RMSE = 46.02144533725462\n"
     ]
    }
   ],
   "source": [
    "predicted_valid_constant2=pd.Series(target_train2.mean(), index=target_valid2.index)\n",
    "mse_constant2=mean_squared_error(target_valid2, predicted_valid_constant2)\n",
    "print('RMSE =', mse_constant2 ** 0.5)"
   ]
  },
  {
   "cell_type": "markdown",
   "metadata": {},
   "source": [
    "* The constant model results in an RMSE of only 46.02, which indicates that this model predicts the target rather poorly. The large difference between the constant model RMSE and the actual model used might also imply that there are more outliers in this dataset as opposed to region1."
   ]
  },
  {
   "cell_type": "markdown",
   "metadata": {},
   "source": [
    "# PREPARE REGION 3 FOR TRAINING"
   ]
  },
  {
   "cell_type": "code",
   "execution_count": 36,
   "metadata": {},
   "outputs": [],
   "source": [
    "\n",
    "region3=region3.drop([\"id\"], axis=1)"
   ]
  },
  {
   "cell_type": "code",
   "execution_count": 37,
   "metadata": {},
   "outputs": [
    {
     "data": {
      "text/html": [
       "<div>\n",
       "<style scoped>\n",
       "    .dataframe tbody tr th:only-of-type {\n",
       "        vertical-align: middle;\n",
       "    }\n",
       "\n",
       "    .dataframe tbody tr th {\n",
       "        vertical-align: top;\n",
       "    }\n",
       "\n",
       "    .dataframe thead th {\n",
       "        text-align: right;\n",
       "    }\n",
       "</style>\n",
       "<table border=\"1\" class=\"dataframe\">\n",
       "  <thead>\n",
       "    <tr style=\"text-align: right;\">\n",
       "      <th></th>\n",
       "      <th>f0</th>\n",
       "      <th>f1</th>\n",
       "      <th>f2</th>\n",
       "      <th>product</th>\n",
       "    </tr>\n",
       "  </thead>\n",
       "  <tbody>\n",
       "    <tr>\n",
       "      <th>0</th>\n",
       "      <td>-1.146987</td>\n",
       "      <td>0.963328</td>\n",
       "      <td>-0.828965</td>\n",
       "      <td>27.758673</td>\n",
       "    </tr>\n",
       "    <tr>\n",
       "      <th>1</th>\n",
       "      <td>0.262778</td>\n",
       "      <td>0.269839</td>\n",
       "      <td>-2.530187</td>\n",
       "      <td>56.069697</td>\n",
       "    </tr>\n",
       "    <tr>\n",
       "      <th>2</th>\n",
       "      <td>0.194587</td>\n",
       "      <td>0.289035</td>\n",
       "      <td>-5.586433</td>\n",
       "      <td>62.871910</td>\n",
       "    </tr>\n",
       "    <tr>\n",
       "      <th>3</th>\n",
       "      <td>2.236060</td>\n",
       "      <td>-0.553760</td>\n",
       "      <td>0.930038</td>\n",
       "      <td>114.572842</td>\n",
       "    </tr>\n",
       "    <tr>\n",
       "      <th>4</th>\n",
       "      <td>-0.515993</td>\n",
       "      <td>1.716266</td>\n",
       "      <td>5.899011</td>\n",
       "      <td>149.600746</td>\n",
       "    </tr>\n",
       "    <tr>\n",
       "      <th>...</th>\n",
       "      <td>...</td>\n",
       "      <td>...</td>\n",
       "      <td>...</td>\n",
       "      <td>...</td>\n",
       "    </tr>\n",
       "    <tr>\n",
       "      <th>99995</th>\n",
       "      <td>-1.777037</td>\n",
       "      <td>1.125220</td>\n",
       "      <td>6.263374</td>\n",
       "      <td>172.327046</td>\n",
       "    </tr>\n",
       "    <tr>\n",
       "      <th>99996</th>\n",
       "      <td>-1.261523</td>\n",
       "      <td>-0.894828</td>\n",
       "      <td>2.524545</td>\n",
       "      <td>138.748846</td>\n",
       "    </tr>\n",
       "    <tr>\n",
       "      <th>99997</th>\n",
       "      <td>-1.199934</td>\n",
       "      <td>-2.957637</td>\n",
       "      <td>5.219411</td>\n",
       "      <td>157.080080</td>\n",
       "    </tr>\n",
       "    <tr>\n",
       "      <th>99998</th>\n",
       "      <td>-2.419896</td>\n",
       "      <td>2.417221</td>\n",
       "      <td>-5.548444</td>\n",
       "      <td>51.795253</td>\n",
       "    </tr>\n",
       "    <tr>\n",
       "      <th>99999</th>\n",
       "      <td>-2.551421</td>\n",
       "      <td>-2.025625</td>\n",
       "      <td>6.090891</td>\n",
       "      <td>102.775767</td>\n",
       "    </tr>\n",
       "  </tbody>\n",
       "</table>\n",
       "<p>100000 rows × 4 columns</p>\n",
       "</div>"
      ],
      "text/plain": [
       "             f0        f1        f2     product\n",
       "0     -1.146987  0.963328 -0.828965   27.758673\n",
       "1      0.262778  0.269839 -2.530187   56.069697\n",
       "2      0.194587  0.289035 -5.586433   62.871910\n",
       "3      2.236060 -0.553760  0.930038  114.572842\n",
       "4     -0.515993  1.716266  5.899011  149.600746\n",
       "...         ...       ...       ...         ...\n",
       "99995 -1.777037  1.125220  6.263374  172.327046\n",
       "99996 -1.261523 -0.894828  2.524545  138.748846\n",
       "99997 -1.199934 -2.957637  5.219411  157.080080\n",
       "99998 -2.419896  2.417221 -5.548444   51.795253\n",
       "99999 -2.551421 -2.025625  6.090891  102.775767\n",
       "\n",
       "[100000 rows x 4 columns]"
      ]
     },
     "execution_count": 37,
     "metadata": {},
     "output_type": "execute_result"
    }
   ],
   "source": [
    "region3\n"
   ]
  },
  {
   "cell_type": "code",
   "execution_count": 38,
   "metadata": {},
   "outputs": [],
   "source": [
    "features3=region3.drop([\"product\"], axis=1)\n",
    "target3=region3[\"product\"]"
   ]
  },
  {
   "cell_type": "code",
   "execution_count": 39,
   "metadata": {},
   "outputs": [
    {
     "data": {
      "text/plain": [
       "<AxesSubplot:>"
      ]
     },
     "execution_count": 39,
     "metadata": {},
     "output_type": "execute_result"
    },
    {
     "data": {
      "image/png": "[encoded data removed]",
      "text/plain": [
       "<Figure size 432x288 with 1 Axes>"
      ]
     },
     "metadata": {
      "needs_background": "light"
     },
     "output_type": "display_data"
    }
   ],
   "source": [
    "target3.hist()"
   ]
  },
  {
   "cell_type": "markdown",
   "metadata": {},
   "source": [
    "* The distribution of the target variable here looks quite spread out, similar to region1. "
   ]
  },
  {
   "cell_type": "code",
   "execution_count": 40,
   "metadata": {},
   "outputs": [
    {
     "name": "stdout",
     "output_type": "stream",
     "text": [
      "190.0298383433513\n",
      "0.0\n"
     ]
    }
   ],
   "source": [
    "print(target3.max())\n",
    "print(target3.min())"
   ]
  },
  {
   "cell_type": "code",
   "execution_count": 41,
   "metadata": {},
   "outputs": [],
   "source": [
    "region3_train, region3_valid = train_test_split(region3, test_size=0.25, random_state=12345)\n"
   ]
  },
  {
   "cell_type": "code",
   "execution_count": 42,
   "metadata": {},
   "outputs": [],
   "source": [
    "features_train3 = region3_train.drop([\"product\"], axis=1)\n",
    "target_train3 = region3_train['product']\n",
    "features_valid3 = region3_valid.drop(['product'], axis=1)\n",
    "target_valid3 = region3_valid['product']\n"
   ]
  },
  {
   "cell_type": "code",
   "execution_count": 43,
   "metadata": {},
   "outputs": [
    {
     "name": "stdout",
     "output_type": "stream",
     "text": [
      "(75000, 3)\n",
      "(25000, 3)\n"
     ]
    }
   ],
   "source": [
    "scaler=StandardScaler()\n",
    "scaler.fit(features_train3)\n",
    "features_valid3=scaler.transform(features_valid3)\n",
    "features_train3=scaler.transform(features_train3)\n",
    "print(features_train3.shape)\n",
    "print(features_valid3.shape)"
   ]
  },
  {
   "cell_type": "code",
   "execution_count": 44,
   "metadata": {},
   "outputs": [
    {
     "name": "stdout",
     "output_type": "stream",
     "text": [
      "Linear Regression\n",
      "Average volume of predicted reserves is in thousands 94.96504596800489\n",
      "MSE = 1602.3775813236196\n",
      "RMSE = 40.02970873393434\n"
     ]
    }
   ],
   "source": [
    "model3 = LinearRegression()\n",
    "model3.fit(features_train3, target_train3)\n",
    "predicted_valid3 = model3.predict(features_valid3)\n",
    "mse3 = mean_squared_error(target_valid3, predicted_valid3)\n",
    "\n",
    "print('Linear Regression')\n",
    "print(\"Average volume of predicted reserves is in thousands\", predicted_valid3.mean())\n",
    "print('MSE =', mse3)\n",
    "print('RMSE =', mse3 ** 0.5)\n"
   ]
  },
  {
   "cell_type": "code",
   "execution_count": 45,
   "metadata": {},
   "outputs": [
    {
     "name": "stdout",
     "output_type": "stream",
     "text": [
      "RMSE = 44.90234968510566\n"
     ]
    }
   ],
   "source": [
    "predicted_valid_constant3=pd.Series(target_train3.mean(), index=target_valid3.index)\n",
    "mse_constant3=mean_squared_error(target_valid3, predicted_valid_constant3)\n",
    "print('RMSE =', mse_constant3 ** 0.5)"
   ]
  },
  {
   "cell_type": "markdown",
   "metadata": {},
   "source": [
    "* The Linear Regression model for Region3 resulted in the lowest (optimal) RMSE (47.36 thousand barrels) as compared to region1 and region2. In addition, it also differs by only 3 thousand barrels from the constant model, which is a small difference as compared to the previous 2 models for region 1 and 2."
   ]
  },
  {
   "cell_type": "markdown",
   "metadata": {},
   "source": [
    "# Minimum Volume of Reserves Calculation"
   ]
  },
  {
   "cell_type": "markdown",
   "metadata": {},
   "source": [
    "* Below I will calculate the volume of reserves sufficient for developing a new well without losses. Compare the obtained value with the average volume of reserves in each region."
   ]
  },
  {
   "cell_type": "code",
   "execution_count": 46,
   "metadata": {},
   "outputs": [
    {
     "name": "stdout",
     "output_type": "stream",
     "text": [
      "Minimum Volume of reserves per well 111.11111111111111\n"
     ]
    }
   ],
   "source": [
    "cost_per_well=500000\n",
    "rev_per_unit=4500\n",
    "print(\"Minimum Volume of reserves per well\", cost_per_well / rev_per_unit)"
   ]
  },
  {
   "cell_type": "markdown",
   "metadata": {},
   "source": [
    "* According to the given budget and revenue per well, in order to build a well with 0 loss and 0 profit, the minimum volume of reserves is 111.11 thousand barrels. \n",
    "\n",
    "* Taking a look at the three regions, we see that region 1 and region 3 have average volume reserves of about 77 and about 94 respectively, while region 2's average volume reserves per well exceeds this at 166 thousand barrels. "
   ]
  },
  {
   "cell_type": "markdown",
   "metadata": {},
   "source": [
    "# Profit Calculation Function"
   ]
  },
  {
   "cell_type": "code",
   "execution_count": 47,
   "metadata": {},
   "outputs": [],
   "source": [
    "def profit_calc(target, predictions):\n",
    "    pred_sorted= pd.Series(predictions).reset_index()[0].sort_values(ascending=False)\n",
    "    points=target.reset_index(drop=True)[pred_sorted.index][:200]\n",
    "    profit= (sum(points) * 4500) - (100000000) \n",
    "    return profit\n",
    "    \n",
    "   \n"
   ]
  },
  {
   "cell_type": "code",
   "execution_count": 48,
   "metadata": {},
   "outputs": [
    {
     "data": {
      "text/plain": [
       "33208260.43139854"
      ]
     },
     "execution_count": 48,
     "metadata": {},
     "output_type": "execute_result"
    }
   ],
   "source": [
    "region_1_profit=profit_calc(target_valid, predicted_valid)\n",
    "region_1_profit"
   ]
  },
  {
   "cell_type": "code",
   "execution_count": 49,
   "metadata": {},
   "outputs": [
    {
     "data": {
      "text/plain": [
       "24150866.966815516"
      ]
     },
     "execution_count": 49,
     "metadata": {},
     "output_type": "execute_result"
    }
   ],
   "source": [
    "region_2_profit=profit_calc(target_valid2, predicted_valid2)\n",
    "region_2_profit\n"
   ]
  },
  {
   "cell_type": "code",
   "execution_count": 50,
   "metadata": {},
   "outputs": [
    {
     "data": {
      "text/plain": [
       "27103499.63599837"
      ]
     },
     "execution_count": 50,
     "metadata": {},
     "output_type": "execute_result"
    }
   ],
   "source": [
    "region_3_profit=profit_calc(target_valid3, predicted_valid3)\n",
    "region_3_profit\n"
   ]
  },
  {
   "cell_type": "markdown",
   "metadata": {},
   "source": [
    "# Total Profit Per Region"
   ]
  },
  {
   "cell_type": "code",
   "execution_count": 51,
   "metadata": {
    "scrolled": true
   },
   "outputs": [
    {
     "name": "stdout",
     "output_type": "stream",
     "text": [
      "Profit for top 200 wells for Region 1: 33208260.43139854\n",
      "Profit for top 200 wells for Region 2: 24150866.966815516\n",
      "Profit for top 200 wells for Region 3: 27103499.63599837\n"
     ]
    }
   ],
   "source": [
    "print(\"Profit for top 200 wells for Region 1:\", region_1_profit)\n",
    "print(\"Profit for top 200 wells for Region 2:\", region_2_profit)\n",
    "print(\"Profit for top 200 wells for Region 3:\", region_3_profit)"
   ]
  },
  {
   "cell_type": "markdown",
   "metadata": {},
   "source": [
    "* Below, I will perform the Bootstrapping Technique for the 95% Confidence Interval to determine the average profit."
   ]
  },
  {
   "cell_type": "markdown",
   "metadata": {},
   "source": [
    "# REGION 1 AVERAGE PROFIT CONFIDENCE INTERVAL"
   ]
  },
  {
   "cell_type": "code",
   "execution_count": 52,
   "metadata": {},
   "outputs": [
    {
     "name": "stdout",
     "output_type": "stream",
     "text": [
      "-1112155.4589049455\n",
      "9097669.415534215\n",
      "The average profit for region one lies between -1112155.4589049455 and 9097669.415534215 with 95% Confidence\n",
      "The Average Profit for Region 1 is: 3961649.848023716\n",
      "The total risk probability for region 1 is 6.9 %\n"
     ]
    }
   ],
   "source": [
    "#5.1. Use the bootstrapping technique with 1000 samples to find the distribution of profit.\n",
    "state = np.random.RandomState(12345)\n",
    "values = []\n",
    "for i in range(1000):\n",
    "    subsample = target_valid.reset_index(drop=True).sample(n=500, replace=True, random_state=state)\n",
    "    pred_subsample= pd.Series(predicted_valid).reset_index(drop=True)[subsample.index]\n",
    "    values.append(profit_calc(subsample, pred_subsample))\n",
    "\n",
    "mean_profit=pd.Series(values).mean()\n",
    "\n",
    "#Confidence interval with 95% confidence    \n",
    "lower = pd.Series(values).quantile(0.025)\n",
    "upper = pd.Series(values).quantile(0.975)\n",
    "\n",
    "print(lower)\n",
    "print(upper)\n",
    "print(\"The average profit for region one lies between\", lower, \"and\", upper, \"with 95% Confidence\")\n",
    "print(\"The Average Profit for Region 1 is:\", mean_profit)\n",
    "values=pd.Series(values)\n",
    "risk_percent = ((values[values < 0]).count() / len(values)) * (100)\n",
    "print(\"The total risk probability for region 1 is\", risk_percent,\"%\")"
   ]
  },
  {
   "cell_type": "markdown",
   "metadata": {},
   "source": [
    "# REGION 2 AVERAGE PROFIT CONFIDENCE INTERVAL "
   ]
  },
  {
   "cell_type": "code",
   "execution_count": 53,
   "metadata": {},
   "outputs": [
    {
     "name": "stdout",
     "output_type": "stream",
     "text": [
      "338205.0939900089\n",
      "8522894.538660616\n",
      "The average profit for region one lies between 338205.0939900089 and 8522894.538660616 with 95% Confidence\n",
      "The Average Profit for Region 2 is: 4560451.057866825\n",
      "The total risk probability for region 3 is 1.5 %\n"
     ]
    }
   ],
   "source": [
    "state = np.random.RandomState(12345)\n",
    "values = []\n",
    "for i in range(1000):\n",
    "    subsample = target_valid2.reset_index(drop=True).sample(n=500, replace=True, random_state=state)\n",
    "    pred_subsample= pd.Series(predicted_valid2).reset_index(drop=True)[subsample.index]\n",
    "    values.append(profit_calc(subsample, pred_subsample))\n",
    "\n",
    "mean_profit=pd.Series(values).mean()\n",
    "\n",
    "#Confidence interval with 95% confidence    \n",
    "lower = pd.Series(values).quantile(0.025)\n",
    "upper = pd.Series(values).quantile(0.975)\n",
    "\n",
    "print(lower)\n",
    "print(upper)\n",
    "print(\"The average profit for region one lies between\", lower, \"and\", upper, \"with 95% Confidence\")\n",
    "print(\"The Average Profit for Region 2 is:\", mean_profit)\n",
    "values=pd.Series(values)\n",
    "risk_percent = (len(values[values < 0]) / len(values)) * (100)\n",
    "print(\"The total risk probability for region 3 is\", risk_percent,\"%\")"
   ]
  },
  {
   "cell_type": "markdown",
   "metadata": {},
   "source": [
    "# REGION 3 AVERAGE PROFIT CONFIDENCE INTERVAL"
   ]
  },
  {
   "cell_type": "code",
   "execution_count": 54,
   "metadata": {},
   "outputs": [
    {
     "name": "stdout",
     "output_type": "stream",
     "text": [
      "-1633504.1339560263\n",
      "9503595.749237984\n",
      "The average profit for region one lies between -1633504.1339560263 and 9503595.749237984 with 95% Confidence\n",
      "The Average Profit for Region 3 is: 4044038.665683574\n",
      "The total risk probability for region 3 is 7.6 %\n"
     ]
    }
   ],
   "source": [
    "state = np.random.RandomState(12345)\n",
    "values = []\n",
    "for i in range(1000):\n",
    "    subsample = target_valid3.reset_index(drop=True).sample(n=500, replace=True, random_state=state)\n",
    "    pred_subsample= pd.Series(predicted_valid3).reset_index(drop=True)[subsample.index]\n",
    "    values.append(profit_calc(subsample, pred_subsample))\n",
    "\n",
    "mean_profit=pd.Series(values).mean()\n",
    "\n",
    "#Confidence interval with 95% confidence    \n",
    "lower = pd.Series(values).quantile(0.025)\n",
    "upper = pd.Series(values).quantile(0.975)\n",
    "\n",
    "print(lower)\n",
    "print(upper)\n",
    "print(\"The average profit for region one lies between\", lower, \"and\", upper, \"with 95% Confidence\")\n",
    "print(\"The Average Profit for Region 3 is:\", mean_profit)\n",
    "values=pd.Series(values)\n",
    "risk_percent = (len(values[values < 0]) / len(values)) * (100)\n",
    "print(\"The total risk probability for region 3 is\", risk_percent,\"%\")"
   ]
  },
  {
   "cell_type": "markdown",
   "metadata": {},
   "source": [
    "# Conclusion"
   ]
  },
  {
   "cell_type": "markdown",
   "metadata": {},
   "source": [
    "* Based on the results above, Region 3 presents the highest probability of risk, at 7.6%.. From the 3 regions, the regions with the lowest possible risk are region 1 and 2, with 6.9% and 1.5% risk probability respectively. Of these two regions, we find that region 2 has the highest profit on average (4560451.05 USD). \n",
    "\n",
    "* For these reason we should select region 2 to build the new well as it poses the least possible risk in combination with the highest average profit. "
   ]
  }
 ],
 "metadata": {
  "ExecuteTimeLog": [
   {
    "duration": 401,
    "start_time": "2022-07-14T16:10:15.460Z"
   },
   {
    "duration": 143,
    "start_time": "2022-07-14T16:10:44.338Z"
   },
   {
    "duration": 41,
    "start_time": "2022-07-14T17:58:07.890Z"
   },
   {
    "duration": 318,
    "start_time": "2022-07-14T17:58:10.156Z"
   },
   {
    "duration": 78,
    "start_time": "2022-07-14T17:58:12.522Z"
   },
   {
    "duration": 46,
    "start_time": "2022-07-14T17:58:25.720Z"
   },
   {
    "duration": 52,
    "start_time": "2022-07-14T17:59:20.871Z"
   },
   {
    "duration": 490,
    "start_time": "2022-07-14T17:59:23.619Z"
   },
   {
    "duration": 118,
    "start_time": "2022-07-14T17:59:26.049Z"
   },
   {
    "duration": 20,
    "start_time": "2022-07-14T17:59:28.796Z"
   },
   {
    "duration": 18,
    "start_time": "2022-07-14T17:59:41.470Z"
   },
   {
    "duration": 4,
    "start_time": "2022-07-14T18:00:01.762Z"
   },
   {
    "duration": 170,
    "start_time": "2022-07-14T18:00:59.261Z"
   },
   {
    "duration": 630,
    "start_time": "2022-07-14T18:01:09.210Z"
   },
   {
    "duration": 259,
    "start_time": "2022-07-14T18:03:00.528Z"
   },
   {
    "duration": 736,
    "start_time": "2022-07-14T18:03:03.817Z"
   },
   {
    "duration": 11,
    "start_time": "2022-07-14T18:03:10.904Z"
   },
   {
    "duration": 16,
    "start_time": "2022-07-14T18:03:18.954Z"
   },
   {
    "duration": 11,
    "start_time": "2022-07-14T18:03:37.397Z"
   },
   {
    "duration": 5,
    "start_time": "2022-07-14T18:03:44.467Z"
   },
   {
    "duration": 13,
    "start_time": "2022-07-14T18:03:56.473Z"
   },
   {
    "duration": 3,
    "start_time": "2022-07-14T18:04:08.378Z"
   },
   {
    "duration": 56,
    "start_time": "2022-07-16T02:24:21.502Z"
   },
   {
    "duration": 394,
    "start_time": "2022-07-16T02:24:31.519Z"
   },
   {
    "duration": 905,
    "start_time": "2022-07-16T02:24:31.916Z"
   },
   {
    "duration": 18,
    "start_time": "2022-07-16T02:24:32.823Z"
   },
   {
    "duration": 17,
    "start_time": "2022-07-16T02:24:32.843Z"
   },
   {
    "duration": 4,
    "start_time": "2022-07-16T02:24:32.861Z"
   },
   {
    "duration": 23,
    "start_time": "2022-07-16T02:24:32.867Z"
   },
   {
    "duration": 14,
    "start_time": "2022-07-16T02:24:32.892Z"
   },
   {
    "duration": 13,
    "start_time": "2022-07-16T02:24:32.909Z"
   },
   {
    "duration": 34,
    "start_time": "2022-07-16T02:24:32.923Z"
   },
   {
    "duration": 3,
    "start_time": "2022-07-16T02:24:32.960Z"
   },
   {
    "duration": 21,
    "start_time": "2022-07-16T02:24:32.965Z"
   },
   {
    "duration": 61,
    "start_time": "2022-07-16T02:32:18.832Z"
   },
   {
    "duration": 591,
    "start_time": "2022-07-16T02:33:02.780Z"
   },
   {
    "duration": 53,
    "start_time": "2022-07-16T02:33:08.278Z"
   },
   {
    "duration": 29,
    "start_time": "2022-07-16T02:33:18.583Z"
   },
   {
    "duration": 26,
    "start_time": "2022-07-16T02:33:21.300Z"
   },
   {
    "duration": 539,
    "start_time": "2022-07-16T02:56:57.768Z"
   },
   {
    "duration": 458,
    "start_time": "2022-07-20T13:19:11.583Z"
   },
   {
    "duration": 1170,
    "start_time": "2022-07-20T13:19:14.455Z"
   },
   {
    "duration": 5,
    "start_time": "2022-07-20T13:19:23.755Z"
   },
   {
    "duration": 14,
    "start_time": "2022-07-20T13:19:32.287Z"
   },
   {
    "duration": 12,
    "start_time": "2022-07-20T13:19:34.754Z"
   },
   {
    "duration": 55,
    "start_time": "2022-07-20T16:02:09.063Z"
   },
   {
    "duration": 1652,
    "start_time": "2022-07-20T16:02:17.094Z"
   },
   {
    "duration": 189,
    "start_time": "2022-07-20T16:02:18.748Z"
   },
   {
    "duration": 0,
    "start_time": "2022-07-20T16:02:18.941Z"
   },
   {
    "duration": 0,
    "start_time": "2022-07-20T16:02:18.942Z"
   },
   {
    "duration": 0,
    "start_time": "2022-07-20T16:02:18.943Z"
   },
   {
    "duration": 0,
    "start_time": "2022-07-20T16:02:18.944Z"
   },
   {
    "duration": 0,
    "start_time": "2022-07-20T16:02:18.945Z"
   },
   {
    "duration": 0,
    "start_time": "2022-07-20T16:02:18.946Z"
   },
   {
    "duration": 0,
    "start_time": "2022-07-20T16:02:18.948Z"
   },
   {
    "duration": 0,
    "start_time": "2022-07-20T16:02:18.949Z"
   },
   {
    "duration": 0,
    "start_time": "2022-07-20T16:02:18.950Z"
   },
   {
    "duration": 0,
    "start_time": "2022-07-20T16:02:18.963Z"
   },
   {
    "duration": 0,
    "start_time": "2022-07-20T16:02:18.964Z"
   },
   {
    "duration": 0,
    "start_time": "2022-07-20T16:02:18.965Z"
   },
   {
    "duration": 0,
    "start_time": "2022-07-20T16:02:18.966Z"
   },
   {
    "duration": 0,
    "start_time": "2022-07-20T16:02:18.967Z"
   },
   {
    "duration": 0,
    "start_time": "2022-07-20T16:02:18.968Z"
   },
   {
    "duration": 0,
    "start_time": "2022-07-20T16:02:18.969Z"
   },
   {
    "duration": 0,
    "start_time": "2022-07-20T16:02:18.970Z"
   },
   {
    "duration": 0,
    "start_time": "2022-07-20T16:02:18.971Z"
   },
   {
    "duration": 0,
    "start_time": "2022-07-20T16:02:18.972Z"
   },
   {
    "duration": 0,
    "start_time": "2022-07-20T16:02:18.973Z"
   },
   {
    "duration": 0,
    "start_time": "2022-07-20T16:02:18.974Z"
   },
   {
    "duration": 0,
    "start_time": "2022-07-20T16:02:18.975Z"
   },
   {
    "duration": 0,
    "start_time": "2022-07-20T16:02:18.977Z"
   },
   {
    "duration": 0,
    "start_time": "2022-07-20T16:02:18.978Z"
   },
   {
    "duration": 0,
    "start_time": "2022-07-20T16:02:18.978Z"
   },
   {
    "duration": 0,
    "start_time": "2022-07-20T16:02:18.979Z"
   },
   {
    "duration": 0,
    "start_time": "2022-07-20T16:02:18.980Z"
   },
   {
    "duration": 0,
    "start_time": "2022-07-20T16:02:18.981Z"
   },
   {
    "duration": 0,
    "start_time": "2022-07-20T16:02:18.982Z"
   },
   {
    "duration": 0,
    "start_time": "2022-07-20T16:02:18.983Z"
   },
   {
    "duration": 0,
    "start_time": "2022-07-20T16:02:18.984Z"
   },
   {
    "duration": 0,
    "start_time": "2022-07-20T16:02:18.985Z"
   },
   {
    "duration": 0,
    "start_time": "2022-07-20T16:02:18.986Z"
   },
   {
    "duration": 0,
    "start_time": "2022-07-20T16:02:18.987Z"
   },
   {
    "duration": 0,
    "start_time": "2022-07-20T16:02:18.988Z"
   },
   {
    "duration": 0,
    "start_time": "2022-07-20T16:02:18.989Z"
   },
   {
    "duration": 0,
    "start_time": "2022-07-20T16:02:18.990Z"
   },
   {
    "duration": 0,
    "start_time": "2022-07-20T16:02:18.991Z"
   },
   {
    "duration": 0,
    "start_time": "2022-07-20T16:02:18.992Z"
   },
   {
    "duration": 0,
    "start_time": "2022-07-20T16:02:18.993Z"
   },
   {
    "duration": 0,
    "start_time": "2022-07-20T16:02:18.994Z"
   },
   {
    "duration": 0,
    "start_time": "2022-07-20T16:02:18.995Z"
   },
   {
    "duration": 0,
    "start_time": "2022-07-20T16:02:18.996Z"
   },
   {
    "duration": 0,
    "start_time": "2022-07-20T16:02:18.997Z"
   },
   {
    "duration": 0,
    "start_time": "2022-07-20T16:02:18.998Z"
   },
   {
    "duration": 0,
    "start_time": "2022-07-20T16:02:18.999Z"
   },
   {
    "duration": 0,
    "start_time": "2022-07-20T16:02:19.001Z"
   },
   {
    "duration": 0,
    "start_time": "2022-07-20T16:02:19.002Z"
   },
   {
    "duration": 0,
    "start_time": "2022-07-20T16:02:19.003Z"
   },
   {
    "duration": 0,
    "start_time": "2022-07-20T16:02:19.004Z"
   },
   {
    "duration": 0,
    "start_time": "2022-07-20T16:02:19.006Z"
   },
   {
    "duration": 0,
    "start_time": "2022-07-20T16:02:19.007Z"
   },
   {
    "duration": 0,
    "start_time": "2022-07-20T16:02:19.009Z"
   },
   {
    "duration": 0,
    "start_time": "2022-07-20T16:02:19.010Z"
   },
   {
    "duration": 1567,
    "start_time": "2022-07-20T16:04:50.964Z"
   },
   {
    "duration": 1100,
    "start_time": "2022-07-20T16:04:52.536Z"
   },
   {
    "duration": 17,
    "start_time": "2022-07-20T16:04:53.638Z"
   },
   {
    "duration": 18,
    "start_time": "2022-07-20T16:04:53.657Z"
   },
   {
    "duration": 10,
    "start_time": "2022-07-20T16:04:53.677Z"
   },
   {
    "duration": 19,
    "start_time": "2022-07-20T16:04:53.689Z"
   },
   {
    "duration": 26,
    "start_time": "2022-07-20T16:04:53.710Z"
   },
   {
    "duration": 14,
    "start_time": "2022-07-20T16:04:53.737Z"
   },
   {
    "duration": 26,
    "start_time": "2022-07-20T16:04:53.753Z"
   },
   {
    "duration": 5,
    "start_time": "2022-07-20T16:04:53.783Z"
   },
   {
    "duration": 16,
    "start_time": "2022-07-20T16:04:53.790Z"
   },
   {
    "duration": 230,
    "start_time": "2022-07-20T16:04:53.808Z"
   },
   {
    "duration": 0,
    "start_time": "2022-07-20T16:04:54.040Z"
   },
   {
    "duration": 0,
    "start_time": "2022-07-20T16:04:54.041Z"
   },
   {
    "duration": 0,
    "start_time": "2022-07-20T16:04:54.043Z"
   },
   {
    "duration": 0,
    "start_time": "2022-07-20T16:04:54.044Z"
   },
   {
    "duration": 0,
    "start_time": "2022-07-20T16:04:54.045Z"
   },
   {
    "duration": 0,
    "start_time": "2022-07-20T16:04:54.046Z"
   },
   {
    "duration": 0,
    "start_time": "2022-07-20T16:04:54.047Z"
   },
   {
    "duration": 0,
    "start_time": "2022-07-20T16:04:54.048Z"
   },
   {
    "duration": 0,
    "start_time": "2022-07-20T16:04:54.050Z"
   },
   {
    "duration": 0,
    "start_time": "2022-07-20T16:04:54.074Z"
   },
   {
    "duration": 0,
    "start_time": "2022-07-20T16:04:54.076Z"
   },
   {
    "duration": 0,
    "start_time": "2022-07-20T16:04:54.077Z"
   },
   {
    "duration": 0,
    "start_time": "2022-07-20T16:04:54.078Z"
   },
   {
    "duration": 0,
    "start_time": "2022-07-20T16:04:54.079Z"
   },
   {
    "duration": 0,
    "start_time": "2022-07-20T16:04:54.080Z"
   },
   {
    "duration": 0,
    "start_time": "2022-07-20T16:04:54.082Z"
   },
   {
    "duration": 0,
    "start_time": "2022-07-20T16:04:54.083Z"
   },
   {
    "duration": 0,
    "start_time": "2022-07-20T16:04:54.087Z"
   },
   {
    "duration": 0,
    "start_time": "2022-07-20T16:04:54.088Z"
   },
   {
    "duration": 0,
    "start_time": "2022-07-20T16:04:54.089Z"
   },
   {
    "duration": 0,
    "start_time": "2022-07-20T16:04:54.090Z"
   },
   {
    "duration": 0,
    "start_time": "2022-07-20T16:04:54.092Z"
   },
   {
    "duration": 0,
    "start_time": "2022-07-20T16:04:54.093Z"
   },
   {
    "duration": 0,
    "start_time": "2022-07-20T16:04:54.094Z"
   },
   {
    "duration": 0,
    "start_time": "2022-07-20T16:04:54.094Z"
   },
   {
    "duration": 0,
    "start_time": "2022-07-20T16:04:54.095Z"
   },
   {
    "duration": 0,
    "start_time": "2022-07-20T16:04:54.096Z"
   },
   {
    "duration": 0,
    "start_time": "2022-07-20T16:04:54.097Z"
   },
   {
    "duration": 0,
    "start_time": "2022-07-20T16:04:54.098Z"
   },
   {
    "duration": 0,
    "start_time": "2022-07-20T16:04:54.099Z"
   },
   {
    "duration": 0,
    "start_time": "2022-07-20T16:04:54.100Z"
   },
   {
    "duration": 0,
    "start_time": "2022-07-20T16:04:54.101Z"
   },
   {
    "duration": 0,
    "start_time": "2022-07-20T16:04:54.102Z"
   },
   {
    "duration": 0,
    "start_time": "2022-07-20T16:04:54.103Z"
   },
   {
    "duration": 1,
    "start_time": "2022-07-20T16:04:54.103Z"
   },
   {
    "duration": 0,
    "start_time": "2022-07-20T16:04:54.105Z"
   },
   {
    "duration": 1,
    "start_time": "2022-07-20T16:04:54.105Z"
   },
   {
    "duration": 0,
    "start_time": "2022-07-20T16:04:54.107Z"
   },
   {
    "duration": 0,
    "start_time": "2022-07-20T16:04:54.108Z"
   },
   {
    "duration": 0,
    "start_time": "2022-07-20T16:04:54.109Z"
   },
   {
    "duration": 0,
    "start_time": "2022-07-20T16:04:54.109Z"
   },
   {
    "duration": 0,
    "start_time": "2022-07-20T16:04:54.110Z"
   },
   {
    "duration": 0,
    "start_time": "2022-07-20T16:04:54.164Z"
   },
   {
    "duration": 0,
    "start_time": "2022-07-20T16:04:54.166Z"
   },
   {
    "duration": 25,
    "start_time": "2022-07-20T16:05:30.012Z"
   },
   {
    "duration": 16,
    "start_time": "2022-07-20T16:05:50.147Z"
   },
   {
    "duration": 10,
    "start_time": "2022-07-20T16:05:56.770Z"
   },
   {
    "duration": 14,
    "start_time": "2022-07-20T16:06:06.929Z"
   },
   {
    "duration": 18,
    "start_time": "2022-07-20T16:06:09.256Z"
   },
   {
    "duration": 13,
    "start_time": "2022-07-20T16:06:18.745Z"
   },
   {
    "duration": 1662,
    "start_time": "2022-07-20T16:06:26.348Z"
   },
   {
    "duration": 451,
    "start_time": "2022-07-20T16:06:28.013Z"
   },
   {
    "duration": 27,
    "start_time": "2022-07-20T16:06:28.466Z"
   },
   {
    "duration": 15,
    "start_time": "2022-07-20T16:06:28.495Z"
   },
   {
    "duration": 4,
    "start_time": "2022-07-20T16:06:28.512Z"
   },
   {
    "duration": 16,
    "start_time": "2022-07-20T16:06:28.518Z"
   },
   {
    "duration": 43,
    "start_time": "2022-07-20T16:06:28.535Z"
   },
   {
    "duration": 4,
    "start_time": "2022-07-20T16:06:28.580Z"
   },
   {
    "duration": 19,
    "start_time": "2022-07-20T16:06:28.587Z"
   },
   {
    "duration": 5,
    "start_time": "2022-07-20T16:06:28.608Z"
   },
   {
    "duration": 21,
    "start_time": "2022-07-20T16:06:28.615Z"
   },
   {
    "duration": 6,
    "start_time": "2022-07-20T16:06:28.664Z"
   },
   {
    "duration": 25,
    "start_time": "2022-07-20T16:06:28.673Z"
   },
   {
    "duration": 10,
    "start_time": "2022-07-20T16:06:28.702Z"
   },
   {
    "duration": 6,
    "start_time": "2022-07-20T16:06:28.714Z"
   },
   {
    "duration": 16,
    "start_time": "2022-07-20T16:06:28.722Z"
   },
   {
    "duration": 5,
    "start_time": "2022-07-20T16:06:28.740Z"
   },
   {
    "duration": 203,
    "start_time": "2022-07-20T16:06:28.747Z"
   },
   {
    "duration": 30,
    "start_time": "2022-07-20T16:06:28.952Z"
   },
   {
    "duration": 14,
    "start_time": "2022-07-20T16:06:28.985Z"
   },
   {
    "duration": 11,
    "start_time": "2022-07-20T16:06:29.001Z"
   },
   {
    "duration": 13,
    "start_time": "2022-07-20T16:06:29.014Z"
   },
   {
    "duration": 6,
    "start_time": "2022-07-20T16:06:29.029Z"
   },
   {
    "duration": 61,
    "start_time": "2022-07-20T16:06:29.037Z"
   },
   {
    "duration": 12,
    "start_time": "2022-07-20T16:06:29.172Z"
   },
   {
    "duration": 334,
    "start_time": "2022-07-20T16:06:29.275Z"
   },
   {
    "duration": 13,
    "start_time": "2022-07-20T16:06:29.610Z"
   },
   {
    "duration": 9,
    "start_time": "2022-07-20T16:06:29.625Z"
   },
   {
    "duration": 189,
    "start_time": "2022-07-20T16:06:29.636Z"
   },
   {
    "duration": 5,
    "start_time": "2022-07-20T16:06:29.826Z"
   },
   {
    "duration": 38,
    "start_time": "2022-07-20T16:06:29.833Z"
   },
   {
    "duration": 11,
    "start_time": "2022-07-20T16:06:29.874Z"
   },
   {
    "duration": 18,
    "start_time": "2022-07-20T16:06:29.888Z"
   },
   {
    "duration": 6,
    "start_time": "2022-07-20T16:06:29.908Z"
   },
   {
    "duration": 195,
    "start_time": "2022-07-20T16:06:29.916Z"
   },
   {
    "duration": 0,
    "start_time": "2022-07-20T16:06:30.114Z"
   },
   {
    "duration": 0,
    "start_time": "2022-07-20T16:06:30.115Z"
   },
   {
    "duration": 0,
    "start_time": "2022-07-20T16:06:30.116Z"
   },
   {
    "duration": 0,
    "start_time": "2022-07-20T16:06:30.117Z"
   },
   {
    "duration": 0,
    "start_time": "2022-07-20T16:06:30.118Z"
   },
   {
    "duration": 0,
    "start_time": "2022-07-20T16:06:30.120Z"
   },
   {
    "duration": 0,
    "start_time": "2022-07-20T16:06:30.121Z"
   },
   {
    "duration": 0,
    "start_time": "2022-07-20T16:06:30.122Z"
   },
   {
    "duration": 0,
    "start_time": "2022-07-20T16:06:30.124Z"
   },
   {
    "duration": 0,
    "start_time": "2022-07-20T16:06:30.125Z"
   },
   {
    "duration": 0,
    "start_time": "2022-07-20T16:06:30.126Z"
   },
   {
    "duration": 0,
    "start_time": "2022-07-20T16:06:30.127Z"
   },
   {
    "duration": 0,
    "start_time": "2022-07-20T16:06:30.129Z"
   },
   {
    "duration": 0,
    "start_time": "2022-07-20T16:06:30.131Z"
   },
   {
    "duration": 0,
    "start_time": "2022-07-20T16:06:30.166Z"
   },
   {
    "duration": 0,
    "start_time": "2022-07-20T16:06:30.167Z"
   },
   {
    "duration": 0,
    "start_time": "2022-07-20T16:06:30.168Z"
   },
   {
    "duration": 0,
    "start_time": "2022-07-20T16:06:30.169Z"
   },
   {
    "duration": 0,
    "start_time": "2022-07-20T16:06:30.171Z"
   },
   {
    "duration": 0,
    "start_time": "2022-07-20T16:06:30.173Z"
   },
   {
    "duration": 0,
    "start_time": "2022-07-20T16:06:30.176Z"
   },
   {
    "duration": 5,
    "start_time": "2022-07-20T16:10:02.250Z"
   },
   {
    "duration": 6,
    "start_time": "2022-07-20T16:10:03.775Z"
   },
   {
    "duration": 12,
    "start_time": "2022-07-20T16:10:42.100Z"
   },
   {
    "duration": 7,
    "start_time": "2022-07-20T16:10:54.214Z"
   },
   {
    "duration": 6,
    "start_time": "2022-07-20T16:11:03.686Z"
   },
   {
    "duration": 16,
    "start_time": "2022-07-20T16:13:01.990Z"
   },
   {
    "duration": 42,
    "start_time": "2022-07-20T16:13:56.011Z"
   },
   {
    "duration": 19,
    "start_time": "2022-07-20T16:14:38.678Z"
   },
   {
    "duration": 8,
    "start_time": "2022-07-20T16:14:49.480Z"
   },
   {
    "duration": 5,
    "start_time": "2022-07-20T16:16:05.095Z"
   },
   {
    "duration": 12,
    "start_time": "2022-07-20T16:16:07.548Z"
   },
   {
    "duration": 6,
    "start_time": "2022-07-20T16:16:18.956Z"
   },
   {
    "duration": 5,
    "start_time": "2022-07-20T16:16:26.482Z"
   },
   {
    "duration": 11,
    "start_time": "2022-07-20T16:16:34.355Z"
   },
   {
    "duration": 8,
    "start_time": "2022-07-20T16:16:41.560Z"
   },
   {
    "duration": 72,
    "start_time": "2022-07-20T16:17:03.395Z"
   },
   {
    "duration": 17,
    "start_time": "2022-07-20T16:17:05.789Z"
   },
   {
    "duration": 7,
    "start_time": "2022-07-20T16:17:11.950Z"
   },
   {
    "duration": 13,
    "start_time": "2022-07-20T16:17:31.281Z"
   },
   {
    "duration": 15,
    "start_time": "2022-07-20T16:17:33.020Z"
   },
   {
    "duration": 6,
    "start_time": "2022-07-20T16:17:40.654Z"
   },
   {
    "duration": 196,
    "start_time": "2022-07-20T16:17:42.461Z"
   },
   {
    "duration": 7,
    "start_time": "2022-07-20T16:17:47.311Z"
   },
   {
    "duration": 18,
    "start_time": "2022-07-20T16:17:51.686Z"
   },
   {
    "duration": 9,
    "start_time": "2022-07-20T16:17:55.450Z"
   },
   {
    "duration": 12,
    "start_time": "2022-07-20T16:18:04.016Z"
   },
   {
    "duration": 40,
    "start_time": "2022-07-20T16:18:29.356Z"
   },
   {
    "duration": 6,
    "start_time": "2022-07-20T16:19:01.652Z"
   },
   {
    "duration": 11,
    "start_time": "2022-07-20T16:19:05.498Z"
   },
   {
    "duration": 27,
    "start_time": "2022-07-20T16:19:11.516Z"
   },
   {
    "duration": 11,
    "start_time": "2022-07-20T16:19:28.595Z"
   },
   {
    "duration": 4,
    "start_time": "2022-07-20T16:20:41.653Z"
   },
   {
    "duration": 4,
    "start_time": "2022-07-20T16:24:02.419Z"
   },
   {
    "duration": 4,
    "start_time": "2022-07-20T16:24:52.814Z"
   },
   {
    "duration": 13,
    "start_time": "2022-07-20T16:24:55.460Z"
   },
   {
    "duration": 12,
    "start_time": "2022-07-20T16:25:06.253Z"
   },
   {
    "duration": 11,
    "start_time": "2022-07-20T16:25:58.849Z"
   },
   {
    "duration": 13,
    "start_time": "2022-07-20T16:26:02.493Z"
   },
   {
    "duration": 4,
    "start_time": "2022-07-20T16:26:07.352Z"
   },
   {
    "duration": 4,
    "start_time": "2022-07-20T16:27:08.099Z"
   },
   {
    "duration": 74,
    "start_time": "2022-07-20T16:27:27.795Z"
   },
   {
    "duration": 2322,
    "start_time": "2022-07-20T16:27:42.460Z"
   },
   {
    "duration": 2371,
    "start_time": "2022-07-20T16:27:51.999Z"
   },
   {
    "duration": 2317,
    "start_time": "2022-07-20T16:27:58.498Z"
   },
   {
    "duration": 2284,
    "start_time": "2022-07-20T16:28:04.157Z"
   },
   {
    "duration": 2353,
    "start_time": "2022-07-20T16:28:59.497Z"
   },
   {
    "duration": 82,
    "start_time": "2022-07-20T16:29:33.349Z"
   },
   {
    "duration": 185,
    "start_time": "2022-07-20T16:30:05.665Z"
   },
   {
    "duration": 107,
    "start_time": "2022-07-20T16:30:08.543Z"
   },
   {
    "duration": 124,
    "start_time": "2022-07-20T16:30:14.255Z"
   },
   {
    "duration": 49,
    "start_time": "2022-07-20T16:30:21.992Z"
   },
   {
    "duration": 147,
    "start_time": "2022-07-20T16:30:32.995Z"
   },
   {
    "duration": 2313,
    "start_time": "2022-07-20T16:30:39.108Z"
   },
   {
    "duration": 2297,
    "start_time": "2022-07-20T16:30:49.596Z"
   },
   {
    "duration": 2256,
    "start_time": "2022-07-20T16:31:44.397Z"
   },
   {
    "duration": 2455,
    "start_time": "2022-07-20T16:31:55.491Z"
   },
   {
    "duration": 2242,
    "start_time": "2022-07-20T16:32:16.748Z"
   },
   {
    "duration": 148,
    "start_time": "2022-07-20T16:32:33.658Z"
   },
   {
    "duration": 66,
    "start_time": "2022-07-20T16:32:37.991Z"
   },
   {
    "duration": 2391,
    "start_time": "2022-07-20T16:32:41.991Z"
   },
   {
    "duration": 2265,
    "start_time": "2022-07-20T16:34:54.500Z"
   },
   {
    "duration": 2345,
    "start_time": "2022-07-20T16:35:16.750Z"
   },
   {
    "duration": 2354,
    "start_time": "2022-07-20T16:35:50.840Z"
   },
   {
    "duration": 526,
    "start_time": "2022-07-20T16:35:53.196Z"
   },
   {
    "duration": 17,
    "start_time": "2022-07-20T16:35:53.725Z"
   },
   {
    "duration": 28,
    "start_time": "2022-07-20T16:35:53.743Z"
   },
   {
    "duration": 5,
    "start_time": "2022-07-20T16:35:53.775Z"
   },
   {
    "duration": 26,
    "start_time": "2022-07-20T16:35:53.782Z"
   },
   {
    "duration": 17,
    "start_time": "2022-07-20T16:35:53.810Z"
   },
   {
    "duration": 4,
    "start_time": "2022-07-20T16:35:53.828Z"
   },
   {
    "duration": 31,
    "start_time": "2022-07-20T16:35:53.834Z"
   },
   {
    "duration": 8,
    "start_time": "2022-07-20T16:35:53.867Z"
   },
   {
    "duration": 36,
    "start_time": "2022-07-20T16:35:53.877Z"
   },
   {
    "duration": 10,
    "start_time": "2022-07-20T16:35:53.915Z"
   },
   {
    "duration": 16,
    "start_time": "2022-07-20T16:35:53.926Z"
   },
   {
    "duration": 10,
    "start_time": "2022-07-20T16:35:53.945Z"
   },
   {
    "duration": 6,
    "start_time": "2022-07-20T16:35:53.956Z"
   },
   {
    "duration": 36,
    "start_time": "2022-07-20T16:35:53.965Z"
   },
   {
    "duration": 10,
    "start_time": "2022-07-20T16:35:54.003Z"
   },
   {
    "duration": 184,
    "start_time": "2022-07-20T16:35:54.015Z"
   },
   {
    "duration": 12,
    "start_time": "2022-07-20T16:35:54.200Z"
   },
   {
    "duration": 8,
    "start_time": "2022-07-20T16:35:54.214Z"
   },
   {
    "duration": 10,
    "start_time": "2022-07-20T16:35:54.223Z"
   },
   {
    "duration": 41,
    "start_time": "2022-07-20T16:35:54.234Z"
   },
   {
    "duration": 6,
    "start_time": "2022-07-20T16:35:54.283Z"
   },
   {
    "duration": 96,
    "start_time": "2022-07-20T16:35:54.292Z"
   },
   {
    "duration": 73,
    "start_time": "2022-07-20T16:35:54.394Z"
   },
   {
    "duration": 41,
    "start_time": "2022-07-20T16:35:54.470Z"
   },
   {
    "duration": 17,
    "start_time": "2022-07-20T16:35:54.513Z"
   },
   {
    "duration": 8,
    "start_time": "2022-07-20T16:35:54.532Z"
   },
   {
    "duration": 176,
    "start_time": "2022-07-20T16:35:54.542Z"
   },
   {
    "duration": 5,
    "start_time": "2022-07-20T16:35:54.719Z"
   },
   {
    "duration": 24,
    "start_time": "2022-07-20T16:35:54.726Z"
   },
   {
    "duration": 16,
    "start_time": "2022-07-20T16:35:54.752Z"
   },
   {
    "duration": 33,
    "start_time": "2022-07-20T16:35:54.776Z"
   },
   {
    "duration": 73,
    "start_time": "2022-07-20T16:35:54.811Z"
   },
   {
    "duration": 89,
    "start_time": "2022-07-20T16:35:54.887Z"
   },
   {
    "duration": 32,
    "start_time": "2022-07-20T16:35:54.978Z"
   },
   {
    "duration": 35,
    "start_time": "2022-07-20T16:35:55.012Z"
   },
   {
    "duration": 9,
    "start_time": "2022-07-20T16:35:55.049Z"
   },
   {
    "duration": 197,
    "start_time": "2022-07-20T16:35:55.060Z"
   },
   {
    "duration": 14,
    "start_time": "2022-07-20T16:35:55.264Z"
   },
   {
    "duration": 33,
    "start_time": "2022-07-20T16:35:55.283Z"
   },
   {
    "duration": 8,
    "start_time": "2022-07-20T16:35:55.318Z"
   },
   {
    "duration": 27,
    "start_time": "2022-07-20T16:35:55.329Z"
   },
   {
    "duration": 34,
    "start_time": "2022-07-20T16:35:55.358Z"
   },
   {
    "duration": 174,
    "start_time": "2022-07-20T16:35:55.394Z"
   },
   {
    "duration": 48,
    "start_time": "2022-07-20T16:35:55.577Z"
   },
   {
    "duration": 10,
    "start_time": "2022-07-20T16:35:55.627Z"
   },
   {
    "duration": 23,
    "start_time": "2022-07-20T16:35:55.638Z"
   },
   {
    "duration": 41,
    "start_time": "2022-07-20T16:35:55.663Z"
   },
   {
    "duration": 23,
    "start_time": "2022-07-20T16:35:55.706Z"
   },
   {
    "duration": 5,
    "start_time": "2022-07-20T16:35:55.731Z"
   },
   {
    "duration": 2312,
    "start_time": "2022-07-20T16:35:55.738Z"
   },
   {
    "duration": 2222,
    "start_time": "2022-07-20T16:35:58.052Z"
   },
   {
    "duration": 2241,
    "start_time": "2022-07-20T16:36:00.276Z"
   },
   {
    "duration": 2333,
    "start_time": "2022-07-20T16:36:54.675Z"
   },
   {
    "duration": 2240,
    "start_time": "2022-07-20T16:37:04.763Z"
   },
   {
    "duration": 2371,
    "start_time": "2022-07-20T16:37:12.408Z"
   },
   {
    "duration": 2300,
    "start_time": "2022-07-20T16:37:54.595Z"
   },
   {
    "duration": 2329,
    "start_time": "2022-07-20T16:38:31.595Z"
   },
   {
    "duration": 2203,
    "start_time": "2022-07-20T16:38:50.236Z"
   },
   {
    "duration": 2281,
    "start_time": "2022-07-20T16:39:10.104Z"
   },
   {
    "duration": 2223,
    "start_time": "2022-07-20T16:39:27.487Z"
   },
   {
    "duration": 2288,
    "start_time": "2022-07-20T16:40:04.992Z"
   },
   {
    "duration": 2427,
    "start_time": "2022-07-20T16:41:54.953Z"
   },
   {
    "duration": 24,
    "start_time": "2022-07-20T16:50:29.363Z"
   },
   {
    "duration": 1719,
    "start_time": "2022-07-20T16:50:38.587Z"
   },
   {
    "duration": 635,
    "start_time": "2022-07-20T16:50:40.309Z"
   },
   {
    "duration": 29,
    "start_time": "2022-07-20T16:50:40.946Z"
   },
   {
    "duration": 36,
    "start_time": "2022-07-20T16:50:40.983Z"
   },
   {
    "duration": 6,
    "start_time": "2022-07-20T16:50:41.022Z"
   },
   {
    "duration": 16,
    "start_time": "2022-07-20T16:50:41.030Z"
   },
   {
    "duration": 24,
    "start_time": "2022-07-20T16:50:41.048Z"
   },
   {
    "duration": 5,
    "start_time": "2022-07-20T16:50:41.074Z"
   },
   {
    "duration": 32,
    "start_time": "2022-07-20T16:50:41.081Z"
   },
   {
    "duration": 8,
    "start_time": "2022-07-20T16:50:41.114Z"
   },
   {
    "duration": 13,
    "start_time": "2022-07-20T16:50:41.124Z"
   },
   {
    "duration": 9,
    "start_time": "2022-07-20T16:50:41.139Z"
   },
   {
    "duration": 27,
    "start_time": "2022-07-20T16:50:41.149Z"
   },
   {
    "duration": 30,
    "start_time": "2022-07-20T16:50:41.182Z"
   },
   {
    "duration": 6,
    "start_time": "2022-07-20T16:50:41.214Z"
   },
   {
    "duration": 7,
    "start_time": "2022-07-20T16:50:41.222Z"
   },
   {
    "duration": 7,
    "start_time": "2022-07-20T16:50:41.230Z"
   },
   {
    "duration": 225,
    "start_time": "2022-07-20T16:50:41.239Z"
   },
   {
    "duration": 22,
    "start_time": "2022-07-20T16:50:41.467Z"
   },
   {
    "duration": 40,
    "start_time": "2022-07-20T16:50:41.492Z"
   },
   {
    "duration": 7,
    "start_time": "2022-07-20T16:50:41.534Z"
   },
   {
    "duration": 16,
    "start_time": "2022-07-20T16:50:41.542Z"
   },
   {
    "duration": 3,
    "start_time": "2022-07-20T16:50:41.560Z"
   },
   {
    "duration": 51,
    "start_time": "2022-07-20T16:50:41.569Z"
   },
   {
    "duration": 82,
    "start_time": "2022-07-20T16:50:41.622Z"
   },
   {
    "duration": 30,
    "start_time": "2022-07-20T16:50:41.768Z"
   },
   {
    "duration": 14,
    "start_time": "2022-07-20T16:50:41.800Z"
   },
   {
    "duration": 8,
    "start_time": "2022-07-20T16:50:41.816Z"
   },
   {
    "duration": 171,
    "start_time": "2022-07-20T16:50:41.826Z"
   },
   {
    "duration": 8,
    "start_time": "2022-07-20T16:50:41.998Z"
   },
   {
    "duration": 23,
    "start_time": "2022-07-20T16:50:42.010Z"
   },
   {
    "duration": 9,
    "start_time": "2022-07-20T16:50:42.035Z"
   },
   {
    "duration": 24,
    "start_time": "2022-07-20T16:50:42.046Z"
   },
   {
    "duration": 45,
    "start_time": "2022-07-20T16:50:42.072Z"
   },
   {
    "duration": 14,
    "start_time": "2022-07-20T16:50:42.165Z"
   },
   {
    "duration": 123,
    "start_time": "2022-07-20T16:50:42.181Z"
   },
   {
    "duration": 15,
    "start_time": "2022-07-20T16:50:42.306Z"
   },
   {
    "duration": 11,
    "start_time": "2022-07-20T16:50:42.323Z"
   },
   {
    "duration": 199,
    "start_time": "2022-07-20T16:50:42.335Z"
   },
   {
    "duration": 6,
    "start_time": "2022-07-20T16:50:42.537Z"
   },
   {
    "duration": 68,
    "start_time": "2022-07-20T16:50:42.548Z"
   },
   {
    "duration": 19,
    "start_time": "2022-07-20T16:50:42.619Z"
   },
   {
    "duration": 80,
    "start_time": "2022-07-20T16:50:42.640Z"
   },
   {
    "duration": 40,
    "start_time": "2022-07-20T16:50:42.723Z"
   },
   {
    "duration": 13,
    "start_time": "2022-07-20T16:50:42.776Z"
   },
   {
    "duration": 123,
    "start_time": "2022-07-20T16:50:42.791Z"
   },
   {
    "duration": 18,
    "start_time": "2022-07-20T16:50:42.917Z"
   },
   {
    "duration": 38,
    "start_time": "2022-07-20T16:50:42.937Z"
   },
   {
    "duration": 44,
    "start_time": "2022-07-20T16:50:42.977Z"
   },
   {
    "duration": 12,
    "start_time": "2022-07-20T16:50:43.024Z"
   },
   {
    "duration": 4,
    "start_time": "2022-07-20T16:50:43.038Z"
   },
   {
    "duration": 2350,
    "start_time": "2022-07-20T16:50:43.043Z"
   },
   {
    "duration": 2271,
    "start_time": "2022-07-20T16:50:45.397Z"
   },
   {
    "duration": 2262,
    "start_time": "2022-07-20T16:50:47.670Z"
   },
   {
    "duration": 47,
    "start_time": "2022-07-22T19:35:58.573Z"
   },
   {
    "duration": 1558,
    "start_time": "2022-07-22T19:36:15.916Z"
   },
   {
    "duration": 738,
    "start_time": "2022-07-22T19:36:17.476Z"
   },
   {
    "duration": 17,
    "start_time": "2022-07-22T19:36:18.215Z"
   },
   {
    "duration": 17,
    "start_time": "2022-07-22T19:36:18.234Z"
   },
   {
    "duration": 3,
    "start_time": "2022-07-22T19:36:18.253Z"
   },
   {
    "duration": 13,
    "start_time": "2022-07-22T19:36:18.258Z"
   },
   {
    "duration": 15,
    "start_time": "2022-07-22T19:36:18.272Z"
   },
   {
    "duration": 3,
    "start_time": "2022-07-22T19:36:18.289Z"
   },
   {
    "duration": 14,
    "start_time": "2022-07-22T19:36:18.294Z"
   },
   {
    "duration": 3,
    "start_time": "2022-07-22T19:36:18.311Z"
   },
   {
    "duration": 14,
    "start_time": "2022-07-22T19:36:18.316Z"
   },
   {
    "duration": 29,
    "start_time": "2022-07-22T19:36:18.332Z"
   },
   {
    "duration": 13,
    "start_time": "2022-07-22T19:36:18.362Z"
   },
   {
    "duration": 8,
    "start_time": "2022-07-22T19:36:18.377Z"
   },
   {
    "duration": 5,
    "start_time": "2022-07-22T19:36:18.387Z"
   },
   {
    "duration": 8,
    "start_time": "2022-07-22T19:36:18.393Z"
   },
   {
    "duration": 4,
    "start_time": "2022-07-22T19:36:18.402Z"
   },
   {
    "duration": 160,
    "start_time": "2022-07-22T19:36:18.408Z"
   },
   {
    "duration": 11,
    "start_time": "2022-07-22T19:36:18.570Z"
   },
   {
    "duration": 6,
    "start_time": "2022-07-22T19:36:18.583Z"
   },
   {
    "duration": 7,
    "start_time": "2022-07-22T19:36:18.590Z"
   },
   {
    "duration": 18,
    "start_time": "2022-07-22T19:36:18.599Z"
   },
   {
    "duration": 8,
    "start_time": "2022-07-22T19:36:18.618Z"
   },
   {
    "duration": 139,
    "start_time": "2022-07-22T19:36:18.627Z"
   },
   {
    "duration": 96,
    "start_time": "2022-07-22T19:36:18.768Z"
   },
   {
    "duration": 9,
    "start_time": "2022-07-22T19:36:18.865Z"
   },
   {
    "duration": 13,
    "start_time": "2022-07-22T19:36:18.876Z"
   },
   {
    "duration": 9,
    "start_time": "2022-07-22T19:36:18.892Z"
   },
   {
    "duration": 196,
    "start_time": "2022-07-22T19:36:18.903Z"
   },
   {
    "duration": 5,
    "start_time": "2022-07-22T19:36:19.100Z"
   },
   {
    "duration": 12,
    "start_time": "2022-07-22T19:36:19.106Z"
   },
   {
    "duration": 7,
    "start_time": "2022-07-22T19:36:19.120Z"
   },
   {
    "duration": 33,
    "start_time": "2022-07-22T19:36:19.128Z"
   },
   {
    "duration": 21,
    "start_time": "2022-07-22T19:36:19.162Z"
   },
   {
    "duration": 175,
    "start_time": "2022-07-22T19:36:19.185Z"
   },
   {
    "duration": 9,
    "start_time": "2022-07-22T19:36:19.362Z"
   },
   {
    "duration": 13,
    "start_time": "2022-07-22T19:36:19.372Z"
   },
   {
    "duration": 7,
    "start_time": "2022-07-22T19:36:19.387Z"
   },
   {
    "duration": 154,
    "start_time": "2022-07-22T19:36:19.395Z"
   },
   {
    "duration": 10,
    "start_time": "2022-07-22T19:36:19.551Z"
   },
   {
    "duration": 10,
    "start_time": "2022-07-22T19:36:19.563Z"
   },
   {
    "duration": 7,
    "start_time": "2022-07-22T19:36:19.574Z"
   },
   {
    "duration": 13,
    "start_time": "2022-07-22T19:36:19.583Z"
   },
   {
    "duration": 65,
    "start_time": "2022-07-22T19:36:19.597Z"
   },
   {
    "duration": 97,
    "start_time": "2022-07-22T19:36:19.664Z"
   },
   {
    "duration": 4,
    "start_time": "2022-07-22T19:36:19.763Z"
   },
   {
    "duration": 7,
    "start_time": "2022-07-22T19:36:19.769Z"
   },
   {
    "duration": 11,
    "start_time": "2022-07-22T19:36:19.777Z"
   },
   {
    "duration": 15,
    "start_time": "2022-07-22T19:36:19.789Z"
   },
   {
    "duration": 98,
    "start_time": "2022-07-22T19:36:19.805Z"
   },
   {
    "duration": 3,
    "start_time": "2022-07-22T19:36:19.905Z"
   },
   {
    "duration": 1962,
    "start_time": "2022-07-22T19:36:19.909Z"
   },
   {
    "duration": 1867,
    "start_time": "2022-07-22T19:36:21.873Z"
   },
   {
    "duration": 1890,
    "start_time": "2022-07-22T19:36:23.742Z"
   },
   {
    "duration": 1366,
    "start_time": "2022-07-22T19:47:00.298Z"
   },
   {
    "duration": 359,
    "start_time": "2022-07-22T19:47:01.666Z"
   },
   {
    "duration": 16,
    "start_time": "2022-07-22T19:47:02.027Z"
   },
   {
    "duration": 23,
    "start_time": "2022-07-22T19:47:02.045Z"
   },
   {
    "duration": 4,
    "start_time": "2022-07-22T19:47:02.070Z"
   },
   {
    "duration": 30,
    "start_time": "2022-07-22T19:47:02.075Z"
   },
   {
    "duration": 18,
    "start_time": "2022-07-22T19:47:02.107Z"
   },
   {
    "duration": 3,
    "start_time": "2022-07-22T19:47:02.127Z"
   },
   {
    "duration": 16,
    "start_time": "2022-07-22T19:47:02.132Z"
   },
   {
    "duration": 3,
    "start_time": "2022-07-22T19:47:02.160Z"
   },
   {
    "duration": 20,
    "start_time": "2022-07-22T19:47:02.165Z"
   },
   {
    "duration": 14,
    "start_time": "2022-07-22T19:47:02.187Z"
   },
   {
    "duration": 13,
    "start_time": "2022-07-22T19:47:02.203Z"
   },
   {
    "duration": 9,
    "start_time": "2022-07-22T19:47:02.217Z"
   },
   {
    "duration": 5,
    "start_time": "2022-07-22T19:47:02.228Z"
   },
   {
    "duration": 15,
    "start_time": "2022-07-22T19:47:02.234Z"
   },
   {
    "duration": 10,
    "start_time": "2022-07-22T19:47:02.250Z"
   },
   {
    "duration": 148,
    "start_time": "2022-07-22T19:47:02.261Z"
   },
   {
    "duration": 10,
    "start_time": "2022-07-22T19:47:02.410Z"
   },
   {
    "duration": 14,
    "start_time": "2022-07-22T19:47:02.421Z"
   },
   {
    "duration": 6,
    "start_time": "2022-07-22T19:47:02.436Z"
   },
   {
    "duration": 22,
    "start_time": "2022-07-22T19:47:02.444Z"
   },
   {
    "duration": 7,
    "start_time": "2022-07-22T19:47:02.468Z"
   },
   {
    "duration": 86,
    "start_time": "2022-07-22T19:47:02.476Z"
   },
   {
    "duration": 97,
    "start_time": "2022-07-22T19:47:02.564Z"
   },
   {
    "duration": 5,
    "start_time": "2022-07-22T19:47:02.663Z"
   },
   {
    "duration": 17,
    "start_time": "2022-07-22T19:47:02.670Z"
   },
   {
    "duration": 18,
    "start_time": "2022-07-22T19:47:02.691Z"
   },
   {
    "duration": 154,
    "start_time": "2022-07-22T19:47:02.710Z"
   },
   {
    "duration": 5,
    "start_time": "2022-07-22T19:47:02.866Z"
   },
   {
    "duration": 12,
    "start_time": "2022-07-22T19:47:02.873Z"
   },
   {
    "duration": 5,
    "start_time": "2022-07-22T19:47:02.887Z"
   },
   {
    "duration": 15,
    "start_time": "2022-07-22T19:47:02.894Z"
   },
   {
    "duration": 52,
    "start_time": "2022-07-22T19:47:02.910Z"
   },
   {
    "duration": 97,
    "start_time": "2022-07-22T19:47:02.964Z"
   },
   {
    "duration": 12,
    "start_time": "2022-07-22T19:47:03.063Z"
   },
   {
    "duration": 12,
    "start_time": "2022-07-22T19:47:03.076Z"
   },
   {
    "duration": 8,
    "start_time": "2022-07-22T19:47:03.090Z"
   },
   {
    "duration": 151,
    "start_time": "2022-07-22T19:47:03.099Z"
   },
   {
    "duration": 4,
    "start_time": "2022-07-22T19:47:03.252Z"
   },
   {
    "duration": 11,
    "start_time": "2022-07-22T19:47:03.261Z"
   },
   {
    "duration": 6,
    "start_time": "2022-07-22T19:47:03.273Z"
   },
   {
    "duration": 12,
    "start_time": "2022-07-22T19:47:03.281Z"
   },
   {
    "duration": 66,
    "start_time": "2022-07-22T19:47:03.295Z"
   },
   {
    "duration": 98,
    "start_time": "2022-07-22T19:47:03.363Z"
   },
   {
    "duration": 7,
    "start_time": "2022-07-22T19:47:03.463Z"
   },
   {
    "duration": 9,
    "start_time": "2022-07-22T19:47:03.471Z"
   },
   {
    "duration": 12,
    "start_time": "2022-07-22T19:47:03.482Z"
   },
   {
    "duration": 9,
    "start_time": "2022-07-22T19:47:03.496Z"
   },
   {
    "duration": 8,
    "start_time": "2022-07-22T19:47:03.507Z"
   },
   {
    "duration": 3,
    "start_time": "2022-07-22T19:47:03.517Z"
   },
   {
    "duration": 2024,
    "start_time": "2022-07-22T19:47:03.522Z"
   },
   {
    "duration": 2088,
    "start_time": "2022-07-22T19:47:05.547Z"
   },
   {
    "duration": 2019,
    "start_time": "2022-07-22T19:47:07.636Z"
   },
   {
    "duration": 11,
    "start_time": "2022-07-22T19:52:05.166Z"
   },
   {
    "duration": 12,
    "start_time": "2022-07-22T20:10:22.252Z"
   },
   {
    "duration": 11,
    "start_time": "2022-07-22T20:10:56.032Z"
   },
   {
    "duration": 1411,
    "start_time": "2022-07-22T20:11:02.161Z"
   },
   {
    "duration": 363,
    "start_time": "2022-07-22T20:11:03.575Z"
   },
   {
    "duration": 15,
    "start_time": "2022-07-22T20:11:03.940Z"
   },
   {
    "duration": 13,
    "start_time": "2022-07-22T20:11:03.960Z"
   },
   {
    "duration": 4,
    "start_time": "2022-07-22T20:11:03.975Z"
   },
   {
    "duration": 12,
    "start_time": "2022-07-22T20:11:03.981Z"
   },
   {
    "duration": 19,
    "start_time": "2022-07-22T20:11:03.994Z"
   },
   {
    "duration": 3,
    "start_time": "2022-07-22T20:11:04.014Z"
   },
   {
    "duration": 16,
    "start_time": "2022-07-22T20:11:04.019Z"
   },
   {
    "duration": 24,
    "start_time": "2022-07-22T20:11:04.037Z"
   },
   {
    "duration": 13,
    "start_time": "2022-07-22T20:11:04.063Z"
   },
   {
    "duration": 12,
    "start_time": "2022-07-22T20:11:04.078Z"
   },
   {
    "duration": 17,
    "start_time": "2022-07-22T20:11:04.092Z"
   },
   {
    "duration": 6,
    "start_time": "2022-07-22T20:11:04.112Z"
   },
   {
    "duration": 15,
    "start_time": "2022-07-22T20:11:04.119Z"
   },
   {
    "duration": 10,
    "start_time": "2022-07-22T20:11:04.135Z"
   },
   {
    "duration": 8,
    "start_time": "2022-07-22T20:11:04.147Z"
   },
   {
    "duration": 150,
    "start_time": "2022-07-22T20:11:04.156Z"
   },
   {
    "duration": 11,
    "start_time": "2022-07-22T20:11:04.307Z"
   },
   {
    "duration": 10,
    "start_time": "2022-07-22T20:11:04.320Z"
   },
   {
    "duration": 14,
    "start_time": "2022-07-22T20:11:04.332Z"
   },
   {
    "duration": 20,
    "start_time": "2022-07-22T20:11:04.348Z"
   },
   {
    "duration": 16,
    "start_time": "2022-07-22T20:11:04.369Z"
   },
   {
    "duration": 76,
    "start_time": "2022-07-22T20:11:04.387Z"
   },
   {
    "duration": 100,
    "start_time": "2022-07-22T20:11:04.465Z"
   },
   {
    "duration": 16,
    "start_time": "2022-07-22T20:11:04.567Z"
   },
   {
    "duration": 23,
    "start_time": "2022-07-22T20:11:04.585Z"
   },
   {
    "duration": 16,
    "start_time": "2022-07-22T20:11:04.609Z"
   },
   {
    "duration": 157,
    "start_time": "2022-07-22T20:11:04.626Z"
   },
   {
    "duration": 4,
    "start_time": "2022-07-22T20:11:04.785Z"
   },
   {
    "duration": 13,
    "start_time": "2022-07-22T20:11:04.790Z"
   },
   {
    "duration": 5,
    "start_time": "2022-07-22T20:11:04.805Z"
   },
   {
    "duration": 22,
    "start_time": "2022-07-22T20:11:04.812Z"
   },
   {
    "duration": 32,
    "start_time": "2022-07-22T20:11:04.836Z"
   },
   {
    "duration": 195,
    "start_time": "2022-07-22T20:11:04.869Z"
   },
   {
    "duration": 28,
    "start_time": "2022-07-22T20:11:05.066Z"
   },
   {
    "duration": 28,
    "start_time": "2022-07-22T20:11:05.096Z"
   },
   {
    "duration": 25,
    "start_time": "2022-07-22T20:11:05.126Z"
   },
   {
    "duration": 176,
    "start_time": "2022-07-22T20:11:05.153Z"
   },
   {
    "duration": 4,
    "start_time": "2022-07-22T20:11:05.331Z"
   },
   {
    "duration": 32,
    "start_time": "2022-07-22T20:11:05.339Z"
   },
   {
    "duration": 14,
    "start_time": "2022-07-22T20:11:05.373Z"
   },
   {
    "duration": 33,
    "start_time": "2022-07-22T20:11:05.389Z"
   },
   {
    "duration": 39,
    "start_time": "2022-07-22T20:11:05.424Z"
   },
   {
    "duration": 100,
    "start_time": "2022-07-22T20:11:05.465Z"
   },
   {
    "duration": 18,
    "start_time": "2022-07-22T20:11:05.567Z"
   },
   {
    "duration": 34,
    "start_time": "2022-07-22T20:11:05.587Z"
   },
   {
    "duration": 30,
    "start_time": "2022-07-22T20:11:05.623Z"
   },
   {
    "duration": 38,
    "start_time": "2022-07-22T20:11:05.655Z"
   },
   {
    "duration": 36,
    "start_time": "2022-07-22T20:11:05.694Z"
   },
   {
    "duration": 16,
    "start_time": "2022-07-22T20:11:05.731Z"
   },
   {
    "duration": 2044,
    "start_time": "2022-07-22T20:11:05.748Z"
   },
   {
    "duration": 1930,
    "start_time": "2022-07-22T20:11:07.793Z"
   },
   {
    "duration": 1897,
    "start_time": "2022-07-22T20:11:09.724Z"
   },
   {
    "duration": 1500,
    "start_time": "2022-07-22T20:21:00.382Z"
   },
   {
    "duration": 415,
    "start_time": "2022-07-22T20:21:01.885Z"
   },
   {
    "duration": 16,
    "start_time": "2022-07-22T20:21:02.302Z"
   },
   {
    "duration": 31,
    "start_time": "2022-07-22T20:21:02.320Z"
   },
   {
    "duration": 32,
    "start_time": "2022-07-22T20:21:02.353Z"
   },
   {
    "duration": 23,
    "start_time": "2022-07-22T20:21:02.386Z"
   },
   {
    "duration": 41,
    "start_time": "2022-07-22T20:21:02.411Z"
   },
   {
    "duration": 28,
    "start_time": "2022-07-22T20:21:02.454Z"
   },
   {
    "duration": 30,
    "start_time": "2022-07-22T20:21:02.484Z"
   },
   {
    "duration": 11,
    "start_time": "2022-07-22T20:21:02.516Z"
   },
   {
    "duration": 54,
    "start_time": "2022-07-22T20:21:02.529Z"
   },
   {
    "duration": 42,
    "start_time": "2022-07-22T20:21:02.585Z"
   },
   {
    "duration": 57,
    "start_time": "2022-07-22T20:21:02.629Z"
   },
   {
    "duration": 31,
    "start_time": "2022-07-22T20:21:02.688Z"
   },
   {
    "duration": 23,
    "start_time": "2022-07-22T20:21:02.721Z"
   },
   {
    "duration": 40,
    "start_time": "2022-07-22T20:21:02.745Z"
   },
   {
    "duration": 20,
    "start_time": "2022-07-22T20:21:02.787Z"
   },
   {
    "duration": 199,
    "start_time": "2022-07-22T20:21:02.809Z"
   },
   {
    "duration": 12,
    "start_time": "2022-07-22T20:21:03.010Z"
   },
   {
    "duration": 24,
    "start_time": "2022-07-22T20:21:03.023Z"
   },
   {
    "duration": 39,
    "start_time": "2022-07-22T20:21:03.049Z"
   },
   {
    "duration": 26,
    "start_time": "2022-07-22T20:21:03.090Z"
   },
   {
    "duration": 12,
    "start_time": "2022-07-22T20:21:03.118Z"
   },
   {
    "duration": 28,
    "start_time": "2022-07-22T20:21:03.132Z"
   },
   {
    "duration": 12,
    "start_time": "2022-07-22T20:21:03.161Z"
   },
   {
    "duration": 121,
    "start_time": "2022-07-22T20:21:03.175Z"
   },
   {
    "duration": 17,
    "start_time": "2022-07-22T20:21:03.299Z"
   },
   {
    "duration": 6,
    "start_time": "2022-07-22T20:21:03.321Z"
   },
   {
    "duration": 166,
    "start_time": "2022-07-22T20:21:03.361Z"
   },
   {
    "duration": 5,
    "start_time": "2022-07-22T20:21:03.528Z"
   },
   {
    "duration": 39,
    "start_time": "2022-07-22T20:21:03.536Z"
   },
   {
    "duration": 7,
    "start_time": "2022-07-22T20:21:03.578Z"
   },
   {
    "duration": 21,
    "start_time": "2022-07-22T20:21:03.587Z"
   },
   {
    "duration": 72,
    "start_time": "2022-07-22T20:21:03.610Z"
   },
   {
    "duration": 99,
    "start_time": "2022-07-22T20:21:03.689Z"
   },
   {
    "duration": 15,
    "start_time": "2022-07-22T20:21:03.791Z"
   },
   {
    "duration": 17,
    "start_time": "2022-07-22T20:21:03.808Z"
   },
   {
    "duration": 14,
    "start_time": "2022-07-22T20:21:03.827Z"
   },
   {
    "duration": 170,
    "start_time": "2022-07-22T20:21:03.843Z"
   },
   {
    "duration": 5,
    "start_time": "2022-07-22T20:21:04.014Z"
   },
   {
    "duration": 16,
    "start_time": "2022-07-22T20:21:04.020Z"
   },
   {
    "duration": 6,
    "start_time": "2022-07-22T20:21:04.038Z"
   },
   {
    "duration": 27,
    "start_time": "2022-07-22T20:21:04.046Z"
   },
   {
    "duration": 33,
    "start_time": "2022-07-22T20:21:04.075Z"
   },
   {
    "duration": 151,
    "start_time": "2022-07-22T20:21:04.110Z"
   },
   {
    "duration": 32,
    "start_time": "2022-07-22T20:21:04.264Z"
   },
   {
    "duration": 5,
    "start_time": "2022-07-22T20:21:04.298Z"
   },
   {
    "duration": 17,
    "start_time": "2022-07-22T20:21:04.304Z"
   },
   {
    "duration": 10,
    "start_time": "2022-07-22T20:21:04.323Z"
   },
   {
    "duration": 10,
    "start_time": "2022-07-22T20:21:04.335Z"
   },
   {
    "duration": 4,
    "start_time": "2022-07-22T20:21:04.347Z"
   },
   {
    "duration": 2347,
    "start_time": "2022-07-22T20:21:04.353Z"
   },
   {
    "duration": 2097,
    "start_time": "2022-07-22T20:21:06.702Z"
   },
   {
    "duration": 2158,
    "start_time": "2022-07-22T20:21:08.801Z"
   },
   {
    "duration": 1842,
    "start_time": "2022-07-22T21:28:19.312Z"
   },
   {
    "duration": 931,
    "start_time": "2022-07-22T21:28:21.156Z"
   },
   {
    "duration": 21,
    "start_time": "2022-07-22T21:28:22.089Z"
   },
   {
    "duration": 20,
    "start_time": "2022-07-22T21:28:22.113Z"
   },
   {
    "duration": 4,
    "start_time": "2022-07-22T21:28:22.135Z"
   },
   {
    "duration": 21,
    "start_time": "2022-07-22T21:28:22.141Z"
   },
   {
    "duration": 37,
    "start_time": "2022-07-22T21:28:22.166Z"
   },
   {
    "duration": 10,
    "start_time": "2022-07-22T21:28:22.205Z"
   },
   {
    "duration": 24,
    "start_time": "2022-07-22T21:28:22.217Z"
   },
   {
    "duration": 4,
    "start_time": "2022-07-22T21:28:22.243Z"
   },
   {
    "duration": 15,
    "start_time": "2022-07-22T21:28:23.530Z"
   },
   {
    "duration": 4,
    "start_time": "2022-07-22T21:28:23.855Z"
   },
   {
    "duration": 13,
    "start_time": "2022-07-22T21:28:25.702Z"
   },
   {
    "duration": 8,
    "start_time": "2022-07-22T21:28:26.542Z"
   },
   {
    "duration": 10,
    "start_time": "2022-07-22T21:28:27.682Z"
   },
   {
    "duration": 4,
    "start_time": "2022-07-22T21:28:28.091Z"
   },
   {
    "duration": 4,
    "start_time": "2022-07-22T21:28:28.452Z"
   },
   {
    "duration": 172,
    "start_time": "2022-07-22T21:28:28.885Z"
   },
   {
    "duration": 13,
    "start_time": "2022-07-22T21:28:29.504Z"
   },
   {
    "duration": 7,
    "start_time": "2022-07-22T21:28:30.211Z"
   },
   {
    "duration": 4,
    "start_time": "2022-07-22T21:28:32.440Z"
   },
   {
    "duration": 14,
    "start_time": "2022-07-22T21:28:34.217Z"
   },
   {
    "duration": 6,
    "start_time": "2022-07-22T21:28:45.698Z"
   },
   {
    "duration": 5,
    "start_time": "2022-07-22T21:28:59.714Z"
   },
   {
    "duration": 6,
    "start_time": "2022-07-22T21:29:03.300Z"
   },
   {
    "duration": 151,
    "start_time": "2022-07-22T21:29:09.781Z"
   },
   {
    "duration": 6,
    "start_time": "2022-07-22T21:29:12.599Z"
   },
   {
    "duration": 16,
    "start_time": "2022-07-22T21:29:15.595Z"
   },
   {
    "duration": 43,
    "start_time": "2022-07-22T21:29:19.358Z"
   },
   {
    "duration": 7,
    "start_time": "2022-07-22T21:29:28.201Z"
   },
   {
    "duration": 4,
    "start_time": "2022-07-22T21:29:31.537Z"
   },
   {
    "duration": 12,
    "start_time": "2022-07-22T21:29:32.031Z"
   },
   {
    "duration": 6,
    "start_time": "2022-07-22T21:29:33.987Z"
   },
   {
    "duration": 163,
    "start_time": "2022-07-22T21:29:34.220Z"
   },
   {
    "duration": 6,
    "start_time": "2022-07-22T21:29:34.901Z"
   },
   {
    "duration": 17,
    "start_time": "2022-07-22T21:29:45.963Z"
   },
   {
    "duration": 8,
    "start_time": "2022-07-22T21:29:46.434Z"
   },
   {
    "duration": 19,
    "start_time": "2022-07-22T21:29:49.875Z"
   },
   {
    "duration": 4,
    "start_time": "2022-07-22T21:29:55.799Z"
   },
   {
    "duration": 517,
    "start_time": "2022-07-22T21:35:46.197Z"
   },
   {
    "duration": 32,
    "start_time": "2022-07-22T21:35:54.939Z"
   },
   {
    "duration": 16,
    "start_time": "2022-07-22T21:36:02.193Z"
   },
   {
    "duration": 149,
    "start_time": "2022-07-22T21:39:13.323Z"
   },
   {
    "duration": 12,
    "start_time": "2022-07-22T21:39:33.628Z"
   },
   {
    "duration": 35,
    "start_time": "2022-07-22T21:39:53.050Z"
   },
   {
    "duration": 5,
    "start_time": "2022-07-22T21:44:20.580Z"
   },
   {
    "duration": 5,
    "start_time": "2022-07-22T21:44:25.437Z"
   },
   {
    "duration": 5,
    "start_time": "2022-07-22T21:44:30.082Z"
   },
   {
    "duration": 7,
    "start_time": "2022-07-22T21:44:35.105Z"
   },
   {
    "duration": 6,
    "start_time": "2022-07-22T21:44:39.589Z"
   },
   {
    "duration": 15,
    "start_time": "2022-07-22T21:45:12.445Z"
   },
   {
    "duration": 11,
    "start_time": "2022-07-22T21:45:12.850Z"
   },
   {
    "duration": 36,
    "start_time": "2022-07-22T21:45:13.533Z"
   },
   {
    "duration": 431,
    "start_time": "2022-07-22T21:45:31.453Z"
   },
   {
    "duration": 8,
    "start_time": "2022-07-22T21:45:37.168Z"
   },
   {
    "duration": 148,
    "start_time": "2022-07-22T21:45:37.332Z"
   },
   {
    "duration": 12,
    "start_time": "2022-07-22T21:45:51.546Z"
   },
   {
    "duration": 9,
    "start_time": "2022-07-22T21:45:52.084Z"
   },
   {
    "duration": 15,
    "start_time": "2022-07-22T21:45:52.774Z"
   },
   {
    "duration": 3,
    "start_time": "2022-07-22T21:45:54.827Z"
   },
   {
    "duration": 25,
    "start_time": "2022-07-22T21:45:55.661Z"
   },
   {
    "duration": 1662,
    "start_time": "2022-07-23T01:43:18.323Z"
   },
   {
    "duration": 881,
    "start_time": "2022-07-23T01:43:19.987Z"
   },
   {
    "duration": 15,
    "start_time": "2022-07-23T01:43:20.870Z"
   },
   {
    "duration": 15,
    "start_time": "2022-07-23T01:43:20.887Z"
   },
   {
    "duration": 4,
    "start_time": "2022-07-23T01:43:20.903Z"
   },
   {
    "duration": 13,
    "start_time": "2022-07-23T01:43:20.908Z"
   },
   {
    "duration": 42,
    "start_time": "2022-07-23T01:43:20.922Z"
   },
   {
    "duration": 4,
    "start_time": "2022-07-23T01:43:20.966Z"
   },
   {
    "duration": 19,
    "start_time": "2022-07-23T01:43:20.972Z"
   },
   {
    "duration": 4,
    "start_time": "2022-07-23T01:43:20.995Z"
   },
   {
    "duration": 21,
    "start_time": "2022-07-23T01:43:21.000Z"
   },
   {
    "duration": 17,
    "start_time": "2022-07-23T01:43:21.023Z"
   },
   {
    "duration": 31,
    "start_time": "2022-07-23T01:43:21.042Z"
   },
   {
    "duration": 8,
    "start_time": "2022-07-23T01:43:21.075Z"
   },
   {
    "duration": 8,
    "start_time": "2022-07-23T01:43:21.085Z"
   },
   {
    "duration": 8,
    "start_time": "2022-07-23T01:43:21.094Z"
   },
   {
    "duration": 9,
    "start_time": "2022-07-23T01:43:21.103Z"
   },
   {
    "duration": 174,
    "start_time": "2022-07-23T01:43:21.113Z"
   },
   {
    "duration": 10,
    "start_time": "2022-07-23T01:43:21.289Z"
   },
   {
    "duration": 6,
    "start_time": "2022-07-23T01:43:21.301Z"
   },
   {
    "duration": 12,
    "start_time": "2022-07-23T01:43:21.309Z"
   },
   {
    "duration": 25,
    "start_time": "2022-07-23T01:43:21.323Z"
   },
   {
    "duration": 12,
    "start_time": "2022-07-23T01:43:21.359Z"
   },
   {
    "duration": 183,
    "start_time": "2022-07-23T01:43:21.373Z"
   },
   {
    "duration": 7,
    "start_time": "2022-07-23T01:43:21.559Z"
   },
   {
    "duration": 21,
    "start_time": "2022-07-23T01:43:21.568Z"
   },
   {
    "duration": 20,
    "start_time": "2022-07-23T01:43:21.646Z"
   },
   {
    "duration": 9,
    "start_time": "2022-07-23T01:43:21.670Z"
   },
   {
    "duration": 169,
    "start_time": "2022-07-23T01:43:21.680Z"
   },
   {
    "duration": 7,
    "start_time": "2022-07-23T01:43:21.851Z"
   },
   {
    "duration": 21,
    "start_time": "2022-07-23T01:43:21.861Z"
   },
   {
    "duration": 6,
    "start_time": "2022-07-23T01:43:21.884Z"
   },
   {
    "duration": 17,
    "start_time": "2022-07-23T01:43:21.892Z"
   },
   {
    "duration": 45,
    "start_time": "2022-07-23T01:43:21.911Z"
   },
   {
    "duration": 96,
    "start_time": "2022-07-23T01:43:21.963Z"
   },
   {
    "duration": 27,
    "start_time": "2022-07-23T01:43:22.062Z"
   },
   {
    "duration": 17,
    "start_time": "2022-07-23T01:43:22.091Z"
   },
   {
    "duration": 36,
    "start_time": "2022-07-23T01:43:22.110Z"
   },
   {
    "duration": 167,
    "start_time": "2022-07-23T01:43:22.149Z"
   },
   {
    "duration": 6,
    "start_time": "2022-07-23T01:43:22.318Z"
   },
   {
    "duration": 21,
    "start_time": "2022-07-23T01:43:22.325Z"
   },
   {
    "duration": 11,
    "start_time": "2022-07-23T01:43:22.355Z"
   },
   {
    "duration": 14,
    "start_time": "2022-07-23T01:43:22.368Z"
   },
   {
    "duration": 60,
    "start_time": "2022-07-23T01:43:22.385Z"
   },
   {
    "duration": 16,
    "start_time": "2022-07-23T01:43:22.446Z"
   },
   {
    "duration": 104,
    "start_time": "2022-07-23T01:43:22.464Z"
   },
   {
    "duration": 6,
    "start_time": "2022-07-23T01:43:22.570Z"
   },
   {
    "duration": 15,
    "start_time": "2022-07-23T01:43:22.577Z"
   },
   {
    "duration": 11,
    "start_time": "2022-07-23T01:43:22.593Z"
   },
   {
    "duration": 21,
    "start_time": "2022-07-23T01:43:22.606Z"
   },
   {
    "duration": 96,
    "start_time": "2022-07-23T01:43:22.629Z"
   },
   {
    "duration": 2035,
    "start_time": "2022-07-23T01:43:22.727Z"
   },
   {
    "duration": 1955,
    "start_time": "2022-07-23T01:43:24.764Z"
   },
   {
    "duration": 1968,
    "start_time": "2022-07-23T01:43:26.720Z"
   },
   {
    "duration": 51,
    "start_time": "2022-07-23T01:47:29.237Z"
   }
  ],
  "kernelspec": {
   "display_name": "Python 3 (ipykernel)",
   "language": "python",
   "name": "python3"
  },
  "language_info": {
   "codemirror_mode": {
    "name": "ipython",
    "version": 3
   },
   "file_extension": ".py",
   "mimetype": "text/x-python",
   "name": "python",
   "nbconvert_exporter": "python",
   "pygments_lexer": "ipython3",
   "version": "3.9.12"
  },
  "toc": {
   "base_numbering": 1,
   "nav_menu": {},
   "number_sections": true,
   "sideBar": true,
   "skip_h1_title": true,
   "title_cell": "Table of Contents",
   "title_sidebar": "Contents",
   "toc_cell": false,
   "toc_position": {},
   "toc_section_display": true,
   "toc_window_display": false
  }
 },
 "nbformat": 4,
 "nbformat_minor": 2
}
